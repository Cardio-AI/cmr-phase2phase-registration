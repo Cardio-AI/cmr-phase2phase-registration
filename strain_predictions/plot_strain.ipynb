{
 "cells": [
  {
   "cell_type": "markdown",
   "id": "82b8652b",
   "metadata": {
    "tags": []
   },
   "source": [
    "# Select strain_data as data directory"
   ]
  },
  {
   "cell_type": "code",
   "execution_count": 1,
   "id": "31b9da4f",
   "metadata": {
    "ExecuteTime": {
     "end_time": "2023-11-28T17:40:58.283717954Z",
     "start_time": "2023-11-28T17:40:58.117100984Z"
    },
    "tags": []
   },
   "outputs": [],
   "source": [
    "import os\n",
    "print(os.getcwd())\n",
    "os.chdir('/mnt/ssd/git/dynamic-cmr-models/')\n",
    "from ProjectRoot import change_wd_to_project_root\n",
    "change_wd_to_project_root()\n",
    "\n",
    "from ipywidgets import interact_manual\n",
    "import ipywidgets as widgets\n",
    "from src.utils.Evaluation import plot_strain_per_time\n",
    "import pandas as pd\n",
    "import glob\n",
    "###Choose data-directory\n",
    "from ipyfilechooser import FileChooser\n",
    "import os\n",
    "from IPython.display import display\n",
    "path_chooser = FileChooser(os.path.join(os.getcwd(), 'strain_predictions', \"strain_data\"))\n",
    "load_controls_checkbox = widgets.Checkbox(\n",
    "    value=False,\n",
    "    description='choose data directory',\n",
    "    disabled=False,\n",
    "    indent=False)\n",
    "display(path_chooser, load_controls_checkbox)"
   ]
  },
  {
   "cell_type": "markdown",
   "id": "8f52a67b",
   "metadata": {
    "tags": []
   },
   "source": [
    "# Merge strain dataframes with corresponding metadata dataframe"
   ]
  },
  {
   "cell_type": "code",
   "execution_count": 2,
   "id": "be8e2b52",
   "metadata": {
    "ExecuteTime": {
     "end_time": "2023-11-28T17:46:35.512648281Z",
     "start_time": "2023-11-28T17:46:35.403177155Z"
    },
    "tags": []
   },
   "outputs": [],
   "source": [
    "from strain_predictions.helperfunctions import merge_strain_and_tofmeta\n",
    "data_root = glob.glob(os.path.join(path_chooser.selected,\"**\"), recursive=True)\n",
    "@interact_manual\n",
    "def merge(gcn_ed2p_path=data_root,\n",
    "          gcn_p2p_path=data_root,\n",
    "          gcn_metadata_path=data_root,\n",
    "          indctr_ed2p_path=data_root,\n",
    "          indctr_p2p_path=data_root,\n",
    "          indctr_metadata_path=data_root):\n",
    "    \n",
    "    import pandas as pd\n",
    "    \n",
    "    gcn_strain_ed2p = pd.read_csv(gcn_ed2p_path)\n",
    "    gcn_strain_p2p = pd.read_csv(gcn_p2p_path)\n",
    "    gcn_metadata = pd.read_csv(gcn_metadata_path)\n",
    "    \n",
    "    \n",
    "    indicator_strain_ed2p = pd.read_csv(indctr_ed2p_path)\n",
    "    indicator_strain_p2p = pd.read_csv(indctr_p2p_path)\n",
    "    indicator_metadata = pd.read_csv(indctr_metadata_path)\n",
    "\n",
    "    dfs = [[gcn_strain_ed2p,gcn_strain_p2p,gcn_metadata],[indicator_strain_ed2p,indicator_strain_p2p,indicator_metadata]]\n",
    "    \n",
    "    for dataset_dfs in dfs:\n",
    "        merge_strain_and_tofmeta(strain_ed2p_df=dataset_dfs[0],\n",
    "                                 strain_p2p_df=dataset_dfs[1],\n",
    "                                 metadata_df=dataset_dfs[2]\n",
    "                                )\n",
    "        \n",
    "        print(\"New dataframes are saved in working directory.\")\n",
    "        \n",
    "    from strain_predictions.helperfunctions import standardize_strain_df\n",
    "    \n",
    "    ## I checked the excel sheets manually and found that the only metadata coloumns that intersect are gender and patient ID.\n",
    "    standardize_strain_df(drop_unamed_columns=True) ###Standardizing columns"
   ]
  },
  {
   "cell_type": "markdown",
   "id": "452e6574",
   "metadata": {
    "tags": []
   },
   "source": [
    "# Display violine plots and statistical significance for deceased vs non-deceased"
   ]
  },
  {
   "cell_type": "code",
   "execution_count": 3,
   "id": "85a0ba66",
   "metadata": {},
   "outputs": [],
   "source": [
    "@interact_manual\n",
    "def play(tof_indicator=True, tof_gcn=False, per_aha=False):\n",
    "    \n",
    "    if tof_indicator is True and tof_gcn is False:\n",
    "        strain_ed2p = pd.read_csv(os.path.join(os.getcwd(),\"strain_predictions\", \"merged_dfs\", \"tof_indicator\", \"df_DMD_time_ed2p.csv\"))\n",
    "        strain_p2p = pd.read_csv(os.path.join(os.getcwd(),\"strain_predictions\", \"merged_dfs\",\"tof_indicator\", \"df_DMD_time_p2p.csv\"))\n",
    "    elif tof_indicator is False and tof_gcn is True:\n",
    "        strain_ed2p = pd.read_csv(os.path.join(os.getcwd(),\"strain_predictions\", \"merged_dfs\",\"tof_gcn\", \"df_DMD_time_ed2p.csv\"))\n",
    "        strain_p2p = pd.read_csv(os.path.join(os.getcwd(),\"strain_predictions\", \"merged_dfs\",\"tof_gcn\", \"df_DMD_time_p2p.csv\"))\n",
    "\n",
    "    target = 'Outcome y/n' # Outcome y/n for deceased patient or not.\n",
    "    sig_niv = 0.05\n",
    "    \n",
    "    if per_aha is True:\n",
    "        segments_of_interest = list(range(1,17))\n",
    "        print(segments_of_interest)\n",
    "        for i in segments_of_interest:\n",
    "            _ = plot_strain_per_time(strain_p2p[strain_p2p['aha']==i], title=\"K2K strain - split by LGE class for AHA {}\".format(i), method='p2p', hue=target)\n",
    "            _ = plot_strain_per_time(strain_ed2p[strain_ed2p['aha']==i], title=\"Composed aligned strain - split by LGE class for AHA {}\".format(i), method='p2p', hue=target)\n",
    "        \n",
    "        \n",
    "    else:\n",
    "        _ = plot_strain_per_time(strain_ed2p,title='Composed aligned Strain - all segments - per cardiac phase',method='comp', hue=target, sig_niv=sig_niv)\n",
    "        _ = plot_strain_per_time(strain_p2p, title='K2K Strain - all segments - per cardiac phase',method='p2p', hue=target, sig_niv=sig_niv)\n"
   ]
  },
  {
   "cell_type": "code",
   "execution_count": null,
   "id": "8eb423aa",
   "metadata": {},
   "outputs": [],
   "source": []
  }
 ],
 "metadata": {
  "kernelspec": {
   "display_name": "dcmr",
   "language": "python",
   "name": "dcmr"
  },
  "language_info": {
   "codemirror_mode": {
    "name": "ipython",
    "version": 3
   },
   "file_extension": ".py",
   "mimetype": "text/x-python",
   "name": "python",
   "nbconvert_exporter": "python",
   "pygments_lexer": "ipython3",
   "version": "3.8.5"
  },
  "widgets": {
   "application/vnd.jupyter.widget-state+json": {
    "state": {},
    "version_major": 2,
    "version_minor": 0
   }
  }
 },
 "nbformat": 4,
 "nbformat_minor": 5
}
