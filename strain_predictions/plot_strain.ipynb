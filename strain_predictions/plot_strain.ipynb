{
 "cells": [
  {
   "cell_type": "markdown",
   "id": "82b8652b",
   "metadata": {
    "tags": []
   },
   "source": [
    "# Select strain_data as data directory"
   ]
  },
  {
   "cell_type": "code",
   "execution_count": 1,
   "id": "31b9da4f",
   "metadata": {
    "ExecuteTime": {
     "end_time": "2023-11-28T17:40:58.283717954Z",
     "start_time": "2023-11-28T17:40:58.117100984Z"
    },
    "tags": []
   },
   "source": [
    "import os\n",
    "print(os.getcwd())\n",
    "os.chdir('/mnt/ssd/git/dynamic-cmr-models/')\n",
    "from ProjectRoot import change_wd_to_project_root\n",
    "change_wd_to_project_root()\n",
    "\n",
    "from ipywidgets import interact_manual\n",
    "import ipywidgets as widgets\n",
    "from src.utils.Evaluation import plot_strain_per_time\n",
    "import pandas as pd\n",
    "import glob\n",
    "###Choose data-directory\n",
    "from ipyfilechooser import FileChooser\n",
    "import os\n",
    "from IPython.display import display\n",
    "path_chooser = FileChooser(os.path.join(os.getcwd(), 'strain_predictions', \"strain_data\"))\n",
    "load_controls_checkbox = widgets.Checkbox(\n",
    "    value=False,\n",
    "    description='choose data directory',\n",
    "    disabled=False,\n",
    "    indent=False)\n",
    "display(path_chooser, load_controls_checkbox)"
   ],
   "outputs": []
  },
  {
   "cell_type": "markdown",
   "id": "8f52a67b",
   "metadata": {
    "tags": []
   },
   "source": [
    "# Merge strain dataframes with corresponding metadata dataframe"
   ]
  },
  {
   "cell_type": "code",
   "execution_count": 2,
   "id": "be8e2b52",
   "metadata": {
    "ExecuteTime": {
     "end_time": "2023-11-28T17:46:35.512648281Z",
     "start_time": "2023-11-28T17:46:35.403177155Z"
    },
    "tags": []
   },
   "source": [
    "from strain_predictions.helperfunctions import merge_strain_and_tofmeta\n",
    "data_root = glob.glob(os.path.join(path_chooser.selected,\"**\"), recursive=True)\n",
    "@interact_manual\n",
    "def merge(gcn_ed2p_path=data_root,\n",
    "          gcn_p2p_path=data_root,\n",
    "          gcn_metadata_path=data_root,\n",
    "          indctr_ed2p_path=data_root,\n",
    "          indctr_p2p_path=data_root,\n",
    "          indctr_metadata_path=data_root):\n",
    "    \n",
    "    import pandas as pd\n",
    "    \n",
    "    gcn_strain_ed2p = pd.read_csv(gcn_ed2p_path)\n",
    "    gcn_strain_p2p = pd.read_csv(gcn_p2p_path)\n",
    "    gcn_metadata = pd.read_csv(gcn_metadata_path)\n",
    "    \n",
    "    \n",
    "    indicator_strain_ed2p = pd.read_csv(indctr_ed2p_path)\n",
    "    indicator_strain_p2p = pd.read_csv(indctr_p2p_path)\n",
    "    indicator_metadata = pd.read_csv(indctr_metadata_path)\n",
    "\n",
    "    dfs = [[gcn_strain_ed2p,gcn_strain_p2p,gcn_metadata],[indicator_strain_ed2p,indicator_strain_p2p,indicator_metadata]]\n",
    "    \n",
    "    for dataset_dfs in dfs:\n",
    "        merge_strain_and_tofmeta(strain_ed2p_df=dataset_dfs[0],\n",
    "                                 strain_p2p_df=dataset_dfs[1],\n",
    "                                 metadata_df=dataset_dfs[2]\n",
    "                                )\n",
    "        \n",
    "        print(\"New dataframes are saved in working directory.\")\n",
    "        \n",
    "    from strain_predictions.helperfunctions import standardize_strain_df\n",
    "    \n",
    "    ## I checked the excel sheets manually and found that the only metadata coloumns that intersect are gender and patient ID.\n",
    "    standardize_strain_df(drop_unamed_columns=True) ###Standardizing columns"
   ],
   "outputs": []
  },
  {
   "cell_type": "markdown",
   "id": "452e6574",
   "metadata": {
    "tags": []
   },
   "source": [
    "# Display violine plots and statistical significance for deceased vs non-deceased"
   ]
  },
  {
   "cell_type": "code",
   "execution_count": 3,
   "id": "85a0ba66",
   "metadata": {},
   "source": [
    "@interact_manual\n",
    "def play(tof_indicator=True, tof_gcn=False, per_aha=False):\n",
    "    \n",
    "    if tof_indicator is True and tof_gcn is False:\n",
    "        strain_ed2p = pd.read_csv(os.path.join(os.getcwd(),\"strain_predictions\", \"merged_dfs\", \"tof_indicator\", \"df_DMD_time_ed2p.csv\"))\n",
    "        strain_p2p = pd.read_csv(os.path.join(os.getcwd(),\"strain_predictions\", \"merged_dfs\",\"tof_indicator\", \"df_DMD_time_p2p.csv\"))\n",
    "    elif tof_indicator is False and tof_gcn is True:\n",
    "        strain_ed2p = pd.read_csv(os.path.join(os.getcwd(),\"strain_predictions\", \"merged_dfs\",\"tof_gcn\", \"df_DMD_time_ed2p.csv\"))\n",
    "        strain_p2p = pd.read_csv(os.path.join(os.getcwd(),\"strain_predictions\", \"merged_dfs\",\"tof_gcn\", \"df_DMD_time_p2p.csv\"))\n",
    "\n",
    "    target = 'Outcome y/n' # Outcome y/n for deceased patient or not.\n",
    "    sig_niv = 0.05\n",
    "    \n",
    "    if per_aha is True:\n",
    "        segments_of_interest = list(range(1,17))\n",
    "        print(segments_of_interest)\n",
    "        for i in segments_of_interest:\n",
    "            _ = plot_strain_per_time(strain_p2p[strain_p2p['aha']==i], title=\"K2K strain - split by LGE class for AHA {}\".format(i), method='p2p', hue=target)\n",
    "            _ = plot_strain_per_time(strain_ed2p[strain_ed2p['aha']==i], title=\"Composed aligned strain - split by LGE class for AHA {}\".format(i), method='p2p', hue=target)\n",
    "        \n",
    "        \n",
    "    else:\n",
    "        _ = plot_strain_per_time(strain_ed2p,title='Composed aligned Strain - all segments - per cardiac phase',method='comp', hue=target, sig_niv=sig_niv)\n",
    "        _ = plot_strain_per_time(strain_p2p, title='K2K Strain - all segments - per cardiac phase',method='p2p', hue=target, sig_niv=sig_niv)\n"
   ],
   "outputs": []
  },
  {
   "cell_type": "code",
   "execution_count": null,
   "id": "8eb423aa",
   "metadata": {},
   "source": [],
   "outputs": []
  }
 ],
 "metadata": {
  "kernelspec": {
   "display_name": "dcmr",
   "language": "python",
   "name": "dcmr"
  },
  "language_info": {
   "codemirror_mode": {
    "name": "ipython",
    "version": 3
   },
   "file_extension": ".py",
   "mimetype": "text/x-python",
   "name": "python",
   "nbconvert_exporter": "python",
   "pygments_lexer": "ipython3",
   "version": "3.8.5"
  },
  "widgets": {
   "application/vnd.jupyter.widget-state+json": {
    "state": {
     "06fa38c329214cff877489eab02a90ab": {
      "model_module": "@jupyter-widgets/controls",
      "model_module_version": "2.0.0",
      "model_name": "DropdownModel",
      "state": {
       "_options_labels": [
        "/mnt/ssd/git/dynamic-cmr-models/strain_predictions/strain_data/",
        "/mnt/ssd/git/dynamic-cmr-models/strain_predictions/strain_data/tof_strain_1mm",
        "/mnt/ssd/git/dynamic-cmr-models/strain_predictions/strain_data/tof_strain_1mm/indicator",
        "/mnt/ssd/git/dynamic-cmr-models/strain_predictions/strain_data/tof_strain_1mm/indicator/df_DMD_time_ed2p.csv",
        "/mnt/ssd/git/dynamic-cmr-models/strain_predictions/strain_data/tof_strain_1mm/indicator/SAx_3D_dicomTags_phase.csv",
        "/mnt/ssd/git/dynamic-cmr-models/strain_predictions/strain_data/tof_strain_1mm/indicator/df_DMD_time_p2p.csv",
        "/mnt/ssd/git/dynamic-cmr-models/strain_predictions/strain_data/tof_strain_1mm/gcn",
        "/mnt/ssd/git/dynamic-cmr-models/strain_predictions/strain_data/tof_strain_1mm/gcn/df_DMD_time_ed2p.csv",
        "/mnt/ssd/git/dynamic-cmr-models/strain_predictions/strain_data/tof_strain_1mm/gcn/SAx_3D_dicomTags_phase_outcome_meta_bsa.csv",
        "/mnt/ssd/git/dynamic-cmr-models/strain_predictions/strain_data/tof_strain_1mm/gcn/df_DMD_time_p2p.csv"
       ],
       "description": "gcn_p2p_path",
       "index": 9,
       "layout": "IPY_MODEL_a804cb3d4d1044ba8ac6551c1bd9c0b9",
       "style": "IPY_MODEL_fd4321daf66f4a2fbba0342161e4e25c"
      }
     },
     "0905e3dafded44c0a6538cd4212722b5": {
      "model_module": "@jupyter-widgets/base",
      "model_module_version": "2.0.0",
      "model_name": "LayoutModel",
      "state": {
       "width": "auto"
      }
     },
     "09719ae768f448bd8f08a071354c29bd": {
      "model_module": "@jupyter-widgets/base",
      "model_module_version": "2.0.0",
      "model_name": "LayoutModel",
      "state": {}
     },
     "0ad2d874d34046b381da84b187712334": {
      "model_module": "@jupyter-widgets/base",
      "model_module_version": "2.0.0",
      "model_name": "LayoutModel",
      "state": {
       "grid_area": "dircontent",
       "width": "auto"
      }
     },
     "12e802672f904f3ea9d579de8e5f5143": {
      "model_module": "@jupyter-widgets/base",
      "model_module_version": "2.0.0",
      "model_name": "LayoutModel",
      "state": {
       "width": "auto"
      }
     },
     "14cf0655c65f432b9a4b3a38c9eeaa7c": {
      "model_module": "@jupyter-widgets/controls",
      "model_module_version": "2.0.0",
      "model_name": "ButtonModel",
      "state": {
       "description": "Cancel",
       "layout": "IPY_MODEL_eed92f5202e0401d8e715ee4088043e1",
       "style": "IPY_MODEL_d5074e8ecaee4b2e8e4a05ab7bb0540e",
       "tooltip": null
      }
     },
     "185f63cc6cf54612abcb97393bf5fe18": {
      "model_module": "@jupyter-widgets/controls",
      "model_module_version": "2.0.0",
      "model_name": "DescriptionStyleModel",
      "state": {
       "description_width": ""
      }
     },
     "18f08cebba234747a6a6da24312eef99": {
      "model_module": "@jupyter-widgets/controls",
      "model_module_version": "2.0.0",
      "model_name": "CheckboxStyleModel",
      "state": {
       "description_width": ""
      }
     },
     "2060bf09623f4d86bacd765615ddcbc3": {
      "model_module": "@jupyter-widgets/base",
      "model_module_version": "2.0.0",
      "model_name": "LayoutModel",
      "state": {}
     },
     "20c6e1d5ab2e4f0e92e41ebc79ba2781": {
      "model_module": "@jupyter-widgets/controls",
      "model_module_version": "2.0.0",
      "model_name": "GridBoxModel",
      "state": {
       "children": [
        "IPY_MODEL_29dac1ca695e433d83e46787eb5beef5",
        "IPY_MODEL_c4397417f1464f3d8ab80157e2a26bf0",
        "IPY_MODEL_86c5fe9e5ada447f88cb604c0330bee9"
       ],
       "layout": "IPY_MODEL_c002ddd587754a27b0492583299a50c8"
      }
     },
     "28a850d4700d4ac389bd9f385ad43d05": {
      "model_module": "@jupyter-widgets/base",
      "model_module_version": "2.0.0",
      "model_name": "LayoutModel",
      "state": {
       "grid_area": "filename",
       "width": "auto"
      }
     },
     "29dac1ca695e433d83e46787eb5beef5": {
      "model_module": "@jupyter-widgets/controls",
      "model_module_version": "2.0.0",
      "model_name": "DropdownModel",
      "state": {
       "_options_labels": [
        "/mnt/ssd/git/dynamic-cmr-models/strain_predictions/strain_data",
        "/mnt/ssd/git/dynamic-cmr-models/strain_predictions",
        "/mnt/ssd/git/dynamic-cmr-models",
        "/mnt/ssd/git",
        "/mnt/ssd",
        "/mnt",
        "/"
       ],
       "index": 0,
       "layout": "IPY_MODEL_86c09c0271854fdda82de17ce78728c7",
       "style": "IPY_MODEL_185f63cc6cf54612abcb97393bf5fe18"
      }
     },
     "2c968f72d35c4c39bd8cc614bd401c3a": {
      "model_module": "@jupyter-widgets/controls",
      "model_module_version": "2.0.0",
      "model_name": "CheckboxStyleModel",
      "state": {
       "description_width": ""
      }
     },
     "2cb9617e520b40178bb4e6d65dba1c38": {
      "model_module": "@jupyter-widgets/controls",
      "model_module_version": "2.0.0",
      "model_name": "ButtonModel",
      "state": {
       "description": "Run Interact",
       "layout": "IPY_MODEL_d556b3e62e754b6d97ece9170d7e3941",
       "style": "IPY_MODEL_822054e6748d46d5b1e2d800f03f5dfa",
       "tooltip": null
      }
     },
     "3248332246824d97bd2ff0ad6cdd352f": {
      "model_module": "@jupyter-widgets/controls",
      "model_module_version": "2.0.0",
      "model_name": "DescriptionStyleModel",
      "state": {
       "description_width": ""
      }
     },
     "333a34582efb429ea65d28541b410ff8": {
      "model_module": "@jupyter-widgets/controls",
      "model_module_version": "2.0.0",
      "model_name": "DropdownModel",
      "state": {
       "_options_labels": [
        "/mnt/ssd/git/dynamic-cmr-models/strain_predictions/strain_data/",
        "/mnt/ssd/git/dynamic-cmr-models/strain_predictions/strain_data/tof_strain_1mm",
        "/mnt/ssd/git/dynamic-cmr-models/strain_predictions/strain_data/tof_strain_1mm/indicator",
        "/mnt/ssd/git/dynamic-cmr-models/strain_predictions/strain_data/tof_strain_1mm/indicator/df_DMD_time_ed2p.csv",
        "/mnt/ssd/git/dynamic-cmr-models/strain_predictions/strain_data/tof_strain_1mm/indicator/SAx_3D_dicomTags_phase.csv",
        "/mnt/ssd/git/dynamic-cmr-models/strain_predictions/strain_data/tof_strain_1mm/indicator/df_DMD_time_p2p.csv",
        "/mnt/ssd/git/dynamic-cmr-models/strain_predictions/strain_data/tof_strain_1mm/gcn",
        "/mnt/ssd/git/dynamic-cmr-models/strain_predictions/strain_data/tof_strain_1mm/gcn/df_DMD_time_ed2p.csv",
        "/mnt/ssd/git/dynamic-cmr-models/strain_predictions/strain_data/tof_strain_1mm/gcn/SAx_3D_dicomTags_phase_outcome_meta_bsa.csv",
        "/mnt/ssd/git/dynamic-cmr-models/strain_predictions/strain_data/tof_strain_1mm/gcn/df_DMD_time_p2p.csv"
       ],
       "description": "indctr_ed2p_path",
       "index": 3,
       "layout": "IPY_MODEL_c160d4a91b764b5c9fed1fa19eaafa1e",
       "style": "IPY_MODEL_595e0665c1564b4cb02ff9f3ff937e03"
      }
     },
     "4405af28c56542da9c3f277ef4f04ab9": {
      "model_module": "@jupyter-widgets/base",
      "model_module_version": "2.0.0",
      "model_name": "LayoutModel",
      "state": {}
     },
     "47681951dbea4ffda67b3a9b12a21912": {
      "model_module": "@jupyter-widgets/controls",
      "model_module_version": "2.0.0",
      "model_name": "VBoxModel",
      "state": {
       "_dom_classes": [
        "widget-interact"
       ],
       "children": [
        "IPY_MODEL_f862737ff9e64df4b477697e10594384",
        "IPY_MODEL_06fa38c329214cff877489eab02a90ab",
        "IPY_MODEL_4910c6f7a5f34d57a8c96071de0eaa8a",
        "IPY_MODEL_333a34582efb429ea65d28541b410ff8",
        "IPY_MODEL_cc96ec12914b40d6b7407c98482f3666",
        "IPY_MODEL_6d1ed71c8a894db1bd0855c61e9c8cc3",
        "IPY_MODEL_8c539ab99f5d4c8180f45cfd5a9614ae",
        "IPY_MODEL_ca20af35fa264dd2ad4a8de51815dfab"
       ],
       "layout": "IPY_MODEL_aa21e2a3a5fd488b8cecfd31b183c74e"
      }
     },
     "4910c6f7a5f34d57a8c96071de0eaa8a": {
      "model_module": "@jupyter-widgets/controls",
      "model_module_version": "2.0.0",
      "model_name": "DropdownModel",
      "state": {
       "_options_labels": [
        "/mnt/ssd/git/dynamic-cmr-models/strain_predictions/strain_data/",
        "/mnt/ssd/git/dynamic-cmr-models/strain_predictions/strain_data/tof_strain_1mm",
        "/mnt/ssd/git/dynamic-cmr-models/strain_predictions/strain_data/tof_strain_1mm/indicator",
        "/mnt/ssd/git/dynamic-cmr-models/strain_predictions/strain_data/tof_strain_1mm/indicator/df_DMD_time_ed2p.csv",
        "/mnt/ssd/git/dynamic-cmr-models/strain_predictions/strain_data/tof_strain_1mm/indicator/SAx_3D_dicomTags_phase.csv",
        "/mnt/ssd/git/dynamic-cmr-models/strain_predictions/strain_data/tof_strain_1mm/indicator/df_DMD_time_p2p.csv",
        "/mnt/ssd/git/dynamic-cmr-models/strain_predictions/strain_data/tof_strain_1mm/gcn",
        "/mnt/ssd/git/dynamic-cmr-models/strain_predictions/strain_data/tof_strain_1mm/gcn/df_DMD_time_ed2p.csv",
        "/mnt/ssd/git/dynamic-cmr-models/strain_predictions/strain_data/tof_strain_1mm/gcn/SAx_3D_dicomTags_phase_outcome_meta_bsa.csv",
        "/mnt/ssd/git/dynamic-cmr-models/strain_predictions/strain_data/tof_strain_1mm/gcn/df_DMD_time_p2p.csv"
       ],
       "description": "gcn_metadata_path",
       "index": 8,
       "layout": "IPY_MODEL_d23edae250964a628c484cb6da030cc3",
       "style": "IPY_MODEL_3248332246824d97bd2ff0ad6cdd352f"
      }
     },
     "4ad6b5b1d0da4ef0ac2ac636497a8809": {
      "model_module": "@jupyter-widgets/base",
      "model_module_version": "2.0.0",
      "model_name": "LayoutModel",
      "state": {}
     },
     "4aed42194d764e27a04bca1d228b0d8b": {
      "model_module": "@jupyter-widgets/controls",
      "model_module_version": "2.0.0",
      "model_name": "HTMLModel",
      "state": {
       "layout": "IPY_MODEL_e588c5e6c1734672affa6d7cd0fda606",
       "placeholder": "",
       "style": "IPY_MODEL_4f4da21dacfe4e6aaacb79c475b9f588",
       "value": "<span style=\"margin-left:10px; color:green;\">/mnt/ssd/git/dynamic-cmr-models/strain_predictions/strain_data/</span>"
      }
     },
     "4b8cc3a62b0944258b874825653b4ccf": {
      "model_module": "@jupyter-widgets/controls",
      "model_module_version": "2.0.0",
      "model_name": "HTMLModel",
      "state": {
       "layout": "IPY_MODEL_951862eaf247409ab5394f60e7185587",
       "style": "IPY_MODEL_83cd355675d946b0b3d633ce0bd1a7e1"
      }
     },
     "4f4da21dacfe4e6aaacb79c475b9f588": {
      "model_module": "@jupyter-widgets/controls",
      "model_module_version": "2.0.0",
      "model_name": "HTMLStyleModel",
      "state": {
       "description_width": "",
       "font_size": null,
       "text_color": null
      }
     },
     "502fbcdf082c4af394fa77989d214d52": {
      "model_module": "@jupyter-widgets/base",
      "model_module_version": "2.0.0",
      "model_name": "LayoutModel",
      "state": {}
     },
     "5110c2d8eec44e879cced803f74708c6": {
      "model_module": "@jupyter-widgets/controls",
      "model_module_version": "2.0.0",
      "model_name": "DescriptionStyleModel",
      "state": {
       "description_width": ""
      }
     },
     "5193d1c0a27b4e0fa9aaca9f6a0aeba8": {
      "model_module": "@jupyter-widgets/controls",
      "model_module_version": "2.0.0",
      "model_name": "ButtonStyleModel",
      "state": {
       "font_family": null,
       "font_size": null,
       "font_style": null,
       "font_variant": null,
       "font_weight": null,
       "text_color": null,
       "text_decoration": null
      }
     },
     "595e0665c1564b4cb02ff9f3ff937e03": {
      "model_module": "@jupyter-widgets/controls",
      "model_module_version": "2.0.0",
      "model_name": "DescriptionStyleModel",
      "state": {
       "description_width": ""
      }
     },
     "6d1ed71c8a894db1bd0855c61e9c8cc3": {
      "model_module": "@jupyter-widgets/controls",
      "model_module_version": "2.0.0",
      "model_name": "DropdownModel",
      "state": {
       "_options_labels": [
        "/mnt/ssd/git/dynamic-cmr-models/strain_predictions/strain_data/",
        "/mnt/ssd/git/dynamic-cmr-models/strain_predictions/strain_data/tof_strain_1mm",
        "/mnt/ssd/git/dynamic-cmr-models/strain_predictions/strain_data/tof_strain_1mm/indicator",
        "/mnt/ssd/git/dynamic-cmr-models/strain_predictions/strain_data/tof_strain_1mm/indicator/df_DMD_time_ed2p.csv",
        "/mnt/ssd/git/dynamic-cmr-models/strain_predictions/strain_data/tof_strain_1mm/indicator/SAx_3D_dicomTags_phase.csv",
        "/mnt/ssd/git/dynamic-cmr-models/strain_predictions/strain_data/tof_strain_1mm/indicator/df_DMD_time_p2p.csv",
        "/mnt/ssd/git/dynamic-cmr-models/strain_predictions/strain_data/tof_strain_1mm/gcn",
        "/mnt/ssd/git/dynamic-cmr-models/strain_predictions/strain_data/tof_strain_1mm/gcn/df_DMD_time_ed2p.csv",
        "/mnt/ssd/git/dynamic-cmr-models/strain_predictions/strain_data/tof_strain_1mm/gcn/SAx_3D_dicomTags_phase_outcome_meta_bsa.csv",
        "/mnt/ssd/git/dynamic-cmr-models/strain_predictions/strain_data/tof_strain_1mm/gcn/df_DMD_time_p2p.csv"
       ],
       "description": "indctr_metadata_path",
       "index": 4,
       "layout": "IPY_MODEL_e446a7131c52497ba6ea5c9d4d155d9e",
       "style": "IPY_MODEL_e770a062bc4d4cfb8a5052cd40c00e41"
      }
     },
     "718e241bd8e44333a57aacaecc496cc0": {
      "model_module": "@jupyter-widgets/base",
      "model_module_version": "2.0.0",
      "model_name": "LayoutModel",
      "state": {}
     },
     "7fff97f9b71a4d0385fa78766c1e54f2": {
      "model_module": "@jupyter-widgets/output",
      "model_module_version": "1.0.0",
      "model_name": "OutputModel",
      "state": {
       "layout": "IPY_MODEL_4405af28c56542da9c3f277ef4f04ab9"
      }
     },
     "822054e6748d46d5b1e2d800f03f5dfa": {
      "model_module": "@jupyter-widgets/controls",
      "model_module_version": "2.0.0",
      "model_name": "ButtonStyleModel",
      "state": {
       "font_family": null,
       "font_size": null,
       "font_style": null,
       "font_variant": null,
       "font_weight": null,
       "text_color": null,
       "text_decoration": null
      }
     },
     "83cd355675d946b0b3d633ce0bd1a7e1": {
      "model_module": "@jupyter-widgets/controls",
      "model_module_version": "2.0.0",
      "model_name": "HTMLStyleModel",
      "state": {
       "description_width": "",
       "font_size": null,
       "text_color": null
      }
     },
     "86c09c0271854fdda82de17ce78728c7": {
      "model_module": "@jupyter-widgets/base",
      "model_module_version": "2.0.0",
      "model_name": "LayoutModel",
      "state": {
       "grid_area": "pathlist",
       "width": "auto"
      }
     },
     "86c5fe9e5ada447f88cb604c0330bee9": {
      "model_module": "@jupyter-widgets/controls",
      "model_module_version": "2.0.0",
      "model_name": "SelectModel",
      "state": {
       "_options_labels": [
        "..",
        "tof_strain_1mm"
       ],
       "index": null,
       "layout": "IPY_MODEL_0ad2d874d34046b381da84b187712334",
       "rows": 8,
       "style": "IPY_MODEL_c49fa05bfca446e186b20859e35f502c"
      }
     },
     "8c539ab99f5d4c8180f45cfd5a9614ae": {
      "model_module": "@jupyter-widgets/controls",
      "model_module_version": "2.0.0",
      "model_name": "ButtonModel",
      "state": {
       "description": "Run Interact",
       "layout": "IPY_MODEL_4ad6b5b1d0da4ef0ac2ac636497a8809",
       "style": "IPY_MODEL_bd312f8df2cf4f9dade3cec2438c1e07",
       "tooltip": null
      }
     },
     "8f06b43948dd4527a512e4d5397fa15f": {
      "model_module": "@jupyter-widgets/controls",
      "model_module_version": "2.0.0",
      "model_name": "CheckboxModel",
      "state": {
       "description": "tof_gcn",
       "disabled": false,
       "layout": "IPY_MODEL_debcb7dec3d04fb381c462fb01130e07",
       "style": "IPY_MODEL_f893149c39fc458c9c3f8af00bdb474d",
       "value": false
      }
     },
     "951862eaf247409ab5394f60e7185587": {
      "model_module": "@jupyter-widgets/base",
      "model_module_version": "2.0.0",
      "model_name": "LayoutModel",
      "state": {
       "display": "none"
      }
     },
     "a78640d12fe44f128a5e98f9209642ca": {
      "model_module": "@jupyter-widgets/controls",
      "model_module_version": "2.0.0",
      "model_name": "HBoxModel",
      "state": {
       "children": [
        "IPY_MODEL_d01944aac0df454498e886956f391cf3",
        "IPY_MODEL_14cf0655c65f432b9a4b3a38c9eeaa7c",
        "IPY_MODEL_4aed42194d764e27a04bca1d228b0d8b"
       ],
       "layout": "IPY_MODEL_12e802672f904f3ea9d579de8e5f5143"
      }
     },
     "a804cb3d4d1044ba8ac6551c1bd9c0b9": {
      "model_module": "@jupyter-widgets/base",
      "model_module_version": "2.0.0",
      "model_name": "LayoutModel",
      "state": {}
     },
     "a942baf1415b4bdf843611cb1e4feebe": {
      "model_module": "@jupyter-widgets/controls",
      "model_module_version": "2.0.0",
      "model_name": "CheckboxModel",
      "state": {
       "description": "choose data directory",
       "disabled": false,
       "indent": false,
       "layout": "IPY_MODEL_c350bcb9c7134d699abc7d90dc76e0af",
       "style": "IPY_MODEL_2c968f72d35c4c39bd8cc614bd401c3a",
       "value": true
      }
     },
     "aa21e2a3a5fd488b8cecfd31b183c74e": {
      "model_module": "@jupyter-widgets/base",
      "model_module_version": "2.0.0",
      "model_name": "LayoutModel",
      "state": {}
     },
     "aa29903ab0c04bb6bd33d77391141a50": {
      "model_module": "@jupyter-widgets/controls",
      "model_module_version": "2.0.0",
      "model_name": "VBoxModel",
      "state": {
       "children": [
        "IPY_MODEL_4b8cc3a62b0944258b874825653b4ccf",
        "IPY_MODEL_20c6e1d5ab2e4f0e92e41ebc79ba2781",
        "IPY_MODEL_a78640d12fe44f128a5e98f9209642ca"
       ],
       "layout": "IPY_MODEL_0905e3dafded44c0a6538cd4212722b5"
      }
     },
     "b01b55e72bb9401ea76ca7925882b9ed": {
      "model_module": "@jupyter-widgets/controls",
      "model_module_version": "2.0.0",
      "model_name": "DescriptionStyleModel",
      "state": {
       "description_width": ""
      }
     },
     "bd312f8df2cf4f9dade3cec2438c1e07": {
      "model_module": "@jupyter-widgets/controls",
      "model_module_version": "2.0.0",
      "model_name": "ButtonStyleModel",
      "state": {
       "font_family": null,
       "font_size": null,
       "font_style": null,
       "font_variant": null,
       "font_weight": null,
       "text_color": null,
       "text_decoration": null
      }
     },
     "c002ddd587754a27b0492583299a50c8": {
      "model_module": "@jupyter-widgets/base",
      "model_module_version": "2.0.0",
      "model_name": "LayoutModel",
      "state": {
       "display": "none",
       "grid_gap": "0px 0px",
       "grid_template_areas": "\n                    'pathlist filename'\n                    'dircontent dircontent'\n                    ",
       "grid_template_columns": "60% 40%",
       "grid_template_rows": "auto auto",
       "width": "500px"
      }
     },
     "c160d4a91b764b5c9fed1fa19eaafa1e": {
      "model_module": "@jupyter-widgets/base",
      "model_module_version": "2.0.0",
      "model_name": "LayoutModel",
      "state": {}
     },
     "c350bcb9c7134d699abc7d90dc76e0af": {
      "model_module": "@jupyter-widgets/base",
      "model_module_version": "2.0.0",
      "model_name": "LayoutModel",
      "state": {}
     },
     "c35b6a2b60f447c29cdc88a44462d385": {
      "model_module": "@jupyter-widgets/controls",
      "model_module_version": "2.0.0",
      "model_name": "CheckboxStyleModel",
      "state": {
       "description_width": ""
      }
     },
     "c4397417f1464f3d8ab80157e2a26bf0": {
      "model_module": "@jupyter-widgets/controls",
      "model_module_version": "2.0.0",
      "model_name": "TextModel",
      "state": {
       "layout": "IPY_MODEL_28a850d4700d4ac389bd9f385ad43d05",
       "placeholder": "output filename",
       "style": "IPY_MODEL_ea013fce6b35475597424906f07f53ad"
      }
     },
     "c49fa05bfca446e186b20859e35f502c": {
      "model_module": "@jupyter-widgets/controls",
      "model_module_version": "2.0.0",
      "model_name": "DescriptionStyleModel",
      "state": {
       "description_width": ""
      }
     },
     "ca20af35fa264dd2ad4a8de51815dfab": {
      "model_module": "@jupyter-widgets/output",
      "model_module_version": "1.0.0",
      "model_name": "OutputModel",
      "state": {
       "layout": "IPY_MODEL_09719ae768f448bd8f08a071354c29bd",
       "outputs": [
        {
         "name": "stdout",
         "output_type": "stream",
         "text": "Please ensure that the strain dataframes are specified to their corresponding parameter.\nIf they are, please ignore this.\nExample patient ID before strain df formatting:  0000-02z1l14n_2006-11-09\nExample patient ID after strain df formatting:  0000-02z1l14n_2006-11-09\nExample patient ID before strain df formatting:  0000-02z1l14n_2006-11-09\nExample patient ID after strain df formatting:  0000-02z1l14n_2006-11-09\nNew dataframes are saved in working directory.\nPlease ensure that the strain dataframes are specified to their corresponding parameter.\nIf they are, please ignore this.\nExample patient ID before strain df formatting:  chb_001_2007_a\nExample patient ID after strain df formatting:  chb_001_2007_a\nExample patient ID before strain df formatting:  chb_001_2007_a\nExample patient ID after strain df formatting:  chb_001_2007_a\nNew dataframes are saved in working directory.\n"
        },
        {
         "name": "stderr",
         "output_type": "stream",
         "text": "/mnt/ssd/git/dynamic-cmr-models/strain_predictions/helperfunctions.py:65: DtypeWarning: Columns (24) have mixed types. Specify dtype option on import or set low_memory=False.\n  strain_df_1 = pd.read_csv(strain_df_1_path)\n/mnt/ssd/git/dynamic-cmr-models/strain_predictions/helperfunctions.py:66: DtypeWarning: Columns (41,54,90) have mixed types. Specify dtype option on import or set low_memory=False.\n  strain_df_2 = pd.read_csv(strain_df_2_path)\n/mnt/ssd/git/dynamic-cmr-models/strain_predictions/helperfunctions.py:65: DtypeWarning: Columns (24) have mixed types. Specify dtype option on import or set low_memory=False.\n  strain_df_1 = pd.read_csv(strain_df_1_path)\n/mnt/ssd/git/dynamic-cmr-models/strain_predictions/helperfunctions.py:66: DtypeWarning: Columns (41,54,90) have mixed types. Specify dtype option on import or set low_memory=False.\n  strain_df_2 = pd.read_csv(strain_df_2_path)\n"
        }
       ]
      }
     },
     "cc96ec12914b40d6b7407c98482f3666": {
      "model_module": "@jupyter-widgets/controls",
      "model_module_version": "2.0.0",
      "model_name": "DropdownModel",
      "state": {
       "_options_labels": [
        "/mnt/ssd/git/dynamic-cmr-models/strain_predictions/strain_data/",
        "/mnt/ssd/git/dynamic-cmr-models/strain_predictions/strain_data/tof_strain_1mm",
        "/mnt/ssd/git/dynamic-cmr-models/strain_predictions/strain_data/tof_strain_1mm/indicator",
        "/mnt/ssd/git/dynamic-cmr-models/strain_predictions/strain_data/tof_strain_1mm/indicator/df_DMD_time_ed2p.csv",
        "/mnt/ssd/git/dynamic-cmr-models/strain_predictions/strain_data/tof_strain_1mm/indicator/SAx_3D_dicomTags_phase.csv",
        "/mnt/ssd/git/dynamic-cmr-models/strain_predictions/strain_data/tof_strain_1mm/indicator/df_DMD_time_p2p.csv",
        "/mnt/ssd/git/dynamic-cmr-models/strain_predictions/strain_data/tof_strain_1mm/gcn",
        "/mnt/ssd/git/dynamic-cmr-models/strain_predictions/strain_data/tof_strain_1mm/gcn/df_DMD_time_ed2p.csv",
        "/mnt/ssd/git/dynamic-cmr-models/strain_predictions/strain_data/tof_strain_1mm/gcn/SAx_3D_dicomTags_phase_outcome_meta_bsa.csv",
        "/mnt/ssd/git/dynamic-cmr-models/strain_predictions/strain_data/tof_strain_1mm/gcn/df_DMD_time_p2p.csv"
       ],
       "description": "indctr_p2p_path",
       "index": 5,
       "layout": "IPY_MODEL_ff6dc66852294f44b8ad7fc845d25bc2",
       "style": "IPY_MODEL_5110c2d8eec44e879cced803f74708c6"
      }
     },
     "d01944aac0df454498e886956f391cf3": {
      "model_module": "@jupyter-widgets/controls",
      "model_module_version": "2.0.0",
      "model_name": "ButtonModel",
      "state": {
       "description": "Change",
       "layout": "IPY_MODEL_d2742d839eca4bb8a41d84c08a53ff42",
       "style": "IPY_MODEL_5193d1c0a27b4e0fa9aaca9f6a0aeba8",
       "tooltip": null
      }
     },
     "d23edae250964a628c484cb6da030cc3": {
      "model_module": "@jupyter-widgets/base",
      "model_module_version": "2.0.0",
      "model_name": "LayoutModel",
      "state": {}
     },
     "d2742d839eca4bb8a41d84c08a53ff42": {
      "model_module": "@jupyter-widgets/base",
      "model_module_version": "2.0.0",
      "model_name": "LayoutModel",
      "state": {
       "width": "auto"
      }
     },
     "d5074e8ecaee4b2e8e4a05ab7bb0540e": {
      "model_module": "@jupyter-widgets/controls",
      "model_module_version": "2.0.0",
      "model_name": "ButtonStyleModel",
      "state": {
       "font_family": null,
       "font_size": null,
       "font_style": null,
       "font_variant": null,
       "font_weight": null,
       "text_color": null,
       "text_decoration": null
      }
     },
     "d556b3e62e754b6d97ece9170d7e3941": {
      "model_module": "@jupyter-widgets/base",
      "model_module_version": "2.0.0",
      "model_name": "LayoutModel",
      "state": {}
     },
     "d696b50802734ac2b7c52ae4378af0ab": {
      "model_module": "@jupyter-widgets/controls",
      "model_module_version": "2.0.0",
      "model_name": "VBoxModel",
      "state": {
       "_dom_classes": [
        "widget-interact"
       ],
       "children": [
        "IPY_MODEL_fc003cbb23704fffb5c3d8bfb9d34837",
        "IPY_MODEL_8f06b43948dd4527a512e4d5397fa15f",
        "IPY_MODEL_ee053302f3e04ff98f585fe07eabe56c",
        "IPY_MODEL_2cb9617e520b40178bb4e6d65dba1c38",
        "IPY_MODEL_7fff97f9b71a4d0385fa78766c1e54f2"
       ],
       "layout": "IPY_MODEL_2060bf09623f4d86bacd765615ddcbc3"
      }
     },
     "d7a8d18ef25049029baa92c7f6196e98": {
      "model_module": "@jupyter-widgets/base",
      "model_module_version": "2.0.0",
      "model_name": "LayoutModel",
      "state": {}
     },
     "debcb7dec3d04fb381c462fb01130e07": {
      "model_module": "@jupyter-widgets/base",
      "model_module_version": "2.0.0",
      "model_name": "LayoutModel",
      "state": {}
     },
     "e446a7131c52497ba6ea5c9d4d155d9e": {
      "model_module": "@jupyter-widgets/base",
      "model_module_version": "2.0.0",
      "model_name": "LayoutModel",
      "state": {}
     },
     "e588c5e6c1734672affa6d7cd0fda606": {
      "model_module": "@jupyter-widgets/base",
      "model_module_version": "2.0.0",
      "model_name": "LayoutModel",
      "state": {}
     },
     "e770a062bc4d4cfb8a5052cd40c00e41": {
      "model_module": "@jupyter-widgets/controls",
      "model_module_version": "2.0.0",
      "model_name": "DescriptionStyleModel",
      "state": {
       "description_width": ""
      }
     },
     "ea013fce6b35475597424906f07f53ad": {
      "model_module": "@jupyter-widgets/controls",
      "model_module_version": "2.0.0",
      "model_name": "TextStyleModel",
      "state": {
       "description_width": "",
       "font_size": null,
       "text_color": null
      }
     },
     "ee053302f3e04ff98f585fe07eabe56c": {
      "model_module": "@jupyter-widgets/controls",
      "model_module_version": "2.0.0",
      "model_name": "CheckboxModel",
      "state": {
       "description": "per_aha",
       "disabled": false,
       "layout": "IPY_MODEL_502fbcdf082c4af394fa77989d214d52",
       "style": "IPY_MODEL_18f08cebba234747a6a6da24312eef99",
       "value": false
      }
     },
     "eed92f5202e0401d8e715ee4088043e1": {
      "model_module": "@jupyter-widgets/base",
      "model_module_version": "2.0.0",
      "model_name": "LayoutModel",
      "state": {
       "display": "none",
       "width": "auto"
      }
     },
     "f862737ff9e64df4b477697e10594384": {
      "model_module": "@jupyter-widgets/controls",
      "model_module_version": "2.0.0",
      "model_name": "DropdownModel",
      "state": {
       "_options_labels": [
        "/mnt/ssd/git/dynamic-cmr-models/strain_predictions/strain_data/",
        "/mnt/ssd/git/dynamic-cmr-models/strain_predictions/strain_data/tof_strain_1mm",
        "/mnt/ssd/git/dynamic-cmr-models/strain_predictions/strain_data/tof_strain_1mm/indicator",
        "/mnt/ssd/git/dynamic-cmr-models/strain_predictions/strain_data/tof_strain_1mm/indicator/df_DMD_time_ed2p.csv",
        "/mnt/ssd/git/dynamic-cmr-models/strain_predictions/strain_data/tof_strain_1mm/indicator/SAx_3D_dicomTags_phase.csv",
        "/mnt/ssd/git/dynamic-cmr-models/strain_predictions/strain_data/tof_strain_1mm/indicator/df_DMD_time_p2p.csv",
        "/mnt/ssd/git/dynamic-cmr-models/strain_predictions/strain_data/tof_strain_1mm/gcn",
        "/mnt/ssd/git/dynamic-cmr-models/strain_predictions/strain_data/tof_strain_1mm/gcn/df_DMD_time_ed2p.csv",
        "/mnt/ssd/git/dynamic-cmr-models/strain_predictions/strain_data/tof_strain_1mm/gcn/SAx_3D_dicomTags_phase_outcome_meta_bsa.csv",
        "/mnt/ssd/git/dynamic-cmr-models/strain_predictions/strain_data/tof_strain_1mm/gcn/df_DMD_time_p2p.csv"
       ],
       "description": "gcn_ed2p_path",
       "index": 7,
       "layout": "IPY_MODEL_d7a8d18ef25049029baa92c7f6196e98",
       "style": "IPY_MODEL_b01b55e72bb9401ea76ca7925882b9ed"
      }
     },
     "f893149c39fc458c9c3f8af00bdb474d": {
      "model_module": "@jupyter-widgets/controls",
      "model_module_version": "2.0.0",
      "model_name": "CheckboxStyleModel",
      "state": {
       "description_width": ""
      }
     },
     "fc003cbb23704fffb5c3d8bfb9d34837": {
      "model_module": "@jupyter-widgets/controls",
      "model_module_version": "2.0.0",
      "model_name": "CheckboxModel",
      "state": {
       "description": "tof_indicator",
       "disabled": false,
       "layout": "IPY_MODEL_718e241bd8e44333a57aacaecc496cc0",
       "style": "IPY_MODEL_c35b6a2b60f447c29cdc88a44462d385",
       "value": true
      }
     },
     "fd4321daf66f4a2fbba0342161e4e25c": {
      "model_module": "@jupyter-widgets/controls",
      "model_module_version": "2.0.0",
      "model_name": "DescriptionStyleModel",
      "state": {
       "description_width": ""
      }
     },
     "ff6dc66852294f44b8ad7fc845d25bc2": {
      "model_module": "@jupyter-widgets/base",
      "model_module_version": "2.0.0",
      "model_name": "LayoutModel",
      "state": {}
     }
    },
    "version_major": 2,
    "version_minor": 0
   }
  }
 },
 "nbformat": 4,
 "nbformat_minor": 5
}
