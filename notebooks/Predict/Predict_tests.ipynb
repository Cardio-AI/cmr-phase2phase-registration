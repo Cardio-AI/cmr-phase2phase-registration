{
 "cells": [
  {
   "cell_type": "markdown",
   "metadata": {},
   "source": [
    "1. Load a cv config with all experiment parameters\n",
    "2. Load the corresponding data, \n",
    "3. create a train and validation generator with the given parameters, exclusive the augmentation parameters\n",
    "4. reconstruct the model with the given parameters, (we have custom loss functions, simple model.load() will not work)\n",
    "5. load and apply the corresponding weights (with respect to the distributed training strategy)\n",
    "6. predict the targt vectors with the train and val generators (make sure that we change the batchsize to 1, and avoid shuffle so that we get all files)\n",
    "7. unstack each predictions and crop it by the length of the stacked gt mask\n",
    "8. threshold/argmax each predicted onehot-vector\n",
    "9. write the gt and predictions as numpy into the corresponding experiment folder (gt with gaussian, or without?, Do we save the onehot or the indicies?)"
   ]
  },
  {
   "cell_type": "code",
   "execution_count": 1,
   "metadata": {},
   "outputs": [
    {
     "name": "stdout",
     "output_type": "stream",
     "text": [
      "search for root_dir and set working directory\n",
      "Working directory set to: /mnt/ssd/git/dynamic-cmr-models\n",
      "['/gpu:0', '/gpu:1']\n"
     ]
    }
   ],
   "source": [
    "# ------------------------------------------define logging and working directory\n",
    "from ProjectRoot import change_wd_to_project_root\n",
    "change_wd_to_project_root()\n",
    "from src.utils.Tensorflow_helper import choose_gpu_by_id\n",
    "# ------------------------------------------define GPU id/s to use\n",
    "GPU_IDS = '0,1'\n",
    "GPUS = choose_gpu_by_id(GPU_IDS)\n",
    "print(GPUS)\n",
    "# ------------------------------------------jupyter magic config\n",
    "%matplotlib inline\n",
    "%reload_ext autoreload\n",
    "%autoreload 2\n",
    "# ------------------------------------------ import helpers\n",
    "# this should import glob, os, and many other standard libs\n",
    "# local imports\n",
    "from src.utils.Notebook_imports import *\n",
    "from src.utils.Utils_io import Console_and_file_logger, init_config\n",
    "\n",
    "# import external libs\n",
    "from tensorflow.python.client import device_lib\n",
    "import tensorflow as tf\n",
    "tf.get_logger().setLevel('ERROR')\n",
    "import cv2\n",
    "import pandas as pd\n",
    "import numpy as np\n",
    "from ipyfilechooser import FileChooser\n"
   ]
  },
  {
   "cell_type": "markdown",
   "metadata": {},
   "source": [
    "# Load a config into the global namespace"
   ]
  },
  {
   "cell_type": "code",
   "execution_count": 2,
   "metadata": {},
   "outputs": [
    {
     "data": {
      "application/vnd.jupyter.widget-view+json": {
       "model_id": "268859506cd548fe83dbe55b89f4c800",
       "version_major": 2,
       "version_minor": 0
      },
      "text/plain": [
       "FileChooser(path='/mnt/ssd/git/dynamic-cmr-models/exp', filename='', title='HTML(value='', layout=Layout(displ…"
      ]
     },
     "metadata": {},
     "output_type": "display_data"
    },
    {
     "data": {
      "application/vnd.jupyter.widget-view+json": {
       "model_id": "d3260a9f4a224058b425ba6f0e492514",
       "version_major": 2,
       "version_minor": 0
      },
      "text/plain": [
       "interactive(children=(Button(description='Run Interact', style=ButtonStyle()), Output()), _dom_classes=('widge…"
      ]
     },
     "metadata": {},
     "output_type": "display_data"
    }
   ],
   "source": [
    "exp_config_chooser = FileChooser(os.path.join(os.getcwd(),'exp/'), '')\n",
    "display(exp_config_chooser)\n",
    "@interact_manual\n",
    "def load_config():\n",
    "\n",
    "    global exp_config_chooser, config\n",
    "    \"\"\"\n",
    "    load an experiment config\n",
    "    \"\"\"\n",
    "    if 'exp_config_chooser' in globals():\n",
    "        config_file  = exp_config_chooser.selected\n",
    "    else:\n",
    "        print('no config chooser found')\n",
    "\n",
    "    # load the experiment config\n",
    "    with open(config_file, encoding='utf-8') as data_file:\n",
    "        config = json.loads(data_file.read())\n",
    "    globals().update(config)\n",
    "    Console_and_file_logger(EXPERIMENT, logging.INFO)\n",
    "    logging.info('Loaded config for experiment: {}'.format(config['EXPERIMENT']))"
   ]
  },
  {
   "cell_type": "markdown",
   "metadata": {},
   "source": [
    "# Load the corresponding file names for this fold"
   ]
  },
  {
   "cell_type": "code",
   "execution_count": 3,
   "metadata": {},
   "outputs": [
    {
     "name": "stderr",
     "output_type": "stream",
     "text": [
      "2021-05-20 13:22:45,354 INFO 100\n"
     ]
    }
   ],
   "source": [
    "# load ACDC files\n",
    "x_train_sax = sorted(glob.glob('/mnt/ssd/data/acdc/original/all/*/*4d.nii.gz'))\n",
    "x_val_sax = x_train_sax\n",
    "info(len(x_val_sax))"
   ]
  },
  {
   "cell_type": "code",
   "execution_count": 6,
   "metadata": {},
   "outputs": [
    {
     "ename": "NameError",
     "evalue": "name 'y_train_sax' is not defined",
     "output_type": "error",
     "traceback": [
      "\u001b[0;31m---------------------------------------------------------------------------\u001b[0m",
      "\u001b[0;31mNameError\u001b[0m                                 Traceback (most recent call last)",
      "\u001b[0;32m<ipython-input-6-929c80bad05d>\u001b[0m in \u001b[0;36m<module>\u001b[0;34m\u001b[0m\n\u001b[1;32m      8\u001b[0m                                                                      \u001b[0mpath_to_folds_df\u001b[0m\u001b[0;34m=\u001b[0m\u001b[0mDF_FOLDS\u001b[0m\u001b[0;34m,\u001b[0m\u001b[0;34m\u001b[0m\u001b[0;34m\u001b[0m\u001b[0m\n\u001b[1;32m      9\u001b[0m                                                                      fold=FOLD)\"\"\"\n\u001b[0;32m---> 10\u001b[0;31m \u001b[0mlogging\u001b[0m\u001b[0;34m.\u001b[0m\u001b[0minfo\u001b[0m\u001b[0;34m(\u001b[0m\u001b[0;34m'SAX train CMR: {}, SAX train masks: {}'\u001b[0m\u001b[0;34m.\u001b[0m\u001b[0mformat\u001b[0m\u001b[0;34m(\u001b[0m\u001b[0mlen\u001b[0m\u001b[0;34m(\u001b[0m\u001b[0mx_train_sax\u001b[0m\u001b[0;34m)\u001b[0m\u001b[0;34m,\u001b[0m \u001b[0mlen\u001b[0m\u001b[0;34m(\u001b[0m\u001b[0my_train_sax\u001b[0m\u001b[0;34m)\u001b[0m\u001b[0;34m)\u001b[0m\u001b[0;34m)\u001b[0m\u001b[0;34m\u001b[0m\u001b[0;34m\u001b[0m\u001b[0m\n\u001b[0m\u001b[1;32m     11\u001b[0m \u001b[0mlogging\u001b[0m\u001b[0;34m.\u001b[0m\u001b[0minfo\u001b[0m\u001b[0;34m(\u001b[0m\u001b[0;34m'SAX val CMR: {}, SAX val masks: {}'\u001b[0m\u001b[0;34m.\u001b[0m\u001b[0mformat\u001b[0m\u001b[0;34m(\u001b[0m\u001b[0mlen\u001b[0m\u001b[0;34m(\u001b[0m\u001b[0mx_val_sax\u001b[0m\u001b[0;34m)\u001b[0m\u001b[0;34m,\u001b[0m \u001b[0mlen\u001b[0m\u001b[0;34m(\u001b[0m\u001b[0my_val_sax\u001b[0m\u001b[0;34m)\u001b[0m\u001b[0;34m)\u001b[0m\u001b[0;34m)\u001b[0m\u001b[0;34m\u001b[0m\u001b[0;34m\u001b[0m\u001b[0m\n",
      "\u001b[0;31mNameError\u001b[0m: name 'y_train_sax' is not defined"
     ]
    }
   ],
   "source": [
    "# Load SAX volumes\n",
    "from src.data.Dataset import get_trainings_files\n",
    "# cluster to local data mapping\n",
    "#DATA_PATH_SAX = '/mnt/ssd/data/gcn/02_imported_4D_unfiltered/sax'\n",
    "#DF_FOLDS = '/mnt/ssd/data/gcn/02_imported_4D_unfiltered/df_kfold.csv'\n",
    "#config['DF_META'] = '/mnt/ssd/data/gcn/02_imported_4D_unfiltered/SAx_3D_dicomTags_phase'\n",
    "\"\"\"x_train_sax, y_train_sax, x_val_sax, y_val_sax = get_trainings_files(data_path=DATA_PATH_SAX,\n",
    "                                                                     path_to_folds_df=DF_FOLDS,\n",
    "                                                                     fold=FOLD)\"\"\"\n",
    "logging.info('SAX train CMR: {}, SAX train masks: {}'.format(len(x_train_sax), len(y_train_sax)))\n",
    "logging.info('SAX val CMR: {}, SAX val masks: {}'.format(len(x_val_sax), len(y_val_sax)))"
   ]
  },
  {
   "cell_type": "markdown",
   "metadata": {},
   "source": [
    "# Create the same train and val generators as used for the training\n",
    "\n",
    "Make sure that:\n",
    "- no shuffle\n",
    "- no augmentation (classic and temporal)\n",
    "- batchsize equal 1"
   ]
  },
  {
   "cell_type": "code",
   "execution_count": 23,
   "metadata": {},
   "outputs": [
    {
     "name": "stderr",
     "output_type": "stream",
     "text": [
      "2021-05-20 13:37:51,881 INFO Create DataGenerator\n",
      "2021-05-20 13:37:51,883 INFO Datagenerator created with: \n",
      " shape: [8, 64, 64]\n",
      " spacing: [8, 3, 3]\n",
      " batchsize: 1\n",
      " Scaler: MinMax\n",
      " Images: 100 \n",
      " Augment: False \n",
      " Thread workers: 8\n",
      "2021-05-20 13:37:51,883 INFO No augmentation\n",
      "2021-05-20 13:37:51,884 INFO Temporal phase augmentation: \n",
      "False\n",
      "Repeat volume: \n",
      "True\n",
      "2021-05-20 13:37:51,884 INFO params of generator:\n",
      "2021-05-20 13:37:51,884 INFO [('MASKING_IMAGE', False), ('SINGLE_OUTPUT', False), ('MASKING_VALUES', [1, 2, 3]), ('DEBUG_MODE', False), ('SCALER', 'MinMax'), ('AUGMENT', False), ('SHUFFLE', False), ('RESAMPLE', True), ('SPACING', [8, 3, 3]), ('SEED', 42), ('DIM', [8, 64, 64]), ('BATCHSIZE', 1), ('MASK_VALUES', [0, 1, 2, 3]), ('N_CLASSES', 4), ('MAX_WORKERS', 8), ('AUGMENT_PHASES', False), ('T_SHAPE', 36), ('T_SPACING', 55), ('PHASES', 5), ('REPEAT', True), ('TARGET_SMOOTHING', True), ('SMOOTHING_KERNEL_SIZE', 10), ('SMOOTHING_UPPER_BORDER', 5), ('SMOOTHING_WEIGHT_CORRECT', 20), ('SIGMA', 1), ('HIST_MATCHING', False), ('IMG_INTERPOLATION', 1), ('MSK_INTERPOLATION', 0), ('AUGMENT_TEMP', False), ('RESAMPLE_T', False), ('ISACDC', True)]\n"
     ]
    }
   ],
   "source": [
    "# logging.getLogger().setLevel(logging.INFO)\n",
    "from src.data.Generators import PhaseRegressionGenerator\n",
    "config['SHUFFLE'] = False\n",
    "config['AUGMENT'] = False\n",
    "config['AUGMENT_PHASES'] = False\n",
    "config['AUGMENT_TEMP'] = False\n",
    "config['BATCHSIZE'] = 1\n",
    "config['HIST_MATCHING'] = False\n",
    "#batch_generator = PhaseRegressionGenerator(x_train_sax, x_train_sax, config=config)\n",
    "# create another config for the validation data, for the case of different evaluation\n",
    "val_config = config.copy()\n",
    "#val_config['AUGMENT'] = False\n",
    "#val_config['AUGMENT_PHASES'] = False\n",
    "validation_generator = PhaseRegressionGenerator(x_val_sax, x_val_sax, config=val_config)"
   ]
  },
  {
   "cell_type": "code",
   "execution_count": 18,
   "metadata": {},
   "outputs": [
    {
     "data": {
      "application/vnd.jupyter.widget-view+json": {
       "model_id": "66b36b82bfb04c61ab00adba06f53d2d",
       "version_major": 2,
       "version_minor": 0
      },
      "text/plain": [
       "interactive(children=(IntSlider(value=5, description='batch', max=11), IntSlider(value=3, description='im', ma…"
      ]
     },
     "metadata": {},
     "output_type": "display_data"
    }
   ],
   "source": [
    "# visualise one batch\n",
    "generator = validation_generator\n",
    "@interact_manual\n",
    "def select_image_in_batch(batch = (0,len(generator)-1, 1), \n",
    "                          im = (0,BATCHSIZE- 1, 1), \n",
    "                          slice_n=(1,11), \n",
    "                          save=False, \n",
    "                          filepath='data/temp/', \n",
    "                          filename='temp_x.npy',\n",
    "                         show_overview=True,\n",
    "                         show_input_vol=False):\n",
    "    \n",
    "    import time\n",
    "    from src.visualization.Visualize import show_2D_or_3D, show_phases, show_phases_transpose\n",
    "    global inputs, outputs, gt_len_msk\n",
    "    phases = ['ED', 'MS', 'ES', 'PF', 'MD']\n",
    "    t1 = time.time()\n",
    "    inputs, outputs = generator.__getitem__(batch)\n",
    "    onehot, gt_len_msk = np.split(outputs, indices_or_sections=2,axis=1)\n",
    "    logging.info('Preprocessing took: {:0.3f}'.format(time.time() - t1))\n",
    "    print(inputs.shape, outputs.shape)\n",
    "    print('selected batch : ' + str(batch))\n",
    "    if show_overview:\n",
    "\n",
    "        show_phases(outputs)\n",
    "        plt.show()\n",
    "        \n",
    "        selected_input = inputs[im]\n",
    "        selected_output = onehot[im][0]\n",
    "        selected_gt_len_msk = gt_len_msk[im][0]\n",
    "        selected_gtlen = int(np.sum((selected_gt_len_msk[0]),axis=0))\n",
    "        logging.info('GT length: {}'.format(selected_gtlen))\n",
    "        logging.debug('pad: \\n{}'.format(selected_output))\n",
    "        \n",
    "    if show_input_vol:\n",
    "        f, axs = plt.subplots(1,1,figsize=(4,4))\n",
    "        axs.hist(selected_input.flatten(), bins=np.linspace(0.1,1,20))\n",
    "        f.tight_layout()\n",
    "        plt.show()\n",
    "        \n",
    "        list(map(lambda x: show_2D_or_3D(img=x, interpol='bilinear',dpi=100,f_size=(5,5)), selected_input[::slice_n]))\n",
    "        \n",
    "        \n",
    "    if save:\n",
    "        ensure_dir(filepath)\n",
    "        np.save(os.path.join(filepath, filename), x[im])\n",
    "        logging.info('saved to {}'.format(os.path.join(filepath, filename)))"
   ]
  },
  {
   "cell_type": "markdown",
   "metadata": {},
   "source": [
    "# Load the model, load and set the corresponding weights"
   ]
  },
  {
   "cell_type": "code",
   "execution_count": 19,
   "metadata": {},
   "outputs": [
    {
     "name": "stderr",
     "output_type": "stream",
     "text": [
      "2021-05-20 13:35:54,382 INFO loaded model weights as h5 file\n"
     ]
    },
    {
     "name": "stdout",
     "output_type": "stream",
     "text": [
      "Shape after the temporal encoder\n",
      "(None, 36, 8, 4, 4, 320)\n",
      "Shape after GAP\n",
      "(None, 36, 320)\n",
      "Shape after Bi-LSTM layer\n",
      "(None, 36, 320)\n",
      "Shape after final conv layer\n",
      "(None, 36, 5)\n",
      "msecce\n",
      "[<src.utils.Metrics.MSE object at 0x7f6f46d730a0>, <src.utils.Metrics.CCE object at 0x7f6f46d944f0>]\n",
      "added loss: msecce\n"
     ]
    }
   ],
   "source": [
    "from src.models.Models import create_PhaseRegressionModel\n",
    "model = create_PhaseRegressionModel(config)\n",
    "model.load_weights(os.path.join(config['MODEL_PATH'],'model.h5'))\n",
    "logging.info('loaded model weights as h5 file')"
   ]
  },
  {
   "cell_type": "markdown",
   "metadata": {},
   "source": [
    "# Predict on the validation split"
   ]
  },
  {
   "cell_type": "code",
   "execution_count": 24,
   "metadata": {},
   "outputs": [
    {
     "name": "stderr",
     "output_type": "stream",
     "text": [
      "2021-05-20 13:38:27,422 INFO (100, 2, 36, 5)\n"
     ]
    }
   ],
   "source": [
    "# predict on the validation generator\n",
    "preds = model.predict(validation_generator)\n",
    "logging.info(preds.shape)"
   ]
  },
  {
   "cell_type": "markdown",
   "metadata": {},
   "source": [
    "# Get all GT vectors"
   ]
  },
  {
   "cell_type": "code",
   "execution_count": 25,
   "metadata": {},
   "outputs": [
    {
     "name": "stderr",
     "output_type": "stream",
     "text": [
      "2021-05-20 13:38:53,820 INFO (100, 2, 36, 5)\n"
     ]
    }
   ],
   "source": [
    "# get all ground truth vectors\n",
    "gts = np.stack([np.squeeze(y) for x, y in validation_generator])\n",
    "logging.info(gts.shape)"
   ]
  },
  {
   "cell_type": "markdown",
   "metadata": {},
   "source": [
    "# Save gt and pred into the experiment folder"
   ]
  },
  {
   "cell_type": "code",
   "execution_count": 26,
   "metadata": {},
   "outputs": [
    {
     "name": "stderr",
     "output_type": "stream",
     "text": [
      "2021-05-20 13:38:53,840 INFO saved as: \n",
      "exp/temp/relu_mse_comb_cce/2021-05-20_11_12/acdc_pred/gtpred_fold0.npy \n",
      "done!\n"
     ]
    }
   ],
   "source": [
    "pred_path = os.path.join(config['EXP_PATH'], 'acdc_pred')\n",
    "ensure_dir(pred_path)\n",
    "pred_filename = os.path.join(pred_path, 'gtpred_fold{}.npy'.format(config['FOLD']))\n",
    "np.save(pred_filename, np.stack([gts, preds], axis=0))\n",
    "logging.info('saved as: \\n{} \\ndone!'.format(pred_filename))"
   ]
  },
  {
   "cell_type": "code",
   "execution_count": 5,
   "metadata": {},
   "outputs": [
    {
     "data": {
      "text/plain": [
       "['/mnt/ssd/git/dynamic-cmr-models/exp/local/miccai_baseline/miccai_baseline_f0/2021-05-10_12_03/config/config.json',\n",
       " '/mnt/ssd/git/dynamic-cmr-models/exp/local/miccai_baseline/miccai_baseline_f1/2021-05-10_12_54/config/config.json',\n",
       " '/mnt/ssd/git/dynamic-cmr-models/exp/local/miccai_baseline/miccai_baseline_f2/2021-05-10_13_37/config/config.json',\n",
       " '/mnt/ssd/git/dynamic-cmr-models/exp/local/miccai_baseline/miccai_baseline_f3/2021-05-10_14_21/config/config.json']"
      ]
     },
     "execution_count": 5,
     "metadata": {},
     "output_type": "execute_result"
    }
   ],
   "source": [
    "search_str = '**/**/config/config.json'\n",
    "glob.glob(os.path.join('/mnt/ssd/git/dynamic-cmr-models/exp/local/miccai_baseline',search_str))"
   ]
  },
  {
   "cell_type": "markdown",
   "metadata": {},
   "source": [
    "# Load the gts, predictions testwise"
   ]
  },
  {
   "cell_type": "code",
   "execution_count": 27,
   "metadata": {},
   "outputs": [
    {
     "name": "stdout",
     "output_type": "stream",
     "text": [
      "(2, 100, 2, 36, 5)\n",
      "(100, 2, 36, 5)\n",
      "(100, 2, 36, 5)\n"
     ]
    }
   ],
   "source": [
    "temp = np.load(pred_filename)\n",
    "print(temp.shape)\n",
    "gts, preds = np.split(temp,indices_or_sections=2)\n",
    "gts, preds = gts[0], preds[0]\n",
    "print(gts.shape)\n",
    "print(preds.shape)"
   ]
  },
  {
   "cell_type": "code",
   "execution_count": 28,
   "metadata": {},
   "outputs": [
    {
     "data": {
      "image/png": "[encoded data removed]",
      "text/plain": [
       "<Figure size 1440x360 with 8 Axes>"
      ]
     },
     "metadata": {
      "needs_background": "light"
     },
     "output_type": "display_data"
    }
   ],
   "source": [
    "from src.visualization.Visualize import show_phases\n",
    "idx = 8\n",
    "_ = show_phases(gts[idx:idx+4], preds[idx:idx+4])"
   ]
  },
  {
   "cell_type": "code",
   "execution_count": 29,
   "metadata": {},
   "outputs": [],
   "source": [
    "from src.utils.Metrics import meandiff\n",
    "res = meandiff(gts,preds, apply_sum=False, apply_average=False)"
   ]
  },
  {
   "cell_type": "code",
   "execution_count": 30,
   "metadata": {},
   "outputs": [
    {
     "data": {
      "text/plain": [
       "TensorShape([100, 5])"
      ]
     },
     "execution_count": 30,
     "metadata": {},
     "output_type": "execute_result"
    }
   ],
   "source": [
    "res.shape"
   ]
  },
  {
   "cell_type": "code",
   "execution_count": 31,
   "metadata": {},
   "outputs": [
    {
     "data": {
      "text/plain": [
       "(100, 5)"
      ]
     },
     "execution_count": 31,
     "metadata": {},
     "output_type": "execute_result"
    }
   ],
   "source": [
    "phases = ['ED', 'MS', 'ES', 'PF', 'MD']\n",
    "df = pd.DataFrame(res.numpy(), columns=phases)\n",
    "df.shape"
   ]
  },
  {
   "cell_type": "code",
   "execution_count": 13,
   "metadata": {},
   "outputs": [
    {
     "data": {
      "text/html": [
       "<div>\n",
       "<style scoped>\n",
       "    .dataframe tbody tr th:only-of-type {\n",
       "        vertical-align: middle;\n",
       "    }\n",
       "\n",
       "    .dataframe tbody tr th {\n",
       "        vertical-align: top;\n",
       "    }\n",
       "\n",
       "    .dataframe thead th {\n",
       "        text-align: right;\n",
       "    }\n",
       "</style>\n",
       "<table border=\"1\" class=\"dataframe\">\n",
       "  <thead>\n",
       "    <tr style=\"text-align: right;\">\n",
       "      <th></th>\n",
       "      <th>ED</th>\n",
       "      <th>MS</th>\n",
       "      <th>ES</th>\n",
       "      <th>PF</th>\n",
       "      <th>MD</th>\n",
       "    </tr>\n",
       "  </thead>\n",
       "  <tbody>\n",
       "    <tr>\n",
       "      <th>0</th>\n",
       "      <td>0</td>\n",
       "      <td>0</td>\n",
       "      <td>2</td>\n",
       "      <td>1</td>\n",
       "      <td>1</td>\n",
       "    </tr>\n",
       "    <tr>\n",
       "      <th>1</th>\n",
       "      <td>1</td>\n",
       "      <td>1</td>\n",
       "      <td>0</td>\n",
       "      <td>2</td>\n",
       "      <td>2</td>\n",
       "    </tr>\n",
       "    <tr>\n",
       "      <th>2</th>\n",
       "      <td>1</td>\n",
       "      <td>1</td>\n",
       "      <td>2</td>\n",
       "      <td>0</td>\n",
       "      <td>1</td>\n",
       "    </tr>\n",
       "    <tr>\n",
       "      <th>3</th>\n",
       "      <td>1</td>\n",
       "      <td>1</td>\n",
       "      <td>1</td>\n",
       "      <td>1</td>\n",
       "      <td>1</td>\n",
       "    </tr>\n",
       "    <tr>\n",
       "      <th>4</th>\n",
       "      <td>0</td>\n",
       "      <td>0</td>\n",
       "      <td>1</td>\n",
       "      <td>0</td>\n",
       "      <td>0</td>\n",
       "    </tr>\n",
       "    <tr>\n",
       "      <th>...</th>\n",
       "      <td>...</td>\n",
       "      <td>...</td>\n",
       "      <td>...</td>\n",
       "      <td>...</td>\n",
       "      <td>...</td>\n",
       "    </tr>\n",
       "    <tr>\n",
       "      <th>64</th>\n",
       "      <td>1</td>\n",
       "      <td>2</td>\n",
       "      <td>3</td>\n",
       "      <td>1</td>\n",
       "      <td>0</td>\n",
       "    </tr>\n",
       "    <tr>\n",
       "      <th>65</th>\n",
       "      <td>1</td>\n",
       "      <td>1</td>\n",
       "      <td>1</td>\n",
       "      <td>0</td>\n",
       "      <td>2</td>\n",
       "    </tr>\n",
       "    <tr>\n",
       "      <th>66</th>\n",
       "      <td>1</td>\n",
       "      <td>1</td>\n",
       "      <td>1</td>\n",
       "      <td>0</td>\n",
       "      <td>0</td>\n",
       "    </tr>\n",
       "    <tr>\n",
       "      <th>67</th>\n",
       "      <td>2</td>\n",
       "      <td>0</td>\n",
       "      <td>0</td>\n",
       "      <td>1</td>\n",
       "      <td>1</td>\n",
       "    </tr>\n",
       "    <tr>\n",
       "      <th>68</th>\n",
       "      <td>0</td>\n",
       "      <td>1</td>\n",
       "      <td>0</td>\n",
       "      <td>0</td>\n",
       "      <td>1</td>\n",
       "    </tr>\n",
       "  </tbody>\n",
       "</table>\n",
       "<p>69 rows × 5 columns</p>\n",
       "</div>"
      ],
      "text/plain": [
       "    ED  MS  ES  PF  MD\n",
       "0    0   0   2   1   1\n",
       "1    1   1   0   2   2\n",
       "2    1   1   2   0   1\n",
       "3    1   1   1   1   1\n",
       "4    0   0   1   0   0\n",
       "..  ..  ..  ..  ..  ..\n",
       "64   1   2   3   1   0\n",
       "65   1   1   1   0   2\n",
       "66   1   1   1   0   0\n",
       "67   2   0   0   1   1\n",
       "68   0   1   0   0   1\n",
       "\n",
       "[69 rows x 5 columns]"
      ]
     },
     "execution_count": 13,
     "metadata": {},
     "output_type": "execute_result"
    }
   ],
   "source": [
    "df"
   ]
  },
  {
   "cell_type": "code",
   "execution_count": null,
   "metadata": {},
   "outputs": [],
   "source": []
  },
  {
   "cell_type": "code",
   "execution_count": null,
   "metadata": {},
   "outputs": [],
   "source": []
  },
  {
   "cell_type": "code",
   "execution_count": null,
   "metadata": {},
   "outputs": [],
   "source": []
  }
 ],
 "metadata": {
  "kernelspec": {
   "display_name": "dcmr",
   "language": "python",
   "name": "dcmr"
  },
  "language_info": {
   "codemirror_mode": {
    "name": "ipython",
    "version": 3
   },
   "file_extension": ".py",
   "mimetype": "text/x-python",
   "name": "python",
   "nbconvert_exporter": "python",
   "pygments_lexer": "ipython3",
   "version": "3.8.5"
  },
  "widgets": {
   "application/vnd.jupyter.widget-state+json": {
    "state": {},
    "version_major": 2,
    "version_minor": 0
   }
  }
 },
 "nbformat": 4,
 "nbformat_minor": 4
}
