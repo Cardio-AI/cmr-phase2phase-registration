{
 "cells": [
  {
   "cell_type": "markdown",
   "metadata": {},
   "source": [
    "1. Load a cv config with all experiment parameters\n",
    "2. Load the corresponding data, \n",
    "3. create a train and validation generator with the given parameters, exclusive the augmentation parameters\n",
    "4. reconstruct the model with the given parameters, (we have custom loss functions, simple model.load() will not work)\n",
    "5. load and apply the corresponding weights (with respect to the distributed training strategy)\n",
    "6. predict the targt vectors with the train and val generators (make sure that we change the batchsize to 1, and avoid shuffle so that we get all files)\n",
    "7. unstack each predictions and crop it by the length of the stacked gt mask\n",
    "8. threshold/argmax each predicted onehot-vector\n",
    "9. write the gt and predictions as numpy into the corresponding experiment folder (gt with gaussian, or without?, Do we save the onehot or the indicies?)"
   ]
  },
  {
   "cell_type": "code",
   "execution_count": 1,
   "metadata": {},
   "outputs": [
    {
     "name": "stdout",
     "output_type": "stream",
     "text": [
      "search for root_dir and set working directory\n",
      "Working directory set to: /mnt/ssd/git/dynamic-cmr-models\n",
      "['/gpu:0', '/gpu:1']\n"
     ]
    }
   ],
   "source": [
    "# ------------------------------------------define logging and working directory\n",
    "from ProjectRoot import change_wd_to_project_root\n",
    "change_wd_to_project_root()\n",
    "from src.utils.Tensorflow_helper import choose_gpu_by_id\n",
    "# ------------------------------------------define GPU id/s to use\n",
    "GPU_IDS = '0,1'\n",
    "GPUS = choose_gpu_by_id(GPU_IDS)\n",
    "print(GPUS)\n",
    "# ------------------------------------------jupyter magic config\n",
    "%matplotlib inline\n",
    "%reload_ext autoreload\n",
    "%autoreload 2\n",
    "# ------------------------------------------ import helpers\n",
    "# this should import glob, os, and many other standard libs\n",
    "# local imports\n",
    "from src.utils.Notebook_imports import *\n",
    "from src.utils.Utils_io import Console_and_file_logger, init_config\n",
    "\n",
    "# import external libs\n",
    "from tensorflow.python.client import device_lib\n",
    "import tensorflow as tf\n",
    "tf.get_logger().setLevel('ERROR')\n",
    "import cv2\n",
    "import pandas as pd\n",
    "import numpy as np\n",
    "from ipyfilechooser import FileChooser\n"
   ]
  },
  {
   "cell_type": "markdown",
   "metadata": {},
   "source": [
    "# Load a config into the global namespace"
   ]
  },
  {
   "cell_type": "code",
   "execution_count": 2,
   "metadata": {},
   "outputs": [
    {
     "data": {
      "application/vnd.jupyter.widget-view+json": {
       "model_id": "0a09e80ab8dc48e7bf5e4af6c370e052",
       "version_major": 2,
       "version_minor": 0
      },
      "text/plain": [
       "FileChooser(path='/mnt/ssd/git/dynamic-cmr-models/exp/cv_baseline_taug18', filename='', title='HTML(value='', …"
      ]
     },
     "metadata": {},
     "output_type": "display_data"
    },
    {
     "data": {
      "application/vnd.jupyter.widget-view+json": {
       "model_id": "b5b8c77b31bc45fa95a7bfb60dccdfbb",
       "version_major": 2,
       "version_minor": 0
      },
      "text/plain": [
       "interactive(children=(Button(description='Run Interact', style=ButtonStyle()), Output()), _dom_classes=('widge…"
      ]
     },
     "metadata": {},
     "output_type": "display_data"
    }
   ],
   "source": [
    "exp_config_chooser = FileChooser(os.path.join(os.getcwd(),'exp/cv_baseline_taug18'), '')\n",
    "display(exp_config_chooser)\n",
    "@interact_manual\n",
    "def load_config():\n",
    "\n",
    "    global exp_config_chooser, config\n",
    "    \"\"\"\n",
    "    load an experiment config\n",
    "    \"\"\"\n",
    "    if 'exp_config_chooser' in globals():\n",
    "        config_file  = exp_config_chooser.selected\n",
    "    else:\n",
    "        print('no config chooser found')\n",
    "\n",
    "    # load the experiment config\n",
    "    with open(config_file, encoding='utf-8') as data_file:\n",
    "        config = json.loads(data_file.read())\n",
    "    globals().update(config)\n",
    "    Console_and_file_logger(EXPERIMENT, logging.INFO)\n",
    "    logging.info('Loaded config for experiment: {}'.format(config['EXPERIMENT']))"
   ]
  },
  {
   "cell_type": "markdown",
   "metadata": {},
   "source": [
    "# Load the corresponding file names for this fold"
   ]
  },
  {
   "cell_type": "code",
   "execution_count": 3,
   "metadata": {},
   "outputs": [
    {
     "name": "stderr",
     "output_type": "stream",
     "text": [
      "2021-03-03 19:28:23,184 INFO no files found, try to load with clean.nrrd/mask.nrrd pattern\n",
      "2021-03-03 19:28:23,193 INFO Found 278 images/masks in /mnt/ssd/data/gcn/02_imported_4D_unfiltered/SAX/\n",
      "2021-03-03 19:28:23,194 INFO Patients train: 210\n",
      "2021-03-03 19:28:23,206 INFO Selected 209 of 278 files with 210 of 279 patients for training fold 3\n",
      "2021-03-03 19:28:23,206 INFO SAX train CMR: 209, SAX train masks: 209\n",
      "2021-03-03 19:28:23,206 INFO SAX val CMR: 69, SAX val masks: 69\n"
     ]
    }
   ],
   "source": [
    "# Load SAX volumes\n",
    "from src.data.Dataset import get_trainings_files\n",
    "x_train_sax, y_train_sax, x_val_sax, y_val_sax = get_trainings_files(data_path=DATA_PATH_SAX,\n",
    "                                                                     path_to_folds_df=DF_FOLDS,\n",
    "                                                                     fold=FOLD)\n",
    "logging.info('SAX train CMR: {}, SAX train masks: {}'.format(len(x_train_sax), len(y_train_sax)))\n",
    "logging.info('SAX val CMR: {}, SAX val masks: {}'.format(len(x_val_sax), len(y_val_sax)))"
   ]
  },
  {
   "cell_type": "markdown",
   "metadata": {},
   "source": [
    "# Instantiate the train and val generators\n",
    "\n",
    "Make sure that:\n",
    "- no shuffle\n",
    "- no augmentation (classic and temporal)\n",
    "- batchsize equal 1, but this does not work with the model weights"
   ]
  },
  {
   "cell_type": "code",
   "execution_count": 4,
   "metadata": {},
   "outputs": [
    {
     "name": "stderr",
     "output_type": "stream",
     "text": [
      "2021-03-03 19:28:24,989 INFO Create DataGenerator\n",
      "2021-03-03 19:28:24,990 INFO Datagenerator created with: \n",
      " shape: [8, 64, 64]\n",
      " spacing: [8, 3, 3]\n",
      " batchsize: 1\n",
      " Scaler: MinMax\n",
      " Images: 209 \n",
      " Augment: False \n",
      " Thread workers: 8\n",
      "2021-03-03 19:28:24,992 INFO No augmentation\n",
      "2021-03-03 19:28:25,008 INFO Smoothing kernel: \n",
      "[ 1.   1.8  2.6  3.4  4.2  5.  10.   5.   4.2  3.4  2.6  1.8  1. ]\n",
      "2021-03-03 19:28:25,009 INFO Temporal phase augmentation: \n",
      "False\n",
      "Repeat volume: \n",
      "True\n",
      "2021-03-03 19:28:25,009 INFO Create DataGenerator\n",
      "2021-03-03 19:28:25,010 INFO Datagenerator created with: \n",
      " shape: [8, 64, 64]\n",
      " spacing: [8, 3, 3]\n",
      " batchsize: 1\n",
      " Scaler: MinMax\n",
      " Images: 69 \n",
      " Augment: False \n",
      " Thread workers: 8\n",
      "2021-03-03 19:28:25,010 INFO No augmentation\n",
      "2021-03-03 19:28:25,024 INFO Smoothing kernel: \n",
      "[ 1.   1.8  2.6  3.4  4.2  5.  10.   5.   4.2  3.4  2.6  1.8  1. ]\n",
      "2021-03-03 19:28:25,024 INFO Temporal phase augmentation: \n",
      "False\n",
      "Repeat volume: \n",
      "True\n"
     ]
    }
   ],
   "source": [
    "# logging.getLogger().setLevel(logging.INFO)\n",
    "from src.data.Generators import PhaseRegressionGenerator\n",
    "config['SHUFFLE'] = False\n",
    "config['AUGMENT'] = False\n",
    "config['AUGMENT_PHASES'] = False\n",
    "config['BATCHSIZE'] = 1\n",
    "batch_generator = PhaseRegressionGenerator(x_train_sax, x_train_sax, config=config)\n",
    "# create another config for the validation data, for the case of different evaluation\n",
    "val_config = config.copy()\n",
    "#val_config['AUGMENT'] = False\n",
    "#val_config['AUGMENT_PHASES'] = False\n",
    "validation_generator = PhaseRegressionGenerator(x_val_sax, x_val_sax, config=val_config)"
   ]
  },
  {
   "cell_type": "markdown",
   "metadata": {},
   "source": [
    "# Load the model, load and set the corresponding weights"
   ]
  },
  {
   "cell_type": "code",
   "execution_count": 5,
   "metadata": {},
   "outputs": [
    {
     "name": "stderr",
     "output_type": "stream",
     "text": [
      "2021-03-03 19:28:30,248 INFO loaded model weights as h5 file\n"
     ]
    },
    {
     "name": "stdout",
     "output_type": "stream",
     "text": [
      "Shape after the temporal encoder\n",
      "(None, 36, 8, 4, 4, 512)\n",
      "Shape after GAP\n",
      "(None, 36, 512)\n",
      "Shape after Bi-LSTM layer\n",
      "(None, 36, 512)\n",
      "Shape after final conv layer\n",
      "(None, 36, 5)\n"
     ]
    }
   ],
   "source": [
    "from src.models.Models import create_PhaseRegressionModel\n",
    "model = create_PhaseRegressionModel(config)\n",
    "model.load_weights(os.path.join(config['MODEL_PATH'],'model.h5'))\n",
    "logging.info('loaded model weights as h5 file')"
   ]
  },
  {
   "cell_type": "markdown",
   "metadata": {},
   "source": [
    "# Predict on the validation split"
   ]
  },
  {
   "cell_type": "code",
   "execution_count": 6,
   "metadata": {},
   "outputs": [
    {
     "name": "stderr",
     "output_type": "stream",
     "text": [
      "2021-03-03 19:28:42,607 INFO (69, 2, 36, 5)\n"
     ]
    }
   ],
   "source": [
    "# predict on the validation generator\n",
    "preds = model.predict(validation_generator)\n",
    "logging.info(preds.shape)"
   ]
  },
  {
   "cell_type": "markdown",
   "metadata": {},
   "source": [
    "# Get all GT vectors"
   ]
  },
  {
   "cell_type": "code",
   "execution_count": 7,
   "metadata": {},
   "outputs": [
    {
     "name": "stderr",
     "output_type": "stream",
     "text": [
      "2021-03-03 19:28:51,801 INFO (69, 2, 36, 5)\n"
     ]
    }
   ],
   "source": [
    "# get all ground truth vectors\n",
    "gts = np.stack([np.squeeze(y) for x, y in validation_generator])\n",
    "logging.info(gts.shape)"
   ]
  },
  {
   "cell_type": "markdown",
   "metadata": {},
   "source": [
    "# Save gt and pred into the experiment folder"
   ]
  },
  {
   "cell_type": "code",
   "execution_count": 8,
   "metadata": {},
   "outputs": [
    {
     "name": "stderr",
     "output_type": "stream",
     "text": [
      "2021-03-03 19:28:51,818 INFO saved as: \n",
      "exp/cv_baseline_taug18/8_64_64__8_3_3_tenc64_conv1_MSE_NOnorm_augshiftscalerotbrigthness_taug3_3_batch8_f3/2021-03-03_18_26/pred/gtpred_fold3.npy \n",
      "done!\n"
     ]
    }
   ],
   "source": [
    "pred_path = os.path.join(config['EXP_PATH'], 'pred')\n",
    "ensure_dir(pred_path)\n",
    "pred_filename = os.path.join(pred_path, 'gtpred_fold{}.npy'.format(config['FOLD']))\n",
    "np.save(pred_filename, np.stack([gts, preds], axis=0))\n",
    "logging.info('saved as: \\n{} \\ndone!'.format(pred_filename))"
   ]
  },
  {
   "cell_type": "markdown",
   "metadata": {},
   "source": [
    "# Load the gts, predictions testwise"
   ]
  },
  {
   "cell_type": "code",
   "execution_count": 9,
   "metadata": {},
   "outputs": [
    {
     "name": "stdout",
     "output_type": "stream",
     "text": [
      "(2, 69, 2, 36, 5)\n",
      "(69, 2, 36, 5)\n",
      "(69, 2, 36, 5)\n"
     ]
    }
   ],
   "source": [
    "temp = np.load(pred_filename)\n",
    "print(temp.shape)\n",
    "gts, preds = np.split(temp,indices_or_sections=2)\n",
    "gts, preds = gts[0], preds[0]\n",
    "print(gts.shape)\n",
    "print(preds.shape)"
   ]
  },
  {
   "cell_type": "code",
   "execution_count": 10,
   "metadata": {},
   "outputs": [],
   "source": [
    "from src.utils.Metrics import meandiff\n",
    "res = meandiff(gts,preds, apply_sum=False, apply_average=False)"
   ]
  },
  {
   "cell_type": "code",
   "execution_count": 11,
   "metadata": {},
   "outputs": [
    {
     "data": {
      "text/plain": [
       "TensorShape([69, 5])"
      ]
     },
     "execution_count": 11,
     "metadata": {},
     "output_type": "execute_result"
    }
   ],
   "source": [
    "res.shape"
   ]
  },
  {
   "cell_type": "code",
   "execution_count": 12,
   "metadata": {},
   "outputs": [
    {
     "data": {
      "text/plain": [
       "(69, 5)"
      ]
     },
     "execution_count": 12,
     "metadata": {},
     "output_type": "execute_result"
    }
   ],
   "source": [
    "phases = ['ED', 'MS', 'ES', 'PF', 'MD']\n",
    "df = pd.DataFrame(res.numpy(), columns=phases)\n",
    "df.shape"
   ]
  },
  {
   "cell_type": "code",
   "execution_count": 13,
   "metadata": {},
   "outputs": [
    {
     "data": {
      "text/html": [
       "<div>\n",
       "<style scoped>\n",
       "    .dataframe tbody tr th:only-of-type {\n",
       "        vertical-align: middle;\n",
       "    }\n",
       "\n",
       "    .dataframe tbody tr th {\n",
       "        vertical-align: top;\n",
       "    }\n",
       "\n",
       "    .dataframe thead th {\n",
       "        text-align: right;\n",
       "    }\n",
       "</style>\n",
       "<table border=\"1\" class=\"dataframe\">\n",
       "  <thead>\n",
       "    <tr style=\"text-align: right;\">\n",
       "      <th></th>\n",
       "      <th>ED</th>\n",
       "      <th>MS</th>\n",
       "      <th>ES</th>\n",
       "      <th>PF</th>\n",
       "      <th>MD</th>\n",
       "    </tr>\n",
       "  </thead>\n",
       "  <tbody>\n",
       "    <tr>\n",
       "      <th>0</th>\n",
       "      <td>0</td>\n",
       "      <td>0</td>\n",
       "      <td>2</td>\n",
       "      <td>1</td>\n",
       "      <td>1</td>\n",
       "    </tr>\n",
       "    <tr>\n",
       "      <th>1</th>\n",
       "      <td>1</td>\n",
       "      <td>1</td>\n",
       "      <td>0</td>\n",
       "      <td>2</td>\n",
       "      <td>2</td>\n",
       "    </tr>\n",
       "    <tr>\n",
       "      <th>2</th>\n",
       "      <td>1</td>\n",
       "      <td>1</td>\n",
       "      <td>2</td>\n",
       "      <td>0</td>\n",
       "      <td>1</td>\n",
       "    </tr>\n",
       "    <tr>\n",
       "      <th>3</th>\n",
       "      <td>1</td>\n",
       "      <td>1</td>\n",
       "      <td>1</td>\n",
       "      <td>1</td>\n",
       "      <td>1</td>\n",
       "    </tr>\n",
       "    <tr>\n",
       "      <th>4</th>\n",
       "      <td>0</td>\n",
       "      <td>0</td>\n",
       "      <td>1</td>\n",
       "      <td>0</td>\n",
       "      <td>0</td>\n",
       "    </tr>\n",
       "    <tr>\n",
       "      <th>...</th>\n",
       "      <td>...</td>\n",
       "      <td>...</td>\n",
       "      <td>...</td>\n",
       "      <td>...</td>\n",
       "      <td>...</td>\n",
       "    </tr>\n",
       "    <tr>\n",
       "      <th>64</th>\n",
       "      <td>1</td>\n",
       "      <td>2</td>\n",
       "      <td>3</td>\n",
       "      <td>1</td>\n",
       "      <td>0</td>\n",
       "    </tr>\n",
       "    <tr>\n",
       "      <th>65</th>\n",
       "      <td>1</td>\n",
       "      <td>1</td>\n",
       "      <td>1</td>\n",
       "      <td>0</td>\n",
       "      <td>2</td>\n",
       "    </tr>\n",
       "    <tr>\n",
       "      <th>66</th>\n",
       "      <td>1</td>\n",
       "      <td>1</td>\n",
       "      <td>1</td>\n",
       "      <td>0</td>\n",
       "      <td>0</td>\n",
       "    </tr>\n",
       "    <tr>\n",
       "      <th>67</th>\n",
       "      <td>2</td>\n",
       "      <td>0</td>\n",
       "      <td>0</td>\n",
       "      <td>1</td>\n",
       "      <td>1</td>\n",
       "    </tr>\n",
       "    <tr>\n",
       "      <th>68</th>\n",
       "      <td>0</td>\n",
       "      <td>1</td>\n",
       "      <td>0</td>\n",
       "      <td>0</td>\n",
       "      <td>1</td>\n",
       "    </tr>\n",
       "  </tbody>\n",
       "</table>\n",
       "<p>69 rows × 5 columns</p>\n",
       "</div>"
      ],
      "text/plain": [
       "    ED  MS  ES  PF  MD\n",
       "0    0   0   2   1   1\n",
       "1    1   1   0   2   2\n",
       "2    1   1   2   0   1\n",
       "3    1   1   1   1   1\n",
       "4    0   0   1   0   0\n",
       "..  ..  ..  ..  ..  ..\n",
       "64   1   2   3   1   0\n",
       "65   1   1   1   0   2\n",
       "66   1   1   1   0   0\n",
       "67   2   0   0   1   1\n",
       "68   0   1   0   0   1\n",
       "\n",
       "[69 rows x 5 columns]"
      ]
     },
     "execution_count": 13,
     "metadata": {},
     "output_type": "execute_result"
    }
   ],
   "source": [
    "df"
   ]
  },
  {
   "cell_type": "code",
   "execution_count": null,
   "metadata": {},
   "outputs": [],
   "source": []
  },
  {
   "cell_type": "code",
   "execution_count": null,
   "metadata": {},
   "outputs": [],
   "source": []
  },
  {
   "cell_type": "code",
   "execution_count": null,
   "metadata": {},
   "outputs": [],
   "source": []
  }
 ],
 "metadata": {
  "kernelspec": {
   "display_name": "dcmr",
   "language": "python",
   "name": "dcmr"
  },
  "language_info": {
   "codemirror_mode": {
    "name": "ipython",
    "version": 3
   },
   "file_extension": ".py",
   "mimetype": "text/x-python",
   "name": "python",
   "nbconvert_exporter": "python",
   "pygments_lexer": "ipython3",
   "version": "3.8.5"
  },
  "widgets": {
   "application/vnd.jupyter.widget-state+json": {
    "state": {
     "063fc160ef4149739973a99c6c362369": {
      "model_module": "@jupyter-widgets/controls",
      "model_module_version": "1.5.0",
      "model_name": "SelectModel",
      "state": {
       "_options_labels": [
        "..",
        "config.json"
       ],
       "index": 1,
       "layout": "IPY_MODEL_c709bc5317c44d019ecfc8d32279d412",
       "rows": 8,
       "style": "IPY_MODEL_de58c4ecdcb64337a7a7486c973d9ce9"
      }
     },
     "07edae153d91441aac56cbd0147826fb": {
      "model_module": "@jupyter-widgets/controls",
      "model_module_version": "1.5.0",
      "model_name": "ButtonModel",
      "state": {
       "description": "Change",
       "layout": "IPY_MODEL_11efb217d07e477baef4d12ca7303e84",
       "style": "IPY_MODEL_e93c1ccad31b4d7eb2d646d6f176480e"
      }
     },
     "0a09e80ab8dc48e7bf5e4af6c370e052": {
      "model_module": "@jupyter-widgets/controls",
      "model_module_version": "1.5.0",
      "model_name": "VBoxModel",
      "state": {
       "children": [
        "IPY_MODEL_2821195eac6343ef8b19c8c1259772ea",
        "IPY_MODEL_fff66a2a15d44333a3d0021bab1c3e9d",
        "IPY_MODEL_6e8cf074ccbc4fb5ad870a1e5e4d7a1c"
       ],
       "layout": "IPY_MODEL_e6666f7c160c407895b63d0d9c8c4b2a"
      }
     },
     "11efb217d07e477baef4d12ca7303e84": {
      "model_module": "@jupyter-widgets/base",
      "model_module_version": "1.2.0",
      "model_name": "LayoutModel",
      "state": {
       "width": "auto"
      }
     },
     "18e74329a9b84cb6b0f8f38d44a07098": {
      "model_module": "@jupyter-widgets/controls",
      "model_module_version": "1.5.0",
      "model_name": "DropdownModel",
      "state": {
       "_options_labels": [
        "/mnt/ssd/git/dynamic-cmr-models/exp/cv_baseline_taug18/8_64_64__8_3_3_tenc64_conv1_MSE_NOnorm_augshiftscalerotbrigthness_taug3_3_batch8_f3/2021-03-03_18_26/config",
        "/mnt/ssd/git/dynamic-cmr-models/exp/cv_baseline_taug18/8_64_64__8_3_3_tenc64_conv1_MSE_NOnorm_augshiftscalerotbrigthness_taug3_3_batch8_f3/2021-03-03_18_26",
        "/mnt/ssd/git/dynamic-cmr-models/exp/cv_baseline_taug18/8_64_64__8_3_3_tenc64_conv1_MSE_NOnorm_augshiftscalerotbrigthness_taug3_3_batch8_f3",
        "/mnt/ssd/git/dynamic-cmr-models/exp/cv_baseline_taug18",
        "/mnt/ssd/git/dynamic-cmr-models/exp",
        "/mnt/ssd/git/dynamic-cmr-models",
        "/mnt/ssd/git",
        "/mnt/ssd",
        "/mnt",
        "/"
       ],
       "index": 0,
       "layout": "IPY_MODEL_89c90b532fa346ba8809669767f76745",
       "style": "IPY_MODEL_db42dbc96a1347908edf450dcfdf05e6"
      }
     },
     "18fbd3cb220f448dba3fdb8b446ee0f1": {
      "model_module": "@jupyter-widgets/controls",
      "model_module_version": "1.5.0",
      "model_name": "DescriptionStyleModel",
      "state": {
       "description_width": ""
      }
     },
     "2821195eac6343ef8b19c8c1259772ea": {
      "model_module": "@jupyter-widgets/controls",
      "model_module_version": "1.5.0",
      "model_name": "HTMLModel",
      "state": {
       "layout": "IPY_MODEL_944b378f68354603a85d701e3e226970",
       "style": "IPY_MODEL_2e8450211bf542eabfb4e50284655f42"
      }
     },
     "2dd150e3d44b4e59bec57c01b0b1d428": {
      "model_module": "@jupyter-widgets/controls",
      "model_module_version": "1.5.0",
      "model_name": "TextModel",
      "state": {
       "layout": "IPY_MODEL_ff585de7184a41d186c578c4272b0486",
       "placeholder": "output filename",
       "style": "IPY_MODEL_18fbd3cb220f448dba3fdb8b446ee0f1",
       "value": "config.json"
      }
     },
     "2e8450211bf542eabfb4e50284655f42": {
      "model_module": "@jupyter-widgets/controls",
      "model_module_version": "1.5.0",
      "model_name": "DescriptionStyleModel",
      "state": {
       "description_width": ""
      }
     },
     "4ac2d70c57cd42d39982ba0a5ca5a6d1": {
      "model_module": "@jupyter-widgets/base",
      "model_module_version": "1.2.0",
      "model_name": "LayoutModel",
      "state": {
       "display": "none",
       "width": "auto"
      }
     },
     "60c43e08a5b6486aaa18cfd536afb1b9": {
      "model_module": "@jupyter-widgets/controls",
      "model_module_version": "1.5.0",
      "model_name": "HTMLModel",
      "state": {
       "layout": "IPY_MODEL_d174ebb57f3c438b9477af94767d7c1f",
       "placeholder": "",
       "style": "IPY_MODEL_c6307b0cf8f143989afc61cdde6eda89",
       "value": "<span style=\"margin-left:10px; color:orange;\">/mnt/ssd/git/dynamic-cmr-models/exp/cv_baseline_taug18/8_64_64__8_3_3_tenc64_conv1_MSE_NOnorm_augshiftscalerotbrigthness_taug3_3_batch8_f3/2021-03-03_18_26/config/config.json</span>"
      }
     },
     "6e8cf074ccbc4fb5ad870a1e5e4d7a1c": {
      "model_module": "@jupyter-widgets/controls",
      "model_module_version": "1.5.0",
      "model_name": "HBoxModel",
      "state": {
       "children": [
        "IPY_MODEL_07edae153d91441aac56cbd0147826fb",
        "IPY_MODEL_8f93305e8ff44ccaaabcf0b2aa0f9f2c",
        "IPY_MODEL_60c43e08a5b6486aaa18cfd536afb1b9"
       ],
       "layout": "IPY_MODEL_7f1192acee6849ec85a9c17f1f44b883"
      }
     },
     "784818095cdf45b493e3bd343473e00b": {
      "model_module": "@jupyter-widgets/base",
      "model_module_version": "1.2.0",
      "model_name": "LayoutModel",
      "state": {
       "display": "none",
       "grid_gap": "0px 0px",
       "grid_template_areas": "\n                    'pathlist filename'\n                    'dircontent dircontent'\n                    ",
       "grid_template_columns": "60% 40%",
       "grid_template_rows": "auto auto",
       "width": "500px"
      }
     },
     "7c202f02aad24d84bb712402c7024b8a": {
      "model_module": "@jupyter-widgets/base",
      "model_module_version": "1.2.0",
      "model_name": "LayoutModel",
      "state": {}
     },
     "7f1192acee6849ec85a9c17f1f44b883": {
      "model_module": "@jupyter-widgets/base",
      "model_module_version": "1.2.0",
      "model_name": "LayoutModel",
      "state": {
       "width": "auto"
      }
     },
     "89c90b532fa346ba8809669767f76745": {
      "model_module": "@jupyter-widgets/base",
      "model_module_version": "1.2.0",
      "model_name": "LayoutModel",
      "state": {
       "grid_area": "pathlist",
       "width": "auto"
      }
     },
     "8f93305e8ff44ccaaabcf0b2aa0f9f2c": {
      "model_module": "@jupyter-widgets/controls",
      "model_module_version": "1.5.0",
      "model_name": "ButtonModel",
      "state": {
       "description": "Cancel",
       "layout": "IPY_MODEL_4ac2d70c57cd42d39982ba0a5ca5a6d1",
       "style": "IPY_MODEL_da656918c91e46649a938c7fcf122036"
      }
     },
     "9042b5f13207456fbe1f056d0946cb6f": {
      "model_module": "@jupyter-widgets/controls",
      "model_module_version": "1.5.0",
      "model_name": "ButtonStyleModel",
      "state": {}
     },
     "944b378f68354603a85d701e3e226970": {
      "model_module": "@jupyter-widgets/base",
      "model_module_version": "1.2.0",
      "model_name": "LayoutModel",
      "state": {
       "display": "none"
      }
     },
     "b5b8c77b31bc45fa95a7bfb60dccdfbb": {
      "model_module": "@jupyter-widgets/controls",
      "model_module_version": "1.5.0",
      "model_name": "VBoxModel",
      "state": {
       "_dom_classes": [
        "widget-interact"
       ],
       "children": [
        "IPY_MODEL_e2be83ef246c45d4b21d8b6ee1d79bd0",
        "IPY_MODEL_f826c8c6b77640ba9f3d4a36ee692bd3"
       ],
       "layout": "IPY_MODEL_c97bf0c45aa6477ba990b2a03d750d32"
      }
     },
     "c6307b0cf8f143989afc61cdde6eda89": {
      "model_module": "@jupyter-widgets/controls",
      "model_module_version": "1.5.0",
      "model_name": "DescriptionStyleModel",
      "state": {
       "description_width": ""
      }
     },
     "c709bc5317c44d019ecfc8d32279d412": {
      "model_module": "@jupyter-widgets/base",
      "model_module_version": "1.2.0",
      "model_name": "LayoutModel",
      "state": {
       "grid_area": "dircontent",
       "width": "auto"
      }
     },
     "c97bf0c45aa6477ba990b2a03d750d32": {
      "model_module": "@jupyter-widgets/base",
      "model_module_version": "1.2.0",
      "model_name": "LayoutModel",
      "state": {}
     },
     "d0bbe564fd144bd783acb374897decfc": {
      "model_module": "@jupyter-widgets/base",
      "model_module_version": "1.2.0",
      "model_name": "LayoutModel",
      "state": {}
     },
     "d174ebb57f3c438b9477af94767d7c1f": {
      "model_module": "@jupyter-widgets/base",
      "model_module_version": "1.2.0",
      "model_name": "LayoutModel",
      "state": {}
     },
     "da656918c91e46649a938c7fcf122036": {
      "model_module": "@jupyter-widgets/controls",
      "model_module_version": "1.5.0",
      "model_name": "ButtonStyleModel",
      "state": {}
     },
     "db42dbc96a1347908edf450dcfdf05e6": {
      "model_module": "@jupyter-widgets/controls",
      "model_module_version": "1.5.0",
      "model_name": "DescriptionStyleModel",
      "state": {
       "description_width": ""
      }
     },
     "de58c4ecdcb64337a7a7486c973d9ce9": {
      "model_module": "@jupyter-widgets/controls",
      "model_module_version": "1.5.0",
      "model_name": "DescriptionStyleModel",
      "state": {
       "description_width": ""
      }
     },
     "e2be83ef246c45d4b21d8b6ee1d79bd0": {
      "model_module": "@jupyter-widgets/controls",
      "model_module_version": "1.5.0",
      "model_name": "ButtonModel",
      "state": {
       "description": "Run Interact",
       "layout": "IPY_MODEL_7c202f02aad24d84bb712402c7024b8a",
       "style": "IPY_MODEL_9042b5f13207456fbe1f056d0946cb6f"
      }
     },
     "e6666f7c160c407895b63d0d9c8c4b2a": {
      "model_module": "@jupyter-widgets/base",
      "model_module_version": "1.2.0",
      "model_name": "LayoutModel",
      "state": {
       "width": "auto"
      }
     },
     "e93c1ccad31b4d7eb2d646d6f176480e": {
      "model_module": "@jupyter-widgets/controls",
      "model_module_version": "1.5.0",
      "model_name": "ButtonStyleModel",
      "state": {}
     },
     "f826c8c6b77640ba9f3d4a36ee692bd3": {
      "model_module": "@jupyter-widgets/output",
      "model_module_version": "1.0.0",
      "model_name": "OutputModel",
      "state": {
       "layout": "IPY_MODEL_d0bbe564fd144bd783acb374897decfc",
       "outputs": [
        {
         "name": "stderr",
         "output_type": "stream",
         "text": "2021-03-03 19:28:19,973 INFO -------------------- Start --------------------\n2021-03-03 19:28:19,973 INFO Working directory: /mnt/ssd/git/dynamic-cmr-models.\n2021-03-03 19:28:19,974 INFO Log file: ./logs/cv_baseline_taug18/8_64_64__8_3_3_tenc64_conv1_MSE_NOnorm_augshiftscalerotbrigthness_taug3_3_batch8_f3.log\n2021-03-03 19:28:19,974 INFO Log level for console: INFO\n2021-03-03 19:28:19,974 INFO Loaded config for experiment: cv_baseline_taug18/8_64_64__8_3_3_tenc64_conv1_MSE_NOnorm_augshiftscalerotbrigthness_taug3_3_batch8_f3\n"
        }
       ]
      }
     },
     "ff585de7184a41d186c578c4272b0486": {
      "model_module": "@jupyter-widgets/base",
      "model_module_version": "1.2.0",
      "model_name": "LayoutModel",
      "state": {
       "grid_area": "filename",
       "width": "auto"
      }
     },
     "fff66a2a15d44333a3d0021bab1c3e9d": {
      "model_module": "@jupyter-widgets/controls",
      "model_module_version": "1.5.0",
      "model_name": "GridBoxModel",
      "state": {
       "children": [
        "IPY_MODEL_18e74329a9b84cb6b0f8f38d44a07098",
        "IPY_MODEL_2dd150e3d44b4e59bec57c01b0b1d428",
        "IPY_MODEL_063fc160ef4149739973a99c6c362369"
       ],
       "layout": "IPY_MODEL_784818095cdf45b493e3bd343473e00b"
      }
     }
    },
    "version_major": 2,
    "version_minor": 0
   }
  }
 },
 "nbformat": 4,
 "nbformat_minor": 4
}
