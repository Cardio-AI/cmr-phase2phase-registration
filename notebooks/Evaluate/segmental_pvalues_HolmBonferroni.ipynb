{
 "cells": [
  {
   "cell_type": "code",
   "execution_count": 1,
   "id": "6fb1dd79",
   "metadata": {},
   "outputs": [],
   "source": [
    "import numpy as np\n",
    "import pandas as pd\n",
    "import matplotlib.pyplot as plt\n",
    "import seaborn as sb\n",
    "import scipy as scp\n",
    "from scipy import stats\n",
    "import pingouin as pg\n",
    "%matplotlib inline\n",
    "%reload_ext autoreload\n",
    "%autoreload 2\n",
    "import ipywidgets\n",
    "from ipywidgets import interact, interact_manual\n",
    "import os\n",
    "from ProjectRoot import change_wd_to_project_root\n",
    "change_wd_to_project_root()\n",
    "from ipyfilechooser import FileChooser\n",
    "from src.utils.Evaluation import get_pvals_corrected, get_pvals_uncorrected"
   ]
  },
  {
   "cell_type": "code",
   "execution_count": 4,
   "id": "674b6d26",
   "metadata": {
    "tags": []
   },
   "outputs": [],
   "source": [
    "path_chooser = FileChooser(os.path.join(os.getcwd(),'/mnt/sds/sd20i001/sven/code/dynamic-cmr-models/exp/p2p/dmd/jcmr/iso2_5_32_p2p/img05_flow01_msk1/ssimssim_grad_dice/'), 'df_DMD_time_p2p.csv')\n",
    "display(path_chooser)\n",
    "@interact_manual\n",
    "def get_segmental_correlations(alpha0='0.05', target=['lge', 'lgeef']):\n",
    "    \n",
    "    global msk_ss, df_pvals_corrected, df_pvals_uncorrected\n",
    "    alpha0 = float(alpha0)\n",
    "    strain = 'RS'\n",
    "    phase_idx = 0\n",
    "    phases = ['ED','MS','ES','PF','MD']\n",
    "    \n",
    "    \n",
    "    path_to_our_dmd = path_chooser.selected\n",
    "    df_DMD = pd.read_csv(path_to_our_dmd)\n",
    "    df_pvals_uncorrected = get_pvals_uncorrected(df_DMD, target=target)\n",
    "    print(df_pvals_uncorrected.shape)\n",
    "    msk_ss, df_pvals_corrected = get_pvals_corrected(df_pvals_uncorrected, alpha0=alpha0)\n",
    "    \n",
    "    for c in df_pvals_corrected.columns:\n",
    "        if c >=5:\n",
    "            strain = 'CS'\n",
    "            phase_idx = phase_idx%5\n",
    "        sig_segments = df_pvals_corrected.index[df_pvals_corrected[c]<0.05].tolist()\n",
    "        pvalues = df_pvals_corrected.iloc[sig_segments,c].tolist()\n",
    "        if sig_segments: print('{} strain in phase: {} - significant AHA segments: {}, p-values: {}'.format(strain,phases[phase_idx], sig_segments, pvalues))\n",
    "        phase_idx+=1"
   ]
  },
  {
   "cell_type": "code",
   "execution_count": 6,
   "id": "e836fc2e",
   "metadata": {
    "scrolled": true,
    "tags": []
   },
   "outputs": [],
   "source": [
    "df_pvals_uncorrected"
   ]
  },
  {
   "cell_type": "code",
   "execution_count": null,
   "id": "bdf7cf66",
   "metadata": {},
   "outputs": [],
   "source": []
  }
 ],
 "metadata": {
  "kernelspec": {
   "display_name": "dcmr",
   "language": "python",
   "name": "dcmr"
  },
  "language_info": {
   "codemirror_mode": {
    "name": "ipython",
    "version": 3
   },
   "file_extension": ".py",
   "mimetype": "text/x-python",
   "name": "python",
   "nbconvert_exporter": "python",
   "pygments_lexer": "ipython3",
   "version": "3.8.5"
  },
  "widgets": {
   "application/vnd.jupyter.widget-state+json": {
    "state": {},
    "version_major": 2,
    "version_minor": 0
   }
  }
 },
 "nbformat": 4,
 "nbformat_minor": 5
}
