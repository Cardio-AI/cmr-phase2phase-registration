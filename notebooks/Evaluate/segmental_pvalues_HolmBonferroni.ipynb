{
 "cells": [
  {
   "cell_type": "code",
   "execution_count": 3,
   "id": "26ea0046",
   "metadata": {},
   "outputs": [
    {
     "name": "stdout",
     "output_type": "stream",
     "text": [
      "search for root_dir and set working directory\n",
      "Working directory set to: /mnt/ssd/git/dynamic-cmr-models\n"
     ]
    }
   ],
   "source": [
    "import numpy as np\n",
    "import pandas as pd\n",
    "import matplotlib.pyplot as plt\n",
    "import seaborn as sb\n",
    "import scipy as scp\n",
    "from scipy import stats\n",
    "import pingouin as pg\n",
    "%matplotlib inline\n",
    "%reload_ext autoreload\n",
    "%autoreload 2\n",
    "import ipywidgets\n",
    "from ipywidgets import interact, interact_manual\n",
    "import os\n",
    "from ProjectRoot import change_wd_to_project_root\n",
    "change_wd_to_project_root()\n",
    "from ipyfilechooser import FileChooser\n",
    "from src.utils.Evaluation import get_pvals_corrected, get_pvals_uncorrected"
   ]
  },
  {
   "cell_type": "code",
   "execution_count": 38,
   "id": "a56299dd",
   "metadata": {
    "tags": []
   },
   "outputs": [
    {
     "data": {
      "application/vnd.jupyter.widget-view+json": {
       "model_id": "3ad30228f8484da58b006afeef19064e",
       "version_major": 2,
       "version_minor": 0
      },
      "text/plain": [
       "FileChooser(path='/mnt/sds/sd20i001/sven/code/dynamic-cmr-models/exp/p2p/dmd/jcmr/iso2_5_32_p2p/img05_flow01_m…"
      ]
     },
     "metadata": {},
     "output_type": "display_data"
    },
    {
     "data": {
      "application/vnd.jupyter.widget-view+json": {
       "model_id": "a9ad241847ef42b4be9c5c72b34a52d4",
       "version_major": 2,
       "version_minor": 0
      },
      "text/plain": [
       "interactive(children=(Text(value='0.05', description='alpha0'), Button(description='Run Interact', style=Butto…"
      ]
     },
     "metadata": {},
     "output_type": "display_data"
    }
   ],
   "source": [
    "path_chooser = FileChooser(os.path.join(os.getcwd(),'/mnt/sds/sd20i001/sven/code/dynamic-cmr-models/exp/p2p/dmd/jcmr/iso2_5_32_p2p/img05_flow01_msk1/ssimssim_grad_dice/'), 'df_DMD_time_p2p.csv')\n",
    "display(path_chooser)\n",
    "@interact_manual\n",
    "def get_segmental_correlations(alpha0='0.05'):\n",
    "    \n",
    "    global msk_ss, df_pvals_corrected, df_pvals_uncorrected\n",
    "    alpha0 = float(alpha0)\n",
    "    strain = 'RS'\n",
    "    phase_idx = 0\n",
    "    phases = ['ED','MS','ES','PF','MD']\n",
    "    \n",
    "    \n",
    "    path_to_our_dmd = path_chooser.selected\n",
    "    df_DMD = pd.read_csv(path_to_our_dmd)\n",
    "    df_pvals_uncorrected = get_pvals_uncorrected(df_DMD)\n",
    "    print(df_pvals_uncorrected.shape)\n",
    "    msk_ss, df_pvals_corrected = get_pvals_corrected(df_pvals_uncorrected, alpha0=alpha0)\n",
    "    \n",
    "    for c in df_pvals_corrected.columns:\n",
    "        if c >=5:\n",
    "            strain = 'CS'\n",
    "            phase_idx = phase_idx%5\n",
    "        sig_segments = df_pvals_corrected.index[df_pvals_corrected[c]<0.05].tolist()\n",
    "        pvalues = df_pvals_corrected.iloc[sig_segments,c].tolist()\n",
    "        if sig_segments: print('{} strain in phase: {} - significant AHA segments: {}, p-values: {}'.format(strain,phases[phase_idx], sig_segments, pvalues))\n",
    "        phase_idx+=1"
   ]
  },
  {
   "cell_type": "code",
   "execution_count": 17,
   "id": "0efe7316",
   "metadata": {
    "scrolled": true,
    "tags": []
   },
   "outputs": [
    {
     "data": {
      "text/html": [
       "<div>\n",
       "<style scoped>\n",
       "    .dataframe tbody tr th:only-of-type {\n",
       "        vertical-align: middle;\n",
       "    }\n",
       "\n",
       "    .dataframe tbody tr th {\n",
       "        vertical-align: top;\n",
       "    }\n",
       "\n",
       "    .dataframe thead th {\n",
       "        text-align: right;\n",
       "    }\n",
       "</style>\n",
       "<table border=\"1\" class=\"dataframe\">\n",
       "  <thead>\n",
       "    <tr style=\"text-align: right;\">\n",
       "      <th></th>\n",
       "      <th>0</th>\n",
       "      <th>1</th>\n",
       "      <th>2</th>\n",
       "      <th>3</th>\n",
       "      <th>4</th>\n",
       "      <th>5</th>\n",
       "      <th>6</th>\n",
       "      <th>7</th>\n",
       "      <th>8</th>\n",
       "      <th>9</th>\n",
       "    </tr>\n",
       "  </thead>\n",
       "  <tbody>\n",
       "    <tr>\n",
       "      <th>4</th>\n",
       "      <td>1.0</td>\n",
       "      <td>0.43229</td>\n",
       "      <td>1.0</td>\n",
       "      <td>0.07950</td>\n",
       "      <td>1.0</td>\n",
       "      <td>1.0</td>\n",
       "      <td>0.00942</td>\n",
       "      <td>0.00000</td>\n",
       "      <td>0.06191</td>\n",
       "      <td>0.02156</td>\n",
       "    </tr>\n",
       "    <tr>\n",
       "      <th>4</th>\n",
       "      <td>1.0</td>\n",
       "      <td>0.43229</td>\n",
       "      <td>1.0</td>\n",
       "      <td>0.07950</td>\n",
       "      <td>1.0</td>\n",
       "      <td>1.0</td>\n",
       "      <td>0.00942</td>\n",
       "      <td>0.00000</td>\n",
       "      <td>0.06191</td>\n",
       "      <td>0.02156</td>\n",
       "    </tr>\n",
       "    <tr>\n",
       "      <th>4</th>\n",
       "      <td>1.0</td>\n",
       "      <td>0.43229</td>\n",
       "      <td>1.0</td>\n",
       "      <td>0.07950</td>\n",
       "      <td>1.0</td>\n",
       "      <td>1.0</td>\n",
       "      <td>0.00942</td>\n",
       "      <td>0.00000</td>\n",
       "      <td>0.06191</td>\n",
       "      <td>0.02156</td>\n",
       "    </tr>\n",
       "    <tr>\n",
       "      <th>5</th>\n",
       "      <td>1.0</td>\n",
       "      <td>1.00000</td>\n",
       "      <td>1.0</td>\n",
       "      <td>1.00000</td>\n",
       "      <td>1.0</td>\n",
       "      <td>1.0</td>\n",
       "      <td>0.04712</td>\n",
       "      <td>0.34080</td>\n",
       "      <td>0.09834</td>\n",
       "      <td>1.00000</td>\n",
       "    </tr>\n",
       "    <tr>\n",
       "      <th>7</th>\n",
       "      <td>1.0</td>\n",
       "      <td>1.00000</td>\n",
       "      <td>1.0</td>\n",
       "      <td>1.00000</td>\n",
       "      <td>1.0</td>\n",
       "      <td>1.0</td>\n",
       "      <td>1.00000</td>\n",
       "      <td>1.00000</td>\n",
       "      <td>1.00000</td>\n",
       "      <td>0.03213</td>\n",
       "    </tr>\n",
       "    <tr>\n",
       "      <th>10</th>\n",
       "      <td>1.0</td>\n",
       "      <td>0.71824</td>\n",
       "      <td>1.0</td>\n",
       "      <td>0.34122</td>\n",
       "      <td>1.0</td>\n",
       "      <td>1.0</td>\n",
       "      <td>0.01860</td>\n",
       "      <td>0.00159</td>\n",
       "      <td>0.00316</td>\n",
       "      <td>0.29290</td>\n",
       "    </tr>\n",
       "    <tr>\n",
       "      <th>10</th>\n",
       "      <td>1.0</td>\n",
       "      <td>0.71824</td>\n",
       "      <td>1.0</td>\n",
       "      <td>0.34122</td>\n",
       "      <td>1.0</td>\n",
       "      <td>1.0</td>\n",
       "      <td>0.01860</td>\n",
       "      <td>0.00159</td>\n",
       "      <td>0.00316</td>\n",
       "      <td>0.29290</td>\n",
       "    </tr>\n",
       "    <tr>\n",
       "      <th>10</th>\n",
       "      <td>1.0</td>\n",
       "      <td>0.71824</td>\n",
       "      <td>1.0</td>\n",
       "      <td>0.34122</td>\n",
       "      <td>1.0</td>\n",
       "      <td>1.0</td>\n",
       "      <td>0.01860</td>\n",
       "      <td>0.00159</td>\n",
       "      <td>0.00316</td>\n",
       "      <td>0.29290</td>\n",
       "    </tr>\n",
       "    <tr>\n",
       "      <th>14</th>\n",
       "      <td>1.0</td>\n",
       "      <td>1.00000</td>\n",
       "      <td>1.0</td>\n",
       "      <td>1.00000</td>\n",
       "      <td>1.0</td>\n",
       "      <td>1.0</td>\n",
       "      <td>1.00000</td>\n",
       "      <td>0.01560</td>\n",
       "      <td>1.00000</td>\n",
       "      <td>1.00000</td>\n",
       "    </tr>\n",
       "  </tbody>\n",
       "</table>\n",
       "</div>"
      ],
      "text/plain": [
       "      0        1    2        3    4    5        6        7        8        9\n",
       "4   1.0  0.43229  1.0  0.07950  1.0  1.0  0.00942  0.00000  0.06191  0.02156\n",
       "4   1.0  0.43229  1.0  0.07950  1.0  1.0  0.00942  0.00000  0.06191  0.02156\n",
       "4   1.0  0.43229  1.0  0.07950  1.0  1.0  0.00942  0.00000  0.06191  0.02156\n",
       "5   1.0  1.00000  1.0  1.00000  1.0  1.0  0.04712  0.34080  0.09834  1.00000\n",
       "7   1.0  1.00000  1.0  1.00000  1.0  1.0  1.00000  1.00000  1.00000  0.03213\n",
       "10  1.0  0.71824  1.0  0.34122  1.0  1.0  0.01860  0.00159  0.00316  0.29290\n",
       "10  1.0  0.71824  1.0  0.34122  1.0  1.0  0.01860  0.00159  0.00316  0.29290\n",
       "10  1.0  0.71824  1.0  0.34122  1.0  1.0  0.01860  0.00159  0.00316  0.29290\n",
       "14  1.0  1.00000  1.0  1.00000  1.0  1.0  1.00000  0.01560  1.00000  1.00000"
      ]
     },
     "execution_count": 17,
     "metadata": {},
     "output_type": "execute_result"
    }
   ],
   "source": [
    "df_pvals_corrected[msk_ss]"
   ]
  },
  {
   "cell_type": "code",
   "execution_count": null,
   "id": "eeb6bdb2",
   "metadata": {},
   "outputs": [],
   "source": []
  }
 ],
 "metadata": {
  "kernelspec": {
   "display_name": "dcmr",
   "language": "python",
   "name": "dcmr"
  },
  "language_info": {
   "codemirror_mode": {
    "name": "ipython",
    "version": 3
   },
   "file_extension": ".py",
   "mimetype": "text/x-python",
   "name": "python",
   "nbconvert_exporter": "python",
   "pygments_lexer": "ipython3",
   "version": "3.8.5"
  },
  "widgets": {
   "application/vnd.jupyter.widget-state+json": {
    "state": {
     "0026ad1d95104af79b60cf9471c174d3": {
      "model_module": "@jupyter-widgets/base",
      "model_module_version": "1.2.0",
      "model_name": "LayoutModel",
      "state": {}
     },
     "006a13ba3fc04834ad9eaec5bd0f7576": {
      "model_module": "@jupyter-widgets/controls",
      "model_module_version": "1.5.0",
      "model_name": "DescriptionStyleModel",
      "state": {
       "description_width": ""
      }
     },
     "00a7c517be644d0ba2bf5963ef6664cf": {
      "model_module": "@jupyter-widgets/base",
      "model_module_version": "1.2.0",
      "model_name": "LayoutModel",
      "state": {
       "width": "auto"
      }
     },
     "010c068475cb453ba13566b305e41825": {
      "model_module": "@jupyter-widgets/base",
      "model_module_version": "1.2.0",
      "model_name": "LayoutModel",
      "state": {}
     },
     "013ccd8f7c6e4794a67050d6ac9489a4": {
      "model_module": "@jupyter-widgets/base",
      "model_module_version": "1.2.0",
      "model_name": "LayoutModel",
      "state": {
       "display": "none",
       "grid_gap": "0px 0px",
       "grid_template_areas": "\n                    'pathlist filename'\n                    'dircontent dircontent'\n                    ",
       "grid_template_columns": "60% 40%",
       "grid_template_rows": "auto auto",
       "width": "500px"
      }
     },
     "016e918750be4243a32d8a60e268dc51": {
      "model_module": "@jupyter-widgets/controls",
      "model_module_version": "1.5.0",
      "model_name": "HTMLModel",
      "state": {
       "layout": "IPY_MODEL_2fc00bb60baf496e925d5370c23d6268",
       "style": "IPY_MODEL_019dc216e60a4c38898731f3a543ce39"
      }
     },
     "018fbaca70344facaad52fd88291f690": {
      "model_module": "@jupyter-widgets/base",
      "model_module_version": "1.2.0",
      "model_name": "LayoutModel",
      "state": {}
     },
     "019dc216e60a4c38898731f3a543ce39": {
      "model_module": "@jupyter-widgets/controls",
      "model_module_version": "1.5.0",
      "model_name": "DescriptionStyleModel",
      "state": {
       "description_width": ""
      }
     },
     "02f7a48a60e54e4ca084194c0103d29a": {
      "model_module": "@jupyter-widgets/controls",
      "model_module_version": "1.5.0",
      "model_name": "DescriptionStyleModel",
      "state": {
       "description_width": ""
      }
     },
     "02fea6aef01c4c10876f12f37f8b1759": {
      "model_module": "@jupyter-widgets/base",
      "model_module_version": "1.2.0",
      "model_name": "LayoutModel",
      "state": {
       "grid_area": "dircontent",
       "width": "auto"
      }
     },
     "03ae65e1e26e4e3290a312154c4dfdc0": {
      "model_module": "@jupyter-widgets/base",
      "model_module_version": "1.2.0",
      "model_name": "LayoutModel",
      "state": {}
     },
     "0402cf8478df4580a455085c2334e36f": {
      "model_module": "@jupyter-widgets/controls",
      "model_module_version": "1.5.0",
      "model_name": "DescriptionStyleModel",
      "state": {
       "description_width": ""
      }
     },
     "041670b0001d4848bcf73d118c3a7f5e": {
      "model_module": "@jupyter-widgets/controls",
      "model_module_version": "1.5.0",
      "model_name": "DropdownModel",
      "state": {
       "_options_labels": [
        "/mnt/sds/sd20i001/sven/code/dynamic-cmr-models/exp/p2p/dmd/jcmr/iso2_5_32_p2p/img05_flow01_msk1/ssimssim_grad_dice/2023-06-06_12_12_931970",
        "/mnt/sds/sd20i001/sven/code/dynamic-cmr-models/exp/p2p/dmd/jcmr/iso2_5_32_p2p/img05_flow01_msk1/ssimssim_grad_dice",
        "/mnt/sds/sd20i001/sven/code/dynamic-cmr-models/exp/p2p/dmd/jcmr/iso2_5_32_p2p/img05_flow01_msk1",
        "/mnt/sds/sd20i001/sven/code/dynamic-cmr-models/exp/p2p/dmd/jcmr/iso2_5_32_p2p",
        "/mnt/sds/sd20i001/sven/code/dynamic-cmr-models/exp/p2p/dmd/jcmr",
        "/mnt/sds/sd20i001/sven/code/dynamic-cmr-models/exp/p2p/dmd",
        "/mnt/sds/sd20i001/sven/code/dynamic-cmr-models/exp/p2p",
        "/mnt/sds/sd20i001/sven/code/dynamic-cmr-models/exp",
        "/mnt/sds/sd20i001/sven/code/dynamic-cmr-models",
        "/mnt/sds/sd20i001/sven/code",
        "/mnt/sds/sd20i001/sven",
        "/mnt/sds/sd20i001",
        "/mnt/sds",
        "/mnt",
        "/"
       ],
       "index": 0,
       "layout": "IPY_MODEL_db3a7c4ac6fe4453b66db3ab1fff44e6",
       "style": "IPY_MODEL_1de5b20277f342b29782e8bae5a8ff7b"
      }
     },
     "047ce92f07164bce85bc897ef8f1d8c3": {
      "model_module": "@jupyter-widgets/controls",
      "model_module_version": "1.5.0",
      "model_name": "ButtonModel",
      "state": {
       "description": "Run Interact",
       "layout": "IPY_MODEL_0026ad1d95104af79b60cf9471c174d3",
       "style": "IPY_MODEL_a1744f5033264447a028caad3ede2fc4"
      }
     },
     "054a702ed4a940ec9d9e5a0b515de797": {
      "model_module": "@jupyter-widgets/base",
      "model_module_version": "1.2.0",
      "model_name": "LayoutModel",
      "state": {
       "grid_area": "filename",
       "width": "auto"
      }
     },
     "05ee53d2b13040db8f754793d47c8277": {
      "model_module": "@jupyter-widgets/controls",
      "model_module_version": "1.5.0",
      "model_name": "DescriptionStyleModel",
      "state": {
       "description_width": ""
      }
     },
     "066bffe2be9b4cf98fbfee6c4dda2d9d": {
      "model_module": "@jupyter-widgets/base",
      "model_module_version": "1.2.0",
      "model_name": "LayoutModel",
      "state": {}
     },
     "0672a8d3a89a4dd3852106f8e6080934": {
      "model_module": "@jupyter-widgets/controls",
      "model_module_version": "1.5.0",
      "model_name": "HTMLModel",
      "state": {
       "layout": "IPY_MODEL_3547d4379b4f4dcaad743a6d88d7e6a1",
       "placeholder": "",
       "style": "IPY_MODEL_da97d2ac5e4b41b185808642a255a91c",
       "value": "<span style=\"margin-left:10px; color:orange;\">/mnt/sds/sd20i001/sven/code/dynamic-cmr-models/exp/p2p/dmd/jcmr/iso2_5_32_p2p/img05_flow01_msk1/ssimssim_grad_dice/2023-06-06_12_12_931970/df_DMD_time_p2p.csv</span>"
      }
     },
     "07336ea05eb346ffabbb948374ed5bff": {
      "model_module": "@jupyter-widgets/controls",
      "model_module_version": "1.5.0",
      "model_name": "ButtonModel",
      "state": {
       "description": "Cancel",
       "layout": "IPY_MODEL_d2ae46d8de04490892450a80efc60fb8",
       "style": "IPY_MODEL_627eac43503d496897812e5311046d29"
      }
     },
     "079ee4dfb89549ff80fcc6d73f6c786e": {
      "model_module": "@jupyter-widgets/base",
      "model_module_version": "1.2.0",
      "model_name": "LayoutModel",
      "state": {}
     },
     "08a40742940c4871ab4b6c9d4506d49f": {
      "model_module": "@jupyter-widgets/base",
      "model_module_version": "1.2.0",
      "model_name": "LayoutModel",
      "state": {
       "width": "auto"
      }
     },
     "09faba9c5424448d92dd4ec08f1aa5c6": {
      "model_module": "@jupyter-widgets/controls",
      "model_module_version": "1.5.0",
      "model_name": "DescriptionStyleModel",
      "state": {
       "description_width": ""
      }
     },
     "0a3de09998b4437bbf2700a7799deacf": {
      "model_module": "@jupyter-widgets/controls",
      "model_module_version": "1.5.0",
      "model_name": "DescriptionStyleModel",
      "state": {
       "description_width": ""
      }
     },
     "0b30e989a6cf46a3bd833e171fde152d": {
      "model_module": "@jupyter-widgets/base",
      "model_module_version": "1.2.0",
      "model_name": "LayoutModel",
      "state": {
       "display": "none",
       "width": "auto"
      }
     },
     "0b64064e018c4347952569450e8297d1": {
      "model_module": "@jupyter-widgets/controls",
      "model_module_version": "1.5.0",
      "model_name": "DescriptionStyleModel",
      "state": {
       "description_width": ""
      }
     },
     "0b9f1008eac34e3993a87981a65de73f": {
      "model_module": "@jupyter-widgets/base",
      "model_module_version": "1.2.0",
      "model_name": "LayoutModel",
      "state": {}
     },
     "0ba029082df0446d861882f19ee7e7ff": {
      "model_module": "@jupyter-widgets/controls",
      "model_module_version": "1.5.0",
      "model_name": "HTMLModel",
      "state": {
       "layout": "IPY_MODEL_e23f1f8d9dd847ea85c7183d09c5c9d8",
       "placeholder": "",
       "style": "IPY_MODEL_97352fb00cd14a11840c86ea3f4a3d0b",
       "value": "<span style=\"margin-left:10px; color:green;\">/mnt/sds/sd20i001/sven/code/dynamic-cmr-models/exp/p2p/dmd/jcmr/iso2_5_32_p2p/img05_flow01_msk1/ssimssim_grad_dice/2023-06-06_12_12_931970/</span>"
      }
     },
     "0c00b785a7804fc68c171594c4184152": {
      "model_module": "@jupyter-widgets/controls",
      "model_module_version": "1.5.0",
      "model_name": "DescriptionStyleModel",
      "state": {
       "description_width": ""
      }
     },
     "0d5da4361d484247aecfc050ec5c52bf": {
      "model_module": "@jupyter-widgets/controls",
      "model_module_version": "1.5.0",
      "model_name": "DescriptionStyleModel",
      "state": {
       "description_width": ""
      }
     },
     "0de6ccc4d867421baf299a6097df958c": {
      "model_module": "@jupyter-widgets/controls",
      "model_module_version": "1.5.0",
      "model_name": "DescriptionStyleModel",
      "state": {
       "description_width": ""
      }
     },
     "0df5bb841b3440efa1f44019959e14bf": {
      "model_module": "@jupyter-widgets/base",
      "model_module_version": "1.2.0",
      "model_name": "LayoutModel",
      "state": {
       "grid_area": "filename",
       "width": "auto"
      }
     },
     "0e5793b9424c4d2188cea48fd8700d5d": {
      "model_module": "@jupyter-widgets/controls",
      "model_module_version": "1.5.0",
      "model_name": "HTMLModel",
      "state": {
       "layout": "IPY_MODEL_1e066a2c0e8242fa8b6b4c8c0313ee12",
       "style": "IPY_MODEL_2247f38aace44ec08bbdd984f8ab7d1a"
      }
     },
     "0e62e71179ab42bfa16ed3b957843a98": {
      "model_module": "@jupyter-widgets/controls",
      "model_module_version": "1.5.0",
      "model_name": "TextModel",
      "state": {
       "layout": "IPY_MODEL_e86d7285c2c345f7a8bc49aa283b51f5",
       "placeholder": "output filename",
       "style": "IPY_MODEL_99981a0a4e1b4b0ab3c6d3ecf2f27711"
      }
     },
     "0e93acd4a0c2490aa40d557b7f60f9d7": {
      "model_module": "@jupyter-widgets/controls",
      "model_module_version": "1.5.0",
      "model_name": "DescriptionStyleModel",
      "state": {
       "description_width": ""
      }
     },
     "0f6cc93fafe4429c9292f6f4d090d127": {
      "model_module": "@jupyter-widgets/controls",
      "model_module_version": "1.5.0",
      "model_name": "HTMLModel",
      "state": {
       "layout": "IPY_MODEL_5fe0be01a29d461791e4ff7da5d5fc5c",
       "style": "IPY_MODEL_d7a9f85925004304804dd3fcb33b9f9d"
      }
     },
     "0f6da94ef9cc402bb01bef2367480074": {
      "model_module": "@jupyter-widgets/controls",
      "model_module_version": "1.5.0",
      "model_name": "ButtonModel",
      "state": {
       "description": "Change",
       "layout": "IPY_MODEL_19b595671ea744d6a8989b1b352c1eb5",
       "style": "IPY_MODEL_cee1d115028d4d3a864ef43d1ef84044"
      }
     },
     "0febebf1405a4311a876ec000bce27aa": {
      "model_module": "@jupyter-widgets/controls",
      "model_module_version": "1.5.0",
      "model_name": "DescriptionStyleModel",
      "state": {
       "description_width": ""
      }
     },
     "101c08e711b94811a54995fb02ea174c": {
      "model_module": "@jupyter-widgets/base",
      "model_module_version": "1.2.0",
      "model_name": "LayoutModel",
      "state": {
       "width": "auto"
      }
     },
     "106f2510cfa94ebebcdd8a50da9ddec6": {
      "model_module": "@jupyter-widgets/base",
      "model_module_version": "1.2.0",
      "model_name": "LayoutModel",
      "state": {
       "width": "auto"
      }
     },
     "1100e8f4eb4b492eb5c3bc33450b397d": {
      "model_module": "@jupyter-widgets/controls",
      "model_module_version": "1.5.0",
      "model_name": "TextModel",
      "state": {
       "layout": "IPY_MODEL_b9c31266ede2402895b566b41ede89e1",
       "placeholder": "output filename",
       "style": "IPY_MODEL_9135e10ab1f04e67ab908d01c0d7fd74",
       "value": "df_DMD_time_p2p.csv"
      }
     },
     "1176e6a460764f72bcfeb3e0e3f142af": {
      "model_module": "@jupyter-widgets/base",
      "model_module_version": "1.2.0",
      "model_name": "LayoutModel",
      "state": {}
     },
     "11b4de5fcd804d048ae70fad00edf85b": {
      "model_module": "@jupyter-widgets/base",
      "model_module_version": "1.2.0",
      "model_name": "LayoutModel",
      "state": {
       "display": "none",
       "width": "auto"
      }
     },
     "11b6845372d748fc936bcd20aa103909": {
      "model_module": "@jupyter-widgets/base",
      "model_module_version": "1.2.0",
      "model_name": "LayoutModel",
      "state": {
       "width": "auto"
      }
     },
     "11d0b6983a4748199fea437923223d86": {
      "model_module": "@jupyter-widgets/controls",
      "model_module_version": "1.5.0",
      "model_name": "TextModel",
      "state": {
       "description": "alpha0",
       "layout": "IPY_MODEL_d434468b269d431c8846fedd2d5a4945",
       "style": "IPY_MODEL_d552d1ffa2c64ac3b26f8105467939f5",
       "value": "0.01"
      }
     },
     "121db3d77ade415c9ce5ffe2859bf36b": {
      "model_module": "@jupyter-widgets/base",
      "model_module_version": "1.2.0",
      "model_name": "LayoutModel",
      "state": {}
     },
     "12957dd2de124cf7b1b61f274c313ab9": {
      "model_module": "@jupyter-widgets/controls",
      "model_module_version": "1.5.0",
      "model_name": "VBoxModel",
      "state": {
       "_dom_classes": [
        "widget-interact"
       ],
       "children": [
        "IPY_MODEL_7d72db733447477bb021c903ab5b890e",
        "IPY_MODEL_996bfa064801408baefba644e142453f",
        "IPY_MODEL_6ffefc7a5e9640cfb824741df44ebd30"
       ],
       "layout": "IPY_MODEL_018fbaca70344facaad52fd88291f690"
      }
     },
     "141459a7da774ce2a5e22c1a4fd2e47b": {
      "model_module": "@jupyter-widgets/controls",
      "model_module_version": "1.5.0",
      "model_name": "DescriptionStyleModel",
      "state": {
       "description_width": ""
      }
     },
     "142f28630f8d4696904d2bc13c721c5d": {
      "model_module": "@jupyter-widgets/controls",
      "model_module_version": "1.5.0",
      "model_name": "DescriptionStyleModel",
      "state": {
       "description_width": ""
      }
     },
     "14346d947444460293f68d50c0c1190d": {
      "model_module": "@jupyter-widgets/base",
      "model_module_version": "1.2.0",
      "model_name": "LayoutModel",
      "state": {
       "display": "none",
       "width": "auto"
      }
     },
     "144ffd5889ac4bddba4ec33708ea1983": {
      "model_module": "@jupyter-widgets/controls",
      "model_module_version": "1.5.0",
      "model_name": "VBoxModel",
      "state": {
       "children": [
        "IPY_MODEL_2175427b33a8419a83795b98a9b21de0",
        "IPY_MODEL_3aeeb227b7a24a619cd8e71cd22f3f56",
        "IPY_MODEL_7c70cfc745e64a8fbfa9e08b5c9b751b"
       ],
       "layout": "IPY_MODEL_70b5350f716247a3b77b8cd329e1619d"
      }
     },
     "14a6a7786ba14486a894a4536c737cf7": {
      "model_module": "@jupyter-widgets/controls",
      "model_module_version": "1.5.0",
      "model_name": "ButtonModel",
      "state": {
       "description": "Cancel",
       "layout": "IPY_MODEL_ddcd692b14a842fbb798971256c11d80",
       "style": "IPY_MODEL_a9b0d384c1b946c183abe610319a1ab4"
      }
     },
     "156b3bb63dfc4cbd9a0231c339dbf2ab": {
      "model_module": "@jupyter-widgets/controls",
      "model_module_version": "1.5.0",
      "model_name": "DescriptionStyleModel",
      "state": {
       "description_width": ""
      }
     },
     "158f71169d444e54a1f20aa8ace2efc9": {
      "model_module": "@jupyter-widgets/output",
      "model_module_version": "1.0.0",
      "model_name": "OutputModel",
      "state": {
       "layout": "IPY_MODEL_d56bd0b9ebf243639f20775857fc41d6",
       "outputs": [
        {
         "name": "stdout",
         "output_type": "stream",
         "text": "(16, 10)\nCS strain in phase: MS - significant AHA segments: [4, 5, 10], p-values: [0.00942, 0.04712, 0.018600000000000002]\nCS strain in phase: ES - significant AHA segments: [4, 10, 14], p-values: [0.0, 0.00159, 0.015600000000000001]\nCS strain in phase: PF - significant AHA segments: [10], p-values: [0.00316]\nCS strain in phase: MD - significant AHA segments: [4, 7], p-values: [0.02156, 0.03213]\n"
        }
       ]
      }
     },
     "1611a4be45aa409d94e30305e1aaabef": {
      "model_module": "@jupyter-widgets/controls",
      "model_module_version": "1.5.0",
      "model_name": "SelectModel",
      "state": {
       "_options_labels": [
        "..",
        "f0",
        "f1",
        "f2",
        "f3",
        "gt_m",
        "pred",
        "pred_m",
        "Log_errors.log",
        "df_DMD_time_ed2p.csv",
        "df_DMD_time_p2p.csv",
        "model.png",
        "model_summary.txt"
       ],
       "index": 9,
       "layout": "IPY_MODEL_9c3bb02068574660b978e31710a04cbc",
       "rows": 8,
       "style": "IPY_MODEL_7c2560508e3147b3a4127a73c0c307f8"
      }
     },
     "173c6d5721d84e8d8b1fa55c32b2bc9f": {
      "model_module": "@jupyter-widgets/controls",
      "model_module_version": "1.5.0",
      "model_name": "DescriptionStyleModel",
      "state": {
       "description_width": ""
      }
     },
     "17616c69d48f43ce868862a2998ca3b7": {
      "model_module": "@jupyter-widgets/base",
      "model_module_version": "1.2.0",
      "model_name": "LayoutModel",
      "state": {
       "display": "none",
       "grid_gap": "0px 0px",
       "grid_template_areas": "\n                    'pathlist filename'\n                    'dircontent dircontent'\n                    ",
       "grid_template_columns": "60% 40%",
       "grid_template_rows": "auto auto",
       "width": "500px"
      }
     },
     "1830ba2c32ed447998456e19c172fd25": {
      "model_module": "@jupyter-widgets/base",
      "model_module_version": "1.2.0",
      "model_name": "LayoutModel",
      "state": {
       "width": "auto"
      }
     },
     "18b568ae3906410eb58439959060678e": {
      "model_module": "@jupyter-widgets/base",
      "model_module_version": "1.2.0",
      "model_name": "LayoutModel",
      "state": {}
     },
     "18e4725c6dbf41e38272c9b80dad0d83": {
      "model_module": "@jupyter-widgets/base",
      "model_module_version": "1.2.0",
      "model_name": "LayoutModel",
      "state": {
       "grid_area": "pathlist",
       "width": "auto"
      }
     },
     "18e98a7f119e4a4299aaf87cba7c9c52": {
      "model_module": "@jupyter-widgets/base",
      "model_module_version": "1.2.0",
      "model_name": "LayoutModel",
      "state": {
       "grid_area": "filename",
       "width": "auto"
      }
     },
     "196dbfe03e064008aa73ae13b135006f": {
      "model_module": "@jupyter-widgets/base",
      "model_module_version": "1.2.0",
      "model_name": "LayoutModel",
      "state": {
       "width": "auto"
      }
     },
     "1995335501a74696bf41b4e419817c15": {
      "model_module": "@jupyter-widgets/controls",
      "model_module_version": "1.5.0",
      "model_name": "HTMLModel",
      "state": {
       "layout": "IPY_MODEL_7fc6c28ae71a4a1e9d6d316c572ecd5a",
       "style": "IPY_MODEL_80f5e5b80b5c492f86373aa0500d1856"
      }
     },
     "19b595671ea744d6a8989b1b352c1eb5": {
      "model_module": "@jupyter-widgets/base",
      "model_module_version": "1.2.0",
      "model_name": "LayoutModel",
      "state": {
       "width": "auto"
      }
     },
     "1a208b02706f45e494225f3f8d0b27ca": {
      "model_module": "@jupyter-widgets/base",
      "model_module_version": "1.2.0",
      "model_name": "LayoutModel",
      "state": {
       "grid_area": "dircontent",
       "width": "auto"
      }
     },
     "1a6c41fa2302407eafb846f0307c87a3": {
      "model_module": "@jupyter-widgets/controls",
      "model_module_version": "1.5.0",
      "model_name": "HTMLModel",
      "state": {
       "layout": "IPY_MODEL_8c30981fc8f6438aa574618120c5bd5f",
       "placeholder": "",
       "style": "IPY_MODEL_41d0d91852da4c22a6718ff9ec4d6c5b",
       "value": "<span style=\"margin-left:10px; color:orange;\">/mnt/sds/sd20i001/sven/code/dynamic-cmr-models/exp/p2p/dmd/jcmr/iso2_5_32_p2p/img05_flow01_msk1/ssimssim_grad_dice/2023-06-06_12_12_931970/df_DMD_time_p2p.csv</span>"
      }
     },
     "1ad905c0a0154da4a188d727258467fe": {
      "model_module": "@jupyter-widgets/controls",
      "model_module_version": "1.5.0",
      "model_name": "ButtonStyleModel",
      "state": {}
     },
     "1af2044050eb44cf816d101a53ab0cdb": {
      "model_module": "@jupyter-widgets/output",
      "model_module_version": "1.0.0",
      "model_name": "OutputModel",
      "state": {
       "layout": "IPY_MODEL_d027f82731014202907b611d19b72d29"
      }
     },
     "1af3cc15a8074906b07c672bc71a0e52": {
      "model_module": "@jupyter-widgets/controls",
      "model_module_version": "1.5.0",
      "model_name": "TextModel",
      "state": {
       "layout": "IPY_MODEL_1bab1e0071c8450c83359142a88e34a1",
       "placeholder": "output filename",
       "style": "IPY_MODEL_5c7b01a0bf0c47d18a0429722cf2e2cc",
       "value": "df_DMD_time_p2p.csv"
      }
     },
     "1ba46b519a314bef8edc528e3d9ba9cb": {
      "model_module": "@jupyter-widgets/controls",
      "model_module_version": "1.5.0",
      "model_name": "ButtonStyleModel",
      "state": {}
     },
     "1bab1e0071c8450c83359142a88e34a1": {
      "model_module": "@jupyter-widgets/base",
      "model_module_version": "1.2.0",
      "model_name": "LayoutModel",
      "state": {
       "grid_area": "filename",
       "width": "auto"
      }
     },
     "1bfdd63ee46f4ebfa416c799750a22e9": {
      "model_module": "@jupyter-widgets/base",
      "model_module_version": "1.2.0",
      "model_name": "LayoutModel",
      "state": {
       "display": "none",
       "grid_gap": "0px 0px",
       "grid_template_areas": "\n                    'pathlist filename'\n                    'dircontent dircontent'\n                    ",
       "grid_template_columns": "60% 40%",
       "grid_template_rows": "auto auto",
       "width": "500px"
      }
     },
     "1c87b2e39c46474e82206f39e3d26d73": {
      "model_module": "@jupyter-widgets/controls",
      "model_module_version": "1.5.0",
      "model_name": "TextModel",
      "state": {
       "layout": "IPY_MODEL_b915b09fee8a46669639de053ac1aac8",
       "placeholder": "output filename",
       "style": "IPY_MODEL_337589bc5082442585008ef32edf95c8",
       "value": "df_DMD_time_ed2p.csv"
      }
     },
     "1d082aa5bed14d20b80fd04552ff759c": {
      "model_module": "@jupyter-widgets/base",
      "model_module_version": "1.2.0",
      "model_name": "LayoutModel",
      "state": {}
     },
     "1de5b20277f342b29782e8bae5a8ff7b": {
      "model_module": "@jupyter-widgets/controls",
      "model_module_version": "1.5.0",
      "model_name": "DescriptionStyleModel",
      "state": {
       "description_width": ""
      }
     },
     "1e066a2c0e8242fa8b6b4c8c0313ee12": {
      "model_module": "@jupyter-widgets/base",
      "model_module_version": "1.2.0",
      "model_name": "LayoutModel",
      "state": {
       "display": "none"
      }
     },
     "1e0813ae3d334ec58cabf9f2f6ce0146": {
      "model_module": "@jupyter-widgets/controls",
      "model_module_version": "1.5.0",
      "model_name": "DescriptionStyleModel",
      "state": {
       "description_width": ""
      }
     },
     "1e47f27199ee49e690be19d3d24696de": {
      "model_module": "@jupyter-widgets/controls",
      "model_module_version": "1.5.0",
      "model_name": "TextModel",
      "state": {
       "description": "alpha0",
       "layout": "IPY_MODEL_18b568ae3906410eb58439959060678e",
       "style": "IPY_MODEL_344b4f08eed44caa9702e2d207eff602",
       "value": "0.05"
      }
     },
     "1e6f4d3418a94254a1da991bcbbb9367": {
      "model_module": "@jupyter-widgets/controls",
      "model_module_version": "1.5.0",
      "model_name": "GridBoxModel",
      "state": {
       "children": [
        "IPY_MODEL_d9883eb9fc1c42fdb10049f0e226e883",
        "IPY_MODEL_4a7aba661c58412d843fc4006cbd691d",
        "IPY_MODEL_48999f443ba8444bbe27577056633284"
       ],
       "layout": "IPY_MODEL_63a92e0068594556829d6ada21aa20f1"
      }
     },
     "1e830f96e55c42f8b2d3b7b84ca6ebc5": {
      "model_module": "@jupyter-widgets/base",
      "model_module_version": "1.2.0",
      "model_name": "LayoutModel",
      "state": {
       "width": "auto"
      }
     },
     "1ea64f7b85f84e5b9c34a669f5d4483f": {
      "model_module": "@jupyter-widgets/controls",
      "model_module_version": "1.5.0",
      "model_name": "ButtonStyleModel",
      "state": {}
     },
     "1ebe94f1e5f245769d811496a5e7ac1d": {
      "model_module": "@jupyter-widgets/controls",
      "model_module_version": "1.5.0",
      "model_name": "GridBoxModel",
      "state": {
       "children": [
        "IPY_MODEL_2b5fe0836dc641d9b9e0bf547462c49f",
        "IPY_MODEL_ae6c4b93a2fd4db5942f5d784d76edf3",
        "IPY_MODEL_32a79dadc73e40ef88d0a830b2ed9c80"
       ],
       "layout": "IPY_MODEL_6702a3e935654d27ac3862882dd0daef"
      }
     },
     "1ed8828f98774a60a35cacb6a98a6f0c": {
      "model_module": "@jupyter-widgets/base",
      "model_module_version": "1.2.0",
      "model_name": "LayoutModel",
      "state": {}
     },
     "1f35aefa90324d0abe22a62e1876ef0d": {
      "model_module": "@jupyter-widgets/base",
      "model_module_version": "1.2.0",
      "model_name": "LayoutModel",
      "state": {
       "display": "none"
      }
     },
     "20c9c1a086434461ba57a67a3ef548da": {
      "model_module": "@jupyter-widgets/controls",
      "model_module_version": "1.5.0",
      "model_name": "GridBoxModel",
      "state": {
       "children": [
        "IPY_MODEL_43c1f78b31974a3c9d1e982a093d724c",
        "IPY_MODEL_bbc1b53d4abd453e833f55404ae17708",
        "IPY_MODEL_aaeddbad56114b09a39db5b1687917ed"
       ],
       "layout": "IPY_MODEL_65688e1cda6e40ce91c622ae9f5bf37e"
      }
     },
     "20cd6b5f4a254ca288fbf57bd1b70ec2": {
      "model_module": "@jupyter-widgets/base",
      "model_module_version": "1.2.0",
      "model_name": "LayoutModel",
      "state": {}
     },
     "2126262e88de46fdb533e8df6ad82cbb": {
      "model_module": "@jupyter-widgets/base",
      "model_module_version": "1.2.0",
      "model_name": "LayoutModel",
      "state": {}
     },
     "2127737a24a34b929f375f061b0f2e71": {
      "model_module": "@jupyter-widgets/base",
      "model_module_version": "1.2.0",
      "model_name": "LayoutModel",
      "state": {
       "display": "none"
      }
     },
     "213b74cacdb24823ad002410d0a941d8": {
      "model_module": "@jupyter-widgets/controls",
      "model_module_version": "1.5.0",
      "model_name": "HTMLModel",
      "state": {
       "layout": "IPY_MODEL_8ecc6afcc0b34219a1f312cd255fd0a8",
       "style": "IPY_MODEL_bf5bd6549ebf44e89a89c5fed5b2d331"
      }
     },
     "2175427b33a8419a83795b98a9b21de0": {
      "model_module": "@jupyter-widgets/controls",
      "model_module_version": "1.5.0",
      "model_name": "HTMLModel",
      "state": {
       "layout": "IPY_MODEL_4ebaa8d038c74ff7b00c7056acd59249",
       "style": "IPY_MODEL_921806f072d54cf2976bac8d96a2e380"
      }
     },
     "2247f38aace44ec08bbdd984f8ab7d1a": {
      "model_module": "@jupyter-widgets/controls",
      "model_module_version": "1.5.0",
      "model_name": "DescriptionStyleModel",
      "state": {
       "description_width": ""
      }
     },
     "2262cf55b35c48549a0830799361fca9": {
      "model_module": "@jupyter-widgets/controls",
      "model_module_version": "1.5.0",
      "model_name": "SelectModel",
      "state": {
       "_options_labels": [
        "..",
        "f0",
        "f1",
        "f2",
        "f3",
        "gt_m",
        "pred",
        "pred_m",
        "Log_errors.log",
        "df_DMD_time_ed2p.csv",
        "df_DMD_time_p2p.csv",
        "model.png",
        "model_summary.txt"
       ],
       "index": 10,
       "layout": "IPY_MODEL_4c45104bb2da4a5281803fe1f75bd306",
       "rows": 8,
       "style": "IPY_MODEL_6b8c6fc51d9c4921b72c6729391f3c58"
      }
     },
     "22ce132c56994e1a98681b95e83ad17a": {
      "model_module": "@jupyter-widgets/controls",
      "model_module_version": "1.5.0",
      "model_name": "VBoxModel",
      "state": {
       "children": [
        "IPY_MODEL_ba371665a3b14c2291f83ad09482ae2b",
        "IPY_MODEL_cab68c2446634e9bba6e6b5190421da0",
        "IPY_MODEL_f776a11a88ee40d9a0070d5690833c63"
       ],
       "layout": "IPY_MODEL_3182c6c2b0274117bbdbcee1f74e77eb"
      }
     },
     "2398e71d20524542aac3306638fa13ce": {
      "model_module": "@jupyter-widgets/controls",
      "model_module_version": "1.5.0",
      "model_name": "DescriptionStyleModel",
      "state": {
       "description_width": ""
      }
     },
     "23a40c902d0f465891f6486dbeb70f23": {
      "model_module": "@jupyter-widgets/controls",
      "model_module_version": "1.5.0",
      "model_name": "DropdownModel",
      "state": {
       "_options_labels": [
        "/mnt/sds/sd20i001/sven/code/dynamic-cmr-models/exp/p2p/dmd/jcmr/iso2_5_32_p2p/img05_flow01_msk1/ssimssim_grad_dice/2023-06-06_12_12_931970",
        "/mnt/sds/sd20i001/sven/code/dynamic-cmr-models/exp/p2p/dmd/jcmr/iso2_5_32_p2p/img05_flow01_msk1/ssimssim_grad_dice",
        "/mnt/sds/sd20i001/sven/code/dynamic-cmr-models/exp/p2p/dmd/jcmr/iso2_5_32_p2p/img05_flow01_msk1",
        "/mnt/sds/sd20i001/sven/code/dynamic-cmr-models/exp/p2p/dmd/jcmr/iso2_5_32_p2p",
        "/mnt/sds/sd20i001/sven/code/dynamic-cmr-models/exp/p2p/dmd/jcmr",
        "/mnt/sds/sd20i001/sven/code/dynamic-cmr-models/exp/p2p/dmd",
        "/mnt/sds/sd20i001/sven/code/dynamic-cmr-models/exp/p2p",
        "/mnt/sds/sd20i001/sven/code/dynamic-cmr-models/exp",
        "/mnt/sds/sd20i001/sven/code/dynamic-cmr-models",
        "/mnt/sds/sd20i001/sven/code",
        "/mnt/sds/sd20i001/sven",
        "/mnt/sds/sd20i001",
        "/mnt/sds",
        "/mnt",
        "/"
       ],
       "index": 0,
       "layout": "IPY_MODEL_890286d8be584d5d880c7bf98114eba5",
       "style": "IPY_MODEL_c642e4210a944f9aa7535a3933b9cfdd"
      }
     },
     "2450d75bd3db40b38fd4363c8625c490": {
      "model_module": "@jupyter-widgets/base",
      "model_module_version": "1.2.0",
      "model_name": "LayoutModel",
      "state": {
       "display": "none",
       "grid_gap": "0px 0px",
       "grid_template_areas": "\n                    'pathlist filename'\n                    'dircontent dircontent'\n                    ",
       "grid_template_columns": "60% 40%",
       "grid_template_rows": "auto auto",
       "width": "500px"
      }
     },
     "24782f9ebe734f72aa6be68126e26f0d": {
      "model_module": "@jupyter-widgets/controls",
      "model_module_version": "1.5.0",
      "model_name": "ButtonStyleModel",
      "state": {}
     },
     "247f1084175540f8b45128dd0f546d50": {
      "model_module": "@jupyter-widgets/base",
      "model_module_version": "1.2.0",
      "model_name": "LayoutModel",
      "state": {}
     },
     "24ca5882a10b4e80965bb3f3d140947d": {
      "model_module": "@jupyter-widgets/base",
      "model_module_version": "1.2.0",
      "model_name": "LayoutModel",
      "state": {}
     },
     "24dc87c517804415a7e08a05bea1b6d4": {
      "model_module": "@jupyter-widgets/controls",
      "model_module_version": "1.5.0",
      "model_name": "DropdownModel",
      "state": {
       "_options_labels": [
        "/mnt/sds/sd20i001/sven/code/dynamic-cmr-models/exp/p2p/dmd/jcmr/iso2_5_32_p2p/img05_flow01_msk1/ssimssim_grad_dice/2023-06-06_12_12_931970",
        "/mnt/sds/sd20i001/sven/code/dynamic-cmr-models/exp/p2p/dmd/jcmr/iso2_5_32_p2p/img05_flow01_msk1/ssimssim_grad_dice",
        "/mnt/sds/sd20i001/sven/code/dynamic-cmr-models/exp/p2p/dmd/jcmr/iso2_5_32_p2p/img05_flow01_msk1",
        "/mnt/sds/sd20i001/sven/code/dynamic-cmr-models/exp/p2p/dmd/jcmr/iso2_5_32_p2p",
        "/mnt/sds/sd20i001/sven/code/dynamic-cmr-models/exp/p2p/dmd/jcmr",
        "/mnt/sds/sd20i001/sven/code/dynamic-cmr-models/exp/p2p/dmd",
        "/mnt/sds/sd20i001/sven/code/dynamic-cmr-models/exp/p2p",
        "/mnt/sds/sd20i001/sven/code/dynamic-cmr-models/exp",
        "/mnt/sds/sd20i001/sven/code/dynamic-cmr-models",
        "/mnt/sds/sd20i001/sven/code",
        "/mnt/sds/sd20i001/sven",
        "/mnt/sds/sd20i001",
        "/mnt/sds",
        "/mnt",
        "/"
       ],
       "index": 0,
       "layout": "IPY_MODEL_7d1be9f9298e4338800d41fd1e4ad26a",
       "style": "IPY_MODEL_4c2d71e10b21455aa0d629b399e5445f"
      }
     },
     "2531c61eb63c4934a40997e56a485376": {
      "model_module": "@jupyter-widgets/controls",
      "model_module_version": "1.5.0",
      "model_name": "DescriptionStyleModel",
      "state": {
       "description_width": ""
      }
     },
     "2583945094624a3e8ba433709c2266cc": {
      "model_module": "@jupyter-widgets/controls",
      "model_module_version": "1.5.0",
      "model_name": "HBoxModel",
      "state": {
       "children": [
        "IPY_MODEL_ebad766f2c0d4059965046e98ce3f640",
        "IPY_MODEL_62aebece3dab459fbcf66ccbc75c8871",
        "IPY_MODEL_ec0a7a5072f24a269d1d694201d64bae"
       ],
       "layout": "IPY_MODEL_e27507c4d7094663b14ea54f3c9fbf4e"
      }
     },
     "2595956620964050983046c47ff1b3a5": {
      "model_module": "@jupyter-widgets/base",
      "model_module_version": "1.2.0",
      "model_name": "LayoutModel",
      "state": {
       "width": "auto"
      }
     },
     "2701ee5a770c46628e73c08e5325da2f": {
      "model_module": "@jupyter-widgets/controls",
      "model_module_version": "1.5.0",
      "model_name": "ButtonStyleModel",
      "state": {}
     },
     "2838882b9ae74d41a6c010ffd3fcdc80": {
      "model_module": "@jupyter-widgets/base",
      "model_module_version": "1.2.0",
      "model_name": "LayoutModel",
      "state": {}
     },
     "289a1d6a34c241148f473aa99cc6d2fb": {
      "model_module": "@jupyter-widgets/base",
      "model_module_version": "1.2.0",
      "model_name": "LayoutModel",
      "state": {}
     },
     "295e7215ca334ddd97aff6acbf206c99": {
      "model_module": "@jupyter-widgets/base",
      "model_module_version": "1.2.0",
      "model_name": "LayoutModel",
      "state": {}
     },
     "2a925b75e8d444258b6a71906c0d5b8c": {
      "model_module": "@jupyter-widgets/controls",
      "model_module_version": "1.5.0",
      "model_name": "TextModel",
      "state": {
       "layout": "IPY_MODEL_6b484f311a6f4d78a2934cb94ca8418b",
       "placeholder": "output filename",
       "style": "IPY_MODEL_0a3de09998b4437bbf2700a7799deacf",
       "value": "df_DMD_time_ed2p.csv"
      }
     },
     "2a992bb458664a0ab0486f8eb800ec9c": {
      "model_module": "@jupyter-widgets/base",
      "model_module_version": "1.2.0",
      "model_name": "LayoutModel",
      "state": {
       "display": "none"
      }
     },
     "2b3f784c69d446e2907e3f755f5be944": {
      "model_module": "@jupyter-widgets/controls",
      "model_module_version": "1.5.0",
      "model_name": "VBoxModel",
      "state": {
       "_dom_classes": [
        "widget-interact"
       ],
       "children": [
        "IPY_MODEL_78ac353ede1a482b8f219751065656e8",
        "IPY_MODEL_94e937ae4a8d45c8b85d9f4679ab9f19",
        "IPY_MODEL_71384d1d10834181a8bbacd147be9d84"
       ],
       "layout": "IPY_MODEL_ec162f9e591444648d85423bc7b57265"
      }
     },
     "2b5fe0836dc641d9b9e0bf547462c49f": {
      "model_module": "@jupyter-widgets/controls",
      "model_module_version": "1.5.0",
      "model_name": "DropdownModel",
      "state": {
       "_options_labels": [
        "/mnt/sds/sd20i001/sven/code/dynamic-cmr-models/exp/p2p/dmd/jcmr/iso2_5_32_p2p/img05_flow01_msk1/ssimssim_grad_dice/2023-06-06_12_12_931970",
        "/mnt/sds/sd20i001/sven/code/dynamic-cmr-models/exp/p2p/dmd/jcmr/iso2_5_32_p2p/img05_flow01_msk1/ssimssim_grad_dice",
        "/mnt/sds/sd20i001/sven/code/dynamic-cmr-models/exp/p2p/dmd/jcmr/iso2_5_32_p2p/img05_flow01_msk1",
        "/mnt/sds/sd20i001/sven/code/dynamic-cmr-models/exp/p2p/dmd/jcmr/iso2_5_32_p2p",
        "/mnt/sds/sd20i001/sven/code/dynamic-cmr-models/exp/p2p/dmd/jcmr",
        "/mnt/sds/sd20i001/sven/code/dynamic-cmr-models/exp/p2p/dmd",
        "/mnt/sds/sd20i001/sven/code/dynamic-cmr-models/exp/p2p",
        "/mnt/sds/sd20i001/sven/code/dynamic-cmr-models/exp",
        "/mnt/sds/sd20i001/sven/code/dynamic-cmr-models",
        "/mnt/sds/sd20i001/sven/code",
        "/mnt/sds/sd20i001/sven",
        "/mnt/sds/sd20i001",
        "/mnt/sds",
        "/mnt",
        "/"
       ],
       "index": 0,
       "layout": "IPY_MODEL_a55740c6dec748a9870c1e8cb59d4838",
       "style": "IPY_MODEL_5da657bd09f7450fa0bfd4ac4e1f3c3d"
      }
     },
     "2b815e4b059347b09d43c619ab3415aa": {
      "model_module": "@jupyter-widgets/controls",
      "model_module_version": "1.5.0",
      "model_name": "HTMLModel",
      "state": {
       "layout": "IPY_MODEL_20cd6b5f4a254ca288fbf57bd1b70ec2",
       "placeholder": "",
       "style": "IPY_MODEL_5f0c1a42465a46c7be5e5799f631c727",
       "value": "<span style=\"margin-left:10px; color:green;\">/mnt/sds/sd20i001/sven/code/dynamic-cmr-models/exp/p2p/dmd/jcmr/iso2_5_32_p2p/img05_flow01_msk1/ssimssim_grad_dice/2023-06-06_12_12_931970/</span>"
      }
     },
     "2c400e87a6f24a7587012030a2297ffe": {
      "model_module": "@jupyter-widgets/controls",
      "model_module_version": "1.5.0",
      "model_name": "HTMLModel",
      "state": {
       "layout": "IPY_MODEL_1f35aefa90324d0abe22a62e1876ef0d",
       "style": "IPY_MODEL_67017472babc4648878a9cee7d0cb27d"
      }
     },
     "2eb2d530baf84868b52490586c963d01": {
      "model_module": "@jupyter-widgets/controls",
      "model_module_version": "1.5.0",
      "model_name": "ButtonStyleModel",
      "state": {}
     },
     "2fc00bb60baf496e925d5370c23d6268": {
      "model_module": "@jupyter-widgets/base",
      "model_module_version": "1.2.0",
      "model_name": "LayoutModel",
      "state": {
       "display": "none"
      }
     },
     "301a75f234f848708026626bc1ddcb27": {
      "model_module": "@jupyter-widgets/controls",
      "model_module_version": "1.5.0",
      "model_name": "ButtonModel",
      "state": {
       "description": "Cancel",
       "layout": "IPY_MODEL_0b30e989a6cf46a3bd833e171fde152d",
       "style": "IPY_MODEL_e81a2adc15354a96af6427b012f7dc5f"
      }
     },
     "307fb8af02db4858a662980c089458be": {
      "model_module": "@jupyter-widgets/base",
      "model_module_version": "1.2.0",
      "model_name": "LayoutModel",
      "state": {}
     },
     "3154a267870b4f73860e524263c9a0d1": {
      "model_module": "@jupyter-widgets/controls",
      "model_module_version": "1.5.0",
      "model_name": "ButtonStyleModel",
      "state": {}
     },
     "3182c6c2b0274117bbdbcee1f74e77eb": {
      "model_module": "@jupyter-widgets/base",
      "model_module_version": "1.2.0",
      "model_name": "LayoutModel",
      "state": {
       "width": "auto"
      }
     },
     "3290542cfaa846a3920858ef9f72a523": {
      "model_module": "@jupyter-widgets/controls",
      "model_module_version": "1.5.0",
      "model_name": "DropdownModel",
      "state": {
       "_options_labels": [
        "/mnt/sds/sd20i001/sven/code/dynamic-cmr-models/exp/p2p/dmd/jcmr/iso2_5_32_p2p/img05_flow01_msk1/ssimssim_grad_dice/2023-06-06_12_12_931970",
        "/mnt/sds/sd20i001/sven/code/dynamic-cmr-models/exp/p2p/dmd/jcmr/iso2_5_32_p2p/img05_flow01_msk1/ssimssim_grad_dice",
        "/mnt/sds/sd20i001/sven/code/dynamic-cmr-models/exp/p2p/dmd/jcmr/iso2_5_32_p2p/img05_flow01_msk1",
        "/mnt/sds/sd20i001/sven/code/dynamic-cmr-models/exp/p2p/dmd/jcmr/iso2_5_32_p2p",
        "/mnt/sds/sd20i001/sven/code/dynamic-cmr-models/exp/p2p/dmd/jcmr",
        "/mnt/sds/sd20i001/sven/code/dynamic-cmr-models/exp/p2p/dmd",
        "/mnt/sds/sd20i001/sven/code/dynamic-cmr-models/exp/p2p",
        "/mnt/sds/sd20i001/sven/code/dynamic-cmr-models/exp",
        "/mnt/sds/sd20i001/sven/code/dynamic-cmr-models",
        "/mnt/sds/sd20i001/sven/code",
        "/mnt/sds/sd20i001/sven",
        "/mnt/sds/sd20i001",
        "/mnt/sds",
        "/mnt",
        "/"
       ],
       "index": 0,
       "layout": "IPY_MODEL_ce0941f5dd674d87bf33bb1881bce8d6",
       "style": "IPY_MODEL_8e764205833041549447d9209f11c1ae"
      }
     },
     "32a66128e9a44e0ca8b1a47b04224d89": {
      "model_module": "@jupyter-widgets/controls",
      "model_module_version": "1.5.0",
      "model_name": "DescriptionStyleModel",
      "state": {
       "description_width": ""
      }
     },
     "32a79dadc73e40ef88d0a830b2ed9c80": {
      "model_module": "@jupyter-widgets/controls",
      "model_module_version": "1.5.0",
      "model_name": "SelectModel",
      "state": {
       "_options_labels": [
        "..",
        "f0",
        "f1",
        "f2",
        "f3",
        "gt_m",
        "pred",
        "pred_m",
        "Log_errors.log",
        "df_DMD_time_ed2p.csv",
        "df_DMD_time_p2p.csv",
        "model.png",
        "model_summary.txt"
       ],
       "index": 9,
       "layout": "IPY_MODEL_ee47a826961841e6ae63e2e4b13747d7",
       "rows": 8,
       "style": "IPY_MODEL_c298d64623ad48b89a105216cd5cac0d"
      }
     },
     "32d026164b8a426eaa1cf3351f050281": {
      "model_module": "@jupyter-widgets/controls",
      "model_module_version": "1.5.0",
      "model_name": "DescriptionStyleModel",
      "state": {
       "description_width": ""
      }
     },
     "337589bc5082442585008ef32edf95c8": {
      "model_module": "@jupyter-widgets/controls",
      "model_module_version": "1.5.0",
      "model_name": "DescriptionStyleModel",
      "state": {
       "description_width": ""
      }
     },
     "338089be6fed4f9394425e79e3f6b8df": {
      "model_module": "@jupyter-widgets/base",
      "model_module_version": "1.2.0",
      "model_name": "LayoutModel",
      "state": {
       "display": "none",
       "grid_gap": "0px 0px",
       "grid_template_areas": "\n                    'pathlist filename'\n                    'dircontent dircontent'\n                    ",
       "grid_template_columns": "60% 40%",
       "grid_template_rows": "auto auto",
       "width": "500px"
      }
     },
     "339f0be104674b879cf1fe93ddaadc16": {
      "model_module": "@jupyter-widgets/base",
      "model_module_version": "1.2.0",
      "model_name": "LayoutModel",
      "state": {
       "width": "auto"
      }
     },
     "33d9ebc4dc25435b92c4e12f610c36d7": {
      "model_module": "@jupyter-widgets/controls",
      "model_module_version": "1.5.0",
      "model_name": "VBoxModel",
      "state": {
       "children": [
        "IPY_MODEL_b9659e402e50403e90ce355290cd2228",
        "IPY_MODEL_3a59958c22f14d9182714b2953bb1f59",
        "IPY_MODEL_a10361b9118a4ecc9edd0572dd7d53b8"
       ],
       "layout": "IPY_MODEL_f9ab0683956243358124441eb22bf893"
      }
     },
     "344b4f08eed44caa9702e2d207eff602": {
      "model_module": "@jupyter-widgets/controls",
      "model_module_version": "1.5.0",
      "model_name": "DescriptionStyleModel",
      "state": {
       "description_width": ""
      }
     },
     "34709c7a43294849907297ea3eccc37d": {
      "model_module": "@jupyter-widgets/controls",
      "model_module_version": "1.5.0",
      "model_name": "DropdownModel",
      "state": {
       "_options_labels": [
        "/mnt/sds/sd20i001/sven/code/dynamic-cmr-models/exp/p2p/dmd/jcmr/iso2_5_32_p2p/img05_flow01_msk1/ssimssim_grad_dice/2023-06-06_12_12_931970",
        "/mnt/sds/sd20i001/sven/code/dynamic-cmr-models/exp/p2p/dmd/jcmr/iso2_5_32_p2p/img05_flow01_msk1/ssimssim_grad_dice",
        "/mnt/sds/sd20i001/sven/code/dynamic-cmr-models/exp/p2p/dmd/jcmr/iso2_5_32_p2p/img05_flow01_msk1",
        "/mnt/sds/sd20i001/sven/code/dynamic-cmr-models/exp/p2p/dmd/jcmr/iso2_5_32_p2p",
        "/mnt/sds/sd20i001/sven/code/dynamic-cmr-models/exp/p2p/dmd/jcmr",
        "/mnt/sds/sd20i001/sven/code/dynamic-cmr-models/exp/p2p/dmd",
        "/mnt/sds/sd20i001/sven/code/dynamic-cmr-models/exp/p2p",
        "/mnt/sds/sd20i001/sven/code/dynamic-cmr-models/exp",
        "/mnt/sds/sd20i001/sven/code/dynamic-cmr-models",
        "/mnt/sds/sd20i001/sven/code",
        "/mnt/sds/sd20i001/sven",
        "/mnt/sds/sd20i001",
        "/mnt/sds",
        "/mnt",
        "/"
       ],
       "index": 0,
       "layout": "IPY_MODEL_f47deed39def4f40a041c902c9bd1e93",
       "style": "IPY_MODEL_865044502acf47e9a481be958bf4866a"
      }
     },
     "34c38a699e0a41778e2965d5dffa6107": {
      "model_module": "@jupyter-widgets/controls",
      "model_module_version": "1.5.0",
      "model_name": "ButtonStyleModel",
      "state": {}
     },
     "34c82f2fe4644a0fabe97eef8bc1b88f": {
      "model_module": "@jupyter-widgets/controls",
      "model_module_version": "1.5.0",
      "model_name": "ButtonModel",
      "state": {
       "description": "Cancel",
       "layout": "IPY_MODEL_93c96f3b0b5d4b6298692624cf08c27a",
       "style": "IPY_MODEL_c4e8b69198214380b31438a922593f0c"
      }
     },
     "3547d4379b4f4dcaad743a6d88d7e6a1": {
      "model_module": "@jupyter-widgets/base",
      "model_module_version": "1.2.0",
      "model_name": "LayoutModel",
      "state": {}
     },
     "364d8cc04e9a43c480889f5a4818f7d4": {
      "model_module": "@jupyter-widgets/base",
      "model_module_version": "1.2.0",
      "model_name": "LayoutModel",
      "state": {}
     },
     "37084e2742e547eb800bdbcdec33a4ab": {
      "model_module": "@jupyter-widgets/controls",
      "model_module_version": "1.5.0",
      "model_name": "HTMLModel",
      "state": {
       "layout": "IPY_MODEL_a77c2bca869d4a919e3269f69d54a81a",
       "style": "IPY_MODEL_47e73fa83aca4d0d8ea0934c66144600"
      }
     },
     "37959304862e45b881e2d809cdc64557": {
      "model_module": "@jupyter-widgets/base",
      "model_module_version": "1.2.0",
      "model_name": "LayoutModel",
      "state": {}
     },
     "37a61ffde28c4c8791ee040a74f91b3d": {
      "model_module": "@jupyter-widgets/controls",
      "model_module_version": "1.5.0",
      "model_name": "VBoxModel",
      "state": {
       "children": [
        "IPY_MODEL_213b74cacdb24823ad002410d0a941d8",
        "IPY_MODEL_1ebe94f1e5f245769d811496a5e7ac1d",
        "IPY_MODEL_9a925242dfe94a5ea70dd3b16c3f3589"
       ],
       "layout": "IPY_MODEL_dccad3d983354e9cb889dccd158d6270"
      }
     },
     "386e71f5bf9a45869615281008d7aad6": {
      "model_module": "@jupyter-widgets/controls",
      "model_module_version": "1.5.0",
      "model_name": "HTMLModel",
      "state": {
       "layout": "IPY_MODEL_be70ff5a203442a4b42488a5fe4bee3c",
       "placeholder": "",
       "style": "IPY_MODEL_0c00b785a7804fc68c171594c4184152",
       "value": "<span style=\"margin-left:10px; color:black;\">No file selected</span>"
      }
     },
     "388dcadff62241728b739ffd59cfcd7a": {
      "model_module": "@jupyter-widgets/base",
      "model_module_version": "1.2.0",
      "model_name": "LayoutModel",
      "state": {
       "display": "none",
       "grid_gap": "0px 0px",
       "grid_template_areas": "\n                    'pathlist filename'\n                    'dircontent dircontent'\n                    ",
       "grid_template_columns": "60% 40%",
       "grid_template_rows": "auto auto",
       "width": "500px"
      }
     },
     "38a861bdf146477a88fad10101cc3a1a": {
      "model_module": "@jupyter-widgets/base",
      "model_module_version": "1.2.0",
      "model_name": "LayoutModel",
      "state": {}
     },
     "39d1acf1094c4f4c8972a2f49bad0386": {
      "model_module": "@jupyter-widgets/base",
      "model_module_version": "1.2.0",
      "model_name": "LayoutModel",
      "state": {}
     },
     "39dfd967a5de4846b585990e3359bf96": {
      "model_module": "@jupyter-widgets/controls",
      "model_module_version": "1.5.0",
      "model_name": "HTMLModel",
      "state": {
       "layout": "IPY_MODEL_a4d9757126704fcfaecf1a3437f61146",
       "style": "IPY_MODEL_0402cf8478df4580a455085c2334e36f"
      }
     },
     "3a59958c22f14d9182714b2953bb1f59": {
      "model_module": "@jupyter-widgets/controls",
      "model_module_version": "1.5.0",
      "model_name": "GridBoxModel",
      "state": {
       "children": [
        "IPY_MODEL_6a6308355aaa4fc899b5d7ec781225bd",
        "IPY_MODEL_6ce24f987723421dbb408b78563be1e4",
        "IPY_MODEL_2262cf55b35c48549a0830799361fca9"
       ],
       "layout": "IPY_MODEL_338089be6fed4f9394425e79e3f6b8df"
      }
     },
     "3ad30228f8484da58b006afeef19064e": {
      "model_module": "@jupyter-widgets/controls",
      "model_module_version": "1.5.0",
      "model_name": "VBoxModel",
      "state": {
       "children": [
        "IPY_MODEL_65b5ec5b20e94d2bae636c9ec26b1b2c",
        "IPY_MODEL_6033598bd6e04f879257f06b304a5580",
        "IPY_MODEL_cba5ec5b45184385ac670f474afcb1c4"
       ],
       "layout": "IPY_MODEL_339f0be104674b879cf1fe93ddaadc16"
      }
     },
     "3aeeb227b7a24a619cd8e71cd22f3f56": {
      "model_module": "@jupyter-widgets/controls",
      "model_module_version": "1.5.0",
      "model_name": "GridBoxModel",
      "state": {
       "children": [
        "IPY_MODEL_34709c7a43294849907297ea3eccc37d",
        "IPY_MODEL_1c87b2e39c46474e82206f39e3d26d73",
        "IPY_MODEL_1611a4be45aa409d94e30305e1aaabef"
       ],
       "layout": "IPY_MODEL_2450d75bd3db40b38fd4363c8625c490"
      }
     },
     "3afc3fcfcb504748994e67a1b10c8cd9": {
      "model_module": "@jupyter-widgets/base",
      "model_module_version": "1.2.0",
      "model_name": "LayoutModel",
      "state": {
       "width": "auto"
      }
     },
     "3b8c2c1edb7642bb8c9006d703d2b9b0": {
      "model_module": "@jupyter-widgets/base",
      "model_module_version": "1.2.0",
      "model_name": "LayoutModel",
      "state": {
       "width": "auto"
      }
     },
     "3bbb5ed543b24b478790cddf763479ff": {
      "model_module": "@jupyter-widgets/controls",
      "model_module_version": "1.5.0",
      "model_name": "ButtonModel",
      "state": {
       "description": "Run Interact",
       "layout": "IPY_MODEL_c333ebe51aab46c69cbb4dd44f744416",
       "style": "IPY_MODEL_9eddcc13313d4350bf0daa44adc477fb"
      }
     },
     "3c5339da6d4a4a1d94c997d9e097a1ec": {
      "model_module": "@jupyter-widgets/base",
      "model_module_version": "1.2.0",
      "model_name": "LayoutModel",
      "state": {}
     },
     "3d4895e34c4542ba961b6d0e30092e94": {
      "model_module": "@jupyter-widgets/controls",
      "model_module_version": "1.5.0",
      "model_name": "DescriptionStyleModel",
      "state": {
       "description_width": ""
      }
     },
     "3e4a40f44b944fd1bf6846ba5830b607": {
      "model_module": "@jupyter-widgets/controls",
      "model_module_version": "1.5.0",
      "model_name": "ButtonModel",
      "state": {
       "description": "Run Interact",
       "layout": "IPY_MODEL_a3c5906ad5f448a1a1a08b8568b02a75",
       "style": "IPY_MODEL_eff34184d04847f18dd435853001bfc8"
      }
     },
     "3e5d24cd154c45df96ffd58754dd835a": {
      "model_module": "@jupyter-widgets/controls",
      "model_module_version": "1.5.0",
      "model_name": "ButtonModel",
      "state": {
       "description": "Cancel",
       "layout": "IPY_MODEL_e5050b23c2e14b9bb34651694f97d41f",
       "style": "IPY_MODEL_9b3c55deacad4dc5b9bd9640a8c7a9a2"
      }
     },
     "3e603e9ccc244fa0be6f8371f43c263e": {
      "model_module": "@jupyter-widgets/controls",
      "model_module_version": "1.5.0",
      "model_name": "VBoxModel",
      "state": {
       "_dom_classes": [
        "widget-interact"
       ],
       "children": [
        "IPY_MODEL_fe1996ec28b24ec185d3d41ecd44c48f",
        "IPY_MODEL_cb5904e506d142e6b11db7a779d6e30d",
        "IPY_MODEL_f74765fb4c8c49e19c41eb97f335a6e6"
       ],
       "layout": "IPY_MODEL_079ee4dfb89549ff80fcc6d73f6c786e"
      }
     },
     "3e6ac781b8ce48ec82a436669fd0f211": {
      "model_module": "@jupyter-widgets/controls",
      "model_module_version": "1.5.0",
      "model_name": "VBoxModel",
      "state": {
       "children": [
        "IPY_MODEL_1995335501a74696bf41b4e419817c15",
        "IPY_MODEL_526f30a8561a4b0fa252ccbaf49ff231",
        "IPY_MODEL_5f2b2f60981c40da93806d6ec03de213"
       ],
       "layout": "IPY_MODEL_106f2510cfa94ebebcdd8a50da9ddec6"
      }
     },
     "3f7995537c284a80bdc7b25ae5b0786c": {
      "model_module": "@jupyter-widgets/controls",
      "model_module_version": "1.5.0",
      "model_name": "VBoxModel",
      "state": {
       "_dom_classes": [
        "widget-interact"
       ],
       "children": [
        "IPY_MODEL_e45fdcac59eb46b5b4bf449080a5187d",
        "IPY_MODEL_cbde6b5f19ac4db480c6439b53b7e4ae",
        "IPY_MODEL_a595d863e09a447da0f605faa43b8d87"
       ],
       "layout": "IPY_MODEL_eca14a99d9d44c6098a2dd7919cb9796"
      }
     },
     "400281be6b884dfe88611289df0cd350": {
      "model_module": "@jupyter-widgets/controls",
      "model_module_version": "1.5.0",
      "model_name": "VBoxModel",
      "state": {
       "_dom_classes": [
        "widget-interact"
       ],
       "children": [
        "IPY_MODEL_8ee350a4ac934f28ba51eaab5bf885b6",
        "IPY_MODEL_ffc2ffca55ce4f1db76a9c5d9f51095f",
        "IPY_MODEL_7cf07f8bf6d9468b92e51ba289ebd7eb"
       ],
       "layout": "IPY_MODEL_caf3b66a01174ea58c91d137c735cc5d"
      }
     },
     "411733ad7aa543d9aec9e22cd12378c3": {
      "model_module": "@jupyter-widgets/base",
      "model_module_version": "1.2.0",
      "model_name": "LayoutModel",
      "state": {
       "display": "none"
      }
     },
     "41c74a8d61c64b4885fe0bd8f0235ac3": {
      "model_module": "@jupyter-widgets/controls",
      "model_module_version": "1.5.0",
      "model_name": "GridBoxModel",
      "state": {
       "children": [
        "IPY_MODEL_fce9cb0bdd5c4039932207b8060ac9ed",
        "IPY_MODEL_67a130e6539342db88f3fff01ff1fdf9",
        "IPY_MODEL_804c4f3f6d6b42e0a632a27cf67483e2"
       ],
       "layout": "IPY_MODEL_013ccd8f7c6e4794a67050d6ac9489a4"
      }
     },
     "41d0d91852da4c22a6718ff9ec4d6c5b": {
      "model_module": "@jupyter-widgets/controls",
      "model_module_version": "1.5.0",
      "model_name": "DescriptionStyleModel",
      "state": {
       "description_width": ""
      }
     },
     "420c639c7aa641c78e08a6e07de3714e": {
      "model_module": "@jupyter-widgets/base",
      "model_module_version": "1.2.0",
      "model_name": "LayoutModel",
      "state": {
       "grid_area": "pathlist",
       "width": "auto"
      }
     },
     "42b72361423546d99e578bc49f9ce6a2": {
      "model_module": "@jupyter-widgets/controls",
      "model_module_version": "1.5.0",
      "model_name": "ButtonModel",
      "state": {
       "description": "Change",
       "layout": "IPY_MODEL_11b6845372d748fc936bcd20aa103909",
       "style": "IPY_MODEL_f079902bae6b4a0aaa4f36afc4ea5691"
      }
     },
     "42f5b363dc834cc79f148a0cbca723b3": {
      "model_module": "@jupyter-widgets/base",
      "model_module_version": "1.2.0",
      "model_name": "LayoutModel",
      "state": {
       "grid_area": "dircontent",
       "width": "auto"
      }
     },
     "4315b4661b264420a111533a061f077b": {
      "model_module": "@jupyter-widgets/controls",
      "model_module_version": "1.5.0",
      "model_name": "ButtonModel",
      "state": {
       "description": "Change",
       "layout": "IPY_MODEL_7bf73bdd0e2c468b9014439fffada2e7",
       "style": "IPY_MODEL_45e11804af744b66a9e6bde58145ca36"
      }
     },
     "4363b94da25b47dda0055bd55c62e214": {
      "model_module": "@jupyter-widgets/base",
      "model_module_version": "1.2.0",
      "model_name": "LayoutModel",
      "state": {}
     },
     "437c621f883e4a67bb61f4725f21930c": {
      "model_module": "@jupyter-widgets/controls",
      "model_module_version": "1.5.0",
      "model_name": "ButtonStyleModel",
      "state": {}
     },
     "43c1f78b31974a3c9d1e982a093d724c": {
      "model_module": "@jupyter-widgets/controls",
      "model_module_version": "1.5.0",
      "model_name": "DropdownModel",
      "state": {
       "_options_labels": [
        "/mnt/sds/sd20i001/sven/code/dynamic-cmr-models/exp/p2p/dmd/jcmr/iso2_5_32_p2p/img05_flow01_msk1/ssimssim_grad_dice/2023-06-06_12_12_931970",
        "/mnt/sds/sd20i001/sven/code/dynamic-cmr-models/exp/p2p/dmd/jcmr/iso2_5_32_p2p/img05_flow01_msk1/ssimssim_grad_dice",
        "/mnt/sds/sd20i001/sven/code/dynamic-cmr-models/exp/p2p/dmd/jcmr/iso2_5_32_p2p/img05_flow01_msk1",
        "/mnt/sds/sd20i001/sven/code/dynamic-cmr-models/exp/p2p/dmd/jcmr/iso2_5_32_p2p",
        "/mnt/sds/sd20i001/sven/code/dynamic-cmr-models/exp/p2p/dmd/jcmr",
        "/mnt/sds/sd20i001/sven/code/dynamic-cmr-models/exp/p2p/dmd",
        "/mnt/sds/sd20i001/sven/code/dynamic-cmr-models/exp/p2p",
        "/mnt/sds/sd20i001/sven/code/dynamic-cmr-models/exp",
        "/mnt/sds/sd20i001/sven/code/dynamic-cmr-models",
        "/mnt/sds/sd20i001/sven/code",
        "/mnt/sds/sd20i001/sven",
        "/mnt/sds/sd20i001",
        "/mnt/sds",
        "/mnt",
        "/"
       ],
       "index": 0,
       "layout": "IPY_MODEL_b6ff157c23fc4e4f9bc043b2e250decf",
       "style": "IPY_MODEL_8947894652844ee9980974442821982f"
      }
     },
     "453216acaf4e4a588677372581d265cd": {
      "model_module": "@jupyter-widgets/controls",
      "model_module_version": "1.5.0",
      "model_name": "HBoxModel",
      "state": {
       "children": [
        "IPY_MODEL_4315b4661b264420a111533a061f077b",
        "IPY_MODEL_07336ea05eb346ffabbb948374ed5bff",
        "IPY_MODEL_0672a8d3a89a4dd3852106f8e6080934"
       ],
       "layout": "IPY_MODEL_6d8f6f51147d4294a664eb3fea703206"
      }
     },
     "45724439f6e14f549b6350e33d895aa9": {
      "model_module": "@jupyter-widgets/controls",
      "model_module_version": "1.5.0",
      "model_name": "SelectModel",
      "state": {
       "_options_labels": [
        "..",
        "f0",
        "f1",
        "f2",
        "f3",
        "gt_m",
        "pred",
        "pred_m",
        "Log_errors.log",
        "df_DMD_time_ed2p.csv",
        "df_DMD_time_p2p.csv",
        "model.png",
        "model_summary.txt"
       ],
       "index": 10,
       "layout": "IPY_MODEL_8e010509dd244822963a6b702db24e70",
       "rows": 8,
       "style": "IPY_MODEL_2398e71d20524542aac3306638fa13ce"
      }
     },
     "45e11804af744b66a9e6bde58145ca36": {
      "model_module": "@jupyter-widgets/controls",
      "model_module_version": "1.5.0",
      "model_name": "ButtonStyleModel",
      "state": {}
     },
     "46e27959089345aa8532d96cd145f8bb": {
      "model_module": "@jupyter-widgets/controls",
      "model_module_version": "1.5.0",
      "model_name": "ButtonStyleModel",
      "state": {}
     },
     "46f7cd4116764c5f87df5191645d1aff": {
      "model_module": "@jupyter-widgets/controls",
      "model_module_version": "1.5.0",
      "model_name": "HTMLModel",
      "state": {
       "layout": "IPY_MODEL_7a39edf45ce34360bb1d2f5535f650a0",
       "placeholder": "",
       "style": "IPY_MODEL_156b3bb63dfc4cbd9a0231c339dbf2ab",
       "value": "<span style=\"margin-left:10px; color:orange;\">/mnt/sds/sd20i001/sven/code/dynamic-cmr-models/exp/p2p/dmd/jcmr/iso2_5_32_p2p/img05_flow01_msk1/ssimssim_grad_dice/2023-06-06_12_12_931970/df_DMD_time_ed2p.csv</span>"
      }
     },
     "47556f928c594ad0be83d3dcab4fcea3": {
      "model_module": "@jupyter-widgets/controls",
      "model_module_version": "1.5.0",
      "model_name": "DescriptionStyleModel",
      "state": {
       "description_width": ""
      }
     },
     "47e73fa83aca4d0d8ea0934c66144600": {
      "model_module": "@jupyter-widgets/controls",
      "model_module_version": "1.5.0",
      "model_name": "DescriptionStyleModel",
      "state": {
       "description_width": ""
      }
     },
     "47f144c56858445989d50a48b7f29261": {
      "model_module": "@jupyter-widgets/base",
      "model_module_version": "1.2.0",
      "model_name": "LayoutModel",
      "state": {
       "width": "auto"
      }
     },
     "4896a90e364247528063e0bf20c693fc": {
      "model_module": "@jupyter-widgets/controls",
      "model_module_version": "1.5.0",
      "model_name": "VBoxModel",
      "state": {
       "_dom_classes": [
        "widget-interact"
       ],
       "children": [
        "IPY_MODEL_78f81e6f254c4289831ec2decd322a07",
        "IPY_MODEL_b66b3af6219943f8a833cdc12dbdcaad",
        "IPY_MODEL_1af2044050eb44cf816d101a53ab0cdb"
       ],
       "layout": "IPY_MODEL_03ae65e1e26e4e3290a312154c4dfdc0"
      }
     },
     "48999f443ba8444bbe27577056633284": {
      "model_module": "@jupyter-widgets/controls",
      "model_module_version": "1.5.0",
      "model_name": "SelectModel",
      "state": {
       "_options_labels": [
        "..",
        "f0",
        "f1",
        "f2",
        "f3",
        "gt_m",
        "pred",
        "pred_m",
        "Log_errors.log",
        "df_DMD_time_ed2p.csv",
        "df_DMD_time_p2p.csv",
        "model.png",
        "model_summary.txt"
       ],
       "index": 10,
       "layout": "IPY_MODEL_1a208b02706f45e494225f3f8d0b27ca",
       "rows": 8,
       "style": "IPY_MODEL_f9f94a133b034cdaaae65ed9a5ca6302"
      }
     },
     "4979a0c35c584aae9c6adec13a6673d4": {
      "model_module": "@jupyter-widgets/controls",
      "model_module_version": "1.5.0",
      "model_name": "HTMLModel",
      "state": {
       "layout": "IPY_MODEL_57fbc06151d940858c8e11c170819758",
       "placeholder": "",
       "style": "IPY_MODEL_553c3c25afbb425285b81448ad5c003c",
       "value": "<span style=\"margin-left:10px; color:orange;\">/mnt/sds/sd20i001/sven/code/dynamic-cmr-models/exp/p2p/dmd/jcmr/iso2_5_32_p2p/img05_flow01_msk1/ssimssim_grad_dice/2023-06-06_12_12_931970/df_DMD_time_p2p.csv</span>"
      }
     },
     "4a13651190664938af1e10aaef00bf45": {
      "model_module": "@jupyter-widgets/base",
      "model_module_version": "1.2.0",
      "model_name": "LayoutModel",
      "state": {
       "width": "auto"
      }
     },
     "4a291445cba3447f88b210d67642d005": {
      "model_module": "@jupyter-widgets/controls",
      "model_module_version": "1.5.0",
      "model_name": "VBoxModel",
      "state": {
       "children": [
        "IPY_MODEL_0e5793b9424c4d2188cea48fd8700d5d",
        "IPY_MODEL_1e6f4d3418a94254a1da991bcbbb9367",
        "IPY_MODEL_972124de24c34a639fe0baaa4274d050"
       ],
       "layout": "IPY_MODEL_65fb5a462a0648d5a2d8482756f4d2a1"
      }
     },
     "4a396030fa214276889f8a78e6c6be1e": {
      "model_module": "@jupyter-widgets/controls",
      "model_module_version": "1.5.0",
      "model_name": "ButtonModel",
      "state": {
       "description": "Run Interact",
       "layout": "IPY_MODEL_bcc0976b6ade4328b08502b23e85eaea",
       "style": "IPY_MODEL_5483a7a8940645f6b4705ac56c097df0"
      }
     },
     "4a427e3d886d4f48baacf2f914049148": {
      "model_module": "@jupyter-widgets/controls",
      "model_module_version": "1.5.0",
      "model_name": "ButtonStyleModel",
      "state": {}
     },
     "4a7aba661c58412d843fc4006cbd691d": {
      "model_module": "@jupyter-widgets/controls",
      "model_module_version": "1.5.0",
      "model_name": "TextModel",
      "state": {
       "layout": "IPY_MODEL_af85a94b67a440a9abd5fa59206badc9",
       "placeholder": "output filename",
       "style": "IPY_MODEL_9839e1a2ae904b2ab24a769194aeeff6",
       "value": "df_DMD_time_p2p.csv"
      }
     },
     "4af43fc4f907424d8520da884e4706d7": {
      "model_module": "@jupyter-widgets/controls",
      "model_module_version": "1.5.0",
      "model_name": "VBoxModel",
      "state": {
       "children": [
        "IPY_MODEL_a71e0840948b475fa7b996647850cff7",
        "IPY_MODEL_5055e83e429e4d69a37f0a67d616f979",
        "IPY_MODEL_9cca969976c944f18b09e706eeb66342"
       ],
       "layout": "IPY_MODEL_9b6de533297d45f087ab2912ad6d45da"
      }
     },
     "4b53451cfea54ab3ad71ca2e3e8680d2": {
      "model_module": "@jupyter-widgets/base",
      "model_module_version": "1.2.0",
      "model_name": "LayoutModel",
      "state": {
       "width": "auto"
      }
     },
     "4bf54fec4d2a45a58dcf629cac5878a3": {
      "model_module": "@jupyter-widgets/controls",
      "model_module_version": "1.5.0",
      "model_name": "DescriptionStyleModel",
      "state": {
       "description_width": ""
      }
     },
     "4c25ef322848465e80c02fcbf7c3361d": {
      "model_module": "@jupyter-widgets/controls",
      "model_module_version": "1.5.0",
      "model_name": "ButtonStyleModel",
      "state": {}
     },
     "4c2d71e10b21455aa0d629b399e5445f": {
      "model_module": "@jupyter-widgets/controls",
      "model_module_version": "1.5.0",
      "model_name": "DescriptionStyleModel",
      "state": {
       "description_width": ""
      }
     },
     "4c45104bb2da4a5281803fe1f75bd306": {
      "model_module": "@jupyter-widgets/base",
      "model_module_version": "1.2.0",
      "model_name": "LayoutModel",
      "state": {
       "grid_area": "dircontent",
       "width": "auto"
      }
     },
     "4db19f6ace13425b848482a1c930196e": {
      "model_module": "@jupyter-widgets/controls",
      "model_module_version": "1.5.0",
      "model_name": "SelectModel",
      "state": {
       "_options_labels": [
        "..",
        "f0",
        "f1",
        "f2",
        "f3",
        "gt_m",
        "pred",
        "pred_m",
        "Log_errors.log",
        "df_DMD_time_ed2p.csv",
        "df_DMD_time_p2p.csv",
        "model.png",
        "model_summary.txt"
       ],
       "index": 9,
       "layout": "IPY_MODEL_c05752d5b3a14e858b403f840bf1307f",
       "rows": 8,
       "style": "IPY_MODEL_09faba9c5424448d92dd4ec08f1aa5c6"
      }
     },
     "4dbc1f138b1d447cb98ac73a6e16e49a": {
      "model_module": "@jupyter-widgets/base",
      "model_module_version": "1.2.0",
      "model_name": "LayoutModel",
      "state": {
       "display": "none",
       "width": "auto"
      }
     },
     "4eba4d3474f5475198c962a1182c872c": {
      "model_module": "@jupyter-widgets/controls",
      "model_module_version": "1.5.0",
      "model_name": "DescriptionStyleModel",
      "state": {
       "description_width": ""
      }
     },
     "4ebaa8d038c74ff7b00c7056acd59249": {
      "model_module": "@jupyter-widgets/base",
      "model_module_version": "1.2.0",
      "model_name": "LayoutModel",
      "state": {
       "display": "none"
      }
     },
     "5049e32002574383a1168754e5ead1a6": {
      "model_module": "@jupyter-widgets/controls",
      "model_module_version": "1.5.0",
      "model_name": "ButtonModel",
      "state": {
       "description": "Change",
       "layout": "IPY_MODEL_87b2696f0c774a1380efcc5fba498fd5",
       "style": "IPY_MODEL_61500824039b4e9e9ef63d6f0e904c08"
      }
     },
     "5055e83e429e4d69a37f0a67d616f979": {
      "model_module": "@jupyter-widgets/controls",
      "model_module_version": "1.5.0",
      "model_name": "GridBoxModel",
      "state": {
       "children": [
        "IPY_MODEL_e201a004cc2c4bbbab475cfe1e61d613",
        "IPY_MODEL_aa5d1189b2394b45b455038f5f53a22f",
        "IPY_MODEL_e93e446f2faf40a4a292d679d0c53a93"
       ],
       "layout": "IPY_MODEL_9a12a7e83b074452aa06f7b5906bf262"
      }
     },
     "5063dd8bd78147b190e6ae6ee86e6a70": {
      "model_module": "@jupyter-widgets/base",
      "model_module_version": "1.2.0",
      "model_name": "LayoutModel",
      "state": {
       "width": "auto"
      }
     },
     "5135a19cb9184fd596c733fffc4714ba": {
      "model_module": "@jupyter-widgets/base",
      "model_module_version": "1.2.0",
      "model_name": "LayoutModel",
      "state": {}
     },
     "5146505c754048b19768a4cc8cab0db0": {
      "model_module": "@jupyter-widgets/base",
      "model_module_version": "1.2.0",
      "model_name": "LayoutModel",
      "state": {}
     },
     "5188c29fb8894bc78f03a9284968ec36": {
      "model_module": "@jupyter-widgets/controls",
      "model_module_version": "1.5.0",
      "model_name": "DescriptionStyleModel",
      "state": {
       "description_width": ""
      }
     },
     "5251332a11934ddf9813381d6c9c8589": {
      "model_module": "@jupyter-widgets/controls",
      "model_module_version": "1.5.0",
      "model_name": "ButtonStyleModel",
      "state": {}
     },
     "5264ba7a28884c249d44dfe806378c4a": {
      "model_module": "@jupyter-widgets/controls",
      "model_module_version": "1.5.0",
      "model_name": "ButtonModel",
      "state": {
       "description": "Select",
       "layout": "IPY_MODEL_d97a387acc4f418d87fe3ebd448dbb07",
       "style": "IPY_MODEL_69b8e9483fa94a7fae62d458a300a5b3"
      }
     },
     "526f30a8561a4b0fa252ccbaf49ff231": {
      "model_module": "@jupyter-widgets/controls",
      "model_module_version": "1.5.0",
      "model_name": "GridBoxModel",
      "state": {
       "children": [
        "IPY_MODEL_041670b0001d4848bcf73d118c3a7f5e",
        "IPY_MODEL_8c34e9cc1c5e4c74b8483cb72322baf6",
        "IPY_MODEL_59afff56919643228e5e52bd66d32170"
       ],
       "layout": "IPY_MODEL_1bfdd63ee46f4ebfa416c799750a22e9"
      }
     },
     "52cae245b43845cf9b9ff346f50f27e8": {
      "model_module": "@jupyter-widgets/base",
      "model_module_version": "1.2.0",
      "model_name": "LayoutModel",
      "state": {}
     },
     "52d86ee9b780425b96c3c81d51f221cc": {
      "model_module": "@jupyter-widgets/controls",
      "model_module_version": "1.5.0",
      "model_name": "DescriptionStyleModel",
      "state": {
       "description_width": ""
      }
     },
     "540978f3134e463d80a6db6024d4460a": {
      "model_module": "@jupyter-widgets/base",
      "model_module_version": "1.2.0",
      "model_name": "LayoutModel",
      "state": {}
     },
     "54638243e8794297b3c11d8df1a49a47": {
      "model_module": "@jupyter-widgets/controls",
      "model_module_version": "1.5.0",
      "model_name": "DescriptionStyleModel",
      "state": {
       "description_width": ""
      }
     },
     "5483a7a8940645f6b4705ac56c097df0": {
      "model_module": "@jupyter-widgets/controls",
      "model_module_version": "1.5.0",
      "model_name": "ButtonStyleModel",
      "state": {}
     },
     "548fdc42e4be485b8658ff06fc8d5c27": {
      "model_module": "@jupyter-widgets/controls",
      "model_module_version": "1.5.0",
      "model_name": "ButtonModel",
      "state": {
       "description": "Cancel",
       "layout": "IPY_MODEL_a20c299b880e4c888d2144895840b4ee",
       "style": "IPY_MODEL_5beafee2c62b4ebba726a6c0053c241d"
      }
     },
     "54f3c5258c204c29ae2053d8dff7ab7d": {
      "model_module": "@jupyter-widgets/base",
      "model_module_version": "1.2.0",
      "model_name": "LayoutModel",
      "state": {
       "width": "auto"
      }
     },
     "54f7c1c6738e43c3b8f0c25fc3d293a5": {
      "model_module": "@jupyter-widgets/controls",
      "model_module_version": "1.5.0",
      "model_name": "VBoxModel",
      "state": {
       "children": [
        "IPY_MODEL_c4fb5c24817541bbbb9e5449c84d9bdd",
        "IPY_MODEL_aebc1181a7bc4f38bb8c40bdcd0b3b86",
        "IPY_MODEL_8d5539a139dd4430bc341cbbf97b1a93"
       ],
       "layout": "IPY_MODEL_196dbfe03e064008aa73ae13b135006f"
      }
     },
     "553c3c25afbb425285b81448ad5c003c": {
      "model_module": "@jupyter-widgets/controls",
      "model_module_version": "1.5.0",
      "model_name": "DescriptionStyleModel",
      "state": {
       "description_width": ""
      }
     },
     "55662d1acb264a228217c9c00260679f": {
      "model_module": "@jupyter-widgets/controls",
      "model_module_version": "1.5.0",
      "model_name": "ButtonModel",
      "state": {
       "description": "Change",
       "layout": "IPY_MODEL_74461924d9384a40ae59a742c24aacc3",
       "style": "IPY_MODEL_b3333b659c244a6ab94fdfa206478f0b"
      }
     },
     "55ee2a922dfc49be84e9be27fc72dd9c": {
      "model_module": "@jupyter-widgets/base",
      "model_module_version": "1.2.0",
      "model_name": "LayoutModel",
      "state": {
       "width": "auto"
      }
     },
     "563e3c66765f49a895b7e11c024de696": {
      "model_module": "@jupyter-widgets/controls",
      "model_module_version": "1.5.0",
      "model_name": "DescriptionStyleModel",
      "state": {
       "description_width": ""
      }
     },
     "5684c93098f445618d0d53c6d342f5c6": {
      "model_module": "@jupyter-widgets/base",
      "model_module_version": "1.2.0",
      "model_name": "LayoutModel",
      "state": {
       "grid_area": "pathlist",
       "width": "auto"
      }
     },
     "569db1d2abf947a3a84b942544ce3fb6": {
      "model_module": "@jupyter-widgets/base",
      "model_module_version": "1.2.0",
      "model_name": "LayoutModel",
      "state": {}
     },
     "57fbc06151d940858c8e11c170819758": {
      "model_module": "@jupyter-widgets/base",
      "model_module_version": "1.2.0",
      "model_name": "LayoutModel",
      "state": {}
     },
     "5928ba155fa549b1b9a1824b9d54de41": {
      "model_module": "@jupyter-widgets/controls",
      "model_module_version": "1.5.0",
      "model_name": "ButtonStyleModel",
      "state": {}
     },
     "59afff56919643228e5e52bd66d32170": {
      "model_module": "@jupyter-widgets/controls",
      "model_module_version": "1.5.0",
      "model_name": "SelectModel",
      "state": {
       "_options_labels": [
        "..",
        "f0",
        "f1",
        "f2",
        "f3",
        "gt_m",
        "pred",
        "pred_m",
        "Log_errors.log",
        "df_DMD_time_ed2p.csv",
        "df_DMD_time_p2p.csv",
        "model.png",
        "model_summary.txt"
       ],
       "index": 10,
       "layout": "IPY_MODEL_eb82fda458974ec6b7457641f4729de4",
       "rows": 8,
       "style": "IPY_MODEL_1e0813ae3d334ec58cabf9f2f6ce0146"
      }
     },
     "5a42853d42e043adba96f88f5a9aa9de": {
      "model_module": "@jupyter-widgets/base",
      "model_module_version": "1.2.0",
      "model_name": "LayoutModel",
      "state": {}
     },
     "5b4b0090d27f4759ba59ec1574679c1e": {
      "model_module": "@jupyter-widgets/controls",
      "model_module_version": "1.5.0",
      "model_name": "VBoxModel",
      "state": {
       "children": [
        "IPY_MODEL_016e918750be4243a32d8a60e268dc51",
        "IPY_MODEL_41c74a8d61c64b4885fe0bd8f0235ac3",
        "IPY_MODEL_86a5fa3e616541be8a7c311a8f90ac98"
       ],
       "layout": "IPY_MODEL_6fbcc6ef2a4949f8b011106db84dfa51"
      }
     },
     "5b8ecb9420244d8da75910c5e5a9a1d9": {
      "model_module": "@jupyter-widgets/controls",
      "model_module_version": "1.5.0",
      "model_name": "ButtonStyleModel",
      "state": {}
     },
     "5ba4b006fa704f95a53e044965b9eda8": {
      "model_module": "@jupyter-widgets/controls",
      "model_module_version": "1.5.0",
      "model_name": "GridBoxModel",
      "state": {
       "children": [
        "IPY_MODEL_acaef4b1f4a74cdaa743c4711d0325ca",
        "IPY_MODEL_1af3cc15a8074906b07c672bc71a0e52",
        "IPY_MODEL_45724439f6e14f549b6350e33d895aa9"
       ],
       "layout": "IPY_MODEL_388dcadff62241728b739ffd59cfcd7a"
      }
     },
     "5beafee2c62b4ebba726a6c0053c241d": {
      "model_module": "@jupyter-widgets/controls",
      "model_module_version": "1.5.0",
      "model_name": "ButtonStyleModel",
      "state": {}
     },
     "5c7b01a0bf0c47d18a0429722cf2e2cc": {
      "model_module": "@jupyter-widgets/controls",
      "model_module_version": "1.5.0",
      "model_name": "DescriptionStyleModel",
      "state": {
       "description_width": ""
      }
     },
     "5da657bd09f7450fa0bfd4ac4e1f3c3d": {
      "model_module": "@jupyter-widgets/controls",
      "model_module_version": "1.5.0",
      "model_name": "DescriptionStyleModel",
      "state": {
       "description_width": ""
      }
     },
     "5e1538a0935d4a03a5057e77dbdf9bb2": {
      "model_module": "@jupyter-widgets/controls",
      "model_module_version": "1.5.0",
      "model_name": "HTMLModel",
      "state": {
       "layout": "IPY_MODEL_86215e63c33e44f29f0d20dd1c2ad462",
       "placeholder": "",
       "style": "IPY_MODEL_8b7f0408497941b18be87af49bd79a30",
       "value": "<span style=\"margin-left:10px; color:orange;\">/mnt/sds/sd20i001/sven/code/dynamic-cmr-models/exp/p2p/dmd/jcmr/iso2_5_32_p2p/img05_flow01_msk1/ssimssim_grad_dice/2023-06-06_12_12_931970/df_DMD_time_p2p.csv</span>"
      }
     },
     "5ea0d2ac52e74ea3a115c3fdf16e690f": {
      "model_module": "@jupyter-widgets/controls",
      "model_module_version": "1.5.0",
      "model_name": "VBoxModel",
      "state": {
       "children": [
        "IPY_MODEL_37084e2742e547eb800bdbcdec33a4ab",
        "IPY_MODEL_ab99825919a34046bdca76f1e4c70f72",
        "IPY_MODEL_6aacf819262f46f49e0df791a182d263"
       ],
       "layout": "IPY_MODEL_e932a6a488b248538de885eba308d140"
      }
     },
     "5ec1f472fc9c4a87bbfc254b104adf18": {
      "model_module": "@jupyter-widgets/controls",
      "model_module_version": "1.5.0",
      "model_name": "ButtonModel",
      "state": {
       "description": "Change",
       "layout": "IPY_MODEL_e288b835939847bf88118e5f9566e615",
       "style": "IPY_MODEL_699b963d63c349c9991daca2288fa900"
      }
     },
     "5f0749e905bd4c159633dcc6d3f4bcdb": {
      "model_module": "@jupyter-widgets/controls",
      "model_module_version": "1.5.0",
      "model_name": "ButtonStyleModel",
      "state": {}
     },
     "5f0c1a42465a46c7be5e5799f631c727": {
      "model_module": "@jupyter-widgets/controls",
      "model_module_version": "1.5.0",
      "model_name": "DescriptionStyleModel",
      "state": {
       "description_width": ""
      }
     },
     "5f2b2f60981c40da93806d6ec03de213": {
      "model_module": "@jupyter-widgets/controls",
      "model_module_version": "1.5.0",
      "model_name": "HBoxModel",
      "state": {
       "children": [
        "IPY_MODEL_42b72361423546d99e578bc49f9ce6a2",
        "IPY_MODEL_301a75f234f848708026626bc1ddcb27",
        "IPY_MODEL_5e1538a0935d4a03a5057e77dbdf9bb2"
       ],
       "layout": "IPY_MODEL_101c08e711b94811a54995fb02ea174c"
      }
     },
     "5f58f1b34a0f4376bbc1261c99ce4835": {
      "model_module": "@jupyter-widgets/base",
      "model_module_version": "1.2.0",
      "model_name": "LayoutModel",
      "state": {}
     },
     "5fe0be01a29d461791e4ff7da5d5fc5c": {
      "model_module": "@jupyter-widgets/base",
      "model_module_version": "1.2.0",
      "model_name": "LayoutModel",
      "state": {
       "display": "none"
      }
     },
     "6033598bd6e04f879257f06b304a5580": {
      "model_module": "@jupyter-widgets/controls",
      "model_module_version": "1.5.0",
      "model_name": "GridBoxModel",
      "state": {
       "children": [
        "IPY_MODEL_23a40c902d0f465891f6486dbeb70f23",
        "IPY_MODEL_91a1c5dfee934e4ca404d33ae1d6ce03",
        "IPY_MODEL_b68d655460dd4b239a262c7e28378b24"
       ],
       "layout": "IPY_MODEL_d427942e697446b2a4db3115cfa8bd28"
      }
     },
     "6045575826db438895b14c9997cbf227": {
      "model_module": "@jupyter-widgets/controls",
      "model_module_version": "1.5.0",
      "model_name": "HTMLModel",
      "state": {
       "layout": "IPY_MODEL_307fb8af02db4858a662980c089458be",
       "placeholder": "",
       "style": "IPY_MODEL_0febebf1405a4311a876ec000bce27aa",
       "value": "<span style=\"margin-left:10px; color:orange;\">/mnt/sds/sd20i001/sven/code/dynamic-cmr-models/exp/p2p/dmd/jcmr/iso2_5_32_p2p/img05_flow01_msk1/ssimssim_grad_dice/2023-06-06_12_12_931970/df_DMD_time_p2p.csv</span>"
      }
     },
     "60a908a869da415e860f8231f2f5b4a1": {
      "model_module": "@jupyter-widgets/controls",
      "model_module_version": "1.5.0",
      "model_name": "VBoxModel",
      "state": {
       "_dom_classes": [
        "widget-interact"
       ],
       "children": [
        "IPY_MODEL_bcb51d35219f4ceba29ad4d5b195ab09",
        "IPY_MODEL_047ce92f07164bce85bc897ef8f1d8c3",
        "IPY_MODEL_f7f37d4df99d40bdac4c79092835b027"
       ],
       "layout": "IPY_MODEL_e0433419dcc94b8f9f764dc4ae03d7c3"
      }
     },
     "60e63d18451c441c8f9fce80dbcf4c07": {
      "model_module": "@jupyter-widgets/controls",
      "model_module_version": "1.5.0",
      "model_name": "HBoxModel",
      "state": {
       "children": [
        "IPY_MODEL_5264ba7a28884c249d44dfe806378c4a",
        "IPY_MODEL_9744839145de40cfaf17f617746aa313",
        "IPY_MODEL_91678108d0e549feb4c026de9f650082"
       ],
       "layout": "IPY_MODEL_8e4a050e98fd464e9089d1e781607f21"
      }
     },
     "61500824039b4e9e9ef63d6f0e904c08": {
      "model_module": "@jupyter-widgets/controls",
      "model_module_version": "1.5.0",
      "model_name": "ButtonStyleModel",
      "state": {}
     },
     "61c9921012a745828461ba0af013df43": {
      "model_module": "@jupyter-widgets/controls",
      "model_module_version": "1.5.0",
      "model_name": "ButtonModel",
      "state": {
       "description": "Change",
       "layout": "IPY_MODEL_54f3c5258c204c29ae2053d8dff7ab7d",
       "style": "IPY_MODEL_5b8ecb9420244d8da75910c5e5a9a1d9"
      }
     },
     "61db564e97bf4c79b244de7f0e146d92": {
      "model_module": "@jupyter-widgets/base",
      "model_module_version": "1.2.0",
      "model_name": "LayoutModel",
      "state": {
       "display": "none",
       "grid_gap": "0px 0px",
       "grid_template_areas": "\n                    'pathlist filename'\n                    'dircontent dircontent'\n                    ",
       "grid_template_columns": "60% 40%",
       "grid_template_rows": "auto auto",
       "width": "500px"
      }
     },
     "624cdf31a5724d0d9f44173fbedea840": {
      "model_module": "@jupyter-widgets/controls",
      "model_module_version": "1.5.0",
      "model_name": "ButtonStyleModel",
      "state": {}
     },
     "627eac43503d496897812e5311046d29": {
      "model_module": "@jupyter-widgets/controls",
      "model_module_version": "1.5.0",
      "model_name": "ButtonStyleModel",
      "state": {}
     },
     "62902aa6120f483c9bd179085edcc4aa": {
      "model_module": "@jupyter-widgets/controls",
      "model_module_version": "1.5.0",
      "model_name": "SelectModel",
      "state": {
       "_options_labels": [
        "..",
        "f0",
        "f1",
        "f2",
        "f3",
        "gt_m",
        "pred",
        "pred_m",
        "Log_errors.log",
        "df_DMD_time_ed2p.csv",
        "df_DMD_time_p2p.csv",
        "model.png",
        "model_summary.txt"
       ],
       "index": 10,
       "layout": "IPY_MODEL_7526812700bd4e6b9120665c7af4f416",
       "rows": 8,
       "style": "IPY_MODEL_c2c05753f7d84f6a8517e8a7af8fc4b6"
      }
     },
     "62aebece3dab459fbcf66ccbc75c8871": {
      "model_module": "@jupyter-widgets/controls",
      "model_module_version": "1.5.0",
      "model_name": "ButtonModel",
      "state": {
       "description": "Cancel",
       "layout": "IPY_MODEL_ba51393a9c0c40f99e31d7878b046e49",
       "style": "IPY_MODEL_1ad905c0a0154da4a188d727258467fe"
      }
     },
     "6323b480ae614bf198f1f03b746a8a48": {
      "model_module": "@jupyter-widgets/base",
      "model_module_version": "1.2.0",
      "model_name": "LayoutModel",
      "state": {}
     },
     "63a92e0068594556829d6ada21aa20f1": {
      "model_module": "@jupyter-widgets/base",
      "model_module_version": "1.2.0",
      "model_name": "LayoutModel",
      "state": {
       "display": "none",
       "grid_gap": "0px 0px",
       "grid_template_areas": "\n                    'pathlist filename'\n                    'dircontent dircontent'\n                    ",
       "grid_template_columns": "60% 40%",
       "grid_template_rows": "auto auto",
       "width": "500px"
      }
     },
     "65688e1cda6e40ce91c622ae9f5bf37e": {
      "model_module": "@jupyter-widgets/base",
      "model_module_version": "1.2.0",
      "model_name": "LayoutModel",
      "state": {
       "display": "none",
       "grid_gap": "0px 0px",
       "grid_template_areas": "\n                    'pathlist filename'\n                    'dircontent dircontent'\n                    ",
       "grid_template_columns": "60% 40%",
       "grid_template_rows": "auto auto",
       "width": "500px"
      }
     },
     "65b5ec5b20e94d2bae636c9ec26b1b2c": {
      "model_module": "@jupyter-widgets/controls",
      "model_module_version": "1.5.0",
      "model_name": "HTMLModel",
      "state": {
       "layout": "IPY_MODEL_6f277a30764748529b72c61e18bf01ef",
       "style": "IPY_MODEL_4eba4d3474f5475198c962a1182c872c"
      }
     },
     "65fb5a462a0648d5a2d8482756f4d2a1": {
      "model_module": "@jupyter-widgets/base",
      "model_module_version": "1.2.0",
      "model_name": "LayoutModel",
      "state": {
       "width": "auto"
      }
     },
     "6612b121a346459b9970caea7f06751d": {
      "model_module": "@jupyter-widgets/base",
      "model_module_version": "1.2.0",
      "model_name": "LayoutModel",
      "state": {
       "grid_gap": "0px 0px",
       "grid_template_areas": "\n                    'pathlist filename'\n                    'dircontent dircontent'\n                    ",
       "grid_template_columns": "60% 40%",
       "grid_template_rows": "auto auto",
       "width": "500px"
      }
     },
     "66d70d5ffcee4e10ba1db3742fc3f0ee": {
      "model_module": "@jupyter-widgets/base",
      "model_module_version": "1.2.0",
      "model_name": "LayoutModel",
      "state": {}
     },
     "66df045ee06e4d0ab94c5d8ed5e47f26": {
      "model_module": "@jupyter-widgets/base",
      "model_module_version": "1.2.0",
      "model_name": "LayoutModel",
      "state": {
       "width": "auto"
      }
     },
     "67017472babc4648878a9cee7d0cb27d": {
      "model_module": "@jupyter-widgets/controls",
      "model_module_version": "1.5.0",
      "model_name": "DescriptionStyleModel",
      "state": {
       "description_width": ""
      }
     },
     "6702a3e935654d27ac3862882dd0daef": {
      "model_module": "@jupyter-widgets/base",
      "model_module_version": "1.2.0",
      "model_name": "LayoutModel",
      "state": {
       "display": "none",
       "grid_gap": "0px 0px",
       "grid_template_areas": "\n                    'pathlist filename'\n                    'dircontent dircontent'\n                    ",
       "grid_template_columns": "60% 40%",
       "grid_template_rows": "auto auto",
       "width": "500px"
      }
     },
     "6744c061726d4a359a6313996df1dda2": {
      "model_module": "@jupyter-widgets/controls",
      "model_module_version": "1.5.0",
      "model_name": "DropdownModel",
      "state": {
       "_options_labels": [
        "/mnt/sds/sd20i001/sven/code/dynamic-cmr-models/exp/p2p/dmd/jcmr/iso2_5_32_p2p/img05_flow01_msk1/ssimssim_grad_dice/2023-06-06_12_12_931970",
        "/mnt/sds/sd20i001/sven/code/dynamic-cmr-models/exp/p2p/dmd/jcmr/iso2_5_32_p2p/img05_flow01_msk1/ssimssim_grad_dice",
        "/mnt/sds/sd20i001/sven/code/dynamic-cmr-models/exp/p2p/dmd/jcmr/iso2_5_32_p2p/img05_flow01_msk1",
        "/mnt/sds/sd20i001/sven/code/dynamic-cmr-models/exp/p2p/dmd/jcmr/iso2_5_32_p2p",
        "/mnt/sds/sd20i001/sven/code/dynamic-cmr-models/exp/p2p/dmd/jcmr",
        "/mnt/sds/sd20i001/sven/code/dynamic-cmr-models/exp/p2p/dmd",
        "/mnt/sds/sd20i001/sven/code/dynamic-cmr-models/exp/p2p",
        "/mnt/sds/sd20i001/sven/code/dynamic-cmr-models/exp",
        "/mnt/sds/sd20i001/sven/code/dynamic-cmr-models",
        "/mnt/sds/sd20i001/sven/code",
        "/mnt/sds/sd20i001/sven",
        "/mnt/sds/sd20i001",
        "/mnt/sds",
        "/mnt",
        "/"
       ],
       "index": 0,
       "layout": "IPY_MODEL_89c06069b7364e4ba39d9efc25494d28",
       "style": "IPY_MODEL_3d4895e34c4542ba961b6d0e30092e94"
      }
     },
     "6799131a06f84e77b5cc16ed72d40eae": {
      "model_module": "@jupyter-widgets/controls",
      "model_module_version": "1.5.0",
      "model_name": "ButtonStyleModel",
      "state": {}
     },
     "67a130e6539342db88f3fff01ff1fdf9": {
      "model_module": "@jupyter-widgets/controls",
      "model_module_version": "1.5.0",
      "model_name": "TextModel",
      "state": {
       "layout": "IPY_MODEL_e9401c0607ef4b42a0f07224bad366e3",
       "placeholder": "output filename",
       "style": "IPY_MODEL_f754b53abc3446149d6b92623dc48383"
      }
     },
     "6803e6a4dae14c1589e4f4e314fd16e3": {
      "model_module": "@jupyter-widgets/controls",
      "model_module_version": "1.5.0",
      "model_name": "TextModel",
      "state": {
       "description": "alpha0",
       "layout": "IPY_MODEL_c1e385bebdb64ac287502e00f969b3ed",
       "style": "IPY_MODEL_d042c37112b941a8bd8d0cc7cd3072b0",
       "value": "0.05"
      }
     },
     "68c54e99bb734881ae6147201bad839f": {
      "model_module": "@jupyter-widgets/base",
      "model_module_version": "1.2.0",
      "model_name": "LayoutModel",
      "state": {}
     },
     "699b963d63c349c9991daca2288fa900": {
      "model_module": "@jupyter-widgets/controls",
      "model_module_version": "1.5.0",
      "model_name": "ButtonStyleModel",
      "state": {}
     },
     "69b8e9483fa94a7fae62d458a300a5b3": {
      "model_module": "@jupyter-widgets/controls",
      "model_module_version": "1.5.0",
      "model_name": "ButtonStyleModel",
      "state": {}
     },
     "69e563da17a74f55b12dbb4da7a98a53": {
      "model_module": "@jupyter-widgets/base",
      "model_module_version": "1.2.0",
      "model_name": "LayoutModel",
      "state": {}
     },
     "6a6308355aaa4fc899b5d7ec781225bd": {
      "model_module": "@jupyter-widgets/controls",
      "model_module_version": "1.5.0",
      "model_name": "DropdownModel",
      "state": {
       "_options_labels": [
        "/mnt/sds/sd20i001/sven/code/dynamic-cmr-models/exp/p2p/dmd/jcmr/iso2_5_32_p2p/img05_flow01_msk1/ssimssim_grad_dice/2023-06-06_12_12_931970",
        "/mnt/sds/sd20i001/sven/code/dynamic-cmr-models/exp/p2p/dmd/jcmr/iso2_5_32_p2p/img05_flow01_msk1/ssimssim_grad_dice",
        "/mnt/sds/sd20i001/sven/code/dynamic-cmr-models/exp/p2p/dmd/jcmr/iso2_5_32_p2p/img05_flow01_msk1",
        "/mnt/sds/sd20i001/sven/code/dynamic-cmr-models/exp/p2p/dmd/jcmr/iso2_5_32_p2p",
        "/mnt/sds/sd20i001/sven/code/dynamic-cmr-models/exp/p2p/dmd/jcmr",
        "/mnt/sds/sd20i001/sven/code/dynamic-cmr-models/exp/p2p/dmd",
        "/mnt/sds/sd20i001/sven/code/dynamic-cmr-models/exp/p2p",
        "/mnt/sds/sd20i001/sven/code/dynamic-cmr-models/exp",
        "/mnt/sds/sd20i001/sven/code/dynamic-cmr-models",
        "/mnt/sds/sd20i001/sven/code",
        "/mnt/sds/sd20i001/sven",
        "/mnt/sds/sd20i001",
        "/mnt/sds",
        "/mnt",
        "/"
       ],
       "index": 0,
       "layout": "IPY_MODEL_c3475f97796a4780aa6defd0404bbc63",
       "style": "IPY_MODEL_02f7a48a60e54e4ca084194c0103d29a"
      }
     },
     "6a8839e6881a44f59bcdb96abf1769fd": {
      "model_module": "@jupyter-widgets/controls",
      "model_module_version": "1.5.0",
      "model_name": "DropdownModel",
      "state": {
       "_options_labels": [
        "/mnt/sds/sd20i001/sven/code/dynamic-cmr-models/exp/p2p/dmd/jcmr/iso2_5_32_p2p/img05_flow01_msk1/ssimssim_grad_dice",
        "/mnt/sds/sd20i001/sven/code/dynamic-cmr-models/exp/p2p/dmd/jcmr/iso2_5_32_p2p/img05_flow01_msk1",
        "/mnt/sds/sd20i001/sven/code/dynamic-cmr-models/exp/p2p/dmd/jcmr/iso2_5_32_p2p",
        "/mnt/sds/sd20i001/sven/code/dynamic-cmr-models/exp/p2p/dmd/jcmr",
        "/mnt/sds/sd20i001/sven/code/dynamic-cmr-models/exp/p2p/dmd",
        "/mnt/sds/sd20i001/sven/code/dynamic-cmr-models/exp/p2p",
        "/mnt/sds/sd20i001/sven/code/dynamic-cmr-models/exp",
        "/mnt/sds/sd20i001/sven/code/dynamic-cmr-models",
        "/mnt/sds/sd20i001/sven/code",
        "/mnt/sds/sd20i001/sven",
        "/mnt/sds/sd20i001",
        "/mnt/sds",
        "/mnt",
        "/"
       ],
       "index": 0,
       "layout": "IPY_MODEL_5684c93098f445618d0d53c6d342f5c6",
       "style": "IPY_MODEL_5188c29fb8894bc78f03a9284968ec36"
      }
     },
     "6aacf819262f46f49e0df791a182d263": {
      "model_module": "@jupyter-widgets/controls",
      "model_module_version": "1.5.0",
      "model_name": "HBoxModel",
      "state": {
       "children": [
        "IPY_MODEL_5049e32002574383a1168754e5ead1a6",
        "IPY_MODEL_34c82f2fe4644a0fabe97eef8bc1b88f",
        "IPY_MODEL_b8e40fb7aac84ce2be25d8f7f78d0b4d"
       ],
       "layout": "IPY_MODEL_4a13651190664938af1e10aaef00bf45"
      }
     },
     "6b484f311a6f4d78a2934cb94ca8418b": {
      "model_module": "@jupyter-widgets/base",
      "model_module_version": "1.2.0",
      "model_name": "LayoutModel",
      "state": {
       "grid_area": "filename",
       "width": "auto"
      }
     },
     "6b8c6fc51d9c4921b72c6729391f3c58": {
      "model_module": "@jupyter-widgets/controls",
      "model_module_version": "1.5.0",
      "model_name": "DescriptionStyleModel",
      "state": {
       "description_width": ""
      }
     },
     "6ce24f987723421dbb408b78563be1e4": {
      "model_module": "@jupyter-widgets/controls",
      "model_module_version": "1.5.0",
      "model_name": "TextModel",
      "state": {
       "layout": "IPY_MODEL_18e98a7f119e4a4299aaf87cba7c9c52",
       "placeholder": "output filename",
       "style": "IPY_MODEL_a3dab5dd3e8c4dbc857bd68685583062",
       "value": "df_DMD_time_p2p.csv"
      }
     },
     "6d8f6f51147d4294a664eb3fea703206": {
      "model_module": "@jupyter-widgets/base",
      "model_module_version": "1.2.0",
      "model_name": "LayoutModel",
      "state": {
       "width": "auto"
      }
     },
     "6e759f33596f4da6a299dbe916864227": {
      "model_module": "@jupyter-widgets/controls",
      "model_module_version": "1.5.0",
      "model_name": "VBoxModel",
      "state": {
       "children": [
        "IPY_MODEL_bd7dcc826e474d66b29072be3289f03d",
        "IPY_MODEL_5ba4b006fa704f95a53e044965b9eda8",
        "IPY_MODEL_8aca1191a41148acac3fa2ae15adee7f"
       ],
       "layout": "IPY_MODEL_55ee2a922dfc49be84e9be27fc72dd9c"
      }
     },
     "6ec7260bf63f454e8c53659057dd3afe": {
      "model_module": "@jupyter-widgets/base",
      "model_module_version": "1.2.0",
      "model_name": "LayoutModel",
      "state": {
       "display": "none"
      }
     },
     "6f277a30764748529b72c61e18bf01ef": {
      "model_module": "@jupyter-widgets/base",
      "model_module_version": "1.2.0",
      "model_name": "LayoutModel",
      "state": {
       "display": "none"
      }
     },
     "6fa5be15339c48ca8f310e5a3b4f6220": {
      "model_module": "@jupyter-widgets/controls",
      "model_module_version": "1.5.0",
      "model_name": "DescriptionStyleModel",
      "state": {
       "description_width": ""
      }
     },
     "6fbcc6ef2a4949f8b011106db84dfa51": {
      "model_module": "@jupyter-widgets/base",
      "model_module_version": "1.2.0",
      "model_name": "LayoutModel",
      "state": {
       "width": "auto"
      }
     },
     "6ffefc7a5e9640cfb824741df44ebd30": {
      "model_module": "@jupyter-widgets/output",
      "model_module_version": "1.0.0",
      "model_name": "OutputModel",
      "state": {
       "layout": "IPY_MODEL_66d70d5ffcee4e10ba1db3742fc3f0ee",
       "outputs": [
        {
         "name": "stdout",
         "output_type": "stream",
         "text": "(16, 10)\nCS strain in phase: MS - significant AHA segments: [4, 5, 10], p-values: [0.00942, 0.04712, 0.018600000000000002]\nCS strain in phase: ES - significant AHA segments: [4, 10, 14], p-values: [0.0, 0.00159, 0.015600000000000001]\nCS strain in phase: PF - significant AHA segments: [10], p-values: [0.00316]\nCS strain in phase: MD - significant AHA segments: [4, 7], p-values: [0.02156, 0.03213]\n"
        },
        {
         "data": {
          "text/html": "<div>\n<style scoped>\n    .dataframe tbody tr th:only-of-type {\n        vertical-align: middle;\n    }\n\n    .dataframe tbody tr th {\n        vertical-align: top;\n    }\n\n    .dataframe thead th {\n        text-align: right;\n    }\n</style>\n<table border=\"1\" class=\"dataframe\">\n  <thead>\n    <tr style=\"text-align: right;\">\n      <th></th>\n      <th>0</th>\n      <th>1</th>\n      <th>2</th>\n      <th>3</th>\n      <th>4</th>\n      <th>5</th>\n      <th>6</th>\n      <th>7</th>\n      <th>8</th>\n      <th>9</th>\n    </tr>\n  </thead>\n  <tbody>\n    <tr>\n      <th>0</th>\n      <td>1.0</td>\n      <td>1.00000</td>\n      <td>1.0</td>\n      <td>1.00000</td>\n      <td>1.0</td>\n      <td>1.00</td>\n      <td>1.00000</td>\n      <td>1.00000</td>\n      <td>1.00000</td>\n      <td>1.00000</td>\n    </tr>\n    <tr>\n      <th>1</th>\n      <td>1.0</td>\n      <td>1.00000</td>\n      <td>1.0</td>\n      <td>1.00000</td>\n      <td>1.0</td>\n      <td>1.00</td>\n      <td>1.00000</td>\n      <td>1.00000</td>\n      <td>1.00000</td>\n      <td>0.10804</td>\n    </tr>\n    <tr>\n      <th>2</th>\n      <td>1.0</td>\n      <td>1.00000</td>\n      <td>1.0</td>\n      <td>1.00000</td>\n      <td>1.0</td>\n      <td>1.00</td>\n      <td>1.00000</td>\n      <td>1.00000</td>\n      <td>1.00000</td>\n      <td>1.00000</td>\n    </tr>\n    <tr>\n      <th>3</th>\n      <td>1.0</td>\n      <td>1.00000</td>\n      <td>1.0</td>\n      <td>1.00000</td>\n      <td>1.0</td>\n      <td>1.00</td>\n      <td>1.00000</td>\n      <td>1.00000</td>\n      <td>1.00000</td>\n      <td>1.00000</td>\n    </tr>\n    <tr>\n      <th>4</th>\n      <td>1.0</td>\n      <td>0.43229</td>\n      <td>1.0</td>\n      <td>0.07950</td>\n      <td>1.0</td>\n      <td>1.00</td>\n      <td>0.00942</td>\n      <td>0.00000</td>\n      <td>0.06191</td>\n      <td>0.02156</td>\n    </tr>\n    <tr>\n      <th>5</th>\n      <td>1.0</td>\n      <td>1.00000</td>\n      <td>1.0</td>\n      <td>1.00000</td>\n      <td>1.0</td>\n      <td>1.00</td>\n      <td>0.04712</td>\n      <td>0.34080</td>\n      <td>0.09834</td>\n      <td>1.00000</td>\n    </tr>\n    <tr>\n      <th>6</th>\n      <td>1.0</td>\n      <td>1.00000</td>\n      <td>1.0</td>\n      <td>1.00000</td>\n      <td>1.0</td>\n      <td>0.68</td>\n      <td>0.60006</td>\n      <td>0.19551</td>\n      <td>1.00000</td>\n      <td>0.36960</td>\n    </tr>\n    <tr>\n      <th>7</th>\n      <td>1.0</td>\n      <td>1.00000</td>\n      <td>1.0</td>\n      <td>1.00000</td>\n      <td>1.0</td>\n      <td>1.00</td>\n      <td>1.00000</td>\n      <td>1.00000</td>\n      <td>1.00000</td>\n      <td>0.03213</td>\n    </tr>\n    <tr>\n      <th>8</th>\n      <td>1.0</td>\n      <td>1.00000</td>\n      <td>1.0</td>\n      <td>0.32604</td>\n      <td>1.0</td>\n      <td>1.00</td>\n      <td>1.00000</td>\n      <td>1.00000</td>\n      <td>1.00000</td>\n      <td>0.70335</td>\n    </tr>\n    <tr>\n      <th>9</th>\n      <td>1.0</td>\n      <td>1.00000</td>\n      <td>1.0</td>\n      <td>1.00000</td>\n      <td>1.0</td>\n      <td>1.00</td>\n      <td>1.00000</td>\n      <td>1.00000</td>\n      <td>1.00000</td>\n      <td>1.00000</td>\n    </tr>\n    <tr>\n      <th>10</th>\n      <td>1.0</td>\n      <td>0.71824</td>\n      <td>1.0</td>\n      <td>0.34122</td>\n      <td>1.0</td>\n      <td>1.00</td>\n      <td>0.01860</td>\n      <td>0.00159</td>\n      <td>0.00316</td>\n      <td>0.29290</td>\n    </tr>\n    <tr>\n      <th>11</th>\n      <td>1.0</td>\n      <td>1.00000</td>\n      <td>1.0</td>\n      <td>1.00000</td>\n      <td>1.0</td>\n      <td>1.00</td>\n      <td>0.55476</td>\n      <td>0.28032</td>\n      <td>1.00000</td>\n      <td>1.00000</td>\n    </tr>\n    <tr>\n      <th>12</th>\n      <td>1.0</td>\n      <td>1.00000</td>\n      <td>1.0</td>\n      <td>1.00000</td>\n      <td>1.0</td>\n      <td>1.00</td>\n      <td>1.00000</td>\n      <td>1.00000</td>\n      <td>1.00000</td>\n      <td>1.00000</td>\n    </tr>\n    <tr>\n      <th>13</th>\n      <td>1.0</td>\n      <td>1.00000</td>\n      <td>1.0</td>\n      <td>1.00000</td>\n      <td>1.0</td>\n      <td>1.00</td>\n      <td>1.00000</td>\n      <td>1.00000</td>\n      <td>1.00000</td>\n      <td>1.00000</td>\n    </tr>\n    <tr>\n      <th>14</th>\n      <td>1.0</td>\n      <td>1.00000</td>\n      <td>1.0</td>\n      <td>1.00000</td>\n      <td>1.0</td>\n      <td>1.00</td>\n      <td>1.00000</td>\n      <td>0.01560</td>\n      <td>1.00000</td>\n      <td>1.00000</td>\n    </tr>\n    <tr>\n      <th>15</th>\n      <td>1.0</td>\n      <td>1.00000</td>\n      <td>1.0</td>\n      <td>1.00000</td>\n      <td>1.0</td>\n      <td>1.00</td>\n      <td>1.00000</td>\n      <td>0.30672</td>\n      <td>1.00000</td>\n      <td>1.00000</td>\n    </tr>\n  </tbody>\n</table>\n</div>",
          "text/plain": "      0        1    2        3    4     5        6        7        8        9\n0   1.0  1.00000  1.0  1.00000  1.0  1.00  1.00000  1.00000  1.00000  1.00000\n1   1.0  1.00000  1.0  1.00000  1.0  1.00  1.00000  1.00000  1.00000  0.10804\n2   1.0  1.00000  1.0  1.00000  1.0  1.00  1.00000  1.00000  1.00000  1.00000\n3   1.0  1.00000  1.0  1.00000  1.0  1.00  1.00000  1.00000  1.00000  1.00000\n4   1.0  0.43229  1.0  0.07950  1.0  1.00  0.00942  0.00000  0.06191  0.02156\n5   1.0  1.00000  1.0  1.00000  1.0  1.00  0.04712  0.34080  0.09834  1.00000\n6   1.0  1.00000  1.0  1.00000  1.0  0.68  0.60006  0.19551  1.00000  0.36960\n7   1.0  1.00000  1.0  1.00000  1.0  1.00  1.00000  1.00000  1.00000  0.03213\n8   1.0  1.00000  1.0  0.32604  1.0  1.00  1.00000  1.00000  1.00000  0.70335\n9   1.0  1.00000  1.0  1.00000  1.0  1.00  1.00000  1.00000  1.00000  1.00000\n10  1.0  0.71824  1.0  0.34122  1.0  1.00  0.01860  0.00159  0.00316  0.29290\n11  1.0  1.00000  1.0  1.00000  1.0  1.00  0.55476  0.28032  1.00000  1.00000\n12  1.0  1.00000  1.0  1.00000  1.0  1.00  1.00000  1.00000  1.00000  1.00000\n13  1.0  1.00000  1.0  1.00000  1.0  1.00  1.00000  1.00000  1.00000  1.00000\n14  1.0  1.00000  1.0  1.00000  1.0  1.00  1.00000  0.01560  1.00000  1.00000\n15  1.0  1.00000  1.0  1.00000  1.0  1.00  1.00000  0.30672  1.00000  1.00000"
         },
         "metadata": {},
         "output_type": "display_data"
        }
       ]
      }
     },
     "70b5350f716247a3b77b8cd329e1619d": {
      "model_module": "@jupyter-widgets/base",
      "model_module_version": "1.2.0",
      "model_name": "LayoutModel",
      "state": {
       "width": "auto"
      }
     },
     "713801542b2843338f52c843c81c681e": {
      "model_module": "@jupyter-widgets/base",
      "model_module_version": "1.2.0",
      "model_name": "LayoutModel",
      "state": {
       "grid_area": "filename",
       "width": "auto"
      }
     },
     "71384d1d10834181a8bbacd147be9d84": {
      "model_module": "@jupyter-widgets/output",
      "model_module_version": "1.0.0",
      "model_name": "OutputModel",
      "state": {
       "layout": "IPY_MODEL_38a861bdf146477a88fad10101cc3a1a",
       "outputs": [
        {
         "ename": "AssertionError",
         "evalue": "y cannot be an empty list or array.",
         "output_type": "error",
         "traceback": [
          "\u001b[0;31m---------------------------------------------------------------------------\u001b[0m",
          "\u001b[0;31mAssertionError\u001b[0m                            Traceback (most recent call last)",
          "File \u001b[0;32m~/anaconda3/envs/dcmr/lib/python3.8/site-packages/ipywidgets/widgets/interaction.py:256\u001b[0m, in \u001b[0;36minteractive.update\u001b[0;34m(self, *args)\u001b[0m\n\u001b[1;32m    254\u001b[0m     value \u001b[38;5;241m=\u001b[39m widget\u001b[38;5;241m.\u001b[39mget_interact_value()\n\u001b[1;32m    255\u001b[0m     \u001b[38;5;28mself\u001b[39m\u001b[38;5;241m.\u001b[39mkwargs[widget\u001b[38;5;241m.\u001b[39m_kwarg] \u001b[38;5;241m=\u001b[39m value\n\u001b[0;32m--> 256\u001b[0m \u001b[38;5;28mself\u001b[39m\u001b[38;5;241m.\u001b[39mresult \u001b[38;5;241m=\u001b[39m \u001b[38;5;28;43mself\u001b[39;49m\u001b[38;5;241;43m.\u001b[39;49m\u001b[43mf\u001b[49m\u001b[43m(\u001b[49m\u001b[38;5;241;43m*\u001b[39;49m\u001b[38;5;241;43m*\u001b[39;49m\u001b[38;5;28;43mself\u001b[39;49m\u001b[38;5;241;43m.\u001b[39;49m\u001b[43mkwargs\u001b[49m\u001b[43m)\u001b[49m\n\u001b[1;32m    257\u001b[0m show_inline_matplotlib_plots()\n\u001b[1;32m    258\u001b[0m \u001b[38;5;28;01mif\u001b[39;00m \u001b[38;5;28mself\u001b[39m\u001b[38;5;241m.\u001b[39mauto_display \u001b[38;5;129;01mand\u001b[39;00m \u001b[38;5;28mself\u001b[39m\u001b[38;5;241m.\u001b[39mresult \u001b[38;5;129;01mis\u001b[39;00m \u001b[38;5;129;01mnot\u001b[39;00m \u001b[38;5;28;01mNone\u001b[39;00m:\n",
          "Input \u001b[0;32mIn [35]\u001b[0m, in \u001b[0;36mget_segmental_correlations\u001b[0;34m(alpha0)\u001b[0m\n\u001b[1;32m     13\u001b[0m path_to_our_dmd \u001b[38;5;241m=\u001b[39m path_chooser\u001b[38;5;241m.\u001b[39mselected\n\u001b[1;32m     14\u001b[0m df_DMD \u001b[38;5;241m=\u001b[39m pd\u001b[38;5;241m.\u001b[39mread_csv(path_to_our_dmd)\n\u001b[0;32m---> 15\u001b[0m df_pvals_uncorrected \u001b[38;5;241m=\u001b[39m \u001b[43mget_pvals_uncorrected\u001b[49m\u001b[43m(\u001b[49m\u001b[43mdf_DMD\u001b[49m\u001b[43m)\u001b[49m\n\u001b[1;32m     16\u001b[0m \u001b[38;5;28mprint\u001b[39m(df_pvals_uncorrected\u001b[38;5;241m.\u001b[39mshape)\n\u001b[1;32m     17\u001b[0m msk_ss, df_pvals_corrected \u001b[38;5;241m=\u001b[39m get_pvals_corrected(df_pvals_uncorrected, alpha0\u001b[38;5;241m=\u001b[39malpha0)\n",
          "File \u001b[0;32m/mnt/ssd/git/dynamic-cmr-models/src/utils/Evaluation.py:93\u001b[0m, in \u001b[0;36mget_pvals_uncorrected\u001b[0;34m(df_DMD, target, paired)\u001b[0m\n\u001b[1;32m     91\u001b[0m             results_pvalues[aha \u001b[38;5;241m-\u001b[39m \u001b[38;5;241m1\u001b[39m, i] \u001b[38;5;241m=\u001b[39m pvalue_error\n\u001b[1;32m     92\u001b[0m         \u001b[38;5;28;01melse\u001b[39;00m:\n\u001b[0;32m---> 93\u001b[0m             res \u001b[38;5;241m=\u001b[39m \u001b[43mpg\u001b[49m\u001b[38;5;241;43m.\u001b[39;49m\u001b[43mttest\u001b[49m\u001b[43m(\u001b[49m\u001b[43mlisting_a\u001b[49m\u001b[43m[\u001b[49m\u001b[43mi\u001b[49m\u001b[43m]\u001b[49m\u001b[43m,\u001b[49m\u001b[43m \u001b[49m\u001b[43mlisting_b\u001b[49m\u001b[43m[\u001b[49m\u001b[43mi\u001b[49m\u001b[43m]\u001b[49m\u001b[43m,\u001b[49m\u001b[43m \u001b[49m\u001b[43mpaired\u001b[49m\u001b[38;5;241;43m=\u001b[39;49m\u001b[43mpaired\u001b[49m\u001b[43m)\u001b[49m\n\u001b[1;32m     94\u001b[0m             results_pvalues[aha \u001b[38;5;241m-\u001b[39m \u001b[38;5;241m1\u001b[39m, i] \u001b[38;5;241m=\u001b[39m \u001b[38;5;28mfloat\u001b[39m(res[\u001b[38;5;124m'\u001b[39m\u001b[38;5;124mp-val\u001b[39m\u001b[38;5;124m'\u001b[39m][\u001b[38;5;241m0\u001b[39m])\n\u001b[1;32m     96\u001b[0m \u001b[38;5;66;03m# rounding\u001b[39;00m\n",
          "File \u001b[0;32m~/anaconda3/envs/dcmr/lib/python3.8/site-packages/pingouin/parametric.py:232\u001b[0m, in \u001b[0;36mttest\u001b[0;34m(x, y, paired, alternative, correction, r, confidence)\u001b[0m\n\u001b[1;32m    229\u001b[0m     paired \u001b[38;5;241m=\u001b[39m \u001b[38;5;28;01mFalse\u001b[39;00m\n\u001b[1;32m    231\u001b[0m \u001b[38;5;66;03m# Remove rows with missing values\u001b[39;00m\n\u001b[0;32m--> 232\u001b[0m x, y \u001b[38;5;241m=\u001b[39m \u001b[43mremove_na\u001b[49m\u001b[43m(\u001b[49m\u001b[43mx\u001b[49m\u001b[43m,\u001b[49m\u001b[43m \u001b[49m\u001b[43my\u001b[49m\u001b[43m,\u001b[49m\u001b[43m \u001b[49m\u001b[43mpaired\u001b[49m\u001b[38;5;241;43m=\u001b[39;49m\u001b[43mpaired\u001b[49m\u001b[43m)\u001b[49m\n\u001b[1;32m    233\u001b[0m nx, ny \u001b[38;5;241m=\u001b[39m x\u001b[38;5;241m.\u001b[39msize, y\u001b[38;5;241m.\u001b[39msize\n\u001b[1;32m    235\u001b[0m \u001b[38;5;28;01mif\u001b[39;00m ny \u001b[38;5;241m==\u001b[39m \u001b[38;5;241m1\u001b[39m:\n\u001b[1;32m    236\u001b[0m     \u001b[38;5;66;03m# Case one sample T-test\u001b[39;00m\n",
          "File \u001b[0;32m~/anaconda3/envs/dcmr/lib/python3.8/site-packages/pingouin/utils.py:236\u001b[0m, in \u001b[0;36mremove_na\u001b[0;34m(x, y, paired, axis)\u001b[0m\n\u001b[1;32m    234\u001b[0m \u001b[38;5;28;01melse\u001b[39;00m:  \u001b[38;5;66;03m# y is list, np.array, pd.Series\u001b[39;00m\n\u001b[1;32m    235\u001b[0m     y \u001b[38;5;241m=\u001b[39m np\u001b[38;5;241m.\u001b[39masarray(y)\n\u001b[0;32m--> 236\u001b[0m     \u001b[38;5;28;01massert\u001b[39;00m y\u001b[38;5;241m.\u001b[39msize \u001b[38;5;241m!=\u001b[39m \u001b[38;5;241m0\u001b[39m, \u001b[38;5;124m\"\u001b[39m\u001b[38;5;124my cannot be an empty list or array.\u001b[39m\u001b[38;5;124m\"\u001b[39m\n\u001b[1;32m    237\u001b[0m     \u001b[38;5;66;03m# Make sure that we just pass-through if y have only 1 element\u001b[39;00m\n\u001b[1;32m    238\u001b[0m     \u001b[38;5;28;01mif\u001b[39;00m y\u001b[38;5;241m.\u001b[39msize \u001b[38;5;241m==\u001b[39m \u001b[38;5;241m1\u001b[39m:\n",
          "\u001b[0;31mAssertionError\u001b[0m: y cannot be an empty list or array."
         ]
        }
       ]
      }
     },
     "7199bf103a0141a889f66bf7dec7059e": {
      "model_module": "@jupyter-widgets/controls",
      "model_module_version": "1.5.0",
      "model_name": "DescriptionStyleModel",
      "state": {
       "description_width": ""
      }
     },
     "72c5eaab23bc4b9c9b6981863bbd448d": {
      "model_module": "@jupyter-widgets/controls",
      "model_module_version": "1.5.0",
      "model_name": "DescriptionStyleModel",
      "state": {
       "description_width": ""
      }
     },
     "74461924d9384a40ae59a742c24aacc3": {
      "model_module": "@jupyter-widgets/base",
      "model_module_version": "1.2.0",
      "model_name": "LayoutModel",
      "state": {
       "width": "auto"
      }
     },
     "74eae2541684431bb53db11506282d6e": {
      "model_module": "@jupyter-widgets/controls",
      "model_module_version": "1.5.0",
      "model_name": "TextModel",
      "state": {
       "description": "alpha0",
       "layout": "IPY_MODEL_cca6cf2f92d046359500dc2557dc3691",
       "style": "IPY_MODEL_32d026164b8a426eaa1cf3351f050281",
       "value": "0.01"
      }
     },
     "7526812700bd4e6b9120665c7af4f416": {
      "model_module": "@jupyter-widgets/base",
      "model_module_version": "1.2.0",
      "model_name": "LayoutModel",
      "state": {
       "grid_area": "dircontent",
       "width": "auto"
      }
     },
     "76448735561b4cb3ab2cb88118a198e5": {
      "model_module": "@jupyter-widgets/base",
      "model_module_version": "1.2.0",
      "model_name": "LayoutModel",
      "state": {
       "grid_area": "dircontent",
       "width": "auto"
      }
     },
     "76fd27bec6b84880991a2bfaa5bef60c": {
      "model_module": "@jupyter-widgets/base",
      "model_module_version": "1.2.0",
      "model_name": "LayoutModel",
      "state": {}
     },
     "779980f1585e4a389bde5a489608f946": {
      "model_module": "@jupyter-widgets/controls",
      "model_module_version": "1.5.0",
      "model_name": "DescriptionStyleModel",
      "state": {
       "description_width": ""
      }
     },
     "78ac353ede1a482b8f219751065656e8": {
      "model_module": "@jupyter-widgets/controls",
      "model_module_version": "1.5.0",
      "model_name": "TextModel",
      "state": {
       "description": "alpha0",
       "layout": "IPY_MODEL_569db1d2abf947a3a84b942544ce3fb6",
       "style": "IPY_MODEL_2531c61eb63c4934a40997e56a485376",
       "value": "0.05"
      }
     },
     "78f81e6f254c4289831ec2decd322a07": {
      "model_module": "@jupyter-widgets/controls",
      "model_module_version": "1.5.0",
      "model_name": "FloatSliderModel",
      "state": {
       "description": "alpha0",
       "layout": "IPY_MODEL_f876f715a16642458c52220ca7e85daf",
       "max": 0.15000000000000002,
       "min": -0.05,
       "step": 0.1,
       "style": "IPY_MODEL_9db699970f554c34a62833bebc110dea",
       "value": 0.05
      }
     },
     "78fe51bda40e4ccf89f8de88e29fa0e9": {
      "model_module": "@jupyter-widgets/controls",
      "model_module_version": "1.5.0",
      "model_name": "TextModel",
      "state": {
       "layout": "IPY_MODEL_7f28964ad60841c9b1ee0dee9bc136d2",
       "placeholder": "output filename",
       "style": "IPY_MODEL_91429ae3c89f4acbb0d855cad8a43df8"
      }
     },
     "7986be8ffbb84a37a41df25bdfdfa652": {
      "model_module": "@jupyter-widgets/controls",
      "model_module_version": "1.5.0",
      "model_name": "TextModel",
      "state": {
       "description": "alpha0",
       "layout": "IPY_MODEL_066bffe2be9b4cf98fbfee6c4dda2d9d",
       "style": "IPY_MODEL_0d5da4361d484247aecfc050ec5c52bf",
       "value": "0.05"
      }
     },
     "7a39edf45ce34360bb1d2f5535f650a0": {
      "model_module": "@jupyter-widgets/base",
      "model_module_version": "1.2.0",
      "model_name": "LayoutModel",
      "state": {}
     },
     "7a77893468624e9bb7fbed58fdccad4f": {
      "model_module": "@jupyter-widgets/controls",
      "model_module_version": "1.5.0",
      "model_name": "VBoxModel",
      "state": {
       "_dom_classes": [
        "widget-interact"
       ],
       "children": [
        "IPY_MODEL_7f8102437c56464fae8ec082004ccaac",
        "IPY_MODEL_bcca51d9044f4b209395c31c592a9aaa",
        "IPY_MODEL_e301690cdf3d44759b8e3c63e95de5c9"
       ],
       "layout": "IPY_MODEL_6323b480ae614bf198f1f03b746a8a48"
      }
     },
     "7a80281fbe184c8a9611124771f9a26b": {
      "model_module": "@jupyter-widgets/base",
      "model_module_version": "1.2.0",
      "model_name": "LayoutModel",
      "state": {
       "grid_area": "filename",
       "width": "auto"
      }
     },
     "7a92b1a0bbcd4c19852e77af18456868": {
      "model_module": "@jupyter-widgets/base",
      "model_module_version": "1.2.0",
      "model_name": "LayoutModel",
      "state": {}
     },
     "7bcb1921520b45fbb9b0334ed9b7f812": {
      "model_module": "@jupyter-widgets/controls",
      "model_module_version": "1.5.0",
      "model_name": "DescriptionStyleModel",
      "state": {
       "description_width": ""
      }
     },
     "7bf73bdd0e2c468b9014439fffada2e7": {
      "model_module": "@jupyter-widgets/base",
      "model_module_version": "1.2.0",
      "model_name": "LayoutModel",
      "state": {
       "width": "auto"
      }
     },
     "7bf77d7b14c5489798eb2f75b84b5feb": {
      "model_module": "@jupyter-widgets/base",
      "model_module_version": "1.2.0",
      "model_name": "LayoutModel",
      "state": {}
     },
     "7c2560508e3147b3a4127a73c0c307f8": {
      "model_module": "@jupyter-widgets/controls",
      "model_module_version": "1.5.0",
      "model_name": "DescriptionStyleModel",
      "state": {
       "description_width": ""
      }
     },
     "7c70cfc745e64a8fbfa9e08b5c9b751b": {
      "model_module": "@jupyter-widgets/controls",
      "model_module_version": "1.5.0",
      "model_name": "HBoxModel",
      "state": {
       "children": [
        "IPY_MODEL_af35278ee74b4e43bfb93fb124d3708c",
        "IPY_MODEL_a4ba13a7e3104840a866f1609fe97378",
        "IPY_MODEL_46f7cd4116764c5f87df5191645d1aff"
       ],
       "layout": "IPY_MODEL_803e7c312c2848dba9fa93cfa02b625b"
      }
     },
     "7ce65f3cff9c48fa9640e8256f21663c": {
      "model_module": "@jupyter-widgets/controls",
      "model_module_version": "1.5.0",
      "model_name": "ButtonStyleModel",
      "state": {}
     },
     "7cf07f8bf6d9468b92e51ba289ebd7eb": {
      "model_module": "@jupyter-widgets/output",
      "model_module_version": "1.0.0",
      "model_name": "OutputModel",
      "state": {
       "layout": "IPY_MODEL_364d8cc04e9a43c480889f5a4818f7d4",
       "outputs": [
        {
         "name": "stdout",
         "output_type": "stream",
         "text": "CS strain in phase: MS - significant AHA segments: [4, 5, 10], p-values: [0.007850000000000001, 0.039779999999999996, 0.012480000000000002]\nCS strain in phase: ES - significant AHA segments: [4, 5, 10, 11, 14], p-values: [0.0, 0.021699999999999997, 0.0, 0.00158, 0.02926]\n"
        },
        {
         "data": {
          "text/html": "<div>\n<style scoped>\n    .dataframe tbody tr th:only-of-type {\n        vertical-align: middle;\n    }\n\n    .dataframe tbody tr th {\n        vertical-align: top;\n    }\n\n    .dataframe thead th {\n        text-align: right;\n    }\n</style>\n<table border=\"1\" class=\"dataframe\">\n  <thead>\n    <tr style=\"text-align: right;\">\n      <th></th>\n      <th>0</th>\n      <th>1</th>\n      <th>2</th>\n      <th>3</th>\n      <th>4</th>\n      <th>5</th>\n      <th>6</th>\n      <th>7</th>\n      <th>8</th>\n      <th>9</th>\n    </tr>\n  </thead>\n  <tbody>\n    <tr>\n      <th>0</th>\n      <td>1.0</td>\n      <td>1.00000</td>\n      <td>1.00000</td>\n      <td>1.0</td>\n      <td>1.0</td>\n      <td>1.0</td>\n      <td>1.00000</td>\n      <td>1.00000</td>\n      <td>1.00000</td>\n      <td>1.0</td>\n    </tr>\n    <tr>\n      <th>1</th>\n      <td>1.0</td>\n      <td>1.00000</td>\n      <td>1.00000</td>\n      <td>1.0</td>\n      <td>1.0</td>\n      <td>1.0</td>\n      <td>1.00000</td>\n      <td>1.00000</td>\n      <td>1.00000</td>\n      <td>1.0</td>\n    </tr>\n    <tr>\n      <th>2</th>\n      <td>1.0</td>\n      <td>1.00000</td>\n      <td>1.00000</td>\n      <td>1.0</td>\n      <td>1.0</td>\n      <td>1.0</td>\n      <td>1.00000</td>\n      <td>1.00000</td>\n      <td>1.00000</td>\n      <td>1.0</td>\n    </tr>\n    <tr>\n      <th>3</th>\n      <td>1.0</td>\n      <td>1.00000</td>\n      <td>1.00000</td>\n      <td>1.0</td>\n      <td>1.0</td>\n      <td>1.0</td>\n      <td>1.00000</td>\n      <td>1.00000</td>\n      <td>1.00000</td>\n      <td>1.0</td>\n    </tr>\n    <tr>\n      <th>4</th>\n      <td>1.0</td>\n      <td>0.36112</td>\n      <td>1.00000</td>\n      <td>1.0</td>\n      <td>1.0</td>\n      <td>1.0</td>\n      <td>0.00785</td>\n      <td>0.00000</td>\n      <td>1.00000</td>\n      <td>1.0</td>\n    </tr>\n    <tr>\n      <th>5</th>\n      <td>1.0</td>\n      <td>1.00000</td>\n      <td>1.00000</td>\n      <td>1.0</td>\n      <td>1.0</td>\n      <td>1.0</td>\n      <td>0.03978</td>\n      <td>0.02170</td>\n      <td>1.00000</td>\n      <td>1.0</td>\n    </tr>\n    <tr>\n      <th>6</th>\n      <td>1.0</td>\n      <td>1.00000</td>\n      <td>1.00000</td>\n      <td>1.0</td>\n      <td>1.0</td>\n      <td>1.0</td>\n      <td>0.54537</td>\n      <td>0.05624</td>\n      <td>0.24300</td>\n      <td>1.0</td>\n    </tr>\n    <tr>\n      <th>7</th>\n      <td>1.0</td>\n      <td>1.00000</td>\n      <td>1.00000</td>\n      <td>1.0</td>\n      <td>1.0</td>\n      <td>1.0</td>\n      <td>1.00000</td>\n      <td>1.00000</td>\n      <td>1.00000</td>\n      <td>1.0</td>\n    </tr>\n    <tr>\n      <th>8</th>\n      <td>1.0</td>\n      <td>1.00000</td>\n      <td>1.00000</td>\n      <td>1.0</td>\n      <td>1.0</td>\n      <td>1.0</td>\n      <td>1.00000</td>\n      <td>1.00000</td>\n      <td>0.09362</td>\n      <td>1.0</td>\n    </tr>\n    <tr>\n      <th>9</th>\n      <td>1.0</td>\n      <td>1.00000</td>\n      <td>1.00000</td>\n      <td>1.0</td>\n      <td>1.0</td>\n      <td>1.0</td>\n      <td>1.00000</td>\n      <td>1.00000</td>\n      <td>1.00000</td>\n      <td>1.0</td>\n    </tr>\n    <tr>\n      <th>10</th>\n      <td>1.0</td>\n      <td>0.82512</td>\n      <td>1.00000</td>\n      <td>1.0</td>\n      <td>1.0</td>\n      <td>1.0</td>\n      <td>0.01248</td>\n      <td>0.00000</td>\n      <td>1.00000</td>\n      <td>1.0</td>\n    </tr>\n    <tr>\n      <th>11</th>\n      <td>1.0</td>\n      <td>1.00000</td>\n      <td>0.57086</td>\n      <td>1.0</td>\n      <td>1.0</td>\n      <td>1.0</td>\n      <td>0.62350</td>\n      <td>0.00158</td>\n      <td>1.00000</td>\n      <td>1.0</td>\n    </tr>\n    <tr>\n      <th>12</th>\n      <td>1.0</td>\n      <td>1.00000</td>\n      <td>1.00000</td>\n      <td>1.0</td>\n      <td>1.0</td>\n      <td>1.0</td>\n      <td>1.00000</td>\n      <td>1.00000</td>\n      <td>1.00000</td>\n      <td>1.0</td>\n    </tr>\n    <tr>\n      <th>13</th>\n      <td>1.0</td>\n      <td>1.00000</td>\n      <td>1.00000</td>\n      <td>1.0</td>\n      <td>1.0</td>\n      <td>1.0</td>\n      <td>1.00000</td>\n      <td>1.00000</td>\n      <td>1.00000</td>\n      <td>1.0</td>\n    </tr>\n    <tr>\n      <th>14</th>\n      <td>1.0</td>\n      <td>1.00000</td>\n      <td>1.00000</td>\n      <td>1.0</td>\n      <td>1.0</td>\n      <td>1.0</td>\n      <td>1.00000</td>\n      <td>0.02926</td>\n      <td>1.00000</td>\n      <td>1.0</td>\n    </tr>\n    <tr>\n      <th>15</th>\n      <td>1.0</td>\n      <td>1.00000</td>\n      <td>1.00000</td>\n      <td>1.0</td>\n      <td>1.0</td>\n      <td>1.0</td>\n      <td>1.00000</td>\n      <td>0.26522</td>\n      <td>1.00000</td>\n      <td>1.0</td>\n    </tr>\n  </tbody>\n</table>\n</div>",
          "text/plain": "      0        1        2    3    4    5        6        7        8    9\n0   1.0  1.00000  1.00000  1.0  1.0  1.0  1.00000  1.00000  1.00000  1.0\n1   1.0  1.00000  1.00000  1.0  1.0  1.0  1.00000  1.00000  1.00000  1.0\n2   1.0  1.00000  1.00000  1.0  1.0  1.0  1.00000  1.00000  1.00000  1.0\n3   1.0  1.00000  1.00000  1.0  1.0  1.0  1.00000  1.00000  1.00000  1.0\n4   1.0  0.36112  1.00000  1.0  1.0  1.0  0.00785  0.00000  1.00000  1.0\n5   1.0  1.00000  1.00000  1.0  1.0  1.0  0.03978  0.02170  1.00000  1.0\n6   1.0  1.00000  1.00000  1.0  1.0  1.0  0.54537  0.05624  0.24300  1.0\n7   1.0  1.00000  1.00000  1.0  1.0  1.0  1.00000  1.00000  1.00000  1.0\n8   1.0  1.00000  1.00000  1.0  1.0  1.0  1.00000  1.00000  0.09362  1.0\n9   1.0  1.00000  1.00000  1.0  1.0  1.0  1.00000  1.00000  1.00000  1.0\n10  1.0  0.82512  1.00000  1.0  1.0  1.0  0.01248  0.00000  1.00000  1.0\n11  1.0  1.00000  0.57086  1.0  1.0  1.0  0.62350  0.00158  1.00000  1.0\n12  1.0  1.00000  1.00000  1.0  1.0  1.0  1.00000  1.00000  1.00000  1.0\n13  1.0  1.00000  1.00000  1.0  1.0  1.0  1.00000  1.00000  1.00000  1.0\n14  1.0  1.00000  1.00000  1.0  1.0  1.0  1.00000  0.02926  1.00000  1.0\n15  1.0  1.00000  1.00000  1.0  1.0  1.0  1.00000  0.26522  1.00000  1.0"
         },
         "metadata": {},
         "output_type": "display_data"
        }
       ]
      }
     },
     "7d1be9f9298e4338800d41fd1e4ad26a": {
      "model_module": "@jupyter-widgets/base",
      "model_module_version": "1.2.0",
      "model_name": "LayoutModel",
      "state": {
       "grid_area": "pathlist",
       "width": "auto"
      }
     },
     "7d72db733447477bb021c903ab5b890e": {
      "model_module": "@jupyter-widgets/controls",
      "model_module_version": "1.5.0",
      "model_name": "TextModel",
      "state": {
       "description": "alpha0",
       "layout": "IPY_MODEL_dd228981c55240dd832879bebb05038b",
       "style": "IPY_MODEL_93fc85cc7ce64f7ea28419f1ea05d905",
       "value": "0.05"
      }
     },
     "7ed9a828edbe468ab0a3b7b7d0a2ddcd": {
      "model_module": "@jupyter-widgets/controls",
      "model_module_version": "1.5.0",
      "model_name": "DescriptionStyleModel",
      "state": {
       "description_width": ""
      }
     },
     "7f21dc0686ad4e9e85f86d80f6ae9939": {
      "model_module": "@jupyter-widgets/controls",
      "model_module_version": "1.5.0",
      "model_name": "DescriptionStyleModel",
      "state": {
       "description_width": ""
      }
     },
     "7f28964ad60841c9b1ee0dee9bc136d2": {
      "model_module": "@jupyter-widgets/base",
      "model_module_version": "1.2.0",
      "model_name": "LayoutModel",
      "state": {
       "grid_area": "filename",
       "width": "auto"
      }
     },
     "7f8102437c56464fae8ec082004ccaac": {
      "model_module": "@jupyter-widgets/controls",
      "model_module_version": "1.5.0",
      "model_name": "TextModel",
      "state": {
       "description": "alpha0",
       "layout": "IPY_MODEL_d66004db1aa64779857320bd0d6e549c",
       "style": "IPY_MODEL_7ed9a828edbe468ab0a3b7b7d0a2ddcd",
       "value": "0.05"
      }
     },
     "7f98d5c0ca45430f99120ab6a59daf28": {
      "model_module": "@jupyter-widgets/controls",
      "model_module_version": "1.5.0",
      "model_name": "DescriptionStyleModel",
      "state": {
       "description_width": ""
      }
     },
     "7fc6c28ae71a4a1e9d6d316c572ecd5a": {
      "model_module": "@jupyter-widgets/base",
      "model_module_version": "1.2.0",
      "model_name": "LayoutModel",
      "state": {
       "display": "none"
      }
     },
     "803e7c312c2848dba9fa93cfa02b625b": {
      "model_module": "@jupyter-widgets/base",
      "model_module_version": "1.2.0",
      "model_name": "LayoutModel",
      "state": {
       "width": "auto"
      }
     },
     "804c4f3f6d6b42e0a632a27cf67483e2": {
      "model_module": "@jupyter-widgets/controls",
      "model_module_version": "1.5.0",
      "model_name": "SelectModel",
      "state": {
       "_options_labels": [
        "..",
        "f0",
        "f1",
        "f2",
        "f3",
        "gt_m",
        "pred",
        "pred_m",
        "Log_errors.log",
        "df_DMD_time_ed2p.csv",
        "df_DMD_time_p2p.csv",
        "model.png",
        "model_summary.txt"
       ],
       "index": null,
       "layout": "IPY_MODEL_eafb8a2ad3b44a5a9caa593bd145e989",
       "rows": 8,
       "style": "IPY_MODEL_779980f1585e4a389bde5a489608f946"
      }
     },
     "80936e5cd6c74f34a751cad084f97f1e": {
      "model_module": "@jupyter-widgets/controls",
      "model_module_version": "1.5.0",
      "model_name": "ButtonModel",
      "state": {
       "description": "Cancel",
       "layout": "IPY_MODEL_e5410007a98d410d824e300aaa21172e",
       "style": "IPY_MODEL_ccead4de9c7244c59d396032d4a9fdea"
      }
     },
     "80f5e5b80b5c492f86373aa0500d1856": {
      "model_module": "@jupyter-widgets/controls",
      "model_module_version": "1.5.0",
      "model_name": "DescriptionStyleModel",
      "state": {
       "description_width": ""
      }
     },
     "83ca36acbaa8447cbe0186b038daa85b": {
      "model_module": "@jupyter-widgets/controls",
      "model_module_version": "1.5.0",
      "model_name": "TextModel",
      "state": {
       "layout": "IPY_MODEL_713801542b2843338f52c843c81c681e",
       "placeholder": "output filename",
       "style": "IPY_MODEL_54638243e8794297b3c11d8df1a49a47"
      }
     },
     "846a02c33d874fd2a575e09b27ab9a11": {
      "model_module": "@jupyter-widgets/controls",
      "model_module_version": "1.5.0",
      "model_name": "TextModel",
      "state": {
       "description": "alpha0",
       "layout": "IPY_MODEL_9e72e4edb28545489eb65faf99938657",
       "style": "IPY_MODEL_0b64064e018c4347952569450e8297d1",
       "value": "0.05"
      }
     },
     "84f38b84bb5244afb14462b7502b3218": {
      "model_module": "@jupyter-widgets/base",
      "model_module_version": "1.2.0",
      "model_name": "LayoutModel",
      "state": {}
     },
     "86215e63c33e44f29f0d20dd1c2ad462": {
      "model_module": "@jupyter-widgets/base",
      "model_module_version": "1.2.0",
      "model_name": "LayoutModel",
      "state": {}
     },
     "865044502acf47e9a481be958bf4866a": {
      "model_module": "@jupyter-widgets/controls",
      "model_module_version": "1.5.0",
      "model_name": "DescriptionStyleModel",
      "state": {
       "description_width": ""
      }
     },
     "86a5fa3e616541be8a7c311a8f90ac98": {
      "model_module": "@jupyter-widgets/controls",
      "model_module_version": "1.5.0",
      "model_name": "HBoxModel",
      "state": {
       "children": [
        "IPY_MODEL_e6dd2f46d93d47c9a7ecb68b316c949d",
        "IPY_MODEL_c82a274be0904ee594732083d9ccac13",
        "IPY_MODEL_0ba029082df0446d861882f19ee7e7ff"
       ],
       "layout": "IPY_MODEL_fa4a5eb29ce54a7ab266fe85ddd18dc8"
      }
     },
     "874931c9784f437cbbcfe55d6af1b166": {
      "model_module": "@jupyter-widgets/base",
      "model_module_version": "1.2.0",
      "model_name": "LayoutModel",
      "state": {}
     },
     "87b2696f0c774a1380efcc5fba498fd5": {
      "model_module": "@jupyter-widgets/base",
      "model_module_version": "1.2.0",
      "model_name": "LayoutModel",
      "state": {
       "width": "auto"
      }
     },
     "87ebcb695c024421a361fa830caf13bd": {
      "model_module": "@jupyter-widgets/controls",
      "model_module_version": "1.5.0",
      "model_name": "VBoxModel",
      "state": {
       "_dom_classes": [
        "widget-interact"
       ],
       "children": [
        "IPY_MODEL_846a02c33d874fd2a575e09b27ab9a11",
        "IPY_MODEL_90d5e96aa78f4f6785b1be4a21d25aa9",
        "IPY_MODEL_e37f2600280c45d38be25082cc337dce"
       ],
       "layout": "IPY_MODEL_d619c170eab84fec83eea3ef79bfea08"
      }
     },
     "88288bbec5814429b3da5eb2f7868458": {
      "model_module": "@jupyter-widgets/base",
      "model_module_version": "1.2.0",
      "model_name": "LayoutModel",
      "state": {
       "display": "none",
       "width": "auto"
      }
     },
     "890286d8be584d5d880c7bf98114eba5": {
      "model_module": "@jupyter-widgets/base",
      "model_module_version": "1.2.0",
      "model_name": "LayoutModel",
      "state": {
       "grid_area": "pathlist",
       "width": "auto"
      }
     },
     "8947894652844ee9980974442821982f": {
      "model_module": "@jupyter-widgets/controls",
      "model_module_version": "1.5.0",
      "model_name": "DescriptionStyleModel",
      "state": {
       "description_width": ""
      }
     },
     "89c06069b7364e4ba39d9efc25494d28": {
      "model_module": "@jupyter-widgets/base",
      "model_module_version": "1.2.0",
      "model_name": "LayoutModel",
      "state": {
       "grid_area": "pathlist",
       "width": "auto"
      }
     },
     "8aca1191a41148acac3fa2ae15adee7f": {
      "model_module": "@jupyter-widgets/controls",
      "model_module_version": "1.5.0",
      "model_name": "HBoxModel",
      "state": {
       "children": [
        "IPY_MODEL_5ec1f472fc9c4a87bbfc254b104adf18",
        "IPY_MODEL_548fdc42e4be485b8658ff06fc8d5c27",
        "IPY_MODEL_e4187b1e9dec49be8c07d1a2f81fa66b"
       ],
       "layout": "IPY_MODEL_b0ec6e75b0dd4e028b050d2318e390a2"
      }
     },
     "8b7f0408497941b18be87af49bd79a30": {
      "model_module": "@jupyter-widgets/controls",
      "model_module_version": "1.5.0",
      "model_name": "DescriptionStyleModel",
      "state": {
       "description_width": ""
      }
     },
     "8c30981fc8f6438aa574618120c5bd5f": {
      "model_module": "@jupyter-widgets/base",
      "model_module_version": "1.2.0",
      "model_name": "LayoutModel",
      "state": {}
     },
     "8c31d37895fb44d8b09249ce99416a09": {
      "model_module": "@jupyter-widgets/controls",
      "model_module_version": "1.5.0",
      "model_name": "SelectModel",
      "state": {
       "_options_labels": [
        "..",
        "f0",
        "f1",
        "f2",
        "f3",
        "gt_m",
        "pred",
        "pred_m",
        "Log_errors.log",
        "df_DMD_time_ed2p.csv",
        "df_DMD_time_p2p.csv",
        "model.png",
        "model_summary.txt"
       ],
       "index": null,
       "layout": "IPY_MODEL_f8a5302cfcd542109a0f9a02aaaff9f3",
       "rows": 8,
       "style": "IPY_MODEL_ece8c00068b44140811932e8109fa5f8"
      }
     },
     "8c34e9cc1c5e4c74b8483cb72322baf6": {
      "model_module": "@jupyter-widgets/controls",
      "model_module_version": "1.5.0",
      "model_name": "TextModel",
      "state": {
       "layout": "IPY_MODEL_7a80281fbe184c8a9611124771f9a26b",
       "placeholder": "output filename",
       "style": "IPY_MODEL_0e93acd4a0c2490aa40d557b7f60f9d7",
       "value": "df_DMD_time_p2p.csv"
      }
     },
     "8d5539a139dd4430bc341cbbf97b1a93": {
      "model_module": "@jupyter-widgets/controls",
      "model_module_version": "1.5.0",
      "model_name": "HBoxModel",
      "state": {
       "children": [
        "IPY_MODEL_f60d14fcbcb34a93bbfa1acc0df7d3cb",
        "IPY_MODEL_3e5d24cd154c45df96ffd58754dd835a",
        "IPY_MODEL_2b815e4b059347b09d43c619ab3415aa"
       ],
       "layout": "IPY_MODEL_66df045ee06e4d0ab94c5d8ed5e47f26"
      }
     },
     "8e010509dd244822963a6b702db24e70": {
      "model_module": "@jupyter-widgets/base",
      "model_module_version": "1.2.0",
      "model_name": "LayoutModel",
      "state": {
       "grid_area": "dircontent",
       "width": "auto"
      }
     },
     "8e4a050e98fd464e9089d1e781607f21": {
      "model_module": "@jupyter-widgets/base",
      "model_module_version": "1.2.0",
      "model_name": "LayoutModel",
      "state": {
       "width": "auto"
      }
     },
     "8e764205833041549447d9209f11c1ae": {
      "model_module": "@jupyter-widgets/controls",
      "model_module_version": "1.5.0",
      "model_name": "DescriptionStyleModel",
      "state": {
       "description_width": ""
      }
     },
     "8ecc6afcc0b34219a1f312cd255fd0a8": {
      "model_module": "@jupyter-widgets/base",
      "model_module_version": "1.2.0",
      "model_name": "LayoutModel",
      "state": {
       "display": "none"
      }
     },
     "8ee350a4ac934f28ba51eaab5bf885b6": {
      "model_module": "@jupyter-widgets/controls",
      "model_module_version": "1.5.0",
      "model_name": "TextModel",
      "state": {
       "description": "alpha0",
       "layout": "IPY_MODEL_289a1d6a34c241148f473aa99cc6d2fb",
       "style": "IPY_MODEL_7199bf103a0141a889f66bf7dec7059e",
       "value": "0.05"
      }
     },
     "90104ca4a4cb4eeaa3a4c453bbd0ad52": {
      "model_module": "@jupyter-widgets/base",
      "model_module_version": "1.2.0",
      "model_name": "LayoutModel",
      "state": {}
     },
     "904a2a544d684e45ae4205919d033c1e": {
      "model_module": "@jupyter-widgets/controls",
      "model_module_version": "1.5.0",
      "model_name": "DescriptionStyleModel",
      "state": {
       "description_width": ""
      }
     },
     "90d5e96aa78f4f6785b1be4a21d25aa9": {
      "model_module": "@jupyter-widgets/controls",
      "model_module_version": "1.5.0",
      "model_name": "ButtonModel",
      "state": {
       "description": "Run Interact",
       "layout": "IPY_MODEL_1ed8828f98774a60a35cacb6a98a6f0c",
       "style": "IPY_MODEL_1ea64f7b85f84e5b9c34a669f5d4483f"
      }
     },
     "9135e10ab1f04e67ab908d01c0d7fd74": {
      "model_module": "@jupyter-widgets/controls",
      "model_module_version": "1.5.0",
      "model_name": "DescriptionStyleModel",
      "state": {
       "description_width": ""
      }
     },
     "91429ae3c89f4acbb0d855cad8a43df8": {
      "model_module": "@jupyter-widgets/controls",
      "model_module_version": "1.5.0",
      "model_name": "DescriptionStyleModel",
      "state": {
       "description_width": ""
      }
     },
     "91678108d0e549feb4c026de9f650082": {
      "model_module": "@jupyter-widgets/controls",
      "model_module_version": "1.5.0",
      "model_name": "HTMLModel",
      "state": {
       "layout": "IPY_MODEL_a522f5c294f94ef085277d5c140561e8",
       "placeholder": "",
       "style": "IPY_MODEL_cc7b73b5dfd949859e602fcc2bfbef3c",
       "value": "<span style=\"margin-left:10px; color:black;\">No file selected</span>"
      }
     },
     "91a1c5dfee934e4ca404d33ae1d6ce03": {
      "model_module": "@jupyter-widgets/controls",
      "model_module_version": "1.5.0",
      "model_name": "TextModel",
      "state": {
       "layout": "IPY_MODEL_0df5bb841b3440efa1f44019959e14bf",
       "placeholder": "output filename",
       "style": "IPY_MODEL_72c5eaab23bc4b9c9b6981863bbd448d",
       "value": "df_DMD_time_p2p.csv"
      }
     },
     "921806f072d54cf2976bac8d96a2e380": {
      "model_module": "@jupyter-widgets/controls",
      "model_module_version": "1.5.0",
      "model_name": "DescriptionStyleModel",
      "state": {
       "description_width": ""
      }
     },
     "92b6a80ce40b4406a2815545e8792d96": {
      "model_module": "@jupyter-widgets/base",
      "model_module_version": "1.2.0",
      "model_name": "LayoutModel",
      "state": {
       "width": "auto"
      }
     },
     "92c9648d617c49d9bb66a3e6ca77f015": {
      "model_module": "@jupyter-widgets/controls",
      "model_module_version": "1.5.0",
      "model_name": "ButtonModel",
      "state": {
       "description": "Cancel",
       "layout": "IPY_MODEL_9f54fc9bbf284325839180ca33fce25c",
       "style": "IPY_MODEL_7ce65f3cff9c48fa9640e8256f21663c"
      }
     },
     "92df7340e4604ef18be0ba0f64f0dbdc": {
      "model_module": "@jupyter-widgets/controls",
      "model_module_version": "1.5.0",
      "model_name": "VBoxModel",
      "state": {
       "_dom_classes": [
        "widget-interact"
       ],
       "children": [
        "IPY_MODEL_74eae2541684431bb53db11506282d6e",
        "IPY_MODEL_930b98c42ade49d3844d269f30bb4efb",
        "IPY_MODEL_e84fce2aff9148d59e3fdc2ffd9e16e0"
       ],
       "layout": "IPY_MODEL_5a42853d42e043adba96f88f5a9aa9de"
      }
     },
     "930b98c42ade49d3844d269f30bb4efb": {
      "model_module": "@jupyter-widgets/controls",
      "model_module_version": "1.5.0",
      "model_name": "ButtonModel",
      "state": {
       "description": "Run Interact",
       "layout": "IPY_MODEL_39d1acf1094c4f4c8972a2f49bad0386",
       "style": "IPY_MODEL_ff79c8e5d3974933844a1718d945ee81"
      }
     },
     "93109ce298e64511b21dc24ba87527a5": {
      "model_module": "@jupyter-widgets/base",
      "model_module_version": "1.2.0",
      "model_name": "LayoutModel",
      "state": {}
     },
     "93c96f3b0b5d4b6298692624cf08c27a": {
      "model_module": "@jupyter-widgets/base",
      "model_module_version": "1.2.0",
      "model_name": "LayoutModel",
      "state": {
       "display": "none",
       "width": "auto"
      }
     },
     "93fc85cc7ce64f7ea28419f1ea05d905": {
      "model_module": "@jupyter-widgets/controls",
      "model_module_version": "1.5.0",
      "model_name": "DescriptionStyleModel",
      "state": {
       "description_width": ""
      }
     },
     "94e937ae4a8d45c8b85d9f4679ab9f19": {
      "model_module": "@jupyter-widgets/controls",
      "model_module_version": "1.5.0",
      "model_name": "ButtonModel",
      "state": {
       "description": "Run Interact",
       "layout": "IPY_MODEL_5f58f1b34a0f4376bbc1261c99ce4835",
       "style": "IPY_MODEL_624cdf31a5724d0d9f44173fbedea840"
      }
     },
     "958ad0e34e9e428faf4bf56f11158816": {
      "model_module": "@jupyter-widgets/controls",
      "model_module_version": "1.5.0",
      "model_name": "VBoxModel",
      "state": {
       "children": [
        "IPY_MODEL_0f6cc93fafe4429c9292f6f4d090d127",
        "IPY_MODEL_a0387011be5f4a52b153112db4325b17",
        "IPY_MODEL_2583945094624a3e8ba433709c2266cc"
       ],
       "layout": "IPY_MODEL_fc8932e631844c09802b798fbf311139"
      }
     },
     "972124de24c34a639fe0baaa4274d050": {
      "model_module": "@jupyter-widgets/controls",
      "model_module_version": "1.5.0",
      "model_name": "HBoxModel",
      "state": {
       "children": [
        "IPY_MODEL_9824d85536074df08b72db6124cef622",
        "IPY_MODEL_d6e12e880b134fc88206fab6dd091138",
        "IPY_MODEL_4979a0c35c584aae9c6adec13a6673d4"
       ],
       "layout": "IPY_MODEL_c76edfb5c295455a90d611dd3423a885"
      }
     },
     "97352fb00cd14a11840c86ea3f4a3d0b": {
      "model_module": "@jupyter-widgets/controls",
      "model_module_version": "1.5.0",
      "model_name": "DescriptionStyleModel",
      "state": {
       "description_width": ""
      }
     },
     "9744839145de40cfaf17f617746aa313": {
      "model_module": "@jupyter-widgets/controls",
      "model_module_version": "1.5.0",
      "model_name": "ButtonModel",
      "state": {
       "description": "Cancel",
       "layout": "IPY_MODEL_feb8c06414d04bd7ad759227a6f9d9da",
       "style": "IPY_MODEL_5251332a11934ddf9813381d6c9c8589"
      }
     },
     "97a55722c0ea42009756b1a46e1c24ef": {
      "model_module": "@jupyter-widgets/controls",
      "model_module_version": "1.5.0",
      "model_name": "ButtonModel",
      "state": {
       "description": "Cancel",
       "layout": "IPY_MODEL_88288bbec5814429b3da5eb2f7868458",
       "style": "IPY_MODEL_db32fc14503e4e0eb64b1b8ae6284d6d"
      }
     },
     "980f34a0195d418f8c1d2068586e1a65": {
      "model_module": "@jupyter-widgets/controls",
      "model_module_version": "1.5.0",
      "model_name": "ButtonModel",
      "state": {
       "description": "Run Interact",
       "layout": "IPY_MODEL_247f1084175540f8b45128dd0f546d50",
       "style": "IPY_MODEL_437c621f883e4a67bb61f4725f21930c"
      }
     },
     "9824d85536074df08b72db6124cef622": {
      "model_module": "@jupyter-widgets/controls",
      "model_module_version": "1.5.0",
      "model_name": "ButtonModel",
      "state": {
       "description": "Change",
       "layout": "IPY_MODEL_2595956620964050983046c47ff1b3a5",
       "style": "IPY_MODEL_1ba46b519a314bef8edc528e3d9ba9cb"
      }
     },
     "9839e1a2ae904b2ab24a769194aeeff6": {
      "model_module": "@jupyter-widgets/controls",
      "model_module_version": "1.5.0",
      "model_name": "DescriptionStyleModel",
      "state": {
       "description_width": ""
      }
     },
     "996bfa064801408baefba644e142453f": {
      "model_module": "@jupyter-widgets/controls",
      "model_module_version": "1.5.0",
      "model_name": "ButtonModel",
      "state": {
       "description": "Run Interact",
       "layout": "IPY_MODEL_c4f326a6ac8042f3a6138c792750f9a4",
       "style": "IPY_MODEL_46e27959089345aa8532d96cd145f8bb"
      }
     },
     "99981a0a4e1b4b0ab3c6d3ecf2f27711": {
      "model_module": "@jupyter-widgets/controls",
      "model_module_version": "1.5.0",
      "model_name": "DescriptionStyleModel",
      "state": {
       "description_width": ""
      }
     },
     "9a12a7e83b074452aa06f7b5906bf262": {
      "model_module": "@jupyter-widgets/base",
      "model_module_version": "1.2.0",
      "model_name": "LayoutModel",
      "state": {
       "display": "none",
       "grid_gap": "0px 0px",
       "grid_template_areas": "\n                    'pathlist filename'\n                    'dircontent dircontent'\n                    ",
       "grid_template_columns": "60% 40%",
       "grid_template_rows": "auto auto",
       "width": "500px"
      }
     },
     "9a2808bcd0a54ca5812dac74773f9e23": {
      "model_module": "@jupyter-widgets/controls",
      "model_module_version": "1.5.0",
      "model_name": "TextModel",
      "state": {
       "layout": "IPY_MODEL_dcafd2ab10c74045a20c7bd92fdccafc",
       "placeholder": "output filename",
       "style": "IPY_MODEL_bd1bf6380e2241a689c2e490f711ab58"
      }
     },
     "9a72ff778b6a45a6b044d99775e673c3": {
      "model_module": "@jupyter-widgets/controls",
      "model_module_version": "1.5.0",
      "model_name": "VBoxModel",
      "state": {
       "children": [
        "IPY_MODEL_39dfd967a5de4846b585990e3359bf96",
        "IPY_MODEL_e2b74aea2a214c498d81a91dcba2adfa",
        "IPY_MODEL_f4eede8ca5794b54bfaf027c18944b8e"
       ],
       "layout": "IPY_MODEL_1e830f96e55c42f8b2d3b7b84ca6ebc5"
      }
     },
     "9a925242dfe94a5ea70dd3b16c3f3589": {
      "model_module": "@jupyter-widgets/controls",
      "model_module_version": "1.5.0",
      "model_name": "HBoxModel",
      "state": {
       "children": [
        "IPY_MODEL_0f6da94ef9cc402bb01bef2367480074",
        "IPY_MODEL_c9bc0bab173740a8ad52a247d0dfc9d9",
        "IPY_MODEL_af91b5677b864f9b81efaff98d6318b5"
       ],
       "layout": "IPY_MODEL_3afc3fcfcb504748994e67a1b10c8cd9"
      }
     },
     "9b3c55deacad4dc5b9bd9640a8c7a9a2": {
      "model_module": "@jupyter-widgets/controls",
      "model_module_version": "1.5.0",
      "model_name": "ButtonStyleModel",
      "state": {}
     },
     "9b6de533297d45f087ab2912ad6d45da": {
      "model_module": "@jupyter-widgets/base",
      "model_module_version": "1.2.0",
      "model_name": "LayoutModel",
      "state": {
       "width": "auto"
      }
     },
     "9c3bb02068574660b978e31710a04cbc": {
      "model_module": "@jupyter-widgets/base",
      "model_module_version": "1.2.0",
      "model_name": "LayoutModel",
      "state": {
       "grid_area": "dircontent",
       "width": "auto"
      }
     },
     "9cca969976c944f18b09e706eeb66342": {
      "model_module": "@jupyter-widgets/controls",
      "model_module_version": "1.5.0",
      "model_name": "HBoxModel",
      "state": {
       "children": [
        "IPY_MODEL_55662d1acb264a228217c9c00260679f",
        "IPY_MODEL_14a6a7786ba14486a894a4536c737cf7",
        "IPY_MODEL_6045575826db438895b14c9997cbf227"
       ],
       "layout": "IPY_MODEL_fade27808c2f48d78432f29cd8813723"
      }
     },
     "9db699970f554c34a62833bebc110dea": {
      "model_module": "@jupyter-widgets/controls",
      "model_module_version": "1.5.0",
      "model_name": "SliderStyleModel",
      "state": {
       "description_width": ""
      }
     },
     "9e5442640c8445faa42c467950ac7d3a": {
      "model_module": "@jupyter-widgets/controls",
      "model_module_version": "1.5.0",
      "model_name": "ButtonModel",
      "state": {
       "description": "Run Interact",
       "layout": "IPY_MODEL_7a92b1a0bbcd4c19852e77af18456868",
       "style": "IPY_MODEL_3154a267870b4f73860e524263c9a0d1"
      }
     },
     "9e72e4edb28545489eb65faf99938657": {
      "model_module": "@jupyter-widgets/base",
      "model_module_version": "1.2.0",
      "model_name": "LayoutModel",
      "state": {}
     },
     "9eddcc13313d4350bf0daa44adc477fb": {
      "model_module": "@jupyter-widgets/controls",
      "model_module_version": "1.5.0",
      "model_name": "ButtonStyleModel",
      "state": {}
     },
     "9f54fc9bbf284325839180ca33fce25c": {
      "model_module": "@jupyter-widgets/base",
      "model_module_version": "1.2.0",
      "model_name": "LayoutModel",
      "state": {
       "display": "none",
       "width": "auto"
      }
     },
     "a02453e973ab4fad92118ba89d6de23c": {
      "model_module": "@jupyter-widgets/base",
      "model_module_version": "1.2.0",
      "model_name": "LayoutModel",
      "state": {
       "grid_area": "dircontent",
       "width": "auto"
      }
     },
     "a0387011be5f4a52b153112db4325b17": {
      "model_module": "@jupyter-widgets/controls",
      "model_module_version": "1.5.0",
      "model_name": "GridBoxModel",
      "state": {
       "children": [
        "IPY_MODEL_3290542cfaa846a3920858ef9f72a523",
        "IPY_MODEL_2a925b75e8d444258b6a71906c0d5b8c",
        "IPY_MODEL_4db19f6ace13425b848482a1c930196e"
       ],
       "layout": "IPY_MODEL_61db564e97bf4c79b244de7f0e146d92"
      }
     },
     "a10361b9118a4ecc9edd0572dd7d53b8": {
      "model_module": "@jupyter-widgets/controls",
      "model_module_version": "1.5.0",
      "model_name": "HBoxModel",
      "state": {
       "children": [
        "IPY_MODEL_bd909764ada7456ab30c5c8c95eaeb13",
        "IPY_MODEL_80936e5cd6c74f34a751cad084f97f1e",
        "IPY_MODEL_d4275f00a42c4a2c96b4ff958784aace"
       ],
       "layout": "IPY_MODEL_00a7c517be644d0ba2bf5963ef6664cf"
      }
     },
     "a1744f5033264447a028caad3ede2fc4": {
      "model_module": "@jupyter-widgets/controls",
      "model_module_version": "1.5.0",
      "model_name": "ButtonStyleModel",
      "state": {}
     },
     "a1776b723b0444229fdb8ce0d506d5c8": {
      "model_module": "@jupyter-widgets/controls",
      "model_module_version": "1.5.0",
      "model_name": "DescriptionStyleModel",
      "state": {
       "description_width": ""
      }
     },
     "a20c299b880e4c888d2144895840b4ee": {
      "model_module": "@jupyter-widgets/base",
      "model_module_version": "1.2.0",
      "model_name": "LayoutModel",
      "state": {
       "display": "none",
       "width": "auto"
      }
     },
     "a23c05513a49430880c8032220cfad65": {
      "model_module": "@jupyter-widgets/controls",
      "model_module_version": "1.5.0",
      "model_name": "DropdownModel",
      "state": {
       "_options_labels": [
        "/mnt/sds/sd20i001/sven/code/dynamic-cmr-models/exp/p2p/dmd/jcmr/iso2_5_32_p2p/img05_flow01_msk1/ssimssim_grad_dice/2023-06-06_12_12_931970",
        "/mnt/sds/sd20i001/sven/code/dynamic-cmr-models/exp/p2p/dmd/jcmr/iso2_5_32_p2p/img05_flow01_msk1/ssimssim_grad_dice",
        "/mnt/sds/sd20i001/sven/code/dynamic-cmr-models/exp/p2p/dmd/jcmr/iso2_5_32_p2p/img05_flow01_msk1",
        "/mnt/sds/sd20i001/sven/code/dynamic-cmr-models/exp/p2p/dmd/jcmr/iso2_5_32_p2p",
        "/mnt/sds/sd20i001/sven/code/dynamic-cmr-models/exp/p2p/dmd/jcmr",
        "/mnt/sds/sd20i001/sven/code/dynamic-cmr-models/exp/p2p/dmd",
        "/mnt/sds/sd20i001/sven/code/dynamic-cmr-models/exp/p2p",
        "/mnt/sds/sd20i001/sven/code/dynamic-cmr-models/exp",
        "/mnt/sds/sd20i001/sven/code/dynamic-cmr-models",
        "/mnt/sds/sd20i001/sven/code",
        "/mnt/sds/sd20i001/sven",
        "/mnt/sds/sd20i001",
        "/mnt/sds",
        "/mnt",
        "/"
       ],
       "index": 0,
       "layout": "IPY_MODEL_a85c7ad95afe4914aafd23790edb8659",
       "style": "IPY_MODEL_faf38b24cad44b64bb6fc90c1a408581"
      }
     },
     "a3c3c68d51ed4a21aed9ae4d0538e672": {
      "model_module": "@jupyter-widgets/controls",
      "model_module_version": "1.5.0",
      "model_name": "GridBoxModel",
      "state": {
       "children": [
        "IPY_MODEL_6a8839e6881a44f59bcdb96abf1769fd",
        "IPY_MODEL_78fe51bda40e4ccf89f8de88e29fa0e9",
        "IPY_MODEL_b590cbcd673e47089cea9ddec0a23e00"
       ],
       "layout": "IPY_MODEL_6612b121a346459b9970caea7f06751d"
      }
     },
     "a3c5906ad5f448a1a1a08b8568b02a75": {
      "model_module": "@jupyter-widgets/base",
      "model_module_version": "1.2.0",
      "model_name": "LayoutModel",
      "state": {}
     },
     "a3dab5dd3e8c4dbc857bd68685583062": {
      "model_module": "@jupyter-widgets/controls",
      "model_module_version": "1.5.0",
      "model_name": "DescriptionStyleModel",
      "state": {
       "description_width": ""
      }
     },
     "a4ba13a7e3104840a866f1609fe97378": {
      "model_module": "@jupyter-widgets/controls",
      "model_module_version": "1.5.0",
      "model_name": "ButtonModel",
      "state": {
       "description": "Cancel",
       "layout": "IPY_MODEL_11b4de5fcd804d048ae70fad00edf85b",
       "style": "IPY_MODEL_5928ba155fa549b1b9a1824b9d54de41"
      }
     },
     "a4d9757126704fcfaecf1a3437f61146": {
      "model_module": "@jupyter-widgets/base",
      "model_module_version": "1.2.0",
      "model_name": "LayoutModel",
      "state": {
       "display": "none"
      }
     },
     "a4dc74d05b104d79ad38104e44c13b2c": {
      "model_module": "@jupyter-widgets/controls",
      "model_module_version": "1.5.0",
      "model_name": "VBoxModel",
      "state": {
       "_dom_classes": [
        "widget-interact"
       ],
       "children": [
        "IPY_MODEL_f2efb76438e245fc968379a24c936fac",
        "IPY_MODEL_980f34a0195d418f8c1d2068586e1a65",
        "IPY_MODEL_a66b10f97288454eafb3ce282b7d54d0"
       ],
       "layout": "IPY_MODEL_90104ca4a4cb4eeaa3a4c453bbd0ad52"
      }
     },
     "a4f3c0b1d3a947f0a1b38c358df94621": {
      "model_module": "@jupyter-widgets/base",
      "model_module_version": "1.2.0",
      "model_name": "LayoutModel",
      "state": {
       "width": "auto"
      }
     },
     "a522f5c294f94ef085277d5c140561e8": {
      "model_module": "@jupyter-widgets/base",
      "model_module_version": "1.2.0",
      "model_name": "LayoutModel",
      "state": {}
     },
     "a55740c6dec748a9870c1e8cb59d4838": {
      "model_module": "@jupyter-widgets/base",
      "model_module_version": "1.2.0",
      "model_name": "LayoutModel",
      "state": {
       "grid_area": "pathlist",
       "width": "auto"
      }
     },
     "a595d863e09a447da0f605faa43b8d87": {
      "model_module": "@jupyter-widgets/output",
      "model_module_version": "1.0.0",
      "model_name": "OutputModel",
      "state": {
       "layout": "IPY_MODEL_2838882b9ae74d41a6c010ffd3fcdc80",
       "outputs": [
        {
         "data": {
          "text/html": "<div>\n<style scoped>\n    .dataframe tbody tr th:only-of-type {\n        vertical-align: middle;\n    }\n\n    .dataframe tbody tr th {\n        vertical-align: top;\n    }\n\n    .dataframe thead th {\n        text-align: right;\n    }\n</style>\n<table border=\"1\" class=\"dataframe\">\n  <thead>\n    <tr style=\"text-align: right;\">\n      <th></th>\n      <th>0</th>\n      <th>1</th>\n      <th>2</th>\n      <th>3</th>\n      <th>4</th>\n      <th>5</th>\n      <th>6</th>\n      <th>7</th>\n      <th>8</th>\n      <th>9</th>\n    </tr>\n  </thead>\n  <tbody>\n    <tr>\n      <th>0</th>\n      <td>1.0</td>\n      <td>1.00000</td>\n      <td>1.0</td>\n      <td>1.00000</td>\n      <td>1.0</td>\n      <td>1.00</td>\n      <td>1.00000</td>\n      <td>1.00000</td>\n      <td>1.00000</td>\n      <td>1.00000</td>\n    </tr>\n    <tr>\n      <th>1</th>\n      <td>1.0</td>\n      <td>1.00000</td>\n      <td>1.0</td>\n      <td>1.00000</td>\n      <td>1.0</td>\n      <td>1.00</td>\n      <td>1.00000</td>\n      <td>1.00000</td>\n      <td>1.00000</td>\n      <td>0.10804</td>\n    </tr>\n    <tr>\n      <th>2</th>\n      <td>1.0</td>\n      <td>1.00000</td>\n      <td>1.0</td>\n      <td>1.00000</td>\n      <td>1.0</td>\n      <td>1.00</td>\n      <td>1.00000</td>\n      <td>1.00000</td>\n      <td>1.00000</td>\n      <td>1.00000</td>\n    </tr>\n    <tr>\n      <th>3</th>\n      <td>1.0</td>\n      <td>1.00000</td>\n      <td>1.0</td>\n      <td>1.00000</td>\n      <td>1.0</td>\n      <td>1.00</td>\n      <td>1.00000</td>\n      <td>1.00000</td>\n      <td>1.00000</td>\n      <td>1.00000</td>\n    </tr>\n    <tr>\n      <th>4</th>\n      <td>1.0</td>\n      <td>0.43229</td>\n      <td>1.0</td>\n      <td>0.07950</td>\n      <td>1.0</td>\n      <td>1.00</td>\n      <td>0.00942</td>\n      <td>0.00000</td>\n      <td>0.06191</td>\n      <td>0.02156</td>\n    </tr>\n    <tr>\n      <th>5</th>\n      <td>1.0</td>\n      <td>1.00000</td>\n      <td>1.0</td>\n      <td>1.00000</td>\n      <td>1.0</td>\n      <td>1.00</td>\n      <td>0.04712</td>\n      <td>0.34080</td>\n      <td>0.09834</td>\n      <td>1.00000</td>\n    </tr>\n    <tr>\n      <th>6</th>\n      <td>1.0</td>\n      <td>1.00000</td>\n      <td>1.0</td>\n      <td>1.00000</td>\n      <td>1.0</td>\n      <td>0.68</td>\n      <td>0.60006</td>\n      <td>0.19551</td>\n      <td>1.00000</td>\n      <td>0.36960</td>\n    </tr>\n    <tr>\n      <th>7</th>\n      <td>1.0</td>\n      <td>1.00000</td>\n      <td>1.0</td>\n      <td>1.00000</td>\n      <td>1.0</td>\n      <td>1.00</td>\n      <td>1.00000</td>\n      <td>1.00000</td>\n      <td>1.00000</td>\n      <td>0.03213</td>\n    </tr>\n    <tr>\n      <th>8</th>\n      <td>1.0</td>\n      <td>1.00000</td>\n      <td>1.0</td>\n      <td>0.32604</td>\n      <td>1.0</td>\n      <td>1.00</td>\n      <td>1.00000</td>\n      <td>1.00000</td>\n      <td>1.00000</td>\n      <td>0.70335</td>\n    </tr>\n    <tr>\n      <th>9</th>\n      <td>1.0</td>\n      <td>1.00000</td>\n      <td>1.0</td>\n      <td>1.00000</td>\n      <td>1.0</td>\n      <td>1.00</td>\n      <td>1.00000</td>\n      <td>1.00000</td>\n      <td>1.00000</td>\n      <td>1.00000</td>\n    </tr>\n    <tr>\n      <th>10</th>\n      <td>1.0</td>\n      <td>0.71824</td>\n      <td>1.0</td>\n      <td>0.34122</td>\n      <td>1.0</td>\n      <td>1.00</td>\n      <td>0.01860</td>\n      <td>0.00159</td>\n      <td>0.00316</td>\n      <td>0.29290</td>\n    </tr>\n    <tr>\n      <th>11</th>\n      <td>1.0</td>\n      <td>1.00000</td>\n      <td>1.0</td>\n      <td>1.00000</td>\n      <td>1.0</td>\n      <td>1.00</td>\n      <td>0.55476</td>\n      <td>0.28032</td>\n      <td>1.00000</td>\n      <td>1.00000</td>\n    </tr>\n    <tr>\n      <th>12</th>\n      <td>1.0</td>\n      <td>1.00000</td>\n      <td>1.0</td>\n      <td>1.00000</td>\n      <td>1.0</td>\n      <td>1.00</td>\n      <td>1.00000</td>\n      <td>1.00000</td>\n      <td>1.00000</td>\n      <td>1.00000</td>\n    </tr>\n    <tr>\n      <th>13</th>\n      <td>1.0</td>\n      <td>1.00000</td>\n      <td>1.0</td>\n      <td>1.00000</td>\n      <td>1.0</td>\n      <td>1.00</td>\n      <td>1.00000</td>\n      <td>1.00000</td>\n      <td>1.00000</td>\n      <td>1.00000</td>\n    </tr>\n    <tr>\n      <th>14</th>\n      <td>1.0</td>\n      <td>1.00000</td>\n      <td>1.0</td>\n      <td>1.00000</td>\n      <td>1.0</td>\n      <td>1.00</td>\n      <td>1.00000</td>\n      <td>0.01560</td>\n      <td>1.00000</td>\n      <td>1.00000</td>\n    </tr>\n    <tr>\n      <th>15</th>\n      <td>1.0</td>\n      <td>1.00000</td>\n      <td>1.0</td>\n      <td>1.00000</td>\n      <td>1.0</td>\n      <td>1.00</td>\n      <td>1.00000</td>\n      <td>0.30672</td>\n      <td>1.00000</td>\n      <td>1.00000</td>\n    </tr>\n  </tbody>\n</table>\n</div>",
          "text/plain": "      0        1    2        3    4     5        6        7        8        9\n0   1.0  1.00000  1.0  1.00000  1.0  1.00  1.00000  1.00000  1.00000  1.00000\n1   1.0  1.00000  1.0  1.00000  1.0  1.00  1.00000  1.00000  1.00000  0.10804\n2   1.0  1.00000  1.0  1.00000  1.0  1.00  1.00000  1.00000  1.00000  1.00000\n3   1.0  1.00000  1.0  1.00000  1.0  1.00  1.00000  1.00000  1.00000  1.00000\n4   1.0  0.43229  1.0  0.07950  1.0  1.00  0.00942  0.00000  0.06191  0.02156\n5   1.0  1.00000  1.0  1.00000  1.0  1.00  0.04712  0.34080  0.09834  1.00000\n6   1.0  1.00000  1.0  1.00000  1.0  0.68  0.60006  0.19551  1.00000  0.36960\n7   1.0  1.00000  1.0  1.00000  1.0  1.00  1.00000  1.00000  1.00000  0.03213\n8   1.0  1.00000  1.0  0.32604  1.0  1.00  1.00000  1.00000  1.00000  0.70335\n9   1.0  1.00000  1.0  1.00000  1.0  1.00  1.00000  1.00000  1.00000  1.00000\n10  1.0  0.71824  1.0  0.34122  1.0  1.00  0.01860  0.00159  0.00316  0.29290\n11  1.0  1.00000  1.0  1.00000  1.0  1.00  0.55476  0.28032  1.00000  1.00000\n12  1.0  1.00000  1.0  1.00000  1.0  1.00  1.00000  1.00000  1.00000  1.00000\n13  1.0  1.00000  1.0  1.00000  1.0  1.00  1.00000  1.00000  1.00000  1.00000\n14  1.0  1.00000  1.0  1.00000  1.0  1.00  1.00000  0.01560  1.00000  1.00000\n15  1.0  1.00000  1.0  1.00000  1.0  1.00  1.00000  0.30672  1.00000  1.00000"
         },
         "metadata": {},
         "output_type": "display_data"
        }
       ]
      }
     },
     "a5a2a895d9e147939f7421e5cabde321": {
      "model_module": "@jupyter-widgets/base",
      "model_module_version": "1.2.0",
      "model_name": "LayoutModel",
      "state": {
       "grid_area": "filename",
       "width": "auto"
      }
     },
     "a60466005f684517be76f7306bd9b349": {
      "model_module": "@jupyter-widgets/controls",
      "model_module_version": "1.5.0",
      "model_name": "DescriptionStyleModel",
      "state": {
       "description_width": ""
      }
     },
     "a66b10f97288454eafb3ce282b7d54d0": {
      "model_module": "@jupyter-widgets/output",
      "model_module_version": "1.0.0",
      "model_name": "OutputModel",
      "state": {
       "layout": "IPY_MODEL_3c5339da6d4a4a1d94c997d9e097a1ec",
       "outputs": [
        {
         "name": "stdout",
         "output_type": "stream",
         "text": "(11040, 7)\n"
        },
        {
         "ename": "AssertionError",
         "evalue": "y cannot be an empty list or array.",
         "output_type": "error",
         "traceback": [
          "\u001b[0;31m---------------------------------------------------------------------------\u001b[0m",
          "\u001b[0;31mAssertionError\u001b[0m                            Traceback (most recent call last)",
          "File \u001b[0;32m~/anaconda3/envs/dcmr/lib/python3.8/site-packages/ipywidgets/widgets/interaction.py:256\u001b[0m, in \u001b[0;36minteractive.update\u001b[0;34m(self, *args)\u001b[0m\n\u001b[1;32m    254\u001b[0m     value \u001b[38;5;241m=\u001b[39m widget\u001b[38;5;241m.\u001b[39mget_interact_value()\n\u001b[1;32m    255\u001b[0m     \u001b[38;5;28mself\u001b[39m\u001b[38;5;241m.\u001b[39mkwargs[widget\u001b[38;5;241m.\u001b[39m_kwarg] \u001b[38;5;241m=\u001b[39m value\n\u001b[0;32m--> 256\u001b[0m \u001b[38;5;28mself\u001b[39m\u001b[38;5;241m.\u001b[39mresult \u001b[38;5;241m=\u001b[39m \u001b[38;5;28;43mself\u001b[39;49m\u001b[38;5;241;43m.\u001b[39;49m\u001b[43mf\u001b[49m\u001b[43m(\u001b[49m\u001b[38;5;241;43m*\u001b[39;49m\u001b[38;5;241;43m*\u001b[39;49m\u001b[38;5;28;43mself\u001b[39;49m\u001b[38;5;241;43m.\u001b[39;49m\u001b[43mkwargs\u001b[49m\u001b[43m)\u001b[49m\n\u001b[1;32m    257\u001b[0m show_inline_matplotlib_plots()\n\u001b[1;32m    258\u001b[0m \u001b[38;5;28;01mif\u001b[39;00m \u001b[38;5;28mself\u001b[39m\u001b[38;5;241m.\u001b[39mauto_display \u001b[38;5;129;01mand\u001b[39;00m \u001b[38;5;28mself\u001b[39m\u001b[38;5;241m.\u001b[39mresult \u001b[38;5;129;01mis\u001b[39;00m \u001b[38;5;129;01mnot\u001b[39;00m \u001b[38;5;28;01mNone\u001b[39;00m:\n",
          "Input \u001b[0;32mIn [36]\u001b[0m, in \u001b[0;36mget_segmental_correlations\u001b[0;34m(alpha0)\u001b[0m\n\u001b[1;32m     13\u001b[0m path_to_our_dmd \u001b[38;5;241m=\u001b[39m path_chooser\u001b[38;5;241m.\u001b[39mselected\n\u001b[1;32m     14\u001b[0m df_DMD \u001b[38;5;241m=\u001b[39m pd\u001b[38;5;241m.\u001b[39mread_csv(path_to_our_dmd)\n\u001b[0;32m---> 15\u001b[0m df_pvals_uncorrected \u001b[38;5;241m=\u001b[39m \u001b[43mget_pvals_uncorrected\u001b[49m\u001b[43m(\u001b[49m\u001b[43mdf_DMD\u001b[49m\u001b[43m)\u001b[49m\n\u001b[1;32m     16\u001b[0m \u001b[38;5;28mprint\u001b[39m(df_pvals_uncorrected\u001b[38;5;241m.\u001b[39mshape)\n\u001b[1;32m     17\u001b[0m msk_ss, df_pvals_corrected \u001b[38;5;241m=\u001b[39m get_pvals_corrected(df_pvals_uncorrected, alpha0\u001b[38;5;241m=\u001b[39malpha0)\n",
          "File \u001b[0;32m/mnt/ssd/git/dynamic-cmr-models/src/utils/Evaluation.py:94\u001b[0m, in \u001b[0;36mget_pvals_uncorrected\u001b[0;34m(df_DMD, target, paired)\u001b[0m\n\u001b[1;32m     92\u001b[0m             results_pvalues[aha \u001b[38;5;241m-\u001b[39m \u001b[38;5;241m1\u001b[39m, i] \u001b[38;5;241m=\u001b[39m pvalue_error\n\u001b[1;32m     93\u001b[0m         \u001b[38;5;28;01melse\u001b[39;00m:\n\u001b[0;32m---> 94\u001b[0m             res \u001b[38;5;241m=\u001b[39m \u001b[43mpg\u001b[49m\u001b[38;5;241;43m.\u001b[39;49m\u001b[43mttest\u001b[49m\u001b[43m(\u001b[49m\u001b[43mlisting_a\u001b[49m\u001b[43m[\u001b[49m\u001b[43mi\u001b[49m\u001b[43m]\u001b[49m\u001b[43m,\u001b[49m\u001b[43m \u001b[49m\u001b[43mlisting_b\u001b[49m\u001b[43m[\u001b[49m\u001b[43mi\u001b[49m\u001b[43m]\u001b[49m\u001b[43m,\u001b[49m\u001b[43m \u001b[49m\u001b[43mpaired\u001b[49m\u001b[38;5;241;43m=\u001b[39;49m\u001b[43mpaired\u001b[49m\u001b[43m)\u001b[49m\n\u001b[1;32m     95\u001b[0m             results_pvalues[aha \u001b[38;5;241m-\u001b[39m \u001b[38;5;241m1\u001b[39m, i] \u001b[38;5;241m=\u001b[39m \u001b[38;5;28mfloat\u001b[39m(res[\u001b[38;5;124m'\u001b[39m\u001b[38;5;124mp-val\u001b[39m\u001b[38;5;124m'\u001b[39m][\u001b[38;5;241m0\u001b[39m])\n\u001b[1;32m     97\u001b[0m \u001b[38;5;66;03m# rounding\u001b[39;00m\n",
          "File \u001b[0;32m~/anaconda3/envs/dcmr/lib/python3.8/site-packages/pingouin/parametric.py:232\u001b[0m, in \u001b[0;36mttest\u001b[0;34m(x, y, paired, alternative, correction, r, confidence)\u001b[0m\n\u001b[1;32m    229\u001b[0m     paired \u001b[38;5;241m=\u001b[39m \u001b[38;5;28;01mFalse\u001b[39;00m\n\u001b[1;32m    231\u001b[0m \u001b[38;5;66;03m# Remove rows with missing values\u001b[39;00m\n\u001b[0;32m--> 232\u001b[0m x, y \u001b[38;5;241m=\u001b[39m \u001b[43mremove_na\u001b[49m\u001b[43m(\u001b[49m\u001b[43mx\u001b[49m\u001b[43m,\u001b[49m\u001b[43m \u001b[49m\u001b[43my\u001b[49m\u001b[43m,\u001b[49m\u001b[43m \u001b[49m\u001b[43mpaired\u001b[49m\u001b[38;5;241;43m=\u001b[39;49m\u001b[43mpaired\u001b[49m\u001b[43m)\u001b[49m\n\u001b[1;32m    233\u001b[0m nx, ny \u001b[38;5;241m=\u001b[39m x\u001b[38;5;241m.\u001b[39msize, y\u001b[38;5;241m.\u001b[39msize\n\u001b[1;32m    235\u001b[0m \u001b[38;5;28;01mif\u001b[39;00m ny \u001b[38;5;241m==\u001b[39m \u001b[38;5;241m1\u001b[39m:\n\u001b[1;32m    236\u001b[0m     \u001b[38;5;66;03m# Case one sample T-test\u001b[39;00m\n",
          "File \u001b[0;32m~/anaconda3/envs/dcmr/lib/python3.8/site-packages/pingouin/utils.py:236\u001b[0m, in \u001b[0;36mremove_na\u001b[0;34m(x, y, paired, axis)\u001b[0m\n\u001b[1;32m    234\u001b[0m \u001b[38;5;28;01melse\u001b[39;00m:  \u001b[38;5;66;03m# y is list, np.array, pd.Series\u001b[39;00m\n\u001b[1;32m    235\u001b[0m     y \u001b[38;5;241m=\u001b[39m np\u001b[38;5;241m.\u001b[39masarray(y)\n\u001b[0;32m--> 236\u001b[0m     \u001b[38;5;28;01massert\u001b[39;00m y\u001b[38;5;241m.\u001b[39msize \u001b[38;5;241m!=\u001b[39m \u001b[38;5;241m0\u001b[39m, \u001b[38;5;124m\"\u001b[39m\u001b[38;5;124my cannot be an empty list or array.\u001b[39m\u001b[38;5;124m\"\u001b[39m\n\u001b[1;32m    237\u001b[0m     \u001b[38;5;66;03m# Make sure that we just pass-through if y have only 1 element\u001b[39;00m\n\u001b[1;32m    238\u001b[0m     \u001b[38;5;28;01mif\u001b[39;00m y\u001b[38;5;241m.\u001b[39msize \u001b[38;5;241m==\u001b[39m \u001b[38;5;241m1\u001b[39m:\n",
          "\u001b[0;31mAssertionError\u001b[0m: y cannot be an empty list or array."
         ]
        }
       ]
      }
     },
     "a71e0840948b475fa7b996647850cff7": {
      "model_module": "@jupyter-widgets/controls",
      "model_module_version": "1.5.0",
      "model_name": "HTMLModel",
      "state": {
       "layout": "IPY_MODEL_411733ad7aa543d9aec9e22cd12378c3",
       "style": "IPY_MODEL_a81a13b814064a859ea889982fb2c2c0"
      }
     },
     "a77c2bca869d4a919e3269f69d54a81a": {
      "model_module": "@jupyter-widgets/base",
      "model_module_version": "1.2.0",
      "model_name": "LayoutModel",
      "state": {
       "display": "none"
      }
     },
     "a81a13b814064a859ea889982fb2c2c0": {
      "model_module": "@jupyter-widgets/controls",
      "model_module_version": "1.5.0",
      "model_name": "DescriptionStyleModel",
      "state": {
       "description_width": ""
      }
     },
     "a85c7ad95afe4914aafd23790edb8659": {
      "model_module": "@jupyter-widgets/base",
      "model_module_version": "1.2.0",
      "model_name": "LayoutModel",
      "state": {
       "grid_area": "pathlist",
       "width": "auto"
      }
     },
     "a8eb5741399348969501911e0000dd19": {
      "model_module": "@jupyter-widgets/controls",
      "model_module_version": "1.5.0",
      "model_name": "ButtonStyleModel",
      "state": {}
     },
     "a98cd28d8eba48389d6d33a5bd0f8dad": {
      "model_module": "@jupyter-widgets/controls",
      "model_module_version": "1.5.0",
      "model_name": "HTMLModel",
      "state": {
       "layout": "IPY_MODEL_24ca5882a10b4e80965bb3f3d140947d",
       "placeholder": "",
       "style": "IPY_MODEL_173c6d5721d84e8d8b1fa55c32b2bc9f",
       "value": "<span style=\"margin-left:10px; color:green;\">/mnt/sds/sd20i001/sven/code/dynamic-cmr-models/exp/p2p/dmd/jcmr/iso2_5_32_p2p/img05_flow01_msk1/ssimssim_grad_dice/2023-06-06_12_12_931970/</span>"
      }
     },
     "a9ad241847ef42b4be9c5c72b34a52d4": {
      "model_module": "@jupyter-widgets/controls",
      "model_module_version": "1.5.0",
      "model_name": "VBoxModel",
      "state": {
       "_dom_classes": [
        "widget-interact"
       ],
       "children": [
        "IPY_MODEL_11d0b6983a4748199fea437923223d86",
        "IPY_MODEL_4a396030fa214276889f8a78e6c6be1e",
        "IPY_MODEL_158f71169d444e54a1f20aa8ace2efc9"
       ],
       "layout": "IPY_MODEL_0b9f1008eac34e3993a87981a65de73f"
      }
     },
     "a9b0d384c1b946c183abe610319a1ab4": {
      "model_module": "@jupyter-widgets/controls",
      "model_module_version": "1.5.0",
      "model_name": "ButtonStyleModel",
      "state": {}
     },
     "aa1f6e9477da40ebb80ea7bac1ccae90": {
      "model_module": "@jupyter-widgets/controls",
      "model_module_version": "1.5.0",
      "model_name": "DescriptionStyleModel",
      "state": {
       "description_width": ""
      }
     },
     "aa5d1189b2394b45b455038f5f53a22f": {
      "model_module": "@jupyter-widgets/controls",
      "model_module_version": "1.5.0",
      "model_name": "TextModel",
      "state": {
       "layout": "IPY_MODEL_054a702ed4a940ec9d9e5a0b515de797",
       "placeholder": "output filename",
       "style": "IPY_MODEL_7bcb1921520b45fbb9b0334ed9b7f812",
       "value": "df_DMD_time_p2p.csv"
      }
     },
     "aae284fa365a42e7b6031050c21fd532": {
      "model_module": "@jupyter-widgets/controls",
      "model_module_version": "1.5.0",
      "model_name": "ButtonModel",
      "state": {
       "description": "Select",
       "layout": "IPY_MODEL_4b53451cfea54ab3ad71ca2e3e8680d2",
       "style": "IPY_MODEL_a8eb5741399348969501911e0000dd19"
      }
     },
     "aaeddbad56114b09a39db5b1687917ed": {
      "model_module": "@jupyter-widgets/controls",
      "model_module_version": "1.5.0",
      "model_name": "SelectModel",
      "state": {
       "_options_labels": [
        "..",
        "f0",
        "f1",
        "f2",
        "f3",
        "gt_m",
        "pred",
        "pred_m",
        "Log_errors.log",
        "df_DMD_time_ed2p.csv",
        "df_DMD_time_p2p.csv",
        "model.png",
        "model_summary.txt"
       ],
       "index": 10,
       "layout": "IPY_MODEL_76448735561b4cb3ab2cb88118a198e5",
       "rows": 8,
       "style": "IPY_MODEL_bdbfb2e72dbc48eb8956c22922319b46"
      }
     },
     "ab99825919a34046bdca76f1e4c70f72": {
      "model_module": "@jupyter-widgets/controls",
      "model_module_version": "1.5.0",
      "model_name": "GridBoxModel",
      "state": {
       "children": [
        "IPY_MODEL_a23c05513a49430880c8032220cfad65",
        "IPY_MODEL_1100e8f4eb4b492eb5c3bc33450b397d",
        "IPY_MODEL_62902aa6120f483c9bd179085edcc4aa"
       ],
       "layout": "IPY_MODEL_17616c69d48f43ce868862a2998ca3b7"
      }
     },
     "ac99fea9a9594bf0bb41b35b3d9e2cd6": {
      "model_module": "@jupyter-widgets/controls",
      "model_module_version": "1.5.0",
      "model_name": "VBoxModel",
      "state": {
       "children": [
        "IPY_MODEL_e3b7de503e134e00a5b2c1201c257234",
        "IPY_MODEL_20c9c1a086434461ba57a67a3ef548da",
        "IPY_MODEL_453216acaf4e4a588677372581d265cd"
       ],
       "layout": "IPY_MODEL_3b8c2c1edb7642bb8c9006d703d2b9b0"
      }
     },
     "acaef4b1f4a74cdaa743c4711d0325ca": {
      "model_module": "@jupyter-widgets/controls",
      "model_module_version": "1.5.0",
      "model_name": "DropdownModel",
      "state": {
       "_options_labels": [
        "/mnt/sds/sd20i001/sven/code/dynamic-cmr-models/exp/p2p/dmd/jcmr/iso2_5_32_p2p/img05_flow01_msk1/ssimssim_grad_dice/2023-06-06_12_12_931970",
        "/mnt/sds/sd20i001/sven/code/dynamic-cmr-models/exp/p2p/dmd/jcmr/iso2_5_32_p2p/img05_flow01_msk1/ssimssim_grad_dice",
        "/mnt/sds/sd20i001/sven/code/dynamic-cmr-models/exp/p2p/dmd/jcmr/iso2_5_32_p2p/img05_flow01_msk1",
        "/mnt/sds/sd20i001/sven/code/dynamic-cmr-models/exp/p2p/dmd/jcmr/iso2_5_32_p2p",
        "/mnt/sds/sd20i001/sven/code/dynamic-cmr-models/exp/p2p/dmd/jcmr",
        "/mnt/sds/sd20i001/sven/code/dynamic-cmr-models/exp/p2p/dmd",
        "/mnt/sds/sd20i001/sven/code/dynamic-cmr-models/exp/p2p",
        "/mnt/sds/sd20i001/sven/code/dynamic-cmr-models/exp",
        "/mnt/sds/sd20i001/sven/code/dynamic-cmr-models",
        "/mnt/sds/sd20i001/sven/code",
        "/mnt/sds/sd20i001/sven",
        "/mnt/sds/sd20i001",
        "/mnt/sds",
        "/mnt",
        "/"
       ],
       "index": 0,
       "layout": "IPY_MODEL_ecbef5e2aa954970bcd1403f7b37fe51",
       "style": "IPY_MODEL_ebbd70d3001c4a889c788d912e541de7"
      }
     },
     "ae6c4b93a2fd4db5942f5d784d76edf3": {
      "model_module": "@jupyter-widgets/controls",
      "model_module_version": "1.5.0",
      "model_name": "TextModel",
      "state": {
       "layout": "IPY_MODEL_a5a2a895d9e147939f7421e5cabde321",
       "placeholder": "output filename",
       "style": "IPY_MODEL_142f28630f8d4696904d2bc13c721c5d",
       "value": "df_DMD_time_ed2p.csv"
      }
     },
     "aebc1181a7bc4f38bb8c40bdcd0b3b86": {
      "model_module": "@jupyter-widgets/controls",
      "model_module_version": "1.5.0",
      "model_name": "GridBoxModel",
      "state": {
       "children": [
        "IPY_MODEL_24dc87c517804415a7e08a05bea1b6d4",
        "IPY_MODEL_0e62e71179ab42bfa16ed3b957843a98",
        "IPY_MODEL_dec9ee3469564a4fb79bf710ffdb8197"
       ],
       "layout": "IPY_MODEL_bd83e52517804ddc8a775ab243dae902"
      }
     },
     "af35278ee74b4e43bfb93fb124d3708c": {
      "model_module": "@jupyter-widgets/controls",
      "model_module_version": "1.5.0",
      "model_name": "ButtonModel",
      "state": {
       "description": "Change",
       "layout": "IPY_MODEL_bc9cdf3d9e6942238c45d90bc61e18fb",
       "style": "IPY_MODEL_ffe9594b9f4944acaf14d6ab6fe99e18"
      }
     },
     "af5ce949bfb1481eae6daacb0d2d3bae": {
      "model_module": "@jupyter-widgets/controls",
      "model_module_version": "1.5.0",
      "model_name": "ButtonStyleModel",
      "state": {}
     },
     "af83d9fafdd941de87257bdc27c7e08d": {
      "model_module": "@jupyter-widgets/controls",
      "model_module_version": "1.5.0",
      "model_name": "ButtonStyleModel",
      "state": {}
     },
     "af85a94b67a440a9abd5fa59206badc9": {
      "model_module": "@jupyter-widgets/base",
      "model_module_version": "1.2.0",
      "model_name": "LayoutModel",
      "state": {
       "grid_area": "filename",
       "width": "auto"
      }
     },
     "af91b5677b864f9b81efaff98d6318b5": {
      "model_module": "@jupyter-widgets/controls",
      "model_module_version": "1.5.0",
      "model_name": "HTMLModel",
      "state": {
       "layout": "IPY_MODEL_4363b94da25b47dda0055bd55c62e214",
       "placeholder": "",
       "style": "IPY_MODEL_4bf54fec4d2a45a58dcf629cac5878a3",
       "value": "<span style=\"margin-left:10px; color:orange;\">/mnt/sds/sd20i001/sven/code/dynamic-cmr-models/exp/p2p/dmd/jcmr/iso2_5_32_p2p/img05_flow01_msk1/ssimssim_grad_dice/2023-06-06_12_12_931970/df_DMD_time_ed2p.csv</span>"
      }
     },
     "b0ec6e75b0dd4e028b050d2318e390a2": {
      "model_module": "@jupyter-widgets/base",
      "model_module_version": "1.2.0",
      "model_name": "LayoutModel",
      "state": {
       "width": "auto"
      }
     },
     "b119a99969574d7b9f451fc3ad2772e2": {
      "model_module": "@jupyter-widgets/base",
      "model_module_version": "1.2.0",
      "model_name": "LayoutModel",
      "state": {
       "display": "none",
       "width": "auto"
      }
     },
     "b28bf09a4b5f4bbd9bdba0da81d10ace": {
      "model_module": "@jupyter-widgets/controls",
      "model_module_version": "1.5.0",
      "model_name": "ButtonModel",
      "state": {
       "description": "Cancel",
       "layout": "IPY_MODEL_b119a99969574d7b9f451fc3ad2772e2",
       "style": "IPY_MODEL_34c38a699e0a41778e2965d5dffa6107"
      }
     },
     "b3333b659c244a6ab94fdfa206478f0b": {
      "model_module": "@jupyter-widgets/controls",
      "model_module_version": "1.5.0",
      "model_name": "ButtonStyleModel",
      "state": {}
     },
     "b590cbcd673e47089cea9ddec0a23e00": {
      "model_module": "@jupyter-widgets/controls",
      "model_module_version": "1.5.0",
      "model_name": "SelectModel",
      "state": {
       "_options_labels": [
        "..",
        "2023-05-31_15_52_920901",
        "2023-06-06_12_12_931970"
       ],
       "index": null,
       "layout": "IPY_MODEL_d3cd87e11a4648609d7d9fcd34150445",
       "rows": 8,
       "style": "IPY_MODEL_6fa5be15339c48ca8f310e5a3b4f6220"
      }
     },
     "b66b3af6219943f8a833cdc12dbdcaad": {
      "model_module": "@jupyter-widgets/controls",
      "model_module_version": "1.5.0",
      "model_name": "ButtonModel",
      "state": {
       "description": "Run Interact",
       "layout": "IPY_MODEL_76fd27bec6b84880991a2bfaa5bef60c",
       "style": "IPY_MODEL_5f0749e905bd4c159633dcc6d3f4bcdb"
      }
     },
     "b68d655460dd4b239a262c7e28378b24": {
      "model_module": "@jupyter-widgets/controls",
      "model_module_version": "1.5.0",
      "model_name": "SelectModel",
      "state": {
       "_options_labels": [
        "..",
        "f0",
        "f1",
        "f2",
        "f3",
        "gt_m",
        "pred",
        "pred_m",
        "Log_errors.log",
        "df_DMD_time_ed2p.csv",
        "df_DMD_time_p2p.csv",
        "model.png",
        "model_summary.txt"
       ],
       "index": 10,
       "layout": "IPY_MODEL_a02453e973ab4fad92118ba89d6de23c",
       "rows": 8,
       "style": "IPY_MODEL_de675e69a5734b2c8b218606520e39b5"
      }
     },
     "b6ff157c23fc4e4f9bc043b2e250decf": {
      "model_module": "@jupyter-widgets/base",
      "model_module_version": "1.2.0",
      "model_name": "LayoutModel",
      "state": {
       "grid_area": "pathlist",
       "width": "auto"
      }
     },
     "b762984ec2c74b5abd05c73f90f7ceae": {
      "model_module": "@jupyter-widgets/base",
      "model_module_version": "1.2.0",
      "model_name": "LayoutModel",
      "state": {
       "display": "none",
       "width": "auto"
      }
     },
     "b7a1e4b1039f4586b63e95671e5c20cf": {
      "model_module": "@jupyter-widgets/output",
      "model_module_version": "1.0.0",
      "model_name": "OutputModel",
      "state": {
       "layout": "IPY_MODEL_5146505c754048b19768a4cc8cab0db0"
      }
     },
     "b8e40fb7aac84ce2be25d8f7f78d0b4d": {
      "model_module": "@jupyter-widgets/controls",
      "model_module_version": "1.5.0",
      "model_name": "HTMLModel",
      "state": {
       "layout": "IPY_MODEL_2126262e88de46fdb533e8df6ad82cbb",
       "placeholder": "",
       "style": "IPY_MODEL_aa1f6e9477da40ebb80ea7bac1ccae90",
       "value": "<span style=\"margin-left:10px; color:orange;\">/mnt/sds/sd20i001/sven/code/dynamic-cmr-models/exp/p2p/dmd/jcmr/iso2_5_32_p2p/img05_flow01_msk1/ssimssim_grad_dice/2023-06-06_12_12_931970/df_DMD_time_p2p.csv</span>"
      }
     },
     "b915b09fee8a46669639de053ac1aac8": {
      "model_module": "@jupyter-widgets/base",
      "model_module_version": "1.2.0",
      "model_name": "LayoutModel",
      "state": {
       "grid_area": "filename",
       "width": "auto"
      }
     },
     "b9659e402e50403e90ce355290cd2228": {
      "model_module": "@jupyter-widgets/controls",
      "model_module_version": "1.5.0",
      "model_name": "HTMLModel",
      "state": {
       "layout": "IPY_MODEL_c411536d2c214c26aa64c59163383144",
       "style": "IPY_MODEL_c85b230947964830922e41228815f526"
      }
     },
     "b9c31266ede2402895b566b41ede89e1": {
      "model_module": "@jupyter-widgets/base",
      "model_module_version": "1.2.0",
      "model_name": "LayoutModel",
      "state": {
       "grid_area": "filename",
       "width": "auto"
      }
     },
     "ba371665a3b14c2291f83ad09482ae2b": {
      "model_module": "@jupyter-widgets/controls",
      "model_module_version": "1.5.0",
      "model_name": "HTMLModel",
      "state": {
       "layout": "IPY_MODEL_e0444f6338c94547a0f4df498117c3b4",
       "style": "IPY_MODEL_006a13ba3fc04834ad9eaec5bd0f7576"
      }
     },
     "ba51393a9c0c40f99e31d7878b046e49": {
      "model_module": "@jupyter-widgets/base",
      "model_module_version": "1.2.0",
      "model_name": "LayoutModel",
      "state": {
       "display": "none",
       "width": "auto"
      }
     },
     "bbc1b53d4abd453e833f55404ae17708": {
      "model_module": "@jupyter-widgets/controls",
      "model_module_version": "1.5.0",
      "model_name": "TextModel",
      "state": {
       "layout": "IPY_MODEL_c20e28423e294ba3851f9fe1df7b8570",
       "placeholder": "output filename",
       "style": "IPY_MODEL_a1776b723b0444229fdb8ce0d506d5c8",
       "value": "df_DMD_time_p2p.csv"
      }
     },
     "bc313451b9564b75820f89d671b57009": {
      "model_module": "@jupyter-widgets/controls",
      "model_module_version": "1.5.0",
      "model_name": "ButtonStyleModel",
      "state": {}
     },
     "bc9cdf3d9e6942238c45d90bc61e18fb": {
      "model_module": "@jupyter-widgets/base",
      "model_module_version": "1.2.0",
      "model_name": "LayoutModel",
      "state": {
       "width": "auto"
      }
     },
     "bca77d8bc71249948955830d6f970d62": {
      "model_module": "@jupyter-widgets/controls",
      "model_module_version": "1.5.0",
      "model_name": "ButtonStyleModel",
      "state": {}
     },
     "bcb51d35219f4ceba29ad4d5b195ab09": {
      "model_module": "@jupyter-widgets/controls",
      "model_module_version": "1.5.0",
      "model_name": "TextModel",
      "state": {
       "description": "alpha0",
       "layout": "IPY_MODEL_ffbe5452eed942a193c2e951ee14f0de",
       "style": "IPY_MODEL_cdfde4bd0a8a4b25a30f7780b0acb39c",
       "value": "0.05"
      }
     },
     "bcc0976b6ade4328b08502b23e85eaea": {
      "model_module": "@jupyter-widgets/base",
      "model_module_version": "1.2.0",
      "model_name": "LayoutModel",
      "state": {}
     },
     "bcca51d9044f4b209395c31c592a9aaa": {
      "model_module": "@jupyter-widgets/controls",
      "model_module_version": "1.5.0",
      "model_name": "ButtonModel",
      "state": {
       "description": "Run Interact",
       "layout": "IPY_MODEL_540978f3134e463d80a6db6024d4460a",
       "style": "IPY_MODEL_4c25ef322848465e80c02fcbf7c3361d"
      }
     },
     "bd1bf6380e2241a689c2e490f711ab58": {
      "model_module": "@jupyter-widgets/controls",
      "model_module_version": "1.5.0",
      "model_name": "DescriptionStyleModel",
      "state": {
       "description_width": ""
      }
     },
     "bd7dcc826e474d66b29072be3289f03d": {
      "model_module": "@jupyter-widgets/controls",
      "model_module_version": "1.5.0",
      "model_name": "HTMLModel",
      "state": {
       "layout": "IPY_MODEL_2a992bb458664a0ab0486f8eb800ec9c",
       "style": "IPY_MODEL_a60466005f684517be76f7306bd9b349"
      }
     },
     "bd83e52517804ddc8a775ab243dae902": {
      "model_module": "@jupyter-widgets/base",
      "model_module_version": "1.2.0",
      "model_name": "LayoutModel",
      "state": {
       "display": "none",
       "grid_gap": "0px 0px",
       "grid_template_areas": "\n                    'pathlist filename'\n                    'dircontent dircontent'\n                    ",
       "grid_template_columns": "60% 40%",
       "grid_template_rows": "auto auto",
       "width": "500px"
      }
     },
     "bd909764ada7456ab30c5c8c95eaeb13": {
      "model_module": "@jupyter-widgets/controls",
      "model_module_version": "1.5.0",
      "model_name": "ButtonModel",
      "state": {
       "description": "Change",
       "layout": "IPY_MODEL_a4f3c0b1d3a947f0a1b38c358df94621",
       "style": "IPY_MODEL_af83d9fafdd941de87257bdc27c7e08d"
      }
     },
     "bdbfb2e72dbc48eb8956c22922319b46": {
      "model_module": "@jupyter-widgets/controls",
      "model_module_version": "1.5.0",
      "model_name": "DescriptionStyleModel",
      "state": {
       "description_width": ""
      }
     },
     "be70ff5a203442a4b42488a5fe4bee3c": {
      "model_module": "@jupyter-widgets/base",
      "model_module_version": "1.2.0",
      "model_name": "LayoutModel",
      "state": {}
     },
     "bee52dc220554c80beddce8be3fe4c95": {
      "model_module": "@jupyter-widgets/controls",
      "model_module_version": "1.5.0",
      "model_name": "VBoxModel",
      "state": {
       "_dom_classes": [
        "widget-interact"
       ],
       "children": [
        "IPY_MODEL_7986be8ffbb84a37a41df25bdfdfa652",
        "IPY_MODEL_3e4a40f44b944fd1bf6846ba5830b607",
        "IPY_MODEL_b7a1e4b1039f4586b63e95671e5c20cf"
       ],
       "layout": "IPY_MODEL_7bf77d7b14c5489798eb2f75b84b5feb"
      }
     },
     "bf033df490934dcc9afbdde099fae4b3": {
      "model_module": "@jupyter-widgets/base",
      "model_module_version": "1.2.0",
      "model_name": "LayoutModel",
      "state": {}
     },
     "bf5bd6549ebf44e89a89c5fed5b2d331": {
      "model_module": "@jupyter-widgets/controls",
      "model_module_version": "1.5.0",
      "model_name": "DescriptionStyleModel",
      "state": {
       "description_width": ""
      }
     },
     "c05752d5b3a14e858b403f840bf1307f": {
      "model_module": "@jupyter-widgets/base",
      "model_module_version": "1.2.0",
      "model_name": "LayoutModel",
      "state": {
       "grid_area": "dircontent",
       "width": "auto"
      }
     },
     "c1e385bebdb64ac287502e00f969b3ed": {
      "model_module": "@jupyter-widgets/base",
      "model_module_version": "1.2.0",
      "model_name": "LayoutModel",
      "state": {}
     },
     "c20e28423e294ba3851f9fe1df7b8570": {
      "model_module": "@jupyter-widgets/base",
      "model_module_version": "1.2.0",
      "model_name": "LayoutModel",
      "state": {
       "grid_area": "filename",
       "width": "auto"
      }
     },
     "c23fd71d03084a25a5f2a2bc6b2c7bff": {
      "model_module": "@jupyter-widgets/controls",
      "model_module_version": "1.5.0",
      "model_name": "DescriptionStyleModel",
      "state": {
       "description_width": ""
      }
     },
     "c298d64623ad48b89a105216cd5cac0d": {
      "model_module": "@jupyter-widgets/controls",
      "model_module_version": "1.5.0",
      "model_name": "DescriptionStyleModel",
      "state": {
       "description_width": ""
      }
     },
     "c2c05753f7d84f6a8517e8a7af8fc4b6": {
      "model_module": "@jupyter-widgets/controls",
      "model_module_version": "1.5.0",
      "model_name": "DescriptionStyleModel",
      "state": {
       "description_width": ""
      }
     },
     "c333ebe51aab46c69cbb4dd44f744416": {
      "model_module": "@jupyter-widgets/base",
      "model_module_version": "1.2.0",
      "model_name": "LayoutModel",
      "state": {}
     },
     "c3475f97796a4780aa6defd0404bbc63": {
      "model_module": "@jupyter-widgets/base",
      "model_module_version": "1.2.0",
      "model_name": "LayoutModel",
      "state": {
       "grid_area": "pathlist",
       "width": "auto"
      }
     },
     "c4109fdf7bb849f5a0b7042f9993ede0": {
      "model_module": "@jupyter-widgets/controls",
      "model_module_version": "1.5.0",
      "model_name": "ButtonStyleModel",
      "state": {}
     },
     "c411536d2c214c26aa64c59163383144": {
      "model_module": "@jupyter-widgets/base",
      "model_module_version": "1.2.0",
      "model_name": "LayoutModel",
      "state": {
       "display": "none"
      }
     },
     "c4e8b69198214380b31438a922593f0c": {
      "model_module": "@jupyter-widgets/controls",
      "model_module_version": "1.5.0",
      "model_name": "ButtonStyleModel",
      "state": {}
     },
     "c4f326a6ac8042f3a6138c792750f9a4": {
      "model_module": "@jupyter-widgets/base",
      "model_module_version": "1.2.0",
      "model_name": "LayoutModel",
      "state": {}
     },
     "c4fb5c24817541bbbb9e5449c84d9bdd": {
      "model_module": "@jupyter-widgets/controls",
      "model_module_version": "1.5.0",
      "model_name": "HTMLModel",
      "state": {
       "layout": "IPY_MODEL_6ec7260bf63f454e8c53659057dd3afe",
       "style": "IPY_MODEL_7f21dc0686ad4e9e85f86d80f6ae9939"
      }
     },
     "c642e4210a944f9aa7535a3933b9cfdd": {
      "model_module": "@jupyter-widgets/controls",
      "model_module_version": "1.5.0",
      "model_name": "DescriptionStyleModel",
      "state": {
       "description_width": ""
      }
     },
     "c682c63ef2f649baa99875f1b7ccbfa3": {
      "model_module": "@jupyter-widgets/base",
      "model_module_version": "1.2.0",
      "model_name": "LayoutModel",
      "state": {}
     },
     "c6d32e127db84d5bb7ecf343da5e30e0": {
      "model_module": "@jupyter-widgets/controls",
      "model_module_version": "1.5.0",
      "model_name": "DescriptionStyleModel",
      "state": {
       "description_width": ""
      }
     },
     "c76edfb5c295455a90d611dd3423a885": {
      "model_module": "@jupyter-widgets/base",
      "model_module_version": "1.2.0",
      "model_name": "LayoutModel",
      "state": {
       "width": "auto"
      }
     },
     "c7bdaf9ea84642fba177e19ad7bd0035": {
      "model_module": "@jupyter-widgets/controls",
      "model_module_version": "1.5.0",
      "model_name": "VBoxModel",
      "state": {
       "children": [
        "IPY_MODEL_2c400e87a6f24a7587012030a2297ffe",
        "IPY_MODEL_a3c3c68d51ed4a21aed9ae4d0538e672",
        "IPY_MODEL_60e63d18451c441c8f9fce80dbcf4c07"
       ],
       "layout": "IPY_MODEL_1830ba2c32ed447998456e19c172fd25"
      }
     },
     "c82a274be0904ee594732083d9ccac13": {
      "model_module": "@jupyter-widgets/controls",
      "model_module_version": "1.5.0",
      "model_name": "ButtonModel",
      "state": {
       "description": "Cancel",
       "layout": "IPY_MODEL_4dbc1f138b1d447cb98ac73a6e16e49a",
       "style": "IPY_MODEL_e4c7a63187364020b9ceba4e2787de06"
      }
     },
     "c845d0832408463a92978e88a068fd32": {
      "model_module": "@jupyter-widgets/output",
      "model_module_version": "1.0.0",
      "model_name": "OutputModel",
      "state": {
       "layout": "IPY_MODEL_c682c63ef2f649baa99875f1b7ccbfa3",
       "outputs": [
        {
         "name": "stdout",
         "output_type": "stream",
         "text": "CS strain in phase: MS - significant AHA segments: [4, 5, 10]\nCS strain in phase: ES - significant AHA segments: [4, 10, 14]\nCS strain in phase: PF - significant AHA segments: [10]\nCS strain in phase: MD - significant AHA segments: [4, 7]\n"
        },
        {
         "data": {
          "text/html": "<div>\n<style scoped>\n    .dataframe tbody tr th:only-of-type {\n        vertical-align: middle;\n    }\n\n    .dataframe tbody tr th {\n        vertical-align: top;\n    }\n\n    .dataframe thead th {\n        text-align: right;\n    }\n</style>\n<table border=\"1\" class=\"dataframe\">\n  <thead>\n    <tr style=\"text-align: right;\">\n      <th></th>\n      <th>0</th>\n      <th>1</th>\n      <th>2</th>\n      <th>3</th>\n      <th>4</th>\n      <th>5</th>\n      <th>6</th>\n      <th>7</th>\n      <th>8</th>\n      <th>9</th>\n    </tr>\n  </thead>\n  <tbody>\n    <tr>\n      <th>0</th>\n      <td>1.0</td>\n      <td>1.00000</td>\n      <td>1.0</td>\n      <td>1.00000</td>\n      <td>1.0</td>\n      <td>1.00</td>\n      <td>1.00000</td>\n      <td>1.00000</td>\n      <td>1.00000</td>\n      <td>1.00000</td>\n    </tr>\n    <tr>\n      <th>1</th>\n      <td>1.0</td>\n      <td>1.00000</td>\n      <td>1.0</td>\n      <td>1.00000</td>\n      <td>1.0</td>\n      <td>1.00</td>\n      <td>1.00000</td>\n      <td>1.00000</td>\n      <td>1.00000</td>\n      <td>0.10804</td>\n    </tr>\n    <tr>\n      <th>2</th>\n      <td>1.0</td>\n      <td>1.00000</td>\n      <td>1.0</td>\n      <td>1.00000</td>\n      <td>1.0</td>\n      <td>1.00</td>\n      <td>1.00000</td>\n      <td>1.00000</td>\n      <td>1.00000</td>\n      <td>1.00000</td>\n    </tr>\n    <tr>\n      <th>3</th>\n      <td>1.0</td>\n      <td>1.00000</td>\n      <td>1.0</td>\n      <td>1.00000</td>\n      <td>1.0</td>\n      <td>1.00</td>\n      <td>1.00000</td>\n      <td>1.00000</td>\n      <td>1.00000</td>\n      <td>1.00000</td>\n    </tr>\n    <tr>\n      <th>4</th>\n      <td>1.0</td>\n      <td>0.43229</td>\n      <td>1.0</td>\n      <td>0.07950</td>\n      <td>1.0</td>\n      <td>1.00</td>\n      <td>0.00942</td>\n      <td>0.00000</td>\n      <td>0.06191</td>\n      <td>0.02156</td>\n    </tr>\n    <tr>\n      <th>5</th>\n      <td>1.0</td>\n      <td>1.00000</td>\n      <td>1.0</td>\n      <td>1.00000</td>\n      <td>1.0</td>\n      <td>1.00</td>\n      <td>0.04712</td>\n      <td>0.34080</td>\n      <td>0.09834</td>\n      <td>1.00000</td>\n    </tr>\n    <tr>\n      <th>6</th>\n      <td>1.0</td>\n      <td>1.00000</td>\n      <td>1.0</td>\n      <td>1.00000</td>\n      <td>1.0</td>\n      <td>0.68</td>\n      <td>0.60006</td>\n      <td>0.19551</td>\n      <td>1.00000</td>\n      <td>0.36960</td>\n    </tr>\n    <tr>\n      <th>7</th>\n      <td>1.0</td>\n      <td>1.00000</td>\n      <td>1.0</td>\n      <td>1.00000</td>\n      <td>1.0</td>\n      <td>1.00</td>\n      <td>1.00000</td>\n      <td>1.00000</td>\n      <td>1.00000</td>\n      <td>0.03213</td>\n    </tr>\n    <tr>\n      <th>8</th>\n      <td>1.0</td>\n      <td>1.00000</td>\n      <td>1.0</td>\n      <td>0.32604</td>\n      <td>1.0</td>\n      <td>1.00</td>\n      <td>1.00000</td>\n      <td>1.00000</td>\n      <td>1.00000</td>\n      <td>0.70335</td>\n    </tr>\n    <tr>\n      <th>9</th>\n      <td>1.0</td>\n      <td>1.00000</td>\n      <td>1.0</td>\n      <td>1.00000</td>\n      <td>1.0</td>\n      <td>1.00</td>\n      <td>1.00000</td>\n      <td>1.00000</td>\n      <td>1.00000</td>\n      <td>1.00000</td>\n    </tr>\n    <tr>\n      <th>10</th>\n      <td>1.0</td>\n      <td>0.71824</td>\n      <td>1.0</td>\n      <td>0.34122</td>\n      <td>1.0</td>\n      <td>1.00</td>\n      <td>0.01860</td>\n      <td>0.00159</td>\n      <td>0.00316</td>\n      <td>0.29290</td>\n    </tr>\n    <tr>\n      <th>11</th>\n      <td>1.0</td>\n      <td>1.00000</td>\n      <td>1.0</td>\n      <td>1.00000</td>\n      <td>1.0</td>\n      <td>1.00</td>\n      <td>0.55476</td>\n      <td>0.28032</td>\n      <td>1.00000</td>\n      <td>1.00000</td>\n    </tr>\n    <tr>\n      <th>12</th>\n      <td>1.0</td>\n      <td>1.00000</td>\n      <td>1.0</td>\n      <td>1.00000</td>\n      <td>1.0</td>\n      <td>1.00</td>\n      <td>1.00000</td>\n      <td>1.00000</td>\n      <td>1.00000</td>\n      <td>1.00000</td>\n    </tr>\n    <tr>\n      <th>13</th>\n      <td>1.0</td>\n      <td>1.00000</td>\n      <td>1.0</td>\n      <td>1.00000</td>\n      <td>1.0</td>\n      <td>1.00</td>\n      <td>1.00000</td>\n      <td>1.00000</td>\n      <td>1.00000</td>\n      <td>1.00000</td>\n    </tr>\n    <tr>\n      <th>14</th>\n      <td>1.0</td>\n      <td>1.00000</td>\n      <td>1.0</td>\n      <td>1.00000</td>\n      <td>1.0</td>\n      <td>1.00</td>\n      <td>1.00000</td>\n      <td>0.01560</td>\n      <td>1.00000</td>\n      <td>1.00000</td>\n    </tr>\n    <tr>\n      <th>15</th>\n      <td>1.0</td>\n      <td>1.00000</td>\n      <td>1.0</td>\n      <td>1.00000</td>\n      <td>1.0</td>\n      <td>1.00</td>\n      <td>1.00000</td>\n      <td>0.30672</td>\n      <td>1.00000</td>\n      <td>1.00000</td>\n    </tr>\n  </tbody>\n</table>\n</div>",
          "text/plain": "      0        1    2        3    4     5        6        7        8        9\n0   1.0  1.00000  1.0  1.00000  1.0  1.00  1.00000  1.00000  1.00000  1.00000\n1   1.0  1.00000  1.0  1.00000  1.0  1.00  1.00000  1.00000  1.00000  0.10804\n2   1.0  1.00000  1.0  1.00000  1.0  1.00  1.00000  1.00000  1.00000  1.00000\n3   1.0  1.00000  1.0  1.00000  1.0  1.00  1.00000  1.00000  1.00000  1.00000\n4   1.0  0.43229  1.0  0.07950  1.0  1.00  0.00942  0.00000  0.06191  0.02156\n5   1.0  1.00000  1.0  1.00000  1.0  1.00  0.04712  0.34080  0.09834  1.00000\n6   1.0  1.00000  1.0  1.00000  1.0  0.68  0.60006  0.19551  1.00000  0.36960\n7   1.0  1.00000  1.0  1.00000  1.0  1.00  1.00000  1.00000  1.00000  0.03213\n8   1.0  1.00000  1.0  0.32604  1.0  1.00  1.00000  1.00000  1.00000  0.70335\n9   1.0  1.00000  1.0  1.00000  1.0  1.00  1.00000  1.00000  1.00000  1.00000\n10  1.0  0.71824  1.0  0.34122  1.0  1.00  0.01860  0.00159  0.00316  0.29290\n11  1.0  1.00000  1.0  1.00000  1.0  1.00  0.55476  0.28032  1.00000  1.00000\n12  1.0  1.00000  1.0  1.00000  1.0  1.00  1.00000  1.00000  1.00000  1.00000\n13  1.0  1.00000  1.0  1.00000  1.0  1.00  1.00000  1.00000  1.00000  1.00000\n14  1.0  1.00000  1.0  1.00000  1.0  1.00  1.00000  0.01560  1.00000  1.00000\n15  1.0  1.00000  1.0  1.00000  1.0  1.00  1.00000  0.30672  1.00000  1.00000"
         },
         "metadata": {},
         "output_type": "display_data"
        }
       ]
      }
     },
     "c85b230947964830922e41228815f526": {
      "model_module": "@jupyter-widgets/controls",
      "model_module_version": "1.5.0",
      "model_name": "DescriptionStyleModel",
      "state": {
       "description_width": ""
      }
     },
     "c9bc0bab173740a8ad52a247d0dfc9d9": {
      "model_module": "@jupyter-widgets/controls",
      "model_module_version": "1.5.0",
      "model_name": "ButtonModel",
      "state": {
       "description": "Cancel",
       "layout": "IPY_MODEL_b762984ec2c74b5abd05c73f90f7ceae",
       "style": "IPY_MODEL_bc313451b9564b75820f89d671b57009"
      }
     },
     "cab68c2446634e9bba6e6b5190421da0": {
      "model_module": "@jupyter-widgets/controls",
      "model_module_version": "1.5.0",
      "model_name": "GridBoxModel",
      "state": {
       "children": [
        "IPY_MODEL_fa8ec2b182cb4b8bba4b53719369208b",
        "IPY_MODEL_9a2808bcd0a54ca5812dac74773f9e23",
        "IPY_MODEL_e2a1384e06324a64869065d503a0be17"
       ],
       "layout": "IPY_MODEL_d573ab766aa0403584737a4fd77b809a"
      }
     },
     "caf3b66a01174ea58c91d137c735cc5d": {
      "model_module": "@jupyter-widgets/base",
      "model_module_version": "1.2.0",
      "model_name": "LayoutModel",
      "state": {}
     },
     "cb5904e506d142e6b11db7a779d6e30d": {
      "model_module": "@jupyter-widgets/controls",
      "model_module_version": "1.5.0",
      "model_name": "ButtonModel",
      "state": {
       "description": "Run Interact",
       "layout": "IPY_MODEL_1d082aa5bed14d20b80fd04552ff759c",
       "style": "IPY_MODEL_af5ce949bfb1481eae6daacb0d2d3bae"
      }
     },
     "cba5ec5b45184385ac670f474afcb1c4": {
      "model_module": "@jupyter-widgets/controls",
      "model_module_version": "1.5.0",
      "model_name": "HBoxModel",
      "state": {
       "children": [
        "IPY_MODEL_d9df5b44c62c41faa8786d7cc4296de7",
        "IPY_MODEL_b28bf09a4b5f4bbd9bdba0da81d10ace",
        "IPY_MODEL_1a6c41fa2302407eafb846f0307c87a3"
       ],
       "layout": "IPY_MODEL_47f144c56858445989d50a48b7f29261"
      }
     },
     "cbde6b5f19ac4db480c6439b53b7e4ae": {
      "model_module": "@jupyter-widgets/controls",
      "model_module_version": "1.5.0",
      "model_name": "ButtonModel",
      "state": {
       "description": "Run Interact",
       "layout": "IPY_MODEL_cbffb2c6336e4e27ab1a63aa8ae67dbe",
       "style": "IPY_MODEL_4a427e3d886d4f48baacf2f914049148"
      }
     },
     "cbffb2c6336e4e27ab1a63aa8ae67dbe": {
      "model_module": "@jupyter-widgets/base",
      "model_module_version": "1.2.0",
      "model_name": "LayoutModel",
      "state": {}
     },
     "cc7b73b5dfd949859e602fcc2bfbef3c": {
      "model_module": "@jupyter-widgets/controls",
      "model_module_version": "1.5.0",
      "model_name": "DescriptionStyleModel",
      "state": {
       "description_width": ""
      }
     },
     "cca6cf2f92d046359500dc2557dc3691": {
      "model_module": "@jupyter-widgets/base",
      "model_module_version": "1.2.0",
      "model_name": "LayoutModel",
      "state": {}
     },
     "ccead4de9c7244c59d396032d4a9fdea": {
      "model_module": "@jupyter-widgets/controls",
      "model_module_version": "1.5.0",
      "model_name": "ButtonStyleModel",
      "state": {}
     },
     "cdfde4bd0a8a4b25a30f7780b0acb39c": {
      "model_module": "@jupyter-widgets/controls",
      "model_module_version": "1.5.0",
      "model_name": "DescriptionStyleModel",
      "state": {
       "description_width": ""
      }
     },
     "ce0941f5dd674d87bf33bb1881bce8d6": {
      "model_module": "@jupyter-widgets/base",
      "model_module_version": "1.2.0",
      "model_name": "LayoutModel",
      "state": {
       "grid_area": "pathlist",
       "width": "auto"
      }
     },
     "ce437062db02414491fb6e2ac714154e": {
      "model_module": "@jupyter-widgets/output",
      "model_module_version": "1.0.0",
      "model_name": "OutputModel",
      "state": {
       "layout": "IPY_MODEL_1176e6a460764f72bcfeb3e0e3f142af",
       "outputs": [
        {
         "ename": "FileNotFoundError",
         "evalue": "[Errno 2] No such file or directory: '/mnt/sds/sd20i001/sven/code/dynamic-cmr-models/exp/p2p/dmd/jcmr/iso2_5_32_p2p/img05_flow01_msk1/ssimssim_grad_dice/2023-06-06_12_12_931970/df_DMD_time_p2p.csvdf_DMD_time_p2p.csv'",
         "output_type": "error",
         "traceback": [
          "\u001b[0;31m---------------------------------------------------------------------------\u001b[0m",
          "\u001b[0;31mFileNotFoundError\u001b[0m                         Traceback (most recent call last)",
          "File \u001b[0;32m~/anaconda3/envs/dcmr/lib/python3.8/site-packages/ipywidgets/widgets/interaction.py:256\u001b[0m, in \u001b[0;36minteractive.update\u001b[0;34m(self, *args)\u001b[0m\n\u001b[1;32m    254\u001b[0m     value \u001b[38;5;241m=\u001b[39m widget\u001b[38;5;241m.\u001b[39mget_interact_value()\n\u001b[1;32m    255\u001b[0m     \u001b[38;5;28mself\u001b[39m\u001b[38;5;241m.\u001b[39mkwargs[widget\u001b[38;5;241m.\u001b[39m_kwarg] \u001b[38;5;241m=\u001b[39m value\n\u001b[0;32m--> 256\u001b[0m \u001b[38;5;28mself\u001b[39m\u001b[38;5;241m.\u001b[39mresult \u001b[38;5;241m=\u001b[39m \u001b[38;5;28;43mself\u001b[39;49m\u001b[38;5;241;43m.\u001b[39;49m\u001b[43mf\u001b[49m\u001b[43m(\u001b[49m\u001b[38;5;241;43m*\u001b[39;49m\u001b[38;5;241;43m*\u001b[39;49m\u001b[38;5;28;43mself\u001b[39;49m\u001b[38;5;241;43m.\u001b[39;49m\u001b[43mkwargs\u001b[49m\u001b[43m)\u001b[49m\n\u001b[1;32m    257\u001b[0m show_inline_matplotlib_plots()\n\u001b[1;32m    258\u001b[0m \u001b[38;5;28;01mif\u001b[39;00m \u001b[38;5;28mself\u001b[39m\u001b[38;5;241m.\u001b[39mauto_display \u001b[38;5;129;01mand\u001b[39;00m \u001b[38;5;28mself\u001b[39m\u001b[38;5;241m.\u001b[39mresult \u001b[38;5;129;01mis\u001b[39;00m \u001b[38;5;129;01mnot\u001b[39;00m \u001b[38;5;28;01mNone\u001b[39;00m:\n",
          "Input \u001b[0;32mIn [9]\u001b[0m, in \u001b[0;36mget_segmental_correlations\u001b[0;34m(alpha0)\u001b[0m\n\u001b[1;32m      6\u001b[0m \u001b[38;5;28;01mglobal\u001b[39;00m msk_ss, df_pvals_corrected, df_pvals_uncorrected\n\u001b[1;32m      7\u001b[0m path_to_our_dmd \u001b[38;5;241m=\u001b[39m path_chooser\u001b[38;5;241m.\u001b[39mselected\n\u001b[0;32m----> 8\u001b[0m df_DMD \u001b[38;5;241m=\u001b[39m \u001b[43mpd\u001b[49m\u001b[38;5;241;43m.\u001b[39;49m\u001b[43mread_csv\u001b[49m\u001b[43m(\u001b[49m\u001b[43mpath_to_our_dmd\u001b[49m\u001b[38;5;241;43m+\u001b[39;49m\u001b[38;5;124;43m'\u001b[39;49m\u001b[38;5;124;43mdf_DMD_time_p2p.csv\u001b[39;49m\u001b[38;5;124;43m'\u001b[39;49m\u001b[43m)\u001b[49m\n\u001b[1;32m      9\u001b[0m df_pvals_uncorrected \u001b[38;5;241m=\u001b[39m get_pvals_uncorrected(df_DMD)\n\u001b[1;32m     10\u001b[0m msk_ss, df_pvals_corrected \u001b[38;5;241m=\u001b[39m get_pvals_corrected(df_pvals_uncorrected, alpha0\u001b[38;5;241m=\u001b[39malpha0)\n",
          "File \u001b[0;32m~/anaconda3/envs/dcmr/lib/python3.8/site-packages/pandas/io/parsers/readers.py:912\u001b[0m, in \u001b[0;36mread_csv\u001b[0;34m(filepath_or_buffer, sep, delimiter, header, names, index_col, usecols, dtype, engine, converters, true_values, false_values, skipinitialspace, skiprows, skipfooter, nrows, na_values, keep_default_na, na_filter, verbose, skip_blank_lines, parse_dates, infer_datetime_format, keep_date_col, date_parser, date_format, dayfirst, cache_dates, iterator, chunksize, compression, thousands, decimal, lineterminator, quotechar, quoting, doublequote, escapechar, comment, encoding, encoding_errors, dialect, on_bad_lines, delim_whitespace, low_memory, memory_map, float_precision, storage_options, dtype_backend)\u001b[0m\n\u001b[1;32m    899\u001b[0m kwds_defaults \u001b[38;5;241m=\u001b[39m _refine_defaults_read(\n\u001b[1;32m    900\u001b[0m     dialect,\n\u001b[1;32m    901\u001b[0m     delimiter,\n\u001b[0;32m   (...)\u001b[0m\n\u001b[1;32m    908\u001b[0m     dtype_backend\u001b[38;5;241m=\u001b[39mdtype_backend,\n\u001b[1;32m    909\u001b[0m )\n\u001b[1;32m    910\u001b[0m kwds\u001b[38;5;241m.\u001b[39mupdate(kwds_defaults)\n\u001b[0;32m--> 912\u001b[0m \u001b[38;5;28;01mreturn\u001b[39;00m \u001b[43m_read\u001b[49m\u001b[43m(\u001b[49m\u001b[43mfilepath_or_buffer\u001b[49m\u001b[43m,\u001b[49m\u001b[43m \u001b[49m\u001b[43mkwds\u001b[49m\u001b[43m)\u001b[49m\n",
          "File \u001b[0;32m~/anaconda3/envs/dcmr/lib/python3.8/site-packages/pandas/io/parsers/readers.py:577\u001b[0m, in \u001b[0;36m_read\u001b[0;34m(filepath_or_buffer, kwds)\u001b[0m\n\u001b[1;32m    574\u001b[0m _validate_names(kwds\u001b[38;5;241m.\u001b[39mget(\u001b[38;5;124m\"\u001b[39m\u001b[38;5;124mnames\u001b[39m\u001b[38;5;124m\"\u001b[39m, \u001b[38;5;28;01mNone\u001b[39;00m))\n\u001b[1;32m    576\u001b[0m \u001b[38;5;66;03m# Create the parser.\u001b[39;00m\n\u001b[0;32m--> 577\u001b[0m parser \u001b[38;5;241m=\u001b[39m \u001b[43mTextFileReader\u001b[49m\u001b[43m(\u001b[49m\u001b[43mfilepath_or_buffer\u001b[49m\u001b[43m,\u001b[49m\u001b[43m \u001b[49m\u001b[38;5;241;43m*\u001b[39;49m\u001b[38;5;241;43m*\u001b[39;49m\u001b[43mkwds\u001b[49m\u001b[43m)\u001b[49m\n\u001b[1;32m    579\u001b[0m \u001b[38;5;28;01mif\u001b[39;00m chunksize \u001b[38;5;129;01mor\u001b[39;00m iterator:\n\u001b[1;32m    580\u001b[0m     \u001b[38;5;28;01mreturn\u001b[39;00m parser\n",
          "File \u001b[0;32m~/anaconda3/envs/dcmr/lib/python3.8/site-packages/pandas/io/parsers/readers.py:1407\u001b[0m, in \u001b[0;36mTextFileReader.__init__\u001b[0;34m(self, f, engine, **kwds)\u001b[0m\n\u001b[1;32m   1404\u001b[0m     \u001b[38;5;28mself\u001b[39m\u001b[38;5;241m.\u001b[39moptions[\u001b[38;5;124m\"\u001b[39m\u001b[38;5;124mhas_index_names\u001b[39m\u001b[38;5;124m\"\u001b[39m] \u001b[38;5;241m=\u001b[39m kwds[\u001b[38;5;124m\"\u001b[39m\u001b[38;5;124mhas_index_names\u001b[39m\u001b[38;5;124m\"\u001b[39m]\n\u001b[1;32m   1406\u001b[0m \u001b[38;5;28mself\u001b[39m\u001b[38;5;241m.\u001b[39mhandles: IOHandles \u001b[38;5;241m|\u001b[39m \u001b[38;5;28;01mNone\u001b[39;00m \u001b[38;5;241m=\u001b[39m \u001b[38;5;28;01mNone\u001b[39;00m\n\u001b[0;32m-> 1407\u001b[0m \u001b[38;5;28mself\u001b[39m\u001b[38;5;241m.\u001b[39m_engine \u001b[38;5;241m=\u001b[39m \u001b[38;5;28;43mself\u001b[39;49m\u001b[38;5;241;43m.\u001b[39;49m\u001b[43m_make_engine\u001b[49m\u001b[43m(\u001b[49m\u001b[43mf\u001b[49m\u001b[43m,\u001b[49m\u001b[43m \u001b[49m\u001b[38;5;28;43mself\u001b[39;49m\u001b[38;5;241;43m.\u001b[39;49m\u001b[43mengine\u001b[49m\u001b[43m)\u001b[49m\n",
          "File \u001b[0;32m~/anaconda3/envs/dcmr/lib/python3.8/site-packages/pandas/io/parsers/readers.py:1661\u001b[0m, in \u001b[0;36mTextFileReader._make_engine\u001b[0;34m(self, f, engine)\u001b[0m\n\u001b[1;32m   1659\u001b[0m     \u001b[38;5;28;01mif\u001b[39;00m \u001b[38;5;124m\"\u001b[39m\u001b[38;5;124mb\u001b[39m\u001b[38;5;124m\"\u001b[39m \u001b[38;5;129;01mnot\u001b[39;00m \u001b[38;5;129;01min\u001b[39;00m mode:\n\u001b[1;32m   1660\u001b[0m         mode \u001b[38;5;241m+\u001b[39m\u001b[38;5;241m=\u001b[39m \u001b[38;5;124m\"\u001b[39m\u001b[38;5;124mb\u001b[39m\u001b[38;5;124m\"\u001b[39m\n\u001b[0;32m-> 1661\u001b[0m \u001b[38;5;28mself\u001b[39m\u001b[38;5;241m.\u001b[39mhandles \u001b[38;5;241m=\u001b[39m \u001b[43mget_handle\u001b[49m\u001b[43m(\u001b[49m\n\u001b[1;32m   1662\u001b[0m \u001b[43m    \u001b[49m\u001b[43mf\u001b[49m\u001b[43m,\u001b[49m\n\u001b[1;32m   1663\u001b[0m \u001b[43m    \u001b[49m\u001b[43mmode\u001b[49m\u001b[43m,\u001b[49m\n\u001b[1;32m   1664\u001b[0m \u001b[43m    \u001b[49m\u001b[43mencoding\u001b[49m\u001b[38;5;241;43m=\u001b[39;49m\u001b[38;5;28;43mself\u001b[39;49m\u001b[38;5;241;43m.\u001b[39;49m\u001b[43moptions\u001b[49m\u001b[38;5;241;43m.\u001b[39;49m\u001b[43mget\u001b[49m\u001b[43m(\u001b[49m\u001b[38;5;124;43m\"\u001b[39;49m\u001b[38;5;124;43mencoding\u001b[39;49m\u001b[38;5;124;43m\"\u001b[39;49m\u001b[43m,\u001b[49m\u001b[43m \u001b[49m\u001b[38;5;28;43;01mNone\u001b[39;49;00m\u001b[43m)\u001b[49m\u001b[43m,\u001b[49m\n\u001b[1;32m   1665\u001b[0m \u001b[43m    \u001b[49m\u001b[43mcompression\u001b[49m\u001b[38;5;241;43m=\u001b[39;49m\u001b[38;5;28;43mself\u001b[39;49m\u001b[38;5;241;43m.\u001b[39;49m\u001b[43moptions\u001b[49m\u001b[38;5;241;43m.\u001b[39;49m\u001b[43mget\u001b[49m\u001b[43m(\u001b[49m\u001b[38;5;124;43m\"\u001b[39;49m\u001b[38;5;124;43mcompression\u001b[39;49m\u001b[38;5;124;43m\"\u001b[39;49m\u001b[43m,\u001b[49m\u001b[43m \u001b[49m\u001b[38;5;28;43;01mNone\u001b[39;49;00m\u001b[43m)\u001b[49m\u001b[43m,\u001b[49m\n\u001b[1;32m   1666\u001b[0m \u001b[43m    \u001b[49m\u001b[43mmemory_map\u001b[49m\u001b[38;5;241;43m=\u001b[39;49m\u001b[38;5;28;43mself\u001b[39;49m\u001b[38;5;241;43m.\u001b[39;49m\u001b[43moptions\u001b[49m\u001b[38;5;241;43m.\u001b[39;49m\u001b[43mget\u001b[49m\u001b[43m(\u001b[49m\u001b[38;5;124;43m\"\u001b[39;49m\u001b[38;5;124;43mmemory_map\u001b[39;49m\u001b[38;5;124;43m\"\u001b[39;49m\u001b[43m,\u001b[49m\u001b[43m \u001b[49m\u001b[38;5;28;43;01mFalse\u001b[39;49;00m\u001b[43m)\u001b[49m\u001b[43m,\u001b[49m\n\u001b[1;32m   1667\u001b[0m \u001b[43m    \u001b[49m\u001b[43mis_text\u001b[49m\u001b[38;5;241;43m=\u001b[39;49m\u001b[43mis_text\u001b[49m\u001b[43m,\u001b[49m\n\u001b[1;32m   1668\u001b[0m \u001b[43m    \u001b[49m\u001b[43merrors\u001b[49m\u001b[38;5;241;43m=\u001b[39;49m\u001b[38;5;28;43mself\u001b[39;49m\u001b[38;5;241;43m.\u001b[39;49m\u001b[43moptions\u001b[49m\u001b[38;5;241;43m.\u001b[39;49m\u001b[43mget\u001b[49m\u001b[43m(\u001b[49m\u001b[38;5;124;43m\"\u001b[39;49m\u001b[38;5;124;43mencoding_errors\u001b[39;49m\u001b[38;5;124;43m\"\u001b[39;49m\u001b[43m,\u001b[49m\u001b[43m \u001b[49m\u001b[38;5;124;43m\"\u001b[39;49m\u001b[38;5;124;43mstrict\u001b[39;49m\u001b[38;5;124;43m\"\u001b[39;49m\u001b[43m)\u001b[49m\u001b[43m,\u001b[49m\n\u001b[1;32m   1669\u001b[0m \u001b[43m    \u001b[49m\u001b[43mstorage_options\u001b[49m\u001b[38;5;241;43m=\u001b[39;49m\u001b[38;5;28;43mself\u001b[39;49m\u001b[38;5;241;43m.\u001b[39;49m\u001b[43moptions\u001b[49m\u001b[38;5;241;43m.\u001b[39;49m\u001b[43mget\u001b[49m\u001b[43m(\u001b[49m\u001b[38;5;124;43m\"\u001b[39;49m\u001b[38;5;124;43mstorage_options\u001b[39;49m\u001b[38;5;124;43m\"\u001b[39;49m\u001b[43m,\u001b[49m\u001b[43m \u001b[49m\u001b[38;5;28;43;01mNone\u001b[39;49;00m\u001b[43m)\u001b[49m\u001b[43m,\u001b[49m\n\u001b[1;32m   1670\u001b[0m \u001b[43m\u001b[49m\u001b[43m)\u001b[49m\n\u001b[1;32m   1671\u001b[0m \u001b[38;5;28;01massert\u001b[39;00m \u001b[38;5;28mself\u001b[39m\u001b[38;5;241m.\u001b[39mhandles \u001b[38;5;129;01mis\u001b[39;00m \u001b[38;5;129;01mnot\u001b[39;00m \u001b[38;5;28;01mNone\u001b[39;00m\n\u001b[1;32m   1672\u001b[0m f \u001b[38;5;241m=\u001b[39m \u001b[38;5;28mself\u001b[39m\u001b[38;5;241m.\u001b[39mhandles\u001b[38;5;241m.\u001b[39mhandle\n",
          "File \u001b[0;32m~/anaconda3/envs/dcmr/lib/python3.8/site-packages/pandas/io/common.py:859\u001b[0m, in \u001b[0;36mget_handle\u001b[0;34m(path_or_buf, mode, encoding, compression, memory_map, is_text, errors, storage_options)\u001b[0m\n\u001b[1;32m    854\u001b[0m \u001b[38;5;28;01melif\u001b[39;00m \u001b[38;5;28misinstance\u001b[39m(handle, \u001b[38;5;28mstr\u001b[39m):\n\u001b[1;32m    855\u001b[0m     \u001b[38;5;66;03m# Check whether the filename is to be opened in binary mode.\u001b[39;00m\n\u001b[1;32m    856\u001b[0m     \u001b[38;5;66;03m# Binary mode does not support 'encoding' and 'newline'.\u001b[39;00m\n\u001b[1;32m    857\u001b[0m     \u001b[38;5;28;01mif\u001b[39;00m ioargs\u001b[38;5;241m.\u001b[39mencoding \u001b[38;5;129;01mand\u001b[39;00m \u001b[38;5;124m\"\u001b[39m\u001b[38;5;124mb\u001b[39m\u001b[38;5;124m\"\u001b[39m \u001b[38;5;129;01mnot\u001b[39;00m \u001b[38;5;129;01min\u001b[39;00m ioargs\u001b[38;5;241m.\u001b[39mmode:\n\u001b[1;32m    858\u001b[0m         \u001b[38;5;66;03m# Encoding\u001b[39;00m\n\u001b[0;32m--> 859\u001b[0m         handle \u001b[38;5;241m=\u001b[39m \u001b[38;5;28;43mopen\u001b[39;49m\u001b[43m(\u001b[49m\n\u001b[1;32m    860\u001b[0m \u001b[43m            \u001b[49m\u001b[43mhandle\u001b[49m\u001b[43m,\u001b[49m\n\u001b[1;32m    861\u001b[0m \u001b[43m            \u001b[49m\u001b[43mioargs\u001b[49m\u001b[38;5;241;43m.\u001b[39;49m\u001b[43mmode\u001b[49m\u001b[43m,\u001b[49m\n\u001b[1;32m    862\u001b[0m \u001b[43m            \u001b[49m\u001b[43mencoding\u001b[49m\u001b[38;5;241;43m=\u001b[39;49m\u001b[43mioargs\u001b[49m\u001b[38;5;241;43m.\u001b[39;49m\u001b[43mencoding\u001b[49m\u001b[43m,\u001b[49m\n\u001b[1;32m    863\u001b[0m \u001b[43m            \u001b[49m\u001b[43merrors\u001b[49m\u001b[38;5;241;43m=\u001b[39;49m\u001b[43merrors\u001b[49m\u001b[43m,\u001b[49m\n\u001b[1;32m    864\u001b[0m \u001b[43m            \u001b[49m\u001b[43mnewline\u001b[49m\u001b[38;5;241;43m=\u001b[39;49m\u001b[38;5;124;43m\"\u001b[39;49m\u001b[38;5;124;43m\"\u001b[39;49m\u001b[43m,\u001b[49m\n\u001b[1;32m    865\u001b[0m \u001b[43m        \u001b[49m\u001b[43m)\u001b[49m\n\u001b[1;32m    866\u001b[0m     \u001b[38;5;28;01melse\u001b[39;00m:\n\u001b[1;32m    867\u001b[0m         \u001b[38;5;66;03m# Binary mode\u001b[39;00m\n\u001b[1;32m    868\u001b[0m         handle \u001b[38;5;241m=\u001b[39m \u001b[38;5;28mopen\u001b[39m(handle, ioargs\u001b[38;5;241m.\u001b[39mmode)\n",
          "\u001b[0;31mFileNotFoundError\u001b[0m: [Errno 2] No such file or directory: '/mnt/sds/sd20i001/sven/code/dynamic-cmr-models/exp/p2p/dmd/jcmr/iso2_5_32_p2p/img05_flow01_msk1/ssimssim_grad_dice/2023-06-06_12_12_931970/df_DMD_time_p2p.csvdf_DMD_time_p2p.csv'"
         ]
        }
       ]
      }
     },
     "cee1d115028d4d3a864ef43d1ef84044": {
      "model_module": "@jupyter-widgets/controls",
      "model_module_version": "1.5.0",
      "model_name": "ButtonStyleModel",
      "state": {}
     },
     "d027f82731014202907b611d19b72d29": {
      "model_module": "@jupyter-widgets/base",
      "model_module_version": "1.2.0",
      "model_name": "LayoutModel",
      "state": {}
     },
     "d042c37112b941a8bd8d0cc7cd3072b0": {
      "model_module": "@jupyter-widgets/controls",
      "model_module_version": "1.5.0",
      "model_name": "DescriptionStyleModel",
      "state": {
       "description_width": ""
      }
     },
     "d2815a0a132f47a7bf65cf3600ae255d": {
      "model_module": "@jupyter-widgets/base",
      "model_module_version": "1.2.0",
      "model_name": "LayoutModel",
      "state": {
       "width": "auto"
      }
     },
     "d2ae46d8de04490892450a80efc60fb8": {
      "model_module": "@jupyter-widgets/base",
      "model_module_version": "1.2.0",
      "model_name": "LayoutModel",
      "state": {
       "display": "none",
       "width": "auto"
      }
     },
     "d3cd87e11a4648609d7d9fcd34150445": {
      "model_module": "@jupyter-widgets/base",
      "model_module_version": "1.2.0",
      "model_name": "LayoutModel",
      "state": {
       "grid_area": "dircontent",
       "width": "auto"
      }
     },
     "d4275f00a42c4a2c96b4ff958784aace": {
      "model_module": "@jupyter-widgets/controls",
      "model_module_version": "1.5.0",
      "model_name": "HTMLModel",
      "state": {
       "layout": "IPY_MODEL_295e7215ca334ddd97aff6acbf206c99",
       "placeholder": "",
       "style": "IPY_MODEL_904a2a544d684e45ae4205919d033c1e",
       "value": "<span style=\"margin-left:10px; color:orange;\">/mnt/sds/sd20i001/sven/code/dynamic-cmr-models/exp/p2p/dmd/jcmr/iso2_5_32_p2p/img05_flow01_msk1/ssimssim_grad_dice/2023-06-06_12_12_931970/df_DMD_time_p2p.csv</span>"
      }
     },
     "d427942e697446b2a4db3115cfa8bd28": {
      "model_module": "@jupyter-widgets/base",
      "model_module_version": "1.2.0",
      "model_name": "LayoutModel",
      "state": {
       "display": "none",
       "grid_gap": "0px 0px",
       "grid_template_areas": "\n                    'pathlist filename'\n                    'dircontent dircontent'\n                    ",
       "grid_template_columns": "60% 40%",
       "grid_template_rows": "auto auto",
       "width": "500px"
      }
     },
     "d434468b269d431c8846fedd2d5a4945": {
      "model_module": "@jupyter-widgets/base",
      "model_module_version": "1.2.0",
      "model_name": "LayoutModel",
      "state": {}
     },
     "d552d1ffa2c64ac3b26f8105467939f5": {
      "model_module": "@jupyter-widgets/controls",
      "model_module_version": "1.5.0",
      "model_name": "DescriptionStyleModel",
      "state": {
       "description_width": ""
      }
     },
     "d56bd0b9ebf243639f20775857fc41d6": {
      "model_module": "@jupyter-widgets/base",
      "model_module_version": "1.2.0",
      "model_name": "LayoutModel",
      "state": {}
     },
     "d573ab766aa0403584737a4fd77b809a": {
      "model_module": "@jupyter-widgets/base",
      "model_module_version": "1.2.0",
      "model_name": "LayoutModel",
      "state": {
       "display": "none",
       "grid_gap": "0px 0px",
       "grid_template_areas": "\n                    'pathlist filename'\n                    'dircontent dircontent'\n                    ",
       "grid_template_columns": "60% 40%",
       "grid_template_rows": "auto auto",
       "width": "500px"
      }
     },
     "d619c170eab84fec83eea3ef79bfea08": {
      "model_module": "@jupyter-widgets/base",
      "model_module_version": "1.2.0",
      "model_name": "LayoutModel",
      "state": {}
     },
     "d66004db1aa64779857320bd0d6e549c": {
      "model_module": "@jupyter-widgets/base",
      "model_module_version": "1.2.0",
      "model_name": "LayoutModel",
      "state": {}
     },
     "d68a79960bbe4a81aa59bdb5e7eed9c9": {
      "model_module": "@jupyter-widgets/base",
      "model_module_version": "1.2.0",
      "model_name": "LayoutModel",
      "state": {
       "width": "auto"
      }
     },
     "d6e12e880b134fc88206fab6dd091138": {
      "model_module": "@jupyter-widgets/controls",
      "model_module_version": "1.5.0",
      "model_name": "ButtonModel",
      "state": {
       "description": "Cancel",
       "layout": "IPY_MODEL_14346d947444460293f68d50c0c1190d",
       "style": "IPY_MODEL_24782f9ebe734f72aa6be68126e26f0d"
      }
     },
     "d7a9f85925004304804dd3fcb33b9f9d": {
      "model_module": "@jupyter-widgets/controls",
      "model_module_version": "1.5.0",
      "model_name": "DescriptionStyleModel",
      "state": {
       "description_width": ""
      }
     },
     "d97a387acc4f418d87fe3ebd448dbb07": {
      "model_module": "@jupyter-widgets/base",
      "model_module_version": "1.2.0",
      "model_name": "LayoutModel",
      "state": {
       "width": "auto"
      }
     },
     "d9883eb9fc1c42fdb10049f0e226e883": {
      "model_module": "@jupyter-widgets/controls",
      "model_module_version": "1.5.0",
      "model_name": "DropdownModel",
      "state": {
       "_options_labels": [
        "/mnt/sds/sd20i001/sven/code/dynamic-cmr-models/exp/p2p/dmd/jcmr/iso2_5_32_p2p/img05_flow01_msk1/ssimssim_grad_dice/2023-06-06_12_12_931970",
        "/mnt/sds/sd20i001/sven/code/dynamic-cmr-models/exp/p2p/dmd/jcmr/iso2_5_32_p2p/img05_flow01_msk1/ssimssim_grad_dice",
        "/mnt/sds/sd20i001/sven/code/dynamic-cmr-models/exp/p2p/dmd/jcmr/iso2_5_32_p2p/img05_flow01_msk1",
        "/mnt/sds/sd20i001/sven/code/dynamic-cmr-models/exp/p2p/dmd/jcmr/iso2_5_32_p2p",
        "/mnt/sds/sd20i001/sven/code/dynamic-cmr-models/exp/p2p/dmd/jcmr",
        "/mnt/sds/sd20i001/sven/code/dynamic-cmr-models/exp/p2p/dmd",
        "/mnt/sds/sd20i001/sven/code/dynamic-cmr-models/exp/p2p",
        "/mnt/sds/sd20i001/sven/code/dynamic-cmr-models/exp",
        "/mnt/sds/sd20i001/sven/code/dynamic-cmr-models",
        "/mnt/sds/sd20i001/sven/code",
        "/mnt/sds/sd20i001/sven",
        "/mnt/sds/sd20i001",
        "/mnt/sds",
        "/mnt",
        "/"
       ],
       "index": 0,
       "layout": "IPY_MODEL_e2c9890fc5334a2ebe775bac9f3997f3",
       "style": "IPY_MODEL_141459a7da774ce2a5e22c1a4fd2e47b"
      }
     },
     "d9df5b44c62c41faa8786d7cc4296de7": {
      "model_module": "@jupyter-widgets/controls",
      "model_module_version": "1.5.0",
      "model_name": "ButtonModel",
      "state": {
       "description": "Change",
       "layout": "IPY_MODEL_08a40742940c4871ab4b6c9d4506d49f",
       "style": "IPY_MODEL_2701ee5a770c46628e73c08e5325da2f"
      }
     },
     "da97d2ac5e4b41b185808642a255a91c": {
      "model_module": "@jupyter-widgets/controls",
      "model_module_version": "1.5.0",
      "model_name": "DescriptionStyleModel",
      "state": {
       "description_width": ""
      }
     },
     "db32fc14503e4e0eb64b1b8ae6284d6d": {
      "model_module": "@jupyter-widgets/controls",
      "model_module_version": "1.5.0",
      "model_name": "ButtonStyleModel",
      "state": {}
     },
     "db3a7c4ac6fe4453b66db3ab1fff44e6": {
      "model_module": "@jupyter-widgets/base",
      "model_module_version": "1.2.0",
      "model_name": "LayoutModel",
      "state": {
       "grid_area": "pathlist",
       "width": "auto"
      }
     },
     "dcafd2ab10c74045a20c7bd92fdccafc": {
      "model_module": "@jupyter-widgets/base",
      "model_module_version": "1.2.0",
      "model_name": "LayoutModel",
      "state": {
       "grid_area": "filename",
       "width": "auto"
      }
     },
     "dccad3d983354e9cb889dccd158d6270": {
      "model_module": "@jupyter-widgets/base",
      "model_module_version": "1.2.0",
      "model_name": "LayoutModel",
      "state": {
       "width": "auto"
      }
     },
     "dd228981c55240dd832879bebb05038b": {
      "model_module": "@jupyter-widgets/base",
      "model_module_version": "1.2.0",
      "model_name": "LayoutModel",
      "state": {}
     },
     "dd4dfe2a5866465fb84307325007b750": {
      "model_module": "@jupyter-widgets/base",
      "model_module_version": "1.2.0",
      "model_name": "LayoutModel",
      "state": {}
     },
     "ddcd692b14a842fbb798971256c11d80": {
      "model_module": "@jupyter-widgets/base",
      "model_module_version": "1.2.0",
      "model_name": "LayoutModel",
      "state": {
       "display": "none",
       "width": "auto"
      }
     },
     "de675e69a5734b2c8b218606520e39b5": {
      "model_module": "@jupyter-widgets/controls",
      "model_module_version": "1.5.0",
      "model_name": "DescriptionStyleModel",
      "state": {
       "description_width": ""
      }
     },
     "dec9ee3469564a4fb79bf710ffdb8197": {
      "model_module": "@jupyter-widgets/controls",
      "model_module_version": "1.5.0",
      "model_name": "SelectModel",
      "state": {
       "_options_labels": [
        "..",
        "f0",
        "f1",
        "f2",
        "f3",
        "gt_m",
        "pred",
        "pred_m",
        "Log_errors.log",
        "df_DMD_time_ed2p.csv",
        "df_DMD_time_p2p.csv",
        "model.png",
        "model_summary.txt"
       ],
       "index": null,
       "layout": "IPY_MODEL_02fea6aef01c4c10876f12f37f8b1759",
       "rows": 8,
       "style": "IPY_MODEL_32a66128e9a44e0ca8b1a47b04224d89"
      }
     },
     "e0433419dcc94b8f9f764dc4ae03d7c3": {
      "model_module": "@jupyter-widgets/base",
      "model_module_version": "1.2.0",
      "model_name": "LayoutModel",
      "state": {}
     },
     "e0444f6338c94547a0f4df498117c3b4": {
      "model_module": "@jupyter-widgets/base",
      "model_module_version": "1.2.0",
      "model_name": "LayoutModel",
      "state": {
       "display": "none"
      }
     },
     "e201a004cc2c4bbbab475cfe1e61d613": {
      "model_module": "@jupyter-widgets/controls",
      "model_module_version": "1.5.0",
      "model_name": "DropdownModel",
      "state": {
       "_options_labels": [
        "/mnt/sds/sd20i001/sven/code/dynamic-cmr-models/exp/p2p/dmd/jcmr/iso2_5_32_p2p/img05_flow01_msk1/ssimssim_grad_dice/2023-06-06_12_12_931970",
        "/mnt/sds/sd20i001/sven/code/dynamic-cmr-models/exp/p2p/dmd/jcmr/iso2_5_32_p2p/img05_flow01_msk1/ssimssim_grad_dice",
        "/mnt/sds/sd20i001/sven/code/dynamic-cmr-models/exp/p2p/dmd/jcmr/iso2_5_32_p2p/img05_flow01_msk1",
        "/mnt/sds/sd20i001/sven/code/dynamic-cmr-models/exp/p2p/dmd/jcmr/iso2_5_32_p2p",
        "/mnt/sds/sd20i001/sven/code/dynamic-cmr-models/exp/p2p/dmd/jcmr",
        "/mnt/sds/sd20i001/sven/code/dynamic-cmr-models/exp/p2p/dmd",
        "/mnt/sds/sd20i001/sven/code/dynamic-cmr-models/exp/p2p",
        "/mnt/sds/sd20i001/sven/code/dynamic-cmr-models/exp",
        "/mnt/sds/sd20i001/sven/code/dynamic-cmr-models",
        "/mnt/sds/sd20i001/sven/code",
        "/mnt/sds/sd20i001/sven",
        "/mnt/sds/sd20i001",
        "/mnt/sds",
        "/mnt",
        "/"
       ],
       "index": 0,
       "layout": "IPY_MODEL_edd80d9f3d384b5eb7368ffaf11a8042",
       "style": "IPY_MODEL_7f98d5c0ca45430f99120ab6a59daf28"
      }
     },
     "e22fc5bf083349ec9c73e1b1716152ad": {
      "model_module": "@jupyter-widgets/controls",
      "model_module_version": "1.5.0",
      "model_name": "DescriptionStyleModel",
      "state": {
       "description_width": ""
      }
     },
     "e23f1f8d9dd847ea85c7183d09c5c9d8": {
      "model_module": "@jupyter-widgets/base",
      "model_module_version": "1.2.0",
      "model_name": "LayoutModel",
      "state": {}
     },
     "e27507c4d7094663b14ea54f3c9fbf4e": {
      "model_module": "@jupyter-widgets/base",
      "model_module_version": "1.2.0",
      "model_name": "LayoutModel",
      "state": {
       "width": "auto"
      }
     },
     "e288b835939847bf88118e5f9566e615": {
      "model_module": "@jupyter-widgets/base",
      "model_module_version": "1.2.0",
      "model_name": "LayoutModel",
      "state": {
       "width": "auto"
      }
     },
     "e2a1384e06324a64869065d503a0be17": {
      "model_module": "@jupyter-widgets/controls",
      "model_module_version": "1.5.0",
      "model_name": "SelectModel",
      "state": {
       "_options_labels": [
        "..",
        "2023-05-31_15_52_920901",
        "2023-06-06_12_12_931970"
       ],
       "index": null,
       "layout": "IPY_MODEL_42f5b363dc834cc79f148a0cbca723b3",
       "rows": 8,
       "style": "IPY_MODEL_47556f928c594ad0be83d3dcab4fcea3"
      }
     },
     "e2b74aea2a214c498d81a91dcba2adfa": {
      "model_module": "@jupyter-widgets/controls",
      "model_module_version": "1.5.0",
      "model_name": "GridBoxModel",
      "state": {
       "children": [
        "IPY_MODEL_6744c061726d4a359a6313996df1dda2",
        "IPY_MODEL_83ca36acbaa8447cbe0186b038daa85b",
        "IPY_MODEL_8c31d37895fb44d8b09249ce99416a09"
       ],
       "layout": "IPY_MODEL_e6720122b1344822a80942e5d8a3f19e"
      }
     },
     "e2c9890fc5334a2ebe775bac9f3997f3": {
      "model_module": "@jupyter-widgets/base",
      "model_module_version": "1.2.0",
      "model_name": "LayoutModel",
      "state": {
       "grid_area": "pathlist",
       "width": "auto"
      }
     },
     "e301690cdf3d44759b8e3c63e95de5c9": {
      "model_module": "@jupyter-widgets/output",
      "model_module_version": "1.0.0",
      "model_name": "OutputModel",
      "state": {
       "layout": "IPY_MODEL_e9236f93202c4f63a31e0169bb5fa463",
       "outputs": [
        {
         "data": {
          "text/html": "<div>\n<style scoped>\n    .dataframe tbody tr th:only-of-type {\n        vertical-align: middle;\n    }\n\n    .dataframe tbody tr th {\n        vertical-align: top;\n    }\n\n    .dataframe thead th {\n        text-align: right;\n    }\n</style>\n<table border=\"1\" class=\"dataframe\">\n  <thead>\n    <tr style=\"text-align: right;\">\n      <th></th>\n      <th>0</th>\n      <th>1</th>\n      <th>2</th>\n      <th>3</th>\n      <th>4</th>\n      <th>5</th>\n      <th>6</th>\n      <th>7</th>\n      <th>8</th>\n      <th>9</th>\n    </tr>\n  </thead>\n  <tbody>\n    <tr>\n      <th>0</th>\n      <td>1.0</td>\n      <td>1.00000</td>\n      <td>1.00000</td>\n      <td>1.0</td>\n      <td>1.0</td>\n      <td>1.0</td>\n      <td>1.00000</td>\n      <td>1.00000</td>\n      <td>1.00000</td>\n      <td>1.0</td>\n    </tr>\n    <tr>\n      <th>1</th>\n      <td>1.0</td>\n      <td>1.00000</td>\n      <td>1.00000</td>\n      <td>1.0</td>\n      <td>1.0</td>\n      <td>1.0</td>\n      <td>1.00000</td>\n      <td>1.00000</td>\n      <td>1.00000</td>\n      <td>1.0</td>\n    </tr>\n    <tr>\n      <th>2</th>\n      <td>1.0</td>\n      <td>1.00000</td>\n      <td>1.00000</td>\n      <td>1.0</td>\n      <td>1.0</td>\n      <td>1.0</td>\n      <td>1.00000</td>\n      <td>1.00000</td>\n      <td>1.00000</td>\n      <td>1.0</td>\n    </tr>\n    <tr>\n      <th>3</th>\n      <td>1.0</td>\n      <td>1.00000</td>\n      <td>1.00000</td>\n      <td>1.0</td>\n      <td>1.0</td>\n      <td>1.0</td>\n      <td>1.00000</td>\n      <td>1.00000</td>\n      <td>1.00000</td>\n      <td>1.0</td>\n    </tr>\n    <tr>\n      <th>4</th>\n      <td>1.0</td>\n      <td>0.36112</td>\n      <td>1.00000</td>\n      <td>1.0</td>\n      <td>1.0</td>\n      <td>1.0</td>\n      <td>0.00785</td>\n      <td>0.00000</td>\n      <td>1.00000</td>\n      <td>1.0</td>\n    </tr>\n    <tr>\n      <th>5</th>\n      <td>1.0</td>\n      <td>1.00000</td>\n      <td>1.00000</td>\n      <td>1.0</td>\n      <td>1.0</td>\n      <td>1.0</td>\n      <td>0.03978</td>\n      <td>0.02170</td>\n      <td>1.00000</td>\n      <td>1.0</td>\n    </tr>\n    <tr>\n      <th>6</th>\n      <td>1.0</td>\n      <td>1.00000</td>\n      <td>1.00000</td>\n      <td>1.0</td>\n      <td>1.0</td>\n      <td>1.0</td>\n      <td>0.54537</td>\n      <td>0.05624</td>\n      <td>0.24300</td>\n      <td>1.0</td>\n    </tr>\n    <tr>\n      <th>7</th>\n      <td>1.0</td>\n      <td>1.00000</td>\n      <td>1.00000</td>\n      <td>1.0</td>\n      <td>1.0</td>\n      <td>1.0</td>\n      <td>1.00000</td>\n      <td>1.00000</td>\n      <td>1.00000</td>\n      <td>1.0</td>\n    </tr>\n    <tr>\n      <th>8</th>\n      <td>1.0</td>\n      <td>1.00000</td>\n      <td>1.00000</td>\n      <td>1.0</td>\n      <td>1.0</td>\n      <td>1.0</td>\n      <td>1.00000</td>\n      <td>1.00000</td>\n      <td>0.09362</td>\n      <td>1.0</td>\n    </tr>\n    <tr>\n      <th>9</th>\n      <td>1.0</td>\n      <td>1.00000</td>\n      <td>1.00000</td>\n      <td>1.0</td>\n      <td>1.0</td>\n      <td>1.0</td>\n      <td>1.00000</td>\n      <td>1.00000</td>\n      <td>1.00000</td>\n      <td>1.0</td>\n    </tr>\n    <tr>\n      <th>10</th>\n      <td>1.0</td>\n      <td>0.82512</td>\n      <td>1.00000</td>\n      <td>1.0</td>\n      <td>1.0</td>\n      <td>1.0</td>\n      <td>0.01248</td>\n      <td>0.00000</td>\n      <td>1.00000</td>\n      <td>1.0</td>\n    </tr>\n    <tr>\n      <th>11</th>\n      <td>1.0</td>\n      <td>1.00000</td>\n      <td>0.57086</td>\n      <td>1.0</td>\n      <td>1.0</td>\n      <td>1.0</td>\n      <td>0.62350</td>\n      <td>0.00158</td>\n      <td>1.00000</td>\n      <td>1.0</td>\n    </tr>\n    <tr>\n      <th>12</th>\n      <td>1.0</td>\n      <td>1.00000</td>\n      <td>1.00000</td>\n      <td>1.0</td>\n      <td>1.0</td>\n      <td>1.0</td>\n      <td>1.00000</td>\n      <td>1.00000</td>\n      <td>1.00000</td>\n      <td>1.0</td>\n    </tr>\n    <tr>\n      <th>13</th>\n      <td>1.0</td>\n      <td>1.00000</td>\n      <td>1.00000</td>\n      <td>1.0</td>\n      <td>1.0</td>\n      <td>1.0</td>\n      <td>1.00000</td>\n      <td>1.00000</td>\n      <td>1.00000</td>\n      <td>1.0</td>\n    </tr>\n    <tr>\n      <th>14</th>\n      <td>1.0</td>\n      <td>1.00000</td>\n      <td>1.00000</td>\n      <td>1.0</td>\n      <td>1.0</td>\n      <td>1.0</td>\n      <td>1.00000</td>\n      <td>0.02926</td>\n      <td>1.00000</td>\n      <td>1.0</td>\n    </tr>\n    <tr>\n      <th>15</th>\n      <td>1.0</td>\n      <td>1.00000</td>\n      <td>1.00000</td>\n      <td>1.0</td>\n      <td>1.0</td>\n      <td>1.0</td>\n      <td>1.00000</td>\n      <td>0.26522</td>\n      <td>1.00000</td>\n      <td>1.0</td>\n    </tr>\n  </tbody>\n</table>\n</div>",
          "text/plain": "      0        1        2    3    4    5        6        7        8    9\n0   1.0  1.00000  1.00000  1.0  1.0  1.0  1.00000  1.00000  1.00000  1.0\n1   1.0  1.00000  1.00000  1.0  1.0  1.0  1.00000  1.00000  1.00000  1.0\n2   1.0  1.00000  1.00000  1.0  1.0  1.0  1.00000  1.00000  1.00000  1.0\n3   1.0  1.00000  1.00000  1.0  1.0  1.0  1.00000  1.00000  1.00000  1.0\n4   1.0  0.36112  1.00000  1.0  1.0  1.0  0.00785  0.00000  1.00000  1.0\n5   1.0  1.00000  1.00000  1.0  1.0  1.0  0.03978  0.02170  1.00000  1.0\n6   1.0  1.00000  1.00000  1.0  1.0  1.0  0.54537  0.05624  0.24300  1.0\n7   1.0  1.00000  1.00000  1.0  1.0  1.0  1.00000  1.00000  1.00000  1.0\n8   1.0  1.00000  1.00000  1.0  1.0  1.0  1.00000  1.00000  0.09362  1.0\n9   1.0  1.00000  1.00000  1.0  1.0  1.0  1.00000  1.00000  1.00000  1.0\n10  1.0  0.82512  1.00000  1.0  1.0  1.0  0.01248  0.00000  1.00000  1.0\n11  1.0  1.00000  0.57086  1.0  1.0  1.0  0.62350  0.00158  1.00000  1.0\n12  1.0  1.00000  1.00000  1.0  1.0  1.0  1.00000  1.00000  1.00000  1.0\n13  1.0  1.00000  1.00000  1.0  1.0  1.0  1.00000  1.00000  1.00000  1.0\n14  1.0  1.00000  1.00000  1.0  1.0  1.0  1.00000  0.02926  1.00000  1.0\n15  1.0  1.00000  1.00000  1.0  1.0  1.0  1.00000  0.26522  1.00000  1.0"
         },
         "metadata": {},
         "output_type": "display_data"
        }
       ]
      }
     },
     "e37f2600280c45d38be25082cc337dce": {
      "model_module": "@jupyter-widgets/output",
      "model_module_version": "1.0.0",
      "model_name": "OutputModel",
      "state": {
       "layout": "IPY_MODEL_bf033df490934dcc9afbdde099fae4b3",
       "outputs": [
        {
         "name": "stdout",
         "output_type": "stream",
         "text": "CS strain in phase: MS - significant AHA segments: [4, 5, 10], p-values: 4     0.00942\n5     0.04712\n10    0.01860\nName: 6, dtype: float64\nCS strain in phase: ES - significant AHA segments: [4, 10, 14], p-values: 4     0.00000\n10    0.00159\n14    0.01560\nName: 7, dtype: float64\nCS strain in phase: PF - significant AHA segments: [10], p-values: 10    0.00316\nName: 8, dtype: float64\nCS strain in phase: MD - significant AHA segments: [4, 7], p-values: 4    0.02156\n7    0.03213\nName: 9, dtype: float64\n"
        },
        {
         "data": {
          "text/html": "<div>\n<style scoped>\n    .dataframe tbody tr th:only-of-type {\n        vertical-align: middle;\n    }\n\n    .dataframe tbody tr th {\n        vertical-align: top;\n    }\n\n    .dataframe thead th {\n        text-align: right;\n    }\n</style>\n<table border=\"1\" class=\"dataframe\">\n  <thead>\n    <tr style=\"text-align: right;\">\n      <th></th>\n      <th>0</th>\n      <th>1</th>\n      <th>2</th>\n      <th>3</th>\n      <th>4</th>\n      <th>5</th>\n      <th>6</th>\n      <th>7</th>\n      <th>8</th>\n      <th>9</th>\n    </tr>\n  </thead>\n  <tbody>\n    <tr>\n      <th>0</th>\n      <td>1.0</td>\n      <td>1.00000</td>\n      <td>1.0</td>\n      <td>1.00000</td>\n      <td>1.0</td>\n      <td>1.00</td>\n      <td>1.00000</td>\n      <td>1.00000</td>\n      <td>1.00000</td>\n      <td>1.00000</td>\n    </tr>\n    <tr>\n      <th>1</th>\n      <td>1.0</td>\n      <td>1.00000</td>\n      <td>1.0</td>\n      <td>1.00000</td>\n      <td>1.0</td>\n      <td>1.00</td>\n      <td>1.00000</td>\n      <td>1.00000</td>\n      <td>1.00000</td>\n      <td>0.10804</td>\n    </tr>\n    <tr>\n      <th>2</th>\n      <td>1.0</td>\n      <td>1.00000</td>\n      <td>1.0</td>\n      <td>1.00000</td>\n      <td>1.0</td>\n      <td>1.00</td>\n      <td>1.00000</td>\n      <td>1.00000</td>\n      <td>1.00000</td>\n      <td>1.00000</td>\n    </tr>\n    <tr>\n      <th>3</th>\n      <td>1.0</td>\n      <td>1.00000</td>\n      <td>1.0</td>\n      <td>1.00000</td>\n      <td>1.0</td>\n      <td>1.00</td>\n      <td>1.00000</td>\n      <td>1.00000</td>\n      <td>1.00000</td>\n      <td>1.00000</td>\n    </tr>\n    <tr>\n      <th>4</th>\n      <td>1.0</td>\n      <td>0.43229</td>\n      <td>1.0</td>\n      <td>0.07950</td>\n      <td>1.0</td>\n      <td>1.00</td>\n      <td>0.00942</td>\n      <td>0.00000</td>\n      <td>0.06191</td>\n      <td>0.02156</td>\n    </tr>\n    <tr>\n      <th>5</th>\n      <td>1.0</td>\n      <td>1.00000</td>\n      <td>1.0</td>\n      <td>1.00000</td>\n      <td>1.0</td>\n      <td>1.00</td>\n      <td>0.04712</td>\n      <td>0.34080</td>\n      <td>0.09834</td>\n      <td>1.00000</td>\n    </tr>\n    <tr>\n      <th>6</th>\n      <td>1.0</td>\n      <td>1.00000</td>\n      <td>1.0</td>\n      <td>1.00000</td>\n      <td>1.0</td>\n      <td>0.68</td>\n      <td>0.60006</td>\n      <td>0.19551</td>\n      <td>1.00000</td>\n      <td>0.36960</td>\n    </tr>\n    <tr>\n      <th>7</th>\n      <td>1.0</td>\n      <td>1.00000</td>\n      <td>1.0</td>\n      <td>1.00000</td>\n      <td>1.0</td>\n      <td>1.00</td>\n      <td>1.00000</td>\n      <td>1.00000</td>\n      <td>1.00000</td>\n      <td>0.03213</td>\n    </tr>\n    <tr>\n      <th>8</th>\n      <td>1.0</td>\n      <td>1.00000</td>\n      <td>1.0</td>\n      <td>0.32604</td>\n      <td>1.0</td>\n      <td>1.00</td>\n      <td>1.00000</td>\n      <td>1.00000</td>\n      <td>1.00000</td>\n      <td>0.70335</td>\n    </tr>\n    <tr>\n      <th>9</th>\n      <td>1.0</td>\n      <td>1.00000</td>\n      <td>1.0</td>\n      <td>1.00000</td>\n      <td>1.0</td>\n      <td>1.00</td>\n      <td>1.00000</td>\n      <td>1.00000</td>\n      <td>1.00000</td>\n      <td>1.00000</td>\n    </tr>\n    <tr>\n      <th>10</th>\n      <td>1.0</td>\n      <td>0.71824</td>\n      <td>1.0</td>\n      <td>0.34122</td>\n      <td>1.0</td>\n      <td>1.00</td>\n      <td>0.01860</td>\n      <td>0.00159</td>\n      <td>0.00316</td>\n      <td>0.29290</td>\n    </tr>\n    <tr>\n      <th>11</th>\n      <td>1.0</td>\n      <td>1.00000</td>\n      <td>1.0</td>\n      <td>1.00000</td>\n      <td>1.0</td>\n      <td>1.00</td>\n      <td>0.55476</td>\n      <td>0.28032</td>\n      <td>1.00000</td>\n      <td>1.00000</td>\n    </tr>\n    <tr>\n      <th>12</th>\n      <td>1.0</td>\n      <td>1.00000</td>\n      <td>1.0</td>\n      <td>1.00000</td>\n      <td>1.0</td>\n      <td>1.00</td>\n      <td>1.00000</td>\n      <td>1.00000</td>\n      <td>1.00000</td>\n      <td>1.00000</td>\n    </tr>\n    <tr>\n      <th>13</th>\n      <td>1.0</td>\n      <td>1.00000</td>\n      <td>1.0</td>\n      <td>1.00000</td>\n      <td>1.0</td>\n      <td>1.00</td>\n      <td>1.00000</td>\n      <td>1.00000</td>\n      <td>1.00000</td>\n      <td>1.00000</td>\n    </tr>\n    <tr>\n      <th>14</th>\n      <td>1.0</td>\n      <td>1.00000</td>\n      <td>1.0</td>\n      <td>1.00000</td>\n      <td>1.0</td>\n      <td>1.00</td>\n      <td>1.00000</td>\n      <td>0.01560</td>\n      <td>1.00000</td>\n      <td>1.00000</td>\n    </tr>\n    <tr>\n      <th>15</th>\n      <td>1.0</td>\n      <td>1.00000</td>\n      <td>1.0</td>\n      <td>1.00000</td>\n      <td>1.0</td>\n      <td>1.00</td>\n      <td>1.00000</td>\n      <td>0.30672</td>\n      <td>1.00000</td>\n      <td>1.00000</td>\n    </tr>\n  </tbody>\n</table>\n</div>",
          "text/plain": "      0        1    2        3    4     5        6        7        8        9\n0   1.0  1.00000  1.0  1.00000  1.0  1.00  1.00000  1.00000  1.00000  1.00000\n1   1.0  1.00000  1.0  1.00000  1.0  1.00  1.00000  1.00000  1.00000  0.10804\n2   1.0  1.00000  1.0  1.00000  1.0  1.00  1.00000  1.00000  1.00000  1.00000\n3   1.0  1.00000  1.0  1.00000  1.0  1.00  1.00000  1.00000  1.00000  1.00000\n4   1.0  0.43229  1.0  0.07950  1.0  1.00  0.00942  0.00000  0.06191  0.02156\n5   1.0  1.00000  1.0  1.00000  1.0  1.00  0.04712  0.34080  0.09834  1.00000\n6   1.0  1.00000  1.0  1.00000  1.0  0.68  0.60006  0.19551  1.00000  0.36960\n7   1.0  1.00000  1.0  1.00000  1.0  1.00  1.00000  1.00000  1.00000  0.03213\n8   1.0  1.00000  1.0  0.32604  1.0  1.00  1.00000  1.00000  1.00000  0.70335\n9   1.0  1.00000  1.0  1.00000  1.0  1.00  1.00000  1.00000  1.00000  1.00000\n10  1.0  0.71824  1.0  0.34122  1.0  1.00  0.01860  0.00159  0.00316  0.29290\n11  1.0  1.00000  1.0  1.00000  1.0  1.00  0.55476  0.28032  1.00000  1.00000\n12  1.0  1.00000  1.0  1.00000  1.0  1.00  1.00000  1.00000  1.00000  1.00000\n13  1.0  1.00000  1.0  1.00000  1.0  1.00  1.00000  1.00000  1.00000  1.00000\n14  1.0  1.00000  1.0  1.00000  1.0  1.00  1.00000  0.01560  1.00000  1.00000\n15  1.0  1.00000  1.0  1.00000  1.0  1.00  1.00000  0.30672  1.00000  1.00000"
         },
         "metadata": {},
         "output_type": "display_data"
        }
       ]
      }
     },
     "e39de1fc22394324b4423a5c003931b8": {
      "model_module": "@jupyter-widgets/controls",
      "model_module_version": "1.5.0",
      "model_name": "SliderStyleModel",
      "state": {
       "description_width": ""
      }
     },
     "e3b7de503e134e00a5b2c1201c257234": {
      "model_module": "@jupyter-widgets/controls",
      "model_module_version": "1.5.0",
      "model_name": "HTMLModel",
      "state": {
       "layout": "IPY_MODEL_2127737a24a34b929f375f061b0f2e71",
       "style": "IPY_MODEL_f841ee523ae74f68ba04620dfc5c554a"
      }
     },
     "e4187b1e9dec49be8c07d1a2f81fa66b": {
      "model_module": "@jupyter-widgets/controls",
      "model_module_version": "1.5.0",
      "model_name": "HTMLModel",
      "state": {
       "layout": "IPY_MODEL_121db3d77ade415c9ce5ffe2859bf36b",
       "placeholder": "",
       "style": "IPY_MODEL_52d86ee9b780425b96c3c81d51f221cc",
       "value": "<span style=\"margin-left:10px; color:orange;\">/mnt/sds/sd20i001/sven/code/dynamic-cmr-models/exp/p2p/dmd/jcmr/iso2_5_32_p2p/img05_flow01_msk1/ssimssim_grad_dice/2023-06-06_12_12_931970/df_DMD_time_p2p.csv</span>"
      }
     },
     "e45fdcac59eb46b5b4bf449080a5187d": {
      "model_module": "@jupyter-widgets/controls",
      "model_module_version": "1.5.0",
      "model_name": "FloatSliderModel",
      "state": {
       "description": "alpha0",
       "layout": "IPY_MODEL_84f38b84bb5244afb14462b7502b3218",
       "max": 0.15000000000000002,
       "min": -0.05,
       "step": 0.1,
       "style": "IPY_MODEL_e39de1fc22394324b4423a5c003931b8",
       "value": 0.05
      }
     },
     "e4c7a63187364020b9ceba4e2787de06": {
      "model_module": "@jupyter-widgets/controls",
      "model_module_version": "1.5.0",
      "model_name": "ButtonStyleModel",
      "state": {}
     },
     "e5050b23c2e14b9bb34651694f97d41f": {
      "model_module": "@jupyter-widgets/base",
      "model_module_version": "1.2.0",
      "model_name": "LayoutModel",
      "state": {
       "display": "none",
       "width": "auto"
      }
     },
     "e5410007a98d410d824e300aaa21172e": {
      "model_module": "@jupyter-widgets/base",
      "model_module_version": "1.2.0",
      "model_name": "LayoutModel",
      "state": {
       "display": "none",
       "width": "auto"
      }
     },
     "e6720122b1344822a80942e5d8a3f19e": {
      "model_module": "@jupyter-widgets/base",
      "model_module_version": "1.2.0",
      "model_name": "LayoutModel",
      "state": {
       "display": "none",
       "grid_gap": "0px 0px",
       "grid_template_areas": "\n                    'pathlist filename'\n                    'dircontent dircontent'\n                    ",
       "grid_template_columns": "60% 40%",
       "grid_template_rows": "auto auto",
       "width": "500px"
      }
     },
     "e6dd2f46d93d47c9a7ecb68b316c949d": {
      "model_module": "@jupyter-widgets/controls",
      "model_module_version": "1.5.0",
      "model_name": "ButtonModel",
      "state": {
       "description": "Change",
       "layout": "IPY_MODEL_eb834e6888184250be113a4827d5aedb",
       "style": "IPY_MODEL_c4109fdf7bb849f5a0b7042f9993ede0"
      }
     },
     "e81a2adc15354a96af6427b012f7dc5f": {
      "model_module": "@jupyter-widgets/controls",
      "model_module_version": "1.5.0",
      "model_name": "ButtonStyleModel",
      "state": {}
     },
     "e84fce2aff9148d59e3fdc2ffd9e16e0": {
      "model_module": "@jupyter-widgets/output",
      "model_module_version": "1.0.0",
      "model_name": "OutputModel",
      "state": {
       "layout": "IPY_MODEL_93109ce298e64511b21dc24ba87527a5",
       "outputs": [
        {
         "data": {
          "text/html": "<style type=\"text/css\">\n</style>\n<table id=\"T_7a32e\">\n  <thead>\n    <tr>\n      <th class=\"blank level0\" >&nbsp;</th>\n      <th id=\"T_7a32e_level0_col0\" class=\"col_heading level0 col0\" >0</th>\n      <th id=\"T_7a32e_level0_col1\" class=\"col_heading level0 col1\" >1</th>\n      <th id=\"T_7a32e_level0_col2\" class=\"col_heading level0 col2\" >2</th>\n      <th id=\"T_7a32e_level0_col3\" class=\"col_heading level0 col3\" >3</th>\n      <th id=\"T_7a32e_level0_col4\" class=\"col_heading level0 col4\" >4</th>\n      <th id=\"T_7a32e_level0_col5\" class=\"col_heading level0 col5\" >5</th>\n      <th id=\"T_7a32e_level0_col6\" class=\"col_heading level0 col6\" >6</th>\n      <th id=\"T_7a32e_level0_col7\" class=\"col_heading level0 col7\" >7</th>\n      <th id=\"T_7a32e_level0_col8\" class=\"col_heading level0 col8\" >8</th>\n      <th id=\"T_7a32e_level0_col9\" class=\"col_heading level0 col9\" >9</th>\n    </tr>\n  </thead>\n  <tbody>\n    <tr>\n      <th id=\"T_7a32e_level0_row0\" class=\"row_heading level0 row0\" >0</th>\n      <td id=\"T_7a32e_row0_col0\" class=\"data row0 col0\" >1.000000</td>\n      <td id=\"T_7a32e_row0_col1\" class=\"data row0 col1\" >1.000000</td>\n      <td id=\"T_7a32e_row0_col2\" class=\"data row0 col2\" >1.000000</td>\n      <td id=\"T_7a32e_row0_col3\" class=\"data row0 col3\" >1.000000</td>\n      <td id=\"T_7a32e_row0_col4\" class=\"data row0 col4\" >1.000000</td>\n      <td id=\"T_7a32e_row0_col5\" class=\"data row0 col5\" >1.000000</td>\n      <td id=\"T_7a32e_row0_col6\" class=\"data row0 col6\" >1.000000</td>\n      <td id=\"T_7a32e_row0_col7\" class=\"data row0 col7\" >1.000000</td>\n      <td id=\"T_7a32e_row0_col8\" class=\"data row0 col8\" >1.000000</td>\n      <td id=\"T_7a32e_row0_col9\" class=\"data row0 col9\" >1.000000</td>\n    </tr>\n    <tr>\n      <th id=\"T_7a32e_level0_row1\" class=\"row_heading level0 row1\" >1</th>\n      <td id=\"T_7a32e_row1_col0\" class=\"data row1 col0\" >1.000000</td>\n      <td id=\"T_7a32e_row1_col1\" class=\"data row1 col1\" >1.000000</td>\n      <td id=\"T_7a32e_row1_col2\" class=\"data row1 col2\" >1.000000</td>\n      <td id=\"T_7a32e_row1_col3\" class=\"data row1 col3\" >1.000000</td>\n      <td id=\"T_7a32e_row1_col4\" class=\"data row1 col4\" >1.000000</td>\n      <td id=\"T_7a32e_row1_col5\" class=\"data row1 col5\" >1.000000</td>\n      <td id=\"T_7a32e_row1_col6\" class=\"data row1 col6\" >1.000000</td>\n      <td id=\"T_7a32e_row1_col7\" class=\"data row1 col7\" >1.000000</td>\n      <td id=\"T_7a32e_row1_col8\" class=\"data row1 col8\" >1.000000</td>\n      <td id=\"T_7a32e_row1_col9\" class=\"data row1 col9\" >0.108040</td>\n    </tr>\n    <tr>\n      <th id=\"T_7a32e_level0_row2\" class=\"row_heading level0 row2\" >2</th>\n      <td id=\"T_7a32e_row2_col0\" class=\"data row2 col0\" >1.000000</td>\n      <td id=\"T_7a32e_row2_col1\" class=\"data row2 col1\" >1.000000</td>\n      <td id=\"T_7a32e_row2_col2\" class=\"data row2 col2\" >1.000000</td>\n      <td id=\"T_7a32e_row2_col3\" class=\"data row2 col3\" >1.000000</td>\n      <td id=\"T_7a32e_row2_col4\" class=\"data row2 col4\" >1.000000</td>\n      <td id=\"T_7a32e_row2_col5\" class=\"data row2 col5\" >1.000000</td>\n      <td id=\"T_7a32e_row2_col6\" class=\"data row2 col6\" >1.000000</td>\n      <td id=\"T_7a32e_row2_col7\" class=\"data row2 col7\" >1.000000</td>\n      <td id=\"T_7a32e_row2_col8\" class=\"data row2 col8\" >1.000000</td>\n      <td id=\"T_7a32e_row2_col9\" class=\"data row2 col9\" >1.000000</td>\n    </tr>\n    <tr>\n      <th id=\"T_7a32e_level0_row3\" class=\"row_heading level0 row3\" >3</th>\n      <td id=\"T_7a32e_row3_col0\" class=\"data row3 col0\" >1.000000</td>\n      <td id=\"T_7a32e_row3_col1\" class=\"data row3 col1\" >1.000000</td>\n      <td id=\"T_7a32e_row3_col2\" class=\"data row3 col2\" >1.000000</td>\n      <td id=\"T_7a32e_row3_col3\" class=\"data row3 col3\" >1.000000</td>\n      <td id=\"T_7a32e_row3_col4\" class=\"data row3 col4\" >1.000000</td>\n      <td id=\"T_7a32e_row3_col5\" class=\"data row3 col5\" >1.000000</td>\n      <td id=\"T_7a32e_row3_col6\" class=\"data row3 col6\" >1.000000</td>\n      <td id=\"T_7a32e_row3_col7\" class=\"data row3 col7\" >1.000000</td>\n      <td id=\"T_7a32e_row3_col8\" class=\"data row3 col8\" >1.000000</td>\n      <td id=\"T_7a32e_row3_col9\" class=\"data row3 col9\" >1.000000</td>\n    </tr>\n    <tr>\n      <th id=\"T_7a32e_level0_row4\" class=\"row_heading level0 row4\" >4</th>\n      <td id=\"T_7a32e_row4_col0\" class=\"data row4 col0\" >1.000000</td>\n      <td id=\"T_7a32e_row4_col1\" class=\"data row4 col1\" >0.432290</td>\n      <td id=\"T_7a32e_row4_col2\" class=\"data row4 col2\" >1.000000</td>\n      <td id=\"T_7a32e_row4_col3\" class=\"data row4 col3\" >0.079500</td>\n      <td id=\"T_7a32e_row4_col4\" class=\"data row4 col4\" >1.000000</td>\n      <td id=\"T_7a32e_row4_col5\" class=\"data row4 col5\" >1.000000</td>\n      <td id=\"T_7a32e_row4_col6\" class=\"data row4 col6\" >0.009420</td>\n      <td id=\"T_7a32e_row4_col7\" class=\"data row4 col7\" >0.000000</td>\n      <td id=\"T_7a32e_row4_col8\" class=\"data row4 col8\" >0.061910</td>\n      <td id=\"T_7a32e_row4_col9\" class=\"data row4 col9\" >0.021560</td>\n    </tr>\n    <tr>\n      <th id=\"T_7a32e_level0_row5\" class=\"row_heading level0 row5\" >5</th>\n      <td id=\"T_7a32e_row5_col0\" class=\"data row5 col0\" >1.000000</td>\n      <td id=\"T_7a32e_row5_col1\" class=\"data row5 col1\" >1.000000</td>\n      <td id=\"T_7a32e_row5_col2\" class=\"data row5 col2\" >1.000000</td>\n      <td id=\"T_7a32e_row5_col3\" class=\"data row5 col3\" >1.000000</td>\n      <td id=\"T_7a32e_row5_col4\" class=\"data row5 col4\" >1.000000</td>\n      <td id=\"T_7a32e_row5_col5\" class=\"data row5 col5\" >1.000000</td>\n      <td id=\"T_7a32e_row5_col6\" class=\"data row5 col6\" >0.047120</td>\n      <td id=\"T_7a32e_row5_col7\" class=\"data row5 col7\" >0.340800</td>\n      <td id=\"T_7a32e_row5_col8\" class=\"data row5 col8\" >0.098340</td>\n      <td id=\"T_7a32e_row5_col9\" class=\"data row5 col9\" >1.000000</td>\n    </tr>\n    <tr>\n      <th id=\"T_7a32e_level0_row6\" class=\"row_heading level0 row6\" >6</th>\n      <td id=\"T_7a32e_row6_col0\" class=\"data row6 col0\" >1.000000</td>\n      <td id=\"T_7a32e_row6_col1\" class=\"data row6 col1\" >1.000000</td>\n      <td id=\"T_7a32e_row6_col2\" class=\"data row6 col2\" >1.000000</td>\n      <td id=\"T_7a32e_row6_col3\" class=\"data row6 col3\" >1.000000</td>\n      <td id=\"T_7a32e_row6_col4\" class=\"data row6 col4\" >1.000000</td>\n      <td id=\"T_7a32e_row6_col5\" class=\"data row6 col5\" >0.680000</td>\n      <td id=\"T_7a32e_row6_col6\" class=\"data row6 col6\" >0.600060</td>\n      <td id=\"T_7a32e_row6_col7\" class=\"data row6 col7\" >0.195510</td>\n      <td id=\"T_7a32e_row6_col8\" class=\"data row6 col8\" >1.000000</td>\n      <td id=\"T_7a32e_row6_col9\" class=\"data row6 col9\" >0.369600</td>\n    </tr>\n    <tr>\n      <th id=\"T_7a32e_level0_row7\" class=\"row_heading level0 row7\" >7</th>\n      <td id=\"T_7a32e_row7_col0\" class=\"data row7 col0\" >1.000000</td>\n      <td id=\"T_7a32e_row7_col1\" class=\"data row7 col1\" >1.000000</td>\n      <td id=\"T_7a32e_row7_col2\" class=\"data row7 col2\" >1.000000</td>\n      <td id=\"T_7a32e_row7_col3\" class=\"data row7 col3\" >1.000000</td>\n      <td id=\"T_7a32e_row7_col4\" class=\"data row7 col4\" >1.000000</td>\n      <td id=\"T_7a32e_row7_col5\" class=\"data row7 col5\" >1.000000</td>\n      <td id=\"T_7a32e_row7_col6\" class=\"data row7 col6\" >1.000000</td>\n      <td id=\"T_7a32e_row7_col7\" class=\"data row7 col7\" >1.000000</td>\n      <td id=\"T_7a32e_row7_col8\" class=\"data row7 col8\" >1.000000</td>\n      <td id=\"T_7a32e_row7_col9\" class=\"data row7 col9\" >0.032130</td>\n    </tr>\n    <tr>\n      <th id=\"T_7a32e_level0_row8\" class=\"row_heading level0 row8\" >8</th>\n      <td id=\"T_7a32e_row8_col0\" class=\"data row8 col0\" >1.000000</td>\n      <td id=\"T_7a32e_row8_col1\" class=\"data row8 col1\" >1.000000</td>\n      <td id=\"T_7a32e_row8_col2\" class=\"data row8 col2\" >1.000000</td>\n      <td id=\"T_7a32e_row8_col3\" class=\"data row8 col3\" >0.326040</td>\n      <td id=\"T_7a32e_row8_col4\" class=\"data row8 col4\" >1.000000</td>\n      <td id=\"T_7a32e_row8_col5\" class=\"data row8 col5\" >1.000000</td>\n      <td id=\"T_7a32e_row8_col6\" class=\"data row8 col6\" >1.000000</td>\n      <td id=\"T_7a32e_row8_col7\" class=\"data row8 col7\" >1.000000</td>\n      <td id=\"T_7a32e_row8_col8\" class=\"data row8 col8\" >1.000000</td>\n      <td id=\"T_7a32e_row8_col9\" class=\"data row8 col9\" >0.703350</td>\n    </tr>\n    <tr>\n      <th id=\"T_7a32e_level0_row9\" class=\"row_heading level0 row9\" >9</th>\n      <td id=\"T_7a32e_row9_col0\" class=\"data row9 col0\" >1.000000</td>\n      <td id=\"T_7a32e_row9_col1\" class=\"data row9 col1\" >1.000000</td>\n      <td id=\"T_7a32e_row9_col2\" class=\"data row9 col2\" >1.000000</td>\n      <td id=\"T_7a32e_row9_col3\" class=\"data row9 col3\" >1.000000</td>\n      <td id=\"T_7a32e_row9_col4\" class=\"data row9 col4\" >1.000000</td>\n      <td id=\"T_7a32e_row9_col5\" class=\"data row9 col5\" >1.000000</td>\n      <td id=\"T_7a32e_row9_col6\" class=\"data row9 col6\" >1.000000</td>\n      <td id=\"T_7a32e_row9_col7\" class=\"data row9 col7\" >1.000000</td>\n      <td id=\"T_7a32e_row9_col8\" class=\"data row9 col8\" >1.000000</td>\n      <td id=\"T_7a32e_row9_col9\" class=\"data row9 col9\" >1.000000</td>\n    </tr>\n    <tr>\n      <th id=\"T_7a32e_level0_row10\" class=\"row_heading level0 row10\" >10</th>\n      <td id=\"T_7a32e_row10_col0\" class=\"data row10 col0\" >1.000000</td>\n      <td id=\"T_7a32e_row10_col1\" class=\"data row10 col1\" >0.718240</td>\n      <td id=\"T_7a32e_row10_col2\" class=\"data row10 col2\" >1.000000</td>\n      <td id=\"T_7a32e_row10_col3\" class=\"data row10 col3\" >0.341220</td>\n      <td id=\"T_7a32e_row10_col4\" class=\"data row10 col4\" >1.000000</td>\n      <td id=\"T_7a32e_row10_col5\" class=\"data row10 col5\" >1.000000</td>\n      <td id=\"T_7a32e_row10_col6\" class=\"data row10 col6\" >0.018600</td>\n      <td id=\"T_7a32e_row10_col7\" class=\"data row10 col7\" >0.001590</td>\n      <td id=\"T_7a32e_row10_col8\" class=\"data row10 col8\" >0.003160</td>\n      <td id=\"T_7a32e_row10_col9\" class=\"data row10 col9\" >0.292900</td>\n    </tr>\n    <tr>\n      <th id=\"T_7a32e_level0_row11\" class=\"row_heading level0 row11\" >11</th>\n      <td id=\"T_7a32e_row11_col0\" class=\"data row11 col0\" >1.000000</td>\n      <td id=\"T_7a32e_row11_col1\" class=\"data row11 col1\" >1.000000</td>\n      <td id=\"T_7a32e_row11_col2\" class=\"data row11 col2\" >1.000000</td>\n      <td id=\"T_7a32e_row11_col3\" class=\"data row11 col3\" >1.000000</td>\n      <td id=\"T_7a32e_row11_col4\" class=\"data row11 col4\" >1.000000</td>\n      <td id=\"T_7a32e_row11_col5\" class=\"data row11 col5\" >1.000000</td>\n      <td id=\"T_7a32e_row11_col6\" class=\"data row11 col6\" >0.554760</td>\n      <td id=\"T_7a32e_row11_col7\" class=\"data row11 col7\" >0.280320</td>\n      <td id=\"T_7a32e_row11_col8\" class=\"data row11 col8\" >1.000000</td>\n      <td id=\"T_7a32e_row11_col9\" class=\"data row11 col9\" >1.000000</td>\n    </tr>\n    <tr>\n      <th id=\"T_7a32e_level0_row12\" class=\"row_heading level0 row12\" >12</th>\n      <td id=\"T_7a32e_row12_col0\" class=\"data row12 col0\" >1.000000</td>\n      <td id=\"T_7a32e_row12_col1\" class=\"data row12 col1\" >1.000000</td>\n      <td id=\"T_7a32e_row12_col2\" class=\"data row12 col2\" >1.000000</td>\n      <td id=\"T_7a32e_row12_col3\" class=\"data row12 col3\" >1.000000</td>\n      <td id=\"T_7a32e_row12_col4\" class=\"data row12 col4\" >1.000000</td>\n      <td id=\"T_7a32e_row12_col5\" class=\"data row12 col5\" >1.000000</td>\n      <td id=\"T_7a32e_row12_col6\" class=\"data row12 col6\" >1.000000</td>\n      <td id=\"T_7a32e_row12_col7\" class=\"data row12 col7\" >1.000000</td>\n      <td id=\"T_7a32e_row12_col8\" class=\"data row12 col8\" >1.000000</td>\n      <td id=\"T_7a32e_row12_col9\" class=\"data row12 col9\" >1.000000</td>\n    </tr>\n    <tr>\n      <th id=\"T_7a32e_level0_row13\" class=\"row_heading level0 row13\" >13</th>\n      <td id=\"T_7a32e_row13_col0\" class=\"data row13 col0\" >1.000000</td>\n      <td id=\"T_7a32e_row13_col1\" class=\"data row13 col1\" >1.000000</td>\n      <td id=\"T_7a32e_row13_col2\" class=\"data row13 col2\" >1.000000</td>\n      <td id=\"T_7a32e_row13_col3\" class=\"data row13 col3\" >1.000000</td>\n      <td id=\"T_7a32e_row13_col4\" class=\"data row13 col4\" >1.000000</td>\n      <td id=\"T_7a32e_row13_col5\" class=\"data row13 col5\" >1.000000</td>\n      <td id=\"T_7a32e_row13_col6\" class=\"data row13 col6\" >1.000000</td>\n      <td id=\"T_7a32e_row13_col7\" class=\"data row13 col7\" >1.000000</td>\n      <td id=\"T_7a32e_row13_col8\" class=\"data row13 col8\" >1.000000</td>\n      <td id=\"T_7a32e_row13_col9\" class=\"data row13 col9\" >1.000000</td>\n    </tr>\n    <tr>\n      <th id=\"T_7a32e_level0_row14\" class=\"row_heading level0 row14\" >14</th>\n      <td id=\"T_7a32e_row14_col0\" class=\"data row14 col0\" >1.000000</td>\n      <td id=\"T_7a32e_row14_col1\" class=\"data row14 col1\" >1.000000</td>\n      <td id=\"T_7a32e_row14_col2\" class=\"data row14 col2\" >1.000000</td>\n      <td id=\"T_7a32e_row14_col3\" class=\"data row14 col3\" >1.000000</td>\n      <td id=\"T_7a32e_row14_col4\" class=\"data row14 col4\" >1.000000</td>\n      <td id=\"T_7a32e_row14_col5\" class=\"data row14 col5\" >1.000000</td>\n      <td id=\"T_7a32e_row14_col6\" class=\"data row14 col6\" >1.000000</td>\n      <td id=\"T_7a32e_row14_col7\" class=\"data row14 col7\" >0.015600</td>\n      <td id=\"T_7a32e_row14_col8\" class=\"data row14 col8\" >1.000000</td>\n      <td id=\"T_7a32e_row14_col9\" class=\"data row14 col9\" >1.000000</td>\n    </tr>\n    <tr>\n      <th id=\"T_7a32e_level0_row15\" class=\"row_heading level0 row15\" >15</th>\n      <td id=\"T_7a32e_row15_col0\" class=\"data row15 col0\" >1.000000</td>\n      <td id=\"T_7a32e_row15_col1\" class=\"data row15 col1\" >1.000000</td>\n      <td id=\"T_7a32e_row15_col2\" class=\"data row15 col2\" >1.000000</td>\n      <td id=\"T_7a32e_row15_col3\" class=\"data row15 col3\" >1.000000</td>\n      <td id=\"T_7a32e_row15_col4\" class=\"data row15 col4\" >1.000000</td>\n      <td id=\"T_7a32e_row15_col5\" class=\"data row15 col5\" >1.000000</td>\n      <td id=\"T_7a32e_row15_col6\" class=\"data row15 col6\" >1.000000</td>\n      <td id=\"T_7a32e_row15_col7\" class=\"data row15 col7\" >0.306720</td>\n      <td id=\"T_7a32e_row15_col8\" class=\"data row15 col8\" >1.000000</td>\n      <td id=\"T_7a32e_row15_col9\" class=\"data row15 col9\" >1.000000</td>\n    </tr>\n  </tbody>\n</table>\n",
          "text/plain": "<pandas.io.formats.style.Styler at 0x7f77776f0100>"
         },
         "metadata": {},
         "output_type": "display_data"
        }
       ]
      }
     },
     "e86d7285c2c345f7a8bc49aa283b51f5": {
      "model_module": "@jupyter-widgets/base",
      "model_module_version": "1.2.0",
      "model_name": "LayoutModel",
      "state": {
       "grid_area": "filename",
       "width": "auto"
      }
     },
     "e9236f93202c4f63a31e0169bb5fa463": {
      "model_module": "@jupyter-widgets/base",
      "model_module_version": "1.2.0",
      "model_name": "LayoutModel",
      "state": {}
     },
     "e932a6a488b248538de885eba308d140": {
      "model_module": "@jupyter-widgets/base",
      "model_module_version": "1.2.0",
      "model_name": "LayoutModel",
      "state": {
       "width": "auto"
      }
     },
     "e93e446f2faf40a4a292d679d0c53a93": {
      "model_module": "@jupyter-widgets/controls",
      "model_module_version": "1.5.0",
      "model_name": "SelectModel",
      "state": {
       "_options_labels": [
        "..",
        "f0",
        "f1",
        "f2",
        "f3",
        "gt_m",
        "pred",
        "pred_m",
        "Log_errors.log",
        "df_DMD_time_ed2p.csv",
        "df_DMD_time_p2p.csv",
        "model.png",
        "model_summary.txt"
       ],
       "index": 10,
       "layout": "IPY_MODEL_f6bfb767a0ca475d9ada075dce4e6df7",
       "rows": 8,
       "style": "IPY_MODEL_563e3c66765f49a895b7e11c024de696"
      }
     },
     "e9401c0607ef4b42a0f07224bad366e3": {
      "model_module": "@jupyter-widgets/base",
      "model_module_version": "1.2.0",
      "model_name": "LayoutModel",
      "state": {
       "grid_area": "filename",
       "width": "auto"
      }
     },
     "eafb8a2ad3b44a5a9caa593bd145e989": {
      "model_module": "@jupyter-widgets/base",
      "model_module_version": "1.2.0",
      "model_name": "LayoutModel",
      "state": {
       "grid_area": "dircontent",
       "width": "auto"
      }
     },
     "eb82fda458974ec6b7457641f4729de4": {
      "model_module": "@jupyter-widgets/base",
      "model_module_version": "1.2.0",
      "model_name": "LayoutModel",
      "state": {
       "grid_area": "dircontent",
       "width": "auto"
      }
     },
     "eb834e6888184250be113a4827d5aedb": {
      "model_module": "@jupyter-widgets/base",
      "model_module_version": "1.2.0",
      "model_name": "LayoutModel",
      "state": {
       "width": "auto"
      }
     },
     "ebad766f2c0d4059965046e98ce3f640": {
      "model_module": "@jupyter-widgets/controls",
      "model_module_version": "1.5.0",
      "model_name": "ButtonModel",
      "state": {
       "description": "Change",
       "layout": "IPY_MODEL_5063dd8bd78147b190e6ae6ee86e6a70",
       "style": "IPY_MODEL_2eb2d530baf84868b52490586c963d01"
      }
     },
     "ebbd70d3001c4a889c788d912e541de7": {
      "model_module": "@jupyter-widgets/controls",
      "model_module_version": "1.5.0",
      "model_name": "DescriptionStyleModel",
      "state": {
       "description_width": ""
      }
     },
     "ec0a7a5072f24a269d1d694201d64bae": {
      "model_module": "@jupyter-widgets/controls",
      "model_module_version": "1.5.0",
      "model_name": "HTMLModel",
      "state": {
       "layout": "IPY_MODEL_010c068475cb453ba13566b305e41825",
       "placeholder": "",
       "style": "IPY_MODEL_e22fc5bf083349ec9c73e1b1716152ad",
       "value": "<span style=\"margin-left:10px; color:orange;\">/mnt/sds/sd20i001/sven/code/dynamic-cmr-models/exp/p2p/dmd/jcmr/iso2_5_32_p2p/img05_flow01_msk1/ssimssim_grad_dice/2023-06-06_12_12_931970/df_DMD_time_ed2p.csv</span>"
      }
     },
     "ec162f9e591444648d85423bc7b57265": {
      "model_module": "@jupyter-widgets/base",
      "model_module_version": "1.2.0",
      "model_name": "LayoutModel",
      "state": {}
     },
     "eca14a99d9d44c6098a2dd7919cb9796": {
      "model_module": "@jupyter-widgets/base",
      "model_module_version": "1.2.0",
      "model_name": "LayoutModel",
      "state": {}
     },
     "ecbef5e2aa954970bcd1403f7b37fe51": {
      "model_module": "@jupyter-widgets/base",
      "model_module_version": "1.2.0",
      "model_name": "LayoutModel",
      "state": {
       "grid_area": "pathlist",
       "width": "auto"
      }
     },
     "ece8c00068b44140811932e8109fa5f8": {
      "model_module": "@jupyter-widgets/controls",
      "model_module_version": "1.5.0",
      "model_name": "DescriptionStyleModel",
      "state": {
       "description_width": ""
      }
     },
     "edd80d9f3d384b5eb7368ffaf11a8042": {
      "model_module": "@jupyter-widgets/base",
      "model_module_version": "1.2.0",
      "model_name": "LayoutModel",
      "state": {
       "grid_area": "pathlist",
       "width": "auto"
      }
     },
     "ee47a826961841e6ae63e2e4b13747d7": {
      "model_module": "@jupyter-widgets/base",
      "model_module_version": "1.2.0",
      "model_name": "LayoutModel",
      "state": {
       "grid_area": "dircontent",
       "width": "auto"
      }
     },
     "eff34184d04847f18dd435853001bfc8": {
      "model_module": "@jupyter-widgets/controls",
      "model_module_version": "1.5.0",
      "model_name": "ButtonStyleModel",
      "state": {}
     },
     "f079902bae6b4a0aaa4f36afc4ea5691": {
      "model_module": "@jupyter-widgets/controls",
      "model_module_version": "1.5.0",
      "model_name": "ButtonStyleModel",
      "state": {}
     },
     "f2efb76438e245fc968379a24c936fac": {
      "model_module": "@jupyter-widgets/controls",
      "model_module_version": "1.5.0",
      "model_name": "TextModel",
      "state": {
       "description": "alpha0",
       "layout": "IPY_MODEL_52cae245b43845cf9b9ff346f50f27e8",
       "style": "IPY_MODEL_c6d32e127db84d5bb7ecf343da5e30e0",
       "value": "0.05"
      }
     },
     "f47deed39def4f40a041c902c9bd1e93": {
      "model_module": "@jupyter-widgets/base",
      "model_module_version": "1.2.0",
      "model_name": "LayoutModel",
      "state": {
       "grid_area": "pathlist",
       "width": "auto"
      }
     },
     "f4eede8ca5794b54bfaf027c18944b8e": {
      "model_module": "@jupyter-widgets/controls",
      "model_module_version": "1.5.0",
      "model_name": "HBoxModel",
      "state": {
       "children": [
        "IPY_MODEL_61c9921012a745828461ba0af013df43",
        "IPY_MODEL_92c9648d617c49d9bb66a3e6ca77f015",
        "IPY_MODEL_a98cd28d8eba48389d6d33a5bd0f8dad"
       ],
       "layout": "IPY_MODEL_d68a79960bbe4a81aa59bdb5e7eed9c9"
      }
     },
     "f60d14fcbcb34a93bbfa1acc0df7d3cb": {
      "model_module": "@jupyter-widgets/controls",
      "model_module_version": "1.5.0",
      "model_name": "ButtonModel",
      "state": {
       "description": "Change",
       "layout": "IPY_MODEL_d2815a0a132f47a7bf65cf3600ae255d",
       "style": "IPY_MODEL_6799131a06f84e77b5cc16ed72d40eae"
      }
     },
     "f6bfb767a0ca475d9ada075dce4e6df7": {
      "model_module": "@jupyter-widgets/base",
      "model_module_version": "1.2.0",
      "model_name": "LayoutModel",
      "state": {
       "grid_area": "dircontent",
       "width": "auto"
      }
     },
     "f74765fb4c8c49e19c41eb97f335a6e6": {
      "model_module": "@jupyter-widgets/output",
      "model_module_version": "1.0.0",
      "model_name": "OutputModel",
      "state": {
       "layout": "IPY_MODEL_69e563da17a74f55b12dbb4da7a98a53",
       "outputs": [
        {
         "name": "stdout",
         "output_type": "stream",
         "text": "RS strain in phase: ED - significant AHA segments: []\nRS strain in phase: MS - significant AHA segments: []\nRS strain in phase: ES - significant AHA segments: []\nRS strain in phase: PF - significant AHA segments: []\nRS strain in phase: MD - significant AHA segments: []\nCS strain in phase: ED - significant AHA segments: []\nCS strain in phase: MS - significant AHA segments: [4, 5, 10]\nCS strain in phase: ES - significant AHA segments: [4, 5, 10, 11, 14]\nCS strain in phase: PF - significant AHA segments: []\nCS strain in phase: MD - significant AHA segments: []\n"
        },
        {
         "data": {
          "text/html": "<div>\n<style scoped>\n    .dataframe tbody tr th:only-of-type {\n        vertical-align: middle;\n    }\n\n    .dataframe tbody tr th {\n        vertical-align: top;\n    }\n\n    .dataframe thead th {\n        text-align: right;\n    }\n</style>\n<table border=\"1\" class=\"dataframe\">\n  <thead>\n    <tr style=\"text-align: right;\">\n      <th></th>\n      <th>0</th>\n      <th>1</th>\n      <th>2</th>\n      <th>3</th>\n      <th>4</th>\n      <th>5</th>\n      <th>6</th>\n      <th>7</th>\n      <th>8</th>\n      <th>9</th>\n    </tr>\n  </thead>\n  <tbody>\n    <tr>\n      <th>0</th>\n      <td>1.0</td>\n      <td>1.00000</td>\n      <td>1.00000</td>\n      <td>1.0</td>\n      <td>1.0</td>\n      <td>1.0</td>\n      <td>1.00000</td>\n      <td>1.00000</td>\n      <td>1.00000</td>\n      <td>1.0</td>\n    </tr>\n    <tr>\n      <th>1</th>\n      <td>1.0</td>\n      <td>1.00000</td>\n      <td>1.00000</td>\n      <td>1.0</td>\n      <td>1.0</td>\n      <td>1.0</td>\n      <td>1.00000</td>\n      <td>1.00000</td>\n      <td>1.00000</td>\n      <td>1.0</td>\n    </tr>\n    <tr>\n      <th>2</th>\n      <td>1.0</td>\n      <td>1.00000</td>\n      <td>1.00000</td>\n      <td>1.0</td>\n      <td>1.0</td>\n      <td>1.0</td>\n      <td>1.00000</td>\n      <td>1.00000</td>\n      <td>1.00000</td>\n      <td>1.0</td>\n    </tr>\n    <tr>\n      <th>3</th>\n      <td>1.0</td>\n      <td>1.00000</td>\n      <td>1.00000</td>\n      <td>1.0</td>\n      <td>1.0</td>\n      <td>1.0</td>\n      <td>1.00000</td>\n      <td>1.00000</td>\n      <td>1.00000</td>\n      <td>1.0</td>\n    </tr>\n    <tr>\n      <th>4</th>\n      <td>1.0</td>\n      <td>0.36112</td>\n      <td>1.00000</td>\n      <td>1.0</td>\n      <td>1.0</td>\n      <td>1.0</td>\n      <td>0.00785</td>\n      <td>0.00000</td>\n      <td>1.00000</td>\n      <td>1.0</td>\n    </tr>\n    <tr>\n      <th>5</th>\n      <td>1.0</td>\n      <td>1.00000</td>\n      <td>1.00000</td>\n      <td>1.0</td>\n      <td>1.0</td>\n      <td>1.0</td>\n      <td>0.03978</td>\n      <td>0.02170</td>\n      <td>1.00000</td>\n      <td>1.0</td>\n    </tr>\n    <tr>\n      <th>6</th>\n      <td>1.0</td>\n      <td>1.00000</td>\n      <td>1.00000</td>\n      <td>1.0</td>\n      <td>1.0</td>\n      <td>1.0</td>\n      <td>0.54537</td>\n      <td>0.05624</td>\n      <td>0.24300</td>\n      <td>1.0</td>\n    </tr>\n    <tr>\n      <th>7</th>\n      <td>1.0</td>\n      <td>1.00000</td>\n      <td>1.00000</td>\n      <td>1.0</td>\n      <td>1.0</td>\n      <td>1.0</td>\n      <td>1.00000</td>\n      <td>1.00000</td>\n      <td>1.00000</td>\n      <td>1.0</td>\n    </tr>\n    <tr>\n      <th>8</th>\n      <td>1.0</td>\n      <td>1.00000</td>\n      <td>1.00000</td>\n      <td>1.0</td>\n      <td>1.0</td>\n      <td>1.0</td>\n      <td>1.00000</td>\n      <td>1.00000</td>\n      <td>0.09362</td>\n      <td>1.0</td>\n    </tr>\n    <tr>\n      <th>9</th>\n      <td>1.0</td>\n      <td>1.00000</td>\n      <td>1.00000</td>\n      <td>1.0</td>\n      <td>1.0</td>\n      <td>1.0</td>\n      <td>1.00000</td>\n      <td>1.00000</td>\n      <td>1.00000</td>\n      <td>1.0</td>\n    </tr>\n    <tr>\n      <th>10</th>\n      <td>1.0</td>\n      <td>0.82512</td>\n      <td>1.00000</td>\n      <td>1.0</td>\n      <td>1.0</td>\n      <td>1.0</td>\n      <td>0.01248</td>\n      <td>0.00000</td>\n      <td>1.00000</td>\n      <td>1.0</td>\n    </tr>\n    <tr>\n      <th>11</th>\n      <td>1.0</td>\n      <td>1.00000</td>\n      <td>0.57086</td>\n      <td>1.0</td>\n      <td>1.0</td>\n      <td>1.0</td>\n      <td>0.62350</td>\n      <td>0.00158</td>\n      <td>1.00000</td>\n      <td>1.0</td>\n    </tr>\n    <tr>\n      <th>12</th>\n      <td>1.0</td>\n      <td>1.00000</td>\n      <td>1.00000</td>\n      <td>1.0</td>\n      <td>1.0</td>\n      <td>1.0</td>\n      <td>1.00000</td>\n      <td>1.00000</td>\n      <td>1.00000</td>\n      <td>1.0</td>\n    </tr>\n    <tr>\n      <th>13</th>\n      <td>1.0</td>\n      <td>1.00000</td>\n      <td>1.00000</td>\n      <td>1.0</td>\n      <td>1.0</td>\n      <td>1.0</td>\n      <td>1.00000</td>\n      <td>1.00000</td>\n      <td>1.00000</td>\n      <td>1.0</td>\n    </tr>\n    <tr>\n      <th>14</th>\n      <td>1.0</td>\n      <td>1.00000</td>\n      <td>1.00000</td>\n      <td>1.0</td>\n      <td>1.0</td>\n      <td>1.0</td>\n      <td>1.00000</td>\n      <td>0.02926</td>\n      <td>1.00000</td>\n      <td>1.0</td>\n    </tr>\n    <tr>\n      <th>15</th>\n      <td>1.0</td>\n      <td>1.00000</td>\n      <td>1.00000</td>\n      <td>1.0</td>\n      <td>1.0</td>\n      <td>1.0</td>\n      <td>1.00000</td>\n      <td>0.26522</td>\n      <td>1.00000</td>\n      <td>1.0</td>\n    </tr>\n  </tbody>\n</table>\n</div>",
          "text/plain": "      0        1        2    3    4    5        6        7        8    9\n0   1.0  1.00000  1.00000  1.0  1.0  1.0  1.00000  1.00000  1.00000  1.0\n1   1.0  1.00000  1.00000  1.0  1.0  1.0  1.00000  1.00000  1.00000  1.0\n2   1.0  1.00000  1.00000  1.0  1.0  1.0  1.00000  1.00000  1.00000  1.0\n3   1.0  1.00000  1.00000  1.0  1.0  1.0  1.00000  1.00000  1.00000  1.0\n4   1.0  0.36112  1.00000  1.0  1.0  1.0  0.00785  0.00000  1.00000  1.0\n5   1.0  1.00000  1.00000  1.0  1.0  1.0  0.03978  0.02170  1.00000  1.0\n6   1.0  1.00000  1.00000  1.0  1.0  1.0  0.54537  0.05624  0.24300  1.0\n7   1.0  1.00000  1.00000  1.0  1.0  1.0  1.00000  1.00000  1.00000  1.0\n8   1.0  1.00000  1.00000  1.0  1.0  1.0  1.00000  1.00000  0.09362  1.0\n9   1.0  1.00000  1.00000  1.0  1.0  1.0  1.00000  1.00000  1.00000  1.0\n10  1.0  0.82512  1.00000  1.0  1.0  1.0  0.01248  0.00000  1.00000  1.0\n11  1.0  1.00000  0.57086  1.0  1.0  1.0  0.62350  0.00158  1.00000  1.0\n12  1.0  1.00000  1.00000  1.0  1.0  1.0  1.00000  1.00000  1.00000  1.0\n13  1.0  1.00000  1.00000  1.0  1.0  1.0  1.00000  1.00000  1.00000  1.0\n14  1.0  1.00000  1.00000  1.0  1.0  1.0  1.00000  0.02926  1.00000  1.0\n15  1.0  1.00000  1.00000  1.0  1.0  1.0  1.00000  0.26522  1.00000  1.0"
         },
         "metadata": {},
         "output_type": "display_data"
        }
       ]
      }
     },
     "f754b53abc3446149d6b92623dc48383": {
      "model_module": "@jupyter-widgets/controls",
      "model_module_version": "1.5.0",
      "model_name": "DescriptionStyleModel",
      "state": {
       "description_width": ""
      }
     },
     "f776a11a88ee40d9a0070d5690833c63": {
      "model_module": "@jupyter-widgets/controls",
      "model_module_version": "1.5.0",
      "model_name": "HBoxModel",
      "state": {
       "children": [
        "IPY_MODEL_aae284fa365a42e7b6031050c21fd532",
        "IPY_MODEL_97a55722c0ea42009756b1a46e1c24ef",
        "IPY_MODEL_386e71f5bf9a45869615281008d7aad6"
       ],
       "layout": "IPY_MODEL_92b6a80ce40b4406a2815545e8792d96"
      }
     },
     "f7f37d4df99d40bdac4c79092835b027": {
      "model_module": "@jupyter-widgets/output",
      "model_module_version": "1.0.0",
      "model_name": "OutputModel",
      "state": {
       "layout": "IPY_MODEL_37959304862e45b881e2d809cdc64557",
       "outputs": [
        {
         "name": "stdout",
         "output_type": "stream",
         "text": "CS strain in phase: MS - significant AHA segments: [4, 5, 10]\nCS strain in phase: ES - significant AHA segments: [4, 10, 14]\nCS strain in phase: PF - significant AHA segments: [10]\nCS strain in phase: MD - significant AHA segments: [4, 7]\n"
        },
        {
         "data": {
          "text/html": "<div>\n<style scoped>\n    .dataframe tbody tr th:only-of-type {\n        vertical-align: middle;\n    }\n\n    .dataframe tbody tr th {\n        vertical-align: top;\n    }\n\n    .dataframe thead th {\n        text-align: right;\n    }\n</style>\n<table border=\"1\" class=\"dataframe\">\n  <thead>\n    <tr style=\"text-align: right;\">\n      <th></th>\n      <th>0</th>\n      <th>1</th>\n      <th>2</th>\n      <th>3</th>\n      <th>4</th>\n      <th>5</th>\n      <th>6</th>\n      <th>7</th>\n      <th>8</th>\n      <th>9</th>\n    </tr>\n  </thead>\n  <tbody>\n    <tr>\n      <th>0</th>\n      <td>1.0</td>\n      <td>1.00000</td>\n      <td>1.0</td>\n      <td>1.00000</td>\n      <td>1.0</td>\n      <td>1.00</td>\n      <td>1.00000</td>\n      <td>1.00000</td>\n      <td>1.00000</td>\n      <td>1.00000</td>\n    </tr>\n    <tr>\n      <th>1</th>\n      <td>1.0</td>\n      <td>1.00000</td>\n      <td>1.0</td>\n      <td>1.00000</td>\n      <td>1.0</td>\n      <td>1.00</td>\n      <td>1.00000</td>\n      <td>1.00000</td>\n      <td>1.00000</td>\n      <td>0.10804</td>\n    </tr>\n    <tr>\n      <th>2</th>\n      <td>1.0</td>\n      <td>1.00000</td>\n      <td>1.0</td>\n      <td>1.00000</td>\n      <td>1.0</td>\n      <td>1.00</td>\n      <td>1.00000</td>\n      <td>1.00000</td>\n      <td>1.00000</td>\n      <td>1.00000</td>\n    </tr>\n    <tr>\n      <th>3</th>\n      <td>1.0</td>\n      <td>1.00000</td>\n      <td>1.0</td>\n      <td>1.00000</td>\n      <td>1.0</td>\n      <td>1.00</td>\n      <td>1.00000</td>\n      <td>1.00000</td>\n      <td>1.00000</td>\n      <td>1.00000</td>\n    </tr>\n    <tr>\n      <th>4</th>\n      <td>1.0</td>\n      <td>0.43229</td>\n      <td>1.0</td>\n      <td>0.07950</td>\n      <td>1.0</td>\n      <td>1.00</td>\n      <td>0.00942</td>\n      <td>0.00000</td>\n      <td>0.06191</td>\n      <td>0.02156</td>\n    </tr>\n    <tr>\n      <th>5</th>\n      <td>1.0</td>\n      <td>1.00000</td>\n      <td>1.0</td>\n      <td>1.00000</td>\n      <td>1.0</td>\n      <td>1.00</td>\n      <td>0.04712</td>\n      <td>0.34080</td>\n      <td>0.09834</td>\n      <td>1.00000</td>\n    </tr>\n    <tr>\n      <th>6</th>\n      <td>1.0</td>\n      <td>1.00000</td>\n      <td>1.0</td>\n      <td>1.00000</td>\n      <td>1.0</td>\n      <td>0.68</td>\n      <td>0.60006</td>\n      <td>0.19551</td>\n      <td>1.00000</td>\n      <td>0.36960</td>\n    </tr>\n    <tr>\n      <th>7</th>\n      <td>1.0</td>\n      <td>1.00000</td>\n      <td>1.0</td>\n      <td>1.00000</td>\n      <td>1.0</td>\n      <td>1.00</td>\n      <td>1.00000</td>\n      <td>1.00000</td>\n      <td>1.00000</td>\n      <td>0.03213</td>\n    </tr>\n    <tr>\n      <th>8</th>\n      <td>1.0</td>\n      <td>1.00000</td>\n      <td>1.0</td>\n      <td>0.32604</td>\n      <td>1.0</td>\n      <td>1.00</td>\n      <td>1.00000</td>\n      <td>1.00000</td>\n      <td>1.00000</td>\n      <td>0.70335</td>\n    </tr>\n    <tr>\n      <th>9</th>\n      <td>1.0</td>\n      <td>1.00000</td>\n      <td>1.0</td>\n      <td>1.00000</td>\n      <td>1.0</td>\n      <td>1.00</td>\n      <td>1.00000</td>\n      <td>1.00000</td>\n      <td>1.00000</td>\n      <td>1.00000</td>\n    </tr>\n    <tr>\n      <th>10</th>\n      <td>1.0</td>\n      <td>0.71824</td>\n      <td>1.0</td>\n      <td>0.34122</td>\n      <td>1.0</td>\n      <td>1.00</td>\n      <td>0.01860</td>\n      <td>0.00159</td>\n      <td>0.00316</td>\n      <td>0.29290</td>\n    </tr>\n    <tr>\n      <th>11</th>\n      <td>1.0</td>\n      <td>1.00000</td>\n      <td>1.0</td>\n      <td>1.00000</td>\n      <td>1.0</td>\n      <td>1.00</td>\n      <td>0.55476</td>\n      <td>0.28032</td>\n      <td>1.00000</td>\n      <td>1.00000</td>\n    </tr>\n    <tr>\n      <th>12</th>\n      <td>1.0</td>\n      <td>1.00000</td>\n      <td>1.0</td>\n      <td>1.00000</td>\n      <td>1.0</td>\n      <td>1.00</td>\n      <td>1.00000</td>\n      <td>1.00000</td>\n      <td>1.00000</td>\n      <td>1.00000</td>\n    </tr>\n    <tr>\n      <th>13</th>\n      <td>1.0</td>\n      <td>1.00000</td>\n      <td>1.0</td>\n      <td>1.00000</td>\n      <td>1.0</td>\n      <td>1.00</td>\n      <td>1.00000</td>\n      <td>1.00000</td>\n      <td>1.00000</td>\n      <td>1.00000</td>\n    </tr>\n    <tr>\n      <th>14</th>\n      <td>1.0</td>\n      <td>1.00000</td>\n      <td>1.0</td>\n      <td>1.00000</td>\n      <td>1.0</td>\n      <td>1.00</td>\n      <td>1.00000</td>\n      <td>0.01560</td>\n      <td>1.00000</td>\n      <td>1.00000</td>\n    </tr>\n    <tr>\n      <th>15</th>\n      <td>1.0</td>\n      <td>1.00000</td>\n      <td>1.0</td>\n      <td>1.00000</td>\n      <td>1.0</td>\n      <td>1.00</td>\n      <td>1.00000</td>\n      <td>0.30672</td>\n      <td>1.00000</td>\n      <td>1.00000</td>\n    </tr>\n  </tbody>\n</table>\n</div>",
          "text/plain": "      0        1    2        3    4     5        6        7        8        9\n0   1.0  1.00000  1.0  1.00000  1.0  1.00  1.00000  1.00000  1.00000  1.00000\n1   1.0  1.00000  1.0  1.00000  1.0  1.00  1.00000  1.00000  1.00000  0.10804\n2   1.0  1.00000  1.0  1.00000  1.0  1.00  1.00000  1.00000  1.00000  1.00000\n3   1.0  1.00000  1.0  1.00000  1.0  1.00  1.00000  1.00000  1.00000  1.00000\n4   1.0  0.43229  1.0  0.07950  1.0  1.00  0.00942  0.00000  0.06191  0.02156\n5   1.0  1.00000  1.0  1.00000  1.0  1.00  0.04712  0.34080  0.09834  1.00000\n6   1.0  1.00000  1.0  1.00000  1.0  0.68  0.60006  0.19551  1.00000  0.36960\n7   1.0  1.00000  1.0  1.00000  1.0  1.00  1.00000  1.00000  1.00000  0.03213\n8   1.0  1.00000  1.0  0.32604  1.0  1.00  1.00000  1.00000  1.00000  0.70335\n9   1.0  1.00000  1.0  1.00000  1.0  1.00  1.00000  1.00000  1.00000  1.00000\n10  1.0  0.71824  1.0  0.34122  1.0  1.00  0.01860  0.00159  0.00316  0.29290\n11  1.0  1.00000  1.0  1.00000  1.0  1.00  0.55476  0.28032  1.00000  1.00000\n12  1.0  1.00000  1.0  1.00000  1.0  1.00  1.00000  1.00000  1.00000  1.00000\n13  1.0  1.00000  1.0  1.00000  1.0  1.00  1.00000  1.00000  1.00000  1.00000\n14  1.0  1.00000  1.0  1.00000  1.0  1.00  1.00000  0.01560  1.00000  1.00000\n15  1.0  1.00000  1.0  1.00000  1.0  1.00  1.00000  0.30672  1.00000  1.00000"
         },
         "metadata": {},
         "output_type": "display_data"
        }
       ]
      }
     },
     "f841ee523ae74f68ba04620dfc5c554a": {
      "model_module": "@jupyter-widgets/controls",
      "model_module_version": "1.5.0",
      "model_name": "DescriptionStyleModel",
      "state": {
       "description_width": ""
      }
     },
     "f876f715a16642458c52220ca7e85daf": {
      "model_module": "@jupyter-widgets/base",
      "model_module_version": "1.2.0",
      "model_name": "LayoutModel",
      "state": {}
     },
     "f8a5302cfcd542109a0f9a02aaaff9f3": {
      "model_module": "@jupyter-widgets/base",
      "model_module_version": "1.2.0",
      "model_name": "LayoutModel",
      "state": {
       "grid_area": "dircontent",
       "width": "auto"
      }
     },
     "f9ab0683956243358124441eb22bf893": {
      "model_module": "@jupyter-widgets/base",
      "model_module_version": "1.2.0",
      "model_name": "LayoutModel",
      "state": {
       "width": "auto"
      }
     },
     "f9f94a133b034cdaaae65ed9a5ca6302": {
      "model_module": "@jupyter-widgets/controls",
      "model_module_version": "1.5.0",
      "model_name": "DescriptionStyleModel",
      "state": {
       "description_width": ""
      }
     },
     "fa4a5eb29ce54a7ab266fe85ddd18dc8": {
      "model_module": "@jupyter-widgets/base",
      "model_module_version": "1.2.0",
      "model_name": "LayoutModel",
      "state": {
       "width": "auto"
      }
     },
     "fa8ec2b182cb4b8bba4b53719369208b": {
      "model_module": "@jupyter-widgets/controls",
      "model_module_version": "1.5.0",
      "model_name": "DropdownModel",
      "state": {
       "_options_labels": [
        "/mnt/sds/sd20i001/sven/code/dynamic-cmr-models/exp/p2p/dmd/jcmr/iso2_5_32_p2p/img05_flow01_msk1/ssimssim_grad_dice",
        "/mnt/sds/sd20i001/sven/code/dynamic-cmr-models/exp/p2p/dmd/jcmr/iso2_5_32_p2p/img05_flow01_msk1",
        "/mnt/sds/sd20i001/sven/code/dynamic-cmr-models/exp/p2p/dmd/jcmr/iso2_5_32_p2p",
        "/mnt/sds/sd20i001/sven/code/dynamic-cmr-models/exp/p2p/dmd/jcmr",
        "/mnt/sds/sd20i001/sven/code/dynamic-cmr-models/exp/p2p/dmd",
        "/mnt/sds/sd20i001/sven/code/dynamic-cmr-models/exp/p2p",
        "/mnt/sds/sd20i001/sven/code/dynamic-cmr-models/exp",
        "/mnt/sds/sd20i001/sven/code/dynamic-cmr-models",
        "/mnt/sds/sd20i001/sven/code",
        "/mnt/sds/sd20i001/sven",
        "/mnt/sds/sd20i001",
        "/mnt/sds",
        "/mnt",
        "/"
       ],
       "index": 0,
       "layout": "IPY_MODEL_18e4725c6dbf41e38272c9b80dad0d83",
       "style": "IPY_MODEL_0de6ccc4d867421baf299a6097df958c"
      }
     },
     "fabc48ced4e64888b11b3dd2e94d847f": {
      "model_module": "@jupyter-widgets/controls",
      "model_module_version": "1.5.0",
      "model_name": "VBoxModel",
      "state": {
       "_dom_classes": [
        "widget-interact"
       ],
       "children": [
        "IPY_MODEL_1e47f27199ee49e690be19d3d24696de",
        "IPY_MODEL_3bbb5ed543b24b478790cddf763479ff",
        "IPY_MODEL_ce437062db02414491fb6e2ac714154e"
       ],
       "layout": "IPY_MODEL_874931c9784f437cbbcfe55d6af1b166"
      }
     },
     "fade27808c2f48d78432f29cd8813723": {
      "model_module": "@jupyter-widgets/base",
      "model_module_version": "1.2.0",
      "model_name": "LayoutModel",
      "state": {
       "width": "auto"
      }
     },
     "faf38b24cad44b64bb6fc90c1a408581": {
      "model_module": "@jupyter-widgets/controls",
      "model_module_version": "1.5.0",
      "model_name": "DescriptionStyleModel",
      "state": {
       "description_width": ""
      }
     },
     "fc8932e631844c09802b798fbf311139": {
      "model_module": "@jupyter-widgets/base",
      "model_module_version": "1.2.0",
      "model_name": "LayoutModel",
      "state": {
       "width": "auto"
      }
     },
     "fce9cb0bdd5c4039932207b8060ac9ed": {
      "model_module": "@jupyter-widgets/controls",
      "model_module_version": "1.5.0",
      "model_name": "DropdownModel",
      "state": {
       "_options_labels": [
        "/mnt/sds/sd20i001/sven/code/dynamic-cmr-models/exp/p2p/dmd/jcmr/iso2_5_32_p2p/img05_flow01_msk1/ssimssim_grad_dice/2023-06-06_12_12_931970",
        "/mnt/sds/sd20i001/sven/code/dynamic-cmr-models/exp/p2p/dmd/jcmr/iso2_5_32_p2p/img05_flow01_msk1/ssimssim_grad_dice",
        "/mnt/sds/sd20i001/sven/code/dynamic-cmr-models/exp/p2p/dmd/jcmr/iso2_5_32_p2p/img05_flow01_msk1",
        "/mnt/sds/sd20i001/sven/code/dynamic-cmr-models/exp/p2p/dmd/jcmr/iso2_5_32_p2p",
        "/mnt/sds/sd20i001/sven/code/dynamic-cmr-models/exp/p2p/dmd/jcmr",
        "/mnt/sds/sd20i001/sven/code/dynamic-cmr-models/exp/p2p/dmd",
        "/mnt/sds/sd20i001/sven/code/dynamic-cmr-models/exp/p2p",
        "/mnt/sds/sd20i001/sven/code/dynamic-cmr-models/exp",
        "/mnt/sds/sd20i001/sven/code/dynamic-cmr-models",
        "/mnt/sds/sd20i001/sven/code",
        "/mnt/sds/sd20i001/sven",
        "/mnt/sds/sd20i001",
        "/mnt/sds",
        "/mnt",
        "/"
       ],
       "index": 0,
       "layout": "IPY_MODEL_420c639c7aa641c78e08a6e07de3714e",
       "style": "IPY_MODEL_05ee53d2b13040db8f754793d47c8277"
      }
     },
     "fd5ab05081dd4ac98504acfdd7479dbc": {
      "model_module": "@jupyter-widgets/controls",
      "model_module_version": "1.5.0",
      "model_name": "VBoxModel",
      "state": {
       "_dom_classes": [
        "widget-interact"
       ],
       "children": [
        "IPY_MODEL_6803e6a4dae14c1589e4f4e314fd16e3",
        "IPY_MODEL_9e5442640c8445faa42c467950ac7d3a",
        "IPY_MODEL_c845d0832408463a92978e88a068fd32"
       ],
       "layout": "IPY_MODEL_68c54e99bb734881ae6147201bad839f"
      }
     },
     "fe1996ec28b24ec185d3d41ecd44c48f": {
      "model_module": "@jupyter-widgets/controls",
      "model_module_version": "1.5.0",
      "model_name": "TextModel",
      "state": {
       "description": "alpha0",
       "layout": "IPY_MODEL_dd4dfe2a5866465fb84307325007b750",
       "style": "IPY_MODEL_c23fd71d03084a25a5f2a2bc6b2c7bff",
       "value": "0.05"
      }
     },
     "feb8c06414d04bd7ad759227a6f9d9da": {
      "model_module": "@jupyter-widgets/base",
      "model_module_version": "1.2.0",
      "model_name": "LayoutModel",
      "state": {
       "width": "auto"
      }
     },
     "ff79c8e5d3974933844a1718d945ee81": {
      "model_module": "@jupyter-widgets/controls",
      "model_module_version": "1.5.0",
      "model_name": "ButtonStyleModel",
      "state": {}
     },
     "ffbe5452eed942a193c2e951ee14f0de": {
      "model_module": "@jupyter-widgets/base",
      "model_module_version": "1.2.0",
      "model_name": "LayoutModel",
      "state": {}
     },
     "ffc2ffca55ce4f1db76a9c5d9f51095f": {
      "model_module": "@jupyter-widgets/controls",
      "model_module_version": "1.5.0",
      "model_name": "ButtonModel",
      "state": {
       "description": "Run Interact",
       "layout": "IPY_MODEL_5135a19cb9184fd596c733fffc4714ba",
       "style": "IPY_MODEL_bca77d8bc71249948955830d6f970d62"
      }
     },
     "ffe9594b9f4944acaf14d6ab6fe99e18": {
      "model_module": "@jupyter-widgets/controls",
      "model_module_version": "1.5.0",
      "model_name": "ButtonStyleModel",
      "state": {}
     }
    },
    "version_major": 2,
    "version_minor": 0
   }
  }
 },
 "nbformat": 4,
 "nbformat_minor": 5
}
