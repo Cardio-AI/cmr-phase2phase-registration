{
 "cells": [
  {
   "cell_type": "code",
   "execution_count": 1,
   "id": "96093b8a",
   "metadata": {},
   "outputs": [
    {
     "name": "stdout",
     "output_type": "stream",
     "text": [
      "search for root_dir and set working directory\n",
      "Working directory set to: /mnt/ssd/git/dynamic-cmr-models\n"
     ]
    }
   ],
   "source": [
    "# define logging and working directory\n",
    "# ------------------------------------------\n",
    "from ProjectRoot import change_wd_to_project_root\n",
    "change_wd_to_project_root()\n",
    "# jupyter magic config\n",
    "# ------------------------------------------\n",
    "%matplotlib inline\n",
    "%reload_ext autoreload\n",
    "%autoreload 2\n",
    "# this should import glob, os, and many other standard libs\n",
    "# ------------------------------------------ \n",
    "from src.utils.Notebook_imports import *\n",
    "# local imports\n",
    "# ------------------------------------------ \n",
    "from src.utils.Utils_io import Console_and_file_logger, init_config\n",
    "# import external libs\n",
    "# ------------------------------------------ \n",
    "import pandas as pd\n",
    "import numpy as np\n",
    "from ipyfilechooser import FileChooser\n",
    "import glob\n",
    "import os"
   ]
  },
  {
   "cell_type": "code",
   "execution_count": 3,
   "id": "3ed4500c",
   "metadata": {},
   "outputs": [
    {
     "data": {
      "application/vnd.jupyter.widget-view+json": {
       "model_id": "f89f08df21fb4af294cf8ac40c754ff2",
       "version_major": 2,
       "version_minor": 0
      },
      "text/plain": [
       "FileChooser(path='/mnt/sds/sven/code/dynamic-cmr-models/exp/temp/phase2phase/v3/64_128_128/window1/reg0_001', …"
      ]
     },
     "metadata": {},
     "output_type": "display_data"
    },
    {
     "data": {
      "application/vnd.jupyter.widget-view+json": {
       "model_id": "4bac809185ab496489ae470db980cae2",
       "version_major": 2,
       "version_minor": 0
      },
      "text/plain": [
       "interactive(children=(Checkbox(value=False, description='run'), Output()), _dom_classes=('widget-interact',))"
      ]
     },
     "metadata": {},
     "output_type": "display_data"
    }
   ],
   "source": [
    "# evaluate / calc dice and hd\n",
    "from src.models.Evaluate_moved_myo import calc_dice\n",
    "from src.models.predict_motion_model import pred_fold\n",
    "import os\n",
    "sds_storage = '/mnt/sds/sven/code/dynamic-cmr-models/exp/temp/phase2phase/v3/64_128_128/window1/reg0_001/'\n",
    "data_root = '/mnt/ssd/data/dmd/02_imported_4D_unfiltered/'\n",
    "fchooser = FileChooser(sds_storage, '')\n",
    "display(fchooser)\n",
    "@interact\n",
    "def calc_scores(run=False):\n",
    "    if run:\n",
    "        exp_path = fchooser.selected\n",
    "        gt_path = os.path.join(exp_path, 'gt_m')\n",
    "        pred_path = os.path.join(exp_path, 'pred_m')\n",
    "        cfg_file = os.path.join(exp_path,'config/config.json')\n",
    "        print('config given: {}'.format(cfg_file))\n",
    "        # load the experiment config\n",
    "        with open(cfg_file, encoding='utf-8') as data_file:\n",
    "            config = json.loads(data_file.read())\n",
    "\n",
    "            EXPERIMENT = config.get('EXPERIMENT', 'UNDEFINED')\n",
    "            Console_and_file_logger(EXPERIMENT, logging.INFO)\n",
    "            config['MODEL_PATH'] = os.path.join(exp_path, 'model/')\n",
    "            config['EXP_PATH'] = exp_path\n",
    "            config['DATA_PATH_SAX'] = os.path.join(data_root, 'sax')\n",
    "            config['DF_FOLDS'] = os.path.join(data_root, 'df_kfold.csv')\n",
    "            config['DF_META'] = os.path.join(data_root, 'SAx_3D_dicomTags_phase.csv')\n",
    "            info('Loaded config for experiment: {}'.format(EXPERIMENT))\n",
    "        pred_fold(config)\n",
    "        calc_dice(gt_path, pred_path, exp_path)"
   ]
  },
  {
   "cell_type": "code",
   "execution_count": 39,
   "id": "ae0f8b8b",
   "metadata": {},
   "outputs": [],
   "source": [
    "df_files = ['/mnt/sds/sven/code/dynamic-cmr-models/exp/temp/phase2phase/v3/64_128_128/window1/reg0_001/dmd/NOmask_bugfix_f0/2021-10-01_19_20/', \n",
    "           '/mnt/sds/sven/code/dynamic-cmr-models/exp/temp/phase2phase/v3/64_128_128/window1/reg0_001/dmd/NOmask_bugfix_f1/2021-10-01_23_43/',\n",
    "           '/mnt/sds/sven/code/dynamic-cmr-models/exp/temp/phase2phase/v3/64_128_128/window1/reg0_001/dmd/NOmask_bugfix_f2/2021-10-02_01_58/',\n",
    "           '/mnt/sds/sven/code/dynamic-cmr-models/exp/temp/phase2phase/v3/64_128_128/window1/reg0_001/dmd/NOmask_bugfix_f3/2021-10-02_04_26/']\n",
    "\n",
    "dfs = [pd.read_csv(os.path.join(f,'results.csv')) for f in df_files]"
   ]
  },
  {
   "cell_type": "code",
   "execution_count": 40,
   "id": "c11121e4",
   "metadata": {},
   "outputs": [],
   "source": [
    "df = pd.concat(dfs)"
   ]
  },
  {
   "cell_type": "code",
   "execution_count": 41,
   "id": "68c37f93",
   "metadata": {},
   "outputs": [
    {
     "data": {
      "text/plain": [
       "[(0.0, 1.0)]"
      ]
     },
     "execution_count": 41,
     "metadata": {},
     "output_type": "execute_result"
    },
    {
     "data": {
      "image/png": "[encoded data removed]",
      "text/plain": [
       "<Figure size 432x288 with 1 Axes>"
      ]
     },
     "metadata": {
      "needs_background": "light"
     },
     "output_type": "display_data"
    }
   ],
   "source": [
    "import seaborn as sb\n",
    "g = sb.violinplot(x='phase', y='dice', data=df[['patient', 'phase', 'dice']])\n",
    "g.set(ylim=(0,1))"
   ]
  },
  {
   "cell_type": "code",
   "execution_count": 42,
   "id": "d4fb6955",
   "metadata": {},
   "outputs": [
    {
     "data": {
      "text/plain": [
       "[(0.0, 25.0)]"
      ]
     },
     "execution_count": 42,
     "metadata": {},
     "output_type": "execute_result"
    },
    {
     "data": {
      "image/png": "[encoded data removed]",
      "text/plain": [
       "<Figure size 432x288 with 1 Axes>"
      ]
     },
     "metadata": {
      "needs_background": "light"
     },
     "output_type": "display_data"
    }
   ],
   "source": [
    "g = sb.violinplot(x='phase', y='hd', data=df[['patient', 'phase', 'hd']])\n",
    "g.set(ylim=(0, 25))"
   ]
  },
  {
   "cell_type": "code",
   "execution_count": 43,
   "id": "6d70295d",
   "metadata": {},
   "outputs": [
    {
     "data": {
      "text/html": [
       "<style  type=\"text/css\" >\n",
       "#T_7166c_row0_col0,#T_7166c_row3_col1{\n",
       "            background-color:  lightgreen;\n",
       "        }</style><table id=\"T_7166c_\" ><thead>    <tr>        <th class=\"blank level0\" ></th>        <th class=\"col_heading level0 col0\" >dice</th>        <th class=\"col_heading level0 col1\" >hd</th>    </tr>    <tr>        <th class=\"index_name level0\" >phase</th>        <th class=\"blank\" ></th>        <th class=\"blank\" ></th>    </tr></thead><tbody>\n",
       "                <tr>\n",
       "                        <th id=\"T_7166c_level0_row0\" class=\"row_heading level0 row0\" >ED</th>\n",
       "                        <td id=\"T_7166c_row0_col0\" class=\"data row0 col0\" >0.681856</td>\n",
       "                        <td id=\"T_7166c_row0_col1\" class=\"data row0 col1\" >11.777079</td>\n",
       "            </tr>\n",
       "            <tr>\n",
       "                        <th id=\"T_7166c_level0_row1\" class=\"row_heading level0 row1\" >ES</th>\n",
       "                        <td id=\"T_7166c_row1_col0\" class=\"data row1 col0\" >0.731540</td>\n",
       "                        <td id=\"T_7166c_row1_col1\" class=\"data row1 col1\" >10.765429</td>\n",
       "            </tr>\n",
       "            <tr>\n",
       "                        <th id=\"T_7166c_level0_row2\" class=\"row_heading level0 row2\" >MD</th>\n",
       "                        <td id=\"T_7166c_row2_col0\" class=\"data row2 col0\" >0.781256</td>\n",
       "                        <td id=\"T_7166c_row2_col1\" class=\"data row2 col1\" >13.002717</td>\n",
       "            </tr>\n",
       "            <tr>\n",
       "                        <th id=\"T_7166c_level0_row3\" class=\"row_heading level0 row3\" >MS</th>\n",
       "                        <td id=\"T_7166c_row3_col0\" class=\"data row3 col0\" >0.694770</td>\n",
       "                        <td id=\"T_7166c_row3_col1\" class=\"data row3 col1\" >10.384463</td>\n",
       "            </tr>\n",
       "            <tr>\n",
       "                        <th id=\"T_7166c_level0_row4\" class=\"row_heading level0 row4\" >PF</th>\n",
       "                        <td id=\"T_7166c_row4_col0\" class=\"data row4 col0\" >0.696359</td>\n",
       "                        <td id=\"T_7166c_row4_col1\" class=\"data row4 col1\" >12.986526</td>\n",
       "            </tr>\n",
       "    </tbody></table>"
      ],
      "text/plain": [
       "<pandas.io.formats.style.Styler at 0x7fa83f5000d0>"
      ]
     },
     "execution_count": 43,
     "metadata": {},
     "output_type": "execute_result"
    }
   ],
   "source": [
    "# mean\n",
    "df.groupby('phase').mean().style.highlight_min(color = 'lightgreen', axis = 0)"
   ]
  },
  {
   "cell_type": "code",
   "execution_count": 44,
   "id": "e3331b58",
   "metadata": {},
   "outputs": [
    {
     "data": {
      "text/html": [
       "<style  type=\"text/css\" >\n",
       "#T_219a9_row0_col0,#T_219a9_row1_col1{\n",
       "            background-color:  lightgreen;\n",
       "        }</style><table id=\"T_219a9_\" ><thead>    <tr>        <th class=\"blank level0\" ></th>        <th class=\"col_heading level0 col0\" >dice</th>        <th class=\"col_heading level0 col1\" >hd</th>    </tr>    <tr>        <th class=\"index_name level0\" >phase</th>        <th class=\"blank\" ></th>        <th class=\"blank\" ></th>    </tr></thead><tbody>\n",
       "                <tr>\n",
       "                        <th id=\"T_219a9_level0_row0\" class=\"row_heading level0 row0\" >ED</th>\n",
       "                        <td id=\"T_219a9_row0_col0\" class=\"data row0 col0\" >0.688414</td>\n",
       "                        <td id=\"T_219a9_row0_col1\" class=\"data row0 col1\" >8.602325</td>\n",
       "            </tr>\n",
       "            <tr>\n",
       "                        <th id=\"T_219a9_level0_row1\" class=\"row_heading level0 row1\" >ES</th>\n",
       "                        <td id=\"T_219a9_row1_col0\" class=\"data row1 col0\" >0.765621</td>\n",
       "                        <td id=\"T_219a9_row1_col1\" class=\"data row1 col1\" >8.062258</td>\n",
       "            </tr>\n",
       "            <tr>\n",
       "                        <th id=\"T_219a9_level0_row2\" class=\"row_heading level0 row2\" >MD</th>\n",
       "                        <td id=\"T_219a9_row2_col0\" class=\"data row2 col0\" >0.802365</td>\n",
       "                        <td id=\"T_219a9_row2_col1\" class=\"data row2 col1\" >11.357817</td>\n",
       "            </tr>\n",
       "            <tr>\n",
       "                        <th id=\"T_219a9_level0_row3\" class=\"row_heading level0 row3\" >MS</th>\n",
       "                        <td id=\"T_219a9_row3_col0\" class=\"data row3 col0\" >0.717999</td>\n",
       "                        <td id=\"T_219a9_row3_col1\" class=\"data row3 col1\" >8.124038</td>\n",
       "            </tr>\n",
       "            <tr>\n",
       "                        <th id=\"T_219a9_level0_row4\" class=\"row_heading level0 row4\" >PF</th>\n",
       "                        <td id=\"T_219a9_row4_col0\" class=\"data row4 col0\" >0.707358</td>\n",
       "                        <td id=\"T_219a9_row4_col1\" class=\"data row4 col1\" >9.219544</td>\n",
       "            </tr>\n",
       "    </tbody></table>"
      ],
      "text/plain": [
       "<pandas.io.formats.style.Styler at 0x7fa83f52a9a0>"
      ]
     },
     "execution_count": 44,
     "metadata": {},
     "output_type": "execute_result"
    }
   ],
   "source": [
    "# median\n",
    "df.groupby('phase').median().style.highlight_min(color = 'lightgreen', axis = 0)"
   ]
  },
  {
   "cell_type": "code",
   "execution_count": 45,
   "id": "3583d797",
   "metadata": {},
   "outputs": [
    {
     "data": {
      "text/html": [
       "<style  type=\"text/css\" >\n",
       "#T_934d0_row2_col0,#T_934d0_row3_col1{\n",
       "            background-color:  lightgreen;\n",
       "        }</style><table id=\"T_934d0_\" ><thead>    <tr>        <th class=\"blank level0\" ></th>        <th class=\"col_heading level0 col0\" >dice</th>        <th class=\"col_heading level0 col1\" >hd</th>    </tr>    <tr>        <th class=\"index_name level0\" >phase</th>        <th class=\"blank\" ></th>        <th class=\"blank\" ></th>    </tr></thead><tbody>\n",
       "                <tr>\n",
       "                        <th id=\"T_934d0_level0_row0\" class=\"row_heading level0 row0\" >ED</th>\n",
       "                        <td id=\"T_934d0_row0_col0\" class=\"data row0 col0\" >0.079313</td>\n",
       "                        <td id=\"T_934d0_row0_col1\" class=\"data row0 col1\" >8.358191</td>\n",
       "            </tr>\n",
       "            <tr>\n",
       "                        <th id=\"T_934d0_level0_row1\" class=\"row_heading level0 row1\" >ES</th>\n",
       "                        <td id=\"T_934d0_row1_col0\" class=\"data row1 col0\" >0.101565</td>\n",
       "                        <td id=\"T_934d0_row1_col1\" class=\"data row1 col1\" >8.896243</td>\n",
       "            </tr>\n",
       "            <tr>\n",
       "                        <th id=\"T_934d0_level0_row2\" class=\"row_heading level0 row2\" >MD</th>\n",
       "                        <td id=\"T_934d0_row2_col0\" class=\"data row2 col0\" >0.072076</td>\n",
       "                        <td id=\"T_934d0_row2_col1\" class=\"data row2 col1\" >9.660276</td>\n",
       "            </tr>\n",
       "            <tr>\n",
       "                        <th id=\"T_934d0_level0_row3\" class=\"row_heading level0 row3\" >MS</th>\n",
       "                        <td id=\"T_934d0_row3_col0\" class=\"data row3 col0\" >0.077602</td>\n",
       "                        <td id=\"T_934d0_row3_col1\" class=\"data row3 col1\" >6.649768</td>\n",
       "            </tr>\n",
       "            <tr>\n",
       "                        <th id=\"T_934d0_level0_row4\" class=\"row_heading level0 row4\" >PF</th>\n",
       "                        <td id=\"T_934d0_row4_col0\" class=\"data row4 col0\" >0.088639</td>\n",
       "                        <td id=\"T_934d0_row4_col1\" class=\"data row4 col1\" >9.280315</td>\n",
       "            </tr>\n",
       "    </tbody></table>"
      ],
      "text/plain": [
       "<pandas.io.formats.style.Styler at 0x7fa83f5005b0>"
      ]
     },
     "execution_count": 45,
     "metadata": {},
     "output_type": "execute_result"
    }
   ],
   "source": [
    "# std\n",
    "df.groupby('phase').std().style.highlight_min(color = 'lightgreen', axis = 0)"
   ]
  },
  {
   "cell_type": "code",
   "execution_count": null,
   "id": "791e56d1",
   "metadata": {},
   "outputs": [],
   "source": []
  }
 ],
 "metadata": {
  "kernelspec": {
   "display_name": "dcmr",
   "language": "python",
   "name": "dcmr"
  },
  "language_info": {
   "codemirror_mode": {
    "name": "ipython",
    "version": 3
   },
   "file_extension": ".py",
   "mimetype": "text/x-python",
   "name": "python",
   "nbconvert_exporter": "python",
   "pygments_lexer": "ipython3",
   "version": "3.8.5"
  },
  "widgets": {
   "application/vnd.jupyter.widget-state+json": {
    "state": {
     "008b052baac14029805926706d302dca": {
      "model_module": "@jupyter-widgets/base",
      "model_module_version": "1.2.0",
      "model_name": "LayoutModel",
      "state": {
       "display": "none",
       "width": "auto"
      }
     },
     "04f743eb383e45199b4f2bde144046b0": {
      "model_module": "@jupyter-widgets/controls",
      "model_module_version": "1.5.0",
      "model_name": "SelectModel",
      "state": {
       "_options_labels": [
        "..",
        "config",
        "gt_m",
        "history",
        "model",
        "pred",
        "pred_m",
        "tensorboard_logs",
        "Log_errors.log",
        "dice.png",
        "hd.png",
        "model.png",
        "model_summary.txt",
        "results.csv"
       ],
       "index": null,
       "layout": "IPY_MODEL_47e038de02ff42f0963fc38b3db72f2d",
       "rows": 8,
       "style": "IPY_MODEL_1d62c332821345fc9772f76f60a13196"
      }
     },
     "08ea5aeea1a045e991060267d25c4aa5": {
      "model_module": "@jupyter-widgets/controls",
      "model_module_version": "1.5.0",
      "model_name": "GridBoxModel",
      "state": {
       "children": [
        "IPY_MODEL_13a03cd4abe543778abed8d7bac8357f",
        "IPY_MODEL_0b0425d5fa054525ba9034616ddee06e",
        "IPY_MODEL_04f743eb383e45199b4f2bde144046b0"
       ],
       "layout": "IPY_MODEL_b37559fe038b42c4a33fccb91da5c711"
      }
     },
     "09a9c1e8ff6742e6a9eb8f90e525a1a2": {
      "model_module": "@jupyter-widgets/base",
      "model_module_version": "1.2.0",
      "model_name": "LayoutModel",
      "state": {}
     },
     "0b0425d5fa054525ba9034616ddee06e": {
      "model_module": "@jupyter-widgets/controls",
      "model_module_version": "1.5.0",
      "model_name": "TextModel",
      "state": {
       "layout": "IPY_MODEL_2d4c80393fa5434d8e63750b5356ace5",
       "placeholder": "output filename",
       "style": "IPY_MODEL_423bb295832941e1aa20fc85d40b3b35"
      }
     },
     "0efe4dae5f0443d4abe0df71ae3d0705": {
      "model_module": "@jupyter-widgets/controls",
      "model_module_version": "1.5.0",
      "model_name": "DropdownModel",
      "state": {
       "_options_labels": [
        "/mnt/sds/sven/code/dynamic-cmr-models/exp/temp/phase2phase/v3/64_128_128/window1/reg0_001/dmd/NOmask_bugfix_f0/2021-10-01_19_20",
        "/mnt/sds/sven/code/dynamic-cmr-models/exp/temp/phase2phase/v3/64_128_128/window1/reg0_001/dmd/NOmask_bugfix_f0",
        "/mnt/sds/sven/code/dynamic-cmr-models/exp/temp/phase2phase/v3/64_128_128/window1/reg0_001/dmd",
        "/mnt/sds/sven/code/dynamic-cmr-models/exp/temp/phase2phase/v3/64_128_128/window1/reg0_001",
        "/mnt/sds/sven/code/dynamic-cmr-models/exp/temp/phase2phase/v3/64_128_128/window1",
        "/mnt/sds/sven/code/dynamic-cmr-models/exp/temp/phase2phase/v3/64_128_128",
        "/mnt/sds/sven/code/dynamic-cmr-models/exp/temp/phase2phase/v3",
        "/mnt/sds/sven/code/dynamic-cmr-models/exp/temp/phase2phase",
        "/mnt/sds/sven/code/dynamic-cmr-models/exp/temp",
        "/mnt/sds/sven/code/dynamic-cmr-models/exp",
        "/mnt/sds/sven/code/dynamic-cmr-models",
        "/mnt/sds/sven/code",
        "/mnt/sds/sven",
        "/mnt/sds",
        "/mnt",
        "/"
       ],
       "index": 0,
       "layout": "IPY_MODEL_91382c3317184ab8a7d600d6901e1a2a",
       "style": "IPY_MODEL_9ee1408bb00c432692e16f0e871005f4"
      }
     },
     "0f27f13edcbd4c7e9a9109b092dee974": {
      "model_module": "@jupyter-widgets/base",
      "model_module_version": "1.2.0",
      "model_name": "LayoutModel",
      "state": {
       "display": "none"
      }
     },
     "13a03cd4abe543778abed8d7bac8357f": {
      "model_module": "@jupyter-widgets/controls",
      "model_module_version": "1.5.0",
      "model_name": "DropdownModel",
      "state": {
       "_options_labels": [
        "/mnt/sds/sven/code/dynamic-cmr-models/exp/temp/phase2phase/v3/64_128_128/window1/reg0_001/dmd/NOmask_bugfix_f0/2021-10-01_19_20",
        "/mnt/sds/sven/code/dynamic-cmr-models/exp/temp/phase2phase/v3/64_128_128/window1/reg0_001/dmd/NOmask_bugfix_f0",
        "/mnt/sds/sven/code/dynamic-cmr-models/exp/temp/phase2phase/v3/64_128_128/window1/reg0_001/dmd",
        "/mnt/sds/sven/code/dynamic-cmr-models/exp/temp/phase2phase/v3/64_128_128/window1/reg0_001",
        "/mnt/sds/sven/code/dynamic-cmr-models/exp/temp/phase2phase/v3/64_128_128/window1",
        "/mnt/sds/sven/code/dynamic-cmr-models/exp/temp/phase2phase/v3/64_128_128",
        "/mnt/sds/sven/code/dynamic-cmr-models/exp/temp/phase2phase/v3",
        "/mnt/sds/sven/code/dynamic-cmr-models/exp/temp/phase2phase",
        "/mnt/sds/sven/code/dynamic-cmr-models/exp/temp",
        "/mnt/sds/sven/code/dynamic-cmr-models/exp",
        "/mnt/sds/sven/code/dynamic-cmr-models",
        "/mnt/sds/sven/code",
        "/mnt/sds/sven",
        "/mnt/sds",
        "/mnt",
        "/"
       ],
       "index": 0,
       "layout": "IPY_MODEL_34d32f56f6df4da4b79e909807961d22",
       "style": "IPY_MODEL_94e8668d2d4f454eb411c351cbb2401a"
      }
     },
     "13a418ad9ee24e6b9a674826cdc9306b": {
      "model_module": "@jupyter-widgets/controls",
      "model_module_version": "1.5.0",
      "model_name": "ButtonModel",
      "state": {
       "description": "Cancel",
       "layout": "IPY_MODEL_008b052baac14029805926706d302dca",
       "style": "IPY_MODEL_911e14b5fa504a519fa18efe53ffb5bd"
      }
     },
     "1c9e8e80a5b7427f871db4643c027882": {
      "model_module": "@jupyter-widgets/controls",
      "model_module_version": "1.5.0",
      "model_name": "ButtonModel",
      "state": {
       "description": "Cancel",
       "layout": "IPY_MODEL_fb611eea9b5a40f68922da501028d6f1",
       "style": "IPY_MODEL_7aac3c4d6d69437dae9339965805b73c"
      }
     },
     "1d62c332821345fc9772f76f60a13196": {
      "model_module": "@jupyter-widgets/controls",
      "model_module_version": "1.5.0",
      "model_name": "DescriptionStyleModel",
      "state": {
       "description_width": ""
      }
     },
     "1da6207e41eb434892a1461f0edab60e": {
      "model_module": "@jupyter-widgets/controls",
      "model_module_version": "1.5.0",
      "model_name": "ButtonStyleModel",
      "state": {}
     },
     "20d63a57d59c44c2bcc3906fdaf2c95f": {
      "model_module": "@jupyter-widgets/controls",
      "model_module_version": "1.5.0",
      "model_name": "CheckboxModel",
      "state": {
       "description": "run",
       "disabled": false,
       "layout": "IPY_MODEL_c86fd465d083498abfa647bd21f39de8",
       "style": "IPY_MODEL_d4eb7e6addd44a07a3199c3e024602c4",
       "value": true
      }
     },
     "2837bab95e594df280caae3c0768e7a4": {
      "model_module": "@jupyter-widgets/controls",
      "model_module_version": "1.5.0",
      "model_name": "GridBoxModel",
      "state": {
       "children": [
        "IPY_MODEL_0efe4dae5f0443d4abe0df71ae3d0705",
        "IPY_MODEL_51e95b5f30ef40e6a7563443acd24875",
        "IPY_MODEL_28578aec005e4abdac79cf88da355d8d"
       ],
       "layout": "IPY_MODEL_e73f138c3a4344a3b8faa6c70b779f8a"
      }
     },
     "28578aec005e4abdac79cf88da355d8d": {
      "model_module": "@jupyter-widgets/controls",
      "model_module_version": "1.5.0",
      "model_name": "SelectModel",
      "state": {
       "_options_labels": [
        "..",
        "config",
        "gt_m",
        "history",
        "model",
        "pred",
        "pred_m",
        "tensorboard_logs",
        "Log_errors.log",
        "dice.png",
        "hd.png",
        "model.png",
        "model_summary.txt",
        "results.csv"
       ],
       "index": null,
       "layout": "IPY_MODEL_6c1ca7c0dd8a4a9bba9ecd436725a478",
       "rows": 8,
       "style": "IPY_MODEL_7a2a3974ca044f55a4f99ba4bf6bf38b"
      }
     },
     "28e5a9b1104e44c483c7862a68c42f33": {
      "model_module": "@jupyter-widgets/controls",
      "model_module_version": "1.5.0",
      "model_name": "HTMLModel",
      "state": {
       "layout": "IPY_MODEL_ee9e80c6fe1e42d99a0196dd3a285928",
       "style": "IPY_MODEL_5de4f38abbf74ac38f79519ff3155535"
      }
     },
     "2ab4e38ace544d9289c345ae1e6b1eef": {
      "model_module": "@jupyter-widgets/base",
      "model_module_version": "1.2.0",
      "model_name": "LayoutModel",
      "state": {}
     },
     "2d4c80393fa5434d8e63750b5356ace5": {
      "model_module": "@jupyter-widgets/base",
      "model_module_version": "1.2.0",
      "model_name": "LayoutModel",
      "state": {
       "grid_area": "filename",
       "width": "auto"
      }
     },
     "2f4bf3e07e6d4d12a1350ddb8c1cbcc1": {
      "model_module": "@jupyter-widgets/base",
      "model_module_version": "1.2.0",
      "model_name": "LayoutModel",
      "state": {
       "width": "auto"
      }
     },
     "34d32f56f6df4da4b79e909807961d22": {
      "model_module": "@jupyter-widgets/base",
      "model_module_version": "1.2.0",
      "model_name": "LayoutModel",
      "state": {
       "grid_area": "pathlist",
       "width": "auto"
      }
     },
     "406e2047b04b4c3a83cf1e3708bf27cf": {
      "model_module": "@jupyter-widgets/base",
      "model_module_version": "1.2.0",
      "model_name": "LayoutModel",
      "state": {
       "width": "auto"
      }
     },
     "423bb295832941e1aa20fc85d40b3b35": {
      "model_module": "@jupyter-widgets/controls",
      "model_module_version": "1.5.0",
      "model_name": "DescriptionStyleModel",
      "state": {
       "description_width": ""
      }
     },
     "426fb76d9bb24f5fa92cc1ab8b1c8b44": {
      "model_module": "@jupyter-widgets/controls",
      "model_module_version": "1.5.0",
      "model_name": "VBoxModel",
      "state": {
       "children": [
        "IPY_MODEL_28e5a9b1104e44c483c7862a68c42f33",
        "IPY_MODEL_2837bab95e594df280caae3c0768e7a4",
        "IPY_MODEL_bbfbf41d1daa48e1b542c68dd4211a72"
       ],
       "layout": "IPY_MODEL_2f4bf3e07e6d4d12a1350ddb8c1cbcc1"
      }
     },
     "42c36337b8e14b1e8b5e4c02af177844": {
      "model_module": "@jupyter-widgets/controls",
      "model_module_version": "1.5.0",
      "model_name": "DescriptionStyleModel",
      "state": {
       "description_width": ""
      }
     },
     "42e1b17cce644f5ba38769ed9cb67f66": {
      "model_module": "@jupyter-widgets/base",
      "model_module_version": "1.2.0",
      "model_name": "LayoutModel",
      "state": {}
     },
     "475b92f08bed46fb8edb794f1b71e4bd": {
      "model_module": "@jupyter-widgets/controls",
      "model_module_version": "1.5.0",
      "model_name": "DescriptionStyleModel",
      "state": {
       "description_width": ""
      }
     },
     "47e038de02ff42f0963fc38b3db72f2d": {
      "model_module": "@jupyter-widgets/base",
      "model_module_version": "1.2.0",
      "model_name": "LayoutModel",
      "state": {
       "grid_area": "dircontent",
       "width": "auto"
      }
     },
     "4bac809185ab496489ae470db980cae2": {
      "model_module": "@jupyter-widgets/controls",
      "model_module_version": "1.5.0",
      "model_name": "VBoxModel",
      "state": {
       "_dom_classes": [
        "widget-interact"
       ],
       "children": [
        "IPY_MODEL_8dec235d38c247109faace98894115d1",
        "IPY_MODEL_52580ade1b064f679e1de7e40bcbee6d"
       ],
       "layout": "IPY_MODEL_42e1b17cce644f5ba38769ed9cb67f66"
      }
     },
     "51dbde58a0714ab4a5d541b857dce1eb": {
      "model_module": "@jupyter-widgets/controls",
      "model_module_version": "1.5.0",
      "model_name": "HBoxModel",
      "state": {
       "children": [
        "IPY_MODEL_6ce296fb6a8648d78fcc75f47889e51d",
        "IPY_MODEL_13a418ad9ee24e6b9a674826cdc9306b",
        "IPY_MODEL_b02b783e72944f458d49d6030ecabfd4"
       ],
       "layout": "IPY_MODEL_7f3be32061b54ddb899454dad55744c6"
      }
     },
     "51e95b5f30ef40e6a7563443acd24875": {
      "model_module": "@jupyter-widgets/controls",
      "model_module_version": "1.5.0",
      "model_name": "TextModel",
      "state": {
       "layout": "IPY_MODEL_a6d5e3bd54b04f05b671bbeb7010e672",
       "placeholder": "output filename",
       "style": "IPY_MODEL_f49615fdf0e448bba53dd389d198725b"
      }
     },
     "52580ade1b064f679e1de7e40bcbee6d": {
      "model_module": "@jupyter-widgets/output",
      "model_module_version": "1.0.0",
      "model_name": "OutputModel",
      "state": {
       "layout": "IPY_MODEL_6145837ec7374546acd0a044ad69694d",
       "msg_id": "b6af3ed2-b74d-41df-aa2a-a70806064b72",
       "outputs": [
        {
         "name": "stderr",
         "output_type": "stream",
         "text": "2021-10-04 14:41:58,288 INFO -------------------- Start --------------------\n2021-10-04 14:41:58,289 INFO Working directory: /mnt/ssd/git/dynamic-cmr-models.\n2021-10-04 14:41:58,289 INFO Log file: ./logs/temp/phase2phase/v3/64_128_128/window1/reg0_001/dmd/NOmask_bugfix_f0.log\n2021-10-04 14:41:58,289 INFO Log level for console: INFO\n2021-10-04 14:41:58,289 INFO Loaded config for experiment: temp/phase2phase/v3/64_128_128/window1/reg0_001/dmd/NOmask_bugfix_f0\n2021-10-04 14:41:58,291 INFO -------------------- Start --------------------\n2021-10-04 14:41:58,291 INFO Working directory: /mnt/ssd/git/dynamic-cmr-models.\n2021-10-04 14:41:58,291 INFO Log file: temp/phase2phase/v3/64_128_128/window1/reg0_001/dmd/NOmask_bugfix_f0_f0/Log.log\n2021-10-04 14:41:58,292 INFO Log level for console: INFO\n2021-10-04 14:41:58,293 INFO no files found, try to load with clean.nrrd/mask.nrrd pattern\n2021-10-04 14:41:58,293 INFO searched in: /mnt/ssd/data/dmd/02_imported_4D_unfiltered/sax\n2021-10-04 14:41:58,297 INFO Found 57 images/masks in /mnt/ssd/data/dmd/02_imported_4D_unfiltered/sax\n2021-10-04 14:41:58,297 INFO Patients train: 42\n2021-10-04 14:41:58,299 INFO Selected 42 of 57 files with 42 of 57 patients for training fold 0\n2021-10-04 14:41:58,300 INFO SAX train CMR: 42, SAX train masks: 42\n2021-10-04 14:41:58,300 INFO SAX val CMR: 15, SAX val masks: 15\n"
        },
        {
         "name": "stdout",
         "output_type": "stream",
         "text": "config given: /mnt/sds/sven/code/dynamic-cmr-models/exp/temp/phase2phase/v3/64_128_128/window1/reg0_001/dmd/NOmask_bugfix_f0/2021-10-01_19_20/config/config.json\n['/gpu:0', '/gpu:1']\n(None, 64, 128, 128, 3)\n(None, 64, 128, 128, 3)\n"
        },
        {
         "name": "stderr",
         "output_type": "stream",
         "text": "2021-10-04 14:42:00,020 INFO loaded model weights as h5 file\n2021-10-04 14:42:00,125 INFO Create DataGenerator\n2021-10-04 14:42:00,126 INFO Datagenerator created with: \n shape: [64, 128, 128]\n spacing: [1.4, 1.4, 1.4]\n batchsize: 1\n Scaler: standard\n Images: 15 \n Augment: False \n Thread workers: 1\n2021-10-04 14:42:00,126 INFO No augmentation\n2021-10-04 14:42:00,131 INFO params of generator:\n2021-10-04 14:42:00,132 INFO [('MASKING_IMAGE', False), ('SINGLE_OUTPUT', False), ('MASKING_VALUES', [2]), ('DEBUG_MODE', False), ('SCALER', 'standard'), ('AUGMENT', False), ('SHUFFLE', False), ('RESAMPLE', True), ('SPACING', [1.4, 1.4, 1.4]), ('SEED', 42), ('DIM', [64, 128, 128]), ('BATCHSIZE', 1), ('MASK_VALUES', [1, 2, 3]), ('N_CLASSES', 3), ('MAX_WORKERS', 1), ('T_SPACING', 100), ('PHASES', 5), ('HIST_MATCHING', False), ('IMG_INTERPOLATION', 2), ('MSK_INTERPOLATION', 1), ('AUGMENT_TEMP', False), ('RESAMPLE_T', False), ('WINDOW_SIZE', 1), ('IMG_CHANNELS', 3), ('INPUT_T_ELEM', 0), ('BETWEEN_PHASES', True), ('yield_masks', False), ('TARGET_CHANNELS', 1), ('IN_MEMORY', False), ('ISTRAINING', True), ('ISACDC', False), ('ISDMD', True), ('METADATA_FILE', '/mnt/ssd/data/dmd/02_imported_4D_unfiltered/SAx_3D_dicomTags_phase.csv')]\n2021-10-04 14:42:00,132 INFO Create DataGenerator\n2021-10-04 14:42:00,133 INFO Datagenerator created with: \n shape: [64, 128, 128]\n spacing: [1.4, 1.4, 1.4]\n batchsize: 1\n Scaler: standard\n Images: 15 \n Augment: False \n Thread workers: 1\n2021-10-04 14:42:00,133 INFO No augmentation\n2021-10-04 14:42:00,138 INFO params of generator:\n2021-10-04 14:42:00,138 INFO [('MASKING_IMAGE', False), ('SINGLE_OUTPUT', False), ('MASKING_VALUES', [2]), ('DEBUG_MODE', False), ('SCALER', 'standard'), ('AUGMENT', False), ('SHUFFLE', False), ('RESAMPLE', True), ('SPACING', [1.4, 1.4, 1.4]), ('SEED', 42), ('DIM', [64, 128, 128]), ('BATCHSIZE', 1), ('MASK_VALUES', [1, 2, 3]), ('N_CLASSES', 3), ('MAX_WORKERS', 1), ('T_SPACING', 100), ('PHASES', 5), ('HIST_MATCHING', False), ('IMG_INTERPOLATION', 2), ('MSK_INTERPOLATION', 1), ('AUGMENT_TEMP', False), ('RESAMPLE_T', False), ('WINDOW_SIZE', 1), ('IMG_CHANNELS', 3), ('INPUT_T_ELEM', 0), ('BETWEEN_PHASES', True), ('yield_masks', False), ('TARGET_CHANNELS', 1), ('IN_MEMORY', False), ('ISACDC', False), ('ISDMD', True), ('METADATA_FILE', '/mnt/ssd/data/dmd/02_imported_4D_unfiltered/SAx_3D_dicomTags_phase.csv')]\n2021-10-04 14:42:00,138 INFO Create DataGenerator\n2021-10-04 14:42:00,139 INFO Datagenerator created with: \n shape: [64, 128, 128]\n spacing: [1.4, 1.4, 1.4]\n batchsize: 1\n Scaler: standard\n Images: 15 \n Augment: False \n Thread workers: 1\n2021-10-04 14:42:00,139 INFO No augmentation\n2021-10-04 14:42:00,145 INFO params of generator:\n2021-10-04 14:42:00,145 INFO [('MASKING_IMAGE', True), ('SINGLE_OUTPUT', False), ('MASKING_VALUES', [2]), ('DEBUG_MODE', False), ('SCALER', 'standard'), ('AUGMENT', False), ('SHUFFLE', False), ('RESAMPLE', True), ('SPACING', [1.4, 1.4, 1.4]), ('SEED', 42), ('DIM', [64, 128, 128]), ('BATCHSIZE', 1), ('MASK_VALUES', [1, 2, 3]), ('N_CLASSES', 3), ('MAX_WORKERS', 1), ('T_SPACING', 100), ('PHASES', 5), ('HIST_MATCHING', False), ('IMG_INTERPOLATION', 1), ('MSK_INTERPOLATION', 1), ('AUGMENT_TEMP', False), ('RESAMPLE_T', False), ('WINDOW_SIZE', 1), ('IMG_CHANNELS', 3), ('INPUT_T_ELEM', 0), ('BETWEEN_PHASES', True), ('yield_masks', True), ('TARGET_CHANNELS', 1), ('IN_MEMORY', False), ('ISACDC', False), ('ISDMD', True), ('METADATA_FILE', '/mnt/ssd/data/dmd/02_imported_4D_unfiltered/SAx_3D_dicomTags_phase.csv')]\n2021-10-04 14:42:00,146 INFO Create DataGenerator\n2021-10-04 14:42:00,146 INFO Datagenerator created with: \n shape: [64, 128, 128]\n spacing: [1.4, 1.4, 1.4]\n batchsize: 1\n Scaler: standard\n Images: 15 \n Augment: False \n Thread workers: 1\n2021-10-04 14:42:00,147 INFO No augmentation\n2021-10-04 14:42:00,152 INFO params of generator:\n2021-10-04 14:42:00,152 INFO [('MASKING_IMAGE', False), ('SINGLE_OUTPUT', False), ('MASKING_VALUES', [2]), ('DEBUG_MODE', False), ('SCALER', 'standard'), ('AUGMENT', False), ('SHUFFLE', False), ('RESAMPLE', True), ('SPACING', [1.4, 1.4, 1.4]), ('SEED', 42), ('DIM', [64, 128, 128]), ('BATCHSIZE', 1), ('MASK_VALUES', [1, 2, 3]), ('N_CLASSES', 3), ('MAX_WORKERS', 1), ('T_SPACING', 100), ('PHASES', 5), ('HIST_MATCHING', False), ('IMG_INTERPOLATION', 1), ('MSK_INTERPOLATION', 1), ('AUGMENT_TEMP', False), ('RESAMPLE_T', False), ('WINDOW_SIZE', 1), ('IMG_CHANNELS', 1), ('INPUT_T_ELEM', 0), ('BETWEEN_PHASES', True), ('yield_masks', True), ('TARGET_CHANNELS', 1), ('IN_MEMORY', False), ('ISACDC', False), ('ISDMD', True), ('METADATA_FILE', '/mnt/ssd/data/dmd/02_imported_4D_unfiltered/SAx_3D_dicomTags_phase.csv')]\n2021-10-04 14:42:16,783 INFO /mnt/sds/sven/code/dynamic-cmr-models/exp/temp/phase2phase/v3/64_128_128/window1/reg0_001/dmd/NOmask_bugfix_f0/2021-10-01_19_20/pred/aa_20180710\n2021-10-04 14:42:30,253 INFO /mnt/sds/sven/code/dynamic-cmr-models/exp/temp/phase2phase/v3/64_128_128/window1/reg0_001/dmd/NOmask_bugfix_f0/2021-10-01_19_20/pred/ac_20180301\n2021-10-04 14:42:46,920 INFO /mnt/sds/sven/code/dynamic-cmr-models/exp/temp/phase2phase/v3/64_128_128/window1/reg0_001/dmd/NOmask_bugfix_f0/2021-10-01_19_20/pred/ao_20191212\n2021-10-04 14:43:01,017 INFO /mnt/sds/sven/code/dynamic-cmr-models/exp/temp/phase2phase/v3/64_128_128/window1/reg0_001/dmd/NOmask_bugfix_f0/2021-10-01_19_20/pred/ca_20180227\n"
        }
       ]
      }
     },
     "53a15cab685d42cb89703fee3fb714f9": {
      "model_module": "@jupyter-widgets/controls",
      "model_module_version": "1.5.0",
      "model_name": "DescriptionStyleModel",
      "state": {
       "description_width": ""
      }
     },
     "5de4f38abbf74ac38f79519ff3155535": {
      "model_module": "@jupyter-widgets/controls",
      "model_module_version": "1.5.0",
      "model_name": "DescriptionStyleModel",
      "state": {
       "description_width": ""
      }
     },
     "6145837ec7374546acd0a044ad69694d": {
      "model_module": "@jupyter-widgets/base",
      "model_module_version": "1.2.0",
      "model_name": "LayoutModel",
      "state": {}
     },
     "664ce4cf873e48a0843cdf7ada86a535": {
      "model_module": "@jupyter-widgets/controls",
      "model_module_version": "1.5.0",
      "model_name": "ButtonModel",
      "state": {
       "description": "Change",
       "layout": "IPY_MODEL_406e2047b04b4c3a83cf1e3708bf27cf",
       "style": "IPY_MODEL_e1873fb487e34a398f387bef05e40794"
      }
     },
     "6c1ca7c0dd8a4a9bba9ecd436725a478": {
      "model_module": "@jupyter-widgets/base",
      "model_module_version": "1.2.0",
      "model_name": "LayoutModel",
      "state": {
       "grid_area": "dircontent",
       "width": "auto"
      }
     },
     "6ce296fb6a8648d78fcc75f47889e51d": {
      "model_module": "@jupyter-widgets/controls",
      "model_module_version": "1.5.0",
      "model_name": "ButtonModel",
      "state": {
       "description": "Change",
       "layout": "IPY_MODEL_eb2b5026a9f740c7b3ae850f0928e05c",
       "style": "IPY_MODEL_1da6207e41eb434892a1461f0edab60e"
      }
     },
     "6f401ece728f4744855f7162c314fa7c": {
      "model_module": "@jupyter-widgets/controls",
      "model_module_version": "1.5.0",
      "model_name": "VBoxModel",
      "state": {
       "_dom_classes": [
        "widget-interact"
       ],
       "children": [
        "IPY_MODEL_20d63a57d59c44c2bcc3906fdaf2c95f",
        "IPY_MODEL_aefffda08d3c413c9f5a51ae568bd5b0"
       ],
       "layout": "IPY_MODEL_8aad8a04819243ef9a82330fb91f916a"
      }
     },
     "7a2a3974ca044f55a4f99ba4bf6bf38b": {
      "model_module": "@jupyter-widgets/controls",
      "model_module_version": "1.5.0",
      "model_name": "DescriptionStyleModel",
      "state": {
       "description_width": ""
      }
     },
     "7aac3c4d6d69437dae9339965805b73c": {
      "model_module": "@jupyter-widgets/controls",
      "model_module_version": "1.5.0",
      "model_name": "ButtonStyleModel",
      "state": {}
     },
     "7aced965630a40ffaeb009c6bac0493d": {
      "model_module": "@jupyter-widgets/base",
      "model_module_version": "1.2.0",
      "model_name": "LayoutModel",
      "state": {
       "width": "auto"
      }
     },
     "7f3be32061b54ddb899454dad55744c6": {
      "model_module": "@jupyter-widgets/base",
      "model_module_version": "1.2.0",
      "model_name": "LayoutModel",
      "state": {
       "width": "auto"
      }
     },
     "8aad8a04819243ef9a82330fb91f916a": {
      "model_module": "@jupyter-widgets/base",
      "model_module_version": "1.2.0",
      "model_name": "LayoutModel",
      "state": {}
     },
     "8dec235d38c247109faace98894115d1": {
      "model_module": "@jupyter-widgets/controls",
      "model_module_version": "1.5.0",
      "model_name": "CheckboxModel",
      "state": {
       "description": "run",
       "disabled": false,
       "layout": "IPY_MODEL_c33df12acff44060a3ffe9dc56328eb8",
       "style": "IPY_MODEL_42c36337b8e14b1e8b5e4c02af177844",
       "value": true
      }
     },
     "911e14b5fa504a519fa18efe53ffb5bd": {
      "model_module": "@jupyter-widgets/controls",
      "model_module_version": "1.5.0",
      "model_name": "ButtonStyleModel",
      "state": {}
     },
     "91382c3317184ab8a7d600d6901e1a2a": {
      "model_module": "@jupyter-widgets/base",
      "model_module_version": "1.2.0",
      "model_name": "LayoutModel",
      "state": {
       "grid_area": "pathlist",
       "width": "auto"
      }
     },
     "94e8668d2d4f454eb411c351cbb2401a": {
      "model_module": "@jupyter-widgets/controls",
      "model_module_version": "1.5.0",
      "model_name": "DescriptionStyleModel",
      "state": {
       "description_width": ""
      }
     },
     "9ee1408bb00c432692e16f0e871005f4": {
      "model_module": "@jupyter-widgets/controls",
      "model_module_version": "1.5.0",
      "model_name": "DescriptionStyleModel",
      "state": {
       "description_width": ""
      }
     },
     "a6d5e3bd54b04f05b671bbeb7010e672": {
      "model_module": "@jupyter-widgets/base",
      "model_module_version": "1.2.0",
      "model_name": "LayoutModel",
      "state": {
       "grid_area": "filename",
       "width": "auto"
      }
     },
     "aa2401dd9d514239906306f2d760ebf4": {
      "model_module": "@jupyter-widgets/base",
      "model_module_version": "1.2.0",
      "model_name": "LayoutModel",
      "state": {}
     },
     "aefffda08d3c413c9f5a51ae568bd5b0": {
      "model_module": "@jupyter-widgets/output",
      "model_module_version": "1.0.0",
      "model_name": "OutputModel",
      "state": {
       "layout": "IPY_MODEL_2ab4e38ace544d9289c345ae1e6b1eef",
       "outputs": [
        {
         "name": "stderr",
         "output_type": "stream",
         "text": "2021-10-04 14:39:49,042 INFO -------------------- Start --------------------\n2021-10-04 14:39:49,043 INFO Working directory: /mnt/ssd/git/dynamic-cmr-models.\n2021-10-04 14:39:49,044 INFO Log file: ./logs/temp/phase2phase/v3/64_128_128/window1/reg0_001/dmd/NOmask_bugfix_f0.log\n2021-10-04 14:39:49,044 INFO Log level for console: INFO\n2021-10-04 14:39:49,045 INFO Loaded config for experiment: temp/phase2phase/v3/64_128_128/window1/reg0_001/dmd/NOmask_bugfix_f0\n2021-10-04 14:39:49,047 INFO -------------------- Start --------------------\n2021-10-04 14:39:49,048 INFO Working directory: /mnt/ssd/git/dynamic-cmr-models.\n2021-10-04 14:39:49,049 INFO Log file: temp/phase2phase/v3/64_128_128/window1/reg0_001/dmd/NOmask_bugfix_f0_f0/Log.log\n2021-10-04 14:39:49,049 INFO Log level for console: INFO\n2021-10-04 14:39:49,051 INFO no files found, try to load with clean.nrrd/mask.nrrd pattern\n2021-10-04 14:39:49,052 INFO searched in: /mnt/ssd/data/dmd/02_imported_4D_unfiltered/sax\n2021-10-04 14:39:49,062 INFO Found 57 images/masks in /mnt/ssd/data/dmd/02_imported_4D_unfiltered/sax\n2021-10-04 14:39:49,063 INFO Patients train: 42\n2021-10-04 14:39:49,068 INFO Selected 42 of 57 files with 42 of 57 patients for training fold 0\n2021-10-04 14:39:49,068 INFO SAX train CMR: 42, SAX train masks: 42\n2021-10-04 14:39:49,069 INFO SAX val CMR: 15, SAX val masks: 15\n"
        },
        {
         "name": "stdout",
         "output_type": "stream",
         "text": "config given: /mnt/sds/sven/code/dynamic-cmr-models/exp/temp/phase2phase/v3/64_128_128/window1/reg0_001/dmd/NOmask_bugfix_f0/2021-10-01_19_20/config/config.json\n['/gpu:0', '/gpu:1']\n(None, 64, 128, 128, 3)\n(None, 64, 128, 128, 3)\n"
        },
        {
         "name": "stderr",
         "output_type": "stream",
         "text": "2021-10-04 14:39:50,826 INFO loaded model weights as h5 file\n2021-10-04 14:39:50,932 INFO Create DataGenerator\n2021-10-04 14:39:50,932 INFO Datagenerator created with: \n shape: [64, 128, 128]\n spacing: [1.4, 1.4, 1.4]\n batchsize: 1\n Scaler: standard\n Images: 15 \n Augment: False \n Thread workers: 1\n2021-10-04 14:39:50,933 INFO No augmentation\n2021-10-04 14:39:50,938 INFO params of generator:\n2021-10-04 14:39:50,938 INFO [('MASKING_IMAGE', False), ('SINGLE_OUTPUT', False), ('MASKING_VALUES', [2]), ('DEBUG_MODE', False), ('SCALER', 'standard'), ('AUGMENT', False), ('SHUFFLE', False), ('RESAMPLE', True), ('SPACING', [1.4, 1.4, 1.4]), ('SEED', 42), ('DIM', [64, 128, 128]), ('BATCHSIZE', 1), ('MASK_VALUES', [1, 2, 3]), ('N_CLASSES', 3), ('MAX_WORKERS', 1), ('T_SPACING', 100), ('PHASES', 5), ('HIST_MATCHING', False), ('IMG_INTERPOLATION', 2), ('MSK_INTERPOLATION', 1), ('AUGMENT_TEMP', False), ('RESAMPLE_T', False), ('WINDOW_SIZE', 1), ('IMG_CHANNELS', 3), ('INPUT_T_ELEM', 0), ('BETWEEN_PHASES', True), ('yield_masks', False), ('TARGET_CHANNELS', 1), ('IN_MEMORY', False), ('ISTRAINING', False), ('ISACDC', False), ('ISDMD', True), ('METADATA_FILE', '/mnt/ssd/data/dmd/02_imported_4D_unfiltered/SAx_3D_dicomTags_phase.csv')]\n2021-10-04 14:39:50,938 INFO Create DataGenerator\n2021-10-04 14:39:50,939 INFO Datagenerator created with: \n shape: [64, 128, 128]\n spacing: [1.4, 1.4, 1.4]\n batchsize: 1\n Scaler: standard\n Images: 15 \n Augment: False \n Thread workers: 1\n2021-10-04 14:39:50,939 INFO No augmentation\n2021-10-04 14:39:50,944 INFO params of generator:\n2021-10-04 14:39:50,945 INFO [('MASKING_IMAGE', False), ('SINGLE_OUTPUT', False), ('MASKING_VALUES', [2]), ('DEBUG_MODE', False), ('SCALER', 'standard'), ('AUGMENT', False), ('SHUFFLE', False), ('RESAMPLE', True), ('SPACING', [1.4, 1.4, 1.4]), ('SEED', 42), ('DIM', [64, 128, 128]), ('BATCHSIZE', 1), ('MASK_VALUES', [1, 2, 3]), ('N_CLASSES', 3), ('MAX_WORKERS', 1), ('T_SPACING', 100), ('PHASES', 5), ('HIST_MATCHING', False), ('IMG_INTERPOLATION', 2), ('MSK_INTERPOLATION', 1), ('AUGMENT_TEMP', False), ('RESAMPLE_T', False), ('WINDOW_SIZE', 1), ('IMG_CHANNELS', 3), ('INPUT_T_ELEM', 0), ('BETWEEN_PHASES', True), ('yield_masks', False), ('TARGET_CHANNELS', 1), ('IN_MEMORY', False), ('ISACDC', False), ('ISDMD', True), ('METADATA_FILE', '/mnt/ssd/data/dmd/02_imported_4D_unfiltered/SAx_3D_dicomTags_phase.csv')]\n2021-10-04 14:39:50,945 INFO Create DataGenerator\n2021-10-04 14:39:50,945 INFO Datagenerator created with: \n shape: [64, 128, 128]\n spacing: [1.4, 1.4, 1.4]\n batchsize: 1\n Scaler: standard\n Images: 15 \n Augment: False \n Thread workers: 1\n2021-10-04 14:39:50,946 INFO No augmentation\n2021-10-04 14:39:50,951 INFO params of generator:\n2021-10-04 14:39:50,951 INFO [('MASKING_IMAGE', True), ('SINGLE_OUTPUT', False), ('MASKING_VALUES', [2]), ('DEBUG_MODE', False), ('SCALER', 'standard'), ('AUGMENT', False), ('SHUFFLE', False), ('RESAMPLE', True), ('SPACING', [1.4, 1.4, 1.4]), ('SEED', 42), ('DIM', [64, 128, 128]), ('BATCHSIZE', 1), ('MASK_VALUES', [1, 2, 3]), ('N_CLASSES', 3), ('MAX_WORKERS', 1), ('T_SPACING', 100), ('PHASES', 5), ('HIST_MATCHING', False), ('IMG_INTERPOLATION', 1), ('MSK_INTERPOLATION', 1), ('AUGMENT_TEMP', False), ('RESAMPLE_T', False), ('WINDOW_SIZE', 1), ('IMG_CHANNELS', 3), ('INPUT_T_ELEM', 0), ('BETWEEN_PHASES', True), ('yield_masks', True), ('TARGET_CHANNELS', 1), ('IN_MEMORY', False), ('ISACDC', False), ('ISDMD', True), ('METADATA_FILE', '/mnt/ssd/data/dmd/02_imported_4D_unfiltered/SAx_3D_dicomTags_phase.csv')]\n2021-10-04 14:39:50,951 INFO Create DataGenerator\n2021-10-04 14:39:50,952 INFO Datagenerator created with: \n shape: [64, 128, 128]\n spacing: [1.4, 1.4, 1.4]\n batchsize: 1\n Scaler: standard\n Images: 15 \n Augment: False \n Thread workers: 1\n2021-10-04 14:39:50,952 INFO No augmentation\n2021-10-04 14:39:50,957 INFO params of generator:\n2021-10-04 14:39:50,957 INFO [('MASKING_IMAGE', False), ('SINGLE_OUTPUT', False), ('MASKING_VALUES', [2]), ('DEBUG_MODE', False), ('SCALER', 'standard'), ('AUGMENT', False), ('SHUFFLE', False), ('RESAMPLE', True), ('SPACING', [1.4, 1.4, 1.4]), ('SEED', 42), ('DIM', [64, 128, 128]), ('BATCHSIZE', 1), ('MASK_VALUES', [1, 2, 3]), ('N_CLASSES', 3), ('MAX_WORKERS', 1), ('T_SPACING', 100), ('PHASES', 5), ('HIST_MATCHING', False), ('IMG_INTERPOLATION', 1), ('MSK_INTERPOLATION', 1), ('AUGMENT_TEMP', False), ('RESAMPLE_T', False), ('WINDOW_SIZE', 1), ('IMG_CHANNELS', 1), ('INPUT_T_ELEM', 0), ('BETWEEN_PHASES', True), ('yield_masks', True), ('TARGET_CHANNELS', 1), ('IN_MEMORY', False), ('ISACDC', False), ('ISDMD', True), ('METADATA_FILE', '/mnt/ssd/data/dmd/02_imported_4D_unfiltered/SAx_3D_dicomTags_phase.csv')]\n2021-10-04 14:40:06,914 INFO /mnt/sds/sven/code/dynamic-cmr-models/exp/temp/phase2phase/v3/64_128_128/window1/reg0_001/dmd/NOmask_bugfix_f0/2021-10-01_19_20/pred/aa_20180710\n2021-10-04 14:40:21,164 INFO /mnt/sds/sven/code/dynamic-cmr-models/exp/temp/phase2phase/v3/64_128_128/window1/reg0_001/dmd/NOmask_bugfix_f0/2021-10-01_19_20/pred/ac_20180301\n2021-10-04 14:40:37,400 INFO /mnt/sds/sven/code/dynamic-cmr-models/exp/temp/phase2phase/v3/64_128_128/window1/reg0_001/dmd/NOmask_bugfix_f0/2021-10-01_19_20/pred/ao_20191212\n2021-10-04 14:40:50,867 INFO /mnt/sds/sven/code/dynamic-cmr-models/exp/temp/phase2phase/v3/64_128_128/window1/reg0_001/dmd/NOmask_bugfix_f0/2021-10-01_19_20/pred/ca_20180227\n2021-10-04 14:41:05,039 INFO /mnt/sds/sven/code/dynamic-cmr-models/exp/temp/phase2phase/v3/64_128_128/window1/reg0_001/dmd/NOmask_bugfix_f0/2021-10-01_19_20/pred/cj_20180706\n2021-10-04 14:41:20,231 INFO /mnt/sds/sven/code/dynamic-cmr-models/exp/temp/phase2phase/v3/64_128_128/window1/reg0_001/dmd/NOmask_bugfix_f0/2021-10-01_19_20/pred/ck_20180608\n2021-10-04 14:41:37,278 INFO /mnt/sds/sven/code/dynamic-cmr-models/exp/temp/phase2phase/v3/64_128_128/window1/reg0_001/dmd/NOmask_bugfix_f0/2021-10-01_19_20/pred/gv_20191115\n"
        },
        {
         "ename": "KeyboardInterrupt",
         "evalue": "",
         "output_type": "error",
         "traceback": [
          "\u001b[0;31m-------------------------------------------------------------------------\u001b[0m",
          "\u001b[0;31mKeyboardInterrupt\u001b[0m                       Traceback (most recent call last)",
          "\u001b[0;32m~/anaconda3/envs/dcmr/lib/python3.8/site-packages/ipywidgets/widgets/interaction.py\u001b[0m in \u001b[0;36mupdate\u001b[0;34m(self, *args)\u001b[0m\n\u001b[1;32m    254\u001b[0m                     \u001b[0mvalue\u001b[0m \u001b[0;34m=\u001b[0m \u001b[0mwidget\u001b[0m\u001b[0;34m.\u001b[0m\u001b[0mget_interact_value\u001b[0m\u001b[0;34m(\u001b[0m\u001b[0;34m)\u001b[0m\u001b[0;34m\u001b[0m\u001b[0;34m\u001b[0m\u001b[0m\n\u001b[1;32m    255\u001b[0m                     \u001b[0mself\u001b[0m\u001b[0;34m.\u001b[0m\u001b[0mkwargs\u001b[0m\u001b[0;34m[\u001b[0m\u001b[0mwidget\u001b[0m\u001b[0;34m.\u001b[0m\u001b[0m_kwarg\u001b[0m\u001b[0;34m]\u001b[0m \u001b[0;34m=\u001b[0m \u001b[0mvalue\u001b[0m\u001b[0;34m\u001b[0m\u001b[0;34m\u001b[0m\u001b[0m\n\u001b[0;32m--> 256\u001b[0;31m                 \u001b[0mself\u001b[0m\u001b[0;34m.\u001b[0m\u001b[0mresult\u001b[0m \u001b[0;34m=\u001b[0m \u001b[0mself\u001b[0m\u001b[0;34m.\u001b[0m\u001b[0mf\u001b[0m\u001b[0;34m(\u001b[0m\u001b[0;34m**\u001b[0m\u001b[0mself\u001b[0m\u001b[0;34m.\u001b[0m\u001b[0mkwargs\u001b[0m\u001b[0;34m)\u001b[0m\u001b[0;34m\u001b[0m\u001b[0;34m\u001b[0m\u001b[0m\n\u001b[0m\u001b[1;32m    257\u001b[0m                 \u001b[0mshow_inline_matplotlib_plots\u001b[0m\u001b[0;34m(\u001b[0m\u001b[0;34m)\u001b[0m\u001b[0;34m\u001b[0m\u001b[0;34m\u001b[0m\u001b[0m\n\u001b[1;32m    258\u001b[0m                 \u001b[0;32mif\u001b[0m \u001b[0mself\u001b[0m\u001b[0;34m.\u001b[0m\u001b[0mauto_display\u001b[0m \u001b[0;32mand\u001b[0m \u001b[0mself\u001b[0m\u001b[0;34m.\u001b[0m\u001b[0mresult\u001b[0m \u001b[0;32mis\u001b[0m \u001b[0;32mnot\u001b[0m \u001b[0;32mNone\u001b[0m\u001b[0;34m:\u001b[0m\u001b[0;34m\u001b[0m\u001b[0;34m\u001b[0m\u001b[0m\n",
          "\u001b[0;32m<ipython-input-2-b6bfcebaa14d>\u001b[0m in \u001b[0;36mcalc_scores\u001b[0;34m(run)\u001b[0m\n\u001b[1;32m     27\u001b[0m             \u001b[0mconfig\u001b[0m\u001b[0;34m[\u001b[0m\u001b[0;34m'DF_META'\u001b[0m\u001b[0;34m]\u001b[0m \u001b[0;34m=\u001b[0m \u001b[0mos\u001b[0m\u001b[0;34m.\u001b[0m\u001b[0mpath\u001b[0m\u001b[0;34m.\u001b[0m\u001b[0mjoin\u001b[0m\u001b[0;34m(\u001b[0m\u001b[0mdata_root\u001b[0m\u001b[0;34m,\u001b[0m \u001b[0;34m'SAx_3D_dicomTags_phase.csv'\u001b[0m\u001b[0;34m)\u001b[0m\u001b[0;34m\u001b[0m\u001b[0;34m\u001b[0m\u001b[0m\n\u001b[1;32m     28\u001b[0m             \u001b[0minfo\u001b[0m\u001b[0;34m(\u001b[0m\u001b[0;34m'Loaded config for experiment: {}'\u001b[0m\u001b[0;34m.\u001b[0m\u001b[0mformat\u001b[0m\u001b[0;34m(\u001b[0m\u001b[0mEXPERIMENT\u001b[0m\u001b[0;34m)\u001b[0m\u001b[0;34m)\u001b[0m\u001b[0;34m\u001b[0m\u001b[0;34m\u001b[0m\u001b[0m\n\u001b[0;32m---> 29\u001b[0;31m         \u001b[0mpred_fold\u001b[0m\u001b[0;34m(\u001b[0m\u001b[0mconfig\u001b[0m\u001b[0;34m)\u001b[0m\u001b[0;34m\u001b[0m\u001b[0;34m\u001b[0m\u001b[0m\n\u001b[0m\u001b[1;32m     30\u001b[0m         \u001b[0mcalc_dice\u001b[0m\u001b[0;34m(\u001b[0m\u001b[0mgt_path\u001b[0m\u001b[0;34m,\u001b[0m \u001b[0mpred_path\u001b[0m\u001b[0;34m,\u001b[0m \u001b[0mexp_path\u001b[0m\u001b[0;34m)\u001b[0m\u001b[0;34m\u001b[0m\u001b[0;34m\u001b[0m\u001b[0m\n",
          "\u001b[0;32m/mnt/ssd/git/dynamic-cmr-models/src/models/predict_motion_model.py\u001b[0m in \u001b[0;36mpred_fold\u001b[0;34m(config, debug)\u001b[0m\n\u001b[1;32m    150\u001b[0m             \u001b[0;32mfrom\u001b[0m \u001b[0msrc\u001b[0m\u001b[0;34m.\u001b[0m\u001b[0mmodels\u001b[0m\u001b[0;34m.\u001b[0m\u001b[0mModels\u001b[0m \u001b[0;32mimport\u001b[0m \u001b[0mcreate_dense_compose\u001b[0m\u001b[0;34m\u001b[0m\u001b[0;34m\u001b[0m\u001b[0m\n\u001b[1;32m    151\u001b[0m             \u001b[0mcomp\u001b[0m \u001b[0;34m=\u001b[0m \u001b[0mcreate_dense_compose\u001b[0m\u001b[0;34m(\u001b[0m\u001b[0mconfig\u001b[0m\u001b[0;34m)\u001b[0m\u001b[0;34m\u001b[0m\u001b[0;34m\u001b[0m\u001b[0m\n\u001b[0;32m--> 152\u001b[0;31m             \u001b[0mvects_composed\u001b[0m \u001b[0;34m=\u001b[0m \u001b[0mcomp\u001b[0m\u001b[0;34m.\u001b[0m\u001b[0mpredict\u001b[0m\u001b[0;34m(\u001b[0m\u001b[0mvects\u001b[0m\u001b[0;34m)\u001b[0m\u001b[0;34m\u001b[0m\u001b[0;34m\u001b[0m\u001b[0m\n\u001b[0m\u001b[1;32m    153\u001b[0m \u001b[0;34m\u001b[0m\u001b[0m\n\u001b[1;32m    154\u001b[0m             \u001b[0mmoved_m\u001b[0m \u001b[0;34m=\u001b[0m \u001b[0mtf\u001b[0m\u001b[0;34m.\u001b[0m\u001b[0mcast\u001b[0m\u001b[0;34m(\u001b[0m\u001b[0mmoved_m\u001b[0m \u001b[0;34m>\u001b[0m \u001b[0;36m0.5\u001b[0m\u001b[0;34m,\u001b[0m \u001b[0mtf\u001b[0m\u001b[0;34m.\u001b[0m\u001b[0muint8\u001b[0m\u001b[0;34m)\u001b[0m\u001b[0;34m\u001b[0m\u001b[0;34m\u001b[0m\u001b[0m\n",
          "\u001b[0;32m~/anaconda3/envs/dcmr/lib/python3.8/site-packages/tensorflow/python/keras/engine/training.py\u001b[0m in \u001b[0;36m_method_wrapper\u001b[0;34m(self, *args, **kwargs)\u001b[0m\n\u001b[1;32m    128\u001b[0m       raise ValueError('{} is not supported in multi-worker mode.'.format(\n\u001b[1;32m    129\u001b[0m           method.__name__))\n\u001b[0;32m--> 130\u001b[0;31m     \u001b[0;32mreturn\u001b[0m \u001b[0mmethod\u001b[0m\u001b[0;34m(\u001b[0m\u001b[0mself\u001b[0m\u001b[0;34m,\u001b[0m \u001b[0;34m*\u001b[0m\u001b[0margs\u001b[0m\u001b[0;34m,\u001b[0m \u001b[0;34m**\u001b[0m\u001b[0mkwargs\u001b[0m\u001b[0;34m)\u001b[0m\u001b[0;34m\u001b[0m\u001b[0;34m\u001b[0m\u001b[0m\n\u001b[0m\u001b[1;32m    131\u001b[0m \u001b[0;34m\u001b[0m\u001b[0m\n\u001b[1;32m    132\u001b[0m   return tf_decorator.make_decorator(\n",
          "\u001b[0;32m~/anaconda3/envs/dcmr/lib/python3.8/site-packages/tensorflow/python/keras/engine/training.py\u001b[0m in \u001b[0;36mpredict\u001b[0;34m(self, x, batch_size, verbose, steps, callbacks, max_queue_size, workers, use_multiprocessing)\u001b[0m\n\u001b[1;32m   1597\u001b[0m           \u001b[0;32mfor\u001b[0m \u001b[0mstep\u001b[0m \u001b[0;32min\u001b[0m \u001b[0mdata_handler\u001b[0m\u001b[0;34m.\u001b[0m\u001b[0msteps\u001b[0m\u001b[0;34m(\u001b[0m\u001b[0;34m)\u001b[0m\u001b[0;34m:\u001b[0m\u001b[0;34m\u001b[0m\u001b[0;34m\u001b[0m\u001b[0m\n\u001b[1;32m   1598\u001b[0m             \u001b[0mcallbacks\u001b[0m\u001b[0;34m.\u001b[0m\u001b[0mon_predict_batch_begin\u001b[0m\u001b[0;34m(\u001b[0m\u001b[0mstep\u001b[0m\u001b[0;34m)\u001b[0m\u001b[0;34m\u001b[0m\u001b[0;34m\u001b[0m\u001b[0m\n\u001b[0;32m-> 1599\u001b[0;31m             \u001b[0mtmp_batch_outputs\u001b[0m \u001b[0;34m=\u001b[0m \u001b[0mpredict_function\u001b[0m\u001b[0;34m(\u001b[0m\u001b[0miterator\u001b[0m\u001b[0;34m)\u001b[0m\u001b[0;34m\u001b[0m\u001b[0;34m\u001b[0m\u001b[0m\n\u001b[0m\u001b[1;32m   1600\u001b[0m             \u001b[0;32mif\u001b[0m \u001b[0mdata_handler\u001b[0m\u001b[0;34m.\u001b[0m\u001b[0mshould_sync\u001b[0m\u001b[0;34m:\u001b[0m\u001b[0;34m\u001b[0m\u001b[0;34m\u001b[0m\u001b[0m\n\u001b[1;32m   1601\u001b[0m               \u001b[0mcontext\u001b[0m\u001b[0;34m.\u001b[0m\u001b[0masync_wait\u001b[0m\u001b[0;34m(\u001b[0m\u001b[0;34m)\u001b[0m\u001b[0;34m\u001b[0m\u001b[0;34m\u001b[0m\u001b[0m\n",
          "\u001b[0;32m~/anaconda3/envs/dcmr/lib/python3.8/site-packages/tensorflow/python/eager/def_function.py\u001b[0m in \u001b[0;36m__call__\u001b[0;34m(self, *args, **kwds)\u001b[0m\n\u001b[1;32m    778\u001b[0m       \u001b[0;32melse\u001b[0m\u001b[0;34m:\u001b[0m\u001b[0;34m\u001b[0m\u001b[0;34m\u001b[0m\u001b[0m\n\u001b[1;32m    779\u001b[0m         \u001b[0mcompiler\u001b[0m \u001b[0;34m=\u001b[0m \u001b[0;34m\"nonXla\"\u001b[0m\u001b[0;34m\u001b[0m\u001b[0;34m\u001b[0m\u001b[0m\n\u001b[0;32m--> 780\u001b[0;31m         \u001b[0mresult\u001b[0m \u001b[0;34m=\u001b[0m \u001b[0mself\u001b[0m\u001b[0;34m.\u001b[0m\u001b[0m_call\u001b[0m\u001b[0;34m(\u001b[0m\u001b[0;34m*\u001b[0m\u001b[0margs\u001b[0m\u001b[0;34m,\u001b[0m \u001b[0;34m**\u001b[0m\u001b[0mkwds\u001b[0m\u001b[0;34m)\u001b[0m\u001b[0;34m\u001b[0m\u001b[0;34m\u001b[0m\u001b[0m\n\u001b[0m\u001b[1;32m    781\u001b[0m \u001b[0;34m\u001b[0m\u001b[0m\n\u001b[1;32m    782\u001b[0m       \u001b[0mnew_tracing_count\u001b[0m \u001b[0;34m=\u001b[0m \u001b[0mself\u001b[0m\u001b[0;34m.\u001b[0m\u001b[0m_get_tracing_count\u001b[0m\u001b[0;34m(\u001b[0m\u001b[0;34m)\u001b[0m\u001b[0;34m\u001b[0m\u001b[0;34m\u001b[0m\u001b[0m\n",
          "\u001b[0;32m~/anaconda3/envs/dcmr/lib/python3.8/site-packages/tensorflow/python/eager/def_function.py\u001b[0m in \u001b[0;36m_call\u001b[0;34m(self, *args, **kwds)\u001b[0m\n\u001b[1;32m    821\u001b[0m       \u001b[0;31m# This is the first call of __call__, so we have to initialize.\u001b[0m\u001b[0;34m\u001b[0m\u001b[0;34m\u001b[0m\u001b[0;34m\u001b[0m\u001b[0m\n\u001b[1;32m    822\u001b[0m       \u001b[0minitializers\u001b[0m \u001b[0;34m=\u001b[0m \u001b[0;34m[\u001b[0m\u001b[0;34m]\u001b[0m\u001b[0;34m\u001b[0m\u001b[0;34m\u001b[0m\u001b[0m\n\u001b[0;32m--> 823\u001b[0;31m       \u001b[0mself\u001b[0m\u001b[0;34m.\u001b[0m\u001b[0m_initialize\u001b[0m\u001b[0;34m(\u001b[0m\u001b[0margs\u001b[0m\u001b[0;34m,\u001b[0m \u001b[0mkwds\u001b[0m\u001b[0;34m,\u001b[0m \u001b[0madd_initializers_to\u001b[0m\u001b[0;34m=\u001b[0m\u001b[0minitializers\u001b[0m\u001b[0;34m)\u001b[0m\u001b[0;34m\u001b[0m\u001b[0;34m\u001b[0m\u001b[0m\n\u001b[0m\u001b[1;32m    824\u001b[0m     \u001b[0;32mfinally\u001b[0m\u001b[0;34m:\u001b[0m\u001b[0;34m\u001b[0m\u001b[0;34m\u001b[0m\u001b[0m\n\u001b[1;32m    825\u001b[0m       \u001b[0;31m# At this point we know that the initialization is complete (or less\u001b[0m\u001b[0;34m\u001b[0m\u001b[0;34m\u001b[0m\u001b[0;34m\u001b[0m\u001b[0m\n",
          "\u001b[0;32m~/anaconda3/envs/dcmr/lib/python3.8/site-packages/tensorflow/python/eager/def_function.py\u001b[0m in \u001b[0;36m_initialize\u001b[0;34m(self, args, kwds, add_initializers_to)\u001b[0m\n\u001b[1;32m    694\u001b[0m     \u001b[0mself\u001b[0m\u001b[0;34m.\u001b[0m\u001b[0m_graph_deleter\u001b[0m \u001b[0;34m=\u001b[0m \u001b[0mFunctionDeleter\u001b[0m\u001b[0;34m(\u001b[0m\u001b[0mself\u001b[0m\u001b[0;34m.\u001b[0m\u001b[0m_lifted_initializer_graph\u001b[0m\u001b[0;34m)\u001b[0m\u001b[0;34m\u001b[0m\u001b[0;34m\u001b[0m\u001b[0m\n\u001b[1;32m    695\u001b[0m     self._concrete_stateful_fn = (\n\u001b[0;32m--> 696\u001b[0;31m         self._stateful_fn._get_concrete_function_internal_garbage_collected(  # pylint: disable=protected-access\n\u001b[0m\u001b[1;32m    697\u001b[0m             *args, **kwds))\n\u001b[1;32m    698\u001b[0m \u001b[0;34m\u001b[0m\u001b[0m\n",
          "\u001b[0;32m~/anaconda3/envs/dcmr/lib/python3.8/site-packages/tensorflow/python/eager/function.py\u001b[0m in \u001b[0;36m_get_concrete_function_internal_garbage_collected\u001b[0;34m(self, *args, **kwargs)\u001b[0m\n\u001b[1;32m   2853\u001b[0m       \u001b[0margs\u001b[0m\u001b[0;34m,\u001b[0m \u001b[0mkwargs\u001b[0m \u001b[0;34m=\u001b[0m \u001b[0;32mNone\u001b[0m\u001b[0;34m,\u001b[0m \u001b[0;32mNone\u001b[0m\u001b[0;34m\u001b[0m\u001b[0;34m\u001b[0m\u001b[0m\n\u001b[1;32m   2854\u001b[0m     \u001b[0;32mwith\u001b[0m \u001b[0mself\u001b[0m\u001b[0;34m.\u001b[0m\u001b[0m_lock\u001b[0m\u001b[0;34m:\u001b[0m\u001b[0;34m\u001b[0m\u001b[0;34m\u001b[0m\u001b[0m\n\u001b[0;32m-> 2855\u001b[0;31m       \u001b[0mgraph_function\u001b[0m\u001b[0;34m,\u001b[0m \u001b[0m_\u001b[0m\u001b[0;34m,\u001b[0m \u001b[0m_\u001b[0m \u001b[0;34m=\u001b[0m \u001b[0mself\u001b[0m\u001b[0;34m.\u001b[0m\u001b[0m_maybe_define_function\u001b[0m\u001b[0;34m(\u001b[0m\u001b[0margs\u001b[0m\u001b[0;34m,\u001b[0m \u001b[0mkwargs\u001b[0m\u001b[0;34m)\u001b[0m\u001b[0;34m\u001b[0m\u001b[0;34m\u001b[0m\u001b[0m\n\u001b[0m\u001b[1;32m   2856\u001b[0m     \u001b[0;32mreturn\u001b[0m \u001b[0mgraph_function\u001b[0m\u001b[0;34m\u001b[0m\u001b[0;34m\u001b[0m\u001b[0m\n\u001b[1;32m   2857\u001b[0m \u001b[0;34m\u001b[0m\u001b[0m\n",
          "\u001b[0;32m~/anaconda3/envs/dcmr/lib/python3.8/site-packages/tensorflow/python/eager/function.py\u001b[0m in \u001b[0;36m_maybe_define_function\u001b[0;34m(self, args, kwargs)\u001b[0m\n\u001b[1;32m   3211\u001b[0m \u001b[0;34m\u001b[0m\u001b[0m\n\u001b[1;32m   3212\u001b[0m       \u001b[0mself\u001b[0m\u001b[0;34m.\u001b[0m\u001b[0m_function_cache\u001b[0m\u001b[0;34m.\u001b[0m\u001b[0mmissed\u001b[0m\u001b[0;34m.\u001b[0m\u001b[0madd\u001b[0m\u001b[0;34m(\u001b[0m\u001b[0mcall_context_key\u001b[0m\u001b[0;34m)\u001b[0m\u001b[0;34m\u001b[0m\u001b[0;34m\u001b[0m\u001b[0m\n\u001b[0;32m-> 3213\u001b[0;31m       \u001b[0mgraph_function\u001b[0m \u001b[0;34m=\u001b[0m \u001b[0mself\u001b[0m\u001b[0;34m.\u001b[0m\u001b[0m_create_graph_function\u001b[0m\u001b[0;34m(\u001b[0m\u001b[0margs\u001b[0m\u001b[0;34m,\u001b[0m \u001b[0mkwargs\u001b[0m\u001b[0;34m)\u001b[0m\u001b[0;34m\u001b[0m\u001b[0;34m\u001b[0m\u001b[0m\n\u001b[0m\u001b[1;32m   3214\u001b[0m       \u001b[0mself\u001b[0m\u001b[0;34m.\u001b[0m\u001b[0m_function_cache\u001b[0m\u001b[0;34m.\u001b[0m\u001b[0mprimary\u001b[0m\u001b[0;34m[\u001b[0m\u001b[0mcache_key\u001b[0m\u001b[0;34m]\u001b[0m \u001b[0;34m=\u001b[0m \u001b[0mgraph_function\u001b[0m\u001b[0;34m\u001b[0m\u001b[0;34m\u001b[0m\u001b[0m\n\u001b[1;32m   3215\u001b[0m       \u001b[0;32mreturn\u001b[0m \u001b[0mgraph_function\u001b[0m\u001b[0;34m,\u001b[0m \u001b[0margs\u001b[0m\u001b[0;34m,\u001b[0m \u001b[0mkwargs\u001b[0m\u001b[0;34m\u001b[0m\u001b[0;34m\u001b[0m\u001b[0m\n",
          "\u001b[0;32m~/anaconda3/envs/dcmr/lib/python3.8/site-packages/tensorflow/python/eager/function.py\u001b[0m in \u001b[0;36m_create_graph_function\u001b[0;34m(self, args, kwargs, override_flat_arg_shapes)\u001b[0m\n\u001b[1;32m   3063\u001b[0m     \u001b[0marg_names\u001b[0m \u001b[0;34m=\u001b[0m \u001b[0mbase_arg_names\u001b[0m \u001b[0;34m+\u001b[0m \u001b[0mmissing_arg_names\u001b[0m\u001b[0;34m\u001b[0m\u001b[0;34m\u001b[0m\u001b[0m\n\u001b[1;32m   3064\u001b[0m     graph_function = ConcreteFunction(\n\u001b[0;32m-> 3065\u001b[0;31m         func_graph_module.func_graph_from_py_func(\n\u001b[0m\u001b[1;32m   3066\u001b[0m             \u001b[0mself\u001b[0m\u001b[0;34m.\u001b[0m\u001b[0m_name\u001b[0m\u001b[0;34m,\u001b[0m\u001b[0;34m\u001b[0m\u001b[0;34m\u001b[0m\u001b[0m\n\u001b[1;32m   3067\u001b[0m             \u001b[0mself\u001b[0m\u001b[0;34m.\u001b[0m\u001b[0m_python_function\u001b[0m\u001b[0;34m,\u001b[0m\u001b[0;34m\u001b[0m\u001b[0;34m\u001b[0m\u001b[0m\n",
          "\u001b[0;32m~/anaconda3/envs/dcmr/lib/python3.8/site-packages/tensorflow/python/framework/func_graph.py\u001b[0m in \u001b[0;36mfunc_graph_from_py_func\u001b[0;34m(name, python_func, args, kwargs, signature, func_graph, autograph, autograph_options, add_control_dependencies, arg_names, op_return_value, collections, capture_by_value, override_flat_arg_shapes)\u001b[0m\n\u001b[1;32m    984\u001b[0m         \u001b[0m_\u001b[0m\u001b[0;34m,\u001b[0m \u001b[0moriginal_func\u001b[0m \u001b[0;34m=\u001b[0m \u001b[0mtf_decorator\u001b[0m\u001b[0;34m.\u001b[0m\u001b[0munwrap\u001b[0m\u001b[0;34m(\u001b[0m\u001b[0mpython_func\u001b[0m\u001b[0;34m)\u001b[0m\u001b[0;34m\u001b[0m\u001b[0;34m\u001b[0m\u001b[0m\n\u001b[1;32m    985\u001b[0m \u001b[0;34m\u001b[0m\u001b[0m\n\u001b[0;32m--> 986\u001b[0;31m       \u001b[0mfunc_outputs\u001b[0m \u001b[0;34m=\u001b[0m \u001b[0mpython_func\u001b[0m\u001b[0;34m(\u001b[0m\u001b[0;34m*\u001b[0m\u001b[0mfunc_args\u001b[0m\u001b[0;34m,\u001b[0m \u001b[0;34m**\u001b[0m\u001b[0mfunc_kwargs\u001b[0m\u001b[0;34m)\u001b[0m\u001b[0;34m\u001b[0m\u001b[0;34m\u001b[0m\u001b[0m\n\u001b[0m\u001b[1;32m    987\u001b[0m \u001b[0;34m\u001b[0m\u001b[0m\n\u001b[1;32m    988\u001b[0m       \u001b[0;31m# invariant: `func_outputs` contains only Tensors, CompositeTensors,\u001b[0m\u001b[0;34m\u001b[0m\u001b[0;34m\u001b[0m\u001b[0;34m\u001b[0m\u001b[0m\n",
          "\u001b[0;32m~/anaconda3/envs/dcmr/lib/python3.8/site-packages/tensorflow/python/eager/def_function.py\u001b[0m in \u001b[0;36mwrapped_fn\u001b[0;34m(*args, **kwds)\u001b[0m\n\u001b[1;32m    598\u001b[0m         \u001b[0;31m# __wrapped__ allows AutoGraph to swap in a converted function. We give\u001b[0m\u001b[0;34m\u001b[0m\u001b[0;34m\u001b[0m\u001b[0;34m\u001b[0m\u001b[0m\n\u001b[1;32m    599\u001b[0m         \u001b[0;31m# the function a weak reference to itself to avoid a reference cycle.\u001b[0m\u001b[0;34m\u001b[0m\u001b[0;34m\u001b[0m\u001b[0;34m\u001b[0m\u001b[0m\n\u001b[0;32m--> 600\u001b[0;31m         \u001b[0;32mreturn\u001b[0m \u001b[0mweak_wrapped_fn\u001b[0m\u001b[0;34m(\u001b[0m\u001b[0;34m)\u001b[0m\u001b[0;34m.\u001b[0m\u001b[0m__wrapped__\u001b[0m\u001b[0;34m(\u001b[0m\u001b[0;34m*\u001b[0m\u001b[0margs\u001b[0m\u001b[0;34m,\u001b[0m \u001b[0;34m**\u001b[0m\u001b[0mkwds\u001b[0m\u001b[0;34m)\u001b[0m\u001b[0;34m\u001b[0m\u001b[0;34m\u001b[0m\u001b[0m\n\u001b[0m\u001b[1;32m    601\u001b[0m     \u001b[0mweak_wrapped_fn\u001b[0m \u001b[0;34m=\u001b[0m \u001b[0mweakref\u001b[0m\u001b[0;34m.\u001b[0m\u001b[0mref\u001b[0m\u001b[0;34m(\u001b[0m\u001b[0mwrapped_fn\u001b[0m\u001b[0;34m)\u001b[0m\u001b[0;34m\u001b[0m\u001b[0;34m\u001b[0m\u001b[0m\n\u001b[1;32m    602\u001b[0m \u001b[0;34m\u001b[0m\u001b[0m\n",
          "\u001b[0;32m~/anaconda3/envs/dcmr/lib/python3.8/site-packages/tensorflow/python/framework/func_graph.py\u001b[0m in \u001b[0;36mwrapper\u001b[0;34m(*args, **kwargs)\u001b[0m\n\u001b[1;32m    960\u001b[0m           \u001b[0;31m# TODO(mdan): Push this block higher in tf.function's call stack.\u001b[0m\u001b[0;34m\u001b[0m\u001b[0;34m\u001b[0m\u001b[0;34m\u001b[0m\u001b[0m\n\u001b[1;32m    961\u001b[0m           \u001b[0;32mtry\u001b[0m\u001b[0;34m:\u001b[0m\u001b[0;34m\u001b[0m\u001b[0;34m\u001b[0m\u001b[0m\n\u001b[0;32m--> 962\u001b[0;31m             return autograph.converted_call(\n\u001b[0m\u001b[1;32m    963\u001b[0m                 \u001b[0moriginal_func\u001b[0m\u001b[0;34m,\u001b[0m\u001b[0;34m\u001b[0m\u001b[0;34m\u001b[0m\u001b[0m\n\u001b[1;32m    964\u001b[0m                 \u001b[0margs\u001b[0m\u001b[0;34m,\u001b[0m\u001b[0;34m\u001b[0m\u001b[0;34m\u001b[0m\u001b[0m\n",
          "\u001b[0;32m~/anaconda3/envs/dcmr/lib/python3.8/site-packages/tensorflow/python/autograph/impl/api.py\u001b[0m in \u001b[0;36mconverted_call\u001b[0;34m(f, args, kwargs, caller_fn_scope, options)\u001b[0m\n\u001b[1;32m    594\u001b[0m     \u001b[0;32mtry\u001b[0m\u001b[0;34m:\u001b[0m\u001b[0;34m\u001b[0m\u001b[0;34m\u001b[0m\u001b[0m\n\u001b[1;32m    595\u001b[0m       \u001b[0;32mif\u001b[0m \u001b[0mkwargs\u001b[0m \u001b[0;32mis\u001b[0m \u001b[0;32mnot\u001b[0m \u001b[0;32mNone\u001b[0m\u001b[0;34m:\u001b[0m\u001b[0;34m\u001b[0m\u001b[0;34m\u001b[0m\u001b[0m\n\u001b[0;32m--> 596\u001b[0;31m         \u001b[0mresult\u001b[0m \u001b[0;34m=\u001b[0m \u001b[0mconverted_f\u001b[0m\u001b[0;34m(\u001b[0m\u001b[0;34m*\u001b[0m\u001b[0meffective_args\u001b[0m\u001b[0;34m,\u001b[0m \u001b[0;34m**\u001b[0m\u001b[0mkwargs\u001b[0m\u001b[0;34m)\u001b[0m\u001b[0;34m\u001b[0m\u001b[0;34m\u001b[0m\u001b[0m\n\u001b[0m\u001b[1;32m    597\u001b[0m       \u001b[0;32melse\u001b[0m\u001b[0;34m:\u001b[0m\u001b[0;34m\u001b[0m\u001b[0;34m\u001b[0m\u001b[0m\n\u001b[1;32m    598\u001b[0m         \u001b[0mresult\u001b[0m \u001b[0;34m=\u001b[0m \u001b[0mconverted_f\u001b[0m\u001b[0;34m(\u001b[0m\u001b[0;34m*\u001b[0m\u001b[0meffective_args\u001b[0m\u001b[0;34m)\u001b[0m\u001b[0;34m\u001b[0m\u001b[0;34m\u001b[0m\u001b[0m\n",
          "\u001b[0;32m~/anaconda3/envs/dcmr/lib/python3.8/site-packages/tensorflow/python/keras/engine/training.py\u001b[0m in \u001b[0;36mtf__predict_function\u001b[0;34m(iterator)\u001b[0m\n\u001b[1;32m     14\u001b[0m                 \u001b[0;32mtry\u001b[0m\u001b[0;34m:\u001b[0m\u001b[0;34m\u001b[0m\u001b[0;34m\u001b[0m\u001b[0m\n\u001b[1;32m     15\u001b[0m                     \u001b[0mdo_return\u001b[0m \u001b[0;34m=\u001b[0m \u001b[0;32mTrue\u001b[0m\u001b[0;34m\u001b[0m\u001b[0;34m\u001b[0m\u001b[0m\n\u001b[0;32m---> 16\u001b[0;31m                     \u001b[0mretval_\u001b[0m \u001b[0;34m=\u001b[0m \u001b[0mag__\u001b[0m\u001b[0;34m.\u001b[0m\u001b[0mconverted_call\u001b[0m\u001b[0;34m(\u001b[0m\u001b[0mag__\u001b[0m\u001b[0;34m.\u001b[0m\u001b[0mld\u001b[0m\u001b[0;34m(\u001b[0m\u001b[0mstep_function\u001b[0m\u001b[0;34m)\u001b[0m\u001b[0;34m,\u001b[0m \u001b[0;34m(\u001b[0m\u001b[0mag__\u001b[0m\u001b[0;34m.\u001b[0m\u001b[0mld\u001b[0m\u001b[0;34m(\u001b[0m\u001b[0mself\u001b[0m\u001b[0;34m)\u001b[0m\u001b[0;34m,\u001b[0m \u001b[0mag__\u001b[0m\u001b[0;34m.\u001b[0m\u001b[0mld\u001b[0m\u001b[0;34m(\u001b[0m\u001b[0miterator\u001b[0m\u001b[0;34m)\u001b[0m\u001b[0;34m)\u001b[0m\u001b[0;34m,\u001b[0m \u001b[0;32mNone\u001b[0m\u001b[0;34m,\u001b[0m \u001b[0mfscope\u001b[0m\u001b[0;34m)\u001b[0m\u001b[0;34m\u001b[0m\u001b[0;34m\u001b[0m\u001b[0m\n\u001b[0m\u001b[1;32m     17\u001b[0m                 \u001b[0;32mexcept\u001b[0m\u001b[0;34m:\u001b[0m\u001b[0;34m\u001b[0m\u001b[0;34m\u001b[0m\u001b[0m\n\u001b[1;32m     18\u001b[0m                     \u001b[0mdo_return\u001b[0m \u001b[0;34m=\u001b[0m \u001b[0;32mFalse\u001b[0m\u001b[0;34m\u001b[0m\u001b[0;34m\u001b[0m\u001b[0m\n",
          "\u001b[0;32m~/anaconda3/envs/dcmr/lib/python3.8/site-packages/tensorflow/python/autograph/impl/api.py\u001b[0m in \u001b[0;36mconverted_call\u001b[0;34m(f, args, kwargs, caller_fn_scope, options)\u001b[0m\n\u001b[1;32m    530\u001b[0m \u001b[0;34m\u001b[0m\u001b[0m\n\u001b[1;32m    531\u001b[0m   \u001b[0;32mif\u001b[0m \u001b[0;32mnot\u001b[0m \u001b[0moptions\u001b[0m\u001b[0;34m.\u001b[0m\u001b[0muser_requested\u001b[0m \u001b[0;32mand\u001b[0m \u001b[0mconversion\u001b[0m\u001b[0;34m.\u001b[0m\u001b[0mis_whitelisted\u001b[0m\u001b[0;34m(\u001b[0m\u001b[0mf\u001b[0m\u001b[0;34m)\u001b[0m\u001b[0;34m:\u001b[0m\u001b[0;34m\u001b[0m\u001b[0;34m\u001b[0m\u001b[0m\n\u001b[0;32m--> 532\u001b[0;31m     \u001b[0;32mreturn\u001b[0m \u001b[0m_call_unconverted\u001b[0m\u001b[0;34m(\u001b[0m\u001b[0mf\u001b[0m\u001b[0;34m,\u001b[0m \u001b[0margs\u001b[0m\u001b[0;34m,\u001b[0m \u001b[0mkwargs\u001b[0m\u001b[0;34m,\u001b[0m \u001b[0moptions\u001b[0m\u001b[0;34m)\u001b[0m\u001b[0;34m\u001b[0m\u001b[0;34m\u001b[0m\u001b[0m\n\u001b[0m\u001b[1;32m    533\u001b[0m \u001b[0;34m\u001b[0m\u001b[0m\n\u001b[1;32m    534\u001b[0m   \u001b[0;31m# internal_convert_user_code is for example turned off when issuing a dynamic\u001b[0m\u001b[0;34m\u001b[0m\u001b[0;34m\u001b[0m\u001b[0;34m\u001b[0m\u001b[0m\n",
          "\u001b[0;32m~/anaconda3/envs/dcmr/lib/python3.8/site-packages/tensorflow/python/autograph/impl/api.py\u001b[0m in \u001b[0;36m_call_unconverted\u001b[0;34m(f, args, kwargs, options, update_cache)\u001b[0m\n\u001b[1;32m    338\u001b[0m   \u001b[0;32mif\u001b[0m \u001b[0mkwargs\u001b[0m \u001b[0;32mis\u001b[0m \u001b[0;32mnot\u001b[0m \u001b[0;32mNone\u001b[0m\u001b[0;34m:\u001b[0m\u001b[0;34m\u001b[0m\u001b[0;34m\u001b[0m\u001b[0m\n\u001b[1;32m    339\u001b[0m     \u001b[0;32mreturn\u001b[0m \u001b[0mf\u001b[0m\u001b[0;34m(\u001b[0m\u001b[0;34m*\u001b[0m\u001b[0margs\u001b[0m\u001b[0;34m,\u001b[0m \u001b[0;34m**\u001b[0m\u001b[0mkwargs\u001b[0m\u001b[0;34m)\u001b[0m\u001b[0;34m\u001b[0m\u001b[0;34m\u001b[0m\u001b[0m\n\u001b[0;32m--> 340\u001b[0;31m   \u001b[0;32mreturn\u001b[0m \u001b[0mf\u001b[0m\u001b[0;34m(\u001b[0m\u001b[0;34m*\u001b[0m\u001b[0margs\u001b[0m\u001b[0;34m)\u001b[0m\u001b[0;34m\u001b[0m\u001b[0;34m\u001b[0m\u001b[0m\n\u001b[0m\u001b[1;32m    341\u001b[0m \u001b[0;34m\u001b[0m\u001b[0m\n\u001b[1;32m    342\u001b[0m \u001b[0;34m\u001b[0m\u001b[0m\n",
          "\u001b[0;32m~/anaconda3/envs/dcmr/lib/python3.8/site-packages/tensorflow/python/keras/engine/training.py\u001b[0m in \u001b[0;36mstep_function\u001b[0;34m(model, iterator)\u001b[0m\n\u001b[1;32m   1450\u001b[0m \u001b[0;34m\u001b[0m\u001b[0m\n\u001b[1;32m   1451\u001b[0m       \u001b[0mdata\u001b[0m \u001b[0;34m=\u001b[0m \u001b[0mnext\u001b[0m\u001b[0;34m(\u001b[0m\u001b[0miterator\u001b[0m\u001b[0;34m)\u001b[0m\u001b[0;34m\u001b[0m\u001b[0;34m\u001b[0m\u001b[0m\n\u001b[0;32m-> 1452\u001b[0;31m       \u001b[0moutputs\u001b[0m \u001b[0;34m=\u001b[0m \u001b[0mmodel\u001b[0m\u001b[0;34m.\u001b[0m\u001b[0mdistribute_strategy\u001b[0m\u001b[0;34m.\u001b[0m\u001b[0mrun\u001b[0m\u001b[0;34m(\u001b[0m\u001b[0mrun_step\u001b[0m\u001b[0;34m,\u001b[0m \u001b[0margs\u001b[0m\u001b[0;34m=\u001b[0m\u001b[0;34m(\u001b[0m\u001b[0mdata\u001b[0m\u001b[0;34m,\u001b[0m\u001b[0;34m)\u001b[0m\u001b[0;34m)\u001b[0m\u001b[0;34m\u001b[0m\u001b[0;34m\u001b[0m\u001b[0m\n\u001b[0m\u001b[1;32m   1453\u001b[0m       outputs = reduce_per_replica(\n\u001b[1;32m   1454\u001b[0m           outputs, self.distribute_strategy, reduction='concat')\n",
          "\u001b[0;32m~/anaconda3/envs/dcmr/lib/python3.8/site-packages/tensorflow/python/distribute/distribute_lib.py\u001b[0m in \u001b[0;36mrun\u001b[0;34m(***failed resolving arguments***)\u001b[0m\n\u001b[1;32m   1209\u001b[0m       fn = autograph.tf_convert(\n\u001b[1;32m   1210\u001b[0m           fn, autograph_ctx.control_status_ctx(), convert_by_default=False)\n\u001b[0;32m-> 1211\u001b[0;31m       \u001b[0;32mreturn\u001b[0m \u001b[0mself\u001b[0m\u001b[0;34m.\u001b[0m\u001b[0m_extended\u001b[0m\u001b[0;34m.\u001b[0m\u001b[0mcall_for_each_replica\u001b[0m\u001b[0;34m(\u001b[0m\u001b[0mfn\u001b[0m\u001b[0;34m,\u001b[0m \u001b[0margs\u001b[0m\u001b[0;34m=\u001b[0m\u001b[0margs\u001b[0m\u001b[0;34m,\u001b[0m \u001b[0mkwargs\u001b[0m\u001b[0;34m=\u001b[0m\u001b[0mkwargs\u001b[0m\u001b[0;34m)\u001b[0m\u001b[0;34m\u001b[0m\u001b[0;34m\u001b[0m\u001b[0m\n\u001b[0m\u001b[1;32m   1212\u001b[0m \u001b[0;34m\u001b[0m\u001b[0m\n\u001b[1;32m   1213\u001b[0m   \u001b[0;31m# TODO(b/151224785): Remove deprecated alias.\u001b[0m\u001b[0;34m\u001b[0m\u001b[0;34m\u001b[0m\u001b[0;34m\u001b[0m\u001b[0m\n",
          "\u001b[0;32m~/anaconda3/envs/dcmr/lib/python3.8/site-packages/tensorflow/python/distribute/distribute_lib.py\u001b[0m in \u001b[0;36mcall_for_each_replica\u001b[0;34m(self, fn, args, kwargs)\u001b[0m\n\u001b[1;32m   2583\u001b[0m       \u001b[0mkwargs\u001b[0m \u001b[0;34m=\u001b[0m \u001b[0;34m{\u001b[0m\u001b[0;34m}\u001b[0m\u001b[0;34m\u001b[0m\u001b[0;34m\u001b[0m\u001b[0m\n\u001b[1;32m   2584\u001b[0m     \u001b[0;32mwith\u001b[0m \u001b[0mself\u001b[0m\u001b[0;34m.\u001b[0m\u001b[0m_container_strategy\u001b[0m\u001b[0;34m(\u001b[0m\u001b[0;34m)\u001b[0m\u001b[0;34m.\u001b[0m\u001b[0mscope\u001b[0m\u001b[0;34m(\u001b[0m\u001b[0;34m)\u001b[0m\u001b[0;34m:\u001b[0m\u001b[0;34m\u001b[0m\u001b[0;34m\u001b[0m\u001b[0m\n\u001b[0;32m-> 2585\u001b[0;31m       \u001b[0;32mreturn\u001b[0m \u001b[0mself\u001b[0m\u001b[0;34m.\u001b[0m\u001b[0m_call_for_each_replica\u001b[0m\u001b[0;34m(\u001b[0m\u001b[0mfn\u001b[0m\u001b[0;34m,\u001b[0m \u001b[0margs\u001b[0m\u001b[0;34m,\u001b[0m \u001b[0mkwargs\u001b[0m\u001b[0;34m)\u001b[0m\u001b[0;34m\u001b[0m\u001b[0;34m\u001b[0m\u001b[0m\n\u001b[0m\u001b[1;32m   2586\u001b[0m \u001b[0;34m\u001b[0m\u001b[0m\n\u001b[1;32m   2587\u001b[0m   \u001b[0;32mdef\u001b[0m \u001b[0m_call_for_each_replica\u001b[0m\u001b[0;34m(\u001b[0m\u001b[0mself\u001b[0m\u001b[0;34m,\u001b[0m \u001b[0mfn\u001b[0m\u001b[0;34m,\u001b[0m \u001b[0margs\u001b[0m\u001b[0;34m,\u001b[0m \u001b[0mkwargs\u001b[0m\u001b[0;34m)\u001b[0m\u001b[0;34m:\u001b[0m\u001b[0;34m\u001b[0m\u001b[0;34m\u001b[0m\u001b[0m\n",
          "\u001b[0;32m~/anaconda3/envs/dcmr/lib/python3.8/site-packages/tensorflow/python/distribute/mirrored_strategy.py\u001b[0m in \u001b[0;36m_call_for_each_replica\u001b[0;34m(self, fn, args, kwargs)\u001b[0m\n\u001b[1;32m    582\u001b[0m \u001b[0;34m\u001b[0m\u001b[0m\n\u001b[1;32m    583\u001b[0m   \u001b[0;32mdef\u001b[0m \u001b[0m_call_for_each_replica\u001b[0m\u001b[0;34m(\u001b[0m\u001b[0mself\u001b[0m\u001b[0;34m,\u001b[0m \u001b[0mfn\u001b[0m\u001b[0;34m,\u001b[0m \u001b[0margs\u001b[0m\u001b[0;34m,\u001b[0m \u001b[0mkwargs\u001b[0m\u001b[0;34m)\u001b[0m\u001b[0;34m:\u001b[0m\u001b[0;34m\u001b[0m\u001b[0;34m\u001b[0m\u001b[0m\n\u001b[0;32m--> 584\u001b[0;31m     return mirrored_run.call_for_each_replica(\n\u001b[0m\u001b[1;32m    585\u001b[0m         self._container_strategy(), fn, args, kwargs)\n\u001b[1;32m    586\u001b[0m \u001b[0;34m\u001b[0m\u001b[0m\n",
          "\u001b[0;32m~/anaconda3/envs/dcmr/lib/python3.8/site-packages/tensorflow/python/distribute/mirrored_run.py\u001b[0m in \u001b[0;36mcall_for_each_replica\u001b[0;34m(strategy, fn, args, kwargs)\u001b[0m\n\u001b[1;32m     94\u001b[0m     \u001b[0mfn\u001b[0m \u001b[0;34m=\u001b[0m \u001b[0mautograph\u001b[0m\u001b[0;34m.\u001b[0m\u001b[0mtf_convert\u001b[0m\u001b[0;34m(\u001b[0m\u001b[0mfn\u001b[0m\u001b[0;34m,\u001b[0m \u001b[0mautograph_ctx\u001b[0m\u001b[0;34m.\u001b[0m\u001b[0mcontrol_status_ctx\u001b[0m\u001b[0;34m(\u001b[0m\u001b[0;34m)\u001b[0m\u001b[0;34m)\u001b[0m\u001b[0;34m\u001b[0m\u001b[0;34m\u001b[0m\u001b[0m\n\u001b[1;32m     95\u001b[0m \u001b[0;34m\u001b[0m\u001b[0m\n\u001b[0;32m---> 96\u001b[0;31m   \u001b[0;32mreturn\u001b[0m \u001b[0m_call_for_each_replica\u001b[0m\u001b[0;34m(\u001b[0m\u001b[0mstrategy\u001b[0m\u001b[0;34m,\u001b[0m \u001b[0mfn\u001b[0m\u001b[0;34m,\u001b[0m \u001b[0margs\u001b[0m\u001b[0;34m,\u001b[0m \u001b[0mkwargs\u001b[0m\u001b[0;34m)\u001b[0m\u001b[0;34m\u001b[0m\u001b[0;34m\u001b[0m\u001b[0m\n\u001b[0m\u001b[1;32m     97\u001b[0m \u001b[0;34m\u001b[0m\u001b[0m\n\u001b[1;32m     98\u001b[0m \u001b[0;34m\u001b[0m\u001b[0m\n",
          "\u001b[0;32m~/anaconda3/envs/dcmr/lib/python3.8/site-packages/tensorflow/python/distribute/mirrored_run.py\u001b[0m in \u001b[0;36m_call_for_each_replica\u001b[0;34m(distribution, fn, args, kwargs)\u001b[0m\n\u001b[1;32m    235\u001b[0m     \u001b[0;32mfor\u001b[0m \u001b[0mt\u001b[0m \u001b[0;32min\u001b[0m \u001b[0mthreads\u001b[0m\u001b[0;34m:\u001b[0m\u001b[0;34m\u001b[0m\u001b[0;34m\u001b[0m\u001b[0m\n\u001b[1;32m    236\u001b[0m       \u001b[0mt\u001b[0m\u001b[0;34m.\u001b[0m\u001b[0mshould_run\u001b[0m\u001b[0;34m.\u001b[0m\u001b[0mset\u001b[0m\u001b[0;34m(\u001b[0m\u001b[0;34m)\u001b[0m\u001b[0;34m\u001b[0m\u001b[0;34m\u001b[0m\u001b[0m\n\u001b[0;32m--> 237\u001b[0;31m     \u001b[0mcoord\u001b[0m\u001b[0;34m.\u001b[0m\u001b[0mjoin\u001b[0m\u001b[0;34m(\u001b[0m\u001b[0mthreads\u001b[0m\u001b[0;34m)\u001b[0m\u001b[0;34m\u001b[0m\u001b[0;34m\u001b[0m\u001b[0m\n\u001b[0m\u001b[1;32m    238\u001b[0m \u001b[0;34m\u001b[0m\u001b[0m\n\u001b[1;32m    239\u001b[0m   \u001b[0;32mreturn\u001b[0m \u001b[0mdistribute_utils\u001b[0m\u001b[0;34m.\u001b[0m\u001b[0mregroup\u001b[0m\u001b[0;34m(\u001b[0m\u001b[0mtuple\u001b[0m\u001b[0;34m(\u001b[0m\u001b[0mt\u001b[0m\u001b[0;34m.\u001b[0m\u001b[0mmain_result\u001b[0m \u001b[0;32mfor\u001b[0m \u001b[0mt\u001b[0m \u001b[0;32min\u001b[0m \u001b[0mthreads\u001b[0m\u001b[0;34m)\u001b[0m\u001b[0;34m)\u001b[0m\u001b[0;34m\u001b[0m\u001b[0;34m\u001b[0m\u001b[0m\n",
          "\u001b[0;32m~/anaconda3/envs/dcmr/lib/python3.8/site-packages/tensorflow/python/training/coordinator.py\u001b[0m in \u001b[0;36mjoin\u001b[0;34m(self, threads, stop_grace_period_secs, ignore_live_threads)\u001b[0m\n\u001b[1;32m    387\u001b[0m       \u001b[0mself\u001b[0m\u001b[0;34m.\u001b[0m\u001b[0m_registered_threads\u001b[0m \u001b[0;34m=\u001b[0m \u001b[0mset\u001b[0m\u001b[0;34m(\u001b[0m\u001b[0;34m)\u001b[0m\u001b[0;34m\u001b[0m\u001b[0;34m\u001b[0m\u001b[0m\n\u001b[1;32m    388\u001b[0m       \u001b[0;32mif\u001b[0m \u001b[0mself\u001b[0m\u001b[0;34m.\u001b[0m\u001b[0m_exc_info_to_raise\u001b[0m\u001b[0;34m:\u001b[0m\u001b[0;34m\u001b[0m\u001b[0;34m\u001b[0m\u001b[0m\n\u001b[0;32m--> 389\u001b[0;31m         \u001b[0msix\u001b[0m\u001b[0;34m.\u001b[0m\u001b[0mreraise\u001b[0m\u001b[0;34m(\u001b[0m\u001b[0;34m*\u001b[0m\u001b[0mself\u001b[0m\u001b[0;34m.\u001b[0m\u001b[0m_exc_info_to_raise\u001b[0m\u001b[0;34m)\u001b[0m\u001b[0;34m\u001b[0m\u001b[0;34m\u001b[0m\u001b[0m\n\u001b[0m\u001b[1;32m    390\u001b[0m       \u001b[0;32melif\u001b[0m \u001b[0mstragglers\u001b[0m\u001b[0;34m:\u001b[0m\u001b[0;34m\u001b[0m\u001b[0;34m\u001b[0m\u001b[0m\n\u001b[1;32m    391\u001b[0m         \u001b[0;32mif\u001b[0m \u001b[0mignore_live_threads\u001b[0m\u001b[0;34m:\u001b[0m\u001b[0;34m\u001b[0m\u001b[0;34m\u001b[0m\u001b[0m\n",
          "\u001b[0;32m~/anaconda3/envs/dcmr/lib/python3.8/site-packages/six.py\u001b[0m in \u001b[0;36mreraise\u001b[0;34m(tp, value, tb)\u001b[0m\n\u001b[1;32m    701\u001b[0m             \u001b[0;32mif\u001b[0m \u001b[0mvalue\u001b[0m\u001b[0;34m.\u001b[0m\u001b[0m__traceback__\u001b[0m \u001b[0;32mis\u001b[0m \u001b[0;32mnot\u001b[0m \u001b[0mtb\u001b[0m\u001b[0;34m:\u001b[0m\u001b[0;34m\u001b[0m\u001b[0;34m\u001b[0m\u001b[0m\n\u001b[1;32m    702\u001b[0m                 \u001b[0;32mraise\u001b[0m \u001b[0mvalue\u001b[0m\u001b[0;34m.\u001b[0m\u001b[0mwith_traceback\u001b[0m\u001b[0;34m(\u001b[0m\u001b[0mtb\u001b[0m\u001b[0;34m)\u001b[0m\u001b[0;34m\u001b[0m\u001b[0;34m\u001b[0m\u001b[0m\n\u001b[0;32m--> 703\u001b[0;31m             \u001b[0;32mraise\u001b[0m \u001b[0mvalue\u001b[0m\u001b[0;34m\u001b[0m\u001b[0;34m\u001b[0m\u001b[0m\n\u001b[0m\u001b[1;32m    704\u001b[0m         \u001b[0;32mfinally\u001b[0m\u001b[0;34m:\u001b[0m\u001b[0;34m\u001b[0m\u001b[0;34m\u001b[0m\u001b[0m\n\u001b[1;32m    705\u001b[0m             \u001b[0mvalue\u001b[0m \u001b[0;34m=\u001b[0m \u001b[0;32mNone\u001b[0m\u001b[0;34m\u001b[0m\u001b[0;34m\u001b[0m\u001b[0m\n",
          "\u001b[0;32m~/anaconda3/envs/dcmr/lib/python3.8/site-packages/tensorflow/python/training/coordinator.py\u001b[0m in \u001b[0;36mstop_on_exception\u001b[0;34m(self)\u001b[0m\n\u001b[1;32m    295\u001b[0m     \"\"\"\n\u001b[1;32m    296\u001b[0m     \u001b[0;32mtry\u001b[0m\u001b[0;34m:\u001b[0m\u001b[0;34m\u001b[0m\u001b[0;34m\u001b[0m\u001b[0m\n\u001b[0;32m--> 297\u001b[0;31m       \u001b[0;32myield\u001b[0m\u001b[0;34m\u001b[0m\u001b[0;34m\u001b[0m\u001b[0m\n\u001b[0m\u001b[1;32m    298\u001b[0m     \u001b[0;32mexcept\u001b[0m\u001b[0;34m:\u001b[0m  \u001b[0;31m# pylint: disable=bare-except\u001b[0m\u001b[0;34m\u001b[0m\u001b[0;34m\u001b[0m\u001b[0m\n\u001b[1;32m    299\u001b[0m       \u001b[0mself\u001b[0m\u001b[0;34m.\u001b[0m\u001b[0mrequest_stop\u001b[0m\u001b[0;34m(\u001b[0m\u001b[0mex\u001b[0m\u001b[0;34m=\u001b[0m\u001b[0msys\u001b[0m\u001b[0;34m.\u001b[0m\u001b[0mexc_info\u001b[0m\u001b[0;34m(\u001b[0m\u001b[0;34m)\u001b[0m\u001b[0;34m)\u001b[0m\u001b[0;34m\u001b[0m\u001b[0;34m\u001b[0m\u001b[0m\n",
          "\u001b[0;32m~/anaconda3/envs/dcmr/lib/python3.8/site-packages/tensorflow/python/distribute/mirrored_run.py\u001b[0m in \u001b[0;36m_call_for_each_replica\u001b[0;34m(distribution, fn, args, kwargs)\u001b[0m\n\u001b[1;32m    197\u001b[0m           \u001b[0;32mfor\u001b[0m \u001b[0mt\u001b[0m \u001b[0;32min\u001b[0m \u001b[0mthreads\u001b[0m\u001b[0;34m:\u001b[0m\u001b[0;34m\u001b[0m\u001b[0;34m\u001b[0m\u001b[0m\n\u001b[1;32m    198\u001b[0m             \u001b[0mt\u001b[0m\u001b[0;34m.\u001b[0m\u001b[0mshould_run\u001b[0m\u001b[0;34m.\u001b[0m\u001b[0mset\u001b[0m\u001b[0;34m(\u001b[0m\u001b[0;34m)\u001b[0m\u001b[0;34m\u001b[0m\u001b[0;34m\u001b[0m\u001b[0m\n\u001b[0;32m--> 199\u001b[0;31m             \u001b[0mt\u001b[0m\u001b[0;34m.\u001b[0m\u001b[0mhas_paused\u001b[0m\u001b[0;34m.\u001b[0m\u001b[0mwait\u001b[0m\u001b[0;34m(\u001b[0m\u001b[0;34m)\u001b[0m\u001b[0;34m\u001b[0m\u001b[0;34m\u001b[0m\u001b[0m\n\u001b[0m\u001b[1;32m    200\u001b[0m             \u001b[0mt\u001b[0m\u001b[0;34m.\u001b[0m\u001b[0mhas_paused\u001b[0m\u001b[0;34m.\u001b[0m\u001b[0mclear\u001b[0m\u001b[0;34m(\u001b[0m\u001b[0;34m)\u001b[0m\u001b[0;34m\u001b[0m\u001b[0;34m\u001b[0m\u001b[0m\n\u001b[1;32m    201\u001b[0m             \u001b[0;32mif\u001b[0m \u001b[0mcoord\u001b[0m\u001b[0;34m.\u001b[0m\u001b[0mshould_stop\u001b[0m\u001b[0;34m(\u001b[0m\u001b[0;34m)\u001b[0m\u001b[0;34m:\u001b[0m\u001b[0;34m\u001b[0m\u001b[0;34m\u001b[0m\u001b[0m\n",
          "\u001b[0;32m~/anaconda3/envs/dcmr/lib/python3.8/threading.py\u001b[0m in \u001b[0;36mwait\u001b[0;34m(self, timeout)\u001b[0m\n\u001b[1;32m    556\u001b[0m             \u001b[0msignaled\u001b[0m \u001b[0;34m=\u001b[0m \u001b[0mself\u001b[0m\u001b[0;34m.\u001b[0m\u001b[0m_flag\u001b[0m\u001b[0;34m\u001b[0m\u001b[0;34m\u001b[0m\u001b[0m\n\u001b[1;32m    557\u001b[0m             \u001b[0;32mif\u001b[0m \u001b[0;32mnot\u001b[0m \u001b[0msignaled\u001b[0m\u001b[0;34m:\u001b[0m\u001b[0;34m\u001b[0m\u001b[0;34m\u001b[0m\u001b[0m\n\u001b[0;32m--> 558\u001b[0;31m                 \u001b[0msignaled\u001b[0m \u001b[0;34m=\u001b[0m \u001b[0mself\u001b[0m\u001b[0;34m.\u001b[0m\u001b[0m_cond\u001b[0m\u001b[0;34m.\u001b[0m\u001b[0mwait\u001b[0m\u001b[0;34m(\u001b[0m\u001b[0mtimeout\u001b[0m\u001b[0;34m)\u001b[0m\u001b[0;34m\u001b[0m\u001b[0;34m\u001b[0m\u001b[0m\n\u001b[0m\u001b[1;32m    559\u001b[0m             \u001b[0;32mreturn\u001b[0m \u001b[0msignaled\u001b[0m\u001b[0;34m\u001b[0m\u001b[0;34m\u001b[0m\u001b[0m\n\u001b[1;32m    560\u001b[0m \u001b[0;34m\u001b[0m\u001b[0m\n",
          "\u001b[0;32m~/anaconda3/envs/dcmr/lib/python3.8/threading.py\u001b[0m in \u001b[0;36mwait\u001b[0;34m(self, timeout)\u001b[0m\n\u001b[1;32m    300\u001b[0m         \u001b[0;32mtry\u001b[0m\u001b[0;34m:\u001b[0m    \u001b[0;31m# restore state no matter what (e.g., KeyboardInterrupt)\u001b[0m\u001b[0;34m\u001b[0m\u001b[0;34m\u001b[0m\u001b[0m\n\u001b[1;32m    301\u001b[0m             \u001b[0;32mif\u001b[0m \u001b[0mtimeout\u001b[0m \u001b[0;32mis\u001b[0m \u001b[0;32mNone\u001b[0m\u001b[0;34m:\u001b[0m\u001b[0;34m\u001b[0m\u001b[0;34m\u001b[0m\u001b[0m\n\u001b[0;32m--> 302\u001b[0;31m                 \u001b[0mwaiter\u001b[0m\u001b[0;34m.\u001b[0m\u001b[0macquire\u001b[0m\u001b[0;34m(\u001b[0m\u001b[0;34m)\u001b[0m\u001b[0;34m\u001b[0m\u001b[0;34m\u001b[0m\u001b[0m\n\u001b[0m\u001b[1;32m    303\u001b[0m                 \u001b[0mgotit\u001b[0m \u001b[0;34m=\u001b[0m \u001b[0;32mTrue\u001b[0m\u001b[0;34m\u001b[0m\u001b[0;34m\u001b[0m\u001b[0m\n\u001b[1;32m    304\u001b[0m             \u001b[0;32melse\u001b[0m\u001b[0;34m:\u001b[0m\u001b[0;34m\u001b[0m\u001b[0;34m\u001b[0m\u001b[0m\n",
          "\u001b[0;31mKeyboardInterrupt\u001b[0m: "
         ]
        }
       ]
      }
     },
     "b02b783e72944f458d49d6030ecabfd4": {
      "model_module": "@jupyter-widgets/controls",
      "model_module_version": "1.5.0",
      "model_name": "HTMLModel",
      "state": {
       "layout": "IPY_MODEL_09a9c1e8ff6742e6a9eb8f90e525a1a2",
       "placeholder": "",
       "style": "IPY_MODEL_53a15cab685d42cb89703fee3fb714f9",
       "value": "<span style=\"margin-left:10px; color:green;\">/mnt/sds/sven/code/dynamic-cmr-models/exp/temp/phase2phase/v3/64_128_128/window1/reg0_001/dmd/NOmask_bugfix_f0/2021-10-01_19_20/</span>"
      }
     },
     "b27ff74ca29f41e58faf68373fa44b77": {
      "model_module": "@jupyter-widgets/controls",
      "model_module_version": "1.5.0",
      "model_name": "DescriptionStyleModel",
      "state": {
       "description_width": ""
      }
     },
     "b37559fe038b42c4a33fccb91da5c711": {
      "model_module": "@jupyter-widgets/base",
      "model_module_version": "1.2.0",
      "model_name": "LayoutModel",
      "state": {
       "display": "none",
       "grid_gap": "0px 0px",
       "grid_template_areas": "\n                    'pathlist filename'\n                    'dircontent dircontent'\n                    ",
       "grid_template_columns": "60% 40%",
       "grid_template_rows": "auto auto",
       "width": "500px"
      }
     },
     "bbfbf41d1daa48e1b542c68dd4211a72": {
      "model_module": "@jupyter-widgets/controls",
      "model_module_version": "1.5.0",
      "model_name": "HBoxModel",
      "state": {
       "children": [
        "IPY_MODEL_664ce4cf873e48a0843cdf7ada86a535",
        "IPY_MODEL_1c9e8e80a5b7427f871db4643c027882",
        "IPY_MODEL_cb5594d6902b40dd88ba92ca1103316f"
       ],
       "layout": "IPY_MODEL_7aced965630a40ffaeb009c6bac0493d"
      }
     },
     "c33df12acff44060a3ffe9dc56328eb8": {
      "model_module": "@jupyter-widgets/base",
      "model_module_version": "1.2.0",
      "model_name": "LayoutModel",
      "state": {}
     },
     "c86fd465d083498abfa647bd21f39de8": {
      "model_module": "@jupyter-widgets/base",
      "model_module_version": "1.2.0",
      "model_name": "LayoutModel",
      "state": {}
     },
     "cb5594d6902b40dd88ba92ca1103316f": {
      "model_module": "@jupyter-widgets/controls",
      "model_module_version": "1.5.0",
      "model_name": "HTMLModel",
      "state": {
       "layout": "IPY_MODEL_aa2401dd9d514239906306f2d760ebf4",
       "placeholder": "",
       "style": "IPY_MODEL_475b92f08bed46fb8edb794f1b71e4bd",
       "value": "<span style=\"margin-left:10px; color:green;\">/mnt/sds/sven/code/dynamic-cmr-models/exp/temp/phase2phase/v3/64_128_128/window1/reg0_001/dmd/NOmask_bugfix_f0/2021-10-01_19_20/</span>"
      }
     },
     "cffcd407c04c49d598060cdda5938a57": {
      "model_module": "@jupyter-widgets/base",
      "model_module_version": "1.2.0",
      "model_name": "LayoutModel",
      "state": {
       "width": "auto"
      }
     },
     "d4eb7e6addd44a07a3199c3e024602c4": {
      "model_module": "@jupyter-widgets/controls",
      "model_module_version": "1.5.0",
      "model_name": "DescriptionStyleModel",
      "state": {
       "description_width": ""
      }
     },
     "e1873fb487e34a398f387bef05e40794": {
      "model_module": "@jupyter-widgets/controls",
      "model_module_version": "1.5.0",
      "model_name": "ButtonStyleModel",
      "state": {}
     },
     "e73f138c3a4344a3b8faa6c70b779f8a": {
      "model_module": "@jupyter-widgets/base",
      "model_module_version": "1.2.0",
      "model_name": "LayoutModel",
      "state": {
       "display": "none",
       "grid_gap": "0px 0px",
       "grid_template_areas": "\n                    'pathlist filename'\n                    'dircontent dircontent'\n                    ",
       "grid_template_columns": "60% 40%",
       "grid_template_rows": "auto auto",
       "width": "500px"
      }
     },
     "eb2b5026a9f740c7b3ae850f0928e05c": {
      "model_module": "@jupyter-widgets/base",
      "model_module_version": "1.2.0",
      "model_name": "LayoutModel",
      "state": {
       "width": "auto"
      }
     },
     "ee9e80c6fe1e42d99a0196dd3a285928": {
      "model_module": "@jupyter-widgets/base",
      "model_module_version": "1.2.0",
      "model_name": "LayoutModel",
      "state": {
       "display": "none"
      }
     },
     "f30cafa3a5b9460eb324f798f070df9b": {
      "model_module": "@jupyter-widgets/controls",
      "model_module_version": "1.5.0",
      "model_name": "HTMLModel",
      "state": {
       "layout": "IPY_MODEL_0f27f13edcbd4c7e9a9109b092dee974",
       "style": "IPY_MODEL_b27ff74ca29f41e58faf68373fa44b77"
      }
     },
     "f49615fdf0e448bba53dd389d198725b": {
      "model_module": "@jupyter-widgets/controls",
      "model_module_version": "1.5.0",
      "model_name": "DescriptionStyleModel",
      "state": {
       "description_width": ""
      }
     },
     "f89f08df21fb4af294cf8ac40c754ff2": {
      "model_module": "@jupyter-widgets/controls",
      "model_module_version": "1.5.0",
      "model_name": "VBoxModel",
      "state": {
       "children": [
        "IPY_MODEL_f30cafa3a5b9460eb324f798f070df9b",
        "IPY_MODEL_08ea5aeea1a045e991060267d25c4aa5",
        "IPY_MODEL_51dbde58a0714ab4a5d541b857dce1eb"
       ],
       "layout": "IPY_MODEL_cffcd407c04c49d598060cdda5938a57"
      }
     },
     "fb611eea9b5a40f68922da501028d6f1": {
      "model_module": "@jupyter-widgets/base",
      "model_module_version": "1.2.0",
      "model_name": "LayoutModel",
      "state": {
       "display": "none",
       "width": "auto"
      }
     }
    },
    "version_major": 2,
    "version_minor": 0
   }
  }
 },
 "nbformat": 4,
 "nbformat_minor": 5
}
