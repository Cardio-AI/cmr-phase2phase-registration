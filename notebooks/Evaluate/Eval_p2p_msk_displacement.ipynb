{
 "cells": [
  {
   "cell_type": "code",
   "execution_count": 1,
   "id": "13136d43",
   "metadata": {},
   "outputs": [
    {
     "name": "stdout",
     "output_type": "stream",
     "text": [
      "search for root_dir and set working directory\n",
      "Working directory set to: /mnt/ssd/git/dynamic-cmr-models\n"
     ]
    }
   ],
   "source": [
    "# define logging and working directory\n",
    "# ------------------------------------------\n",
    "from ProjectRoot import change_wd_to_project_root\n",
    "change_wd_to_project_root()\n",
    "# jupyter magic config\n",
    "# ------------------------------------------\n",
    "%matplotlib inline\n",
    "%reload_ext autoreload\n",
    "%autoreload 2\n",
    "# this should import glob, os, and many other standard libs\n",
    "# ------------------------------------------ \n",
    "from src.utils.Notebook_imports import *\n",
    "# local imports\n",
    "# ------------------------------------------ \n",
    "from src.utils.Utils_io import Console_and_file_logger, init_config\n",
    "# import external libs\n",
    "# ------------------------------------------ \n",
    "import pandas as pd\n",
    "import numpy as np\n",
    "from ipyfilechooser import FileChooser\n",
    "import glob\n",
    "import os"
   ]
  },
  {
   "cell_type": "code",
   "execution_count": 3,
   "id": "6e3cd1d5",
   "metadata": {
    "tags": []
   },
   "outputs": [
    {
     "data": {
      "application/vnd.jupyter.widget-view+json": {
       "model_id": "26eabce62aae43708fb62a9b6b5775fb",
       "version_major": 2,
       "version_minor": 0
      },
      "text/plain": [
       "FileChooser(path='/mnt/sds/sven/code/dynamic-cmr-models/exp/temp/phase2phase/v3/64_128_128/window1/reg0_001', …"
      ]
     },
     "metadata": {},
     "output_type": "display_data"
    },
    {
     "data": {
      "application/vnd.jupyter.widget-view+json": {
       "model_id": "54aad742a7f142cbab75a6f1d71098a7",
       "version_major": 2,
       "version_minor": 0
      },
      "text/plain": [
       "interactive(children=(Checkbox(value=False, description='run'), Output()), _dom_classes=('widget-interact',))"
      ]
     },
     "metadata": {},
     "output_type": "display_data"
    }
   ],
   "source": [
    "# predict and \n",
    "# evaluate / calc dice and hd\n",
    "from src.models.Evaluate_moved_myo import calc_dice\n",
    "from src.models.predict_motion_model import pred_fold\n",
    "import os\n",
    "sds_storage = '/mnt/sds/sven/code/dynamic-cmr-models/exp/temp/phase2phase/v3/64_128_128/window1/reg0_001/'\n",
    "data_root = '/mnt/ssd/data/dmd/02_imported_4D_unfiltered/'\n",
    "fchooser = FileChooser(sds_storage, '')\n",
    "display(fchooser)\n",
    "@interact\n",
    "def calc_scores(run=False):\n",
    "    if run:\n",
    "        exp_path = fchooser.selected\n",
    "        gt_path = os.path.join(exp_path, 'gt_m')\n",
    "        pred_path = os.path.join(exp_path, 'pred_m')\n",
    "        cfg_file = os.path.join(exp_path,'config/config.json')\n",
    "        print('config given: {}'.format(cfg_file))\n",
    "        # load the experiment config\n",
    "        with open(cfg_file, encoding='utf-8') as data_file:\n",
    "            config = json.loads(data_file.read())\n",
    "\n",
    "            EXPERIMENT = config.get('EXPERIMENT', 'UNDEFINED')\n",
    "            Console_and_file_logger(EXPERIMENT, logging.INFO)\n",
    "            config['MODEL_PATH'] = os.path.join(exp_path, 'model/')\n",
    "            config['EXP_PATH'] = exp_path\n",
    "            config['DATA_PATH_SAX'] = os.path.join(data_root, 'sax')\n",
    "            config['DF_FOLDS'] = os.path.join(data_root, 'df_kfold.csv')\n",
    "            config['DF_META'] = os.path.join(data_root, 'SAx_3D_dicomTags_phase.csv')\n",
    "            info('Loaded config for experiment: {}'.format(EXPERIMENT))\n",
    "        pred_fold(config) # that way we predict and evaluate, because of a previous prediction bug\n",
    "        if not os.path.exists(pred_path):\n",
    "            print('prediction')\n",
    "        calc_dice(gt_path, pred_path, exp_path)"
   ]
  },
  {
   "cell_type": "code",
   "execution_count": 4,
   "id": "c64ea161",
   "metadata": {},
   "outputs": [],
   "source": [
    "df_files = ['/mnt/sds/sven/code/dynamic-cmr-models/exp/temp/phase2phase/v3/64_128_128/window1/reg0_001/dmd/smoothmyo_mloss001_f0/2021-10-08_16_18/', \n",
    "           '/mnt/sds/sven/code/dynamic-cmr-models/exp/temp/phase2phase/v3/64_128_128/window1/reg0_001/dmd/smoothmyo_mloss001_f1/2021-10-08_20_55/',\n",
    "           '/mnt/sds/sven/code/dynamic-cmr-models/exp/temp/phase2phase/v3/64_128_128/window1/reg0_001/dmd/smoothmyo_mloss001_f2/2021-10-09_00_47/',\n",
    "           '/mnt/sds/sven/code/dynamic-cmr-models/exp/temp/phase2phase/v3/64_128_128/window1/reg0_001/dmd/smoothmyo_mloss001_f3/2021-10-09_02_54/']\n",
    "\n",
    "dfs = [pd.read_csv(os.path.join(f,'results.csv')) for f in df_files]"
   ]
  },
  {
   "cell_type": "code",
   "execution_count": 5,
   "id": "1286082e",
   "metadata": {},
   "outputs": [],
   "source": [
    "df = pd.concat(dfs)"
   ]
  },
  {
   "cell_type": "code",
   "execution_count": 6,
   "id": "fecde5a2",
   "metadata": {},
   "outputs": [
    {
     "data": {
      "text/plain": [
       "[(0.0, 1.0)]"
      ]
     },
     "execution_count": 6,
     "metadata": {},
     "output_type": "execute_result"
    },
    {
     "data": {
      "image/png": "[encoded data removed]",
      "text/plain": [
       "<Figure size 432x288 with 1 Axes>"
      ]
     },
     "metadata": {
      "needs_background": "light"
     },
     "output_type": "display_data"
    }
   ],
   "source": [
    "import seaborn as sb\n",
    "g = sb.violinplot(x='phase', y='dice', data=df[['patient', 'phase', 'dice']])\n",
    "g.set(ylim=(0,1))"
   ]
  },
  {
   "cell_type": "code",
   "execution_count": 7,
   "id": "778030cb",
   "metadata": {},
   "outputs": [
    {
     "data": {
      "text/plain": [
       "[(0.0, 25.0)]"
      ]
     },
     "execution_count": 7,
     "metadata": {},
     "output_type": "execute_result"
    },
    {
     "data": {
      "image/png": "[encoded data removed]",
      "text/plain": [
       "<Figure size 432x288 with 1 Axes>"
      ]
     },
     "metadata": {
      "needs_background": "light"
     },
     "output_type": "display_data"
    }
   ],
   "source": [
    "g = sb.violinplot(x='phase', y='hd', data=df[['patient', 'phase', 'hd']])\n",
    "g.set(ylim=(0, 25))"
   ]
  },
  {
   "cell_type": "code",
   "execution_count": 18,
   "id": "4a1bfa1a",
   "metadata": {},
   "outputs": [
    {
     "data": {
      "text/html": [
       "<style  type=\"text/css\" >\n",
       "#T_17195_row2_col0,#T_17195_row3_col1{\n",
       "            background-color:  lightgreen;\n",
       "        }</style><table id=\"T_17195_\" ><thead>    <tr>        <th class=\"blank level0\" ></th>        <th class=\"col_heading level0 col0\" >dice</th>        <th class=\"col_heading level0 col1\" >hd</th>    </tr>    <tr>        <th class=\"index_name level0\" >phase</th>        <th class=\"blank\" ></th>        <th class=\"blank\" ></th>    </tr></thead><tbody>\n",
       "                <tr>\n",
       "                        <th id=\"T_17195_level0_row0\" class=\"row_heading level0 row0\" >ED</th>\n",
       "                        <td id=\"T_17195_row0_col0\" class=\"data row0 col0\" >0.730595</td>\n",
       "                        <td id=\"T_17195_row0_col1\" class=\"data row0 col1\" >10.598242</td>\n",
       "            </tr>\n",
       "            <tr>\n",
       "                        <th id=\"T_17195_level0_row1\" class=\"row_heading level0 row1\" >ES</th>\n",
       "                        <td id=\"T_17195_row1_col0\" class=\"data row1 col0\" >0.754767</td>\n",
       "                        <td id=\"T_17195_row1_col1\" class=\"data row1 col1\" >8.564793</td>\n",
       "            </tr>\n",
       "            <tr>\n",
       "                        <th id=\"T_17195_level0_row2\" class=\"row_heading level0 row2\" >MD</th>\n",
       "                        <td id=\"T_17195_row2_col0\" class=\"data row2 col0\" >0.781138</td>\n",
       "                        <td id=\"T_17195_row2_col1\" class=\"data row2 col1\" >9.032958</td>\n",
       "            </tr>\n",
       "            <tr>\n",
       "                        <th id=\"T_17195_level0_row3\" class=\"row_heading level0 row3\" >MS</th>\n",
       "                        <td id=\"T_17195_row3_col0\" class=\"data row3 col0\" >0.759329</td>\n",
       "                        <td id=\"T_17195_row3_col1\" class=\"data row3 col1\" >7.702209</td>\n",
       "            </tr>\n",
       "            <tr>\n",
       "                        <th id=\"T_17195_level0_row4\" class=\"row_heading level0 row4\" >PF</th>\n",
       "                        <td id=\"T_17195_row4_col0\" class=\"data row4 col0\" >0.714064</td>\n",
       "                        <td id=\"T_17195_row4_col1\" class=\"data row4 col1\" >10.940881</td>\n",
       "            </tr>\n",
       "    </tbody></table>"
      ],
      "text/plain": [
       "<pandas.io.formats.style.Styler at 0x7f4faa08f520>"
      ]
     },
     "execution_count": 18,
     "metadata": {},
     "output_type": "execute_result"
    }
   ],
   "source": [
    "# mean\n",
    "df.groupby('phase').mean().style.highlight_min(color = 'lightgreen', axis = 0, subset=['hd']).highlight_max(color = 'lightgreen', axis = 0, subset=['dice'])"
   ]
  },
  {
   "cell_type": "code",
   "execution_count": 19,
   "id": "e983b1c9",
   "metadata": {},
   "outputs": [
    {
     "data": {
      "text/html": [
       "<style  type=\"text/css\" >\n",
       "#T_60833_row2_col0,#T_60833_row3_col1{\n",
       "            background-color:  lightgreen;\n",
       "        }</style><table id=\"T_60833_\" ><thead>    <tr>        <th class=\"blank level0\" ></th>        <th class=\"col_heading level0 col0\" >dice</th>        <th class=\"col_heading level0 col1\" >hd</th>    </tr>    <tr>        <th class=\"index_name level0\" >phase</th>        <th class=\"blank\" ></th>        <th class=\"blank\" ></th>    </tr></thead><tbody>\n",
       "                <tr>\n",
       "                        <th id=\"T_60833_level0_row0\" class=\"row_heading level0 row0\" >ED</th>\n",
       "                        <td id=\"T_60833_row0_col0\" class=\"data row0 col0\" >0.737090</td>\n",
       "                        <td id=\"T_60833_row0_col1\" class=\"data row0 col1\" >10.630146</td>\n",
       "            </tr>\n",
       "            <tr>\n",
       "                        <th id=\"T_60833_level0_row1\" class=\"row_heading level0 row1\" >ES</th>\n",
       "                        <td id=\"T_60833_row1_col0\" class=\"data row1 col0\" >0.760387</td>\n",
       "                        <td id=\"T_60833_row1_col1\" class=\"data row1 col1\" >8.062258</td>\n",
       "            </tr>\n",
       "            <tr>\n",
       "                        <th id=\"T_60833_level0_row2\" class=\"row_heading level0 row2\" >MD</th>\n",
       "                        <td id=\"T_60833_row2_col0\" class=\"data row2 col0\" >0.785060</td>\n",
       "                        <td id=\"T_60833_row2_col1\" class=\"data row2 col1\" >8.774964</td>\n",
       "            </tr>\n",
       "            <tr>\n",
       "                        <th id=\"T_60833_level0_row3\" class=\"row_heading level0 row3\" >MS</th>\n",
       "                        <td id=\"T_60833_row3_col0\" class=\"data row3 col0\" >0.761131</td>\n",
       "                        <td id=\"T_60833_row3_col1\" class=\"data row3 col1\" >7.071068</td>\n",
       "            </tr>\n",
       "            <tr>\n",
       "                        <th id=\"T_60833_level0_row4\" class=\"row_heading level0 row4\" >PF</th>\n",
       "                        <td id=\"T_60833_row4_col0\" class=\"data row4 col0\" >0.715573</td>\n",
       "                        <td id=\"T_60833_row4_col1\" class=\"data row4 col1\" >11.045361</td>\n",
       "            </tr>\n",
       "    </tbody></table>"
      ],
      "text/plain": [
       "<pandas.io.formats.style.Styler at 0x7f4faa0949d0>"
      ]
     },
     "execution_count": 19,
     "metadata": {},
     "output_type": "execute_result"
    }
   ],
   "source": [
    "# median\n",
    "df.groupby('phase').median().style.highlight_min(color = 'lightgreen', axis = 0, subset=['hd']).highlight_max(color = 'lightgreen', axis = 0, subset=['dice'])"
   ]
  },
  {
   "cell_type": "code",
   "execution_count": 20,
   "id": "4a5d073f",
   "metadata": {},
   "outputs": [
    {
     "data": {
      "text/html": [
       "<style  type=\"text/css\" >\n",
       "#T_123fe_row1_col0,#T_123fe_row3_col1{\n",
       "            background-color:  lightgreen;\n",
       "        }</style><table id=\"T_123fe_\" ><thead>    <tr>        <th class=\"blank level0\" ></th>        <th class=\"col_heading level0 col0\" >dice</th>        <th class=\"col_heading level0 col1\" >hd</th>    </tr>    <tr>        <th class=\"index_name level0\" >phase</th>        <th class=\"blank\" ></th>        <th class=\"blank\" ></th>    </tr></thead><tbody>\n",
       "                <tr>\n",
       "                        <th id=\"T_123fe_level0_row0\" class=\"row_heading level0 row0\" >ED</th>\n",
       "                        <td id=\"T_123fe_row0_col0\" class=\"data row0 col0\" >0.041200</td>\n",
       "                        <td id=\"T_123fe_row0_col1\" class=\"data row0 col1\" >3.809302</td>\n",
       "            </tr>\n",
       "            <tr>\n",
       "                        <th id=\"T_123fe_level0_row1\" class=\"row_heading level0 row1\" >ES</th>\n",
       "                        <td id=\"T_123fe_row1_col0\" class=\"data row1 col0\" >0.053213</td>\n",
       "                        <td id=\"T_123fe_row1_col1\" class=\"data row1 col1\" >3.147351</td>\n",
       "            </tr>\n",
       "            <tr>\n",
       "                        <th id=\"T_123fe_level0_row2\" class=\"row_heading level0 row2\" >MD</th>\n",
       "                        <td id=\"T_123fe_row2_col0\" class=\"data row2 col0\" >0.026268</td>\n",
       "                        <td id=\"T_123fe_row2_col1\" class=\"data row2 col1\" >3.676962</td>\n",
       "            </tr>\n",
       "            <tr>\n",
       "                        <th id=\"T_123fe_level0_row3\" class=\"row_heading level0 row3\" >MS</th>\n",
       "                        <td id=\"T_123fe_row3_col0\" class=\"data row3 col0\" >0.037426</td>\n",
       "                        <td id=\"T_123fe_row3_col1\" class=\"data row3 col1\" >2.127752</td>\n",
       "            </tr>\n",
       "            <tr>\n",
       "                        <th id=\"T_123fe_level0_row4\" class=\"row_heading level0 row4\" >PF</th>\n",
       "                        <td id=\"T_123fe_row4_col0\" class=\"data row4 col0\" >0.047575</td>\n",
       "                        <td id=\"T_123fe_row4_col1\" class=\"data row4 col1\" >2.927505</td>\n",
       "            </tr>\n",
       "    </tbody></table>"
      ],
      "text/plain": [
       "<pandas.io.formats.style.Styler at 0x7f4faa08fa00>"
      ]
     },
     "execution_count": 20,
     "metadata": {},
     "output_type": "execute_result"
    }
   ],
   "source": [
    "# std\n",
    "df.groupby('phase').std().style.highlight_min(color = 'lightgreen', axis = 0, subset=['hd']).highlight_max(color = 'lightgreen', axis = 0, subset=['dice'])"
   ]
  },
  {
   "cell_type": "code",
   "execution_count": 28,
   "id": "86ec6e29",
   "metadata": {},
   "outputs": [
    {
     "data": {
      "text/plain": [
       "[[1, 0], [2, 1, 0], [3, 2, 1, 0], [4, 3, 2, 1, 0]]"
      ]
     },
     "execution_count": 28,
     "metadata": {},
     "output_type": "execute_result"
    }
   ],
   "source": [
    "# fast reverse compose test\n",
    "temp = [0,1,2,3,4]\n",
    "[list(reversed(temp[:i])) for i in range(2, len(temp) + 1)]"
   ]
  },
  {
   "cell_type": "code",
   "execution_count": null,
   "id": "7ac2960b",
   "metadata": {},
   "outputs": [],
   "source": []
  }
 ],
 "metadata": {
  "kernelspec": {
   "display_name": "dcmr",
   "language": "python",
   "name": "dcmr"
  },
  "language_info": {
   "codemirror_mode": {
    "name": "ipython",
    "version": 3
   },
   "file_extension": ".py",
   "mimetype": "text/x-python",
   "name": "python",
   "nbconvert_exporter": "python",
   "pygments_lexer": "ipython3",
   "version": "3.8.5"
  },
  "widgets": {
   "application/vnd.jupyter.widget-state+json": {
    "state": {
     "019f5d45575e49e6b68f643574845417": {
      "model_module": "@jupyter-widgets/controls",
      "model_module_version": "1.5.0",
      "model_name": "HTMLModel",
      "state": {
       "layout": "IPY_MODEL_138aaac0f0e44dc19289c3ff745ae802",
       "placeholder": "",
       "style": "IPY_MODEL_9b4fd1ebaaee489582397efcce50f9a5",
       "value": "<span style=\"margin-left:10px; color:green;\">/mnt/sds/sven/code/dynamic-cmr-models/exp/temp/phase2phase/v3/64_128_128/window1/reg0_001/dmd/smoothmyo_mloss001_f1/2021-10-08_20_55/</span>"
      }
     },
     "01feaf296d704d108f91125c3ed5498f": {
      "model_module": "@jupyter-widgets/base",
      "model_module_version": "1.2.0",
      "model_name": "LayoutModel",
      "state": {
       "display": "none",
       "width": "auto"
      }
     },
     "02696059978945c5b8bb0b02062e1f7b": {
      "model_module": "@jupyter-widgets/controls",
      "model_module_version": "1.5.0",
      "model_name": "HTMLModel",
      "state": {
       "layout": "IPY_MODEL_0f531bdd8c724610b7ac704a24ebc206",
       "placeholder": "",
       "style": "IPY_MODEL_8286015761cb4c22bb6b26d440fa3bc2",
       "value": "<span style=\"margin-left:10px; color:green;\">/mnt/sds/sven/code/dynamic-cmr-models/exp/temp/phase2phase/v3/64_128_128/window1/reg0_001/dmd/smoothmyo_mloss001_f3/2021-10-09_02_54/</span>"
      }
     },
     "03a7fd8d62e04fac95a08b53944b7ff2": {
      "model_module": "@jupyter-widgets/base",
      "model_module_version": "1.2.0",
      "model_name": "LayoutModel",
      "state": {}
     },
     "0cd89285043443a3a8634626cd2c36c3": {
      "model_module": "@jupyter-widgets/output",
      "model_module_version": "1.0.0",
      "model_name": "OutputModel",
      "state": {
       "layout": "IPY_MODEL_03a7fd8d62e04fac95a08b53944b7ff2",
       "outputs": [
        {
         "name": "stderr",
         "output_type": "stream",
         "text": "2021-10-11 09:19:29,474 INFO -------------------- Start --------------------\n2021-10-11 09:19:29,475 INFO Working directory: /mnt/ssd/git/dynamic-cmr-models.\n2021-10-11 09:19:29,477 INFO Log file: ./logs/temp/phase2phase/v3/64_128_128/window1/reg0_001/dmd/smoothmyo_mloss001_f0.log\n2021-10-11 09:19:29,480 INFO Log level for console: INFO\n2021-10-11 09:19:29,481 INFO Loaded config for experiment: temp/phase2phase/v3/64_128_128/window1/reg0_001/dmd/smoothmyo_mloss001_f0\n"
        },
        {
         "name": "stdout",
         "output_type": "stream",
         "text": "config given: /mnt/sds/sven/code/dynamic-cmr-models/exp/temp/phase2phase/v3/64_128_128/window1/reg0_001/dmd/smoothmyo_mloss001_f0/2021-10-08_16_18/config/config.json\nEvaluation done: \n/mnt/sds/sven/code/dynamic-cmr-models/exp/temp/phase2phase/v3/64_128_128/window1/reg0_001/dmd/smoothmyo_mloss001_f0/2021-10-08_16_18/\n"
        },
        {
         "data": {
          "image/png": "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\n",
          "text/plain": "<Figure size 432x288 with 1 Axes>"
         },
         "metadata": {
          "needs_background": "light"
         },
         "output_type": "display_data"
        }
       ]
      }
     },
     "0f531bdd8c724610b7ac704a24ebc206": {
      "model_module": "@jupyter-widgets/base",
      "model_module_version": "1.2.0",
      "model_name": "LayoutModel",
      "state": {}
     },
     "1077067ac0f54c3bb04d4715b2b2154b": {
      "model_module": "@jupyter-widgets/controls",
      "model_module_version": "1.5.0",
      "model_name": "DescriptionStyleModel",
      "state": {
       "description_width": ""
      }
     },
     "120c91136d944964b03e4ef5f0c1d807": {
      "model_module": "@jupyter-widgets/base",
      "model_module_version": "1.2.0",
      "model_name": "LayoutModel",
      "state": {
       "width": "auto"
      }
     },
     "12299655574345aa921a8a041b6fc62d": {
      "model_module": "@jupyter-widgets/base",
      "model_module_version": "1.2.0",
      "model_name": "LayoutModel",
      "state": {
       "width": "auto"
      }
     },
     "138aaac0f0e44dc19289c3ff745ae802": {
      "model_module": "@jupyter-widgets/base",
      "model_module_version": "1.2.0",
      "model_name": "LayoutModel",
      "state": {}
     },
     "1c27f1450eeb42c79a95baa3bdccfcbc": {
      "model_module": "@jupyter-widgets/base",
      "model_module_version": "1.2.0",
      "model_name": "LayoutModel",
      "state": {
       "display": "none",
       "grid_gap": "0px 0px",
       "grid_template_areas": "\n                    'pathlist filename'\n                    'dircontent dircontent'\n                    ",
       "grid_template_columns": "60% 40%",
       "grid_template_rows": "auto auto",
       "width": "500px"
      }
     },
     "1c5c32f97cd640ad87d482bcbf635dea": {
      "model_module": "@jupyter-widgets/base",
      "model_module_version": "1.2.0",
      "model_name": "LayoutModel",
      "state": {}
     },
     "1d7fee3fa647458bbb90f87eab456884": {
      "model_module": "@jupyter-widgets/base",
      "model_module_version": "1.2.0",
      "model_name": "LayoutModel",
      "state": {
       "grid_area": "pathlist",
       "width": "auto"
      }
     },
     "26eabce62aae43708fb62a9b6b5775fb": {
      "model_module": "@jupyter-widgets/controls",
      "model_module_version": "1.5.0",
      "model_name": "VBoxModel",
      "state": {
       "children": [
        "IPY_MODEL_e6101d15d0fc470aaf5e963d9748e6c8",
        "IPY_MODEL_e267b5d89254402fabd4317c5dca76e4",
        "IPY_MODEL_321bc81506d94d3db513f6edbb124d0b"
       ],
       "layout": "IPY_MODEL_301434f43a684794b0c41ca6f80f9bf7"
      }
     },
     "277ec2518e094c7f8c4adc2c38d09fe1": {
      "model_module": "@jupyter-widgets/controls",
      "model_module_version": "1.5.0",
      "model_name": "HTMLModel",
      "state": {
       "layout": "IPY_MODEL_3e0bd589dd624268bdd3747a502071a1",
       "style": "IPY_MODEL_33b3ea686e084765a3b085623ffe9c7e"
      }
     },
     "29086fb796ea409a8f2f40a4a6005420": {
      "model_module": "@jupyter-widgets/base",
      "model_module_version": "1.2.0",
      "model_name": "LayoutModel",
      "state": {
       "width": "auto"
      }
     },
     "2f50f239272f496b90795b5c70cd864e": {
      "model_module": "@jupyter-widgets/base",
      "model_module_version": "1.2.0",
      "model_name": "LayoutModel",
      "state": {}
     },
     "301434f43a684794b0c41ca6f80f9bf7": {
      "model_module": "@jupyter-widgets/base",
      "model_module_version": "1.2.0",
      "model_name": "LayoutModel",
      "state": {
       "width": "auto"
      }
     },
     "321bc81506d94d3db513f6edbb124d0b": {
      "model_module": "@jupyter-widgets/controls",
      "model_module_version": "1.5.0",
      "model_name": "HBoxModel",
      "state": {
       "children": [
        "IPY_MODEL_cd43f1a0a3264044b706c5e555312ff1",
        "IPY_MODEL_c18dd459de7f4fd0a2077835239a700c",
        "IPY_MODEL_02696059978945c5b8bb0b02062e1f7b"
       ],
       "layout": "IPY_MODEL_12299655574345aa921a8a041b6fc62d"
      }
     },
     "335ba82063944ad78c9160a90d1911bf": {
      "model_module": "@jupyter-widgets/controls",
      "model_module_version": "1.5.0",
      "model_name": "DescriptionStyleModel",
      "state": {
       "description_width": ""
      }
     },
     "33b3ea686e084765a3b085623ffe9c7e": {
      "model_module": "@jupyter-widgets/controls",
      "model_module_version": "1.5.0",
      "model_name": "DescriptionStyleModel",
      "state": {
       "description_width": ""
      }
     },
     "35c2f8b4dd8a47b3810895e1e120e69a": {
      "model_module": "@jupyter-widgets/base",
      "model_module_version": "1.2.0",
      "model_name": "LayoutModel",
      "state": {
       "grid_area": "filename",
       "width": "auto"
      }
     },
     "3bc31915474c4aeab0ec7079b405809e": {
      "model_module": "@jupyter-widgets/controls",
      "model_module_version": "1.5.0",
      "model_name": "GridBoxModel",
      "state": {
       "children": [
        "IPY_MODEL_b3135c9803fe4f498faa0aa990654288",
        "IPY_MODEL_ddc8812d0f9d4e8e9ac6585a5b9491ad",
        "IPY_MODEL_870b7a86983b473cabde3d2b8bf40068"
       ],
       "layout": "IPY_MODEL_edaf6af53e274cd5a093c11e6e1dda4e"
      }
     },
     "3e0bd589dd624268bdd3747a502071a1": {
      "model_module": "@jupyter-widgets/base",
      "model_module_version": "1.2.0",
      "model_name": "LayoutModel",
      "state": {
       "display": "none"
      }
     },
     "40be50791ba04d149bbd49d9bee64aef": {
      "model_module": "@jupyter-widgets/output",
      "model_module_version": "1.0.0",
      "model_name": "OutputModel",
      "state": {
       "layout": "IPY_MODEL_1c5c32f97cd640ad87d482bcbf635dea",
       "outputs": [
        {
         "name": "stderr",
         "output_type": "stream",
         "text": "2021-10-11 09:49:34,247 INFO -------------------- Start --------------------\n2021-10-11 09:49:34,249 INFO Working directory: /mnt/ssd/git/dynamic-cmr-models.\n2021-10-11 09:49:34,250 INFO Log file: ./logs/temp/phase2phase/v3/64_128_128/window1/reg0_001/dmd/smoothmyo_mloss001_f3.log\n2021-10-11 09:49:34,252 INFO Log level for console: INFO\n2021-10-11 09:49:34,254 INFO Loaded config for experiment: temp/phase2phase/v3/64_128_128/window1/reg0_001/dmd/smoothmyo_mloss001_f3\n2021-10-11 09:49:34,259 INFO -------------------- Start --------------------\n2021-10-11 09:49:34,261 INFO Working directory: /mnt/ssd/git/dynamic-cmr-models.\n2021-10-11 09:49:34,263 INFO Log file: temp/phase2phase/v3/64_128_128/window1/reg0_001/dmd/smoothmyo_mloss001_f3_f3/Log.log\n2021-10-11 09:49:34,264 INFO Log level for console: INFO\n2021-10-11 09:49:34,266 INFO no files found, try to load with clean.nrrd/mask.nrrd pattern\n2021-10-11 09:49:34,267 INFO searched in: /mnt/ssd/data/dmd/02_imported_4D_unfiltered/sax\n2021-10-11 09:49:34,277 INFO Found 57 images/masks in /mnt/ssd/data/dmd/02_imported_4D_unfiltered/sax\n2021-10-11 09:49:34,278 INFO Patients train: 43\n2021-10-11 09:49:34,282 INFO Selected 43 of 57 files with 43 of 57 patients for training fold 3\n2021-10-11 09:49:34,283 INFO SAX train CMR: 43, SAX train masks: 43\n2021-10-11 09:49:34,283 INFO SAX val CMR: 14, SAX val masks: 14\n"
        },
        {
         "name": "stdout",
         "output_type": "stream",
         "text": "config given: /mnt/sds/sven/code/dynamic-cmr-models/exp/temp/phase2phase/v3/64_128_128/window1/reg0_001/dmd/smoothmyo_mloss001_f3/2021-10-09_02_54/config/config.json\n['/gpu:0', '/gpu:1']\n(None, 64, 128, 128, 3)\n(None, 64, 128, 128, 3)\n"
        },
        {
         "name": "stderr",
         "output_type": "stream",
         "text": "2021-10-11 09:49:38,054 INFO loaded model weights as h5 file\n2021-10-11 09:49:38,055 INFO Create DataGenerator\n2021-10-11 09:49:38,055 INFO Datagenerator created with: \n shape: [64, 128, 128]\n spacing: [1.5, 1.5, 1.5]\n batchsize: 1\n Scaler: standard\n Images: 14 \n Augment: False \n Thread workers: 1\n2021-10-11 09:49:38,055 INFO No augmentation\n2021-10-11 09:49:38,060 INFO params of generator:\n2021-10-11 09:49:38,060 INFO [('MASKING_IMAGE', False), ('SINGLE_OUTPUT', False), ('MASKING_VALUES', [2]), ('DEBUG_MODE', False), ('SCALER', 'standard'), ('AUGMENT', False), ('SHUFFLE', False), ('RESAMPLE', True), ('SPACING', [1.5, 1.5, 1.5]), ('SEED', 42), ('DIM', [64, 128, 128]), ('BATCHSIZE', 1), ('MASK_VALUES', [1, 2, 3]), ('N_CLASSES', 3), ('MAX_WORKERS', 1), ('T_SPACING', 100), ('PHASES', 5), ('HIST_MATCHING', False), ('IMG_INTERPOLATION', 2), ('MSK_INTERPOLATION', 1), ('AUGMENT_TEMP', False), ('RESAMPLE_T', False), ('WINDOW_SIZE', 1), ('IMG_CHANNELS', 3), ('INPUT_T_ELEM', 0), ('BETWEEN_PHASES', True), ('yield_masks', False), ('TARGET_CHANNELS', 1), ('IN_MEMORY', False), ('ISTRAINING', False), ('COMPOSE_CONSISTENCY', True), ('ISACDC', False), ('ISDMD', True), ('METADATA_FILE', '/mnt/ssd/data/dmd/02_imported_4D_unfiltered/SAx_3D_dicomTags_phase.csv')]\n2021-10-11 09:49:38,061 INFO Create DataGenerator\n2021-10-11 09:49:38,061 INFO Datagenerator created with: \n shape: [64, 128, 128]\n spacing: [1.5, 1.5, 1.5]\n batchsize: 1\n Scaler: standard\n Images: 14 \n Augment: False \n Thread workers: 1\n2021-10-11 09:49:38,062 INFO No augmentation\n2021-10-11 09:49:38,067 INFO params of generator:\n2021-10-11 09:49:38,068 INFO [('MASKING_IMAGE', False), ('SINGLE_OUTPUT', False), ('MASKING_VALUES', [2]), ('DEBUG_MODE', False), ('SCALER', 'standard'), ('AUGMENT', False), ('SHUFFLE', False), ('RESAMPLE', True), ('SPACING', [1.5, 1.5, 1.5]), ('SEED', 42), ('DIM', [64, 128, 128]), ('BATCHSIZE', 1), ('MASK_VALUES', [1, 2, 3]), ('N_CLASSES', 3), ('MAX_WORKERS', 1), ('T_SPACING', 100), ('PHASES', 5), ('HIST_MATCHING', False), ('IMG_INTERPOLATION', 1), ('MSK_INTERPOLATION', 1), ('AUGMENT_TEMP', False), ('RESAMPLE_T', False), ('WINDOW_SIZE', 1), ('IMG_CHANNELS', 1), ('INPUT_T_ELEM', 0), ('BETWEEN_PHASES', True), ('yield_masks', True), ('TARGET_CHANNELS', 1), ('IN_MEMORY', False), ('ISACDC', False), ('ISDMD', True), ('METADATA_FILE', '/mnt/ssd/data/dmd/02_imported_4D_unfiltered/SAx_3D_dicomTags_phase.csv')]\n2021-10-11 09:50:54,385 INFO /mnt/sds/sven/code/dynamic-cmr-models/exp/temp/phase2phase/v3/64_128_128/window1/reg0_001/dmd/smoothmyo_mloss001_f3/2021-10-09_02_54/pred/bo_20180709\n2021-10-11 09:50:58,782 INFO /mnt/sds/sven/code/dynamic-cmr-models/exp/temp/phase2phase/v3/64_128_128/window1/reg0_001/dmd/smoothmyo_mloss001_f3/2021-10-09_02_54/pred/cf_20191009\n2021-10-11 09:51:03,147 INFO /mnt/sds/sven/code/dynamic-cmr-models/exp/temp/phase2phase/v3/64_128_128/window1/reg0_001/dmd/smoothmyo_mloss001_f3/2021-10-09_02_54/pred/cm_20180201\n2021-10-11 09:51:07,524 INFO /mnt/sds/sven/code/dynamic-cmr-models/exp/temp/phase2phase/v3/64_128_128/window1/reg0_001/dmd/smoothmyo_mloss001_f3/2021-10-09_02_54/pred/dv_20190624\n2021-10-11 09:51:11,834 INFO /mnt/sds/sven/code/dynamic-cmr-models/exp/temp/phase2phase/v3/64_128_128/window1/reg0_001/dmd/smoothmyo_mloss001_f3/2021-10-09_02_54/pred/ey_a20190311\n2021-10-11 09:51:16,187 INFO /mnt/sds/sven/code/dynamic-cmr-models/exp/temp/phase2phase/v3/64_128_128/window1/reg0_001/dmd/smoothmyo_mloss001_f3/2021-10-09_02_54/pred/fa_20180626\n2021-10-11 09:51:20,529 INFO /mnt/sds/sven/code/dynamic-cmr-models/exp/temp/phase2phase/v3/64_128_128/window1/reg0_001/dmd/smoothmyo_mloss001_f3/2021-10-09_02_54/pred/ge_20190917\n2021-10-11 09:51:24,835 INFO /mnt/sds/sven/code/dynamic-cmr-models/exp/temp/phase2phase/v3/64_128_128/window1/reg0_001/dmd/smoothmyo_mloss001_f3/2021-10-09_02_54/pred/hb_20191227\n2021-10-11 09:51:29,271 INFO /mnt/sds/sven/code/dynamic-cmr-models/exp/temp/phase2phase/v3/64_128_128/window1/reg0_001/dmd/smoothmyo_mloss001_f3/2021-10-09_02_54/pred/la_20190503\n2021-10-11 09:51:33,655 INFO /mnt/sds/sven/code/dynamic-cmr-models/exp/temp/phase2phase/v3/64_128_128/window1/reg0_001/dmd/smoothmyo_mloss001_f3/2021-10-09_02_54/pred/mc_20191007\n2021-10-11 09:51:37,980 INFO /mnt/sds/sven/code/dynamic-cmr-models/exp/temp/phase2phase/v3/64_128_128/window1/reg0_001/dmd/smoothmyo_mloss001_f3/2021-10-09_02_54/pred/mv_20180727\n2021-10-11 09:51:42,381 INFO /mnt/sds/sven/code/dynamic-cmr-models/exp/temp/phase2phase/v3/64_128_128/window1/reg0_001/dmd/smoothmyo_mloss001_f3/2021-10-09_02_54/pred/pm_20190801\n2021-10-11 09:51:46,691 INFO /mnt/sds/sven/code/dynamic-cmr-models/exp/temp/phase2phase/v3/64_128_128/window1/reg0_001/dmd/smoothmyo_mloss001_f3/2021-10-09_02_54/pred/sf_20180525\n2021-10-11 09:51:51,043 INFO /mnt/sds/sven/code/dynamic-cmr-models/exp/temp/phase2phase/v3/64_128_128/window1/reg0_001/dmd/smoothmyo_mloss001_f3/2021-10-09_02_54/pred/wr_20170905\n2021-10-11 09:51:55,740 INFO pred on fold 3 finished after 141.456 sec\n"
        },
        {
         "name": "stdout",
         "output_type": "stream",
         "text": "Evaluation done: \n/mnt/sds/sven/code/dynamic-cmr-models/exp/temp/phase2phase/v3/64_128_128/window1/reg0_001/dmd/smoothmyo_mloss001_f3/2021-10-09_02_54/\n"
        },
        {
         "data": {
          "image/png": "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\n",
          "text/plain": "<Figure size 432x288 with 1 Axes>"
         },
         "metadata": {
          "needs_background": "light"
         },
         "output_type": "display_data"
        }
       ]
      }
     },
     "44bf0f718dce4577872c9dcd26352b0b": {
      "model_module": "@jupyter-widgets/controls",
      "model_module_version": "1.5.0",
      "model_name": "ButtonStyleModel",
      "state": {}
     },
     "4d064e293bd8416088fef2314713330b": {
      "model_module": "@jupyter-widgets/base",
      "model_module_version": "1.2.0",
      "model_name": "LayoutModel",
      "state": {
       "width": "auto"
      }
     },
     "502a3a230b964e9dafeadbdd99555421": {
      "model_module": "@jupyter-widgets/controls",
      "model_module_version": "1.5.0",
      "model_name": "ButtonModel",
      "state": {
       "description": "Cancel",
       "layout": "IPY_MODEL_01feaf296d704d108f91125c3ed5498f",
       "style": "IPY_MODEL_c786c8fbe0b2423dbf83341bb1b44c03"
      }
     },
     "54aad742a7f142cbab75a6f1d71098a7": {
      "model_module": "@jupyter-widgets/controls",
      "model_module_version": "1.5.0",
      "model_name": "VBoxModel",
      "state": {
       "_dom_classes": [
        "widget-interact"
       ],
       "children": [
        "IPY_MODEL_7a33529f17e04199b882f92adbd3c9be",
        "IPY_MODEL_40be50791ba04d149bbd49d9bee64aef"
       ],
       "layout": "IPY_MODEL_2f50f239272f496b90795b5c70cd864e"
      }
     },
     "5996d41aa95f4c34b92e675d5e32064a": {
      "model_module": "@jupyter-widgets/controls",
      "model_module_version": "1.5.0",
      "model_name": "CheckboxModel",
      "state": {
       "description": "run",
       "disabled": false,
       "layout": "IPY_MODEL_744ca59d47c44a0882779257abd911f1",
       "style": "IPY_MODEL_d57d8efd00e84fe5a5a6a0fdcd476dda",
       "value": true
      }
     },
     "6254475e6e364454b76adeb5174cfb4f": {
      "model_module": "@jupyter-widgets/base",
      "model_module_version": "1.2.0",
      "model_name": "LayoutModel",
      "state": {
       "width": "auto"
      }
     },
     "6f97235a5c354ac288924537a7e12b3a": {
      "model_module": "@jupyter-widgets/base",
      "model_module_version": "1.2.0",
      "model_name": "LayoutModel",
      "state": {
       "grid_area": "pathlist",
       "width": "auto"
      }
     },
     "744ca59d47c44a0882779257abd911f1": {
      "model_module": "@jupyter-widgets/base",
      "model_module_version": "1.2.0",
      "model_name": "LayoutModel",
      "state": {}
     },
     "754c61af789b45209d66da11a749c03f": {
      "model_module": "@jupyter-widgets/base",
      "model_module_version": "1.2.0",
      "model_name": "LayoutModel",
      "state": {}
     },
     "7a33529f17e04199b882f92adbd3c9be": {
      "model_module": "@jupyter-widgets/controls",
      "model_module_version": "1.5.0",
      "model_name": "CheckboxModel",
      "state": {
       "description": "run",
       "disabled": false,
       "layout": "IPY_MODEL_754c61af789b45209d66da11a749c03f",
       "style": "IPY_MODEL_c6f0e4789c6e4f70b315d7271152913f",
       "value": true
      }
     },
     "8286015761cb4c22bb6b26d440fa3bc2": {
      "model_module": "@jupyter-widgets/controls",
      "model_module_version": "1.5.0",
      "model_name": "DescriptionStyleModel",
      "state": {
       "description_width": ""
      }
     },
     "83d660bc7b4f4f9794c7ccc86fda75c4": {
      "model_module": "@jupyter-widgets/controls",
      "model_module_version": "1.5.0",
      "model_name": "ButtonModel",
      "state": {
       "description": "Change",
       "layout": "IPY_MODEL_6254475e6e364454b76adeb5174cfb4f",
       "style": "IPY_MODEL_f43d04cac1c9437dac043ce9ab61d208"
      }
     },
     "86b08f22e37f4bfdbd63e0d10e86a40c": {
      "model_module": "@jupyter-widgets/base",
      "model_module_version": "1.2.0",
      "model_name": "LayoutModel",
      "state": {
       "display": "none"
      }
     },
     "870b7a86983b473cabde3d2b8bf40068": {
      "model_module": "@jupyter-widgets/controls",
      "model_module_version": "1.5.0",
      "model_name": "SelectModel",
      "state": {
       "_options_labels": [
        "..",
        "config",
        "gt_m",
        "history",
        "model",
        "pred",
        "pred_m",
        "tensorboard_logs",
        "Log_errors.log",
        "model.png",
        "model_summary.txt"
       ],
       "index": null,
       "layout": "IPY_MODEL_8ecd0d878ebe4da18563237929fe64ec",
       "rows": 8,
       "style": "IPY_MODEL_910d1bbaae3149ed9f62c86a29ff0740"
      }
     },
     "87ac58f15e364620a4a9697f92fe3a18": {
      "model_module": "@jupyter-widgets/controls",
      "model_module_version": "1.5.0",
      "model_name": "SelectModel",
      "state": {
       "_options_labels": [
        "..",
        "config",
        "gt_m",
        "history",
        "model",
        "pred",
        "pred_m",
        "tensorboard_logs",
        "Log_errors.log",
        "model.png",
        "model_summary.txt"
       ],
       "index": null,
       "layout": "IPY_MODEL_c95be663ed904f8092b87082e47c0422",
       "rows": 8,
       "style": "IPY_MODEL_335ba82063944ad78c9160a90d1911bf"
      }
     },
     "8ecd0d878ebe4da18563237929fe64ec": {
      "model_module": "@jupyter-widgets/base",
      "model_module_version": "1.2.0",
      "model_name": "LayoutModel",
      "state": {
       "grid_area": "dircontent",
       "width": "auto"
      }
     },
     "910d1bbaae3149ed9f62c86a29ff0740": {
      "model_module": "@jupyter-widgets/controls",
      "model_module_version": "1.5.0",
      "model_name": "DescriptionStyleModel",
      "state": {
       "description_width": ""
      }
     },
     "9b4fd1ebaaee489582397efcce50f9a5": {
      "model_module": "@jupyter-widgets/controls",
      "model_module_version": "1.5.0",
      "model_name": "DescriptionStyleModel",
      "state": {
       "description_width": ""
      }
     },
     "9c2a95acaa454a44b7c39a3cd2766931": {
      "model_module": "@jupyter-widgets/controls",
      "model_module_version": "1.5.0",
      "model_name": "DescriptionStyleModel",
      "state": {
       "description_width": ""
      }
     },
     "9f1a5695a08342fdb32ae278e61ebe3a": {
      "model_module": "@jupyter-widgets/controls",
      "model_module_version": "1.5.0",
      "model_name": "HBoxModel",
      "state": {
       "children": [
        "IPY_MODEL_83d660bc7b4f4f9794c7ccc86fda75c4",
        "IPY_MODEL_502a3a230b964e9dafeadbdd99555421",
        "IPY_MODEL_019f5d45575e49e6b68f643574845417"
       ],
       "layout": "IPY_MODEL_29086fb796ea409a8f2f40a4a6005420"
      }
     },
     "ae7aac26795040fa9c36940571e8753e": {
      "model_module": "@jupyter-widgets/controls",
      "model_module_version": "1.5.0",
      "model_name": "TextModel",
      "state": {
       "layout": "IPY_MODEL_35c2f8b4dd8a47b3810895e1e120e69a",
       "placeholder": "output filename",
       "style": "IPY_MODEL_ebd0549aba3d4ff6b298b619b7526b59"
      }
     },
     "b3135c9803fe4f498faa0aa990654288": {
      "model_module": "@jupyter-widgets/controls",
      "model_module_version": "1.5.0",
      "model_name": "DropdownModel",
      "state": {
       "_options_labels": [
        "/mnt/sds/sven/code/dynamic-cmr-models/exp/temp/phase2phase/v3/64_128_128/window1/reg0_001/dmd/smoothmyo_mloss001_f1/2021-10-08_20_55",
        "/mnt/sds/sven/code/dynamic-cmr-models/exp/temp/phase2phase/v3/64_128_128/window1/reg0_001/dmd/smoothmyo_mloss001_f1",
        "/mnt/sds/sven/code/dynamic-cmr-models/exp/temp/phase2phase/v3/64_128_128/window1/reg0_001/dmd",
        "/mnt/sds/sven/code/dynamic-cmr-models/exp/temp/phase2phase/v3/64_128_128/window1/reg0_001",
        "/mnt/sds/sven/code/dynamic-cmr-models/exp/temp/phase2phase/v3/64_128_128/window1",
        "/mnt/sds/sven/code/dynamic-cmr-models/exp/temp/phase2phase/v3/64_128_128",
        "/mnt/sds/sven/code/dynamic-cmr-models/exp/temp/phase2phase/v3",
        "/mnt/sds/sven/code/dynamic-cmr-models/exp/temp/phase2phase",
        "/mnt/sds/sven/code/dynamic-cmr-models/exp/temp",
        "/mnt/sds/sven/code/dynamic-cmr-models/exp",
        "/mnt/sds/sven/code/dynamic-cmr-models",
        "/mnt/sds/sven/code",
        "/mnt/sds/sven",
        "/mnt/sds",
        "/mnt",
        "/"
       ],
       "index": 0,
       "layout": "IPY_MODEL_1d7fee3fa647458bbb90f87eab456884",
       "style": "IPY_MODEL_fe35ba5fda5e430487d0cd96ff171e01"
      }
     },
     "b42a0ebc4ae9472187103e3827af8f7d": {
      "model_module": "@jupyter-widgets/base",
      "model_module_version": "1.2.0",
      "model_name": "LayoutModel",
      "state": {
       "display": "none",
       "width": "auto"
      }
     },
     "b64f44aeed4f4307a3d5fd3d0fbaed1f": {
      "model_module": "@jupyter-widgets/controls",
      "model_module_version": "1.5.0",
      "model_name": "ButtonStyleModel",
      "state": {}
     },
     "b6ae810780664a80ab4a5119043c0399": {
      "model_module": "@jupyter-widgets/base",
      "model_module_version": "1.2.0",
      "model_name": "LayoutModel",
      "state": {}
     },
     "c18dd459de7f4fd0a2077835239a700c": {
      "model_module": "@jupyter-widgets/controls",
      "model_module_version": "1.5.0",
      "model_name": "ButtonModel",
      "state": {
       "description": "Cancel",
       "layout": "IPY_MODEL_b42a0ebc4ae9472187103e3827af8f7d",
       "style": "IPY_MODEL_44bf0f718dce4577872c9dcd26352b0b"
      }
     },
     "c6f0e4789c6e4f70b315d7271152913f": {
      "model_module": "@jupyter-widgets/controls",
      "model_module_version": "1.5.0",
      "model_name": "DescriptionStyleModel",
      "state": {
       "description_width": ""
      }
     },
     "c786c8fbe0b2423dbf83341bb1b44c03": {
      "model_module": "@jupyter-widgets/controls",
      "model_module_version": "1.5.0",
      "model_name": "ButtonStyleModel",
      "state": {}
     },
     "c95be663ed904f8092b87082e47c0422": {
      "model_module": "@jupyter-widgets/base",
      "model_module_version": "1.2.0",
      "model_name": "LayoutModel",
      "state": {
       "grid_area": "dircontent",
       "width": "auto"
      }
     },
     "cd43f1a0a3264044b706c5e555312ff1": {
      "model_module": "@jupyter-widgets/controls",
      "model_module_version": "1.5.0",
      "model_name": "ButtonModel",
      "state": {
       "description": "Change",
       "layout": "IPY_MODEL_120c91136d944964b03e4ef5f0c1d807",
       "style": "IPY_MODEL_b64f44aeed4f4307a3d5fd3d0fbaed1f"
      }
     },
     "d3829255dfc44a1c8fc020ae2c736216": {
      "model_module": "@jupyter-widgets/controls",
      "model_module_version": "1.5.0",
      "model_name": "DescriptionStyleModel",
      "state": {
       "description_width": ""
      }
     },
     "d57d8efd00e84fe5a5a6a0fdcd476dda": {
      "model_module": "@jupyter-widgets/controls",
      "model_module_version": "1.5.0",
      "model_name": "DescriptionStyleModel",
      "state": {
       "description_width": ""
      }
     },
     "d89203f2c506479f8d467360729a310c": {
      "model_module": "@jupyter-widgets/controls",
      "model_module_version": "1.5.0",
      "model_name": "VBoxModel",
      "state": {
       "children": [
        "IPY_MODEL_277ec2518e094c7f8c4adc2c38d09fe1",
        "IPY_MODEL_3bc31915474c4aeab0ec7079b405809e",
        "IPY_MODEL_9f1a5695a08342fdb32ae278e61ebe3a"
       ],
       "layout": "IPY_MODEL_4d064e293bd8416088fef2314713330b"
      }
     },
     "ddc8812d0f9d4e8e9ac6585a5b9491ad": {
      "model_module": "@jupyter-widgets/controls",
      "model_module_version": "1.5.0",
      "model_name": "TextModel",
      "state": {
       "layout": "IPY_MODEL_f35c4ef89d5d49da869d37eae2dbba53",
       "placeholder": "output filename",
       "style": "IPY_MODEL_1077067ac0f54c3bb04d4715b2b2154b"
      }
     },
     "e267b5d89254402fabd4317c5dca76e4": {
      "model_module": "@jupyter-widgets/controls",
      "model_module_version": "1.5.0",
      "model_name": "GridBoxModel",
      "state": {
       "children": [
        "IPY_MODEL_f93a6bcf60b941d2a0a16715df3d4278",
        "IPY_MODEL_ae7aac26795040fa9c36940571e8753e",
        "IPY_MODEL_87ac58f15e364620a4a9697f92fe3a18"
       ],
       "layout": "IPY_MODEL_1c27f1450eeb42c79a95baa3bdccfcbc"
      }
     },
     "e6101d15d0fc470aaf5e963d9748e6c8": {
      "model_module": "@jupyter-widgets/controls",
      "model_module_version": "1.5.0",
      "model_name": "HTMLModel",
      "state": {
       "layout": "IPY_MODEL_86b08f22e37f4bfdbd63e0d10e86a40c",
       "style": "IPY_MODEL_9c2a95acaa454a44b7c39a3cd2766931"
      }
     },
     "ebd0549aba3d4ff6b298b619b7526b59": {
      "model_module": "@jupyter-widgets/controls",
      "model_module_version": "1.5.0",
      "model_name": "DescriptionStyleModel",
      "state": {
       "description_width": ""
      }
     },
     "edaf6af53e274cd5a093c11e6e1dda4e": {
      "model_module": "@jupyter-widgets/base",
      "model_module_version": "1.2.0",
      "model_name": "LayoutModel",
      "state": {
       "display": "none",
       "grid_gap": "0px 0px",
       "grid_template_areas": "\n                    'pathlist filename'\n                    'dircontent dircontent'\n                    ",
       "grid_template_columns": "60% 40%",
       "grid_template_rows": "auto auto",
       "width": "500px"
      }
     },
     "f2623d0235c446c5931f5b59bde53b7f": {
      "model_module": "@jupyter-widgets/controls",
      "model_module_version": "1.5.0",
      "model_name": "VBoxModel",
      "state": {
       "_dom_classes": [
        "widget-interact"
       ],
       "children": [
        "IPY_MODEL_5996d41aa95f4c34b92e675d5e32064a",
        "IPY_MODEL_0cd89285043443a3a8634626cd2c36c3"
       ],
       "layout": "IPY_MODEL_b6ae810780664a80ab4a5119043c0399"
      }
     },
     "f35c4ef89d5d49da869d37eae2dbba53": {
      "model_module": "@jupyter-widgets/base",
      "model_module_version": "1.2.0",
      "model_name": "LayoutModel",
      "state": {
       "grid_area": "filename",
       "width": "auto"
      }
     },
     "f43d04cac1c9437dac043ce9ab61d208": {
      "model_module": "@jupyter-widgets/controls",
      "model_module_version": "1.5.0",
      "model_name": "ButtonStyleModel",
      "state": {}
     },
     "f93a6bcf60b941d2a0a16715df3d4278": {
      "model_module": "@jupyter-widgets/controls",
      "model_module_version": "1.5.0",
      "model_name": "DropdownModel",
      "state": {
       "_options_labels": [
        "/mnt/sds/sven/code/dynamic-cmr-models/exp/temp/phase2phase/v3/64_128_128/window1/reg0_001/dmd/smoothmyo_mloss001_f3/2021-10-09_02_54",
        "/mnt/sds/sven/code/dynamic-cmr-models/exp/temp/phase2phase/v3/64_128_128/window1/reg0_001/dmd/smoothmyo_mloss001_f3",
        "/mnt/sds/sven/code/dynamic-cmr-models/exp/temp/phase2phase/v3/64_128_128/window1/reg0_001/dmd",
        "/mnt/sds/sven/code/dynamic-cmr-models/exp/temp/phase2phase/v3/64_128_128/window1/reg0_001",
        "/mnt/sds/sven/code/dynamic-cmr-models/exp/temp/phase2phase/v3/64_128_128/window1",
        "/mnt/sds/sven/code/dynamic-cmr-models/exp/temp/phase2phase/v3/64_128_128",
        "/mnt/sds/sven/code/dynamic-cmr-models/exp/temp/phase2phase/v3",
        "/mnt/sds/sven/code/dynamic-cmr-models/exp/temp/phase2phase",
        "/mnt/sds/sven/code/dynamic-cmr-models/exp/temp",
        "/mnt/sds/sven/code/dynamic-cmr-models/exp",
        "/mnt/sds/sven/code/dynamic-cmr-models",
        "/mnt/sds/sven/code",
        "/mnt/sds/sven",
        "/mnt/sds",
        "/mnt",
        "/"
       ],
       "index": 0,
       "layout": "IPY_MODEL_6f97235a5c354ac288924537a7e12b3a",
       "style": "IPY_MODEL_d3829255dfc44a1c8fc020ae2c736216"
      }
     },
     "fe35ba5fda5e430487d0cd96ff171e01": {
      "model_module": "@jupyter-widgets/controls",
      "model_module_version": "1.5.0",
      "model_name": "DescriptionStyleModel",
      "state": {
       "description_width": ""
      }
     }
    },
    "version_major": 2,
    "version_minor": 0
   }
  }
 },
 "nbformat": 4,
 "nbformat_minor": 5
}
