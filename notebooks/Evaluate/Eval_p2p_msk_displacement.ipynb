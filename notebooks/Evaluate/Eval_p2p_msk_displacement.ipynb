{
 "cells": [
  {
   "cell_type": "code",
   "execution_count": 1,
   "id": "5df27ee1",
   "metadata": {},
   "outputs": [
    {
     "name": "stdout",
     "output_type": "stream",
     "text": [
      "search for root_dir and set working directory\n",
      "Working directory set to: /mnt/ssd/git/dynamic-cmr-models\n"
     ]
    }
   ],
   "source": [
    "# define logging and working directory\n",
    "# ------------------------------------------\n",
    "from ProjectRoot import change_wd_to_project_root\n",
    "change_wd_to_project_root()\n",
    "# jupyter magic config\n",
    "# ------------------------------------------\n",
    "%matplotlib inline\n",
    "%reload_ext autoreload\n",
    "%autoreload 2\n",
    "# this should import glob, os, and many other standard libs\n",
    "# ------------------------------------------ \n",
    "from src.utils.Notebook_imports import *\n",
    "# local imports\n",
    "# ------------------------------------------ \n",
    "from src.utils.Utils_io import Console_and_file_logger, init_config\n",
    "# import external libs\n",
    "# ------------------------------------------ \n",
    "import pandas as pd\n",
    "import numpy as np\n",
    "from ipyfilechooser import FileChooser\n",
    "import glob\n",
    "import os"
   ]
  },
  {
   "cell_type": "code",
   "execution_count": 3,
   "id": "795e42d3",
   "metadata": {
    "tags": []
   },
   "outputs": [
    {
     "data": {
      "application/vnd.jupyter.widget-view+json": {
       "model_id": "26eabce62aae43708fb62a9b6b5775fb",
       "version_major": 2,
       "version_minor": 0
      },
      "text/plain": [
       "FileChooser(path='/mnt/sds/sven/code/dynamic-cmr-models/exp/temp/phase2phase/v3/64_128_128/window1/reg0_001', …"
      ]
     },
     "metadata": {},
     "output_type": "display_data"
    },
    {
     "data": {
      "application/vnd.jupyter.widget-view+json": {
       "model_id": "54aad742a7f142cbab75a6f1d71098a7",
       "version_major": 2,
       "version_minor": 0
      },
      "text/plain": [
       "interactive(children=(Checkbox(value=False, description='run'), Output()), _dom_classes=('widget-interact',))"
      ]
     },
     "metadata": {},
     "output_type": "display_data"
    }
   ],
   "source": [
    "# predict and \n",
    "# evaluate / calc dice and hd\n",
    "from src.models.Evaluate_moved_myo import calc_dice\n",
    "from src.models.predict_motion_model import pred_fold\n",
    "import os\n",
    "sds_storage = '/mnt/sds/sven/code/dynamic-cmr-models/exp/temp/phase2phase/v3/64_128_128/window1/reg0_001/'\n",
    "data_root = '/mnt/ssd/data/dmd/02_imported_4D_unfiltered/'\n",
    "fchooser = FileChooser(sds_storage, '')\n",
    "display(fchooser)\n",
    "@interact\n",
    "def calc_scores(run=False):\n",
    "    if run:\n",
    "        exp_path = fchooser.selected\n",
    "        gt_path = os.path.join(exp_path, 'gt_m')\n",
    "        pred_path = os.path.join(exp_path, 'pred_m')\n",
    "        cfg_file = os.path.join(exp_path,'config/config.json')\n",
    "        print('config given: {}'.format(cfg_file))\n",
    "        # load the experiment config\n",
    "        with open(cfg_file, encoding='utf-8') as data_file:\n",
    "            config = json.loads(data_file.read())\n",
    "\n",
    "            EXPERIMENT = config.get('EXPERIMENT', 'UNDEFINED')\n",
    "            Console_and_file_logger(EXPERIMENT, logging.INFO)\n",
    "            config['MODEL_PATH'] = os.path.join(exp_path, 'model/')\n",
    "            config['EXP_PATH'] = exp_path\n",
    "            config['DATA_PATH_SAX'] = os.path.join(data_root, 'sax')\n",
    "            config['DF_FOLDS'] = os.path.join(data_root, 'df_kfold.csv')\n",
    "            config['DF_META'] = os.path.join(data_root, 'SAx_3D_dicomTags_phase.csv')\n",
    "            info('Loaded config for experiment: {}'.format(EXPERIMENT))\n",
    "        pred_fold(config) # that way we predict and evaluate, because of a previous prediction bug\n",
    "        if not os.path.exists(pred_path):\n",
    "            print('prediction')\n",
    "        calc_dice(gt_path, pred_path, exp_path)"
   ]
  },
  {
   "cell_type": "code",
   "execution_count": 4,
   "id": "f8db1050",
   "metadata": {},
   "outputs": [],
   "source": [
    "df_files = ['/mnt/sds/sven/code/dynamic-cmr-models/exp/temp/phase2phase/v3/64_128_128/window1/reg0_001/dmd/smoothmyo_mloss001_f0/2021-10-08_16_18/', \n",
    "           '/mnt/sds/sven/code/dynamic-cmr-models/exp/temp/phase2phase/v3/64_128_128/window1/reg0_001/dmd/smoothmyo_mloss001_f1/2021-10-08_20_55/',\n",
    "           '/mnt/sds/sven/code/dynamic-cmr-models/exp/temp/phase2phase/v3/64_128_128/window1/reg0_001/dmd/smoothmyo_mloss001_f2/2021-10-09_00_47/',\n",
    "           '/mnt/sds/sven/code/dynamic-cmr-models/exp/temp/phase2phase/v3/64_128_128/window1/reg0_001/dmd/smoothmyo_mloss001_f3/2021-10-09_02_54/']\n",
    "\n",
    "dfs = [pd.read_csv(os.path.join(f,'results.csv')) for f in df_files]"
   ]
  },
  {
   "cell_type": "code",
   "execution_count": 5,
   "id": "b557ddd2",
   "metadata": {},
   "outputs": [],
   "source": [
    "df = pd.concat(dfs)"
   ]
  },
  {
   "cell_type": "code",
   "execution_count": 6,
   "id": "b7c4e04a",
   "metadata": {},
   "outputs": [
    {
     "data": {
      "text/plain": [
       "[(0.0, 1.0)]"
      ]
     },
     "execution_count": 6,
     "metadata": {},
     "output_type": "execute_result"
    },
    {
     "data": {
      "image/png": "[encoded data removed]",
      "text/plain": [
       "<Figure size 432x288 with 1 Axes>"
      ]
     },
     "metadata": {
      "needs_background": "light"
     },
     "output_type": "display_data"
    }
   ],
   "source": [
    "import seaborn as sb\n",
    "g = sb.violinplot(x='phase', y='dice', data=df[['patient', 'phase', 'dice']])\n",
    "g.set(ylim=(0,1))"
   ]
  },
  {
   "cell_type": "code",
   "execution_count": 7,
   "id": "c7599330",
   "metadata": {},
   "outputs": [
    {
     "data": {
      "text/plain": [
       "[(0.0, 25.0)]"
      ]
     },
     "execution_count": 7,
     "metadata": {},
     "output_type": "execute_result"
    },
    {
     "data": {
      "image/png": "[encoded data removed]",
      "text/plain": [
       "<Figure size 432x288 with 1 Axes>"
      ]
     },
     "metadata": {
      "needs_background": "light"
     },
     "output_type": "display_data"
    }
   ],
   "source": [
    "g = sb.violinplot(x='phase', y='hd', data=df[['patient', 'phase', 'hd']])\n",
    "g.set(ylim=(0, 25))"
   ]
  },
  {
   "cell_type": "code",
   "execution_count": 18,
   "id": "124a5a9b",
   "metadata": {},
   "outputs": [
    {
     "data": {
      "text/html": [
       "<style  type=\"text/css\" >\n",
       "#T_17195_row2_col0,#T_17195_row3_col1{\n",
       "            background-color:  lightgreen;\n",
       "        }</style><table id=\"T_17195_\" ><thead>    <tr>        <th class=\"blank level0\" ></th>        <th class=\"col_heading level0 col0\" >dice</th>        <th class=\"col_heading level0 col1\" >hd</th>    </tr>    <tr>        <th class=\"index_name level0\" >phase</th>        <th class=\"blank\" ></th>        <th class=\"blank\" ></th>    </tr></thead><tbody>\n",
       "                <tr>\n",
       "                        <th id=\"T_17195_level0_row0\" class=\"row_heading level0 row0\" >ED</th>\n",
       "                        <td id=\"T_17195_row0_col0\" class=\"data row0 col0\" >0.730595</td>\n",
       "                        <td id=\"T_17195_row0_col1\" class=\"data row0 col1\" >10.598242</td>\n",
       "            </tr>\n",
       "            <tr>\n",
       "                        <th id=\"T_17195_level0_row1\" class=\"row_heading level0 row1\" >ES</th>\n",
       "                        <td id=\"T_17195_row1_col0\" class=\"data row1 col0\" >0.754767</td>\n",
       "                        <td id=\"T_17195_row1_col1\" class=\"data row1 col1\" >8.564793</td>\n",
       "            </tr>\n",
       "            <tr>\n",
       "                        <th id=\"T_17195_level0_row2\" class=\"row_heading level0 row2\" >MD</th>\n",
       "                        <td id=\"T_17195_row2_col0\" class=\"data row2 col0\" >0.781138</td>\n",
       "                        <td id=\"T_17195_row2_col1\" class=\"data row2 col1\" >9.032958</td>\n",
       "            </tr>\n",
       "            <tr>\n",
       "                        <th id=\"T_17195_level0_row3\" class=\"row_heading level0 row3\" >MS</th>\n",
       "                        <td id=\"T_17195_row3_col0\" class=\"data row3 col0\" >0.759329</td>\n",
       "                        <td id=\"T_17195_row3_col1\" class=\"data row3 col1\" >7.702209</td>\n",
       "            </tr>\n",
       "            <tr>\n",
       "                        <th id=\"T_17195_level0_row4\" class=\"row_heading level0 row4\" >PF</th>\n",
       "                        <td id=\"T_17195_row4_col0\" class=\"data row4 col0\" >0.714064</td>\n",
       "                        <td id=\"T_17195_row4_col1\" class=\"data row4 col1\" >10.940881</td>\n",
       "            </tr>\n",
       "    </tbody></table>"
      ],
      "text/plain": [
       "<pandas.io.formats.style.Styler at 0x7f4faa08f520>"
      ]
     },
     "execution_count": 18,
     "metadata": {},
     "output_type": "execute_result"
    }
   ],
   "source": [
    "# mean\n",
    "df.groupby('phase').mean().style.highlight_min(color = 'lightgreen', axis = 0, subset=['hd']).highlight_max(color = 'lightgreen', axis = 0, subset=['dice'])"
   ]
  },
  {
   "cell_type": "code",
   "execution_count": 19,
   "id": "54e68ff2",
   "metadata": {},
   "outputs": [
    {
     "data": {
      "text/html": [
       "<style  type=\"text/css\" >\n",
       "#T_60833_row2_col0,#T_60833_row3_col1{\n",
       "            background-color:  lightgreen;\n",
       "        }</style><table id=\"T_60833_\" ><thead>    <tr>        <th class=\"blank level0\" ></th>        <th class=\"col_heading level0 col0\" >dice</th>        <th class=\"col_heading level0 col1\" >hd</th>    </tr>    <tr>        <th class=\"index_name level0\" >phase</th>        <th class=\"blank\" ></th>        <th class=\"blank\" ></th>    </tr></thead><tbody>\n",
       "                <tr>\n",
       "                        <th id=\"T_60833_level0_row0\" class=\"row_heading level0 row0\" >ED</th>\n",
       "                        <td id=\"T_60833_row0_col0\" class=\"data row0 col0\" >0.737090</td>\n",
       "                        <td id=\"T_60833_row0_col1\" class=\"data row0 col1\" >10.630146</td>\n",
       "            </tr>\n",
       "            <tr>\n",
       "                        <th id=\"T_60833_level0_row1\" class=\"row_heading level0 row1\" >ES</th>\n",
       "                        <td id=\"T_60833_row1_col0\" class=\"data row1 col0\" >0.760387</td>\n",
       "                        <td id=\"T_60833_row1_col1\" class=\"data row1 col1\" >8.062258</td>\n",
       "            </tr>\n",
       "            <tr>\n",
       "                        <th id=\"T_60833_level0_row2\" class=\"row_heading level0 row2\" >MD</th>\n",
       "                        <td id=\"T_60833_row2_col0\" class=\"data row2 col0\" >0.785060</td>\n",
       "                        <td id=\"T_60833_row2_col1\" class=\"data row2 col1\" >8.774964</td>\n",
       "            </tr>\n",
       "            <tr>\n",
       "                        <th id=\"T_60833_level0_row3\" class=\"row_heading level0 row3\" >MS</th>\n",
       "                        <td id=\"T_60833_row3_col0\" class=\"data row3 col0\" >0.761131</td>\n",
       "                        <td id=\"T_60833_row3_col1\" class=\"data row3 col1\" >7.071068</td>\n",
       "            </tr>\n",
       "            <tr>\n",
       "                        <th id=\"T_60833_level0_row4\" class=\"row_heading level0 row4\" >PF</th>\n",
       "                        <td id=\"T_60833_row4_col0\" class=\"data row4 col0\" >0.715573</td>\n",
       "                        <td id=\"T_60833_row4_col1\" class=\"data row4 col1\" >11.045361</td>\n",
       "            </tr>\n",
       "    </tbody></table>"
      ],
      "text/plain": [
       "<pandas.io.formats.style.Styler at 0x7f4faa0949d0>"
      ]
     },
     "execution_count": 19,
     "metadata": {},
     "output_type": "execute_result"
    }
   ],
   "source": [
    "# median\n",
    "df.groupby('phase').median().style.highlight_min(color = 'lightgreen', axis = 0, subset=['hd']).highlight_max(color = 'lightgreen', axis = 0, subset=['dice'])"
   ]
  },
  {
   "cell_type": "code",
   "execution_count": 20,
   "id": "393ed3b6",
   "metadata": {},
   "outputs": [
    {
     "data": {
      "text/html": [
       "<style  type=\"text/css\" >\n",
       "#T_123fe_row1_col0,#T_123fe_row3_col1{\n",
       "            background-color:  lightgreen;\n",
       "        }</style><table id=\"T_123fe_\" ><thead>    <tr>        <th class=\"blank level0\" ></th>        <th class=\"col_heading level0 col0\" >dice</th>        <th class=\"col_heading level0 col1\" >hd</th>    </tr>    <tr>        <th class=\"index_name level0\" >phase</th>        <th class=\"blank\" ></th>        <th class=\"blank\" ></th>    </tr></thead><tbody>\n",
       "                <tr>\n",
       "                        <th id=\"T_123fe_level0_row0\" class=\"row_heading level0 row0\" >ED</th>\n",
       "                        <td id=\"T_123fe_row0_col0\" class=\"data row0 col0\" >0.041200</td>\n",
       "                        <td id=\"T_123fe_row0_col1\" class=\"data row0 col1\" >3.809302</td>\n",
       "            </tr>\n",
       "            <tr>\n",
       "                        <th id=\"T_123fe_level0_row1\" class=\"row_heading level0 row1\" >ES</th>\n",
       "                        <td id=\"T_123fe_row1_col0\" class=\"data row1 col0\" >0.053213</td>\n",
       "                        <td id=\"T_123fe_row1_col1\" class=\"data row1 col1\" >3.147351</td>\n",
       "            </tr>\n",
       "            <tr>\n",
       "                        <th id=\"T_123fe_level0_row2\" class=\"row_heading level0 row2\" >MD</th>\n",
       "                        <td id=\"T_123fe_row2_col0\" class=\"data row2 col0\" >0.026268</td>\n",
       "                        <td id=\"T_123fe_row2_col1\" class=\"data row2 col1\" >3.676962</td>\n",
       "            </tr>\n",
       "            <tr>\n",
       "                        <th id=\"T_123fe_level0_row3\" class=\"row_heading level0 row3\" >MS</th>\n",
       "                        <td id=\"T_123fe_row3_col0\" class=\"data row3 col0\" >0.037426</td>\n",
       "                        <td id=\"T_123fe_row3_col1\" class=\"data row3 col1\" >2.127752</td>\n",
       "            </tr>\n",
       "            <tr>\n",
       "                        <th id=\"T_123fe_level0_row4\" class=\"row_heading level0 row4\" >PF</th>\n",
       "                        <td id=\"T_123fe_row4_col0\" class=\"data row4 col0\" >0.047575</td>\n",
       "                        <td id=\"T_123fe_row4_col1\" class=\"data row4 col1\" >2.927505</td>\n",
       "            </tr>\n",
       "    </tbody></table>"
      ],
      "text/plain": [
       "<pandas.io.formats.style.Styler at 0x7f4faa08fa00>"
      ]
     },
     "execution_count": 20,
     "metadata": {},
     "output_type": "execute_result"
    }
   ],
   "source": [
    "# std\n",
    "df.groupby('phase').std().style.highlight_min(color = 'lightgreen', axis = 0, subset=['hd']).highlight_max(color = 'lightgreen', axis = 0, subset=['dice'])"
   ]
  },
  {
   "cell_type": "code",
   "execution_count": 28,
   "id": "0e99fcd8",
   "metadata": {},
   "outputs": [
    {
     "data": {
      "text/plain": [
       "[[1, 0], [2, 1, 0], [3, 2, 1, 0], [4, 3, 2, 1, 0]]"
      ]
     },
     "execution_count": 28,
     "metadata": {},
     "output_type": "execute_result"
    }
   ],
   "source": [
    "# fast reverse compose test\n",
    "temp = [0,1,2,3,4]\n",
    "[list(reversed(temp[:i])) for i in range(2, len(temp) + 1)]"
   ]
  },
  {
   "cell_type": "code",
   "execution_count": null,
   "id": "5b755cbc",
   "metadata": {},
   "outputs": [],
   "source": []
  }
 ],
 "metadata": {
  "kernelspec": {
   "display_name": "dcmr",
   "language": "python",
   "name": "dcmr"
  },
  "language_info": {
   "codemirror_mode": {
    "name": "ipython",
    "version": 3
   },
   "file_extension": ".py",
   "mimetype": "text/x-python",
   "name": "python",
   "nbconvert_exporter": "python",
   "pygments_lexer": "ipython3",
   "version": "3.8.5"
  },
  "widgets": {
   "application/vnd.jupyter.widget-state+json": {
    "state": {},
    "version_major": 2,
    "version_minor": 0
   }
  }
 },
 "nbformat": 4,
 "nbformat_minor": 5
}
