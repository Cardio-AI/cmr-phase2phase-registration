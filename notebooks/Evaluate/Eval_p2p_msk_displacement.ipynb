{
 "cells": [
  {
   "cell_type": "code",
   "execution_count": 25,
   "id": "bac3ebfc",
   "metadata": {},
   "outputs": [
    {
     "name": "stdout",
     "output_type": "stream",
     "text": [
      "search for root_dir and set working directory\n",
      "Working directory set to: /mnt/ssd/git/dynamic-cmr-models\n"
     ]
    }
   ],
   "source": [
    "# define logging and working directory\n",
    "# ------------------------------------------\n",
    "from ProjectRoot import change_wd_to_project_root\n",
    "change_wd_to_project_root()\n",
    "# jupyter magic config\n",
    "# ------------------------------------------\n",
    "%matplotlib inline\n",
    "%reload_ext autoreload\n",
    "%autoreload 2\n",
    "# this should import glob, os, and many other standard libs\n",
    "# ------------------------------------------ \n",
    "from src.utils.Notebook_imports import *\n",
    "# local imports\n",
    "# ------------------------------------------ \n",
    "from src.utils.Utils_io import Console_and_file_logger, init_config\n",
    "# import external libs\n",
    "# ------------------------------------------ \n",
    "import pandas as pd\n",
    "import numpy as np\n",
    "from ipyfilechooser import FileChooser\n",
    "import glob\n",
    "import os"
   ]
  },
  {
   "cell_type": "code",
   "execution_count": 34,
   "id": "f2d35c69",
   "metadata": {},
   "outputs": [
    {
     "data": {
      "application/vnd.jupyter.widget-view+json": {
       "model_id": "28ae01f446734f32a4215c04ff538833",
       "version_major": 2,
       "version_minor": 0
      },
      "text/plain": [
       "FileChooser(path='/mnt/sds/sven/code/dynamic-cmr-models/exp/temp/phase2phase/v3/64_128_128/window1/reg0_001', …"
      ]
     },
     "metadata": {},
     "output_type": "display_data"
    },
    {
     "data": {
      "application/vnd.jupyter.widget-view+json": {
       "model_id": "590911485c8445c586c8d39730f35a93",
       "version_major": 2,
       "version_minor": 0
      },
      "text/plain": [
       "interactive(children=(Checkbox(value=False, description='run'), Output()), _dom_classes=('widget-interact',))"
      ]
     },
     "metadata": {},
     "output_type": "display_data"
    }
   ],
   "source": [
    "# evaluate / calc dice and hd\n",
    "from src.models.Evaluate_moved_myo import calc_dice\n",
    "from src.models.predict_motion_model import pred_fold\n",
    "import os\n",
    "sds_storage = '/mnt/sds/sven/code/dynamic-cmr-models/exp/temp/phase2phase/v3/64_128_128/window1/reg0_001/'\n",
    "data_root = '/mnt/ssd/data/dmd/02_imported_4D_unfiltered/'\n",
    "fchooser = FileChooser(sds_storage, '')\n",
    "display(fchooser)\n",
    "@interact\n",
    "def calc_scores(run=False):\n",
    "    if run:\n",
    "        exp_path = fchooser.selected\n",
    "        gt_path = os.path.join(exp_path, 'gt_m')\n",
    "        pred_path = os.path.join(exp_path, 'pred_m')\n",
    "        cfg_file = os.path.join(exp_path,'config/config.json')\n",
    "        print('config given: {}'.format(cfg_file))\n",
    "        # load the experiment config\n",
    "        with open(cfg_file, encoding='utf-8') as data_file:\n",
    "            config = json.loads(data_file.read())\n",
    "\n",
    "            EXPERIMENT = config.get('EXPERIMENT', 'UNDEFINED')\n",
    "            Console_and_file_logger(EXPERIMENT, logging.INFO)\n",
    "            config['MODEL_PATH'] = os.path.join(exp_path, 'model/')\n",
    "            config['EXP_PATH'] = exp_path\n",
    "            config['DATA_PATH_SAX'] = os.path.join(data_root, 'sax')\n",
    "            config['DF_FOLDS'] = os.path.join(data_root, 'df_kfold.csv')\n",
    "            config['DF_META'] = os.path.join(data_root, 'SAx_3D_dicomTags_phase.csv')\n",
    "            info('Loaded config for experiment: {}'.format(EXPERIMENT))\n",
    "        pred_fold(config)\n",
    "        export_path = exp_path\n",
    "        calc_dice(gt_path, pred_path, exp_path)"
   ]
  },
  {
   "cell_type": "code",
   "execution_count": 27,
   "id": "24f99ef3",
   "metadata": {},
   "outputs": [
    {
     "ename": "FileNotFoundError",
     "evalue": "[Errno 2] No such file or directory: '/mnt/ssd/git/dynamic-cmr-models/exp/temp/phase2phase/v3/64_128_128/window1/reg0_001/dmd/NOmask_bugfix_f0/2021-10-01_17_08/results.csv'",
     "output_type": "error",
     "traceback": [
      "\u001b[0;31m-------------------------------------------------------------------------\u001b[0m",
      "\u001b[0;31mFileNotFoundError\u001b[0m                       Traceback (most recent call last)",
      "\u001b[0;32m<ipython-input-27-34b58ea98ff8>\u001b[0m in \u001b[0;36m<module>\u001b[0;34m\u001b[0m\n\u001b[1;32m      4\u001b[0m            '/mnt/ssd/git/dynamic-cmr-models/exp/temp/phase2phase/v3/64_128_128/window1/reg0_001/dmd/NOmask_bugfix_f3/2021-10-02_00_59']\n\u001b[1;32m      5\u001b[0m \u001b[0;34m\u001b[0m\u001b[0m\n\u001b[0;32m----> 6\u001b[0;31m \u001b[0mdfs\u001b[0m \u001b[0;34m=\u001b[0m \u001b[0;34m[\u001b[0m\u001b[0mpd\u001b[0m\u001b[0;34m.\u001b[0m\u001b[0mread_csv\u001b[0m\u001b[0;34m(\u001b[0m\u001b[0mos\u001b[0m\u001b[0;34m.\u001b[0m\u001b[0mpath\u001b[0m\u001b[0;34m.\u001b[0m\u001b[0mjoin\u001b[0m\u001b[0;34m(\u001b[0m\u001b[0mf\u001b[0m\u001b[0;34m,\u001b[0m\u001b[0;34m'results.csv'\u001b[0m\u001b[0;34m)\u001b[0m\u001b[0;34m)\u001b[0m \u001b[0;32mfor\u001b[0m \u001b[0mf\u001b[0m \u001b[0;32min\u001b[0m \u001b[0mdf_files\u001b[0m\u001b[0;34m]\u001b[0m\u001b[0;34m\u001b[0m\u001b[0;34m\u001b[0m\u001b[0m\n\u001b[0m",
      "\u001b[0;32m<ipython-input-27-34b58ea98ff8>\u001b[0m in \u001b[0;36m<listcomp>\u001b[0;34m(.0)\u001b[0m\n\u001b[1;32m      4\u001b[0m            '/mnt/ssd/git/dynamic-cmr-models/exp/temp/phase2phase/v3/64_128_128/window1/reg0_001/dmd/NOmask_bugfix_f3/2021-10-02_00_59']\n\u001b[1;32m      5\u001b[0m \u001b[0;34m\u001b[0m\u001b[0m\n\u001b[0;32m----> 6\u001b[0;31m \u001b[0mdfs\u001b[0m \u001b[0;34m=\u001b[0m \u001b[0;34m[\u001b[0m\u001b[0mpd\u001b[0m\u001b[0;34m.\u001b[0m\u001b[0mread_csv\u001b[0m\u001b[0;34m(\u001b[0m\u001b[0mos\u001b[0m\u001b[0;34m.\u001b[0m\u001b[0mpath\u001b[0m\u001b[0;34m.\u001b[0m\u001b[0mjoin\u001b[0m\u001b[0;34m(\u001b[0m\u001b[0mf\u001b[0m\u001b[0;34m,\u001b[0m\u001b[0;34m'results.csv'\u001b[0m\u001b[0;34m)\u001b[0m\u001b[0;34m)\u001b[0m \u001b[0;32mfor\u001b[0m \u001b[0mf\u001b[0m \u001b[0;32min\u001b[0m \u001b[0mdf_files\u001b[0m\u001b[0;34m]\u001b[0m\u001b[0;34m\u001b[0m\u001b[0;34m\u001b[0m\u001b[0m\n\u001b[0m",
      "\u001b[0;32m~/anaconda3/envs/dcmr/lib/python3.8/site-packages/pandas/io/parsers.py\u001b[0m in \u001b[0;36mread_csv\u001b[0;34m(filepath_or_buffer, sep, delimiter, header, names, index_col, usecols, squeeze, prefix, mangle_dupe_cols, dtype, engine, converters, true_values, false_values, skipinitialspace, skiprows, skipfooter, nrows, na_values, keep_default_na, na_filter, verbose, skip_blank_lines, parse_dates, infer_datetime_format, keep_date_col, date_parser, dayfirst, cache_dates, iterator, chunksize, compression, thousands, decimal, lineterminator, quotechar, quoting, doublequote, escapechar, comment, encoding, dialect, error_bad_lines, warn_bad_lines, delim_whitespace, low_memory, memory_map, float_precision, storage_options)\u001b[0m\n\u001b[1;32m    603\u001b[0m     \u001b[0mkwds\u001b[0m\u001b[0;34m.\u001b[0m\u001b[0mupdate\u001b[0m\u001b[0;34m(\u001b[0m\u001b[0mkwds_defaults\u001b[0m\u001b[0;34m)\u001b[0m\u001b[0;34m\u001b[0m\u001b[0;34m\u001b[0m\u001b[0m\n\u001b[1;32m    604\u001b[0m \u001b[0;34m\u001b[0m\u001b[0m\n\u001b[0;32m--> 605\u001b[0;31m     \u001b[0;32mreturn\u001b[0m \u001b[0m_read\u001b[0m\u001b[0;34m(\u001b[0m\u001b[0mfilepath_or_buffer\u001b[0m\u001b[0;34m,\u001b[0m \u001b[0mkwds\u001b[0m\u001b[0;34m)\u001b[0m\u001b[0;34m\u001b[0m\u001b[0;34m\u001b[0m\u001b[0m\n\u001b[0m\u001b[1;32m    606\u001b[0m \u001b[0;34m\u001b[0m\u001b[0m\n\u001b[1;32m    607\u001b[0m \u001b[0;34m\u001b[0m\u001b[0m\n",
      "\u001b[0;32m~/anaconda3/envs/dcmr/lib/python3.8/site-packages/pandas/io/parsers.py\u001b[0m in \u001b[0;36m_read\u001b[0;34m(filepath_or_buffer, kwds)\u001b[0m\n\u001b[1;32m    455\u001b[0m \u001b[0;34m\u001b[0m\u001b[0m\n\u001b[1;32m    456\u001b[0m     \u001b[0;31m# Create the parser.\u001b[0m\u001b[0;34m\u001b[0m\u001b[0;34m\u001b[0m\u001b[0;34m\u001b[0m\u001b[0m\n\u001b[0;32m--> 457\u001b[0;31m     \u001b[0mparser\u001b[0m \u001b[0;34m=\u001b[0m \u001b[0mTextFileReader\u001b[0m\u001b[0;34m(\u001b[0m\u001b[0mfilepath_or_buffer\u001b[0m\u001b[0;34m,\u001b[0m \u001b[0;34m**\u001b[0m\u001b[0mkwds\u001b[0m\u001b[0;34m)\u001b[0m\u001b[0;34m\u001b[0m\u001b[0;34m\u001b[0m\u001b[0m\n\u001b[0m\u001b[1;32m    458\u001b[0m \u001b[0;34m\u001b[0m\u001b[0m\n\u001b[1;32m    459\u001b[0m     \u001b[0;32mif\u001b[0m \u001b[0mchunksize\u001b[0m \u001b[0;32mor\u001b[0m \u001b[0miterator\u001b[0m\u001b[0;34m:\u001b[0m\u001b[0;34m\u001b[0m\u001b[0;34m\u001b[0m\u001b[0m\n",
      "\u001b[0;32m~/anaconda3/envs/dcmr/lib/python3.8/site-packages/pandas/io/parsers.py\u001b[0m in \u001b[0;36m__init__\u001b[0;34m(self, f, engine, **kwds)\u001b[0m\n\u001b[1;32m    812\u001b[0m             \u001b[0mself\u001b[0m\u001b[0;34m.\u001b[0m\u001b[0moptions\u001b[0m\u001b[0;34m[\u001b[0m\u001b[0;34m\"has_index_names\"\u001b[0m\u001b[0;34m]\u001b[0m \u001b[0;34m=\u001b[0m \u001b[0mkwds\u001b[0m\u001b[0;34m[\u001b[0m\u001b[0;34m\"has_index_names\"\u001b[0m\u001b[0;34m]\u001b[0m\u001b[0;34m\u001b[0m\u001b[0;34m\u001b[0m\u001b[0m\n\u001b[1;32m    813\u001b[0m \u001b[0;34m\u001b[0m\u001b[0m\n\u001b[0;32m--> 814\u001b[0;31m         \u001b[0mself\u001b[0m\u001b[0;34m.\u001b[0m\u001b[0m_engine\u001b[0m \u001b[0;34m=\u001b[0m \u001b[0mself\u001b[0m\u001b[0;34m.\u001b[0m\u001b[0m_make_engine\u001b[0m\u001b[0;34m(\u001b[0m\u001b[0mself\u001b[0m\u001b[0;34m.\u001b[0m\u001b[0mengine\u001b[0m\u001b[0;34m)\u001b[0m\u001b[0;34m\u001b[0m\u001b[0;34m\u001b[0m\u001b[0m\n\u001b[0m\u001b[1;32m    815\u001b[0m \u001b[0;34m\u001b[0m\u001b[0m\n\u001b[1;32m    816\u001b[0m     \u001b[0;32mdef\u001b[0m \u001b[0mclose\u001b[0m\u001b[0;34m(\u001b[0m\u001b[0mself\u001b[0m\u001b[0;34m)\u001b[0m\u001b[0;34m:\u001b[0m\u001b[0;34m\u001b[0m\u001b[0;34m\u001b[0m\u001b[0m\n",
      "\u001b[0;32m~/anaconda3/envs/dcmr/lib/python3.8/site-packages/pandas/io/parsers.py\u001b[0m in \u001b[0;36m_make_engine\u001b[0;34m(self, engine)\u001b[0m\n\u001b[1;32m   1043\u001b[0m             )\n\u001b[1;32m   1044\u001b[0m         \u001b[0;31m# error: Too many arguments for \"ParserBase\"\u001b[0m\u001b[0;34m\u001b[0m\u001b[0;34m\u001b[0m\u001b[0;34m\u001b[0m\u001b[0m\n\u001b[0;32m-> 1045\u001b[0;31m         \u001b[0;32mreturn\u001b[0m \u001b[0mmapping\u001b[0m\u001b[0;34m[\u001b[0m\u001b[0mengine\u001b[0m\u001b[0;34m]\u001b[0m\u001b[0;34m(\u001b[0m\u001b[0mself\u001b[0m\u001b[0;34m.\u001b[0m\u001b[0mf\u001b[0m\u001b[0;34m,\u001b[0m \u001b[0;34m**\u001b[0m\u001b[0mself\u001b[0m\u001b[0;34m.\u001b[0m\u001b[0moptions\u001b[0m\u001b[0;34m)\u001b[0m  \u001b[0;31m# type: ignore[call-arg]\u001b[0m\u001b[0;34m\u001b[0m\u001b[0;34m\u001b[0m\u001b[0m\n\u001b[0m\u001b[1;32m   1046\u001b[0m \u001b[0;34m\u001b[0m\u001b[0m\n\u001b[1;32m   1047\u001b[0m     \u001b[0;32mdef\u001b[0m \u001b[0m_failover_to_python\u001b[0m\u001b[0;34m(\u001b[0m\u001b[0mself\u001b[0m\u001b[0;34m)\u001b[0m\u001b[0;34m:\u001b[0m\u001b[0;34m\u001b[0m\u001b[0;34m\u001b[0m\u001b[0m\n",
      "\u001b[0;32m~/anaconda3/envs/dcmr/lib/python3.8/site-packages/pandas/io/parsers.py\u001b[0m in \u001b[0;36m__init__\u001b[0;34m(self, src, **kwds)\u001b[0m\n\u001b[1;32m   1860\u001b[0m \u001b[0;34m\u001b[0m\u001b[0m\n\u001b[1;32m   1861\u001b[0m         \u001b[0;31m# open handles\u001b[0m\u001b[0;34m\u001b[0m\u001b[0;34m\u001b[0m\u001b[0;34m\u001b[0m\u001b[0m\n\u001b[0;32m-> 1862\u001b[0;31m         \u001b[0mself\u001b[0m\u001b[0;34m.\u001b[0m\u001b[0m_open_handles\u001b[0m\u001b[0;34m(\u001b[0m\u001b[0msrc\u001b[0m\u001b[0;34m,\u001b[0m \u001b[0mkwds\u001b[0m\u001b[0;34m)\u001b[0m\u001b[0;34m\u001b[0m\u001b[0;34m\u001b[0m\u001b[0m\n\u001b[0m\u001b[1;32m   1863\u001b[0m         \u001b[0;32massert\u001b[0m \u001b[0mself\u001b[0m\u001b[0;34m.\u001b[0m\u001b[0mhandles\u001b[0m \u001b[0;32mis\u001b[0m \u001b[0;32mnot\u001b[0m \u001b[0;32mNone\u001b[0m\u001b[0;34m\u001b[0m\u001b[0;34m\u001b[0m\u001b[0m\n\u001b[1;32m   1864\u001b[0m         \u001b[0;32mfor\u001b[0m \u001b[0mkey\u001b[0m \u001b[0;32min\u001b[0m \u001b[0;34m(\u001b[0m\u001b[0;34m\"storage_options\"\u001b[0m\u001b[0;34m,\u001b[0m \u001b[0;34m\"encoding\"\u001b[0m\u001b[0;34m,\u001b[0m \u001b[0;34m\"memory_map\"\u001b[0m\u001b[0;34m,\u001b[0m \u001b[0;34m\"compression\"\u001b[0m\u001b[0;34m)\u001b[0m\u001b[0;34m:\u001b[0m\u001b[0;34m\u001b[0m\u001b[0;34m\u001b[0m\u001b[0m\n",
      "\u001b[0;32m~/anaconda3/envs/dcmr/lib/python3.8/site-packages/pandas/io/parsers.py\u001b[0m in \u001b[0;36m_open_handles\u001b[0;34m(self, src, kwds)\u001b[0m\n\u001b[1;32m   1355\u001b[0m         \u001b[0mLet\u001b[0m \u001b[0mthe\u001b[0m \u001b[0mreaders\u001b[0m \u001b[0mopen\u001b[0m \u001b[0mIOHanldes\u001b[0m \u001b[0mafter\u001b[0m \u001b[0mthey\u001b[0m \u001b[0mare\u001b[0m \u001b[0mdone\u001b[0m \u001b[0;32mwith\u001b[0m \u001b[0mtheir\u001b[0m \u001b[0mpotential\u001b[0m \u001b[0mraises\u001b[0m\u001b[0;34m.\u001b[0m\u001b[0;34m\u001b[0m\u001b[0;34m\u001b[0m\u001b[0m\n\u001b[1;32m   1356\u001b[0m         \"\"\"\n\u001b[0;32m-> 1357\u001b[0;31m         self.handles = get_handle(\n\u001b[0m\u001b[1;32m   1358\u001b[0m             \u001b[0msrc\u001b[0m\u001b[0;34m,\u001b[0m\u001b[0;34m\u001b[0m\u001b[0;34m\u001b[0m\u001b[0m\n\u001b[1;32m   1359\u001b[0m             \u001b[0;34m\"r\"\u001b[0m\u001b[0;34m,\u001b[0m\u001b[0;34m\u001b[0m\u001b[0;34m\u001b[0m\u001b[0m\n",
      "\u001b[0;32m~/anaconda3/envs/dcmr/lib/python3.8/site-packages/pandas/io/common.py\u001b[0m in \u001b[0;36mget_handle\u001b[0;34m(path_or_buf, mode, encoding, compression, memory_map, is_text, errors, storage_options)\u001b[0m\n\u001b[1;32m    640\u001b[0m                 \u001b[0merrors\u001b[0m \u001b[0;34m=\u001b[0m \u001b[0;34m\"replace\"\u001b[0m\u001b[0;34m\u001b[0m\u001b[0;34m\u001b[0m\u001b[0m\n\u001b[1;32m    641\u001b[0m             \u001b[0;31m# Encoding\u001b[0m\u001b[0;34m\u001b[0m\u001b[0;34m\u001b[0m\u001b[0;34m\u001b[0m\u001b[0m\n\u001b[0;32m--> 642\u001b[0;31m             handle = open(\n\u001b[0m\u001b[1;32m    643\u001b[0m                 \u001b[0mhandle\u001b[0m\u001b[0;34m,\u001b[0m\u001b[0;34m\u001b[0m\u001b[0;34m\u001b[0m\u001b[0m\n\u001b[1;32m    644\u001b[0m                 \u001b[0mioargs\u001b[0m\u001b[0;34m.\u001b[0m\u001b[0mmode\u001b[0m\u001b[0;34m,\u001b[0m\u001b[0;34m\u001b[0m\u001b[0;34m\u001b[0m\u001b[0m\n",
      "\u001b[0;31mFileNotFoundError\u001b[0m: [Errno 2] No such file or directory: '/mnt/ssd/git/dynamic-cmr-models/exp/temp/phase2phase/v3/64_128_128/window1/reg0_001/dmd/NOmask_bugfix_f0/2021-10-01_17_08/results.csv'"
     ]
    }
   ],
   "source": [
    "df_files = ['/mnt/ssd/git/dynamic-cmr-models/exp/temp/phase2phase/v3/64_128_128/window1/reg0_001/dmd/NOmask_bugfix_f0/2021-10-01_17_08', \n",
    "           '/mnt/ssd/git/dynamic-cmr-models/exp/temp/phase2phase/v3/64_128_128/window1/reg0_001/dmd/NOmask_bugfix_f1/2021-10-01_20_26',\n",
    "           '/mnt/ssd/git/dynamic-cmr-models/exp/temp/phase2phase/v3/64_128_128/window1/reg0_001/dmd/NOmask_bugfix_f2/2021-10-01_21_51',\n",
    "           '/mnt/ssd/git/dynamic-cmr-models/exp/temp/phase2phase/v3/64_128_128/window1/reg0_001/dmd/NOmask_bugfix_f3/2021-10-02_00_59']\n",
    "\n",
    "dfs = [pd.read_csv(os.path.join(f,'results.csv')) for f in df_files]"
   ]
  },
  {
   "cell_type": "code",
   "execution_count": 9,
   "id": "4da6460d",
   "metadata": {},
   "outputs": [],
   "source": [
    "df = pd.concat(dfs)"
   ]
  },
  {
   "cell_type": "code",
   "execution_count": 13,
   "id": "f7186fb4",
   "metadata": {},
   "outputs": [
    {
     "data": {
      "text/plain": [
       "[(0.0, 1.0)]"
      ]
     },
     "execution_count": 13,
     "metadata": {},
     "output_type": "execute_result"
    },
    {
     "data": {
      "image/png": "[encoded data removed]",
      "text/plain": [
       "<Figure size 432x288 with 1 Axes>"
      ]
     },
     "metadata": {
      "needs_background": "light"
     },
     "output_type": "display_data"
    }
   ],
   "source": [
    "import seaborn as sb\n",
    "g = sb.violinplot(x='phase', y='dice', data=df[['patient', 'phase', 'dice']])\n",
    "g.set(ylim=(0,1))"
   ]
  },
  {
   "cell_type": "code",
   "execution_count": 14,
   "id": "91d0bb9f",
   "metadata": {},
   "outputs": [
    {
     "data": {
      "text/plain": [
       "[(0.0, 25.0)]"
      ]
     },
     "execution_count": 14,
     "metadata": {},
     "output_type": "execute_result"
    },
    {
     "data": {
      "image/png": "[encoded data removed]",
      "text/plain": [
       "<Figure size 432x288 with 1 Axes>"
      ]
     },
     "metadata": {
      "needs_background": "light"
     },
     "output_type": "display_data"
    }
   ],
   "source": [
    "g = sb.violinplot(x='phase', y='hd', data=df[['patient', 'phase', 'hd']])\n",
    "g.set(ylim=(0, 25))"
   ]
  },
  {
   "cell_type": "code",
   "execution_count": 21,
   "id": "b8306ac1",
   "metadata": {},
   "outputs": [
    {
     "data": {
      "text/html": [
       "<style  type=\"text/css\" >\n",
       "#T_2b723_row1_col1,#T_2b723_row4_col0{\n",
       "            background-color:  lightgreen;\n",
       "        }</style><table id=\"T_2b723_\" ><thead>    <tr>        <th class=\"blank level0\" ></th>        <th class=\"col_heading level0 col0\" >dice</th>        <th class=\"col_heading level0 col1\" >hd</th>    </tr>    <tr>        <th class=\"index_name level0\" >phase</th>        <th class=\"blank\" ></th>        <th class=\"blank\" ></th>    </tr></thead><tbody>\n",
       "                <tr>\n",
       "                        <th id=\"T_2b723_level0_row0\" class=\"row_heading level0 row0\" >ED</th>\n",
       "                        <td id=\"T_2b723_row0_col0\" class=\"data row0 col0\" >0.766410</td>\n",
       "                        <td id=\"T_2b723_row0_col1\" class=\"data row0 col1\" >8.826832</td>\n",
       "            </tr>\n",
       "            <tr>\n",
       "                        <th id=\"T_2b723_level0_row1\" class=\"row_heading level0 row1\" >ES</th>\n",
       "                        <td id=\"T_2b723_row1_col0\" class=\"data row1 col0\" >0.801574</td>\n",
       "                        <td id=\"T_2b723_row1_col1\" class=\"data row1 col1\" >7.814196</td>\n",
       "            </tr>\n",
       "            <tr>\n",
       "                        <th id=\"T_2b723_level0_row2\" class=\"row_heading level0 row2\" >MD</th>\n",
       "                        <td id=\"T_2b723_row2_col0\" class=\"data row2 col0\" >0.814182</td>\n",
       "                        <td id=\"T_2b723_row2_col1\" class=\"data row2 col1\" >9.585033</td>\n",
       "            </tr>\n",
       "            <tr>\n",
       "                        <th id=\"T_2b723_level0_row3\" class=\"row_heading level0 row3\" >MS</th>\n",
       "                        <td id=\"T_2b723_row3_col0\" class=\"data row3 col0\" >0.783700</td>\n",
       "                        <td id=\"T_2b723_row3_col1\" class=\"data row3 col1\" >8.627121</td>\n",
       "            </tr>\n",
       "            <tr>\n",
       "                        <th id=\"T_2b723_level0_row4\" class=\"row_heading level0 row4\" >PF</th>\n",
       "                        <td id=\"T_2b723_row4_col0\" class=\"data row4 col0\" >0.764006</td>\n",
       "                        <td id=\"T_2b723_row4_col1\" class=\"data row4 col1\" >9.272701</td>\n",
       "            </tr>\n",
       "    </tbody></table>"
      ],
      "text/plain": [
       "<pandas.io.formats.style.Styler at 0x7fb57c7beac0>"
      ]
     },
     "execution_count": 21,
     "metadata": {},
     "output_type": "execute_result"
    }
   ],
   "source": [
    "# mean\n",
    "df.groupby('phase').mean().style.highlight_min(color = 'lightgreen', axis = 0)"
   ]
  },
  {
   "cell_type": "code",
   "execution_count": 22,
   "id": "b9980b1f",
   "metadata": {},
   "outputs": [
    {
     "data": {
      "text/html": [
       "<style  type=\"text/css\" >\n",
       "#T_1d0ef_row1_col1,#T_1d0ef_row4_col0{\n",
       "            background-color:  lightgreen;\n",
       "        }</style><table id=\"T_1d0ef_\" ><thead>    <tr>        <th class=\"blank level0\" ></th>        <th class=\"col_heading level0 col0\" >dice</th>        <th class=\"col_heading level0 col1\" >hd</th>    </tr>    <tr>        <th class=\"index_name level0\" >phase</th>        <th class=\"blank\" ></th>        <th class=\"blank\" ></th>    </tr></thead><tbody>\n",
       "                <tr>\n",
       "                        <th id=\"T_1d0ef_level0_row0\" class=\"row_heading level0 row0\" >ED</th>\n",
       "                        <td id=\"T_1d0ef_row0_col0\" class=\"data row0 col0\" >0.771156</td>\n",
       "                        <td id=\"T_1d0ef_row0_col1\" class=\"data row0 col1\" >7.874008</td>\n",
       "            </tr>\n",
       "            <tr>\n",
       "                        <th id=\"T_1d0ef_level0_row1\" class=\"row_heading level0 row1\" >ES</th>\n",
       "                        <td id=\"T_1d0ef_row1_col0\" class=\"data row1 col0\" >0.805911</td>\n",
       "                        <td id=\"T_1d0ef_row1_col1\" class=\"data row1 col1\" >7.810250</td>\n",
       "            </tr>\n",
       "            <tr>\n",
       "                        <th id=\"T_1d0ef_level0_row2\" class=\"row_heading level0 row2\" >MD</th>\n",
       "                        <td id=\"T_1d0ef_row2_col0\" class=\"data row2 col0\" >0.821461</td>\n",
       "                        <td id=\"T_1d0ef_row2_col1\" class=\"data row2 col1\" >9.899495</td>\n",
       "            </tr>\n",
       "            <tr>\n",
       "                        <th id=\"T_1d0ef_level0_row3\" class=\"row_heading level0 row3\" >MS</th>\n",
       "                        <td id=\"T_1d0ef_row3_col0\" class=\"data row3 col0\" >0.781203</td>\n",
       "                        <td id=\"T_1d0ef_row3_col1\" class=\"data row3 col1\" >8.000000</td>\n",
       "            </tr>\n",
       "            <tr>\n",
       "                        <th id=\"T_1d0ef_level0_row4\" class=\"row_heading level0 row4\" >PF</th>\n",
       "                        <td id=\"T_1d0ef_row4_col0\" class=\"data row4 col0\" >0.768435</td>\n",
       "                        <td id=\"T_1d0ef_row4_col1\" class=\"data row4 col1\" >8.660254</td>\n",
       "            </tr>\n",
       "    </tbody></table>"
      ],
      "text/plain": [
       "<pandas.io.formats.style.Styler at 0x7fb57c212760>"
      ]
     },
     "execution_count": 22,
     "metadata": {},
     "output_type": "execute_result"
    }
   ],
   "source": [
    "# median\n",
    "df.groupby('phase').median().style.highlight_min(color = 'lightgreen', axis = 0)"
   ]
  },
  {
   "cell_type": "code",
   "execution_count": 23,
   "id": "d923bbb8",
   "metadata": {},
   "outputs": [
    {
     "data": {
      "text/html": [
       "<style  type=\"text/css\" >\n",
       "#T_52f06_row2_col0,#T_52f06_row4_col1{\n",
       "            background-color:  lightgreen;\n",
       "        }</style><table id=\"T_52f06_\" ><thead>    <tr>        <th class=\"blank level0\" ></th>        <th class=\"col_heading level0 col0\" >dice</th>        <th class=\"col_heading level0 col1\" >hd</th>    </tr>    <tr>        <th class=\"index_name level0\" >phase</th>        <th class=\"blank\" ></th>        <th class=\"blank\" ></th>    </tr></thead><tbody>\n",
       "                <tr>\n",
       "                        <th id=\"T_52f06_level0_row0\" class=\"row_heading level0 row0\" >ED</th>\n",
       "                        <td id=\"T_52f06_row0_col0\" class=\"data row0 col0\" >0.043779</td>\n",
       "                        <td id=\"T_52f06_row0_col1\" class=\"data row0 col1\" >4.935226</td>\n",
       "            </tr>\n",
       "            <tr>\n",
       "                        <th id=\"T_52f06_level0_row1\" class=\"row_heading level0 row1\" >ES</th>\n",
       "                        <td id=\"T_52f06_row1_col0\" class=\"data row1 col0\" >0.039782</td>\n",
       "                        <td id=\"T_52f06_row1_col1\" class=\"data row1 col1\" >3.126744</td>\n",
       "            </tr>\n",
       "            <tr>\n",
       "                        <th id=\"T_52f06_level0_row2\" class=\"row_heading level0 row2\" >MD</th>\n",
       "                        <td id=\"T_52f06_row2_col0\" class=\"data row2 col0\" >0.034094</td>\n",
       "                        <td id=\"T_52f06_row2_col1\" class=\"data row2 col1\" >4.541962</td>\n",
       "            </tr>\n",
       "            <tr>\n",
       "                        <th id=\"T_52f06_level0_row3\" class=\"row_heading level0 row3\" >MS</th>\n",
       "                        <td id=\"T_52f06_row3_col0\" class=\"data row3 col0\" >0.034851</td>\n",
       "                        <td id=\"T_52f06_row3_col1\" class=\"data row3 col1\" >3.398133</td>\n",
       "            </tr>\n",
       "            <tr>\n",
       "                        <th id=\"T_52f06_level0_row4\" class=\"row_heading level0 row4\" >PF</th>\n",
       "                        <td id=\"T_52f06_row4_col0\" class=\"data row4 col0\" >0.044016</td>\n",
       "                        <td id=\"T_52f06_row4_col1\" class=\"data row4 col1\" >2.394075</td>\n",
       "            </tr>\n",
       "    </tbody></table>"
      ],
      "text/plain": [
       "<pandas.io.formats.style.Styler at 0x7fb57bbae820>"
      ]
     },
     "execution_count": 23,
     "metadata": {},
     "output_type": "execute_result"
    }
   ],
   "source": [
    "# std\n",
    "df.groupby('phase').std().style.highlight_min(color = 'lightgreen', axis = 0)"
   ]
  },
  {
   "cell_type": "code",
   "execution_count": 24,
   "id": "144d4302",
   "metadata": {},
   "outputs": [
    {
     "data": {
      "text/plain": [
       "[2]"
      ]
     },
     "execution_count": 24,
     "metadata": {},
     "output_type": "execute_result"
    }
   ],
   "source": [
    "elem = [1,2,3]\n",
    "elem[-2:-1]"
   ]
  },
  {
   "cell_type": "code",
   "execution_count": null,
   "id": "dc0f3d65",
   "metadata": {},
   "outputs": [],
   "source": []
  }
 ],
 "metadata": {
  "kernelspec": {
   "display_name": "dcmr",
   "language": "python",
   "name": "dcmr"
  },
  "language_info": {
   "codemirror_mode": {
    "name": "ipython",
    "version": 3
   },
   "file_extension": ".py",
   "mimetype": "text/x-python",
   "name": "python",
   "nbconvert_exporter": "python",
   "pygments_lexer": "ipython3",
   "version": "3.8.5"
  },
  "widgets": {
   "application/vnd.jupyter.widget-state+json": {
    "state": {
     "010fa2a3d1b04a1bad44a91a9859e1b4": {
      "model_module": "@jupyter-widgets/controls",
      "model_module_version": "1.5.0",
      "model_name": "HTMLModel",
      "state": {
       "layout": "IPY_MODEL_45b97a92b68847c2802c1e2b0a78a2c8",
       "placeholder": "",
       "style": "IPY_MODEL_aa2ebb832c75467f90ef4678345ac1be",
       "value": "<span style=\"margin-left:10px; color:green;\">/mnt/sds/sven/code/dynamic-cmr-models/exp/temp/phase2phase/v3/64_128_128/window1/reg0_001/dmd/NOmask_bugfix_f0/2021-10-01_19_20/</span>"
      }
     },
     "0130bf2660654e738c48492b3adaabfc": {
      "model_module": "@jupyter-widgets/base",
      "model_module_version": "1.2.0",
      "model_name": "LayoutModel",
      "state": {
       "display": "none"
      }
     },
     "01e0c14694ed4b8296b929834d80e2fd": {
      "model_module": "@jupyter-widgets/controls",
      "model_module_version": "1.5.0",
      "model_name": "SelectModel",
      "state": {
       "_options_labels": [
        "..",
        "config",
        "history",
        "model",
        "tensorboard_logs",
        "Log_errors.log",
        "model.png",
        "model_summary.txt",
        "results.csv"
       ],
       "index": null,
       "layout": "IPY_MODEL_0962ed3d92ed496d8c3cdca73eb20653",
       "rows": 8,
       "style": "IPY_MODEL_928aa3d1513e4ccaa6459b0449139edb"
      }
     },
     "053f5bfb4194426490ba2e26308f9d46": {
      "model_module": "@jupyter-widgets/base",
      "model_module_version": "1.2.0",
      "model_name": "LayoutModel",
      "state": {}
     },
     "05c4870a88f8495ebb40f471f9729222": {
      "model_module": "@jupyter-widgets/controls",
      "model_module_version": "1.5.0",
      "model_name": "DescriptionStyleModel",
      "state": {
       "description_width": ""
      }
     },
     "07a0640dd4a042cb9689da90898bb328": {
      "model_module": "@jupyter-widgets/base",
      "model_module_version": "1.2.0",
      "model_name": "LayoutModel",
      "state": {
       "grid_area": "filename",
       "width": "auto"
      }
     },
     "0962ed3d92ed496d8c3cdca73eb20653": {
      "model_module": "@jupyter-widgets/base",
      "model_module_version": "1.2.0",
      "model_name": "LayoutModel",
      "state": {
       "grid_area": "dircontent",
       "width": "auto"
      }
     },
     "099b947979fa4922af5d07ed9f4398db": {
      "model_module": "@jupyter-widgets/base",
      "model_module_version": "1.2.0",
      "model_name": "LayoutModel",
      "state": {}
     },
     "0b92389961e8416e8bab000a31aa7224": {
      "model_module": "@jupyter-widgets/base",
      "model_module_version": "1.2.0",
      "model_name": "LayoutModel",
      "state": {
       "display": "none"
      }
     },
     "0d3f3fce022c4cfb84b6ccde083359ab": {
      "model_module": "@jupyter-widgets/controls",
      "model_module_version": "1.5.0",
      "model_name": "VBoxModel",
      "state": {
       "_dom_classes": [
        "widget-interact"
       ],
       "children": [
        "IPY_MODEL_75507542b06346d8a8e94e722ed16f17",
        "IPY_MODEL_2d94abc01e9f400caf93fdfb80e616d8"
       ],
       "layout": "IPY_MODEL_1bdadbf48a6e40608c49a1a35c0bbcf8"
      }
     },
     "0ea4fd78e77741a59b65b1fcb9282414": {
      "model_module": "@jupyter-widgets/base",
      "model_module_version": "1.2.0",
      "model_name": "LayoutModel",
      "state": {
       "width": "auto"
      }
     },
     "0f37ce8073244f4cb74d5be829bad890": {
      "model_module": "@jupyter-widgets/controls",
      "model_module_version": "1.5.0",
      "model_name": "GridBoxModel",
      "state": {
       "children": [
        "IPY_MODEL_ffec9af6b08047d6bdb614f955544388",
        "IPY_MODEL_9a03f3c03a834d1f9feb4437848380a9",
        "IPY_MODEL_13aaa6b055e4419782800a489e21c73f"
       ],
       "layout": "IPY_MODEL_8077584d579e4207ad26f7199e3a0b3a"
      }
     },
     "0f6474892f894c9992b8436f2a520586": {
      "model_module": "@jupyter-widgets/controls",
      "model_module_version": "1.5.0",
      "model_name": "DescriptionStyleModel",
      "state": {
       "description_width": ""
      }
     },
     "0fad0d9350ec4befbee4583fdd76f044": {
      "model_module": "@jupyter-widgets/controls",
      "model_module_version": "1.5.0",
      "model_name": "DescriptionStyleModel",
      "state": {
       "description_width": ""
      }
     },
     "0fafaff0d2e44409a33805663fd767bf": {
      "model_module": "@jupyter-widgets/base",
      "model_module_version": "1.2.0",
      "model_name": "LayoutModel",
      "state": {
       "display": "none",
       "grid_gap": "0px 0px",
       "grid_template_areas": "\n                    'pathlist filename'\n                    'dircontent dircontent'\n                    ",
       "grid_template_columns": "60% 40%",
       "grid_template_rows": "auto auto",
       "width": "500px"
      }
     },
     "0fe2b6a5d8834981bc1c3c36836c8c69": {
      "model_module": "@jupyter-widgets/controls",
      "model_module_version": "1.5.0",
      "model_name": "TextModel",
      "state": {
       "layout": "IPY_MODEL_7a24668050504623aa3317bbfef878a7",
       "placeholder": "output filename",
       "style": "IPY_MODEL_a5233edcc0bc4804bdddf9ca74197bd6"
      }
     },
     "12a316117f3a4a6db9f91789b6be57b0": {
      "model_module": "@jupyter-widgets/controls",
      "model_module_version": "1.5.0",
      "model_name": "DescriptionStyleModel",
      "state": {
       "description_width": ""
      }
     },
     "131466be43ce427ab318184670d6ac77": {
      "model_module": "@jupyter-widgets/controls",
      "model_module_version": "1.5.0",
      "model_name": "DropdownModel",
      "state": {
       "_options_labels": [
        "/mnt/sds/sven/code/dynamic-cmr-models/exp/temp/phase2phase/v3/64_128_128/window1/reg0_001/dmd/NOmask_bugfix_f0/2021-10-01_19_20",
        "/mnt/sds/sven/code/dynamic-cmr-models/exp/temp/phase2phase/v3/64_128_128/window1/reg0_001/dmd/NOmask_bugfix_f0",
        "/mnt/sds/sven/code/dynamic-cmr-models/exp/temp/phase2phase/v3/64_128_128/window1/reg0_001/dmd",
        "/mnt/sds/sven/code/dynamic-cmr-models/exp/temp/phase2phase/v3/64_128_128/window1/reg0_001",
        "/mnt/sds/sven/code/dynamic-cmr-models/exp/temp/phase2phase/v3/64_128_128/window1",
        "/mnt/sds/sven/code/dynamic-cmr-models/exp/temp/phase2phase/v3/64_128_128",
        "/mnt/sds/sven/code/dynamic-cmr-models/exp/temp/phase2phase/v3",
        "/mnt/sds/sven/code/dynamic-cmr-models/exp/temp/phase2phase",
        "/mnt/sds/sven/code/dynamic-cmr-models/exp/temp",
        "/mnt/sds/sven/code/dynamic-cmr-models/exp",
        "/mnt/sds/sven/code/dynamic-cmr-models",
        "/mnt/sds/sven/code",
        "/mnt/sds/sven",
        "/mnt/sds",
        "/mnt",
        "/"
       ],
       "index": 0,
       "layout": "IPY_MODEL_cede43acabbd4f948794643f6e431c68",
       "style": "IPY_MODEL_b618001a1cd64f0e9de6212fa66ad13b"
      }
     },
     "135550f209c2484aa2b926164610d448": {
      "model_module": "@jupyter-widgets/base",
      "model_module_version": "1.2.0",
      "model_name": "LayoutModel",
      "state": {
       "width": "auto"
      }
     },
     "1363a70e6a04418593f277591d399f14": {
      "model_module": "@jupyter-widgets/base",
      "model_module_version": "1.2.0",
      "model_name": "LayoutModel",
      "state": {
       "display": "none",
       "width": "auto"
      }
     },
     "13aaa6b055e4419782800a489e21c73f": {
      "model_module": "@jupyter-widgets/controls",
      "model_module_version": "1.5.0",
      "model_name": "SelectModel",
      "state": {
       "_options_labels": [
        "..",
        "config",
        "history",
        "model",
        "tensorboard_logs",
        "Log_errors.log",
        "model.png",
        "model_summary.txt",
        "results.csv"
       ],
       "index": null,
       "layout": "IPY_MODEL_1849de4b08b94315b4c4f5ff3aff3f32",
       "rows": 8,
       "style": "IPY_MODEL_cbb34ec752174eb4a3978110cf85ef59"
      }
     },
     "1499de0d64d34f58b28c93340343dee8": {
      "model_module": "@jupyter-widgets/base",
      "model_module_version": "1.2.0",
      "model_name": "LayoutModel",
      "state": {
       "width": "auto"
      }
     },
     "14ee678ec88d4726b4c0cfe4fb912cc3": {
      "model_module": "@jupyter-widgets/controls",
      "model_module_version": "1.5.0",
      "model_name": "DescriptionStyleModel",
      "state": {
       "description_width": ""
      }
     },
     "159d15b267cf4bedaf69a9ef04874862": {
      "model_module": "@jupyter-widgets/controls",
      "model_module_version": "1.5.0",
      "model_name": "HBoxModel",
      "state": {
       "children": [
        "IPY_MODEL_6f25e65f0cfb412fb7728265b3297b4b",
        "IPY_MODEL_50162ee115c24bfbb3405b40661bd1a3",
        "IPY_MODEL_010fa2a3d1b04a1bad44a91a9859e1b4"
       ],
       "layout": "IPY_MODEL_9b4e69c5ce2a4f2e9575e403900cb3ed"
      }
     },
     "17ac1f88861d47a49686a84f4743ae15": {
      "model_module": "@jupyter-widgets/controls",
      "model_module_version": "1.5.0",
      "model_name": "ButtonStyleModel",
      "state": {}
     },
     "1849de4b08b94315b4c4f5ff3aff3f32": {
      "model_module": "@jupyter-widgets/base",
      "model_module_version": "1.2.0",
      "model_name": "LayoutModel",
      "state": {
       "grid_area": "dircontent",
       "width": "auto"
      }
     },
     "199ad041483340b59418b885333a1f49": {
      "model_module": "@jupyter-widgets/controls",
      "model_module_version": "1.5.0",
      "model_name": "HTMLModel",
      "state": {
       "layout": "IPY_MODEL_b955dcc8b580495a97c29a7317e6bfb3",
       "style": "IPY_MODEL_36ac206069d44228b8f9de03cb48ebed"
      }
     },
     "1bdadbf48a6e40608c49a1a35c0bbcf8": {
      "model_module": "@jupyter-widgets/base",
      "model_module_version": "1.2.0",
      "model_name": "LayoutModel",
      "state": {}
     },
     "1c5d2e0e7bb2428ea576c4c54c28cccd": {
      "model_module": "@jupyter-widgets/base",
      "model_module_version": "1.2.0",
      "model_name": "LayoutModel",
      "state": {
       "width": "auto"
      }
     },
     "1efed2e499bf41a78660e6f17d4060f9": {
      "model_module": "@jupyter-widgets/controls",
      "model_module_version": "1.5.0",
      "model_name": "VBoxModel",
      "state": {
       "_dom_classes": [
        "widget-interact"
       ],
       "children": [
        "IPY_MODEL_5b83377644af44648f4e676e070ddd66",
        "IPY_MODEL_689bb58458a04248b4df3ca9b6849a1b"
       ],
       "layout": "IPY_MODEL_3509917b2ee54042ac911ab10b960784"
      }
     },
     "1f01fd5679a1442491afd2faebe26603": {
      "model_module": "@jupyter-widgets/controls",
      "model_module_version": "1.5.0",
      "model_name": "ButtonStyleModel",
      "state": {}
     },
     "1ff77bf39f5b4eaba5f033df9a70d199": {
      "model_module": "@jupyter-widgets/controls",
      "model_module_version": "1.5.0",
      "model_name": "GridBoxModel",
      "state": {
       "children": [
        "IPY_MODEL_131466be43ce427ab318184670d6ac77",
        "IPY_MODEL_be13557abd714aee8607bd9368f640f5",
        "IPY_MODEL_d5e2d032a11f4ccc955ab1ed7df81de4"
       ],
       "layout": "IPY_MODEL_db710a7c5c714e9788d3b071a8e027bd"
      }
     },
     "220cc696ec77472b843eb40d1b6c16be": {
      "model_module": "@jupyter-widgets/base",
      "model_module_version": "1.2.0",
      "model_name": "LayoutModel",
      "state": {
       "display": "none",
       "grid_gap": "0px 0px",
       "grid_template_areas": "\n                    'pathlist filename'\n                    'dircontent dircontent'\n                    ",
       "grid_template_columns": "60% 40%",
       "grid_template_rows": "auto auto",
       "width": "500px"
      }
     },
     "2252fe4b6ff641768e4cdf19b548a846": {
      "model_module": "@jupyter-widgets/base",
      "model_module_version": "1.2.0",
      "model_name": "LayoutModel",
      "state": {
       "width": "auto"
      }
     },
     "24007a30a9844531849e6b3c54f638a1": {
      "model_module": "@jupyter-widgets/controls",
      "model_module_version": "1.5.0",
      "model_name": "ButtonStyleModel",
      "state": {}
     },
     "2486da62fd044da79af9311183339bfa": {
      "model_module": "@jupyter-widgets/controls",
      "model_module_version": "1.5.0",
      "model_name": "GridBoxModel",
      "state": {
       "children": [
        "IPY_MODEL_5d4da059485f415ba997200a9dfc9981",
        "IPY_MODEL_9fb4811486954064b6c0768028188042",
        "IPY_MODEL_bfa91b18ad97463d941541f8ee53b271"
       ],
       "layout": "IPY_MODEL_56b72a2bda54498c8c3f0bcb9e447f54"
      }
     },
     "256de302987e4e4890e0671c8ab96cac": {
      "model_module": "@jupyter-widgets/controls",
      "model_module_version": "1.5.0",
      "model_name": "ButtonModel",
      "state": {
       "description": "Cancel",
       "layout": "IPY_MODEL_b4daa491ccc74ed29d62392821d48242",
       "style": "IPY_MODEL_8232e95bf48f46e08feda1cba71756dd"
      }
     },
     "25a9b74162cd46a5bf24dcc1842f9ca5": {
      "model_module": "@jupyter-widgets/controls",
      "model_module_version": "1.5.0",
      "model_name": "VBoxModel",
      "state": {
       "children": [
        "IPY_MODEL_199ad041483340b59418b885333a1f49",
        "IPY_MODEL_2f405a133c4244c9a9dce3bcad79cf88",
        "IPY_MODEL_ac0fd4d733ab4fb68b85d9b9702ba5a4"
       ],
       "layout": "IPY_MODEL_c51b0b26ba9f48afbe821a740ae75a75"
      }
     },
     "26bf2223d2254256b72cfff107c33ba3": {
      "model_module": "@jupyter-widgets/controls",
      "model_module_version": "1.5.0",
      "model_name": "CheckboxModel",
      "state": {
       "description": "run",
       "disabled": false,
       "layout": "IPY_MODEL_9cc229da1f274b34a39c194cb033d673",
       "style": "IPY_MODEL_aef03200cb4c470884a8d56556ff74db",
       "value": true
      }
     },
     "27c664cf5d184fcea0622481f9a055ca": {
      "model_module": "@jupyter-widgets/controls",
      "model_module_version": "1.5.0",
      "model_name": "HTMLModel",
      "state": {
       "layout": "IPY_MODEL_0b92389961e8416e8bab000a31aa7224",
       "style": "IPY_MODEL_7fd86601577b40fc97bcb91726f29559"
      }
     },
     "28ae01f446734f32a4215c04ff538833": {
      "model_module": "@jupyter-widgets/controls",
      "model_module_version": "1.5.0",
      "model_name": "VBoxModel",
      "state": {
       "children": [
        "IPY_MODEL_27c664cf5d184fcea0622481f9a055ca",
        "IPY_MODEL_a5a7e06650544191ae4d9d0f356ffd8a",
        "IPY_MODEL_92b12dbeba5d4049b232b40bd42595c9"
       ],
       "layout": "IPY_MODEL_0ea4fd78e77741a59b65b1fcb9282414"
      }
     },
     "2ae36af67a4543d1ab673547a8cbbda1": {
      "model_module": "@jupyter-widgets/controls",
      "model_module_version": "1.5.0",
      "model_name": "ButtonModel",
      "state": {
       "description": "Cancel",
       "layout": "IPY_MODEL_e792e82a9b694beea82981c125b9dcec",
       "style": "IPY_MODEL_9112958bc80246fd827d033c5e4c782e"
      }
     },
     "2b268cbcbed845bf8bef2651949fa310": {
      "model_module": "@jupyter-widgets/controls",
      "model_module_version": "1.5.0",
      "model_name": "HBoxModel",
      "state": {
       "children": [
        "IPY_MODEL_ff2001756d1b4c17a7c20ad0fbd200ae",
        "IPY_MODEL_d0b7969699594d86ad29c03586c39365",
        "IPY_MODEL_825926f330374cbaabe701d4352e0943"
       ],
       "layout": "IPY_MODEL_6c682e3625914f8b972794842979b3c0"
      }
     },
     "2b740203e7424d6f97571864140f68a9": {
      "model_module": "@jupyter-widgets/base",
      "model_module_version": "1.2.0",
      "model_name": "LayoutModel",
      "state": {}
     },
     "2d94abc01e9f400caf93fdfb80e616d8": {
      "model_module": "@jupyter-widgets/output",
      "model_module_version": "1.0.0",
      "model_name": "OutputModel",
      "state": {
       "layout": "IPY_MODEL_9a58e4cb471442a1a029ac57ea1729c6",
       "outputs": [
        {
         "ename": "ValueError",
         "evalue": "min() arg is an empty sequence",
         "output_type": "error",
         "traceback": [
          "\u001b[0;31m-------------------------------------------------------------------------\u001b[0m",
          "\u001b[0;31mValueError\u001b[0m                              Traceback (most recent call last)",
          "\u001b[0;32m~/anaconda3/envs/dcmr/lib/python3.8/site-packages/ipywidgets/widgets/interaction.py\u001b[0m in \u001b[0;36mupdate\u001b[0;34m(self, *args)\u001b[0m\n\u001b[1;32m    254\u001b[0m                     \u001b[0mvalue\u001b[0m \u001b[0;34m=\u001b[0m \u001b[0mwidget\u001b[0m\u001b[0;34m.\u001b[0m\u001b[0mget_interact_value\u001b[0m\u001b[0;34m(\u001b[0m\u001b[0;34m)\u001b[0m\u001b[0;34m\u001b[0m\u001b[0;34m\u001b[0m\u001b[0m\n\u001b[1;32m    255\u001b[0m                     \u001b[0mself\u001b[0m\u001b[0;34m.\u001b[0m\u001b[0mkwargs\u001b[0m\u001b[0;34m[\u001b[0m\u001b[0mwidget\u001b[0m\u001b[0;34m.\u001b[0m\u001b[0m_kwarg\u001b[0m\u001b[0;34m]\u001b[0m \u001b[0;34m=\u001b[0m \u001b[0mvalue\u001b[0m\u001b[0;34m\u001b[0m\u001b[0;34m\u001b[0m\u001b[0m\n\u001b[0;32m--> 256\u001b[0;31m                 \u001b[0mself\u001b[0m\u001b[0;34m.\u001b[0m\u001b[0mresult\u001b[0m \u001b[0;34m=\u001b[0m \u001b[0mself\u001b[0m\u001b[0;34m.\u001b[0m\u001b[0mf\u001b[0m\u001b[0;34m(\u001b[0m\u001b[0;34m**\u001b[0m\u001b[0mself\u001b[0m\u001b[0;34m.\u001b[0m\u001b[0mkwargs\u001b[0m\u001b[0;34m)\u001b[0m\u001b[0;34m\u001b[0m\u001b[0;34m\u001b[0m\u001b[0m\n\u001b[0m\u001b[1;32m    257\u001b[0m                 \u001b[0mshow_inline_matplotlib_plots\u001b[0m\u001b[0;34m(\u001b[0m\u001b[0;34m)\u001b[0m\u001b[0;34m\u001b[0m\u001b[0;34m\u001b[0m\u001b[0m\n\u001b[1;32m    258\u001b[0m                 \u001b[0;32mif\u001b[0m \u001b[0mself\u001b[0m\u001b[0;34m.\u001b[0m\u001b[0mauto_display\u001b[0m \u001b[0;32mand\u001b[0m \u001b[0mself\u001b[0m\u001b[0;34m.\u001b[0m\u001b[0mresult\u001b[0m \u001b[0;32mis\u001b[0m \u001b[0;32mnot\u001b[0m \u001b[0;32mNone\u001b[0m\u001b[0;34m:\u001b[0m\u001b[0;34m\u001b[0m\u001b[0;34m\u001b[0m\u001b[0m\n",
          "\u001b[0;32m<ipython-input-30-a4805cd3c2de>\u001b[0m in \u001b[0;36mcalc_scores\u001b[0;34m(run)\u001b[0m\n\u001b[1;32m     12\u001b[0m         \u001b[0mpred_path\u001b[0m \u001b[0;34m=\u001b[0m \u001b[0mos\u001b[0m\u001b[0;34m.\u001b[0m\u001b[0mpath\u001b[0m\u001b[0;34m.\u001b[0m\u001b[0mjoin\u001b[0m\u001b[0;34m(\u001b[0m\u001b[0mexp_path\u001b[0m\u001b[0;34m,\u001b[0m \u001b[0;34m'pred_m'\u001b[0m\u001b[0;34m)\u001b[0m\u001b[0;34m\u001b[0m\u001b[0;34m\u001b[0m\u001b[0m\n\u001b[1;32m     13\u001b[0m         \u001b[0mexport_path\u001b[0m \u001b[0;34m=\u001b[0m \u001b[0mexp_path\u001b[0m\u001b[0;34m\u001b[0m\u001b[0;34m\u001b[0m\u001b[0m\n\u001b[0;32m---> 14\u001b[0;31m         \u001b[0mcalc_dice\u001b[0m\u001b[0;34m(\u001b[0m\u001b[0mgt_path\u001b[0m\u001b[0;34m,\u001b[0m \u001b[0mpred_path\u001b[0m\u001b[0;34m,\u001b[0m \u001b[0mexp_path\u001b[0m\u001b[0;34m)\u001b[0m\u001b[0;34m\u001b[0m\u001b[0;34m\u001b[0m\u001b[0m\n\u001b[0m",
          "\u001b[0;32m/mnt/ssd/git/dynamic-cmr-models/src/models/Evaluate_moved_myo.py\u001b[0m in \u001b[0;36mcalc_dice\u001b[0;34m(gt_path, pred_path, export_path)\u001b[0m\n\u001b[1;32m     27\u001b[0m             zipped_files))\n\u001b[1;32m     28\u001b[0m     \u001b[0mresults_df\u001b[0m\u001b[0;34m.\u001b[0m\u001b[0mto_csv\u001b[0m\u001b[0;34m(\u001b[0m\u001b[0mresults_file\u001b[0m\u001b[0;34m,\u001b[0m \u001b[0mindex\u001b[0m\u001b[0;34m=\u001b[0m\u001b[0;32mFalse\u001b[0m\u001b[0;34m)\u001b[0m\u001b[0;34m\u001b[0m\u001b[0;34m\u001b[0m\u001b[0m\n\u001b[0;32m---> 29\u001b[0;31m     \u001b[0mg\u001b[0m \u001b[0;34m=\u001b[0m \u001b[0msns\u001b[0m\u001b[0;34m.\u001b[0m\u001b[0mviolinplot\u001b[0m\u001b[0;34m(\u001b[0m\u001b[0mx\u001b[0m\u001b[0;34m=\u001b[0m\u001b[0;34m'phase'\u001b[0m\u001b[0;34m,\u001b[0m \u001b[0my\u001b[0m\u001b[0;34m=\u001b[0m\u001b[0;34m'dice'\u001b[0m\u001b[0;34m,\u001b[0m \u001b[0mdata\u001b[0m\u001b[0;34m=\u001b[0m\u001b[0mresults_df\u001b[0m\u001b[0;34m[\u001b[0m\u001b[0;34m[\u001b[0m\u001b[0;34m'patient'\u001b[0m\u001b[0;34m,\u001b[0m \u001b[0;34m'phase'\u001b[0m\u001b[0;34m,\u001b[0m \u001b[0;34m'dice'\u001b[0m\u001b[0;34m]\u001b[0m\u001b[0;34m]\u001b[0m\u001b[0;34m)\u001b[0m\u001b[0;34m\u001b[0m\u001b[0;34m\u001b[0m\u001b[0m\n\u001b[0m\u001b[1;32m     30\u001b[0m     \u001b[0mg\u001b[0m\u001b[0;34m.\u001b[0m\u001b[0mset\u001b[0m\u001b[0;34m(\u001b[0m\u001b[0mylim\u001b[0m\u001b[0;34m=\u001b[0m\u001b[0;34m(\u001b[0m\u001b[0;36m0\u001b[0m\u001b[0;34m,\u001b[0m\u001b[0;36m1\u001b[0m\u001b[0;34m)\u001b[0m\u001b[0;34m)\u001b[0m\u001b[0;34m\u001b[0m\u001b[0;34m\u001b[0m\u001b[0m\n\u001b[1;32m     31\u001b[0m     \u001b[0mplt\u001b[0m\u001b[0;34m.\u001b[0m\u001b[0msavefig\u001b[0m\u001b[0;34m(\u001b[0m\u001b[0mexp_path\u001b[0m \u001b[0;34m+\u001b[0m \u001b[0;34m'/dice.png'\u001b[0m\u001b[0;34m)\u001b[0m\u001b[0;34m\u001b[0m\u001b[0;34m\u001b[0m\u001b[0m\n",
          "\u001b[0;32m~/anaconda3/envs/dcmr/lib/python3.8/site-packages/seaborn/_decorators.py\u001b[0m in \u001b[0;36minner_f\u001b[0;34m(*args, **kwargs)\u001b[0m\n\u001b[1;32m     44\u001b[0m             )\n\u001b[1;32m     45\u001b[0m         \u001b[0mkwargs\u001b[0m\u001b[0;34m.\u001b[0m\u001b[0mupdate\u001b[0m\u001b[0;34m(\u001b[0m\u001b[0;34m{\u001b[0m\u001b[0mk\u001b[0m\u001b[0;34m:\u001b[0m \u001b[0marg\u001b[0m \u001b[0;32mfor\u001b[0m \u001b[0mk\u001b[0m\u001b[0;34m,\u001b[0m \u001b[0marg\u001b[0m \u001b[0;32min\u001b[0m \u001b[0mzip\u001b[0m\u001b[0;34m(\u001b[0m\u001b[0msig\u001b[0m\u001b[0;34m.\u001b[0m\u001b[0mparameters\u001b[0m\u001b[0;34m,\u001b[0m \u001b[0margs\u001b[0m\u001b[0;34m)\u001b[0m\u001b[0;34m}\u001b[0m\u001b[0;34m)\u001b[0m\u001b[0;34m\u001b[0m\u001b[0;34m\u001b[0m\u001b[0m\n\u001b[0;32m---> 46\u001b[0;31m         \u001b[0;32mreturn\u001b[0m \u001b[0mf\u001b[0m\u001b[0;34m(\u001b[0m\u001b[0;34m**\u001b[0m\u001b[0mkwargs\u001b[0m\u001b[0;34m)\u001b[0m\u001b[0;34m\u001b[0m\u001b[0;34m\u001b[0m\u001b[0m\n\u001b[0m\u001b[1;32m     47\u001b[0m     \u001b[0;32mreturn\u001b[0m \u001b[0minner_f\u001b[0m\u001b[0;34m\u001b[0m\u001b[0;34m\u001b[0m\u001b[0m\n\u001b[1;32m     48\u001b[0m \u001b[0;34m\u001b[0m\u001b[0m\n",
          "\u001b[0;32m~/anaconda3/envs/dcmr/lib/python3.8/site-packages/seaborn/categorical.py\u001b[0m in \u001b[0;36mviolinplot\u001b[0;34m(x, y, hue, data, order, hue_order, bw, cut, scale, scale_hue, gridsize, width, inner, split, dodge, orient, linewidth, color, palette, saturation, ax, **kwargs)\u001b[0m\n\u001b[1;32m   2395\u001b[0m ):\n\u001b[1;32m   2396\u001b[0m \u001b[0;34m\u001b[0m\u001b[0m\n\u001b[0;32m-> 2397\u001b[0;31m     plotter = _ViolinPlotter(x, y, hue, data, order, hue_order,\n\u001b[0m\u001b[1;32m   2398\u001b[0m                              \u001b[0mbw\u001b[0m\u001b[0;34m,\u001b[0m \u001b[0mcut\u001b[0m\u001b[0;34m,\u001b[0m \u001b[0mscale\u001b[0m\u001b[0;34m,\u001b[0m \u001b[0mscale_hue\u001b[0m\u001b[0;34m,\u001b[0m \u001b[0mgridsize\u001b[0m\u001b[0;34m,\u001b[0m\u001b[0;34m\u001b[0m\u001b[0;34m\u001b[0m\u001b[0m\n\u001b[1;32m   2399\u001b[0m                              \u001b[0mwidth\u001b[0m\u001b[0;34m,\u001b[0m \u001b[0minner\u001b[0m\u001b[0;34m,\u001b[0m \u001b[0msplit\u001b[0m\u001b[0;34m,\u001b[0m \u001b[0mdodge\u001b[0m\u001b[0;34m,\u001b[0m \u001b[0morient\u001b[0m\u001b[0;34m,\u001b[0m \u001b[0mlinewidth\u001b[0m\u001b[0;34m,\u001b[0m\u001b[0;34m\u001b[0m\u001b[0;34m\u001b[0m\u001b[0m\n",
          "\u001b[0;32m~/anaconda3/envs/dcmr/lib/python3.8/site-packages/seaborn/categorical.py\u001b[0m in \u001b[0;36m__init__\u001b[0;34m(self, x, y, hue, data, order, hue_order, bw, cut, scale, scale_hue, gridsize, width, inner, split, dodge, orient, linewidth, color, palette, saturation)\u001b[0m\n\u001b[1;32m    521\u001b[0m \u001b[0;34m\u001b[0m\u001b[0m\n\u001b[1;32m    522\u001b[0m         \u001b[0mself\u001b[0m\u001b[0;34m.\u001b[0m\u001b[0mestablish_variables\u001b[0m\u001b[0;34m(\u001b[0m\u001b[0mx\u001b[0m\u001b[0;34m,\u001b[0m \u001b[0my\u001b[0m\u001b[0;34m,\u001b[0m \u001b[0mhue\u001b[0m\u001b[0;34m,\u001b[0m \u001b[0mdata\u001b[0m\u001b[0;34m,\u001b[0m \u001b[0morient\u001b[0m\u001b[0;34m,\u001b[0m \u001b[0morder\u001b[0m\u001b[0;34m,\u001b[0m \u001b[0mhue_order\u001b[0m\u001b[0;34m)\u001b[0m\u001b[0;34m\u001b[0m\u001b[0;34m\u001b[0m\u001b[0m\n\u001b[0;32m--> 523\u001b[0;31m         \u001b[0mself\u001b[0m\u001b[0;34m.\u001b[0m\u001b[0mestablish_colors\u001b[0m\u001b[0;34m(\u001b[0m\u001b[0mcolor\u001b[0m\u001b[0;34m,\u001b[0m \u001b[0mpalette\u001b[0m\u001b[0;34m,\u001b[0m \u001b[0msaturation\u001b[0m\u001b[0;34m)\u001b[0m\u001b[0;34m\u001b[0m\u001b[0;34m\u001b[0m\u001b[0m\n\u001b[0m\u001b[1;32m    524\u001b[0m         \u001b[0mself\u001b[0m\u001b[0;34m.\u001b[0m\u001b[0mestimate_densities\u001b[0m\u001b[0;34m(\u001b[0m\u001b[0mbw\u001b[0m\u001b[0;34m,\u001b[0m \u001b[0mcut\u001b[0m\u001b[0;34m,\u001b[0m \u001b[0mscale\u001b[0m\u001b[0;34m,\u001b[0m \u001b[0mscale_hue\u001b[0m\u001b[0;34m,\u001b[0m \u001b[0mgridsize\u001b[0m\u001b[0;34m)\u001b[0m\u001b[0;34m\u001b[0m\u001b[0;34m\u001b[0m\u001b[0m\n\u001b[1;32m    525\u001b[0m \u001b[0;34m\u001b[0m\u001b[0m\n",
          "\u001b[0;32m~/anaconda3/envs/dcmr/lib/python3.8/site-packages/seaborn/categorical.py\u001b[0m in \u001b[0;36mestablish_colors\u001b[0;34m(self, color, palette, saturation)\u001b[0m\n\u001b[1;32m    317\u001b[0m         \u001b[0;31m# Determine the gray color to use for the lines framing the plot\u001b[0m\u001b[0;34m\u001b[0m\u001b[0;34m\u001b[0m\u001b[0;34m\u001b[0m\u001b[0m\n\u001b[1;32m    318\u001b[0m         \u001b[0mlight_vals\u001b[0m \u001b[0;34m=\u001b[0m \u001b[0;34m[\u001b[0m\u001b[0mcolorsys\u001b[0m\u001b[0;34m.\u001b[0m\u001b[0mrgb_to_hls\u001b[0m\u001b[0;34m(\u001b[0m\u001b[0;34m*\u001b[0m\u001b[0mc\u001b[0m\u001b[0;34m)\u001b[0m\u001b[0;34m[\u001b[0m\u001b[0;36m1\u001b[0m\u001b[0;34m]\u001b[0m \u001b[0;32mfor\u001b[0m \u001b[0mc\u001b[0m \u001b[0;32min\u001b[0m \u001b[0mrgb_colors\u001b[0m\u001b[0;34m]\u001b[0m\u001b[0;34m\u001b[0m\u001b[0;34m\u001b[0m\u001b[0m\n\u001b[0;32m--> 319\u001b[0;31m         \u001b[0mlum\u001b[0m \u001b[0;34m=\u001b[0m \u001b[0mmin\u001b[0m\u001b[0;34m(\u001b[0m\u001b[0mlight_vals\u001b[0m\u001b[0;34m)\u001b[0m \u001b[0;34m*\u001b[0m \u001b[0;36m.6\u001b[0m\u001b[0;34m\u001b[0m\u001b[0;34m\u001b[0m\u001b[0m\n\u001b[0m\u001b[1;32m    320\u001b[0m         \u001b[0mgray\u001b[0m \u001b[0;34m=\u001b[0m \u001b[0mmpl\u001b[0m\u001b[0;34m.\u001b[0m\u001b[0mcolors\u001b[0m\u001b[0;34m.\u001b[0m\u001b[0mrgb2hex\u001b[0m\u001b[0;34m(\u001b[0m\u001b[0;34m(\u001b[0m\u001b[0mlum\u001b[0m\u001b[0;34m,\u001b[0m \u001b[0mlum\u001b[0m\u001b[0;34m,\u001b[0m \u001b[0mlum\u001b[0m\u001b[0;34m)\u001b[0m\u001b[0;34m)\u001b[0m\u001b[0;34m\u001b[0m\u001b[0;34m\u001b[0m\u001b[0m\n\u001b[1;32m    321\u001b[0m \u001b[0;34m\u001b[0m\u001b[0m\n",
          "\u001b[0;31mValueError\u001b[0m: min() arg is an empty sequence"
         ]
        }
       ]
      }
     },
     "2e041717332d4c1e80f899ebc3ce2c5b": {
      "model_module": "@jupyter-widgets/base",
      "model_module_version": "1.2.0",
      "model_name": "LayoutModel",
      "state": {}
     },
     "2f405a133c4244c9a9dce3bcad79cf88": {
      "model_module": "@jupyter-widgets/controls",
      "model_module_version": "1.5.0",
      "model_name": "GridBoxModel",
      "state": {
       "children": [
        "IPY_MODEL_b4c2ce75e1fa4602a49971f0b4361d28",
        "IPY_MODEL_0fe2b6a5d8834981bc1c3c36836c8c69",
        "IPY_MODEL_c3a17947fca3464696b8438be5807db4"
       ],
       "layout": "IPY_MODEL_0fafaff0d2e44409a33805663fd767bf"
      }
     },
     "2f71bfb3520f4b5ea37072b9887ae981": {
      "model_module": "@jupyter-widgets/controls",
      "model_module_version": "1.5.0",
      "model_name": "GridBoxModel",
      "state": {
       "children": [
        "IPY_MODEL_3652699cf14e4f698c619b4cc8f2856a",
        "IPY_MODEL_ddd3a9cbc44f45088c86a6f49d82104d",
        "IPY_MODEL_e6490bbf60954b35b25328fedc7fa4f0"
       ],
       "layout": "IPY_MODEL_9aaccb7d999d45b2ae0e351ad8b93ae9"
      }
     },
     "300453c44a694adeb764406be5839af3": {
      "model_module": "@jupyter-widgets/base",
      "model_module_version": "1.2.0",
      "model_name": "LayoutModel",
      "state": {}
     },
     "3107c518a2264d34899dcb619cbaf86b": {
      "model_module": "@jupyter-widgets/controls",
      "model_module_version": "1.5.0",
      "model_name": "VBoxModel",
      "state": {
       "_dom_classes": [
        "widget-interact"
       ],
       "children": [
        "IPY_MODEL_be0fdbc0540d47f5bc52cf6b34b96c22",
        "IPY_MODEL_db2fb068fb9a49e0a5c6fae5f47921d2"
       ],
       "layout": "IPY_MODEL_684199f354e34f2085e46810619cd268"
      }
     },
     "321f9848389e4b8983c2e4891a77071c": {
      "model_module": "@jupyter-widgets/base",
      "model_module_version": "1.2.0",
      "model_name": "LayoutModel",
      "state": {
       "width": "auto"
      }
     },
     "3509917b2ee54042ac911ab10b960784": {
      "model_module": "@jupyter-widgets/base",
      "model_module_version": "1.2.0",
      "model_name": "LayoutModel",
      "state": {}
     },
     "3652699cf14e4f698c619b4cc8f2856a": {
      "model_module": "@jupyter-widgets/controls",
      "model_module_version": "1.5.0",
      "model_name": "DropdownModel",
      "state": {
       "_options_labels": [
        "/mnt/sds/sven/code/dynamic-cmr-models/exp/temp",
        "/mnt/sds/sven/code/dynamic-cmr-models/exp",
        "/mnt/sds/sven/code/dynamic-cmr-models",
        "/mnt/sds/sven/code",
        "/mnt/sds/sven",
        "/mnt/sds",
        "/mnt",
        "/"
       ],
       "index": 0,
       "layout": "IPY_MODEL_d48cee18e0884ebb838dd63914050d92",
       "style": "IPY_MODEL_c1fd73fd4d214353849406dcb97f3ff4"
      }
     },
     "3683886a8844478ca0f5248a462ea894": {
      "model_module": "@jupyter-widgets/base",
      "model_module_version": "1.2.0",
      "model_name": "LayoutModel",
      "state": {
       "display": "none"
      }
     },
     "36ac206069d44228b8f9de03cb48ebed": {
      "model_module": "@jupyter-widgets/controls",
      "model_module_version": "1.5.0",
      "model_name": "DescriptionStyleModel",
      "state": {
       "description_width": ""
      }
     },
     "37d7679f40e5472a845bc2afaf0497f6": {
      "model_module": "@jupyter-widgets/controls",
      "model_module_version": "1.5.0",
      "model_name": "DescriptionStyleModel",
      "state": {
       "description_width": ""
      }
     },
     "3a287e5bc9b34ec1afd365e5c777f2ae": {
      "model_module": "@jupyter-widgets/base",
      "model_module_version": "1.2.0",
      "model_name": "LayoutModel",
      "state": {
       "display": "none"
      }
     },
     "3a9e445f6fc040dbbbe42dad42953dae": {
      "model_module": "@jupyter-widgets/base",
      "model_module_version": "1.2.0",
      "model_name": "LayoutModel",
      "state": {
       "width": "auto"
      }
     },
     "3b241d39157f40fb8abe51db1ad8f7f1": {
      "model_module": "@jupyter-widgets/base",
      "model_module_version": "1.2.0",
      "model_name": "LayoutModel",
      "state": {
       "grid_area": "filename",
       "width": "auto"
      }
     },
     "3b905b53d5204e5eb87d20502af7d4dc": {
      "model_module": "@jupyter-widgets/controls",
      "model_module_version": "1.5.0",
      "model_name": "ButtonStyleModel",
      "state": {}
     },
     "3e09ed9c661a47d2aa95281b30ff2d66": {
      "model_module": "@jupyter-widgets/controls",
      "model_module_version": "1.5.0",
      "model_name": "DescriptionStyleModel",
      "state": {
       "description_width": ""
      }
     },
     "40b7f62da2134a4d8e8705e8cdf3ef95": {
      "model_module": "@jupyter-widgets/base",
      "model_module_version": "1.2.0",
      "model_name": "LayoutModel",
      "state": {
       "grid_area": "pathlist",
       "width": "auto"
      }
     },
     "4429fdbd931e405e9a0f02b497a8db20": {
      "model_module": "@jupyter-widgets/controls",
      "model_module_version": "1.5.0",
      "model_name": "DescriptionStyleModel",
      "state": {
       "description_width": ""
      }
     },
     "45b97a92b68847c2802c1e2b0a78a2c8": {
      "model_module": "@jupyter-widgets/base",
      "model_module_version": "1.2.0",
      "model_name": "LayoutModel",
      "state": {}
     },
     "47be734898de4440bbd8fb4cde40cb55": {
      "model_module": "@jupyter-widgets/base",
      "model_module_version": "1.2.0",
      "model_name": "LayoutModel",
      "state": {}
     },
     "4c9916ca30364ae895b62447312b9da9": {
      "model_module": "@jupyter-widgets/controls",
      "model_module_version": "1.5.0",
      "model_name": "DescriptionStyleModel",
      "state": {
       "description_width": ""
      }
     },
     "4feb45a0361942daac25b92ccc7fb5d4": {
      "model_module": "@jupyter-widgets/base",
      "model_module_version": "1.2.0",
      "model_name": "LayoutModel",
      "state": {
       "width": "auto"
      }
     },
     "50162ee115c24bfbb3405b40661bd1a3": {
      "model_module": "@jupyter-widgets/controls",
      "model_module_version": "1.5.0",
      "model_name": "ButtonModel",
      "state": {
       "description": "Cancel",
       "layout": "IPY_MODEL_60a1cc9628604d8cbf62cc49b08e8ad8",
       "style": "IPY_MODEL_7541ef6c3cf343668b6b5827d5b68557"
      }
     },
     "5156d04719ec4f979112d089a44dd563": {
      "model_module": "@jupyter-widgets/base",
      "model_module_version": "1.2.0",
      "model_name": "LayoutModel",
      "state": {
       "width": "auto"
      }
     },
     "52442332c8fa4a21aeddedbd23c9e502": {
      "model_module": "@jupyter-widgets/controls",
      "model_module_version": "1.5.0",
      "model_name": "HBoxModel",
      "state": {
       "children": [
        "IPY_MODEL_9a68131672fd44f1af9cbe855890323b",
        "IPY_MODEL_db0996f1c3bb41dba57e4233acc002e2",
        "IPY_MODEL_d9c726d5baf34541be717eb08735ab88"
       ],
       "layout": "IPY_MODEL_730bb61f9265491d9569d8e177ea125f"
      }
     },
     "543c904a8cec46b58cbf5a229260be18": {
      "model_module": "@jupyter-widgets/controls",
      "model_module_version": "1.5.0",
      "model_name": "HTMLModel",
      "state": {
       "layout": "IPY_MODEL_300453c44a694adeb764406be5839af3",
       "placeholder": "",
       "style": "IPY_MODEL_bd5609fdba6f4d5abd3026d9d1d8e747",
       "value": "<span style=\"margin-left:10px; color:green;\">/mnt/sds/sven/code/dynamic-cmr-models/exp/temp/phase2phase/v3/64_128_128/window1/reg0_001/dmd/NOmask_bugfix_f0/2021-10-01_19_20/</span>"
      }
     },
     "56477cf710dd4b2380b48aa3192c4645": {
      "model_module": "@jupyter-widgets/base",
      "model_module_version": "1.2.0",
      "model_name": "LayoutModel",
      "state": {}
     },
     "56b72a2bda54498c8c3f0bcb9e447f54": {
      "model_module": "@jupyter-widgets/base",
      "model_module_version": "1.2.0",
      "model_name": "LayoutModel",
      "state": {
       "grid_gap": "0px 0px",
       "grid_template_areas": "\n                    'pathlist filename'\n                    'dircontent dircontent'\n                    ",
       "grid_template_columns": "60% 40%",
       "grid_template_rows": "auto auto",
       "width": "500px"
      }
     },
     "590911485c8445c586c8d39730f35a93": {
      "model_module": "@jupyter-widgets/controls",
      "model_module_version": "1.5.0",
      "model_name": "VBoxModel",
      "state": {
       "_dom_classes": [
        "widget-interact"
       ],
       "children": [
        "IPY_MODEL_c7666168d0c843bfb5dbf380de203f1d",
        "IPY_MODEL_66bbf269e76e48b892822af9eba24a86"
       ],
       "layout": "IPY_MODEL_56477cf710dd4b2380b48aa3192c4645"
      }
     },
     "592f1a64e06643d7a05ce8e5d9ca4ac6": {
      "model_module": "@jupyter-widgets/controls",
      "model_module_version": "1.5.0",
      "model_name": "DescriptionStyleModel",
      "state": {
       "description_width": ""
      }
     },
     "5b83377644af44648f4e676e070ddd66": {
      "model_module": "@jupyter-widgets/controls",
      "model_module_version": "1.5.0",
      "model_name": "CheckboxModel",
      "state": {
       "description": "run",
       "disabled": false,
       "layout": "IPY_MODEL_2b740203e7424d6f97571864140f68a9",
       "style": "IPY_MODEL_0f6474892f894c9992b8436f2a520586",
       "value": false
      }
     },
     "5b86bb50c1c2455b98f8b70c70fa65e2": {
      "model_module": "@jupyter-widgets/base",
      "model_module_version": "1.2.0",
      "model_name": "LayoutModel",
      "state": {}
     },
     "5d4da059485f415ba997200a9dfc9981": {
      "model_module": "@jupyter-widgets/controls",
      "model_module_version": "1.5.0",
      "model_name": "DropdownModel",
      "state": {
       "_options_labels": [
        "/mnt/sds/sven/code/dynamic-cmr-models/exp/phasereg_v3",
        "/mnt/sds/sven/code/dynamic-cmr-models/exp",
        "/mnt/sds/sven/code/dynamic-cmr-models",
        "/mnt/sds/sven/code",
        "/mnt/sds/sven",
        "/mnt/sds",
        "/mnt",
        "/"
       ],
       "index": 0,
       "layout": "IPY_MODEL_dfbc120299e84be49fba2346fba61f2d",
       "style": "IPY_MODEL_05c4870a88f8495ebb40f471f9729222"
      }
     },
     "60a1cc9628604d8cbf62cc49b08e8ad8": {
      "model_module": "@jupyter-widgets/base",
      "model_module_version": "1.2.0",
      "model_name": "LayoutModel",
      "state": {
       "display": "none",
       "width": "auto"
      }
     },
     "639066c2b1024d90b04e215a15123765": {
      "model_module": "@jupyter-widgets/controls",
      "model_module_version": "1.5.0",
      "model_name": "HBoxModel",
      "state": {
       "children": [
        "IPY_MODEL_e6d11eb91cbf4f0992eb07ab9734456b",
        "IPY_MODEL_ff2fd80672ce4d5f8372114654ddb54b",
        "IPY_MODEL_7ef948624e2f497b9b7fc8b27a0ba86e"
       ],
       "layout": "IPY_MODEL_2252fe4b6ff641768e4cdf19b548a846"
      }
     },
     "63e561e605cd452ab363b161fd6a9294": {
      "model_module": "@jupyter-widgets/controls",
      "model_module_version": "1.5.0",
      "model_name": "DescriptionStyleModel",
      "state": {
       "description_width": ""
      }
     },
     "66bbf269e76e48b892822af9eba24a86": {
      "model_module": "@jupyter-widgets/output",
      "model_module_version": "1.0.0",
      "model_name": "OutputModel",
      "state": {
       "layout": "IPY_MODEL_b677bd066fcc4862beb23d8fcea7caec",
       "msg_id": "6a03443a-29b1-4cdb-af6a-893bde6db94c",
       "outputs": [
        {
         "name": "stderr",
         "output_type": "stream",
         "text": "2021-10-04 09:53:28,187 INFO -------------------- Start --------------------\n2021-10-04 09:53:28,188 INFO Working directory: /mnt/ssd/git/dynamic-cmr-models.\n2021-10-04 09:53:28,188 INFO Log file: ./logs/temp/phase2phase/v3/64_128_128/window1/reg0_001/dmd/NOmask_bugfix_f0.log\n2021-10-04 09:53:28,188 INFO Log level for console: INFO\n2021-10-04 09:53:28,189 INFO Loaded config for experiment: temp/phase2phase/v3/64_128_128/window1/reg0_001/dmd/NOmask_bugfix_f0\n2021-10-04 09:53:28,190 INFO -------------------- Start --------------------\n2021-10-04 09:53:28,190 INFO Working directory: /mnt/ssd/git/dynamic-cmr-models.\n2021-10-04 09:53:28,190 INFO Log file: temp/phase2phase/v3/64_128_128/window1/reg0_001/dmd/NOmask_bugfix_f0_f0/Log.log\n2021-10-04 09:53:28,191 INFO Log level for console: INFO\n2021-10-04 09:53:28,191 INFO no files found, try to load with clean.nrrd/mask.nrrd pattern\n2021-10-04 09:53:28,191 INFO searched in: /mnt/ssd/data/dmd/02_imported_4D_unfiltered/sax\n2021-10-04 09:53:28,195 INFO Found 57 images/masks in /mnt/ssd/data/dmd/02_imported_4D_unfiltered/sax\n2021-10-04 09:53:28,196 INFO Patients train: 42\n2021-10-04 09:53:28,198 INFO Selected 42 of 57 files with 42 of 57 patients for training fold 0\n2021-10-04 09:53:28,199 INFO SAX train CMR: 42, SAX train masks: 42\n2021-10-04 09:53:28,199 INFO SAX val CMR: 15, SAX val masks: 15\n"
        },
        {
         "name": "stdout",
         "output_type": "stream",
         "text": "config given: /mnt/sds/sven/code/dynamic-cmr-models/exp/temp/phase2phase/v3/64_128_128/window1/reg0_001/dmd/NOmask_bugfix_f0/2021-10-01_19_20/config/config.json\n['/gpu:0', '/gpu:1']\n(None, 64, 128, 128, 3)\n(None, 64, 128, 128, 3)\n"
        },
        {
         "name": "stderr",
         "output_type": "stream",
         "text": "2021-10-04 09:53:30,175 INFO loaded model weights as h5 file\n2021-10-04 09:53:30,286 INFO Create DataGenerator\n2021-10-04 09:53:30,287 INFO Datagenerator created with: \n shape: [64, 128, 128]\n spacing: [1.4, 1.4, 1.4]\n batchsize: 1\n Scaler: standard\n Images: 15 \n Augment: False \n Thread workers: 1\n2021-10-04 09:53:30,287 INFO No augmentation\n2021-10-04 09:53:30,294 INFO params of generator:\n2021-10-04 09:53:30,295 INFO [('MASKING_IMAGE', False), ('SINGLE_OUTPUT', False), ('MASKING_VALUES', [2]), ('DEBUG_MODE', False), ('SCALER', 'standard'), ('AUGMENT', False), ('SHUFFLE', False), ('RESAMPLE', True), ('SPACING', [1.4, 1.4, 1.4]), ('SEED', 42), ('DIM', [64, 128, 128]), ('BATCHSIZE', 1), ('MASK_VALUES', [1, 2, 3]), ('N_CLASSES', 3), ('MAX_WORKERS', 1), ('T_SPACING', 100), ('PHASES', 5), ('HIST_MATCHING', False), ('IMG_INTERPOLATION', 2), ('MSK_INTERPOLATION', 1), ('AUGMENT_TEMP', False), ('RESAMPLE_T', False), ('WINDOW_SIZE', 1), ('IMG_CHANNELS', 3), ('INPUT_T_ELEM', 0), ('BETWEEN_PHASES', True), ('yield_masks', False), ('TARGET_CHANNELS', 1), ('IN_MEMORY', False), ('ISTRAINING', True), ('ISACDC', False), ('ISDMD', True), ('METADATA_FILE', '/mnt/ssd/data/dmd/02_imported_4D_unfiltered/SAx_3D_dicomTags_phase.csv')]\n2021-10-04 09:53:30,295 INFO Create DataGenerator\n2021-10-04 09:53:30,295 INFO Datagenerator created with: \n shape: [64, 128, 128]\n spacing: [1.4, 1.4, 1.4]\n batchsize: 1\n Scaler: standard\n Images: 15 \n Augment: False \n Thread workers: 1\n2021-10-04 09:53:30,296 INFO No augmentation\n2021-10-04 09:53:30,301 INFO params of generator:\n2021-10-04 09:53:30,301 INFO [('MASKING_IMAGE', False), ('SINGLE_OUTPUT', False), ('MASKING_VALUES', [2]), ('DEBUG_MODE', False), ('SCALER', 'standard'), ('AUGMENT', False), ('SHUFFLE', False), ('RESAMPLE', True), ('SPACING', [1.4, 1.4, 1.4]), ('SEED', 42), ('DIM', [64, 128, 128]), ('BATCHSIZE', 1), ('MASK_VALUES', [1, 2, 3]), ('N_CLASSES', 3), ('MAX_WORKERS', 1), ('T_SPACING', 100), ('PHASES', 5), ('HIST_MATCHING', False), ('IMG_INTERPOLATION', 2), ('MSK_INTERPOLATION', 1), ('AUGMENT_TEMP', False), ('RESAMPLE_T', False), ('WINDOW_SIZE', 1), ('IMG_CHANNELS', 3), ('INPUT_T_ELEM', 0), ('BETWEEN_PHASES', True), ('yield_masks', False), ('TARGET_CHANNELS', 1), ('IN_MEMORY', False), ('ISACDC', False), ('ISDMD', True), ('METADATA_FILE', '/mnt/ssd/data/dmd/02_imported_4D_unfiltered/SAx_3D_dicomTags_phase.csv')]\n2021-10-04 09:53:30,302 INFO Create DataGenerator\n2021-10-04 09:53:30,302 INFO Datagenerator created with: \n shape: [64, 128, 128]\n spacing: [1.4, 1.4, 1.4]\n batchsize: 1\n Scaler: standard\n Images: 15 \n Augment: False \n Thread workers: 1\n2021-10-04 09:53:30,303 INFO No augmentation\n2021-10-04 09:53:30,308 INFO params of generator:\n2021-10-04 09:53:30,308 INFO [('MASKING_IMAGE', True), ('SINGLE_OUTPUT', False), ('MASKING_VALUES', [2]), ('DEBUG_MODE', False), ('SCALER', 'standard'), ('AUGMENT', False), ('SHUFFLE', False), ('RESAMPLE', True), ('SPACING', [1.4, 1.4, 1.4]), ('SEED', 42), ('DIM', [64, 128, 128]), ('BATCHSIZE', 1), ('MASK_VALUES', [1, 2, 3]), ('N_CLASSES', 3), ('MAX_WORKERS', 1), ('T_SPACING', 100), ('PHASES', 5), ('HIST_MATCHING', False), ('IMG_INTERPOLATION', 1), ('MSK_INTERPOLATION', 1), ('AUGMENT_TEMP', False), ('RESAMPLE_T', False), ('WINDOW_SIZE', 1), ('IMG_CHANNELS', 3), ('INPUT_T_ELEM', 0), ('BETWEEN_PHASES', True), ('yield_masks', True), ('TARGET_CHANNELS', 1), ('IN_MEMORY', False), ('ISACDC', False), ('ISDMD', True), ('METADATA_FILE', '/mnt/ssd/data/dmd/02_imported_4D_unfiltered/SAx_3D_dicomTags_phase.csv')]\n2021-10-04 09:53:30,308 INFO Create DataGenerator\n2021-10-04 09:53:30,308 INFO Datagenerator created with: \n shape: [64, 128, 128]\n spacing: [1.4, 1.4, 1.4]\n batchsize: 1\n Scaler: standard\n Images: 15 \n Augment: False \n Thread workers: 1\n2021-10-04 09:53:30,309 INFO No augmentation\n2021-10-04 09:53:30,314 INFO params of generator:\n2021-10-04 09:53:30,314 INFO [('MASKING_IMAGE', False), ('SINGLE_OUTPUT', False), ('MASKING_VALUES', [2]), ('DEBUG_MODE', False), ('SCALER', 'standard'), ('AUGMENT', False), ('SHUFFLE', False), ('RESAMPLE', True), ('SPACING', [1.4, 1.4, 1.4]), ('SEED', 42), ('DIM', [64, 128, 128]), ('BATCHSIZE', 1), ('MASK_VALUES', [1, 2, 3]), ('N_CLASSES', 3), ('MAX_WORKERS', 1), ('T_SPACING', 100), ('PHASES', 5), ('HIST_MATCHING', False), ('IMG_INTERPOLATION', 1), ('MSK_INTERPOLATION', 1), ('AUGMENT_TEMP', False), ('RESAMPLE_T', False), ('WINDOW_SIZE', 1), ('IMG_CHANNELS', 1), ('INPUT_T_ELEM', 0), ('BETWEEN_PHASES', True), ('yield_masks', True), ('TARGET_CHANNELS', 1), ('IN_MEMORY', False), ('ISACDC', False), ('ISDMD', True), ('METADATA_FILE', '/mnt/ssd/data/dmd/02_imported_4D_unfiltered/SAx_3D_dicomTags_phase.csv')]\n2021-10-04 09:53:49,323 INFO /mnt/sds/sven/code/dynamic-cmr-models/exp/temp/phase2phase/v3/64_128_128/window1/reg0_001/dmd/NOmask_bugfix_f0/2021-10-01_19_20/pred/aa_20180710\n2021-10-04 09:54:04,257 INFO /mnt/sds/sven/code/dynamic-cmr-models/exp/temp/phase2phase/v3/64_128_128/window1/reg0_001/dmd/NOmask_bugfix_f0/2021-10-01_19_20/pred/ac_20180301\n"
        }
       ]
      }
     },
     "684199f354e34f2085e46810619cd268": {
      "model_module": "@jupyter-widgets/base",
      "model_module_version": "1.2.0",
      "model_name": "LayoutModel",
      "state": {}
     },
     "689bb58458a04248b4df3ca9b6849a1b": {
      "model_module": "@jupyter-widgets/output",
      "model_module_version": "1.0.0",
      "model_name": "OutputModel",
      "state": {
       "layout": "IPY_MODEL_47be734898de4440bbd8fb4cde40cb55"
      }
     },
     "6ae01320c4e346b1a6e61ea2f1a36370": {
      "model_module": "@jupyter-widgets/controls",
      "model_module_version": "1.5.0",
      "model_name": "DescriptionStyleModel",
      "state": {
       "description_width": ""
      }
     },
     "6b3cd9b583f1470c82ea4f92e5a43245": {
      "model_module": "@jupyter-widgets/controls",
      "model_module_version": "1.5.0",
      "model_name": "DescriptionStyleModel",
      "state": {
       "description_width": ""
      }
     },
     "6c682e3625914f8b972794842979b3c0": {
      "model_module": "@jupyter-widgets/base",
      "model_module_version": "1.2.0",
      "model_name": "LayoutModel",
      "state": {
       "width": "auto"
      }
     },
     "6cc09fc52c284898bf3d53ceac80a0ba": {
      "model_module": "@jupyter-widgets/base",
      "model_module_version": "1.2.0",
      "model_name": "LayoutModel",
      "state": {
       "grid_area": "pathlist",
       "width": "auto"
      }
     },
     "6f25e65f0cfb412fb7728265b3297b4b": {
      "model_module": "@jupyter-widgets/controls",
      "model_module_version": "1.5.0",
      "model_name": "ButtonModel",
      "state": {
       "description": "Change",
       "layout": "IPY_MODEL_1c5d2e0e7bb2428ea576c4c54c28cccd",
       "style": "IPY_MODEL_3b905b53d5204e5eb87d20502af7d4dc"
      }
     },
     "7084ab09ad574039beb539a23d0371c3": {
      "model_module": "@jupyter-widgets/controls",
      "model_module_version": "1.5.0",
      "model_name": "DescriptionStyleModel",
      "state": {
       "description_width": ""
      }
     },
     "730bb61f9265491d9569d8e177ea125f": {
      "model_module": "@jupyter-widgets/base",
      "model_module_version": "1.2.0",
      "model_name": "LayoutModel",
      "state": {
       "width": "auto"
      }
     },
     "73d3abc5ad87410fac84f437c48a5170": {
      "model_module": "@jupyter-widgets/base",
      "model_module_version": "1.2.0",
      "model_name": "LayoutModel",
      "state": {}
     },
     "748c062c3afa4f618ed36a5b63da22af": {
      "model_module": "@jupyter-widgets/controls",
      "model_module_version": "1.5.0",
      "model_name": "ButtonStyleModel",
      "state": {}
     },
     "7541ef6c3cf343668b6b5827d5b68557": {
      "model_module": "@jupyter-widgets/controls",
      "model_module_version": "1.5.0",
      "model_name": "ButtonStyleModel",
      "state": {}
     },
     "75507542b06346d8a8e94e722ed16f17": {
      "model_module": "@jupyter-widgets/controls",
      "model_module_version": "1.5.0",
      "model_name": "CheckboxModel",
      "state": {
       "description": "run",
       "disabled": false,
       "layout": "IPY_MODEL_c92ccd0334394f0ab7843fc2ba28183b",
       "style": "IPY_MODEL_7084ab09ad574039beb539a23d0371c3",
       "value": true
      }
     },
     "7657a42b3ecf4679baecc3e4f87bcd3f": {
      "model_module": "@jupyter-widgets/controls",
      "model_module_version": "1.5.0",
      "model_name": "VBoxModel",
      "state": {
       "children": [
        "IPY_MODEL_d9014d470355417bbb5e1813ec0e58c3",
        "IPY_MODEL_1ff77bf39f5b4eaba5f033df9a70d199",
        "IPY_MODEL_159d15b267cf4bedaf69a9ef04874862"
       ],
       "layout": "IPY_MODEL_f4a7960b6d954f368834e7295e054d3e"
      }
     },
     "793605e79d7044bcbd0a1a8ef782c424": {
      "model_module": "@jupyter-widgets/controls",
      "model_module_version": "1.5.0",
      "model_name": "DescriptionStyleModel",
      "state": {
       "description_width": ""
      }
     },
     "7a24668050504623aa3317bbfef878a7": {
      "model_module": "@jupyter-widgets/base",
      "model_module_version": "1.2.0",
      "model_name": "LayoutModel",
      "state": {
       "grid_area": "filename",
       "width": "auto"
      }
     },
     "7ef948624e2f497b9b7fc8b27a0ba86e": {
      "model_module": "@jupyter-widgets/controls",
      "model_module_version": "1.5.0",
      "model_name": "HTMLModel",
      "state": {
       "layout": "IPY_MODEL_9dc30d0b56584bc0b2b92885984296f2",
       "placeholder": "",
       "style": "IPY_MODEL_84758d3850e041a0b720487526e8b3b2",
       "value": "<span style=\"margin-left:10px; color:black;\">No file selected</span>"
      }
     },
     "7fd86601577b40fc97bcb91726f29559": {
      "model_module": "@jupyter-widgets/controls",
      "model_module_version": "1.5.0",
      "model_name": "DescriptionStyleModel",
      "state": {
       "description_width": ""
      }
     },
     "8077584d579e4207ad26f7199e3a0b3a": {
      "model_module": "@jupyter-widgets/base",
      "model_module_version": "1.2.0",
      "model_name": "LayoutModel",
      "state": {
       "display": "none",
       "grid_gap": "0px 0px",
       "grid_template_areas": "\n                    'pathlist filename'\n                    'dircontent dircontent'\n                    ",
       "grid_template_columns": "60% 40%",
       "grid_template_rows": "auto auto",
       "width": "500px"
      }
     },
     "820282efc4ae45f7869758581c0e1e98": {
      "model_module": "@jupyter-widgets/controls",
      "model_module_version": "1.5.0",
      "model_name": "HTMLModel",
      "state": {
       "layout": "IPY_MODEL_8b0db744408b4ceeb97cd99ad94b0f2d",
       "style": "IPY_MODEL_63e561e605cd452ab363b161fd6a9294"
      }
     },
     "8232e95bf48f46e08feda1cba71756dd": {
      "model_module": "@jupyter-widgets/controls",
      "model_module_version": "1.5.0",
      "model_name": "ButtonStyleModel",
      "state": {}
     },
     "825926f330374cbaabe701d4352e0943": {
      "model_module": "@jupyter-widgets/controls",
      "model_module_version": "1.5.0",
      "model_name": "HTMLModel",
      "state": {
       "layout": "IPY_MODEL_73d3abc5ad87410fac84f437c48a5170",
       "placeholder": "",
       "style": "IPY_MODEL_4429fdbd931e405e9a0f02b497a8db20",
       "value": "<span style=\"margin-left:10px; color:black;\">No file selected</span>"
      }
     },
     "84758d3850e041a0b720487526e8b3b2": {
      "model_module": "@jupyter-widgets/controls",
      "model_module_version": "1.5.0",
      "model_name": "DescriptionStyleModel",
      "state": {
       "description_width": ""
      }
     },
     "867a0a012b204405bb1c3baaf557b1bf": {
      "model_module": "@jupyter-widgets/base",
      "model_module_version": "1.2.0",
      "model_name": "LayoutModel",
      "state": {}
     },
     "86a373b4b4024070a34ebc10579adb04": {
      "model_module": "@jupyter-widgets/controls",
      "model_module_version": "1.5.0",
      "model_name": "ButtonStyleModel",
      "state": {}
     },
     "885538127e1f49a88dfb6a4dd6cb662e": {
      "model_module": "@jupyter-widgets/controls",
      "model_module_version": "1.5.0",
      "model_name": "ButtonModel",
      "state": {
       "description": "Change",
       "layout": "IPY_MODEL_3a9e445f6fc040dbbbe42dad42953dae",
       "style": "IPY_MODEL_1f01fd5679a1442491afd2faebe26603"
      }
     },
     "8b0db744408b4ceeb97cd99ad94b0f2d": {
      "model_module": "@jupyter-widgets/base",
      "model_module_version": "1.2.0",
      "model_name": "LayoutModel",
      "state": {
       "display": "none"
      }
     },
     "9112958bc80246fd827d033c5e4c782e": {
      "model_module": "@jupyter-widgets/controls",
      "model_module_version": "1.5.0",
      "model_name": "ButtonStyleModel",
      "state": {}
     },
     "928aa3d1513e4ccaa6459b0449139edb": {
      "model_module": "@jupyter-widgets/controls",
      "model_module_version": "1.5.0",
      "model_name": "DescriptionStyleModel",
      "state": {
       "description_width": ""
      }
     },
     "92b12dbeba5d4049b232b40bd42595c9": {
      "model_module": "@jupyter-widgets/controls",
      "model_module_version": "1.5.0",
      "model_name": "HBoxModel",
      "state": {
       "children": [
        "IPY_MODEL_f99d02f752154bc495fb7e2b8ddd87d2",
        "IPY_MODEL_2ae36af67a4543d1ab673547a8cbbda1",
        "IPY_MODEL_543c904a8cec46b58cbf5a229260be18"
       ],
       "layout": "IPY_MODEL_4feb45a0361942daac25b92ccc7fb5d4"
      }
     },
     "94cf1a648d5445a491d601552e2c6e55": {
      "model_module": "@jupyter-widgets/base",
      "model_module_version": "1.2.0",
      "model_name": "LayoutModel",
      "state": {
       "grid_area": "filename",
       "width": "auto"
      }
     },
     "9a03f3c03a834d1f9feb4437848380a9": {
      "model_module": "@jupyter-widgets/controls",
      "model_module_version": "1.5.0",
      "model_name": "TextModel",
      "state": {
       "layout": "IPY_MODEL_94cf1a648d5445a491d601552e2c6e55",
       "placeholder": "output filename",
       "style": "IPY_MODEL_c95a24eb7368456699291c97c20b847f"
      }
     },
     "9a58e4cb471442a1a029ac57ea1729c6": {
      "model_module": "@jupyter-widgets/base",
      "model_module_version": "1.2.0",
      "model_name": "LayoutModel",
      "state": {}
     },
     "9a68131672fd44f1af9cbe855890323b": {
      "model_module": "@jupyter-widgets/controls",
      "model_module_version": "1.5.0",
      "model_name": "ButtonModel",
      "state": {
       "description": "Change",
       "layout": "IPY_MODEL_135550f209c2484aa2b926164610d448",
       "style": "IPY_MODEL_24007a30a9844531849e6b3c54f638a1"
      }
     },
     "9aaccb7d999d45b2ae0e351ad8b93ae9": {
      "model_module": "@jupyter-widgets/base",
      "model_module_version": "1.2.0",
      "model_name": "LayoutModel",
      "state": {
       "grid_gap": "0px 0px",
       "grid_template_areas": "\n                    'pathlist filename'\n                    'dircontent dircontent'\n                    ",
       "grid_template_columns": "60% 40%",
       "grid_template_rows": "auto auto",
       "width": "500px"
      }
     },
     "9b4e69c5ce2a4f2e9575e403900cb3ed": {
      "model_module": "@jupyter-widgets/base",
      "model_module_version": "1.2.0",
      "model_name": "LayoutModel",
      "state": {
       "width": "auto"
      }
     },
     "9cc229da1f274b34a39c194cb033d673": {
      "model_module": "@jupyter-widgets/base",
      "model_module_version": "1.2.0",
      "model_name": "LayoutModel",
      "state": {}
     },
     "9dc30d0b56584bc0b2b92885984296f2": {
      "model_module": "@jupyter-widgets/base",
      "model_module_version": "1.2.0",
      "model_name": "LayoutModel",
      "state": {}
     },
     "9fb4811486954064b6c0768028188042": {
      "model_module": "@jupyter-widgets/controls",
      "model_module_version": "1.5.0",
      "model_name": "TextModel",
      "state": {
       "layout": "IPY_MODEL_07a0640dd4a042cb9689da90898bb328",
       "placeholder": "output filename",
       "style": "IPY_MODEL_6ae01320c4e346b1a6e61ea2f1a36370"
      }
     },
     "a086df09fdab41afb2696be017afd7c9": {
      "model_module": "@jupyter-widgets/controls",
      "model_module_version": "1.5.0",
      "model_name": "TextModel",
      "state": {
       "layout": "IPY_MODEL_3b241d39157f40fb8abe51db1ad8f7f1",
       "placeholder": "output filename",
       "style": "IPY_MODEL_14ee678ec88d4726b4c0cfe4fb912cc3"
      }
     },
     "a5233edcc0bc4804bdddf9ca74197bd6": {
      "model_module": "@jupyter-widgets/controls",
      "model_module_version": "1.5.0",
      "model_name": "DescriptionStyleModel",
      "state": {
       "description_width": ""
      }
     },
     "a5a7e06650544191ae4d9d0f356ffd8a": {
      "model_module": "@jupyter-widgets/controls",
      "model_module_version": "1.5.0",
      "model_name": "GridBoxModel",
      "state": {
       "children": [
        "IPY_MODEL_a6d5fa4af3514a8f804dd195ce3e7cc2",
        "IPY_MODEL_a086df09fdab41afb2696be017afd7c9",
        "IPY_MODEL_01e0c14694ed4b8296b929834d80e2fd"
       ],
       "layout": "IPY_MODEL_220cc696ec77472b843eb40d1b6c16be"
      }
     },
     "a5d6b96048cc4b9c9604664d7b800dc9": {
      "model_module": "@jupyter-widgets/controls",
      "model_module_version": "1.5.0",
      "model_name": "ButtonStyleModel",
      "state": {}
     },
     "a6d5fa4af3514a8f804dd195ce3e7cc2": {
      "model_module": "@jupyter-widgets/controls",
      "model_module_version": "1.5.0",
      "model_name": "DropdownModel",
      "state": {
       "_options_labels": [
        "/mnt/sds/sven/code/dynamic-cmr-models/exp/temp/phase2phase/v3/64_128_128/window1/reg0_001/dmd/NOmask_bugfix_f0/2021-10-01_19_20",
        "/mnt/sds/sven/code/dynamic-cmr-models/exp/temp/phase2phase/v3/64_128_128/window1/reg0_001/dmd/NOmask_bugfix_f0",
        "/mnt/sds/sven/code/dynamic-cmr-models/exp/temp/phase2phase/v3/64_128_128/window1/reg0_001/dmd",
        "/mnt/sds/sven/code/dynamic-cmr-models/exp/temp/phase2phase/v3/64_128_128/window1/reg0_001",
        "/mnt/sds/sven/code/dynamic-cmr-models/exp/temp/phase2phase/v3/64_128_128/window1",
        "/mnt/sds/sven/code/dynamic-cmr-models/exp/temp/phase2phase/v3/64_128_128",
        "/mnt/sds/sven/code/dynamic-cmr-models/exp/temp/phase2phase/v3",
        "/mnt/sds/sven/code/dynamic-cmr-models/exp/temp/phase2phase",
        "/mnt/sds/sven/code/dynamic-cmr-models/exp/temp",
        "/mnt/sds/sven/code/dynamic-cmr-models/exp",
        "/mnt/sds/sven/code/dynamic-cmr-models",
        "/mnt/sds/sven/code",
        "/mnt/sds/sven",
        "/mnt/sds",
        "/mnt",
        "/"
       ],
       "index": 0,
       "layout": "IPY_MODEL_6cc09fc52c284898bf3d53ceac80a0ba",
       "style": "IPY_MODEL_12a316117f3a4a6db9f91789b6be57b0"
      }
     },
     "a898f8aef5954de0bf4aceffed0876fb": {
      "model_module": "@jupyter-widgets/base",
      "model_module_version": "1.2.0",
      "model_name": "LayoutModel",
      "state": {
       "width": "auto"
      }
     },
     "aa2ebb832c75467f90ef4678345ac1be": {
      "model_module": "@jupyter-widgets/controls",
      "model_module_version": "1.5.0",
      "model_name": "DescriptionStyleModel",
      "state": {
       "description_width": ""
      }
     },
     "ac0171c85c6645e7a708b7f9f236bbc0": {
      "model_module": "@jupyter-widgets/controls",
      "model_module_version": "1.5.0",
      "model_name": "VBoxModel",
      "state": {
       "children": [
        "IPY_MODEL_fa0993415aab40e8a9e5782c0c3736d8",
        "IPY_MODEL_0f37ce8073244f4cb74d5be829bad890",
        "IPY_MODEL_52442332c8fa4a21aeddedbd23c9e502"
       ],
       "layout": "IPY_MODEL_faf35e16df95496b85c87dfc5f64e00e"
      }
     },
     "ac0fd4d733ab4fb68b85d9b9702ba5a4": {
      "model_module": "@jupyter-widgets/controls",
      "model_module_version": "1.5.0",
      "model_name": "HBoxModel",
      "state": {
       "children": [
        "IPY_MODEL_885538127e1f49a88dfb6a4dd6cb662e",
        "IPY_MODEL_256de302987e4e4890e0671c8ab96cac",
        "IPY_MODEL_b0a9fb1a05714f3482348058273c8819"
       ],
       "layout": "IPY_MODEL_c1c4689d31784585a764bc4ea9294a95"
      }
     },
     "aef03200cb4c470884a8d56556ff74db": {
      "model_module": "@jupyter-widgets/controls",
      "model_module_version": "1.5.0",
      "model_name": "DescriptionStyleModel",
      "state": {
       "description_width": ""
      }
     },
     "b0481ebe3a674d3f9d7cbdb41200cd83": {
      "model_module": "@jupyter-widgets/controls",
      "model_module_version": "1.5.0",
      "model_name": "DescriptionStyleModel",
      "state": {
       "description_width": ""
      }
     },
     "b0a9fb1a05714f3482348058273c8819": {
      "model_module": "@jupyter-widgets/controls",
      "model_module_version": "1.5.0",
      "model_name": "HTMLModel",
      "state": {
       "layout": "IPY_MODEL_b6e4016120b548bcafbc597c3807e5c8",
       "placeholder": "",
       "style": "IPY_MODEL_f5cc7ced6b80401cbbbdce7bfccdb3ad",
       "value": "<span style=\"margin-left:10px; color:green;\">/mnt/sds/sven/code/dynamic-cmr-models/exp/temp/phase2phase/v3/64_128_128/window1/reg0_001/dmd/NOmask_bugfix_f0/2021-10-01_19_20/</span>"
      }
     },
     "b247028e060d417696fe225728e5d35f": {
      "model_module": "@jupyter-widgets/controls",
      "model_module_version": "1.5.0",
      "model_name": "DescriptionStyleModel",
      "state": {
       "description_width": ""
      }
     },
     "b4c2ce75e1fa4602a49971f0b4361d28": {
      "model_module": "@jupyter-widgets/controls",
      "model_module_version": "1.5.0",
      "model_name": "DropdownModel",
      "state": {
       "_options_labels": [
        "/mnt/sds/sven/code/dynamic-cmr-models/exp/temp/phase2phase/v3/64_128_128/window1/reg0_001/dmd/NOmask_bugfix_f0/2021-10-01_19_20",
        "/mnt/sds/sven/code/dynamic-cmr-models/exp/temp/phase2phase/v3/64_128_128/window1/reg0_001/dmd/NOmask_bugfix_f0",
        "/mnt/sds/sven/code/dynamic-cmr-models/exp/temp/phase2phase/v3/64_128_128/window1/reg0_001/dmd",
        "/mnt/sds/sven/code/dynamic-cmr-models/exp/temp/phase2phase/v3/64_128_128/window1/reg0_001",
        "/mnt/sds/sven/code/dynamic-cmr-models/exp/temp/phase2phase/v3/64_128_128/window1",
        "/mnt/sds/sven/code/dynamic-cmr-models/exp/temp/phase2phase/v3/64_128_128",
        "/mnt/sds/sven/code/dynamic-cmr-models/exp/temp/phase2phase/v3",
        "/mnt/sds/sven/code/dynamic-cmr-models/exp/temp/phase2phase",
        "/mnt/sds/sven/code/dynamic-cmr-models/exp/temp",
        "/mnt/sds/sven/code/dynamic-cmr-models/exp",
        "/mnt/sds/sven/code/dynamic-cmr-models",
        "/mnt/sds/sven/code",
        "/mnt/sds/sven",
        "/mnt/sds",
        "/mnt",
        "/"
       ],
       "index": 0,
       "layout": "IPY_MODEL_40b7f62da2134a4d8e8705e8cdf3ef95",
       "style": "IPY_MODEL_6b3cd9b583f1470c82ea4f92e5a43245"
      }
     },
     "b4daa491ccc74ed29d62392821d48242": {
      "model_module": "@jupyter-widgets/base",
      "model_module_version": "1.2.0",
      "model_name": "LayoutModel",
      "state": {
       "display": "none",
       "width": "auto"
      }
     },
     "b618001a1cd64f0e9de6212fa66ad13b": {
      "model_module": "@jupyter-widgets/controls",
      "model_module_version": "1.5.0",
      "model_name": "DescriptionStyleModel",
      "state": {
       "description_width": ""
      }
     },
     "b677bd066fcc4862beb23d8fcea7caec": {
      "model_module": "@jupyter-widgets/base",
      "model_module_version": "1.2.0",
      "model_name": "LayoutModel",
      "state": {}
     },
     "b6e4016120b548bcafbc597c3807e5c8": {
      "model_module": "@jupyter-widgets/base",
      "model_module_version": "1.2.0",
      "model_name": "LayoutModel",
      "state": {}
     },
     "b7373ce6108043fa8987e2eee6e4ce01": {
      "model_module": "@jupyter-widgets/controls",
      "model_module_version": "1.5.0",
      "model_name": "ButtonStyleModel",
      "state": {}
     },
     "b80b62648c5943cb9ec99e49bbf660d9": {
      "model_module": "@jupyter-widgets/base",
      "model_module_version": "1.2.0",
      "model_name": "LayoutModel",
      "state": {
       "grid_area": "dircontent",
       "width": "auto"
      }
     },
     "b955dcc8b580495a97c29a7317e6bfb3": {
      "model_module": "@jupyter-widgets/base",
      "model_module_version": "1.2.0",
      "model_name": "LayoutModel",
      "state": {
       "display": "none"
      }
     },
     "bb677199a67c4c02acfe1d8737c98de1": {
      "model_module": "@jupyter-widgets/output",
      "model_module_version": "1.0.0",
      "model_name": "OutputModel",
      "state": {
       "layout": "IPY_MODEL_867a0a012b204405bb1c3baaf557b1bf",
       "outputs": [
        {
         "name": "stderr",
         "output_type": "stream",
         "text": "2021-10-04 09:51:40,456 INFO -------------------- Start --------------------\n2021-10-04 09:51:40,457 INFO Working directory: /mnt/ssd/git/dynamic-cmr-models.\n2021-10-04 09:51:40,457 INFO Log file: ./logs/temp/phase2phase/v3/64_128_128/window1/reg0_001/dmd/NOmask_bugfix_f0.log\n2021-10-04 09:51:40,457 INFO Log level for console: INFO\n2021-10-04 09:51:40,457 INFO Loaded config for experiment: temp/phase2phase/v3/64_128_128/window1/reg0_001/dmd/NOmask_bugfix_f0\n2021-10-04 09:51:40,458 INFO -------------------- Start --------------------\n2021-10-04 09:51:40,458 INFO Working directory: /mnt/ssd/git/dynamic-cmr-models.\n2021-10-04 09:51:40,459 INFO Log file: temp/phase2phase/v3/64_128_128/window1/reg0_001/dmd/NOmask_bugfix_f0_f0/Log.log\n2021-10-04 09:51:40,459 INFO Log level for console: INFO\n2021-10-04 09:51:40,474 INFO no files found, try to load with clean.nrrd/mask.nrrd pattern\n2021-10-04 09:51:40,475 INFO searched in: /mnt/ssd/data/dmd/02_imported_4D_unfiltered/sax\n2021-10-04 09:51:40,482 INFO Found 57 images/masks in /mnt/ssd/data/dmd/02_imported_4D_unfiltered/sax\n2021-10-04 09:51:40,482 INFO Patients train: 42\n2021-10-04 09:51:40,484 INFO Selected 42 of 57 files with 42 of 57 patients for training fold 0\n2021-10-04 09:51:40,485 INFO SAX train CMR: 42, SAX train masks: 42\n2021-10-04 09:51:40,485 INFO SAX val CMR: 15, SAX val masks: 15\n"
        },
        {
         "name": "stdout",
         "output_type": "stream",
         "text": "config given: /mnt/sds/sven/code/dynamic-cmr-models/exp/temp/phase2phase/v3/64_128_128/window1/reg0_001/dmd/NOmask_bugfix_f0/2021-10-01_19_20/config/config.json\n['/gpu:0', '/gpu:1']\n(None, 64, 128, 128, 3)\n(None, 64, 128, 128, 3)\n"
        },
        {
         "name": "stderr",
         "output_type": "stream",
         "text": "2021-10-04 09:51:44,376 ERROR Unable to open file (unable to open file: name = 'exp/temp/phase2phase/v3/64_128_128/window1/reg0_001/dmd/NOmask_bugfix_f0/2021-10-01_19_20/model/model.h5', errno = 2, error message = 'No such file or directory', flags = 0, o_flags = 0)\n"
        },
        {
         "ename": "UnboundLocalError",
         "evalue": "local variable 'first_vols' referenced before assignment",
         "output_type": "error",
         "traceback": [
          "\u001b[0;31m-------------------------------------------------------------------------\u001b[0m",
          "\u001b[0;31mOSError\u001b[0m                                 Traceback (most recent call last)",
          "\u001b[0;32m/mnt/ssd/git/dynamic-cmr-models/src/models/predict_motion_model.py\u001b[0m in \u001b[0;36mpred_fold\u001b[0;34m(config, debug)\u001b[0m\n\u001b[1;32m     67\u001b[0m         \u001b[0mmodel\u001b[0m \u001b[0;34m=\u001b[0m \u001b[0mcreate_RegistrationModel_inkl_mask\u001b[0m\u001b[0;34m(\u001b[0m\u001b[0mconfig\u001b[0m\u001b[0;34m)\u001b[0m\u001b[0;34m\u001b[0m\u001b[0;34m\u001b[0m\u001b[0m\n\u001b[0;32m---> 68\u001b[0;31m         \u001b[0mmodel\u001b[0m\u001b[0;34m.\u001b[0m\u001b[0mload_weights\u001b[0m\u001b[0;34m(\u001b[0m\u001b[0mos\u001b[0m\u001b[0;34m.\u001b[0m\u001b[0mpath\u001b[0m\u001b[0;34m.\u001b[0m\u001b[0mjoin\u001b[0m\u001b[0;34m(\u001b[0m\u001b[0mconfig\u001b[0m\u001b[0;34m[\u001b[0m\u001b[0;34m'MODEL_PATH'\u001b[0m\u001b[0;34m]\u001b[0m\u001b[0;34m,\u001b[0m \u001b[0;34m'model.h5'\u001b[0m\u001b[0;34m)\u001b[0m\u001b[0;34m)\u001b[0m\u001b[0;34m\u001b[0m\u001b[0;34m\u001b[0m\u001b[0m\n\u001b[0m\u001b[1;32m     69\u001b[0m         \u001b[0mlogging\u001b[0m\u001b[0;34m.\u001b[0m\u001b[0minfo\u001b[0m\u001b[0;34m(\u001b[0m\u001b[0;34m'loaded model weights as h5 file'\u001b[0m\u001b[0;34m)\u001b[0m\u001b[0;34m\u001b[0m\u001b[0;34m\u001b[0m\u001b[0m\n",
          "\u001b[0;32m~/anaconda3/envs/dcmr/lib/python3.8/site-packages/tensorflow/python/keras/engine/training.py\u001b[0m in \u001b[0;36mload_weights\u001b[0;34m(self, filepath, by_name, skip_mismatch, options)\u001b[0m\n\u001b[1;32m   2203\u001b[0m     \u001b[0mself\u001b[0m\u001b[0;34m.\u001b[0m\u001b[0m_assert_weights_created\u001b[0m\u001b[0;34m(\u001b[0m\u001b[0;34m)\u001b[0m\u001b[0;34m\u001b[0m\u001b[0;34m\u001b[0m\u001b[0m\n\u001b[0;32m-> 2204\u001b[0;31m     \u001b[0;32mwith\u001b[0m \u001b[0mh5py\u001b[0m\u001b[0;34m.\u001b[0m\u001b[0mFile\u001b[0m\u001b[0;34m(\u001b[0m\u001b[0mfilepath\u001b[0m\u001b[0;34m,\u001b[0m \u001b[0;34m'r'\u001b[0m\u001b[0;34m)\u001b[0m \u001b[0;32mas\u001b[0m \u001b[0mf\u001b[0m\u001b[0;34m:\u001b[0m\u001b[0;34m\u001b[0m\u001b[0;34m\u001b[0m\u001b[0m\n\u001b[0m\u001b[1;32m   2205\u001b[0m       \u001b[0;32mif\u001b[0m \u001b[0;34m'layer_names'\u001b[0m \u001b[0;32mnot\u001b[0m \u001b[0;32min\u001b[0m \u001b[0mf\u001b[0m\u001b[0;34m.\u001b[0m\u001b[0mattrs\u001b[0m \u001b[0;32mand\u001b[0m \u001b[0;34m'model_weights'\u001b[0m \u001b[0;32min\u001b[0m \u001b[0mf\u001b[0m\u001b[0;34m:\u001b[0m\u001b[0;34m\u001b[0m\u001b[0;34m\u001b[0m\u001b[0m\n",
          "\u001b[0;32m~/anaconda3/envs/dcmr/lib/python3.8/site-packages/h5py/_hl/files.py\u001b[0m in \u001b[0;36m__init__\u001b[0;34m(self, name, mode, driver, libver, userblock_size, swmr, rdcc_nslots, rdcc_nbytes, rdcc_w0, track_order, **kwds)\u001b[0m\n\u001b[1;32m    405\u001b[0m                 \u001b[0mfapl\u001b[0m \u001b[0;34m=\u001b[0m \u001b[0mmake_fapl\u001b[0m\u001b[0;34m(\u001b[0m\u001b[0mdriver\u001b[0m\u001b[0;34m,\u001b[0m \u001b[0mlibver\u001b[0m\u001b[0;34m,\u001b[0m \u001b[0mrdcc_nslots\u001b[0m\u001b[0;34m,\u001b[0m \u001b[0mrdcc_nbytes\u001b[0m\u001b[0;34m,\u001b[0m \u001b[0mrdcc_w0\u001b[0m\u001b[0;34m,\u001b[0m \u001b[0;34m**\u001b[0m\u001b[0mkwds\u001b[0m\u001b[0;34m)\u001b[0m\u001b[0;34m\u001b[0m\u001b[0;34m\u001b[0m\u001b[0m\n\u001b[0;32m--> 406\u001b[0;31m                 fid = make_fid(name, mode, userblock_size,\n\u001b[0m\u001b[1;32m    407\u001b[0m                                \u001b[0mfapl\u001b[0m\u001b[0;34m,\u001b[0m \u001b[0mfcpl\u001b[0m\u001b[0;34m=\u001b[0m\u001b[0mmake_fcpl\u001b[0m\u001b[0;34m(\u001b[0m\u001b[0mtrack_order\u001b[0m\u001b[0;34m=\u001b[0m\u001b[0mtrack_order\u001b[0m\u001b[0;34m)\u001b[0m\u001b[0;34m,\u001b[0m\u001b[0;34m\u001b[0m\u001b[0;34m\u001b[0m\u001b[0m\n",
          "\u001b[0;32m~/anaconda3/envs/dcmr/lib/python3.8/site-packages/h5py/_hl/files.py\u001b[0m in \u001b[0;36mmake_fid\u001b[0;34m(name, mode, userblock_size, fapl, fcpl, swmr)\u001b[0m\n\u001b[1;32m    172\u001b[0m             \u001b[0mflags\u001b[0m \u001b[0;34m|=\u001b[0m \u001b[0mh5f\u001b[0m\u001b[0;34m.\u001b[0m\u001b[0mACC_SWMR_READ\u001b[0m\u001b[0;34m\u001b[0m\u001b[0;34m\u001b[0m\u001b[0m\n\u001b[0;32m--> 173\u001b[0;31m         \u001b[0mfid\u001b[0m \u001b[0;34m=\u001b[0m \u001b[0mh5f\u001b[0m\u001b[0;34m.\u001b[0m\u001b[0mopen\u001b[0m\u001b[0;34m(\u001b[0m\u001b[0mname\u001b[0m\u001b[0;34m,\u001b[0m \u001b[0mflags\u001b[0m\u001b[0;34m,\u001b[0m \u001b[0mfapl\u001b[0m\u001b[0;34m=\u001b[0m\u001b[0mfapl\u001b[0m\u001b[0;34m)\u001b[0m\u001b[0;34m\u001b[0m\u001b[0;34m\u001b[0m\u001b[0m\n\u001b[0m\u001b[1;32m    174\u001b[0m     \u001b[0;32melif\u001b[0m \u001b[0mmode\u001b[0m \u001b[0;34m==\u001b[0m \u001b[0;34m'r+'\u001b[0m\u001b[0;34m:\u001b[0m\u001b[0;34m\u001b[0m\u001b[0;34m\u001b[0m\u001b[0m\n",
          "\u001b[0;32mh5py/_objects.pyx\u001b[0m in \u001b[0;36mh5py._objects.with_phil.wrapper\u001b[0;34m()\u001b[0m\n",
          "\u001b[0;32mh5py/_objects.pyx\u001b[0m in \u001b[0;36mh5py._objects.with_phil.wrapper\u001b[0;34m()\u001b[0m\n",
          "\u001b[0;32mh5py/h5f.pyx\u001b[0m in \u001b[0;36mh5py.h5f.open\u001b[0;34m()\u001b[0m\n",
          "\u001b[0;31mOSError\u001b[0m: Unable to open file (unable to open file: name = 'exp/temp/phase2phase/v3/64_128_128/window1/reg0_001/dmd/NOmask_bugfix_f0/2021-10-01_19_20/model/model.h5', errno = 2, error message = 'No such file or directory', flags = 0, o_flags = 0)",
          "\nDuring handling of the above exception, another exception occurred:\n",
          "\u001b[0;31mUnboundLocalError\u001b[0m                       Traceback (most recent call last)",
          "\u001b[0;32m~/anaconda3/envs/dcmr/lib/python3.8/site-packages/ipywidgets/widgets/interaction.py\u001b[0m in \u001b[0;36mupdate\u001b[0;34m(self, *args)\u001b[0m\n\u001b[1;32m    254\u001b[0m                     \u001b[0mvalue\u001b[0m \u001b[0;34m=\u001b[0m \u001b[0mwidget\u001b[0m\u001b[0;34m.\u001b[0m\u001b[0mget_interact_value\u001b[0m\u001b[0;34m(\u001b[0m\u001b[0;34m)\u001b[0m\u001b[0;34m\u001b[0m\u001b[0;34m\u001b[0m\u001b[0m\n\u001b[1;32m    255\u001b[0m                     \u001b[0mself\u001b[0m\u001b[0;34m.\u001b[0m\u001b[0mkwargs\u001b[0m\u001b[0;34m[\u001b[0m\u001b[0mwidget\u001b[0m\u001b[0;34m.\u001b[0m\u001b[0m_kwarg\u001b[0m\u001b[0;34m]\u001b[0m \u001b[0;34m=\u001b[0m \u001b[0mvalue\u001b[0m\u001b[0;34m\u001b[0m\u001b[0;34m\u001b[0m\u001b[0m\n\u001b[0;32m--> 256\u001b[0;31m                 \u001b[0mself\u001b[0m\u001b[0;34m.\u001b[0m\u001b[0mresult\u001b[0m \u001b[0;34m=\u001b[0m \u001b[0mself\u001b[0m\u001b[0;34m.\u001b[0m\u001b[0mf\u001b[0m\u001b[0;34m(\u001b[0m\u001b[0;34m**\u001b[0m\u001b[0mself\u001b[0m\u001b[0;34m.\u001b[0m\u001b[0mkwargs\u001b[0m\u001b[0;34m)\u001b[0m\u001b[0;34m\u001b[0m\u001b[0;34m\u001b[0m\u001b[0m\n\u001b[0m\u001b[1;32m    257\u001b[0m                 \u001b[0mshow_inline_matplotlib_plots\u001b[0m\u001b[0;34m(\u001b[0m\u001b[0;34m)\u001b[0m\u001b[0;34m\u001b[0m\u001b[0;34m\u001b[0m\u001b[0m\n\u001b[1;32m    258\u001b[0m                 \u001b[0;32mif\u001b[0m \u001b[0mself\u001b[0m\u001b[0;34m.\u001b[0m\u001b[0mauto_display\u001b[0m \u001b[0;32mand\u001b[0m \u001b[0mself\u001b[0m\u001b[0;34m.\u001b[0m\u001b[0mresult\u001b[0m \u001b[0;32mis\u001b[0m \u001b[0;32mnot\u001b[0m \u001b[0;32mNone\u001b[0m\u001b[0;34m:\u001b[0m\u001b[0;34m\u001b[0m\u001b[0;34m\u001b[0m\u001b[0m\n",
          "\u001b[0;32m<ipython-input-33-591e6d0013dc>\u001b[0m in \u001b[0;36mcalc_scores\u001b[0;34m(run)\u001b[0m\n\u001b[1;32m     25\u001b[0m             \u001b[0mconfig\u001b[0m\u001b[0;34m[\u001b[0m\u001b[0;34m'DF_META'\u001b[0m\u001b[0;34m]\u001b[0m \u001b[0;34m=\u001b[0m \u001b[0mos\u001b[0m\u001b[0;34m.\u001b[0m\u001b[0mpath\u001b[0m\u001b[0;34m.\u001b[0m\u001b[0mjoin\u001b[0m\u001b[0;34m(\u001b[0m\u001b[0mdata_root\u001b[0m\u001b[0;34m,\u001b[0m \u001b[0;34m'SAx_3D_dicomTags_phase.csv'\u001b[0m\u001b[0;34m)\u001b[0m\u001b[0;34m\u001b[0m\u001b[0;34m\u001b[0m\u001b[0m\n\u001b[1;32m     26\u001b[0m             \u001b[0minfo\u001b[0m\u001b[0;34m(\u001b[0m\u001b[0;34m'Loaded config for experiment: {}'\u001b[0m\u001b[0;34m.\u001b[0m\u001b[0mformat\u001b[0m\u001b[0;34m(\u001b[0m\u001b[0mEXPERIMENT\u001b[0m\u001b[0;34m)\u001b[0m\u001b[0;34m)\u001b[0m\u001b[0;34m\u001b[0m\u001b[0;34m\u001b[0m\u001b[0m\n\u001b[0;32m---> 27\u001b[0;31m         \u001b[0mpred_fold\u001b[0m\u001b[0;34m(\u001b[0m\u001b[0mconfig\u001b[0m\u001b[0;34m)\u001b[0m\u001b[0;34m\u001b[0m\u001b[0;34m\u001b[0m\u001b[0m\n\u001b[0m\u001b[1;32m     28\u001b[0m         \u001b[0mexport_path\u001b[0m \u001b[0;34m=\u001b[0m \u001b[0mexp_path\u001b[0m\u001b[0;34m\u001b[0m\u001b[0;34m\u001b[0m\u001b[0m\n\u001b[1;32m     29\u001b[0m         \u001b[0mcalc_dice\u001b[0m\u001b[0;34m(\u001b[0m\u001b[0mgt_path\u001b[0m\u001b[0;34m,\u001b[0m \u001b[0mpred_path\u001b[0m\u001b[0;34m,\u001b[0m \u001b[0mexp_path\u001b[0m\u001b[0;34m)\u001b[0m\u001b[0;34m\u001b[0m\u001b[0;34m\u001b[0m\u001b[0m\n",
          "\u001b[0;32m/mnt/ssd/git/dynamic-cmr-models/src/models/predict_motion_model.py\u001b[0m in \u001b[0;36mpred_fold\u001b[0;34m(config, debug)\u001b[0m\n\u001b[1;32m    209\u001b[0m     \u001b[0;32mexcept\u001b[0m \u001b[0mException\u001b[0m \u001b[0;32mas\u001b[0m \u001b[0me\u001b[0m\u001b[0;34m:\u001b[0m\u001b[0;34m\u001b[0m\u001b[0;34m\u001b[0m\u001b[0m\n\u001b[1;32m    210\u001b[0m         \u001b[0mlogging\u001b[0m\u001b[0;34m.\u001b[0m\u001b[0merror\u001b[0m\u001b[0;34m(\u001b[0m\u001b[0me\u001b[0m\u001b[0;34m)\u001b[0m\u001b[0;34m\u001b[0m\u001b[0;34m\u001b[0m\u001b[0m\n\u001b[0;32m--> 211\u001b[0;31m         \u001b[0mlogging\u001b[0m\u001b[0;34m.\u001b[0m\u001b[0merror\u001b[0m\u001b[0;34m(\u001b[0m\u001b[0mfirst_vols\u001b[0m\u001b[0;34m.\u001b[0m\u001b[0mshape\u001b[0m\u001b[0;34m)\u001b[0m\u001b[0;34m\u001b[0m\u001b[0;34m\u001b[0m\u001b[0m\n\u001b[0m\u001b[1;32m    212\u001b[0m         \u001b[0mlogging\u001b[0m\u001b[0;34m.\u001b[0m\u001b[0merror\u001b[0m\u001b[0;34m(\u001b[0m\u001b[0msecond_vols\u001b[0m\u001b[0;34m.\u001b[0m\u001b[0mshape\u001b[0m\u001b[0;34m)\u001b[0m\u001b[0;34m\u001b[0m\u001b[0;34m\u001b[0m\u001b[0m\n\u001b[1;32m    213\u001b[0m         \u001b[0mlogging\u001b[0m\u001b[0;34m.\u001b[0m\u001b[0merror\u001b[0m\u001b[0;34m(\u001b[0m\u001b[0mvects\u001b[0m\u001b[0;34m.\u001b[0m\u001b[0mshape\u001b[0m\u001b[0;34m)\u001b[0m\u001b[0;34m\u001b[0m\u001b[0;34m\u001b[0m\u001b[0m\n",
          "\u001b[0;31mUnboundLocalError\u001b[0m: local variable 'first_vols' referenced before assignment"
         ]
        }
       ]
      }
     },
     "bd5609fdba6f4d5abd3026d9d1d8e747": {
      "model_module": "@jupyter-widgets/controls",
      "model_module_version": "1.5.0",
      "model_name": "DescriptionStyleModel",
      "state": {
       "description_width": ""
      }
     },
     "be0fdbc0540d47f5bc52cf6b34b96c22": {
      "model_module": "@jupyter-widgets/controls",
      "model_module_version": "1.5.0",
      "model_name": "CheckboxModel",
      "state": {
       "description": "run",
       "disabled": false,
       "layout": "IPY_MODEL_5b86bb50c1c2455b98f8b70c70fa65e2",
       "style": "IPY_MODEL_b0481ebe3a674d3f9d7cbdb41200cd83",
       "value": true
      }
     },
     "be13557abd714aee8607bd9368f640f5": {
      "model_module": "@jupyter-widgets/controls",
      "model_module_version": "1.5.0",
      "model_name": "TextModel",
      "state": {
       "layout": "IPY_MODEL_c847987cc3f94635a6a5f33736f40a48",
       "placeholder": "output filename",
       "style": "IPY_MODEL_c6aae15b33174a2db572199fd6c8ff8f"
      }
     },
     "bf1f655901ae47f09987be37512d8e24": {
      "model_module": "@jupyter-widgets/controls",
      "model_module_version": "1.5.0",
      "model_name": "VBoxModel",
      "state": {
       "_dom_classes": [
        "widget-interact"
       ],
       "children": [
        "IPY_MODEL_26bf2223d2254256b72cfff107c33ba3",
        "IPY_MODEL_bb677199a67c4c02acfe1d8737c98de1"
       ],
       "layout": "IPY_MODEL_cdbf2ae076d248878976c3db36ed6583"
      }
     },
     "bfa91b18ad97463d941541f8ee53b271": {
      "model_module": "@jupyter-widgets/controls",
      "model_module_version": "1.5.0",
      "model_name": "SelectModel",
      "state": {
       "_options_labels": [
        "..",
        "24_8_128_128_flow_conv",
        "24_8_128_128_flow_conv_bilstm64",
        "24_8_128_128_flow_conv_bilstm64_noROT",
        "24_8_128_128_flow_conv_bilstm64_noROT_noAUG",
        "24_8_128_128_flow_gap",
        "24_8_128_128_flow_gap_bilstm64",
        "24_8_128_128_flow_norm_conv_bilstm64",
        "24_8_128_128_flow_norm_dir_conv_bilstm64",
        "24_8_128_128_flow_norm_dir_gap",
        "24_8_128_128_flow_norm_dir_lstm8_conv_lstm8",
        "24_8_128_128_norm_dir_conv_bilstm64",
        "24_8_128_128_norm_dir_gap",
        "24_8_128_128_norm_dir_gap_bilstm64",
        "24_8_128_128_norm_dir_lstm8_conv_lstm8",
        "results.xlsx"
       ],
       "index": null,
       "layout": "IPY_MODEL_b80b62648c5943cb9ec99e49bbf660d9",
       "rows": 8,
       "style": "IPY_MODEL_592f1a64e06643d7a05ce8e5d9ca4ac6"
      }
     },
     "c1c4689d31784585a764bc4ea9294a95": {
      "model_module": "@jupyter-widgets/base",
      "model_module_version": "1.2.0",
      "model_name": "LayoutModel",
      "state": {
       "width": "auto"
      }
     },
     "c1fd73fd4d214353849406dcb97f3ff4": {
      "model_module": "@jupyter-widgets/controls",
      "model_module_version": "1.5.0",
      "model_name": "DescriptionStyleModel",
      "state": {
       "description_width": ""
      }
     },
     "c3a17947fca3464696b8438be5807db4": {
      "model_module": "@jupyter-widgets/controls",
      "model_module_version": "1.5.0",
      "model_name": "SelectModel",
      "state": {
       "_options_labels": [
        "..",
        "config",
        "history",
        "model",
        "tensorboard_logs",
        "Log_errors.log",
        "model.png",
        "model_summary.txt"
       ],
       "index": null,
       "layout": "IPY_MODEL_c4263b4eea6f464ebb7d2dfd1e600c93",
       "rows": 8,
       "style": "IPY_MODEL_3e09ed9c661a47d2aa95281b30ff2d66"
      }
     },
     "c4263b4eea6f464ebb7d2dfd1e600c93": {
      "model_module": "@jupyter-widgets/base",
      "model_module_version": "1.2.0",
      "model_name": "LayoutModel",
      "state": {
       "grid_area": "dircontent",
       "width": "auto"
      }
     },
     "c51b0b26ba9f48afbe821a740ae75a75": {
      "model_module": "@jupyter-widgets/base",
      "model_module_version": "1.2.0",
      "model_name": "LayoutModel",
      "state": {
       "width": "auto"
      }
     },
     "c57109ea70ba43f89a3ffea9b9ad10f7": {
      "model_module": "@jupyter-widgets/base",
      "model_module_version": "1.2.0",
      "model_name": "LayoutModel",
      "state": {
       "grid_area": "dircontent",
       "width": "auto"
      }
     },
     "c6aae15b33174a2db572199fd6c8ff8f": {
      "model_module": "@jupyter-widgets/controls",
      "model_module_version": "1.5.0",
      "model_name": "DescriptionStyleModel",
      "state": {
       "description_width": ""
      }
     },
     "c7666168d0c843bfb5dbf380de203f1d": {
      "model_module": "@jupyter-widgets/controls",
      "model_module_version": "1.5.0",
      "model_name": "CheckboxModel",
      "state": {
       "description": "run",
       "disabled": false,
       "layout": "IPY_MODEL_053f5bfb4194426490ba2e26308f9d46",
       "style": "IPY_MODEL_b247028e060d417696fe225728e5d35f",
       "value": true
      }
     },
     "c847987cc3f94635a6a5f33736f40a48": {
      "model_module": "@jupyter-widgets/base",
      "model_module_version": "1.2.0",
      "model_name": "LayoutModel",
      "state": {
       "grid_area": "filename",
       "width": "auto"
      }
     },
     "c92ccd0334394f0ab7843fc2ba28183b": {
      "model_module": "@jupyter-widgets/base",
      "model_module_version": "1.2.0",
      "model_name": "LayoutModel",
      "state": {}
     },
     "c95a24eb7368456699291c97c20b847f": {
      "model_module": "@jupyter-widgets/controls",
      "model_module_version": "1.5.0",
      "model_name": "DescriptionStyleModel",
      "state": {
       "description_width": ""
      }
     },
     "c98daed5423745e5bab9a02236408571": {
      "model_module": "@jupyter-widgets/controls",
      "model_module_version": "1.5.0",
      "model_name": "DescriptionStyleModel",
      "state": {
       "description_width": ""
      }
     },
     "cbb34ec752174eb4a3978110cf85ef59": {
      "model_module": "@jupyter-widgets/controls",
      "model_module_version": "1.5.0",
      "model_name": "DescriptionStyleModel",
      "state": {
       "description_width": ""
      }
     },
     "cbc589840f4d4f1bbe8747dd7327fcb3": {
      "model_module": "@jupyter-widgets/controls",
      "model_module_version": "1.5.0",
      "model_name": "DescriptionStyleModel",
      "state": {
       "description_width": ""
      }
     },
     "cdbf2ae076d248878976c3db36ed6583": {
      "model_module": "@jupyter-widgets/base",
      "model_module_version": "1.2.0",
      "model_name": "LayoutModel",
      "state": {}
     },
     "cede43acabbd4f948794643f6e431c68": {
      "model_module": "@jupyter-widgets/base",
      "model_module_version": "1.2.0",
      "model_name": "LayoutModel",
      "state": {
       "grid_area": "pathlist",
       "width": "auto"
      }
     },
     "cf94e62cfa0549f8b4382c9289aae968": {
      "model_module": "@jupyter-widgets/controls",
      "model_module_version": "1.5.0",
      "model_name": "ButtonStyleModel",
      "state": {}
     },
     "d0b7969699594d86ad29c03586c39365": {
      "model_module": "@jupyter-widgets/controls",
      "model_module_version": "1.5.0",
      "model_name": "ButtonModel",
      "state": {
       "description": "Cancel",
       "layout": "IPY_MODEL_1499de0d64d34f58b28c93340343dee8",
       "style": "IPY_MODEL_17ac1f88861d47a49686a84f4743ae15"
      }
     },
     "d0c104e30ade4083968f800ea0d1f893": {
      "model_module": "@jupyter-widgets/controls",
      "model_module_version": "1.5.0",
      "model_name": "DescriptionStyleModel",
      "state": {
       "description_width": ""
      }
     },
     "d1e2b487342e445b814675278fd0d910": {
      "model_module": "@jupyter-widgets/base",
      "model_module_version": "1.2.0",
      "model_name": "LayoutModel",
      "state": {
       "width": "auto"
      }
     },
     "d3759eefe5114fbb971b2a14a1f5d9e2": {
      "model_module": "@jupyter-widgets/base",
      "model_module_version": "1.2.0",
      "model_name": "LayoutModel",
      "state": {
       "grid_area": "filename",
       "width": "auto"
      }
     },
     "d48cee18e0884ebb838dd63914050d92": {
      "model_module": "@jupyter-widgets/base",
      "model_module_version": "1.2.0",
      "model_name": "LayoutModel",
      "state": {
       "grid_area": "pathlist",
       "width": "auto"
      }
     },
     "d5e2d032a11f4ccc955ab1ed7df81de4": {
      "model_module": "@jupyter-widgets/controls",
      "model_module_version": "1.5.0",
      "model_name": "SelectModel",
      "state": {
       "_options_labels": [
        "..",
        "config",
        "history",
        "model",
        "tensorboard_logs",
        "Log_errors.log",
        "model.png",
        "model_summary.txt",
        "results.csv"
       ],
       "index": null,
       "layout": "IPY_MODEL_e2e9c2624c4545ca87cb040e5effee69",
       "rows": 8,
       "style": "IPY_MODEL_c98daed5423745e5bab9a02236408571"
      }
     },
     "d63112c13da24df68c4a783ad28e2f14": {
      "model_module": "@jupyter-widgets/controls",
      "model_module_version": "1.5.0",
      "model_name": "VBoxModel",
      "state": {
       "children": [
        "IPY_MODEL_dfc3093d65d44afbb2d38fd70196b4c6",
        "IPY_MODEL_2486da62fd044da79af9311183339bfa",
        "IPY_MODEL_2b268cbcbed845bf8bef2651949fa310"
       ],
       "layout": "IPY_MODEL_ea3b91a541d44a1faa4d9d1cfc2b6229"
      }
     },
     "d839ffbad1d94133b2996195aeeaa62f": {
      "model_module": "@jupyter-widgets/controls",
      "model_module_version": "1.5.0",
      "model_name": "VBoxModel",
      "state": {
       "children": [
        "IPY_MODEL_820282efc4ae45f7869758581c0e1e98",
        "IPY_MODEL_2f71bfb3520f4b5ea37072b9887ae981",
        "IPY_MODEL_639066c2b1024d90b04e215a15123765"
       ],
       "layout": "IPY_MODEL_5156d04719ec4f979112d089a44dd563"
      }
     },
     "d9014d470355417bbb5e1813ec0e58c3": {
      "model_module": "@jupyter-widgets/controls",
      "model_module_version": "1.5.0",
      "model_name": "HTMLModel",
      "state": {
       "layout": "IPY_MODEL_3a287e5bc9b34ec1afd365e5c777f2ae",
       "style": "IPY_MODEL_d0c104e30ade4083968f800ea0d1f893"
      }
     },
     "d9c726d5baf34541be717eb08735ab88": {
      "model_module": "@jupyter-widgets/controls",
      "model_module_version": "1.5.0",
      "model_name": "HTMLModel",
      "state": {
       "layout": "IPY_MODEL_099b947979fa4922af5d07ed9f4398db",
       "placeholder": "",
       "style": "IPY_MODEL_37d7679f40e5472a845bc2afaf0497f6",
       "value": "<span style=\"margin-left:10px; color:green;\">/mnt/sds/sven/code/dynamic-cmr-models/exp/temp/phase2phase/v3/64_128_128/window1/reg0_001/dmd/NOmask_bugfix_f0/2021-10-01_19_20/</span>"
      }
     },
     "db0996f1c3bb41dba57e4233acc002e2": {
      "model_module": "@jupyter-widgets/controls",
      "model_module_version": "1.5.0",
      "model_name": "ButtonModel",
      "state": {
       "description": "Cancel",
       "layout": "IPY_MODEL_1363a70e6a04418593f277591d399f14",
       "style": "IPY_MODEL_748c062c3afa4f618ed36a5b63da22af"
      }
     },
     "db2fb068fb9a49e0a5c6fae5f47921d2": {
      "model_module": "@jupyter-widgets/output",
      "model_module_version": "1.0.0",
      "model_name": "OutputModel",
      "state": {
       "layout": "IPY_MODEL_2e041717332d4c1e80f899ebc3ce2c5b",
       "outputs": [
        {
         "name": "stderr",
         "output_type": "stream",
         "text": "2021-10-04 09:49:47,516 INFO -------------------- Start --------------------\n2021-10-04 09:49:47,517 INFO Working directory: /mnt/ssd/git/dynamic-cmr-models.\n2021-10-04 09:49:47,519 INFO Log file: ./logs/temp/phase2phase/v3/64_128_128/window1/reg0_001/dmd/NOmask_bugfix_f0.log\n2021-10-04 09:49:47,520 INFO Log level for console: INFO\n2021-10-04 09:49:47,522 INFO Loaded config for experiment: temp/phase2phase/v3/64_128_128/window1/reg0_001/dmd/NOmask_bugfix_f0\n"
        },
        {
         "name": "stdout",
         "output_type": "stream",
         "text": "config given: /mnt/sds/sven/code/dynamic-cmr-models/exp/temp/phase2phase/v3/64_128_128/window1/reg0_001/dmd/NOmask_bugfix_f0/2021-10-01_19_20/config/config.json\n"
        },
        {
         "name": "stderr",
         "output_type": "stream",
         "text": "2021-10-04 09:49:49,131 INFO -------------------- Start --------------------\n2021-10-04 09:49:49,131 INFO Working directory: /mnt/ssd/git/dynamic-cmr-models.\n2021-10-04 09:49:49,131 INFO Log file: temp/phase2phase/v3/64_128_128/window1/reg0_001/dmd/NOmask_bugfix_f0_f0/Log.log\n2021-10-04 09:49:49,132 INFO Log level for console: INFO\n2021-10-04 09:49:49,132 INFO no files found, try to load with clean.nrrd/mask.nrrd pattern\n2021-10-04 09:49:49,132 INFO searched in: /scratch/hd_qz262_job_770184/temp/02_imported_4D_unfiltered/sax/\n2021-10-04 09:49:49,133 INFO no files found, try to load with acdc file pattern\n"
        },
        {
         "name": "stdout",
         "output_type": "stream",
         "text": "['/gpu:0', '/gpu:1']\nusing tensorflow, need to monkey patch\ntf.python.backend.slice overwritten by monkey patch\n"
        },
        {
         "ename": "AssertionError",
         "evalue": "Path: /scratch/hd_qz262_job_770184/temp/02_imported_4D_unfiltered/sax/ does not exist",
         "output_type": "error",
         "traceback": [
          "\u001b[0;31m-------------------------------------------------------------------------\u001b[0m",
          "\u001b[0;31mAssertionError\u001b[0m                          Traceback (most recent call last)",
          "\u001b[0;32m~/anaconda3/envs/dcmr/lib/python3.8/site-packages/ipywidgets/widgets/interaction.py\u001b[0m in \u001b[0;36mupdate\u001b[0;34m(self, *args)\u001b[0m\n\u001b[1;32m    254\u001b[0m                     \u001b[0mvalue\u001b[0m \u001b[0;34m=\u001b[0m \u001b[0mwidget\u001b[0m\u001b[0;34m.\u001b[0m\u001b[0mget_interact_value\u001b[0m\u001b[0;34m(\u001b[0m\u001b[0;34m)\u001b[0m\u001b[0;34m\u001b[0m\u001b[0;34m\u001b[0m\u001b[0m\n\u001b[1;32m    255\u001b[0m                     \u001b[0mself\u001b[0m\u001b[0;34m.\u001b[0m\u001b[0mkwargs\u001b[0m\u001b[0;34m[\u001b[0m\u001b[0mwidget\u001b[0m\u001b[0;34m.\u001b[0m\u001b[0m_kwarg\u001b[0m\u001b[0;34m]\u001b[0m \u001b[0;34m=\u001b[0m \u001b[0mvalue\u001b[0m\u001b[0;34m\u001b[0m\u001b[0;34m\u001b[0m\u001b[0m\n\u001b[0;32m--> 256\u001b[0;31m                 \u001b[0mself\u001b[0m\u001b[0;34m.\u001b[0m\u001b[0mresult\u001b[0m \u001b[0;34m=\u001b[0m \u001b[0mself\u001b[0m\u001b[0;34m.\u001b[0m\u001b[0mf\u001b[0m\u001b[0;34m(\u001b[0m\u001b[0;34m**\u001b[0m\u001b[0mself\u001b[0m\u001b[0;34m.\u001b[0m\u001b[0mkwargs\u001b[0m\u001b[0;34m)\u001b[0m\u001b[0;34m\u001b[0m\u001b[0;34m\u001b[0m\u001b[0m\n\u001b[0m\u001b[1;32m    257\u001b[0m                 \u001b[0mshow_inline_matplotlib_plots\u001b[0m\u001b[0;34m(\u001b[0m\u001b[0;34m)\u001b[0m\u001b[0;34m\u001b[0m\u001b[0;34m\u001b[0m\u001b[0m\n\u001b[1;32m    258\u001b[0m                 \u001b[0;32mif\u001b[0m \u001b[0mself\u001b[0m\u001b[0;34m.\u001b[0m\u001b[0mauto_display\u001b[0m \u001b[0;32mand\u001b[0m \u001b[0mself\u001b[0m\u001b[0;34m.\u001b[0m\u001b[0mresult\u001b[0m \u001b[0;32mis\u001b[0m \u001b[0;32mnot\u001b[0m \u001b[0;32mNone\u001b[0m\u001b[0;34m:\u001b[0m\u001b[0;34m\u001b[0m\u001b[0;34m\u001b[0m\u001b[0m\n",
          "\u001b[0;32m<ipython-input-32-392d4333fe2a>\u001b[0m in \u001b[0;36mcalc_scores\u001b[0;34m(run)\u001b[0m\n\u001b[1;32m     21\u001b[0m             \u001b[0mConsole_and_file_logger\u001b[0m\u001b[0;34m(\u001b[0m\u001b[0mEXPERIMENT\u001b[0m\u001b[0;34m,\u001b[0m \u001b[0mlogging\u001b[0m\u001b[0;34m.\u001b[0m\u001b[0mINFO\u001b[0m\u001b[0;34m)\u001b[0m\u001b[0;34m\u001b[0m\u001b[0;34m\u001b[0m\u001b[0m\n\u001b[1;32m     22\u001b[0m             \u001b[0minfo\u001b[0m\u001b[0;34m(\u001b[0m\u001b[0;34m'Loaded config for experiment: {}'\u001b[0m\u001b[0;34m.\u001b[0m\u001b[0mformat\u001b[0m\u001b[0;34m(\u001b[0m\u001b[0mEXPERIMENT\u001b[0m\u001b[0;34m)\u001b[0m\u001b[0;34m)\u001b[0m\u001b[0;34m\u001b[0m\u001b[0;34m\u001b[0m\u001b[0m\n\u001b[0;32m---> 23\u001b[0;31m         \u001b[0mpred_fold\u001b[0m\u001b[0;34m(\u001b[0m\u001b[0mconfig\u001b[0m\u001b[0;34m)\u001b[0m\u001b[0;34m\u001b[0m\u001b[0;34m\u001b[0m\u001b[0m\n\u001b[0m\u001b[1;32m     24\u001b[0m         \u001b[0mexport_path\u001b[0m \u001b[0;34m=\u001b[0m \u001b[0mexp_path\u001b[0m\u001b[0;34m\u001b[0m\u001b[0;34m\u001b[0m\u001b[0m\n\u001b[1;32m     25\u001b[0m         \u001b[0mcalc_dice\u001b[0m\u001b[0;34m(\u001b[0m\u001b[0mgt_path\u001b[0m\u001b[0;34m,\u001b[0m \u001b[0mpred_path\u001b[0m\u001b[0;34m,\u001b[0m \u001b[0mexp_path\u001b[0m\u001b[0;34m)\u001b[0m\u001b[0;34m\u001b[0m\u001b[0;34m\u001b[0m\u001b[0m\n",
          "\u001b[0;32m/mnt/ssd/git/dynamic-cmr-models/src/models/predict_motion_model.py\u001b[0m in \u001b[0;36mpred_fold\u001b[0;34m(config, debug)\u001b[0m\n\u001b[1;32m     54\u001b[0m     \u001b[0;31m# get kfolded data from DATA_ROOT and subdirectories\u001b[0m\u001b[0;34m\u001b[0m\u001b[0;34m\u001b[0m\u001b[0;34m\u001b[0m\u001b[0m\n\u001b[1;32m     55\u001b[0m     \u001b[0;31m# Load SAX volumes\u001b[0m\u001b[0;34m\u001b[0m\u001b[0;34m\u001b[0m\u001b[0;34m\u001b[0m\u001b[0m\n\u001b[0;32m---> 56\u001b[0;31m     x_train_sax, y_train_sax, x_val_sax, y_val_sax = get_trainings_files(data_path=DATA_PATH_SAX,\n\u001b[0m\u001b[1;32m     57\u001b[0m                                                                          \u001b[0mpath_to_folds_df\u001b[0m\u001b[0;34m=\u001b[0m\u001b[0mDF_FOLDS\u001b[0m\u001b[0;34m,\u001b[0m\u001b[0;34m\u001b[0m\u001b[0;34m\u001b[0m\u001b[0m\n\u001b[1;32m     58\u001b[0m                                                                          fold=FOLD)\n",
          "\u001b[0;32m/mnt/ssd/git/dynamic-cmr-models/src/data/Dataset.py\u001b[0m in \u001b[0;36mget_trainings_files\u001b[0;34m(data_path, fold, path_to_folds_df)\u001b[0m\n\u001b[1;32m    485\u001b[0m     \u001b[0;32mif\u001b[0m \u001b[0mlen\u001b[0m\u001b[0;34m(\u001b[0m\u001b[0mx\u001b[0m\u001b[0;34m)\u001b[0m \u001b[0;34m==\u001b[0m \u001b[0;36m0\u001b[0m\u001b[0;34m:\u001b[0m\u001b[0;34m\u001b[0m\u001b[0;34m\u001b[0m\u001b[0m\n\u001b[1;32m    486\u001b[0m         \u001b[0mlogging\u001b[0m\u001b[0;34m.\u001b[0m\u001b[0minfo\u001b[0m\u001b[0;34m(\u001b[0m\u001b[0;34m'no files found, try to load with acdc file pattern'\u001b[0m\u001b[0;34m)\u001b[0m\u001b[0;34m\u001b[0m\u001b[0;34m\u001b[0m\u001b[0m\n\u001b[0;32m--> 487\u001b[0;31m         \u001b[0mx\u001b[0m\u001b[0;34m,\u001b[0m \u001b[0my\u001b[0m \u001b[0;34m=\u001b[0m \u001b[0mload_acdc_files\u001b[0m\u001b[0;34m(\u001b[0m\u001b[0mdata_path\u001b[0m\u001b[0;34m)\u001b[0m\u001b[0;34m\u001b[0m\u001b[0;34m\u001b[0m\u001b[0m\n\u001b[0m\u001b[1;32m    488\u001b[0m         \u001b[0;32mif\u001b[0m \u001b[0mlen\u001b[0m\u001b[0;34m(\u001b[0m\u001b[0mx\u001b[0m\u001b[0;34m)\u001b[0m \u001b[0;34m==\u001b[0m \u001b[0;36m0\u001b[0m\u001b[0;34m:\u001b[0m\u001b[0;34m\u001b[0m\u001b[0;34m\u001b[0m\u001b[0m\n\u001b[1;32m    489\u001b[0m             \u001b[0mlogging\u001b[0m\u001b[0;34m.\u001b[0m\u001b[0merror\u001b[0m\u001b[0;34m(\u001b[0m\u001b[0;34m'no files found in: {}, try to list all files in this directory:'\u001b[0m\u001b[0;34m.\u001b[0m\u001b[0mformat\u001b[0m\u001b[0;34m(\u001b[0m\u001b[0mdata_path\u001b[0m\u001b[0;34m)\u001b[0m\u001b[0;34m)\u001b[0m\u001b[0;34m\u001b[0m\u001b[0;34m\u001b[0m\u001b[0m\n",
          "\u001b[0;32m/mnt/ssd/git/dynamic-cmr-models/src/data/Dataset.py\u001b[0m in \u001b[0;36mload_acdc_files\u001b[0;34m(path)\u001b[0m\n\u001b[1;32m   1034\u001b[0m     \"\"\"\n\u001b[1;32m   1035\u001b[0m \u001b[0;34m\u001b[0m\u001b[0m\n\u001b[0;32m-> 1036\u001b[0;31m     \u001b[0;32massert\u001b[0m \u001b[0;34m(\u001b[0m\u001b[0mos\u001b[0m\u001b[0;34m.\u001b[0m\u001b[0mpath\u001b[0m\u001b[0;34m.\u001b[0m\u001b[0mexists\u001b[0m\u001b[0;34m(\u001b[0m\u001b[0mpath\u001b[0m\u001b[0;34m)\u001b[0m\u001b[0;34m)\u001b[0m\u001b[0;34m,\u001b[0m \u001b[0;34m'Path: {} does not exist'\u001b[0m\u001b[0;34m.\u001b[0m\u001b[0mformat\u001b[0m\u001b[0;34m(\u001b[0m\u001b[0mpath\u001b[0m\u001b[0;34m)\u001b[0m\u001b[0;34m\u001b[0m\u001b[0;34m\u001b[0m\u001b[0m\n\u001b[0m\u001b[1;32m   1037\u001b[0m \u001b[0;34m\u001b[0m\u001b[0m\n\u001b[1;32m   1038\u001b[0m     \u001b[0mimages\u001b[0m \u001b[0;34m=\u001b[0m \u001b[0msorted\u001b[0m\u001b[0;34m(\u001b[0m\u001b[0mglob\u001b[0m\u001b[0;34m.\u001b[0m\u001b[0mglob\u001b[0m\u001b[0;34m(\u001b[0m\u001b[0mos\u001b[0m\u001b[0;34m.\u001b[0m\u001b[0mpath\u001b[0m\u001b[0;34m.\u001b[0m\u001b[0mjoin\u001b[0m\u001b[0;34m(\u001b[0m\u001b[0mpath\u001b[0m\u001b[0;34m,\u001b[0m \u001b[0;34m'**/*frame[0-9][0-9].nii.gz'\u001b[0m\u001b[0;34m)\u001b[0m\u001b[0;34m)\u001b[0m\u001b[0;34m)\u001b[0m\u001b[0;34m\u001b[0m\u001b[0;34m\u001b[0m\u001b[0m\n",
          "\u001b[0;31mAssertionError\u001b[0m: Path: /scratch/hd_qz262_job_770184/temp/02_imported_4D_unfiltered/sax/ does not exist"
         ]
        }
       ]
      }
     },
     "db710a7c5c714e9788d3b071a8e027bd": {
      "model_module": "@jupyter-widgets/base",
      "model_module_version": "1.2.0",
      "model_name": "LayoutModel",
      "state": {
       "display": "none",
       "grid_gap": "0px 0px",
       "grid_template_areas": "\n                    'pathlist filename'\n                    'dircontent dircontent'\n                    ",
       "grid_template_columns": "60% 40%",
       "grid_template_rows": "auto auto",
       "width": "500px"
      }
     },
     "ddd3a9cbc44f45088c86a6f49d82104d": {
      "model_module": "@jupyter-widgets/controls",
      "model_module_version": "1.5.0",
      "model_name": "TextModel",
      "state": {
       "layout": "IPY_MODEL_d3759eefe5114fbb971b2a14a1f5d9e2",
       "placeholder": "output filename",
       "style": "IPY_MODEL_ff8d06ffa7db40d2891197b0af671157"
      }
     },
     "dfbc120299e84be49fba2346fba61f2d": {
      "model_module": "@jupyter-widgets/base",
      "model_module_version": "1.2.0",
      "model_name": "LayoutModel",
      "state": {
       "grid_area": "pathlist",
       "width": "auto"
      }
     },
     "dfc3093d65d44afbb2d38fd70196b4c6": {
      "model_module": "@jupyter-widgets/controls",
      "model_module_version": "1.5.0",
      "model_name": "HTMLModel",
      "state": {
       "layout": "IPY_MODEL_3683886a8844478ca0f5248a462ea894",
       "style": "IPY_MODEL_0fad0d9350ec4befbee4583fdd76f044"
      }
     },
     "e2e9c2624c4545ca87cb040e5effee69": {
      "model_module": "@jupyter-widgets/base",
      "model_module_version": "1.2.0",
      "model_name": "LayoutModel",
      "state": {
       "grid_area": "dircontent",
       "width": "auto"
      }
     },
     "e6490bbf60954b35b25328fedc7fa4f0": {
      "model_module": "@jupyter-widgets/controls",
      "model_module_version": "1.5.0",
      "model_name": "SelectModel",
      "state": {
       "_options_labels": [
        "..",
        "phase2phase"
       ],
       "index": null,
       "layout": "IPY_MODEL_c57109ea70ba43f89a3ffea9b9ad10f7",
       "rows": 8,
       "style": "IPY_MODEL_cbc589840f4d4f1bbe8747dd7327fcb3"
      }
     },
     "e6d11eb91cbf4f0992eb07ab9734456b": {
      "model_module": "@jupyter-widgets/controls",
      "model_module_version": "1.5.0",
      "model_name": "ButtonModel",
      "state": {
       "description": "Select",
       "layout": "IPY_MODEL_fd0b363c47684d53bdec38846386552b",
       "style": "IPY_MODEL_cf94e62cfa0549f8b4382c9289aae968"
      }
     },
     "e792e82a9b694beea82981c125b9dcec": {
      "model_module": "@jupyter-widgets/base",
      "model_module_version": "1.2.0",
      "model_name": "LayoutModel",
      "state": {
       "display": "none",
       "width": "auto"
      }
     },
     "ea3b91a541d44a1faa4d9d1cfc2b6229": {
      "model_module": "@jupyter-widgets/base",
      "model_module_version": "1.2.0",
      "model_name": "LayoutModel",
      "state": {
       "width": "auto"
      }
     },
     "ef8a0affb75a42998c1e843d78de688f": {
      "model_module": "@jupyter-widgets/base",
      "model_module_version": "1.2.0",
      "model_name": "LayoutModel",
      "state": {
       "grid_area": "pathlist",
       "width": "auto"
      }
     },
     "f4a7960b6d954f368834e7295e054d3e": {
      "model_module": "@jupyter-widgets/base",
      "model_module_version": "1.2.0",
      "model_name": "LayoutModel",
      "state": {
       "width": "auto"
      }
     },
     "f5cc7ced6b80401cbbbdce7bfccdb3ad": {
      "model_module": "@jupyter-widgets/controls",
      "model_module_version": "1.5.0",
      "model_name": "DescriptionStyleModel",
      "state": {
       "description_width": ""
      }
     },
     "f99d02f752154bc495fb7e2b8ddd87d2": {
      "model_module": "@jupyter-widgets/controls",
      "model_module_version": "1.5.0",
      "model_name": "ButtonModel",
      "state": {
       "description": "Change",
       "layout": "IPY_MODEL_a898f8aef5954de0bf4aceffed0876fb",
       "style": "IPY_MODEL_b7373ce6108043fa8987e2eee6e4ce01"
      }
     },
     "fa0993415aab40e8a9e5782c0c3736d8": {
      "model_module": "@jupyter-widgets/controls",
      "model_module_version": "1.5.0",
      "model_name": "HTMLModel",
      "state": {
       "layout": "IPY_MODEL_0130bf2660654e738c48492b3adaabfc",
       "style": "IPY_MODEL_4c9916ca30364ae895b62447312b9da9"
      }
     },
     "faf35e16df95496b85c87dfc5f64e00e": {
      "model_module": "@jupyter-widgets/base",
      "model_module_version": "1.2.0",
      "model_name": "LayoutModel",
      "state": {
       "width": "auto"
      }
     },
     "fd0b363c47684d53bdec38846386552b": {
      "model_module": "@jupyter-widgets/base",
      "model_module_version": "1.2.0",
      "model_name": "LayoutModel",
      "state": {
       "width": "auto"
      }
     },
     "ff2001756d1b4c17a7c20ad0fbd200ae": {
      "model_module": "@jupyter-widgets/controls",
      "model_module_version": "1.5.0",
      "model_name": "ButtonModel",
      "state": {
       "description": "Select",
       "layout": "IPY_MODEL_321f9848389e4b8983c2e4891a77071c",
       "style": "IPY_MODEL_86a373b4b4024070a34ebc10579adb04"
      }
     },
     "ff2fd80672ce4d5f8372114654ddb54b": {
      "model_module": "@jupyter-widgets/controls",
      "model_module_version": "1.5.0",
      "model_name": "ButtonModel",
      "state": {
       "description": "Cancel",
       "layout": "IPY_MODEL_d1e2b487342e445b814675278fd0d910",
       "style": "IPY_MODEL_a5d6b96048cc4b9c9604664d7b800dc9"
      }
     },
     "ff8d06ffa7db40d2891197b0af671157": {
      "model_module": "@jupyter-widgets/controls",
      "model_module_version": "1.5.0",
      "model_name": "DescriptionStyleModel",
      "state": {
       "description_width": ""
      }
     },
     "ffec9af6b08047d6bdb614f955544388": {
      "model_module": "@jupyter-widgets/controls",
      "model_module_version": "1.5.0",
      "model_name": "DropdownModel",
      "state": {
       "_options_labels": [
        "/mnt/sds/sven/code/dynamic-cmr-models/exp/temp/phase2phase/v3/64_128_128/window1/reg0_001/dmd/NOmask_bugfix_f0/2021-10-01_19_20",
        "/mnt/sds/sven/code/dynamic-cmr-models/exp/temp/phase2phase/v3/64_128_128/window1/reg0_001/dmd/NOmask_bugfix_f0",
        "/mnt/sds/sven/code/dynamic-cmr-models/exp/temp/phase2phase/v3/64_128_128/window1/reg0_001/dmd",
        "/mnt/sds/sven/code/dynamic-cmr-models/exp/temp/phase2phase/v3/64_128_128/window1/reg0_001",
        "/mnt/sds/sven/code/dynamic-cmr-models/exp/temp/phase2phase/v3/64_128_128/window1",
        "/mnt/sds/sven/code/dynamic-cmr-models/exp/temp/phase2phase/v3/64_128_128",
        "/mnt/sds/sven/code/dynamic-cmr-models/exp/temp/phase2phase/v3",
        "/mnt/sds/sven/code/dynamic-cmr-models/exp/temp/phase2phase",
        "/mnt/sds/sven/code/dynamic-cmr-models/exp/temp",
        "/mnt/sds/sven/code/dynamic-cmr-models/exp",
        "/mnt/sds/sven/code/dynamic-cmr-models",
        "/mnt/sds/sven/code",
        "/mnt/sds/sven",
        "/mnt/sds",
        "/mnt",
        "/"
       ],
       "index": 0,
       "layout": "IPY_MODEL_ef8a0affb75a42998c1e843d78de688f",
       "style": "IPY_MODEL_793605e79d7044bcbd0a1a8ef782c424"
      }
     }
    },
    "version_major": 2,
    "version_minor": 0
   }
  }
 },
 "nbformat": 4,
 "nbformat_minor": 5
}
