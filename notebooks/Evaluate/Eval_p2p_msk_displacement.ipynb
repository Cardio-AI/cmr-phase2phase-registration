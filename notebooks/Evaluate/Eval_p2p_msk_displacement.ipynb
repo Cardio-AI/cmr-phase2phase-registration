{
 "cells": [
  {
   "cell_type": "code",
   "execution_count": 1,
   "id": "5df27ee1",
   "metadata": {},
   "source": [
    "# define logging and working directory\n",
    "# ------------------------------------------\n",
    "from ProjectRoot import change_wd_to_project_root\n",
    "change_wd_to_project_root()\n",
    "# jupyter magic config\n",
    "# ------------------------------------------\n",
    "%matplotlib inline\n",
    "%reload_ext autoreload\n",
    "%autoreload 2\n",
    "# this should import glob, os, and many other standard libs\n",
    "# ------------------------------------------ \n",
    "from src.utils.Notebook_imports import *\n",
    "# local imports\n",
    "# ------------------------------------------ \n",
    "from src.utils.Utils_io import Console_and_file_logger, init_config\n",
    "# import external libs\n",
    "# ------------------------------------------ \n",
    "import pandas as pd\n",
    "import numpy as np\n",
    "from ipyfilechooser import FileChooser\n",
    "import glob\n",
    "import os"
   ],
   "outputs": []
  },
  {
   "cell_type": "code",
   "execution_count": 3,
   "id": "795e42d3",
   "metadata": {
    "tags": []
   },
   "source": [
    "# predict and \n",
    "# evaluate / calc dice and hd\n",
    "from src.models.Evaluate_moved_myo import calc_dice\n",
    "from src.models.predict_motion_model import pred_fold\n",
    "import os\n",
    "sds_storage = '/mnt/sds/sven/code/dynamic-cmr-models/exp/temp/phase2phase/v3/64_128_128/window1/reg0_001/'\n",
    "data_root = '/mnt/ssd/data/dmd/02_imported_4D_unfiltered/'\n",
    "fchooser = FileChooser(sds_storage, '')\n",
    "display(fchooser)\n",
    "@interact\n",
    "def calc_scores(run=False):\n",
    "    if run:\n",
    "        exp_path = fchooser.selected\n",
    "        gt_path = os.path.join(exp_path, 'gt_m')\n",
    "        pred_path = os.path.join(exp_path, 'pred_m')\n",
    "        cfg_file = os.path.join(exp_path,'config/config.json')\n",
    "        print('config given: {}'.format(cfg_file))\n",
    "        # load the experiment config\n",
    "        with open(cfg_file, encoding='utf-8') as data_file:\n",
    "            config = json.loads(data_file.read())\n",
    "\n",
    "            EXPERIMENT = config.get('EXPERIMENT', 'UNDEFINED')\n",
    "            Console_and_file_logger(EXPERIMENT, logging.INFO)\n",
    "            config['MODEL_PATH'] = os.path.join(exp_path, 'model/')\n",
    "            config['EXP_PATH'] = exp_path\n",
    "            config['DATA_PATH_SAX'] = os.path.join(data_root, 'sax')\n",
    "            config['DF_FOLDS'] = os.path.join(data_root, 'df_kfold.csv')\n",
    "            config['DF_META'] = os.path.join(data_root, 'SAx_3D_dicomTags_phase.csv')\n",
    "            info('Loaded config for experiment: {}'.format(EXPERIMENT))\n",
    "        pred_fold(config) # that way we predict and evaluate, because of a previous prediction bug\n",
    "        if not os.path.exists(pred_path):\n",
    "            print('prediction')\n",
    "        calc_dice(gt_path, pred_path, exp_path)"
   ],
   "outputs": []
  },
  {
   "cell_type": "code",
   "execution_count": 4,
   "id": "f8db1050",
   "metadata": {},
   "source": [
    "df_files = ['/mnt/sds/sven/code/dynamic-cmr-models/exp/temp/phase2phase/v3/64_128_128/window1/reg0_001/dmd/smoothmyo_mloss001_f0/2021-10-08_16_18/', \n",
    "           '/mnt/sds/sven/code/dynamic-cmr-models/exp/temp/phase2phase/v3/64_128_128/window1/reg0_001/dmd/smoothmyo_mloss001_f1/2021-10-08_20_55/',\n",
    "           '/mnt/sds/sven/code/dynamic-cmr-models/exp/temp/phase2phase/v3/64_128_128/window1/reg0_001/dmd/smoothmyo_mloss001_f2/2021-10-09_00_47/',\n",
    "           '/mnt/sds/sven/code/dynamic-cmr-models/exp/temp/phase2phase/v3/64_128_128/window1/reg0_001/dmd/smoothmyo_mloss001_f3/2021-10-09_02_54/']\n",
    "\n",
    "dfs = [pd.read_csv(os.path.join(f,'results.csv')) for f in df_files]"
   ],
   "outputs": []
  },
  {
   "cell_type": "code",
   "execution_count": 5,
   "id": "b557ddd2",
   "metadata": {},
   "source": [
    "df = pd.concat(dfs)"
   ],
   "outputs": []
  },
  {
   "cell_type": "code",
   "execution_count": 6,
   "id": "b7c4e04a",
   "metadata": {},
   "source": [
    "import seaborn as sb\n",
    "g = sb.violinplot(x='phase', y='dice', data=df[['patient', 'phase', 'dice']])\n",
    "g.set(ylim=(0,1))"
   ],
   "outputs": []
  },
  {
   "cell_type": "code",
   "execution_count": 7,
   "id": "c7599330",
   "metadata": {},
   "source": [
    "g = sb.violinplot(x='phase', y='hd', data=df[['patient', 'phase', 'hd']])\n",
    "g.set(ylim=(0, 25))"
   ],
   "outputs": []
  },
  {
   "cell_type": "code",
   "execution_count": 18,
   "id": "124a5a9b",
   "metadata": {},
   "source": [
    "# mean\n",
    "df.groupby('phase').mean().style.highlight_min(color = 'lightgreen', axis = 0, subset=['hd']).highlight_max(color = 'lightgreen', axis = 0, subset=['dice'])"
   ],
   "outputs": []
  },
  {
   "cell_type": "code",
   "execution_count": 19,
   "id": "54e68ff2",
   "metadata": {},
   "source": [
    "# median\n",
    "df.groupby('phase').median().style.highlight_min(color = 'lightgreen', axis = 0, subset=['hd']).highlight_max(color = 'lightgreen', axis = 0, subset=['dice'])"
   ],
   "outputs": []
  },
  {
   "cell_type": "code",
   "execution_count": 20,
   "id": "393ed3b6",
   "metadata": {},
   "source": [
    "# std\n",
    "df.groupby('phase').std().style.highlight_min(color = 'lightgreen', axis = 0, subset=['hd']).highlight_max(color = 'lightgreen', axis = 0, subset=['dice'])"
   ],
   "outputs": []
  },
  {
   "cell_type": "code",
   "execution_count": 28,
   "id": "0e99fcd8",
   "metadata": {},
   "source": [
    "# fast reverse compose test\n",
    "temp = [0,1,2,3,4]\n",
    "[list(reversed(temp[:i])) for i in range(2, len(temp) + 1)]"
   ],
   "outputs": []
  },
  {
   "cell_type": "code",
   "execution_count": null,
   "id": "5b755cbc",
   "metadata": {},
   "source": [],
   "outputs": []
  }
 ],
 "metadata": {
  "kernelspec": {
   "display_name": "dcmr",
   "language": "python",
   "name": "dcmr"
  },
  "language_info": {
   "codemirror_mode": {
    "name": "ipython",
    "version": 3
   },
   "file_extension": ".py",
   "mimetype": "text/x-python",
   "name": "python",
   "nbconvert_exporter": "python",
   "pygments_lexer": "ipython3",
   "version": "3.8.5"
  },
  "widgets": {
   "application/vnd.jupyter.widget-state+json": {
    "state": {},
    "version_major": 2,
    "version_minor": 0
   }
  }
 },
 "nbformat": 4,
 "nbformat_minor": 5
}
