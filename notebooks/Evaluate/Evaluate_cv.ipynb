{
 "cells": [
  {
   "cell_type": "code",
   "execution_count": 1,
   "metadata": {},
   "outputs": [
    {
     "name": "stdout",
     "output_type": "stream",
     "text": [
      "search for root_dir and set working directory\n",
      "Working directory set to: /mnt/ssd/git/dynamic-cmr-models\n"
     ]
    }
   ],
   "source": [
    "# ------------------------------------------define logging and working directory\n",
    "from ProjectRoot import change_wd_to_project_root\n",
    "change_wd_to_project_root()\n",
    "# ------------------------------------------jupyter magic config\n",
    "%matplotlib inline\n",
    "%reload_ext autoreload\n",
    "%autoreload 2\n",
    "# ------------------------------------------ import helpers\n",
    "# this should import glob, os, and many other standard libs\n",
    "# local imports\n",
    "from src.utils.Notebook_imports import *\n",
    "from src.utils.Utils_io import Console_and_file_logger, init_config\n",
    "\n",
    "import pandas as pd\n",
    "import numpy as np\n",
    "from ipyfilechooser import FileChooser\n",
    "import glob\n",
    "import os\n"
   ]
  },
  {
   "cell_type": "code",
   "execution_count": 2,
   "metadata": {},
   "outputs": [
    {
     "data": {
      "application/vnd.jupyter.widget-view+json": {
       "model_id": "b02f7614e5ed4353acee45bfd2fd87df",
       "version_major": 2,
       "version_minor": 0
      },
      "text/plain": [
       "FileChooser(path='/mnt/ssd/git/dynamic-cmr-models/exp/cv_baseline_taug10', filename='', title='HTML(value='', …"
      ]
     },
     "metadata": {},
     "output_type": "display_data"
    }
   ],
   "source": [
    "# choose the pre folder\n",
    "fchooser = FileChooser(os.path.join(os.getcwd(),'exp/cv_baseline_taug10'), '')\n",
    "display(fchooser)"
   ]
  },
  {
   "cell_type": "code",
   "execution_count": 22,
   "metadata": {},
   "outputs": [],
   "source": [
    "fchooser.selected\n",
    "all_pred_files = sorted(glob.glob('{}/**/*.npy'.format(fchooser.selected), recursive=True))"
   ]
  },
  {
   "cell_type": "code",
   "execution_count": 23,
   "metadata": {},
   "outputs": [
    {
     "name": "stdout",
     "output_type": "stream",
     "text": [
      "4\n"
     ]
    },
    {
     "data": {
      "text/plain": [
       "['/mnt/ssd/git/dynamic-cmr-models/exp/local/miccai_baseline/miccai_baseline_f0/2021-05-10_12_03/pred/gtpred_fold0.npy',\n",
       " '/mnt/ssd/git/dynamic-cmr-models/exp/local/miccai_baseline/miccai_baseline_f1/2021-05-10_12_54/pred/gtpred_fold1.npy',\n",
       " '/mnt/ssd/git/dynamic-cmr-models/exp/local/miccai_baseline/miccai_baseline_f2/2021-05-10_13_37/pred/gtpred_fold2.npy',\n",
       " '/mnt/ssd/git/dynamic-cmr-models/exp/local/miccai_baseline/miccai_baseline_f3/2021-05-10_14_21/pred/gtpred_fold3.npy']"
      ]
     },
     "execution_count": 23,
     "metadata": {},
     "output_type": "execute_result"
    }
   ],
   "source": [
    "print(len(all_pred_files))\n",
    "all_pred_files"
   ]
  },
  {
   "cell_type": "code",
   "execution_count": 24,
   "metadata": {},
   "outputs": [],
   "source": [
    "# Load the numpy files\n",
    "preds = list(map(lambda x : np.load(x), all_pred_files))"
   ]
  },
  {
   "cell_type": "code",
   "execution_count": 25,
   "metadata": {},
   "outputs": [
    {
     "name": "stdout",
     "output_type": "stream",
     "text": [
      "(2, 278, 2, 36, 5)\n"
     ]
    }
   ],
   "source": [
    "# stack the numpy files\n",
    "preds = np.concatenate(preds, axis=1)\n",
    "print(preds.shape)"
   ]
  },
  {
   "cell_type": "code",
   "execution_count": 26,
   "metadata": {},
   "outputs": [
    {
     "data": {
      "text/plain": [
       "(278, 5)"
      ]
     },
     "execution_count": 26,
     "metadata": {},
     "output_type": "execute_result"
    }
   ],
   "source": [
    "# calculate the mean differences\n",
    "from src.utils.Metrics import meandiff\n",
    "res = meandiff(preds[0], preds[1], apply_sum=False, apply_average=False)\n",
    "phases = ['ED', 'MS', 'ES', 'PF', 'MD']\n",
    "df = pd.DataFrame(res.numpy(), columns=phases)\n",
    "df.shape"
   ]
  },
  {
   "cell_type": "markdown",
   "metadata": {},
   "source": [
    "# Error per Phase"
   ]
  },
  {
   "cell_type": "code",
   "execution_count": 27,
   "metadata": {},
   "outputs": [
    {
     "name": "stdout",
     "output_type": "stream",
     "text": [
      "Mean per phase: \n",
      "ED    0.794964\n",
      "MS    0.651079\n",
      "ES    0.647482\n",
      "PF    0.647482\n",
      "MD    0.956835\n",
      "dtype: float32\n",
      "Median per phase: \n",
      "ED    1.0\n",
      "MS    1.0\n",
      "ES    0.0\n",
      "PF    1.0\n",
      "MD    1.0\n",
      "dtype: float32\n",
      "Std per phase: \n",
      "ED    0.948708\n",
      "MS    0.795190\n",
      "ES    0.989937\n",
      "PF    0.809361\n",
      "MD    1.060417\n",
      "dtype: float32\n",
      "Mean overall: \n",
      "0.7395683526992798\n",
      "Median overall: \n",
      "1.0\n",
      "Std overall: \n",
      "0.9329013228416443\n",
      "sum per cycle mean: \n",
      "3.6978416442871094\n",
      "sum per cycle std: \n",
      "2.3904926776885986\n"
     ]
    }
   ],
   "source": [
    "print('Mean per phase: \\n{}'.format(df.mean(axis=0)))\n",
    "print('Median per phase: \\n{}'.format(df.median(axis=0)))\n",
    "print('Std per phase: \\n{}'.format(df.std(axis=0)))\n",
    "\n",
    "print('Mean overall: \\n{}'.format(df.values.mean()))\n",
    "print('Median overall: \\n{}'.format(np.median(df.values)))\n",
    "print('Std overall: \\n{}'.format(df.values.std()))\n",
    "\n",
    "print('sum per cycle mean: \\n{}'.format(np.mean(df.sum(axis=1))))\n",
    "print('sum per cycle std: \\n{}'.format(np.std(df.sum(axis=1))))"
   ]
  },
  {
   "cell_type": "code",
   "execution_count": 15,
   "metadata": {},
   "outputs": [
    {
     "data": {
      "image/png": "[encoded data removed]",
      "text/plain": [
       "<Figure size 576x360 with 1 Axes>"
      ]
     },
     "metadata": {
      "needs_background": "light"
     },
     "output_type": "display_data"
    }
   ],
   "source": [
    "import seaborn as sb\n",
    "sb.set_context('paper')\n",
    "f = plt.figure(figsize=(8,5))\n",
    "ax = f.gca()\n",
    "ax.set_ylim(bottom=0, top=6)\n",
    "ax.set_ylabel('Cardiac phases')\n",
    "ax.set_xlabel('Cycle error')\n",
    "#_ = DF_METADATA[phases].plot(kind='violin'),\n",
    "sb.violinplot(data=df, orient='v', ax = ax)\n",
    "sb.pointplot(data=df, orient='v', ax = ax, estimator=np.mean,color=\"black\", markers=\"o\", ci=None,join=False)\n",
    "sb.pointplot(data=df, orient='v', ax = ax, estimator=np.median,color=\"black\", markers=\"_\", ci=None,join=False)\n",
    "plt.grid()\n",
    "plt.savefig('bestphase')\n"
   ]
  },
  {
   "cell_type": "markdown",
   "metadata": {},
   "source": [
    "# Error per cardiac cycle"
   ]
  },
  {
   "cell_type": "code",
   "execution_count": 47,
   "metadata": {},
   "outputs": [],
   "source": [
    "dfno = df"
   ]
  },
  {
   "cell_type": "code",
   "execution_count": 48,
   "metadata": {},
   "outputs": [
    {
     "data": {
      "text/plain": [
       "(278, 5)"
      ]
     },
     "execution_count": 48,
     "metadata": {},
     "output_type": "execute_result"
    }
   ],
   "source": [
    "dfno.shape"
   ]
  },
  {
   "cell_type": "code",
   "execution_count": 60,
   "metadata": {},
   "outputs": [],
   "source": [
    "df1 = df\n",
    "df_save = df1"
   ]
  },
  {
   "cell_type": "code",
   "execution_count": 57,
   "metadata": {},
   "outputs": [
    {
     "data": {
      "text/plain": [
       "(278, 5)"
      ]
     },
     "execution_count": 57,
     "metadata": {},
     "output_type": "execute_result"
    }
   ],
   "source": [
    "df1.shape"
   ]
  },
  {
   "cell_type": "code",
   "execution_count": 58,
   "metadata": {},
   "outputs": [
    {
     "data": {
      "text/plain": [
       "(278, 6)"
      ]
     },
     "execution_count": 58,
     "metadata": {},
     "output_type": "execute_result"
    }
   ],
   "source": [
    "df1['exp'] = 3\n",
    "df1.shape"
   ]
  },
  {
   "cell_type": "code",
   "execution_count": 59,
   "metadata": {},
   "outputs": [
    {
     "data": {
      "text/plain": [
       "(278, 6)"
      ]
     },
     "execution_count": 59,
     "metadata": {},
     "output_type": "execute_result"
    }
   ],
   "source": [
    "dfno['exp'] = 0\n",
    "dfno.shape"
   ]
  },
  {
   "cell_type": "code",
   "execution_count": 62,
   "metadata": {},
   "outputs": [],
   "source": [
    "df_mege = df1.append(dfno)"
   ]
  },
  {
   "cell_type": "code",
   "execution_count": 63,
   "metadata": {},
   "outputs": [
    {
     "data": {
      "text/plain": [
       "(556, 6)"
      ]
     },
     "execution_count": 63,
     "metadata": {},
     "output_type": "execute_result"
    }
   ],
   "source": [
    "df_mege.shape"
   ]
  },
  {
   "cell_type": "code",
   "execution_count": 64,
   "metadata": {},
   "outputs": [],
   "source": [
    "df = df_mege"
   ]
  },
  {
   "cell_type": "code",
   "execution_count": null,
   "metadata": {},
   "outputs": [],
   "source": []
  },
  {
   "cell_type": "code",
   "execution_count": null,
   "metadata": {},
   "outputs": [],
   "source": []
  },
  {
   "cell_type": "code",
   "execution_count": 30,
   "metadata": {},
   "outputs": [
    {
     "data": {
      "text/plain": [
       "0      1.0\n",
       "1      2.0\n",
       "2      1.0\n",
       "3      1.0\n",
       "4      0.0\n",
       "      ... \n",
       "273    1.0\n",
       "274    1.0\n",
       "275    0.0\n",
       "276    1.0\n",
       "277    0.0\n",
       "Length: 278, dtype: float64"
      ]
     },
     "execution_count": 30,
     "metadata": {},
     "output_type": "execute_result"
    }
   ],
   "source": [
    "df.median(axis=1)"
   ]
  },
  {
   "cell_type": "code",
   "execution_count": 11,
   "metadata": {},
   "outputs": [
    {
     "data": {
      "image/png": "[encoded data removed]",
      "text/plain": [
       "<Figure size 144x360 with 1 Axes>"
      ]
     },
     "metadata": {
      "needs_background": "light"
     },
     "output_type": "display_data"
    }
   ],
   "source": [
    "import seaborn as sb\n",
    "sb.set_context('paper')\n",
    "f = plt.figure(figsize=(2,5))\n",
    "ax = f.gca()\n",
    "ax.set_ylabel('Cardiac phases')\n",
    "ax.set_xlabel('Cycle error')\n",
    "temp = df.sum(axis=1)\n",
    "sb.violinplot(data=temp, orient='v', ax = ax)\n",
    "#sb.scatterplot(data=temp, ax=ax)\n",
    "sb.pointplot(data=temp, orient='v', ax = ax, estimator=np.mean,color=\"black\", markers=\"o\", ci=None,join=False)\n",
    "sb.pointplot(data=temp, orient='v', ax = ax, estimator=np.median,color=\"black\", markers=\"_\", ci=None,join=False)\n",
    "plt.grid()\n",
    "plt.show()"
   ]
  },
  {
   "cell_type": "code",
   "execution_count": null,
   "metadata": {},
   "outputs": [],
   "source": []
  }
 ],
 "metadata": {
  "kernelspec": {
   "display_name": "dcmr",
   "language": "python",
   "name": "dcmr"
  },
  "language_info": {
   "codemirror_mode": {
    "name": "ipython",
    "version": 3
   },
   "file_extension": ".py",
   "mimetype": "text/x-python",
   "name": "python",
   "nbconvert_exporter": "python",
   "pygments_lexer": "ipython3",
   "version": "3.8.5"
  },
  "widgets": {
   "application/vnd.jupyter.widget-state+json": {
    "state": {
     "07e9aa2dfd4a4bec86c1086449e5ba7e": {
      "model_module": "@jupyter-widgets/base",
      "model_module_version": "1.2.0",
      "model_name": "LayoutModel",
      "state": {
       "grid_area": "pathlist",
       "width": "auto"
      }
     },
     "1e6dbc9c17b440c0af37e88482f6eebe": {
      "model_module": "@jupyter-widgets/base",
      "model_module_version": "1.2.0",
      "model_name": "LayoutModel",
      "state": {
       "width": "auto"
      }
     },
     "30a0f8947be942578e279ffaed459992": {
      "model_module": "@jupyter-widgets/base",
      "model_module_version": "1.2.0",
      "model_name": "LayoutModel",
      "state": {
       "grid_area": "filename",
       "width": "auto"
      }
     },
     "3890fbc1e861432fae447ab5d343cf16": {
      "model_module": "@jupyter-widgets/controls",
      "model_module_version": "1.5.0",
      "model_name": "ButtonModel",
      "state": {
       "description": "Change",
       "layout": "IPY_MODEL_e5c6a339585b458aba8f397159d6d6ed",
       "style": "IPY_MODEL_eec46c82c8ca42f8b9cab121c5deea3a"
      }
     },
     "3e5069dc32bb4ec2a976013104bd0058": {
      "model_module": "@jupyter-widgets/base",
      "model_module_version": "1.2.0",
      "model_name": "LayoutModel",
      "state": {
       "width": "auto"
      }
     },
     "489bbe2e128c4f379dd2dac2d4c064ff": {
      "model_module": "@jupyter-widgets/controls",
      "model_module_version": "1.5.0",
      "model_name": "GridBoxModel",
      "state": {
       "children": [
        "IPY_MODEL_b870fb7022ac49018ed75fd95a0134d0",
        "IPY_MODEL_f8de854883d5417abced36fd59cdc3dc",
        "IPY_MODEL_e068b6c07e884f019d4ddc296041a419"
       ],
       "layout": "IPY_MODEL_e85a32f285804ec593ed4f98e6021096"
      }
     },
     "4b3c0675db4f435482e21fb18ad30741": {
      "model_module": "@jupyter-widgets/controls",
      "model_module_version": "1.5.0",
      "model_name": "VBoxModel",
      "state": {
       "children": [
        "IPY_MODEL_c4986dee8a614fa8a9c6b276dafc5118",
        "IPY_MODEL_489bbe2e128c4f379dd2dac2d4c064ff",
        "IPY_MODEL_a40c9210d594419aba790e588aff2d64"
       ],
       "layout": "IPY_MODEL_1e6dbc9c17b440c0af37e88482f6eebe"
      }
     },
     "5482105ddb834027a3df573f68145302": {
      "model_module": "@jupyter-widgets/base",
      "model_module_version": "1.2.0",
      "model_name": "LayoutModel",
      "state": {
       "display": "none",
       "width": "auto"
      }
     },
     "5520ec34bff6422fb67044efb9d8e9dc": {
      "model_module": "@jupyter-widgets/controls",
      "model_module_version": "1.5.0",
      "model_name": "DescriptionStyleModel",
      "state": {
       "description_width": ""
      }
     },
     "7e1dafbe0a394503a95a6bbcbb3c55a9": {
      "model_module": "@jupyter-widgets/controls",
      "model_module_version": "1.5.0",
      "model_name": "HTMLModel",
      "state": {
       "layout": "IPY_MODEL_f12ce797647544709ee9c33c372e8151",
       "placeholder": "",
       "style": "IPY_MODEL_5520ec34bff6422fb67044efb9d8e9dc",
       "value": "<span style=\"margin-left:10px; color:green;\">/mnt/sds/sd20i001/sven/code/dynamic-cmr-models/exp/miccai/trainWork_32_full_f0/2021-05-08_10_06/pred/</span>"
      }
     },
     "864d79da69714588954b7081d3f8be6e": {
      "model_module": "@jupyter-widgets/controls",
      "model_module_version": "1.5.0",
      "model_name": "DescriptionStyleModel",
      "state": {
       "description_width": ""
      }
     },
     "8fe943fb66fd4a808e5ad605dbc9d028": {
      "model_module": "@jupyter-widgets/base",
      "model_module_version": "1.2.0",
      "model_name": "LayoutModel",
      "state": {
       "display": "none"
      }
     },
     "9072b3252e4b4e8db56f077ef4d01025": {
      "model_module": "@jupyter-widgets/controls",
      "model_module_version": "1.5.0",
      "model_name": "DescriptionStyleModel",
      "state": {
       "description_width": ""
      }
     },
     "a40c9210d594419aba790e588aff2d64": {
      "model_module": "@jupyter-widgets/controls",
      "model_module_version": "1.5.0",
      "model_name": "HBoxModel",
      "state": {
       "children": [
        "IPY_MODEL_3890fbc1e861432fae447ab5d343cf16",
        "IPY_MODEL_f07291e78a0044969ef4303a3406e576",
        "IPY_MODEL_7e1dafbe0a394503a95a6bbcbb3c55a9"
       ],
       "layout": "IPY_MODEL_3e5069dc32bb4ec2a976013104bd0058"
      }
     },
     "ab3b52fab94f4d06acb5caa07f05fe90": {
      "model_module": "@jupyter-widgets/base",
      "model_module_version": "1.2.0",
      "model_name": "LayoutModel",
      "state": {
       "grid_area": "dircontent",
       "width": "auto"
      }
     },
     "ae620e922bc646869b55eec2a9bd9bd0": {
      "model_module": "@jupyter-widgets/controls",
      "model_module_version": "1.5.0",
      "model_name": "ButtonStyleModel",
      "state": {}
     },
     "b38d8fc60d3f44dcbf61589385ffbcde": {
      "model_module": "@jupyter-widgets/controls",
      "model_module_version": "1.5.0",
      "model_name": "DescriptionStyleModel",
      "state": {
       "description_width": ""
      }
     },
     "b870fb7022ac49018ed75fd95a0134d0": {
      "model_module": "@jupyter-widgets/controls",
      "model_module_version": "1.5.0",
      "model_name": "DropdownModel",
      "state": {
       "_options_labels": [
        "/mnt/sds/sd20i001/sven/code/dynamic-cmr-models/exp/miccai/trainWork_32_full_f0/2021-05-08_10_06/pred",
        "/mnt/sds/sd20i001/sven/code/dynamic-cmr-models/exp/miccai/trainWork_32_full_f0/2021-05-08_10_06",
        "/mnt/sds/sd20i001/sven/code/dynamic-cmr-models/exp/miccai/trainWork_32_full_f0",
        "/mnt/sds/sd20i001/sven/code/dynamic-cmr-models/exp/miccai",
        "/mnt/sds/sd20i001/sven/code/dynamic-cmr-models/exp",
        "/mnt/sds/sd20i001/sven/code/dynamic-cmr-models",
        "/mnt/sds/sd20i001/sven/code",
        "/mnt/sds/sd20i001/sven",
        "/mnt/sds/sd20i001",
        "/mnt/sds",
        "/mnt",
        "/"
       ],
       "index": 0,
       "layout": "IPY_MODEL_07e9aa2dfd4a4bec86c1086449e5ba7e",
       "style": "IPY_MODEL_b38d8fc60d3f44dcbf61589385ffbcde"
      }
     },
     "c4986dee8a614fa8a9c6b276dafc5118": {
      "model_module": "@jupyter-widgets/controls",
      "model_module_version": "1.5.0",
      "model_name": "HTMLModel",
      "state": {
       "layout": "IPY_MODEL_8fe943fb66fd4a808e5ad605dbc9d028",
       "style": "IPY_MODEL_f6cb9a7ba0144df8bf4a153f223c6be1"
      }
     },
     "e068b6c07e884f019d4ddc296041a419": {
      "model_module": "@jupyter-widgets/controls",
      "model_module_version": "1.5.0",
      "model_name": "SelectModel",
      "state": {
       "_options_labels": [
        "..",
        "gtpred_fold0.npy"
       ],
       "index": null,
       "layout": "IPY_MODEL_ab3b52fab94f4d06acb5caa07f05fe90",
       "rows": 8,
       "style": "IPY_MODEL_9072b3252e4b4e8db56f077ef4d01025"
      }
     },
     "e5c6a339585b458aba8f397159d6d6ed": {
      "model_module": "@jupyter-widgets/base",
      "model_module_version": "1.2.0",
      "model_name": "LayoutModel",
      "state": {
       "width": "auto"
      }
     },
     "e85a32f285804ec593ed4f98e6021096": {
      "model_module": "@jupyter-widgets/base",
      "model_module_version": "1.2.0",
      "model_name": "LayoutModel",
      "state": {
       "display": "none",
       "grid_gap": "0px 0px",
       "grid_template_areas": "\n                    'pathlist filename'\n                    'dircontent dircontent'\n                    ",
       "grid_template_columns": "60% 40%",
       "grid_template_rows": "auto auto",
       "width": "500px"
      }
     },
     "eec46c82c8ca42f8b9cab121c5deea3a": {
      "model_module": "@jupyter-widgets/controls",
      "model_module_version": "1.5.0",
      "model_name": "ButtonStyleModel",
      "state": {}
     },
     "f07291e78a0044969ef4303a3406e576": {
      "model_module": "@jupyter-widgets/controls",
      "model_module_version": "1.5.0",
      "model_name": "ButtonModel",
      "state": {
       "description": "Cancel",
       "layout": "IPY_MODEL_5482105ddb834027a3df573f68145302",
       "style": "IPY_MODEL_ae620e922bc646869b55eec2a9bd9bd0"
      }
     },
     "f12ce797647544709ee9c33c372e8151": {
      "model_module": "@jupyter-widgets/base",
      "model_module_version": "1.2.0",
      "model_name": "LayoutModel",
      "state": {}
     },
     "f6cb9a7ba0144df8bf4a153f223c6be1": {
      "model_module": "@jupyter-widgets/controls",
      "model_module_version": "1.5.0",
      "model_name": "DescriptionStyleModel",
      "state": {
       "description_width": ""
      }
     },
     "f8de854883d5417abced36fd59cdc3dc": {
      "model_module": "@jupyter-widgets/controls",
      "model_module_version": "1.5.0",
      "model_name": "TextModel",
      "state": {
       "layout": "IPY_MODEL_30a0f8947be942578e279ffaed459992",
       "placeholder": "output filename",
       "style": "IPY_MODEL_864d79da69714588954b7081d3f8be6e"
      }
     }
    },
    "version_major": 2,
    "version_minor": 0
   }
  }
 },
 "nbformat": 4,
 "nbformat_minor": 4
}
