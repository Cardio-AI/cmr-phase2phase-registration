{
 "cells": [
  {
   "cell_type": "code",
   "execution_count": 1,
   "metadata": {},
   "outputs": [
    {
     "name": "stdout",
     "output_type": "stream",
     "text": [
      "search for root_dir and set working directory\n",
      "Working directory set to: /mnt/ssd/git/dynamic-cmr-models\n"
     ]
    }
   ],
   "source": [
    "# ------------------------------------------define logging and working directory\n",
    "from ProjectRoot import change_wd_to_project_root\n",
    "change_wd_to_project_root()\n",
    "# ------------------------------------------jupyter magic config\n",
    "%matplotlib inline\n",
    "%reload_ext autoreload\n",
    "%autoreload 2\n",
    "# ------------------------------------------ import helpers\n",
    "# this should import glob, os, and many other standard libs\n",
    "# local imports\n",
    "from src.utils.Notebook_imports import *\n",
    "from src.utils.Utils_io import Console_and_file_logger, init_config\n",
    "\n",
    "import pandas as pd\n",
    "import numpy as np\n",
    "from ipyfilechooser import FileChooser\n",
    "import glob\n",
    "import os\n"
   ]
  },
  {
   "cell_type": "code",
   "execution_count": 3,
   "metadata": {},
   "outputs": [
    {
     "data": {
      "application/vnd.jupyter.widget-view+json": {
       "model_id": "3dabdab02e744aa893a864d570b0b7cc",
       "version_major": 2,
       "version_minor": 0
      },
      "text/plain": [
       "FileChooser(path='/mnt/ssd/git/dynamic-cmr-models/exp/cv_baseline_taug18', filename='', title='HTML(value='', …"
      ]
     },
     "metadata": {},
     "output_type": "display_data"
    }
   ],
   "source": [
    "# choose a folder\n",
    "fchooser = FileChooser(os.path.join(os.getcwd(),'exp/cv_baseline_taug18'), '')\n",
    "display(fchooser)"
   ]
  },
  {
   "cell_type": "code",
   "execution_count": 4,
   "metadata": {},
   "outputs": [],
   "source": [
    "fchooser.selected\n",
    "all_pred_files = sorted(glob.glob('{}/**/*.npy'.format(fchooser.selected), recursive=True))"
   ]
  },
  {
   "cell_type": "code",
   "execution_count": 5,
   "metadata": {},
   "outputs": [
    {
     "name": "stdout",
     "output_type": "stream",
     "text": [
      "4\n"
     ]
    },
    {
     "data": {
      "text/plain": [
       "['/mnt/ssd/git/dynamic-cmr-models/exp/cv_baseline_taug18/8_64_64__8_3_3_tenc64_conv1_MSE_NOnorm_augshiftscalerotbrigthness_taug3_3_batch8_f0/2021-03-03_16_12/pred/gtpred_fold0.npy',\n",
       " '/mnt/ssd/git/dynamic-cmr-models/exp/cv_baseline_taug18/8_64_64__8_3_3_tenc64_conv1_MSE_NOnorm_augshiftscalerotbrigthness_taug3_3_batch8_f1/2021-03-03_17_26/pred/gtpred_fold1.npy',\n",
       " '/mnt/ssd/git/dynamic-cmr-models/exp/cv_baseline_taug18/8_64_64__8_3_3_tenc64_conv1_MSE_NOnorm_augshiftscalerotbrigthness_taug3_3_batch8_f2/2021-03-03_17_56/pred/gtpred_fold2.npy',\n",
       " '/mnt/ssd/git/dynamic-cmr-models/exp/cv_baseline_taug18/8_64_64__8_3_3_tenc64_conv1_MSE_NOnorm_augshiftscalerotbrigthness_taug3_3_batch8_f3/2021-03-03_18_26/pred/gtpred_fold3.npy']"
      ]
     },
     "execution_count": 5,
     "metadata": {},
     "output_type": "execute_result"
    }
   ],
   "source": [
    "print(len(all_pred_files))\n",
    "all_pred_files"
   ]
  },
  {
   "cell_type": "code",
   "execution_count": 6,
   "metadata": {},
   "outputs": [],
   "source": [
    "# Load the numpy files\n",
    "preds = list(map(lambda x : np.load(x), all_pred_files))"
   ]
  },
  {
   "cell_type": "code",
   "execution_count": 7,
   "metadata": {},
   "outputs": [
    {
     "name": "stdout",
     "output_type": "stream",
     "text": [
      "(2, 278, 2, 36, 5)\n"
     ]
    }
   ],
   "source": [
    "# stack the numpy files\n",
    "preds = np.concatenate(preds, axis=1)\n",
    "print(preds.shape)"
   ]
  },
  {
   "cell_type": "code",
   "execution_count": 8,
   "metadata": {},
   "outputs": [
    {
     "data": {
      "text/plain": [
       "(278, 5)"
      ]
     },
     "execution_count": 8,
     "metadata": {},
     "output_type": "execute_result"
    }
   ],
   "source": [
    "# calculate the mean differences\n",
    "from src.utils.Metrics import meandiff\n",
    "res = meandiff(preds[0], preds[1], apply_sum=False, apply_average=False)\n",
    "phases = ['ED', 'MS', 'ES', 'PF', 'MD']\n",
    "df = pd.DataFrame(res.numpy(), columns=phases)\n",
    "df.shape"
   ]
  },
  {
   "cell_type": "markdown",
   "metadata": {},
   "source": [
    "# Error per Phase"
   ]
  },
  {
   "cell_type": "code",
   "execution_count": 9,
   "metadata": {},
   "outputs": [
    {
     "name": "stdout",
     "output_type": "stream",
     "text": [
      "Mean per phase: \n",
      "ED    0.776978\n",
      "MS    0.694245\n",
      "ES    0.669065\n",
      "PF    0.607914\n",
      "MD    1.082734\n",
      "dtype: float64\n",
      "Median per phase: \n",
      "ED    1.0\n",
      "MS    1.0\n",
      "ES    1.0\n",
      "PF    0.0\n",
      "MD    1.0\n",
      "dtype: float64\n",
      "Std per phase: \n",
      "ED    0.923368\n",
      "MS    0.723536\n",
      "ES    0.865617\n",
      "PF    0.731604\n",
      "MD    1.326074\n",
      "dtype: float64\n",
      "Mean overall: \n",
      "0.7661870503597122\n",
      "Median overall: \n",
      "1.0\n",
      "Std overall: \n",
      "0.9532265507729492\n"
     ]
    }
   ],
   "source": [
    "print('Mean per phase: \\n{}'.format(df.mean(axis=0)))\n",
    "print('Median per phase: \\n{}'.format(df.median(axis=0)))\n",
    "print('Std per phase: \\n{}'.format(df.std(axis=0)))\n",
    "\n",
    "print('Mean overall: \\n{}'.format(df.values.mean()))\n",
    "print('Median overall: \\n{}'.format(np.median(df.values)))\n",
    "print('Std overall: \\n{}'.format(df.values.std()))"
   ]
  },
  {
   "cell_type": "code",
   "execution_count": 10,
   "metadata": {},
   "outputs": [
    {
     "data": {
      "image/png": "[encoded data removed]",
      "text/plain": [
       "<Figure size 576x360 with 1 Axes>"
      ]
     },
     "metadata": {
      "needs_background": "light"
     },
     "output_type": "display_data"
    }
   ],
   "source": [
    "import seaborn as sb\n",
    "sb.set_context('paper')\n",
    "f = plt.figure(figsize=(8,5))\n",
    "ax = f.gca()\n",
    "ax.set_ylim(bottom=0, top=6)\n",
    "ax.set_ylabel('Cardiac phases')\n",
    "ax.set_xlabel('Cycle error')\n",
    "#_ = DF_METADATA[phases].plot(kind='violin'),\n",
    "sb.violinplot(data=df, orient='v', ax = ax)\n",
    "sb.pointplot(data=df, orient='v', ax = ax, estimator=np.mean,color=\"black\", markers=\"o\", ci=None,join=False)\n",
    "sb.pointplot(data=df, orient='v', ax = ax, estimator=np.median,color=\"black\", markers=\"_\", ci=None,join=False)\n",
    "plt.grid()\n",
    "plt.show()"
   ]
  },
  {
   "cell_type": "markdown",
   "metadata": {},
   "source": [
    "# Error per cardiac cycle"
   ]
  },
  {
   "cell_type": "code",
   "execution_count": 30,
   "metadata": {},
   "outputs": [
    {
     "data": {
      "text/plain": [
       "0      1.0\n",
       "1      2.0\n",
       "2      1.0\n",
       "3      1.0\n",
       "4      0.0\n",
       "      ... \n",
       "273    1.0\n",
       "274    1.0\n",
       "275    0.0\n",
       "276    1.0\n",
       "277    0.0\n",
       "Length: 278, dtype: float64"
      ]
     },
     "execution_count": 30,
     "metadata": {},
     "output_type": "execute_result"
    }
   ],
   "source": [
    "df.median(axis=1)"
   ]
  },
  {
   "cell_type": "code",
   "execution_count": 23,
   "metadata": {},
   "outputs": [
    {
     "data": {
      "image/png": "[encoded data removed]",
      "text/plain": [
       "<Figure size 144x360 with 1 Axes>"
      ]
     },
     "metadata": {
      "needs_background": "light"
     },
     "output_type": "display_data"
    }
   ],
   "source": [
    "import seaborn as sb\n",
    "sb.set_context('paper')\n",
    "f = plt.figure(figsize=(2,5))\n",
    "ax = f.gca()\n",
    "ax.set_ylabel('Cardiac phases')\n",
    "ax.set_xlabel('Cycle error')\n",
    "temp = df.sum(axis=1)\n",
    "sb.violinplot(data=temp, orient='v', ax = ax)\n",
    "#sb.scatterplot(data=temp, ax=ax)\n",
    "sb.pointplot(data=temp, orient='v', ax = ax, estimator=np.mean,color=\"black\", markers=\"o\", ci=None,join=False)\n",
    "sb.pointplot(data=temp, orient='v', ax = ax, estimator=np.median,color=\"black\", markers=\"_\", ci=None,join=False)\n",
    "plt.grid()\n",
    "plt.show()"
   ]
  },
  {
   "cell_type": "code",
   "execution_count": null,
   "metadata": {},
   "outputs": [],
   "source": []
  }
 ],
 "metadata": {
  "kernelspec": {
   "display_name": "dcmr",
   "language": "python",
   "name": "dcmr"
  },
  "language_info": {
   "codemirror_mode": {
    "name": "ipython",
    "version": 3
   },
   "file_extension": ".py",
   "mimetype": "text/x-python",
   "name": "python",
   "nbconvert_exporter": "python",
   "pygments_lexer": "ipython3",
   "version": "3.8.5"
  },
  "widgets": {
   "application/vnd.jupyter.widget-state+json": {
    "state": {
     "092b232481604190b99f17e48722252c": {
      "model_module": "@jupyter-widgets/controls",
      "model_module_version": "1.5.0",
      "model_name": "HTMLModel",
      "state": {
       "layout": "IPY_MODEL_dce337f3aa9a437899697e34b8c99661",
       "placeholder": "",
       "style": "IPY_MODEL_ebc30736c91d4abb8e4c08737c9bed0b",
       "value": "<span style=\"margin-left:10px; color:green;\">/mnt/ssd/git/dynamic-cmr-models/exp/cv_baseline_taug18/</span>"
      }
     },
     "0cd7e6edab56431b83dfeb230392a14e": {
      "model_module": "@jupyter-widgets/controls",
      "model_module_version": "1.5.0",
      "model_name": "GridBoxModel",
      "state": {
       "children": [
        "IPY_MODEL_a81d71de938044dcaa509e80c7006cfd",
        "IPY_MODEL_41f79be478094ea4ad40ae8f24fe3f3e",
        "IPY_MODEL_adf72a07a57a4d5aa157e7680c0adf38"
       ],
       "layout": "IPY_MODEL_128fd686b19f43b3ae3cb54effe107b7"
      }
     },
     "128fd686b19f43b3ae3cb54effe107b7": {
      "model_module": "@jupyter-widgets/base",
      "model_module_version": "1.2.0",
      "model_name": "LayoutModel",
      "state": {
       "display": "none",
       "grid_gap": "0px 0px",
       "grid_template_areas": "\n                    'pathlist filename'\n                    'dircontent dircontent'\n                    ",
       "grid_template_columns": "60% 40%",
       "grid_template_rows": "auto auto",
       "width": "500px"
      }
     },
     "132c3cfbffb8415485d91ee9c79bdd33": {
      "model_module": "@jupyter-widgets/base",
      "model_module_version": "1.2.0",
      "model_name": "LayoutModel",
      "state": {
       "display": "none",
       "width": "auto"
      }
     },
     "1876a2c4c70e44c2ab7678183254cb80": {
      "model_module": "@jupyter-widgets/base",
      "model_module_version": "1.2.0",
      "model_name": "LayoutModel",
      "state": {
       "width": "auto"
      }
     },
     "19a46723ea79480e95f18e60a3ffe29d": {
      "model_module": "@jupyter-widgets/base",
      "model_module_version": "1.2.0",
      "model_name": "LayoutModel",
      "state": {
       "grid_area": "dircontent",
       "width": "auto"
      }
     },
     "2033b9ad4d2145e5a41d832447a48b3f": {
      "model_module": "@jupyter-widgets/controls",
      "model_module_version": "1.5.0",
      "model_name": "DescriptionStyleModel",
      "state": {
       "description_width": ""
      }
     },
     "349f0e51d4894623bbee331a380b7545": {
      "model_module": "@jupyter-widgets/controls",
      "model_module_version": "1.5.0",
      "model_name": "HBoxModel",
      "state": {
       "children": [
        "IPY_MODEL_39befd7b18994250badd16b3f097b779",
        "IPY_MODEL_ed0a4513b9a547feabf549fe2f30ef7e",
        "IPY_MODEL_092b232481604190b99f17e48722252c"
       ],
       "layout": "IPY_MODEL_fa15fe0676374dc8a002d872966f54aa"
      }
     },
     "39befd7b18994250badd16b3f097b779": {
      "model_module": "@jupyter-widgets/controls",
      "model_module_version": "1.5.0",
      "model_name": "ButtonModel",
      "state": {
       "description": "Change",
       "layout": "IPY_MODEL_1876a2c4c70e44c2ab7678183254cb80",
       "style": "IPY_MODEL_48ad3779fb6b4b168c4adf8ea8539053"
      }
     },
     "3dabdab02e744aa893a864d570b0b7cc": {
      "model_module": "@jupyter-widgets/controls",
      "model_module_version": "1.5.0",
      "model_name": "VBoxModel",
      "state": {
       "children": [
        "IPY_MODEL_ad082c146f2a4a28b68e756583bcd4d7",
        "IPY_MODEL_824b51b769924e51ad59e51e4642f9c1",
        "IPY_MODEL_349f0e51d4894623bbee331a380b7545"
       ],
       "layout": "IPY_MODEL_d726cc2401e44d169bbef83a556959f8"
      }
     },
     "3fd3d44dae2c45f7a2926a38d169de25": {
      "model_module": "@jupyter-widgets/base",
      "model_module_version": "1.2.0",
      "model_name": "LayoutModel",
      "state": {}
     },
     "406f12d966c340e988de40ed845664ee": {
      "model_module": "@jupyter-widgets/controls",
      "model_module_version": "1.5.0",
      "model_name": "DescriptionStyleModel",
      "state": {
       "description_width": ""
      }
     },
     "41f79be478094ea4ad40ae8f24fe3f3e": {
      "model_module": "@jupyter-widgets/controls",
      "model_module_version": "1.5.0",
      "model_name": "TextModel",
      "state": {
       "layout": "IPY_MODEL_f791d2c2f74a4a1fa77656f3cd8ee4dd",
       "placeholder": "output filename",
       "style": "IPY_MODEL_74a786d7c1ff4b69a66e1aaa323f9548"
      }
     },
     "4308f8adf75140a397a7aa0119f19ff6": {
      "model_module": "@jupyter-widgets/controls",
      "model_module_version": "1.5.0",
      "model_name": "ButtonModel",
      "state": {
       "description": "Select",
       "layout": "IPY_MODEL_a249c95e1cb840abb740fdecdab1c63a",
       "style": "IPY_MODEL_5c283717980b4a1c9e68a37574d124b5"
      }
     },
     "430b0a68a18044dca7e7d8edf2f9682e": {
      "model_module": "@jupyter-widgets/controls",
      "model_module_version": "1.5.0",
      "model_name": "ButtonStyleModel",
      "state": {}
     },
     "489a1c6652964d4a80eac421de3e7113": {
      "model_module": "@jupyter-widgets/base",
      "model_module_version": "1.2.0",
      "model_name": "LayoutModel",
      "state": {
       "width": "auto"
      }
     },
     "48ad3779fb6b4b168c4adf8ea8539053": {
      "model_module": "@jupyter-widgets/controls",
      "model_module_version": "1.5.0",
      "model_name": "ButtonStyleModel",
      "state": {}
     },
     "4a6aa89c3d464d2ea6485f9e97b118fe": {
      "model_module": "@jupyter-widgets/base",
      "model_module_version": "1.2.0",
      "model_name": "LayoutModel",
      "state": {
       "grid_area": "pathlist",
       "width": "auto"
      }
     },
     "560d2ecc206d4b9aa7bca81629387ce2": {
      "model_module": "@jupyter-widgets/controls",
      "model_module_version": "1.5.0",
      "model_name": "HTMLModel",
      "state": {
       "layout": "IPY_MODEL_3fd3d44dae2c45f7a2926a38d169de25",
       "placeholder": "",
       "style": "IPY_MODEL_63a6723e804e4e3d9877ba2df99a9930",
       "value": "<span style=\"margin-left:10px; color:black;\">No file selected</span>"
      }
     },
     "5c283717980b4a1c9e68a37574d124b5": {
      "model_module": "@jupyter-widgets/controls",
      "model_module_version": "1.5.0",
      "model_name": "ButtonStyleModel",
      "state": {}
     },
     "5fdc0bf974b244b887bd28fcd1fc73f6": {
      "model_module": "@jupyter-widgets/controls",
      "model_module_version": "1.5.0",
      "model_name": "DescriptionStyleModel",
      "state": {
       "description_width": ""
      }
     },
     "61d4b04d022e41208ae48136e033c410": {
      "model_module": "@jupyter-widgets/controls",
      "model_module_version": "1.5.0",
      "model_name": "ButtonStyleModel",
      "state": {}
     },
     "63a6723e804e4e3d9877ba2df99a9930": {
      "model_module": "@jupyter-widgets/controls",
      "model_module_version": "1.5.0",
      "model_name": "DescriptionStyleModel",
      "state": {
       "description_width": ""
      }
     },
     "6eef2a25ce3b499f8268c46ad797dbf3": {
      "model_module": "@jupyter-widgets/base",
      "model_module_version": "1.2.0",
      "model_name": "LayoutModel",
      "state": {
       "display": "none",
       "grid_gap": "0px 0px",
       "grid_template_areas": "\n                    'pathlist filename'\n                    'dircontent dircontent'\n                    ",
       "grid_template_columns": "60% 40%",
       "grid_template_rows": "auto auto",
       "width": "500px"
      }
     },
     "6f4ca3e842ce49c98c6ef5f5dc7ea280": {
      "model_module": "@jupyter-widgets/controls",
      "model_module_version": "1.5.0",
      "model_name": "ButtonModel",
      "state": {
       "description": "Cancel",
       "layout": "IPY_MODEL_aae1c8e8f3cf4615904a2e407f022132",
       "style": "IPY_MODEL_61d4b04d022e41208ae48136e033c410"
      }
     },
     "74a786d7c1ff4b69a66e1aaa323f9548": {
      "model_module": "@jupyter-widgets/controls",
      "model_module_version": "1.5.0",
      "model_name": "DescriptionStyleModel",
      "state": {
       "description_width": ""
      }
     },
     "824b51b769924e51ad59e51e4642f9c1": {
      "model_module": "@jupyter-widgets/controls",
      "model_module_version": "1.5.0",
      "model_name": "GridBoxModel",
      "state": {
       "children": [
        "IPY_MODEL_ad014fbb44414134b54353b084456d2c",
        "IPY_MODEL_e8500bf2d9ff48f5a6b2f0472aee71d8",
        "IPY_MODEL_adaa501a2f4a425db30cf019fe11b06a"
       ],
       "layout": "IPY_MODEL_6eef2a25ce3b499f8268c46ad797dbf3"
      }
     },
     "89dceb7fa4b34f7c819881aec3b7ef61": {
      "model_module": "@jupyter-widgets/controls",
      "model_module_version": "1.5.0",
      "model_name": "HTMLModel",
      "state": {
       "layout": "IPY_MODEL_8b3a5dcfdaee49c8b636a41c58371e9c",
       "style": "IPY_MODEL_dcac6d78f702439d8a00f7067c46dce7"
      }
     },
     "8b3a5dcfdaee49c8b636a41c58371e9c": {
      "model_module": "@jupyter-widgets/base",
      "model_module_version": "1.2.0",
      "model_name": "LayoutModel",
      "state": {
       "display": "none"
      }
     },
     "93203f0418e5410686d3f7793ef78058": {
      "model_module": "@jupyter-widgets/controls",
      "model_module_version": "1.5.0",
      "model_name": "HBoxModel",
      "state": {
       "children": [
        "IPY_MODEL_4308f8adf75140a397a7aa0119f19ff6",
        "IPY_MODEL_6f4ca3e842ce49c98c6ef5f5dc7ea280",
        "IPY_MODEL_560d2ecc206d4b9aa7bca81629387ce2"
       ],
       "layout": "IPY_MODEL_9d6cea2691bc4664829a583fd894136c"
      }
     },
     "97bd45b17943423f8ee87743dd4d3493": {
      "model_module": "@jupyter-widgets/base",
      "model_module_version": "1.2.0",
      "model_name": "LayoutModel",
      "state": {
       "grid_area": "pathlist",
       "width": "auto"
      }
     },
     "9d6cea2691bc4664829a583fd894136c": {
      "model_module": "@jupyter-widgets/base",
      "model_module_version": "1.2.0",
      "model_name": "LayoutModel",
      "state": {
       "width": "auto"
      }
     },
     "a249c95e1cb840abb740fdecdab1c63a": {
      "model_module": "@jupyter-widgets/base",
      "model_module_version": "1.2.0",
      "model_name": "LayoutModel",
      "state": {
       "width": "auto"
      }
     },
     "a5f96f0a9b5f4d4c95122bd2337c63ce": {
      "model_module": "@jupyter-widgets/controls",
      "model_module_version": "1.5.0",
      "model_name": "VBoxModel",
      "state": {
       "children": [
        "IPY_MODEL_89dceb7fa4b34f7c819881aec3b7ef61",
        "IPY_MODEL_0cd7e6edab56431b83dfeb230392a14e",
        "IPY_MODEL_93203f0418e5410686d3f7793ef78058"
       ],
       "layout": "IPY_MODEL_489a1c6652964d4a80eac421de3e7113"
      }
     },
     "a81d71de938044dcaa509e80c7006cfd": {
      "model_module": "@jupyter-widgets/controls",
      "model_module_version": "1.5.0",
      "model_name": "DropdownModel",
      "state": {
       "_options_labels": [
        "/mnt/ssd/git/dynamic-cmr-models/exp/cv_baseline",
        "/mnt/ssd/git/dynamic-cmr-models/exp",
        "/mnt/ssd/git/dynamic-cmr-models",
        "/mnt/ssd/git",
        "/mnt/ssd",
        "/mnt",
        "/"
       ],
       "index": 0,
       "layout": "IPY_MODEL_97bd45b17943423f8ee87743dd4d3493",
       "style": "IPY_MODEL_d392d3cf908944b3b5623bda876b8ea3"
      }
     },
     "aae1c8e8f3cf4615904a2e407f022132": {
      "model_module": "@jupyter-widgets/base",
      "model_module_version": "1.2.0",
      "model_name": "LayoutModel",
      "state": {
       "display": "none",
       "width": "auto"
      }
     },
     "ad014fbb44414134b54353b084456d2c": {
      "model_module": "@jupyter-widgets/controls",
      "model_module_version": "1.5.0",
      "model_name": "DropdownModel",
      "state": {
       "_options_labels": [
        "/mnt/ssd/git/dynamic-cmr-models/exp/cv_baseline_taug18",
        "/mnt/ssd/git/dynamic-cmr-models/exp",
        "/mnt/ssd/git/dynamic-cmr-models",
        "/mnt/ssd/git",
        "/mnt/ssd",
        "/mnt",
        "/"
       ],
       "index": 0,
       "layout": "IPY_MODEL_4a6aa89c3d464d2ea6485f9e97b118fe",
       "style": "IPY_MODEL_406f12d966c340e988de40ed845664ee"
      }
     },
     "ad082c146f2a4a28b68e756583bcd4d7": {
      "model_module": "@jupyter-widgets/controls",
      "model_module_version": "1.5.0",
      "model_name": "HTMLModel",
      "state": {
       "layout": "IPY_MODEL_cf52bf925b234308b3d7c29c459da929",
       "style": "IPY_MODEL_ef71ef596b954afb92caf1d5af702f1a"
      }
     },
     "adaa501a2f4a425db30cf019fe11b06a": {
      "model_module": "@jupyter-widgets/controls",
      "model_module_version": "1.5.0",
      "model_name": "SelectModel",
      "state": {
       "_options_labels": [
        "..",
        "8_64_64__8_3_3_tenc64_conv1_MSE_NOnorm_augshiftscalerotbrigthness_taug3_3_batch8_f0",
        "8_64_64__8_3_3_tenc64_conv1_MSE_NOnorm_augshiftscalerotbrigthness_taug3_3_batch8_f1",
        "8_64_64__8_3_3_tenc64_conv1_MSE_NOnorm_augshiftscalerotbrigthness_taug3_3_batch8_f2",
        "8_64_64__8_3_3_tenc64_conv1_MSE_NOnorm_augshiftscalerotbrigthness_taug3_3_batch8_f3"
       ],
       "index": null,
       "layout": "IPY_MODEL_d242a090f2314a5f99674dfc070b532a",
       "rows": 8,
       "style": "IPY_MODEL_c314ec34c1ce4734b0c8d16e40619511"
      }
     },
     "adf72a07a57a4d5aa157e7680c0adf38": {
      "model_module": "@jupyter-widgets/controls",
      "model_module_version": "1.5.0",
      "model_name": "SelectModel",
      "state": {
       "_options_labels": [
        "..",
        "8_64_64__8_3_3_tenc64_conv1_MSE_NOnorm_augshiftscalerotdown_taug3_3_batch8_f0",
        "8_64_64__8_3_3_tenc64_conv1_MSE_NOnorm_augshiftscalerotdown_taug3_3_batch8_f1",
        "8_64_64__8_3_3_tenc64_conv1_MSE_NOnorm_augshiftscalerotdown_taug3_3_batch8_f2",
        "8_64_64__8_3_3_tenc64_conv1_MSE_NOnorm_augshiftscalerotdown_taug3_3_batch8_f3"
       ],
       "index": null,
       "layout": "IPY_MODEL_19a46723ea79480e95f18e60a3ffe29d",
       "rows": 8,
       "style": "IPY_MODEL_5fdc0bf974b244b887bd28fcd1fc73f6"
      }
     },
     "af87e059451d414bb32839d95ad5497c": {
      "model_module": "@jupyter-widgets/base",
      "model_module_version": "1.2.0",
      "model_name": "LayoutModel",
      "state": {
       "grid_area": "filename",
       "width": "auto"
      }
     },
     "c314ec34c1ce4734b0c8d16e40619511": {
      "model_module": "@jupyter-widgets/controls",
      "model_module_version": "1.5.0",
      "model_name": "DescriptionStyleModel",
      "state": {
       "description_width": ""
      }
     },
     "cf52bf925b234308b3d7c29c459da929": {
      "model_module": "@jupyter-widgets/base",
      "model_module_version": "1.2.0",
      "model_name": "LayoutModel",
      "state": {
       "display": "none"
      }
     },
     "d242a090f2314a5f99674dfc070b532a": {
      "model_module": "@jupyter-widgets/base",
      "model_module_version": "1.2.0",
      "model_name": "LayoutModel",
      "state": {
       "grid_area": "dircontent",
       "width": "auto"
      }
     },
     "d392d3cf908944b3b5623bda876b8ea3": {
      "model_module": "@jupyter-widgets/controls",
      "model_module_version": "1.5.0",
      "model_name": "DescriptionStyleModel",
      "state": {
       "description_width": ""
      }
     },
     "d726cc2401e44d169bbef83a556959f8": {
      "model_module": "@jupyter-widgets/base",
      "model_module_version": "1.2.0",
      "model_name": "LayoutModel",
      "state": {
       "width": "auto"
      }
     },
     "dcac6d78f702439d8a00f7067c46dce7": {
      "model_module": "@jupyter-widgets/controls",
      "model_module_version": "1.5.0",
      "model_name": "DescriptionStyleModel",
      "state": {
       "description_width": ""
      }
     },
     "dce337f3aa9a437899697e34b8c99661": {
      "model_module": "@jupyter-widgets/base",
      "model_module_version": "1.2.0",
      "model_name": "LayoutModel",
      "state": {}
     },
     "e8500bf2d9ff48f5a6b2f0472aee71d8": {
      "model_module": "@jupyter-widgets/controls",
      "model_module_version": "1.5.0",
      "model_name": "TextModel",
      "state": {
       "layout": "IPY_MODEL_af87e059451d414bb32839d95ad5497c",
       "placeholder": "output filename",
       "style": "IPY_MODEL_2033b9ad4d2145e5a41d832447a48b3f"
      }
     },
     "ebc30736c91d4abb8e4c08737c9bed0b": {
      "model_module": "@jupyter-widgets/controls",
      "model_module_version": "1.5.0",
      "model_name": "DescriptionStyleModel",
      "state": {
       "description_width": ""
      }
     },
     "ed0a4513b9a547feabf549fe2f30ef7e": {
      "model_module": "@jupyter-widgets/controls",
      "model_module_version": "1.5.0",
      "model_name": "ButtonModel",
      "state": {
       "description": "Cancel",
       "layout": "IPY_MODEL_132c3cfbffb8415485d91ee9c79bdd33",
       "style": "IPY_MODEL_430b0a68a18044dca7e7d8edf2f9682e"
      }
     },
     "ef71ef596b954afb92caf1d5af702f1a": {
      "model_module": "@jupyter-widgets/controls",
      "model_module_version": "1.5.0",
      "model_name": "DescriptionStyleModel",
      "state": {
       "description_width": ""
      }
     },
     "f791d2c2f74a4a1fa77656f3cd8ee4dd": {
      "model_module": "@jupyter-widgets/base",
      "model_module_version": "1.2.0",
      "model_name": "LayoutModel",
      "state": {
       "grid_area": "filename",
       "width": "auto"
      }
     },
     "fa15fe0676374dc8a002d872966f54aa": {
      "model_module": "@jupyter-widgets/base",
      "model_module_version": "1.2.0",
      "model_name": "LayoutModel",
      "state": {
       "width": "auto"
      }
     }
    },
    "version_major": 2,
    "version_minor": 0
   }
  }
 },
 "nbformat": 4,
 "nbformat_minor": 4
}
