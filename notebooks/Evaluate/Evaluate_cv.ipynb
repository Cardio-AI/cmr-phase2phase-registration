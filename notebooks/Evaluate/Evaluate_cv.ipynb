{
 "cells": [
  {
   "cell_type": "code",
   "execution_count": 1,
   "metadata": {},
   "outputs": [
    {
     "name": "stdout",
     "output_type": "stream",
     "text": [
      "search for root_dir and set working directory\n",
      "Working directory set to: /mnt/ssd/git/dynamic-cmr-models\n"
     ]
    }
   ],
   "source": [
    "# define logging and working directory\n",
    "# ------------------------------------------\n",
    "from ProjectRoot import change_wd_to_project_root\n",
    "change_wd_to_project_root()\n",
    "# jupyter magic config\n",
    "# ------------------------------------------\n",
    "%matplotlib inline\n",
    "%reload_ext autoreload\n",
    "%autoreload 2\n",
    "# this should import glob, os, and many other standard libs\n",
    "# ------------------------------------------ \n",
    "from src.utils.Notebook_imports import *\n",
    "# local imports\n",
    "# ------------------------------------------ \n",
    "from src.utils.Utils_io import Console_and_file_logger, init_config\n",
    "# import external libs\n",
    "# ------------------------------------------ \n",
    "import pandas as pd\n",
    "import numpy as np\n",
    "from ipyfilechooser import FileChooser\n",
    "import glob\n",
    "import os\n"
   ]
  },
  {
   "cell_type": "code",
   "execution_count": 2,
   "metadata": {},
   "outputs": [],
   "source": [
    "def evaluate(exp_root, result_df='results.xlsx', pred_suffix = 'pred'):\n",
    "    global all_pred_files\n",
    "    print('eval: {}'.format(exp_root))\n",
    "    from src.utils.Metrics import meandiff\n",
    "    phases = ['ED', 'MS', 'ES', 'PF', 'MD']\n",
    "    \n",
    "    direct_path = '{}/{}/*.npy'.format(exp_root, pred_suffix)\n",
    "    print('path to predictions: {}'.format(direct_path))\n",
    "    all_pred_files = glob.glob(direct_path)\n",
    "    if len(all_pred_files) == 0:    \n",
    "        all_pred_files = sorted(glob.glob('{}/**/**/{}/*.npy'.format(exp_root, pred_suffix), recursive=False))\n",
    "    \"\"\"if len(all_pred_files) == 0:\n",
    "        all_pred_files = sorted(glob.glob('{}/{}/*.npy'.format(exp_root, pred_suffix), recursive=False))\"\"\"\n",
    "    #assert len(all_pred_files) ==4, 'we expect a four-fold cv, but found: {} predictions'.format(len(all_pred_files))\n",
    "    print('predictions found: {}'.format(len(all_pred_files)))\n",
    "    \n",
    "    # Load the numpy files\n",
    "    preds = list(map(lambda x : np.load(x), all_pred_files))\n",
    "    # stack the numpy files\n",
    "    preds = np.concatenate(preds, axis=1)\n",
    "    \n",
    "    # calculate the mean differences\n",
    "    res = meandiff(preds[0], preds[1], apply_sum=False, apply_average=False)\n",
    "    df = pd.DataFrame(res.numpy(), columns=phases)\n",
    "    df.to_excel(os.path.join(exp_root, result_df))\n",
    "    return df"
   ]
  },
  {
   "cell_type": "markdown",
   "metadata": {},
   "source": [
    "# Evaluate one experiment"
   ]
  },
  {
   "cell_type": "code",
   "execution_count": 3,
   "metadata": {},
   "outputs": [
    {
     "data": {
      "application/vnd.jupyter.widget-view+json": {
       "model_id": "61c8e5713656401db63b1f428cbe5405",
       "version_major": 2,
       "version_minor": 0
      },
      "text/plain": [
       "FileChooser(path='/mnt/sds/sven/code/dynamic-cmr-models/exp/phasereg_v3', filename='', title='HTML(value='', l…"
      ]
     },
     "metadata": {},
     "output_type": "display_data"
    },
    {
     "data": {
      "application/vnd.jupyter.widget-view+json": {
       "model_id": "b3aac8584158445695a132aea01b7816",
       "version_major": 2,
       "version_minor": 0
      },
      "text/plain": [
       "interactive(children=(Checkbox(value=False, description='evaluate_'), Output()), _dom_classes=('widget-interac…"
      ]
     },
     "metadata": {},
     "output_type": "display_data"
    }
   ],
   "source": [
    "# choose an experiment folder\n",
    "sds_storage = '/mnt/sds/sven/code/dynamic-cmr-models/exp/phasereg_v3/'\n",
    "local_storage = os.path.join(os.getcwd(),'exp/local')\n",
    "fchooser = FileChooser(sds_storage, '')\n",
    "display(fchooser)\n",
    "@interact\n",
    "def eval_interact(evaluate_=False):\n",
    "    global df\n",
    "    if evaluate_: \n",
    "        df = evaluate(fchooser.selected, pred_suffix='pred')"
   ]
  },
  {
   "cell_type": "markdown",
   "metadata": {},
   "source": [
    "# Evaluate multiple experiments - create a results.xlsx with one row per patient"
   ]
  },
  {
   "cell_type": "code",
   "execution_count": 4,
   "metadata": {
    "tags": []
   },
   "outputs": [
    {
     "name": "stdout",
     "output_type": "stream",
     "text": [
      "Evaluate: 14 experiments\n",
      "eval: /mnt/sds/sven/code/dynamic-cmr-models/exp/phasereg_v3/24_8_128_128_flow_conv/\n",
      "path to predictions: /mnt/sds/sven/code/dynamic-cmr-models/exp/phasereg_v3/24_8_128_128_flow_conv//pred/*.npy\n",
      "predictions found: 4\n",
      "WARNING:tensorflow:From /home/sven/anaconda3/envs/dcmr/lib/python3.8/site-packages/tensorflow/python/util/deprecation.py:574: calling map_fn_v2 (from tensorflow.python.ops.map_fn) with dtype is deprecated and will be removed in a future version.\n",
      "Instructions for updating:\n",
      "Use fn_output_signature instead\n",
      "eval: /mnt/sds/sven/code/dynamic-cmr-models/exp/phasereg_v3/24_8_128_128_flow_conv_bilstm64/\n",
      "path to predictions: /mnt/sds/sven/code/dynamic-cmr-models/exp/phasereg_v3/24_8_128_128_flow_conv_bilstm64//pred/*.npy\n",
      "predictions found: 4\n",
      "eval: /mnt/sds/sven/code/dynamic-cmr-models/exp/phasereg_v3/24_8_128_128_flow_conv_bilstm64_noROT/\n",
      "path to predictions: /mnt/sds/sven/code/dynamic-cmr-models/exp/phasereg_v3/24_8_128_128_flow_conv_bilstm64_noROT//pred/*.npy\n",
      "predictions found: 4\n",
      "eval: /mnt/sds/sven/code/dynamic-cmr-models/exp/phasereg_v3/24_8_128_128_flow_conv_bilstm64_noROT_noAUG/\n",
      "path to predictions: /mnt/sds/sven/code/dynamic-cmr-models/exp/phasereg_v3/24_8_128_128_flow_conv_bilstm64_noROT_noAUG//pred/*.npy\n",
      "predictions found: 4\n",
      "eval: /mnt/sds/sven/code/dynamic-cmr-models/exp/phasereg_v3/24_8_128_128_flow_gap/\n",
      "path to predictions: /mnt/sds/sven/code/dynamic-cmr-models/exp/phasereg_v3/24_8_128_128_flow_gap//pred/*.npy\n",
      "predictions found: 4\n",
      "eval: /mnt/sds/sven/code/dynamic-cmr-models/exp/phasereg_v3/24_8_128_128_flow_gap_bilstm64/\n",
      "path to predictions: /mnt/sds/sven/code/dynamic-cmr-models/exp/phasereg_v3/24_8_128_128_flow_gap_bilstm64//pred/*.npy\n",
      "predictions found: 3\n",
      "eval: /mnt/sds/sven/code/dynamic-cmr-models/exp/phasereg_v3/24_8_128_128_flow_norm_conv_bilstm64/\n",
      "path to predictions: /mnt/sds/sven/code/dynamic-cmr-models/exp/phasereg_v3/24_8_128_128_flow_norm_conv_bilstm64//pred/*.npy\n",
      "predictions found: 4\n",
      "eval: /mnt/sds/sven/code/dynamic-cmr-models/exp/phasereg_v3/24_8_128_128_flow_norm_dir_conv_bilstm64/\n",
      "path to predictions: /mnt/sds/sven/code/dynamic-cmr-models/exp/phasereg_v3/24_8_128_128_flow_norm_dir_conv_bilstm64//pred/*.npy\n",
      "predictions found: 4\n",
      "eval: /mnt/sds/sven/code/dynamic-cmr-models/exp/phasereg_v3/24_8_128_128_flow_norm_dir_gap/\n",
      "path to predictions: /mnt/sds/sven/code/dynamic-cmr-models/exp/phasereg_v3/24_8_128_128_flow_norm_dir_gap//pred/*.npy\n",
      "predictions found: 4\n",
      "eval: /mnt/sds/sven/code/dynamic-cmr-models/exp/phasereg_v3/24_8_128_128_flow_norm_dir_lstm8_conv_lstm8/\n",
      "path to predictions: /mnt/sds/sven/code/dynamic-cmr-models/exp/phasereg_v3/24_8_128_128_flow_norm_dir_lstm8_conv_lstm8//pred/*.npy\n",
      "predictions found: 4\n",
      "eval: /mnt/sds/sven/code/dynamic-cmr-models/exp/phasereg_v3/24_8_128_128_norm_dir_conv_bilstm64/\n",
      "path to predictions: /mnt/sds/sven/code/dynamic-cmr-models/exp/phasereg_v3/24_8_128_128_norm_dir_conv_bilstm64//pred/*.npy\n",
      "predictions found: 4\n",
      "eval: /mnt/sds/sven/code/dynamic-cmr-models/exp/phasereg_v3/24_8_128_128_norm_dir_gap/\n",
      "path to predictions: /mnt/sds/sven/code/dynamic-cmr-models/exp/phasereg_v3/24_8_128_128_norm_dir_gap//pred/*.npy\n",
      "predictions found: 4\n",
      "eval: /mnt/sds/sven/code/dynamic-cmr-models/exp/phasereg_v3/24_8_128_128_norm_dir_gap_bilstm64/\n",
      "path to predictions: /mnt/sds/sven/code/dynamic-cmr-models/exp/phasereg_v3/24_8_128_128_norm_dir_gap_bilstm64//pred/*.npy\n",
      "predictions found: 4\n",
      "eval: /mnt/sds/sven/code/dynamic-cmr-models/exp/phasereg_v3/24_8_128_128_norm_dir_lstm8_conv_lstm8/\n",
      "path to predictions: /mnt/sds/sven/code/dynamic-cmr-models/exp/phasereg_v3/24_8_128_128_norm_dir_lstm8_conv_lstm8//pred/*.npy\n",
      "predictions found: 4\n"
     ]
    }
   ],
   "source": [
    "experiments = sorted(glob.glob(os.path.join(sds_storage,'*/')))\n",
    "print('Evaluate: {} experiments'.format(len(experiments)))\n",
    "excl = 'tres'\n",
    "results = []\n",
    "results_names = []\n",
    "for e in experiments:\n",
    "    try:\n",
    "        if excl not in e:\n",
    "            results.append(evaluate(e))\n",
    "            results_names.append(e.split('/')[-2])\n",
    "        else:\n",
    "            print('skip by substring: {}'.format(excl))\n",
    "    except Exception as ex:\n",
    "        print('Faild at: {} with: {}'.format(e,ex))"
   ]
  },
  {
   "cell_type": "markdown",
   "metadata": {},
   "source": [
    "# Build one dataframe with one row per experiment"
   ]
  },
  {
   "cell_type": "markdown",
   "metadata": {},
   "source": [
    "# Error per Phase as df"
   ]
  },
  {
   "cell_type": "code",
   "execution_count": 5,
   "metadata": {},
   "outputs": [],
   "source": [
    "# helper, aggregate one experiment\n",
    "def aggregate_df(df):\n",
    "    cols = ['Mean/phase', 'SD/phase']\n",
    "    temp = pd.DataFrame(columns=cols)\n",
    "    temp[cols[0]] = df.mean(axis=0)\n",
    "    temp[cols[1]] = df.std(axis=0)\n",
    "    temp = temp.round(3)\n",
    "    temp = temp.stack()\n",
    "    temp['overall','Mean'] = df.values.mean()\n",
    "    temp['overall','SD'] = df.values.std()\n",
    "    temp['Cycle','Mean'] = np.mean(df.sum(axis=1))\n",
    "    temp['Cycle','SD'] = np.std(df.sum(axis=1))\n",
    "    return temp"
   ]
  },
  {
   "cell_type": "code",
   "execution_count": 6,
   "metadata": {},
   "outputs": [],
   "source": [
    "results_agg = [aggregate_df(elem) for elem in results]\n",
    "results_agg_df = pd.concat(results_agg, axis=1).T\n",
    "results_agg_df.index = results_names"
   ]
  },
  {
   "cell_type": "markdown",
   "metadata": {},
   "source": [
    "# Show the aggregated results per experiment"
   ]
  },
  {
   "cell_type": "code",
   "execution_count": 7,
   "metadata": {},
   "outputs": [
    {
     "data": {
      "text/html": [
       "<style  type=\"text/css\" >\n",
       "#T_9600f_row1_col1,#T_9600f_row1_col4,#T_9600f_row1_col6,#T_9600f_row1_col8,#T_9600f_row1_col10,#T_9600f_row1_col12,#T_9600f_row2_col9,#T_9600f_row2_col11,#T_9600f_row2_col13,#T_9600f_row6_col7,#T_9600f_row7_col8,#T_9600f_row9_col0,#T_9600f_row9_col3,#T_9600f_row10_col5,#T_9600f_row12_col1,#T_9600f_row13_col2{\n",
       "            background-color:  lightgreen;\n",
       "        }</style><table id=\"T_9600f_\" ><thead>    <tr>        <th class=\"blank level0\" ></th>        <th class=\"col_heading level0 col0\" colspan=\"2\">ED</th>        <th class=\"col_heading level0 col2\" colspan=\"2\">MS</th>        <th class=\"col_heading level0 col4\" colspan=\"2\">ES</th>        <th class=\"col_heading level0 col6\" colspan=\"2\">PF</th>        <th class=\"col_heading level0 col8\" colspan=\"2\">MD</th>        <th class=\"col_heading level0 col10\" colspan=\"2\">overall</th>        <th class=\"col_heading level0 col12\" colspan=\"2\">Cycle</th>    </tr>    <tr>        <th class=\"blank level1\" ></th>        <th class=\"col_heading level1 col0\" >Mean/phase</th>        <th class=\"col_heading level1 col1\" >SD/phase</th>        <th class=\"col_heading level1 col2\" >Mean/phase</th>        <th class=\"col_heading level1 col3\" >SD/phase</th>        <th class=\"col_heading level1 col4\" >Mean/phase</th>        <th class=\"col_heading level1 col5\" >SD/phase</th>        <th class=\"col_heading level1 col6\" >Mean/phase</th>        <th class=\"col_heading level1 col7\" >SD/phase</th>        <th class=\"col_heading level1 col8\" >Mean/phase</th>        <th class=\"col_heading level1 col9\" >SD/phase</th>        <th class=\"col_heading level1 col10\" >Mean</th>        <th class=\"col_heading level1 col11\" >SD</th>        <th class=\"col_heading level1 col12\" >Mean</th>        <th class=\"col_heading level1 col13\" >SD</th>    </tr></thead><tbody>\n",
       "                <tr>\n",
       "                        <th id=\"T_9600f_level0_row0\" class=\"row_heading level0 row0\" >24_8_128_128_flow_conv</th>\n",
       "                        <td id=\"T_9600f_row0_col0\" class=\"data row0 col0\" >0.763000</td>\n",
       "                        <td id=\"T_9600f_row0_col1\" class=\"data row0 col1\" >1.027000</td>\n",
       "                        <td id=\"T_9600f_row0_col2\" class=\"data row0 col2\" >0.597000</td>\n",
       "                        <td id=\"T_9600f_row0_col3\" class=\"data row0 col3\" >0.723000</td>\n",
       "                        <td id=\"T_9600f_row0_col4\" class=\"data row0 col4\" >0.669000</td>\n",
       "                        <td id=\"T_9600f_row0_col5\" class=\"data row0 col5\" >0.749000</td>\n",
       "                        <td id=\"T_9600f_row0_col6\" class=\"data row0 col6\" >0.586000</td>\n",
       "                        <td id=\"T_9600f_row0_col7\" class=\"data row0 col7\" >1.113000</td>\n",
       "                        <td id=\"T_9600f_row0_col8\" class=\"data row0 col8\" >1.637000</td>\n",
       "                        <td id=\"T_9600f_row0_col9\" class=\"data row0 col9\" >1.588000</td>\n",
       "                        <td id=\"T_9600f_row0_col10\" class=\"data row0 col10\" >0.850360</td>\n",
       "                        <td id=\"T_9600f_row0_col11\" class=\"data row0 col11\" >1.155181</td>\n",
       "                        <td id=\"T_9600f_row0_col12\" class=\"data row0 col12\" >4.251799</td>\n",
       "                        <td id=\"T_9600f_row0_col13\" class=\"data row0 col13\" >3.238912</td>\n",
       "            </tr>\n",
       "            <tr>\n",
       "                        <th id=\"T_9600f_level0_row1\" class=\"row_heading level0 row1\" >24_8_128_128_flow_conv_bilstm64</th>\n",
       "                        <td id=\"T_9600f_row1_col0\" class=\"data row1 col0\" >0.507000</td>\n",
       "                        <td id=\"T_9600f_row1_col1\" class=\"data row1 col1\" >0.562000</td>\n",
       "                        <td id=\"T_9600f_row1_col2\" class=\"data row1 col2\" >0.457000</td>\n",
       "                        <td id=\"T_9600f_row1_col3\" class=\"data row1 col3\" >0.586000</td>\n",
       "                        <td id=\"T_9600f_row1_col4\" class=\"data row1 col4\" >0.450000</td>\n",
       "                        <td id=\"T_9600f_row1_col5\" class=\"data row1 col5\" >0.644000</td>\n",
       "                        <td id=\"T_9600f_row1_col6\" class=\"data row1 col6\" >0.450000</td>\n",
       "                        <td id=\"T_9600f_row1_col7\" class=\"data row1 col7\" >0.609000</td>\n",
       "                        <td id=\"T_9600f_row1_col8\" class=\"data row1 col8\" >0.781000</td>\n",
       "                        <td id=\"T_9600f_row1_col9\" class=\"data row1 col9\" >0.882000</td>\n",
       "                        <td id=\"T_9600f_row1_col10\" class=\"data row1 col10\" >0.528777</td>\n",
       "                        <td id=\"T_9600f_row1_col11\" class=\"data row1 col11\" >0.677675</td>\n",
       "                        <td id=\"T_9600f_row1_col12\" class=\"data row1 col12\" >2.643885</td>\n",
       "                        <td id=\"T_9600f_row1_col13\" class=\"data row1 col13\" >1.850282</td>\n",
       "            </tr>\n",
       "            <tr>\n",
       "                        <th id=\"T_9600f_level0_row2\" class=\"row_heading level0 row2\" >24_8_128_128_flow_conv_bilstm64_noROT</th>\n",
       "                        <td id=\"T_9600f_row2_col0\" class=\"data row2 col0\" >0.504000</td>\n",
       "                        <td id=\"T_9600f_row2_col1\" class=\"data row2 col1\" >0.605000</td>\n",
       "                        <td id=\"T_9600f_row2_col2\" class=\"data row2 col2\" >0.435000</td>\n",
       "                        <td id=\"T_9600f_row2_col3\" class=\"data row2 col3\" >0.558000</td>\n",
       "                        <td id=\"T_9600f_row2_col4\" class=\"data row2 col4\" >0.460000</td>\n",
       "                        <td id=\"T_9600f_row2_col5\" class=\"data row2 col5\" >0.573000</td>\n",
       "                        <td id=\"T_9600f_row2_col6\" class=\"data row2 col6\" >0.486000</td>\n",
       "                        <td id=\"T_9600f_row2_col7\" class=\"data row2 col7\" >0.611000</td>\n",
       "                        <td id=\"T_9600f_row2_col8\" class=\"data row2 col8\" >0.856000</td>\n",
       "                        <td id=\"T_9600f_row2_col9\" class=\"data row2 col9\" >0.829000</td>\n",
       "                        <td id=\"T_9600f_row2_col10\" class=\"data row2 col10\" >0.548201</td>\n",
       "                        <td id=\"T_9600f_row2_col11\" class=\"data row2 col11\" >0.660429</td>\n",
       "                        <td id=\"T_9600f_row2_col12\" class=\"data row2 col12\" >2.741007</td>\n",
       "                        <td id=\"T_9600f_row2_col13\" class=\"data row2 col13\" >1.720959</td>\n",
       "            </tr>\n",
       "            <tr>\n",
       "                        <th id=\"T_9600f_level0_row3\" class=\"row_heading level0 row3\" >24_8_128_128_flow_conv_bilstm64_noROT_noAUG</th>\n",
       "                        <td id=\"T_9600f_row3_col0\" class=\"data row3 col0\" >0.608000</td>\n",
       "                        <td id=\"T_9600f_row3_col1\" class=\"data row3 col1\" >0.751000</td>\n",
       "                        <td id=\"T_9600f_row3_col2\" class=\"data row3 col2\" >0.536000</td>\n",
       "                        <td id=\"T_9600f_row3_col3\" class=\"data row3 col3\" >0.656000</td>\n",
       "                        <td id=\"T_9600f_row3_col4\" class=\"data row3 col4\" >0.468000</td>\n",
       "                        <td id=\"T_9600f_row3_col5\" class=\"data row3 col5\" >0.580000</td>\n",
       "                        <td id=\"T_9600f_row3_col6\" class=\"data row3 col6\" >0.536000</td>\n",
       "                        <td id=\"T_9600f_row3_col7\" class=\"data row3 col7\" >0.639000</td>\n",
       "                        <td id=\"T_9600f_row3_col8\" class=\"data row3 col8\" >0.863000</td>\n",
       "                        <td id=\"T_9600f_row3_col9\" class=\"data row3 col9\" >0.868000</td>\n",
       "                        <td id=\"T_9600f_row3_col10\" class=\"data row3 col10\" >0.602158</td>\n",
       "                        <td id=\"T_9600f_row3_col11\" class=\"data row3 col11\" >0.718208</td>\n",
       "                        <td id=\"T_9600f_row3_col12\" class=\"data row3 col12\" >3.010791</td>\n",
       "                        <td id=\"T_9600f_row3_col13\" class=\"data row3 col13\" >1.895629</td>\n",
       "            </tr>\n",
       "            <tr>\n",
       "                        <th id=\"T_9600f_level0_row4\" class=\"row_heading level0 row4\" >24_8_128_128_flow_gap</th>\n",
       "                        <td id=\"T_9600f_row4_col0\" class=\"data row4 col0\" >2.662000</td>\n",
       "                        <td id=\"T_9600f_row4_col1\" class=\"data row4 col1\" >2.243000</td>\n",
       "                        <td id=\"T_9600f_row4_col2\" class=\"data row4 col2\" >2.586000</td>\n",
       "                        <td id=\"T_9600f_row4_col3\" class=\"data row4 col3\" >1.774000</td>\n",
       "                        <td id=\"T_9600f_row4_col4\" class=\"data row4 col4\" >3.097000</td>\n",
       "                        <td id=\"T_9600f_row4_col5\" class=\"data row4 col5\" >2.066000</td>\n",
       "                        <td id=\"T_9600f_row4_col6\" class=\"data row4 col6\" >3.144000</td>\n",
       "                        <td id=\"T_9600f_row4_col7\" class=\"data row4 col7\" >2.095000</td>\n",
       "                        <td id=\"T_9600f_row4_col8\" class=\"data row4 col8\" >2.777000</td>\n",
       "                        <td id=\"T_9600f_row4_col9\" class=\"data row4 col9\" >1.750000</td>\n",
       "                        <td id=\"T_9600f_row4_col10\" class=\"data row4 col10\" >2.853237</td>\n",
       "                        <td id=\"T_9600f_row4_col11\" class=\"data row4 col11\" >2.004323</td>\n",
       "                        <td id=\"T_9600f_row4_col12\" class=\"data row4 col12\" >14.266187</td>\n",
       "                        <td id=\"T_9600f_row4_col13\" class=\"data row4 col13\" >5.612904</td>\n",
       "            </tr>\n",
       "            <tr>\n",
       "                        <th id=\"T_9600f_level0_row5\" class=\"row_heading level0 row5\" >24_8_128_128_flow_gap_bilstm64</th>\n",
       "                        <td id=\"T_9600f_row5_col0\" class=\"data row5 col0\" >1.656000</td>\n",
       "                        <td id=\"T_9600f_row5_col1\" class=\"data row5 col1\" >1.589000</td>\n",
       "                        <td id=\"T_9600f_row5_col2\" class=\"data row5 col2\" >2.134000</td>\n",
       "                        <td id=\"T_9600f_row5_col3\" class=\"data row5 col3\" >1.516000</td>\n",
       "                        <td id=\"T_9600f_row5_col4\" class=\"data row5 col4\" >2.402000</td>\n",
       "                        <td id=\"T_9600f_row5_col5\" class=\"data row5 col5\" >1.899000</td>\n",
       "                        <td id=\"T_9600f_row5_col6\" class=\"data row5 col6\" >2.986000</td>\n",
       "                        <td id=\"T_9600f_row5_col7\" class=\"data row5 col7\" >2.419000</td>\n",
       "                        <td id=\"T_9600f_row5_col8\" class=\"data row5 col8\" >2.675000</td>\n",
       "                        <td id=\"T_9600f_row5_col9\" class=\"data row5 col9\" >1.602000</td>\n",
       "                        <td id=\"T_9600f_row5_col10\" class=\"data row5 col10\" >2.370335</td>\n",
       "                        <td id=\"T_9600f_row5_col11\" class=\"data row5 col11\" >1.887172</td>\n",
       "                        <td id=\"T_9600f_row5_col12\" class=\"data row5 col12\" >11.851675</td>\n",
       "                        <td id=\"T_9600f_row5_col13\" class=\"data row5 col13\" >5.495715</td>\n",
       "            </tr>\n",
       "            <tr>\n",
       "                        <th id=\"T_9600f_level0_row6\" class=\"row_heading level0 row6\" >24_8_128_128_flow_norm_conv_bilstm64</th>\n",
       "                        <td id=\"T_9600f_row6_col0\" class=\"data row6 col0\" >0.529000</td>\n",
       "                        <td id=\"T_9600f_row6_col1\" class=\"data row6 col1\" >0.628000</td>\n",
       "                        <td id=\"T_9600f_row6_col2\" class=\"data row6 col2\" >0.478000</td>\n",
       "                        <td id=\"T_9600f_row6_col3\" class=\"data row6 col3\" >0.617000</td>\n",
       "                        <td id=\"T_9600f_row6_col4\" class=\"data row6 col4\" >0.486000</td>\n",
       "                        <td id=\"T_9600f_row6_col5\" class=\"data row6 col5\" >0.623000</td>\n",
       "                        <td id=\"T_9600f_row6_col6\" class=\"data row6 col6\" >0.460000</td>\n",
       "                        <td id=\"T_9600f_row6_col7\" class=\"data row6 col7\" >0.561000</td>\n",
       "                        <td id=\"T_9600f_row6_col8\" class=\"data row6 col8\" >0.806000</td>\n",
       "                        <td id=\"T_9600f_row6_col9\" class=\"data row6 col9\" >0.902000</td>\n",
       "                        <td id=\"T_9600f_row6_col10\" class=\"data row6 col10\" >0.551799</td>\n",
       "                        <td id=\"T_9600f_row6_col11\" class=\"data row6 col11\" >0.687907</td>\n",
       "                        <td id=\"T_9600f_row6_col12\" class=\"data row6 col12\" >2.758993</td>\n",
       "                        <td id=\"T_9600f_row6_col13\" class=\"data row6 col13\" >1.823954</td>\n",
       "            </tr>\n",
       "            <tr>\n",
       "                        <th id=\"T_9600f_level0_row7\" class=\"row_heading level0 row7\" >24_8_128_128_flow_norm_dir_conv_bilstm64</th>\n",
       "                        <td id=\"T_9600f_row7_col0\" class=\"data row7 col0\" >0.493000</td>\n",
       "                        <td id=\"T_9600f_row7_col1\" class=\"data row7 col1\" >0.634000</td>\n",
       "                        <td id=\"T_9600f_row7_col2\" class=\"data row7 col2\" >0.486000</td>\n",
       "                        <td id=\"T_9600f_row7_col3\" class=\"data row7 col3\" >0.581000</td>\n",
       "                        <td id=\"T_9600f_row7_col4\" class=\"data row7 col4\" >0.475000</td>\n",
       "                        <td id=\"T_9600f_row7_col5\" class=\"data row7 col5\" >0.704000</td>\n",
       "                        <td id=\"T_9600f_row7_col6\" class=\"data row7 col6\" >0.453000</td>\n",
       "                        <td id=\"T_9600f_row7_col7\" class=\"data row7 col7\" >0.743000</td>\n",
       "                        <td id=\"T_9600f_row7_col8\" class=\"data row7 col8\" >0.781000</td>\n",
       "                        <td id=\"T_9600f_row7_col9\" class=\"data row7 col9\" >0.882000</td>\n",
       "                        <td id=\"T_9600f_row7_col10\" class=\"data row7 col10\" >0.537410</td>\n",
       "                        <td id=\"T_9600f_row7_col11\" class=\"data row7 col11\" >0.725464</td>\n",
       "                        <td id=\"T_9600f_row7_col12\" class=\"data row7 col12\" >2.687050</td>\n",
       "                        <td id=\"T_9600f_row7_col13\" class=\"data row7 col13\" >2.128746</td>\n",
       "            </tr>\n",
       "            <tr>\n",
       "                        <th id=\"T_9600f_level0_row8\" class=\"row_heading level0 row8\" >24_8_128_128_flow_norm_dir_gap</th>\n",
       "                        <td id=\"T_9600f_row8_col0\" class=\"data row8 col0\" >1.669000</td>\n",
       "                        <td id=\"T_9600f_row8_col1\" class=\"data row8 col1\" >1.545000</td>\n",
       "                        <td id=\"T_9600f_row8_col2\" class=\"data row8 col2\" >1.543000</td>\n",
       "                        <td id=\"T_9600f_row8_col3\" class=\"data row8 col3\" >1.371000</td>\n",
       "                        <td id=\"T_9600f_row8_col4\" class=\"data row8 col4\" >3.032000</td>\n",
       "                        <td id=\"T_9600f_row8_col5\" class=\"data row8 col5\" >1.789000</td>\n",
       "                        <td id=\"T_9600f_row8_col6\" class=\"data row8 col6\" >2.896000</td>\n",
       "                        <td id=\"T_9600f_row8_col7\" class=\"data row8 col7\" >2.539000</td>\n",
       "                        <td id=\"T_9600f_row8_col8\" class=\"data row8 col8\" >2.781000</td>\n",
       "                        <td id=\"T_9600f_row8_col9\" class=\"data row8 col9\" >1.627000</td>\n",
       "                        <td id=\"T_9600f_row8_col10\" class=\"data row8 col10\" >2.384173</td>\n",
       "                        <td id=\"T_9600f_row8_col11\" class=\"data row8 col11\" >1.926874</td>\n",
       "                        <td id=\"T_9600f_row8_col12\" class=\"data row8 col12\" >11.920863</td>\n",
       "                        <td id=\"T_9600f_row8_col13\" class=\"data row8 col13\" >4.757523</td>\n",
       "            </tr>\n",
       "            <tr>\n",
       "                        <th id=\"T_9600f_level0_row9\" class=\"row_heading level0 row9\" >24_8_128_128_flow_norm_dir_lstm8_conv_lstm8</th>\n",
       "                        <td id=\"T_9600f_row9_col0\" class=\"data row9 col0\" >0.460000</td>\n",
       "                        <td id=\"T_9600f_row9_col1\" class=\"data row9 col1\" >0.693000</td>\n",
       "                        <td id=\"T_9600f_row9_col2\" class=\"data row9 col2\" >0.464000</td>\n",
       "                        <td id=\"T_9600f_row9_col3\" class=\"data row9 col3\" >0.548000</td>\n",
       "                        <td id=\"T_9600f_row9_col4\" class=\"data row9 col4\" >0.511000</td>\n",
       "                        <td id=\"T_9600f_row9_col5\" class=\"data row9 col5\" >0.678000</td>\n",
       "                        <td id=\"T_9600f_row9_col6\" class=\"data row9 col6\" >0.486000</td>\n",
       "                        <td id=\"T_9600f_row9_col7\" class=\"data row9 col7\" >0.739000</td>\n",
       "                        <td id=\"T_9600f_row9_col8\" class=\"data row9 col8\" >0.849000</td>\n",
       "                        <td id=\"T_9600f_row9_col9\" class=\"data row9 col9\" >1.054000</td>\n",
       "                        <td id=\"T_9600f_row9_col10\" class=\"data row9 col10\" >0.553957</td>\n",
       "                        <td id=\"T_9600f_row9_col11\" class=\"data row9 col11\" >0.774343</td>\n",
       "                        <td id=\"T_9600f_row9_col12\" class=\"data row9 col12\" >2.769784</td>\n",
       "                        <td id=\"T_9600f_row9_col13\" class=\"data row9 col13\" >2.150177</td>\n",
       "            </tr>\n",
       "            <tr>\n",
       "                        <th id=\"T_9600f_level0_row10\" class=\"row_heading level0 row10\" >24_8_128_128_norm_dir_conv_bilstm64</th>\n",
       "                        <td id=\"T_9600f_row10_col0\" class=\"data row10 col0\" >0.572000</td>\n",
       "                        <td id=\"T_9600f_row10_col1\" class=\"data row10 col1\" >0.589000</td>\n",
       "                        <td id=\"T_9600f_row10_col2\" class=\"data row10 col2\" >0.518000</td>\n",
       "                        <td id=\"T_9600f_row10_col3\" class=\"data row10 col3\" >0.611000</td>\n",
       "                        <td id=\"T_9600f_row10_col4\" class=\"data row10 col4\" >0.464000</td>\n",
       "                        <td id=\"T_9600f_row10_col5\" class=\"data row10 col5\" >0.561000</td>\n",
       "                        <td id=\"T_9600f_row10_col6\" class=\"data row10 col6\" >0.511000</td>\n",
       "                        <td id=\"T_9600f_row10_col7\" class=\"data row10 col7\" >0.634000</td>\n",
       "                        <td id=\"T_9600f_row10_col8\" class=\"data row10 col8\" >0.795000</td>\n",
       "                        <td id=\"T_9600f_row10_col9\" class=\"data row10 col9\" >0.857000</td>\n",
       "                        <td id=\"T_9600f_row10_col10\" class=\"data row10 col10\" >0.571942</td>\n",
       "                        <td id=\"T_9600f_row10_col11\" class=\"data row10 col11\" >0.668029</td>\n",
       "                        <td id=\"T_9600f_row10_col12\" class=\"data row10 col12\" >2.859712</td>\n",
       "                        <td id=\"T_9600f_row10_col13\" class=\"data row10 col13\" >1.782740</td>\n",
       "            </tr>\n",
       "            <tr>\n",
       "                        <th id=\"T_9600f_level0_row11\" class=\"row_heading level0 row11\" >24_8_128_128_norm_dir_gap</th>\n",
       "                        <td id=\"T_9600f_row11_col0\" class=\"data row11 col0\" >1.813000</td>\n",
       "                        <td id=\"T_9600f_row11_col1\" class=\"data row11 col1\" >1.610000</td>\n",
       "                        <td id=\"T_9600f_row11_col2\" class=\"data row11 col2\" >1.511000</td>\n",
       "                        <td id=\"T_9600f_row11_col3\" class=\"data row11 col3\" >1.324000</td>\n",
       "                        <td id=\"T_9600f_row11_col4\" class=\"data row11 col4\" >3.032000</td>\n",
       "                        <td id=\"T_9600f_row11_col5\" class=\"data row11 col5\" >1.757000</td>\n",
       "                        <td id=\"T_9600f_row11_col6\" class=\"data row11 col6\" >2.446000</td>\n",
       "                        <td id=\"T_9600f_row11_col7\" class=\"data row11 col7\" >2.472000</td>\n",
       "                        <td id=\"T_9600f_row11_col8\" class=\"data row11 col8\" >2.194000</td>\n",
       "                        <td id=\"T_9600f_row11_col9\" class=\"data row11 col9\" >1.594000</td>\n",
       "                        <td id=\"T_9600f_row11_col10\" class=\"data row11 col10\" >2.199281</td>\n",
       "                        <td id=\"T_9600f_row11_col11\" class=\"data row11 col11\" >1.865591</td>\n",
       "                        <td id=\"T_9600f_row11_col12\" class=\"data row11 col12\" >10.996403</td>\n",
       "                        <td id=\"T_9600f_row11_col13\" class=\"data row11 col13\" >4.426456</td>\n",
       "            </tr>\n",
       "            <tr>\n",
       "                        <th id=\"T_9600f_level0_row12\" class=\"row_heading level0 row12\" >24_8_128_128_norm_dir_gap_bilstm64</th>\n",
       "                        <td id=\"T_9600f_row12_col0\" class=\"data row12 col0\" >0.511000</td>\n",
       "                        <td id=\"T_9600f_row12_col1\" class=\"data row12 col1\" >0.562000</td>\n",
       "                        <td id=\"T_9600f_row12_col2\" class=\"data row12 col2\" >0.475000</td>\n",
       "                        <td id=\"T_9600f_row12_col3\" class=\"data row12 col3\" >0.683000</td>\n",
       "                        <td id=\"T_9600f_row12_col4\" class=\"data row12 col4\" >0.525000</td>\n",
       "                        <td id=\"T_9600f_row12_col5\" class=\"data row12 col5\" >0.683000</td>\n",
       "                        <td id=\"T_9600f_row12_col6\" class=\"data row12 col6\" >0.543000</td>\n",
       "                        <td id=\"T_9600f_row12_col7\" class=\"data row12 col7\" >0.650000</td>\n",
       "                        <td id=\"T_9600f_row12_col8\" class=\"data row12 col8\" >1.151000</td>\n",
       "                        <td id=\"T_9600f_row12_col9\" class=\"data row12 col9\" >1.493000</td>\n",
       "                        <td id=\"T_9600f_row12_col10\" class=\"data row12 col10\" >0.641007</td>\n",
       "                        <td id=\"T_9600f_row12_col11\" class=\"data row12 col11\" >0.918187</td>\n",
       "                        <td id=\"T_9600f_row12_col12\" class=\"data row12 col12\" >3.205036</td>\n",
       "                        <td id=\"T_9600f_row12_col13\" class=\"data row12 col13\" >2.366822</td>\n",
       "            </tr>\n",
       "            <tr>\n",
       "                        <th id=\"T_9600f_level0_row13\" class=\"row_heading level0 row13\" >24_8_128_128_norm_dir_lstm8_conv_lstm8</th>\n",
       "                        <td id=\"T_9600f_row13_col0\" class=\"data row13 col0\" >0.486000</td>\n",
       "                        <td id=\"T_9600f_row13_col1\" class=\"data row13 col1\" >0.720000</td>\n",
       "                        <td id=\"T_9600f_row13_col2\" class=\"data row13 col2\" >0.414000</td>\n",
       "                        <td id=\"T_9600f_row13_col3\" class=\"data row13 col3\" >0.629000</td>\n",
       "                        <td id=\"T_9600f_row13_col4\" class=\"data row13 col4\" >0.532000</td>\n",
       "                        <td id=\"T_9600f_row13_col5\" class=\"data row13 col5\" >0.704000</td>\n",
       "                        <td id=\"T_9600f_row13_col6\" class=\"data row13 col6\" >0.561000</td>\n",
       "                        <td id=\"T_9600f_row13_col7\" class=\"data row13 col7\" >0.838000</td>\n",
       "                        <td id=\"T_9600f_row13_col8\" class=\"data row13 col8\" >0.784000</td>\n",
       "                        <td id=\"T_9600f_row13_col9\" class=\"data row13 col9\" >0.989000</td>\n",
       "                        <td id=\"T_9600f_row13_col10\" class=\"data row13 col10\" >0.555396</td>\n",
       "                        <td id=\"T_9600f_row13_col11\" class=\"data row13 col11\" >0.794421</td>\n",
       "                        <td id=\"T_9600f_row13_col12\" class=\"data row13 col12\" >2.776978</td>\n",
       "                        <td id=\"T_9600f_row13_col13\" class=\"data row13 col13\" >2.632238</td>\n",
       "            </tr>\n",
       "    </tbody></table>"
      ],
      "text/plain": [
       "<pandas.io.formats.style.Styler at 0x7f9c242b1df0>"
      ]
     },
     "execution_count": 7,
     "metadata": {},
     "output_type": "execute_result"
    }
   ],
   "source": [
    "# highlight the lowest values\n",
    "results_agg_df.style.highlight_min(color = 'lightgreen', axis = 0)"
   ]
  },
  {
   "cell_type": "code",
   "execution_count": 9,
   "metadata": {},
   "outputs": [
    {
     "data": {
      "image/png": "[encoded data removed]",
      "text/plain": [
       "<Figure size 1440x432 with 1 Axes>"
      ]
     },
     "metadata": {
      "needs_background": "light"
     },
     "output_type": "display_data"
    }
   ],
   "source": [
    "# create a barplot for all experiments overall (mean/sd)\n",
    "f = plt.figure(figsize=(20,6))\n",
    "plt.rcParams['font.size'] = '16'\n",
    "ax = f.gca()\n",
    "ax.set_ylim(bottom=0, top=results_agg_df['Cycle']['Mean'].max())\n",
    "ax.set_ylabel('cFD (cyclic Frame Difference)')\n",
    "ax.set_xlabel('Experiments')\n",
    "results_agg_df[['overall','Cycle']].plot(kind='bar',ax=ax, grid=True)\n",
    "plt.show()"
   ]
  },
  {
   "cell_type": "markdown",
   "metadata": {},
   "source": [
    "# Error per phase, overall and per cardiac cycle"
   ]
  },
  {
   "cell_type": "code",
   "execution_count": 9,
   "metadata": {},
   "outputs": [
    {
     "data": {
      "application/vnd.jupyter.widget-view+json": {
       "model_id": "645c676a9e974e1ba987d70da1bc7d5e",
       "version_major": 2,
       "version_minor": 0
      },
      "text/plain": [
       "FileChooser(path='/mnt/ssd/git/dynamic-cmr-models/exp/local', filename='', title='HTML(value='', layout=Layout…"
      ]
     },
     "metadata": {},
     "output_type": "display_data"
    }
   ],
   "source": [
    "local_storage = os.path.join(os.getcwd(),'exp/local')\n",
    "fchooser = FileChooser(local_storage, '')\n",
    "display(fchooser)"
   ]
  },
  {
   "cell_type": "code",
   "execution_count": 16,
   "metadata": {},
   "outputs": [],
   "source": [
    "df = pd.read_excel(fchooser.selected)\n",
    "df = df.loc[:, ~df.columns.str.contains('^Unnamed')]"
   ]
  },
  {
   "cell_type": "code",
   "execution_count": 17,
   "metadata": {},
   "outputs": [
    {
     "name": "stdout",
     "output_type": "stream",
     "text": [
      "Mean per phase: \n",
      "ED    0.808081\n",
      "MS    0.878788\n",
      "ES    0.929293\n",
      "PF    1.757576\n",
      "MD    1.656566\n",
      "dtype: float64\n",
      "Median per phase: \n",
      "ED    1.0\n",
      "MS    1.0\n",
      "ES    1.0\n",
      "PF    1.0\n",
      "MD    1.0\n",
      "dtype: float64\n",
      "Std per phase: \n",
      "ED    1.103582\n",
      "MS    1.334570\n",
      "ES    1.394249\n",
      "PF    1.604146\n",
      "MD    1.841481\n",
      "dtype: float64\n",
      "Mean cFD: \n",
      "    1.2061\n",
      "Std mean cFD: \n",
      "    1.5262\n",
      "per cycle cFD: \n",
      "    6.0303\n",
      "per cycle cFD std: \n",
      "    4.4505\n"
     ]
    }
   ],
   "source": [
    "print('Mean per phase: \\n{}'.format(df.mean(axis=0)))\n",
    "print('Median per phase: \\n{}'.format(df.median(axis=0)))\n",
    "print('Std per phase: \\n{}'.format(df.std(axis=0)))\n",
    "\n",
    "print('Mean cFD: \\n{:10.4f}'.format(df.values.mean()))\n",
    "#print('Median overall: \\n{:10.4f}'.format(np.median(df.values)))\n",
    "print('Std mean cFD: \\n{:10.4f}'.format(df.values.std()))\n",
    "\n",
    "print('per cycle cFD: \\n{:10.4f}'.format(np.mean(df.sum(axis=1))))\n",
    "print('per cycle cFD std: \\n{:10.4f}'.format(np.std(df.sum(axis=1))))"
   ]
  },
  {
   "cell_type": "markdown",
   "metadata": {},
   "source": [
    "# Violin plot - error per phase"
   ]
  },
  {
   "cell_type": "code",
   "execution_count": 18,
   "metadata": {},
   "outputs": [
    {
     "data": {
      "image/png": "[encoded data removed]",
      "text/plain": [
       "<Figure size 576x360 with 1 Axes>"
      ]
     },
     "metadata": {
      "needs_background": "light"
     },
     "output_type": "display_data"
    }
   ],
   "source": [
    "import seaborn as sb\n",
    "sb.set_context('paper')\n",
    "f = plt.figure(figsize=(8,5))\n",
    "plt.rcParams['font.size'] = '16'\n",
    "ax = f.gca()\n",
    "ax.set_ylim(bottom=0, top=6)\n",
    "ax.set_ylabel('cFD (cyclic Frame Difference)')\n",
    "ax.set_xlabel('Cardiac phases')\n",
    "#_ = DF_METADATA[phases].plot(kind='violin'),\n",
    "sb.violinplot(data=df, orient='v', ax = ax)\n",
    "sb.pointplot(data=df, orient='v', ax = ax, estimator=np.mean,color=\"black\", markers=\"o\", ci=None,join=False)\n",
    "sb.pointplot(data=df, orient='v', ax = ax, estimator=np.median,color=\"black\", markers=\"x\", size=2, ci=None,join=False)\n",
    "plt.grid()\n",
    "plt.savefig('bestphase')\n"
   ]
  },
  {
   "cell_type": "markdown",
   "metadata": {},
   "source": [
    "# Error per cardiac cycle"
   ]
  },
  {
   "cell_type": "code",
   "execution_count": 19,
   "metadata": {},
   "outputs": [
    {
     "data": {
      "image/png": "[encoded data removed]",
      "text/plain": [
       "<Figure size 144x360 with 1 Axes>"
      ]
     },
     "metadata": {
      "needs_background": "light"
     },
     "output_type": "display_data"
    }
   ],
   "source": [
    "import seaborn as sb\n",
    "sb.set_context('paper')\n",
    "f = plt.figure(figsize=(2,5))\n",
    "ax = f.gca()\n",
    "ax.set_ylabel('Cardiac phases')\n",
    "ax.set_xlabel('Cycle error')\n",
    "temp = df.sum(axis=1)\n",
    "sb.violinplot(data=temp, orient='v', ax = ax)\n",
    "#sb.scatterplot(data=temp, ax=ax)\n",
    "sb.pointplot(data=temp, orient='v', ax = ax, estimator=np.mean,color=\"black\", markers=\"o\", ci=None,join=False)\n",
    "sb.pointplot(data=temp, orient='v', ax = ax, estimator=np.median,color=\"black\", markers=\"_\", ci=None,join=False)\n",
    "plt.grid()\n",
    "plt.show()"
   ]
  },
  {
   "cell_type": "code",
   "execution_count": null,
   "metadata": {},
   "outputs": [],
   "source": []
  }
 ],
 "metadata": {
  "kernelspec": {
   "display_name": "dcmr",
   "language": "python",
   "name": "dcmr"
  },
  "language_info": {
   "codemirror_mode": {
    "name": "ipython",
    "version": 3
   },
   "file_extension": ".py",
   "mimetype": "text/x-python",
   "name": "python",
   "nbconvert_exporter": "python",
   "pygments_lexer": "ipython3",
   "version": "3.8.5"
  },
  "widgets": {
   "application/vnd.jupyter.widget-state+json": {
    "state": {
     "010b974469fb4f2abcb0938abf964808": {
      "model_module": "@jupyter-widgets/controls",
      "model_module_version": "1.5.0",
      "model_name": "ButtonStyleModel",
      "state": {}
     },
     "03082a7606214568986b232f656d7ef3": {
      "model_module": "@jupyter-widgets/controls",
      "model_module_version": "1.5.0",
      "model_name": "ButtonStyleModel",
      "state": {}
     },
     "0502a13d1880490b88efe5106d8de7ca": {
      "model_module": "@jupyter-widgets/base",
      "model_module_version": "1.2.0",
      "model_name": "LayoutModel",
      "state": {}
     },
     "06681408acfe40028cb667c70ca49c4b": {
      "model_module": "@jupyter-widgets/controls",
      "model_module_version": "1.5.0",
      "model_name": "DescriptionStyleModel",
      "state": {
       "description_width": ""
      }
     },
     "0ddf7511422f4a2da08012a3710d4f9d": {
      "model_module": "@jupyter-widgets/base",
      "model_module_version": "1.2.0",
      "model_name": "LayoutModel",
      "state": {
       "grid_area": "dircontent",
       "width": "auto"
      }
     },
     "1427141e0e214571b1b9bd8dfff2a98f": {
      "model_module": "@jupyter-widgets/controls",
      "model_module_version": "1.5.0",
      "model_name": "TextModel",
      "state": {
       "layout": "IPY_MODEL_1f1aced396b44fc89feccd91ebd68f23",
       "placeholder": "output filename",
       "style": "IPY_MODEL_eb93d18443b141e1b6bb00ee942fefa0",
       "value": "results.xlsx"
      }
     },
     "164e7e39b79d4e17bbc2061bb8e281f2": {
      "model_module": "@jupyter-widgets/controls",
      "model_module_version": "1.5.0",
      "model_name": "ButtonStyleModel",
      "state": {}
     },
     "1927754daaed40e8a8e31735d2cda64b": {
      "model_module": "@jupyter-widgets/base",
      "model_module_version": "1.2.0",
      "model_name": "LayoutModel",
      "state": {
       "width": "auto"
      }
     },
     "19afaef6d616434ab0afb3a117159625": {
      "model_module": "@jupyter-widgets/base",
      "model_module_version": "1.2.0",
      "model_name": "LayoutModel",
      "state": {
       "display": "none",
       "width": "auto"
      }
     },
     "19d83cae916041ab833d4e9c688b7523": {
      "model_module": "@jupyter-widgets/controls",
      "model_module_version": "1.5.0",
      "model_name": "SelectModel",
      "state": {
       "_options_labels": [
        "..",
        "f0",
        "f1",
        "f2",
        "f3",
        "moved",
        "pred",
        "results.xlsx"
       ],
       "index": 7,
       "layout": "IPY_MODEL_0ddf7511422f4a2da08012a3710d4f9d",
       "rows": 8,
       "style": "IPY_MODEL_43b3a2e73a9646ceb8ec6747aa19781a"
      }
     },
     "1f1aced396b44fc89feccd91ebd68f23": {
      "model_module": "@jupyter-widgets/base",
      "model_module_version": "1.2.0",
      "model_name": "LayoutModel",
      "state": {
       "grid_area": "filename",
       "width": "auto"
      }
     },
     "1fdbadcd3bb04e51938c3165549d43a0": {
      "model_module": "@jupyter-widgets/base",
      "model_module_version": "1.2.0",
      "model_name": "LayoutModel",
      "state": {
       "width": "auto"
      }
     },
     "21b1ae0481d54b92a63be72c25c2e6bf": {
      "model_module": "@jupyter-widgets/controls",
      "model_module_version": "1.5.0",
      "model_name": "HTMLModel",
      "state": {
       "layout": "IPY_MODEL_8cd49f08da2046c8a95c1aeaf4835437",
       "style": "IPY_MODEL_06681408acfe40028cb667c70ca49c4b"
      }
     },
     "244ddef6fa274c9d8bb12a6e7f03c656": {
      "model_module": "@jupyter-widgets/controls",
      "model_module_version": "1.5.0",
      "model_name": "DescriptionStyleModel",
      "state": {
       "description_width": ""
      }
     },
     "29773fb54cc24f2f94b736862275bf43": {
      "model_module": "@jupyter-widgets/base",
      "model_module_version": "1.2.0",
      "model_name": "LayoutModel",
      "state": {
       "width": "auto"
      }
     },
     "2c07f4b7f2a34717a3ff5fb88d47c508": {
      "model_module": "@jupyter-widgets/base",
      "model_module_version": "1.2.0",
      "model_name": "LayoutModel",
      "state": {
       "width": "auto"
      }
     },
     "2de9de7fe6a14949b6c779cb1c46a66e": {
      "model_module": "@jupyter-widgets/controls",
      "model_module_version": "1.5.0",
      "model_name": "ButtonModel",
      "state": {
       "description": "Cancel",
       "layout": "IPY_MODEL_42f4d27c33d544518d3a780c17c28c8e",
       "style": "IPY_MODEL_03082a7606214568986b232f656d7ef3"
      }
     },
     "356baf0386b34e788ddee68c5c8778ef": {
      "model_module": "@jupyter-widgets/controls",
      "model_module_version": "1.5.0",
      "model_name": "DescriptionStyleModel",
      "state": {
       "description_width": ""
      }
     },
     "35c879bbe1294c25a5d1e9e47c3c9d9f": {
      "model_module": "@jupyter-widgets/controls",
      "model_module_version": "1.5.0",
      "model_name": "DescriptionStyleModel",
      "state": {
       "description_width": ""
      }
     },
     "3cf07b09e1e243da872f5c3cdeb3973f": {
      "model_module": "@jupyter-widgets/controls",
      "model_module_version": "1.5.0",
      "model_name": "ButtonModel",
      "state": {
       "description": "Change",
       "layout": "IPY_MODEL_2c07f4b7f2a34717a3ff5fb88d47c508",
       "style": "IPY_MODEL_88bced44a6e64c2bbca26d492487e5b6"
      }
     },
     "3fa702854fb04102b728d426c7915c55": {
      "model_module": "@jupyter-widgets/base",
      "model_module_version": "1.2.0",
      "model_name": "LayoutModel",
      "state": {
       "display": "none"
      }
     },
     "40e3f9ca394246db9a04adcd67f3c8ca": {
      "model_module": "@jupyter-widgets/base",
      "model_module_version": "1.2.0",
      "model_name": "LayoutModel",
      "state": {
       "display": "none",
       "width": "auto"
      }
     },
     "42f4d27c33d544518d3a780c17c28c8e": {
      "model_module": "@jupyter-widgets/base",
      "model_module_version": "1.2.0",
      "model_name": "LayoutModel",
      "state": {
       "display": "none",
       "width": "auto"
      }
     },
     "43b3a2e73a9646ceb8ec6747aa19781a": {
      "model_module": "@jupyter-widgets/controls",
      "model_module_version": "1.5.0",
      "model_name": "DescriptionStyleModel",
      "state": {
       "description_width": ""
      }
     },
     "4edbf3b845094d689c587829d851a0b0": {
      "model_module": "@jupyter-widgets/base",
      "model_module_version": "1.2.0",
      "model_name": "LayoutModel",
      "state": {
       "display": "none",
       "grid_gap": "0px 0px",
       "grid_template_areas": "\n                    'pathlist filename'\n                    'dircontent dircontent'\n                    ",
       "grid_template_columns": "60% 40%",
       "grid_template_rows": "auto auto",
       "width": "500px"
      }
     },
     "500a2466107d45929a6aa5e3a42c23b5": {
      "model_module": "@jupyter-widgets/controls",
      "model_module_version": "1.5.0",
      "model_name": "DescriptionStyleModel",
      "state": {
       "description_width": ""
      }
     },
     "50dd060d3d854561bdc8dda9c4ca00d5": {
      "model_module": "@jupyter-widgets/controls",
      "model_module_version": "1.5.0",
      "model_name": "GridBoxModel",
      "state": {
       "children": [
        "IPY_MODEL_e1d34a4638414d55b8f19927693ee535",
        "IPY_MODEL_c24e4caec07444f6bb865dd035c166b3",
        "IPY_MODEL_54683b27b1a546299b1dc86d4c035dbc"
       ],
       "layout": "IPY_MODEL_4edbf3b845094d689c587829d851a0b0"
      }
     },
     "54683b27b1a546299b1dc86d4c035dbc": {
      "model_module": "@jupyter-widgets/controls",
      "model_module_version": "1.5.0",
      "model_name": "SelectModel",
      "state": {
       "index": null,
       "layout": "IPY_MODEL_f41b238607c541b59dd8d49b1a055865",
       "rows": 8,
       "style": "IPY_MODEL_908437b8a3df46b5bf38154b97556539"
      }
     },
     "575c01eed6234a8b944227be7cfd53ea": {
      "model_module": "@jupyter-widgets/base",
      "model_module_version": "1.2.0",
      "model_name": "LayoutModel",
      "state": {
       "width": "auto"
      }
     },
     "60c5c4feeb0e4d4a9953b263746e52fc": {
      "model_module": "@jupyter-widgets/base",
      "model_module_version": "1.2.0",
      "model_name": "LayoutModel",
      "state": {
       "width": "auto"
      }
     },
     "6103614c3be34308a8646b1bc91258ed": {
      "model_module": "@jupyter-widgets/controls",
      "model_module_version": "1.5.0",
      "model_name": "ButtonModel",
      "state": {
       "description": "Cancel",
       "layout": "IPY_MODEL_40e3f9ca394246db9a04adcd67f3c8ca",
       "style": "IPY_MODEL_010b974469fb4f2abcb0938abf964808"
      }
     },
     "61c8e5713656401db63b1f428cbe5405": {
      "model_module": "@jupyter-widgets/controls",
      "model_module_version": "1.5.0",
      "model_name": "VBoxModel",
      "state": {
       "children": [
        "IPY_MODEL_bc58d2d93d4f49d5b74ac869be849e76",
        "IPY_MODEL_50dd060d3d854561bdc8dda9c4ca00d5",
        "IPY_MODEL_e3b372d1dc314d23ab1473b68bdde661"
       ],
       "layout": "IPY_MODEL_29773fb54cc24f2f94b736862275bf43"
      }
     },
     "645c676a9e974e1ba987d70da1bc7d5e": {
      "model_module": "@jupyter-widgets/controls",
      "model_module_version": "1.5.0",
      "model_name": "VBoxModel",
      "state": {
       "children": [
        "IPY_MODEL_21b1ae0481d54b92a63be72c25c2e6bf",
        "IPY_MODEL_829348ab5dd54603bae93590be1eb6c9",
        "IPY_MODEL_87d0c420adef45b9a11aad6e51d00440"
       ],
       "layout": "IPY_MODEL_1fdbadcd3bb04e51938c3165549d43a0"
      }
     },
     "65529fa4747e4292a7e3adfad818aec2": {
      "model_module": "@jupyter-widgets/controls",
      "model_module_version": "1.5.0",
      "model_name": "ButtonModel",
      "state": {
       "description": "Change",
       "layout": "IPY_MODEL_60c5c4feeb0e4d4a9953b263746e52fc",
       "style": "IPY_MODEL_f729b87c57954a0aaea15e09c8ee9e70"
      }
     },
     "66283a4ad1cb4332b4ba3a0b3570117d": {
      "model_module": "@jupyter-widgets/controls",
      "model_module_version": "1.5.0",
      "model_name": "HTMLModel",
      "state": {
       "layout": "IPY_MODEL_f36f5ecbdf7945b995aa9eaaf5fc47fe",
       "placeholder": "",
       "style": "IPY_MODEL_c40592a3f4e845f9929b193f55792feb",
       "value": "<span style=\"margin-left:10px; color:orange;\">/mnt/ssd/git/dynamic-cmr-models/exp/phasereg_v3/acdc/24_8_128_128_flow0_norm0_dir1_clstm0_conv0_lstm0/2022-01-19_18_18/results.xlsx</span>"
      }
     },
     "69c813a25719436792113ba6d03d64dc": {
      "model_module": "@jupyter-widgets/base",
      "model_module_version": "1.2.0",
      "model_name": "LayoutModel",
      "state": {
       "width": "auto"
      }
     },
     "6a9b79f6e16647ec8a5adf90e1b46a91": {
      "model_module": "@jupyter-widgets/base",
      "model_module_version": "1.2.0",
      "model_name": "LayoutModel",
      "state": {}
     },
     "7538f2e5ea364566bb8cb337967660a9": {
      "model_module": "@jupyter-widgets/base",
      "model_module_version": "1.2.0",
      "model_name": "LayoutModel",
      "state": {
       "display": "none",
       "grid_gap": "0px 0px",
       "grid_template_areas": "\n                    'pathlist filename'\n                    'dircontent dircontent'\n                    ",
       "grid_template_columns": "60% 40%",
       "grid_template_rows": "auto auto",
       "width": "500px"
      }
     },
     "77b11cf1a1a44b4bbf5735371e3c0520": {
      "model_module": "@jupyter-widgets/base",
      "model_module_version": "1.2.0",
      "model_name": "LayoutModel",
      "state": {
       "grid_area": "filename",
       "width": "auto"
      }
     },
     "7b53b91940e945e3bc56b32d5b7b350c": {
      "model_module": "@jupyter-widgets/base",
      "model_module_version": "1.2.0",
      "model_name": "LayoutModel",
      "state": {
       "width": "auto"
      }
     },
     "7da545398d694300920764181ccd3991": {
      "model_module": "@jupyter-widgets/controls",
      "model_module_version": "1.5.0",
      "model_name": "DescriptionStyleModel",
      "state": {
       "description_width": ""
      }
     },
     "7ffbd6718cac4b398cd2581599ef9d4d": {
      "model_module": "@jupyter-widgets/controls",
      "model_module_version": "1.5.0",
      "model_name": "DescriptionStyleModel",
      "state": {
       "description_width": ""
      }
     },
     "829348ab5dd54603bae93590be1eb6c9": {
      "model_module": "@jupyter-widgets/controls",
      "model_module_version": "1.5.0",
      "model_name": "GridBoxModel",
      "state": {
       "children": [
        "IPY_MODEL_dea6a11e7b3b42fdaf87b61f7e90734e",
        "IPY_MODEL_1427141e0e214571b1b9bd8dfff2a98f",
        "IPY_MODEL_98f819c95fc74e579212090e2135c5a8"
       ],
       "layout": "IPY_MODEL_7538f2e5ea364566bb8cb337967660a9"
      }
     },
     "84972b6a61d34c8cabc502f921d5466c": {
      "model_module": "@jupyter-widgets/controls",
      "model_module_version": "1.5.0",
      "model_name": "ButtonModel",
      "state": {
       "description": "Cancel",
       "layout": "IPY_MODEL_19afaef6d616434ab0afb3a117159625",
       "style": "IPY_MODEL_dc20b7f2b6954767875ccb57ccc7aea6"
      }
     },
     "87d0c420adef45b9a11aad6e51d00440": {
      "model_module": "@jupyter-widgets/controls",
      "model_module_version": "1.5.0",
      "model_name": "HBoxModel",
      "state": {
       "children": [
        "IPY_MODEL_65529fa4747e4292a7e3adfad818aec2",
        "IPY_MODEL_2de9de7fe6a14949b6c779cb1c46a66e",
        "IPY_MODEL_66283a4ad1cb4332b4ba3a0b3570117d"
       ],
       "layout": "IPY_MODEL_7b53b91940e945e3bc56b32d5b7b350c"
      }
     },
     "88bced44a6e64c2bbca26d492487e5b6": {
      "model_module": "@jupyter-widgets/controls",
      "model_module_version": "1.5.0",
      "model_name": "ButtonStyleModel",
      "state": {}
     },
     "88ee48f47a744de6a434f8a39df5c22e": {
      "model_module": "@jupyter-widgets/controls",
      "model_module_version": "1.5.0",
      "model_name": "VBoxModel",
      "state": {
       "children": [
        "IPY_MODEL_edb74000bb154a8b9f05239adbc7bc4b",
        "IPY_MODEL_aca2a874585349a9a84accfcc6936947",
        "IPY_MODEL_e28f5750b0844c70a5b176767c0ea4bf"
       ],
       "layout": "IPY_MODEL_f912a7e1ca7d444e842ff8cb0b1dfe79"
      }
     },
     "8a58a47d79054247b6f22941129ff3ef": {
      "model_module": "@jupyter-widgets/controls",
      "model_module_version": "1.5.0",
      "model_name": "TextModel",
      "state": {
       "layout": "IPY_MODEL_77b11cf1a1a44b4bbf5735371e3c0520",
       "placeholder": "output filename",
       "style": "IPY_MODEL_356baf0386b34e788ddee68c5c8778ef",
       "value": "results.xlsx"
      }
     },
     "8cd49f08da2046c8a95c1aeaf4835437": {
      "model_module": "@jupyter-widgets/base",
      "model_module_version": "1.2.0",
      "model_name": "LayoutModel",
      "state": {
       "display": "none"
      }
     },
     "908437b8a3df46b5bf38154b97556539": {
      "model_module": "@jupyter-widgets/controls",
      "model_module_version": "1.5.0",
      "model_name": "DescriptionStyleModel",
      "state": {
       "description_width": ""
      }
     },
     "90d010ed4bb94568898e2ff24eb735fd": {
      "model_module": "@jupyter-widgets/controls",
      "model_module_version": "1.5.0",
      "model_name": "DescriptionStyleModel",
      "state": {
       "description_width": ""
      }
     },
     "942b852546be4e25ab355caf7ba50d55": {
      "model_module": "@jupyter-widgets/base",
      "model_module_version": "1.2.0",
      "model_name": "LayoutModel",
      "state": {
       "grid_area": "pathlist",
       "width": "auto"
      }
     },
     "94e550f621824fd0b9795717e9720fd6": {
      "model_module": "@jupyter-widgets/controls",
      "model_module_version": "1.5.0",
      "model_name": "DescriptionStyleModel",
      "state": {
       "description_width": ""
      }
     },
     "961621adcd23437c91037edfae5131b0": {
      "model_module": "@jupyter-widgets/base",
      "model_module_version": "1.2.0",
      "model_name": "LayoutModel",
      "state": {
       "display": "none"
      }
     },
     "97356a0eedaa4acfb42156f157ce3fe5": {
      "model_module": "@jupyter-widgets/controls",
      "model_module_version": "1.5.0",
      "model_name": "DescriptionStyleModel",
      "state": {
       "description_width": ""
      }
     },
     "98f819c95fc74e579212090e2135c5a8": {
      "model_module": "@jupyter-widgets/controls",
      "model_module_version": "1.5.0",
      "model_name": "SelectModel",
      "state": {
       "_options_labels": [
        "..",
        "f0",
        "f1",
        "f2",
        "f3",
        "moved",
        "pred",
        "results.xlsx"
       ],
       "index": 7,
       "layout": "IPY_MODEL_e855b0d9bfb34261b1930fb672f084a4",
       "rows": 8,
       "style": "IPY_MODEL_7da545398d694300920764181ccd3991"
      }
     },
     "98ff0be2fee24dc5ba64dde9bb014712": {
      "model_module": "@jupyter-widgets/controls",
      "model_module_version": "1.5.0",
      "model_name": "CheckboxModel",
      "state": {
       "description": "evaluate_",
       "disabled": false,
       "layout": "IPY_MODEL_b87b827084d548139fa677599ee9476b",
       "style": "IPY_MODEL_c21b4f06925349d78c6fc8ef4fd4d1b5",
       "value": false
      }
     },
     "ab124c12153e4bed95f9df66f5fafff8": {
      "model_module": "@jupyter-widgets/controls",
      "model_module_version": "1.5.0",
      "model_name": "DescriptionStyleModel",
      "state": {
       "description_width": ""
      }
     },
     "aca2a874585349a9a84accfcc6936947": {
      "model_module": "@jupyter-widgets/controls",
      "model_module_version": "1.5.0",
      "model_name": "GridBoxModel",
      "state": {
       "children": [
        "IPY_MODEL_d1ced5f62f554678b20285292522a801",
        "IPY_MODEL_8a58a47d79054247b6f22941129ff3ef",
        "IPY_MODEL_19d83cae916041ab833d4e9c688b7523"
       ],
       "layout": "IPY_MODEL_f1d9a3e9134d4f15b66a94ebd5903164"
      }
     },
     "b3aac8584158445695a132aea01b7816": {
      "model_module": "@jupyter-widgets/controls",
      "model_module_version": "1.5.0",
      "model_name": "VBoxModel",
      "state": {
       "_dom_classes": [
        "widget-interact"
       ],
       "children": [
        "IPY_MODEL_98ff0be2fee24dc5ba64dde9bb014712",
        "IPY_MODEL_efaf3f6dbb4c47038e7721bb9e279d67"
       ],
       "layout": "IPY_MODEL_0502a13d1880490b88efe5106d8de7ca"
      }
     },
     "b87b827084d548139fa677599ee9476b": {
      "model_module": "@jupyter-widgets/base",
      "model_module_version": "1.2.0",
      "model_name": "LayoutModel",
      "state": {}
     },
     "ba8362a3f794406ab7f6599111137024": {
      "model_module": "@jupyter-widgets/controls",
      "model_module_version": "1.5.0",
      "model_name": "HTMLModel",
      "state": {
       "layout": "IPY_MODEL_6a9b79f6e16647ec8a5adf90e1b46a91",
       "placeholder": "",
       "style": "IPY_MODEL_90d010ed4bb94568898e2ff24eb735fd",
       "value": "<span style=\"margin-left:10px; color:orange;\">/mnt/ssd/git/dynamic-cmr-models/exp/phasereg_v3/acdc/24_8_128_128_flow0_norm0_dir1_clstm0_conv0_lstm0/2022-01-18_17_56/results.xlsx</span>"
      }
     },
     "bc58d2d93d4f49d5b74ac869be849e76": {
      "model_module": "@jupyter-widgets/controls",
      "model_module_version": "1.5.0",
      "model_name": "HTMLModel",
      "state": {
       "layout": "IPY_MODEL_961621adcd23437c91037edfae5131b0",
       "style": "IPY_MODEL_7ffbd6718cac4b398cd2581599ef9d4d"
      }
     },
     "c0252e8ee86f4258a4a550d02065253d": {
      "model_module": "@jupyter-widgets/base",
      "model_module_version": "1.2.0",
      "model_name": "LayoutModel",
      "state": {
       "grid_area": "pathlist",
       "width": "auto"
      }
     },
     "c21b4f06925349d78c6fc8ef4fd4d1b5": {
      "model_module": "@jupyter-widgets/controls",
      "model_module_version": "1.5.0",
      "model_name": "DescriptionStyleModel",
      "state": {
       "description_width": ""
      }
     },
     "c24e4caec07444f6bb865dd035c166b3": {
      "model_module": "@jupyter-widgets/controls",
      "model_module_version": "1.5.0",
      "model_name": "TextModel",
      "state": {
       "layout": "IPY_MODEL_f78fdc95ee00411c977d8bf4edd0b669",
       "placeholder": "output filename",
       "style": "IPY_MODEL_35c879bbe1294c25a5d1e9e47c3c9d9f"
      }
     },
     "c40592a3f4e845f9929b193f55792feb": {
      "model_module": "@jupyter-widgets/controls",
      "model_module_version": "1.5.0",
      "model_name": "DescriptionStyleModel",
      "state": {
       "description_width": ""
      }
     },
     "ccc6d20857084c37a6a5d90fca2435fc": {
      "model_module": "@jupyter-widgets/base",
      "model_module_version": "1.2.0",
      "model_name": "LayoutModel",
      "state": {
       "grid_area": "pathlist",
       "width": "auto"
      }
     },
     "d1ced5f62f554678b20285292522a801": {
      "model_module": "@jupyter-widgets/controls",
      "model_module_version": "1.5.0",
      "model_name": "DropdownModel",
      "state": {
       "_options_labels": [
        "/mnt/ssd/git/dynamic-cmr-models/exp/phasereg_v3/acdc/24_8_128_128_flow0_norm0_dir1_clstm0_conv0_lstm0/2022-01-18_17_56",
        "/mnt/ssd/git/dynamic-cmr-models/exp/phasereg_v3/acdc/24_8_128_128_flow0_norm0_dir1_clstm0_conv0_lstm0",
        "/mnt/ssd/git/dynamic-cmr-models/exp/phasereg_v3/acdc",
        "/mnt/ssd/git/dynamic-cmr-models/exp/phasereg_v3",
        "/mnt/ssd/git/dynamic-cmr-models/exp",
        "/mnt/ssd/git/dynamic-cmr-models",
        "/mnt/ssd/git",
        "/mnt/ssd",
        "/mnt",
        "/"
       ],
       "index": 0,
       "layout": "IPY_MODEL_942b852546be4e25ab355caf7ba50d55",
       "style": "IPY_MODEL_500a2466107d45929a6aa5e3a42c23b5"
      }
     },
     "d7b431ea5cea411385ecdc49d055f627": {
      "model_module": "@jupyter-widgets/controls",
      "model_module_version": "1.5.0",
      "model_name": "HTMLModel",
      "state": {
       "layout": "IPY_MODEL_d8914cc2d4204c2bac95450cc8f64365",
       "placeholder": "",
       "style": "IPY_MODEL_94e550f621824fd0b9795717e9720fd6",
       "value": "<span style=\"margin-left:10px; color:black;\">No file selected</span>"
      }
     },
     "d8914cc2d4204c2bac95450cc8f64365": {
      "model_module": "@jupyter-widgets/base",
      "model_module_version": "1.2.0",
      "model_name": "LayoutModel",
      "state": {}
     },
     "d9d4183a28314cafbd77183557bbc7e7": {
      "model_module": "@jupyter-widgets/controls",
      "model_module_version": "1.5.0",
      "model_name": "ButtonModel",
      "state": {
       "description": "Select",
       "layout": "IPY_MODEL_69c813a25719436792113ba6d03d64dc",
       "style": "IPY_MODEL_164e7e39b79d4e17bbc2061bb8e281f2"
      }
     },
     "dc20b7f2b6954767875ccb57ccc7aea6": {
      "model_module": "@jupyter-widgets/controls",
      "model_module_version": "1.5.0",
      "model_name": "ButtonStyleModel",
      "state": {}
     },
     "dea6a11e7b3b42fdaf87b61f7e90734e": {
      "model_module": "@jupyter-widgets/controls",
      "model_module_version": "1.5.0",
      "model_name": "DropdownModel",
      "state": {
       "_options_labels": [
        "/mnt/ssd/git/dynamic-cmr-models/exp/phasereg_v3/acdc/24_8_128_128_flow0_norm0_dir1_clstm0_conv0_lstm0/2022-01-19_18_18",
        "/mnt/ssd/git/dynamic-cmr-models/exp/phasereg_v3/acdc/24_8_128_128_flow0_norm0_dir1_clstm0_conv0_lstm0",
        "/mnt/ssd/git/dynamic-cmr-models/exp/phasereg_v3/acdc",
        "/mnt/ssd/git/dynamic-cmr-models/exp/phasereg_v3",
        "/mnt/ssd/git/dynamic-cmr-models/exp",
        "/mnt/ssd/git/dynamic-cmr-models",
        "/mnt/ssd/git",
        "/mnt/ssd",
        "/mnt",
        "/"
       ],
       "index": 0,
       "layout": "IPY_MODEL_ccc6d20857084c37a6a5d90fca2435fc",
       "style": "IPY_MODEL_ab124c12153e4bed95f9df66f5fafff8"
      }
     },
     "e1d34a4638414d55b8f19927693ee535": {
      "model_module": "@jupyter-widgets/controls",
      "model_module_version": "1.5.0",
      "model_name": "DropdownModel",
      "state": {
       "_options_labels": [
        "/mnt/sds/sven/code/dynamic-cmr-models/exp/phasereg_v3",
        "/mnt/sds/sven/code/dynamic-cmr-models/exp",
        "/mnt/sds/sven/code/dynamic-cmr-models",
        "/mnt/sds/sven/code",
        "/mnt/sds/sven",
        "/mnt/sds",
        "/mnt",
        "/"
       ],
       "index": 0,
       "layout": "IPY_MODEL_c0252e8ee86f4258a4a550d02065253d",
       "style": "IPY_MODEL_244ddef6fa274c9d8bb12a6e7f03c656"
      }
     },
     "e28f5750b0844c70a5b176767c0ea4bf": {
      "model_module": "@jupyter-widgets/controls",
      "model_module_version": "1.5.0",
      "model_name": "HBoxModel",
      "state": {
       "children": [
        "IPY_MODEL_3cf07b09e1e243da872f5c3cdeb3973f",
        "IPY_MODEL_6103614c3be34308a8646b1bc91258ed",
        "IPY_MODEL_ba8362a3f794406ab7f6599111137024"
       ],
       "layout": "IPY_MODEL_1927754daaed40e8a8e31735d2cda64b"
      }
     },
     "e3b372d1dc314d23ab1473b68bdde661": {
      "model_module": "@jupyter-widgets/controls",
      "model_module_version": "1.5.0",
      "model_name": "HBoxModel",
      "state": {
       "children": [
        "IPY_MODEL_d9d4183a28314cafbd77183557bbc7e7",
        "IPY_MODEL_84972b6a61d34c8cabc502f921d5466c",
        "IPY_MODEL_d7b431ea5cea411385ecdc49d055f627"
       ],
       "layout": "IPY_MODEL_575c01eed6234a8b944227be7cfd53ea"
      }
     },
     "e855b0d9bfb34261b1930fb672f084a4": {
      "model_module": "@jupyter-widgets/base",
      "model_module_version": "1.2.0",
      "model_name": "LayoutModel",
      "state": {
       "grid_area": "dircontent",
       "width": "auto"
      }
     },
     "eb93d18443b141e1b6bb00ee942fefa0": {
      "model_module": "@jupyter-widgets/controls",
      "model_module_version": "1.5.0",
      "model_name": "DescriptionStyleModel",
      "state": {
       "description_width": ""
      }
     },
     "edb74000bb154a8b9f05239adbc7bc4b": {
      "model_module": "@jupyter-widgets/controls",
      "model_module_version": "1.5.0",
      "model_name": "HTMLModel",
      "state": {
       "layout": "IPY_MODEL_3fa702854fb04102b728d426c7915c55",
       "style": "IPY_MODEL_97356a0eedaa4acfb42156f157ce3fe5"
      }
     },
     "edd47cc8f22d48f9a58a42f117796a01": {
      "model_module": "@jupyter-widgets/base",
      "model_module_version": "1.2.0",
      "model_name": "LayoutModel",
      "state": {}
     },
     "efaf3f6dbb4c47038e7721bb9e279d67": {
      "model_module": "@jupyter-widgets/output",
      "model_module_version": "1.0.0",
      "model_name": "OutputModel",
      "state": {
       "layout": "IPY_MODEL_edd47cc8f22d48f9a58a42f117796a01"
      }
     },
     "f1d9a3e9134d4f15b66a94ebd5903164": {
      "model_module": "@jupyter-widgets/base",
      "model_module_version": "1.2.0",
      "model_name": "LayoutModel",
      "state": {
       "display": "none",
       "grid_gap": "0px 0px",
       "grid_template_areas": "\n                    'pathlist filename'\n                    'dircontent dircontent'\n                    ",
       "grid_template_columns": "60% 40%",
       "grid_template_rows": "auto auto",
       "width": "500px"
      }
     },
     "f36f5ecbdf7945b995aa9eaaf5fc47fe": {
      "model_module": "@jupyter-widgets/base",
      "model_module_version": "1.2.0",
      "model_name": "LayoutModel",
      "state": {}
     },
     "f41b238607c541b59dd8d49b1a055865": {
      "model_module": "@jupyter-widgets/base",
      "model_module_version": "1.2.0",
      "model_name": "LayoutModel",
      "state": {
       "grid_area": "dircontent",
       "width": "auto"
      }
     },
     "f729b87c57954a0aaea15e09c8ee9e70": {
      "model_module": "@jupyter-widgets/controls",
      "model_module_version": "1.5.0",
      "model_name": "ButtonStyleModel",
      "state": {}
     },
     "f78fdc95ee00411c977d8bf4edd0b669": {
      "model_module": "@jupyter-widgets/base",
      "model_module_version": "1.2.0",
      "model_name": "LayoutModel",
      "state": {
       "grid_area": "filename",
       "width": "auto"
      }
     },
     "f912a7e1ca7d444e842ff8cb0b1dfe79": {
      "model_module": "@jupyter-widgets/base",
      "model_module_version": "1.2.0",
      "model_name": "LayoutModel",
      "state": {
       "width": "auto"
      }
     }
    },
    "version_major": 2,
    "version_minor": 0
   }
  }
 },
 "nbformat": 4,
 "nbformat_minor": 4
}
