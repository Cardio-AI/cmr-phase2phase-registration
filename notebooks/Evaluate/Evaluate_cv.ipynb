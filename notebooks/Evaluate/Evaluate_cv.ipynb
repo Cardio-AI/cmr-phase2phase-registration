{
 "cells": [
  {
   "cell_type": "code",
   "execution_count": 1,
   "metadata": {},
   "outputs": [
    {
     "name": "stdout",
     "output_type": "stream",
     "text": [
      "search for root_dir and set working directory\n",
      "Working directory set to: /mnt/ssd/git/dynamic-cmr-models\n"
     ]
    }
   ],
   "source": [
    "# ------------------------------------------define logging and working directory\n",
    "from ProjectRoot import change_wd_to_project_root\n",
    "change_wd_to_project_root()\n",
    "# ------------------------------------------jupyter magic config\n",
    "%matplotlib inline\n",
    "%reload_ext autoreload\n",
    "%autoreload 2\n",
    "# ------------------------------------------ import helpers\n",
    "# this should import glob, os, and many other standard libs\n",
    "# local imports\n",
    "from src.utils.Notebook_imports import *\n",
    "from src.utils.Utils_io import Console_and_file_logger, init_config\n",
    "\n",
    "import pandas as pd\n",
    "import numpy as np\n",
    "from ipyfilechooser import FileChooser\n",
    "import glob\n",
    "import os\n"
   ]
  },
  {
   "cell_type": "code",
   "execution_count": 3,
   "metadata": {},
   "outputs": [
    {
     "name": "stdout",
     "output_type": "stream",
     "text": [
      "hd_qz262@bwforcluster.bwservices.uni-heidelberg.de's password: \n"
     ]
    }
   ],
   "source": [
    "!ssh hd_qz262@bwforcluster.bwservices.uni-heidelberg.de"
   ]
  },
  {
   "cell_type": "code",
   "execution_count": 7,
   "metadata": {},
   "outputs": [],
   "source": [
    "def evaluate(exp_root, result_df='results.xlsx', pred_suffix = 'pred'):\n",
    "    print('eval: {}'.format(exp_root))\n",
    "    from src.utils.Metrics import meandiff\n",
    "    phases = ['ED', 'MS', 'ES', 'PF', 'MD']\n",
    "    \n",
    "    direct_path = '{}/{}/*.npy'.format(exp_root, pred_suffix)\n",
    "    print(direct_path)\n",
    "    all_pred_files = glob.glob(direct_path)\n",
    "    if len(all_pred_files) == 0:    \n",
    "        all_pred_files = sorted(glob.glob('{}/**/**/{}/*.npy'.format(exp_root, pred_suffix), recursive=True))\n",
    "    print(len(all_pred_files))\n",
    "    if len(all_pred_files) == 0:\n",
    "        all_pred_files = sorted(glob.glob('{}/{}/*.npy'.format(exp_root, pred_suffix), recursive=True))\n",
    "    #assert len(all_pred_files) ==4, 'we expect a four-fold cv, but found: {} predictions'.format(len(all_pred_files))\n",
    "    #print('predictions found: {}'.format(len(all_pred_files)))\n",
    "    # Load the numpy files\n",
    "    preds = list(map(lambda x : np.load(x), all_pred_files))\n",
    "    # stack the numpy files\n",
    "    preds = np.concatenate(preds, axis=1)\n",
    "    \n",
    "    # calculate the mean differences\n",
    "    res = meandiff(preds[0], preds[1], apply_sum=False, apply_average=False)\n",
    "    df = pd.DataFrame(res.numpy(), columns=phases)\n",
    "    df.to_excel(os.path.join(exp_root, result_df))\n",
    "    return df"
   ]
  },
  {
   "cell_type": "markdown",
   "metadata": {},
   "source": [
    "# Evaluate one experiment"
   ]
  },
  {
   "cell_type": "code",
   "execution_count": 8,
   "metadata": {},
   "outputs": [
    {
     "data": {
      "application/vnd.jupyter.widget-view+json": {
       "model_id": "447aea3f9edd49959c3f72b521b09df6",
       "version_major": 2,
       "version_minor": 0
      },
      "text/plain": [
       "FileChooser(path='/mnt/ssd/git/dynamic-cmr-models/exp/local', filename='', title='HTML(value='', layout=Layout…"
      ]
     },
     "metadata": {},
     "output_type": "display_data"
    },
    {
     "data": {
      "application/vnd.jupyter.widget-view+json": {
       "model_id": "10c42f2120504c328c4cea14bfaaf3a1",
       "version_major": 2,
       "version_minor": 0
      },
      "text/plain": [
       "interactive(children=(Checkbox(value=False, description='evaluate_'), Output()), _dom_classes=('widget-interac…"
      ]
     },
     "metadata": {},
     "output_type": "display_data"
    }
   ],
   "source": [
    "# choose an experiment folder\n",
    "fchooser = FileChooser(os.path.join(os.getcwd(),'exp/local'), '')\n",
    "display(fchooser)\n",
    "@interact\n",
    "def eval_interact(evaluate_=False):\n",
    "    global df\n",
    "    if evaluate_: \n",
    "        df = evaluate(fchooser.selected, pred_suffix='pred')"
   ]
  },
  {
   "cell_type": "markdown",
   "metadata": {},
   "source": [
    "# Evaluate multiple experiments - create a results.xlsx with one row per patient"
   ]
  },
  {
   "cell_type": "code",
   "execution_count": 10,
   "metadata": {
    "tags": []
   },
   "outputs": [
    {
     "name": "stdout",
     "output_type": "stream",
     "text": [
      "34\n",
      "eval: exp/local/baseline/\n",
      "Faild at: exp/local/baseline/ with: we expect a four-fold cv, but found: 0 predictions\n",
      "eval: exp/local/miccai_baseline/\n",
      "eval: exp/local/miccai_baseline_dim12_64_64/\n",
      "eval: exp/local/miccai_baseline_dim6_64_64/\n",
      "eval: exp/local/miccai_baseline_down2/\n",
      "eval: exp/local/miccai_baseline_down3/\n",
      "eval: exp/local/miccai_baseline_filters16/\n",
      "eval: exp/local/miccai_baseline_filters32/\n",
      "eval: exp/local/miccai_baseline_filters48/\n",
      "Faild at: exp/local/miccai_baseline_filters48/ with: we expect a four-fold cv, but found: 0 predictions\n",
      "eval: exp/local/miccai_baseline_gausscaling1/\n",
      "eval: exp/local/miccai_baseline_gausscaling10/\n",
      "eval: exp/local/miccai_baseline_hist/\n",
      "eval: exp/local/miccai_baseline_lstm32/\n",
      "eval: exp/local/miccai_baseline_lstm64/\n",
      "eval: exp/local/miccai_baseline_noaug/\n",
      "eval: exp/local/miccai_baseline_nogaussmooth/\n",
      "eval: exp/local/miccai_baseline_paug18/\n",
      "eval: exp/local/miccai_baseline_paug2/\n",
      "eval: exp/local/miccai_baseline_paug5/\n",
      "eval: exp/local/miccai_baseline_pre_conv/\n",
      "eval: exp/local/miccai_baseline_relu_cce_NOmask_NOtrans/\n",
      "eval: exp/local/miccai_baseline_relu_cce_mask_NOtrans/\n",
      "eval: exp/local/miccai_baseline_relu_cce_mask_trans/\n",
      "eval: exp/local/miccai_baseline_relu_mse_NOmask_NOtrans/\n",
      "eval: exp/local/miccai_baseline_sigma05/\n",
      "eval: exp/local/miccai_baseline_sigma08/\n",
      "eval: exp/local/miccai_baseline_sigma2/\n",
      "eval: exp/local/miccai_baseline_sigma4/\n",
      "eval: exp/local/miccai_baseline_tres_taug2/\n",
      "eval: exp/local/miccai_baseline_tres_taug2_paug2_hist/\n",
      "eval: exp/local/miccai_baseline_tresample55/\n"
     ]
    }
   ],
   "source": [
    "experiments = sorted(glob.glob('exp/local/*/'))\n",
    "print(len(experiments))\n",
    "excl = 'tres'\n",
    "results = []\n",
    "results_names = []\n",
    "for e in experiments:\n",
    "    try:\n",
    "        if excl not in e:\n",
    "            results.append(evaluate(e))\n",
    "            results_names.append(e.split('/')[-2])\n",
    "        else:\n",
    "            print('skip by substring: {}'.format(excl))\n",
    "    except Exception as ex:\n",
    "        print('Faild at: {} with: {}'.format(e,ex))"
   ]
  },
  {
   "cell_type": "markdown",
   "metadata": {},
   "source": [
    "# Build one dataframe with one row per experiment"
   ]
  },
  {
   "cell_type": "markdown",
   "metadata": {},
   "source": [
    "# Error per Phase as df"
   ]
  },
  {
   "cell_type": "code",
   "execution_count": 11,
   "metadata": {},
   "outputs": [],
   "source": [
    "# helper, aggregate one experiment\n",
    "def aggregate_df(df):\n",
    "    cols = ['Mean/phase', 'SD/phase']\n",
    "    temp = pd.DataFrame(columns=cols)\n",
    "    temp[cols[0]] = df.mean(axis=0)\n",
    "    temp[cols[1]] = df.std(axis=0)\n",
    "    temp = temp.round(3)\n",
    "    temp = temp.stack()\n",
    "    temp['overall','Mean'] = df.values.mean()\n",
    "    temp['overall','SD'] = df.values.std()\n",
    "    temp['Cycle','Mean'] = np.mean(df.sum(axis=1))\n",
    "    temp['Cycle','SD'] = np.std(df.sum(axis=1))\n",
    "    return temp"
   ]
  },
  {
   "cell_type": "code",
   "execution_count": 12,
   "metadata": {},
   "outputs": [],
   "source": [
    "results_agg = [aggregate_df(elem) for elem in results]\n",
    "results_agg_df = pd.concat(results_agg, axis=1).T\n",
    "results_agg_df.index = results_names"
   ]
  },
  {
   "cell_type": "markdown",
   "metadata": {},
   "source": [
    "# Show the aggregated results per experiment"
   ]
  },
  {
   "cell_type": "code",
   "execution_count": 13,
   "metadata": {},
   "outputs": [
    {
     "data": {
      "text/html": [
       "<style  type=\"text/css\" >\n",
       "#T_949b3_row20_col0,#T_949b3_row20_col1,#T_949b3_row20_col4,#T_949b3_row20_col5,#T_949b3_row20_col6,#T_949b3_row20_col7,#T_949b3_row20_col10,#T_949b3_row20_col11,#T_949b3_row20_col12,#T_949b3_row20_col13,#T_949b3_row22_col2,#T_949b3_row22_col3,#T_949b3_row22_col8,#T_949b3_row22_col9{\n",
       "            background-color:  lightgreen;\n",
       "        }</style><table id=\"T_949b3_\" ><thead>    <tr>        <th class=\"blank level0\" ></th>        <th class=\"col_heading level0 col0\" colspan=\"2\">ED</th>        <th class=\"col_heading level0 col2\" colspan=\"2\">MS</th>        <th class=\"col_heading level0 col4\" colspan=\"2\">ES</th>        <th class=\"col_heading level0 col6\" colspan=\"2\">PF</th>        <th class=\"col_heading level0 col8\" colspan=\"2\">MD</th>        <th class=\"col_heading level0 col10\" colspan=\"2\">overall</th>        <th class=\"col_heading level0 col12\" colspan=\"2\">Cycle</th>    </tr>    <tr>        <th class=\"blank level1\" ></th>        <th class=\"col_heading level1 col0\" >Mean/phase</th>        <th class=\"col_heading level1 col1\" >SD/phase</th>        <th class=\"col_heading level1 col2\" >Mean/phase</th>        <th class=\"col_heading level1 col3\" >SD/phase</th>        <th class=\"col_heading level1 col4\" >Mean/phase</th>        <th class=\"col_heading level1 col5\" >SD/phase</th>        <th class=\"col_heading level1 col6\" >Mean/phase</th>        <th class=\"col_heading level1 col7\" >SD/phase</th>        <th class=\"col_heading level1 col8\" >Mean/phase</th>        <th class=\"col_heading level1 col9\" >SD/phase</th>        <th class=\"col_heading level1 col10\" >Mean</th>        <th class=\"col_heading level1 col11\" >SD</th>        <th class=\"col_heading level1 col12\" >Mean</th>        <th class=\"col_heading level1 col13\" >SD</th>    </tr></thead><tbody>\n",
       "                <tr>\n",
       "                        <th id=\"T_949b3_level0_row0\" class=\"row_heading level0 row0\" >miccai_baseline</th>\n",
       "                        <td id=\"T_949b3_row0_col0\" class=\"data row0 col0\" >0.838000</td>\n",
       "                        <td id=\"T_949b3_row0_col1\" class=\"data row0 col1\" >1.061000</td>\n",
       "                        <td id=\"T_949b3_row0_col2\" class=\"data row0 col2\" >0.658000</td>\n",
       "                        <td id=\"T_949b3_row0_col3\" class=\"data row0 col3\" >0.712000</td>\n",
       "                        <td id=\"T_949b3_row0_col4\" class=\"data row0 col4\" >0.633000</td>\n",
       "                        <td id=\"T_949b3_row0_col5\" class=\"data row0 col5\" >1.017000</td>\n",
       "                        <td id=\"T_949b3_row0_col6\" class=\"data row0 col6\" >0.626000</td>\n",
       "                        <td id=\"T_949b3_row0_col7\" class=\"data row0 col7\" >0.809000</td>\n",
       "                        <td id=\"T_949b3_row0_col8\" class=\"data row0 col8\" >1.025000</td>\n",
       "                        <td id=\"T_949b3_row0_col9\" class=\"data row0 col9\" >1.227000</td>\n",
       "                        <td id=\"T_949b3_row0_col10\" class=\"data row0 col10\" >0.756115</td>\n",
       "                        <td id=\"T_949b3_row0_col11\" class=\"data row0 col11\" >0.992897</td>\n",
       "                        <td id=\"T_949b3_row0_col12\" class=\"data row0 col12\" >3.780576</td>\n",
       "                        <td id=\"T_949b3_row0_col13\" class=\"data row0 col13\" >2.532959</td>\n",
       "            </tr>\n",
       "            <tr>\n",
       "                        <th id=\"T_949b3_level0_row1\" class=\"row_heading level0 row1\" >miccai_baseline_dim12_64_64</th>\n",
       "                        <td id=\"T_949b3_row1_col0\" class=\"data row1 col0\" >1.007000</td>\n",
       "                        <td id=\"T_949b3_row1_col1\" class=\"data row1 col1\" >1.272000</td>\n",
       "                        <td id=\"T_949b3_row1_col2\" class=\"data row1 col2\" >0.647000</td>\n",
       "                        <td id=\"T_949b3_row1_col3\" class=\"data row1 col3\" >0.814000</td>\n",
       "                        <td id=\"T_949b3_row1_col4\" class=\"data row1 col4\" >0.626000</td>\n",
       "                        <td id=\"T_949b3_row1_col5\" class=\"data row1 col5\" >0.739000</td>\n",
       "                        <td id=\"T_949b3_row1_col6\" class=\"data row1 col6\" >0.604000</td>\n",
       "                        <td id=\"T_949b3_row1_col7\" class=\"data row1 col7\" >0.707000</td>\n",
       "                        <td id=\"T_949b3_row1_col8\" class=\"data row1 col8\" >0.978000</td>\n",
       "                        <td id=\"T_949b3_row1_col9\" class=\"data row1 col9\" >1.108000</td>\n",
       "                        <td id=\"T_949b3_row1_col10\" class=\"data row1 col10\" >0.772662</td>\n",
       "                        <td id=\"T_949b3_row1_col11\" class=\"data row1 col11\" >0.969373</td>\n",
       "                        <td id=\"T_949b3_row1_col12\" class=\"data row1 col12\" >3.863309</td>\n",
       "                        <td id=\"T_949b3_row1_col13\" class=\"data row1 col13\" >2.430920</td>\n",
       "            </tr>\n",
       "            <tr>\n",
       "                        <th id=\"T_949b3_level0_row2\" class=\"row_heading level0 row2\" >miccai_baseline_dim6_64_64</th>\n",
       "                        <td id=\"T_949b3_row2_col0\" class=\"data row2 col0\" >0.806000</td>\n",
       "                        <td id=\"T_949b3_row2_col1\" class=\"data row2 col1\" >0.975000</td>\n",
       "                        <td id=\"T_949b3_row2_col2\" class=\"data row2 col2\" >0.604000</td>\n",
       "                        <td id=\"T_949b3_row2_col3\" class=\"data row2 col3\" >0.707000</td>\n",
       "                        <td id=\"T_949b3_row2_col4\" class=\"data row2 col4\" >0.655000</td>\n",
       "                        <td id=\"T_949b3_row2_col5\" class=\"data row2 col5\" >1.145000</td>\n",
       "                        <td id=\"T_949b3_row2_col6\" class=\"data row2 col6\" >0.619000</td>\n",
       "                        <td id=\"T_949b3_row2_col7\" class=\"data row2 col7\" >0.735000</td>\n",
       "                        <td id=\"T_949b3_row2_col8\" class=\"data row2 col8\" >1.007000</td>\n",
       "                        <td id=\"T_949b3_row2_col9\" class=\"data row2 col9\" >1.061000</td>\n",
       "                        <td id=\"T_949b3_row2_col10\" class=\"data row2 col10\" >0.738129</td>\n",
       "                        <td id=\"T_949b3_row2_col11\" class=\"data row2 col11\" >0.951590</td>\n",
       "                        <td id=\"T_949b3_row2_col12\" class=\"data row2 col12\" >3.690647</td>\n",
       "                        <td id=\"T_949b3_row2_col13\" class=\"data row2 col13\" >2.450514</td>\n",
       "            </tr>\n",
       "            <tr>\n",
       "                        <th id=\"T_949b3_level0_row3\" class=\"row_heading level0 row3\" >miccai_baseline_down2</th>\n",
       "                        <td id=\"T_949b3_row3_col0\" class=\"data row3 col0\" >1.007000</td>\n",
       "                        <td id=\"T_949b3_row3_col1\" class=\"data row3 col1\" >1.388000</td>\n",
       "                        <td id=\"T_949b3_row3_col2\" class=\"data row3 col2\" >1.367000</td>\n",
       "                        <td id=\"T_949b3_row3_col3\" class=\"data row3 col3\" >1.633000</td>\n",
       "                        <td id=\"T_949b3_row3_col4\" class=\"data row3 col4\" >0.845000</td>\n",
       "                        <td id=\"T_949b3_row3_col5\" class=\"data row3 col5\" >1.592000</td>\n",
       "                        <td id=\"T_949b3_row3_col6\" class=\"data row3 col6\" >0.745000</td>\n",
       "                        <td id=\"T_949b3_row3_col7\" class=\"data row3 col7\" >1.387000</td>\n",
       "                        <td id=\"T_949b3_row3_col8\" class=\"data row3 col8\" >1.737000</td>\n",
       "                        <td id=\"T_949b3_row3_col9\" class=\"data row3 col9\" >2.002000</td>\n",
       "                        <td id=\"T_949b3_row3_col10\" class=\"data row3 col10\" >1.140288</td>\n",
       "                        <td id=\"T_949b3_row3_col11\" class=\"data row3 col11\" >1.654217</td>\n",
       "                        <td id=\"T_949b3_row3_col12\" class=\"data row3 col12\" >5.701439</td>\n",
       "                        <td id=\"T_949b3_row3_col13\" class=\"data row3 col13\" >4.941463</td>\n",
       "            </tr>\n",
       "            <tr>\n",
       "                        <th id=\"T_949b3_level0_row4\" class=\"row_heading level0 row4\" >miccai_baseline_down3</th>\n",
       "                        <td id=\"T_949b3_row4_col0\" class=\"data row4 col0\" >1.025000</td>\n",
       "                        <td id=\"T_949b3_row4_col1\" class=\"data row4 col1\" >1.194000</td>\n",
       "                        <td id=\"T_949b3_row4_col2\" class=\"data row4 col2\" >1.147000</td>\n",
       "                        <td id=\"T_949b3_row4_col3\" class=\"data row4 col3\" >1.209000</td>\n",
       "                        <td id=\"T_949b3_row4_col4\" class=\"data row4 col4\" >0.741000</td>\n",
       "                        <td id=\"T_949b3_row4_col5\" class=\"data row4 col5\" >1.401000</td>\n",
       "                        <td id=\"T_949b3_row4_col6\" class=\"data row4 col6\" >0.748000</td>\n",
       "                        <td id=\"T_949b3_row4_col7\" class=\"data row4 col7\" >1.513000</td>\n",
       "                        <td id=\"T_949b3_row4_col8\" class=\"data row4 col8\" >1.338000</td>\n",
       "                        <td id=\"T_949b3_row4_col9\" class=\"data row4 col9\" >1.689000</td>\n",
       "                        <td id=\"T_949b3_row4_col10\" class=\"data row4 col10\" >1.000000</td>\n",
       "                        <td id=\"T_949b3_row4_col11\" class=\"data row4 col11\" >1.429897</td>\n",
       "                        <td id=\"T_949b3_row4_col12\" class=\"data row4 col12\" >5.000000</td>\n",
       "                        <td id=\"T_949b3_row4_col13\" class=\"data row4 col13\" >4.154395</td>\n",
       "            </tr>\n",
       "            <tr>\n",
       "                        <th id=\"T_949b3_level0_row5\" class=\"row_heading level0 row5\" >miccai_baseline_filters16</th>\n",
       "                        <td id=\"T_949b3_row5_col0\" class=\"data row5 col0\" >0.773000</td>\n",
       "                        <td id=\"T_949b3_row5_col1\" class=\"data row5 col1\" >0.936000</td>\n",
       "                        <td id=\"T_949b3_row5_col2\" class=\"data row5 col2\" >0.637000</td>\n",
       "                        <td id=\"T_949b3_row5_col3\" class=\"data row5 col3\" >0.707000</td>\n",
       "                        <td id=\"T_949b3_row5_col4\" class=\"data row5 col4\" >0.694000</td>\n",
       "                        <td id=\"T_949b3_row5_col5\" class=\"data row5 col5\" >1.203000</td>\n",
       "                        <td id=\"T_949b3_row5_col6\" class=\"data row5 col6\" >0.626000</td>\n",
       "                        <td id=\"T_949b3_row5_col7\" class=\"data row5 col7\" >0.844000</td>\n",
       "                        <td id=\"T_949b3_row5_col8\" class=\"data row5 col8\" >1.079000</td>\n",
       "                        <td id=\"T_949b3_row5_col9\" class=\"data row5 col9\" >1.306000</td>\n",
       "                        <td id=\"T_949b3_row5_col10\" class=\"data row5 col10\" >0.761871</td>\n",
       "                        <td id=\"T_949b3_row5_col11\" class=\"data row5 col11\" >1.035409</td>\n",
       "                        <td id=\"T_949b3_row5_col12\" class=\"data row5 col12\" >3.809353</td>\n",
       "                        <td id=\"T_949b3_row5_col13\" class=\"data row5 col13\" >2.768590</td>\n",
       "            </tr>\n",
       "            <tr>\n",
       "                        <th id=\"T_949b3_level0_row6\" class=\"row_heading level0 row6\" >miccai_baseline_filters32</th>\n",
       "                        <td id=\"T_949b3_row6_col0\" class=\"data row6 col0\" >0.723000</td>\n",
       "                        <td id=\"T_949b3_row6_col1\" class=\"data row6 col1\" >0.891000</td>\n",
       "                        <td id=\"T_949b3_row6_col2\" class=\"data row6 col2\" >0.612000</td>\n",
       "                        <td id=\"T_949b3_row6_col3\" class=\"data row6 col3\" >0.696000</td>\n",
       "                        <td id=\"T_949b3_row6_col4\" class=\"data row6 col4\" >0.601000</td>\n",
       "                        <td id=\"T_949b3_row6_col5\" class=\"data row6 col5\" >0.884000</td>\n",
       "                        <td id=\"T_949b3_row6_col6\" class=\"data row6 col6\" >0.651000</td>\n",
       "                        <td id=\"T_949b3_row6_col7\" class=\"data row6 col7\" >0.809000</td>\n",
       "                        <td id=\"T_949b3_row6_col8\" class=\"data row6 col8\" >1.025000</td>\n",
       "                        <td id=\"T_949b3_row6_col9\" class=\"data row6 col9\" >1.056000</td>\n",
       "                        <td id=\"T_949b3_row6_col10\" class=\"data row6 col10\" >0.722302</td>\n",
       "                        <td id=\"T_949b3_row6_col11\" class=\"data row6 col11\" >0.887486</td>\n",
       "                        <td id=\"T_949b3_row6_col12\" class=\"data row6 col12\" >3.611511</td>\n",
       "                        <td id=\"T_949b3_row6_col13\" class=\"data row6 col13\" >2.315139</td>\n",
       "            </tr>\n",
       "            <tr>\n",
       "                        <th id=\"T_949b3_level0_row7\" class=\"row_heading level0 row7\" >miccai_baseline_gausscaling1</th>\n",
       "                        <td id=\"T_949b3_row7_col0\" class=\"data row7 col0\" >0.871000</td>\n",
       "                        <td id=\"T_949b3_row7_col1\" class=\"data row7 col1\" >1.161000</td>\n",
       "                        <td id=\"T_949b3_row7_col2\" class=\"data row7 col2\" >0.612000</td>\n",
       "                        <td id=\"T_949b3_row7_col3\" class=\"data row7 col3\" >0.664000</td>\n",
       "                        <td id=\"T_949b3_row7_col4\" class=\"data row7 col4\" >0.698000</td>\n",
       "                        <td id=\"T_949b3_row7_col5\" class=\"data row7 col5\" >1.178000</td>\n",
       "                        <td id=\"T_949b3_row7_col6\" class=\"data row7 col6\" >0.741000</td>\n",
       "                        <td id=\"T_949b3_row7_col7\" class=\"data row7 col7\" >1.461000</td>\n",
       "                        <td id=\"T_949b3_row7_col8\" class=\"data row7 col8\" >1.230000</td>\n",
       "                        <td id=\"T_949b3_row7_col9\" class=\"data row7 col9\" >1.463000</td>\n",
       "                        <td id=\"T_949b3_row7_col10\" class=\"data row7 col10\" >0.830216</td>\n",
       "                        <td id=\"T_949b3_row7_col11\" class=\"data row7 col11\" >1.237871</td>\n",
       "                        <td id=\"T_949b3_row7_col12\" class=\"data row7 col12\" >4.151079</td>\n",
       "                        <td id=\"T_949b3_row7_col13\" class=\"data row7 col13\" >3.575322</td>\n",
       "            </tr>\n",
       "            <tr>\n",
       "                        <th id=\"T_949b3_level0_row8\" class=\"row_heading level0 row8\" >miccai_baseline_gausscaling10</th>\n",
       "                        <td id=\"T_949b3_row8_col0\" class=\"data row8 col0\" >0.824000</td>\n",
       "                        <td id=\"T_949b3_row8_col1\" class=\"data row8 col1\" >0.912000</td>\n",
       "                        <td id=\"T_949b3_row8_col2\" class=\"data row8 col2\" >0.698000</td>\n",
       "                        <td id=\"T_949b3_row8_col3\" class=\"data row8 col3\" >0.803000</td>\n",
       "                        <td id=\"T_949b3_row8_col4\" class=\"data row8 col4\" >0.608000</td>\n",
       "                        <td id=\"T_949b3_row8_col5\" class=\"data row8 col5\" >0.871000</td>\n",
       "                        <td id=\"T_949b3_row8_col6\" class=\"data row8 col6\" >0.691000</td>\n",
       "                        <td id=\"T_949b3_row8_col7\" class=\"data row8 col7\" >0.878000</td>\n",
       "                        <td id=\"T_949b3_row8_col8\" class=\"data row8 col8\" >1.014000</td>\n",
       "                        <td id=\"T_949b3_row8_col9\" class=\"data row8 col9\" >1.127000</td>\n",
       "                        <td id=\"T_949b3_row8_col10\" class=\"data row8 col10\" >0.766906</td>\n",
       "                        <td id=\"T_949b3_row8_col11\" class=\"data row8 col11\" >0.933963</td>\n",
       "                        <td id=\"T_949b3_row8_col12\" class=\"data row8 col12\" >3.834532</td>\n",
       "                        <td id=\"T_949b3_row8_col13\" class=\"data row8 col13\" >2.448306</td>\n",
       "            </tr>\n",
       "            <tr>\n",
       "                        <th id=\"T_949b3_level0_row9\" class=\"row_heading level0 row9\" >miccai_baseline_hist</th>\n",
       "                        <td id=\"T_949b3_row9_col0\" class=\"data row9 col0\" >1.094000</td>\n",
       "                        <td id=\"T_949b3_row9_col1\" class=\"data row9 col1\" >1.146000</td>\n",
       "                        <td id=\"T_949b3_row9_col2\" class=\"data row9 col2\" >0.594000</td>\n",
       "                        <td id=\"T_949b3_row9_col3\" class=\"data row9 col3\" >0.672000</td>\n",
       "                        <td id=\"T_949b3_row9_col4\" class=\"data row9 col4\" >0.619000</td>\n",
       "                        <td id=\"T_949b3_row9_col5\" class=\"data row9 col5\" >0.778000</td>\n",
       "                        <td id=\"T_949b3_row9_col6\" class=\"data row9 col6\" >0.586000</td>\n",
       "                        <td id=\"T_949b3_row9_col7\" class=\"data row9 col7\" >0.734000</td>\n",
       "                        <td id=\"T_949b3_row9_col8\" class=\"data row9 col8\" >1.047000</td>\n",
       "                        <td id=\"T_949b3_row9_col9\" class=\"data row9 col9\" >1.208000</td>\n",
       "                        <td id=\"T_949b3_row9_col10\" class=\"data row9 col10\" >0.787770</td>\n",
       "                        <td id=\"T_949b3_row9_col11\" class=\"data row9 col11\" >0.961261</td>\n",
       "                        <td id=\"T_949b3_row9_col12\" class=\"data row9 col12\" >3.938849</td>\n",
       "                        <td id=\"T_949b3_row9_col13\" class=\"data row9 col13\" >2.330560</td>\n",
       "            </tr>\n",
       "            <tr>\n",
       "                        <th id=\"T_949b3_level0_row10\" class=\"row_heading level0 row10\" >miccai_baseline_lstm32</th>\n",
       "                        <td id=\"T_949b3_row10_col0\" class=\"data row10 col0\" >0.899000</td>\n",
       "                        <td id=\"T_949b3_row10_col1\" class=\"data row10 col1\" >0.945000</td>\n",
       "                        <td id=\"T_949b3_row10_col2\" class=\"data row10 col2\" >0.741000</td>\n",
       "                        <td id=\"T_949b3_row10_col3\" class=\"data row10 col3\" >1.084000</td>\n",
       "                        <td id=\"T_949b3_row10_col4\" class=\"data row10 col4\" >0.669000</td>\n",
       "                        <td id=\"T_949b3_row10_col5\" class=\"data row10 col5\" >0.972000</td>\n",
       "                        <td id=\"T_949b3_row10_col6\" class=\"data row10 col6\" >0.723000</td>\n",
       "                        <td id=\"T_949b3_row10_col7\" class=\"data row10 col7\" >1.019000</td>\n",
       "                        <td id=\"T_949b3_row10_col8\" class=\"data row10 col8\" >1.054000</td>\n",
       "                        <td id=\"T_949b3_row10_col9\" class=\"data row10 col9\" >1.131000</td>\n",
       "                        <td id=\"T_949b3_row10_col10\" class=\"data row10 col10\" >0.817266</td>\n",
       "                        <td id=\"T_949b3_row10_col11\" class=\"data row10 col11\" >1.040056</td>\n",
       "                        <td id=\"T_949b3_row10_col12\" class=\"data row10 col12\" >4.086331</td>\n",
       "                        <td id=\"T_949b3_row10_col13\" class=\"data row10 col13\" >2.707522</td>\n",
       "            </tr>\n",
       "            <tr>\n",
       "                        <th id=\"T_949b3_level0_row11\" class=\"row_heading level0 row11\" >miccai_baseline_lstm64</th>\n",
       "                        <td id=\"T_949b3_row11_col0\" class=\"data row11 col0\" >0.835000</td>\n",
       "                        <td id=\"T_949b3_row11_col1\" class=\"data row11 col1\" >1.013000</td>\n",
       "                        <td id=\"T_949b3_row11_col2\" class=\"data row11 col2\" >0.719000</td>\n",
       "                        <td id=\"T_949b3_row11_col3\" class=\"data row11 col3\" >0.793000</td>\n",
       "                        <td id=\"T_949b3_row11_col4\" class=\"data row11 col4\" >0.763000</td>\n",
       "                        <td id=\"T_949b3_row11_col5\" class=\"data row11 col5\" >0.751000</td>\n",
       "                        <td id=\"T_949b3_row11_col6\" class=\"data row11 col6\" >0.752000</td>\n",
       "                        <td id=\"T_949b3_row11_col7\" class=\"data row11 col7\" >1.071000</td>\n",
       "                        <td id=\"T_949b3_row11_col8\" class=\"data row11 col8\" >1.155000</td>\n",
       "                        <td id=\"T_949b3_row11_col9\" class=\"data row11 col9\" >1.333000</td>\n",
       "                        <td id=\"T_949b3_row11_col10\" class=\"data row11 col10\" >0.844604</td>\n",
       "                        <td id=\"T_949b3_row11_col11\" class=\"data row11 col11\" >1.025023</td>\n",
       "                        <td id=\"T_949b3_row11_col12\" class=\"data row11 col12\" >4.223022</td>\n",
       "                        <td id=\"T_949b3_row11_col13\" class=\"data row11 col13\" >2.666183</td>\n",
       "            </tr>\n",
       "            <tr>\n",
       "                        <th id=\"T_949b3_level0_row12\" class=\"row_heading level0 row12\" >miccai_baseline_noaug</th>\n",
       "                        <td id=\"T_949b3_row12_col0\" class=\"data row12 col0\" >0.813000</td>\n",
       "                        <td id=\"T_949b3_row12_col1\" class=\"data row12 col1\" >0.947000</td>\n",
       "                        <td id=\"T_949b3_row12_col2\" class=\"data row12 col2\" >0.608000</td>\n",
       "                        <td id=\"T_949b3_row12_col3\" class=\"data row12 col3\" >0.775000</td>\n",
       "                        <td id=\"T_949b3_row12_col4\" class=\"data row12 col4\" >0.680000</td>\n",
       "                        <td id=\"T_949b3_row12_col5\" class=\"data row12 col5\" >0.908000</td>\n",
       "                        <td id=\"T_949b3_row12_col6\" class=\"data row12 col6\" >0.676000</td>\n",
       "                        <td id=\"T_949b3_row12_col7\" class=\"data row12 col7\" >0.733000</td>\n",
       "                        <td id=\"T_949b3_row12_col8\" class=\"data row12 col8\" >1.119000</td>\n",
       "                        <td id=\"T_949b3_row12_col9\" class=\"data row12 col9\" >1.276000</td>\n",
       "                        <td id=\"T_949b3_row12_col10\" class=\"data row12 col10\" >0.779137</td>\n",
       "                        <td id=\"T_949b3_row12_col11\" class=\"data row12 col11\" >0.963057</td>\n",
       "                        <td id=\"T_949b3_row12_col12\" class=\"data row12 col12\" >3.895684</td>\n",
       "                        <td id=\"T_949b3_row12_col13\" class=\"data row12 col13\" >2.462653</td>\n",
       "            </tr>\n",
       "            <tr>\n",
       "                        <th id=\"T_949b3_level0_row13\" class=\"row_heading level0 row13\" >miccai_baseline_nogaussmooth</th>\n",
       "                        <td id=\"T_949b3_row13_col0\" class=\"data row13 col0\" >0.946000</td>\n",
       "                        <td id=\"T_949b3_row13_col1\" class=\"data row13 col1\" >1.297000</td>\n",
       "                        <td id=\"T_949b3_row13_col2\" class=\"data row13 col2\" >0.647000</td>\n",
       "                        <td id=\"T_949b3_row13_col3\" class=\"data row13 col3\" >0.827000</td>\n",
       "                        <td id=\"T_949b3_row13_col4\" class=\"data row13 col4\" >0.773000</td>\n",
       "                        <td id=\"T_949b3_row13_col5\" class=\"data row13 col5\" >1.355000</td>\n",
       "                        <td id=\"T_949b3_row13_col6\" class=\"data row13 col6\" >0.766000</td>\n",
       "                        <td id=\"T_949b3_row13_col7\" class=\"data row13 col7\" >1.324000</td>\n",
       "                        <td id=\"T_949b3_row13_col8\" class=\"data row13 col8\" >1.194000</td>\n",
       "                        <td id=\"T_949b3_row13_col9\" class=\"data row13 col9\" >1.522000</td>\n",
       "                        <td id=\"T_949b3_row13_col10\" class=\"data row13 col10\" >0.865468</td>\n",
       "                        <td id=\"T_949b3_row13_col11\" class=\"data row13 col11\" >1.297990</td>\n",
       "                        <td id=\"T_949b3_row13_col12\" class=\"data row13 col12\" >4.327338</td>\n",
       "                        <td id=\"T_949b3_row13_col13\" class=\"data row13 col13\" >3.604160</td>\n",
       "            </tr>\n",
       "            <tr>\n",
       "                        <th id=\"T_949b3_level0_row14\" class=\"row_heading level0 row14\" >miccai_baseline_paug18</th>\n",
       "                        <td id=\"T_949b3_row14_col0\" class=\"data row14 col0\" >0.813000</td>\n",
       "                        <td id=\"T_949b3_row14_col1\" class=\"data row14 col1\" >0.966000</td>\n",
       "                        <td id=\"T_949b3_row14_col2\" class=\"data row14 col2\" >0.658000</td>\n",
       "                        <td id=\"T_949b3_row14_col3\" class=\"data row14 col3\" >0.707000</td>\n",
       "                        <td id=\"T_949b3_row14_col4\" class=\"data row14 col4\" >0.597000</td>\n",
       "                        <td id=\"T_949b3_row14_col5\" class=\"data row14 col5\" >0.860000</td>\n",
       "                        <td id=\"T_949b3_row14_col6\" class=\"data row14 col6\" >0.651000</td>\n",
       "                        <td id=\"T_949b3_row14_col7\" class=\"data row14 col7\" >0.848000</td>\n",
       "                        <td id=\"T_949b3_row14_col8\" class=\"data row14 col8\" >0.993000</td>\n",
       "                        <td id=\"T_949b3_row14_col9\" class=\"data row14 col9\" >1.121000</td>\n",
       "                        <td id=\"T_949b3_row14_col10\" class=\"data row14 col10\" >0.742446</td>\n",
       "                        <td id=\"T_949b3_row14_col11\" class=\"data row14 col11\" >0.920508</td>\n",
       "                        <td id=\"T_949b3_row14_col12\" class=\"data row14 col12\" >3.712230</td>\n",
       "                        <td id=\"T_949b3_row14_col13\" class=\"data row14 col13\" >2.485192</td>\n",
       "            </tr>\n",
       "            <tr>\n",
       "                        <th id=\"T_949b3_level0_row15\" class=\"row_heading level0 row15\" >miccai_baseline_paug5</th>\n",
       "                        <td id=\"T_949b3_row15_col0\" class=\"data row15 col0\" >0.806000</td>\n",
       "                        <td id=\"T_949b3_row15_col1\" class=\"data row15 col1\" >0.886000</td>\n",
       "                        <td id=\"T_949b3_row15_col2\" class=\"data row15 col2\" >0.683000</td>\n",
       "                        <td id=\"T_949b3_row15_col3\" class=\"data row15 col3\" >0.806000</td>\n",
       "                        <td id=\"T_949b3_row15_col4\" class=\"data row15 col4\" >0.691000</td>\n",
       "                        <td id=\"T_949b3_row15_col5\" class=\"data row15 col5\" >1.077000</td>\n",
       "                        <td id=\"T_949b3_row15_col6\" class=\"data row15 col6\" >0.583000</td>\n",
       "                        <td id=\"T_949b3_row15_col7\" class=\"data row15 col7\" >0.725000</td>\n",
       "                        <td id=\"T_949b3_row15_col8\" class=\"data row15 col8\" >0.978000</td>\n",
       "                        <td id=\"T_949b3_row15_col9\" class=\"data row15 col9\" >1.051000</td>\n",
       "                        <td id=\"T_949b3_row15_col10\" class=\"data row15 col10\" >0.748201</td>\n",
       "                        <td id=\"T_949b3_row15_col11\" class=\"data row15 col11\" >0.927544</td>\n",
       "                        <td id=\"T_949b3_row15_col12\" class=\"data row15 col12\" >3.741007</td>\n",
       "                        <td id=\"T_949b3_row15_col13\" class=\"data row15 col13\" >2.634410</td>\n",
       "            </tr>\n",
       "            <tr>\n",
       "                        <th id=\"T_949b3_level0_row16\" class=\"row_heading level0 row16\" >miccai_baseline_sigma05</th>\n",
       "                        <td id=\"T_949b3_row16_col0\" class=\"data row16 col0\" >0.842000</td>\n",
       "                        <td id=\"T_949b3_row16_col1\" class=\"data row16 col1\" >1.301000</td>\n",
       "                        <td id=\"T_949b3_row16_col2\" class=\"data row16 col2\" >0.665000</td>\n",
       "                        <td id=\"T_949b3_row16_col3\" class=\"data row16 col3\" >0.961000</td>\n",
       "                        <td id=\"T_949b3_row16_col4\" class=\"data row16 col4\" >0.655000</td>\n",
       "                        <td id=\"T_949b3_row16_col5\" class=\"data row16 col5\" >0.963000</td>\n",
       "                        <td id=\"T_949b3_row16_col6\" class=\"data row16 col6\" >0.892000</td>\n",
       "                        <td id=\"T_949b3_row16_col7\" class=\"data row16 col7\" >2.015000</td>\n",
       "                        <td id=\"T_949b3_row16_col8\" class=\"data row16 col8\" >1.119000</td>\n",
       "                        <td id=\"T_949b3_row16_col9\" class=\"data row16 col9\" >1.521000</td>\n",
       "                        <td id=\"T_949b3_row16_col10\" class=\"data row16 col10\" >0.834532</td>\n",
       "                        <td id=\"T_949b3_row16_col11\" class=\"data row16 col11\" >1.416232</td>\n",
       "                        <td id=\"T_949b3_row16_col12\" class=\"data row16 col12\" >4.172662</td>\n",
       "                        <td id=\"T_949b3_row16_col13\" class=\"data row16 col13\" >3.925435</td>\n",
       "            </tr>\n",
       "            <tr>\n",
       "                        <th id=\"T_949b3_level0_row17\" class=\"row_heading level0 row17\" >miccai_baseline_sigma08</th>\n",
       "                        <td id=\"T_949b3_row17_col0\" class=\"data row17 col0\" >0.838000</td>\n",
       "                        <td id=\"T_949b3_row17_col1\" class=\"data row17 col1\" >1.133000</td>\n",
       "                        <td id=\"T_949b3_row17_col2\" class=\"data row17 col2\" >0.601000</td>\n",
       "                        <td id=\"T_949b3_row17_col3\" class=\"data row17 col3\" >0.718000</td>\n",
       "                        <td id=\"T_949b3_row17_col4\" class=\"data row17 col4\" >0.647000</td>\n",
       "                        <td id=\"T_949b3_row17_col5\" class=\"data row17 col5\" >1.026000</td>\n",
       "                        <td id=\"T_949b3_row17_col6\" class=\"data row17 col6\" >0.640000</td>\n",
       "                        <td id=\"T_949b3_row17_col7\" class=\"data row17 col7\" >0.824000</td>\n",
       "                        <td id=\"T_949b3_row17_col8\" class=\"data row17 col8\" >1.011000</td>\n",
       "                        <td id=\"T_949b3_row17_col9\" class=\"data row17 col9\" >1.221000</td>\n",
       "                        <td id=\"T_949b3_row17_col10\" class=\"data row17 col10\" >0.747482</td>\n",
       "                        <td id=\"T_949b3_row17_col11\" class=\"data row17 col11\" >1.012286</td>\n",
       "                        <td id=\"T_949b3_row17_col12\" class=\"data row17 col12\" >3.737410</td>\n",
       "                        <td id=\"T_949b3_row17_col13\" class=\"data row17 col13\" >2.809178</td>\n",
       "            </tr>\n",
       "            <tr>\n",
       "                        <th id=\"T_949b3_level0_row18\" class=\"row_heading level0 row18\" >miccai_baseline_sigma2</th>\n",
       "                        <td id=\"T_949b3_row18_col0\" class=\"data row18 col0\" >0.888000</td>\n",
       "                        <td id=\"T_949b3_row18_col1\" class=\"data row18 col1\" >0.953000</td>\n",
       "                        <td id=\"T_949b3_row18_col2\" class=\"data row18 col2\" >0.734000</td>\n",
       "                        <td id=\"T_949b3_row18_col3\" class=\"data row18 col3\" >0.824000</td>\n",
       "                        <td id=\"T_949b3_row18_col4\" class=\"data row18 col4\" >0.777000</td>\n",
       "                        <td id=\"T_949b3_row18_col5\" class=\"data row18 col5\" >0.958000</td>\n",
       "                        <td id=\"T_949b3_row18_col6\" class=\"data row18 col6\" >0.701000</td>\n",
       "                        <td id=\"T_949b3_row18_col7\" class=\"data row18 col7\" >1.153000</td>\n",
       "                        <td id=\"T_949b3_row18_col8\" class=\"data row18 col8\" >1.086000</td>\n",
       "                        <td id=\"T_949b3_row18_col9\" class=\"data row18 col9\" >1.162000</td>\n",
       "                        <td id=\"T_949b3_row18_col10\" class=\"data row18 col10\" >0.837410</td>\n",
       "                        <td id=\"T_949b3_row18_col11\" class=\"data row18 col11\" >1.026012</td>\n",
       "                        <td id=\"T_949b3_row18_col12\" class=\"data row18 col12\" >4.187050</td>\n",
       "                        <td id=\"T_949b3_row18_col13\" class=\"data row18 col13\" >2.514900</td>\n",
       "            </tr>\n",
       "            <tr>\n",
       "                        <th id=\"T_949b3_level0_row19\" class=\"row_heading level0 row19\" >miccai_baseline_sigma4</th>\n",
       "                        <td id=\"T_949b3_row19_col0\" class=\"data row19 col0\" >1.266000</td>\n",
       "                        <td id=\"T_949b3_row19_col1\" class=\"data row19 col1\" >1.196000</td>\n",
       "                        <td id=\"T_949b3_row19_col2\" class=\"data row19 col2\" >1.615000</td>\n",
       "                        <td id=\"T_949b3_row19_col3\" class=\"data row19 col3\" >1.464000</td>\n",
       "                        <td id=\"T_949b3_row19_col4\" class=\"data row19 col4\" >1.090000</td>\n",
       "                        <td id=\"T_949b3_row19_col5\" class=\"data row19 col5\" >1.355000</td>\n",
       "                        <td id=\"T_949b3_row19_col6\" class=\"data row19 col6\" >0.712000</td>\n",
       "                        <td id=\"T_949b3_row19_col7\" class=\"data row19 col7\" >0.790000</td>\n",
       "                        <td id=\"T_949b3_row19_col8\" class=\"data row19 col8\" >1.317000</td>\n",
       "                        <td id=\"T_949b3_row19_col9\" class=\"data row19 col9\" >1.338000</td>\n",
       "                        <td id=\"T_949b3_row19_col10\" class=\"data row19 col10\" >1.200000</td>\n",
       "                        <td id=\"T_949b3_row19_col11\" class=\"data row19 col11\" >1.283655</td>\n",
       "                        <td id=\"T_949b3_row19_col12\" class=\"data row19 col12\" >6.000000</td>\n",
       "                        <td id=\"T_949b3_row19_col13\" class=\"data row19 col13\" >3.169095</td>\n",
       "            </tr>\n",
       "            <tr>\n",
       "                        <th id=\"T_949b3_level0_row20\" class=\"row_heading level0 row20\" >miccai_baseline_tres_taug2</th>\n",
       "                        <td id=\"T_949b3_row20_col0\" class=\"data row20 col0\" >0.701000</td>\n",
       "                        <td id=\"T_949b3_row20_col1\" class=\"data row20 col1\" >0.746000</td>\n",
       "                        <td id=\"T_949b3_row20_col2\" class=\"data row20 col2\" >0.414000</td>\n",
       "                        <td id=\"T_949b3_row20_col3\" class=\"data row20 col3\" >0.515000</td>\n",
       "                        <td id=\"T_949b3_row20_col4\" class=\"data row20 col4\" >0.439000</td>\n",
       "                        <td id=\"T_949b3_row20_col5\" class=\"data row20 col5\" >0.681000</td>\n",
       "                        <td id=\"T_949b3_row20_col6\" class=\"data row20 col6\" >0.406000</td>\n",
       "                        <td id=\"T_949b3_row20_col7\" class=\"data row20 col7\" >0.561000</td>\n",
       "                        <td id=\"T_949b3_row20_col8\" class=\"data row20 col8\" >0.932000</td>\n",
       "                        <td id=\"T_949b3_row20_col9\" class=\"data row20 col9\" >0.957000</td>\n",
       "                        <td id=\"T_949b3_row20_col10\" class=\"data row20 col10\" >0.578417</td>\n",
       "                        <td id=\"T_949b3_row20_col11\" class=\"data row20 col11\" >0.737950</td>\n",
       "                        <td id=\"T_949b3_row20_col12\" class=\"data row20 col12\" >2.892086</td>\n",
       "                        <td id=\"T_949b3_row20_col13\" class=\"data row20 col13\" >1.792031</td>\n",
       "            </tr>\n",
       "            <tr>\n",
       "                        <th id=\"T_949b3_level0_row21\" class=\"row_heading level0 row21\" >miccai_baseline_tres_taug2_paug2_hist</th>\n",
       "                        <td id=\"T_949b3_row21_col0\" class=\"data row21 col0\" >0.896000</td>\n",
       "                        <td id=\"T_949b3_row21_col1\" class=\"data row21 col1\" >1.002000</td>\n",
       "                        <td id=\"T_949b3_row21_col2\" class=\"data row21 col2\" >0.874000</td>\n",
       "                        <td id=\"T_949b3_row21_col3\" class=\"data row21 col3\" >1.477000</td>\n",
       "                        <td id=\"T_949b3_row21_col4\" class=\"data row21 col4\" >0.763000</td>\n",
       "                        <td id=\"T_949b3_row21_col5\" class=\"data row21 col5\" >1.394000</td>\n",
       "                        <td id=\"T_949b3_row21_col6\" class=\"data row21 col6\" >0.453000</td>\n",
       "                        <td id=\"T_949b3_row21_col7\" class=\"data row21 col7\" >0.579000</td>\n",
       "                        <td id=\"T_949b3_row21_col8\" class=\"data row21 col8\" >1.050000</td>\n",
       "                        <td id=\"T_949b3_row21_col9\" class=\"data row21 col9\" >1.142000</td>\n",
       "                        <td id=\"T_949b3_row21_col10\" class=\"data row21 col10\" >0.807194</td>\n",
       "                        <td id=\"T_949b3_row21_col11\" class=\"data row21 col11\" >1.178442</td>\n",
       "                        <td id=\"T_949b3_row21_col12\" class=\"data row21 col12\" >4.035971</td>\n",
       "                        <td id=\"T_949b3_row21_col13\" class=\"data row21 col13\" >3.919900</td>\n",
       "            </tr>\n",
       "            <tr>\n",
       "                        <th id=\"T_949b3_level0_row22\" class=\"row_heading level0 row22\" >miccai_baseline_tresample55</th>\n",
       "                        <td id=\"T_949b3_row22_col0\" class=\"data row22 col0\" >0.773000</td>\n",
       "                        <td id=\"T_949b3_row22_col1\" class=\"data row22 col1\" >0.880000</td>\n",
       "                        <td id=\"T_949b3_row22_col2\" class=\"data row22 col2\" >0.392000</td>\n",
       "                        <td id=\"T_949b3_row22_col3\" class=\"data row22 col3\" >0.511000</td>\n",
       "                        <td id=\"T_949b3_row22_col4\" class=\"data row22 col4\" >0.507000</td>\n",
       "                        <td id=\"T_949b3_row22_col5\" class=\"data row22 col5\" >1.004000</td>\n",
       "                        <td id=\"T_949b3_row22_col6\" class=\"data row22 col6\" >0.446000</td>\n",
       "                        <td id=\"T_949b3_row22_col7\" class=\"data row22 col7\" >0.597000</td>\n",
       "                        <td id=\"T_949b3_row22_col8\" class=\"data row22 col8\" >0.921000</td>\n",
       "                        <td id=\"T_949b3_row22_col9\" class=\"data row22 col9\" >0.892000</td>\n",
       "                        <td id=\"T_949b3_row22_col10\" class=\"data row22 col10\" >0.607914</td>\n",
       "                        <td id=\"T_949b3_row22_col11\" class=\"data row22 col11\" >0.823798</td>\n",
       "                        <td id=\"T_949b3_row22_col12\" class=\"data row22 col12\" >3.039568</td>\n",
       "                        <td id=\"T_949b3_row22_col13\" class=\"data row22 col13\" >2.109046</td>\n",
       "            </tr>\n",
       "    </tbody></table>"
      ],
      "text/plain": [
       "<pandas.io.formats.style.Styler at 0x7ff9085b9430>"
      ]
     },
     "execution_count": 13,
     "metadata": {},
     "output_type": "execute_result"
    }
   ],
   "source": [
    "# highlight the lowest values\n",
    "results_agg_df.style.highlight_min(color = 'lightgreen', axis = 0)"
   ]
  },
  {
   "cell_type": "markdown",
   "metadata": {},
   "source": [
    "# Error per phase, overall and per cardiac cycle"
   ]
  },
  {
   "cell_type": "code",
   "execution_count": 10,
   "metadata": {},
   "outputs": [
    {
     "name": "stdout",
     "output_type": "stream",
     "text": [
      "Mean per phase: \n",
      "ED    2.18\n",
      "MS    4.16\n",
      "ES    2.33\n",
      "PF    9.74\n",
      "MD    3.70\n",
      "dtype: float32\n",
      "Median per phase: \n",
      "ED     2.0\n",
      "MS     3.0\n",
      "ES     2.0\n",
      "PF    12.0\n",
      "MD     4.0\n",
      "dtype: float32\n",
      "Std per phase: \n",
      "ED    1.297861\n",
      "MS    1.661933\n",
      "ES    2.895678\n",
      "PF    4.963748\n",
      "MD    1.654501\n",
      "dtype: float32\n",
      "Mean overall: \n",
      "4.421999931335449\n",
      "Median overall: \n",
      "3.0\n",
      "Std overall: \n",
      "3.951697826385498\n",
      "sum per cycle mean: \n",
      "22.110000610351562\n",
      "sum per cycle std: \n",
      "5.773898124694824\n"
     ]
    }
   ],
   "source": [
    "print('Mean per phase: \\n{}'.format(df.mean(axis=0)))\n",
    "print('Median per phase: \\n{}'.format(df.median(axis=0)))\n",
    "print('Std per phase: \\n{}'.format(df.std(axis=0)))\n",
    "\n",
    "print('Mean overall: \\n{}'.format(df.values.mean()))\n",
    "print('Median overall: \\n{}'.format(np.median(df.values)))\n",
    "print('Std overall: \\n{}'.format(df.values.std()))\n",
    "\n",
    "print('sum per cycle mean: \\n{}'.format(np.mean(df.sum(axis=1))))\n",
    "print('sum per cycle std: \\n{}'.format(np.std(df.sum(axis=1))))"
   ]
  },
  {
   "cell_type": "markdown",
   "metadata": {},
   "source": [
    "# Violin plot - error per phase"
   ]
  },
  {
   "cell_type": "code",
   "execution_count": 9,
   "metadata": {},
   "outputs": [
    {
     "data": {
      "image/png": "[encoded data removed]",
      "text/plain": [
       "<Figure size 576x360 with 1 Axes>"
      ]
     },
     "metadata": {
      "needs_background": "light"
     },
     "output_type": "display_data"
    }
   ],
   "source": [
    "import seaborn as sb\n",
    "sb.set_context('paper')\n",
    "f = plt.figure(figsize=(8,5))\n",
    "ax = f.gca()\n",
    "ax.set_ylim(bottom=0, top=6)\n",
    "ax.set_ylabel('Cardiac phases')\n",
    "ax.set_xlabel('Cycle error')\n",
    "#_ = DF_METADATA[phases].plot(kind='violin'),\n",
    "sb.violinplot(data=df, orient='v', ax = ax)\n",
    "sb.pointplot(data=df, orient='v', ax = ax, estimator=np.mean,color=\"black\", markers=\"o\", ci=None,join=False)\n",
    "sb.pointplot(data=df, orient='v', ax = ax, estimator=np.median,color=\"black\", markers=\"_\", ci=None,join=False)\n",
    "plt.grid()\n",
    "plt.savefig('bestphase')\n"
   ]
  },
  {
   "cell_type": "markdown",
   "metadata": {},
   "source": [
    "# Error per cardiac cycle"
   ]
  },
  {
   "cell_type": "code",
   "execution_count": 10,
   "metadata": {},
   "outputs": [
    {
     "data": {
      "image/png": "[encoded data removed]",
      "text/plain": [
       "<Figure size 144x360 with 1 Axes>"
      ]
     },
     "metadata": {
      "needs_background": "light"
     },
     "output_type": "display_data"
    }
   ],
   "source": [
    "import seaborn as sb\n",
    "sb.set_context('paper')\n",
    "f = plt.figure(figsize=(2,5))\n",
    "ax = f.gca()\n",
    "ax.set_ylabel('Cardiac phases')\n",
    "ax.set_xlabel('Cycle error')\n",
    "temp = df.sum(axis=1)\n",
    "sb.violinplot(data=temp, orient='v', ax = ax)\n",
    "#sb.scatterplot(data=temp, ax=ax)\n",
    "sb.pointplot(data=temp, orient='v', ax = ax, estimator=np.mean,color=\"black\", markers=\"o\", ci=None,join=False)\n",
    "sb.pointplot(data=temp, orient='v', ax = ax, estimator=np.median,color=\"black\", markers=\"_\", ci=None,join=False)\n",
    "plt.grid()\n",
    "plt.show()"
   ]
  },
  {
   "cell_type": "code",
   "execution_count": null,
   "metadata": {},
   "outputs": [],
   "source": []
  }
 ],
 "metadata": {
  "kernelspec": {
   "display_name": "dcmr",
   "language": "python",
   "name": "dcmr"
  },
  "language_info": {
   "codemirror_mode": {
    "name": "ipython",
    "version": 3
   },
   "file_extension": ".py",
   "mimetype": "text/x-python",
   "name": "python",
   "nbconvert_exporter": "python",
   "pygments_lexer": "ipython3",
   "version": "3.8.5"
  },
  "widgets": {
   "application/vnd.jupyter.widget-state+json": {
    "state": {
     "02b79167ab39441093de78519d531172": {
      "model_module": "@jupyter-widgets/controls",
      "model_module_version": "1.5.0",
      "model_name": "DescriptionStyleModel",
      "state": {
       "description_width": ""
      }
     },
     "07fd06cea9994a45a6a9ecc9f68f8e24": {
      "model_module": "@jupyter-widgets/controls",
      "model_module_version": "1.5.0",
      "model_name": "DescriptionStyleModel",
      "state": {
       "description_width": ""
      }
     },
     "0d61c995c1954a19a9139326b75860d7": {
      "model_module": "@jupyter-widgets/output",
      "model_module_version": "1.0.0",
      "model_name": "OutputModel",
      "state": {
       "layout": "IPY_MODEL_6fc9cfa7b08c49c78333c0fd2bd83c7b",
       "outputs": [
        {
         "name": "stdout",
         "output_type": "stream",
         "text": "eval: /mnt/ssd/git/dynamic-cmr-models/exp/phasereg_v2/miccai_baseline/miccai_baseline_f0/2021-07-28_20_14/\n/mnt/ssd/git/dynamic-cmr-models/exp/phasereg_v2/miccai_baseline/miccai_baseline_f0/2021-07-28_20_14//acdc_pred/*.npy\n0\n"
        },
        {
         "ename": "ValueError",
         "evalue": "need at least one array to concatenate",
         "output_type": "error",
         "traceback": [
          "\u001b[0;31m---------------------------------------------------------------------------\u001b[0m",
          "\u001b[0;31mValueError\u001b[0m                                Traceback (most recent call last)",
          "\u001b[0;32m~/anaconda3/envs/dcmr/lib/python3.8/site-packages/ipywidgets/widgets/interaction.py\u001b[0m in \u001b[0;36mupdate\u001b[0;34m(self, *args)\u001b[0m\n\u001b[1;32m    254\u001b[0m                     \u001b[0mvalue\u001b[0m \u001b[0;34m=\u001b[0m \u001b[0mwidget\u001b[0m\u001b[0;34m.\u001b[0m\u001b[0mget_interact_value\u001b[0m\u001b[0;34m(\u001b[0m\u001b[0;34m)\u001b[0m\u001b[0;34m\u001b[0m\u001b[0;34m\u001b[0m\u001b[0m\n\u001b[1;32m    255\u001b[0m                     \u001b[0mself\u001b[0m\u001b[0;34m.\u001b[0m\u001b[0mkwargs\u001b[0m\u001b[0;34m[\u001b[0m\u001b[0mwidget\u001b[0m\u001b[0;34m.\u001b[0m\u001b[0m_kwarg\u001b[0m\u001b[0;34m]\u001b[0m \u001b[0;34m=\u001b[0m \u001b[0mvalue\u001b[0m\u001b[0;34m\u001b[0m\u001b[0;34m\u001b[0m\u001b[0m\n\u001b[0;32m--> 256\u001b[0;31m                 \u001b[0mself\u001b[0m\u001b[0;34m.\u001b[0m\u001b[0mresult\u001b[0m \u001b[0;34m=\u001b[0m \u001b[0mself\u001b[0m\u001b[0;34m.\u001b[0m\u001b[0mf\u001b[0m\u001b[0;34m(\u001b[0m\u001b[0;34m**\u001b[0m\u001b[0mself\u001b[0m\u001b[0;34m.\u001b[0m\u001b[0mkwargs\u001b[0m\u001b[0;34m)\u001b[0m\u001b[0;34m\u001b[0m\u001b[0;34m\u001b[0m\u001b[0m\n\u001b[0m\u001b[1;32m    257\u001b[0m                 \u001b[0mshow_inline_matplotlib_plots\u001b[0m\u001b[0;34m(\u001b[0m\u001b[0;34m)\u001b[0m\u001b[0;34m\u001b[0m\u001b[0;34m\u001b[0m\u001b[0m\n\u001b[1;32m    258\u001b[0m                 \u001b[0;32mif\u001b[0m \u001b[0mself\u001b[0m\u001b[0;34m.\u001b[0m\u001b[0mauto_display\u001b[0m \u001b[0;32mand\u001b[0m \u001b[0mself\u001b[0m\u001b[0;34m.\u001b[0m\u001b[0mresult\u001b[0m \u001b[0;32mis\u001b[0m \u001b[0;32mnot\u001b[0m \u001b[0;32mNone\u001b[0m\u001b[0;34m:\u001b[0m\u001b[0;34m\u001b[0m\u001b[0;34m\u001b[0m\u001b[0m\n",
          "\u001b[0;32m<ipython-input-5-103b72c03d59>\u001b[0m in \u001b[0;36meval_interact\u001b[0;34m(evaluate_)\u001b[0m\n\u001b[1;32m      6\u001b[0m     \u001b[0;32mglobal\u001b[0m \u001b[0mdf\u001b[0m\u001b[0;34m\u001b[0m\u001b[0;34m\u001b[0m\u001b[0m\n\u001b[1;32m      7\u001b[0m     \u001b[0;32mif\u001b[0m \u001b[0mevaluate_\u001b[0m\u001b[0;34m:\u001b[0m\u001b[0;34m\u001b[0m\u001b[0;34m\u001b[0m\u001b[0m\n\u001b[0;32m----> 8\u001b[0;31m         \u001b[0mdf\u001b[0m \u001b[0;34m=\u001b[0m \u001b[0mevaluate\u001b[0m\u001b[0;34m(\u001b[0m\u001b[0mfchooser\u001b[0m\u001b[0;34m.\u001b[0m\u001b[0mselected\u001b[0m\u001b[0;34m,\u001b[0m \u001b[0mpred_suffix\u001b[0m\u001b[0;34m=\u001b[0m\u001b[0;34m'acdc_pred'\u001b[0m\u001b[0;34m)\u001b[0m\u001b[0;34m\u001b[0m\u001b[0;34m\u001b[0m\u001b[0m\n\u001b[0m",
          "\u001b[0;32m<ipython-input-7-9b33620bcff8>\u001b[0m in \u001b[0;36mevaluate\u001b[0;34m(exp_root, result_df, pred_suffix)\u001b[0m\n\u001b[1;32m     17\u001b[0m     \u001b[0mpreds\u001b[0m \u001b[0;34m=\u001b[0m \u001b[0mlist\u001b[0m\u001b[0;34m(\u001b[0m\u001b[0mmap\u001b[0m\u001b[0;34m(\u001b[0m\u001b[0;32mlambda\u001b[0m \u001b[0mx\u001b[0m \u001b[0;34m:\u001b[0m \u001b[0mnp\u001b[0m\u001b[0;34m.\u001b[0m\u001b[0mload\u001b[0m\u001b[0;34m(\u001b[0m\u001b[0mx\u001b[0m\u001b[0;34m)\u001b[0m\u001b[0;34m,\u001b[0m \u001b[0mall_pred_files\u001b[0m\u001b[0;34m)\u001b[0m\u001b[0;34m)\u001b[0m\u001b[0;34m\u001b[0m\u001b[0;34m\u001b[0m\u001b[0m\n\u001b[1;32m     18\u001b[0m     \u001b[0;31m# stack the numpy files\u001b[0m\u001b[0;34m\u001b[0m\u001b[0;34m\u001b[0m\u001b[0;34m\u001b[0m\u001b[0m\n\u001b[0;32m---> 19\u001b[0;31m     \u001b[0mpreds\u001b[0m \u001b[0;34m=\u001b[0m \u001b[0mnp\u001b[0m\u001b[0;34m.\u001b[0m\u001b[0mconcatenate\u001b[0m\u001b[0;34m(\u001b[0m\u001b[0mpreds\u001b[0m\u001b[0;34m,\u001b[0m \u001b[0maxis\u001b[0m\u001b[0;34m=\u001b[0m\u001b[0;36m1\u001b[0m\u001b[0;34m)\u001b[0m\u001b[0;34m\u001b[0m\u001b[0;34m\u001b[0m\u001b[0m\n\u001b[0m\u001b[1;32m     20\u001b[0m \u001b[0;34m\u001b[0m\u001b[0m\n\u001b[1;32m     21\u001b[0m     \u001b[0;31m# calculate the mean differences\u001b[0m\u001b[0;34m\u001b[0m\u001b[0;34m\u001b[0m\u001b[0;34m\u001b[0m\u001b[0m\n",
          "\u001b[0;32m<__array_function__ internals>\u001b[0m in \u001b[0;36mconcatenate\u001b[0;34m(*args, **kwargs)\u001b[0m\n",
          "\u001b[0;31mValueError\u001b[0m: need at least one array to concatenate"
         ]
        }
       ]
      }
     },
     "0d688c73142649ec8587812a8d8841dc": {
      "model_module": "@jupyter-widgets/controls",
      "model_module_version": "1.5.0",
      "model_name": "ButtonModel",
      "state": {
       "description": "Change",
       "layout": "IPY_MODEL_46020a0341c84d9f87c4d89d6e1f3fc6",
       "style": "IPY_MODEL_857d0eed22f8471bab0422c64af383d1"
      }
     },
     "0e017ce0a65f48848a2b192b2081d033": {
      "model_module": "@jupyter-widgets/base",
      "model_module_version": "1.2.0",
      "model_name": "LayoutModel",
      "state": {
       "width": "auto"
      }
     },
     "0e88b16c4c654d61b321bc5edaf9cbe8": {
      "model_module": "@jupyter-widgets/controls",
      "model_module_version": "1.5.0",
      "model_name": "ButtonStyleModel",
      "state": {}
     },
     "10c42f2120504c328c4cea14bfaaf3a1": {
      "model_module": "@jupyter-widgets/controls",
      "model_module_version": "1.5.0",
      "model_name": "VBoxModel",
      "state": {
       "_dom_classes": [
        "widget-interact"
       ],
       "children": [
        "IPY_MODEL_d3a49822e58c4331b7eb31b72c4efb61",
        "IPY_MODEL_b694a2b7edd44b5c8dd4135e07689b5e"
       ],
       "layout": "IPY_MODEL_c53f39ef075f47678e53204e6cdffcc5"
      }
     },
     "1379619bf6534396887c0ae1b0f88a1e": {
      "model_module": "@jupyter-widgets/base",
      "model_module_version": "1.2.0",
      "model_name": "LayoutModel",
      "state": {
       "display": "none",
       "width": "auto"
      }
     },
     "18b0e04765d64ec5b257491a60e95fc5": {
      "model_module": "@jupyter-widgets/controls",
      "model_module_version": "1.5.0",
      "model_name": "HTMLModel",
      "state": {
       "layout": "IPY_MODEL_3c77f3c213f9450e821fd38e2559035e",
       "style": "IPY_MODEL_3e9bc42aa8844f2ab467e9080ed3c86a"
      }
     },
     "1956031af1e342dea5193f1454a460f8": {
      "model_module": "@jupyter-widgets/controls",
      "model_module_version": "1.5.0",
      "model_name": "CheckboxModel",
      "state": {
       "description": "evaluate_",
       "disabled": false,
       "layout": "IPY_MODEL_bb1156eef8c54ae584885cf3ebc619ce",
       "style": "IPY_MODEL_8968ef3f88de448490e99d7cd0b39485",
       "value": true
      }
     },
     "1a5d797b747f42858858229b8ad9f286": {
      "model_module": "@jupyter-widgets/base",
      "model_module_version": "1.2.0",
      "model_name": "LayoutModel",
      "state": {
       "display": "none",
       "grid_gap": "0px 0px",
       "grid_template_areas": "\n                    'pathlist filename'\n                    'dircontent dircontent'\n                    ",
       "grid_template_columns": "60% 40%",
       "grid_template_rows": "auto auto",
       "width": "500px"
      }
     },
     "1b7c0eb26c864bce8d2f3d427f765f01": {
      "model_module": "@jupyter-widgets/controls",
      "model_module_version": "1.5.0",
      "model_name": "DescriptionStyleModel",
      "state": {
       "description_width": ""
      }
     },
     "1be3d7772a9144a1933d6b1431b4b7a4": {
      "model_module": "@jupyter-widgets/controls",
      "model_module_version": "1.5.0",
      "model_name": "VBoxModel",
      "state": {
       "_dom_classes": [
        "widget-interact"
       ],
       "children": [
        "IPY_MODEL_1956031af1e342dea5193f1454a460f8",
        "IPY_MODEL_c6a1e37737dd49f4a2580ca8045852c4"
       ],
       "layout": "IPY_MODEL_f4c267281d484a7ba1e7fd103fe94d94"
      }
     },
     "1d5b232e221c4d6ba1c4771d1c896551": {
      "model_module": "@jupyter-widgets/controls",
      "model_module_version": "1.5.0",
      "model_name": "SelectModel",
      "state": {
       "_options_labels": [
        "..",
        "config",
        "history",
        "model",
        "pred",
        "tensorboard_logs",
        "Log_errors.log",
        "model.png",
        "model_summary.txt"
       ],
       "index": null,
       "layout": "IPY_MODEL_a8e9d8723a204cfeb3d532b7507d94c8",
       "rows": 8,
       "style": "IPY_MODEL_f89a1d717f404bbe98513c10e0bd5625"
      }
     },
     "22ad83bce2b9474cb8b9f47c4e377926": {
      "model_module": "@jupyter-widgets/base",
      "model_module_version": "1.2.0",
      "model_name": "LayoutModel",
      "state": {
       "display": "none",
       "width": "auto"
      }
     },
     "294c7e7cba71494bae7e6326d88051c3": {
      "model_module": "@jupyter-widgets/controls",
      "model_module_version": "1.5.0",
      "model_name": "VBoxModel",
      "state": {
       "children": [
        "IPY_MODEL_18b0e04765d64ec5b257491a60e95fc5",
        "IPY_MODEL_edc3b448f1fe477b84c62e0017afda73",
        "IPY_MODEL_b955a55d48f3437b8173fbaade147c5b"
       ],
       "layout": "IPY_MODEL_ae0fcfa78de74ef79d27a67f03732b0c"
      }
     },
     "298b55c6f9484ba9b72e04b23b3e12da": {
      "model_module": "@jupyter-widgets/controls",
      "model_module_version": "1.5.0",
      "model_name": "HBoxModel",
      "state": {
       "children": [
        "IPY_MODEL_0d688c73142649ec8587812a8d8841dc",
        "IPY_MODEL_43752ebca2af4e4798696bdb388b12d5",
        "IPY_MODEL_2e0d307dd0a84c9f90c58822fa15d178"
       ],
       "layout": "IPY_MODEL_7ebf5466916549d1b7e32176d762da10"
      }
     },
     "299b7a93e0a34beabad92f49bb178f70": {
      "model_module": "@jupyter-widgets/base",
      "model_module_version": "1.2.0",
      "model_name": "LayoutModel",
      "state": {
       "display": "none",
       "grid_gap": "0px 0px",
       "grid_template_areas": "\n                    'pathlist filename'\n                    'dircontent dircontent'\n                    ",
       "grid_template_columns": "60% 40%",
       "grid_template_rows": "auto auto",
       "width": "500px"
      }
     },
     "2a5a8c3be1f4403da8cd4df41d257182": {
      "model_module": "@jupyter-widgets/controls",
      "model_module_version": "1.5.0",
      "model_name": "ButtonStyleModel",
      "state": {}
     },
     "2e0d307dd0a84c9f90c58822fa15d178": {
      "model_module": "@jupyter-widgets/controls",
      "model_module_version": "1.5.0",
      "model_name": "HTMLModel",
      "state": {
       "layout": "IPY_MODEL_6c43cb6897d345db835a27b86de6f44e",
       "placeholder": "",
       "style": "IPY_MODEL_e7f33e019f414e979ecdf86de693f04f",
       "value": "<span style=\"margin-left:10px; color:green;\">/mnt/ssd/git/dynamic-cmr-models/exp/phasereg_v2/miccai_baseline/miccai_baseline_f0/2021-07-28_20_14/</span>"
      }
     },
     "2f3f87ee2260426f8ee9332fb17557e2": {
      "model_module": "@jupyter-widgets/base",
      "model_module_version": "1.2.0",
      "model_name": "LayoutModel",
      "state": {
       "display": "none",
       "width": "auto"
      }
     },
     "30e805453ea746189a8dd03b480b35a5": {
      "model_module": "@jupyter-widgets/controls",
      "model_module_version": "1.5.0",
      "model_name": "SelectModel",
      "state": {
       "_options_labels": [
        "..",
        "config",
        "history",
        "model",
        "pred",
        "tensorboard_logs",
        "Log_errors.log",
        "model.png",
        "model_summary.txt"
       ],
       "index": null,
       "layout": "IPY_MODEL_54d2c13156fd4245af15fa2277136b1a",
       "rows": 8,
       "style": "IPY_MODEL_02b79167ab39441093de78519d531172"
      }
     },
     "3509af00bc6e4b03991aad43182a2e33": {
      "model_module": "@jupyter-widgets/base",
      "model_module_version": "1.2.0",
      "model_name": "LayoutModel",
      "state": {
       "width": "auto"
      }
     },
     "35fc97b41dc74490b1dd67b6a1dd8cca": {
      "model_module": "@jupyter-widgets/base",
      "model_module_version": "1.2.0",
      "model_name": "LayoutModel",
      "state": {
       "grid_area": "dircontent",
       "width": "auto"
      }
     },
     "3913a10729a049aaacf0fda779f3815d": {
      "model_module": "@jupyter-widgets/controls",
      "model_module_version": "1.5.0",
      "model_name": "DescriptionStyleModel",
      "state": {
       "description_width": ""
      }
     },
     "3c77f3c213f9450e821fd38e2559035e": {
      "model_module": "@jupyter-widgets/base",
      "model_module_version": "1.2.0",
      "model_name": "LayoutModel",
      "state": {
       "display": "none"
      }
     },
     "3e9bc42aa8844f2ab467e9080ed3c86a": {
      "model_module": "@jupyter-widgets/controls",
      "model_module_version": "1.5.0",
      "model_name": "DescriptionStyleModel",
      "state": {
       "description_width": ""
      }
     },
     "410c7459801345efa524a5363ee49775": {
      "model_module": "@jupyter-widgets/base",
      "model_module_version": "1.2.0",
      "model_name": "LayoutModel",
      "state": {
       "width": "auto"
      }
     },
     "43752ebca2af4e4798696bdb388b12d5": {
      "model_module": "@jupyter-widgets/controls",
      "model_module_version": "1.5.0",
      "model_name": "ButtonModel",
      "state": {
       "description": "Cancel",
       "layout": "IPY_MODEL_22ad83bce2b9474cb8b9f47c4e377926",
       "style": "IPY_MODEL_0e88b16c4c654d61b321bc5edaf9cbe8"
      }
     },
     "447aea3f9edd49959c3f72b521b09df6": {
      "model_module": "@jupyter-widgets/controls",
      "model_module_version": "1.5.0",
      "model_name": "VBoxModel",
      "state": {
       "children": [
        "IPY_MODEL_c02ae4fba322418bbd48df83bcb7acc7",
        "IPY_MODEL_49ca9b91ebcd40a49a3861ba91d7c2ba",
        "IPY_MODEL_298b55c6f9484ba9b72e04b23b3e12da"
       ],
       "layout": "IPY_MODEL_3509af00bc6e4b03991aad43182a2e33"
      }
     },
     "46020a0341c84d9f87c4d89d6e1f3fc6": {
      "model_module": "@jupyter-widgets/base",
      "model_module_version": "1.2.0",
      "model_name": "LayoutModel",
      "state": {
       "width": "auto"
      }
     },
     "47192d07adbb479baa031c34e0c3677b": {
      "model_module": "@jupyter-widgets/controls",
      "model_module_version": "1.5.0",
      "model_name": "HTMLModel",
      "state": {
       "layout": "IPY_MODEL_d181a817d0844802ac26cc5c01e7c4b9",
       "placeholder": "",
       "style": "IPY_MODEL_07fd06cea9994a45a6a9ecc9f68f8e24",
       "value": "<span style=\"margin-left:10px; color:green;\">/mnt/ssd/git/dynamic-cmr-models/exp/phasereg_v2/miccai_baseline/miccai_baseline_f0/2021-07-28_20_14/</span>"
      }
     },
     "48f65a12a0ba4414837e8c4938b294ea": {
      "model_module": "@jupyter-widgets/base",
      "model_module_version": "1.2.0",
      "model_name": "LayoutModel",
      "state": {
       "display": "none"
      }
     },
     "49ca9b91ebcd40a49a3861ba91d7c2ba": {
      "model_module": "@jupyter-widgets/controls",
      "model_module_version": "1.5.0",
      "model_name": "GridBoxModel",
      "state": {
       "children": [
        "IPY_MODEL_793f496c2e0340ce985a3aae05f417ca",
        "IPY_MODEL_b920507512514ecc8640238be0c356b5",
        "IPY_MODEL_ac4e88d5e94b4b66aa8fa0c72d9e626b"
       ],
       "layout": "IPY_MODEL_299b7a93e0a34beabad92f49bb178f70"
      }
     },
     "49cbb224d2ce4de9abfefb87a6127f84": {
      "model_module": "@jupyter-widgets/controls",
      "model_module_version": "1.5.0",
      "model_name": "DropdownModel",
      "state": {
       "_options_labels": [
        "/mnt/ssd/git/dynamic-cmr-models/exp/phasereg_v2/miccai_baseline/miccai_baseline_f0/2021-07-28_20_14",
        "/mnt/ssd/git/dynamic-cmr-models/exp/phasereg_v2/miccai_baseline/miccai_baseline_f0",
        "/mnt/ssd/git/dynamic-cmr-models/exp/phasereg_v2/miccai_baseline",
        "/mnt/ssd/git/dynamic-cmr-models/exp/phasereg_v2",
        "/mnt/ssd/git/dynamic-cmr-models/exp",
        "/mnt/ssd/git/dynamic-cmr-models",
        "/mnt/ssd/git",
        "/mnt/ssd",
        "/mnt",
        "/"
       ],
       "index": 0,
       "layout": "IPY_MODEL_b1ab15cad7ca4911a5b17cf977607900",
       "style": "IPY_MODEL_3913a10729a049aaacf0fda779f3815d"
      }
     },
     "49f8317513994069b29f686337917b50": {
      "model_module": "@jupyter-widgets/base",
      "model_module_version": "1.2.0",
      "model_name": "LayoutModel",
      "state": {
       "grid_area": "pathlist",
       "width": "auto"
      }
     },
     "4ca01ea8e35040f59d2144a99ecb345f": {
      "model_module": "@jupyter-widgets/base",
      "model_module_version": "1.2.0",
      "model_name": "LayoutModel",
      "state": {}
     },
     "54d2c13156fd4245af15fa2277136b1a": {
      "model_module": "@jupyter-widgets/base",
      "model_module_version": "1.2.0",
      "model_name": "LayoutModel",
      "state": {
       "grid_area": "dircontent",
       "width": "auto"
      }
     },
     "5c7ef2f7d6f346189df27e1347d653cd": {
      "model_module": "@jupyter-widgets/base",
      "model_module_version": "1.2.0",
      "model_name": "LayoutModel",
      "state": {
       "grid_area": "filename",
       "width": "auto"
      }
     },
     "6325cba81c4449578533da68c6a5e96f": {
      "model_module": "@jupyter-widgets/controls",
      "model_module_version": "1.5.0",
      "model_name": "CheckboxModel",
      "state": {
       "description": "evaluate_",
       "disabled": false,
       "layout": "IPY_MODEL_7202c5e34cdf4cd7a36af2f070591716",
       "style": "IPY_MODEL_cf1cc34a20d54d679dac086304905d0a",
       "value": true
      }
     },
     "6ac54a02d3144a92af7d0a984c41403c": {
      "model_module": "@jupyter-widgets/controls",
      "model_module_version": "1.5.0",
      "model_name": "DescriptionStyleModel",
      "state": {
       "description_width": ""
      }
     },
     "6c43cb6897d345db835a27b86de6f44e": {
      "model_module": "@jupyter-widgets/base",
      "model_module_version": "1.2.0",
      "model_name": "LayoutModel",
      "state": {}
     },
     "6fc9cfa7b08c49c78333c0fd2bd83c7b": {
      "model_module": "@jupyter-widgets/base",
      "model_module_version": "1.2.0",
      "model_name": "LayoutModel",
      "state": {}
     },
     "7202c5e34cdf4cd7a36af2f070591716": {
      "model_module": "@jupyter-widgets/base",
      "model_module_version": "1.2.0",
      "model_name": "LayoutModel",
      "state": {}
     },
     "7681ce4a9da1441ba58f3d678c7a673a": {
      "model_module": "@jupyter-widgets/controls",
      "model_module_version": "1.5.0",
      "model_name": "HTMLModel",
      "state": {
       "layout": "IPY_MODEL_7a7f23a4af96497ea38cce79412196af",
       "style": "IPY_MODEL_aae25e478641425794367523daeac3a8"
      }
     },
     "793f496c2e0340ce985a3aae05f417ca": {
      "model_module": "@jupyter-widgets/controls",
      "model_module_version": "1.5.0",
      "model_name": "DropdownModel",
      "state": {
       "_options_labels": [
        "/mnt/ssd/git/dynamic-cmr-models/exp/phasereg_v2/miccai_baseline/miccai_baseline_f0/2021-07-28_20_14",
        "/mnt/ssd/git/dynamic-cmr-models/exp/phasereg_v2/miccai_baseline/miccai_baseline_f0",
        "/mnt/ssd/git/dynamic-cmr-models/exp/phasereg_v2/miccai_baseline",
        "/mnt/ssd/git/dynamic-cmr-models/exp/phasereg_v2",
        "/mnt/ssd/git/dynamic-cmr-models/exp",
        "/mnt/ssd/git/dynamic-cmr-models",
        "/mnt/ssd/git",
        "/mnt/ssd",
        "/mnt",
        "/"
       ],
       "index": 0,
       "layout": "IPY_MODEL_9e23498114094705b402f2963bc95aa2",
       "style": "IPY_MODEL_c4a9374a5ffb4df3a7b48976d3d079a5"
      }
     },
     "7a7f23a4af96497ea38cce79412196af": {
      "model_module": "@jupyter-widgets/base",
      "model_module_version": "1.2.0",
      "model_name": "LayoutModel",
      "state": {
       "display": "none"
      }
     },
     "7c1f8b32ecbf415eb7e88a11260b953b": {
      "model_module": "@jupyter-widgets/base",
      "model_module_version": "1.2.0",
      "model_name": "LayoutModel",
      "state": {}
     },
     "7ebf5466916549d1b7e32176d762da10": {
      "model_module": "@jupyter-widgets/base",
      "model_module_version": "1.2.0",
      "model_name": "LayoutModel",
      "state": {
       "width": "auto"
      }
     },
     "857d0eed22f8471bab0422c64af383d1": {
      "model_module": "@jupyter-widgets/controls",
      "model_module_version": "1.5.0",
      "model_name": "ButtonStyleModel",
      "state": {}
     },
     "87f0750ed24e48868486377f7be83614": {
      "model_module": "@jupyter-widgets/base",
      "model_module_version": "1.2.0",
      "model_name": "LayoutModel",
      "state": {
       "width": "auto"
      }
     },
     "8968ef3f88de448490e99d7cd0b39485": {
      "model_module": "@jupyter-widgets/controls",
      "model_module_version": "1.5.0",
      "model_name": "DescriptionStyleModel",
      "state": {
       "description_width": ""
      }
     },
     "8dbff3e759714618b7468213c6984039": {
      "model_module": "@jupyter-widgets/controls",
      "model_module_version": "1.5.0",
      "model_name": "DescriptionStyleModel",
      "state": {
       "description_width": ""
      }
     },
     "92b23bd4503b42d5b9d8990ca9cef010": {
      "model_module": "@jupyter-widgets/controls",
      "model_module_version": "1.5.0",
      "model_name": "ButtonStyleModel",
      "state": {}
     },
     "9682995eedd64acd9d905ea983766e2d": {
      "model_module": "@jupyter-widgets/controls",
      "model_module_version": "1.5.0",
      "model_name": "TextModel",
      "state": {
       "layout": "IPY_MODEL_c5bcd985b42a41a78451f86b1190736d",
       "placeholder": "output filename",
       "style": "IPY_MODEL_6ac54a02d3144a92af7d0a984c41403c"
      }
     },
     "98c5667059f74a2eaf8803580fe25d49": {
      "model_module": "@jupyter-widgets/controls",
      "model_module_version": "1.5.0",
      "model_name": "ButtonModel",
      "state": {
       "description": "Change",
       "layout": "IPY_MODEL_410c7459801345efa524a5363ee49775",
       "style": "IPY_MODEL_a9a35829f5b640f6b8eee8fc34b5aa89"
      }
     },
     "9e23498114094705b402f2963bc95aa2": {
      "model_module": "@jupyter-widgets/base",
      "model_module_version": "1.2.0",
      "model_name": "LayoutModel",
      "state": {
       "grid_area": "pathlist",
       "width": "auto"
      }
     },
     "a8e9d8723a204cfeb3d532b7507d94c8": {
      "model_module": "@jupyter-widgets/base",
      "model_module_version": "1.2.0",
      "model_name": "LayoutModel",
      "state": {
       "grid_area": "dircontent",
       "width": "auto"
      }
     },
     "a9a35829f5b640f6b8eee8fc34b5aa89": {
      "model_module": "@jupyter-widgets/controls",
      "model_module_version": "1.5.0",
      "model_name": "ButtonStyleModel",
      "state": {}
     },
     "a9af7ae156f44bd7a2b6690ed797f46e": {
      "model_module": "@jupyter-widgets/controls",
      "model_module_version": "1.5.0",
      "model_name": "DropdownModel",
      "state": {
       "_options_labels": [
        "/mnt/ssd/git/dynamic-cmr-models/exp/phasereg_v2/miccai_baseline/miccai_baseline_f0/2021-07-28_20_14",
        "/mnt/ssd/git/dynamic-cmr-models/exp/phasereg_v2/miccai_baseline/miccai_baseline_f0",
        "/mnt/ssd/git/dynamic-cmr-models/exp/phasereg_v2/miccai_baseline",
        "/mnt/ssd/git/dynamic-cmr-models/exp/phasereg_v2",
        "/mnt/ssd/git/dynamic-cmr-models/exp",
        "/mnt/ssd/git/dynamic-cmr-models",
        "/mnt/ssd/git",
        "/mnt/ssd",
        "/mnt",
        "/"
       ],
       "index": 0,
       "layout": "IPY_MODEL_49f8317513994069b29f686337917b50",
       "style": "IPY_MODEL_f3295e6b727640ffb6434d94a8f6c6bd"
      }
     },
     "aae25e478641425794367523daeac3a8": {
      "model_module": "@jupyter-widgets/controls",
      "model_module_version": "1.5.0",
      "model_name": "DescriptionStyleModel",
      "state": {
       "description_width": ""
      }
     },
     "aaefc23e44ad4509b4ca448fecc0f33d": {
      "model_module": "@jupyter-widgets/controls",
      "model_module_version": "1.5.0",
      "model_name": "HTMLModel",
      "state": {
       "layout": "IPY_MODEL_7c1f8b32ecbf415eb7e88a11260b953b",
       "placeholder": "",
       "style": "IPY_MODEL_c4b8d94fce444f13af0839f778ccf37b",
       "value": "<span style=\"margin-left:10px; color:green;\">/mnt/ssd/git/dynamic-cmr-models/exp/phasereg_v2/miccai_baseline/miccai_baseline_f0/2021-07-28_20_14/</span>"
      }
     },
     "ac4e88d5e94b4b66aa8fa0c72d9e626b": {
      "model_module": "@jupyter-widgets/controls",
      "model_module_version": "1.5.0",
      "model_name": "SelectModel",
      "state": {
       "_options_labels": [
        "..",
        "config",
        "history",
        "model",
        "pred",
        "tensorboard_logs",
        "Log_errors.log",
        "model.png",
        "model_summary.txt"
       ],
       "index": null,
       "layout": "IPY_MODEL_35fc97b41dc74490b1dd67b6a1dd8cca",
       "rows": 8,
       "style": "IPY_MODEL_db5df44d90af444e96ce4bcafdb21262"
      }
     },
     "ae0fcfa78de74ef79d27a67f03732b0c": {
      "model_module": "@jupyter-widgets/base",
      "model_module_version": "1.2.0",
      "model_name": "LayoutModel",
      "state": {
       "width": "auto"
      }
     },
     "ae5c5da7965e44f79a7b3f9e4bd645a0": {
      "model_module": "@jupyter-widgets/controls",
      "model_module_version": "1.5.0",
      "model_name": "VBoxModel",
      "state": {
       "_dom_classes": [
        "widget-interact"
       ],
       "children": [
        "IPY_MODEL_6325cba81c4449578533da68c6a5e96f",
        "IPY_MODEL_0d61c995c1954a19a9139326b75860d7"
       ],
       "layout": "IPY_MODEL_c0a0bb87e2694c1d9e82d4c3be07c2bd"
      }
     },
     "afdf2c4763534e67b5c32ef3a51519a8": {
      "model_module": "@jupyter-widgets/controls",
      "model_module_version": "1.5.0",
      "model_name": "VBoxModel",
      "state": {
       "children": [
        "IPY_MODEL_7681ce4a9da1441ba58f3d678c7a673a",
        "IPY_MODEL_ee03f40d5cbd4ef2a6570191265eacef",
        "IPY_MODEL_d0a0cfc0590d4c129b440c7122009800"
       ],
       "layout": "IPY_MODEL_87f0750ed24e48868486377f7be83614"
      }
     },
     "b1ab15cad7ca4911a5b17cf977607900": {
      "model_module": "@jupyter-widgets/base",
      "model_module_version": "1.2.0",
      "model_name": "LayoutModel",
      "state": {
       "grid_area": "pathlist",
       "width": "auto"
      }
     },
     "b694a2b7edd44b5c8dd4135e07689b5e": {
      "model_module": "@jupyter-widgets/output",
      "model_module_version": "1.0.0",
      "model_name": "OutputModel",
      "state": {
       "layout": "IPY_MODEL_4ca01ea8e35040f59d2144a99ecb345f",
       "outputs": [
        {
         "name": "stdout",
         "output_type": "stream",
         "text": "eval: /mnt/ssd/git/dynamic-cmr-models/exp/phasereg_v2/miccai_baseline/miccai_baseline_f0/2021-07-28_20_14/\n/mnt/ssd/git/dynamic-cmr-models/exp/phasereg_v2/miccai_baseline/miccai_baseline_f0/2021-07-28_20_14//pred/*.npy\n1\nWARNING:tensorflow:From /home/sven/anaconda3/envs/dcmr/lib/python3.8/site-packages/tensorflow/python/util/deprecation.py:574: calling map_fn_v2 (from tensorflow.python.ops.map_fn) with dtype is deprecated and will be removed in a future version.\nInstructions for updating:\nUse fn_output_signature instead\n"
        }
       ]
      }
     },
     "b920507512514ecc8640238be0c356b5": {
      "model_module": "@jupyter-widgets/controls",
      "model_module_version": "1.5.0",
      "model_name": "TextModel",
      "state": {
       "layout": "IPY_MODEL_5c7ef2f7d6f346189df27e1347d653cd",
       "placeholder": "output filename",
       "style": "IPY_MODEL_ec766a7de0de4a3d81d491f7585e34ef"
      }
     },
     "b955a55d48f3437b8173fbaade147c5b": {
      "model_module": "@jupyter-widgets/controls",
      "model_module_version": "1.5.0",
      "model_name": "HBoxModel",
      "state": {
       "children": [
        "IPY_MODEL_98c5667059f74a2eaf8803580fe25d49",
        "IPY_MODEL_d7033213950c45cf8c92402d836f929e",
        "IPY_MODEL_aaefc23e44ad4509b4ca448fecc0f33d"
       ],
       "layout": "IPY_MODEL_e270445c10b548ccbfd6a88cfc1464ac"
      }
     },
     "bb1156eef8c54ae584885cf3ebc619ce": {
      "model_module": "@jupyter-widgets/base",
      "model_module_version": "1.2.0",
      "model_name": "LayoutModel",
      "state": {}
     },
     "bb4dc02ab24f42e8a443c2c43cbd45d5": {
      "model_module": "@jupyter-widgets/base",
      "model_module_version": "1.2.0",
      "model_name": "LayoutModel",
      "state": {
       "display": "none",
       "grid_gap": "0px 0px",
       "grid_template_areas": "\n                    'pathlist filename'\n                    'dircontent dircontent'\n                    ",
       "grid_template_columns": "60% 40%",
       "grid_template_rows": "auto auto",
       "width": "500px"
      }
     },
     "c02ae4fba322418bbd48df83bcb7acc7": {
      "model_module": "@jupyter-widgets/controls",
      "model_module_version": "1.5.0",
      "model_name": "HTMLModel",
      "state": {
       "layout": "IPY_MODEL_48f65a12a0ba4414837e8c4938b294ea",
       "style": "IPY_MODEL_8dbff3e759714618b7468213c6984039"
      }
     },
     "c0a0bb87e2694c1d9e82d4c3be07c2bd": {
      "model_module": "@jupyter-widgets/base",
      "model_module_version": "1.2.0",
      "model_name": "LayoutModel",
      "state": {}
     },
     "c3f03e1eba87494ba84d89be8d2a2389": {
      "model_module": "@jupyter-widgets/base",
      "model_module_version": "1.2.0",
      "model_name": "LayoutModel",
      "state": {}
     },
     "c4a9374a5ffb4df3a7b48976d3d079a5": {
      "model_module": "@jupyter-widgets/controls",
      "model_module_version": "1.5.0",
      "model_name": "DescriptionStyleModel",
      "state": {
       "description_width": ""
      }
     },
     "c4b8d94fce444f13af0839f778ccf37b": {
      "model_module": "@jupyter-widgets/controls",
      "model_module_version": "1.5.0",
      "model_name": "DescriptionStyleModel",
      "state": {
       "description_width": ""
      }
     },
     "c53f39ef075f47678e53204e6cdffcc5": {
      "model_module": "@jupyter-widgets/base",
      "model_module_version": "1.2.0",
      "model_name": "LayoutModel",
      "state": {}
     },
     "c5bcd985b42a41a78451f86b1190736d": {
      "model_module": "@jupyter-widgets/base",
      "model_module_version": "1.2.0",
      "model_name": "LayoutModel",
      "state": {
       "grid_area": "filename",
       "width": "auto"
      }
     },
     "c6a1e37737dd49f4a2580ca8045852c4": {
      "model_module": "@jupyter-widgets/output",
      "model_module_version": "1.0.0",
      "model_name": "OutputModel",
      "state": {
       "layout": "IPY_MODEL_f8ef09c522034da1bf5f307d66402a45",
       "outputs": [
        {
         "name": "stdout",
         "output_type": "stream",
         "text": "eval: /mnt/ssd/git/dynamic-cmr-models/exp/phasereg_v2/miccai_baseline/miccai_baseline_f0/2021-07-28_20_14/\n0\n"
        },
        {
         "ename": "ValueError",
         "evalue": "need at least one array to concatenate",
         "output_type": "error",
         "traceback": [
          "\u001b[0;31m---------------------------------------------------------------------------\u001b[0m",
          "\u001b[0;31mValueError\u001b[0m                                Traceback (most recent call last)",
          "\u001b[0;32m~/anaconda3/envs/dcmr/lib/python3.8/site-packages/ipywidgets/widgets/interaction.py\u001b[0m in \u001b[0;36mupdate\u001b[0;34m(self, *args)\u001b[0m\n\u001b[1;32m    254\u001b[0m                     \u001b[0mvalue\u001b[0m \u001b[0;34m=\u001b[0m \u001b[0mwidget\u001b[0m\u001b[0;34m.\u001b[0m\u001b[0mget_interact_value\u001b[0m\u001b[0;34m(\u001b[0m\u001b[0;34m)\u001b[0m\u001b[0;34m\u001b[0m\u001b[0;34m\u001b[0m\u001b[0m\n\u001b[1;32m    255\u001b[0m                     \u001b[0mself\u001b[0m\u001b[0;34m.\u001b[0m\u001b[0mkwargs\u001b[0m\u001b[0;34m[\u001b[0m\u001b[0mwidget\u001b[0m\u001b[0;34m.\u001b[0m\u001b[0m_kwarg\u001b[0m\u001b[0;34m]\u001b[0m \u001b[0;34m=\u001b[0m \u001b[0mvalue\u001b[0m\u001b[0;34m\u001b[0m\u001b[0;34m\u001b[0m\u001b[0m\n\u001b[0;32m--> 256\u001b[0;31m                 \u001b[0mself\u001b[0m\u001b[0;34m.\u001b[0m\u001b[0mresult\u001b[0m \u001b[0;34m=\u001b[0m \u001b[0mself\u001b[0m\u001b[0;34m.\u001b[0m\u001b[0mf\u001b[0m\u001b[0;34m(\u001b[0m\u001b[0;34m**\u001b[0m\u001b[0mself\u001b[0m\u001b[0;34m.\u001b[0m\u001b[0mkwargs\u001b[0m\u001b[0;34m)\u001b[0m\u001b[0;34m\u001b[0m\u001b[0;34m\u001b[0m\u001b[0m\n\u001b[0m\u001b[1;32m    257\u001b[0m                 \u001b[0mshow_inline_matplotlib_plots\u001b[0m\u001b[0;34m(\u001b[0m\u001b[0;34m)\u001b[0m\u001b[0;34m\u001b[0m\u001b[0;34m\u001b[0m\u001b[0m\n\u001b[1;32m    258\u001b[0m                 \u001b[0;32mif\u001b[0m \u001b[0mself\u001b[0m\u001b[0;34m.\u001b[0m\u001b[0mauto_display\u001b[0m \u001b[0;32mand\u001b[0m \u001b[0mself\u001b[0m\u001b[0;34m.\u001b[0m\u001b[0mresult\u001b[0m \u001b[0;32mis\u001b[0m \u001b[0;32mnot\u001b[0m \u001b[0;32mNone\u001b[0m\u001b[0;34m:\u001b[0m\u001b[0;34m\u001b[0m\u001b[0;34m\u001b[0m\u001b[0m\n",
          "\u001b[0;32m<ipython-input-3-103b72c03d59>\u001b[0m in \u001b[0;36meval_interact\u001b[0;34m(evaluate_)\u001b[0m\n\u001b[1;32m      6\u001b[0m     \u001b[0;32mglobal\u001b[0m \u001b[0mdf\u001b[0m\u001b[0;34m\u001b[0m\u001b[0;34m\u001b[0m\u001b[0m\n\u001b[1;32m      7\u001b[0m     \u001b[0;32mif\u001b[0m \u001b[0mevaluate_\u001b[0m\u001b[0;34m:\u001b[0m\u001b[0;34m\u001b[0m\u001b[0;34m\u001b[0m\u001b[0m\n\u001b[0;32m----> 8\u001b[0;31m         \u001b[0mdf\u001b[0m \u001b[0;34m=\u001b[0m \u001b[0mevaluate\u001b[0m\u001b[0;34m(\u001b[0m\u001b[0mfchooser\u001b[0m\u001b[0;34m.\u001b[0m\u001b[0mselected\u001b[0m\u001b[0;34m,\u001b[0m \u001b[0mpred_suffix\u001b[0m\u001b[0;34m=\u001b[0m\u001b[0;34m'acdc_pred'\u001b[0m\u001b[0;34m)\u001b[0m\u001b[0;34m\u001b[0m\u001b[0;34m\u001b[0m\u001b[0m\n\u001b[0m",
          "\u001b[0;32m<ipython-input-4-dc621d1290f2>\u001b[0m in \u001b[0;36mevaluate\u001b[0;34m(exp_root, result_df, pred_suffix)\u001b[0m\n\u001b[1;32m     15\u001b[0m     \u001b[0mpreds\u001b[0m \u001b[0;34m=\u001b[0m \u001b[0mlist\u001b[0m\u001b[0;34m(\u001b[0m\u001b[0mmap\u001b[0m\u001b[0;34m(\u001b[0m\u001b[0;32mlambda\u001b[0m \u001b[0mx\u001b[0m \u001b[0;34m:\u001b[0m \u001b[0mnp\u001b[0m\u001b[0;34m.\u001b[0m\u001b[0mload\u001b[0m\u001b[0;34m(\u001b[0m\u001b[0mx\u001b[0m\u001b[0;34m)\u001b[0m\u001b[0;34m,\u001b[0m \u001b[0mall_pred_files\u001b[0m\u001b[0;34m)\u001b[0m\u001b[0;34m)\u001b[0m\u001b[0;34m\u001b[0m\u001b[0;34m\u001b[0m\u001b[0m\n\u001b[1;32m     16\u001b[0m     \u001b[0;31m# stack the numpy files\u001b[0m\u001b[0;34m\u001b[0m\u001b[0;34m\u001b[0m\u001b[0;34m\u001b[0m\u001b[0m\n\u001b[0;32m---> 17\u001b[0;31m     \u001b[0mpreds\u001b[0m \u001b[0;34m=\u001b[0m \u001b[0mnp\u001b[0m\u001b[0;34m.\u001b[0m\u001b[0mconcatenate\u001b[0m\u001b[0;34m(\u001b[0m\u001b[0mpreds\u001b[0m\u001b[0;34m,\u001b[0m \u001b[0maxis\u001b[0m\u001b[0;34m=\u001b[0m\u001b[0;36m1\u001b[0m\u001b[0;34m)\u001b[0m\u001b[0;34m\u001b[0m\u001b[0;34m\u001b[0m\u001b[0m\n\u001b[0m\u001b[1;32m     18\u001b[0m \u001b[0;34m\u001b[0m\u001b[0m\n\u001b[1;32m     19\u001b[0m     \u001b[0;31m# calculate the mean differences\u001b[0m\u001b[0;34m\u001b[0m\u001b[0;34m\u001b[0m\u001b[0;34m\u001b[0m\u001b[0m\n",
          "\u001b[0;32m<__array_function__ internals>\u001b[0m in \u001b[0;36mconcatenate\u001b[0;34m(*args, **kwargs)\u001b[0m\n",
          "\u001b[0;31mValueError\u001b[0m: need at least one array to concatenate"
         ]
        }
       ]
      }
     },
     "cf1cc34a20d54d679dac086304905d0a": {
      "model_module": "@jupyter-widgets/controls",
      "model_module_version": "1.5.0",
      "model_name": "DescriptionStyleModel",
      "state": {
       "description_width": ""
      }
     },
     "d0a0cfc0590d4c129b440c7122009800": {
      "model_module": "@jupyter-widgets/controls",
      "model_module_version": "1.5.0",
      "model_name": "HBoxModel",
      "state": {
       "children": [
        "IPY_MODEL_d153188d9d6146059122ce6470b9416f",
        "IPY_MODEL_fc87eee4a11c4993bee2398c2a16eb0a",
        "IPY_MODEL_47192d07adbb479baa031c34e0c3677b"
       ],
       "layout": "IPY_MODEL_f569339de58f4aa8bb9b0b7191504dff"
      }
     },
     "d153188d9d6146059122ce6470b9416f": {
      "model_module": "@jupyter-widgets/controls",
      "model_module_version": "1.5.0",
      "model_name": "ButtonModel",
      "state": {
       "description": "Change",
       "layout": "IPY_MODEL_0e017ce0a65f48848a2b192b2081d033",
       "style": "IPY_MODEL_2a5a8c3be1f4403da8cd4df41d257182"
      }
     },
     "d181a817d0844802ac26cc5c01e7c4b9": {
      "model_module": "@jupyter-widgets/base",
      "model_module_version": "1.2.0",
      "model_name": "LayoutModel",
      "state": {}
     },
     "d3a49822e58c4331b7eb31b72c4efb61": {
      "model_module": "@jupyter-widgets/controls",
      "model_module_version": "1.5.0",
      "model_name": "CheckboxModel",
      "state": {
       "description": "evaluate_",
       "disabled": false,
       "layout": "IPY_MODEL_c3f03e1eba87494ba84d89be8d2a2389",
       "style": "IPY_MODEL_d52baa5bc0f9496987a26edfd9c244e6",
       "value": true
      }
     },
     "d52baa5bc0f9496987a26edfd9c244e6": {
      "model_module": "@jupyter-widgets/controls",
      "model_module_version": "1.5.0",
      "model_name": "DescriptionStyleModel",
      "state": {
       "description_width": ""
      }
     },
     "d7033213950c45cf8c92402d836f929e": {
      "model_module": "@jupyter-widgets/controls",
      "model_module_version": "1.5.0",
      "model_name": "ButtonModel",
      "state": {
       "description": "Cancel",
       "layout": "IPY_MODEL_1379619bf6534396887c0ae1b0f88a1e",
       "style": "IPY_MODEL_edf4a67d23324e0bb1bfd3da97492d22"
      }
     },
     "db5df44d90af444e96ce4bcafdb21262": {
      "model_module": "@jupyter-widgets/controls",
      "model_module_version": "1.5.0",
      "model_name": "DescriptionStyleModel",
      "state": {
       "description_width": ""
      }
     },
     "e270445c10b548ccbfd6a88cfc1464ac": {
      "model_module": "@jupyter-widgets/base",
      "model_module_version": "1.2.0",
      "model_name": "LayoutModel",
      "state": {
       "width": "auto"
      }
     },
     "e6363beefa5a48179c0f89e461b70653": {
      "model_module": "@jupyter-widgets/base",
      "model_module_version": "1.2.0",
      "model_name": "LayoutModel",
      "state": {
       "grid_area": "filename",
       "width": "auto"
      }
     },
     "e7f33e019f414e979ecdf86de693f04f": {
      "model_module": "@jupyter-widgets/controls",
      "model_module_version": "1.5.0",
      "model_name": "DescriptionStyleModel",
      "state": {
       "description_width": ""
      }
     },
     "ec766a7de0de4a3d81d491f7585e34ef": {
      "model_module": "@jupyter-widgets/controls",
      "model_module_version": "1.5.0",
      "model_name": "DescriptionStyleModel",
      "state": {
       "description_width": ""
      }
     },
     "edc3b448f1fe477b84c62e0017afda73": {
      "model_module": "@jupyter-widgets/controls",
      "model_module_version": "1.5.0",
      "model_name": "GridBoxModel",
      "state": {
       "children": [
        "IPY_MODEL_49cbb224d2ce4de9abfefb87a6127f84",
        "IPY_MODEL_9682995eedd64acd9d905ea983766e2d",
        "IPY_MODEL_1d5b232e221c4d6ba1c4771d1c896551"
       ],
       "layout": "IPY_MODEL_1a5d797b747f42858858229b8ad9f286"
      }
     },
     "edcac0680bae46968e5b0f267449933d": {
      "model_module": "@jupyter-widgets/controls",
      "model_module_version": "1.5.0",
      "model_name": "TextModel",
      "state": {
       "layout": "IPY_MODEL_e6363beefa5a48179c0f89e461b70653",
       "placeholder": "output filename",
       "style": "IPY_MODEL_1b7c0eb26c864bce8d2f3d427f765f01"
      }
     },
     "edf4a67d23324e0bb1bfd3da97492d22": {
      "model_module": "@jupyter-widgets/controls",
      "model_module_version": "1.5.0",
      "model_name": "ButtonStyleModel",
      "state": {}
     },
     "ee03f40d5cbd4ef2a6570191265eacef": {
      "model_module": "@jupyter-widgets/controls",
      "model_module_version": "1.5.0",
      "model_name": "GridBoxModel",
      "state": {
       "children": [
        "IPY_MODEL_a9af7ae156f44bd7a2b6690ed797f46e",
        "IPY_MODEL_edcac0680bae46968e5b0f267449933d",
        "IPY_MODEL_30e805453ea746189a8dd03b480b35a5"
       ],
       "layout": "IPY_MODEL_bb4dc02ab24f42e8a443c2c43cbd45d5"
      }
     },
     "f3295e6b727640ffb6434d94a8f6c6bd": {
      "model_module": "@jupyter-widgets/controls",
      "model_module_version": "1.5.0",
      "model_name": "DescriptionStyleModel",
      "state": {
       "description_width": ""
      }
     },
     "f4c267281d484a7ba1e7fd103fe94d94": {
      "model_module": "@jupyter-widgets/base",
      "model_module_version": "1.2.0",
      "model_name": "LayoutModel",
      "state": {}
     },
     "f569339de58f4aa8bb9b0b7191504dff": {
      "model_module": "@jupyter-widgets/base",
      "model_module_version": "1.2.0",
      "model_name": "LayoutModel",
      "state": {
       "width": "auto"
      }
     },
     "f89a1d717f404bbe98513c10e0bd5625": {
      "model_module": "@jupyter-widgets/controls",
      "model_module_version": "1.5.0",
      "model_name": "DescriptionStyleModel",
      "state": {
       "description_width": ""
      }
     },
     "f8ef09c522034da1bf5f307d66402a45": {
      "model_module": "@jupyter-widgets/base",
      "model_module_version": "1.2.0",
      "model_name": "LayoutModel",
      "state": {}
     },
     "fc87eee4a11c4993bee2398c2a16eb0a": {
      "model_module": "@jupyter-widgets/controls",
      "model_module_version": "1.5.0",
      "model_name": "ButtonModel",
      "state": {
       "description": "Cancel",
       "layout": "IPY_MODEL_2f3f87ee2260426f8ee9332fb17557e2",
       "style": "IPY_MODEL_92b23bd4503b42d5b9d8990ca9cef010"
      }
     }
    },
    "version_major": 2,
    "version_minor": 0
   }
  }
 },
 "nbformat": 4,
 "nbformat_minor": 4
}
