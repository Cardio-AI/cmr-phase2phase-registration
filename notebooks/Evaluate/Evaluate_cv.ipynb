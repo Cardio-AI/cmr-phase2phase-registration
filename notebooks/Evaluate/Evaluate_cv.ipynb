{
 "cells": [
  {
   "cell_type": "code",
   "execution_count": 16,
   "metadata": {},
   "outputs": [
    {
     "name": "stdout",
     "output_type": "stream",
     "text": [
      "search for root_dir and set working directory\n",
      "Working directory set to: /mnt/ssd/git/dynamic-cmr-models\n"
     ]
    }
   ],
   "source": [
    "# define logging and working directory\n",
    "# ------------------------------------------\n",
    "from ProjectRoot import change_wd_to_project_root\n",
    "change_wd_to_project_root()\n",
    "# jupyter magic config\n",
    "# ------------------------------------------\n",
    "%matplotlib inline\n",
    "%reload_ext autoreload\n",
    "%autoreload 2\n",
    "# this should import glob, os, and many other standard libs\n",
    "# ------------------------------------------ \n",
    "from src.utils.Notebook_imports import *\n",
    "# local imports\n",
    "# ------------------------------------------ \n",
    "from src.utils.Utils_io import Console_and_file_logger, init_config\n",
    "# import external libs\n",
    "# ------------------------------------------ \n",
    "import pandas as pd\n",
    "import numpy as np\n",
    "from ipyfilechooser import FileChooser\n",
    "import glob\n",
    "import os\n"
   ]
  },
  {
   "cell_type": "code",
   "execution_count": 17,
   "metadata": {},
   "outputs": [],
   "source": [
    "def evaluate(exp_root, result_df='results.xlsx', pred_suffix = 'pred'):\n",
    "    global all_pred_files\n",
    "    print('eval: {}'.format(exp_root))\n",
    "    from src.utils.Metrics import meandiff\n",
    "    phases = ['ED', 'MS', 'ES', 'PF', 'MD']\n",
    "    \n",
    "    direct_path = '{}/{}/*.npy'.format(exp_root, pred_suffix)\n",
    "    print('path to predictions: {}'.format(direct_path))\n",
    "    all_pred_files = glob.glob(direct_path)\n",
    "    if len(all_pred_files) == 0:    \n",
    "        all_pred_files = sorted(glob.glob('{}/**/**/{}/*.npy'.format(exp_root, pred_suffix), recursive=False))\n",
    "    \"\"\"if len(all_pred_files) == 0:\n",
    "        all_pred_files = sorted(glob.glob('{}/{}/*.npy'.format(exp_root, pred_suffix), recursive=False))\"\"\"\n",
    "    #assert len(all_pred_files) ==4, 'we expect a four-fold cv, but found: {} predictions'.format(len(all_pred_files))\n",
    "    print('predictions found: {}'.format(len(all_pred_files)))\n",
    "    \n",
    "    # Load the numpy files\n",
    "    preds = list(map(lambda x : np.load(x), all_pred_files))\n",
    "    # stack the numpy files\n",
    "    preds = np.concatenate(preds, axis=1)\n",
    "    \n",
    "    # calculate the mean differences\n",
    "    res = meandiff(preds[0], preds[1], apply_sum=False, apply_average=False)\n",
    "    df = pd.DataFrame(res.numpy(), columns=phases)\n",
    "    df.to_excel(os.path.join(exp_root, result_df))\n",
    "    return df"
   ]
  },
  {
   "cell_type": "markdown",
   "metadata": {},
   "source": [
    "# Evaluate one experiment"
   ]
  },
  {
   "cell_type": "code",
   "execution_count": 18,
   "metadata": {},
   "outputs": [
    {
     "data": {
      "application/vnd.jupyter.widget-view+json": {
       "model_id": "5d12e713f42a4edda37de176d4985c1c",
       "version_major": 2,
       "version_minor": 0
      },
      "text/plain": [
       "FileChooser(path='/mnt/sds/sd20i001/sven/code/dynamic-cmr-models/exp/phasereg_v3', filename='', title='HTML(va…"
      ]
     },
     "metadata": {},
     "output_type": "display_data"
    },
    {
     "data": {
      "application/vnd.jupyter.widget-view+json": {
       "model_id": "d5378b36c8f04793bf4a8d44bfcdc810",
       "version_major": 2,
       "version_minor": 0
      },
      "text/plain": [
       "interactive(children=(Checkbox(value=False, description='evaluate_'), Output()), _dom_classes=('widget-interac…"
      ]
     },
     "metadata": {},
     "output_type": "display_data"
    }
   ],
   "source": [
    "# choose an experiment folder\n",
    "sds_storage = '/mnt/sds/sd20i001/sven/code/dynamic-cmr-models/exp/phasereg_v3/'\n",
    "local_storage = os.path.join(os.getcwd(),'exp/local')\n",
    "fchooser = FileChooser(sds_storage, '')\n",
    "display(fchooser)\n",
    "@interact\n",
    "def eval_interact(evaluate_=False):\n",
    "    global df\n",
    "    if evaluate_: \n",
    "        df = evaluate(fchooser.selected, pred_suffix='pred')"
   ]
  },
  {
   "cell_type": "markdown",
   "metadata": {},
   "source": [
    "# Evaluate multiple experiments - create a results.xlsx with one row per patient"
   ]
  },
  {
   "cell_type": "code",
   "execution_count": 6,
   "metadata": {
    "tags": []
   },
   "outputs": [
    {
     "name": "stdout",
     "output_type": "stream",
     "text": [
      "Evaluate: 12 experiments\n",
      "eval: /mnt/sds/sd20i001/sven/code/dynamic-cmr-models/exp/phasereg_v3/24_8_128_128_flow_conv/\n",
      "path to predictions: /mnt/sds/sd20i001/sven/code/dynamic-cmr-models/exp/phasereg_v3/24_8_128_128_flow_conv//pred/*.npy\n",
      "predictions found: 0\n",
      "Faild at: /mnt/sds/sd20i001/sven/code/dynamic-cmr-models/exp/phasereg_v3/24_8_128_128_flow_conv/ with: need at least one array to concatenate\n",
      "eval: /mnt/sds/sd20i001/sven/code/dynamic-cmr-models/exp/phasereg_v3/24_8_128_128_flow_conv_bilstm64/\n",
      "path to predictions: /mnt/sds/sd20i001/sven/code/dynamic-cmr-models/exp/phasereg_v3/24_8_128_128_flow_conv_bilstm64//pred/*.npy\n",
      "predictions found: 4\n",
      "WARNING:tensorflow:From /home/sven/anaconda3/envs/dcmr/lib/python3.8/site-packages/tensorflow/python/util/deprecation.py:574: calling map_fn_v2 (from tensorflow.python.ops.map_fn) with dtype is deprecated and will be removed in a future version.\n",
      "Instructions for updating:\n",
      "Use fn_output_signature instead\n",
      "eval: /mnt/sds/sd20i001/sven/code/dynamic-cmr-models/exp/phasereg_v3/24_8_128_128_flow_conv_bilstm64_noROT/\n",
      "path to predictions: /mnt/sds/sd20i001/sven/code/dynamic-cmr-models/exp/phasereg_v3/24_8_128_128_flow_conv_bilstm64_noROT//pred/*.npy\n",
      "predictions found: 4\n",
      "eval: /mnt/sds/sd20i001/sven/code/dynamic-cmr-models/exp/phasereg_v3/24_8_128_128_flow_conv_bilstm64_noROT_noAUG/\n",
      "path to predictions: /mnt/sds/sd20i001/sven/code/dynamic-cmr-models/exp/phasereg_v3/24_8_128_128_flow_conv_bilstm64_noROT_noAUG//pred/*.npy\n",
      "predictions found: 4\n",
      "eval: /mnt/sds/sd20i001/sven/code/dynamic-cmr-models/exp/phasereg_v3/24_8_128_128_flow_gap/\n",
      "path to predictions: /mnt/sds/sd20i001/sven/code/dynamic-cmr-models/exp/phasereg_v3/24_8_128_128_flow_gap//pred/*.npy\n",
      "predictions found: 4\n",
      "eval: /mnt/sds/sd20i001/sven/code/dynamic-cmr-models/exp/phasereg_v3/24_8_128_128_flow_gap_bilstm64/\n",
      "path to predictions: /mnt/sds/sd20i001/sven/code/dynamic-cmr-models/exp/phasereg_v3/24_8_128_128_flow_gap_bilstm64//pred/*.npy\n",
      "predictions found: 3\n",
      "eval: /mnt/sds/sd20i001/sven/code/dynamic-cmr-models/exp/phasereg_v3/24_8_128_128_flow_norm_conv_bilstm64/\n",
      "path to predictions: /mnt/sds/sd20i001/sven/code/dynamic-cmr-models/exp/phasereg_v3/24_8_128_128_flow_norm_conv_bilstm64//pred/*.npy\n",
      "predictions found: 4\n",
      "eval: /mnt/sds/sd20i001/sven/code/dynamic-cmr-models/exp/phasereg_v3/24_8_128_128_flow_norm_dir_conv_bilstm64/\n",
      "path to predictions: /mnt/sds/sd20i001/sven/code/dynamic-cmr-models/exp/phasereg_v3/24_8_128_128_flow_norm_dir_conv_bilstm64//pred/*.npy\n",
      "predictions found: 4\n",
      "eval: /mnt/sds/sd20i001/sven/code/dynamic-cmr-models/exp/phasereg_v3/24_8_128_128_flow_norm_dir_gap/\n",
      "path to predictions: /mnt/sds/sd20i001/sven/code/dynamic-cmr-models/exp/phasereg_v3/24_8_128_128_flow_norm_dir_gap//pred/*.npy\n",
      "predictions found: 4\n",
      "eval: /mnt/sds/sd20i001/sven/code/dynamic-cmr-models/exp/phasereg_v3/24_8_128_128_norm_dir_conv_bilstm64/\n",
      "path to predictions: /mnt/sds/sd20i001/sven/code/dynamic-cmr-models/exp/phasereg_v3/24_8_128_128_norm_dir_conv_bilstm64//pred/*.npy\n",
      "predictions found: 4\n",
      "eval: /mnt/sds/sd20i001/sven/code/dynamic-cmr-models/exp/phasereg_v3/24_8_128_128_norm_dir_gap/\n",
      "path to predictions: /mnt/sds/sd20i001/sven/code/dynamic-cmr-models/exp/phasereg_v3/24_8_128_128_norm_dir_gap//pred/*.npy\n",
      "predictions found: 3\n",
      "eval: /mnt/sds/sd20i001/sven/code/dynamic-cmr-models/exp/phasereg_v3/24_8_128_128_norm_dir_gap_bilstm64/\n",
      "path to predictions: /mnt/sds/sd20i001/sven/code/dynamic-cmr-models/exp/phasereg_v3/24_8_128_128_norm_dir_gap_bilstm64//pred/*.npy\n",
      "predictions found: 4\n"
     ]
    }
   ],
   "source": [
    "experiments = sorted(glob.glob(os.path.join(sds_storage,'*/')))\n",
    "print('Evaluate: {} experiments'.format(len(experiments)))\n",
    "excl = 'tres'\n",
    "results = []\n",
    "results_names = []\n",
    "for e in experiments:\n",
    "    try:\n",
    "        if excl not in e:\n",
    "            results.append(evaluate(e))\n",
    "            results_names.append(e.split('/')[-2])\n",
    "        else:\n",
    "            print('skip by substring: {}'.format(excl))\n",
    "    except Exception as ex:\n",
    "        print('Faild at: {} with: {}'.format(e,ex))"
   ]
  },
  {
   "cell_type": "markdown",
   "metadata": {},
   "source": [
    "# Build one dataframe with one row per experiment"
   ]
  },
  {
   "cell_type": "markdown",
   "metadata": {},
   "source": [
    "# Error per Phase as df"
   ]
  },
  {
   "cell_type": "code",
   "execution_count": 7,
   "metadata": {},
   "outputs": [],
   "source": [
    "# helper, aggregate one experiment\n",
    "def aggregate_df(df):\n",
    "    cols = ['Mean/phase', 'SD/phase']\n",
    "    temp = pd.DataFrame(columns=cols)\n",
    "    temp[cols[0]] = df.mean(axis=0)\n",
    "    temp[cols[1]] = df.std(axis=0)\n",
    "    temp = temp.round(3)\n",
    "    temp = temp.stack()\n",
    "    temp['overall','Mean'] = df.values.mean()\n",
    "    temp['overall','SD'] = df.values.std()\n",
    "    temp['Cycle','Mean'] = np.mean(df.sum(axis=1))\n",
    "    temp['Cycle','SD'] = np.std(df.sum(axis=1))\n",
    "    return temp"
   ]
  },
  {
   "cell_type": "code",
   "execution_count": 8,
   "metadata": {},
   "outputs": [],
   "source": [
    "results_agg = [aggregate_df(elem) for elem in results]\n",
    "results_agg_df = pd.concat(results_agg, axis=1).T\n",
    "results_agg_df.index = results_names"
   ]
  },
  {
   "cell_type": "markdown",
   "metadata": {},
   "source": [
    "# Show the aggregated results per experiment"
   ]
  },
  {
   "cell_type": "code",
   "execution_count": 15,
   "metadata": {},
   "outputs": [
    {
     "data": {
      "text/html": [
       "<style  type=\"text/css\" >\n",
       "#T_ce785_row0_col1,#T_ce785_row0_col4,#T_ce785_row0_col6,#T_ce785_row0_col8,#T_ce785_row0_col10,#T_ce785_row0_col12,#T_ce785_row1_col2,#T_ce785_row1_col3,#T_ce785_row1_col9,#T_ce785_row1_col11,#T_ce785_row1_col13,#T_ce785_row5_col7,#T_ce785_row6_col0,#T_ce785_row6_col8,#T_ce785_row8_col5,#T_ce785_row10_col1{\n",
       "            background-color:  lightgreen;\n",
       "        }</style><table id=\"T_ce785_\" ><thead>    <tr>        <th class=\"blank level0\" ></th>        <th class=\"col_heading level0 col0\" colspan=\"2\">ED</th>        <th class=\"col_heading level0 col2\" colspan=\"2\">MS</th>        <th class=\"col_heading level0 col4\" colspan=\"2\">ES</th>        <th class=\"col_heading level0 col6\" colspan=\"2\">PF</th>        <th class=\"col_heading level0 col8\" colspan=\"2\">MD</th>        <th class=\"col_heading level0 col10\" colspan=\"2\">overall</th>        <th class=\"col_heading level0 col12\" colspan=\"2\">Cycle</th>    </tr>    <tr>        <th class=\"blank level1\" ></th>        <th class=\"col_heading level1 col0\" >Mean/phase</th>        <th class=\"col_heading level1 col1\" >SD/phase</th>        <th class=\"col_heading level1 col2\" >Mean/phase</th>        <th class=\"col_heading level1 col3\" >SD/phase</th>        <th class=\"col_heading level1 col4\" >Mean/phase</th>        <th class=\"col_heading level1 col5\" >SD/phase</th>        <th class=\"col_heading level1 col6\" >Mean/phase</th>        <th class=\"col_heading level1 col7\" >SD/phase</th>        <th class=\"col_heading level1 col8\" >Mean/phase</th>        <th class=\"col_heading level1 col9\" >SD/phase</th>        <th class=\"col_heading level1 col10\" >Mean</th>        <th class=\"col_heading level1 col11\" >SD</th>        <th class=\"col_heading level1 col12\" >Mean</th>        <th class=\"col_heading level1 col13\" >SD</th>    </tr></thead><tbody>\n",
       "                <tr>\n",
       "                        <th id=\"T_ce785_level0_row0\" class=\"row_heading level0 row0\" >24_8_128_128_flow_conv_bilstm64</th>\n",
       "                        <td id=\"T_ce785_row0_col0\" class=\"data row0 col0\" >0.507000</td>\n",
       "                        <td id=\"T_ce785_row0_col1\" class=\"data row0 col1\" >0.562000</td>\n",
       "                        <td id=\"T_ce785_row0_col2\" class=\"data row0 col2\" >0.457000</td>\n",
       "                        <td id=\"T_ce785_row0_col3\" class=\"data row0 col3\" >0.586000</td>\n",
       "                        <td id=\"T_ce785_row0_col4\" class=\"data row0 col4\" >0.450000</td>\n",
       "                        <td id=\"T_ce785_row0_col5\" class=\"data row0 col5\" >0.644000</td>\n",
       "                        <td id=\"T_ce785_row0_col6\" class=\"data row0 col6\" >0.450000</td>\n",
       "                        <td id=\"T_ce785_row0_col7\" class=\"data row0 col7\" >0.609000</td>\n",
       "                        <td id=\"T_ce785_row0_col8\" class=\"data row0 col8\" >0.781000</td>\n",
       "                        <td id=\"T_ce785_row0_col9\" class=\"data row0 col9\" >0.882000</td>\n",
       "                        <td id=\"T_ce785_row0_col10\" class=\"data row0 col10\" >0.528777</td>\n",
       "                        <td id=\"T_ce785_row0_col11\" class=\"data row0 col11\" >0.677675</td>\n",
       "                        <td id=\"T_ce785_row0_col12\" class=\"data row0 col12\" >2.643885</td>\n",
       "                        <td id=\"T_ce785_row0_col13\" class=\"data row0 col13\" >1.850282</td>\n",
       "            </tr>\n",
       "            <tr>\n",
       "                        <th id=\"T_ce785_level0_row1\" class=\"row_heading level0 row1\" >24_8_128_128_flow_conv_bilstm64_noROT</th>\n",
       "                        <td id=\"T_ce785_row1_col0\" class=\"data row1 col0\" >0.504000</td>\n",
       "                        <td id=\"T_ce785_row1_col1\" class=\"data row1 col1\" >0.605000</td>\n",
       "                        <td id=\"T_ce785_row1_col2\" class=\"data row1 col2\" >0.435000</td>\n",
       "                        <td id=\"T_ce785_row1_col3\" class=\"data row1 col3\" >0.558000</td>\n",
       "                        <td id=\"T_ce785_row1_col4\" class=\"data row1 col4\" >0.460000</td>\n",
       "                        <td id=\"T_ce785_row1_col5\" class=\"data row1 col5\" >0.573000</td>\n",
       "                        <td id=\"T_ce785_row1_col6\" class=\"data row1 col6\" >0.486000</td>\n",
       "                        <td id=\"T_ce785_row1_col7\" class=\"data row1 col7\" >0.611000</td>\n",
       "                        <td id=\"T_ce785_row1_col8\" class=\"data row1 col8\" >0.856000</td>\n",
       "                        <td id=\"T_ce785_row1_col9\" class=\"data row1 col9\" >0.829000</td>\n",
       "                        <td id=\"T_ce785_row1_col10\" class=\"data row1 col10\" >0.548201</td>\n",
       "                        <td id=\"T_ce785_row1_col11\" class=\"data row1 col11\" >0.660429</td>\n",
       "                        <td id=\"T_ce785_row1_col12\" class=\"data row1 col12\" >2.741007</td>\n",
       "                        <td id=\"T_ce785_row1_col13\" class=\"data row1 col13\" >1.720959</td>\n",
       "            </tr>\n",
       "            <tr>\n",
       "                        <th id=\"T_ce785_level0_row2\" class=\"row_heading level0 row2\" >24_8_128_128_flow_conv_bilstm64_noROT_noAUG</th>\n",
       "                        <td id=\"T_ce785_row2_col0\" class=\"data row2 col0\" >0.608000</td>\n",
       "                        <td id=\"T_ce785_row2_col1\" class=\"data row2 col1\" >0.751000</td>\n",
       "                        <td id=\"T_ce785_row2_col2\" class=\"data row2 col2\" >0.536000</td>\n",
       "                        <td id=\"T_ce785_row2_col3\" class=\"data row2 col3\" >0.656000</td>\n",
       "                        <td id=\"T_ce785_row2_col4\" class=\"data row2 col4\" >0.468000</td>\n",
       "                        <td id=\"T_ce785_row2_col5\" class=\"data row2 col5\" >0.580000</td>\n",
       "                        <td id=\"T_ce785_row2_col6\" class=\"data row2 col6\" >0.536000</td>\n",
       "                        <td id=\"T_ce785_row2_col7\" class=\"data row2 col7\" >0.639000</td>\n",
       "                        <td id=\"T_ce785_row2_col8\" class=\"data row2 col8\" >0.863000</td>\n",
       "                        <td id=\"T_ce785_row2_col9\" class=\"data row2 col9\" >0.868000</td>\n",
       "                        <td id=\"T_ce785_row2_col10\" class=\"data row2 col10\" >0.602158</td>\n",
       "                        <td id=\"T_ce785_row2_col11\" class=\"data row2 col11\" >0.718208</td>\n",
       "                        <td id=\"T_ce785_row2_col12\" class=\"data row2 col12\" >3.010791</td>\n",
       "                        <td id=\"T_ce785_row2_col13\" class=\"data row2 col13\" >1.895629</td>\n",
       "            </tr>\n",
       "            <tr>\n",
       "                        <th id=\"T_ce785_level0_row3\" class=\"row_heading level0 row3\" >24_8_128_128_flow_gap</th>\n",
       "                        <td id=\"T_ce785_row3_col0\" class=\"data row3 col0\" >2.662000</td>\n",
       "                        <td id=\"T_ce785_row3_col1\" class=\"data row3 col1\" >2.243000</td>\n",
       "                        <td id=\"T_ce785_row3_col2\" class=\"data row3 col2\" >2.586000</td>\n",
       "                        <td id=\"T_ce785_row3_col3\" class=\"data row3 col3\" >1.774000</td>\n",
       "                        <td id=\"T_ce785_row3_col4\" class=\"data row3 col4\" >3.097000</td>\n",
       "                        <td id=\"T_ce785_row3_col5\" class=\"data row3 col5\" >2.066000</td>\n",
       "                        <td id=\"T_ce785_row3_col6\" class=\"data row3 col6\" >3.144000</td>\n",
       "                        <td id=\"T_ce785_row3_col7\" class=\"data row3 col7\" >2.095000</td>\n",
       "                        <td id=\"T_ce785_row3_col8\" class=\"data row3 col8\" >2.777000</td>\n",
       "                        <td id=\"T_ce785_row3_col9\" class=\"data row3 col9\" >1.750000</td>\n",
       "                        <td id=\"T_ce785_row3_col10\" class=\"data row3 col10\" >2.853237</td>\n",
       "                        <td id=\"T_ce785_row3_col11\" class=\"data row3 col11\" >2.004323</td>\n",
       "                        <td id=\"T_ce785_row3_col12\" class=\"data row3 col12\" >14.266187</td>\n",
       "                        <td id=\"T_ce785_row3_col13\" class=\"data row3 col13\" >5.612904</td>\n",
       "            </tr>\n",
       "            <tr>\n",
       "                        <th id=\"T_ce785_level0_row4\" class=\"row_heading level0 row4\" >24_8_128_128_flow_gap_bilstm64</th>\n",
       "                        <td id=\"T_ce785_row4_col0\" class=\"data row4 col0\" >1.656000</td>\n",
       "                        <td id=\"T_ce785_row4_col1\" class=\"data row4 col1\" >1.589000</td>\n",
       "                        <td id=\"T_ce785_row4_col2\" class=\"data row4 col2\" >2.134000</td>\n",
       "                        <td id=\"T_ce785_row4_col3\" class=\"data row4 col3\" >1.516000</td>\n",
       "                        <td id=\"T_ce785_row4_col4\" class=\"data row4 col4\" >2.402000</td>\n",
       "                        <td id=\"T_ce785_row4_col5\" class=\"data row4 col5\" >1.899000</td>\n",
       "                        <td id=\"T_ce785_row4_col6\" class=\"data row4 col6\" >2.986000</td>\n",
       "                        <td id=\"T_ce785_row4_col7\" class=\"data row4 col7\" >2.419000</td>\n",
       "                        <td id=\"T_ce785_row4_col8\" class=\"data row4 col8\" >2.675000</td>\n",
       "                        <td id=\"T_ce785_row4_col9\" class=\"data row4 col9\" >1.602000</td>\n",
       "                        <td id=\"T_ce785_row4_col10\" class=\"data row4 col10\" >2.370335</td>\n",
       "                        <td id=\"T_ce785_row4_col11\" class=\"data row4 col11\" >1.887172</td>\n",
       "                        <td id=\"T_ce785_row4_col12\" class=\"data row4 col12\" >11.851675</td>\n",
       "                        <td id=\"T_ce785_row4_col13\" class=\"data row4 col13\" >5.495715</td>\n",
       "            </tr>\n",
       "            <tr>\n",
       "                        <th id=\"T_ce785_level0_row5\" class=\"row_heading level0 row5\" >24_8_128_128_flow_norm_conv_bilstm64</th>\n",
       "                        <td id=\"T_ce785_row5_col0\" class=\"data row5 col0\" >0.529000</td>\n",
       "                        <td id=\"T_ce785_row5_col1\" class=\"data row5 col1\" >0.628000</td>\n",
       "                        <td id=\"T_ce785_row5_col2\" class=\"data row5 col2\" >0.478000</td>\n",
       "                        <td id=\"T_ce785_row5_col3\" class=\"data row5 col3\" >0.617000</td>\n",
       "                        <td id=\"T_ce785_row5_col4\" class=\"data row5 col4\" >0.486000</td>\n",
       "                        <td id=\"T_ce785_row5_col5\" class=\"data row5 col5\" >0.623000</td>\n",
       "                        <td id=\"T_ce785_row5_col6\" class=\"data row5 col6\" >0.460000</td>\n",
       "                        <td id=\"T_ce785_row5_col7\" class=\"data row5 col7\" >0.561000</td>\n",
       "                        <td id=\"T_ce785_row5_col8\" class=\"data row5 col8\" >0.806000</td>\n",
       "                        <td id=\"T_ce785_row5_col9\" class=\"data row5 col9\" >0.902000</td>\n",
       "                        <td id=\"T_ce785_row5_col10\" class=\"data row5 col10\" >0.551799</td>\n",
       "                        <td id=\"T_ce785_row5_col11\" class=\"data row5 col11\" >0.687907</td>\n",
       "                        <td id=\"T_ce785_row5_col12\" class=\"data row5 col12\" >2.758993</td>\n",
       "                        <td id=\"T_ce785_row5_col13\" class=\"data row5 col13\" >1.823954</td>\n",
       "            </tr>\n",
       "            <tr>\n",
       "                        <th id=\"T_ce785_level0_row6\" class=\"row_heading level0 row6\" >24_8_128_128_flow_norm_dir_conv_bilstm64</th>\n",
       "                        <td id=\"T_ce785_row6_col0\" class=\"data row6 col0\" >0.493000</td>\n",
       "                        <td id=\"T_ce785_row6_col1\" class=\"data row6 col1\" >0.634000</td>\n",
       "                        <td id=\"T_ce785_row6_col2\" class=\"data row6 col2\" >0.486000</td>\n",
       "                        <td id=\"T_ce785_row6_col3\" class=\"data row6 col3\" >0.581000</td>\n",
       "                        <td id=\"T_ce785_row6_col4\" class=\"data row6 col4\" >0.475000</td>\n",
       "                        <td id=\"T_ce785_row6_col5\" class=\"data row6 col5\" >0.704000</td>\n",
       "                        <td id=\"T_ce785_row6_col6\" class=\"data row6 col6\" >0.453000</td>\n",
       "                        <td id=\"T_ce785_row6_col7\" class=\"data row6 col7\" >0.743000</td>\n",
       "                        <td id=\"T_ce785_row6_col8\" class=\"data row6 col8\" >0.781000</td>\n",
       "                        <td id=\"T_ce785_row6_col9\" class=\"data row6 col9\" >0.882000</td>\n",
       "                        <td id=\"T_ce785_row6_col10\" class=\"data row6 col10\" >0.537410</td>\n",
       "                        <td id=\"T_ce785_row6_col11\" class=\"data row6 col11\" >0.725464</td>\n",
       "                        <td id=\"T_ce785_row6_col12\" class=\"data row6 col12\" >2.687050</td>\n",
       "                        <td id=\"T_ce785_row6_col13\" class=\"data row6 col13\" >2.128746</td>\n",
       "            </tr>\n",
       "            <tr>\n",
       "                        <th id=\"T_ce785_level0_row7\" class=\"row_heading level0 row7\" >24_8_128_128_flow_norm_dir_gap</th>\n",
       "                        <td id=\"T_ce785_row7_col0\" class=\"data row7 col0\" >1.669000</td>\n",
       "                        <td id=\"T_ce785_row7_col1\" class=\"data row7 col1\" >1.545000</td>\n",
       "                        <td id=\"T_ce785_row7_col2\" class=\"data row7 col2\" >1.543000</td>\n",
       "                        <td id=\"T_ce785_row7_col3\" class=\"data row7 col3\" >1.371000</td>\n",
       "                        <td id=\"T_ce785_row7_col4\" class=\"data row7 col4\" >3.032000</td>\n",
       "                        <td id=\"T_ce785_row7_col5\" class=\"data row7 col5\" >1.789000</td>\n",
       "                        <td id=\"T_ce785_row7_col6\" class=\"data row7 col6\" >2.896000</td>\n",
       "                        <td id=\"T_ce785_row7_col7\" class=\"data row7 col7\" >2.539000</td>\n",
       "                        <td id=\"T_ce785_row7_col8\" class=\"data row7 col8\" >2.781000</td>\n",
       "                        <td id=\"T_ce785_row7_col9\" class=\"data row7 col9\" >1.627000</td>\n",
       "                        <td id=\"T_ce785_row7_col10\" class=\"data row7 col10\" >2.384173</td>\n",
       "                        <td id=\"T_ce785_row7_col11\" class=\"data row7 col11\" >1.926874</td>\n",
       "                        <td id=\"T_ce785_row7_col12\" class=\"data row7 col12\" >11.920863</td>\n",
       "                        <td id=\"T_ce785_row7_col13\" class=\"data row7 col13\" >4.757523</td>\n",
       "            </tr>\n",
       "            <tr>\n",
       "                        <th id=\"T_ce785_level0_row8\" class=\"row_heading level0 row8\" >24_8_128_128_norm_dir_conv_bilstm64</th>\n",
       "                        <td id=\"T_ce785_row8_col0\" class=\"data row8 col0\" >0.572000</td>\n",
       "                        <td id=\"T_ce785_row8_col1\" class=\"data row8 col1\" >0.589000</td>\n",
       "                        <td id=\"T_ce785_row8_col2\" class=\"data row8 col2\" >0.518000</td>\n",
       "                        <td id=\"T_ce785_row8_col3\" class=\"data row8 col3\" >0.611000</td>\n",
       "                        <td id=\"T_ce785_row8_col4\" class=\"data row8 col4\" >0.464000</td>\n",
       "                        <td id=\"T_ce785_row8_col5\" class=\"data row8 col5\" >0.561000</td>\n",
       "                        <td id=\"T_ce785_row8_col6\" class=\"data row8 col6\" >0.511000</td>\n",
       "                        <td id=\"T_ce785_row8_col7\" class=\"data row8 col7\" >0.634000</td>\n",
       "                        <td id=\"T_ce785_row8_col8\" class=\"data row8 col8\" >0.795000</td>\n",
       "                        <td id=\"T_ce785_row8_col9\" class=\"data row8 col9\" >0.857000</td>\n",
       "                        <td id=\"T_ce785_row8_col10\" class=\"data row8 col10\" >0.571942</td>\n",
       "                        <td id=\"T_ce785_row8_col11\" class=\"data row8 col11\" >0.668029</td>\n",
       "                        <td id=\"T_ce785_row8_col12\" class=\"data row8 col12\" >2.859712</td>\n",
       "                        <td id=\"T_ce785_row8_col13\" class=\"data row8 col13\" >1.782740</td>\n",
       "            </tr>\n",
       "            <tr>\n",
       "                        <th id=\"T_ce785_level0_row9\" class=\"row_heading level0 row9\" >24_8_128_128_norm_dir_gap</th>\n",
       "                        <td id=\"T_ce785_row9_col0\" class=\"data row9 col0\" >1.483000</td>\n",
       "                        <td id=\"T_ce785_row9_col1\" class=\"data row9 col1\" >1.373000</td>\n",
       "                        <td id=\"T_ce785_row9_col2\" class=\"data row9 col2\" >1.813000</td>\n",
       "                        <td id=\"T_ce785_row9_col3\" class=\"data row9 col3\" >1.358000</td>\n",
       "                        <td id=\"T_ce785_row9_col4\" class=\"data row9 col4\" >3.273000</td>\n",
       "                        <td id=\"T_ce785_row9_col5\" class=\"data row9 col5\" >1.802000</td>\n",
       "                        <td id=\"T_ce785_row9_col6\" class=\"data row9 col6\" >1.421000</td>\n",
       "                        <td id=\"T_ce785_row9_col7\" class=\"data row9 col7\" >1.586000</td>\n",
       "                        <td id=\"T_ce785_row9_col8\" class=\"data row9 col8\" >2.148000</td>\n",
       "                        <td id=\"T_ce785_row9_col9\" class=\"data row9 col9\" >1.682000</td>\n",
       "                        <td id=\"T_ce785_row9_col10\" class=\"data row9 col10\" >2.027751</td>\n",
       "                        <td id=\"T_ce785_row9_col11\" class=\"data row9 col11\" >1.705099</td>\n",
       "                        <td id=\"T_ce785_row9_col12\" class=\"data row9 col12\" >10.138756</td>\n",
       "                        <td id=\"T_ce785_row9_col13\" class=\"data row9 col13\" >4.078756</td>\n",
       "            </tr>\n",
       "            <tr>\n",
       "                        <th id=\"T_ce785_level0_row10\" class=\"row_heading level0 row10\" >24_8_128_128_norm_dir_gap_bilstm64</th>\n",
       "                        <td id=\"T_ce785_row10_col0\" class=\"data row10 col0\" >0.511000</td>\n",
       "                        <td id=\"T_ce785_row10_col1\" class=\"data row10 col1\" >0.562000</td>\n",
       "                        <td id=\"T_ce785_row10_col2\" class=\"data row10 col2\" >0.475000</td>\n",
       "                        <td id=\"T_ce785_row10_col3\" class=\"data row10 col3\" >0.683000</td>\n",
       "                        <td id=\"T_ce785_row10_col4\" class=\"data row10 col4\" >0.525000</td>\n",
       "                        <td id=\"T_ce785_row10_col5\" class=\"data row10 col5\" >0.683000</td>\n",
       "                        <td id=\"T_ce785_row10_col6\" class=\"data row10 col6\" >0.543000</td>\n",
       "                        <td id=\"T_ce785_row10_col7\" class=\"data row10 col7\" >0.650000</td>\n",
       "                        <td id=\"T_ce785_row10_col8\" class=\"data row10 col8\" >1.151000</td>\n",
       "                        <td id=\"T_ce785_row10_col9\" class=\"data row10 col9\" >1.493000</td>\n",
       "                        <td id=\"T_ce785_row10_col10\" class=\"data row10 col10\" >0.641007</td>\n",
       "                        <td id=\"T_ce785_row10_col11\" class=\"data row10 col11\" >0.918187</td>\n",
       "                        <td id=\"T_ce785_row10_col12\" class=\"data row10 col12\" >3.205036</td>\n",
       "                        <td id=\"T_ce785_row10_col13\" class=\"data row10 col13\" >2.366822</td>\n",
       "            </tr>\n",
       "    </tbody></table>"
      ],
      "text/plain": [
       "<pandas.io.formats.style.Styler at 0x7f7f5c684700>"
      ]
     },
     "execution_count": 15,
     "metadata": {},
     "output_type": "execute_result"
    }
   ],
   "source": [
    "# highlight the lowest values\n",
    "results_agg_df.style.highlight_min(color = 'lightgreen', axis = 0)"
   ]
  },
  {
   "cell_type": "code",
   "execution_count": 14,
   "metadata": {},
   "outputs": [
    {
     "data": {
      "image/png": "[encoded data removed]",
      "text/plain": [
       "<Figure size 1440x432 with 1 Axes>"
      ]
     },
     "metadata": {
      "needs_background": "light"
     },
     "output_type": "display_data"
    }
   ],
   "source": [
    "# create a barplot for all experiments overall (mean/sd)\n",
    "f = plt.figure(figsize=(20,6))\n",
    "plt.rcParams['font.size'] = '16'\n",
    "ax = f.gca()\n",
    "ax.set_ylim(bottom=0, top=results_agg_df['Cycle']['Mean'].max())\n",
    "ax.set_ylabel('cFD (ciclic Frame Difference)')\n",
    "ax.set_xlabel('Experiments')\n",
    "results_agg_df[['overall','Cycle']].plot(kind='bar',ax=ax, grid=True)\n",
    "plt.show()"
   ]
  },
  {
   "cell_type": "markdown",
   "metadata": {},
   "source": [
    "# Error per phase, overall and per cardiac cycle"
   ]
  },
  {
   "cell_type": "code",
   "execution_count": 27,
   "metadata": {},
   "outputs": [
    {
     "name": "stdout",
     "output_type": "stream",
     "text": [
      "Mean per phase: \n",
      "ED    0.507194\n",
      "MS    0.456835\n",
      "ES    0.449640\n",
      "PF    0.449640\n",
      "MD    0.780576\n",
      "dtype: float32\n",
      "Median per phase: \n",
      "ED    0.0\n",
      "MS    0.0\n",
      "ES    0.0\n",
      "PF    0.0\n",
      "MD    1.0\n",
      "dtype: float32\n",
      "Std per phase: \n",
      "ED    0.561990\n",
      "MS    0.585573\n",
      "ES    0.643756\n",
      "PF    0.609181\n",
      "MD    0.882266\n",
      "dtype: float32\n",
      "Mean cFD: \n",
      "    0.5288\n",
      "Std mean cFD: \n",
      "    0.6777\n",
      "per cycle cFD: \n",
      "    2.6439\n",
      "per cycle cFD std: \n",
      "    1.8503\n"
     ]
    }
   ],
   "source": [
    "print('Mean per phase: \\n{}'.format(df.mean(axis=0)))\n",
    "print('Median per phase: \\n{}'.format(df.median(axis=0)))\n",
    "print('Std per phase: \\n{}'.format(df.std(axis=0)))\n",
    "\n",
    "print('Mean cFD: \\n{:10.4f}'.format(df.values.mean()))\n",
    "#print('Median overall: \\n{:10.4f}'.format(np.median(df.values)))\n",
    "print('Std mean cFD: \\n{:10.4f}'.format(df.values.std()))\n",
    "\n",
    "print('per cycle cFD: \\n{:10.4f}'.format(np.mean(df.sum(axis=1))))\n",
    "print('per cycle cFD std: \\n{:10.4f}'.format(np.std(df.sum(axis=1))))"
   ]
  },
  {
   "cell_type": "markdown",
   "metadata": {},
   "source": [
    "# Violin plot - error per phase"
   ]
  },
  {
   "cell_type": "code",
   "execution_count": 24,
   "metadata": {},
   "outputs": [
    {
     "data": {
      "image/png": "[encoded data removed]",
      "text/plain": [
       "<Figure size 576x360 with 1 Axes>"
      ]
     },
     "metadata": {
      "needs_background": "light"
     },
     "output_type": "display_data"
    }
   ],
   "source": [
    "import seaborn as sb\n",
    "sb.set_context('paper')\n",
    "f = plt.figure(figsize=(8,5))\n",
    "plt.rcParams['font.size'] = '16'\n",
    "ax = f.gca()\n",
    "ax.set_ylim(bottom=0, top=6)\n",
    "ax.set_ylabel('cFD (cyclic Frame Difference)')\n",
    "ax.set_xlabel('Cardiac phases')\n",
    "#_ = DF_METADATA[phases].plot(kind='violin'),\n",
    "sb.violinplot(data=df, orient='v', ax = ax)\n",
    "sb.pointplot(data=df, orient='v', ax = ax, estimator=np.mean,color=\"black\", markers=\"o\", ci=None,join=False)\n",
    "sb.pointplot(data=df, orient='v', ax = ax, estimator=np.median,color=\"black\", markers=\"x\", size=2, ci=None,join=False)\n",
    "plt.grid()\n",
    "plt.savefig('bestphase')\n"
   ]
  },
  {
   "cell_type": "markdown",
   "metadata": {},
   "source": [
    "# Error per cardiac cycle"
   ]
  },
  {
   "cell_type": "code",
   "execution_count": 29,
   "metadata": {},
   "outputs": [
    {
     "data": {
      "image/png": "[encoded data removed]",
      "text/plain": [
       "<Figure size 144x360 with 1 Axes>"
      ]
     },
     "metadata": {
      "needs_background": "light"
     },
     "output_type": "display_data"
    }
   ],
   "source": [
    "import seaborn as sb\n",
    "sb.set_context('paper')\n",
    "f = plt.figure(figsize=(2,5))\n",
    "ax = f.gca()\n",
    "ax.set_ylabel('Cardiac phases')\n",
    "ax.set_xlabel('Cycle error')\n",
    "temp = df.sum(axis=1)\n",
    "sb.violinplot(data=temp, orient='v', ax = ax)\n",
    "#sb.scatterplot(data=temp, ax=ax)\n",
    "sb.pointplot(data=temp, orient='v', ax = ax, estimator=np.mean,color=\"black\", markers=\"o\", ci=None,join=False)\n",
    "sb.pointplot(data=temp, orient='v', ax = ax, estimator=np.median,color=\"black\", markers=\"_\", ci=None,join=False)\n",
    "plt.grid()\n",
    "plt.show()"
   ]
  },
  {
   "cell_type": "code",
   "execution_count": null,
   "metadata": {},
   "outputs": [],
   "source": []
  }
 ],
 "metadata": {
  "kernelspec": {
   "display_name": "dcmr",
   "language": "python",
   "name": "dcmr"
  },
  "language_info": {
   "codemirror_mode": {
    "name": "ipython",
    "version": 3
   },
   "file_extension": ".py",
   "mimetype": "text/x-python",
   "name": "python",
   "nbconvert_exporter": "python",
   "pygments_lexer": "ipython3",
   "version": "3.8.5"
  },
  "widgets": {
   "application/vnd.jupyter.widget-state+json": {
    "state": {
     "05a0bc60840b445bb466b9594d0df09e": {
      "model_module": "@jupyter-widgets/controls",
      "model_module_version": "1.5.0",
      "model_name": "ButtonStyleModel",
      "state": {}
     },
     "0af5ab73f5cc4c4c96d4da9172d17b74": {
      "model_module": "@jupyter-widgets/base",
      "model_module_version": "1.2.0",
      "model_name": "LayoutModel",
      "state": {
       "width": "auto"
      }
     },
     "0cfdb04c6c5949e3aced48ce1f3da001": {
      "model_module": "@jupyter-widgets/base",
      "model_module_version": "1.2.0",
      "model_name": "LayoutModel",
      "state": {
       "display": "none",
       "width": "auto"
      }
     },
     "0df0fbf2364f4ae1a93915b9f74df0c7": {
      "model_module": "@jupyter-widgets/base",
      "model_module_version": "1.2.0",
      "model_name": "LayoutModel",
      "state": {
       "grid_area": "filename",
       "width": "auto"
      }
     },
     "12f6d964ea3d47e1acafdde3411a4b8c": {
      "model_module": "@jupyter-widgets/controls",
      "model_module_version": "1.5.0",
      "model_name": "ButtonStyleModel",
      "state": {}
     },
     "139850b8cbf549d5addaf6dd92d5449a": {
      "model_module": "@jupyter-widgets/controls",
      "model_module_version": "1.5.0",
      "model_name": "GridBoxModel",
      "state": {
       "children": [
        "IPY_MODEL_80278676aaf147ebb34c49b47666001d",
        "IPY_MODEL_d0f050f4a2ea4e0eb76c9976f4e2da3f",
        "IPY_MODEL_e216579efc6446d3b0f24f46eb084c30"
       ],
       "layout": "IPY_MODEL_39457ef4774a455a95f8651e20964960"
      }
     },
     "1477cbb8b7314013b5c146f6437a7264": {
      "model_module": "@jupyter-widgets/controls",
      "model_module_version": "1.5.0",
      "model_name": "DescriptionStyleModel",
      "state": {
       "description_width": ""
      }
     },
     "2137e1dbc9d842e599d83060ccedac95": {
      "model_module": "@jupyter-widgets/controls",
      "model_module_version": "1.5.0",
      "model_name": "HTMLModel",
      "state": {
       "layout": "IPY_MODEL_f46baf75cb134bc789c87cbb43f8d2c1",
       "placeholder": "",
       "style": "IPY_MODEL_78dc944dee4147c3930878d1c00006f2",
       "value": "<span style=\"margin-left:10px; color:green;\">/mnt/sds/sd20i001/sven/code/dynamic-cmr-models/exp/phasereg_v3/24_8_128_128_flow_conv/</span>"
      }
     },
     "23e2a51dedf54a1886e0dfcc5940ae2b": {
      "model_module": "@jupyter-widgets/controls",
      "model_module_version": "1.5.0",
      "model_name": "DescriptionStyleModel",
      "state": {
       "description_width": ""
      }
     },
     "299e762678fa405e9e9e2d649f5460df": {
      "model_module": "@jupyter-widgets/base",
      "model_module_version": "1.2.0",
      "model_name": "LayoutModel",
      "state": {
       "grid_area": "dircontent",
       "width": "auto"
      }
     },
     "2b7d561bc5604e97bfaca5643161644c": {
      "model_module": "@jupyter-widgets/base",
      "model_module_version": "1.2.0",
      "model_name": "LayoutModel",
      "state": {}
     },
     "2e161d726a5d4389a99f58d4a581613f": {
      "model_module": "@jupyter-widgets/base",
      "model_module_version": "1.2.0",
      "model_name": "LayoutModel",
      "state": {
       "display": "none"
      }
     },
     "3716b8da8d434f9190ae2df8fe88646c": {
      "model_module": "@jupyter-widgets/base",
      "model_module_version": "1.2.0",
      "model_name": "LayoutModel",
      "state": {
       "grid_area": "filename",
       "width": "auto"
      }
     },
     "39457ef4774a455a95f8651e20964960": {
      "model_module": "@jupyter-widgets/base",
      "model_module_version": "1.2.0",
      "model_name": "LayoutModel",
      "state": {
       "display": "none",
       "grid_gap": "0px 0px",
       "grid_template_areas": "\n                    'pathlist filename'\n                    'dircontent dircontent'\n                    ",
       "grid_template_columns": "60% 40%",
       "grid_template_rows": "auto auto",
       "width": "500px"
      }
     },
     "39583cd868ac45b393c698ee7ef6eb26": {
      "model_module": "@jupyter-widgets/controls",
      "model_module_version": "1.5.0",
      "model_name": "DescriptionStyleModel",
      "state": {
       "description_width": ""
      }
     },
     "3e1ddb04ceed47ba88fb19be974c95f7": {
      "model_module": "@jupyter-widgets/controls",
      "model_module_version": "1.5.0",
      "model_name": "HTMLModel",
      "state": {
       "layout": "IPY_MODEL_589e58246d0e4afa8d77ffff077714a3",
       "placeholder": "",
       "style": "IPY_MODEL_afc0c4ab291b4c718627ea3dcf1effd7",
       "value": "<span style=\"margin-left:10px; color:green;\">/mnt/sds/sd20i001/sven/code/dynamic-cmr-models/exp/phasereg_v3/24_8_128_128_flow_conv_bilstm64/</span>"
      }
     },
     "3ebcac466f9a412c97127803b69cf2c0": {
      "model_module": "@jupyter-widgets/controls",
      "model_module_version": "1.5.0",
      "model_name": "DescriptionStyleModel",
      "state": {
       "description_width": ""
      }
     },
     "423b41985ab84cf5a55c86c65460452a": {
      "model_module": "@jupyter-widgets/base",
      "model_module_version": "1.2.0",
      "model_name": "LayoutModel",
      "state": {
       "width": "auto"
      }
     },
     "4edfb95551d6456e8b7c5839cbc93bdc": {
      "model_module": "@jupyter-widgets/controls",
      "model_module_version": "1.5.0",
      "model_name": "ButtonModel",
      "state": {
       "description": "Cancel",
       "layout": "IPY_MODEL_b824d9f79c064234b6a4e7d2992e0cf4",
       "style": "IPY_MODEL_c54b3f75004849b5a13d42b3250ffec1"
      }
     },
     "5020ec164ab549b3bef3719b8500be16": {
      "model_module": "@jupyter-widgets/output",
      "model_module_version": "1.0.0",
      "model_name": "OutputModel",
      "state": {
       "layout": "IPY_MODEL_597d975251a54b1c8d0a6f783a5d4266",
       "outputs": [
        {
         "name": "stdout",
         "output_type": "stream",
         "text": "eval: /mnt/sds/sd20i001/sven/code/dynamic-cmr-models/exp/phasereg_v3/24_8_128_128_flow_conv/\npath to predictions: /mnt/sds/sd20i001/sven/code/dynamic-cmr-models/exp/phasereg_v3/24_8_128_128_flow_conv//pred/*.npy\npredictions found: 0\n"
        },
        {
         "ename": "ValueError",
         "evalue": "need at least one array to concatenate",
         "output_type": "error",
         "traceback": [
          "\u001b[0;31m---------------------------------------------------------------------------\u001b[0m",
          "\u001b[0;31mValueError\u001b[0m                                Traceback (most recent call last)",
          "\u001b[0;32m~/anaconda3/envs/dcmr/lib/python3.8/site-packages/ipywidgets/widgets/interaction.py\u001b[0m in \u001b[0;36mupdate\u001b[0;34m(self, *args)\u001b[0m\n\u001b[1;32m    254\u001b[0m                     \u001b[0mvalue\u001b[0m \u001b[0;34m=\u001b[0m \u001b[0mwidget\u001b[0m\u001b[0;34m.\u001b[0m\u001b[0mget_interact_value\u001b[0m\u001b[0;34m(\u001b[0m\u001b[0;34m)\u001b[0m\u001b[0;34m\u001b[0m\u001b[0;34m\u001b[0m\u001b[0m\n\u001b[1;32m    255\u001b[0m                     \u001b[0mself\u001b[0m\u001b[0;34m.\u001b[0m\u001b[0mkwargs\u001b[0m\u001b[0;34m[\u001b[0m\u001b[0mwidget\u001b[0m\u001b[0;34m.\u001b[0m\u001b[0m_kwarg\u001b[0m\u001b[0;34m]\u001b[0m \u001b[0;34m=\u001b[0m \u001b[0mvalue\u001b[0m\u001b[0;34m\u001b[0m\u001b[0;34m\u001b[0m\u001b[0m\n\u001b[0;32m--> 256\u001b[0;31m                 \u001b[0mself\u001b[0m\u001b[0;34m.\u001b[0m\u001b[0mresult\u001b[0m \u001b[0;34m=\u001b[0m \u001b[0mself\u001b[0m\u001b[0;34m.\u001b[0m\u001b[0mf\u001b[0m\u001b[0;34m(\u001b[0m\u001b[0;34m**\u001b[0m\u001b[0mself\u001b[0m\u001b[0;34m.\u001b[0m\u001b[0mkwargs\u001b[0m\u001b[0;34m)\u001b[0m\u001b[0;34m\u001b[0m\u001b[0;34m\u001b[0m\u001b[0m\n\u001b[0m\u001b[1;32m    257\u001b[0m                 \u001b[0mshow_inline_matplotlib_plots\u001b[0m\u001b[0;34m(\u001b[0m\u001b[0;34m)\u001b[0m\u001b[0;34m\u001b[0m\u001b[0;34m\u001b[0m\u001b[0m\n\u001b[1;32m    258\u001b[0m                 \u001b[0;32mif\u001b[0m \u001b[0mself\u001b[0m\u001b[0;34m.\u001b[0m\u001b[0mauto_display\u001b[0m \u001b[0;32mand\u001b[0m \u001b[0mself\u001b[0m\u001b[0;34m.\u001b[0m\u001b[0mresult\u001b[0m \u001b[0;32mis\u001b[0m \u001b[0;32mnot\u001b[0m \u001b[0;32mNone\u001b[0m\u001b[0;34m:\u001b[0m\u001b[0;34m\u001b[0m\u001b[0;34m\u001b[0m\u001b[0m\n",
          "\u001b[0;32m<ipython-input-5-16399a05320a>\u001b[0m in \u001b[0;36meval_interact\u001b[0;34m(evaluate_)\u001b[0m\n\u001b[1;32m      8\u001b[0m     \u001b[0;32mglobal\u001b[0m \u001b[0mdf\u001b[0m\u001b[0;34m\u001b[0m\u001b[0;34m\u001b[0m\u001b[0m\n\u001b[1;32m      9\u001b[0m     \u001b[0;32mif\u001b[0m \u001b[0mevaluate_\u001b[0m\u001b[0;34m:\u001b[0m\u001b[0;34m\u001b[0m\u001b[0;34m\u001b[0m\u001b[0m\n\u001b[0;32m---> 10\u001b[0;31m         \u001b[0mdf\u001b[0m \u001b[0;34m=\u001b[0m \u001b[0mevaluate\u001b[0m\u001b[0;34m(\u001b[0m\u001b[0mfchooser\u001b[0m\u001b[0;34m.\u001b[0m\u001b[0mselected\u001b[0m\u001b[0;34m,\u001b[0m \u001b[0mpred_suffix\u001b[0m\u001b[0;34m=\u001b[0m\u001b[0;34m'pred'\u001b[0m\u001b[0;34m)\u001b[0m\u001b[0;34m\u001b[0m\u001b[0;34m\u001b[0m\u001b[0m\n\u001b[0m",
          "\u001b[0;32m<ipython-input-3-0e09cee95cae>\u001b[0m in \u001b[0;36mevaluate\u001b[0;34m(exp_root, result_df, pred_suffix)\u001b[0m\n\u001b[1;32m     18\u001b[0m     \u001b[0mpreds\u001b[0m \u001b[0;34m=\u001b[0m \u001b[0mlist\u001b[0m\u001b[0;34m(\u001b[0m\u001b[0mmap\u001b[0m\u001b[0;34m(\u001b[0m\u001b[0;32mlambda\u001b[0m \u001b[0mx\u001b[0m \u001b[0;34m:\u001b[0m \u001b[0mnp\u001b[0m\u001b[0;34m.\u001b[0m\u001b[0mload\u001b[0m\u001b[0;34m(\u001b[0m\u001b[0mx\u001b[0m\u001b[0;34m)\u001b[0m\u001b[0;34m,\u001b[0m \u001b[0mall_pred_files\u001b[0m\u001b[0;34m)\u001b[0m\u001b[0;34m)\u001b[0m\u001b[0;34m\u001b[0m\u001b[0;34m\u001b[0m\u001b[0m\n\u001b[1;32m     19\u001b[0m     \u001b[0;31m# stack the numpy files\u001b[0m\u001b[0;34m\u001b[0m\u001b[0;34m\u001b[0m\u001b[0;34m\u001b[0m\u001b[0m\n\u001b[0;32m---> 20\u001b[0;31m     \u001b[0mpreds\u001b[0m \u001b[0;34m=\u001b[0m \u001b[0mnp\u001b[0m\u001b[0;34m.\u001b[0m\u001b[0mconcatenate\u001b[0m\u001b[0;34m(\u001b[0m\u001b[0mpreds\u001b[0m\u001b[0;34m,\u001b[0m \u001b[0maxis\u001b[0m\u001b[0;34m=\u001b[0m\u001b[0;36m1\u001b[0m\u001b[0;34m)\u001b[0m\u001b[0;34m\u001b[0m\u001b[0;34m\u001b[0m\u001b[0m\n\u001b[0m\u001b[1;32m     21\u001b[0m \u001b[0;34m\u001b[0m\u001b[0m\n\u001b[1;32m     22\u001b[0m     \u001b[0;31m# calculate the mean differences\u001b[0m\u001b[0;34m\u001b[0m\u001b[0;34m\u001b[0m\u001b[0;34m\u001b[0m\u001b[0m\n",
          "\u001b[0;32m<__array_function__ internals>\u001b[0m in \u001b[0;36mconcatenate\u001b[0;34m(*args, **kwargs)\u001b[0m\n",
          "\u001b[0;31mValueError\u001b[0m: need at least one array to concatenate"
         ]
        }
       ]
      }
     },
     "589e58246d0e4afa8d77ffff077714a3": {
      "model_module": "@jupyter-widgets/base",
      "model_module_version": "1.2.0",
      "model_name": "LayoutModel",
      "state": {}
     },
     "597d975251a54b1c8d0a6f783a5d4266": {
      "model_module": "@jupyter-widgets/base",
      "model_module_version": "1.2.0",
      "model_name": "LayoutModel",
      "state": {}
     },
     "5c36edff6e354df18f35e367365b6dd8": {
      "model_module": "@jupyter-widgets/controls",
      "model_module_version": "1.5.0",
      "model_name": "DescriptionStyleModel",
      "state": {
       "description_width": ""
      }
     },
     "5c491003b2b244cdb1b0f84aac772195": {
      "model_module": "@jupyter-widgets/controls",
      "model_module_version": "1.5.0",
      "model_name": "DropdownModel",
      "state": {
       "_options_labels": [
        "/mnt/sds/sd20i001/sven/code/dynamic-cmr-models/exp/phasereg_v3/24_8_128_128_flow_conv_bilstm64",
        "/mnt/sds/sd20i001/sven/code/dynamic-cmr-models/exp/phasereg_v3",
        "/mnt/sds/sd20i001/sven/code/dynamic-cmr-models/exp",
        "/mnt/sds/sd20i001/sven/code/dynamic-cmr-models",
        "/mnt/sds/sd20i001/sven/code",
        "/mnt/sds/sd20i001/sven",
        "/mnt/sds/sd20i001",
        "/mnt/sds",
        "/mnt",
        "/"
       ],
       "index": 0,
       "layout": "IPY_MODEL_d195798b159b41bcb7a60ac67f2114c7",
       "style": "IPY_MODEL_be1c558e635c4c399949bb815c4729c5"
      }
     },
     "5d12e713f42a4edda37de176d4985c1c": {
      "model_module": "@jupyter-widgets/controls",
      "model_module_version": "1.5.0",
      "model_name": "VBoxModel",
      "state": {
       "children": [
        "IPY_MODEL_bcbfb021d75b4b15ae82cd7876553ef0",
        "IPY_MODEL_60b812e6640e4bdcb70ec551e6453472",
        "IPY_MODEL_80ad1e492ad848359bad3051e2c64c27"
       ],
       "layout": "IPY_MODEL_b73728f7561f4154aaebd735c4a9806a"
      }
     },
     "5f7d0752cf834174ae4b2768a469d2d5": {
      "model_module": "@jupyter-widgets/base",
      "model_module_version": "1.2.0",
      "model_name": "LayoutModel",
      "state": {
       "width": "auto"
      }
     },
     "60b812e6640e4bdcb70ec551e6453472": {
      "model_module": "@jupyter-widgets/controls",
      "model_module_version": "1.5.0",
      "model_name": "GridBoxModel",
      "state": {
       "children": [
        "IPY_MODEL_5c491003b2b244cdb1b0f84aac772195",
        "IPY_MODEL_f91e7eaa054d4c42b8367a7319ba8144",
        "IPY_MODEL_ae8e2527043347669cfba79035f317b0"
       ],
       "layout": "IPY_MODEL_76d599c5cccb45cbbf506ded0cc8a103"
      }
     },
     "6449d53aeba64431b762ec49afa7ffe2": {
      "model_module": "@jupyter-widgets/controls",
      "model_module_version": "1.5.0",
      "model_name": "CheckboxModel",
      "state": {
       "description": "evaluate_",
       "disabled": false,
       "layout": "IPY_MODEL_e359cd93d6f54bdb98baecc6665cdd26",
       "style": "IPY_MODEL_23e2a51dedf54a1886e0dfcc5940ae2b",
       "value": true
      }
     },
     "657a69d4c20a47d2ae6fe89c8d48de9c": {
      "model_module": "@jupyter-widgets/controls",
      "model_module_version": "1.5.0",
      "model_name": "DescriptionStyleModel",
      "state": {
       "description_width": ""
      }
     },
     "6c5abddb8c3844489b41309897a11e94": {
      "model_module": "@jupyter-widgets/base",
      "model_module_version": "1.2.0",
      "model_name": "LayoutModel",
      "state": {}
     },
     "6ed07283105a4ddcaa2225a8fc2c96af": {
      "model_module": "@jupyter-widgets/output",
      "model_module_version": "1.0.0",
      "model_name": "OutputModel",
      "state": {
       "layout": "IPY_MODEL_6c5abddb8c3844489b41309897a11e94",
       "outputs": [
        {
         "name": "stdout",
         "output_type": "stream",
         "text": "eval: /mnt/sds/sd20i001/sven/code/dynamic-cmr-models/exp/phasereg_v3/24_8_128_128_flow_conv_bilstm64/\npath to predictions: /mnt/sds/sd20i001/sven/code/dynamic-cmr-models/exp/phasereg_v3/24_8_128_128_flow_conv_bilstm64//pred/*.npy\npredictions found: 4\n"
        }
       ]
      }
     },
     "737e1014c60d4ccab7189c1373c1f587": {
      "model_module": "@jupyter-widgets/controls",
      "model_module_version": "1.5.0",
      "model_name": "ButtonStyleModel",
      "state": {}
     },
     "76d599c5cccb45cbbf506ded0cc8a103": {
      "model_module": "@jupyter-widgets/base",
      "model_module_version": "1.2.0",
      "model_name": "LayoutModel",
      "state": {
       "display": "none",
       "grid_gap": "0px 0px",
       "grid_template_areas": "\n                    'pathlist filename'\n                    'dircontent dircontent'\n                    ",
       "grid_template_columns": "60% 40%",
       "grid_template_rows": "auto auto",
       "width": "500px"
      }
     },
     "78dc944dee4147c3930878d1c00006f2": {
      "model_module": "@jupyter-widgets/controls",
      "model_module_version": "1.5.0",
      "model_name": "DescriptionStyleModel",
      "state": {
       "description_width": ""
      }
     },
     "7cc2578fd8454ae4a9e223708c2a5aea": {
      "model_module": "@jupyter-widgets/controls",
      "model_module_version": "1.5.0",
      "model_name": "ButtonModel",
      "state": {
       "description": "Change",
       "layout": "IPY_MODEL_5f7d0752cf834174ae4b2768a469d2d5",
       "style": "IPY_MODEL_05a0bc60840b445bb466b9594d0df09e"
      }
     },
     "80278676aaf147ebb34c49b47666001d": {
      "model_module": "@jupyter-widgets/controls",
      "model_module_version": "1.5.0",
      "model_name": "DropdownModel",
      "state": {
       "_options_labels": [
        "/mnt/sds/sd20i001/sven/code/dynamic-cmr-models/exp/phasereg_v3/24_8_128_128_flow_conv",
        "/mnt/sds/sd20i001/sven/code/dynamic-cmr-models/exp/phasereg_v3",
        "/mnt/sds/sd20i001/sven/code/dynamic-cmr-models/exp",
        "/mnt/sds/sd20i001/sven/code/dynamic-cmr-models",
        "/mnt/sds/sd20i001/sven/code",
        "/mnt/sds/sd20i001/sven",
        "/mnt/sds/sd20i001",
        "/mnt/sds",
        "/mnt",
        "/"
       ],
       "index": 0,
       "layout": "IPY_MODEL_c94e0ac44af64811bee7a6735560d8e6",
       "style": "IPY_MODEL_3ebcac466f9a412c97127803b69cf2c0"
      }
     },
     "80ad1e492ad848359bad3051e2c64c27": {
      "model_module": "@jupyter-widgets/controls",
      "model_module_version": "1.5.0",
      "model_name": "HBoxModel",
      "state": {
       "children": [
        "IPY_MODEL_7cc2578fd8454ae4a9e223708c2a5aea",
        "IPY_MODEL_c98627a5a0924ddc86c9884812ccadae",
        "IPY_MODEL_3e1ddb04ceed47ba88fb19be974c95f7"
       ],
       "layout": "IPY_MODEL_423b41985ab84cf5a55c86c65460452a"
      }
     },
     "82b2df28d2bd4e829ee0bdc550c19898": {
      "model_module": "@jupyter-widgets/base",
      "model_module_version": "1.2.0",
      "model_name": "LayoutModel",
      "state": {
       "width": "auto"
      }
     },
     "8348c4768d2e47708ff49502ac6648bc": {
      "model_module": "@jupyter-widgets/base",
      "model_module_version": "1.2.0",
      "model_name": "LayoutModel",
      "state": {
       "width": "auto"
      }
     },
     "8a679a60a414472f8a8a39b38a1613a2": {
      "model_module": "@jupyter-widgets/controls",
      "model_module_version": "1.5.0",
      "model_name": "HTMLModel",
      "state": {
       "layout": "IPY_MODEL_db6fbb293cda406b9a277c1a254b76e2",
       "style": "IPY_MODEL_1477cbb8b7314013b5c146f6437a7264"
      }
     },
     "8c48c2983f4440b8b50900452786d2fb": {
      "model_module": "@jupyter-widgets/controls",
      "model_module_version": "1.5.0",
      "model_name": "HBoxModel",
      "state": {
       "children": [
        "IPY_MODEL_f0bef8e128c14294b07687f42887d46d",
        "IPY_MODEL_4edfb95551d6456e8b7c5839cbc93bdc",
        "IPY_MODEL_2137e1dbc9d842e599d83060ccedac95"
       ],
       "layout": "IPY_MODEL_0af5ab73f5cc4c4c96d4da9172d17b74"
      }
     },
     "8efaed912c434dc094dae670c0a5d541": {
      "model_module": "@jupyter-widgets/controls",
      "model_module_version": "1.5.0",
      "model_name": "VBoxModel",
      "state": {
       "children": [
        "IPY_MODEL_8a679a60a414472f8a8a39b38a1613a2",
        "IPY_MODEL_139850b8cbf549d5addaf6dd92d5449a",
        "IPY_MODEL_8c48c2983f4440b8b50900452786d2fb"
       ],
       "layout": "IPY_MODEL_8348c4768d2e47708ff49502ac6648bc"
      }
     },
     "9888cde3dbaa4ef7855b03be8dcd874c": {
      "model_module": "@jupyter-widgets/base",
      "model_module_version": "1.2.0",
      "model_name": "LayoutModel",
      "state": {
       "grid_area": "dircontent",
       "width": "auto"
      }
     },
     "9b7172585e3541d89d54ae70a6d073b7": {
      "model_module": "@jupyter-widgets/controls",
      "model_module_version": "1.5.0",
      "model_name": "DescriptionStyleModel",
      "state": {
       "description_width": ""
      }
     },
     "ae8e2527043347669cfba79035f317b0": {
      "model_module": "@jupyter-widgets/controls",
      "model_module_version": "1.5.0",
      "model_name": "SelectModel",
      "state": {
       "_options_labels": [
        "..",
        "fold_f0",
        "fold_f1",
        "fold_f2",
        "fold_f3",
        "results.xlsx"
       ],
       "index": null,
       "layout": "IPY_MODEL_299e762678fa405e9e9e2d649f5460df",
       "rows": 8,
       "style": "IPY_MODEL_657a69d4c20a47d2ae6fe89c8d48de9c"
      }
     },
     "afc0c4ab291b4c718627ea3dcf1effd7": {
      "model_module": "@jupyter-widgets/controls",
      "model_module_version": "1.5.0",
      "model_name": "DescriptionStyleModel",
      "state": {
       "description_width": ""
      }
     },
     "b0b7f6d791274e818afd46a7d040afa0": {
      "model_module": "@jupyter-widgets/controls",
      "model_module_version": "1.5.0",
      "model_name": "DescriptionStyleModel",
      "state": {
       "description_width": ""
      }
     },
     "b338b6674fcb43bbac91dc5cf920b372": {
      "model_module": "@jupyter-widgets/controls",
      "model_module_version": "1.5.0",
      "model_name": "VBoxModel",
      "state": {
       "_dom_classes": [
        "widget-interact"
       ],
       "children": [
        "IPY_MODEL_6449d53aeba64431b762ec49afa7ffe2",
        "IPY_MODEL_5020ec164ab549b3bef3719b8500be16"
       ],
       "layout": "IPY_MODEL_2b7d561bc5604e97bfaca5643161644c"
      }
     },
     "b73728f7561f4154aaebd735c4a9806a": {
      "model_module": "@jupyter-widgets/base",
      "model_module_version": "1.2.0",
      "model_name": "LayoutModel",
      "state": {
       "width": "auto"
      }
     },
     "b824d9f79c064234b6a4e7d2992e0cf4": {
      "model_module": "@jupyter-widgets/base",
      "model_module_version": "1.2.0",
      "model_name": "LayoutModel",
      "state": {
       "display": "none",
       "width": "auto"
      }
     },
     "b914fd75ed784d83907cc4205708a3c5": {
      "model_module": "@jupyter-widgets/controls",
      "model_module_version": "1.5.0",
      "model_name": "CheckboxModel",
      "state": {
       "description": "evaluate_",
       "disabled": false,
       "layout": "IPY_MODEL_e0ae6415d7d846f2a4e937ee89879d1c",
       "style": "IPY_MODEL_9b7172585e3541d89d54ae70a6d073b7",
       "value": true
      }
     },
     "bcbfb021d75b4b15ae82cd7876553ef0": {
      "model_module": "@jupyter-widgets/controls",
      "model_module_version": "1.5.0",
      "model_name": "HTMLModel",
      "state": {
       "layout": "IPY_MODEL_2e161d726a5d4389a99f58d4a581613f",
       "style": "IPY_MODEL_c6ee3a539988499c96eee2bd94ac3ea3"
      }
     },
     "be1c558e635c4c399949bb815c4729c5": {
      "model_module": "@jupyter-widgets/controls",
      "model_module_version": "1.5.0",
      "model_name": "DescriptionStyleModel",
      "state": {
       "description_width": ""
      }
     },
     "c54b3f75004849b5a13d42b3250ffec1": {
      "model_module": "@jupyter-widgets/controls",
      "model_module_version": "1.5.0",
      "model_name": "ButtonStyleModel",
      "state": {}
     },
     "c6ee3a539988499c96eee2bd94ac3ea3": {
      "model_module": "@jupyter-widgets/controls",
      "model_module_version": "1.5.0",
      "model_name": "DescriptionStyleModel",
      "state": {
       "description_width": ""
      }
     },
     "c94e0ac44af64811bee7a6735560d8e6": {
      "model_module": "@jupyter-widgets/base",
      "model_module_version": "1.2.0",
      "model_name": "LayoutModel",
      "state": {
       "grid_area": "pathlist",
       "width": "auto"
      }
     },
     "c98627a5a0924ddc86c9884812ccadae": {
      "model_module": "@jupyter-widgets/controls",
      "model_module_version": "1.5.0",
      "model_name": "ButtonModel",
      "state": {
       "description": "Cancel",
       "layout": "IPY_MODEL_0cfdb04c6c5949e3aced48ce1f3da001",
       "style": "IPY_MODEL_12f6d964ea3d47e1acafdde3411a4b8c"
      }
     },
     "d0f050f4a2ea4e0eb76c9976f4e2da3f": {
      "model_module": "@jupyter-widgets/controls",
      "model_module_version": "1.5.0",
      "model_name": "TextModel",
      "state": {
       "layout": "IPY_MODEL_3716b8da8d434f9190ae2df8fe88646c",
       "placeholder": "output filename",
       "style": "IPY_MODEL_39583cd868ac45b393c698ee7ef6eb26"
      }
     },
     "d195798b159b41bcb7a60ac67f2114c7": {
      "model_module": "@jupyter-widgets/base",
      "model_module_version": "1.2.0",
      "model_name": "LayoutModel",
      "state": {
       "grid_area": "pathlist",
       "width": "auto"
      }
     },
     "d5378b36c8f04793bf4a8d44bfcdc810": {
      "model_module": "@jupyter-widgets/controls",
      "model_module_version": "1.5.0",
      "model_name": "VBoxModel",
      "state": {
       "_dom_classes": [
        "widget-interact"
       ],
       "children": [
        "IPY_MODEL_b914fd75ed784d83907cc4205708a3c5",
        "IPY_MODEL_6ed07283105a4ddcaa2225a8fc2c96af"
       ],
       "layout": "IPY_MODEL_edea739b6a8845958f944c2984fa55b4"
      }
     },
     "db6fbb293cda406b9a277c1a254b76e2": {
      "model_module": "@jupyter-widgets/base",
      "model_module_version": "1.2.0",
      "model_name": "LayoutModel",
      "state": {
       "display": "none"
      }
     },
     "e0ae6415d7d846f2a4e937ee89879d1c": {
      "model_module": "@jupyter-widgets/base",
      "model_module_version": "1.2.0",
      "model_name": "LayoutModel",
      "state": {}
     },
     "e216579efc6446d3b0f24f46eb084c30": {
      "model_module": "@jupyter-widgets/controls",
      "model_module_version": "1.5.0",
      "model_name": "SelectModel",
      "state": {
       "_options_labels": [
        "..",
        "fold_f0",
        "fold_f1",
        "fold_f2",
        "fold_f3"
       ],
       "index": null,
       "layout": "IPY_MODEL_9888cde3dbaa4ef7855b03be8dcd874c",
       "rows": 8,
       "style": "IPY_MODEL_5c36edff6e354df18f35e367365b6dd8"
      }
     },
     "e359cd93d6f54bdb98baecc6665cdd26": {
      "model_module": "@jupyter-widgets/base",
      "model_module_version": "1.2.0",
      "model_name": "LayoutModel",
      "state": {}
     },
     "edea739b6a8845958f944c2984fa55b4": {
      "model_module": "@jupyter-widgets/base",
      "model_module_version": "1.2.0",
      "model_name": "LayoutModel",
      "state": {}
     },
     "f0bef8e128c14294b07687f42887d46d": {
      "model_module": "@jupyter-widgets/controls",
      "model_module_version": "1.5.0",
      "model_name": "ButtonModel",
      "state": {
       "description": "Change",
       "layout": "IPY_MODEL_82b2df28d2bd4e829ee0bdc550c19898",
       "style": "IPY_MODEL_737e1014c60d4ccab7189c1373c1f587"
      }
     },
     "f46baf75cb134bc789c87cbb43f8d2c1": {
      "model_module": "@jupyter-widgets/base",
      "model_module_version": "1.2.0",
      "model_name": "LayoutModel",
      "state": {}
     },
     "f91e7eaa054d4c42b8367a7319ba8144": {
      "model_module": "@jupyter-widgets/controls",
      "model_module_version": "1.5.0",
      "model_name": "TextModel",
      "state": {
       "layout": "IPY_MODEL_0df0fbf2364f4ae1a93915b9f74df0c7",
       "placeholder": "output filename",
       "style": "IPY_MODEL_b0b7f6d791274e818afd46a7d040afa0"
      }
     }
    },
    "version_major": 2,
    "version_minor": 0
   }
  }
 },
 "nbformat": 4,
 "nbformat_minor": 4
}
