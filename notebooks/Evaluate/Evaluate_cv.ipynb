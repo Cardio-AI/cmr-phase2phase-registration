{
 "cells": [
  {
   "cell_type": "code",
   "execution_count": 1,
   "metadata": {},
   "outputs": [
    {
     "name": "stdout",
     "output_type": "stream",
     "text": [
      "search for root_dir and set working directory\n",
      "Working directory set to: /mnt/ssd/git/dynamic-cmr-models\n"
     ]
    }
   ],
   "source": [
    "# ------------------------------------------define logging and working directory\n",
    "from ProjectRoot import change_wd_to_project_root\n",
    "change_wd_to_project_root()\n",
    "# ------------------------------------------jupyter magic config\n",
    "%matplotlib inline\n",
    "%reload_ext autoreload\n",
    "%autoreload 2\n",
    "# ------------------------------------------ import helpers\n",
    "# this should import glob, os, and many other standard libs\n",
    "# local imports\n",
    "from src.utils.Notebook_imports import *\n",
    "from src.utils.Utils_io import Console_and_file_logger, init_config\n",
    "\n",
    "import pandas as pd\n",
    "import numpy as np\n",
    "from ipyfilechooser import FileChooser\n",
    "import glob\n",
    "import os\n"
   ]
  },
  {
   "cell_type": "code",
   "execution_count": 3,
   "metadata": {},
   "outputs": [
    {
     "name": "stdout",
     "output_type": "stream",
     "text": [
      "hd_qz262@bwforcluster.bwservices.uni-heidelberg.de's password: \n"
     ]
    }
   ],
   "source": [
    "!ssh hd_qz262@bwforcluster.bwservices.uni-heidelberg.de"
   ]
  },
  {
   "cell_type": "code",
   "execution_count": 8,
   "metadata": {},
   "outputs": [],
   "source": [
    "def evaluate(exp_root, result_df='results.xlsx', pred_suffix = 'pred'):\n",
    "    print('eval: {}'.format(exp_root))\n",
    "    from src.utils.Metrics import meandiff\n",
    "    phases = ['ED', 'MS', 'ES', 'PF', 'MD']\n",
    "    \n",
    "    \n",
    "    all_pred_files = sorted(glob.glob('{}/**/**/{}/*.npy'.format(exp_root, pred_suffix), recursive=True))\n",
    "    print(len(all_pred_files))\n",
    "    if len(all_pred_files) == 0:\n",
    "        all_pred_files = sorted(glob.glob('{}/{}/*.npy'.format(exp_root, pred_suffix), recursive=True))\n",
    "    #assert len(all_pred_files) ==4, 'we expect a four-fold cv, but found: {} predictions'.format(len(all_pred_files))\n",
    "    #print('predictions found: {}'.format(len(all_pred_files)))\n",
    "    # Load the numpy files\n",
    "    preds = list(map(lambda x : np.load(x), all_pred_files))\n",
    "    # stack the numpy files\n",
    "    preds = np.concatenate(preds, axis=1)\n",
    "    \n",
    "    # calculate the mean differences\n",
    "    res = meandiff(preds[0], preds[1], apply_sum=False, apply_average=False)\n",
    "    df = pd.DataFrame(res.numpy(), columns=phases)\n",
    "    df.to_excel(os.path.join(exp_root, result_df))\n",
    "    return df"
   ]
  },
  {
   "cell_type": "markdown",
   "metadata": {},
   "source": [
    "# Evaluate one experiment"
   ]
  },
  {
   "cell_type": "code",
   "execution_count": 9,
   "metadata": {},
   "outputs": [
    {
     "data": {
      "application/vnd.jupyter.widget-view+json": {
       "model_id": "06442b093b6a4676bc70e2cd51af278d",
       "version_major": 2,
       "version_minor": 0
      },
      "text/plain": [
       "FileChooser(path='/mnt/ssd/git/dynamic-cmr-models/exp/local', filename='', title='HTML(value='', layout=Layout…"
      ]
     },
     "metadata": {},
     "output_type": "display_data"
    },
    {
     "data": {
      "application/vnd.jupyter.widget-view+json": {
       "model_id": "279735fc56304ccfb25d2275ee979336",
       "version_major": 2,
       "version_minor": 0
      },
      "text/plain": [
       "interactive(children=(Checkbox(value=False, description='evaluate_'), Output()), _dom_classes=('widget-interac…"
      ]
     },
     "metadata": {},
     "output_type": "display_data"
    }
   ],
   "source": [
    "# choose an experiment folder\n",
    "fchooser = FileChooser(os.path.join(os.getcwd(),'exp/local'), '')\n",
    "display(fchooser)\n",
    "@interact\n",
    "def eval_interact(evaluate_=False):\n",
    "    global df\n",
    "    if evaluate_: \n",
    "        df = evaluate(fchooser.selected, pred_suffix='acdc_pred')"
   ]
  },
  {
   "cell_type": "markdown",
   "metadata": {},
   "source": [
    "# Evaluate multiple experiments - create a results.xlsx with one row per patient"
   ]
  },
  {
   "cell_type": "code",
   "execution_count": 10,
   "metadata": {
    "tags": []
   },
   "outputs": [
    {
     "name": "stdout",
     "output_type": "stream",
     "text": [
      "34\n",
      "eval: exp/local/baseline/\n",
      "Faild at: exp/local/baseline/ with: we expect a four-fold cv, but found: 0 predictions\n",
      "eval: exp/local/miccai_baseline/\n",
      "eval: exp/local/miccai_baseline_dim12_64_64/\n",
      "eval: exp/local/miccai_baseline_dim6_64_64/\n",
      "eval: exp/local/miccai_baseline_down2/\n",
      "eval: exp/local/miccai_baseline_down3/\n",
      "eval: exp/local/miccai_baseline_filters16/\n",
      "eval: exp/local/miccai_baseline_filters32/\n",
      "eval: exp/local/miccai_baseline_filters48/\n",
      "Faild at: exp/local/miccai_baseline_filters48/ with: we expect a four-fold cv, but found: 0 predictions\n",
      "eval: exp/local/miccai_baseline_gausscaling1/\n",
      "eval: exp/local/miccai_baseline_gausscaling10/\n",
      "eval: exp/local/miccai_baseline_hist/\n",
      "eval: exp/local/miccai_baseline_lstm32/\n",
      "eval: exp/local/miccai_baseline_lstm64/\n",
      "eval: exp/local/miccai_baseline_noaug/\n",
      "eval: exp/local/miccai_baseline_nogaussmooth/\n",
      "eval: exp/local/miccai_baseline_paug18/\n",
      "eval: exp/local/miccai_baseline_paug2/\n",
      "eval: exp/local/miccai_baseline_paug5/\n",
      "eval: exp/local/miccai_baseline_pre_conv/\n",
      "eval: exp/local/miccai_baseline_relu_cce_NOmask_NOtrans/\n",
      "eval: exp/local/miccai_baseline_relu_cce_mask_NOtrans/\n",
      "eval: exp/local/miccai_baseline_relu_cce_mask_trans/\n",
      "eval: exp/local/miccai_baseline_relu_mse_NOmask_NOtrans/\n",
      "eval: exp/local/miccai_baseline_sigma05/\n",
      "eval: exp/local/miccai_baseline_sigma08/\n",
      "eval: exp/local/miccai_baseline_sigma2/\n",
      "eval: exp/local/miccai_baseline_sigma4/\n",
      "eval: exp/local/miccai_baseline_tres_taug2/\n",
      "eval: exp/local/miccai_baseline_tres_taug2_paug2_hist/\n",
      "eval: exp/local/miccai_baseline_tresample55/\n"
     ]
    }
   ],
   "source": [
    "experiments = sorted(glob.glob('exp/local/*/'))\n",
    "print(len(experiments))\n",
    "excl = 'tres'\n",
    "results = []\n",
    "results_names = []\n",
    "for e in experiments:\n",
    "    try:\n",
    "        if excl not in e:\n",
    "            results.append(evaluate(e))\n",
    "            results_names.append(e.split('/')[-2])\n",
    "        else:\n",
    "            print('skip by substring: {}'.format(excl))\n",
    "    except Exception as ex:\n",
    "        print('Faild at: {} with: {}'.format(e,ex))"
   ]
  },
  {
   "cell_type": "markdown",
   "metadata": {},
   "source": [
    "# Build one dataframe with one row per experiment"
   ]
  },
  {
   "cell_type": "markdown",
   "metadata": {},
   "source": [
    "# Error per Phase as df"
   ]
  },
  {
   "cell_type": "code",
   "execution_count": 11,
   "metadata": {},
   "outputs": [],
   "source": [
    "# helper, aggregate one experiment\n",
    "def aggregate_df(df):\n",
    "    cols = ['Mean/phase', 'SD/phase']\n",
    "    temp = pd.DataFrame(columns=cols)\n",
    "    temp[cols[0]] = df.mean(axis=0)\n",
    "    temp[cols[1]] = df.std(axis=0)\n",
    "    temp = temp.round(3)\n",
    "    temp = temp.stack()\n",
    "    temp['overall','Mean'] = df.values.mean()\n",
    "    temp['overall','SD'] = df.values.std()\n",
    "    temp['Cycle','Mean'] = np.mean(df.sum(axis=1))\n",
    "    temp['Cycle','SD'] = np.std(df.sum(axis=1))\n",
    "    return temp"
   ]
  },
  {
   "cell_type": "code",
   "execution_count": 12,
   "metadata": {},
   "outputs": [],
   "source": [
    "results_agg = [aggregate_df(elem) for elem in results]\n",
    "results_agg_df = pd.concat(results_agg, axis=1).T\n",
    "results_agg_df.index = results_names"
   ]
  },
  {
   "cell_type": "markdown",
   "metadata": {},
   "source": [
    "# Show the aggregated results per experiment"
   ]
  },
  {
   "cell_type": "code",
   "execution_count": 13,
   "metadata": {},
   "outputs": [
    {
     "data": {
      "text/html": [
       "<style  type=\"text/css\" >\n",
       "#T_949b3_row20_col0,#T_949b3_row20_col1,#T_949b3_row20_col4,#T_949b3_row20_col5,#T_949b3_row20_col6,#T_949b3_row20_col7,#T_949b3_row20_col10,#T_949b3_row20_col11,#T_949b3_row20_col12,#T_949b3_row20_col13,#T_949b3_row22_col2,#T_949b3_row22_col3,#T_949b3_row22_col8,#T_949b3_row22_col9{\n",
       "            background-color:  lightgreen;\n",
       "        }</style><table id=\"T_949b3_\" ><thead>    <tr>        <th class=\"blank level0\" ></th>        <th class=\"col_heading level0 col0\" colspan=\"2\">ED</th>        <th class=\"col_heading level0 col2\" colspan=\"2\">MS</th>        <th class=\"col_heading level0 col4\" colspan=\"2\">ES</th>        <th class=\"col_heading level0 col6\" colspan=\"2\">PF</th>        <th class=\"col_heading level0 col8\" colspan=\"2\">MD</th>        <th class=\"col_heading level0 col10\" colspan=\"2\">overall</th>        <th class=\"col_heading level0 col12\" colspan=\"2\">Cycle</th>    </tr>    <tr>        <th class=\"blank level1\" ></th>        <th class=\"col_heading level1 col0\" >Mean/phase</th>        <th class=\"col_heading level1 col1\" >SD/phase</th>        <th class=\"col_heading level1 col2\" >Mean/phase</th>        <th class=\"col_heading level1 col3\" >SD/phase</th>        <th class=\"col_heading level1 col4\" >Mean/phase</th>        <th class=\"col_heading level1 col5\" >SD/phase</th>        <th class=\"col_heading level1 col6\" >Mean/phase</th>        <th class=\"col_heading level1 col7\" >SD/phase</th>        <th class=\"col_heading level1 col8\" >Mean/phase</th>        <th class=\"col_heading level1 col9\" >SD/phase</th>        <th class=\"col_heading level1 col10\" >Mean</th>        <th class=\"col_heading level1 col11\" >SD</th>        <th class=\"col_heading level1 col12\" >Mean</th>        <th class=\"col_heading level1 col13\" >SD</th>    </tr></thead><tbody>\n",
       "                <tr>\n",
       "                        <th id=\"T_949b3_level0_row0\" class=\"row_heading level0 row0\" >miccai_baseline</th>\n",
       "                        <td id=\"T_949b3_row0_col0\" class=\"data row0 col0\" >0.838000</td>\n",
       "                        <td id=\"T_949b3_row0_col1\" class=\"data row0 col1\" >1.061000</td>\n",
       "                        <td id=\"T_949b3_row0_col2\" class=\"data row0 col2\" >0.658000</td>\n",
       "                        <td id=\"T_949b3_row0_col3\" class=\"data row0 col3\" >0.712000</td>\n",
       "                        <td id=\"T_949b3_row0_col4\" class=\"data row0 col4\" >0.633000</td>\n",
       "                        <td id=\"T_949b3_row0_col5\" class=\"data row0 col5\" >1.017000</td>\n",
       "                        <td id=\"T_949b3_row0_col6\" class=\"data row0 col6\" >0.626000</td>\n",
       "                        <td id=\"T_949b3_row0_col7\" class=\"data row0 col7\" >0.809000</td>\n",
       "                        <td id=\"T_949b3_row0_col8\" class=\"data row0 col8\" >1.025000</td>\n",
       "                        <td id=\"T_949b3_row0_col9\" class=\"data row0 col9\" >1.227000</td>\n",
       "                        <td id=\"T_949b3_row0_col10\" class=\"data row0 col10\" >0.756115</td>\n",
       "                        <td id=\"T_949b3_row0_col11\" class=\"data row0 col11\" >0.992897</td>\n",
       "                        <td id=\"T_949b3_row0_col12\" class=\"data row0 col12\" >3.780576</td>\n",
       "                        <td id=\"T_949b3_row0_col13\" class=\"data row0 col13\" >2.532959</td>\n",
       "            </tr>\n",
       "            <tr>\n",
       "                        <th id=\"T_949b3_level0_row1\" class=\"row_heading level0 row1\" >miccai_baseline_dim12_64_64</th>\n",
       "                        <td id=\"T_949b3_row1_col0\" class=\"data row1 col0\" >1.007000</td>\n",
       "                        <td id=\"T_949b3_row1_col1\" class=\"data row1 col1\" >1.272000</td>\n",
       "                        <td id=\"T_949b3_row1_col2\" class=\"data row1 col2\" >0.647000</td>\n",
       "                        <td id=\"T_949b3_row1_col3\" class=\"data row1 col3\" >0.814000</td>\n",
       "                        <td id=\"T_949b3_row1_col4\" class=\"data row1 col4\" >0.626000</td>\n",
       "                        <td id=\"T_949b3_row1_col5\" class=\"data row1 col5\" >0.739000</td>\n",
       "                        <td id=\"T_949b3_row1_col6\" class=\"data row1 col6\" >0.604000</td>\n",
       "                        <td id=\"T_949b3_row1_col7\" class=\"data row1 col7\" >0.707000</td>\n",
       "                        <td id=\"T_949b3_row1_col8\" class=\"data row1 col8\" >0.978000</td>\n",
       "                        <td id=\"T_949b3_row1_col9\" class=\"data row1 col9\" >1.108000</td>\n",
       "                        <td id=\"T_949b3_row1_col10\" class=\"data row1 col10\" >0.772662</td>\n",
       "                        <td id=\"T_949b3_row1_col11\" class=\"data row1 col11\" >0.969373</td>\n",
       "                        <td id=\"T_949b3_row1_col12\" class=\"data row1 col12\" >3.863309</td>\n",
       "                        <td id=\"T_949b3_row1_col13\" class=\"data row1 col13\" >2.430920</td>\n",
       "            </tr>\n",
       "            <tr>\n",
       "                        <th id=\"T_949b3_level0_row2\" class=\"row_heading level0 row2\" >miccai_baseline_dim6_64_64</th>\n",
       "                        <td id=\"T_949b3_row2_col0\" class=\"data row2 col0\" >0.806000</td>\n",
       "                        <td id=\"T_949b3_row2_col1\" class=\"data row2 col1\" >0.975000</td>\n",
       "                        <td id=\"T_949b3_row2_col2\" class=\"data row2 col2\" >0.604000</td>\n",
       "                        <td id=\"T_949b3_row2_col3\" class=\"data row2 col3\" >0.707000</td>\n",
       "                        <td id=\"T_949b3_row2_col4\" class=\"data row2 col4\" >0.655000</td>\n",
       "                        <td id=\"T_949b3_row2_col5\" class=\"data row2 col5\" >1.145000</td>\n",
       "                        <td id=\"T_949b3_row2_col6\" class=\"data row2 col6\" >0.619000</td>\n",
       "                        <td id=\"T_949b3_row2_col7\" class=\"data row2 col7\" >0.735000</td>\n",
       "                        <td id=\"T_949b3_row2_col8\" class=\"data row2 col8\" >1.007000</td>\n",
       "                        <td id=\"T_949b3_row2_col9\" class=\"data row2 col9\" >1.061000</td>\n",
       "                        <td id=\"T_949b3_row2_col10\" class=\"data row2 col10\" >0.738129</td>\n",
       "                        <td id=\"T_949b3_row2_col11\" class=\"data row2 col11\" >0.951590</td>\n",
       "                        <td id=\"T_949b3_row2_col12\" class=\"data row2 col12\" >3.690647</td>\n",
       "                        <td id=\"T_949b3_row2_col13\" class=\"data row2 col13\" >2.450514</td>\n",
       "            </tr>\n",
       "            <tr>\n",
       "                        <th id=\"T_949b3_level0_row3\" class=\"row_heading level0 row3\" >miccai_baseline_down2</th>\n",
       "                        <td id=\"T_949b3_row3_col0\" class=\"data row3 col0\" >1.007000</td>\n",
       "                        <td id=\"T_949b3_row3_col1\" class=\"data row3 col1\" >1.388000</td>\n",
       "                        <td id=\"T_949b3_row3_col2\" class=\"data row3 col2\" >1.367000</td>\n",
       "                        <td id=\"T_949b3_row3_col3\" class=\"data row3 col3\" >1.633000</td>\n",
       "                        <td id=\"T_949b3_row3_col4\" class=\"data row3 col4\" >0.845000</td>\n",
       "                        <td id=\"T_949b3_row3_col5\" class=\"data row3 col5\" >1.592000</td>\n",
       "                        <td id=\"T_949b3_row3_col6\" class=\"data row3 col6\" >0.745000</td>\n",
       "                        <td id=\"T_949b3_row3_col7\" class=\"data row3 col7\" >1.387000</td>\n",
       "                        <td id=\"T_949b3_row3_col8\" class=\"data row3 col8\" >1.737000</td>\n",
       "                        <td id=\"T_949b3_row3_col9\" class=\"data row3 col9\" >2.002000</td>\n",
       "                        <td id=\"T_949b3_row3_col10\" class=\"data row3 col10\" >1.140288</td>\n",
       "                        <td id=\"T_949b3_row3_col11\" class=\"data row3 col11\" >1.654217</td>\n",
       "                        <td id=\"T_949b3_row3_col12\" class=\"data row3 col12\" >5.701439</td>\n",
       "                        <td id=\"T_949b3_row3_col13\" class=\"data row3 col13\" >4.941463</td>\n",
       "            </tr>\n",
       "            <tr>\n",
       "                        <th id=\"T_949b3_level0_row4\" class=\"row_heading level0 row4\" >miccai_baseline_down3</th>\n",
       "                        <td id=\"T_949b3_row4_col0\" class=\"data row4 col0\" >1.025000</td>\n",
       "                        <td id=\"T_949b3_row4_col1\" class=\"data row4 col1\" >1.194000</td>\n",
       "                        <td id=\"T_949b3_row4_col2\" class=\"data row4 col2\" >1.147000</td>\n",
       "                        <td id=\"T_949b3_row4_col3\" class=\"data row4 col3\" >1.209000</td>\n",
       "                        <td id=\"T_949b3_row4_col4\" class=\"data row4 col4\" >0.741000</td>\n",
       "                        <td id=\"T_949b3_row4_col5\" class=\"data row4 col5\" >1.401000</td>\n",
       "                        <td id=\"T_949b3_row4_col6\" class=\"data row4 col6\" >0.748000</td>\n",
       "                        <td id=\"T_949b3_row4_col7\" class=\"data row4 col7\" >1.513000</td>\n",
       "                        <td id=\"T_949b3_row4_col8\" class=\"data row4 col8\" >1.338000</td>\n",
       "                        <td id=\"T_949b3_row4_col9\" class=\"data row4 col9\" >1.689000</td>\n",
       "                        <td id=\"T_949b3_row4_col10\" class=\"data row4 col10\" >1.000000</td>\n",
       "                        <td id=\"T_949b3_row4_col11\" class=\"data row4 col11\" >1.429897</td>\n",
       "                        <td id=\"T_949b3_row4_col12\" class=\"data row4 col12\" >5.000000</td>\n",
       "                        <td id=\"T_949b3_row4_col13\" class=\"data row4 col13\" >4.154395</td>\n",
       "            </tr>\n",
       "            <tr>\n",
       "                        <th id=\"T_949b3_level0_row5\" class=\"row_heading level0 row5\" >miccai_baseline_filters16</th>\n",
       "                        <td id=\"T_949b3_row5_col0\" class=\"data row5 col0\" >0.773000</td>\n",
       "                        <td id=\"T_949b3_row5_col1\" class=\"data row5 col1\" >0.936000</td>\n",
       "                        <td id=\"T_949b3_row5_col2\" class=\"data row5 col2\" >0.637000</td>\n",
       "                        <td id=\"T_949b3_row5_col3\" class=\"data row5 col3\" >0.707000</td>\n",
       "                        <td id=\"T_949b3_row5_col4\" class=\"data row5 col4\" >0.694000</td>\n",
       "                        <td id=\"T_949b3_row5_col5\" class=\"data row5 col5\" >1.203000</td>\n",
       "                        <td id=\"T_949b3_row5_col6\" class=\"data row5 col6\" >0.626000</td>\n",
       "                        <td id=\"T_949b3_row5_col7\" class=\"data row5 col7\" >0.844000</td>\n",
       "                        <td id=\"T_949b3_row5_col8\" class=\"data row5 col8\" >1.079000</td>\n",
       "                        <td id=\"T_949b3_row5_col9\" class=\"data row5 col9\" >1.306000</td>\n",
       "                        <td id=\"T_949b3_row5_col10\" class=\"data row5 col10\" >0.761871</td>\n",
       "                        <td id=\"T_949b3_row5_col11\" class=\"data row5 col11\" >1.035409</td>\n",
       "                        <td id=\"T_949b3_row5_col12\" class=\"data row5 col12\" >3.809353</td>\n",
       "                        <td id=\"T_949b3_row5_col13\" class=\"data row5 col13\" >2.768590</td>\n",
       "            </tr>\n",
       "            <tr>\n",
       "                        <th id=\"T_949b3_level0_row6\" class=\"row_heading level0 row6\" >miccai_baseline_filters32</th>\n",
       "                        <td id=\"T_949b3_row6_col0\" class=\"data row6 col0\" >0.723000</td>\n",
       "                        <td id=\"T_949b3_row6_col1\" class=\"data row6 col1\" >0.891000</td>\n",
       "                        <td id=\"T_949b3_row6_col2\" class=\"data row6 col2\" >0.612000</td>\n",
       "                        <td id=\"T_949b3_row6_col3\" class=\"data row6 col3\" >0.696000</td>\n",
       "                        <td id=\"T_949b3_row6_col4\" class=\"data row6 col4\" >0.601000</td>\n",
       "                        <td id=\"T_949b3_row6_col5\" class=\"data row6 col5\" >0.884000</td>\n",
       "                        <td id=\"T_949b3_row6_col6\" class=\"data row6 col6\" >0.651000</td>\n",
       "                        <td id=\"T_949b3_row6_col7\" class=\"data row6 col7\" >0.809000</td>\n",
       "                        <td id=\"T_949b3_row6_col8\" class=\"data row6 col8\" >1.025000</td>\n",
       "                        <td id=\"T_949b3_row6_col9\" class=\"data row6 col9\" >1.056000</td>\n",
       "                        <td id=\"T_949b3_row6_col10\" class=\"data row6 col10\" >0.722302</td>\n",
       "                        <td id=\"T_949b3_row6_col11\" class=\"data row6 col11\" >0.887486</td>\n",
       "                        <td id=\"T_949b3_row6_col12\" class=\"data row6 col12\" >3.611511</td>\n",
       "                        <td id=\"T_949b3_row6_col13\" class=\"data row6 col13\" >2.315139</td>\n",
       "            </tr>\n",
       "            <tr>\n",
       "                        <th id=\"T_949b3_level0_row7\" class=\"row_heading level0 row7\" >miccai_baseline_gausscaling1</th>\n",
       "                        <td id=\"T_949b3_row7_col0\" class=\"data row7 col0\" >0.871000</td>\n",
       "                        <td id=\"T_949b3_row7_col1\" class=\"data row7 col1\" >1.161000</td>\n",
       "                        <td id=\"T_949b3_row7_col2\" class=\"data row7 col2\" >0.612000</td>\n",
       "                        <td id=\"T_949b3_row7_col3\" class=\"data row7 col3\" >0.664000</td>\n",
       "                        <td id=\"T_949b3_row7_col4\" class=\"data row7 col4\" >0.698000</td>\n",
       "                        <td id=\"T_949b3_row7_col5\" class=\"data row7 col5\" >1.178000</td>\n",
       "                        <td id=\"T_949b3_row7_col6\" class=\"data row7 col6\" >0.741000</td>\n",
       "                        <td id=\"T_949b3_row7_col7\" class=\"data row7 col7\" >1.461000</td>\n",
       "                        <td id=\"T_949b3_row7_col8\" class=\"data row7 col8\" >1.230000</td>\n",
       "                        <td id=\"T_949b3_row7_col9\" class=\"data row7 col9\" >1.463000</td>\n",
       "                        <td id=\"T_949b3_row7_col10\" class=\"data row7 col10\" >0.830216</td>\n",
       "                        <td id=\"T_949b3_row7_col11\" class=\"data row7 col11\" >1.237871</td>\n",
       "                        <td id=\"T_949b3_row7_col12\" class=\"data row7 col12\" >4.151079</td>\n",
       "                        <td id=\"T_949b3_row7_col13\" class=\"data row7 col13\" >3.575322</td>\n",
       "            </tr>\n",
       "            <tr>\n",
       "                        <th id=\"T_949b3_level0_row8\" class=\"row_heading level0 row8\" >miccai_baseline_gausscaling10</th>\n",
       "                        <td id=\"T_949b3_row8_col0\" class=\"data row8 col0\" >0.824000</td>\n",
       "                        <td id=\"T_949b3_row8_col1\" class=\"data row8 col1\" >0.912000</td>\n",
       "                        <td id=\"T_949b3_row8_col2\" class=\"data row8 col2\" >0.698000</td>\n",
       "                        <td id=\"T_949b3_row8_col3\" class=\"data row8 col3\" >0.803000</td>\n",
       "                        <td id=\"T_949b3_row8_col4\" class=\"data row8 col4\" >0.608000</td>\n",
       "                        <td id=\"T_949b3_row8_col5\" class=\"data row8 col5\" >0.871000</td>\n",
       "                        <td id=\"T_949b3_row8_col6\" class=\"data row8 col6\" >0.691000</td>\n",
       "                        <td id=\"T_949b3_row8_col7\" class=\"data row8 col7\" >0.878000</td>\n",
       "                        <td id=\"T_949b3_row8_col8\" class=\"data row8 col8\" >1.014000</td>\n",
       "                        <td id=\"T_949b3_row8_col9\" class=\"data row8 col9\" >1.127000</td>\n",
       "                        <td id=\"T_949b3_row8_col10\" class=\"data row8 col10\" >0.766906</td>\n",
       "                        <td id=\"T_949b3_row8_col11\" class=\"data row8 col11\" >0.933963</td>\n",
       "                        <td id=\"T_949b3_row8_col12\" class=\"data row8 col12\" >3.834532</td>\n",
       "                        <td id=\"T_949b3_row8_col13\" class=\"data row8 col13\" >2.448306</td>\n",
       "            </tr>\n",
       "            <tr>\n",
       "                        <th id=\"T_949b3_level0_row9\" class=\"row_heading level0 row9\" >miccai_baseline_hist</th>\n",
       "                        <td id=\"T_949b3_row9_col0\" class=\"data row9 col0\" >1.094000</td>\n",
       "                        <td id=\"T_949b3_row9_col1\" class=\"data row9 col1\" >1.146000</td>\n",
       "                        <td id=\"T_949b3_row9_col2\" class=\"data row9 col2\" >0.594000</td>\n",
       "                        <td id=\"T_949b3_row9_col3\" class=\"data row9 col3\" >0.672000</td>\n",
       "                        <td id=\"T_949b3_row9_col4\" class=\"data row9 col4\" >0.619000</td>\n",
       "                        <td id=\"T_949b3_row9_col5\" class=\"data row9 col5\" >0.778000</td>\n",
       "                        <td id=\"T_949b3_row9_col6\" class=\"data row9 col6\" >0.586000</td>\n",
       "                        <td id=\"T_949b3_row9_col7\" class=\"data row9 col7\" >0.734000</td>\n",
       "                        <td id=\"T_949b3_row9_col8\" class=\"data row9 col8\" >1.047000</td>\n",
       "                        <td id=\"T_949b3_row9_col9\" class=\"data row9 col9\" >1.208000</td>\n",
       "                        <td id=\"T_949b3_row9_col10\" class=\"data row9 col10\" >0.787770</td>\n",
       "                        <td id=\"T_949b3_row9_col11\" class=\"data row9 col11\" >0.961261</td>\n",
       "                        <td id=\"T_949b3_row9_col12\" class=\"data row9 col12\" >3.938849</td>\n",
       "                        <td id=\"T_949b3_row9_col13\" class=\"data row9 col13\" >2.330560</td>\n",
       "            </tr>\n",
       "            <tr>\n",
       "                        <th id=\"T_949b3_level0_row10\" class=\"row_heading level0 row10\" >miccai_baseline_lstm32</th>\n",
       "                        <td id=\"T_949b3_row10_col0\" class=\"data row10 col0\" >0.899000</td>\n",
       "                        <td id=\"T_949b3_row10_col1\" class=\"data row10 col1\" >0.945000</td>\n",
       "                        <td id=\"T_949b3_row10_col2\" class=\"data row10 col2\" >0.741000</td>\n",
       "                        <td id=\"T_949b3_row10_col3\" class=\"data row10 col3\" >1.084000</td>\n",
       "                        <td id=\"T_949b3_row10_col4\" class=\"data row10 col4\" >0.669000</td>\n",
       "                        <td id=\"T_949b3_row10_col5\" class=\"data row10 col5\" >0.972000</td>\n",
       "                        <td id=\"T_949b3_row10_col6\" class=\"data row10 col6\" >0.723000</td>\n",
       "                        <td id=\"T_949b3_row10_col7\" class=\"data row10 col7\" >1.019000</td>\n",
       "                        <td id=\"T_949b3_row10_col8\" class=\"data row10 col8\" >1.054000</td>\n",
       "                        <td id=\"T_949b3_row10_col9\" class=\"data row10 col9\" >1.131000</td>\n",
       "                        <td id=\"T_949b3_row10_col10\" class=\"data row10 col10\" >0.817266</td>\n",
       "                        <td id=\"T_949b3_row10_col11\" class=\"data row10 col11\" >1.040056</td>\n",
       "                        <td id=\"T_949b3_row10_col12\" class=\"data row10 col12\" >4.086331</td>\n",
       "                        <td id=\"T_949b3_row10_col13\" class=\"data row10 col13\" >2.707522</td>\n",
       "            </tr>\n",
       "            <tr>\n",
       "                        <th id=\"T_949b3_level0_row11\" class=\"row_heading level0 row11\" >miccai_baseline_lstm64</th>\n",
       "                        <td id=\"T_949b3_row11_col0\" class=\"data row11 col0\" >0.835000</td>\n",
       "                        <td id=\"T_949b3_row11_col1\" class=\"data row11 col1\" >1.013000</td>\n",
       "                        <td id=\"T_949b3_row11_col2\" class=\"data row11 col2\" >0.719000</td>\n",
       "                        <td id=\"T_949b3_row11_col3\" class=\"data row11 col3\" >0.793000</td>\n",
       "                        <td id=\"T_949b3_row11_col4\" class=\"data row11 col4\" >0.763000</td>\n",
       "                        <td id=\"T_949b3_row11_col5\" class=\"data row11 col5\" >0.751000</td>\n",
       "                        <td id=\"T_949b3_row11_col6\" class=\"data row11 col6\" >0.752000</td>\n",
       "                        <td id=\"T_949b3_row11_col7\" class=\"data row11 col7\" >1.071000</td>\n",
       "                        <td id=\"T_949b3_row11_col8\" class=\"data row11 col8\" >1.155000</td>\n",
       "                        <td id=\"T_949b3_row11_col9\" class=\"data row11 col9\" >1.333000</td>\n",
       "                        <td id=\"T_949b3_row11_col10\" class=\"data row11 col10\" >0.844604</td>\n",
       "                        <td id=\"T_949b3_row11_col11\" class=\"data row11 col11\" >1.025023</td>\n",
       "                        <td id=\"T_949b3_row11_col12\" class=\"data row11 col12\" >4.223022</td>\n",
       "                        <td id=\"T_949b3_row11_col13\" class=\"data row11 col13\" >2.666183</td>\n",
       "            </tr>\n",
       "            <tr>\n",
       "                        <th id=\"T_949b3_level0_row12\" class=\"row_heading level0 row12\" >miccai_baseline_noaug</th>\n",
       "                        <td id=\"T_949b3_row12_col0\" class=\"data row12 col0\" >0.813000</td>\n",
       "                        <td id=\"T_949b3_row12_col1\" class=\"data row12 col1\" >0.947000</td>\n",
       "                        <td id=\"T_949b3_row12_col2\" class=\"data row12 col2\" >0.608000</td>\n",
       "                        <td id=\"T_949b3_row12_col3\" class=\"data row12 col3\" >0.775000</td>\n",
       "                        <td id=\"T_949b3_row12_col4\" class=\"data row12 col4\" >0.680000</td>\n",
       "                        <td id=\"T_949b3_row12_col5\" class=\"data row12 col5\" >0.908000</td>\n",
       "                        <td id=\"T_949b3_row12_col6\" class=\"data row12 col6\" >0.676000</td>\n",
       "                        <td id=\"T_949b3_row12_col7\" class=\"data row12 col7\" >0.733000</td>\n",
       "                        <td id=\"T_949b3_row12_col8\" class=\"data row12 col8\" >1.119000</td>\n",
       "                        <td id=\"T_949b3_row12_col9\" class=\"data row12 col9\" >1.276000</td>\n",
       "                        <td id=\"T_949b3_row12_col10\" class=\"data row12 col10\" >0.779137</td>\n",
       "                        <td id=\"T_949b3_row12_col11\" class=\"data row12 col11\" >0.963057</td>\n",
       "                        <td id=\"T_949b3_row12_col12\" class=\"data row12 col12\" >3.895684</td>\n",
       "                        <td id=\"T_949b3_row12_col13\" class=\"data row12 col13\" >2.462653</td>\n",
       "            </tr>\n",
       "            <tr>\n",
       "                        <th id=\"T_949b3_level0_row13\" class=\"row_heading level0 row13\" >miccai_baseline_nogaussmooth</th>\n",
       "                        <td id=\"T_949b3_row13_col0\" class=\"data row13 col0\" >0.946000</td>\n",
       "                        <td id=\"T_949b3_row13_col1\" class=\"data row13 col1\" >1.297000</td>\n",
       "                        <td id=\"T_949b3_row13_col2\" class=\"data row13 col2\" >0.647000</td>\n",
       "                        <td id=\"T_949b3_row13_col3\" class=\"data row13 col3\" >0.827000</td>\n",
       "                        <td id=\"T_949b3_row13_col4\" class=\"data row13 col4\" >0.773000</td>\n",
       "                        <td id=\"T_949b3_row13_col5\" class=\"data row13 col5\" >1.355000</td>\n",
       "                        <td id=\"T_949b3_row13_col6\" class=\"data row13 col6\" >0.766000</td>\n",
       "                        <td id=\"T_949b3_row13_col7\" class=\"data row13 col7\" >1.324000</td>\n",
       "                        <td id=\"T_949b3_row13_col8\" class=\"data row13 col8\" >1.194000</td>\n",
       "                        <td id=\"T_949b3_row13_col9\" class=\"data row13 col9\" >1.522000</td>\n",
       "                        <td id=\"T_949b3_row13_col10\" class=\"data row13 col10\" >0.865468</td>\n",
       "                        <td id=\"T_949b3_row13_col11\" class=\"data row13 col11\" >1.297990</td>\n",
       "                        <td id=\"T_949b3_row13_col12\" class=\"data row13 col12\" >4.327338</td>\n",
       "                        <td id=\"T_949b3_row13_col13\" class=\"data row13 col13\" >3.604160</td>\n",
       "            </tr>\n",
       "            <tr>\n",
       "                        <th id=\"T_949b3_level0_row14\" class=\"row_heading level0 row14\" >miccai_baseline_paug18</th>\n",
       "                        <td id=\"T_949b3_row14_col0\" class=\"data row14 col0\" >0.813000</td>\n",
       "                        <td id=\"T_949b3_row14_col1\" class=\"data row14 col1\" >0.966000</td>\n",
       "                        <td id=\"T_949b3_row14_col2\" class=\"data row14 col2\" >0.658000</td>\n",
       "                        <td id=\"T_949b3_row14_col3\" class=\"data row14 col3\" >0.707000</td>\n",
       "                        <td id=\"T_949b3_row14_col4\" class=\"data row14 col4\" >0.597000</td>\n",
       "                        <td id=\"T_949b3_row14_col5\" class=\"data row14 col5\" >0.860000</td>\n",
       "                        <td id=\"T_949b3_row14_col6\" class=\"data row14 col6\" >0.651000</td>\n",
       "                        <td id=\"T_949b3_row14_col7\" class=\"data row14 col7\" >0.848000</td>\n",
       "                        <td id=\"T_949b3_row14_col8\" class=\"data row14 col8\" >0.993000</td>\n",
       "                        <td id=\"T_949b3_row14_col9\" class=\"data row14 col9\" >1.121000</td>\n",
       "                        <td id=\"T_949b3_row14_col10\" class=\"data row14 col10\" >0.742446</td>\n",
       "                        <td id=\"T_949b3_row14_col11\" class=\"data row14 col11\" >0.920508</td>\n",
       "                        <td id=\"T_949b3_row14_col12\" class=\"data row14 col12\" >3.712230</td>\n",
       "                        <td id=\"T_949b3_row14_col13\" class=\"data row14 col13\" >2.485192</td>\n",
       "            </tr>\n",
       "            <tr>\n",
       "                        <th id=\"T_949b3_level0_row15\" class=\"row_heading level0 row15\" >miccai_baseline_paug5</th>\n",
       "                        <td id=\"T_949b3_row15_col0\" class=\"data row15 col0\" >0.806000</td>\n",
       "                        <td id=\"T_949b3_row15_col1\" class=\"data row15 col1\" >0.886000</td>\n",
       "                        <td id=\"T_949b3_row15_col2\" class=\"data row15 col2\" >0.683000</td>\n",
       "                        <td id=\"T_949b3_row15_col3\" class=\"data row15 col3\" >0.806000</td>\n",
       "                        <td id=\"T_949b3_row15_col4\" class=\"data row15 col4\" >0.691000</td>\n",
       "                        <td id=\"T_949b3_row15_col5\" class=\"data row15 col5\" >1.077000</td>\n",
       "                        <td id=\"T_949b3_row15_col6\" class=\"data row15 col6\" >0.583000</td>\n",
       "                        <td id=\"T_949b3_row15_col7\" class=\"data row15 col7\" >0.725000</td>\n",
       "                        <td id=\"T_949b3_row15_col8\" class=\"data row15 col8\" >0.978000</td>\n",
       "                        <td id=\"T_949b3_row15_col9\" class=\"data row15 col9\" >1.051000</td>\n",
       "                        <td id=\"T_949b3_row15_col10\" class=\"data row15 col10\" >0.748201</td>\n",
       "                        <td id=\"T_949b3_row15_col11\" class=\"data row15 col11\" >0.927544</td>\n",
       "                        <td id=\"T_949b3_row15_col12\" class=\"data row15 col12\" >3.741007</td>\n",
       "                        <td id=\"T_949b3_row15_col13\" class=\"data row15 col13\" >2.634410</td>\n",
       "            </tr>\n",
       "            <tr>\n",
       "                        <th id=\"T_949b3_level0_row16\" class=\"row_heading level0 row16\" >miccai_baseline_sigma05</th>\n",
       "                        <td id=\"T_949b3_row16_col0\" class=\"data row16 col0\" >0.842000</td>\n",
       "                        <td id=\"T_949b3_row16_col1\" class=\"data row16 col1\" >1.301000</td>\n",
       "                        <td id=\"T_949b3_row16_col2\" class=\"data row16 col2\" >0.665000</td>\n",
       "                        <td id=\"T_949b3_row16_col3\" class=\"data row16 col3\" >0.961000</td>\n",
       "                        <td id=\"T_949b3_row16_col4\" class=\"data row16 col4\" >0.655000</td>\n",
       "                        <td id=\"T_949b3_row16_col5\" class=\"data row16 col5\" >0.963000</td>\n",
       "                        <td id=\"T_949b3_row16_col6\" class=\"data row16 col6\" >0.892000</td>\n",
       "                        <td id=\"T_949b3_row16_col7\" class=\"data row16 col7\" >2.015000</td>\n",
       "                        <td id=\"T_949b3_row16_col8\" class=\"data row16 col8\" >1.119000</td>\n",
       "                        <td id=\"T_949b3_row16_col9\" class=\"data row16 col9\" >1.521000</td>\n",
       "                        <td id=\"T_949b3_row16_col10\" class=\"data row16 col10\" >0.834532</td>\n",
       "                        <td id=\"T_949b3_row16_col11\" class=\"data row16 col11\" >1.416232</td>\n",
       "                        <td id=\"T_949b3_row16_col12\" class=\"data row16 col12\" >4.172662</td>\n",
       "                        <td id=\"T_949b3_row16_col13\" class=\"data row16 col13\" >3.925435</td>\n",
       "            </tr>\n",
       "            <tr>\n",
       "                        <th id=\"T_949b3_level0_row17\" class=\"row_heading level0 row17\" >miccai_baseline_sigma08</th>\n",
       "                        <td id=\"T_949b3_row17_col0\" class=\"data row17 col0\" >0.838000</td>\n",
       "                        <td id=\"T_949b3_row17_col1\" class=\"data row17 col1\" >1.133000</td>\n",
       "                        <td id=\"T_949b3_row17_col2\" class=\"data row17 col2\" >0.601000</td>\n",
       "                        <td id=\"T_949b3_row17_col3\" class=\"data row17 col3\" >0.718000</td>\n",
       "                        <td id=\"T_949b3_row17_col4\" class=\"data row17 col4\" >0.647000</td>\n",
       "                        <td id=\"T_949b3_row17_col5\" class=\"data row17 col5\" >1.026000</td>\n",
       "                        <td id=\"T_949b3_row17_col6\" class=\"data row17 col6\" >0.640000</td>\n",
       "                        <td id=\"T_949b3_row17_col7\" class=\"data row17 col7\" >0.824000</td>\n",
       "                        <td id=\"T_949b3_row17_col8\" class=\"data row17 col8\" >1.011000</td>\n",
       "                        <td id=\"T_949b3_row17_col9\" class=\"data row17 col9\" >1.221000</td>\n",
       "                        <td id=\"T_949b3_row17_col10\" class=\"data row17 col10\" >0.747482</td>\n",
       "                        <td id=\"T_949b3_row17_col11\" class=\"data row17 col11\" >1.012286</td>\n",
       "                        <td id=\"T_949b3_row17_col12\" class=\"data row17 col12\" >3.737410</td>\n",
       "                        <td id=\"T_949b3_row17_col13\" class=\"data row17 col13\" >2.809178</td>\n",
       "            </tr>\n",
       "            <tr>\n",
       "                        <th id=\"T_949b3_level0_row18\" class=\"row_heading level0 row18\" >miccai_baseline_sigma2</th>\n",
       "                        <td id=\"T_949b3_row18_col0\" class=\"data row18 col0\" >0.888000</td>\n",
       "                        <td id=\"T_949b3_row18_col1\" class=\"data row18 col1\" >0.953000</td>\n",
       "                        <td id=\"T_949b3_row18_col2\" class=\"data row18 col2\" >0.734000</td>\n",
       "                        <td id=\"T_949b3_row18_col3\" class=\"data row18 col3\" >0.824000</td>\n",
       "                        <td id=\"T_949b3_row18_col4\" class=\"data row18 col4\" >0.777000</td>\n",
       "                        <td id=\"T_949b3_row18_col5\" class=\"data row18 col5\" >0.958000</td>\n",
       "                        <td id=\"T_949b3_row18_col6\" class=\"data row18 col6\" >0.701000</td>\n",
       "                        <td id=\"T_949b3_row18_col7\" class=\"data row18 col7\" >1.153000</td>\n",
       "                        <td id=\"T_949b3_row18_col8\" class=\"data row18 col8\" >1.086000</td>\n",
       "                        <td id=\"T_949b3_row18_col9\" class=\"data row18 col9\" >1.162000</td>\n",
       "                        <td id=\"T_949b3_row18_col10\" class=\"data row18 col10\" >0.837410</td>\n",
       "                        <td id=\"T_949b3_row18_col11\" class=\"data row18 col11\" >1.026012</td>\n",
       "                        <td id=\"T_949b3_row18_col12\" class=\"data row18 col12\" >4.187050</td>\n",
       "                        <td id=\"T_949b3_row18_col13\" class=\"data row18 col13\" >2.514900</td>\n",
       "            </tr>\n",
       "            <tr>\n",
       "                        <th id=\"T_949b3_level0_row19\" class=\"row_heading level0 row19\" >miccai_baseline_sigma4</th>\n",
       "                        <td id=\"T_949b3_row19_col0\" class=\"data row19 col0\" >1.266000</td>\n",
       "                        <td id=\"T_949b3_row19_col1\" class=\"data row19 col1\" >1.196000</td>\n",
       "                        <td id=\"T_949b3_row19_col2\" class=\"data row19 col2\" >1.615000</td>\n",
       "                        <td id=\"T_949b3_row19_col3\" class=\"data row19 col3\" >1.464000</td>\n",
       "                        <td id=\"T_949b3_row19_col4\" class=\"data row19 col4\" >1.090000</td>\n",
       "                        <td id=\"T_949b3_row19_col5\" class=\"data row19 col5\" >1.355000</td>\n",
       "                        <td id=\"T_949b3_row19_col6\" class=\"data row19 col6\" >0.712000</td>\n",
       "                        <td id=\"T_949b3_row19_col7\" class=\"data row19 col7\" >0.790000</td>\n",
       "                        <td id=\"T_949b3_row19_col8\" class=\"data row19 col8\" >1.317000</td>\n",
       "                        <td id=\"T_949b3_row19_col9\" class=\"data row19 col9\" >1.338000</td>\n",
       "                        <td id=\"T_949b3_row19_col10\" class=\"data row19 col10\" >1.200000</td>\n",
       "                        <td id=\"T_949b3_row19_col11\" class=\"data row19 col11\" >1.283655</td>\n",
       "                        <td id=\"T_949b3_row19_col12\" class=\"data row19 col12\" >6.000000</td>\n",
       "                        <td id=\"T_949b3_row19_col13\" class=\"data row19 col13\" >3.169095</td>\n",
       "            </tr>\n",
       "            <tr>\n",
       "                        <th id=\"T_949b3_level0_row20\" class=\"row_heading level0 row20\" >miccai_baseline_tres_taug2</th>\n",
       "                        <td id=\"T_949b3_row20_col0\" class=\"data row20 col0\" >0.701000</td>\n",
       "                        <td id=\"T_949b3_row20_col1\" class=\"data row20 col1\" >0.746000</td>\n",
       "                        <td id=\"T_949b3_row20_col2\" class=\"data row20 col2\" >0.414000</td>\n",
       "                        <td id=\"T_949b3_row20_col3\" class=\"data row20 col3\" >0.515000</td>\n",
       "                        <td id=\"T_949b3_row20_col4\" class=\"data row20 col4\" >0.439000</td>\n",
       "                        <td id=\"T_949b3_row20_col5\" class=\"data row20 col5\" >0.681000</td>\n",
       "                        <td id=\"T_949b3_row20_col6\" class=\"data row20 col6\" >0.406000</td>\n",
       "                        <td id=\"T_949b3_row20_col7\" class=\"data row20 col7\" >0.561000</td>\n",
       "                        <td id=\"T_949b3_row20_col8\" class=\"data row20 col8\" >0.932000</td>\n",
       "                        <td id=\"T_949b3_row20_col9\" class=\"data row20 col9\" >0.957000</td>\n",
       "                        <td id=\"T_949b3_row20_col10\" class=\"data row20 col10\" >0.578417</td>\n",
       "                        <td id=\"T_949b3_row20_col11\" class=\"data row20 col11\" >0.737950</td>\n",
       "                        <td id=\"T_949b3_row20_col12\" class=\"data row20 col12\" >2.892086</td>\n",
       "                        <td id=\"T_949b3_row20_col13\" class=\"data row20 col13\" >1.792031</td>\n",
       "            </tr>\n",
       "            <tr>\n",
       "                        <th id=\"T_949b3_level0_row21\" class=\"row_heading level0 row21\" >miccai_baseline_tres_taug2_paug2_hist</th>\n",
       "                        <td id=\"T_949b3_row21_col0\" class=\"data row21 col0\" >0.896000</td>\n",
       "                        <td id=\"T_949b3_row21_col1\" class=\"data row21 col1\" >1.002000</td>\n",
       "                        <td id=\"T_949b3_row21_col2\" class=\"data row21 col2\" >0.874000</td>\n",
       "                        <td id=\"T_949b3_row21_col3\" class=\"data row21 col3\" >1.477000</td>\n",
       "                        <td id=\"T_949b3_row21_col4\" class=\"data row21 col4\" >0.763000</td>\n",
       "                        <td id=\"T_949b3_row21_col5\" class=\"data row21 col5\" >1.394000</td>\n",
       "                        <td id=\"T_949b3_row21_col6\" class=\"data row21 col6\" >0.453000</td>\n",
       "                        <td id=\"T_949b3_row21_col7\" class=\"data row21 col7\" >0.579000</td>\n",
       "                        <td id=\"T_949b3_row21_col8\" class=\"data row21 col8\" >1.050000</td>\n",
       "                        <td id=\"T_949b3_row21_col9\" class=\"data row21 col9\" >1.142000</td>\n",
       "                        <td id=\"T_949b3_row21_col10\" class=\"data row21 col10\" >0.807194</td>\n",
       "                        <td id=\"T_949b3_row21_col11\" class=\"data row21 col11\" >1.178442</td>\n",
       "                        <td id=\"T_949b3_row21_col12\" class=\"data row21 col12\" >4.035971</td>\n",
       "                        <td id=\"T_949b3_row21_col13\" class=\"data row21 col13\" >3.919900</td>\n",
       "            </tr>\n",
       "            <tr>\n",
       "                        <th id=\"T_949b3_level0_row22\" class=\"row_heading level0 row22\" >miccai_baseline_tresample55</th>\n",
       "                        <td id=\"T_949b3_row22_col0\" class=\"data row22 col0\" >0.773000</td>\n",
       "                        <td id=\"T_949b3_row22_col1\" class=\"data row22 col1\" >0.880000</td>\n",
       "                        <td id=\"T_949b3_row22_col2\" class=\"data row22 col2\" >0.392000</td>\n",
       "                        <td id=\"T_949b3_row22_col3\" class=\"data row22 col3\" >0.511000</td>\n",
       "                        <td id=\"T_949b3_row22_col4\" class=\"data row22 col4\" >0.507000</td>\n",
       "                        <td id=\"T_949b3_row22_col5\" class=\"data row22 col5\" >1.004000</td>\n",
       "                        <td id=\"T_949b3_row22_col6\" class=\"data row22 col6\" >0.446000</td>\n",
       "                        <td id=\"T_949b3_row22_col7\" class=\"data row22 col7\" >0.597000</td>\n",
       "                        <td id=\"T_949b3_row22_col8\" class=\"data row22 col8\" >0.921000</td>\n",
       "                        <td id=\"T_949b3_row22_col9\" class=\"data row22 col9\" >0.892000</td>\n",
       "                        <td id=\"T_949b3_row22_col10\" class=\"data row22 col10\" >0.607914</td>\n",
       "                        <td id=\"T_949b3_row22_col11\" class=\"data row22 col11\" >0.823798</td>\n",
       "                        <td id=\"T_949b3_row22_col12\" class=\"data row22 col12\" >3.039568</td>\n",
       "                        <td id=\"T_949b3_row22_col13\" class=\"data row22 col13\" >2.109046</td>\n",
       "            </tr>\n",
       "    </tbody></table>"
      ],
      "text/plain": [
       "<pandas.io.formats.style.Styler at 0x7ff9085b9430>"
      ]
     },
     "execution_count": 13,
     "metadata": {},
     "output_type": "execute_result"
    }
   ],
   "source": [
    "# highlight the lowest values\n",
    "results_agg_df.style.highlight_min(color = 'lightgreen', axis = 0)"
   ]
  },
  {
   "cell_type": "markdown",
   "metadata": {},
   "source": [
    "# Error per phase, overall and per cardiac cycle"
   ]
  },
  {
   "cell_type": "code",
   "execution_count": 10,
   "metadata": {},
   "outputs": [
    {
     "name": "stdout",
     "output_type": "stream",
     "text": [
      "Mean per phase: \n",
      "ED    2.18\n",
      "MS    4.16\n",
      "ES    2.33\n",
      "PF    9.74\n",
      "MD    3.70\n",
      "dtype: float32\n",
      "Median per phase: \n",
      "ED     2.0\n",
      "MS     3.0\n",
      "ES     2.0\n",
      "PF    12.0\n",
      "MD     4.0\n",
      "dtype: float32\n",
      "Std per phase: \n",
      "ED    1.297861\n",
      "MS    1.661933\n",
      "ES    2.895678\n",
      "PF    4.963748\n",
      "MD    1.654501\n",
      "dtype: float32\n",
      "Mean overall: \n",
      "4.421999931335449\n",
      "Median overall: \n",
      "3.0\n",
      "Std overall: \n",
      "3.951697826385498\n",
      "sum per cycle mean: \n",
      "22.110000610351562\n",
      "sum per cycle std: \n",
      "5.773898124694824\n"
     ]
    }
   ],
   "source": [
    "print('Mean per phase: \\n{}'.format(df.mean(axis=0)))\n",
    "print('Median per phase: \\n{}'.format(df.median(axis=0)))\n",
    "print('Std per phase: \\n{}'.format(df.std(axis=0)))\n",
    "\n",
    "print('Mean overall: \\n{}'.format(df.values.mean()))\n",
    "print('Median overall: \\n{}'.format(np.median(df.values)))\n",
    "print('Std overall: \\n{}'.format(df.values.std()))\n",
    "\n",
    "print('sum per cycle mean: \\n{}'.format(np.mean(df.sum(axis=1))))\n",
    "print('sum per cycle std: \\n{}'.format(np.std(df.sum(axis=1))))"
   ]
  },
  {
   "cell_type": "markdown",
   "metadata": {},
   "source": [
    "# Violin plot - error per phase"
   ]
  },
  {
   "cell_type": "code",
   "execution_count": 11,
   "metadata": {},
   "outputs": [
    {
     "data": {
      "image/png": "[encoded data removed]",
      "text/plain": [
       "<Figure size 576x360 with 1 Axes>"
      ]
     },
     "metadata": {
      "needs_background": "light"
     },
     "output_type": "display_data"
    }
   ],
   "source": [
    "import seaborn as sb\n",
    "sb.set_context('paper')\n",
    "f = plt.figure(figsize=(8,5))\n",
    "ax = f.gca()\n",
    "ax.set_ylim(bottom=0, top=6)\n",
    "ax.set_ylabel('Cardiac phases')\n",
    "ax.set_xlabel('Cycle error')\n",
    "#_ = DF_METADATA[phases].plot(kind='violin'),\n",
    "sb.violinplot(data=df, orient='v', ax = ax)\n",
    "sb.pointplot(data=df, orient='v', ax = ax, estimator=np.mean,color=\"black\", markers=\"o\", ci=None,join=False)\n",
    "sb.pointplot(data=df, orient='v', ax = ax, estimator=np.median,color=\"black\", markers=\"_\", ci=None,join=False)\n",
    "plt.grid()\n",
    "plt.savefig('bestphase')\n"
   ]
  },
  {
   "cell_type": "markdown",
   "metadata": {},
   "source": [
    "# Error per cardiac cycle"
   ]
  },
  {
   "cell_type": "code",
   "execution_count": 29,
   "metadata": {},
   "outputs": [
    {
     "data": {
      "image/png": "[encoded data removed]",
      "text/plain": [
       "<Figure size 144x360 with 1 Axes>"
      ]
     },
     "metadata": {
      "needs_background": "light"
     },
     "output_type": "display_data"
    }
   ],
   "source": [
    "import seaborn as sb\n",
    "sb.set_context('paper')\n",
    "f = plt.figure(figsize=(2,5))\n",
    "ax = f.gca()\n",
    "ax.set_ylabel('Cardiac phases')\n",
    "ax.set_xlabel('Cycle error')\n",
    "temp = df.sum(axis=1)\n",
    "sb.violinplot(data=temp, orient='v', ax = ax)\n",
    "#sb.scatterplot(data=temp, ax=ax)\n",
    "sb.pointplot(data=temp, orient='v', ax = ax, estimator=np.mean,color=\"black\", markers=\"o\", ci=None,join=False)\n",
    "sb.pointplot(data=temp, orient='v', ax = ax, estimator=np.median,color=\"black\", markers=\"_\", ci=None,join=False)\n",
    "plt.grid()\n",
    "plt.show()"
   ]
  },
  {
   "cell_type": "code",
   "execution_count": null,
   "metadata": {},
   "outputs": [],
   "source": []
  }
 ],
 "metadata": {
  "kernelspec": {
   "display_name": "dcmr",
   "language": "python",
   "name": "dcmr"
  },
  "language_info": {
   "codemirror_mode": {
    "name": "ipython",
    "version": 3
   },
   "file_extension": ".py",
   "mimetype": "text/x-python",
   "name": "python",
   "nbconvert_exporter": "python",
   "pygments_lexer": "ipython3",
   "version": "3.8.5"
  },
  "widgets": {
   "application/vnd.jupyter.widget-state+json": {
    "state": {
     "009a587ef08f4470824ef0eaa97d88cd": {
      "model_module": "@jupyter-widgets/controls",
      "model_module_version": "1.5.0",
      "model_name": "DescriptionStyleModel",
      "state": {
       "description_width": ""
      }
     },
     "03186b16882c40d990834c850e0ce742": {
      "model_module": "@jupyter-widgets/controls",
      "model_module_version": "1.5.0",
      "model_name": "ButtonModel",
      "state": {
       "description": "Change",
       "layout": "IPY_MODEL_836765bfa523420f99e7aaf23f93da5c",
       "style": "IPY_MODEL_1e00c9b71f1a4525987a43ec0a1aa87d"
      }
     },
     "06442b093b6a4676bc70e2cd51af278d": {
      "model_module": "@jupyter-widgets/controls",
      "model_module_version": "1.5.0",
      "model_name": "VBoxModel",
      "state": {
       "children": [
        "IPY_MODEL_1974ee42954e4a67b66eb0d1bf7fd7c8",
        "IPY_MODEL_f879bdae0d9946848aca35a1102ba4ec",
        "IPY_MODEL_4d8c7d5c8bdf4698bd15785fad5a64d1"
       ],
       "layout": "IPY_MODEL_6fa8d443de9e48b9806734f805431f5b"
      }
     },
     "06cd7a5bc9704e82ae2d117df155141e": {
      "model_module": "@jupyter-widgets/base",
      "model_module_version": "1.2.0",
      "model_name": "LayoutModel",
      "state": {
       "width": "auto"
      }
     },
     "092f1f5cc320423eadccbcedae2fff5e": {
      "model_module": "@jupyter-widgets/base",
      "model_module_version": "1.2.0",
      "model_name": "LayoutModel",
      "state": {
       "width": "auto"
      }
     },
     "0a83f196804b4e6ca505152195c88f92": {
      "model_module": "@jupyter-widgets/controls",
      "model_module_version": "1.5.0",
      "model_name": "DescriptionStyleModel",
      "state": {
       "description_width": ""
      }
     },
     "0cd3acbb864b4b83af26c440aecf83ef": {
      "model_module": "@jupyter-widgets/base",
      "model_module_version": "1.2.0",
      "model_name": "LayoutModel",
      "state": {}
     },
     "0cd66c4c4fda49bbb0648dc3eb6e7f9a": {
      "model_module": "@jupyter-widgets/controls",
      "model_module_version": "1.5.0",
      "model_name": "SelectModel",
      "state": {
       "_options_labels": [
        "..",
        "acdc_pred",
        "config",
        "history",
        "model",
        "tensorboard_logs",
        "model.png",
        "model_summary.txt"
       ],
       "index": null,
       "layout": "IPY_MODEL_9fb817c1a25c4a61a4fe75f37576e5aa",
       "rows": 8,
       "style": "IPY_MODEL_0a83f196804b4e6ca505152195c88f92"
      }
     },
     "0e4beaca17bf466196dbad18615c838d": {
      "model_module": "@jupyter-widgets/base",
      "model_module_version": "1.2.0",
      "model_name": "LayoutModel",
      "state": {}
     },
     "0f1cdd36797a438a8cd7137797df6cd5": {
      "model_module": "@jupyter-widgets/base",
      "model_module_version": "1.2.0",
      "model_name": "LayoutModel",
      "state": {}
     },
     "0f98fe2db271475fa3dbe795af3e65e8": {
      "model_module": "@jupyter-widgets/base",
      "model_module_version": "1.2.0",
      "model_name": "LayoutModel",
      "state": {
       "grid_area": "filename",
       "width": "auto"
      }
     },
     "0fd42b225d96461cb5ef5ba346b435c6": {
      "model_module": "@jupyter-widgets/output",
      "model_module_version": "1.0.0",
      "model_name": "OutputModel",
      "state": {
       "layout": "IPY_MODEL_ab18e1b62ae846c3af6ac25d3b54234d",
       "outputs": [
        {
         "name": "stdout",
         "output_type": "stream",
         "text": "eval: /mnt/ssd/git/dynamic-cmr-models/exp/temp/relu_mse_comb_cce/2021-05-20_11_12/\n0\n"
        },
        {
         "ename": "ValueError",
         "evalue": "need at least one array to concatenate",
         "output_type": "error",
         "traceback": [
          "\u001b[0;31m---------------------------------------------------------------------------\u001b[0m",
          "\u001b[0;31mValueError\u001b[0m                                Traceback (most recent call last)",
          "\u001b[0;32m~/anaconda3/envs/dcmr/lib/python3.8/site-packages/ipywidgets/widgets/interaction.py\u001b[0m in \u001b[0;36mupdate\u001b[0;34m(self, *args)\u001b[0m\n\u001b[1;32m    254\u001b[0m                     \u001b[0mvalue\u001b[0m \u001b[0;34m=\u001b[0m \u001b[0mwidget\u001b[0m\u001b[0;34m.\u001b[0m\u001b[0mget_interact_value\u001b[0m\u001b[0;34m(\u001b[0m\u001b[0;34m)\u001b[0m\u001b[0;34m\u001b[0m\u001b[0;34m\u001b[0m\u001b[0m\n\u001b[1;32m    255\u001b[0m                     \u001b[0mself\u001b[0m\u001b[0;34m.\u001b[0m\u001b[0mkwargs\u001b[0m\u001b[0;34m[\u001b[0m\u001b[0mwidget\u001b[0m\u001b[0;34m.\u001b[0m\u001b[0m_kwarg\u001b[0m\u001b[0;34m]\u001b[0m \u001b[0;34m=\u001b[0m \u001b[0mvalue\u001b[0m\u001b[0;34m\u001b[0m\u001b[0;34m\u001b[0m\u001b[0m\n\u001b[0;32m--> 256\u001b[0;31m                 \u001b[0mself\u001b[0m\u001b[0;34m.\u001b[0m\u001b[0mresult\u001b[0m \u001b[0;34m=\u001b[0m \u001b[0mself\u001b[0m\u001b[0;34m.\u001b[0m\u001b[0mf\u001b[0m\u001b[0;34m(\u001b[0m\u001b[0;34m**\u001b[0m\u001b[0mself\u001b[0m\u001b[0;34m.\u001b[0m\u001b[0mkwargs\u001b[0m\u001b[0;34m)\u001b[0m\u001b[0;34m\u001b[0m\u001b[0;34m\u001b[0m\u001b[0m\n\u001b[0m\u001b[1;32m    257\u001b[0m                 \u001b[0mshow_inline_matplotlib_plots\u001b[0m\u001b[0;34m(\u001b[0m\u001b[0;34m)\u001b[0m\u001b[0;34m\u001b[0m\u001b[0;34m\u001b[0m\u001b[0m\n\u001b[1;32m    258\u001b[0m                 \u001b[0;32mif\u001b[0m \u001b[0mself\u001b[0m\u001b[0;34m.\u001b[0m\u001b[0mauto_display\u001b[0m \u001b[0;32mand\u001b[0m \u001b[0mself\u001b[0m\u001b[0;34m.\u001b[0m\u001b[0mresult\u001b[0m \u001b[0;32mis\u001b[0m \u001b[0;32mnot\u001b[0m \u001b[0;32mNone\u001b[0m\u001b[0;34m:\u001b[0m\u001b[0;34m\u001b[0m\u001b[0;34m\u001b[0m\u001b[0m\n",
          "\u001b[0;32m<ipython-input-3-87dedee55f78>\u001b[0m in \u001b[0;36meval_interact\u001b[0;34m(evaluate_)\u001b[0m\n\u001b[1;32m      6\u001b[0m     \u001b[0;32mglobal\u001b[0m \u001b[0mdf\u001b[0m\u001b[0;34m\u001b[0m\u001b[0;34m\u001b[0m\u001b[0m\n\u001b[1;32m      7\u001b[0m     \u001b[0;32mif\u001b[0m \u001b[0mevaluate_\u001b[0m\u001b[0;34m:\u001b[0m\u001b[0;34m\u001b[0m\u001b[0;34m\u001b[0m\u001b[0m\n\u001b[0;32m----> 8\u001b[0;31m         \u001b[0mdf\u001b[0m \u001b[0;34m=\u001b[0m \u001b[0mevaluate\u001b[0m\u001b[0;34m(\u001b[0m\u001b[0mfchooser\u001b[0m\u001b[0;34m.\u001b[0m\u001b[0mselected\u001b[0m\u001b[0;34m,\u001b[0m \u001b[0mpred_suffix\u001b[0m\u001b[0;34m=\u001b[0m\u001b[0;34m'acdc'\u001b[0m\u001b[0;34m)\u001b[0m\u001b[0;34m\u001b[0m\u001b[0;34m\u001b[0m\u001b[0m\n\u001b[0m",
          "\u001b[0;32m<ipython-input-2-fc5cf8ab5594>\u001b[0m in \u001b[0;36mevaluate\u001b[0;34m(exp_root, result_df, pred_suffix)\u001b[0m\n\u001b[1;32m     12\u001b[0m     \u001b[0mpreds\u001b[0m \u001b[0;34m=\u001b[0m \u001b[0mlist\u001b[0m\u001b[0;34m(\u001b[0m\u001b[0mmap\u001b[0m\u001b[0;34m(\u001b[0m\u001b[0;32mlambda\u001b[0m \u001b[0mx\u001b[0m \u001b[0;34m:\u001b[0m \u001b[0mnp\u001b[0m\u001b[0;34m.\u001b[0m\u001b[0mload\u001b[0m\u001b[0;34m(\u001b[0m\u001b[0mx\u001b[0m\u001b[0;34m)\u001b[0m\u001b[0;34m,\u001b[0m \u001b[0mall_pred_files\u001b[0m\u001b[0;34m)\u001b[0m\u001b[0;34m)\u001b[0m\u001b[0;34m\u001b[0m\u001b[0;34m\u001b[0m\u001b[0m\n\u001b[1;32m     13\u001b[0m     \u001b[0;31m# stack the numpy files\u001b[0m\u001b[0;34m\u001b[0m\u001b[0;34m\u001b[0m\u001b[0;34m\u001b[0m\u001b[0m\n\u001b[0;32m---> 14\u001b[0;31m     \u001b[0mpreds\u001b[0m \u001b[0;34m=\u001b[0m \u001b[0mnp\u001b[0m\u001b[0;34m.\u001b[0m\u001b[0mconcatenate\u001b[0m\u001b[0;34m(\u001b[0m\u001b[0mpreds\u001b[0m\u001b[0;34m,\u001b[0m \u001b[0maxis\u001b[0m\u001b[0;34m=\u001b[0m\u001b[0;36m1\u001b[0m\u001b[0;34m)\u001b[0m\u001b[0;34m\u001b[0m\u001b[0;34m\u001b[0m\u001b[0m\n\u001b[0m\u001b[1;32m     15\u001b[0m \u001b[0;34m\u001b[0m\u001b[0m\n\u001b[1;32m     16\u001b[0m     \u001b[0;31m# calculate the mean differences\u001b[0m\u001b[0;34m\u001b[0m\u001b[0;34m\u001b[0m\u001b[0;34m\u001b[0m\u001b[0m\n",
          "\u001b[0;32m<__array_function__ internals>\u001b[0m in \u001b[0;36mconcatenate\u001b[0;34m(*args, **kwargs)\u001b[0m\n",
          "\u001b[0;31mValueError\u001b[0m: need at least one array to concatenate"
         ]
        }
       ]
      }
     },
     "100bfb4c065043b28f081749a116fdd1": {
      "model_module": "@jupyter-widgets/controls",
      "model_module_version": "1.5.0",
      "model_name": "TextModel",
      "state": {
       "layout": "IPY_MODEL_0f98fe2db271475fa3dbe795af3e65e8",
       "placeholder": "output filename",
       "style": "IPY_MODEL_4bd11049b1724d78bc2eb89522898cdf"
      }
     },
     "12a1d2f633f941aaac29affc3e9eaf98": {
      "model_module": "@jupyter-widgets/controls",
      "model_module_version": "1.5.0",
      "model_name": "ButtonModel",
      "state": {
       "description": "Change",
       "layout": "IPY_MODEL_092f1f5cc320423eadccbcedae2fff5e",
       "style": "IPY_MODEL_4c2c8c1a694c4e0588f399eef6d1f90b"
      }
     },
     "12acaa25ef844470a240231def5a9714": {
      "model_module": "@jupyter-widgets/controls",
      "model_module_version": "1.5.0",
      "model_name": "ButtonStyleModel",
      "state": {}
     },
     "12db6814cffb46f1a0bacaa50e629ebb": {
      "model_module": "@jupyter-widgets/controls",
      "model_module_version": "1.5.0",
      "model_name": "DescriptionStyleModel",
      "state": {
       "description_width": ""
      }
     },
     "1974ee42954e4a67b66eb0d1bf7fd7c8": {
      "model_module": "@jupyter-widgets/controls",
      "model_module_version": "1.5.0",
      "model_name": "HTMLModel",
      "state": {
       "layout": "IPY_MODEL_cefb03fc12db4618961cc6d8651483ed",
       "style": "IPY_MODEL_c92a875ee25a4fca8c59f6e23836cfe0"
      }
     },
     "1a038cd9519d4888992d132c49669d4e": {
      "model_module": "@jupyter-widgets/controls",
      "model_module_version": "1.5.0",
      "model_name": "DescriptionStyleModel",
      "state": {
       "description_width": ""
      }
     },
     "1a67a08a45ce4415b0ec04dd0626df2f": {
      "model_module": "@jupyter-widgets/base",
      "model_module_version": "1.2.0",
      "model_name": "LayoutModel",
      "state": {
       "grid_area": "dircontent",
       "width": "auto"
      }
     },
     "1b7f109ba2d74d65be49eb754ae66d64": {
      "model_module": "@jupyter-widgets/controls",
      "model_module_version": "1.5.0",
      "model_name": "GridBoxModel",
      "state": {
       "children": [
        "IPY_MODEL_773254bfec394bd49978a5e7aa7d286a",
        "IPY_MODEL_100bfb4c065043b28f081749a116fdd1",
        "IPY_MODEL_f31be24888a649fea7598aab053f633c"
       ],
       "layout": "IPY_MODEL_d6bac335fcf64575b4bf92ea0986eba8"
      }
     },
     "1d1e8f1e46ea4b668499af8937aaea46": {
      "model_module": "@jupyter-widgets/controls",
      "model_module_version": "1.5.0",
      "model_name": "ButtonModel",
      "state": {
       "description": "Cancel",
       "layout": "IPY_MODEL_2556704ad1f346c2a1de2e90d3428673",
       "style": "IPY_MODEL_ee361ff59f034764a41ae780d4c36a97"
      }
     },
     "1e00c9b71f1a4525987a43ec0a1aa87d": {
      "model_module": "@jupyter-widgets/controls",
      "model_module_version": "1.5.0",
      "model_name": "ButtonStyleModel",
      "state": {}
     },
     "1e789c1be06248a392e43987897ef4d0": {
      "model_module": "@jupyter-widgets/controls",
      "model_module_version": "1.5.0",
      "model_name": "SelectModel",
      "state": {
       "_options_labels": [
        "..",
        "acdc_pred",
        "config",
        "history",
        "model",
        "tensorboard_logs",
        "model.png",
        "model_summary.txt"
       ],
       "index": null,
       "layout": "IPY_MODEL_eab0e7f9d53e43c7b83cb28a5993df13",
       "rows": 8,
       "style": "IPY_MODEL_7d19e6d22f1b4b88bf7ef15372abb5e7"
      }
     },
     "209a699317cb4c0297eee8ba4b730b97": {
      "model_module": "@jupyter-widgets/base",
      "model_module_version": "1.2.0",
      "model_name": "LayoutModel",
      "state": {}
     },
     "245120d13de247ba88772ed7df2ecde1": {
      "model_module": "@jupyter-widgets/base",
      "model_module_version": "1.2.0",
      "model_name": "LayoutModel",
      "state": {
       "width": "auto"
      }
     },
     "2556704ad1f346c2a1de2e90d3428673": {
      "model_module": "@jupyter-widgets/base",
      "model_module_version": "1.2.0",
      "model_name": "LayoutModel",
      "state": {
       "display": "none",
       "width": "auto"
      }
     },
     "279735fc56304ccfb25d2275ee979336": {
      "model_module": "@jupyter-widgets/controls",
      "model_module_version": "1.5.0",
      "model_name": "VBoxModel",
      "state": {
       "_dom_classes": [
        "widget-interact"
       ],
       "children": [
        "IPY_MODEL_dc777e1f78b4430ba952780fabea86f6",
        "IPY_MODEL_b7d230bc7b6a4c42a0dd405a146617d8"
       ],
       "layout": "IPY_MODEL_209a699317cb4c0297eee8ba4b730b97"
      }
     },
     "2924cb9277d541a1829d1eef1bf082fa": {
      "model_module": "@jupyter-widgets/controls",
      "model_module_version": "1.5.0",
      "model_name": "DescriptionStyleModel",
      "state": {
       "description_width": ""
      }
     },
     "2a71426a8e2e457ca948d7e83fd305f1": {
      "model_module": "@jupyter-widgets/controls",
      "model_module_version": "1.5.0",
      "model_name": "DescriptionStyleModel",
      "state": {
       "description_width": ""
      }
     },
     "2f6cea18d34449cdabf351796af0bd0b": {
      "model_module": "@jupyter-widgets/base",
      "model_module_version": "1.2.0",
      "model_name": "LayoutModel",
      "state": {
       "grid_area": "pathlist",
       "width": "auto"
      }
     },
     "31d7ef1bf2064f7793a805ad8fe97ff1": {
      "model_module": "@jupyter-widgets/output",
      "model_module_version": "1.0.0",
      "model_name": "OutputModel",
      "state": {
       "layout": "IPY_MODEL_bb5ca051a4ee462fa6ba098e584323af",
       "outputs": [
        {
         "name": "stdout",
         "output_type": "stream",
         "text": "eval: /mnt/ssd/git/dynamic-cmr-models/exp/temp/relu_mse_comb_cce/2021-05-20_11_12/\n0\n"
        },
        {
         "ename": "ValueError",
         "evalue": "need at least one array to concatenate",
         "output_type": "error",
         "traceback": [
          "\u001b[0;31m---------------------------------------------------------------------------\u001b[0m",
          "\u001b[0;31mValueError\u001b[0m                                Traceback (most recent call last)",
          "\u001b[0;32m~/anaconda3/envs/dcmr/lib/python3.8/site-packages/ipywidgets/widgets/interaction.py\u001b[0m in \u001b[0;36mupdate\u001b[0;34m(self, *args)\u001b[0m\n\u001b[1;32m    254\u001b[0m                     \u001b[0mvalue\u001b[0m \u001b[0;34m=\u001b[0m \u001b[0mwidget\u001b[0m\u001b[0;34m.\u001b[0m\u001b[0mget_interact_value\u001b[0m\u001b[0;34m(\u001b[0m\u001b[0;34m)\u001b[0m\u001b[0;34m\u001b[0m\u001b[0;34m\u001b[0m\u001b[0m\n\u001b[1;32m    255\u001b[0m                     \u001b[0mself\u001b[0m\u001b[0;34m.\u001b[0m\u001b[0mkwargs\u001b[0m\u001b[0;34m[\u001b[0m\u001b[0mwidget\u001b[0m\u001b[0;34m.\u001b[0m\u001b[0m_kwarg\u001b[0m\u001b[0;34m]\u001b[0m \u001b[0;34m=\u001b[0m \u001b[0mvalue\u001b[0m\u001b[0;34m\u001b[0m\u001b[0;34m\u001b[0m\u001b[0m\n\u001b[0;32m--> 256\u001b[0;31m                 \u001b[0mself\u001b[0m\u001b[0;34m.\u001b[0m\u001b[0mresult\u001b[0m \u001b[0;34m=\u001b[0m \u001b[0mself\u001b[0m\u001b[0;34m.\u001b[0m\u001b[0mf\u001b[0m\u001b[0;34m(\u001b[0m\u001b[0;34m**\u001b[0m\u001b[0mself\u001b[0m\u001b[0;34m.\u001b[0m\u001b[0mkwargs\u001b[0m\u001b[0;34m)\u001b[0m\u001b[0;34m\u001b[0m\u001b[0;34m\u001b[0m\u001b[0m\n\u001b[0m\u001b[1;32m    257\u001b[0m                 \u001b[0mshow_inline_matplotlib_plots\u001b[0m\u001b[0;34m(\u001b[0m\u001b[0;34m)\u001b[0m\u001b[0;34m\u001b[0m\u001b[0;34m\u001b[0m\u001b[0m\n\u001b[1;32m    258\u001b[0m                 \u001b[0;32mif\u001b[0m \u001b[0mself\u001b[0m\u001b[0;34m.\u001b[0m\u001b[0mauto_display\u001b[0m \u001b[0;32mand\u001b[0m \u001b[0mself\u001b[0m\u001b[0;34m.\u001b[0m\u001b[0mresult\u001b[0m \u001b[0;32mis\u001b[0m \u001b[0;32mnot\u001b[0m \u001b[0;32mNone\u001b[0m\u001b[0;34m:\u001b[0m\u001b[0;34m\u001b[0m\u001b[0;34m\u001b[0m\u001b[0m\n",
          "\u001b[0;32m<ipython-input-7-87dedee55f78>\u001b[0m in \u001b[0;36meval_interact\u001b[0;34m(evaluate_)\u001b[0m\n\u001b[1;32m      6\u001b[0m     \u001b[0;32mglobal\u001b[0m \u001b[0mdf\u001b[0m\u001b[0;34m\u001b[0m\u001b[0;34m\u001b[0m\u001b[0m\n\u001b[1;32m      7\u001b[0m     \u001b[0;32mif\u001b[0m \u001b[0mevaluate_\u001b[0m\u001b[0;34m:\u001b[0m\u001b[0;34m\u001b[0m\u001b[0;34m\u001b[0m\u001b[0m\n\u001b[0;32m----> 8\u001b[0;31m         \u001b[0mdf\u001b[0m \u001b[0;34m=\u001b[0m \u001b[0mevaluate\u001b[0m\u001b[0;34m(\u001b[0m\u001b[0mfchooser\u001b[0m\u001b[0;34m.\u001b[0m\u001b[0mselected\u001b[0m\u001b[0;34m,\u001b[0m \u001b[0mpred_suffix\u001b[0m\u001b[0;34m=\u001b[0m\u001b[0;34m'acdc'\u001b[0m\u001b[0;34m)\u001b[0m\u001b[0;34m\u001b[0m\u001b[0;34m\u001b[0m\u001b[0m\n\u001b[0m",
          "\u001b[0;32m<ipython-input-8-e283adf5867a>\u001b[0m in \u001b[0;36mevaluate\u001b[0;34m(exp_root, result_df, pred_suffix)\u001b[0m\n\u001b[1;32m     14\u001b[0m     \u001b[0mpreds\u001b[0m \u001b[0;34m=\u001b[0m \u001b[0mlist\u001b[0m\u001b[0;34m(\u001b[0m\u001b[0mmap\u001b[0m\u001b[0;34m(\u001b[0m\u001b[0;32mlambda\u001b[0m \u001b[0mx\u001b[0m \u001b[0;34m:\u001b[0m \u001b[0mnp\u001b[0m\u001b[0;34m.\u001b[0m\u001b[0mload\u001b[0m\u001b[0;34m(\u001b[0m\u001b[0mx\u001b[0m\u001b[0;34m)\u001b[0m\u001b[0;34m,\u001b[0m \u001b[0mall_pred_files\u001b[0m\u001b[0;34m)\u001b[0m\u001b[0;34m)\u001b[0m\u001b[0;34m\u001b[0m\u001b[0;34m\u001b[0m\u001b[0m\n\u001b[1;32m     15\u001b[0m     \u001b[0;31m# stack the numpy files\u001b[0m\u001b[0;34m\u001b[0m\u001b[0;34m\u001b[0m\u001b[0;34m\u001b[0m\u001b[0m\n\u001b[0;32m---> 16\u001b[0;31m     \u001b[0mpreds\u001b[0m \u001b[0;34m=\u001b[0m \u001b[0mnp\u001b[0m\u001b[0;34m.\u001b[0m\u001b[0mconcatenate\u001b[0m\u001b[0;34m(\u001b[0m\u001b[0mpreds\u001b[0m\u001b[0;34m,\u001b[0m \u001b[0maxis\u001b[0m\u001b[0;34m=\u001b[0m\u001b[0;36m1\u001b[0m\u001b[0;34m)\u001b[0m\u001b[0;34m\u001b[0m\u001b[0;34m\u001b[0m\u001b[0m\n\u001b[0m\u001b[1;32m     17\u001b[0m \u001b[0;34m\u001b[0m\u001b[0m\n\u001b[1;32m     18\u001b[0m     \u001b[0;31m# calculate the mean differences\u001b[0m\u001b[0;34m\u001b[0m\u001b[0;34m\u001b[0m\u001b[0;34m\u001b[0m\u001b[0m\n",
          "\u001b[0;32m<__array_function__ internals>\u001b[0m in \u001b[0;36mconcatenate\u001b[0;34m(*args, **kwargs)\u001b[0m\n",
          "\u001b[0;31mValueError\u001b[0m: need at least one array to concatenate"
         ]
        }
       ]
      }
     },
     "329f4a1c6267475394dcf2003169e9a1": {
      "model_module": "@jupyter-widgets/controls",
      "model_module_version": "1.5.0",
      "model_name": "CheckboxModel",
      "state": {
       "description": "evaluate_",
       "disabled": false,
       "layout": "IPY_MODEL_a95d886b2a4d40218cb9b8248d6ec51d",
       "style": "IPY_MODEL_8fa04e2bc1bb4dcbaabb21f3586192ce",
       "value": true
      }
     },
     "332a7566554f4db2b39117bfd4ba1433": {
      "model_module": "@jupyter-widgets/base",
      "model_module_version": "1.2.0",
      "model_name": "LayoutModel",
      "state": {}
     },
     "354a8aab68654f97af5ed843ab7b4849": {
      "model_module": "@jupyter-widgets/base",
      "model_module_version": "1.2.0",
      "model_name": "LayoutModel",
      "state": {
       "grid_area": "filename",
       "width": "auto"
      }
     },
     "35f729de620e45c0993e6d830f108713": {
      "model_module": "@jupyter-widgets/controls",
      "model_module_version": "1.5.0",
      "model_name": "ButtonStyleModel",
      "state": {}
     },
     "39c897fcc0db4a998448be3ad43e9da6": {
      "model_module": "@jupyter-widgets/base",
      "model_module_version": "1.2.0",
      "model_name": "LayoutModel",
      "state": {}
     },
     "3aab73e132474f7cb607859c2e34315b": {
      "model_module": "@jupyter-widgets/base",
      "model_module_version": "1.2.0",
      "model_name": "LayoutModel",
      "state": {
       "display": "none",
       "width": "auto"
      }
     },
     "3ad3b185ff0f4a609a981871f56acb92": {
      "model_module": "@jupyter-widgets/base",
      "model_module_version": "1.2.0",
      "model_name": "LayoutModel",
      "state": {
       "display": "none"
      }
     },
     "3b2f338be2ae450d87252bc67721c4c8": {
      "model_module": "@jupyter-widgets/base",
      "model_module_version": "1.2.0",
      "model_name": "LayoutModel",
      "state": {}
     },
     "3fc5b2688d8f488387a9c7e5d96e3291": {
      "model_module": "@jupyter-widgets/base",
      "model_module_version": "1.2.0",
      "model_name": "LayoutModel",
      "state": {
       "display": "none",
       "width": "auto"
      }
     },
     "429de1f8cb2e48ecb878da52aba49ecf": {
      "model_module": "@jupyter-widgets/base",
      "model_module_version": "1.2.0",
      "model_name": "LayoutModel",
      "state": {
       "grid_area": "pathlist",
       "width": "auto"
      }
     },
     "4416aad4231d42e2be227567ebd399a2": {
      "model_module": "@jupyter-widgets/controls",
      "model_module_version": "1.5.0",
      "model_name": "DropdownModel",
      "state": {
       "_options_labels": [
        "/mnt/ssd/git/dynamic-cmr-models/exp/temp/relu_mse_comb_cce/2021-05-20_11_12",
        "/mnt/ssd/git/dynamic-cmr-models/exp/temp/relu_mse_comb_cce",
        "/mnt/ssd/git/dynamic-cmr-models/exp/temp",
        "/mnt/ssd/git/dynamic-cmr-models/exp",
        "/mnt/ssd/git/dynamic-cmr-models",
        "/mnt/ssd/git",
        "/mnt/ssd",
        "/mnt",
        "/"
       ],
       "index": 0,
       "layout": "IPY_MODEL_e5eb2cfc74cb490c93027dfb03ddfbe6",
       "style": "IPY_MODEL_4e55f8e423904a679a8294d829bedcff"
      }
     },
     "461664e6bf0f42f5af15467a20e220a3": {
      "model_module": "@jupyter-widgets/controls",
      "model_module_version": "1.5.0",
      "model_name": "VBoxModel",
      "state": {
       "_dom_classes": [
        "widget-interact"
       ],
       "children": [
        "IPY_MODEL_46731b9bddd24d3aae327018828f6139",
        "IPY_MODEL_aa3839d6280c4a0a8cb6d2be3891f522"
       ],
       "layout": "IPY_MODEL_de20416d47fc403f9abca8d124fa3bc7"
      }
     },
     "46731b9bddd24d3aae327018828f6139": {
      "model_module": "@jupyter-widgets/controls",
      "model_module_version": "1.5.0",
      "model_name": "CheckboxModel",
      "state": {
       "description": "evaluate_",
       "disabled": false,
       "layout": "IPY_MODEL_99c7ff18c8724bd683bafea2d5ef1d1c",
       "style": "IPY_MODEL_ddb88b534c7b433e9183d7dc4e727c60",
       "value": true
      }
     },
     "496d2f074c554d34be89eed654875cb6": {
      "model_module": "@jupyter-widgets/controls",
      "model_module_version": "1.5.0",
      "model_name": "DescriptionStyleModel",
      "state": {
       "description_width": ""
      }
     },
     "4bd11049b1724d78bc2eb89522898cdf": {
      "model_module": "@jupyter-widgets/controls",
      "model_module_version": "1.5.0",
      "model_name": "DescriptionStyleModel",
      "state": {
       "description_width": ""
      }
     },
     "4c2c8c1a694c4e0588f399eef6d1f90b": {
      "model_module": "@jupyter-widgets/controls",
      "model_module_version": "1.5.0",
      "model_name": "ButtonStyleModel",
      "state": {}
     },
     "4d8c7d5c8bdf4698bd15785fad5a64d1": {
      "model_module": "@jupyter-widgets/controls",
      "model_module_version": "1.5.0",
      "model_name": "HBoxModel",
      "state": {
       "children": [
        "IPY_MODEL_9730113fb0f5474399d7900e5c36289b",
        "IPY_MODEL_cc3025c5bc1f4db0a3bfe636b803000f",
        "IPY_MODEL_fcc193014de14f228b52f8278a808c67"
       ],
       "layout": "IPY_MODEL_eba350c538bd48d6b61ff9f2897ac5f4"
      }
     },
     "4e55f8e423904a679a8294d829bedcff": {
      "model_module": "@jupyter-widgets/controls",
      "model_module_version": "1.5.0",
      "model_name": "DescriptionStyleModel",
      "state": {
       "description_width": ""
      }
     },
     "4f179aca32e9496db349c2c54f81a44a": {
      "model_module": "@jupyter-widgets/base",
      "model_module_version": "1.2.0",
      "model_name": "LayoutModel",
      "state": {}
     },
     "52397d03d43f47f8a955fc09d0fb21ab": {
      "model_module": "@jupyter-widgets/controls",
      "model_module_version": "1.5.0",
      "model_name": "DropdownModel",
      "state": {
       "_options_labels": [
        "/mnt/ssd/git/dynamic-cmr-models/exp/temp/relu_mse_comb_cce/2021-05-20_11_12",
        "/mnt/ssd/git/dynamic-cmr-models/exp/temp/relu_mse_comb_cce",
        "/mnt/ssd/git/dynamic-cmr-models/exp/temp",
        "/mnt/ssd/git/dynamic-cmr-models/exp",
        "/mnt/ssd/git/dynamic-cmr-models",
        "/mnt/ssd/git",
        "/mnt/ssd",
        "/mnt",
        "/"
       ],
       "index": 0,
       "layout": "IPY_MODEL_d58cb68130b74410b22d0e1164c43caf",
       "style": "IPY_MODEL_f1ec6e11b1ed4582b3542e03aa9de4ec"
      }
     },
     "535269f6da2f4f7aa3da10bc8b8cb5b7": {
      "model_module": "@jupyter-widgets/base",
      "model_module_version": "1.2.0",
      "model_name": "LayoutModel",
      "state": {
       "display": "none",
       "grid_gap": "0px 0px",
       "grid_template_areas": "\n                    'pathlist filename'\n                    'dircontent dircontent'\n                    ",
       "grid_template_columns": "60% 40%",
       "grid_template_rows": "auto auto",
       "width": "500px"
      }
     },
     "54e471bba4fa45a393db30f073f588f0": {
      "model_module": "@jupyter-widgets/controls",
      "model_module_version": "1.5.0",
      "model_name": "DescriptionStyleModel",
      "state": {
       "description_width": ""
      }
     },
     "572feb6f7374465ebe3ddd184741c696": {
      "model_module": "@jupyter-widgets/base",
      "model_module_version": "1.2.0",
      "model_name": "LayoutModel",
      "state": {}
     },
     "59c08a601a6e420d8bb4114925d5ac01": {
      "model_module": "@jupyter-widgets/base",
      "model_module_version": "1.2.0",
      "model_name": "LayoutModel",
      "state": {
       "width": "auto"
      }
     },
     "5a0f40796f48400187b0d5e3aeb2ac3c": {
      "model_module": "@jupyter-widgets/controls",
      "model_module_version": "1.5.0",
      "model_name": "VBoxModel",
      "state": {
       "_dom_classes": [
        "widget-interact"
       ],
       "children": [
        "IPY_MODEL_329f4a1c6267475394dcf2003169e9a1",
        "IPY_MODEL_31d7ef1bf2064f7793a805ad8fe97ff1"
       ],
       "layout": "IPY_MODEL_572feb6f7374465ebe3ddd184741c696"
      }
     },
     "5ede6802c18e4eeb80245393cc538955": {
      "model_module": "@jupyter-widgets/controls",
      "model_module_version": "1.5.0",
      "model_name": "TextModel",
      "state": {
       "layout": "IPY_MODEL_ced875f6236249b0abaf550a5b4ece69",
       "placeholder": "output filename",
       "style": "IPY_MODEL_2924cb9277d541a1829d1eef1bf082fa"
      }
     },
     "60602a9f6786466aa018ff7fa2a354ff": {
      "model_module": "@jupyter-widgets/base",
      "model_module_version": "1.2.0",
      "model_name": "LayoutModel",
      "state": {
       "width": "auto"
      }
     },
     "631a58fe4cdb49b889884862987aff0c": {
      "model_module": "@jupyter-widgets/controls",
      "model_module_version": "1.5.0",
      "model_name": "TextModel",
      "state": {
       "layout": "IPY_MODEL_ba7f946404ee475aa0d5ecd490ecf196",
       "placeholder": "output filename",
       "style": "IPY_MODEL_f13ba9f107d546b383743cffd2a74346"
      }
     },
     "68c5ca13b48a43af9dcd6e061e564a55": {
      "model_module": "@jupyter-widgets/base",
      "model_module_version": "1.2.0",
      "model_name": "LayoutModel",
      "state": {
       "width": "auto"
      }
     },
     "6f69a94534334022b26d7dde2d73f374": {
      "model_module": "@jupyter-widgets/controls",
      "model_module_version": "1.5.0",
      "model_name": "DescriptionStyleModel",
      "state": {
       "description_width": ""
      }
     },
     "6fa8d443de9e48b9806734f805431f5b": {
      "model_module": "@jupyter-widgets/base",
      "model_module_version": "1.2.0",
      "model_name": "LayoutModel",
      "state": {
       "width": "auto"
      }
     },
     "70bda09bfa27449ea7c9922ff80f050e": {
      "model_module": "@jupyter-widgets/controls",
      "model_module_version": "1.5.0",
      "model_name": "DescriptionStyleModel",
      "state": {
       "description_width": ""
      }
     },
     "7621cc301d3b4910a1e10de55c0daf3e": {
      "model_module": "@jupyter-widgets/controls",
      "model_module_version": "1.5.0",
      "model_name": "DescriptionStyleModel",
      "state": {
       "description_width": ""
      }
     },
     "7687d288c6274caf8e1211cbd9006105": {
      "model_module": "@jupyter-widgets/base",
      "model_module_version": "1.2.0",
      "model_name": "LayoutModel",
      "state": {
       "display": "none",
       "grid_gap": "0px 0px",
       "grid_template_areas": "\n                    'pathlist filename'\n                    'dircontent dircontent'\n                    ",
       "grid_template_columns": "60% 40%",
       "grid_template_rows": "auto auto",
       "width": "500px"
      }
     },
     "773254bfec394bd49978a5e7aa7d286a": {
      "model_module": "@jupyter-widgets/controls",
      "model_module_version": "1.5.0",
      "model_name": "DropdownModel",
      "state": {
       "_options_labels": [
        "/mnt/ssd/git/dynamic-cmr-models/exp/temp/relu_mse_comb_cce/2021-05-20_11_12",
        "/mnt/ssd/git/dynamic-cmr-models/exp/temp/relu_mse_comb_cce",
        "/mnt/ssd/git/dynamic-cmr-models/exp/temp",
        "/mnt/ssd/git/dynamic-cmr-models/exp",
        "/mnt/ssd/git/dynamic-cmr-models",
        "/mnt/ssd/git",
        "/mnt/ssd",
        "/mnt",
        "/"
       ],
       "index": 0,
       "layout": "IPY_MODEL_429de1f8cb2e48ecb878da52aba49ecf",
       "style": "IPY_MODEL_12db6814cffb46f1a0bacaa50e629ebb"
      }
     },
     "7d19e6d22f1b4b88bf7ef15372abb5e7": {
      "model_module": "@jupyter-widgets/controls",
      "model_module_version": "1.5.0",
      "model_name": "DescriptionStyleModel",
      "state": {
       "description_width": ""
      }
     },
     "7ecd89a3c0404f19bf68835f9a3b1f62": {
      "model_module": "@jupyter-widgets/controls",
      "model_module_version": "1.5.0",
      "model_name": "HTMLModel",
      "state": {
       "layout": "IPY_MODEL_ce846d3233e241d48cf4704558c3d6ef",
       "style": "IPY_MODEL_70bda09bfa27449ea7c9922ff80f050e"
      }
     },
     "836765bfa523420f99e7aaf23f93da5c": {
      "model_module": "@jupyter-widgets/base",
      "model_module_version": "1.2.0",
      "model_name": "LayoutModel",
      "state": {
       "width": "auto"
      }
     },
     "84f63dd0b2ee4ed982c58d818cad1798": {
      "model_module": "@jupyter-widgets/base",
      "model_module_version": "1.2.0",
      "model_name": "LayoutModel",
      "state": {
       "grid_area": "dircontent",
       "width": "auto"
      }
     },
     "8813194f71a34bf09c37a32d23618eb6": {
      "model_module": "@jupyter-widgets/controls",
      "model_module_version": "1.5.0",
      "model_name": "ButtonModel",
      "state": {
       "description": "Change",
       "layout": "IPY_MODEL_68c5ca13b48a43af9dcd6e061e564a55",
       "style": "IPY_MODEL_35f729de620e45c0993e6d830f108713"
      }
     },
     "8fa04e2bc1bb4dcbaabb21f3586192ce": {
      "model_module": "@jupyter-widgets/controls",
      "model_module_version": "1.5.0",
      "model_name": "DescriptionStyleModel",
      "state": {
       "description_width": ""
      }
     },
     "9027aa5dd8544dc2a019e50e4cf0e349": {
      "model_module": "@jupyter-widgets/controls",
      "model_module_version": "1.5.0",
      "model_name": "DescriptionStyleModel",
      "state": {
       "description_width": ""
      }
     },
     "921e3666aaf240b6b81b520845b5f0ce": {
      "model_module": "@jupyter-widgets/controls",
      "model_module_version": "1.5.0",
      "model_name": "HTMLModel",
      "state": {
       "layout": "IPY_MODEL_0e4beaca17bf466196dbad18615c838d",
       "placeholder": "",
       "style": "IPY_MODEL_54e471bba4fa45a393db30f073f588f0",
       "value": "<span style=\"margin-left:10px; color:green;\">/mnt/ssd/git/dynamic-cmr-models/exp/temp/relu_mse_comb_cce/2021-05-20_11_12/</span>"
      }
     },
     "9730113fb0f5474399d7900e5c36289b": {
      "model_module": "@jupyter-widgets/controls",
      "model_module_version": "1.5.0",
      "model_name": "ButtonModel",
      "state": {
       "description": "Change",
       "layout": "IPY_MODEL_efb41559361d41d0a6b8236131fe5cec",
       "style": "IPY_MODEL_fc30b5f6d7984eb19aec59a078a48bcc"
      }
     },
     "99c7ff18c8724bd683bafea2d5ef1d1c": {
      "model_module": "@jupyter-widgets/base",
      "model_module_version": "1.2.0",
      "model_name": "LayoutModel",
      "state": {}
     },
     "99ef895f9d4e468ba73ab486910e147a": {
      "model_module": "@jupyter-widgets/controls",
      "model_module_version": "1.5.0",
      "model_name": "CheckboxModel",
      "state": {
       "description": "evaluate_",
       "disabled": false,
       "layout": "IPY_MODEL_332a7566554f4db2b39117bfd4ba1433",
       "style": "IPY_MODEL_009a587ef08f4470824ef0eaa97d88cd",
       "value": true
      }
     },
     "9fb817c1a25c4a61a4fe75f37576e5aa": {
      "model_module": "@jupyter-widgets/base",
      "model_module_version": "1.2.0",
      "model_name": "LayoutModel",
      "state": {
       "grid_area": "dircontent",
       "width": "auto"
      }
     },
     "9fca0cdbb3104bf3a2621551676011f7": {
      "model_module": "@jupyter-widgets/base",
      "model_module_version": "1.2.0",
      "model_name": "LayoutModel",
      "state": {}
     },
     "a1cef8a7c1194ba0b9b294b93387ad94": {
      "model_module": "@jupyter-widgets/controls",
      "model_module_version": "1.5.0",
      "model_name": "HTMLModel",
      "state": {
       "layout": "IPY_MODEL_0cd3acbb864b4b83af26c440aecf83ef",
       "placeholder": "",
       "style": "IPY_MODEL_2a71426a8e2e457ca948d7e83fd305f1",
       "value": "<span style=\"margin-left:10px; color:green;\">/mnt/ssd/git/dynamic-cmr-models/exp/temp/relu_mse_comb_cce/2021-05-20_11_12/</span>"
      }
     },
     "a4459f3cc51f44b3839e0a8cf88e0179": {
      "model_module": "@jupyter-widgets/controls",
      "model_module_version": "1.5.0",
      "model_name": "DropdownModel",
      "state": {
       "_options_labels": [
        "/mnt/ssd/git/dynamic-cmr-models/exp/temp/relu_mse_comb_cce/2021-05-20_11_12",
        "/mnt/ssd/git/dynamic-cmr-models/exp/temp/relu_mse_comb_cce",
        "/mnt/ssd/git/dynamic-cmr-models/exp/temp",
        "/mnt/ssd/git/dynamic-cmr-models/exp",
        "/mnt/ssd/git/dynamic-cmr-models",
        "/mnt/ssd/git",
        "/mnt/ssd",
        "/mnt",
        "/"
       ],
       "index": 0,
       "layout": "IPY_MODEL_2f6cea18d34449cdabf351796af0bd0b",
       "style": "IPY_MODEL_d0a775a66f9445df993e747e1cca9a29"
      }
     },
     "a77fedc2b28444db8f119687ebdb5a31": {
      "model_module": "@jupyter-widgets/controls",
      "model_module_version": "1.5.0",
      "model_name": "DescriptionStyleModel",
      "state": {
       "description_width": ""
      }
     },
     "a95d886b2a4d40218cb9b8248d6ec51d": {
      "model_module": "@jupyter-widgets/base",
      "model_module_version": "1.2.0",
      "model_name": "LayoutModel",
      "state": {}
     },
     "a99193aae83248d09c4e8e9725c67076": {
      "model_module": "@jupyter-widgets/controls",
      "model_module_version": "1.5.0",
      "model_name": "HTMLModel",
      "state": {
       "layout": "IPY_MODEL_3b2f338be2ae450d87252bc67721c4c8",
       "placeholder": "",
       "style": "IPY_MODEL_9027aa5dd8544dc2a019e50e4cf0e349",
       "value": "<span style=\"margin-left:10px; color:green;\">/mnt/ssd/git/dynamic-cmr-models/exp/temp/relu_mse_comb_cce/2021-05-20_11_12/</span>"
      }
     },
     "aa3839d6280c4a0a8cb6d2be3891f522": {
      "model_module": "@jupyter-widgets/output",
      "model_module_version": "1.0.0",
      "model_name": "OutputModel",
      "state": {
       "layout": "IPY_MODEL_4f179aca32e9496db349c2c54f81a44a",
       "outputs": [
        {
         "name": "stdout",
         "output_type": "stream",
         "text": "eval: /mnt/ssd/git/dynamic-cmr-models/exp/temp/relu_mse_comb_cce/2021-05-20_11_12/\n0\n"
        },
        {
         "ename": "ValueError",
         "evalue": "need at least one array to concatenate",
         "output_type": "error",
         "traceback": [
          "\u001b[0;31m---------------------------------------------------------------------------\u001b[0m",
          "\u001b[0;31mValueError\u001b[0m                                Traceback (most recent call last)",
          "\u001b[0;32m~/anaconda3/envs/dcmr/lib/python3.8/site-packages/ipywidgets/widgets/interaction.py\u001b[0m in \u001b[0;36mupdate\u001b[0;34m(self, *args)\u001b[0m\n\u001b[1;32m    254\u001b[0m                     \u001b[0mvalue\u001b[0m \u001b[0;34m=\u001b[0m \u001b[0mwidget\u001b[0m\u001b[0;34m.\u001b[0m\u001b[0mget_interact_value\u001b[0m\u001b[0;34m(\u001b[0m\u001b[0;34m)\u001b[0m\u001b[0;34m\u001b[0m\u001b[0;34m\u001b[0m\u001b[0m\n\u001b[1;32m    255\u001b[0m                     \u001b[0mself\u001b[0m\u001b[0;34m.\u001b[0m\u001b[0mkwargs\u001b[0m\u001b[0;34m[\u001b[0m\u001b[0mwidget\u001b[0m\u001b[0;34m.\u001b[0m\u001b[0m_kwarg\u001b[0m\u001b[0;34m]\u001b[0m \u001b[0;34m=\u001b[0m \u001b[0mvalue\u001b[0m\u001b[0;34m\u001b[0m\u001b[0;34m\u001b[0m\u001b[0m\n\u001b[0;32m--> 256\u001b[0;31m                 \u001b[0mself\u001b[0m\u001b[0;34m.\u001b[0m\u001b[0mresult\u001b[0m \u001b[0;34m=\u001b[0m \u001b[0mself\u001b[0m\u001b[0;34m.\u001b[0m\u001b[0mf\u001b[0m\u001b[0;34m(\u001b[0m\u001b[0;34m**\u001b[0m\u001b[0mself\u001b[0m\u001b[0;34m.\u001b[0m\u001b[0mkwargs\u001b[0m\u001b[0;34m)\u001b[0m\u001b[0;34m\u001b[0m\u001b[0;34m\u001b[0m\u001b[0m\n\u001b[0m\u001b[1;32m    257\u001b[0m                 \u001b[0mshow_inline_matplotlib_plots\u001b[0m\u001b[0;34m(\u001b[0m\u001b[0;34m)\u001b[0m\u001b[0;34m\u001b[0m\u001b[0;34m\u001b[0m\u001b[0m\n\u001b[1;32m    258\u001b[0m                 \u001b[0;32mif\u001b[0m \u001b[0mself\u001b[0m\u001b[0;34m.\u001b[0m\u001b[0mauto_display\u001b[0m \u001b[0;32mand\u001b[0m \u001b[0mself\u001b[0m\u001b[0;34m.\u001b[0m\u001b[0mresult\u001b[0m \u001b[0;32mis\u001b[0m \u001b[0;32mnot\u001b[0m \u001b[0;32mNone\u001b[0m\u001b[0;34m:\u001b[0m\u001b[0;34m\u001b[0m\u001b[0;34m\u001b[0m\u001b[0m\n",
          "\u001b[0;32m<ipython-input-5-87dedee55f78>\u001b[0m in \u001b[0;36meval_interact\u001b[0;34m(evaluate_)\u001b[0m\n\u001b[1;32m      6\u001b[0m     \u001b[0;32mglobal\u001b[0m \u001b[0mdf\u001b[0m\u001b[0;34m\u001b[0m\u001b[0;34m\u001b[0m\u001b[0m\n\u001b[1;32m      7\u001b[0m     \u001b[0;32mif\u001b[0m \u001b[0mevaluate_\u001b[0m\u001b[0;34m:\u001b[0m\u001b[0;34m\u001b[0m\u001b[0;34m\u001b[0m\u001b[0m\n\u001b[0;32m----> 8\u001b[0;31m         \u001b[0mdf\u001b[0m \u001b[0;34m=\u001b[0m \u001b[0mevaluate\u001b[0m\u001b[0;34m(\u001b[0m\u001b[0mfchooser\u001b[0m\u001b[0;34m.\u001b[0m\u001b[0mselected\u001b[0m\u001b[0;34m,\u001b[0m \u001b[0mpred_suffix\u001b[0m\u001b[0;34m=\u001b[0m\u001b[0;34m'acdc'\u001b[0m\u001b[0;34m)\u001b[0m\u001b[0;34m\u001b[0m\u001b[0;34m\u001b[0m\u001b[0m\n\u001b[0m",
          "\u001b[0;32m<ipython-input-4-4f2c12a736e5>\u001b[0m in \u001b[0;36mevaluate\u001b[0;34m(exp_root, result_df, pred_suffix)\u001b[0m\n\u001b[1;32m     12\u001b[0m     \u001b[0mpreds\u001b[0m \u001b[0;34m=\u001b[0m \u001b[0mlist\u001b[0m\u001b[0;34m(\u001b[0m\u001b[0mmap\u001b[0m\u001b[0;34m(\u001b[0m\u001b[0;32mlambda\u001b[0m \u001b[0mx\u001b[0m \u001b[0;34m:\u001b[0m \u001b[0mnp\u001b[0m\u001b[0;34m.\u001b[0m\u001b[0mload\u001b[0m\u001b[0;34m(\u001b[0m\u001b[0mx\u001b[0m\u001b[0;34m)\u001b[0m\u001b[0;34m,\u001b[0m \u001b[0mall_pred_files\u001b[0m\u001b[0;34m)\u001b[0m\u001b[0;34m)\u001b[0m\u001b[0;34m\u001b[0m\u001b[0;34m\u001b[0m\u001b[0m\n\u001b[1;32m     13\u001b[0m     \u001b[0;31m# stack the numpy files\u001b[0m\u001b[0;34m\u001b[0m\u001b[0;34m\u001b[0m\u001b[0;34m\u001b[0m\u001b[0m\n\u001b[0;32m---> 14\u001b[0;31m     \u001b[0mpreds\u001b[0m \u001b[0;34m=\u001b[0m \u001b[0mnp\u001b[0m\u001b[0;34m.\u001b[0m\u001b[0mconcatenate\u001b[0m\u001b[0;34m(\u001b[0m\u001b[0mpreds\u001b[0m\u001b[0;34m,\u001b[0m \u001b[0maxis\u001b[0m\u001b[0;34m=\u001b[0m\u001b[0;36m1\u001b[0m\u001b[0;34m)\u001b[0m\u001b[0;34m\u001b[0m\u001b[0;34m\u001b[0m\u001b[0m\n\u001b[0m\u001b[1;32m     15\u001b[0m \u001b[0;34m\u001b[0m\u001b[0m\n\u001b[1;32m     16\u001b[0m     \u001b[0;31m# calculate the mean differences\u001b[0m\u001b[0;34m\u001b[0m\u001b[0;34m\u001b[0m\u001b[0;34m\u001b[0m\u001b[0m\n",
          "\u001b[0;32m<__array_function__ internals>\u001b[0m in \u001b[0;36mconcatenate\u001b[0;34m(*args, **kwargs)\u001b[0m\n",
          "\u001b[0;31mValueError\u001b[0m: need at least one array to concatenate"
         ]
        }
       ]
      }
     },
     "ab18e1b62ae846c3af6ac25d3b54234d": {
      "model_module": "@jupyter-widgets/base",
      "model_module_version": "1.2.0",
      "model_name": "LayoutModel",
      "state": {}
     },
     "af70069900774625b98d44f592737652": {
      "model_module": "@jupyter-widgets/controls",
      "model_module_version": "1.5.0",
      "model_name": "VBoxModel",
      "state": {
       "children": [
        "IPY_MODEL_e86e0255999d4c798a2c91cbfa157de3",
        "IPY_MODEL_1b7f109ba2d74d65be49eb754ae66d64",
        "IPY_MODEL_cc1cfd34db8d45c38fa669323bb650dc"
       ],
       "layout": "IPY_MODEL_60602a9f6786466aa018ff7fa2a354ff"
      }
     },
     "b0879a1bfff6488cbb7476fd0e8f0d82": {
      "model_module": "@jupyter-widgets/controls",
      "model_module_version": "1.5.0",
      "model_name": "TextModel",
      "state": {
       "layout": "IPY_MODEL_354a8aab68654f97af5ed843ab7b4849",
       "placeholder": "output filename",
       "style": "IPY_MODEL_ebbab12ed14740dba61753d9480e4b14"
      }
     },
     "b3d12b6ddb6a403abb57b3f4742713c3": {
      "model_module": "@jupyter-widgets/base",
      "model_module_version": "1.2.0",
      "model_name": "LayoutModel",
      "state": {
       "display": "none",
       "width": "auto"
      }
     },
     "b4cd0b31e1ee4d5eb0c63a7d1ad7271e": {
      "model_module": "@jupyter-widgets/controls",
      "model_module_version": "1.5.0",
      "model_name": "GridBoxModel",
      "state": {
       "children": [
        "IPY_MODEL_a4459f3cc51f44b3839e0a8cf88e0179",
        "IPY_MODEL_631a58fe4cdb49b889884862987aff0c",
        "IPY_MODEL_1e789c1be06248a392e43987897ef4d0"
       ],
       "layout": "IPY_MODEL_535269f6da2f4f7aa3da10bc8b8cb5b7"
      }
     },
     "b7d230bc7b6a4c42a0dd405a146617d8": {
      "model_module": "@jupyter-widgets/output",
      "model_module_version": "1.0.0",
      "model_name": "OutputModel",
      "state": {
       "layout": "IPY_MODEL_e23b8d56291746438efef11da8394675",
       "outputs": [
        {
         "name": "stdout",
         "output_type": "stream",
         "text": "eval: /mnt/ssd/git/dynamic-cmr-models/exp/temp/relu_mse_comb_cce/2021-05-20_11_12/\n1\nWARNING:tensorflow:From /home/sven/anaconda3/envs/dcmr/lib/python3.8/site-packages/tensorflow/python/util/deprecation.py:574: calling map_fn_v2 (from tensorflow.python.ops.map_fn) with dtype is deprecated and will be removed in a future version.\nInstructions for updating:\nUse fn_output_signature instead\n"
        }
       ]
      }
     },
     "ba7f946404ee475aa0d5ecd490ecf196": {
      "model_module": "@jupyter-widgets/base",
      "model_module_version": "1.2.0",
      "model_name": "LayoutModel",
      "state": {
       "grid_area": "filename",
       "width": "auto"
      }
     },
     "bb5ca051a4ee462fa6ba098e584323af": {
      "model_module": "@jupyter-widgets/base",
      "model_module_version": "1.2.0",
      "model_name": "LayoutModel",
      "state": {}
     },
     "c8f04eb1b39a407baeec485051b3edfd": {
      "model_module": "@jupyter-widgets/controls",
      "model_module_version": "1.5.0",
      "model_name": "SelectModel",
      "state": {
       "_options_labels": [
        "..",
        "acdc_pred",
        "config",
        "history",
        "model",
        "tensorboard_logs",
        "model.png",
        "model_summary.txt"
       ],
       "index": null,
       "layout": "IPY_MODEL_1a67a08a45ce4415b0ec04dd0626df2f",
       "rows": 8,
       "style": "IPY_MODEL_a77fedc2b28444db8f119687ebdb5a31"
      }
     },
     "c9061ba5438e47bfacf1ea5049bb8d8f": {
      "model_module": "@jupyter-widgets/controls",
      "model_module_version": "1.5.0",
      "model_name": "DescriptionStyleModel",
      "state": {
       "description_width": ""
      }
     },
     "c92a875ee25a4fca8c59f6e23836cfe0": {
      "model_module": "@jupyter-widgets/controls",
      "model_module_version": "1.5.0",
      "model_name": "DescriptionStyleModel",
      "state": {
       "description_width": ""
      }
     },
     "c9c4bdeb648040138f71a37e79ade68b": {
      "model_module": "@jupyter-widgets/base",
      "model_module_version": "1.2.0",
      "model_name": "LayoutModel",
      "state": {
       "display": "none",
       "grid_gap": "0px 0px",
       "grid_template_areas": "\n                    'pathlist filename'\n                    'dircontent dircontent'\n                    ",
       "grid_template_columns": "60% 40%",
       "grid_template_rows": "auto auto",
       "width": "500px"
      }
     },
     "cc1cfd34db8d45c38fa669323bb650dc": {
      "model_module": "@jupyter-widgets/controls",
      "model_module_version": "1.5.0",
      "model_name": "HBoxModel",
      "state": {
       "children": [
        "IPY_MODEL_12a1d2f633f941aaac29affc3e9eaf98",
        "IPY_MODEL_ceb27b97182044d29031c6f0a244ea57",
        "IPY_MODEL_a99193aae83248d09c4e8e9725c67076"
       ],
       "layout": "IPY_MODEL_d2831e90583542fc86c62cc731b94544"
      }
     },
     "cc3025c5bc1f4db0a3bfe636b803000f": {
      "model_module": "@jupyter-widgets/controls",
      "model_module_version": "1.5.0",
      "model_name": "ButtonModel",
      "state": {
       "description": "Cancel",
       "layout": "IPY_MODEL_3fc5b2688d8f488387a9c7e5d96e3291",
       "style": "IPY_MODEL_f856fdcbad1045b8befa1b75a39c1602"
      }
     },
     "ce846d3233e241d48cf4704558c3d6ef": {
      "model_module": "@jupyter-widgets/base",
      "model_module_version": "1.2.0",
      "model_name": "LayoutModel",
      "state": {
       "display": "none"
      }
     },
     "ceb27b97182044d29031c6f0a244ea57": {
      "model_module": "@jupyter-widgets/controls",
      "model_module_version": "1.5.0",
      "model_name": "ButtonModel",
      "state": {
       "description": "Cancel",
       "layout": "IPY_MODEL_3aab73e132474f7cb607859c2e34315b",
       "style": "IPY_MODEL_12acaa25ef844470a240231def5a9714"
      }
     },
     "ced875f6236249b0abaf550a5b4ece69": {
      "model_module": "@jupyter-widgets/base",
      "model_module_version": "1.2.0",
      "model_name": "LayoutModel",
      "state": {
       "grid_area": "filename",
       "width": "auto"
      }
     },
     "cefb03fc12db4618961cc6d8651483ed": {
      "model_module": "@jupyter-widgets/base",
      "model_module_version": "1.2.0",
      "model_name": "LayoutModel",
      "state": {
       "display": "none"
      }
     },
     "d0a775a66f9445df993e747e1cca9a29": {
      "model_module": "@jupyter-widgets/controls",
      "model_module_version": "1.5.0",
      "model_name": "DescriptionStyleModel",
      "state": {
       "description_width": ""
      }
     },
     "d180c57539334505acb3d0ad19659523": {
      "model_module": "@jupyter-widgets/controls",
      "model_module_version": "1.5.0",
      "model_name": "HTMLModel",
      "state": {
       "layout": "IPY_MODEL_e0cd15506ae244e6b6406e0b14283d87",
       "style": "IPY_MODEL_7621cc301d3b4910a1e10de55c0daf3e"
      }
     },
     "d2831e90583542fc86c62cc731b94544": {
      "model_module": "@jupyter-widgets/base",
      "model_module_version": "1.2.0",
      "model_name": "LayoutModel",
      "state": {
       "width": "auto"
      }
     },
     "d41e3519d6694a1fa507e853829e2705": {
      "model_module": "@jupyter-widgets/controls",
      "model_module_version": "1.5.0",
      "model_name": "VBoxModel",
      "state": {
       "children": [
        "IPY_MODEL_d180c57539334505acb3d0ad19659523",
        "IPY_MODEL_e5478ef017ca4a2b8884b4db830cb355",
        "IPY_MODEL_d7afdabb554c4c05bbc0f22d05699ced"
       ],
       "layout": "IPY_MODEL_06cd7a5bc9704e82ae2d117df155141e"
      }
     },
     "d58cb68130b74410b22d0e1164c43caf": {
      "model_module": "@jupyter-widgets/base",
      "model_module_version": "1.2.0",
      "model_name": "LayoutModel",
      "state": {
       "grid_area": "pathlist",
       "width": "auto"
      }
     },
     "d6bac335fcf64575b4bf92ea0986eba8": {
      "model_module": "@jupyter-widgets/base",
      "model_module_version": "1.2.0",
      "model_name": "LayoutModel",
      "state": {
       "display": "none",
       "grid_gap": "0px 0px",
       "grid_template_areas": "\n                    'pathlist filename'\n                    'dircontent dircontent'\n                    ",
       "grid_template_columns": "60% 40%",
       "grid_template_rows": "auto auto",
       "width": "500px"
      }
     },
     "d7afdabb554c4c05bbc0f22d05699ced": {
      "model_module": "@jupyter-widgets/controls",
      "model_module_version": "1.5.0",
      "model_name": "HBoxModel",
      "state": {
       "children": [
        "IPY_MODEL_8813194f71a34bf09c37a32d23618eb6",
        "IPY_MODEL_f85463187721406dbe2ea25bd2aeefaa",
        "IPY_MODEL_a1cef8a7c1194ba0b9b294b93387ad94"
       ],
       "layout": "IPY_MODEL_f5aeb02f581543b2b04f37f86cbc573d"
      }
     },
     "dc777e1f78b4430ba952780fabea86f6": {
      "model_module": "@jupyter-widgets/controls",
      "model_module_version": "1.5.0",
      "model_name": "CheckboxModel",
      "state": {
       "description": "evaluate_",
       "disabled": false,
       "layout": "IPY_MODEL_39c897fcc0db4a998448be3ad43e9da6",
       "style": "IPY_MODEL_1a038cd9519d4888992d132c49669d4e",
       "value": true
      }
     },
     "ddb88b534c7b433e9183d7dc4e727c60": {
      "model_module": "@jupyter-widgets/controls",
      "model_module_version": "1.5.0",
      "model_name": "DescriptionStyleModel",
      "state": {
       "description_width": ""
      }
     },
     "de20416d47fc403f9abca8d124fa3bc7": {
      "model_module": "@jupyter-widgets/base",
      "model_module_version": "1.2.0",
      "model_name": "LayoutModel",
      "state": {}
     },
     "def92abc2ebe423e8c9bf9926247ebb5": {
      "model_module": "@jupyter-widgets/controls",
      "model_module_version": "1.5.0",
      "model_name": "ButtonStyleModel",
      "state": {}
     },
     "e0cd15506ae244e6b6406e0b14283d87": {
      "model_module": "@jupyter-widgets/base",
      "model_module_version": "1.2.0",
      "model_name": "LayoutModel",
      "state": {
       "display": "none"
      }
     },
     "e23b8d56291746438efef11da8394675": {
      "model_module": "@jupyter-widgets/base",
      "model_module_version": "1.2.0",
      "model_name": "LayoutModel",
      "state": {}
     },
     "e25dd6a87c894946873d5a4cf6c01980": {
      "model_module": "@jupyter-widgets/controls",
      "model_module_version": "1.5.0",
      "model_name": "HBoxModel",
      "state": {
       "children": [
        "IPY_MODEL_03186b16882c40d990834c850e0ce742",
        "IPY_MODEL_1d1e8f1e46ea4b668499af8937aaea46",
        "IPY_MODEL_921e3666aaf240b6b81b520845b5f0ce"
       ],
       "layout": "IPY_MODEL_59c08a601a6e420d8bb4114925d5ac01"
      }
     },
     "e5478ef017ca4a2b8884b4db830cb355": {
      "model_module": "@jupyter-widgets/controls",
      "model_module_version": "1.5.0",
      "model_name": "GridBoxModel",
      "state": {
       "children": [
        "IPY_MODEL_52397d03d43f47f8a955fc09d0fb21ab",
        "IPY_MODEL_b0879a1bfff6488cbb7476fd0e8f0d82",
        "IPY_MODEL_0cd66c4c4fda49bbb0648dc3eb6e7f9a"
       ],
       "layout": "IPY_MODEL_7687d288c6274caf8e1211cbd9006105"
      }
     },
     "e5eb2cfc74cb490c93027dfb03ddfbe6": {
      "model_module": "@jupyter-widgets/base",
      "model_module_version": "1.2.0",
      "model_name": "LayoutModel",
      "state": {
       "grid_area": "pathlist",
       "width": "auto"
      }
     },
     "e6149656ceab46c3be81d08a9cf4a85b": {
      "model_module": "@jupyter-widgets/controls",
      "model_module_version": "1.5.0",
      "model_name": "VBoxModel",
      "state": {
       "_dom_classes": [
        "widget-interact"
       ],
       "children": [
        "IPY_MODEL_99ef895f9d4e468ba73ab486910e147a",
        "IPY_MODEL_0fd42b225d96461cb5ef5ba346b435c6"
       ],
       "layout": "IPY_MODEL_9fca0cdbb3104bf3a2621551676011f7"
      }
     },
     "e86e0255999d4c798a2c91cbfa157de3": {
      "model_module": "@jupyter-widgets/controls",
      "model_module_version": "1.5.0",
      "model_name": "HTMLModel",
      "state": {
       "layout": "IPY_MODEL_3ad3b185ff0f4a609a981871f56acb92",
       "style": "IPY_MODEL_c9061ba5438e47bfacf1ea5049bb8d8f"
      }
     },
     "eab0e7f9d53e43c7b83cb28a5993df13": {
      "model_module": "@jupyter-widgets/base",
      "model_module_version": "1.2.0",
      "model_name": "LayoutModel",
      "state": {
       "grid_area": "dircontent",
       "width": "auto"
      }
     },
     "eba350c538bd48d6b61ff9f2897ac5f4": {
      "model_module": "@jupyter-widgets/base",
      "model_module_version": "1.2.0",
      "model_name": "LayoutModel",
      "state": {
       "width": "auto"
      }
     },
     "ebbab12ed14740dba61753d9480e4b14": {
      "model_module": "@jupyter-widgets/controls",
      "model_module_version": "1.5.0",
      "model_name": "DescriptionStyleModel",
      "state": {
       "description_width": ""
      }
     },
     "ee361ff59f034764a41ae780d4c36a97": {
      "model_module": "@jupyter-widgets/controls",
      "model_module_version": "1.5.0",
      "model_name": "ButtonStyleModel",
      "state": {}
     },
     "efb41559361d41d0a6b8236131fe5cec": {
      "model_module": "@jupyter-widgets/base",
      "model_module_version": "1.2.0",
      "model_name": "LayoutModel",
      "state": {
       "width": "auto"
      }
     },
     "f06b14dadf1341c99174e81e1bf1f835": {
      "model_module": "@jupyter-widgets/controls",
      "model_module_version": "1.5.0",
      "model_name": "VBoxModel",
      "state": {
       "children": [
        "IPY_MODEL_7ecd89a3c0404f19bf68835f9a3b1f62",
        "IPY_MODEL_b4cd0b31e1ee4d5eb0c63a7d1ad7271e",
        "IPY_MODEL_e25dd6a87c894946873d5a4cf6c01980"
       ],
       "layout": "IPY_MODEL_245120d13de247ba88772ed7df2ecde1"
      }
     },
     "f13ba9f107d546b383743cffd2a74346": {
      "model_module": "@jupyter-widgets/controls",
      "model_module_version": "1.5.0",
      "model_name": "DescriptionStyleModel",
      "state": {
       "description_width": ""
      }
     },
     "f1ec6e11b1ed4582b3542e03aa9de4ec": {
      "model_module": "@jupyter-widgets/controls",
      "model_module_version": "1.5.0",
      "model_name": "DescriptionStyleModel",
      "state": {
       "description_width": ""
      }
     },
     "f31be24888a649fea7598aab053f633c": {
      "model_module": "@jupyter-widgets/controls",
      "model_module_version": "1.5.0",
      "model_name": "SelectModel",
      "state": {
       "_options_labels": [
        "..",
        "acdc_pred",
        "config",
        "history",
        "model",
        "tensorboard_logs",
        "model.png",
        "model_summary.txt"
       ],
       "index": null,
       "layout": "IPY_MODEL_84f63dd0b2ee4ed982c58d818cad1798",
       "rows": 8,
       "style": "IPY_MODEL_6f69a94534334022b26d7dde2d73f374"
      }
     },
     "f5aeb02f581543b2b04f37f86cbc573d": {
      "model_module": "@jupyter-widgets/base",
      "model_module_version": "1.2.0",
      "model_name": "LayoutModel",
      "state": {
       "width": "auto"
      }
     },
     "f85463187721406dbe2ea25bd2aeefaa": {
      "model_module": "@jupyter-widgets/controls",
      "model_module_version": "1.5.0",
      "model_name": "ButtonModel",
      "state": {
       "description": "Cancel",
       "layout": "IPY_MODEL_b3d12b6ddb6a403abb57b3f4742713c3",
       "style": "IPY_MODEL_def92abc2ebe423e8c9bf9926247ebb5"
      }
     },
     "f856fdcbad1045b8befa1b75a39c1602": {
      "model_module": "@jupyter-widgets/controls",
      "model_module_version": "1.5.0",
      "model_name": "ButtonStyleModel",
      "state": {}
     },
     "f879bdae0d9946848aca35a1102ba4ec": {
      "model_module": "@jupyter-widgets/controls",
      "model_module_version": "1.5.0",
      "model_name": "GridBoxModel",
      "state": {
       "children": [
        "IPY_MODEL_4416aad4231d42e2be227567ebd399a2",
        "IPY_MODEL_5ede6802c18e4eeb80245393cc538955",
        "IPY_MODEL_c8f04eb1b39a407baeec485051b3edfd"
       ],
       "layout": "IPY_MODEL_c9c4bdeb648040138f71a37e79ade68b"
      }
     },
     "fc30b5f6d7984eb19aec59a078a48bcc": {
      "model_module": "@jupyter-widgets/controls",
      "model_module_version": "1.5.0",
      "model_name": "ButtonStyleModel",
      "state": {}
     },
     "fcc193014de14f228b52f8278a808c67": {
      "model_module": "@jupyter-widgets/controls",
      "model_module_version": "1.5.0",
      "model_name": "HTMLModel",
      "state": {
       "layout": "IPY_MODEL_0f1cdd36797a438a8cd7137797df6cd5",
       "placeholder": "",
       "style": "IPY_MODEL_496d2f074c554d34be89eed654875cb6",
       "value": "<span style=\"margin-left:10px; color:green;\">/mnt/ssd/git/dynamic-cmr-models/exp/temp/relu_mse_comb_cce/2021-05-20_11_12/</span>"
      }
     }
    },
    "version_major": 2,
    "version_minor": 0
   }
  }
 },
 "nbformat": 4,
 "nbformat_minor": 4
}
