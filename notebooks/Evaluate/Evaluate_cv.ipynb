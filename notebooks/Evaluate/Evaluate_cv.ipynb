{
 "cells": [
  {
   "cell_type": "code",
   "execution_count": 1,
   "metadata": {},
   "outputs": [
    {
     "name": "stdout",
     "output_type": "stream",
     "text": [
      "search for root_dir and set working directory\n",
      "Working directory set to: /mnt/ssd/git/dynamic-cmr-models\n"
     ]
    }
   ],
   "source": [
    "# ------------------------------------------define logging and working directory\n",
    "from ProjectRoot import change_wd_to_project_root\n",
    "change_wd_to_project_root()\n",
    "# ------------------------------------------jupyter magic config\n",
    "%matplotlib inline\n",
    "%reload_ext autoreload\n",
    "%autoreload 2\n",
    "# ------------------------------------------ import helpers\n",
    "# this should import glob, os, and many other standard libs\n",
    "# local imports\n",
    "from src.utils.Notebook_imports import *\n",
    "from src.utils.Utils_io import Console_and_file_logger, init_config\n",
    "\n",
    "import pandas as pd\n",
    "import numpy as np\n",
    "from ipyfilechooser import FileChooser\n",
    "import glob\n",
    "import os\n"
   ]
  },
  {
   "cell_type": "code",
   "execution_count": 14,
   "metadata": {},
   "outputs": [],
   "source": [
    "def evaluate(exp_root, result_df='results.xlsx', pred_suffix = ''):\n",
    "    print('eval: {}'.format(exp_root))\n",
    "    from src.utils.Metrics import meandiff\n",
    "    phases = ['ED', 'MS', 'ES', 'PF', 'MD']\n",
    "    \n",
    "    \n",
    "    all_pred_files = sorted(glob.glob('{}/*/*/{}*/*.npy'.format(exp_root, pred_suffix), recursive=True))\n",
    "    print(len(all_pred_files))\n",
    "    #assert len(all_pred_files) ==4, 'we expect a four-fold cv, but found: {} predictions'.format(len(all_pred_files))\n",
    "    #print('predictions found: {}'.format(len(all_pred_files)))\n",
    "    # Load the numpy files\n",
    "    preds = list(map(lambda x : np.load(x), all_pred_files))\n",
    "    # stack the numpy files\n",
    "    preds = np.concatenate(preds, axis=1)\n",
    "    \n",
    "    # calculate the mean differences\n",
    "    res = meandiff(preds[0], preds[1], apply_sum=False, apply_average=False)\n",
    "    df = pd.DataFrame(res.numpy(), columns=phases)\n",
    "    df.to_excel(os.path.join(exp_root, result_df))\n",
    "    return df"
   ]
  },
  {
   "cell_type": "markdown",
   "metadata": {},
   "source": [
    "# Evaluate one experiment"
   ]
  },
  {
   "cell_type": "code",
   "execution_count": 15,
   "metadata": {},
   "outputs": [
    {
     "data": {
      "application/vnd.jupyter.widget-view+json": {
       "model_id": "65d5186dc8f5433ca6bdd8ea202ec1ce",
       "version_major": 2,
       "version_minor": 0
      },
      "text/plain": [
       "FileChooser(path='/mnt/ssd/git/dynamic-cmr-models/exp/local', filename='', title='HTML(value='', layout=Layout…"
      ]
     },
     "metadata": {},
     "output_type": "display_data"
    },
    {
     "data": {
      "application/vnd.jupyter.widget-view+json": {
       "model_id": "6b7e8ada0507446c8f1c34aa77461bc0",
       "version_major": 2,
       "version_minor": 0
      },
      "text/plain": [
       "interactive(children=(Checkbox(value=False, description='evaluate_'), Output()), _dom_classes=('widget-interac…"
      ]
     },
     "metadata": {},
     "output_type": "display_data"
    }
   ],
   "source": [
    "# choose an experiment folder\n",
    "fchooser = FileChooser(os.path.join(os.getcwd(),'exp/local'), '')\n",
    "display(fchooser)\n",
    "@interact\n",
    "def eval_interact(evaluate_=False):\n",
    "    global df\n",
    "    if evaluate_: \n",
    "        df = evaluate(fchooser.selected, pred_suffix='acdc')"
   ]
  },
  {
   "cell_type": "markdown",
   "metadata": {},
   "source": [
    "# Evaluate multiple experiments - create a results.xlsx with a row per patient"
   ]
  },
  {
   "cell_type": "code",
   "execution_count": 10,
   "metadata": {
    "collapsed": true,
    "jupyter": {
     "outputs_hidden": true
    },
    "tags": []
   },
   "outputs": [
    {
     "name": "stdout",
     "output_type": "stream",
     "text": [
      "26\n",
      "eval: exp/local/baseline/\n",
      "Faild at: exp/local/baseline/ with: we expect a four-fold cv, but found: 0 predictions\n",
      "eval: exp/local/miccai_baseline/\n",
      "eval: exp/local/miccai_baseline_dim12_64_64/\n",
      "eval: exp/local/miccai_baseline_dim6_64_64/\n",
      "eval: exp/local/miccai_baseline_down2/\n",
      "eval: exp/local/miccai_baseline_down3/\n",
      "eval: exp/local/miccai_baseline_filters16/\n",
      "eval: exp/local/miccai_baseline_filters32/\n",
      "eval: exp/local/miccai_baseline_filters48/\n",
      "Faild at: exp/local/miccai_baseline_filters48/ with: we expect a four-fold cv, but found: 0 predictions\n",
      "eval: exp/local/miccai_baseline_gausscaling1/\n",
      "eval: exp/local/miccai_baseline_gausscaling10/\n",
      "eval: exp/local/miccai_baseline_hist/\n",
      "eval: exp/local/miccai_baseline_lstm32/\n",
      "eval: exp/local/miccai_baseline_lstm64/\n",
      "eval: exp/local/miccai_baseline_noaug/\n",
      "eval: exp/local/miccai_baseline_nogaussmooth/\n",
      "eval: exp/local/miccai_baseline_paug18/\n",
      "eval: exp/local/miccai_baseline_paug2/\n",
      "Faild at: exp/local/miccai_baseline_paug2/ with: we expect a four-fold cv, but found: 0 predictions\n",
      "eval: exp/local/miccai_baseline_paug5/\n",
      "eval: exp/local/miccai_baseline_sigma05/\n",
      "eval: exp/local/miccai_baseline_sigma08/\n",
      "eval: exp/local/miccai_baseline_sigma2/\n",
      "eval: exp/local/miccai_baseline_sigma4/\n",
      "eval: exp/local/miccai_baseline_tres_taug2/\n",
      "eval: exp/local/miccai_baseline_tres_taug2_paug2_hist/\n",
      "Faild at: exp/local/miccai_baseline_tres_taug2_paug2_hist/ with: we expect a four-fold cv, but found: 0 predictions\n",
      "eval: exp/local/miccai_baseline_tresample55/\n"
     ]
    }
   ],
   "source": [
    "experiments = sorted(glob.glob('exp/local/*/'))\n",
    "print(len(experiments))\n",
    "excl = 'tres__'\n",
    "results = []\n",
    "results_names = []\n",
    "for e in experiments:\n",
    "    try:\n",
    "        if excl not in e:\n",
    "            results.append(evaluate(e))\n",
    "            results_names.append(e.split('/')[-2])\n",
    "        else:\n",
    "            print('skip by substring: {}'.format(excl))\n",
    "    except Exception as ex:\n",
    "        print('Faild at: {} with: {}'.format(e,ex))"
   ]
  },
  {
   "cell_type": "markdown",
   "metadata": {},
   "source": [
    "# Build one dataframe with one row per experiment"
   ]
  },
  {
   "cell_type": "markdown",
   "metadata": {},
   "source": [
    "# Error per Phase as df"
   ]
  },
  {
   "cell_type": "code",
   "execution_count": 11,
   "metadata": {},
   "outputs": [],
   "source": [
    "# helper, aggregate one experiment\n",
    "def aggregate_df(df):\n",
    "    cols = ['Mean/phase', 'SD/phase']\n",
    "    temp = pd.DataFrame(columns=cols)\n",
    "    temp[cols[0]] = df.mean(axis=0)\n",
    "    temp[cols[1]] = df.std(axis=0)\n",
    "    temp = temp.round(3)\n",
    "    temp = temp.stack()\n",
    "    temp['overall','Mean'] = df.values.mean()\n",
    "    temp['overall','SD'] = df.values.std()\n",
    "    temp['Cycle','Mean'] = np.mean(df.sum(axis=1))\n",
    "    temp['Cycle','SD'] = np.std(df.sum(axis=1))\n",
    "    return temp"
   ]
  },
  {
   "cell_type": "code",
   "execution_count": 12,
   "metadata": {},
   "outputs": [],
   "source": [
    "results_agg = [aggregate_df(elem) for elem in results]\n",
    "results_agg_df = pd.concat(results_agg, axis=1).T\n",
    "results_agg_df.index = results_names"
   ]
  },
  {
   "cell_type": "markdown",
   "metadata": {},
   "source": [
    "# Show the aggregated results per experiment"
   ]
  },
  {
   "cell_type": "code",
   "execution_count": 13,
   "metadata": {},
   "outputs": [
    {
     "data": {
      "text/html": [
       "<style  type=\"text/css\" >\n",
       "#T_72301_row20_col0,#T_72301_row20_col1,#T_72301_row20_col4,#T_72301_row20_col5,#T_72301_row20_col6,#T_72301_row20_col7,#T_72301_row20_col10,#T_72301_row20_col11,#T_72301_row20_col12,#T_72301_row20_col13,#T_72301_row21_col2,#T_72301_row21_col3,#T_72301_row21_col8,#T_72301_row21_col9{\n",
       "            background-color:  lightgreen;\n",
       "        }</style><table id=\"T_72301_\" ><thead>    <tr>        <th class=\"blank level0\" ></th>        <th class=\"col_heading level0 col0\" colspan=\"2\">ED</th>        <th class=\"col_heading level0 col2\" colspan=\"2\">MS</th>        <th class=\"col_heading level0 col4\" colspan=\"2\">ES</th>        <th class=\"col_heading level0 col6\" colspan=\"2\">PF</th>        <th class=\"col_heading level0 col8\" colspan=\"2\">MD</th>        <th class=\"col_heading level0 col10\" colspan=\"2\">overall</th>        <th class=\"col_heading level0 col12\" colspan=\"2\">Cycle</th>    </tr>    <tr>        <th class=\"blank level1\" ></th>        <th class=\"col_heading level1 col0\" >Mean/phase</th>        <th class=\"col_heading level1 col1\" >SD/phase</th>        <th class=\"col_heading level1 col2\" >Mean/phase</th>        <th class=\"col_heading level1 col3\" >SD/phase</th>        <th class=\"col_heading level1 col4\" >Mean/phase</th>        <th class=\"col_heading level1 col5\" >SD/phase</th>        <th class=\"col_heading level1 col6\" >Mean/phase</th>        <th class=\"col_heading level1 col7\" >SD/phase</th>        <th class=\"col_heading level1 col8\" >Mean/phase</th>        <th class=\"col_heading level1 col9\" >SD/phase</th>        <th class=\"col_heading level1 col10\" >Mean</th>        <th class=\"col_heading level1 col11\" >SD</th>        <th class=\"col_heading level1 col12\" >Mean</th>        <th class=\"col_heading level1 col13\" >SD</th>    </tr></thead><tbody>\n",
       "                <tr>\n",
       "                        <th id=\"T_72301_level0_row0\" class=\"row_heading level0 row0\" >miccai_baseline</th>\n",
       "                        <td id=\"T_72301_row0_col0\" class=\"data row0 col0\" >0.838000</td>\n",
       "                        <td id=\"T_72301_row0_col1\" class=\"data row0 col1\" >1.061000</td>\n",
       "                        <td id=\"T_72301_row0_col2\" class=\"data row0 col2\" >0.658000</td>\n",
       "                        <td id=\"T_72301_row0_col3\" class=\"data row0 col3\" >0.712000</td>\n",
       "                        <td id=\"T_72301_row0_col4\" class=\"data row0 col4\" >0.633000</td>\n",
       "                        <td id=\"T_72301_row0_col5\" class=\"data row0 col5\" >1.017000</td>\n",
       "                        <td id=\"T_72301_row0_col6\" class=\"data row0 col6\" >0.626000</td>\n",
       "                        <td id=\"T_72301_row0_col7\" class=\"data row0 col7\" >0.809000</td>\n",
       "                        <td id=\"T_72301_row0_col8\" class=\"data row0 col8\" >1.025000</td>\n",
       "                        <td id=\"T_72301_row0_col9\" class=\"data row0 col9\" >1.227000</td>\n",
       "                        <td id=\"T_72301_row0_col10\" class=\"data row0 col10\" >0.756115</td>\n",
       "                        <td id=\"T_72301_row0_col11\" class=\"data row0 col11\" >0.992897</td>\n",
       "                        <td id=\"T_72301_row0_col12\" class=\"data row0 col12\" >3.780576</td>\n",
       "                        <td id=\"T_72301_row0_col13\" class=\"data row0 col13\" >2.532959</td>\n",
       "            </tr>\n",
       "            <tr>\n",
       "                        <th id=\"T_72301_level0_row1\" class=\"row_heading level0 row1\" >miccai_baseline_dim12_64_64</th>\n",
       "                        <td id=\"T_72301_row1_col0\" class=\"data row1 col0\" >1.007000</td>\n",
       "                        <td id=\"T_72301_row1_col1\" class=\"data row1 col1\" >1.272000</td>\n",
       "                        <td id=\"T_72301_row1_col2\" class=\"data row1 col2\" >0.647000</td>\n",
       "                        <td id=\"T_72301_row1_col3\" class=\"data row1 col3\" >0.814000</td>\n",
       "                        <td id=\"T_72301_row1_col4\" class=\"data row1 col4\" >0.626000</td>\n",
       "                        <td id=\"T_72301_row1_col5\" class=\"data row1 col5\" >0.739000</td>\n",
       "                        <td id=\"T_72301_row1_col6\" class=\"data row1 col6\" >0.604000</td>\n",
       "                        <td id=\"T_72301_row1_col7\" class=\"data row1 col7\" >0.707000</td>\n",
       "                        <td id=\"T_72301_row1_col8\" class=\"data row1 col8\" >0.978000</td>\n",
       "                        <td id=\"T_72301_row1_col9\" class=\"data row1 col9\" >1.108000</td>\n",
       "                        <td id=\"T_72301_row1_col10\" class=\"data row1 col10\" >0.772662</td>\n",
       "                        <td id=\"T_72301_row1_col11\" class=\"data row1 col11\" >0.969373</td>\n",
       "                        <td id=\"T_72301_row1_col12\" class=\"data row1 col12\" >3.863309</td>\n",
       "                        <td id=\"T_72301_row1_col13\" class=\"data row1 col13\" >2.430920</td>\n",
       "            </tr>\n",
       "            <tr>\n",
       "                        <th id=\"T_72301_level0_row2\" class=\"row_heading level0 row2\" >miccai_baseline_dim6_64_64</th>\n",
       "                        <td id=\"T_72301_row2_col0\" class=\"data row2 col0\" >0.806000</td>\n",
       "                        <td id=\"T_72301_row2_col1\" class=\"data row2 col1\" >0.975000</td>\n",
       "                        <td id=\"T_72301_row2_col2\" class=\"data row2 col2\" >0.604000</td>\n",
       "                        <td id=\"T_72301_row2_col3\" class=\"data row2 col3\" >0.707000</td>\n",
       "                        <td id=\"T_72301_row2_col4\" class=\"data row2 col4\" >0.655000</td>\n",
       "                        <td id=\"T_72301_row2_col5\" class=\"data row2 col5\" >1.145000</td>\n",
       "                        <td id=\"T_72301_row2_col6\" class=\"data row2 col6\" >0.619000</td>\n",
       "                        <td id=\"T_72301_row2_col7\" class=\"data row2 col7\" >0.735000</td>\n",
       "                        <td id=\"T_72301_row2_col8\" class=\"data row2 col8\" >1.007000</td>\n",
       "                        <td id=\"T_72301_row2_col9\" class=\"data row2 col9\" >1.061000</td>\n",
       "                        <td id=\"T_72301_row2_col10\" class=\"data row2 col10\" >0.738129</td>\n",
       "                        <td id=\"T_72301_row2_col11\" class=\"data row2 col11\" >0.951590</td>\n",
       "                        <td id=\"T_72301_row2_col12\" class=\"data row2 col12\" >3.690647</td>\n",
       "                        <td id=\"T_72301_row2_col13\" class=\"data row2 col13\" >2.450514</td>\n",
       "            </tr>\n",
       "            <tr>\n",
       "                        <th id=\"T_72301_level0_row3\" class=\"row_heading level0 row3\" >miccai_baseline_down2</th>\n",
       "                        <td id=\"T_72301_row3_col0\" class=\"data row3 col0\" >1.007000</td>\n",
       "                        <td id=\"T_72301_row3_col1\" class=\"data row3 col1\" >1.388000</td>\n",
       "                        <td id=\"T_72301_row3_col2\" class=\"data row3 col2\" >1.367000</td>\n",
       "                        <td id=\"T_72301_row3_col3\" class=\"data row3 col3\" >1.633000</td>\n",
       "                        <td id=\"T_72301_row3_col4\" class=\"data row3 col4\" >0.845000</td>\n",
       "                        <td id=\"T_72301_row3_col5\" class=\"data row3 col5\" >1.592000</td>\n",
       "                        <td id=\"T_72301_row3_col6\" class=\"data row3 col6\" >0.745000</td>\n",
       "                        <td id=\"T_72301_row3_col7\" class=\"data row3 col7\" >1.387000</td>\n",
       "                        <td id=\"T_72301_row3_col8\" class=\"data row3 col8\" >1.737000</td>\n",
       "                        <td id=\"T_72301_row3_col9\" class=\"data row3 col9\" >2.002000</td>\n",
       "                        <td id=\"T_72301_row3_col10\" class=\"data row3 col10\" >1.140288</td>\n",
       "                        <td id=\"T_72301_row3_col11\" class=\"data row3 col11\" >1.654217</td>\n",
       "                        <td id=\"T_72301_row3_col12\" class=\"data row3 col12\" >5.701439</td>\n",
       "                        <td id=\"T_72301_row3_col13\" class=\"data row3 col13\" >4.941463</td>\n",
       "            </tr>\n",
       "            <tr>\n",
       "                        <th id=\"T_72301_level0_row4\" class=\"row_heading level0 row4\" >miccai_baseline_down3</th>\n",
       "                        <td id=\"T_72301_row4_col0\" class=\"data row4 col0\" >1.025000</td>\n",
       "                        <td id=\"T_72301_row4_col1\" class=\"data row4 col1\" >1.194000</td>\n",
       "                        <td id=\"T_72301_row4_col2\" class=\"data row4 col2\" >1.147000</td>\n",
       "                        <td id=\"T_72301_row4_col3\" class=\"data row4 col3\" >1.209000</td>\n",
       "                        <td id=\"T_72301_row4_col4\" class=\"data row4 col4\" >0.741000</td>\n",
       "                        <td id=\"T_72301_row4_col5\" class=\"data row4 col5\" >1.401000</td>\n",
       "                        <td id=\"T_72301_row4_col6\" class=\"data row4 col6\" >0.748000</td>\n",
       "                        <td id=\"T_72301_row4_col7\" class=\"data row4 col7\" >1.513000</td>\n",
       "                        <td id=\"T_72301_row4_col8\" class=\"data row4 col8\" >1.338000</td>\n",
       "                        <td id=\"T_72301_row4_col9\" class=\"data row4 col9\" >1.689000</td>\n",
       "                        <td id=\"T_72301_row4_col10\" class=\"data row4 col10\" >1.000000</td>\n",
       "                        <td id=\"T_72301_row4_col11\" class=\"data row4 col11\" >1.429897</td>\n",
       "                        <td id=\"T_72301_row4_col12\" class=\"data row4 col12\" >5.000000</td>\n",
       "                        <td id=\"T_72301_row4_col13\" class=\"data row4 col13\" >4.154395</td>\n",
       "            </tr>\n",
       "            <tr>\n",
       "                        <th id=\"T_72301_level0_row5\" class=\"row_heading level0 row5\" >miccai_baseline_filters16</th>\n",
       "                        <td id=\"T_72301_row5_col0\" class=\"data row5 col0\" >0.773000</td>\n",
       "                        <td id=\"T_72301_row5_col1\" class=\"data row5 col1\" >0.936000</td>\n",
       "                        <td id=\"T_72301_row5_col2\" class=\"data row5 col2\" >0.637000</td>\n",
       "                        <td id=\"T_72301_row5_col3\" class=\"data row5 col3\" >0.707000</td>\n",
       "                        <td id=\"T_72301_row5_col4\" class=\"data row5 col4\" >0.694000</td>\n",
       "                        <td id=\"T_72301_row5_col5\" class=\"data row5 col5\" >1.203000</td>\n",
       "                        <td id=\"T_72301_row5_col6\" class=\"data row5 col6\" >0.626000</td>\n",
       "                        <td id=\"T_72301_row5_col7\" class=\"data row5 col7\" >0.844000</td>\n",
       "                        <td id=\"T_72301_row5_col8\" class=\"data row5 col8\" >1.079000</td>\n",
       "                        <td id=\"T_72301_row5_col9\" class=\"data row5 col9\" >1.306000</td>\n",
       "                        <td id=\"T_72301_row5_col10\" class=\"data row5 col10\" >0.761871</td>\n",
       "                        <td id=\"T_72301_row5_col11\" class=\"data row5 col11\" >1.035409</td>\n",
       "                        <td id=\"T_72301_row5_col12\" class=\"data row5 col12\" >3.809353</td>\n",
       "                        <td id=\"T_72301_row5_col13\" class=\"data row5 col13\" >2.768590</td>\n",
       "            </tr>\n",
       "            <tr>\n",
       "                        <th id=\"T_72301_level0_row6\" class=\"row_heading level0 row6\" >miccai_baseline_filters32</th>\n",
       "                        <td id=\"T_72301_row6_col0\" class=\"data row6 col0\" >0.723000</td>\n",
       "                        <td id=\"T_72301_row6_col1\" class=\"data row6 col1\" >0.891000</td>\n",
       "                        <td id=\"T_72301_row6_col2\" class=\"data row6 col2\" >0.612000</td>\n",
       "                        <td id=\"T_72301_row6_col3\" class=\"data row6 col3\" >0.696000</td>\n",
       "                        <td id=\"T_72301_row6_col4\" class=\"data row6 col4\" >0.601000</td>\n",
       "                        <td id=\"T_72301_row6_col5\" class=\"data row6 col5\" >0.884000</td>\n",
       "                        <td id=\"T_72301_row6_col6\" class=\"data row6 col6\" >0.651000</td>\n",
       "                        <td id=\"T_72301_row6_col7\" class=\"data row6 col7\" >0.809000</td>\n",
       "                        <td id=\"T_72301_row6_col8\" class=\"data row6 col8\" >1.025000</td>\n",
       "                        <td id=\"T_72301_row6_col9\" class=\"data row6 col9\" >1.056000</td>\n",
       "                        <td id=\"T_72301_row6_col10\" class=\"data row6 col10\" >0.722302</td>\n",
       "                        <td id=\"T_72301_row6_col11\" class=\"data row6 col11\" >0.887486</td>\n",
       "                        <td id=\"T_72301_row6_col12\" class=\"data row6 col12\" >3.611511</td>\n",
       "                        <td id=\"T_72301_row6_col13\" class=\"data row6 col13\" >2.315139</td>\n",
       "            </tr>\n",
       "            <tr>\n",
       "                        <th id=\"T_72301_level0_row7\" class=\"row_heading level0 row7\" >miccai_baseline_gausscaling1</th>\n",
       "                        <td id=\"T_72301_row7_col0\" class=\"data row7 col0\" >0.871000</td>\n",
       "                        <td id=\"T_72301_row7_col1\" class=\"data row7 col1\" >1.161000</td>\n",
       "                        <td id=\"T_72301_row7_col2\" class=\"data row7 col2\" >0.612000</td>\n",
       "                        <td id=\"T_72301_row7_col3\" class=\"data row7 col3\" >0.664000</td>\n",
       "                        <td id=\"T_72301_row7_col4\" class=\"data row7 col4\" >0.698000</td>\n",
       "                        <td id=\"T_72301_row7_col5\" class=\"data row7 col5\" >1.178000</td>\n",
       "                        <td id=\"T_72301_row7_col6\" class=\"data row7 col6\" >0.741000</td>\n",
       "                        <td id=\"T_72301_row7_col7\" class=\"data row7 col7\" >1.461000</td>\n",
       "                        <td id=\"T_72301_row7_col8\" class=\"data row7 col8\" >1.230000</td>\n",
       "                        <td id=\"T_72301_row7_col9\" class=\"data row7 col9\" >1.463000</td>\n",
       "                        <td id=\"T_72301_row7_col10\" class=\"data row7 col10\" >0.830216</td>\n",
       "                        <td id=\"T_72301_row7_col11\" class=\"data row7 col11\" >1.237871</td>\n",
       "                        <td id=\"T_72301_row7_col12\" class=\"data row7 col12\" >4.151079</td>\n",
       "                        <td id=\"T_72301_row7_col13\" class=\"data row7 col13\" >3.575322</td>\n",
       "            </tr>\n",
       "            <tr>\n",
       "                        <th id=\"T_72301_level0_row8\" class=\"row_heading level0 row8\" >miccai_baseline_gausscaling10</th>\n",
       "                        <td id=\"T_72301_row8_col0\" class=\"data row8 col0\" >0.824000</td>\n",
       "                        <td id=\"T_72301_row8_col1\" class=\"data row8 col1\" >0.912000</td>\n",
       "                        <td id=\"T_72301_row8_col2\" class=\"data row8 col2\" >0.698000</td>\n",
       "                        <td id=\"T_72301_row8_col3\" class=\"data row8 col3\" >0.803000</td>\n",
       "                        <td id=\"T_72301_row8_col4\" class=\"data row8 col4\" >0.608000</td>\n",
       "                        <td id=\"T_72301_row8_col5\" class=\"data row8 col5\" >0.871000</td>\n",
       "                        <td id=\"T_72301_row8_col6\" class=\"data row8 col6\" >0.691000</td>\n",
       "                        <td id=\"T_72301_row8_col7\" class=\"data row8 col7\" >0.878000</td>\n",
       "                        <td id=\"T_72301_row8_col8\" class=\"data row8 col8\" >1.014000</td>\n",
       "                        <td id=\"T_72301_row8_col9\" class=\"data row8 col9\" >1.127000</td>\n",
       "                        <td id=\"T_72301_row8_col10\" class=\"data row8 col10\" >0.766906</td>\n",
       "                        <td id=\"T_72301_row8_col11\" class=\"data row8 col11\" >0.933963</td>\n",
       "                        <td id=\"T_72301_row8_col12\" class=\"data row8 col12\" >3.834532</td>\n",
       "                        <td id=\"T_72301_row8_col13\" class=\"data row8 col13\" >2.448306</td>\n",
       "            </tr>\n",
       "            <tr>\n",
       "                        <th id=\"T_72301_level0_row9\" class=\"row_heading level0 row9\" >miccai_baseline_hist</th>\n",
       "                        <td id=\"T_72301_row9_col0\" class=\"data row9 col0\" >1.094000</td>\n",
       "                        <td id=\"T_72301_row9_col1\" class=\"data row9 col1\" >1.146000</td>\n",
       "                        <td id=\"T_72301_row9_col2\" class=\"data row9 col2\" >0.594000</td>\n",
       "                        <td id=\"T_72301_row9_col3\" class=\"data row9 col3\" >0.672000</td>\n",
       "                        <td id=\"T_72301_row9_col4\" class=\"data row9 col4\" >0.619000</td>\n",
       "                        <td id=\"T_72301_row9_col5\" class=\"data row9 col5\" >0.778000</td>\n",
       "                        <td id=\"T_72301_row9_col6\" class=\"data row9 col6\" >0.586000</td>\n",
       "                        <td id=\"T_72301_row9_col7\" class=\"data row9 col7\" >0.734000</td>\n",
       "                        <td id=\"T_72301_row9_col8\" class=\"data row9 col8\" >1.047000</td>\n",
       "                        <td id=\"T_72301_row9_col9\" class=\"data row9 col9\" >1.208000</td>\n",
       "                        <td id=\"T_72301_row9_col10\" class=\"data row9 col10\" >0.787770</td>\n",
       "                        <td id=\"T_72301_row9_col11\" class=\"data row9 col11\" >0.961261</td>\n",
       "                        <td id=\"T_72301_row9_col12\" class=\"data row9 col12\" >3.938849</td>\n",
       "                        <td id=\"T_72301_row9_col13\" class=\"data row9 col13\" >2.330560</td>\n",
       "            </tr>\n",
       "            <tr>\n",
       "                        <th id=\"T_72301_level0_row10\" class=\"row_heading level0 row10\" >miccai_baseline_lstm32</th>\n",
       "                        <td id=\"T_72301_row10_col0\" class=\"data row10 col0\" >0.899000</td>\n",
       "                        <td id=\"T_72301_row10_col1\" class=\"data row10 col1\" >0.945000</td>\n",
       "                        <td id=\"T_72301_row10_col2\" class=\"data row10 col2\" >0.741000</td>\n",
       "                        <td id=\"T_72301_row10_col3\" class=\"data row10 col3\" >1.084000</td>\n",
       "                        <td id=\"T_72301_row10_col4\" class=\"data row10 col4\" >0.669000</td>\n",
       "                        <td id=\"T_72301_row10_col5\" class=\"data row10 col5\" >0.972000</td>\n",
       "                        <td id=\"T_72301_row10_col6\" class=\"data row10 col6\" >0.723000</td>\n",
       "                        <td id=\"T_72301_row10_col7\" class=\"data row10 col7\" >1.019000</td>\n",
       "                        <td id=\"T_72301_row10_col8\" class=\"data row10 col8\" >1.054000</td>\n",
       "                        <td id=\"T_72301_row10_col9\" class=\"data row10 col9\" >1.131000</td>\n",
       "                        <td id=\"T_72301_row10_col10\" class=\"data row10 col10\" >0.817266</td>\n",
       "                        <td id=\"T_72301_row10_col11\" class=\"data row10 col11\" >1.040056</td>\n",
       "                        <td id=\"T_72301_row10_col12\" class=\"data row10 col12\" >4.086331</td>\n",
       "                        <td id=\"T_72301_row10_col13\" class=\"data row10 col13\" >2.707522</td>\n",
       "            </tr>\n",
       "            <tr>\n",
       "                        <th id=\"T_72301_level0_row11\" class=\"row_heading level0 row11\" >miccai_baseline_lstm64</th>\n",
       "                        <td id=\"T_72301_row11_col0\" class=\"data row11 col0\" >0.835000</td>\n",
       "                        <td id=\"T_72301_row11_col1\" class=\"data row11 col1\" >1.013000</td>\n",
       "                        <td id=\"T_72301_row11_col2\" class=\"data row11 col2\" >0.719000</td>\n",
       "                        <td id=\"T_72301_row11_col3\" class=\"data row11 col3\" >0.793000</td>\n",
       "                        <td id=\"T_72301_row11_col4\" class=\"data row11 col4\" >0.763000</td>\n",
       "                        <td id=\"T_72301_row11_col5\" class=\"data row11 col5\" >0.751000</td>\n",
       "                        <td id=\"T_72301_row11_col6\" class=\"data row11 col6\" >0.752000</td>\n",
       "                        <td id=\"T_72301_row11_col7\" class=\"data row11 col7\" >1.071000</td>\n",
       "                        <td id=\"T_72301_row11_col8\" class=\"data row11 col8\" >1.155000</td>\n",
       "                        <td id=\"T_72301_row11_col9\" class=\"data row11 col9\" >1.333000</td>\n",
       "                        <td id=\"T_72301_row11_col10\" class=\"data row11 col10\" >0.844604</td>\n",
       "                        <td id=\"T_72301_row11_col11\" class=\"data row11 col11\" >1.025023</td>\n",
       "                        <td id=\"T_72301_row11_col12\" class=\"data row11 col12\" >4.223022</td>\n",
       "                        <td id=\"T_72301_row11_col13\" class=\"data row11 col13\" >2.666183</td>\n",
       "            </tr>\n",
       "            <tr>\n",
       "                        <th id=\"T_72301_level0_row12\" class=\"row_heading level0 row12\" >miccai_baseline_noaug</th>\n",
       "                        <td id=\"T_72301_row12_col0\" class=\"data row12 col0\" >0.813000</td>\n",
       "                        <td id=\"T_72301_row12_col1\" class=\"data row12 col1\" >0.947000</td>\n",
       "                        <td id=\"T_72301_row12_col2\" class=\"data row12 col2\" >0.608000</td>\n",
       "                        <td id=\"T_72301_row12_col3\" class=\"data row12 col3\" >0.775000</td>\n",
       "                        <td id=\"T_72301_row12_col4\" class=\"data row12 col4\" >0.680000</td>\n",
       "                        <td id=\"T_72301_row12_col5\" class=\"data row12 col5\" >0.908000</td>\n",
       "                        <td id=\"T_72301_row12_col6\" class=\"data row12 col6\" >0.676000</td>\n",
       "                        <td id=\"T_72301_row12_col7\" class=\"data row12 col7\" >0.733000</td>\n",
       "                        <td id=\"T_72301_row12_col8\" class=\"data row12 col8\" >1.119000</td>\n",
       "                        <td id=\"T_72301_row12_col9\" class=\"data row12 col9\" >1.276000</td>\n",
       "                        <td id=\"T_72301_row12_col10\" class=\"data row12 col10\" >0.779137</td>\n",
       "                        <td id=\"T_72301_row12_col11\" class=\"data row12 col11\" >0.963057</td>\n",
       "                        <td id=\"T_72301_row12_col12\" class=\"data row12 col12\" >3.895684</td>\n",
       "                        <td id=\"T_72301_row12_col13\" class=\"data row12 col13\" >2.462653</td>\n",
       "            </tr>\n",
       "            <tr>\n",
       "                        <th id=\"T_72301_level0_row13\" class=\"row_heading level0 row13\" >miccai_baseline_nogaussmooth</th>\n",
       "                        <td id=\"T_72301_row13_col0\" class=\"data row13 col0\" >0.946000</td>\n",
       "                        <td id=\"T_72301_row13_col1\" class=\"data row13 col1\" >1.297000</td>\n",
       "                        <td id=\"T_72301_row13_col2\" class=\"data row13 col2\" >0.647000</td>\n",
       "                        <td id=\"T_72301_row13_col3\" class=\"data row13 col3\" >0.827000</td>\n",
       "                        <td id=\"T_72301_row13_col4\" class=\"data row13 col4\" >0.773000</td>\n",
       "                        <td id=\"T_72301_row13_col5\" class=\"data row13 col5\" >1.355000</td>\n",
       "                        <td id=\"T_72301_row13_col6\" class=\"data row13 col6\" >0.766000</td>\n",
       "                        <td id=\"T_72301_row13_col7\" class=\"data row13 col7\" >1.324000</td>\n",
       "                        <td id=\"T_72301_row13_col8\" class=\"data row13 col8\" >1.194000</td>\n",
       "                        <td id=\"T_72301_row13_col9\" class=\"data row13 col9\" >1.522000</td>\n",
       "                        <td id=\"T_72301_row13_col10\" class=\"data row13 col10\" >0.865468</td>\n",
       "                        <td id=\"T_72301_row13_col11\" class=\"data row13 col11\" >1.297990</td>\n",
       "                        <td id=\"T_72301_row13_col12\" class=\"data row13 col12\" >4.327338</td>\n",
       "                        <td id=\"T_72301_row13_col13\" class=\"data row13 col13\" >3.604160</td>\n",
       "            </tr>\n",
       "            <tr>\n",
       "                        <th id=\"T_72301_level0_row14\" class=\"row_heading level0 row14\" >miccai_baseline_paug18</th>\n",
       "                        <td id=\"T_72301_row14_col0\" class=\"data row14 col0\" >0.813000</td>\n",
       "                        <td id=\"T_72301_row14_col1\" class=\"data row14 col1\" >0.966000</td>\n",
       "                        <td id=\"T_72301_row14_col2\" class=\"data row14 col2\" >0.658000</td>\n",
       "                        <td id=\"T_72301_row14_col3\" class=\"data row14 col3\" >0.707000</td>\n",
       "                        <td id=\"T_72301_row14_col4\" class=\"data row14 col4\" >0.597000</td>\n",
       "                        <td id=\"T_72301_row14_col5\" class=\"data row14 col5\" >0.860000</td>\n",
       "                        <td id=\"T_72301_row14_col6\" class=\"data row14 col6\" >0.651000</td>\n",
       "                        <td id=\"T_72301_row14_col7\" class=\"data row14 col7\" >0.848000</td>\n",
       "                        <td id=\"T_72301_row14_col8\" class=\"data row14 col8\" >0.993000</td>\n",
       "                        <td id=\"T_72301_row14_col9\" class=\"data row14 col9\" >1.121000</td>\n",
       "                        <td id=\"T_72301_row14_col10\" class=\"data row14 col10\" >0.742446</td>\n",
       "                        <td id=\"T_72301_row14_col11\" class=\"data row14 col11\" >0.920508</td>\n",
       "                        <td id=\"T_72301_row14_col12\" class=\"data row14 col12\" >3.712230</td>\n",
       "                        <td id=\"T_72301_row14_col13\" class=\"data row14 col13\" >2.485192</td>\n",
       "            </tr>\n",
       "            <tr>\n",
       "                        <th id=\"T_72301_level0_row15\" class=\"row_heading level0 row15\" >miccai_baseline_paug5</th>\n",
       "                        <td id=\"T_72301_row15_col0\" class=\"data row15 col0\" >0.806000</td>\n",
       "                        <td id=\"T_72301_row15_col1\" class=\"data row15 col1\" >0.886000</td>\n",
       "                        <td id=\"T_72301_row15_col2\" class=\"data row15 col2\" >0.683000</td>\n",
       "                        <td id=\"T_72301_row15_col3\" class=\"data row15 col3\" >0.806000</td>\n",
       "                        <td id=\"T_72301_row15_col4\" class=\"data row15 col4\" >0.691000</td>\n",
       "                        <td id=\"T_72301_row15_col5\" class=\"data row15 col5\" >1.077000</td>\n",
       "                        <td id=\"T_72301_row15_col6\" class=\"data row15 col6\" >0.583000</td>\n",
       "                        <td id=\"T_72301_row15_col7\" class=\"data row15 col7\" >0.725000</td>\n",
       "                        <td id=\"T_72301_row15_col8\" class=\"data row15 col8\" >0.978000</td>\n",
       "                        <td id=\"T_72301_row15_col9\" class=\"data row15 col9\" >1.051000</td>\n",
       "                        <td id=\"T_72301_row15_col10\" class=\"data row15 col10\" >0.748201</td>\n",
       "                        <td id=\"T_72301_row15_col11\" class=\"data row15 col11\" >0.927544</td>\n",
       "                        <td id=\"T_72301_row15_col12\" class=\"data row15 col12\" >3.741007</td>\n",
       "                        <td id=\"T_72301_row15_col13\" class=\"data row15 col13\" >2.634410</td>\n",
       "            </tr>\n",
       "            <tr>\n",
       "                        <th id=\"T_72301_level0_row16\" class=\"row_heading level0 row16\" >miccai_baseline_sigma05</th>\n",
       "                        <td id=\"T_72301_row16_col0\" class=\"data row16 col0\" >0.842000</td>\n",
       "                        <td id=\"T_72301_row16_col1\" class=\"data row16 col1\" >1.301000</td>\n",
       "                        <td id=\"T_72301_row16_col2\" class=\"data row16 col2\" >0.665000</td>\n",
       "                        <td id=\"T_72301_row16_col3\" class=\"data row16 col3\" >0.961000</td>\n",
       "                        <td id=\"T_72301_row16_col4\" class=\"data row16 col4\" >0.655000</td>\n",
       "                        <td id=\"T_72301_row16_col5\" class=\"data row16 col5\" >0.963000</td>\n",
       "                        <td id=\"T_72301_row16_col6\" class=\"data row16 col6\" >0.892000</td>\n",
       "                        <td id=\"T_72301_row16_col7\" class=\"data row16 col7\" >2.015000</td>\n",
       "                        <td id=\"T_72301_row16_col8\" class=\"data row16 col8\" >1.119000</td>\n",
       "                        <td id=\"T_72301_row16_col9\" class=\"data row16 col9\" >1.521000</td>\n",
       "                        <td id=\"T_72301_row16_col10\" class=\"data row16 col10\" >0.834532</td>\n",
       "                        <td id=\"T_72301_row16_col11\" class=\"data row16 col11\" >1.416232</td>\n",
       "                        <td id=\"T_72301_row16_col12\" class=\"data row16 col12\" >4.172662</td>\n",
       "                        <td id=\"T_72301_row16_col13\" class=\"data row16 col13\" >3.925435</td>\n",
       "            </tr>\n",
       "            <tr>\n",
       "                        <th id=\"T_72301_level0_row17\" class=\"row_heading level0 row17\" >miccai_baseline_sigma08</th>\n",
       "                        <td id=\"T_72301_row17_col0\" class=\"data row17 col0\" >0.838000</td>\n",
       "                        <td id=\"T_72301_row17_col1\" class=\"data row17 col1\" >1.133000</td>\n",
       "                        <td id=\"T_72301_row17_col2\" class=\"data row17 col2\" >0.601000</td>\n",
       "                        <td id=\"T_72301_row17_col3\" class=\"data row17 col3\" >0.718000</td>\n",
       "                        <td id=\"T_72301_row17_col4\" class=\"data row17 col4\" >0.647000</td>\n",
       "                        <td id=\"T_72301_row17_col5\" class=\"data row17 col5\" >1.026000</td>\n",
       "                        <td id=\"T_72301_row17_col6\" class=\"data row17 col6\" >0.640000</td>\n",
       "                        <td id=\"T_72301_row17_col7\" class=\"data row17 col7\" >0.824000</td>\n",
       "                        <td id=\"T_72301_row17_col8\" class=\"data row17 col8\" >1.011000</td>\n",
       "                        <td id=\"T_72301_row17_col9\" class=\"data row17 col9\" >1.221000</td>\n",
       "                        <td id=\"T_72301_row17_col10\" class=\"data row17 col10\" >0.747482</td>\n",
       "                        <td id=\"T_72301_row17_col11\" class=\"data row17 col11\" >1.012286</td>\n",
       "                        <td id=\"T_72301_row17_col12\" class=\"data row17 col12\" >3.737410</td>\n",
       "                        <td id=\"T_72301_row17_col13\" class=\"data row17 col13\" >2.809178</td>\n",
       "            </tr>\n",
       "            <tr>\n",
       "                        <th id=\"T_72301_level0_row18\" class=\"row_heading level0 row18\" >miccai_baseline_sigma2</th>\n",
       "                        <td id=\"T_72301_row18_col0\" class=\"data row18 col0\" >0.888000</td>\n",
       "                        <td id=\"T_72301_row18_col1\" class=\"data row18 col1\" >0.953000</td>\n",
       "                        <td id=\"T_72301_row18_col2\" class=\"data row18 col2\" >0.734000</td>\n",
       "                        <td id=\"T_72301_row18_col3\" class=\"data row18 col3\" >0.824000</td>\n",
       "                        <td id=\"T_72301_row18_col4\" class=\"data row18 col4\" >0.777000</td>\n",
       "                        <td id=\"T_72301_row18_col5\" class=\"data row18 col5\" >0.958000</td>\n",
       "                        <td id=\"T_72301_row18_col6\" class=\"data row18 col6\" >0.701000</td>\n",
       "                        <td id=\"T_72301_row18_col7\" class=\"data row18 col7\" >1.153000</td>\n",
       "                        <td id=\"T_72301_row18_col8\" class=\"data row18 col8\" >1.086000</td>\n",
       "                        <td id=\"T_72301_row18_col9\" class=\"data row18 col9\" >1.162000</td>\n",
       "                        <td id=\"T_72301_row18_col10\" class=\"data row18 col10\" >0.837410</td>\n",
       "                        <td id=\"T_72301_row18_col11\" class=\"data row18 col11\" >1.026012</td>\n",
       "                        <td id=\"T_72301_row18_col12\" class=\"data row18 col12\" >4.187050</td>\n",
       "                        <td id=\"T_72301_row18_col13\" class=\"data row18 col13\" >2.514900</td>\n",
       "            </tr>\n",
       "            <tr>\n",
       "                        <th id=\"T_72301_level0_row19\" class=\"row_heading level0 row19\" >miccai_baseline_sigma4</th>\n",
       "                        <td id=\"T_72301_row19_col0\" class=\"data row19 col0\" >1.266000</td>\n",
       "                        <td id=\"T_72301_row19_col1\" class=\"data row19 col1\" >1.196000</td>\n",
       "                        <td id=\"T_72301_row19_col2\" class=\"data row19 col2\" >1.615000</td>\n",
       "                        <td id=\"T_72301_row19_col3\" class=\"data row19 col3\" >1.464000</td>\n",
       "                        <td id=\"T_72301_row19_col4\" class=\"data row19 col4\" >1.090000</td>\n",
       "                        <td id=\"T_72301_row19_col5\" class=\"data row19 col5\" >1.355000</td>\n",
       "                        <td id=\"T_72301_row19_col6\" class=\"data row19 col6\" >0.712000</td>\n",
       "                        <td id=\"T_72301_row19_col7\" class=\"data row19 col7\" >0.790000</td>\n",
       "                        <td id=\"T_72301_row19_col8\" class=\"data row19 col8\" >1.317000</td>\n",
       "                        <td id=\"T_72301_row19_col9\" class=\"data row19 col9\" >1.338000</td>\n",
       "                        <td id=\"T_72301_row19_col10\" class=\"data row19 col10\" >1.200000</td>\n",
       "                        <td id=\"T_72301_row19_col11\" class=\"data row19 col11\" >1.283655</td>\n",
       "                        <td id=\"T_72301_row19_col12\" class=\"data row19 col12\" >6.000000</td>\n",
       "                        <td id=\"T_72301_row19_col13\" class=\"data row19 col13\" >3.169095</td>\n",
       "            </tr>\n",
       "            <tr>\n",
       "                        <th id=\"T_72301_level0_row20\" class=\"row_heading level0 row20\" >miccai_baseline_tres_taug2</th>\n",
       "                        <td id=\"T_72301_row20_col0\" class=\"data row20 col0\" >0.701000</td>\n",
       "                        <td id=\"T_72301_row20_col1\" class=\"data row20 col1\" >0.746000</td>\n",
       "                        <td id=\"T_72301_row20_col2\" class=\"data row20 col2\" >0.414000</td>\n",
       "                        <td id=\"T_72301_row20_col3\" class=\"data row20 col3\" >0.515000</td>\n",
       "                        <td id=\"T_72301_row20_col4\" class=\"data row20 col4\" >0.439000</td>\n",
       "                        <td id=\"T_72301_row20_col5\" class=\"data row20 col5\" >0.681000</td>\n",
       "                        <td id=\"T_72301_row20_col6\" class=\"data row20 col6\" >0.406000</td>\n",
       "                        <td id=\"T_72301_row20_col7\" class=\"data row20 col7\" >0.561000</td>\n",
       "                        <td id=\"T_72301_row20_col8\" class=\"data row20 col8\" >0.932000</td>\n",
       "                        <td id=\"T_72301_row20_col9\" class=\"data row20 col9\" >0.957000</td>\n",
       "                        <td id=\"T_72301_row20_col10\" class=\"data row20 col10\" >0.578417</td>\n",
       "                        <td id=\"T_72301_row20_col11\" class=\"data row20 col11\" >0.737950</td>\n",
       "                        <td id=\"T_72301_row20_col12\" class=\"data row20 col12\" >2.892086</td>\n",
       "                        <td id=\"T_72301_row20_col13\" class=\"data row20 col13\" >1.792031</td>\n",
       "            </tr>\n",
       "            <tr>\n",
       "                        <th id=\"T_72301_level0_row21\" class=\"row_heading level0 row21\" >miccai_baseline_tresample55</th>\n",
       "                        <td id=\"T_72301_row21_col0\" class=\"data row21 col0\" >0.773000</td>\n",
       "                        <td id=\"T_72301_row21_col1\" class=\"data row21 col1\" >0.880000</td>\n",
       "                        <td id=\"T_72301_row21_col2\" class=\"data row21 col2\" >0.392000</td>\n",
       "                        <td id=\"T_72301_row21_col3\" class=\"data row21 col3\" >0.511000</td>\n",
       "                        <td id=\"T_72301_row21_col4\" class=\"data row21 col4\" >0.507000</td>\n",
       "                        <td id=\"T_72301_row21_col5\" class=\"data row21 col5\" >1.004000</td>\n",
       "                        <td id=\"T_72301_row21_col6\" class=\"data row21 col6\" >0.446000</td>\n",
       "                        <td id=\"T_72301_row21_col7\" class=\"data row21 col7\" >0.597000</td>\n",
       "                        <td id=\"T_72301_row21_col8\" class=\"data row21 col8\" >0.921000</td>\n",
       "                        <td id=\"T_72301_row21_col9\" class=\"data row21 col9\" >0.892000</td>\n",
       "                        <td id=\"T_72301_row21_col10\" class=\"data row21 col10\" >0.607914</td>\n",
       "                        <td id=\"T_72301_row21_col11\" class=\"data row21 col11\" >0.823798</td>\n",
       "                        <td id=\"T_72301_row21_col12\" class=\"data row21 col12\" >3.039568</td>\n",
       "                        <td id=\"T_72301_row21_col13\" class=\"data row21 col13\" >2.109046</td>\n",
       "            </tr>\n",
       "    </tbody></table>"
      ],
      "text/plain": [
       "<pandas.io.formats.style.Styler at 0x7fa4e0285220>"
      ]
     },
     "execution_count": 13,
     "metadata": {},
     "output_type": "execute_result"
    }
   ],
   "source": [
    "# highlight the lowest values\n",
    "results_agg_df.style.highlight_min(color = 'lightgreen', axis = 0)"
   ]
  },
  {
   "cell_type": "markdown",
   "metadata": {},
   "source": [
    "# Error per phase, overall and per cardiac cycle"
   ]
  },
  {
   "cell_type": "code",
   "execution_count": 16,
   "metadata": {},
   "outputs": [
    {
     "name": "stdout",
     "output_type": "stream",
     "text": [
      "Mean per phase: \n",
      "ED    2.54\n",
      "MS    3.57\n",
      "ES    3.22\n",
      "PF    9.62\n",
      "MD    3.62\n",
      "dtype: float32\n",
      "Median per phase: \n",
      "ED     2.0\n",
      "MS     3.0\n",
      "ES     1.5\n",
      "PF    12.0\n",
      "MD     4.0\n",
      "dtype: float32\n",
      "Std per phase: \n",
      "ED    1.604413\n",
      "MS    1.590724\n",
      "ES    4.164739\n",
      "PF    5.206406\n",
      "MD    1.756834\n",
      "dtype: float32\n",
      "Mean overall: \n",
      "4.513999938964844\n",
      "Median overall: \n",
      "3.0\n",
      "Std overall: \n",
      "4.133981227874756\n",
      "sum per cycle mean: \n",
      "22.56999969482422\n",
      "sum per cycle std: \n",
      "6.159959316253662\n"
     ]
    }
   ],
   "source": [
    "print('Mean per phase: \\n{}'.format(df.mean(axis=0)))\n",
    "print('Median per phase: \\n{}'.format(df.median(axis=0)))\n",
    "print('Std per phase: \\n{}'.format(df.std(axis=0)))\n",
    "\n",
    "print('Mean overall: \\n{}'.format(df.values.mean()))\n",
    "print('Median overall: \\n{}'.format(np.median(df.values)))\n",
    "print('Std overall: \\n{}'.format(df.values.std()))\n",
    "\n",
    "print('sum per cycle mean: \\n{}'.format(np.mean(df.sum(axis=1))))\n",
    "print('sum per cycle std: \\n{}'.format(np.std(df.sum(axis=1))))"
   ]
  },
  {
   "cell_type": "markdown",
   "metadata": {},
   "source": [
    "# Violin plot - error per phase"
   ]
  },
  {
   "cell_type": "code",
   "execution_count": 28,
   "metadata": {},
   "outputs": [
    {
     "data": {
      "image/png": "[encoded data removed]",
      "text/plain": [
       "<Figure size 576x360 with 1 Axes>"
      ]
     },
     "metadata": {
      "needs_background": "light"
     },
     "output_type": "display_data"
    }
   ],
   "source": [
    "import seaborn as sb\n",
    "sb.set_context('paper')\n",
    "f = plt.figure(figsize=(8,5))\n",
    "ax = f.gca()\n",
    "ax.set_ylim(bottom=0, top=6)\n",
    "ax.set_ylabel('Cardiac phases')\n",
    "ax.set_xlabel('Cycle error')\n",
    "#_ = DF_METADATA[phases].plot(kind='violin'),\n",
    "sb.violinplot(data=df, orient='v', ax = ax)\n",
    "sb.pointplot(data=df, orient='v', ax = ax, estimator=np.mean,color=\"black\", markers=\"o\", ci=None,join=False)\n",
    "sb.pointplot(data=df, orient='v', ax = ax, estimator=np.median,color=\"black\", markers=\"_\", ci=None,join=False)\n",
    "plt.grid()\n",
    "plt.savefig('bestphase')\n"
   ]
  },
  {
   "cell_type": "markdown",
   "metadata": {},
   "source": [
    "# Error per cardiac cycle"
   ]
  },
  {
   "cell_type": "code",
   "execution_count": 29,
   "metadata": {},
   "outputs": [
    {
     "data": {
      "image/png": "[encoded data removed]",
      "text/plain": [
       "<Figure size 144x360 with 1 Axes>"
      ]
     },
     "metadata": {
      "needs_background": "light"
     },
     "output_type": "display_data"
    }
   ],
   "source": [
    "import seaborn as sb\n",
    "sb.set_context('paper')\n",
    "f = plt.figure(figsize=(2,5))\n",
    "ax = f.gca()\n",
    "ax.set_ylabel('Cardiac phases')\n",
    "ax.set_xlabel('Cycle error')\n",
    "temp = df.sum(axis=1)\n",
    "sb.violinplot(data=temp, orient='v', ax = ax)\n",
    "#sb.scatterplot(data=temp, ax=ax)\n",
    "sb.pointplot(data=temp, orient='v', ax = ax, estimator=np.mean,color=\"black\", markers=\"o\", ci=None,join=False)\n",
    "sb.pointplot(data=temp, orient='v', ax = ax, estimator=np.median,color=\"black\", markers=\"_\", ci=None,join=False)\n",
    "plt.grid()\n",
    "plt.show()"
   ]
  },
  {
   "cell_type": "code",
   "execution_count": null,
   "metadata": {},
   "outputs": [],
   "source": []
  }
 ],
 "metadata": {
  "kernelspec": {
   "display_name": "dcmr",
   "language": "python",
   "name": "dcmr"
  },
  "language_info": {
   "codemirror_mode": {
    "name": "ipython",
    "version": 3
   },
   "file_extension": ".py",
   "mimetype": "text/x-python",
   "name": "python",
   "nbconvert_exporter": "python",
   "pygments_lexer": "ipython3",
   "version": "3.8.5"
  },
  "widgets": {
   "application/vnd.jupyter.widget-state+json": {
    "state": {
     "005295451dcc416c803ff9fef1f481d8": {
      "model_module": "@jupyter-widgets/controls",
      "model_module_version": "1.5.0",
      "model_name": "ButtonModel",
      "state": {
       "description": "Cancel",
       "layout": "IPY_MODEL_d51aef511dc74bfd9c238ee5fd03bacc",
       "style": "IPY_MODEL_8670f97fca1f48af9bbd0d00cc392ae4"
      }
     },
     "02fbeb17e8d44248b87fcd1f21e44abf": {
      "model_module": "@jupyter-widgets/controls",
      "model_module_version": "1.5.0",
      "model_name": "DropdownModel",
      "state": {
       "_options_labels": [
        "/mnt/ssd/git/dynamic-cmr-models/exp/local/miccai_baseline",
        "/mnt/ssd/git/dynamic-cmr-models/exp/local",
        "/mnt/ssd/git/dynamic-cmr-models/exp",
        "/mnt/ssd/git/dynamic-cmr-models",
        "/mnt/ssd/git",
        "/mnt/ssd",
        "/mnt",
        "/"
       ],
       "index": 0,
       "layout": "IPY_MODEL_de27cfbd9d9d498aa8661f4896a907ea",
       "style": "IPY_MODEL_2f5d53d4a4214d06ba2c689925a44bf8"
      }
     },
     "044ccd0889d74b0986e5aa2a3e6bc7d7": {
      "model_module": "@jupyter-widgets/controls",
      "model_module_version": "1.5.0",
      "model_name": "DescriptionStyleModel",
      "state": {
       "description_width": ""
      }
     },
     "048cf508ff7d4dbc971a7713e42bd843": {
      "model_module": "@jupyter-widgets/output",
      "model_module_version": "1.0.0",
      "model_name": "OutputModel",
      "state": {
       "layout": "IPY_MODEL_17bfcd0671c949129d4b224bfbad2b8d",
       "outputs": [
        {
         "name": "stdout",
         "output_type": "stream",
         "text": "eval: /mnt/ssd/git/dynamic-cmr-models/exp/local/miccai_baseline_paug2/\n1\n"
        }
       ]
      }
     },
     "053f15192622414cb0a5f1a5d834153a": {
      "model_module": "@jupyter-widgets/controls",
      "model_module_version": "1.5.0",
      "model_name": "HBoxModel",
      "state": {
       "children": [
        "IPY_MODEL_b9341b20cb6941e9a9d231bc2e2330bc",
        "IPY_MODEL_005295451dcc416c803ff9fef1f481d8",
        "IPY_MODEL_0e293023b3e44de08bfdb04b5f9dcc8d"
       ],
       "layout": "IPY_MODEL_6997e49da50f406da1592b06ae9d6ece"
      }
     },
     "0903572cd091440a8963b9c74ae2a6d1": {
      "model_module": "@jupyter-widgets/base",
      "model_module_version": "1.2.0",
      "model_name": "LayoutModel",
      "state": {}
     },
     "0a909acd3e9e4aa88c7606fceafae56d": {
      "model_module": "@jupyter-widgets/base",
      "model_module_version": "1.2.0",
      "model_name": "LayoutModel",
      "state": {
       "width": "auto"
      }
     },
     "0c36bbb6b0c44d32984675c52c927716": {
      "model_module": "@jupyter-widgets/controls",
      "model_module_version": "1.5.0",
      "model_name": "ButtonModel",
      "state": {
       "description": "Cancel",
       "layout": "IPY_MODEL_72a293485927443e914dbdbaaf92cda7",
       "style": "IPY_MODEL_726c9809719544a695aad6362500ddb4"
      }
     },
     "0d2785cef2f046d5976d2ddcc93e6d24": {
      "model_module": "@jupyter-widgets/controls",
      "model_module_version": "1.5.0",
      "model_name": "SelectModel",
      "state": {
       "_options_labels": [
        "..",
        "baseline_f0",
        "baseline_f1",
        "baseline_f2",
        "baseline_f3"
       ],
       "index": null,
       "layout": "IPY_MODEL_7f1cef24954a402e81765322e0b4514e",
       "rows": 8,
       "style": "IPY_MODEL_be6b2bab45b0474ca9a697953dcf8e32"
      }
     },
     "0d7f0e074cd0439989f7479567419de9": {
      "model_module": "@jupyter-widgets/controls",
      "model_module_version": "1.5.0",
      "model_name": "GridBoxModel",
      "state": {
       "children": [
        "IPY_MODEL_da293c6f66c1410b8d9cd2afa4183e07",
        "IPY_MODEL_105407e14f724fdd9342fefb8751eaad",
        "IPY_MODEL_e42f3a3c8a584a378459afda2f13fc43"
       ],
       "layout": "IPY_MODEL_ae96a480dfb74a38bcac9d05f99e65f4"
      }
     },
     "0e293023b3e44de08bfdb04b5f9dcc8d": {
      "model_module": "@jupyter-widgets/controls",
      "model_module_version": "1.5.0",
      "model_name": "HTMLModel",
      "state": {
       "layout": "IPY_MODEL_0903572cd091440a8963b9c74ae2a6d1",
       "placeholder": "",
       "style": "IPY_MODEL_1bf9b14b8cd44044bc02b7ff07f10d45",
       "value": "<span style=\"margin-left:10px; color:green;\">/mnt/ssd/git/dynamic-cmr-models/exp/local/miccai_baseline/</span>"
      }
     },
     "0e979a91eb4a4d179e8fcb08c36bc84b": {
      "model_module": "@jupyter-widgets/controls",
      "model_module_version": "1.5.0",
      "model_name": "ButtonModel",
      "state": {
       "description": "Change",
       "layout": "IPY_MODEL_850fc7e8375949c79f01c8d32c4b39e1",
       "style": "IPY_MODEL_6f5efe90104a43f2a9696f33d094f1b2"
      }
     },
     "105407e14f724fdd9342fefb8751eaad": {
      "model_module": "@jupyter-widgets/controls",
      "model_module_version": "1.5.0",
      "model_name": "TextModel",
      "state": {
       "layout": "IPY_MODEL_ec565c31fdd7477190d4ea3cfbcd7b34",
       "placeholder": "output filename",
       "style": "IPY_MODEL_f7aa6eca43cd4f0b88df1c872105e420"
      }
     },
     "114010cce6324d8891741bfe290f69e2": {
      "model_module": "@jupyter-widgets/base",
      "model_module_version": "1.2.0",
      "model_name": "LayoutModel",
      "state": {}
     },
     "13d87568fffb42b99dd25173bff0f6a7": {
      "model_module": "@jupyter-widgets/base",
      "model_module_version": "1.2.0",
      "model_name": "LayoutModel",
      "state": {}
     },
     "15cc2131b9484214a85223bd99b66bb6": {
      "model_module": "@jupyter-widgets/controls",
      "model_module_version": "1.5.0",
      "model_name": "ButtonStyleModel",
      "state": {}
     },
     "17272c5830a24bbbb3d7abf0bbe3f0f7": {
      "model_module": "@jupyter-widgets/base",
      "model_module_version": "1.2.0",
      "model_name": "LayoutModel",
      "state": {
       "grid_area": "dircontent",
       "width": "auto"
      }
     },
     "17bfcd0671c949129d4b224bfbad2b8d": {
      "model_module": "@jupyter-widgets/base",
      "model_module_version": "1.2.0",
      "model_name": "LayoutModel",
      "state": {}
     },
     "1891bab2189d4370821f55813986d74e": {
      "model_module": "@jupyter-widgets/controls",
      "model_module_version": "1.5.0",
      "model_name": "TextModel",
      "state": {
       "layout": "IPY_MODEL_76f3fd22fa7d4b90a7fc7d0e80598381",
       "placeholder": "output filename",
       "style": "IPY_MODEL_bd9fc52d063249b6aaabba6ebcdd1639"
      }
     },
     "18d36fa411e24bf99e92237ea3c3b9f0": {
      "model_module": "@jupyter-widgets/controls",
      "model_module_version": "1.5.0",
      "model_name": "SelectModel",
      "state": {
       "_options_labels": [
        "..",
        "miccai_baseline_f0",
        "miccai_baseline_f1",
        "miccai_baseline_f2",
        "miccai_baseline_f3"
       ],
       "index": null,
       "layout": "IPY_MODEL_7731254bab134803ab865ca7e2aaa5d5",
       "rows": 8,
       "style": "IPY_MODEL_044ccd0889d74b0986e5aa2a3e6bc7d7"
      }
     },
     "1bf9b14b8cd44044bc02b7ff07f10d45": {
      "model_module": "@jupyter-widgets/controls",
      "model_module_version": "1.5.0",
      "model_name": "DescriptionStyleModel",
      "state": {
       "description_width": ""
      }
     },
     "1fa7022c974f44e58117c1a5e131abdc": {
      "model_module": "@jupyter-widgets/base",
      "model_module_version": "1.2.0",
      "model_name": "LayoutModel",
      "state": {
       "grid_area": "filename",
       "width": "auto"
      }
     },
     "1fc647ce0533494db1c61cd090996332": {
      "model_module": "@jupyter-widgets/controls",
      "model_module_version": "1.5.0",
      "model_name": "ButtonStyleModel",
      "state": {}
     },
     "20d95215290a463faf795134b741f9db": {
      "model_module": "@jupyter-widgets/base",
      "model_module_version": "1.2.0",
      "model_name": "LayoutModel",
      "state": {
       "width": "auto"
      }
     },
     "213d2e98ca0d491e83699a6d5176618f": {
      "model_module": "@jupyter-widgets/controls",
      "model_module_version": "1.5.0",
      "model_name": "HTMLModel",
      "state": {
       "layout": "IPY_MODEL_8461fa4e24464b7989470903ad35f06a",
       "style": "IPY_MODEL_ef568430947347edbaa3f69bd243be8d"
      }
     },
     "24a73dd40f43491d910ef73d0f50f588": {
      "model_module": "@jupyter-widgets/output",
      "model_module_version": "1.0.0",
      "model_name": "OutputModel",
      "state": {
       "layout": "IPY_MODEL_82b79ef37f714d4291174aec455ec343",
       "outputs": [
        {
         "name": "stdout",
         "output_type": "stream",
         "text": "eval: /mnt/ssd/git/dynamic-cmr-models/exp/local/miccai_baseline/\n1\nWARNING:tensorflow:From /home/sven/anaconda3/envs/dcmr/lib/python3.8/site-packages/tensorflow/python/util/deprecation.py:574: calling map_fn_v2 (from tensorflow.python.ops.map_fn) with dtype is deprecated and will be removed in a future version.\nInstructions for updating:\nUse fn_output_signature instead\n"
        }
       ]
      }
     },
     "2580bf3e2e254997b8da174a3dcd0626": {
      "model_module": "@jupyter-widgets/controls",
      "model_module_version": "1.5.0",
      "model_name": "ButtonStyleModel",
      "state": {}
     },
     "27062f03aae84c0992bc5bfa6d71d188": {
      "model_module": "@jupyter-widgets/controls",
      "model_module_version": "1.5.0",
      "model_name": "VBoxModel",
      "state": {
       "_dom_classes": [
        "widget-interact"
       ],
       "children": [
        "IPY_MODEL_609376bd0d114ac8adcf373e8e37cef1",
        "IPY_MODEL_32d3f6846c7144818d41daffb86dc680"
       ],
       "layout": "IPY_MODEL_5627c82f240149b2a456b2e753c6f696"
      }
     },
     "27dad58a6f5d4a9185556ffc99a99f67": {
      "model_module": "@jupyter-widgets/base",
      "model_module_version": "1.2.0",
      "model_name": "LayoutModel",
      "state": {
       "width": "auto"
      }
     },
     "29230de9ab9c49ffbb7cfee8e2aab0ab": {
      "model_module": "@jupyter-widgets/base",
      "model_module_version": "1.2.0",
      "model_name": "LayoutModel",
      "state": {
       "display": "none",
       "grid_gap": "0px 0px",
       "grid_template_areas": "\n                    'pathlist filename'\n                    'dircontent dircontent'\n                    ",
       "grid_template_columns": "60% 40%",
       "grid_template_rows": "auto auto",
       "width": "500px"
      }
     },
     "2abcb5085ddd4526905af265d3e91426": {
      "model_module": "@jupyter-widgets/controls",
      "model_module_version": "1.5.0",
      "model_name": "ButtonModel",
      "state": {
       "description": "Cancel",
       "layout": "IPY_MODEL_76d9cdd097e64aa4946e442f0b3fdd5b",
       "style": "IPY_MODEL_92832a28127f438c834295c17d9a7768"
      }
     },
     "2d6db76f016849fb990674799aa738fe": {
      "model_module": "@jupyter-widgets/base",
      "model_module_version": "1.2.0",
      "model_name": "LayoutModel",
      "state": {
       "grid_area": "dircontent",
       "width": "auto"
      }
     },
     "2e47198df3f941d181a18306b5a33492": {
      "model_module": "@jupyter-widgets/controls",
      "model_module_version": "1.5.0",
      "model_name": "HBoxModel",
      "state": {
       "children": [
        "IPY_MODEL_b9c8bdb7908142c0b364fc405d5a9aea",
        "IPY_MODEL_ff8503dc8bd84167b825f968c607d765",
        "IPY_MODEL_8fecfa1871de4b189b316147288cb18c"
       ],
       "layout": "IPY_MODEL_89faa3d11b6e405fa45c6d01051997df"
      }
     },
     "2f5d53d4a4214d06ba2c689925a44bf8": {
      "model_module": "@jupyter-widgets/controls",
      "model_module_version": "1.5.0",
      "model_name": "DescriptionStyleModel",
      "state": {
       "description_width": ""
      }
     },
     "3059a3631b8e4f2394917f19ef304624": {
      "model_module": "@jupyter-widgets/base",
      "model_module_version": "1.2.0",
      "model_name": "LayoutModel",
      "state": {
       "width": "auto"
      }
     },
     "30e83039b93c4f0bbb64097861babbac": {
      "model_module": "@jupyter-widgets/base",
      "model_module_version": "1.2.0",
      "model_name": "LayoutModel",
      "state": {
       "grid_area": "filename",
       "width": "auto"
      }
     },
     "324e6eb9dc5846cba10c0c31019f208a": {
      "model_module": "@jupyter-widgets/controls",
      "model_module_version": "1.5.0",
      "model_name": "HTMLModel",
      "state": {
       "layout": "IPY_MODEL_ce87b9a00d5f47da8e3f044199d35863",
       "style": "IPY_MODEL_e59560e94de3409db76f070f1c3c6a83"
      }
     },
     "326b6e419c5c4d1881a0f54bcca94d57": {
      "model_module": "@jupyter-widgets/base",
      "model_module_version": "1.2.0",
      "model_name": "LayoutModel",
      "state": {
       "width": "auto"
      }
     },
     "32d3f6846c7144818d41daffb86dc680": {
      "model_module": "@jupyter-widgets/output",
      "model_module_version": "1.0.0",
      "model_name": "OutputModel",
      "state": {
       "layout": "IPY_MODEL_b43d4f7f9ac640738a7a8d510ee696f1",
       "outputs": [
        {
         "name": "stdout",
         "output_type": "stream",
         "text": "eval: /mnt/ssd/git/dynamic-cmr-models/exp/local/miccai_baseline/\n0\n"
        },
        {
         "ename": "ValueError",
         "evalue": "need at least one array to concatenate",
         "output_type": "error",
         "traceback": [
          "\u001b[0;31m---------------------------------------------------------------------------\u001b[0m",
          "\u001b[0;31mValueError\u001b[0m                                Traceback (most recent call last)",
          "\u001b[0;32m~/anaconda3/envs/dcmr/lib/python3.8/site-packages/ipywidgets/widgets/interaction.py\u001b[0m in \u001b[0;36mupdate\u001b[0;34m(self, *args)\u001b[0m\n\u001b[1;32m    254\u001b[0m                     \u001b[0mvalue\u001b[0m \u001b[0;34m=\u001b[0m \u001b[0mwidget\u001b[0m\u001b[0;34m.\u001b[0m\u001b[0mget_interact_value\u001b[0m\u001b[0;34m(\u001b[0m\u001b[0;34m)\u001b[0m\u001b[0;34m\u001b[0m\u001b[0;34m\u001b[0m\u001b[0m\n\u001b[1;32m    255\u001b[0m                     \u001b[0mself\u001b[0m\u001b[0;34m.\u001b[0m\u001b[0mkwargs\u001b[0m\u001b[0;34m[\u001b[0m\u001b[0mwidget\u001b[0m\u001b[0;34m.\u001b[0m\u001b[0m_kwarg\u001b[0m\u001b[0;34m]\u001b[0m \u001b[0;34m=\u001b[0m \u001b[0mvalue\u001b[0m\u001b[0;34m\u001b[0m\u001b[0;34m\u001b[0m\u001b[0m\n\u001b[0;32m--> 256\u001b[0;31m                 \u001b[0mself\u001b[0m\u001b[0;34m.\u001b[0m\u001b[0mresult\u001b[0m \u001b[0;34m=\u001b[0m \u001b[0mself\u001b[0m\u001b[0;34m.\u001b[0m\u001b[0mf\u001b[0m\u001b[0;34m(\u001b[0m\u001b[0;34m**\u001b[0m\u001b[0mself\u001b[0m\u001b[0;34m.\u001b[0m\u001b[0mkwargs\u001b[0m\u001b[0;34m)\u001b[0m\u001b[0;34m\u001b[0m\u001b[0;34m\u001b[0m\u001b[0m\n\u001b[0m\u001b[1;32m    257\u001b[0m                 \u001b[0mshow_inline_matplotlib_plots\u001b[0m\u001b[0;34m(\u001b[0m\u001b[0;34m)\u001b[0m\u001b[0;34m\u001b[0m\u001b[0;34m\u001b[0m\u001b[0m\n\u001b[1;32m    258\u001b[0m                 \u001b[0;32mif\u001b[0m \u001b[0mself\u001b[0m\u001b[0;34m.\u001b[0m\u001b[0mauto_display\u001b[0m \u001b[0;32mand\u001b[0m \u001b[0mself\u001b[0m\u001b[0;34m.\u001b[0m\u001b[0mresult\u001b[0m \u001b[0;32mis\u001b[0m \u001b[0;32mnot\u001b[0m \u001b[0;32mNone\u001b[0m\u001b[0;34m:\u001b[0m\u001b[0;34m\u001b[0m\u001b[0;34m\u001b[0m\u001b[0m\n",
          "\u001b[0;32m<ipython-input-8-0780d23c2b62>\u001b[0m in \u001b[0;36meval_interact\u001b[0;34m(evaluate_)\u001b[0m\n\u001b[1;32m      6\u001b[0m     \u001b[0;32mglobal\u001b[0m \u001b[0mdf\u001b[0m\u001b[0;34m\u001b[0m\u001b[0;34m\u001b[0m\u001b[0m\n\u001b[1;32m      7\u001b[0m     \u001b[0;32mif\u001b[0m \u001b[0mevaluate_\u001b[0m\u001b[0;34m:\u001b[0m\u001b[0;34m\u001b[0m\u001b[0;34m\u001b[0m\u001b[0m\n\u001b[0;32m----> 8\u001b[0;31m         \u001b[0mdf\u001b[0m \u001b[0;34m=\u001b[0m \u001b[0mevaluate\u001b[0m\u001b[0;34m(\u001b[0m\u001b[0mfchooser\u001b[0m\u001b[0;34m.\u001b[0m\u001b[0mselected\u001b[0m\u001b[0;34m)\u001b[0m\u001b[0;34m\u001b[0m\u001b[0;34m\u001b[0m\u001b[0m\n\u001b[0m",
          "\u001b[0;32m<ipython-input-7-77ee861e0efd>\u001b[0m in \u001b[0;36mevaluate\u001b[0;34m(exp_root, result_df)\u001b[0m\n\u001b[1;32m     11\u001b[0m     \u001b[0mpreds\u001b[0m \u001b[0;34m=\u001b[0m \u001b[0mlist\u001b[0m\u001b[0;34m(\u001b[0m\u001b[0mmap\u001b[0m\u001b[0;34m(\u001b[0m\u001b[0;32mlambda\u001b[0m \u001b[0mx\u001b[0m \u001b[0;34m:\u001b[0m \u001b[0mnp\u001b[0m\u001b[0;34m.\u001b[0m\u001b[0mload\u001b[0m\u001b[0;34m(\u001b[0m\u001b[0mx\u001b[0m\u001b[0;34m)\u001b[0m\u001b[0;34m,\u001b[0m \u001b[0mall_pred_files\u001b[0m\u001b[0;34m)\u001b[0m\u001b[0;34m)\u001b[0m\u001b[0;34m\u001b[0m\u001b[0;34m\u001b[0m\u001b[0m\n\u001b[1;32m     12\u001b[0m     \u001b[0;31m# stack the numpy files\u001b[0m\u001b[0;34m\u001b[0m\u001b[0;34m\u001b[0m\u001b[0;34m\u001b[0m\u001b[0m\n\u001b[0;32m---> 13\u001b[0;31m     \u001b[0mpreds\u001b[0m \u001b[0;34m=\u001b[0m \u001b[0mnp\u001b[0m\u001b[0;34m.\u001b[0m\u001b[0mconcatenate\u001b[0m\u001b[0;34m(\u001b[0m\u001b[0mpreds\u001b[0m\u001b[0;34m,\u001b[0m \u001b[0maxis\u001b[0m\u001b[0;34m=\u001b[0m\u001b[0;36m1\u001b[0m\u001b[0;34m)\u001b[0m\u001b[0;34m\u001b[0m\u001b[0;34m\u001b[0m\u001b[0m\n\u001b[0m\u001b[1;32m     14\u001b[0m \u001b[0;34m\u001b[0m\u001b[0m\n\u001b[1;32m     15\u001b[0m     \u001b[0;31m# calculate the mean differences\u001b[0m\u001b[0;34m\u001b[0m\u001b[0;34m\u001b[0m\u001b[0;34m\u001b[0m\u001b[0m\n",
          "\u001b[0;32m<__array_function__ internals>\u001b[0m in \u001b[0;36mconcatenate\u001b[0;34m(*args, **kwargs)\u001b[0m\n",
          "\u001b[0;31mValueError\u001b[0m: need at least one array to concatenate"
         ]
        }
       ]
      }
     },
     "3403f3e52d3046b69dce9f93e25ff1ad": {
      "model_module": "@jupyter-widgets/controls",
      "model_module_version": "1.5.0",
      "model_name": "ButtonStyleModel",
      "state": {}
     },
     "34abdf46155d4d119a38b54a78d3370e": {
      "model_module": "@jupyter-widgets/controls",
      "model_module_version": "1.5.0",
      "model_name": "DescriptionStyleModel",
      "state": {
       "description_width": ""
      }
     },
     "35286b09d91c45a3b4c900cbf81a6070": {
      "model_module": "@jupyter-widgets/base",
      "model_module_version": "1.2.0",
      "model_name": "LayoutModel",
      "state": {
       "width": "auto"
      }
     },
     "353da41ee4e24a59a59bbb6e94517048": {
      "model_module": "@jupyter-widgets/controls",
      "model_module_version": "1.5.0",
      "model_name": "GridBoxModel",
      "state": {
       "children": [
        "IPY_MODEL_6aea4617e5584545acda17877e40f020",
        "IPY_MODEL_1891bab2189d4370821f55813986d74e",
        "IPY_MODEL_7bdc86be80874c8885d5e36e1fcb0ecb"
       ],
       "layout": "IPY_MODEL_b238be62884049adb1e09866f3789f71"
      }
     },
     "39e3dba71b244ef9a0dff60e1fb54b9d": {
      "model_module": "@jupyter-widgets/base",
      "model_module_version": "1.2.0",
      "model_name": "LayoutModel",
      "state": {}
     },
     "3c804585d6604fa2bc8718569fe257be": {
      "model_module": "@jupyter-widgets/base",
      "model_module_version": "1.2.0",
      "model_name": "LayoutModel",
      "state": {
       "width": "auto"
      }
     },
     "3cd37335b25b44919c465da7cfc34c40": {
      "model_module": "@jupyter-widgets/controls",
      "model_module_version": "1.5.0",
      "model_name": "DescriptionStyleModel",
      "state": {
       "description_width": ""
      }
     },
     "3f0881c1806e4fbc9ecfa718057ef9b3": {
      "model_module": "@jupyter-widgets/base",
      "model_module_version": "1.2.0",
      "model_name": "LayoutModel",
      "state": {
       "width": "auto"
      }
     },
     "48209e9ad6d04932a72c77af805daf5f": {
      "model_module": "@jupyter-widgets/controls",
      "model_module_version": "1.5.0",
      "model_name": "HTMLModel",
      "state": {
       "layout": "IPY_MODEL_c7d6ed8334484910b059a887cc71e4d1",
       "placeholder": "",
       "style": "IPY_MODEL_ef1519ccf0cb4f5ba94fa2a935f4ab92",
       "value": "<span style=\"margin-left:10px; color:green;\">/mnt/ssd/git/dynamic-cmr-models/exp/local/miccai_baseline_paug2/</span>"
      }
     },
     "491d888ecfe0407081b56cd4ff31ae5d": {
      "model_module": "@jupyter-widgets/controls",
      "model_module_version": "1.5.0",
      "model_name": "TextModel",
      "state": {
       "layout": "IPY_MODEL_1fa7022c974f44e58117c1a5e131abdc",
       "placeholder": "output filename",
       "style": "IPY_MODEL_652562f630d54afb91867866da34ee5c"
      }
     },
     "49218bd5ed194111be85d7725e6fa439": {
      "model_module": "@jupyter-widgets/controls",
      "model_module_version": "1.5.0",
      "model_name": "HTMLModel",
      "state": {
       "layout": "IPY_MODEL_81178acad87345e6b4ea1f74970d7609",
       "placeholder": "",
       "style": "IPY_MODEL_3cd37335b25b44919c465da7cfc34c40",
       "value": "<span style=\"margin-left:10px; color:green;\">/mnt/ssd/git/dynamic-cmr-models/exp/local/miccai_baseline/</span>"
      }
     },
     "49eae9fae0ad461cb4a139c96bad0b14": {
      "model_module": "@jupyter-widgets/controls",
      "model_module_version": "1.5.0",
      "model_name": "DropdownModel",
      "state": {
       "_options_labels": [
        "/mnt/ssd/git/dynamic-cmr-models/exp/local/miccai_baseline",
        "/mnt/ssd/git/dynamic-cmr-models/exp/local",
        "/mnt/ssd/git/dynamic-cmr-models/exp",
        "/mnt/ssd/git/dynamic-cmr-models",
        "/mnt/ssd/git",
        "/mnt/ssd",
        "/mnt",
        "/"
       ],
       "index": 0,
       "layout": "IPY_MODEL_fdad1308f70c42d4b093605374190ba6",
       "style": "IPY_MODEL_c27aab207c82495ca4cf2d9e43048ef6"
      }
     },
     "4a054d023e3a4760ad3079228fb09edb": {
      "model_module": "@jupyter-widgets/base",
      "model_module_version": "1.2.0",
      "model_name": "LayoutModel",
      "state": {
       "display": "none",
       "grid_gap": "0px 0px",
       "grid_template_areas": "\n                    'pathlist filename'\n                    'dircontent dircontent'\n                    ",
       "grid_template_columns": "60% 40%",
       "grid_template_rows": "auto auto",
       "width": "500px"
      }
     },
     "4a6a6a44d4f442bba74f0e9cedcae007": {
      "model_module": "@jupyter-widgets/controls",
      "model_module_version": "1.5.0",
      "model_name": "HBoxModel",
      "state": {
       "children": [
        "IPY_MODEL_8123c20383a2436ebd0886e342f24a22",
        "IPY_MODEL_2abcb5085ddd4526905af265d3e91426",
        "IPY_MODEL_f08d3b21716f450db84c42859044d9a7"
       ],
       "layout": "IPY_MODEL_a9c90a4456e54f7884e7493868eb3a49"
      }
     },
     "4cac22f93ee84674a85a98461a36e5a1": {
      "model_module": "@jupyter-widgets/controls",
      "model_module_version": "1.5.0",
      "model_name": "DescriptionStyleModel",
      "state": {
       "description_width": ""
      }
     },
     "4d652e9fe2f44877bf0708a4c9898a25": {
      "model_module": "@jupyter-widgets/base",
      "model_module_version": "1.2.0",
      "model_name": "LayoutModel",
      "state": {
       "display": "none"
      }
     },
     "4e0e2b6b939e4e7abbd792d7f0c18a6e": {
      "model_module": "@jupyter-widgets/controls",
      "model_module_version": "1.5.0",
      "model_name": "ButtonModel",
      "state": {
       "description": "Cancel",
       "layout": "IPY_MODEL_d8f815df843148769fe6dfc3b64a21d1",
       "style": "IPY_MODEL_d62bf61a1ada4f778585e9ed6c3e9083"
      }
     },
     "508b960db9834140b0cf8d5f49c03fb9": {
      "model_module": "@jupyter-widgets/base",
      "model_module_version": "1.2.0",
      "model_name": "LayoutModel",
      "state": {
       "width": "auto"
      }
     },
     "52bd4c922bb346c6be5bb20b9215c17f": {
      "model_module": "@jupyter-widgets/controls",
      "model_module_version": "1.5.0",
      "model_name": "DescriptionStyleModel",
      "state": {
       "description_width": ""
      }
     },
     "5627c82f240149b2a456b2e753c6f696": {
      "model_module": "@jupyter-widgets/base",
      "model_module_version": "1.2.0",
      "model_name": "LayoutModel",
      "state": {}
     },
     "566aab47738746f681a2ab5067201fe4": {
      "model_module": "@jupyter-widgets/base",
      "model_module_version": "1.2.0",
      "model_name": "LayoutModel",
      "state": {}
     },
     "577da5c419b84752944b4f42bbf70d4e": {
      "model_module": "@jupyter-widgets/base",
      "model_module_version": "1.2.0",
      "model_name": "LayoutModel",
      "state": {
       "grid_area": "pathlist",
       "width": "auto"
      }
     },
     "5889cac909cc444c8a3cf8b3be44bc2f": {
      "model_module": "@jupyter-widgets/base",
      "model_module_version": "1.2.0",
      "model_name": "LayoutModel",
      "state": {
       "display": "none"
      }
     },
     "5afd269d064744acaf3c83431c9ed1ab": {
      "model_module": "@jupyter-widgets/controls",
      "model_module_version": "1.5.0",
      "model_name": "CheckboxModel",
      "state": {
       "description": "evaluate_",
       "disabled": false,
       "layout": "IPY_MODEL_fed4e875510d469db7eb28d20e74d8a6",
       "style": "IPY_MODEL_34abdf46155d4d119a38b54a78d3370e",
       "value": true
      }
     },
     "5c3ca2c2d69f4de7812114eaa3188456": {
      "model_module": "@jupyter-widgets/base",
      "model_module_version": "1.2.0",
      "model_name": "LayoutModel",
      "state": {}
     },
     "5e94955c6288498795719328df9a1aaf": {
      "model_module": "@jupyter-widgets/controls",
      "model_module_version": "1.5.0",
      "model_name": "SelectModel",
      "state": {
       "_options_labels": [
        "..",
        "miccai_baseline_f0",
        "miccai_baseline_f1",
        "miccai_baseline_f2",
        "miccai_baseline_f3"
       ],
       "index": null,
       "layout": "IPY_MODEL_8cbaa17311f047968436b0deb6b77862",
       "rows": 8,
       "style": "IPY_MODEL_7ca289bf9cf44d1cafd0d03964e4968f"
      }
     },
     "5fdfdb11df2c409aa295d352546853ae": {
      "model_module": "@jupyter-widgets/controls",
      "model_module_version": "1.5.0",
      "model_name": "DescriptionStyleModel",
      "state": {
       "description_width": ""
      }
     },
     "609376bd0d114ac8adcf373e8e37cef1": {
      "model_module": "@jupyter-widgets/controls",
      "model_module_version": "1.5.0",
      "model_name": "CheckboxModel",
      "state": {
       "description": "evaluate_",
       "disabled": false,
       "layout": "IPY_MODEL_a3bfda093862400cb7ddf96b2349a6fe",
       "style": "IPY_MODEL_886d1885e0e44d8aaa1fc4d7fac8c77f",
       "value": true
      }
     },
     "60db700a367c4765adc20a695533149e": {
      "model_module": "@jupyter-widgets/base",
      "model_module_version": "1.2.0",
      "model_name": "LayoutModel",
      "state": {
       "grid_area": "pathlist",
       "width": "auto"
      }
     },
     "61aa8d2e91a24195bbce89528ccbb889": {
      "model_module": "@jupyter-widgets/controls",
      "model_module_version": "1.5.0",
      "model_name": "DescriptionStyleModel",
      "state": {
       "description_width": ""
      }
     },
     "64c23681518748c2af5eb86d826e51a6": {
      "model_module": "@jupyter-widgets/controls",
      "model_module_version": "1.5.0",
      "model_name": "DescriptionStyleModel",
      "state": {
       "description_width": ""
      }
     },
     "652562f630d54afb91867866da34ee5c": {
      "model_module": "@jupyter-widgets/controls",
      "model_module_version": "1.5.0",
      "model_name": "DescriptionStyleModel",
      "state": {
       "description_width": ""
      }
     },
     "65d5186dc8f5433ca6bdd8ea202ec1ce": {
      "model_module": "@jupyter-widgets/controls",
      "model_module_version": "1.5.0",
      "model_name": "VBoxModel",
      "state": {
       "children": [
        "IPY_MODEL_213d2e98ca0d491e83699a6d5176618f",
        "IPY_MODEL_fba161734a8048d295ad2d82ff06a8dd",
        "IPY_MODEL_c5a4b2e357ec4e6bbb067ba930686592"
       ],
       "layout": "IPY_MODEL_be315da7c2bf4582a8556ea90f476328"
      }
     },
     "6878113be4ef4dcf93a37184c4ed2d93": {
      "model_module": "@jupyter-widgets/controls",
      "model_module_version": "1.5.0",
      "model_name": "VBoxModel",
      "state": {
       "_dom_classes": [
        "widget-interact"
       ],
       "children": [
        "IPY_MODEL_c65400b01dc148bea60b8f980599f7f2",
        "IPY_MODEL_b4566b7f65cc4ebf9369fe78945869b2"
       ],
       "layout": "IPY_MODEL_13d87568fffb42b99dd25173bff0f6a7"
      }
     },
     "69821cb9abac457b93aafc19a7643c63": {
      "model_module": "@jupyter-widgets/controls",
      "model_module_version": "1.5.0",
      "model_name": "TextModel",
      "state": {
       "layout": "IPY_MODEL_30e83039b93c4f0bbb64097861babbac",
       "placeholder": "output filename",
       "style": "IPY_MODEL_866d006a44e7419385a654bc4eb2fd04"
      }
     },
     "6997e49da50f406da1592b06ae9d6ece": {
      "model_module": "@jupyter-widgets/base",
      "model_module_version": "1.2.0",
      "model_name": "LayoutModel",
      "state": {
       "width": "auto"
      }
     },
     "6aea4617e5584545acda17877e40f020": {
      "model_module": "@jupyter-widgets/controls",
      "model_module_version": "1.5.0",
      "model_name": "DropdownModel",
      "state": {
       "_options_labels": [
        "/mnt/ssd/git/dynamic-cmr-models/exp/local/miccai_baseline_paug2",
        "/mnt/ssd/git/dynamic-cmr-models/exp/local",
        "/mnt/ssd/git/dynamic-cmr-models/exp",
        "/mnt/ssd/git/dynamic-cmr-models",
        "/mnt/ssd/git",
        "/mnt/ssd",
        "/mnt",
        "/"
       ],
       "index": 0,
       "layout": "IPY_MODEL_8b2c7d1ba7e14091abfda93104c4b140",
       "style": "IPY_MODEL_5fdfdb11df2c409aa295d352546853ae"
      }
     },
     "6b367cc442004a38861873c6a3f4186c": {
      "model_module": "@jupyter-widgets/controls",
      "model_module_version": "1.5.0",
      "model_name": "HTMLModel",
      "state": {
       "layout": "IPY_MODEL_e72af74a05d744fe83840baf4fb1d333",
       "style": "IPY_MODEL_b6a4ffb8bf21462aa5f0002268bcf090"
      }
     },
     "6b7e8ada0507446c8f1c34aa77461bc0": {
      "model_module": "@jupyter-widgets/controls",
      "model_module_version": "1.5.0",
      "model_name": "VBoxModel",
      "state": {
       "_dom_classes": [
        "widget-interact"
       ],
       "children": [
        "IPY_MODEL_bfda9ec58a494697a90837be825e3f48",
        "IPY_MODEL_048cf508ff7d4dbc971a7713e42bd843"
       ],
       "layout": "IPY_MODEL_fb7b07031d9740b6875d994ac1c0b5fb"
      }
     },
     "6c6e0527ee8940a8865b6b49f064e829": {
      "model_module": "@jupyter-widgets/controls",
      "model_module_version": "1.5.0",
      "model_name": "ButtonStyleModel",
      "state": {}
     },
     "6f5efe90104a43f2a9696f33d094f1b2": {
      "model_module": "@jupyter-widgets/controls",
      "model_module_version": "1.5.0",
      "model_name": "ButtonStyleModel",
      "state": {}
     },
     "726c9809719544a695aad6362500ddb4": {
      "model_module": "@jupyter-widgets/controls",
      "model_module_version": "1.5.0",
      "model_name": "ButtonStyleModel",
      "state": {}
     },
     "7291fe7a9e8f4852aaa37c7ddda3b510": {
      "model_module": "@jupyter-widgets/controls",
      "model_module_version": "1.5.0",
      "model_name": "HBoxModel",
      "state": {
       "children": [
        "IPY_MODEL_d2cd160196fa425bb57bf049b6c82fd0",
        "IPY_MODEL_4e0e2b6b939e4e7abbd792d7f0c18a6e",
        "IPY_MODEL_49218bd5ed194111be85d7725e6fa439"
       ],
       "layout": "IPY_MODEL_508b960db9834140b0cf8d5f49c03fb9"
      }
     },
     "72a293485927443e914dbdbaaf92cda7": {
      "model_module": "@jupyter-widgets/base",
      "model_module_version": "1.2.0",
      "model_name": "LayoutModel",
      "state": {
       "display": "none",
       "width": "auto"
      }
     },
     "72af1bb160124051a3e78457d11e1ae0": {
      "model_module": "@jupyter-widgets/controls",
      "model_module_version": "1.5.0",
      "model_name": "DescriptionStyleModel",
      "state": {
       "description_width": ""
      }
     },
     "767c739923e44b48b0a5ba6dcf9e0b57": {
      "model_module": "@jupyter-widgets/base",
      "model_module_version": "1.2.0",
      "model_name": "LayoutModel",
      "state": {}
     },
     "76c3c0adacd74d95b0ba3b19a9fbffe8": {
      "model_module": "@jupyter-widgets/controls",
      "model_module_version": "1.5.0",
      "model_name": "GridBoxModel",
      "state": {
       "children": [
        "IPY_MODEL_02fbeb17e8d44248b87fcd1f21e44abf",
        "IPY_MODEL_e237f05f5aad47889a5d4ab54bd1700b",
        "IPY_MODEL_e8a6f09879bf4b3390e1a9e75bc1a06e"
       ],
       "layout": "IPY_MODEL_4a054d023e3a4760ad3079228fb09edb"
      }
     },
     "76d9cdd097e64aa4946e442f0b3fdd5b": {
      "model_module": "@jupyter-widgets/base",
      "model_module_version": "1.2.0",
      "model_name": "LayoutModel",
      "state": {
       "display": "none",
       "width": "auto"
      }
     },
     "76f3fd22fa7d4b90a7fc7d0e80598381": {
      "model_module": "@jupyter-widgets/base",
      "model_module_version": "1.2.0",
      "model_name": "LayoutModel",
      "state": {
       "grid_area": "filename",
       "width": "auto"
      }
     },
     "7731254bab134803ab865ca7e2aaa5d5": {
      "model_module": "@jupyter-widgets/base",
      "model_module_version": "1.2.0",
      "model_name": "LayoutModel",
      "state": {
       "grid_area": "dircontent",
       "width": "auto"
      }
     },
     "78d6081ba98d4cc1ac9e733281cf9ca8": {
      "model_module": "@jupyter-widgets/controls",
      "model_module_version": "1.5.0",
      "model_name": "DescriptionStyleModel",
      "state": {
       "description_width": ""
      }
     },
     "78fe7ac9307944bfb392c9debed5edfd": {
      "model_module": "@jupyter-widgets/controls",
      "model_module_version": "1.5.0",
      "model_name": "TextModel",
      "state": {
       "layout": "IPY_MODEL_dde181b2f67d421ba7cabb8c56086a7b",
       "placeholder": "output filename",
       "style": "IPY_MODEL_947a35553ef84aee9a5a35e500e94e38"
      }
     },
     "7917f3dd148e4874abc705050078c259": {
      "model_module": "@jupyter-widgets/base",
      "model_module_version": "1.2.0",
      "model_name": "LayoutModel",
      "state": {
       "width": "auto"
      }
     },
     "7a02c91eb77048eda1d86faeeeefc390": {
      "model_module": "@jupyter-widgets/controls",
      "model_module_version": "1.5.0",
      "model_name": "GridBoxModel",
      "state": {
       "children": [
        "IPY_MODEL_dfc2dbf84835437689ac604011394628",
        "IPY_MODEL_491d888ecfe0407081b56cd4ff31ae5d",
        "IPY_MODEL_18d36fa411e24bf99e92237ea3c3b9f0"
       ],
       "layout": "IPY_MODEL_ea505410239c40a48b2b2a5373dc4fe6"
      }
     },
     "7a2a3328b21c47fe8089657dcdb6c767": {
      "model_module": "@jupyter-widgets/controls",
      "model_module_version": "1.5.0",
      "model_name": "HTMLModel",
      "state": {
       "layout": "IPY_MODEL_5889cac909cc444c8a3cf8b3be44bc2f",
       "style": "IPY_MODEL_d71c11734a8344239417cffbe406ec36"
      }
     },
     "7bdc86be80874c8885d5e36e1fcb0ecb": {
      "model_module": "@jupyter-widgets/controls",
      "model_module_version": "1.5.0",
      "model_name": "SelectModel",
      "state": {
       "_options_labels": [
        "..",
        "baseline_f0",
        "baseline_f1",
        "baseline_f2",
        "baseline_f3"
       ],
       "index": null,
       "layout": "IPY_MODEL_d187165a69fb4ed587f5fe14fb430e44",
       "rows": 8,
       "style": "IPY_MODEL_61aa8d2e91a24195bbce89528ccbb889"
      }
     },
     "7c22feb9c432416ca7f19817c1ca09d1": {
      "model_module": "@jupyter-widgets/controls",
      "model_module_version": "1.5.0",
      "model_name": "DropdownModel",
      "state": {
       "_options_labels": [
        "/mnt/ssd/git/dynamic-cmr-models/exp/local/miccai_baseline_paug2",
        "/mnt/ssd/git/dynamic-cmr-models/exp/local",
        "/mnt/ssd/git/dynamic-cmr-models/exp",
        "/mnt/ssd/git/dynamic-cmr-models",
        "/mnt/ssd/git",
        "/mnt/ssd",
        "/mnt",
        "/"
       ],
       "index": 0,
       "layout": "IPY_MODEL_577da5c419b84752944b4f42bbf70d4e",
       "style": "IPY_MODEL_d9ceb4bdde0847bb801bf179e59d0599"
      }
     },
     "7c57621c31fe40d9bc15135e1864c0bf": {
      "model_module": "@jupyter-widgets/base",
      "model_module_version": "1.2.0",
      "model_name": "LayoutModel",
      "state": {
       "display": "none"
      }
     },
     "7ca289bf9cf44d1cafd0d03964e4968f": {
      "model_module": "@jupyter-widgets/controls",
      "model_module_version": "1.5.0",
      "model_name": "DescriptionStyleModel",
      "state": {
       "description_width": ""
      }
     },
     "7f1cef24954a402e81765322e0b4514e": {
      "model_module": "@jupyter-widgets/base",
      "model_module_version": "1.2.0",
      "model_name": "LayoutModel",
      "state": {
       "grid_area": "dircontent",
       "width": "auto"
      }
     },
     "81178acad87345e6b4ea1f74970d7609": {
      "model_module": "@jupyter-widgets/base",
      "model_module_version": "1.2.0",
      "model_name": "LayoutModel",
      "state": {}
     },
     "8123c20383a2436ebd0886e342f24a22": {
      "model_module": "@jupyter-widgets/controls",
      "model_module_version": "1.5.0",
      "model_name": "ButtonModel",
      "state": {
       "description": "Change",
       "layout": "IPY_MODEL_0a909acd3e9e4aa88c7606fceafae56d",
       "style": "IPY_MODEL_2580bf3e2e254997b8da174a3dcd0626"
      }
     },
     "82b79ef37f714d4291174aec455ec343": {
      "model_module": "@jupyter-widgets/base",
      "model_module_version": "1.2.0",
      "model_name": "LayoutModel",
      "state": {}
     },
     "8461fa4e24464b7989470903ad35f06a": {
      "model_module": "@jupyter-widgets/base",
      "model_module_version": "1.2.0",
      "model_name": "LayoutModel",
      "state": {
       "display": "none"
      }
     },
     "850fc7e8375949c79f01c8d32c4b39e1": {
      "model_module": "@jupyter-widgets/base",
      "model_module_version": "1.2.0",
      "model_name": "LayoutModel",
      "state": {
       "width": "auto"
      }
     },
     "866d006a44e7419385a654bc4eb2fd04": {
      "model_module": "@jupyter-widgets/controls",
      "model_module_version": "1.5.0",
      "model_name": "DescriptionStyleModel",
      "state": {
       "description_width": ""
      }
     },
     "8670f97fca1f48af9bbd0d00cc392ae4": {
      "model_module": "@jupyter-widgets/controls",
      "model_module_version": "1.5.0",
      "model_name": "ButtonStyleModel",
      "state": {}
     },
     "86fddd82efe545e89295a9f20e049e28": {
      "model_module": "@jupyter-widgets/base",
      "model_module_version": "1.2.0",
      "model_name": "LayoutModel",
      "state": {
       "width": "auto"
      }
     },
     "877a456b903f421b88bc3c50e378a3f0": {
      "model_module": "@jupyter-widgets/controls",
      "model_module_version": "1.5.0",
      "model_name": "VBoxModel",
      "state": {
       "children": [
        "IPY_MODEL_7a2a3328b21c47fe8089657dcdb6c767",
        "IPY_MODEL_353da41ee4e24a59a59bbb6e94517048",
        "IPY_MODEL_99e21fdb3dd749aa91ebac9ff0050ca9"
       ],
       "layout": "IPY_MODEL_3c804585d6604fa2bc8718569fe257be"
      }
     },
     "886d1885e0e44d8aaa1fc4d7fac8c77f": {
      "model_module": "@jupyter-widgets/controls",
      "model_module_version": "1.5.0",
      "model_name": "DescriptionStyleModel",
      "state": {
       "description_width": ""
      }
     },
     "89faa3d11b6e405fa45c6d01051997df": {
      "model_module": "@jupyter-widgets/base",
      "model_module_version": "1.2.0",
      "model_name": "LayoutModel",
      "state": {
       "width": "auto"
      }
     },
     "8b2c7d1ba7e14091abfda93104c4b140": {
      "model_module": "@jupyter-widgets/base",
      "model_module_version": "1.2.0",
      "model_name": "LayoutModel",
      "state": {
       "grid_area": "pathlist",
       "width": "auto"
      }
     },
     "8cbaa17311f047968436b0deb6b77862": {
      "model_module": "@jupyter-widgets/base",
      "model_module_version": "1.2.0",
      "model_name": "LayoutModel",
      "state": {
       "grid_area": "dircontent",
       "width": "auto"
      }
     },
     "8fecfa1871de4b189b316147288cb18c": {
      "model_module": "@jupyter-widgets/controls",
      "model_module_version": "1.5.0",
      "model_name": "HTMLModel",
      "state": {
       "layout": "IPY_MODEL_fa9ef839f8a24e36960d948765d0d8ed",
       "placeholder": "",
       "style": "IPY_MODEL_4cac22f93ee84674a85a98461a36e5a1",
       "value": "<span style=\"margin-left:10px; color:green;\">/mnt/ssd/git/dynamic-cmr-models/exp/local/miccai_baseline/</span>"
      }
     },
     "92832a28127f438c834295c17d9a7768": {
      "model_module": "@jupyter-widgets/controls",
      "model_module_version": "1.5.0",
      "model_name": "ButtonStyleModel",
      "state": {}
     },
     "947a35553ef84aee9a5a35e500e94e38": {
      "model_module": "@jupyter-widgets/controls",
      "model_module_version": "1.5.0",
      "model_name": "DescriptionStyleModel",
      "state": {
       "description_width": ""
      }
     },
     "99e21fdb3dd749aa91ebac9ff0050ca9": {
      "model_module": "@jupyter-widgets/controls",
      "model_module_version": "1.5.0",
      "model_name": "HBoxModel",
      "state": {
       "children": [
        "IPY_MODEL_0e979a91eb4a4d179e8fcb08c36bc84b",
        "IPY_MODEL_99ed63fe17c548a3bd82f5e3bfa0ca43",
        "IPY_MODEL_e78a7d620ccd4d3a894a6a792bcdffcb"
       ],
       "layout": "IPY_MODEL_20d95215290a463faf795134b741f9db"
      }
     },
     "99ed63fe17c548a3bd82f5e3bfa0ca43": {
      "model_module": "@jupyter-widgets/controls",
      "model_module_version": "1.5.0",
      "model_name": "ButtonModel",
      "state": {
       "description": "Cancel",
       "layout": "IPY_MODEL_afa74e4ab1c745e6bed1856f2ae6da13",
       "style": "IPY_MODEL_6c6e0527ee8940a8865b6b49f064e829"
      }
     },
     "9c01f814bc9e49b182b4f777173ad093": {
      "model_module": "@jupyter-widgets/output",
      "model_module_version": "1.0.0",
      "model_name": "OutputModel",
      "state": {
       "layout": "IPY_MODEL_767c739923e44b48b0a5ba6dcf9e0b57",
       "outputs": [
        {
         "name": "stdout",
         "output_type": "stream",
         "text": "eval: /mnt/ssd/git/dynamic-cmr-models/exp/local/miccai_baseline/\n"
        },
        {
         "ename": "AssertionError",
         "evalue": "we expect a four-fold cv, but found: 0 predictions",
         "output_type": "error",
         "traceback": [
          "\u001b[0;31m---------------------------------------------------------------------------\u001b[0m",
          "\u001b[0;31mAssertionError\u001b[0m                            Traceback (most recent call last)",
          "\u001b[0;32m~/anaconda3/envs/dcmr/lib/python3.8/site-packages/ipywidgets/widgets/interaction.py\u001b[0m in \u001b[0;36mupdate\u001b[0;34m(self, *args)\u001b[0m\n\u001b[1;32m    254\u001b[0m                     \u001b[0mvalue\u001b[0m \u001b[0;34m=\u001b[0m \u001b[0mwidget\u001b[0m\u001b[0;34m.\u001b[0m\u001b[0mget_interact_value\u001b[0m\u001b[0;34m(\u001b[0m\u001b[0;34m)\u001b[0m\u001b[0;34m\u001b[0m\u001b[0;34m\u001b[0m\u001b[0m\n\u001b[1;32m    255\u001b[0m                     \u001b[0mself\u001b[0m\u001b[0;34m.\u001b[0m\u001b[0mkwargs\u001b[0m\u001b[0;34m[\u001b[0m\u001b[0mwidget\u001b[0m\u001b[0;34m.\u001b[0m\u001b[0m_kwarg\u001b[0m\u001b[0;34m]\u001b[0m \u001b[0;34m=\u001b[0m \u001b[0mvalue\u001b[0m\u001b[0;34m\u001b[0m\u001b[0;34m\u001b[0m\u001b[0m\n\u001b[0;32m--> 256\u001b[0;31m                 \u001b[0mself\u001b[0m\u001b[0;34m.\u001b[0m\u001b[0mresult\u001b[0m \u001b[0;34m=\u001b[0m \u001b[0mself\u001b[0m\u001b[0;34m.\u001b[0m\u001b[0mf\u001b[0m\u001b[0;34m(\u001b[0m\u001b[0;34m**\u001b[0m\u001b[0mself\u001b[0m\u001b[0;34m.\u001b[0m\u001b[0mkwargs\u001b[0m\u001b[0;34m)\u001b[0m\u001b[0;34m\u001b[0m\u001b[0;34m\u001b[0m\u001b[0m\n\u001b[0m\u001b[1;32m    257\u001b[0m                 \u001b[0mshow_inline_matplotlib_plots\u001b[0m\u001b[0;34m(\u001b[0m\u001b[0;34m)\u001b[0m\u001b[0;34m\u001b[0m\u001b[0;34m\u001b[0m\u001b[0m\n\u001b[1;32m    258\u001b[0m                 \u001b[0;32mif\u001b[0m \u001b[0mself\u001b[0m\u001b[0;34m.\u001b[0m\u001b[0mauto_display\u001b[0m \u001b[0;32mand\u001b[0m \u001b[0mself\u001b[0m\u001b[0;34m.\u001b[0m\u001b[0mresult\u001b[0m \u001b[0;32mis\u001b[0m \u001b[0;32mnot\u001b[0m \u001b[0;32mNone\u001b[0m\u001b[0;34m:\u001b[0m\u001b[0;34m\u001b[0m\u001b[0;34m\u001b[0m\u001b[0m\n",
          "\u001b[0;32m<ipython-input-4-0780d23c2b62>\u001b[0m in \u001b[0;36meval_interact\u001b[0;34m(evaluate_)\u001b[0m\n\u001b[1;32m      6\u001b[0m     \u001b[0;32mglobal\u001b[0m \u001b[0mdf\u001b[0m\u001b[0;34m\u001b[0m\u001b[0;34m\u001b[0m\u001b[0m\n\u001b[1;32m      7\u001b[0m     \u001b[0;32mif\u001b[0m \u001b[0mevaluate_\u001b[0m\u001b[0;34m:\u001b[0m\u001b[0;34m\u001b[0m\u001b[0;34m\u001b[0m\u001b[0m\n\u001b[0;32m----> 8\u001b[0;31m         \u001b[0mdf\u001b[0m \u001b[0;34m=\u001b[0m \u001b[0mevaluate\u001b[0m\u001b[0;34m(\u001b[0m\u001b[0mfchooser\u001b[0m\u001b[0;34m.\u001b[0m\u001b[0mselected\u001b[0m\u001b[0;34m)\u001b[0m\u001b[0;34m\u001b[0m\u001b[0;34m\u001b[0m\u001b[0m\n\u001b[0m",
          "\u001b[0;32m<ipython-input-3-ba5192c652be>\u001b[0m in \u001b[0;36mevaluate\u001b[0;34m(exp_root, result_df)\u001b[0m\n\u001b[1;32m      5\u001b[0m \u001b[0;34m\u001b[0m\u001b[0m\n\u001b[1;32m      6\u001b[0m     \u001b[0mall_pred_files\u001b[0m \u001b[0;34m=\u001b[0m \u001b[0msorted\u001b[0m\u001b[0;34m(\u001b[0m\u001b[0mglob\u001b[0m\u001b[0;34m.\u001b[0m\u001b[0mglob\u001b[0m\u001b[0;34m(\u001b[0m\u001b[0;34m'{}/acdc*/*.npy'\u001b[0m\u001b[0;34m.\u001b[0m\u001b[0mformat\u001b[0m\u001b[0;34m(\u001b[0m\u001b[0mexp_root\u001b[0m\u001b[0;34m)\u001b[0m\u001b[0;34m,\u001b[0m \u001b[0mrecursive\u001b[0m\u001b[0;34m=\u001b[0m\u001b[0;32mTrue\u001b[0m\u001b[0;34m)\u001b[0m\u001b[0;34m)\u001b[0m\u001b[0;34m\u001b[0m\u001b[0;34m\u001b[0m\u001b[0m\n\u001b[0;32m----> 7\u001b[0;31m     \u001b[0;32massert\u001b[0m \u001b[0mlen\u001b[0m\u001b[0;34m(\u001b[0m\u001b[0mall_pred_files\u001b[0m\u001b[0;34m)\u001b[0m \u001b[0;34m==\u001b[0m\u001b[0;36m4\u001b[0m\u001b[0;34m,\u001b[0m \u001b[0;34m'we expect a four-fold cv, but found: {} predictions'\u001b[0m\u001b[0;34m.\u001b[0m\u001b[0mformat\u001b[0m\u001b[0;34m(\u001b[0m\u001b[0mlen\u001b[0m\u001b[0;34m(\u001b[0m\u001b[0mall_pred_files\u001b[0m\u001b[0;34m)\u001b[0m\u001b[0;34m)\u001b[0m\u001b[0;34m\u001b[0m\u001b[0;34m\u001b[0m\u001b[0m\n\u001b[0m\u001b[1;32m      8\u001b[0m     \u001b[0;31m#print('predictions found: {}'.format(len(all_pred_files)))\u001b[0m\u001b[0;34m\u001b[0m\u001b[0;34m\u001b[0m\u001b[0;34m\u001b[0m\u001b[0m\n\u001b[1;32m      9\u001b[0m     \u001b[0;31m# Load the numpy files\u001b[0m\u001b[0;34m\u001b[0m\u001b[0;34m\u001b[0m\u001b[0;34m\u001b[0m\u001b[0m\n",
          "\u001b[0;31mAssertionError\u001b[0m: we expect a four-fold cv, but found: 0 predictions"
         ]
        }
       ]
      }
     },
     "9ed04fe05d0e4c2290fe58643fcd818b": {
      "model_module": "@jupyter-widgets/controls",
      "model_module_version": "1.5.0",
      "model_name": "VBoxModel",
      "state": {
       "_dom_classes": [
        "widget-interact"
       ],
       "children": [
        "IPY_MODEL_fb130164e9ee42e5add993e302ff0f3b",
        "IPY_MODEL_c1ad95e0d3d044b1a253ee8e1d6d6722"
       ],
       "layout": "IPY_MODEL_dbe8c91fe557420aba2672790a2fbe82"
      }
     },
     "9f408f1b52c848f9863ffb4b16108556": {
      "model_module": "@jupyter-widgets/controls",
      "model_module_version": "1.5.0",
      "model_name": "DescriptionStyleModel",
      "state": {
       "description_width": ""
      }
     },
     "a088afb22c634212b1774d925a40aa5e": {
      "model_module": "@jupyter-widgets/controls",
      "model_module_version": "1.5.0",
      "model_name": "DescriptionStyleModel",
      "state": {
       "description_width": ""
      }
     },
     "a3bfda093862400cb7ddf96b2349a6fe": {
      "model_module": "@jupyter-widgets/base",
      "model_module_version": "1.2.0",
      "model_name": "LayoutModel",
      "state": {}
     },
     "a5a1552f72d24154a3faaf16971ec44f": {
      "model_module": "@jupyter-widgets/controls",
      "model_module_version": "1.5.0",
      "model_name": "VBoxModel",
      "state": {
       "children": [
        "IPY_MODEL_dfdb465144f6465c922e35e9af3499a9",
        "IPY_MODEL_ea19e192819248389b6e125b3613d80c",
        "IPY_MODEL_7291fe7a9e8f4852aaa37c7ddda3b510"
       ],
       "layout": "IPY_MODEL_b27b8b18a26943228f0a297b8b6aa357"
      }
     },
     "a649c15bda5741ec9e7783cac6458370": {
      "model_module": "@jupyter-widgets/controls",
      "model_module_version": "1.5.0",
      "model_name": "DescriptionStyleModel",
      "state": {
       "description_width": ""
      }
     },
     "a7559e0c1bf3452da48ec530b353a7c7": {
      "model_module": "@jupyter-widgets/controls",
      "model_module_version": "1.5.0",
      "model_name": "DescriptionStyleModel",
      "state": {
       "description_width": ""
      }
     },
     "a9c90a4456e54f7884e7493868eb3a49": {
      "model_module": "@jupyter-widgets/base",
      "model_module_version": "1.2.0",
      "model_name": "LayoutModel",
      "state": {
       "width": "auto"
      }
     },
     "ae96a480dfb74a38bcac9d05f99e65f4": {
      "model_module": "@jupyter-widgets/base",
      "model_module_version": "1.2.0",
      "model_name": "LayoutModel",
      "state": {
       "display": "none",
       "grid_gap": "0px 0px",
       "grid_template_areas": "\n                    'pathlist filename'\n                    'dircontent dircontent'\n                    ",
       "grid_template_columns": "60% 40%",
       "grid_template_rows": "auto auto",
       "width": "500px"
      }
     },
     "afa74e4ab1c745e6bed1856f2ae6da13": {
      "model_module": "@jupyter-widgets/base",
      "model_module_version": "1.2.0",
      "model_name": "LayoutModel",
      "state": {
       "display": "none",
       "width": "auto"
      }
     },
     "b238be62884049adb1e09866f3789f71": {
      "model_module": "@jupyter-widgets/base",
      "model_module_version": "1.2.0",
      "model_name": "LayoutModel",
      "state": {
       "display": "none",
       "grid_gap": "0px 0px",
       "grid_template_areas": "\n                    'pathlist filename'\n                    'dircontent dircontent'\n                    ",
       "grid_template_columns": "60% 40%",
       "grid_template_rows": "auto auto",
       "width": "500px"
      }
     },
     "b27b8b18a26943228f0a297b8b6aa357": {
      "model_module": "@jupyter-widgets/base",
      "model_module_version": "1.2.0",
      "model_name": "LayoutModel",
      "state": {
       "width": "auto"
      }
     },
     "b2a11d91f7d84c98ba8eaaf664691e79": {
      "model_module": "@jupyter-widgets/controls",
      "model_module_version": "1.5.0",
      "model_name": "VBoxModel",
      "state": {
       "children": [
        "IPY_MODEL_324e6eb9dc5846cba10c0c31019f208a",
        "IPY_MODEL_0d7f0e074cd0439989f7479567419de9",
        "IPY_MODEL_2e47198df3f941d181a18306b5a33492"
       ],
       "layout": "IPY_MODEL_3059a3631b8e4f2394917f19ef304624"
      }
     },
     "b2b5e561c41f43f88c88fd39085d3b36": {
      "model_module": "@jupyter-widgets/base",
      "model_module_version": "1.2.0",
      "model_name": "LayoutModel",
      "state": {}
     },
     "b43d4f7f9ac640738a7a8d510ee696f1": {
      "model_module": "@jupyter-widgets/base",
      "model_module_version": "1.2.0",
      "model_name": "LayoutModel",
      "state": {}
     },
     "b4566b7f65cc4ebf9369fe78945869b2": {
      "model_module": "@jupyter-widgets/output",
      "model_module_version": "1.0.0",
      "model_name": "OutputModel",
      "state": {
       "layout": "IPY_MODEL_bafb63e3a0d54249a820d221f5488357",
       "outputs": [
        {
         "name": "stdout",
         "output_type": "stream",
         "text": "eval: /mnt/ssd/git/dynamic-cmr-models/exp/local/miccai_baseline/\n"
        },
        {
         "ename": "ValueError",
         "evalue": "need at least one array to concatenate",
         "output_type": "error",
         "traceback": [
          "\u001b[0;31m---------------------------------------------------------------------------\u001b[0m",
          "\u001b[0;31mValueError\u001b[0m                                Traceback (most recent call last)",
          "\u001b[0;32m~/anaconda3/envs/dcmr/lib/python3.8/site-packages/ipywidgets/widgets/interaction.py\u001b[0m in \u001b[0;36mupdate\u001b[0;34m(self, *args)\u001b[0m\n\u001b[1;32m    254\u001b[0m                     \u001b[0mvalue\u001b[0m \u001b[0;34m=\u001b[0m \u001b[0mwidget\u001b[0m\u001b[0;34m.\u001b[0m\u001b[0mget_interact_value\u001b[0m\u001b[0;34m(\u001b[0m\u001b[0;34m)\u001b[0m\u001b[0;34m\u001b[0m\u001b[0;34m\u001b[0m\u001b[0m\n\u001b[1;32m    255\u001b[0m                     \u001b[0mself\u001b[0m\u001b[0;34m.\u001b[0m\u001b[0mkwargs\u001b[0m\u001b[0;34m[\u001b[0m\u001b[0mwidget\u001b[0m\u001b[0;34m.\u001b[0m\u001b[0m_kwarg\u001b[0m\u001b[0;34m]\u001b[0m \u001b[0;34m=\u001b[0m \u001b[0mvalue\u001b[0m\u001b[0;34m\u001b[0m\u001b[0;34m\u001b[0m\u001b[0m\n\u001b[0;32m--> 256\u001b[0;31m                 \u001b[0mself\u001b[0m\u001b[0;34m.\u001b[0m\u001b[0mresult\u001b[0m \u001b[0;34m=\u001b[0m \u001b[0mself\u001b[0m\u001b[0;34m.\u001b[0m\u001b[0mf\u001b[0m\u001b[0;34m(\u001b[0m\u001b[0;34m**\u001b[0m\u001b[0mself\u001b[0m\u001b[0;34m.\u001b[0m\u001b[0mkwargs\u001b[0m\u001b[0;34m)\u001b[0m\u001b[0;34m\u001b[0m\u001b[0;34m\u001b[0m\u001b[0m\n\u001b[0m\u001b[1;32m    257\u001b[0m                 \u001b[0mshow_inline_matplotlib_plots\u001b[0m\u001b[0;34m(\u001b[0m\u001b[0;34m)\u001b[0m\u001b[0;34m\u001b[0m\u001b[0;34m\u001b[0m\u001b[0m\n\u001b[1;32m    258\u001b[0m                 \u001b[0;32mif\u001b[0m \u001b[0mself\u001b[0m\u001b[0;34m.\u001b[0m\u001b[0mauto_display\u001b[0m \u001b[0;32mand\u001b[0m \u001b[0mself\u001b[0m\u001b[0;34m.\u001b[0m\u001b[0mresult\u001b[0m \u001b[0;32mis\u001b[0m \u001b[0;32mnot\u001b[0m \u001b[0;32mNone\u001b[0m\u001b[0;34m:\u001b[0m\u001b[0;34m\u001b[0m\u001b[0;34m\u001b[0m\u001b[0m\n",
          "\u001b[0;32m<ipython-input-6-0780d23c2b62>\u001b[0m in \u001b[0;36meval_interact\u001b[0;34m(evaluate_)\u001b[0m\n\u001b[1;32m      6\u001b[0m     \u001b[0;32mglobal\u001b[0m \u001b[0mdf\u001b[0m\u001b[0;34m\u001b[0m\u001b[0;34m\u001b[0m\u001b[0m\n\u001b[1;32m      7\u001b[0m     \u001b[0;32mif\u001b[0m \u001b[0mevaluate_\u001b[0m\u001b[0;34m:\u001b[0m\u001b[0;34m\u001b[0m\u001b[0;34m\u001b[0m\u001b[0m\n\u001b[0;32m----> 8\u001b[0;31m         \u001b[0mdf\u001b[0m \u001b[0;34m=\u001b[0m \u001b[0mevaluate\u001b[0m\u001b[0;34m(\u001b[0m\u001b[0mfchooser\u001b[0m\u001b[0;34m.\u001b[0m\u001b[0mselected\u001b[0m\u001b[0;34m)\u001b[0m\u001b[0;34m\u001b[0m\u001b[0;34m\u001b[0m\u001b[0m\n\u001b[0m",
          "\u001b[0;32m<ipython-input-5-a69dd42a4809>\u001b[0m in \u001b[0;36mevaluate\u001b[0;34m(exp_root, result_df)\u001b[0m\n\u001b[1;32m     10\u001b[0m     \u001b[0mpreds\u001b[0m \u001b[0;34m=\u001b[0m \u001b[0mlist\u001b[0m\u001b[0;34m(\u001b[0m\u001b[0mmap\u001b[0m\u001b[0;34m(\u001b[0m\u001b[0;32mlambda\u001b[0m \u001b[0mx\u001b[0m \u001b[0;34m:\u001b[0m \u001b[0mnp\u001b[0m\u001b[0;34m.\u001b[0m\u001b[0mload\u001b[0m\u001b[0;34m(\u001b[0m\u001b[0mx\u001b[0m\u001b[0;34m)\u001b[0m\u001b[0;34m,\u001b[0m \u001b[0mall_pred_files\u001b[0m\u001b[0;34m)\u001b[0m\u001b[0;34m)\u001b[0m\u001b[0;34m\u001b[0m\u001b[0;34m\u001b[0m\u001b[0m\n\u001b[1;32m     11\u001b[0m     \u001b[0;31m# stack the numpy files\u001b[0m\u001b[0;34m\u001b[0m\u001b[0;34m\u001b[0m\u001b[0;34m\u001b[0m\u001b[0m\n\u001b[0;32m---> 12\u001b[0;31m     \u001b[0mpreds\u001b[0m \u001b[0;34m=\u001b[0m \u001b[0mnp\u001b[0m\u001b[0;34m.\u001b[0m\u001b[0mconcatenate\u001b[0m\u001b[0;34m(\u001b[0m\u001b[0mpreds\u001b[0m\u001b[0;34m,\u001b[0m \u001b[0maxis\u001b[0m\u001b[0;34m=\u001b[0m\u001b[0;36m1\u001b[0m\u001b[0;34m)\u001b[0m\u001b[0;34m\u001b[0m\u001b[0;34m\u001b[0m\u001b[0m\n\u001b[0m\u001b[1;32m     13\u001b[0m \u001b[0;34m\u001b[0m\u001b[0m\n\u001b[1;32m     14\u001b[0m     \u001b[0;31m# calculate the mean differences\u001b[0m\u001b[0;34m\u001b[0m\u001b[0;34m\u001b[0m\u001b[0;34m\u001b[0m\u001b[0m\n",
          "\u001b[0;32m<__array_function__ internals>\u001b[0m in \u001b[0;36mconcatenate\u001b[0;34m(*args, **kwargs)\u001b[0m\n",
          "\u001b[0;31mValueError\u001b[0m: need at least one array to concatenate"
         ]
        }
       ]
      }
     },
     "b5094917c4fd4664a68a7e5fba2dc7cc": {
      "model_module": "@jupyter-widgets/base",
      "model_module_version": "1.2.0",
      "model_name": "LayoutModel",
      "state": {}
     },
     "b586555607ec451db76799b6fceb2cdf": {
      "model_module": "@jupyter-widgets/controls",
      "model_module_version": "1.5.0",
      "model_name": "ButtonModel",
      "state": {
       "description": "Change",
       "layout": "IPY_MODEL_ddde7b7f505046f0bebe154bbaf19e78",
       "style": "IPY_MODEL_d59307b2645f4401bf2a6ecf2c9347a0"
      }
     },
     "b6a4ffb8bf21462aa5f0002268bcf090": {
      "model_module": "@jupyter-widgets/controls",
      "model_module_version": "1.5.0",
      "model_name": "DescriptionStyleModel",
      "state": {
       "description_width": ""
      }
     },
     "b9341b20cb6941e9a9d231bc2e2330bc": {
      "model_module": "@jupyter-widgets/controls",
      "model_module_version": "1.5.0",
      "model_name": "ButtonModel",
      "state": {
       "description": "Change",
       "layout": "IPY_MODEL_86fddd82efe545e89295a9f20e049e28",
       "style": "IPY_MODEL_edc390218d4b42f79a259230d67ab7de"
      }
     },
     "b94103fb34fb409ba933e4a7893463f2": {
      "model_module": "@jupyter-widgets/controls",
      "model_module_version": "1.5.0",
      "model_name": "VBoxModel",
      "state": {
       "_dom_classes": [
        "widget-interact"
       ],
       "children": [
        "IPY_MODEL_d0af284671c34ae7913989a7e7c0562c",
        "IPY_MODEL_9c01f814bc9e49b182b4f777173ad093"
       ],
       "layout": "IPY_MODEL_566aab47738746f681a2ab5067201fe4"
      }
     },
     "b9c8bdb7908142c0b364fc405d5a9aea": {
      "model_module": "@jupyter-widgets/controls",
      "model_module_version": "1.5.0",
      "model_name": "ButtonModel",
      "state": {
       "description": "Change",
       "layout": "IPY_MODEL_3f0881c1806e4fbc9ecfa718057ef9b3",
       "style": "IPY_MODEL_15cc2131b9484214a85223bd99b66bb6"
      }
     },
     "bafb63e3a0d54249a820d221f5488357": {
      "model_module": "@jupyter-widgets/base",
      "model_module_version": "1.2.0",
      "model_name": "LayoutModel",
      "state": {}
     },
     "bd9fc52d063249b6aaabba6ebcdd1639": {
      "model_module": "@jupyter-widgets/controls",
      "model_module_version": "1.5.0",
      "model_name": "DescriptionStyleModel",
      "state": {
       "description_width": ""
      }
     },
     "be315da7c2bf4582a8556ea90f476328": {
      "model_module": "@jupyter-widgets/base",
      "model_module_version": "1.2.0",
      "model_name": "LayoutModel",
      "state": {
       "width": "auto"
      }
     },
     "be6b2bab45b0474ca9a697953dcf8e32": {
      "model_module": "@jupyter-widgets/controls",
      "model_module_version": "1.5.0",
      "model_name": "DescriptionStyleModel",
      "state": {
       "description_width": ""
      }
     },
     "bfda9ec58a494697a90837be825e3f48": {
      "model_module": "@jupyter-widgets/controls",
      "model_module_version": "1.5.0",
      "model_name": "CheckboxModel",
      "state": {
       "description": "evaluate_",
       "disabled": false,
       "layout": "IPY_MODEL_5c3ca2c2d69f4de7812114eaa3188456",
       "style": "IPY_MODEL_a7559e0c1bf3452da48ec530b353a7c7",
       "value": true
      }
     },
     "bfeba6f9a9b34572b63dfad1a35d1ba0": {
      "model_module": "@jupyter-widgets/base",
      "model_module_version": "1.2.0",
      "model_name": "LayoutModel",
      "state": {}
     },
     "c1ad95e0d3d044b1a253ee8e1d6d6722": {
      "model_module": "@jupyter-widgets/output",
      "model_module_version": "1.0.0",
      "model_name": "OutputModel",
      "state": {
       "layout": "IPY_MODEL_b5094917c4fd4664a68a7e5fba2dc7cc",
       "outputs": [
        {
         "name": "stdout",
         "output_type": "stream",
         "text": "eval: /mnt/ssd/git/dynamic-cmr-models/exp/local/miccai_baseline_paug2/\n0\n"
        },
        {
         "ename": "ValueError",
         "evalue": "need at least one array to concatenate",
         "output_type": "error",
         "traceback": [
          "\u001b[0;31m---------------------------------------------------------------------------\u001b[0m",
          "\u001b[0;31mValueError\u001b[0m                                Traceback (most recent call last)",
          "\u001b[0;32m~/anaconda3/envs/dcmr/lib/python3.8/site-packages/ipywidgets/widgets/interaction.py\u001b[0m in \u001b[0;36mupdate\u001b[0;34m(self, *args)\u001b[0m\n\u001b[1;32m    254\u001b[0m                     \u001b[0mvalue\u001b[0m \u001b[0;34m=\u001b[0m \u001b[0mwidget\u001b[0m\u001b[0;34m.\u001b[0m\u001b[0mget_interact_value\u001b[0m\u001b[0;34m(\u001b[0m\u001b[0;34m)\u001b[0m\u001b[0;34m\u001b[0m\u001b[0;34m\u001b[0m\u001b[0m\n\u001b[1;32m    255\u001b[0m                     \u001b[0mself\u001b[0m\u001b[0;34m.\u001b[0m\u001b[0mkwargs\u001b[0m\u001b[0;34m[\u001b[0m\u001b[0mwidget\u001b[0m\u001b[0;34m.\u001b[0m\u001b[0m_kwarg\u001b[0m\u001b[0;34m]\u001b[0m \u001b[0;34m=\u001b[0m \u001b[0mvalue\u001b[0m\u001b[0;34m\u001b[0m\u001b[0;34m\u001b[0m\u001b[0m\n\u001b[0;32m--> 256\u001b[0;31m                 \u001b[0mself\u001b[0m\u001b[0;34m.\u001b[0m\u001b[0mresult\u001b[0m \u001b[0;34m=\u001b[0m \u001b[0mself\u001b[0m\u001b[0;34m.\u001b[0m\u001b[0mf\u001b[0m\u001b[0;34m(\u001b[0m\u001b[0;34m**\u001b[0m\u001b[0mself\u001b[0m\u001b[0;34m.\u001b[0m\u001b[0mkwargs\u001b[0m\u001b[0;34m)\u001b[0m\u001b[0;34m\u001b[0m\u001b[0;34m\u001b[0m\u001b[0m\n\u001b[0m\u001b[1;32m    257\u001b[0m                 \u001b[0mshow_inline_matplotlib_plots\u001b[0m\u001b[0;34m(\u001b[0m\u001b[0;34m)\u001b[0m\u001b[0;34m\u001b[0m\u001b[0;34m\u001b[0m\u001b[0m\n\u001b[1;32m    258\u001b[0m                 \u001b[0;32mif\u001b[0m \u001b[0mself\u001b[0m\u001b[0;34m.\u001b[0m\u001b[0mauto_display\u001b[0m \u001b[0;32mand\u001b[0m \u001b[0mself\u001b[0m\u001b[0;34m.\u001b[0m\u001b[0mresult\u001b[0m \u001b[0;32mis\u001b[0m \u001b[0;32mnot\u001b[0m \u001b[0;32mNone\u001b[0m\u001b[0;34m:\u001b[0m\u001b[0;34m\u001b[0m\u001b[0;34m\u001b[0m\u001b[0m\n",
          "\u001b[0;32m<ipython-input-13-87dedee55f78>\u001b[0m in \u001b[0;36meval_interact\u001b[0;34m(evaluate_)\u001b[0m\n\u001b[1;32m      6\u001b[0m     \u001b[0;32mglobal\u001b[0m \u001b[0mdf\u001b[0m\u001b[0;34m\u001b[0m\u001b[0;34m\u001b[0m\u001b[0m\n\u001b[1;32m      7\u001b[0m     \u001b[0;32mif\u001b[0m \u001b[0mevaluate_\u001b[0m\u001b[0;34m:\u001b[0m\u001b[0;34m\u001b[0m\u001b[0;34m\u001b[0m\u001b[0m\n\u001b[0;32m----> 8\u001b[0;31m         \u001b[0mdf\u001b[0m \u001b[0;34m=\u001b[0m \u001b[0mevaluate\u001b[0m\u001b[0;34m(\u001b[0m\u001b[0mfchooser\u001b[0m\u001b[0;34m.\u001b[0m\u001b[0mselected\u001b[0m\u001b[0;34m,\u001b[0m \u001b[0mpred_suffix\u001b[0m\u001b[0;34m=\u001b[0m\u001b[0;34m'acdc'\u001b[0m\u001b[0;34m)\u001b[0m\u001b[0;34m\u001b[0m\u001b[0;34m\u001b[0m\u001b[0m\n\u001b[0m",
          "\u001b[0;32m<ipython-input-12-d94cf9bee8bf>\u001b[0m in \u001b[0;36mevaluate\u001b[0;34m(exp_root, result_df, pred_suffix)\u001b[0m\n\u001b[1;32m     12\u001b[0m     \u001b[0mpreds\u001b[0m \u001b[0;34m=\u001b[0m \u001b[0mlist\u001b[0m\u001b[0;34m(\u001b[0m\u001b[0mmap\u001b[0m\u001b[0;34m(\u001b[0m\u001b[0;32mlambda\u001b[0m \u001b[0mx\u001b[0m \u001b[0;34m:\u001b[0m \u001b[0mnp\u001b[0m\u001b[0;34m.\u001b[0m\u001b[0mload\u001b[0m\u001b[0;34m(\u001b[0m\u001b[0mx\u001b[0m\u001b[0;34m)\u001b[0m\u001b[0;34m,\u001b[0m \u001b[0mall_pred_files\u001b[0m\u001b[0;34m)\u001b[0m\u001b[0;34m)\u001b[0m\u001b[0;34m\u001b[0m\u001b[0;34m\u001b[0m\u001b[0m\n\u001b[1;32m     13\u001b[0m     \u001b[0;31m# stack the numpy files\u001b[0m\u001b[0;34m\u001b[0m\u001b[0;34m\u001b[0m\u001b[0;34m\u001b[0m\u001b[0m\n\u001b[0;32m---> 14\u001b[0;31m     \u001b[0mpreds\u001b[0m \u001b[0;34m=\u001b[0m \u001b[0mnp\u001b[0m\u001b[0;34m.\u001b[0m\u001b[0mconcatenate\u001b[0m\u001b[0;34m(\u001b[0m\u001b[0mpreds\u001b[0m\u001b[0;34m,\u001b[0m \u001b[0maxis\u001b[0m\u001b[0;34m=\u001b[0m\u001b[0;36m1\u001b[0m\u001b[0;34m)\u001b[0m\u001b[0;34m\u001b[0m\u001b[0;34m\u001b[0m\u001b[0m\n\u001b[0m\u001b[1;32m     15\u001b[0m \u001b[0;34m\u001b[0m\u001b[0m\n\u001b[1;32m     16\u001b[0m     \u001b[0;31m# calculate the mean differences\u001b[0m\u001b[0;34m\u001b[0m\u001b[0;34m\u001b[0m\u001b[0;34m\u001b[0m\u001b[0m\n",
          "\u001b[0;32m<__array_function__ internals>\u001b[0m in \u001b[0;36mconcatenate\u001b[0;34m(*args, **kwargs)\u001b[0m\n",
          "\u001b[0;31mValueError\u001b[0m: need at least one array to concatenate"
         ]
        }
       ]
      }
     },
     "c1ffbb4865764f5187c5fd4c24c3893d": {
      "model_module": "@jupyter-widgets/controls",
      "model_module_version": "1.5.0",
      "model_name": "DescriptionStyleModel",
      "state": {
       "description_width": ""
      }
     },
     "c27aab207c82495ca4cf2d9e43048ef6": {
      "model_module": "@jupyter-widgets/controls",
      "model_module_version": "1.5.0",
      "model_name": "DescriptionStyleModel",
      "state": {
       "description_width": ""
      }
     },
     "c5a4b2e357ec4e6bbb067ba930686592": {
      "model_module": "@jupyter-widgets/controls",
      "model_module_version": "1.5.0",
      "model_name": "HBoxModel",
      "state": {
       "children": [
        "IPY_MODEL_b586555607ec451db76799b6fceb2cdf",
        "IPY_MODEL_0c36bbb6b0c44d32984675c52c927716",
        "IPY_MODEL_48209e9ad6d04932a72c77af805daf5f"
       ],
       "layout": "IPY_MODEL_27dad58a6f5d4a9185556ffc99a99f67"
      }
     },
     "c5c007adff374fa28ab280168e277d9a": {
      "model_module": "@jupyter-widgets/controls",
      "model_module_version": "1.5.0",
      "model_name": "DescriptionStyleModel",
      "state": {
       "description_width": ""
      }
     },
     "c65400b01dc148bea60b8f980599f7f2": {
      "model_module": "@jupyter-widgets/controls",
      "model_module_version": "1.5.0",
      "model_name": "CheckboxModel",
      "state": {
       "description": "evaluate_",
       "disabled": false,
       "layout": "IPY_MODEL_fa33caa4690041e88001498701705126",
       "style": "IPY_MODEL_9f408f1b52c848f9863ffb4b16108556",
       "value": true
      }
     },
     "c7c4c80002bf4bf4832f371070b6e458": {
      "model_module": "@jupyter-widgets/controls",
      "model_module_version": "1.5.0",
      "model_name": "DescriptionStyleModel",
      "state": {
       "description_width": ""
      }
     },
     "c7d6ed8334484910b059a887cc71e4d1": {
      "model_module": "@jupyter-widgets/base",
      "model_module_version": "1.2.0",
      "model_name": "LayoutModel",
      "state": {}
     },
     "c8956883add0478ca15c0b89f616ec5e": {
      "model_module": "@jupyter-widgets/controls",
      "model_module_version": "1.5.0",
      "model_name": "VBoxModel",
      "state": {
       "children": [
        "IPY_MODEL_d017384ae3da4ef08b826270d5fbf06a",
        "IPY_MODEL_76c3c0adacd74d95b0ba3b19a9fbffe8",
        "IPY_MODEL_4a6a6a44d4f442bba74f0e9cedcae007"
       ],
       "layout": "IPY_MODEL_7917f3dd148e4874abc705050078c259"
      }
     },
     "cda87801599142d89c7e4594dbc5c69b": {
      "model_module": "@jupyter-widgets/base",
      "model_module_version": "1.2.0",
      "model_name": "LayoutModel",
      "state": {
       "display": "none",
       "width": "auto"
      }
     },
     "ce87b9a00d5f47da8e3f044199d35863": {
      "model_module": "@jupyter-widgets/base",
      "model_module_version": "1.2.0",
      "model_name": "LayoutModel",
      "state": {
       "display": "none"
      }
     },
     "d017384ae3da4ef08b826270d5fbf06a": {
      "model_module": "@jupyter-widgets/controls",
      "model_module_version": "1.5.0",
      "model_name": "HTMLModel",
      "state": {
       "layout": "IPY_MODEL_4d652e9fe2f44877bf0708a4c9898a25",
       "style": "IPY_MODEL_ffcb7818d4944fafbe7f66ccf6ac910e"
      }
     },
     "d0257aa9b2424385addd4a9ad7185dd5": {
      "model_module": "@jupyter-widgets/base",
      "model_module_version": "1.2.0",
      "model_name": "LayoutModel",
      "state": {
       "grid_area": "pathlist",
       "width": "auto"
      }
     },
     "d0af284671c34ae7913989a7e7c0562c": {
      "model_module": "@jupyter-widgets/controls",
      "model_module_version": "1.5.0",
      "model_name": "CheckboxModel",
      "state": {
       "description": "evaluate_",
       "disabled": false,
       "layout": "IPY_MODEL_b2b5e561c41f43f88c88fd39085d3b36",
       "style": "IPY_MODEL_c7c4c80002bf4bf4832f371070b6e458",
       "value": true
      }
     },
     "d187165a69fb4ed587f5fe14fb430e44": {
      "model_module": "@jupyter-widgets/base",
      "model_module_version": "1.2.0",
      "model_name": "LayoutModel",
      "state": {
       "grid_area": "dircontent",
       "width": "auto"
      }
     },
     "d2cd160196fa425bb57bf049b6c82fd0": {
      "model_module": "@jupyter-widgets/controls",
      "model_module_version": "1.5.0",
      "model_name": "ButtonModel",
      "state": {
       "description": "Change",
       "layout": "IPY_MODEL_326b6e419c5c4d1881a0f54bcca94d57",
       "style": "IPY_MODEL_1fc647ce0533494db1c61cd090996332"
      }
     },
     "d51aef511dc74bfd9c238ee5fd03bacc": {
      "model_module": "@jupyter-widgets/base",
      "model_module_version": "1.2.0",
      "model_name": "LayoutModel",
      "state": {
       "display": "none",
       "width": "auto"
      }
     },
     "d59307b2645f4401bf2a6ecf2c9347a0": {
      "model_module": "@jupyter-widgets/controls",
      "model_module_version": "1.5.0",
      "model_name": "ButtonStyleModel",
      "state": {}
     },
     "d62bf61a1ada4f778585e9ed6c3e9083": {
      "model_module": "@jupyter-widgets/controls",
      "model_module_version": "1.5.0",
      "model_name": "ButtonStyleModel",
      "state": {}
     },
     "d71c11734a8344239417cffbe406ec36": {
      "model_module": "@jupyter-widgets/controls",
      "model_module_version": "1.5.0",
      "model_name": "DescriptionStyleModel",
      "state": {
       "description_width": ""
      }
     },
     "d8f815df843148769fe6dfc3b64a21d1": {
      "model_module": "@jupyter-widgets/base",
      "model_module_version": "1.2.0",
      "model_name": "LayoutModel",
      "state": {
       "display": "none",
       "width": "auto"
      }
     },
     "d9ceb4bdde0847bb801bf179e59d0599": {
      "model_module": "@jupyter-widgets/controls",
      "model_module_version": "1.5.0",
      "model_name": "DescriptionStyleModel",
      "state": {
       "description_width": ""
      }
     },
     "da293c6f66c1410b8d9cd2afa4183e07": {
      "model_module": "@jupyter-widgets/controls",
      "model_module_version": "1.5.0",
      "model_name": "DropdownModel",
      "state": {
       "_options_labels": [
        "/mnt/ssd/git/dynamic-cmr-models/exp/local/miccai_baseline",
        "/mnt/ssd/git/dynamic-cmr-models/exp/local",
        "/mnt/ssd/git/dynamic-cmr-models/exp",
        "/mnt/ssd/git/dynamic-cmr-models",
        "/mnt/ssd/git",
        "/mnt/ssd",
        "/mnt",
        "/"
       ],
       "index": 0,
       "layout": "IPY_MODEL_60db700a367c4765adc20a695533149e",
       "style": "IPY_MODEL_a088afb22c634212b1774d925a40aa5e"
      }
     },
     "db4d09a0f7cc45dba22154dbf193311e": {
      "model_module": "@jupyter-widgets/base",
      "model_module_version": "1.2.0",
      "model_name": "LayoutModel",
      "state": {}
     },
     "dbd846e29eb548949566fb16a6b4b64b": {
      "model_module": "@jupyter-widgets/controls",
      "model_module_version": "1.5.0",
      "model_name": "DescriptionStyleModel",
      "state": {
       "description_width": ""
      }
     },
     "dbe8c91fe557420aba2672790a2fbe82": {
      "model_module": "@jupyter-widgets/base",
      "model_module_version": "1.2.0",
      "model_name": "LayoutModel",
      "state": {}
     },
     "ddde7b7f505046f0bebe154bbaf19e78": {
      "model_module": "@jupyter-widgets/base",
      "model_module_version": "1.2.0",
      "model_name": "LayoutModel",
      "state": {
       "width": "auto"
      }
     },
     "dde181b2f67d421ba7cabb8c56086a7b": {
      "model_module": "@jupyter-widgets/base",
      "model_module_version": "1.2.0",
      "model_name": "LayoutModel",
      "state": {
       "grid_area": "filename",
       "width": "auto"
      }
     },
     "de27cfbd9d9d498aa8661f4896a907ea": {
      "model_module": "@jupyter-widgets/base",
      "model_module_version": "1.2.0",
      "model_name": "LayoutModel",
      "state": {
       "grid_area": "pathlist",
       "width": "auto"
      }
     },
     "dfc2dbf84835437689ac604011394628": {
      "model_module": "@jupyter-widgets/controls",
      "model_module_version": "1.5.0",
      "model_name": "DropdownModel",
      "state": {
       "_options_labels": [
        "/mnt/ssd/git/dynamic-cmr-models/exp/local/miccai_baseline",
        "/mnt/ssd/git/dynamic-cmr-models/exp/local",
        "/mnt/ssd/git/dynamic-cmr-models/exp",
        "/mnt/ssd/git/dynamic-cmr-models",
        "/mnt/ssd/git",
        "/mnt/ssd",
        "/mnt",
        "/"
       ],
       "index": 0,
       "layout": "IPY_MODEL_d0257aa9b2424385addd4a9ad7185dd5",
       "style": "IPY_MODEL_a649c15bda5741ec9e7783cac6458370"
      }
     },
     "dfdb465144f6465c922e35e9af3499a9": {
      "model_module": "@jupyter-widgets/controls",
      "model_module_version": "1.5.0",
      "model_name": "HTMLModel",
      "state": {
       "layout": "IPY_MODEL_7c57621c31fe40d9bc15135e1864c0bf",
       "style": "IPY_MODEL_52bd4c922bb346c6be5bb20b9215c17f"
      }
     },
     "e179ecf141294b94b7fe1a4cf560dd13": {
      "model_module": "@jupyter-widgets/base",
      "model_module_version": "1.2.0",
      "model_name": "LayoutModel",
      "state": {
       "display": "none",
       "grid_gap": "0px 0px",
       "grid_template_areas": "\n                    'pathlist filename'\n                    'dircontent dircontent'\n                    ",
       "grid_template_columns": "60% 40%",
       "grid_template_rows": "auto auto",
       "width": "500px"
      }
     },
     "e237f05f5aad47889a5d4ab54bd1700b": {
      "model_module": "@jupyter-widgets/controls",
      "model_module_version": "1.5.0",
      "model_name": "TextModel",
      "state": {
       "layout": "IPY_MODEL_fe2522a8ad444a7eaa19a92973301b0c",
       "placeholder": "output filename",
       "style": "IPY_MODEL_c5c007adff374fa28ab280168e277d9a"
      }
     },
     "e42f3a3c8a584a378459afda2f13fc43": {
      "model_module": "@jupyter-widgets/controls",
      "model_module_version": "1.5.0",
      "model_name": "SelectModel",
      "state": {
       "_options_labels": [
        "..",
        "miccai_baseline_f0",
        "miccai_baseline_f1",
        "miccai_baseline_f2",
        "miccai_baseline_f3"
       ],
       "index": null,
       "layout": "IPY_MODEL_17272c5830a24bbbb3d7abf0bbe3f0f7",
       "rows": 8,
       "style": "IPY_MODEL_64c23681518748c2af5eb86d826e51a6"
      }
     },
     "e59560e94de3409db76f070f1c3c6a83": {
      "model_module": "@jupyter-widgets/controls",
      "model_module_version": "1.5.0",
      "model_name": "DescriptionStyleModel",
      "state": {
       "description_width": ""
      }
     },
     "e72af74a05d744fe83840baf4fb1d333": {
      "model_module": "@jupyter-widgets/base",
      "model_module_version": "1.2.0",
      "model_name": "LayoutModel",
      "state": {
       "display": "none"
      }
     },
     "e78a7d620ccd4d3a894a6a792bcdffcb": {
      "model_module": "@jupyter-widgets/controls",
      "model_module_version": "1.5.0",
      "model_name": "HTMLModel",
      "state": {
       "layout": "IPY_MODEL_bfeba6f9a9b34572b63dfad1a35d1ba0",
       "placeholder": "",
       "style": "IPY_MODEL_c1ffbb4865764f5187c5fd4c24c3893d",
       "value": "<span style=\"margin-left:10px; color:green;\">/mnt/ssd/git/dynamic-cmr-models/exp/local/miccai_baseline_paug2/</span>"
      }
     },
     "e8a6f09879bf4b3390e1a9e75bc1a06e": {
      "model_module": "@jupyter-widgets/controls",
      "model_module_version": "1.5.0",
      "model_name": "SelectModel",
      "state": {
       "_options_labels": [
        "..",
        "miccai_baseline_f0",
        "miccai_baseline_f1",
        "miccai_baseline_f2",
        "miccai_baseline_f3"
       ],
       "index": null,
       "layout": "IPY_MODEL_2d6db76f016849fb990674799aa738fe",
       "rows": 8,
       "style": "IPY_MODEL_72af1bb160124051a3e78457d11e1ae0"
      }
     },
     "ea19e192819248389b6e125b3613d80c": {
      "model_module": "@jupyter-widgets/controls",
      "model_module_version": "1.5.0",
      "model_name": "GridBoxModel",
      "state": {
       "children": [
        "IPY_MODEL_49eae9fae0ad461cb4a139c96bad0b14",
        "IPY_MODEL_78fe7ac9307944bfb392c9debed5edfd",
        "IPY_MODEL_5e94955c6288498795719328df9a1aaf"
       ],
       "layout": "IPY_MODEL_29230de9ab9c49ffbb7cfee8e2aab0ab"
      }
     },
     "ea505410239c40a48b2b2a5373dc4fe6": {
      "model_module": "@jupyter-widgets/base",
      "model_module_version": "1.2.0",
      "model_name": "LayoutModel",
      "state": {
       "display": "none",
       "grid_gap": "0px 0px",
       "grid_template_areas": "\n                    'pathlist filename'\n                    'dircontent dircontent'\n                    ",
       "grid_template_columns": "60% 40%",
       "grid_template_rows": "auto auto",
       "width": "500px"
      }
     },
     "ea54b9c316d94226bd88cbe64b8d929b": {
      "model_module": "@jupyter-widgets/controls",
      "model_module_version": "1.5.0",
      "model_name": "VBoxModel",
      "state": {
       "_dom_classes": [
        "widget-interact"
       ],
       "children": [
        "IPY_MODEL_5afd269d064744acaf3c83431c9ed1ab",
        "IPY_MODEL_24a73dd40f43491d910ef73d0f50f588"
       ],
       "layout": "IPY_MODEL_114010cce6324d8891741bfe290f69e2"
      }
     },
     "ec565c31fdd7477190d4ea3cfbcd7b34": {
      "model_module": "@jupyter-widgets/base",
      "model_module_version": "1.2.0",
      "model_name": "LayoutModel",
      "state": {
       "grid_area": "filename",
       "width": "auto"
      }
     },
     "edc390218d4b42f79a259230d67ab7de": {
      "model_module": "@jupyter-widgets/controls",
      "model_module_version": "1.5.0",
      "model_name": "ButtonStyleModel",
      "state": {}
     },
     "ef1519ccf0cb4f5ba94fa2a935f4ab92": {
      "model_module": "@jupyter-widgets/controls",
      "model_module_version": "1.5.0",
      "model_name": "DescriptionStyleModel",
      "state": {
       "description_width": ""
      }
     },
     "ef568430947347edbaa3f69bd243be8d": {
      "model_module": "@jupyter-widgets/controls",
      "model_module_version": "1.5.0",
      "model_name": "DescriptionStyleModel",
      "state": {
       "description_width": ""
      }
     },
     "f08d3b21716f450db84c42859044d9a7": {
      "model_module": "@jupyter-widgets/controls",
      "model_module_version": "1.5.0",
      "model_name": "HTMLModel",
      "state": {
       "layout": "IPY_MODEL_39e3dba71b244ef9a0dff60e1fb54b9d",
       "placeholder": "",
       "style": "IPY_MODEL_dbd846e29eb548949566fb16a6b4b64b",
       "value": "<span style=\"margin-left:10px; color:green;\">/mnt/ssd/git/dynamic-cmr-models/exp/local/miccai_baseline/</span>"
      }
     },
     "f7aa6eca43cd4f0b88df1c872105e420": {
      "model_module": "@jupyter-widgets/controls",
      "model_module_version": "1.5.0",
      "model_name": "DescriptionStyleModel",
      "state": {
       "description_width": ""
      }
     },
     "fa33caa4690041e88001498701705126": {
      "model_module": "@jupyter-widgets/base",
      "model_module_version": "1.2.0",
      "model_name": "LayoutModel",
      "state": {}
     },
     "fa9ef839f8a24e36960d948765d0d8ed": {
      "model_module": "@jupyter-widgets/base",
      "model_module_version": "1.2.0",
      "model_name": "LayoutModel",
      "state": {}
     },
     "fb130164e9ee42e5add993e302ff0f3b": {
      "model_module": "@jupyter-widgets/controls",
      "model_module_version": "1.5.0",
      "model_name": "CheckboxModel",
      "state": {
       "description": "evaluate_",
       "disabled": false,
       "layout": "IPY_MODEL_db4d09a0f7cc45dba22154dbf193311e",
       "style": "IPY_MODEL_78d6081ba98d4cc1ac9e733281cf9ca8",
       "value": true
      }
     },
     "fb7b07031d9740b6875d994ac1c0b5fb": {
      "model_module": "@jupyter-widgets/base",
      "model_module_version": "1.2.0",
      "model_name": "LayoutModel",
      "state": {}
     },
     "fba161734a8048d295ad2d82ff06a8dd": {
      "model_module": "@jupyter-widgets/controls",
      "model_module_version": "1.5.0",
      "model_name": "GridBoxModel",
      "state": {
       "children": [
        "IPY_MODEL_7c22feb9c432416ca7f19817c1ca09d1",
        "IPY_MODEL_69821cb9abac457b93aafc19a7643c63",
        "IPY_MODEL_0d2785cef2f046d5976d2ddcc93e6d24"
       ],
       "layout": "IPY_MODEL_e179ecf141294b94b7fe1a4cf560dd13"
      }
     },
     "fd7f52aa5cb1496289f188136fb31bec": {
      "model_module": "@jupyter-widgets/controls",
      "model_module_version": "1.5.0",
      "model_name": "VBoxModel",
      "state": {
       "children": [
        "IPY_MODEL_6b367cc442004a38861873c6a3f4186c",
        "IPY_MODEL_7a02c91eb77048eda1d86faeeeefc390",
        "IPY_MODEL_053f15192622414cb0a5f1a5d834153a"
       ],
       "layout": "IPY_MODEL_35286b09d91c45a3b4c900cbf81a6070"
      }
     },
     "fdad1308f70c42d4b093605374190ba6": {
      "model_module": "@jupyter-widgets/base",
      "model_module_version": "1.2.0",
      "model_name": "LayoutModel",
      "state": {
       "grid_area": "pathlist",
       "width": "auto"
      }
     },
     "fe2522a8ad444a7eaa19a92973301b0c": {
      "model_module": "@jupyter-widgets/base",
      "model_module_version": "1.2.0",
      "model_name": "LayoutModel",
      "state": {
       "grid_area": "filename",
       "width": "auto"
      }
     },
     "fed4e875510d469db7eb28d20e74d8a6": {
      "model_module": "@jupyter-widgets/base",
      "model_module_version": "1.2.0",
      "model_name": "LayoutModel",
      "state": {}
     },
     "ff8503dc8bd84167b825f968c607d765": {
      "model_module": "@jupyter-widgets/controls",
      "model_module_version": "1.5.0",
      "model_name": "ButtonModel",
      "state": {
       "description": "Cancel",
       "layout": "IPY_MODEL_cda87801599142d89c7e4594dbc5c69b",
       "style": "IPY_MODEL_3403f3e52d3046b69dce9f93e25ff1ad"
      }
     },
     "ffcb7818d4944fafbe7f66ccf6ac910e": {
      "model_module": "@jupyter-widgets/controls",
      "model_module_version": "1.5.0",
      "model_name": "DescriptionStyleModel",
      "state": {
       "description_width": ""
      }
     }
    },
    "version_major": 2,
    "version_minor": 0
   }
  }
 },
 "nbformat": 4,
 "nbformat_minor": 4
}
