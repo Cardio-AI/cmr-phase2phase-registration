{
 "cells": [
  {
   "cell_type": "code",
   "execution_count": 1,
   "id": "1e16f5d4",
   "metadata": {},
   "outputs": [
    {
     "name": "stdout",
     "output_type": "stream",
     "text": [
      "search for root_dir and set working directory\n",
      "Working directory set to: /mnt/ssd/git/dynamic-cmr-models\n",
      "['/gpu:0', '/gpu:1']\n"
     ]
    }
   ],
   "source": [
    "# ------------------------------------------define logging and working directory\n",
    "from ProjectRoot import change_wd_to_project_root\n",
    "change_wd_to_project_root()\n",
    "from src.utils.Tensorflow_helper import choose_gpu_by_id\n",
    "# ------------------------------------------define GPU id/s to use\n",
    "GPU_IDS = '0,1'\n",
    "GPUS = choose_gpu_by_id(GPU_IDS)\n",
    "print(GPUS)\n",
    "# ------------------------------------------jupyter magic config\n",
    "%matplotlib inline\n",
    "%reload_ext autoreload\n",
    "%autoreload 2\n",
    "# ------------------------------------------ import helpers\n",
    "# this should import glob, os, and many other standard libs\n",
    "from src.utils.Notebook_imports import *\n",
    "from tensorflow.python.client import device_lib\n",
    "import tensorflow as tf\n",
    "tf.get_logger().setLevel('ERROR')\n",
    "# local imports\n",
    "from src.utils.Utils_io import Console_and_file_logger, init_config\n",
    "from src.visualization.Visualize import show_2D_or_3D, show_phases, show_phases_transpose\n",
    "from src.utils.KerasCallbacks import get_callbacks\n",
    "from src.data.Dataset import get_trainings_files"
   ]
  },
  {
   "cell_type": "markdown",
   "id": "3a2be8c9",
   "metadata": {},
   "source": [
    "# Get the phases as onehot-vector from an ACDC filename"
   ]
  },
  {
   "cell_type": "code",
   "execution_count": 31,
   "id": "8dbe3fe7",
   "metadata": {},
   "outputs": [
    {
     "name": "stdout",
     "output_type": "stream",
     "text": [
      "100\n",
      "/mnt/ssd/data/acdc/original/all/patient001/patient001_4d.nii.gz\n",
      "/mnt/ssd/data/acdc/original/all/patient001\n",
      "/mnt/ssd/data/acdc/original/all/patient001/Info.cfg\n",
      "{'ED': '1', 'ES': '12', 'Group': 'DCM', 'Height': '184.0', 'NbFrame': '30', 'Weight': '95.0'}\n",
      "ED: 1\n",
      "ES: 12\n",
      "length: 30\n",
      "(5,)\n"
     ]
    },
    {
     "data": {
      "text/plain": [
       "<matplotlib.image.AxesImage at 0x7f67a6d22700>"
      ]
     },
     "execution_count": 31,
     "metadata": {},
     "output_type": "execute_result"
    },
    {
     "data": {
      "image/png": "[encoded data removed]",
      "text/plain": [
       "<Figure size 432x288 with 1 Axes>"
      ]
     },
     "metadata": {
      "needs_background": "light"
     },
     "output_type": "display_data"
    }
   ],
   "source": [
    "# list of 4D files\n",
    "files_aced = sorted(glob.glob('/mnt/ssd/data/acdc/original/all/*/*4d.nii.gz'))\n",
    "print(len(files_aced))\n",
    "temp_f = files_aced[0]\n",
    "print(temp_f)\n",
    "# load cfg for one file/patient\n",
    "temp_p = os.path.dirname(os.path.abspath(temp_f))\n",
    "print(temp_p)\n",
    "temp_cfg_f = os.path.join(temp_p, 'Info.cfg')\n",
    "print(temp_cfg_f)\n",
    "import json\n",
    "temp_cfg=dict()\n",
    "cfg_f = open(temp_cfg_f)\n",
    "for l in cfg_f:\n",
    "    key,value = l.split(':')\n",
    "    temp_cfg[key] = value.replace('\\n','').replace(' ', '')\n",
    "print(temp_cfg)\n",
    "\n",
    "# extract ED/ES timetemp\n",
    "temp_ed = int(temp_cfg['ED'])\n",
    "temp_es = int(temp_cfg['ES'])\n",
    "temp_length = int(temp_cfg['NbFrame'])\n",
    "print('ED: {}'.format(temp_ed))\n",
    "print('ES: {}'.format(temp_es))\n",
    "print('length: {}'.format(temp_length))\n",
    "# create onehot vector, set the other phases to zero\n",
    "idx = np.zeros(5)\n",
    "print(idx.shape)\n",
    "idx[0] = temp_ed\n",
    "idx[2] = temp_es\n",
    "# order of phase classes, learnt by the phase regression model\n",
    "# ['ED#', 'MS#', 'ES#', 'PF#', 'MD#']]\n",
    "indices = np.round(idx * 1).astype(int)\n",
    "indices = np.clip(indices, a_min=0, a_max=temp_length)\n",
    "\n",
    "onehot = np.zeros((indices.size, temp_length))\n",
    "onehot[np.arange(indices.size), indices] = 1\n",
    "plt.imshow(onehot)\n",
    "\n",
    "\n"
   ]
  },
  {
   "cell_type": "code",
   "execution_count": null,
   "id": "cd16207a",
   "metadata": {},
   "outputs": [],
   "source": []
  }
 ],
 "metadata": {
  "kernelspec": {
   "display_name": "dcmr",
   "language": "python",
   "name": "dcmr"
  },
  "language_info": {
   "codemirror_mode": {
    "name": "ipython",
    "version": 3
   },
   "file_extension": ".py",
   "mimetype": "text/x-python",
   "name": "python",
   "nbconvert_exporter": "python",
   "pygments_lexer": "ipython3",
   "version": "3.8.5"
  },
  "widgets": {
   "application/vnd.jupyter.widget-state+json": {
    "state": {},
    "version_major": 2,
    "version_minor": 0
   }
  }
 },
 "nbformat": 4,
 "nbformat_minor": 5
}
