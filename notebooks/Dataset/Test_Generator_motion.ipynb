{
 "cells": [
  {
   "cell_type": "code",
   "execution_count": 1,
   "metadata": {},
   "outputs": [
    {
     "name": "stdout",
     "output_type": "stream",
     "text": [
      "search for root_dir and set working directory\n",
      "Working directory set to: /mnt/ssd/git/dynamic-cmr-models\n"
     ]
    },
    {
     "name": "stderr",
     "output_type": "stream",
     "text": [
      "2021-02-08 19:37:08,628 INFO -------------------- Start --------------------\n",
      "2021-02-08 19:37:08,629 INFO Working directory: /mnt/ssd/git/dynamic-cmr-models.\n",
      "2021-02-08 19:37:08,629 INFO Log file: ./logs/temp/MotionGenerator-tests.log\n",
      "2021-02-08 19:37:08,629 INFO Log level for console: INFO\n"
     ]
    },
    {
     "name": "stdout",
     "output_type": "stream",
     "text": [
      "{'SEED': 42, 'EXPERIMENT': 'temp/MotionGenerator-tests', 'BATCHSIZE': 1, 'GENERATOR_WORKER': 1, 'DIM': [60, 192, 192], 'SPACING': [2, 2, 2], 'MASK_VALUES': [1, 2, 3], 'MASK_CLASSES': 3, 'MASKING_IMAGE': True, 'MASKING_VALUES': [2], 'BORDER_MODE': 4, 'IMG_INTERPOLATION': 1, 'MSK_INTERPOLATION': 0, 'AUGMENT': True, 'AUGMENT_PROB': 1, 'SHUFFLE': True, 'RESAMPLE': True, 'SCALER': 'Standard', 'CONFIG_PATH': 'reports/config/temp/MotionGenerator-tests', 'TENSORBOARD_LOG_DIR': 'reports/tensorboard_logs/temp/MotionGenerator-tests', 'MODEL_PATH': 'models/temp/MotionGenerator-tests', 'HISTORY_PATH': 'reports/history/temp/MotionGenerator-tests'}\n"
     ]
    }
   ],
   "source": [
    "# ------------------------------------------define logging and working directory\n",
    "from ProjectRoot import change_wd_to_project_root\n",
    "change_wd_to_project_root()\n",
    "\n",
    "# this should import glob, os, and many other standard libs\n",
    "from src.utils.Notebook_imports import *\n",
    "\n",
    "# local imports\n",
    "from src.utils.Utils_io import Console_and_file_logger, init_config\n",
    "from src.visualization.Visualize import show_2D_or_3D\n",
    "\n",
    "# import external libs\n",
    "import cv2\n",
    "import pandas as pd\n",
    "\n",
    "EXPERIMENT = 'temp/MotionGenerator-tests'\n",
    "\n",
    "# ------------------------------------------generator hyperparameters\n",
    "SEED = 42 # define a seed for the generator shuffle\n",
    "BATCHSIZE = 1 # 32, 64, 24, 16, 1 for 3D use: 4\n",
    "GENERATOR_WORKER = BATCHSIZE # if not set, use batchsize\n",
    "DIM = [60, 192, 192] # network input params for spacing of 3, (z,y,x)\n",
    "SPACING = [2, 2, 2] # if resample, resample to this spacing, (z,y,x)\n",
    "# maybe we can drop this channel?\n",
    "#IMG_CHANNELS = 1 # Currently our model needs that image channel\n",
    "MASK_VALUES = [1, 2, 3]  #channel order: Background, RV, MYO, LV\n",
    "MASK_CLASSES = len(MASK_VALUES) # no of labels\n",
    "MASKING_IMAGE = True\n",
    "MASKING_VALUES = [2]\n",
    "BORDER_MODE = cv2.BORDER_REFLECT_101 # border mode for the data generation\n",
    "IMG_INTERPOLATION = cv2.INTER_LINEAR # image interpolation in the genarator\n",
    "MSK_INTERPOLATION = cv2.INTER_NEAREST # mask interpolation in the generator\n",
    "AUGMENT = True # a compose of 2D augmentation (grid distortion, 90degree rotation, brightness and shift)\n",
    "AUGMENT_PROB = 1\n",
    "SHUFFLE = True\n",
    "RESAMPLE = True\n",
    "SCALER = 'Standard' # MinMax Standard or Robust\n",
    "\n",
    "Console_and_file_logger(EXPERIMENT, logging.INFO)\n",
    "config = init_config(config=locals(), save=True)\n",
    "print(config)"
   ]
  },
  {
   "cell_type": "code",
   "execution_count": 2,
   "metadata": {},
   "outputs": [
    {
     "data": {
      "application/vnd.jupyter.widget-view+json": {
       "model_id": "f13b2f8c10d24af087bdae90ab6818d2",
       "version_major": 2,
       "version_minor": 0
      },
      "text/plain": [
       "FileChooser(path='/mnt/ssd/data/gcn/02_imported_4D_unfiltered', filename='', title='HTML(value='', layout=Layo…"
      ]
     },
     "metadata": {},
     "output_type": "display_data"
    },
    {
     "data": {
      "application/vnd.jupyter.widget-view+json": {
       "model_id": "421a0cd0034f4f999a65a36091145ecc",
       "version_major": 2,
       "version_minor": 0
      },
      "text/plain": [
       "interactive(children=(Button(description='Run Interact', style=ButtonStyle()), Output()), _dom_classes=('widge…"
      ]
     },
     "metadata": {},
     "output_type": "display_data"
    }
   ],
   "source": [
    "######################################\n",
    "# for fast tests, no choice\n",
    "path_to_df = '/mnt/ssd/data/gcn/02_imported_4D_unfiltered/SAx_3D_dicomTags_phase_outcome_meta_bsa'\n",
    "df = pd.read_csv(path_to_df)\n",
    "df['phase'] = pd.Categorical(df.phase, \n",
    "                      categories=['ED','MS','ES','PF','MD'],\n",
    "                      ordered=True)\n",
    "#print(df.info())\n",
    "#######################################\n",
    "\n",
    "# load the dataframe\n",
    "from ipyfilechooser import FileChooser\n",
    "df_chooser = FileChooser('/mnt/ssd/data/gcn/02_imported_4D_unfiltered/')\n",
    "display(df_chooser)\n",
    "@interact_manual\n",
    "def load_df():\n",
    "    global df\n",
    "    if df_chooser.selected is not None:\n",
    "        path_to_df  = df_chooser.selected\n",
    "        df = pd.read_csv(path_to_df)\n",
    "        df['phase'] = pd.Categorical(df.phase, \n",
    "                              categories=['ED','MS','ES','PF','MD'],\n",
    "                              ordered=True)\n",
    "        #print(df.describe())\n",
    "        print(df.info())"
   ]
  },
  {
   "cell_type": "code",
   "execution_count": 3,
   "metadata": {},
   "outputs": [
    {
     "name": "stdout",
     "output_type": "stream",
     "text": [
      "      patient PatientID\n",
      "5    04NEJQUZ  04NEJQU7\n",
      "6    04NEJQUZ  04NEJQU7\n",
      "7    04NEJQUZ  04NEJQU7\n",
      "8    04NEJQUZ  04NEJQU7\n",
      "9    04NEJQUZ  04NEJQU7\n",
      "640  GZH20326  6ZH20326\n",
      "641  GZH20326  6ZH20326\n",
      "642  GZH20326  6ZH20326\n",
      "643  GZH20326  6ZH20326\n",
      "644  GZH20326  6ZH20326\n",
      "890  PEXM9GEK  PEXM9GE \n",
      "891  PEXM9GEK  PEXM9GE \n",
      "892  PEXM9GEK  PEXM9GE \n",
      "893  PEXM9GEK  PEXM9GE \n",
      "894  PEXM9GEK  PEXM9GE \n"
     ]
    },
    {
     "data": {
      "text/html": [
       "<div>\n",
       "<style scoped>\n",
       "    .dataframe tbody tr th:only-of-type {\n",
       "        vertical-align: middle;\n",
       "    }\n",
       "\n",
       "    .dataframe tbody tr th {\n",
       "        vertical-align: top;\n",
       "    }\n",
       "\n",
       "    .dataframe thead th {\n",
       "        text-align: right;\n",
       "    }\n",
       "</style>\n",
       "<table border=\"1\" class=\"dataframe\">\n",
       "  <thead>\n",
       "    <tr style=\"text-align: right;\">\n",
       "      <th></th>\n",
       "      <th>patient</th>\n",
       "      <th>x_path</th>\n",
       "      <th>phase</th>\n",
       "    </tr>\n",
       "  </thead>\n",
       "  <tbody>\n",
       "    <tr>\n",
       "      <th>0</th>\n",
       "      <td>02Z1L14N</td>\n",
       "      <td>/mnt/ssd/data/gcn/02_imported_4D_unfiltered/SA...</td>\n",
       "      <td>MS</td>\n",
       "    </tr>\n",
       "    <tr>\n",
       "      <th>1</th>\n",
       "      <td>02Z1L14N</td>\n",
       "      <td>/mnt/ssd/data/gcn/02_imported_4D_unfiltered/SA...</td>\n",
       "      <td>ES</td>\n",
       "    </tr>\n",
       "    <tr>\n",
       "      <th>2</th>\n",
       "      <td>02Z1L14N</td>\n",
       "      <td>/mnt/ssd/data/gcn/02_imported_4D_unfiltered/SA...</td>\n",
       "      <td>PF</td>\n",
       "    </tr>\n",
       "    <tr>\n",
       "      <th>3</th>\n",
       "      <td>02Z1L14N</td>\n",
       "      <td>/mnt/ssd/data/gcn/02_imported_4D_unfiltered/SA...</td>\n",
       "      <td>MD</td>\n",
       "    </tr>\n",
       "    <tr>\n",
       "      <th>4</th>\n",
       "      <td>02Z1L14N</td>\n",
       "      <td>/mnt/ssd/data/gcn/02_imported_4D_unfiltered/SA...</td>\n",
       "      <td>ED</td>\n",
       "    </tr>\n",
       "    <tr>\n",
       "      <th>...</th>\n",
       "      <td>...</td>\n",
       "      <td>...</td>\n",
       "      <td>...</td>\n",
       "    </tr>\n",
       "    <tr>\n",
       "      <th>1320</th>\n",
       "      <td>ZZQ0001Q</td>\n",
       "      <td>/mnt/ssd/data/gcn/02_imported_4D_unfiltered/SA...</td>\n",
       "      <td>ED</td>\n",
       "    </tr>\n",
       "    <tr>\n",
       "      <th>1321</th>\n",
       "      <td>ZZQ0001Q</td>\n",
       "      <td>/mnt/ssd/data/gcn/02_imported_4D_unfiltered/SA...</td>\n",
       "      <td>MS</td>\n",
       "    </tr>\n",
       "    <tr>\n",
       "      <th>1322</th>\n",
       "      <td>ZZQ0001Q</td>\n",
       "      <td>/mnt/ssd/data/gcn/02_imported_4D_unfiltered/SA...</td>\n",
       "      <td>ES</td>\n",
       "    </tr>\n",
       "    <tr>\n",
       "      <th>1323</th>\n",
       "      <td>ZZQ0001Q</td>\n",
       "      <td>/mnt/ssd/data/gcn/02_imported_4D_unfiltered/SA...</td>\n",
       "      <td>PF</td>\n",
       "    </tr>\n",
       "    <tr>\n",
       "      <th>1324</th>\n",
       "      <td>ZZQ0001Q</td>\n",
       "      <td>/mnt/ssd/data/gcn/02_imported_4D_unfiltered/SA...</td>\n",
       "      <td>MD</td>\n",
       "    </tr>\n",
       "  </tbody>\n",
       "</table>\n",
       "<p>1325 rows × 3 columns</p>\n",
       "</div>"
      ],
      "text/plain": [
       "       patient                                             x_path phase\n",
       "0     02Z1L14N  /mnt/ssd/data/gcn/02_imported_4D_unfiltered/SA...    MS\n",
       "1     02Z1L14N  /mnt/ssd/data/gcn/02_imported_4D_unfiltered/SA...    ES\n",
       "2     02Z1L14N  /mnt/ssd/data/gcn/02_imported_4D_unfiltered/SA...    PF\n",
       "3     02Z1L14N  /mnt/ssd/data/gcn/02_imported_4D_unfiltered/SA...    MD\n",
       "4     02Z1L14N  /mnt/ssd/data/gcn/02_imported_4D_unfiltered/SA...    ED\n",
       "...        ...                                                ...   ...\n",
       "1320  ZZQ0001Q  /mnt/ssd/data/gcn/02_imported_4D_unfiltered/SA...    ED\n",
       "1321  ZZQ0001Q  /mnt/ssd/data/gcn/02_imported_4D_unfiltered/SA...    MS\n",
       "1322  ZZQ0001Q  /mnt/ssd/data/gcn/02_imported_4D_unfiltered/SA...    ES\n",
       "1323  ZZQ0001Q  /mnt/ssd/data/gcn/02_imported_4D_unfiltered/SA...    PF\n",
       "1324  ZZQ0001Q  /mnt/ssd/data/gcn/02_imported_4D_unfiltered/SA...    MD\n",
       "\n",
       "[1325 rows x 3 columns]"
      ]
     },
     "execution_count": 3,
     "metadata": {},
     "output_type": "execute_result"
    }
   ],
   "source": [
    "# check internally if there are two columns for the patient ID, the original row from the Excel-Sheet had errors\n",
    "print(df[['patient', 'PatientID']][df.PatientID != df.patient])\n",
    "# extract the files for all phases\n",
    "df_phases = df[['patient','x_path', 'phase']]\n",
    "df_phases"
   ]
  },
  {
   "cell_type": "code",
   "execution_count": 4,
   "metadata": {},
   "outputs": [],
   "source": [
    "# zip the phase files in the following structure:\n",
    "#[[patient1_phase1, patient1_phase2, patient1_phase3, patient1_phase4, patient1_phase5],[patient2_phase1...] ...]\n",
    "\n",
    "ed = df_phases[df_phases['phase'] == 'ED']['x_path']\n",
    "ms = df_phases[df_phases['phase'] == 'MS']['x_path']\n",
    "es = df_phases[df_phases['phase'] == 'ES']['x_path']\n",
    "pf = df_phases[df_phases['phase'] == 'PF']['x_path']\n",
    "md = df_phases[df_phases['phase'] == 'MD']['x_path']\n",
    "\n",
    "# zip the phase liss into one list of lists/tuples\n",
    "inputs = list(zip(ed,ms,es,pf,md))\n",
    "outputs = list(zip(ms,es,pf,md,ed))"
   ]
  },
  {
   "cell_type": "code",
   "execution_count": 5,
   "metadata": {},
   "outputs": [
    {
     "name": "stderr",
     "output_type": "stream",
     "text": [
      "2021-02-08 19:37:10,133 INFO Create DataGenerator\n",
      "2021-02-08 19:37:10,138 INFO Datagenerator created with: \n",
      " shape: [60, 192, 192]\n",
      " spacing: [2, 2, 2]\n",
      " batchsize: 1\n",
      " Scaler: Standard\n",
      " Images: 265 \n",
      " Augment: True \n",
      " Thread workers: 1\n",
      "2021-02-08 19:37:10,139 INFO Data will be augmented (shift,scale and rotate) with albumentation\n",
      "2021-02-08 19:37:10,139 INFO Create DataGenerator\n",
      "2021-02-08 19:37:10,144 INFO Datagenerator created with: \n",
      " shape: [60, 192, 192]\n",
      " spacing: [2, 2, 2]\n",
      " batchsize: 1\n",
      " Scaler: Standard\n",
      " Images: 265 \n",
      " Augment: False \n",
      " Thread workers: 1\n",
      "2021-02-08 19:37:10,145 INFO No augmentation\n"
     ]
    }
   ],
   "source": [
    "# initialise a generator with these files\n",
    "# logging.getLogger().setLevel(logging.INFO)\n",
    "from src.data.Generators import MotionDataGenerator\n",
    "config['AUGMENT'] = True\n",
    "config['RESAMPLE'] = True\n",
    "batch_generator = MotionDataGenerator(inputs, outputs, config=config)\n",
    "val_config = config.copy()\n",
    "val_config['AUGMENT'] = False\n",
    "validation_generator = MotionDataGenerator(inputs, outputs , config=val_config)"
   ]
  },
  {
   "cell_type": "code",
   "execution_count": 16,
   "metadata": {},
   "outputs": [
    {
     "data": {
      "application/vnd.jupyter.widget-view+json": {
       "model_id": "60c023758fc545199917338a428d9fcb",
       "version_major": 2,
       "version_minor": 0
      },
      "text/plain": [
       "interactive(children=(IntSlider(value=132, description='batch', max=265), IntSlider(value=0, description='im',…"
      ]
     },
     "metadata": {},
     "output_type": "display_data"
    }
   ],
   "source": [
    "# visualise one batch\n",
    "@interact_manual\n",
    "def select_image_in_batch(batch = (0,len(batch_generator), 1), im = (0,BATCHSIZE- 1, 1), slice_n=(1,11), save=False, filepath='data/temp/', filename='temp_x.npy'):\n",
    "    \n",
    "    import time\n",
    "    global inputs, outputs\n",
    "    t1 = time.time()\n",
    "    inputs, outputs = batch_generator.__getitem__(batch)\n",
    "    logging.info('Preprocessing took: {:0.3f}'.format(time.time() - t1))\n",
    "    print(inputs.shape, outputs.shape)\n",
    "    print('selected batch : ' + str(batch))\n",
    "    \n",
    "    selected_input = inputs[im]\n",
    "    selected_output = outputs[im]\n",
    "    \n",
    "    list(map(lambda x: show_2D_or_3D(img=x[::slice_n], interpol='bilinear',dpi=100,f_size=(5,5)), selected_input))\n",
    "    plt.show()\n",
    "    info('-'*100)\n",
    "    #list(map(lambda x: show_2D_or_3D(img=x[::slice_n], interpol='bilinear',dpi=100,f_size=(5,5)), selected_output))\n",
    "    \n",
    "    \"\"\"\n",
    "        show_2D_or_3D(x[im], y[im], interpol='bilinear',dpi=100,f_size=(5,5))\n",
    "    plt.show()\n",
    "    \"\"\"\n",
    "    plt.hist(selected_input.flatten(), bins=np.linspace(0.1,1,20))\n",
    "    plt.show()\n",
    "    if save:\n",
    "        ensure_dir(filepath)\n",
    "        np.save(os.path.join(filepath, filename), x[im])\n",
    "        logging.info('saved to {}'.format(os.path.join(filepath, filename)))\n",
    "    \n",
    "\n"
   ]
  },
  {
   "cell_type": "code",
   "execution_count": 9,
   "metadata": {},
   "outputs": [
    {
     "name": "stdout",
     "output_type": "stream",
     "text": [
      "(200, 200, 200)\n"
     ]
    }
   ],
   "source": [
    "temp = np.random.rand(200,200,200)\n",
    "print(temp.shape)"
   ]
  },
  {
   "cell_type": "code",
   "execution_count": 15,
   "metadata": {},
   "outputs": [
    {
     "name": "stdout",
     "output_type": "stream",
     "text": [
      "2.65 ms ± 18.4 µs per loop (mean ± std. dev. of 7 runs, 100 loops each)\n"
     ]
    }
   ],
   "source": [
    "%%timeit\n",
    "temp.mean()"
   ]
  },
  {
   "cell_type": "code",
   "execution_count": 14,
   "metadata": {},
   "outputs": [
    {
     "name": "stdout",
     "output_type": "stream",
     "text": [
      "2.69 ms ± 27.1 µs per loop (mean ± std. dev. of 7 runs, 100 loops each)\n"
     ]
    }
   ],
   "source": [
    "%%timeit\n",
    "np.mean(temp)"
   ]
  },
  {
   "cell_type": "code",
   "execution_count": 7,
   "metadata": {},
   "outputs": [
    {
     "data": {
      "text/plain": [
       "array([-1.        , -0.77777778, -0.55555556, -0.33333333, -0.11111111,\n",
       "        0.11111111,  0.33333333,  0.55555556,  0.77777778,  1.        ])"
      ]
     },
     "execution_count": 7,
     "metadata": {},
     "output_type": "execute_result"
    }
   ],
   "source": [
    "np.linspace(-1,1,10)"
   ]
  },
  {
   "cell_type": "code",
   "execution_count": null,
   "metadata": {},
   "outputs": [],
   "source": []
  }
 ],
 "metadata": {
  "kernelspec": {
   "display_name": "dcmr",
   "language": "python",
   "name": "dcmr"
  },
  "language_info": {
   "codemirror_mode": {
    "name": "ipython",
    "version": 3
   },
   "file_extension": ".py",
   "mimetype": "text/x-python",
   "name": "python",
   "nbconvert_exporter": "python",
   "pygments_lexer": "ipython3",
   "version": "3.8.5"
  },
  "widgets": {
   "application/vnd.jupyter.widget-state+json": {
    "state": {
     "007382ceac3c48e78111a476e5489fb3": {
      "model_module": "@jupyter-widgets/controls",
      "model_module_version": "1.5.0",
      "model_name": "DescriptionStyleModel",
      "state": {
       "description_width": ""
      }
     },
     "00f70b2608674d4b8ede639802d942d1": {
      "model_module": "@jupyter-widgets/base",
      "model_module_version": "1.2.0",
      "model_name": "LayoutModel",
      "state": {
       "width": "auto"
      }
     },
     "0161262ea9bd4e19996960c89886a3fd": {
      "model_module": "@jupyter-widgets/controls",
      "model_module_version": "1.5.0",
      "model_name": "IntSliderModel",
      "state": {
       "description": "batch",
       "layout": "IPY_MODEL_92a4b4b9f3d2416f831abb80fa8bf5fd",
       "max": 265,
       "style": "IPY_MODEL_da64b4e2d3a749778d8981ca98ee74a4",
       "value": 162
      }
     },
     "0439537632584c38b8a7cc7843471d7b": {
      "model_module": "@jupyter-widgets/controls",
      "model_module_version": "1.5.0",
      "model_name": "ButtonModel",
      "state": {
       "description": "Cancel",
       "layout": "IPY_MODEL_d4dc57964ca44858adcc91f24a97f1f0",
       "style": "IPY_MODEL_04937e789c474429a5ef5a5306e23d2d"
      }
     },
     "04937e789c474429a5ef5a5306e23d2d": {
      "model_module": "@jupyter-widgets/controls",
      "model_module_version": "1.5.0",
      "model_name": "ButtonStyleModel",
      "state": {}
     },
     "0500aa82a87e49c0b436cb19eab16483": {
      "model_module": "@jupyter-widgets/controls",
      "model_module_version": "1.5.0",
      "model_name": "ButtonModel",
      "state": {
       "description": "Run Interact",
       "layout": "IPY_MODEL_14d31473e01b457183791c851d062564",
       "style": "IPY_MODEL_16587c77304e41d0840b4b6c11c98bab"
      }
     },
     "056306c9f88646e3917ae16dafad35e7": {
      "model_module": "@jupyter-widgets/controls",
      "model_module_version": "1.5.0",
      "model_name": "TextModel",
      "state": {
       "description": "filepath",
       "layout": "IPY_MODEL_467fbf59610d4917afda8534f1089413",
       "style": "IPY_MODEL_128f1cd7f1e342ff86f6fe5127b7cfa6",
       "value": "data/temp/"
      }
     },
     "0b3583c8a4be42a3bcf759b1b8da512e": {
      "model_module": "@jupyter-widgets/controls",
      "model_module_version": "1.5.0",
      "model_name": "CheckboxModel",
      "state": {
       "description": "save",
       "disabled": false,
       "layout": "IPY_MODEL_dbd7ef86264f4ab29a5b50dddc4a8847",
       "style": "IPY_MODEL_2f5058ed3f824a7aa8b50d460cdf0cdc",
       "value": false
      }
     },
     "0f96ce01e2f54510b28608552ed25193": {
      "model_module": "@jupyter-widgets/controls",
      "model_module_version": "1.5.0",
      "model_name": "IntSliderModel",
      "state": {
       "description": "slice_n",
       "layout": "IPY_MODEL_9b4673c00ec54e9abc6768d02b4ce3d5",
       "max": 11,
       "min": 1,
       "style": "IPY_MODEL_b265f3be1a35467e9574b40fc19a51b2",
       "value": 6
      }
     },
     "107cebd1d70c464aa984ec28b490488e": {
      "model_module": "@jupyter-widgets/controls",
      "model_module_version": "1.5.0",
      "model_name": "CheckboxModel",
      "state": {
       "description": "save",
       "disabled": false,
       "layout": "IPY_MODEL_9aba4ff9ffe84da69dced4ebd47ca063",
       "style": "IPY_MODEL_11e86b67823a40a49f9f83668ca7731b",
       "value": false
      }
     },
     "108cda3ac40b43ffa41c7af9e6b64f1d": {
      "model_module": "@jupyter-widgets/base",
      "model_module_version": "1.2.0",
      "model_name": "LayoutModel",
      "state": {
       "display": "none",
       "grid_gap": "0px 0px",
       "grid_template_areas": "\n                    'pathlist filename'\n                    'dircontent dircontent'\n                    ",
       "grid_template_columns": "60% 40%",
       "grid_template_rows": "auto auto",
       "width": "500px"
      }
     },
     "11e86b67823a40a49f9f83668ca7731b": {
      "model_module": "@jupyter-widgets/controls",
      "model_module_version": "1.5.0",
      "model_name": "DescriptionStyleModel",
      "state": {
       "description_width": ""
      }
     },
     "12548103eace4d12b00738cc561b00f1": {
      "model_module": "@jupyter-widgets/base",
      "model_module_version": "1.2.0",
      "model_name": "LayoutModel",
      "state": {
       "grid_area": "dircontent",
       "width": "auto"
      }
     },
     "128f1cd7f1e342ff86f6fe5127b7cfa6": {
      "model_module": "@jupyter-widgets/controls",
      "model_module_version": "1.5.0",
      "model_name": "DescriptionStyleModel",
      "state": {
       "description_width": ""
      }
     },
     "129add25cf644feb8684e494845ac78e": {
      "model_module": "@jupyter-widgets/base",
      "model_module_version": "1.2.0",
      "model_name": "LayoutModel",
      "state": {}
     },
     "12b832d62d7746dea685e004a7913f39": {
      "model_module": "@jupyter-widgets/base",
      "model_module_version": "1.2.0",
      "model_name": "LayoutModel",
      "state": {}
     },
     "14d31473e01b457183791c851d062564": {
      "model_module": "@jupyter-widgets/base",
      "model_module_version": "1.2.0",
      "model_name": "LayoutModel",
      "state": {}
     },
     "15e68f0088454d578b923a687e87d505": {
      "model_module": "@jupyter-widgets/base",
      "model_module_version": "1.2.0",
      "model_name": "LayoutModel",
      "state": {}
     },
     "16587c77304e41d0840b4b6c11c98bab": {
      "model_module": "@jupyter-widgets/controls",
      "model_module_version": "1.5.0",
      "model_name": "ButtonStyleModel",
      "state": {}
     },
     "19104f9023164f5eb6ff0a1a70ef000d": {
      "model_module": "@jupyter-widgets/controls",
      "model_module_version": "1.5.0",
      "model_name": "TextModel",
      "state": {
       "layout": "IPY_MODEL_a0ebbcfc5af242efbe006a07c9592ff2",
       "placeholder": "output filename",
       "style": "IPY_MODEL_a0ef417594514ebf8cf4ad3529a721bf"
      }
     },
     "1a70e35fe888451c9bc17f50f19d6540": {
      "model_module": "@jupyter-widgets/output",
      "model_module_version": "1.0.0",
      "model_name": "OutputModel",
      "state": {
       "layout": "IPY_MODEL_d39609a103ea49e79384c2298d5f04a9",
       "outputs": [
        {
         "name": "stderr",
         "output_type": "stream",
         "text": "2021-02-08 19:37:13,379 INFO Preprocessing took: 0.974\n"
        },
        {
         "name": "stdout",
         "output_type": "stream",
         "text": "(1, 5, 60, 192, 192) (1, 5, 60, 192, 192)\nselected batch : 132\n"
        },
        {
         "data": {
          "image/png": "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\n",
          "text/plain": "<Figure size 1800x576 with 10 Axes>"
         },
         "metadata": {},
         "output_type": "display_data"
        },
        {
         "data": {
          "image/png": "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\n",
          "text/plain": "<Figure size 1800x576 with 10 Axes>"
         },
         "metadata": {},
         "output_type": "display_data"
        },
        {
         "data": {
          "image/png": "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\n",
          "text/plain": "<Figure size 1800x576 with 10 Axes>"
         },
         "metadata": {},
         "output_type": "display_data"
        },
        {
         "data": {
          "image/png": "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\n",
          "text/plain": "<Figure size 1800x576 with 10 Axes>"
         },
         "metadata": {},
         "output_type": "display_data"
        },
        {
         "data": {
          "image/png": "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\n",
          "text/plain": "<Figure size 1800x576 with 10 Axes>"
         },
         "metadata": {},
         "output_type": "display_data"
        },
        {
         "name": "stderr",
         "output_type": "stream",
         "text": "2021-02-08 19:37:14,733 INFO ----------------------------------------------------------------------------------------------------\n"
        },
        {
         "data": {
          "image/png": "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\n",
          "text/plain": "<Figure size 432x288 with 1 Axes>"
         },
         "metadata": {
          "needs_background": "light"
         },
         "output_type": "display_data"
        }
       ]
      }
     },
     "1d0df31215c24dd08208f144ba5a4167": {
      "model_module": "@jupyter-widgets/base",
      "model_module_version": "1.2.0",
      "model_name": "LayoutModel",
      "state": {
       "grid_area": "pathlist",
       "width": "auto"
      }
     },
     "1fb55a9ba6bf4c0fa42e64e1236113f5": {
      "model_module": "@jupyter-widgets/base",
      "model_module_version": "1.2.0",
      "model_name": "LayoutModel",
      "state": {}
     },
     "23a20094432b4fa497c131c9207403b3": {
      "model_module": "@jupyter-widgets/controls",
      "model_module_version": "1.5.0",
      "model_name": "ButtonStyleModel",
      "state": {}
     },
     "2622a181e72f44918745dcce9a999406": {
      "model_module": "@jupyter-widgets/base",
      "model_module_version": "1.2.0",
      "model_name": "LayoutModel",
      "state": {}
     },
     "29548bc5b09948f08aa466d5432990d2": {
      "model_module": "@jupyter-widgets/base",
      "model_module_version": "1.2.0",
      "model_name": "LayoutModel",
      "state": {}
     },
     "2967272310ab4923b4f17b8cec9d0738": {
      "model_module": "@jupyter-widgets/controls",
      "model_module_version": "1.5.0",
      "model_name": "IntSliderModel",
      "state": {
       "description": "batch",
       "layout": "IPY_MODEL_2622a181e72f44918745dcce9a999406",
       "max": 265,
       "style": "IPY_MODEL_b9ee9e1465b049d5967ca31e77ebb1f2",
       "value": 132
      }
     },
     "2eaa378736d140f1a2ab2121db7acb17": {
      "model_module": "@jupyter-widgets/controls",
      "model_module_version": "1.5.0",
      "model_name": "IntSliderModel",
      "state": {
       "description": "batch",
       "layout": "IPY_MODEL_d486043b1b21440b91e50fba850485a1",
       "max": 265,
       "style": "IPY_MODEL_9ecd6477fac649b5b556a22e7ed9a459",
       "value": 132
      }
     },
     "2f5058ed3f824a7aa8b50d460cdf0cdc": {
      "model_module": "@jupyter-widgets/controls",
      "model_module_version": "1.5.0",
      "model_name": "DescriptionStyleModel",
      "state": {
       "description_width": ""
      }
     },
     "2f956ec149384b6e98dbf6a55025c2dd": {
      "model_module": "@jupyter-widgets/base",
      "model_module_version": "1.2.0",
      "model_name": "LayoutModel",
      "state": {}
     },
     "33d4f921b3ec4abab8817173b5fe7e18": {
      "model_module": "@jupyter-widgets/controls",
      "model_module_version": "1.5.0",
      "model_name": "DescriptionStyleModel",
      "state": {
       "description_width": ""
      }
     },
     "33f7f792ba5a4f6d91444d378cae692c": {
      "model_module": "@jupyter-widgets/controls",
      "model_module_version": "1.5.0",
      "model_name": "SliderStyleModel",
      "state": {
       "description_width": ""
      }
     },
     "375a4f343b8347d9acf2e889ebc3c43c": {
      "model_module": "@jupyter-widgets/base",
      "model_module_version": "1.2.0",
      "model_name": "LayoutModel",
      "state": {}
     },
     "4027bde83081456bbdf61399410c0429": {
      "model_module": "@jupyter-widgets/controls",
      "model_module_version": "1.5.0",
      "model_name": "TextModel",
      "state": {
       "description": "filepath",
       "layout": "IPY_MODEL_71bbcea51cd8447ba7490e2d6f0f62e3",
       "style": "IPY_MODEL_33d4f921b3ec4abab8817173b5fe7e18",
       "value": "data/temp/"
      }
     },
     "416eb95aedb84d91a522d66361f686ca": {
      "model_module": "@jupyter-widgets/controls",
      "model_module_version": "1.5.0",
      "model_name": "DescriptionStyleModel",
      "state": {
       "description_width": ""
      }
     },
     "421a0cd0034f4f999a65a36091145ecc": {
      "model_module": "@jupyter-widgets/controls",
      "model_module_version": "1.5.0",
      "model_name": "VBoxModel",
      "state": {
       "_dom_classes": [
        "widget-interact"
       ],
       "children": [
        "IPY_MODEL_0500aa82a87e49c0b436cb19eab16483",
        "IPY_MODEL_74a6ee06a06e4a4aa0764867d1d6d602"
       ],
       "layout": "IPY_MODEL_f0e509a55e544c4a8d5465e2989fa189"
      }
     },
     "44774bb1f00e4c6bb36b8d5dbcc56a37": {
      "model_module": "@jupyter-widgets/base",
      "model_module_version": "1.2.0",
      "model_name": "LayoutModel",
      "state": {}
     },
     "467fbf59610d4917afda8534f1089413": {
      "model_module": "@jupyter-widgets/base",
      "model_module_version": "1.2.0",
      "model_name": "LayoutModel",
      "state": {}
     },
     "47651b144a9e438e89ef1eccfe68ffa6": {
      "model_module": "@jupyter-widgets/controls",
      "model_module_version": "1.5.0",
      "model_name": "HTMLModel",
      "state": {
       "layout": "IPY_MODEL_12b832d62d7746dea685e004a7913f39",
       "placeholder": "",
       "style": "IPY_MODEL_ec502fd04ce749e29e5f5804f226134f",
       "value": "<span style=\"margin-left:10px; color:black;\">No file selected</span>"
      }
     },
     "47950cfe1e054db296f819cf57668d98": {
      "model_module": "@jupyter-widgets/base",
      "model_module_version": "1.2.0",
      "model_name": "LayoutModel",
      "state": {}
     },
     "4ae2135c08cc4d918206d0774c0eebe8": {
      "model_module": "@jupyter-widgets/controls",
      "model_module_version": "1.5.0",
      "model_name": "DescriptionStyleModel",
      "state": {
       "description_width": ""
      }
     },
     "4d9c80f1301546ac87c2468c30d36421": {
      "model_module": "@jupyter-widgets/output",
      "model_module_version": "1.0.0",
      "model_name": "OutputModel",
      "state": {
       "layout": "IPY_MODEL_129add25cf644feb8684e494845ac78e",
       "outputs": [
        {
         "name": "stderr",
         "output_type": "stream",
         "text": "2021-02-10 09:05:50,024 INFO Preprocessing took: 0.937\n"
        },
        {
         "name": "stdout",
         "output_type": "stream",
         "text": "(1, 5, 60, 192, 192) (1, 5, 60, 192, 192)\nselected batch : 162\n"
        },
        {
         "data": {
          "image/png": "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\n",
          "text/plain": "<Figure size 1800x576 with 6 Axes>"
         },
         "metadata": {},
         "output_type": "display_data"
        },
        {
         "data": {
          "image/png": "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\n",
          "text/plain": "<Figure size 1800x576 with 6 Axes>"
         },
         "metadata": {},
         "output_type": "display_data"
        },
        {
         "data": {
          "image/png": "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\n",
          "text/plain": "<Figure size 1800x576 with 6 Axes>"
         },
         "metadata": {},
         "output_type": "display_data"
        },
        {
         "data": {
          "image/png": "iVBORw0KGgoAAAANSUhEUgAABYQAAAEICAYAAADvFvDyAAAAOXRFWHRTb2Z0d2FyZQBNYXRwbG90bGliIHZlcnNpb24zLjMuNCwgaHR0cHM6Ly9tYXRwbG90bGliLm9yZy8QVMy6AAAACXBIWXMAAAsTAAALEwEAmpwYAAAmA0lEQVR4nO3da4xk52Hn5/+pqq7q23T3dPfcyRnehjRFmdKuZROQFDpa2IoRC0aMOAgWsrEJrA8B1tkkiyCLzYcsEiRwgsCOogAbC5u9fdhkYy/W2HiVxDBsxVEsUUxEkSJliQIvMyI1M63pe1d31/3kw0yXSYmSeJnRdM95HqAxM91VXeeAeFGs33nP+xZlWQYAAAAAgLtf7U4fAAAAAAAAPx6CMAAAAABARQjCAAAAAAAVIQgDAAAAAFSEIAwAAAAAUBGCMAAAAABARQjCVVYUH0pRfOZdPvf+FMWXUxQvpSj+1xRF8xYfHfDexuhv3ByfZYpi+RYfGfDexuc/SVG8mKJ4IUXxD1IUE7f46ID3Nkb/foriuRTF11IU/yxFMXuLjw6q7b2Mz7/4HZ9JUbRv0REBb/Te3kP/UYri1RTFsze/PnhrD45bpSjL8k4fA0dRUfxukn+esvynKYrfSfJcyvJ/vNOHBdxUFH8pyUaS/yvJh1KWq3f2gICxovjXk/wfN//1Pyf5v72HwiFSFHMpy+2bf//tJN9NWf7Xd/aggLGi+FCS/yDJL6csXbCBw6Qo/lGSf5my/Gd3+lD44cwQPiqK4t97wxWWV1MUn3+Lx9yXovhCiuKZm18fvvn9X05R/HGKokhRnElRfCtFcTpF8a+mKP7lzcf87Bt+/1dTFMd+yLEUSf5KkoMB/o+T/Bu38nThyDlMYzRJyvKrKctLt/o04Ug6fOPzf09ZlrlxVf7pJPfc4jOGo+XwjdGDGFwkmUpiBg3VddjGZ1HUk/y3Sf6TW3ymcDQdtjHKkSEIHxVl+Tspyw8m+ekkryf57bd41HeT/HzK8i8n+beTfObmc38/ydUkfz3J30vyd1KW177nuf9xkr9+8zX+lST7SZKiePYtXmcpyWbKcnDz368nOffuTgzuEodrjAJvdFjH542lIn4tyf/5js8J7iaHcYwWxT9Mci3JTyT5H97NacFd4fCNz99I8r+lLK++21OCu8rhG6NJ8l/lxrJL/12KovWuzovbThA+ev77JH+SsvyDt/jZRJK/l6J4PsnvJXnfG3727yf520m6Kcv/5S2e+2dJfjtF8TeSLIxj741BD7x9xigcXodtfP7d3Fgu4gvv6Czg7nV4xmhZ/rtJzib5Rm58eIaqu/PjsyjOJvm34iINvJU7P0Zv+Nu5cTH1p5MsJvlb7/xU+HEQhI+Sovh3klxI8p/f/Pcvv2Hq/oeS/EdJVpJ8IMmHkrxxo7d7koySnEpRfP9/9xvron0qN26L+7MUxU/8kCNZS7KQomi84Xd/592fGNwlDs8YBb7XYRufRfF3kpxI8jff9TnB3eSwjdEbzxsm+adJ/s13dU5wtzg84/MvJXkoyUspiktJplMUL72nc4O7weEZo0lZXr25NFo3yT9M8jPv6dy4bQTho6Iofio3pur/aspylOTG9P6y/ODNr/8vyXySqzd//mtJ6jef20jyD5L81dyY5fD9Hz6L4sGU5fMpy/8myf+bG1d03tqNNQ8/n+RXbn7nryX5F+/9JOEIO0xjFHizwzY+i+JTSf61JH91fDxQZYdpjN5YR/Gh8d+TX0ryzVtynnAUHabxWZafS1meTlnel7K8L8leyvKhW3WqcCQdpjF64/Fnbv5Z5MZeUy+811Pk9hCEj47fyI3p9p+/eZXnf3qLx/zdJH8tRfFcbgzS3Zvf/0+TfCFl+f/kxgD/VIri0e957n+YonghRfG1JP0c7H7+g9eF+VtJ/ubNK7JLSf7+uz4zuDscrjFaFH8jRfF6blzx/doPOB6oisM1PpPfSXIqyZduHs9/9u5PDe4Kh2mMFkn+8c3bap9PcibJf/FeTg6OuMM0PoHvd9jG6D95w3vocpL/8l2fGbdVcWOyJwAAAAAAdzszhAEAAAAAKkIQBgAAAACoCEEYAAAAAKAiBGEAAAAAgIoQhAEAAAAAKqLxTh5cFEV5uw4EAAAAAIBbZrUsyxPf+00zhAEAAAAA7j6X3+qbgjAAAAAAQEUIwgAAAAAAFSEIAwAAAABUhCAMAAAAAFARgjAAAAAAQEUIwgAAAAAAFSEIAwAAAABUhCAMAAAAAFARgjAAAAAAQEUIwgAAAAAAFSEIAwAAAABUhCAMAAAAAFARgjAAAAAAQEUIwgAAAAAAFSEIAwAAAABUhCAMAAAAAFARgjAAAAAAQEUIwgAAAAAAFSEIAwAAAABUhCAMAAAAAFARgjAAAAAAQEUIwgAAAAAAFSEIAwAAAABUhCAMAAAAAFARgjAAAAAAQEUIwgAAAAAAFSEIAwAAAABUhCAMAAAAAFARgjAAAAAAQEUIwgAAAAAAFSEIAwAAAABUhCAMAAAAAFARgjAAAAAAQEUIwgAAAAAAFSEIAwAAAABUhCAMAAAAAFARgjAAAAAAQEUIwgAAAAAAFSEIAwAAAABUhCAMAAAAAFARgjAAAAAAQEUIwgAAAAAAFSEIAwAAAABUhCAMAAAAAFARgjAAAAAAQEUIwgAAAAAAFSEIAwAAAABUhCAMAAAAAFARgjAAAAAAQEUIwgAAAAAAFSEIAwAAAABUhCAMAAAAAFARgjAAAAAAQEUIwgAAAAAAFSEIAwAAAABUhCAMAAAAAFARgjAAAAAAQEUIwgAAAAAAFSEIAwAAAABUhCAMAAAAAFARgjAAAAAAQEUIwgAAAAAAFSEIAwAAAABUhCAMAAAAAFARgjAAAAAAQEUIwgAAAAAAFSEIAwAAAABUhCAMAAAAAFARgjAAAAAAQEUIwgAAAAAAFSEIAwAAAABUhCAMAAAAAFARgjAAAAAAQEUIwgAAAAAAFSEIAwAAAABUhCAMAAAAAFARgjAAAAAAQEUIwgAAAAAAFSEIAwAAAABUhCAMAAAAAFARgjAAAAAAQEUIwgAAAAAAFSEIAwAAAABUhCAMAAAAAFARgjAAAAAAQEUIwgAAAAAAFSEIAwAAAABUhCAMAAAAAFARgjAAAAAAQEUIwgAAAAAAFSEIAwAAAABUhCAMAAAAAFARgjAAAAAAQEUIwgAAAAAAFSEIAwAAAABUhCAMAAAAAFARgjAAAAAAQEUIwgAAAAAAFSEIAwAAAABUhCAMAAAAAFARgjAAAAAAQEUIwgAAAAAAFSEIAwAAAABUhCAMAAAAAFARgjAAAAAAQEUIwgAAAAAAFSEIAwAAAABUhCAMAAAAAFARgjAAAAAAQEUIwgAAAAAAFSEIAwAAAABURONOHwAAwN2qVqulVrtx/X00GqUsyyQZ/wn8eDUajczOzmZ+fj5TU1NpNpspiiL9fj/b29tZWlrKyspK9vb2MhgM0u123zR2AQDuBoIwAMAtUhRFarVa6vV6Jicnx8GpLMt0Op10u900Go0URZF6vZ6iKNLtdrOzs5PRaHSnDx/uSrVaLVNTU5mbm8vy8nLOnz+fc+fOZWpqKmVZpt/vp9frpdfrZTgc5ty5c9ne3s729nba7fb47wdheDgc3ulTAgB4TwRhgCOmKIo0Go3x18Hsw+FwmNFolG6368Mq/JgdROBms5nJyclMTk5mZmYmMzMzmZiYGEeniYmJLCwsZDAYpFarZTgcZm1tLd/5znfSbrcFJ7jFms1mzp49m7m5uSwuLub06dM5derUeEwOBoOUZZl6vZ6pqamMRqNMTExkaWkpvV4vW1tbWV1dzfXr1zMajbK/v592u51er+ciDgBwZAnCAEdEs9kcfx0EpzfOPtzf30+/38/W1lYGg0F6vd74wy5w+xyEpNnZ2XEEnpmZydTUVKamplKr1cbhaGlpKQ899FC63W6SpNfr5Tvf+U6azWZef/31DIfD9Hq97O/vj0MV8O40Go2cPn06jz/+eObn57OwsJC5ubm02+1cvnw5m5ubGQ6HqdfrabVaqdVqaTQaaTabmZ2dzcLCQmZnZ3PixIksLi5mNBplc3Mz165dG88eFoUBgKNIEAY4AprNZk6ePDn+UDo5OZlGo5Fjx45lZmYmZVlma2sr7XY76+vrKYoiGxsbWV1dzfb2dnq9nrAEt0GtVsuxY8dy4sSJXLhwIQsLC2k2m6nVahkMBqnX60kyjkbT09N57LHHkmS8bun58+dz7NixzM7OZjAYZHNzMysrK2m32+l2u8YuvAuNRiPz8/P5yEc+ksceeyxTU1NpNBrZ2dnJH/7hH+bSpUvZ3d0dz8ovimL8vGazmeXl5Zw5cybnz5/P448/nvvuuy9lWWZ1dTWXL1/OyspKXn755bTbbTP6AYAjp3gnHzKKovCJBODHbGpqKo8//nhOnTo1nm3YarXS6/WSZPwhtt/vj9ch3d3dHd8eWxRFPve5z2VjY0NYgluoVqtlcnIyjz76aB555JFMTk6Ox+HKykq2trbGF2MO1gxuNBp59NFHs7i4mEajMb5tvdFojKPSxsZGrly5kvX19Vy9elVwgndocnIy58+fz8///M/nnnvuyeTkZPb29vL1r389X/ziF7OyspL9/f0f+jsO3mtPnjyZj33sY3n/+9+fRqMx3miu3W6n0+nkc5/7XF577bUf+fsAAO6Qr5Rl+aHv/aYZwgCH1MTERObn53PhwoXMzc2lLMvs7u6m0+mk3+9nc3MzOzs7qdfrOXbsWBYXF9NqtTIxMZHRaJTRaJTt7e3U6/UsLS2Nd0ofDAbp9/t3+vTgSJuens7i4uJ4c6q5ubm89tpruXTpUq5cuZJut/t9Sz4URZGiKPL6669namoqS0tLWVpayuzsbJJkZmYmRVFkamoqjz76aHZ2dnL8+PG8+uqr2dzcTKfTuVOnC0fG5ORkfvInfzIf/vCH84EPfCCdTie7u7t59tln89xzz42XZvlRRqNROp1Orly5ks997nNZX19Ps9nMqVOncuHChZw4cSIPPvhg1tbW0u/38+1vf9uFGwDgyBCEAQ6hWq2W2dnZXLx4Ma1WK/V6PbVaLdvb27l69eo47hZFkbIsx3H4YM3SM2fOjDe/6Xa7aTabWVpaGq81vLOzM17DFHhnWq1WLly4kIsXL2Z5eTnnz5/PM888k5dffjnXrl0bz9R/qxn5B8tE7O3tZW9vL+vr65mfn8/JkyczNTWVer0+Ht+nTp1KvV4fh+XRaDS+MwD4fkVR5Pjx4zl37lxOnDiRTqeT7e3tfOlLX8oLL7yQa9euvaN19Q9m8G9sbOT5559PvV7PPffck1qtlkcffTRXr17Nfffdl1dffTXr6+vZ2tq6jWcHAHDrCMIAh0xRFJmbm8vZs2dzzz33jOPS5uZmNjY2sr29/aZNcIqiyGAwyP7+/ngmVLPZTKvVGm9QldyIWGVZZmJiIo1GI9euXbvDZwpHT6PRyIMPPpjHHnss58+fHy8R8dJLL72t5R3KshzH3eFwmE6nk729vQyHw9RqtdTr9dTr9UxPT2dpaSkzMzM5c+bMeLy/9tprln6BH6DRaOTChQu5cOFC5ufns7u7m+vXr+frX/96rly58q6XdRgMBrl27VqKohhfZL3//vuztbWVpaWlPPzww9na2srzzz9vfAIAR4IgDHDI1Ov18a2oJ06cSL/fz9raWlZWVrKzszOe3TQajcYBKbkRknu9XjqdTnq9Xo4fP575+flMTEykVquNZyy2Wq1MTk6Ob3MF3r65ubl86EMfysWLF9NoNHLp0qU899xzeeWVV97xkg4HM357vV729/fT7/dTq9UyMzOTkydPZnd3N8PhMMvLy1leXs709HSuXbtmljD8ANPT03nooYdy7733Zmpqarwe97Vr197zkisHMbnf76coijz66KPjmfw/8RM/kXa7nW9961uWdgEAjoTanT4AAN5sYmIiy8vLueeee7KwsJDJycnxbejdbjf7+/vZ2NjI+vp6rl+/ns3NzXS73fH6pEVRjNcP3tjYyPT0dE6cODFeP/jgVvXFxcU7fapwpNTr9Tz88MN53/vel6WlpfHSD1/5ylfe8xIsvV4vr732Wi5fvpyXX345r7zySsqyzN7eXlqtVs6ePZt777038/Pzt+hs4O5ysJzD3NxcBoNBtre30+l0cvny5XS73Vs2c7ff7+fq1av5vd/7vayurubatWuZnp7O+fPnc/bs2VvyGgAAt5sgDHCIHGwodf78+TzyyCNpNptZXV0dzx7sdrvZ3d3NYDDIcDhMt9vNzs5ONjc30263x0G41+ul3W7nu9/9br7xjW+k0+lkYWEhi4uLmZqaymg0SqPRSKPhRhF4uw7W9h4MBtnc3Mzly5fz5S9/Obu7u7ckNg2HwwyHw+zv7+f69et57rnnUq/Xx7e9d7vdnDp16hacCdxdiqJIs9nM+9///ly4cCGzs7PpdrtZWVnJN77xjXe0bvDbMRgMsra2lrW1tezt7eW73/1uut1u7r///lv6OgAAt4sgDHDITExMZGFhIcePH8/u7m729vbGa46+1UZVB7eddzqdFEUxjrwH39/a2srKysr4ZwebWrmtFd6+gxh83333pdVqZXV1NZcuXUq73b7lr3Ww+eMrr7wyXhpmfX09KysrlouAH6DRaGRubi733HNPTp06lenp6fEs/lu9ru/BZnNra2uZnZ1NvV5PWZZpNpup1Xy8AgAOP//HAnDIHGw6lSTNZjPNZjMTExNJbkTeH/Scfr8/niV88JyD+Lu6upqNjY1sbGyk0+mMZwcfPAb40Wq1WhqNxjj+HMzUvx2Gw2Ha7XZeeeWVtNvt9Pv9lGU5PgbgzQ7eBw/ukNnY2Mj+/v4PfN98r0ajUVZWVrKyspLRaJSZmZlMTU1lenr6trweAMCtJAgDHCJlWabX62V7ezu7u7tZWFjI7OxsJicnU6/Xf+jMo9FolP39/QyHw3EQrtVq43VI2+122u12hsNhpqenMzU1lcnJSUEY3qaDizUTExOZnJxMq9Uab+p4OwwGg3z729/O2tpaer1eJiYmMjs7m2azadzCW+h2u9nb28vW1la2t7dvWww+sLOzk7W1tQwGg0xOTmZ2djazs7O39TUBAG4FQRjgkNnf38/q6mo2Nzdz5syZHD9+PIuLi5mZmUmz2fyhAWowGKTT6aRWq6Ver79lNGq1Wpmfnx+HZmEJ3p6DGbozMzOZnZ3NzMxMJicnb+vrbW1t5fr169nZ2Um9Xs/y8nImJyfdlg5v4WCWcLfbHV8cvd2vNxwOx+vyz8/PZ3p62vsqAHDo+TQBcAhNTk7mxIkTuXjxYhYWFvLxj388Fy9ezNLSUhYWFn7g88qyfNPt5QcOZhfXarVMTk5mfn5eVIJ3qFarZW5ubnxBpdVq3fZlVw7WAt/d3c3+/n7KshyPXdEJbiiKIvV6PcePH0+r1Rov3XA7Z/AnN95zi6LI5ORk5ubmsrCwcNtnJQMA3AoWoQM4ZHq9Xv7sz/4s/X4/999/f5588sm88soruXjxYkajUb75zW+m1Wql2+2+5fMbjUZqtVoGg0FGo9H4sQe3ux9sNHf9+vVxYAJ+uINN5c6ePZtjx45lYWEhS0tLaTQat3UMHcxAHAwG6ff746VgxGD4fgcXUA5m849Go0xNTWUwGNyWcVqWZTqdTnZ2dtJqtdJoNCwZAQAcCaaGARwyZVlme3s7zz77bD7zmc/k/vvvH4eoe++9NydOnMjc3FympqbetCzEwWZyx44de9PM34MPyEVRpCiKdLvdbG9vZzgcmiEMb9PBreidTidlWb5pU8ZWq3XbXvdgXLdarczNzeXkyZPj4OViDtxwsIb+V77ylbz44ovZ2dnJ9PR0jh07ljNnzty297qDi6ydTiedTie9Xs/7KgBwJJghDHAIDYfDbG5u5oUXXki73c7999+fiYmJdLvd9Pv97O/vJ0k6nc749tR6vT6erXjwuMFgMI5HzWZz/EG10+mMZx0CP9rB5ozb29uZnp7O4uJilpeXc/Lkybz++uvjWfi3Q1EU47g1PT2d4XAoBsP3GAwGWV9fz+7u7nhG/9LS0m3dhPHgwky9Xk+9Xh+/5wIAHHaCMMAh1e/3s7Gxkaeffjq/9Eu/lOTGbeutVivXrl1Lv99PvV4fz/Q9WCtxb28vg8FgHHzLsszs7GyOHTuWer0+3oW91+vd1ogFd5PRaJROp5PV1dXx5lEnT57M+fPn861vfSs7OzsZDoe37fVbrdZ4Azuzg+H7HVwM3d3dzWg0yvz8fKamprK4uHjbZu02Go3xJpPNZnN8FwEAwGHnniaAQ2o0GmVrayuf/exn02q18vDDD+eBBx7IyZMn8773vW+8MVyz2RzH4INZwf1+f7zr+cLCQh566KGcPHkyy8vLmZmZyXA4zN7enjWE4R0YDod5/fXXc+3atQwGgywuLub8+fM5efJkGo3bc4394GJPURQZDAbZ29vLaDQybuEttNvtvPzyy1lbW8vCwkJ+6qd+Kh/5yEcyOzt7W6LwwsJC7rvvviwvL6fRaKTT6XhfBQCOBEEY4BAbDoe5fPlyfu3Xfi1PP/10zp07lyeeeCLT09M5fvx4Go1Ger1etre3s76+nu3t7ezv76dWq+XEiRN55JFH8vjjjydJtre3s7W1NV4D1SwmeGf6/X7+9E//NL//+7+fq1ev5r777su5c+fy8MMPZ3l5Oc1m85a/5rFjx7K4uJhWq5XhcJhOp5O9vT2bysH3KMsy7XY729vb6XQ64ztk3ve+9+Xxxx/P3NzcLX29oihy7NixLC0tpdVqZTAYpN1uZ2Nj45a+DgDA7WDJCIBDbjAY5JlnnsmnP/3pfPzjH88nPvGJ/Pqv/3q2t7dTq9XSbrfT7XbHawX3+/3xuonD4TArKyvZ2NgYz1jqdDrZ3d01gwnehb29vXzpS1/KE088kV/8xV/MmTNncunSpXz7299Ot9vN5ubmLVubu9Fo5Ny5c+PNIicmJrK6upqyLMdrhwN/4eDOmqIocvbs2Tz22GPZ39/Pk08+mU6nk29+85vZ3Ny8Ja9Vr9dz7NixfPe7302/38/29nauXLlyS343AMDtJggDHAH9fj+7u7vjW1GnpqbSaDTGG9k0Go3xRlNlWY5/NhwOMxqN3nSL+cG/gXfu4KLLwZIsk5OTaTQaqdVqt2XW7sFyMEVRpCgKF3Lgh3jj+tq1Wm38XniwtNKtHqO1Wi2j0SjD4XD8fgsAcBRYMgLgCBiNRllfX8+LL76Yp59+OisrK7n33nuztLSUhYWFHDt2LFNTU6nX6xmNRtnb20u73R5H5H6/n729vezt7aXb7d7Wza/gbre3t5fXXnstly5dysTERObn53Pq1KnMzs6OA+57VRRFGo1GWq1WyrJMrVZLv98fzxAWhuGt9fv9rKys5LXXXktRFJmfn8/ExESmpqbSarVuSRQuiiITExNZWFhIURTpdrvZ2dnJ9va2KAwAHAlmCAMcAcPhMNeuXctTTz2Vra2tJDfWFp2dnc1wOExRFOn1eul0Oun3+9nc3ExZlhkMBul0OuOd1w9CkpgE705Zltne3s5Xv/rVfPGLX8wnP/nJPPzww1lbW8vKykr29vaytrb2npeNqNfrmZ6eHgfh0WiUdrud119/3fiFH6LT6eSll17KM888k5/7uZ/LqVOnMj8/n8XFxczPz2dzc/M9r6Ffr9czNzeXs2fPpiiKbGxsZGVlJaurq7dsyRgAgNtJEAY4IsqyzNraWp566ql87Wtfy/LycmZmZlKv18frF/b7/fR6vSQ3Zkn1+/0Mh8P0+30RCW6RTqeTL3/5y5mZmcmv/Mqv5BOf+EQ2NjbS6/UyPT2dF154IdeuXXvXMwXr9XqmpqZy5syZ7O/vZ25uLuvr69nY2MhgMBgvBwN8v8FgkJWVlTz77LP5kz/5k3ziE5/IxYsXc+nSpWxtbaXf7+fSpUvvaXzOzMzkgQceyNmzZ3P9+vVcuXIl3/nOd2zWCgAcGYIwwBFysH7p1tbWeFO5N/7se6OvCAy3x/b2dv7oj/4oH/vYx/L5z38+n/zkJ3P69OnMzMxkamoqf/7nf55XX331Hc0WnJycTJIsLi7m3nvvzdmzZ7O6uprZ2dlsbGxkc3MzvV5vfNEH+H6j0Shra2t5/vnn8wd/8Ad58MEH89GPfjRFUWR2djaTk5Ppdru5evXqO4rCU1NTKYoix48fzwMPPJAPfvCDSZKZmZmUZZl2u52dnZ3bdFYAALeWIAxwRJVlaZYg3EH7+/t58cUX86lPfSqf/exn89GPfjStViudTme85u+VK1feVsBtNBp58MEHU6/Xs7CwkMXFxWxsbGRycjLr6+u5fv16Njc33Y4Ob8NgMMj169fz+c9/PtPT0/mZn/mZfPjDH84v/MIvZGpqKlNTU/nSl76UK1eupN/v/8jfVxRFFhYWUq/Xc/HixXzgAx9Ir9fLU089lf39/WxtbaXT6ZghDAAcGYIwAMC7cLCB4xe+8IV8+tOfzq/+6q/m4sWLefLJJ9Pr9bK1tZVms5n9/f10u93s7+9nMBikVqulVquNZ/C3Wq2cOHEiS0tLqdVqaTQa2d3dzdbWVo4dO5b19fVsbm5md3dXcIK3qd/v5/r163n22Wdz+vTpfPjDH85DDz2UWq02Xne/1WqN1xQ+WIf/QL1ez+TkZBYWFjI3N5cHHngg9Xo9y8vLaTabWV1dzXA4zNraWjY3N7Ozs+MiLQBwZAjCAADv0mg0ysrKSn73d383U1NTef/7359+v58TJ07k9OnTKYriTUG41+tlYmIirVZrvM53s9nMiRMn0mg0UhRFut1u9vb2xhtErq+vZ3d3N91u923NZgRujM1ut5vLly/n+eefzwc/+MHMzc3lkUceSafTyWg0Sr1ez9raWnZ3d7O7u5t+v5/RaJTRaJRms5m5ubmcPn06rVYrZ86cGcfkTqczvktnf38/7XY7+/v7d/qUAQDeNkEYAOA9GI1GefHFF/Nbv/Vbue+++/Loo4/m4YcfTrPZzMLCQubn58ePHQ6HmZycTLPZTLvdTrvdTlEU480hR6PR+Bb0g1mIOzs76Xa7louAd2g4HObq1av54z/+48zOzmY4HOZnf/Zn88QTT2RiYiLNZjPr6+tpt9vZ3d3N3Nzc+KLMxMREZmZmMjs7m83NzfF6w+12O9vb22m1Wtna2sre3l56vZ7ZwQDAkVK8kw2HiqKwOxEAwA9wEJHuueeenD59OlNTU1lYWMjExET29vYyMTGR5eXlfP3rX8/6+nomJiZy7733jjfCGo1Gabfb2djYyN7eXra2tjIcDjMYDN7RBljAX6jValleXs7999+fJ598Mr/5m7+ZWq2WV199NU8//XReeumlDIfD/PRP/3TOnTuXbrebjY2NXL16NS+99FK63W56vV7Ksszm5mauXbuWtbW1rK2t5dq1a+OfAQAcQl8py/JD3/tNQRgA4BYqiiKNRiNLS0s5fvx4Go1GBoNBut1uZmdnMzk5mb29vSQ3AvLExESuX78+Dkqj0Si9Xi+bm5vjWcNiE7w3RVGk1WplaWkpTzzxRD7+8Y9nYWEhOzs7WV1dzfXr11Or1XL+/PlMTEyMl5EYDodZX1/P5cuXMxwOs729nZWVlezs7GRjY0MMBgAOu7cMwpaMAAC4hcqyTL/fH6/9Ozk5mXq9nrIs0+12U6vVktzYtOrg+wcbziXJYDBIr9cbhyaxCd67g/G3urqap556KsPhMPPz82m329na2sr+/n5qtdp4zG5tbWVjYyOdTic7OztZX1/PaDRKp9PJ9vZ22u12+v2+8QkAHEmCMADAbdDv9zMcDtPr9VKv11Or1VKv15PcuIX9YIOq0Wg0fmwSS0TAbVKWZXq9XlZXV/PVr341MzMz6ff76fV6GY1G4/WDW61WOp3OeH3gg00hDy72dDqd9Hq9O306AADvmiUjAABus6Io3hSBD2YJJzeWiDj4SmJWMPwY1Ov1TExMpCiK8Vfy/RdrRqNRhsPhmy7Y2EAOADhCLBkBAHAnlGUpJMEh8sPGY1EULsoAAHe12o9+CAAAQDWIwQDA3U4QBgAAAACoCEEYAAAAAKAiBGEAAAAAgIoQhAEAAAAAKkIQBgAAAACoCEEYAAAAAKAiBGEAAAAAgIoQhAEAAAAAKkIQBgAAAACoCEEYAAAAAKAiBGEAAAAAgIoQhAEAAAAAKkIQBgAAAACoCEEYAAAAAKAiBGEAAAAAgIoQhAEAAAAAKkIQBgAAAACoCEEYAAAAAKAiBGEAAAAAgIoQhAEAAAAAKkIQBgAAAACoCEEYAAAAAKAiBGEAAAAAgIoQhAEAAAAAKkIQBgAAAACoCEEYAAAAAKAiBGEAAAAAgIoQhAEAAAAAKkIQBgAAAACoCEEYAAAAAKAiBGEAAAAAgIoQhAEAAAAAKkIQBgAAAACoCEEYAAAAAKAiBGEAAAAAgIoQhAEAAAAAKkIQBgAAAACoCEEYAAAAAKAiBGEAAAAAgIoQhAEAAAAAKkIQBgAAAACoCEEYAAAAAKAiBGEAAAAAgIoQhAEAAAAAKkIQBgAAAACoCEEYAAAAAKAiBGEAAAAAgIoQhAEAAAAAKkIQBgAAAACoCEEYAAAAAKAiBGEAAAAAgIoQhAEAAAAAKkIQBgAAAACoCEEYAAAAAKAiBGEAAAAAgIoQhAEAAAAAKkIQBgAAAACoCEEYAAAAAKAiBGEAAAAAgIoQhAEAAAAAKkIQBgAAAACoCEEYAAAAAKAiBGEAAAAAgIoQhAEAAAAAKkIQBgAAAACoCEEYAAAAAKAiBGEAAAAAgIoQhAEAAAAAKkIQBgAAAACoCEEYAAAAAKAiBGEAAAAAgIoQhAEAAAAAKkIQBgAAAACoCEEYAAAAAKAiBGEAAAAAgIoQhAEAAAAAKkIQBgAAAACoCEEYAAAAAKAiBGEAAAAAgIpovMPHrya5fDsOBHjP/nKSZ+70QQA/kDEKh5fxCYebMQqHl/EJh9uFt/pmUZblj/tAAAAAAAC4AywZAQAAAABQEYIwAAAAAEBFCMIAAAAAABUhCAMAAAAAVIQgDAAAAABQEYIwAAAAAEBFCMIAAAAAABUhCAMAAAAAVIQgDAAAAABQEf8/w9+Vc6lMdtkAAAAASUVORK5CYII=\n",
          "text/plain": "<Figure size 1800x576 with 6 Axes>"
         },
         "metadata": {},
         "output_type": "display_data"
        },
        {
         "data": {
          "image/png": "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\n",
          "text/plain": "<Figure size 1800x576 with 6 Axes>"
         },
         "metadata": {},
         "output_type": "display_data"
        },
        {
         "name": "stderr",
         "output_type": "stream",
         "text": "2021-02-10 09:05:50,939 INFO ----------------------------------------------------------------------------------------------------\n"
        },
        {
         "data": {
          "image/png": "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\n",
          "text/plain": "<Figure size 432x288 with 1 Axes>"
         },
         "metadata": {
          "needs_background": "light"
         },
         "output_type": "display_data"
        }
       ]
      }
     },
     "4dc8115277244d8bb087d920f76c9c61": {
      "model_module": "@jupyter-widgets/controls",
      "model_module_version": "1.5.0",
      "model_name": "DescriptionStyleModel",
      "state": {
       "description_width": ""
      }
     },
     "4f63587a79a246cbb2ecdb9fbd434018": {
      "model_module": "@jupyter-widgets/base",
      "model_module_version": "1.2.0",
      "model_name": "LayoutModel",
      "state": {}
     },
     "4fb82ec6ee984ebca8025b7c751a3856": {
      "model_module": "@jupyter-widgets/controls",
      "model_module_version": "1.5.0",
      "model_name": "SliderStyleModel",
      "state": {
       "description_width": ""
      }
     },
     "529125863e1e446ca9490dae6b5eabee": {
      "model_module": "@jupyter-widgets/controls",
      "model_module_version": "1.5.0",
      "model_name": "TextModel",
      "state": {
       "description": "filepath",
       "layout": "IPY_MODEL_29548bc5b09948f08aa466d5432990d2",
       "style": "IPY_MODEL_d6104aba0fc24b6f9006287db1a52585",
       "value": "data/temp/"
      }
     },
     "55053f9cb74744b5be76d4d84cf90738": {
      "model_module": "@jupyter-widgets/controls",
      "model_module_version": "1.5.0",
      "model_name": "ButtonStyleModel",
      "state": {}
     },
     "553274d831de413cb01c634714d31389": {
      "model_module": "@jupyter-widgets/base",
      "model_module_version": "1.2.0",
      "model_name": "LayoutModel",
      "state": {
       "width": "auto"
      }
     },
     "5d8434913b004ef695c76bcd1c35a528": {
      "model_module": "@jupyter-widgets/output",
      "model_module_version": "1.0.0",
      "model_name": "OutputModel",
      "state": {
       "layout": "IPY_MODEL_eaedf7a162a74a8abc8ab9bf736b91e9",
       "outputs": [
        {
         "name": "stderr",
         "output_type": "stream",
         "text": "2021-02-08 19:37:41,431 INFO Preprocessing took: 0.880\n"
        },
        {
         "name": "stdout",
         "output_type": "stream",
         "text": "(1, 5, 60, 192, 192) (1, 5, 60, 192, 192)\nselected batch : 132\n"
        },
        {
         "data": {
          "image/png": "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\n",
          "text/plain": "<Figure size 1800x576 with 10 Axes>"
         },
         "metadata": {},
         "output_type": "display_data"
        },
        {
         "data": {
          "image/png": "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\n",
          "text/plain": "<Figure size 1800x576 with 10 Axes>"
         },
         "metadata": {},
         "output_type": "display_data"
        },
        {
         "data": {
          "image/png": "iVBORw0KGgoAAAANSUhEUgAABYQAAACrCAYAAADW6ZgGAAAAOXRFWHRTb2Z0d2FyZQBNYXRwbG90bGliIHZlcnNpb24zLjMuNCwgaHR0cHM6Ly9tYXRwbG90bGliLm9yZy8QVMy6AAAACXBIWXMAAAsTAAALEwEAmpwYAAArvUlEQVR4nO3de3Cb133m8efgSoIkCAIkCF4kUhQlS5ZMi9bN8k2WZDt27cTxxNtcZpvWSXZmN9Ntk852t+nO7Dad3W53dnpJd+p06jiJ09wa146dKLbbWNbGkq1aN0ukSEmkRIkiRYICxQtIkARxefcPkojtyI4lUSLE9/uZwRgEAegc8OcD4DnnPa+xLEsAAAAAAAAAgMXPsdANAAAAAAAAAABcHwTCAAAAAAAAAGATBMIAAAAAAAAAYBMEwgAAAAAAAABgEwTCAAAAAAAAAGATBMIAAAAAAAAAYBMEwvPBmA0y5m+u8LHLZMxbMuaUjPlHGeOZ59Yhn1xdrfzubJ1YMqZ8nluGfHR19fI9GXNSxhyTMd+UMe55bh3yydXVytMy5qiMaZEx/yRjiue5dcg3V1Mvv3yOv5Ex4/PUIuSrqxtbvi1jzsiYI7OXdfPbOOSdq6sXI2P+p4zpkDHHZczvzXPrkE+urlb2vGNc6ZMxL8xv45B3rq5edsiYw7P1slfGNM5z65BPrq5Wts/WyjEZ84yMcc1z6/KOsSxrodtgb8b8SNLzsqwfypi/k3RUlvX1hW4W8pAxzZKGJf0/SRtkWYML2yDkNWN+Q9LLsz99X9LrjC24JGP8sqz47PW/lHRBlvXnC9so5DVjNkj6fUmPybKYQMClGfNtSTtlWf+00E3BDcCYJyRtk/Q7sqysjAnLsi4sdLOQ54x5TtKLsqzvLHRTkKeM6ZD0qCzruIz5oqRNsqzfWeBWId8Y45DULWmHLKtDxvyppG5Z1tML3LJryn4rhI359++YUTwjY3Zf4j71szOPh2cvd8ze/piM2TU7g101O4MdkTH3ypids/fZ+o7nf1vGlHxAW4yk7ZLmPig/I+nj89ldXIV8qhVJsqy3ZVln57ubmCf5Vy8vybIszcz67ZdUO889xpXKv1qZC4ONpEJJzBTnk3yrF2Ockv6PpP88zz3F1cq3WkF+y796+Q+S/lSWlZUkwuA8kn+1Mvdv+jXzXfqF+eko5kX+1YslyT97vVRS33x1FVcpv2olJGlaltUx+/PPJX1iPrubl+byAttdJLcl7bGkj17idz5LKpi9vsKSDr7jd9+1pN+1pJ2W9OnZ2+61pJ2z139qSXfOXi+2JNfs9SOX+HfKLenUO35eYknHFvy14ZJ/tfLuf/OsJZUv+OvC5UapF7clHbakuxf8teGSv7UifcuSBixptyX5Fvy14ZK/9SL9viV9efb6+IK/LlzyuVa+bUknLanFkv7KkrwL/tpwyed6uWhJ/9WSDlrSy5a0YsFfGy75WSu/fN7PWtI/LfjrwiW/60W6e3Z86bWkdkvyL/hrwyX/akUyltRtSRtmf/6aJbUu+GtzjS/2WyH8S1+T9Jos66eX+J1b0lMyplXSs5Jufsfv/qOkr0hKyrJ+cInHviHpLzWz71VAlpWWJFnWunlsO64vagWXI9/q5UnNbBex57J6geshf2rFsp6QVC3puKRPXnZPcD0sfL0YUy3p30j6v1feDVwHC18rM74iaZWkjZKCkv7L5XcF10G+1ItX0pQsa4OkpyR98wr6gmsrX2plzqclXer5kB/ypV6+LOk3ZFm1kr4l6S+voC+4tha+VizLkvQpSX8lY/ZLGpOUudIO3SjsGQgb8zuS6iR9dfbnx96xlHyDZgaNAUm3Stog6Z0nequVlJVUqZl9Rt5tZt/FL2jmsNs3ZMyqD2jJRUkB/XKz6lpJ56+8Y5h3+VMruBHkW70Y898lVUj6gyvuE66NfKuVmcdlJP1Qdjg86kaTP/XSLKlR0ikZc1aST8acuqq+YX7lT61IltU/uwQlqZkv4Zuuqm+Yf/lUL1KvpOdnr/9YUtOVdQrXRH7VijRzgu1Nkn52xX3CtZMv9WJMhaRbZVlvzd7yj5LuuJquYZ7lS63M3H+fLOtuWdYmSa9L6vjA+y8C9guEjVkv6T9J+rf65R5VP5ZlrZu9HNTM3jL9s7//LUnO2ce6NDNb/WnNrKL61ZDFmOWyrFZZ1v+WdEAzKyMubWYWYrekx2dv+W1JL159JzEv8qlWkP/yrV6M+YKkj0j6dK49yA/5VCsz+2415q5LH5N0Yl76ifmRT/ViWT+TZUVkWfWyrHpJE7IsztadL/KpVmbuXzX7X6OZc2Qcu9ouYh7lW73M7AO7bfb6Vtngi/gNI/9qRZr5/rxTljV1lb3DfMuvehmWVCpjVs7+fP/s8yIf5FetSMaEZ//r1cxRTX931X3Mc/YLhKXf1cxha7tnZx2+cYn7PCnpt2XMUc0UTWL29j+WtEeWtVczBfcFGbP6PY/9kow5JmNaJKUkvSxJMubI+7Tnv0j6g9kVNiFJi/oshjeY/KoVY35PxvRqZias5X3ag4WTX/Uy8wZWKWnfbHv+25V3DfMsn2rFSHpGM4dhtUqqkvSnV9M5zLt8qhfkt3yrle+9Y2wpl/Q/rrhnuBbyrV7+XNInZmvmf2lmVRfyQ77VijRzaDfbReSn/KmXmS0C/p2k52b/rd+S9IdX1z3Mo/yplRl/KGOOS2qR9FNZ1mtX3rUbg5lZpAoAAAAAAAAAWOzsuEIYAAAAAAAAAGyJQBgAAAAAAAAAbIJAGAAAAAAAAABsgkAYAAAAAAAAAGyCQBgAAAAAAAAAbMJ1OXc2xljXqiEAAAAAAAAAgHkzaFlWxXtvZIUwAAAAAAAAACw+3Ze6kUAYAAAAAAAAAGyCQBgAAAAAAAAAbIJAGAAAAAAAAABsgkAYAAAAAAAAAGyCQBgAAAAAAAAAbIJAGAAAAAAAAABsgkAYAAAAAAAAAGyCQBgAAAAAAAAAbIJAGAAAAAAAAABsgkAYAAAAAAAAAGyCQBgAAAAAAAAAbIJAGAAAAAAAAABsgkAYAAAAAAAAAGyCQBgAAAAAAAAAbIJAGAAAAAAAAABsgkAYAAAAAAAAAGyCQBgAAAAAAAAAbIJAGAAAAAAAAABsgkAYAAAAAAAAAGyCQBgAAAAAAAAAbIJAGAAAAAAAAABsgkAYAAAAAAAAAGyCQBgAAAAAAAAAbIJAGAAAAAAAAABsgkAYAAAAAAAAAGyCQBgAAAAAAAAAbIJAGAAAAAAAAABsgkAYAAAAAAAAAGyCQBgAAAAAAAAAbIJAGAAAAAAAAABsgkAYAAAAAAAAAGyCQBgAAAAAAAAAbIJAGAAAAAAAAABsgkAYAAAAAAAAAGyCQBgAAAAAAAAAbIJAGAAAAAAAAABsgkAYAAAAAAAAAGyCQBgAAAAAAAAAbIJAGAAAAAAAAABsgkAYAAAAAAAAAGyCQBgAAAAAAAAAbIJAGAAAAAAAAABsgkAYAAAAAAAAAGyCQBgAAAAAAAAAbIJAGAAAAAAAAABsgkAYAAAAAAAAAGyCQBgAAAAAAAAAbIJAGAAAAAAAAABsgkAYAAAAAAAAAGyCQBgAAAAAAAAAbIJAGAAAAJIkY0zuAgDz4Z3jCWMLAAD5wbXQDQAAAMDC8ng88vv9qqqqktfrVTKZ1PDwsCYnJ5VMJjU9Pa3p6emFbibygNfrVXFxsZxOp9LptCzLUjab1eTkpFKplCzLWugmIg84HA4VFBQoHA4rEAgolUopk8nI6/UqkUhoaGhIExMTudthTw6HQ36/Xx6PR5ZlKZlMKpvNKplMKpVKLXTzAGBRIxAGAGARmlvl6fF45PV6NTk5qUwmkwtvAIfDobKyMpWUlGjNmjVqbm5WaWmpioqKNDo6qsHBQVVXV6ujo0NdXV3q7u6WJPX09GhycnKBW4/ryeFwqKSkROXl5Vq/fr0eeeQR+f1+9ff3KxaLKZVK6dChQzpx4oQSiYTi8bimp6cJ+mzI6/WqrKxM5eXlam5u1vbt21VeXq5oNKp4PK6amhqNjY1pfHxcBw8e1Pnz59XX16exsTHFYjGl0+mF7gKuMWOM/H6/AoGAgsGgPvnJT6qxsVHxeFwnT57U1NSU2tvbdebMGaVSKU1NTWlsbEzpdJpJJwCYR+ZyBlRjDKMvAAB5bG5VViQSkd/vV0lJiZYtW6auri65XC55PB6dPHlSk5OTmp6eViKRYBWODXk8Hq1cuVIPPfSQli5dqqKiIlmWpVOnTml0dFSSND09rZqaGnk8HmUyGQWDQTU3N+snP/mJdu/erZMnT+bui8WrsLBQK1as0OOPP65Vq1apsbFRfr9f8Xhcw8PDOnLkiCzLUiQS0YULF3Tx4kWdOnVKvb29OnHihOLxOGOMTfh8Pm3ZskW/+Zu/qbq6OrndboXDYRUWFioWiymRSOQmEVatWiWn06lUKiWn06n+/n595zvfUUdHhwYHBzkiYZFyu91aunSpduzYoVtuuUVLlixRIBDQ5OSkenp6coFvcXGxpqamNDIyImOMhoeHNTo6qn/9139VZ2enkslk7ggFAMCvdciyrA3vvZEVwgBwg3G73bIsS8YYWZbFahrkGGNUUlKi5cuXa/369fL7/Uomk2poaJDf71c4HFZ5ebna29s1NTWlwcFBHTt2TN3d3QQ2NuJwOBSJRPTggw/q/vvvl9Pp1K5du3TixAl1dXXp+PHj8ng8qq2tVU1NjUpLS+VwOLR27VrV1dXpz/7sz3TkyBF99atf1c6dO1lxvoi53W7V1dXpscce0+c//3nF43FFo1EdP35cnZ2dGhoa0vnz5zUxMaGmpibddNNNCofDWrFihcbHx/XSSy/p2LFjikajBHyLnMvlUlVVle6//3595jOfUUFBgS5cuCBJam9vV2trq+LxuHbt2qWzZ89q69atCofD8vl8evjhh7V582Y5nU4dOHBAL7/8srq6ugj7Fpm595677rpLd9xxh8rKyhQOhzUyMqJDhw7pyJEjue0i6urqVFVVJUlat26dVqxYoUwmo5tuuknPP/+8zpw5o4GBAcYVALgKBMIAcIMwxuRWfmYyGTkcDmWz2dxKmrntAGBfPp9PN998s5qamrR06VI5HA51d3crGo1qfHxc09PTmpyclMvlUiAQUH19ve6++24988wzOnfunOLxOOHeImeMUXl5uTZv3qx169apurpaXV1dOnz4sNra2nKrOTOZjHp7ezU6OqrS0lIVFhaqurpaBw8e1Lp161RfX69PfOIT2rNnj0ZGRhh7FiFjjEpLS9XU1KTGxkYlEglZlqXOzk79y7/8i86cOaPR0dHc9iFjY2OanJzMTT5VVlbqnnvuUSgU0sGDB9XZ2ckE5iLlcDhUVVWlW2+9VatXr5bH45EkOZ1OtbS06Nlnn1VLS4vGxsZ04cIFJRIJ7dmzR8XFxSosLNT4+Liam5tVV1enYDCo8fFxDQ0NKR6Ps+3IIhIKhfTwww/r5ptvVjgcVm1trc6ePau9e/fq4MGD6ujokGVZymQy6urqUnl5uUpLS1VdXa1AIKBsNqtly5bpYx/7mA4dOqS9e/eqr6+PGgGAK8SWEQBwA/B6vQoEAqqpqVFVVZVGRkZyX5TmTuyTSqVyAfHY2BgBjY0YYxQMBrV582atX79eNTU1Gh4e1unTp3X27FmNjIwok8mosLAwt79jUVGRqqurtWXLFoVCIcViMf31X/+1Xn/99YXuDq6RuVW+n/vc57Ry5Ur5/X4dOHBAP/zhD3X48OH3XSXudDrlcrnU2Nio6upqrVmzRkuXLpXX69Wrr76qw4cPq7e3ly/li0wwGNQdd9yh7du3a8OGDSotLdU///M/6xvf+IZOnz79K39vp9OpoqIiFRYWauPGjVq3bp0ikYjq6+uVSCT01FNPad++fUokEgvUI1wr4XBYDz74oB544AHdf//9qqioUDwe1z/8wz/oa1/72gcehWKMkdvtls/n0yOPPKLPfvazcjqd2rt3r55//nm1t7dzBMsi4HQ69cQTT+irX/2qUqmU/H6/ent79cd//Md69dVXc59hHQ5HbmxxOBzyeDzasGGDPv7xjyscDmvTpk2qq6vT7t27tWfPHr388ss6fvy4pqen+dxrEw6HQ4WFhSooKFAgEFBvb6+SyaQ8Ho9KS0vlcrk0PDzMCSuBd2PLCAC40RhjVFhYqFAopEAgoIqKCmUyGbndboVCIfX29mpsbEx+v1+hUEgej0clJSWKxWK5E/1g8auoqNC2bdu0bt069ff3q62tTadOndLw8LCGhoZye/J5vV5VVVXJGJM7LHNwcFAOhyO3r5/f79fExAQr+Rahuro6/dEf/ZE2bNigjo4OHT58WH//93+vEydOfOAX6Uwmo0wmo7a2ttz+08PDwwqHw3rggQfk9/v1yiuvaGBg4Dr2BtdSQUGBbrvtNj366KOqqKiQ0+nUj3/8Y33rW9/KnVzwvTKZjOLxeG5bgPb2dm3atEl+v18rVqzQE088oWQyqf379yuZTF7nHuFaKSws1KpVq7R69WqVlpZqenpa0WhU3/72t/Xkk0+qt7f3Ax9vWZamp6c1PT2tl156SS6XSw899JC2b98uj8ej7373u2pvbyfsu8HNjSlVVVXKZDIaGRnR3/7t3+rnP/+5stmsXC5XbnXwnGw2mzth5cjIiOrq6nKTTDfddJP6+/v14IMPKhgM6vjx4xoYGOAop0XMGCOfz6f169crGAxqcnJSZ8+elTEm9/vi4mItW7ZMFy9e1NjYWO6/1AVwaQTCAJCn5sLgSCSiyspKBQIBNTc3y+12S5LKyspkjFFfX59+9rOfqaenRy6XSyUlJaqqqpLD4dDAwACh8CLn8Xi0bds2bdu2TYFAQPv27dMbb7yh0dHRXwl1U6lUbsWwz+dTf3+/+vr6VF1dnQtzVq5cqfHxcZ06dYpQeBEpKirS5z73OT3yyCN666231NnZqRdffFGnT5++rKAlnU7r8OHDikajuuuuu3T77bdr48aN6u/v1+uvv66pqalr2AtcD8YY1dfXa/v27aqsrJTL5dJrr72mp59++teGe3MmJyd15swZZTIZeb1enTt3TrfddpvuuecedXd369y5c9e4F7geHA6HbrvtNj3++ONqbm7OjQ/79u3Td77zHfX19V3W8w0NDemFF17Q2NiY/uRP/kQ7duxQf3+/Ll68qIGBAULhG5TD4dC9996rjRs3KhaLqbS0VC+++KJeeeWV3BZo6XRa2Wz2V/7GmUxGyWRSHR0duX2DH3roIX3mM59RZWWlnE6nysvLVVtbq5dfflmxWGyBeolrqbCwUKtXr1Y6nZbH41FbW5tisZhGRkZy90kmk+rp6VEymVQ4HFYoFMp91h0eHiYUBi6BQBgA8pTf71dtba0aGhrU2NiosrKy3F6f8XhcxhhVVFRo69at2rZtmw4cOKDR0VElEgnF43EVFxdrcnIyt10AFp+54Gbr1q1as2aNXnnlFe3fv19DQ0Pv+8U5lUppcHBQTqdTU1NTikajKi8vV1lZmZYvXy6n06mRkRH19/drdHT0OvcI18r69ev1la98RclkUv39/Xrrrbf09ttvX9EJeSYmJtTd3a2CggKtW7dOhYWFuvPOO3X+/HlW8i0CBQUF2rJlizZu3Kh4PK7Tp0/rpz/9qc6fP39Zf1vLsnTu3Dn95Cc/0R133KHVq1frIx/5iAYGBvT0009TJ4uA2+3Wl770Jd177706efKk4vG4Tpw4oRdffFH9/f1X9JzxeFyHDx/Wm2++qVWrVqmhoUG33HKLEomExsbG5rkHuB6MMWpsbJTP59PRo0e1cuVK7dmzR7FYTMaYX/s+lM1mc+fJaG1t1alTp3Tx4kXt2LFD9fX18vl88vl86u7u1t69e/nMu8i4XC5VVlZq27ZtevPNN7Vr1673ff9Ip9MaGBhQWVmZgsGgQqGQQqGQ2traNDQ0RCgMvAeBMADkIYfDoYqKCjU3N+u2225TX1+ffvGLX6ilpeVdqx96enoUjUa1efNmbd26VU6nU2+//bba2toUCASUTqeVTCY1Pj6+gL3BtTK3MiYYDCoajer111/XhQsXfm3QMndY5tzEgs/n0+DgoCYnJ3XbbbeptLRUAwMDBMKLhNPpVHNzsxKJhN544w2dOnVKPT09mpiYuOLnTKVSOn36tH7wgx/ozjvvVCAQUFlZWW5Pc9y4KisrtXr1ao2OjubC/87Oziv6Im1ZlsbGxtTW1qbW1lbdd999amhoUDAY1MWLF69B63E9zU1Mx+NxHTt2TLFYTAcOHNC5c+euOPDPZrPq6+vTzp07tWbNGq1cuVLnz5/X2bNnNT4+zkTCDWhu8joYDOrQoUMaGhrSuXPnLus9yLKs3B7DyWRSv/jFL7RlyxatXLlSiURCyWRSTU1N6urqUk9PzzXsDa4nt9utxx57TBcvXtRf/MVffKjHZDKZ3PvLTTfdpEgkokQioYmJiav63AMsRo6FbgAA4Fc5nU5VVFSooaFBN998sw4cOJBbTfFO6XRaPT09euONN3TixAn19PTI6/UqlUppfHw8t9/w3P5aWFw8Hk9uRe/Ro0fV3d39oUMby7I0OTmpoaEhjY2NKZFIaGBgQLFYLLdiGIuDw+FQY2OjLMtSV1eXent7deHChateRTU5OanTp08rFospm80yziwCDodDTU1Nqqur08jIiNLptPr6+q7qS/Tc+9Qrr7yic+fOKRKJaPXq1fPYaiwEY4xWrFihcDisM2fOKBqNqqioSPF4/Kr3iE6lUurq6lJHR4eCwaA2bdqkxsZGxpgblDFGZWVlcrlcmpqaUjwev+ztheZWCWcyGaXTacXjcZ05c0ajo6NKJpOamppSIBCQ3++/Rr3AQqiurtYtt9wih+PyYqtYLKauri51dnbmzpPgdDqvUSuBGxeBMADkGWOMamtrtXbtWq1cuVI7d+7U4cOH3/eQOsuyNDExoaKiItXU1Ki6ulrSTFgTDAYVCAT4ErVIFRQU6JZbblFFRYVaWloUjUYv+znS6bQmJiYUDAblcDjU3t6uiooKLV269Bq0GAslkUjkVlhlMhm5XPNzkJjL5VIkElFDQ4N8Ph9jzQ3OGCNjjC5evKhUKqVUKqWBgYGrXvWdzWY1MjKiCxcuyBiT2wsfNy6n06knnnhCoVBI/f398ng8ymazGh8fv+rDsufGKpfLJY/HI7fbLY/HM08tx/VmWZaSyaQcDoeKi4sVDAav+O85t0L8woULevbZZ3X06FF1dXXlTkDHESqLhzFGoVBIsVhMR48evazHZrNZpdNpTU9Py+l0qrCw8LJDZcAO+L8CAPJQKBTS0qVLdcstt2h6evrXfsCd2xYimUwqlUopk8mosLBQoVBIRUVF16nVuN5CoZA2bNig2tpahUIheb3ey36OuS0jKioq5Pf75Xa7NT4+zmF1i0g2m1V3d7ei0aiKi4tVVVWlioqKeVktk8lkcvXidDoJhG9wlmUpFospFospnU5rbGxMk5OT8/LcxpjckQmc7PTGl81m9fLLL+vNN9+Uy+VSOBzW2NiYxsbG5mVbB6fTqUwmkzuK5WpXHWNhRaNRORwO+f1+jY2Nye/3q6Cg4LKfZ27SyuPxKBKJqKCgQMFgMPf5hcmmxWPub30lW5g5HA65XC75/X4VFxcrmUyytzRwCQTCAJBnLMtSX1+furu7JUmbN29WIBD4wMfMhcehUEjRaFROp1PFxcWamJhQIpG4Dq3GQhgaGtLu3bt18uRJlZWVKRQKXdbjHQ6HfD6fSkpKlEwmFQgEtHnzZh0/flyHDh26Rq3G9ZbNZtXS0qLdu3crGo3K6/WqoaHhiiYQ3mlunCkrK1NFRYWKiopYnbUIuN1uOZ1OZbNZeb3eeQn3HA6HgsGglixZong8rr6+vnloKRZSNpvV3r171dPTo4KCAgUCAdXX1yscDl/1ZJPL5dKKFSu0ZcsWFRQU5E6Wy/7BN6Z0Oq0nn3xS3/3ud+Xz+VRcXKyGhgaFw+EPPYlojMmFfC6XS0uWLNHHPvYx1dbW6uabb5bT6dTFixcVj8evcW9wvZSUlOiee+7Rli1bVFNTc9mPjUQiWrNmjdauXasVK1bI5/Ndo5YCNy5OKgcAeWhgYECdnZ164403FAgEtHLlSg0ODl5yVVVRUZFuvfVWNTY25n5fXl6uVCqlkZERzqq7iGWz2dxZ16uqqhQIBOR2u3/t6ru5VRfFxcWqqamRZVlyOByqq6tTbW2tzpw5wwmfFpG5VZ+pVEoul0uxWEwlJSWqqqrS6dOnr2h88Hg8qq+v12OPPaYtW7aop6dHbW1tjDU3OMuyNDw8rHQ6LZfLJafTqUgkIrfbfcWrqxwOhyorK/XRj35Ua9euVW9vL0cgLBKpVEotLS0yxmh6eloej0clJSVXdWi20+lUfX29duzYoVgspng8rpaWltw+oLgxxWIxPf/88/L7/VqyZIkikYiWLl2qaDT6vluizZnbZsbpdMrtdsvn8+nuu+/Wpk2bJEljY2OKRqPq6enR0NDQ9egOrgOv16vGxkZt2bJF+/fvVzQa/VDvHUVFRbr99tu1bNkyrVq1SqOjo3I4HFe0Ih1Y7FghDAB5KJvNqqenR7t27VIymdT27du1bNmyd50gzhij0tJSbdmyRRs2bFAmk9HIyEhu36yRkRH19/fnAkMsPnPbicRiMU1OTqqiokKBQOADv4w7HA6VlJTk9gn2er25/aeXLFmi3t5edXR0cHjuInPx4kUNDw8rEomouLhYoVBI27Ztu+xV5dLM3tVr167Vpz71Kd1+++06ceKEnnnmGZ04ceIatBzXk2VZGhgY0OTkpFwulwKBgJqbm1VfX3/Fzzm3yuvTn/60hoeH1d7ersHBwflrNBZMOp3WSy+9pEOHDimTycjhcGj16tVXNK5IM59rKioqtH37dm3cuFFOp1ODg4Nqb29nEuEGl81m1dXVpYsXL2pqakrV1dXatGmTli9f/mtXlLtcLrndbrlcLoVCIX3xi1/U5z//efl8PnV1dWnfvn06duyY2tvbOSpuEUkkEjp69KiGhobU1NSkVatWyev1fuCqco/Ho9tvv1133HGH6uvrNTw8rGPHjmn37t0sdAAugRXCAJCHLMtSb2+v3G631q5dq+3bt6uiokJvv/229u7dq/HxcTU0NGjt2rW67777NDAwoLfeekvRaFR9fX2anJzU0NCQEokEK/YWsUQioVdffVWTk5O68847VV1drUQioeLiYo2NjWl4eDj3Jd3tdsvv98vv98vn88nr9aqyslJ+v18ul0sXLlzQoUOH1NnZqcnJSVZiLTJDQ0P6+te/rrvuukvBYFBut1tNTU0aGBjQrl27ciedu5S5L18+n0/Lly9XU1OTPv7xj6umpkanT5/Wc889p8OHDzPWLBLxeFyHDx9WcXGxioqK5HQ6tXTpUnV3d1/WfsJz4d6OHTv0yU9+UoODg3ruuef02muvsbXIItLf368333xT9fX1WrFihRobG+VyufTUU09d1mpNp9Opuro63XPPPfrIRz6idDqtqakp7dmzR3v27GH/z0Wgt7dX3/zmN/XYY4+psbFRmzdvVmlpqX70ox+po6Pjkkc3ud1uFRcX58aj++67T48++qh6e3sVjUaVSCTU19enI0eOqLe3l88ui8jExIQOHjyo5uZmhcNhbd26VStWrFBra6tOnTr1K/Xi9Xq1fv16ffnLX9a5c+d08uRJdXZ2anx8XB0dHUwWAJdgLmfQNMYwwgLAdeTxeLRy5Up94Qtf0M033yy3262dO3cqnU7r0Ucf1dKlS9Xf368f/OAH2rVrl8bGxjQxMaFkMqmpqSk+GNtEMBjUTTfdpEAgoIKCAnk8Hk1NTenIkSNKJpPyer2KRCKqqanJhcXpdFplZWXy+/06fvy4urq61NfXx8rgRczpdGr58uVas2aNampqlM1mNTU1pfPnz6uzs1O9vb1KpVKyLCu3XcDcfo9ut1tLlizR1q1bVVlZqdOnT2tkZERHjhxRa2srJwlbZEpLS/XQQw9p27ZtcrlcGhwc1I9+9CO1tLR8qL+1x+NRZWWlHn/8cT3yyCMqKirSSy+9pO9///s6e/YsgfAiU1hYqM2bN+uBBx5QOBzWxMSEnn32WbW0tGh8fPySYa4xRi6XK7eXfVVVlR5++GGtXbtWhYWFKi0t1Wuvvabvfe976u3tXYBe4VooLCxUU1OT7r33Xq1du1bGGJ07d05vvvmmjhw5otHR0dzEk8/nU0FBgSorK3Xrrbeqrq5Od999t9LptI4ePSpp5kipffv2ad++fRwRtwgFAgFt3bpVt99+u4wxqqmpkcfj0QsvvKDW1lZNT08rlUppenpakUhEmzZtUlVVlSYmJnLbzbS1tWlkZITvRLC7Q5ZlbXjvjQTCAJDnHA6HwuGwIpGIQqGQstmsfD6fampqND09rdbWVnV3d2t8fFzpdJov2jZVUFCgqqoqNTQ0qKysTOl0WkVFRSouLpbH41FpaakKCwt1/vx59fX1aXx8XBMTE4rFYurv79fExAQrPG3A5XKpurpaGzduVDqdVjabVUNDg9LptPbt26eJiQn5fD6VlpYqHA6roaFB8Xhck5OTMsbI6/Xq1KlTam9v1+joKF/AF6m51b0f/ehHtWPHDqXTaf385z/XkSNHcu837x0vnE6nCgsLVVhYqObmZj3++ONqaGhQT0+PXnnlFe3Zs0cXLlzgPWqRKioq0urVq7VhwwYFAgGdPHlSknT27FkNDAxoeno6t6WVMUZFRUWqr69XcXGxlixZojVr1uTer3p6erR37161trYqGo3y3rTIuN1uLV++XBs2bFAkEtGOHTvkcDjU09Oj3t5e7dq1SwUFBbrnnntUXFysTCYjj8cjj8cjn88nt9utAwcOaP/+/bnPNExmL07GGIXDYT388MOqrKzUkiVL9PDDDyuZTOro0aOKRqPq7e1VV1eXKioqVFVVJZ/Pp3g8rmg0qldffVVnzpxhDAEIhAFg8Zg7hJvZbrxXQUFBbgKhtLQ0t++0x+PR4OCgurq6NDg4mAsDqSF7crlcCgaDCgQC2rJli5YvX64zZ87I5/OpqalJXV1dub2pe3t7lUgkNDQ0pMLCQp09e/aytg7AjSsSieiBBx5QVVWVMpmM/H6/Ojo61NbWpv7+fk1NTcntdisYDKq8vFyRSESBQEBNTU0qLS3V/v37tW/fPp0+fVrxeHyhu4NrzOPxKBgMKhQKqaKiQsFgMDeZLc18Zunq6lI2m83tX+/z+VRZWal4PK6Ojg719/ertbVVw8PDC9wbXEsOh0Mej0eRSEQPPfSQ7r33XjkcjtxRTYFAQFNTU7kTF3q93tz7z4kTJ3T8+HH19fVxdIpNBINBrVmzRnfeeaceeOABVVdXa2pqSl1dXTp69KhisZjKy8vl8XjU2tqqlpYWDQ4OKhaLLXTTgXxBIAwAgB0YY+RwOGSMyZ2sJZPJKJPJEADjXdxut0KhkCKRiNxut6amppTJZDQxMaGpqSmNjY3lVvaxh6c9FRcXq7a2NrdvfSQSUSwWU09Pj1wul8LhsEKhkEZGRjQwMKCJiQkNDg4qGo2qp6fnfbcMwOLkdDpVUlLyrsP9/X5/brKgv78/Nxk5PDysZDKZm3AaHBzU1NQUq/lsxOVyqaSkRLW1tSouLlY4HM6tBE4mk5qYmFBbW5ump6flcDg0PDzM5JJN+Xw+1dfXa+PGjVqxYoUSiYTOnz+vwcFBJZNJxeNxjY2NXfZ+94BNEAgDAADgVxljZIzJTRgwcYB3mlvNV1hYqIqKCvn9/twJK71er1KplM6fP69EIqF0Oq1kMqlsNkuwZ1Nzk5Jz+wMXFBTkjmySpGw2q4mJCaXT6XdNVjLu2NdcfcxNYr/zSDgmszHHGCO32y2Px5ObqJ4bOxhHgA9EIAwAAAAAAAAANnHJQNixEC0BAAAAAAAAAFx/BMIAAAAAAAAAYBMEwgAAAAAAAABgEwTCAAAAAAAAAGATBMIAAAAAAAAAYBMEwgAAAAAAAABgEwTCAAAAAAAAAGATBMIAAAAAAAAAYBMEwgAAAAAAAABgEwTCAAAAAAAAAGATBMIAAAAAAAAAYBMEwgAAAAAAAABgEwTCAAAAAAAAAGATBMIAAAAAAAAAYBMEwgAAAAAAAABgEwTCAAAAAAAAAGATBMIAAAAAAAAAYBMEwgAAAAAAAABgEwTCAAAAAAAAAGATBMIAAAAAAAAAYBMEwgAAAAAAAABgEwTCAAAAAAAAAGATBMIAAAAAAAAAYBMEwgAAAAAAAABgEwTCAAAAAAAAAGATBMIAAAAAAAAAYBMEwgAAAAAAAABgEwTCAAAAAAAAAGATBMIAAAAAAAAAYBMEwgAAAAAAAABgEwTCAAAAAAAAAGATBMIAAAAAAAAAYBMEwgAAAAAAAABgEwTCAAAAAAAAAGATBMIAAAAAAAAAYBMEwgAAAAAAAABgEwTCAAAAAAAAAGATBMIAAAAAAAAAYBMEwgAAAAAAAABgEwTCAAAAAAAAAGATBMIAAAAAAAAAYBMEwgAAAAAAAABgEwTCAAAAAAAAAGATBMIAAAAAAAAAYBMEwgAAAAAAAABgEwTCAAAAAAAAAGATBMIAAAAAAAAAYBMEwgAAAAAAAABgEwTCAAAAAAAAAGATBMIAAAAAAAAAYBMEwgAAAAAAAABgEwTCAAAAAAAAAGATBMIAAAAAAAAAYBMEwgAAAAAAAABgEwTCAAAAAAAAAGATBMIAAAAAAAAAYBMEwgAAAAAAAABgEwTCAAAAAAAAAGATBMIAAAAAAAAAYBMEwgAAAAAAAABgEwTCAAAAAAAAAGATBMIAAAAAAAAAYBMEwgAAAAAAAABgE67LvP+gpO5r0RAsOrdJOrzQjcANg3rBh0Wt4HJQL/iwqBVcDuoFHxa1gstBveDDolZwOeoudaOxLOt6NwQAAAAAAAAAsADYMgIAAAAAAAAAbIJAGAAAAAAAAABsgkAYAAAAAAAAAGyCQBgAAAAAAAAAbIJAGAAAAAAAAABsgkAYAAAAAAAAAGyCQBgAAAAAAAAAbIJAGAAAAAAAAABsgkAYAAAAAAAAAGzi/wOxQLwVU6J+nwAAAABJRU5ErkJggg==\n",
          "text/plain": "<Figure size 1800x576 with 10 Axes>"
         },
         "metadata": {},
         "output_type": "display_data"
        },
        {
         "data": {
          "image/png": "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\n",
          "text/plain": "<Figure size 1800x576 with 10 Axes>"
         },
         "metadata": {},
         "output_type": "display_data"
        },
        {
         "data": {
          "image/png": "iVBORw0KGgoAAAANSUhEUgAABYQAAACrCAYAAADW6ZgGAAAAOXRFWHRTb2Z0d2FyZQBNYXRwbG90bGliIHZlcnNpb24zLjMuNCwgaHR0cHM6Ly9tYXRwbG90bGliLm9yZy8QVMy6AAAACXBIWXMAAAsTAAALEwEAmpwYAAAxgElEQVR4nO3deXCc933n+c/v6bsbjcZ9EQABEAR4gJdIibJlyRpZp6/ImbiSuOKxVZV1djexvZ7a2anZrdqtpLJZT6XKrpmtmp3KZDzJZu3YiXyMbI0iidZNURTvCwRIEACJgwAadze6G43ufvYPoNuSTcsiCRINPO9XVZeARvfD3wN89fTzfH7HY2zbFgAAAAAAAABg47PWugEAAAAAAAAAgLuDQBgAAAAAAAAAHIJAGAAAAAAAAAAcgkAYAAAAAAAAAByCQBgAAAAAAAAAHIJAGAAAAAAAAAAcgkB4NRhzQMb8+1t8b6uMOSpj+mTMD2SMd5Vbh2Jye7XyJyt1YsuYqlVuGYrR7dXLd2VMr4w5L2O+I2M8q9w6FJPbq5X/LGPOyJizMuZZGVOyyq1DsbmdevnFNv69jImvUotQrG7v2PI3MmZAxpxeeexd3cah6NxevRgZ83/KmEsy5qKM+doqtw7F5PZq5c33HFdGZcxPVrdxKDq3Vy+fkDEnV+rlLRnTvsqtQzG5vVp5ZKVWzsuYv5Ux7lVuXdExtm2vdRuczZh/kPQj2fb3Zcx/lHRGtv3/rHWzUISM2SdpRtJrkg7ItifXtkEoasZ8UtILK999T9IbHFtwQ8aUyrbnV77+lqQJ2fY317ZRKGrGHJD0dUmfk23TgYAbM+ZvJP1Mtv3sWjcF64Axz0j6Z5K+LNvOyZga2fbEWjcLRc6YH0r6r7Lt/3etm4IiZcwlSb8l274oY/5HSffJtr+8xq1CsTHGknRV0idk25dkzJ9Juirb/s9r3LI7ynkjhI3579/TozggY169wWtaVnoeT648Prry/OdkzM9XerDrV3qw62TMwzLmZyuv+fh7tn9KxoQ/oC1G0iOS8ifKfyvp6dXcXdyGYqoVSbLtU7LtwdXeTayS4quX/ybbtrXc6/eupMZV3mPcquKrlXwYbCQFJNFTXEyKrV6McUn6S0n/yyrvKW5XsdUKilvx1cv/IOnPZNs5SSIMLiLFVyv5f7NUy9fSP1mdHcWqKL56sSWVrnwdkTS6WruK21RctVIpKS3bvrTy/cuS/vlq7m5RyucFjntIHlt605Y+c4OfBW3Jv/L1Vls6/p6f/X+29Ce29DNb+v2V5x62pZ+tfP1TW3pg5esSW3KvfH36Bv9OlS31vef7Jls6v+a/Gx7FVyvv/zcHbalqzX8vPNZLvXhs6aQtPbjmvxsexVsr0n+xpXFbetWWgmv+u+FRvPUifd2WvrHydXzNfy88irlW/saWem3prC1925Z8a/674VHM9TJlS/+bLR23pRdsaeua/254FGet/GK7/8KWnl3z3wuP4q4X6cGV48uwLXXbUuma/254FF+tSMaWrtrSgZXv/50tnVvz380dfjhvhPAv/DtJr8i2f3qDn3kk/ScZc07SP0ra8Z6ffVXSv5G0KNv++xu897Ckb2l53asy2XZGkmTbe1ex7bi7qBXcjGKrl/+g5eUi3rypvcDdUDy1YtvPSGqQdFHS7970nuBuWPt6MaZB0ucl/d+3vhu4C9a+Vpb9G0nbJN0rqULSv775XcFdUCz14pOUkm0fkPSfJH3nFvYFd1ax1Ere70u60fZQHIqlXr4h6ZOy7UZJ/0XSt25hX3BnrX2t2LYt6fckfVvGvCspJil7qzu0XjgzEDbmy5I2S/rTle8/956h5Ae0fNAYl7RH0gFJ773RW6OknKRaLa8z8n7L6y7+oZan3R6WMds+oCVTksr0i8WqGyWN3PqOYdUVT61gPSi2ejHm/5BULelf3vI+4c4otlpZfl9W0vflhOlR603x1Ms+Se2S+mTMoKSgjOm7rX3D6iqeWpFs+/rKEJRFLV+E33db+4bVV0z1Ig1L+tHK1z+WtPvWdgp3RHHVirR8g+37JD1/y/uEO6dY6sWYakl7ZNtHV575gaSP3s6uYZUVS60sv/6IbPtB2fZ9kt6QdOkDX78BOC8QNma/pP9Z0h/oF2tU/Vi2vXflcVzLa8tcX/n5FyW5Vt7r1nJv9e9reRTVr4YsxmyRbZ+Tbf9bSce0PDLixpZ7IV6V9Dsrz3xJ0n+9/Z3EqiimWkHxK7Z6MeYPJT0h6fcL7UFxKKZaWV53q73wtfRZST2rsp9YHcVUL7b9vGy7TrbdIttukZSQbXO37mJRTLWy/Pr6lf8aLd8j4/zt7iJWUbHVy/I6sP9s5euPywEX4utG8dWKtHz9/DPZduo29w6rrbjqZUZSRMZ0rHz/2Mp2UQyKq1YkY2pW/uvT8qym/3jb+1jknBcIS3+i5Wlrr670Ovz1DV7zHyR9Scac0XLRLKw8/79KelO2/ZaWC+4PZcz2X3rv/yRjzsuYs5KWJL0gSTLm9K9pz7+W9C9XRthUStrQdzFcZ4qrVoz5mowZ1nJP2Nlf0x6sneKql+UPsFpJR1ba87/f+q5hlRVTrRhJf6vlaVjnJNVL+rPb2TmsumKqFxS3YquV777n2FIl6c9vec9wJxRbvXxT0j9fqZn/S8ujulAciq1WpOWp3SwXUZyKp16Wlwj47yT9cOXf+qKkf3V7u4dVVDy1suxfyZiLks5K+qls+5Vb37X1wSwPUgUAAAAAAAAAbHROHCEMAAAAAAAAAI5EIAwAAAAAAAAADkEgDAAAAAAAAAAOQSAMAAAAAAAAAA5BIAwAAAAAAAAADuG+mRcbY+w71RAAAAAAAAAAwKqZtG27+pefZIQwAAAAAAAAAGw8V2/0JIEwAAAAAAAAADgEgTAAAAAAAAAAOASBMAAAAAAAAAA4BIEwAAAAAAAAADgEgTAAAAAAAAAAOASBMAAAAAAAAAA4BIEwAAAAAAAAADgEgTAAAAAAAAAAOASBMAAAAAAAAAA4BIEwAAAAAAAAADgEgTAAAAAAAAAAOASBMAAAAAAAAAA4BIEwAAAAAAAAADgEgTAAAAAAAAAAOASBMAAAAAAAAAA4BIEwAAAAAAAAADgEgTAAAAAAAAAAOASBMAAAAAAAAAA4BIEwAAAAAAAAADgEgTAAAAAAAAAAOASBMAAAAAAAAAA4BIEwAAAAAAAAADgEgTAAAAAAAAAAOASBMAAAAAAAAAA4BIEwAAAAAAAAADgEgTAAAAAAAAAAOASBMAAAAAAAAAA4BIEwAAAAAAAAADgEgTAAAAAAAAAAOASBMAAAAAAAAAA4BIEwAAAAAAAAADgEgTAAAAAAAAAAOASBMAAAAAAAAAA4BIEwAAAAAAAAADgEgTAAAAAAAAAAOASBMAAAAAAAAAA4BIEwAAAAAAAAADgEgTAAAAAAAAAAOASBMAAAAAAAAAA4BIEwAAAAAAAAADgEgTAAAAAAAAAAOASBMAAAAAAAAAA4BIEwAAAAAAAAADgEgTAAAAAAAAAAOASBMAAAAAAAAAA4BIEwAAAAAAAAADgEgTAAAAAAAAAAOASBMAAAAAAAAAA4hHutGwAAAAAA2Hgsyyo8AoGAPB6P0um0EomEcrmcbNuWbdtr3UwAAByHQBgAAADAh2aMkcfjKYR5+cDPGCNJSqfTymaza9xKrCXLsuTz+VRfX6/NmzcrEAiotLRUuVxO169fVyqVUjqdVjwe1/T0tBKJhNLpNOGwA1mWJbfbrXA4XDiGeDweLS4uamlpSZlMRul0WrlcTpKoEQBYJQTCAAAAkMvlUlVVldra2rS4uKjZ2Vn5/X4lEgktLCxofn5emUymMKoPzmOMUSAQUE1Njerr65VKpZTJZNTU1CSXy1V43eDgoPr6+pRKpagVB3K5XKqurtbWrVu1detWdXV1adeuXcpkMpqZmVEqlZLH41Emk9Hi4qIuXLigw4cPa2hoSHNzc1paWqJuHMLj8ai5uVlbtmxRW1ubQqGQ3G63IpGI5ubmNDs7q7m5OfX09Cgej2txcVGJREJzc3PKZDJr3XwAWNcIhAEA2OBcLpc8Ho9cLpdyuZwWFxcLI20Ar9er+vp6dXV16b777tNjjz0mSTpy5IiqqqpkjNHs7KwGBwfV3d2tqakp9fT0KBaLrXHLcbcYYxSJRFRfX689e/Zo7969ikQimpyclCS1trZqenpauVyuMLLv/Pnz6u7u1vT0tIaHh5VIJNZ4L3A3lJeXa/fu3dqzZ488Ho86Ozt17733qqSkRPPz86qvr9fS0pJcLpfa2toUDAY1PDys5uZmXbt2TePj4+ru7lZvb6+WlpbWendwh1iWpVAopLa2Nj3++OPau3evamtrlU6nNTU1pZmZGdXV1SkQCCiTyej+++9XOp3W9PS0otGo3n77bY2OjmphYYFgGABukbmZ3ldjDF21AFAk8tPqjDGswYf3McbI5XLJ7/crGAwqEomoublZtbW1mp+fV3d3txKJRGHkJyM+naukpER79uzRwYMH1dbWpmQyqbGxMXV0dOjixYsKhULav3+/ysrK5HK5dPbsWVVXV+snP/mJTp06paGhISWTSepnAzPGqKamRk8//bSeeOIJdXR0KJlMamZmRtPT08pkMpqenlYgEFBjY6P8fr+i0WihlmKxmN544w0dPXqUJQE2OJ/Ppz179ugrX/mKDh48qOvXryuXy6mjo0Ner1fxeFwej0cvv/yyjh49qgceeEAtLS0qKSnRxMSEampqVFdXp8OHD+sv//Iv1dfXp4WFBWpmg/H7/aqtrVVNTY3279+v3bt3q7KyUm63W2fPntWpU6c0ODgo27bl9XplWZbuu+8+bdu2Tdu2bdPU1JSOHz+uY8eOaWpqSsPDw4rFYixTAxljCtdHkrg+An7hhG3bB375SQJhAFhH8us2lpSUKBAIyOVyqbS0VLZta3x8vLAmX35aN5zFGFO40KqtrVVpaakaGhpkjFFra6s2bdqkwcFBTU9PK51Oa2hoSCMjI4rH44rFYoXpmNj4LMtSY2Ojnn76aZWVlWlyclKlpaU6d+6cXC6XXC6Xrl+/rkAgoObmZvl8PhljVFVVpfb2dnV1dSkQCOjQoUP6i7/4C01MTKz1LuEOsCxLVVVV+tznPqcvfOELymazikajGhwc1OHDhzU9PV1Y9zORSCgSiSgSiWjTpk2FEcXxeFwDAwM6dOiQBgcHNT8/z+fTBuT3+3X//fero6NDXV1d2rNnj2zbLoR1Fy9e1FtvvaWZmRktLi4qHo+rrKxMwWBQ4XBYmzZt0iOPPKKnn35afr9fL7zwgp599lmdPHmyECxj/QsEArr33nv12GOPyeVyqbW1VU1NTZqdndX3v/99HTp0SFNTU4VRv/nZTcFgUKFQSDt37lR7e7t27txZWF6kp6dHp0+f1uXLlzmHcSCXyyW3261AIKC2tjbV1dUpHo8rnU5rYmJCExMTSqVSymazhMNwshsGwiwZAQDrRD7sq66uVlVVlXw+n9xut2prayVJoVCosM7nzMwMo2ocKBgMasuWLers7NSmTZuUy+WUy+WUTqdVUlKicDgsr9crr9crl8ulTZs2qaysTNlsVqlUSr29vbpy5QoX3g5QWlqq3/3d39Vv//Zv69ChQ5qYmNDg4KDeeustzc/PF15njJHb7ZYxRuXl5Xr00UcVCoUUCoX0xBNP6JFHHtHf//3fa2pqitFZG1AgENCWLVu0bds2TU5O6tKlS+rp6dG1a9d0/PjxX1k2xOv1yu/3q7OzU9u3b1ckElFFRYWMMYU1ZPv7+1k+YoMxxqihoUGf/vSnFQqFND09revXr6uqqkr9/f168803deTIEcXj8fe9LxaLyRgjn8+nvr4+TUxMyBijPXv26J577tHExITS6bTm5+cVj8c5p1nnLMtSbW2tDhw4oLa2Nnm9Xu3Zs0dzc3N6/vnn9cMf/lDJZFLGmMKN5nw+n7xer7LZrObn5/XGG2/o9ddf1wMPPKDPfvaz6uzsVHV1tQKBgObn5zU0NESdOExJSYkqKirU0NCghx56SLt379b09LTi8bi6u7t14cIFXbt2TXNzc3QYAL+EQBgA1oH8jXzyF9eBQECpVEq5XK5wwbS4uCiXy6Xa2lpVVVXpypUrisVinBg7hMvl0q5du7Rjx47CaIlUKqWpqSlFo1FFo1H5/X7Nzc3J7XbL6/WqpKRElZWVWlxcVG1trcrKypRKpTQxMcFJ8wbmcrm0b98+ffazn9XExIRGRkYUjUZvGNTZtq1MJiNjjGKxmM6ePVtYIsLtdqukpEQNDQ0KhULvC5Kx/hljFAqFVFZWptnZWaVSKQ0PD+v8+fOFpUJ+WSaTUSKRUH9/v5LJpILBoLZt26bS0lJt375d8Xhc8XhcIyMjrA+7gbjdbu3YsUM7d+7U0tJSoeNxZGREb7/9ts6fP69UKvUr78tP506n08pms7p69aqee+45xeNx/c7v/I5aWlq0Z88eTU5O6uLFi3QkrHOhUEgHDhxQe3u7pOUOp7m5OT377LN69dVXlU6n3/d627a1tLRUWAYr30GZy+V05coVnThxQlu3btW+ffs0Ozury5cva25uTnNzc2uxe7jL8h0FkpTL5ZRMJtXb2yuv11uYpbJ582a53W75/X5du3atMFoYwDKWjACAIudyuVRVVaWKigoFg0GVlZUpFAoVLowCgYCMMRoYGNDCwoIsy1JFRYVs29bY2JjGx8d/5SQbG4vb7VZ7e7s+85nPyLIsLSwsaHZ2VteuXdPo6KiGh4cLF97GmMII4aqqKu3YsUNtbW3y+/3yeDwqKyvToUOH9Oabb/7KaC5sDJ2dnfrmN7+p3bt366WXXtJzzz2n119//UOFLflla1paWvToo48WbvrzyiuvfOhtYH0IhUL62Mc+pq6uLlmWpWg0qjfeeENXr179UKPB8zei6+zs1I4dO/TQQw9pampK8Xhcb7zxht5++20uzDeImpoaPfPMM3rooYeUy+UKIznffPNNXb58+UOH//njS0dHh77xjW+opaVFiURCFy9e1A9+8AOdPXuWjoR1yhijHTt26JlnntHWrVvV3t6uxcVF/emf/qlefPFFLS0tyefzFZY9++X35peOyAfDxhhVVFTo6aef1he/+EVduHBBFy5c0Llz53TkyBHNzMys0Z7iTssvZfTYY4/p+PHjunz5cuH5/GzKHTt2qL6+vtBhnUwmNTAwoGg0Wug4YDYcHIYlIwBgPQqHw2poaFBZWZkqKytVXV2t1tZWGWOUzWbV1tamiooKnT9/XrOzs4UTYp/Pp4aGBrlcLg0NDTGde4Myxqi9vV1f+tKXZFmW4vG4JiYmdObMGQ0MDCiZTP7K3z4/+jeRSGh6elpjY2Pq6upSWVmZ+vr6FAgEVFVVdcP3Yn0LBoP6oz/6I7W3t+uHP/yhBgYG1NPTc8PRnjeSH83X19ensbEx7dmzR0899ZQefPBBRaNRnT17lg6oDcDj8egjH/mIvvrVryqVSundd9/VpUuXNDY29qGPCbZta3Z2VidOnNDIyIhSqZR2796tnTt3yhijiYkJ9fT0/Er4g/Ulv7Z4fX29pOUby6VSKR07dky9vb039RmSP7709PTo29/+tj7/+c9r9+7damxs1FNPPaX5+flC+IP1xbIs7d69W8FgUMlkUolEQs8++6wOHTqkXC6ncDgs27ZvODspXxf57eQ7sOfm5vTiiy+qpKREra2t2r17t9ra2uRyufTKK69oYWHhbu8m7jCXy6W9e/fqC1/4ghYXF/Xaa68Vgt38f5eWlnT06FEZY1RWVqbHH39cnZ2dCofDikajkqSenh5mUQIiEAaAoub1elVTU1O4Sc/WrVs1MzOj559/XqOjo8pkMqqtrVVDQ4M2b96ssrIy7dmzR5s3b9ZLL72kyclJWZalmpoaTUxMEO5tQB6PR5/+9Ke1c+dO9fT0KJVK6fLlyxoYGPiNI3zT6bRmZ2fV29ur+fl5NTY2qrKyUgsLCwoGgwoEAowS3kCMMbr//vv15S9/Wb29vYrFYjp8+PAtrbmYHwV47Ngxud1uffrTn9bDDz+s8fFxDQ0N3aE9wN1SU1Ojr33ta3rooYf02muv6eLFi4XlQm5WJpPRyMiIXnjhBUWjUVmWpZaWFn3sYx8rrDXLRfn6FQ6HC+uJh8NhDQ4O6vjx4+rr67vlc45MJqNLly7p6NGjhSVH6urqFA6HZVkWI/vWIbfbrW3btqm5uVmRSEQ9PT167rnnlEqlFIlElE6nlUgkfuPfNpfLFWYWeDwejY+P65133tE999yjmpoajY2Nve9cBhtLWVmZvvKVr+jcuXP6h3/4hw+8oa1t25qbm9PLL78sy7IKoXBZWZkikYiSySQzDuB4BMIAUMQqKyvV3Nys5uZmbd26VUePHtWLL76oVCpVuIAeGBiQMUYlJSUKBoNqa2tTR0eHSkpKlEgkCuvJer3eW7qYR3GLRCL6/Oc/r/HxcWUyGZ04cULnzp370EFuLpdTLBYrXGRPT0+rqqpKNTU1ymQyunbtGtO6Nwifz6c//uM/VmlpqRoaGuR2uzUyMnJbIzRTqZTOnj2rjo4OPfnkk7p8+bLGxsa4yFrHXC6Xtm/frtbWVp09e1ZnzpzRhQsXbqtzKD9a+OzZs2psbFRLS4t27typkydPKhqNUi/rWDgc1sMPP6yKigqdOXNGFy9e1KFDh257TfGlpSVdvnxZ586dU1dXl2KxmEpKShQIBAj61hnLsvTUU09p27ZtSiaTampq0vPPP6/Lly/Ltm1NT0/f1PZyuZwWFxdlWZYkKRqNamJiQps3b9b8/Lymp6fl9Xrl8/m4H8IG4Xa7VV1drXQ6ra9//etaWlr6UB1O+fPa1157TZFIRJFIRE1NTRoZGfnAMBlwCmutGwA4ncfjUXl5uSorKxUKheRyuda6SSgS+fVcN2/eLJ/Pp7fffltHjx4t3NDpvWzbViwW08TEhPr7+7W4uKiamho1NDQUtuX1egsnz9gYjDHasmWLnn/+eb355puFv//NXojncjktLCwoHo8rFotpfHxc5eXl2rJliyKRyB1qPe62cDisvr4+XblyRT09PTpz5syqBCszMzM6cuSIrl69qq6uLtXU1KxCa7FWAoGAOjo6NDU1pampKY2Pj990YPPrRKNRvfXWWzp79qx8Pp9qa2sVDAZXZdtYGy6XS4lEQufPn9fx48f185//XNeuXbvt7dq2rf7+fr3zzjuamZlRKBRSc3OzQqHQKrQad5Pb7dYf/MEf6IknnijcDDmRSBTWBb4VuVyucMO5ubk5XblypTC7adOmTQqHwzLGrPKeYK1UVlZq//79qq+vVyqVuunZBzMzM7pw4ULhWjscDnN+C4hAGFgz+RGdDz74oP78z/9c3/rWt/TFL35RXV1dKi0t5SQGhbuzP/nkkwqFQjpx4oTGxsY+8D22bSsajernP/+5amtrVV5ermAwqNLSUpWVldHhsMFYlqXm5mb5fD75/X7Nzc1pYWHhlqZfLy0tFUZgZTIZRaNRBYNBlZSUcDzaIMrLy9XS0qLx8XF1d3drdHR0VUZ/53I5DQwM6OjRo4XR5Vi/vF6vGhsb5XK5dPXqVfX09KzaiMz8SOGJiQn5fD61traqtbVVPp9vVbaPuyu/hn1tba2Gh4fV39+v/v7+VVsX2rIsNTY2at++faqrq1NnZ6cqKytXZdu4+9xut8LhsMbGxpRIJJROp295doBt28pms4V1h4eHhzUwMCBpuVOL5QA2Do/Ho82bN+vcuXO6dOnSLW1jcXFR4+Pjsm1bqVRKmUxGbjeT5QH+LwDWgMvl0pYtW3TvvffK7Xbr3XffVTabVS6X07333qvy8nJdvny5MAUczmSMUXl5eWFq3I1GBt9ILpfT7OysRkZG5PP5ZFmWvF6vAoEAI4Q3GNu2lUwmFQqFZNu2JiYmbnlZkHxt5adYJhIJVVZWMoJigzHGFG4WuJpBf/4O3o2NjaxVvs5VVlaqpaVFs7OzhZknq/k3XVxc1PT0tBYXFwvTuvlsWp8sy1JTU5Pcbrfm5uY0MjKi8fHxVa2XUCikUCgky7IUDofl9XpXbdu4O3K5nMbHx5VIJAoB7tzc3G3XST4U9vl8Ki8vV0VFhdxutyoqKhQMBunM3gB8Pp9CoZDOnTv3vuXyfpP83z7/etu2FY/HNTQ0pEgkUvgcAn65VpyGQBhYA/X19XryySclSf/4j/+osbEx2batcDisj370o9qzZ498Pp/m5+cVi8XWuLVYK7Zta8eOHbr33nv1yiuv3NQHlWVZhZ7v/PpZ8XicG7FsQJZlKZ1Oy+VyKZ1O39aIz0wmo6mpKaXTaZWWlqqkpER+v38VW4u1lMlklEqlCjdoqq+vX7VtG2Pkdrvl8/mYibCOGWPU3Nys++67TxcvXpTX6131UVS5XE6JRKJwQ7nJyUk6v9cp27Z19epVHT9+XAsLC6qoqFAoFNLc3NyqXFzbtq2xsTGdOnVK169fV19fn6amplah5bibstms/uqv/kp1dXXyeDxaWFjQ3NzcqmzbGCO/36+qqqrCiONcLie32y2Xy8WxZZ2rrq7Wli1bdObMGXm9XpWWlmpqakqJROLXvicUCqmqqkqWZSkej2tmZkaZTEaWZckYo8nJycIoYWw8+c7D26kVJyEQBu4yn8+nAwcOqKmpSX/9139dCIMlKRaL6eTJk1paWlJFRYU8Hs8atxZrKZfLKRwOKxwO39SoT5fLpcrKysJNE/x+v2ZnZz/U3ZuxvliWpZaWFu3YsUOXLl1SKBRSIBC4pY4kl8slr9erbDarsrIyNTc3q7+/X4ODg47tNd9oksmkhoeH5ff7NTg4qJGRkVXbdv6kOpvNKp1Or9p2cfdls1mFw2EFg0Elk8lV/dwwxqisrExtbW0qKSnRzMyMZmdnGVW+TuVyOY2NjamkpES1tbVaXFxUf3+/xsbGVuVvGggEVFJSolAopLq6Op04cYKBEuuQbdu6dOmSKisrVVVVpd7eXgUCAXk8ntta1iHfEdne3q6PfOQjSqVSisfjmp2dLawvjPXL7/dr//796urqUjqd1mc+8xl94hOf0N/93d/p2WefveEyem63Ww888IAeffRR5XI5vfvuu3rllVc0Pz8vr9crj8ejeDyuRCJBfWxQtbW1+upXv3rLtTI7O3v3G72GCISBuywUCmnLli2yLOuGU19yuZwOHjyoXbt26fjx40xncbB0Oq3XX39dpaWlhRHkv2nUjWVZqqmp0X333ad0Ol1YasLv9yuTyXDRvcHYtq3JyUmVlZVpcXFR2Wz2lqbTWpalkpISNTU1qby8XCUlJQoGgxoZGdHMzMwdaDnWit/vlzFm1S6EjDEKBALauXOnWlpa9NJLL6m7u3tVto27Lz/iM38D0/xxZbX4/X5t2bJFBw4cUCAQkKTCiD6sT9FoVENDQ+rs7Cw8txrHF5fLpY6ODu3fv1/hcFiJREJjY2OKx+O3vW3cfUtLS/rxj3+shx56SMYYtba2anh4+JZHfOdHBre1tem3fuu3NDExoevXrysej+vSpUuanJxkDeF1rqSkRPv27VN9fb2am5sViUT0ve99T0NDQ6qoqNDc3JyWlpYKAxnyNxLM5XKamZkpHIfy9+1paWnR5OSkrl+/rkQi4biRoE5gjFFpaalKS0tvuVachkAYuMtyuZxyuVzhgDQ0NFS4EDLGqKKiQg8++KDOnTvnuB4qvF86ndbhw4dVU1Ojbdu2aXR0VGNjY7/2BNfv9ysQCKi1tVUej0dTU1OF0RJzc3O3vLYsilc2m9XLL7+sgwcPyuv1Fu6aPDc396FPdI0xhdFXLS0tKi8vVzqd1ujoqPr6+lblpmMoDtPT0+ru7lZ1dbUqKyvV0NBQWDP6VuQvspqbm1VbW6srV65oYGCAEeXr3PT0tF599VUdOHBAkgp3Zb/d0NbtdqutrU333HOP0um0hoaGCG02gFgspldffVWhUEjl5eXatWuXrl69qmg0esvbNMaosrJSO3bskNfr1dDQkA4fPqyenh46ttepTCaj5557TpZlqb6+XhUVFaqrq7up85X38vl82rRpkx5//HHdf//9On36tBYXFzUwMKAzZ86s2ih1rJ1cLqf5+fnCMnj5MPef/umflMvlVFtbq1gspkQiod27d0uSxsfH9c4778jlcqmlpUV+v19ut1udnZ3avHmzenp6NDo6qng8zrnKBrW0tKTh4eGbrhWfz+fImiAQBu4yl8ul2tpaeTwe1dfXa2xsrNA7vnXrVu3du1ff/e539eKLLxIIO5xt2xodHdXJkyf11FNP6eDBg4rH4zpz5sz7Apx8R8LWrVtVWlqqTZs2KZlM6vLly5qfn1c0GlUsFnPkh5wTTE5O6jvf+Y4OHjxYWGstPw371/3N8yNE/X6/KisrtXnzZu3atUuRSETvvPOOZmZmNDExofHx8bu8N7iTlpaWNDAwoF27dikUCmn37t26cOGC+vv7b+qC3Bgjr9erhoYGHTx4UHV1dTp9+rQOHz5MuLcB5NdWPHDggGZnZ9XV1aXh4WGNjIzc8ueIx+NRS0uLPvaxj6mtrU0jIyPq6+tTLBYjtFnn8qHN7OysmpqatH//fqVSKf3kJz+5pY5on8+n6upqdXZ2qrm5WclkUq+88opeeuklzovXueHhYfX29mrfvn3KZrOFtcTHx8c/dIeTZVnyeDxqa2vTU089pY6ODj333HOFWXTHjx/XwMAAn0UbQCAQ0JYtW5TJZArLDB08eFCxWEzvvvuuotGoMpmMbNvW0aNHlcvlZNt2oZPa7/drZGREbW1tevrpp3XmzBkNDQ1pYmKC0cEblG3bWlpaUjKZ1L333vuhaqWmpkZer1cjIyOOHDxFIAzcZXNzc/re976ne+65Rx/96Ee1fft2HTt2TLFYTE8++aSy2ax+9KMfsVQEJC0HOD09Pdq2bZt27dqlT33qU/J6verv75fL5VI2m5Xb7daOHTvU1dUlt9uteDyu8fFxRaNRTU5OKplMEgZvYLlcToODgwqHw6qpqVF9fb327dunU6dOaW5u7n0XWcYY+Xw+lZSUyOv1qrq6Wps2bVJDQ4Mkqbu7W1evXtXY2JgjT4o2ulwup9dff11er1cf//jH5fF49PDDDyscDuvixYsfeOMNablD0+Vyqa6uTs3Nzerq6pIkvfrqqxoaGuICfINIp9M6cuSI9u/fX1hPfPfu3YXZJjfzeWKMUSQSUUdHhz75yU+qsrJSCwsLmpqa0smTJ9Xf38+a0+tcJpPR0NCQ3nnnHfl8PoVCIbW1tWn//v06deqUFhYWPtR28lN9m5qatHfvXjU2NmpqakqnT5/W6dOnNT8/f4f3BHdaNptVX1+fjh07pra2NrW1tWlxcVGnT5/W9evXP3BGksvlktvtVm1trUpLS/WRj3xEjY2Nunr1qgKBgKLRqE6dOqW+vj46mTaIVCqlvr4+lZeXKxAIqK6uTg0NDaqurlZHR4f6+voUjUYLo4iNMQoGg3r88cdVXV2tpaUlVVdXK5FI6MqVK+rv79fU1BRh8AY3PT2t4eFhHTx4UL/3e7/3gbXy6KOPyrIsTU5OfuBAmo3M3ORJnfN+Q8AdkL9Aam9vVzgc1szMTGHqyuzsrKanpx15QMKN5dcFPnjwoLq6ugojqiKRSOGDrb29Xb29vZqYmFBvb6/6+/uVSqWUzWapJQfIj/bdtGmTduzYoaamJl2/fl3Hjh3T7OysjDGFdahrampUWVmpYDCosrIy5XI5TU5OyrIsnT9/XqOjo1xMbXD19fWFkZq2bauxsVHd3d366U9/+r7lZWzblsfjUTgcls/nU1VVlSoqKtTc3Kzt27fr3Llzev3113X9+nVqZoMpKyvTM888o8cff1zd3d0aHh7WlStXdOzYMU1MTPzGv7dlWQoEAqqvr9fjjz+u9vZ2ZbNZZbNZXblyRb29vTp69OgtL1eC4uL1elVfX69t27aptbVVtbW1CgQCeumll/Tmm28WRmb9snwnUz5I7uzsVCQSUX19vSzL0sDAgN59913NzMxwLrNBuN1ulZeXa+fOnbrnnnskSfPz87p69apOnDihhYWFwrrilmXJsiwFg0HV1NSotLRUe/fuVTAYVEVFhSYnJzU/Py9jjI4cOeLYEX4blWVZqqqq0pYtW3TPPffokUceUW1trd566y3Nz8+roaFB5eXlGh4eLtxEcGBgQOXl5dq7d69CoZAymYzOnj2rF154QZcvX77pTk2sP5ZladOmTdq1a1fhmqe1tfVXauXKlSuKx+MaHR3VzMyMRkZGND8/v5HvaXDCtu0Dv/wkgTAArBNer1eVlZVqa2vTfffdp0gkIrfbrenpaV26dEmHDx/W/Pw8wYyDuVwuNTQ0qKOjQ3V1dZqcnFQ8HlckElEikVAgEJAxRpOTk0qn01pYWNDi4mJhbWpOkp2jvLxcn/rUp9TR0aGZmRkFg0G53W5dvXpVIyMjKikp0dzcnPx+f2FttdnZWSWTSfX29hZmITAqeGMyxqitrU2PPfaY6uvrVVdXp97eXk1NTWlkZESXLl3S7Oxs4cIpl8vJ7XbL5/MVOjHr6+u1ZcsWbd68WdlsVhMTE3rjjTfU3d2tdDrN8WaDcbvdqqmpUW1trTo6OrR9+3Zdu3ZNb7/9towxmp2dVTqdLty0x+PxKBgMFmarNDU1SZL6+/s1Pz9fCPsI+Dae/L0LWlpaVFNTo+bmZrW2tioajcrtdqunp0dDQ0NqamoqdC7lOybLyspUUlKiK1euaGhoSD09Pbp+/fpGDnEcLT+S88CBA3riiSfU2dkp27Z1/Phx9fX1qaWlpRD8jo2NaXR0VKWlpWpvb5fX69X8/LxOnjypo0eP/sZZUNhYLMtSeXm5QqGQ6uvrtXPnTtXW1iqZTOratWs6d+6cRkdHlUqlCktIbHAEwgCwEbhcLgUCAVmWpaWlJaXTaUJgFORH00QiEUlSMBiU3++XMUaWZSkWi2l6elrpdFqLi4uMInew0tJS1dXVqbq6Wg0NDYVlAZLJpILBoKampjQzM6Pp6Wklk0lNTk5qZmZGMzMzHHMcorq6WgcPHtT+/fuVzWZVXV2tTCajwcFBRaNRpVIpLS0tKR6Py+fzqbKyUpZlKRQKFS6wJiYmNDw8rOnpaY2MjDBddwPLj9yMRCKqra1VfX29ZmdnC7WR75j0+/2KxWIaHBzU4uKijDEKh8OanJzUtWvXFIvF6DTY4PLnsqFQqHD/g8bGRu3bt08NDQ2an59XIpHQuXPnCh2QCwsLSiQShftjJJNJjicOYIzR5s2b9dhjj2nPnj2qqKhQIpHQwMCARkZGNDg4qGAwqFwup0AgoPLycmUyGSWTSfX19am3t5cw2OHyHQuRSETGGM3MzDhxSUUCYQAAnCI/CsuyrML3tm07pRccN8Hj8SgUCikcDmtpaakwvTudThe+z9cNteMsxhgFAgFt3bpVu3fvVktLi0pKSjQ7O6uKigr5fL5C2JtKpRSLxbS0tKSFhQUNDAwoFospmUwqnU4zgs8hPB6PSktLC2vV53K5wtrj0vI6spZlaXFxUVNTU8pms1paWtL8/HzhhoYcZ5zBsiy53e7C7IJ8QFxTU6NcLldYRi+VShU6sLPZLMcSB7Isq3AD7fr6ejU2NqqpqUmTk5MaHR1Vd3e3YrGYysvLlUwmNTQ0pMXFxULdACAQBgAAAHAL/H6/gsGgysvL5fP5VFFRodLSUiUSCcXjcU1MTBSWEWHmAdxut4wxhZuZlpWVybbtQqC3uLiohYUF5XI5OiohY4zcbrdcLpds21YmkyHIww253W75/X41NzeroaFBtm2ru7tb0Wi0cDwB8CsIhAEAAADcHsuyCsEN4S9+E2PM++oFAADcVTcMhN1r0RIAAAAA6xOjsHAz8iM+AQBA8bDWugEAAAAAAAAAgLuDQBgAAAAAAAAAHIJAGAAAAAAAAAAcgkAYAAAAAAAAAByCQBgAAAAAAAAAHIJAGAAAAAAAAAAcgkAYAAAAAAAAAByCQBgAAAAAAAAAHIJAGAAAAAAAAAAcgkAYAAAAAAAAAByCQBgAAAAAAAAAHIJAGAAAAAAAAAAcgkAYAAAAAAAAAByCQBgAAAAAAAAAHIJAGAAAAAAAAAAcgkAYAAAAAAAAAByCQBgAAAAAAAAAHIJAGAAAAAAAAAAcgkAYAAAAAAAAAByCQBgAAAAAAAAAHIJAGAAAAAAAAAAcgkAYAAAAAAAAAByCQBgAAAAAAAAAHIJAGAAAAAAAAAAcgkAYAAAAAAAAAByCQBgAAAAAAAAAHIJAGAAAAAAAAAAcgkAYAAAAAAAAAByCQBgAAAAAAAAAHIJAGAAAAAAAAAAcgkAYAAAAAAAAAByCQBgAAAAAAAAAHIJAGAAAAAAAAAAcgkAYAAAAAAAAAByCQBgAAAAAAAAAHIJAGAAAAAAAAAAcgkAYAAAAAAAAAByCQBgAAAAAAAAAHIJAGAAAAAAAAAAcgkAYAAAAAAAAAByCQBgAAAAAAAAAHIJAGAAAAAAAAAAcgkAYAAAAAAAAAByCQBgAAAAAAAAAHIJAGAAAAAAAAAAcgkAYAAAAAAAAAByCQBgAAAAAAAAAHIJAGAAAAAAAAAAcgkAYAAAAAAAAAByCQBgAAAAAAAAAHIJAGAAAAAAAAAAcgkAYAAAAAAAAAByCQBgAAAAAAAAAHIJAGAAAAAAAAAAcgkAYAAAAAAAAAByCQBgAAAAAAAAAHIJAGAAAAAAAAAAcgkAYAAAAAAAAAByCQBgAAAAAAAAAHIJAGAAAAAAAAAAcgkAYAAAAAAAAABzCfZOvn5R09U40BBvOPZJOrnUjsG5QL/iwqBXcDOoFHxa1gptBveDDolZwM6gXfFjUCm7G5hs9aWzbvtsNAQAAAAAAAACsAZaMAAAAAAAAAACHIBAGAAAAAAAAAIcgEAYAAAAAAAAAhyAQBgAAAAAAAACHIBAGAAAAAAAAAIcgEAYAAAAAAAAAhyAQBgAAAAAAAACHIBAGAAAAAAAAAIcgEAYAAAAAAAAAh/j/AfChuSmdvqltAAAAAElFTkSuQmCC\n",
          "text/plain": "<Figure size 1800x576 with 10 Axes>"
         },
         "metadata": {},
         "output_type": "display_data"
        },
        {
         "name": "stderr",
         "output_type": "stream",
         "text": "2021-02-08 19:37:42,684 INFO ----------------------------------------------------------------------------------------------------\n"
        },
        {
         "data": {
          "image/png": "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\n",
          "text/plain": "<Figure size 432x288 with 1 Axes>"
         },
         "metadata": {
          "needs_background": "light"
         },
         "output_type": "display_data"
        }
       ]
      }
     },
     "5e53d4588f144f39946bb3f3c7f405fd": {
      "model_module": "@jupyter-widgets/base",
      "model_module_version": "1.2.0",
      "model_name": "LayoutModel",
      "state": {}
     },
     "60c023758fc545199917338a428d9fcb": {
      "model_module": "@jupyter-widgets/controls",
      "model_module_version": "1.5.0",
      "model_name": "VBoxModel",
      "state": {
       "_dom_classes": [
        "widget-interact"
       ],
       "children": [
        "IPY_MODEL_0161262ea9bd4e19996960c89886a3fd",
        "IPY_MODEL_862e383520214df69319113dd6a742bc",
        "IPY_MODEL_641c2fa05c6545829e0c12b574bb5aac",
        "IPY_MODEL_0b3583c8a4be42a3bcf759b1b8da512e",
        "IPY_MODEL_4027bde83081456bbdf61399410c0429",
        "IPY_MODEL_c68dfdec44bf403fadff6c46e119a926",
        "IPY_MODEL_e2eebc37d1fb4a72ad105254633b3c43",
        "IPY_MODEL_4d9c80f1301546ac87c2468c30d36421"
       ],
       "layout": "IPY_MODEL_15e68f0088454d578b923a687e87d505"
      }
     },
     "612dd69da0114b7d9d0b50790233174b": {
      "model_module": "@jupyter-widgets/base",
      "model_module_version": "1.2.0",
      "model_name": "LayoutModel",
      "state": {}
     },
     "639c13f92f0042148f8429313037666b": {
      "model_module": "@jupyter-widgets/base",
      "model_module_version": "1.2.0",
      "model_name": "LayoutModel",
      "state": {}
     },
     "641c2fa05c6545829e0c12b574bb5aac": {
      "model_module": "@jupyter-widgets/controls",
      "model_module_version": "1.5.0",
      "model_name": "IntSliderModel",
      "state": {
       "description": "slice_n",
       "layout": "IPY_MODEL_639c13f92f0042148f8429313037666b",
       "max": 11,
       "min": 1,
       "style": "IPY_MODEL_64feff2dd87c449abdd48fd85abd9173",
       "value": 11
      }
     },
     "64feff2dd87c449abdd48fd85abd9173": {
      "model_module": "@jupyter-widgets/controls",
      "model_module_version": "1.5.0",
      "model_name": "SliderStyleModel",
      "state": {
       "description_width": ""
      }
     },
     "6d0d4c2a77374fc1beffff07b38cc8d4": {
      "model_module": "@jupyter-widgets/controls",
      "model_module_version": "1.5.0",
      "model_name": "HTMLModel",
      "state": {
       "layout": "IPY_MODEL_91720a7b7ab847ff819b5797678caade",
       "style": "IPY_MODEL_a0f5245b18174471800191d53866bbfc"
      }
     },
     "71bbcea51cd8447ba7490e2d6f0f62e3": {
      "model_module": "@jupyter-widgets/base",
      "model_module_version": "1.2.0",
      "model_name": "LayoutModel",
      "state": {}
     },
     "74a6ee06a06e4a4aa0764867d1d6d602": {
      "model_module": "@jupyter-widgets/output",
      "model_module_version": "1.0.0",
      "model_name": "OutputModel",
      "state": {
       "layout": "IPY_MODEL_5e53d4588f144f39946bb3f3c7f405fd"
      }
     },
     "790c207806844938b53fcba35524619d": {
      "model_module": "@jupyter-widgets/base",
      "model_module_version": "1.2.0",
      "model_name": "LayoutModel",
      "state": {}
     },
     "7cea22f4c4a64f368aca871d59545108": {
      "model_module": "@jupyter-widgets/controls",
      "model_module_version": "1.5.0",
      "model_name": "DescriptionStyleModel",
      "state": {
       "description_width": ""
      }
     },
     "802348cd6d33406c83deea7376bce9fa": {
      "model_module": "@jupyter-widgets/controls",
      "model_module_version": "1.5.0",
      "model_name": "IntSliderModel",
      "state": {
       "description": "im",
       "layout": "IPY_MODEL_95228bdba0484a2bb53a672ab3a2a2ee",
       "max": 0,
       "style": "IPY_MODEL_877f3d89422640c89d6aef53a7f6039f"
      }
     },
     "862e383520214df69319113dd6a742bc": {
      "model_module": "@jupyter-widgets/controls",
      "model_module_version": "1.5.0",
      "model_name": "IntSliderModel",
      "state": {
       "description": "im",
       "layout": "IPY_MODEL_f083e25467f347678959e7ba9b226905",
       "max": 0,
       "style": "IPY_MODEL_ee722c34b52f4ca782fbade7e1c403ee"
      }
     },
     "877f3d89422640c89d6aef53a7f6039f": {
      "model_module": "@jupyter-widgets/controls",
      "model_module_version": "1.5.0",
      "model_name": "SliderStyleModel",
      "state": {
       "description_width": ""
      }
     },
     "91720a7b7ab847ff819b5797678caade": {
      "model_module": "@jupyter-widgets/base",
      "model_module_version": "1.2.0",
      "model_name": "LayoutModel",
      "state": {
       "display": "none"
      }
     },
     "92a4b4b9f3d2416f831abb80fa8bf5fd": {
      "model_module": "@jupyter-widgets/base",
      "model_module_version": "1.2.0",
      "model_name": "LayoutModel",
      "state": {}
     },
     "92f68cfe4ea245a5a403a4b813daaddb": {
      "model_module": "@jupyter-widgets/controls",
      "model_module_version": "1.5.0",
      "model_name": "ButtonModel",
      "state": {
       "description": "Select",
       "layout": "IPY_MODEL_553274d831de413cb01c634714d31389",
       "style": "IPY_MODEL_cfcd26c3a83d4db2899deda04f832556"
      }
     },
     "95228bdba0484a2bb53a672ab3a2a2ee": {
      "model_module": "@jupyter-widgets/base",
      "model_module_version": "1.2.0",
      "model_name": "LayoutModel",
      "state": {}
     },
     "9a217f6a655c466f8a4b1d74ef4079d2": {
      "model_module": "@jupyter-widgets/controls",
      "model_module_version": "1.5.0",
      "model_name": "DropdownModel",
      "state": {
       "_options_labels": [
        "/mnt/ssd/data/gcn/02_imported_4D_unfiltered",
        "/mnt/ssd/data/gcn",
        "/mnt/ssd/data",
        "/mnt/ssd",
        "/mnt",
        "/"
       ],
       "index": 0,
       "layout": "IPY_MODEL_1d0df31215c24dd08208f144ba5a4167",
       "style": "IPY_MODEL_c4e5c1bf08ac48d7a5e2e2663ab54232"
      }
     },
     "9aba4ff9ffe84da69dced4ebd47ca063": {
      "model_module": "@jupyter-widgets/base",
      "model_module_version": "1.2.0",
      "model_name": "LayoutModel",
      "state": {}
     },
     "9ac284164eb846f288e4e826b7ba6422": {
      "model_module": "@jupyter-widgets/controls",
      "model_module_version": "1.5.0",
      "model_name": "CheckboxModel",
      "state": {
       "description": "save",
       "disabled": false,
       "layout": "IPY_MODEL_fdab2fa5930847bcaa389c276fb0c2db",
       "style": "IPY_MODEL_4ae2135c08cc4d918206d0774c0eebe8",
       "value": false
      }
     },
     "9b4673c00ec54e9abc6768d02b4ce3d5": {
      "model_module": "@jupyter-widgets/base",
      "model_module_version": "1.2.0",
      "model_name": "LayoutModel",
      "state": {}
     },
     "9ecd6477fac649b5b556a22e7ed9a459": {
      "model_module": "@jupyter-widgets/controls",
      "model_module_version": "1.5.0",
      "model_name": "SliderStyleModel",
      "state": {
       "description_width": ""
      }
     },
     "a0ebbcfc5af242efbe006a07c9592ff2": {
      "model_module": "@jupyter-widgets/base",
      "model_module_version": "1.2.0",
      "model_name": "LayoutModel",
      "state": {
       "grid_area": "filename",
       "width": "auto"
      }
     },
     "a0ef417594514ebf8cf4ad3529a721bf": {
      "model_module": "@jupyter-widgets/controls",
      "model_module_version": "1.5.0",
      "model_name": "DescriptionStyleModel",
      "state": {
       "description_width": ""
      }
     },
     "a0f5245b18174471800191d53866bbfc": {
      "model_module": "@jupyter-widgets/controls",
      "model_module_version": "1.5.0",
      "model_name": "DescriptionStyleModel",
      "state": {
       "description_width": ""
      }
     },
     "a15847f66b6f4fd88b69ed7478296f0e": {
      "model_module": "@jupyter-widgets/controls",
      "model_module_version": "1.5.0",
      "model_name": "VBoxModel",
      "state": {
       "_dom_classes": [
        "widget-interact"
       ],
       "children": [
        "IPY_MODEL_2967272310ab4923b4f17b8cec9d0738",
        "IPY_MODEL_e414875a5e404dbf892f5d0ecd9509a3",
        "IPY_MODEL_a971d069e1db4522b1923fa33b5cb03a",
        "IPY_MODEL_107cebd1d70c464aa984ec28b490488e",
        "IPY_MODEL_529125863e1e446ca9490dae6b5eabee",
        "IPY_MODEL_ac8f6435b75f4580a2ce6526ea2a6c49",
        "IPY_MODEL_fb5f566b932247c6be1b4231d793e746",
        "IPY_MODEL_5d8434913b004ef695c76bcd1c35a528"
       ],
       "layout": "IPY_MODEL_375a4f343b8347d9acf2e889ebc3c43c"
      }
     },
     "a93bf2a2600c48de81d1e168bc5b342b": {
      "model_module": "@jupyter-widgets/controls",
      "model_module_version": "1.5.0",
      "model_name": "SelectModel",
      "state": {
       "_options_labels": [
        "..",
        "LAX",
        "SAX",
        "SAX_2D",
        "SAX_3D",
        "SAX_4D",
        "SAx_3D_dicomTags",
        "SAx_3D_dicomTags_phase",
        "SAx_3D_dicomTags_phase_outcome_meta",
        "SAx_3D_dicomTags_phase_outcome_meta_bsa",
        "df_kfold.csv"
       ],
       "index": null,
       "layout": "IPY_MODEL_12548103eace4d12b00738cc561b00f1",
       "rows": 8,
       "style": "IPY_MODEL_4dc8115277244d8bb087d920f76c9c61"
      }
     },
     "a971d069e1db4522b1923fa33b5cb03a": {
      "model_module": "@jupyter-widgets/controls",
      "model_module_version": "1.5.0",
      "model_name": "IntSliderModel",
      "state": {
       "description": "slice_n",
       "layout": "IPY_MODEL_1fb55a9ba6bf4c0fa42e64e1236113f5",
       "max": 11,
       "min": 1,
       "style": "IPY_MODEL_33f7f792ba5a4f6d91444d378cae692c",
       "value": 6
      }
     },
     "ac8f6435b75f4580a2ce6526ea2a6c49": {
      "model_module": "@jupyter-widgets/controls",
      "model_module_version": "1.5.0",
      "model_name": "TextModel",
      "state": {
       "description": "filename",
       "layout": "IPY_MODEL_deaa18e94c364abaa458b3900e796b0b",
       "style": "IPY_MODEL_7cea22f4c4a64f368aca871d59545108",
       "value": "temp_x.npy"
      }
     },
     "b265f3be1a35467e9574b40fc19a51b2": {
      "model_module": "@jupyter-widgets/controls",
      "model_module_version": "1.5.0",
      "model_name": "SliderStyleModel",
      "state": {
       "description_width": ""
      }
     },
     "b9ee9e1465b049d5967ca31e77ebb1f2": {
      "model_module": "@jupyter-widgets/controls",
      "model_module_version": "1.5.0",
      "model_name": "SliderStyleModel",
      "state": {
       "description_width": ""
      }
     },
     "c1dfdcf11f6b4d88ae4e1bfaf2b5d0a2": {
      "model_module": "@jupyter-widgets/controls",
      "model_module_version": "1.5.0",
      "model_name": "VBoxModel",
      "state": {
       "_dom_classes": [
        "widget-interact"
       ],
       "children": [
        "IPY_MODEL_2eaa378736d140f1a2ab2121db7acb17",
        "IPY_MODEL_802348cd6d33406c83deea7376bce9fa",
        "IPY_MODEL_0f96ce01e2f54510b28608552ed25193",
        "IPY_MODEL_9ac284164eb846f288e4e826b7ba6422",
        "IPY_MODEL_056306c9f88646e3917ae16dafad35e7",
        "IPY_MODEL_f1d296adfaba48788afc168da916cfe8",
        "IPY_MODEL_f7a1d0f5b684404689960b21da11ae19",
        "IPY_MODEL_1a70e35fe888451c9bc17f50f19d6540"
       ],
       "layout": "IPY_MODEL_790c207806844938b53fcba35524619d"
      }
     },
     "c4e5c1bf08ac48d7a5e2e2663ab54232": {
      "model_module": "@jupyter-widgets/controls",
      "model_module_version": "1.5.0",
      "model_name": "DescriptionStyleModel",
      "state": {
       "description_width": ""
      }
     },
     "c68dfdec44bf403fadff6c46e119a926": {
      "model_module": "@jupyter-widgets/controls",
      "model_module_version": "1.5.0",
      "model_name": "TextModel",
      "state": {
       "description": "filename",
       "layout": "IPY_MODEL_612dd69da0114b7d9d0b50790233174b",
       "style": "IPY_MODEL_416eb95aedb84d91a522d66361f686ca",
       "value": "temp_x.npy"
      }
     },
     "c88d586bae414ac9960d7971b5533084": {
      "model_module": "@jupyter-widgets/base",
      "model_module_version": "1.2.0",
      "model_name": "LayoutModel",
      "state": {}
     },
     "cfcd26c3a83d4db2899deda04f832556": {
      "model_module": "@jupyter-widgets/controls",
      "model_module_version": "1.5.0",
      "model_name": "ButtonStyleModel",
      "state": {}
     },
     "d39609a103ea49e79384c2298d5f04a9": {
      "model_module": "@jupyter-widgets/base",
      "model_module_version": "1.2.0",
      "model_name": "LayoutModel",
      "state": {}
     },
     "d486043b1b21440b91e50fba850485a1": {
      "model_module": "@jupyter-widgets/base",
      "model_module_version": "1.2.0",
      "model_name": "LayoutModel",
      "state": {}
     },
     "d4dc57964ca44858adcc91f24a97f1f0": {
      "model_module": "@jupyter-widgets/base",
      "model_module_version": "1.2.0",
      "model_name": "LayoutModel",
      "state": {
       "display": "none",
       "width": "auto"
      }
     },
     "d6104aba0fc24b6f9006287db1a52585": {
      "model_module": "@jupyter-widgets/controls",
      "model_module_version": "1.5.0",
      "model_name": "DescriptionStyleModel",
      "state": {
       "description_width": ""
      }
     },
     "da64b4e2d3a749778d8981ca98ee74a4": {
      "model_module": "@jupyter-widgets/controls",
      "model_module_version": "1.5.0",
      "model_name": "SliderStyleModel",
      "state": {
       "description_width": ""
      }
     },
     "dbd7ef86264f4ab29a5b50dddc4a8847": {
      "model_module": "@jupyter-widgets/base",
      "model_module_version": "1.2.0",
      "model_name": "LayoutModel",
      "state": {}
     },
     "dcdd7058978740f894fd28fe2b80e992": {
      "model_module": "@jupyter-widgets/base",
      "model_module_version": "1.2.0",
      "model_name": "LayoutModel",
      "state": {
       "width": "auto"
      }
     },
     "deaa18e94c364abaa458b3900e796b0b": {
      "model_module": "@jupyter-widgets/base",
      "model_module_version": "1.2.0",
      "model_name": "LayoutModel",
      "state": {}
     },
     "e2eebc37d1fb4a72ad105254633b3c43": {
      "model_module": "@jupyter-widgets/controls",
      "model_module_version": "1.5.0",
      "model_name": "ButtonModel",
      "state": {
       "description": "Run Interact",
       "layout": "IPY_MODEL_2f956ec149384b6e98dbf6a55025c2dd",
       "style": "IPY_MODEL_23a20094432b4fa497c131c9207403b3"
      }
     },
     "e414875a5e404dbf892f5d0ecd9509a3": {
      "model_module": "@jupyter-widgets/controls",
      "model_module_version": "1.5.0",
      "model_name": "IntSliderModel",
      "state": {
       "description": "im",
       "layout": "IPY_MODEL_c88d586bae414ac9960d7971b5533084",
       "max": 0,
       "style": "IPY_MODEL_4fb82ec6ee984ebca8025b7c751a3856"
      }
     },
     "e62609b30f6d4d2689f5aa6aeb98a359": {
      "model_module": "@jupyter-widgets/controls",
      "model_module_version": "1.5.0",
      "model_name": "GridBoxModel",
      "state": {
       "children": [
        "IPY_MODEL_9a217f6a655c466f8a4b1d74ef4079d2",
        "IPY_MODEL_19104f9023164f5eb6ff0a1a70ef000d",
        "IPY_MODEL_a93bf2a2600c48de81d1e168bc5b342b"
       ],
       "layout": "IPY_MODEL_108cda3ac40b43ffa41c7af9e6b64f1d"
      }
     },
     "e8b5b1dec83a4a7593795fbcfb388ad4": {
      "model_module": "@jupyter-widgets/controls",
      "model_module_version": "1.5.0",
      "model_name": "HBoxModel",
      "state": {
       "children": [
        "IPY_MODEL_92f68cfe4ea245a5a403a4b813daaddb",
        "IPY_MODEL_0439537632584c38b8a7cc7843471d7b",
        "IPY_MODEL_47651b144a9e438e89ef1eccfe68ffa6"
       ],
       "layout": "IPY_MODEL_00f70b2608674d4b8ede639802d942d1"
      }
     },
     "eaedf7a162a74a8abc8ab9bf736b91e9": {
      "model_module": "@jupyter-widgets/base",
      "model_module_version": "1.2.0",
      "model_name": "LayoutModel",
      "state": {}
     },
     "ec502fd04ce749e29e5f5804f226134f": {
      "model_module": "@jupyter-widgets/controls",
      "model_module_version": "1.5.0",
      "model_name": "DescriptionStyleModel",
      "state": {
       "description_width": ""
      }
     },
     "ee722c34b52f4ca782fbade7e1c403ee": {
      "model_module": "@jupyter-widgets/controls",
      "model_module_version": "1.5.0",
      "model_name": "SliderStyleModel",
      "state": {
       "description_width": ""
      }
     },
     "f083e25467f347678959e7ba9b226905": {
      "model_module": "@jupyter-widgets/base",
      "model_module_version": "1.2.0",
      "model_name": "LayoutModel",
      "state": {}
     },
     "f0e509a55e544c4a8d5465e2989fa189": {
      "model_module": "@jupyter-widgets/base",
      "model_module_version": "1.2.0",
      "model_name": "LayoutModel",
      "state": {}
     },
     "f13b2f8c10d24af087bdae90ab6818d2": {
      "model_module": "@jupyter-widgets/controls",
      "model_module_version": "1.5.0",
      "model_name": "VBoxModel",
      "state": {
       "children": [
        "IPY_MODEL_6d0d4c2a77374fc1beffff07b38cc8d4",
        "IPY_MODEL_e62609b30f6d4d2689f5aa6aeb98a359",
        "IPY_MODEL_e8b5b1dec83a4a7593795fbcfb388ad4"
       ],
       "layout": "IPY_MODEL_dcdd7058978740f894fd28fe2b80e992"
      }
     },
     "f1d296adfaba48788afc168da916cfe8": {
      "model_module": "@jupyter-widgets/controls",
      "model_module_version": "1.5.0",
      "model_name": "TextModel",
      "state": {
       "description": "filename",
       "layout": "IPY_MODEL_47950cfe1e054db296f819cf57668d98",
       "style": "IPY_MODEL_007382ceac3c48e78111a476e5489fb3",
       "value": "temp_x.npy"
      }
     },
     "f6dbe921fa52417ba50fd86cf4ef9265": {
      "model_module": "@jupyter-widgets/controls",
      "model_module_version": "1.5.0",
      "model_name": "ButtonStyleModel",
      "state": {}
     },
     "f7a1d0f5b684404689960b21da11ae19": {
      "model_module": "@jupyter-widgets/controls",
      "model_module_version": "1.5.0",
      "model_name": "ButtonModel",
      "state": {
       "description": "Run Interact",
       "layout": "IPY_MODEL_44774bb1f00e4c6bb36b8d5dbcc56a37",
       "style": "IPY_MODEL_55053f9cb74744b5be76d4d84cf90738"
      }
     },
     "fb5f566b932247c6be1b4231d793e746": {
      "model_module": "@jupyter-widgets/controls",
      "model_module_version": "1.5.0",
      "model_name": "ButtonModel",
      "state": {
       "description": "Run Interact",
       "layout": "IPY_MODEL_4f63587a79a246cbb2ecdb9fbd434018",
       "style": "IPY_MODEL_f6dbe921fa52417ba50fd86cf4ef9265"
      }
     },
     "fdab2fa5930847bcaa389c276fb0c2db": {
      "model_module": "@jupyter-widgets/base",
      "model_module_version": "1.2.0",
      "model_name": "LayoutModel",
      "state": {}
     }
    },
    "version_major": 2,
    "version_minor": 0
   }
  }
 },
 "nbformat": 4,
 "nbformat_minor": 4
}
