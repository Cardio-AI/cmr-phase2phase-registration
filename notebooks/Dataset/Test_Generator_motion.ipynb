{
 "cells": [
  {
   "cell_type": "code",
   "execution_count": 1,
   "metadata": {},
   "outputs": [
    {
     "name": "stdout",
     "output_type": "stream",
     "text": [
      "search for root_dir and set working directory\n",
      "Working directory set to: /mnt/ssd/git/dynamic-cmr-models\n",
      "['/gpu:0', '/gpu:1']\n"
     ]
    },
    {
     "name": "stderr",
     "output_type": "stream",
     "text": [
      "2021-04-27 17:21:31,369 INFO -------------------- Start --------------------\n",
      "2021-04-27 17:21:31,369 INFO Working directory: /mnt/ssd/git/dynamic-cmr-models.\n",
      "2021-04-27 17:21:31,370 INFO Log file: ./logs/temp/MotionGenerator-tests.log\n",
      "2021-04-27 17:21:31,370 INFO Log level for console: INFO\n"
     ]
    },
    {
     "name": "stdout",
     "output_type": "stream",
     "text": [
      "{'__K': None, 'GPU_IDS': '0,1', 'GPUS': ['/gpu:0', '/gpu:1'], 'SEED': 42, 'EXPERIMENT': 'temp/MotionGenerator-tests', 'BATCHSIZE': 2, 'GENERATOR_WORKER': 2, 'DIM': [30, 64, 64], 'SPACING': [4, 4, 4], 'MASK_VALUES': [1, 2, 3], 'MASK_CLASSES': 3, 'MASKING_IMAGE': True, 'MASKING_VALUES': [2], 'BORDER_MODE': 4, 'IMG_INTERPOLATION': 1, 'MSK_INTERPOLATION': 0, 'AUGMENT': True, 'AUGMENT_PROB': 1, 'SHUFFLE': True, 'RESAMPLE': True, 'SCALER': 'Standard', 'CONFIG_PATH': 'reports/config/temp/MotionGenerator-tests', 'TENSORBOARD_LOG_DIR': 'reports/tensorboard_logs/temp/MotionGenerator-tests', 'MODEL_PATH': 'models/temp/MotionGenerator-tests', 'HISTORY_PATH': 'reports/history/temp/MotionGenerator-tests'}\n"
     ]
    }
   ],
   "source": [
    "# ------------------------------------------define logging and working directory\n",
    "from ProjectRoot import change_wd_to_project_root\n",
    "change_wd_to_project_root()\n",
    "\n",
    "from src.utils.Tensorflow_helper import choose_gpu_by_id\n",
    "# ------------------------------------------define GPU id/s to use\n",
    "GPU_IDS = '0,1'\n",
    "GPUS = choose_gpu_by_id(GPU_IDS)\n",
    "print(GPUS)\n",
    "\n",
    "# this should import glob, os, and many other standard libs\n",
    "from src.utils.Notebook_imports import *\n",
    "\n",
    "# local imports\n",
    "from src.utils.Utils_io import Console_and_file_logger, init_config\n",
    "from src.visualization.Visualize import show_2D_or_3D\n",
    "\n",
    "# import external libs\n",
    "import cv2\n",
    "import pandas as pd\n",
    "\n",
    "# ------------------------------------------jupyter magic config\n",
    "%matplotlib inline\n",
    "%reload_ext autoreload\n",
    "%autoreload 2\n",
    "\n",
    "EXPERIMENT = 'temp/MotionGenerator-tests'\n",
    "\n",
    "# ------------------------------------------generator hyperparameters\n",
    "SEED = 42 # define a seed for the generator shuffle\n",
    "BATCHSIZE = 2 # 32, 64, 24, 16, 1 for 3D use: 4\n",
    "GENERATOR_WORKER = BATCHSIZE # if not set, use batchsize\n",
    "DIM = [30, 64, 64] # network input params for spacing of 3, (z,y,x)\n",
    "SPACING = [4, 4, 4] # if resample, resample to this spacing, (z,y,x)\n",
    "# maybe we can drop this channel?\n",
    "#IMG_CHANNELS = 1 # Currently our model needs that image channel\n",
    "MASK_VALUES = [1, 2, 3]  #channel order: Background, RV, MYO, LV\n",
    "MASK_CLASSES = len(MASK_VALUES) # no of labels\n",
    "MASKING_IMAGE = True\n",
    "MASKING_VALUES = [2]\n",
    "BORDER_MODE = cv2.BORDER_REFLECT_101 # border mode for the data generation\n",
    "IMG_INTERPOLATION = cv2.INTER_LINEAR # image interpolation in the genarator\n",
    "MSK_INTERPOLATION = cv2.INTER_NEAREST # mask interpolation in the generator\n",
    "AUGMENT = True # a compose of 2D augmentation (grid distortion, 90degree rotation, brightness and shift)\n",
    "AUGMENT_PROB = 1\n",
    "SHUFFLE = True\n",
    "RESAMPLE = True\n",
    "SCALER = 'Standard' # MinMax Standard or Robust\n",
    "\n",
    "Console_and_file_logger(EXPERIMENT, logging.INFO)\n",
    "config = init_config(config=locals(), save=True)\n",
    "print(config)"
   ]
  },
  {
   "cell_type": "code",
   "execution_count": 2,
   "metadata": {},
   "outputs": [
    {
     "data": {
      "application/vnd.jupyter.widget-view+json": {
       "model_id": "f5e22c94dbca48ebb22087e1fc8b9471",
       "version_major": 2,
       "version_minor": 0
      },
      "text/plain": [
       "FileChooser(path='/mnt/ssd/data/gcn/02_imported_4D_unfiltered', filename='', title='HTML(value='', layout=Layo…"
      ]
     },
     "metadata": {},
     "output_type": "display_data"
    },
    {
     "data": {
      "application/vnd.jupyter.widget-view+json": {
       "model_id": "d1f45e6ece38471ebeac29856dd61ab6",
       "version_major": 2,
       "version_minor": 0
      },
      "text/plain": [
       "interactive(children=(Button(description='Run Interact', style=ButtonStyle()), Output()), _dom_classes=('widge…"
      ]
     },
     "metadata": {},
     "output_type": "display_data"
    }
   ],
   "source": [
    "######################################\n",
    "# for fast tests, no choice\n",
    "path_to_df = '/mnt/ssd/data/gcn/02_imported_4D_unfiltered/SAx_3D_dicomTags_phase_outcome_meta_bsa'\n",
    "df = pd.read_csv(path_to_df)\n",
    "df['phase'] = pd.Categorical(df.phase, \n",
    "                      categories=['ED','MS','ES','PF','MD'],\n",
    "                      ordered=True)\n",
    "#print(df.info())\n",
    "#######################################\n",
    "\n",
    "# load the dataframe\n",
    "from ipyfilechooser import FileChooser\n",
    "df_chooser = FileChooser('/mnt/ssd/data/gcn/02_imported_4D_unfiltered/')\n",
    "display(df_chooser)\n",
    "@interact_manual\n",
    "def load_df():\n",
    "    global df\n",
    "    if df_chooser.selected is not None:\n",
    "        path_to_df  = df_chooser.selected\n",
    "        df = pd.read_csv(path_to_df)\n",
    "        df['phase'] = pd.Categorical(df.phase, \n",
    "                              categories=['ED','MS','ES','PF','MD'],\n",
    "                              ordered=True)\n",
    "        #print(df.describe())\n",
    "        print(df.info())"
   ]
  },
  {
   "cell_type": "code",
   "execution_count": 3,
   "metadata": {},
   "outputs": [
    {
     "name": "stdout",
     "output_type": "stream",
     "text": [
      "      patient PatientID\n",
      "5    04NEJQUZ  04NEJQU7\n",
      "6    04NEJQUZ  04NEJQU7\n",
      "7    04NEJQUZ  04NEJQU7\n",
      "8    04NEJQUZ  04NEJQU7\n",
      "9    04NEJQUZ  04NEJQU7\n",
      "640  GZH20326  6ZH20326\n",
      "641  GZH20326  6ZH20326\n",
      "642  GZH20326  6ZH20326\n",
      "643  GZH20326  6ZH20326\n",
      "644  GZH20326  6ZH20326\n",
      "890  PEXM9GEK  PEXM9GE \n",
      "891  PEXM9GEK  PEXM9GE \n",
      "892  PEXM9GEK  PEXM9GE \n",
      "893  PEXM9GEK  PEXM9GE \n",
      "894  PEXM9GEK  PEXM9GE \n"
     ]
    },
    {
     "data": {
      "text/html": [
       "<div>\n",
       "<style scoped>\n",
       "    .dataframe tbody tr th:only-of-type {\n",
       "        vertical-align: middle;\n",
       "    }\n",
       "\n",
       "    .dataframe tbody tr th {\n",
       "        vertical-align: top;\n",
       "    }\n",
       "\n",
       "    .dataframe thead th {\n",
       "        text-align: right;\n",
       "    }\n",
       "</style>\n",
       "<table border=\"1\" class=\"dataframe\">\n",
       "  <thead>\n",
       "    <tr style=\"text-align: right;\">\n",
       "      <th></th>\n",
       "      <th>patient</th>\n",
       "      <th>x_path</th>\n",
       "      <th>phase</th>\n",
       "    </tr>\n",
       "  </thead>\n",
       "  <tbody>\n",
       "    <tr>\n",
       "      <th>0</th>\n",
       "      <td>02Z1L14N</td>\n",
       "      <td>/mnt/ssd/data/gcn/02_imported_4D_unfiltered/SA...</td>\n",
       "      <td>MS</td>\n",
       "    </tr>\n",
       "    <tr>\n",
       "      <th>1</th>\n",
       "      <td>02Z1L14N</td>\n",
       "      <td>/mnt/ssd/data/gcn/02_imported_4D_unfiltered/SA...</td>\n",
       "      <td>ES</td>\n",
       "    </tr>\n",
       "    <tr>\n",
       "      <th>2</th>\n",
       "      <td>02Z1L14N</td>\n",
       "      <td>/mnt/ssd/data/gcn/02_imported_4D_unfiltered/SA...</td>\n",
       "      <td>PF</td>\n",
       "    </tr>\n",
       "    <tr>\n",
       "      <th>3</th>\n",
       "      <td>02Z1L14N</td>\n",
       "      <td>/mnt/ssd/data/gcn/02_imported_4D_unfiltered/SA...</td>\n",
       "      <td>MD</td>\n",
       "    </tr>\n",
       "    <tr>\n",
       "      <th>4</th>\n",
       "      <td>02Z1L14N</td>\n",
       "      <td>/mnt/ssd/data/gcn/02_imported_4D_unfiltered/SA...</td>\n",
       "      <td>ED</td>\n",
       "    </tr>\n",
       "    <tr>\n",
       "      <th>...</th>\n",
       "      <td>...</td>\n",
       "      <td>...</td>\n",
       "      <td>...</td>\n",
       "    </tr>\n",
       "    <tr>\n",
       "      <th>1320</th>\n",
       "      <td>ZZQ0001Q</td>\n",
       "      <td>/mnt/ssd/data/gcn/02_imported_4D_unfiltered/SA...</td>\n",
       "      <td>ED</td>\n",
       "    </tr>\n",
       "    <tr>\n",
       "      <th>1321</th>\n",
       "      <td>ZZQ0001Q</td>\n",
       "      <td>/mnt/ssd/data/gcn/02_imported_4D_unfiltered/SA...</td>\n",
       "      <td>MS</td>\n",
       "    </tr>\n",
       "    <tr>\n",
       "      <th>1322</th>\n",
       "      <td>ZZQ0001Q</td>\n",
       "      <td>/mnt/ssd/data/gcn/02_imported_4D_unfiltered/SA...</td>\n",
       "      <td>ES</td>\n",
       "    </tr>\n",
       "    <tr>\n",
       "      <th>1323</th>\n",
       "      <td>ZZQ0001Q</td>\n",
       "      <td>/mnt/ssd/data/gcn/02_imported_4D_unfiltered/SA...</td>\n",
       "      <td>PF</td>\n",
       "    </tr>\n",
       "    <tr>\n",
       "      <th>1324</th>\n",
       "      <td>ZZQ0001Q</td>\n",
       "      <td>/mnt/ssd/data/gcn/02_imported_4D_unfiltered/SA...</td>\n",
       "      <td>MD</td>\n",
       "    </tr>\n",
       "  </tbody>\n",
       "</table>\n",
       "<p>1325 rows × 3 columns</p>\n",
       "</div>"
      ],
      "text/plain": [
       "       patient                                             x_path phase\n",
       "0     02Z1L14N  /mnt/ssd/data/gcn/02_imported_4D_unfiltered/SA...    MS\n",
       "1     02Z1L14N  /mnt/ssd/data/gcn/02_imported_4D_unfiltered/SA...    ES\n",
       "2     02Z1L14N  /mnt/ssd/data/gcn/02_imported_4D_unfiltered/SA...    PF\n",
       "3     02Z1L14N  /mnt/ssd/data/gcn/02_imported_4D_unfiltered/SA...    MD\n",
       "4     02Z1L14N  /mnt/ssd/data/gcn/02_imported_4D_unfiltered/SA...    ED\n",
       "...        ...                                                ...   ...\n",
       "1320  ZZQ0001Q  /mnt/ssd/data/gcn/02_imported_4D_unfiltered/SA...    ED\n",
       "1321  ZZQ0001Q  /mnt/ssd/data/gcn/02_imported_4D_unfiltered/SA...    MS\n",
       "1322  ZZQ0001Q  /mnt/ssd/data/gcn/02_imported_4D_unfiltered/SA...    ES\n",
       "1323  ZZQ0001Q  /mnt/ssd/data/gcn/02_imported_4D_unfiltered/SA...    PF\n",
       "1324  ZZQ0001Q  /mnt/ssd/data/gcn/02_imported_4D_unfiltered/SA...    MD\n",
       "\n",
       "[1325 rows x 3 columns]"
      ]
     },
     "execution_count": 3,
     "metadata": {},
     "output_type": "execute_result"
    }
   ],
   "source": [
    "# check internally if there are two columns for the patient ID, the original row from the Excel-Sheet had errors\n",
    "print(df[['patient', 'PatientID']][df.PatientID != df.patient])\n",
    "# extract the files for all phases\n",
    "df_phases = df[['patient','x_path', 'phase']]\n",
    "df_phases"
   ]
  },
  {
   "cell_type": "code",
   "execution_count": 4,
   "metadata": {},
   "outputs": [],
   "source": [
    "# zip the phase files in the following structure:\n",
    "#[[patient1_phase1, patient1_phase2, patient1_phase3, patient1_phase4, patient1_phase5],[patient2_phase1...] ...]\n",
    "\n",
    "ed = df_phases[df_phases['phase'] == 'ED']['x_path']\n",
    "ms = df_phases[df_phases['phase'] == 'MS']['x_path']\n",
    "es = df_phases[df_phases['phase'] == 'ES']['x_path']\n",
    "pf = df_phases[df_phases['phase'] == 'PF']['x_path']\n",
    "md = df_phases[df_phases['phase'] == 'MD']['x_path']\n",
    "\n",
    "# zip the phase list into one list of lists/tuples\n",
    "inputs = list(zip(ed,ms,es,pf,md))\n",
    "outputs = list(zip(ms,es,pf,md,ed))"
   ]
  },
  {
   "cell_type": "code",
   "execution_count": 5,
   "metadata": {},
   "outputs": [
    {
     "name": "stderr",
     "output_type": "stream",
     "text": [
      "2021-04-27 17:21:31,650 INFO Create DataGenerator\n",
      "2021-04-27 17:21:31,655 INFO Datagenerator created with: \n",
      " shape: [30, 64, 64]\n",
      " spacing: [4, 4, 4]\n",
      " batchsize: 2\n",
      " Scaler: Standard\n",
      " Images: 265 \n",
      " Augment: True \n",
      " Thread workers: 2\n",
      "2021-04-27 17:21:31,656 INFO Data will be augmented (shift,scale and rotate) with albumentation\n",
      "2021-04-27 17:21:31,656 INFO Create DataGenerator\n",
      "2021-04-27 17:21:31,661 INFO Datagenerator created with: \n",
      " shape: [30, 64, 64]\n",
      " spacing: [4, 4, 4]\n",
      " batchsize: 2\n",
      " Scaler: Standard\n",
      " Images: 265 \n",
      " Augment: False \n",
      " Thread workers: 2\n",
      "2021-04-27 17:21:31,662 INFO No augmentation\n"
     ]
    }
   ],
   "source": [
    "# initialise a generator with these files\n",
    "# logging.getLogger().setLevel(logging.INFO)\n",
    "from src.data.Generators import MotionDataGenerator\n",
    "config['AUGMENT'] = True\n",
    "config['RESAMPLE'] = True\n",
    "batch_generator = MotionDataGenerator(inputs, outputs, config=config)\n",
    "val_config = config.copy()\n",
    "val_config['AUGMENT'] = False\n",
    "validation_generator = MotionDataGenerator(inputs, outputs , config=val_config)"
   ]
  },
  {
   "cell_type": "code",
   "execution_count": 6,
   "metadata": {},
   "outputs": [
    {
     "data": {
      "application/vnd.jupyter.widget-view+json": {
       "model_id": "728928ec50a54b25bdb82025a02d9a44",
       "version_major": 2,
       "version_minor": 0
      },
      "text/plain": [
       "interactive(children=(IntSlider(value=66, description='batch', max=132), IntSlider(value=0, description='im', …"
      ]
     },
     "metadata": {},
     "output_type": "display_data"
    }
   ],
   "source": [
    "# visualise one batch\n",
    "@interact_manual\n",
    "def select_image_in_batch(batch = (0,len(batch_generator), 1), im = (0,BATCHSIZE- 1, 1), slice_n=(1,11), save=False, filepath='data/temp/', filename='temp_x.npy'):\n",
    "    \n",
    "    import time\n",
    "    global inputs, outputs\n",
    "    t1 = time.time()\n",
    "    inputs, outputs = batch_generator.__getitem__(batch)\n",
    "    if type(inputs)==list:inputs, outputs = inputs[0], outputs[0]\n",
    "    logging.info('Preprocessing took: {:0.3f}'.format(time.time() - t1))\n",
    "    print(inputs.shape, outputs.shape)\n",
    "    print('selected batch : ' + str(batch))\n",
    "    \n",
    "    selected_input = inputs[im]\n",
    "    selected_output = outputs[im]\n",
    "    \n",
    "    list(map(lambda x: show_2D_or_3D(img=x[::slice_n], interpol='bilinear',dpi=100,f_size=(5,5)), selected_input))\n",
    "    plt.show()\n",
    "    info('-'*100)\n",
    "    #list(map(lambda x: show_2D_or_3D(img=x[::slice_n], interpol='bilinear',dpi=100,f_size=(5,5)), selected_output))\n",
    "    \n",
    "    \"\"\"\n",
    "        show_2D_or_3D(x[im], y[im], interpol='bilinear',dpi=100,f_size=(5,5))\n",
    "    plt.show()\n",
    "    \"\"\"\n",
    "    plt.hist(selected_input.flatten(), bins=np.linspace(0.1,1,20))\n",
    "    plt.show()\n",
    "    if save:\n",
    "        ensure_dir(filepath)\n",
    "        np.save(os.path.join(filepath, filename), x[im])\n",
    "        logging.info('saved to {}'.format(os.path.join(filepath, filename)))\n",
    "    \n",
    "\n"
   ]
  },
  {
   "cell_type": "code",
   "execution_count": 7,
   "metadata": {},
   "outputs": [
    {
     "name": "stdout",
     "output_type": "stream",
     "text": [
      "using tensorflow, need to monkey patch\n",
      "tf.python.backend.slice overwritten by monkey patch\n",
      "INFO:tensorflow:Using MirroredStrategy with devices ('/job:localhost/replica:0/task:0/device:GPU:0', '/job:localhost/replica:0/task:0/device:GPU:1')\n"
     ]
    },
    {
     "name": "stderr",
     "output_type": "stream",
     "text": [
      "2021-04-27 17:21:32,539 INFO Using MirroredStrategy with devices ('/job:localhost/replica:0/task:0/device:GPU:0', '/job:localhost/replica:0/task:0/device:GPU:1')\n"
     ]
    },
    {
     "name": "stdout",
     "output_type": "stream",
     "text": [
      "(None, 30, 64, 64, 1)\n",
      "(None, 30, 64, 64, 1)\n",
      "WARNING:tensorflow:From /home/sven/anaconda3/envs/dcmr/lib/python3.8/site-packages/tensorflow/python/util/deprecation.py:574: calling map_fn_v2 (from tensorflow.python.ops.map_fn) with dtype is deprecated and will be removed in a future version.\n",
      "Instructions for updating:\n",
      "Use fn_output_signature instead\n"
     ]
    },
    {
     "name": "stderr",
     "output_type": "stream",
     "text": [
      "2021-04-27 17:21:33,763 WARNING From /home/sven/anaconda3/envs/dcmr/lib/python3.8/site-packages/tensorflow/python/util/deprecation.py:574: calling map_fn_v2 (from tensorflow.python.ops.map_fn) with dtype is deprecated and will be removed in a future version.\n",
      "Instructions for updating:\n",
      "Use fn_output_signature instead\n"
     ]
    }
   ],
   "source": [
    "from src.models.Models import create_RegistrationModel\n",
    "\n",
    "import tensorflow\n",
    "\n",
    "if tensorflow.distribute.has_strategy():\n",
    "    strategy = tensorflow.distribute.get_strategy()\n",
    "else:\n",
    "    # distribute the training with the \"mirrored data\"-paradigm across multiple gpus if available, if not use gpu 0\n",
    "    strategy = tensorflow.distribute.MirroredStrategy(devices=config.get('GPUS', [\"/gpu:0\"]))\n",
    "with strategy.scope():\n",
    "    model = create_RegistrationModel(config=config)"
   ]
  },
  {
   "cell_type": "code",
   "execution_count": 8,
   "metadata": {},
   "outputs": [
    {
     "name": "stdout",
     "output_type": "stream",
     "text": [
      "Model: \"simpleregister\"\n",
      "__________________________________________________________________________________________________\n",
      "Layer (type)                    Output Shape         Param #     Connected to                     \n",
      "==================================================================================================\n",
      "input_1 (InputLayer)            [(None, 5, 30, 64, 6 0                                            \n",
      "__________________________________________________________________________________________________\n",
      "tf_op_layer_unstack (TensorFlow [(None, 30, 64, 64,  0           input_1[0][0]                    \n",
      "__________________________________________________________________________________________________\n",
      "unet (Functional)               (None, 30, 64, 64, 1 6471776     tf_op_layer_unstack[0][3]        \n",
      "                                                                 tf_op_layer_unstack[0][1]        \n",
      "                                                                 tf_op_layer_unstack[0][2]        \n",
      "                                                                 tf_op_layer_unstack[0][4]        \n",
      "                                                                 tf_op_layer_unstack[0][0]        \n",
      "__________________________________________________________________________________________________\n",
      "unet2flow (Conv3D)              (None, 30, 64, 64, 3 1299        unet[0][0]                       \n",
      "                                                                 unet[1][0]                       \n",
      "                                                                 unet[2][0]                       \n",
      "                                                                 unet[3][0]                       \n",
      "                                                                 unet[4][0]                       \n",
      "__________________________________________________________________________________________________\n",
      "deformable_layer (SpatialTransf (None, 30, 64, 64, 1 0           tf_op_layer_unstack[0][0]        \n",
      "                                                                 unet2flow[4][0]                  \n",
      "                                                                 tf_op_layer_unstack[0][1]        \n",
      "                                                                 unet2flow[1][0]                  \n",
      "                                                                 tf_op_layer_unstack[0][2]        \n",
      "                                                                 unet2flow[2][0]                  \n",
      "                                                                 tf_op_layer_unstack[0][3]        \n",
      "                                                                 unet2flow[0][0]                  \n",
      "                                                                 tf_op_layer_unstack[0][4]        \n",
      "                                                                 unet2flow[3][0]                  \n",
      "__________________________________________________________________________________________________\n",
      "tf_op_layer_stack (TensorFlowOp [(None, 5, 30, 64, 6 0           deformable_layer[0][0]           \n",
      "                                                                 deformable_layer[1][0]           \n",
      "                                                                 deformable_layer[2][0]           \n",
      "                                                                 deformable_layer[3][0]           \n",
      "                                                                 deformable_layer[4][0]           \n",
      "__________________________________________________________________________________________________\n",
      "tf_op_layer_stack_1 (TensorFlow [(None, 5, 30, 64, 6 0           unet2flow[4][0]                  \n",
      "                                                                 unet2flow[1][0]                  \n",
      "                                                                 unet2flow[2][0]                  \n",
      "                                                                 unet2flow[0][0]                  \n",
      "                                                                 unet2flow[3][0]                  \n",
      "==================================================================================================\n",
      "Total params: 6,473,075\n",
      "Trainable params: 6,473,075\n",
      "Non-trainable params: 0\n",
      "__________________________________________________________________________________________________\n"
     ]
    }
   ],
   "source": [
    "model.summary()"
   ]
  },
  {
   "cell_type": "code",
   "execution_count": 10,
   "metadata": {},
   "outputs": [],
   "source": [
    "import tensorflow\n",
    "from src.utils.Metrics import Grad, MSE_\n",
    "if 'strategy' in locals():\n",
    "    pass\n",
    "else:\n",
    "    # distribute the training with the \"mirrored data\"-paradigm across multiple gpus if available, if not use gpu 0\n",
    "    strategy = tensorflow.distribute.MirroredStrategy(devices=config.get('GPUS', [\"/gpu:0\"]))\n",
    "with strategy.scope():\n",
    "\n",
    "    losses = [MSE_(0.02).loss, Grad('l2').loss]\n",
    "    weights = [1,0.01]\n",
    "    model.compile(optimizer=tensorflow.keras.optimizers.Adam(lr=0.1), loss=losses, loss_weights=weights)"
   ]
  },
  {
   "cell_type": "code",
   "execution_count": 11,
   "metadata": {},
   "outputs": [
    {
     "name": "stdout",
     "output_type": "stream",
     "text": [
      "Epoch 1/2\n",
      "WARNING:tensorflow:From /home/sven/anaconda3/envs/dcmr/lib/python3.8/site-packages/tensorflow/python/data/ops/multi_device_iterator_ops.py:601: get_next_as_optional (from tensorflow.python.data.ops.iterator_ops) is deprecated and will be removed in a future version.\n",
      "Instructions for updating:\n",
      "Use `tf.data.Iterator.get_next_as_optional()` instead.\n"
     ]
    },
    {
     "name": "stderr",
     "output_type": "stream",
     "text": [
      "2021-04-27 17:22:00,174 WARNING From /home/sven/anaconda3/envs/dcmr/lib/python3.8/site-packages/tensorflow/python/data/ops/multi_device_iterator_ops.py:601: get_next_as_optional (from tensorflow.python.data.ops.iterator_ops) is deprecated and will be removed in a future version.\n",
      "Instructions for updating:\n",
      "Use `tf.data.Iterator.get_next_as_optional()` instead.\n"
     ]
    },
    {
     "name": "stdout",
     "output_type": "stream",
     "text": [
      "INFO:tensorflow:batch_all_reduce: 46 all-reduces with algorithm = nccl, num_packs = 1\n"
     ]
    },
    {
     "name": "stderr",
     "output_type": "stream",
     "text": [
      "2021-04-27 17:22:07,035 INFO batch_all_reduce: 46 all-reduces with algorithm = nccl, num_packs = 1\n"
     ]
    },
    {
     "name": "stdout",
     "output_type": "stream",
     "text": [
      "INFO:tensorflow:Reduce to /job:localhost/replica:0/task:0/device:CPU:0 then broadcast to ('/job:localhost/replica:0/task:0/device:CPU:0',).\n"
     ]
    },
    {
     "name": "stderr",
     "output_type": "stream",
     "text": [
      "2021-04-27 17:22:07,402 INFO Reduce to /job:localhost/replica:0/task:0/device:CPU:0 then broadcast to ('/job:localhost/replica:0/task:0/device:CPU:0',).\n"
     ]
    },
    {
     "name": "stdout",
     "output_type": "stream",
     "text": [
      "INFO:tensorflow:Reduce to /job:localhost/replica:0/task:0/device:CPU:0 then broadcast to ('/job:localhost/replica:0/task:0/device:CPU:0',).\n"
     ]
    },
    {
     "name": "stderr",
     "output_type": "stream",
     "text": [
      "2021-04-27 17:22:07,405 INFO Reduce to /job:localhost/replica:0/task:0/device:CPU:0 then broadcast to ('/job:localhost/replica:0/task:0/device:CPU:0',).\n"
     ]
    },
    {
     "name": "stdout",
     "output_type": "stream",
     "text": [
      "INFO:tensorflow:Reduce to /job:localhost/replica:0/task:0/device:CPU:0 then broadcast to ('/job:localhost/replica:0/task:0/device:CPU:0',).\n"
     ]
    },
    {
     "name": "stderr",
     "output_type": "stream",
     "text": [
      "2021-04-27 17:22:07,408 INFO Reduce to /job:localhost/replica:0/task:0/device:CPU:0 then broadcast to ('/job:localhost/replica:0/task:0/device:CPU:0',).\n"
     ]
    },
    {
     "name": "stdout",
     "output_type": "stream",
     "text": [
      "INFO:tensorflow:Reduce to /job:localhost/replica:0/task:0/device:CPU:0 then broadcast to ('/job:localhost/replica:0/task:0/device:CPU:0',).\n"
     ]
    },
    {
     "name": "stderr",
     "output_type": "stream",
     "text": [
      "2021-04-27 17:22:07,410 INFO Reduce to /job:localhost/replica:0/task:0/device:CPU:0 then broadcast to ('/job:localhost/replica:0/task:0/device:CPU:0',).\n"
     ]
    },
    {
     "name": "stdout",
     "output_type": "stream",
     "text": [
      "INFO:tensorflow:Reduce to /job:localhost/replica:0/task:0/device:CPU:0 then broadcast to ('/job:localhost/replica:0/task:0/device:CPU:0',).\n"
     ]
    },
    {
     "name": "stderr",
     "output_type": "stream",
     "text": [
      "2021-04-27 17:22:07,413 INFO Reduce to /job:localhost/replica:0/task:0/device:CPU:0 then broadcast to ('/job:localhost/replica:0/task:0/device:CPU:0',).\n"
     ]
    },
    {
     "name": "stdout",
     "output_type": "stream",
     "text": [
      "INFO:tensorflow:Reduce to /job:localhost/replica:0/task:0/device:CPU:0 then broadcast to ('/job:localhost/replica:0/task:0/device:CPU:0',).\n"
     ]
    },
    {
     "name": "stderr",
     "output_type": "stream",
     "text": [
      "2021-04-27 17:22:07,416 INFO Reduce to /job:localhost/replica:0/task:0/device:CPU:0 then broadcast to ('/job:localhost/replica:0/task:0/device:CPU:0',).\n"
     ]
    },
    {
     "name": "stdout",
     "output_type": "stream",
     "text": [
      "INFO:tensorflow:batch_all_reduce: 46 all-reduces with algorithm = nccl, num_packs = 1\n"
     ]
    },
    {
     "name": "stderr",
     "output_type": "stream",
     "text": [
      "2021-04-27 17:22:15,962 INFO batch_all_reduce: 46 all-reduces with algorithm = nccl, num_packs = 1\n"
     ]
    },
    {
     "name": "stdout",
     "output_type": "stream",
     "text": [
      "INFO:tensorflow:Reduce to /job:localhost/replica:0/task:0/device:CPU:0 then broadcast to ('/job:localhost/replica:0/task:0/device:CPU:0',).\n"
     ]
    },
    {
     "name": "stderr",
     "output_type": "stream",
     "text": [
      "2021-04-27 17:22:16,223 INFO Reduce to /job:localhost/replica:0/task:0/device:CPU:0 then broadcast to ('/job:localhost/replica:0/task:0/device:CPU:0',).\n"
     ]
    },
    {
     "name": "stdout",
     "output_type": "stream",
     "text": [
      "INFO:tensorflow:Reduce to /job:localhost/replica:0/task:0/device:CPU:0 then broadcast to ('/job:localhost/replica:0/task:0/device:CPU:0',).\n"
     ]
    },
    {
     "name": "stderr",
     "output_type": "stream",
     "text": [
      "2021-04-27 17:22:16,227 INFO Reduce to /job:localhost/replica:0/task:0/device:CPU:0 then broadcast to ('/job:localhost/replica:0/task:0/device:CPU:0',).\n"
     ]
    },
    {
     "name": "stdout",
     "output_type": "stream",
     "text": [
      "INFO:tensorflow:Reduce to /job:localhost/replica:0/task:0/device:CPU:0 then broadcast to ('/job:localhost/replica:0/task:0/device:CPU:0',).\n"
     ]
    },
    {
     "name": "stderr",
     "output_type": "stream",
     "text": [
      "2021-04-27 17:22:16,231 INFO Reduce to /job:localhost/replica:0/task:0/device:CPU:0 then broadcast to ('/job:localhost/replica:0/task:0/device:CPU:0',).\n"
     ]
    },
    {
     "name": "stdout",
     "output_type": "stream",
     "text": [
      "INFO:tensorflow:Reduce to /job:localhost/replica:0/task:0/device:CPU:0 then broadcast to ('/job:localhost/replica:0/task:0/device:CPU:0',).\n"
     ]
    },
    {
     "name": "stderr",
     "output_type": "stream",
     "text": [
      "2021-04-27 17:22:16,234 INFO Reduce to /job:localhost/replica:0/task:0/device:CPU:0 then broadcast to ('/job:localhost/replica:0/task:0/device:CPU:0',).\n"
     ]
    },
    {
     "name": "stdout",
     "output_type": "stream",
     "text": [
      "132/132 [==============================] - 66s 500ms/step - loss: nan - tf_op_layer_stack_loss: 2539.5530 - tf_op_layer_stack_1_loss: nan - val_loss: nan - val_tf_op_layer_stack_loss: 2528.4924 - val_tf_op_layer_stack_1_loss: nan\n",
      "Epoch 2/2\n",
      "132/132 [==============================] - 63s 475ms/step - loss: nan - tf_op_layer_stack_loss: 2535.9924 - tf_op_layer_stack_1_loss: nan - val_loss: nan - val_tf_op_layer_stack_loss: 2528.4016 - val_tf_op_layer_stack_1_loss: nan\n"
     ]
    }
   ],
   "source": [
    "results = model.fit(\n",
    "    x=batch_generator,\n",
    "    validation_data=validation_generator,\n",
    "    epochs=2,\n",
    "    #callbacks = get_callbacks(config, batch_generator,validation_generator),\n",
    "    initial_epoch=0,\n",
    "    max_queue_size=12,\n",
    "    use_multiprocessing=False,\n",
    "    verbose=1)"
   ]
  },
  {
   "cell_type": "code",
   "execution_count": 14,
   "metadata": {},
   "outputs": [],
   "source": [
    "pred = model.predict(x=batch_generator)"
   ]
  },
  {
   "cell_type": "code",
   "execution_count": 15,
   "metadata": {},
   "outputs": [
    {
     "name": "stdout",
     "output_type": "stream",
     "text": [
      "(264, 5, 30, 64, 64, 1)\n",
      "(264, 5, 30, 64, 64, 3)\n"
     ]
    }
   ],
   "source": [
    "transformed, flow = pred\n",
    "print(transformed.shape)\n",
    "print(flow.shape)"
   ]
  },
  {
   "cell_type": "code",
   "execution_count": 17,
   "metadata": {},
   "outputs": [
    {
     "data": {
      "image/png": "[encoded data removed]",
      "text/plain": [
       "<Figure size 1800x576 with 6 Axes>"
      ]
     },
     "metadata": {},
     "output_type": "display_data"
    },
    {
     "data": {
      "image/png": "[encoded data removed]",
      "text/plain": [
       "<Figure size 1800x576 with 6 Axes>"
      ]
     },
     "metadata": {},
     "output_type": "display_data"
    },
    {
     "data": {
      "image/png": "[encoded data removed]",
      "text/plain": [
       "<Figure size 1800x576 with 6 Axes>"
      ]
     },
     "metadata": {},
     "output_type": "display_data"
    },
    {
     "data": {
      "image/png": "[encoded data removed]",
      "text/plain": [
       "<Figure size 1800x576 with 6 Axes>"
      ]
     },
     "metadata": {},
     "output_type": "display_data"
    },
    {
     "data": {
      "image/png": "[encoded data removed]",
      "text/plain": [
       "<Figure size 1800x576 with 6 Axes>"
      ]
     },
     "metadata": {},
     "output_type": "display_data"
    }
   ],
   "source": [
    "temp = transformed[0]\n",
    "list(map(lambda x: show_2D_or_3D(img=x[::5], interpol='bilinear',dpi=100,f_size=(5,5)), temp))\n",
    "plt.show()"
   ]
  },
  {
   "cell_type": "code",
   "execution_count": null,
   "metadata": {},
   "outputs": [],
   "source": []
  }
 ],
 "metadata": {
  "kernelspec": {
   "display_name": "dcmr",
   "language": "python",
   "name": "dcmr"
  },
  "language_info": {
   "codemirror_mode": {
    "name": "ipython",
    "version": 3
   },
   "file_extension": ".py",
   "mimetype": "text/x-python",
   "name": "python",
   "nbconvert_exporter": "python",
   "pygments_lexer": "ipython3",
   "version": "3.8.5"
  },
  "widgets": {
   "application/vnd.jupyter.widget-state+json": {
    "state": {
     "01e628da35794f53908fe43251f7e3e7": {
      "model_module": "@jupyter-widgets/controls",
      "model_module_version": "1.5.0",
      "model_name": "ButtonStyleModel",
      "state": {}
     },
     "0460585f431042a7b6c49263a3cd85e0": {
      "model_module": "@jupyter-widgets/base",
      "model_module_version": "1.2.0",
      "model_name": "LayoutModel",
      "state": {}
     },
     "056c18535b27436fb431c3e88fe5e02c": {
      "model_module": "@jupyter-widgets/controls",
      "model_module_version": "1.5.0",
      "model_name": "ButtonStyleModel",
      "state": {}
     },
     "05f55a44f9a04aeda2c4873a784daead": {
      "model_module": "@jupyter-widgets/base",
      "model_module_version": "1.2.0",
      "model_name": "LayoutModel",
      "state": {}
     },
     "0921cd63576947119bc60188a08b3c29": {
      "model_module": "@jupyter-widgets/controls",
      "model_module_version": "1.5.0",
      "model_name": "IntSliderModel",
      "state": {
       "description": "slice_n",
       "layout": "IPY_MODEL_159439b3f1fc40deba00a38656264bfd",
       "max": 11,
       "min": 1,
       "style": "IPY_MODEL_e56102d7084d466bbb6b67cff813838d",
       "value": 6
      }
     },
     "0921fc1c51564881899adf0f259da1ee": {
      "model_module": "@jupyter-widgets/controls",
      "model_module_version": "1.5.0",
      "model_name": "DescriptionStyleModel",
      "state": {
       "description_width": ""
      }
     },
     "0c6c46d53e0b49fc9007d8e9d2b0b3b5": {
      "model_module": "@jupyter-widgets/base",
      "model_module_version": "1.2.0",
      "model_name": "LayoutModel",
      "state": {
       "width": "auto"
      }
     },
     "0cabb34abb9f49c98334ac398d55b1f8": {
      "model_module": "@jupyter-widgets/base",
      "model_module_version": "1.2.0",
      "model_name": "LayoutModel",
      "state": {}
     },
     "159439b3f1fc40deba00a38656264bfd": {
      "model_module": "@jupyter-widgets/base",
      "model_module_version": "1.2.0",
      "model_name": "LayoutModel",
      "state": {}
     },
     "19b6b46ee03649fc8e9468844ab209f3": {
      "model_module": "@jupyter-widgets/controls",
      "model_module_version": "1.5.0",
      "model_name": "DescriptionStyleModel",
      "state": {
       "description_width": ""
      }
     },
     "1d11f48ee7f14541a94ecd64b5cff564": {
      "model_module": "@jupyter-widgets/base",
      "model_module_version": "1.2.0",
      "model_name": "LayoutModel",
      "state": {}
     },
     "1dd5855c5ae04fef9527b961388f9c62": {
      "model_module": "@jupyter-widgets/base",
      "model_module_version": "1.2.0",
      "model_name": "LayoutModel",
      "state": {
       "display": "none"
      }
     },
     "2064ca6d20824a0d8000d757678116a6": {
      "model_module": "@jupyter-widgets/base",
      "model_module_version": "1.2.0",
      "model_name": "LayoutModel",
      "state": {}
     },
     "21498d313e9a4ec398756acd1027ea06": {
      "model_module": "@jupyter-widgets/controls",
      "model_module_version": "1.5.0",
      "model_name": "DescriptionStyleModel",
      "state": {
       "description_width": ""
      }
     },
     "2380eb66f3f44074841f14dd6e0b2fc0": {
      "model_module": "@jupyter-widgets/controls",
      "model_module_version": "1.5.0",
      "model_name": "HTMLModel",
      "state": {
       "layout": "IPY_MODEL_1dd5855c5ae04fef9527b961388f9c62",
       "style": "IPY_MODEL_19b6b46ee03649fc8e9468844ab209f3"
      }
     },
     "2395b34db37145fe828e51db94197bde": {
      "model_module": "@jupyter-widgets/base",
      "model_module_version": "1.2.0",
      "model_name": "LayoutModel",
      "state": {}
     },
     "291bf33a534f404c8e68fbdc6055a8aa": {
      "model_module": "@jupyter-widgets/controls",
      "model_module_version": "1.5.0",
      "model_name": "DescriptionStyleModel",
      "state": {
       "description_width": ""
      }
     },
     "3145726399d748449f7d1809238286ac": {
      "model_module": "@jupyter-widgets/base",
      "model_module_version": "1.2.0",
      "model_name": "LayoutModel",
      "state": {
       "width": "auto"
      }
     },
     "34fe144aa6f34fb18f94ec905bc5c7a6": {
      "model_module": "@jupyter-widgets/base",
      "model_module_version": "1.2.0",
      "model_name": "LayoutModel",
      "state": {
       "grid_area": "pathlist",
       "width": "auto"
      }
     },
     "3a531f2b6f274403bf100c1b2052af70": {
      "model_module": "@jupyter-widgets/controls",
      "model_module_version": "1.5.0",
      "model_name": "TextModel",
      "state": {
       "description": "filename",
       "layout": "IPY_MODEL_96158b17d3e44c7bb6cfa16e50fd2ab6",
       "style": "IPY_MODEL_0921fc1c51564881899adf0f259da1ee",
       "value": "temp_x.npy"
      }
     },
     "43d2714a086a48c4af3791d15708c135": {
      "model_module": "@jupyter-widgets/controls",
      "model_module_version": "1.5.0",
      "model_name": "ButtonModel",
      "state": {
       "description": "Select",
       "layout": "IPY_MODEL_0c6c46d53e0b49fc9007d8e9d2b0b3b5",
       "style": "IPY_MODEL_518afecde5354e8bb66b822dbf0349ee"
      }
     },
     "44d531bfcb65404d83b543abdf08d947": {
      "model_module": "@jupyter-widgets/controls",
      "model_module_version": "1.5.0",
      "model_name": "GridBoxModel",
      "state": {
       "children": [
        "IPY_MODEL_dd4883ae1a4e496182887d8f3bfb3561",
        "IPY_MODEL_869527d138a84ee480a42d33d5e7f167",
        "IPY_MODEL_6ed21f0f7d4242c69f3fdb53e86eb59f"
       ],
       "layout": "IPY_MODEL_d6df75e51a63434f8c72410435e34b8e"
      }
     },
     "499a631cb1014cb9abdc3ee8745f2461": {
      "model_module": "@jupyter-widgets/controls",
      "model_module_version": "1.5.0",
      "model_name": "ButtonModel",
      "state": {
       "description": "Run Interact",
       "layout": "IPY_MODEL_b16648c8ce234e828816f66a6b088e3c",
       "style": "IPY_MODEL_056c18535b27436fb431c3e88fe5e02c"
      }
     },
     "518afecde5354e8bb66b822dbf0349ee": {
      "model_module": "@jupyter-widgets/controls",
      "model_module_version": "1.5.0",
      "model_name": "ButtonStyleModel",
      "state": {}
     },
     "52ab5c18d3904dff904a33ab2b04e574": {
      "model_module": "@jupyter-widgets/controls",
      "model_module_version": "1.5.0",
      "model_name": "ButtonStyleModel",
      "state": {}
     },
     "579ace5ceb924879b31272291df3a10b": {
      "model_module": "@jupyter-widgets/controls",
      "model_module_version": "1.5.0",
      "model_name": "DescriptionStyleModel",
      "state": {
       "description_width": ""
      }
     },
     "5a0882208e114795b8e37dadc17b0791": {
      "model_module": "@jupyter-widgets/output",
      "model_module_version": "1.0.0",
      "model_name": "OutputModel",
      "state": {
       "layout": "IPY_MODEL_0cabb34abb9f49c98334ac398d55b1f8"
      }
     },
     "5cd8fa48a14b4cbe918370d5dd169088": {
      "model_module": "@jupyter-widgets/controls",
      "model_module_version": "1.5.0",
      "model_name": "HBoxModel",
      "state": {
       "children": [
        "IPY_MODEL_43d2714a086a48c4af3791d15708c135",
        "IPY_MODEL_b1e62045b0f6486dacd291bbefe724b6",
        "IPY_MODEL_c2fd6955af80468a929d38b796eca544"
       ],
       "layout": "IPY_MODEL_3145726399d748449f7d1809238286ac"
      }
     },
     "626acd77f01b490fba402250ac495cec": {
      "model_module": "@jupyter-widgets/controls",
      "model_module_version": "1.5.0",
      "model_name": "ButtonModel",
      "state": {
       "description": "Run Interact",
       "layout": "IPY_MODEL_2395b34db37145fe828e51db94197bde",
       "style": "IPY_MODEL_01e628da35794f53908fe43251f7e3e7"
      }
     },
     "6ed21f0f7d4242c69f3fdb53e86eb59f": {
      "model_module": "@jupyter-widgets/controls",
      "model_module_version": "1.5.0",
      "model_name": "SelectModel",
      "state": {
       "_options_labels": [
        "..",
        "SAX_2D",
        "SAX_3D",
        "SAX_4D",
        "lax",
        "sax",
        "sax_excluded_no_metadata",
        "sax_t_res_18",
        "SAx_3D_dicomTags",
        "SAx_3D_dicomTags_phase",
        "SAx_3D_dicomTags_phase_outcome_meta",
        "SAx_3D_dicomTags_phase_outcome_meta_bsa",
        "df_kfold.csv",
        "sax_4D_description.csv"
       ],
       "index": null,
       "layout": "IPY_MODEL_fc531ab4cda143f68e0b3e174b5a49d3",
       "rows": 8,
       "style": "IPY_MODEL_291bf33a534f404c8e68fbdc6055a8aa"
      }
     },
     "728928ec50a54b25bdb82025a02d9a44": {
      "model_module": "@jupyter-widgets/controls",
      "model_module_version": "1.5.0",
      "model_name": "VBoxModel",
      "state": {
       "_dom_classes": [
        "widget-interact"
       ],
       "children": [
        "IPY_MODEL_9d0ff782a0a540c192192bfa1c5ab428",
        "IPY_MODEL_e6ceec468ef54b8982b028c0d2b44fc6",
        "IPY_MODEL_0921cd63576947119bc60188a08b3c29",
        "IPY_MODEL_a9bd67ea7f114ecaa7aa89f1fce6cf8d",
        "IPY_MODEL_e9c4bfea809840588ba5b4a59a56d596",
        "IPY_MODEL_3a531f2b6f274403bf100c1b2052af70",
        "IPY_MODEL_499a631cb1014cb9abdc3ee8745f2461",
        "IPY_MODEL_5a0882208e114795b8e37dadc17b0791"
       ],
       "layout": "IPY_MODEL_8c5abad3198b4743b94f283dac20b90b"
      }
     },
     "7a0b05d871904b6199ac33614408ce8a": {
      "model_module": "@jupyter-widgets/base",
      "model_module_version": "1.2.0",
      "model_name": "LayoutModel",
      "state": {}
     },
     "82e0b02826b34e3fac95db57b45a5e8a": {
      "model_module": "@jupyter-widgets/base",
      "model_module_version": "1.2.0",
      "model_name": "LayoutModel",
      "state": {}
     },
     "869527d138a84ee480a42d33d5e7f167": {
      "model_module": "@jupyter-widgets/controls",
      "model_module_version": "1.5.0",
      "model_name": "TextModel",
      "state": {
       "layout": "IPY_MODEL_e2b8c8ec28e64eb0aebbab9718ce13fb",
       "placeholder": "output filename",
       "style": "IPY_MODEL_973e9b002d1b4ff680fb01b3bb3afe29"
      }
     },
     "8c5abad3198b4743b94f283dac20b90b": {
      "model_module": "@jupyter-widgets/base",
      "model_module_version": "1.2.0",
      "model_name": "LayoutModel",
      "state": {}
     },
     "8d987cb1af07473a9baf510f6f7ace71": {
      "model_module": "@jupyter-widgets/controls",
      "model_module_version": "1.5.0",
      "model_name": "SliderStyleModel",
      "state": {
       "description_width": ""
      }
     },
     "90b20e64fc7e4de8b9b441f29346a98a": {
      "model_module": "@jupyter-widgets/base",
      "model_module_version": "1.2.0",
      "model_name": "LayoutModel",
      "state": {
       "width": "auto"
      }
     },
     "96158b17d3e44c7bb6cfa16e50fd2ab6": {
      "model_module": "@jupyter-widgets/base",
      "model_module_version": "1.2.0",
      "model_name": "LayoutModel",
      "state": {}
     },
     "973e9b002d1b4ff680fb01b3bb3afe29": {
      "model_module": "@jupyter-widgets/controls",
      "model_module_version": "1.5.0",
      "model_name": "DescriptionStyleModel",
      "state": {
       "description_width": ""
      }
     },
     "9cc4b0c5e329405796502ae3ecd740ef": {
      "model_module": "@jupyter-widgets/controls",
      "model_module_version": "1.5.0",
      "model_name": "DescriptionStyleModel",
      "state": {
       "description_width": ""
      }
     },
     "9d0ff782a0a540c192192bfa1c5ab428": {
      "model_module": "@jupyter-widgets/controls",
      "model_module_version": "1.5.0",
      "model_name": "IntSliderModel",
      "state": {
       "description": "batch",
       "layout": "IPY_MODEL_7a0b05d871904b6199ac33614408ce8a",
       "max": 132,
       "style": "IPY_MODEL_8d987cb1af07473a9baf510f6f7ace71",
       "value": 66
      }
     },
     "a9bd67ea7f114ecaa7aa89f1fce6cf8d": {
      "model_module": "@jupyter-widgets/controls",
      "model_module_version": "1.5.0",
      "model_name": "CheckboxModel",
      "state": {
       "description": "save",
       "disabled": false,
       "layout": "IPY_MODEL_82e0b02826b34e3fac95db57b45a5e8a",
       "style": "IPY_MODEL_579ace5ceb924879b31272291df3a10b",
       "value": false
      }
     },
     "b16648c8ce234e828816f66a6b088e3c": {
      "model_module": "@jupyter-widgets/base",
      "model_module_version": "1.2.0",
      "model_name": "LayoutModel",
      "state": {}
     },
     "b1e62045b0f6486dacd291bbefe724b6": {
      "model_module": "@jupyter-widgets/controls",
      "model_module_version": "1.5.0",
      "model_name": "ButtonModel",
      "state": {
       "description": "Cancel",
       "layout": "IPY_MODEL_df1ac7defe4e46f9bb0a14f3fb96e69b",
       "style": "IPY_MODEL_52ab5c18d3904dff904a33ab2b04e574"
      }
     },
     "b6e93fd891e648d0873f75dd5575aafc": {
      "model_module": "@jupyter-widgets/output",
      "model_module_version": "1.0.0",
      "model_name": "OutputModel",
      "state": {
       "layout": "IPY_MODEL_e6b03e32f805491aa7a210e3c47f9f28"
      }
     },
     "c2fd6955af80468a929d38b796eca544": {
      "model_module": "@jupyter-widgets/controls",
      "model_module_version": "1.5.0",
      "model_name": "HTMLModel",
      "state": {
       "layout": "IPY_MODEL_1d11f48ee7f14541a94ecd64b5cff564",
       "placeholder": "",
       "style": "IPY_MODEL_def904e7601b4cf09bc09fc5d14b6afa",
       "value": "<span style=\"margin-left:10px; color:black;\">No file selected</span>"
      }
     },
     "d1f45e6ece38471ebeac29856dd61ab6": {
      "model_module": "@jupyter-widgets/controls",
      "model_module_version": "1.5.0",
      "model_name": "VBoxModel",
      "state": {
       "_dom_classes": [
        "widget-interact"
       ],
       "children": [
        "IPY_MODEL_626acd77f01b490fba402250ac495cec",
        "IPY_MODEL_b6e93fd891e648d0873f75dd5575aafc"
       ],
       "layout": "IPY_MODEL_2064ca6d20824a0d8000d757678116a6"
      }
     },
     "d3fb319587cf4170970c1ac9b7ce3d53": {
      "model_module": "@jupyter-widgets/controls",
      "model_module_version": "1.5.0",
      "model_name": "SliderStyleModel",
      "state": {
       "description_width": ""
      }
     },
     "d6df75e51a63434f8c72410435e34b8e": {
      "model_module": "@jupyter-widgets/base",
      "model_module_version": "1.2.0",
      "model_name": "LayoutModel",
      "state": {
       "display": "none",
       "grid_gap": "0px 0px",
       "grid_template_areas": "\n                    'pathlist filename'\n                    'dircontent dircontent'\n                    ",
       "grid_template_columns": "60% 40%",
       "grid_template_rows": "auto auto",
       "width": "500px"
      }
     },
     "dd4883ae1a4e496182887d8f3bfb3561": {
      "model_module": "@jupyter-widgets/controls",
      "model_module_version": "1.5.0",
      "model_name": "DropdownModel",
      "state": {
       "_options_labels": [
        "/mnt/ssd/data/gcn/02_imported_4D_unfiltered",
        "/mnt/ssd/data/gcn",
        "/mnt/ssd/data",
        "/mnt/ssd",
        "/mnt",
        "/"
       ],
       "index": 0,
       "layout": "IPY_MODEL_34fe144aa6f34fb18f94ec905bc5c7a6",
       "style": "IPY_MODEL_21498d313e9a4ec398756acd1027ea06"
      }
     },
     "def904e7601b4cf09bc09fc5d14b6afa": {
      "model_module": "@jupyter-widgets/controls",
      "model_module_version": "1.5.0",
      "model_name": "DescriptionStyleModel",
      "state": {
       "description_width": ""
      }
     },
     "df1ac7defe4e46f9bb0a14f3fb96e69b": {
      "model_module": "@jupyter-widgets/base",
      "model_module_version": "1.2.0",
      "model_name": "LayoutModel",
      "state": {
       "display": "none",
       "width": "auto"
      }
     },
     "e2b8c8ec28e64eb0aebbab9718ce13fb": {
      "model_module": "@jupyter-widgets/base",
      "model_module_version": "1.2.0",
      "model_name": "LayoutModel",
      "state": {
       "grid_area": "filename",
       "width": "auto"
      }
     },
     "e56102d7084d466bbb6b67cff813838d": {
      "model_module": "@jupyter-widgets/controls",
      "model_module_version": "1.5.0",
      "model_name": "SliderStyleModel",
      "state": {
       "description_width": ""
      }
     },
     "e6b03e32f805491aa7a210e3c47f9f28": {
      "model_module": "@jupyter-widgets/base",
      "model_module_version": "1.2.0",
      "model_name": "LayoutModel",
      "state": {}
     },
     "e6ceec468ef54b8982b028c0d2b44fc6": {
      "model_module": "@jupyter-widgets/controls",
      "model_module_version": "1.5.0",
      "model_name": "IntSliderModel",
      "state": {
       "description": "im",
       "layout": "IPY_MODEL_05f55a44f9a04aeda2c4873a784daead",
       "max": 1,
       "style": "IPY_MODEL_d3fb319587cf4170970c1ac9b7ce3d53"
      }
     },
     "e9c4bfea809840588ba5b4a59a56d596": {
      "model_module": "@jupyter-widgets/controls",
      "model_module_version": "1.5.0",
      "model_name": "TextModel",
      "state": {
       "description": "filepath",
       "layout": "IPY_MODEL_0460585f431042a7b6c49263a3cd85e0",
       "style": "IPY_MODEL_9cc4b0c5e329405796502ae3ecd740ef",
       "value": "data/temp/"
      }
     },
     "f5e22c94dbca48ebb22087e1fc8b9471": {
      "model_module": "@jupyter-widgets/controls",
      "model_module_version": "1.5.0",
      "model_name": "VBoxModel",
      "state": {
       "children": [
        "IPY_MODEL_2380eb66f3f44074841f14dd6e0b2fc0",
        "IPY_MODEL_44d531bfcb65404d83b543abdf08d947",
        "IPY_MODEL_5cd8fa48a14b4cbe918370d5dd169088"
       ],
       "layout": "IPY_MODEL_90b20e64fc7e4de8b9b441f29346a98a"
      }
     },
     "fc531ab4cda143f68e0b3e174b5a49d3": {
      "model_module": "@jupyter-widgets/base",
      "model_module_version": "1.2.0",
      "model_name": "LayoutModel",
      "state": {
       "grid_area": "dircontent",
       "width": "auto"
      }
     }
    },
    "version_major": 2,
    "version_minor": 0
   }
  }
 },
 "nbformat": 4,
 "nbformat_minor": 4
}
