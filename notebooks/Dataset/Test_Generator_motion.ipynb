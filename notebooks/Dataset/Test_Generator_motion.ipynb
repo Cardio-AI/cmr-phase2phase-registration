{
 "cells": [
  {
   "cell_type": "code",
   "execution_count": 1,
   "metadata": {},
   "outputs": [
    {
     "name": "stdout",
     "output_type": "stream",
     "text": [
      "search for root_dir and set working directory\n",
      "Working directory set to: /mnt/ssd/git/dynamic-cmr-models\n"
     ]
    },
    {
     "name": "stderr",
     "output_type": "stream",
     "text": [
      "2021-02-08 19:37:08,628 INFO -------------------- Start --------------------\n",
      "2021-02-08 19:37:08,629 INFO Working directory: /mnt/ssd/git/dynamic-cmr-models.\n",
      "2021-02-08 19:37:08,629 INFO Log file: ./logs/temp/MotionGenerator-tests.log\n",
      "2021-02-08 19:37:08,629 INFO Log level for console: INFO\n"
     ]
    },
    {
     "name": "stdout",
     "output_type": "stream",
     "text": [
      "{'SEED': 42, 'EXPERIMENT': 'temp/MotionGenerator-tests', 'BATCHSIZE': 1, 'GENERATOR_WORKER': 1, 'DIM': [60, 192, 192], 'SPACING': [2, 2, 2], 'MASK_VALUES': [1, 2, 3], 'MASK_CLASSES': 3, 'MASKING_IMAGE': True, 'MASKING_VALUES': [2], 'BORDER_MODE': 4, 'IMG_INTERPOLATION': 1, 'MSK_INTERPOLATION': 0, 'AUGMENT': True, 'AUGMENT_PROB': 1, 'SHUFFLE': True, 'RESAMPLE': True, 'SCALER': 'Standard', 'CONFIG_PATH': 'reports/config/temp/MotionGenerator-tests', 'TENSORBOARD_LOG_DIR': 'reports/tensorboard_logs/temp/MotionGenerator-tests', 'MODEL_PATH': 'models/temp/MotionGenerator-tests', 'HISTORY_PATH': 'reports/history/temp/MotionGenerator-tests'}\n"
     ]
    }
   ],
   "source": [
    "# ------------------------------------------define logging and working directory\n",
    "from ProjectRoot import change_wd_to_project_root\n",
    "change_wd_to_project_root()\n",
    "\n",
    "# this should import glob, os, and many other standard libs\n",
    "from src.utils.Notebook_imports import *\n",
    "\n",
    "# local imports\n",
    "from src.utils.Utils_io import Console_and_file_logger, init_config\n",
    "from src.visualization.Visualize import show_2D_or_3D\n",
    "\n",
    "# import external libs\n",
    "import cv2\n",
    "import pandas as pd\n",
    "\n",
    "EXPERIMENT = 'temp/MotionGenerator-tests'\n",
    "\n",
    "# ------------------------------------------generator hyperparameters\n",
    "SEED = 42 # define a seed for the generator shuffle\n",
    "BATCHSIZE = 1 # 32, 64, 24, 16, 1 for 3D use: 4\n",
    "GENERATOR_WORKER = BATCHSIZE # if not set, use batchsize\n",
    "DIM = [60, 192, 192] # network input params for spacing of 3, (z,y,x)\n",
    "SPACING = [2, 2, 2] # if resample, resample to this spacing, (z,y,x)\n",
    "# maybe we can drop this channel?\n",
    "#IMG_CHANNELS = 1 # Currently our model needs that image channel\n",
    "MASK_VALUES = [1, 2, 3]  #channel order: Background, RV, MYO, LV\n",
    "MASK_CLASSES = len(MASK_VALUES) # no of labels\n",
    "MASKING_IMAGE = True\n",
    "MASKING_VALUES = [2]\n",
    "BORDER_MODE = cv2.BORDER_REFLECT_101 # border mode for the data generation\n",
    "IMG_INTERPOLATION = cv2.INTER_LINEAR # image interpolation in the genarator\n",
    "MSK_INTERPOLATION = cv2.INTER_NEAREST # mask interpolation in the generator\n",
    "AUGMENT = True # a compose of 2D augmentation (grid distortion, 90degree rotation, brightness and shift)\n",
    "AUGMENT_PROB = 1\n",
    "SHUFFLE = True\n",
    "RESAMPLE = True\n",
    "SCALER = 'Standard' # MinMax Standard or Robust\n",
    "\n",
    "Console_and_file_logger(EXPERIMENT, logging.INFO)\n",
    "config = init_config(config=locals(), save=True)\n",
    "print(config)"
   ]
  },
  {
   "cell_type": "code",
   "execution_count": 2,
   "metadata": {},
   "outputs": [
    {
     "data": {
      "application/vnd.jupyter.widget-view+json": {
       "model_id": "f13b2f8c10d24af087bdae90ab6818d2",
       "version_major": 2,
       "version_minor": 0
      },
      "text/plain": [
       "FileChooser(path='/mnt/ssd/data/gcn/02_imported_4D_unfiltered', filename='', title='HTML(value='', layout=Layo…"
      ]
     },
     "metadata": {},
     "output_type": "display_data"
    },
    {
     "data": {
      "application/vnd.jupyter.widget-view+json": {
       "model_id": "421a0cd0034f4f999a65a36091145ecc",
       "version_major": 2,
       "version_minor": 0
      },
      "text/plain": [
       "interactive(children=(Button(description='Run Interact', style=ButtonStyle()), Output()), _dom_classes=('widge…"
      ]
     },
     "metadata": {},
     "output_type": "display_data"
    }
   ],
   "source": [
    "######################################\n",
    "# for fast tests, no choice\n",
    "path_to_df = '/mnt/ssd/data/gcn/02_imported_4D_unfiltered/SAx_3D_dicomTags_phase_outcome_meta_bsa'\n",
    "df = pd.read_csv(path_to_df)\n",
    "df['phase'] = pd.Categorical(df.phase, \n",
    "                      categories=['ED','MS','ES','PF','MD'],\n",
    "                      ordered=True)\n",
    "#print(df.info())\n",
    "#######################################\n",
    "\n",
    "# load the dataframe\n",
    "from ipyfilechooser import FileChooser\n",
    "df_chooser = FileChooser('/mnt/ssd/data/gcn/02_imported_4D_unfiltered/')\n",
    "display(df_chooser)\n",
    "@interact_manual\n",
    "def load_df():\n",
    "    global df\n",
    "    if df_chooser.selected is not None:\n",
    "        path_to_df  = df_chooser.selected\n",
    "        df = pd.read_csv(path_to_df)\n",
    "        df['phase'] = pd.Categorical(df.phase, \n",
    "                              categories=['ED','MS','ES','PF','MD'],\n",
    "                              ordered=True)\n",
    "        #print(df.describe())\n",
    "        print(df.info())"
   ]
  },
  {
   "cell_type": "code",
   "execution_count": 3,
   "metadata": {},
   "outputs": [
    {
     "name": "stdout",
     "output_type": "stream",
     "text": [
      "      patient PatientID\n",
      "5    04NEJQUZ  04NEJQU7\n",
      "6    04NEJQUZ  04NEJQU7\n",
      "7    04NEJQUZ  04NEJQU7\n",
      "8    04NEJQUZ  04NEJQU7\n",
      "9    04NEJQUZ  04NEJQU7\n",
      "640  GZH20326  6ZH20326\n",
      "641  GZH20326  6ZH20326\n",
      "642  GZH20326  6ZH20326\n",
      "643  GZH20326  6ZH20326\n",
      "644  GZH20326  6ZH20326\n",
      "890  PEXM9GEK  PEXM9GE \n",
      "891  PEXM9GEK  PEXM9GE \n",
      "892  PEXM9GEK  PEXM9GE \n",
      "893  PEXM9GEK  PEXM9GE \n",
      "894  PEXM9GEK  PEXM9GE \n"
     ]
    },
    {
     "data": {
      "text/html": [
       "<div>\n",
       "<style scoped>\n",
       "    .dataframe tbody tr th:only-of-type {\n",
       "        vertical-align: middle;\n",
       "    }\n",
       "\n",
       "    .dataframe tbody tr th {\n",
       "        vertical-align: top;\n",
       "    }\n",
       "\n",
       "    .dataframe thead th {\n",
       "        text-align: right;\n",
       "    }\n",
       "</style>\n",
       "<table border=\"1\" class=\"dataframe\">\n",
       "  <thead>\n",
       "    <tr style=\"text-align: right;\">\n",
       "      <th></th>\n",
       "      <th>patient</th>\n",
       "      <th>x_path</th>\n",
       "      <th>phase</th>\n",
       "    </tr>\n",
       "  </thead>\n",
       "  <tbody>\n",
       "    <tr>\n",
       "      <th>0</th>\n",
       "      <td>02Z1L14N</td>\n",
       "      <td>/mnt/ssd/data/gcn/02_imported_4D_unfiltered/SA...</td>\n",
       "      <td>MS</td>\n",
       "    </tr>\n",
       "    <tr>\n",
       "      <th>1</th>\n",
       "      <td>02Z1L14N</td>\n",
       "      <td>/mnt/ssd/data/gcn/02_imported_4D_unfiltered/SA...</td>\n",
       "      <td>ES</td>\n",
       "    </tr>\n",
       "    <tr>\n",
       "      <th>2</th>\n",
       "      <td>02Z1L14N</td>\n",
       "      <td>/mnt/ssd/data/gcn/02_imported_4D_unfiltered/SA...</td>\n",
       "      <td>PF</td>\n",
       "    </tr>\n",
       "    <tr>\n",
       "      <th>3</th>\n",
       "      <td>02Z1L14N</td>\n",
       "      <td>/mnt/ssd/data/gcn/02_imported_4D_unfiltered/SA...</td>\n",
       "      <td>MD</td>\n",
       "    </tr>\n",
       "    <tr>\n",
       "      <th>4</th>\n",
       "      <td>02Z1L14N</td>\n",
       "      <td>/mnt/ssd/data/gcn/02_imported_4D_unfiltered/SA...</td>\n",
       "      <td>ED</td>\n",
       "    </tr>\n",
       "    <tr>\n",
       "      <th>...</th>\n",
       "      <td>...</td>\n",
       "      <td>...</td>\n",
       "      <td>...</td>\n",
       "    </tr>\n",
       "    <tr>\n",
       "      <th>1320</th>\n",
       "      <td>ZZQ0001Q</td>\n",
       "      <td>/mnt/ssd/data/gcn/02_imported_4D_unfiltered/SA...</td>\n",
       "      <td>ED</td>\n",
       "    </tr>\n",
       "    <tr>\n",
       "      <th>1321</th>\n",
       "      <td>ZZQ0001Q</td>\n",
       "      <td>/mnt/ssd/data/gcn/02_imported_4D_unfiltered/SA...</td>\n",
       "      <td>MS</td>\n",
       "    </tr>\n",
       "    <tr>\n",
       "      <th>1322</th>\n",
       "      <td>ZZQ0001Q</td>\n",
       "      <td>/mnt/ssd/data/gcn/02_imported_4D_unfiltered/SA...</td>\n",
       "      <td>ES</td>\n",
       "    </tr>\n",
       "    <tr>\n",
       "      <th>1323</th>\n",
       "      <td>ZZQ0001Q</td>\n",
       "      <td>/mnt/ssd/data/gcn/02_imported_4D_unfiltered/SA...</td>\n",
       "      <td>PF</td>\n",
       "    </tr>\n",
       "    <tr>\n",
       "      <th>1324</th>\n",
       "      <td>ZZQ0001Q</td>\n",
       "      <td>/mnt/ssd/data/gcn/02_imported_4D_unfiltered/SA...</td>\n",
       "      <td>MD</td>\n",
       "    </tr>\n",
       "  </tbody>\n",
       "</table>\n",
       "<p>1325 rows × 3 columns</p>\n",
       "</div>"
      ],
      "text/plain": [
       "       patient                                             x_path phase\n",
       "0     02Z1L14N  /mnt/ssd/data/gcn/02_imported_4D_unfiltered/SA...    MS\n",
       "1     02Z1L14N  /mnt/ssd/data/gcn/02_imported_4D_unfiltered/SA...    ES\n",
       "2     02Z1L14N  /mnt/ssd/data/gcn/02_imported_4D_unfiltered/SA...    PF\n",
       "3     02Z1L14N  /mnt/ssd/data/gcn/02_imported_4D_unfiltered/SA...    MD\n",
       "4     02Z1L14N  /mnt/ssd/data/gcn/02_imported_4D_unfiltered/SA...    ED\n",
       "...        ...                                                ...   ...\n",
       "1320  ZZQ0001Q  /mnt/ssd/data/gcn/02_imported_4D_unfiltered/SA...    ED\n",
       "1321  ZZQ0001Q  /mnt/ssd/data/gcn/02_imported_4D_unfiltered/SA...    MS\n",
       "1322  ZZQ0001Q  /mnt/ssd/data/gcn/02_imported_4D_unfiltered/SA...    ES\n",
       "1323  ZZQ0001Q  /mnt/ssd/data/gcn/02_imported_4D_unfiltered/SA...    PF\n",
       "1324  ZZQ0001Q  /mnt/ssd/data/gcn/02_imported_4D_unfiltered/SA...    MD\n",
       "\n",
       "[1325 rows x 3 columns]"
      ]
     },
     "execution_count": 3,
     "metadata": {},
     "output_type": "execute_result"
    }
   ],
   "source": [
    "# check internally if there are two columns for the patient ID, the original row from the Excel-Sheet had errors\n",
    "print(df[['patient', 'PatientID']][df.PatientID != df.patient])\n",
    "# extract the files for all phases\n",
    "df_phases = df[['patient','x_path', 'phase']]\n",
    "df_phases"
   ]
  },
  {
   "cell_type": "code",
   "execution_count": 4,
   "metadata": {},
   "outputs": [],
   "source": [
    "# zip the phase files in the following structure:\n",
    "#[[patient1_phase1, patient1_phase2, patient1_phase3, patient1_phase4, patient1_phase5],[patient2_phase1...] ...]\n",
    "\n",
    "ed = df_phases[df_phases['phase'] == 'ED']['x_path']\n",
    "ms = df_phases[df_phases['phase'] == 'MS']['x_path']\n",
    "es = df_phases[df_phases['phase'] == 'ES']['x_path']\n",
    "pf = df_phases[df_phases['phase'] == 'PF']['x_path']\n",
    "md = df_phases[df_phases['phase'] == 'MD']['x_path']\n",
    "\n",
    "# zip the phase liss into one list of lists/tuples\n",
    "inputs = list(zip(ed,ms,es,pf,md))\n",
    "outputs = list(zip(ms,es,pf,md,ed))"
   ]
  },
  {
   "cell_type": "code",
   "execution_count": 5,
   "metadata": {},
   "outputs": [
    {
     "name": "stderr",
     "output_type": "stream",
     "text": [
      "2021-02-08 19:37:10,133 INFO Create DataGenerator\n",
      "2021-02-08 19:37:10,138 INFO Datagenerator created with: \n",
      " shape: [60, 192, 192]\n",
      " spacing: [2, 2, 2]\n",
      " batchsize: 1\n",
      " Scaler: Standard\n",
      " Images: 265 \n",
      " Augment: True \n",
      " Thread workers: 1\n",
      "2021-02-08 19:37:10,139 INFO Data will be augmented (shift,scale and rotate) with albumentation\n",
      "2021-02-08 19:37:10,139 INFO Create DataGenerator\n",
      "2021-02-08 19:37:10,144 INFO Datagenerator created with: \n",
      " shape: [60, 192, 192]\n",
      " spacing: [2, 2, 2]\n",
      " batchsize: 1\n",
      " Scaler: Standard\n",
      " Images: 265 \n",
      " Augment: False \n",
      " Thread workers: 1\n",
      "2021-02-08 19:37:10,145 INFO No augmentation\n"
     ]
    }
   ],
   "source": [
    "# initialise a generator with these files\n",
    "# logging.getLogger().setLevel(logging.INFO)\n",
    "from src.data.Generators import MotionDataGenerator\n",
    "config['AUGMENT'] = True\n",
    "config['RESAMPLE'] = True\n",
    "batch_generator = MotionDataGenerator(inputs, outputs, config=config)\n",
    "val_config = config.copy()\n",
    "val_config['AUGMENT'] = False\n",
    "validation_generator = MotionDataGenerator(inputs, outputs , config=val_config)"
   ]
  },
  {
   "cell_type": "code",
   "execution_count": 16,
   "metadata": {},
   "outputs": [
    {
     "data": {
      "application/vnd.jupyter.widget-view+json": {
       "model_id": "60c023758fc545199917338a428d9fcb",
       "version_major": 2,
       "version_minor": 0
      },
      "text/plain": [
       "interactive(children=(IntSlider(value=132, description='batch', max=265), IntSlider(value=0, description='im',…"
      ]
     },
     "metadata": {},
     "output_type": "display_data"
    }
   ],
   "source": [
    "# visualise one batch\n",
    "@interact_manual\n",
    "def select_image_in_batch(batch = (0,len(batch_generator), 1), im = (0,BATCHSIZE- 1, 1), slice_n=(1,11), save=False, filepath='data/temp/', filename='temp_x.npy'):\n",
    "    \n",
    "    import time\n",
    "    global inputs, outputs\n",
    "    t1 = time.time()\n",
    "    inputs, outputs = batch_generator.__getitem__(batch)\n",
    "    logging.info('Preprocessing took: {:0.3f}'.format(time.time() - t1))\n",
    "    print(inputs.shape, outputs.shape)\n",
    "    print('selected batch : ' + str(batch))\n",
    "    \n",
    "    selected_input = inputs[im]\n",
    "    selected_output = outputs[im]\n",
    "    \n",
    "    list(map(lambda x: show_2D_or_3D(img=x[::slice_n], interpol='bilinear',dpi=100,f_size=(5,5)), selected_input))\n",
    "    plt.show()\n",
    "    info('-'*100)\n",
    "    #list(map(lambda x: show_2D_or_3D(img=x[::slice_n], interpol='bilinear',dpi=100,f_size=(5,5)), selected_output))\n",
    "    \n",
    "    \"\"\"\n",
    "        show_2D_or_3D(x[im], y[im], interpol='bilinear',dpi=100,f_size=(5,5))\n",
    "    plt.show()\n",
    "    \"\"\"\n",
    "    plt.hist(selected_input.flatten(), bins=np.linspace(0.1,1,20))\n",
    "    plt.show()\n",
    "    if save:\n",
    "        ensure_dir(filepath)\n",
    "        np.save(os.path.join(filepath, filename), x[im])\n",
    "        logging.info('saved to {}'.format(os.path.join(filepath, filename)))\n",
    "    \n",
    "\n"
   ]
  },
  {
   "cell_type": "code",
   "execution_count": 9,
   "metadata": {},
   "outputs": [
    {
     "name": "stdout",
     "output_type": "stream",
     "text": [
      "(200, 200, 200)\n"
     ]
    }
   ],
   "source": [
    "temp = np.random.rand(200,200,200)\n",
    "print(temp.shape)"
   ]
  },
  {
   "cell_type": "code",
   "execution_count": 15,
   "metadata": {},
   "outputs": [
    {
     "name": "stdout",
     "output_type": "stream",
     "text": [
      "2.65 ms ± 18.4 µs per loop (mean ± std. dev. of 7 runs, 100 loops each)\n"
     ]
    }
   ],
   "source": [
    "%%timeit\n",
    "temp.mean()"
   ]
  },
  {
   "cell_type": "code",
   "execution_count": 14,
   "metadata": {},
   "outputs": [
    {
     "name": "stdout",
     "output_type": "stream",
     "text": [
      "2.69 ms ± 27.1 µs per loop (mean ± std. dev. of 7 runs, 100 loops each)\n"
     ]
    }
   ],
   "source": [
    "%%timeit\n",
    "np.mean(temp)"
   ]
  },
  {
   "cell_type": "code",
   "execution_count": 7,
   "metadata": {},
   "outputs": [
    {
     "data": {
      "text/plain": [
       "array([-1.        , -0.77777778, -0.55555556, -0.33333333, -0.11111111,\n",
       "        0.11111111,  0.33333333,  0.55555556,  0.77777778,  1.        ])"
      ]
     },
     "execution_count": 7,
     "metadata": {},
     "output_type": "execute_result"
    }
   ],
   "source": [
    "np.linspace(-1,1,10)"
   ]
  },
  {
   "cell_type": "code",
   "execution_count": null,
   "metadata": {},
   "outputs": [],
   "source": []
  }
 ],
 "metadata": {
  "kernelspec": {
   "display_name": "dcmr",
   "language": "python",
   "name": "dcmr"
  },
  "language_info": {
   "codemirror_mode": {
    "name": "ipython",
    "version": 3
   },
   "file_extension": ".py",
   "mimetype": "text/x-python",
   "name": "python",
   "nbconvert_exporter": "python",
   "pygments_lexer": "ipython3",
   "version": "3.8.5"
  },
  "widgets": {
   "application/vnd.jupyter.widget-state+json": {
    "state": {},
    "version_major": 2,
    "version_minor": 0
   }
  }
 },
 "nbformat": 4,
 "nbformat_minor": 4
}
