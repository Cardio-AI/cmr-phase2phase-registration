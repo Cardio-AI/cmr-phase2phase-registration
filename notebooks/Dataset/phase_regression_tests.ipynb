{
 "cells": [
  {
   "cell_type": "code",
   "execution_count": 1,
   "metadata": {},
   "outputs": [
    {
     "name": "stdout",
     "output_type": "stream",
     "text": [
      "search for root_dir and set working directory\n",
      "Working directory set to: /mnt/ssd/git/dynamic-cmr-models\n",
      "['/gpu:0', '/gpu:1']\n"
     ]
    },
    {
     "name": "stderr",
     "output_type": "stream",
     "text": [
      "DEBUG:root:Creating directory /mnt/ssd/git/dynamic-cmr-models/logs/temp_conv1_NOmask_smooth02_NOtransp\n",
      "2021-03-01 12:46:55,598 INFO -------------------- Start --------------------\n",
      "2021-03-01 12:46:55,599 INFO Working directory: /mnt/ssd/git/dynamic-cmr-models.\n",
      "2021-03-01 12:46:55,599 INFO Log file: ./logs/temp_conv1_NOmask_smooth02_NOtransp/8_64_64__8_3_3_tenc32_bndrop_conv1_CCE_smooth02_augNO_tempaugNO_batchsize8_f0.log\n",
      "2021-03-01 12:46:55,599 INFO Log level for console: INFO\n",
      "2021-03-01 12:46:55,600 INFO Is built with tensorflow: True\n",
      "2021-03-01 12:46:55,695 INFO Visible devices:\n",
      "[PhysicalDevice(name='/physical_device:CPU:0', device_type='CPU'), PhysicalDevice(name='/physical_device:XLA_CPU:0', device_type='XLA_CPU'), PhysicalDevice(name='/physical_device:XLA_GPU:0', device_type='XLA_GPU'), PhysicalDevice(name='/physical_device:XLA_GPU:1', device_type='XLA_GPU'), PhysicalDevice(name='/physical_device:GPU:0', device_type='GPU'), PhysicalDevice(name='/physical_device:GPU:1', device_type='GPU')]\n",
      "2021-03-01 12:46:56,552 INFO Local devices: \n",
      " [name: \"/device:CPU:0\"\n",
      "device_type: \"CPU\"\n",
      "memory_limit: 268435456\n",
      "locality {\n",
      "}\n",
      "incarnation: 2892577352488783041\n",
      ", name: \"/device:XLA_CPU:0\"\n",
      "device_type: \"XLA_CPU\"\n",
      "memory_limit: 17179869184\n",
      "locality {\n",
      "}\n",
      "incarnation: 10229121191681730433\n",
      "physical_device_desc: \"device: XLA_CPU device\"\n",
      ", name: \"/device:XLA_GPU:0\"\n",
      "device_type: \"XLA_GPU\"\n",
      "memory_limit: 17179869184\n",
      "locality {\n",
      "}\n",
      "incarnation: 15774506955705890381\n",
      "physical_device_desc: \"device: XLA_GPU device\"\n",
      ", name: \"/device:XLA_GPU:1\"\n",
      "device_type: \"XLA_GPU\"\n",
      "memory_limit: 17179869184\n",
      "locality {\n",
      "}\n",
      "incarnation: 12145800451835886098\n",
      "physical_device_desc: \"device: XLA_GPU device\"\n",
      ", name: \"/device:GPU:0\"\n",
      "device_type: \"GPU\"\n",
      "memory_limit: 23120537216\n",
      "locality {\n",
      "  bus_id: 1\n",
      "  links {\n",
      "  }\n",
      "}\n",
      "incarnation: 5099358460059427533\n",
      "physical_device_desc: \"device: 0, name: TITAN RTX, pci bus id: 0000:01:00.0, compute capability: 7.5\"\n",
      ", name: \"/device:GPU:1\"\n",
      "device_type: \"GPU\"\n",
      "memory_limit: 23561682304\n",
      "locality {\n",
      "  bus_id: 1\n",
      "  links {\n",
      "  }\n",
      "}\n",
      "incarnation: 5106918944783891482\n",
      "physical_device_desc: \"device: 1, name: TITAN RTX, pci bus id: 0000:02:00.0, compute capability: 7.5\"\n",
      "]\n"
     ]
    },
    {
     "name": "stdout",
     "output_type": "stream",
     "text": [
      "{'GPU_IDS': '0,1', 'GPUS': ['/gpu:0', '/gpu:1'], 'SEED': 42, 'EXPERIMENT': 'temp_conv1_NOmask_smooth02_NOtransp/8_64_64__8_3_3_tenc32_bndrop_conv1_CCE_smooth02_augNO_tempaugNO_batchsize8_f0', 'EXPERIMENTS_ROOT': 'exp/', 'EXP_PATH': 'exp/temp_conv1_NOmask_smooth02_NOtransp/8_64_64__8_3_3_tenc32_bndrop_conv1_CCE_smooth02_augNO_tempaugNO_batchsize8_f0/2021-03-01_12_46', 'MODEL_PATH': 'exp/temp_conv1_NOmask_smooth02_NOtransp/8_64_64__8_3_3_tenc32_bndrop_conv1_CCE_smooth02_augNO_tempaugNO_batchsize8_f0/2021-03-01_12_46/model', 'TENSORBOARD_PATH': 'exp/temp_conv1_NOmask_smooth02_NOtransp/8_64_64__8_3_3_tenc32_bndrop_conv1_CCE_smooth02_augNO_tempaugNO_batchsize8_f0/2021-03-01_12_46/tensorboard_logs', 'CONFIG_PATH': 'exp/temp_conv1_NOmask_smooth02_NOtransp/8_64_64__8_3_3_tenc32_bndrop_conv1_CCE_smooth02_augNO_tempaugNO_batchsize8_f0/2021-03-01_12_46/config', 'HISTORY_PATH': 'exp/temp_conv1_NOmask_smooth02_NOtransp/8_64_64__8_3_3_tenc32_bndrop_conv1_CCE_smooth02_augNO_tempaugNO_batchsize8_f0/2021-03-01_12_46/history', 'DATA_PATH_SAX': '/mnt/ssd/data/gcn/02_imported_4D_unfiltered/SAX/', 'DF_FOLDS': '/mnt/ssd/data/gcn/02_imported_4D_unfiltered/df_kfold.csv', 'DF_META': '/mnt/ssd/data/gcn/02_imported_4D_unfiltered/SAx_3D_dicomTags_phase', 'FOLD': 0, 'BATCHSIZE': 8, 'GENERATOR_WORKER': 8, 'EPOCHS': 200, 'DIM': [8, 64, 64], 'T_SHAPE': 36, 'SPACING': [8, 3, 3], 'DEPTH': 3, 'FILTERS': 32, 'M_POOL': [1, 2, 2], 'F_SIZE': [3, 3, 3], 'BN_FIRST': False, 'BATCH_NORMALISATION': True, 'PAD': 'same', 'KERNEL_INIT': 'he_normal', 'OPTIMIZER': 'adam', 'ACTIVATION': 'relu', 'LEARNING_RATE': 0.0001, 'REDUCE_LR_ON_PLAEAU_PATIENCE': 5, 'DECAY_FACTOR': 0.7, 'MIN_LR': 1e-12, 'MONITOR_FUNCTION': 'loss', 'MONITOR_MODE': 'min', 'SAVE_MODEL_FUNCTION': 'loss', 'SAVE_MODEL_MODE': 'min', 'MODEL_PATIENCE': 20, 'SAVE_LEARNING_PROGRESS_AS_TF': True, 'BORDER_MODE': 4, 'IMG_INTERPOLATION': 1, 'MSK_INTERPOLATION': 0, 'AUGMENT': False, 'AUGMENT_PROB': 0.8, 'AUGMENT_PHASES': False, 'AUGMENT_PHASES_RANGE': (-3, 3), 'REPEAT_ONEHOT': True, 'SHUFFLE': True, 'RESAMPLE': True, 'SCALER': 'MinMax', 'PHASES': 5, 'TARGET_SMOOTHING': True, 'SMOOTHING_KERNEL_SIZE': 12, 'SMOOTHING_LOWER_BORDER': 1, 'SMOOTHING_UPPER_BORDER': 5, 'SMOOTHING_WEIGHT_CORRECT': 10, 'TENSORBOARD_LOG_DIR': 'reports/tensorboard_logs/temp_conv1_NOmask_smooth02_NOtransp/8_64_64__8_3_3_tenc32_bndrop_conv1_CCE_smooth02_augNO_tempaugNO_batchsize8_f0'}\n"
     ]
    }
   ],
   "source": [
    "# ------------------------------------------define logging and working directory\n",
    "from ProjectRoot import change_wd_to_project_root\n",
    "change_wd_to_project_root()\n",
    "from src.utils.Tensorflow_helper import choose_gpu_by_id\n",
    "# ------------------------------------------define GPU id/s to use\n",
    "GPU_IDS = '0,1'\n",
    "GPUS = choose_gpu_by_id(GPU_IDS)\n",
    "print(GPUS)\n",
    "# ------------------------------------------jupyter magic config\n",
    "%matplotlib inline\n",
    "%reload_ext autoreload\n",
    "%autoreload 2\n",
    "# ------------------------------------------ import helpers\n",
    "# this should import glob, os, and many other standard libs\n",
    "from src.utils.Notebook_imports import *\n",
    "from tensorflow.python.client import device_lib\n",
    "import tensorflow as tf\n",
    "tf.get_logger().setLevel('ERROR')\n",
    "# local imports\n",
    "from src.utils.Utils_io import Console_and_file_logger, init_config\n",
    "from src.visualization.Visualize import show_2D_or_3D, show_phases, show_phases_transpose\n",
    "from src.utils.KerasCallbacks import get_callbacks\n",
    "from src.data.Dataset import get_trainings_files\n",
    "\n",
    "# import external libs\n",
    "import cv2\n",
    "import pandas as pd\n",
    "\n",
    "EXPERIMENT = 'temp_conv1_NOmask_smooth02_NOtransp/8_64_64__8_3_3_tenc32_bndrop_conv1_CCE_smooth02_augNO_tempaugNO_batchsize8_f0'\n",
    "#EXPERIMENT = 'baseline_label_transpose_smooth05/36_5_BiLSTM32_NoBn_conv5_size1_CCE_NOphaseaug_NOaug_b8'\n",
    "# EXPERIMENT = 'mased_scores/36_5_BiLSTM32_NoBn_conv5_size1_CCE_NOphaseaug_shift_rotate_reflectbordersgridaug'\n",
    "timestemp = str(datetime.datetime.now().strftime(\"%Y-%m-%d_%H_%M\")) # ad a timestep to each project to make repeated experiments unique\n",
    "\n",
    "EXPERIMENTS_ROOT = 'exp/'\n",
    "EXP_PATH = os.path.join(EXPERIMENTS_ROOT, EXPERIMENT, timestemp)\n",
    "MODEL_PATH = os.path.join(EXP_PATH, 'model', )\n",
    "TENSORBOARD_PATH = os.path.join(EXP_PATH, 'tensorboard_logs')\n",
    "CONFIG_PATH = os.path.join(EXP_PATH,'config')\n",
    "HISTORY_PATH = os.path.join(EXP_PATH, 'history')\n",
    "ensure_dir(MODEL_PATH)\n",
    "ensure_dir(TENSORBOARD_PATH)\n",
    "ensure_dir(CONFIG_PATH)\n",
    "ensure_dir(HISTORY_PATH)\n",
    "\n",
    "# define the data paths and fold \n",
    "# first to the 4D Nrrd files, \n",
    "# second to a dataframe with a mapping of the Fold-number - filename\n",
    "DATA_PATH_SAX = '/mnt/ssd/data/gcn/02_imported_4D_unfiltered/SAX/'\n",
    "DF_FOLDS = '/mnt/ssd/data/gcn/02_imported_4D_unfiltered/df_kfold.csv'\n",
    "DF_META = '/mnt/ssd/data/gcn/02_imported_4D_unfiltered/SAx_3D_dicomTags_phase'\n",
    "FOLD = 0\n",
    "\n",
    "# General params\n",
    "SEED = 42 # define a seed for the generator shuffle\n",
    "BATCHSIZE = 8 # 32, 64, 24, 16, 1 for 3D use: 4\n",
    "GENERATOR_WORKER = BATCHSIZE # if not set, use batchsize\n",
    "EPOCHS = 200\n",
    "\n",
    "DIM = [8, 64, 64] # network input shape for spacing of 3, (z,y,x)\n",
    "T_SHAPE = 36\n",
    "SPACING = [8, 3, 3] # if resample, resample to this spacing, (z,y,x)\n",
    "\n",
    "# Model params\n",
    "DEPTH = 3 # depth of the encoder\n",
    "FILTERS = 32 # initial number of filters, will be doubled after each downsampling block\n",
    "M_POOL = [1, 2, 2]# size of max-pooling used for downsampling and upsampling\n",
    "F_SIZE = [3, 3, 3] # conv filter size\n",
    "BN_FIRST = False # decide if batch normalisation between conv and activation or afterwards\n",
    "BATCH_NORMALISATION = True # apply BN or not\n",
    "PAD = 'same' # padding strategy of the conv layers\n",
    "KERNEL_INIT = 'he_normal' # conv weight initialisation\n",
    "OPTIMIZER = 'adam' # Adam, Adagrad, RMSprop, Adadelta,  # https://keras.io/optimizers/\n",
    "ACTIVATION = 'relu' # tf.keras.layers.LeakyReLU(), relu or any other non linear activation function\n",
    "LEARNING_RATE = 1e-4 # start with a huge lr to converge fast\n",
    "REDUCE_LR_ON_PLAEAU_PATIENCE = 5\n",
    "DECAY_FACTOR = 0.7 # Define a learning rate decay for the ReduceLROnPlateau callback\n",
    "MIN_LR = 1e-12 # minimal lr, smaller lr does not improve the model\n",
    "DROPOUT_min = 0.3 # lower dropout at the shallow layers\n",
    "DROPOUT_max = 0.5 # higher dropout at the deep layers\n",
    "\n",
    "# Callback params\n",
    "MONITOR_FUNCTION = 'loss'\n",
    "MONITOR_MODE = 'min'\n",
    "SAVE_MODEL_FUNCTION = 'loss'\n",
    "SAVE_MODEL_MODE = 'min'\n",
    "MODEL_PATIENCE = 20\n",
    "SAVE_LEARNING_PROGRESS_AS_TF = True\n",
    "\n",
    "# Generator and Augmentation params\n",
    "BORDER_MODE = cv2.BORDER_REFLECT_101 # border mode for the data generation\n",
    "IMG_INTERPOLATION = cv2.INTER_LINEAR # image interpolation in the genarator\n",
    "MSK_INTERPOLATION = cv2.INTER_NEAREST # mask interpolation in the generator\n",
    "AUGMENT = False # a compose of 2D augmentation (grid distortion, 90degree rotation, brightness and shift)\n",
    "AUGMENT_PROB = 0.8\n",
    "AUGMENT_PHASES = False\n",
    "AUGMENT_PHASES_RANGE = (-3,3)\n",
    "REPEAT_ONEHOT = True\n",
    "SHUFFLE = True\n",
    "RESAMPLE = True\n",
    "SCALER = 'MinMax' # MinMax, Standard or Robust\n",
    "# We define 5 target phases and a background phase for the pad/empty volumes \n",
    "PHASES = len(['ED#', 'MS#', 'ES#', 'PF#', 'MD#']) # skipped 'pad backround manually added', due to repeating\n",
    "TARGET_SMOOTHING = True\n",
    "SMOOTHING_KERNEL_SIZE = 12\n",
    "SMOOTHING_LOWER_BORDER = 1\n",
    "SMOOTHING_UPPER_BORDER = 5\n",
    "SMOOTHING_WEIGHT_CORRECT = 10\n",
    "\n",
    "\n",
    "Console_and_file_logger(EXPERIMENT, logging.INFO)\n",
    "config = init_config(config=locals(), save=True)\n",
    "print(config)\n",
    "logging.info('Is built with tensorflow: {}'.format(tf.test.is_built_with_cuda()))\n",
    "logging.info('Visible devices:\\n{}'.format(tf.config.list_physical_devices()))\n",
    "logging.info('Local devices: \\n {}'.format(device_lib.list_local_devices()))"
   ]
  },
  {
   "cell_type": "code",
   "execution_count": 2,
   "metadata": {},
   "outputs": [
    {
     "name": "stderr",
     "output_type": "stream",
     "text": [
      "2021-03-01 12:46:56,575 INFO no files found, try to load with clean.nrrd/mask.nrrd pattern\n",
      "2021-03-01 12:46:56,586 INFO Found 278 images/masks in /mnt/ssd/data/gcn/02_imported_4D_unfiltered/SAX/\n",
      "2021-03-01 12:46:56,587 INFO Patients train: 209\n",
      "2021-03-01 12:46:56,598 INFO Selected 209 of 278 files with 209 of 279 patients for training fold 0\n",
      "2021-03-01 12:46:56,599 INFO SAX train CMR: 209, SAX train masks: 209\n",
      "2021-03-01 12:46:56,599 INFO SAX val CMR: 69, SAX val masks: 69\n"
     ]
    }
   ],
   "source": [
    "# Load SAX volumes\n",
    "x_train_sax, y_train_sax, x_val_sax, y_val_sax =  get_trainings_files(data_path=DATA_PATH_SAX,path_to_folds_df=DF_FOLDS, fold=FOLD)\n",
    "logging.info('SAX train CMR: {}, SAX train masks: {}'.format(len(x_train_sax), len(y_train_sax)))\n",
    "logging.info('SAX val CMR: {}, SAX val masks: {}'.format(len(x_val_sax), len(y_val_sax)))"
   ]
  },
  {
   "cell_type": "code",
   "execution_count": 3,
   "metadata": {},
   "outputs": [
    {
     "name": "stderr",
     "output_type": "stream",
     "text": [
      "2021-03-01 12:46:56,635 INFO Check if we find the patient ID and phase mapping for all: 278 files.\n",
      "2021-03-01 12:46:56,907 INFO Done!\n"
     ]
    }
   ],
   "source": [
    "# check if we find each patient in the corresponding dataframe\n",
    "import re\n",
    "METADATA_FILE = config.get('DF_META', '/mnt/ssd/data/gcn/02_imported_4D_unfiltered/SAx_3D_dicomTags_phase')\n",
    "df = pd.read_csv(METADATA_FILE)\n",
    "DF_METADATA = df[['patient', 'ED#', 'MS#', 'ES#', 'PF#', 'MD#']]\n",
    "\n",
    "files_ = x_train_sax + x_val_sax\n",
    "info('Check if we find the patient ID and phase mapping for all: {} files.'.format(len(files_)))\n",
    "for x in files_:\n",
    "    try:\n",
    "        patient_str = re.search('-(.{8})_', x).group(1).upper()\n",
    "        \n",
    "        assert(len(patient_str) == 8), 'matched patient ID from the phase sheet has a length of: {}'.format(len(patient_str))\n",
    "        # returns the indices in the following order: 'ED#', 'MS#', 'ES#', 'PF#', 'MD#'\n",
    "        # reduce by one, as the indexes start at 0, the excel-sheet at 1\n",
    "        ind = DF_METADATA[DF_METADATA.patient.str.contains(patient_str)][['ED#', 'MS#', 'ES#', 'PF#', 'MD#']]\n",
    "        indices = ind.values[0].astype(int) -1\n",
    "        \n",
    "    except Exception as e:\n",
    "        logging.info(patient_str)\n",
    "        logging.info(ind)\n",
    "        logging.info('indices: \\n{}'.format(indices))\n",
    "info('Done!')"
   ]
  },
  {
   "cell_type": "code",
   "execution_count": 4,
   "metadata": {},
   "outputs": [
    {
     "data": {
      "application/vnd.jupyter.widget-view+json": {
       "model_id": "608a9592c61f4e1cbdc995c81d20e3c2",
       "version_major": 2,
       "version_minor": 0
      },
      "text/plain": [
       "interactive(children=(Text(value='', description='search_str'), Output()), _dom_classes=('widget-interact',))"
      ]
     },
     "metadata": {},
     "output_type": "display_data"
    }
   ],
   "source": [
    "@interact\n",
    "def search_p_in_df(search_str = ''):\n",
    "    return DF_METADATA[DF_METADATA['patient'].str.contains(search_str)]"
   ]
  },
  {
   "cell_type": "code",
   "execution_count": 5,
   "metadata": {},
   "outputs": [
    {
     "name": "stderr",
     "output_type": "stream",
     "text": [
      "2021-03-01 12:46:56,967 INFO Create DataGenerator\n",
      "2021-03-01 12:46:56,968 INFO Datagenerator created with: \n",
      " shape: [8, 64, 64]\n",
      " spacing: [8, 3, 3]\n",
      " batchsize: 8\n",
      " Scaler: MinMax\n",
      " Images: 209 \n",
      " Augment: False \n",
      " Thread workers: 8\n",
      "2021-03-01 12:46:56,968 INFO No augmentation\n",
      "2021-03-01 12:46:56,983 INFO Smoothing kernel: \n",
      "[ 1.   1.8  2.6  3.4  4.2  5.  10.   5.   4.2  3.4  2.6  1.8  1. ]\n",
      "2021-03-01 12:46:56,983 INFO Temporal phase augmentation: \n",
      "FalseRepeat volume: True\n",
      "2021-03-01 12:46:56,984 INFO Create DataGenerator\n",
      "2021-03-01 12:46:56,984 INFO Datagenerator created with: \n",
      " shape: [8, 64, 64]\n",
      " spacing: [8, 3, 3]\n",
      " batchsize: 8\n",
      " Scaler: MinMax\n",
      " Images: 69 \n",
      " Augment: False \n",
      " Thread workers: 8\n",
      "2021-03-01 12:46:56,985 INFO No augmentation\n",
      "2021-03-01 12:46:56,998 INFO Smoothing kernel: \n",
      "[ 1.   1.8  2.6  3.4  4.2  5.  10.   5.   4.2  3.4  2.6  1.8  1. ]\n",
      "2021-03-01 12:46:56,998 INFO Temporal phase augmentation: \n",
      "FalseRepeat volume: True\n"
     ]
    }
   ],
   "source": [
    "# initialise a generator with these files\n",
    "# logging.getLogger().setLevel(logging.INFO)\n",
    "from src.data.Generators import PhaseRegressionGenerator\n",
    "#config['SHUFFLE'] = False\n",
    "#config['AUGMENT'] = False\n",
    "#config['RESAMPLE'] = True\n",
    "#config['AUGMENT_PHASES'] = False\n",
    "batch_generator = PhaseRegressionGenerator(x_train_sax, x_train_sax, config=config)\n",
    "val_config = config.copy()\n",
    "val_config['AUGMENT'] = False\n",
    "val_config['AUGMENT_PHASES'] = False\n",
    "validation_generator = PhaseRegressionGenerator(x_val_sax, x_val_sax , config=val_config)"
   ]
  },
  {
   "cell_type": "code",
   "execution_count": 6,
   "metadata": {},
   "outputs": [
    {
     "data": {
      "application/vnd.jupyter.widget-view+json": {
       "model_id": "2c79dae681eb4ea68cadf7f926dea57f",
       "version_major": 2,
       "version_minor": 0
      },
      "text/plain": [
       "interactive(children=(IntSlider(value=4, description='batch', max=8), IntSlider(value=3, description='im', max…"
      ]
     },
     "metadata": {},
     "output_type": "display_data"
    }
   ],
   "source": [
    "# visualise one batch\n",
    "generator = validation_generator\n",
    "@interact_manual\n",
    "def select_image_in_batch(batch = (0,len(generator), 1), \n",
    "                          im = (0,BATCHSIZE- 1, 1), \n",
    "                          slice_n=(1,11), \n",
    "                          save=False, \n",
    "                          filepath='data/temp/', \n",
    "                          filename='temp_x.npy',\n",
    "                         show_overview=True,\n",
    "                         show_input_vol=False):\n",
    "    \n",
    "    import time\n",
    "    global inputs, outputs, gt_len_msk\n",
    "    phases = ['ED', 'MS', 'ES', 'PF', 'MD']\n",
    "    t1 = time.time()\n",
    "    inputs, outputs = generator.__getitem__(batch)\n",
    "    onehot, gt_len_msk = np.split(outputs, indices_or_sections=2,axis=1)\n",
    "    logging.info('Preprocessing took: {:0.3f}'.format(time.time() - t1))\n",
    "    print(inputs.shape, outputs.shape)\n",
    "    print('selected batch : ' + str(batch))\n",
    "    if show_overview:\n",
    "\n",
    "        show_phases(outputs)\n",
    "        plt.show()\n",
    "        \n",
    "        selected_input = inputs[im]\n",
    "        selected_output = onehot[im][0]\n",
    "        selected_gt_len_msk = gt_len_msk[im][0]\n",
    "        selected_gtlen = int(np.sum((selected_gt_len_msk[0]),axis=0))\n",
    "        logging.info('GT length: {}'.format(selected_gtlen))\n",
    "        logging.debug('pad: \\n{}'.format(selected_output))\n",
    "        \n",
    "        \"\"\"f, axs = plt.subplots(1,2,figsize=(12,4))\n",
    "        i = 0\n",
    "        temp_y = selected_output\n",
    "        print(np.sum(temp_y, axis=1))\n",
    "\n",
    "        # ind_gt = np.argmax(temp_y[:selected_gtlen,:], axis=0) # before we had the gt mask\n",
    "        ind_gt = np.argmax(temp_y * selected_gt_len_msk, axis=1)\n",
    "        axs[0].title.set_text('y')\n",
    "        axs[0].set_xticks(ind_gt, minor=False)\n",
    "        axs[0].set_yticks([0,1,2,3,4], minor=False)\n",
    "        axs[0].set_yticklabels(phases, rotation =45)\n",
    "        axs[0].imshow(temp_y, aspect='auto', )\n",
    "        axs[1].hist(selected_input.flatten(), bins=np.linspace(0.1,1,20))\n",
    "        f.tight_layout()\n",
    "        plt.show()\"\"\"\n",
    "    \n",
    "    if show_input_vol:\n",
    "        f, axs = plt.subplots(1,1,figsize=(4,4))\n",
    "        axs.hist(selected_input.flatten(), bins=np.linspace(0.1,1,20))\n",
    "        f.tight_layout()\n",
    "        plt.show()\n",
    "        \"\"\"\n",
    "        list(map(lambda x: show_2D_or_3D(img=x, interpol='bilinear',dpi=100,f_size=(5,5)), selected_input[::slice_n]))\n",
    "        \"\"\"\n",
    "        \n",
    "    if save:\n",
    "        ensure_dir(filepath)\n",
    "        np.save(os.path.join(filepath, filename), x[im])\n",
    "        logging.info('saved to {}'.format(os.path.join(filepath, filename)))\n"
   ]
  },
  {
   "cell_type": "code",
   "execution_count": 7,
   "metadata": {},
   "outputs": [
    {
     "ename": "ImportError",
     "evalue": "cannot import name 'cce_wrapper' from 'src.utils.Metrics' (/mnt/ssd/git/dynamic-cmr-models/src/utils/Metrics.py)",
     "output_type": "error",
     "traceback": [
      "\u001b[0;31m---------------------------------------------------------------------------\u001b[0m",
      "\u001b[0;31mImportError\u001b[0m                               Traceback (most recent call last)",
      "\u001b[0;32m<ipython-input-7-f937c397957b>\u001b[0m in \u001b[0;36m<module>\u001b[0;34m\u001b[0m\n\u001b[1;32m      1\u001b[0m \u001b[0;31m# MSE\u001b[0m\u001b[0;34m\u001b[0m\u001b[0;34m\u001b[0m\u001b[0;34m\u001b[0m\u001b[0m\n\u001b[0;32m----> 2\u001b[0;31m \u001b[0;32mfrom\u001b[0m \u001b[0msrc\u001b[0m\u001b[0;34m.\u001b[0m\u001b[0mutils\u001b[0m\u001b[0;34m.\u001b[0m\u001b[0mMetrics\u001b[0m \u001b[0;32mimport\u001b[0m \u001b[0mcce_wrapper\u001b[0m\u001b[0;34m,\u001b[0m \u001b[0mmse_wrapper\u001b[0m\u001b[0;34m\u001b[0m\u001b[0;34m\u001b[0m\u001b[0m\n\u001b[0m\u001b[1;32m      3\u001b[0m \u001b[0mloss\u001b[0m \u001b[0;34m=\u001b[0m \u001b[0mmse_wrapper\u001b[0m\u001b[0;34m(\u001b[0m\u001b[0moutputs\u001b[0m\u001b[0;34m,\u001b[0m \u001b[0moutputs\u001b[0m\u001b[0;34m)\u001b[0m\u001b[0;34m\u001b[0m\u001b[0;34m\u001b[0m\u001b[0m\n\u001b[1;32m      4\u001b[0m \u001b[0mplt\u001b[0m\u001b[0;34m.\u001b[0m\u001b[0mimshow\u001b[0m\u001b[0;34m(\u001b[0m\u001b[0mloss\u001b[0m\u001b[0;34m)\u001b[0m\u001b[0;34m\u001b[0m\u001b[0;34m\u001b[0m\u001b[0m\n",
      "\u001b[0;31mImportError\u001b[0m: cannot import name 'cce_wrapper' from 'src.utils.Metrics' (/mnt/ssd/git/dynamic-cmr-models/src/utils/Metrics.py)"
     ]
    }
   ],
   "source": [
    "# MSE\n",
    "from src.utils.Metrics import cce_wrapper, mse_wrapper\n",
    "loss = mse_wrapper(outputs, outputs)\n",
    "plt.imshow(loss)"
   ]
  },
  {
   "cell_type": "code",
   "execution_count": null,
   "metadata": {},
   "outputs": [],
   "source": [
    "# CCE - no label smoothing\n",
    "from src.utils.Metrics import cce_wrapper\n",
    "loss1 = cce_wrapper(outputs, outputs, masked=False, smooth=0)\n",
    "plt.imshow(loss1)"
   ]
  },
  {
   "cell_type": "code",
   "execution_count": null,
   "metadata": {},
   "outputs": [],
   "source": [
    "# CCE - label smoothing = 0.2\n",
    "from src.utils.Metrics import cce_wrapper\n",
    "loss2 = cce_wrapper(outputs, outputs, masked=False, smooth=0.2)\n",
    "plt.imshow(loss2)"
   ]
  },
  {
   "cell_type": "code",
   "execution_count": null,
   "metadata": {},
   "outputs": [],
   "source": [
    "# CCE - label smoothing = 0.5\n",
    "from src.utils.Metrics import cce_wrapper\n",
    "loss3 = cce_wrapper(outputs, outputs, masked=False, smooth=0.5)\n",
    "plt.imshow(loss3)"
   ]
  },
  {
   "cell_type": "code",
   "execution_count": 8,
   "metadata": {},
   "outputs": [
    {
     "ename": "ImportError",
     "evalue": "cannot import name 'cce_wrapper' from 'src.utils.Metrics' (/mnt/ssd/git/dynamic-cmr-models/src/utils/Metrics.py)",
     "output_type": "error",
     "traceback": [
      "\u001b[0;31m---------------------------------------------------------------------------\u001b[0m",
      "\u001b[0;31mImportError\u001b[0m                               Traceback (most recent call last)",
      "\u001b[0;32m<ipython-input-8-be45ab285ad5>\u001b[0m in \u001b[0;36m<module>\u001b[0;34m\u001b[0m\n\u001b[1;32m      1\u001b[0m \u001b[0;31m# CCE - label smoothing = 0.5\u001b[0m\u001b[0;34m\u001b[0m\u001b[0;34m\u001b[0m\u001b[0;34m\u001b[0m\u001b[0m\n\u001b[0;32m----> 2\u001b[0;31m \u001b[0;32mfrom\u001b[0m \u001b[0msrc\u001b[0m\u001b[0;34m.\u001b[0m\u001b[0mutils\u001b[0m\u001b[0;34m.\u001b[0m\u001b[0mMetrics\u001b[0m \u001b[0;32mimport\u001b[0m \u001b[0mcce_wrapper\u001b[0m\u001b[0;34m\u001b[0m\u001b[0;34m\u001b[0m\u001b[0m\n\u001b[0m\u001b[1;32m      3\u001b[0m \u001b[0mloss3\u001b[0m \u001b[0;34m=\u001b[0m \u001b[0mcce_wrapper\u001b[0m\u001b[0;34m(\u001b[0m\u001b[0moutputs\u001b[0m\u001b[0;34m,\u001b[0m \u001b[0moutputs\u001b[0m\u001b[0;34m,\u001b[0m \u001b[0mmasked\u001b[0m\u001b[0;34m=\u001b[0m\u001b[0;32mFalse\u001b[0m\u001b[0;34m,\u001b[0m \u001b[0msmooth\u001b[0m\u001b[0;34m=\u001b[0m\u001b[0;36m0.6\u001b[0m\u001b[0;34m)\u001b[0m\u001b[0;34m\u001b[0m\u001b[0;34m\u001b[0m\u001b[0m\n\u001b[1;32m      4\u001b[0m \u001b[0mplt\u001b[0m\u001b[0;34m.\u001b[0m\u001b[0mimshow\u001b[0m\u001b[0;34m(\u001b[0m\u001b[0mloss3\u001b[0m\u001b[0;34m)\u001b[0m\u001b[0;34m\u001b[0m\u001b[0;34m\u001b[0m\u001b[0m\n",
      "\u001b[0;31mImportError\u001b[0m: cannot import name 'cce_wrapper' from 'src.utils.Metrics' (/mnt/ssd/git/dynamic-cmr-models/src/utils/Metrics.py)"
     ]
    }
   ],
   "source": [
    "# CCE - label smoothing = 0.5\n",
    "from src.utils.Metrics import cce_wrapper\n",
    "loss3 = cce_wrapper(outputs, outputs, masked=False, smooth=0.6)\n",
    "plt.imshow(loss3)"
   ]
  },
  {
   "cell_type": "code",
   "execution_count": 51,
   "metadata": {},
   "outputs": [
    {
     "data": {
      "image/png": "[encoded data removed]",
      "text/plain": [
       "<Figure size 432x288 with 1 Axes>"
      ]
     },
     "metadata": {
      "needs_background": "light"
     },
     "output_type": "display_data"
    },
    {
     "data": {
      "image/png": "[encoded data removed]",
      "text/plain": [
       "<Figure size 432x288 with 1 Axes>"
      ]
     },
     "metadata": {
      "needs_background": "light"
     },
     "output_type": "display_data"
    }
   ],
   "source": [
    "# Differences between smoothing loss and non smoothing\n",
    "plt.imshow(loss1-loss2)\n",
    "plt.show()\n",
    "plt.imshow(loss1-loss2)\n",
    "plt.show()"
   ]
  },
  {
   "cell_type": "code",
   "execution_count": 34,
   "metadata": {},
   "outputs": [
    {
     "name": "stdout",
     "output_type": "stream",
     "text": [
      "(8, 36, 5)\n"
     ]
    },
    {
     "data": {
      "text/plain": [
       "<matplotlib.image.AxesImage at 0x7f63305ca130>"
      ]
     },
     "execution_count": 34,
     "metadata": {},
     "output_type": "execute_result"
    },
    {
     "data": {
      "image/png": "[encoded data removed]",
      "text/plain": [
       "<Figure size 432x288 with 1 Axes>"
      ]
     },
     "metadata": {
      "needs_background": "light"
     },
     "output_type": "display_data"
    }
   ],
   "source": [
    "# CCE masekd before\n",
    "from src.utils.Metrics import cce_wrapper\n",
    "loss = cce_wrapper(outputs, outputs, masked=True)\n",
    "plt.imshow(loss)"
   ]
  },
  {
   "cell_type": "code",
   "execution_count": 36,
   "metadata": {},
   "outputs": [
    {
     "name": "stdout",
     "output_type": "stream",
     "text": [
      "(8, 36, 5)\n"
     ]
    },
    {
     "data": {
      "text/plain": [
       "<matplotlib.image.AxesImage at 0x7f63305ceca0>"
      ]
     },
     "execution_count": 36,
     "metadata": {},
     "output_type": "execute_result"
    },
    {
     "data": {
      "image/png": "[encoded data removed]",
      "text/plain": [
       "<Figure size 432x288 with 1 Axes>"
      ]
     },
     "metadata": {
      "needs_background": "light"
     },
     "output_type": "display_data"
    }
   ],
   "source": [
    "# CCE masked\n",
    "from src.utils.Metrics import cce_wrapper\n",
    "loss = cce_wrapper(outputs, outputs, masked=True)\n",
    "plt.imshow(loss)"
   ]
  },
  {
   "cell_type": "code",
   "execution_count": 29,
   "metadata": {},
   "outputs": [
    {
     "name": "stdout",
     "output_type": "stream",
     "text": [
      "(940,)\n"
     ]
    },
    {
     "data": {
      "text/plain": [
       "TensorShape([])"
      ]
     },
     "execution_count": 29,
     "metadata": {},
     "output_type": "execute_result"
    }
   ],
   "source": [
    "# CCE masked\n",
    "from src.utils.Metrics import cce_wrapper\n",
    "loss = cce_wrapper(outputs, outputs, masked=True)\n",
    "loss.shape"
   ]
  },
  {
   "cell_type": "code",
   "execution_count": 7,
   "metadata": {},
   "outputs": [
    {
     "data": {
      "text/plain": [
       "<matplotlib.image.AxesImage at 0x7fad7c29de80>"
      ]
     },
     "execution_count": 7,
     "metadata": {},
     "output_type": "execute_result"
    },
    {
     "data": {
      "image/png": "[encoded data removed]",
      "text/plain": [
       "<Figure size 432x288 with 1 Axes>"
      ]
     },
     "metadata": {
      "needs_background": "light"
     },
     "output_type": "display_data"
    }
   ],
   "source": [
    "temp = np.zeros((21))\n",
    "temp[10] = 1\n",
    "plt.imshow(temp[None,])"
   ]
  },
  {
   "cell_type": "code",
   "execution_count": 8,
   "metadata": {},
   "outputs": [],
   "source": [
    "import scipy\n",
    "from scipy.ndimage import gaussian_filter1d\n",
    "temp2 = gaussian_filter1d(temp, sigma=0.1)\n"
   ]
  },
  {
   "cell_type": "code",
   "execution_count": 9,
   "metadata": {},
   "outputs": [
    {
     "data": {
      "image/png": "[encoded data removed]",
      "text/plain": [
       "<Figure size 432x288 with 1 Axes>"
      ]
     },
     "metadata": {
      "needs_background": "light"
     },
     "output_type": "display_data"
    },
    {
     "data": {
      "image/png": "[encoded data removed]",
      "text/plain": [
       "<Figure size 432x288 with 1 Axes>"
      ]
     },
     "metadata": {
      "needs_background": "light"
     },
     "output_type": "display_data"
    },
    {
     "data": {
      "image/png": "[encoded data removed]",
      "text/plain": [
       "<Figure size 432x288 with 1 Axes>"
      ]
     },
     "metadata": {
      "needs_background": "light"
     },
     "output_type": "display_data"
    },
    {
     "data": {
      "image/png": "[encoded data removed]",
      "text/plain": [
       "<Figure size 432x288 with 1 Axes>"
      ]
     },
     "metadata": {
      "needs_background": "light"
     },
     "output_type": "display_data"
    },
    {
     "data": {
      "image/png": "[encoded data removed]",
      "text/plain": [
       "<Figure size 432x288 with 1 Axes>"
      ]
     },
     "metadata": {
      "needs_background": "light"
     },
     "output_type": "display_data"
    },
    {
     "data": {
      "image/png": "[encoded data removed]",
      "text/plain": [
       "<Figure size 432x288 with 1 Axes>"
      ]
     },
     "metadata": {
      "needs_background": "light"
     },
     "output_type": "display_data"
    }
   ],
   "source": [
    "plt.imshow(gaussian_filter1d(temp, sigma=1)[None,]); plt.show()\n",
    "plt.imshow(gaussian_filter1d(temp, sigma=2)[None,]); plt.show()\n",
    "plt.imshow(gaussian_filter1d(temp, sigma=2.5)[None,]); plt.show()\n",
    "plt.imshow(gaussian_filter1d(temp, sigma=3)[None,]); plt.show()\n",
    "plt.imshow(gaussian_filter1d(temp, sigma=3.5)[None,]); plt.show()\n",
    "plt.imshow(gaussian_filter1d(temp, sigma=4)[None,]); plt.show()"
   ]
  },
  {
   "cell_type": "code",
   "execution_count": 10,
   "metadata": {},
   "outputs": [
    {
     "data": {
      "text/plain": [
       "'for b in range(len(validation_generator)):\\n    print(b)\\n    for im in range(BATCHSIZE):\\n        select_image_in_batch(batch=b,im=im, slice_n=5, show_=True)'"
      ]
     },
     "execution_count": 10,
     "metadata": {},
     "output_type": "execute_result"
    }
   ],
   "source": [
    "# test if all batches are processable\n",
    "\"\"\"for b in range(len(validation_generator)):\n",
    "    print(b)\n",
    "    for im in range(BATCHSIZE):\n",
    "        select_image_in_batch(batch=b,im=im, slice_n=5, show_=True)\"\"\""
   ]
  },
  {
   "cell_type": "code",
   "execution_count": 9,
   "metadata": {},
   "outputs": [
    {
     "name": "stdout",
     "output_type": "stream",
     "text": [
      "Shape after the temporal encoder\n",
      "(None, 36, 8, 8, 8, 256)\n",
      "Shape after GAP\n",
      "(None, 36, 256)\n",
      "Shape after Bi-LSTM layer\n",
      "(None, 36, 256)\n",
      "Shape after final conv layer\n",
      "(None, 36, 5)\n"
     ]
    }
   ],
   "source": [
    "from src.models.Models import create_PhaseRegressionModel\n",
    "model = create_PhaseRegressionModel(config)"
   ]
  },
  {
   "cell_type": "code",
   "execution_count": 10,
   "metadata": {
    "collapsed": true,
    "jupyter": {
     "outputs_hidden": true
    }
   },
   "outputs": [
    {
     "data": {
      "image/png": "[encoded data removed]",
      "text/plain": [
       "<IPython.core.display.Image object>"
      ]
     },
     "execution_count": 10,
     "metadata": {},
     "output_type": "execute_result"
    }
   ],
   "source": [
    "# write the model summary to a txt file\n",
    "# Open the file\n",
    "with open(os.path.join(EXP_PATH, 'model_summary.txt') ,'w') as fh:\n",
    "    # Pass the file handle in as a lambda function to make it callable\n",
    "    model.summary(print_fn=lambda x: fh.write(x + '\\n'))\n",
    "    \n",
    "tf.keras.utils.plot_model(\n",
    "    model, show_shapes=False,\n",
    "    to_file=os.path.join(EXP_PATH, 'model.png'),\n",
    "    show_layer_names=True, \n",
    "    rankdir='TB', \n",
    "    expand_nested=True, dpi=96\n",
    ")\n",
    "    \n",
    "#model.summary(line_length=150)"
   ]
  },
  {
   "cell_type": "code",
   "execution_count": null,
   "metadata": {},
   "outputs": [
    {
     "name": "stderr",
     "output_type": "stream",
     "text": [
      "2021-03-01 12:47:17,571 INFO feed 4 Tensorboard is ready\n"
     ]
    },
    {
     "name": "stdout",
     "output_type": "stream",
     "text": [
      "Epoch 1/200\n",
      "26/26 [==============================] - ETA: 0s - loss: 1.5309 - mse_wrapper: 0.0686 - ca_wrapper: 0.4191 - meandiff: 9.5288"
     ]
    },
    {
     "name": "stderr",
     "output_type": "stream",
     "text": [
      "2021-03-01 12:48:17,561 INFO (4, 2, 36, 5)\n",
      "2021-03-01 12:48:18,116 INFO (4, 2, 36, 5)\n"
     ]
    },
    {
     "name": "stdout",
     "output_type": "stream",
     "text": [
      "\n",
      "Epoch 00001: loss improved from inf to 1.53095, saving model to exp/temp_conv1_NOmask_smooth02_NOtransp/8_64_64__8_3_3_tenc32_bndrop_conv1_CCE_smooth02_augNO_tempaugNO_batchsize8_f0/2021-03-01_12_46/model/model.h5\n",
      "26/26 [==============================] - 33s 1s/step - loss: 1.5309 - mse_wrapper: 0.0686 - ca_wrapper: 0.4191 - meandiff: 9.5288 - val_loss: 1.5483 - val_mse_wrapper: 0.1191 - val_ca_wrapper: 0.3867 - val_meandiff: 11.4844 - lr: 1.0000e-04\n",
      "Epoch 2/200\n",
      "26/26 [==============================] - ETA: 0s - loss: 1.3227 - mse_wrapper: 0.0736 - ca_wrapper: 0.6008 - meandiff: 7.2452"
     ]
    },
    {
     "name": "stderr",
     "output_type": "stream",
     "text": [
      "2021-03-01 12:48:47,951 INFO (4, 2, 36, 5)\n",
      "2021-03-01 12:48:48,493 INFO (4, 2, 36, 5)\n"
     ]
    },
    {
     "name": "stdout",
     "output_type": "stream",
     "text": [
      "\n",
      "Epoch 00002: loss improved from 1.53095 to 1.32268, saving model to exp/temp_conv1_NOmask_smooth02_NOtransp/8_64_64__8_3_3_tenc32_bndrop_conv1_CCE_smooth02_augNO_tempaugNO_batchsize8_f0/2021-03-01_12_46/model/model.h5\n",
      "26/26 [==============================] - 29s 1s/step - loss: 1.3227 - mse_wrapper: 0.0736 - ca_wrapper: 0.6008 - meandiff: 7.2452 - val_loss: 1.3051 - val_mse_wrapper: 0.0867 - val_ca_wrapper: 0.6076 - val_meandiff: 7.6406 - lr: 1.0000e-04\n",
      "Epoch 3/200\n",
      "26/26 [==============================] - ETA: 0s - loss: 1.2410 - mse_wrapper: 0.0737 - ca_wrapper: 0.6804 - meandiff: 7.0673"
     ]
    },
    {
     "name": "stderr",
     "output_type": "stream",
     "text": [
      "2021-03-01 12:49:18,671 INFO (4, 2, 36, 5)\n",
      "2021-03-01 12:49:19,209 INFO (4, 2, 36, 5)\n"
     ]
    },
    {
     "name": "stdout",
     "output_type": "stream",
     "text": [
      "\n",
      "Epoch 00003: loss improved from 1.32268 to 1.24097, saving model to exp/temp_conv1_NOmask_smooth02_NOtransp/8_64_64__8_3_3_tenc32_bndrop_conv1_CCE_smooth02_augNO_tempaugNO_batchsize8_f0/2021-03-01_12_46/model/model.h5\n",
      "26/26 [==============================] - 29s 1s/step - loss: 1.2410 - mse_wrapper: 0.0737 - ca_wrapper: 0.6804 - meandiff: 7.0673 - val_loss: 1.2338 - val_mse_wrapper: 0.0775 - val_ca_wrapper: 0.6740 - val_meandiff: 7.2812 - lr: 1.0000e-04\n",
      "Epoch 4/200\n",
      "26/26 [==============================] - ETA: 0s - loss: 1.1959 - mse_wrapper: 0.0723 - ca_wrapper: 0.7392 - meandiff: 6.7019"
     ]
    },
    {
     "name": "stderr",
     "output_type": "stream",
     "text": [
      "2021-03-01 12:49:50,179 INFO (4, 2, 36, 5)\n",
      "2021-03-01 12:49:50,727 INFO (4, 2, 36, 5)\n"
     ]
    },
    {
     "name": "stdout",
     "output_type": "stream",
     "text": [
      "\n",
      "Epoch 00004: loss improved from 1.24097 to 1.19594, saving model to exp/temp_conv1_NOmask_smooth02_NOtransp/8_64_64__8_3_3_tenc32_bndrop_conv1_CCE_smooth02_augNO_tempaugNO_batchsize8_f0/2021-03-01_12_46/model/model.h5\n",
      "26/26 [==============================] - 30s 1s/step - loss: 1.1959 - mse_wrapper: 0.0723 - ca_wrapper: 0.7392 - meandiff: 6.7019 - val_loss: 1.2931 - val_mse_wrapper: 0.0849 - val_ca_wrapper: 0.6207 - val_meandiff: 7.7344 - lr: 1.0000e-04\n",
      "Epoch 5/200\n",
      "26/26 [==============================] - ETA: 0s - loss: 1.1731 - mse_wrapper: 0.0747 - ca_wrapper: 0.7601 - meandiff: 6.5433\n",
      "Epoch 00005: loss improved from 1.19594 to 1.17312, saving model to exp/temp_conv1_NOmask_smooth02_NOtransp/8_64_64__8_3_3_tenc32_bndrop_conv1_CCE_smooth02_augNO_tempaugNO_batchsize8_f0/2021-03-01_12_46/model/model.h5\n",
      "26/26 [==============================] - 29s 1s/step - loss: 1.1731 - mse_wrapper: 0.0747 - ca_wrapper: 0.7601 - meandiff: 6.5433 - val_loss: 1.2100 - val_mse_wrapper: 0.0834 - val_ca_wrapper: 0.7010 - val_meandiff: 6.8906 - lr: 1.0000e-04\n",
      "Epoch 6/200\n",
      "26/26 [==============================] - ETA: 0s - loss: 1.1700 - mse_wrapper: 0.0764 - ca_wrapper: 0.7620 - meandiff: 6.6731"
     ]
    },
    {
     "name": "stderr",
     "output_type": "stream",
     "text": [
      "2021-03-01 12:50:53,486 INFO (4, 2, 36, 5)\n",
      "2021-03-01 12:50:54,030 INFO (4, 2, 36, 5)\n"
     ]
    },
    {
     "name": "stdout",
     "output_type": "stream",
     "text": [
      "\n",
      "Epoch 00006: loss improved from 1.17312 to 1.17004, saving model to exp/temp_conv1_NOmask_smooth02_NOtransp/8_64_64__8_3_3_tenc32_bndrop_conv1_CCE_smooth02_augNO_tempaugNO_batchsize8_f0/2021-03-01_12_46/model/model.h5\n",
      "26/26 [==============================] - 31s 1s/step - loss: 1.1700 - mse_wrapper: 0.0764 - ca_wrapper: 0.7620 - meandiff: 6.6731 - val_loss: 1.1703 - val_mse_wrapper: 0.0802 - val_ca_wrapper: 0.7400 - val_meandiff: 7.0469 - lr: 1.0000e-04\n",
      "Epoch 7/200\n",
      "26/26 [==============================] - ETA: 0s - loss: 1.1580 - mse_wrapper: 0.0765 - ca_wrapper: 0.7751 - meandiff: 6.6827\n",
      "Epoch 00007: loss improved from 1.17004 to 1.15803, saving model to exp/temp_conv1_NOmask_smooth02_NOtransp/8_64_64__8_3_3_tenc32_bndrop_conv1_CCE_smooth02_augNO_tempaugNO_batchsize8_f0/2021-03-01_12_46/model/model.h5\n",
      "26/26 [==============================] - 30s 1s/step - loss: 1.1580 - mse_wrapper: 0.0765 - ca_wrapper: 0.7751 - meandiff: 6.6827 - val_loss: 1.1878 - val_mse_wrapper: 0.0822 - val_ca_wrapper: 0.7374 - val_meandiff: 7.1094 - lr: 1.0000e-04\n",
      "Epoch 8/200\n",
      "26/26 [==============================] - ETA: 0s - loss: 1.1553 - mse_wrapper: 0.0779 - ca_wrapper: 0.7814 - meandiff: 6.4615"
     ]
    },
    {
     "name": "stderr",
     "output_type": "stream",
     "text": [
      "2021-03-01 12:51:58,078 INFO (4, 2, 36, 5)\n",
      "2021-03-01 12:51:58,584 INFO (4, 2, 36, 5)\n"
     ]
    },
    {
     "name": "stdout",
     "output_type": "stream",
     "text": [
      "\n",
      "Epoch 00008: loss improved from 1.15803 to 1.15532, saving model to exp/temp_conv1_NOmask_smooth02_NOtransp/8_64_64__8_3_3_tenc32_bndrop_conv1_CCE_smooth02_augNO_tempaugNO_batchsize8_f0/2021-03-01_12_46/model/model.h5\n",
      "26/26 [==============================] - 31s 1s/step - loss: 1.1553 - mse_wrapper: 0.0779 - ca_wrapper: 0.7814 - meandiff: 6.4615 - val_loss: 1.2374 - val_mse_wrapper: 0.0881 - val_ca_wrapper: 0.6853 - val_meandiff: 7.6406 - lr: 1.0000e-04\n",
      "Epoch 9/200\n",
      "26/26 [==============================] - ETA: 0s - loss: 1.1576 - mse_wrapper: 0.0793 - ca_wrapper: 0.7710 - meandiff: 6.5769\n",
      "Epoch 00009: loss did not improve from 1.15532\n",
      "26/26 [==============================] - 30s 1s/step - loss: 1.1576 - mse_wrapper: 0.0793 - ca_wrapper: 0.7710 - meandiff: 6.5769 - val_loss: 1.1624 - val_mse_wrapper: 0.0836 - val_ca_wrapper: 0.7556 - val_meandiff: 6.5156 - lr: 1.0000e-04\n",
      "Epoch 10/200\n",
      "13/26 [==============>...............] - ETA: 11s - loss: 1.1500 - mse_wrapper: 0.0804 - ca_wrapper: 0.7815 - meandiff: 6.5288"
     ]
    }
   ],
   "source": [
    "initial_epoch = 0\n",
    "\n",
    "results = model.fit(\n",
    "    x=batch_generator,\n",
    "    validation_data=validation_generator,\n",
    "    epochs=EPOCHS,\n",
    "    callbacks = get_callbacks(config, batch_generator,validation_generator),\n",
    "    initial_epoch=initial_epoch,\n",
    "    max_queue_size=12,\n",
    "    use_multiprocessing=False,\n",
    "    verbose=1)"
   ]
  },
  {
   "cell_type": "code",
   "execution_count": 15,
   "metadata": {
    "collapsed": true,
    "jupyter": {
     "outputs_hidden": true
    }
   },
   "outputs": [
    {
     "name": "stderr",
     "output_type": "stream",
     "text": [
      "[autoreload of src.utils.Metrics failed: Traceback (most recent call last):\n",
      "  File \"/home/sven/anaconda3/envs/dcmr/lib/python3.8/site-packages/IPython/extensions/autoreload.py\", line 245, in check\n",
      "    superreload(m, reload, self.old_objects)\n",
      "  File \"/home/sven/anaconda3/envs/dcmr/lib/python3.8/site-packages/IPython/extensions/autoreload.py\", line 394, in superreload\n",
      "    module = reload(module)\n",
      "  File \"/home/sven/anaconda3/envs/dcmr/lib/python3.8/imp.py\", line 314, in reload\n",
      "    return importlib.reload(module)\n",
      "  File \"/home/sven/anaconda3/envs/dcmr/lib/python3.8/importlib/__init__.py\", line 169, in reload\n",
      "    _bootstrap._exec(spec, module)\n",
      "  File \"<frozen importlib._bootstrap>\", line 604, in _exec\n",
      "  File \"<frozen importlib._bootstrap_external>\", line 779, in exec_module\n",
      "  File \"<frozen importlib._bootstrap_external>\", line 916, in get_code\n",
      "  File \"<frozen importlib._bootstrap_external>\", line 846, in source_to_code\n",
      "  File \"<frozen importlib._bootstrap>\", line 219, in _call_with_frames_removed\n",
      "  File \"/mnt/ssd/git/dynamic-cmr-models/src/utils/Metrics.py\", line 182\n",
      "    loss =\n",
      "         ^\n",
      "SyntaxError: invalid syntax\n",
      "]\n"
     ]
    }
   ],
   "source": [
    "# predict the files from globals()['inputs']\n",
    "pred = model(inputs, training=False)"
   ]
  },
  {
   "cell_type": "code",
   "execution_count": 50,
   "metadata": {},
   "outputs": [
    {
     "name": "stdout",
     "output_type": "stream",
     "text": [
      "(4,)\n",
      "(4, 36, 5)\n"
     ]
    },
    {
     "data": {
      "text/plain": [
       "(4, 2, 36, 5)"
      ]
     },
     "execution_count": 50,
     "metadata": {},
     "output_type": "execute_result"
    }
   ],
   "source": [
    "temp = np.array([23, 17, 24, 18])\n",
    "print(temp.shape)\n",
    "empty = np.ones((4,36,5))\n",
    "print(empty.shape)\n",
    "second = empty[:]\n",
    "second[:,0,0] = temp\n",
    "np.stack([empty, second], axis=1).shape"
   ]
  },
  {
   "cell_type": "code",
   "execution_count": 13,
   "metadata": {},
   "outputs": [
    {
     "name": "stdout",
     "output_type": "stream",
     "text": [
      "[[23  4  9 13 21]\n",
      " [ 0  5 10 15 17]\n",
      " [24  4  8 13 20]\n",
      " [ 0  6 12 17 18]]\n",
      "[23 17 24 18]\n"
     ]
    }
   ],
   "source": [
    "# get the true idx\n",
    "gt_idx = tf.math.argmax(outputs, axis=1).numpy()\n",
    "print(gt_idx)\n",
    "gt_max = gt_idx.max(axis=1).astype(int)\n",
    "print(gt_max)"
   ]
  },
  {
   "cell_type": "code",
   "execution_count": 13,
   "metadata": {},
   "outputs": [
    {
     "data": {
      "image/png": "[encoded data removed]",
      "text/plain": [
       "<Figure size 2880x288 with 16 Axes>"
      ]
     },
     "metadata": {
      "needs_background": "light"
     },
     "output_type": "display_data"
    }
   ],
   "source": [
    "from src.visualization.Visualize import show_phases, show_phases_transpose\n",
    "_ = show_phases_transpose(outputs,outputs)"
   ]
  },
  {
   "cell_type": "code",
   "execution_count": 11,
   "metadata": {},
   "outputs": [
    {
     "name": "stdout",
     "output_type": "stream",
     "text": [
      "gt_idx shape: (8, 5)\n",
      "pred_idx shape: (8, 5)\n",
      "filled shape: (8, 5)\n"
     ]
    },
    {
     "data": {
      "text/plain": [
       "0.0"
      ]
     },
     "execution_count": 11,
     "metadata": {},
     "output_type": "execute_result"
    }
   ],
   "source": [
    "# calculate the meandiff score for one batch\n",
    "from src.utils.Metrics import meandiff, meandiff_transpose\n",
    "score_fn = meandiff_transpose\n",
    "score_fn(outputs, outputs).numpy()"
   ]
  },
  {
   "cell_type": "code",
   "execution_count": 13,
   "metadata": {},
   "outputs": [
    {
     "name": "stdout",
     "output_type": "stream",
     "text": [
      "(8, 36, 5)\n",
      "(5, 36, 8)\n"
     ]
    },
    {
     "data": {
      "text/plain": [
       "<matplotlib.image.AxesImage at 0x7fc1504cb250>"
      ]
     },
     "execution_count": 13,
     "metadata": {},
     "output_type": "execute_result"
    },
    {
     "data": {
      "image/png": "[encoded data removed]",
      "text/plain": [
       "<Figure size 432x288 with 1 Axes>"
      ]
     },
     "metadata": {
      "needs_background": "light"
     },
     "output_type": "display_data"
    }
   ],
   "source": [
    "temp = outputs[:,0,...]\n",
    "print(temp.shape)\n",
    "print(temp.T.shape)\n",
    "plt.imshow(temp.T[0])"
   ]
  },
  {
   "cell_type": "code",
   "execution_count": 17,
   "metadata": {},
   "outputs": [
    {
     "data": {
      "text/plain": [
       "[<tf.Tensor: shape=(), dtype=float32, numpy=6.25>,\n",
       " <tf.Tensor: shape=(), dtype=float32, numpy=7.5>,\n",
       " <tf.Tensor: shape=(), dtype=float32, numpy=8.25>,\n",
       " <tf.Tensor: shape=(), dtype=float32, numpy=7.875>,\n",
       " <tf.Tensor: shape=(), dtype=float32, numpy=6.875>,\n",
       " <tf.Tensor: shape=(), dtype=float32, numpy=5.5>,\n",
       " <tf.Tensor: shape=(), dtype=float32, numpy=7.0>,\n",
       " <tf.Tensor: shape=(), dtype=float32, numpy=4.75>]"
      ]
     },
     "execution_count": 17,
     "metadata": {},
     "output_type": "execute_result"
    }
   ],
   "source": [
    "# calculate the meandiff score for all batches\n",
    "# calculate the meandiff score for one batch\n",
    "from src.utils.Metrics import meandiff\n",
    "score_fn = meandiff\n",
    "scores = []\n",
    "for batch in validation_generator:\n",
    "    x,y = batch\n",
    "    p = model(x)\n",
    "    scores.append(score_fn(y,p))\n",
    "scores"
   ]
  },
  {
   "cell_type": "code",
   "execution_count": 18,
   "metadata": {},
   "outputs": [
    {
     "data": {
      "text/plain": [
       "6.75"
      ]
     },
     "execution_count": 18,
     "metadata": {},
     "output_type": "execute_result"
    }
   ],
   "source": [
    "tf.reduce_mean(scores).numpy()"
   ]
  },
  {
   "cell_type": "markdown",
   "metadata": {},
   "source": [
    "# Generator tests"
   ]
  },
  {
   "cell_type": "code",
   "execution_count": 16,
   "metadata": {
    "collapsed": true,
    "jupyter": {
     "outputs_hidden": true
    }
   },
   "outputs": [
    {
     "data": {
      "image/png": "[encoded data removed]",
      "text/plain": [
       "<IPython.core.display.Image object>"
      ]
     },
     "execution_count": 16,
     "metadata": {},
     "output_type": "execute_result"
    }
   ],
   "source": [
    "tf.keras.utils.plot_model(\n",
    "    model, show_shapes=False,\n",
    "    show_layer_names=True, rankdir='TB', expand_nested=True, dpi=96\n",
    ")"
   ]
  },
  {
   "cell_type": "code",
   "execution_count": 19,
   "metadata": {},
   "outputs": [
    {
     "data": {
      "text/plain": [
       "1.75"
      ]
     },
     "execution_count": 19,
     "metadata": {},
     "output_type": "execute_result"
    }
   ],
   "source": [
    "score_fn = meandiff_\n",
    "score_fn(outputs, pred).numpy()"
   ]
  },
  {
   "cell_type": "code",
   "execution_count": null,
   "metadata": {},
   "outputs": [],
   "source": [
    "onehot = np.array([[1,0,0,0,0,0,0,0,0,0,0,0,0,0,0],\n",
    " [0,0,0,1,0,0,0,0,0,0,0,0,0,0,0],\n",
    " [0,0,0,0,0,0,0,1,0,0,0,0,0,0,0],\n",
    " [0,0,0,0,0,0,0,0,0,0,0,1,0,0,0],\n",
    " [0,0,0,0,0,0,0,0,0,0,0,0,0,0,1]])"
   ]
  },
  {
   "cell_type": "code",
   "execution_count": null,
   "metadata": {},
   "outputs": [],
   "source": [
    "onehot.shape"
   ]
  },
  {
   "cell_type": "code",
   "execution_count": null,
   "metadata": {},
   "outputs": [],
   "source": [
    "onehot_t = onehot.T\n",
    "onehot_t.shape\n",
    "onehot_t"
   ]
  },
  {
   "cell_type": "code",
   "execution_count": null,
   "metadata": {},
   "outputs": [],
   "source": [
    "print(np.argmax(onehot, axis=1))\n",
    "print(np.argmax(onehot_t, axis=0))"
   ]
  },
  {
   "cell_type": "code",
   "execution_count": null,
   "metadata": {},
   "outputs": [],
   "source": [
    "# iterate over the phases j\n",
    "# linspace from i to i+1 from indices\n",
    "temp = onehot_t[:,0].astype(float)\n",
    "i = 0\n",
    "j = 3 + 1\n",
    "temp[i:j] = np.linspace(i,j,j-i)\n",
    "temp"
   ]
  },
  {
   "cell_type": "code",
   "execution_count": null,
   "metadata": {},
   "outputs": [],
   "source": [
    "onehot_t = onehot_t.astype(float)\n",
    "indices = np.argmax(onehot_t, axis=0)\n",
    "for i in range(onehot_t.shape[1]) :\n",
    "    start = indices[i]\n",
    "    # make it a ring\n",
    "    second = (i+1)%len(indices)\n",
    "    end = indices[second]\n",
    "    onehot_t[start:end,i] = np.linspace(1,0,int(end-start))\n",
    "onehot_t\n",
    "             \n",
    "    "
   ]
  },
  {
   "cell_type": "code",
   "execution_count": null,
   "metadata": {},
   "outputs": [],
   "source": [
    "plt.imshow(temp)"
   ]
  },
  {
   "cell_type": "code",
   "execution_count": null,
   "metadata": {},
   "outputs": [],
   "source": [
    "plt.imshow(temp.T)"
   ]
  },
  {
   "cell_type": "code",
   "execution_count": null,
   "metadata": {},
   "outputs": [],
   "source": [
    "%%timeit\n",
    "temp.mean()"
   ]
  },
  {
   "cell_type": "code",
   "execution_count": null,
   "metadata": {},
   "outputs": [],
   "source": [
    "%%timeit\n",
    "np.mean(temp)"
   ]
  },
  {
   "cell_type": "code",
   "execution_count": null,
   "metadata": {},
   "outputs": [],
   "source": [
    "np.linspace(-1,1,10)"
   ]
  },
  {
   "cell_type": "code",
   "execution_count": null,
   "metadata": {},
   "outputs": [],
   "source": []
  }
 ],
 "metadata": {
  "kernelspec": {
   "display_name": "dcmr",
   "language": "python",
   "name": "dcmr"
  },
  "language_info": {
   "codemirror_mode": {
    "name": "ipython",
    "version": 3
   },
   "file_extension": ".py",
   "mimetype": "text/x-python",
   "name": "python",
   "nbconvert_exporter": "python",
   "pygments_lexer": "ipython3",
   "version": "3.8.5"
  },
  "widgets": {
   "application/vnd.jupyter.widget-state+json": {
    "state": {
     "003947dc4f5042429e316364e76c8b43": {
      "model_module": "@jupyter-widgets/output",
      "model_module_version": "1.0.0",
      "model_name": "OutputModel",
      "state": {
       "layout": "IPY_MODEL_676a982b878640a6ad24c6bb050931fe",
       "outputs": [
        {
         "data": {
          "text/html": "<div>\n<style scoped>\n    .dataframe tbody tr th:only-of-type {\n        vertical-align: middle;\n    }\n\n    .dataframe tbody tr th {\n        vertical-align: top;\n    }\n\n    .dataframe thead th {\n        text-align: right;\n    }\n</style>\n<table border=\"1\" class=\"dataframe\">\n  <thead>\n    <tr style=\"text-align: right;\">\n      <th></th>\n      <th>patient</th>\n      <th>ED#</th>\n      <th>MS#</th>\n      <th>ES#</th>\n      <th>PF#</th>\n      <th>MD#</th>\n    </tr>\n  </thead>\n  <tbody>\n    <tr>\n      <th>0</th>\n      <td>02Z1L14N</td>\n      <td>14.0</td>\n      <td>3.0</td>\n      <td>6.0</td>\n      <td>8.0</td>\n      <td>12.0</td>\n    </tr>\n    <tr>\n      <th>1</th>\n      <td>02Z1L14N</td>\n      <td>14.0</td>\n      <td>3.0</td>\n      <td>6.0</td>\n      <td>8.0</td>\n      <td>12.0</td>\n    </tr>\n    <tr>\n      <th>2</th>\n      <td>02Z1L14N</td>\n      <td>14.0</td>\n      <td>3.0</td>\n      <td>6.0</td>\n      <td>8.0</td>\n      <td>12.0</td>\n    </tr>\n    <tr>\n      <th>3</th>\n      <td>02Z1L14N</td>\n      <td>14.0</td>\n      <td>3.0</td>\n      <td>6.0</td>\n      <td>8.0</td>\n      <td>12.0</td>\n    </tr>\n    <tr>\n      <th>4</th>\n      <td>02Z1L14N</td>\n      <td>14.0</td>\n      <td>3.0</td>\n      <td>6.0</td>\n      <td>8.0</td>\n      <td>12.0</td>\n    </tr>\n    <tr>\n      <th>...</th>\n      <td>...</td>\n      <td>...</td>\n      <td>...</td>\n      <td>...</td>\n      <td>...</td>\n      <td>...</td>\n    </tr>\n    <tr>\n      <th>1385</th>\n      <td>ZZQ0001Q</td>\n      <td>1.0</td>\n      <td>5.0</td>\n      <td>10.0</td>\n      <td>14.0</td>\n      <td>19.0</td>\n    </tr>\n    <tr>\n      <th>1386</th>\n      <td>ZZQ0001Q</td>\n      <td>1.0</td>\n      <td>5.0</td>\n      <td>10.0</td>\n      <td>14.0</td>\n      <td>19.0</td>\n    </tr>\n    <tr>\n      <th>1387</th>\n      <td>ZZQ0001Q</td>\n      <td>1.0</td>\n      <td>5.0</td>\n      <td>10.0</td>\n      <td>14.0</td>\n      <td>19.0</td>\n    </tr>\n    <tr>\n      <th>1388</th>\n      <td>ZZQ0001Q</td>\n      <td>1.0</td>\n      <td>5.0</td>\n      <td>10.0</td>\n      <td>14.0</td>\n      <td>19.0</td>\n    </tr>\n    <tr>\n      <th>1389</th>\n      <td>ZZQ0001Q</td>\n      <td>1.0</td>\n      <td>5.0</td>\n      <td>10.0</td>\n      <td>14.0</td>\n      <td>19.0</td>\n    </tr>\n  </tbody>\n</table>\n<p>1390 rows × 6 columns</p>\n</div>",
          "text/plain": "       patient   ED#  MS#   ES#   PF#   MD#\n0     02Z1L14N  14.0  3.0   6.0   8.0  12.0\n1     02Z1L14N  14.0  3.0   6.0   8.0  12.0\n2     02Z1L14N  14.0  3.0   6.0   8.0  12.0\n3     02Z1L14N  14.0  3.0   6.0   8.0  12.0\n4     02Z1L14N  14.0  3.0   6.0   8.0  12.0\n...        ...   ...  ...   ...   ...   ...\n1385  ZZQ0001Q   1.0  5.0  10.0  14.0  19.0\n1386  ZZQ0001Q   1.0  5.0  10.0  14.0  19.0\n1387  ZZQ0001Q   1.0  5.0  10.0  14.0  19.0\n1388  ZZQ0001Q   1.0  5.0  10.0  14.0  19.0\n1389  ZZQ0001Q   1.0  5.0  10.0  14.0  19.0\n\n[1390 rows x 6 columns]"
         },
         "metadata": {},
         "output_type": "display_data"
        }
       ]
      }
     },
     "16a89270f13c465a8387a75a7474bd6e": {
      "model_module": "@jupyter-widgets/controls",
      "model_module_version": "1.5.0",
      "model_name": "SliderStyleModel",
      "state": {
       "description_width": ""
      }
     },
     "17c62390e46e48d2ae96175ca96dea3f": {
      "model_module": "@jupyter-widgets/controls",
      "model_module_version": "1.5.0",
      "model_name": "DescriptionStyleModel",
      "state": {
       "description_width": ""
      }
     },
     "1b026036eb644db8a445891a8c1b6366": {
      "model_module": "@jupyter-widgets/base",
      "model_module_version": "1.2.0",
      "model_name": "LayoutModel",
      "state": {}
     },
     "234e6b4db2e0400ebc7e83f5d5870b11": {
      "model_module": "@jupyter-widgets/controls",
      "model_module_version": "1.5.0",
      "model_name": "TextModel",
      "state": {
       "description": "search_str",
       "layout": "IPY_MODEL_963c600b25b44bef882181fb2853b743",
       "style": "IPY_MODEL_17c62390e46e48d2ae96175ca96dea3f"
      }
     },
     "2c79dae681eb4ea68cadf7f926dea57f": {
      "model_module": "@jupyter-widgets/controls",
      "model_module_version": "1.5.0",
      "model_name": "VBoxModel",
      "state": {
       "_dom_classes": [
        "widget-interact"
       ],
       "children": [
        "IPY_MODEL_a7f650d02a3c4779ab975a8d11e15081",
        "IPY_MODEL_961c3dba08cc4db0aa7825c5b3454bda",
        "IPY_MODEL_8ffcf35f4b4b446facbd10b191419c0b",
        "IPY_MODEL_b152d487a4664c91a6c8efbff9c2f915",
        "IPY_MODEL_b39976090cc24b18b3e281e038100f7d",
        "IPY_MODEL_3526b18111ac4323ae633f365d579d51",
        "IPY_MODEL_f49ddea03e2147d385af38039da1f1a1",
        "IPY_MODEL_db0dd5c1099f401fa8f7190a9761dee4",
        "IPY_MODEL_766d10f9f6814ae7b9e12db35c426b86",
        "IPY_MODEL_f0253526adf548dbbaf008fb460d6a26"
       ],
       "layout": "IPY_MODEL_32816d4184ff4f94baa8ab75954bcee1"
      }
     },
     "32816d4184ff4f94baa8ab75954bcee1": {
      "model_module": "@jupyter-widgets/base",
      "model_module_version": "1.2.0",
      "model_name": "LayoutModel",
      "state": {}
     },
     "34db094ebb1a4594b2c53a51ecb28a7e": {
      "model_module": "@jupyter-widgets/controls",
      "model_module_version": "1.5.0",
      "model_name": "DescriptionStyleModel",
      "state": {
       "description_width": ""
      }
     },
     "3526b18111ac4323ae633f365d579d51": {
      "model_module": "@jupyter-widgets/controls",
      "model_module_version": "1.5.0",
      "model_name": "TextModel",
      "state": {
       "description": "filename",
       "layout": "IPY_MODEL_1b026036eb644db8a445891a8c1b6366",
       "style": "IPY_MODEL_aa1f2c723a0c47ac95d02bade7e85792",
       "value": "temp_x.npy"
      }
     },
     "398cb521b02c4291b19e9cac6c844822": {
      "model_module": "@jupyter-widgets/base",
      "model_module_version": "1.2.0",
      "model_name": "LayoutModel",
      "state": {}
     },
     "585fe9e0cec14557a0a0de03ed6ab540": {
      "model_module": "@jupyter-widgets/base",
      "model_module_version": "1.2.0",
      "model_name": "LayoutModel",
      "state": {}
     },
     "5ed559c0cb70440180d0a75451b670a8": {
      "model_module": "@jupyter-widgets/base",
      "model_module_version": "1.2.0",
      "model_name": "LayoutModel",
      "state": {}
     },
     "608a9592c61f4e1cbdc995c81d20e3c2": {
      "model_module": "@jupyter-widgets/controls",
      "model_module_version": "1.5.0",
      "model_name": "VBoxModel",
      "state": {
       "_dom_classes": [
        "widget-interact"
       ],
       "children": [
        "IPY_MODEL_234e6b4db2e0400ebc7e83f5d5870b11",
        "IPY_MODEL_003947dc4f5042429e316364e76c8b43"
       ],
       "layout": "IPY_MODEL_585fe9e0cec14557a0a0de03ed6ab540"
      }
     },
     "676a982b878640a6ad24c6bb050931fe": {
      "model_module": "@jupyter-widgets/base",
      "model_module_version": "1.2.0",
      "model_name": "LayoutModel",
      "state": {}
     },
     "6812d9a3c2f5487b89890698446b27df": {
      "model_module": "@jupyter-widgets/base",
      "model_module_version": "1.2.0",
      "model_name": "LayoutModel",
      "state": {}
     },
     "763406dd0ff84c4d86002645abf3c986": {
      "model_module": "@jupyter-widgets/controls",
      "model_module_version": "1.5.0",
      "model_name": "DescriptionStyleModel",
      "state": {
       "description_width": ""
      }
     },
     "766d10f9f6814ae7b9e12db35c426b86": {
      "model_module": "@jupyter-widgets/controls",
      "model_module_version": "1.5.0",
      "model_name": "ButtonModel",
      "state": {
       "description": "Run Interact",
       "layout": "IPY_MODEL_d0040ffc614846578eca1b1dd0f68753",
       "style": "IPY_MODEL_f20481ad79434265b4b3306fb88c0a82"
      }
     },
     "8155e2bc8c1e47af90e67e786639bc55": {
      "model_module": "@jupyter-widgets/controls",
      "model_module_version": "1.5.0",
      "model_name": "DescriptionStyleModel",
      "state": {
       "description_width": ""
      }
     },
     "84a44fdecf4d4ce7afe4a9bd5ccb650d": {
      "model_module": "@jupyter-widgets/base",
      "model_module_version": "1.2.0",
      "model_name": "LayoutModel",
      "state": {}
     },
     "8547b4019aed423281e16f7a65cf4d63": {
      "model_module": "@jupyter-widgets/base",
      "model_module_version": "1.2.0",
      "model_name": "LayoutModel",
      "state": {}
     },
     "8ffcf35f4b4b446facbd10b191419c0b": {
      "model_module": "@jupyter-widgets/controls",
      "model_module_version": "1.5.0",
      "model_name": "IntSliderModel",
      "state": {
       "description": "slice_n",
       "layout": "IPY_MODEL_d8ea9630d85c47389d67b232b169383c",
       "max": 11,
       "min": 1,
       "style": "IPY_MODEL_16a89270f13c465a8387a75a7474bd6e",
       "value": 6
      }
     },
     "961c3dba08cc4db0aa7825c5b3454bda": {
      "model_module": "@jupyter-widgets/controls",
      "model_module_version": "1.5.0",
      "model_name": "IntSliderModel",
      "state": {
       "description": "im",
       "layout": "IPY_MODEL_b3b1231f6fcb4f668222e984c54c22ae",
       "max": 7,
       "style": "IPY_MODEL_ce3d3170fbcf48aabb77eeb945b78787",
       "value": 3
      }
     },
     "963c600b25b44bef882181fb2853b743": {
      "model_module": "@jupyter-widgets/base",
      "model_module_version": "1.2.0",
      "model_name": "LayoutModel",
      "state": {}
     },
     "a7f650d02a3c4779ab975a8d11e15081": {
      "model_module": "@jupyter-widgets/controls",
      "model_module_version": "1.5.0",
      "model_name": "IntSliderModel",
      "state": {
       "description": "batch",
       "layout": "IPY_MODEL_398cb521b02c4291b19e9cac6c844822",
       "max": 8,
       "style": "IPY_MODEL_ab9fc40fe80e4f399ce4f723f1f85daf",
       "value": 4
      }
     },
     "aa1f2c723a0c47ac95d02bade7e85792": {
      "model_module": "@jupyter-widgets/controls",
      "model_module_version": "1.5.0",
      "model_name": "DescriptionStyleModel",
      "state": {
       "description_width": ""
      }
     },
     "ab9fc40fe80e4f399ce4f723f1f85daf": {
      "model_module": "@jupyter-widgets/controls",
      "model_module_version": "1.5.0",
      "model_name": "SliderStyleModel",
      "state": {
       "description_width": ""
      }
     },
     "b152d487a4664c91a6c8efbff9c2f915": {
      "model_module": "@jupyter-widgets/controls",
      "model_module_version": "1.5.0",
      "model_name": "CheckboxModel",
      "state": {
       "description": "save",
       "disabled": false,
       "layout": "IPY_MODEL_6812d9a3c2f5487b89890698446b27df",
       "style": "IPY_MODEL_c4c52e11cd474e55a73b57ccab2f017b",
       "value": false
      }
     },
     "b16445bd81ae487d9071ae182c2eee30": {
      "model_module": "@jupyter-widgets/base",
      "model_module_version": "1.2.0",
      "model_name": "LayoutModel",
      "state": {}
     },
     "b39976090cc24b18b3e281e038100f7d": {
      "model_module": "@jupyter-widgets/controls",
      "model_module_version": "1.5.0",
      "model_name": "TextModel",
      "state": {
       "description": "filepath",
       "layout": "IPY_MODEL_b16445bd81ae487d9071ae182c2eee30",
       "style": "IPY_MODEL_8155e2bc8c1e47af90e67e786639bc55",
       "value": "data/temp/"
      }
     },
     "b3b1231f6fcb4f668222e984c54c22ae": {
      "model_module": "@jupyter-widgets/base",
      "model_module_version": "1.2.0",
      "model_name": "LayoutModel",
      "state": {}
     },
     "c4c52e11cd474e55a73b57ccab2f017b": {
      "model_module": "@jupyter-widgets/controls",
      "model_module_version": "1.5.0",
      "model_name": "DescriptionStyleModel",
      "state": {
       "description_width": ""
      }
     },
     "ce3d3170fbcf48aabb77eeb945b78787": {
      "model_module": "@jupyter-widgets/controls",
      "model_module_version": "1.5.0",
      "model_name": "SliderStyleModel",
      "state": {
       "description_width": ""
      }
     },
     "d0040ffc614846578eca1b1dd0f68753": {
      "model_module": "@jupyter-widgets/base",
      "model_module_version": "1.2.0",
      "model_name": "LayoutModel",
      "state": {}
     },
     "d8ea9630d85c47389d67b232b169383c": {
      "model_module": "@jupyter-widgets/base",
      "model_module_version": "1.2.0",
      "model_name": "LayoutModel",
      "state": {}
     },
     "db0dd5c1099f401fa8f7190a9761dee4": {
      "model_module": "@jupyter-widgets/controls",
      "model_module_version": "1.5.0",
      "model_name": "CheckboxModel",
      "state": {
       "description": "show_input_vol",
       "disabled": false,
       "layout": "IPY_MODEL_8547b4019aed423281e16f7a65cf4d63",
       "style": "IPY_MODEL_763406dd0ff84c4d86002645abf3c986",
       "value": false
      }
     },
     "f0253526adf548dbbaf008fb460d6a26": {
      "model_module": "@jupyter-widgets/output",
      "model_module_version": "1.0.0",
      "model_name": "OutputModel",
      "state": {
       "layout": "IPY_MODEL_84a44fdecf4d4ce7afe4a9bd5ccb650d"
      }
     },
     "f20481ad79434265b4b3306fb88c0a82": {
      "model_module": "@jupyter-widgets/controls",
      "model_module_version": "1.5.0",
      "model_name": "ButtonStyleModel",
      "state": {}
     },
     "f49ddea03e2147d385af38039da1f1a1": {
      "model_module": "@jupyter-widgets/controls",
      "model_module_version": "1.5.0",
      "model_name": "CheckboxModel",
      "state": {
       "description": "show_overview",
       "disabled": false,
       "layout": "IPY_MODEL_5ed559c0cb70440180d0a75451b670a8",
       "style": "IPY_MODEL_34db094ebb1a4594b2c53a51ecb28a7e",
       "value": true
      }
     }
    },
    "version_major": 2,
    "version_minor": 0
   }
  }
 },
 "nbformat": 4,
 "nbformat_minor": 4
}
