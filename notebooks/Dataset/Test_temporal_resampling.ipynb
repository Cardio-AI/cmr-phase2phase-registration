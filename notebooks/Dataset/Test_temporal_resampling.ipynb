{
 "cells": [
  {
   "cell_type": "code",
   "execution_count": 2,
   "id": "80bb27c3",
   "metadata": {},
   "outputs": [
    {
     "name": "stdout",
     "output_type": "stream",
     "text": [
      "search for root_dir and set working directory\n",
      "Working directory set to: /mnt/ssd/git/dynamic-cmr-models\n"
     ]
    },
    {
     "data": {
      "text/html": [
       "<style>.container { width:90% !important; }</style>"
      ],
      "text/plain": [
       "<IPython.core.display.HTML object>"
      ]
     },
     "metadata": {},
     "output_type": "display_data"
    },
    {
     "name": "stderr",
     "output_type": "stream",
     "text": [
      "2021-04-22 14:05:04,773 INFO -------------------- Start --------------------\n",
      "2021-04-22 14:05:04,773 INFO Working directory: /mnt/ssd/git/dynamic-cmr-models.\n",
      "2021-04-22 14:05:04,773 INFO Log file: ./logs/tests_temp_resampling.log\n",
      "2021-04-22 14:05:04,773 INFO Log level for console: INFO\n"
     ]
    },
    {
     "data": {
      "text/plain": [
       "<src.utils.Utils_io.Console_and_file_logger at 0x7f5046ad4f40>"
      ]
     },
     "execution_count": 2,
     "metadata": {},
     "output_type": "execute_result"
    }
   ],
   "source": [
    "# define logging and working directory\n",
    "from ProjectRoot import change_wd_to_project_root\n",
    "change_wd_to_project_root()\n",
    "from src.utils.Notebook_imports import *\n",
    "import random\n",
    "from collections import Counter\n",
    "import matplotlib.pyplot as plt\n",
    "plt.rcParams.update({'font.size': 30})\n",
    "import pandas as pd\n",
    "import numpy as np\n",
    "import os\n",
    "\n",
    "from ipywidgets import interact\n",
    "import ipywidgets as widgets\n",
    "from IPython.core.display import display, HTML\n",
    "display(HTML(\"<style>.container { width:90% !important; }</style>\"))\n",
    "%matplotlib inline\n",
    "%reload_ext autoreload\n",
    "%autoreload 2\n",
    "\n",
    "from src.utils.Utils_io import Console_and_file_logger, ensure_dir\n",
    "from src.visualization.Visualize import plot_3d_vol, plot_4d_vol, plot_value_histogram, my_autopct\n",
    "from src.data.Dataset import get_metadata_maybe, filter_4d_vol, copy_meta_and_save, create_3d_volumes_from_4d_files, describe_sitk, describe_volume, describe_path\n",
    "from src.data.Dataset import split_one_4d_sitk_in_list_of_3d_sitk\n",
    "from src.data.Dataset import copy_meta_and_save, get_patient\n",
    "from src.data.Preprocess import resample_3D\n",
    "Console_and_file_logger('tests_temp_resampling', logging.INFO)"
   ]
  },
  {
   "cell_type": "code",
   "execution_count": 3,
   "id": "fb24a8fa",
   "metadata": {},
   "outputs": [
    {
     "data": {
      "application/vnd.jupyter.widget-view+json": {
       "model_id": "c3e30bb815714469baf5cbe7fea2daf2",
       "version_major": 2,
       "version_minor": 0
      },
      "text/plain": [
       "FileChooser(path='/mnt/ssd/data/gcn/02_imported_4D_unfiltered', filename='', title='HTML(value='', layout=Layo…"
      ]
     },
     "metadata": {},
     "output_type": "display_data"
    }
   ],
   "source": [
    "from ipyfilechooser import FileChooser\n",
    "path_chooser = FileChooser(os.path.join(os.getcwd(),'/mnt/ssd/data/gcn/02_imported_4D_unfiltered/'), '')\n",
    "display(path_chooser)"
   ]
  },
  {
   "cell_type": "code",
   "execution_count": 4,
   "id": "f2b4312c",
   "metadata": {
    "pycharm": {
     "is_executing": false
    }
   },
   "outputs": [
    {
     "name": "stdout",
     "output_type": "stream",
     "text": [
      "279\n"
     ]
    }
   ],
   "source": [
    "img_path = path_chooser.selected\n",
    "path_ = os.path.join(img_path, '*clean.nrrd')\n",
    "files_ = sorted(glob.glob(path_))\n",
    "print(len(files_))"
   ]
  },
  {
   "cell_type": "code",
   "execution_count": 4,
   "id": "d2861043",
   "metadata": {},
   "outputs": [
    {
     "name": "stderr",
     "output_type": "stream",
     "text": [
      "2021-04-21 17:09:15,640 INFO (138, 192, 10, 14)\n",
      "2021-04-21 17:09:15,641 INFO (1.7708333333333, 1.7708333333333, 8.8, 45.0)\n"
     ]
    }
   ],
   "source": [
    "example = 0\n",
    "temp_f = files_[example]\n",
    "sitk_img = sitk.ReadImage(temp_f)\n",
    "info(sitk_img.GetSize())\n",
    "info(sitk_img.GetSpacing())"
   ]
  },
  {
   "cell_type": "code",
   "execution_count": 12,
   "id": "cca82c08",
   "metadata": {
    "tags": []
   },
   "outputs": [
    {
     "data": {
      "application/vnd.jupyter.widget-view+json": {
       "model_id": "369794cdbbd74ad59ca5af0daaedaeb6",
       "version_major": 2,
       "version_minor": 0
      },
      "text/plain": [
       "interactive(children=(IntSlider(value=139, description='example', max=278), IntSlider(value=30, description='t…"
      ]
     },
     "metadata": {},
     "output_type": "display_data"
    }
   ],
   "source": [
    "@interact_manual\n",
    "def resample_vol_along_t(example=(0,len(files_)-1), \n",
    "                          t_spacing=(5,55),\n",
    "                         int_img=[sitk.sitkNearestNeighbor, sitk.sitkLinear,sitk.sitkBSpline,sitk.sitkGaussian],\n",
    "                         int_msk=[sitk.sitkNearestNeighbor, sitk.sitkLinear,sitk.sitkBSpline,sitk.sitkLabelGaussian],\n",
    "                         plot_vol=False,\n",
    "                         plot_hist=False,\n",
    "                         save_=False,\n",
    "                        export_dir='/mnt/ssd/data/gcn/02_imported_4D_unfiltered/sax_t_res_18'):\n",
    "    global resampled\n",
    "    \n",
    "    temp_f = files_[example]\n",
    "    info(example)\n",
    "    info(temp_f)\n",
    "    temp_msk_f = temp_f.replace('clean', 'mask')\n",
    "    sitk_img = sitk.ReadImage(temp_f)\n",
    "    sitk_msk = sitk.ReadImage(temp_msk_f)\n",
    "    from src.data.Preprocess import resample_t_of_4d\n",
    "    \n",
    "    resampled_cmr_sitk = resample_t_of_4d(sitk_img, t_spacing=t_spacing,interpolation=int_img, ismask=False)\n",
    "    resampled_cmr_sitk = resample_t_of_4d(sitk_msk, t_spacing=t_spacing,interpolation=int_msk, ismask=True)\n",
    "    \n",
    "    patient = get_patient(temp_f)\n",
    "    cmr_export_f = '{}_clean.nrrd'.format(patient)\n",
    "    msk_export_f = '{}_mask.nrrd'.format(patient)\n",
    "    if save_:\n",
    "        ensure_dir(export_dir)\n",
    "        sitk.WriteImage(resampled_cmr_sitk, os.path.join(export_dir, cmr_export_f))\n",
    "        sitk.WriteImage(resampled_msk_sitk, os.path.join(export_dir, msk_export_f))\n",
    "    else:\n",
    "        return resampled_cmr_sitk"
   ]
  },
  {
   "cell_type": "code",
   "execution_count": 17,
   "id": "cd243512",
   "metadata": {
    "tags": []
   },
   "outputs": [
    {
     "name": "stderr",
     "output_type": "stream",
     "text": [
      "2021-04-22 14:30:07,492 INFO 0\n",
      "2021-04-22 14:30:07,493 INFO /mnt/ssd/data/gcn/02_imported_4D_unfiltered/sax/0000-02z1l14n_2006-11-09_volume_clean.nrrd\n",
      "2021-04-22 14:30:07,603 INFO 1\n",
      "2021-04-22 14:30:07,604 INFO /mnt/ssd/data/gcn/02_imported_4D_unfiltered/sax/0000-04nejquz_2007-03-13_volume_clean.nrrd\n",
      "2021-04-22 14:30:08,174 INFO 2\n",
      "2021-04-22 14:30:08,175 INFO /mnt/ssd/data/gcn/02_imported_4D_unfiltered/sax/0000-0ae4r74l_1900-01-01_volume_clean.nrrd\n",
      "2021-04-22 14:30:08,298 INFO 3\n",
      "2021-04-22 14:30:08,299 INFO /mnt/ssd/data/gcn/02_imported_4D_unfiltered/sax/0000-0hqqw4zn_2007-05-23_volume_clean.nrrd\n",
      "2021-04-22 14:30:08,664 INFO 4\n",
      "2021-04-22 14:30:08,665 INFO /mnt/ssd/data/gcn/02_imported_4D_unfiltered/sax/0000-0ptv75mp_2005-06-27_volume_clean.nrrd\n",
      "2021-04-22 14:30:08,957 INFO 5\n",
      "2021-04-22 14:30:08,957 INFO /mnt/ssd/data/gcn/02_imported_4D_unfiltered/sax/0000-0rpellu8_2007-02-13_volume_clean.nrrd\n",
      "2021-04-22 14:30:09,746 INFO 6\n",
      "2021-04-22 14:30:09,747 INFO /mnt/ssd/data/gcn/02_imported_4D_unfiltered/sax/0000-11yu3cuf_2007-12-10_volume_clean.nrrd\n",
      "2021-04-22 14:30:10,442 INFO 7\n",
      "2021-04-22 14:30:10,443 INFO /mnt/ssd/data/gcn/02_imported_4D_unfiltered/sax/0000-13jlp3hn_2007-05-22_volume_clean.nrrd\n",
      "2021-04-22 14:30:11,371 INFO 8\n",
      "2021-04-22 14:30:11,372 INFO /mnt/ssd/data/gcn/02_imported_4D_unfiltered/sax/0000-1drhf745_2005-09-01_volume_clean.nrrd\n",
      "2021-04-22 14:30:11,948 INFO 9\n",
      "2021-04-22 14:30:11,948 INFO /mnt/ssd/data/gcn/02_imported_4D_unfiltered/sax/0000-1e4pf7mr_2006-07-06_volume_clean.nrrd\n",
      "2021-04-22 14:30:12,486 INFO 0\n",
      "2021-04-22 14:30:12,487 INFO /mnt/ssd/data/gcn/02_imported_4D_unfiltered/sax/0000-02z1l14n_2006-11-09_volume_clean.nrrd\n",
      "2021-04-22 14:30:12,609 INFO 1\n",
      "2021-04-22 14:30:12,609 INFO /mnt/ssd/data/gcn/02_imported_4D_unfiltered/sax/0000-04nejquz_2007-03-13_volume_clean.nrrd\n",
      "2021-04-22 14:30:13,179 INFO 2\n",
      "2021-04-22 14:30:13,180 INFO /mnt/ssd/data/gcn/02_imported_4D_unfiltered/sax/0000-0ae4r74l_1900-01-01_volume_clean.nrrd\n",
      "2021-04-22 14:30:13,304 INFO 3\n",
      "2021-04-22 14:30:13,304 INFO /mnt/ssd/data/gcn/02_imported_4D_unfiltered/sax/0000-0hqqw4zn_2007-05-23_volume_clean.nrrd\n",
      "2021-04-22 14:30:13,670 INFO 4\n",
      "2021-04-22 14:30:13,670 INFO /mnt/ssd/data/gcn/02_imported_4D_unfiltered/sax/0000-0ptv75mp_2005-06-27_volume_clean.nrrd\n",
      "2021-04-22 14:30:13,958 INFO 5\n",
      "2021-04-22 14:30:13,959 INFO /mnt/ssd/data/gcn/02_imported_4D_unfiltered/sax/0000-0rpellu8_2007-02-13_volume_clean.nrrd\n",
      "2021-04-22 14:30:14,744 INFO 6\n",
      "2021-04-22 14:30:14,745 INFO /mnt/ssd/data/gcn/02_imported_4D_unfiltered/sax/0000-11yu3cuf_2007-12-10_volume_clean.nrrd\n",
      "2021-04-22 14:30:15,452 INFO 7\n",
      "2021-04-22 14:30:15,452 INFO /mnt/ssd/data/gcn/02_imported_4D_unfiltered/sax/0000-13jlp3hn_2007-05-22_volume_clean.nrrd\n",
      "2021-04-22 14:30:16,378 INFO 8\n",
      "2021-04-22 14:30:16,379 INFO /mnt/ssd/data/gcn/02_imported_4D_unfiltered/sax/0000-1drhf745_2005-09-01_volume_clean.nrrd\n",
      "2021-04-22 14:30:16,952 INFO 9\n",
      "2021-04-22 14:30:16,952 INFO /mnt/ssd/data/gcn/02_imported_4D_unfiltered/sax/0000-1e4pf7mr_2006-07-06_volume_clean.nrrd\n",
      "2021-04-22 14:30:17,484 INFO 0\n",
      "2021-04-22 14:30:17,485 INFO /mnt/ssd/data/gcn/02_imported_4D_unfiltered/sax/0000-02z1l14n_2006-11-09_volume_clean.nrrd\n",
      "2021-04-22 14:30:17,608 INFO 1\n",
      "2021-04-22 14:30:17,609 INFO /mnt/ssd/data/gcn/02_imported_4D_unfiltered/sax/0000-04nejquz_2007-03-13_volume_clean.nrrd\n",
      "2021-04-22 14:30:18,181 INFO 2\n",
      "2021-04-22 14:30:18,181 INFO /mnt/ssd/data/gcn/02_imported_4D_unfiltered/sax/0000-0ae4r74l_1900-01-01_volume_clean.nrrd\n",
      "2021-04-22 14:30:18,306 INFO 3\n",
      "2021-04-22 14:30:18,306 INFO /mnt/ssd/data/gcn/02_imported_4D_unfiltered/sax/0000-0hqqw4zn_2007-05-23_volume_clean.nrrd\n",
      "2021-04-22 14:30:18,675 INFO 4\n",
      "2021-04-22 14:30:18,675 INFO /mnt/ssd/data/gcn/02_imported_4D_unfiltered/sax/0000-0ptv75mp_2005-06-27_volume_clean.nrrd\n",
      "2021-04-22 14:30:18,963 INFO 5\n",
      "2021-04-22 14:30:18,963 INFO /mnt/ssd/data/gcn/02_imported_4D_unfiltered/sax/0000-0rpellu8_2007-02-13_volume_clean.nrrd\n",
      "2021-04-22 14:30:19,748 INFO 6\n",
      "2021-04-22 14:30:19,748 INFO /mnt/ssd/data/gcn/02_imported_4D_unfiltered/sax/0000-11yu3cuf_2007-12-10_volume_clean.nrrd\n",
      "2021-04-22 14:30:20,442 INFO 7\n",
      "2021-04-22 14:30:20,442 INFO /mnt/ssd/data/gcn/02_imported_4D_unfiltered/sax/0000-13jlp3hn_2007-05-22_volume_clean.nrrd\n",
      "2021-04-22 14:30:21,375 INFO 8\n",
      "2021-04-22 14:30:21,376 INFO /mnt/ssd/data/gcn/02_imported_4D_unfiltered/sax/0000-1drhf745_2005-09-01_volume_clean.nrrd\n",
      "2021-04-22 14:30:21,949 INFO 9\n",
      "2021-04-22 14:30:21,950 INFO /mnt/ssd/data/gcn/02_imported_4D_unfiltered/sax/0000-1e4pf7mr_2006-07-06_volume_clean.nrrd\n",
      "2021-04-22 14:30:22,485 INFO 0\n",
      "2021-04-22 14:30:22,486 INFO /mnt/ssd/data/gcn/02_imported_4D_unfiltered/sax/0000-02z1l14n_2006-11-09_volume_clean.nrrd\n",
      "2021-04-22 14:30:22,607 INFO 1\n",
      "2021-04-22 14:30:22,608 INFO /mnt/ssd/data/gcn/02_imported_4D_unfiltered/sax/0000-04nejquz_2007-03-13_volume_clean.nrrd\n",
      "2021-04-22 14:30:23,176 INFO 2\n",
      "2021-04-22 14:30:23,176 INFO /mnt/ssd/data/gcn/02_imported_4D_unfiltered/sax/0000-0ae4r74l_1900-01-01_volume_clean.nrrd\n",
      "2021-04-22 14:30:23,300 INFO 3\n",
      "2021-04-22 14:30:23,301 INFO /mnt/ssd/data/gcn/02_imported_4D_unfiltered/sax/0000-0hqqw4zn_2007-05-23_volume_clean.nrrd\n",
      "2021-04-22 14:30:23,664 INFO 4\n",
      "2021-04-22 14:30:23,665 INFO /mnt/ssd/data/gcn/02_imported_4D_unfiltered/sax/0000-0ptv75mp_2005-06-27_volume_clean.nrrd\n",
      "2021-04-22 14:30:23,955 INFO 5\n",
      "2021-04-22 14:30:23,956 INFO /mnt/ssd/data/gcn/02_imported_4D_unfiltered/sax/0000-0rpellu8_2007-02-13_volume_clean.nrrd\n",
      "2021-04-22 14:30:24,742 INFO 6\n",
      "2021-04-22 14:30:24,743 INFO /mnt/ssd/data/gcn/02_imported_4D_unfiltered/sax/0000-11yu3cuf_2007-12-10_volume_clean.nrrd\n",
      "2021-04-22 14:30:25,435 INFO 7\n",
      "2021-04-22 14:30:25,435 INFO /mnt/ssd/data/gcn/02_imported_4D_unfiltered/sax/0000-13jlp3hn_2007-05-22_volume_clean.nrrd\n",
      "2021-04-22 14:30:26,368 INFO 8\n",
      "2021-04-22 14:30:26,369 INFO /mnt/ssd/data/gcn/02_imported_4D_unfiltered/sax/0000-1drhf745_2005-09-01_volume_clean.nrrd\n",
      "2021-04-22 14:30:26,944 INFO 9\n",
      "2021-04-22 14:30:26,945 INFO /mnt/ssd/data/gcn/02_imported_4D_unfiltered/sax/0000-1e4pf7mr_2006-07-06_volume_clean.nrrd\n",
      "2021-04-22 14:30:27,480 INFO 0\n",
      "2021-04-22 14:30:27,481 INFO /mnt/ssd/data/gcn/02_imported_4D_unfiltered/sax/0000-02z1l14n_2006-11-09_volume_clean.nrrd\n",
      "2021-04-22 14:30:27,597 INFO 1\n",
      "2021-04-22 14:30:27,598 INFO /mnt/ssd/data/gcn/02_imported_4D_unfiltered/sax/0000-04nejquz_2007-03-13_volume_clean.nrrd\n",
      "2021-04-22 14:30:28,170 INFO 2\n",
      "2021-04-22 14:30:28,170 INFO /mnt/ssd/data/gcn/02_imported_4D_unfiltered/sax/0000-0ae4r74l_1900-01-01_volume_clean.nrrd\n",
      "2021-04-22 14:30:28,294 INFO 3\n",
      "2021-04-22 14:30:28,294 INFO /mnt/ssd/data/gcn/02_imported_4D_unfiltered/sax/0000-0hqqw4zn_2007-05-23_volume_clean.nrrd\n",
      "2021-04-22 14:30:28,656 INFO 4\n",
      "2021-04-22 14:30:28,657 INFO /mnt/ssd/data/gcn/02_imported_4D_unfiltered/sax/0000-0ptv75mp_2005-06-27_volume_clean.nrrd\n",
      "2021-04-22 14:30:28,944 INFO 5\n",
      "2021-04-22 14:30:28,945 INFO /mnt/ssd/data/gcn/02_imported_4D_unfiltered/sax/0000-0rpellu8_2007-02-13_volume_clean.nrrd\n",
      "2021-04-22 14:30:29,729 INFO 6\n",
      "2021-04-22 14:30:29,729 INFO /mnt/ssd/data/gcn/02_imported_4D_unfiltered/sax/0000-11yu3cuf_2007-12-10_volume_clean.nrrd\n",
      "2021-04-22 14:30:30,420 INFO 7\n",
      "2021-04-22 14:30:30,420 INFO /mnt/ssd/data/gcn/02_imported_4D_unfiltered/sax/0000-13jlp3hn_2007-05-22_volume_clean.nrrd\n",
      "2021-04-22 14:30:31,351 INFO 8\n",
      "2021-04-22 14:30:31,352 INFO /mnt/ssd/data/gcn/02_imported_4D_unfiltered/sax/0000-1drhf745_2005-09-01_volume_clean.nrrd\n",
      "2021-04-22 14:30:31,928 INFO 9\n",
      "2021-04-22 14:30:31,928 INFO /mnt/ssd/data/gcn/02_imported_4D_unfiltered/sax/0000-1e4pf7mr_2006-07-06_volume_clean.nrrd\n",
      "2021-04-22 14:30:32,464 INFO 0\n",
      "2021-04-22 14:30:32,465 INFO /mnt/ssd/data/gcn/02_imported_4D_unfiltered/sax/0000-02z1l14n_2006-11-09_volume_clean.nrrd\n",
      "2021-04-22 14:30:32,592 INFO 1\n",
      "2021-04-22 14:30:32,593 INFO /mnt/ssd/data/gcn/02_imported_4D_unfiltered/sax/0000-04nejquz_2007-03-13_volume_clean.nrrd\n",
      "2021-04-22 14:30:33,163 INFO 2\n",
      "2021-04-22 14:30:33,163 INFO /mnt/ssd/data/gcn/02_imported_4D_unfiltered/sax/0000-0ae4r74l_1900-01-01_volume_clean.nrrd\n",
      "2021-04-22 14:30:33,288 INFO 3\n",
      "2021-04-22 14:30:33,289 INFO /mnt/ssd/data/gcn/02_imported_4D_unfiltered/sax/0000-0hqqw4zn_2007-05-23_volume_clean.nrrd\n",
      "2021-04-22 14:30:33,651 INFO 4\n",
      "2021-04-22 14:30:33,652 INFO /mnt/ssd/data/gcn/02_imported_4D_unfiltered/sax/0000-0ptv75mp_2005-06-27_volume_clean.nrrd\n",
      "2021-04-22 14:30:33,943 INFO 5\n",
      "2021-04-22 14:30:33,943 INFO /mnt/ssd/data/gcn/02_imported_4D_unfiltered/sax/0000-0rpellu8_2007-02-13_volume_clean.nrrd\n",
      "2021-04-22 14:30:34,726 INFO 6\n",
      "2021-04-22 14:30:34,727 INFO /mnt/ssd/data/gcn/02_imported_4D_unfiltered/sax/0000-11yu3cuf_2007-12-10_volume_clean.nrrd\n",
      "2021-04-22 14:30:35,427 INFO 7\n",
      "2021-04-22 14:30:35,427 INFO /mnt/ssd/data/gcn/02_imported_4D_unfiltered/sax/0000-13jlp3hn_2007-05-22_volume_clean.nrrd\n",
      "2021-04-22 14:30:36,366 INFO 8\n",
      "2021-04-22 14:30:36,367 INFO /mnt/ssd/data/gcn/02_imported_4D_unfiltered/sax/0000-1drhf745_2005-09-01_volume_clean.nrrd\n",
      "2021-04-22 14:30:36,942 INFO 9\n",
      "2021-04-22 14:30:36,943 INFO /mnt/ssd/data/gcn/02_imported_4D_unfiltered/sax/0000-1e4pf7mr_2006-07-06_volume_clean.nrrd\n",
      "2021-04-22 14:30:37,482 INFO 0\n",
      "2021-04-22 14:30:37,483 INFO /mnt/ssd/data/gcn/02_imported_4D_unfiltered/sax/0000-02z1l14n_2006-11-09_volume_clean.nrrd\n",
      "2021-04-22 14:30:37,617 INFO 1\n",
      "2021-04-22 14:30:37,617 INFO /mnt/ssd/data/gcn/02_imported_4D_unfiltered/sax/0000-04nejquz_2007-03-13_volume_clean.nrrd\n",
      "2021-04-22 14:30:38,199 INFO 2\n",
      "2021-04-22 14:30:38,199 INFO /mnt/ssd/data/gcn/02_imported_4D_unfiltered/sax/0000-0ae4r74l_1900-01-01_volume_clean.nrrd\n",
      "2021-04-22 14:30:38,324 INFO 3\n",
      "2021-04-22 14:30:38,325 INFO /mnt/ssd/data/gcn/02_imported_4D_unfiltered/sax/0000-0hqqw4zn_2007-05-23_volume_clean.nrrd\n",
      "2021-04-22 14:30:38,688 INFO 4\n",
      "2021-04-22 14:30:38,689 INFO /mnt/ssd/data/gcn/02_imported_4D_unfiltered/sax/0000-0ptv75mp_2005-06-27_volume_clean.nrrd\n",
      "2021-04-22 14:30:38,980 INFO 5\n",
      "2021-04-22 14:30:38,981 INFO /mnt/ssd/data/gcn/02_imported_4D_unfiltered/sax/0000-0rpellu8_2007-02-13_volume_clean.nrrd\n",
      "2021-04-22 14:30:39,764 INFO 6\n",
      "2021-04-22 14:30:39,765 INFO /mnt/ssd/data/gcn/02_imported_4D_unfiltered/sax/0000-11yu3cuf_2007-12-10_volume_clean.nrrd\n",
      "2021-04-22 14:30:40,460 INFO 7\n",
      "2021-04-22 14:30:40,461 INFO /mnt/ssd/data/gcn/02_imported_4D_unfiltered/sax/0000-13jlp3hn_2007-05-22_volume_clean.nrrd\n",
      "2021-04-22 14:30:41,390 INFO 8\n",
      "2021-04-22 14:30:41,391 INFO /mnt/ssd/data/gcn/02_imported_4D_unfiltered/sax/0000-1drhf745_2005-09-01_volume_clean.nrrd\n",
      "2021-04-22 14:30:41,966 INFO 9\n",
      "2021-04-22 14:30:41,966 INFO /mnt/ssd/data/gcn/02_imported_4D_unfiltered/sax/0000-1e4pf7mr_2006-07-06_volume_clean.nrrd\n",
      "2021-04-22 14:30:42,503 INFO 0\n",
      "2021-04-22 14:30:42,503 INFO /mnt/ssd/data/gcn/02_imported_4D_unfiltered/sax/0000-02z1l14n_2006-11-09_volume_clean.nrrd\n",
      "2021-04-22 14:30:42,627 INFO 1\n",
      "2021-04-22 14:30:42,627 INFO /mnt/ssd/data/gcn/02_imported_4D_unfiltered/sax/0000-04nejquz_2007-03-13_volume_clean.nrrd\n",
      "2021-04-22 14:30:43,199 INFO 2\n",
      "2021-04-22 14:30:43,200 INFO /mnt/ssd/data/gcn/02_imported_4D_unfiltered/sax/0000-0ae4r74l_1900-01-01_volume_clean.nrrd\n",
      "2021-04-22 14:30:43,325 INFO 3\n",
      "2021-04-22 14:30:43,325 INFO /mnt/ssd/data/gcn/02_imported_4D_unfiltered/sax/0000-0hqqw4zn_2007-05-23_volume_clean.nrrd\n",
      "2021-04-22 14:30:43,691 INFO 4\n",
      "2021-04-22 14:30:43,692 INFO /mnt/ssd/data/gcn/02_imported_4D_unfiltered/sax/0000-0ptv75mp_2005-06-27_volume_clean.nrrd\n",
      "2021-04-22 14:30:43,981 INFO 5\n",
      "2021-04-22 14:30:43,981 INFO /mnt/ssd/data/gcn/02_imported_4D_unfiltered/sax/0000-0rpellu8_2007-02-13_volume_clean.nrrd\n",
      "2021-04-22 14:30:44,765 INFO 6\n",
      "2021-04-22 14:30:44,765 INFO /mnt/ssd/data/gcn/02_imported_4D_unfiltered/sax/0000-11yu3cuf_2007-12-10_volume_clean.nrrd\n",
      "2021-04-22 14:30:45,458 INFO 7\n",
      "2021-04-22 14:30:45,458 INFO /mnt/ssd/data/gcn/02_imported_4D_unfiltered/sax/0000-13jlp3hn_2007-05-22_volume_clean.nrrd\n",
      "2021-04-22 14:30:46,392 INFO 8\n",
      "2021-04-22 14:30:46,393 INFO /mnt/ssd/data/gcn/02_imported_4D_unfiltered/sax/0000-1drhf745_2005-09-01_volume_clean.nrrd\n",
      "2021-04-22 14:30:46,969 INFO 9\n",
      "2021-04-22 14:30:46,970 INFO /mnt/ssd/data/gcn/02_imported_4D_unfiltered/sax/0000-1e4pf7mr_2006-07-06_volume_clean.nrrd\n"
     ]
    },
    {
     "name": "stdout",
     "output_type": "stream",
     "text": [
      "5 s ± 11.9 ms per loop (mean ± std. dev. of 7 runs, 1 loop each)\n"
     ]
    }
   ],
   "source": [
    "%%timeit\n",
    "# resample the temporal ais of all 4D volumes\n",
    "params = {\n",
    "    't_spacing':18,\n",
    "    'int_img':sitk.sitkLinear,\n",
    "    'int_msk':sitk.sitkNearestNeighbor,\n",
    "    'plot_vol':False,\n",
    "    'plot_hist':False,\n",
    "    'save_':False,\n",
    "    'export_dir':'/mnt/ssd/data/gcn/02_imported_4D_unfiltered/sax_t_res_18'\n",
    "}\n",
    "\n",
    "list(map(lambda x : resample_vol_along_t(example=x, **params), range(10)))"
   ]
  },
  {
   "cell_type": "code",
   "execution_count": null,
   "id": "f9d63b24",
   "metadata": {},
   "outputs": [],
   "source": []
  }
 ],
 "metadata": {
  "kernelspec": {
   "display_name": "dcmr",
   "language": "python",
   "name": "dcmr"
  },
  "language_info": {
   "codemirror_mode": {
    "name": "ipython",
    "version": 3
   },
   "file_extension": ".py",
   "mimetype": "text/x-python",
   "name": "python",
   "nbconvert_exporter": "python",
   "pygments_lexer": "ipython3",
   "version": "3.8.5"
  },
  "widgets": {
   "application/vnd.jupyter.widget-state+json": {
    "state": {
     "01f5f8ccdbae4c0b9a69df55afb52029": {
      "model_module": "@jupyter-widgets/controls",
      "model_module_version": "1.5.0",
      "model_name": "DescriptionStyleModel",
      "state": {
       "description_width": ""
      }
     },
     "02747c50e51043c580043a26f198a3a2": {
      "model_module": "@jupyter-widgets/controls",
      "model_module_version": "1.5.0",
      "model_name": "CheckboxModel",
      "state": {
       "description": "plot_hist",
       "disabled": false,
       "layout": "IPY_MODEL_db9d78a0a07042fdaabd6358a584e567",
       "style": "IPY_MODEL_3913ac97b48b4945b6cc8e8c9e98f1ae",
       "value": false
      }
     },
     "02fffea616c44454a7d781795ec4bbfa": {
      "model_module": "@jupyter-widgets/controls",
      "model_module_version": "1.5.0",
      "model_name": "SliderStyleModel",
      "state": {
       "description_width": ""
      }
     },
     "0830aa2c83994ed088eb9615e598ca8d": {
      "model_module": "@jupyter-widgets/controls",
      "model_module_version": "1.5.0",
      "model_name": "DescriptionStyleModel",
      "state": {
       "description_width": ""
      }
     },
     "088d2197578f496fb706644a74846485": {
      "model_module": "@jupyter-widgets/controls",
      "model_module_version": "1.5.0",
      "model_name": "DescriptionStyleModel",
      "state": {
       "description_width": ""
      }
     },
     "0ae61f976d23405ebc2a73a4d51bf33e": {
      "model_module": "@jupyter-widgets/base",
      "model_module_version": "1.2.0",
      "model_name": "LayoutModel",
      "state": {}
     },
     "0ca7c41d5fdb4547bf24b548b4146674": {
      "model_module": "@jupyter-widgets/controls",
      "model_module_version": "1.5.0",
      "model_name": "IntSliderModel",
      "state": {
       "description": "t_spacing",
       "layout": "IPY_MODEL_d36f2bb843464d9894281870a7f113a2",
       "max": 55,
       "min": 5,
       "style": "IPY_MODEL_da9269a041d243ec8b56b561c5a39635",
       "value": 18
      }
     },
     "0dc456eaa3474be49e505c7619456c35": {
      "model_module": "@jupyter-widgets/controls",
      "model_module_version": "1.5.0",
      "model_name": "CheckboxModel",
      "state": {
       "description": "save_",
       "disabled": false,
       "layout": "IPY_MODEL_cfa6d50b77ce45928005d48dda930388",
       "style": "IPY_MODEL_79aaa2657ff54640b58512521afcbc7a",
       "value": false
      }
     },
     "0ec59daa0d134758aa73bd81151b5931": {
      "model_module": "@jupyter-widgets/base",
      "model_module_version": "1.2.0",
      "model_name": "LayoutModel",
      "state": {
       "grid_area": "pathlist",
       "width": "auto"
      }
     },
     "1084876e10574891a80a3582391830d7": {
      "model_module": "@jupyter-widgets/base",
      "model_module_version": "1.2.0",
      "model_name": "LayoutModel",
      "state": {}
     },
     "12f39f0a44de4dfb80d3287249336dbb": {
      "model_module": "@jupyter-widgets/controls",
      "model_module_version": "1.5.0",
      "model_name": "CheckboxModel",
      "state": {
       "description": "plot_hist",
       "disabled": false,
       "layout": "IPY_MODEL_20380fb5a632492aa24f67ddadf66617",
       "style": "IPY_MODEL_a27a8552e6c9426a9e8254bd13299bd7",
       "value": false
      }
     },
     "143c2ef8d0f34c408158071aa1dbb2f7": {
      "model_module": "@jupyter-widgets/base",
      "model_module_version": "1.2.0",
      "model_name": "LayoutModel",
      "state": {}
     },
     "174ba909e10d4fa4a69702334d56dde2": {
      "model_module": "@jupyter-widgets/base",
      "model_module_version": "1.2.0",
      "model_name": "LayoutModel",
      "state": {}
     },
     "184a5caa482a427c8a8c856d71487eb9": {
      "model_module": "@jupyter-widgets/controls",
      "model_module_version": "1.5.0",
      "model_name": "DescriptionStyleModel",
      "state": {
       "description_width": ""
      }
     },
     "1bdd6bbcce8c479a8cc7d7cc08070f69": {
      "model_module": "@jupyter-widgets/controls",
      "model_module_version": "1.5.0",
      "model_name": "IntSliderModel",
      "state": {
       "description": "t_spacing",
       "layout": "IPY_MODEL_0ae61f976d23405ebc2a73a4d51bf33e",
       "max": 55,
       "min": 5,
       "style": "IPY_MODEL_7b5f32be34a04b7ea4eb0006a1e2d008",
       "value": 18
      }
     },
     "1dd77cd2c9934bfc9b7646a006409d5e": {
      "model_module": "@jupyter-widgets/output",
      "model_module_version": "1.0.0",
      "model_name": "OutputModel",
      "state": {
       "layout": "IPY_MODEL_a316422c9e55437395fa6ee824164298",
       "outputs": [
        {
         "name": "stderr",
         "output_type": "stream",
         "text": "2021-04-22 14:15:13,810 INFO 40\n2021-04-22 14:15:13,812 INFO /mnt/ssd/data/gcn/02_imported_4D_unfiltered/sax/0000-3u3kt9lv_2006-12-19_volume_clean.nrrd\n2021-04-22 14:15:13,915 INFO 2D+t target size: (156, 192, 41)\n2021-04-22 14:15:14,022 INFO 2D+t target size: (156, 192, 41)\n2021-04-22 14:15:14,050 INFO idxs: [ 4  8 13 17 22]\n"
        },
        {
         "data": {
          "text/plain": "<SimpleITK.SimpleITK.Image; proxy of <Swig Object of type 'std::vector< itk::simple::Image >::value_type *' at 0x7f4fb96a6720> >"
         },
         "metadata": {},
         "output_type": "display_data"
        }
       ]
      }
     },
     "1e9e40f6430b4518af4a09bca3bc8263": {
      "model_module": "@jupyter-widgets/base",
      "model_module_version": "1.2.0",
      "model_name": "LayoutModel",
      "state": {}
     },
     "1eb93b95874e447f975cee807b194d44": {
      "model_module": "@jupyter-widgets/base",
      "model_module_version": "1.2.0",
      "model_name": "LayoutModel",
      "state": {
       "display": "none"
      }
     },
     "1f748d9a33184e7292004d7632ff255b": {
      "model_module": "@jupyter-widgets/base",
      "model_module_version": "1.2.0",
      "model_name": "LayoutModel",
      "state": {}
     },
     "20380fb5a632492aa24f67ddadf66617": {
      "model_module": "@jupyter-widgets/base",
      "model_module_version": "1.2.0",
      "model_name": "LayoutModel",
      "state": {}
     },
     "2063b1fd9d2a4508a0bc32e02f93b2e7": {
      "model_module": "@jupyter-widgets/base",
      "model_module_version": "1.2.0",
      "model_name": "LayoutModel",
      "state": {}
     },
     "21fc4702f8f140bfb9b76f36e101c4e4": {
      "model_module": "@jupyter-widgets/controls",
      "model_module_version": "1.5.0",
      "model_name": "CheckboxModel",
      "state": {
       "description": "save_",
       "disabled": false,
       "layout": "IPY_MODEL_4fa980442fee497cb1d7c401c06b6a0d",
       "style": "IPY_MODEL_9943ad45b80840db8ef846fe5f17af97",
       "value": false
      }
     },
     "236f2cca4a9d48b4bd063a6815d61cc5": {
      "model_module": "@jupyter-widgets/base",
      "model_module_version": "1.2.0",
      "model_name": "LayoutModel",
      "state": {}
     },
     "2463ea1554c84eb294440a010c1ed757": {
      "model_module": "@jupyter-widgets/base",
      "model_module_version": "1.2.0",
      "model_name": "LayoutModel",
      "state": {
       "grid_area": "dircontent",
       "width": "auto"
      }
     },
     "25d8274565464dca8285d3b4237a414f": {
      "model_module": "@jupyter-widgets/controls",
      "model_module_version": "1.5.0",
      "model_name": "DropdownModel",
      "state": {
       "_options_labels": [
        "1",
        "2",
        "3",
        "4"
       ],
       "description": "int_img",
       "index": 0,
       "layout": "IPY_MODEL_9fe56b8acca84734bd95fe922e1c705b",
       "style": "IPY_MODEL_184a5caa482a427c8a8c856d71487eb9"
      }
     },
     "27b3ece2aa2344bf965e13a9d6179592": {
      "model_module": "@jupyter-widgets/controls",
      "model_module_version": "1.5.0",
      "model_name": "TextModel",
      "state": {
       "description": "export_dir",
       "layout": "IPY_MODEL_e10556ab74e042a3984fdcdc6ff16800",
       "style": "IPY_MODEL_8c46c0f7eafa46a2b4710e5ea30a0125",
       "value": "/mnt/ssd/data/gcn/02_imported_4D_unfiltered/sax_t_res_18"
      }
     },
     "289fa67a11be48a094128990df66e4f0": {
      "model_module": "@jupyter-widgets/controls",
      "model_module_version": "1.5.0",
      "model_name": "DescriptionStyleModel",
      "state": {
       "description_width": ""
      }
     },
     "2a5455964edc4071975f24fb86d81c86": {
      "model_module": "@jupyter-widgets/base",
      "model_module_version": "1.2.0",
      "model_name": "LayoutModel",
      "state": {}
     },
     "2e5442a87c424fe3863ff39fafe5aeb8": {
      "model_module": "@jupyter-widgets/controls",
      "model_module_version": "1.5.0",
      "model_name": "SliderStyleModel",
      "state": {
       "description_width": ""
      }
     },
     "2edece37eaf34200b8c40e346ef5b631": {
      "model_module": "@jupyter-widgets/controls",
      "model_module_version": "1.5.0",
      "model_name": "SliderStyleModel",
      "state": {
       "description_width": ""
      }
     },
     "30a49a5f0a09438383c9afd21a44c72a": {
      "model_module": "@jupyter-widgets/controls",
      "model_module_version": "1.5.0",
      "model_name": "ButtonModel",
      "state": {
       "description": "Run Interact",
       "layout": "IPY_MODEL_c8ec03cfe7b74c8cb8f16c5d9146a00e",
       "style": "IPY_MODEL_5cedb87e7fde45238296ae263ec46005"
      }
     },
     "321011572df5450f8be4602aed09e36b": {
      "model_module": "@jupyter-widgets/controls",
      "model_module_version": "1.5.0",
      "model_name": "DescriptionStyleModel",
      "state": {
       "description_width": ""
      }
     },
     "32c2df22492c4759af71f94828a46670": {
      "model_module": "@jupyter-widgets/controls",
      "model_module_version": "1.5.0",
      "model_name": "HTMLModel",
      "state": {
       "layout": "IPY_MODEL_1eb93b95874e447f975cee807b194d44",
       "style": "IPY_MODEL_ecfdee979d3441aa9a1d2857766aa6e4"
      }
     },
     "345423fcd5694e05a40f24f0cb782d68": {
      "model_module": "@jupyter-widgets/controls",
      "model_module_version": "1.5.0",
      "model_name": "CheckboxModel",
      "state": {
       "description": "plot_vol",
       "disabled": false,
       "layout": "IPY_MODEL_8efa29d53a4642e7b938db159d6e54fe",
       "style": "IPY_MODEL_92f2fb335dbf46c696468d53480e4bcf",
       "value": false
      }
     },
     "35ba84fdc045470c9545d32eda47046c": {
      "model_module": "@jupyter-widgets/controls",
      "model_module_version": "1.5.0",
      "model_name": "GridBoxModel",
      "state": {
       "children": [
        "IPY_MODEL_9b80328dbad34cc69a4996deb2e0699d",
        "IPY_MODEL_e6239878c8f34319b3c4ba23eed08ca8",
        "IPY_MODEL_cc0f24baa4ba40a6a108e755176961d9"
       ],
       "layout": "IPY_MODEL_f74ee977e0c34833a1d77f1452a7b767"
      }
     },
     "363a148be1ff49128daf178f8a000eee": {
      "model_module": "@jupyter-widgets/controls",
      "model_module_version": "1.5.0",
      "model_name": "IntSliderModel",
      "state": {
       "description": "example",
       "layout": "IPY_MODEL_927cbfba995143c09d2b966dbe58ab24",
       "max": 278,
       "style": "IPY_MODEL_50eaf34214eb480780a2cb10d4c66241",
       "value": 139
      }
     },
     "3655ad195ddb4c8183b0342db159d173": {
      "model_module": "@jupyter-widgets/base",
      "model_module_version": "1.2.0",
      "model_name": "LayoutModel",
      "state": {}
     },
     "369794cdbbd74ad59ca5af0daaedaeb6": {
      "model_module": "@jupyter-widgets/controls",
      "model_module_version": "1.5.0",
      "model_name": "VBoxModel",
      "state": {
       "_dom_classes": [
        "widget-interact"
       ],
       "children": [
        "IPY_MODEL_715aff2ade704b7a8dd7aa4280c2b1b1",
        "IPY_MODEL_d13b0aa842a141e889e0a415efe6c038",
        "IPY_MODEL_25d8274565464dca8285d3b4237a414f",
        "IPY_MODEL_ced0219a61204df78d106e378c2427e0",
        "IPY_MODEL_898003bbd63648e683cc8e7e5e9d38b4",
        "IPY_MODEL_12f39f0a44de4dfb80d3287249336dbb",
        "IPY_MODEL_0dc456eaa3474be49e505c7619456c35",
        "IPY_MODEL_3ed3e865447e473b9cfe9e963cd70cdf",
        "IPY_MODEL_30a49a5f0a09438383c9afd21a44c72a",
        "IPY_MODEL_bc405d91023a436e96e71725b9769215"
       ],
       "layout": "IPY_MODEL_1084876e10574891a80a3582391830d7"
      }
     },
     "374e889cbac648dcad6bf3f8edcd0c73": {
      "model_module": "@jupyter-widgets/controls",
      "model_module_version": "1.5.0",
      "model_name": "IntSliderModel",
      "state": {
       "description": "example",
       "layout": "IPY_MODEL_fd7e343fbb9847a191ebad70063ef3a2",
       "max": 278,
       "style": "IPY_MODEL_2e5442a87c424fe3863ff39fafe5aeb8",
       "value": 40
      }
     },
     "37978e30dd34487d996b3ff856c02d70": {
      "model_module": "@jupyter-widgets/base",
      "model_module_version": "1.2.0",
      "model_name": "LayoutModel",
      "state": {}
     },
     "3913ac97b48b4945b6cc8e8c9e98f1ae": {
      "model_module": "@jupyter-widgets/controls",
      "model_module_version": "1.5.0",
      "model_name": "DescriptionStyleModel",
      "state": {
       "description_width": ""
      }
     },
     "397611b90f5c4309b32b173f72188de4": {
      "model_module": "@jupyter-widgets/base",
      "model_module_version": "1.2.0",
      "model_name": "LayoutModel",
      "state": {}
     },
     "3ad01d04526f43718df2dc7aa5da8d95": {
      "model_module": "@jupyter-widgets/controls",
      "model_module_version": "1.5.0",
      "model_name": "ButtonStyleModel",
      "state": {}
     },
     "3d4d965d7c1a469b8ed831d739cf0478": {
      "model_module": "@jupyter-widgets/controls",
      "model_module_version": "1.5.0",
      "model_name": "ButtonStyleModel",
      "state": {}
     },
     "3ed3e865447e473b9cfe9e963cd70cdf": {
      "model_module": "@jupyter-widgets/controls",
      "model_module_version": "1.5.0",
      "model_name": "TextModel",
      "state": {
       "description": "export_dir",
       "layout": "IPY_MODEL_236f2cca4a9d48b4bd063a6815d61cc5",
       "style": "IPY_MODEL_088d2197578f496fb706644a74846485",
       "value": "/mnt/ssd/data/gcn/02_imported_4D_unfiltered/sax_t_res_18"
      }
     },
     "3ee29e60023144028ab45d6ffb40638b": {
      "model_module": "@jupyter-widgets/base",
      "model_module_version": "1.2.0",
      "model_name": "LayoutModel",
      "state": {}
     },
     "4350ca2acf3e4e3bbfd1df7afb334cf0": {
      "model_module": "@jupyter-widgets/base",
      "model_module_version": "1.2.0",
      "model_name": "LayoutModel",
      "state": {}
     },
     "4433b56197b04d51a023ef963de4440f": {
      "model_module": "@jupyter-widgets/controls",
      "model_module_version": "1.5.0",
      "model_name": "HBoxModel",
      "state": {
       "children": [
        "IPY_MODEL_c5903ccaeae34cd2ac613cca2dc0bfb1",
        "IPY_MODEL_9771d22f4fac41e881a303c1779f7f0c",
        "IPY_MODEL_6829c75535d54646b1be2617284c85ad"
       ],
       "layout": "IPY_MODEL_4aa38972186240a5ad50e3cab02f260e"
      }
     },
     "45ecb834ee9c45e7bef4f92c809186a7": {
      "model_module": "@jupyter-widgets/controls",
      "model_module_version": "1.5.0",
      "model_name": "CheckboxModel",
      "state": {
       "description": "save_",
       "disabled": false,
       "layout": "IPY_MODEL_ac287183e0cb46da8c2198c3c289e280",
       "style": "IPY_MODEL_321011572df5450f8be4602aed09e36b",
       "value": false
      }
     },
     "46c0f0c88fec47029701c3c0f4684016": {
      "model_module": "@jupyter-widgets/base",
      "model_module_version": "1.2.0",
      "model_name": "LayoutModel",
      "state": {}
     },
     "47c928fd52e944658c0a0f20c33b9041": {
      "model_module": "@jupyter-widgets/base",
      "model_module_version": "1.2.0",
      "model_name": "LayoutModel",
      "state": {}
     },
     "47c9b979991d4e48a98054f5ec414dd3": {
      "model_module": "@jupyter-widgets/controls",
      "model_module_version": "1.5.0",
      "model_name": "IntSliderModel",
      "state": {
       "description": "t_spacing",
       "layout": "IPY_MODEL_5c2f79a96a904880929fa637dc1f739a",
       "max": 55,
       "min": 5,
       "style": "IPY_MODEL_ccf9f83be4e640d88c43dd6928c539ef",
       "value": 18
      }
     },
     "4aa38972186240a5ad50e3cab02f260e": {
      "model_module": "@jupyter-widgets/base",
      "model_module_version": "1.2.0",
      "model_name": "LayoutModel",
      "state": {
       "width": "auto"
      }
     },
     "4aa86e3d2e4c41f781b83030af2026f6": {
      "model_module": "@jupyter-widgets/controls",
      "model_module_version": "1.5.0",
      "model_name": "CheckboxModel",
      "state": {
       "description": "plot_vol",
       "disabled": false,
       "layout": "IPY_MODEL_174ba909e10d4fa4a69702334d56dde2",
       "style": "IPY_MODEL_0830aa2c83994ed088eb9615e598ca8d",
       "value": false
      }
     },
     "4cd48a529e4d41ae94262c365529bd6d": {
      "model_module": "@jupyter-widgets/controls",
      "model_module_version": "1.5.0",
      "model_name": "CheckboxModel",
      "state": {
       "description": "plot_hist",
       "disabled": false,
       "layout": "IPY_MODEL_f9476d42c2c04213a523b427ca71487f",
       "style": "IPY_MODEL_c9bbaa1ebe7c46b5be91fea8f924560f",
       "value": false
      }
     },
     "4ef10f7fbf56430babab866e71db6123": {
      "model_module": "@jupyter-widgets/controls",
      "model_module_version": "1.5.0",
      "model_name": "TextModel",
      "state": {
       "description": "export_dir",
       "layout": "IPY_MODEL_56de79f89c32427f8758634e6739409a",
       "style": "IPY_MODEL_f92996c078514c3996f5b4c6d46350d7",
       "value": "/mnt/ssd/data/gcn/02_imported_4D_unfiltered/sax_t_res_18"
      }
     },
     "4fa980442fee497cb1d7c401c06b6a0d": {
      "model_module": "@jupyter-widgets/base",
      "model_module_version": "1.2.0",
      "model_name": "LayoutModel",
      "state": {}
     },
     "500ce22fbaf14b7c900c192370b85fc8": {
      "model_module": "@jupyter-widgets/controls",
      "model_module_version": "1.5.0",
      "model_name": "DescriptionStyleModel",
      "state": {
       "description_width": ""
      }
     },
     "50eaf34214eb480780a2cb10d4c66241": {
      "model_module": "@jupyter-widgets/controls",
      "model_module_version": "1.5.0",
      "model_name": "SliderStyleModel",
      "state": {
       "description_width": ""
      }
     },
     "564f620d83e34887ae56c035ad90d4d9": {
      "model_module": "@jupyter-widgets/controls",
      "model_module_version": "1.5.0",
      "model_name": "CheckboxModel",
      "state": {
       "description": "plot_vol",
       "disabled": false,
       "layout": "IPY_MODEL_47c928fd52e944658c0a0f20c33b9041",
       "style": "IPY_MODEL_7d46655b90524b52824af6d8e211ae84",
       "value": false
      }
     },
     "56de79f89c32427f8758634e6739409a": {
      "model_module": "@jupyter-widgets/base",
      "model_module_version": "1.2.0",
      "model_name": "LayoutModel",
      "state": {}
     },
     "59740669bf654fadb4ecf59853a11c64": {
      "model_module": "@jupyter-widgets/controls",
      "model_module_version": "1.5.0",
      "model_name": "IntSliderModel",
      "state": {
       "description": "example",
       "layout": "IPY_MODEL_143c2ef8d0f34c408158071aa1dbb2f7",
       "max": 278,
       "style": "IPY_MODEL_02fffea616c44454a7d781795ec4bbfa",
       "value": 139
      }
     },
     "5a9a78fe7e5c44acb11a8582fb482bce": {
      "model_module": "@jupyter-widgets/base",
      "model_module_version": "1.2.0",
      "model_name": "LayoutModel",
      "state": {
       "width": "auto"
      }
     },
     "5af5faef2e9845ac9b2c20bc3f2e08cf": {
      "model_module": "@jupyter-widgets/controls",
      "model_module_version": "1.5.0",
      "model_name": "ButtonModel",
      "state": {
       "description": "Run Interact",
       "layout": "IPY_MODEL_397611b90f5c4309b32b173f72188de4",
       "style": "IPY_MODEL_5ed7f5b6a42f4b4cbae44d82b80ab397"
      }
     },
     "5b43d64eb38e4716b26390f0658647a1": {
      "model_module": "@jupyter-widgets/base",
      "model_module_version": "1.2.0",
      "model_name": "LayoutModel",
      "state": {}
     },
     "5c2f79a96a904880929fa637dc1f739a": {
      "model_module": "@jupyter-widgets/base",
      "model_module_version": "1.2.0",
      "model_name": "LayoutModel",
      "state": {}
     },
     "5c89164c90e244aab0668915c0a5dc21": {
      "model_module": "@jupyter-widgets/base",
      "model_module_version": "1.2.0",
      "model_name": "LayoutModel",
      "state": {}
     },
     "5ceb98259d6e42ec83bb1dfa075a783b": {
      "model_module": "@jupyter-widgets/controls",
      "model_module_version": "1.5.0",
      "model_name": "DescriptionStyleModel",
      "state": {
       "description_width": ""
      }
     },
     "5cedb87e7fde45238296ae263ec46005": {
      "model_module": "@jupyter-widgets/controls",
      "model_module_version": "1.5.0",
      "model_name": "ButtonStyleModel",
      "state": {}
     },
     "5d518fdc613c4c3587127a8bf6829122": {
      "model_module": "@jupyter-widgets/controls",
      "model_module_version": "1.5.0",
      "model_name": "SliderStyleModel",
      "state": {
       "description_width": ""
      }
     },
     "5ed7f5b6a42f4b4cbae44d82b80ab397": {
      "model_module": "@jupyter-widgets/controls",
      "model_module_version": "1.5.0",
      "model_name": "ButtonStyleModel",
      "state": {}
     },
     "5ed9871a6c1d4bdfa3344213679353ec": {
      "model_module": "@jupyter-widgets/controls",
      "model_module_version": "1.5.0",
      "model_name": "DropdownModel",
      "state": {
       "_options_labels": [
        "1",
        "2",
        "3",
        "4"
       ],
       "description": "int_img",
       "index": 0,
       "layout": "IPY_MODEL_7bd48297ee4749e4a586b9b9709b5f8b",
       "style": "IPY_MODEL_f7b3b59bb3094699897cb2e68f137c12"
      }
     },
     "62564261632644888cd87d9c63ea7dc6": {
      "model_module": "@jupyter-widgets/controls",
      "model_module_version": "1.5.0",
      "model_name": "VBoxModel",
      "state": {
       "_dom_classes": [
        "widget-interact"
       ],
       "children": [
        "IPY_MODEL_363a148be1ff49128daf178f8a000eee",
        "IPY_MODEL_47c9b979991d4e48a98054f5ec414dd3",
        "IPY_MODEL_ea64b1baa78a44ffa358713b5ee5e7c0",
        "IPY_MODEL_f64d71e71d77481ba9f7219352a92cfa",
        "IPY_MODEL_affc965f28744bf3aa7591778a17b340",
        "IPY_MODEL_02747c50e51043c580043a26f198a3a2",
        "IPY_MODEL_addfa4e6e76a4a3f94f71ff09ee60044",
        "IPY_MODEL_27b3ece2aa2344bf965e13a9d6179592",
        "IPY_MODEL_5af5faef2e9845ac9b2c20bc3f2e08cf",
        "IPY_MODEL_e67f57eaf8454effa12428882a616809"
       ],
       "layout": "IPY_MODEL_1f748d9a33184e7292004d7632ff255b"
      }
     },
     "6639c3e9467742739669bf550bccfea9": {
      "model_module": "@jupyter-widgets/controls",
      "model_module_version": "1.5.0",
      "model_name": "DropdownModel",
      "state": {
       "_options_labels": [
        "1",
        "2",
        "3",
        "5"
       ],
       "description": "int_msk",
       "index": 0,
       "layout": "IPY_MODEL_b4055f5ab87948bd99c3b7f9ce24fa6f",
       "style": "IPY_MODEL_aa360a711b8a4fce933b1397d0a5b310"
      }
     },
     "66a4bb09c99a43cc817b420017399cba": {
      "model_module": "@jupyter-widgets/base",
      "model_module_version": "1.2.0",
      "model_name": "LayoutModel",
      "state": {}
     },
     "66fd2da8b8d944c1a0481e9d2d7f08b6": {
      "model_module": "@jupyter-widgets/controls",
      "model_module_version": "1.5.0",
      "model_name": "ButtonModel",
      "state": {
       "description": "Run Interact",
       "layout": "IPY_MODEL_4350ca2acf3e4e3bbfd1df7afb334cf0",
       "style": "IPY_MODEL_f74ebbf0c7ba49fb949ca3517d8f1629"
      }
     },
     "6829c75535d54646b1be2617284c85ad": {
      "model_module": "@jupyter-widgets/controls",
      "model_module_version": "1.5.0",
      "model_name": "HTMLModel",
      "state": {
       "layout": "IPY_MODEL_850f5f1369e846ba8ea14b7964a62f4e",
       "placeholder": "",
       "style": "IPY_MODEL_9f6ee0b2d43449d194e1081499811e71",
       "value": "<span style=\"margin-left:10px; color:green;\">/mnt/ssd/data/gcn/02_imported_4D_unfiltered/sax/</span>"
      }
     },
     "6c2ca21c822c42fab6d2a169b35c92e4": {
      "model_module": "@jupyter-widgets/controls",
      "model_module_version": "1.5.0",
      "model_name": "CheckboxModel",
      "state": {
       "description": "save_",
       "disabled": false,
       "layout": "IPY_MODEL_974a980488324ca996daad9eab519f5d",
       "style": "IPY_MODEL_289fa67a11be48a094128990df66e4f0",
       "value": false
      }
     },
     "715aff2ade704b7a8dd7aa4280c2b1b1": {
      "model_module": "@jupyter-widgets/controls",
      "model_module_version": "1.5.0",
      "model_name": "IntSliderModel",
      "state": {
       "description": "example",
       "layout": "IPY_MODEL_7f10ee462bd24c5483009d508f5f942f",
       "max": 278,
       "style": "IPY_MODEL_5d518fdc613c4c3587127a8bf6829122",
       "value": 139
      }
     },
     "717fe81e8b564df3b48e9c8ead4c55cf": {
      "model_module": "@jupyter-widgets/base",
      "model_module_version": "1.2.0",
      "model_name": "LayoutModel",
      "state": {}
     },
     "723f20e3446a4d5d82d05ec530489ab7": {
      "model_module": "@jupyter-widgets/base",
      "model_module_version": "1.2.0",
      "model_name": "LayoutModel",
      "state": {}
     },
     "72ee3fcf3539484bbef4967c64608d4c": {
      "model_module": "@jupyter-widgets/controls",
      "model_module_version": "1.5.0",
      "model_name": "DescriptionStyleModel",
      "state": {
       "description_width": ""
      }
     },
     "73c34748073949ce96230e9ad963bec7": {
      "model_module": "@jupyter-widgets/controls",
      "model_module_version": "1.5.0",
      "model_name": "IntSliderModel",
      "state": {
       "description": "example",
       "layout": "IPY_MODEL_2063b1fd9d2a4508a0bc32e02f93b2e7",
       "max": 278,
       "style": "IPY_MODEL_bf3f309bda074050863f1be69e73c421",
       "value": 40
      }
     },
     "79aaa2657ff54640b58512521afcbc7a": {
      "model_module": "@jupyter-widgets/controls",
      "model_module_version": "1.5.0",
      "model_name": "DescriptionStyleModel",
      "state": {
       "description_width": ""
      }
     },
     "7abcb4952fa340239d3b0392cb5b2aca": {
      "model_module": "@jupyter-widgets/controls",
      "model_module_version": "1.5.0",
      "model_name": "TextModel",
      "state": {
       "description": "export_dir",
       "layout": "IPY_MODEL_ea22b64d7c17424281fa057982a45ef7",
       "style": "IPY_MODEL_f6401cee0464476abaec35e9ecdb5864",
       "value": "/mnt/ssd/data/gcn/02_imported_4D_unfiltered/sax_t_res_18"
      }
     },
     "7ac5cbf7610c4abb802b4ba12bfab3bd": {
      "model_module": "@jupyter-widgets/base",
      "model_module_version": "1.2.0",
      "model_name": "LayoutModel",
      "state": {}
     },
     "7b5f32be34a04b7ea4eb0006a1e2d008": {
      "model_module": "@jupyter-widgets/controls",
      "model_module_version": "1.5.0",
      "model_name": "SliderStyleModel",
      "state": {
       "description_width": ""
      }
     },
     "7bd48297ee4749e4a586b9b9709b5f8b": {
      "model_module": "@jupyter-widgets/base",
      "model_module_version": "1.2.0",
      "model_name": "LayoutModel",
      "state": {}
     },
     "7d46655b90524b52824af6d8e211ae84": {
      "model_module": "@jupyter-widgets/controls",
      "model_module_version": "1.5.0",
      "model_name": "DescriptionStyleModel",
      "state": {
       "description_width": ""
      }
     },
     "7f10ee462bd24c5483009d508f5f942f": {
      "model_module": "@jupyter-widgets/base",
      "model_module_version": "1.2.0",
      "model_name": "LayoutModel",
      "state": {}
     },
     "7f2609473b1448a48c8ef29ded38e315": {
      "model_module": "@jupyter-widgets/controls",
      "model_module_version": "1.5.0",
      "model_name": "DescriptionStyleModel",
      "state": {
       "description_width": ""
      }
     },
     "805de37969194fb58f5c57fb3d76e298": {
      "model_module": "@jupyter-widgets/base",
      "model_module_version": "1.2.0",
      "model_name": "LayoutModel",
      "state": {}
     },
     "80a2f97b348246d9a6be9893c47fa368": {
      "model_module": "@jupyter-widgets/controls",
      "model_module_version": "1.5.0",
      "model_name": "ButtonModel",
      "state": {
       "description": "Run Interact",
       "layout": "IPY_MODEL_3655ad195ddb4c8183b0342db159d173",
       "style": "IPY_MODEL_3d4d965d7c1a469b8ed831d739cf0478"
      }
     },
     "83b9d9a89f654c638d3d4c44a28c53f4": {
      "model_module": "@jupyter-widgets/controls",
      "model_module_version": "1.5.0",
      "model_name": "DropdownModel",
      "state": {
       "_options_labels": [
        "1",
        "2",
        "3",
        "4"
       ],
       "description": "int_img",
       "index": 1,
       "layout": "IPY_MODEL_5c89164c90e244aab0668915c0a5dc21",
       "style": "IPY_MODEL_8d9a0cb90c824eeb8889a2438087a47f"
      }
     },
     "84419d85d79c4b18bd77a268becbc31d": {
      "model_module": "@jupyter-widgets/base",
      "model_module_version": "1.2.0",
      "model_name": "LayoutModel",
      "state": {}
     },
     "8486ec24f5bb410bba9750245185a157": {
      "model_module": "@jupyter-widgets/controls",
      "model_module_version": "1.5.0",
      "model_name": "ButtonModel",
      "state": {
       "description": "Run Interact",
       "layout": "IPY_MODEL_a99cbc96bed24c9f825ebf3b1dbd28a1",
       "style": "IPY_MODEL_86a9485dd77748bd95be7deef09172be"
      }
     },
     "84e85aba4266404c93811833ad1ad32d": {
      "model_module": "@jupyter-widgets/controls",
      "model_module_version": "1.5.0",
      "model_name": "DescriptionStyleModel",
      "state": {
       "description_width": ""
      }
     },
     "850f5f1369e846ba8ea14b7964a62f4e": {
      "model_module": "@jupyter-widgets/base",
      "model_module_version": "1.2.0",
      "model_name": "LayoutModel",
      "state": {}
     },
     "858fa5421f6842e49275ceafbf114564": {
      "model_module": "@jupyter-widgets/base",
      "model_module_version": "1.2.0",
      "model_name": "LayoutModel",
      "state": {}
     },
     "8689c8cd95f44f41992b7da73b5c885b": {
      "model_module": "@jupyter-widgets/base",
      "model_module_version": "1.2.0",
      "model_name": "LayoutModel",
      "state": {}
     },
     "868b71712e8948349b6d94c20ba09ad7": {
      "model_module": "@jupyter-widgets/controls",
      "model_module_version": "1.5.0",
      "model_name": "DescriptionStyleModel",
      "state": {
       "description_width": ""
      }
     },
     "86a9485dd77748bd95be7deef09172be": {
      "model_module": "@jupyter-widgets/controls",
      "model_module_version": "1.5.0",
      "model_name": "ButtonStyleModel",
      "state": {}
     },
     "8733a10873c24b24af04a18fa82a1810": {
      "model_module": "@jupyter-widgets/base",
      "model_module_version": "1.2.0",
      "model_name": "LayoutModel",
      "state": {}
     },
     "88ac66672d804ce78dcaf22aac1a3038": {
      "model_module": "@jupyter-widgets/controls",
      "model_module_version": "1.5.0",
      "model_name": "TextModel",
      "state": {
       "description": "export_dir",
       "layout": "IPY_MODEL_717fe81e8b564df3b48e9c8ead4c55cf",
       "style": "IPY_MODEL_d08e7146e2494608803cea7843e99792",
       "value": "/mnt/ssd/data/gcn/02_imported_4D_unfiltered/sax_t_res_18"
      }
     },
     "88e21f10a3084fd998fad90887c322a7": {
      "model_module": "@jupyter-widgets/controls",
      "model_module_version": "1.5.0",
      "model_name": "VBoxModel",
      "state": {
       "_dom_classes": [
        "widget-interact"
       ],
       "children": [
        "IPY_MODEL_59740669bf654fadb4ecf59853a11c64",
        "IPY_MODEL_1bdd6bbcce8c479a8cc7d7cc08070f69",
        "IPY_MODEL_5ed9871a6c1d4bdfa3344213679353ec",
        "IPY_MODEL_6639c3e9467742739669bf550bccfea9",
        "IPY_MODEL_345423fcd5694e05a40f24f0cb782d68",
        "IPY_MODEL_957b50de6ebb4163a8a88334d7eedd71",
        "IPY_MODEL_21fc4702f8f140bfb9b76f36e101c4e4",
        "IPY_MODEL_4ef10f7fbf56430babab866e71db6123",
        "IPY_MODEL_66fd2da8b8d944c1a0481e9d2d7f08b6",
        "IPY_MODEL_f66a8159f0cd4970a080faa0029c91b2"
       ],
       "layout": "IPY_MODEL_37978e30dd34487d996b3ff856c02d70"
      }
     },
     "898003bbd63648e683cc8e7e5e9d38b4": {
      "model_module": "@jupyter-widgets/controls",
      "model_module_version": "1.5.0",
      "model_name": "CheckboxModel",
      "state": {
       "description": "plot_vol",
       "disabled": false,
       "layout": "IPY_MODEL_9abf19a8cab644868a0f762be961db77",
       "style": "IPY_MODEL_913868fdeea64d6b91633e271524a4d0",
       "value": false
      }
     },
     "8c46c0f7eafa46a2b4710e5ea30a0125": {
      "model_module": "@jupyter-widgets/controls",
      "model_module_version": "1.5.0",
      "model_name": "DescriptionStyleModel",
      "state": {
       "description_width": ""
      }
     },
     "8d9a0cb90c824eeb8889a2438087a47f": {
      "model_module": "@jupyter-widgets/controls",
      "model_module_version": "1.5.0",
      "model_name": "DescriptionStyleModel",
      "state": {
       "description_width": ""
      }
     },
     "8efa29d53a4642e7b938db159d6e54fe": {
      "model_module": "@jupyter-widgets/base",
      "model_module_version": "1.2.0",
      "model_name": "LayoutModel",
      "state": {}
     },
     "913868fdeea64d6b91633e271524a4d0": {
      "model_module": "@jupyter-widgets/controls",
      "model_module_version": "1.5.0",
      "model_name": "DescriptionStyleModel",
      "state": {
       "description_width": ""
      }
     },
     "927cbfba995143c09d2b966dbe58ab24": {
      "model_module": "@jupyter-widgets/base",
      "model_module_version": "1.2.0",
      "model_name": "LayoutModel",
      "state": {}
     },
     "92ba8fd72a61423fa306f4cef3b11264": {
      "model_module": "@jupyter-widgets/controls",
      "model_module_version": "1.5.0",
      "model_name": "DescriptionStyleModel",
      "state": {
       "description_width": ""
      }
     },
     "92f2fb335dbf46c696468d53480e4bcf": {
      "model_module": "@jupyter-widgets/controls",
      "model_module_version": "1.5.0",
      "model_name": "DescriptionStyleModel",
      "state": {
       "description_width": ""
      }
     },
     "93e50a53dcb944549260571d045f3a7b": {
      "model_module": "@jupyter-widgets/base",
      "model_module_version": "1.2.0",
      "model_name": "LayoutModel",
      "state": {
       "display": "none",
       "width": "auto"
      }
     },
     "957b50de6ebb4163a8a88334d7eedd71": {
      "model_module": "@jupyter-widgets/controls",
      "model_module_version": "1.5.0",
      "model_name": "CheckboxModel",
      "state": {
       "description": "plot_hist",
       "disabled": false,
       "layout": "IPY_MODEL_7ac5cbf7610c4abb802b4ba12bfab3bd",
       "style": "IPY_MODEL_7f2609473b1448a48c8ef29ded38e315",
       "value": false
      }
     },
     "974a980488324ca996daad9eab519f5d": {
      "model_module": "@jupyter-widgets/base",
      "model_module_version": "1.2.0",
      "model_name": "LayoutModel",
      "state": {}
     },
     "9771d22f4fac41e881a303c1779f7f0c": {
      "model_module": "@jupyter-widgets/controls",
      "model_module_version": "1.5.0",
      "model_name": "ButtonModel",
      "state": {
       "description": "Cancel",
       "layout": "IPY_MODEL_93e50a53dcb944549260571d045f3a7b",
       "style": "IPY_MODEL_3ad01d04526f43718df2dc7aa5da8d95"
      }
     },
     "9943ad45b80840db8ef846fe5f17af97": {
      "model_module": "@jupyter-widgets/controls",
      "model_module_version": "1.5.0",
      "model_name": "DescriptionStyleModel",
      "state": {
       "description_width": ""
      }
     },
     "9abf19a8cab644868a0f762be961db77": {
      "model_module": "@jupyter-widgets/base",
      "model_module_version": "1.2.0",
      "model_name": "LayoutModel",
      "state": {}
     },
     "9b785551f10248919d4798fdbbbd67a6": {
      "model_module": "@jupyter-widgets/controls",
      "model_module_version": "1.5.0",
      "model_name": "SliderStyleModel",
      "state": {
       "description_width": ""
      }
     },
     "9b80328dbad34cc69a4996deb2e0699d": {
      "model_module": "@jupyter-widgets/controls",
      "model_module_version": "1.5.0",
      "model_name": "DropdownModel",
      "state": {
       "_options_labels": [
        "/mnt/ssd/data/gcn/02_imported_4D_unfiltered/sax",
        "/mnt/ssd/data/gcn/02_imported_4D_unfiltered",
        "/mnt/ssd/data/gcn",
        "/mnt/ssd/data",
        "/mnt/ssd",
        "/mnt",
        "/"
       ],
       "index": 0,
       "layout": "IPY_MODEL_0ec59daa0d134758aa73bd81151b5931",
       "style": "IPY_MODEL_01f5f8ccdbae4c0b9a69df55afb52029"
      }
     },
     "9b91513fe326499998504fb58576c309": {
      "model_module": "@jupyter-widgets/controls",
      "model_module_version": "1.5.0",
      "model_name": "DescriptionStyleModel",
      "state": {
       "description_width": ""
      }
     },
     "9f6ee0b2d43449d194e1081499811e71": {
      "model_module": "@jupyter-widgets/controls",
      "model_module_version": "1.5.0",
      "model_name": "DescriptionStyleModel",
      "state": {
       "description_width": ""
      }
     },
     "9fe56b8acca84734bd95fe922e1c705b": {
      "model_module": "@jupyter-widgets/base",
      "model_module_version": "1.2.0",
      "model_name": "LayoutModel",
      "state": {}
     },
     "a27a8552e6c9426a9e8254bd13299bd7": {
      "model_module": "@jupyter-widgets/controls",
      "model_module_version": "1.5.0",
      "model_name": "DescriptionStyleModel",
      "state": {
       "description_width": ""
      }
     },
     "a316422c9e55437395fa6ee824164298": {
      "model_module": "@jupyter-widgets/base",
      "model_module_version": "1.2.0",
      "model_name": "LayoutModel",
      "state": {}
     },
     "a5582f20176f485aafeae9406d2fb33a": {
      "model_module": "@jupyter-widgets/controls",
      "model_module_version": "1.5.0",
      "model_name": "DropdownModel",
      "state": {
       "_options_labels": [
        "1",
        "2",
        "3",
        "5"
       ],
       "description": "int_msk",
       "index": 0,
       "layout": "IPY_MODEL_66a4bb09c99a43cc817b420017399cba",
       "style": "IPY_MODEL_5ceb98259d6e42ec83bb1dfa075a783b"
      }
     },
     "a99cbc96bed24c9f825ebf3b1dbd28a1": {
      "model_module": "@jupyter-widgets/base",
      "model_module_version": "1.2.0",
      "model_name": "LayoutModel",
      "state": {}
     },
     "aa360a711b8a4fce933b1397d0a5b310": {
      "model_module": "@jupyter-widgets/controls",
      "model_module_version": "1.5.0",
      "model_name": "DescriptionStyleModel",
      "state": {
       "description_width": ""
      }
     },
     "abeeee411dd845b7ab9cb56873ca9903": {
      "model_module": "@jupyter-widgets/base",
      "model_module_version": "1.2.0",
      "model_name": "LayoutModel",
      "state": {}
     },
     "ac287183e0cb46da8c2198c3c289e280": {
      "model_module": "@jupyter-widgets/base",
      "model_module_version": "1.2.0",
      "model_name": "LayoutModel",
      "state": {}
     },
     "addfa4e6e76a4a3f94f71ff09ee60044": {
      "model_module": "@jupyter-widgets/controls",
      "model_module_version": "1.5.0",
      "model_name": "CheckboxModel",
      "state": {
       "description": "save_",
       "disabled": false,
       "layout": "IPY_MODEL_c593635bef61496881726695a230a3bb",
       "style": "IPY_MODEL_ce28f2936f1345109377515c3f04122b",
       "value": false
      }
     },
     "affc965f28744bf3aa7591778a17b340": {
      "model_module": "@jupyter-widgets/controls",
      "model_module_version": "1.5.0",
      "model_name": "CheckboxModel",
      "state": {
       "description": "plot_vol",
       "disabled": false,
       "layout": "IPY_MODEL_ef92fd7d3d604d1d9611a850d485132c",
       "style": "IPY_MODEL_b9cee7983ae24e65896c4b2c6376c70b",
       "value": false
      }
     },
     "b4055f5ab87948bd99c3b7f9ce24fa6f": {
      "model_module": "@jupyter-widgets/base",
      "model_module_version": "1.2.0",
      "model_name": "LayoutModel",
      "state": {}
     },
     "b5966fff3ecf4ee0981176272d7f3b61": {
      "model_module": "@jupyter-widgets/controls",
      "model_module_version": "1.5.0",
      "model_name": "DropdownModel",
      "state": {
       "_options_labels": [
        "1",
        "2",
        "3",
        "5"
       ],
       "description": "int_msk",
       "index": 0,
       "layout": "IPY_MODEL_46c0f0c88fec47029701c3c0f4684016",
       "style": "IPY_MODEL_9b91513fe326499998504fb58576c309"
      }
     },
     "b7a7a19eda824e8393875839864fa91f": {
      "model_module": "@jupyter-widgets/base",
      "model_module_version": "1.2.0",
      "model_name": "LayoutModel",
      "state": {
       "grid_area": "filename",
       "width": "auto"
      }
     },
     "b8c442d2dfd64328808fd2053b22ac9f": {
      "model_module": "@jupyter-widgets/controls",
      "model_module_version": "1.5.0",
      "model_name": "DescriptionStyleModel",
      "state": {
       "description_width": ""
      }
     },
     "b9cee7983ae24e65896c4b2c6376c70b": {
      "model_module": "@jupyter-widgets/controls",
      "model_module_version": "1.5.0",
      "model_name": "DescriptionStyleModel",
      "state": {
       "description_width": ""
      }
     },
     "bbf10a4da9fd47979e61ce1235c122fe": {
      "model_module": "@jupyter-widgets/controls",
      "model_module_version": "1.5.0",
      "model_name": "IntSliderModel",
      "state": {
       "description": "t_spacing",
       "layout": "IPY_MODEL_3ee29e60023144028ab45d6ffb40638b",
       "max": 55,
       "min": 5,
       "style": "IPY_MODEL_9b785551f10248919d4798fdbbbd67a6",
       "value": 18
      }
     },
     "bc405d91023a436e96e71725b9769215": {
      "model_module": "@jupyter-widgets/output",
      "model_module_version": "1.0.0",
      "model_name": "OutputModel",
      "state": {
       "layout": "IPY_MODEL_723f20e3446a4d5d82d05ec530489ab7"
      }
     },
     "bf3f309bda074050863f1be69e73c421": {
      "model_module": "@jupyter-widgets/controls",
      "model_module_version": "1.5.0",
      "model_name": "SliderStyleModel",
      "state": {
       "description_width": ""
      }
     },
     "c2368e44cf3543268232b5543b9c2982": {
      "model_module": "@jupyter-widgets/base",
      "model_module_version": "1.2.0",
      "model_name": "LayoutModel",
      "state": {}
     },
     "c3e30bb815714469baf5cbe7fea2daf2": {
      "model_module": "@jupyter-widgets/controls",
      "model_module_version": "1.5.0",
      "model_name": "VBoxModel",
      "state": {
       "children": [
        "IPY_MODEL_32c2df22492c4759af71f94828a46670",
        "IPY_MODEL_35ba84fdc045470c9545d32eda47046c",
        "IPY_MODEL_4433b56197b04d51a023ef963de4440f"
       ],
       "layout": "IPY_MODEL_5a9a78fe7e5c44acb11a8582fb482bce"
      }
     },
     "c5903ccaeae34cd2ac613cca2dc0bfb1": {
      "model_module": "@jupyter-widgets/controls",
      "model_module_version": "1.5.0",
      "model_name": "ButtonModel",
      "state": {
       "description": "Change",
       "layout": "IPY_MODEL_cef3d97af7e34a7a8b887eb5fc3e7b58",
       "style": "IPY_MODEL_d597f4f1320f48e3ad25da990043cf90"
      }
     },
     "c593635bef61496881726695a230a3bb": {
      "model_module": "@jupyter-widgets/base",
      "model_module_version": "1.2.0",
      "model_name": "LayoutModel",
      "state": {}
     },
     "c8ec03cfe7b74c8cb8f16c5d9146a00e": {
      "model_module": "@jupyter-widgets/base",
      "model_module_version": "1.2.0",
      "model_name": "LayoutModel",
      "state": {}
     },
     "c9bbaa1ebe7c46b5be91fea8f924560f": {
      "model_module": "@jupyter-widgets/controls",
      "model_module_version": "1.5.0",
      "model_name": "DescriptionStyleModel",
      "state": {
       "description_width": ""
      }
     },
     "cc0f24baa4ba40a6a108e755176961d9": {
      "model_module": "@jupyter-widgets/controls",
      "model_module_version": "1.5.0",
      "model_name": "SelectModel",
      "state": {
       "_options_labels": [
        "..",
        "0000-02z1l14n_2006-11-09_volume_clean.nrrd",
        "0000-02z1l14n_2006-11-09_volume_mask.nrrd",
        "0000-04nejquz_2007-03-13_volume_clean.nrrd",
        "0000-04nejquz_2007-03-13_volume_mask.nrrd",
        "0000-0ae4r74l_1900-01-01_volume_clean.nrrd",
        "0000-0ae4r74l_1900-01-01_volume_mask.nrrd",
        "0000-0hqqw4zn_2007-05-23_volume_clean.nrrd",
        "0000-0hqqw4zn_2007-05-23_volume_mask.nrrd",
        "0000-0ptv75mp_2005-06-27_volume_clean.nrrd",
        "0000-0ptv75mp_2005-06-27_volume_mask.nrrd",
        "0000-0rpellu8_2007-02-13_volume_clean.nrrd",
        "0000-0rpellu8_2007-02-13_volume_mask.nrrd",
        "0000-11yu3cuf_2007-12-10_volume_clean.nrrd",
        "0000-11yu3cuf_2007-12-10_volume_mask.nrrd",
        "0000-13jlp3hn_2007-05-22_volume_clean.nrrd",
        "0000-13jlp3hn_2007-05-22_volume_mask.nrrd",
        "0000-1drhf745_2005-09-01_volume_clean.nrrd",
        "0000-1drhf745_2005-09-01_volume_mask.nrrd",
        "0000-1e4pf7mr_2006-07-06_volume_clean.nrrd",
        "0000-1e4pf7mr_2006-07-06_volume_mask.nrrd",
        "0000-1e8mcv9l_2005-12-15_volume_clean.nrrd",
        "0000-1e8mcv9l_2005-12-15_volume_mask.nrrd",
        "0000-1emmcvkn_2006-06-29_volume_clean.nrrd",
        "0000-1emmcvkn_2006-06-29_volume_mask.nrrd",
        "0000-1ftr75dw_2006-06-09_volume_clean.nrrd",
        "0000-1ftr75dw_2006-06-09_volume_mask.nrrd",
        "0000-1klzmgeg_2007-01-31_volume_clean.nrrd",
        "0000-1klzmgeg_2007-01-31_volume_mask.nrrd",
        "0000-1pft9ca1_2006-05-17_volume_clean.nrrd",
        "0000-1pft9ca1_2006-05-17_volume_mask.nrrd",
        "0000-1tk4rv5f_2006-05-19_volume_clean.nrrd",
        "0000-1tk4rv5f_2006-05-19_volume_mask.nrrd",
        "0000-1ujmwcty_2006-09-01_volume_clean.nrrd",
        "0000-1ujmwcty_2006-09-01_volume_mask.nrrd",
        "0000-1y8h8xle_2007-03-22_volume_clean.nrrd",
        "0000-1y8h8xle_2007-03-22_volume_mask.nrrd",
        "0000-1zzf5e55_2006-10-01_volume_clean.nrrd",
        "0000-1zzf5e55_2006-10-01_volume_mask.nrrd",
        "0000-24qnezfu_2007-01-16_volume_clean.nrrd",
        "0000-24qnezfu_2007-01-16_volume_mask.nrrd",
        "0000-24ylf77l_2007-11-19_volume_clean.nrrd",
        "0000-24ylf77l_2007-11-19_volume_mask.nrrd",
        "0000-264v7142_2007-02-06_volume_clean.nrrd",
        "0000-264v7142_2007-02-06_volume_mask.nrrd",
        "0000-2cvug1c5_2006-09-06_volume_clean.nrrd",
        "0000-2cvug1c5_2006-09-06_volume_mask.nrrd",
        "0000-2cw0g1a5_2006-04-06_volume_clean.nrrd",
        "0000-2cw0g1a5_2006-04-06_volume_mask.nrrd",
        "0000-2fuh59vd_2006-08-24_volume_clean.nrrd",
        "0000-2fuh59vd_2006-08-24_volume_mask.nrrd",
        "0000-2hqvk81w_2005-03-11_volume_clean.nrrd",
        "0000-2hqvk81w_2005-03-11_volume_mask.nrrd",
        "0000-2r1yz1lf_2006-07-31_volume_clean.nrrd",
        "0000-2r1yz1lf_2006-07-31_volume_mask.nrrd",
        "0000-2v8hjlhn_2005-08-30_volume_clean.nrrd",
        "0000-2v8hjlhn_2005-08-30_volume_mask.nrrd",
        "0000-2vrmj3zf_2006-01-17_volume_clean.nrrd",
        "0000-2vrmj3zf_2006-01-17_volume_mask.nrrd",
        "0000-2whfp73x_2007-03-28_volume_clean.nrrd",
        "0000-2whfp73x_2007-03-28_volume_mask.nrrd",
        "0000-2x1hm1yk_2006-08-01_volume_clean.nrrd",
        "0000-2x1hm1yk_2006-08-01_volume_mask.nrrd",
        "0000-2xrr719z_2005-05-02_volume_clean.nrrd",
        "0000-2xrr719z_2005-05-02_volume_mask.nrrd",
        "0000-2y9u5llc_2006-07-24_volume_clean.nrrd",
        "0000-2y9u5llc_2006-07-24_volume_mask.nrrd",
        "0000-3e8u83k5_2006-04-01_volume_clean.nrrd",
        "0000-3e8u83k5_2006-04-01_volume_mask.nrrd",
        "0000-3e90836w_2006-05-23_volume_clean.nrrd",
        "0000-3e90836w_2006-05-23_volume_mask.nrrd",
        "0000-3eg083l5_2006-11-09_volume_clean.nrrd",
        "0000-3eg083l5_2006-11-09_volume_mask.nrrd",
        "0000-3ex293qc_2006-06-19_volume_clean.nrrd",
        "0000-3ex293qc_2006-06-19_volume_mask.nrrd",
        "0000-3hqqha3n_2006-03-01_volume_clean.nrrd",
        "0000-3hqqha3n_2006-03-01_volume_mask.nrrd",
        "0000-3hyxwjww_2006-11-17_volume_clean.nrrd",
        "0000-3hyxwjww_2006-11-17_volume_mask.nrrd",
        "0000-3m1jr1me_2006-08-28_volume_clean.nrrd",
        "0000-3m1jr1me_2006-08-28_volume_mask.nrrd",
        "0000-3u3kt9lv_2006-12-19_volume_clean.nrrd",
        "0000-3u3kt9lv_2006-12-19_volume_mask.nrrd",
        "0000-3wrwdjpc_2004-05-26_volume_clean.nrrd",
        "0000-3wrwdjpc_2004-05-26_volume_mask.nrrd",
        "0000-44u3aget_2006-08-01_volume_clean.nrrd",
        "0000-44u3aget_2006-08-01_volume_mask.nrrd",
        "0000-49rhvc6c_2005-11-22_volume_clean.nrrd",
        "0000-49rhvc6c_2005-11-22_volume_mask.nrrd",
        "0000-4a4pvcyl_2006-09-01_volume_clean.nrrd",
        "0000-4a4pvcyl_2006-09-01_volume_mask.nrrd",
        "0000-4a8mpqf4_2005-03-15_volume_clean.nrrd",
        "0000-4a8mpqf4_2005-03-15_volume_mask.nrrd",
        "0000-4eufpcdm_2007-01-15_volume_clean.nrrd",
        "0000-4eufpcdm_2007-01-15_volume_mask.nrrd",
        "0000-4hd5x727_2006-02-16_volume_clean.nrrd",
        "0000-4hd5x727_2006-02-16_volume_mask.nrrd",
        "0000-4pwv5nax_2008-09-30_volume_clean.nrrd",
        "0000-4pwv5nax_2008-09-30_volume_mask.nrrd",
        "0000-4q0tdelr_2007-03-29_volume_clean.nrrd",
        "0000-4q0tdelr_2007-03-29_volume_mask.nrrd",
        "0000-4qgenzmt_2007-02-22_volume_clean.nrrd",
        "0000-4qgenzmt_2007-02-22_volume_mask.nrrd",
        "0000-5cxhn75u_2006-08-02_volume_clean.nrrd",
        "0000-5cxhn75u_2006-08-02_volume_mask.nrrd",
        "0000-5jgezlyc_2007-09-25_volume_clean.nrrd",
        "0000-5jgezlyc_2007-09-25_volume_mask.nrrd",
        "0000-5rmhzgwp_2006-08-03_volume_clean.nrrd",
        "0000-5rmhzgwp_2006-08-03_volume_mask.nrrd",
        "0000-5rrmwqx2_2005-06-10_volume_clean.nrrd",
        "0000-5rrmwqx2_2005-06-10_volume_mask.nrrd",
        "0000-5t8dxcq2_2006-10-01_volume_clean.nrrd",
        "0000-5t8dxcq2_2006-10-01_volume_mask.nrrd",
        "0000-5w8rfcjd_2005-04-18_volume_clean.nrrd",
        "0000-5w8rfcjd_2005-04-18_volume_mask.nrrd",
        "0000-5yx47qxl_2006-10-13_volume_clean.nrrd",
        "0000-5yx47qxl_2006-10-13_volume_mask.nrrd",
        "0000-68uaytyd_2005-10-01_volume_clean.nrrd",
        "0000-68uaytyd_2005-10-01_volume_mask.nrrd",
        "0000-6e5favth_2007-03-28_volume_clean.nrrd",
        "0000-6e5favth_2007-03-28_volume_mask.nrrd",
        "0000-6hycwx3g_2006-11-13_volume_clean.nrrd",
        "0000-6hycwx3g_2006-11-13_volume_mask.nrrd",
        "0000-6n9vdlau_2006-07-06_volume_clean.nrrd",
        "0000-6n9vdlau_2006-07-06_volume_mask.nrrd",
        "0000-6u1azvcw_2006-10-04_volume_clean.nrrd",
        "0000-6u1azvcw_2006-10-04_volume_mask.nrrd",
        "0000-73ftw74f_2006-11-28_volume_clean.nrrd",
        "0000-73ftw74f_2006-11-28_volume_mask.nrrd",
        "0000-75htglyy_2007-04-02_volume_clean.nrrd",
        "0000-75htglyy_2007-04-02_volume_mask.nrrd",
        "0000-76rj3z26_2006-11-23_volume_clean.nrrd",
        "0000-76rj3z26_2006-11-23_volume_mask.nrrd",
        "0000-778n33yg_2005-09-06_volume_clean.nrrd",
        "0000-778n33yg_2005-09-06_volume_mask.nrrd",
        "0000-791n11zz_2006-09-01_volume_clean.nrrd",
        "0000-791n11zz_2006-09-01_volume_mask.nrrd",
        "0000-7ac8q3ut_2006-09-11_volume_clean.nrrd",
        "0000-7ac8q3ut_2006-09-11_volume_mask.nrrd",
        "0000-7e9rdlkh_2006-08-03_volume_clean.nrrd",
        "0000-7e9rdlkh_2006-08-03_volume_mask.nrrd",
        "0000-7pc143mc_2006-09-08_volume_clean.nrrd",
        "0000-7pc143mc_2006-09-08_volume_mask.nrrd",
        "0000-7wj0hlr0_2006-12-19_volume_clean.nrrd",
        "0000-7wj0hlr0_2006-12-19_volume_mask.nrrd",
        "0000-84r7fqh3_2007-03-16_volume_clean.nrrd",
        "0000-84r7fqh3_2007-03-16_volume_mask.nrrd",
        "0000-8a9yn7jc_2006-08-01_volume_clean.nrrd",
        "0000-8a9yn7jc_2006-08-01_volume_mask.nrrd",
        "0000-8j5nz5g7_2008-03-27_volume_clean.nrrd",
        "0000-8j5nz5g7_2008-03-27_volume_mask.nrrd",
        "0000-8lwnlx3n_2007-06-21_volume_clean.nrrd",
        "0000-8lwnlx3n_2007-06-21_volume_mask.nrrd",
        "0000-8n8j8v11_2005-10-25_volume_clean.nrrd",
        "0000-8n8j8v11_2005-10-25_volume_mask.nrrd",
        "0000-8nfj8vmr_2006-11-10_volume_clean.nrrd",
        "0000-8nfj8vmr_2006-11-10_volume_mask.nrrd",
        "0000-8nmj8vu7_2007-12-13_volume_clean.nrrd",
        "0000-8nmj8vu7_2007-12-13_volume_mask.nrrd",
        "0000-8p8e87rn_2006-02-10_volume_clean.nrrd",
        "0000-8p8e87rn_2006-02-10_volume_mask.nrrd",
        "0000-8urrp1y1_2006-04-25_volume_clean.nrrd",
        "0000-8urrp1y1_2006-04-25_volume_mask.nrrd",
        "0000-8uryp1ja_2005-12-15_volume_clean.nrrd",
        "0000-8uryp1ja_2005-12-15_volume_mask.nrrd",
        "0000-8wtug5ml_2006-07-27_volume_clean.nrrd",
        "0000-8wtug5ml_2006-07-27_volume_mask.nrrd",
        "0000-911jv780_2006-11-07_volume_clean.nrrd",
        "0000-911jv780_2006-11-07_volume_mask.nrrd",
        "0000-91gevv22_1900-01-01_volume_clean.nrrd",
        "0000-91gevv22_1900-01-01_volume_mask.nrrd",
        "0000-9a8utcz4_2007-03-16_volume_clean.nrrd",
        "0000-9a8utcz4_2007-03-16_volume_mask.nrrd",
        "0000-9hqprpdh_2006-01-31_volume_clean.nrrd",
        "0000-9hqprpdh_2006-01-31_volume_mask.nrrd",
        "0000-9mtqg5xr_2005-05-23_volume_clean.nrrd",
        "0000-9mtqg5xr_2005-05-23_volume_mask.nrrd",
        "0000-9re6xzcv_2008-02-27_volume_clean.nrrd",
        "0000-9re6xzcv_2008-02-27_volume_mask.nrrd",
        "0000-9t7mv78w_2006-08-02_volume_clean.nrrd",
        "0000-9t7mv78w_2006-08-02_volume_mask.nrrd",
        "0000-a2uck9ld_2006-04-25_volume_clean.nrrd",
        "0000-a2uck9ld_2006-04-25_volume_mask.nrrd",
        "0000-a54lc7d6_2008-01-25_volume_clean.nrrd",
        "0000-a54lc7d6_2008-01-25_volume_mask.nrrd",
        "0000-a824zzzf_2006-05-04_volume_clean.nrrd",
        "0000-a824zzzf_2006-05-04_volume_mask.nrrd",
        "0000-a9u6p3fv_2006-08-01_volume_clean.nrrd",
        "0000-a9u6p3fv_2006-08-01_volume_mask.nrrd",
        "0000-aeum7zgh_2006-09-01_volume_clean.nrrd",
        "0000-aeum7zgh_2006-09-01_volume_mask.nrrd",
        "0000-ahnxxzup_2007-01-16_volume_clean.nrrd",
        "0000-ahnxxzup_2007-01-16_volume_mask.nrrd",
        "0000-anllc32m_2006-06-16_volume_clean.nrrd",
        "0000-anllc32m_2006-06-16_volume_mask.nrrd",
        "0000-atv4r53k_2006-03-01_volume_clean.nrrd",
        "0000-atv4r53k_2006-03-01_volume_mask.nrrd",
        "0000-avpyml1j_2007-03-02_volume_clean.nrrd",
        "0000-avpyml1j_2007-03-02_volume_mask.nrrd",
        "0000-ax28hn78_2007-02-14_volume_clean.nrrd",
        "0000-ax28hn78_2007-02-14_volume_mask.nrrd",
        "0000-c1cvr35h_2006-09-28_volume_clean.nrrd",
        "0000-c1cvr35h_2006-09-28_volume_mask.nrrd",
        "0000-c31vv3re_2006-08-30_volume_clean.nrrd",
        "0000-c31vv3re_2006-08-30_volume_mask.nrrd",
        "0000-c40u8zg7_2007-05-16_volume_clean.nrrd",
        "0000-c40u8zg7_2007-05-16_volume_mask.nrrd",
        "0000-cakrnl2z_2008-03-11_volume_clean.nrrd",
        "0000-cakrnl2z_2008-03-11_volume_mask.nrrd",
        "0000-ceahc3dz_2006-08-21_volume_clean.nrrd",
        "0000-ceahc3dz_2006-08-21_volume_mask.nrrd",
        "0000-ck8jtqlw_2005-08-08_volume_clean.nrrd",
        "0000-ck8jtqlw_2005-08-08_volume_mask.nrrd",
        "0000-ckfqtq9f_2006-11-10_volume_clean.nrrd",
        "0000-ckfqtq9f_2006-11-10_volume_mask.nrrd",
        "0000-ct8rr370_2005-04-19_volume_clean.nrrd",
        "0000-ct8rr370_2005-04-19_volume_mask.nrrd",
        "0000-ct8yr38c_2005-10-25_volume_clean.nrrd",
        "0000-ct8yr38c_2005-10-25_volume_mask.nrrd",
        "0000-cukyuvc2_2006-09-20_volume_clean.nrrd",
        "0000-cukyuvc2_2006-09-20_volume_mask.nrrd",
        "0000-cxv685fv_2006-09-01_volume_clean.nrrd",
        "0000-cxv685fv_2006-09-01_volume_mask.nrrd",
        "0000-d0jm7cw4_2006-08-01_volume_clean.nrrd",
        "0000-d0jm7cw4_2006-08-01_volume_mask.nrrd",
        "0000-d0qyavnr_2004-06-01_volume_clean.nrrd",
        "0000-d0qyavnr_2004-06-01_volume_mask.nrrd",
        "0000-d7lxf1kc_2007-12-11_volume_clean.nrrd",
        "0000-d7lxf1kc_2007-12-11_volume_mask.nrrd",
        "0000-d8ruzj8n_2006-09-22_volume_clean.nrrd",
        "0000-d8ruzj8n_2006-09-22_volume_mask.nrrd",
        "0000-d9hn2lzw_2007-03-23_volume_clean.nrrd",
        "0000-d9hn2lzw_2007-03-23_volume_mask.nrrd",
        "0000-dg1u4juw_2006-12-22_volume_clean.nrrd",
        "0000-dg1u4juw_2006-12-22_volume_mask.nrrd",
        "0000-dhqpdw6m_2007-02-16_volume_clean.nrrd",
        "0000-dhqpdw6m_2007-02-16_volume_mask.nrrd",
        "0000-dltvke94_2006-07-18_volume_clean.nrrd",
        "0000-dltvke94_2006-07-18_volume_mask.nrrd",
        "0000-dqjn635n_2007-06-19_volume_clean.nrrd",
        "0000-dqjn635n_2007-06-19_volume_mask.nrrd",
        "0000-e0rjzqqm_2005-09-30_volume_clean.nrrd",
        "0000-e0rjzqqm_2005-09-30_volume_mask.nrrd",
        "0000-e18nucu2_2005-05-19_volume_clean.nrrd",
        "0000-e18nucu2_2005-05-19_volume_mask.nrrd",
        "0000-e24lrcwd_2006-11-23_volume_clean.nrrd",
        "0000-e24lrcwd_2006-11-23_volume_mask.nrrd",
        "0000-e2hmadj3_2007-03-27_volume_clean.nrrd",
        "0000-e2hmadj3_2007-03-27_volume_mask.nrrd",
        "0000-e4ytngaz_2006-11-07_volume_clean.nrrd",
        "0000-e4ytngaz_2006-11-07_volume_mask.nrrd",
        "0000-e8030cfz_2007-01-03_volume_clean.nrrd",
        "0000-e8030cfz_2007-01-03_volume_mask.nrrd",
        "0000-eat4pl0e_2005-11-23_volume_clean.nrrd",
        "0000-eat4pl0e_2005-11-23_volume_mask.nrrd",
        "0000-er5q2exd_2007-02-22_volume_clean.nrrd",
        "0000-er5q2exd_2007-02-22_volume_mask.nrrd",
        "0000-f0qp6zjr_2006-01-01_volume_clean.nrrd",
        "0000-f0qp6zjr_2006-01-01_volume_mask.nrrd",
        "0000-fandnz55_2007-02-19_volume_clean.nrrd",
        "0000-fandnz55_2007-02-19_volume_mask.nrrd",
        "0000-fhqu30dq_2005-05-10_volume_clean.nrrd",
        "0000-fhqu30dq_2005-05-10_volume_mask.nrrd",
        "0000-fqrt0j6n_2006-05-15_volume_clean.nrrd",
        "0000-fqrt0j6n_2006-05-15_volume_mask.nrrd",
        "0000-fukdvlpd_2007-01-22_volume_clean.nrrd",
        "0000-fukdvlpd_2007-01-22_volume_mask.nrrd",
        "0000-g8xj03ch_2007-10-31_volume_clean.nrrd",
        "0000-g8xj03ch_2007-10-31_volume_mask.nrrd",
        "0000-gka7r7xq_2006-01-01_volume_clean.nrrd",
        "0000-gka7r7xq_2006-01-01_volume_mask.nrrd",
        "0000-glgjl3tk_2006-11-17_volume_clean.nrrd",
        "0000-glgjl3tk_2006-11-17_volume_mask.nrrd",
        "0000-glkjl3ay_2006-12-14_volume_clean.nrrd",
        "0000-glkjl3ay_2006-12-14_volume_mask.nrrd",
        "0000-gymp57r6_2006-12-18_volume_clean.nrrd",
        "0000-gymp57r6_2006-12-18_volume_mask.nrrd",
        "0000-gyrf6zaa_2004-08-01_volume_clean.nrrd",
        "0000-gyrf6zaa_2004-08-01_volume_mask.nrrd",
        "0000-gz4m6z9g_2006-12-07_volume_clean.nrrd",
        "0000-gz4m6z9g_2006-12-07_volume_mask.nrrd",
        "0000-gzh20326_2006-08-17_volume_clean.nrrd",
        "0000-gzh20326_2006-08-17_volume_mask.nrrd",
        "0000-hne7cvmu_2006-10-27_volume_clean.nrrd",
        "0000-hne7cvmu_2006-10-27_volume_mask.nrrd",
        "0000-hwzud5vl_2006-08-02_volume_clean.nrrd",
        "0000-hwzud5vl_2006-08-02_volume_mask.nrrd",
        "0000-j0qnv56u_2005-12-01_volume_clean.nrrd",
        "0000-j0qnv56u_2005-12-01_volume_mask.nrrd",
        "0000-jaqupczq_2007-02-16_volume_clean.nrrd",
        "0000-jaqupczq_2007-02-16_volume_mask.nrrd",
        "0000-jdrpf7f4_2006-02-28_volume_clean.nrrd",
        "0000-jdrpf7f4_2006-02-28_volume_mask.nrrd",
        "0000-je4hf7yt_2007-03-20_volume_clean.nrrd",
        "0000-je4hf7yt_2007-03-20_volume_mask.nrrd",
        "0000-jecmcvm7_2006-04-07_volume_clean.nrrd",
        "0000-jecmcvm7_2006-04-07_volume_mask.nrrd",
        "0000-jerk6vc0_2006-01-19_volume_clean.nrrd",
        "0000-jerk6vc0_2006-01-19_volume_mask.nrrd",
        "0000-jp6xazwh_2007-03-02_volume_clean.nrrd",
        "0000-jp6xazwh_2007-03-02_volume_mask.nrrd",
        "0000-jp8z9cnt_2005-10-14_volume_clean.nrrd",
        "0000-jp8z9cnt_2005-10-14_volume_mask.nrrd",
        "0000-jpul5924_2006-03-01_volume_clean.nrrd",
        "0000-jpul5924_2006-03-01_volume_mask.nrrd",
        "0000-jvz6kz00_2008-03-13_volume_clean.nrrd",
        "0000-jvz6kz00_2008-03-13_volume_mask.nrrd",
        "0000-k23vuzra_2007-01-30_volume_clean.nrrd",
        "0000-k23vuzra_2007-01-30_volume_mask.nrrd",
        "0000-k4hcl72e_2007-03-27_volume_clean.nrrd",
        "0000-k4hcl72e_2007-03-27_volume_mask.nrrd",
        "0000-k5t17122_2005-08-25_volume_clean.nrrd",
        "0000-k5t17122_2005-08-25_volume_mask.nrrd",
        "0000-k61njj2d_2007-05-29_volume_clean.nrrd",
        "0000-k61njj2d_2007-05-29_volume_mask.nrrd",
        "0000-khqnn842_2006-01-01_volume_clean.nrrd",
        "0000-khqnn842_2006-01-01_volume_mask.nrrd",
        "0000-kk9vrlnd_2006-07-10_volume_clean.nrrd",
        "0000-kk9vrlnd_2006-07-10_volume_mask.nrrd",
        "0000-kv8pjlum_2005-08-01_volume_clean.nrrd",
        "0000-kv8pjlum_2005-08-01_volume_mask.nrrd",
        "0000-kw8kezrq_2005-10-10_volume_clean.nrrd",
        "0000-kw8kezrq_2005-10-10_volume_mask.nrrd",
        "0000-kwvafe70_2006-03-30_volume_clean.nrrd",
        "0000-kwvafe70_2006-03-30_volume_mask.nrrd",
        "0000-l8jj7crz_2006-08-23_volume_clean.nrrd",
        "0000-l8jj7crz_2006-08-23_volume_mask.nrrd",
        "0000-la9krlwv_2005-05-13_volume_clean.nrrd",
        "0000-la9krlwv_2005-05-13_volume_mask.nrrd",
        "0000-lanrrlp0_2006-02-23_volume_clean.nrrd",
        "0000-lanrrlp0_2006-02-23_volume_mask.nrrd",
        "0000-leju831f_2007-12-07_volume_clean.nrrd",
        "0000-leju831f_2007-12-07_volume_mask.nrrd",
        "0000-lequ83mq_2007-03-13_volume_clean.nrrd",
        "0000-lequ83mq_2007-03-13_volume_mask.nrrd",
        "0000-lllnjlf6_2006-09-27_volume_clean.nrrd",
        "0000-lllnjlf6_2006-09-27_volume_mask.nrrd",
        "0000-lv70leny_2007-03-12_volume_clean.nrrd",
        "0000-lv70leny_2007-03-12_volume_mask.nrrd",
        "0000-m0qngc13_2006-02-20_volume_clean.nrrd",
        "0000-m0qngc13_2006-02-20_volume_mask.nrrd",
        "0000-m72g3lag_2006-12-04_volume_clean.nrrd",
        "0000-m72g3lag_2006-12-04_volume_mask.nrrd",
        "0000-ma4hvcmk_2006-06-22_volume_clean.nrrd",
        "0000-ma4hvcmk_2006-06-22_volume_mask.nrrd",
        "0000-markngm6_2006-04-01_volume_clean.nrrd",
        "0000-markngm6_2006-04-01_volume_mask.nrrd",
        "0000-mmrzdjey_2005-10-01_volume_clean.nrrd",
        "0000-mmrzdjey_2005-10-01_volume_mask.nrrd",
        "0000-mttuqeh8_2006-07-11_volume_clean.nrrd",
        "0000-mttuqeh8_2006-07-11_volume_mask.nrrd",
        "0000-myw63lfy_2006-03-01_volume_clean.nrrd",
        "0000-myw63lfy_2006-03-01_volume_mask.nrrd",
        "0000-n0qx7e3x_2006-01-24_volume_clean.nrrd",
        "0000-n0qx7e3x_2006-01-24_volume_mask.nrrd",
        "0000-n1gzxcrv_2006-12-07_volume_clean.nrrd",
        "0000-n1gzxcrv_2006-12-07_volume_mask.nrrd",
        "0000-n48vfcf8_2005-09-06_volume_clean.nrrd",
        "0000-n48vfcf8_2005-09-06_volume_mask.nrrd",
        "0000-ngz81gec_2008-01-31_volume_clean.nrrd",
        "0000-ngz81gec_2008-01-31_volume_mask.nrrd",
        "0000-nhqn9fhh_2005-07-18_volume_clean.nrrd",
        "0000-nhqn9fhh_2005-07-18_volume_mask.nrrd",
        "0000-njtqqet3_2006-07-04_volume_clean.nrrd",
        "0000-njtqqet3_2006-07-04_volume_mask.nrrd",
        "0000-npxl3trn_2006-10-31_volume_clean.nrrd",
        "0000-npxl3trn_2006-10-31_volume_mask.nrrd",
        "0000-nr8pzgej_2005-02-15_volume_clean.nrrd",
        "0000-nr8pzgej_2005-02-15_volume_mask.nrrd",
        "0000-nrmpzgpq_2006-06-01_volume_clean.nrrd",
        "0000-nrmpzgpq_2006-06-01_volume_mask.nrrd",
        "0000-nt8kxc4a_2006-03-01_volume_clean.nrrd",
        "0000-nt8kxc4a_2006-03-01_volume_mask.nrrd",
        "0000-nuwpnndc_2006-10-19_volume_clean.nrrd",
        "0000-nuwpnndc_2006-10-19_volume_mask.nrrd",
        "0000-nwfrfc1z_2006-11-16_volume_clean.nrrd",
        "0000-nwfrfc1z_2006-11-16_volume_mask.nrrd",
        "0000-p3hnt3a6_2007-04-11_volume_clean.nrrd",
        "0000-p3hnt3a6_2007-04-11_volume_mask.nrrd",
        "0000-p61vcjdp_2006-12-06_volume_clean.nrrd",
        "0000-p61vcjdp_2006-12-06_volume_mask.nrrd",
        "0000-pexm9gek_2006-11-08_volume_clean.nrrd",
        "0000-pexm9gek_2006-11-08_volume_mask.nrrd",
        "0000-phclzgdc_2006-08-01_volume_clean.nrrd",
        "0000-phclzgdc_2006-08-01_volume_mask.nrrd",
        "0000-pkjcq396_2008-03-11_volume_clean.nrrd",
        "0000-pkjcq396_2008-03-11_volume_mask.nrrd",
        "0000-pvpkh37e_2007-03-02_volume_clean.nrrd",
        "0000-pvpkh37e_2007-03-02_volume_mask.nrrd",
        "0000-pwe2dg44_2006-10-26_volume_clean.nrrd",
        "0000-pwe2dg44_2006-10-26_volume_mask.nrrd",
        "0000-pxjmf34k_2006-06-20_volume_clean.nrrd",
        "0000-pxjmf34k_2006-06-20_volume_mask.nrrd",
        "0000-pyxp5vc4_2007-10-11_volume_clean.nrrd",
        "0000-pyxp5vc4_2007-10-11_volume_mask.nrrd",
        "0000-q0qn3j15_2005-05-12_volume_clean.nrrd",
        "0000-q0qn3j15_2005-05-12_volume_mask.nrrd",
        "0000-q40zlqad_2006-11-02_volume_clean.nrrd",
        "0000-q40zlqad_2006-11-02_volume_mask.nrrd",
        "0000-q6rq3z87_2006-05-18_volume_clean.nrrd",
        "0000-q6rq3z87_2006-05-18_volume_mask.nrrd",
        "0000-q7mg33wh_2007-11-06_volume_clean.nrrd",
        "0000-q7mg33wh_2007-11-06_volume_mask.nrrd",
        "0000-q7px334h_2007-02-23_volume_clean.nrrd",
        "0000-q7px334h_2007-02-23_volume_mask.nrrd",
        "0000-q7rkzl26_2005-12-09_volume_clean.nrrd",
        "0000-q7rkzl26_2005-12-09_volume_mask.nrrd",
        "0000-qm3lgt6r_2007-01-18_volume_clean.nrrd",
        "0000-qm3lgt6r_2007-01-18_volume_mask.nrrd",
        "0000-qt9ptlxl_2006-07-01_volume_clean.nrrd",
        "0000-qt9ptlxl_2006-07-01_volume_mask.nrrd",
        "0000-qwq0hl8l_2007-03-19_volume_clean.nrrd",
        "0000-qwq0hl8l_2007-03-19_volume_mask.nrrd",
        "0000-r01h51cu_2007-10-24_volume_clean.nrrd",
        "0000-r01h51cu_2007-10-24_volume_mask.nrrd",
        "0000-ra1ptvnq_1900-01-01_volume_clean.nrrd",
        "0000-ra1ptvnq_1900-01-01_volume_mask.nrrd",
        "0000-raa4n7hd_2006-08-01_volume_clean.nrrd",
        "0000-raa4n7hd_2006-08-01_volume_mask.nrrd",
        "0000-rhqmxmc7_2005-11-28_volume_clean.nrrd",
        "0000-rhqmxmc7_2005-11-28_volume_mask.nrrd",
        "0000-rhtnz5nv_2006-07-04_volume_clean.nrrd",
        "0000-rhtnz5nv_2006-07-04_volume_mask.nrrd",
        "0000-rhtvz5fq_2006-08-09_volume_clean.nrrd",
        "0000-rhtvz5fq_2006-08-09_volume_mask.nrrd",
        "0000-rn8q8vc0_2006-05-16_volume_clean.nrrd",
        "0000-rn8q8vc0_2006-05-16_volume_mask.nrrd",
        "0000-rnmq8vh6_2006-11-16_volume_clean.nrrd",
        "0000-rnmq8vh6_2006-11-16_volume_mask.nrrd",
        "0000-rnrg9v39_2006-09-29_volume_clean.nrrd",
        "0000-rnrg9v39_2006-09-29_volume_mask.nrrd",
        "0000-rp8l87cx_2005-09-20_volume_clean.nrrd",
        "0000-rp8l87cx_2005-09-20_volume_mask.nrrd",
        "0000-rpml87hv_2006-11-07_volume_clean.nrrd",
        "0000-rpml87hv_2006-11-07_volume_mask.nrrd",
        "0000-rq1jajau_2007-12-05_volume_clean.nrrd",
        "0000-rq1jajau_2007-12-05_volume_mask.nrrd",
        "0000-ryz623uz_2006-12-15_volume_clean.nrrd",
        "0000-ryz623uz_2006-12-15_volume_mask.nrrd",
        "0000-tet48v2z_2008-01-10_volume_clean.nrrd",
        "0000-tet48v2z_2008-01-10_volume_mask.nrrd",
        "0000-thagzvn6_2006-08-01_volume_clean.nrrd",
        "0000-thagzvn6_2006-08-01_volume_mask.nrrd",
        "0000-tu4wu1ja_2006-08-01_volume_clean.nrrd",
        "0000-tu4wu1ja_2006-08-01_volume_mask.nrrd",
        "0000-u3rqf3wp_2005-04-08_volume_clean.nrrd",
        "0000-u3rqf3wp_2005-04-08_volume_mask.nrrd",
        "0000-u4rlc7pu_2005-06-02_volume_clean.nrrd",
        "0000-u4rlc7pu_2005-06-02_volume_mask.nrrd",
        "0000-v459k63z_2006-10-13_volume_clean.nrrd",
        "0000-v459k63z_2006-10-13_volume_mask.nrrd",
        "0000-v6738597_2007-03-09_volume_clean.nrrd",
        "0000-v6738597_2007-03-09_volume_mask.nrrd",
        "0000-vh9qw3mc_2006-06-20_volume_clean.nrrd",
        "0000-vh9qw3mc_2006-06-20_volume_mask.nrrd",
        "0000-vhqmjuq7_2005-11-01_volume_clean.nrrd",
        "0000-vhqmjuq7_2005-11-01_volume_mask.nrrd",
        "0000-vk8qtqtx_2005-04-28_volume_clean.nrrd",
        "0000-vk8qtqtx_2005-04-28_volume_mask.nrrd",
        "0000-vkfjtq3g_2006-10-12_volume_clean.nrrd",
        "0000-vkfjtq3g_2006-10-12_volume_mask.nrrd",
        "0000-vl8lml62_2005-09-01_volume_clean.nrrd",
        "0000-vl8lml62_2005-09-01_volume_mask.nrrd",
        "0000-vlgxml0x_2007-02-28_volume_clean.nrrd",
        "0000-vlgxml0x_2007-02-28_volume_mask.nrrd",
        "0000-vlmlmlx4_2006-11-30_volume_clean.nrrd",
        "0000-vlmlmlx4_2006-11-30_volume_mask.nrrd",
        "0000-vn11cean_2006-11-20_volume_clean.nrrd",
        "0000-vn11cean_2006-11-20_volume_mask.nrrd",
        "0000-vy7085l9_2007-03-20_volume_clean.nrrd",
        "0000-vy7085l9_2007-03-20_volume_mask.nrrd",
        "0000-w22cu7aq_2006-03-09_volume_clean.nrrd",
        "0000-w22cu7aq_2006-03-09_volume_mask.nrrd",
        "0000-wacftq92_2006-09-01_volume_clean.nrrd",
        "0000-wacftq92_2006-09-01_volume_mask.nrrd",
        "0000-wjx9p9h1_2006-10-01_volume_clean.nrrd",
        "0000-wjx9p9h1_2006-10-01_volume_mask.nrrd",
        "0000-wmytgj8z_2006-06-28_volume_clean.nrrd",
        "0000-wmytgj8z_2006-06-28_volume_mask.nrrd",
        "0000-wng9ec85_2007-12-06_volume_clean.nrrd",
        "0000-wng9ec85_2007-12-06_volume_mask.nrrd",
        "0000-wt3x7kl2_2006-12-04_volume_clean.nrrd",
        "0000-wt3x7kl2_2006-12-04_volume_mask.nrrd",
        "0000-x0qmcxzv_2006-02-01_volume_clean.nrrd",
        "0000-x0qmcxzv_2006-02-01_volume_mask.nrrd",
        "0000-x0rqzqxn_2006-05-12_volume_clean.nrrd",
        "0000-x0rqzqxn_2006-05-12_volume_mask.nrrd",
        "0000-x18guc3v_2005-09-08_volume_clean.nrrd",
        "0000-x18guc3v_2005-09-08_volume_mask.nrrd",
        "0000-x1rlrcfn_2005-06-24_volume_clean.nrrd",
        "0000-x1rlrcfn_2005-06-24_volume_mask.nrrd",
        "0000-x31nxjjx_2006-09-12_volume_clean.nrrd",
        "0000-x31nxjjx_2006-09-12_volume_mask.nrrd",
        "0000-xfjhdcfa_2006-09-20_volume_clean.nrrd",
        "0000-xfjhdcfa_2006-09-20_volume_mask.nrrd",
        "0000-xj0lvth2_2008-02-22_volume_clean.nrrd",
        "0000-xj0lvth2_2008-02-22_volume_mask.nrrd",
        "0000-xqtq2euc_2006-07-22_volume_clean.nrrd",
        "0000-xqtq2euc_2006-07-22_volume_mask.nrrd",
        "0000-y41jkl37_2007-11-23_volume_clean.nrrd",
        "0000-y41jkl37_2007-11-23_volume_mask.nrrd",
        "0000-yfgfcl5a_2007-10-23_volume_clean.nrrd",
        "0000-yfgfcl5a_2007-10-23_volume_mask.nrrd",
        "0000-ygrh2lpq_2006-02-21_volume_clean.nrrd",
        "0000-ygrh2lpq_2006-02-21_volume_mask.nrrd",
        "0000-yh8lwgc6_2006-01-04_volume_clean.nrrd",
        "0000-yh8lwgc6_2006-01-04_volume_mask.nrrd",
        "0000-yhr5u0ac_2006-09-01_volume_clean.nrrd",
        "0000-yhr5u0ac_2006-09-01_volume_mask.nrrd",
        "0000-yvcafhvd_2006-09-15_volume_clean.nrrd",
        "0000-yvcafhvd_2006-09-15_volume_mask.nrrd",
        "0000-yzr3um0e_2005-10-27_volume_clean.nrrd",
        "0000-yzr3um0e_2005-10-27_volume_mask.nrrd",
        "0000-yzr9umjh_2006-04-26_volume_clean.nrrd",
        "0000-yzr9umjh_2006-04-26_volume_mask.nrrd",
        "0000-z0qr21cj_2005-11-02_volume_clean.nrrd",
        "0000-z0qr21cj_2005-11-02_volume_mask.nrrd",
        "0000-z189krae_2004-03-01_volume_clean.nrrd",
        "0000-z189krae_2004-03-01_volume_mask.nrrd",
        "0000-z2r9j8d4_2006-07-20_volume_clean.nrrd",
        "0000-z2r9j8d4_2006-07-20_volume_mask.nrrd",
        "0000-z483a4yk_2005-06-06_volume_clean.nrrd",
        "0000-z483a4yk_2005-06-06_volume_mask.nrrd",
        "0000-z5r33dw1_2006-08-18_volume_clean.nrrd",
        "0000-z5r33dw1_2006-08-18_volume_mask.nrrd",
        "0000-z782x0fk_2005-11-07_volume_clean.nrrd",
        "0000-z782x0fk_2005-11-07_volume_mask.nrrd",
        "0000-z8r2q04l_2005-10-31_volume_clean.nrrd",
        "0000-z8r2q04l_2005-10-31_volume_mask.nrrd",
        "0000-z8r8q0nf_2006-02-15_volume_clean.nrrd",
        "0000-z8r8q0nf_2006-02-15_volume_mask.nrrd",
        "0000-ze8878n7_2006-07-31_volume_clean.nrrd",
        "0000-ze8878n7_2006-07-31_volume_mask.nrrd",
        "0000-zfr7wrgf_2005-11-01_volume_clean.nrrd",
        "0000-zfr7wrgf_2005-11-01_volume_mask.nrrd",
        "0000-zh87rmg5_2005-06-23_volume_clean.nrrd",
        "0000-zh87rmg5_2005-06-23_volume_mask.nrrd",
        "0000-zjr7mww9_2005-07-25_volume_clean.nrrd",
        "0000-zjr7mww9_2005-07-25_volume_mask.nrrd",
        "0000-zl7npzcn_2007-02-27_volume_clean.nrrd",
        "0000-zl7npzcn_2007-02-27_volume_mask.nrrd",
        "0000-zl87chv6_2005-10-20_volume_clean.nrrd",
        "0000-zl87chv6_2005-10-20_volume_mask.nrrd",
        "0000-zmr78hwy_2006-01-12_volume_clean.nrrd",
        "0000-zmr78hwy_2006-01-12_volume_mask.nrrd",
        "0000-zq5331h9_2007-02-15_volume_clean.nrrd",
        "0000-zq5331h9_2007-02-15_volume_mask.nrrd",
        "0000-zxr60d6k_2003-10-01_volume_clean.nrrd",
        "0000-zxr60d6k_2003-10-01_volume_mask.nrrd",
        "0000-zy8h5791_2005-06-16_volume_clean.nrrd",
        "0000-zy8h5791_2005-06-16_volume_mask.nrrd",
        "0000-zyrm6zll_2006-02-14_volume_clean.nrrd",
        "0000-zyrm6zll_2006-02-14_volume_mask.nrrd",
        "0000-zz8r00v6_2006-05-08_volume_clean.nrrd",
        "0000-zz8r00v6_2006-05-08_volume_mask.nrrd",
        "0000-zzfy001m_2006-11-20_volume_clean.nrrd",
        "0000-zzfy001m_2006-11-20_volume_mask.nrrd",
        "0000-zzq0001q_2007-03-29_volume_clean.nrrd",
        "0000-zzq0001q_2007-03-29_volume_mask.nrrd"
       ],
       "index": null,
       "layout": "IPY_MODEL_2463ea1554c84eb294440a010c1ed757",
       "rows": 8,
       "style": "IPY_MODEL_84e85aba4266404c93811833ad1ad32d"
      }
     },
     "cc2e44f6f4934d838fb6896ae7a64454": {
      "model_module": "@jupyter-widgets/controls",
      "model_module_version": "1.5.0",
      "model_name": "VBoxModel",
      "state": {
       "_dom_classes": [
        "widget-interact"
       ],
       "children": [
        "IPY_MODEL_73c34748073949ce96230e9ad963bec7",
        "IPY_MODEL_0ca7c41d5fdb4547bf24b548b4146674",
        "IPY_MODEL_e6007d459fc942989b979fad3dd47190",
        "IPY_MODEL_a5582f20176f485aafeae9406d2fb33a",
        "IPY_MODEL_564f620d83e34887ae56c035ad90d4d9",
        "IPY_MODEL_cfe3b95eb1724d50972e8e29987ec315",
        "IPY_MODEL_45ecb834ee9c45e7bef4f92c809186a7",
        "IPY_MODEL_88ac66672d804ce78dcaf22aac1a3038",
        "IPY_MODEL_80a2f97b348246d9a6be9893c47fa368",
        "IPY_MODEL_1dd77cd2c9934bfc9b7646a006409d5e"
       ],
       "layout": "IPY_MODEL_2a5455964edc4071975f24fb86d81c86"
      }
     },
     "ccf9f83be4e640d88c43dd6928c539ef": {
      "model_module": "@jupyter-widgets/controls",
      "model_module_version": "1.5.0",
      "model_name": "SliderStyleModel",
      "state": {
       "description_width": ""
      }
     },
     "ce28f2936f1345109377515c3f04122b": {
      "model_module": "@jupyter-widgets/controls",
      "model_module_version": "1.5.0",
      "model_name": "DescriptionStyleModel",
      "state": {
       "description_width": ""
      }
     },
     "ce62de526a674589b381919842ed3ea3": {
      "model_module": "@jupyter-widgets/controls",
      "model_module_version": "1.5.0",
      "model_name": "DescriptionStyleModel",
      "state": {
       "description_width": ""
      }
     },
     "ced0219a61204df78d106e378c2427e0": {
      "model_module": "@jupyter-widgets/controls",
      "model_module_version": "1.5.0",
      "model_name": "DropdownModel",
      "state": {
       "_options_labels": [
        "1",
        "2",
        "3",
        "5"
       ],
       "description": "int_msk",
       "index": 0,
       "layout": "IPY_MODEL_858fa5421f6842e49275ceafbf114564",
       "style": "IPY_MODEL_868b71712e8948349b6d94c20ba09ad7"
      }
     },
     "cef3d97af7e34a7a8b887eb5fc3e7b58": {
      "model_module": "@jupyter-widgets/base",
      "model_module_version": "1.2.0",
      "model_name": "LayoutModel",
      "state": {
       "width": "auto"
      }
     },
     "cfa6d50b77ce45928005d48dda930388": {
      "model_module": "@jupyter-widgets/base",
      "model_module_version": "1.2.0",
      "model_name": "LayoutModel",
      "state": {}
     },
     "cfe3b95eb1724d50972e8e29987ec315": {
      "model_module": "@jupyter-widgets/controls",
      "model_module_version": "1.5.0",
      "model_name": "CheckboxModel",
      "state": {
       "description": "plot_hist",
       "disabled": false,
       "layout": "IPY_MODEL_ebcc0b222d6f4ac2919d5c491bee49a4",
       "style": "IPY_MODEL_b8c442d2dfd64328808fd2053b22ac9f",
       "value": false
      }
     },
     "d08e7146e2494608803cea7843e99792": {
      "model_module": "@jupyter-widgets/controls",
      "model_module_version": "1.5.0",
      "model_name": "DescriptionStyleModel",
      "state": {
       "description_width": ""
      }
     },
     "d13b0aa842a141e889e0a415efe6c038": {
      "model_module": "@jupyter-widgets/controls",
      "model_module_version": "1.5.0",
      "model_name": "IntSliderModel",
      "state": {
       "description": "t_spacing",
       "layout": "IPY_MODEL_1e9e40f6430b4518af4a09bca3bc8263",
       "max": 55,
       "min": 5,
       "style": "IPY_MODEL_2edece37eaf34200b8c40e346ef5b631",
       "value": 30
      }
     },
     "d36f2bb843464d9894281870a7f113a2": {
      "model_module": "@jupyter-widgets/base",
      "model_module_version": "1.2.0",
      "model_name": "LayoutModel",
      "state": {}
     },
     "d597f4f1320f48e3ad25da990043cf90": {
      "model_module": "@jupyter-widgets/controls",
      "model_module_version": "1.5.0",
      "model_name": "ButtonStyleModel",
      "state": {}
     },
     "d7120d187964486f82070220717401d0": {
      "model_module": "@jupyter-widgets/controls",
      "model_module_version": "1.5.0",
      "model_name": "VBoxModel",
      "state": {
       "_dom_classes": [
        "widget-interact"
       ],
       "children": [
        "IPY_MODEL_374e889cbac648dcad6bf3f8edcd0c73",
        "IPY_MODEL_bbf10a4da9fd47979e61ce1235c122fe",
        "IPY_MODEL_83b9d9a89f654c638d3d4c44a28c53f4",
        "IPY_MODEL_b5966fff3ecf4ee0981176272d7f3b61",
        "IPY_MODEL_4aa86e3d2e4c41f781b83030af2026f6",
        "IPY_MODEL_4cd48a529e4d41ae94262c365529bd6d",
        "IPY_MODEL_6c2ca21c822c42fab6d2a169b35c92e4",
        "IPY_MODEL_7abcb4952fa340239d3b0392cb5b2aca",
        "IPY_MODEL_8486ec24f5bb410bba9750245185a157",
        "IPY_MODEL_eb6debacbfdd416194446870da435adb"
       ],
       "layout": "IPY_MODEL_abeeee411dd845b7ab9cb56873ca9903"
      }
     },
     "da9269a041d243ec8b56b561c5a39635": {
      "model_module": "@jupyter-widgets/controls",
      "model_module_version": "1.5.0",
      "model_name": "SliderStyleModel",
      "state": {
       "description_width": ""
      }
     },
     "db9d78a0a07042fdaabd6358a584e567": {
      "model_module": "@jupyter-widgets/base",
      "model_module_version": "1.2.0",
      "model_name": "LayoutModel",
      "state": {}
     },
     "e10556ab74e042a3984fdcdc6ff16800": {
      "model_module": "@jupyter-widgets/base",
      "model_module_version": "1.2.0",
      "model_name": "LayoutModel",
      "state": {}
     },
     "e6007d459fc942989b979fad3dd47190": {
      "model_module": "@jupyter-widgets/controls",
      "model_module_version": "1.5.0",
      "model_name": "DropdownModel",
      "state": {
       "_options_labels": [
        "1",
        "2",
        "3",
        "4"
       ],
       "description": "int_img",
       "index": 0,
       "layout": "IPY_MODEL_8689c8cd95f44f41992b7da73b5c885b",
       "style": "IPY_MODEL_ce62de526a674589b381919842ed3ea3"
      }
     },
     "e6239878c8f34319b3c4ba23eed08ca8": {
      "model_module": "@jupyter-widgets/controls",
      "model_module_version": "1.5.0",
      "model_name": "TextModel",
      "state": {
       "layout": "IPY_MODEL_b7a7a19eda824e8393875839864fa91f",
       "placeholder": "output filename",
       "style": "IPY_MODEL_72ee3fcf3539484bbef4967c64608d4c"
      }
     },
     "e67f57eaf8454effa12428882a616809": {
      "model_module": "@jupyter-widgets/output",
      "model_module_version": "1.0.0",
      "model_name": "OutputModel",
      "state": {
       "layout": "IPY_MODEL_c2368e44cf3543268232b5543b9c2982",
       "outputs": [
        {
         "name": "stderr",
         "output_type": "stream",
         "text": "2021-04-22 14:10:05,281 INFO 139\n2021-04-22 14:10:05,283 INFO /mnt/ssd/data/gcn/02_imported_4D_unfiltered/sax/0000-gz4m6z9g_2006-12-07_volume_clean.nrrd\n2021-04-22 14:10:05,428 INFO 2D+t target size: (256, 256, 30)\n2021-04-22 14:10:05,634 INFO 2D+t target size: (256, 256, 30)\n2021-04-22 14:10:05,685 INFO idxs: [ 0  5 11 13 18]\n"
        },
        {
         "data": {
          "text/plain": "<SimpleITK.SimpleITK.Image; proxy of <Swig Object of type 'std::vector< itk::simple::Image >::value_type *' at 0x7f4fb96a6d20> >"
         },
         "metadata": {},
         "output_type": "display_data"
        }
       ]
      }
     },
     "ea22b64d7c17424281fa057982a45ef7": {
      "model_module": "@jupyter-widgets/base",
      "model_module_version": "1.2.0",
      "model_name": "LayoutModel",
      "state": {}
     },
     "ea64b1baa78a44ffa358713b5ee5e7c0": {
      "model_module": "@jupyter-widgets/controls",
      "model_module_version": "1.5.0",
      "model_name": "DropdownModel",
      "state": {
       "_options_labels": [
        "1",
        "2",
        "3",
        "4"
       ],
       "description": "int_img",
       "index": 0,
       "layout": "IPY_MODEL_805de37969194fb58f5c57fb3d76e298",
       "style": "IPY_MODEL_92ba8fd72a61423fa306f4cef3b11264"
      }
     },
     "eb6debacbfdd416194446870da435adb": {
      "model_module": "@jupyter-widgets/output",
      "model_module_version": "1.0.0",
      "model_name": "OutputModel",
      "state": {
       "layout": "IPY_MODEL_8733a10873c24b24af04a18fa82a1810",
       "outputs": [
        {
         "name": "stderr",
         "output_type": "stream",
         "text": "2021-04-22 14:15:40,361 INFO 40\n2021-04-22 14:15:40,363 INFO /mnt/ssd/data/gcn/02_imported_4D_unfiltered/sax/0000-3u3kt9lv_2006-12-19_volume_clean.nrrd\n"
        },
        {
         "data": {
          "text/plain": "<SimpleITK.SimpleITK.Image; proxy of <Swig Object of type 'std::vector< itk::simple::Image >::value_type *' at 0x7f4fb9678f60> >"
         },
         "metadata": {},
         "output_type": "display_data"
        }
       ]
      }
     },
     "ebcc0b222d6f4ac2919d5c491bee49a4": {
      "model_module": "@jupyter-widgets/base",
      "model_module_version": "1.2.0",
      "model_name": "LayoutModel",
      "state": {}
     },
     "ecfdee979d3441aa9a1d2857766aa6e4": {
      "model_module": "@jupyter-widgets/controls",
      "model_module_version": "1.5.0",
      "model_name": "DescriptionStyleModel",
      "state": {
       "description_width": ""
      }
     },
     "ef92fd7d3d604d1d9611a850d485132c": {
      "model_module": "@jupyter-widgets/base",
      "model_module_version": "1.2.0",
      "model_name": "LayoutModel",
      "state": {}
     },
     "f6401cee0464476abaec35e9ecdb5864": {
      "model_module": "@jupyter-widgets/controls",
      "model_module_version": "1.5.0",
      "model_name": "DescriptionStyleModel",
      "state": {
       "description_width": ""
      }
     },
     "f64d71e71d77481ba9f7219352a92cfa": {
      "model_module": "@jupyter-widgets/controls",
      "model_module_version": "1.5.0",
      "model_name": "DropdownModel",
      "state": {
       "_options_labels": [
        "1",
        "2",
        "3",
        "5"
       ],
       "description": "int_msk",
       "index": 0,
       "layout": "IPY_MODEL_84419d85d79c4b18bd77a268becbc31d",
       "style": "IPY_MODEL_500ce22fbaf14b7c900c192370b85fc8"
      }
     },
     "f66a8159f0cd4970a080faa0029c91b2": {
      "model_module": "@jupyter-widgets/output",
      "model_module_version": "1.0.0",
      "model_name": "OutputModel",
      "state": {
       "layout": "IPY_MODEL_5b43d64eb38e4716b26390f0658647a1",
       "outputs": [
        {
         "name": "stderr",
         "output_type": "stream",
         "text": "2021-04-22 14:05:31,346 INFO 139\n2021-04-22 14:05:31,347 INFO /mnt/ssd/data/gcn/02_imported_4D_unfiltered/sax/0000-gz4m6z9g_2006-12-07_volume_clean.nrrd\n2021-04-22 14:05:31,449 INFO (256, 256, 15, 20)\n2021-04-22 14:05:31,450 INFO (1.3671875, 1.3671875, 8.80000019073486, 27.0)\n2021-04-22 14:05:31,568 INFO target size: (256, 256, 30)\n2021-04-22 14:05:31,695 INFO (256, 256, 15, 30)\n2021-04-22 14:05:31,695 INFO (1.3671875, 1.3671875, 8.80000019073486, 18.0)\n2021-04-22 14:05:31,702 INFO (256, 256, 15, 20)\n2021-04-22 14:05:31,702 INFO (1.3671875, 1.3671875, 8.80000019073486, 27.0)\n2021-04-22 14:05:31,776 INFO target size: (256, 256, 30)\n2021-04-22 14:05:31,826 INFO idxs: [ 0  5 11 13 18]\n2021-04-22 14:05:31,826 INFO scaled idx: [ 0  8 16 20 27]\n2021-04-22 14:05:31,826 INFO scaled, clipped idx: [ 0  8 16 20 27]\n2021-04-22 14:05:31,842 INFO max: [3 0 0 0 0 0 0 0 3 0 0 0 0 0 0 0 3 0 0 0 3 0 0 0 0 0 0 3 0 0]\n2021-04-22 14:05:31,843 INFO idxs of resampled 4d vol: [ 0  8 16 20 27]\n2021-04-22 14:05:31,855 INFO (256, 256, 15, 30)\n2021-04-22 14:05:31,856 INFO (1.3671875, 1.3671875, 8.80000019073486, 18.0)\n"
        },
        {
         "data": {
          "text/plain": "<SimpleITK.SimpleITK.Image; proxy of <Swig Object of type 'std::vector< itk::simple::Image >::value_type *' at 0x7f4fb96c08a0> >"
         },
         "metadata": {},
         "output_type": "display_data"
        }
       ]
      }
     },
     "f74ebbf0c7ba49fb949ca3517d8f1629": {
      "model_module": "@jupyter-widgets/controls",
      "model_module_version": "1.5.0",
      "model_name": "ButtonStyleModel",
      "state": {}
     },
     "f74ee977e0c34833a1d77f1452a7b767": {
      "model_module": "@jupyter-widgets/base",
      "model_module_version": "1.2.0",
      "model_name": "LayoutModel",
      "state": {
       "display": "none",
       "grid_gap": "0px 0px",
       "grid_template_areas": "\n                    'pathlist filename'\n                    'dircontent dircontent'\n                    ",
       "grid_template_columns": "60% 40%",
       "grid_template_rows": "auto auto",
       "width": "500px"
      }
     },
     "f7b3b59bb3094699897cb2e68f137c12": {
      "model_module": "@jupyter-widgets/controls",
      "model_module_version": "1.5.0",
      "model_name": "DescriptionStyleModel",
      "state": {
       "description_width": ""
      }
     },
     "f92996c078514c3996f5b4c6d46350d7": {
      "model_module": "@jupyter-widgets/controls",
      "model_module_version": "1.5.0",
      "model_name": "DescriptionStyleModel",
      "state": {
       "description_width": ""
      }
     },
     "f9476d42c2c04213a523b427ca71487f": {
      "model_module": "@jupyter-widgets/base",
      "model_module_version": "1.2.0",
      "model_name": "LayoutModel",
      "state": {}
     },
     "fd7e343fbb9847a191ebad70063ef3a2": {
      "model_module": "@jupyter-widgets/base",
      "model_module_version": "1.2.0",
      "model_name": "LayoutModel",
      "state": {}
     }
    },
    "version_major": 2,
    "version_minor": 0
   }
  }
 },
 "nbformat": 4,
 "nbformat_minor": 5
}
