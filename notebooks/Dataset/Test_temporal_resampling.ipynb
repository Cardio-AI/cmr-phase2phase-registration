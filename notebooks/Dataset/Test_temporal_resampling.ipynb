{
 "cells": [
  {
   "cell_type": "code",
   "execution_count": 1,
   "id": "317e97e8",
   "metadata": {},
   "outputs": [
    {
     "name": "stdout",
     "output_type": "stream",
     "text": [
      "search for root_dir and set working directory\n",
      "Working directory set to: /mnt/ssd/git/dynamic-cmr-models\n"
     ]
    },
    {
     "data": {
      "text/html": [
       "<style>.container { width:90% !important; }</style>"
      ],
      "text/plain": [
       "<IPython.core.display.HTML object>"
      ]
     },
     "metadata": {},
     "output_type": "display_data"
    },
    {
     "name": "stderr",
     "output_type": "stream",
     "text": [
      "2021-07-07 10:06:58,797 INFO -------------------- Start --------------------\n",
      "2021-07-07 10:06:58,797 INFO Working directory: /mnt/ssd/git/dynamic-cmr-models.\n",
      "2021-07-07 10:06:58,798 INFO Log file: ./logs/tests_temp_resampling.log\n",
      "2021-07-07 10:06:58,798 INFO Log level for console: INFO\n"
     ]
    },
    {
     "data": {
      "text/plain": [
       "<src.utils.Utils_io.Console_and_file_logger at 0x7f09e4402160>"
      ]
     },
     "execution_count": 1,
     "metadata": {},
     "output_type": "execute_result"
    }
   ],
   "source": [
    "# define logging and working directory\n",
    "from ProjectRoot import change_wd_to_project_root\n",
    "change_wd_to_project_root()\n",
    "from src.utils.Notebook_imports import *\n",
    "import random\n",
    "from collections import Counter\n",
    "import matplotlib.pyplot as plt\n",
    "plt.rcParams.update({'font.size': 30})\n",
    "import pandas as pd\n",
    "import numpy as np\n",
    "import os\n",
    "\n",
    "from ipywidgets import interact\n",
    "import ipywidgets as widgets\n",
    "from IPython.core.display import display, HTML\n",
    "display(HTML(\"<style>.container { width:90% !important; }</style>\"))\n",
    "%matplotlib inline\n",
    "%reload_ext autoreload\n",
    "%autoreload 2\n",
    "\n",
    "from src.utils.Utils_io import Console_and_file_logger, ensure_dir\n",
    "from src.visualization.Visualize import plot_3d_vol, plot_4d_vol, plot_value_histogram, my_autopct\n",
    "from src.data.Dataset import get_metadata_maybe, filter_4d_vol, copy_meta_and_save, create_3d_volumes_from_4d_files, describe_sitk, describe_volume, describe_path\n",
    "from src.data.Dataset import split_one_4d_sitk_in_list_of_3d_sitk\n",
    "from src.data.Dataset import copy_meta_and_save, get_patient\n",
    "from src.data.Preprocess import resample_3D\n",
    "Console_and_file_logger('tests_temp_resampling', logging.INFO)"
   ]
  },
  {
   "cell_type": "code",
   "execution_count": 3,
   "id": "ee35e4e0",
   "metadata": {},
   "outputs": [
    {
     "data": {
      "application/vnd.jupyter.widget-view+json": {
       "model_id": "c3e30bb815714469baf5cbe7fea2daf2",
       "version_major": 2,
       "version_minor": 0
      },
      "text/plain": [
       "FileChooser(path='/mnt/ssd/data/gcn/02_imported_4D_unfiltered', filename='', title='HTML(value='', layout=Layo…"
      ]
     },
     "metadata": {},
     "output_type": "display_data"
    }
   ],
   "source": [
    "from ipyfilechooser import FileChooser\n",
    "path_chooser = FileChooser(os.path.join(os.getcwd(),'/mnt/ssd/data/gcn/02_imported_4D_unfiltered/'), '')\n",
    "display(path_chooser)"
   ]
  },
  {
   "cell_type": "code",
   "execution_count": 4,
   "id": "a101f415",
   "metadata": {
    "pycharm": {
     "is_executing": false
    }
   },
   "outputs": [
    {
     "name": "stdout",
     "output_type": "stream",
     "text": [
      "279\n"
     ]
    }
   ],
   "source": [
    "img_path = path_chooser.selected\n",
    "path_ = os.path.join(img_path, '*clean.nrrd')\n",
    "files_ = sorted(glob.glob(path_))\n",
    "print(len(files_))"
   ]
  },
  {
   "cell_type": "code",
   "execution_count": 4,
   "id": "deb9111d",
   "metadata": {},
   "outputs": [
    {
     "name": "stderr",
     "output_type": "stream",
     "text": [
      "2021-04-21 17:09:15,640 INFO (138, 192, 10, 14)\n",
      "2021-04-21 17:09:15,641 INFO (1.7708333333333, 1.7708333333333, 8.8, 45.0)\n"
     ]
    }
   ],
   "source": [
    "example = 0\n",
    "temp_f = files_[example]\n",
    "sitk_img = sitk.ReadImage(temp_f)\n",
    "info(sitk_img.GetSize())\n",
    "info(sitk_img.GetSpacing())"
   ]
  },
  {
   "cell_type": "code",
   "execution_count": 12,
   "id": "e86a6350",
   "metadata": {
    "tags": []
   },
   "outputs": [
    {
     "data": {
      "application/vnd.jupyter.widget-view+json": {
       "model_id": "369794cdbbd74ad59ca5af0daaedaeb6",
       "version_major": 2,
       "version_minor": 0
      },
      "text/plain": [
       "interactive(children=(IntSlider(value=139, description='example', max=278), IntSlider(value=30, description='t…"
      ]
     },
     "metadata": {},
     "output_type": "display_data"
    }
   ],
   "source": [
    "@interact_manual\n",
    "def resample_vol_along_t(example=(0,len(files_)-1), \n",
    "                          t_spacing=(5,55),\n",
    "                         int_img=[sitk.sitkNearestNeighbor, sitk.sitkLinear,sitk.sitkBSpline,sitk.sitkGaussian],\n",
    "                         int_msk=[sitk.sitkNearestNeighbor, sitk.sitkLinear,sitk.sitkBSpline,sitk.sitkLabelGaussian],\n",
    "                         plot_vol=False,\n",
    "                         plot_hist=False,\n",
    "                         save_=False,\n",
    "                        export_dir='/mnt/ssd/data/gcn/02_imported_4D_unfiltered/sax_t_res_18'):\n",
    "    global resampled\n",
    "    \n",
    "    temp_f = files_[example]\n",
    "    info(example)\n",
    "    info(temp_f)\n",
    "    temp_msk_f = temp_f.replace('clean', 'mask')\n",
    "    sitk_img = sitk.ReadImage(temp_f)\n",
    "    sitk_msk = sitk.ReadImage(temp_msk_f)\n",
    "    from src.data.Preprocess import resample_t_of_4d\n",
    "    \n",
    "    resampled_cmr_sitk = resample_t_of_4d(sitk_img, t_spacing=t_spacing,interpolation=int_img, ismask=False)\n",
    "    resampled_cmr_sitk = resample_t_of_4d(sitk_msk, t_spacing=t_spacing,interpolation=int_msk, ismask=True)\n",
    "    \n",
    "    patient = get_patient(temp_f)\n",
    "    cmr_export_f = '{}_clean.nrrd'.format(patient)\n",
    "    msk_export_f = '{}_mask.nrrd'.format(patient)\n",
    "    if save_:\n",
    "        ensure_dir(export_dir)\n",
    "        sitk.WriteImage(resampled_cmr_sitk, os.path.join(export_dir, cmr_export_f))\n",
    "        sitk.WriteImage(resampled_msk_sitk, os.path.join(export_dir, msk_export_f))\n",
    "    else:\n",
    "        return resampled_cmr_sitk"
   ]
  },
  {
   "cell_type": "code",
   "execution_count": 17,
   "id": "deb2b2ed",
   "metadata": {
    "tags": []
   },
   "outputs": [
    {
     "name": "stderr",
     "output_type": "stream",
     "text": [
      "2021-04-22 14:30:07,492 INFO 0\n",
      "2021-04-22 14:30:07,493 INFO /mnt/ssd/data/gcn/02_imported_4D_unfiltered/sax/0000-02z1l14n_2006-11-09_volume_clean.nrrd\n",
      "2021-04-22 14:30:07,603 INFO 1\n",
      "2021-04-22 14:30:07,604 INFO /mnt/ssd/data/gcn/02_imported_4D_unfiltered/sax/0000-04nejquz_2007-03-13_volume_clean.nrrd\n",
      "2021-04-22 14:30:08,174 INFO 2\n",
      "2021-04-22 14:30:08,175 INFO /mnt/ssd/data/gcn/02_imported_4D_unfiltered/sax/0000-0ae4r74l_1900-01-01_volume_clean.nrrd\n",
      "2021-04-22 14:30:08,298 INFO 3\n",
      "2021-04-22 14:30:08,299 INFO /mnt/ssd/data/gcn/02_imported_4D_unfiltered/sax/0000-0hqqw4zn_2007-05-23_volume_clean.nrrd\n",
      "2021-04-22 14:30:08,664 INFO 4\n",
      "2021-04-22 14:30:08,665 INFO /mnt/ssd/data/gcn/02_imported_4D_unfiltered/sax/0000-0ptv75mp_2005-06-27_volume_clean.nrrd\n",
      "2021-04-22 14:30:08,957 INFO 5\n",
      "2021-04-22 14:30:08,957 INFO /mnt/ssd/data/gcn/02_imported_4D_unfiltered/sax/0000-0rpellu8_2007-02-13_volume_clean.nrrd\n",
      "2021-04-22 14:30:09,746 INFO 6\n",
      "2021-04-22 14:30:09,747 INFO /mnt/ssd/data/gcn/02_imported_4D_unfiltered/sax/0000-11yu3cuf_2007-12-10_volume_clean.nrrd\n",
      "2021-04-22 14:30:10,442 INFO 7\n",
      "2021-04-22 14:30:10,443 INFO /mnt/ssd/data/gcn/02_imported_4D_unfiltered/sax/0000-13jlp3hn_2007-05-22_volume_clean.nrrd\n",
      "2021-04-22 14:30:11,371 INFO 8\n",
      "2021-04-22 14:30:11,372 INFO /mnt/ssd/data/gcn/02_imported_4D_unfiltered/sax/0000-1drhf745_2005-09-01_volume_clean.nrrd\n",
      "2021-04-22 14:30:11,948 INFO 9\n",
      "2021-04-22 14:30:11,948 INFO /mnt/ssd/data/gcn/02_imported_4D_unfiltered/sax/0000-1e4pf7mr_2006-07-06_volume_clean.nrrd\n",
      "2021-04-22 14:30:12,486 INFO 0\n",
      "2021-04-22 14:30:12,487 INFO /mnt/ssd/data/gcn/02_imported_4D_unfiltered/sax/0000-02z1l14n_2006-11-09_volume_clean.nrrd\n",
      "2021-04-22 14:30:12,609 INFO 1\n",
      "2021-04-22 14:30:12,609 INFO /mnt/ssd/data/gcn/02_imported_4D_unfiltered/sax/0000-04nejquz_2007-03-13_volume_clean.nrrd\n",
      "2021-04-22 14:30:13,179 INFO 2\n",
      "2021-04-22 14:30:13,180 INFO /mnt/ssd/data/gcn/02_imported_4D_unfiltered/sax/0000-0ae4r74l_1900-01-01_volume_clean.nrrd\n",
      "2021-04-22 14:30:13,304 INFO 3\n",
      "2021-04-22 14:30:13,304 INFO /mnt/ssd/data/gcn/02_imported_4D_unfiltered/sax/0000-0hqqw4zn_2007-05-23_volume_clean.nrrd\n",
      "2021-04-22 14:30:13,670 INFO 4\n",
      "2021-04-22 14:30:13,670 INFO /mnt/ssd/data/gcn/02_imported_4D_unfiltered/sax/0000-0ptv75mp_2005-06-27_volume_clean.nrrd\n",
      "2021-04-22 14:30:13,958 INFO 5\n",
      "2021-04-22 14:30:13,959 INFO /mnt/ssd/data/gcn/02_imported_4D_unfiltered/sax/0000-0rpellu8_2007-02-13_volume_clean.nrrd\n",
      "2021-04-22 14:30:14,744 INFO 6\n",
      "2021-04-22 14:30:14,745 INFO /mnt/ssd/data/gcn/02_imported_4D_unfiltered/sax/0000-11yu3cuf_2007-12-10_volume_clean.nrrd\n",
      "2021-04-22 14:30:15,452 INFO 7\n",
      "2021-04-22 14:30:15,452 INFO /mnt/ssd/data/gcn/02_imported_4D_unfiltered/sax/0000-13jlp3hn_2007-05-22_volume_clean.nrrd\n",
      "2021-04-22 14:30:16,378 INFO 8\n",
      "2021-04-22 14:30:16,379 INFO /mnt/ssd/data/gcn/02_imported_4D_unfiltered/sax/0000-1drhf745_2005-09-01_volume_clean.nrrd\n",
      "2021-04-22 14:30:16,952 INFO 9\n",
      "2021-04-22 14:30:16,952 INFO /mnt/ssd/data/gcn/02_imported_4D_unfiltered/sax/0000-1e4pf7mr_2006-07-06_volume_clean.nrrd\n",
      "2021-04-22 14:30:17,484 INFO 0\n",
      "2021-04-22 14:30:17,485 INFO /mnt/ssd/data/gcn/02_imported_4D_unfiltered/sax/0000-02z1l14n_2006-11-09_volume_clean.nrrd\n",
      "2021-04-22 14:30:17,608 INFO 1\n",
      "2021-04-22 14:30:17,609 INFO /mnt/ssd/data/gcn/02_imported_4D_unfiltered/sax/0000-04nejquz_2007-03-13_volume_clean.nrrd\n",
      "2021-04-22 14:30:18,181 INFO 2\n",
      "2021-04-22 14:30:18,181 INFO /mnt/ssd/data/gcn/02_imported_4D_unfiltered/sax/0000-0ae4r74l_1900-01-01_volume_clean.nrrd\n",
      "2021-04-22 14:30:18,306 INFO 3\n",
      "2021-04-22 14:30:18,306 INFO /mnt/ssd/data/gcn/02_imported_4D_unfiltered/sax/0000-0hqqw4zn_2007-05-23_volume_clean.nrrd\n",
      "2021-04-22 14:30:18,675 INFO 4\n",
      "2021-04-22 14:30:18,675 INFO /mnt/ssd/data/gcn/02_imported_4D_unfiltered/sax/0000-0ptv75mp_2005-06-27_volume_clean.nrrd\n",
      "2021-04-22 14:30:18,963 INFO 5\n",
      "2021-04-22 14:30:18,963 INFO /mnt/ssd/data/gcn/02_imported_4D_unfiltered/sax/0000-0rpellu8_2007-02-13_volume_clean.nrrd\n",
      "2021-04-22 14:30:19,748 INFO 6\n",
      "2021-04-22 14:30:19,748 INFO /mnt/ssd/data/gcn/02_imported_4D_unfiltered/sax/0000-11yu3cuf_2007-12-10_volume_clean.nrrd\n",
      "2021-04-22 14:30:20,442 INFO 7\n",
      "2021-04-22 14:30:20,442 INFO /mnt/ssd/data/gcn/02_imported_4D_unfiltered/sax/0000-13jlp3hn_2007-05-22_volume_clean.nrrd\n",
      "2021-04-22 14:30:21,375 INFO 8\n",
      "2021-04-22 14:30:21,376 INFO /mnt/ssd/data/gcn/02_imported_4D_unfiltered/sax/0000-1drhf745_2005-09-01_volume_clean.nrrd\n",
      "2021-04-22 14:30:21,949 INFO 9\n",
      "2021-04-22 14:30:21,950 INFO /mnt/ssd/data/gcn/02_imported_4D_unfiltered/sax/0000-1e4pf7mr_2006-07-06_volume_clean.nrrd\n",
      "2021-04-22 14:30:22,485 INFO 0\n",
      "2021-04-22 14:30:22,486 INFO /mnt/ssd/data/gcn/02_imported_4D_unfiltered/sax/0000-02z1l14n_2006-11-09_volume_clean.nrrd\n",
      "2021-04-22 14:30:22,607 INFO 1\n",
      "2021-04-22 14:30:22,608 INFO /mnt/ssd/data/gcn/02_imported_4D_unfiltered/sax/0000-04nejquz_2007-03-13_volume_clean.nrrd\n",
      "2021-04-22 14:30:23,176 INFO 2\n",
      "2021-04-22 14:30:23,176 INFO /mnt/ssd/data/gcn/02_imported_4D_unfiltered/sax/0000-0ae4r74l_1900-01-01_volume_clean.nrrd\n",
      "2021-04-22 14:30:23,300 INFO 3\n",
      "2021-04-22 14:30:23,301 INFO /mnt/ssd/data/gcn/02_imported_4D_unfiltered/sax/0000-0hqqw4zn_2007-05-23_volume_clean.nrrd\n",
      "2021-04-22 14:30:23,664 INFO 4\n",
      "2021-04-22 14:30:23,665 INFO /mnt/ssd/data/gcn/02_imported_4D_unfiltered/sax/0000-0ptv75mp_2005-06-27_volume_clean.nrrd\n",
      "2021-04-22 14:30:23,955 INFO 5\n",
      "2021-04-22 14:30:23,956 INFO /mnt/ssd/data/gcn/02_imported_4D_unfiltered/sax/0000-0rpellu8_2007-02-13_volume_clean.nrrd\n",
      "2021-04-22 14:30:24,742 INFO 6\n",
      "2021-04-22 14:30:24,743 INFO /mnt/ssd/data/gcn/02_imported_4D_unfiltered/sax/0000-11yu3cuf_2007-12-10_volume_clean.nrrd\n",
      "2021-04-22 14:30:25,435 INFO 7\n",
      "2021-04-22 14:30:25,435 INFO /mnt/ssd/data/gcn/02_imported_4D_unfiltered/sax/0000-13jlp3hn_2007-05-22_volume_clean.nrrd\n",
      "2021-04-22 14:30:26,368 INFO 8\n",
      "2021-04-22 14:30:26,369 INFO /mnt/ssd/data/gcn/02_imported_4D_unfiltered/sax/0000-1drhf745_2005-09-01_volume_clean.nrrd\n",
      "2021-04-22 14:30:26,944 INFO 9\n",
      "2021-04-22 14:30:26,945 INFO /mnt/ssd/data/gcn/02_imported_4D_unfiltered/sax/0000-1e4pf7mr_2006-07-06_volume_clean.nrrd\n",
      "2021-04-22 14:30:27,480 INFO 0\n",
      "2021-04-22 14:30:27,481 INFO /mnt/ssd/data/gcn/02_imported_4D_unfiltered/sax/0000-02z1l14n_2006-11-09_volume_clean.nrrd\n",
      "2021-04-22 14:30:27,597 INFO 1\n",
      "2021-04-22 14:30:27,598 INFO /mnt/ssd/data/gcn/02_imported_4D_unfiltered/sax/0000-04nejquz_2007-03-13_volume_clean.nrrd\n",
      "2021-04-22 14:30:28,170 INFO 2\n",
      "2021-04-22 14:30:28,170 INFO /mnt/ssd/data/gcn/02_imported_4D_unfiltered/sax/0000-0ae4r74l_1900-01-01_volume_clean.nrrd\n",
      "2021-04-22 14:30:28,294 INFO 3\n",
      "2021-04-22 14:30:28,294 INFO /mnt/ssd/data/gcn/02_imported_4D_unfiltered/sax/0000-0hqqw4zn_2007-05-23_volume_clean.nrrd\n",
      "2021-04-22 14:30:28,656 INFO 4\n",
      "2021-04-22 14:30:28,657 INFO /mnt/ssd/data/gcn/02_imported_4D_unfiltered/sax/0000-0ptv75mp_2005-06-27_volume_clean.nrrd\n",
      "2021-04-22 14:30:28,944 INFO 5\n",
      "2021-04-22 14:30:28,945 INFO /mnt/ssd/data/gcn/02_imported_4D_unfiltered/sax/0000-0rpellu8_2007-02-13_volume_clean.nrrd\n",
      "2021-04-22 14:30:29,729 INFO 6\n",
      "2021-04-22 14:30:29,729 INFO /mnt/ssd/data/gcn/02_imported_4D_unfiltered/sax/0000-11yu3cuf_2007-12-10_volume_clean.nrrd\n",
      "2021-04-22 14:30:30,420 INFO 7\n",
      "2021-04-22 14:30:30,420 INFO /mnt/ssd/data/gcn/02_imported_4D_unfiltered/sax/0000-13jlp3hn_2007-05-22_volume_clean.nrrd\n",
      "2021-04-22 14:30:31,351 INFO 8\n",
      "2021-04-22 14:30:31,352 INFO /mnt/ssd/data/gcn/02_imported_4D_unfiltered/sax/0000-1drhf745_2005-09-01_volume_clean.nrrd\n",
      "2021-04-22 14:30:31,928 INFO 9\n",
      "2021-04-22 14:30:31,928 INFO /mnt/ssd/data/gcn/02_imported_4D_unfiltered/sax/0000-1e4pf7mr_2006-07-06_volume_clean.nrrd\n",
      "2021-04-22 14:30:32,464 INFO 0\n",
      "2021-04-22 14:30:32,465 INFO /mnt/ssd/data/gcn/02_imported_4D_unfiltered/sax/0000-02z1l14n_2006-11-09_volume_clean.nrrd\n",
      "2021-04-22 14:30:32,592 INFO 1\n",
      "2021-04-22 14:30:32,593 INFO /mnt/ssd/data/gcn/02_imported_4D_unfiltered/sax/0000-04nejquz_2007-03-13_volume_clean.nrrd\n",
      "2021-04-22 14:30:33,163 INFO 2\n",
      "2021-04-22 14:30:33,163 INFO /mnt/ssd/data/gcn/02_imported_4D_unfiltered/sax/0000-0ae4r74l_1900-01-01_volume_clean.nrrd\n",
      "2021-04-22 14:30:33,288 INFO 3\n",
      "2021-04-22 14:30:33,289 INFO /mnt/ssd/data/gcn/02_imported_4D_unfiltered/sax/0000-0hqqw4zn_2007-05-23_volume_clean.nrrd\n",
      "2021-04-22 14:30:33,651 INFO 4\n",
      "2021-04-22 14:30:33,652 INFO /mnt/ssd/data/gcn/02_imported_4D_unfiltered/sax/0000-0ptv75mp_2005-06-27_volume_clean.nrrd\n",
      "2021-04-22 14:30:33,943 INFO 5\n",
      "2021-04-22 14:30:33,943 INFO /mnt/ssd/data/gcn/02_imported_4D_unfiltered/sax/0000-0rpellu8_2007-02-13_volume_clean.nrrd\n",
      "2021-04-22 14:30:34,726 INFO 6\n",
      "2021-04-22 14:30:34,727 INFO /mnt/ssd/data/gcn/02_imported_4D_unfiltered/sax/0000-11yu3cuf_2007-12-10_volume_clean.nrrd\n",
      "2021-04-22 14:30:35,427 INFO 7\n",
      "2021-04-22 14:30:35,427 INFO /mnt/ssd/data/gcn/02_imported_4D_unfiltered/sax/0000-13jlp3hn_2007-05-22_volume_clean.nrrd\n",
      "2021-04-22 14:30:36,366 INFO 8\n",
      "2021-04-22 14:30:36,367 INFO /mnt/ssd/data/gcn/02_imported_4D_unfiltered/sax/0000-1drhf745_2005-09-01_volume_clean.nrrd\n",
      "2021-04-22 14:30:36,942 INFO 9\n",
      "2021-04-22 14:30:36,943 INFO /mnt/ssd/data/gcn/02_imported_4D_unfiltered/sax/0000-1e4pf7mr_2006-07-06_volume_clean.nrrd\n",
      "2021-04-22 14:30:37,482 INFO 0\n",
      "2021-04-22 14:30:37,483 INFO /mnt/ssd/data/gcn/02_imported_4D_unfiltered/sax/0000-02z1l14n_2006-11-09_volume_clean.nrrd\n",
      "2021-04-22 14:30:37,617 INFO 1\n",
      "2021-04-22 14:30:37,617 INFO /mnt/ssd/data/gcn/02_imported_4D_unfiltered/sax/0000-04nejquz_2007-03-13_volume_clean.nrrd\n",
      "2021-04-22 14:30:38,199 INFO 2\n",
      "2021-04-22 14:30:38,199 INFO /mnt/ssd/data/gcn/02_imported_4D_unfiltered/sax/0000-0ae4r74l_1900-01-01_volume_clean.nrrd\n",
      "2021-04-22 14:30:38,324 INFO 3\n",
      "2021-04-22 14:30:38,325 INFO /mnt/ssd/data/gcn/02_imported_4D_unfiltered/sax/0000-0hqqw4zn_2007-05-23_volume_clean.nrrd\n",
      "2021-04-22 14:30:38,688 INFO 4\n",
      "2021-04-22 14:30:38,689 INFO /mnt/ssd/data/gcn/02_imported_4D_unfiltered/sax/0000-0ptv75mp_2005-06-27_volume_clean.nrrd\n",
      "2021-04-22 14:30:38,980 INFO 5\n",
      "2021-04-22 14:30:38,981 INFO /mnt/ssd/data/gcn/02_imported_4D_unfiltered/sax/0000-0rpellu8_2007-02-13_volume_clean.nrrd\n",
      "2021-04-22 14:30:39,764 INFO 6\n",
      "2021-04-22 14:30:39,765 INFO /mnt/ssd/data/gcn/02_imported_4D_unfiltered/sax/0000-11yu3cuf_2007-12-10_volume_clean.nrrd\n",
      "2021-04-22 14:30:40,460 INFO 7\n",
      "2021-04-22 14:30:40,461 INFO /mnt/ssd/data/gcn/02_imported_4D_unfiltered/sax/0000-13jlp3hn_2007-05-22_volume_clean.nrrd\n",
      "2021-04-22 14:30:41,390 INFO 8\n",
      "2021-04-22 14:30:41,391 INFO /mnt/ssd/data/gcn/02_imported_4D_unfiltered/sax/0000-1drhf745_2005-09-01_volume_clean.nrrd\n",
      "2021-04-22 14:30:41,966 INFO 9\n",
      "2021-04-22 14:30:41,966 INFO /mnt/ssd/data/gcn/02_imported_4D_unfiltered/sax/0000-1e4pf7mr_2006-07-06_volume_clean.nrrd\n",
      "2021-04-22 14:30:42,503 INFO 0\n",
      "2021-04-22 14:30:42,503 INFO /mnt/ssd/data/gcn/02_imported_4D_unfiltered/sax/0000-02z1l14n_2006-11-09_volume_clean.nrrd\n",
      "2021-04-22 14:30:42,627 INFO 1\n",
      "2021-04-22 14:30:42,627 INFO /mnt/ssd/data/gcn/02_imported_4D_unfiltered/sax/0000-04nejquz_2007-03-13_volume_clean.nrrd\n",
      "2021-04-22 14:30:43,199 INFO 2\n",
      "2021-04-22 14:30:43,200 INFO /mnt/ssd/data/gcn/02_imported_4D_unfiltered/sax/0000-0ae4r74l_1900-01-01_volume_clean.nrrd\n",
      "2021-04-22 14:30:43,325 INFO 3\n",
      "2021-04-22 14:30:43,325 INFO /mnt/ssd/data/gcn/02_imported_4D_unfiltered/sax/0000-0hqqw4zn_2007-05-23_volume_clean.nrrd\n",
      "2021-04-22 14:30:43,691 INFO 4\n",
      "2021-04-22 14:30:43,692 INFO /mnt/ssd/data/gcn/02_imported_4D_unfiltered/sax/0000-0ptv75mp_2005-06-27_volume_clean.nrrd\n",
      "2021-04-22 14:30:43,981 INFO 5\n",
      "2021-04-22 14:30:43,981 INFO /mnt/ssd/data/gcn/02_imported_4D_unfiltered/sax/0000-0rpellu8_2007-02-13_volume_clean.nrrd\n",
      "2021-04-22 14:30:44,765 INFO 6\n",
      "2021-04-22 14:30:44,765 INFO /mnt/ssd/data/gcn/02_imported_4D_unfiltered/sax/0000-11yu3cuf_2007-12-10_volume_clean.nrrd\n",
      "2021-04-22 14:30:45,458 INFO 7\n",
      "2021-04-22 14:30:45,458 INFO /mnt/ssd/data/gcn/02_imported_4D_unfiltered/sax/0000-13jlp3hn_2007-05-22_volume_clean.nrrd\n",
      "2021-04-22 14:30:46,392 INFO 8\n",
      "2021-04-22 14:30:46,393 INFO /mnt/ssd/data/gcn/02_imported_4D_unfiltered/sax/0000-1drhf745_2005-09-01_volume_clean.nrrd\n",
      "2021-04-22 14:30:46,969 INFO 9\n",
      "2021-04-22 14:30:46,970 INFO /mnt/ssd/data/gcn/02_imported_4D_unfiltered/sax/0000-1e4pf7mr_2006-07-06_volume_clean.nrrd\n"
     ]
    },
    {
     "name": "stdout",
     "output_type": "stream",
     "text": [
      "5 s ± 11.9 ms per loop (mean ± std. dev. of 7 runs, 1 loop each)\n"
     ]
    }
   ],
   "source": [
    "%%timeit\n",
    "# resample the temporal ais of all 4D volumes\n",
    "params = {\n",
    "    't_spacing':18,\n",
    "    'int_img':sitk.sitkLinear,\n",
    "    'int_msk':sitk.sitkNearestNeighbor,\n",
    "    'plot_vol':False,\n",
    "    'plot_hist':False,\n",
    "    'save_':False,\n",
    "    'export_dir':'/mnt/ssd/data/gcn/02_imported_4D_unfiltered/sax_t_res_18'\n",
    "}\n",
    "\n",
    "list(map(lambda x : resample_vol_along_t(example=x, **params), range(10)))"
   ]
  },
  {
   "cell_type": "code",
   "execution_count": null,
   "id": "63c658a9",
   "metadata": {},
   "outputs": [],
   "source": [
    "# tests with itk"
   ]
  },
  {
   "cell_type": "code",
   "execution_count": 21,
   "id": "a7051cb2",
   "metadata": {
    "tags": []
   },
   "outputs": [
    {
     "data": {
      "text/plain": [
       "itk.itkImagePython.itkImageVD33"
      ]
     },
     "execution_count": 21,
     "metadata": {},
     "output_type": "execute_result"
    }
   ],
   "source": [
    "itk.Image[itk.Vector[itk.D,3], 3]"
   ]
  },
  {
   "cell_type": "code",
   "execution_count": 1,
   "id": "65704ee6",
   "metadata": {},
   "outputs": [],
   "source": [
    "import itk\n",
    "from itk import Strain\n",
    "import numpy as np"
   ]
  },
  {
   "cell_type": "code",
   "execution_count": 3,
   "id": "7d895921",
   "metadata": {},
   "outputs": [
    {
     "name": "stdout",
     "output_type": "stream",
     "text": [
      "float64\n"
     ]
    }
   ],
   "source": [
    "import itk\n",
    "from itk import Strain\n",
    "import numpy as np\n",
    "# Some random data for the example. In practice, you can use the output of an image registration.\n",
    "Dimension = 3\n",
    "a = np.random.random((3,64,64,64))\n",
    "print(a.dtype)\n",
    "DisplacementImageType = itk.Image[itk.Vector[itk.D,3],3]\n",
    "displacement = itk.image_view_from_array(a, ttype=DisplacementImageType)\n",
    "strain_filter = itk.StrainImageFilter[DisplacementImageType, itk.D, itk.D].New(displacement)\n",
    "strain_filter.Update()\n",
    "strain = strain_filter.GetOutput()"
   ]
  },
  {
   "cell_type": "code",
   "execution_count": 7,
   "id": "7823e18d",
   "metadata": {},
   "outputs": [],
   "source": [
    "nda = itk.GetArrayFromImage(strain)"
   ]
  },
  {
   "cell_type": "code",
   "execution_count": 8,
   "id": "4065f8cd",
   "metadata": {},
   "outputs": [
    {
     "data": {
      "text/plain": [
       "(3, 64, 64, 6)"
      ]
     },
     "execution_count": 8,
     "metadata": {},
     "output_type": "execute_result"
    }
   ],
   "source": [
    "nda.shape"
   ]
  },
  {
   "cell_type": "code",
   "execution_count": 10,
   "id": "eb04eca4",
   "metadata": {},
   "outputs": [],
   "source": [
    "import matplotlib.pyplot as plt"
   ]
  },
  {
   "cell_type": "code",
   "execution_count": 14,
   "id": "4bf36bd4",
   "metadata": {},
   "outputs": [
    {
     "data": {
      "text/plain": [
       "<matplotlib.image.AxesImage at 0x7f37a8895790>"
      ]
     },
     "execution_count": 14,
     "metadata": {},
     "output_type": "execute_result"
    },
    {
     "data": {
      "image/png": "[encoded data removed]",
      "text/plain": [
       "<Figure size 432x288 with 1 Axes>"
      ]
     },
     "metadata": {
      "needs_background": "light"
     },
     "output_type": "display_data"
    }
   ],
   "source": [
    "plt.imshow(a[0,...,0])"
   ]
  },
  {
   "cell_type": "code",
   "execution_count": 12,
   "id": "d8e10cc2",
   "metadata": {},
   "outputs": [
    {
     "data": {
      "text/plain": [
       "<matplotlib.image.AxesImage at 0x7f37a86b8760>"
      ]
     },
     "execution_count": 12,
     "metadata": {},
     "output_type": "execute_result"
    },
    {
     "data": {
      "image/png": "[encoded data removed]",
      "text/plain": [
       "<Figure size 432x288 with 1 Axes>"
      ]
     },
     "metadata": {
      "needs_background": "light"
     },
     "output_type": "display_data"
    }
   ],
   "source": [
    "plt.imshow(nda[0,...,0])"
   ]
  },
  {
   "cell_type": "code",
   "execution_count": null,
   "id": "757c03d2",
   "metadata": {},
   "outputs": [],
   "source": []
  }
 ],
 "metadata": {
  "kernelspec": {
   "display_name": "dcmr",
   "language": "python",
   "name": "dcmr"
  },
  "language_info": {
   "codemirror_mode": {
    "name": "ipython",
    "version": 3
   },
   "file_extension": ".py",
   "mimetype": "text/x-python",
   "name": "python",
   "nbconvert_exporter": "python",
   "pygments_lexer": "ipython3",
   "version": "3.8.5"
  },
  "widgets": {
   "application/vnd.jupyter.widget-state+json": {
    "state": {},
    "version_major": 2,
    "version_minor": 0
   }
  }
 },
 "nbformat": 4,
 "nbformat_minor": 5
}
