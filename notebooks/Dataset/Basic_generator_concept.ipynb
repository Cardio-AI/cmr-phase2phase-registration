{
 "cells": [
  {
   "cell_type": "code",
   "execution_count": 2,
   "metadata": {},
   "outputs": [
    {
     "name": "stdout",
     "output_type": "stream",
     "text": [
      "search for root_dir and set working directory\n",
      "Working directory set to: /mnt/ssd/git/dynamic-cmr-models\n"
     ]
    }
   ],
   "source": [
    "# define logging and working directory\n",
    "from ProjectRoot import change_wd_to_project_root\n",
    "change_wd_to_project_root()\n",
    "from src.utils.Notebook_imports import *"
   ]
  },
  {
   "cell_type": "markdown",
   "metadata": {},
   "source": [
    "# Test the main concepts of a DL generator\n",
    "\n",
    "A Generator yields a tuple of (x,y) and is used to feed data into a deep learning model\n",
    "\n",
    "Each x/y tuple has the following shape: \n",
    "\n",
    "$batchsize * exampleSize * exampleShape$ \n",
    "\n",
    "--> The $exampleShape$ could be:\n",
    "- for 1D vector-data: $len(vector_{data})$\n",
    "- for 2D images: $height * width$: \n",
    "- for 3D volumes: $depth * height * width$)\n"
   ]
  },
  {
   "cell_type": "markdown",
   "metadata": {},
   "source": [
    "# Interactive fake data generation\n",
    "\n",
    "Please define:\n",
    "\n",
    "- The total number of $examples$ (the size of the dataset), each $example$ represents one patient/entity\n",
    "- the $exampleSize$ (number of objects per example), this could represent different timesteps of a multi input generator\n",
    "- the $batchsize$, meaning how many examples should be yielded in one step\n",
    "\n",
    "Usually one example would reflect the path to a file. Which, when loaded will reult in a given $exampleShape$.\n",
    "\n",
    "In this example we will create random numbers with the shape of 1 to make the printing easier.\n",
    "\n",
    "Each random number represents a 1D/2D or 3D object"
   ]
  },
  {
   "cell_type": "code",
   "execution_count": 22,
   "metadata": {},
   "outputs": [
    {
     "data": {
      "application/vnd.jupyter.widget-view+json": {
       "model_id": "7ba57c690fbf4588a00e4563b1606716",
       "version_major": 2,
       "version_minor": 0
      },
      "text/plain": [
       "interactive(children=(IntSlider(value=500, description='examples_', max=1000, min=1), IntSlider(value=4, descr…"
      ]
     },
     "metadata": {},
     "output_type": "display_data"
    }
   ],
   "source": [
    "# Define the size of our fake data\n",
    "upper_example_limit = 1000\n",
    "upper_example_size_limit = 8\n",
    "upper_batchsize_limit = 20\n",
    "\n",
    "@interact_manual\n",
    "def create_fake_data(examples_=(1,upper_example_limit), \n",
    "                     input_objects_=(1,upper_example_size_limit),\n",
    "                     output_objects_=(1,upper_example_size_limit),\n",
    "                     batchsize_=(1,upper_batchsize_limit), \n",
    "                     input_obj_shape='(10,10,10)', \n",
    "                     ouptut_obj_shape='(10,10,10)'):\n",
    "    \n",
    "    global examples, input_objects, output_objects , batchsize, indexes, X, Y, x_dict, y_dict, batches\n",
    "    examples = examples_\n",
    "    batchsize = batchsize_\n",
    "    input_objects = input_objects_\n",
    "    output_objects = output_objects_\n",
    "    \n",
    "    # make sure the dimensions have the correct formating\n",
    "    x_dim = tuple(map(int, input_obj_shape.replace(')', '').replace('(','').split(',')))\n",
    "    y_dim = tuple(map(int, ouptut_obj_shape.replace(')', '').replace('(','').split(',')))\n",
    "    \n",
    "    # create some fake data\n",
    "    x_dict = {}\n",
    "    y_dict = {}  \n",
    "    X = []\n",
    "    for example in range(examples_):\n",
    "        x_dict[example] = np.stack([np.round(np.random.sample(x_dim),2)+example for i in range(input_objects)])\n",
    "        y_dict[example] = np.stack([np.round(np.random.sample(y_dim),2)+(10*example) for i in range(output_objects)])\n",
    "        # testing purpose if lists are faster than dicts\n",
    "        X.append(np.stack([np.round(np.random.sample(x_dim),2)+example for i in range(input_objects)]))\n",
    "    # index our data, we can use the indicies to select one example in a list or dictionary\n",
    "    indexes = list(range(len(x_dict)))\n",
    "    batches = int(np.floor(examples/batchsize))-1\n",
    "    print('Shape of one patient X: {}, Y: {}'.format(x_dict[0].shape, y_dict[0].shape))"
   ]
  },
  {
   "cell_type": "code",
   "execution_count": 19,
   "metadata": {},
   "outputs": [
    {
     "data": {
      "application/vnd.jupyter.widget-view+json": {
       "model_id": "849aef9a22c2409ebe20d56cafdedf3a",
       "version_major": 2,
       "version_minor": 0
      },
      "text/plain": [
       "interactive(children=(IntSlider(value=49, description='selected_batch', max=99), Checkbox(value=False, descrip…"
      ]
     },
     "metadata": {},
     "output_type": "display_data"
    }
   ],
   "source": [
    "# Select one batch and yield the corresponding values (batchsize x example_size)\n",
    "@interact\n",
    "def select_batch(selected_batch = (0,batches), shuffle_indexes=False, debug=False):\n",
    "    global indexes\n",
    "    \n",
    "    if shuffle_indexes:\n",
    "        random.shuffle(indexes)\n",
    "    # make sure indexes are correctly initialised\n",
    "    assert len(indexes) == examples, print('len indexes: {}, number of examples: {}'.format(len(indexes), examples))\n",
    "    \n",
    "    # define the lower/upper index slicing borders \n",
    "    start_idx = selected_batch*batchsize\n",
    "    end_idx = (selected_batch+1)*batchsize\n",
    "    \n",
    "    # slice the indexes of the current batch\n",
    "    batch_indexes = indexes[start_idx: end_idx]\n",
    "    \n",
    "    # print the restrictions of the current batch\n",
    "    print('selected batch: {} of {} with a batchsize of {} and total {} examples'.format(selected_batch, batches, batchsize, examples))\n",
    "    print('start idx: {}, end idx: {}'.format(start_idx, end_idx))\n",
    "    print('Indexes of the currrent batch: {}'.format(batch_indexes))\n",
    "    print('-'*40)\n",
    "    \n",
    "    # stack the entities of the current batch\n",
    "    batch_x = np.stack([x_dict[k] for k in batch_indexes])\n",
    "    batch_y = np.stack([y_dict[k] for k in batch_indexes])\n",
    "    if debug:\n",
    "        [print('index: {}: value: {}'.format(k, x_dict[k])) for k in batch_indexes]\n",
    "        [print('index: {}: value: {}'.format(k, y_dict[k])) for k in batch_indexes]\n",
    "    \n",
    "    return([batch_x.shape, batch_y.shape])"
   ]
  },
  {
   "cell_type": "code",
   "execution_count": 20,
   "metadata": {},
   "outputs": [],
   "source": [
    "from random import randint\n",
    "# We have a list --> X and a dictionary --> x_dict, \n",
    "# len(X) == len(x_dict)\n",
    "# and X[i] == x_dict[i] for all i in range(len(X))\n",
    "# We create n random indicies within the range of len(X)\n",
    "samples = [randint(0, examples-1) for _ in range(10000000)]"
   ]
  },
  {
   "cell_type": "code",
   "execution_count": 21,
   "metadata": {},
   "outputs": [
    {
     "ename": "IndexError",
     "evalue": "list index out of range",
     "output_type": "error",
     "traceback": [
      "\u001b[0;31m---------------------------------------------------------------------------\u001b[0m",
      "\u001b[0;31mIndexError\u001b[0m                                Traceback (most recent call last)",
      "\u001b[0;32m<ipython-input-21-8acbf7a265a4>\u001b[0m in \u001b[0;36m<module>\u001b[0;34m\u001b[0m\n\u001b[0;32m----> 1\u001b[0;31m \u001b[0mget_ipython\u001b[0m\u001b[0;34m(\u001b[0m\u001b[0;34m)\u001b[0m\u001b[0;34m.\u001b[0m\u001b[0mrun_cell_magic\u001b[0m\u001b[0;34m(\u001b[0m\u001b[0;34m'timeit'\u001b[0m\u001b[0;34m,\u001b[0m \u001b[0;34m''\u001b[0m\u001b[0;34m,\u001b[0m \u001b[0;34m'# access the list n times, append the value to a new list\\ntemp = None\\nfor i in samples:\\n    temp = X[i]\\n    \\n'\u001b[0m\u001b[0;34m)\u001b[0m\u001b[0;34m\u001b[0m\u001b[0;34m\u001b[0m\u001b[0m\n\u001b[0m",
      "\u001b[0;32m~/anaconda3/envs/dcmr/lib/python3.8/site-packages/IPython/core/interactiveshell.py\u001b[0m in \u001b[0;36mrun_cell_magic\u001b[0;34m(self, magic_name, line, cell)\u001b[0m\n\u001b[1;32m   2389\u001b[0m             \u001b[0;32mwith\u001b[0m \u001b[0mself\u001b[0m\u001b[0;34m.\u001b[0m\u001b[0mbuiltin_trap\u001b[0m\u001b[0;34m:\u001b[0m\u001b[0;34m\u001b[0m\u001b[0;34m\u001b[0m\u001b[0m\n\u001b[1;32m   2390\u001b[0m                 \u001b[0margs\u001b[0m \u001b[0;34m=\u001b[0m \u001b[0;34m(\u001b[0m\u001b[0mmagic_arg_s\u001b[0m\u001b[0;34m,\u001b[0m \u001b[0mcell\u001b[0m\u001b[0;34m)\u001b[0m\u001b[0;34m\u001b[0m\u001b[0;34m\u001b[0m\u001b[0m\n\u001b[0;32m-> 2391\u001b[0;31m                 \u001b[0mresult\u001b[0m \u001b[0;34m=\u001b[0m \u001b[0mfn\u001b[0m\u001b[0;34m(\u001b[0m\u001b[0;34m*\u001b[0m\u001b[0margs\u001b[0m\u001b[0;34m,\u001b[0m \u001b[0;34m**\u001b[0m\u001b[0mkwargs\u001b[0m\u001b[0;34m)\u001b[0m\u001b[0;34m\u001b[0m\u001b[0;34m\u001b[0m\u001b[0m\n\u001b[0m\u001b[1;32m   2392\u001b[0m             \u001b[0;32mreturn\u001b[0m \u001b[0mresult\u001b[0m\u001b[0;34m\u001b[0m\u001b[0;34m\u001b[0m\u001b[0m\n\u001b[1;32m   2393\u001b[0m \u001b[0;34m\u001b[0m\u001b[0m\n",
      "\u001b[0;32m<decorator-gen-53>\u001b[0m in \u001b[0;36mtimeit\u001b[0;34m(self, line, cell, local_ns)\u001b[0m\n",
      "\u001b[0;32m~/anaconda3/envs/dcmr/lib/python3.8/site-packages/IPython/core/magic.py\u001b[0m in \u001b[0;36m<lambda>\u001b[0;34m(f, *a, **k)\u001b[0m\n\u001b[1;32m    185\u001b[0m     \u001b[0;31m# but it's overkill for just that one bit of state.\u001b[0m\u001b[0;34m\u001b[0m\u001b[0;34m\u001b[0m\u001b[0;34m\u001b[0m\u001b[0m\n\u001b[1;32m    186\u001b[0m     \u001b[0;32mdef\u001b[0m \u001b[0mmagic_deco\u001b[0m\u001b[0;34m(\u001b[0m\u001b[0marg\u001b[0m\u001b[0;34m)\u001b[0m\u001b[0;34m:\u001b[0m\u001b[0;34m\u001b[0m\u001b[0;34m\u001b[0m\u001b[0m\n\u001b[0;32m--> 187\u001b[0;31m         \u001b[0mcall\u001b[0m \u001b[0;34m=\u001b[0m \u001b[0;32mlambda\u001b[0m \u001b[0mf\u001b[0m\u001b[0;34m,\u001b[0m \u001b[0;34m*\u001b[0m\u001b[0ma\u001b[0m\u001b[0;34m,\u001b[0m \u001b[0;34m**\u001b[0m\u001b[0mk\u001b[0m\u001b[0;34m:\u001b[0m \u001b[0mf\u001b[0m\u001b[0;34m(\u001b[0m\u001b[0;34m*\u001b[0m\u001b[0ma\u001b[0m\u001b[0;34m,\u001b[0m \u001b[0;34m**\u001b[0m\u001b[0mk\u001b[0m\u001b[0;34m)\u001b[0m\u001b[0;34m\u001b[0m\u001b[0;34m\u001b[0m\u001b[0m\n\u001b[0m\u001b[1;32m    188\u001b[0m \u001b[0;34m\u001b[0m\u001b[0m\n\u001b[1;32m    189\u001b[0m         \u001b[0;32mif\u001b[0m \u001b[0mcallable\u001b[0m\u001b[0;34m(\u001b[0m\u001b[0marg\u001b[0m\u001b[0;34m)\u001b[0m\u001b[0;34m:\u001b[0m\u001b[0;34m\u001b[0m\u001b[0;34m\u001b[0m\u001b[0m\n",
      "\u001b[0;32m~/anaconda3/envs/dcmr/lib/python3.8/site-packages/IPython/core/magics/execution.py\u001b[0m in \u001b[0;36mtimeit\u001b[0;34m(self, line, cell, local_ns)\u001b[0m\n\u001b[1;32m   1167\u001b[0m             \u001b[0;32mfor\u001b[0m \u001b[0mindex\u001b[0m \u001b[0;32min\u001b[0m \u001b[0mrange\u001b[0m\u001b[0;34m(\u001b[0m\u001b[0;36m0\u001b[0m\u001b[0;34m,\u001b[0m \u001b[0;36m10\u001b[0m\u001b[0;34m)\u001b[0m\u001b[0;34m:\u001b[0m\u001b[0;34m\u001b[0m\u001b[0;34m\u001b[0m\u001b[0m\n\u001b[1;32m   1168\u001b[0m                 \u001b[0mnumber\u001b[0m \u001b[0;34m=\u001b[0m \u001b[0;36m10\u001b[0m \u001b[0;34m**\u001b[0m \u001b[0mindex\u001b[0m\u001b[0;34m\u001b[0m\u001b[0;34m\u001b[0m\u001b[0m\n\u001b[0;32m-> 1169\u001b[0;31m                 \u001b[0mtime_number\u001b[0m \u001b[0;34m=\u001b[0m \u001b[0mtimer\u001b[0m\u001b[0;34m.\u001b[0m\u001b[0mtimeit\u001b[0m\u001b[0;34m(\u001b[0m\u001b[0mnumber\u001b[0m\u001b[0;34m)\u001b[0m\u001b[0;34m\u001b[0m\u001b[0;34m\u001b[0m\u001b[0m\n\u001b[0m\u001b[1;32m   1170\u001b[0m                 \u001b[0;32mif\u001b[0m \u001b[0mtime_number\u001b[0m \u001b[0;34m>=\u001b[0m \u001b[0;36m0.2\u001b[0m\u001b[0;34m:\u001b[0m\u001b[0;34m\u001b[0m\u001b[0;34m\u001b[0m\u001b[0m\n\u001b[1;32m   1171\u001b[0m                     \u001b[0;32mbreak\u001b[0m\u001b[0;34m\u001b[0m\u001b[0;34m\u001b[0m\u001b[0m\n",
      "\u001b[0;32m~/anaconda3/envs/dcmr/lib/python3.8/site-packages/IPython/core/magics/execution.py\u001b[0m in \u001b[0;36mtimeit\u001b[0;34m(self, number)\u001b[0m\n\u001b[1;32m    167\u001b[0m         \u001b[0mgc\u001b[0m\u001b[0;34m.\u001b[0m\u001b[0mdisable\u001b[0m\u001b[0;34m(\u001b[0m\u001b[0;34m)\u001b[0m\u001b[0;34m\u001b[0m\u001b[0;34m\u001b[0m\u001b[0m\n\u001b[1;32m    168\u001b[0m         \u001b[0;32mtry\u001b[0m\u001b[0;34m:\u001b[0m\u001b[0;34m\u001b[0m\u001b[0;34m\u001b[0m\u001b[0m\n\u001b[0;32m--> 169\u001b[0;31m             \u001b[0mtiming\u001b[0m \u001b[0;34m=\u001b[0m \u001b[0mself\u001b[0m\u001b[0;34m.\u001b[0m\u001b[0minner\u001b[0m\u001b[0;34m(\u001b[0m\u001b[0mit\u001b[0m\u001b[0;34m,\u001b[0m \u001b[0mself\u001b[0m\u001b[0;34m.\u001b[0m\u001b[0mtimer\u001b[0m\u001b[0;34m)\u001b[0m\u001b[0;34m\u001b[0m\u001b[0;34m\u001b[0m\u001b[0m\n\u001b[0m\u001b[1;32m    170\u001b[0m         \u001b[0;32mfinally\u001b[0m\u001b[0;34m:\u001b[0m\u001b[0;34m\u001b[0m\u001b[0;34m\u001b[0m\u001b[0m\n\u001b[1;32m    171\u001b[0m             \u001b[0;32mif\u001b[0m \u001b[0mgcold\u001b[0m\u001b[0;34m:\u001b[0m\u001b[0;34m\u001b[0m\u001b[0;34m\u001b[0m\u001b[0m\n",
      "\u001b[0;32m<magic-timeit>\u001b[0m in \u001b[0;36minner\u001b[0;34m(_it, _timer)\u001b[0m\n",
      "\u001b[0;31mIndexError\u001b[0m: list index out of range"
     ]
    }
   ],
   "source": [
    "%%timeit\n",
    "# access the list n times, append the value to a new list\n",
    "temp = None\n",
    "for i in samples:\n",
    "    temp = X[i]\n",
    "    "
   ]
  },
  {
   "cell_type": "code",
   "execution_count": 7,
   "metadata": {},
   "outputs": [
    {
     "name": "stdout",
     "output_type": "stream",
     "text": [
      "2.15 s ± 9.28 ms per loop (mean ± std. dev. of 7 runs, 1 loop each)\n"
     ]
    }
   ],
   "source": [
    "%%timeit\n",
    "# access the dict n times, append the value to a new list\n",
    "temp = None\n",
    "for i in samples:\n",
    "    temp = x_dict[i]"
   ]
  },
  {
   "cell_type": "markdown",
   "metadata": {},
   "source": [
    "# Some hardcoded examples how we construct the fake batches"
   ]
  },
  {
   "cell_type": "code",
   "execution_count": 25,
   "metadata": {},
   "outputs": [
    {
     "name": "stdout",
     "output_type": "stream",
     "text": [
      "[[0, 1, 2, 3, 4], [0, 1, 2, 3, 4], [0, 1, 2, 3, 4], [0, 1, 2, 3, 4], [0, 1, 2, 3, 4], [0, 1, 2, 3, 4], [0, 1, 2, 3, 4], [0, 1, 2, 3, 4], [0, 1, 2, 3, 4], [0, 1, 2, 3, 4]]\n",
      "[[10, 11, 12, 13, 14], [10, 11, 12, 13, 14], [10, 11, 12, 13, 14], [10, 11, 12, 13, 14], [10, 11, 12, 13, 14], [10, 11, 12, 13, 14], [10, 11, 12, 13, 14], [10, 11, 12, 13, 14], [10, 11, 12, 13, 14], [10, 11, 12, 13, 14]]\n"
     ]
    }
   ],
   "source": [
    "## we asume x and y to be a list of lists (representing the model input and output with variable length)\n",
    "# create some fake data\n",
    "examples = 10\n",
    "example_size = 5\n",
    "x = [list(i for i in range(example_size)) for _ in range(examples)]\n",
    "y = [list(i+10 for i in range(example_size)) for _ in range(examples)]\n",
    "print(x)\n",
    "print(y)"
   ]
  },
  {
   "cell_type": "code",
   "execution_count": 26,
   "metadata": {},
   "outputs": [
    {
     "data": {
      "text/plain": [
       "[0, 1, 2, 3, 4, 5, 6, 7, 8, 9]"
      ]
     },
     "execution_count": 26,
     "metadata": {},
     "output_type": "execute_result"
    }
   ],
   "source": [
    "# create unique indexes, which than can be shuffeled\n",
    "indexes = list(range(len(x)))\n",
    "indexes"
   ]
  },
  {
   "cell_type": "code",
   "execution_count": 27,
   "metadata": {},
   "outputs": [
    {
     "data": {
      "text/plain": [
       "[4, 2, 1, 6, 5, 0, 8, 3, 9, 7]"
      ]
     },
     "execution_count": 27,
     "metadata": {},
     "output_type": "execute_result"
    }
   ],
   "source": [
    "import random\n",
    "random.shuffle(indexes)\n",
    "indexes"
   ]
  },
  {
   "cell_type": "code",
   "execution_count": 28,
   "metadata": {},
   "outputs": [
    {
     "data": {
      "text/plain": [
       "[4, 2]"
      ]
     },
     "execution_count": 28,
     "metadata": {},
     "output_type": "execute_result"
    }
   ],
   "source": [
    "# get the indexes for a hard-coded batchsize of two\n",
    "indexes[0:2]"
   ]
  },
  {
   "cell_type": "code",
   "execution_count": 29,
   "metadata": {},
   "outputs": [
    {
     "name": "stdout",
     "output_type": "stream",
     "text": [
      "[4, 2]\n"
     ]
    }
   ],
   "source": [
    "# get a variable size\n",
    "batchsize = 2\n",
    "index = 0\n",
    "batch_indexes = indexes[index*batchsize: (index+1)*batchsize]\n",
    "print(batch_indexes)"
   ]
  },
  {
   "cell_type": "code",
   "execution_count": null,
   "metadata": {},
   "outputs": [],
   "source": []
  }
 ],
 "metadata": {
  "kernelspec": {
   "display_name": "dcmr",
   "language": "python",
   "name": "dcmr"
  },
  "language_info": {
   "codemirror_mode": {
    "name": "ipython",
    "version": 3
   },
   "file_extension": ".py",
   "mimetype": "text/x-python",
   "name": "python",
   "nbconvert_exporter": "python",
   "pygments_lexer": "ipython3",
   "version": "3.8.5"
  },
  "widgets": {
   "application/vnd.jupyter.widget-state+json": {
    "state": {
     "002a1d189ca94b9b93f540f94b868b47": {
      "model_module": "@jupyter-widgets/controls",
      "model_module_version": "1.5.0",
      "model_name": "SliderStyleModel",
      "state": {
       "description_width": ""
      }
     },
     "012d871fc5d4458e8962813c3506dd5f": {
      "model_module": "@jupyter-widgets/base",
      "model_module_version": "1.2.0",
      "model_name": "LayoutModel",
      "state": {}
     },
     "029b39fc201c4b6ebdc1b22af4df7c9b": {
      "model_module": "@jupyter-widgets/base",
      "model_module_version": "1.2.0",
      "model_name": "LayoutModel",
      "state": {}
     },
     "02ecc1935d57422db3288c70b280206e": {
      "model_module": "@jupyter-widgets/controls",
      "model_module_version": "1.5.0",
      "model_name": "TextModel",
      "state": {
       "description": "ouptut_obj_shape",
       "layout": "IPY_MODEL_929510d54c044c4e9de95d7672a6548a",
       "style": "IPY_MODEL_15c9b604807345f3bd1f643c19d31f74",
       "value": "(10,10,10)"
      }
     },
     "04ada1df49e04df7a1b3b474f110c2c4": {
      "model_module": "@jupyter-widgets/base",
      "model_module_version": "1.2.0",
      "model_name": "LayoutModel",
      "state": {}
     },
     "0508f0a6d79d42818d72bd5bc3643c49": {
      "model_module": "@jupyter-widgets/controls",
      "model_module_version": "1.5.0",
      "model_name": "VBoxModel",
      "state": {
       "_dom_classes": [
        "widget-interact"
       ],
       "children": [
        "IPY_MODEL_f0906ec30548458698b39c620c89fa6c",
        "IPY_MODEL_0b1d86bd0f3c43a8b72be4196db9828b",
        "IPY_MODEL_685dcef3cb8b490097de600c074e59cf",
        "IPY_MODEL_6f54939f35ce4b0d8944cc2494a5771e",
        "IPY_MODEL_18254309d50a4a43b23f4233d1f63ba1",
        "IPY_MODEL_cfd6915da9c2482e980330656d671f5a",
        "IPY_MODEL_fee5ae7bad29433b85be45384e99d7d5"
       ],
       "layout": "IPY_MODEL_43f712bd0ad24057abf79e9b9fc348bc"
      }
     },
     "076647720a29429fb71a1d97d3d76565": {
      "model_module": "@jupyter-widgets/base",
      "model_module_version": "1.2.0",
      "model_name": "LayoutModel",
      "state": {}
     },
     "07ad638318e3460d8186de62b303d479": {
      "model_module": "@jupyter-widgets/controls",
      "model_module_version": "1.5.0",
      "model_name": "IntSliderModel",
      "state": {
       "description": "selected_batch",
       "layout": "IPY_MODEL_c0569103c6fe4f738d486da276aff476",
       "max": 99,
       "style": "IPY_MODEL_27591252940c496d88066bffd61e171c",
       "value": 91
      }
     },
     "0b1d86bd0f3c43a8b72be4196db9828b": {
      "model_module": "@jupyter-widgets/controls",
      "model_module_version": "1.5.0",
      "model_name": "IntSliderModel",
      "state": {
       "description": "example_size_",
       "layout": "IPY_MODEL_13e170a0cbfe413394a50425706229d7",
       "max": 8,
       "min": 1,
       "style": "IPY_MODEL_12ca4ee2957e43b696ba14741604b3ed",
       "value": 1
      }
     },
     "0ba6d6c3887b420487f041707b5152c3": {
      "model_module": "@jupyter-widgets/base",
      "model_module_version": "1.2.0",
      "model_name": "LayoutModel",
      "state": {}
     },
     "0d9348a6b77b4bc596c7cc63a5d3d74e": {
      "model_module": "@jupyter-widgets/controls",
      "model_module_version": "1.5.0",
      "model_name": "IntSliderModel",
      "state": {
       "description": "example_size_",
       "layout": "IPY_MODEL_69f63a021921403cb4a226d25a9867ee",
       "max": 8,
       "min": 1,
       "style": "IPY_MODEL_4b2300ccf9824692b197a036cf971848",
       "value": 4
      }
     },
     "0f3b9eec9506488b947b976b2eb4f9bf": {
      "model_module": "@jupyter-widgets/controls",
      "model_module_version": "1.5.0",
      "model_name": "SliderStyleModel",
      "state": {
       "description_width": ""
      }
     },
     "0f5bca8fac1b4d8f8f1aec1aec293ccb": {
      "model_module": "@jupyter-widgets/base",
      "model_module_version": "1.2.0",
      "model_name": "LayoutModel",
      "state": {}
     },
     "0f97e36ff81d4bc496d87d7c35b8a12c": {
      "model_module": "@jupyter-widgets/controls",
      "model_module_version": "1.5.0",
      "model_name": "ButtonModel",
      "state": {
       "description": "Run Interact",
       "layout": "IPY_MODEL_6e385ac594e04cb49d826a5eae22e90c",
       "style": "IPY_MODEL_b263fcc26a7448d184240554b59ec63b"
      }
     },
     "111cd3772a704841b6abcef1d88e6fae": {
      "model_module": "@jupyter-widgets/controls",
      "model_module_version": "1.5.0",
      "model_name": "IntSliderModel",
      "state": {
       "description": "output_objects_",
       "layout": "IPY_MODEL_56f98f61820c4f479ed1a6b228df92f5",
       "max": 8,
       "min": 1,
       "style": "IPY_MODEL_e8c75b46f9d94c3caeb4f8197fb3df5a",
       "value": 4
      }
     },
     "1157652aaa9a4c1d8012aea9c39ab0e1": {
      "model_module": "@jupyter-widgets/output",
      "model_module_version": "1.0.0",
      "model_name": "OutputModel",
      "state": {
       "layout": "IPY_MODEL_440adb30e0f24551b077899f7f8177d5",
       "outputs": [
        {
         "name": "stdout",
         "output_type": "stream",
         "text": "selected batch: 91 of 99 with a batchsize of 10 and total 1000 examples\nstart idx: 910, end idx: 920\nIndexes of the currrent batch: [910, 911, 912, 913, 914, 915, 916, 917, 918, 919]\n----------------------------------------\n"
        },
        {
         "data": {
          "text/plain": "[(10, 4, 10, 10, 10), (10, 4, 10, 10, 10)]"
         },
         "metadata": {},
         "output_type": "display_data"
        }
       ]
      }
     },
     "12ca4ee2957e43b696ba14741604b3ed": {
      "model_module": "@jupyter-widgets/controls",
      "model_module_version": "1.5.0",
      "model_name": "SliderStyleModel",
      "state": {
       "description_width": ""
      }
     },
     "13e170a0cbfe413394a50425706229d7": {
      "model_module": "@jupyter-widgets/base",
      "model_module_version": "1.2.0",
      "model_name": "LayoutModel",
      "state": {}
     },
     "141ef44e456b4d8eaeb117dea3ff9d90": {
      "model_module": "@jupyter-widgets/controls",
      "model_module_version": "1.5.0",
      "model_name": "DescriptionStyleModel",
      "state": {
       "description_width": ""
      }
     },
     "1486e1a1d288418eb16c4ac5c69ee955": {
      "model_module": "@jupyter-widgets/base",
      "model_module_version": "1.2.0",
      "model_name": "LayoutModel",
      "state": {}
     },
     "15c9b604807345f3bd1f643c19d31f74": {
      "model_module": "@jupyter-widgets/controls",
      "model_module_version": "1.5.0",
      "model_name": "DescriptionStyleModel",
      "state": {
       "description_width": ""
      }
     },
     "18254309d50a4a43b23f4233d1f63ba1": {
      "model_module": "@jupyter-widgets/controls",
      "model_module_version": "1.5.0",
      "model_name": "TextModel",
      "state": {
       "description": "y_dim",
       "layout": "IPY_MODEL_69a688838cf24b1989467e0372fbbf40",
       "style": "IPY_MODEL_ae33e11acb1b4f3da660b987ccb01ada",
       "value": "(1)"
      }
     },
     "18d9dee5fc6142f89d79d8bab9383d11": {
      "model_module": "@jupyter-widgets/output",
      "model_module_version": "1.0.0",
      "model_name": "OutputModel",
      "state": {
       "layout": "IPY_MODEL_1486e1a1d288418eb16c4ac5c69ee955"
      }
     },
     "1b1114f4ae834189b9cb336b6bffa35b": {
      "model_module": "@jupyter-widgets/base",
      "model_module_version": "1.2.0",
      "model_name": "LayoutModel",
      "state": {}
     },
     "1d1f8c8a8365406c8c378968ee1a2bde": {
      "model_module": "@jupyter-widgets/controls",
      "model_module_version": "1.5.0",
      "model_name": "TextModel",
      "state": {
       "description": "input_obj_shape",
       "layout": "IPY_MODEL_0ba6d6c3887b420487f041707b5152c3",
       "style": "IPY_MODEL_bc7d1f2ca3924b759eee5657d9362dfc",
       "value": "16,224,224"
      }
     },
     "1e34f1ae7b9d42f2b87ad35d140507c3": {
      "model_module": "@jupyter-widgets/base",
      "model_module_version": "1.2.0",
      "model_name": "LayoutModel",
      "state": {}
     },
     "1ef5620ab4884991a61325797f66077b": {
      "model_module": "@jupyter-widgets/output",
      "model_module_version": "1.0.0",
      "model_name": "OutputModel",
      "state": {
       "layout": "IPY_MODEL_e87311c2f1bc4ae38134237a00f1b3c2",
       "outputs": [
        {
         "name": "stdout",
         "output_type": "stream",
         "text": "Shape of one patient X: (4, 16, 224, 224), Y: (4, 10, 10, 10)\n"
        }
       ]
      }
     },
     "25af35fee7234ef8815980a51a18c42b": {
      "model_module": "@jupyter-widgets/controls",
      "model_module_version": "1.5.0",
      "model_name": "SliderStyleModel",
      "state": {
       "description_width": ""
      }
     },
     "27591252940c496d88066bffd61e171c": {
      "model_module": "@jupyter-widgets/controls",
      "model_module_version": "1.5.0",
      "model_name": "SliderStyleModel",
      "state": {
       "description_width": ""
      }
     },
     "291b3990a08b49a1b1d02b2c85c7cbb5": {
      "model_module": "@jupyter-widgets/controls",
      "model_module_version": "1.5.0",
      "model_name": "TextModel",
      "state": {
       "description": "input_obj_shape",
       "layout": "IPY_MODEL_1b1114f4ae834189b9cb336b6bffa35b",
       "style": "IPY_MODEL_45d45d850ead4c95a618356ee0816159",
       "value": "(10,10,10)"
      }
     },
     "293a42cfb8f4439ea834c408aaecd361": {
      "model_module": "@jupyter-widgets/controls",
      "model_module_version": "1.5.0",
      "model_name": "SliderStyleModel",
      "state": {
       "description_width": ""
      }
     },
     "2a00c204318b4b328d4dc264d98dda78": {
      "model_module": "@jupyter-widgets/base",
      "model_module_version": "1.2.0",
      "model_name": "LayoutModel",
      "state": {}
     },
     "2ea40eb8a29f4cd8b654a10dce5a5bd3": {
      "model_module": "@jupyter-widgets/base",
      "model_module_version": "1.2.0",
      "model_name": "LayoutModel",
      "state": {}
     },
     "2ffb6dd180d048638aba00747775e399": {
      "model_module": "@jupyter-widgets/base",
      "model_module_version": "1.2.0",
      "model_name": "LayoutModel",
      "state": {}
     },
     "3131c5956719482f933718895679f7de": {
      "model_module": "@jupyter-widgets/base",
      "model_module_version": "1.2.0",
      "model_name": "LayoutModel",
      "state": {}
     },
     "32d05c6e71f343b2997021eff9067efc": {
      "model_module": "@jupyter-widgets/controls",
      "model_module_version": "1.5.0",
      "model_name": "TextModel",
      "state": {
       "description": "y_dim",
       "layout": "IPY_MODEL_da1d8c50e1b248dc9c993bd3ad69b006",
       "style": "IPY_MODEL_141ef44e456b4d8eaeb117dea3ff9d90",
       "value": "(10,10,10)"
      }
     },
     "344e9d05a4054be38ae60ad2d47ce81f": {
      "model_module": "@jupyter-widgets/controls",
      "model_module_version": "1.5.0",
      "model_name": "CheckboxModel",
      "state": {
       "description": "debug",
       "disabled": false,
       "layout": "IPY_MODEL_d01664fee2c048a8922c194b699c59d2",
       "style": "IPY_MODEL_fd02404f536a489ab52159c5cc08ff6d",
       "value": false
      }
     },
     "388cd0e7f65b4b0a85208ebbb2325604": {
      "model_module": "@jupyter-widgets/base",
      "model_module_version": "1.2.0",
      "model_name": "LayoutModel",
      "state": {}
     },
     "39bd02f5821a45cd9a6500eb7360d231": {
      "model_module": "@jupyter-widgets/base",
      "model_module_version": "1.2.0",
      "model_name": "LayoutModel",
      "state": {}
     },
     "3a27665410da463a9e447ecd8877a3ce": {
      "model_module": "@jupyter-widgets/base",
      "model_module_version": "1.2.0",
      "model_name": "LayoutModel",
      "state": {}
     },
     "408a2a5badb74c449b67ad10a246f407": {
      "model_module": "@jupyter-widgets/base",
      "model_module_version": "1.2.0",
      "model_name": "LayoutModel",
      "state": {}
     },
     "42cfaf8af9f4447abd15563e61fb7e03": {
      "model_module": "@jupyter-widgets/controls",
      "model_module_version": "1.5.0",
      "model_name": "VBoxModel",
      "state": {
       "_dom_classes": [
        "widget-interact"
       ],
       "children": [
        "IPY_MODEL_d229f422d81741cbbc90658f15d77b8a",
        "IPY_MODEL_0d9348a6b77b4bc596c7cc63a5d3d74e",
        "IPY_MODEL_fbd2cc9c2c00463a996f560dd28450b4",
        "IPY_MODEL_f8e81223e2684a4287d59a6a4087dd52",
        "IPY_MODEL_d27a0bc72c9f468f9b319c8e0556c254",
        "IPY_MODEL_6a93da24aa884b1581d06ec8465911ee",
        "IPY_MODEL_1ef5620ab4884991a61325797f66077b"
       ],
       "layout": "IPY_MODEL_e137b7f793524bdbbfdcf338f22e3033"
      }
     },
     "43d133d9ed5f4a65b9add3d2657ef71c": {
      "model_module": "@jupyter-widgets/controls",
      "model_module_version": "1.5.0",
      "model_name": "IntSliderModel",
      "state": {
       "description": "batchsize_",
       "layout": "IPY_MODEL_fe0cdd1e7d724b40b07e3459c1503aa1",
       "max": 20,
       "min": 1,
       "style": "IPY_MODEL_d7206f1b764447ad92cfbba9935d1278",
       "value": 10
      }
     },
     "43f712bd0ad24057abf79e9b9fc348bc": {
      "model_module": "@jupyter-widgets/base",
      "model_module_version": "1.2.0",
      "model_name": "LayoutModel",
      "state": {}
     },
     "440adb30e0f24551b077899f7f8177d5": {
      "model_module": "@jupyter-widgets/base",
      "model_module_version": "1.2.0",
      "model_name": "LayoutModel",
      "state": {}
     },
     "45d45d850ead4c95a618356ee0816159": {
      "model_module": "@jupyter-widgets/controls",
      "model_module_version": "1.5.0",
      "model_name": "DescriptionStyleModel",
      "state": {
       "description_width": ""
      }
     },
     "4b2300ccf9824692b197a036cf971848": {
      "model_module": "@jupyter-widgets/controls",
      "model_module_version": "1.5.0",
      "model_name": "SliderStyleModel",
      "state": {
       "description_width": ""
      }
     },
     "4bc343b2016b4ec1b385169fda6a9176": {
      "model_module": "@jupyter-widgets/base",
      "model_module_version": "1.2.0",
      "model_name": "LayoutModel",
      "state": {}
     },
     "4d0f0f3f4f1448dc8f17978ddcc16832": {
      "model_module": "@jupyter-widgets/controls",
      "model_module_version": "1.5.0",
      "model_name": "ButtonStyleModel",
      "state": {}
     },
     "4e7ea123e0c245c4a45f80c311eeb566": {
      "model_module": "@jupyter-widgets/controls",
      "model_module_version": "1.5.0",
      "model_name": "IntSliderModel",
      "state": {
       "description": "selected_batch",
       "layout": "IPY_MODEL_97d24f31bbca4d5b91a188859341fd70",
       "max": 99999,
       "style": "IPY_MODEL_58628d79109d495fb193bfd065a628e7",
       "value": 57123
      }
     },
     "4fcb0a76bc0e4b8587e5c3e6292f27b3": {
      "model_module": "@jupyter-widgets/controls",
      "model_module_version": "1.5.0",
      "model_name": "DescriptionStyleModel",
      "state": {
       "description_width": ""
      }
     },
     "50438db8a5ee427084063356aef68995": {
      "model_module": "@jupyter-widgets/controls",
      "model_module_version": "1.5.0",
      "model_name": "TextModel",
      "state": {
       "description": "input_obj_shape",
       "layout": "IPY_MODEL_5cdfcaea1f9745a9a4d93294a76b7860",
       "style": "IPY_MODEL_4fcb0a76bc0e4b8587e5c3e6292f27b3",
       "value": "(10,10,10)"
      }
     },
     "53b0ed08e9194367b29c6e9a7bdf076e": {
      "model_module": "@jupyter-widgets/controls",
      "model_module_version": "1.5.0",
      "model_name": "SliderStyleModel",
      "state": {
       "description_width": ""
      }
     },
     "544538939950425c99358b12c5964ef6": {
      "model_module": "@jupyter-widgets/controls",
      "model_module_version": "1.5.0",
      "model_name": "DescriptionStyleModel",
      "state": {
       "description_width": ""
      }
     },
     "54e1f889915f401ea4b56a0fea961f37": {
      "model_module": "@jupyter-widgets/controls",
      "model_module_version": "1.5.0",
      "model_name": "IntSliderModel",
      "state": {
       "description": "examples_",
       "layout": "IPY_MODEL_7dd0c92cb8df4de8beaa7101d6f07efc",
       "max": 1000,
       "min": 1,
       "style": "IPY_MODEL_c3c95355e8ca4f80a05765eef38cd5e9",
       "value": 1000
      }
     },
     "5642a8fac7884b228c9c1e9a9862eb93": {
      "model_module": "@jupyter-widgets/controls",
      "model_module_version": "1.5.0",
      "model_name": "IntSliderModel",
      "state": {
       "description": "selected_batch",
       "layout": "IPY_MODEL_cf8474113679498fbcf60bd0259c5186",
       "max": 99,
       "style": "IPY_MODEL_91957db4a0f144de8471a06ab525d799",
       "value": 99
      }
     },
     "56f98f61820c4f479ed1a6b228df92f5": {
      "model_module": "@jupyter-widgets/base",
      "model_module_version": "1.2.0",
      "model_name": "LayoutModel",
      "state": {}
     },
     "578fed1cd9204ea8bf53722848e8fca2": {
      "model_module": "@jupyter-widgets/base",
      "model_module_version": "1.2.0",
      "model_name": "LayoutModel",
      "state": {}
     },
     "58628d79109d495fb193bfd065a628e7": {
      "model_module": "@jupyter-widgets/controls",
      "model_module_version": "1.5.0",
      "model_name": "SliderStyleModel",
      "state": {
       "description_width": ""
      }
     },
     "5a5eddf0c39f4c8d8734a2b332c43d3d": {
      "model_module": "@jupyter-widgets/output",
      "model_module_version": "1.0.0",
      "model_name": "OutputModel",
      "state": {
       "layout": "IPY_MODEL_82d3bd8c564d4e41845e0106842df49b",
       "outputs": [
        {
         "name": "stdout",
         "output_type": "stream",
         "text": "selected batch: 57123 of 99999 with a batchsize of 10 and total 1000000 examples\nstart idx: 571230, end idx: 571240\nIndexes of the currrent batch: [336478, 381570, 330804, 521884, 87876, 329383, 95912, 236167, 886373, 967119]\n----------------------------------------\n"
        },
        {
         "data": {
          "text/plain": "[(10, 1, 10, 10, 10), (10, 1, 10, 10, 10)]"
         },
         "metadata": {},
         "output_type": "display_data"
        }
       ]
      }
     },
     "5cdfcaea1f9745a9a4d93294a76b7860": {
      "model_module": "@jupyter-widgets/base",
      "model_module_version": "1.2.0",
      "model_name": "LayoutModel",
      "state": {}
     },
     "5e5cd250fbf74ad0883c49735a499472": {
      "model_module": "@jupyter-widgets/base",
      "model_module_version": "1.2.0",
      "model_name": "LayoutModel",
      "state": {}
     },
     "5eb832b8fab744e5a994bda6f137c7d1": {
      "model_module": "@jupyter-widgets/base",
      "model_module_version": "1.2.0",
      "model_name": "LayoutModel",
      "state": {}
     },
     "626ab9737a3c4054923c97bc7b14616f": {
      "model_module": "@jupyter-widgets/controls",
      "model_module_version": "1.5.0",
      "model_name": "IntSliderModel",
      "state": {
       "description": "batchsize_",
       "layout": "IPY_MODEL_3131c5956719482f933718895679f7de",
       "max": 20,
       "min": 1,
       "style": "IPY_MODEL_53b0ed08e9194367b29c6e9a7bdf076e",
       "value": 10
      }
     },
     "685dcef3cb8b490097de600c074e59cf": {
      "model_module": "@jupyter-widgets/controls",
      "model_module_version": "1.5.0",
      "model_name": "IntSliderModel",
      "state": {
       "description": "batchsize_",
       "layout": "IPY_MODEL_ba0b2cd2fbde425ebe3d2ecb20458bdf",
       "max": 20,
       "min": 1,
       "style": "IPY_MODEL_8b590e0c08444b06a99973ecd3264a29",
       "value": 10
      }
     },
     "69a688838cf24b1989467e0372fbbf40": {
      "model_module": "@jupyter-widgets/base",
      "model_module_version": "1.2.0",
      "model_name": "LayoutModel",
      "state": {}
     },
     "69f63a021921403cb4a226d25a9867ee": {
      "model_module": "@jupyter-widgets/base",
      "model_module_version": "1.2.0",
      "model_name": "LayoutModel",
      "state": {}
     },
     "6a93da24aa884b1581d06ec8465911ee": {
      "model_module": "@jupyter-widgets/controls",
      "model_module_version": "1.5.0",
      "model_name": "ButtonModel",
      "state": {
       "description": "Run Interact",
       "layout": "IPY_MODEL_f7b20a4d490b4a18a475ce73372dfe0c",
       "style": "IPY_MODEL_d6cb876416924caab6e9003d6e07b92a"
      }
     },
     "6b16228baa934cfe9bc3a411977d7908": {
      "model_module": "@jupyter-widgets/controls",
      "model_module_version": "1.5.0",
      "model_name": "SliderStyleModel",
      "state": {
       "description_width": ""
      }
     },
     "6b6bef90cfc94543b9cb117e12dac173": {
      "model_module": "@jupyter-widgets/output",
      "model_module_version": "1.0.0",
      "model_name": "OutputModel",
      "state": {
       "layout": "IPY_MODEL_f4c151d921424f1b9e7050c375a7c19e",
       "outputs": [
        {
         "name": "stdout",
         "output_type": "stream",
         "text": "selected batch: 33 of 99 with a batchsize of 10 and total 1000 examples\nstart idx: 330, end idx: 340\nIndexes of the currrent batch: [330, 331, 332, 333, 334, 335, 336, 337, 338, 339]\n----------------------------------------\n"
        },
        {
         "data": {
          "text/plain": "[(10, 4, 16, 224, 224), (10, 4, 10, 10, 10)]"
         },
         "metadata": {},
         "output_type": "display_data"
        }
       ]
      }
     },
     "6bde2bab634449f1bc725e433199d7ff": {
      "model_module": "@jupyter-widgets/base",
      "model_module_version": "1.2.0",
      "model_name": "LayoutModel",
      "state": {}
     },
     "6e385ac594e04cb49d826a5eae22e90c": {
      "model_module": "@jupyter-widgets/base",
      "model_module_version": "1.2.0",
      "model_name": "LayoutModel",
      "state": {}
     },
     "6e6097bf9ad046b3b93a32b4393fde63": {
      "model_module": "@jupyter-widgets/controls",
      "model_module_version": "1.5.0",
      "model_name": "IntSliderModel",
      "state": {
       "description": "input_objects_",
       "layout": "IPY_MODEL_b59ceecae0884bf1adc9cda1a94ba881",
       "max": 8,
       "min": 1,
       "style": "IPY_MODEL_6b16228baa934cfe9bc3a411977d7908",
       "value": 4
      }
     },
     "6f54939f35ce4b0d8944cc2494a5771e": {
      "model_module": "@jupyter-widgets/controls",
      "model_module_version": "1.5.0",
      "model_name": "TextModel",
      "state": {
       "description": "x_dim",
       "layout": "IPY_MODEL_029b39fc201c4b6ebdc1b22af4df7c9b",
       "style": "IPY_MODEL_dcaa22bd08ab4e21a03b86e4b5028e86",
       "value": "(1)"
      }
     },
     "6f93ada8d1424809a80c7333de1b8d0c": {
      "model_module": "@jupyter-widgets/controls",
      "model_module_version": "1.5.0",
      "model_name": "IntSliderModel",
      "state": {
       "description": "examples_",
       "layout": "IPY_MODEL_bad4b3d2aafa4372b4846fb1a19d1da7",
       "max": 1000,
       "min": 1,
       "style": "IPY_MODEL_a3dd993afabb4454b32e99923fcca417",
       "value": 500
      }
     },
     "6fda6f7a5af64ff8b827b221bdf89980": {
      "model_module": "@jupyter-widgets/controls",
      "model_module_version": "1.5.0",
      "model_name": "ButtonModel",
      "state": {
       "description": "Run Interact",
       "layout": "IPY_MODEL_c0cbb715d4f34e89bfbf7bc6d3340137",
       "style": "IPY_MODEL_c36a435a6611432fbdbda4f2b80817d0"
      }
     },
     "742fc7b5cdbd4fa195af4d8f6019cfbb": {
      "model_module": "@jupyter-widgets/base",
      "model_module_version": "1.2.0",
      "model_name": "LayoutModel",
      "state": {}
     },
     "777ee102885e41b2810889421cb867d6": {
      "model_module": "@jupyter-widgets/base",
      "model_module_version": "1.2.0",
      "model_name": "LayoutModel",
      "state": {}
     },
     "7819b30029b942f7848a6bbdcf1af102": {
      "model_module": "@jupyter-widgets/base",
      "model_module_version": "1.2.0",
      "model_name": "LayoutModel",
      "state": {}
     },
     "799448d28dad438baac51930dfb2dae4": {
      "model_module": "@jupyter-widgets/controls",
      "model_module_version": "1.5.0",
      "model_name": "TextModel",
      "state": {
       "description": "x_dim",
       "layout": "IPY_MODEL_5e5cd250fbf74ad0883c49735a499472",
       "style": "IPY_MODEL_544538939950425c99358b12c5964ef6",
       "value": "(10,10,10)"
      }
     },
     "7ba57c690fbf4588a00e4563b1606716": {
      "model_module": "@jupyter-widgets/controls",
      "model_module_version": "1.5.0",
      "model_name": "VBoxModel",
      "state": {
       "_dom_classes": [
        "widget-interact"
       ],
       "children": [
        "IPY_MODEL_81ceff0e3ca0442a806e41a446c4f78f",
        "IPY_MODEL_8f7c14123cca48d1a26f25037d7b4071",
        "IPY_MODEL_d9292d84c4194c54b6d5e3d9afe83006",
        "IPY_MODEL_8e03039ed1b74edf8c23294fcbaa6c8f",
        "IPY_MODEL_291b3990a08b49a1b1d02b2c85c7cbb5",
        "IPY_MODEL_02ecc1935d57422db3288c70b280206e",
        "IPY_MODEL_6fda6f7a5af64ff8b827b221bdf89980",
        "IPY_MODEL_a399d06a4d0e433282f464d279bfccfe"
       ],
       "layout": "IPY_MODEL_388cd0e7f65b4b0a85208ebbb2325604"
      }
     },
     "7dd0c92cb8df4de8beaa7101d6f07efc": {
      "model_module": "@jupyter-widgets/base",
      "model_module_version": "1.2.0",
      "model_name": "LayoutModel",
      "state": {}
     },
     "7e4d86e0b81b4197821815b20789519f": {
      "model_module": "@jupyter-widgets/controls",
      "model_module_version": "1.5.0",
      "model_name": "VBoxModel",
      "state": {
       "_dom_classes": [
        "widget-interact"
       ],
       "children": [
        "IPY_MODEL_acae85cf2201445b8759a1175c523143",
        "IPY_MODEL_cfac92c99c4747998c98594089b1a0bf",
        "IPY_MODEL_c3da5221115b4de0b86d1e38253d9562",
        "IPY_MODEL_799448d28dad438baac51930dfb2dae4",
        "IPY_MODEL_32d05c6e71f343b2997021eff9067efc",
        "IPY_MODEL_cd9d4c121f1f4d1480218c367a959384",
        "IPY_MODEL_8c5a1d17cc7e41f58f9ae3d6f7a800af"
       ],
       "layout": "IPY_MODEL_f8ed3ab08ee84ea2b9511940e711c636"
      }
     },
     "7f74f917465e44b0aad9d7312bb3eb9c": {
      "model_module": "@jupyter-widgets/controls",
      "model_module_version": "1.5.0",
      "model_name": "DescriptionStyleModel",
      "state": {
       "description_width": ""
      }
     },
     "809c0ff3ccac43099d9e0bd0fc6b3a53": {
      "model_module": "@jupyter-widgets/base",
      "model_module_version": "1.2.0",
      "model_name": "LayoutModel",
      "state": {}
     },
     "81ceff0e3ca0442a806e41a446c4f78f": {
      "model_module": "@jupyter-widgets/controls",
      "model_module_version": "1.5.0",
      "model_name": "IntSliderModel",
      "state": {
       "description": "examples_",
       "layout": "IPY_MODEL_2ea40eb8a29f4cd8b654a10dce5a5bd3",
       "max": 1000,
       "min": 1,
       "style": "IPY_MODEL_9e4354695019489ba7b7f4b15d642123",
       "value": 1000
      }
     },
     "82d3bd8c564d4e41845e0106842df49b": {
      "model_module": "@jupyter-widgets/base",
      "model_module_version": "1.2.0",
      "model_name": "LayoutModel",
      "state": {}
     },
     "849aef9a22c2409ebe20d56cafdedf3a": {
      "model_module": "@jupyter-widgets/controls",
      "model_module_version": "1.5.0",
      "model_name": "VBoxModel",
      "state": {
       "_dom_classes": [
        "widget-interact"
       ],
       "children": [
        "IPY_MODEL_5642a8fac7884b228c9c1e9a9862eb93",
        "IPY_MODEL_a8934a4e726b48299180ae5bbc1aec0f",
        "IPY_MODEL_fdc533865de946439722f82457ac3946",
        "IPY_MODEL_8e457f4ff609482d89900f89c3005120"
       ],
       "layout": "IPY_MODEL_f46c39f15785499291ab8c1699888a6b"
      }
     },
     "88ea20113b0c42c7969a7e037e253967": {
      "model_module": "@jupyter-widgets/base",
      "model_module_version": "1.2.0",
      "model_name": "LayoutModel",
      "state": {}
     },
     "8b590e0c08444b06a99973ecd3264a29": {
      "model_module": "@jupyter-widgets/controls",
      "model_module_version": "1.5.0",
      "model_name": "SliderStyleModel",
      "state": {
       "description_width": ""
      }
     },
     "8bd337a640f74897b8aaac61adb710cc": {
      "model_module": "@jupyter-widgets/controls",
      "model_module_version": "1.5.0",
      "model_name": "DescriptionStyleModel",
      "state": {
       "description_width": ""
      }
     },
     "8c5a1d17cc7e41f58f9ae3d6f7a800af": {
      "model_module": "@jupyter-widgets/output",
      "model_module_version": "1.0.0",
      "model_name": "OutputModel",
      "state": {
       "layout": "IPY_MODEL_88ea20113b0c42c7969a7e037e253967",
       "outputs": [
        {
         "name": "stdout",
         "output_type": "stream",
         "text": "Shape of one patient X: (1, 10, 10, 10), Y: (1, 10, 10, 10)\n"
        }
       ]
      }
     },
     "8e03039ed1b74edf8c23294fcbaa6c8f": {
      "model_module": "@jupyter-widgets/controls",
      "model_module_version": "1.5.0",
      "model_name": "IntSliderModel",
      "state": {
       "description": "batchsize_",
       "layout": "IPY_MODEL_04ada1df49e04df7a1b3b474f110c2c4",
       "max": 20,
       "min": 1,
       "style": "IPY_MODEL_97b0a8ffcf8844f193c677ae8278e5be",
       "value": 10
      }
     },
     "8e457f4ff609482d89900f89c3005120": {
      "model_module": "@jupyter-widgets/output",
      "model_module_version": "1.0.0",
      "model_name": "OutputModel",
      "state": {
       "layout": "IPY_MODEL_7819b30029b942f7848a6bbdcf1af102",
       "outputs": [
        {
         "name": "stdout",
         "output_type": "stream",
         "text": "selected batch: 99 of 99 with a batchsize of 10 and total 1000 examples\nstart idx: 990, end idx: 1000\nIndexes of the currrent batch: [990, 991, 992, 993, 994, 995, 996, 997, 998, 999]\n----------------------------------------\n"
        },
        {
         "data": {
          "text/plain": "[(10, 4, 16, 224, 224), (10, 4, 10, 10, 10)]"
         },
         "metadata": {},
         "output_type": "display_data"
        }
       ]
      }
     },
     "8ea3270fec254f6eb7a34c3ee0fc165d": {
      "model_module": "@jupyter-widgets/controls",
      "model_module_version": "1.5.0",
      "model_name": "DescriptionStyleModel",
      "state": {
       "description_width": ""
      }
     },
     "8ef8c8f89503403ab6b3c7cc46c49f08": {
      "model_module": "@jupyter-widgets/controls",
      "model_module_version": "1.5.0",
      "model_name": "ButtonStyleModel",
      "state": {}
     },
     "8f7c14123cca48d1a26f25037d7b4071": {
      "model_module": "@jupyter-widgets/controls",
      "model_module_version": "1.5.0",
      "model_name": "IntSliderModel",
      "state": {
       "description": "input_objects_",
       "layout": "IPY_MODEL_ac3903c4dd9c4a43a8b17f86b238ec77",
       "max": 8,
       "min": 1,
       "style": "IPY_MODEL_ba7c6d1643d24a51933cbbbe36c894b8",
       "value": 4
      }
     },
     "91957db4a0f144de8471a06ab525d799": {
      "model_module": "@jupyter-widgets/controls",
      "model_module_version": "1.5.0",
      "model_name": "SliderStyleModel",
      "state": {
       "description_width": ""
      }
     },
     "925dedc75d3d40fcbbe95d06144759bf": {
      "model_module": "@jupyter-widgets/base",
      "model_module_version": "1.2.0",
      "model_name": "LayoutModel",
      "state": {}
     },
     "929510d54c044c4e9de95d7672a6548a": {
      "model_module": "@jupyter-widgets/base",
      "model_module_version": "1.2.0",
      "model_name": "LayoutModel",
      "state": {}
     },
     "929e942a594448d4ba7ee421af3d5102": {
      "model_module": "@jupyter-widgets/base",
      "model_module_version": "1.2.0",
      "model_name": "LayoutModel",
      "state": {}
     },
     "97b0a8ffcf8844f193c677ae8278e5be": {
      "model_module": "@jupyter-widgets/controls",
      "model_module_version": "1.5.0",
      "model_name": "SliderStyleModel",
      "state": {
       "description_width": ""
      }
     },
     "97d24f31bbca4d5b91a188859341fd70": {
      "model_module": "@jupyter-widgets/base",
      "model_module_version": "1.2.0",
      "model_name": "LayoutModel",
      "state": {}
     },
     "9a447d4c5fdb44899ab81e9f523882ac": {
      "model_module": "@jupyter-widgets/controls",
      "model_module_version": "1.5.0",
      "model_name": "TextModel",
      "state": {
       "description": "ouptut_obj_shape",
       "layout": "IPY_MODEL_6bde2bab634449f1bc725e433199d7ff",
       "style": "IPY_MODEL_8bd337a640f74897b8aaac61adb710cc",
       "value": "(10,10,10)"
      }
     },
     "9b2d532ab5d34fda8ca5a6b1739b8b4f": {
      "model_module": "@jupyter-widgets/base",
      "model_module_version": "1.2.0",
      "model_name": "LayoutModel",
      "state": {}
     },
     "9d048804965d4bf5a9ae2e8865d86420": {
      "model_module": "@jupyter-widgets/controls",
      "model_module_version": "1.5.0",
      "model_name": "DescriptionStyleModel",
      "state": {
       "description_width": ""
      }
     },
     "9e4354695019489ba7b7f4b15d642123": {
      "model_module": "@jupyter-widgets/controls",
      "model_module_version": "1.5.0",
      "model_name": "SliderStyleModel",
      "state": {
       "description_width": ""
      }
     },
     "a21c7d1c021d41a99b53c53c51506be5": {
      "model_module": "@jupyter-widgets/controls",
      "model_module_version": "1.5.0",
      "model_name": "SliderStyleModel",
      "state": {
       "description_width": ""
      }
     },
     "a27989e8c34f4f299f68dd97631cba8f": {
      "model_module": "@jupyter-widgets/controls",
      "model_module_version": "1.5.0",
      "model_name": "CheckboxModel",
      "state": {
       "description": "debug",
       "disabled": false,
       "layout": "IPY_MODEL_cf085aaf709a4c91853b6e3c44d96323",
       "style": "IPY_MODEL_e83e266a55a3467db6d890b72117e6cc",
       "value": false
      }
     },
     "a399d06a4d0e433282f464d279bfccfe": {
      "model_module": "@jupyter-widgets/output",
      "model_module_version": "1.0.0",
      "model_name": "OutputModel",
      "state": {
       "layout": "IPY_MODEL_4bc343b2016b4ec1b385169fda6a9176"
      }
     },
     "a3dd993afabb4454b32e99923fcca417": {
      "model_module": "@jupyter-widgets/controls",
      "model_module_version": "1.5.0",
      "model_name": "SliderStyleModel",
      "state": {
       "description_width": ""
      }
     },
     "a5779c9a7a1d445581e12ddb570cdb1e": {
      "model_module": "@jupyter-widgets/controls",
      "model_module_version": "1.5.0",
      "model_name": "DescriptionStyleModel",
      "state": {
       "description_width": ""
      }
     },
     "a858535118fe41f9889c9dfc0c6ab0df": {
      "model_module": "@jupyter-widgets/controls",
      "model_module_version": "1.5.0",
      "model_name": "DescriptionStyleModel",
      "state": {
       "description_width": ""
      }
     },
     "a8934a4e726b48299180ae5bbc1aec0f": {
      "model_module": "@jupyter-widgets/controls",
      "model_module_version": "1.5.0",
      "model_name": "CheckboxModel",
      "state": {
       "description": "shuffle_indexes",
       "disabled": false,
       "layout": "IPY_MODEL_809c0ff3ccac43099d9e0bd0fc6b3a53",
       "style": "IPY_MODEL_9d048804965d4bf5a9ae2e8865d86420",
       "value": false
      }
     },
     "ab8e93ee033c49fd8a2926ca9f300f67": {
      "model_module": "@jupyter-widgets/controls",
      "model_module_version": "1.5.0",
      "model_name": "VBoxModel",
      "state": {
       "_dom_classes": [
        "widget-interact"
       ],
       "children": [
        "IPY_MODEL_4e7ea123e0c245c4a45f80c311eeb566",
        "IPY_MODEL_e58e1ce4f0754c1ab1748775d934916f",
        "IPY_MODEL_344e9d05a4054be38ae60ad2d47ce81f",
        "IPY_MODEL_5a5eddf0c39f4c8d8734a2b332c43d3d"
       ],
       "layout": "IPY_MODEL_5eb832b8fab744e5a994bda6f137c7d1"
      }
     },
     "abd948044e9a44588257ecf68991e36b": {
      "model_module": "@jupyter-widgets/controls",
      "model_module_version": "1.5.0",
      "model_name": "IntSliderModel",
      "state": {
       "description": "selected_batch",
       "layout": "IPY_MODEL_3a27665410da463a9e447ecd8877a3ce",
       "max": 99,
       "style": "IPY_MODEL_002a1d189ca94b9b93f540f94b868b47",
       "value": 33
      }
     },
     "ac3903c4dd9c4a43a8b17f86b238ec77": {
      "model_module": "@jupyter-widgets/base",
      "model_module_version": "1.2.0",
      "model_name": "LayoutModel",
      "state": {}
     },
     "acae85cf2201445b8759a1175c523143": {
      "model_module": "@jupyter-widgets/controls",
      "model_module_version": "1.5.0",
      "model_name": "IntSliderModel",
      "state": {
       "description": "examples_",
       "layout": "IPY_MODEL_ca17b7caebca4ffd9325d981c0bb57c0",
       "max": 1000000,
       "min": 1,
       "style": "IPY_MODEL_293a42cfb8f4439ea834c408aaecd361",
       "value": 1000000
      }
     },
     "ad60e702fc5c4d0ca39a3d04da27bbb5": {
      "model_module": "@jupyter-widgets/controls",
      "model_module_version": "1.5.0",
      "model_name": "IntSliderModel",
      "state": {
       "description": "input_objects_",
       "layout": "IPY_MODEL_0f5bca8fac1b4d8f8f1aec1aec293ccb",
       "max": 8,
       "min": 1,
       "style": "IPY_MODEL_c8d2c5995799426287c4878fb67deafd",
       "value": 4
      }
     },
     "ae33e11acb1b4f3da660b987ccb01ada": {
      "model_module": "@jupyter-widgets/controls",
      "model_module_version": "1.5.0",
      "model_name": "DescriptionStyleModel",
      "state": {
       "description_width": ""
      }
     },
     "afadd7f7b3194463a1cde38a15d3d153": {
      "model_module": "@jupyter-widgets/controls",
      "model_module_version": "1.5.0",
      "model_name": "VBoxModel",
      "state": {
       "_dom_classes": [
        "widget-interact"
       ],
       "children": [
        "IPY_MODEL_07ad638318e3460d8186de62b303d479",
        "IPY_MODEL_f1e4a65efeef4b83991c3878a5c2a48a",
        "IPY_MODEL_a27989e8c34f4f299f68dd97631cba8f",
        "IPY_MODEL_1157652aaa9a4c1d8012aea9c39ab0e1"
       ],
       "layout": "IPY_MODEL_777ee102885e41b2810889421cb867d6"
      }
     },
     "b263fcc26a7448d184240554b59ec63b": {
      "model_module": "@jupyter-widgets/controls",
      "model_module_version": "1.5.0",
      "model_name": "ButtonStyleModel",
      "state": {}
     },
     "b38997180ba84d208f01acf12160930e": {
      "model_module": "@jupyter-widgets/base",
      "model_module_version": "1.2.0",
      "model_name": "LayoutModel",
      "state": {}
     },
     "b59ceecae0884bf1adc9cda1a94ba881": {
      "model_module": "@jupyter-widgets/base",
      "model_module_version": "1.2.0",
      "model_name": "LayoutModel",
      "state": {}
     },
     "ba0b2cd2fbde425ebe3d2ecb20458bdf": {
      "model_module": "@jupyter-widgets/base",
      "model_module_version": "1.2.0",
      "model_name": "LayoutModel",
      "state": {}
     },
     "ba7c6d1643d24a51933cbbbe36c894b8": {
      "model_module": "@jupyter-widgets/controls",
      "model_module_version": "1.5.0",
      "model_name": "SliderStyleModel",
      "state": {
       "description_width": ""
      }
     },
     "bad4b3d2aafa4372b4846fb1a19d1da7": {
      "model_module": "@jupyter-widgets/base",
      "model_module_version": "1.2.0",
      "model_name": "LayoutModel",
      "state": {}
     },
     "bc7d1f2ca3924b759eee5657d9362dfc": {
      "model_module": "@jupyter-widgets/controls",
      "model_module_version": "1.5.0",
      "model_name": "DescriptionStyleModel",
      "state": {
       "description_width": ""
      }
     },
     "bc9c808295644e93a667731a13cce1c7": {
      "model_module": "@jupyter-widgets/base",
      "model_module_version": "1.2.0",
      "model_name": "LayoutModel",
      "state": {}
     },
     "bcc71486e61445b5900d171c7101a115": {
      "model_module": "@jupyter-widgets/controls",
      "model_module_version": "1.5.0",
      "model_name": "SliderStyleModel",
      "state": {
       "description_width": ""
      }
     },
     "bfadda44fa97485ba26cabd40bc0220a": {
      "model_module": "@jupyter-widgets/output",
      "model_module_version": "1.0.0",
      "model_name": "OutputModel",
      "state": {
       "layout": "IPY_MODEL_d3dff4a5ea2744b0b805467a6328ac6d",
       "outputs": [
        {
         "name": "stdout",
         "output_type": "stream",
         "text": "Shape of one patient X: (4, 16, 224, 224), Y: (4, 10, 10, 10)\n"
        }
       ]
      }
     },
     "c0569103c6fe4f738d486da276aff476": {
      "model_module": "@jupyter-widgets/base",
      "model_module_version": "1.2.0",
      "model_name": "LayoutModel",
      "state": {}
     },
     "c0cbb715d4f34e89bfbf7bc6d3340137": {
      "model_module": "@jupyter-widgets/base",
      "model_module_version": "1.2.0",
      "model_name": "LayoutModel",
      "state": {}
     },
     "c32430cb84124475b4d5f74feeeaefc5": {
      "model_module": "@jupyter-widgets/controls",
      "model_module_version": "1.5.0",
      "model_name": "ButtonModel",
      "state": {
       "description": "Run Interact",
       "layout": "IPY_MODEL_929e942a594448d4ba7ee421af3d5102",
       "style": "IPY_MODEL_4d0f0f3f4f1448dc8f17978ddcc16832"
      }
     },
     "c36a435a6611432fbdbda4f2b80817d0": {
      "model_module": "@jupyter-widgets/controls",
      "model_module_version": "1.5.0",
      "model_name": "ButtonStyleModel",
      "state": {}
     },
     "c3c95355e8ca4f80a05765eef38cd5e9": {
      "model_module": "@jupyter-widgets/controls",
      "model_module_version": "1.5.0",
      "model_name": "SliderStyleModel",
      "state": {
       "description_width": ""
      }
     },
     "c3da5221115b4de0b86d1e38253d9562": {
      "model_module": "@jupyter-widgets/controls",
      "model_module_version": "1.5.0",
      "model_name": "IntSliderModel",
      "state": {
       "description": "batchsize_",
       "layout": "IPY_MODEL_ee4d3411c41340a5a9a98022bb2ddf6b",
       "max": 20,
       "min": 1,
       "style": "IPY_MODEL_f173970dfb30490cb6816316335d4278",
       "value": 10
      }
     },
     "c4c60358c903443ca1e5a229acb55e9d": {
      "model_module": "@jupyter-widgets/controls",
      "model_module_version": "1.5.0",
      "model_name": "SliderStyleModel",
      "state": {
       "description_width": ""
      }
     },
     "c8d2c5995799426287c4878fb67deafd": {
      "model_module": "@jupyter-widgets/controls",
      "model_module_version": "1.5.0",
      "model_name": "SliderStyleModel",
      "state": {
       "description_width": ""
      }
     },
     "ca17b7caebca4ffd9325d981c0bb57c0": {
      "model_module": "@jupyter-widgets/base",
      "model_module_version": "1.2.0",
      "model_name": "LayoutModel",
      "state": {}
     },
     "cd50d3500c094b5f9cbcfa4979d1cd45": {
      "model_module": "@jupyter-widgets/base",
      "model_module_version": "1.2.0",
      "model_name": "LayoutModel",
      "state": {}
     },
     "cd9d4c121f1f4d1480218c367a959384": {
      "model_module": "@jupyter-widgets/controls",
      "model_module_version": "1.5.0",
      "model_name": "ButtonModel",
      "state": {
       "description": "Run Interact",
       "layout": "IPY_MODEL_f54f6d409c5848bd84bf373ada709ff4",
       "style": "IPY_MODEL_8ef8c8f89503403ab6b3c7cc46c49f08"
      }
     },
     "cdc764e94ed04438b8c90bab5799bfa4": {
      "model_module": "@jupyter-widgets/controls",
      "model_module_version": "1.5.0",
      "model_name": "DescriptionStyleModel",
      "state": {
       "description_width": ""
      }
     },
     "cdec45e8fcc44b86bd0848d6eb4bcf2d": {
      "model_module": "@jupyter-widgets/controls",
      "model_module_version": "1.5.0",
      "model_name": "ButtonStyleModel",
      "state": {}
     },
     "cf085aaf709a4c91853b6e3c44d96323": {
      "model_module": "@jupyter-widgets/base",
      "model_module_version": "1.2.0",
      "model_name": "LayoutModel",
      "state": {}
     },
     "cf8474113679498fbcf60bd0259c5186": {
      "model_module": "@jupyter-widgets/base",
      "model_module_version": "1.2.0",
      "model_name": "LayoutModel",
      "state": {}
     },
     "cfac92c99c4747998c98594089b1a0bf": {
      "model_module": "@jupyter-widgets/controls",
      "model_module_version": "1.5.0",
      "model_name": "IntSliderModel",
      "state": {
       "description": "example_size_",
       "layout": "IPY_MODEL_bc9c808295644e93a667731a13cce1c7",
       "max": 8,
       "min": 1,
       "style": "IPY_MODEL_d495dcee73ac4208a98d7c11dcf7575e",
       "value": 1
      }
     },
     "cfc1cdf705354b068a24466e856c390b": {
      "model_module": "@jupyter-widgets/controls",
      "model_module_version": "1.5.0",
      "model_name": "VBoxModel",
      "state": {
       "_dom_classes": [
        "widget-interact"
       ],
       "children": [
        "IPY_MODEL_54e1f889915f401ea4b56a0fea961f37",
        "IPY_MODEL_6e6097bf9ad046b3b93a32b4393fde63",
        "IPY_MODEL_111cd3772a704841b6abcef1d88e6fae",
        "IPY_MODEL_43d133d9ed5f4a65b9add3d2657ef71c",
        "IPY_MODEL_1d1f8c8a8365406c8c378968ee1a2bde",
        "IPY_MODEL_f1de6b3b8c974641a598d485dfba9e36",
        "IPY_MODEL_c32430cb84124475b4d5f74feeeaefc5",
        "IPY_MODEL_bfadda44fa97485ba26cabd40bc0220a"
       ],
       "layout": "IPY_MODEL_ead67284115f41a7a224018150d92fb6"
      }
     },
     "cfd6915da9c2482e980330656d671f5a": {
      "model_module": "@jupyter-widgets/controls",
      "model_module_version": "1.5.0",
      "model_name": "ButtonModel",
      "state": {
       "description": "Run Interact",
       "layout": "IPY_MODEL_076647720a29429fb71a1d97d3d76565",
       "style": "IPY_MODEL_cdec45e8fcc44b86bd0848d6eb4bcf2d"
      }
     },
     "d01664fee2c048a8922c194b699c59d2": {
      "model_module": "@jupyter-widgets/base",
      "model_module_version": "1.2.0",
      "model_name": "LayoutModel",
      "state": {}
     },
     "d0d310714a5143e78b373ef28165d2cf": {
      "model_module": "@jupyter-widgets/controls",
      "model_module_version": "1.5.0",
      "model_name": "CheckboxModel",
      "state": {
       "description": "shuffle_indexes",
       "disabled": false,
       "layout": "IPY_MODEL_cd50d3500c094b5f9cbcfa4979d1cd45",
       "style": "IPY_MODEL_ec90d86d57aa4a7b947b19d814a3ada4",
       "value": false
      }
     },
     "d14ca34a7dd74bc2aa403decd7429898": {
      "model_module": "@jupyter-widgets/controls",
      "model_module_version": "1.5.0",
      "model_name": "VBoxModel",
      "state": {
       "_dom_classes": [
        "widget-interact"
       ],
       "children": [
        "IPY_MODEL_6f93ada8d1424809a80c7333de1b8d0c",
        "IPY_MODEL_ad60e702fc5c4d0ca39a3d04da27bbb5",
        "IPY_MODEL_ec9d0ce24c1f431a9875f6d896f4f66d",
        "IPY_MODEL_626ab9737a3c4054923c97bc7b14616f",
        "IPY_MODEL_50438db8a5ee427084063356aef68995",
        "IPY_MODEL_9a447d4c5fdb44899ab81e9f523882ac",
        "IPY_MODEL_0f97e36ff81d4bc496d87d7c35b8a12c",
        "IPY_MODEL_18d9dee5fc6142f89d79d8bab9383d11"
       ],
       "layout": "IPY_MODEL_e1333d5e58134716ab8c798c85928c58"
      }
     },
     "d229f422d81741cbbc90658f15d77b8a": {
      "model_module": "@jupyter-widgets/controls",
      "model_module_version": "1.5.0",
      "model_name": "IntSliderModel",
      "state": {
       "description": "examples_",
       "layout": "IPY_MODEL_39bd02f5821a45cd9a6500eb7360d231",
       "max": 1000,
       "min": 1,
       "style": "IPY_MODEL_25af35fee7234ef8815980a51a18c42b",
       "value": 500
      }
     },
     "d27a0bc72c9f468f9b319c8e0556c254": {
      "model_module": "@jupyter-widgets/controls",
      "model_module_version": "1.5.0",
      "model_name": "TextModel",
      "state": {
       "description": "ouptut_obj_shape",
       "layout": "IPY_MODEL_578fed1cd9204ea8bf53722848e8fca2",
       "style": "IPY_MODEL_8ea3270fec254f6eb7a34c3ee0fc165d",
       "value": "(10,10,10)"
      }
     },
     "d3dff4a5ea2744b0b805467a6328ac6d": {
      "model_module": "@jupyter-widgets/base",
      "model_module_version": "1.2.0",
      "model_name": "LayoutModel",
      "state": {}
     },
     "d495dcee73ac4208a98d7c11dcf7575e": {
      "model_module": "@jupyter-widgets/controls",
      "model_module_version": "1.5.0",
      "model_name": "SliderStyleModel",
      "state": {
       "description_width": ""
      }
     },
     "d6cb876416924caab6e9003d6e07b92a": {
      "model_module": "@jupyter-widgets/controls",
      "model_module_version": "1.5.0",
      "model_name": "ButtonStyleModel",
      "state": {}
     },
     "d7206f1b764447ad92cfbba9935d1278": {
      "model_module": "@jupyter-widgets/controls",
      "model_module_version": "1.5.0",
      "model_name": "SliderStyleModel",
      "state": {
       "description_width": ""
      }
     },
     "d9292d84c4194c54b6d5e3d9afe83006": {
      "model_module": "@jupyter-widgets/controls",
      "model_module_version": "1.5.0",
      "model_name": "IntSliderModel",
      "state": {
       "description": "output_objects_",
       "layout": "IPY_MODEL_9b2d532ab5d34fda8ca5a6b1739b8b4f",
       "max": 8,
       "min": 1,
       "style": "IPY_MODEL_0f3b9eec9506488b947b976b2eb4f9bf",
       "value": 4
      }
     },
     "da1d8c50e1b248dc9c993bd3ad69b006": {
      "model_module": "@jupyter-widgets/base",
      "model_module_version": "1.2.0",
      "model_name": "LayoutModel",
      "state": {}
     },
     "dcaa22bd08ab4e21a03b86e4b5028e86": {
      "model_module": "@jupyter-widgets/controls",
      "model_module_version": "1.5.0",
      "model_name": "DescriptionStyleModel",
      "state": {
       "description_width": ""
      }
     },
     "e1333d5e58134716ab8c798c85928c58": {
      "model_module": "@jupyter-widgets/base",
      "model_module_version": "1.2.0",
      "model_name": "LayoutModel",
      "state": {}
     },
     "e137b7f793524bdbbfdcf338f22e3033": {
      "model_module": "@jupyter-widgets/base",
      "model_module_version": "1.2.0",
      "model_name": "LayoutModel",
      "state": {}
     },
     "e3b277106d254517b1ea374a55f47b2f": {
      "model_module": "@jupyter-widgets/base",
      "model_module_version": "1.2.0",
      "model_name": "LayoutModel",
      "state": {}
     },
     "e58e1ce4f0754c1ab1748775d934916f": {
      "model_module": "@jupyter-widgets/controls",
      "model_module_version": "1.5.0",
      "model_name": "CheckboxModel",
      "state": {
       "description": "shuffle_indexes",
       "disabled": false,
       "layout": "IPY_MODEL_012d871fc5d4458e8962813c3506dd5f",
       "style": "IPY_MODEL_cdc764e94ed04438b8c90bab5799bfa4",
       "value": true
      }
     },
     "e83e266a55a3467db6d890b72117e6cc": {
      "model_module": "@jupyter-widgets/controls",
      "model_module_version": "1.5.0",
      "model_name": "DescriptionStyleModel",
      "state": {
       "description_width": ""
      }
     },
     "e87311c2f1bc4ae38134237a00f1b3c2": {
      "model_module": "@jupyter-widgets/base",
      "model_module_version": "1.2.0",
      "model_name": "LayoutModel",
      "state": {}
     },
     "e8c75b46f9d94c3caeb4f8197fb3df5a": {
      "model_module": "@jupyter-widgets/controls",
      "model_module_version": "1.5.0",
      "model_name": "SliderStyleModel",
      "state": {
       "description_width": ""
      }
     },
     "e9a78b497d5c4eb696b7ae99c2d07207": {
      "model_module": "@jupyter-widgets/controls",
      "model_module_version": "1.5.0",
      "model_name": "CheckboxModel",
      "state": {
       "description": "debug",
       "disabled": false,
       "layout": "IPY_MODEL_2ffb6dd180d048638aba00747775e399",
       "style": "IPY_MODEL_a5779c9a7a1d445581e12ddb570cdb1e",
       "value": false
      }
     },
     "ead67284115f41a7a224018150d92fb6": {
      "model_module": "@jupyter-widgets/base",
      "model_module_version": "1.2.0",
      "model_name": "LayoutModel",
      "state": {}
     },
     "eae05131f2d747ac9f032eb2e2149a38": {
      "model_module": "@jupyter-widgets/base",
      "model_module_version": "1.2.0",
      "model_name": "LayoutModel",
      "state": {}
     },
     "ec90d86d57aa4a7b947b19d814a3ada4": {
      "model_module": "@jupyter-widgets/controls",
      "model_module_version": "1.5.0",
      "model_name": "DescriptionStyleModel",
      "state": {
       "description_width": ""
      }
     },
     "ec9d0ce24c1f431a9875f6d896f4f66d": {
      "model_module": "@jupyter-widgets/controls",
      "model_module_version": "1.5.0",
      "model_name": "IntSliderModel",
      "state": {
       "description": "output_objects_",
       "layout": "IPY_MODEL_b38997180ba84d208f01acf12160930e",
       "max": 8,
       "min": 1,
       "style": "IPY_MODEL_a21c7d1c021d41a99b53c53c51506be5",
       "value": 4
      }
     },
     "ee4d3411c41340a5a9a98022bb2ddf6b": {
      "model_module": "@jupyter-widgets/base",
      "model_module_version": "1.2.0",
      "model_name": "LayoutModel",
      "state": {}
     },
     "f0906ec30548458698b39c620c89fa6c": {
      "model_module": "@jupyter-widgets/controls",
      "model_module_version": "1.5.0",
      "model_name": "IntSliderModel",
      "state": {
       "description": "examples_",
       "layout": "IPY_MODEL_408a2a5badb74c449b67ad10a246f407",
       "max": 1000,
       "min": 1,
       "style": "IPY_MODEL_c4c60358c903443ca1e5a229acb55e9d",
       "value": 1000
      }
     },
     "f173970dfb30490cb6816316335d4278": {
      "model_module": "@jupyter-widgets/controls",
      "model_module_version": "1.5.0",
      "model_name": "SliderStyleModel",
      "state": {
       "description_width": ""
      }
     },
     "f1de6b3b8c974641a598d485dfba9e36": {
      "model_module": "@jupyter-widgets/controls",
      "model_module_version": "1.5.0",
      "model_name": "TextModel",
      "state": {
       "description": "ouptut_obj_shape",
       "layout": "IPY_MODEL_925dedc75d3d40fcbbe95d06144759bf",
       "style": "IPY_MODEL_f87b089ae3094a699bdc089fc087e3fb",
       "value": "(10,10,10)"
      }
     },
     "f1e4a65efeef4b83991c3878a5c2a48a": {
      "model_module": "@jupyter-widgets/controls",
      "model_module_version": "1.5.0",
      "model_name": "CheckboxModel",
      "state": {
       "description": "shuffle_indexes",
       "disabled": false,
       "layout": "IPY_MODEL_e3b277106d254517b1ea374a55f47b2f",
       "style": "IPY_MODEL_7f74f917465e44b0aad9d7312bb3eb9c",
       "value": false
      }
     },
     "f46c39f15785499291ab8c1699888a6b": {
      "model_module": "@jupyter-widgets/base",
      "model_module_version": "1.2.0",
      "model_name": "LayoutModel",
      "state": {}
     },
     "f4c151d921424f1b9e7050c375a7c19e": {
      "model_module": "@jupyter-widgets/base",
      "model_module_version": "1.2.0",
      "model_name": "LayoutModel",
      "state": {}
     },
     "f54f6d409c5848bd84bf373ada709ff4": {
      "model_module": "@jupyter-widgets/base",
      "model_module_version": "1.2.0",
      "model_name": "LayoutModel",
      "state": {}
     },
     "f7b20a4d490b4a18a475ce73372dfe0c": {
      "model_module": "@jupyter-widgets/base",
      "model_module_version": "1.2.0",
      "model_name": "LayoutModel",
      "state": {}
     },
     "f87b089ae3094a699bdc089fc087e3fb": {
      "model_module": "@jupyter-widgets/controls",
      "model_module_version": "1.5.0",
      "model_name": "DescriptionStyleModel",
      "state": {
       "description_width": ""
      }
     },
     "f8e81223e2684a4287d59a6a4087dd52": {
      "model_module": "@jupyter-widgets/controls",
      "model_module_version": "1.5.0",
      "model_name": "TextModel",
      "state": {
       "description": "input_obj_shape",
       "layout": "IPY_MODEL_2a00c204318b4b328d4dc264d98dda78",
       "style": "IPY_MODEL_f8eac74d9ee34a43be1194aa4b7c4ee5",
       "value": "16,224,224"
      }
     },
     "f8eac74d9ee34a43be1194aa4b7c4ee5": {
      "model_module": "@jupyter-widgets/controls",
      "model_module_version": "1.5.0",
      "model_name": "DescriptionStyleModel",
      "state": {
       "description_width": ""
      }
     },
     "f8ed3ab08ee84ea2b9511940e711c636": {
      "model_module": "@jupyter-widgets/base",
      "model_module_version": "1.2.0",
      "model_name": "LayoutModel",
      "state": {}
     },
     "f9f69aa836404900b13e063d65100c2f": {
      "model_module": "@jupyter-widgets/controls",
      "model_module_version": "1.5.0",
      "model_name": "VBoxModel",
      "state": {
       "_dom_classes": [
        "widget-interact"
       ],
       "children": [
        "IPY_MODEL_abd948044e9a44588257ecf68991e36b",
        "IPY_MODEL_d0d310714a5143e78b373ef28165d2cf",
        "IPY_MODEL_e9a78b497d5c4eb696b7ae99c2d07207",
        "IPY_MODEL_6b6bef90cfc94543b9cb117e12dac173"
       ],
       "layout": "IPY_MODEL_1e34f1ae7b9d42f2b87ad35d140507c3"
      }
     },
     "fb717a0f08c0434aafb57e42b21c8020": {
      "model_module": "@jupyter-widgets/base",
      "model_module_version": "1.2.0",
      "model_name": "LayoutModel",
      "state": {}
     },
     "fbd2cc9c2c00463a996f560dd28450b4": {
      "model_module": "@jupyter-widgets/controls",
      "model_module_version": "1.5.0",
      "model_name": "IntSliderModel",
      "state": {
       "description": "batchsize_",
       "layout": "IPY_MODEL_fb717a0f08c0434aafb57e42b21c8020",
       "max": 20,
       "min": 1,
       "style": "IPY_MODEL_bcc71486e61445b5900d171c7101a115",
       "value": 10
      }
     },
     "fd02404f536a489ab52159c5cc08ff6d": {
      "model_module": "@jupyter-widgets/controls",
      "model_module_version": "1.5.0",
      "model_name": "DescriptionStyleModel",
      "state": {
       "description_width": ""
      }
     },
     "fdc533865de946439722f82457ac3946": {
      "model_module": "@jupyter-widgets/controls",
      "model_module_version": "1.5.0",
      "model_name": "CheckboxModel",
      "state": {
       "description": "debug",
       "disabled": false,
       "layout": "IPY_MODEL_742fc7b5cdbd4fa195af4d8f6019cfbb",
       "style": "IPY_MODEL_a858535118fe41f9889c9dfc0c6ab0df",
       "value": false
      }
     },
     "fe0cdd1e7d724b40b07e3459c1503aa1": {
      "model_module": "@jupyter-widgets/base",
      "model_module_version": "1.2.0",
      "model_name": "LayoutModel",
      "state": {}
     },
     "fee5ae7bad29433b85be45384e99d7d5": {
      "model_module": "@jupyter-widgets/output",
      "model_module_version": "1.0.0",
      "model_name": "OutputModel",
      "state": {
       "layout": "IPY_MODEL_eae05131f2d747ac9f032eb2e2149a38",
       "outputs": [
        {
         "name": "stdout",
         "output_type": "stream",
         "text": "Shape of one patient X: (1, 1), Y: (1, 1)\n"
        }
       ]
      }
     }
    },
    "version_major": 2,
    "version_minor": 0
   }
  }
 },
 "nbformat": 4,
 "nbformat_minor": 4
}
