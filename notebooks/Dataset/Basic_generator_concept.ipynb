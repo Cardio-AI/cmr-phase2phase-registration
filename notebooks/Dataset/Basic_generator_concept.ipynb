{
 "cells": [
  {
   "cell_type": "code",
   "execution_count": 1,
   "metadata": {},
   "outputs": [
    {
     "name": "stdout",
     "output_type": "stream",
     "text": [
      "search for root_dir and set working directory\n",
      "Working directory set to: /mnt/ssd/git/dynamic-cmr-models\n"
     ]
    }
   ],
   "source": [
    "# define logging and working directory\n",
    "from ProjectRoot import change_wd_to_project_root\n",
    "change_wd_to_project_root()\n",
    "from src.utils.Notebook_imports import *"
   ]
  },
  {
   "cell_type": "markdown",
   "metadata": {},
   "source": [
    "# Test the main concepts of a DL generator\n",
    "\n",
    "A Generator yields a tuple of (x,y) and is used to feed data into a deep learning model\n",
    "\n",
    "Each x/y tuple has the following shape: \n",
    "\n",
    "$batchsize * exampleSize * exampleShape$ \n",
    "\n",
    "--> The $exampleShape$ could be:\n",
    "- for 1D vector-data: $len(vector_{data})$\n",
    "- for 2D images: $height * width$: \n",
    "- for 3D volumes: $depth * height * width$)\n"
   ]
  },
  {
   "cell_type": "markdown",
   "metadata": {},
   "source": [
    "# Interactive fake data generation\n",
    "\n",
    "Please define:\n",
    "\n",
    "- The total number of $examples$ (the size of the dataset), each $example$ represents one patient/entity\n",
    "- the $exampleSize$ (number of objects per example), this could represent different timesteps of a multi input generator\n",
    "- the $batchsize$, meaning how many examples should be yielded in one step\n",
    "\n",
    "Usually one example would reflect the path to a file. Which, when loaded will reult in a given $exampleShape$.\n",
    "\n",
    "In this example we will create random numbers with the shape of 1 to make the printing easier.\n",
    "\n",
    "Each random number represents a 1D/2D or 3D object"
   ]
  },
  {
   "cell_type": "code",
   "execution_count": 2,
   "metadata": {},
   "outputs": [
    {
     "data": {
      "application/vnd.jupyter.widget-view+json": {
       "model_id": "e4ee1b9e770a4d8283013eaa4e81d510",
       "version_major": 2,
       "version_minor": 0
      },
      "text/plain": [
       "interactive(children=(IntSlider(value=500, description='examples_', max=1000, min=1), IntSlider(value=4, descr…"
      ]
     },
     "metadata": {},
     "output_type": "display_data"
    }
   ],
   "source": [
    "# Define the size of our fake data\n",
    "upper_example_limit = 1000\n",
    "upper_example_size_limit = 8\n",
    "upper_batchsize_limit = 20\n",
    "\n",
    "@interact_manual\n",
    "def create_fake_data(examples_=(1,upper_example_limit), \n",
    "                     input_objects_=(1,upper_example_size_limit),\n",
    "                     output_objects_=(1,upper_example_size_limit),\n",
    "                     batchsize_=(1,upper_batchsize_limit), \n",
    "                     input_obj_shape='(10,10,10)', \n",
    "                     ouptut_obj_shape='(10,10,10)'):\n",
    "    \n",
    "    global examples, input_objects, output_objects , batchsize, indexes, X, Y, x_dict, y_dict, batches\n",
    "    examples = examples_\n",
    "    batchsize = batchsize_\n",
    "    input_objects = input_objects_\n",
    "    output_objects = output_objects_\n",
    "    \n",
    "    # make sure the dimensions have the correct formating\n",
    "    x_dim = tuple(map(int, input_obj_shape.replace(')', '').replace('(','').split(',')))\n",
    "    y_dim = tuple(map(int, ouptut_obj_shape.replace(')', '').replace('(','').split(',')))\n",
    "    \n",
    "    # create some fake data\n",
    "    x_dict = {}\n",
    "    y_dict = {}  \n",
    "    X = []\n",
    "    for example in range(examples_):\n",
    "        x_dict[example] = np.stack([np.round(np.random.sample(x_dim),2)+example for i in range(input_objects)])\n",
    "        y_dict[example] = np.stack([np.round(np.random.sample(y_dim),2)+(10*example) for i in range(output_objects)])\n",
    "        # testing purpose if lists are faster than dicts\n",
    "        X.append(np.stack([np.round(np.random.sample(x_dim),2)+example for i in range(input_objects)]))\n",
    "    # index our data, we can use the indicies to select one example in a list or dictionary\n",
    "    indexes = list(range(len(x_dict)))\n",
    "    batches = int(np.floor(examples/batchsize))-1\n",
    "    print('Shape of one patient X: {}, Y: {}'.format(x_dict[0].shape, y_dict[0].shape))"
   ]
  },
  {
   "cell_type": "code",
   "execution_count": 3,
   "metadata": {},
   "outputs": [
    {
     "data": {
      "application/vnd.jupyter.widget-view+json": {
       "model_id": "2399e0f3a2e8410baedd420acd3dde3b",
       "version_major": 2,
       "version_minor": 0
      },
      "text/plain": [
       "interactive(children=(IntSlider(value=49, description='selected_batch', max=99), Checkbox(value=False, descrip…"
      ]
     },
     "metadata": {},
     "output_type": "display_data"
    }
   ],
   "source": [
    "# Select one batch and yield the corresponding values (batchsize x example_size)\n",
    "@interact\n",
    "def select_batch(selected_batch = (0,batches), shuffle_indexes=False, debug=False):\n",
    "    global indexes\n",
    "    \n",
    "    if shuffle_indexes:\n",
    "        random.shuffle(indexes)\n",
    "    # make sure indexes are correctly initialised\n",
    "    assert len(indexes) == examples, print('len indexes: {}, number of examples: {}'.format(len(indexes), examples))\n",
    "    \n",
    "    # define the lower/upper index slicing borders \n",
    "    start_idx = selected_batch*batchsize\n",
    "    end_idx = (selected_batch+1)*batchsize\n",
    "    \n",
    "    # slice the indexes of the current batch\n",
    "    batch_indexes = indexes[start_idx: end_idx]\n",
    "    \n",
    "    # print the restrictions of the current batch\n",
    "    print('selected batch: {} of {} with a batchsize of {} and total {} examples'.format(selected_batch, batches, batchsize, examples))\n",
    "    print('start idx: {}, end idx: {}'.format(start_idx, end_idx))\n",
    "    print('Indexes of the currrent batch: {}'.format(batch_indexes))\n",
    "    print('-'*40)\n",
    "    \n",
    "    # stack the entities of the current batch\n",
    "    batch_x = np.stack([x_dict[k] for k in batch_indexes])\n",
    "    batch_y = np.stack([y_dict[k] for k in batch_indexes])\n",
    "    if debug:\n",
    "        [print('index: {}: value: {}'.format(k, x_dict[k])) for k in batch_indexes]\n",
    "        [print('index: {}: value: {}'.format(k, y_dict[k])) for k in batch_indexes]\n",
    "    \n",
    "    return([batch_x.shape, batch_y.shape])"
   ]
  },
  {
   "cell_type": "code",
   "execution_count": 4,
   "metadata": {},
   "outputs": [],
   "source": [
    "from random import randint\n",
    "# We have a list --> X and a dictionary --> x_dict, \n",
    "# len(X) == len(x_dict)\n",
    "# and X[i] == x_dict[i] for all i in range(len(X))\n",
    "# We create n random indicies within the range of len(X)\n",
    "samples = [randint(0, examples-1) for _ in range(10000000)]"
   ]
  },
  {
   "cell_type": "code",
   "execution_count": 5,
   "metadata": {},
   "outputs": [
    {
     "name": "stdout",
     "output_type": "stream",
     "text": [
      "248 ms ± 2.87 ms per loop (mean ± std. dev. of 7 runs, 1 loop each)\n"
     ]
    }
   ],
   "source": [
    "%%timeit\n",
    "# access the list n times, append the value to a new list\n",
    "temp = None\n",
    "for i in samples:\n",
    "    temp = X[i]\n",
    "    "
   ]
  },
  {
   "cell_type": "code",
   "execution_count": 6,
   "metadata": {},
   "outputs": [
    {
     "name": "stdout",
     "output_type": "stream",
     "text": [
      "398 ms ± 2.14 ms per loop (mean ± std. dev. of 7 runs, 1 loop each)\n"
     ]
    }
   ],
   "source": [
    "%%timeit\n",
    "# access the dict n times, append the value to a new list\n",
    "temp = None\n",
    "for i in samples:\n",
    "    temp = x_dict[i]"
   ]
  },
  {
   "cell_type": "markdown",
   "metadata": {},
   "source": [
    "# Some hardcoded examples how we construct the fake batches"
   ]
  },
  {
   "cell_type": "code",
   "execution_count": 25,
   "metadata": {},
   "outputs": [
    {
     "name": "stdout",
     "output_type": "stream",
     "text": [
      "[[0, 1, 2, 3, 4], [0, 1, 2, 3, 4], [0, 1, 2, 3, 4], [0, 1, 2, 3, 4], [0, 1, 2, 3, 4], [0, 1, 2, 3, 4], [0, 1, 2, 3, 4], [0, 1, 2, 3, 4], [0, 1, 2, 3, 4], [0, 1, 2, 3, 4]]\n",
      "[[10, 11, 12, 13, 14], [10, 11, 12, 13, 14], [10, 11, 12, 13, 14], [10, 11, 12, 13, 14], [10, 11, 12, 13, 14], [10, 11, 12, 13, 14], [10, 11, 12, 13, 14], [10, 11, 12, 13, 14], [10, 11, 12, 13, 14], [10, 11, 12, 13, 14]]\n"
     ]
    }
   ],
   "source": [
    "## we asume x and y to be a list of lists (representing the model input and output with variable length)\n",
    "# create some fake data\n",
    "examples = 10\n",
    "example_size = 5\n",
    "x = [list(i for i in range(example_size)) for _ in range(examples)]\n",
    "y = [list(i+10 for i in range(example_size)) for _ in range(examples)]\n",
    "print(x)\n",
    "print(y)"
   ]
  },
  {
   "cell_type": "code",
   "execution_count": 26,
   "metadata": {},
   "outputs": [
    {
     "data": {
      "text/plain": [
       "[0, 1, 2, 3, 4, 5, 6, 7, 8, 9]"
      ]
     },
     "execution_count": 26,
     "metadata": {},
     "output_type": "execute_result"
    }
   ],
   "source": [
    "# create unique indexes, which than can be shuffeled\n",
    "indexes = list(range(len(x)))\n",
    "indexes"
   ]
  },
  {
   "cell_type": "code",
   "execution_count": 27,
   "metadata": {},
   "outputs": [
    {
     "data": {
      "text/plain": [
       "[4, 2, 1, 6, 5, 0, 8, 3, 9, 7]"
      ]
     },
     "execution_count": 27,
     "metadata": {},
     "output_type": "execute_result"
    }
   ],
   "source": [
    "import random\n",
    "random.shuffle(indexes)\n",
    "indexes"
   ]
  },
  {
   "cell_type": "code",
   "execution_count": 28,
   "metadata": {},
   "outputs": [
    {
     "data": {
      "text/plain": [
       "[4, 2]"
      ]
     },
     "execution_count": 28,
     "metadata": {},
     "output_type": "execute_result"
    }
   ],
   "source": [
    "# get the indexes for a hard-coded batchsize of two\n",
    "indexes[0:2]"
   ]
  },
  {
   "cell_type": "code",
   "execution_count": 29,
   "metadata": {},
   "outputs": [
    {
     "name": "stdout",
     "output_type": "stream",
     "text": [
      "[4, 2]\n"
     ]
    }
   ],
   "source": [
    "# get a variable size\n",
    "batchsize = 2\n",
    "index = 0\n",
    "batch_indexes = indexes[index*batchsize: (index+1)*batchsize]\n",
    "print(batch_indexes)"
   ]
  },
  {
   "cell_type": "code",
   "execution_count": null,
   "metadata": {},
   "outputs": [],
   "source": [
    "# zip two lists and use them in a lambda function\n",
    "list(map(lambda x : print('input: {} output: {}'.format(x[0].shape, x[1].shape)), zip(X[:10],X[:10])))"
   ]
  }
 ],
 "metadata": {
  "kernelspec": {
   "display_name": "dcmr",
   "language": "python",
   "name": "dcmr"
  },
  "language_info": {
   "codemirror_mode": {
    "name": "ipython",
    "version": 3
   },
   "file_extension": ".py",
   "mimetype": "text/x-python",
   "name": "python",
   "nbconvert_exporter": "python",
   "pygments_lexer": "ipython3",
   "version": "3.8.5"
  },
  "widgets": {
   "application/vnd.jupyter.widget-state+json": {
    "state": {
     "034106fcfc494b9d8ebc2e53f6f2f416": {
      "model_module": "@jupyter-widgets/controls",
      "model_module_version": "1.5.0",
      "model_name": "CheckboxModel",
      "state": {
       "description": "shuffle_indexes",
       "disabled": false,
       "layout": "IPY_MODEL_0ea0ff9b1cf5431c948092a2aeda82dc",
       "style": "IPY_MODEL_9673fdc54cc64112bf428305495900c4",
       "value": false
      }
     },
     "047f48f0cef7496ba7d9b1b5f2a1d6eb": {
      "model_module": "@jupyter-widgets/base",
      "model_module_version": "1.2.0",
      "model_name": "LayoutModel",
      "state": {}
     },
     "04b431162e164f6f9ad0ef3a661c9d95": {
      "model_module": "@jupyter-widgets/controls",
      "model_module_version": "1.5.0",
      "model_name": "ButtonModel",
      "state": {
       "description": "Run Interact",
       "layout": "IPY_MODEL_a9ef66b1baaf4df4b8bdd6dec1e5f1be",
       "style": "IPY_MODEL_ff19b1f3d5d549b9a56a8e317d50a2ed"
      }
     },
     "07fb0c2e53dc45a7bb3594573b68dd75": {
      "model_module": "@jupyter-widgets/controls",
      "model_module_version": "1.5.0",
      "model_name": "IntSliderModel",
      "state": {
       "description": "batchsize_",
       "layout": "IPY_MODEL_eed0ad0a29be42bcbc59157558d77436",
       "max": 20,
       "min": 1,
       "style": "IPY_MODEL_2eddcdb3e89c4c54be9a6c0c09d05858",
       "value": 10
      }
     },
     "0de1e98df04e47ab8ba87f1fb173db17": {
      "model_module": "@jupyter-widgets/base",
      "model_module_version": "1.2.0",
      "model_name": "LayoutModel",
      "state": {}
     },
     "0ea0ff9b1cf5431c948092a2aeda82dc": {
      "model_module": "@jupyter-widgets/base",
      "model_module_version": "1.2.0",
      "model_name": "LayoutModel",
      "state": {}
     },
     "17b9ef8d49b74741ae066ef605da3797": {
      "model_module": "@jupyter-widgets/output",
      "model_module_version": "1.0.0",
      "model_name": "OutputModel",
      "state": {
       "layout": "IPY_MODEL_ba1bfb0b56d74cf690842bd9f3c19636",
       "outputs": [
        {
         "name": "stdout",
         "output_type": "stream",
         "text": "Shape of one patient X: (4, 10, 10, 10), Y: (1, 10, 10, 10)\n"
        }
       ]
      }
     },
     "1a8d62c6d6784e3b8204562057974898": {
      "model_module": "@jupyter-widgets/controls",
      "model_module_version": "1.5.0",
      "model_name": "SliderStyleModel",
      "state": {
       "description_width": ""
      }
     },
     "2399e0f3a2e8410baedd420acd3dde3b": {
      "model_module": "@jupyter-widgets/controls",
      "model_module_version": "1.5.0",
      "model_name": "VBoxModel",
      "state": {
       "_dom_classes": [
        "widget-interact"
       ],
       "children": [
        "IPY_MODEL_8a323a427bb9447cbb254245868ea7be",
        "IPY_MODEL_034106fcfc494b9d8ebc2e53f6f2f416",
        "IPY_MODEL_a903c49ab23340c88abbae6d5b21222f",
        "IPY_MODEL_c4e2b7302d494f88af68955ad12ba0a4"
       ],
       "layout": "IPY_MODEL_efc68cf2ca194329820371929126441a"
      }
     },
     "2eddcdb3e89c4c54be9a6c0c09d05858": {
      "model_module": "@jupyter-widgets/controls",
      "model_module_version": "1.5.0",
      "model_name": "SliderStyleModel",
      "state": {
       "description_width": ""
      }
     },
     "32e23902f7bd4ae99a1194ddd63354ad": {
      "model_module": "@jupyter-widgets/controls",
      "model_module_version": "1.5.0",
      "model_name": "IntSliderModel",
      "state": {
       "description": "input_objects_",
       "layout": "IPY_MODEL_4b9fdf78ed5c4bbdb0fd734bd724d6f2",
       "max": 8,
       "min": 1,
       "style": "IPY_MODEL_853d0b040452488cb96672e7b5049df1",
       "value": 4
      }
     },
     "39ee851cc5e94c22a341192efd426180": {
      "model_module": "@jupyter-widgets/controls",
      "model_module_version": "1.5.0",
      "model_name": "SliderStyleModel",
      "state": {
       "description_width": ""
      }
     },
     "44df3ae141ed4938889581c6b010c64a": {
      "model_module": "@jupyter-widgets/controls",
      "model_module_version": "1.5.0",
      "model_name": "TextModel",
      "state": {
       "description": "input_obj_shape",
       "layout": "IPY_MODEL_f803d8c46f6e4a7a9a0604fd2392d11b",
       "style": "IPY_MODEL_bef4330cfbf24ac49311cce6ae12e285",
       "value": "(10,10,10)"
      }
     },
     "4b56cfca4d03490e9bf3c59b6c94e9a4": {
      "model_module": "@jupyter-widgets/controls",
      "model_module_version": "1.5.0",
      "model_name": "IntSliderModel",
      "state": {
       "description": "examples_",
       "layout": "IPY_MODEL_52bd3f5fa3874dfdaeb00377532c37b1",
       "max": 1000,
       "min": 1,
       "style": "IPY_MODEL_c01e495ae7964e0b8bd5487edb2ddbdf",
       "value": 1000
      }
     },
     "4b9fdf78ed5c4bbdb0fd734bd724d6f2": {
      "model_module": "@jupyter-widgets/base",
      "model_module_version": "1.2.0",
      "model_name": "LayoutModel",
      "state": {}
     },
     "52bd3f5fa3874dfdaeb00377532c37b1": {
      "model_module": "@jupyter-widgets/base",
      "model_module_version": "1.2.0",
      "model_name": "LayoutModel",
      "state": {}
     },
     "5df8f779399a4c2ea12bce591b4da086": {
      "model_module": "@jupyter-widgets/controls",
      "model_module_version": "1.5.0",
      "model_name": "DescriptionStyleModel",
      "state": {
       "description_width": ""
      }
     },
     "6602970be3514816aaa84968aebfbc84": {
      "model_module": "@jupyter-widgets/base",
      "model_module_version": "1.2.0",
      "model_name": "LayoutModel",
      "state": {}
     },
     "6db9d403fab248878d7e9ee4bcebf402": {
      "model_module": "@jupyter-widgets/base",
      "model_module_version": "1.2.0",
      "model_name": "LayoutModel",
      "state": {}
     },
     "853d0b040452488cb96672e7b5049df1": {
      "model_module": "@jupyter-widgets/controls",
      "model_module_version": "1.5.0",
      "model_name": "SliderStyleModel",
      "state": {
       "description_width": ""
      }
     },
     "8a323a427bb9447cbb254245868ea7be": {
      "model_module": "@jupyter-widgets/controls",
      "model_module_version": "1.5.0",
      "model_name": "IntSliderModel",
      "state": {
       "description": "selected_batch",
       "layout": "IPY_MODEL_6602970be3514816aaa84968aebfbc84",
       "max": 99,
       "style": "IPY_MODEL_39ee851cc5e94c22a341192efd426180",
       "value": 49
      }
     },
     "9673fdc54cc64112bf428305495900c4": {
      "model_module": "@jupyter-widgets/controls",
      "model_module_version": "1.5.0",
      "model_name": "DescriptionStyleModel",
      "state": {
       "description_width": ""
      }
     },
     "a903c49ab23340c88abbae6d5b21222f": {
      "model_module": "@jupyter-widgets/controls",
      "model_module_version": "1.5.0",
      "model_name": "CheckboxModel",
      "state": {
       "description": "debug",
       "disabled": false,
       "layout": "IPY_MODEL_e28d8a080abb49c9b2149fa4863b445c",
       "style": "IPY_MODEL_fdda5c9f193f4add8211f345873bb450",
       "value": false
      }
     },
     "a9ef66b1baaf4df4b8bdd6dec1e5f1be": {
      "model_module": "@jupyter-widgets/base",
      "model_module_version": "1.2.0",
      "model_name": "LayoutModel",
      "state": {}
     },
     "ba1bfb0b56d74cf690842bd9f3c19636": {
      "model_module": "@jupyter-widgets/base",
      "model_module_version": "1.2.0",
      "model_name": "LayoutModel",
      "state": {}
     },
     "bef4330cfbf24ac49311cce6ae12e285": {
      "model_module": "@jupyter-widgets/controls",
      "model_module_version": "1.5.0",
      "model_name": "DescriptionStyleModel",
      "state": {
       "description_width": ""
      }
     },
     "c01e495ae7964e0b8bd5487edb2ddbdf": {
      "model_module": "@jupyter-widgets/controls",
      "model_module_version": "1.5.0",
      "model_name": "SliderStyleModel",
      "state": {
       "description_width": ""
      }
     },
     "c4e2b7302d494f88af68955ad12ba0a4": {
      "model_module": "@jupyter-widgets/output",
      "model_module_version": "1.0.0",
      "model_name": "OutputModel",
      "state": {
       "layout": "IPY_MODEL_eca8400ae6d949ef83ee8aebd18f915e",
       "outputs": [
        {
         "name": "stdout",
         "output_type": "stream",
         "text": "selected batch: 49 of 99 with a batchsize of 10 and total 1000 examples\nstart idx: 490, end idx: 500\nIndexes of the currrent batch: [490, 491, 492, 493, 494, 495, 496, 497, 498, 499]\n----------------------------------------\n"
        },
        {
         "data": {
          "text/plain": "[(10, 4, 10, 10, 10), (10, 1, 10, 10, 10)]"
         },
         "metadata": {},
         "output_type": "display_data"
        }
       ]
      }
     },
     "cf986ec665f9479d99a3e385d2c1480b": {
      "model_module": "@jupyter-widgets/controls",
      "model_module_version": "1.5.0",
      "model_name": "IntSliderModel",
      "state": {
       "description": "output_objects_",
       "layout": "IPY_MODEL_0de1e98df04e47ab8ba87f1fb173db17",
       "max": 8,
       "min": 1,
       "style": "IPY_MODEL_1a8d62c6d6784e3b8204562057974898",
       "value": 1
      }
     },
     "e28d8a080abb49c9b2149fa4863b445c": {
      "model_module": "@jupyter-widgets/base",
      "model_module_version": "1.2.0",
      "model_name": "LayoutModel",
      "state": {}
     },
     "e4ee1b9e770a4d8283013eaa4e81d510": {
      "model_module": "@jupyter-widgets/controls",
      "model_module_version": "1.5.0",
      "model_name": "VBoxModel",
      "state": {
       "_dom_classes": [
        "widget-interact"
       ],
       "children": [
        "IPY_MODEL_4b56cfca4d03490e9bf3c59b6c94e9a4",
        "IPY_MODEL_32e23902f7bd4ae99a1194ddd63354ad",
        "IPY_MODEL_cf986ec665f9479d99a3e385d2c1480b",
        "IPY_MODEL_07fb0c2e53dc45a7bb3594573b68dd75",
        "IPY_MODEL_44df3ae141ed4938889581c6b010c64a",
        "IPY_MODEL_eb58bf6d49474347b9787c5fa17cb668",
        "IPY_MODEL_04b431162e164f6f9ad0ef3a661c9d95",
        "IPY_MODEL_17b9ef8d49b74741ae066ef605da3797"
       ],
       "layout": "IPY_MODEL_6db9d403fab248878d7e9ee4bcebf402"
      }
     },
     "eb58bf6d49474347b9787c5fa17cb668": {
      "model_module": "@jupyter-widgets/controls",
      "model_module_version": "1.5.0",
      "model_name": "TextModel",
      "state": {
       "description": "ouptut_obj_shape",
       "layout": "IPY_MODEL_047f48f0cef7496ba7d9b1b5f2a1d6eb",
       "style": "IPY_MODEL_5df8f779399a4c2ea12bce591b4da086",
       "value": "(10,10,10)"
      }
     },
     "eca8400ae6d949ef83ee8aebd18f915e": {
      "model_module": "@jupyter-widgets/base",
      "model_module_version": "1.2.0",
      "model_name": "LayoutModel",
      "state": {}
     },
     "eed0ad0a29be42bcbc59157558d77436": {
      "model_module": "@jupyter-widgets/base",
      "model_module_version": "1.2.0",
      "model_name": "LayoutModel",
      "state": {}
     },
     "efc68cf2ca194329820371929126441a": {
      "model_module": "@jupyter-widgets/base",
      "model_module_version": "1.2.0",
      "model_name": "LayoutModel",
      "state": {}
     },
     "f803d8c46f6e4a7a9a0604fd2392d11b": {
      "model_module": "@jupyter-widgets/base",
      "model_module_version": "1.2.0",
      "model_name": "LayoutModel",
      "state": {}
     },
     "fdda5c9f193f4add8211f345873bb450": {
      "model_module": "@jupyter-widgets/controls",
      "model_module_version": "1.5.0",
      "model_name": "DescriptionStyleModel",
      "state": {
       "description_width": ""
      }
     },
     "ff19b1f3d5d549b9a56a8e317d50a2ed": {
      "model_module": "@jupyter-widgets/controls",
      "model_module_version": "1.5.0",
      "model_name": "ButtonStyleModel",
      "state": {}
     }
    },
    "version_major": 2,
    "version_minor": 0
   }
  }
 },
 "nbformat": 4,
 "nbformat_minor": 4
}
