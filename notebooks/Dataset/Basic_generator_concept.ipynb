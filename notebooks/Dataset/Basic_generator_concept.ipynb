{
 "cells": [
  {
   "cell_type": "code",
   "execution_count": 1,
   "metadata": {},
   "outputs": [
    {
     "name": "stdout",
     "output_type": "stream",
     "text": [
      "search for root_dir and set working directory\n",
      "Working directory set to: /mnt/ssd/git/dynamic-cmr-models\n"
     ]
    }
   ],
   "source": [
    "# define logging and working directory\n",
    "from ProjectRoot import change_wd_to_project_root\n",
    "change_wd_to_project_root()\n",
    "from src.utils.Notebook_imports import *\n",
    "import numpy as np"
   ]
  },
  {
   "cell_type": "markdown",
   "metadata": {},
   "source": [
    "# Test the main concepts of a DL generator\n",
    "\n",
    "A Generator yields a tuple of (x,y) and is used to feed data into a deep learning model\n",
    "\n",
    "Each x/y tuple has the following shape: \n",
    "\n",
    "$batchsize * exampleSize * exampleShape$ \n",
    "\n",
    "--> The $exampleShape$ could be:\n",
    "- for 1D vector-data: $width$\n",
    "- for 2D images: $height * width$: \n",
    "- for 3D volumes: $depth * height * width$)\n"
   ]
  },
  {
   "cell_type": "markdown",
   "metadata": {},
   "source": [
    "# Create fake data interactively\n",
    "\n",
    "Please define:\n",
    "\n",
    "- The total number of $examples$ (the size of the dataset), each $example$ represents one patient/entity\n",
    "- the $exampleSize$ (number of objects per example), this could represent different timesteps of a multi input generator\n",
    "- the $batchsize$, meaning how many examples should be yielded in one step\n",
    "\n",
    "Usually one example would be the path to a file. Which, when loaded will have the given $inputShape$/ $outputShape$.\n",
    "\n",
    "In this example we will create random numbers define the input and output shape with $inputObjShape$ and $outputObjShape$.\n",
    "\n",
    "Each random number represents a 1D/2D or 3D object"
   ]
  },
  {
   "cell_type": "code",
   "execution_count": 7,
   "metadata": {},
   "outputs": [
    {
     "data": {
      "application/vnd.jupyter.widget-view+json": {
       "model_id": "4edaf7fdf08045d89a0ad87882cca116",
       "version_major": 2,
       "version_minor": 0
      },
      "text/plain": [
       "interactive(children=(IntSlider(value=500, description='examples_', max=1000, min=1), IntSlider(value=4, descr…"
      ]
     },
     "metadata": {},
     "output_type": "display_data"
    }
   ],
   "source": [
    "# Define the size of our fake data\n",
    "upper_example_limit = 1000\n",
    "upper_example_size_limit = 8\n",
    "upper_batchsize_limit = 20\n",
    "\n",
    "@interact_manual\n",
    "def create_fake_data(examples_=(1,upper_example_limit), \n",
    "                     inputObjects=(1,upper_example_size_limit),\n",
    "                     outputObjects=(1,upper_example_size_limit),\n",
    "                     batchsize_=(1,upper_batchsize_limit), \n",
    "                     input_obj_shape='(10,10,10)', \n",
    "                     ouptut_obj_shape='(10,10,10)'):\n",
    "    \n",
    "    global examples, input_objects, output_objects , batchsize, indexes, X, Y, x_dict, y_dict, batches\n",
    "    examples = examples_\n",
    "    batchsize = batchsize_\n",
    "    input_objects = inputObjects\n",
    "    output_objects = outputObjects\n",
    "    \n",
    "    # make sure the dimensions have the correct formating\n",
    "    # converts a string of int-tuple into a tuple of int '(10,10,10)' --> (10,10,10)\n",
    "    x_dim = tuple(map(int, input_obj_shape.replace(')', '').replace('(','').split(',')))\n",
    "    y_dim = tuple(map(int, ouptut_obj_shape.replace(')', '').replace('(','').split(',')))\n",
    "    \n",
    "    # create some fake data\n",
    "    x_dict = {}\n",
    "    y_dict = {}  \n",
    "    X = []\n",
    "    for example in range(examples_):\n",
    "        # create example data (batchsize x input_objects x input_object_shape and batchsize output_objects x output_object_shape)\n",
    "        # squeeze unused dimensions\n",
    "        x_dict[example] = np.squeeze(np.stack([np.round(np.random.sample(x_dim),2)+example for i in range(input_objects)]))\n",
    "        y_dict[example] = np.squeeze(np.stack([np.round(np.random.sample(y_dim),2)+(10*example) for i in range(output_objects)]))\n",
    "        # testing purpose if lists are faster than dicts\n",
    "        #X.append(np.stack([np.round(np.random.sample(x_dim),2)+example for i in range(input_objects)]))\n",
    "    # index our data, we can use the indicies to select one example or a batch of examples from a list or dictionary\n",
    "    # By this we dont need to shuffle the data itself, we shuffle only the indexes\n",
    "    indexes = list(range(len(x_dict)))\n",
    "    batches = int(np.floor(examples/batchsize))-1\n",
    "    print('Shape of one patient X: {}, Y: {}'.format(x_dict[0].shape, y_dict[0].shape))"
   ]
  },
  {
   "cell_type": "markdown",
   "metadata": {},
   "source": [
    "# Select one batch and yield the corresponding values/shape $(batchsize \\times inputObjects \\times inputObjShape),(batchsize \\times outputObjects \\times outputObjShape)$"
   ]
  },
  {
   "cell_type": "code",
   "execution_count": 6,
   "metadata": {},
   "outputs": [
    {
     "data": {
      "application/vnd.jupyter.widget-view+json": {
       "model_id": "c60d4b868a7a43b481e998f84bab1bd4",
       "version_major": 2,
       "version_minor": 0
      },
      "text/plain": [
       "interactive(children=(IntSlider(value=14, description='selected_batch', max=29), Checkbox(value=False, descrip…"
      ]
     },
     "metadata": {},
     "output_type": "display_data"
    }
   ],
   "source": [
    "@interact\n",
    "def select_batch(selected_batch = (0,batches), shuffle_indexes=False, debug=False):\n",
    "    global indexes\n",
    "    \n",
    "    if shuffle_indexes:\n",
    "        random.shuffle(indexes)\n",
    "    # make sure indexes are correctly initialised\n",
    "    assert len(indexes) == examples, print('len indexes: {}, number of examples: {}'.format(len(indexes), examples))\n",
    "    \n",
    "    # define the lower/upper index slicing borders of the current batch\n",
    "    start_idx = selected_batch*batchsize\n",
    "    end_idx = (selected_batch+1)*batchsize\n",
    "    \n",
    "    # we slice the indexes of the current batch from the index list\n",
    "    batch_indexes = indexes[start_idx: end_idx]\n",
    "    \n",
    "    # print the restrictions of the current batch\n",
    "    print('selected batch: {} of {} with a batchsize of {} and total {} examples'.format(selected_batch, batches, batchsize, examples))\n",
    "    print('start idx: {}, end idx: {}'.format(start_idx, end_idx))\n",
    "    print('Indexes of the currrent batch: {}'.format(batch_indexes))\n",
    "    print('-'*40)\n",
    "    \n",
    "    # stack the entities of the current batch\n",
    "    batch_x = np.stack([x_dict[k] for k in batch_indexes])\n",
    "    batch_y = np.stack([y_dict[k] for k in batch_indexes])\n",
    "    if debug:\n",
    "        [print('index: {}: value: {}'.format(k, x_dict[k])) for k in batch_indexes]\n",
    "        [print('index: {}: value: {}'.format(k, y_dict[k])) for k in batch_indexes]\n",
    "    \n",
    "    return([batch_x.shape, batch_y.shape])"
   ]
  },
  {
   "cell_type": "markdown",
   "metadata": {},
   "source": [
    "# Performance measurements of different indexing mehtods"
   ]
  },
  {
   "cell_type": "code",
   "execution_count": 4,
   "metadata": {},
   "outputs": [],
   "source": [
    "from random import randint\n",
    "# We have a list --> X and a dictionary --> x_dict, \n",
    "# len(X) == len(x_dict)\n",
    "# and X[i] == x_dict[i] for all i in range(len(X))\n",
    "# We create n random indicies within the range of len(X)\n",
    "samples = [randint(0, examples-1) for _ in range(10000000)]"
   ]
  },
  {
   "cell_type": "code",
   "execution_count": 5,
   "metadata": {},
   "outputs": [
    {
     "name": "stdout",
     "output_type": "stream",
     "text": [
      "248 ms ± 2.87 ms per loop (mean ± std. dev. of 7 runs, 1 loop each)\n"
     ]
    }
   ],
   "source": [
    "%%timeit\n",
    "# access the list n times, append the value to a new list\n",
    "temp = None\n",
    "for i in samples:\n",
    "    temp = X[i]\n",
    "    "
   ]
  },
  {
   "cell_type": "code",
   "execution_count": 6,
   "metadata": {},
   "outputs": [
    {
     "name": "stdout",
     "output_type": "stream",
     "text": [
      "398 ms ± 2.14 ms per loop (mean ± std. dev. of 7 runs, 1 loop each)\n"
     ]
    }
   ],
   "source": [
    "%%timeit\n",
    "# access the dict n times, append the value to a new list\n",
    "temp = None\n",
    "for i in samples:\n",
    "    temp = x_dict[i]"
   ]
  },
  {
   "cell_type": "markdown",
   "metadata": {},
   "source": [
    "# From Index to one-hot-encoding"
   ]
  },
  {
   "cell_type": "code",
   "execution_count": 19,
   "metadata": {},
   "outputs": [],
   "source": [
    "import numpy as np"
   ]
  },
  {
   "cell_type": "code",
   "execution_count": 69,
   "metadata": {},
   "outputs": [
    {
     "name": "stdout",
     "output_type": "stream",
     "text": [
      "(5, 25)\n"
     ]
    },
    {
     "data": {
      "image/png": "[encoded data removed]",
      "text/plain": [
       "<Figure size 432x288 with 1 Axes>"
      ]
     },
     "metadata": {
      "needs_background": "light"
     },
     "output_type": "display_data"
    },
    {
     "name": "stdout",
     "output_type": "stream",
     "text": [
      "[[0. 0. 0. 0. 0. 0. 0. 0. 0. 0. 0. 0. 0. 0. 0. 0. 0. 0. 0. 0. 0. 0. 0. 0.\n",
      "  1.]\n",
      " [0. 0. 0. 0. 1. 0. 0. 0. 0. 0. 0. 0. 0. 0. 0. 0. 0. 0. 0. 0. 0. 0. 0. 0.\n",
      "  0.]\n",
      " [0. 0. 0. 0. 0. 0. 0. 0. 0. 1. 0. 0. 0. 0. 0. 0. 0. 0. 0. 0. 0. 0. 0. 0.\n",
      "  0.]\n",
      " [0. 0. 0. 0. 0. 0. 0. 0. 0. 0. 0. 0. 1. 0. 0. 0. 0. 0. 0. 0. 0. 0. 0. 0.\n",
      "  0.]\n",
      " [0. 0. 0. 0. 0. 0. 0. 0. 0. 0. 0. 0. 0. 0. 0. 0. 0. 0. 0. 0. 0. 1. 0. 0.\n",
      "  0.]]\n"
     ]
    }
   ],
   "source": [
    "# transform the indices into a one-hot encoding\n",
    "target_t = 36\n",
    "timesteps = 25\n",
    "ind = np.array([24,4,9,12,21])\n",
    "reps = int(np.ceil(target_t / timesteps))\n",
    "\n",
    "onehot = np.zeros((ind.size, timesteps))\n",
    "onehot[np.arange(ind.size), ind] = 1\n",
    "print(onehot.shape)\n",
    "plt.imshow(onehot)\n",
    "plt.show()\n",
    "print(onehot)"
   ]
  },
  {
   "cell_type": "markdown",
   "metadata": {},
   "source": [
    "# Phase augmentation - interpret the on-hot vector as ringbuffer"
   ]
  },
  {
   "cell_type": "code",
   "execution_count": 70,
   "metadata": {},
   "outputs": [
    {
     "name": "stdout",
     "output_type": "stream",
     "text": [
      "(5, 25)\n"
     ]
    },
    {
     "data": {
      "image/png": "[encoded data removed]",
      "text/plain": [
       "<Figure size 432x288 with 1 Axes>"
      ]
     },
     "metadata": {
      "needs_background": "light"
     },
     "output_type": "display_data"
    },
    {
     "name": "stdout",
     "output_type": "stream",
     "text": [
      "[[0. 0. 0. 0. 0. 0. 0. 0. 0. 0. 0. 0. 0. 0. 0. 0. 0. 0. 0. 0. 0. 1. 0. 0.\n",
      "  0.]\n",
      " [0. 1. 0. 0. 0. 0. 0. 0. 0. 0. 0. 0. 0. 0. 0. 0. 0. 0. 0. 0. 0. 0. 0. 0.\n",
      "  0.]\n",
      " [0. 0. 0. 0. 0. 0. 1. 0. 0. 0. 0. 0. 0. 0. 0. 0. 0. 0. 0. 0. 0. 0. 0. 0.\n",
      "  0.]\n",
      " [0. 0. 0. 0. 0. 0. 0. 0. 0. 1. 0. 0. 0. 0. 0. 0. 0. 0. 0. 0. 0. 0. 0. 0.\n",
      "  0.]\n",
      " [0. 0. 0. 0. 0. 0. 0. 0. 0. 0. 0. 0. 0. 0. 0. 0. 0. 0. 1. 0. 0. 0. 0. 0.\n",
      "  0.]]\n"
     ]
    }
   ],
   "source": [
    "# the img/vectors should represent a ring of heartcycles\n",
    "rand = random.randint(0, len(onehot))\n",
    "logging.info(rand)\n",
    "onehot = np.concatenate([onehot[:,rand:], onehot[:,:rand]], axis=1)\n",
    "print(onehot.shape)\n",
    "plt.imshow(onehot)\n",
    "plt.show()\n",
    "print(onehot)"
   ]
  },
  {
   "cell_type": "markdown",
   "metadata": {},
   "source": [
    "# Increase the one-hot vector size\n",
    "\n",
    "By this we can:\n",
    "\n",
    "1. smooth the beginning and end of the vector (cycle behaviour)\n",
    "2. repeat the vector and images to the network input siye instead of cropping it"
   ]
  },
  {
   "cell_type": "code",
   "execution_count": 71,
   "metadata": {},
   "outputs": [
    {
     "name": "stdout",
     "output_type": "stream",
     "text": [
      "(5, 100)\n"
     ]
    },
    {
     "data": {
      "image/png": "[encoded data removed]",
      "text/plain": [
       "<Figure size 432x288 with 1 Axes>"
      ]
     },
     "metadata": {
      "needs_background": "light"
     },
     "output_type": "display_data"
    },
    {
     "name": "stdout",
     "output_type": "stream",
     "text": [
      "[[0. 0. 0. 0. 0. 0. 0. 0. 0. 0. 0. 0. 0. 0. 0. 0. 0. 0. 0. 0. 0. 1. 0. 0.\n",
      "  0. 0. 0. 0. 0. 0. 0. 0. 0. 0. 0. 0. 0. 0. 0. 0. 0. 0. 0. 0. 0. 0. 1. 0.\n",
      "  0. 0. 0. 0. 0. 0. 0. 0. 0. 0. 0. 0. 0. 0. 0. 0. 0. 0. 0. 0. 0. 0. 0. 1.\n",
      "  0. 0. 0. 0. 0. 0. 0. 0. 0. 0. 0. 0. 0. 0. 0. 0. 0. 0. 0. 0. 0. 0. 0. 0.\n",
      "  1. 0. 0. 0.]\n",
      " [0. 1. 0. 0. 0. 0. 0. 0. 0. 0. 0. 0. 0. 0. 0. 0. 0. 0. 0. 0. 0. 0. 0. 0.\n",
      "  0. 0. 1. 0. 0. 0. 0. 0. 0. 0. 0. 0. 0. 0. 0. 0. 0. 0. 0. 0. 0. 0. 0. 0.\n",
      "  0. 0. 0. 1. 0. 0. 0. 0. 0. 0. 0. 0. 0. 0. 0. 0. 0. 0. 0. 0. 0. 0. 0. 0.\n",
      "  0. 0. 0. 0. 1. 0. 0. 0. 0. 0. 0. 0. 0. 0. 0. 0. 0. 0. 0. 0. 0. 0. 0. 0.\n",
      "  0. 0. 0. 0.]\n",
      " [0. 0. 0. 0. 0. 0. 1. 0. 0. 0. 0. 0. 0. 0. 0. 0. 0. 0. 0. 0. 0. 0. 0. 0.\n",
      "  0. 0. 0. 0. 0. 0. 0. 1. 0. 0. 0. 0. 0. 0. 0. 0. 0. 0. 0. 0. 0. 0. 0. 0.\n",
      "  0. 0. 0. 0. 0. 0. 0. 0. 1. 0. 0. 0. 0. 0. 0. 0. 0. 0. 0. 0. 0. 0. 0. 0.\n",
      "  0. 0. 0. 0. 0. 0. 0. 0. 0. 1. 0. 0. 0. 0. 0. 0. 0. 0. 0. 0. 0. 0. 0. 0.\n",
      "  0. 0. 0. 0.]\n",
      " [0. 0. 0. 0. 0. 0. 0. 0. 0. 1. 0. 0. 0. 0. 0. 0. 0. 0. 0. 0. 0. 0. 0. 0.\n",
      "  0. 0. 0. 0. 0. 0. 0. 0. 0. 0. 1. 0. 0. 0. 0. 0. 0. 0. 0. 0. 0. 0. 0. 0.\n",
      "  0. 0. 0. 0. 0. 0. 0. 0. 0. 0. 0. 1. 0. 0. 0. 0. 0. 0. 0. 0. 0. 0. 0. 0.\n",
      "  0. 0. 0. 0. 0. 0. 0. 0. 0. 0. 0. 0. 1. 0. 0. 0. 0. 0. 0. 0. 0. 0. 0. 0.\n",
      "  0. 0. 0. 0.]\n",
      " [0. 0. 0. 0. 0. 0. 0. 0. 0. 0. 0. 0. 0. 0. 0. 0. 0. 0. 1. 0. 0. 0. 0. 0.\n",
      "  0. 0. 0. 0. 0. 0. 0. 0. 0. 0. 0. 0. 0. 0. 0. 0. 0. 0. 0. 1. 0. 0. 0. 0.\n",
      "  0. 0. 0. 0. 0. 0. 0. 0. 0. 0. 0. 0. 0. 0. 0. 0. 0. 0. 0. 0. 1. 0. 0. 0.\n",
      "  0. 0. 0. 0. 0. 0. 0. 0. 0. 0. 0. 0. 0. 0. 0. 0. 0. 0. 0. 0. 0. 1. 0. 0.\n",
      "  0. 0. 0. 0.]]\n"
     ]
    }
   ],
   "source": [
    "# repeat along t, len(onehot) is than 2 x ceil(t_output/4d.shape[0])\n",
    "onehot = np.tile(onehot, (1, reps * 2))\n",
    "print(onehot.shape)\n",
    "plt.imshow(onehot)\n",
    "plt.show()\n",
    "print(onehot)"
   ]
  },
  {
   "cell_type": "markdown",
   "metadata": {},
   "source": [
    "# Smooth/convolve the five given labels along t"
   ]
  },
  {
   "cell_type": "code",
   "execution_count": 72,
   "metadata": {},
   "outputs": [
    {
     "name": "stdout",
     "output_type": "stream",
     "text": [
      "(5, 100)\n"
     ]
    },
    {
     "data": {
      "image/png": "[encoded data removed]",
      "text/plain": [
       "<Figure size 432x288 with 1 Axes>"
      ]
     },
     "metadata": {
      "needs_background": "light"
     },
     "output_type": "display_data"
    },
    {
     "name": "stdout",
     "output_type": "stream",
     "text": [
      "[[ 0.     0.     0.     0.     0.     0.     0.     0.     0.     0.\n",
      "   0.     0.     0.     0.     0.     0.     0.1    1.325  2.55   3.775\n",
      "   5.    20.     5.     3.775  2.55   1.325  0.1    0.     0.     0.\n",
      "   0.     0.     0.     0.     0.     0.     0.     0.     0.     0.\n",
      "   0.     0.1    1.325  2.55   3.775  5.    20.     5.     3.775  2.55\n",
      "   1.325  0.1    0.     0.     0.     0.     0.     0.     0.     0.\n",
      "   0.     0.     0.     0.     0.     0.     0.1    1.325  2.55   3.775\n",
      "   5.    20.     5.     3.775  2.55   1.325  0.1    0.     0.     0.\n",
      "   0.     0.     0.     0.     0.     0.     0.     0.     0.     0.\n",
      "   0.     0.1    1.325  2.55   3.775  5.    20.     5.     3.775  2.55 ]\n",
      " [ 5.    20.     5.     3.775  2.55   1.325  0.1    0.     0.     0.\n",
      "   0.     0.     0.     0.     0.     0.     0.     0.     0.     0.\n",
      "   0.     0.1    1.325  2.55   3.775  5.    20.     5.     3.775  2.55\n",
      "   1.325  0.1    0.     0.     0.     0.     0.     0.     0.     0.\n",
      "   0.     0.     0.     0.     0.     0.     0.1    1.325  2.55   3.775\n",
      "   5.    20.     5.     3.775  2.55   1.325  0.1    0.     0.     0.\n",
      "   0.     0.     0.     0.     0.     0.     0.     0.     0.     0.\n",
      "   0.     0.1    1.325  2.55   3.775  5.    20.     5.     3.775  2.55\n",
      "   1.325  0.1    0.     0.     0.     0.     0.     0.     0.     0.\n",
      "   0.     0.     0.     0.     0.     0.     0.     0.     0.     0.   ]\n",
      " [ 0.     0.1    1.325  2.55   3.775  5.    20.     5.     3.775  2.55\n",
      "   1.325  0.1    0.     0.     0.     0.     0.     0.     0.     0.\n",
      "   0.     0.     0.     0.     0.     0.     0.1    1.325  2.55   3.775\n",
      "   5.    20.     5.     3.775  2.55   1.325  0.1    0.     0.     0.\n",
      "   0.     0.     0.     0.     0.     0.     0.     0.     0.     0.\n",
      "   0.     0.1    1.325  2.55   3.775  5.    20.     5.     3.775  2.55\n",
      "   1.325  0.1    0.     0.     0.     0.     0.     0.     0.     0.\n",
      "   0.     0.     0.     0.     0.     0.     0.1    1.325  2.55   3.775\n",
      "   5.    20.     5.     3.775  2.55   1.325  0.1    0.     0.     0.\n",
      "   0.     0.     0.     0.     0.     0.     0.     0.     0.     0.   ]\n",
      " [ 0.     0.     0.     0.     0.1    1.325  2.55   3.775  5.    20.\n",
      "   5.     3.775  2.55   1.325  0.1    0.     0.     0.     0.     0.\n",
      "   0.     0.     0.     0.     0.     0.     0.     0.     0.     0.1\n",
      "   1.325  2.55   3.775  5.    20.     5.     3.775  2.55   1.325  0.1\n",
      "   0.     0.     0.     0.     0.     0.     0.     0.     0.     0.\n",
      "   0.     0.     0.     0.     0.1    1.325  2.55   3.775  5.    20.\n",
      "   5.     3.775  2.55   1.325  0.1    0.     0.     0.     0.     0.\n",
      "   0.     0.     0.     0.     0.     0.     0.     0.     0.     0.1\n",
      "   1.325  2.55   3.775  5.    20.     5.     3.775  2.55   1.325  0.1\n",
      "   0.     0.     0.     0.     0.     0.     0.     0.     0.     0.   ]\n",
      " [ 0.     0.     0.     0.     0.     0.     0.     0.     0.     0.\n",
      "   0.     0.     0.     0.1    1.325  2.55   3.775  5.    20.     5.\n",
      "   3.775  2.55   1.325  0.1    0.     0.     0.     0.     0.     0.\n",
      "   0.     0.     0.     0.     0.     0.     0.     0.     0.1    1.325\n",
      "   2.55   3.775  5.    20.     5.     3.775  2.55   1.325  0.1    0.\n",
      "   0.     0.     0.     0.     0.     0.     0.     0.     0.     0.\n",
      "   0.     0.     0.     0.1    1.325  2.55   3.775  5.    20.     5.\n",
      "   3.775  2.55   1.325  0.1    0.     0.     0.     0.     0.     0.\n",
      "   0.     0.     0.     0.     0.     0.     0.     0.     0.1    1.325\n",
      "   2.55   3.775  5.    20.     5.     3.775  2.55   1.325  0.1    0.   ]]\n"
     ]
    }
   ],
   "source": [
    "# smooth the onehot with a 1D conv kernel\n",
    "# create a 1D kernel with linearly increasing/decreasing values in the range(lower,upper),\n",
    "# insert a '1' in the middle, as this reflect the correct idx\n",
    "config = {}\n",
    "SMOOTHING_KERNEL_SIZE = config.get('SMOOTHING_KERNEL_SIZE',10)\n",
    "SMOOTHING_LOWER_BORDER = config.get('SMOOTHING_LOWER_BORDER',0.1)\n",
    "SMOOTHING_UPPER_BORDER = config.get('SMOOTHING_UPPER_BORDER',5)\n",
    "KERNEL = np.concatenate(\n",
    "    [np.linspace(SMOOTHING_LOWER_BORDER,SMOOTHING_UPPER_BORDER,SMOOTHING_KERNEL_SIZE//2),\n",
    "     [20],\n",
    "     np.linspace(SMOOTHING_UPPER_BORDER,SMOOTHING_LOWER_BORDER,SMOOTHING_KERNEL_SIZE//2)])\n",
    "\n",
    "for idx in range(onehot.shape[0]):\n",
    "    smoothed = np.convolve(onehot[idx], KERNEL, mode='same')\n",
    "    onehot[idx] = smoothed\n",
    "\n",
    "print(onehot.shape)\n",
    "plt.imshow(onehot)\n",
    "plt.show()\n",
    "print(onehot)"
   ]
  },
  {
   "cell_type": "markdown",
   "metadata": {},
   "source": [
    "# Element-wise maximize two identical splits, this will smooth the beginning and end"
   ]
  },
  {
   "cell_type": "code",
   "execution_count": 73,
   "metadata": {},
   "outputs": [
    {
     "name": "stdout",
     "output_type": "stream",
     "text": [
      "(5, 50)\n"
     ]
    },
    {
     "data": {
      "image/png": "[encoded data removed]",
      "text/plain": [
       "<Figure size 432x288 with 1 Axes>"
      ]
     },
     "metadata": {
      "needs_background": "light"
     },
     "output_type": "display_data"
    },
    {
     "name": "stdout",
     "output_type": "stream",
     "text": [
      "[[ 1.325  0.1    0.     0.     0.     0.     0.     0.     0.     0.\n",
      "   0.     0.     0.     0.     0.     0.     0.1    1.325  2.55   3.775\n",
      "   5.    20.     5.     3.775  2.55   1.325  0.1    0.     0.     0.\n",
      "   0.     0.     0.     0.     0.     0.     0.     0.     0.     0.\n",
      "   0.     0.1    1.325  2.55   3.775  5.    20.     5.     3.775  2.55 ]\n",
      " [ 5.    20.     5.     3.775  2.55   1.325  0.1    0.     0.     0.\n",
      "   0.     0.     0.     0.     0.     0.     0.     0.     0.     0.\n",
      "   0.     0.1    1.325  2.55   3.775  5.    20.     5.     3.775  2.55\n",
      "   1.325  0.1    0.     0.     0.     0.     0.     0.     0.     0.\n",
      "   0.     0.     0.     0.     0.     0.     0.1    1.325  2.55   3.775]\n",
      " [ 0.     0.1    1.325  2.55   3.775  5.    20.     5.     3.775  2.55\n",
      "   1.325  0.1    0.     0.     0.     0.     0.     0.     0.     0.\n",
      "   0.     0.     0.     0.     0.     0.     0.1    1.325  2.55   3.775\n",
      "   5.    20.     5.     3.775  2.55   1.325  0.1    0.     0.     0.\n",
      "   0.     0.     0.     0.     0.     0.     0.     0.     0.     0.   ]\n",
      " [ 0.     0.     0.     0.     0.1    1.325  2.55   3.775  5.    20.\n",
      "   5.     3.775  2.55   1.325  0.1    0.     0.     0.     0.     0.\n",
      "   0.     0.     0.     0.     0.     0.     0.     0.     0.     0.1\n",
      "   1.325  2.55   3.775  5.    20.     5.     3.775  2.55   1.325  0.1\n",
      "   0.     0.     0.     0.     0.     0.     0.     0.     0.     0.   ]\n",
      " [ 0.     0.     0.     0.     0.     0.     0.     0.     0.     0.\n",
      "   0.     0.     0.     0.1    1.325  2.55   3.775  5.    20.     5.\n",
      "   3.775  2.55   1.325  0.1    0.     0.     0.     0.     0.     0.\n",
      "   0.     0.     0.     0.     0.     0.     0.     0.     0.1    1.325\n",
      "   2.55   3.775  5.    20.     5.     3.775  2.55   1.325  0.1    0.   ]]\n"
     ]
    }
   ],
   "source": [
    "# make sure that we are smooth at the edges (ring-smoothness)\n",
    "first, second = np.split(onehot,indices_or_sections=2, axis=1)\n",
    "onehot = np.maximum(first, second)\n",
    "print(onehot.shape)\n",
    "plt.imshow(onehot)\n",
    "plt.show()\n",
    "print(onehot)"
   ]
  },
  {
   "cell_type": "markdown",
   "metadata": {},
   "source": [
    "# Crop and transpose to target length"
   ]
  },
  {
   "cell_type": "code",
   "execution_count": 74,
   "metadata": {},
   "outputs": [
    {
     "name": "stdout",
     "output_type": "stream",
     "text": [
      "(36, 5)\n"
     ]
    },
    {
     "data": {
      "image/png": "[encoded data removed]",
      "text/plain": [
       "<Figure size 432x288 with 1 Axes>"
      ]
     },
     "metadata": {
      "needs_background": "light"
     },
     "output_type": "display_data"
    },
    {
     "name": "stdout",
     "output_type": "stream",
     "text": [
      "[[ 1.325  5.     0.     0.     0.   ]\n",
      " [ 0.1   20.     0.1    0.     0.   ]\n",
      " [ 0.     5.     1.325  0.     0.   ]\n",
      " [ 0.     3.775  2.55   0.     0.   ]\n",
      " [ 0.     2.55   3.775  0.1    0.   ]\n",
      " [ 0.     1.325  5.     1.325  0.   ]\n",
      " [ 0.     0.1   20.     2.55   0.   ]\n",
      " [ 0.     0.     5.     3.775  0.   ]\n",
      " [ 0.     0.     3.775  5.     0.   ]\n",
      " [ 0.     0.     2.55  20.     0.   ]\n",
      " [ 0.     0.     1.325  5.     0.   ]\n",
      " [ 0.     0.     0.1    3.775  0.   ]\n",
      " [ 0.     0.     0.     2.55   0.   ]\n",
      " [ 0.     0.     0.     1.325  0.1  ]\n",
      " [ 0.     0.     0.     0.1    1.325]\n",
      " [ 0.     0.     0.     0.     2.55 ]\n",
      " [ 0.1    0.     0.     0.     3.775]\n",
      " [ 1.325  0.     0.     0.     5.   ]\n",
      " [ 2.55   0.     0.     0.    20.   ]\n",
      " [ 3.775  0.     0.     0.     5.   ]\n",
      " [ 5.     0.     0.     0.     3.775]\n",
      " [20.     0.1    0.     0.     2.55 ]\n",
      " [ 5.     1.325  0.     0.     1.325]\n",
      " [ 3.775  2.55   0.     0.     0.1  ]\n",
      " [ 2.55   3.775  0.     0.     0.   ]\n",
      " [ 1.325  5.     0.     0.     0.   ]\n",
      " [ 0.1   20.     0.1    0.     0.   ]\n",
      " [ 0.     5.     1.325  0.     0.   ]\n",
      " [ 0.     3.775  2.55   0.     0.   ]\n",
      " [ 0.     2.55   3.775  0.1    0.   ]\n",
      " [ 0.     1.325  5.     1.325  0.   ]\n",
      " [ 0.     0.1   20.     2.55   0.   ]\n",
      " [ 0.     0.     5.     3.775  0.   ]\n",
      " [ 0.     0.     3.775  5.     0.   ]\n",
      " [ 0.     0.     2.55  20.     0.   ]\n",
      " [ 0.     0.     1.325  5.     0.   ]]\n"
     ]
    }
   ],
   "source": [
    "# cut and transpose the onehot by the target length\n",
    "onehot = onehot[:,:target_t]\n",
    "onehot = onehot.T\n",
    "print(onehot.shape)\n",
    "plt.imshow(onehot)\n",
    "plt.show()\n",
    "print(onehot)"
   ]
  },
  {
   "cell_type": "markdown",
   "metadata": {},
   "source": [
    "# Normalise the vector along the second axis \n",
    "\n",
    "This can be done either by:\n",
    "\n",
    "- divide each element by the sum of the elements + epsilon\n",
    "\n",
    "$\\sigma(\\mathbf{z})_i = \\frac{z_i}{\\sum_{j=1}^K z_j + \\epsilon} \\text{ for } i = 1, \\dotsc , K \\text{ and } \\mathbf z=(z_1,\\dotsc,z_K) \\in\\mathbb{R}^K$\n",
    "\n",
    "- The standard (unit) softmax function $\\sigma : \\mathbb{R}^K\\to\\mathbb{R}^K$ is defined by the formula ([softmax definition](https://en.wikipedia.org/wiki/Softmax_function))\n",
    "\n",
    "$\\sigma(\\mathbf{z})_i = \\frac{e^{z_i}}{\\sum_{j=1}^K e^{z_j}} \\text{ for } i = 1, \\dotsc , K \\text{ and } \\mathbf z=(z_1,\\dotsc,z_K) \\in\\mathbb{R}^K$\n",
    "\n",
    "Both creates an output where the probability of each class sums to 1. Which can be used together with the Categorical Crossentropy ([link](https://ml-cheatsheet.readthedocs.io/en/latest/loss_functions.html)).\n",
    "\n"
   ]
  },
  {
   "cell_type": "code",
   "execution_count": 76,
   "metadata": {},
   "outputs": [
    {
     "name": "stdout",
     "output_type": "stream",
     "text": [
      "(36, 5)\n"
     ]
    },
    {
     "data": {
      "image/png": "[encoded data removed]",
      "text/plain": [
       "<Figure size 432x288 with 1 Axes>"
      ]
     },
     "metadata": {
      "needs_background": "light"
     },
     "output_type": "display_data"
    },
    {
     "name": "stdout",
     "output_type": "stream",
     "text": [
      "[[2.42447366e-02 9.56422295e-01 6.44432273e-03 6.44432273e-03\n",
      "  6.44432273e-03]\n",
      " [2.27792702e-09 9.99999991e-01 2.27792702e-09 2.06115360e-09\n",
      "  2.06115360e-09]\n",
      " [6.44432273e-03 9.56422295e-01 2.42447366e-02 6.44432273e-03\n",
      "  6.44432273e-03]\n",
      " [1.68337098e-02 7.33907802e-01 2.15591068e-01 1.68337098e-02\n",
      "  1.68337098e-02]\n",
      " [1.68039598e-02 2.15210057e-01 7.32610776e-01 1.85712477e-02\n",
      "  1.68039598e-02]\n",
      " [6.33161732e-03 2.38207180e-02 9.39695329e-01 2.38207180e-02\n",
      "  6.33161732e-03]\n",
      " [2.06115355e-09 2.27792697e-09 9.99999967e-01 2.63974075e-08\n",
      "  2.06115355e-09]\n",
      " [5.12792461e-03 5.12792461e-03 7.61051491e-01 2.23564736e-01\n",
      "  5.12792461e-03]\n",
      " [5.12792461e-03 5.12792461e-03 2.23564736e-01 7.61051491e-01\n",
      "  5.12792461e-03]\n",
      " [2.06115356e-09 2.06115356e-09 2.63974075e-08 9.99999967e-01\n",
      "  2.06115356e-09]\n",
      " [6.44432273e-03 6.44432273e-03 2.42447366e-02 9.56422295e-01\n",
      "  6.44432273e-03]\n",
      " [2.09631831e-02 2.09631831e-02 2.31679003e-02 9.13942550e-01\n",
      "  2.09631831e-02]\n",
      " [5.94986509e-02 5.94986509e-02 5.94986509e-02 7.62005397e-01\n",
      "  5.94986509e-02]\n",
      " [1.27107502e-01 1.27107502e-01 1.27107502e-01 4.78201981e-01\n",
      "  1.40475514e-01]\n",
      " [1.27107502e-01 1.27107502e-01 1.27107502e-01 1.40475514e-01\n",
      "  4.78201981e-01]\n",
      " [5.94986509e-02 5.94986509e-02 5.94986509e-02 5.94986509e-02\n",
      "  7.62005397e-01]\n",
      " [2.31679003e-02 2.09631831e-02 2.09631831e-02 2.09631831e-02\n",
      "  9.13942550e-01]\n",
      " [2.42447366e-02 6.44432273e-03 6.44432273e-03 6.44432273e-03\n",
      "  9.56422295e-01]\n",
      " [2.63974075e-08 2.06115356e-09 2.06115356e-09 2.06115356e-09\n",
      "  9.99999967e-01]\n",
      " [2.23564736e-01 5.12792461e-03 5.12792461e-03 5.12792461e-03\n",
      "  7.61051491e-01]\n",
      " [7.61051491e-01 5.12792461e-03 5.12792461e-03 5.12792461e-03\n",
      "  2.23564736e-01]\n",
      " [9.99999967e-01 2.27792697e-09 2.06115355e-09 2.06115355e-09\n",
      "  2.63974075e-08]\n",
      " [9.39695329e-01 2.38207180e-02 6.33161732e-03 6.33161732e-03\n",
      "  2.38207180e-02]\n",
      " [7.32610776e-01 2.15210057e-01 1.68039598e-02 1.68039598e-02\n",
      "  1.85712477e-02]\n",
      " [2.15591068e-01 7.33907802e-01 1.68337098e-02 1.68337098e-02\n",
      "  1.68337098e-02]\n",
      " [2.42447366e-02 9.56422295e-01 6.44432273e-03 6.44432273e-03\n",
      "  6.44432273e-03]\n",
      " [2.27792702e-09 9.99999991e-01 2.27792702e-09 2.06115360e-09\n",
      "  2.06115360e-09]\n",
      " [6.44432273e-03 9.56422295e-01 2.42447366e-02 6.44432273e-03\n",
      "  6.44432273e-03]\n",
      " [1.68337098e-02 7.33907802e-01 2.15591068e-01 1.68337098e-02\n",
      "  1.68337098e-02]\n",
      " [1.68039598e-02 2.15210057e-01 7.32610776e-01 1.85712477e-02\n",
      "  1.68039598e-02]\n",
      " [6.33161732e-03 2.38207180e-02 9.39695329e-01 2.38207180e-02\n",
      "  6.33161732e-03]\n",
      " [2.06115355e-09 2.27792697e-09 9.99999967e-01 2.63974075e-08\n",
      "  2.06115355e-09]\n",
      " [5.12792461e-03 5.12792461e-03 7.61051491e-01 2.23564736e-01\n",
      "  5.12792461e-03]\n",
      " [5.12792461e-03 5.12792461e-03 2.23564736e-01 7.61051491e-01\n",
      "  5.12792461e-03]\n",
      " [2.06115356e-09 2.06115356e-09 2.63974075e-08 9.99999967e-01\n",
      "  2.06115356e-09]\n",
      " [6.44432273e-03 6.44432273e-03 2.42447366e-02 9.56422295e-01\n",
      "  6.44432273e-03]]\n"
     ]
    }
   ],
   "source": [
    "import sys\n",
    "# normalise e^{z_ij}/sum(e^{z_i}) (sum(timestep_i) == 1)\n",
    "for idx in range(onehot.shape[0]):\n",
    "    smoothed = onehot[idx]\n",
    "    smoothed = np.exp(smoothed)/sum(np.exp(smoothed))\n",
    "    onehot[idx] = smoothed\n",
    "    \n",
    "print(onehot.shape)\n",
    "plt.imshow(onehot)\n",
    "plt.show()\n",
    "print(onehot)"
   ]
  },
  {
   "cell_type": "code",
   "execution_count": 15,
   "metadata": {},
   "outputs": [
    {
     "name": "stdout",
     "output_type": "stream",
     "text": [
      "(36, 5)\n"
     ]
    },
    {
     "data": {
      "image/png": "[encoded data removed]",
      "text/plain": [
       "<Figure size 432x288 with 1 Axes>"
      ]
     },
     "metadata": {
      "needs_background": "light"
     },
     "output_type": "display_data"
    },
    {
     "name": "stdout",
     "output_type": "stream",
     "text": [
      "[[0.33333333 0.66666667 0.         0.         0.        ]\n",
      " [0.08333333 0.83333333 0.08333333 0.         0.        ]\n",
      " [0.         0.66666667 0.33333333 0.         0.        ]\n",
      " [0.         0.55555556 0.44444444 0.         0.        ]\n",
      " [0.         0.36363636 0.45454545 0.18181818 0.        ]\n",
      " [0.         0.25       0.5        0.25       0.        ]\n",
      " [0.         0.07692308 0.76923077 0.15384615 0.        ]\n",
      " [0.         0.         0.54545455 0.45454545 0.        ]\n",
      " [0.         0.         0.45454545 0.54545455 0.        ]\n",
      " [0.         0.         0.16666667 0.83333333 0.        ]\n",
      " [0.         0.         0.33333333 0.66666667 0.        ]\n",
      " [0.         0.         0.28571429 0.71428571 0.        ]\n",
      " [0.         0.         0.         1.         0.        ]\n",
      " [0.         0.         0.         0.6        0.4       ]\n",
      " [0.         0.         0.         0.4        0.6       ]\n",
      " [0.         0.         0.         0.         1.        ]\n",
      " [0.28571429 0.         0.         0.         0.71428571]\n",
      " [0.33333333 0.         0.         0.         0.66666667]\n",
      " [0.16666667 0.         0.         0.         0.83333333]\n",
      " [0.45454545 0.         0.         0.         0.54545455]\n",
      " [0.54545455 0.         0.         0.         0.45454545]\n",
      " [0.76923077 0.07692308 0.         0.         0.15384615]\n",
      " [0.5        0.25       0.         0.         0.25      ]\n",
      " [0.45454545 0.36363636 0.         0.         0.18181818]\n",
      " [0.44444444 0.55555556 0.         0.         0.        ]\n",
      " [0.33333333 0.66666667 0.         0.         0.        ]\n",
      " [0.08333333 0.83333333 0.08333333 0.         0.        ]\n",
      " [0.         0.66666667 0.33333333 0.         0.        ]\n",
      " [0.         0.55555556 0.44444444 0.         0.        ]\n",
      " [0.         0.36363636 0.45454545 0.18181818 0.        ]\n",
      " [0.         0.25       0.5        0.25       0.        ]\n",
      " [0.         0.07692308 0.76923077 0.15384615 0.        ]\n",
      " [0.         0.         0.54545455 0.45454545 0.        ]\n",
      " [0.         0.         0.45454545 0.54545455 0.        ]\n",
      " [0.         0.         0.16666667 0.83333333 0.        ]\n",
      " [0.         0.         0.33333333 0.66666667 0.        ]]\n"
     ]
    }
   ],
   "source": [
    "import sys\n",
    "# normalise z_ij/sum(z_i) --> (sum(timestep_i) == 1)\n",
    "for idx in range(onehot.shape[0]):\n",
    "    smoothed = onehot[idx]\n",
    "    smoothed = smoothed / (sum(smoothed) + sys.float_info.epsilon)\n",
    "    onehot[idx] = smoothed\n",
    "    \n",
    "print(onehot.shape)\n",
    "plt.imshow(onehot)\n",
    "plt.show()\n",
    "print(onehot)"
   ]
  },
  {
   "cell_type": "code",
   "execution_count": null,
   "metadata": {},
   "outputs": [],
   "source": []
  },
  {
   "cell_type": "code",
   "execution_count": null,
   "metadata": {},
   "outputs": [],
   "source": []
  },
  {
   "cell_type": "code",
   "execution_count": null,
   "metadata": {},
   "outputs": [],
   "source": []
  },
  {
   "cell_type": "code",
   "execution_count": null,
   "metadata": {},
   "outputs": [],
   "source": []
  },
  {
   "cell_type": "code",
   "execution_count": null,
   "metadata": {},
   "outputs": [],
   "source": []
  }
 ],
 "metadata": {
  "kernelspec": {
   "display_name": "dcmr",
   "language": "python",
   "name": "dcmr"
  },
  "language_info": {
   "codemirror_mode": {
    "name": "ipython",
    "version": 3
   },
   "file_extension": ".py",
   "mimetype": "text/x-python",
   "name": "python",
   "nbconvert_exporter": "python",
   "pygments_lexer": "ipython3",
   "version": "3.8.5"
  },
  "widgets": {
   "application/vnd.jupyter.widget-state+json": {
    "state": {
     "011707f6888a41abbecaf873d0c5e7b6": {
      "model_module": "@jupyter-widgets/controls",
      "model_module_version": "1.5.0",
      "model_name": "TextModel",
      "state": {
       "description": "ouptut_obj_shape",
       "layout": "IPY_MODEL_c0f6f4a945af444faf34e34cfb7e600a",
       "style": "IPY_MODEL_53a48256a83841eaa08974a3675d86d9",
       "value": "(10,10,10)"
      }
     },
     "05ec1dbbac3a4993ac91f872a76b94a0": {
      "model_module": "@jupyter-widgets/base",
      "model_module_version": "1.2.0",
      "model_name": "LayoutModel",
      "state": {}
     },
     "0692d9b57c284b1497178cfb517c4966": {
      "model_module": "@jupyter-widgets/base",
      "model_module_version": "1.2.0",
      "model_name": "LayoutModel",
      "state": {}
     },
     "0a512be2ba3c4769a5edd5f2384625b0": {
      "model_module": "@jupyter-widgets/base",
      "model_module_version": "1.2.0",
      "model_name": "LayoutModel",
      "state": {}
     },
     "0ecf35fb1766485ca7e4bb4eff4bde51": {
      "model_module": "@jupyter-widgets/controls",
      "model_module_version": "1.5.0",
      "model_name": "TextModel",
      "state": {
       "description": "ouptut_obj_shape",
       "layout": "IPY_MODEL_d29552bee34b4ea0a08024e4da26b3ea",
       "style": "IPY_MODEL_7a6c0e3c3de9479ab673856c0ec4a324",
       "value": "(10,10,10)"
      }
     },
     "13011b7fb0ee443698e220781d032799": {
      "model_module": "@jupyter-widgets/base",
      "model_module_version": "1.2.0",
      "model_name": "LayoutModel",
      "state": {}
     },
     "14ddd30a35ea4d06ab890cb7c19d224b": {
      "model_module": "@jupyter-widgets/base",
      "model_module_version": "1.2.0",
      "model_name": "LayoutModel",
      "state": {}
     },
     "158c09e28f784770b52b0781f964c703": {
      "model_module": "@jupyter-widgets/controls",
      "model_module_version": "1.5.0",
      "model_name": "DescriptionStyleModel",
      "state": {
       "description_width": ""
      }
     },
     "18113fa0b7ce423bba63193f19c2e2b6": {
      "model_module": "@jupyter-widgets/controls",
      "model_module_version": "1.5.0",
      "model_name": "SliderStyleModel",
      "state": {
       "description_width": ""
      }
     },
     "185fc8730c6243beb09e98eff6fbf899": {
      "model_module": "@jupyter-widgets/controls",
      "model_module_version": "1.5.0",
      "model_name": "IntSliderModel",
      "state": {
       "description": "input_objects_",
       "layout": "IPY_MODEL_dca15d0fd39d45dc9946bf88969d44c3",
       "max": 8,
       "min": 1,
       "style": "IPY_MODEL_da5a409bc04040eabec847de166693d0",
       "value": 1
      }
     },
     "1a16003230e14967bb92278fe2427b4c": {
      "model_module": "@jupyter-widgets/base",
      "model_module_version": "1.2.0",
      "model_name": "LayoutModel",
      "state": {}
     },
     "20c842ab4bf74208a84ee1929a1c1943": {
      "model_module": "@jupyter-widgets/controls",
      "model_module_version": "1.5.0",
      "model_name": "VBoxModel",
      "state": {
       "_dom_classes": [
        "widget-interact"
       ],
       "children": [
        "IPY_MODEL_34558f9bd80e42afb3aea19bd6b29a8e",
        "IPY_MODEL_26323061f7644d4a8804fa103774f953",
        "IPY_MODEL_77e5b3961cfe4934957806c133dcff39",
        "IPY_MODEL_f9914be07e38419a83fc971999e1fee6",
        "IPY_MODEL_cca34b66561a4e7e97b7f2d27a1f8171",
        "IPY_MODEL_57ae5cd36a0b4b4787a2218c50829a77",
        "IPY_MODEL_34d569f0d9844fecb0a93a82eb426420",
        "IPY_MODEL_e8d9e57e7c324dc2bf9355f8a2b0d28f"
       ],
       "layout": "IPY_MODEL_14ddd30a35ea4d06ab890cb7c19d224b"
      }
     },
     "26323061f7644d4a8804fa103774f953": {
      "model_module": "@jupyter-widgets/controls",
      "model_module_version": "1.5.0",
      "model_name": "IntSliderModel",
      "state": {
       "description": "input_objects_",
       "layout": "IPY_MODEL_1a16003230e14967bb92278fe2427b4c",
       "max": 8,
       "min": 1,
       "style": "IPY_MODEL_5453ab80992d43a78cf0b21041112839",
       "value": 4
      }
     },
     "2752754890b74371bc3d6b39142b114b": {
      "model_module": "@jupyter-widgets/controls",
      "model_module_version": "1.5.0",
      "model_name": "IntSliderModel",
      "state": {
       "description": "inputObjects",
       "layout": "IPY_MODEL_d66fbfc152ef46129761a95d716fa825",
       "max": 8,
       "min": 1,
       "style": "IPY_MODEL_bc76bb9cbd1a4572b422b5871f1b2ad7",
       "value": 4
      }
     },
     "2ea17a593f154e5caf0b86d5ecc6778e": {
      "model_module": "@jupyter-widgets/base",
      "model_module_version": "1.2.0",
      "model_name": "LayoutModel",
      "state": {}
     },
     "3213ce3540d94b0f9d2f6fcc13065957": {
      "model_module": "@jupyter-widgets/controls",
      "model_module_version": "1.5.0",
      "model_name": "CheckboxModel",
      "state": {
       "description": "debug",
       "disabled": false,
       "layout": "IPY_MODEL_647a862942514d12800a4e98c1ad9b70",
       "style": "IPY_MODEL_8ff6eebf3d0a425da66f3cac8e08230f",
       "value": false
      }
     },
     "34558f9bd80e42afb3aea19bd6b29a8e": {
      "model_module": "@jupyter-widgets/controls",
      "model_module_version": "1.5.0",
      "model_name": "IntSliderModel",
      "state": {
       "description": "examples_",
       "layout": "IPY_MODEL_b1fd8acacce94615825a66c6fefff416",
       "max": 1000,
       "min": 1,
       "style": "IPY_MODEL_94e2a186f6474f6d9058b1268a8a5f67",
       "value": 500
      }
     },
     "34d569f0d9844fecb0a93a82eb426420": {
      "model_module": "@jupyter-widgets/controls",
      "model_module_version": "1.5.0",
      "model_name": "ButtonModel",
      "state": {
       "description": "Run Interact",
       "layout": "IPY_MODEL_6bc9559a28c64976b1e650d9595e28be",
       "style": "IPY_MODEL_b2dee9d105e444d9b9c662ec67e27eb0"
      }
     },
     "38d72081ba294c04a9dfbc1a1d8731ae": {
      "model_module": "@jupyter-widgets/base",
      "model_module_version": "1.2.0",
      "model_name": "LayoutModel",
      "state": {}
     },
     "3987fe65adcc40e7b48a34d862887631": {
      "model_module": "@jupyter-widgets/controls",
      "model_module_version": "1.5.0",
      "model_name": "ButtonStyleModel",
      "state": {}
     },
     "3c00d7d106a445eabae54fb078bf8e72": {
      "model_module": "@jupyter-widgets/controls",
      "model_module_version": "1.5.0",
      "model_name": "DescriptionStyleModel",
      "state": {
       "description_width": ""
      }
     },
     "3da14ac8d66a44afa0dac2bba4f0c10e": {
      "model_module": "@jupyter-widgets/controls",
      "model_module_version": "1.5.0",
      "model_name": "TextModel",
      "state": {
       "description": "input_obj_shape",
       "layout": "IPY_MODEL_98d43eca67bb433db0feeeed12903929",
       "style": "IPY_MODEL_d4c5303b51b84951be445174af9cde8a",
       "value": "(10,10,10)"
      }
     },
     "41eb7323b835479f99a67fe679277330": {
      "model_module": "@jupyter-widgets/controls",
      "model_module_version": "1.5.0",
      "model_name": "ButtonModel",
      "state": {
       "description": "Run Interact",
       "layout": "IPY_MODEL_721727370c2a4a788753c875236105f6",
       "style": "IPY_MODEL_c5feec073cce489c99bba0d21447b51e"
      }
     },
     "449c668119f24b20b20b5cf45cb99473": {
      "model_module": "@jupyter-widgets/controls",
      "model_module_version": "1.5.0",
      "model_name": "IntSliderModel",
      "state": {
       "description": "selected_batch",
       "layout": "IPY_MODEL_38d72081ba294c04a9dfbc1a1d8731ae",
       "max": 29,
       "style": "IPY_MODEL_18113fa0b7ce423bba63193f19c2e2b6"
      }
     },
     "46c8ea68f4ad46809c8c82416c10071c": {
      "model_module": "@jupyter-widgets/controls",
      "model_module_version": "1.5.0",
      "model_name": "ButtonModel",
      "state": {
       "description": "Run Interact",
       "layout": "IPY_MODEL_7f9a689f668f4ca1a157d78e456e40a9",
       "style": "IPY_MODEL_6681ae094d49494c81ad91922688a048"
      }
     },
     "47755a70fd804310a60754ad05473fad": {
      "model_module": "@jupyter-widgets/base",
      "model_module_version": "1.2.0",
      "model_name": "LayoutModel",
      "state": {}
     },
     "48e090861aa345f785d7c14f78bb987b": {
      "model_module": "@jupyter-widgets/output",
      "model_module_version": "1.0.0",
      "model_name": "OutputModel",
      "state": {
       "layout": "IPY_MODEL_5dda2c47f8094f67a1f5c944b8b588ed",
       "outputs": [
        {
         "name": "stdout",
         "output_type": "stream",
         "text": "selected batch: 0 of 29 with a batchsize of 10 and total 307 examples\nstart idx: 0, end idx: 10\nIndexes of the currrent batch: [100, 306, 217, 86, 74, 65, 44, 233, 169, 209]\n----------------------------------------\n"
        },
        {
         "data": {
          "text/plain": "[(10, 10, 10, 10), (10, 10, 10, 10)]"
         },
         "metadata": {},
         "output_type": "display_data"
        }
       ]
      }
     },
     "4dd3ac1b884448b5a7f4dddab2835f4f": {
      "model_module": "@jupyter-widgets/base",
      "model_module_version": "1.2.0",
      "model_name": "LayoutModel",
      "state": {}
     },
     "4edaf7fdf08045d89a0ad87882cca116": {
      "model_module": "@jupyter-widgets/controls",
      "model_module_version": "1.5.0",
      "model_name": "VBoxModel",
      "state": {
       "_dom_classes": [
        "widget-interact"
       ],
       "children": [
        "IPY_MODEL_4edff8627c1944d68a1a00b9508a774c",
        "IPY_MODEL_2752754890b74371bc3d6b39142b114b",
        "IPY_MODEL_a311aad3fe4f4467acb9ce11d4495665",
        "IPY_MODEL_b023e28859e44dd2bd95e762d7a406b2",
        "IPY_MODEL_95a31aba10b243249d3ed21ee4f5663a",
        "IPY_MODEL_0ecf35fb1766485ca7e4bb4eff4bde51",
        "IPY_MODEL_41eb7323b835479f99a67fe679277330",
        "IPY_MODEL_ada8f70e62904ab4b7a4924250ecc06a"
       ],
       "layout": "IPY_MODEL_c30c68890ac14f3fa0b233fb32bf9a4f"
      }
     },
     "4edf4aa3e964474a983748a67f632b0f": {
      "model_module": "@jupyter-widgets/controls",
      "model_module_version": "1.5.0",
      "model_name": "VBoxModel",
      "state": {
       "_dom_classes": [
        "widget-interact"
       ],
       "children": [
        "IPY_MODEL_4fec8e3dfe1e4c5096a882e8305445ae",
        "IPY_MODEL_185fc8730c6243beb09e98eff6fbf899",
        "IPY_MODEL_cabef274ddc44aadb007aebf025cbee5",
        "IPY_MODEL_ee48fdd835134479a700eb81ecd84c05",
        "IPY_MODEL_9deeb274d9a247c09a5f4dc87894d36b",
        "IPY_MODEL_011707f6888a41abbecaf873d0c5e7b6",
        "IPY_MODEL_c29736630c864d7fa674ec4284d390cf",
        "IPY_MODEL_a7d1ddf52a66437fa2664c1c8b857c70"
       ],
       "layout": "IPY_MODEL_76cc6940e0cf47358ec8defd2557b24b"
      }
     },
     "4edff8627c1944d68a1a00b9508a774c": {
      "model_module": "@jupyter-widgets/controls",
      "model_module_version": "1.5.0",
      "model_name": "IntSliderModel",
      "state": {
       "description": "examples_",
       "layout": "IPY_MODEL_8bcb951d5af744aa91251f4f6e945505",
       "max": 1000,
       "min": 1,
       "style": "IPY_MODEL_6d3c20c5f9504fe48489f80be032c156",
       "value": 500
      }
     },
     "4fcf7302876d4424a605d6f12a331581": {
      "model_module": "@jupyter-widgets/controls",
      "model_module_version": "1.5.0",
      "model_name": "SliderStyleModel",
      "state": {
       "description_width": ""
      }
     },
     "4fec8e3dfe1e4c5096a882e8305445ae": {
      "model_module": "@jupyter-widgets/controls",
      "model_module_version": "1.5.0",
      "model_name": "IntSliderModel",
      "state": {
       "description": "examples_",
       "layout": "IPY_MODEL_05ec1dbbac3a4993ac91f872a76b94a0",
       "max": 1000,
       "min": 1,
       "style": "IPY_MODEL_4fcf7302876d4424a605d6f12a331581",
       "value": 307
      }
     },
     "53a48256a83841eaa08974a3675d86d9": {
      "model_module": "@jupyter-widgets/controls",
      "model_module_version": "1.5.0",
      "model_name": "DescriptionStyleModel",
      "state": {
       "description_width": ""
      }
     },
     "5453ab80992d43a78cf0b21041112839": {
      "model_module": "@jupyter-widgets/controls",
      "model_module_version": "1.5.0",
      "model_name": "SliderStyleModel",
      "state": {
       "description_width": ""
      }
     },
     "57ae5cd36a0b4b4787a2218c50829a77": {
      "model_module": "@jupyter-widgets/controls",
      "model_module_version": "1.5.0",
      "model_name": "TextModel",
      "state": {
       "description": "ouptut_obj_shape",
       "layout": "IPY_MODEL_ba0bc69d10624bf2b4fd83721bfd7f28",
       "style": "IPY_MODEL_785ea00609e149e781229a5c2bec4583",
       "value": "(10,10,10)"
      }
     },
     "5b1966fdca8e4d88bcf61517f9aae6df": {
      "model_module": "@jupyter-widgets/base",
      "model_module_version": "1.2.0",
      "model_name": "LayoutModel",
      "state": {}
     },
     "5c344e5563e64d03a4b39ab5ddbc8789": {
      "model_module": "@jupyter-widgets/base",
      "model_module_version": "1.2.0",
      "model_name": "LayoutModel",
      "state": {}
     },
     "5dda2c47f8094f67a1f5c944b8b588ed": {
      "model_module": "@jupyter-widgets/base",
      "model_module_version": "1.2.0",
      "model_name": "LayoutModel",
      "state": {}
     },
     "63f9842ca0614ad59a1464defd900d05": {
      "model_module": "@jupyter-widgets/controls",
      "model_module_version": "1.5.0",
      "model_name": "DescriptionStyleModel",
      "state": {
       "description_width": ""
      }
     },
     "647a862942514d12800a4e98c1ad9b70": {
      "model_module": "@jupyter-widgets/base",
      "model_module_version": "1.2.0",
      "model_name": "LayoutModel",
      "state": {}
     },
     "6681ae094d49494c81ad91922688a048": {
      "model_module": "@jupyter-widgets/controls",
      "model_module_version": "1.5.0",
      "model_name": "ButtonStyleModel",
      "state": {}
     },
     "6bc9559a28c64976b1e650d9595e28be": {
      "model_module": "@jupyter-widgets/base",
      "model_module_version": "1.2.0",
      "model_name": "LayoutModel",
      "state": {}
     },
     "6d3c20c5f9504fe48489f80be032c156": {
      "model_module": "@jupyter-widgets/controls",
      "model_module_version": "1.5.0",
      "model_name": "SliderStyleModel",
      "state": {
       "description_width": ""
      }
     },
     "71c7ad14ae21447c8f3e13611d1fb29f": {
      "model_module": "@jupyter-widgets/controls",
      "model_module_version": "1.5.0",
      "model_name": "SliderStyleModel",
      "state": {
       "description_width": ""
      }
     },
     "721727370c2a4a788753c875236105f6": {
      "model_module": "@jupyter-widgets/base",
      "model_module_version": "1.2.0",
      "model_name": "LayoutModel",
      "state": {}
     },
     "72424112010c4630a68948ca762ddb2b": {
      "model_module": "@jupyter-widgets/controls",
      "model_module_version": "1.5.0",
      "model_name": "SliderStyleModel",
      "state": {
       "description_width": ""
      }
     },
     "7243f88f8d2c43518e2b1531432615ed": {
      "model_module": "@jupyter-widgets/base",
      "model_module_version": "1.2.0",
      "model_name": "LayoutModel",
      "state": {}
     },
     "7364db23be574d63acb21893a7eee389": {
      "model_module": "@jupyter-widgets/base",
      "model_module_version": "1.2.0",
      "model_name": "LayoutModel",
      "state": {}
     },
     "76cc6940e0cf47358ec8defd2557b24b": {
      "model_module": "@jupyter-widgets/base",
      "model_module_version": "1.2.0",
      "model_name": "LayoutModel",
      "state": {}
     },
     "76f04744020c4988afb40881c29ede14": {
      "model_module": "@jupyter-widgets/base",
      "model_module_version": "1.2.0",
      "model_name": "LayoutModel",
      "state": {}
     },
     "7766b68ffb83464c962b346236ec5638": {
      "model_module": "@jupyter-widgets/controls",
      "model_module_version": "1.5.0",
      "model_name": "SliderStyleModel",
      "state": {
       "description_width": ""
      }
     },
     "77e5b3961cfe4934957806c133dcff39": {
      "model_module": "@jupyter-widgets/controls",
      "model_module_version": "1.5.0",
      "model_name": "IntSliderModel",
      "state": {
       "description": "output_objects_",
       "layout": "IPY_MODEL_b9129852aba94375bdaf02c856bacee3",
       "max": 8,
       "min": 1,
       "style": "IPY_MODEL_d8111f03f3e64f4aa678486bca3bc7f7",
       "value": 4
      }
     },
     "785ea00609e149e781229a5c2bec4583": {
      "model_module": "@jupyter-widgets/controls",
      "model_module_version": "1.5.0",
      "model_name": "DescriptionStyleModel",
      "state": {
       "description_width": ""
      }
     },
     "7a6c0e3c3de9479ab673856c0ec4a324": {
      "model_module": "@jupyter-widgets/controls",
      "model_module_version": "1.5.0",
      "model_name": "DescriptionStyleModel",
      "state": {
       "description_width": ""
      }
     },
     "7d0111ea9a9c4f2696ee5ef5f11788a1": {
      "model_module": "@jupyter-widgets/base",
      "model_module_version": "1.2.0",
      "model_name": "LayoutModel",
      "state": {}
     },
     "7e5c4c5071384df4b0ca0d85f7bcb2ac": {
      "model_module": "@jupyter-widgets/output",
      "model_module_version": "1.0.0",
      "model_name": "OutputModel",
      "state": {
       "layout": "IPY_MODEL_f8516d7545f4427cbaf1d4b0cbaad6a6"
      }
     },
     "7f9a689f668f4ca1a157d78e456e40a9": {
      "model_module": "@jupyter-widgets/base",
      "model_module_version": "1.2.0",
      "model_name": "LayoutModel",
      "state": {}
     },
     "82fbb3ea74bc468c840baca104af87e8": {
      "model_module": "@jupyter-widgets/controls",
      "model_module_version": "1.5.0",
      "model_name": "VBoxModel",
      "state": {
       "_dom_classes": [
        "widget-interact"
       ],
       "children": [
        "IPY_MODEL_449c668119f24b20b20b5cf45cb99473",
        "IPY_MODEL_e825b4c0bbee439d8b1e435e0ad39a67",
        "IPY_MODEL_b0e0234ffbbb414b95d0bcda60fa82d8",
        "IPY_MODEL_48e090861aa345f785d7c14f78bb987b"
       ],
       "layout": "IPY_MODEL_5b1966fdca8e4d88bcf61517f9aae6df"
      }
     },
     "835542dcf7dd4a3da1a7ebd31765fb1c": {
      "model_module": "@jupyter-widgets/controls",
      "model_module_version": "1.5.0",
      "model_name": "IntSliderModel",
      "state": {
       "description": "output_objects_",
       "layout": "IPY_MODEL_cdbd90711e3f4795a573ce1e465858e8",
       "max": 8,
       "min": 1,
       "style": "IPY_MODEL_72424112010c4630a68948ca762ddb2b",
       "value": 4
      }
     },
     "84003d111e5441ada8969359442e3e6c": {
      "model_module": "@jupyter-widgets/base",
      "model_module_version": "1.2.0",
      "model_name": "LayoutModel",
      "state": {}
     },
     "8568f0d6db2e4506867988b6328f3679": {
      "model_module": "@jupyter-widgets/controls",
      "model_module_version": "1.5.0",
      "model_name": "IntSliderModel",
      "state": {
       "description": "batchsize_",
       "layout": "IPY_MODEL_76f04744020c4988afb40881c29ede14",
       "max": 20,
       "min": 1,
       "style": "IPY_MODEL_e7c641138ff34422ad6bfb9c31e9c0a3",
       "value": 10
      }
     },
     "870ff79e39e544e6aeabc7cddf8b09fe": {
      "model_module": "@jupyter-widgets/base",
      "model_module_version": "1.2.0",
      "model_name": "LayoutModel",
      "state": {}
     },
     "8bcb951d5af744aa91251f4f6e945505": {
      "model_module": "@jupyter-widgets/base",
      "model_module_version": "1.2.0",
      "model_name": "LayoutModel",
      "state": {}
     },
     "8d2b89d6af2f449ca936ab6219d478b1": {
      "model_module": "@jupyter-widgets/output",
      "model_module_version": "1.0.0",
      "model_name": "OutputModel",
      "state": {
       "layout": "IPY_MODEL_b993c7d64077435db9e16e18325d4815",
       "outputs": [
        {
         "name": "stdout",
         "output_type": "stream",
         "text": "selected batch: 14 of 29 with a batchsize of 10 and total 307 examples\nstart idx: 140, end idx: 150\nIndexes of the currrent batch: [303, 230, 115, 42, 70, 214, 232, 257, 120, 187]\n----------------------------------------\n"
        },
        {
         "data": {
          "text/plain": "[(10, 10, 10, 10), (10, 10, 10, 10)]"
         },
         "metadata": {},
         "output_type": "display_data"
        }
       ]
      }
     },
     "8f84cb69c70e4350a5eeee550a852b15": {
      "model_module": "@jupyter-widgets/controls",
      "model_module_version": "1.5.0",
      "model_name": "IntSliderModel",
      "state": {
       "description": "selected_batch",
       "layout": "IPY_MODEL_9f028a1e758c45fb9df37cc8bc79a348",
       "max": 29,
       "style": "IPY_MODEL_cd654044ed3f434a91709f630f36879f",
       "value": 14
      }
     },
     "8ff6eebf3d0a425da66f3cac8e08230f": {
      "model_module": "@jupyter-widgets/controls",
      "model_module_version": "1.5.0",
      "model_name": "DescriptionStyleModel",
      "state": {
       "description_width": ""
      }
     },
     "94e2a186f6474f6d9058b1268a8a5f67": {
      "model_module": "@jupyter-widgets/controls",
      "model_module_version": "1.5.0",
      "model_name": "SliderStyleModel",
      "state": {
       "description_width": ""
      }
     },
     "95a31aba10b243249d3ed21ee4f5663a": {
      "model_module": "@jupyter-widgets/controls",
      "model_module_version": "1.5.0",
      "model_name": "TextModel",
      "state": {
       "description": "input_obj_shape",
       "layout": "IPY_MODEL_cd58b3a90d1647738f52fff7832fc213",
       "style": "IPY_MODEL_fb8c12e1001848bb8397426bd4ff20af",
       "value": "(10,10,10)"
      }
     },
     "98d43eca67bb433db0feeeed12903929": {
      "model_module": "@jupyter-widgets/base",
      "model_module_version": "1.2.0",
      "model_name": "LayoutModel",
      "state": {}
     },
     "9a37ae520acf4db7bbe13bee6518178c": {
      "model_module": "@jupyter-widgets/controls",
      "model_module_version": "1.5.0",
      "model_name": "SliderStyleModel",
      "state": {
       "description_width": ""
      }
     },
     "9deeb274d9a247c09a5f4dc87894d36b": {
      "model_module": "@jupyter-widgets/controls",
      "model_module_version": "1.5.0",
      "model_name": "TextModel",
      "state": {
       "description": "input_obj_shape",
       "layout": "IPY_MODEL_d686ca00f8a9426382f27715c5f8d3ce",
       "style": "IPY_MODEL_158c09e28f784770b52b0781f964c703",
       "value": "(10,10,10)"
      }
     },
     "9f028a1e758c45fb9df37cc8bc79a348": {
      "model_module": "@jupyter-widgets/base",
      "model_module_version": "1.2.0",
      "model_name": "LayoutModel",
      "state": {}
     },
     "a311aad3fe4f4467acb9ce11d4495665": {
      "model_module": "@jupyter-widgets/controls",
      "model_module_version": "1.5.0",
      "model_name": "IntSliderModel",
      "state": {
       "description": "outputObjects",
       "layout": "IPY_MODEL_5c344e5563e64d03a4b39ab5ddbc8789",
       "max": 8,
       "min": 1,
       "style": "IPY_MODEL_d305213bbd7148f7b0dbb9c61988f3a4",
       "value": 4
      }
     },
     "a4ae612dce884de7ab1965ef2bffe7f5": {
      "model_module": "@jupyter-widgets/base",
      "model_module_version": "1.2.0",
      "model_name": "LayoutModel",
      "state": {}
     },
     "a7d1ddf52a66437fa2664c1c8b857c70": {
      "model_module": "@jupyter-widgets/output",
      "model_module_version": "1.0.0",
      "model_name": "OutputModel",
      "state": {
       "layout": "IPY_MODEL_a4ae612dce884de7ab1965ef2bffe7f5",
       "outputs": [
        {
         "name": "stdout",
         "output_type": "stream",
         "text": "Shape of one patient X: (10, 10, 10), Y: (10, 10, 10)\n"
        }
       ]
      }
     },
     "a97ed50c344a46eebb9050c6b8a9f047": {
      "model_module": "@jupyter-widgets/controls",
      "model_module_version": "1.5.0",
      "model_name": "DescriptionStyleModel",
      "state": {
       "description_width": ""
      }
     },
     "ada8f70e62904ab4b7a4924250ecc06a": {
      "model_module": "@jupyter-widgets/output",
      "model_module_version": "1.0.0",
      "model_name": "OutputModel",
      "state": {
       "layout": "IPY_MODEL_7364db23be574d63acb21893a7eee389"
      }
     },
     "b023e28859e44dd2bd95e762d7a406b2": {
      "model_module": "@jupyter-widgets/controls",
      "model_module_version": "1.5.0",
      "model_name": "IntSliderModel",
      "state": {
       "description": "batchsize_",
       "layout": "IPY_MODEL_0a512be2ba3c4769a5edd5f2384625b0",
       "max": 20,
       "min": 1,
       "style": "IPY_MODEL_e0e8e4ccb0e149b68495ed4e369d4d5d",
       "value": 10
      }
     },
     "b0e0234ffbbb414b95d0bcda60fa82d8": {
      "model_module": "@jupyter-widgets/controls",
      "model_module_version": "1.5.0",
      "model_name": "CheckboxModel",
      "state": {
       "description": "debug",
       "disabled": false,
       "layout": "IPY_MODEL_2ea17a593f154e5caf0b86d5ecc6778e",
       "style": "IPY_MODEL_b5dcba2b4217430886de3afa3d4a5404",
       "value": false
      }
     },
     "b1b59c53547747eb948d534341a135bd": {
      "model_module": "@jupyter-widgets/base",
      "model_module_version": "1.2.0",
      "model_name": "LayoutModel",
      "state": {}
     },
     "b1fd8acacce94615825a66c6fefff416": {
      "model_module": "@jupyter-widgets/base",
      "model_module_version": "1.2.0",
      "model_name": "LayoutModel",
      "state": {}
     },
     "b2bffe420ef441bbab210eb1a6eba671": {
      "model_module": "@jupyter-widgets/controls",
      "model_module_version": "1.5.0",
      "model_name": "TextModel",
      "state": {
       "description": "ouptut_obj_shape",
       "layout": "IPY_MODEL_7243f88f8d2c43518e2b1531432615ed",
       "style": "IPY_MODEL_3c00d7d106a445eabae54fb078bf8e72",
       "value": "(10,10,10)"
      }
     },
     "b2dee9d105e444d9b9c662ec67e27eb0": {
      "model_module": "@jupyter-widgets/controls",
      "model_module_version": "1.5.0",
      "model_name": "ButtonStyleModel",
      "state": {}
     },
     "b40b0327873a4470a1bed7355dc540d8": {
      "model_module": "@jupyter-widgets/controls",
      "model_module_version": "1.5.0",
      "model_name": "CheckboxModel",
      "state": {
       "description": "shuffle_indexes",
       "disabled": false,
       "layout": "IPY_MODEL_e24b2bf009aa45778faa893d3e106d83",
       "style": "IPY_MODEL_a97ed50c344a46eebb9050c6b8a9f047",
       "value": false
      }
     },
     "b5dcba2b4217430886de3afa3d4a5404": {
      "model_module": "@jupyter-widgets/controls",
      "model_module_version": "1.5.0",
      "model_name": "DescriptionStyleModel",
      "state": {
       "description_width": ""
      }
     },
     "b9129852aba94375bdaf02c856bacee3": {
      "model_module": "@jupyter-widgets/base",
      "model_module_version": "1.2.0",
      "model_name": "LayoutModel",
      "state": {}
     },
     "b993c7d64077435db9e16e18325d4815": {
      "model_module": "@jupyter-widgets/base",
      "model_module_version": "1.2.0",
      "model_name": "LayoutModel",
      "state": {}
     },
     "ba0bc69d10624bf2b4fd83721bfd7f28": {
      "model_module": "@jupyter-widgets/base",
      "model_module_version": "1.2.0",
      "model_name": "LayoutModel",
      "state": {}
     },
     "bc76bb9cbd1a4572b422b5871f1b2ad7": {
      "model_module": "@jupyter-widgets/controls",
      "model_module_version": "1.5.0",
      "model_name": "SliderStyleModel",
      "state": {
       "description_width": ""
      }
     },
     "bd9184be74c549af84f6030f66f3b2b9": {
      "model_module": "@jupyter-widgets/controls",
      "model_module_version": "1.5.0",
      "model_name": "IntSliderModel",
      "state": {
       "description": "examples_",
       "layout": "IPY_MODEL_f737fb220f1842368fc24b25fc6829ab",
       "max": 1000,
       "min": 1,
       "style": "IPY_MODEL_71c7ad14ae21447c8f3e13611d1fb29f",
       "value": 500
      }
     },
     "c0cac88c2f274e65ab925705f8695a34": {
      "model_module": "@jupyter-widgets/controls",
      "model_module_version": "1.5.0",
      "model_name": "VBoxModel",
      "state": {
       "_dom_classes": [
        "widget-interact"
       ],
       "children": [
        "IPY_MODEL_bd9184be74c549af84f6030f66f3b2b9",
        "IPY_MODEL_c1eda855842c4a838d00627ac1c19c24",
        "IPY_MODEL_835542dcf7dd4a3da1a7ebd31765fb1c",
        "IPY_MODEL_8568f0d6db2e4506867988b6328f3679",
        "IPY_MODEL_3da14ac8d66a44afa0dac2bba4f0c10e",
        "IPY_MODEL_b2bffe420ef441bbab210eb1a6eba671",
        "IPY_MODEL_46c8ea68f4ad46809c8c82416c10071c",
        "IPY_MODEL_7e5c4c5071384df4b0ca0d85f7bcb2ac"
       ],
       "layout": "IPY_MODEL_870ff79e39e544e6aeabc7cddf8b09fe"
      }
     },
     "c0f6f4a945af444faf34e34cfb7e600a": {
      "model_module": "@jupyter-widgets/base",
      "model_module_version": "1.2.0",
      "model_name": "LayoutModel",
      "state": {}
     },
     "c1eda855842c4a838d00627ac1c19c24": {
      "model_module": "@jupyter-widgets/controls",
      "model_module_version": "1.5.0",
      "model_name": "IntSliderModel",
      "state": {
       "description": "input_objects_",
       "layout": "IPY_MODEL_47755a70fd804310a60754ad05473fad",
       "max": 8,
       "min": 1,
       "style": "IPY_MODEL_7766b68ffb83464c962b346236ec5638",
       "value": 4
      }
     },
     "c29736630c864d7fa674ec4284d390cf": {
      "model_module": "@jupyter-widgets/controls",
      "model_module_version": "1.5.0",
      "model_name": "ButtonModel",
      "state": {
       "description": "Run Interact",
       "layout": "IPY_MODEL_7d0111ea9a9c4f2696ee5ef5f11788a1",
       "style": "IPY_MODEL_3987fe65adcc40e7b48a34d862887631"
      }
     },
     "c30c68890ac14f3fa0b233fb32bf9a4f": {
      "model_module": "@jupyter-widgets/base",
      "model_module_version": "1.2.0",
      "model_name": "LayoutModel",
      "state": {}
     },
     "c5d402bccaff43e09c60be9ba10730fc": {
      "model_module": "@jupyter-widgets/base",
      "model_module_version": "1.2.0",
      "model_name": "LayoutModel",
      "state": {}
     },
     "c5feec073cce489c99bba0d21447b51e": {
      "model_module": "@jupyter-widgets/controls",
      "model_module_version": "1.5.0",
      "model_name": "ButtonStyleModel",
      "state": {}
     },
     "c60d4b868a7a43b481e998f84bab1bd4": {
      "model_module": "@jupyter-widgets/controls",
      "model_module_version": "1.5.0",
      "model_name": "VBoxModel",
      "state": {
       "_dom_classes": [
        "widget-interact"
       ],
       "children": [
        "IPY_MODEL_8f84cb69c70e4350a5eeee550a852b15",
        "IPY_MODEL_b40b0327873a4470a1bed7355dc540d8",
        "IPY_MODEL_3213ce3540d94b0f9d2f6fcc13065957",
        "IPY_MODEL_8d2b89d6af2f449ca936ab6219d478b1"
       ],
       "layout": "IPY_MODEL_84003d111e5441ada8969359442e3e6c"
      }
     },
     "c7583f63a8f54bceb6e09d54b0a78a09": {
      "model_module": "@jupyter-widgets/controls",
      "model_module_version": "1.5.0",
      "model_name": "SliderStyleModel",
      "state": {
       "description_width": ""
      }
     },
     "cabef274ddc44aadb007aebf025cbee5": {
      "model_module": "@jupyter-widgets/controls",
      "model_module_version": "1.5.0",
      "model_name": "IntSliderModel",
      "state": {
       "description": "output_objects_",
       "layout": "IPY_MODEL_c5d402bccaff43e09c60be9ba10730fc",
       "max": 8,
       "min": 1,
       "style": "IPY_MODEL_ebb97604e76e4b2ea66e9f16054053ab",
       "value": 1
      }
     },
     "cca34b66561a4e7e97b7f2d27a1f8171": {
      "model_module": "@jupyter-widgets/controls",
      "model_module_version": "1.5.0",
      "model_name": "TextModel",
      "state": {
       "description": "input_obj_shape",
       "layout": "IPY_MODEL_b1b59c53547747eb948d534341a135bd",
       "style": "IPY_MODEL_ea196d638c5d4b6f974f0cc4a10b7178",
       "value": "(10,10,10)"
      }
     },
     "cd58b3a90d1647738f52fff7832fc213": {
      "model_module": "@jupyter-widgets/base",
      "model_module_version": "1.2.0",
      "model_name": "LayoutModel",
      "state": {}
     },
     "cd654044ed3f434a91709f630f36879f": {
      "model_module": "@jupyter-widgets/controls",
      "model_module_version": "1.5.0",
      "model_name": "SliderStyleModel",
      "state": {
       "description_width": ""
      }
     },
     "cdbd90711e3f4795a573ce1e465858e8": {
      "model_module": "@jupyter-widgets/base",
      "model_module_version": "1.2.0",
      "model_name": "LayoutModel",
      "state": {}
     },
     "d29552bee34b4ea0a08024e4da26b3ea": {
      "model_module": "@jupyter-widgets/base",
      "model_module_version": "1.2.0",
      "model_name": "LayoutModel",
      "state": {}
     },
     "d305213bbd7148f7b0dbb9c61988f3a4": {
      "model_module": "@jupyter-widgets/controls",
      "model_module_version": "1.5.0",
      "model_name": "SliderStyleModel",
      "state": {
       "description_width": ""
      }
     },
     "d4c5303b51b84951be445174af9cde8a": {
      "model_module": "@jupyter-widgets/controls",
      "model_module_version": "1.5.0",
      "model_name": "DescriptionStyleModel",
      "state": {
       "description_width": ""
      }
     },
     "d66fbfc152ef46129761a95d716fa825": {
      "model_module": "@jupyter-widgets/base",
      "model_module_version": "1.2.0",
      "model_name": "LayoutModel",
      "state": {}
     },
     "d686ca00f8a9426382f27715c5f8d3ce": {
      "model_module": "@jupyter-widgets/base",
      "model_module_version": "1.2.0",
      "model_name": "LayoutModel",
      "state": {}
     },
     "d8111f03f3e64f4aa678486bca3bc7f7": {
      "model_module": "@jupyter-widgets/controls",
      "model_module_version": "1.5.0",
      "model_name": "SliderStyleModel",
      "state": {
       "description_width": ""
      }
     },
     "da5a409bc04040eabec847de166693d0": {
      "model_module": "@jupyter-widgets/controls",
      "model_module_version": "1.5.0",
      "model_name": "SliderStyleModel",
      "state": {
       "description_width": ""
      }
     },
     "dca15d0fd39d45dc9946bf88969d44c3": {
      "model_module": "@jupyter-widgets/base",
      "model_module_version": "1.2.0",
      "model_name": "LayoutModel",
      "state": {}
     },
     "e0e8e4ccb0e149b68495ed4e369d4d5d": {
      "model_module": "@jupyter-widgets/controls",
      "model_module_version": "1.5.0",
      "model_name": "SliderStyleModel",
      "state": {
       "description_width": ""
      }
     },
     "e24b2bf009aa45778faa893d3e106d83": {
      "model_module": "@jupyter-widgets/base",
      "model_module_version": "1.2.0",
      "model_name": "LayoutModel",
      "state": {}
     },
     "e7c641138ff34422ad6bfb9c31e9c0a3": {
      "model_module": "@jupyter-widgets/controls",
      "model_module_version": "1.5.0",
      "model_name": "SliderStyleModel",
      "state": {
       "description_width": ""
      }
     },
     "e825b4c0bbee439d8b1e435e0ad39a67": {
      "model_module": "@jupyter-widgets/controls",
      "model_module_version": "1.5.0",
      "model_name": "CheckboxModel",
      "state": {
       "description": "shuffle_indexes",
       "disabled": false,
       "layout": "IPY_MODEL_0692d9b57c284b1497178cfb517c4966",
       "style": "IPY_MODEL_63f9842ca0614ad59a1464defd900d05",
       "value": true
      }
     },
     "e8d9e57e7c324dc2bf9355f8a2b0d28f": {
      "model_module": "@jupyter-widgets/output",
      "model_module_version": "1.0.0",
      "model_name": "OutputModel",
      "state": {
       "layout": "IPY_MODEL_4dd3ac1b884448b5a7f4dddab2835f4f"
      }
     },
     "ea196d638c5d4b6f974f0cc4a10b7178": {
      "model_module": "@jupyter-widgets/controls",
      "model_module_version": "1.5.0",
      "model_name": "DescriptionStyleModel",
      "state": {
       "description_width": ""
      }
     },
     "eb413e7b232a4eb8bdbac0bbde861a8d": {
      "model_module": "@jupyter-widgets/base",
      "model_module_version": "1.2.0",
      "model_name": "LayoutModel",
      "state": {}
     },
     "ebb97604e76e4b2ea66e9f16054053ab": {
      "model_module": "@jupyter-widgets/controls",
      "model_module_version": "1.5.0",
      "model_name": "SliderStyleModel",
      "state": {
       "description_width": ""
      }
     },
     "ee48fdd835134479a700eb81ecd84c05": {
      "model_module": "@jupyter-widgets/controls",
      "model_module_version": "1.5.0",
      "model_name": "IntSliderModel",
      "state": {
       "description": "batchsize_",
       "layout": "IPY_MODEL_13011b7fb0ee443698e220781d032799",
       "max": 20,
       "min": 1,
       "style": "IPY_MODEL_9a37ae520acf4db7bbe13bee6518178c",
       "value": 10
      }
     },
     "f737fb220f1842368fc24b25fc6829ab": {
      "model_module": "@jupyter-widgets/base",
      "model_module_version": "1.2.0",
      "model_name": "LayoutModel",
      "state": {}
     },
     "f8516d7545f4427cbaf1d4b0cbaad6a6": {
      "model_module": "@jupyter-widgets/base",
      "model_module_version": "1.2.0",
      "model_name": "LayoutModel",
      "state": {}
     },
     "f9914be07e38419a83fc971999e1fee6": {
      "model_module": "@jupyter-widgets/controls",
      "model_module_version": "1.5.0",
      "model_name": "IntSliderModel",
      "state": {
       "description": "batchsize_",
       "layout": "IPY_MODEL_eb413e7b232a4eb8bdbac0bbde861a8d",
       "max": 20,
       "min": 1,
       "style": "IPY_MODEL_c7583f63a8f54bceb6e09d54b0a78a09",
       "value": 10
      }
     },
     "fb8c12e1001848bb8397426bd4ff20af": {
      "model_module": "@jupyter-widgets/controls",
      "model_module_version": "1.5.0",
      "model_name": "DescriptionStyleModel",
      "state": {
       "description_width": ""
      }
     }
    },
    "version_major": 2,
    "version_minor": 0
   }
  }
 },
 "nbformat": 4,
 "nbformat_minor": 4
}
