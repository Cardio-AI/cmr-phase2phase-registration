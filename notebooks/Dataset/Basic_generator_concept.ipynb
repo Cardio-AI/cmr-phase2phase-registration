{
 "cells": [
  {
   "cell_type": "code",
   "execution_count": 24,
   "metadata": {},
   "outputs": [
    {
     "name": "stdout",
     "output_type": "stream",
     "text": [
      "search for root_dir and set working directory\n",
      "Working directory set to: /mnt/ssd/git/dynamic-cmr-models\n"
     ]
    }
   ],
   "source": [
    "# define logging and working directory\n",
    "from ProjectRoot import change_wd_to_project_root\n",
    "change_wd_to_project_root()\n",
    "from src.utils.Notebook_imports import *"
   ]
  },
  {
   "cell_type": "markdown",
   "metadata": {},
   "source": [
    "# Test the main concepts of a DL generator\n",
    "\n",
    "A Generator yields a tuple of (x,y) and is used to feed data into a deep learning model\n",
    "\n",
    "Each x/y tuple has the following shape: \n",
    "\n",
    "$batchsize * exampleSize * exampleShape$ \n",
    "\n",
    "--> The $exampleShape$ could be:\n",
    "- for 1D vector-data: $len(vector_{data})$\n",
    "- for 2D images: $height * width$: \n",
    "- for 3D volumes: $depth * height * width$)\n"
   ]
  },
  {
   "cell_type": "markdown",
   "metadata": {},
   "source": [
    "# Interactive index and fake data generation (1D)\n",
    "\n",
    "Please define:\n",
    "\n",
    "- The total number of $examples$ (the size of the dataset), each $example$ represents one patient/entity\n",
    "- the $exampleSize$ (number of objects per example), this could represent different timesteps of a multi input generator\n",
    "- the $batchsize$, meaning how many examples should be yielded in one step"
   ]
  },
  {
   "cell_type": "code",
   "execution_count": 119,
   "metadata": {},
   "outputs": [
    {
     "data": {
      "application/vnd.jupyter.widget-view+json": {
       "model_id": "773b82e3025d4317ae1d60a211f7991e",
       "version_major": 2,
       "version_minor": 0
      },
      "text/plain": [
       "interactive(children=(IntSlider(value=50, description='examples_', min=1), IntSlider(value=4, description='exa…"
      ]
     },
     "metadata": {},
     "output_type": "display_data"
    }
   ],
   "source": [
    "upper_example_limit = 100\n",
    "upper_example_size_limit = 8\n",
    "upper_batchsize_limit = 20\n",
    "@interact\n",
    "def create_fake_data(examples_=(1,upper_example_limit), example_size_=(1,upper_example_size_limit), batchsize_=(1,upper_batchsize_limit)):\n",
    "    global examples, example_size, batchsize, indexes, X, Y, batches\n",
    "    examples = examples_\n",
    "    example_size = example_size_\n",
    "    batchsize = batchsize_\n",
    "    # create some fake data\n",
    "    X = [list(round(np.random.rand(),2)+(delta) for i in range(example_size_)) for delta in range(examples_)]\n",
    "    Y = [list(i+(delta/10) for i in range(example_size_)) for delta in range(examples_)]\n",
    "    indexes = list(range(len(X)))\n",
    "    batches = int(np.floor(examples/batchsize))-1"
   ]
  },
  {
   "cell_type": "code",
   "execution_count": 120,
   "metadata": {},
   "outputs": [
    {
     "data": {
      "application/vnd.jupyter.widget-view+json": {
       "model_id": "e70c0efc5e4f41b1bab6ce7c02461ca6",
       "version_major": 2,
       "version_minor": 0
      },
      "text/plain": [
       "interactive(children=(IntSlider(value=2, description='selected_batch', max=4), Checkbox(value=False, descripti…"
      ]
     },
     "metadata": {},
     "output_type": "display_data"
    }
   ],
   "source": [
    "# collect one batch\n",
    "@interact\n",
    "def select_batch(selected_batch = (0,batches), shuffle_indexes=False):\n",
    "    global indexes\n",
    "    \n",
    "    if shuffle_indexes:\n",
    "        random.shuffle(indexes)\n",
    "        \n",
    "    assert len(indexes) == examples, print('len indexes: {}, number of examples: {}'.format(len(indexes), examples))\n",
    "    start_idx = selected_batch*batchsize\n",
    "    end_idx = (selected_batch+1)*batchsize\n",
    "    print('selected batch: {} of {} with a batchsize of {} and total {} examples'.format(selected_batch, batches, batchsize, examples))\n",
    "    print('start idx: {}, end idx: {}'.format(start_idx, end_idx))\n",
    "    batch_indexes = indexes[start_idx: end_idx]\n",
    "    print('Indexes of the currrent batch: {}'.format(batch_indexes))\n",
    "    batch_x = [X[k] for k in batch_indexes]\n",
    "    batch_y = [Y[k] for k in batch_indexes]\n",
    "    return([batch_x, batch_y])"
   ]
  },
  {
   "cell_type": "markdown",
   "metadata": {},
   "source": [
    "# Some hardcoded examples how we construct the faxe batches"
   ]
  },
  {
   "cell_type": "code",
   "execution_count": 25,
   "metadata": {},
   "outputs": [
    {
     "name": "stdout",
     "output_type": "stream",
     "text": [
      "[[0, 1, 2, 3, 4], [0, 1, 2, 3, 4], [0, 1, 2, 3, 4], [0, 1, 2, 3, 4], [0, 1, 2, 3, 4], [0, 1, 2, 3, 4], [0, 1, 2, 3, 4], [0, 1, 2, 3, 4], [0, 1, 2, 3, 4], [0, 1, 2, 3, 4]]\n",
      "[[10, 11, 12, 13, 14], [10, 11, 12, 13, 14], [10, 11, 12, 13, 14], [10, 11, 12, 13, 14], [10, 11, 12, 13, 14], [10, 11, 12, 13, 14], [10, 11, 12, 13, 14], [10, 11, 12, 13, 14], [10, 11, 12, 13, 14], [10, 11, 12, 13, 14]]\n"
     ]
    }
   ],
   "source": [
    "## we asume x and y to be a list of lists (representing the model input and output with variable length)\n",
    "# create some fake data\n",
    "examples = 10\n",
    "example_size = 5\n",
    "x = [list(i for i in range(example_size)) for _ in range(examples)]\n",
    "y = [list(i+10 for i in range(example_size)) for _ in range(examples)]\n",
    "print(x)\n",
    "print(y)"
   ]
  },
  {
   "cell_type": "code",
   "execution_count": 26,
   "metadata": {},
   "outputs": [
    {
     "data": {
      "text/plain": [
       "[0, 1, 2, 3, 4, 5, 6, 7, 8, 9]"
      ]
     },
     "execution_count": 26,
     "metadata": {},
     "output_type": "execute_result"
    }
   ],
   "source": [
    "# create unique indexes, which than can be shuffeled\n",
    "indexes = list(range(len(x)))\n",
    "indexes"
   ]
  },
  {
   "cell_type": "code",
   "execution_count": 27,
   "metadata": {},
   "outputs": [
    {
     "data": {
      "text/plain": [
       "[4, 2, 1, 6, 5, 0, 8, 3, 9, 7]"
      ]
     },
     "execution_count": 27,
     "metadata": {},
     "output_type": "execute_result"
    }
   ],
   "source": [
    "import random\n",
    "random.shuffle(indexes)\n",
    "indexes"
   ]
  },
  {
   "cell_type": "code",
   "execution_count": 28,
   "metadata": {},
   "outputs": [
    {
     "data": {
      "text/plain": [
       "[4, 2]"
      ]
     },
     "execution_count": 28,
     "metadata": {},
     "output_type": "execute_result"
    }
   ],
   "source": [
    "# get the indexes for a hard-coded batchsize of two\n",
    "indexes[0:2]"
   ]
  },
  {
   "cell_type": "code",
   "execution_count": 29,
   "metadata": {},
   "outputs": [
    {
     "name": "stdout",
     "output_type": "stream",
     "text": [
      "[4, 2]\n"
     ]
    }
   ],
   "source": [
    "# get a variable size\n",
    "batchsize = 2\n",
    "index = 0\n",
    "batch_indexes = indexes[index*batchsize: (index+1)*batchsize]\n",
    "print(batch_indexes)"
   ]
  },
  {
   "cell_type": "code",
   "execution_count": null,
   "metadata": {},
   "outputs": [],
   "source": []
  }
 ],
 "metadata": {
  "kernelspec": {
   "display_name": "dcmr",
   "language": "python",
   "name": "dcmr"
  },
  "language_info": {
   "codemirror_mode": {
    "name": "ipython",
    "version": 3
   },
   "file_extension": ".py",
   "mimetype": "text/x-python",
   "name": "python",
   "nbconvert_exporter": "python",
   "pygments_lexer": "ipython3",
   "version": "3.8.5"
  },
  "widgets": {
   "application/vnd.jupyter.widget-state+json": {
    "state": {
     "002379f9b18a4106a42fba47810ff7dd": {
      "model_module": "@jupyter-widgets/controls",
      "model_module_version": "1.5.0",
      "model_name": "VBoxModel",
      "state": {
       "_dom_classes": [
        "widget-interact"
       ],
       "children": [
        "IPY_MODEL_2d2e0fb3868a453485362884b3c8146e",
        "IPY_MODEL_e8920e38365746a3b47237ea43da7d15",
        "IPY_MODEL_e425d6d601f94153a05645f210550711"
       ],
       "layout": "IPY_MODEL_1504654e48d0488a98ca29452acf83db"
      }
     },
     "002b3004d5564ac5895110e353318f80": {
      "model_module": "@jupyter-widgets/controls",
      "model_module_version": "1.5.0",
      "model_name": "IntSliderModel",
      "state": {
       "description": "example_size_",
       "layout": "IPY_MODEL_535eac10358347bfa9dcbc5b8570bf0f",
       "max": 8,
       "min": 1,
       "style": "IPY_MODEL_6389d7b47b6c49e6b2d59b4e024adbcc",
       "value": 4
      }
     },
     "00c74ffbcf984b5095938db1a2beda0f": {
      "model_module": "@jupyter-widgets/output",
      "model_module_version": "1.0.0",
      "model_name": "OutputModel",
      "state": {
       "layout": "IPY_MODEL_7a4bbafc34c74cd38ee0df0b623a7748",
       "outputs": [
        {
         "name": "stdout",
         "output_type": "stream",
         "text": "[0, 1, 2, 3]\n"
        },
        {
         "data": {
          "text/plain": "[[[0, 1, 2, 3, 4],\n  [10, 11, 12, 13, 14],\n  [20, 21, 22, 23, 24],\n  [30, 31, 32, 33, 34]],\n [[0.0, 1.0, 2.0, 3.0, 4.0],\n  [0.1, 1.1, 2.1, 3.1, 4.1],\n  [0.2, 1.2, 2.2, 3.2, 4.2],\n  [0.3, 1.3, 2.3, 3.3, 4.3]]]"
         },
         "metadata": {},
         "output_type": "display_data"
        }
       ]
      }
     },
     "00e104538f214aad8136911e00012747": {
      "model_module": "@jupyter-widgets/base",
      "model_module_version": "1.2.0",
      "model_name": "LayoutModel",
      "state": {}
     },
     "01213f45007a4e9fac4256fb341218c5": {
      "model_module": "@jupyter-widgets/base",
      "model_module_version": "1.2.0",
      "model_name": "LayoutModel",
      "state": {}
     },
     "01bece38712047f9ad164816f8c51b30": {
      "model_module": "@jupyter-widgets/controls",
      "model_module_version": "1.5.0",
      "model_name": "VBoxModel",
      "state": {
       "_dom_classes": [
        "widget-interact"
       ],
       "children": [
        "IPY_MODEL_75fb4b89b3a648e081d1b01116b1fbd3",
        "IPY_MODEL_a04d8d89e95643f2b400af842f4c705e"
       ],
       "layout": "IPY_MODEL_83afb3df1e004c65b2c7915bfbb89d14"
      }
     },
     "0204f5417ec64bf5991a16121b7dacd4": {
      "model_module": "@jupyter-widgets/base",
      "model_module_version": "1.2.0",
      "model_name": "LayoutModel",
      "state": {}
     },
     "0227b75dd2a5497ebd5b2d446f2316e0": {
      "model_module": "@jupyter-widgets/base",
      "model_module_version": "1.2.0",
      "model_name": "LayoutModel",
      "state": {}
     },
     "026f7de6ec304187b59871744afe7b05": {
      "model_module": "@jupyter-widgets/base",
      "model_module_version": "1.2.0",
      "model_name": "LayoutModel",
      "state": {}
     },
     "02e882eb307a41718c0292236a4bfdcf": {
      "model_module": "@jupyter-widgets/base",
      "model_module_version": "1.2.0",
      "model_name": "LayoutModel",
      "state": {}
     },
     "03f7f69d2a8c40008c288cdb5180b461": {
      "model_module": "@jupyter-widgets/base",
      "model_module_version": "1.2.0",
      "model_name": "LayoutModel",
      "state": {}
     },
     "0476184b9de0488882d25d4e4343143c": {
      "model_module": "@jupyter-widgets/controls",
      "model_module_version": "1.5.0",
      "model_name": "SliderStyleModel",
      "state": {
       "description_width": ""
      }
     },
     "04c92a0e797b494c91d8560398dd5eb3": {
      "model_module": "@jupyter-widgets/base",
      "model_module_version": "1.2.0",
      "model_name": "LayoutModel",
      "state": {}
     },
     "054468003e484c13903f87d40a10794a": {
      "model_module": "@jupyter-widgets/base",
      "model_module_version": "1.2.0",
      "model_name": "LayoutModel",
      "state": {}
     },
     "055baf820a3a4832be9623e1968ee296": {
      "model_module": "@jupyter-widgets/controls",
      "model_module_version": "1.5.0",
      "model_name": "SliderStyleModel",
      "state": {
       "description_width": ""
      }
     },
     "056b924663244e10965ceea262843fb2": {
      "model_module": "@jupyter-widgets/controls",
      "model_module_version": "1.5.0",
      "model_name": "CheckboxModel",
      "state": {
       "description": "shuffle_indexes",
       "disabled": false,
       "layout": "IPY_MODEL_632d8ec6cf4b4bb28bfa3f9d7fb064dd",
       "style": "IPY_MODEL_60446b773e124d1185659cf6667bdf73",
       "value": false
      }
     },
     "064c7f23451745b6b3667deb936f6a38": {
      "model_module": "@jupyter-widgets/controls",
      "model_module_version": "1.5.0",
      "model_name": "IntSliderModel",
      "state": {
       "description": "example_size_",
       "layout": "IPY_MODEL_7823913e90c646e1870a277c08a5a2cc",
       "max": 20,
       "style": "IPY_MODEL_adad8545e18a49ecb19d8f008c7f5dab",
       "value": 10
      }
     },
     "064f50ab411244f2a8fbec9202737094": {
      "model_module": "@jupyter-widgets/base",
      "model_module_version": "1.2.0",
      "model_name": "LayoutModel",
      "state": {}
     },
     "0692d08768a54505998574cd3deb514e": {
      "model_module": "@jupyter-widgets/controls",
      "model_module_version": "1.5.0",
      "model_name": "SliderStyleModel",
      "state": {
       "description_width": ""
      }
     },
     "06d38e6b72fa4d97802696c251a2a4c7": {
      "model_module": "@jupyter-widgets/controls",
      "model_module_version": "1.5.0",
      "model_name": "IntSliderModel",
      "state": {
       "description": "batchsize_",
       "layout": "IPY_MODEL_34474160420c4cb09b1565fe6512369b",
       "style": "IPY_MODEL_66c6c8693bb44ca2bacdc92713a2ba14",
       "value": 10
      }
     },
     "06d7fa141a2f454f9834366d468d2354": {
      "model_module": "@jupyter-widgets/controls",
      "model_module_version": "1.5.0",
      "model_name": "SliderStyleModel",
      "state": {
       "description_width": ""
      }
     },
     "074cb44c4345447798bec901ee36cd46": {
      "model_module": "@jupyter-widgets/controls",
      "model_module_version": "1.5.0",
      "model_name": "IntSliderModel",
      "state": {
       "description": "example_size_",
       "layout": "IPY_MODEL_88cd264e88c9408c80dd6fa9e3767d76",
       "max": 8,
       "style": "IPY_MODEL_1167fbe16f8c40b3969daf65186c3242",
       "value": 4
      }
     },
     "07c3620d6b684d0e8e41526ff53bc840": {
      "model_module": "@jupyter-widgets/base",
      "model_module_version": "1.2.0",
      "model_name": "LayoutModel",
      "state": {}
     },
     "07e3026fc5ae4eb8a7e23d5ab4eefcd5": {
      "model_module": "@jupyter-widgets/base",
      "model_module_version": "1.2.0",
      "model_name": "LayoutModel",
      "state": {}
     },
     "08f5d60c48a249749fdf98251705741b": {
      "model_module": "@jupyter-widgets/output",
      "model_module_version": "1.0.0",
      "model_name": "OutputModel",
      "state": {
       "layout": "IPY_MODEL_534d3e0f2a1b4ec6b2199961e0c99d06",
       "outputs": [
        {
         "ename": "TypeError",
         "evalue": "object of type 'int' has no len()",
         "output_type": "error",
         "traceback": [
          "\u001b[0;31m---------------------------------------------------------------------------\u001b[0m",
          "\u001b[0;31mTypeError\u001b[0m                                 Traceback (most recent call last)",
          "\u001b[0;32m~/anaconda3/envs/dcmr/lib/python3.8/site-packages/ipywidgets/widgets/interaction.py\u001b[0m in \u001b[0;36mupdate\u001b[0;34m(self, *args)\u001b[0m\n\u001b[1;32m    254\u001b[0m                     \u001b[0mvalue\u001b[0m \u001b[0;34m=\u001b[0m \u001b[0mwidget\u001b[0m\u001b[0;34m.\u001b[0m\u001b[0mget_interact_value\u001b[0m\u001b[0;34m(\u001b[0m\u001b[0;34m)\u001b[0m\u001b[0;34m\u001b[0m\u001b[0;34m\u001b[0m\u001b[0m\n\u001b[1;32m    255\u001b[0m                     \u001b[0mself\u001b[0m\u001b[0;34m.\u001b[0m\u001b[0mkwargs\u001b[0m\u001b[0;34m[\u001b[0m\u001b[0mwidget\u001b[0m\u001b[0;34m.\u001b[0m\u001b[0m_kwarg\u001b[0m\u001b[0;34m]\u001b[0m \u001b[0;34m=\u001b[0m \u001b[0mvalue\u001b[0m\u001b[0;34m\u001b[0m\u001b[0;34m\u001b[0m\u001b[0m\n\u001b[0;32m--> 256\u001b[0;31m                 \u001b[0mself\u001b[0m\u001b[0;34m.\u001b[0m\u001b[0mresult\u001b[0m \u001b[0;34m=\u001b[0m \u001b[0mself\u001b[0m\u001b[0;34m.\u001b[0m\u001b[0mf\u001b[0m\u001b[0;34m(\u001b[0m\u001b[0;34m**\u001b[0m\u001b[0mself\u001b[0m\u001b[0;34m.\u001b[0m\u001b[0mkwargs\u001b[0m\u001b[0;34m)\u001b[0m\u001b[0;34m\u001b[0m\u001b[0;34m\u001b[0m\u001b[0m\n\u001b[0m\u001b[1;32m    257\u001b[0m                 \u001b[0mshow_inline_matplotlib_plots\u001b[0m\u001b[0;34m(\u001b[0m\u001b[0;34m)\u001b[0m\u001b[0;34m\u001b[0m\u001b[0;34m\u001b[0m\u001b[0m\n\u001b[1;32m    258\u001b[0m                 \u001b[0;32mif\u001b[0m \u001b[0mself\u001b[0m\u001b[0;34m.\u001b[0m\u001b[0mauto_display\u001b[0m \u001b[0;32mand\u001b[0m \u001b[0mself\u001b[0m\u001b[0;34m.\u001b[0m\u001b[0mresult\u001b[0m \u001b[0;32mis\u001b[0m \u001b[0;32mnot\u001b[0m \u001b[0;32mNone\u001b[0m\u001b[0;34m:\u001b[0m\u001b[0;34m\u001b[0m\u001b[0;34m\u001b[0m\u001b[0m\n",
          "\u001b[0;32m<ipython-input-73-9b08269673d0>\u001b[0m in \u001b[0;36mselect_batch\u001b[0;34m(selected_batch)\u001b[0m\n\u001b[1;32m      2\u001b[0m \u001b[0;34m@\u001b[0m\u001b[0minteract\u001b[0m\u001b[0;34m\u001b[0m\u001b[0;34m\u001b[0m\u001b[0m\n\u001b[1;32m      3\u001b[0m \u001b[0;32mdef\u001b[0m \u001b[0mselect_batch\u001b[0m\u001b[0;34m(\u001b[0m\u001b[0mselected_batch\u001b[0m \u001b[0;34m=\u001b[0m \u001b[0;34m(\u001b[0m\u001b[0;36m0\u001b[0m\u001b[0;34m,\u001b[0m\u001b[0mint\u001b[0m\u001b[0;34m(\u001b[0m\u001b[0mnp\u001b[0m\u001b[0;34m.\u001b[0m\u001b[0mfloor\u001b[0m\u001b[0;34m(\u001b[0m\u001b[0mexamples\u001b[0m\u001b[0;34m/\u001b[0m\u001b[0mbatchsize\u001b[0m\u001b[0;34m)\u001b[0m\u001b[0;34m)\u001b[0m\u001b[0;34m-\u001b[0m\u001b[0;36m1\u001b[0m\u001b[0;34m)\u001b[0m\u001b[0;34m)\u001b[0m\u001b[0;34m:\u001b[0m\u001b[0;34m\u001b[0m\u001b[0;34m\u001b[0m\u001b[0m\n\u001b[0;32m----> 4\u001b[0;31m     \u001b[0;32massert\u001b[0m \u001b[0mlen\u001b[0m\u001b[0;34m(\u001b[0m\u001b[0mindexes\u001b[0m \u001b[0;34m==\u001b[0m \u001b[0mlen\u001b[0m\u001b[0;34m(\u001b[0m\u001b[0mexamples\u001b[0m\u001b[0;34m)\u001b[0m\u001b[0;34m)\u001b[0m\u001b[0;34m\u001b[0m\u001b[0;34m\u001b[0m\u001b[0m\n\u001b[0m\u001b[1;32m      5\u001b[0m     \u001b[0mprint\u001b[0m\u001b[0;34m(\u001b[0m\u001b[0;34m'selected batch: {} of {} with a batchsize of {} and total {} examples'\u001b[0m\u001b[0;34m.\u001b[0m\u001b[0mformat\u001b[0m\u001b[0;34m(\u001b[0m\u001b[0mselected_batch\u001b[0m\u001b[0;34m,\u001b[0m \u001b[0;34m(\u001b[0m\u001b[0mexamples\u001b[0m\u001b[0;34m/\u001b[0m\u001b[0mbatchsize\u001b[0m\u001b[0;34m)\u001b[0m\u001b[0;34m-\u001b[0m\u001b[0;36m1\u001b[0m\u001b[0;34m,\u001b[0m \u001b[0mbatchsize\u001b[0m\u001b[0;34m,\u001b[0m \u001b[0mexamples\u001b[0m\u001b[0;34m)\u001b[0m\u001b[0;34m)\u001b[0m\u001b[0;34m\u001b[0m\u001b[0;34m\u001b[0m\u001b[0m\n\u001b[1;32m      6\u001b[0m     \u001b[0mstart_idx\u001b[0m \u001b[0;34m=\u001b[0m \u001b[0mselected_batch\u001b[0m\u001b[0;34m*\u001b[0m\u001b[0mbatchsize\u001b[0m\u001b[0;34m\u001b[0m\u001b[0;34m\u001b[0m\u001b[0m\n",
          "\u001b[0;31mTypeError\u001b[0m: object of type 'int' has no len()"
         ]
        }
       ]
      }
     },
     "0a2aaf12991a483a98742e2b8ae6eae5": {
      "model_module": "@jupyter-widgets/base",
      "model_module_version": "1.2.0",
      "model_name": "LayoutModel",
      "state": {}
     },
     "0a9b44c8e149489d8ded1181c38e0c4e": {
      "model_module": "@jupyter-widgets/base",
      "model_module_version": "1.2.0",
      "model_name": "LayoutModel",
      "state": {}
     },
     "0aa7af20a30943e989b3677d4143d40b": {
      "model_module": "@jupyter-widgets/controls",
      "model_module_version": "1.5.0",
      "model_name": "SliderStyleModel",
      "state": {
       "description_width": ""
      }
     },
     "0cc1b6343f304719acb3ea18259b7cfd": {
      "model_module": "@jupyter-widgets/output",
      "model_module_version": "1.0.0",
      "model_name": "OutputModel",
      "state": {
       "layout": "IPY_MODEL_7c00b015627e4276904cca27e3d4472b",
       "outputs": [
        {
         "ename": "NameError",
         "evalue": "name 'shuffle' is not defined",
         "output_type": "error",
         "traceback": [
          "\u001b[0;31m---------------------------------------------------------------------------\u001b[0m",
          "\u001b[0;31mNameError\u001b[0m                                 Traceback (most recent call last)",
          "\u001b[0;32m~/anaconda3/envs/dcmr/lib/python3.8/site-packages/ipywidgets/widgets/interaction.py\u001b[0m in \u001b[0;36mupdate\u001b[0;34m(self, *args)\u001b[0m\n\u001b[1;32m    254\u001b[0m                     \u001b[0mvalue\u001b[0m \u001b[0;34m=\u001b[0m \u001b[0mwidget\u001b[0m\u001b[0;34m.\u001b[0m\u001b[0mget_interact_value\u001b[0m\u001b[0;34m(\u001b[0m\u001b[0;34m)\u001b[0m\u001b[0;34m\u001b[0m\u001b[0;34m\u001b[0m\u001b[0m\n\u001b[1;32m    255\u001b[0m                     \u001b[0mself\u001b[0m\u001b[0;34m.\u001b[0m\u001b[0mkwargs\u001b[0m\u001b[0;34m[\u001b[0m\u001b[0mwidget\u001b[0m\u001b[0;34m.\u001b[0m\u001b[0m_kwarg\u001b[0m\u001b[0;34m]\u001b[0m \u001b[0;34m=\u001b[0m \u001b[0mvalue\u001b[0m\u001b[0;34m\u001b[0m\u001b[0;34m\u001b[0m\u001b[0m\n\u001b[0;32m--> 256\u001b[0;31m                 \u001b[0mself\u001b[0m\u001b[0;34m.\u001b[0m\u001b[0mresult\u001b[0m \u001b[0;34m=\u001b[0m \u001b[0mself\u001b[0m\u001b[0;34m.\u001b[0m\u001b[0mf\u001b[0m\u001b[0;34m(\u001b[0m\u001b[0;34m**\u001b[0m\u001b[0mself\u001b[0m\u001b[0;34m.\u001b[0m\u001b[0mkwargs\u001b[0m\u001b[0;34m)\u001b[0m\u001b[0;34m\u001b[0m\u001b[0;34m\u001b[0m\u001b[0m\n\u001b[0m\u001b[1;32m    257\u001b[0m                 \u001b[0mshow_inline_matplotlib_plots\u001b[0m\u001b[0;34m(\u001b[0m\u001b[0;34m)\u001b[0m\u001b[0;34m\u001b[0m\u001b[0;34m\u001b[0m\u001b[0m\n\u001b[1;32m    258\u001b[0m                 \u001b[0;32mif\u001b[0m \u001b[0mself\u001b[0m\u001b[0;34m.\u001b[0m\u001b[0mauto_display\u001b[0m \u001b[0;32mand\u001b[0m \u001b[0mself\u001b[0m\u001b[0;34m.\u001b[0m\u001b[0mresult\u001b[0m \u001b[0;32mis\u001b[0m \u001b[0;32mnot\u001b[0m \u001b[0;32mNone\u001b[0m\u001b[0;34m:\u001b[0m\u001b[0;34m\u001b[0m\u001b[0;34m\u001b[0m\u001b[0m\n",
          "\u001b[0;32m<ipython-input-85-b916c0c67c6e>\u001b[0m in \u001b[0;36mselect_batch\u001b[0;34m(selected_batch, shuffle_indexes)\u001b[0m\n\u001b[1;32m      3\u001b[0m \u001b[0;32mdef\u001b[0m \u001b[0mselect_batch\u001b[0m\u001b[0;34m(\u001b[0m\u001b[0mselected_batch\u001b[0m \u001b[0;34m=\u001b[0m \u001b[0;34m(\u001b[0m\u001b[0;36m0\u001b[0m\u001b[0;34m,\u001b[0m\u001b[0mbatches\u001b[0m\u001b[0;34m)\u001b[0m\u001b[0;34m,\u001b[0m \u001b[0mshuffle_indexes\u001b[0m\u001b[0;34m=\u001b[0m\u001b[0;32mFalse\u001b[0m\u001b[0;34m)\u001b[0m\u001b[0;34m:\u001b[0m\u001b[0;34m\u001b[0m\u001b[0;34m\u001b[0m\u001b[0m\n\u001b[1;32m      4\u001b[0m     \u001b[0;32mglobal\u001b[0m \u001b[0mindexes\u001b[0m\u001b[0;34m\u001b[0m\u001b[0;34m\u001b[0m\u001b[0m\n\u001b[0;32m----> 5\u001b[0;31m     \u001b[0;32mif\u001b[0m \u001b[0mshuffle\u001b[0m\u001b[0;34m:\u001b[0m\u001b[0;34m\u001b[0m\u001b[0;34m\u001b[0m\u001b[0m\n\u001b[0m\u001b[1;32m      6\u001b[0m         \u001b[0mrandom\u001b[0m\u001b[0;34m.\u001b[0m\u001b[0mshuffle\u001b[0m\u001b[0;34m(\u001b[0m\u001b[0mindexes\u001b[0m\u001b[0;34m)\u001b[0m\u001b[0;34m\u001b[0m\u001b[0;34m\u001b[0m\u001b[0m\n\u001b[1;32m      7\u001b[0m     \u001b[0;32massert\u001b[0m \u001b[0mlen\u001b[0m\u001b[0;34m(\u001b[0m\u001b[0mindexes\u001b[0m\u001b[0;34m)\u001b[0m \u001b[0;34m==\u001b[0m \u001b[0mexamples\u001b[0m\u001b[0;34m,\u001b[0m \u001b[0mprint\u001b[0m\u001b[0;34m(\u001b[0m\u001b[0;34m'len indexes: {}, number of examples: {}'\u001b[0m\u001b[0;34m.\u001b[0m\u001b[0mformat\u001b[0m\u001b[0;34m(\u001b[0m\u001b[0mlen\u001b[0m\u001b[0;34m(\u001b[0m\u001b[0mindexes\u001b[0m\u001b[0;34m)\u001b[0m\u001b[0;34m,\u001b[0m \u001b[0mexamples\u001b[0m\u001b[0;34m)\u001b[0m\u001b[0;34m)\u001b[0m\u001b[0;34m\u001b[0m\u001b[0;34m\u001b[0m\u001b[0m\n",
          "\u001b[0;31mNameError\u001b[0m: name 'shuffle' is not defined"
         ]
        }
       ]
      }
     },
     "0cc730cc04244ddeaa2ff4476cae5eff": {
      "model_module": "@jupyter-widgets/controls",
      "model_module_version": "1.5.0",
      "model_name": "SliderStyleModel",
      "state": {
       "description_width": ""
      }
     },
     "0d57c6984c28419d9e05ffbbe8c9d8af": {
      "model_module": "@jupyter-widgets/controls",
      "model_module_version": "1.5.0",
      "model_name": "VBoxModel",
      "state": {
       "_dom_classes": [
        "widget-interact"
       ],
       "children": [
        "IPY_MODEL_f3ff8c94f59d4403aad239c357afb380",
        "IPY_MODEL_e4376cda2e68454fbc3b2738a2c7a2e8"
       ],
       "layout": "IPY_MODEL_5f62c183e0694dc78977a645b7b706b0"
      }
     },
     "0da76cb2919b439a85bbbe5abe1323ae": {
      "model_module": "@jupyter-widgets/base",
      "model_module_version": "1.2.0",
      "model_name": "LayoutModel",
      "state": {}
     },
     "0ee4724f1972494299cf92361a7f2d5a": {
      "model_module": "@jupyter-widgets/controls",
      "model_module_version": "1.5.0",
      "model_name": "DescriptionStyleModel",
      "state": {
       "description_width": ""
      }
     },
     "0efa1baac81d4627bc1b0f04a72b3dad": {
      "model_module": "@jupyter-widgets/controls",
      "model_module_version": "1.5.0",
      "model_name": "SliderStyleModel",
      "state": {
       "description_width": ""
      }
     },
     "0f3d0a32c117470d9bf154c546aeec7b": {
      "model_module": "@jupyter-widgets/controls",
      "model_module_version": "1.5.0",
      "model_name": "IntSliderModel",
      "state": {
       "description": "examples_",
       "layout": "IPY_MODEL_e421364a21874addb0552de251d0a792",
       "style": "IPY_MODEL_e92304b4981244fd91c5495d3d30205c",
       "value": 50
      }
     },
     "0f81532c70714f85892e74e175da501d": {
      "model_module": "@jupyter-widgets/base",
      "model_module_version": "1.2.0",
      "model_name": "LayoutModel",
      "state": {}
     },
     "0fd9ee60b3b1402791d174a62a1d7715": {
      "model_module": "@jupyter-widgets/controls",
      "model_module_version": "1.5.0",
      "model_name": "SliderStyleModel",
      "state": {
       "description_width": ""
      }
     },
     "0fe766623a7e473cb52b3324f14e6aac": {
      "model_module": "@jupyter-widgets/output",
      "model_module_version": "1.0.0",
      "model_name": "OutputModel",
      "state": {
       "layout": "IPY_MODEL_b05872e77aa64afe92f9d6f19402c743",
       "outputs": [
        {
         "ename": "TypeError",
         "evalue": "descriptor 'uniform' of 'numpy.random._generator.Generator' object needs an argument",
         "output_type": "error",
         "traceback": [
          "\u001b[0;31m---------------------------------------------------------------------------\u001b[0m",
          "\u001b[0;31mTypeError\u001b[0m                                 Traceback (most recent call last)",
          "\u001b[0;32m~/anaconda3/envs/dcmr/lib/python3.8/site-packages/ipywidgets/widgets/interaction.py\u001b[0m in \u001b[0;36mupdate\u001b[0;34m(self, *args)\u001b[0m\n\u001b[1;32m    254\u001b[0m                     \u001b[0mvalue\u001b[0m \u001b[0;34m=\u001b[0m \u001b[0mwidget\u001b[0m\u001b[0;34m.\u001b[0m\u001b[0mget_interact_value\u001b[0m\u001b[0;34m(\u001b[0m\u001b[0;34m)\u001b[0m\u001b[0;34m\u001b[0m\u001b[0;34m\u001b[0m\u001b[0m\n\u001b[1;32m    255\u001b[0m                     \u001b[0mself\u001b[0m\u001b[0;34m.\u001b[0m\u001b[0mkwargs\u001b[0m\u001b[0;34m[\u001b[0m\u001b[0mwidget\u001b[0m\u001b[0;34m.\u001b[0m\u001b[0m_kwarg\u001b[0m\u001b[0;34m]\u001b[0m \u001b[0;34m=\u001b[0m \u001b[0mvalue\u001b[0m\u001b[0;34m\u001b[0m\u001b[0;34m\u001b[0m\u001b[0m\n\u001b[0;32m--> 256\u001b[0;31m                 \u001b[0mself\u001b[0m\u001b[0;34m.\u001b[0m\u001b[0mresult\u001b[0m \u001b[0;34m=\u001b[0m \u001b[0mself\u001b[0m\u001b[0;34m.\u001b[0m\u001b[0mf\u001b[0m\u001b[0;34m(\u001b[0m\u001b[0;34m**\u001b[0m\u001b[0mself\u001b[0m\u001b[0;34m.\u001b[0m\u001b[0mkwargs\u001b[0m\u001b[0;34m)\u001b[0m\u001b[0;34m\u001b[0m\u001b[0;34m\u001b[0m\u001b[0m\n\u001b[0m\u001b[1;32m    257\u001b[0m                 \u001b[0mshow_inline_matplotlib_plots\u001b[0m\u001b[0;34m(\u001b[0m\u001b[0;34m)\u001b[0m\u001b[0;34m\u001b[0m\u001b[0;34m\u001b[0m\u001b[0m\n\u001b[1;32m    258\u001b[0m                 \u001b[0;32mif\u001b[0m \u001b[0mself\u001b[0m\u001b[0;34m.\u001b[0m\u001b[0mauto_display\u001b[0m \u001b[0;32mand\u001b[0m \u001b[0mself\u001b[0m\u001b[0;34m.\u001b[0m\u001b[0mresult\u001b[0m \u001b[0;32mis\u001b[0m \u001b[0;32mnot\u001b[0m \u001b[0;32mNone\u001b[0m\u001b[0;34m:\u001b[0m\u001b[0;34m\u001b[0m\u001b[0;34m\u001b[0m\u001b[0m\n",
          "\u001b[0;32m<ipython-input-117-5fdf87159dff>\u001b[0m in \u001b[0;36mcreate_fake_data\u001b[0;34m(examples_, example_size_, batchsize_)\u001b[0m\n\u001b[1;32m      9\u001b[0m     \u001b[0mbatchsize\u001b[0m \u001b[0;34m=\u001b[0m \u001b[0mbatchsize_\u001b[0m\u001b[0;34m\u001b[0m\u001b[0;34m\u001b[0m\u001b[0m\n\u001b[1;32m     10\u001b[0m     \u001b[0;31m# create some fake data\u001b[0m\u001b[0;34m\u001b[0m\u001b[0;34m\u001b[0m\u001b[0;34m\u001b[0m\u001b[0m\n\u001b[0;32m---> 11\u001b[0;31m     \u001b[0mX\u001b[0m \u001b[0;34m=\u001b[0m \u001b[0;34m[\u001b[0m\u001b[0mlist\u001b[0m\u001b[0;34m(\u001b[0m\u001b[0mnp\u001b[0m\u001b[0;34m.\u001b[0m\u001b[0mrandom\u001b[0m\u001b[0;34m.\u001b[0m\u001b[0mGenerator\u001b[0m\u001b[0;34m.\u001b[0m\u001b[0muniform\u001b[0m\u001b[0;34m(\u001b[0m\u001b[0;34m)\u001b[0m\u001b[0;34m+\u001b[0m\u001b[0;34m(\u001b[0m\u001b[0mdelta\u001b[0m\u001b[0;34m)\u001b[0m \u001b[0;32mfor\u001b[0m \u001b[0mi\u001b[0m \u001b[0;32min\u001b[0m \u001b[0mrange\u001b[0m\u001b[0;34m(\u001b[0m\u001b[0mexample_size_\u001b[0m\u001b[0;34m)\u001b[0m\u001b[0;34m)\u001b[0m \u001b[0;32mfor\u001b[0m \u001b[0mdelta\u001b[0m \u001b[0;32min\u001b[0m \u001b[0mrange\u001b[0m\u001b[0;34m(\u001b[0m\u001b[0mexamples_\u001b[0m\u001b[0;34m)\u001b[0m\u001b[0;34m]\u001b[0m\u001b[0;34m\u001b[0m\u001b[0;34m\u001b[0m\u001b[0m\n\u001b[0m\u001b[1;32m     12\u001b[0m     \u001b[0mY\u001b[0m \u001b[0;34m=\u001b[0m \u001b[0;34m[\u001b[0m\u001b[0mlist\u001b[0m\u001b[0;34m(\u001b[0m\u001b[0mi\u001b[0m\u001b[0;34m+\u001b[0m\u001b[0;34m(\u001b[0m\u001b[0mdelta\u001b[0m\u001b[0;34m/\u001b[0m\u001b[0;36m10\u001b[0m\u001b[0;34m)\u001b[0m \u001b[0;32mfor\u001b[0m \u001b[0mi\u001b[0m \u001b[0;32min\u001b[0m \u001b[0mrange\u001b[0m\u001b[0;34m(\u001b[0m\u001b[0mexample_size_\u001b[0m\u001b[0;34m)\u001b[0m\u001b[0;34m)\u001b[0m \u001b[0;32mfor\u001b[0m \u001b[0mdelta\u001b[0m \u001b[0;32min\u001b[0m \u001b[0mrange\u001b[0m\u001b[0;34m(\u001b[0m\u001b[0mexamples_\u001b[0m\u001b[0;34m)\u001b[0m\u001b[0;34m]\u001b[0m\u001b[0;34m\u001b[0m\u001b[0;34m\u001b[0m\u001b[0m\n\u001b[1;32m     13\u001b[0m     \u001b[0mindexes\u001b[0m \u001b[0;34m=\u001b[0m \u001b[0mlist\u001b[0m\u001b[0;34m(\u001b[0m\u001b[0mrange\u001b[0m\u001b[0;34m(\u001b[0m\u001b[0mlen\u001b[0m\u001b[0;34m(\u001b[0m\u001b[0mX\u001b[0m\u001b[0;34m)\u001b[0m\u001b[0;34m)\u001b[0m\u001b[0;34m)\u001b[0m\u001b[0;34m\u001b[0m\u001b[0;34m\u001b[0m\u001b[0m\n",
          "\u001b[0;32m<ipython-input-117-5fdf87159dff>\u001b[0m in \u001b[0;36m<listcomp>\u001b[0;34m(.0)\u001b[0m\n\u001b[1;32m      9\u001b[0m     \u001b[0mbatchsize\u001b[0m \u001b[0;34m=\u001b[0m \u001b[0mbatchsize_\u001b[0m\u001b[0;34m\u001b[0m\u001b[0;34m\u001b[0m\u001b[0m\n\u001b[1;32m     10\u001b[0m     \u001b[0;31m# create some fake data\u001b[0m\u001b[0;34m\u001b[0m\u001b[0;34m\u001b[0m\u001b[0;34m\u001b[0m\u001b[0m\n\u001b[0;32m---> 11\u001b[0;31m     \u001b[0mX\u001b[0m \u001b[0;34m=\u001b[0m \u001b[0;34m[\u001b[0m\u001b[0mlist\u001b[0m\u001b[0;34m(\u001b[0m\u001b[0mnp\u001b[0m\u001b[0;34m.\u001b[0m\u001b[0mrandom\u001b[0m\u001b[0;34m.\u001b[0m\u001b[0mGenerator\u001b[0m\u001b[0;34m.\u001b[0m\u001b[0muniform\u001b[0m\u001b[0;34m(\u001b[0m\u001b[0;34m)\u001b[0m\u001b[0;34m+\u001b[0m\u001b[0;34m(\u001b[0m\u001b[0mdelta\u001b[0m\u001b[0;34m)\u001b[0m \u001b[0;32mfor\u001b[0m \u001b[0mi\u001b[0m \u001b[0;32min\u001b[0m \u001b[0mrange\u001b[0m\u001b[0;34m(\u001b[0m\u001b[0mexample_size_\u001b[0m\u001b[0;34m)\u001b[0m\u001b[0;34m)\u001b[0m \u001b[0;32mfor\u001b[0m \u001b[0mdelta\u001b[0m \u001b[0;32min\u001b[0m \u001b[0mrange\u001b[0m\u001b[0;34m(\u001b[0m\u001b[0mexamples_\u001b[0m\u001b[0;34m)\u001b[0m\u001b[0;34m]\u001b[0m\u001b[0;34m\u001b[0m\u001b[0;34m\u001b[0m\u001b[0m\n\u001b[0m\u001b[1;32m     12\u001b[0m     \u001b[0mY\u001b[0m \u001b[0;34m=\u001b[0m \u001b[0;34m[\u001b[0m\u001b[0mlist\u001b[0m\u001b[0;34m(\u001b[0m\u001b[0mi\u001b[0m\u001b[0;34m+\u001b[0m\u001b[0;34m(\u001b[0m\u001b[0mdelta\u001b[0m\u001b[0;34m/\u001b[0m\u001b[0;36m10\u001b[0m\u001b[0;34m)\u001b[0m \u001b[0;32mfor\u001b[0m \u001b[0mi\u001b[0m \u001b[0;32min\u001b[0m \u001b[0mrange\u001b[0m\u001b[0;34m(\u001b[0m\u001b[0mexample_size_\u001b[0m\u001b[0;34m)\u001b[0m\u001b[0;34m)\u001b[0m \u001b[0;32mfor\u001b[0m \u001b[0mdelta\u001b[0m \u001b[0;32min\u001b[0m \u001b[0mrange\u001b[0m\u001b[0;34m(\u001b[0m\u001b[0mexamples_\u001b[0m\u001b[0;34m)\u001b[0m\u001b[0;34m]\u001b[0m\u001b[0;34m\u001b[0m\u001b[0;34m\u001b[0m\u001b[0m\n\u001b[1;32m     13\u001b[0m     \u001b[0mindexes\u001b[0m \u001b[0;34m=\u001b[0m \u001b[0mlist\u001b[0m\u001b[0;34m(\u001b[0m\u001b[0mrange\u001b[0m\u001b[0;34m(\u001b[0m\u001b[0mlen\u001b[0m\u001b[0;34m(\u001b[0m\u001b[0mX\u001b[0m\u001b[0;34m)\u001b[0m\u001b[0;34m)\u001b[0m\u001b[0;34m)\u001b[0m\u001b[0;34m\u001b[0m\u001b[0;34m\u001b[0m\u001b[0m\n",
          "\u001b[0;32m<ipython-input-117-5fdf87159dff>\u001b[0m in \u001b[0;36m<genexpr>\u001b[0;34m(.0)\u001b[0m\n\u001b[1;32m      9\u001b[0m     \u001b[0mbatchsize\u001b[0m \u001b[0;34m=\u001b[0m \u001b[0mbatchsize_\u001b[0m\u001b[0;34m\u001b[0m\u001b[0;34m\u001b[0m\u001b[0m\n\u001b[1;32m     10\u001b[0m     \u001b[0;31m# create some fake data\u001b[0m\u001b[0;34m\u001b[0m\u001b[0;34m\u001b[0m\u001b[0;34m\u001b[0m\u001b[0m\n\u001b[0;32m---> 11\u001b[0;31m     \u001b[0mX\u001b[0m \u001b[0;34m=\u001b[0m \u001b[0;34m[\u001b[0m\u001b[0mlist\u001b[0m\u001b[0;34m(\u001b[0m\u001b[0mnp\u001b[0m\u001b[0;34m.\u001b[0m\u001b[0mrandom\u001b[0m\u001b[0;34m.\u001b[0m\u001b[0mGenerator\u001b[0m\u001b[0;34m.\u001b[0m\u001b[0muniform\u001b[0m\u001b[0;34m(\u001b[0m\u001b[0;34m)\u001b[0m\u001b[0;34m+\u001b[0m\u001b[0;34m(\u001b[0m\u001b[0mdelta\u001b[0m\u001b[0;34m)\u001b[0m \u001b[0;32mfor\u001b[0m \u001b[0mi\u001b[0m \u001b[0;32min\u001b[0m \u001b[0mrange\u001b[0m\u001b[0;34m(\u001b[0m\u001b[0mexample_size_\u001b[0m\u001b[0;34m)\u001b[0m\u001b[0;34m)\u001b[0m \u001b[0;32mfor\u001b[0m \u001b[0mdelta\u001b[0m \u001b[0;32min\u001b[0m \u001b[0mrange\u001b[0m\u001b[0;34m(\u001b[0m\u001b[0mexamples_\u001b[0m\u001b[0;34m)\u001b[0m\u001b[0;34m]\u001b[0m\u001b[0;34m\u001b[0m\u001b[0;34m\u001b[0m\u001b[0m\n\u001b[0m\u001b[1;32m     12\u001b[0m     \u001b[0mY\u001b[0m \u001b[0;34m=\u001b[0m \u001b[0;34m[\u001b[0m\u001b[0mlist\u001b[0m\u001b[0;34m(\u001b[0m\u001b[0mi\u001b[0m\u001b[0;34m+\u001b[0m\u001b[0;34m(\u001b[0m\u001b[0mdelta\u001b[0m\u001b[0;34m/\u001b[0m\u001b[0;36m10\u001b[0m\u001b[0;34m)\u001b[0m \u001b[0;32mfor\u001b[0m \u001b[0mi\u001b[0m \u001b[0;32min\u001b[0m \u001b[0mrange\u001b[0m\u001b[0;34m(\u001b[0m\u001b[0mexample_size_\u001b[0m\u001b[0;34m)\u001b[0m\u001b[0;34m)\u001b[0m \u001b[0;32mfor\u001b[0m \u001b[0mdelta\u001b[0m \u001b[0;32min\u001b[0m \u001b[0mrange\u001b[0m\u001b[0;34m(\u001b[0m\u001b[0mexamples_\u001b[0m\u001b[0;34m)\u001b[0m\u001b[0;34m]\u001b[0m\u001b[0;34m\u001b[0m\u001b[0;34m\u001b[0m\u001b[0m\n\u001b[1;32m     13\u001b[0m     \u001b[0mindexes\u001b[0m \u001b[0;34m=\u001b[0m \u001b[0mlist\u001b[0m\u001b[0;34m(\u001b[0m\u001b[0mrange\u001b[0m\u001b[0;34m(\u001b[0m\u001b[0mlen\u001b[0m\u001b[0;34m(\u001b[0m\u001b[0mX\u001b[0m\u001b[0;34m)\u001b[0m\u001b[0;34m)\u001b[0m\u001b[0;34m)\u001b[0m\u001b[0;34m\u001b[0m\u001b[0;34m\u001b[0m\u001b[0m\n",
          "\u001b[0;31mTypeError\u001b[0m: descriptor 'uniform' of 'numpy.random._generator.Generator' object needs an argument"
         ]
        }
       ]
      }
     },
     "109358b2477e4c8a937a4a991e4fc4fa": {
      "model_module": "@jupyter-widgets/base",
      "model_module_version": "1.2.0",
      "model_name": "LayoutModel",
      "state": {}
     },
     "10d3390cc71a4e8ba7f3fd5f29184825": {
      "model_module": "@jupyter-widgets/controls",
      "model_module_version": "1.5.0",
      "model_name": "VBoxModel",
      "state": {
       "_dom_classes": [
        "widget-interact"
       ],
       "children": [
        "IPY_MODEL_718d13d321f743ed8ffb476e7888b394",
        "IPY_MODEL_a110afdf96564739a968ca9f7e4eab9e"
       ],
       "layout": "IPY_MODEL_bb26cb06c5024830bc8a5b7bc6f8e5da"
      }
     },
     "10d78d115bc04b979696ecc137109793": {
      "model_module": "@jupyter-widgets/controls",
      "model_module_version": "1.5.0",
      "model_name": "DescriptionStyleModel",
      "state": {
       "description_width": ""
      }
     },
     "1104a97c3e1d4dfbbb85fbed178c87a5": {
      "model_module": "@jupyter-widgets/base",
      "model_module_version": "1.2.0",
      "model_name": "LayoutModel",
      "state": {}
     },
     "115088b350494dd08601f46f469126bd": {
      "model_module": "@jupyter-widgets/base",
      "model_module_version": "1.2.0",
      "model_name": "LayoutModel",
      "state": {}
     },
     "1167fbe16f8c40b3969daf65186c3242": {
      "model_module": "@jupyter-widgets/controls",
      "model_module_version": "1.5.0",
      "model_name": "SliderStyleModel",
      "state": {
       "description_width": ""
      }
     },
     "11cae392fe1c42f39115a507ed0ea873": {
      "model_module": "@jupyter-widgets/output",
      "model_module_version": "1.0.0",
      "model_name": "OutputModel",
      "state": {
       "layout": "IPY_MODEL_92e9797201a94bf6822aa518e535fd78",
       "outputs": [
        {
         "ename": "TypeError",
         "evalue": "object of type 'bool' has no len()",
         "output_type": "error",
         "traceback": [
          "\u001b[0;31m---------------------------------------------------------------------------\u001b[0m",
          "\u001b[0;31mTypeError\u001b[0m                                 Traceback (most recent call last)",
          "\u001b[0;32m~/anaconda3/envs/dcmr/lib/python3.8/site-packages/ipywidgets/widgets/interaction.py\u001b[0m in \u001b[0;36mupdate\u001b[0;34m(self, *args)\u001b[0m\n\u001b[1;32m    254\u001b[0m                     \u001b[0mvalue\u001b[0m \u001b[0;34m=\u001b[0m \u001b[0mwidget\u001b[0m\u001b[0;34m.\u001b[0m\u001b[0mget_interact_value\u001b[0m\u001b[0;34m(\u001b[0m\u001b[0;34m)\u001b[0m\u001b[0;34m\u001b[0m\u001b[0;34m\u001b[0m\u001b[0m\n\u001b[1;32m    255\u001b[0m                     \u001b[0mself\u001b[0m\u001b[0;34m.\u001b[0m\u001b[0mkwargs\u001b[0m\u001b[0;34m[\u001b[0m\u001b[0mwidget\u001b[0m\u001b[0;34m.\u001b[0m\u001b[0m_kwarg\u001b[0m\u001b[0;34m]\u001b[0m \u001b[0;34m=\u001b[0m \u001b[0mvalue\u001b[0m\u001b[0;34m\u001b[0m\u001b[0;34m\u001b[0m\u001b[0m\n\u001b[0;32m--> 256\u001b[0;31m                 \u001b[0mself\u001b[0m\u001b[0;34m.\u001b[0m\u001b[0mresult\u001b[0m \u001b[0;34m=\u001b[0m \u001b[0mself\u001b[0m\u001b[0;34m.\u001b[0m\u001b[0mf\u001b[0m\u001b[0;34m(\u001b[0m\u001b[0;34m**\u001b[0m\u001b[0mself\u001b[0m\u001b[0;34m.\u001b[0m\u001b[0mkwargs\u001b[0m\u001b[0;34m)\u001b[0m\u001b[0;34m\u001b[0m\u001b[0;34m\u001b[0m\u001b[0m\n\u001b[0m\u001b[1;32m    257\u001b[0m                 \u001b[0mshow_inline_matplotlib_plots\u001b[0m\u001b[0;34m(\u001b[0m\u001b[0;34m)\u001b[0m\u001b[0;34m\u001b[0m\u001b[0;34m\u001b[0m\u001b[0m\n\u001b[1;32m    258\u001b[0m                 \u001b[0;32mif\u001b[0m \u001b[0mself\u001b[0m\u001b[0;34m.\u001b[0m\u001b[0mauto_display\u001b[0m \u001b[0;32mand\u001b[0m \u001b[0mself\u001b[0m\u001b[0;34m.\u001b[0m\u001b[0mresult\u001b[0m \u001b[0;32mis\u001b[0m \u001b[0;32mnot\u001b[0m \u001b[0;32mNone\u001b[0m\u001b[0;34m:\u001b[0m\u001b[0;34m\u001b[0m\u001b[0;34m\u001b[0m\u001b[0m\n",
          "\u001b[0;32m<ipython-input-76-6f055a4586c9>\u001b[0m in \u001b[0;36mselect_batch\u001b[0;34m(selected_batch)\u001b[0m\n\u001b[1;32m      2\u001b[0m \u001b[0;34m@\u001b[0m\u001b[0minteract\u001b[0m\u001b[0;34m\u001b[0m\u001b[0;34m\u001b[0m\u001b[0m\n\u001b[1;32m      3\u001b[0m \u001b[0;32mdef\u001b[0m \u001b[0mselect_batch\u001b[0m\u001b[0;34m(\u001b[0m\u001b[0mselected_batch\u001b[0m \u001b[0;34m=\u001b[0m \u001b[0;34m(\u001b[0m\u001b[0;36m0\u001b[0m\u001b[0;34m,\u001b[0m\u001b[0mint\u001b[0m\u001b[0;34m(\u001b[0m\u001b[0mnp\u001b[0m\u001b[0;34m.\u001b[0m\u001b[0mfloor\u001b[0m\u001b[0;34m(\u001b[0m\u001b[0mexamples\u001b[0m\u001b[0;34m/\u001b[0m\u001b[0mbatchsize\u001b[0m\u001b[0;34m)\u001b[0m\u001b[0;34m)\u001b[0m\u001b[0;34m-\u001b[0m\u001b[0;36m1\u001b[0m\u001b[0;34m)\u001b[0m\u001b[0;34m)\u001b[0m\u001b[0;34m:\u001b[0m\u001b[0;34m\u001b[0m\u001b[0;34m\u001b[0m\u001b[0m\n\u001b[0;32m----> 4\u001b[0;31m     \u001b[0;32massert\u001b[0m \u001b[0mlen\u001b[0m\u001b[0;34m(\u001b[0m\u001b[0mindexes\u001b[0m \u001b[0;34m==\u001b[0m \u001b[0mexamples\u001b[0m\u001b[0;34m)\u001b[0m\u001b[0;34m\u001b[0m\u001b[0;34m\u001b[0m\u001b[0m\n\u001b[0m\u001b[1;32m      5\u001b[0m     \u001b[0mprint\u001b[0m\u001b[0;34m(\u001b[0m\u001b[0;34m'selected batch: {} of {} with a batchsize of {} and total {} examples'\u001b[0m\u001b[0;34m.\u001b[0m\u001b[0mformat\u001b[0m\u001b[0;34m(\u001b[0m\u001b[0mselected_batch\u001b[0m\u001b[0;34m,\u001b[0m \u001b[0;34m(\u001b[0m\u001b[0mexamples\u001b[0m\u001b[0;34m/\u001b[0m\u001b[0mbatchsize\u001b[0m\u001b[0;34m)\u001b[0m\u001b[0;34m-\u001b[0m\u001b[0;36m1\u001b[0m\u001b[0;34m,\u001b[0m \u001b[0mbatchsize\u001b[0m\u001b[0;34m,\u001b[0m \u001b[0mexamples\u001b[0m\u001b[0;34m)\u001b[0m\u001b[0;34m)\u001b[0m\u001b[0;34m\u001b[0m\u001b[0;34m\u001b[0m\u001b[0m\n\u001b[1;32m      6\u001b[0m     \u001b[0mstart_idx\u001b[0m \u001b[0;34m=\u001b[0m \u001b[0mselected_batch\u001b[0m\u001b[0;34m*\u001b[0m\u001b[0mbatchsize\u001b[0m\u001b[0;34m\u001b[0m\u001b[0;34m\u001b[0m\u001b[0m\n",
          "\u001b[0;31mTypeError\u001b[0m: object of type 'bool' has no len()"
         ]
        }
       ]
      }
     },
     "12c143bc6b844e6da7f2988a77ef7bde": {
      "model_module": "@jupyter-widgets/controls",
      "model_module_version": "1.5.0",
      "model_name": "IntSliderModel",
      "state": {
       "description": "selected_batch",
       "layout": "IPY_MODEL_bc02a0998bed48ef884f201593ac649b",
       "max": 24,
       "style": "IPY_MODEL_78b7bba5579743399a450de55a0243d3",
       "value": 24
      }
     },
     "12c7b278f4ab47e0a2aeb902546ab3c8": {
      "model_module": "@jupyter-widgets/output",
      "model_module_version": "1.0.0",
      "model_name": "OutputModel",
      "state": {
       "layout": "IPY_MODEL_55cefa471a2d4f8c8ce16b2bdd9124d2",
       "outputs": [
        {
         "name": "stdout",
         "output_type": "stream",
         "text": "selected batch: 0 of 4 with a batchsize of 10 and total 50 examples\nstart idx: 0, end idx: 10\n[0, 1, 2, 3, 4, 5, 6, 7, 8, 9]\n"
        },
        {
         "data": {
          "text/plain": "[[[0.6301110411479559,\n   0.6085066823758083,\n   0.6000843257035624,\n   0.12217075635004904],\n  [1.225194236977944,\n   1.2419463288617438,\n   1.8519918378207825,\n   1.9323773738855472],\n  [2.477863362846393,\n   2.495079768528345,\n   2.1384140092691037,\n   2.676056387235792],\n  [3.4829977443276374,\n   3.4292695765916426,\n   3.6503116848384787,\n   3.0221018139435656],\n  [4.198322362520483, 4.379696957134596, 4.036700265408196, 4.4084679088203],\n  [5.742475491037673, 5.375605101256832, 5.371919238808187, 5.38146601336014],\n  [6.150021803376334, 6.867505528379378, 6.82417210658633, 6.9543561201940784],\n  [7.94451013627071, 7.51163421973798, 7.96637800565774, 7.543590441153537],\n  [8.196858835978494, 8.489595986019973, 8.709067095338522, 8.19062225238145],\n  [9.295005672819446,\n   9.582583148045591,\n   9.617227966612905,\n   9.682471309338773]],\n [[0.0, 1.0, 2.0, 3.0],\n  [0.1, 1.1, 2.1, 3.1],\n  [0.2, 1.2, 2.2, 3.2],\n  [0.3, 1.3, 2.3, 3.3],\n  [0.4, 1.4, 2.4, 3.4],\n  [0.5, 1.5, 2.5, 3.5],\n  [0.6, 1.6, 2.6, 3.6],\n  [0.7, 1.7, 2.7, 3.7],\n  [0.8, 1.8, 2.8, 3.8],\n  [0.9, 1.9, 2.9, 3.9]]]"
         },
         "metadata": {},
         "output_type": "display_data"
        }
       ]
      }
     },
     "134d5bc73a5b4fe0ac409d4b741b9d3b": {
      "model_module": "@jupyter-widgets/base",
      "model_module_version": "1.2.0",
      "model_name": "LayoutModel",
      "state": {}
     },
     "13e6db2ad4104e0696629c8fb767c346": {
      "model_module": "@jupyter-widgets/controls",
      "model_module_version": "1.5.0",
      "model_name": "SliderStyleModel",
      "state": {
       "description_width": ""
      }
     },
     "1411c7e5f53f46cb91a039c2364f1533": {
      "model_module": "@jupyter-widgets/base",
      "model_module_version": "1.2.0",
      "model_name": "LayoutModel",
      "state": {}
     },
     "14965953ad4640e38dec17594defc248": {
      "model_module": "@jupyter-widgets/controls",
      "model_module_version": "1.5.0",
      "model_name": "IntSliderModel",
      "state": {
       "description": "selected_batch",
       "layout": "IPY_MODEL_acce704e50ed4aee94e7ab917cede96d",
       "max": 9,
       "style": "IPY_MODEL_7f03f79fb0714226ba0e81132d39fb93",
       "value": 4
      }
     },
     "1504654e48d0488a98ca29452acf83db": {
      "model_module": "@jupyter-widgets/base",
      "model_module_version": "1.2.0",
      "model_name": "LayoutModel",
      "state": {}
     },
     "152813f318ed4071a9044b6ebcb27729": {
      "model_module": "@jupyter-widgets/controls",
      "model_module_version": "1.5.0",
      "model_name": "IntSliderModel",
      "state": {
       "description": "example_size_",
       "layout": "IPY_MODEL_c19d4f50fe984f07b8b8608826375b39",
       "max": 8,
       "min": 1,
       "style": "IPY_MODEL_ad979c04d5614732b734f5811f37fdd8",
       "value": 4
      }
     },
     "152d3275351647a8b0a6b48e8467ee89": {
      "model_module": "@jupyter-widgets/controls",
      "model_module_version": "1.5.0",
      "model_name": "VBoxModel",
      "state": {
       "_dom_classes": [
        "widget-interact"
       ],
       "children": [
        "IPY_MODEL_d02786ea44494e34861920348094a693",
        "IPY_MODEL_97ba0697d3d941b39b83e682201ee545",
        "IPY_MODEL_7f15d2894133407380639e7ebb79e62b",
        "IPY_MODEL_a5dbe250687246ebbf4f64e096c1127c"
       ],
       "layout": "IPY_MODEL_992f56825f5048989f5594a431df40dd"
      }
     },
     "15c1a2850f4a4fe2a1bdae703bade86a": {
      "model_module": "@jupyter-widgets/base",
      "model_module_version": "1.2.0",
      "model_name": "LayoutModel",
      "state": {}
     },
     "15cc663eed1f4030a0dfff95d84ed17e": {
      "model_module": "@jupyter-widgets/base",
      "model_module_version": "1.2.0",
      "model_name": "LayoutModel",
      "state": {}
     },
     "16825e993aed4527b50f5ffbfb6443db": {
      "model_module": "@jupyter-widgets/base",
      "model_module_version": "1.2.0",
      "model_name": "LayoutModel",
      "state": {}
     },
     "16d7d4d7ca0c4a9296cd65d8342c4a96": {
      "model_module": "@jupyter-widgets/controls",
      "model_module_version": "1.5.0",
      "model_name": "SliderStyleModel",
      "state": {
       "description_width": ""
      }
     },
     "16db3ec72a364132b90705411754c782": {
      "model_module": "@jupyter-widgets/controls",
      "model_module_version": "1.5.0",
      "model_name": "IntSliderModel",
      "state": {
       "description": "selected_batch",
       "layout": "IPY_MODEL_7f72ae44790146c99bcc7e88ebb6c1cc",
       "max": 10,
       "style": "IPY_MODEL_0fd9ee60b3b1402791d174a62a1d7715"
      }
     },
     "1700907c3edb4e5aa12fe07c039ed4ea": {
      "model_module": "@jupyter-widgets/controls",
      "model_module_version": "1.5.0",
      "model_name": "VBoxModel",
      "state": {
       "_dom_classes": [
        "widget-interact"
       ],
       "children": [
        "IPY_MODEL_662ab5df92ca4bc4aa50792ee4d719f3",
        "IPY_MODEL_d53b13a24ce74fa68813f89d0878bbc3",
        "IPY_MODEL_671235ffe8104a2f87ea3fdc5924afd4"
       ],
       "layout": "IPY_MODEL_29c841d81d504a23b56503c3782e5ea2"
      }
     },
     "174ec61f311346bf88c4134d7508953c": {
      "model_module": "@jupyter-widgets/base",
      "model_module_version": "1.2.0",
      "model_name": "LayoutModel",
      "state": {}
     },
     "17780554e5354011804ea3871ab75c6d": {
      "model_module": "@jupyter-widgets/base",
      "model_module_version": "1.2.0",
      "model_name": "LayoutModel",
      "state": {}
     },
     "179d354a6400482abb7e54d90d44ca02": {
      "model_module": "@jupyter-widgets/controls",
      "model_module_version": "1.5.0",
      "model_name": "VBoxModel",
      "state": {
       "_dom_classes": [
        "widget-interact"
       ],
       "children": [
        "IPY_MODEL_e197a79b84b04709a0f5e9986e2aca4f",
        "IPY_MODEL_9c583ca6793543a99bdadc53b17428e7",
        "IPY_MODEL_31507f5a898443cc82c47c5aca4d9343"
       ],
       "layout": "IPY_MODEL_07c3620d6b684d0e8e41526ff53bc840"
      }
     },
     "180d9af8707a4a1cb560cbe775804329": {
      "model_module": "@jupyter-widgets/base",
      "model_module_version": "1.2.0",
      "model_name": "LayoutModel",
      "state": {}
     },
     "187dc354438f4e3db1082f16559e0e0c": {
      "model_module": "@jupyter-widgets/controls",
      "model_module_version": "1.5.0",
      "model_name": "SliderStyleModel",
      "state": {
       "description_width": ""
      }
     },
     "18814c920512418a90bbad006a1323dd": {
      "model_module": "@jupyter-widgets/controls",
      "model_module_version": "1.5.0",
      "model_name": "SliderStyleModel",
      "state": {
       "description_width": ""
      }
     },
     "1ac04e1c6aba40ebbdfaf6d80cfa3d93": {
      "model_module": "@jupyter-widgets/base",
      "model_module_version": "1.2.0",
      "model_name": "LayoutModel",
      "state": {}
     },
     "1c24c79853b64517803e70053160a4c0": {
      "model_module": "@jupyter-widgets/output",
      "model_module_version": "1.0.0",
      "model_name": "OutputModel",
      "state": {
       "layout": "IPY_MODEL_afa9e62c6cf74df699b2678367b7ee39"
      }
     },
     "1c376d111c4a4ec19068003277398196": {
      "model_module": "@jupyter-widgets/controls",
      "model_module_version": "1.5.0",
      "model_name": "IntSliderModel",
      "state": {
       "description": "selected_batch",
       "layout": "IPY_MODEL_a73a1e4bdaad419faf1a76da627f2962",
       "max": 4,
       "style": "IPY_MODEL_aa41111d91c1491db55e843559206552",
       "value": 2
      }
     },
     "1d8861c597894361b2fa7eab4df1f675": {
      "model_module": "@jupyter-widgets/base",
      "model_module_version": "1.2.0",
      "model_name": "LayoutModel",
      "state": {}
     },
     "1dab8fb787d44d83b09581643a3110f2": {
      "model_module": "@jupyter-widgets/base",
      "model_module_version": "1.2.0",
      "model_name": "LayoutModel",
      "state": {}
     },
     "1dcd18872bde4a6f9a89bec19734080d": {
      "model_module": "@jupyter-widgets/controls",
      "model_module_version": "1.5.0",
      "model_name": "IntSliderModel",
      "state": {
       "description": "example_size_",
       "layout": "IPY_MODEL_c822de8d346547f6b6e5c2fa1462660c",
       "max": 20,
       "style": "IPY_MODEL_ddcff3062aaa4b289b8f01739fa094ea",
       "value": 2
      }
     },
     "1e114dde7df54ea2b0d45a9c99b6868a": {
      "model_module": "@jupyter-widgets/controls",
      "model_module_version": "1.5.0",
      "model_name": "SliderStyleModel",
      "state": {
       "description_width": ""
      }
     },
     "1e2286ecfb6f4777b67823e08e21a4dc": {
      "model_module": "@jupyter-widgets/output",
      "model_module_version": "1.0.0",
      "model_name": "OutputModel",
      "state": {
       "layout": "IPY_MODEL_816b519242d142f5abe91661e4317b2a",
       "outputs": [
        {
         "name": "stdout",
         "output_type": "stream",
         "text": "selected batch: 26 of 25.0 with a batchsize of 4 and total 100 examples\nstart idx: 100, end idx: 104\n[]\n"
        },
        {
         "data": {
          "text/plain": "[[], []]"
         },
         "metadata": {},
         "output_type": "display_data"
        }
       ]
      }
     },
     "1f169ef5d232488cbb408b2c17db6da6": {
      "model_module": "@jupyter-widgets/output",
      "model_module_version": "1.0.0",
      "model_name": "OutputModel",
      "state": {
       "layout": "IPY_MODEL_1104a97c3e1d4dfbbb85fbed178c87a5",
       "outputs": [
        {
         "name": "stdout",
         "output_type": "stream",
         "text": "selected batch: 2 of 4 with a batchsize of 10 and total 50 examples\nstart idx: 20, end idx: 30\n[20, 21, 22, 23, 24, 25, 26, 27, 28, 29]\n"
        },
        {
         "ename": "NameError",
         "evalue": "name 'pprint' is not defined",
         "output_type": "error",
         "traceback": [
          "\u001b[0;31m---------------------------------------------------------------------------\u001b[0m",
          "\u001b[0;31mNameError\u001b[0m                                 Traceback (most recent call last)",
          "\u001b[0;32m~/anaconda3/envs/dcmr/lib/python3.8/site-packages/ipywidgets/widgets/interaction.py\u001b[0m in \u001b[0;36mupdate\u001b[0;34m(self, *args)\u001b[0m\n\u001b[1;32m    254\u001b[0m                     \u001b[0mvalue\u001b[0m \u001b[0;34m=\u001b[0m \u001b[0mwidget\u001b[0m\u001b[0;34m.\u001b[0m\u001b[0mget_interact_value\u001b[0m\u001b[0;34m(\u001b[0m\u001b[0;34m)\u001b[0m\u001b[0;34m\u001b[0m\u001b[0;34m\u001b[0m\u001b[0m\n\u001b[1;32m    255\u001b[0m                     \u001b[0mself\u001b[0m\u001b[0;34m.\u001b[0m\u001b[0mkwargs\u001b[0m\u001b[0;34m[\u001b[0m\u001b[0mwidget\u001b[0m\u001b[0;34m.\u001b[0m\u001b[0m_kwarg\u001b[0m\u001b[0;34m]\u001b[0m \u001b[0;34m=\u001b[0m \u001b[0mvalue\u001b[0m\u001b[0;34m\u001b[0m\u001b[0;34m\u001b[0m\u001b[0m\n\u001b[0;32m--> 256\u001b[0;31m                 \u001b[0mself\u001b[0m\u001b[0;34m.\u001b[0m\u001b[0mresult\u001b[0m \u001b[0;34m=\u001b[0m \u001b[0mself\u001b[0m\u001b[0;34m.\u001b[0m\u001b[0mf\u001b[0m\u001b[0;34m(\u001b[0m\u001b[0;34m**\u001b[0m\u001b[0mself\u001b[0m\u001b[0;34m.\u001b[0m\u001b[0mkwargs\u001b[0m\u001b[0;34m)\u001b[0m\u001b[0;34m\u001b[0m\u001b[0;34m\u001b[0m\u001b[0m\n\u001b[0m\u001b[1;32m    257\u001b[0m                 \u001b[0mshow_inline_matplotlib_plots\u001b[0m\u001b[0;34m(\u001b[0m\u001b[0;34m)\u001b[0m\u001b[0;34m\u001b[0m\u001b[0;34m\u001b[0m\u001b[0m\n\u001b[1;32m    258\u001b[0m                 \u001b[0;32mif\u001b[0m \u001b[0mself\u001b[0m\u001b[0;34m.\u001b[0m\u001b[0mauto_display\u001b[0m \u001b[0;32mand\u001b[0m \u001b[0mself\u001b[0m\u001b[0;34m.\u001b[0m\u001b[0mresult\u001b[0m \u001b[0;32mis\u001b[0m \u001b[0;32mnot\u001b[0m \u001b[0;32mNone\u001b[0m\u001b[0;34m:\u001b[0m\u001b[0;34m\u001b[0m\u001b[0;34m\u001b[0m\u001b[0m\n",
          "\u001b[0;32m<ipython-input-112-87f831c42e01>\u001b[0m in \u001b[0;36mselect_batch\u001b[0;34m(selected_batch, shuffle_indexes)\u001b[0m\n\u001b[1;32m     16\u001b[0m     \u001b[0mbatch_x\u001b[0m \u001b[0;34m=\u001b[0m \u001b[0;34m[\u001b[0m\u001b[0mX\u001b[0m\u001b[0;34m[\u001b[0m\u001b[0mk\u001b[0m\u001b[0;34m]\u001b[0m \u001b[0;32mfor\u001b[0m \u001b[0mk\u001b[0m \u001b[0;32min\u001b[0m \u001b[0mbatch_indexes\u001b[0m\u001b[0;34m]\u001b[0m\u001b[0;34m\u001b[0m\u001b[0;34m\u001b[0m\u001b[0m\n\u001b[1;32m     17\u001b[0m     \u001b[0mbatch_y\u001b[0m \u001b[0;34m=\u001b[0m \u001b[0;34m[\u001b[0m\u001b[0mY\u001b[0m\u001b[0;34m[\u001b[0m\u001b[0mk\u001b[0m\u001b[0;34m]\u001b[0m \u001b[0;32mfor\u001b[0m \u001b[0mk\u001b[0m \u001b[0;32min\u001b[0m \u001b[0mbatch_indexes\u001b[0m\u001b[0;34m]\u001b[0m\u001b[0;34m\u001b[0m\u001b[0;34m\u001b[0m\u001b[0m\n\u001b[0;32m---> 18\u001b[0;31m     \u001b[0;32mreturn\u001b[0m \u001b[0mpprint\u001b[0m\u001b[0;34m(\u001b[0m\u001b[0;34m[\u001b[0m\u001b[0mbatch_x\u001b[0m\u001b[0;34m,\u001b[0m \u001b[0mbatch_y\u001b[0m\u001b[0;34m]\u001b[0m\u001b[0;34m)\u001b[0m\u001b[0;34m\u001b[0m\u001b[0;34m\u001b[0m\u001b[0m\n\u001b[0m",
          "\u001b[0;31mNameError\u001b[0m: name 'pprint' is not defined"
         ]
        }
       ]
      }
     },
     "1f20e121900c4b3888bb55f30b4a0be9": {
      "model_module": "@jupyter-widgets/controls",
      "model_module_version": "1.5.0",
      "model_name": "VBoxModel",
      "state": {
       "_dom_classes": [
        "widget-interact"
       ],
       "children": [
        "IPY_MODEL_79568fda65184205ab00487f81b3ef15",
        "IPY_MODEL_6937d776034844ddb778ec7261b54c33"
       ],
       "layout": "IPY_MODEL_109358b2477e4c8a937a4a991e4fc4fa"
      }
     },
     "1f283d1f7a4f4302a6384501061bf5ec": {
      "model_module": "@jupyter-widgets/controls",
      "model_module_version": "1.5.0",
      "model_name": "VBoxModel",
      "state": {
       "_dom_classes": [
        "widget-interact"
       ],
       "children": [
        "IPY_MODEL_7fbb17ca105746769363d051fb71310e",
        "IPY_MODEL_b1b8585e074643b38d95165d37d3f10c",
        "IPY_MODEL_c678dc6a71c343e3922dd007ae6e1ef5"
       ],
       "layout": "IPY_MODEL_37a934d7801e49cbb32edeaea8174e2b"
      }
     },
     "1fbfe0fcd38a4817ae0b94fea7855a59": {
      "model_module": "@jupyter-widgets/base",
      "model_module_version": "1.2.0",
      "model_name": "LayoutModel",
      "state": {}
     },
     "2098e19873434443abd715becf62308c": {
      "model_module": "@jupyter-widgets/controls",
      "model_module_version": "1.5.0",
      "model_name": "SliderStyleModel",
      "state": {
       "description_width": ""
      }
     },
     "20f52b3c98644547b47d6bdddaf213fd": {
      "model_module": "@jupyter-widgets/controls",
      "model_module_version": "1.5.0",
      "model_name": "SliderStyleModel",
      "state": {
       "description_width": ""
      }
     },
     "216c3bbadffb40748bac4ebd3614b92d": {
      "model_module": "@jupyter-widgets/base",
      "model_module_version": "1.2.0",
      "model_name": "LayoutModel",
      "state": {}
     },
     "21b043c3e1c646c9bfa5f7b3bb25644e": {
      "model_module": "@jupyter-widgets/base",
      "model_module_version": "1.2.0",
      "model_name": "LayoutModel",
      "state": {}
     },
     "22287e66e28e4059bf23cb761d2ac951": {
      "model_module": "@jupyter-widgets/controls",
      "model_module_version": "1.5.0",
      "model_name": "VBoxModel",
      "state": {
       "_dom_classes": [
        "widget-interact"
       ],
       "children": [
        "IPY_MODEL_deda925023834388b60d4adbac79ead6",
        "IPY_MODEL_3da0bb7b72874a2f8b495d09cd7f13e2"
       ],
       "layout": "IPY_MODEL_81b3268346ec4ad0a7ee39e3ad33fcc9"
      }
     },
     "243d742713a645319da59a357a7842bb": {
      "model_module": "@jupyter-widgets/base",
      "model_module_version": "1.2.0",
      "model_name": "LayoutModel",
      "state": {}
     },
     "245d3c1ef8c74977bc9d124ea0f42475": {
      "model_module": "@jupyter-widgets/controls",
      "model_module_version": "1.5.0",
      "model_name": "SliderStyleModel",
      "state": {
       "description_width": ""
      }
     },
     "24a99cdda46c4f7690e425cb250994cf": {
      "model_module": "@jupyter-widgets/output",
      "model_module_version": "1.0.0",
      "model_name": "OutputModel",
      "state": {
       "layout": "IPY_MODEL_64dc100a6f3b484bb19f8719100c54f4"
      }
     },
     "24ab732f056e4a1e96bdb152a2215f93": {
      "model_module": "@jupyter-widgets/controls",
      "model_module_version": "1.5.0",
      "model_name": "SliderStyleModel",
      "state": {
       "description_width": ""
      }
     },
     "255b464ba989412ba43145ec692ddbf7": {
      "model_module": "@jupyter-widgets/base",
      "model_module_version": "1.2.0",
      "model_name": "LayoutModel",
      "state": {}
     },
     "2577ba078a3f462cbff659e4fe1b6471": {
      "model_module": "@jupyter-widgets/controls",
      "model_module_version": "1.5.0",
      "model_name": "SliderStyleModel",
      "state": {
       "description_width": ""
      }
     },
     "257c4eadd27e40bfaf4314dfbbce7ece": {
      "model_module": "@jupyter-widgets/controls",
      "model_module_version": "1.5.0",
      "model_name": "SliderStyleModel",
      "state": {
       "description_width": ""
      }
     },
     "25a9c5ab56004a5e8362fe5f376271c1": {
      "model_module": "@jupyter-widgets/base",
      "model_module_version": "1.2.0",
      "model_name": "LayoutModel",
      "state": {}
     },
     "25e2e4ae37cd419f81305a9fc0b14eab": {
      "model_module": "@jupyter-widgets/controls",
      "model_module_version": "1.5.0",
      "model_name": "IntSliderModel",
      "state": {
       "description": "selected_batch",
       "layout": "IPY_MODEL_4df953f659f24cf0ae995957e64b36cc",
       "max": 0,
       "style": "IPY_MODEL_9f53b629338b41b78f9f3d7942148f74"
      }
     },
     "2629cc3849944cc7a05d21268fbdbe5d": {
      "model_module": "@jupyter-widgets/base",
      "model_module_version": "1.2.0",
      "model_name": "LayoutModel",
      "state": {}
     },
     "26b7b74bd1d24ae58f4f6c5fc391dc00": {
      "model_module": "@jupyter-widgets/base",
      "model_module_version": "1.2.0",
      "model_name": "LayoutModel",
      "state": {}
     },
     "278867a49cbf4aa7900bc37c91127bbf": {
      "model_module": "@jupyter-widgets/base",
      "model_module_version": "1.2.0",
      "model_name": "LayoutModel",
      "state": {}
     },
     "27e815da133c414a9e9cbe8222e4c103": {
      "model_module": "@jupyter-widgets/controls",
      "model_module_version": "1.5.0",
      "model_name": "SliderStyleModel",
      "state": {
       "description_width": ""
      }
     },
     "282af41108ff40519f59cc8b4b9af691": {
      "model_module": "@jupyter-widgets/controls",
      "model_module_version": "1.5.0",
      "model_name": "IntSliderModel",
      "state": {
       "description": "batchsize_",
       "layout": "IPY_MODEL_57edec22ae884ade83397a78eb463070",
       "max": 20,
       "style": "IPY_MODEL_82e1a3ec27aa4cb8bdf79bb6fbe86a33",
       "value": 10
      }
     },
     "287cbc7ce3704e9ea8d8b7e934627af2": {
      "model_module": "@jupyter-widgets/base",
      "model_module_version": "1.2.0",
      "model_name": "LayoutModel",
      "state": {}
     },
     "290d5f1b4fde4de4bfb93c0d6a5f991b": {
      "model_module": "@jupyter-widgets/base",
      "model_module_version": "1.2.0",
      "model_name": "LayoutModel",
      "state": {}
     },
     "29c841d81d504a23b56503c3782e5ea2": {
      "model_module": "@jupyter-widgets/base",
      "model_module_version": "1.2.0",
      "model_name": "LayoutModel",
      "state": {}
     },
     "29d9c7383f0945709525ced95e13ea35": {
      "model_module": "@jupyter-widgets/base",
      "model_module_version": "1.2.0",
      "model_name": "LayoutModel",
      "state": {}
     },
     "2a873cfc7cda4387b007e45798c7f882": {
      "model_module": "@jupyter-widgets/controls",
      "model_module_version": "1.5.0",
      "model_name": "VBoxModel",
      "state": {
       "_dom_classes": [
        "widget-interact"
       ],
       "children": [
        "IPY_MODEL_96dfdf4fea6d470597fe4ad168462163",
        "IPY_MODEL_d51991c33a124299b2eab4d0524b9bc1",
        "IPY_MODEL_c424b662e7454ac1a5719887f561898e",
        "IPY_MODEL_6b7bc74e8e184d588899bed8c7c5333d"
       ],
       "layout": "IPY_MODEL_9dadd4a5aab2444b97d0127982837b52"
      }
     },
     "2aaa36a29622450990872cb90f617edb": {
      "model_module": "@jupyter-widgets/output",
      "model_module_version": "1.0.0",
      "model_name": "OutputModel",
      "state": {
       "layout": "IPY_MODEL_278867a49cbf4aa7900bc37c91127bbf",
       "outputs": [
        {
         "name": "stdout",
         "output_type": "stream",
         "text": "selected batch: 12 of 24.0 with a batchsize of 4 and total 100 examples\nstart idx: 48, end idx: 52\n[]\n"
        },
        {
         "data": {
          "text/plain": "[[], []]"
         },
         "metadata": {},
         "output_type": "display_data"
        }
       ]
      }
     },
     "2b1df02eec35498db06ddf2f4b34f4e0": {
      "model_module": "@jupyter-widgets/controls",
      "model_module_version": "1.5.0",
      "model_name": "VBoxModel",
      "state": {
       "_dom_classes": [
        "widget-interact"
       ],
       "children": [
        "IPY_MODEL_f642a9a6db294b8abf6be51d392e80fa",
        "IPY_MODEL_cf0544d5b92647d999153557e009019a",
        "IPY_MODEL_51632a4c41df42808a4cd33e93ba5d19",
        "IPY_MODEL_24a99cdda46c4f7690e425cb250994cf"
       ],
       "layout": "IPY_MODEL_fd7bae71c3d347b6b9c62c6240f272a3"
      }
     },
     "2bee165438364253afec3336e26243d7": {
      "model_module": "@jupyter-widgets/controls",
      "model_module_version": "1.5.0",
      "model_name": "IntSliderModel",
      "state": {
       "description": "example_size_",
       "layout": "IPY_MODEL_48e65c38cd6046a7a1610717cee967c2",
       "max": 20,
       "style": "IPY_MODEL_a42eace028884700bc94ac15b4285c84",
       "value": 10
      }
     },
     "2d20bee6d4c844be85f2afe7c902c116": {
      "model_module": "@jupyter-widgets/base",
      "model_module_version": "1.2.0",
      "model_name": "LayoutModel",
      "state": {}
     },
     "2d2e0fb3868a453485362884b3c8146e": {
      "model_module": "@jupyter-widgets/controls",
      "model_module_version": "1.5.0",
      "model_name": "IntSliderModel",
      "state": {
       "description": "selected_batch",
       "layout": "IPY_MODEL_fd7c1c328759474e80db7fd36349033f",
       "max": 4,
       "style": "IPY_MODEL_13e6db2ad4104e0696629c8fb767c346",
       "value": 4
      }
     },
     "2d3bfdb46e4e431d8e86d43a4ef68edb": {
      "model_module": "@jupyter-widgets/controls",
      "model_module_version": "1.5.0",
      "model_name": "SliderStyleModel",
      "state": {
       "description_width": ""
      }
     },
     "2e07fa27111d4ff783aac10d6765ecab": {
      "model_module": "@jupyter-widgets/base",
      "model_module_version": "1.2.0",
      "model_name": "LayoutModel",
      "state": {}
     },
     "2e0e9865e288495e8b83c0b8830938f2": {
      "model_module": "@jupyter-widgets/controls",
      "model_module_version": "1.5.0",
      "model_name": "CheckboxModel",
      "state": {
       "description": "shuffle_indexes",
       "disabled": false,
       "layout": "IPY_MODEL_fa728fda1cb64c058058c9ec482a12da",
       "style": "IPY_MODEL_50c444f319df4cf6aaa6e9d12da3c7a5",
       "value": false
      }
     },
     "2ed243c2f0914bc1a9dbb903fc76ce65": {
      "model_module": "@jupyter-widgets/controls",
      "model_module_version": "1.5.0",
      "model_name": "IntSliderModel",
      "state": {
       "description": "example_size_",
       "layout": "IPY_MODEL_064f50ab411244f2a8fbec9202737094",
       "max": 8,
       "style": "IPY_MODEL_245d3c1ef8c74977bc9d124ea0f42475"
      }
     },
     "2ee6592772544f54820bb2058fca49c7": {
      "model_module": "@jupyter-widgets/controls",
      "model_module_version": "1.5.0",
      "model_name": "SliderStyleModel",
      "state": {
       "description_width": ""
      }
     },
     "2eff70adf78b465a80b7981169bb443f": {
      "model_module": "@jupyter-widgets/base",
      "model_module_version": "1.2.0",
      "model_name": "LayoutModel",
      "state": {}
     },
     "2f1b11f05c324f02b3de805188bf3dbf": {
      "model_module": "@jupyter-widgets/controls",
      "model_module_version": "1.5.0",
      "model_name": "IntSliderModel",
      "state": {
       "description": "examples_",
       "layout": "IPY_MODEL_abd6b19a7e1340838b73fccadae39a90",
       "style": "IPY_MODEL_71ac894f9e5d492881f71b7e55ec37fc",
       "value": 100
      }
     },
     "2fb638f9a72c4306859236f0450644c6": {
      "model_module": "@jupyter-widgets/controls",
      "model_module_version": "1.5.0",
      "model_name": "SliderStyleModel",
      "state": {
       "description_width": ""
      }
     },
     "2fcf027b25404a6090f22876c7e03595": {
      "model_module": "@jupyter-widgets/controls",
      "model_module_version": "1.5.0",
      "model_name": "VBoxModel",
      "state": {
       "_dom_classes": [
        "widget-interact"
       ],
       "children": [
        "IPY_MODEL_690c4dfb6ab84b27b34983ebe92dc593",
        "IPY_MODEL_7423e58b56b44e5f97e6c541799e3e4a"
       ],
       "layout": "IPY_MODEL_115088b350494dd08601f46f469126bd"
      }
     },
     "2fddba67338646468a37cca0ead796a4": {
      "model_module": "@jupyter-widgets/output",
      "model_module_version": "1.0.0",
      "model_name": "OutputModel",
      "state": {
       "layout": "IPY_MODEL_c06fbee7cd0b43cb93db7e235b38767c",
       "outputs": [
        {
         "name": "stdout",
         "output_type": "stream",
         "text": "selected batch: 24 of 25.0 with a batchsize of 4 and total 100 examples\nstart idx: 96, end idx: 100\n[]\n"
        },
        {
         "data": {
          "text/plain": "[[], []]"
         },
         "metadata": {},
         "output_type": "display_data"
        }
       ]
      }
     },
     "2ffad856da064029aee94a2979cc93ae": {
      "model_module": "@jupyter-widgets/controls",
      "model_module_version": "1.5.0",
      "model_name": "IntSliderModel",
      "state": {
       "description": "example_size_",
       "layout": "IPY_MODEL_94a84294ba014d98bdd4c2dfa550e422",
       "max": 20,
       "style": "IPY_MODEL_2098e19873434443abd715becf62308c",
       "value": 10
      }
     },
     "30494310fe444d2d8f8390b5ff6e4f39": {
      "model_module": "@jupyter-widgets/base",
      "model_module_version": "1.2.0",
      "model_name": "LayoutModel",
      "state": {}
     },
     "309103c6464d418386f7c41829730b51": {
      "model_module": "@jupyter-widgets/controls",
      "model_module_version": "1.5.0",
      "model_name": "SliderStyleModel",
      "state": {
       "description_width": ""
      }
     },
     "310473d76c794f52a558b87ffa758839": {
      "model_module": "@jupyter-widgets/controls",
      "model_module_version": "1.5.0",
      "model_name": "DescriptionStyleModel",
      "state": {
       "description_width": ""
      }
     },
     "31507f5a898443cc82c47c5aca4d9343": {
      "model_module": "@jupyter-widgets/output",
      "model_module_version": "1.0.0",
      "model_name": "OutputModel",
      "state": {
       "layout": "IPY_MODEL_26b7b74bd1d24ae58f4f6c5fc391dc00",
       "outputs": [
        {
         "name": "stdout",
         "output_type": "stream",
         "text": "selected batch: 4 of 9 with a batchsize of 10 and total 100 examples\nstart idx: 40, end idx: 50\n[40, 41, 42, 43, 44, 45, 46, 47, 48, 49]\n"
        },
        {
         "data": {
          "text/plain": "[[[400, 401, 402, 403],\n  [410, 411, 412, 413],\n  [420, 421, 422, 423],\n  [430, 431, 432, 433],\n  [440, 441, 442, 443],\n  [450, 451, 452, 453],\n  [460, 461, 462, 463],\n  [470, 471, 472, 473],\n  [480, 481, 482, 483],\n  [490, 491, 492, 493]],\n [[4.0, 5.0, 6.0, 7.0],\n  [4.1, 5.1, 6.1, 7.1],\n  [4.2, 5.2, 6.2, 7.2],\n  [4.3, 5.3, 6.3, 7.3],\n  [4.4, 5.4, 6.4, 7.4],\n  [4.5, 5.5, 6.5, 7.5],\n  [4.6, 5.6, 6.6, 7.6],\n  [4.7, 5.7, 6.7, 7.7],\n  [4.8, 5.8, 6.8, 7.8],\n  [4.9, 5.9, 6.9, 7.9]]]"
         },
         "metadata": {},
         "output_type": "display_data"
        }
       ]
      }
     },
     "31eaab090f264bc98c5ed979dfcd99b0": {
      "model_module": "@jupyter-widgets/base",
      "model_module_version": "1.2.0",
      "model_name": "LayoutModel",
      "state": {}
     },
     "321d634f1ad24ae28c201c5d9ccec687": {
      "model_module": "@jupyter-widgets/controls",
      "model_module_version": "1.5.0",
      "model_name": "DescriptionStyleModel",
      "state": {
       "description_width": ""
      }
     },
     "3259c61a511b43d1adab47a8bcd80d2a": {
      "model_module": "@jupyter-widgets/base",
      "model_module_version": "1.2.0",
      "model_name": "LayoutModel",
      "state": {}
     },
     "330ecaa264164fea86d188c67ba42ab2": {
      "model_module": "@jupyter-widgets/controls",
      "model_module_version": "1.5.0",
      "model_name": "CheckboxModel",
      "state": {
       "description": "shuffle_indexes",
       "disabled": false,
       "layout": "IPY_MODEL_7745015805644976b252c11614ce41dc",
       "style": "IPY_MODEL_f86ea999ba784a06aa286548a5559923",
       "value": false
      }
     },
     "33a1dde14dcc493eac598e41d2ec21c6": {
      "model_module": "@jupyter-widgets/base",
      "model_module_version": "1.2.0",
      "model_name": "LayoutModel",
      "state": {}
     },
     "33b5760889474dc482033de796284af4": {
      "model_module": "@jupyter-widgets/base",
      "model_module_version": "1.2.0",
      "model_name": "LayoutModel",
      "state": {}
     },
     "34474160420c4cb09b1565fe6512369b": {
      "model_module": "@jupyter-widgets/base",
      "model_module_version": "1.2.0",
      "model_name": "LayoutModel",
      "state": {}
     },
     "3514e66839374639867f525151419fcf": {
      "model_module": "@jupyter-widgets/controls",
      "model_module_version": "1.5.0",
      "model_name": "IntSliderModel",
      "state": {
       "description": "selected_batch",
       "layout": "IPY_MODEL_7e7207e4d7f44075a85577596f289194",
       "max": 25,
       "style": "IPY_MODEL_3a1c57c0aff3433aac08ddb15279b11d",
       "value": 12
      }
     },
     "35673dc459f04f208cb5b854d46a98fe": {
      "model_module": "@jupyter-widgets/controls",
      "model_module_version": "1.5.0",
      "model_name": "SliderStyleModel",
      "state": {
       "description_width": ""
      }
     },
     "3575622ce7ff4d2c88b6015add9eaa0c": {
      "model_module": "@jupyter-widgets/controls",
      "model_module_version": "1.5.0",
      "model_name": "CheckboxModel",
      "state": {
       "description": "shuffle_indexes",
       "disabled": false,
       "layout": "IPY_MODEL_ad4c3e196e5d497e8197f9d1573a8c6e",
       "style": "IPY_MODEL_310473d76c794f52a558b87ffa758839",
       "value": false
      }
     },
     "37870ac819fa4651b2f4be8dd483cb6a": {
      "model_module": "@jupyter-widgets/controls",
      "model_module_version": "1.5.0",
      "model_name": "SliderStyleModel",
      "state": {
       "description_width": ""
      }
     },
     "37a934d7801e49cbb32edeaea8174e2b": {
      "model_module": "@jupyter-widgets/base",
      "model_module_version": "1.2.0",
      "model_name": "LayoutModel",
      "state": {}
     },
     "3862fc6b61ea463d8f168ae02cc17f24": {
      "model_module": "@jupyter-widgets/output",
      "model_module_version": "1.0.0",
      "model_name": "OutputModel",
      "state": {
       "layout": "IPY_MODEL_cc5ebda3b2254c16b2c2f1a4b3384d47",
       "outputs": [
        {
         "name": "stdout",
         "output_type": "stream",
         "text": "selected batch: 24 of 25.0 with a batchsize of 4 and total 100 examples\nstart idx: 96, end idx: 100\n[]\n"
        },
        {
         "data": {
          "text/plain": "[[], []]"
         },
         "metadata": {},
         "output_type": "display_data"
        }
       ]
      }
     },
     "3871a5c539ba45c3986068ad41102c47": {
      "model_module": "@jupyter-widgets/controls",
      "model_module_version": "1.5.0",
      "model_name": "IntSliderModel",
      "state": {
       "description": "selected_batch",
       "layout": "IPY_MODEL_bd4945a4e9e74c8384035c951e8d7ee1",
       "max": 4,
       "style": "IPY_MODEL_e976ee2f1e0d4f1783177e248477860c",
       "value": 2
      }
     },
     "387f179a857748429f65ecda0a36ec49": {
      "model_module": "@jupyter-widgets/base",
      "model_module_version": "1.2.0",
      "model_name": "LayoutModel",
      "state": {}
     },
     "38c3fdbf1d7647c3b9661603989492c7": {
      "model_module": "@jupyter-widgets/output",
      "model_module_version": "1.0.0",
      "model_name": "OutputModel",
      "state": {
       "layout": "IPY_MODEL_b83c6d23326243cda96b8fcc58cb159b",
       "outputs": [
        {
         "ename": "TypeError",
         "evalue": "object of type 'bool' has no len()",
         "output_type": "error",
         "traceback": [
          "\u001b[0;31m---------------------------------------------------------------------------\u001b[0m",
          "\u001b[0;31mTypeError\u001b[0m                                 Traceback (most recent call last)",
          "\u001b[0;32m~/anaconda3/envs/dcmr/lib/python3.8/site-packages/ipywidgets/widgets/interaction.py\u001b[0m in \u001b[0;36mupdate\u001b[0;34m(self, *args)\u001b[0m\n\u001b[1;32m    254\u001b[0m                     \u001b[0mvalue\u001b[0m \u001b[0;34m=\u001b[0m \u001b[0mwidget\u001b[0m\u001b[0;34m.\u001b[0m\u001b[0mget_interact_value\u001b[0m\u001b[0;34m(\u001b[0m\u001b[0;34m)\u001b[0m\u001b[0;34m\u001b[0m\u001b[0;34m\u001b[0m\u001b[0m\n\u001b[1;32m    255\u001b[0m                     \u001b[0mself\u001b[0m\u001b[0;34m.\u001b[0m\u001b[0mkwargs\u001b[0m\u001b[0;34m[\u001b[0m\u001b[0mwidget\u001b[0m\u001b[0;34m.\u001b[0m\u001b[0m_kwarg\u001b[0m\u001b[0;34m]\u001b[0m \u001b[0;34m=\u001b[0m \u001b[0mvalue\u001b[0m\u001b[0;34m\u001b[0m\u001b[0;34m\u001b[0m\u001b[0m\n\u001b[0;32m--> 256\u001b[0;31m                 \u001b[0mself\u001b[0m\u001b[0;34m.\u001b[0m\u001b[0mresult\u001b[0m \u001b[0;34m=\u001b[0m \u001b[0mself\u001b[0m\u001b[0;34m.\u001b[0m\u001b[0mf\u001b[0m\u001b[0;34m(\u001b[0m\u001b[0;34m**\u001b[0m\u001b[0mself\u001b[0m\u001b[0;34m.\u001b[0m\u001b[0mkwargs\u001b[0m\u001b[0;34m)\u001b[0m\u001b[0;34m\u001b[0m\u001b[0;34m\u001b[0m\u001b[0m\n\u001b[0m\u001b[1;32m    257\u001b[0m                 \u001b[0mshow_inline_matplotlib_plots\u001b[0m\u001b[0;34m(\u001b[0m\u001b[0;34m)\u001b[0m\u001b[0;34m\u001b[0m\u001b[0;34m\u001b[0m\u001b[0m\n\u001b[1;32m    258\u001b[0m                 \u001b[0;32mif\u001b[0m \u001b[0mself\u001b[0m\u001b[0;34m.\u001b[0m\u001b[0mauto_display\u001b[0m \u001b[0;32mand\u001b[0m \u001b[0mself\u001b[0m\u001b[0;34m.\u001b[0m\u001b[0mresult\u001b[0m \u001b[0;32mis\u001b[0m \u001b[0;32mnot\u001b[0m \u001b[0;32mNone\u001b[0m\u001b[0;34m:\u001b[0m\u001b[0;34m\u001b[0m\u001b[0;34m\u001b[0m\u001b[0m\n",
          "\u001b[0;32m<ipython-input-78-6f055a4586c9>\u001b[0m in \u001b[0;36mselect_batch\u001b[0;34m(selected_batch)\u001b[0m\n\u001b[1;32m      2\u001b[0m \u001b[0;34m@\u001b[0m\u001b[0minteract\u001b[0m\u001b[0;34m\u001b[0m\u001b[0;34m\u001b[0m\u001b[0m\n\u001b[1;32m      3\u001b[0m \u001b[0;32mdef\u001b[0m \u001b[0mselect_batch\u001b[0m\u001b[0;34m(\u001b[0m\u001b[0mselected_batch\u001b[0m \u001b[0;34m=\u001b[0m \u001b[0;34m(\u001b[0m\u001b[0;36m0\u001b[0m\u001b[0;34m,\u001b[0m\u001b[0mint\u001b[0m\u001b[0;34m(\u001b[0m\u001b[0mnp\u001b[0m\u001b[0;34m.\u001b[0m\u001b[0mfloor\u001b[0m\u001b[0;34m(\u001b[0m\u001b[0mexamples\u001b[0m\u001b[0;34m/\u001b[0m\u001b[0mbatchsize\u001b[0m\u001b[0;34m)\u001b[0m\u001b[0;34m)\u001b[0m\u001b[0;34m-\u001b[0m\u001b[0;36m1\u001b[0m\u001b[0;34m)\u001b[0m\u001b[0;34m)\u001b[0m\u001b[0;34m:\u001b[0m\u001b[0;34m\u001b[0m\u001b[0;34m\u001b[0m\u001b[0m\n\u001b[0;32m----> 4\u001b[0;31m     \u001b[0;32massert\u001b[0m \u001b[0mlen\u001b[0m\u001b[0;34m(\u001b[0m\u001b[0mindexes\u001b[0m \u001b[0;34m==\u001b[0m \u001b[0mexamples\u001b[0m\u001b[0;34m)\u001b[0m\u001b[0;34m\u001b[0m\u001b[0;34m\u001b[0m\u001b[0m\n\u001b[0m\u001b[1;32m      5\u001b[0m     \u001b[0mprint\u001b[0m\u001b[0;34m(\u001b[0m\u001b[0;34m'selected batch: {} of {} with a batchsize of {} and total {} examples'\u001b[0m\u001b[0;34m.\u001b[0m\u001b[0mformat\u001b[0m\u001b[0;34m(\u001b[0m\u001b[0mselected_batch\u001b[0m\u001b[0;34m,\u001b[0m \u001b[0;34m(\u001b[0m\u001b[0mexamples\u001b[0m\u001b[0;34m/\u001b[0m\u001b[0mbatchsize\u001b[0m\u001b[0;34m)\u001b[0m\u001b[0;34m-\u001b[0m\u001b[0;36m1\u001b[0m\u001b[0;34m,\u001b[0m \u001b[0mbatchsize\u001b[0m\u001b[0;34m,\u001b[0m \u001b[0mexamples\u001b[0m\u001b[0;34m)\u001b[0m\u001b[0;34m)\u001b[0m\u001b[0;34m\u001b[0m\u001b[0;34m\u001b[0m\u001b[0m\n\u001b[1;32m      6\u001b[0m     \u001b[0mstart_idx\u001b[0m \u001b[0;34m=\u001b[0m \u001b[0mselected_batch\u001b[0m\u001b[0;34m*\u001b[0m\u001b[0mbatchsize\u001b[0m\u001b[0;34m\u001b[0m\u001b[0;34m\u001b[0m\u001b[0m\n",
          "\u001b[0;31mTypeError\u001b[0m: object of type 'bool' has no len()"
         ]
        }
       ]
      }
     },
     "398c4f0eade84574a363df739ea47d08": {
      "model_module": "@jupyter-widgets/controls",
      "model_module_version": "1.5.0",
      "model_name": "SliderStyleModel",
      "state": {
       "description_width": ""
      }
     },
     "39a8849283b4487182c0f84f2099bd37": {
      "model_module": "@jupyter-widgets/base",
      "model_module_version": "1.2.0",
      "model_name": "LayoutModel",
      "state": {}
     },
     "3a1c57c0aff3433aac08ddb15279b11d": {
      "model_module": "@jupyter-widgets/controls",
      "model_module_version": "1.5.0",
      "model_name": "SliderStyleModel",
      "state": {
       "description_width": ""
      }
     },
     "3ab674d5f2244b63ae79e6a2b3f0f236": {
      "model_module": "@jupyter-widgets/base",
      "model_module_version": "1.2.0",
      "model_name": "LayoutModel",
      "state": {}
     },
     "3be4ef6dbeae4aae988a03ecaf910968": {
      "model_module": "@jupyter-widgets/controls",
      "model_module_version": "1.5.0",
      "model_name": "SliderStyleModel",
      "state": {
       "description_width": ""
      }
     },
     "3c7e0b1cc05c4734881e845cdae56677": {
      "model_module": "@jupyter-widgets/controls",
      "model_module_version": "1.5.0",
      "model_name": "VBoxModel",
      "state": {
       "_dom_classes": [
        "widget-interact"
       ],
       "children": [
        "IPY_MODEL_4368ad93a3fb46c8990d677d13daf8bd",
        "IPY_MODEL_f49afdf3383f46c3a77490bd3a96f1f8"
       ],
       "layout": "IPY_MODEL_90c4328b4d7e4b0a8b35f708e4536a6f"
      }
     },
     "3c82639003d4412c844a8268956d5418": {
      "model_module": "@jupyter-widgets/controls",
      "model_module_version": "1.5.0",
      "model_name": "VBoxModel",
      "state": {
       "_dom_classes": [
        "widget-interact"
       ],
       "children": [
        "IPY_MODEL_12c143bc6b844e6da7f2988a77ef7bde",
        "IPY_MODEL_3862fc6b61ea463d8f168ae02cc17f24"
       ],
       "layout": "IPY_MODEL_5d4ab9455db348f8a8dd8f40ecbdfeaf"
      }
     },
     "3c9943eb25a346f7939d090abdb49185": {
      "model_module": "@jupyter-widgets/controls",
      "model_module_version": "1.5.0",
      "model_name": "VBoxModel",
      "state": {
       "_dom_classes": [
        "widget-interact"
       ],
       "children": [
        "IPY_MODEL_41f4d31cc36f412ebcaec0ecb553173e",
        "IPY_MODEL_2fddba67338646468a37cca0ead796a4"
       ],
       "layout": "IPY_MODEL_6693b83b37504e12bbed0b244583100e"
      }
     },
     "3cde21945b6a4a98affdf0a6b128d1a0": {
      "model_module": "@jupyter-widgets/base",
      "model_module_version": "1.2.0",
      "model_name": "LayoutModel",
      "state": {}
     },
     "3ce2a1cdb48d47b79f57b4eb75ec5485": {
      "model_module": "@jupyter-widgets/base",
      "model_module_version": "1.2.0",
      "model_name": "LayoutModel",
      "state": {}
     },
     "3d02885464fd47f0af8495f74cc9903b": {
      "model_module": "@jupyter-widgets/base",
      "model_module_version": "1.2.0",
      "model_name": "LayoutModel",
      "state": {}
     },
     "3d29a16359114708a714aaff2941a076": {
      "model_module": "@jupyter-widgets/base",
      "model_module_version": "1.2.0",
      "model_name": "LayoutModel",
      "state": {}
     },
     "3d2cb11876b14f448bc7b874582fe93b": {
      "model_module": "@jupyter-widgets/base",
      "model_module_version": "1.2.0",
      "model_name": "LayoutModel",
      "state": {}
     },
     "3d5832ad5b9a46ce8affe4bbb685add5": {
      "model_module": "@jupyter-widgets/output",
      "model_module_version": "1.0.0",
      "model_name": "OutputModel",
      "state": {
       "layout": "IPY_MODEL_8a322d94aa1340d7be300b872f8fbf26",
       "outputs": [
        {
         "name": "stdout",
         "output_type": "stream",
         "text": "selected batch: 25 of 25.0 with a batchsize of 4 and total 100 examples\nstart idx: 96, end idx: 100\n[]\n"
        },
        {
         "data": {
          "text/plain": "[[], []]"
         },
         "metadata": {},
         "output_type": "display_data"
        }
       ]
      }
     },
     "3da0bb7b72874a2f8b495d09cd7f13e2": {
      "model_module": "@jupyter-widgets/output",
      "model_module_version": "1.0.0",
      "model_name": "OutputModel",
      "state": {
       "layout": "IPY_MODEL_3dd2ce8e82b64ac3a40022e317fe3af1",
       "outputs": [
        {
         "name": "stdout",
         "output_type": "stream",
         "text": "[0, 1, 2, 3, 4, 5, 6, 7, 8, 9]\n"
        },
        {
         "data": {
          "text/plain": "[[[0, 1, 2, 3, 4],\n  [10, 11, 12, 13, 14],\n  [20, 21, 22, 23, 24],\n  [30, 31, 32, 33, 34],\n  [40, 41, 42, 43, 44],\n  [50, 51, 52, 53, 54],\n  [60, 61, 62, 63, 64],\n  [70, 71, 72, 73, 74],\n  [80, 81, 82, 83, 84],\n  [90, 91, 92, 93, 94]],\n [[0.0, 1.0, 2.0, 3.0, 4.0],\n  [0.1, 1.1, 2.1, 3.1, 4.1],\n  [0.2, 1.2, 2.2, 3.2, 4.2],\n  [0.3, 1.3, 2.3, 3.3, 4.3],\n  [0.4, 1.4, 2.4, 3.4, 4.4],\n  [0.5, 1.5, 2.5, 3.5, 4.5],\n  [0.6, 1.6, 2.6, 3.6, 4.6],\n  [0.7, 1.7, 2.7, 3.7, 4.7],\n  [0.8, 1.8, 2.8, 3.8, 4.8],\n  [0.9, 1.9, 2.9, 3.9, 4.9]]]"
         },
         "metadata": {},
         "output_type": "display_data"
        }
       ]
      }
     },
     "3dd2ce8e82b64ac3a40022e317fe3af1": {
      "model_module": "@jupyter-widgets/base",
      "model_module_version": "1.2.0",
      "model_name": "LayoutModel",
      "state": {}
     },
     "3e60c56323fc4e5fad187e891df000bc": {
      "model_module": "@jupyter-widgets/controls",
      "model_module_version": "1.5.0",
      "model_name": "IntSliderModel",
      "state": {
       "description": "selected_batch",
       "layout": "IPY_MODEL_04c92a0e797b494c91d8560398dd5eb3",
       "max": 9,
       "style": "IPY_MODEL_8effd7bdf6a147e39a2e6c1daf2c62fb",
       "value": 4
      }
     },
     "3ea3df74b0f548b9a4b6325e10324fae": {
      "model_module": "@jupyter-widgets/controls",
      "model_module_version": "1.5.0",
      "model_name": "SliderStyleModel",
      "state": {
       "description_width": ""
      }
     },
     "3ee7cd938e104aed8e560fd1885adfee": {
      "model_module": "@jupyter-widgets/controls",
      "model_module_version": "1.5.0",
      "model_name": "IntSliderModel",
      "state": {
       "description": "examples_",
       "layout": "IPY_MODEL_699433a507a04b428758e907a3e894e0",
       "style": "IPY_MODEL_ddf62665293c402499cf99245b26f496",
       "value": 100
      }
     },
     "405548bbb36e4fc88fb06787dedb26cd": {
      "model_module": "@jupyter-widgets/controls",
      "model_module_version": "1.5.0",
      "model_name": "SliderStyleModel",
      "state": {
       "description_width": ""
      }
     },
     "40807d18b7c64407a4e2b99731cda167": {
      "model_module": "@jupyter-widgets/controls",
      "model_module_version": "1.5.0",
      "model_name": "SliderStyleModel",
      "state": {
       "description_width": ""
      }
     },
     "408dc8eafc7149b99a6043116c73b75d": {
      "model_module": "@jupyter-widgets/base",
      "model_module_version": "1.2.0",
      "model_name": "LayoutModel",
      "state": {}
     },
     "40c778fd8a8049c589607515f2e69926": {
      "model_module": "@jupyter-widgets/controls",
      "model_module_version": "1.5.0",
      "model_name": "SliderStyleModel",
      "state": {
       "description_width": ""
      }
     },
     "4127ea54fc47425eb6b574279d27419b": {
      "model_module": "@jupyter-widgets/controls",
      "model_module_version": "1.5.0",
      "model_name": "VBoxModel",
      "state": {
       "_dom_classes": [
        "widget-interact"
       ],
       "children": [
        "IPY_MODEL_2f1b11f05c324f02b3de805188bf3dbf",
        "IPY_MODEL_1dcd18872bde4a6f9a89bec19734080d",
        "IPY_MODEL_9fc1e1a8841c4fb5959e9ffac0a4752f",
        "IPY_MODEL_ed65accd25ac4ffebb47ec25e86b2339"
       ],
       "layout": "IPY_MODEL_9c2c7d953c49478aba29516c66b5ae99"
      }
     },
     "41f4d31cc36f412ebcaec0ecb553173e": {
      "model_module": "@jupyter-widgets/controls",
      "model_module_version": "1.5.0",
      "model_name": "IntSliderModel",
      "state": {
       "description": "selected_batch",
       "layout": "IPY_MODEL_174ec61f311346bf88c4134d7508953c",
       "max": 24,
       "style": "IPY_MODEL_2577ba078a3f462cbff659e4fe1b6471",
       "value": 24
      }
     },
     "4224c1dde5fe4685a66c5925869ee58d": {
      "model_module": "@jupyter-widgets/controls",
      "model_module_version": "1.5.0",
      "model_name": "SliderStyleModel",
      "state": {
       "description_width": ""
      }
     },
     "42cd44a0ee9e4cf79829be71ec2d72c6": {
      "model_module": "@jupyter-widgets/controls",
      "model_module_version": "1.5.0",
      "model_name": "SliderStyleModel",
      "state": {
       "description_width": ""
      }
     },
     "4368ad93a3fb46c8990d677d13daf8bd": {
      "model_module": "@jupyter-widgets/controls",
      "model_module_version": "1.5.0",
      "model_name": "IntSliderModel",
      "state": {
       "description": "selected_batch",
       "layout": "IPY_MODEL_7a70b3886a254383b8b793e9fc245caf",
       "max": 10,
       "style": "IPY_MODEL_06d7fa141a2f454f9834366d468d2354",
       "value": 5
      }
     },
     "4407f6bf95e944bd860a03fce042fba1": {
      "model_module": "@jupyter-widgets/output",
      "model_module_version": "1.0.0",
      "model_name": "OutputModel",
      "state": {
       "layout": "IPY_MODEL_7a4df2b3c160429f87ec449bc09f4b6d"
      }
     },
     "4432c9109eaf4487a30bdd9e0d7371b8": {
      "model_module": "@jupyter-widgets/base",
      "model_module_version": "1.2.0",
      "model_name": "LayoutModel",
      "state": {}
     },
     "44b2664fcd9948c2b50639a6d2eca5e9": {
      "model_module": "@jupyter-widgets/base",
      "model_module_version": "1.2.0",
      "model_name": "LayoutModel",
      "state": {}
     },
     "4581678ffd5f46ab88d1cf15724be818": {
      "model_module": "@jupyter-widgets/controls",
      "model_module_version": "1.5.0",
      "model_name": "SliderStyleModel",
      "state": {
       "description_width": ""
      }
     },
     "45b5c4de4a38470694d206d603d37bd7": {
      "model_module": "@jupyter-widgets/controls",
      "model_module_version": "1.5.0",
      "model_name": "SliderStyleModel",
      "state": {
       "description_width": ""
      }
     },
     "46ecc0bcc3244ab58f68f10abb178718": {
      "model_module": "@jupyter-widgets/controls",
      "model_module_version": "1.5.0",
      "model_name": "VBoxModel",
      "state": {
       "_dom_classes": [
        "widget-interact"
       ],
       "children": [
        "IPY_MODEL_cc74503d21c54641ae0dc965298b8752",
        "IPY_MODEL_f6901e53f4be4153b45afe7d1e83072d",
        "IPY_MODEL_282af41108ff40519f59cc8b4b9af691",
        "IPY_MODEL_4f25d336ee944d6bb316a03651c5cd9a"
       ],
       "layout": "IPY_MODEL_9b3b984d810044dd9fe4ee54712b85a5"
      }
     },
     "4730b197f6834a738458d546d4bb759b": {
      "model_module": "@jupyter-widgets/controls",
      "model_module_version": "1.5.0",
      "model_name": "DescriptionStyleModel",
      "state": {
       "description_width": ""
      }
     },
     "475d1cbae82d4ea2af3e5c7b28815d1e": {
      "model_module": "@jupyter-widgets/output",
      "model_module_version": "1.0.0",
      "model_name": "OutputModel",
      "state": {
       "layout": "IPY_MODEL_9a8628dd68dd4740a04bfba254caca48",
       "outputs": [
        {
         "name": "stdout",
         "output_type": "stream",
         "text": "selected batch: 9 of 9 with a batchsize of 10 and total 100 examples\nstart idx: 90, end idx: 100\n[90, 91, 92, 93, 94, 95, 96, 97, 98, 99]\n"
        },
        {
         "data": {
          "text/plain": "[[[900, 901, 902, 903],\n  [910, 911, 912, 913],\n  [920, 921, 922, 923],\n  [930, 931, 932, 933],\n  [940, 941, 942, 943],\n  [950, 951, 952, 953],\n  [960, 961, 962, 963],\n  [970, 971, 972, 973],\n  [980, 981, 982, 983],\n  [990, 991, 992, 993]],\n [[9.0, 10.0, 11.0, 12.0],\n  [9.1, 10.1, 11.1, 12.1],\n  [9.2, 10.2, 11.2, 12.2],\n  [9.3, 10.3, 11.3, 12.3],\n  [9.4, 10.4, 11.4, 12.4],\n  [9.5, 10.5, 11.5, 12.5],\n  [9.6, 10.6, 11.6, 12.6],\n  [9.7, 10.7, 11.7, 12.7],\n  [9.8, 10.8, 11.8, 12.8],\n  [9.9, 10.9, 11.9, 12.9]]]"
         },
         "metadata": {},
         "output_type": "display_data"
        }
       ]
      }
     },
     "4818582f0a5349e9a89d9d1e0cb94011": {
      "model_module": "@jupyter-widgets/base",
      "model_module_version": "1.2.0",
      "model_name": "LayoutModel",
      "state": {}
     },
     "48d12f332d8b4d719cff38f69a21396b": {
      "model_module": "@jupyter-widgets/base",
      "model_module_version": "1.2.0",
      "model_name": "LayoutModel",
      "state": {}
     },
     "48e65c38cd6046a7a1610717cee967c2": {
      "model_module": "@jupyter-widgets/base",
      "model_module_version": "1.2.0",
      "model_name": "LayoutModel",
      "state": {}
     },
     "495e8b294fb44c40bdd3c107f2b37540": {
      "model_module": "@jupyter-widgets/controls",
      "model_module_version": "1.5.0",
      "model_name": "IntSliderModel",
      "state": {
       "description": "selected_batch",
       "layout": "IPY_MODEL_a769a04e2c0a4ccd96ce4268db614f85",
       "max": 25,
       "style": "IPY_MODEL_b9519ac5656c4c76b68e4acac2d1a537",
       "value": 23
      }
     },
     "498f57f02c7741aea8dd9d7f675c5959": {
      "model_module": "@jupyter-widgets/controls",
      "model_module_version": "1.5.0",
      "model_name": "IntSliderModel",
      "state": {
       "description": "examples_",
       "layout": "IPY_MODEL_e5d33ac8e5e84bfda4a2d99a9fbec859",
       "style": "IPY_MODEL_57b5cf3ef2d94e13bc8c825a2b2a5ef5",
       "value": 50
      }
     },
     "4c9bd9be257f4c3bba5c461337a1acad": {
      "model_module": "@jupyter-widgets/controls",
      "model_module_version": "1.5.0",
      "model_name": "SliderStyleModel",
      "state": {
       "description_width": ""
      }
     },
     "4cdbc6f6c7b84307aa0ef4979a6bbf82": {
      "model_module": "@jupyter-widgets/controls",
      "model_module_version": "1.5.0",
      "model_name": "VBoxModel",
      "state": {
       "_dom_classes": [
        "widget-interact"
       ],
       "children": [
        "IPY_MODEL_83386e3565944a6fa142f4d5547521f3",
        "IPY_MODEL_a2ef965d95654bac936aadc9c9db312a",
        "IPY_MODEL_0cc1b6343f304719acb3ea18259b7cfd"
       ],
       "layout": "IPY_MODEL_65ec17b217ef4f5aa3e01942b213ad12"
      }
     },
     "4d16a5b32b0c41bea3bcc71ac62c450d": {
      "model_module": "@jupyter-widgets/controls",
      "model_module_version": "1.5.0",
      "model_name": "DescriptionStyleModel",
      "state": {
       "description_width": ""
      }
     },
     "4df953f659f24cf0ae995957e64b36cc": {
      "model_module": "@jupyter-widgets/base",
      "model_module_version": "1.2.0",
      "model_name": "LayoutModel",
      "state": {}
     },
     "4e99c1044c9848a19995ff4b31e75efe": {
      "model_module": "@jupyter-widgets/base",
      "model_module_version": "1.2.0",
      "model_name": "LayoutModel",
      "state": {}
     },
     "4f25d336ee944d6bb316a03651c5cd9a": {
      "model_module": "@jupyter-widgets/output",
      "model_module_version": "1.0.0",
      "model_name": "OutputModel",
      "state": {
       "layout": "IPY_MODEL_de362b90ad10447caea7d200568444f9"
      }
     },
     "4fb0494167d4462687f8a22b3a7826d6": {
      "model_module": "@jupyter-widgets/controls",
      "model_module_version": "1.5.0",
      "model_name": "IntSliderModel",
      "state": {
       "description": "examples_",
       "layout": "IPY_MODEL_3d29a16359114708a714aaff2941a076",
       "min": 1,
       "style": "IPY_MODEL_ffb07b2f0ee941ab9814e3d537696461",
       "value": 50
      }
     },
     "4fc55b55f86f444f82da2b6c783e8861": {
      "model_module": "@jupyter-widgets/controls",
      "model_module_version": "1.5.0",
      "model_name": "SliderStyleModel",
      "state": {
       "description_width": ""
      }
     },
     "4fcd92e23bca4a99b880f60009c8ca5a": {
      "model_module": "@jupyter-widgets/base",
      "model_module_version": "1.2.0",
      "model_name": "LayoutModel",
      "state": {}
     },
     "50b420222ffa42cfb93c54c9048d2777": {
      "model_module": "@jupyter-widgets/controls",
      "model_module_version": "1.5.0",
      "model_name": "IntSliderModel",
      "state": {
       "description": "example_size_",
       "layout": "IPY_MODEL_56766a4504654b64b4d7cb377049a489",
       "max": 8,
       "min": 1,
       "style": "IPY_MODEL_583b97941a224f9282775a85606dd44e",
       "value": 4
      }
     },
     "50c444f319df4cf6aaa6e9d12da3c7a5": {
      "model_module": "@jupyter-widgets/controls",
      "model_module_version": "1.5.0",
      "model_name": "DescriptionStyleModel",
      "state": {
       "description_width": ""
      }
     },
     "51632a4c41df42808a4cd33e93ba5d19": {
      "model_module": "@jupyter-widgets/controls",
      "model_module_version": "1.5.0",
      "model_name": "IntSliderModel",
      "state": {
       "description": "batchsize_",
       "layout": "IPY_MODEL_3259c61a511b43d1adab47a8bcd80d2a",
       "max": 20,
       "min": 1,
       "style": "IPY_MODEL_735a64df1637493b8a7d5891b21d2737",
       "value": 1
      }
     },
     "51817b2bb552463495bbe80cea80085d": {
      "model_module": "@jupyter-widgets/controls",
      "model_module_version": "1.5.0",
      "model_name": "IntSliderModel",
      "state": {
       "description": "batchsize_",
       "layout": "IPY_MODEL_8772e8cc6a4f4d73a8a57923dd10cf45",
       "max": 20,
       "min": 1,
       "style": "IPY_MODEL_75c37d910c7346b69adee43e469824ef",
       "value": 10
      }
     },
     "531c1dc5a7704000a75ffb1eb8603956": {
      "model_module": "@jupyter-widgets/controls",
      "model_module_version": "1.5.0",
      "model_name": "IntSliderModel",
      "state": {
       "description": "selected_batch",
       "layout": "IPY_MODEL_c1cc1643efc84a0a97b78c88125d44af",
       "max": 25,
       "style": "IPY_MODEL_840ba56684c0468b9136e8bcd79704ba",
       "value": 12
      }
     },
     "5325118e4ad1411eac01991b9edfb206": {
      "model_module": "@jupyter-widgets/output",
      "model_module_version": "1.0.0",
      "model_name": "OutputModel",
      "state": {
       "layout": "IPY_MODEL_1dab8fb787d44d83b09581643a3110f2",
       "outputs": [
        {
         "name": "stdout",
         "output_type": "stream",
         "text": "selected batch: 23 of 25.0 from total 100 examples\nstart idx: 92, end idx: 96\n[]\n"
        },
        {
         "data": {
          "text/plain": "[[], []]"
         },
         "metadata": {},
         "output_type": "display_data"
        }
       ]
      }
     },
     "534d3e0f2a1b4ec6b2199961e0c99d06": {
      "model_module": "@jupyter-widgets/base",
      "model_module_version": "1.2.0",
      "model_name": "LayoutModel",
      "state": {}
     },
     "535eac10358347bfa9dcbc5b8570bf0f": {
      "model_module": "@jupyter-widgets/base",
      "model_module_version": "1.2.0",
      "model_name": "LayoutModel",
      "state": {}
     },
     "539614024dae4616b17baad0f1d8138a": {
      "model_module": "@jupyter-widgets/base",
      "model_module_version": "1.2.0",
      "model_name": "LayoutModel",
      "state": {}
     },
     "5485862a41614e1098cbb5c740049ff4": {
      "model_module": "@jupyter-widgets/output",
      "model_module_version": "1.0.0",
      "model_name": "OutputModel",
      "state": {
       "layout": "IPY_MODEL_ad8669072ff043668d2a78ae024aef5c"
      }
     },
     "5490c306bf0545f3ad1da3dc9219b7d1": {
      "model_module": "@jupyter-widgets/output",
      "model_module_version": "1.0.0",
      "model_name": "OutputModel",
      "state": {
       "layout": "IPY_MODEL_d72edb6acf094ea8b38b5bff7dabaac9",
       "outputs": [
        {
         "name": "stdout",
         "output_type": "stream",
         "text": "selected batch: 4 of 8 with a batchsize of 10 and total 96 examples\nstart idx: 40, end idx: 50\n[40, 41, 42, 43, 44, 45, 46, 47, 48, 49]\n"
        },
        {
         "data": {
          "text/plain": "[[[400.7413021427316,\n   400.09384800692357,\n   400.7786461858795,\n   400.64287940738484],\n  [410.78968689771017, 410.619176455908, 410.2919371894783, 410.7730783907434],\n  [420.5666492671904,\n   420.76593377816596,\n   420.55510795275785,\n   420.24958352632854],\n  [430.8061739647703,\n   430.8774729083472,\n   430.4454289441975,\n   430.22959922889703],\n  [440.3387228238797, 440.9999507189842, 440.4361296375914, 440.7785679188464],\n  [450.6615626442867, 450.0721426753109, 450.4279590245706, 450.8602430048018],\n  [460.5988005139963,\n   460.7453829373454,\n   460.71873325388543,\n   460.6045529159591],\n  [470.6534454527856,\n   470.4730289698055,\n   470.37070004138496,\n   470.5468363675817],\n  [480.47000549527735,\n   480.48327441221426,\n   480.48498704228246,\n   480.2597944451771],\n  [490.0658314473835,\n   490.2336419855657,\n   490.06249714548574,\n   490.6396604625728]],\n [[4.0, 5.0, 6.0, 7.0],\n  [4.1, 5.1, 6.1, 7.1],\n  [4.2, 5.2, 6.2, 7.2],\n  [4.3, 5.3, 6.3, 7.3],\n  [4.4, 5.4, 6.4, 7.4],\n  [4.5, 5.5, 6.5, 7.5],\n  [4.6, 5.6, 6.6, 7.6],\n  [4.7, 5.7, 6.7, 7.7],\n  [4.8, 5.8, 6.8, 7.8],\n  [4.9, 5.9, 6.9, 7.9]]]"
         },
         "metadata": {},
         "output_type": "display_data"
        }
       ]
      }
     },
     "54928ac014d643568bd96a6c0f2056c7": {
      "model_module": "@jupyter-widgets/base",
      "model_module_version": "1.2.0",
      "model_name": "LayoutModel",
      "state": {}
     },
     "55cefa471a2d4f8c8ce16b2bdd9124d2": {
      "model_module": "@jupyter-widgets/base",
      "model_module_version": "1.2.0",
      "model_name": "LayoutModel",
      "state": {}
     },
     "5632295efb674933b6451b049aed92e8": {
      "model_module": "@jupyter-widgets/base",
      "model_module_version": "1.2.0",
      "model_name": "LayoutModel",
      "state": {}
     },
     "566a0224795d4324a8cc3fa7b9a13057": {
      "model_module": "@jupyter-widgets/controls",
      "model_module_version": "1.5.0",
      "model_name": "SliderStyleModel",
      "state": {
       "description_width": ""
      }
     },
     "56766a4504654b64b4d7cb377049a489": {
      "model_module": "@jupyter-widgets/base",
      "model_module_version": "1.2.0",
      "model_name": "LayoutModel",
      "state": {}
     },
     "56cd0130b93347219d01febd8ae60673": {
      "model_module": "@jupyter-widgets/controls",
      "model_module_version": "1.5.0",
      "model_name": "IntSliderModel",
      "state": {
       "description": "example_size_",
       "layout": "IPY_MODEL_03f7f69d2a8c40008c288cdb5180b461",
       "max": 20,
       "style": "IPY_MODEL_85d80e97a2cf4e84b4e03b158b952a53",
       "value": 5
      }
     },
     "56d7646f2c1647c6b9fbcdbc7bff0f90": {
      "model_module": "@jupyter-widgets/base",
      "model_module_version": "1.2.0",
      "model_name": "LayoutModel",
      "state": {}
     },
     "571d9770727a4b8b8374537fb7798221": {
      "model_module": "@jupyter-widgets/controls",
      "model_module_version": "1.5.0",
      "model_name": "IntSliderModel",
      "state": {
       "description": "batchsize_",
       "layout": "IPY_MODEL_a554899a299347cd9a1f77ff220cac79",
       "style": "IPY_MODEL_0cc730cc04244ddeaa2ff4476cae5eff",
       "value": 10
      }
     },
     "5767ea00d5054d1da93337ef715cd90b": {
      "model_module": "@jupyter-widgets/controls",
      "model_module_version": "1.5.0",
      "model_name": "SliderStyleModel",
      "state": {
       "description_width": ""
      }
     },
     "57b5cf3ef2d94e13bc8c825a2b2a5ef5": {
      "model_module": "@jupyter-widgets/controls",
      "model_module_version": "1.5.0",
      "model_name": "SliderStyleModel",
      "state": {
       "description_width": ""
      }
     },
     "57b8559b36944d0091b57c4d58d247d7": {
      "model_module": "@jupyter-widgets/controls",
      "model_module_version": "1.5.0",
      "model_name": "DescriptionStyleModel",
      "state": {
       "description_width": ""
      }
     },
     "57edec22ae884ade83397a78eb463070": {
      "model_module": "@jupyter-widgets/base",
      "model_module_version": "1.2.0",
      "model_name": "LayoutModel",
      "state": {}
     },
     "583b97941a224f9282775a85606dd44e": {
      "model_module": "@jupyter-widgets/controls",
      "model_module_version": "1.5.0",
      "model_name": "SliderStyleModel",
      "state": {
       "description_width": ""
      }
     },
     "591134fa28104c51b8cdb96321062705": {
      "model_module": "@jupyter-widgets/base",
      "model_module_version": "1.2.0",
      "model_name": "LayoutModel",
      "state": {}
     },
     "59d5d0207cad42d2a7bff8ae36c64837": {
      "model_module": "@jupyter-widgets/base",
      "model_module_version": "1.2.0",
      "model_name": "LayoutModel",
      "state": {}
     },
     "5b06a871aac642bc81250a4f25fd5e3d": {
      "model_module": "@jupyter-widgets/controls",
      "model_module_version": "1.5.0",
      "model_name": "VBoxModel",
      "state": {
       "_dom_classes": [
        "widget-interact"
       ],
       "children": [
        "IPY_MODEL_b0b4d3c6749c438dac6351c39fddf107",
        "IPY_MODEL_73b78fe28a62472985a2dda93ab39924"
       ],
       "layout": "IPY_MODEL_15c1a2850f4a4fe2a1bdae703bade86a"
      }
     },
     "5b3d3caeadfd40cf8b57887c15b0ba87": {
      "model_module": "@jupyter-widgets/controls",
      "model_module_version": "1.5.0",
      "model_name": "IntSliderModel",
      "state": {
       "description": "selected_batch",
       "layout": "IPY_MODEL_fe30688f5ad442e3a7e5d824aa4329dd",
       "max": 24,
       "style": "IPY_MODEL_ce46f84cc2a8466d9fb9a3ad3cb0c4b4",
       "value": 2
      }
     },
     "5b5c4a0a13e3464aa722bea00f3f7741": {
      "model_module": "@jupyter-widgets/controls",
      "model_module_version": "1.5.0",
      "model_name": "IntSliderModel",
      "state": {
       "description": "selected_batch",
       "layout": "IPY_MODEL_02e882eb307a41718c0292236a4bfdcf",
       "max": 8,
       "style": "IPY_MODEL_4fc55b55f86f444f82da2b6c783e8861",
       "value": 4
      }
     },
     "5c35d2a8d4f44f14b10d093331b4afa8": {
      "model_module": "@jupyter-widgets/base",
      "model_module_version": "1.2.0",
      "model_name": "LayoutModel",
      "state": {}
     },
     "5c37e387f706491a83acef93c9a54313": {
      "model_module": "@jupyter-widgets/base",
      "model_module_version": "1.2.0",
      "model_name": "LayoutModel",
      "state": {}
     },
     "5c7c6aae8c254fc4a70b88173e5c81c5": {
      "model_module": "@jupyter-widgets/controls",
      "model_module_version": "1.5.0",
      "model_name": "VBoxModel",
      "state": {
       "_dom_classes": [
        "widget-interact"
       ],
       "children": [
        "IPY_MODEL_99910e1875c3493d80d6210f3bfb63cf",
        "IPY_MODEL_08f5d60c48a249749fdf98251705741b"
       ],
       "layout": "IPY_MODEL_b4b53cefaf714e08b49e8326595e79af"
      }
     },
     "5cd3afe33a2c474db2f68b34f77065ff": {
      "model_module": "@jupyter-widgets/base",
      "model_module_version": "1.2.0",
      "model_name": "LayoutModel",
      "state": {}
     },
     "5d4ab9455db348f8a8dd8f40ecbdfeaf": {
      "model_module": "@jupyter-widgets/base",
      "model_module_version": "1.2.0",
      "model_name": "LayoutModel",
      "state": {}
     },
     "5d8db85555154f049ae6450b4fd6a293": {
      "model_module": "@jupyter-widgets/controls",
      "model_module_version": "1.5.0",
      "model_name": "VBoxModel",
      "state": {
       "_dom_classes": [
        "widget-interact"
       ],
       "children": [
        "IPY_MODEL_5b3d3caeadfd40cf8b57887c15b0ba87",
        "IPY_MODEL_832e2a14a9c347e6a1b5a19e7491565f"
       ],
       "layout": "IPY_MODEL_15cc663eed1f4030a0dfff95d84ed17e"
      }
     },
     "5db45e2dc28b4df4bd6fee3368469479": {
      "model_module": "@jupyter-widgets/controls",
      "model_module_version": "1.5.0",
      "model_name": "VBoxModel",
      "state": {
       "_dom_classes": [
        "widget-interact"
       ],
       "children": [
        "IPY_MODEL_14965953ad4640e38dec17594defc248",
        "IPY_MODEL_cef5b05cf10c4e96b5c08608e4819360",
        "IPY_MODEL_93312deafd8e46f0bed69cb1c7369a33"
       ],
       "layout": "IPY_MODEL_07e3026fc5ae4eb8a7e23d5ab4eefcd5"
      }
     },
     "5e3d0d641bef49ccbfb9d5191a24226e": {
      "model_module": "@jupyter-widgets/controls",
      "model_module_version": "1.5.0",
      "model_name": "SliderStyleModel",
      "state": {
       "description_width": ""
      }
     },
     "5f62c183e0694dc78977a645b7b706b0": {
      "model_module": "@jupyter-widgets/base",
      "model_module_version": "1.2.0",
      "model_name": "LayoutModel",
      "state": {}
     },
     "5fa0c0108ca844868a0336f53780d2a1": {
      "model_module": "@jupyter-widgets/controls",
      "model_module_version": "1.5.0",
      "model_name": "IntSliderModel",
      "state": {
       "description": "selected_batch",
       "layout": "IPY_MODEL_dfbe2c6b196942b69fe6f8a3fddfebf7",
       "max": 24,
       "style": "IPY_MODEL_baeb342ebe0b4b54a6c9a90c1c0d8835",
       "value": 24
      }
     },
     "6009f141307348f48cfc82fe3a3b8cc1": {
      "model_module": "@jupyter-widgets/controls",
      "model_module_version": "1.5.0",
      "model_name": "SliderStyleModel",
      "state": {
       "description_width": ""
      }
     },
     "60446b773e124d1185659cf6667bdf73": {
      "model_module": "@jupyter-widgets/controls",
      "model_module_version": "1.5.0",
      "model_name": "DescriptionStyleModel",
      "state": {
       "description_width": ""
      }
     },
     "611fb96d10854c6899f27a14a6b8d9fb": {
      "model_module": "@jupyter-widgets/base",
      "model_module_version": "1.2.0",
      "model_name": "LayoutModel",
      "state": {}
     },
     "6139f774b47f4a428093191efb042288": {
      "model_module": "@jupyter-widgets/controls",
      "model_module_version": "1.5.0",
      "model_name": "IntSliderModel",
      "state": {
       "description": "batchsize_",
       "layout": "IPY_MODEL_af05a41898304310a00afdcef640e984",
       "max": 20,
       "min": 1,
       "style": "IPY_MODEL_2ee6592772544f54820bb2058fca49c7",
       "value": 10
      }
     },
     "61bf5876a0824917ae4e29b3ab0df66f": {
      "model_module": "@jupyter-widgets/controls",
      "model_module_version": "1.5.0",
      "model_name": "VBoxModel",
      "state": {
       "_dom_classes": [
        "widget-interact"
       ],
       "children": [
        "IPY_MODEL_65fe575b21704b33a4b8f54a6fc05f06",
        "IPY_MODEL_00c74ffbcf984b5095938db1a2beda0f"
       ],
       "layout": "IPY_MODEL_c9601b02b326411ba95ae0a6b6777325"
      }
     },
     "62359d900aca481fac03be58cf4f6007": {
      "model_module": "@jupyter-widgets/output",
      "model_module_version": "1.0.0",
      "model_name": "OutputModel",
      "state": {
       "layout": "IPY_MODEL_2629cc3849944cc7a05d21268fbdbe5d",
       "outputs": [
        {
         "name": "stdout",
         "output_type": "stream",
         "text": "selected batch: 0 of 25.0 with a batchsize of 4 and total 100 examples\nstart idx: 0, end idx: 4\n[0, 1, 2, 3]\n"
        },
        {
         "data": {
          "text/plain": "[[[0, 1, 2, 3, 4],\n  [10, 11, 12, 13, 14],\n  [20, 21, 22, 23, 24],\n  [30, 31, 32, 33, 34]],\n [[0.0, 1.0, 2.0, 3.0, 4.0],\n  [0.1, 1.1, 2.1, 3.1, 4.1],\n  [0.2, 1.2, 2.2, 3.2, 4.2],\n  [0.3, 1.3, 2.3, 3.3, 4.3]]]"
         },
         "metadata": {},
         "output_type": "display_data"
        }
       ]
      }
     },
     "62b18db500114658a2d8927b99243de6": {
      "model_module": "@jupyter-widgets/output",
      "model_module_version": "1.0.0",
      "model_name": "OutputModel",
      "state": {
       "layout": "IPY_MODEL_6d6bbb8b47f040f3a7dc6a20415d9285"
      }
     },
     "62e60ba81dad492e97fb1cbd34e77fe1": {
      "model_module": "@jupyter-widgets/base",
      "model_module_version": "1.2.0",
      "model_name": "LayoutModel",
      "state": {}
     },
     "63146f53b65840a988fe4c99e650f288": {
      "model_module": "@jupyter-widgets/output",
      "model_module_version": "1.0.0",
      "model_name": "OutputModel",
      "state": {
       "layout": "IPY_MODEL_84b31fd25b764779ab5fec09bed92b30",
       "outputs": [
        {
         "name": "stdout",
         "output_type": "stream",
         "text": "selected batch: 0 of 9 with a batchsize of 10 and total 100 examples\nstart idx: 0, end idx: 10\n[20, 37, 93, 10, 24, 6, 7, 22, 39, 43]\n"
        },
        {
         "data": {
          "text/plain": "[[[200, 201, 202, 203],\n  [370, 371, 372, 373],\n  [930, 931, 932, 933],\n  [100, 101, 102, 103],\n  [240, 241, 242, 243],\n  [60, 61, 62, 63],\n  [70, 71, 72, 73],\n  [220, 221, 222, 223],\n  [390, 391, 392, 393],\n  [430, 431, 432, 433]],\n [[2.0, 3.0, 4.0, 5.0],\n  [3.7, 4.7, 5.7, 6.7],\n  [9.3, 10.3, 11.3, 12.3],\n  [1.0, 2.0, 3.0, 4.0],\n  [2.4, 3.4, 4.4, 5.4],\n  [0.6, 1.6, 2.6, 3.6],\n  [0.7, 1.7, 2.7, 3.7],\n  [2.2, 3.2, 4.2, 5.2],\n  [3.9, 4.9, 5.9, 6.9],\n  [4.3, 5.3, 6.3, 7.3]]]"
         },
         "metadata": {},
         "output_type": "display_data"
        }
       ]
      }
     },
     "631ce30060c94c9faa9709bf03ed1fac": {
      "model_module": "@jupyter-widgets/base",
      "model_module_version": "1.2.0",
      "model_name": "LayoutModel",
      "state": {}
     },
     "632d8ec6cf4b4bb28bfa3f9d7fb064dd": {
      "model_module": "@jupyter-widgets/base",
      "model_module_version": "1.2.0",
      "model_name": "LayoutModel",
      "state": {}
     },
     "6389d7b47b6c49e6b2d59b4e024adbcc": {
      "model_module": "@jupyter-widgets/controls",
      "model_module_version": "1.5.0",
      "model_name": "SliderStyleModel",
      "state": {
       "description_width": ""
      }
     },
     "6399414dd05c4792b183be0e94e20cfc": {
      "model_module": "@jupyter-widgets/base",
      "model_module_version": "1.2.0",
      "model_name": "LayoutModel",
      "state": {}
     },
     "63d7f2979d22472d8f4cb4986a2fa01f": {
      "model_module": "@jupyter-widgets/base",
      "model_module_version": "1.2.0",
      "model_name": "LayoutModel",
      "state": {}
     },
     "6404ba9967c14fcd8df0b2dab3217483": {
      "model_module": "@jupyter-widgets/controls",
      "model_module_version": "1.5.0",
      "model_name": "SliderStyleModel",
      "state": {
       "description_width": ""
      }
     },
     "64d4648e45af49978948f3bfa0013042": {
      "model_module": "@jupyter-widgets/base",
      "model_module_version": "1.2.0",
      "model_name": "LayoutModel",
      "state": {}
     },
     "64dc100a6f3b484bb19f8719100c54f4": {
      "model_module": "@jupyter-widgets/base",
      "model_module_version": "1.2.0",
      "model_name": "LayoutModel",
      "state": {}
     },
     "658b4dc4e2c24332a49e8345bad56efc": {
      "model_module": "@jupyter-widgets/controls",
      "model_module_version": "1.5.0",
      "model_name": "VBoxModel",
      "state": {
       "_dom_classes": [
        "widget-interact"
       ],
       "children": [
        "IPY_MODEL_ac411c75bc934187bf7bfe413db46f81",
        "IPY_MODEL_ea82f56a3f3142bfb3d26c267addd750"
       ],
       "layout": "IPY_MODEL_6e35143ed8b6418dae93fe9870459eec"
      }
     },
     "659a10ae4b7145ccbb73923465eef392": {
      "model_module": "@jupyter-widgets/base",
      "model_module_version": "1.2.0",
      "model_name": "LayoutModel",
      "state": {}
     },
     "65ec17b217ef4f5aa3e01942b213ad12": {
      "model_module": "@jupyter-widgets/base",
      "model_module_version": "1.2.0",
      "model_name": "LayoutModel",
      "state": {}
     },
     "65fe575b21704b33a4b8f54a6fc05f06": {
      "model_module": "@jupyter-widgets/controls",
      "model_module_version": "1.5.0",
      "model_name": "IntSliderModel",
      "state": {
       "description": "selected_batch",
       "layout": "IPY_MODEL_3cde21945b6a4a98affdf0a6b128d1a0",
       "max": 25,
       "style": "IPY_MODEL_671d730f1b3543e9bc673061fbf4dba3"
      }
     },
     "6618e745028442818543de2038b2086a": {
      "model_module": "@jupyter-widgets/output",
      "model_module_version": "1.0.0",
      "model_name": "OutputModel",
      "state": {
       "layout": "IPY_MODEL_c765716e8ede4bd0a4cc51df19e4d316"
      }
     },
     "662ab5df92ca4bc4aa50792ee4d719f3": {
      "model_module": "@jupyter-widgets/controls",
      "model_module_version": "1.5.0",
      "model_name": "IntSliderModel",
      "state": {
       "description": "selected_batch",
       "layout": "IPY_MODEL_ab44662d17284cff86872c7ee66b096f",
       "max": 99,
       "style": "IPY_MODEL_40807d18b7c64407a4e2b99731cda167"
      }
     },
     "666778dcee28434687d0a475236e95fe": {
      "model_module": "@jupyter-widgets/base",
      "model_module_version": "1.2.0",
      "model_name": "LayoutModel",
      "state": {}
     },
     "6693b83b37504e12bbed0b244583100e": {
      "model_module": "@jupyter-widgets/base",
      "model_module_version": "1.2.0",
      "model_name": "LayoutModel",
      "state": {}
     },
     "66c6c8693bb44ca2bacdc92713a2ba14": {
      "model_module": "@jupyter-widgets/controls",
      "model_module_version": "1.5.0",
      "model_name": "SliderStyleModel",
      "state": {
       "description_width": ""
      }
     },
     "67082fe3a5c647c39fb8ef0ba8615d58": {
      "model_module": "@jupyter-widgets/controls",
      "model_module_version": "1.5.0",
      "model_name": "SliderStyleModel",
      "state": {
       "description_width": ""
      }
     },
     "671235ffe8104a2f87ea3fdc5924afd4": {
      "model_module": "@jupyter-widgets/output",
      "model_module_version": "1.0.0",
      "model_name": "OutputModel",
      "state": {
       "layout": "IPY_MODEL_eb25f8b17fb14fc9a820fd48ebed0939",
       "outputs": [
        {
         "name": "stdout",
         "output_type": "stream",
         "text": "selected batch: 0 of 99 with a batchsize of 1 and total 100 examples\nstart idx: 0, end idx: 1\n[0]\n"
        },
        {
         "data": {
          "text/plain": "[[[0, 1, 2, 3]], [[0.0, 1.0, 2.0, 3.0]]]"
         },
         "metadata": {},
         "output_type": "display_data"
        }
       ]
      }
     },
     "671d730f1b3543e9bc673061fbf4dba3": {
      "model_module": "@jupyter-widgets/controls",
      "model_module_version": "1.5.0",
      "model_name": "SliderStyleModel",
      "state": {
       "description_width": ""
      }
     },
     "67a9ce01024c423194d1cdca39559beb": {
      "model_module": "@jupyter-widgets/controls",
      "model_module_version": "1.5.0",
      "model_name": "VBoxModel",
      "state": {
       "_dom_classes": [
        "widget-interact"
       ],
       "children": [
        "IPY_MODEL_d65f993778204539bec6f2bc9690467e",
        "IPY_MODEL_c448fe484231462aa965cfc9d6f1b593"
       ],
       "layout": "IPY_MODEL_1fbfe0fcd38a4817ae0b94fea7855a59"
      }
     },
     "67f2f35ba53045c7b7ff157865cbc5d8": {
      "model_module": "@jupyter-widgets/base",
      "model_module_version": "1.2.0",
      "model_name": "LayoutModel",
      "state": {}
     },
     "680013f9e7a14f9792e66d3dea43dfd8": {
      "model_module": "@jupyter-widgets/base",
      "model_module_version": "1.2.0",
      "model_name": "LayoutModel",
      "state": {}
     },
     "680d1fef678043798f46d9895b4e1035": {
      "model_module": "@jupyter-widgets/base",
      "model_module_version": "1.2.0",
      "model_name": "LayoutModel",
      "state": {}
     },
     "6845dae0d6f4411997804431dfc8a377": {
      "model_module": "@jupyter-widgets/base",
      "model_module_version": "1.2.0",
      "model_name": "LayoutModel",
      "state": {}
     },
     "686116064a0f4aa0b0d9a84de6765c82": {
      "model_module": "@jupyter-widgets/base",
      "model_module_version": "1.2.0",
      "model_name": "LayoutModel",
      "state": {}
     },
     "6891ca278f7b4f5bbc5af36f0575e443": {
      "model_module": "@jupyter-widgets/base",
      "model_module_version": "1.2.0",
      "model_name": "LayoutModel",
      "state": {}
     },
     "690c4dfb6ab84b27b34983ebe92dc593": {
      "model_module": "@jupyter-widgets/controls",
      "model_module_version": "1.5.0",
      "model_name": "IntSliderModel",
      "state": {
       "description": "selected_batch",
       "layout": "IPY_MODEL_7fa2120277084d7b88b6250b341560e2",
       "max": 25,
       "style": "IPY_MODEL_5e3d0d641bef49ccbfb9d5191a24226e",
       "value": 25
      }
     },
     "6937d776034844ddb778ec7261b54c33": {
      "model_module": "@jupyter-widgets/output",
      "model_module_version": "1.0.0",
      "model_name": "OutputModel",
      "state": {
       "layout": "IPY_MODEL_0227b75dd2a5497ebd5b2d446f2316e0",
       "outputs": [
        {
         "name": "stdout",
         "output_type": "stream",
         "text": "selected batch: 12 of total batches: 100 from 25.0 examples\nstart idx: 48, end idx: 52\n[]\n"
        },
        {
         "data": {
          "text/plain": "[[], []]"
         },
         "metadata": {},
         "output_type": "display_data"
        }
       ]
      }
     },
     "699433a507a04b428758e907a3e894e0": {
      "model_module": "@jupyter-widgets/base",
      "model_module_version": "1.2.0",
      "model_name": "LayoutModel",
      "state": {}
     },
     "699e75f535e24c79a3ec7bd7f4f84172": {
      "model_module": "@jupyter-widgets/base",
      "model_module_version": "1.2.0",
      "model_name": "LayoutModel",
      "state": {}
     },
     "69d297ba55d84706b2c524df32ce5c12": {
      "model_module": "@jupyter-widgets/output",
      "model_module_version": "1.0.0",
      "model_name": "OutputModel",
      "state": {
       "layout": "IPY_MODEL_631ce30060c94c9faa9709bf03ed1fac",
       "outputs": [
        {
         "name": "stdout",
         "output_type": "stream",
         "text": "[0, 1, 2, 3, 4, 5, 6, 7, 8, 9]\n"
        }
       ]
      }
     },
     "6a1502f623d947d3a3922a9bd444cb17": {
      "model_module": "@jupyter-widgets/controls",
      "model_module_version": "1.5.0",
      "model_name": "IntSliderModel",
      "state": {
       "description": "selected_batch",
       "layout": "IPY_MODEL_ff87f5d54c7943df9f53bf2d42016edd",
       "max": 4,
       "style": "IPY_MODEL_8fd9a478d47a4425b2748cf1a19f8e6c",
       "value": 2
      }
     },
     "6a63bf41f2814d1daf677b428d4e1635": {
      "model_module": "@jupyter-widgets/base",
      "model_module_version": "1.2.0",
      "model_name": "LayoutModel",
      "state": {}
     },
     "6a9e8be2231c4551916ff4df254283f4": {
      "model_module": "@jupyter-widgets/base",
      "model_module_version": "1.2.0",
      "model_name": "LayoutModel",
      "state": {}
     },
     "6af393aae8874e9a9362b9bc280f6783": {
      "model_module": "@jupyter-widgets/controls",
      "model_module_version": "1.5.0",
      "model_name": "IntSliderModel",
      "state": {
       "description": "example_size_",
       "layout": "IPY_MODEL_805066b172fb45bcab149a822b24fe00",
       "max": 20,
       "style": "IPY_MODEL_f3145cb3d9d54698b10db70fff78bd55",
       "value": 4
      }
     },
     "6b2e2fdb83fd44aa8803d48fdc387052": {
      "model_module": "@jupyter-widgets/base",
      "model_module_version": "1.2.0",
      "model_name": "LayoutModel",
      "state": {}
     },
     "6b4aa54afc2142c297e6da0c0a46d1a3": {
      "model_module": "@jupyter-widgets/output",
      "model_module_version": "1.0.0",
      "model_name": "OutputModel",
      "state": {
       "layout": "IPY_MODEL_31eaab090f264bc98c5ed979dfcd99b0"
      }
     },
     "6b7bc74e8e184d588899bed8c7c5333d": {
      "model_module": "@jupyter-widgets/output",
      "model_module_version": "1.0.0",
      "model_name": "OutputModel",
      "state": {
       "layout": "IPY_MODEL_54928ac014d643568bd96a6c0f2056c7"
      }
     },
     "6b8a565ded624f9aad8ca1084a54a796": {
      "model_module": "@jupyter-widgets/controls",
      "model_module_version": "1.5.0",
      "model_name": "IntSliderModel",
      "state": {
       "description": "batchsize_",
       "layout": "IPY_MODEL_00e104538f214aad8136911e00012747",
       "max": 20,
       "style": "IPY_MODEL_ccdf3ef3e57840df93b127144ad8851f",
       "value": 10
      }
     },
     "6c78909ef82a4d888abe673d02ee58a9": {
      "model_module": "@jupyter-widgets/controls",
      "model_module_version": "1.5.0",
      "model_name": "IntSliderModel",
      "state": {
       "description": "examples_",
       "layout": "IPY_MODEL_d7a986530acb4e81967987966e3c6d10",
       "min": 1,
       "style": "IPY_MODEL_6404ba9967c14fcd8df0b2dab3217483",
       "value": 50
      }
     },
     "6cb196b5fb5b47c98828428826bac7fc": {
      "model_module": "@jupyter-widgets/base",
      "model_module_version": "1.2.0",
      "model_name": "LayoutModel",
      "state": {}
     },
     "6d4b13e449084c80b9ef5c560fd1b4f2": {
      "model_module": "@jupyter-widgets/base",
      "model_module_version": "1.2.0",
      "model_name": "LayoutModel",
      "state": {}
     },
     "6d6bbb8b47f040f3a7dc6a20415d9285": {
      "model_module": "@jupyter-widgets/base",
      "model_module_version": "1.2.0",
      "model_name": "LayoutModel",
      "state": {}
     },
     "6db791afe87046e8aa5742fb8e2a0a3e": {
      "model_module": "@jupyter-widgets/base",
      "model_module_version": "1.2.0",
      "model_name": "LayoutModel",
      "state": {}
     },
     "6e35143ed8b6418dae93fe9870459eec": {
      "model_module": "@jupyter-widgets/base",
      "model_module_version": "1.2.0",
      "model_name": "LayoutModel",
      "state": {}
     },
     "6f5335452c6f4f5695bf724b0ace3abb": {
      "model_module": "@jupyter-widgets/controls",
      "model_module_version": "1.5.0",
      "model_name": "SliderStyleModel",
      "state": {
       "description_width": ""
      }
     },
     "6ffebaa0ba354b19955b972fd5068a95": {
      "model_module": "@jupyter-widgets/base",
      "model_module_version": "1.2.0",
      "model_name": "LayoutModel",
      "state": {}
     },
     "714a9e79d27a454ebb704e21c8b14ab0": {
      "model_module": "@jupyter-widgets/base",
      "model_module_version": "1.2.0",
      "model_name": "LayoutModel",
      "state": {}
     },
     "718d13d321f743ed8ffb476e7888b394": {
      "model_module": "@jupyter-widgets/controls",
      "model_module_version": "1.5.0",
      "model_name": "IntSliderModel",
      "state": {
       "description": "selected_batch",
       "layout": "IPY_MODEL_2e07fa27111d4ff783aac10d6765ecab",
       "max": 10,
       "style": "IPY_MODEL_35673dc459f04f208cb5b854d46a98fe",
       "value": 5
      }
     },
     "71a4688e9da94181a5a14c6576b19005": {
      "model_module": "@jupyter-widgets/controls",
      "model_module_version": "1.5.0",
      "model_name": "VBoxModel",
      "state": {
       "_dom_classes": [
        "widget-interact"
       ],
       "children": [
        "IPY_MODEL_531c1dc5a7704000a75ffb1eb8603956",
        "IPY_MODEL_85be9bdbf38a46fe93ce70ab381ed5df"
       ],
       "layout": "IPY_MODEL_39a8849283b4487182c0f84f2099bd37"
      }
     },
     "71ac894f9e5d492881f71b7e55ec37fc": {
      "model_module": "@jupyter-widgets/controls",
      "model_module_version": "1.5.0",
      "model_name": "SliderStyleModel",
      "state": {
       "description_width": ""
      }
     },
     "72245b934671493c907134e3e77fce41": {
      "model_module": "@jupyter-widgets/base",
      "model_module_version": "1.2.0",
      "model_name": "LayoutModel",
      "state": {}
     },
     "726fd1c0b9eb4a44b87468f8dc905b49": {
      "model_module": "@jupyter-widgets/base",
      "model_module_version": "1.2.0",
      "model_name": "LayoutModel",
      "state": {}
     },
     "728cde6179cc4a69ae44875ec34d059e": {
      "model_module": "@jupyter-widgets/controls",
      "model_module_version": "1.5.0",
      "model_name": "VBoxModel",
      "state": {
       "_dom_classes": [
        "widget-interact"
       ],
       "children": [
        "IPY_MODEL_3871a5c539ba45c3986068ad41102c47",
        "IPY_MODEL_2e0e9865e288495e8b83c0b8830938f2",
        "IPY_MODEL_e6d2c6483c4e4ac5abfb6bc7709b3047"
       ],
       "layout": "IPY_MODEL_287cbc7ce3704e9ea8d8b7e934627af2"
      }
     },
     "731fe06b4ea34078ac7e5f89b6bd9fef": {
      "model_module": "@jupyter-widgets/base",
      "model_module_version": "1.2.0",
      "model_name": "LayoutModel",
      "state": {}
     },
     "735a64df1637493b8a7d5891b21d2737": {
      "model_module": "@jupyter-widgets/controls",
      "model_module_version": "1.5.0",
      "model_name": "SliderStyleModel",
      "state": {
       "description_width": ""
      }
     },
     "7388fc56ff4e4b8f9db4048aea8fa8b9": {
      "model_module": "@jupyter-widgets/controls",
      "model_module_version": "1.5.0",
      "model_name": "VBoxModel",
      "state": {
       "_dom_classes": [
        "widget-interact"
       ],
       "children": [
        "IPY_MODEL_5b5c4a0a13e3464aa722bea00f3f7741",
        "IPY_MODEL_056b924663244e10965ceea262843fb2",
        "IPY_MODEL_5490c306bf0545f3ad1da3dc9219b7d1"
       ],
       "layout": "IPY_MODEL_cc6a5f8fd4834b37a0fc8779370e8c91"
      }
     },
     "73b78fe28a62472985a2dda93ab39924": {
      "model_module": "@jupyter-widgets/output",
      "model_module_version": "1.0.0",
      "model_name": "OutputModel",
      "state": {
       "layout": "IPY_MODEL_731fe06b4ea34078ac7e5f89b6bd9fef",
       "outputs": [
        {
         "name": "stdout",
         "output_type": "stream",
         "text": "12\nstart idx: 48, end idx: 52\n[]\n"
        },
        {
         "data": {
          "text/plain": "[[], []]"
         },
         "metadata": {},
         "output_type": "display_data"
        }
       ]
      }
     },
     "73d66e2362e046a798bb32d3ec900b9f": {
      "model_module": "@jupyter-widgets/controls",
      "model_module_version": "1.5.0",
      "model_name": "CheckboxModel",
      "state": {
       "description": "shuffle_indexes",
       "disabled": false,
       "layout": "IPY_MODEL_d427f5a506014919811cabb10b4c2482",
       "style": "IPY_MODEL_b5c09288178248e4bb54de633657dbd9",
       "value": false
      }
     },
     "7423e58b56b44e5f97e6c541799e3e4a": {
      "model_module": "@jupyter-widgets/output",
      "model_module_version": "1.0.0",
      "model_name": "OutputModel",
      "state": {
       "layout": "IPY_MODEL_debeb199b5224e4d9b620f088fbd6320",
       "outputs": [
        {
         "name": "stdout",
         "output_type": "stream",
         "text": "[0, 1, 2, 3]\n"
        },
        {
         "data": {
          "text/plain": "[[[0, 1, 2, 3, 4],\n  [10, 11, 12, 13, 14],\n  [20, 21, 22, 23, 24],\n  [30, 31, 32, 33, 34]],\n [[0.0, 1.0, 2.0, 3.0, 4.0],\n  [0.1, 1.1, 2.1, 3.1, 4.1],\n  [0.2, 1.2, 2.2, 3.2, 4.2],\n  [0.3, 1.3, 2.3, 3.3, 4.3]]]"
         },
         "metadata": {},
         "output_type": "display_data"
        }
       ]
      }
     },
     "7464f0bb127749ea847a85c1afcb9c2e": {
      "model_module": "@jupyter-widgets/base",
      "model_module_version": "1.2.0",
      "model_name": "LayoutModel",
      "state": {}
     },
     "74ab94a223944189962f9ec0cef60fac": {
      "model_module": "@jupyter-widgets/controls",
      "model_module_version": "1.5.0",
      "model_name": "DescriptionStyleModel",
      "state": {
       "description_width": ""
      }
     },
     "74f1dd1d6544460f88918410331d1380": {
      "model_module": "@jupyter-widgets/controls",
      "model_module_version": "1.5.0",
      "model_name": "CheckboxModel",
      "state": {
       "description": "shuffle_indexes",
       "disabled": false,
       "layout": "IPY_MODEL_d29e980418114c52b802c30b52b087ff",
       "style": "IPY_MODEL_4d16a5b32b0c41bea3bcc71ac62c450d",
       "value": false
      }
     },
     "7538584896764e4f9a5a7cef1c1b3b7d": {
      "model_module": "@jupyter-widgets/controls",
      "model_module_version": "1.5.0",
      "model_name": "VBoxModel",
      "state": {
       "_dom_classes": [
        "widget-interact"
       ],
       "children": [
        "IPY_MODEL_95b3a09b0fe4454486aeb2aebacceaa0",
        "IPY_MODEL_2bee165438364253afec3336e26243d7",
        "IPY_MODEL_571d9770727a4b8b8374537fb7798221",
        "IPY_MODEL_b1e3b085e4eb433f9479ddc9723f7171"
       ],
       "layout": "IPY_MODEL_97e34d6aa0fd4718ae2d8a72ba2ad5fb"
      }
     },
     "756646e465fc480a9dbc8fbbbe43a38c": {
      "model_module": "@jupyter-widgets/base",
      "model_module_version": "1.2.0",
      "model_name": "LayoutModel",
      "state": {}
     },
     "75a80b9962284d448784ed23fbb7ea96": {
      "model_module": "@jupyter-widgets/output",
      "model_module_version": "1.0.0",
      "model_name": "OutputModel",
      "state": {
       "layout": "IPY_MODEL_fd7895b13beb4a6083497baea55dfb04",
       "outputs": [
        {
         "name": "stdout",
         "output_type": "stream",
         "text": "selected batch: 13 of 25.0 with a batchsize of 4 and total 100 examples\nstart idx: 48, end idx: 52\n[]\n"
        },
        {
         "data": {
          "text/plain": "[[], []]"
         },
         "metadata": {},
         "output_type": "display_data"
        }
       ]
      }
     },
     "75c37d910c7346b69adee43e469824ef": {
      "model_module": "@jupyter-widgets/controls",
      "model_module_version": "1.5.0",
      "model_name": "SliderStyleModel",
      "state": {
       "description_width": ""
      }
     },
     "75fb4b89b3a648e081d1b01116b1fbd3": {
      "model_module": "@jupyter-widgets/controls",
      "model_module_version": "1.5.0",
      "model_name": "IntSliderModel",
      "state": {
       "description": "selected_batch",
       "layout": "IPY_MODEL_b2f1a11b724d47c2b718b690603a0b85",
       "max": 25,
       "style": "IPY_MODEL_e84d9fe1714b4ae78b2670e004c4c928",
       "value": 12
      }
     },
     "771ff722123d40b3acdff45958ed75f0": {
      "model_module": "@jupyter-widgets/controls",
      "model_module_version": "1.5.0",
      "model_name": "VBoxModel",
      "state": {
       "_dom_classes": [
        "widget-interact"
       ],
       "children": [
        "IPY_MODEL_498f57f02c7741aea8dd9d7f675c5959",
        "IPY_MODEL_2ffad856da064029aee94a2979cc93ae",
        "IPY_MODEL_827fc726c5584386ab081e07afd182e2",
        "IPY_MODEL_83673dc19d964d8f98c81fd78a0733e2"
       ],
       "layout": "IPY_MODEL_6891ca278f7b4f5bbc5af36f0575e443"
      }
     },
     "773b82e3025d4317ae1d60a211f7991e": {
      "model_module": "@jupyter-widgets/controls",
      "model_module_version": "1.5.0",
      "model_name": "VBoxModel",
      "state": {
       "_dom_classes": [
        "widget-interact"
       ],
       "children": [
        "IPY_MODEL_8c0786fea155449a9d6e1df94a3dc714",
        "IPY_MODEL_50b420222ffa42cfb93c54c9048d2777",
        "IPY_MODEL_51817b2bb552463495bbe80cea80085d",
        "IPY_MODEL_6618e745028442818543de2038b2086a"
       ],
       "layout": "IPY_MODEL_a30bcda144ce426da815fdb6cf537495"
      }
     },
     "7745015805644976b252c11614ce41dc": {
      "model_module": "@jupyter-widgets/base",
      "model_module_version": "1.2.0",
      "model_name": "LayoutModel",
      "state": {}
     },
     "77891b26d867466987cc3f7cf21e955e": {
      "model_module": "@jupyter-widgets/base",
      "model_module_version": "1.2.0",
      "model_name": "LayoutModel",
      "state": {}
     },
     "7823913e90c646e1870a277c08a5a2cc": {
      "model_module": "@jupyter-widgets/base",
      "model_module_version": "1.2.0",
      "model_name": "LayoutModel",
      "state": {}
     },
     "78769bed490c4bdab5bc822bc77f7257": {
      "model_module": "@jupyter-widgets/controls",
      "model_module_version": "1.5.0",
      "model_name": "SliderStyleModel",
      "state": {
       "description_width": ""
      }
     },
     "78b7bba5579743399a450de55a0243d3": {
      "model_module": "@jupyter-widgets/controls",
      "model_module_version": "1.5.0",
      "model_name": "SliderStyleModel",
      "state": {
       "description_width": ""
      }
     },
     "78f998e20b5f4929918953b6ec44a39e": {
      "model_module": "@jupyter-widgets/controls",
      "model_module_version": "1.5.0",
      "model_name": "VBoxModel",
      "state": {
       "_dom_classes": [
        "widget-interact"
       ],
       "children": [
        "IPY_MODEL_c397b37de7124c1ab6f465e686118b1c",
        "IPY_MODEL_b20e1e829d054b5992827f9491fc3bd5",
        "IPY_MODEL_c8905495f932451992a017e638836553",
        "IPY_MODEL_0fe766623a7e473cb52b3324f14e6aac"
       ],
       "layout": "IPY_MODEL_e77d6be0078b4f0b9796d1c71b491b21"
      }
     },
     "79568fda65184205ab00487f81b3ef15": {
      "model_module": "@jupyter-widgets/controls",
      "model_module_version": "1.5.0",
      "model_name": "IntSliderModel",
      "state": {
       "description": "selected_batch",
       "layout": "IPY_MODEL_e5954b44dca049e3a52b432b5d12f6cd",
       "max": 25,
       "style": "IPY_MODEL_2fb638f9a72c4306859236f0450644c6",
       "value": 12
      }
     },
     "796418d9ef724becbced460622f87fce": {
      "model_module": "@jupyter-widgets/controls",
      "model_module_version": "1.5.0",
      "model_name": "IntSliderModel",
      "state": {
       "description": "selected_batch",
       "layout": "IPY_MODEL_6cb196b5fb5b47c98828428826bac7fc",
       "max": 9,
       "style": "IPY_MODEL_be642e67b30d4244919150e5dd6860b0",
       "value": 9
      }
     },
     "79900beb72ba4feea53f818e480819fa": {
      "model_module": "@jupyter-widgets/controls",
      "model_module_version": "1.5.0",
      "model_name": "IntSliderModel",
      "state": {
       "description": "selected_batch",
       "layout": "IPY_MODEL_4fcd92e23bca4a99b880f60009c8ca5a",
       "max": 4,
       "style": "IPY_MODEL_7a5b6050bcd34e4f912a904ff6181650"
      }
     },
     "7a4bbafc34c74cd38ee0df0b623a7748": {
      "model_module": "@jupyter-widgets/base",
      "model_module_version": "1.2.0",
      "model_name": "LayoutModel",
      "state": {}
     },
     "7a4df2b3c160429f87ec449bc09f4b6d": {
      "model_module": "@jupyter-widgets/base",
      "model_module_version": "1.2.0",
      "model_name": "LayoutModel",
      "state": {}
     },
     "7a5b6050bcd34e4f912a904ff6181650": {
      "model_module": "@jupyter-widgets/controls",
      "model_module_version": "1.5.0",
      "model_name": "SliderStyleModel",
      "state": {
       "description_width": ""
      }
     },
     "7a70b3886a254383b8b793e9fc245caf": {
      "model_module": "@jupyter-widgets/base",
      "model_module_version": "1.2.0",
      "model_name": "LayoutModel",
      "state": {}
     },
     "7affe3b06ee54d45beaa19ef33b0d157": {
      "model_module": "@jupyter-widgets/controls",
      "model_module_version": "1.5.0",
      "model_name": "IntSliderModel",
      "state": {
       "description": "examples_",
       "layout": "IPY_MODEL_16825e993aed4527b50f5ffbfb6443db",
       "style": "IPY_MODEL_eae19952e493491aaa7aef54e603ab7c",
       "value": 100
      }
     },
     "7b34df91774a4461a0feb787db595a91": {
      "model_module": "@jupyter-widgets/base",
      "model_module_version": "1.2.0",
      "model_name": "LayoutModel",
      "state": {}
     },
     "7b625e34ad5244709ae56b2ea8197531": {
      "model_module": "@jupyter-widgets/base",
      "model_module_version": "1.2.0",
      "model_name": "LayoutModel",
      "state": {}
     },
     "7bb9faabf6da42bdad9392f81f20ffbc": {
      "model_module": "@jupyter-widgets/base",
      "model_module_version": "1.2.0",
      "model_name": "LayoutModel",
      "state": {}
     },
     "7bbda9d2a2dd4ebd81e40dc868ae9e4a": {
      "model_module": "@jupyter-widgets/base",
      "model_module_version": "1.2.0",
      "model_name": "LayoutModel",
      "state": {}
     },
     "7c00b015627e4276904cca27e3d4472b": {
      "model_module": "@jupyter-widgets/base",
      "model_module_version": "1.2.0",
      "model_name": "LayoutModel",
      "state": {}
     },
     "7c0dc465498a4a6bbc80e1abcaf3753e": {
      "model_module": "@jupyter-widgets/controls",
      "model_module_version": "1.5.0",
      "model_name": "IntSliderModel",
      "state": {
       "description": "batchsize_",
       "layout": "IPY_MODEL_c1de8f8968d64933a7f3dceeaa4f94b0",
       "max": 20,
       "min": 1,
       "style": "IPY_MODEL_40c778fd8a8049c589607515f2e69926",
       "value": 10
      }
     },
     "7cc2708c71384aac8d2f2d67037c030c": {
      "model_module": "@jupyter-widgets/controls",
      "model_module_version": "1.5.0",
      "model_name": "IntSliderModel",
      "state": {
       "description": "examples_",
       "layout": "IPY_MODEL_4432c9109eaf4487a30bdd9e0d7371b8",
       "style": "IPY_MODEL_4224c1dde5fe4685a66c5925869ee58d",
       "value": 100
      }
     },
     "7d2b1df5a19f4e19b9e65d45dfd3b6bf": {
      "model_module": "@jupyter-widgets/base",
      "model_module_version": "1.2.0",
      "model_name": "LayoutModel",
      "state": {}
     },
     "7e7207e4d7f44075a85577596f289194": {
      "model_module": "@jupyter-widgets/base",
      "model_module_version": "1.2.0",
      "model_name": "LayoutModel",
      "state": {}
     },
     "7ecf27c5e6e84beda2f35f622f630064": {
      "model_module": "@jupyter-widgets/base",
      "model_module_version": "1.2.0",
      "model_name": "LayoutModel",
      "state": {}
     },
     "7f03f79fb0714226ba0e81132d39fb93": {
      "model_module": "@jupyter-widgets/controls",
      "model_module_version": "1.5.0",
      "model_name": "SliderStyleModel",
      "state": {
       "description_width": ""
      }
     },
     "7f15d2894133407380639e7ebb79e62b": {
      "model_module": "@jupyter-widgets/controls",
      "model_module_version": "1.5.0",
      "model_name": "IntSliderModel",
      "state": {
       "description": "batchsize_",
       "layout": "IPY_MODEL_33a1dde14dcc493eac598e41d2ec21c6",
       "style": "IPY_MODEL_1e114dde7df54ea2b0d45a9c99b6868a",
       "value": 50
      }
     },
     "7f72ae44790146c99bcc7e88ebb6c1cc": {
      "model_module": "@jupyter-widgets/base",
      "model_module_version": "1.2.0",
      "model_name": "LayoutModel",
      "state": {}
     },
     "7fa2120277084d7b88b6250b341560e2": {
      "model_module": "@jupyter-widgets/base",
      "model_module_version": "1.2.0",
      "model_name": "LayoutModel",
      "state": {}
     },
     "7fbb17ca105746769363d051fb71310e": {
      "model_module": "@jupyter-widgets/controls",
      "model_module_version": "1.5.0",
      "model_name": "IntSliderModel",
      "state": {
       "description": "selected_batch",
       "layout": "IPY_MODEL_cf811b0447e743cdbfdd2e4f2a5199e1",
       "max": 4,
       "style": "IPY_MODEL_95b1ab1b138240e3903a7ac1ed02528d",
       "value": 2
      }
     },
     "800f86c92cea4a97a58bc969dfe2db73": {
      "model_module": "@jupyter-widgets/controls",
      "model_module_version": "1.5.0",
      "model_name": "VBoxModel",
      "state": {
       "_dom_classes": [
        "widget-interact"
       ],
       "children": [
        "IPY_MODEL_ac25d422cc134fdbb472d98c168b26e8",
        "IPY_MODEL_e96ee468a8f44f6e9a3c036bf6def364"
       ],
       "layout": "IPY_MODEL_756646e465fc480a9dbc8fbbbe43a38c"
      }
     },
     "803ec6e6ce0f447088d3ce0555909510": {
      "model_module": "@jupyter-widgets/controls",
      "model_module_version": "1.5.0",
      "model_name": "SliderStyleModel",
      "state": {
       "description_width": ""
      }
     },
     "805066b172fb45bcab149a822b24fe00": {
      "model_module": "@jupyter-widgets/base",
      "model_module_version": "1.2.0",
      "model_name": "LayoutModel",
      "state": {}
     },
     "8080547b29504f4db581328339f7c8e3": {
      "model_module": "@jupyter-widgets/controls",
      "model_module_version": "1.5.0",
      "model_name": "VBoxModel",
      "state": {
       "_dom_classes": [
        "widget-interact"
       ],
       "children": [
        "IPY_MODEL_abc9cc48ed2b40e886295745cff1d7bc",
        "IPY_MODEL_c745861e5c8c43be9a762e2f85adf8a5",
        "IPY_MODEL_6b8a565ded624f9aad8ca1084a54a796",
        "IPY_MODEL_b376f4a3db1a4c0fb507473e441d3b6f"
       ],
       "layout": "IPY_MODEL_d64afe3c1ba646cd9b47f7f48819b3c9"
      }
     },
     "809b69419c72417cb6af5c34f1647d1f": {
      "model_module": "@jupyter-widgets/controls",
      "model_module_version": "1.5.0",
      "model_name": "SliderStyleModel",
      "state": {
       "description_width": ""
      }
     },
     "80ba09b9789d494a88058e7ef13fe33c": {
      "model_module": "@jupyter-widgets/base",
      "model_module_version": "1.2.0",
      "model_name": "LayoutModel",
      "state": {}
     },
     "815e9546405a4a0e93e4dbb2e6f09ff8": {
      "model_module": "@jupyter-widgets/controls",
      "model_module_version": "1.5.0",
      "model_name": "VBoxModel",
      "state": {
       "_dom_classes": [
        "widget-interact"
       ],
       "children": [
        "IPY_MODEL_0f3d0a32c117470d9bf154c546aeec7b",
        "IPY_MODEL_074cb44c4345447798bec901ee36cd46",
        "IPY_MODEL_e1ed55ccac8d46388d4aa03b060fe023",
        "IPY_MODEL_fb8b675773a549628d6815e065826153"
       ],
       "layout": "IPY_MODEL_680013f9e7a14f9792e66d3dea43dfd8"
      }
     },
     "816b519242d142f5abe91661e4317b2a": {
      "model_module": "@jupyter-widgets/base",
      "model_module_version": "1.2.0",
      "model_name": "LayoutModel",
      "state": {}
     },
     "81b3268346ec4ad0a7ee39e3ad33fcc9": {
      "model_module": "@jupyter-widgets/base",
      "model_module_version": "1.2.0",
      "model_name": "LayoutModel",
      "state": {}
     },
     "81ddd2a4ea9246df8c5b0c516974b003": {
      "model_module": "@jupyter-widgets/controls",
      "model_module_version": "1.5.0",
      "model_name": "VBoxModel",
      "state": {
       "_dom_classes": [
        "widget-interact"
       ],
       "children": [
        "IPY_MODEL_4fb0494167d4462687f8a22b3a7826d6",
        "IPY_MODEL_892170a602694a2487922191c55515b7",
        "IPY_MODEL_7c0dc465498a4a6bbc80e1abcaf3753e",
        "IPY_MODEL_1c24c79853b64517803e70053160a4c0"
       ],
       "layout": "IPY_MODEL_7b625e34ad5244709ae56b2ea8197531"
      }
     },
     "827fc726c5584386ab081e07afd182e2": {
      "model_module": "@jupyter-widgets/controls",
      "model_module_version": "1.5.0",
      "model_name": "IntSliderModel",
      "state": {
       "description": "batchsize_",
       "layout": "IPY_MODEL_3d2cb11876b14f448bc7b874582fe93b",
       "max": 20,
       "style": "IPY_MODEL_37870ac819fa4651b2f4be8dd483cb6a",
       "value": 10
      }
     },
     "82e1a3ec27aa4cb8bdf79bb6fbe86a33": {
      "model_module": "@jupyter-widgets/controls",
      "model_module_version": "1.5.0",
      "model_name": "SliderStyleModel",
      "state": {
       "description_width": ""
      }
     },
     "832e2a14a9c347e6a1b5a19e7491565f": {
      "model_module": "@jupyter-widgets/output",
      "model_module_version": "1.0.0",
      "model_name": "OutputModel",
      "state": {
       "layout": "IPY_MODEL_a87bc3cafa904605945c15dfb547d755",
       "outputs": [
        {
         "name": "stdout",
         "output_type": "stream",
         "text": "selected batch: 2 of 24.0 with a batchsize of 4 and total 100 examples\nstart idx: 8, end idx: 12\n[8, 9]\n"
        },
        {
         "data": {
          "text/plain": "[[[80, 81, 82, 83, 84], [90, 91, 92, 93, 94]],\n [[0.8, 1.8, 2.8, 3.8, 4.8], [0.9, 1.9, 2.9, 3.9, 4.9]]]"
         },
         "metadata": {},
         "output_type": "display_data"
        }
       ]
      }
     },
     "83386e3565944a6fa142f4d5547521f3": {
      "model_module": "@jupyter-widgets/controls",
      "model_module_version": "1.5.0",
      "model_name": "IntSliderModel",
      "state": {
       "description": "selected_batch",
       "layout": "IPY_MODEL_daf5d28662c24be393e198bc229be570",
       "max": 9,
       "style": "IPY_MODEL_6009f141307348f48cfc82fe3a3b8cc1",
       "value": 4
      }
     },
     "83673dc19d964d8f98c81fd78a0733e2": {
      "model_module": "@jupyter-widgets/output",
      "model_module_version": "1.0.0",
      "model_name": "OutputModel",
      "state": {
       "layout": "IPY_MODEL_e6c1922b30054e908849a9f2a5beca9b"
      }
     },
     "83afb3df1e004c65b2c7915bfbb89d14": {
      "model_module": "@jupyter-widgets/base",
      "model_module_version": "1.2.0",
      "model_name": "LayoutModel",
      "state": {}
     },
     "840ba56684c0468b9136e8bcd79704ba": {
      "model_module": "@jupyter-widgets/controls",
      "model_module_version": "1.5.0",
      "model_name": "SliderStyleModel",
      "state": {
       "description_width": ""
      }
     },
     "843224c8abd34e83b0cc923fd53f383e": {
      "model_module": "@jupyter-widgets/output",
      "model_module_version": "1.0.0",
      "model_name": "OutputModel",
      "state": {
       "layout": "IPY_MODEL_25a9c5ab56004a5e8362fe5f376271c1"
      }
     },
     "84b31fd25b764779ab5fec09bed92b30": {
      "model_module": "@jupyter-widgets/base",
      "model_module_version": "1.2.0",
      "model_name": "LayoutModel",
      "state": {}
     },
     "84d32b1a4071453e8da22a165906c260": {
      "model_module": "@jupyter-widgets/output",
      "model_module_version": "1.0.0",
      "model_name": "OutputModel",
      "state": {
       "layout": "IPY_MODEL_f0e23815165341a781c718962142be4c",
       "outputs": [
        {
         "name": "stdout",
         "output_type": "stream",
         "text": "selected batch: 12 of total batches: 25.0 from 100 examples\nstart idx: 48, end idx: 52\n[]\n"
        },
        {
         "data": {
          "text/plain": "[[], []]"
         },
         "metadata": {},
         "output_type": "display_data"
        }
       ]
      }
     },
     "85be9bdbf38a46fe93ce70ab381ed5df": {
      "model_module": "@jupyter-widgets/output",
      "model_module_version": "1.0.0",
      "model_name": "OutputModel",
      "state": {
       "layout": "IPY_MODEL_6845dae0d6f4411997804431dfc8a377",
       "outputs": [
        {
         "ename": "TypeError",
         "evalue": "unsupported operand type(s) for +: 'function' and 'int'",
         "output_type": "error",
         "traceback": [
          "\u001b[0;31m---------------------------------------------------------------------------\u001b[0m",
          "\u001b[0;31mTypeError\u001b[0m                                 Traceback (most recent call last)",
          "\u001b[0;32m~/anaconda3/envs/dcmr/lib/python3.8/site-packages/ipywidgets/widgets/interaction.py\u001b[0m in \u001b[0;36mupdate\u001b[0;34m(self, *args)\u001b[0m\n\u001b[1;32m    254\u001b[0m                     \u001b[0mvalue\u001b[0m \u001b[0;34m=\u001b[0m \u001b[0mwidget\u001b[0m\u001b[0;34m.\u001b[0m\u001b[0mget_interact_value\u001b[0m\u001b[0;34m(\u001b[0m\u001b[0;34m)\u001b[0m\u001b[0;34m\u001b[0m\u001b[0;34m\u001b[0m\u001b[0m\n\u001b[1;32m    255\u001b[0m                     \u001b[0mself\u001b[0m\u001b[0;34m.\u001b[0m\u001b[0mkwargs\u001b[0m\u001b[0;34m[\u001b[0m\u001b[0mwidget\u001b[0m\u001b[0;34m.\u001b[0m\u001b[0m_kwarg\u001b[0m\u001b[0;34m]\u001b[0m \u001b[0;34m=\u001b[0m \u001b[0mvalue\u001b[0m\u001b[0;34m\u001b[0m\u001b[0;34m\u001b[0m\u001b[0m\n\u001b[0;32m--> 256\u001b[0;31m                 \u001b[0mself\u001b[0m\u001b[0;34m.\u001b[0m\u001b[0mresult\u001b[0m \u001b[0;34m=\u001b[0m \u001b[0mself\u001b[0m\u001b[0;34m.\u001b[0m\u001b[0mf\u001b[0m\u001b[0;34m(\u001b[0m\u001b[0;34m**\u001b[0m\u001b[0mself\u001b[0m\u001b[0;34m.\u001b[0m\u001b[0mkwargs\u001b[0m\u001b[0;34m)\u001b[0m\u001b[0;34m\u001b[0m\u001b[0;34m\u001b[0m\u001b[0m\n\u001b[0m\u001b[1;32m    257\u001b[0m                 \u001b[0mshow_inline_matplotlib_plots\u001b[0m\u001b[0;34m(\u001b[0m\u001b[0;34m)\u001b[0m\u001b[0;34m\u001b[0m\u001b[0;34m\u001b[0m\u001b[0m\n\u001b[1;32m    258\u001b[0m                 \u001b[0;32mif\u001b[0m \u001b[0mself\u001b[0m\u001b[0;34m.\u001b[0m\u001b[0mauto_display\u001b[0m \u001b[0;32mand\u001b[0m \u001b[0mself\u001b[0m\u001b[0;34m.\u001b[0m\u001b[0mresult\u001b[0m \u001b[0;32mis\u001b[0m \u001b[0;32mnot\u001b[0m \u001b[0;32mNone\u001b[0m\u001b[0;34m:\u001b[0m\u001b[0;34m\u001b[0m\u001b[0;34m\u001b[0m\u001b[0m\n",
          "\u001b[0;32m<ipython-input-51-b5b9de696add>\u001b[0m in \u001b[0;36mselect_batch\u001b[0;34m(selected_batch)\u001b[0m\n\u001b[1;32m      2\u001b[0m \u001b[0;34m@\u001b[0m\u001b[0minteract\u001b[0m\u001b[0;34m\u001b[0m\u001b[0;34m\u001b[0m\u001b[0m\n\u001b[1;32m      3\u001b[0m \u001b[0;32mdef\u001b[0m \u001b[0mselect_batch\u001b[0m\u001b[0;34m(\u001b[0m\u001b[0mselected_batch\u001b[0m \u001b[0;34m=\u001b[0m \u001b[0;34m(\u001b[0m\u001b[0;36m0\u001b[0m\u001b[0;34m,\u001b[0m\u001b[0mint\u001b[0m\u001b[0;34m(\u001b[0m\u001b[0mnp\u001b[0m\u001b[0;34m.\u001b[0m\u001b[0mfloor\u001b[0m\u001b[0;34m(\u001b[0m\u001b[0mexamples\u001b[0m\u001b[0;34m/\u001b[0m\u001b[0mbatchsize\u001b[0m\u001b[0;34m)\u001b[0m\u001b[0;34m)\u001b[0m\u001b[0;34m)\u001b[0m\u001b[0;34m)\u001b[0m\u001b[0;34m:\u001b[0m\u001b[0;34m\u001b[0m\u001b[0;34m\u001b[0m\u001b[0m\n\u001b[0;32m----> 4\u001b[0;31m     \u001b[0mbatch_indexes\u001b[0m \u001b[0;34m=\u001b[0m \u001b[0mindexes\u001b[0m\u001b[0;34m[\u001b[0m\u001b[0mselected_batch\u001b[0m\u001b[0;34m*\u001b[0m\u001b[0mbatchsize\u001b[0m\u001b[0;34m:\u001b[0m \u001b[0;34m(\u001b[0m\u001b[0mselect_batch\u001b[0m\u001b[0;34m+\u001b[0m\u001b[0;36m1\u001b[0m\u001b[0;34m)\u001b[0m\u001b[0;34m*\u001b[0m\u001b[0mbatchsize\u001b[0m\u001b[0;34m]\u001b[0m\u001b[0;34m\u001b[0m\u001b[0;34m\u001b[0m\u001b[0m\n\u001b[0m\u001b[1;32m      5\u001b[0m     \u001b[0mprint\u001b[0m\u001b[0;34m(\u001b[0m\u001b[0mbatch_indexes\u001b[0m\u001b[0;34m)\u001b[0m\u001b[0;34m\u001b[0m\u001b[0;34m\u001b[0m\u001b[0m\n\u001b[1;32m      6\u001b[0m     \u001b[0mbatch_x\u001b[0m \u001b[0;34m=\u001b[0m \u001b[0;34m[\u001b[0m\u001b[0mX\u001b[0m\u001b[0;34m[\u001b[0m\u001b[0mk\u001b[0m\u001b[0;34m]\u001b[0m \u001b[0;32mfor\u001b[0m \u001b[0mk\u001b[0m \u001b[0;32min\u001b[0m \u001b[0mbatch_indexes\u001b[0m\u001b[0;34m]\u001b[0m\u001b[0;34m\u001b[0m\u001b[0;34m\u001b[0m\u001b[0m\n",
          "\u001b[0;31mTypeError\u001b[0m: unsupported operand type(s) for +: 'function' and 'int'"
         ]
        }
       ]
      }
     },
     "85d80e97a2cf4e84b4e03b158b952a53": {
      "model_module": "@jupyter-widgets/controls",
      "model_module_version": "1.5.0",
      "model_name": "SliderStyleModel",
      "state": {
       "description_width": ""
      }
     },
     "85e286f360974d94844200a04cad57b4": {
      "model_module": "@jupyter-widgets/controls",
      "model_module_version": "1.5.0",
      "model_name": "IntSliderModel",
      "state": {
       "description": "examples_",
       "layout": "IPY_MODEL_da1f096def414a38bb023a36d6f176d4",
       "style": "IPY_MODEL_aba8541fbb4048caa2ab0bc438b5575d",
       "value": 100
      }
     },
     "869646845e1148108525ac7a3c7ce51a": {
      "model_module": "@jupyter-widgets/controls",
      "model_module_version": "1.5.0",
      "model_name": "VBoxModel",
      "state": {
       "_dom_classes": [
        "widget-interact"
       ],
       "children": [
        "IPY_MODEL_a998f8b217d34aac9c247e5dd448dac0",
        "IPY_MODEL_964b110548e7481987f3d7584c36333f"
       ],
       "layout": "IPY_MODEL_054468003e484c13903f87d40a10794a"
      }
     },
     "86cc2e3f6c5b4f4ba4c2d95c31039c56": {
      "model_module": "@jupyter-widgets/controls",
      "model_module_version": "1.5.0",
      "model_name": "VBoxModel",
      "state": {
       "_dom_classes": [
        "widget-interact"
       ],
       "children": [
        "IPY_MODEL_c69962eb459443bea9865c3499a633d1",
        "IPY_MODEL_152813f318ed4071a9044b6ebcb27729",
        "IPY_MODEL_6139f774b47f4a428093191efb042288",
        "IPY_MODEL_f525c019a1194e1398756e08cad2c0f4"
       ],
       "layout": "IPY_MODEL_56d7646f2c1647c6b9fbcdbc7bff0f90"
      }
     },
     "86d54b78ec5a46629f0ae599bf96cc0e": {
      "model_module": "@jupyter-widgets/base",
      "model_module_version": "1.2.0",
      "model_name": "LayoutModel",
      "state": {}
     },
     "86d7005f89c643ef95321ed49bf2dacb": {
      "model_module": "@jupyter-widgets/controls",
      "model_module_version": "1.5.0",
      "model_name": "VBoxModel",
      "state": {
       "_dom_classes": [
        "widget-interact"
       ],
       "children": [
        "IPY_MODEL_1c376d111c4a4ec19068003277398196",
        "IPY_MODEL_cf7fad58512f453ea7be6b52c81bbf04",
        "IPY_MODEL_1f169ef5d232488cbb408b2c17db6da6"
       ],
       "layout": "IPY_MODEL_e9d2c8e5a9ac45a0a017b52641320672"
      }
     },
     "8772e8cc6a4f4d73a8a57923dd10cf45": {
      "model_module": "@jupyter-widgets/base",
      "model_module_version": "1.2.0",
      "model_name": "LayoutModel",
      "state": {}
     },
     "8864af5b453d4a73a9fc87f124fb97ab": {
      "model_module": "@jupyter-widgets/controls",
      "model_module_version": "1.5.0",
      "model_name": "IntSliderModel",
      "state": {
       "description": "example_size_",
       "layout": "IPY_MODEL_b1599be17cd4467a9b29bda123639c93",
       "max": 20,
       "style": "IPY_MODEL_bc223c068fff4d0194ae5537114e9f8d",
       "value": 4
      }
     },
     "8864b48efd57455192a1a4e8eb1ca1c0": {
      "model_module": "@jupyter-widgets/controls",
      "model_module_version": "1.5.0",
      "model_name": "IntSliderModel",
      "state": {
       "description": "selected_batch",
       "layout": "IPY_MODEL_3d02885464fd47f0af8495f74cc9903b",
       "max": 25,
       "min": 1,
       "style": "IPY_MODEL_bb875eeaaa2b4571818e453b944f7b31",
       "value": 25
      }
     },
     "88cd264e88c9408c80dd6fa9e3767d76": {
      "model_module": "@jupyter-widgets/base",
      "model_module_version": "1.2.0",
      "model_name": "LayoutModel",
      "state": {}
     },
     "892170a602694a2487922191c55515b7": {
      "model_module": "@jupyter-widgets/controls",
      "model_module_version": "1.5.0",
      "model_name": "IntSliderModel",
      "state": {
       "description": "example_size_",
       "layout": "IPY_MODEL_666778dcee28434687d0a475236e95fe",
       "max": 8,
       "min": 1,
       "style": "IPY_MODEL_4581678ffd5f46ab88d1cf15724be818",
       "value": 4
      }
     },
     "898866f965164dff92bdf103ae6563ef": {
      "model_module": "@jupyter-widgets/controls",
      "model_module_version": "1.5.0",
      "model_name": "VBoxModel",
      "state": {
       "_dom_classes": [
        "widget-interact"
       ],
       "children": [
        "IPY_MODEL_aab7391780924ba3b32e036268bbaaa7",
        "IPY_MODEL_2aaa36a29622450990872cb90f617edb"
       ],
       "layout": "IPY_MODEL_dea12458fb0846118c12f5ab45d8c89d"
      }
     },
     "89a1c95b331b40b986f62baf50226b7d": {
      "model_module": "@jupyter-widgets/controls",
      "model_module_version": "1.5.0",
      "model_name": "IntSliderModel",
      "state": {
       "description": "batchsize_",
       "layout": "IPY_MODEL_216c3bbadffb40748bac4ebd3614b92d",
       "max": 20,
       "min": 1,
       "style": "IPY_MODEL_ce324bc061ad48b5b6cc6fd9fb31782d",
       "value": 10
      }
     },
     "89ce6aa243c24e31ba8bc1da60c08b36": {
      "model_module": "@jupyter-widgets/base",
      "model_module_version": "1.2.0",
      "model_name": "LayoutModel",
      "state": {}
     },
     "8a322d94aa1340d7be300b872f8fbf26": {
      "model_module": "@jupyter-widgets/base",
      "model_module_version": "1.2.0",
      "model_name": "LayoutModel",
      "state": {}
     },
     "8a5e0548b6054a7296357610cf86d1b4": {
      "model_module": "@jupyter-widgets/base",
      "model_module_version": "1.2.0",
      "model_name": "LayoutModel",
      "state": {}
     },
     "8a945435f4204a559004c07df754a05d": {
      "model_module": "@jupyter-widgets/controls",
      "model_module_version": "1.5.0",
      "model_name": "VBoxModel",
      "state": {
       "_dom_classes": [
        "widget-interact"
       ],
       "children": [
        "IPY_MODEL_c6066a3b094d4a3f9c5806cdb3abb066",
        "IPY_MODEL_62359d900aca481fac03be58cf4f6007"
       ],
       "layout": "IPY_MODEL_d6900961a53e4b6b8a4ec1ac89fb8931"
      }
     },
     "8abb91e1c72340a48943d207acc632e4": {
      "model_module": "@jupyter-widgets/controls",
      "model_module_version": "1.5.0",
      "model_name": "VBoxModel",
      "state": {
       "_dom_classes": [
        "widget-interact"
       ],
       "children": [
        "IPY_MODEL_e283b32f8b864556b8c2aea3e6ed92a0",
        "IPY_MODEL_84d32b1a4071453e8da22a165906c260"
       ],
       "layout": "IPY_MODEL_9d254c00a97f414bb0aed6ab61c72723"
      }
     },
     "8c046402c2c841e3b7b07dc396d99efd": {
      "model_module": "@jupyter-widgets/controls",
      "model_module_version": "1.5.0",
      "model_name": "IntSliderModel",
      "state": {
       "description": "examples_",
       "layout": "IPY_MODEL_4e99c1044c9848a19995ff4b31e75efe",
       "style": "IPY_MODEL_e528a2281def4314811aa3484ce8416d",
       "value": 100
      }
     },
     "8c0786fea155449a9d6e1df94a3dc714": {
      "model_module": "@jupyter-widgets/controls",
      "model_module_version": "1.5.0",
      "model_name": "IntSliderModel",
      "state": {
       "description": "examples_",
       "layout": "IPY_MODEL_d2dc265c885c4a66b700d5bd70ac2e23",
       "min": 1,
       "style": "IPY_MODEL_257c4eadd27e40bfaf4314dfbbce7ece",
       "value": 50
      }
     },
     "8c669fc53b8244ff8e1ede846d630ef7": {
      "model_module": "@jupyter-widgets/base",
      "model_module_version": "1.2.0",
      "model_name": "LayoutModel",
      "state": {}
     },
     "8e4211c3bac14a6582258bb9152407c6": {
      "model_module": "@jupyter-widgets/base",
      "model_module_version": "1.2.0",
      "model_name": "LayoutModel",
      "state": {}
     },
     "8e6050cdacd0458aa52a821f262f06c3": {
      "model_module": "@jupyter-widgets/base",
      "model_module_version": "1.2.0",
      "model_name": "LayoutModel",
      "state": {}
     },
     "8ee63a4aab964b5c9fe1412a184bd2bf": {
      "model_module": "@jupyter-widgets/base",
      "model_module_version": "1.2.0",
      "model_name": "LayoutModel",
      "state": {}
     },
     "8effd7bdf6a147e39a2e6c1daf2c62fb": {
      "model_module": "@jupyter-widgets/controls",
      "model_module_version": "1.5.0",
      "model_name": "SliderStyleModel",
      "state": {
       "description_width": ""
      }
     },
     "8f516af104f14250ba4c1d06af25e34f": {
      "model_module": "@jupyter-widgets/output",
      "model_module_version": "1.0.0",
      "model_name": "OutputModel",
      "state": {
       "layout": "IPY_MODEL_b33687642f4841caa36b73a8867122be",
       "outputs": [
        {
         "name": "stdout",
         "output_type": "stream",
         "text": "[0, 1, 2, 3, 4, 5, 6, 7, 8, 9]\n"
        },
        {
         "data": {
          "text/plain": "[[[0, 1, 2, 3, 4],\n  [1, 2, 3, 4, 5],\n  [2, 3, 4, 5, 6],\n  [3, 4, 5, 6, 7],\n  [4, 5, 6, 7, 8],\n  [5, 6, 7, 8, 9],\n  [6, 7, 8, 9, 10],\n  [7, 8, 9, 10, 11],\n  [8, 9, 10, 11, 12],\n  [9, 10, 11, 12, 13]],\n [[0, 1, 2, 3, 4],\n  [2, 3, 4, 5, 6],\n  [4, 5, 6, 7, 8],\n  [6, 7, 8, 9, 10],\n  [8, 9, 10, 11, 12],\n  [10, 11, 12, 13, 14],\n  [12, 13, 14, 15, 16],\n  [14, 15, 16, 17, 18],\n  [16, 17, 18, 19, 20],\n  [18, 19, 20, 21, 22]]]"
         },
         "metadata": {},
         "output_type": "display_data"
        }
       ]
      }
     },
     "8f5a051dd0444a0ba22d2b7dba3b4a44": {
      "model_module": "@jupyter-widgets/base",
      "model_module_version": "1.2.0",
      "model_name": "LayoutModel",
      "state": {}
     },
     "8fd9a478d47a4425b2748cf1a19f8e6c": {
      "model_module": "@jupyter-widgets/controls",
      "model_module_version": "1.5.0",
      "model_name": "SliderStyleModel",
      "state": {
       "description_width": ""
      }
     },
     "9012b2928ae14a438eef5d42f2129757": {
      "model_module": "@jupyter-widgets/controls",
      "model_module_version": "1.5.0",
      "model_name": "VBoxModel",
      "state": {
       "_dom_classes": [
        "widget-interact"
       ],
       "children": [
        "IPY_MODEL_85e286f360974d94844200a04cad57b4",
        "IPY_MODEL_e002339b46e941ef9bd58ad2e9e2477e",
        "IPY_MODEL_c319ef2d016049019f63a291730a6f09",
        "IPY_MODEL_eb4e4e96fc754af585f756321165eda1"
       ],
       "layout": "IPY_MODEL_7bbda9d2a2dd4ebd81e40dc868ae9e4a"
      }
     },
     "903f6135b8c94c8c82b09fc97cbd1c56": {
      "model_module": "@jupyter-widgets/controls",
      "model_module_version": "1.5.0",
      "model_name": "VBoxModel",
      "state": {
       "_dom_classes": [
        "widget-interact"
       ],
       "children": [
        "IPY_MODEL_f0e8062ce30f4cedaf13b241c62cce43",
        "IPY_MODEL_8864af5b453d4a73a9fc87f124fb97ab",
        "IPY_MODEL_f213e30179624e938bec5446a8498595",
        "IPY_MODEL_843224c8abd34e83b0cc923fd53f383e"
       ],
       "layout": "IPY_MODEL_aa6d4537ea1e4e509feb88737ac566f4"
      }
     },
     "90bbc767f7054347a09a9f8eeca471bd": {
      "model_module": "@jupyter-widgets/controls",
      "model_module_version": "1.5.0",
      "model_name": "VBoxModel",
      "state": {
       "_dom_classes": [
        "widget-interact"
       ],
       "children": [
        "IPY_MODEL_8864b48efd57455192a1a4e8eb1ca1c0",
        "IPY_MODEL_1e2286ecfb6f4777b67823e08e21a4dc"
       ],
       "layout": "IPY_MODEL_6d4b13e449084c80b9ef5c560fd1b4f2"
      }
     },
     "90c4328b4d7e4b0a8b35f708e4536a6f": {
      "model_module": "@jupyter-widgets/base",
      "model_module_version": "1.2.0",
      "model_name": "LayoutModel",
      "state": {}
     },
     "90f7dca01f0b41ac8b4e63d656181517": {
      "model_module": "@jupyter-widgets/controls",
      "model_module_version": "1.5.0",
      "model_name": "CheckboxModel",
      "state": {
       "description": "shuffle_indexes",
       "disabled": false,
       "layout": "IPY_MODEL_77891b26d867466987cc3f7cf21e955e",
       "style": "IPY_MODEL_d7c25502b7454c36823a93e451a625d5",
       "value": false
      }
     },
     "90f8ed90fe224361b2676d9dfea25914": {
      "model_module": "@jupyter-widgets/controls",
      "model_module_version": "1.5.0",
      "model_name": "CheckboxModel",
      "state": {
       "description": "shuffle_indexes",
       "disabled": false,
       "layout": "IPY_MODEL_243d742713a645319da59a357a7842bb",
       "style": "IPY_MODEL_b6adc5be32f942f8bbb975daa3ed7bab",
       "value": false
      }
     },
     "9185c1b640714bf6b1f42b4742c54e6d": {
      "model_module": "@jupyter-widgets/base",
      "model_module_version": "1.2.0",
      "model_name": "LayoutModel",
      "state": {}
     },
     "9206f1bb25454ba89b5cc422870a94d7": {
      "model_module": "@jupyter-widgets/controls",
      "model_module_version": "1.5.0",
      "model_name": "SliderStyleModel",
      "state": {
       "description_width": ""
      }
     },
     "92e9797201a94bf6822aa518e535fd78": {
      "model_module": "@jupyter-widgets/base",
      "model_module_version": "1.2.0",
      "model_name": "LayoutModel",
      "state": {}
     },
     "93312deafd8e46f0bed69cb1c7369a33": {
      "model_module": "@jupyter-widgets/output",
      "model_module_version": "1.0.0",
      "model_name": "OutputModel",
      "state": {
       "layout": "IPY_MODEL_a5af619f0cec4a4fb60927d8e2db491b",
       "outputs": [
        {
         "name": "stdout",
         "output_type": "stream",
         "text": "selected batch: 4 of 9 with a batchsize of 10 and total 100 examples\nstart idx: 40, end idx: 50\n[40, 41, 42, 43, 44, 45, 46, 47, 48, 49]\n"
        },
        {
         "data": {
          "text/plain": "[[[], [], [], [], [], [], [], [], [], []],\n [[], [], [], [], [], [], [], [], [], []]]"
         },
         "metadata": {},
         "output_type": "display_data"
        }
       ]
      }
     },
     "936794fc8a2e4b3386cab6fb30d87cb1": {
      "model_module": "@jupyter-widgets/controls",
      "model_module_version": "1.5.0",
      "model_name": "SliderStyleModel",
      "state": {
       "description_width": ""
      }
     },
     "944ffb5211c64e5db20bcdb66b0fabda": {
      "model_module": "@jupyter-widgets/base",
      "model_module_version": "1.2.0",
      "model_name": "LayoutModel",
      "state": {}
     },
     "9469747c490747ec8aa382662d99212b": {
      "model_module": "@jupyter-widgets/base",
      "model_module_version": "1.2.0",
      "model_name": "LayoutModel",
      "state": {}
     },
     "94a84294ba014d98bdd4c2dfa550e422": {
      "model_module": "@jupyter-widgets/base",
      "model_module_version": "1.2.0",
      "model_name": "LayoutModel",
      "state": {}
     },
     "9530055b64c04a2a879884349898527b": {
      "model_module": "@jupyter-widgets/base",
      "model_module_version": "1.2.0",
      "model_name": "LayoutModel",
      "state": {}
     },
     "95b1ab1b138240e3903a7ac1ed02528d": {
      "model_module": "@jupyter-widgets/controls",
      "model_module_version": "1.5.0",
      "model_name": "SliderStyleModel",
      "state": {
       "description_width": ""
      }
     },
     "95b3a09b0fe4454486aeb2aebacceaa0": {
      "model_module": "@jupyter-widgets/controls",
      "model_module_version": "1.5.0",
      "model_name": "IntSliderModel",
      "state": {
       "description": "examples_",
       "layout": "IPY_MODEL_e96ce13ca18748bfb7b423dce0c59693",
       "style": "IPY_MODEL_405548bbb36e4fc88fb06787dedb26cd",
       "value": 100
      }
     },
     "964b110548e7481987f3d7584c36333f": {
      "model_module": "@jupyter-widgets/output",
      "model_module_version": "1.0.0",
      "model_name": "OutputModel",
      "state": {
       "layout": "IPY_MODEL_180d9af8707a4a1cb560cbe775804329",
       "outputs": [
        {
         "name": "stdout",
         "output_type": "stream",
         "text": "[0, 1, 2, 3, 4, 5, 6, 7, 8, 9]\n"
        }
       ]
      }
     },
     "964dee7aa14447f7bfa6bbf4b0f68cb6": {
      "model_module": "@jupyter-widgets/controls",
      "model_module_version": "1.5.0",
      "model_name": "SliderStyleModel",
      "state": {
       "description_width": ""
      }
     },
     "96dfdf4fea6d470597fe4ad168462163": {
      "model_module": "@jupyter-widgets/controls",
      "model_module_version": "1.5.0",
      "model_name": "IntSliderModel",
      "state": {
       "description": "examples_",
       "layout": "IPY_MODEL_5cd3afe33a2c474db2f68b34f77065ff",
       "style": "IPY_MODEL_187dc354438f4e3db1082f16559e0e0c",
       "value": 50
      }
     },
     "97ba0697d3d941b39b83e682201ee545": {
      "model_module": "@jupyter-widgets/controls",
      "model_module_version": "1.5.0",
      "model_name": "IntSliderModel",
      "state": {
       "description": "example_size_",
       "layout": "IPY_MODEL_59d5d0207cad42d2a7bff8ae36c64837",
       "max": 20,
       "style": "IPY_MODEL_ea4e95f43c0640b0bed581241f8b7ac7",
       "value": 2
      }
     },
     "97d793ca321c46deaec0e211ccb3a97c": {
      "model_module": "@jupyter-widgets/base",
      "model_module_version": "1.2.0",
      "model_name": "LayoutModel",
      "state": {}
     },
     "97e34d6aa0fd4718ae2d8a72ba2ad5fb": {
      "model_module": "@jupyter-widgets/base",
      "model_module_version": "1.2.0",
      "model_name": "LayoutModel",
      "state": {}
     },
     "992f56825f5048989f5594a431df40dd": {
      "model_module": "@jupyter-widgets/base",
      "model_module_version": "1.2.0",
      "model_name": "LayoutModel",
      "state": {}
     },
     "996ae5a180894074938d7728fe466cb4": {
      "model_module": "@jupyter-widgets/base",
      "model_module_version": "1.2.0",
      "model_name": "LayoutModel",
      "state": {}
     },
     "99910e1875c3493d80d6210f3bfb63cf": {
      "model_module": "@jupyter-widgets/controls",
      "model_module_version": "1.5.0",
      "model_name": "IntSliderModel",
      "state": {
       "description": "selected_batch",
       "layout": "IPY_MODEL_72245b934671493c907134e3e77fce41",
       "max": 24,
       "style": "IPY_MODEL_af20fdbd708546058133d95b0db6e130",
       "value": 12
      }
     },
     "9a2a73dbc9884905b362e21d1432d675": {
      "model_module": "@jupyter-widgets/controls",
      "model_module_version": "1.5.0",
      "model_name": "VBoxModel",
      "state": {
       "_dom_classes": [
        "widget-interact"
       ],
       "children": [
        "IPY_MODEL_e4aff49b063e44939d238f82adb51d12",
        "IPY_MODEL_75a80b9962284d448784ed23fbb7ea96"
       ],
       "layout": "IPY_MODEL_659a10ae4b7145ccbb73923465eef392"
      }
     },
     "9a8628dd68dd4740a04bfba254caca48": {
      "model_module": "@jupyter-widgets/base",
      "model_module_version": "1.2.0",
      "model_name": "LayoutModel",
      "state": {}
     },
     "9b3b984d810044dd9fe4ee54712b85a5": {
      "model_module": "@jupyter-widgets/base",
      "model_module_version": "1.2.0",
      "model_name": "LayoutModel",
      "state": {}
     },
     "9b48ae0735eb44b2b38c640668faa875": {
      "model_module": "@jupyter-widgets/output",
      "model_module_version": "1.0.0",
      "model_name": "OutputModel",
      "state": {
       "layout": "IPY_MODEL_026f7de6ec304187b59871744afe7b05",
       "outputs": [
        {
         "ename": "TypeError",
         "evalue": "'module' object is not callable",
         "output_type": "error",
         "traceback": [
          "\u001b[0;31m---------------------------------------------------------------------------\u001b[0m",
          "\u001b[0;31mTypeError\u001b[0m                                 Traceback (most recent call last)",
          "\u001b[0;32m~/anaconda3/envs/dcmr/lib/python3.8/site-packages/ipywidgets/widgets/interaction.py\u001b[0m in \u001b[0;36mupdate\u001b[0;34m(self, *args)\u001b[0m\n\u001b[1;32m    254\u001b[0m                     \u001b[0mvalue\u001b[0m \u001b[0;34m=\u001b[0m \u001b[0mwidget\u001b[0m\u001b[0;34m.\u001b[0m\u001b[0mget_interact_value\u001b[0m\u001b[0;34m(\u001b[0m\u001b[0;34m)\u001b[0m\u001b[0;34m\u001b[0m\u001b[0;34m\u001b[0m\u001b[0m\n\u001b[1;32m    255\u001b[0m                     \u001b[0mself\u001b[0m\u001b[0;34m.\u001b[0m\u001b[0mkwargs\u001b[0m\u001b[0;34m[\u001b[0m\u001b[0mwidget\u001b[0m\u001b[0;34m.\u001b[0m\u001b[0m_kwarg\u001b[0m\u001b[0;34m]\u001b[0m \u001b[0;34m=\u001b[0m \u001b[0mvalue\u001b[0m\u001b[0;34m\u001b[0m\u001b[0;34m\u001b[0m\u001b[0m\n\u001b[0;32m--> 256\u001b[0;31m                 \u001b[0mself\u001b[0m\u001b[0;34m.\u001b[0m\u001b[0mresult\u001b[0m \u001b[0;34m=\u001b[0m \u001b[0mself\u001b[0m\u001b[0;34m.\u001b[0m\u001b[0mf\u001b[0m\u001b[0;34m(\u001b[0m\u001b[0;34m**\u001b[0m\u001b[0mself\u001b[0m\u001b[0;34m.\u001b[0m\u001b[0mkwargs\u001b[0m\u001b[0;34m)\u001b[0m\u001b[0;34m\u001b[0m\u001b[0;34m\u001b[0m\u001b[0m\n\u001b[0m\u001b[1;32m    257\u001b[0m                 \u001b[0mshow_inline_matplotlib_plots\u001b[0m\u001b[0;34m(\u001b[0m\u001b[0;34m)\u001b[0m\u001b[0;34m\u001b[0m\u001b[0;34m\u001b[0m\u001b[0m\n\u001b[1;32m    258\u001b[0m                 \u001b[0;32mif\u001b[0m \u001b[0mself\u001b[0m\u001b[0;34m.\u001b[0m\u001b[0mauto_display\u001b[0m \u001b[0;32mand\u001b[0m \u001b[0mself\u001b[0m\u001b[0;34m.\u001b[0m\u001b[0mresult\u001b[0m \u001b[0;32mis\u001b[0m \u001b[0;32mnot\u001b[0m \u001b[0;32mNone\u001b[0m\u001b[0;34m:\u001b[0m\u001b[0;34m\u001b[0m\u001b[0;34m\u001b[0m\u001b[0m\n",
          "\u001b[0;32m<ipython-input-102-8e6e70bc2199>\u001b[0m in \u001b[0;36mcreate_fake_data\u001b[0;34m(examples_, example_size_, batchsize_)\u001b[0m\n\u001b[1;32m      9\u001b[0m     \u001b[0mbatchsize\u001b[0m \u001b[0;34m=\u001b[0m \u001b[0mbatchsize_\u001b[0m\u001b[0;34m\u001b[0m\u001b[0;34m\u001b[0m\u001b[0m\n\u001b[1;32m     10\u001b[0m     \u001b[0;31m# create some fakedata with the\u001b[0m\u001b[0;34m\u001b[0m\u001b[0;34m\u001b[0m\u001b[0;34m\u001b[0m\u001b[0m\n\u001b[0;32m---> 11\u001b[0;31m     \u001b[0mX\u001b[0m \u001b[0;34m=\u001b[0m \u001b[0;34m[\u001b[0m\u001b[0mlist\u001b[0m\u001b[0;34m(\u001b[0m\u001b[0mnp\u001b[0m\u001b[0;34m.\u001b[0m\u001b[0mrandom\u001b[0m\u001b[0;34m(\u001b[0m\u001b[0;34m)\u001b[0m\u001b[0;34m+\u001b[0m\u001b[0;34m(\u001b[0m\u001b[0mdelta\u001b[0m\u001b[0;34m*\u001b[0m\u001b[0;36m10\u001b[0m\u001b[0;34m)\u001b[0m \u001b[0;32mfor\u001b[0m \u001b[0mi\u001b[0m \u001b[0;32min\u001b[0m \u001b[0mrange\u001b[0m\u001b[0;34m(\u001b[0m\u001b[0mexample_size_\u001b[0m\u001b[0;34m)\u001b[0m\u001b[0;34m)\u001b[0m \u001b[0;32mfor\u001b[0m \u001b[0mdelta\u001b[0m \u001b[0;32min\u001b[0m \u001b[0mrange\u001b[0m\u001b[0;34m(\u001b[0m\u001b[0mexamples_\u001b[0m\u001b[0;34m)\u001b[0m\u001b[0;34m]\u001b[0m\u001b[0;34m\u001b[0m\u001b[0;34m\u001b[0m\u001b[0m\n\u001b[0m\u001b[1;32m     12\u001b[0m     \u001b[0mY\u001b[0m \u001b[0;34m=\u001b[0m \u001b[0;34m[\u001b[0m\u001b[0mlist\u001b[0m\u001b[0;34m(\u001b[0m\u001b[0mi\u001b[0m\u001b[0;34m+\u001b[0m\u001b[0;34m(\u001b[0m\u001b[0mdelta\u001b[0m\u001b[0;34m/\u001b[0m\u001b[0;36m10\u001b[0m\u001b[0;34m)\u001b[0m \u001b[0;32mfor\u001b[0m \u001b[0mi\u001b[0m \u001b[0;32min\u001b[0m \u001b[0mrange\u001b[0m\u001b[0;34m(\u001b[0m\u001b[0mexample_size_\u001b[0m\u001b[0;34m)\u001b[0m\u001b[0;34m)\u001b[0m \u001b[0;32mfor\u001b[0m \u001b[0mdelta\u001b[0m \u001b[0;32min\u001b[0m \u001b[0mrange\u001b[0m\u001b[0;34m(\u001b[0m\u001b[0mexamples_\u001b[0m\u001b[0;34m)\u001b[0m\u001b[0;34m]\u001b[0m\u001b[0;34m\u001b[0m\u001b[0;34m\u001b[0m\u001b[0m\n\u001b[1;32m     13\u001b[0m     \u001b[0mindexes\u001b[0m \u001b[0;34m=\u001b[0m \u001b[0mlist\u001b[0m\u001b[0;34m(\u001b[0m\u001b[0mrange\u001b[0m\u001b[0;34m(\u001b[0m\u001b[0mlen\u001b[0m\u001b[0;34m(\u001b[0m\u001b[0mX\u001b[0m\u001b[0;34m)\u001b[0m\u001b[0;34m)\u001b[0m\u001b[0;34m)\u001b[0m\u001b[0;34m\u001b[0m\u001b[0;34m\u001b[0m\u001b[0m\n",
          "\u001b[0;32m<ipython-input-102-8e6e70bc2199>\u001b[0m in \u001b[0;36m<listcomp>\u001b[0;34m(.0)\u001b[0m\n\u001b[1;32m      9\u001b[0m     \u001b[0mbatchsize\u001b[0m \u001b[0;34m=\u001b[0m \u001b[0mbatchsize_\u001b[0m\u001b[0;34m\u001b[0m\u001b[0;34m\u001b[0m\u001b[0m\n\u001b[1;32m     10\u001b[0m     \u001b[0;31m# create some fakedata with the\u001b[0m\u001b[0;34m\u001b[0m\u001b[0;34m\u001b[0m\u001b[0;34m\u001b[0m\u001b[0m\n\u001b[0;32m---> 11\u001b[0;31m     \u001b[0mX\u001b[0m \u001b[0;34m=\u001b[0m \u001b[0;34m[\u001b[0m\u001b[0mlist\u001b[0m\u001b[0;34m(\u001b[0m\u001b[0mnp\u001b[0m\u001b[0;34m.\u001b[0m\u001b[0mrandom\u001b[0m\u001b[0;34m(\u001b[0m\u001b[0;34m)\u001b[0m\u001b[0;34m+\u001b[0m\u001b[0;34m(\u001b[0m\u001b[0mdelta\u001b[0m\u001b[0;34m*\u001b[0m\u001b[0;36m10\u001b[0m\u001b[0;34m)\u001b[0m \u001b[0;32mfor\u001b[0m \u001b[0mi\u001b[0m \u001b[0;32min\u001b[0m \u001b[0mrange\u001b[0m\u001b[0;34m(\u001b[0m\u001b[0mexample_size_\u001b[0m\u001b[0;34m)\u001b[0m\u001b[0;34m)\u001b[0m \u001b[0;32mfor\u001b[0m \u001b[0mdelta\u001b[0m \u001b[0;32min\u001b[0m \u001b[0mrange\u001b[0m\u001b[0;34m(\u001b[0m\u001b[0mexamples_\u001b[0m\u001b[0;34m)\u001b[0m\u001b[0;34m]\u001b[0m\u001b[0;34m\u001b[0m\u001b[0;34m\u001b[0m\u001b[0m\n\u001b[0m\u001b[1;32m     12\u001b[0m     \u001b[0mY\u001b[0m \u001b[0;34m=\u001b[0m \u001b[0;34m[\u001b[0m\u001b[0mlist\u001b[0m\u001b[0;34m(\u001b[0m\u001b[0mi\u001b[0m\u001b[0;34m+\u001b[0m\u001b[0;34m(\u001b[0m\u001b[0mdelta\u001b[0m\u001b[0;34m/\u001b[0m\u001b[0;36m10\u001b[0m\u001b[0;34m)\u001b[0m \u001b[0;32mfor\u001b[0m \u001b[0mi\u001b[0m \u001b[0;32min\u001b[0m \u001b[0mrange\u001b[0m\u001b[0;34m(\u001b[0m\u001b[0mexample_size_\u001b[0m\u001b[0;34m)\u001b[0m\u001b[0;34m)\u001b[0m \u001b[0;32mfor\u001b[0m \u001b[0mdelta\u001b[0m \u001b[0;32min\u001b[0m \u001b[0mrange\u001b[0m\u001b[0;34m(\u001b[0m\u001b[0mexamples_\u001b[0m\u001b[0;34m)\u001b[0m\u001b[0;34m]\u001b[0m\u001b[0;34m\u001b[0m\u001b[0;34m\u001b[0m\u001b[0m\n\u001b[1;32m     13\u001b[0m     \u001b[0mindexes\u001b[0m \u001b[0;34m=\u001b[0m \u001b[0mlist\u001b[0m\u001b[0;34m(\u001b[0m\u001b[0mrange\u001b[0m\u001b[0;34m(\u001b[0m\u001b[0mlen\u001b[0m\u001b[0;34m(\u001b[0m\u001b[0mX\u001b[0m\u001b[0;34m)\u001b[0m\u001b[0;34m)\u001b[0m\u001b[0;34m)\u001b[0m\u001b[0;34m\u001b[0m\u001b[0;34m\u001b[0m\u001b[0m\n",
          "\u001b[0;32m<ipython-input-102-8e6e70bc2199>\u001b[0m in \u001b[0;36m<genexpr>\u001b[0;34m(.0)\u001b[0m\n\u001b[1;32m      9\u001b[0m     \u001b[0mbatchsize\u001b[0m \u001b[0;34m=\u001b[0m \u001b[0mbatchsize_\u001b[0m\u001b[0;34m\u001b[0m\u001b[0;34m\u001b[0m\u001b[0m\n\u001b[1;32m     10\u001b[0m     \u001b[0;31m# create some fakedata with the\u001b[0m\u001b[0;34m\u001b[0m\u001b[0;34m\u001b[0m\u001b[0;34m\u001b[0m\u001b[0m\n\u001b[0;32m---> 11\u001b[0;31m     \u001b[0mX\u001b[0m \u001b[0;34m=\u001b[0m \u001b[0;34m[\u001b[0m\u001b[0mlist\u001b[0m\u001b[0;34m(\u001b[0m\u001b[0mnp\u001b[0m\u001b[0;34m.\u001b[0m\u001b[0mrandom\u001b[0m\u001b[0;34m(\u001b[0m\u001b[0;34m)\u001b[0m\u001b[0;34m+\u001b[0m\u001b[0;34m(\u001b[0m\u001b[0mdelta\u001b[0m\u001b[0;34m*\u001b[0m\u001b[0;36m10\u001b[0m\u001b[0;34m)\u001b[0m \u001b[0;32mfor\u001b[0m \u001b[0mi\u001b[0m \u001b[0;32min\u001b[0m \u001b[0mrange\u001b[0m\u001b[0;34m(\u001b[0m\u001b[0mexample_size_\u001b[0m\u001b[0;34m)\u001b[0m\u001b[0;34m)\u001b[0m \u001b[0;32mfor\u001b[0m \u001b[0mdelta\u001b[0m \u001b[0;32min\u001b[0m \u001b[0mrange\u001b[0m\u001b[0;34m(\u001b[0m\u001b[0mexamples_\u001b[0m\u001b[0;34m)\u001b[0m\u001b[0;34m]\u001b[0m\u001b[0;34m\u001b[0m\u001b[0;34m\u001b[0m\u001b[0m\n\u001b[0m\u001b[1;32m     12\u001b[0m     \u001b[0mY\u001b[0m \u001b[0;34m=\u001b[0m \u001b[0;34m[\u001b[0m\u001b[0mlist\u001b[0m\u001b[0;34m(\u001b[0m\u001b[0mi\u001b[0m\u001b[0;34m+\u001b[0m\u001b[0;34m(\u001b[0m\u001b[0mdelta\u001b[0m\u001b[0;34m/\u001b[0m\u001b[0;36m10\u001b[0m\u001b[0;34m)\u001b[0m \u001b[0;32mfor\u001b[0m \u001b[0mi\u001b[0m \u001b[0;32min\u001b[0m \u001b[0mrange\u001b[0m\u001b[0;34m(\u001b[0m\u001b[0mexample_size_\u001b[0m\u001b[0;34m)\u001b[0m\u001b[0;34m)\u001b[0m \u001b[0;32mfor\u001b[0m \u001b[0mdelta\u001b[0m \u001b[0;32min\u001b[0m \u001b[0mrange\u001b[0m\u001b[0;34m(\u001b[0m\u001b[0mexamples_\u001b[0m\u001b[0;34m)\u001b[0m\u001b[0;34m]\u001b[0m\u001b[0;34m\u001b[0m\u001b[0;34m\u001b[0m\u001b[0m\n\u001b[1;32m     13\u001b[0m     \u001b[0mindexes\u001b[0m \u001b[0;34m=\u001b[0m \u001b[0mlist\u001b[0m\u001b[0;34m(\u001b[0m\u001b[0mrange\u001b[0m\u001b[0;34m(\u001b[0m\u001b[0mlen\u001b[0m\u001b[0;34m(\u001b[0m\u001b[0mX\u001b[0m\u001b[0;34m)\u001b[0m\u001b[0;34m)\u001b[0m\u001b[0;34m)\u001b[0m\u001b[0;34m\u001b[0m\u001b[0;34m\u001b[0m\u001b[0m\n",
          "\u001b[0;31mTypeError\u001b[0m: 'module' object is not callable"
         ]
        }
       ]
      }
     },
     "9b620ff9253147aab5b037a64a501f26": {
      "model_module": "@jupyter-widgets/controls",
      "model_module_version": "1.5.0",
      "model_name": "SliderStyleModel",
      "state": {
       "description_width": ""
      }
     },
     "9c2c7d953c49478aba29516c66b5ae99": {
      "model_module": "@jupyter-widgets/base",
      "model_module_version": "1.2.0",
      "model_name": "LayoutModel",
      "state": {}
     },
     "9c583ca6793543a99bdadc53b17428e7": {
      "model_module": "@jupyter-widgets/controls",
      "model_module_version": "1.5.0",
      "model_name": "CheckboxModel",
      "state": {
       "description": "shuffle_indexes",
       "disabled": false,
       "layout": "IPY_MODEL_a6bb0434514a4be7a412005011cdbf26",
       "style": "IPY_MODEL_321d634f1ad24ae28c201c5d9ccec687",
       "value": false
      }
     },
     "9d0822fd88614bce8ea6787cd47401dd": {
      "model_module": "@jupyter-widgets/output",
      "model_module_version": "1.0.0",
      "model_name": "OutputModel",
      "state": {
       "layout": "IPY_MODEL_ffe2e49ae8614e489e1d8134a76ae8cd",
       "outputs": [
        {
         "ename": "TypeError",
         "evalue": "object of type 'bool' has no len()",
         "output_type": "error",
         "traceback": [
          "\u001b[0;31m---------------------------------------------------------------------------\u001b[0m",
          "\u001b[0;31mTypeError\u001b[0m                                 Traceback (most recent call last)",
          "\u001b[0;32m~/anaconda3/envs/dcmr/lib/python3.8/site-packages/ipywidgets/widgets/interaction.py\u001b[0m in \u001b[0;36mupdate\u001b[0;34m(self, *args)\u001b[0m\n\u001b[1;32m    254\u001b[0m                     \u001b[0mvalue\u001b[0m \u001b[0;34m=\u001b[0m \u001b[0mwidget\u001b[0m\u001b[0;34m.\u001b[0m\u001b[0mget_interact_value\u001b[0m\u001b[0;34m(\u001b[0m\u001b[0;34m)\u001b[0m\u001b[0;34m\u001b[0m\u001b[0;34m\u001b[0m\u001b[0m\n\u001b[1;32m    255\u001b[0m                     \u001b[0mself\u001b[0m\u001b[0;34m.\u001b[0m\u001b[0mkwargs\u001b[0m\u001b[0;34m[\u001b[0m\u001b[0mwidget\u001b[0m\u001b[0;34m.\u001b[0m\u001b[0m_kwarg\u001b[0m\u001b[0;34m]\u001b[0m \u001b[0;34m=\u001b[0m \u001b[0mvalue\u001b[0m\u001b[0;34m\u001b[0m\u001b[0;34m\u001b[0m\u001b[0m\n\u001b[0;32m--> 256\u001b[0;31m                 \u001b[0mself\u001b[0m\u001b[0;34m.\u001b[0m\u001b[0mresult\u001b[0m \u001b[0;34m=\u001b[0m \u001b[0mself\u001b[0m\u001b[0;34m.\u001b[0m\u001b[0mf\u001b[0m\u001b[0;34m(\u001b[0m\u001b[0;34m**\u001b[0m\u001b[0mself\u001b[0m\u001b[0;34m.\u001b[0m\u001b[0mkwargs\u001b[0m\u001b[0;34m)\u001b[0m\u001b[0;34m\u001b[0m\u001b[0;34m\u001b[0m\u001b[0m\n\u001b[0m\u001b[1;32m    257\u001b[0m                 \u001b[0mshow_inline_matplotlib_plots\u001b[0m\u001b[0;34m(\u001b[0m\u001b[0;34m)\u001b[0m\u001b[0;34m\u001b[0m\u001b[0;34m\u001b[0m\u001b[0m\n\u001b[1;32m    258\u001b[0m                 \u001b[0;32mif\u001b[0m \u001b[0mself\u001b[0m\u001b[0;34m.\u001b[0m\u001b[0mauto_display\u001b[0m \u001b[0;32mand\u001b[0m \u001b[0mself\u001b[0m\u001b[0;34m.\u001b[0m\u001b[0mresult\u001b[0m \u001b[0;32mis\u001b[0m \u001b[0;32mnot\u001b[0m \u001b[0;32mNone\u001b[0m\u001b[0;34m:\u001b[0m\u001b[0;34m\u001b[0m\u001b[0;34m\u001b[0m\u001b[0m\n",
          "\u001b[0;32m<ipython-input-74-6f055a4586c9>\u001b[0m in \u001b[0;36mselect_batch\u001b[0;34m(selected_batch)\u001b[0m\n\u001b[1;32m      2\u001b[0m \u001b[0;34m@\u001b[0m\u001b[0minteract\u001b[0m\u001b[0;34m\u001b[0m\u001b[0;34m\u001b[0m\u001b[0m\n\u001b[1;32m      3\u001b[0m \u001b[0;32mdef\u001b[0m \u001b[0mselect_batch\u001b[0m\u001b[0;34m(\u001b[0m\u001b[0mselected_batch\u001b[0m \u001b[0;34m=\u001b[0m \u001b[0;34m(\u001b[0m\u001b[0;36m0\u001b[0m\u001b[0;34m,\u001b[0m\u001b[0mint\u001b[0m\u001b[0;34m(\u001b[0m\u001b[0mnp\u001b[0m\u001b[0;34m.\u001b[0m\u001b[0mfloor\u001b[0m\u001b[0;34m(\u001b[0m\u001b[0mexamples\u001b[0m\u001b[0;34m/\u001b[0m\u001b[0mbatchsize\u001b[0m\u001b[0;34m)\u001b[0m\u001b[0;34m)\u001b[0m\u001b[0;34m-\u001b[0m\u001b[0;36m1\u001b[0m\u001b[0;34m)\u001b[0m\u001b[0;34m)\u001b[0m\u001b[0;34m:\u001b[0m\u001b[0;34m\u001b[0m\u001b[0;34m\u001b[0m\u001b[0m\n\u001b[0;32m----> 4\u001b[0;31m     \u001b[0;32massert\u001b[0m \u001b[0mlen\u001b[0m\u001b[0;34m(\u001b[0m\u001b[0mindexes\u001b[0m \u001b[0;34m==\u001b[0m \u001b[0mexamples\u001b[0m\u001b[0;34m)\u001b[0m\u001b[0;34m\u001b[0m\u001b[0;34m\u001b[0m\u001b[0m\n\u001b[0m\u001b[1;32m      5\u001b[0m     \u001b[0mprint\u001b[0m\u001b[0;34m(\u001b[0m\u001b[0;34m'selected batch: {} of {} with a batchsize of {} and total {} examples'\u001b[0m\u001b[0;34m.\u001b[0m\u001b[0mformat\u001b[0m\u001b[0;34m(\u001b[0m\u001b[0mselected_batch\u001b[0m\u001b[0;34m,\u001b[0m \u001b[0;34m(\u001b[0m\u001b[0mexamples\u001b[0m\u001b[0;34m/\u001b[0m\u001b[0mbatchsize\u001b[0m\u001b[0;34m)\u001b[0m\u001b[0;34m-\u001b[0m\u001b[0;36m1\u001b[0m\u001b[0;34m,\u001b[0m \u001b[0mbatchsize\u001b[0m\u001b[0;34m,\u001b[0m \u001b[0mexamples\u001b[0m\u001b[0;34m)\u001b[0m\u001b[0;34m)\u001b[0m\u001b[0;34m\u001b[0m\u001b[0;34m\u001b[0m\u001b[0m\n\u001b[1;32m      6\u001b[0m     \u001b[0mstart_idx\u001b[0m \u001b[0;34m=\u001b[0m \u001b[0mselected_batch\u001b[0m\u001b[0;34m*\u001b[0m\u001b[0mbatchsize\u001b[0m\u001b[0;34m\u001b[0m\u001b[0;34m\u001b[0m\u001b[0m\n",
          "\u001b[0;31mTypeError\u001b[0m: object of type 'bool' has no len()"
         ]
        }
       ]
      }
     },
     "9d254c00a97f414bb0aed6ab61c72723": {
      "model_module": "@jupyter-widgets/base",
      "model_module_version": "1.2.0",
      "model_name": "LayoutModel",
      "state": {}
     },
     "9dadd4a5aab2444b97d0127982837b52": {
      "model_module": "@jupyter-widgets/base",
      "model_module_version": "1.2.0",
      "model_name": "LayoutModel",
      "state": {}
     },
     "9de131cf26a74a6da5e982b8ad5f2255": {
      "model_module": "@jupyter-widgets/controls",
      "model_module_version": "1.5.0",
      "model_name": "IntSliderModel",
      "state": {
       "description": "selected_batch",
       "layout": "IPY_MODEL_eb1a4f6ada4c4f7e98d784797e081370",
       "max": 4,
       "style": "IPY_MODEL_67082fe3a5c647c39fb8ef0ba8615d58",
       "value": 3
      }
     },
     "9df496c001ed41069962322d9886b4d9": {
      "model_module": "@jupyter-widgets/base",
      "model_module_version": "1.2.0",
      "model_name": "LayoutModel",
      "state": {}
     },
     "9f53b629338b41b78f9f3d7942148f74": {
      "model_module": "@jupyter-widgets/controls",
      "model_module_version": "1.5.0",
      "model_name": "SliderStyleModel",
      "state": {
       "description_width": ""
      }
     },
     "9f696114a8d24a9bab57be7bcd2d2f34": {
      "model_module": "@jupyter-widgets/controls",
      "model_module_version": "1.5.0",
      "model_name": "SliderStyleModel",
      "state": {
       "description_width": ""
      }
     },
     "9fc1e1a8841c4fb5959e9ffac0a4752f": {
      "model_module": "@jupyter-widgets/controls",
      "model_module_version": "1.5.0",
      "model_name": "IntSliderModel",
      "state": {
       "description": "batchsize_",
       "layout": "IPY_MODEL_f7d1cd6da5704e83ae38c287cf5f91ad",
       "style": "IPY_MODEL_fdfd75e75514407e85cb90a7b22a7202",
       "value": 10
      }
     },
     "a04d8d89e95643f2b400af842f4c705e": {
      "model_module": "@jupyter-widgets/output",
      "model_module_version": "1.0.0",
      "model_name": "OutputModel",
      "state": {
       "layout": "IPY_MODEL_ab6833124eb643869d108fcaf783a169",
       "outputs": [
        {
         "ename": "TypeError",
         "evalue": "unsupported operand type(s) for +: 'function' and 'int'",
         "output_type": "error",
         "traceback": [
          "\u001b[0;31m---------------------------------------------------------------------------\u001b[0m",
          "\u001b[0;31mTypeError\u001b[0m                                 Traceback (most recent call last)",
          "\u001b[0;32m~/anaconda3/envs/dcmr/lib/python3.8/site-packages/ipywidgets/widgets/interaction.py\u001b[0m in \u001b[0;36mupdate\u001b[0;34m(self, *args)\u001b[0m\n\u001b[1;32m    254\u001b[0m                     \u001b[0mvalue\u001b[0m \u001b[0;34m=\u001b[0m \u001b[0mwidget\u001b[0m\u001b[0;34m.\u001b[0m\u001b[0mget_interact_value\u001b[0m\u001b[0;34m(\u001b[0m\u001b[0;34m)\u001b[0m\u001b[0;34m\u001b[0m\u001b[0;34m\u001b[0m\u001b[0m\n\u001b[1;32m    255\u001b[0m                     \u001b[0mself\u001b[0m\u001b[0;34m.\u001b[0m\u001b[0mkwargs\u001b[0m\u001b[0;34m[\u001b[0m\u001b[0mwidget\u001b[0m\u001b[0;34m.\u001b[0m\u001b[0m_kwarg\u001b[0m\u001b[0;34m]\u001b[0m \u001b[0;34m=\u001b[0m \u001b[0mvalue\u001b[0m\u001b[0;34m\u001b[0m\u001b[0;34m\u001b[0m\u001b[0m\n\u001b[0;32m--> 256\u001b[0;31m                 \u001b[0mself\u001b[0m\u001b[0;34m.\u001b[0m\u001b[0mresult\u001b[0m \u001b[0;34m=\u001b[0m \u001b[0mself\u001b[0m\u001b[0;34m.\u001b[0m\u001b[0mf\u001b[0m\u001b[0;34m(\u001b[0m\u001b[0;34m**\u001b[0m\u001b[0mself\u001b[0m\u001b[0;34m.\u001b[0m\u001b[0mkwargs\u001b[0m\u001b[0;34m)\u001b[0m\u001b[0;34m\u001b[0m\u001b[0;34m\u001b[0m\u001b[0m\n\u001b[0m\u001b[1;32m    257\u001b[0m                 \u001b[0mshow_inline_matplotlib_plots\u001b[0m\u001b[0;34m(\u001b[0m\u001b[0;34m)\u001b[0m\u001b[0;34m\u001b[0m\u001b[0;34m\u001b[0m\u001b[0m\n\u001b[1;32m    258\u001b[0m                 \u001b[0;32mif\u001b[0m \u001b[0mself\u001b[0m\u001b[0;34m.\u001b[0m\u001b[0mauto_display\u001b[0m \u001b[0;32mand\u001b[0m \u001b[0mself\u001b[0m\u001b[0;34m.\u001b[0m\u001b[0mresult\u001b[0m \u001b[0;32mis\u001b[0m \u001b[0;32mnot\u001b[0m \u001b[0;32mNone\u001b[0m\u001b[0;34m:\u001b[0m\u001b[0;34m\u001b[0m\u001b[0;34m\u001b[0m\u001b[0m\n",
          "\u001b[0;32m<ipython-input-53-b5b9de696add>\u001b[0m in \u001b[0;36mselect_batch\u001b[0;34m(selected_batch)\u001b[0m\n\u001b[1;32m      2\u001b[0m \u001b[0;34m@\u001b[0m\u001b[0minteract\u001b[0m\u001b[0;34m\u001b[0m\u001b[0;34m\u001b[0m\u001b[0m\n\u001b[1;32m      3\u001b[0m \u001b[0;32mdef\u001b[0m \u001b[0mselect_batch\u001b[0m\u001b[0;34m(\u001b[0m\u001b[0mselected_batch\u001b[0m \u001b[0;34m=\u001b[0m \u001b[0;34m(\u001b[0m\u001b[0;36m0\u001b[0m\u001b[0;34m,\u001b[0m\u001b[0mint\u001b[0m\u001b[0;34m(\u001b[0m\u001b[0mnp\u001b[0m\u001b[0;34m.\u001b[0m\u001b[0mfloor\u001b[0m\u001b[0;34m(\u001b[0m\u001b[0mexamples\u001b[0m\u001b[0;34m/\u001b[0m\u001b[0mbatchsize\u001b[0m\u001b[0;34m)\u001b[0m\u001b[0;34m)\u001b[0m\u001b[0;34m)\u001b[0m\u001b[0;34m)\u001b[0m\u001b[0;34m:\u001b[0m\u001b[0;34m\u001b[0m\u001b[0;34m\u001b[0m\u001b[0m\n\u001b[0;32m----> 4\u001b[0;31m     \u001b[0mbatch_indexes\u001b[0m \u001b[0;34m=\u001b[0m \u001b[0mindexes\u001b[0m\u001b[0;34m[\u001b[0m\u001b[0mselected_batch\u001b[0m\u001b[0;34m*\u001b[0m\u001b[0mbatchsize\u001b[0m\u001b[0;34m:\u001b[0m \u001b[0;34m(\u001b[0m\u001b[0mselect_batch\u001b[0m\u001b[0;34m+\u001b[0m\u001b[0;36m1\u001b[0m\u001b[0;34m)\u001b[0m\u001b[0;34m*\u001b[0m\u001b[0mbatchsize\u001b[0m\u001b[0;34m]\u001b[0m\u001b[0;34m\u001b[0m\u001b[0;34m\u001b[0m\u001b[0m\n\u001b[0m\u001b[1;32m      5\u001b[0m     \u001b[0mprint\u001b[0m\u001b[0;34m(\u001b[0m\u001b[0mbatch_indexes\u001b[0m\u001b[0;34m)\u001b[0m\u001b[0;34m\u001b[0m\u001b[0;34m\u001b[0m\u001b[0m\n\u001b[1;32m      6\u001b[0m     \u001b[0mbatch_x\u001b[0m \u001b[0;34m=\u001b[0m \u001b[0;34m[\u001b[0m\u001b[0mX\u001b[0m\u001b[0;34m[\u001b[0m\u001b[0mk\u001b[0m\u001b[0;34m]\u001b[0m \u001b[0;32mfor\u001b[0m \u001b[0mk\u001b[0m \u001b[0;32min\u001b[0m \u001b[0mbatch_indexes\u001b[0m\u001b[0;34m]\u001b[0m\u001b[0;34m\u001b[0m\u001b[0;34m\u001b[0m\u001b[0m\n",
          "\u001b[0;31mTypeError\u001b[0m: unsupported operand type(s) for +: 'function' and 'int'"
         ]
        }
       ]
      }
     },
     "a0c8bbfcaf574950a59a8ac3a92268bd": {
      "model_module": "@jupyter-widgets/controls",
      "model_module_version": "1.5.0",
      "model_name": "SliderStyleModel",
      "state": {
       "description_width": ""
      }
     },
     "a0cf3e14217f461db4ec0786c0abfe53": {
      "model_module": "@jupyter-widgets/base",
      "model_module_version": "1.2.0",
      "model_name": "LayoutModel",
      "state": {}
     },
     "a110afdf96564739a968ca9f7e4eab9e": {
      "model_module": "@jupyter-widgets/output",
      "model_module_version": "1.0.0",
      "model_name": "OutputModel",
      "state": {
       "layout": "IPY_MODEL_a4a3480fa3334fadaa67bace2a09f456",
       "outputs": [
        {
         "name": "stdout",
         "output_type": "stream",
         "text": "[0, 1, 2, 3, 4, 5, 6, 7, 8, 9]\n"
        }
       ]
      }
     },
     "a16a30b13e9d47b49293b7abd70e0cb3": {
      "model_module": "@jupyter-widgets/controls",
      "model_module_version": "1.5.0",
      "model_name": "SliderStyleModel",
      "state": {
       "description_width": ""
      }
     },
     "a171f488b34f4f0eb9c353c1e29cb7f6": {
      "model_module": "@jupyter-widgets/controls",
      "model_module_version": "1.5.0",
      "model_name": "SliderStyleModel",
      "state": {
       "description_width": ""
      }
     },
     "a17625ce47d24d1f8d4159aefff1684e": {
      "model_module": "@jupyter-widgets/base",
      "model_module_version": "1.2.0",
      "model_name": "LayoutModel",
      "state": {}
     },
     "a1e91427de9e49b2beecd5ec91acc960": {
      "model_module": "@jupyter-widgets/controls",
      "model_module_version": "1.5.0",
      "model_name": "SliderStyleModel",
      "state": {
       "description_width": ""
      }
     },
     "a1f34601f75848fda5933ebc8880a66a": {
      "model_module": "@jupyter-widgets/controls",
      "model_module_version": "1.5.0",
      "model_name": "VBoxModel",
      "state": {
       "_dom_classes": [
        "widget-interact"
       ],
       "children": [
        "IPY_MODEL_dacb05be145e454e8e1010bf3013ae48",
        "IPY_MODEL_73d66e2362e046a798bb32d3ec900b9f",
        "IPY_MODEL_fc02808b81334e78ad1a96412f84a648"
       ],
       "layout": "IPY_MODEL_a6313b8b84104955a51770515ca84fae"
      }
     },
     "a20a75b6b72d493e8b19881f48f988b4": {
      "model_module": "@jupyter-widgets/controls",
      "model_module_version": "1.5.0",
      "model_name": "SliderStyleModel",
      "state": {
       "description_width": ""
      }
     },
     "a2ef965d95654bac936aadc9c9db312a": {
      "model_module": "@jupyter-widgets/controls",
      "model_module_version": "1.5.0",
      "model_name": "CheckboxModel",
      "state": {
       "description": "shuffle_indexes",
       "disabled": false,
       "layout": "IPY_MODEL_996ae5a180894074938d7728fe466cb4",
       "style": "IPY_MODEL_4730b197f6834a738458d546d4bb759b",
       "value": false
      }
     },
     "a30bcda144ce426da815fdb6cf537495": {
      "model_module": "@jupyter-widgets/base",
      "model_module_version": "1.2.0",
      "model_name": "LayoutModel",
      "state": {}
     },
     "a320b30cea214986968cbca4403ea0c0": {
      "model_module": "@jupyter-widgets/controls",
      "model_module_version": "1.5.0",
      "model_name": "IntSliderModel",
      "state": {
       "description": "selected_batch",
       "layout": "IPY_MODEL_a57fbc04da7a4d09a8a274c6a94361b8",
       "max": 10,
       "style": "IPY_MODEL_9b620ff9253147aab5b037a64a501f26",
       "value": 10
      }
     },
     "a34752bd1fcf438e8e2f639fc6c587fc": {
      "model_module": "@jupyter-widgets/base",
      "model_module_version": "1.2.0",
      "model_name": "LayoutModel",
      "state": {}
     },
     "a4035188d23545f2b6343ab8483f769d": {
      "model_module": "@jupyter-widgets/controls",
      "model_module_version": "1.5.0",
      "model_name": "VBoxModel",
      "state": {
       "_dom_classes": [
        "widget-interact"
       ],
       "children": [
        "IPY_MODEL_25e2e4ae37cd419f81305a9fc0b14eab",
        "IPY_MODEL_11cae392fe1c42f39115a507ed0ea873"
       ],
       "layout": "IPY_MODEL_bca2b4d267c74100af723bf370f22ecc"
      }
     },
     "a42eace028884700bc94ac15b4285c84": {
      "model_module": "@jupyter-widgets/controls",
      "model_module_version": "1.5.0",
      "model_name": "SliderStyleModel",
      "state": {
       "description_width": ""
      }
     },
     "a493a44a18e44d2c918e74539d169194": {
      "model_module": "@jupyter-widgets/controls",
      "model_module_version": "1.5.0",
      "model_name": "IntSliderModel",
      "state": {
       "description": "batchsize_",
       "layout": "IPY_MODEL_64d4648e45af49978948f3bfa0013042",
       "max": 20,
       "style": "IPY_MODEL_16d7d4d7ca0c4a9296cd65d8342c4a96",
       "value": 10
      }
     },
     "a4a3480fa3334fadaa67bace2a09f456": {
      "model_module": "@jupyter-widgets/base",
      "model_module_version": "1.2.0",
      "model_name": "LayoutModel",
      "state": {}
     },
     "a505332acab44c4ba8fa8663cbdf0b7d": {
      "model_module": "@jupyter-widgets/base",
      "model_module_version": "1.2.0",
      "model_name": "LayoutModel",
      "state": {}
     },
     "a554899a299347cd9a1f77ff220cac79": {
      "model_module": "@jupyter-widgets/base",
      "model_module_version": "1.2.0",
      "model_name": "LayoutModel",
      "state": {}
     },
     "a57fbc04da7a4d09a8a274c6a94361b8": {
      "model_module": "@jupyter-widgets/base",
      "model_module_version": "1.2.0",
      "model_name": "LayoutModel",
      "state": {}
     },
     "a5af619f0cec4a4fb60927d8e2db491b": {
      "model_module": "@jupyter-widgets/base",
      "model_module_version": "1.2.0",
      "model_name": "LayoutModel",
      "state": {}
     },
     "a5c70c7730dd497b8b9290de6274e71e": {
      "model_module": "@jupyter-widgets/base",
      "model_module_version": "1.2.0",
      "model_name": "LayoutModel",
      "state": {}
     },
     "a5dbe250687246ebbf4f64e096c1127c": {
      "model_module": "@jupyter-widgets/output",
      "model_module_version": "1.0.0",
      "model_name": "OutputModel",
      "state": {
       "layout": "IPY_MODEL_a71ffd8527874fbdba57370f21b25fbc"
      }
     },
     "a6313b8b84104955a51770515ca84fae": {
      "model_module": "@jupyter-widgets/base",
      "model_module_version": "1.2.0",
      "model_name": "LayoutModel",
      "state": {}
     },
     "a6bb0434514a4be7a412005011cdbf26": {
      "model_module": "@jupyter-widgets/base",
      "model_module_version": "1.2.0",
      "model_name": "LayoutModel",
      "state": {}
     },
     "a71118e2fc2e470082d72ec29f5e86a1": {
      "model_module": "@jupyter-widgets/controls",
      "model_module_version": "1.5.0",
      "model_name": "VBoxModel",
      "state": {
       "_dom_classes": [
        "widget-interact"
       ],
       "children": [
        "IPY_MODEL_b56aa22ce26a4295867b45b6384e2510",
        "IPY_MODEL_c6f79ba2afe0403eb185a9b54e5c8685",
        "IPY_MODEL_cea81015b1b34347bf9a6619371b3807",
        "IPY_MODEL_fea79c30c586453c98a6a65e36bbaead"
       ],
       "layout": "IPY_MODEL_0da76cb2919b439a85bbbe5abe1323ae"
      }
     },
     "a71ffd8527874fbdba57370f21b25fbc": {
      "model_module": "@jupyter-widgets/base",
      "model_module_version": "1.2.0",
      "model_name": "LayoutModel",
      "state": {}
     },
     "a72ea165066c4bc086a195bd9ac491f8": {
      "model_module": "@jupyter-widgets/controls",
      "model_module_version": "1.5.0",
      "model_name": "VBoxModel",
      "state": {
       "_dom_classes": [
        "widget-interact"
       ],
       "children": [
        "IPY_MODEL_6c78909ef82a4d888abe673d02ee58a9",
        "IPY_MODEL_c12da7d6286f44c99eb9198edd36cb0a",
        "IPY_MODEL_f8cfdd4602334f3b981f9e35e0fd78e7",
        "IPY_MODEL_9b48ae0735eb44b2b38c640668faa875"
       ],
       "layout": "IPY_MODEL_e2d8083c7fe64697af66f2fc4c693c1e"
      }
     },
     "a73a1e4bdaad419faf1a76da627f2962": {
      "model_module": "@jupyter-widgets/base",
      "model_module_version": "1.2.0",
      "model_name": "LayoutModel",
      "state": {}
     },
     "a769a04e2c0a4ccd96ce4268db614f85": {
      "model_module": "@jupyter-widgets/base",
      "model_module_version": "1.2.0",
      "model_name": "LayoutModel",
      "state": {}
     },
     "a788f2adf5ae48a987bed10d3eab7b14": {
      "model_module": "@jupyter-widgets/output",
      "model_module_version": "1.0.0",
      "model_name": "OutputModel",
      "state": {
       "layout": "IPY_MODEL_f68754fc30dc43b6b429e9ef051718b7",
       "outputs": [
        {
         "name": "stdout",
         "output_type": "stream",
         "text": "selected batch: 0 of 4 with a batchsize of 10 and total 50 examples\nstart idx: 0, end idx: 10\nIndexes of the currrent batch: [0, 1, 2, 3, 4, 5, 6, 7, 8, 9]\n"
        },
        {
         "data": {
          "text/plain": "[[[0.58, 0.64, 0.28, 0.96],\n  [1.76, 1.6400000000000001, 1.43, 1.69],\n  [2.09, 2.31, 2.93, 2.08],\n  [3.12, 3.54, 3.91, 3.14],\n  [4.71, 4.01, 4.67, 4.67],\n  [5.8, 5.4, 5.47, 5.6899999999999995],\n  [6.96, 6.6899999999999995, 6.5600000000000005, 6.06],\n  [7.02, 7.79, 7.65, 7.34],\n  [8.42, 8.24, 8.98, 8.66],\n  [9.32, 9.13, 9.51, 9.71]],\n [[0.0, 1.0, 2.0, 3.0],\n  [0.1, 1.1, 2.1, 3.1],\n  [0.2, 1.2, 2.2, 3.2],\n  [0.3, 1.3, 2.3, 3.3],\n  [0.4, 1.4, 2.4, 3.4],\n  [0.5, 1.5, 2.5, 3.5],\n  [0.6, 1.6, 2.6, 3.6],\n  [0.7, 1.7, 2.7, 3.7],\n  [0.8, 1.8, 2.8, 3.8],\n  [0.9, 1.9, 2.9, 3.9]]]"
         },
         "metadata": {},
         "output_type": "display_data"
        }
       ]
      }
     },
     "a82e671b10d946e3b564c3fede453bc3": {
      "model_module": "@jupyter-widgets/output",
      "model_module_version": "1.0.0",
      "model_name": "OutputModel",
      "state": {
       "layout": "IPY_MODEL_fde97b3830a84fd7886e645d286bf3a0",
       "outputs": [
        {
         "name": "stdout",
         "output_type": "stream",
         "text": "selected batch: 3 of 4 with a batchsize of 10 and total 50 examples\nstart idx: 30, end idx: 40\n[30, 31, 32, 33, 34, 35, 36, 37, 38, 39]\n[[[30.266136148950427, 30.969511426468696, 30.184689882284626, 30.508381658117965], [31.442802321978554, 31.702582724439505, 31.60853659060065, 31.698721782179614], [32.39399728681154, 32.85735024295787, 32.68579279310251, 32.583375524902955], [33.449973715627486, 33.6200035078714, 33.61396236744249, 33.31013521389683], [34.92645492462478, 34.82485704997065, 34.77163103868516, 34.76462531485785], [35.762700517304836, 35.4482414475032, 35.4289300276529, 35.66364430338021], [36.43296682220819, 36.14246493824023, 36.12719515386467, 36.470852676354895], [37.878432142089366, 37.42619179287538, 37.959154331027335, 37.203368568440794], [38.34075774295787, 38.87494795245936, 38.57691831176792, 38.241969458576875], [39.509736547814285, 39.002239581103034, 39.551080091263984, 39.75878017793733]], [[3.0, 4.0, 5.0, 6.0], [3.1, 4.1, 5.1, 6.1], [3.2, 4.2, 5.2, 6.2], [3.3, 4.3, 5.3, 6.3], [3.4, 4.4, 5.4, 6.4], [3.5, 4.5, 5.5, 6.5], [3.6, 4.6, 5.6, 6.6], [3.7, 4.7, 5.7, 6.7], [3.8, 4.8, 5.8, 6.8], [3.9, 4.9, 5.9, 6.9]]]\n"
        }
       ]
      }
     },
     "a849d83ace754c7e8540bbf76e0adfb0": {
      "model_module": "@jupyter-widgets/output",
      "model_module_version": "1.0.0",
      "model_name": "OutputModel",
      "state": {
       "layout": "IPY_MODEL_a0cf3e14217f461db4ec0786c0abfe53"
      }
     },
     "a87bc3cafa904605945c15dfb547d755": {
      "model_module": "@jupyter-widgets/base",
      "model_module_version": "1.2.0",
      "model_name": "LayoutModel",
      "state": {}
     },
     "a934b9978ca144eaba1324e5b091854a": {
      "model_module": "@jupyter-widgets/output",
      "model_module_version": "1.0.0",
      "model_name": "OutputModel",
      "state": {
       "layout": "IPY_MODEL_97d793ca321c46deaec0e211ccb3a97c",
       "outputs": [
        {
         "name": "stdout",
         "output_type": "stream",
         "text": "selected batch: 9 of 9.0 with a batchsize of 10 and total 100 examples\nstart idx: 90, end idx: 100\n[90, 91, 92, 93, 94, 95, 96, 97, 98, 99]\n"
        },
        {
         "data": {
          "text/plain": "[[[900, 901, 902, 903],\n  [910, 911, 912, 913],\n  [920, 921, 922, 923],\n  [930, 931, 932, 933],\n  [940, 941, 942, 943],\n  [950, 951, 952, 953],\n  [960, 961, 962, 963],\n  [970, 971, 972, 973],\n  [980, 981, 982, 983],\n  [990, 991, 992, 993]],\n [[9.0, 10.0, 11.0, 12.0],\n  [9.1, 10.1, 11.1, 12.1],\n  [9.2, 10.2, 11.2, 12.2],\n  [9.3, 10.3, 11.3, 12.3],\n  [9.4, 10.4, 11.4, 12.4],\n  [9.5, 10.5, 11.5, 12.5],\n  [9.6, 10.6, 11.6, 12.6],\n  [9.7, 10.7, 11.7, 12.7],\n  [9.8, 10.8, 11.8, 12.8],\n  [9.9, 10.9, 11.9, 12.9]]]"
         },
         "metadata": {},
         "output_type": "display_data"
        }
       ]
      }
     },
     "a998f8b217d34aac9c247e5dd448dac0": {
      "model_module": "@jupyter-widgets/controls",
      "model_module_version": "1.5.0",
      "model_name": "FloatSliderModel",
      "state": {
       "description": "selected_batch",
       "layout": "IPY_MODEL_6399414dd05c4792b183be0e94e20cfc",
       "max": 10,
       "step": 0.1,
       "style": "IPY_MODEL_3be4ef6dbeae4aae988a03ecaf910968",
       "value": 4.3
      }
     },
     "aa41111d91c1491db55e843559206552": {
      "model_module": "@jupyter-widgets/controls",
      "model_module_version": "1.5.0",
      "model_name": "SliderStyleModel",
      "state": {
       "description_width": ""
      }
     },
     "aa6d4537ea1e4e509feb88737ac566f4": {
      "model_module": "@jupyter-widgets/base",
      "model_module_version": "1.2.0",
      "model_name": "LayoutModel",
      "state": {}
     },
     "aab7391780924ba3b32e036268bbaaa7": {
      "model_module": "@jupyter-widgets/controls",
      "model_module_version": "1.5.0",
      "model_name": "IntSliderModel",
      "state": {
       "description": "selected_batch",
       "layout": "IPY_MODEL_8c669fc53b8244ff8e1ede846d630ef7",
       "max": 24,
       "style": "IPY_MODEL_936794fc8a2e4b3386cab6fb30d87cb1",
       "value": 12
      }
     },
     "ab44662d17284cff86872c7ee66b096f": {
      "model_module": "@jupyter-widgets/base",
      "model_module_version": "1.2.0",
      "model_name": "LayoutModel",
      "state": {}
     },
     "ab6833124eb643869d108fcaf783a169": {
      "model_module": "@jupyter-widgets/base",
      "model_module_version": "1.2.0",
      "model_name": "LayoutModel",
      "state": {}
     },
     "aba8541fbb4048caa2ab0bc438b5575d": {
      "model_module": "@jupyter-widgets/controls",
      "model_module_version": "1.5.0",
      "model_name": "SliderStyleModel",
      "state": {
       "description_width": ""
      }
     },
     "abc9cc48ed2b40e886295745cff1d7bc": {
      "model_module": "@jupyter-widgets/controls",
      "model_module_version": "1.5.0",
      "model_name": "IntSliderModel",
      "state": {
       "description": "examples_",
       "layout": "IPY_MODEL_539614024dae4616b17baad0f1d8138a",
       "style": "IPY_MODEL_9206f1bb25454ba89b5cc422870a94d7",
       "value": 100
      }
     },
     "abd6b19a7e1340838b73fccadae39a90": {
      "model_module": "@jupyter-widgets/base",
      "model_module_version": "1.2.0",
      "model_name": "LayoutModel",
      "state": {}
     },
     "abec144f859b4e8baa95e68f25ec2f56": {
      "model_module": "@jupyter-widgets/controls",
      "model_module_version": "1.5.0",
      "model_name": "IntSliderModel",
      "state": {
       "description": "selected_batch",
       "layout": "IPY_MODEL_387f179a857748429f65ecda0a36ec49",
       "max": 25,
       "min": 1,
       "style": "IPY_MODEL_398c4f0eade84574a363df739ea47d08",
       "value": 25
      }
     },
     "abff7af6fb10416fb148d52952d70173": {
      "model_module": "@jupyter-widgets/base",
      "model_module_version": "1.2.0",
      "model_name": "LayoutModel",
      "state": {}
     },
     "ac25d422cc134fdbb472d98c168b26e8": {
      "model_module": "@jupyter-widgets/controls",
      "model_module_version": "1.5.0",
      "model_name": "IntSliderModel",
      "state": {
       "description": "selected_batch",
       "layout": "IPY_MODEL_7d2b1df5a19f4e19b9e65d45dfd3b6bf",
       "max": 25,
       "style": "IPY_MODEL_809b69419c72417cb6af5c34f1647d1f",
       "value": 12
      }
     },
     "ac411c75bc934187bf7bfe413db46f81": {
      "model_module": "@jupyter-widgets/controls",
      "model_module_version": "1.5.0",
      "model_name": "IntSliderModel",
      "state": {
       "description": "selected_batch",
       "layout": "IPY_MODEL_29d9c7383f0945709525ced95e13ea35",
       "max": 24,
       "style": "IPY_MODEL_964dee7aa14447f7bfa6bbf4b0f68cb6",
       "value": 12
      }
     },
     "acce704e50ed4aee94e7ab917cede96d": {
      "model_module": "@jupyter-widgets/base",
      "model_module_version": "1.2.0",
      "model_name": "LayoutModel",
      "state": {}
     },
     "ad4c3e196e5d497e8197f9d1573a8c6e": {
      "model_module": "@jupyter-widgets/base",
      "model_module_version": "1.2.0",
      "model_name": "LayoutModel",
      "state": {}
     },
     "ad8669072ff043668d2a78ae024aef5c": {
      "model_module": "@jupyter-widgets/base",
      "model_module_version": "1.2.0",
      "model_name": "LayoutModel",
      "state": {}
     },
     "ad979c04d5614732b734f5811f37fdd8": {
      "model_module": "@jupyter-widgets/controls",
      "model_module_version": "1.5.0",
      "model_name": "SliderStyleModel",
      "state": {
       "description_width": ""
      }
     },
     "adad8545e18a49ecb19d8f008c7f5dab": {
      "model_module": "@jupyter-widgets/controls",
      "model_module_version": "1.5.0",
      "model_name": "SliderStyleModel",
      "state": {
       "description_width": ""
      }
     },
     "af05a41898304310a00afdcef640e984": {
      "model_module": "@jupyter-widgets/base",
      "model_module_version": "1.2.0",
      "model_name": "LayoutModel",
      "state": {}
     },
     "af20fdbd708546058133d95b0db6e130": {
      "model_module": "@jupyter-widgets/controls",
      "model_module_version": "1.5.0",
      "model_name": "SliderStyleModel",
      "state": {
       "description_width": ""
      }
     },
     "af539cc7375a480e9468e15ff739feec": {
      "model_module": "@jupyter-widgets/base",
      "model_module_version": "1.2.0",
      "model_name": "LayoutModel",
      "state": {}
     },
     "afa9e62c6cf74df699b2678367b7ee39": {
      "model_module": "@jupyter-widgets/base",
      "model_module_version": "1.2.0",
      "model_name": "LayoutModel",
      "state": {}
     },
     "b05872e77aa64afe92f9d6f19402c743": {
      "model_module": "@jupyter-widgets/base",
      "model_module_version": "1.2.0",
      "model_name": "LayoutModel",
      "state": {}
     },
     "b0b4d3c6749c438dac6351c39fddf107": {
      "model_module": "@jupyter-widgets/controls",
      "model_module_version": "1.5.0",
      "model_name": "IntSliderModel",
      "state": {
       "description": "selected_batch",
       "layout": "IPY_MODEL_1d8861c597894361b2fa7eab4df1f675",
       "max": 25,
       "style": "IPY_MODEL_dc5d445f9a6648a1ace039112b30f2d8",
       "value": 12
      }
     },
     "b0c3286cc9a6494ea30385f55b438fe7": {
      "model_module": "@jupyter-widgets/controls",
      "model_module_version": "1.5.0",
      "model_name": "IntSliderModel",
      "state": {
       "description": "examples_",
       "layout": "IPY_MODEL_f3d5e86c0dea4b2980a83550ea1d4416",
       "min": 1,
       "style": "IPY_MODEL_6f5335452c6f4f5695bf724b0ace3abb",
       "value": 96
      }
     },
     "b10f0852eee546648db3ac3948ffd2e9": {
      "model_module": "@jupyter-widgets/output",
      "model_module_version": "1.0.0",
      "model_name": "OutputModel",
      "state": {
       "layout": "IPY_MODEL_6db791afe87046e8aa5742fb8e2a0a3e",
       "outputs": [
        {
         "name": "stdout",
         "output_type": "stream",
         "text": "selected batch: 2 of 4 with a batchsize of 10 and total 50 examples\nstart idx: 20, end idx: 30\n[20, 21, 22, 23, 24, 25, 26, 27, 28, 29]\n[[[20.106337846973446, 20.690601445454547, 20.701552255851162, 20.283083439779475], [21.36357821260198, 21.714900545893254, 21.525405468475604, 21.46720850774656], [22.875548024260862, 22.95870352647778, 22.694070748259502, 22.92601802853852], [23.016814423586528, 23.233081356313274, 23.66044250286006, 23.560764207939275], [24.32629784850474, 24.30717118367535, 24.607809550087108, 24.544292436696885], [25.1604600974557, 25.762915897807023, 25.004500471542613, 25.618206442408965], [26.747910816305556, 26.089421545627467, 26.389444785181283, 26.992413386139145], [27.589139762395217, 27.810933494223583, 27.853766566713094, 27.35341696146566], [28.966687704629475, 28.955455874278815, 28.23883602494187, 28.04305937466369], [29.547497465597786, 29.22331450623472, 29.129152282026077, 29.624252300107127]], [[2.0, 3.0, 4.0, 5.0], [2.1, 3.1, 4.1, 5.1], [2.2, 3.2, 4.2, 5.2], [2.3, 3.3, 4.3, 5.3], [2.4, 3.4, 4.4, 5.4], [2.5, 3.5, 4.5, 5.5], [2.6, 3.6, 4.6, 5.6], [2.7, 3.7, 4.7, 5.7], [2.8, 3.8, 4.8, 5.8], [2.9, 3.9, 4.9, 5.9]]]\n"
        }
       ]
      }
     },
     "b1599be17cd4467a9b29bda123639c93": {
      "model_module": "@jupyter-widgets/base",
      "model_module_version": "1.2.0",
      "model_name": "LayoutModel",
      "state": {}
     },
     "b1a1bfd4c18542e5a873a18645c3628f": {
      "model_module": "@jupyter-widgets/base",
      "model_module_version": "1.2.0",
      "model_name": "LayoutModel",
      "state": {}
     },
     "b1b8585e074643b38d95165d37d3f10c": {
      "model_module": "@jupyter-widgets/controls",
      "model_module_version": "1.5.0",
      "model_name": "CheckboxModel",
      "state": {
       "description": "shuffle_indexes",
       "disabled": false,
       "layout": "IPY_MODEL_bb851700e9f14e68ae81415ed06b9830",
       "style": "IPY_MODEL_57b8559b36944d0091b57c4d58d247d7",
       "value": false
      }
     },
     "b1bc28f49d2f460991005eca9db68a2f": {
      "model_module": "@jupyter-widgets/base",
      "model_module_version": "1.2.0",
      "model_name": "LayoutModel",
      "state": {}
     },
     "b1e3b085e4eb433f9479ddc9723f7171": {
      "model_module": "@jupyter-widgets/output",
      "model_module_version": "1.0.0",
      "model_name": "OutputModel",
      "state": {
       "layout": "IPY_MODEL_255b464ba989412ba43145ec692ddbf7"
      }
     },
     "b20e1e829d054b5992827f9491fc3bd5": {
      "model_module": "@jupyter-widgets/controls",
      "model_module_version": "1.5.0",
      "model_name": "IntSliderModel",
      "state": {
       "description": "example_size_",
       "layout": "IPY_MODEL_944ffb5211c64e5db20bcdb66b0fabda",
       "max": 8,
       "min": 1,
       "style": "IPY_MODEL_e7f5739d1c40469591bf2b343de75356",
       "value": 4
      }
     },
     "b2d010cd42d84ded9942362e08cd415c": {
      "model_module": "@jupyter-widgets/controls",
      "model_module_version": "1.5.0",
      "model_name": "SliderStyleModel",
      "state": {
       "description_width": ""
      }
     },
     "b2f1a11b724d47c2b718b690603a0b85": {
      "model_module": "@jupyter-widgets/base",
      "model_module_version": "1.2.0",
      "model_name": "LayoutModel",
      "state": {}
     },
     "b2f22dac85344d4a84eb61ee3911704a": {
      "model_module": "@jupyter-widgets/base",
      "model_module_version": "1.2.0",
      "model_name": "LayoutModel",
      "state": {}
     },
     "b33687642f4841caa36b73a8867122be": {
      "model_module": "@jupyter-widgets/base",
      "model_module_version": "1.2.0",
      "model_name": "LayoutModel",
      "state": {}
     },
     "b36c153125744a5a844f250d618ce812": {
      "model_module": "@jupyter-widgets/controls",
      "model_module_version": "1.5.0",
      "model_name": "VBoxModel",
      "state": {
       "_dom_classes": [
        "widget-interact"
       ],
       "children": [
        "IPY_MODEL_c28c1f180a5a47b6a49e68a44cc0e90a",
        "IPY_MODEL_90f7dca01f0b41ac8b4e63d656181517",
        "IPY_MODEL_63146f53b65840a988fe4c99e650f288"
       ],
       "layout": "IPY_MODEL_dfe48fc99ef444de8fe8e920591f4b7b"
      }
     },
     "b376f4a3db1a4c0fb507473e441d3b6f": {
      "model_module": "@jupyter-widgets/output",
      "model_module_version": "1.0.0",
      "model_name": "OutputModel",
      "state": {
       "layout": "IPY_MODEL_6a63bf41f2814d1daf677b428d4e1635"
      }
     },
     "b4b53cefaf714e08b49e8326595e79af": {
      "model_module": "@jupyter-widgets/base",
      "model_module_version": "1.2.0",
      "model_name": "LayoutModel",
      "state": {}
     },
     "b4e6c0d8dd80490f8225e354e3f85193": {
      "model_module": "@jupyter-widgets/controls",
      "model_module_version": "1.5.0",
      "model_name": "IntSliderModel",
      "state": {
       "description": "selected_batch",
       "layout": "IPY_MODEL_cec7dda6ff5340ca825f358068379e36",
       "max": 9,
       "style": "IPY_MODEL_f8043e16fc2c45c59c6201ea0db71fde",
       "value": 9
      }
     },
     "b56aa22ce26a4295867b45b6384e2510": {
      "model_module": "@jupyter-widgets/controls",
      "model_module_version": "1.5.0",
      "model_name": "IntSliderModel",
      "state": {
       "description": "examples_",
       "layout": "IPY_MODEL_8e6050cdacd0458aa52a821f262f06c3",
       "min": 1,
       "style": "IPY_MODEL_9f696114a8d24a9bab57be7bcd2d2f34",
       "value": 100
      }
     },
     "b5c09288178248e4bb54de633657dbd9": {
      "model_module": "@jupyter-widgets/controls",
      "model_module_version": "1.5.0",
      "model_name": "DescriptionStyleModel",
      "state": {
       "description_width": ""
      }
     },
     "b6adc5be32f942f8bbb975daa3ed7bab": {
      "model_module": "@jupyter-widgets/controls",
      "model_module_version": "1.5.0",
      "model_name": "DescriptionStyleModel",
      "state": {
       "description_width": ""
      }
     },
     "b6b92199c12c48a1aa87044833ab7c95": {
      "model_module": "@jupyter-widgets/controls",
      "model_module_version": "1.5.0",
      "model_name": "VBoxModel",
      "state": {
       "_dom_classes": [
        "widget-interact"
       ],
       "children": [
        "IPY_MODEL_b0c3286cc9a6494ea30385f55b438fe7",
        "IPY_MODEL_002b3004d5564ac5895110e353318f80",
        "IPY_MODEL_89a1c95b331b40b986f62baf50226b7d",
        "IPY_MODEL_cc1a7bdb22df4cd79e105a488cee490e"
       ],
       "layout": "IPY_MODEL_b2f22dac85344d4a84eb61ee3911704a"
      }
     },
     "b791b2fadf934f4486fe78f35e886a9a": {
      "model_module": "@jupyter-widgets/controls",
      "model_module_version": "1.5.0",
      "model_name": "SliderStyleModel",
      "state": {
       "description_width": ""
      }
     },
     "b83c6d23326243cda96b8fcc58cb159b": {
      "model_module": "@jupyter-widgets/base",
      "model_module_version": "1.2.0",
      "model_name": "LayoutModel",
      "state": {}
     },
     "b94aa3b5a06c4ba8a332cf07bb04d79f": {
      "model_module": "@jupyter-widgets/base",
      "model_module_version": "1.2.0",
      "model_name": "LayoutModel",
      "state": {}
     },
     "b9519ac5656c4c76b68e4acac2d1a537": {
      "model_module": "@jupyter-widgets/controls",
      "model_module_version": "1.5.0",
      "model_name": "SliderStyleModel",
      "state": {
       "description_width": ""
      }
     },
     "ba5a4ff547814a8a8b80d3daaf9255fd": {
      "model_module": "@jupyter-widgets/controls",
      "model_module_version": "1.5.0",
      "model_name": "IntSliderModel",
      "state": {
       "description": "examples_",
       "layout": "IPY_MODEL_e5af610f95e14e939140067349f9f350",
       "min": 1,
       "style": "IPY_MODEL_309103c6464d418386f7c41829730b51",
       "value": 50
      }
     },
     "ba92c107258d49c0a6612b961a7e3d1a": {
      "model_module": "@jupyter-widgets/controls",
      "model_module_version": "1.5.0",
      "model_name": "IntSliderModel",
      "state": {
       "description": "example_size_",
       "layout": "IPY_MODEL_d5b5118556524b5486666f67367ab596",
       "max": 20,
       "style": "IPY_MODEL_566a0224795d4324a8cc3fa7b9a13057",
       "value": 5
      }
     },
     "ba9a18328aea4c4d8ee70303d56debca": {
      "model_module": "@jupyter-widgets/controls",
      "model_module_version": "1.5.0",
      "model_name": "IntSliderModel",
      "state": {
       "description": "batchsize_",
       "layout": "IPY_MODEL_bcec705be184422f96b29468224c3fc2",
       "max": 20,
       "style": "IPY_MODEL_803ec6e6ce0f447088d3ce0555909510",
       "value": 10
      }
     },
     "bacab1605e634b23b2d7aaf757d46ee2": {
      "model_module": "@jupyter-widgets/controls",
      "model_module_version": "1.5.0",
      "model_name": "VBoxModel",
      "state": {
       "_dom_classes": [
        "widget-interact"
       ],
       "children": [
        "IPY_MODEL_9de131cf26a74a6da5e982b8ad5f2255",
        "IPY_MODEL_3575622ce7ff4d2c88b6015add9eaa0c",
        "IPY_MODEL_a82e671b10d946e3b564c3fede453bc3"
       ],
       "layout": "IPY_MODEL_290d5f1b4fde4de4bfb93c0d6a5f991b"
      }
     },
     "baeb342ebe0b4b54a6c9a90c1c0d8835": {
      "model_module": "@jupyter-widgets/controls",
      "model_module_version": "1.5.0",
      "model_name": "SliderStyleModel",
      "state": {
       "description_width": ""
      }
     },
     "bb26cb06c5024830bc8a5b7bc6f8e5da": {
      "model_module": "@jupyter-widgets/base",
      "model_module_version": "1.2.0",
      "model_name": "LayoutModel",
      "state": {}
     },
     "bb851700e9f14e68ae81415ed06b9830": {
      "model_module": "@jupyter-widgets/base",
      "model_module_version": "1.2.0",
      "model_name": "LayoutModel",
      "state": {}
     },
     "bb875eeaaa2b4571818e453b944f7b31": {
      "model_module": "@jupyter-widgets/controls",
      "model_module_version": "1.5.0",
      "model_name": "SliderStyleModel",
      "state": {
       "description_width": ""
      }
     },
     "bc02a0998bed48ef884f201593ac649b": {
      "model_module": "@jupyter-widgets/base",
      "model_module_version": "1.2.0",
      "model_name": "LayoutModel",
      "state": {}
     },
     "bc223c068fff4d0194ae5537114e9f8d": {
      "model_module": "@jupyter-widgets/controls",
      "model_module_version": "1.5.0",
      "model_name": "SliderStyleModel",
      "state": {
       "description_width": ""
      }
     },
     "bc87388c78774397815b71689ec41937": {
      "model_module": "@jupyter-widgets/controls",
      "model_module_version": "1.5.0",
      "model_name": "IntSliderModel",
      "state": {
       "description": "batchsize_",
       "layout": "IPY_MODEL_a17625ce47d24d1f8d4159aefff1684e",
       "style": "IPY_MODEL_42cd44a0ee9e4cf79829be71ec2d72c6",
       "value": 4
      }
     },
     "bca2b4d267c74100af723bf370f22ecc": {
      "model_module": "@jupyter-widgets/base",
      "model_module_version": "1.2.0",
      "model_name": "LayoutModel",
      "state": {}
     },
     "bca3928b500e4a7288403db657e615d0": {
      "model_module": "@jupyter-widgets/controls",
      "model_module_version": "1.5.0",
      "model_name": "VBoxModel",
      "state": {
       "_dom_classes": [
        "widget-interact"
       ],
       "children": [
        "IPY_MODEL_df1792460d2b4106a61952925836d40f",
        "IPY_MODEL_c6060428d3cb4fda81cd4bc701a406d0"
       ],
       "layout": "IPY_MODEL_134d5bc73a5b4fe0ac409d4b741b9d3b"
      }
     },
     "bcec705be184422f96b29468224c3fc2": {
      "model_module": "@jupyter-widgets/base",
      "model_module_version": "1.2.0",
      "model_name": "LayoutModel",
      "state": {}
     },
     "bd404ac4d6474c4ca2fcee9d0d828665": {
      "model_module": "@jupyter-widgets/controls",
      "model_module_version": "1.5.0",
      "model_name": "IntSliderModel",
      "state": {
       "description": "selected_batch",
       "layout": "IPY_MODEL_f12550ed321141cfa07d3904d02c2598",
       "max": 9,
       "style": "IPY_MODEL_f126a56c04734ae0abe63517a0e0d198",
       "value": 4
      }
     },
     "bd4945a4e9e74c8384035c951e8d7ee1": {
      "model_module": "@jupyter-widgets/base",
      "model_module_version": "1.2.0",
      "model_name": "LayoutModel",
      "state": {}
     },
     "be17bcbaa7aa46c383bbff0dc19aa497": {
      "model_module": "@jupyter-widgets/base",
      "model_module_version": "1.2.0",
      "model_name": "LayoutModel",
      "state": {}
     },
     "be573e7921a44d359362e50d6173acb3": {
      "model_module": "@jupyter-widgets/controls",
      "model_module_version": "1.5.0",
      "model_name": "SliderStyleModel",
      "state": {
       "description_width": ""
      }
     },
     "be642e67b30d4244919150e5dd6860b0": {
      "model_module": "@jupyter-widgets/controls",
      "model_module_version": "1.5.0",
      "model_name": "SliderStyleModel",
      "state": {
       "description_width": ""
      }
     },
     "c06fbee7cd0b43cb93db7e235b38767c": {
      "model_module": "@jupyter-widgets/base",
      "model_module_version": "1.2.0",
      "model_name": "LayoutModel",
      "state": {}
     },
     "c12da7d6286f44c99eb9198edd36cb0a": {
      "model_module": "@jupyter-widgets/controls",
      "model_module_version": "1.5.0",
      "model_name": "IntSliderModel",
      "state": {
       "description": "example_size_",
       "layout": "IPY_MODEL_67f2f35ba53045c7b7ff157865cbc5d8",
       "max": 8,
       "min": 1,
       "style": "IPY_MODEL_a20a75b6b72d493e8b19881f48f988b4",
       "value": 4
      }
     },
     "c19d4f50fe984f07b8b8608826375b39": {
      "model_module": "@jupyter-widgets/base",
      "model_module_version": "1.2.0",
      "model_name": "LayoutModel",
      "state": {}
     },
     "c1cc1643efc84a0a97b78c88125d44af": {
      "model_module": "@jupyter-widgets/base",
      "model_module_version": "1.2.0",
      "model_name": "LayoutModel",
      "state": {}
     },
     "c1cff5f6e56a4b36a5bdcc2537b7108e": {
      "model_module": "@jupyter-widgets/controls",
      "model_module_version": "1.5.0",
      "model_name": "SliderStyleModel",
      "state": {
       "description_width": ""
      }
     },
     "c1de8f8968d64933a7f3dceeaa4f94b0": {
      "model_module": "@jupyter-widgets/base",
      "model_module_version": "1.2.0",
      "model_name": "LayoutModel",
      "state": {}
     },
     "c28c1f180a5a47b6a49e68a44cc0e90a": {
      "model_module": "@jupyter-widgets/controls",
      "model_module_version": "1.5.0",
      "model_name": "IntSliderModel",
      "state": {
       "description": "selected_batch",
       "layout": "IPY_MODEL_21b043c3e1c646c9bfa5f7b3bb25644e",
       "max": 9,
       "style": "IPY_MODEL_c9f04f91e08d4554b00ffcb0f78ec6dc"
      }
     },
     "c319ef2d016049019f63a291730a6f09": {
      "model_module": "@jupyter-widgets/controls",
      "model_module_version": "1.5.0",
      "model_name": "IntSliderModel",
      "state": {
       "description": "batchsize_",
       "layout": "IPY_MODEL_80ba09b9789d494a88058e7ef13fe33c",
       "max": 20,
       "style": "IPY_MODEL_a16a30b13e9d47b49293b7abd70e0cb3",
       "value": 10
      }
     },
     "c397b37de7124c1ab6f465e686118b1c": {
      "model_module": "@jupyter-widgets/controls",
      "model_module_version": "1.5.0",
      "model_name": "IntSliderModel",
      "state": {
       "description": "examples_",
       "layout": "IPY_MODEL_726fd1c0b9eb4a44b87468f8dc905b49",
       "min": 1,
       "style": "IPY_MODEL_20f52b3c98644547b47d6bdddaf213fd",
       "value": 50
      }
     },
     "c424b662e7454ac1a5719887f561898e": {
      "model_module": "@jupyter-widgets/controls",
      "model_module_version": "1.5.0",
      "model_name": "IntSliderModel",
      "state": {
       "description": "batchsize_",
       "layout": "IPY_MODEL_8ee63a4aab964b5c9fe1412a184bd2bf",
       "style": "IPY_MODEL_24ab732f056e4a1e96bdb152a2215f93",
       "value": 50
      }
     },
     "c448fe484231462aa965cfc9d6f1b593": {
      "model_module": "@jupyter-widgets/output",
      "model_module_version": "1.0.0",
      "model_name": "OutputModel",
      "state": {
       "layout": "IPY_MODEL_c75db204ff5d44388b0c11964d64a658",
       "outputs": [
        {
         "ename": "AssertionError",
         "evalue": "",
         "output_type": "error",
         "traceback": [
          "\u001b[0;31m---------------------------------------------------------------------------\u001b[0m",
          "\u001b[0;31mAssertionError\u001b[0m                            Traceback (most recent call last)",
          "\u001b[0;32m~/anaconda3/envs/dcmr/lib/python3.8/site-packages/ipywidgets/widgets/interaction.py\u001b[0m in \u001b[0;36mupdate\u001b[0;34m(self, *args)\u001b[0m\n\u001b[1;32m    254\u001b[0m                     \u001b[0mvalue\u001b[0m \u001b[0;34m=\u001b[0m \u001b[0mwidget\u001b[0m\u001b[0;34m.\u001b[0m\u001b[0mget_interact_value\u001b[0m\u001b[0;34m(\u001b[0m\u001b[0;34m)\u001b[0m\u001b[0;34m\u001b[0m\u001b[0;34m\u001b[0m\u001b[0m\n\u001b[1;32m    255\u001b[0m                     \u001b[0mself\u001b[0m\u001b[0;34m.\u001b[0m\u001b[0mkwargs\u001b[0m\u001b[0;34m[\u001b[0m\u001b[0mwidget\u001b[0m\u001b[0;34m.\u001b[0m\u001b[0m_kwarg\u001b[0m\u001b[0;34m]\u001b[0m \u001b[0;34m=\u001b[0m \u001b[0mvalue\u001b[0m\u001b[0;34m\u001b[0m\u001b[0;34m\u001b[0m\u001b[0m\n\u001b[0;32m--> 256\u001b[0;31m                 \u001b[0mself\u001b[0m\u001b[0;34m.\u001b[0m\u001b[0mresult\u001b[0m \u001b[0;34m=\u001b[0m \u001b[0mself\u001b[0m\u001b[0;34m.\u001b[0m\u001b[0mf\u001b[0m\u001b[0;34m(\u001b[0m\u001b[0;34m**\u001b[0m\u001b[0mself\u001b[0m\u001b[0;34m.\u001b[0m\u001b[0mkwargs\u001b[0m\u001b[0;34m)\u001b[0m\u001b[0;34m\u001b[0m\u001b[0;34m\u001b[0m\u001b[0m\n\u001b[0m\u001b[1;32m    257\u001b[0m                 \u001b[0mshow_inline_matplotlib_plots\u001b[0m\u001b[0;34m(\u001b[0m\u001b[0;34m)\u001b[0m\u001b[0;34m\u001b[0m\u001b[0;34m\u001b[0m\u001b[0m\n\u001b[1;32m    258\u001b[0m                 \u001b[0;32mif\u001b[0m \u001b[0mself\u001b[0m\u001b[0;34m.\u001b[0m\u001b[0mauto_display\u001b[0m \u001b[0;32mand\u001b[0m \u001b[0mself\u001b[0m\u001b[0;34m.\u001b[0m\u001b[0mresult\u001b[0m \u001b[0;32mis\u001b[0m \u001b[0;32mnot\u001b[0m \u001b[0;32mNone\u001b[0m\u001b[0;34m:\u001b[0m\u001b[0;34m\u001b[0m\u001b[0;34m\u001b[0m\u001b[0m\n",
          "\u001b[0;32m<ipython-input-79-e09db53abaf6>\u001b[0m in \u001b[0;36mselect_batch\u001b[0;34m(selected_batch)\u001b[0m\n\u001b[1;32m      2\u001b[0m \u001b[0;34m@\u001b[0m\u001b[0minteract\u001b[0m\u001b[0;34m\u001b[0m\u001b[0;34m\u001b[0m\u001b[0m\n\u001b[1;32m      3\u001b[0m \u001b[0;32mdef\u001b[0m \u001b[0mselect_batch\u001b[0m\u001b[0;34m(\u001b[0m\u001b[0mselected_batch\u001b[0m \u001b[0;34m=\u001b[0m \u001b[0;34m(\u001b[0m\u001b[0;36m0\u001b[0m\u001b[0;34m,\u001b[0m\u001b[0mint\u001b[0m\u001b[0;34m(\u001b[0m\u001b[0mnp\u001b[0m\u001b[0;34m.\u001b[0m\u001b[0mfloor\u001b[0m\u001b[0;34m(\u001b[0m\u001b[0mexamples\u001b[0m\u001b[0;34m/\u001b[0m\u001b[0mbatchsize\u001b[0m\u001b[0;34m)\u001b[0m\u001b[0;34m)\u001b[0m\u001b[0;34m-\u001b[0m\u001b[0;36m1\u001b[0m\u001b[0;34m)\u001b[0m\u001b[0;34m)\u001b[0m\u001b[0;34m:\u001b[0m\u001b[0;34m\u001b[0m\u001b[0;34m\u001b[0m\u001b[0m\n\u001b[0;32m----> 4\u001b[0;31m     \u001b[0;32massert\u001b[0m \u001b[0mlen\u001b[0m\u001b[0;34m(\u001b[0m\u001b[0mindexes\u001b[0m\u001b[0;34m)\u001b[0m \u001b[0;34m==\u001b[0m \u001b[0mexamples\u001b[0m\u001b[0;34m\u001b[0m\u001b[0;34m\u001b[0m\u001b[0m\n\u001b[0m\u001b[1;32m      5\u001b[0m     \u001b[0mprint\u001b[0m\u001b[0;34m(\u001b[0m\u001b[0;34m'selected batch: {} of {} with a batchsize of {} and total {} examples'\u001b[0m\u001b[0;34m.\u001b[0m\u001b[0mformat\u001b[0m\u001b[0;34m(\u001b[0m\u001b[0mselected_batch\u001b[0m\u001b[0;34m,\u001b[0m \u001b[0;34m(\u001b[0m\u001b[0mexamples\u001b[0m\u001b[0;34m/\u001b[0m\u001b[0mbatchsize\u001b[0m\u001b[0;34m)\u001b[0m\u001b[0;34m-\u001b[0m\u001b[0;36m1\u001b[0m\u001b[0;34m,\u001b[0m \u001b[0mbatchsize\u001b[0m\u001b[0;34m,\u001b[0m \u001b[0mexamples\u001b[0m\u001b[0;34m)\u001b[0m\u001b[0;34m)\u001b[0m\u001b[0;34m\u001b[0m\u001b[0;34m\u001b[0m\u001b[0m\n\u001b[1;32m      6\u001b[0m     \u001b[0mstart_idx\u001b[0m \u001b[0;34m=\u001b[0m \u001b[0mselected_batch\u001b[0m\u001b[0;34m*\u001b[0m\u001b[0mbatchsize\u001b[0m\u001b[0;34m\u001b[0m\u001b[0;34m\u001b[0m\u001b[0m\n",
          "\u001b[0;31mAssertionError\u001b[0m: "
         ]
        }
       ]
      }
     },
     "c488be2058454e2f8d53c214fedda4a9": {
      "model_module": "@jupyter-widgets/controls",
      "model_module_version": "1.5.0",
      "model_name": "IntSliderModel",
      "state": {
       "description": "selected_batch",
       "layout": "IPY_MODEL_2d20bee6d4c844be85f2afe7c902c116",
       "max": 4,
       "style": "IPY_MODEL_0efa1baac81d4627bc1b0f04a72b3dad"
      }
     },
     "c4f9e54b0ff24e8ab1f0771ed5a0b44a": {
      "model_module": "@jupyter-widgets/controls",
      "model_module_version": "1.5.0",
      "model_name": "DescriptionStyleModel",
      "state": {
       "description_width": ""
      }
     },
     "c6060428d3cb4fda81cd4bc701a406d0": {
      "model_module": "@jupyter-widgets/output",
      "model_module_version": "1.0.0",
      "model_name": "OutputModel",
      "state": {
       "layout": "IPY_MODEL_e4565a3986984c95aace0a96179c2b05",
       "outputs": [
        {
         "name": "stdout",
         "output_type": "stream",
         "text": "12\n[]\n"
        },
        {
         "data": {
          "text/plain": "[[], []]"
         },
         "metadata": {},
         "output_type": "display_data"
        }
       ]
      }
     },
     "c6066a3b094d4a3f9c5806cdb3abb066": {
      "model_module": "@jupyter-widgets/controls",
      "model_module_version": "1.5.0",
      "model_name": "IntSliderModel",
      "state": {
       "description": "selected_batch",
       "layout": "IPY_MODEL_b1bc28f49d2f460991005eca9db68a2f",
       "max": 25,
       "style": "IPY_MODEL_b791b2fadf934f4486fe78f35e886a9a"
      }
     },
     "c678dc6a71c343e3922dd007ae6e1ef5": {
      "model_module": "@jupyter-widgets/output",
      "model_module_version": "1.0.0",
      "model_name": "OutputModel",
      "state": {
       "layout": "IPY_MODEL_0a9b44c8e149489d8ded1181c38e0c4e",
       "outputs": [
        {
         "name": "stdout",
         "output_type": "stream",
         "text": "selected batch: 2 of 4 with a batchsize of 10 and total 50 examples\nstart idx: 20, end idx: 30\n[20, 21, 22, 23, 24, 25, 26, 27, 28, 29]\n"
        },
        {
         "data": {
          "text/plain": "[[[200, 201, 202, 203],\n  [210, 211, 212, 213],\n  [220, 221, 222, 223],\n  [230, 231, 232, 233],\n  [240, 241, 242, 243],\n  [250, 251, 252, 253],\n  [260, 261, 262, 263],\n  [270, 271, 272, 273],\n  [280, 281, 282, 283],\n  [290, 291, 292, 293]],\n [[2.0, 3.0, 4.0, 5.0],\n  [2.1, 3.1, 4.1, 5.1],\n  [2.2, 3.2, 4.2, 5.2],\n  [2.3, 3.3, 4.3, 5.3],\n  [2.4, 3.4, 4.4, 5.4],\n  [2.5, 3.5, 4.5, 5.5],\n  [2.6, 3.6, 4.6, 5.6],\n  [2.7, 3.7, 4.7, 5.7],\n  [2.8, 3.8, 4.8, 5.8],\n  [2.9, 3.9, 4.9, 5.9]]]"
         },
         "metadata": {},
         "output_type": "display_data"
        }
       ]
      }
     },
     "c69962eb459443bea9865c3499a633d1": {
      "model_module": "@jupyter-widgets/controls",
      "model_module_version": "1.5.0",
      "model_name": "IntSliderModel",
      "state": {
       "description": "examples_",
       "layout": "IPY_MODEL_591134fa28104c51b8cdb96321062705",
       "min": 1,
       "style": "IPY_MODEL_4c9bd9be257f4c3bba5c461337a1acad",
       "value": 100
      }
     },
     "c6f63076696d47d08e1da79073d78ddb": {
      "model_module": "@jupyter-widgets/controls",
      "model_module_version": "1.5.0",
      "model_name": "VBoxModel",
      "state": {
       "_dom_classes": [
        "widget-interact"
       ],
       "children": [
        "IPY_MODEL_b4e6c0d8dd80490f8225e354e3f85193",
        "IPY_MODEL_475d1cbae82d4ea2af3e5c7b28815d1e"
       ],
       "layout": "IPY_MODEL_eadc75ffeb514d24a98a4600aca654c3"
      }
     },
     "c6f79ba2afe0403eb185a9b54e5c8685": {
      "model_module": "@jupyter-widgets/controls",
      "model_module_version": "1.5.0",
      "model_name": "IntSliderModel",
      "state": {
       "description": "example_size_",
       "layout": "IPY_MODEL_9530055b64c04a2a879884349898527b",
       "max": 8,
       "min": 1,
       "style": "IPY_MODEL_ed33f92724d9473b94ecc27b9070090d",
       "value": 4
      }
     },
     "c73f7ff0708e40e095eff18b5ee799d4": {
      "model_module": "@jupyter-widgets/base",
      "model_module_version": "1.2.0",
      "model_name": "LayoutModel",
      "state": {}
     },
     "c745861e5c8c43be9a762e2f85adf8a5": {
      "model_module": "@jupyter-widgets/controls",
      "model_module_version": "1.5.0",
      "model_name": "IntSliderModel",
      "state": {
       "description": "example_size_",
       "layout": "IPY_MODEL_ecd9c2f0b01248c885ebc636a4ad4d75",
       "max": 20,
       "style": "IPY_MODEL_d39e19997f0044779364907ba65430c4",
       "value": 10
      }
     },
     "c749756deaa548de8173df2eb1603c9f": {
      "model_module": "@jupyter-widgets/base",
      "model_module_version": "1.2.0",
      "model_name": "LayoutModel",
      "state": {}
     },
     "c75db204ff5d44388b0c11964d64a658": {
      "model_module": "@jupyter-widgets/base",
      "model_module_version": "1.2.0",
      "model_name": "LayoutModel",
      "state": {}
     },
     "c765716e8ede4bd0a4cc51df19e4d316": {
      "model_module": "@jupyter-widgets/base",
      "model_module_version": "1.2.0",
      "model_name": "LayoutModel",
      "state": {}
     },
     "c81c72e4c4e240579e22e2f29511f91a": {
      "model_module": "@jupyter-widgets/controls",
      "model_module_version": "1.5.0",
      "model_name": "VBoxModel",
      "state": {
       "_dom_classes": [
        "widget-interact"
       ],
       "children": [
        "IPY_MODEL_e33f6b9788b243b39171d80c8610991f",
        "IPY_MODEL_e06dd45cd5844c449bc9602c59c5d89e"
       ],
       "layout": "IPY_MODEL_fb527695840e4223a95a11759ab252e9"
      }
     },
     "c822de8d346547f6b6e5c2fa1462660c": {
      "model_module": "@jupyter-widgets/base",
      "model_module_version": "1.2.0",
      "model_name": "LayoutModel",
      "state": {}
     },
     "c8905495f932451992a017e638836553": {
      "model_module": "@jupyter-widgets/controls",
      "model_module_version": "1.5.0",
      "model_name": "IntSliderModel",
      "state": {
       "description": "batchsize_",
       "layout": "IPY_MODEL_7bb9faabf6da42bdad9392f81f20ffbc",
       "max": 20,
       "min": 1,
       "style": "IPY_MODEL_c1cff5f6e56a4b36a5bdcc2537b7108e",
       "value": 10
      }
     },
     "c926758fa070485487a88c0c5dbcaebc": {
      "model_module": "@jupyter-widgets/controls",
      "model_module_version": "1.5.0",
      "model_name": "VBoxModel",
      "state": {
       "_dom_classes": [
        "widget-interact"
       ],
       "children": [
        "IPY_MODEL_bd404ac4d6474c4ca2fcee9d0d828665",
        "IPY_MODEL_f4490182671c46e79a3d15da92e3091a"
       ],
       "layout": "IPY_MODEL_63d7f2979d22472d8f4cb4986a2fa01f"
      }
     },
     "c9601b02b326411ba95ae0a6b6777325": {
      "model_module": "@jupyter-widgets/base",
      "model_module_version": "1.2.0",
      "model_name": "LayoutModel",
      "state": {}
     },
     "c9f04f91e08d4554b00ffcb0f78ec6dc": {
      "model_module": "@jupyter-widgets/controls",
      "model_module_version": "1.5.0",
      "model_name": "SliderStyleModel",
      "state": {
       "description_width": ""
      }
     },
     "c9fb61c0a5da420fa0efd22e8bcdc17f": {
      "model_module": "@jupyter-widgets/controls",
      "model_module_version": "1.5.0",
      "model_name": "VBoxModel",
      "state": {
       "_dom_classes": [
        "widget-interact"
       ],
       "children": [
        "IPY_MODEL_7affe3b06ee54d45beaa19ef33b0d157",
        "IPY_MODEL_2ed243c2f0914bc1a9dbb903fc76ce65",
        "IPY_MODEL_ba9a18328aea4c4d8ee70303d56debca",
        "IPY_MODEL_e006bf9588434dc2a9998f5ae9e05b3f"
       ],
       "layout": "IPY_MODEL_a34752bd1fcf438e8e2f639fc6c587fc"
      }
     },
     "ca325f34595545129df8b5b3521eebb2": {
      "model_module": "@jupyter-widgets/controls",
      "model_module_version": "1.5.0",
      "model_name": "VBoxModel",
      "state": {
       "_dom_classes": [
        "widget-interact"
       ],
       "children": [
        "IPY_MODEL_6a1502f623d947d3a3922a9bd444cb17",
        "IPY_MODEL_330ecaa264164fea86d188c67ba42ab2",
        "IPY_MODEL_b10f0852eee546648db3ac3948ffd2e9"
       ],
       "layout": "IPY_MODEL_89ce6aa243c24e31ba8bc1da60c08b36"
      }
     },
     "caebd6c5c4b444b6ae0917ce9143835f": {
      "model_module": "@jupyter-widgets/base",
      "model_module_version": "1.2.0",
      "model_name": "LayoutModel",
      "state": {}
     },
     "cb2aa0460b094656b7c9765a1e7ab0a9": {
      "model_module": "@jupyter-widgets/output",
      "model_module_version": "1.0.0",
      "model_name": "OutputModel",
      "state": {
       "layout": "IPY_MODEL_e3f469b34e034656aee530f1ed1894d1",
       "outputs": [
        {
         "name": "stdout",
         "output_type": "stream",
         "text": "selected batch: 12 of total batches: 1.0 from 100 examples\nstart idx: 48, end idx: 52\n[]\n"
        },
        {
         "data": {
          "text/plain": "[[], []]"
         },
         "metadata": {},
         "output_type": "display_data"
        }
       ]
      }
     },
     "cbeb70b13f9e4c2e8e116b4720907384": {
      "model_module": "@jupyter-widgets/controls",
      "model_module_version": "1.5.0",
      "model_name": "VBoxModel",
      "state": {
       "_dom_classes": [
        "widget-interact"
       ],
       "children": [
        "IPY_MODEL_3e60c56323fc4e5fad187e891df000bc",
        "IPY_MODEL_38c3fdbf1d7647c3b9661603989492c7"
       ],
       "layout": "IPY_MODEL_d5508b4e8df64bbf909d0aa31d90e152"
      }
     },
     "cc1a7bdb22df4cd79e105a488cee490e": {
      "model_module": "@jupyter-widgets/output",
      "model_module_version": "1.0.0",
      "model_name": "OutputModel",
      "state": {
       "layout": "IPY_MODEL_1411c7e5f53f46cb91a039c2364f1533"
      }
     },
     "cc5ebda3b2254c16b2c2f1a4b3384d47": {
      "model_module": "@jupyter-widgets/base",
      "model_module_version": "1.2.0",
      "model_name": "LayoutModel",
      "state": {}
     },
     "cc6a5f8fd4834b37a0fc8779370e8c91": {
      "model_module": "@jupyter-widgets/base",
      "model_module_version": "1.2.0",
      "model_name": "LayoutModel",
      "state": {}
     },
     "cc74503d21c54641ae0dc965298b8752": {
      "model_module": "@jupyter-widgets/controls",
      "model_module_version": "1.5.0",
      "model_name": "IntSliderModel",
      "state": {
       "description": "examples_",
       "layout": "IPY_MODEL_686116064a0f4aa0b0d9a84de6765c82",
       "style": "IPY_MODEL_5767ea00d5054d1da93337ef715cd90b",
       "value": 50
      }
     },
     "ccdf3ef3e57840df93b127144ad8851f": {
      "model_module": "@jupyter-widgets/controls",
      "model_module_version": "1.5.0",
      "model_name": "SliderStyleModel",
      "state": {
       "description_width": ""
      }
     },
     "ccf584e5370d4713b0ee5476b904d734": {
      "model_module": "@jupyter-widgets/base",
      "model_module_version": "1.2.0",
      "model_name": "LayoutModel",
      "state": {}
     },
     "cd70c7e427eb440e8fc9e3ac3189a70b": {
      "model_module": "@jupyter-widgets/output",
      "model_module_version": "1.0.0",
      "model_name": "OutputModel",
      "state": {
       "layout": "IPY_MODEL_0204f5417ec64bf5991a16121b7dacd4",
       "outputs": [
        {
         "name": "stdout",
         "output_type": "stream",
         "text": "selected batch: 25 of 25.0 with a batchsize of 4 and total 100 examples\nstart idx: 100, end idx: 104\n[]\n"
        },
        {
         "data": {
          "text/plain": "[[], []]"
         },
         "metadata": {},
         "output_type": "display_data"
        }
       ]
      }
     },
     "ce30f9491d704a5981f3387852729fb5": {
      "model_module": "@jupyter-widgets/base",
      "model_module_version": "1.2.0",
      "model_name": "LayoutModel",
      "state": {}
     },
     "ce324bc061ad48b5b6cc6fd9fb31782d": {
      "model_module": "@jupyter-widgets/controls",
      "model_module_version": "1.5.0",
      "model_name": "SliderStyleModel",
      "state": {
       "description_width": ""
      }
     },
     "ce46f84cc2a8466d9fb9a3ad3cb0c4b4": {
      "model_module": "@jupyter-widgets/controls",
      "model_module_version": "1.5.0",
      "model_name": "SliderStyleModel",
      "state": {
       "description_width": ""
      }
     },
     "cea81015b1b34347bf9a6619371b3807": {
      "model_module": "@jupyter-widgets/controls",
      "model_module_version": "1.5.0",
      "model_name": "IntSliderModel",
      "state": {
       "description": "batchsize_",
       "layout": "IPY_MODEL_9df496c001ed41069962322d9886b4d9",
       "max": 20,
       "min": 1,
       "style": "IPY_MODEL_27e815da133c414a9e9cbe8222e4c103",
       "value": 4
      }
     },
     "cec7dda6ff5340ca825f358068379e36": {
      "model_module": "@jupyter-widgets/base",
      "model_module_version": "1.2.0",
      "model_name": "LayoutModel",
      "state": {}
     },
     "cef5b05cf10c4e96b5c08608e4819360": {
      "model_module": "@jupyter-widgets/controls",
      "model_module_version": "1.5.0",
      "model_name": "CheckboxModel",
      "state": {
       "description": "shuffle_indexes",
       "disabled": false,
       "layout": "IPY_MODEL_2eff70adf78b465a80b7981169bb443f",
       "style": "IPY_MODEL_10d78d115bc04b979696ecc137109793",
       "value": false
      }
     },
     "cf0544d5b92647d999153557e009019a": {
      "model_module": "@jupyter-widgets/controls",
      "model_module_version": "1.5.0",
      "model_name": "IntSliderModel",
      "state": {
       "description": "example_size_",
       "layout": "IPY_MODEL_62e60ba81dad492e97fb1cbd34e77fe1",
       "max": 8,
       "min": 1,
       "style": "IPY_MODEL_18814c920512418a90bbad006a1323dd",
       "value": 4
      }
     },
     "cf4d0be65a2f4a4da4c32c91273a6c7d": {
      "model_module": "@jupyter-widgets/controls",
      "model_module_version": "1.5.0",
      "model_name": "VBoxModel",
      "state": {
       "_dom_classes": [
        "widget-interact"
       ],
       "children": [
        "IPY_MODEL_8c046402c2c841e3b7b07dc396d99efd",
        "IPY_MODEL_56cd0130b93347219d01febd8ae60673",
        "IPY_MODEL_06d38e6b72fa4d97802696c251a2a4c7",
        "IPY_MODEL_5485862a41614e1098cbb5c740049ff4"
       ],
       "layout": "IPY_MODEL_0a2aaf12991a483a98742e2b8ae6eae5"
      }
     },
     "cf58118eb1874ad2ad43dfd5b8c64c1c": {
      "model_module": "@jupyter-widgets/base",
      "model_module_version": "1.2.0",
      "model_name": "LayoutModel",
      "state": {}
     },
     "cf7fad58512f453ea7be6b52c81bbf04": {
      "model_module": "@jupyter-widgets/controls",
      "model_module_version": "1.5.0",
      "model_name": "CheckboxModel",
      "state": {
       "description": "shuffle_indexes",
       "disabled": false,
       "layout": "IPY_MODEL_a5c70c7730dd497b8b9290de6274e71e",
       "style": "IPY_MODEL_c4f9e54b0ff24e8ab1f0771ed5a0b44a",
       "value": false
      }
     },
     "cf811b0447e743cdbfdd2e4f2a5199e1": {
      "model_module": "@jupyter-widgets/base",
      "model_module_version": "1.2.0",
      "model_name": "LayoutModel",
      "state": {}
     },
     "cf94ce2c5b9646d8b010f74a0438b681": {
      "model_module": "@jupyter-widgets/controls",
      "model_module_version": "1.5.0",
      "model_name": "IntSliderModel",
      "state": {
       "description": "selected_batch",
       "layout": "IPY_MODEL_abff7af6fb10416fb148d52952d70173",
       "max": 24,
       "style": "IPY_MODEL_f1cf24c11497406e82fd389bfa012170",
       "value": 12
      }
     },
     "d02786ea44494e34861920348094a693": {
      "model_module": "@jupyter-widgets/controls",
      "model_module_version": "1.5.0",
      "model_name": "IntSliderModel",
      "state": {
       "description": "examples_",
       "layout": "IPY_MODEL_a505332acab44c4ba8fa8663cbdf0b7d",
       "style": "IPY_MODEL_a0c8bbfcaf574950a59a8ac3a92268bd",
       "value": 100
      }
     },
     "d29e980418114c52b802c30b52b087ff": {
      "model_module": "@jupyter-widgets/base",
      "model_module_version": "1.2.0",
      "model_name": "LayoutModel",
      "state": {}
     },
     "d2dc265c885c4a66b700d5bd70ac2e23": {
      "model_module": "@jupyter-widgets/base",
      "model_module_version": "1.2.0",
      "model_name": "LayoutModel",
      "state": {}
     },
     "d39e19997f0044779364907ba65430c4": {
      "model_module": "@jupyter-widgets/controls",
      "model_module_version": "1.5.0",
      "model_name": "SliderStyleModel",
      "state": {
       "description_width": ""
      }
     },
     "d3dae9e22fc740ed8d24209b4e871760": {
      "model_module": "@jupyter-widgets/controls",
      "model_module_version": "1.5.0",
      "model_name": "VBoxModel",
      "state": {
       "_dom_classes": [
        "widget-interact"
       ],
       "children": [
        "IPY_MODEL_7cc2708c71384aac8d2f2d67037c030c",
        "IPY_MODEL_ba92c107258d49c0a6612b961a7e3d1a",
        "IPY_MODEL_bc87388c78774397815b71689ec41937",
        "IPY_MODEL_a849d83ace754c7e8540bbf76e0adfb0"
       ],
       "layout": "IPY_MODEL_f41259a42510499ba70d82ec1d6b931a"
      }
     },
     "d427f5a506014919811cabb10b4c2482": {
      "model_module": "@jupyter-widgets/base",
      "model_module_version": "1.2.0",
      "model_name": "LayoutModel",
      "state": {}
     },
     "d4fcc1c5a4644f8ca6a5f7cea6d420eb": {
      "model_module": "@jupyter-widgets/controls",
      "model_module_version": "1.5.0",
      "model_name": "SliderStyleModel",
      "state": {
       "description_width": ""
      }
     },
     "d51991c33a124299b2eab4d0524b9bc1": {
      "model_module": "@jupyter-widgets/controls",
      "model_module_version": "1.5.0",
      "model_name": "IntSliderModel",
      "state": {
       "description": "example_size_",
       "layout": "IPY_MODEL_5c35d2a8d4f44f14b10d093331b4afa8",
       "max": 20,
       "style": "IPY_MODEL_eef122410e9c42df93e22dd69d20b47e",
       "value": 10
      }
     },
     "d53b13a24ce74fa68813f89d0878bbc3": {
      "model_module": "@jupyter-widgets/controls",
      "model_module_version": "1.5.0",
      "model_name": "CheckboxModel",
      "state": {
       "description": "shuffle_indexes",
       "disabled": false,
       "layout": "IPY_MODEL_6a9e8be2231c4551916ff4df254283f4",
       "style": "IPY_MODEL_0ee4724f1972494299cf92361a7f2d5a",
       "value": false
      }
     },
     "d5508b4e8df64bbf909d0aa31d90e152": {
      "model_module": "@jupyter-widgets/base",
      "model_module_version": "1.2.0",
      "model_name": "LayoutModel",
      "state": {}
     },
     "d5b5118556524b5486666f67367ab596": {
      "model_module": "@jupyter-widgets/base",
      "model_module_version": "1.2.0",
      "model_name": "LayoutModel",
      "state": {}
     },
     "d5b9003d72c74dc18dbe24f160064416": {
      "model_module": "@jupyter-widgets/controls",
      "model_module_version": "1.5.0",
      "model_name": "IntSliderModel",
      "state": {
       "description": "batchsize_",
       "layout": "IPY_MODEL_b94aa3b5a06c4ba8a332cf07bb04d79f",
       "style": "IPY_MODEL_fc9469e49386438fa4ef434461ee454f",
       "value": 50
      }
     },
     "d64afe3c1ba646cd9b47f7f48819b3c9": {
      "model_module": "@jupyter-widgets/base",
      "model_module_version": "1.2.0",
      "model_name": "LayoutModel",
      "state": {}
     },
     "d65f993778204539bec6f2bc9690467e": {
      "model_module": "@jupyter-widgets/controls",
      "model_module_version": "1.5.0",
      "model_name": "IntSliderModel",
      "state": {
       "description": "selected_batch",
       "layout": "IPY_MODEL_4818582f0a5349e9a89d9d1e0cb94011",
       "max": 9,
       "style": "IPY_MODEL_0692d08768a54505998574cd3deb514e",
       "value": 4
      }
     },
     "d6900961a53e4b6b8a4ec1ac89fb8931": {
      "model_module": "@jupyter-widgets/base",
      "model_module_version": "1.2.0",
      "model_name": "LayoutModel",
      "state": {}
     },
     "d72edb6acf094ea8b38b5bff7dabaac9": {
      "model_module": "@jupyter-widgets/base",
      "model_module_version": "1.2.0",
      "model_name": "LayoutModel",
      "state": {}
     },
     "d7a986530acb4e81967987966e3c6d10": {
      "model_module": "@jupyter-widgets/base",
      "model_module_version": "1.2.0",
      "model_name": "LayoutModel",
      "state": {}
     },
     "d7c25502b7454c36823a93e451a625d5": {
      "model_module": "@jupyter-widgets/controls",
      "model_module_version": "1.5.0",
      "model_name": "DescriptionStyleModel",
      "state": {
       "description_width": ""
      }
     },
     "d86979dab3d143ea9206cc8746d337cb": {
      "model_module": "@jupyter-widgets/base",
      "model_module_version": "1.2.0",
      "model_name": "LayoutModel",
      "state": {}
     },
     "d8edc63b973342e0b7922b9438836a0f": {
      "model_module": "@jupyter-widgets/controls",
      "model_module_version": "1.5.0",
      "model_name": "SliderStyleModel",
      "state": {
       "description_width": ""
      }
     },
     "da1f096def414a38bb023a36d6f176d4": {
      "model_module": "@jupyter-widgets/base",
      "model_module_version": "1.2.0",
      "model_name": "LayoutModel",
      "state": {}
     },
     "da61417ea6f54e5f97063e9bd39f5076": {
      "model_module": "@jupyter-widgets/controls",
      "model_module_version": "1.5.0",
      "model_name": "SliderStyleModel",
      "state": {
       "description_width": ""
      }
     },
     "dacb05be145e454e8e1010bf3013ae48": {
      "model_module": "@jupyter-widgets/controls",
      "model_module_version": "1.5.0",
      "model_name": "IntSliderModel",
      "state": {
       "description": "selected_batch",
       "layout": "IPY_MODEL_33b5760889474dc482033de796284af4",
       "max": 11,
       "style": "IPY_MODEL_a1e91427de9e49b2beecd5ec91acc960",
       "value": 11
      }
     },
     "daf5d28662c24be393e198bc229be570": {
      "model_module": "@jupyter-widgets/base",
      "model_module_version": "1.2.0",
      "model_name": "LayoutModel",
      "state": {}
     },
     "dc5d445f9a6648a1ace039112b30f2d8": {
      "model_module": "@jupyter-widgets/controls",
      "model_module_version": "1.5.0",
      "model_name": "SliderStyleModel",
      "state": {
       "description_width": ""
      }
     },
     "dcb877c5c33541f0969aea63c225747c": {
      "model_module": "@jupyter-widgets/base",
      "model_module_version": "1.2.0",
      "model_name": "LayoutModel",
      "state": {}
     },
     "ddcff3062aaa4b289b8f01739fa094ea": {
      "model_module": "@jupyter-widgets/controls",
      "model_module_version": "1.5.0",
      "model_name": "SliderStyleModel",
      "state": {
       "description_width": ""
      }
     },
     "ddf62665293c402499cf99245b26f496": {
      "model_module": "@jupyter-widgets/controls",
      "model_module_version": "1.5.0",
      "model_name": "SliderStyleModel",
      "state": {
       "description_width": ""
      }
     },
     "de362b90ad10447caea7d200568444f9": {
      "model_module": "@jupyter-widgets/base",
      "model_module_version": "1.2.0",
      "model_name": "LayoutModel",
      "state": {}
     },
     "dea12458fb0846118c12f5ab45d8c89d": {
      "model_module": "@jupyter-widgets/base",
      "model_module_version": "1.2.0",
      "model_name": "LayoutModel",
      "state": {}
     },
     "debeb199b5224e4d9b620f088fbd6320": {
      "model_module": "@jupyter-widgets/base",
      "model_module_version": "1.2.0",
      "model_name": "LayoutModel",
      "state": {}
     },
     "deda925023834388b60d4adbac79ead6": {
      "model_module": "@jupyter-widgets/controls",
      "model_module_version": "1.5.0",
      "model_name": "IntSliderModel",
      "state": {
       "description": "selected_batch",
       "layout": "IPY_MODEL_17780554e5354011804ea3871ab75c6d",
       "max": 25,
       "style": "IPY_MODEL_055baf820a3a4832be9623e1968ee296",
       "value": 16
      }
     },
     "df1792460d2b4106a61952925836d40f": {
      "model_module": "@jupyter-widgets/controls",
      "model_module_version": "1.5.0",
      "model_name": "IntSliderModel",
      "state": {
       "description": "selected_batch",
       "layout": "IPY_MODEL_f2a335b71acc4a6eb880e479a87d5d30",
       "max": 25,
       "style": "IPY_MODEL_fe7ebe199a4b4c18b41221ba50050a88",
       "value": 12
      }
     },
     "df75ee37d8eb4217ad0a76f84eafa162": {
      "model_module": "@jupyter-widgets/base",
      "model_module_version": "1.2.0",
      "model_name": "LayoutModel",
      "state": {}
     },
     "dfbe2c6b196942b69fe6f8a3fddfebf7": {
      "model_module": "@jupyter-widgets/base",
      "model_module_version": "1.2.0",
      "model_name": "LayoutModel",
      "state": {}
     },
     "dfe48fc99ef444de8fe8e920591f4b7b": {
      "model_module": "@jupyter-widgets/base",
      "model_module_version": "1.2.0",
      "model_name": "LayoutModel",
      "state": {}
     },
     "e002339b46e941ef9bd58ad2e9e2477e": {
      "model_module": "@jupyter-widgets/controls",
      "model_module_version": "1.5.0",
      "model_name": "IntSliderModel",
      "state": {
       "description": "example_size_",
       "layout": "IPY_MODEL_ccf584e5370d4713b0ee5476b904d734",
       "max": 20,
       "style": "IPY_MODEL_d4fcc1c5a4644f8ca6a5f7cea6d420eb",
       "value": 4
      }
     },
     "e006bf9588434dc2a9998f5ae9e05b3f": {
      "model_module": "@jupyter-widgets/output",
      "model_module_version": "1.0.0",
      "model_name": "OutputModel",
      "state": {
       "layout": "IPY_MODEL_7464f0bb127749ea847a85c1afcb9c2e"
      }
     },
     "e06dd45cd5844c449bc9602c59c5d89e": {
      "model_module": "@jupyter-widgets/output",
      "model_module_version": "1.0.0",
      "model_name": "OutputModel",
      "state": {
       "layout": "IPY_MODEL_c749756deaa548de8173df2eb1603c9f",
       "outputs": [
        {
         "name": "stdout",
         "output_type": "stream",
         "text": "12\n"
        },
        {
         "ename": "IndexError",
         "evalue": "Replacement index 1 out of range for positional args tuple",
         "output_type": "error",
         "traceback": [
          "\u001b[0;31m---------------------------------------------------------------------------\u001b[0m",
          "\u001b[0;31mIndexError\u001b[0m                                Traceback (most recent call last)",
          "\u001b[0;32m~/anaconda3/envs/dcmr/lib/python3.8/site-packages/ipywidgets/widgets/interaction.py\u001b[0m in \u001b[0;36mupdate\u001b[0;34m(self, *args)\u001b[0m\n\u001b[1;32m    254\u001b[0m                     \u001b[0mvalue\u001b[0m \u001b[0;34m=\u001b[0m \u001b[0mwidget\u001b[0m\u001b[0;34m.\u001b[0m\u001b[0mget_interact_value\u001b[0m\u001b[0;34m(\u001b[0m\u001b[0;34m)\u001b[0m\u001b[0;34m\u001b[0m\u001b[0;34m\u001b[0m\u001b[0m\n\u001b[1;32m    255\u001b[0m                     \u001b[0mself\u001b[0m\u001b[0;34m.\u001b[0m\u001b[0mkwargs\u001b[0m\u001b[0;34m[\u001b[0m\u001b[0mwidget\u001b[0m\u001b[0;34m.\u001b[0m\u001b[0m_kwarg\u001b[0m\u001b[0;34m]\u001b[0m \u001b[0;34m=\u001b[0m \u001b[0mvalue\u001b[0m\u001b[0;34m\u001b[0m\u001b[0;34m\u001b[0m\u001b[0m\n\u001b[0;32m--> 256\u001b[0;31m                 \u001b[0mself\u001b[0m\u001b[0;34m.\u001b[0m\u001b[0mresult\u001b[0m \u001b[0;34m=\u001b[0m \u001b[0mself\u001b[0m\u001b[0;34m.\u001b[0m\u001b[0mf\u001b[0m\u001b[0;34m(\u001b[0m\u001b[0;34m**\u001b[0m\u001b[0mself\u001b[0m\u001b[0;34m.\u001b[0m\u001b[0mkwargs\u001b[0m\u001b[0;34m)\u001b[0m\u001b[0;34m\u001b[0m\u001b[0;34m\u001b[0m\u001b[0m\n\u001b[0m\u001b[1;32m    257\u001b[0m                 \u001b[0mshow_inline_matplotlib_plots\u001b[0m\u001b[0;34m(\u001b[0m\u001b[0;34m)\u001b[0m\u001b[0;34m\u001b[0m\u001b[0;34m\u001b[0m\u001b[0m\n\u001b[1;32m    258\u001b[0m                 \u001b[0;32mif\u001b[0m \u001b[0mself\u001b[0m\u001b[0;34m.\u001b[0m\u001b[0mauto_display\u001b[0m \u001b[0;32mand\u001b[0m \u001b[0mself\u001b[0m\u001b[0;34m.\u001b[0m\u001b[0mresult\u001b[0m \u001b[0;32mis\u001b[0m \u001b[0;32mnot\u001b[0m \u001b[0;32mNone\u001b[0m\u001b[0;34m:\u001b[0m\u001b[0;34m\u001b[0m\u001b[0;34m\u001b[0m\u001b[0m\n",
          "\u001b[0;32m<ipython-input-56-9b98857490c3>\u001b[0m in \u001b[0;36mselect_batch\u001b[0;34m(selected_batch)\u001b[0m\n\u001b[1;32m      5\u001b[0m     \u001b[0mstart_idx\u001b[0m \u001b[0;34m=\u001b[0m \u001b[0mselected_batch\u001b[0m\u001b[0;34m*\u001b[0m\u001b[0mbatchsize\u001b[0m\u001b[0;34m\u001b[0m\u001b[0;34m\u001b[0m\u001b[0m\n\u001b[1;32m      6\u001b[0m     \u001b[0mend_idx\u001b[0m \u001b[0;34m=\u001b[0m \u001b[0;34m(\u001b[0m\u001b[0mselected_batch\u001b[0m\u001b[0;34m+\u001b[0m\u001b[0;36m1\u001b[0m\u001b[0;34m)\u001b[0m\u001b[0;34m*\u001b[0m\u001b[0mbatchsize\u001b[0m\u001b[0;34m\u001b[0m\u001b[0;34m\u001b[0m\u001b[0m\n\u001b[0;32m----> 7\u001b[0;31m     \u001b[0mprint\u001b[0m\u001b[0;34m(\u001b[0m\u001b[0;34m'start idx: {}, end idx: {}'\u001b[0m\u001b[0;34m.\u001b[0m\u001b[0mformat\u001b[0m\u001b[0;34m(\u001b[0m\u001b[0mstart_idx\u001b[0m\u001b[0;34m)\u001b[0m\u001b[0;34m)\u001b[0m\u001b[0;34m\u001b[0m\u001b[0;34m\u001b[0m\u001b[0m\n\u001b[0m\u001b[1;32m      8\u001b[0m     \u001b[0mbatch_indexes\u001b[0m \u001b[0;34m=\u001b[0m \u001b[0mindexes\u001b[0m\u001b[0;34m[\u001b[0m\u001b[0mselected_batch\u001b[0m\u001b[0;34m*\u001b[0m\u001b[0mbatchsize\u001b[0m\u001b[0;34m:\u001b[0m \u001b[0;34m(\u001b[0m\u001b[0mselected_batch\u001b[0m\u001b[0;34m+\u001b[0m\u001b[0;36m1\u001b[0m\u001b[0;34m)\u001b[0m\u001b[0;34m*\u001b[0m\u001b[0mbatchsize\u001b[0m\u001b[0;34m]\u001b[0m\u001b[0;34m\u001b[0m\u001b[0;34m\u001b[0m\u001b[0m\n\u001b[1;32m      9\u001b[0m     \u001b[0mprint\u001b[0m\u001b[0;34m(\u001b[0m\u001b[0mbatch_indexes\u001b[0m\u001b[0;34m)\u001b[0m\u001b[0;34m\u001b[0m\u001b[0;34m\u001b[0m\u001b[0m\n",
          "\u001b[0;31mIndexError\u001b[0m: Replacement index 1 out of range for positional args tuple"
         ]
        }
       ]
      }
     },
     "e0c8758b20be48b6a527a4201e45e4c7": {
      "model_module": "@jupyter-widgets/base",
      "model_module_version": "1.2.0",
      "model_name": "LayoutModel",
      "state": {}
     },
     "e1156f793c0748afbadd76dba7150660": {
      "model_module": "@jupyter-widgets/controls",
      "model_module_version": "1.5.0",
      "model_name": "SliderStyleModel",
      "state": {
       "description_width": ""
      }
     },
     "e16d95a8e4a54a27bc940919b705a975": {
      "model_module": "@jupyter-widgets/controls",
      "model_module_version": "1.5.0",
      "model_name": "VBoxModel",
      "state": {
       "_dom_classes": [
        "widget-interact"
       ],
       "children": [
        "IPY_MODEL_abec144f859b4e8baa95e68f25ec2f56",
        "IPY_MODEL_cd70c7e427eb440e8fc9e3ac3189a70b"
       ],
       "layout": "IPY_MODEL_7ecf27c5e6e84beda2f35f622f630064"
      }
     },
     "e197a79b84b04709a0f5e9986e2aca4f": {
      "model_module": "@jupyter-widgets/controls",
      "model_module_version": "1.5.0",
      "model_name": "IntSliderModel",
      "state": {
       "description": "selected_batch",
       "layout": "IPY_MODEL_3ce2a1cdb48d47b79f57b4eb75ec5485",
       "max": 9,
       "style": "IPY_MODEL_be573e7921a44d359362e50d6173acb3",
       "value": 4
      }
     },
     "e1ed55ccac8d46388d4aa03b060fe023": {
      "model_module": "@jupyter-widgets/controls",
      "model_module_version": "1.5.0",
      "model_name": "IntSliderModel",
      "state": {
       "description": "batchsize_",
       "layout": "IPY_MODEL_5c37e387f706491a83acef93c9a54313",
       "max": 20,
       "style": "IPY_MODEL_45b5c4de4a38470694d206d603d37bd7",
       "value": 10
      }
     },
     "e283b32f8b864556b8c2aea3e6ed92a0": {
      "model_module": "@jupyter-widgets/controls",
      "model_module_version": "1.5.0",
      "model_name": "IntSliderModel",
      "state": {
       "description": "selected_batch",
       "layout": "IPY_MODEL_6ffebaa0ba354b19955b972fd5068a95",
       "max": 25,
       "style": "IPY_MODEL_0476184b9de0488882d25d4e4343143c",
       "value": 12
      }
     },
     "e2d8083c7fe64697af66f2fc4c693c1e": {
      "model_module": "@jupyter-widgets/base",
      "model_module_version": "1.2.0",
      "model_name": "LayoutModel",
      "state": {}
     },
     "e33e76ee0ebc49d3b12bfc38ad823457": {
      "model_module": "@jupyter-widgets/controls",
      "model_module_version": "1.5.0",
      "model_name": "VBoxModel",
      "state": {
       "_dom_classes": [
        "widget-interact"
       ],
       "children": [
        "IPY_MODEL_5fa0c0108ca844868a0336f53780d2a1",
        "IPY_MODEL_3d5832ad5b9a46ce8affe4bbb685add5"
       ],
       "layout": "IPY_MODEL_611fb96d10854c6899f27a14a6b8d9fb"
      }
     },
     "e33f6b9788b243b39171d80c8610991f": {
      "model_module": "@jupyter-widgets/controls",
      "model_module_version": "1.5.0",
      "model_name": "IntSliderModel",
      "state": {
       "description": "selected_batch",
       "layout": "IPY_MODEL_dcb877c5c33541f0969aea63c225747c",
       "max": 25,
       "style": "IPY_MODEL_e76b65c568b541c7bad7a13e8a5a9452",
       "value": 12
      }
     },
     "e3f469b34e034656aee530f1ed1894d1": {
      "model_module": "@jupyter-widgets/base",
      "model_module_version": "1.2.0",
      "model_name": "LayoutModel",
      "state": {}
     },
     "e421364a21874addb0552de251d0a792": {
      "model_module": "@jupyter-widgets/base",
      "model_module_version": "1.2.0",
      "model_name": "LayoutModel",
      "state": {}
     },
     "e425d6d601f94153a05645f210550711": {
      "model_module": "@jupyter-widgets/output",
      "model_module_version": "1.0.0",
      "model_name": "OutputModel",
      "state": {
       "layout": "IPY_MODEL_8e4211c3bac14a6582258bb9152407c6",
       "outputs": [
        {
         "name": "stdout",
         "output_type": "stream",
         "text": "selected batch: 4 of 11 with a batchsize of 4 and total 50 examples\nstart idx: 16, end idx: 20\n[16, 17, 18, 19]\n"
        },
        {
         "data": {
          "text/plain": "[[[16.626205987891534,\n   16.58558214771587,\n   16.11280413103024,\n   16.52976500659063],\n  [17.472049228597584,\n   17.8334800392627,\n   17.94012951533256,\n   17.356870679832006],\n  [18.890965356882308,\n   18.649596696468443,\n   18.722485779869846,\n   18.955593173859505],\n  [19.151580501440012,\n   19.147458689107232,\n   19.4916790468158,\n   19.887004009902462]],\n [[1.6, 2.6, 3.6, 4.6],\n  [1.7, 2.7, 3.7, 4.7],\n  [1.8, 2.8, 3.8, 4.8],\n  [1.9, 2.9, 3.9, 4.9]]]"
         },
         "metadata": {},
         "output_type": "display_data"
        }
       ]
      }
     },
     "e4376cda2e68454fbc3b2738a2c7a2e8": {
      "model_module": "@jupyter-widgets/output",
      "model_module_version": "1.0.0",
      "model_name": "OutputModel",
      "state": {
       "layout": "IPY_MODEL_caebd6c5c4b444b6ae0917ce9143835f",
       "outputs": [
        {
         "name": "stdout",
         "output_type": "stream",
         "text": "[0, 1, 2, 3, 4, 5, 6, 7, 8, 9]\n"
        },
        {
         "data": {
          "text/plain": "[[[0, 1, 2, 3, 4, 5, 6, 7, 8, 9],\n  [1, 2, 3, 4, 5, 6, 7, 8, 9, 10],\n  [2, 3, 4, 5, 6, 7, 8, 9, 10, 11],\n  [3, 4, 5, 6, 7, 8, 9, 10, 11, 12],\n  [4, 5, 6, 7, 8, 9, 10, 11, 12, 13],\n  [5, 6, 7, 8, 9, 10, 11, 12, 13, 14],\n  [6, 7, 8, 9, 10, 11, 12, 13, 14, 15],\n  [7, 8, 9, 10, 11, 12, 13, 14, 15, 16],\n  [8, 9, 10, 11, 12, 13, 14, 15, 16, 17],\n  [9, 10, 11, 12, 13, 14, 15, 16, 17, 18]],\n [[0, 1, 2, 3, 4, 5, 6, 7, 8, 9],\n  [2, 3, 4, 5, 6, 7, 8, 9, 10, 11],\n  [4, 5, 6, 7, 8, 9, 10, 11, 12, 13],\n  [6, 7, 8, 9, 10, 11, 12, 13, 14, 15],\n  [8, 9, 10, 11, 12, 13, 14, 15, 16, 17],\n  [10, 11, 12, 13, 14, 15, 16, 17, 18, 19],\n  [12, 13, 14, 15, 16, 17, 18, 19, 20, 21],\n  [14, 15, 16, 17, 18, 19, 20, 21, 22, 23],\n  [16, 17, 18, 19, 20, 21, 22, 23, 24, 25],\n  [18, 19, 20, 21, 22, 23, 24, 25, 26, 27]]]"
         },
         "metadata": {},
         "output_type": "display_data"
        }
       ]
      }
     },
     "e4565a3986984c95aace0a96179c2b05": {
      "model_module": "@jupyter-widgets/base",
      "model_module_version": "1.2.0",
      "model_name": "LayoutModel",
      "state": {}
     },
     "e4aff49b063e44939d238f82adb51d12": {
      "model_module": "@jupyter-widgets/controls",
      "model_module_version": "1.5.0",
      "model_name": "IntSliderModel",
      "state": {
       "description": "selected_batch",
       "layout": "IPY_MODEL_8f5a051dd0444a0ba22d2b7dba3b4a44",
       "max": 24,
       "style": "IPY_MODEL_d8edc63b973342e0b7922b9438836a0f",
       "value": 12
      }
     },
     "e4e6922c0b474d83b46845a63c0734f3": {
      "model_module": "@jupyter-widgets/base",
      "model_module_version": "1.2.0",
      "model_name": "LayoutModel",
      "state": {}
     },
     "e528a2281def4314811aa3484ce8416d": {
      "model_module": "@jupyter-widgets/controls",
      "model_module_version": "1.5.0",
      "model_name": "SliderStyleModel",
      "state": {
       "description_width": ""
      }
     },
     "e5432696849f4e13ad3793cffe4a5e9b": {
      "model_module": "@jupyter-widgets/controls",
      "model_module_version": "1.5.0",
      "model_name": "SliderStyleModel",
      "state": {
       "description_width": ""
      }
     },
     "e5954b44dca049e3a52b432b5d12f6cd": {
      "model_module": "@jupyter-widgets/base",
      "model_module_version": "1.2.0",
      "model_name": "LayoutModel",
      "state": {}
     },
     "e5af610f95e14e939140067349f9f350": {
      "model_module": "@jupyter-widgets/base",
      "model_module_version": "1.2.0",
      "model_name": "LayoutModel",
      "state": {}
     },
     "e5d33ac8e5e84bfda4a2d99a9fbec859": {
      "model_module": "@jupyter-widgets/base",
      "model_module_version": "1.2.0",
      "model_name": "LayoutModel",
      "state": {}
     },
     "e68313bab967459e8acdfa0b6e100716": {
      "model_module": "@jupyter-widgets/base",
      "model_module_version": "1.2.0",
      "model_name": "LayoutModel",
      "state": {}
     },
     "e6c1922b30054e908849a9f2a5beca9b": {
      "model_module": "@jupyter-widgets/base",
      "model_module_version": "1.2.0",
      "model_name": "LayoutModel",
      "state": {}
     },
     "e6d2c6483c4e4ac5abfb6bc7709b3047": {
      "model_module": "@jupyter-widgets/output",
      "model_module_version": "1.0.0",
      "model_name": "OutputModel",
      "state": {
       "layout": "IPY_MODEL_8a5e0548b6054a7296357610cf86d1b4",
       "outputs": [
        {
         "name": "stdout",
         "output_type": "stream",
         "text": "selected batch: 2 of 4 with a batchsize of 10 and total 50 examples\nstart idx: 20, end idx: 30\n[20, 21, 22, 23, 24, 25, 26, 27, 28, 29]\n[[[20.106337846973446, 20.690601445454547, 20.701552255851162, 20.283083439779475], [21.36357821260198, 21.714900545893254, 21.525405468475604, 21.46720850774656], [22.875548024260862, 22.95870352647778, 22.694070748259502, 22.92601802853852], [23.016814423586528, 23.233081356313274, 23.66044250286006, 23.560764207939275], [24.32629784850474, 24.30717118367535, 24.607809550087108, 24.544292436696885], [25.1604600974557, 25.762915897807023, 25.004500471542613, 25.618206442408965], [26.747910816305556, 26.089421545627467, 26.389444785181283, 26.992413386139145], [27.589139762395217, 27.810933494223583, 27.853766566713094, 27.35341696146566], [28.966687704629475, 28.955455874278815, 28.23883602494187, 28.04305937466369], [29.547497465597786, 29.22331450623472, 29.129152282026077, 29.624252300107127]], [[2.0, 3.0, 4.0, 5.0], [2.1, 3.1, 4.1, 5.1], [2.2, 3.2, 4.2, 5.2], [2.3, 3.3, 4.3, 5.3], [2.4, 3.4, 4.4, 5.4], [2.5, 3.5, 4.5, 5.5], [2.6, 3.6, 4.6, 5.6], [2.7, 3.7, 4.7, 5.7], [2.8, 3.8, 4.8, 5.8], [2.9, 3.9, 4.9, 5.9]]]\n"
        }
       ]
      }
     },
     "e6e1ae675b13455caa6cba5dd5cdf8e7": {
      "model_module": "@jupyter-widgets/controls",
      "model_module_version": "1.5.0",
      "model_name": "VBoxModel",
      "state": {
       "_dom_classes": [
        "widget-interact"
       ],
       "children": [
        "IPY_MODEL_ba5a4ff547814a8a8b80d3daaf9255fd",
        "IPY_MODEL_f85664ca98e247918a42c98e2b3105c0",
        "IPY_MODEL_f20285dddd6340d0b2286d69fa4ae74e",
        "IPY_MODEL_62b18db500114658a2d8927b99243de6"
       ],
       "layout": "IPY_MODEL_680d1fef678043798f46d9895b4e1035"
      }
     },
     "e70c0efc5e4f41b1bab6ce7c02461ca6": {
      "model_module": "@jupyter-widgets/controls",
      "model_module_version": "1.5.0",
      "model_name": "VBoxModel",
      "state": {
       "_dom_classes": [
        "widget-interact"
       ],
       "children": [
        "IPY_MODEL_79900beb72ba4feea53f818e480819fa",
        "IPY_MODEL_90f8ed90fe224361b2676d9dfea25914",
        "IPY_MODEL_a788f2adf5ae48a987bed10d3eab7b14"
       ],
       "layout": "IPY_MODEL_cf58118eb1874ad2ad43dfd5b8c64c1c"
      }
     },
     "e76b65c568b541c7bad7a13e8a5a9452": {
      "model_module": "@jupyter-widgets/controls",
      "model_module_version": "1.5.0",
      "model_name": "SliderStyleModel",
      "state": {
       "description_width": ""
      }
     },
     "e77d6be0078b4f0b9796d1c71b491b21": {
      "model_module": "@jupyter-widgets/base",
      "model_module_version": "1.2.0",
      "model_name": "LayoutModel",
      "state": {}
     },
     "e7f5739d1c40469591bf2b343de75356": {
      "model_module": "@jupyter-widgets/controls",
      "model_module_version": "1.5.0",
      "model_name": "SliderStyleModel",
      "state": {
       "description_width": ""
      }
     },
     "e84d9fe1714b4ae78b2670e004c4c928": {
      "model_module": "@jupyter-widgets/controls",
      "model_module_version": "1.5.0",
      "model_name": "SliderStyleModel",
      "state": {
       "description_width": ""
      }
     },
     "e8920e38365746a3b47237ea43da7d15": {
      "model_module": "@jupyter-widgets/controls",
      "model_module_version": "1.5.0",
      "model_name": "CheckboxModel",
      "state": {
       "description": "shuffle_indexes",
       "disabled": false,
       "layout": "IPY_MODEL_af539cc7375a480e9468e15ff739feec",
       "style": "IPY_MODEL_74ab94a223944189962f9ec0cef60fac",
       "value": false
      }
     },
     "e8acce1785764ef2b89b35d809c6a6fa": {
      "model_module": "@jupyter-widgets/controls",
      "model_module_version": "1.5.0",
      "model_name": "VBoxModel",
      "state": {
       "_dom_classes": [
        "widget-interact"
       ],
       "children": [
        "IPY_MODEL_f4bfdab8a4774b8896ee30445c347ef1",
        "IPY_MODEL_064c7f23451745b6b3667deb936f6a38",
        "IPY_MODEL_d5b9003d72c74dc18dbe24f160064416",
        "IPY_MODEL_4407f6bf95e944bd860a03fce042fba1"
       ],
       "layout": "IPY_MODEL_e9de8e1177ce400cb89d2d91135ddd20"
      }
     },
     "e92304b4981244fd91c5495d3d30205c": {
      "model_module": "@jupyter-widgets/controls",
      "model_module_version": "1.5.0",
      "model_name": "SliderStyleModel",
      "state": {
       "description_width": ""
      }
     },
     "e96ce13ca18748bfb7b423dce0c59693": {
      "model_module": "@jupyter-widgets/base",
      "model_module_version": "1.2.0",
      "model_name": "LayoutModel",
      "state": {}
     },
     "e96ee468a8f44f6e9a3c036bf6def364": {
      "model_module": "@jupyter-widgets/output",
      "model_module_version": "1.0.0",
      "model_name": "OutputModel",
      "state": {
       "layout": "IPY_MODEL_9185c1b640714bf6b1f42b4742c54e6d",
       "outputs": [
        {
         "ename": "TypeError",
         "evalue": "unsupported operand type(s) for +: 'function' and 'int'",
         "output_type": "error",
         "traceback": [
          "\u001b[0;31m---------------------------------------------------------------------------\u001b[0m",
          "\u001b[0;31mTypeError\u001b[0m                                 Traceback (most recent call last)",
          "\u001b[0;32m~/anaconda3/envs/dcmr/lib/python3.8/site-packages/ipywidgets/widgets/interaction.py\u001b[0m in \u001b[0;36mupdate\u001b[0;34m(self, *args)\u001b[0m\n\u001b[1;32m    254\u001b[0m                     \u001b[0mvalue\u001b[0m \u001b[0;34m=\u001b[0m \u001b[0mwidget\u001b[0m\u001b[0;34m.\u001b[0m\u001b[0mget_interact_value\u001b[0m\u001b[0;34m(\u001b[0m\u001b[0;34m)\u001b[0m\u001b[0;34m\u001b[0m\u001b[0;34m\u001b[0m\u001b[0m\n\u001b[1;32m    255\u001b[0m                     \u001b[0mself\u001b[0m\u001b[0;34m.\u001b[0m\u001b[0mkwargs\u001b[0m\u001b[0;34m[\u001b[0m\u001b[0mwidget\u001b[0m\u001b[0;34m.\u001b[0m\u001b[0m_kwarg\u001b[0m\u001b[0;34m]\u001b[0m \u001b[0;34m=\u001b[0m \u001b[0mvalue\u001b[0m\u001b[0;34m\u001b[0m\u001b[0;34m\u001b[0m\u001b[0m\n\u001b[0;32m--> 256\u001b[0;31m                 \u001b[0mself\u001b[0m\u001b[0;34m.\u001b[0m\u001b[0mresult\u001b[0m \u001b[0;34m=\u001b[0m \u001b[0mself\u001b[0m\u001b[0;34m.\u001b[0m\u001b[0mf\u001b[0m\u001b[0;34m(\u001b[0m\u001b[0;34m**\u001b[0m\u001b[0mself\u001b[0m\u001b[0;34m.\u001b[0m\u001b[0mkwargs\u001b[0m\u001b[0;34m)\u001b[0m\u001b[0;34m\u001b[0m\u001b[0;34m\u001b[0m\u001b[0m\n\u001b[0m\u001b[1;32m    257\u001b[0m                 \u001b[0mshow_inline_matplotlib_plots\u001b[0m\u001b[0;34m(\u001b[0m\u001b[0;34m)\u001b[0m\u001b[0;34m\u001b[0m\u001b[0;34m\u001b[0m\u001b[0m\n\u001b[1;32m    258\u001b[0m                 \u001b[0;32mif\u001b[0m \u001b[0mself\u001b[0m\u001b[0;34m.\u001b[0m\u001b[0mauto_display\u001b[0m \u001b[0;32mand\u001b[0m \u001b[0mself\u001b[0m\u001b[0;34m.\u001b[0m\u001b[0mresult\u001b[0m \u001b[0;32mis\u001b[0m \u001b[0;32mnot\u001b[0m \u001b[0;32mNone\u001b[0m\u001b[0;34m:\u001b[0m\u001b[0;34m\u001b[0m\u001b[0;34m\u001b[0m\u001b[0m\n",
          "\u001b[0;32m<ipython-input-52-a97d1caff56c>\u001b[0m in \u001b[0;36mselect_batch\u001b[0;34m(selected_batch)\u001b[0m\n\u001b[1;32m      2\u001b[0m \u001b[0;34m@\u001b[0m\u001b[0minteract\u001b[0m\u001b[0;34m\u001b[0m\u001b[0;34m\u001b[0m\u001b[0m\n\u001b[1;32m      3\u001b[0m \u001b[0;32mdef\u001b[0m \u001b[0mselect_batch\u001b[0m\u001b[0;34m(\u001b[0m\u001b[0mselected_batch\u001b[0m \u001b[0;34m=\u001b[0m \u001b[0;34m(\u001b[0m\u001b[0;36m0\u001b[0m\u001b[0;34m,\u001b[0m\u001b[0mint\u001b[0m\u001b[0;34m(\u001b[0m\u001b[0mnp\u001b[0m\u001b[0;34m.\u001b[0m\u001b[0mfloor\u001b[0m\u001b[0;34m(\u001b[0m\u001b[0mexamples\u001b[0m\u001b[0;34m/\u001b[0m\u001b[0mbatchsize\u001b[0m\u001b[0;34m)\u001b[0m\u001b[0;34m)\u001b[0m\u001b[0;34m)\u001b[0m\u001b[0;34m)\u001b[0m\u001b[0;34m:\u001b[0m\u001b[0;34m\u001b[0m\u001b[0;34m\u001b[0m\u001b[0m\n\u001b[0;32m----> 4\u001b[0;31m     \u001b[0mbatch_indexes\u001b[0m \u001b[0;34m=\u001b[0m \u001b[0mindexes\u001b[0m\u001b[0;34m[\u001b[0m\u001b[0mselected_batch\u001b[0m\u001b[0;34m*\u001b[0m\u001b[0mbatchsize\u001b[0m\u001b[0;34m:\u001b[0m \u001b[0;34m(\u001b[0m\u001b[0mselect_batch\u001b[0m\u001b[0;34m+\u001b[0m\u001b[0;36m1\u001b[0m\u001b[0;34m)\u001b[0m\u001b[0;34m+\u001b[0m\u001b[0mbatchsize\u001b[0m\u001b[0;34m]\u001b[0m\u001b[0;34m\u001b[0m\u001b[0;34m\u001b[0m\u001b[0m\n\u001b[0m\u001b[1;32m      5\u001b[0m     \u001b[0mprint\u001b[0m\u001b[0;34m(\u001b[0m\u001b[0mbatch_indexes\u001b[0m\u001b[0;34m)\u001b[0m\u001b[0;34m\u001b[0m\u001b[0;34m\u001b[0m\u001b[0m\n\u001b[1;32m      6\u001b[0m     \u001b[0mbatch_x\u001b[0m \u001b[0;34m=\u001b[0m \u001b[0;34m[\u001b[0m\u001b[0mX\u001b[0m\u001b[0;34m[\u001b[0m\u001b[0mk\u001b[0m\u001b[0;34m]\u001b[0m \u001b[0;32mfor\u001b[0m \u001b[0mk\u001b[0m \u001b[0;32min\u001b[0m \u001b[0mbatch_indexes\u001b[0m\u001b[0;34m]\u001b[0m\u001b[0;34m\u001b[0m\u001b[0;34m\u001b[0m\u001b[0m\n",
          "\u001b[0;31mTypeError\u001b[0m: unsupported operand type(s) for +: 'function' and 'int'"
         ]
        }
       ]
      }
     },
     "e976ee2f1e0d4f1783177e248477860c": {
      "model_module": "@jupyter-widgets/controls",
      "model_module_version": "1.5.0",
      "model_name": "SliderStyleModel",
      "state": {
       "description_width": ""
      }
     },
     "e9d2c8e5a9ac45a0a017b52641320672": {
      "model_module": "@jupyter-widgets/base",
      "model_module_version": "1.2.0",
      "model_name": "LayoutModel",
      "state": {}
     },
     "e9de8e1177ce400cb89d2d91135ddd20": {
      "model_module": "@jupyter-widgets/base",
      "model_module_version": "1.2.0",
      "model_name": "LayoutModel",
      "state": {}
     },
     "ea4e95f43c0640b0bed581241f8b7ac7": {
      "model_module": "@jupyter-widgets/controls",
      "model_module_version": "1.5.0",
      "model_name": "SliderStyleModel",
      "state": {
       "description_width": ""
      }
     },
     "ea82f56a3f3142bfb3d26c267addd750": {
      "model_module": "@jupyter-widgets/output",
      "model_module_version": "1.0.0",
      "model_name": "OutputModel",
      "state": {
       "layout": "IPY_MODEL_c73f7ff0708e40e095eff18b5ee799d4",
       "outputs": [
        {
         "ename": "TypeError",
         "evalue": "unsupported operand type(s) for -: 'tuple' and 'int'",
         "output_type": "error",
         "traceback": [
          "\u001b[0;31m---------------------------------------------------------------------------\u001b[0m",
          "\u001b[0;31mTypeError\u001b[0m                                 Traceback (most recent call last)",
          "\u001b[0;32m~/anaconda3/envs/dcmr/lib/python3.8/site-packages/ipywidgets/widgets/interaction.py\u001b[0m in \u001b[0;36mupdate\u001b[0;34m(self, *args)\u001b[0m\n\u001b[1;32m    254\u001b[0m                     \u001b[0mvalue\u001b[0m \u001b[0;34m=\u001b[0m \u001b[0mwidget\u001b[0m\u001b[0;34m.\u001b[0m\u001b[0mget_interact_value\u001b[0m\u001b[0;34m(\u001b[0m\u001b[0;34m)\u001b[0m\u001b[0;34m\u001b[0m\u001b[0;34m\u001b[0m\u001b[0m\n\u001b[1;32m    255\u001b[0m                     \u001b[0mself\u001b[0m\u001b[0;34m.\u001b[0m\u001b[0mkwargs\u001b[0m\u001b[0;34m[\u001b[0m\u001b[0mwidget\u001b[0m\u001b[0;34m.\u001b[0m\u001b[0m_kwarg\u001b[0m\u001b[0;34m]\u001b[0m \u001b[0;34m=\u001b[0m \u001b[0mvalue\u001b[0m\u001b[0;34m\u001b[0m\u001b[0;34m\u001b[0m\u001b[0m\n\u001b[0;32m--> 256\u001b[0;31m                 \u001b[0mself\u001b[0m\u001b[0;34m.\u001b[0m\u001b[0mresult\u001b[0m \u001b[0;34m=\u001b[0m \u001b[0mself\u001b[0m\u001b[0;34m.\u001b[0m\u001b[0mf\u001b[0m\u001b[0;34m(\u001b[0m\u001b[0;34m**\u001b[0m\u001b[0mself\u001b[0m\u001b[0;34m.\u001b[0m\u001b[0mkwargs\u001b[0m\u001b[0;34m)\u001b[0m\u001b[0;34m\u001b[0m\u001b[0;34m\u001b[0m\u001b[0m\n\u001b[0m\u001b[1;32m    257\u001b[0m                 \u001b[0mshow_inline_matplotlib_plots\u001b[0m\u001b[0;34m(\u001b[0m\u001b[0;34m)\u001b[0m\u001b[0;34m\u001b[0m\u001b[0;34m\u001b[0m\u001b[0m\n\u001b[1;32m    258\u001b[0m                 \u001b[0;32mif\u001b[0m \u001b[0mself\u001b[0m\u001b[0;34m.\u001b[0m\u001b[0mauto_display\u001b[0m \u001b[0;32mand\u001b[0m \u001b[0mself\u001b[0m\u001b[0;34m.\u001b[0m\u001b[0mresult\u001b[0m \u001b[0;32mis\u001b[0m \u001b[0;32mnot\u001b[0m \u001b[0;32mNone\u001b[0m\u001b[0;34m:\u001b[0m\u001b[0;34m\u001b[0m\u001b[0;34m\u001b[0m\u001b[0m\n",
          "\u001b[0;32m<ipython-input-70-8755377d5f8b>\u001b[0m in \u001b[0;36mselect_batch\u001b[0;34m(selected_batch)\u001b[0m\n\u001b[1;32m      2\u001b[0m \u001b[0;34m@\u001b[0m\u001b[0minteract\u001b[0m\u001b[0;34m\u001b[0m\u001b[0;34m\u001b[0m\u001b[0m\n\u001b[1;32m      3\u001b[0m \u001b[0;32mdef\u001b[0m \u001b[0mselect_batch\u001b[0m\u001b[0;34m(\u001b[0m\u001b[0mselected_batch\u001b[0m \u001b[0;34m=\u001b[0m \u001b[0;34m(\u001b[0m\u001b[0;36m0\u001b[0m\u001b[0;34m,\u001b[0m\u001b[0mint\u001b[0m\u001b[0;34m(\u001b[0m\u001b[0mnp\u001b[0m\u001b[0;34m.\u001b[0m\u001b[0mfloor\u001b[0m\u001b[0;34m(\u001b[0m\u001b[0mexamples\u001b[0m\u001b[0;34m/\u001b[0m\u001b[0mbatchsize\u001b[0m\u001b[0;34m)\u001b[0m\u001b[0;34m)\u001b[0m\u001b[0;34m-\u001b[0m\u001b[0;36m1\u001b[0m\u001b[0;34m)\u001b[0m\u001b[0;34m)\u001b[0m\u001b[0;34m:\u001b[0m\u001b[0;34m\u001b[0m\u001b[0;34m\u001b[0m\u001b[0m\n\u001b[0;32m----> 4\u001b[0;31m     \u001b[0mprint\u001b[0m\u001b[0;34m(\u001b[0m\u001b[0;34m'selected batch: {} of {} with a batchsize of {} and total {} examples'\u001b[0m\u001b[0;34m.\u001b[0m\u001b[0mformat\u001b[0m\u001b[0;34m(\u001b[0m\u001b[0mselected_batch\u001b[0m\u001b[0;34m,\u001b[0m \u001b[0;34m(\u001b[0m\u001b[0mexamples\u001b[0m\u001b[0;34m/\u001b[0m\u001b[0mbatchsize\u001b[0m\u001b[0;34m,\u001b[0m\u001b[0mbatchsize\u001b[0m\u001b[0;34m)\u001b[0m\u001b[0;34m-\u001b[0m\u001b[0;36m1\u001b[0m\u001b[0;34m,\u001b[0m \u001b[0mexamples\u001b[0m\u001b[0;34m)\u001b[0m\u001b[0;34m)\u001b[0m\u001b[0;34m\u001b[0m\u001b[0;34m\u001b[0m\u001b[0m\n\u001b[0m\u001b[1;32m      5\u001b[0m     \u001b[0mstart_idx\u001b[0m \u001b[0;34m=\u001b[0m \u001b[0mselected_batch\u001b[0m\u001b[0;34m*\u001b[0m\u001b[0mbatchsize\u001b[0m\u001b[0;34m\u001b[0m\u001b[0;34m\u001b[0m\u001b[0m\n\u001b[1;32m      6\u001b[0m     \u001b[0mend_idx\u001b[0m \u001b[0;34m=\u001b[0m \u001b[0;34m(\u001b[0m\u001b[0mselected_batch\u001b[0m\u001b[0;34m+\u001b[0m\u001b[0;36m1\u001b[0m\u001b[0;34m)\u001b[0m\u001b[0;34m*\u001b[0m\u001b[0mbatchsize\u001b[0m\u001b[0;34m\u001b[0m\u001b[0;34m\u001b[0m\u001b[0m\n",
          "\u001b[0;31mTypeError\u001b[0m: unsupported operand type(s) for -: 'tuple' and 'int'"
         ]
        }
       ]
      }
     },
     "eadc75ffeb514d24a98a4600aca654c3": {
      "model_module": "@jupyter-widgets/base",
      "model_module_version": "1.2.0",
      "model_name": "LayoutModel",
      "state": {}
     },
     "eae19952e493491aaa7aef54e603ab7c": {
      "model_module": "@jupyter-widgets/controls",
      "model_module_version": "1.5.0",
      "model_name": "SliderStyleModel",
      "state": {
       "description_width": ""
      }
     },
     "eb1a4f6ada4c4f7e98d784797e081370": {
      "model_module": "@jupyter-widgets/base",
      "model_module_version": "1.2.0",
      "model_name": "LayoutModel",
      "state": {}
     },
     "eb25f8b17fb14fc9a820fd48ebed0939": {
      "model_module": "@jupyter-widgets/base",
      "model_module_version": "1.2.0",
      "model_name": "LayoutModel",
      "state": {}
     },
     "eb4e4e96fc754af585f756321165eda1": {
      "model_module": "@jupyter-widgets/output",
      "model_module_version": "1.0.0",
      "model_name": "OutputModel",
      "state": {
       "layout": "IPY_MODEL_e0c8758b20be48b6a527a4201e45e4c7"
      }
     },
     "eba034e4f7e74bf482445d2a19f8ce05": {
      "model_module": "@jupyter-widgets/controls",
      "model_module_version": "1.5.0",
      "model_name": "VBoxModel",
      "state": {
       "_dom_classes": [
        "widget-interact"
       ],
       "children": [
        "IPY_MODEL_495e8b294fb44c40bdd3c107f2b37540",
        "IPY_MODEL_5325118e4ad1411eac01991b9edfb206"
       ],
       "layout": "IPY_MODEL_df75ee37d8eb4217ad0a76f84eafa162"
      }
     },
     "eba130a3016e44cfaa4c484ad8b37e14": {
      "model_module": "@jupyter-widgets/controls",
      "model_module_version": "1.5.0",
      "model_name": "VBoxModel",
      "state": {
       "_dom_classes": [
        "widget-interact"
       ],
       "children": [
        "IPY_MODEL_c488be2058454e2f8d53c214fedda4a9",
        "IPY_MODEL_74f1dd1d6544460f88918410331d1380",
        "IPY_MODEL_12c7b278f4ab47e0a2aeb902546ab3c8"
       ],
       "layout": "IPY_MODEL_d86979dab3d143ea9206cc8746d337cb"
      }
     },
     "eca40e09cc8b439aa065726c9d6169c5": {
      "model_module": "@jupyter-widgets/controls",
      "model_module_version": "1.5.0",
      "model_name": "VBoxModel",
      "state": {
       "_dom_classes": [
        "widget-interact"
       ],
       "children": [
        "IPY_MODEL_cf94ce2c5b9646d8b010f74a0438b681",
        "IPY_MODEL_9d0822fd88614bce8ea6787cd47401dd"
       ],
       "layout": "IPY_MODEL_86d54b78ec5a46629f0ae599bf96cc0e"
      }
     },
     "ecd9c2f0b01248c885ebc636a4ad4d75": {
      "model_module": "@jupyter-widgets/base",
      "model_module_version": "1.2.0",
      "model_name": "LayoutModel",
      "state": {}
     },
     "ed33f92724d9473b94ecc27b9070090d": {
      "model_module": "@jupyter-widgets/controls",
      "model_module_version": "1.5.0",
      "model_name": "SliderStyleModel",
      "state": {
       "description_width": ""
      }
     },
     "ed65accd25ac4ffebb47ec25e86b2339": {
      "model_module": "@jupyter-widgets/output",
      "model_module_version": "1.0.0",
      "model_name": "OutputModel",
      "state": {
       "layout": "IPY_MODEL_1ac04e1c6aba40ebbdfaf6d80cfa3d93"
      }
     },
     "eda8546d273440e2a27c0f4a435a06c5": {
      "model_module": "@jupyter-widgets/controls",
      "model_module_version": "1.5.0",
      "model_name": "VBoxModel",
      "state": {
       "_dom_classes": [
        "widget-interact"
       ],
       "children": [
        "IPY_MODEL_16db3ec72a364132b90705411754c782",
        "IPY_MODEL_69d297ba55d84706b2c524df32ce5c12"
       ],
       "layout": "IPY_MODEL_be17bcbaa7aa46c383bbff0dc19aa497"
      }
     },
     "edb84e6787334b58b504d1555b50a654": {
      "model_module": "@jupyter-widgets/controls",
      "model_module_version": "1.5.0",
      "model_name": "VBoxModel",
      "state": {
       "_dom_classes": [
        "widget-interact"
       ],
       "children": [
        "IPY_MODEL_796418d9ef724becbced460622f87fce",
        "IPY_MODEL_a934b9978ca144eaba1324e5b091854a"
       ],
       "layout": "IPY_MODEL_e68313bab967459e8acdfa0b6e100716"
      }
     },
     "eef122410e9c42df93e22dd69d20b47e": {
      "model_module": "@jupyter-widgets/controls",
      "model_module_version": "1.5.0",
      "model_name": "SliderStyleModel",
      "state": {
       "description_width": ""
      }
     },
     "f0e23815165341a781c718962142be4c": {
      "model_module": "@jupyter-widgets/base",
      "model_module_version": "1.2.0",
      "model_name": "LayoutModel",
      "state": {}
     },
     "f0e8062ce30f4cedaf13b241c62cce43": {
      "model_module": "@jupyter-widgets/controls",
      "model_module_version": "1.5.0",
      "model_name": "IntSliderModel",
      "state": {
       "description": "examples_",
       "layout": "IPY_MODEL_6b2e2fdb83fd44aa8803d48fdc387052",
       "style": "IPY_MODEL_a171f488b34f4f0eb9c353c1e29cb7f6",
       "value": 100
      }
     },
     "f12550ed321141cfa07d3904d02c2598": {
      "model_module": "@jupyter-widgets/base",
      "model_module_version": "1.2.0",
      "model_name": "LayoutModel",
      "state": {}
     },
     "f126a56c04734ae0abe63517a0e0d198": {
      "model_module": "@jupyter-widgets/controls",
      "model_module_version": "1.5.0",
      "model_name": "SliderStyleModel",
      "state": {
       "description_width": ""
      }
     },
     "f1cf24c11497406e82fd389bfa012170": {
      "model_module": "@jupyter-widgets/controls",
      "model_module_version": "1.5.0",
      "model_name": "SliderStyleModel",
      "state": {
       "description_width": ""
      }
     },
     "f20285dddd6340d0b2286d69fa4ae74e": {
      "model_module": "@jupyter-widgets/controls",
      "model_module_version": "1.5.0",
      "model_name": "IntSliderModel",
      "state": {
       "description": "batchsize_",
       "layout": "IPY_MODEL_9469747c490747ec8aa382662d99212b",
       "max": 20,
       "min": 1,
       "style": "IPY_MODEL_b2d010cd42d84ded9942362e08cd415c",
       "value": 4
      }
     },
     "f213e30179624e938bec5446a8498595": {
      "model_module": "@jupyter-widgets/controls",
      "model_module_version": "1.5.0",
      "model_name": "IntSliderModel",
      "state": {
       "description": "batchsize_",
       "layout": "IPY_MODEL_7b34df91774a4461a0feb787db595a91",
       "style": "IPY_MODEL_e5432696849f4e13ad3793cffe4a5e9b",
       "value": 10
      }
     },
     "f2a335b71acc4a6eb880e479a87d5d30": {
      "model_module": "@jupyter-widgets/base",
      "model_module_version": "1.2.0",
      "model_name": "LayoutModel",
      "state": {}
     },
     "f3145cb3d9d54698b10db70fff78bd55": {
      "model_module": "@jupyter-widgets/controls",
      "model_module_version": "1.5.0",
      "model_name": "SliderStyleModel",
      "state": {
       "description_width": ""
      }
     },
     "f37dd56d53744dc28994112b0bfc945a": {
      "model_module": "@jupyter-widgets/controls",
      "model_module_version": "1.5.0",
      "model_name": "VBoxModel",
      "state": {
       "_dom_classes": [
        "widget-interact"
       ],
       "children": [
        "IPY_MODEL_3514e66839374639867f525151419fcf",
        "IPY_MODEL_cb2aa0460b094656b7c9765a1e7ab0a9"
       ],
       "layout": "IPY_MODEL_fbfc22cdfe20485e9a9ffae53c1424bf"
      }
     },
     "f3d5e86c0dea4b2980a83550ea1d4416": {
      "model_module": "@jupyter-widgets/base",
      "model_module_version": "1.2.0",
      "model_name": "LayoutModel",
      "state": {}
     },
     "f3ff8c94f59d4403aad239c357afb380": {
      "model_module": "@jupyter-widgets/controls",
      "model_module_version": "1.5.0",
      "model_name": "IntSliderModel",
      "state": {
       "description": "selected_batch",
       "layout": "IPY_MODEL_44b2664fcd9948c2b50639a6d2eca5e9",
       "max": 1,
       "style": "IPY_MODEL_2d3bfdb46e4e431d8e86d43a4ef68edb"
      }
     },
     "f41259a42510499ba70d82ec1d6b931a": {
      "model_module": "@jupyter-widgets/base",
      "model_module_version": "1.2.0",
      "model_name": "LayoutModel",
      "state": {}
     },
     "f4490182671c46e79a3d15da92e3091a": {
      "model_module": "@jupyter-widgets/output",
      "model_module_version": "1.0.0",
      "model_name": "OutputModel",
      "state": {
       "layout": "IPY_MODEL_48d12f332d8b4d719cff38f69a21396b",
       "outputs": [
        {
         "name": "stdout",
         "output_type": "stream",
         "text": "len indexes: 10, number of examples: 100\n"
        },
        {
         "ename": "AssertionError",
         "evalue": "None",
         "output_type": "error",
         "traceback": [
          "\u001b[0;31m---------------------------------------------------------------------------\u001b[0m",
          "\u001b[0;31mAssertionError\u001b[0m                            Traceback (most recent call last)",
          "\u001b[0;32m~/anaconda3/envs/dcmr/lib/python3.8/site-packages/ipywidgets/widgets/interaction.py\u001b[0m in \u001b[0;36mupdate\u001b[0;34m(self, *args)\u001b[0m\n\u001b[1;32m    254\u001b[0m                     \u001b[0mvalue\u001b[0m \u001b[0;34m=\u001b[0m \u001b[0mwidget\u001b[0m\u001b[0;34m.\u001b[0m\u001b[0mget_interact_value\u001b[0m\u001b[0;34m(\u001b[0m\u001b[0;34m)\u001b[0m\u001b[0;34m\u001b[0m\u001b[0;34m\u001b[0m\u001b[0m\n\u001b[1;32m    255\u001b[0m                     \u001b[0mself\u001b[0m\u001b[0;34m.\u001b[0m\u001b[0mkwargs\u001b[0m\u001b[0;34m[\u001b[0m\u001b[0mwidget\u001b[0m\u001b[0;34m.\u001b[0m\u001b[0m_kwarg\u001b[0m\u001b[0;34m]\u001b[0m \u001b[0;34m=\u001b[0m \u001b[0mvalue\u001b[0m\u001b[0;34m\u001b[0m\u001b[0;34m\u001b[0m\u001b[0m\n\u001b[0;32m--> 256\u001b[0;31m                 \u001b[0mself\u001b[0m\u001b[0;34m.\u001b[0m\u001b[0mresult\u001b[0m \u001b[0;34m=\u001b[0m \u001b[0mself\u001b[0m\u001b[0;34m.\u001b[0m\u001b[0mf\u001b[0m\u001b[0;34m(\u001b[0m\u001b[0;34m**\u001b[0m\u001b[0mself\u001b[0m\u001b[0;34m.\u001b[0m\u001b[0mkwargs\u001b[0m\u001b[0;34m)\u001b[0m\u001b[0;34m\u001b[0m\u001b[0;34m\u001b[0m\u001b[0m\n\u001b[0m\u001b[1;32m    257\u001b[0m                 \u001b[0mshow_inline_matplotlib_plots\u001b[0m\u001b[0;34m(\u001b[0m\u001b[0;34m)\u001b[0m\u001b[0;34m\u001b[0m\u001b[0;34m\u001b[0m\u001b[0m\n\u001b[1;32m    258\u001b[0m                 \u001b[0;32mif\u001b[0m \u001b[0mself\u001b[0m\u001b[0;34m.\u001b[0m\u001b[0mauto_display\u001b[0m \u001b[0;32mand\u001b[0m \u001b[0mself\u001b[0m\u001b[0;34m.\u001b[0m\u001b[0mresult\u001b[0m \u001b[0;32mis\u001b[0m \u001b[0;32mnot\u001b[0m \u001b[0;32mNone\u001b[0m\u001b[0;34m:\u001b[0m\u001b[0;34m\u001b[0m\u001b[0;34m\u001b[0m\u001b[0m\n",
          "\u001b[0;32m<ipython-input-80-94889fc5be66>\u001b[0m in \u001b[0;36mselect_batch\u001b[0;34m(selected_batch)\u001b[0m\n\u001b[1;32m      2\u001b[0m \u001b[0;34m@\u001b[0m\u001b[0minteract\u001b[0m\u001b[0;34m\u001b[0m\u001b[0;34m\u001b[0m\u001b[0m\n\u001b[1;32m      3\u001b[0m \u001b[0;32mdef\u001b[0m \u001b[0mselect_batch\u001b[0m\u001b[0;34m(\u001b[0m\u001b[0mselected_batch\u001b[0m \u001b[0;34m=\u001b[0m \u001b[0;34m(\u001b[0m\u001b[0;36m0\u001b[0m\u001b[0;34m,\u001b[0m\u001b[0mint\u001b[0m\u001b[0;34m(\u001b[0m\u001b[0mnp\u001b[0m\u001b[0;34m.\u001b[0m\u001b[0mfloor\u001b[0m\u001b[0;34m(\u001b[0m\u001b[0mexamples\u001b[0m\u001b[0;34m/\u001b[0m\u001b[0mbatchsize\u001b[0m\u001b[0;34m)\u001b[0m\u001b[0;34m)\u001b[0m\u001b[0;34m-\u001b[0m\u001b[0;36m1\u001b[0m\u001b[0;34m)\u001b[0m\u001b[0;34m)\u001b[0m\u001b[0;34m:\u001b[0m\u001b[0;34m\u001b[0m\u001b[0;34m\u001b[0m\u001b[0m\n\u001b[0;32m----> 4\u001b[0;31m     \u001b[0;32massert\u001b[0m \u001b[0mlen\u001b[0m\u001b[0;34m(\u001b[0m\u001b[0mindexes\u001b[0m\u001b[0;34m)\u001b[0m \u001b[0;34m==\u001b[0m \u001b[0mexamples\u001b[0m\u001b[0;34m,\u001b[0m \u001b[0mprint\u001b[0m\u001b[0;34m(\u001b[0m\u001b[0;34m'len indexes: {}, number of examples: {}'\u001b[0m\u001b[0;34m.\u001b[0m\u001b[0mformat\u001b[0m\u001b[0;34m(\u001b[0m\u001b[0mlen\u001b[0m\u001b[0;34m(\u001b[0m\u001b[0mindexes\u001b[0m\u001b[0;34m)\u001b[0m\u001b[0;34m,\u001b[0m \u001b[0mexamples\u001b[0m\u001b[0;34m)\u001b[0m\u001b[0;34m)\u001b[0m\u001b[0;34m\u001b[0m\u001b[0;34m\u001b[0m\u001b[0m\n\u001b[0m\u001b[1;32m      5\u001b[0m     \u001b[0mprint\u001b[0m\u001b[0;34m(\u001b[0m\u001b[0;34m'selected batch: {} of {} with a batchsize of {} and total {} examples'\u001b[0m\u001b[0;34m.\u001b[0m\u001b[0mformat\u001b[0m\u001b[0;34m(\u001b[0m\u001b[0mselected_batch\u001b[0m\u001b[0;34m,\u001b[0m \u001b[0;34m(\u001b[0m\u001b[0mexamples\u001b[0m\u001b[0;34m/\u001b[0m\u001b[0mbatchsize\u001b[0m\u001b[0;34m)\u001b[0m\u001b[0;34m-\u001b[0m\u001b[0;36m1\u001b[0m\u001b[0;34m,\u001b[0m \u001b[0mbatchsize\u001b[0m\u001b[0;34m,\u001b[0m \u001b[0mexamples\u001b[0m\u001b[0;34m)\u001b[0m\u001b[0;34m)\u001b[0m\u001b[0;34m\u001b[0m\u001b[0;34m\u001b[0m\u001b[0m\n\u001b[1;32m      6\u001b[0m     \u001b[0mstart_idx\u001b[0m \u001b[0;34m=\u001b[0m \u001b[0mselected_batch\u001b[0m\u001b[0;34m*\u001b[0m\u001b[0mbatchsize\u001b[0m\u001b[0;34m\u001b[0m\u001b[0;34m\u001b[0m\u001b[0m\n",
          "\u001b[0;31mAssertionError\u001b[0m: None"
         ]
        }
       ]
      }
     },
     "f49afdf3383f46c3a77490bd3a96f1f8": {
      "model_module": "@jupyter-widgets/output",
      "model_module_version": "1.0.0",
      "model_name": "OutputModel",
      "state": {
       "layout": "IPY_MODEL_e4e6922c0b474d83b46845a63c0734f3",
       "outputs": [
        {
         "name": "stdout",
         "output_type": "stream",
         "text": "[0, 1, 2, 3, 4, 5, 6, 7, 8, 9]\n"
        },
        {
         "ename": "NameError",
         "evalue": "name 'X' is not defined",
         "output_type": "error",
         "traceback": [
          "\u001b[0;31m---------------------------------------------------------------------------\u001b[0m",
          "\u001b[0;31mNameError\u001b[0m                                 Traceback (most recent call last)",
          "\u001b[0;32m~/anaconda3/envs/dcmr/lib/python3.8/site-packages/ipywidgets/widgets/interaction.py\u001b[0m in \u001b[0;36mupdate\u001b[0;34m(self, *args)\u001b[0m\n\u001b[1;32m    254\u001b[0m                     \u001b[0mvalue\u001b[0m \u001b[0;34m=\u001b[0m \u001b[0mwidget\u001b[0m\u001b[0;34m.\u001b[0m\u001b[0mget_interact_value\u001b[0m\u001b[0;34m(\u001b[0m\u001b[0;34m)\u001b[0m\u001b[0;34m\u001b[0m\u001b[0;34m\u001b[0m\u001b[0m\n\u001b[1;32m    255\u001b[0m                     \u001b[0mself\u001b[0m\u001b[0;34m.\u001b[0m\u001b[0mkwargs\u001b[0m\u001b[0;34m[\u001b[0m\u001b[0mwidget\u001b[0m\u001b[0;34m.\u001b[0m\u001b[0m_kwarg\u001b[0m\u001b[0;34m]\u001b[0m \u001b[0;34m=\u001b[0m \u001b[0mvalue\u001b[0m\u001b[0;34m\u001b[0m\u001b[0;34m\u001b[0m\u001b[0m\n\u001b[0;32m--> 256\u001b[0;31m                 \u001b[0mself\u001b[0m\u001b[0;34m.\u001b[0m\u001b[0mresult\u001b[0m \u001b[0;34m=\u001b[0m \u001b[0mself\u001b[0m\u001b[0;34m.\u001b[0m\u001b[0mf\u001b[0m\u001b[0;34m(\u001b[0m\u001b[0;34m**\u001b[0m\u001b[0mself\u001b[0m\u001b[0;34m.\u001b[0m\u001b[0mkwargs\u001b[0m\u001b[0;34m)\u001b[0m\u001b[0;34m\u001b[0m\u001b[0;34m\u001b[0m\u001b[0m\n\u001b[0m\u001b[1;32m    257\u001b[0m                 \u001b[0mshow_inline_matplotlib_plots\u001b[0m\u001b[0;34m(\u001b[0m\u001b[0;34m)\u001b[0m\u001b[0;34m\u001b[0m\u001b[0;34m\u001b[0m\u001b[0m\n\u001b[1;32m    258\u001b[0m                 \u001b[0;32mif\u001b[0m \u001b[0mself\u001b[0m\u001b[0;34m.\u001b[0m\u001b[0mauto_display\u001b[0m \u001b[0;32mand\u001b[0m \u001b[0mself\u001b[0m\u001b[0;34m.\u001b[0m\u001b[0mresult\u001b[0m \u001b[0;32mis\u001b[0m \u001b[0;32mnot\u001b[0m \u001b[0;32mNone\u001b[0m\u001b[0;34m:\u001b[0m\u001b[0;34m\u001b[0m\u001b[0;34m\u001b[0m\u001b[0m\n",
          "\u001b[0;32m<ipython-input-43-6ba8ce3e855d>\u001b[0m in \u001b[0;36mselect_batch\u001b[0;34m(selected_batch)\u001b[0m\n\u001b[1;32m      4\u001b[0m     \u001b[0mbatch_indexes\u001b[0m \u001b[0;34m=\u001b[0m \u001b[0mindexes\u001b[0m\u001b[0;34m[\u001b[0m\u001b[0mindex\u001b[0m\u001b[0;34m*\u001b[0m\u001b[0mbatchsize\u001b[0m\u001b[0;34m:\u001b[0m \u001b[0;34m(\u001b[0m\u001b[0mindex\u001b[0m\u001b[0;34m+\u001b[0m\u001b[0;36m1\u001b[0m\u001b[0;34m)\u001b[0m\u001b[0;34m*\u001b[0m\u001b[0mbatchsize\u001b[0m\u001b[0;34m]\u001b[0m\u001b[0;34m\u001b[0m\u001b[0;34m\u001b[0m\u001b[0m\n\u001b[1;32m      5\u001b[0m     \u001b[0mprint\u001b[0m\u001b[0;34m(\u001b[0m\u001b[0mbatch_indexes\u001b[0m\u001b[0;34m)\u001b[0m\u001b[0;34m\u001b[0m\u001b[0;34m\u001b[0m\u001b[0m\n\u001b[0;32m----> 6\u001b[0;31m     \u001b[0mbatch_x\u001b[0m \u001b[0;34m=\u001b[0m \u001b[0;34m[\u001b[0m\u001b[0mX\u001b[0m\u001b[0;34m[\u001b[0m\u001b[0mk\u001b[0m\u001b[0;34m]\u001b[0m \u001b[0;32mfor\u001b[0m \u001b[0mk\u001b[0m \u001b[0;32min\u001b[0m \u001b[0mbatch_indexes\u001b[0m\u001b[0;34m]\u001b[0m\u001b[0;34m\u001b[0m\u001b[0;34m\u001b[0m\u001b[0m\n\u001b[0m\u001b[1;32m      7\u001b[0m     \u001b[0mbatch_y\u001b[0m \u001b[0;34m=\u001b[0m \u001b[0;34m[\u001b[0m\u001b[0mY\u001b[0m\u001b[0;34m[\u001b[0m\u001b[0mk\u001b[0m\u001b[0;34m]\u001b[0m \u001b[0;32mfor\u001b[0m \u001b[0mk\u001b[0m \u001b[0;32min\u001b[0m \u001b[0mbatch_indexes\u001b[0m\u001b[0;34m]\u001b[0m\u001b[0;34m\u001b[0m\u001b[0;34m\u001b[0m\u001b[0m\n\u001b[1;32m      8\u001b[0m     \u001b[0;32mreturn\u001b[0m \u001b[0;34m[\u001b[0m\u001b[0mbatch_x\u001b[0m\u001b[0;34m,\u001b[0m \u001b[0mbatch_y\u001b[0m\u001b[0;34m]\u001b[0m\u001b[0;34m\u001b[0m\u001b[0;34m\u001b[0m\u001b[0m\n",
          "\u001b[0;32m<ipython-input-43-6ba8ce3e855d>\u001b[0m in \u001b[0;36m<listcomp>\u001b[0;34m(.0)\u001b[0m\n\u001b[1;32m      4\u001b[0m     \u001b[0mbatch_indexes\u001b[0m \u001b[0;34m=\u001b[0m \u001b[0mindexes\u001b[0m\u001b[0;34m[\u001b[0m\u001b[0mindex\u001b[0m\u001b[0;34m*\u001b[0m\u001b[0mbatchsize\u001b[0m\u001b[0;34m:\u001b[0m \u001b[0;34m(\u001b[0m\u001b[0mindex\u001b[0m\u001b[0;34m+\u001b[0m\u001b[0;36m1\u001b[0m\u001b[0;34m)\u001b[0m\u001b[0;34m*\u001b[0m\u001b[0mbatchsize\u001b[0m\u001b[0;34m]\u001b[0m\u001b[0;34m\u001b[0m\u001b[0;34m\u001b[0m\u001b[0m\n\u001b[1;32m      5\u001b[0m     \u001b[0mprint\u001b[0m\u001b[0;34m(\u001b[0m\u001b[0mbatch_indexes\u001b[0m\u001b[0;34m)\u001b[0m\u001b[0;34m\u001b[0m\u001b[0;34m\u001b[0m\u001b[0m\n\u001b[0;32m----> 6\u001b[0;31m     \u001b[0mbatch_x\u001b[0m \u001b[0;34m=\u001b[0m \u001b[0;34m[\u001b[0m\u001b[0mX\u001b[0m\u001b[0;34m[\u001b[0m\u001b[0mk\u001b[0m\u001b[0;34m]\u001b[0m \u001b[0;32mfor\u001b[0m \u001b[0mk\u001b[0m \u001b[0;32min\u001b[0m \u001b[0mbatch_indexes\u001b[0m\u001b[0;34m]\u001b[0m\u001b[0;34m\u001b[0m\u001b[0;34m\u001b[0m\u001b[0m\n\u001b[0m\u001b[1;32m      7\u001b[0m     \u001b[0mbatch_y\u001b[0m \u001b[0;34m=\u001b[0m \u001b[0;34m[\u001b[0m\u001b[0mY\u001b[0m\u001b[0;34m[\u001b[0m\u001b[0mk\u001b[0m\u001b[0;34m]\u001b[0m \u001b[0;32mfor\u001b[0m \u001b[0mk\u001b[0m \u001b[0;32min\u001b[0m \u001b[0mbatch_indexes\u001b[0m\u001b[0;34m]\u001b[0m\u001b[0;34m\u001b[0m\u001b[0;34m\u001b[0m\u001b[0m\n\u001b[1;32m      8\u001b[0m     \u001b[0;32mreturn\u001b[0m \u001b[0;34m[\u001b[0m\u001b[0mbatch_x\u001b[0m\u001b[0;34m,\u001b[0m \u001b[0mbatch_y\u001b[0m\u001b[0;34m]\u001b[0m\u001b[0;34m\u001b[0m\u001b[0;34m\u001b[0m\u001b[0m\n",
          "\u001b[0;31mNameError\u001b[0m: name 'X' is not defined"
         ]
        }
       ]
      }
     },
     "f4bfdab8a4774b8896ee30445c347ef1": {
      "model_module": "@jupyter-widgets/controls",
      "model_module_version": "1.5.0",
      "model_name": "IntSliderModel",
      "state": {
       "description": "examples_",
       "layout": "IPY_MODEL_699e75f535e24c79a3ec7bd7f4f84172",
       "style": "IPY_MODEL_da61417ea6f54e5f97063e9bd39f5076",
       "value": 50
      }
     },
     "f525c019a1194e1398756e08cad2c0f4": {
      "model_module": "@jupyter-widgets/output",
      "model_module_version": "1.0.0",
      "model_name": "OutputModel",
      "state": {
       "layout": "IPY_MODEL_714a9e79d27a454ebb704e21c8b14ab0"
      }
     },
     "f642a9a6db294b8abf6be51d392e80fa": {
      "model_module": "@jupyter-widgets/controls",
      "model_module_version": "1.5.0",
      "model_name": "IntSliderModel",
      "state": {
       "description": "examples_",
       "layout": "IPY_MODEL_fee5bf3aeded46ef95a6b88afda3e51b",
       "min": 1,
       "style": "IPY_MODEL_3ea3df74b0f548b9a4b6325e10324fae",
       "value": 100
      }
     },
     "f68754fc30dc43b6b429e9ef051718b7": {
      "model_module": "@jupyter-widgets/base",
      "model_module_version": "1.2.0",
      "model_name": "LayoutModel",
      "state": {}
     },
     "f6901e53f4be4153b45afe7d1e83072d": {
      "model_module": "@jupyter-widgets/controls",
      "model_module_version": "1.5.0",
      "model_name": "IntSliderModel",
      "state": {
       "description": "example_size_",
       "layout": "IPY_MODEL_0f81532c70714f85892e74e175da501d",
       "max": 20,
       "style": "IPY_MODEL_0aa7af20a30943e989b3677d4143d40b",
       "value": 10
      }
     },
     "f7d1cd6da5704e83ae38c287cf5f91ad": {
      "model_module": "@jupyter-widgets/base",
      "model_module_version": "1.2.0",
      "model_name": "LayoutModel",
      "state": {}
     },
     "f8043e16fc2c45c59c6201ea0db71fde": {
      "model_module": "@jupyter-widgets/controls",
      "model_module_version": "1.5.0",
      "model_name": "SliderStyleModel",
      "state": {
       "description_width": ""
      }
     },
     "f85664ca98e247918a42c98e2b3105c0": {
      "model_module": "@jupyter-widgets/controls",
      "model_module_version": "1.5.0",
      "model_name": "IntSliderModel",
      "state": {
       "description": "example_size_",
       "layout": "IPY_MODEL_408dc8eafc7149b99a6043116c73b75d",
       "max": 8,
       "min": 1,
       "style": "IPY_MODEL_78769bed490c4bdab5bc822bc77f7257",
       "value": 4
      }
     },
     "f86ea999ba784a06aa286548a5559923": {
      "model_module": "@jupyter-widgets/controls",
      "model_module_version": "1.5.0",
      "model_name": "DescriptionStyleModel",
      "state": {
       "description_width": ""
      }
     },
     "f8cfdd4602334f3b981f9e35e0fd78e7": {
      "model_module": "@jupyter-widgets/controls",
      "model_module_version": "1.5.0",
      "model_name": "IntSliderModel",
      "state": {
       "description": "batchsize_",
       "layout": "IPY_MODEL_3ab674d5f2244b63ae79e6a2b3f0f236",
       "max": 20,
       "min": 1,
       "style": "IPY_MODEL_e1156f793c0748afbadd76dba7150660",
       "value": 10
      }
     },
     "fa728fda1cb64c058058c9ec482a12da": {
      "model_module": "@jupyter-widgets/base",
      "model_module_version": "1.2.0",
      "model_name": "LayoutModel",
      "state": {}
     },
     "fa86b0b3d8a84a11875dad0084e2458e": {
      "model_module": "@jupyter-widgets/controls",
      "model_module_version": "1.5.0",
      "model_name": "VBoxModel",
      "state": {
       "_dom_classes": [
        "widget-interact"
       ],
       "children": [
        "IPY_MODEL_a320b30cea214986968cbca4403ea0c0",
        "IPY_MODEL_8f516af104f14250ba4c1d06af25e34f"
       ],
       "layout": "IPY_MODEL_5632295efb674933b6451b049aed92e8"
      }
     },
     "fb527695840e4223a95a11759ab252e9": {
      "model_module": "@jupyter-widgets/base",
      "model_module_version": "1.2.0",
      "model_name": "LayoutModel",
      "state": {}
     },
     "fb8b675773a549628d6815e065826153": {
      "model_module": "@jupyter-widgets/output",
      "model_module_version": "1.0.0",
      "model_name": "OutputModel",
      "state": {
       "layout": "IPY_MODEL_ce30f9491d704a5981f3387852729fb5"
      }
     },
     "fbfc22cdfe20485e9a9ffae53c1424bf": {
      "model_module": "@jupyter-widgets/base",
      "model_module_version": "1.2.0",
      "model_name": "LayoutModel",
      "state": {}
     },
     "fc02808b81334e78ad1a96412f84a648": {
      "model_module": "@jupyter-widgets/output",
      "model_module_version": "1.0.0",
      "model_name": "OutputModel",
      "state": {
       "layout": "IPY_MODEL_b1a1bfd4c18542e5a873a18645c3628f",
       "outputs": [
        {
         "name": "stdout",
         "output_type": "stream",
         "text": "selected batch: 11 of 4 with a batchsize of 10 and total 50 examples\nstart idx: 110, end idx: 120\nIndexes of the currrent batch: []\n"
        },
        {
         "data": {
          "text/plain": "[[], []]"
         },
         "metadata": {},
         "output_type": "display_data"
        }
       ]
      }
     },
     "fc9469e49386438fa4ef434461ee454f": {
      "model_module": "@jupyter-widgets/controls",
      "model_module_version": "1.5.0",
      "model_name": "SliderStyleModel",
      "state": {
       "description_width": ""
      }
     },
     "fd7895b13beb4a6083497baea55dfb04": {
      "model_module": "@jupyter-widgets/base",
      "model_module_version": "1.2.0",
      "model_name": "LayoutModel",
      "state": {}
     },
     "fd7bae71c3d347b6b9c62c6240f272a3": {
      "model_module": "@jupyter-widgets/base",
      "model_module_version": "1.2.0",
      "model_name": "LayoutModel",
      "state": {}
     },
     "fd7c1c328759474e80db7fd36349033f": {
      "model_module": "@jupyter-widgets/base",
      "model_module_version": "1.2.0",
      "model_name": "LayoutModel",
      "state": {}
     },
     "fdacee16045e40c095b8e48d600ccee9": {
      "model_module": "@jupyter-widgets/controls",
      "model_module_version": "1.5.0",
      "model_name": "VBoxModel",
      "state": {
       "_dom_classes": [
        "widget-interact"
       ],
       "children": [
        "IPY_MODEL_3ee7cd938e104aed8e560fd1885adfee",
        "IPY_MODEL_6af393aae8874e9a9362b9bc280f6783",
        "IPY_MODEL_a493a44a18e44d2c918e74539d169194",
        "IPY_MODEL_6b4aa54afc2142c297e6da0c0a46d1a3"
       ],
       "layout": "IPY_MODEL_30494310fe444d2d8f8390b5ff6e4f39"
      }
     },
     "fde97b3830a84fd7886e645d286bf3a0": {
      "model_module": "@jupyter-widgets/base",
      "model_module_version": "1.2.0",
      "model_name": "LayoutModel",
      "state": {}
     },
     "fdfd75e75514407e85cb90a7b22a7202": {
      "model_module": "@jupyter-widgets/controls",
      "model_module_version": "1.5.0",
      "model_name": "SliderStyleModel",
      "state": {
       "description_width": ""
      }
     },
     "fe30688f5ad442e3a7e5d824aa4329dd": {
      "model_module": "@jupyter-widgets/base",
      "model_module_version": "1.2.0",
      "model_name": "LayoutModel",
      "state": {}
     },
     "fe7ebe199a4b4c18b41221ba50050a88": {
      "model_module": "@jupyter-widgets/controls",
      "model_module_version": "1.5.0",
      "model_name": "SliderStyleModel",
      "state": {
       "description_width": ""
      }
     },
     "fea79c30c586453c98a6a65e36bbaead": {
      "model_module": "@jupyter-widgets/output",
      "model_module_version": "1.0.0",
      "model_name": "OutputModel",
      "state": {
       "layout": "IPY_MODEL_01213f45007a4e9fac4256fb341218c5"
      }
     },
     "fee5bf3aeded46ef95a6b88afda3e51b": {
      "model_module": "@jupyter-widgets/base",
      "model_module_version": "1.2.0",
      "model_name": "LayoutModel",
      "state": {}
     },
     "ff87f5d54c7943df9f53bf2d42016edd": {
      "model_module": "@jupyter-widgets/base",
      "model_module_version": "1.2.0",
      "model_name": "LayoutModel",
      "state": {}
     },
     "ffb07b2f0ee941ab9814e3d537696461": {
      "model_module": "@jupyter-widgets/controls",
      "model_module_version": "1.5.0",
      "model_name": "SliderStyleModel",
      "state": {
       "description_width": ""
      }
     },
     "ffe2e49ae8614e489e1d8134a76ae8cd": {
      "model_module": "@jupyter-widgets/base",
      "model_module_version": "1.2.0",
      "model_name": "LayoutModel",
      "state": {}
     }
    },
    "version_major": 2,
    "version_minor": 0
   }
  }
 },
 "nbformat": 4,
 "nbformat_minor": 4
}
