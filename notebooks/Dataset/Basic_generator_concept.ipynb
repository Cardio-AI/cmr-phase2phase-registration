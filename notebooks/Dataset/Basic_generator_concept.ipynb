{
 "cells": [
  {
   "cell_type": "code",
   "execution_count": 60,
   "metadata": {},
   "outputs": [
    {
     "name": "stdout",
     "output_type": "stream",
     "text": [
      "search for root_dir and set working directory\n",
      "Working directory set to: /mnt/ssd/git/dynamic-cmr-models\n"
     ]
    }
   ],
   "source": [
    "# define logging and working directory\n",
    "from ProjectRoot import change_wd_to_project_root\n",
    "change_wd_to_project_root()\n",
    "from src.utils.Notebook_imports import *"
   ]
  },
  {
   "cell_type": "markdown",
   "metadata": {},
   "source": [
    "# Test the main concepts of a DL generator\n",
    "\n",
    "A Generator yields a tuple of (x,y) and is used to feed data into a deep learning model\n",
    "\n",
    "Each x/y tuple has the following shape: \n",
    "\n",
    "$batchsize * exampleSize * exampleShape$ \n",
    "\n",
    "--> The $exampleShape$ could be:\n",
    "- for 1D vector-data: $len(vector_{data})$\n",
    "- for 2D images: $height * width$: \n",
    "- for 3D volumes: $depth * height * width$)\n"
   ]
  },
  {
   "cell_type": "markdown",
   "metadata": {},
   "source": [
    "# Create fake data interactively\n",
    "\n",
    "Please define:\n",
    "\n",
    "- The total number of $examples$ (the size of the dataset), each $example$ represents one patient/entity\n",
    "- the $exampleSize$ (number of objects per example), this could represent different timesteps of a multi input generator\n",
    "- the $batchsize$, meaning how many examples should be yielded in one step\n",
    "\n",
    "Usually one example would reflect the path to a file. Which, when loaded will reult in a given $exampleShape$.\n",
    "\n",
    "In this example we will create random numbers define the input and output shape with $inputObjShape$ and $outputObjShape$.\n",
    "\n",
    "Each random number represents a 1D/2D or 3D object"
   ]
  },
  {
   "cell_type": "code",
   "execution_count": 61,
   "metadata": {},
   "outputs": [
    {
     "data": {
      "application/vnd.jupyter.widget-view+json": {
       "model_id": "cb17b4a0cf3e4d928b4020940d4641c8",
       "version_major": 2,
       "version_minor": 0
      },
      "text/plain": [
       "interactive(children=(IntSlider(value=500, description='examples_', max=1000, min=1), IntSlider(value=4, descr…"
      ]
     },
     "metadata": {},
     "output_type": "display_data"
    }
   ],
   "source": [
    "# Define the size of our fake data\n",
    "upper_example_limit = 1000\n",
    "upper_example_size_limit = 8\n",
    "upper_batchsize_limit = 20\n",
    "\n",
    "@interact_manual\n",
    "def create_fake_data(examples_=(1,upper_example_limit), \n",
    "                     input_objects_=(1,upper_example_size_limit),\n",
    "                     output_objects_=(1,upper_example_size_limit),\n",
    "                     batchsize_=(1,upper_batchsize_limit), \n",
    "                     input_obj_shape='(10,10,10)', \n",
    "                     ouptut_obj_shape='(10,10,10)'):\n",
    "    \n",
    "    global examples, input_objects, output_objects , batchsize, indexes, X, Y, x_dict, y_dict, batches\n",
    "    examples = examples_\n",
    "    batchsize = batchsize_\n",
    "    input_objects = input_objects_\n",
    "    output_objects = output_objects_\n",
    "    \n",
    "    # make sure the dimensions have the correct formating\n",
    "    x_dim = tuple(map(int, input_obj_shape.replace(')', '').replace('(','').split(',')))\n",
    "    y_dim = tuple(map(int, ouptut_obj_shape.replace(')', '').replace('(','').split(',')))\n",
    "    \n",
    "    # create some fake data\n",
    "    x_dict = {}\n",
    "    y_dict = {}  \n",
    "    X = []\n",
    "    for example in range(examples_):\n",
    "        x_dict[example] = np.stack([np.round(np.random.sample(x_dim),2)+example for i in range(input_objects)])\n",
    "        y_dict[example] = np.stack([np.round(np.random.sample(y_dim),2)+(10*example) for i in range(output_objects)])\n",
    "        # testing purpose if lists are faster than dicts\n",
    "        X.append(np.stack([np.round(np.random.sample(x_dim),2)+example for i in range(input_objects)]))\n",
    "    # index our data, we can use the indicies to select one example in a list or dictionary\n",
    "    # By this we dont need to shuffle the data itself\n",
    "    indexes = list(range(len(x_dict)))\n",
    "    batches = int(np.floor(examples/batchsize))-1\n",
    "    print('Shape of one patient X: {}, Y: {}'.format(x_dict[0].shape, y_dict[0].shape))"
   ]
  },
  {
   "cell_type": "code",
   "execution_count": 66,
   "metadata": {},
   "outputs": [
    {
     "data": {
      "application/vnd.jupyter.widget-view+json": {
       "model_id": "ba873f8f23da4afeb26dbe3d9ff6bf90",
       "version_major": 2,
       "version_minor": 0
      },
      "text/plain": [
       "interactive(children=(IntSlider(value=249, description='selected_batch', max=499), Checkbox(value=False, descr…"
      ]
     },
     "metadata": {},
     "output_type": "display_data"
    }
   ],
   "source": [
    "# Select one batch and yield the corresponding values (batchsize x example_size)\n",
    "@interact\n",
    "def select_batch(selected_batch = (0,batches), shuffle_indexes=False, debug=False):\n",
    "    global indexes\n",
    "    \n",
    "    if shuffle_indexes:\n",
    "        random.shuffle(indexes)\n",
    "    # make sure indexes are correctly initialised\n",
    "    assert len(indexes) == examples, print('len indexes: {}, number of examples: {}'.format(len(indexes), examples))\n",
    "    \n",
    "    # define the lower/upper index slicing borders of the current batch\n",
    "    start_idx = selected_batch*batchsize\n",
    "    end_idx = (selected_batch+1)*batchsize\n",
    "    \n",
    "    # we slice the indexes of the current batch from the index list\n",
    "    batch_indexes = indexes[start_idx: end_idx]\n",
    "    \n",
    "    # print the restrictions of the current batch\n",
    "    print('selected batch: {} of {} with a batchsize of {} and total {} examples'.format(selected_batch, batches, batchsize, examples))\n",
    "    print('start idx: {}, end idx: {}'.format(start_idx, end_idx))\n",
    "    print('Indexes of the currrent batch: {}'.format(batch_indexes))\n",
    "    print('-'*40)\n",
    "    \n",
    "    # stack the entities of the current batch\n",
    "    batch_x = np.stack([x_dict[k] for k in batch_indexes])\n",
    "    batch_y = np.stack([y_dict[k] for k in batch_indexes])\n",
    "    if debug:\n",
    "        [print('index: {}: value: {}'.format(k, x_dict[k])) for k in batch_indexes]\n",
    "        [print('index: {}: value: {}'.format(k, y_dict[k])) for k in batch_indexes]\n",
    "    \n",
    "    return([batch_x.shape, batch_y.shape])"
   ]
  },
  {
   "cell_type": "markdown",
   "metadata": {},
   "source": [
    "# Performance measurements of different indexing mehtods"
   ]
  },
  {
   "cell_type": "code",
   "execution_count": 4,
   "metadata": {},
   "outputs": [],
   "source": [
    "from random import randint\n",
    "# We have a list --> X and a dictionary --> x_dict, \n",
    "# len(X) == len(x_dict)\n",
    "# and X[i] == x_dict[i] for all i in range(len(X))\n",
    "# We create n random indicies within the range of len(X)\n",
    "samples = [randint(0, examples-1) for _ in range(10000000)]"
   ]
  },
  {
   "cell_type": "code",
   "execution_count": 5,
   "metadata": {},
   "outputs": [
    {
     "name": "stdout",
     "output_type": "stream",
     "text": [
      "248 ms ± 2.87 ms per loop (mean ± std. dev. of 7 runs, 1 loop each)\n"
     ]
    }
   ],
   "source": [
    "%%timeit\n",
    "# access the list n times, append the value to a new list\n",
    "temp = None\n",
    "for i in samples:\n",
    "    temp = X[i]\n",
    "    "
   ]
  },
  {
   "cell_type": "code",
   "execution_count": 6,
   "metadata": {},
   "outputs": [
    {
     "name": "stdout",
     "output_type": "stream",
     "text": [
      "398 ms ± 2.14 ms per loop (mean ± std. dev. of 7 runs, 1 loop each)\n"
     ]
    }
   ],
   "source": [
    "%%timeit\n",
    "# access the dict n times, append the value to a new list\n",
    "temp = None\n",
    "for i in samples:\n",
    "    temp = x_dict[i]"
   ]
  },
  {
   "cell_type": "markdown",
   "metadata": {},
   "source": [
    "# Regression target\n",
    "Create a 1D array with interpolated values at the given indicies"
   ]
  },
  {
   "cell_type": "code",
   "execution_count": 25,
   "metadata": {},
   "outputs": [
    {
     "name": "stdout",
     "output_type": "stream",
     "text": [
      "(12, 20, 20, 20)\n",
      "(12,)\n",
      "[nan nan  1. nan  2. nan  3. nan  4. nan  5. nan]\n"
     ]
    }
   ],
   "source": [
    "timesteps = 12\n",
    "vol_shape = (20,20,20)\n",
    "volume = np.random.rand(timesteps, *vol_shape)\n",
    "print(volume.shape)\n",
    "indicies = [2,4,6,8,10]\n",
    "# create a vector with 1 at index 2\n",
    "target_vect = np.empty((timesteps))\n",
    "target_vect[:] = np.nan\n",
    "print(target_vect.shape)\n",
    "\n",
    "for label,idx in enumerate(indicies):\n",
    "    label = label+1\n",
    "    target_vect[idx] = label\n",
    "print(target_vect)\n",
    "\n"
   ]
  },
  {
   "cell_type": "code",
   "execution_count": 26,
   "metadata": {},
   "outputs": [
    {
     "name": "stdout",
     "output_type": "stream",
     "text": [
      "[1.  1.  1.  1.5 2.  2.5 3.  3.5 4.  4.5 5.  5. ]\n"
     ]
    }
   ],
   "source": [
    "def nan_helper(y):\n",
    "    \"\"\"Helper to handle indices and logical indices of NaNs.\n",
    "\n",
    "    Input:\n",
    "        - y, 1d numpy array with possible NaNs\n",
    "    Output:\n",
    "        - nans, logical indices of NaNs\n",
    "        - index, a function, with signature indices= index(logical_indices),\n",
    "          to convert logical indices of NaNs to 'equivalent' indices\n",
    "    Example:\n",
    "        >>> # linear interpolation of NaNs\n",
    "        >>> nans, x= nan_helper(y)\n",
    "        >>> y[nans]= np.interp(x(nans), x(~nans), y[~nans])\n",
    "    \"\"\"\n",
    "\n",
    "    return np.isnan(y), lambda z: z.nonzero()[0]\n",
    "\n",
    "nans, x= nan_helper(target_vect)\n",
    "target_vect[nans]= np.interp(x(nans), x(~nans), target_vect[~nans])\n",
    "print(target_vect)"
   ]
  },
  {
   "cell_type": "markdown",
   "metadata": {},
   "source": [
    "# From Index to one-hot-encoding"
   ]
  },
  {
   "cell_type": "code",
   "execution_count": 38,
   "metadata": {},
   "outputs": [
    {
     "name": "stdout",
     "output_type": "stream",
     "text": [
      "[ 2  4  6  8 10]\n",
      "[[0. 0. 1. 0. 0. 0. 0. 0. 0. 0. 0.]\n",
      " [0. 0. 0. 0. 1. 0. 0. 0. 0. 0. 0.]\n",
      " [0. 0. 0. 0. 0. 0. 1. 0. 0. 0. 0.]\n",
      " [0. 0. 0. 0. 0. 0. 0. 0. 1. 0. 0.]\n",
      " [0. 0. 0. 0. 0. 0. 0. 0. 0. 0. 1.]]\n",
      "(5, 11)\n"
     ]
    }
   ],
   "source": [
    "# from index to one-hot\n",
    "# each row is one phase and points to the index in time\n",
    "indicies = np.array([2,4,6,8,10])\n",
    "print(indicies)\n",
    "onehot = np.zeros((indicies.size, indicies.max()+1))\n",
    "onehot[np.arange(indicies.size),indicies] = 1\n",
    "print(onehot)\n",
    "print(onehot.shape)"
   ]
  },
  {
   "cell_type": "code",
   "execution_count": 72,
   "metadata": {},
   "outputs": [
    {
     "name": "stdout",
     "output_type": "stream",
     "text": [
      "(12,)\n",
      "[0 0 1 0 2 0 3 0 4 0 5 0]\n",
      "[[1. 0. 0. 0. 0. 0.]\n",
      " [1. 0. 0. 0. 0. 0.]\n",
      " [0. 1. 0. 0. 0. 0.]\n",
      " [1. 0. 0. 0. 0. 0.]\n",
      " [0. 0. 1. 0. 0. 0.]\n",
      " [1. 0. 0. 0. 0. 0.]\n",
      " [0. 0. 0. 1. 0. 0.]\n",
      " [1. 0. 0. 0. 0. 0.]\n",
      " [0. 0. 0. 0. 1. 0.]\n",
      " [1. 0. 0. 0. 0. 0.]\n",
      " [0. 0. 0. 0. 0. 1.]\n",
      " [1. 0. 0. 0. 0. 0.]]\n",
      "(12, 6)\n"
     ]
    }
   ],
   "source": [
    "# from index to one-hot\n",
    "# each row is one timestep and points to the corresponding phase\n",
    "indicies = [2,4,6,8,10]\n",
    "# create a vector with 1 at index 2\n",
    "target_vect = np.zeros((timesteps)).astype(int)\n",
    "#target_vect[:] = np.nan\n",
    "print(target_vect.shape)\n",
    "\n",
    "for label,idx in enumerate(indicies):\n",
    "    label = label+1\n",
    "    target_vect[idx] = label\n",
    "print(target_vect)\n",
    "\n",
    "onehot = np.zeros((target_vect.size, target_vect.max()+1))\n",
    "onehot[np.arange(target_vect.size),target_vect] = 1\n",
    "print(onehot)\n",
    "print(onehot.shape)\n"
   ]
  },
  {
   "cell_type": "code",
   "execution_count": 113,
   "metadata": {},
   "outputs": [
    {
     "name": "stdout",
     "output_type": "stream",
     "text": [
      "(12,)\n",
      "[0 0 1 0 2 0 3 0 4 0 5 0]\n",
      "[[0. 0. 0. 0. 0.]\n",
      " [0. 0. 0. 0. 0.]\n",
      " [1. 0. 0. 0. 0.]\n",
      " [0. 0. 0. 0. 0.]\n",
      " [0. 1. 0. 0. 0.]\n",
      " [0. 0. 0. 0. 0.]\n",
      " [0. 0. 1. 0. 0.]\n",
      " [0. 0. 0. 0. 0.]\n",
      " [0. 0. 0. 1. 0.]\n",
      " [0. 0. 0. 0. 0.]\n",
      " [0. 0. 0. 0. 1.]\n",
      " [0. 0. 0. 0. 0.]]\n",
      "(12, 5)\n"
     ]
    }
   ],
   "source": [
    "# from index to one-hot, drop the zero-class\n",
    "# each row is one timestep and points to the corresponding phase\n",
    "indicies = [2,4,6,8,10]\n",
    "# create a vector with 1 at index 2\n",
    "target_vect = np.zeros((timesteps)).astype(int)\n",
    "#target_vect[:] = np.nan\n",
    "print(target_vect.shape)\n",
    "\n",
    "for label,idx in enumerate(indicies):\n",
    "    label = label+1\n",
    "    target_vect[idx] = label\n",
    "print(target_vect)\n",
    "\n",
    "onehot = np.zeros((target_vect.size, target_vect.max()+1))\n",
    "onehot[np.arange(target_vect.size),target_vect] = 1\n",
    "# drop/slice the zero class\n",
    "onehot = onehot[:,1:]\n",
    "print(onehot)\n",
    "print(onehot.shape)\n"
   ]
  },
  {
   "cell_type": "code",
   "execution_count": 87,
   "metadata": {},
   "outputs": [
    {
     "data": {
      "text/plain": [
       "[array([], dtype=int64),\n",
       " array([], dtype=int64),\n",
       " array([0]),\n",
       " array([], dtype=int64),\n",
       " array([1]),\n",
       " array([], dtype=int64),\n",
       " array([2]),\n",
       " array([], dtype=int64),\n",
       " array([3]),\n",
       " array([], dtype=int64),\n",
       " array([4]),\n",
       " array([], dtype=int64)]"
      ]
     },
     "execution_count": 87,
     "metadata": {},
     "output_type": "execute_result"
    }
   ],
   "source": [
    "# inverse the steps\n",
    "from_onehot_to_index = [np.where(r==1)[0] for r in onehot]\n",
    "from_onehot_to_index"
   ]
  },
  {
   "cell_type": "markdown",
   "metadata": {},
   "source": [
    "# Convolve the one-hot vector along the target class"
   ]
  },
  {
   "cell_type": "code",
   "execution_count": 111,
   "metadata": {},
   "outputs": [
    {
     "name": "stdout",
     "output_type": "stream",
     "text": [
      "Kernel: [0.2  0.35 0.5  1.   0.5  0.35 0.2 ]\n",
      "[0. 0. 1. 0. 0. 0. 0. 0. 0. 0. 0. 0.]\n",
      "convolved: [0.35 0.5  1.   0.5  0.35 0.2  0.   0.   0.   0.   0.   0.  ]\n",
      "normalised: [0.35 0.5  1.   0.5  0.35 0.2  0.   0.   0.   0.   0.   0.  ]\n",
      "[0. 0. 0. 0. 1. 0. 0. 0. 0. 0. 0. 0.]\n",
      "convolved: [0.   0.2  0.35 0.5  1.   0.5  0.35 0.2  0.   0.   0.   0.  ]\n",
      "normalised: [0.   0.2  0.35 0.5  1.   0.5  0.35 0.2  0.   0.   0.   0.  ]\n",
      "[0. 0. 0. 0. 0. 0. 1. 0. 0. 0. 0. 0.]\n",
      "convolved: [0.   0.   0.   0.2  0.35 0.5  1.   0.5  0.35 0.2  0.   0.  ]\n",
      "normalised: [0.   0.   0.   0.2  0.35 0.5  1.   0.5  0.35 0.2  0.   0.  ]\n",
      "[0. 0. 0. 0. 0. 0. 0. 0. 1. 0. 0. 0.]\n",
      "convolved: [0.   0.   0.   0.   0.   0.2  0.35 0.5  1.   0.5  0.35 0.2 ]\n",
      "normalised: [0.   0.   0.   0.   0.   0.2  0.35 0.5  1.   0.5  0.35 0.2 ]\n",
      "[0. 0. 0. 0. 0. 0. 0. 0. 0. 0. 1. 0.]\n",
      "convolved: [0.   0.   0.   0.   0.   0.   0.   0.2  0.35 0.5  1.   0.5 ]\n",
      "normalised: [0.   0.   0.   0.   0.   0.   0.   0.2  0.35 0.5  1.   0.5 ]\n",
      "[[0.35 0.   0.   0.   0.  ]\n",
      " [0.5  0.2  0.   0.   0.  ]\n",
      " [1.   0.35 0.   0.   0.  ]\n",
      " [0.5  0.5  0.2  0.   0.  ]\n",
      " [0.35 1.   0.35 0.   0.  ]\n",
      " [0.2  0.5  0.5  0.2  0.  ]\n",
      " [0.   0.35 1.   0.35 0.  ]\n",
      " [0.   0.2  0.5  0.5  0.2 ]\n",
      " [0.   0.   0.35 1.   0.35]\n",
      " [0.   0.   0.2  0.5  0.5 ]\n",
      " [0.   0.   0.   0.35 1.  ]\n",
      " [0.   0.   0.   0.2  0.5 ]]\n"
     ]
    }
   ],
   "source": [
    "# smooth the one-hot vectors along the indexes\n",
    "# each phase has a small range of valid indexes with a convolved smoothing\n",
    "import sys\n",
    "temp = np.copy(onehot)\n",
    "kernelsize = 6\n",
    "lower = 0.2\n",
    "upper = 0.5\n",
    "# create a kernel with linearly increasing, than one, than decreasing smoothing\n",
    "kernel = np.concatenate([np.linspace(lower,upper,kernelsize//2), [1], np.linspace(upper,lower,kernelsize//2)])\n",
    "print('Kernel: {}'.format(kernel))\n",
    "for idx in range(temp.shape[1]):\n",
    "    print(temp[:,idx])\n",
    "    smoothed = np.convolve(temp[:,idx],kernel, mode='same')\n",
    "    print('convolved: {}'.format(smoothed))\n",
    "    #smoothed = smoothed/(sum(smoothed) + sys.float_info.epsilon)\n",
    "    print('normalised: {}'.format(smoothed))\n",
    "    temp[:,idx] = smoothed\n",
    "print(temp)"
   ]
  },
  {
   "cell_type": "code",
   "execution_count": 110,
   "metadata": {},
   "outputs": [
    {
     "data": {
      "text/plain": [
       "array([ 2,  4,  6,  8, 10])"
      ]
     },
     "execution_count": 110,
     "metadata": {},
     "output_type": "execute_result"
    }
   ],
   "source": [
    "# invert the predicted phase per temporal index to get the temporal position in the whole temporal stack\n",
    "np.argmax(temp, axis=0)"
   ]
  },
  {
   "cell_type": "markdown",
   "metadata": {},
   "source": [
    "# Smoothed 1D array"
   ]
  },
  {
   "cell_type": "code",
   "execution_count": 47,
   "metadata": {},
   "outputs": [],
   "source": [
    "def smooth(x, window_len=5, window='hanning'):\n",
    "    \"\"\"\n",
    "    smooth the data using a window with requested size.\n",
    "\n",
    "    This method is based on the convolution of a scaled window with the signal.\n",
    "    The signal is prepared by introducing reflected copies of the signal \n",
    "    (with the window size) in both ends so that transient parts are minimized\n",
    "    in the begining and end part of the output signal.\n",
    "\n",
    "    input:\n",
    "        x: the input signal \n",
    "        window_len: the dimension of the smoothing window\n",
    "        window: the type of window from 'flat', 'hanning', 'hamming', 'bartlett', 'blackman'\n",
    "            flat window will produce a moving average smoothing.\n",
    "\n",
    "    output:\n",
    "        the smoothed signal\n",
    "\n",
    "    example:\n",
    "\n",
    "    import numpy as np    \n",
    "    t = np.linspace(-2,2,0.1)\n",
    "    x = np.sin(t)+np.random.randn(len(t))*0.1\n",
    "    y = smooth(x)\n",
    "\n",
    "    see also: \n",
    "\n",
    "    numpy.hanning, numpy.hamming, numpy.bartlett, numpy.blackman, numpy.convolve\n",
    "    scipy.signal.lfilter\n",
    "\n",
    "    TODO: the window parameter could be the window itself if an array instead of a string   \n",
    "    \"\"\"\n",
    "    if x.ndim != 1:\n",
    "        raise ValueError(\"smooth only accepts 1 dimension arrays.\")\n",
    "\n",
    "    if x.size < window_len:\n",
    "        raise ValueError(\"Input vector needs to be bigger than window size.\")\n",
    "\n",
    "    if window_len < 3:\n",
    "        return x\n",
    "\n",
    "    if not window in ['flat', 'hanning', 'hamming', 'bartlett', 'blackman']:\n",
    "        raise ValueError(\"Window is on of 'flat', 'hanning', 'hamming', 'bartlett', 'blackman'\")\n",
    "\n",
    "    s=np.r_[2*x[0]-x[window_len:1:-1], x, 2*x[-1]-x[-1:-window_len:-1]]\n",
    "    #print(len(s))\n",
    "\n",
    "    if window == 'flat': #moving average\n",
    "        w = np.ones(window_len,'d')\n",
    "    else:\n",
    "        w = getattr(np, window)(window_len)\n",
    "    y = np.convolve(w/w.sum(), s, mode='same')\n",
    "    return y[window_len-1:-window_len+1]"
   ]
  },
  {
   "cell_type": "code",
   "execution_count": 49,
   "metadata": {},
   "outputs": [
    {
     "name": "stdout",
     "output_type": "stream",
     "text": [
      "(12, 20, 20, 20)\n",
      "(12,)\n",
      "[nan nan  1. nan  2. nan  3. nan  4. nan  5. nan]\n",
      "[nan nan nan nan nan nan nan nan nan nan nan nan]\n"
     ]
    }
   ],
   "source": [
    "timesteps = 12\n",
    "vol_shape = (20,20,20)\n",
    "volume = np.random.rand(timesteps, *vol_shape)\n",
    "print(volume.shape)\n",
    "indicies = [2,4,6,8,10]\n",
    "# create a vector with 1 at index 2\n",
    "target_vect = np.empty((timesteps))\n",
    "target_vect[:] = np.nan\n",
    "print(target_vect.shape)\n",
    "\n",
    "for label,idx in enumerate(indicies):\n",
    "    label = label+1\n",
    "    target_vect[idx] = label\n",
    "print(target_vect)\n",
    "smooth_target_vect = smooth(target_vect)\n",
    "print(smooth_target_vect)"
   ]
  },
  {
   "cell_type": "markdown",
   "metadata": {},
   "source": [
    "# Test with np.interp, does not work and the ring functionality is not given by this representation"
   ]
  },
  {
   "cell_type": "code",
   "execution_count": 50,
   "metadata": {},
   "outputs": [
    {
     "name": "stdout",
     "output_type": "stream",
     "text": [
      "(12, 20, 20, 20)\n",
      "(12,)\n",
      "[nan nan  1. nan  2. nan  3. nan  4. nan  5. nan]\n"
     ]
    },
    {
     "ename": "TypeError",
     "evalue": "_interp_dispatcher() missing 1 required positional argument: 'fp'",
     "output_type": "error",
     "traceback": [
      "\u001b[0;31m---------------------------------------------------------------------------\u001b[0m",
      "\u001b[0;31mTypeError\u001b[0m                                 Traceback (most recent call last)",
      "\u001b[0;32m<ipython-input-50-cbd912216dbc>\u001b[0m in \u001b[0;36m<module>\u001b[0;34m\u001b[0m\n\u001b[1;32m     13\u001b[0m     \u001b[0mtarget_vect\u001b[0m\u001b[0;34m[\u001b[0m\u001b[0midx\u001b[0m\u001b[0;34m]\u001b[0m \u001b[0;34m=\u001b[0m \u001b[0mlabel\u001b[0m\u001b[0;34m\u001b[0m\u001b[0;34m\u001b[0m\u001b[0m\n\u001b[1;32m     14\u001b[0m \u001b[0mprint\u001b[0m\u001b[0;34m(\u001b[0m\u001b[0mtarget_vect\u001b[0m\u001b[0;34m)\u001b[0m\u001b[0;34m\u001b[0m\u001b[0;34m\u001b[0m\u001b[0m\n\u001b[0;32m---> 15\u001b[0;31m \u001b[0mnp\u001b[0m\u001b[0;34m.\u001b[0m\u001b[0minterp\u001b[0m\u001b[0;34m(\u001b[0m\u001b[0mindicies\u001b[0m\u001b[0;34m,\u001b[0m \u001b[0mtarget_vect\u001b[0m\u001b[0;34m)\u001b[0m\u001b[0;34m\u001b[0m\u001b[0;34m\u001b[0m\u001b[0m\n\u001b[0m",
      "\u001b[0;32m<__array_function__ internals>\u001b[0m in \u001b[0;36minterp\u001b[0;34m(*args, **kwargs)\u001b[0m\n",
      "\u001b[0;31mTypeError\u001b[0m: _interp_dispatcher() missing 1 required positional argument: 'fp'"
     ]
    }
   ],
   "source": [
    "timesteps = 12\n",
    "vol_shape = (20,20,20)\n",
    "volume = np.random.rand(timesteps, *vol_shape)\n",
    "print(volume.shape)\n",
    "indicies = [2,4,6,8,10]\n",
    "# create a vector with 1 at index 2\n",
    "target_vect = np.empty((timesteps))\n",
    "target_vect[:] = np.nan\n",
    "print(target_vect.shape)\n",
    "\n",
    "for label,idx in enumerate(indicies):\n",
    "    label = label+1\n",
    "    target_vect[idx] = label\n",
    "print(target_vect)\n",
    "np.interp(indicies, target_vect)"
   ]
  },
  {
   "cell_type": "markdown",
   "metadata": {},
   "source": [
    "# One-Hot per timestep"
   ]
  },
  {
   "cell_type": "code",
   "execution_count": null,
   "metadata": {},
   "outputs": [],
   "source": []
  },
  {
   "cell_type": "code",
   "execution_count": null,
   "metadata": {},
   "outputs": [],
   "source": []
  },
  {
   "cell_type": "code",
   "execution_count": null,
   "metadata": {},
   "outputs": [],
   "source": []
  },
  {
   "cell_type": "code",
   "execution_count": null,
   "metadata": {},
   "outputs": [],
   "source": []
  },
  {
   "cell_type": "code",
   "execution_count": null,
   "metadata": {},
   "outputs": [],
   "source": []
  }
 ],
 "metadata": {
  "kernelspec": {
   "display_name": "dcmr",
   "language": "python",
   "name": "dcmr"
  },
  "language_info": {
   "codemirror_mode": {
    "name": "ipython",
    "version": 3
   },
   "file_extension": ".py",
   "mimetype": "text/x-python",
   "name": "python",
   "nbconvert_exporter": "python",
   "pygments_lexer": "ipython3",
   "version": "3.8.5"
  },
  "widgets": {
   "application/vnd.jupyter.widget-state+json": {
    "state": {
     "005a9932d5db42c981ed33ea76145040": {
      "model_module": "@jupyter-widgets/output",
      "model_module_version": "1.0.0",
      "model_name": "OutputModel",
      "state": {
       "layout": "IPY_MODEL_5bfb2aabf312461185f9d9cf23901a00",
       "outputs": [
        {
         "name": "stdout",
         "output_type": "stream",
         "text": "selected batch: 0 of 499 with a batchsize of 2 and total 1000 examples\nstart idx: 0, end idx: 2\nIndexes of the currrent batch: [318, 42]\n----------------------------------------\n"
        },
        {
         "data": {
          "text/plain": "[(2, 2, 5, 5, 5), (2, 4, 5, 5, 5)]"
         },
         "metadata": {},
         "output_type": "display_data"
        }
       ]
      }
     },
     "00ae1b45478d4b9f9c03ae47d8a9dbf4": {
      "model_module": "@jupyter-widgets/base",
      "model_module_version": "1.2.0",
      "model_name": "LayoutModel",
      "state": {}
     },
     "01ddb25f2b774fcf87c09070eb2172a7": {
      "model_module": "@jupyter-widgets/controls",
      "model_module_version": "1.5.0",
      "model_name": "IntSliderModel",
      "state": {
       "description": "input_objects_",
       "layout": "IPY_MODEL_eb7510bad74746698f1cb96e7de4297b",
       "max": 8,
       "min": 1,
       "style": "IPY_MODEL_9fb4a681b5d447e697edc5aaf907dba2",
       "value": 2
      }
     },
     "034106fcfc494b9d8ebc2e53f6f2f416": {
      "model_module": "@jupyter-widgets/controls",
      "model_module_version": "1.5.0",
      "model_name": "CheckboxModel",
      "state": {
       "description": "shuffle_indexes",
       "disabled": false,
       "layout": "IPY_MODEL_0ea0ff9b1cf5431c948092a2aeda82dc",
       "style": "IPY_MODEL_9673fdc54cc64112bf428305495900c4",
       "value": false
      }
     },
     "047f48f0cef7496ba7d9b1b5f2a1d6eb": {
      "model_module": "@jupyter-widgets/base",
      "model_module_version": "1.2.0",
      "model_name": "LayoutModel",
      "state": {}
     },
     "04b431162e164f6f9ad0ef3a661c9d95": {
      "model_module": "@jupyter-widgets/controls",
      "model_module_version": "1.5.0",
      "model_name": "ButtonModel",
      "state": {
       "description": "Run Interact",
       "layout": "IPY_MODEL_a9ef66b1baaf4df4b8bdd6dec1e5f1be",
       "style": "IPY_MODEL_ff19b1f3d5d549b9a56a8e317d50a2ed"
      }
     },
     "05f2114f6335458ca7033fd3f4096e21": {
      "model_module": "@jupyter-widgets/controls",
      "model_module_version": "1.5.0",
      "model_name": "SliderStyleModel",
      "state": {
       "description_width": ""
      }
     },
     "07fb0c2e53dc45a7bb3594573b68dd75": {
      "model_module": "@jupyter-widgets/controls",
      "model_module_version": "1.5.0",
      "model_name": "IntSliderModel",
      "state": {
       "description": "batchsize_",
       "layout": "IPY_MODEL_eed0ad0a29be42bcbc59157558d77436",
       "max": 20,
       "min": 1,
       "style": "IPY_MODEL_2eddcdb3e89c4c54be9a6c0c09d05858",
       "value": 10
      }
     },
     "0de1e98df04e47ab8ba87f1fb173db17": {
      "model_module": "@jupyter-widgets/base",
      "model_module_version": "1.2.0",
      "model_name": "LayoutModel",
      "state": {}
     },
     "0ea0ff9b1cf5431c948092a2aeda82dc": {
      "model_module": "@jupyter-widgets/base",
      "model_module_version": "1.2.0",
      "model_name": "LayoutModel",
      "state": {}
     },
     "0f0a473e0f454da294ef9e46a81bc02b": {
      "model_module": "@jupyter-widgets/base",
      "model_module_version": "1.2.0",
      "model_name": "LayoutModel",
      "state": {}
     },
     "100b3988fca54caf8c6a1c3d49f3d632": {
      "model_module": "@jupyter-widgets/controls",
      "model_module_version": "1.5.0",
      "model_name": "DescriptionStyleModel",
      "state": {
       "description_width": ""
      }
     },
     "14182a01fab349d9a6485e96bc1aad2a": {
      "model_module": "@jupyter-widgets/controls",
      "model_module_version": "1.5.0",
      "model_name": "IntSliderModel",
      "state": {
       "description": "selected_batch",
       "layout": "IPY_MODEL_9a16726fd5314029be0f68f0263a215b",
       "max": 49,
       "style": "IPY_MODEL_05f2114f6335458ca7033fd3f4096e21",
       "value": 18
      }
     },
     "15a61e48c4e1495c9e3afe12b2af8537": {
      "model_module": "@jupyter-widgets/controls",
      "model_module_version": "1.5.0",
      "model_name": "CheckboxModel",
      "state": {
       "description": "debug",
       "disabled": false,
       "layout": "IPY_MODEL_ed55e4d0b8d94f64b9ccfbad28fcdc5c",
       "style": "IPY_MODEL_ccf296b8aab14769a73f40033e8a6d71",
       "value": false
      }
     },
     "17b9ef8d49b74741ae066ef605da3797": {
      "model_module": "@jupyter-widgets/output",
      "model_module_version": "1.0.0",
      "model_name": "OutputModel",
      "state": {
       "layout": "IPY_MODEL_ba1bfb0b56d74cf690842bd9f3c19636",
       "outputs": [
        {
         "name": "stdout",
         "output_type": "stream",
         "text": "Shape of one patient X: (4, 10, 10, 10), Y: (1, 10, 10, 10)\n"
        }
       ]
      }
     },
     "1a8d62c6d6784e3b8204562057974898": {
      "model_module": "@jupyter-widgets/controls",
      "model_module_version": "1.5.0",
      "model_name": "SliderStyleModel",
      "state": {
       "description_width": ""
      }
     },
     "1cf33aa23a074ac4b087c58157e494f3": {
      "model_module": "@jupyter-widgets/controls",
      "model_module_version": "1.5.0",
      "model_name": "TextModel",
      "state": {
       "description": "input_obj_shape",
       "layout": "IPY_MODEL_73388090b9a94adb935d535f2cf47ae3",
       "style": "IPY_MODEL_9c8facfbfc444370b203c9973f8488a6",
       "value": "(5,5,5)"
      }
     },
     "2188deb3d47e4e9ba32b9f778ee18d7e": {
      "model_module": "@jupyter-widgets/controls",
      "model_module_version": "1.5.0",
      "model_name": "CheckboxModel",
      "state": {
       "description": "shuffle_indexes",
       "disabled": false,
       "layout": "IPY_MODEL_8477a628448d448b82a47b4d4cec874d",
       "style": "IPY_MODEL_c77817373ec6443f876e6e53b97c26db",
       "value": false
      }
     },
     "2399e0f3a2e8410baedd420acd3dde3b": {
      "model_module": "@jupyter-widgets/controls",
      "model_module_version": "1.5.0",
      "model_name": "VBoxModel",
      "state": {
       "_dom_classes": [
        "widget-interact"
       ],
       "children": [
        "IPY_MODEL_8a323a427bb9447cbb254245868ea7be",
        "IPY_MODEL_034106fcfc494b9d8ebc2e53f6f2f416",
        "IPY_MODEL_a903c49ab23340c88abbae6d5b21222f",
        "IPY_MODEL_c4e2b7302d494f88af68955ad12ba0a4"
       ],
       "layout": "IPY_MODEL_efc68cf2ca194329820371929126441a"
      }
     },
     "270a8442312f40378fa14c167640ca74": {
      "model_module": "@jupyter-widgets/base",
      "model_module_version": "1.2.0",
      "model_name": "LayoutModel",
      "state": {}
     },
     "27cd328f834c4163b250856e978e0f2e": {
      "model_module": "@jupyter-widgets/controls",
      "model_module_version": "1.5.0",
      "model_name": "CheckboxModel",
      "state": {
       "description": "debug",
       "disabled": false,
       "layout": "IPY_MODEL_fb6bb0ed43c54c7d9741cb614950df33",
       "style": "IPY_MODEL_c6aafa58566148809c57b9a808ba1996",
       "value": true
      }
     },
     "2b2c286aa10a4ee89c071fe2ae7d26e0": {
      "model_module": "@jupyter-widgets/base",
      "model_module_version": "1.2.0",
      "model_name": "LayoutModel",
      "state": {}
     },
     "2c95dc82878547a5b67cb84a37c65052": {
      "model_module": "@jupyter-widgets/base",
      "model_module_version": "1.2.0",
      "model_name": "LayoutModel",
      "state": {}
     },
     "2d05f74ed4df4d848db46589ea22ce55": {
      "model_module": "@jupyter-widgets/base",
      "model_module_version": "1.2.0",
      "model_name": "LayoutModel",
      "state": {}
     },
     "2eddcdb3e89c4c54be9a6c0c09d05858": {
      "model_module": "@jupyter-widgets/controls",
      "model_module_version": "1.5.0",
      "model_name": "SliderStyleModel",
      "state": {
       "description_width": ""
      }
     },
     "32e23902f7bd4ae99a1194ddd63354ad": {
      "model_module": "@jupyter-widgets/controls",
      "model_module_version": "1.5.0",
      "model_name": "IntSliderModel",
      "state": {
       "description": "input_objects_",
       "layout": "IPY_MODEL_4b9fdf78ed5c4bbdb0fd734bd724d6f2",
       "max": 8,
       "min": 1,
       "style": "IPY_MODEL_853d0b040452488cb96672e7b5049df1",
       "value": 4
      }
     },
     "36e86838cf854dcd89872ea4c547e189": {
      "model_module": "@jupyter-widgets/controls",
      "model_module_version": "1.5.0",
      "model_name": "DescriptionStyleModel",
      "state": {
       "description_width": ""
      }
     },
     "36ff7755caf647de8b1ed86d6409afe5": {
      "model_module": "@jupyter-widgets/base",
      "model_module_version": "1.2.0",
      "model_name": "LayoutModel",
      "state": {}
     },
     "385d5a76f47b4a9c93a0e072fab07193": {
      "model_module": "@jupyter-widgets/controls",
      "model_module_version": "1.5.0",
      "model_name": "DescriptionStyleModel",
      "state": {
       "description_width": ""
      }
     },
     "38792cbd041749318f24ec9b8c7e9a2b": {
      "model_module": "@jupyter-widgets/output",
      "model_module_version": "1.0.0",
      "model_name": "OutputModel",
      "state": {
       "layout": "IPY_MODEL_96003cb8994d485092e213a8d8b7e23a",
       "outputs": [
        {
         "name": "stdout",
         "output_type": "stream",
         "text": "Shape of one patient X: (2, 5, 5, 5), Y: (4, 5, 5, 5)\n"
        }
       ]
      }
     },
     "392bb5f1e2ff4dc7b0fa5b15f44e613c": {
      "model_module": "@jupyter-widgets/output",
      "model_module_version": "1.0.0",
      "model_name": "OutputModel",
      "state": {
       "layout": "IPY_MODEL_5bad2ea6a491438abd11c9941863706a",
       "outputs": [
        {
         "name": "stdout",
         "output_type": "stream",
         "text": "selected batch: 24 of 49 with a batchsize of 10 and total 500 examples\nstart idx: 240, end idx: 250\nIndexes of the currrent batch: [240, 241, 242, 243, 244, 245, 246, 247, 248, 249]\n----------------------------------------\nindex: 240: value: [[[[240.2  240.73 240.28 ... 240.69 240.85 240.71]\n   [240.5  240.88 240.4  ... 240.53 240.18 240.73]\n   [240.16 240.43 240.65 ... 240.93 240.5  240.59]\n   ...\n   [240.76 240.47 240.16 ... 240.25 240.75 240.17]\n   [240.75 240.72 240.93 ... 240.61 240.21 240.52]\n   [240.05 240.6  240.99 ... 240.26 240.28 240.41]]\n\n  [[240.01 240.57 240.21 ... 240.57 240.17 240.69]\n   [240.5  240.66 241.   ... 240.1  240.92 240.23]\n   [240.01 240.43 240.34 ... 240.81 240.51 240.12]\n   ...\n   [240.53 240.31 240.23 ... 240.76 240.85 240.42]\n   [240.99 240.32 240.72 ... 240.59 240.75 240.34]\n   [240.12 240.22 240.69 ... 240.91 240.75 240.26]]\n\n  [[240.81 240.42 240.62 ... 240.9  240.67 240.12]\n   [240.15 240.03 240.46 ... 240.18 240.01 240.2 ]\n   [240.97 240.47 240.39 ... 240.12 240.14 240.3 ]\n   ...\n   [240.22 240.01 240.44 ... 240.97 241.   240.77]\n   [240.79 240.38 240.01 ... 240.29 240.52 240.35]\n   [240.86 240.42 240.7  ... 240.09 240.23 240.4 ]]\n\n  ...\n\n  [[240.17 240.52 240.75 ... 240.91 240.91 240.28]\n   [240.42 240.53 240.86 ... 240.29 240.33 240.03]\n   [240.45 240.77 241.   ... 240.31 240.42 240.79]\n   ...\n   [240.57 240.56 240.95 ... 240.6  240.21 240.71]\n   [240.84 240.22 240.08 ... 240.15 240.01 240.47]\n   [240.01 240.57 240.57 ... 240.62 240.86 240.6 ]]\n\n  [[240.05 240.16 240.35 ... 240.14 240.34 240.14]\n   [240.02 240.63 240.61 ... 240.45 240.33 240.28]\n   [240.23 240.8  240.65 ... 240.84 240.81 240.14]\n   ...\n   [240.38 240.7  240.62 ... 240.97 240.47 240.62]\n   [240.75 240.11 240.49 ... 240.99 240.11 240.64]\n   [240.77 240.53 240.28 ... 240.76 240.9  240.47]]\n\n  [[240.58 240.47 240.67 ... 240.23 240.09 240.1 ]\n   [240.22 240.09 240.34 ... 240.07 240.23 240.56]\n   [240.27 240.46 240.25 ... 240.74 240.99 240.13]\n   ...\n   [240.87 240.22 240.57 ... 240.74 240.06 240.02]\n   [240.94 240.12 240.91 ... 240.79 240.56 240.93]\n   [240.55 240.84 240.47 ... 240.71 240.38 240.15]]]\n\n\n [[[240.39 240.28 240.78 ... 240.12 240.98 240.97]\n   [240.88 240.09 240.04 ... 240.35 240.86 240.37]\n   [240.9  240.06 240.7  ... 240.1  240.19 240.52]\n   ...\n   [240.46 240.78 240.18 ... 240.37 240.59 240.83]\n   [240.23 240.49 240.18 ... 240.03 240.34 240.86]\n   [240.64 241.   240.02 ... 240.57 240.69 240.59]]\n\n  [[240.94 240.99 241.   ... 240.68 240.2  240.29]\n   [240.54 241.   240.6  ... 240.33 240.44 240.21]\n   [240.36 240.96 240.8  ... 240.43 240.57 240.58]\n   ...\n   [240.66 240.38 240.07 ... 240.23 240.97 240.68]\n   [240.11 240.22 240.02 ... 240.98 240.92 240.05]\n   [240.15 240.41 240.53 ... 240.07 240.15 240.7 ]]\n\n  [[240.02 240.38 240.45 ... 240.19 240.03 240.79]\n   [240.51 240.33 240.25 ... 240.65 240.22 240.45]\n   [240.57 240.02 240.11 ... 240.85 240.31 240.12]\n   ...\n   [240.8  240.16 240.49 ... 240.85 240.71 240.01]\n   [240.51 240.3  240.56 ... 240.48 240.65 240.48]\n   [240.98 240.06 240.33 ... 240.21 240.22 240.69]]\n\n  ...\n\n  [[240.98 240.9  240.07 ... 240.31 240.02 240.95]\n   [240.36 240.84 240.4  ... 240.39 240.78 240.85]\n   [240.85 240.14 240.9  ... 240.98 240.01 240.14]\n   ...\n   [240.09 240.63 240.8  ... 240.08 240.4  240.07]\n   [240.88 240.98 240.29 ... 240.14 240.36 240.15]\n   [240.5  240.82 240.3  ... 240.39 240.21 240.31]]\n\n  [[240.14 240.12 240.37 ... 240.26 240.57 240.95]\n   [240.34 240.09 240.48 ... 240.03 240.42 240.91]\n   [240.57 240.88 240.17 ... 240.34 240.32 240.7 ]\n   ...\n   [240.53 240.35 240.6  ... 240.46 240.97 240.56]\n   [240.06 240.75 240.99 ... 240.78 240.64 240.01]\n   [240.72 240.81 240.02 ... 240.31 240.05 240.45]]\n\n  [[240.21 240.21 240.26 ... 240.74 240.74 240.6 ]\n   [240.49 240.29 240.21 ... 240.64 240.08 240.69]\n   [240.53 240.34 240.79 ... 240.58 240.82 240.22]\n   ...\n   [240.95 240.49 240.8  ... 240.39 240.04 240.34]\n   [240.12 240.16 240.44 ... 240.68 240.73 240.  ]\n   [240.67 240.25 240.98 ... 240.21 240.24 240.64]]]\n\n\n [[[240.18 240.42 240.38 ... 240.94 240.35 241.  ]\n   [240.68 240.93 240.7  ... 240.85 240.98 240.07]\n   [240.3  240.78 240.83 ... 240.12 240.06 240.4 ]\n   ...\n   [240.52 240.69 240.97 ... 240.55 240.46 240.41]\n   [240.18 240.83 240.6  ... 240.05 240.15 240.37]\n   [240.94 240.76 240.6  ... 240.12 240.15 240.32]]\n\n  [[240.1  240.75 240.   ... 240.73 240.69 240.57]\n   [240.57 240.65 240.3  ... 240.57 240.4  240.06]\n   [240.78 240.24 240.89 ... 240.34 240.04 240.24]\n   ...\n   [240.21 240.33 240.26 ... 240.45 240.58 240.82]\n   [240.64 240.33 240.07 ... 240.21 240.21 240.66]\n   [240.71 240.17 240.2  ... 240.96 240.68 240.55]]\n\n  [[240.89 240.29 240.85 ... 240.66 240.76 240.4 ]\n   [240.14 240.33 240.77 ... 240.12 240.53 240.45]\n   [240.38 240.01 240.16 ... 240.03 240.49 240.97]\n   ...\n   [240.48 240.99 240.32 ... 240.78 240.88 240.06]\n   [240.17 240.15 240.48 ... 240.68 240.28 240.04]\n   [240.46 240.74 240.28 ... 240.91 240.54 240.66]]\n\n  ...\n\n  [[240.47 240.78 240.12 ... 240.58 240.88 240.18]\n   [240.65 240.56 240.14 ... 240.73 240.91 240.14]\n   [240.71 240.25 240.81 ... 240.07 240.83 240.58]\n   ...\n   [240.56 240.94 240.11 ... 240.4  240.38 240.03]\n   [240.4  240.46 240.77 ... 240.62 240.28 240.04]\n   [240.71 240.94 240.46 ... 240.24 240.47 240.77]]\n\n  [[240.25 240.03 240.2  ... 240.13 240.07 240.27]\n   [240.21 240.28 240.37 ... 240.01 240.85 240.98]\n   [240.3  240.91 240.5  ... 240.71 240.97 240.9 ]\n   ...\n   [240.85 240.56 240.75 ... 240.92 240.4  240.7 ]\n   [240.54 240.23 240.17 ... 240.11 240.75 240.86]\n   [240.56 240.02 240.31 ... 240.76 240.48 240.89]]\n\n  [[240.77 240.74 240.47 ... 240.53 240.08 240.13]\n   [240.17 240.3  240.42 ... 240.27 240.01 240.49]\n   [240.38 240.01 240.53 ... 240.83 240.98 240.07]\n   ...\n   [240.29 240.92 240.4  ... 240.67 240.27 240.81]\n   [240.38 240.39 240.61 ... 240.67 240.19 240.9 ]\n   [240.75 240.98 240.01 ... 240.16 240.76 240.55]]]\n\n\n [[[240.68 240.09 240.91 ... 240.25 240.98 240.91]\n   [240.75 240.05 240.41 ... 240.25 240.97 240.95]\n   [240.94 240.27 240.27 ... 240.8  240.61 240.15]\n   ...\n   [240.42 240.91 240.46 ... 240.99 240.04 240.32]\n   [240.29 240.27 240.67 ... 240.7  240.16 240.62]\n   [240.04 240.79 240.3  ... 240.26 240.18 240.11]]\n\n  [[240.9  240.39 240.75 ... 240.75 240.64 240.06]\n   [240.37 240.81 240.54 ... 240.81 240.41 240.86]\n   [240.58 240.29 240.49 ... 240.03 240.7  240.07]\n   ...\n   [240.48 240.97 240.74 ... 240.2  240.31 240.24]\n   [240.47 240.63 240.88 ... 240.23 240.24 240.45]\n   [240.03 240.77 240.15 ... 240.25 240.94 240.33]]\n\n  [[240.39 240.55 240.84 ... 240.39 240.36 240.73]\n   [240.   240.95 240.76 ... 240.39 240.12 240.07]\n   [240.55 240.65 240.59 ... 240.23 240.97 240.5 ]\n   ...\n   [240.39 240.22 240.05 ... 240.28 240.13 240.1 ]\n   [240.63 240.91 240.79 ... 240.82 240.26 240.68]\n   [240.93 240.72 240.59 ... 240.92 240.5  240.98]]\n\n  ...\n\n  [[240.33 240.41 240.28 ... 240.79 240.31 240.49]\n   [240.32 240.17 240.08 ... 240.11 240.3  240.43]\n   [240.85 240.65 240.14 ... 240.1  240.01 240.84]\n   ...\n   [240.47 240.58 240.76 ... 240.69 240.86 240.46]\n   [240.78 240.85 240.87 ... 240.77 240.38 240.47]\n   [240.46 240.67 240.58 ... 240.61 240.43 240.2 ]]\n\n  [[240.7  240.91 240.11 ... 240.14 240.94 240.8 ]\n   [240.32 240.92 240.26 ... 240.13 240.09 240.06]\n   [240.58 240.29 240.03 ... 240.01 240.53 240.47]\n   ...\n   [240.21 240.65 240.25 ... 240.48 240.52 240.75]\n   [240.48 240.35 240.85 ... 240.16 240.72 240.26]\n   [240.93 240.83 240.42 ... 240.54 240.88 240.5 ]]\n\n  [[240.32 240.05 240.71 ... 240.74 240.1  240.25]\n   [240.92 240.79 240.86 ... 240.93 240.67 240.17]\n   [240.29 240.63 240.12 ... 240.76 240.52 240.67]\n   ...\n   [240.07 240.3  240.07 ... 240.24 240.88 240.23]\n   [240.39 240.38 240.97 ... 240.46 240.68 240.94]\n   [240.98 240.19 240.95 ... 240.5  240.91 240.44]]]]\nindex: 241: value: [[[[241.01 241.45 241.05 ... 241.25 241.56 241.39]\n   [241.72 241.47 241.27 ... 241.81 241.21 241.06]\n   [241.51 241.17 241.71 ... 241.04 241.58 241.46]\n   ...\n   [241.55 241.45 241.05 ... 241.8  241.19 241.6 ]\n   [241.44 241.56 241.09 ... 241.95 241.5  241.38]\n   [241.87 241.72 241.28 ... 241.98 241.14 241.82]]\n\n  [[241.23 241.99 241.96 ... 241.88 242.   241.87]\n   [241.22 241.51 241.88 ... 241.75 241.91 241.38]\n   [241.32 241.34 241.94 ... 241.48 241.13 241.52]\n   ...\n   [241.25 241.46 241.46 ... 241.06 241.4  241.91]\n   [241.47 241.07 241.5  ... 241.16 241.4  241.17]\n   [241.1  241.87 241.53 ... 241.88 241.52 241.49]]\n\n  [[241.89 241.07 241.9  ... 241.1  241.87 241.93]\n   [241.3  241.24 241.02 ... 241.   241.03 241.31]\n   [241.56 241.69 241.36 ... 241.82 241.95 241.75]\n   ...\n   [241.06 241.55 241.57 ... 241.01 241.17 241.46]\n   [241.56 241.33 241.28 ... 241.27 241.84 241.68]\n   [241.44 241.94 241.9  ... 241.53 241.81 242.  ]]\n\n  ...\n\n  [[241.61 241.98 241.12 ... 241.01 241.73 241.95]\n   [241.4  241.68 241.63 ... 241.07 241.38 241.2 ]\n   [241.02 241.41 241.62 ... 241.4  241.6  241.59]\n   ...\n   [241.86 241.76 241.33 ... 241.3  241.85 241.32]\n   [241.18 241.59 241.91 ... 241.9  241.42 241.66]\n   [241.22 241.04 241.74 ... 241.04 241.36 241.16]]\n\n  [[241.65 241.18 241.9  ... 241.48 241.51 241.96]\n   [241.31 241.52 241.64 ... 241.38 241.17 241.84]\n   [241.31 241.29 241.39 ... 241.53 241.43 241.35]\n   ...\n   [241.57 241.67 241.87 ... 241.15 241.68 241.93]\n   [241.25 241.87 241.88 ... 241.02 241.71 241.8 ]\n   [241.12 241.19 241.46 ... 241.39 241.54 241.19]]\n\n  [[241.66 241.57 241.57 ... 241.38 241.43 241.59]\n   [241.44 241.24 241.62 ... 241.69 241.41 241.92]\n   [241.78 241.52 241.21 ... 241.52 241.12 241.01]\n   ...\n   [241.25 241.26 241.7  ... 241.23 241.1  241.11]\n   [241.72 241.88 241.24 ... 241.17 241.25 241.38]\n   [241.13 241.71 241.36 ... 241.6  241.36 241.72]]]\n\n\n [[[241.47 241.71 241.35 ... 241.9  241.13 241.16]\n   [241.74 241.96 241.75 ... 241.56 241.61 241.26]\n   [241.9  241.36 241.1  ... 241.49 241.47 241.04]\n   ...\n   [241.33 241.57 241.43 ... 241.92 241.47 241.53]\n   [241.25 241.08 241.36 ... 241.35 241.45 241.76]\n   [241.68 241.19 241.67 ... 241.59 241.25 241.64]]\n\n  [[241.33 241.79 241.62 ... 241.06 241.11 241.2 ]\n   [241.39 241.96 241.55 ... 241.17 241.38 241.72]\n   [241.75 241.14 241.07 ... 241.82 241.38 241.53]\n   ...\n   [241.68 241.73 241.68 ... 241.04 241.93 241.82]\n   [241.55 241.29 241.03 ... 241.46 241.86 241.44]\n   [241.72 241.62 241.35 ... 241.83 241.17 241.22]]\n\n  [[241.65 241.33 241.67 ... 241.24 241.35 241.37]\n   [241.6  241.81 241.42 ... 241.77 241.99 241.25]\n   [241.2  241.78 241.32 ... 241.45 241.99 241.74]\n   ...\n   [241.81 241.67 241.24 ... 241.09 241.37 241.39]\n   [241.82 241.87 241.88 ... 241.45 241.83 241.66]\n   [241.34 241.84 241.11 ... 241.31 241.43 241.71]]\n\n  ...\n\n  [[241.73 241.68 241.29 ... 241.07 241.8  241.95]\n   [241.31 241.38 241.64 ... 241.8  241.5  241.15]\n   [241.84 241.01 241.7  ... 241.5  241.34 241.86]\n   ...\n   [241.14 241.71 241.08 ... 241.62 241.12 241.25]\n   [241.57 241.02 241.85 ... 241.33 241.71 241.73]\n   [241.84 241.98 241.85 ... 241.03 241.63 241.48]]\n\n  [[241.66 241.22 241.23 ... 241.02 241.08 241.17]\n   [241.8  241.01 241.27 ... 241.29 241.79 241.15]\n   [241.69 241.13 241.77 ... 241.66 241.1  241.57]\n   ...\n   [241.72 241.48 241.72 ... 241.98 241.96 241.82]\n   [241.41 241.99 241.46 ... 241.68 241.37 241.67]\n   [241.06 241.76 241.06 ... 241.53 241.91 241.54]]\n\n  [[241.31 241.73 241.46 ... 241.04 241.71 241.64]\n   [241.65 241.97 241.7  ... 241.82 241.65 241.65]\n   [241.84 241.61 241.07 ... 241.24 241.75 241.11]\n   ...\n   [241.09 241.94 241.78 ... 241.48 241.74 241.93]\n   [241.94 241.54 241.71 ... 241.52 241.78 241.02]\n   [241.46 241.94 241.81 ... 241.33 241.81 241.05]]]\n\n\n [[[241.87 241.53 241.02 ... 241.19 241.46 241.83]\n   [241.79 241.56 241.47 ... 241.1  241.31 241.95]\n   [241.71 241.35 241.29 ... 241.96 241.22 241.11]\n   ...\n   [241.91 241.64 241.85 ... 241.04 241.56 241.58]\n   [241.27 241.16 241.11 ... 241.59 241.92 241.27]\n   [241.6  241.63 241.71 ... 241.57 241.99 241.89]]\n\n  [[241.34 241.32 241.16 ... 241.86 241.03 241.3 ]\n   [241.4  241.98 241.81 ... 241.69 241.44 241.2 ]\n   [241.12 241.81 241.17 ... 241.91 241.4  241.61]\n   ...\n   [241.65 241.37 241.23 ... 241.77 241.29 241.81]\n   [241.42 241.32 242.   ... 241.18 241.55 241.1 ]\n   [241.06 241.65 241.1  ... 241.12 241.6  241.57]]\n\n  [[241.5  241.68 241.59 ... 241.63 241.48 241.56]\n   [241.71 241.56 241.4  ... 241.17 241.26 241.33]\n   [241.44 241.96 241.23 ... 241.51 241.95 241.54]\n   ...\n   [241.82 241.7  241.96 ... 241.73 241.23 241.84]\n   [241.79 241.91 241.23 ... 241.22 241.04 241.52]\n   [241.   241.03 241.6  ... 241.71 241.09 241.21]]\n\n  ...\n\n  [[241.01 241.36 241.48 ... 241.28 241.94 241.84]\n   [241.16 241.25 241.59 ... 241.57 241.34 241.48]\n   [241.37 241.27 241.73 ... 241.8  241.95 241.38]\n   ...\n   [241.55 241.63 241.41 ... 241.28 241.87 241.83]\n   [241.13 241.13 241.59 ... 241.43 241.12 241.3 ]\n   [241.78 241.3  241.58 ... 241.83 241.72 241.82]]\n\n  [[241.15 241.15 241.56 ... 241.74 241.43 241.05]\n   [241.99 241.4  241.22 ... 241.04 241.89 241.98]\n   [241.32 241.97 241.67 ... 241.43 241.78 241.31]\n   ...\n   [241.98 241.52 241.79 ... 241.11 241.58 241.94]\n   [241.16 241.1  241.28 ... 241.56 241.39 241.8 ]\n   [241.77 241.4  241.99 ... 241.95 241.37 241.9 ]]\n\n  [[241.58 241.76 241.96 ... 241.13 241.67 241.42]\n   [241.17 241.84 241.61 ... 241.3  241.16 241.22]\n   [241.3  241.35 241.84 ... 241.38 241.53 241.1 ]\n   ...\n   [241.69 241.61 241.03 ... 241.56 241.17 241.3 ]\n   [241.01 241.61 241.64 ... 241.57 241.72 241.31]\n   [241.3  241.8  241.51 ... 241.02 241.3  241.74]]]\n\n\n [[[241.62 241.71 241.35 ... 241.95 241.54 241.13]\n   [241.52 241.7  241.41 ... 241.82 241.07 241.13]\n   [241.77 241.42 241.03 ... 241.4  241.02 241.62]\n   ...\n   [241.8  241.4  241.37 ... 241.43 241.39 241.58]\n   [241.44 241.73 241.34 ... 241.53 241.19 241.68]\n   [241.95 241.15 241.56 ... 241.45 241.85 241.47]]\n\n  [[241.95 241.73 241.32 ... 241.79 241.95 241.1 ]\n   [241.22 241.82 241.75 ... 241.19 241.48 241.93]\n   [241.48 241.04 241.34 ... 241.14 241.9  241.27]\n   ...\n   [241.16 241.15 241.96 ... 241.74 241.19 241.73]\n   [241.1  241.89 241.63 ... 241.41 241.12 241.49]\n   [241.51 241.2  241.7  ... 241.81 241.95 241.77]]\n\n  [[241.26 241.25 241.3  ... 241.35 241.22 241.31]\n   [241.63 241.49 241.66 ... 241.37 241.21 241.72]\n   [241.19 241.59 241.42 ... 241.25 241.12 241.84]\n   ...\n   [241.22 241.62 241.94 ... 241.58 241.73 241.69]\n   [241.18 241.69 241.72 ... 241.25 241.94 241.1 ]\n   [241.74 241.37 241.77 ... 241.26 241.82 241.96]]\n\n  ...\n\n  [[241.79 241.46 241.04 ... 241.3  241.77 241.38]\n   [241.42 241.9  241.84 ... 241.15 241.63 241.59]\n   [241.43 241.05 241.02 ... 241.06 241.64 241.39]\n   ...\n   [241.3  241.45 241.07 ... 241.35 241.06 241.2 ]\n   [241.58 241.93 241.1  ... 241.65 241.94 241.46]\n   [241.78 241.09 241.1  ... 241.04 241.96 241.44]]\n\n  [[241.03 241.94 241.5  ... 241.03 241.49 241.65]\n   [241.37 241.02 241.75 ... 241.01 241.16 241.62]\n   [241.8  241.81 241.37 ... 241.8  241.95 241.57]\n   ...\n   [241.99 241.3  241.32 ... 241.98 241.59 241.6 ]\n   [241.66 241.5  241.76 ... 241.87 241.32 241.73]\n   [242.   241.08 241.59 ... 241.47 241.78 241.3 ]]\n\n  [[241.68 241.66 241.07 ... 241.81 241.45 241.85]\n   [241.15 241.61 241.88 ... 241.18 241.27 241.28]\n   [241.16 241.12 241.88 ... 241.4  241.6  241.28]\n   ...\n   [241.57 241.07 241.34 ... 241.63 241.45 241.69]\n   [241.95 241.22 241.35 ... 241.29 241.97 241.96]\n   [241.09 241.33 241.3  ... 241.04 241.86 241.08]]]]\nindex: 242: value: [[[[242.71 242.19 242.7  ... 242.85 242.87 242.87]\n   [242.2  242.73 242.65 ... 242.89 242.32 242.8 ]\n   [242.45 242.96 242.84 ... 242.96 242.03 242.19]\n   ...\n   [242.61 242.13 242.2  ... 242.59 242.78 242.98]\n   [242.35 242.4  242.98 ... 242.14 242.66 242.18]\n   [242.21 242.52 242.53 ... 242.39 242.78 242.57]]\n\n  [[242.45 242.53 242.04 ... 242.44 242.81 242.95]\n   [242.73 242.42 242.99 ... 242.9  242.36 242.16]\n   [242.95 242.66 242.01 ... 242.24 242.36 242.57]\n   ...\n   [242.11 242.93 242.91 ... 242.81 242.16 242.55]\n   [242.29 242.31 242.53 ... 242.07 242.76 242.57]\n   [242.68 242.53 242.22 ... 242.66 242.76 242.9 ]]\n\n  [[242.94 242.21 242.47 ... 242.24 242.95 242.16]\n   [242.22 242.52 242.56 ... 242.22 242.12 242.22]\n   [242.12 242.86 242.09 ... 242.72 242.21 242.34]\n   ...\n   [242.99 242.96 242.9  ... 242.14 242.48 242.55]\n   [242.1  242.97 242.89 ... 242.39 242.68 242.95]\n   [242.88 242.47 242.39 ... 242.39 242.55 242.74]]\n\n  ...\n\n  [[242.52 242.23 242.06 ... 242.29 242.27 242.88]\n   [242.6  242.8  242.86 ... 242.39 242.26 242.12]\n   [242.91 242.15 242.51 ... 242.64 242.84 242.13]\n   ...\n   [242.88 242.15 242.2  ... 242.19 242.25 242.74]\n   [242.   242.35 242.61 ... 242.34 242.56 242.51]\n   [242.11 242.15 242.35 ... 242.75 242.19 242.28]]\n\n  [[242.31 242.75 242.56 ... 242.9  242.04 242.06]\n   [242.54 242.94 242.44 ... 242.16 242.09 242.09]\n   [242.34 242.5  242.16 ... 242.29 242.13 242.77]\n   ...\n   [242.57 242.21 242.92 ... 242.74 242.24 242.07]\n   [242.86 242.19 242.96 ... 242.69 242.06 242.35]\n   [242.43 242.07 242.69 ... 242.41 242.44 242.74]]\n\n  [[242.01 242.65 242.02 ... 242.35 242.91 242.49]\n   [242.71 242.2  242.52 ... 242.67 242.92 242.27]\n   [242.25 242.69 242.12 ... 242.78 242.1  242.65]\n   ...\n   [242.01 242.42 242.01 ... 242.38 242.36 242.12]\n   [242.8  242.3  242.12 ... 242.51 242.01 242.12]\n   [242.15 242.34 242.96 ... 242.64 242.34 242.48]]]\n\n\n [[[242.89 242.27 242.23 ... 242.21 242.42 242.29]\n   [242.95 242.47 242.71 ... 242.92 242.88 242.95]\n   [242.57 242.26 242.43 ... 242.57 242.09 242.19]\n   ...\n   [242.87 242.03 242.81 ... 242.36 242.61 242.13]\n   [242.22 242.65 242.8  ... 242.14 242.02 242.85]\n   [242.25 242.89 242.94 ... 242.12 242.12 242.48]]\n\n  [[242.12 242.43 242.33 ... 242.82 242.88 242.12]\n   [242.21 242.17 242.28 ... 242.42 242.23 242.26]\n   [242.46 242.36 242.22 ... 242.58 242.52 242.  ]\n   ...\n   [242.4  242.7  242.92 ... 242.66 242.73 242.24]\n   [242.49 242.71 242.72 ... 242.92 242.59 242.84]\n   [242.41 242.45 242.1  ... 242.36 242.79 242.35]]\n\n  [[242.31 242.61 242.6  ... 242.4  242.35 242.76]\n   [242.75 242.55 242.57 ... 242.94 242.96 242.19]\n   [242.44 242.93 242.2  ... 242.16 242.97 242.64]\n   ...\n   [242.53 242.03 242.19 ... 242.7  242.87 242.16]\n   [242.22 242.06 242.61 ... 242.12 242.38 242.59]\n   [242.86 242.48 242.8  ... 242.81 242.04 242.15]]\n\n  ...\n\n  [[242.55 242.33 242.46 ... 242.54 242.76 242.14]\n   [242.68 242.12 242.24 ... 242.06 242.07 242.22]\n   [242.07 242.08 242.94 ... 242.19 242.64 242.94]\n   ...\n   [242.55 242.88 242.23 ... 242.07 242.21 242.93]\n   [242.32 242.22 242.67 ... 242.99 242.83 242.29]\n   [242.41 242.29 242.39 ... 242.21 242.3  242.74]]\n\n  [[242.77 242.09 242.47 ... 242.88 242.63 242.34]\n   [242.15 242.05 242.99 ... 242.24 242.65 242.32]\n   [242.48 242.58 242.22 ... 242.69 242.85 242.68]\n   ...\n   [242.22 242.75 242.76 ... 242.63 242.33 242.79]\n   [242.6  242.76 242.92 ... 242.71 242.08 242.7 ]\n   [242.75 242.93 242.55 ... 242.64 242.85 242.87]]\n\n  [[242.95 242.29 242.89 ... 242.58 242.59 242.9 ]\n   [242.13 242.26 242.94 ... 242.17 242.8  242.73]\n   [242.41 242.61 242.69 ... 242.35 242.15 242.32]\n   ...\n   [242.88 242.99 242.81 ... 242.26 242.41 242.51]\n   [242.77 242.35 242.09 ... 242.1  242.36 242.5 ]\n   [242.42 242.72 242.59 ... 242.28 242.54 242.08]]]\n\n\n [[[242.71 242.84 242.29 ... 242.22 242.89 242.47]\n   [242.03 242.89 242.9  ... 242.15 242.03 242.22]\n   [242.08 242.47 242.56 ... 242.05 242.45 242.86]\n   ...\n   [242.14 242.87 242.93 ... 242.56 242.59 242.95]\n   [242.66 242.09 242.04 ... 242.11 242.07 242.7 ]\n   [242.15 242.14 242.84 ... 242.84 242.96 242.63]]\n\n  [[242.07 242.22 242.66 ... 242.32 242.86 242.04]\n   [242.91 242.96 242.09 ... 242.99 242.99 242.87]\n   [242.51 242.92 242.31 ... 242.6  242.74 242.12]\n   ...\n   [242.38 242.42 242.04 ... 242.14 242.43 242.14]\n   [242.78 242.72 242.46 ... 242.28 242.83 242.13]\n   [242.79 242.06 242.25 ... 242.98 242.45 242.91]]\n\n  [[242.48 242.85 242.2  ... 242.16 242.91 242.09]\n   [242.44 242.02 242.3  ... 242.99 242.02 242.47]\n   [242.83 242.9  242.04 ... 242.72 242.69 242.35]\n   ...\n   [242.12 242.57 242.29 ... 242.98 242.41 242.62]\n   [242.8  242.57 242.89 ... 242.01 242.65 242.82]\n   [242.6  242.71 242.96 ... 242.21 242.58 242.67]]\n\n  ...\n\n  [[242.97 242.5  242.84 ... 242.63 242.86 242.25]\n   [242.11 242.19 242.58 ... 242.35 242.64 242.74]\n   [242.26 242.14 242.33 ... 242.04 242.46 242.9 ]\n   ...\n   [242.88 242.58 242.49 ... 242.44 242.03 242.2 ]\n   [242.66 242.16 242.68 ... 242.39 242.96 242.92]\n   [242.17 242.85 242.19 ... 242.19 242.33 242.78]]\n\n  [[242.43 242.9  242.47 ... 242.2  242.69 242.95]\n   [242.21 242.53 242.35 ... 242.63 242.53 242.32]\n   [242.8  242.83 242.58 ... 242.42 242.66 242.68]\n   ...\n   [242.94 242.38 242.75 ... 242.9  242.52 242.22]\n   [242.28 242.17 242.87 ... 242.7  242.11 242.75]\n   [242.69 242.79 242.68 ... 242.43 242.12 242.55]]\n\n  [[242.6  242.74 242.33 ... 242.47 242.37 242.49]\n   [243.   242.   242.64 ... 242.58 242.94 242.71]\n   [242.51 242.91 242.85 ... 242.32 242.01 242.91]\n   ...\n   [242.59 242.72 242.06 ... 242.56 242.84 242.01]\n   [242.43 242.18 242.73 ... 242.54 242.2  242.15]\n   [242.91 242.04 242.71 ... 242.53 242.35 242.08]]]\n\n\n [[[242.9  242.48 242.84 ... 242.31 242.86 242.48]\n   [242.82 242.41 242.92 ... 242.6  242.34 242.73]\n   [242.04 242.45 242.91 ... 242.9  242.47 242.89]\n   ...\n   [242.   242.06 242.19 ... 242.7  242.5  242.29]\n   [242.76 242.9  242.15 ... 242.22 242.67 242.97]\n   [242.75 242.61 242.12 ... 242.11 242.62 242.37]]\n\n  [[242.64 242.35 242.7  ... 242.59 242.76 242.31]\n   [242.34 242.25 242.53 ... 242.71 242.32 242.55]\n   [242.69 242.59 242.64 ... 242.88 242.84 242.41]\n   ...\n   [242.35 242.62 242.69 ... 242.82 242.66 242.06]\n   [242.43 242.39 242.98 ... 242.69 242.48 242.5 ]\n   [242.64 242.08 242.69 ... 242.1  242.17 242.07]]\n\n  [[242.93 242.36 242.19 ... 242.2  242.06 242.65]\n   [242.23 242.03 242.79 ... 242.13 242.28 242.98]\n   [242.36 242.22 242.96 ... 242.25 242.75 242.56]\n   ...\n   [242.48 242.47 242.12 ... 242.27 242.18 242.19]\n   [242.31 242.68 242.96 ... 242.58 242.21 242.85]\n   [242.41 242.51 242.91 ... 242.02 242.58 242.99]]\n\n  ...\n\n  [[242.3  242.13 242.43 ... 242.73 242.74 242.12]\n   [242.19 242.1  242.66 ... 242.56 242.6  242.15]\n   [242.52 242.73 242.24 ... 242.02 242.01 242.51]\n   ...\n   [242.41 242.87 242.59 ... 242.9  242.95 242.63]\n   [242.17 242.31 242.26 ... 242.26 242.27 242.71]\n   [242.91 242.08 242.39 ... 242.7  242.8  242.65]]\n\n  [[242.89 242.81 242.98 ... 242.91 242.4  242.49]\n   [242.26 242.1  242.53 ... 242.05 242.6  242.51]\n   [242.23 242.61 242.42 ... 242.09 242.14 242.46]\n   ...\n   [242.34 242.87 242.95 ... 242.04 242.25 242.53]\n   [242.87 242.43 242.98 ... 242.84 242.9  242.24]\n   [242.63 242.59 242.94 ... 242.86 242.91 242.43]]\n\n  [[242.99 242.78 242.65 ... 242.12 242.99 242.77]\n   [242.39 242.8  242.41 ... 242.73 242.26 242.91]\n   [242.07 242.32 242.29 ... 242.54 242.25 242.41]\n   ...\n   [242.59 242.8  242.85 ... 242.76 242.52 242.37]\n   [242.42 242.49 242.38 ... 242.14 242.33 242.13]\n   [242.02 242.87 242.91 ... 242.37 242.81 242.59]]]]\nindex: 243: value: [[[[243.76 243.88 243.35 ... 243.38 243.49 243.08]\n   [243.04 243.94 243.87 ... 243.64 243.44 243.67]\n   [243.57 243.43 243.19 ... 243.89 243.72 243.43]\n   ...\n   [243.21 243.02 243.61 ... 243.78 243.13 243.71]\n   [243.81 243.05 243.27 ... 243.28 243.67 243.65]\n   [243.87 243.93 243.9  ... 243.36 243.88 243.63]]\n\n  [[243.32 243.98 243.51 ... 243.37 243.33 243.91]\n   [243.61 243.27 243.24 ... 243.03 243.11 243.66]\n   [243.65 243.44 243.12 ... 243.74 243.49 243.1 ]\n   ...\n   [243.66 243.42 243.17 ... 243.27 243.44 243.02]\n   [243.05 243.9  243.78 ... 243.48 243.73 243.38]\n   [243.74 243.3  243.49 ... 243.94 243.63 243.06]]\n\n  [[243.45 243.97 243.44 ... 243.48 243.18 243.59]\n   [243.88 243.08 243.43 ... 243.09 243.66 243.25]\n   [243.08 243.14 243.44 ... 243.73 243.56 243.04]\n   ...\n   [243.12 243.55 243.28 ... 243.02 243.2  243.43]\n   [243.41 243.21 243.01 ... 243.86 243.05 243.68]\n   [243.47 243.17 243.4  ... 243.51 243.64 243.17]]\n\n  ...\n\n  [[243.79 243.17 243.08 ... 243.8  243.66 243.8 ]\n   [243.11 243.5  243.02 ... 243.39 243.58 243.01]\n   [243.93 243.23 243.75 ... 243.35 243.63 243.88]\n   ...\n   [243.11 243.84 243.95 ... 243.8  243.34 243.36]\n   [243.48 243.51 243.4  ... 243.22 243.36 243.82]\n   [243.63 243.86 243.26 ... 243.37 243.73 243.98]]\n\n  [[243.18 243.95 243.12 ... 243.93 243.43 243.72]\n   [243.41 243.47 243.52 ... 243.83 243.23 243.74]\n   [243.39 243.54 243.75 ... 243.02 243.59 243.73]\n   ...\n   [243.93 243.87 243.56 ... 243.1  243.58 243.01]\n   [243.21 243.9  243.25 ... 243.24 243.8  243.85]\n   [243.15 243.7  243.76 ... 243.39 243.41 243.61]]\n\n  [[243.9  243.54 243.13 ... 243.05 243.22 243.94]\n   [243.06 243.37 243.44 ... 243.16 244.   243.06]\n   [243.35 243.27 243.57 ... 243.02 243.36 243.15]\n   ...\n   [243.55 243.3  243.79 ... 243.07 243.4  243.38]\n   [243.21 243.08 243.78 ... 243.64 243.33 243.46]\n   [243.49 243.97 243.04 ... 243.22 243.61 243.77]]]\n\n\n [[[243.33 243.97 243.9  ... 243.88 243.94 243.98]\n   [243.88 243.18 243.62 ... 243.97 243.53 243.81]\n   [243.42 243.37 243.7  ... 243.8  243.55 243.81]\n   ...\n   [243.99 243.41 243.35 ... 243.64 243.27 243.06]\n   [243.44 243.04 243.57 ... 243.09 243.78 243.67]\n   [243.01 243.84 243.3  ... 243.77 243.76 243.55]]\n\n  [[243.47 243.1  243.1  ... 243.05 243.   243.44]\n   [243.71 243.29 243.04 ... 243.88 243.62 243.55]\n   [243.29 243.64 243.01 ... 243.08 243.58 243.33]\n   ...\n   [243.96 243.05 243.91 ... 243.64 243.84 243.97]\n   [243.88 243.39 243.33 ... 243.53 243.45 243.73]\n   [243.28 243.81 243.2  ... 243.5  243.75 243.38]]\n\n  [[243.06 243.91 243.84 ... 243.69 243.16 243.15]\n   [243.94 243.54 243.31 ... 243.65 243.16 243.78]\n   [243.07 243.88 243.54 ... 243.01 243.69 243.46]\n   ...\n   [243.12 243.68 243.22 ... 243.93 243.11 243.95]\n   [243.79 243.25 243.72 ... 243.75 243.42 243.71]\n   [243.59 243.48 243.78 ... 243.25 243.3  243.82]]\n\n  ...\n\n  [[243.96 243.07 243.87 ... 243.24 243.77 243.85]\n   [243.75 243.74 243.86 ... 243.03 243.55 244.  ]\n   [243.02 243.41 243.17 ... 243.16 243.23 243.9 ]\n   ...\n   [243.76 243.93 243.85 ... 243.27 243.37 243.03]\n   [243.92 243.23 243.73 ... 243.94 243.11 243.23]\n   [243.96 243.35 243.54 ... 243.49 243.14 243.89]]\n\n  [[243.67 243.96 243.15 ... 243.09 243.16 243.23]\n   [243.51 244.   243.85 ... 243.43 243.15 243.56]\n   [243.71 243.5  243.71 ... 243.96 243.46 243.93]\n   ...\n   [243.61 243.2  243.41 ... 243.05 243.21 243.09]\n   [243.5  243.81 243.07 ... 243.9  243.86 243.82]\n   [243.32 243.23 243.07 ... 243.88 243.01 243.66]]\n\n  [[243.94 243.14 244.   ... 243.09 243.57 243.57]\n   [243.57 243.55 243.8  ... 243.07 243.88 243.48]\n   [243.55 243.67 243.08 ... 243.08 243.65 243.84]\n   ...\n   [243.47 243.17 243.42 ... 243.97 243.54 243.39]\n   [243.93 243.29 243.48 ... 243.76 243.02 243.01]\n   [243.15 243.22 243.22 ... 243.5  243.35 243.06]]]\n\n\n [[[243.73 243.33 243.21 ... 243.9  243.13 243.35]\n   [243.32 243.21 243.6  ... 243.64 243.19 243.64]\n   [243.77 243.17 243.26 ... 243.67 243.34 243.9 ]\n   ...\n   [243.3  243.59 243.31 ... 243.13 243.7  243.78]\n   [243.57 243.31 243.71 ... 243.28 243.73 243.73]\n   [243.79 243.4  243.64 ... 243.53 243.34 243.19]]\n\n  [[243.79 243.81 243.07 ... 243.88 243.05 243.71]\n   [243.09 243.26 243.39 ... 243.37 243.74 243.16]\n   [243.99 243.58 243.17 ... 243.86 243.67 243.6 ]\n   ...\n   [243.64 243.93 243.59 ... 243.82 243.22 243.08]\n   [243.17 243.95 243.54 ... 243.72 243.86 243.08]\n   [243.97 243.23 243.49 ... 243.   243.77 243.84]]\n\n  [[243.36 243.09 243.11 ... 243.95 243.18 243.64]\n   [243.07 243.57 243.2  ... 243.54 243.66 243.21]\n   [243.81 243.03 243.77 ... 243.23 243.26 243.93]\n   ...\n   [243.19 243.69 243.78 ... 243.21 243.87 243.21]\n   [243.45 243.33 243.52 ... 243.07 243.34 243.14]\n   [243.48 243.02 243.07 ... 243.47 243.97 243.34]]\n\n  ...\n\n  [[243.43 243.63 243.79 ... 243.81 243.82 243.38]\n   [243.19 243.73 243.07 ... 243.81 243.99 243.18]\n   [243.99 243.87 243.14 ... 243.26 243.88 243.04]\n   ...\n   [243.53 243.48 243.67 ... 243.39 243.8  243.77]\n   [243.21 243.38 243.66 ... 243.19 243.02 243.54]\n   [243.47 243.29 243.82 ... 243.81 243.63 243.86]]\n\n  [[243.83 243.25 243.15 ... 243.34 243.66 243.07]\n   [243.52 243.98 243.22 ... 243.01 243.24 243.85]\n   [243.17 243.34 243.32 ... 243.38 243.14 243.39]\n   ...\n   [243.   243.85 243.57 ... 243.14 243.72 243.35]\n   [243.96 243.5  243.61 ... 243.19 243.61 243.24]\n   [243.79 243.58 243.11 ... 243.48 243.22 243.44]]\n\n  [[243.71 243.37 243.83 ... 243.76 243.59 243.01]\n   [243.6  243.95 243.63 ... 243.3  243.62 243.5 ]\n   [243.02 243.41 243.57 ... 243.74 243.96 243.3 ]\n   ...\n   [243.34 243.82 243.12 ... 243.17 243.63 243.5 ]\n   [243.19 243.91 243.79 ... 243.01 243.15 243.05]\n   [243.64 243.18 243.6  ... 243.2  243.36 243.93]]]\n\n\n [[[243.8  243.91 243.35 ... 243.87 243.04 243.84]\n   [243.81 243.22 243.17 ... 243.18 243.34 243.44]\n   [243.38 243.48 243.73 ... 243.49 243.95 243.16]\n   ...\n   [243.13 243.26 243.8  ... 243.69 243.05 243.08]\n   [243.27 243.08 243.9  ... 243.59 243.54 243.06]\n   [243.16 243.03 243.62 ... 243.24 243.71 243.39]]\n\n  [[243.68 243.9  243.2  ... 243.82 243.49 243.08]\n   [243.12 243.51 243.77 ... 243.94 243.19 243.49]\n   [243.52 243.79 243.36 ... 243.43 243.49 243.58]\n   ...\n   [243.92 243.44 243.1  ... 243.45 243.06 243.15]\n   [243.58 243.3  243.56 ... 243.27 243.68 243.05]\n   [243.21 243.99 243.76 ... 243.33 243.15 243.57]]\n\n  [[243.38 244.   243.46 ... 243.35 243.48 243.74]\n   [243.31 243.92 243.83 ... 243.85 243.43 243.24]\n   [243.91 243.7  243.23 ... 243.72 243.97 243.31]\n   ...\n   [243.91 243.78 243.73 ... 243.47 243.52 243.76]\n   [243.16 243.7  243.66 ... 243.67 243.8  243.28]\n   [243.32 243.24 243.12 ... 243.41 243.55 243.1 ]]\n\n  ...\n\n  [[243.87 243.26 243.07 ... 243.19 243.24 243.78]\n   [243.41 243.77 243.67 ... 243.88 243.84 243.25]\n   [243.57 243.65 243.5  ... 243.83 243.96 243.51]\n   ...\n   [243.1  243.51 243.04 ... 243.32 243.82 243.29]\n   [243.43 243.46 243.64 ... 243.15 243.28 243.46]\n   [243.14 243.4  243.11 ... 243.5  243.14 243.11]]\n\n  [[243.31 243.57 243.33 ... 243.93 243.36 243.27]\n   [243.69 243.46 243.97 ... 243.4  243.17 243.41]\n   [243.18 243.42 243.49 ... 243.31 243.83 243.52]\n   ...\n   [243.91 243.96 243.49 ... 243.23 243.89 243.8 ]\n   [243.35 243.38 243.41 ... 243.05 243.75 243.14]\n   [243.67 243.32 243.26 ... 243.65 243.67 243.71]]\n\n  [[243.89 243.71 243.24 ... 243.82 243.78 243.75]\n   [243.04 243.29 243.74 ... 243.81 243.5  243.2 ]\n   [243.72 243.72 243.37 ... 243.59 243.5  243.88]\n   ...\n   [243.12 243.86 243.59 ... 243.79 243.13 243.14]\n   [243.23 243.81 243.03 ... 243.16 243.47 243.24]\n   [243.33 243.36 243.06 ... 243.74 243.65 243.91]]]]\nindex: 244: value: [[[[244.45 244.73 244.18 ... 244.01 244.65 244.7 ]\n   [244.82 244.29 244.28 ... 244.15 244.83 244.6 ]\n   [244.23 244.04 244.59 ... 244.9  244.47 244.69]\n   ...\n   [244.98 244.52 244.43 ... 244.24 244.85 244.54]\n   [244.51 244.48 244.14 ... 244.58 244.01 244.52]\n   [244.93 244.66 244.67 ... 244.19 244.76 244.44]]\n\n  [[244.64 244.83 244.06 ... 244.13 244.09 244.46]\n   [244.21 244.01 244.34 ... 244.18 244.28 244.  ]\n   [244.95 244.47 244.2  ... 244.13 244.96 244.32]\n   ...\n   [244.21 244.38 244.1  ... 244.12 244.95 244.98]\n   [244.24 244.26 244.27 ... 244.38 244.69 244.28]\n   [244.26 244.16 244.69 ... 244.7  244.19 244.05]]\n\n  [[244.5  244.5  244.42 ... 244.4  244.67 244.93]\n   [245.   244.32 244.87 ... 244.12 244.6  244.34]\n   [244.48 244.8  244.72 ... 244.31 244.83 244.85]\n   ...\n   [244.06 244.94 244.18 ... 244.66 244.61 244.78]\n   [244.3  244.77 244.17 ... 244.35 244.23 244.74]\n   [244.64 244.56 244.79 ... 244.48 244.45 244.92]]\n\n  ...\n\n  [[244.65 244.6  244.64 ... 244.78 244.82 244.4 ]\n   [244.97 244.67 244.4  ... 244.05 244.09 244.97]\n   [244.78 244.11 244.02 ... 244.67 244.46 244.15]\n   ...\n   [244.88 244.38 244.01 ... 244.89 244.98 244.15]\n   [244.6  244.81 244.69 ... 244.33 244.78 244.89]\n   [244.41 244.91 244.44 ... 244.2  244.31 244.98]]\n\n  [[244.62 244.87 244.71 ... 244.74 244.11 244.52]\n   [244.07 244.38 244.18 ... 244.31 244.05 244.9 ]\n   [244.47 244.68 244.89 ... 244.74 244.66 244.74]\n   ...\n   [244.08 244.85 244.58 ... 244.77 244.94 244.04]\n   [244.47 244.62 244.75 ... 244.22 244.34 244.36]\n   [244.99 244.16 244.56 ... 244.2  244.35 244.45]]\n\n  [[244.91 244.3  244.25 ... 244.78 244.41 244.18]\n   [244.17 244.3  244.07 ... 244.24 244.74 244.09]\n   [244.83 244.38 244.48 ... 244.44 244.71 244.82]\n   ...\n   [244.96 244.13 244.33 ... 244.32 244.9  244.45]\n   [244.18 244.89 244.3  ... 244.71 244.9  244.43]\n   [244.11 244.35 244.75 ... 244.39 244.42 244.69]]]\n\n\n [[[244.1  244.8  244.51 ... 244.13 244.87 244.92]\n   [244.45 244.94 244.45 ... 244.65 244.11 244.48]\n   [244.15 244.29 244.66 ... 244.01 244.15 244.72]\n   ...\n   [244.64 244.8  244.2  ... 244.93 244.24 244.37]\n   [244.16 244.71 244.99 ... 244.19 244.07 244.22]\n   [244.72 244.76 244.9  ... 244.44 244.64 244.95]]\n\n  [[244.   244.52 244.98 ... 244.66 244.48 244.61]\n   [244.51 244.48 244.75 ... 244.35 244.99 244.79]\n   [244.68 244.14 244.88 ... 244.01 244.51 244.21]\n   ...\n   [244.57 244.33 244.08 ... 244.14 244.19 244.89]\n   [244.11 244.01 244.17 ... 244.9  244.05 244.13]\n   [244.69 244.03 244.49 ... 244.3  244.16 244.99]]\n\n  [[244.2  244.32 244.23 ... 244.91 244.22 244.81]\n   [244.53 244.78 244.78 ... 244.72 244.08 244.32]\n   [244.48 244.66 244.06 ... 244.51 244.02 244.91]\n   ...\n   [244.43 244.07 244.38 ... 244.36 244.94 244.51]\n   [244.11 244.23 244.1  ... 244.7  244.63 244.01]\n   [244.83 244.31 244.75 ... 244.75 244.79 244.31]]\n\n  ...\n\n  [[244.52 244.69 244.43 ... 244.02 244.13 244.22]\n   [244.33 244.13 244.97 ... 244.65 244.83 244.05]\n   [244.23 244.03 244.76 ... 244.8  244.14 244.16]\n   ...\n   [244.08 244.61 244.81 ... 244.28 244.92 244.54]\n   [244.14 244.99 244.64 ... 244.64 244.39 244.76]\n   [244.36 244.84 244.95 ... 244.77 244.91 244.01]]\n\n  [[244.6  244.55 244.52 ... 244.58 244.97 244.37]\n   [244.76 244.13 244.15 ... 244.06 244.96 244.59]\n   [244.56 244.59 244.26 ... 244.16 244.96 244.56]\n   ...\n   [244.73 244.23 244.87 ... 244.98 244.11 244.16]\n   [244.32 244.3  244.17 ... 244.56 244.67 244.07]\n   [244.23 244.7  244.4  ... 244.34 244.91 244.41]]\n\n  [[244.46 244.98 244.98 ... 244.82 244.94 244.97]\n   [244.03 244.9  244.09 ... 244.44 244.11 244.36]\n   [244.49 244.57 244.66 ... 244.41 244.21 244.11]\n   ...\n   [244.04 244.69 244.27 ... 244.53 244.11 244.56]\n   [244.3  244.99 244.63 ... 244.68 244.11 244.54]\n   [244.29 244.29 244.28 ... 244.44 244.38 244.83]]]\n\n\n [[[244.8  244.31 244.74 ... 244.84 244.54 244.62]\n   [244.67 244.93 244.8  ... 244.   244.64 244.06]\n   [244.37 244.46 244.06 ... 244.21 244.92 244.32]\n   ...\n   [244.39 244.96 244.88 ... 244.28 244.69 244.96]\n   [244.48 244.26 244.43 ... 244.87 244.6  244.05]\n   [244.57 244.36 244.99 ... 244.45 244.02 244.43]]\n\n  [[244.15 244.73 244.1  ... 244.03 244.94 244.78]\n   [244.61 244.87 244.66 ... 244.64 244.07 244.07]\n   [244.61 244.51 244.17 ... 244.16 244.63 244.02]\n   ...\n   [244.65 244.94 244.52 ... 244.47 244.55 244.31]\n   [244.68 244.19 244.06 ... 244.54 244.83 244.1 ]\n   [244.96 244.74 244.77 ... 244.83 244.71 244.62]]\n\n  [[244.1  244.93 244.35 ... 244.08 244.54 244.29]\n   [244.09 244.   244.55 ... 244.3  244.36 244.16]\n   [244.56 244.77 244.07 ... 244.81 244.44 244.03]\n   ...\n   [244.06 244.23 244.36 ... 244.58 244.01 244.12]\n   [244.44 244.92 244.87 ... 244.43 244.24 244.96]\n   [244.35 244.06 244.32 ... 244.04 244.42 244.  ]]\n\n  ...\n\n  [[244.58 244.74 244.25 ... 244.21 244.35 244.32]\n   [244.69 244.69 244.62 ... 244.05 244.53 244.57]\n   [244.46 244.49 244.51 ... 244.51 244.02 244.18]\n   ...\n   [244.38 244.07 244.57 ... 244.66 244.64 244.61]\n   [244.09 244.05 244.52 ... 244.44 244.96 244.22]\n   [244.1  244.76 244.85 ... 244.88 244.25 244.24]]\n\n  [[244.11 244.78 244.43 ... 244.5  244.15 244.82]\n   [244.96 244.18 244.48 ... 244.1  244.8  244.33]\n   [244.27 244.   244.37 ... 244.66 244.42 244.7 ]\n   ...\n   [244.9  244.26 244.91 ... 244.51 244.38 244.25]\n   [244.43 244.96 244.33 ... 244.26 244.61 244.58]\n   [244.44 244.03 244.27 ... 244.03 244.03 244.94]]\n\n  [[244.7  244.77 244.23 ... 244.11 244.45 244.8 ]\n   [244.65 244.62 244.65 ... 244.21 244.98 244.9 ]\n   [244.01 244.63 244.99 ... 244.69 244.5  244.73]\n   ...\n   [244.86 244.17 244.14 ... 244.33 244.34 244.44]\n   [244.99 244.4  244.23 ... 244.23 244.68 244.62]\n   [244.71 244.   244.15 ... 244.85 244.9  244.74]]]\n\n\n [[[244.04 244.1  244.84 ... 244.59 244.85 244.38]\n   [244.89 244.48 244.59 ... 244.54 244.77 244.22]\n   [244.21 244.01 244.03 ... 244.52 244.38 244.81]\n   ...\n   [244.84 244.09 244.47 ... 244.28 244.8  244.92]\n   [244.26 244.05 244.58 ... 244.43 244.9  244.11]\n   [244.57 244.3  244.75 ... 244.68 244.42 244.74]]\n\n  [[244.95 244.28 244.76 ... 244.03 244.45 244.93]\n   [244.76 244.08 244.56 ... 244.88 244.68 244.31]\n   [244.23 244.85 244.64 ... 244.18 244.9  244.18]\n   ...\n   [244.82 244.08 244.52 ... 244.32 244.63 244.81]\n   [244.65 244.54 244.52 ... 244.09 244.21 244.42]\n   [244.32 244.71 244.79 ... 244.79 244.47 244.58]]\n\n  [[244.92 244.06 244.06 ... 244.64 244.35 244.1 ]\n   [244.26 244.05 244.43 ... 244.03 244.45 244.25]\n   [244.46 244.31 244.87 ... 244.04 244.84 244.06]\n   ...\n   [244.54 244.78 244.01 ... 244.21 244.34 244.24]\n   [244.8  244.86 244.12 ... 244.31 244.37 244.88]\n   [244.04 244.87 244.15 ... 244.93 244.08 244.08]]\n\n  ...\n\n  [[244.51 244.34 244.18 ... 244.88 244.35 244.03]\n   [244.32 244.89 244.71 ... 244.46 244.18 244.98]\n   [244.21 244.49 244.4  ... 244.17 244.69 244.68]\n   ...\n   [244.81 244.37 244.76 ... 244.48 244.97 244.59]\n   [244.66 244.61 244.44 ... 244.78 244.17 244.88]\n   [244.33 244.73 244.32 ... 244.09 244.87 244.62]]\n\n  [[244.36 244.95 244.1  ... 244.81 244.25 244.39]\n   [244.4  244.58 244.37 ... 244.98 244.84 244.14]\n   [244.04 244.88 244.1  ... 244.59 244.75 244.41]\n   ...\n   [244.53 244.62 244.45 ... 244.77 244.03 244.23]\n   [244.82 244.36 244.87 ... 244.79 244.19 244.27]\n   [244.88 244.29 244.97 ... 244.99 244.63 244.49]]\n\n  [[244.4  244.12 244.23 ... 244.03 244.88 244.41]\n   [244.1  244.33 244.13 ... 244.43 244.68 244.97]\n   [244.69 244.34 244.49 ... 244.64 244.11 244.96]\n   ...\n   [244.43 244.17 244.84 ... 244.28 244.76 244.16]\n   [244.8  244.58 244.52 ... 244.34 244.57 244.09]\n   [244.73 244.02 244.13 ... 244.06 244.14 244.91]]]]\nindex: 245: value: [[[[245.79 245.21 245.54 ... 245.21 245.84 245.06]\n   [245.88 245.6  245.77 ... 245.55 245.95 245.71]\n   [245.12 245.09 245.79 ... 245.63 245.56 245.84]\n   ...\n   [245.24 245.97 245.31 ... 245.11 245.68 245.82]\n   [245.01 245.41 245.7  ... 245.37 245.17 245.67]\n   [245.62 245.91 245.58 ... 245.15 245.77 245.18]]\n\n  [[245.88 245.45 245.95 ... 245.95 245.89 245.46]\n   [245.07 245.18 245.97 ... 245.26 245.45 245.73]\n   [245.32 245.15 245.65 ... 245.77 245.04 245.67]\n   ...\n   [245.91 245.23 245.75 ... 245.88 245.72 245.93]\n   [245.06 245.02 245.06 ... 245.72 245.55 245.99]\n   [245.07 245.04 245.28 ... 245.8  245.52 245.73]]\n\n  [[245.48 245.35 245.26 ... 245.79 245.48 245.15]\n   [245.62 245.6  245.55 ... 245.09 245.7  245.77]\n   [245.49 245.1  245.28 ... 245.65 245.18 245.15]\n   ...\n   [245.7  245.52 245.75 ... 245.38 245.7  245.5 ]\n   [245.73 245.05 245.55 ... 245.57 245.5  245.91]\n   [245.84 245.4  245.78 ... 245.57 245.69 245.87]]\n\n  ...\n\n  [[245.76 245.88 245.83 ... 245.72 245.54 245.82]\n   [245.47 245.23 245.61 ... 245.03 245.5  245.08]\n   [245.02 245.49 245.27 ... 245.48 245.52 245.38]\n   ...\n   [245.2  245.22 245.48 ... 245.87 245.99 245.47]\n   [245.89 245.31 245.29 ... 245.15 245.86 245.27]\n   [245.76 245.87 245.98 ... 245.82 245.12 245.39]]\n\n  [[245.43 245.21 245.3  ... 245.88 245.14 245.31]\n   [245.6  245.77 245.19 ... 245.32 245.82 245.79]\n   [245.36 245.11 245.9  ... 245.78 245.74 245.53]\n   ...\n   [245.83 245.57 245.35 ... 245.58 245.08 245.62]\n   [245.97 245.99 245.33 ... 245.24 245.09 245.59]\n   [245.47 245.15 245.25 ... 245.88 245.05 245.64]]\n\n  [[245.77 245.99 245.67 ... 245.86 245.15 245.38]\n   [245.86 245.88 245.7  ... 245.03 245.23 245.55]\n   [245.38 245.92 245.44 ... 245.29 245.51 245.37]\n   ...\n   [245.92 246.   245.19 ... 245.83 245.47 245.41]\n   [245.86 245.1  245.51 ... 245.92 245.48 245.84]\n   [245.18 245.25 245.62 ... 245.62 245.75 245.24]]]\n\n\n [[[245.72 245.72 245.62 ... 245.54 245.71 245.38]\n   [245.85 245.96 245.06 ... 245.99 245.38 245.39]\n   [245.83 245.14 245.77 ... 245.74 245.67 245.49]\n   ...\n   [245.82 245.1  245.86 ... 245.01 245.53 245.26]\n   [245.99 245.23 245.67 ... 245.07 245.72 245.28]\n   [245.94 245.26 245.51 ... 245.68 245.67 245.73]]\n\n  [[245.5  245.54 245.34 ... 245.87 245.   245.9 ]\n   [245.78 245.   245.22 ... 245.05 245.51 245.98]\n   [245.42 245.46 245.62 ... 245.76 245.19 245.74]\n   ...\n   [245.05 245.85 245.36 ... 245.51 245.05 245.01]\n   [245.36 245.77 245.7  ... 245.82 245.86 245.95]\n   [245.29 245.16 245.81 ... 245.18 245.19 245.68]]\n\n  [[245.71 245.07 245.84 ... 245.38 245.35 245.15]\n   [245.61 245.09 245.69 ... 245.   245.4  245.72]\n   [245.36 245.16 245.04 ... 245.29 245.64 245.01]\n   ...\n   [245.21 245.72 245.68 ... 245.84 245.71 245.99]\n   [245.96 245.1  245.2  ... 245.15 245.44 245.01]\n   [245.1  245.12 245.21 ... 245.48 245.16 245.67]]\n\n  ...\n\n  [[245.42 245.41 245.76 ... 245.6  245.4  245.08]\n   [245.29 245.65 245.74 ... 245.31 245.5  245.28]\n   [245.59 245.2  245.68 ... 245.77 245.99 245.16]\n   ...\n   [245.39 245.06 245.9  ... 245.66 245.45 245.71]\n   [245.57 245.89 245.73 ... 245.07 245.78 245.76]\n   [245.23 245.52 245.29 ... 245.23 245.95 245.18]]\n\n  [[245.23 245.3  245.07 ... 245.73 245.94 245.02]\n   [245.92 245.02 245.18 ... 245.58 245.04 245.08]\n   [245.55 245.45 245.17 ... 245.2  245.3  245.07]\n   ...\n   [245.51 245.91 245.83 ... 245.53 245.91 245.1 ]\n   [245.57 245.17 245.31 ... 245.83 245.66 245.13]\n   [245.54 245.02 245.72 ... 245.22 245.12 245.45]]\n\n  [[245.11 245.35 245.84 ... 245.73 245.44 245.61]\n   [245.59 245.96 245.53 ... 245.47 245.57 245.39]\n   [245.16 245.36 245.73 ... 245.72 245.42 245.41]\n   ...\n   [245.82 245.38 245.8  ... 245.61 245.1  245.23]\n   [245.97 245.62 245.39 ... 245.45 245.08 245.02]\n   [245.61 245.88 245.67 ... 245.41 245.17 245.07]]]\n\n\n [[[245.6  245.46 245.09 ... 245.7  245.6  245.26]\n   [245.13 245.1  245.45 ... 245.9  245.97 245.92]\n   [245.04 245.96 245.78 ... 245.16 245.96 245.73]\n   ...\n   [245.76 245.67 245.26 ... 245.73 245.38 245.31]\n   [245.26 245.63 245.55 ... 245.79 245.55 245.47]\n   [245.82 245.24 245.2  ... 245.7  245.39 245.1 ]]\n\n  [[245.08 245.87 245.87 ... 245.05 245.48 245.17]\n   [245.67 245.   245.32 ... 245.57 245.89 245.84]\n   [245.17 245.91 245.09 ... 245.31 245.33 245.9 ]\n   ...\n   [245.58 245.89 245.31 ... 245.45 245.61 245.68]\n   [245.7  245.89 245.63 ... 245.36 245.65 245.74]\n   [245.76 245.69 245.48 ... 245.76 245.5  245.77]]\n\n  [[245.65 245.34 245.09 ... 245.56 245.97 245.11]\n   [245.23 245.18 245.7  ... 245.46 245.44 245.66]\n   [245.04 245.61 245.14 ... 245.69 245.57 245.26]\n   ...\n   [245.09 245.11 245.04 ... 245.49 245.7  245.88]\n   [245.61 245.91 245.34 ... 245.51 245.04 245.05]\n   [245.   245.52 245.16 ... 245.05 245.29 245.6 ]]\n\n  ...\n\n  [[245.01 245.49 245.52 ... 245.08 245.78 245.76]\n   [245.52 245.49 245.62 ... 245.92 245.85 245.04]\n   [245.5  245.46 245.26 ... 245.11 245.92 245.83]\n   ...\n   [245.15 245.79 245.04 ... 245.32 245.49 245.94]\n   [245.17 245.56 245.76 ... 245.94 245.57 245.16]\n   [245.88 245.06 245.44 ... 245.33 245.7  245.35]]\n\n  [[245.38 245.02 245.22 ... 245.68 245.08 245.36]\n   [246.   245.96 245.1  ... 245.76 245.11 245.29]\n   [245.99 245.57 245.62 ... 245.47 245.61 245.7 ]\n   ...\n   [245.99 245.82 245.07 ... 245.38 245.61 245.86]\n   [245.18 245.17 245.62 ... 245.2  245.38 245.54]\n   [245.21 245.91 245.57 ... 245.11 245.03 245.42]]\n\n  [[245.5  245.31 245.69 ... 245.53 245.61 245.09]\n   [245.5  245.01 245.8  ... 245.31 245.73 245.21]\n   [245.35 245.25 245.43 ... 245.29 245.46 245.51]\n   ...\n   [245.83 245.14 245.01 ... 245.6  245.41 245.32]\n   [245.99 245.51 245.95 ... 245.59 245.38 245.02]\n   [245.26 245.99 245.17 ... 245.71 245.61 245.58]]]\n\n\n [[[245.38 245.51 245.29 ... 245.23 245.98 245.06]\n   [245.86 245.24 245.92 ... 245.53 245.25 245.22]\n   [245.03 245.52 245.3  ... 245.11 245.44 245.65]\n   ...\n   [245.65 245.36 245.43 ... 245.46 245.42 245.72]\n   [245.82 245.24 245.15 ... 245.99 245.09 245.49]\n   [245.01 245.27 245.07 ... 245.25 245.69 245.45]]\n\n  [[245.74 245.07 245.1  ... 245.06 245.98 245.56]\n   [245.35 245.87 245.07 ... 245.39 245.8  245.59]\n   [245.11 245.06 245.4  ... 245.53 245.95 245.65]\n   ...\n   [245.81 245.5  245.77 ... 245.46 245.4  245.77]\n   [245.   245.8  245.55 ... 245.7  245.39 245.09]\n   [245.35 245.33 245.27 ... 245.08 245.09 245.45]]\n\n  [[245.53 245.81 245.22 ... 245.77 245.57 245.97]\n   [245.83 245.63 245.94 ... 245.54 245.96 245.6 ]\n   [245.35 245.33 245.12 ... 245.27 245.13 245.17]\n   ...\n   [245.24 245.08 245.99 ... 245.9  245.2  245.65]\n   [245.58 245.05 245.44 ... 245.29 245.6  245.61]\n   [245.21 245.85 245.77 ... 245.64 245.8  245.87]]\n\n  ...\n\n  [[245.4  245.94 245.58 ... 245.42 245.42 245.5 ]\n   [245.26 245.75 245.02 ... 245.9  245.55 245.06]\n   [245.23 245.66 245.37 ... 245.21 245.28 245.29]\n   ...\n   [245.38 245.45 245.32 ... 245.09 245.45 245.86]\n   [246.   245.23 245.5  ... 245.82 245.26 245.07]\n   [245.7  245.7  245.36 ... 245.45 245.48 245.4 ]]\n\n  [[245.92 246.   245.55 ... 245.91 245.36 245.81]\n   [245.62 245.81 245.52 ... 245.33 245.11 245.61]\n   [245.69 245.93 245.48 ... 245.9  245.99 245.15]\n   ...\n   [245.48 245.61 245.36 ... 245.44 245.64 245.82]\n   [245.31 245.25 245.36 ... 245.4  245.3  245.8 ]\n   [245.92 245.9  245.33 ... 245.34 245.25 245.28]]\n\n  [[245.66 245.96 245.76 ... 245.64 245.62 245.65]\n   [245.06 245.83 245.39 ... 245.85 245.58 246.  ]\n   [245.91 245.85 245.93 ... 245.39 245.35 245.46]\n   ...\n   [245.92 245.21 245.71 ... 245.03 245.89 245.85]\n   [245.16 245.24 245.63 ... 245.33 245.62 245.27]\n   [245.92 245.05 245.2  ... 245.97 245.54 245.8 ]]]]\nindex: 246: value: [[[[246.04 246.75 246.42 ... 246.9  246.67 246.31]\n   [246.22 246.97 246.21 ... 246.44 246.28 246.97]\n   [246.61 246.93 246.76 ... 246.96 246.89 246.73]\n   ...\n   [246.08 246.64 246.11 ... 246.99 246.21 246.39]\n   [246.98 246.24 246.23 ... 246.52 246.71 246.51]\n   [246.28 246.79 246.48 ... 246.85 246.61 246.21]]\n\n  [[246.19 246.41 246.66 ... 246.73 246.77 246.56]\n   [246.3  246.02 246.99 ... 246.5  246.52 246.75]\n   [246.07 246.22 246.2  ... 246.9  246.56 246.64]\n   ...\n   [246.18 246.49 246.64 ... 246.24 246.29 246.64]\n   [246.57 246.08 246.53 ... 246.67 246.35 246.22]\n   [246.06 246.93 246.63 ... 246.39 246.02 246.27]]\n\n  [[246.5  246.28 246.34 ... 246.76 246.41 246.45]\n   [246.18 246.86 246.14 ... 246.82 246.17 246.57]\n   [246.42 246.99 246.67 ... 246.15 246.75 246.74]\n   ...\n   [246.28 246.91 246.4  ... 246.09 246.56 246.09]\n   [246.44 246.18 246.96 ... 246.74 246.07 246.23]\n   [246.61 246.5  246.62 ... 246.08 246.63 246.42]]\n\n  ...\n\n  [[246.46 246.47 246.   ... 246.95 246.5  246.7 ]\n   [246.77 246.01 246.73 ... 246.6  246.07 246.48]\n   [246.89 246.   246.36 ... 246.68 246.66 246.59]\n   ...\n   [246.02 246.97 246.44 ... 246.47 246.52 246.81]\n   [246.04 246.44 246.48 ... 246.5  246.07 246.31]\n   [246.93 246.01 246.56 ... 246.93 246.24 246.04]]\n\n  [[246.11 246.12 246.91 ... 246.17 246.12 246.45]\n   [246.15 246.12 246.73 ... 246.29 246.55 246.57]\n   [246.91 246.62 246.63 ... 246.32 246.99 246.29]\n   ...\n   [246.75 246.29 246.1  ... 246.89 246.26 246.34]\n   [246.57 246.81 246.19 ... 246.21 246.42 246.19]\n   [246.78 246.5  246.3  ... 246.64 246.41 246.68]]\n\n  [[246.13 246.36 246.46 ... 246.75 246.95 246.06]\n   [246.91 246.77 246.22 ... 246.31 246.53 246.57]\n   [246.41 246.05 246.89 ... 246.84 246.24 246.08]\n   ...\n   [246.27 246.47 246.13 ... 246.73 246.49 246.51]\n   [246.31 246.74 246.59 ... 246.54 246.23 246.25]\n   [246.26 246.32 246.56 ... 246.04 246.07 246.84]]]\n\n\n [[[246.85 246.81 246.06 ... 246.88 246.39 246.14]\n   [246.03 246.35 246.83 ... 246.85 246.65 246.88]\n   [246.83 246.77 246.77 ... 246.44 246.58 246.96]\n   ...\n   [247.   246.51 246.33 ... 246.74 246.83 246.27]\n   [246.72 246.44 246.42 ... 246.55 246.7  246.2 ]\n   [246.69 246.82 246.94 ... 246.22 246.72 246.5 ]]\n\n  [[246.73 246.94 246.01 ... 246.97 246.73 246.91]\n   [246.96 246.62 246.75 ... 246.69 246.7  246.86]\n   [246.98 246.97 246.72 ... 246.14 246.52 246.02]\n   ...\n   [246.2  246.37 246.64 ... 246.97 246.41 246.25]\n   [246.28 246.86 246.39 ... 246.99 246.13 246.64]\n   [246.54 246.28 246.11 ... 246.86 246.83 246.31]]\n\n  [[246.84 246.61 246.55 ... 246.63 246.85 246.17]\n   [246.14 246.44 246.22 ... 246.91 246.32 246.72]\n   [246.87 246.8  246.8  ... 246.91 246.4  246.28]\n   ...\n   [246.09 246.56 246.12 ... 246.95 246.13 246.27]\n   [246.84 246.01 246.67 ... 246.84 246.67 246.15]\n   [246.12 246.71 246.85 ... 246.99 246.07 246.57]]\n\n  ...\n\n  [[246.71 246.72 246.57 ... 246.67 246.36 246.37]\n   [246.33 246.79 246.54 ... 246.53 246.06 246.87]\n   [246.32 246.62 246.89 ... 246.21 246.3  246.37]\n   ...\n   [246.96 246.42 246.14 ... 246.5  246.49 246.66]\n   [246.78 246.75 246.32 ... 246.71 246.68 246.07]\n   [246.17 246.35 246.76 ... 246.95 246.23 246.84]]\n\n  [[246.85 246.02 246.69 ... 246.8  246.85 246.51]\n   [246.05 246.07 246.56 ... 246.28 246.76 246.11]\n   [246.93 246.95 246.92 ... 246.04 246.94 246.65]\n   ...\n   [246.4  246.83 246.86 ... 246.65 246.37 246.  ]\n   [246.73 246.37 246.7  ... 246.68 246.92 246.93]\n   [246.17 246.72 246.44 ... 246.42 246.74 246.38]]\n\n  [[246.56 246.52 246.8  ... 246.81 246.02 246.85]\n   [246.27 246.92 246.47 ... 246.42 246.85 246.37]\n   [246.14 246.19 246.63 ... 246.87 246.66 246.55]\n   ...\n   [246.35 246.81 246.85 ... 246.41 246.96 246.94]\n   [246.76 246.01 246.59 ... 246.17 246.11 246.8 ]\n   [246.87 246.74 246.19 ... 246.02 246.58 246.17]]]\n\n\n [[[246.12 246.78 246.82 ... 246.54 246.03 246.4 ]\n   [246.52 246.77 246.16 ... 246.31 246.31 246.32]\n   [246.84 246.24 246.26 ... 246.54 246.14 246.67]\n   ...\n   [246.87 246.94 246.11 ... 246.32 246.79 246.79]\n   [246.28 246.42 246.9  ... 246.36 246.84 246.4 ]\n   [246.85 246.34 246.3  ... 246.78 246.   246.69]]\n\n  [[246.25 246.22 246.66 ... 246.31 246.24 246.11]\n   [246.63 246.53 246.84 ... 246.1  246.79 246.15]\n   [246.22 246.6  246.83 ... 246.99 246.63 246.09]\n   ...\n   [246.03 246.26 246.06 ... 246.83 246.64 246.66]\n   [246.78 246.08 246.95 ... 246.89 246.02 246.7 ]\n   [246.13 246.07 246.14 ... 246.57 246.4  246.25]]\n\n  [[246.06 246.81 246.21 ... 246.71 246.36 246.83]\n   [246.54 246.66 246.74 ... 246.72 246.46 246.55]\n   [246.91 246.11 246.01 ... 246.29 246.68 246.73]\n   ...\n   [246.62 246.67 246.99 ... 246.85 246.75 246.78]\n   [246.82 246.04 246.43 ... 246.6  246.53 246.15]\n   [246.48 246.19 246.72 ... 246.56 246.07 246.21]]\n\n  ...\n\n  [[246.08 246.9  246.48 ... 246.71 246.11 246.58]\n   [246.03 246.61 246.58 ... 246.83 246.87 246.34]\n   [246.77 246.31 246.1  ... 246.39 246.21 246.39]\n   ...\n   [246.34 246.9  246.59 ... 246.09 246.43 246.79]\n   [246.5  246.87 246.03 ... 246.2  246.77 246.38]\n   [246.67 246.37 246.1  ... 246.44 246.42 246.2 ]]\n\n  [[246.1  246.29 246.1  ... 246.04 246.61 246.98]\n   [246.82 246.26 246.53 ... 246.66 246.67 246.4 ]\n   [246.66 246.76 246.35 ... 246.05 246.82 246.74]\n   ...\n   [246.72 246.83 246.92 ... 246.37 246.86 246.72]\n   [246.41 246.46 246.09 ... 246.65 246.92 246.76]\n   [246.87 246.4  246.84 ... 246.87 246.73 246.81]]\n\n  [[246.72 246.25 246.27 ... 246.03 246.13 246.02]\n   [246.73 246.01 246.78 ... 246.14 246.95 246.19]\n   [246.26 246.91 246.95 ... 246.11 246.52 246.59]\n   ...\n   [246.12 246.01 246.58 ... 246.01 246.55 246.03]\n   [246.89 246.51 246.62 ... 246.61 246.01 246.27]\n   [246.71 246.73 246.07 ... 246.08 246.53 246.52]]]\n\n\n [[[246.58 246.91 246.27 ... 246.7  246.45 246.24]\n   [246.82 246.94 246.08 ... 246.99 246.94 246.09]\n   [246.85 246.69 246.33 ... 246.72 246.94 246.5 ]\n   ...\n   [246.62 246.34 246.62 ... 246.33 246.91 246.38]\n   [246.06 246.13 246.83 ... 246.64 246.51 246.09]\n   [246.29 246.18 246.01 ... 246.16 246.92 246.71]]\n\n  [[246.11 246.87 246.09 ... 246.25 246.64 246.62]\n   [246.95 246.5  246.38 ... 246.21 246.36 246.66]\n   [246.25 246.9  246.38 ... 246.79 246.61 246.39]\n   ...\n   [246.79 246.23 246.61 ... 246.57 246.63 246.91]\n   [246.31 246.84 246.72 ... 246.1  246.99 246.48]\n   [246.41 246.62 246.31 ... 246.66 246.73 246.34]]\n\n  [[246.57 246.58 246.43 ... 246.93 246.35 246.52]\n   [246.88 246.47 246.31 ... 246.04 246.9  246.87]\n   [246.57 246.97 246.05 ... 246.89 246.32 246.37]\n   ...\n   [246.47 246.33 246.84 ... 246.73 246.7  246.6 ]\n   [246.29 246.58 246.58 ... 246.36 246.53 246.45]\n   [246.09 246.91 246.85 ... 246.5  246.7  246.37]]\n\n  ...\n\n  [[246.67 246.98 246.09 ... 246.51 246.24 246.14]\n   [246.79 246.73 246.01 ... 246.82 246.97 246.16]\n   [246.46 246.53 246.12 ... 246.74 246.72 246.28]\n   ...\n   [246.27 246.45 246.76 ... 246.53 246.81 246.85]\n   [246.23 246.08 246.72 ... 246.12 246.24 246.34]\n   [246.63 246.4  246.33 ... 246.73 246.74 246.83]]\n\n  [[246.35 246.33 246.92 ... 246.35 246.5  246.64]\n   [246.84 246.53 246.83 ... 246.58 246.93 246.53]\n   [246.79 246.77 246.95 ... 246.76 246.01 246.83]\n   ...\n   [246.04 246.93 246.7  ... 246.76 246.19 246.47]\n   [246.25 246.63 246.09 ... 246.4  246.15 246.6 ]\n   [246.56 246.16 246.15 ... 246.53 246.13 246.79]]\n\n  [[246.62 246.96 246.06 ... 246.16 246.75 246.44]\n   [246.28 246.88 246.58 ... 246.57 246.76 246.4 ]\n   [246.76 246.85 246.5  ... 246.88 246.87 246.72]\n   ...\n   [246.5  246.46 246.89 ... 246.33 246.47 246.17]\n   [246.19 246.55 246.67 ... 246.76 246.94 246.  ]\n   [246.06 246.06 246.56 ... 246.78 246.04 246.17]]]]\nindex: 247: value: [[[[247.89 247.78 247.95 ... 247.78 247.8  247.87]\n   [247.12 247.41 247.5  ... 247.04 247.98 247.28]\n   [247.47 247.98 247.74 ... 247.96 247.24 247.12]\n   ...\n   [247.36 247.48 247.31 ... 247.24 247.2  247.13]\n   [247.33 247.42 247.79 ... 247.25 247.96 247.42]\n   [247.04 247.89 247.88 ... 247.29 247.   247.35]]\n\n  [[247.23 247.97 247.77 ... 247.01 247.65 247.06]\n   [247.14 247.84 247.94 ... 247.9  247.95 247.58]\n   [247.03 247.63 247.16 ... 247.33 247.78 247.6 ]\n   ...\n   [247.99 247.64 247.36 ... 247.78 247.22 247.21]\n   [247.48 247.39 247.39 ... 247.02 247.14 247.67]\n   [247.3  247.28 247.81 ... 247.95 247.66 247.52]]\n\n  [[247.93 247.37 247.58 ... 247.15 247.15 247.7 ]\n   [247.88 247.51 247.77 ... 247.78 247.55 247.19]\n   [247.76 247.35 247.94 ... 247.84 247.29 247.92]\n   ...\n   [247.85 247.05 247.87 ... 247.77 247.23 247.4 ]\n   [247.2  247.05 247.5  ... 247.77 247.95 247.8 ]\n   [247.96 247.76 247.7  ... 247.69 247.15 247.17]]\n\n  ...\n\n  [[247.3  247.4  247.1  ... 247.33 247.35 247.29]\n   [247.38 247.13 247.3  ... 247.99 247.34 247.14]\n   [247.12 247.02 247.15 ... 247.22 247.45 247.01]\n   ...\n   [247.37 247.67 247.54 ... 247.44 247.76 247.29]\n   [247.59 247.62 247.64 ... 247.62 247.02 247.6 ]\n   [247.75 247.14 247.71 ... 247.72 247.07 247.87]]\n\n  [[247.9  247.3  247.82 ... 247.29 247.57 247.54]\n   [247.62 247.81 247.71 ... 247.84 247.2  247.77]\n   [247.77 247.74 247.67 ... 247.38 247.19 247.64]\n   ...\n   [247.26 247.47 247.61 ... 247.59 247.48 247.52]\n   [247.36 247.15 247.45 ... 247.96 247.23 247.59]\n   [247.87 247.91 247.85 ... 247.51 247.76 247.44]]\n\n  [[247.25 247.83 247.25 ... 247.4  247.06 247.93]\n   [247.99 247.24 247.37 ... 247.24 247.55 247.63]\n   [247.26 247.99 247.26 ... 247.48 247.34 247.67]\n   ...\n   [247.84 247.2  247.35 ... 247.79 247.85 247.48]\n   [247.99 247.31 247.82 ... 247.05 247.35 247.42]\n   [247.98 247.98 247.45 ... 247.04 247.41 247.67]]]\n\n\n [[[247.55 247.25 247.9  ... 247.44 247.7  247.4 ]\n   [247.89 247.64 247.06 ... 247.29 248.   247.72]\n   [247.02 247.47 247.36 ... 247.46 247.44 247.44]\n   ...\n   [247.51 247.7  247.73 ... 247.51 247.1  247.86]\n   [247.58 247.9  247.19 ... 247.4  247.02 247.24]\n   [247.24 247.76 247.66 ... 247.83 247.27 247.56]]\n\n  [[247.64 247.5  247.53 ... 247.98 247.37 247.04]\n   [247.57 247.42 247.16 ... 247.71 247.85 247.45]\n   [247.96 247.96 247.63 ... 247.86 247.41 247.17]\n   ...\n   [247.73 247.13 247.43 ... 247.7  247.08 247.11]\n   [247.08 247.18 247.43 ... 247.76 247.27 247.17]\n   [247.4  247.81 247.52 ... 247.41 247.44 247.95]]\n\n  [[247.53 247.69 247.02 ... 247.88 247.43 247.56]\n   [247.14 247.44 247.84 ... 247.94 247.28 247.39]\n   [247.72 247.14 247.63 ... 247.49 247.72 247.66]\n   ...\n   [247.04 247.   247.19 ... 247.91 247.87 247.62]\n   [247.51 247.75 247.03 ... 247.73 247.02 247.95]\n   [247.27 247.79 247.84 ... 247.18 247.05 247.52]]\n\n  ...\n\n  [[247.81 247.7  247.03 ... 247.54 247.8  247.03]\n   [247.14 247.71 247.21 ... 247.11 247.25 247.64]\n   [247.8  247.28 247.81 ... 247.79 247.06 247.83]\n   ...\n   [247.87 247.51 247.74 ... 247.59 247.36 247.82]\n   [247.67 247.3  247.18 ... 247.78 247.4  247.1 ]\n   [247.23 247.04 247.79 ... 247.37 247.9  247.67]]\n\n  [[247.87 247.03 247.73 ... 247.35 247.74 247.57]\n   [247.94 247.47 247.49 ... 247.72 247.96 247.96]\n   [247.88 247.44 247.   ... 247.97 247.09 247.89]\n   ...\n   [247.11 247.38 247.48 ... 247.74 247.45 247.29]\n   [247.35 247.91 247.72 ... 247.89 247.5  247.03]\n   [247.39 247.79 247.86 ... 247.79 247.95 247.62]]\n\n  [[247.67 247.32 247.55 ... 247.28 247.73 247.25]\n   [247.39 247.28 247.24 ... 247.11 247.84 247.45]\n   [247.3  247.07 247.85 ... 247.36 247.02 247.87]\n   ...\n   [247.53 247.59 247.95 ... 247.14 247.45 247.43]\n   [247.84 247.25 247.73 ... 247.26 247.26 247.25]\n   [247.85 247.85 247.5  ... 247.89 247.37 247.88]]]\n\n\n [[[247.03 247.87 247.97 ... 247.75 247.61 247.03]\n   [247.64 247.33 247.57 ... 247.54 247.81 247.01]\n   [247.23 247.86 247.33 ... 247.5  247.84 247.03]\n   ...\n   [247.41 247.82 247.64 ... 247.78 247.38 247.9 ]\n   [247.95 247.42 247.09 ... 247.55 247.41 247.87]\n   [247.12 247.74 247.66 ... 247.8  247.81 247.13]]\n\n  [[247.11 247.64 247.75 ... 247.81 247.91 247.68]\n   [247.75 247.77 247.34 ... 247.65 247.67 247.21]\n   [247.6  247.34 247.32 ... 247.53 247.7  247.45]\n   ...\n   [247.38 247.64 247.95 ... 247.92 247.89 247.56]\n   [247.07 247.99 247.99 ... 247.45 247.14 247.43]\n   [247.57 247.24 247.12 ... 247.57 247.74 247.79]]\n\n  [[247.28 247.32 247.96 ... 247.96 247.73 247.78]\n   [247.3  247.7  247.43 ... 247.04 247.61 247.19]\n   [247.29 247.09 247.23 ... 247.51 247.61 247.93]\n   ...\n   [247.89 247.14 247.78 ... 247.94 247.32 247.63]\n   [247.55 247.83 247.28 ... 247.84 247.9  247.06]\n   [247.69 247.7  247.06 ... 247.1  247.24 247.46]]\n\n  ...\n\n  [[247.18 247.6  248.   ... 247.74 247.38 247.95]\n   [247.17 247.14 247.41 ... 247.95 247.26 247.76]\n   [247.49 247.5  247.98 ... 247.5  247.77 247.94]\n   ...\n   [247.43 247.3  247.69 ... 247.52 247.12 247.07]\n   [247.   247.6  247.3  ... 247.91 247.57 247.22]\n   [247.12 247.21 247.1  ... 247.81 247.87 247.25]]\n\n  [[247.71 247.66 247.63 ... 247.75 247.24 247.25]\n   [247.21 247.59 247.56 ... 247.82 247.97 247.71]\n   [247.03 247.27 247.59 ... 247.45 247.96 247.5 ]\n   ...\n   [247.66 247.53 247.01 ... 247.15 247.27 247.63]\n   [247.93 247.41 247.3  ... 247.33 247.3  247.07]\n   [247.96 247.68 247.83 ... 247.33 247.87 247.45]]\n\n  [[247.41 247.16 247.24 ... 247.05 247.91 247.18]\n   [247.3  247.17 247.34 ... 247.24 247.15 247.76]\n   [247.87 247.24 247.27 ... 247.25 247.67 247.63]\n   ...\n   [247.1  247.77 247.31 ... 247.98 247.64 247.07]\n   [247.23 247.51 247.8  ... 247.13 247.12 247.97]\n   [247.55 247.19 247.33 ... 247.56 247.15 247.92]]]\n\n\n [[[247.03 247.64 247.52 ... 247.92 247.2  247.42]\n   [247.45 247.71 247.84 ... 247.3  247.42 247.17]\n   [247.88 247.37 247.04 ... 247.19 247.36 247.16]\n   ...\n   [247.83 247.65 247.06 ... 247.72 247.72 247.25]\n   [247.62 247.64 247.07 ... 247.96 247.9  247.54]\n   [247.11 247.6  247.17 ... 247.04 247.32 247.59]]\n\n  [[247.98 247.99 247.71 ... 247.31 247.96 247.57]\n   [247.43 247.3  247.68 ... 247.64 247.24 247.2 ]\n   [247.76 247.87 247.72 ... 247.33 247.47 247.36]\n   ...\n   [247.07 247.5  247.53 ... 247.85 247.21 247.09]\n   [247.56 247.29 247.42 ... 247.62 247.54 247.24]\n   [247.47 247.09 247.54 ... 247.3  247.44 247.25]]\n\n  [[247.18 247.79 247.96 ... 247.43 247.27 247.88]\n   [247.01 247.38 247.78 ... 247.62 247.93 247.36]\n   [247.89 247.66 247.59 ... 247.01 247.74 247.75]\n   ...\n   [247.17 247.81 247.18 ... 247.84 247.95 247.  ]\n   [247.39 247.99 247.17 ... 247.93 247.43 247.13]\n   [247.35 247.83 247.79 ... 247.97 247.   247.51]]\n\n  ...\n\n  [[247.35 247.75 247.97 ... 247.74 247.08 247.85]\n   [247.65 247.06 247.4  ... 247.98 247.8  247.33]\n   [247.48 247.97 247.63 ... 247.19 247.52 247.46]\n   ...\n   [247.47 247.6  247.57 ... 247.48 247.41 247.54]\n   [247.93 247.86 247.2  ... 247.28 247.31 247.93]\n   [247.87 247.12 247.1  ... 247.51 247.72 247.26]]\n\n  [[247.9  247.47 247.89 ... 247.38 247.44 247.24]\n   [247.5  247.75 247.33 ... 247.5  247.96 247.67]\n   [247.46 247.87 247.64 ... 247.6  247.9  247.98]\n   ...\n   [247.43 247.24 247.33 ... 247.55 247.72 247.84]\n   [247.68 247.97 247.75 ... 247.99 247.33 247.6 ]\n   [247.62 247.14 247.2  ... 247.44 247.54 247.72]]\n\n  [[247.34 247.81 247.77 ... 247.86 247.83 247.53]\n   [247.91 247.02 247.2  ... 247.78 247.01 247.99]\n   [247.18 247.23 247.22 ... 247.34 247.12 247.77]\n   ...\n   [247.98 247.98 247.52 ... 247.38 247.76 247.31]\n   [247.89 247.26 247.31 ... 247.87 247.42 247.73]\n   [247.59 247.11 247.46 ... 247.66 247.18 247.9 ]]]]\nindex: 248: value: [[[[248.08 248.99 248.16 ... 248.5  248.32 248.53]\n   [248.03 248.32 248.39 ... 248.88 248.63 248.27]\n   [248.69 248.26 248.14 ... 248.37 248.84 248.1 ]\n   ...\n   [248.61 248.8  248.69 ... 248.2  248.44 248.07]\n   [248.17 248.99 248.69 ... 248.76 248.68 248.37]\n   [248.51 248.64 248.3  ... 248.95 248.09 248.43]]\n\n  [[248.1  248.07 248.85 ... 248.73 248.91 248.77]\n   [248.36 248.34 248.67 ... 248.32 248.84 248.28]\n   [248.46 248.71 248.68 ... 248.63 248.93 248.83]\n   ...\n   [248.97 248.47 248.33 ... 248.98 248.31 248.1 ]\n   [248.84 248.46 248.72 ... 248.46 248.46 248.88]\n   [248.3  248.71 248.07 ... 248.11 248.54 248.47]]\n\n  [[248.41 248.92 248.75 ... 248.11 248.51 248.05]\n   [248.93 248.8  248.65 ... 248.85 248.44 248.77]\n   [248.85 248.19 248.79 ... 248.15 248.67 248.55]\n   ...\n   [248.94 248.23 248.37 ... 248.94 248.38 248.63]\n   [248.32 248.37 248.07 ... 248.38 248.23 248.62]\n   [248.26 248.86 248.95 ... 248.85 248.55 248.45]]\n\n  ...\n\n  [[248.5  248.54 248.64 ... 248.03 248.95 248.38]\n   [248.29 248.81 248.11 ... 248.17 248.44 248.2 ]\n   [248.77 248.19 248.59 ... 248.61 248.2  248.99]\n   ...\n   [248.2  248.83 248.18 ... 248.74 248.66 248.79]\n   [248.12 248.53 248.39 ... 248.07 248.9  248.72]\n   [248.96 248.04 248.06 ... 248.69 248.14 248.13]]\n\n  [[248.87 248.24 248.01 ... 248.82 248.39 248.2 ]\n   [248.56 248.97 248.23 ... 248.67 248.65 248.8 ]\n   [248.89 248.99 248.62 ... 248.46 248.98 248.37]\n   ...\n   [248.89 248.34 248.81 ... 248.03 248.99 248.68]\n   [248.55 248.26 248.91 ... 248.66 248.27 248.44]\n   [248.28 248.15 248.09 ... 248.11 248.2  248.73]]\n\n  [[248.43 248.15 248.27 ... 248.91 248.21 248.82]\n   [248.69 248.64 248.92 ... 248.04 248.63 248.37]\n   [248.23 248.88 248.47 ... 248.64 248.44 248.49]\n   ...\n   [248.12 248.15 248.01 ... 248.69 248.14 248.37]\n   [248.3  248.05 248.93 ... 248.96 248.02 248.38]\n   [248.16 248.94 248.02 ... 248.5  248.05 248.27]]]\n\n\n [[[248.05 248.25 248.7  ... 248.72 248.41 248.27]\n   [248.38 248.77 248.09 ... 248.53 248.93 248.89]\n   [248.46 248.21 248.32 ... 248.02 248.59 248.95]\n   ...\n   [248.48 248.84 248.32 ... 248.43 248.23 248.3 ]\n   [248.45 248.47 248.78 ... 248.95 248.61 248.13]\n   [248.24 248.6  248.95 ... 248.21 248.82 248.25]]\n\n  [[248.08 248.19 248.8  ... 248.44 248.52 248.02]\n   [248.75 248.   248.22 ... 248.62 248.33 248.05]\n   [248.49 248.18 248.35 ... 248.7  248.81 248.6 ]\n   ...\n   [248.8  248.51 248.54 ... 248.14 248.08 248.43]\n   [248.26 248.52 248.52 ... 248.64 248.43 248.11]\n   [248.52 248.58 248.08 ... 248.35 248.62 248.39]]\n\n  [[248.8  248.38 248.48 ... 248.91 248.31 248.7 ]\n   [248.51 248.73 248.89 ... 248.51 248.85 248.9 ]\n   [248.12 248.13 248.74 ... 248.38 248.4  248.4 ]\n   ...\n   [248.03 248.43 248.88 ... 248.7  248.28 248.2 ]\n   [248.35 248.17 248.28 ... 248.79 248.   248.68]\n   [248.29 248.15 248.95 ... 248.88 248.5  248.22]]\n\n  ...\n\n  [[248.34 248.41 248.42 ... 248.51 248.26 248.6 ]\n   [248.41 248.46 248.73 ... 248.42 248.31 248.45]\n   [248.48 248.31 248.39 ... 248.97 248.04 248.54]\n   ...\n   [248.71 248.61 248.9  ... 248.04 248.59 248.92]\n   [248.88 248.12 248.26 ... 248.74 248.4  248.6 ]\n   [248.91 248.96 248.29 ... 248.18 248.26 248.79]]\n\n  [[248.41 248.55 248.59 ... 248.1  248.99 248.65]\n   [248.59 248.45 248.21 ... 248.55 248.34 248.06]\n   [248.1  248.58 248.97 ... 248.82 248.87 248.09]\n   ...\n   [248.33 248.31 248.72 ... 248.69 248.03 248.12]\n   [248.69 248.55 248.68 ... 248.42 248.83 248.89]\n   [248.64 248.2  248.89 ... 248.15 248.72 248.67]]\n\n  [[248.84 248.95 248.19 ... 248.42 248.81 248.  ]\n   [248.97 248.26 248.91 ... 248.61 248.36 248.32]\n   [248.46 248.23 249.   ... 248.88 248.09 248.56]\n   ...\n   [248.31 248.82 248.75 ... 248.98 248.74 248.31]\n   [248.9  248.14 248.15 ... 248.59 248.28 248.87]\n   [248.01 248.19 248.08 ... 248.1  248.64 248.83]]]\n\n\n [[[248.44 248.34 248.15 ... 248.64 248.49 248.79]\n   [248.63 248.87 248.81 ... 248.26 248.01 248.32]\n   [248.64 248.03 248.32 ... 248.46 248.12 248.74]\n   ...\n   [248.62 248.37 248.53 ... 248.48 248.5  248.72]\n   [248.6  248.63 248.84 ... 248.75 248.46 248.28]\n   [248.3  248.05 248.78 ... 248.68 248.37 248.55]]\n\n  [[248.08 248.74 248.32 ... 248.21 248.15 248.83]\n   [248.64 248.16 248.04 ... 248.68 248.57 248.6 ]\n   [248.83 248.76 248.56 ... 248.36 248.88 248.09]\n   ...\n   [248.19 248.28 248.11 ... 248.49 248.61 248.1 ]\n   [248.87 248.97 248.41 ... 248.44 248.09 248.92]\n   [248.83 248.49 248.75 ... 248.57 248.25 248.64]]\n\n  [[248.43 248.63 248.88 ... 248.94 248.24 248.61]\n   [248.27 248.64 248.1  ... 248.33 248.69 248.33]\n   [248.03 248.45 248.86 ... 248.01 248.35 248.5 ]\n   ...\n   [248.33 248.71 248.26 ... 248.03 248.08 248.54]\n   [248.81 248.06 248.51 ... 248.73 248.72 248.27]\n   [248.92 248.93 248.04 ... 248.8  248.83 248.39]]\n\n  ...\n\n  [[248.4  248.33 248.13 ... 248.77 248.49 248.94]\n   [248.58 248.53 248.6  ... 248.73 248.   248.96]\n   [248.03 248.43 248.07 ... 248.57 248.07 248.19]\n   ...\n   [248.35 248.43 248.85 ... 248.77 248.48 248.65]\n   [248.96 248.01 248.18 ... 248.51 248.75 248.62]\n   [248.47 248.77 248.16 ... 248.3  248.42 248.32]]\n\n  [[248.89 248.73 248.31 ... 248.5  248.31 248.92]\n   [248.92 248.43 248.38 ... 248.76 248.86 248.78]\n   [248.28 248.91 248.5  ... 248.51 248.65 248.79]\n   ...\n   [248.19 248.26 248.77 ... 248.43 248.89 248.73]\n   [248.6  248.39 248.73 ... 248.46 248.03 248.79]\n   [248.45 248.77 248.65 ... 248.69 248.96 248.94]]\n\n  [[248.48 248.67 248.06 ... 248.77 248.09 248.44]\n   [248.37 248.07 248.29 ... 248.45 248.03 248.03]\n   [248.96 248.47 248.51 ... 248.86 248.99 248.19]\n   ...\n   [248.24 248.57 248.29 ... 248.28 248.72 248.51]\n   [248.55 248.05 248.81 ... 248.69 248.22 248.16]\n   [248.08 248.24 248.58 ... 248.92 248.36 248.89]]]\n\n\n [[[248.89 248.77 248.6  ... 248.13 248.21 248.59]\n   [248.92 248.33 248.99 ... 248.26 248.13 248.15]\n   [248.86 248.59 248.66 ... 248.42 248.97 248.48]\n   ...\n   [248.24 248.29 248.01 ... 248.54 248.81 248.71]\n   [248.83 248.42 248.42 ... 248.27 248.98 248.05]\n   [248.75 248.05 248.61 ... 248.24 248.09 248.98]]\n\n  [[248.67 248.19 248.75 ... 248.58 248.49 248.82]\n   [248.51 248.01 248.22 ... 248.45 248.18 248.39]\n   [248.36 248.37 248.1  ... 248.26 248.78 248.02]\n   ...\n   [248.02 248.95 248.07 ... 248.88 248.88 248.08]\n   [248.97 248.7  248.98 ... 248.12 248.1  248.63]\n   [248.82 248.31 248.12 ... 248.07 248.88 248.87]]\n\n  [[248.94 248.91 248.24 ... 248.96 248.08 248.96]\n   [248.52 248.6  248.14 ... 248.37 248.48 248.37]\n   [248.57 248.84 248.52 ... 248.13 248.85 249.  ]\n   ...\n   [248.26 248.65 248.91 ... 248.4  248.13 248.57]\n   [248.2  248.21 248.44 ... 248.57 248.09 248.81]\n   [248.92 248.17 248.3  ... 248.59 248.64 248.21]]\n\n  ...\n\n  [[248.49 248.01 248.95 ... 248.37 248.83 248.04]\n   [248.99 248.83 248.12 ... 248.75 248.17 248.45]\n   [248.13 248.82 248.99 ... 248.12 248.84 248.94]\n   ...\n   [248.57 248.7  248.73 ... 248.74 248.52 248.64]\n   [248.48 248.62 248.84 ... 248.57 248.82 248.65]\n   [248.01 248.8  248.21 ... 248.47 248.08 248.78]]\n\n  [[248.93 248.19 248.24 ... 248.96 248.67 248.89]\n   [248.12 248.14 248.83 ... 248.4  248.85 248.06]\n   [248.02 248.45 248.69 ... 248.79 248.68 248.91]\n   ...\n   [248.76 248.91 248.54 ... 248.74 248.84 248.34]\n   [248.57 248.68 248.77 ... 248.86 248.82 248.46]\n   [248.28 248.32 248.56 ... 248.58 248.97 248.3 ]]\n\n  [[248.35 248.28 248.41 ... 248.02 248.6  248.72]\n   [248.41 248.83 248.78 ... 248.14 248.91 248.37]\n   [248.04 248.12 248.4  ... 248.44 248.02 248.3 ]\n   ...\n   [248.87 248.09 248.55 ... 248.94 248.94 248.44]\n   [248.11 248.03 248.79 ... 248.93 248.05 248.08]\n   [248.47 248.07 248.17 ... 248.41 248.67 248.23]]]]\nindex: 249: value: [[[[249.82 249.05 249.37 ... 249.76 249.41 249.06]\n   [249.19 249.02 249.22 ... 249.53 249.22 249.6 ]\n   [249.33 249.85 249.81 ... 249.65 249.93 249.46]\n   ...\n   [249.11 249.61 249.91 ... 249.8  249.26 249.75]\n   [249.58 249.75 249.78 ... 249.29 249.24 249.4 ]\n   [249.43 249.59 249.06 ... 249.84 249.43 249.8 ]]\n\n  [[249.42 249.53 249.35 ... 249.65 249.19 249.34]\n   [249.7  249.56 249.31 ... 249.37 249.32 249.34]\n   [249.22 249.54 249.29 ... 249.66 249.5  249.33]\n   ...\n   [249.18 249.88 249.13 ... 249.31 249.45 249.82]\n   [249.03 249.69 249.26 ... 249.83 249.53 249.59]\n   [249.72 249.62 249.13 ... 249.58 249.09 249.55]]\n\n  [[249.28 249.86 249.29 ... 249.08 249.21 249.72]\n   [249.11 249.1  249.73 ... 249.24 249.64 249.19]\n   [249.24 249.43 249.18 ... 249.35 249.74 249.1 ]\n   ...\n   [249.13 249.   249.14 ... 249.19 249.51 249.95]\n   [249.17 249.38 249.45 ... 249.02 249.71 249.24]\n   [249.79 249.25 249.4  ... 249.03 249.77 249.32]]\n\n  ...\n\n  [[249.12 249.35 249.71 ... 249.77 249.89 249.71]\n   [249.27 249.91 249.25 ... 249.58 249.97 249.11]\n   [249.48 249.47 249.43 ... 249.14 249.44 249.96]\n   ...\n   [249.06 249.52 249.35 ... 249.79 249.07 249.89]\n   [249.65 249.75 249.48 ... 249.96 249.5  249.  ]\n   [249.77 249.01 249.21 ... 249.26 249.09 249.71]]\n\n  [[249.95 249.67 249.79 ... 249.07 249.44 249.61]\n   [249.27 249.05 249.07 ... 249.93 249.86 249.13]\n   [249.67 249.38 249.78 ... 249.73 249.96 249.43]\n   ...\n   [249.57 249.67 249.73 ... 249.05 249.76 249.4 ]\n   [249.21 249.97 249.03 ... 249.72 249.55 249.75]\n   [249.53 249.8  249.38 ... 249.65 249.67 249.06]]\n\n  [[249.01 249.71 249.03 ... 249.61 249.23 249.27]\n   [249.65 249.51 249.34 ... 249.49 249.74 249.17]\n   [249.06 249.07 249.81 ... 249.91 249.32 249.92]\n   ...\n   [249.73 249.62 249.26 ... 249.14 249.33 249.39]\n   [249.39 249.63 249.06 ... 249.08 249.55 249.65]\n   [249.   249.67 249.21 ... 249.85 249.49 249.83]]]\n\n\n [[[249.42 249.93 249.5  ... 249.12 249.39 249.85]\n   [249.97 249.76 249.73 ... 249.25 249.65 249.32]\n   [249.68 249.36 249.39 ... 249.85 249.03 249.13]\n   ...\n   [249.58 249.87 249.91 ... 249.35 249.61 249.15]\n   [249.73 249.9  249.75 ... 249.32 249.39 249.16]\n   [249.13 249.74 249.73 ... 249.1  249.53 249.23]]\n\n  [[249.93 249.96 249.41 ... 249.2  249.98 249.83]\n   [249.14 249.59 249.81 ... 249.42 249.92 249.65]\n   [249.26 249.06 249.67 ... 249.48 249.83 249.61]\n   ...\n   [249.14 249.21 249.09 ... 249.91 249.17 249.8 ]\n   [249.9  249.85 249.05 ... 249.92 249.28 249.13]\n   [249.19 249.3  249.46 ... 249.16 249.19 249.47]]\n\n  [[249.08 249.4  249.41 ... 249.02 249.94 249.76]\n   [249.56 249.62 249.34 ... 249.19 249.38 249.26]\n   [249.14 249.48 249.74 ... 249.63 249.44 249.26]\n   ...\n   [249.9  249.35 249.28 ... 249.12 249.82 249.74]\n   [249.15 249.43 249.65 ... 249.09 249.67 249.89]\n   [249.01 249.77 249.48 ... 249.82 249.91 249.63]]\n\n  ...\n\n  [[249.75 249.52 249.22 ... 249.74 249.09 249.38]\n   [249.59 249.64 249.06 ... 249.48 249.73 249.02]\n   [249.44 249.44 249.9  ... 249.66 249.19 249.84]\n   ...\n   [249.94 249.14 249.35 ... 249.9  249.42 249.72]\n   [249.94 249.65 249.99 ... 249.24 249.04 249.65]\n   [249.15 249.69 249.54 ... 249.04 249.92 249.19]]\n\n  [[249.5  249.62 249.27 ... 249.14 249.52 249.61]\n   [249.21 249.57 249.77 ... 249.78 249.72 249.32]\n   [249.47 249.44 249.78 ... 249.58 249.88 249.15]\n   ...\n   [249.77 249.7  249.17 ... 249.6  249.86 249.9 ]\n   [249.52 249.2  249.71 ... 249.79 249.21 249.08]\n   [249.39 249.22 249.67 ... 249.77 249.45 249.03]]\n\n  [[249.29 249.1  249.8  ... 249.62 249.62 249.64]\n   [249.75 249.85 249.59 ... 249.9  249.86 249.66]\n   [249.23 249.64 250.   ... 249.71 249.27 249.9 ]\n   ...\n   [249.35 249.77 249.45 ... 249.57 249.95 249.63]\n   [249.97 249.11 249.34 ... 249.32 249.1  249.45]\n   [249.84 249.93 249.13 ... 249.37 249.9  249.23]]]\n\n\n [[[249.   249.83 249.62 ... 249.21 249.1  249.34]\n   [249.17 249.32 249.79 ... 249.31 249.68 249.38]\n   [249.96 249.59 249.04 ... 249.2  249.94 249.47]\n   ...\n   [249.62 249.2  249.15 ... 249.57 249.87 249.35]\n   [249.6  249.11 249.08 ... 249.26 249.19 249.55]\n   [249.68 249.54 249.61 ... 249.67 249.02 249.83]]\n\n  [[249.61 249.66 249.58 ... 249.08 249.37 249.35]\n   [249.29 249.53 249.86 ... 249.99 249.06 249.4 ]\n   [249.11 249.23 249.94 ... 249.83 249.84 249.97]\n   ...\n   [249.59 249.05 249.21 ... 249.26 249.11 249.05]\n   [249.36 249.12 249.3  ... 249.14 249.38 249.03]\n   [249.87 249.88 249.02 ... 249.12 249.62 249.14]]\n\n  [[249.53 249.26 249.86 ... 249.6  249.93 249.96]\n   [249.84 249.65 249.67 ... 249.27 249.14 249.39]\n   [249.85 249.82 249.27 ... 249.12 249.94 249.79]\n   ...\n   [249.66 249.21 249.56 ... 249.14 249.38 249.14]\n   [249.95 249.6  249.11 ... 249.56 249.02 249.48]\n   [249.83 249.67 249.88 ... 249.94 249.97 249.17]]\n\n  ...\n\n  [[249.51 249.73 249.6  ... 249.24 249.39 249.8 ]\n   [249.42 249.2  249.84 ... 249.23 249.33 249.65]\n   [249.59 249.64 249.07 ... 249.64 249.09 249.59]\n   ...\n   [249.98 249.54 249.12 ... 249.75 249.26 249.04]\n   [249.03 249.02 249.56 ... 249.51 249.96 249.61]\n   [249.95 249.76 249.44 ... 249.42 249.03 249.29]]\n\n  [[249.79 249.57 249.41 ... 249.57 249.49 249.48]\n   [249.2  249.79 249.96 ... 249.18 249.16 249.5 ]\n   [249.77 249.52 249.81 ... 249.6  249.5  249.5 ]\n   ...\n   [249.44 249.22 249.09 ... 249.31 249.91 249.89]\n   [249.54 249.04 249.98 ... 249.95 249.45 249.96]\n   [249.24 249.39 249.58 ... 249.68 249.31 249.29]]\n\n  [[249.09 249.46 249.72 ... 249.36 249.44 249.44]\n   [249.74 249.42 249.23 ... 249.55 249.61 249.78]\n   [249.42 249.16 249.44 ... 249.49 249.86 249.46]\n   ...\n   [249.44 249.85 249.09 ... 249.65 249.63 249.22]\n   [249.6  249.49 249.48 ... 249.82 249.66 249.14]\n   [249.42 249.7  249.35 ... 249.29 249.32 249.17]]]\n\n\n [[[249.68 249.23 249.95 ... 250.   249.1  249.78]\n   [249.69 249.74 249.12 ... 249.46 249.11 249.48]\n   [249.62 249.35 249.5  ... 249.41 249.19 249.07]\n   ...\n   [249.17 249.68 249.44 ... 249.84 249.39 249.09]\n   [249.54 249.43 249.85 ... 249.82 249.14 249.81]\n   [249.54 249.27 249.85 ... 249.09 249.73 249.17]]\n\n  [[249.28 249.69 249.99 ... 249.52 249.13 249.34]\n   [249.39 249.88 249.59 ... 249.74 249.69 249.43]\n   [249.1  249.33 249.84 ... 249.45 249.38 249.15]\n   ...\n   [249.1  249.73 249.25 ... 249.52 249.23 249.34]\n   [249.6  249.28 249.41 ... 249.16 249.91 249.93]\n   [249.82 249.34 249.03 ... 249.93 249.46 249.96]]\n\n  [[249.78 249.82 249.37 ... 249.16 249.7  249.37]\n   [249.79 249.72 249.02 ... 249.01 249.5  249.04]\n   [249.51 249.19 249.19 ... 249.77 249.43 249.31]\n   ...\n   [249.19 249.95 249.52 ... 249.23 249.48 249.22]\n   [249.22 249.58 249.05 ... 249.79 249.41 249.6 ]\n   [249.9  249.82 249.6  ... 249.77 249.27 249.02]]\n\n  ...\n\n  [[249.82 249.83 249.11 ... 249.25 249.91 249.23]\n   [249.69 249.72 249.11 ... 249.24 249.82 249.68]\n   [249.51 249.2  249.32 ... 249.32 249.55 249.84]\n   ...\n   [249.21 249.54 249.95 ... 249.01 249.34 249.28]\n   [249.02 249.01 249.26 ... 249.02 249.16 249.2 ]\n   [249.68 249.84 249.55 ... 249.36 249.99 249.22]]\n\n  [[249.39 249.01 249.21 ... 249.39 249.72 249.3 ]\n   [249.12 249.31 249.43 ... 249.74 249.2  249.38]\n   [249.05 249.73 249.55 ... 249.5  249.84 249.61]\n   ...\n   [249.72 249.66 249.44 ... 249.23 249.92 249.07]\n   [249.15 249.07 249.51 ... 249.88 249.45 249.96]\n   [249.93 249.19 249.72 ... 249.63 249.78 249.53]]\n\n  [[249.57 249.44 249.87 ... 249.5  249.37 249.11]\n   [249.66 249.3  249.38 ... 249.36 249.67 249.98]\n   [249.78 249.87 249.49 ... 249.37 249.96 249.34]\n   ...\n   [249.39 249.98 249.65 ... 249.73 249.03 249.21]\n   [249.73 249.18 249.02 ... 249.37 249.41 249.62]\n   [249.01 249.73 249.37 ... 249.57 249.44 249.94]]]]\nindex: 240: value: [[[[2400.03 2400.71 2400.34 ... 2400.04 2400.44 2400.48]\n   [2400.33 2400.59 2400.17 ... 2400.69 2400.77 2400.73]\n   [2400.71 2400.65 2400.46 ... 2400.51 2400.08 2400.92]\n   ...\n   [2400.19 2400.15 2400.78 ... 2400.58 2400.88 2400.26]\n   [2400.25 2400.24 2400.73 ... 2400.44 2400.04 2400.54]\n   [2400.44 2400.12 2400.04 ... 2400.8  2400.75 2400.59]]\n\n  [[2400.35 2400.27 2400.62 ... 2400.84 2400.36 2400.38]\n   [2400.56 2400.11 2400.71 ... 2400.82 2400.06 2400.95]\n   [2400.56 2400.09 2400.95 ... 2400.75 2400.75 2400.34]\n   ...\n   [2400.21 2400.93 2400.09 ... 2400.03 2400.4  2400.61]\n   [2400.5  2400.4  2400.05 ... 2400.75 2400.51 2400.61]\n   [2400.42 2400.16 2400.97 ... 2400.25 2400.61 2400.47]]\n\n  [[2400.53 2400.68 2400.38 ... 2400.31 2400.61 2400.3 ]\n   [2400.87 2400.06 2400.63 ... 2400.65 2400.43 2400.42]\n   [2400.87 2400.95 2400.53 ... 2400.3  2400.51 2400.8 ]\n   ...\n   [2400.08 2400.92 2400.24 ... 2400.45 2400.64 2400.18]\n   [2400.35 2400.03 2400.07 ... 2400.33 2400.72 2400.23]\n   [2400.28 2400.62 2400.05 ... 2400.78 2401.   2400.58]]\n\n  ...\n\n  [[2400.32 2400.29 2400.45 ... 2400.37 2400.98 2400.27]\n   [2400.45 2400.41 2400.51 ... 2400.96 2400.26 2400.06]\n   [2400.64 2400.17 2400.84 ... 2400.4  2400.73 2400.05]\n   ...\n   [2400.69 2400.23 2400.35 ... 2400.92 2400.87 2400.07]\n   [2400.53 2400.71 2400.49 ... 2400.65 2400.74 2400.81]\n   [2400.89 2400.17 2400.72 ... 2400.08 2400.43 2400.34]]\n\n  [[2400.57 2400.79 2400.62 ... 2400.   2400.35 2400.63]\n   [2400.73 2400.74 2400.81 ... 2400.05 2400.41 2400.54]\n   [2400.74 2400.79 2400.58 ... 2400.64 2400.92 2400.24]\n   ...\n   [2400.33 2400.65 2400.95 ... 2400.1  2400.74 2400.87]\n   [2400.59 2400.63 2400.39 ... 2400.83 2400.62 2400.36]\n   [2400.37 2400.42 2400.95 ... 2400.06 2400.5  2400.19]]\n\n  [[2400.39 2400.87 2400.59 ... 2400.49 2400.07 2400.53]\n   [2400.81 2400.24 2400.07 ... 2400.19 2400.72 2400.03]\n   [2400.92 2400.27 2400.07 ... 2400.88 2400.83 2400.3 ]\n   ...\n   [2400.26 2400.08 2400.22 ... 2400.94 2400.27 2400.79]\n   [2400.97 2400.53 2400.42 ... 2400.83 2400.58 2400.84]\n   [2400.85 2400.73 2400.95 ... 2400.99 2400.35 2400.05]]]\n\n\n [[[2400.28 2400.46 2400.55 ... 2400.61 2400.34 2400.14]\n   [2400.08 2400.12 2400.54 ... 2400.2  2400.97 2400.23]\n   [2400.66 2400.98 2400.55 ... 2400.45 2400.19 2400.53]\n   ...\n   [2400.91 2400.04 2400.96 ... 2400.5  2400.41 2400.68]\n   [2400.14 2400.36 2400.57 ... 2400.78 2400.7  2400.59]\n   [2400.01 2400.08 2400.34 ... 2400.32 2400.86 2400.44]]\n\n  [[2400.46 2400.68 2400.26 ... 2400.7  2400.74 2400.1 ]\n   [2400.21 2400.04 2400.68 ... 2400.68 2400.39 2400.23]\n   [2400.44 2400.38 2400.39 ... 2400.25 2400.36 2400.53]\n   ...\n   [2400.99 2400.5  2400.51 ... 2400.41 2400.95 2400.78]\n   [2400.6  2400.95 2400.96 ... 2400.05 2400.17 2400.06]\n   [2400.63 2400.71 2400.76 ... 2400.63 2400.03 2400.69]]\n\n  [[2400.75 2400.38 2400.21 ... 2400.75 2400.89 2400.26]\n   [2400.38 2400.98 2400.87 ... 2400.84 2400.45 2400.64]\n   [2400.1  2400.26 2400.44 ... 2400.58 2400.64 2401.  ]\n   ...\n   [2400.13 2400.26 2400.77 ... 2400.97 2400.02 2400.61]\n   [2400.88 2400.87 2400.53 ... 2400.73 2400.86 2400.21]\n   [2400.99 2400.25 2400.78 ... 2400.77 2400.54 2400.88]]\n\n  ...\n\n  [[2400.33 2400.07 2400.51 ... 2400.35 2400.76 2400.39]\n   [2400.18 2400.96 2400.45 ... 2400.98 2400.99 2400.22]\n   [2400.31 2400.25 2400.2  ... 2400.42 2400.74 2400.68]\n   ...\n   [2400.65 2400.06 2400.07 ... 2400.03 2400.63 2400.24]\n   [2400.62 2400.16 2400.2  ... 2400.07 2400.98 2400.62]\n   [2400.19 2400.82 2400.55 ... 2400.2  2400.29 2400.22]]\n\n  [[2400.44 2400.12 2400.19 ... 2400.7  2400.37 2400.12]\n   [2400.94 2400.17 2400.83 ... 2400.8  2400.23 2400.1 ]\n   [2400.59 2400.79 2400.47 ... 2400.52 2400.72 2400.51]\n   ...\n   [2400.09 2400.63 2400.59 ... 2400.49 2400.65 2400.82]\n   [2400.18 2400.86 2400.81 ... 2400.24 2400.75 2400.88]\n   [2400.37 2400.29 2400.19 ... 2400.09 2400.29 2400.25]]\n\n  [[2400.17 2400.96 2400.94 ... 2400.61 2400.47 2400.09]\n   [2400.52 2400.42 2400.56 ... 2400.28 2400.63 2400.89]\n   [2400.04 2400.8  2400.7  ... 2400.58 2400.74 2400.6 ]\n   ...\n   [2400.38 2400.64 2400.24 ... 2400.61 2400.15 2400.61]\n   [2400.14 2400.88 2400.21 ... 2400.87 2400.2  2400.73]\n   [2400.12 2400.36 2400.84 ... 2400.43 2400.65 2400.2 ]]]\n\n\n [[[2400.9  2400.43 2400.25 ... 2400.63 2400.25 2400.62]\n   [2400.86 2400.05 2400.03 ... 2400.37 2400.89 2400.51]\n   [2400.59 2400.49 2400.64 ... 2400.4  2400.13 2400.62]\n   ...\n   [2400.99 2400.1  2400.27 ... 2400.61 2400.69 2400.87]\n   [2400.52 2400.22 2400.85 ... 2400.38 2400.12 2401.  ]\n   [2400.9  2400.85 2400.94 ... 2400.3  2400.31 2400.03]]\n\n  [[2400.42 2400.02 2400.93 ... 2400.85 2400.69 2400.04]\n   [2400.42 2400.38 2400.47 ... 2400.18 2400.45 2400.79]\n   [2400.35 2400.85 2400.89 ... 2400.19 2400.3  2400.46]\n   ...\n   [2400.67 2400.06 2400.6  ... 2400.43 2400.61 2400.57]\n   [2400.19 2400.93 2400.67 ... 2400.44 2400.85 2400.69]\n   [2400.76 2400.95 2400.38 ... 2400.98 2400.05 2400.64]]\n\n  [[2400.75 2400.07 2400.22 ... 2400.23 2400.1  2400.62]\n   [2400.47 2400.62 2400.96 ... 2400.7  2400.23 2400.2 ]\n   [2400.72 2400.3  2400.87 ... 2400.79 2400.28 2400.87]\n   ...\n   [2400.64 2400.44 2400.12 ... 2400.84 2400.52 2400.03]\n   [2400.97 2400.08 2400.42 ... 2400.49 2400.8  2400.99]\n   [2400.87 2400.75 2400.02 ... 2400.87 2400.2  2400.76]]\n\n  ...\n\n  [[2400.74 2400.08 2400.83 ... 2400.39 2400.59 2400.05]\n   [2400.69 2400.68 2400.47 ... 2400.28 2400.11 2400.9 ]\n   [2400.91 2400.1  2400.02 ... 2400.36 2400.86 2400.44]\n   ...\n   [2400.89 2400.63 2400.7  ... 2400.81 2400.12 2400.5 ]\n   [2400.74 2400.15 2400.25 ... 2400.66 2400.47 2400.92]\n   [2400.89 2400.05 2400.17 ... 2400.65 2400.25 2400.89]]\n\n  [[2400.91 2400.23 2400.12 ... 2400.81 2400.21 2400.63]\n   [2400.21 2400.94 2400.48 ... 2400.8  2400.87 2400.89]\n   [2400.15 2400.02 2400.03 ... 2400.08 2400.21 2400.42]\n   ...\n   [2400.6  2400.01 2400.8  ... 2400.78 2400.23 2400.11]\n   [2400.15 2400.21 2400.83 ... 2400.69 2400.6  2400.77]\n   [2400.76 2400.96 2400.96 ... 2400.67 2400.13 2400.12]]\n\n  [[2400.11 2400.14 2400.39 ... 2400.08 2400.59 2400.47]\n   [2400.45 2400.79 2400.42 ... 2400.05 2400.7  2400.81]\n   [2400.63 2400.66 2400.52 ... 2400.46 2400.81 2400.31]\n   ...\n   [2400.12 2400.61 2400.98 ... 2400.71 2400.1  2400.73]\n   [2400.25 2400.37 2400.66 ... 2400.01 2400.07 2400.75]\n   [2400.3  2400.65 2400.54 ... 2400.68 2400.8  2400.18]]]\n\n\n [[[2400.   2400.16 2400.7  ... 2400.84 2400.27 2400.7 ]\n   [2400.67 2400.52 2400.84 ... 2400.47 2400.01 2401.  ]\n   [2400.2  2400.7  2400.56 ... 2400.47 2400.04 2400.67]\n   ...\n   [2400.06 2400.22 2400.49 ... 2400.26 2400.93 2400.59]\n   [2400.71 2400.85 2400.03 ... 2400.69 2400.55 2400.71]\n   [2400.98 2400.44 2400.43 ... 2400.77 2400.57 2400.14]]\n\n  [[2400.77 2400.75 2400.71 ... 2400.12 2400.4  2400.47]\n   [2400.26 2400.59 2400.83 ... 2400.11 2400.37 2400.02]\n   [2400.66 2400.44 2400.19 ... 2400.09 2400.13 2400.13]\n   ...\n   [2400.51 2400.02 2400.64 ... 2400.01 2400.49 2400.57]\n   [2400.62 2400.84 2400.02 ... 2400.12 2400.14 2400.79]\n   [2400.69 2400.35 2400.31 ... 2400.78 2400.88 2400.29]]\n\n  [[2400.64 2400.34 2400.58 ... 2400.91 2400.73 2400.78]\n   [2400.07 2400.29 2400.28 ... 2400.95 2400.11 2400.82]\n   [2400.65 2400.55 2400.57 ... 2400.58 2400.26 2400.01]\n   ...\n   [2400.59 2400.59 2400.71 ... 2400.71 2400.29 2400.71]\n   [2400.43 2400.52 2400.37 ... 2400.71 2400.04 2400.5 ]\n   [2400.56 2400.81 2400.48 ... 2400.03 2400.73 2400.86]]\n\n  ...\n\n  [[2400.96 2400.82 2400.91 ... 2400.64 2400.1  2400.23]\n   [2400.19 2400.07 2400.29 ... 2400.15 2400.93 2400.97]\n   [2400.66 2400.23 2400.03 ... 2400.16 2400.5  2400.02]\n   ...\n   [2400.26 2400.79 2400.79 ... 2400.25 2400.8  2400.29]\n   [2400.24 2400.42 2400.42 ... 2400.31 2400.7  2400.87]\n   [2400.41 2400.95 2400.21 ... 2400.46 2400.51 2400.01]]\n\n  [[2400.56 2400.5  2400.9  ... 2400.89 2400.49 2400.19]\n   [2400.13 2400.2  2400.14 ... 2400.45 2400.04 2400.18]\n   [2400.23 2400.3  2400.34 ... 2400.88 2400.62 2400.33]\n   ...\n   [2400.64 2400.99 2400.7  ... 2400.28 2400.95 2400.62]\n   [2400.73 2400.28 2400.39 ... 2400.71 2400.95 2400.52]\n   [2400.44 2400.59 2400.85 ... 2400.61 2400.16 2400.63]]\n\n  [[2400.16 2400.58 2400.18 ... 2400.97 2400.14 2400.29]\n   [2400.72 2400.44 2400.61 ... 2400.75 2400.08 2400.99]\n   [2400.07 2400.83 2400.88 ... 2400.11 2400.27 2400.82]\n   ...\n   [2400.84 2400.6  2400.79 ... 2400.08 2400.73 2400.52]\n   [2400.97 2400.7  2400.12 ... 2400.32 2400.55 2400.72]\n   [2400.73 2400.69 2400.25 ... 2400.9  2400.13 2400.46]]]]\nindex: 241: value: [[[[2410.44 2410.23 2410.59 ... 2410.12 2410.54 2410.63]\n   [2410.28 2410.99 2410.8  ... 2410.2  2410.43 2410.62]\n   [2410.64 2410.89 2410.35 ... 2410.36 2410.96 2410.79]\n   ...\n   [2410.73 2410.09 2410.03 ... 2410.74 2410.06 2410.51]\n   [2410.41 2410.23 2410.91 ... 2410.39 2410.41 2410.45]\n   [2410.68 2410.32 2410.78 ... 2410.95 2410.58 2410.44]]\n\n  [[2410.06 2410.59 2410.59 ... 2410.04 2410.62 2410.48]\n   [2410.06 2410.53 2410.1  ... 2410.53 2410.93 2410.16]\n   [2410.45 2410.72 2410.91 ... 2410.27 2410.03 2410.49]\n   ...\n   [2410.66 2410.32 2410.61 ... 2410.86 2410.37 2410.55]\n   [2410.96 2410.08 2410.84 ... 2410.61 2410.58 2410.03]\n   [2410.77 2410.66 2410.09 ... 2410.93 2410.99 2410.98]]\n\n  [[2410.63 2410.12 2410.73 ... 2410.6  2410.04 2410.54]\n   [2410.09 2410.12 2410.38 ... 2410.58 2410.71 2410.05]\n   [2410.64 2410.11 2410.57 ... 2410.22 2410.67 2410.19]\n   ...\n   [2411.   2410.42 2410.22 ... 2410.28 2410.25 2410.15]\n   [2410.57 2410.49 2410.95 ... 2410.49 2410.24 2410.52]\n   [2410.77 2410.64 2410.39 ... 2410.62 2410.82 2410.7 ]]\n\n  ...\n\n  [[2410.13 2410.8  2410.73 ... 2410.05 2410.39 2410.96]\n   [2410.91 2410.82 2410.07 ... 2410.71 2410.64 2410.17]\n   [2410.17 2410.3  2410.14 ... 2410.67 2410.01 2410.98]\n   ...\n   [2410.35 2410.11 2410.85 ... 2410.7  2410.94 2410.14]\n   [2410.66 2410.21 2410.59 ... 2410.33 2410.72 2410.05]\n   [2410.2  2410.16 2410.17 ... 2410.24 2410.38 2410.49]]\n\n  [[2410.79 2410.83 2410.86 ... 2410.4  2410.62 2410.52]\n   [2410.46 2410.13 2410.12 ... 2410.32 2410.85 2410.54]\n   [2410.48 2410.21 2410.52 ... 2410.63 2410.46 2410.17]\n   ...\n   [2410.04 2410.35 2410.09 ... 2410.27 2410.36 2410.82]\n   [2410.75 2410.68 2410.22 ... 2410.63 2410.87 2410.07]\n   [2410.04 2410.89 2410.29 ... 2410.51 2410.25 2410.95]]\n\n  [[2410.73 2410.46 2410.64 ... 2410.44 2410.55 2410.05]\n   [2410.68 2410.46 2410.36 ... 2410.82 2410.72 2410.79]\n   [2410.53 2410.56 2410.2  ... 2410.66 2410.66 2410.53]\n   ...\n   [2410.38 2410.08 2410.8  ... 2410.63 2410.71 2410.45]\n   [2410.33 2410.22 2410.06 ... 2410.23 2410.98 2410.47]\n   [2410.26 2410.42 2410.28 ... 2410.75 2410.72 2410.05]]]\n\n\n [[[2410.32 2410.24 2410.04 ... 2410.56 2410.5  2410.75]\n   [2410.04 2410.85 2410.63 ... 2410.32 2410.35 2410.51]\n   [2410.92 2410.1  2410.11 ... 2410.99 2410.65 2410.35]\n   ...\n   [2410.23 2410.43 2410.67 ... 2410.34 2410.83 2410.35]\n   [2410.2  2410.96 2410.95 ... 2410.97 2410.46 2410.02]\n   [2410.56 2410.58 2410.57 ... 2410.07 2410.1  2410.64]]\n\n  [[2410.3  2410.78 2410.99 ... 2410.9  2410.08 2410.36]\n   [2410.74 2410.03 2410.5  ... 2410.66 2410.53 2410.08]\n   [2410.68 2410.14 2410.58 ... 2410.36 2410.67 2410.26]\n   ...\n   [2410.13 2410.26 2410.1  ... 2410.74 2410.42 2410.59]\n   [2410.76 2410.72 2410.15 ... 2410.23 2410.04 2410.95]\n   [2410.26 2410.47 2410.39 ... 2410.46 2410.02 2410.15]]\n\n  [[2410.14 2410.31 2410.37 ... 2410.2  2410.2  2410.31]\n   [2410.25 2410.6  2410.3  ... 2410.41 2410.42 2410.24]\n   [2410.87 2410.4  2410.45 ... 2410.7  2410.23 2410.58]\n   ...\n   [2410.25 2410.02 2410.03 ... 2410.12 2410.96 2410.34]\n   [2410.37 2410.1  2410.79 ... 2410.91 2410.3  2410.12]\n   [2410.45 2410.29 2410.55 ... 2410.34 2410.14 2410.13]]\n\n  ...\n\n  [[2410.49 2410.62 2410.01 ... 2410.85 2410.39 2410.82]\n   [2410.3  2410.71 2410.94 ... 2410.95 2410.86 2410.23]\n   [2410.75 2410.83 2410.15 ... 2410.23 2410.36 2410.46]\n   ...\n   [2410.42 2410.48 2410.13 ... 2410.36 2410.38 2410.52]\n   [2410.94 2410.84 2410.27 ... 2410.2  2410.71 2410.85]\n   [2410.03 2410.6  2410.09 ... 2410.67 2410.92 2410.66]]\n\n  [[2410.75 2410.39 2410.21 ... 2410.95 2410.58 2410.12]\n   [2410.05 2410.56 2410.36 ... 2410.4  2410.05 2410.31]\n   [2410.81 2410.22 2410.79 ... 2410.36 2410.79 2410.18]\n   ...\n   [2410.6  2410.52 2410.94 ... 2410.3  2410.61 2410.28]\n   [2410.69 2410.22 2410.11 ... 2410.52 2410.73 2410.94]\n   [2410.55 2410.73 2410.61 ... 2410.54 2410.16 2410.52]]\n\n  [[2410.81 2410.37 2410.57 ... 2410.26 2410.9  2410.87]\n   [2410.99 2410.84 2410.86 ... 2410.96 2410.66 2410.95]\n   [2410.09 2410.24 2410.27 ... 2410.55 2410.88 2410.2 ]\n   ...\n   [2410.84 2410.25 2410.8  ... 2410.14 2410.04 2410.87]\n   [2410.2  2410.63 2410.28 ... 2410.68 2410.93 2410.38]\n   [2410.69 2410.76 2410.19 ... 2410.   2410.27 2410.62]]]\n\n\n [[[2410.88 2410.98 2410.44 ... 2410.1  2410.29 2410.14]\n   [2410.59 2410.65 2410.23 ... 2410.58 2410.18 2410.34]\n   [2410.97 2411.   2410.84 ... 2410.24 2410.92 2410.12]\n   ...\n   [2410.54 2410.41 2410.93 ... 2410.41 2410.39 2410.65]\n   [2410.14 2410.8  2410.15 ... 2410.05 2410.99 2410.03]\n   [2410.68 2410.37 2410.86 ... 2410.64 2410.33 2410.93]]\n\n  [[2410.72 2410.72 2410.44 ... 2410.84 2410.55 2410.94]\n   [2410.   2410.13 2410.53 ... 2410.84 2410.28 2410.13]\n   [2410.17 2410.08 2410.66 ... 2410.75 2410.91 2410.88]\n   ...\n   [2410.2  2410.85 2410.34 ... 2410.77 2410.62 2410.31]\n   [2410.99 2410.73 2410.42 ... 2411.   2410.38 2410.5 ]\n   [2410.07 2410.96 2410.74 ... 2410.24 2410.9  2410.46]]\n\n  [[2410.45 2410.17 2410.25 ... 2410.47 2410.21 2410.74]\n   [2410.6  2410.63 2410.31 ... 2410.09 2410.91 2410.7 ]\n   [2410.02 2410.42 2410.12 ... 2410.06 2410.44 2410.38]\n   ...\n   [2410.25 2410.98 2410.16 ... 2410.8  2410.31 2410.36]\n   [2410.49 2410.86 2410.62 ... 2410.65 2410.62 2410.46]\n   [2410.55 2410.22 2410.65 ... 2410.26 2410.08 2410.11]]\n\n  ...\n\n  [[2410.52 2410.66 2410.79 ... 2410.3  2410.79 2410.65]\n   [2410.41 2410.84 2410.09 ... 2410.07 2410.55 2410.31]\n   [2410.83 2410.05 2410.79 ... 2410.46 2410.13 2410.57]\n   ...\n   [2410.06 2410.52 2410.77 ... 2410.19 2410.5  2410.52]\n   [2410.69 2410.59 2410.31 ... 2410.3  2410.81 2410.47]\n   [2410.57 2410.31 2410.53 ... 2410.01 2410.91 2410.19]]\n\n  [[2410.86 2410.28 2410.44 ... 2410.86 2410.45 2410.35]\n   [2410.74 2410.01 2410.27 ... 2410.93 2410.72 2410.5 ]\n   [2410.88 2410.2  2410.29 ... 2410.93 2410.33 2410.81]\n   ...\n   [2410.69 2410.82 2410.64 ... 2410.53 2410.   2410.02]\n   [2410.22 2410.23 2410.12 ... 2410.61 2410.68 2410.76]\n   [2410.54 2410.25 2410.3  ... 2410.65 2410.54 2410.18]]\n\n  [[2410.58 2410.03 2410.18 ... 2410.39 2410.63 2410.43]\n   [2410.27 2410.64 2410.07 ... 2411.   2410.18 2410.59]\n   [2410.57 2410.98 2410.83 ... 2410.45 2410.25 2410.18]\n   ...\n   [2410.52 2410.91 2410.83 ... 2410.16 2410.28 2410.09]\n   [2410.84 2410.   2410.74 ... 2410.7  2410.67 2410.91]\n   [2410.1  2410.55 2410.54 ... 2410.95 2410.95 2410.15]]]\n\n\n [[[2410.84 2410.74 2410.44 ... 2410.27 2410.62 2410.5 ]\n   [2410.3  2410.94 2410.51 ... 2410.26 2410.36 2410.43]\n   [2410.21 2410.45 2410.16 ... 2410.62 2410.25 2410.95]\n   ...\n   [2410.32 2410.87 2410.56 ... 2410.34 2410.86 2410.17]\n   [2410.72 2410.86 2410.11 ... 2410.24 2410.83 2410.78]\n   [2410.5  2410.47 2410.7  ... 2410.44 2410.56 2410.92]]\n\n  [[2410.21 2410.42 2410.08 ... 2410.11 2410.48 2410.18]\n   [2410.26 2410.97 2410.97 ... 2410.78 2410.35 2410.47]\n   [2410.04 2410.3  2410.62 ... 2410.13 2410.12 2410.78]\n   ...\n   [2410.69 2410.48 2410.08 ... 2410.63 2410.67 2410.12]\n   [2410.52 2410.67 2410.56 ... 2410.33 2410.4  2410.55]\n   [2410.65 2410.4  2410.54 ... 2410.64 2410.58 2410.44]]\n\n  [[2410.85 2410.76 2410.13 ... 2410.82 2410.04 2410.67]\n   [2410.16 2410.38 2410.64 ... 2410.93 2410.86 2410.3 ]\n   [2410.02 2410.02 2410.02 ... 2410.91 2410.51 2410.11]\n   ...\n   [2410.59 2410.95 2410.14 ... 2410.85 2410.56 2410.25]\n   [2410.91 2410.79 2410.67 ... 2410.24 2410.11 2410.29]\n   [2410.36 2410.61 2410.13 ... 2410.87 2410.47 2410.63]]\n\n  ...\n\n  [[2410.69 2410.8  2410.99 ... 2410.1  2410.76 2410.74]\n   [2410.49 2410.4  2410.49 ... 2410.57 2410.74 2410.76]\n   [2410.06 2410.58 2410.93 ... 2410.28 2410.86 2410.29]\n   ...\n   [2410.27 2410.48 2410.45 ... 2410.74 2410.1  2410.94]\n   [2410.25 2410.03 2410.18 ... 2410.73 2410.2  2410.64]\n   [2410.99 2410.07 2410.77 ... 2410.12 2410.55 2410.14]]\n\n  [[2410.18 2410.98 2410.74 ... 2410.77 2410.58 2410.98]\n   [2410.28 2410.32 2410.96 ... 2410.56 2410.54 2410.46]\n   [2410.72 2410.88 2410.6  ... 2410.15 2410.42 2410.43]\n   ...\n   [2410.79 2410.16 2410.88 ... 2410.81 2410.53 2410.87]\n   [2410.03 2410.54 2410.85 ... 2410.93 2410.54 2410.1 ]\n   [2410.36 2410.3  2410.8  ... 2410.36 2410.41 2410.99]]\n\n  [[2410.33 2410.11 2410.1  ... 2410.29 2410.09 2410.93]\n   [2410.76 2410.47 2410.07 ... 2410.21 2410.31 2410.03]\n   [2410.73 2410.63 2410.25 ... 2410.34 2410.54 2410.91]\n   ...\n   [2410.83 2410.42 2410.46 ... 2410.42 2410.28 2410.67]\n   [2410.83 2410.13 2410.84 ... 2410.3  2410.72 2410.66]\n   [2410.47 2410.6  2410.19 ... 2410.07 2410.27 2410.75]]]]\nindex: 242: value: [[[[2420.45 2420.99 2420.13 ... 2420.83 2420.61 2420.3 ]\n   [2420.3  2420.38 2420.47 ... 2420.82 2420.24 2420.14]\n   [2420.72 2420.24 2420.9  ... 2420.02 2420.53 2420.43]\n   ...\n   [2420.14 2420.51 2420.81 ... 2420.7  2420.66 2420.1 ]\n   [2420.6  2420.1  2420.5  ... 2420.08 2420.14 2420.83]\n   [2420.2  2421.   2420.54 ... 2420.98 2420.02 2420.26]]\n\n  [[2420.75 2420.47 2420.98 ... 2420.33 2420.63 2420.63]\n   [2420.7  2420.26 2420.19 ... 2420.71 2420.02 2420.96]\n   [2420.03 2420.86 2420.24 ... 2420.9  2420.5  2420.26]\n   ...\n   [2420.8  2420.28 2420.19 ... 2420.51 2420.36 2420.36]\n   [2420.05 2420.61 2420.9  ... 2420.34 2420.36 2420.81]\n   [2420.46 2420.12 2420.13 ... 2420.88 2420.36 2420.81]]\n\n  [[2420.38 2420.63 2420.87 ... 2420.05 2420.46 2420.63]\n   [2420.28 2420.46 2420.22 ... 2420.1  2420.53 2420.96]\n   [2420.11 2420.37 2420.87 ... 2420.2  2420.9  2420.04]\n   ...\n   [2420.37 2420.26 2421.   ... 2420.34 2420.47 2420.57]\n   [2420.21 2420.85 2420.47 ... 2420.73 2420.89 2420.43]\n   [2420.42 2420.43 2420.38 ... 2420.52 2420.94 2420.76]]\n\n  ...\n\n  [[2420.99 2420.19 2420.85 ... 2420.43 2420.39 2420.45]\n   [2420.38 2420.17 2420.57 ... 2420.47 2420.65 2420.2 ]\n   [2420.   2420.3  2420.27 ... 2420.65 2420.   2420.24]\n   ...\n   [2420.97 2420.5  2420.24 ... 2420.05 2420.38 2420.11]\n   [2420.77 2420.13 2420.78 ... 2420.46 2420.02 2420.96]\n   [2420.98 2420.29 2420.16 ... 2420.23 2420.08 2420.99]]\n\n  [[2420.17 2420.92 2420.74 ... 2420.34 2420.14 2420.98]\n   [2420.02 2420.67 2420.55 ... 2420.17 2420.14 2420.77]\n   [2420.56 2420.61 2420.39 ... 2420.29 2420.56 2420.31]\n   ...\n   [2420.69 2420.22 2420.34 ... 2420.55 2420.9  2420.39]\n   [2420.07 2420.61 2420.43 ... 2420.88 2420.34 2421.  ]\n   [2420.43 2420.27 2420.8  ... 2420.1  2420.24 2420.98]]\n\n  [[2420.62 2420.44 2420.04 ... 2420.06 2420.74 2420.44]\n   [2420.59 2420.04 2420.05 ... 2420.27 2420.54 2420.25]\n   [2420.52 2420.84 2420.98 ... 2420.59 2420.4  2420.9 ]\n   ...\n   [2420.56 2420.92 2420.34 ... 2420.2  2420.63 2420.22]\n   [2420.16 2420.99 2420.76 ... 2420.65 2420.48 2420.8 ]\n   [2420.6  2420.22 2420.1  ... 2420.43 2420.32 2420.71]]]\n\n\n [[[2420.81 2420.77 2420.34 ... 2420.18 2420.39 2420.27]\n   [2420.08 2420.93 2420.31 ... 2420.58 2420.58 2420.08]\n   [2420.81 2420.36 2420.52 ... 2420.32 2420.6  2420.83]\n   ...\n   [2420.03 2420.39 2420.29 ... 2420.11 2420.88 2420.91]\n   [2420.11 2420.7  2420.03 ... 2420.39 2420.62 2420.4 ]\n   [2420.21 2420.21 2420.14 ... 2420.58 2420.62 2420.09]]\n\n  [[2420.39 2420.83 2420.34 ... 2420.49 2420.36 2420.14]\n   [2420.62 2420.08 2420.75 ... 2420.17 2420.15 2420.72]\n   [2420.43 2420.59 2420.14 ... 2420.9  2420.66 2420.82]\n   ...\n   [2420.5  2420.41 2420.83 ... 2420.19 2420.43 2420.35]\n   [2420.18 2420.64 2420.7  ... 2420.2  2420.34 2420.57]\n   [2420.87 2420.41 2420.76 ... 2420.73 2420.11 2420.72]]\n\n  [[2420.24 2420.39 2420.77 ... 2420.46 2420.39 2420.19]\n   [2420.32 2420.91 2420.05 ... 2420.81 2420.03 2420.84]\n   [2420.88 2420.88 2420.9  ... 2420.89 2420.53 2420.02]\n   ...\n   [2420.7  2420.32 2420.49 ... 2420.03 2420.1  2420.54]\n   [2420.37 2420.93 2420.26 ... 2420.12 2420.35 2420.82]\n   [2420.01 2420.26 2420.15 ... 2420.9  2420.76 2420.71]]\n\n  ...\n\n  [[2420.95 2420.71 2420.73 ... 2420.47 2420.66 2420.91]\n   [2420.47 2420.45 2420.06 ... 2420.94 2420.91 2420.54]\n   [2420.34 2420.21 2420.33 ... 2420.9  2420.1  2420.13]\n   ...\n   [2420.34 2420.48 2420.77 ... 2420.27 2420.17 2420.6 ]\n   [2420.19 2420.65 2420.01 ... 2420.99 2420.64 2420.44]\n   [2420.66 2420.41 2420.71 ... 2420.87 2420.79 2420.92]]\n\n  [[2420.76 2420.32 2420.41 ... 2420.41 2420.91 2420.42]\n   [2420.92 2420.56 2420.88 ... 2420.1  2420.04 2420.52]\n   [2420.7  2420.68 2420.66 ... 2420.15 2420.26 2420.74]\n   ...\n   [2420.86 2420.31 2420.1  ... 2420.22 2420.67 2420.18]\n   [2420.45 2420.36 2420.83 ... 2420.77 2420.32 2420.24]\n   [2420.13 2420.55 2420.91 ... 2420.07 2420.69 2420.98]]\n\n  [[2420.27 2420.03 2420.98 ... 2420.32 2420.49 2420.29]\n   [2420.95 2420.96 2420.4  ... 2420.52 2420.3  2420.43]\n   [2420.95 2420.62 2420.43 ... 2420.4  2420.87 2420.63]\n   ...\n   [2420.03 2420.42 2420.2  ... 2420.7  2420.1  2420.45]\n   [2420.01 2420.78 2420.59 ... 2420.09 2420.95 2420.55]\n   [2420.88 2420.78 2420.63 ... 2420.98 2420.71 2420.31]]]\n\n\n [[[2420.48 2420.52 2420.34 ... 2420.06 2420.94 2420.21]\n   [2420.35 2420.02 2420.67 ... 2420.64 2420.55 2420.58]\n   [2420.36 2420.07 2420.57 ... 2420.78 2420.68 2420.74]\n   ...\n   [2420.16 2420.6  2420.76 ... 2420.78 2420.86 2420.23]\n   [2420.96 2420.42 2420.29 ... 2420.36 2420.13 2420.91]\n   [2420.77 2420.71 2420.14 ... 2420.05 2420.25 2420.54]]\n\n  [[2420.15 2420.84 2420.71 ... 2420.06 2420.01 2420.74]\n   [2420.25 2420.82 2420.92 ... 2420.69 2420.59 2420.04]\n   [2420.83 2420.47 2420.13 ... 2420.51 2420.98 2420.92]\n   ...\n   [2420.56 2420.82 2420.46 ... 2420.83 2420.44 2420.08]\n   [2420.89 2420.98 2420.04 ... 2420.18 2420.49 2420.73]\n   [2420.11 2420.29 2420.02 ... 2420.83 2420.53 2420.11]]\n\n  [[2420.41 2420.67 2420.09 ... 2420.58 2420.08 2420.53]\n   [2420.78 2420.12 2420.52 ... 2420.2  2420.72 2420.02]\n   [2420.06 2420.92 2420.79 ... 2420.05 2420.96 2420.28]\n   ...\n   [2420.44 2420.29 2420.23 ... 2420.75 2420.73 2420.79]\n   [2420.17 2420.59 2420.24 ... 2420.74 2420.95 2420.66]\n   [2420.72 2420.05 2420.71 ... 2420.2  2420.95 2420.33]]\n\n  ...\n\n  [[2420.21 2420.38 2420.59 ... 2420.14 2420.23 2420.87]\n   [2420.48 2420.63 2420.83 ... 2420.84 2420.57 2420.9 ]\n   [2420.41 2420.23 2420.08 ... 2420.14 2420.83 2420.46]\n   ...\n   [2420.14 2420.68 2420.8  ... 2420.49 2420.48 2420.92]\n   [2420.21 2420.65 2420.73 ... 2420.83 2420.65 2420.34]\n   [2420.83 2420.28 2420.21 ... 2420.51 2420.18 2420.54]]\n\n  [[2420.11 2420.51 2420.09 ... 2420.19 2420.08 2420.24]\n   [2420.49 2420.02 2420.54 ... 2420.82 2420.38 2420.23]\n   [2420.2  2420.87 2420.58 ... 2420.62 2420.66 2420.67]\n   ...\n   [2420.34 2420.76 2420.12 ... 2420.88 2420.43 2420.55]\n   [2420.89 2420.79 2420.28 ... 2420.55 2420.45 2420.49]\n   [2420.22 2420.82 2420.63 ... 2420.59 2420.21 2420.12]]\n\n  [[2420.28 2420.12 2420.9  ... 2420.2  2420.87 2420.99]\n   [2420.48 2420.43 2420.06 ... 2420.9  2420.09 2420.66]\n   [2420.88 2420.7  2420.84 ... 2420.13 2420.34 2420.47]\n   ...\n   [2420.37 2420.36 2420.9  ... 2420.19 2420.09 2420.95]\n   [2420.84 2420.13 2420.84 ... 2420.33 2420.05 2420.7 ]\n   [2420.74 2420.99 2420.99 ... 2420.36 2420.39 2420.71]]]\n\n\n [[[2420.32 2420.92 2420.13 ... 2420.68 2420.97 2420.1 ]\n   [2420.5  2420.67 2420.35 ... 2420.77 2420.91 2420.09]\n   [2420.45 2420.24 2420.48 ... 2420.13 2420.79 2420.87]\n   ...\n   [2420.98 2420.05 2420.58 ... 2420.55 2420.57 2420.31]\n   [2420.39 2420.76 2420.89 ... 2420.89 2420.16 2420.02]\n   [2420.58 2420.33 2420.66 ... 2420.39 2420.11 2420.16]]\n\n  [[2420.79 2420.88 2420.95 ... 2420.91 2420.25 2420.44]\n   [2420.58 2420.43 2420.71 ... 2420.22 2420.06 2420.86]\n   [2420.85 2420.83 2420.04 ... 2420.18 2420.5  2420.41]\n   ...\n   [2420.22 2420.09 2420.08 ... 2420.03 2420.46 2420.88]\n   [2420.91 2420.17 2420.45 ... 2420.73 2420.07 2420.24]\n   [2420.03 2420.01 2420.4  ... 2420.15 2420.21 2420.99]]\n\n  [[2420.66 2420.03 2420.36 ... 2420.19 2420.21 2420.13]\n   [2420.27 2420.47 2420.5  ... 2420.13 2420.75 2420.24]\n   [2420.25 2420.2  2420.51 ... 2420.02 2420.9  2420.94]\n   ...\n   [2420.57 2420.67 2420.51 ... 2420.04 2420.76 2420.  ]\n   [2420.07 2420.31 2420.55 ... 2420.11 2420.33 2420.54]\n   [2420.16 2420.09 2420.68 ... 2420.8  2420.44 2420.18]]\n\n  ...\n\n  [[2420.39 2420.12 2420.23 ... 2420.01 2420.76 2420.96]\n   [2420.64 2420.8  2420.51 ... 2420.81 2420.76 2420.78]\n   [2420.19 2420.25 2420.51 ... 2420.43 2420.92 2420.14]\n   ...\n   [2420.1  2420.62 2420.22 ... 2420.9  2420.84 2420.15]\n   [2420.78 2420.73 2420.31 ... 2420.12 2420.02 2420.09]\n   [2420.8  2420.71 2420.92 ... 2420.95 2420.83 2420.14]]\n\n  [[2420.8  2420.46 2420.37 ... 2420.26 2420.9  2420.18]\n   [2421.   2420.72 2420.29 ... 2420.31 2420.61 2420.17]\n   [2420.92 2420.77 2420.77 ... 2420.85 2420.92 2420.38]\n   ...\n   [2420.06 2420.31 2420.84 ... 2420.2  2420.09 2420.19]\n   [2420.23 2420.7  2420.23 ... 2420.04 2420.5  2420.66]\n   [2420.58 2420.22 2420.28 ... 2420.91 2420.82 2420.93]]\n\n  [[2420.45 2420.47 2420.74 ... 2420.65 2420.56 2420.88]\n   [2420.48 2420.67 2420.18 ... 2420.36 2420.9  2420.18]\n   [2420.57 2420.24 2420.61 ... 2420.39 2420.05 2420.17]\n   ...\n   [2420.13 2420.1  2420.37 ... 2420.56 2420.6  2420.07]\n   [2420.   2420.99 2420.15 ... 2420.12 2420.03 2420.21]\n   [2420.86 2420.77 2420.58 ... 2420.87 2420.29 2420.4 ]]]]\nindex: 243: value: [[[[2430.09 2430.46 2430.09 ... 2430.73 2430.07 2430.84]\n   [2430.28 2430.2  2430.88 ... 2430.28 2430.64 2430.06]\n   [2430.92 2430.72 2430.55 ... 2430.22 2430.85 2430.15]\n   ...\n   [2431.   2430.7  2430.73 ... 2430.13 2430.86 2430.94]\n   [2430.13 2430.01 2430.34 ... 2430.7  2430.9  2430.74]\n   [2430.59 2430.9  2430.13 ... 2430.7  2430.71 2430.61]]\n\n  [[2430.81 2430.43 2430.34 ... 2430.03 2430.38 2430.33]\n   [2430.   2430.92 2430.28 ... 2430.51 2430.54 2430.57]\n   [2430.25 2430.42 2430.91 ... 2430.5  2430.77 2430.56]\n   ...\n   [2430.42 2430.41 2430.99 ... 2430.58 2430.94 2430.  ]\n   [2430.6  2430.98 2430.53 ... 2430.91 2430.95 2430.56]\n   [2430.87 2430.52 2430.31 ... 2430.58 2430.62 2430.31]]\n\n  [[2430.47 2430.47 2430.31 ... 2430.87 2430.77 2430.87]\n   [2430.9  2430.34 2430.72 ... 2430.46 2430.94 2430.08]\n   [2430.17 2430.62 2430.71 ... 2430.4  2430.79 2430.37]\n   ...\n   [2430.28 2430.9  2430.26 ... 2430.38 2430.08 2430.01]\n   [2430.26 2430.54 2430.38 ... 2430.23 2430.82 2430.28]\n   [2430.02 2430.66 2430.73 ... 2430.97 2430.87 2430.31]]\n\n  ...\n\n  [[2430.01 2430.52 2430.5  ... 2430.36 2430.66 2430.38]\n   [2430.99 2430.6  2430.92 ... 2430.64 2430.44 2430.85]\n   [2430.81 2430.38 2430.25 ... 2430.59 2430.21 2430.68]\n   ...\n   [2430.69 2430.25 2430.5  ... 2430.07 2430.61 2430.61]\n   [2430.92 2430.25 2430.71 ... 2430.87 2430.12 2430.49]\n   [2430.25 2430.75 2430.53 ... 2430.89 2430.07 2430.45]]\n\n  [[2430.05 2430.54 2430.43 ... 2430.75 2430.9  2430.73]\n   [2430.99 2430.91 2430.05 ... 2430.15 2431.   2430.04]\n   [2430.27 2430.95 2430.13 ... 2430.01 2430.63 2430.59]\n   ...\n   [2430.73 2430.47 2430.92 ... 2430.46 2430.06 2430.92]\n   [2430.13 2430.7  2430.71 ... 2430.49 2430.77 2430.01]\n   [2430.96 2430.27 2430.34 ... 2430.37 2430.27 2430.24]]\n\n  [[2430.29 2430.92 2430.08 ... 2430.93 2430.3  2430.3 ]\n   [2430.4  2430.92 2430.16 ... 2430.59 2430.18 2430.16]\n   [2430.38 2430.18 2430.36 ... 2430.9  2430.06 2430.54]\n   ...\n   [2430.12 2430.97 2430.6  ... 2430.54 2430.65 2430.37]\n   [2430.03 2430.72 2430.55 ... 2430.17 2430.18 2430.57]\n   [2430.48 2430.11 2430.37 ... 2430.06 2430.45 2430.76]]]\n\n\n [[[2430.8  2430.87 2430.04 ... 2430.98 2430.38 2430.86]\n   [2430.6  2431.   2430.27 ... 2430.17 2430.37 2430.86]\n   [2430.23 2430.91 2430.07 ... 2430.05 2430.17 2430.49]\n   ...\n   [2430.34 2430.85 2430.6  ... 2430.07 2430.88 2430.03]\n   [2430.82 2430.85 2430.38 ... 2430.4  2431.   2430.46]\n   [2430.56 2430.16 2430.47 ... 2430.75 2430.86 2430.56]]\n\n  [[2430.32 2430.39 2430.04 ... 2430.32 2430.18 2430.67]\n   [2430.21 2430.98 2430.1  ... 2430.91 2430.81 2430.63]\n   [2430.34 2430.34 2430.1  ... 2430.84 2430.16 2430.13]\n   ...\n   [2430.12 2430.41 2430.74 ... 2430.44 2430.9  2430.3 ]\n   [2430.22 2430.14 2430.58 ... 2430.63 2430.25 2430.82]\n   [2430.41 2430.9  2430.34 ... 2430.91 2430.65 2430.94]]\n\n  [[2430.56 2430.27 2430.97 ... 2430.34 2430.35 2430.29]\n   [2430.58 2430.49 2430.99 ... 2430.54 2430.06 2430.83]\n   [2430.62 2430.75 2430.31 ... 2430.78 2430.73 2430.81]\n   ...\n   [2430.9  2430.17 2430.89 ... 2430.54 2430.87 2430.78]\n   [2430.14 2430.13 2430.83 ... 2430.83 2430.75 2430.73]\n   [2430.22 2430.29 2430.22 ... 2430.41 2430.11 2430.78]]\n\n  ...\n\n  [[2430.77 2430.43 2430.44 ... 2430.86 2430.7  2430.59]\n   [2430.79 2430.73 2430.97 ... 2430.61 2430.54 2430.82]\n   [2430.65 2430.98 2430.45 ... 2430.59 2430.71 2430.61]\n   ...\n   [2430.85 2430.56 2430.67 ... 2430.8  2430.8  2430.51]\n   [2430.91 2430.97 2430.31 ... 2430.56 2430.56 2430.44]\n   [2430.48 2430.52 2430.39 ... 2430.72 2430.06 2430.74]]\n\n  [[2430.02 2430.98 2430.92 ... 2430.91 2430.72 2430.33]\n   [2430.69 2430.82 2430.17 ... 2430.91 2430.67 2430.2 ]\n   [2430.85 2430.26 2430.78 ... 2430.93 2430.26 2430.91]\n   ...\n   [2430.85 2430.55 2430.99 ... 2430.69 2430.14 2430.69]\n   [2430.87 2430.84 2430.1  ... 2430.56 2430.37 2430.37]\n   [2430.43 2430.48 2430.52 ... 2430.29 2430.91 2430.44]]\n\n  [[2430.06 2430.76 2430.73 ... 2430.92 2430.06 2430.73]\n   [2430.68 2430.93 2430.85 ... 2430.97 2430.02 2430.81]\n   [2430.35 2430.22 2430.1  ... 2430.36 2430.2  2430.4 ]\n   ...\n   [2430.   2430.83 2430.69 ... 2430.59 2430.35 2430.79]\n   [2430.31 2430.37 2430.89 ... 2430.71 2430.06 2430.19]\n   [2430.02 2430.56 2430.13 ... 2430.34 2430.97 2430.39]]]\n\n\n [[[2430.41 2430.58 2430.3  ... 2430.34 2430.72 2430.91]\n   [2430.71 2430.55 2430.26 ... 2430.03 2430.93 2430.11]\n   [2430.47 2430.19 2430.6  ... 2430.9  2430.05 2430.82]\n   ...\n   [2430.33 2430.63 2430.98 ... 2430.88 2430.5  2430.46]\n   [2430.63 2430.89 2430.72 ... 2430.13 2430.65 2430.89]\n   [2430.8  2430.09 2430.05 ... 2430.85 2430.77 2430.19]]\n\n  [[2430.44 2430.85 2430.13 ... 2430.09 2430.99 2430.74]\n   [2430.24 2430.94 2430.11 ... 2430.79 2430.34 2430.6 ]\n   [2430.63 2430.76 2430.97 ... 2430.43 2430.44 2430.36]\n   ...\n   [2430.96 2430.27 2430.98 ... 2430.12 2430.41 2430.52]\n   [2430.48 2430.4  2430.3  ... 2430.3  2430.08 2430.25]\n   [2430.29 2430.09 2430.11 ... 2430.38 2430.2  2430.95]]\n\n  [[2430.57 2430.19 2430.29 ... 2430.91 2430.43 2430.37]\n   [2430.4  2430.33 2430.32 ... 2430.65 2430.03 2430.84]\n   [2430.44 2430.91 2430.4  ... 2430.16 2430.14 2430.62]\n   ...\n   [2430.28 2430.7  2430.71 ... 2430.47 2430.11 2430.22]\n   [2430.88 2430.09 2430.99 ... 2430.03 2430.26 2430.25]\n   [2430.85 2430.26 2430.96 ... 2430.32 2431.   2430.65]]\n\n  ...\n\n  [[2430.36 2430.92 2430.81 ... 2430.54 2430.17 2430.31]\n   [2430.38 2430.98 2430.65 ... 2430.77 2430.36 2430.83]\n   [2430.62 2430.41 2430.89 ... 2430.31 2430.03 2430.81]\n   ...\n   [2430.34 2430.66 2430.34 ... 2430.72 2430.78 2430.56]\n   [2430.11 2430.64 2430.75 ... 2430.79 2430.37 2430.66]\n   [2430.05 2430.51 2430.64 ... 2430.85 2430.34 2430.96]]\n\n  [[2430.13 2430.47 2430.87 ... 2430.81 2430.08 2430.78]\n   [2430.38 2430.71 2430.51 ... 2430.8  2430.19 2430.58]\n   [2430.23 2430.53 2430.48 ... 2430.92 2430.32 2430.94]\n   ...\n   [2430.78 2430.72 2430.85 ... 2430.27 2430.32 2430.05]\n   [2430.95 2430.41 2430.87 ... 2430.97 2430.92 2430.2 ]\n   [2430.65 2430.42 2430.75 ... 2430.78 2430.21 2430.23]]\n\n  [[2430.21 2430.6  2430.63 ... 2430.59 2430.94 2430.9 ]\n   [2430.59 2430.97 2430.53 ... 2430.07 2430.57 2430.48]\n   [2430.45 2430.47 2430.65 ... 2430.94 2430.05 2430.99]\n   ...\n   [2430.79 2430.25 2430.02 ... 2430.35 2430.84 2430.08]\n   [2430.65 2430.64 2430.91 ... 2430.82 2430.57 2430.42]\n   [2430.98 2430.31 2430.48 ... 2430.97 2430.57 2430.39]]]\n\n\n [[[2430.5  2430.88 2430.73 ... 2430.65 2430.11 2430.57]\n   [2430.96 2430.47 2430.4  ... 2430.2  2430.08 2430.68]\n   [2430.9  2430.75 2430.75 ... 2430.12 2430.44 2430.22]\n   ...\n   [2430.46 2430.21 2430.28 ... 2430.67 2430.21 2430.09]\n   [2430.13 2430.39 2430.39 ... 2430.94 2430.82 2430.99]\n   [2430.69 2430.55 2430.98 ... 2430.68 2430.01 2430.71]]\n\n  [[2430.59 2430.86 2430.23 ... 2430.09 2430.91 2430.17]\n   [2430.68 2430.38 2430.87 ... 2430.45 2430.48 2430.12]\n   [2430.89 2430.58 2430.29 ... 2430.11 2430.6  2430.37]\n   ...\n   [2430.87 2430.83 2430.83 ... 2430.47 2430.54 2430.95]\n   [2430.59 2430.94 2430.62 ... 2430.24 2430.81 2430.85]\n   [2430.46 2430.19 2430.37 ... 2430.96 2430.34 2430.17]]\n\n  [[2430.67 2430.74 2430.9  ... 2430.4  2430.48 2430.98]\n   [2430.29 2430.57 2430.31 ... 2430.73 2430.31 2430.52]\n   [2430.28 2430.72 2430.04 ... 2430.96 2430.8  2430.79]\n   ...\n   [2430.01 2430.14 2430.63 ... 2430.69 2430.11 2430.39]\n   [2430.3  2430.26 2430.02 ... 2430.64 2430.48 2430.38]\n   [2430.28 2430.52 2430.35 ... 2430.91 2430.98 2430.61]]\n\n  ...\n\n  [[2430.02 2430.66 2430.62 ... 2430.29 2430.13 2430.32]\n   [2430.31 2430.51 2430.24 ... 2430.34 2430.6  2430.56]\n   [2430.92 2430.03 2430.95 ... 2430.25 2430.96 2430.54]\n   ...\n   [2430.32 2431.   2430.05 ... 2430.73 2430.41 2430.02]\n   [2430.47 2430.08 2430.81 ... 2430.89 2430.52 2430.36]\n   [2430.9  2430.86 2430.86 ... 2430.94 2430.39 2430.12]]\n\n  [[2430.06 2430.96 2430.37 ... 2430.04 2430.66 2430.31]\n   [2430.51 2430.51 2430.79 ... 2430.09 2430.74 2431.  ]\n   [2430.31 2430.52 2430.51 ... 2430.32 2430.98 2430.86]\n   ...\n   [2430.24 2430.14 2430.89 ... 2430.02 2430.37 2430.6 ]\n   [2430.41 2430.44 2430.12 ... 2430.83 2430.61 2430.79]\n   [2430.76 2430.18 2430.02 ... 2430.85 2430.72 2430.22]]\n\n  [[2430.36 2430.51 2430.64 ... 2430.59 2430.84 2430.34]\n   [2430.4  2430.06 2430.34 ... 2430.85 2430.37 2430.68]\n   [2430.58 2430.29 2430.44 ... 2430.04 2430.21 2430.44]\n   ...\n   [2430.37 2430.73 2430.59 ... 2430.38 2430.72 2430.77]\n   [2430.18 2430.76 2430.6  ... 2430.64 2430.34 2430.38]\n   [2430.4  2430.93 2430.05 ... 2430.67 2430.66 2430.29]]]]\nindex: 244: value: [[[[2440.5  2440.88 2440.84 ... 2440.39 2440.68 2440.51]\n   [2440.53 2440.59 2440.03 ... 2440.98 2440.08 2440.57]\n   [2440.21 2441.   2440.4  ... 2440.17 2440.55 2440.88]\n   ...\n   [2440.47 2440.47 2440.14 ... 2440.36 2440.69 2440.97]\n   [2440.   2440.16 2440.33 ... 2440.02 2440.67 2440.  ]\n   [2440.11 2440.4  2440.05 ... 2440.51 2440.61 2440.38]]\n\n  [[2440.51 2440.89 2440.67 ... 2440.34 2440.46 2440.75]\n   [2440.25 2440.99 2440.4  ... 2440.9  2440.71 2440.36]\n   [2440.8  2440.8  2440.33 ... 2440.9  2440.34 2440.62]\n   ...\n   [2440.13 2440.79 2440.68 ... 2440.68 2440.39 2440.47]\n   [2440.14 2440.92 2440.04 ... 2440.21 2440.05 2440.56]\n   [2440.24 2440.66 2440.41 ... 2440.82 2440.42 2440.71]]\n\n  [[2440.6  2440.89 2440.44 ... 2440.9  2440.02 2440.89]\n   [2440.8  2440.09 2440.17 ... 2440.19 2440.17 2440.43]\n   [2440.38 2440.63 2440.72 ... 2440.17 2440.49 2440.71]\n   ...\n   [2440.17 2440.53 2440.9  ... 2440.46 2440.62 2440.3 ]\n   [2440.05 2440.54 2440.57 ... 2440.53 2440.84 2440.18]\n   [2440.97 2440.51 2440.04 ... 2440.77 2440.59 2440.13]]\n\n  ...\n\n  [[2440.73 2440.87 2440.41 ... 2440.91 2440.07 2440.95]\n   [2440.42 2440.36 2440.08 ... 2440.57 2440.34 2440.85]\n   [2440.34 2440.48 2440.7  ... 2440.52 2440.11 2440.62]\n   ...\n   [2440.51 2440.79 2440.48 ... 2440.16 2440.89 2440.08]\n   [2440.36 2440.53 2440.06 ... 2440.11 2440.23 2440.2 ]\n   [2440.98 2440.56 2440.56 ... 2440.05 2440.68 2440.97]]\n\n  [[2440.71 2440.53 2440.56 ... 2440.29 2440.54 2440.22]\n   [2440.41 2440.09 2440.83 ... 2440.25 2440.22 2440.21]\n   [2440.81 2440.24 2440.58 ... 2440.11 2440.89 2440.02]\n   ...\n   [2440.55 2440.99 2440.21 ... 2440.15 2440.49 2440.93]\n   [2441.   2440.53 2440.8  ... 2440.42 2440.14 2440.18]\n   [2440.02 2440.71 2440.03 ... 2440.08 2440.07 2440.78]]\n\n  [[2440.6  2440.61 2440.7  ... 2440.91 2440.64 2440.99]\n   [2440.14 2440.97 2440.44 ... 2440.86 2440.05 2440.79]\n   [2440.91 2440.11 2440.13 ... 2440.63 2440.23 2440.53]\n   ...\n   [2440.69 2440.42 2440.07 ... 2440.63 2440.21 2440.1 ]\n   [2440.97 2440.76 2440.28 ... 2440.1  2440.96 2440.06]\n   [2440.85 2440.99 2440.57 ... 2440.04 2440.88 2440.95]]]\n\n\n [[[2440.   2440.45 2440.3  ... 2440.62 2440.12 2440.16]\n   [2440.64 2440.74 2440.08 ... 2440.73 2440.65 2440.78]\n   [2440.81 2440.02 2440.85 ... 2440.48 2440.06 2440.47]\n   ...\n   [2440.47 2440.48 2440.96 ... 2440.54 2440.82 2440.36]\n   [2440.99 2440.95 2440.46 ... 2440.03 2440.64 2440.87]\n   [2440.29 2440.24 2440.62 ... 2440.81 2440.81 2440.64]]\n\n  [[2440.15 2440.37 2440.88 ... 2440.96 2440.05 2440.25]\n   [2440.15 2440.35 2440.07 ... 2440.72 2440.03 2440.79]\n   [2440.71 2440.89 2440.38 ... 2440.37 2440.45 2440.79]\n   ...\n   [2440.18 2440.53 2440.95 ... 2440.16 2440.4  2440.61]\n   [2440.1  2440.27 2440.69 ... 2440.74 2440.25 2440.33]\n   [2440.41 2440.35 2440.17 ... 2440.1  2440.42 2440.97]]\n\n  [[2440.47 2440.69 2440.7  ... 2440.57 2440.01 2440.32]\n   [2440.41 2440.42 2440.42 ... 2440.93 2440.89 2440.19]\n   [2440.09 2440.41 2440.53 ... 2440.22 2440.18 2440.55]\n   ...\n   [2440.3  2440.79 2440.02 ... 2440.92 2440.84 2440.  ]\n   [2440.97 2440.55 2440.69 ... 2440.87 2440.47 2440.28]\n   [2440.94 2440.6  2440.44 ... 2440.69 2440.88 2440.74]]\n\n  ...\n\n  [[2440.81 2440.58 2440.74 ... 2440.11 2440.78 2440.54]\n   [2440.17 2440.11 2440.18 ... 2440.58 2440.82 2440.51]\n   [2440.18 2440.49 2440.02 ... 2440.19 2440.16 2440.65]\n   ...\n   [2440.67 2440.95 2440.36 ... 2440.56 2440.19 2440.67]\n   [2440.23 2440.9  2440.28 ... 2440.45 2440.74 2440.22]\n   [2440.84 2440.37 2440.55 ... 2440.48 2440.83 2441.  ]]\n\n  [[2440.52 2440.76 2440.5  ... 2440.3  2440.97 2440.63]\n   [2440.12 2440.18 2440.57 ... 2440.94 2440.14 2440.08]\n   [2440.49 2440.64 2440.91 ... 2440.99 2440.53 2440.01]\n   ...\n   [2440.95 2440.54 2440.27 ... 2441.   2440.96 2440.73]\n   [2440.14 2440.9  2440.74 ... 2440.15 2440.43 2440.82]\n   [2440.47 2440.48 2440.79 ... 2440.14 2440.85 2440.55]]\n\n  [[2440.67 2440.3  2440.64 ... 2440.28 2440.02 2440.06]\n   [2440.66 2440.57 2440.08 ... 2440.46 2440.6  2440.96]\n   [2440.29 2440.26 2440.74 ... 2440.5  2440.73 2440.73]\n   ...\n   [2440.45 2440.12 2440.17 ... 2440.09 2440.66 2440.27]\n   [2440.56 2440.44 2440.06 ... 2440.82 2440.73 2440.25]\n   [2440.43 2440.83 2440.4  ... 2440.59 2440.84 2440.38]]]\n\n\n [[[2440.88 2440.49 2441.   ... 2440.41 2440.7  2440.98]\n   [2440.35 2440.75 2440.34 ... 2440.99 2440.52 2440.98]\n   [2440.03 2440.46 2440.69 ... 2440.01 2440.46 2440.04]\n   ...\n   [2440.73 2440.5  2440.4  ... 2440.53 2440.81 2440.97]\n   [2440.1  2440.6  2440.73 ... 2440.79 2440.12 2440.76]\n   [2440.12 2440.29 2440.71 ... 2440.49 2440.29 2440.87]]\n\n  [[2440.62 2440.79 2440.67 ... 2440.36 2440.01 2440.75]\n   [2440.73 2440.66 2440.95 ... 2440.89 2440.   2440.82]\n   [2440.37 2440.84 2440.06 ... 2440.48 2440.02 2440.47]\n   ...\n   [2440.49 2440.26 2440.37 ... 2440.88 2440.64 2440.63]\n   [2440.57 2440.87 2440.71 ... 2440.85 2440.03 2440.29]\n   [2440.97 2440.26 2440.1  ... 2440.3  2440.08 2440.22]]\n\n  [[2440.93 2440.39 2440.06 ... 2440.57 2440.18 2440.83]\n   [2440.13 2440.37 2440.27 ... 2440.72 2440.63 2440.55]\n   [2440.09 2440.82 2440.71 ... 2440.64 2440.05 2440.78]\n   ...\n   [2440.04 2440.87 2440.03 ... 2440.37 2440.9  2440.35]\n   [2440.77 2440.93 2440.14 ... 2440.09 2440.09 2440.58]\n   [2440.1  2440.83 2440.13 ... 2440.16 2440.31 2440.71]]\n\n  ...\n\n  [[2440.65 2440.54 2440.28 ... 2440.49 2440.22 2440.  ]\n   [2440.4  2440.25 2440.14 ... 2440.99 2440.87 2440.42]\n   [2440.35 2440.78 2440.81 ... 2440.59 2440.79 2440.6 ]\n   ...\n   [2440.08 2440.76 2440.88 ... 2440.22 2440.96 2440.21]\n   [2440.21 2440.87 2440.65 ... 2440.06 2440.67 2440.54]\n   [2440.48 2440.05 2440.59 ... 2440.62 2440.48 2440.86]]\n\n  [[2440.43 2440.29 2440.56 ... 2440.67 2440.44 2440.74]\n   [2440.53 2440.51 2440.58 ... 2440.81 2440.84 2440.43]\n   [2440.75 2440.06 2440.47 ... 2440.44 2440.94 2440.29]\n   ...\n   [2440.82 2440.1  2440.08 ... 2440.63 2440.52 2440.63]\n   [2441.   2440.32 2440.35 ... 2440.36 2440.   2440.14]\n   [2440.46 2440.4  2440.67 ... 2440.63 2440.82 2440.88]]\n\n  [[2440.98 2440.47 2440.29 ... 2440.82 2440.13 2440.98]\n   [2440.82 2440.3  2440.54 ... 2440.9  2440.44 2440.08]\n   [2440.23 2440.39 2440.02 ... 2440.76 2440.4  2440.19]\n   ...\n   [2440.35 2440.75 2440.94 ... 2440.36 2440.42 2440.86]\n   [2440.93 2440.21 2440.18 ... 2440.66 2440.81 2440.09]\n   [2440.09 2440.49 2440.14 ... 2440.98 2440.83 2440.53]]]\n\n\n [[[2440.35 2440.82 2440.86 ... 2440.65 2440.7  2440.21]\n   [2440.84 2440.14 2440.71 ... 2440.96 2440.49 2440.8 ]\n   [2440.75 2440.34 2440.46 ... 2440.01 2440.57 2440.56]\n   ...\n   [2440.56 2440.3  2440.94 ... 2440.77 2440.63 2440.88]\n   [2440.34 2441.   2440.49 ... 2440.55 2440.25 2440.88]\n   [2440.54 2440.68 2440.39 ... 2440.01 2440.25 2440.03]]\n\n  [[2440.65 2440.27 2440.06 ... 2440.9  2440.43 2440.45]\n   [2440.81 2440.18 2440.79 ... 2440.66 2440.18 2440.75]\n   [2440.53 2440.88 2440.57 ... 2440.13 2440.87 2440.52]\n   ...\n   [2440.54 2440.24 2440.29 ... 2440.24 2440.6  2440.26]\n   [2440.6  2440.86 2440.68 ... 2440.38 2440.57 2440.87]\n   [2440.59 2440.32 2440.51 ... 2440.48 2440.25 2440.92]]\n\n  [[2440.53 2440.83 2440.8  ... 2440.59 2440.14 2440.32]\n   [2440.81 2440.16 2440.5  ... 2440.65 2440.03 2440.31]\n   [2440.11 2440.67 2440.55 ... 2440.8  2440.99 2440.88]\n   ...\n   [2440.1  2440.72 2440.88 ... 2440.45 2440.21 2440.35]\n   [2440.73 2440.53 2440.29 ... 2440.99 2440.42 2440.75]\n   [2440.97 2440.01 2440.58 ... 2440.77 2440.94 2440.8 ]]\n\n  ...\n\n  [[2440.01 2440.74 2440.9  ... 2440.6  2440.04 2440.11]\n   [2440.91 2440.36 2440.31 ... 2440.7  2440.01 2440.31]\n   [2440.44 2440.95 2440.12 ... 2440.97 2440.21 2440.78]\n   ...\n   [2440.02 2440.89 2440.29 ... 2440.75 2440.79 2440.88]\n   [2440.84 2440.25 2440.04 ... 2440.91 2440.98 2440.97]\n   [2440.64 2440.5  2440.89 ... 2440.91 2440.98 2440.16]]\n\n  [[2440.94 2440.44 2440.59 ... 2440.17 2440.53 2440.75]\n   [2440.77 2440.62 2440.67 ... 2440.35 2440.76 2440.12]\n   [2440.53 2440.7  2440.66 ... 2440.13 2440.24 2440.91]\n   ...\n   [2440.06 2440.77 2440.94 ... 2440.86 2440.07 2440.26]\n   [2440.6  2440.4  2440.44 ... 2440.41 2440.73 2440.2 ]\n   [2440.48 2440.7  2440.31 ... 2440.74 2440.7  2441.  ]]\n\n  [[2440.39 2440.5  2440.45 ... 2440.25 2440.9  2440.17]\n   [2440.48 2440.23 2440.13 ... 2440.96 2440.7  2440.52]\n   [2440.28 2440.02 2440.18 ... 2440.46 2440.46 2440.49]\n   ...\n   [2440.75 2440.32 2440.09 ... 2440.73 2440.68 2440.11]\n   [2440.63 2440.31 2440.07 ... 2440.88 2440.4  2440.99]\n   [2440.31 2440.24 2440.71 ... 2440.74 2440.53 2440.04]]]]\nindex: 245: value: [[[[2450.01 2450.5  2450.1  ... 2450.24 2450.55 2450.08]\n   [2450.09 2450.64 2450.54 ... 2450.98 2450.33 2450.34]\n   [2450.03 2450.7  2450.05 ... 2450.36 2450.46 2450.7 ]\n   ...\n   [2450.89 2450.43 2450.95 ... 2450.97 2450.18 2450.18]\n   [2450.47 2450.76 2450.09 ... 2450.06 2450.04 2450.07]\n   [2450.76 2450.49 2450.24 ... 2450.31 2450.03 2450.12]]\n\n  [[2450.8  2450.79 2450.52 ... 2450.38 2450.47 2450.89]\n   [2450.63 2450.97 2450.57 ... 2450.13 2450.92 2450.64]\n   [2450.97 2450.15 2450.12 ... 2450.2  2450.63 2450.57]\n   ...\n   [2450.28 2450.61 2450.84 ... 2450.75 2450.09 2450.28]\n   [2450.67 2450.89 2450.49 ... 2450.15 2451.   2450.91]\n   [2450.34 2450.8  2450.93 ... 2450.77 2450.66 2450.78]]\n\n  [[2450.89 2450.77 2450.67 ... 2450.82 2450.72 2450.23]\n   [2450.28 2450.65 2450.52 ... 2450.06 2450.88 2450.55]\n   [2450.42 2450.82 2450.52 ... 2450.93 2450.   2450.74]\n   ...\n   [2450.61 2450.   2450.63 ... 2450.54 2450.82 2450.76]\n   [2450.6  2450.97 2450.02 ... 2450.01 2450.49 2450.59]\n   [2450.82 2450.47 2450.83 ... 2450.36 2450.98 2450.72]]\n\n  ...\n\n  [[2450.22 2450.14 2450.61 ... 2450.26 2450.77 2450.15]\n   [2450.17 2450.06 2450.41 ... 2450.65 2450.5  2450.98]\n   [2450.4  2450.13 2450.98 ... 2450.71 2450.93 2450.7 ]\n   ...\n   [2450.31 2450.93 2450.57 ... 2450.56 2450.3  2450.43]\n   [2450.71 2450.03 2450.79 ... 2450.52 2450.89 2450.56]\n   [2450.89 2450.63 2450.63 ... 2450.03 2450.57 2450.41]]\n\n  [[2450.42 2450.31 2450.29 ... 2450.62 2450.07 2450.96]\n   [2450.06 2450.26 2450.   ... 2450.1  2450.91 2450.53]\n   [2450.3  2450.78 2450.11 ... 2450.07 2450.65 2450.92]\n   ...\n   [2450.74 2450.76 2450.57 ... 2450.81 2450.09 2450.09]\n   [2450.5  2450.7  2450.89 ... 2450.66 2450.72 2450.58]\n   [2450.9  2450.24 2450.76 ... 2450.43 2450.99 2450.07]]\n\n  [[2450.23 2450.15 2450.84 ... 2450.57 2450.49 2450.77]\n   [2450.21 2450.98 2450.87 ... 2450.29 2450.1  2450.78]\n   [2450.47 2450.57 2450.66 ... 2450.88 2450.82 2450.86]\n   ...\n   [2450.73 2450.57 2450.61 ... 2450.27 2450.13 2450.46]\n   [2450.61 2450.87 2450.72 ... 2450.05 2450.58 2450.66]\n   [2450.5  2450.35 2450.89 ... 2450.6  2450.16 2450.79]]]\n\n\n [[[2450.79 2450.93 2450.69 ... 2450.01 2450.13 2450.48]\n   [2450.36 2450.07 2450.66 ... 2450.76 2450.8  2450.72]\n   [2450.85 2450.69 2450.08 ... 2450.31 2450.18 2450.51]\n   ...\n   [2450.41 2450.81 2450.38 ... 2450.32 2450.7  2450.86]\n   [2450.45 2450.42 2450.54 ... 2450.55 2450.57 2450.33]\n   [2450.53 2450.98 2450.84 ... 2450.47 2450.81 2450.27]]\n\n  [[2450.6  2450.44 2450.19 ... 2450.32 2450.3  2450.99]\n   [2450.72 2450.88 2450.8  ... 2450.59 2450.05 2450.02]\n   [2450.98 2450.43 2450.92 ... 2450.93 2450.69 2450.85]\n   ...\n   [2450.19 2450.19 2450.16 ... 2450.8  2450.29 2450.8 ]\n   [2450.24 2450.96 2450.75 ... 2450.39 2450.87 2450.9 ]\n   [2450.95 2450.29 2450.23 ... 2450.32 2450.88 2450.21]]\n\n  [[2450.38 2450.04 2450.29 ... 2450.06 2450.6  2450.45]\n   [2450.41 2450.8  2450.91 ... 2450.64 2450.82 2450.06]\n   [2450.86 2450.39 2450.02 ... 2450.73 2450.43 2450.16]\n   ...\n   [2450.46 2450.09 2450.56 ... 2450.46 2450.49 2450.  ]\n   [2451.   2450.98 2450.7  ... 2450.05 2450.89 2450.27]\n   [2450.06 2450.04 2450.65 ... 2450.58 2450.33 2450.96]]\n\n  ...\n\n  [[2450.54 2450.88 2450.71 ... 2450.9  2450.52 2450.1 ]\n   [2450.99 2450.19 2450.98 ... 2450.36 2450.76 2450.17]\n   [2450.62 2450.85 2450.6  ... 2450.5  2450.26 2450.47]\n   ...\n   [2450.37 2450.93 2450.74 ... 2450.45 2450.25 2450.77]\n   [2450.82 2450.   2450.61 ... 2450.11 2450.34 2450.62]\n   [2450.16 2450.91 2450.41 ... 2450.48 2450.55 2450.41]]\n\n  [[2450.75 2450.21 2450.67 ... 2450.73 2450.96 2450.57]\n   [2450.39 2450.13 2450.98 ... 2450.53 2450.9  2450.55]\n   [2450.04 2450.78 2450.68 ... 2450.26 2450.65 2450.57]\n   ...\n   [2450.99 2450.07 2450.53 ... 2450.06 2450.34 2450.45]\n   [2450.67 2450.36 2450.14 ... 2450.82 2450.18 2450.6 ]\n   [2450.98 2450.65 2450.4  ... 2450.54 2450.61 2450.05]]\n\n  [[2450.38 2450.22 2450.74 ... 2450.59 2450.43 2450.02]\n   [2450.5  2450.43 2450.07 ... 2450.22 2450.14 2450.9 ]\n   [2450.43 2450.27 2450.62 ... 2450.84 2450.78 2450.28]\n   ...\n   [2450.2  2450.38 2450.61 ... 2450.49 2450.33 2450.49]\n   [2450.74 2450.63 2450.77 ... 2450.04 2450.77 2450.88]\n   [2450.38 2450.07 2450.88 ... 2450.81 2450.49 2450.39]]]\n\n\n [[[2450.1  2450.12 2450.82 ... 2450.37 2450.47 2450.21]\n   [2450.3  2450.92 2450.24 ... 2450.18 2450.19 2450.95]\n   [2450.73 2450.01 2450.95 ... 2450.54 2450.52 2450.57]\n   ...\n   [2450.62 2450.13 2450.25 ... 2450.25 2450.52 2450.35]\n   [2450.54 2450.41 2450.98 ... 2450.64 2450.56 2450.14]\n   [2450.08 2450.95 2450.98 ... 2450.12 2450.61 2450.47]]\n\n  [[2450.61 2450.21 2450.66 ... 2450.47 2450.01 2450.  ]\n   [2450.4  2450.53 2450.54 ... 2450.03 2450.28 2450.08]\n   [2450.49 2450.11 2450.55 ... 2450.58 2450.16 2450.3 ]\n   ...\n   [2450.39 2450.04 2450.85 ... 2450.37 2450.66 2450.34]\n   [2450.87 2450.2  2450.32 ... 2450.01 2450.42 2450.18]\n   [2450.25 2450.77 2450.04 ... 2450.25 2450.73 2450.99]]\n\n  [[2450.14 2450.15 2450.66 ... 2450.9  2450.83 2450.58]\n   [2450.42 2450.46 2450.84 ... 2450.19 2450.97 2450.4 ]\n   [2450.7  2450.85 2450.18 ... 2450.25 2450.85 2450.87]\n   ...\n   [2450.33 2450.3  2450.17 ... 2450.48 2450.46 2450.94]\n   [2450.7  2450.55 2450.72 ... 2450.24 2450.27 2450.34]\n   [2450.65 2450.73 2450.81 ... 2450.6  2450.66 2451.  ]]\n\n  ...\n\n  [[2450.13 2450.65 2450.68 ... 2450.41 2450.83 2450.1 ]\n   [2450.11 2450.31 2450.72 ... 2450.46 2450.55 2450.37]\n   [2450.16 2450.15 2450.32 ... 2450.39 2450.47 2450.73]\n   ...\n   [2450.28 2450.13 2450.52 ... 2450.22 2450.09 2450.68]\n   [2450.19 2450.84 2450.45 ... 2450.79 2450.25 2450.32]\n   [2450.1  2450.81 2450.06 ... 2450.21 2450.54 2450.21]]\n\n  [[2450.11 2450.56 2450.07 ... 2450.29 2450.06 2450.1 ]\n   [2450.26 2450.67 2450.97 ... 2450.06 2450.04 2450.79]\n   [2450.01 2450.69 2450.04 ... 2450.41 2450.9  2450.51]\n   ...\n   [2450.83 2450.4  2450.22 ... 2450.01 2450.28 2450.16]\n   [2450.02 2450.74 2450.99 ... 2450.63 2450.86 2450.37]\n   [2450.22 2450.28 2450.41 ... 2450.63 2450.47 2450.54]]\n\n  [[2450.81 2450.83 2450.86 ... 2450.18 2450.35 2450.56]\n   [2450.22 2450.32 2450.91 ... 2450.41 2450.29 2450.67]\n   [2450.18 2450.82 2450.96 ... 2450.49 2450.27 2450.14]\n   ...\n   [2450.13 2450.85 2450.96 ... 2450.45 2450.34 2450.9 ]\n   [2450.04 2450.38 2450.72 ... 2450.19 2450.88 2450.97]\n   [2450.73 2450.63 2450.7  ... 2450.8  2450.88 2450.75]]]\n\n\n [[[2450.92 2450.51 2450.92 ... 2450.1  2450.86 2450.86]\n   [2450.83 2450.77 2450.11 ... 2450.34 2450.47 2450.67]\n   [2450.29 2450.74 2450.91 ... 2450.23 2450.16 2450.55]\n   ...\n   [2450.68 2450.57 2450.39 ... 2450.47 2450.97 2450.88]\n   [2450.41 2450.78 2450.77 ... 2450.7  2450.36 2450.1 ]\n   [2450.41 2450.05 2450.29 ... 2450.7  2450.91 2450.84]]\n\n  [[2450.52 2450.67 2450.87 ... 2450.95 2450.72 2450.17]\n   [2450.32 2450.22 2450.56 ... 2450.73 2450.2  2450.67]\n   [2450.13 2450.14 2450.86 ... 2450.22 2450.05 2450.18]\n   ...\n   [2450.42 2450.88 2450.39 ... 2450.65 2450.87 2450.51]\n   [2450.31 2450.42 2450.93 ... 2450.39 2450.27 2450.94]\n   [2450.23 2450.83 2450.81 ... 2450.4  2450.74 2450.21]]\n\n  [[2450.47 2450.62 2450.93 ... 2450.38 2450.3  2450.82]\n   [2450.63 2450.23 2450.44 ... 2450.09 2450.48 2450.82]\n   [2450.39 2450.68 2450.3  ... 2450.31 2450.84 2450.34]\n   ...\n   [2450.42 2450.93 2450.1  ... 2450.29 2450.06 2450.99]\n   [2450.21 2450.83 2450.31 ... 2450.66 2450.84 2450.11]\n   [2450.66 2450.6  2450.4  ... 2450.71 2450.16 2450.31]]\n\n  ...\n\n  [[2450.84 2450.52 2450.35 ... 2450.77 2450.32 2450.55]\n   [2450.72 2450.09 2450.04 ... 2450.38 2450.42 2451.  ]\n   [2450.13 2450.86 2450.23 ... 2450.15 2450.11 2450.99]\n   ...\n   [2450.42 2450.4  2450.96 ... 2450.61 2450.34 2450.05]\n   [2450.19 2450.51 2450.21 ... 2450.1  2450.84 2450.59]\n   [2450.47 2450.3  2450.27 ... 2450.88 2450.15 2450.42]]\n\n  [[2450.42 2450.71 2450.02 ... 2450.29 2450.71 2450.96]\n   [2450.45 2450.68 2450.34 ... 2450.51 2450.97 2450.25]\n   [2450.55 2450.97 2450.   ... 2450.79 2450.55 2450.05]\n   ...\n   [2450.14 2450.22 2450.96 ... 2450.04 2450.3  2450.43]\n   [2450.19 2450.1  2450.78 ... 2450.94 2450.07 2450.75]\n   [2450.34 2450.63 2450.94 ... 2450.79 2450.23 2450.01]]\n\n  [[2450.28 2450.91 2450.61 ... 2450.35 2450.29 2450.16]\n   [2450.82 2450.36 2450.04 ... 2450.95 2450.96 2450.89]\n   [2450.04 2450.   2450.24 ... 2450.46 2450.02 2450.72]\n   ...\n   [2450.5  2450.29 2450.1  ... 2450.08 2450.86 2450.85]\n   [2450.38 2450.91 2450.71 ... 2450.35 2450.34 2450.69]\n   [2450.22 2450.32 2450.78 ... 2450.53 2450.19 2450.93]]]]\nindex: 246: value: [[[[2460.24 2460.35 2460.45 ... 2460.07 2460.77 2460.86]\n   [2460.44 2460.39 2460.47 ... 2460.73 2460.92 2460.04]\n   [2460.8  2460.8  2460.64 ... 2460.65 2460.78 2460.67]\n   ...\n   [2460.19 2460.8  2460.06 ... 2460.71 2460.09 2460.76]\n   [2460.75 2460.15 2460.61 ... 2460.74 2460.22 2460.91]\n   [2460.98 2460.43 2460.05 ... 2460.61 2460.76 2460.95]]\n\n  [[2460.59 2460.96 2460.8  ... 2460.33 2460.34 2460.75]\n   [2460.43 2460.95 2460.85 ... 2460.66 2460.2  2460.37]\n   [2460.64 2460.47 2460.97 ... 2460.98 2460.32 2460.09]\n   ...\n   [2460.02 2460.6  2460.62 ... 2460.8  2460.31 2460.27]\n   [2460.18 2460.44 2460.12 ... 2460.3  2460.88 2460.61]\n   [2460.2  2460.49 2460.09 ... 2460.99 2460.08 2460.92]]\n\n  [[2460.68 2460.23 2460.25 ... 2460.07 2460.14 2460.52]\n   [2460.1  2460.26 2460.22 ... 2460.31 2460.71 2460.06]\n   [2460.58 2460.52 2460.07 ... 2460.86 2460.13 2460.47]\n   ...\n   [2460.79 2460.75 2460.78 ... 2460.97 2460.28 2460.1 ]\n   [2460.11 2460.08 2460.42 ... 2460.35 2460.33 2460.91]\n   [2460.42 2460.21 2460.29 ... 2460.03 2460.08 2460.8 ]]\n\n  ...\n\n  [[2460.86 2460.22 2460.66 ... 2460.24 2460.6  2460.24]\n   [2460.16 2460.9  2460.36 ... 2460.54 2460.27 2460.05]\n   [2460.18 2460.4  2460.47 ... 2460.71 2460.33 2460.26]\n   ...\n   [2460.1  2460.12 2460.06 ... 2460.07 2460.09 2460.52]\n   [2460.8  2460.33 2460.86 ... 2460.82 2460.39 2460.2 ]\n   [2460.99 2460.1  2460.78 ... 2460.89 2460.51 2460.46]]\n\n  [[2460.81 2460.6  2460.46 ... 2460.33 2460.93 2460.26]\n   [2460.38 2460.71 2460.02 ... 2460.87 2460.08 2460.14]\n   [2460.65 2460.24 2460.66 ... 2460.82 2460.17 2460.54]\n   ...\n   [2460.83 2460.4  2460.92 ... 2460.38 2460.72 2460.73]\n   [2460.87 2460.16 2460.38 ... 2460.69 2460.13 2460.75]\n   [2460.77 2460.88 2460.72 ... 2460.66 2460.45 2460.44]]\n\n  [[2460.83 2460.82 2460.23 ... 2460.58 2460.64 2460.4 ]\n   [2460.21 2460.62 2460.6  ... 2460.62 2460.87 2460.93]\n   [2460.78 2460.14 2460.81 ... 2460.53 2460.24 2460.28]\n   ...\n   [2460.43 2460.5  2460.35 ... 2460.87 2460.97 2460.35]\n   [2460.89 2460.77 2460.83 ... 2460.14 2460.92 2460.38]\n   [2460.99 2460.2  2460.55 ... 2460.15 2460.23 2460.14]]]\n\n\n [[[2460.52 2460.87 2460.23 ... 2460.74 2460.79 2460.35]\n   [2460.26 2460.39 2460.53 ... 2460.93 2460.07 2460.72]\n   [2460.78 2460.53 2460.03 ... 2460.78 2460.64 2460.8 ]\n   ...\n   [2460.   2460.37 2460.66 ... 2460.75 2460.55 2460.08]\n   [2460.69 2460.07 2460.34 ... 2460.68 2460.68 2460.86]\n   [2460.44 2460.32 2460.92 ... 2460.55 2460.99 2460.34]]\n\n  [[2460.25 2460.64 2460.7  ... 2460.03 2460.52 2460.86]\n   [2460.83 2460.75 2460.75 ... 2460.24 2460.5  2460.77]\n   [2460.76 2460.53 2460.84 ... 2460.83 2460.81 2460.19]\n   ...\n   [2460.76 2460.96 2460.66 ... 2460.01 2460.9  2460.07]\n   [2460.26 2460.2  2460.44 ... 2460.49 2460.26 2460.78]\n   [2460.55 2460.95 2460.91 ... 2460.86 2460.42 2460.48]]\n\n  [[2460.49 2460.99 2460.4  ... 2460.33 2460.75 2460.67]\n   [2460.01 2460.88 2460.02 ... 2460.22 2460.94 2460.38]\n   [2460.27 2460.35 2460.14 ... 2460.37 2460.17 2460.15]\n   ...\n   [2460.47 2460.1  2460.75 ... 2460.11 2460.18 2460.22]\n   [2460.09 2460.55 2460.01 ... 2460.78 2460.3  2460.93]\n   [2460.21 2460.   2460.72 ... 2460.22 2460.84 2460.16]]\n\n  ...\n\n  [[2460.17 2460.87 2460.31 ... 2460.36 2460.32 2460.05]\n   [2460.65 2460.51 2460.11 ... 2460.55 2460.99 2460.58]\n   [2460.29 2460.91 2460.42 ... 2460.14 2460.8  2460.37]\n   ...\n   [2460.9  2460.06 2460.54 ... 2460.97 2460.89 2460.01]\n   [2460.97 2460.35 2460.93 ... 2460.42 2460.77 2460.07]\n   [2461.   2460.31 2460.98 ... 2460.63 2460.3  2460.42]]\n\n  [[2460.64 2460.24 2460.56 ... 2460.11 2460.67 2460.2 ]\n   [2460.07 2460.2  2460.04 ... 2460.46 2460.48 2460.07]\n   [2460.09 2460.93 2460.45 ... 2460.14 2460.65 2460.51]\n   ...\n   [2460.41 2460.76 2460.41 ... 2460.07 2460.15 2460.7 ]\n   [2460.08 2460.5  2460.63 ... 2460.17 2460.37 2460.68]\n   [2460.52 2460.85 2460.28 ... 2460.28 2460.87 2460.93]]\n\n  [[2460.11 2460.79 2460.62 ... 2460.42 2460.18 2460.44]\n   [2460.14 2460.12 2460.58 ... 2460.57 2460.87 2460.99]\n   [2460.86 2460.24 2460.71 ... 2460.7  2460.74 2460.59]\n   ...\n   [2460.94 2460.17 2460.16 ... 2460.95 2460.45 2460.56]\n   [2460.91 2460.52 2460.06 ... 2460.82 2460.7  2460.37]\n   [2460.52 2460.57 2460.15 ... 2460.65 2460.97 2460.47]]]\n\n\n [[[2460.28 2460.83 2460.76 ... 2460.51 2460.19 2460.26]\n   [2460.69 2460.43 2460.69 ... 2460.84 2460.52 2460.97]\n   [2460.56 2460.93 2460.27 ... 2460.88 2460.09 2460.52]\n   ...\n   [2460.22 2460.61 2460.14 ... 2460.09 2460.28 2460.57]\n   [2460.44 2460.25 2460.09 ... 2460.69 2460.82 2460.41]\n   [2460.29 2460.45 2460.83 ... 2460.95 2460.86 2460.91]]\n\n  [[2460.03 2460.22 2460.93 ... 2460.25 2460.15 2460.79]\n   [2460.36 2460.52 2460.73 ... 2460.12 2460.33 2460.47]\n   [2460.25 2460.1  2460.49 ... 2460.54 2460.79 2460.34]\n   ...\n   [2460.53 2460.48 2460.5  ... 2460.36 2460.23 2460.82]\n   [2460.45 2460.92 2460.57 ... 2460.22 2460.81 2460.64]\n   [2460.41 2460.7  2460.83 ... 2460.58 2460.03 2460.19]]\n\n  [[2460.21 2460.87 2460.02 ... 2460.51 2460.28 2460.18]\n   [2460.53 2460.89 2460.33 ... 2460.42 2460.55 2460.34]\n   [2460.71 2460.91 2460.96 ... 2460.31 2460.06 2460.98]\n   ...\n   [2460.61 2460.42 2460.14 ... 2460.25 2460.   2460.69]\n   [2460.36 2460.08 2460.47 ... 2460.91 2460.94 2460.52]\n   [2460.34 2460.98 2460.14 ... 2460.2  2460.88 2460.86]]\n\n  ...\n\n  [[2460.78 2460.73 2460.65 ... 2460.74 2460.26 2460.89]\n   [2460.58 2460.87 2460.2  ... 2460.58 2460.54 2460.53]\n   [2460.1  2460.58 2460.97 ... 2460.83 2460.95 2460.9 ]\n   ...\n   [2460.31 2460.81 2460.04 ... 2460.62 2460.96 2460.9 ]\n   [2460.07 2460.88 2460.32 ... 2460.8  2460.1  2460.74]\n   [2460.69 2460.19 2460.4  ... 2460.85 2460.33 2460.89]]\n\n  [[2460.4  2460.32 2460.13 ... 2460.77 2460.76 2460.17]\n   [2460.81 2460.69 2460.68 ... 2460.5  2460.75 2460.29]\n   [2460.41 2460.85 2460.85 ... 2460.68 2460.53 2460.75]\n   ...\n   [2460.43 2460.47 2460.74 ... 2460.34 2460.98 2460.75]\n   [2460.78 2460.29 2460.34 ... 2460.02 2460.22 2460.85]\n   [2460.41 2460.5  2460.42 ... 2460.22 2460.36 2460.4 ]]\n\n  [[2460.88 2460.46 2460.39 ... 2460.82 2460.49 2460.78]\n   [2460.83 2460.88 2460.85 ... 2460.34 2460.69 2460.86]\n   [2460.19 2460.23 2460.31 ... 2460.94 2460.03 2460.  ]\n   ...\n   [2460.17 2460.39 2460.28 ... 2460.65 2460.25 2460.63]\n   [2460.19 2460.15 2460.19 ... 2460.31 2460.35 2460.79]\n   [2460.62 2460.54 2460.41 ... 2460.63 2460.31 2460.51]]]\n\n\n [[[2460.02 2460.19 2460.12 ... 2460.62 2460.87 2460.99]\n   [2460.27 2460.55 2460.68 ... 2460.4  2460.11 2460.09]\n   [2460.56 2460.5  2460.83 ... 2460.39 2460.35 2460.66]\n   ...\n   [2460.22 2460.04 2460.8  ... 2460.9  2460.65 2460.24]\n   [2460.99 2460.18 2460.15 ... 2460.74 2460.03 2460.27]\n   [2460.79 2460.49 2460.62 ... 2460.65 2460.68 2460.61]]\n\n  [[2460.56 2460.49 2460.58 ... 2460.57 2460.15 2460.29]\n   [2460.53 2460.25 2460.07 ... 2460.7  2460.67 2460.3 ]\n   [2460.46 2460.81 2460.32 ... 2460.55 2460.87 2460.56]\n   ...\n   [2460.17 2460.42 2460.03 ... 2460.07 2460.44 2460.32]\n   [2460.42 2460.28 2460.22 ... 2460.24 2460.82 2460.16]\n   [2460.62 2460.13 2460.45 ... 2460.96 2460.24 2460.18]]\n\n  [[2460.96 2460.75 2460.48 ... 2460.05 2460.41 2460.99]\n   [2460.99 2460.2  2460.53 ... 2460.21 2460.66 2460.77]\n   [2460.38 2460.22 2460.96 ... 2460.05 2460.94 2460.86]\n   ...\n   [2460.9  2460.91 2460.36 ... 2460.06 2460.2  2460.97]\n   [2460.83 2460.98 2460.7  ... 2460.21 2460.52 2460.48]\n   [2460.82 2460.11 2460.01 ... 2460.39 2460.55 2460.04]]\n\n  ...\n\n  [[2460.52 2460.27 2460.1  ... 2460.02 2460.86 2460.29]\n   [2460.76 2460.98 2460.68 ... 2460.07 2460.58 2460.42]\n   [2460.29 2460.25 2460.74 ... 2460.05 2460.47 2460.85]\n   ...\n   [2460.1  2460.12 2460.66 ... 2460.44 2460.97 2460.54]\n   [2460.89 2460.88 2460.42 ... 2460.64 2460.94 2460.09]\n   [2460.96 2460.78 2460.22 ... 2460.6  2460.41 2460.07]]\n\n  [[2460.24 2460.59 2460.45 ... 2460.2  2460.68 2460.82]\n   [2460.76 2460.62 2460.03 ... 2460.82 2460.27 2460.18]\n   [2460.36 2460.12 2460.2  ... 2460.7  2460.61 2460.66]\n   ...\n   [2460.75 2460.28 2460.42 ... 2460.87 2460.54 2460.28]\n   [2460.42 2460.7  2460.55 ... 2460.4  2460.41 2460.86]\n   [2460.59 2460.1  2460.77 ... 2460.91 2460.68 2460.99]]\n\n  [[2460.86 2460.26 2460.73 ... 2460.13 2460.56 2460.49]\n   [2460.21 2460.15 2460.85 ... 2460.73 2460.4  2460.78]\n   [2460.03 2460.9  2460.97 ... 2460.4  2460.1  2460.84]\n   ...\n   [2460.24 2460.26 2460.31 ... 2460.78 2460.58 2460.76]\n   [2460.54 2460.22 2460.28 ... 2460.5  2460.34 2460.76]\n   [2460.38 2460.23 2460.67 ... 2460.45 2460.04 2460.32]]]]\nindex: 247: value: [[[[2470.2  2470.47 2470.1  ... 2470.28 2470.31 2470.05]\n   [2470.39 2470.8  2470.96 ... 2470.56 2470.29 2470.67]\n   [2470.17 2470.53 2470.8  ... 2470.9  2470.42 2470.08]\n   ...\n   [2470.71 2470.6  2470.75 ... 2470.69 2470.12 2470.25]\n   [2470.01 2470.91 2470.89 ... 2470.64 2470.5  2470.03]\n   [2470.51 2470.43 2470.13 ... 2470.73 2470.32 2470.5 ]]\n\n  [[2470.66 2470.4  2470.69 ... 2470.73 2470.82 2470.15]\n   [2470.59 2470.04 2470.23 ... 2470.15 2470.23 2470.35]\n   [2470.98 2470.64 2470.97 ... 2470.04 2470.66 2470.12]\n   ...\n   [2470.98 2470.67 2470.27 ... 2470.6  2470.21 2470.44]\n   [2470.48 2470.72 2470.69 ... 2470.49 2470.47 2470.86]\n   [2470.44 2470.64 2470.54 ... 2470.21 2470.65 2470.34]]\n\n  [[2470.27 2470.41 2470.9  ... 2470.95 2470.87 2470.15]\n   [2470.73 2470.77 2470.23 ... 2470.19 2470.17 2470.21]\n   [2470.65 2470.79 2470.45 ... 2470.65 2470.09 2470.53]\n   ...\n   [2470.44 2470.05 2470.74 ... 2470.67 2470.5  2470.84]\n   [2470.65 2470.47 2470.28 ... 2470.97 2470.66 2470.91]\n   [2470.39 2470.41 2470.62 ... 2470.62 2470.5  2470.11]]\n\n  ...\n\n  [[2470.17 2470.41 2470.58 ... 2470.5  2470.23 2470.57]\n   [2470.16 2470.26 2470.91 ... 2470.43 2470.69 2470.36]\n   [2470.84 2470.36 2470.21 ... 2470.88 2470.85 2470.91]\n   ...\n   [2470.7  2470.99 2470.94 ... 2470.56 2470.95 2470.14]\n   [2470.92 2470.93 2470.12 ... 2470.47 2470.79 2470.22]\n   [2470.58 2470.48 2470.74 ... 2470.67 2470.48 2470.52]]\n\n  [[2470.81 2470.76 2470.18 ... 2470.31 2470.13 2470.42]\n   [2470.79 2470.53 2470.04 ... 2470.43 2470.27 2470.25]\n   [2470.47 2470.28 2470.35 ... 2470.24 2470.33 2470.59]\n   ...\n   [2470.09 2470.21 2470.87 ... 2470.23 2470.87 2470.4 ]\n   [2470.89 2470.41 2470.59 ... 2470.76 2470.52 2470.51]\n   [2470.93 2470.79 2470.97 ... 2470.1  2470.01 2470.23]]\n\n  [[2470.4  2470.91 2470.13 ... 2470.7  2470.34 2470.78]\n   [2470.75 2470.86 2470.82 ... 2470.03 2470.15 2470.37]\n   [2470.22 2470.23 2470.95 ... 2470.48 2470.74 2470.54]\n   ...\n   [2470.96 2470.24 2470.36 ... 2470.16 2470.38 2470.96]\n   [2470.49 2470.06 2470.37 ... 2470.69 2470.42 2470.16]\n   [2470.73 2470.94 2470.11 ... 2470.99 2470.62 2470.43]]]\n\n\n [[[2470.53 2470.01 2470.24 ... 2470.53 2470.9  2470.94]\n   [2470.73 2470.87 2470.82 ... 2470.52 2470.06 2470.87]\n   [2470.66 2470.57 2470.99 ... 2470.87 2470.45 2470.93]\n   ...\n   [2470.05 2470.48 2470.42 ... 2470.27 2470.89 2470.29]\n   [2471.   2470.43 2470.48 ... 2470.78 2470.72 2470.6 ]\n   [2470.97 2470.55 2470.   ... 2470.93 2470.54 2470.01]]\n\n  [[2470.6  2470.03 2470.99 ... 2470.25 2470.1  2470.06]\n   [2470.75 2470.14 2470.32 ... 2470.98 2470.68 2470.39]\n   [2470.46 2470.34 2470.1  ... 2470.75 2470.24 2470.03]\n   ...\n   [2470.12 2470.07 2470.52 ... 2470.07 2470.16 2470.52]\n   [2470.43 2470.11 2470.43 ... 2470.74 2470.01 2470.75]\n   [2470.38 2470.38 2470.14 ... 2470.11 2470.67 2470.95]]\n\n  [[2470.05 2470.86 2470.26 ... 2470.74 2470.48 2470.7 ]\n   [2470.69 2470.35 2470.95 ... 2470.45 2470.   2470.12]\n   [2470.91 2470.7  2470.5  ... 2470.79 2470.2  2470.67]\n   ...\n   [2470.78 2470.72 2470.87 ... 2470.01 2470.94 2470.98]\n   [2470.48 2470.29 2470.89 ... 2470.48 2470.47 2470.27]\n   [2470.37 2470.59 2470.27 ... 2470.89 2470.9  2470.94]]\n\n  ...\n\n  [[2470.97 2470.42 2470.45 ... 2470.38 2470.55 2470.13]\n   [2470.46 2470.72 2470.6  ... 2470.63 2470.02 2470.56]\n   [2470.57 2470.27 2470.76 ... 2470.35 2470.83 2470.65]\n   ...\n   [2470.4  2470.57 2470.04 ... 2470.37 2470.17 2470.  ]\n   [2470.1  2470.93 2470.78 ... 2470.35 2470.15 2470.84]\n   [2470.94 2470.18 2470.73 ... 2470.75 2470.2  2470.81]]\n\n  [[2470.28 2470.15 2470.02 ... 2470.95 2470.49 2470.87]\n   [2470.01 2470.14 2470.58 ... 2470.77 2470.41 2470.16]\n   [2470.77 2470.83 2470.4  ... 2471.   2470.58 2470.21]\n   ...\n   [2470.98 2470.87 2470.85 ... 2470.97 2470.21 2470.49]\n   [2470.25 2470.29 2470.85 ... 2470.32 2470.82 2470.81]\n   [2470.79 2470.66 2470.76 ... 2470.01 2470.17 2470.32]]\n\n  [[2470.19 2470.19 2470.76 ... 2470.78 2470.46 2470.61]\n   [2470.22 2470.15 2470.83 ... 2470.79 2470.1  2470.28]\n   [2470.52 2470.23 2470.61 ... 2470.07 2470.64 2470.29]\n   ...\n   [2470.25 2470.04 2470.98 ... 2470.6  2470.78 2470.58]\n   [2470.99 2470.68 2470.3  ... 2470.6  2470.41 2470.95]\n   [2470.28 2470.61 2470.58 ... 2470.75 2470.79 2470.7 ]]]\n\n\n [[[2470.44 2470.97 2470.03 ... 2470.67 2470.88 2470.31]\n   [2470.24 2470.84 2470.27 ... 2470.07 2470.36 2470.15]\n   [2470.2  2470.61 2470.26 ... 2470.84 2470.2  2470.29]\n   ...\n   [2470.28 2470.42 2470.46 ... 2470.89 2470.59 2470.91]\n   [2470.49 2470.8  2470.55 ... 2470.6  2470.76 2470.99]\n   [2470.16 2470.35 2470.12 ... 2470.52 2470.15 2470.51]]\n\n  [[2470.43 2470.72 2470.04 ... 2470.27 2470.45 2470.22]\n   [2470.85 2470.48 2470.02 ... 2470.45 2470.69 2470.32]\n   [2470.55 2470.52 2470.81 ... 2470.14 2470.03 2470.99]\n   ...\n   [2470.47 2470.91 2470.98 ... 2470.66 2470.15 2470.3 ]\n   [2470.29 2470.47 2470.54 ... 2470.52 2470.36 2470.52]\n   [2470.48 2470.56 2470.99 ... 2470.75 2470.75 2470.42]]\n\n  [[2470.73 2470.73 2470.7  ... 2470.98 2470.43 2470.59]\n   [2470.11 2470.13 2470.67 ... 2470.68 2470.06 2470.1 ]\n   [2470.68 2470.84 2470.49 ... 2470.9  2470.53 2470.38]\n   ...\n   [2470.4  2470.12 2470.25 ... 2470.1  2470.61 2470.33]\n   [2470.71 2470.19 2470.44 ... 2470.55 2470.38 2470.08]\n   [2470.64 2470.28 2470.6  ... 2470.53 2470.62 2470.9 ]]\n\n  ...\n\n  [[2470.66 2470.84 2470.79 ... 2470.92 2470.21 2470.4 ]\n   [2470.74 2470.11 2470.17 ... 2470.64 2470.06 2470.16]\n   [2470.12 2470.15 2471.   ... 2470.06 2470.58 2470.19]\n   ...\n   [2470.61 2470.39 2470.19 ... 2470.67 2470.45 2470.54]\n   [2470.06 2470.19 2470.63 ... 2470.86 2470.87 2470.39]\n   [2470.02 2470.23 2470.54 ... 2471.   2470.48 2470.83]]\n\n  [[2470.28 2470.57 2470.28 ... 2470.65 2470.02 2470.4 ]\n   [2470.59 2470.86 2470.77 ... 2470.2  2470.21 2470.54]\n   [2470.22 2470.5  2470.96 ... 2470.02 2470.79 2470.54]\n   ...\n   [2470.11 2470.89 2470.47 ... 2470.48 2470.31 2470.79]\n   [2470.65 2470.23 2470.5  ... 2470.21 2470.1  2470.52]\n   [2470.29 2470.91 2470.   ... 2470.87 2470.81 2470.67]]\n\n  [[2470.5  2470.73 2470.57 ... 2470.53 2470.17 2470.25]\n   [2470.9  2470.85 2470.95 ... 2470.97 2470.78 2470.12]\n   [2470.53 2470.76 2470.82 ... 2470.43 2470.03 2470.  ]\n   ...\n   [2470.72 2470.15 2470.4  ... 2470.35 2470.88 2470.77]\n   [2470.91 2470.77 2470.4  ... 2470.52 2470.82 2470.32]\n   [2470.18 2470.24 2470.59 ... 2470.6  2470.52 2470.48]]]\n\n\n [[[2470.49 2470.9  2470.76 ... 2470.92 2470.72 2470.6 ]\n   [2470.7  2470.82 2470.6  ... 2470.47 2470.2  2470.88]\n   [2470.58 2470.34 2470.35 ... 2470.85 2470.76 2470.39]\n   ...\n   [2470.91 2470.83 2470.48 ... 2470.08 2470.64 2470.5 ]\n   [2470.6  2470.78 2470.65 ... 2470.2  2470.88 2470.15]\n   [2470.58 2470.33 2470.1  ... 2470.74 2470.52 2470.12]]\n\n  [[2470.06 2470.52 2470.09 ... 2470.44 2470.17 2470.86]\n   [2470.94 2470.24 2470.17 ... 2470.84 2470.16 2470.67]\n   [2470.08 2470.78 2470.74 ... 2470.11 2470.25 2470.12]\n   ...\n   [2470.15 2470.36 2470.03 ... 2470.07 2470.06 2470.84]\n   [2470.95 2470.26 2470.16 ... 2470.47 2470.55 2470.97]\n   [2470.4  2470.51 2470.92 ... 2470.63 2470.28 2470.59]]\n\n  [[2470.85 2470.8  2470.29 ... 2470.03 2470.93 2470.51]\n   [2470.33 2470.17 2470.33 ... 2470.51 2470.83 2470.19]\n   [2470.47 2470.06 2470.79 ... 2470.05 2470.57 2470.62]\n   ...\n   [2470.55 2470.59 2470.09 ... 2470.45 2470.88 2470.98]\n   [2470.33 2470.62 2470.75 ... 2470.15 2470.29 2470.47]\n   [2470.6  2470.46 2470.3  ... 2470.95 2470.94 2470.1 ]]\n\n  ...\n\n  [[2470.67 2470.4  2470.65 ... 2470.92 2470.78 2470.76]\n   [2470.25 2470.55 2470.7  ... 2470.45 2470.44 2470.49]\n   [2470.28 2470.27 2470.82 ... 2470.56 2470.48 2470.83]\n   ...\n   [2470.1  2470.71 2470.17 ... 2470.89 2470.08 2470.71]\n   [2470.42 2470.62 2470.17 ... 2470.67 2470.85 2470.75]\n   [2470.21 2470.87 2470.2  ... 2470.17 2470.08 2470.59]]\n\n  [[2470.3  2470.96 2470.92 ... 2470.37 2470.13 2470.03]\n   [2470.48 2470.13 2470.46 ... 2470.32 2470.68 2470.98]\n   [2470.   2470.25 2470.48 ... 2470.13 2470.5  2470.34]\n   ...\n   [2471.   2470.23 2470.08 ... 2470.22 2470.24 2470.95]\n   [2470.6  2470.4  2470.35 ... 2470.42 2470.04 2470.63]\n   [2470.04 2470.52 2470.28 ... 2470.41 2470.67 2470.19]]\n\n  [[2470.29 2470.37 2470.12 ... 2470.96 2470.34 2470.7 ]\n   [2470.41 2470.77 2470.01 ... 2470.59 2470.56 2470.83]\n   [2470.88 2470.78 2470.1  ... 2470.45 2470.06 2470.5 ]\n   ...\n   [2470.77 2470.69 2470.37 ... 2470.18 2470.93 2470.98]\n   [2470.93 2470.02 2470.62 ... 2470.15 2470.43 2470.86]\n   [2470.54 2470.17 2470.84 ... 2470.5  2470.74 2470.76]]]]\nindex: 248: value: [[[[2480.84 2480.12 2480.59 ... 2480.4  2480.98 2480.94]\n   [2480.55 2480.74 2480.3  ... 2480.51 2480.05 2480.26]\n   [2480.28 2480.89 2480.05 ... 2480.96 2480.6  2480.22]\n   ...\n   [2480.74 2480.26 2480.14 ... 2480.67 2480.24 2480.86]\n   [2480.76 2480.83 2480.73 ... 2480.23 2480.35 2480.05]\n   [2480.8  2480.78 2480.11 ... 2480.12 2480.46 2480.96]]\n\n  [[2480.56 2480.84 2480.07 ... 2480.42 2480.5  2480.65]\n   [2480.15 2480.18 2480.55 ... 2480.55 2480.12 2480.06]\n   [2480.39 2480.3  2480.61 ... 2480.88 2480.16 2480.49]\n   ...\n   [2480.52 2480.94 2480.26 ... 2480.17 2480.23 2480.75]\n   [2480.79 2480.83 2480.58 ... 2480.66 2480.54 2480.65]\n   [2480.36 2480.38 2480.63 ... 2480.66 2480.54 2480.71]]\n\n  [[2480.56 2480.73 2480.52 ... 2480.38 2480.6  2480.48]\n   [2480.31 2480.35 2480.85 ... 2480.33 2480.65 2480.8 ]\n   [2480.87 2480.47 2480.79 ... 2480.97 2480.81 2480.91]\n   ...\n   [2480.49 2480.25 2480.97 ... 2480.84 2480.41 2480.87]\n   [2480.65 2480.48 2480.53 ... 2480.66 2480.76 2480.05]\n   [2480.79 2480.04 2480.13 ... 2480.59 2480.38 2480.13]]\n\n  ...\n\n  [[2480.32 2480.5  2480.74 ... 2480.45 2480.7  2480.83]\n   [2480.21 2480.03 2480.06 ... 2480.87 2480.47 2480.85]\n   [2480.98 2480.66 2480.57 ... 2480.2  2480.23 2480.56]\n   ...\n   [2480.17 2480.72 2480.4  ... 2480.21 2480.78 2480.07]\n   [2480.01 2480.05 2480.34 ... 2480.29 2480.03 2480.29]\n   [2480.65 2480.   2480.73 ... 2480.57 2480.85 2480.22]]\n\n  [[2480.32 2480.18 2480.93 ... 2480.56 2480.23 2480.46]\n   [2480.23 2480.32 2480.79 ... 2480.54 2481.   2480.63]\n   [2480.67 2480.01 2480.3  ... 2480.84 2480.57 2480.39]\n   ...\n   [2480.48 2480.25 2480.86 ... 2480.28 2480.02 2480.11]\n   [2480.9  2480.35 2480.85 ... 2480.93 2480.1  2480.18]\n   [2480.58 2480.18 2480.02 ... 2480.82 2480.32 2480.9 ]]\n\n  [[2480.09 2480.02 2480.36 ... 2480.31 2480.74 2480.98]\n   [2480.93 2480.49 2480.43 ... 2480.17 2480.45 2480.42]\n   [2480.52 2480.83 2480.1  ... 2480.38 2480.89 2480.16]\n   ...\n   [2480.48 2480.97 2480.41 ... 2480.41 2480.82 2480.16]\n   [2480.64 2480.27 2480.08 ... 2480.62 2480.38 2480.71]\n   [2480.91 2480.91 2480.05 ... 2480.43 2480.36 2480.82]]]\n\n\n [[[2480.23 2480.03 2480.27 ... 2480.04 2480.73 2480.09]\n   [2480.32 2480.84 2480.21 ... 2480.94 2480.21 2480.44]\n   [2480.54 2480.42 2480.15 ... 2480.84 2480.6  2480.71]\n   ...\n   [2480.02 2480.5  2480.36 ... 2480.7  2480.5  2480.6 ]\n   [2480.81 2480.41 2480.59 ... 2480.69 2480.98 2480.16]\n   [2480.96 2480.31 2480.09 ... 2480.64 2480.11 2480.95]]\n\n  [[2480.56 2480.02 2480.95 ... 2480.03 2480.65 2480.95]\n   [2480.61 2480.22 2480.27 ... 2480.02 2480.15 2480.11]\n   [2480.77 2480.73 2480.44 ... 2480.59 2480.61 2480.67]\n   ...\n   [2480.84 2480.05 2480.37 ... 2480.37 2480.97 2480.97]\n   [2480.64 2480.08 2480.27 ... 2480.81 2480.78 2480.8 ]\n   [2480.88 2480.3  2480.36 ... 2480.6  2480.58 2480.73]]\n\n  [[2480.48 2480.37 2480.81 ... 2480.74 2480.62 2480.53]\n   [2480.74 2480.83 2480.84 ... 2480.29 2480.25 2480.23]\n   [2480.54 2480.53 2480.04 ... 2480.12 2480.86 2480.93]\n   ...\n   [2480.4  2480.88 2480.79 ... 2480.5  2480.29 2480.42]\n   [2480.23 2480.25 2480.53 ... 2480.24 2480.54 2480.39]\n   [2480.03 2480.25 2480.34 ... 2480.92 2480.08 2480.62]]\n\n  ...\n\n  [[2480.95 2480.14 2480.92 ... 2480.25 2480.51 2480.54]\n   [2480.14 2480.5  2480.71 ... 2480.47 2480.38 2480.44]\n   [2480.58 2480.22 2480.83 ... 2480.87 2480.36 2480.15]\n   ...\n   [2480.03 2480.51 2480.4  ... 2480.54 2480.93 2480.54]\n   [2480.21 2480.48 2480.41 ... 2480.21 2480.77 2480.94]\n   [2480.05 2480.12 2480.9  ... 2480.98 2480.39 2480.19]]\n\n  [[2480.19 2480.6  2480.23 ... 2480.72 2480.53 2480.68]\n   [2480.84 2480.82 2480.28 ... 2480.94 2480.71 2480.94]\n   [2480.19 2480.62 2480.86 ... 2480.91 2480.67 2480.5 ]\n   ...\n   [2480.28 2480.97 2480.04 ... 2480.02 2480.68 2480.13]\n   [2480.57 2480.77 2480.72 ... 2480.08 2480.07 2480.15]\n   [2480.8  2480.73 2480.39 ... 2480.27 2480.24 2480.94]]\n\n  [[2480.18 2480.14 2480.58 ... 2480.05 2480.82 2480.04]\n   [2480.62 2480.84 2480.47 ... 2480.45 2480.38 2480.08]\n   [2480.86 2480.08 2480.06 ... 2481.   2480.9  2480.56]\n   ...\n   [2480.09 2480.76 2480.22 ... 2480.42 2480.29 2480.33]\n   [2480.01 2480.53 2481.   ... 2480.05 2480.42 2480.97]\n   [2480.1  2480.92 2480.13 ... 2480.04 2480.22 2480.45]]]\n\n\n [[[2480.5  2480.11 2480.29 ... 2480.79 2480.46 2480.33]\n   [2480.76 2480.04 2480.63 ... 2480.04 2480.75 2480.6 ]\n   [2480.52 2480.04 2480.57 ... 2480.56 2480.97 2480.37]\n   ...\n   [2480.05 2480.67 2480.65 ... 2480.37 2480.11 2480.68]\n   [2480.48 2480.11 2480.05 ... 2480.87 2480.57 2480.38]\n   [2480.17 2480.41 2480.95 ... 2480.76 2480.9  2480.6 ]]\n\n  [[2480.5  2480.62 2480.84 ... 2480.67 2480.74 2480.63]\n   [2480.06 2480.52 2480.19 ... 2480.99 2480.08 2480.91]\n   [2480.11 2481.   2480.31 ... 2480.1  2480.39 2480.21]\n   ...\n   [2480.3  2480.38 2480.46 ... 2480.5  2481.   2480.71]\n   [2480.59 2480.76 2480.04 ... 2480.79 2480.81 2480.73]\n   [2480.42 2480.01 2480.64 ... 2480.04 2480.41 2480.35]]\n\n  [[2480.27 2480.6  2480.5  ... 2480.1  2480.92 2480.03]\n   [2480.9  2480.2  2480.08 ... 2480.4  2480.69 2480.01]\n   [2480.18 2480.5  2480.68 ... 2480.57 2480.83 2480.07]\n   ...\n   [2480.   2480.22 2480.7  ... 2480.26 2480.66 2480.57]\n   [2480.98 2480.42 2480.42 ... 2480.06 2480.22 2480.56]\n   [2481.   2480.3  2480.75 ... 2480.58 2480.05 2480.67]]\n\n  ...\n\n  [[2480.06 2480.36 2480.   ... 2480.55 2480.31 2480.05]\n   [2480.25 2480.34 2480.81 ... 2480.5  2480.83 2480.55]\n   [2480.38 2480.32 2480.9  ... 2480.67 2480.66 2480.04]\n   ...\n   [2480.96 2480.72 2480.8  ... 2480.59 2480.62 2480.62]\n   [2480.73 2480.74 2480.5  ... 2480.6  2480.72 2480.11]\n   [2480.98 2480.58 2480.17 ... 2480.64 2480.22 2480.68]]\n\n  [[2480.32 2480.32 2480.75 ... 2480.83 2480.87 2480.99]\n   [2480.86 2480.09 2480.43 ... 2480.29 2480.99 2480.52]\n   [2480.15 2480.55 2480.04 ... 2480.79 2480.61 2480.69]\n   ...\n   [2480.95 2480.44 2480.37 ... 2480.11 2480.98 2480.96]\n   [2480.33 2480.1  2480.73 ... 2480.18 2480.71 2480.61]\n   [2480.72 2480.94 2480.9  ... 2480.86 2480.49 2480.81]]\n\n  [[2480.71 2480.02 2480.07 ... 2480.18 2480.48 2480.48]\n   [2480.05 2480.53 2480.06 ... 2480.76 2480.98 2480.57]\n   [2480.04 2480.05 2480.73 ... 2480.15 2480.2  2480.62]\n   ...\n   [2480.12 2480.77 2480.27 ... 2480.22 2480.99 2480.89]\n   [2480.41 2480.87 2480.91 ... 2480.97 2480.1  2480.76]\n   [2480.97 2480.66 2480.58 ... 2480.68 2480.3  2480.61]]]\n\n\n [[[2480.93 2480.67 2480.22 ... 2480.41 2480.53 2480.65]\n   [2480.34 2480.64 2480.7  ... 2480.82 2480.75 2480.99]\n   [2480.46 2480.53 2480.52 ... 2480.7  2480.18 2480.47]\n   ...\n   [2480.55 2480.89 2480.58 ... 2480.4  2480.87 2480.31]\n   [2480.29 2480.74 2480.27 ... 2480.36 2480.6  2480.05]\n   [2480.44 2480.44 2480.1  ... 2480.11 2480.38 2480.47]]\n\n  [[2480.18 2480.5  2480.08 ... 2480.84 2480.84 2480.78]\n   [2480.29 2480.39 2480.64 ... 2480.88 2481.   2480.67]\n   [2480.89 2481.   2480.61 ... 2480.41 2480.39 2480.66]\n   ...\n   [2480.02 2480.   2480.15 ... 2480.9  2480.09 2480.89]\n   [2480.7  2480.95 2480.76 ... 2480.06 2480.79 2480.99]\n   [2480.79 2480.3  2480.61 ... 2480.15 2480.95 2480.3 ]]\n\n  [[2480.6  2480.92 2480.88 ... 2480.65 2480.98 2480.7 ]\n   [2480.75 2480.85 2480.25 ... 2480.7  2480.46 2480.29]\n   [2480.31 2480.28 2480.23 ... 2480.91 2480.57 2480.89]\n   ...\n   [2480.21 2480.32 2480.13 ... 2480.41 2480.19 2480.48]\n   [2480.94 2480.11 2480.91 ... 2480.55 2480.56 2480.18]\n   [2480.37 2480.5  2480.53 ... 2480.17 2480.15 2480.57]]\n\n  ...\n\n  [[2480.96 2480.75 2480.48 ... 2480.78 2480.64 2480.18]\n   [2480.2  2480.75 2480.01 ... 2480.11 2480.96 2480.55]\n   [2480.33 2480.76 2480.53 ... 2480.43 2480.71 2480.28]\n   ...\n   [2480.02 2480.17 2480.81 ... 2480.79 2480.14 2480.66]\n   [2480.56 2480.1  2480.1  ... 2480.74 2480.31 2480.13]\n   [2480.61 2480.11 2480.81 ... 2480.65 2480.08 2480.66]]\n\n  [[2480.67 2480.59 2480.64 ... 2480.08 2480.07 2480.37]\n   [2480.83 2480.05 2480.54 ... 2480.12 2480.29 2480.49]\n   [2480.55 2480.3  2480.76 ... 2480.17 2480.35 2480.84]\n   ...\n   [2480.44 2480.06 2480.87 ... 2480.01 2480.19 2480.66]\n   [2480.37 2480.85 2480.41 ... 2480.3  2480.57 2480.84]\n   [2480.46 2480.33 2480.7  ... 2480.24 2480.75 2480.62]]\n\n  [[2480.55 2480.27 2480.99 ... 2480.79 2480.71 2480.97]\n   [2480.56 2480.96 2480.63 ... 2480.88 2480.81 2480.02]\n   [2480.45 2480.45 2480.69 ... 2480.43 2480.73 2480.98]\n   ...\n   [2480.33 2480.87 2480.84 ... 2480.28 2480.54 2480.36]\n   [2480.89 2480.61 2480.18 ... 2480.68 2480.3  2480.09]\n   [2480.25 2480.23 2480.48 ... 2480.62 2480.15 2480.55]]]]\nindex: 249: value: [[[[2490.34 2490.61 2490.89 ... 2490.64 2490.23 2490.18]\n   [2490.07 2490.29 2490.34 ... 2490.53 2490.31 2490.33]\n   [2490.85 2490.64 2490.18 ... 2490.56 2490.22 2490.75]\n   ...\n   [2490.33 2490.01 2490.09 ... 2490.29 2490.79 2490.33]\n   [2490.19 2490.04 2490.26 ... 2490.72 2490.82 2490.13]\n   [2490.21 2490.24 2490.82 ... 2490.69 2490.8  2490.51]]\n\n  [[2490.41 2490.79 2490.39 ... 2490.19 2490.24 2490.14]\n   [2490.83 2490.24 2490.31 ... 2490.94 2490.39 2490.69]\n   [2490.66 2490.07 2490.3  ... 2490.28 2490.76 2490.76]\n   ...\n   [2490.77 2490.24 2490.73 ... 2490.77 2490.71 2490.79]\n   [2490.44 2490.46 2490.21 ... 2490.07 2490.37 2490.75]\n   [2490.87 2490.46 2490.88 ... 2490.58 2490.04 2490.96]]\n\n  [[2490.61 2490.34 2490.08 ... 2490.1  2490.65 2490.54]\n   [2490.09 2490.36 2490.98 ... 2490.91 2490.26 2490.89]\n   [2490.12 2490.2  2490.11 ... 2490.59 2490.18 2490.15]\n   ...\n   [2490.74 2490.99 2490.99 ... 2490.85 2490.97 2490.03]\n   [2490.4  2490.91 2490.6  ... 2490.48 2490.05 2490.29]\n   [2490.85 2490.36 2490.38 ... 2490.33 2490.47 2490.1 ]]\n\n  ...\n\n  [[2490.48 2490.09 2490.39 ... 2490.2  2490.03 2490.22]\n   [2490.55 2490.65 2490.99 ... 2490.14 2490.87 2490.86]\n   [2490.04 2490.81 2490.04 ... 2490.69 2490.23 2490.6 ]\n   ...\n   [2490.84 2490.73 2490.04 ... 2490.8  2490.71 2490.11]\n   [2490.56 2490.68 2490.94 ... 2490.89 2490.86 2490.46]\n   [2490.37 2490.46 2490.06 ... 2490.7  2490.72 2490.71]]\n\n  [[2490.79 2490.06 2490.91 ... 2490.16 2490.84 2490.06]\n   [2490.26 2490.51 2490.01 ... 2490.36 2490.73 2490.36]\n   [2490.23 2490.32 2490.38 ... 2490.51 2490.88 2490.23]\n   ...\n   [2490.51 2490.67 2490.02 ... 2490.37 2490.28 2490.74]\n   [2490.41 2490.58 2490.6  ... 2490.24 2490.08 2490.51]\n   [2490.55 2490.82 2490.35 ... 2490.34 2490.64 2490.87]]\n\n  [[2490.51 2490.62 2490.63 ... 2490.22 2490.69 2490.55]\n   [2490.7  2490.88 2490.54 ... 2490.6  2490.13 2490.13]\n   [2490.3  2490.1  2490.98 ... 2490.91 2490.36 2490.96]\n   ...\n   [2490.11 2490.4  2490.39 ... 2490.7  2490.48 2490.21]\n   [2490.87 2490.73 2490.18 ... 2490.35 2490.94 2490.24]\n   [2490.56 2490.19 2490.19 ... 2490.92 2490.03 2490.98]]]\n\n\n [[[2490.99 2490.22 2490.92 ... 2490.64 2490.03 2490.85]\n   [2490.27 2490.8  2490.   ... 2490.72 2490.55 2490.29]\n   [2490.45 2490.54 2490.14 ... 2490.04 2490.46 2490.09]\n   ...\n   [2490.3  2490.51 2490.61 ... 2490.08 2490.75 2490.46]\n   [2490.65 2490.47 2490.33 ... 2490.11 2490.6  2490.62]\n   [2490.67 2490.92 2490.93 ... 2490.72 2490.06 2490.6 ]]\n\n  [[2490.6  2490.53 2490.98 ... 2490.84 2490.77 2490.17]\n   [2490.07 2490.48 2490.55 ... 2490.82 2490.08 2490.49]\n   [2490.47 2490.92 2490.47 ... 2490.72 2490.67 2490.82]\n   ...\n   [2490.6  2490.37 2490.23 ... 2490.74 2490.03 2490.5 ]\n   [2490.68 2490.79 2490.82 ... 2490.77 2490.23 2490.27]\n   [2490.64 2490.24 2490.84 ... 2490.22 2490.18 2490.8 ]]\n\n  [[2490.78 2490.81 2490.87 ... 2490.84 2490.58 2490.35]\n   [2490.18 2490.9  2490.69 ... 2490.44 2490.57 2490.85]\n   [2490.61 2490.93 2490.46 ... 2490.12 2490.29 2490.14]\n   ...\n   [2490.34 2490.78 2490.62 ... 2490.71 2490.6  2490.69]\n   [2490.24 2490.41 2490.85 ... 2490.88 2490.02 2490.04]\n   [2490.37 2490.34 2490.59 ... 2490.36 2490.71 2490.12]]\n\n  ...\n\n  [[2490.03 2490.83 2490.19 ... 2490.05 2490.79 2490.27]\n   [2490.53 2490.7  2490.38 ... 2490.98 2490.01 2490.54]\n   [2490.59 2490.56 2490.78 ... 2490.23 2490.97 2490.98]\n   ...\n   [2490.61 2490.6  2490.76 ... 2490.41 2490.18 2490.29]\n   [2490.22 2490.04 2490.84 ... 2490.68 2490.51 2490.88]\n   [2490.89 2490.46 2490.78 ... 2490.78 2490.96 2491.  ]]\n\n  [[2490.66 2490.72 2490.69 ... 2490.84 2490.18 2490.18]\n   [2490.41 2490.92 2490.67 ... 2490.64 2490.84 2490.83]\n   [2490.1  2490.19 2490.36 ... 2490.57 2490.69 2490.44]\n   ...\n   [2490.79 2490.25 2490.7  ... 2490.24 2490.6  2490.51]\n   [2490.67 2490.47 2490.9  ... 2490.11 2490.53 2490.95]\n   [2490.36 2490.06 2490.86 ... 2490.08 2490.12 2490.66]]\n\n  [[2490.98 2490.45 2490.04 ... 2490.51 2490.53 2490.47]\n   [2490.03 2491.   2490.52 ... 2490.27 2490.45 2490.35]\n   [2490.27 2490.88 2490.16 ... 2490.13 2490.02 2490.34]\n   ...\n   [2490.26 2490.93 2490.24 ... 2490.83 2490.23 2490.36]\n   [2490.26 2490.21 2490.97 ... 2490.45 2490.9  2490.44]\n   [2490.78 2490.88 2490.39 ... 2490.36 2490.32 2490.45]]]\n\n\n [[[2490.13 2490.84 2490.94 ... 2490.52 2490.53 2490.38]\n   [2490.7  2490.21 2490.63 ... 2490.38 2490.32 2490.52]\n   [2490.15 2490.05 2490.36 ... 2490.16 2490.22 2490.52]\n   ...\n   [2490.37 2490.92 2490.17 ... 2490.85 2490.42 2490.44]\n   [2490.71 2490.81 2490.21 ... 2490.47 2490.26 2490.8 ]\n   [2490.58 2490.36 2490.38 ... 2490.53 2490.95 2490.03]]\n\n  [[2490.68 2490.81 2490.41 ... 2490.89 2490.19 2490.95]\n   [2490.02 2490.65 2490.34 ... 2490.33 2490.84 2490.22]\n   [2490.29 2490.45 2490.2  ... 2490.02 2490.92 2490.23]\n   ...\n   [2490.58 2490.86 2490.19 ... 2490.47 2490.93 2490.17]\n   [2490.36 2490.28 2490.46 ... 2490.12 2490.74 2490.15]\n   [2490.77 2490.61 2490.22 ... 2490.75 2490.62 2490.  ]]\n\n  [[2490.01 2490.17 2490.22 ... 2490.33 2490.95 2490.24]\n   [2490.47 2490.03 2490.47 ... 2490.44 2490.74 2490.69]\n   [2490.19 2490.47 2490.69 ... 2490.16 2490.5  2490.76]\n   ...\n   [2490.36 2490.04 2490.62 ... 2490.33 2490.1  2490.19]\n   [2490.85 2490.98 2490.28 ... 2490.36 2490.34 2490.44]\n   [2490.16 2490.4  2490.47 ... 2490.07 2490.33 2490.16]]\n\n  ...\n\n  [[2490.96 2490.37 2490.11 ... 2490.29 2490.82 2490.71]\n   [2490.05 2490.34 2490.6  ... 2490.75 2490.88 2490.71]\n   [2490.1  2490.25 2490.83 ... 2490.24 2490.43 2490.36]\n   ...\n   [2490.13 2490.62 2490.6  ... 2490.42 2490.18 2490.07]\n   [2490.82 2490.87 2490.44 ... 2490.24 2490.95 2490.34]\n   [2490.65 2490.8  2490.73 ... 2490.31 2490.77 2490.2 ]]\n\n  [[2490.67 2490.82 2490.02 ... 2490.24 2490.44 2490.16]\n   [2490.45 2490.37 2490.27 ... 2490.23 2490.23 2490.86]\n   [2490.65 2490.3  2490.04 ... 2490.09 2490.68 2490.12]\n   ...\n   [2490.6  2490.39 2490.85 ... 2490.74 2490.56 2490.37]\n   [2490.3  2490.08 2490.14 ... 2490.51 2490.7  2490.05]\n   [2490.89 2490.47 2490.93 ... 2490.91 2490.95 2490.6 ]]\n\n  [[2490.94 2490.36 2490.68 ... 2490.75 2490.7  2490.48]\n   [2490.41 2490.46 2490.6  ... 2490.13 2490.92 2490.29]\n   [2490.77 2490.57 2490.48 ... 2490.21 2490.29 2490.75]\n   ...\n   [2490.99 2490.74 2490.24 ... 2490.47 2490.7  2490.55]\n   [2490.66 2490.9  2490.87 ... 2490.51 2490.09 2490.67]\n   [2490.03 2490.07 2490.14 ... 2490.3  2490.37 2490.45]]]\n\n\n [[[2490.85 2490.3  2490.8  ... 2490.54 2490.99 2490.67]\n   [2490.94 2490.12 2490.32 ... 2490.68 2490.89 2490.48]\n   [2490.93 2490.53 2490.42 ... 2490.26 2490.64 2490.68]\n   ...\n   [2490.96 2490.92 2490.79 ... 2490.08 2490.02 2490.07]\n   [2490.89 2490.29 2490.91 ... 2490.1  2490.13 2490.91]\n   [2490.66 2490.6  2490.95 ... 2490.69 2490.32 2490.28]]\n\n  [[2490.67 2490.91 2490.35 ... 2490.83 2490.8  2490.48]\n   [2490.58 2490.29 2490.83 ... 2490.36 2490.52 2490.39]\n   [2490.37 2490.7  2490.34 ... 2490.42 2490.85 2490.9 ]\n   ...\n   [2490.83 2490.53 2490.16 ... 2490.03 2490.37 2490.02]\n   [2490.64 2490.83 2490.69 ... 2490.6  2490.27 2490.31]\n   [2490.8  2490.29 2490.68 ... 2490.4  2490.06 2490.12]]\n\n  [[2490.66 2490.92 2490.2  ... 2490.42 2490.02 2490.13]\n   [2490.06 2490.03 2490.08 ... 2490.82 2490.37 2490.36]\n   [2490.89 2490.52 2490.19 ... 2490.73 2490.39 2490.99]\n   ...\n   [2490.69 2490.44 2490.41 ... 2490.95 2490.76 2490.45]\n   [2490.35 2490.08 2490.17 ... 2490.49 2490.33 2490.17]\n   [2490.44 2490.61 2491.   ... 2490.91 2490.8  2490.67]]\n\n  ...\n\n  [[2490.49 2490.54 2490.78 ... 2490.32 2490.99 2490.72]\n   [2490.58 2490.7  2490.5  ... 2490.54 2490.56 2490.2 ]\n   [2490.68 2490.15 2490.8  ... 2490.61 2490.16 2490.89]\n   ...\n   [2490.17 2490.95 2490.24 ... 2490.03 2490.42 2490.17]\n   [2490.31 2490.9  2490.48 ... 2490.65 2490.94 2490.22]\n   [2490.58 2490.82 2490.17 ... 2490.93 2490.26 2490.66]]\n\n  [[2490.8  2490.48 2490.59 ... 2490.46 2490.41 2490.72]\n   [2490.76 2490.81 2490.06 ... 2490.92 2490.53 2490.97]\n   [2490.39 2490.49 2490.12 ... 2490.85 2490.26 2490.7 ]\n   ...\n   [2490.66 2490.26 2490.88 ... 2490.18 2490.35 2490.83]\n   [2490.74 2490.24 2490.27 ... 2490.56 2490.76 2490.84]\n   [2490.16 2490.39 2490.03 ... 2490.86 2490.15 2490.11]]\n\n  [[2490.02 2490.76 2490.28 ... 2490.96 2490.17 2490.68]\n   [2490.93 2490.76 2490.15 ... 2490.14 2490.02 2490.6 ]\n   [2490.99 2490.71 2490.53 ... 2490.03 2490.46 2490.31]\n   ...\n   [2490.87 2490.84 2490.93 ... 2490.84 2490.97 2490.94]\n   [2490.37 2490.46 2490.5  ... 2490.2  2490.79 2490.16]\n   [2490.52 2490.52 2490.73 ... 2490.76 2490.18 2490.89]]]]\n"
        },
        {
         "data": {
          "text/plain": "[(10, 4, 10, 10, 10), (10, 4, 10, 10, 10)]"
         },
         "metadata": {},
         "output_type": "display_data"
        }
       ]
      }
     },
     "39ee851cc5e94c22a341192efd426180": {
      "model_module": "@jupyter-widgets/controls",
      "model_module_version": "1.5.0",
      "model_name": "SliderStyleModel",
      "state": {
       "description_width": ""
      }
     },
     "44b7669450964a649994dac32311c26b": {
      "model_module": "@jupyter-widgets/controls",
      "model_module_version": "1.5.0",
      "model_name": "CheckboxModel",
      "state": {
       "description": "shuffle_indexes",
       "disabled": false,
       "layout": "IPY_MODEL_a7dd2c08009e4b2d921f72bb3b72318e",
       "style": "IPY_MODEL_f59d6295beef4a25a474171f6c7f1770",
       "value": true
      }
     },
     "44df3ae141ed4938889581c6b010c64a": {
      "model_module": "@jupyter-widgets/controls",
      "model_module_version": "1.5.0",
      "model_name": "TextModel",
      "state": {
       "description": "input_obj_shape",
       "layout": "IPY_MODEL_f803d8c46f6e4a7a9a0604fd2392d11b",
       "style": "IPY_MODEL_bef4330cfbf24ac49311cce6ae12e285",
       "value": "(10,10,10)"
      }
     },
     "467be25225184a2daf3b60f20ad18494": {
      "model_module": "@jupyter-widgets/base",
      "model_module_version": "1.2.0",
      "model_name": "LayoutModel",
      "state": {}
     },
     "47ae0912c5e240e5a76a27f1a00ade3a": {
      "model_module": "@jupyter-widgets/controls",
      "model_module_version": "1.5.0",
      "model_name": "SliderStyleModel",
      "state": {
       "description_width": ""
      }
     },
     "4b56cfca4d03490e9bf3c59b6c94e9a4": {
      "model_module": "@jupyter-widgets/controls",
      "model_module_version": "1.5.0",
      "model_name": "IntSliderModel",
      "state": {
       "description": "examples_",
       "layout": "IPY_MODEL_52bd3f5fa3874dfdaeb00377532c37b1",
       "max": 1000,
       "min": 1,
       "style": "IPY_MODEL_c01e495ae7964e0b8bd5487edb2ddbdf",
       "value": 1000
      }
     },
     "4b9fdf78ed5c4bbdb0fd734bd724d6f2": {
      "model_module": "@jupyter-widgets/base",
      "model_module_version": "1.2.0",
      "model_name": "LayoutModel",
      "state": {}
     },
     "52bd3f5fa3874dfdaeb00377532c37b1": {
      "model_module": "@jupyter-widgets/base",
      "model_module_version": "1.2.0",
      "model_name": "LayoutModel",
      "state": {}
     },
     "54042294d28c48739b674adf42c9337b": {
      "model_module": "@jupyter-widgets/controls",
      "model_module_version": "1.5.0",
      "model_name": "CheckboxModel",
      "state": {
       "description": "shuffle_indexes",
       "disabled": false,
       "layout": "IPY_MODEL_9a2e33104b3c4df5978f66d3feb5de76",
       "style": "IPY_MODEL_36e86838cf854dcd89872ea4c547e189",
       "value": false
      }
     },
     "554461e295004cc6b5d7a37e5e79168b": {
      "model_module": "@jupyter-widgets/controls",
      "model_module_version": "1.5.0",
      "model_name": "IntSliderModel",
      "state": {
       "description": "output_objects_",
       "layout": "IPY_MODEL_bc2b7aa15f834616ae3faffcf391780e",
       "max": 8,
       "min": 1,
       "style": "IPY_MODEL_897bc1919fe34f12ad1657e7c541834f",
       "value": 4
      }
     },
     "554ea02867ed4edc9f8bd696062f84ee": {
      "model_module": "@jupyter-widgets/controls",
      "model_module_version": "1.5.0",
      "model_name": "SliderStyleModel",
      "state": {
       "description_width": ""
      }
     },
     "5a91d9eccd6c434bbcd7e2207e307986": {
      "model_module": "@jupyter-widgets/controls",
      "model_module_version": "1.5.0",
      "model_name": "CheckboxModel",
      "state": {
       "description": "debug",
       "disabled": false,
       "layout": "IPY_MODEL_dbf335ed734f4317b809861a8b1024a2",
       "style": "IPY_MODEL_ef5ad429b88a445daea84aae92c611cd",
       "value": true
      }
     },
     "5bad2ea6a491438abd11c9941863706a": {
      "model_module": "@jupyter-widgets/base",
      "model_module_version": "1.2.0",
      "model_name": "LayoutModel",
      "state": {}
     },
     "5bfb2aabf312461185f9d9cf23901a00": {
      "model_module": "@jupyter-widgets/base",
      "model_module_version": "1.2.0",
      "model_name": "LayoutModel",
      "state": {}
     },
     "5df8f779399a4c2ea12bce591b4da086": {
      "model_module": "@jupyter-widgets/controls",
      "model_module_version": "1.5.0",
      "model_name": "DescriptionStyleModel",
      "state": {
       "description_width": ""
      }
     },
     "636c0cde9e9f440cabada8578ad9e2d4": {
      "model_module": "@jupyter-widgets/controls",
      "model_module_version": "1.5.0",
      "model_name": "DescriptionStyleModel",
      "state": {
       "description_width": ""
      }
     },
     "6602970be3514816aaa84968aebfbc84": {
      "model_module": "@jupyter-widgets/base",
      "model_module_version": "1.2.0",
      "model_name": "LayoutModel",
      "state": {}
     },
     "6c29b2d76a9b4a04932c92851eb1942f": {
      "model_module": "@jupyter-widgets/controls",
      "model_module_version": "1.5.0",
      "model_name": "IntSliderModel",
      "state": {
       "description": "selected_batch",
       "layout": "IPY_MODEL_270a8442312f40378fa14c167640ca74",
       "max": 49,
       "style": "IPY_MODEL_b3df8869f5814daeb766a60a5655359e",
       "value": 24
      }
     },
     "6c495bd15d7e4c10b1f668b54f31c463": {
      "model_module": "@jupyter-widgets/controls",
      "model_module_version": "1.5.0",
      "model_name": "VBoxModel",
      "state": {
       "_dom_classes": [
        "widget-interact"
       ],
       "children": [
        "IPY_MODEL_14182a01fab349d9a6485e96bc1aad2a",
        "IPY_MODEL_d74a449d07f240f0bf6c6bee7be70783",
        "IPY_MODEL_15a61e48c4e1495c9e3afe12b2af8537",
        "IPY_MODEL_805b89d717f44cbcb10e21eeaa6bbba6"
       ],
       "layout": "IPY_MODEL_467be25225184a2daf3b60f20ad18494"
      }
     },
     "6db9d403fab248878d7e9ee4bcebf402": {
      "model_module": "@jupyter-widgets/base",
      "model_module_version": "1.2.0",
      "model_name": "LayoutModel",
      "state": {}
     },
     "6e2911603bd14068942ad6ac283bd8db": {
      "model_module": "@jupyter-widgets/controls",
      "model_module_version": "1.5.0",
      "model_name": "CheckboxModel",
      "state": {
       "description": "shuffle_indexes",
       "disabled": false,
       "layout": "IPY_MODEL_2d05f74ed4df4d848db46589ea22ce55",
       "style": "IPY_MODEL_e28fe0d9e3db4317862313bcf09b2abf",
       "value": true
      }
     },
     "724d8cc7b8be4177bacb40fb3be7028f": {
      "model_module": "@jupyter-widgets/base",
      "model_module_version": "1.2.0",
      "model_name": "LayoutModel",
      "state": {}
     },
     "73388090b9a94adb935d535f2cf47ae3": {
      "model_module": "@jupyter-widgets/base",
      "model_module_version": "1.2.0",
      "model_name": "LayoutModel",
      "state": {}
     },
     "744299fed4254342838121636a60a2ea": {
      "model_module": "@jupyter-widgets/controls",
      "model_module_version": "1.5.0",
      "model_name": "ButtonModel",
      "state": {
       "description": "Run Interact",
       "layout": "IPY_MODEL_adf7d024f733440db33475150381980f",
       "style": "IPY_MODEL_93cebd2fd681480db90a7c327c2429bd"
      }
     },
     "74c4b3f58a0f44dd8594175dceff21e8": {
      "model_module": "@jupyter-widgets/controls",
      "model_module_version": "1.5.0",
      "model_name": "IntSliderModel",
      "state": {
       "description": "selected_batch",
       "layout": "IPY_MODEL_88243387e1f6496ab3e1f7a4ab400c7f",
       "max": 499,
       "style": "IPY_MODEL_554ea02867ed4edc9f8bd696062f84ee"
      }
     },
     "7b8a9cadfe06404a94f422f267a7c09a": {
      "model_module": "@jupyter-widgets/output",
      "model_module_version": "1.0.0",
      "model_name": "OutputModel",
      "state": {
       "layout": "IPY_MODEL_0f0a473e0f454da294ef9e46a81bc02b",
       "outputs": [
        {
         "name": "stdout",
         "output_type": "stream",
         "text": "selected batch: 149 of 249 with a batchsize of 2 and total 500 examples\nstart idx: 298, end idx: 300\nIndexes of the currrent batch: [55, 266]\n----------------------------------------\n"
        },
        {
         "data": {
          "text/plain": "[(2, 4, 5, 5, 5), (2, 4, 5, 5, 5)]"
         },
         "metadata": {},
         "output_type": "display_data"
        }
       ]
      }
     },
     "805b89d717f44cbcb10e21eeaa6bbba6": {
      "model_module": "@jupyter-widgets/output",
      "model_module_version": "1.0.0",
      "model_name": "OutputModel",
      "state": {
       "layout": "IPY_MODEL_00ae1b45478d4b9f9c03ae47d8a9dbf4",
       "outputs": [
        {
         "name": "stdout",
         "output_type": "stream",
         "text": "selected batch: 18 of 49 with a batchsize of 10 and total 500 examples\nstart idx: 180, end idx: 190\nIndexes of the currrent batch: [180, 181, 182, 183, 184, 185, 186, 187, 188, 189]\n----------------------------------------\n"
        },
        {
         "data": {
          "text/plain": "[(10, 4, 10, 10, 10), (10, 4, 10, 10, 10)]"
         },
         "metadata": {},
         "output_type": "display_data"
        }
       ]
      }
     },
     "8477a628448d448b82a47b4d4cec874d": {
      "model_module": "@jupyter-widgets/base",
      "model_module_version": "1.2.0",
      "model_name": "LayoutModel",
      "state": {}
     },
     "853d0b040452488cb96672e7b5049df1": {
      "model_module": "@jupyter-widgets/controls",
      "model_module_version": "1.5.0",
      "model_name": "SliderStyleModel",
      "state": {
       "description_width": ""
      }
     },
     "88243387e1f6496ab3e1f7a4ab400c7f": {
      "model_module": "@jupyter-widgets/base",
      "model_module_version": "1.2.0",
      "model_name": "LayoutModel",
      "state": {}
     },
     "897bc1919fe34f12ad1657e7c541834f": {
      "model_module": "@jupyter-widgets/controls",
      "model_module_version": "1.5.0",
      "model_name": "SliderStyleModel",
      "state": {
       "description_width": ""
      }
     },
     "8a323a427bb9447cbb254245868ea7be": {
      "model_module": "@jupyter-widgets/controls",
      "model_module_version": "1.5.0",
      "model_name": "IntSliderModel",
      "state": {
       "description": "selected_batch",
       "layout": "IPY_MODEL_6602970be3514816aaa84968aebfbc84",
       "max": 99,
       "style": "IPY_MODEL_39ee851cc5e94c22a341192efd426180",
       "value": 49
      }
     },
     "91e2ed1ea6354140bf9939d2c5613471": {
      "model_module": "@jupyter-widgets/base",
      "model_module_version": "1.2.0",
      "model_name": "LayoutModel",
      "state": {}
     },
     "939bae6fc7674b6ebfda3e982639e2ca": {
      "model_module": "@jupyter-widgets/controls",
      "model_module_version": "1.5.0",
      "model_name": "IntSliderModel",
      "state": {
       "description": "batchsize_",
       "layout": "IPY_MODEL_2b2c286aa10a4ee89c071fe2ae7d26e0",
       "max": 20,
       "min": 1,
       "style": "IPY_MODEL_e8e88a3744fe45dfbc247443a63e34f7",
       "value": 2
      }
     },
     "93cebd2fd681480db90a7c327c2429bd": {
      "model_module": "@jupyter-widgets/controls",
      "model_module_version": "1.5.0",
      "model_name": "ButtonStyleModel",
      "state": {}
     },
     "96003cb8994d485092e213a8d8b7e23a": {
      "model_module": "@jupyter-widgets/base",
      "model_module_version": "1.2.0",
      "model_name": "LayoutModel",
      "state": {}
     },
     "9673fdc54cc64112bf428305495900c4": {
      "model_module": "@jupyter-widgets/controls",
      "model_module_version": "1.5.0",
      "model_name": "DescriptionStyleModel",
      "state": {
       "description_width": ""
      }
     },
     "99921a7fe3d24f4aa85fae17c4fd83a0": {
      "model_module": "@jupyter-widgets/controls",
      "model_module_version": "1.5.0",
      "model_name": "IntSliderModel",
      "state": {
       "description": "examples_",
       "layout": "IPY_MODEL_ee7160ec97ad412785fb5bcb99431fd9",
       "max": 1000,
       "min": 1,
       "style": "IPY_MODEL_c2933f04761342d083030c7f33d81a09",
       "value": 1000
      }
     },
     "9a16726fd5314029be0f68f0263a215b": {
      "model_module": "@jupyter-widgets/base",
      "model_module_version": "1.2.0",
      "model_name": "LayoutModel",
      "state": {}
     },
     "9a2e33104b3c4df5978f66d3feb5de76": {
      "model_module": "@jupyter-widgets/base",
      "model_module_version": "1.2.0",
      "model_name": "LayoutModel",
      "state": {}
     },
     "9c8facfbfc444370b203c9973f8488a6": {
      "model_module": "@jupyter-widgets/controls",
      "model_module_version": "1.5.0",
      "model_name": "DescriptionStyleModel",
      "state": {
       "description_width": ""
      }
     },
     "9cd386faaeef48ffb96acf67b0ac76dc": {
      "model_module": "@jupyter-widgets/base",
      "model_module_version": "1.2.0",
      "model_name": "LayoutModel",
      "state": {}
     },
     "9fb4a681b5d447e697edc5aaf907dba2": {
      "model_module": "@jupyter-widgets/controls",
      "model_module_version": "1.5.0",
      "model_name": "SliderStyleModel",
      "state": {
       "description_width": ""
      }
     },
     "a68f82d84b404de1ac6527bd6b33a804": {
      "model_module": "@jupyter-widgets/controls",
      "model_module_version": "1.5.0",
      "model_name": "SliderStyleModel",
      "state": {
       "description_width": ""
      }
     },
     "a7dd2c08009e4b2d921f72bb3b72318e": {
      "model_module": "@jupyter-widgets/base",
      "model_module_version": "1.2.0",
      "model_name": "LayoutModel",
      "state": {}
     },
     "a8e2a50842d04407877f04637b5692ee": {
      "model_module": "@jupyter-widgets/output",
      "model_module_version": "1.0.0",
      "model_name": "OutputModel",
      "state": {
       "layout": "IPY_MODEL_36ff7755caf647de8b1ed86d6409afe5",
       "outputs": [
        {
         "name": "stdout",
         "output_type": "stream",
         "text": "selected batch: 24 of 49 with a batchsize of 10 and total 500 examples\nstart idx: 240, end idx: 250\nIndexes of the currrent batch: [240, 241, 242, 243, 244, 245, 246, 247, 248, 249]\n----------------------------------------\nindex: 240: value: [[[[240.2  240.73 240.28 ... 240.69 240.85 240.71]\n   [240.5  240.88 240.4  ... 240.53 240.18 240.73]\n   [240.16 240.43 240.65 ... 240.93 240.5  240.59]\n   ...\n   [240.76 240.47 240.16 ... 240.25 240.75 240.17]\n   [240.75 240.72 240.93 ... 240.61 240.21 240.52]\n   [240.05 240.6  240.99 ... 240.26 240.28 240.41]]\n\n  [[240.01 240.57 240.21 ... 240.57 240.17 240.69]\n   [240.5  240.66 241.   ... 240.1  240.92 240.23]\n   [240.01 240.43 240.34 ... 240.81 240.51 240.12]\n   ...\n   [240.53 240.31 240.23 ... 240.76 240.85 240.42]\n   [240.99 240.32 240.72 ... 240.59 240.75 240.34]\n   [240.12 240.22 240.69 ... 240.91 240.75 240.26]]\n\n  [[240.81 240.42 240.62 ... 240.9  240.67 240.12]\n   [240.15 240.03 240.46 ... 240.18 240.01 240.2 ]\n   [240.97 240.47 240.39 ... 240.12 240.14 240.3 ]\n   ...\n   [240.22 240.01 240.44 ... 240.97 241.   240.77]\n   [240.79 240.38 240.01 ... 240.29 240.52 240.35]\n   [240.86 240.42 240.7  ... 240.09 240.23 240.4 ]]\n\n  ...\n\n  [[240.17 240.52 240.75 ... 240.91 240.91 240.28]\n   [240.42 240.53 240.86 ... 240.29 240.33 240.03]\n   [240.45 240.77 241.   ... 240.31 240.42 240.79]\n   ...\n   [240.57 240.56 240.95 ... 240.6  240.21 240.71]\n   [240.84 240.22 240.08 ... 240.15 240.01 240.47]\n   [240.01 240.57 240.57 ... 240.62 240.86 240.6 ]]\n\n  [[240.05 240.16 240.35 ... 240.14 240.34 240.14]\n   [240.02 240.63 240.61 ... 240.45 240.33 240.28]\n   [240.23 240.8  240.65 ... 240.84 240.81 240.14]\n   ...\n   [240.38 240.7  240.62 ... 240.97 240.47 240.62]\n   [240.75 240.11 240.49 ... 240.99 240.11 240.64]\n   [240.77 240.53 240.28 ... 240.76 240.9  240.47]]\n\n  [[240.58 240.47 240.67 ... 240.23 240.09 240.1 ]\n   [240.22 240.09 240.34 ... 240.07 240.23 240.56]\n   [240.27 240.46 240.25 ... 240.74 240.99 240.13]\n   ...\n   [240.87 240.22 240.57 ... 240.74 240.06 240.02]\n   [240.94 240.12 240.91 ... 240.79 240.56 240.93]\n   [240.55 240.84 240.47 ... 240.71 240.38 240.15]]]\n\n\n [[[240.39 240.28 240.78 ... 240.12 240.98 240.97]\n   [240.88 240.09 240.04 ... 240.35 240.86 240.37]\n   [240.9  240.06 240.7  ... 240.1  240.19 240.52]\n   ...\n   [240.46 240.78 240.18 ... 240.37 240.59 240.83]\n   [240.23 240.49 240.18 ... 240.03 240.34 240.86]\n   [240.64 241.   240.02 ... 240.57 240.69 240.59]]\n\n  [[240.94 240.99 241.   ... 240.68 240.2  240.29]\n   [240.54 241.   240.6  ... 240.33 240.44 240.21]\n   [240.36 240.96 240.8  ... 240.43 240.57 240.58]\n   ...\n   [240.66 240.38 240.07 ... 240.23 240.97 240.68]\n   [240.11 240.22 240.02 ... 240.98 240.92 240.05]\n   [240.15 240.41 240.53 ... 240.07 240.15 240.7 ]]\n\n  [[240.02 240.38 240.45 ... 240.19 240.03 240.79]\n   [240.51 240.33 240.25 ... 240.65 240.22 240.45]\n   [240.57 240.02 240.11 ... 240.85 240.31 240.12]\n   ...\n   [240.8  240.16 240.49 ... 240.85 240.71 240.01]\n   [240.51 240.3  240.56 ... 240.48 240.65 240.48]\n   [240.98 240.06 240.33 ... 240.21 240.22 240.69]]\n\n  ...\n\n  [[240.98 240.9  240.07 ... 240.31 240.02 240.95]\n   [240.36 240.84 240.4  ... 240.39 240.78 240.85]\n   [240.85 240.14 240.9  ... 240.98 240.01 240.14]\n   ...\n   [240.09 240.63 240.8  ... 240.08 240.4  240.07]\n   [240.88 240.98 240.29 ... 240.14 240.36 240.15]\n   [240.5  240.82 240.3  ... 240.39 240.21 240.31]]\n\n  [[240.14 240.12 240.37 ... 240.26 240.57 240.95]\n   [240.34 240.09 240.48 ... 240.03 240.42 240.91]\n   [240.57 240.88 240.17 ... 240.34 240.32 240.7 ]\n   ...\n   [240.53 240.35 240.6  ... 240.46 240.97 240.56]\n   [240.06 240.75 240.99 ... 240.78 240.64 240.01]\n   [240.72 240.81 240.02 ... 240.31 240.05 240.45]]\n\n  [[240.21 240.21 240.26 ... 240.74 240.74 240.6 ]\n   [240.49 240.29 240.21 ... 240.64 240.08 240.69]\n   [240.53 240.34 240.79 ... 240.58 240.82 240.22]\n   ...\n   [240.95 240.49 240.8  ... 240.39 240.04 240.34]\n   [240.12 240.16 240.44 ... 240.68 240.73 240.  ]\n   [240.67 240.25 240.98 ... 240.21 240.24 240.64]]]\n\n\n [[[240.18 240.42 240.38 ... 240.94 240.35 241.  ]\n   [240.68 240.93 240.7  ... 240.85 240.98 240.07]\n   [240.3  240.78 240.83 ... 240.12 240.06 240.4 ]\n   ...\n   [240.52 240.69 240.97 ... 240.55 240.46 240.41]\n   [240.18 240.83 240.6  ... 240.05 240.15 240.37]\n   [240.94 240.76 240.6  ... 240.12 240.15 240.32]]\n\n  [[240.1  240.75 240.   ... 240.73 240.69 240.57]\n   [240.57 240.65 240.3  ... 240.57 240.4  240.06]\n   [240.78 240.24 240.89 ... 240.34 240.04 240.24]\n   ...\n   [240.21 240.33 240.26 ... 240.45 240.58 240.82]\n   [240.64 240.33 240.07 ... 240.21 240.21 240.66]\n   [240.71 240.17 240.2  ... 240.96 240.68 240.55]]\n\n  [[240.89 240.29 240.85 ... 240.66 240.76 240.4 ]\n   [240.14 240.33 240.77 ... 240.12 240.53 240.45]\n   [240.38 240.01 240.16 ... 240.03 240.49 240.97]\n   ...\n   [240.48 240.99 240.32 ... 240.78 240.88 240.06]\n   [240.17 240.15 240.48 ... 240.68 240.28 240.04]\n   [240.46 240.74 240.28 ... 240.91 240.54 240.66]]\n\n  ...\n\n  [[240.47 240.78 240.12 ... 240.58 240.88 240.18]\n   [240.65 240.56 240.14 ... 240.73 240.91 240.14]\n   [240.71 240.25 240.81 ... 240.07 240.83 240.58]\n   ...\n   [240.56 240.94 240.11 ... 240.4  240.38 240.03]\n   [240.4  240.46 240.77 ... 240.62 240.28 240.04]\n   [240.71 240.94 240.46 ... 240.24 240.47 240.77]]\n\n  [[240.25 240.03 240.2  ... 240.13 240.07 240.27]\n   [240.21 240.28 240.37 ... 240.01 240.85 240.98]\n   [240.3  240.91 240.5  ... 240.71 240.97 240.9 ]\n   ...\n   [240.85 240.56 240.75 ... 240.92 240.4  240.7 ]\n   [240.54 240.23 240.17 ... 240.11 240.75 240.86]\n   [240.56 240.02 240.31 ... 240.76 240.48 240.89]]\n\n  [[240.77 240.74 240.47 ... 240.53 240.08 240.13]\n   [240.17 240.3  240.42 ... 240.27 240.01 240.49]\n   [240.38 240.01 240.53 ... 240.83 240.98 240.07]\n   ...\n   [240.29 240.92 240.4  ... 240.67 240.27 240.81]\n   [240.38 240.39 240.61 ... 240.67 240.19 240.9 ]\n   [240.75 240.98 240.01 ... 240.16 240.76 240.55]]]\n\n\n [[[240.68 240.09 240.91 ... 240.25 240.98 240.91]\n   [240.75 240.05 240.41 ... 240.25 240.97 240.95]\n   [240.94 240.27 240.27 ... 240.8  240.61 240.15]\n   ...\n   [240.42 240.91 240.46 ... 240.99 240.04 240.32]\n   [240.29 240.27 240.67 ... 240.7  240.16 240.62]\n   [240.04 240.79 240.3  ... 240.26 240.18 240.11]]\n\n  [[240.9  240.39 240.75 ... 240.75 240.64 240.06]\n   [240.37 240.81 240.54 ... 240.81 240.41 240.86]\n   [240.58 240.29 240.49 ... 240.03 240.7  240.07]\n   ...\n   [240.48 240.97 240.74 ... 240.2  240.31 240.24]\n   [240.47 240.63 240.88 ... 240.23 240.24 240.45]\n   [240.03 240.77 240.15 ... 240.25 240.94 240.33]]\n\n  [[240.39 240.55 240.84 ... 240.39 240.36 240.73]\n   [240.   240.95 240.76 ... 240.39 240.12 240.07]\n   [240.55 240.65 240.59 ... 240.23 240.97 240.5 ]\n   ...\n   [240.39 240.22 240.05 ... 240.28 240.13 240.1 ]\n   [240.63 240.91 240.79 ... 240.82 240.26 240.68]\n   [240.93 240.72 240.59 ... 240.92 240.5  240.98]]\n\n  ...\n\n  [[240.33 240.41 240.28 ... 240.79 240.31 240.49]\n   [240.32 240.17 240.08 ... 240.11 240.3  240.43]\n   [240.85 240.65 240.14 ... 240.1  240.01 240.84]\n   ...\n   [240.47 240.58 240.76 ... 240.69 240.86 240.46]\n   [240.78 240.85 240.87 ... 240.77 240.38 240.47]\n   [240.46 240.67 240.58 ... 240.61 240.43 240.2 ]]\n\n  [[240.7  240.91 240.11 ... 240.14 240.94 240.8 ]\n   [240.32 240.92 240.26 ... 240.13 240.09 240.06]\n   [240.58 240.29 240.03 ... 240.01 240.53 240.47]\n   ...\n   [240.21 240.65 240.25 ... 240.48 240.52 240.75]\n   [240.48 240.35 240.85 ... 240.16 240.72 240.26]\n   [240.93 240.83 240.42 ... 240.54 240.88 240.5 ]]\n\n  [[240.32 240.05 240.71 ... 240.74 240.1  240.25]\n   [240.92 240.79 240.86 ... 240.93 240.67 240.17]\n   [240.29 240.63 240.12 ... 240.76 240.52 240.67]\n   ...\n   [240.07 240.3  240.07 ... 240.24 240.88 240.23]\n   [240.39 240.38 240.97 ... 240.46 240.68 240.94]\n   [240.98 240.19 240.95 ... 240.5  240.91 240.44]]]]\nindex: 241: value: [[[[241.01 241.45 241.05 ... 241.25 241.56 241.39]\n   [241.72 241.47 241.27 ... 241.81 241.21 241.06]\n   [241.51 241.17 241.71 ... 241.04 241.58 241.46]\n   ...\n   [241.55 241.45 241.05 ... 241.8  241.19 241.6 ]\n   [241.44 241.56 241.09 ... 241.95 241.5  241.38]\n   [241.87 241.72 241.28 ... 241.98 241.14 241.82]]\n\n  [[241.23 241.99 241.96 ... 241.88 242.   241.87]\n   [241.22 241.51 241.88 ... 241.75 241.91 241.38]\n   [241.32 241.34 241.94 ... 241.48 241.13 241.52]\n   ...\n   [241.25 241.46 241.46 ... 241.06 241.4  241.91]\n   [241.47 241.07 241.5  ... 241.16 241.4  241.17]\n   [241.1  241.87 241.53 ... 241.88 241.52 241.49]]\n\n  [[241.89 241.07 241.9  ... 241.1  241.87 241.93]\n   [241.3  241.24 241.02 ... 241.   241.03 241.31]\n   [241.56 241.69 241.36 ... 241.82 241.95 241.75]\n   ...\n   [241.06 241.55 241.57 ... 241.01 241.17 241.46]\n   [241.56 241.33 241.28 ... 241.27 241.84 241.68]\n   [241.44 241.94 241.9  ... 241.53 241.81 242.  ]]\n\n  ...\n\n  [[241.61 241.98 241.12 ... 241.01 241.73 241.95]\n   [241.4  241.68 241.63 ... 241.07 241.38 241.2 ]\n   [241.02 241.41 241.62 ... 241.4  241.6  241.59]\n   ...\n   [241.86 241.76 241.33 ... 241.3  241.85 241.32]\n   [241.18 241.59 241.91 ... 241.9  241.42 241.66]\n   [241.22 241.04 241.74 ... 241.04 241.36 241.16]]\n\n  [[241.65 241.18 241.9  ... 241.48 241.51 241.96]\n   [241.31 241.52 241.64 ... 241.38 241.17 241.84]\n   [241.31 241.29 241.39 ... 241.53 241.43 241.35]\n   ...\n   [241.57 241.67 241.87 ... 241.15 241.68 241.93]\n   [241.25 241.87 241.88 ... 241.02 241.71 241.8 ]\n   [241.12 241.19 241.46 ... 241.39 241.54 241.19]]\n\n  [[241.66 241.57 241.57 ... 241.38 241.43 241.59]\n   [241.44 241.24 241.62 ... 241.69 241.41 241.92]\n   [241.78 241.52 241.21 ... 241.52 241.12 241.01]\n   ...\n   [241.25 241.26 241.7  ... 241.23 241.1  241.11]\n   [241.72 241.88 241.24 ... 241.17 241.25 241.38]\n   [241.13 241.71 241.36 ... 241.6  241.36 241.72]]]\n\n\n [[[241.47 241.71 241.35 ... 241.9  241.13 241.16]\n   [241.74 241.96 241.75 ... 241.56 241.61 241.26]\n   [241.9  241.36 241.1  ... 241.49 241.47 241.04]\n   ...\n   [241.33 241.57 241.43 ... 241.92 241.47 241.53]\n   [241.25 241.08 241.36 ... 241.35 241.45 241.76]\n   [241.68 241.19 241.67 ... 241.59 241.25 241.64]]\n\n  [[241.33 241.79 241.62 ... 241.06 241.11 241.2 ]\n   [241.39 241.96 241.55 ... 241.17 241.38 241.72]\n   [241.75 241.14 241.07 ... 241.82 241.38 241.53]\n   ...\n   [241.68 241.73 241.68 ... 241.04 241.93 241.82]\n   [241.55 241.29 241.03 ... 241.46 241.86 241.44]\n   [241.72 241.62 241.35 ... 241.83 241.17 241.22]]\n\n  [[241.65 241.33 241.67 ... 241.24 241.35 241.37]\n   [241.6  241.81 241.42 ... 241.77 241.99 241.25]\n   [241.2  241.78 241.32 ... 241.45 241.99 241.74]\n   ...\n   [241.81 241.67 241.24 ... 241.09 241.37 241.39]\n   [241.82 241.87 241.88 ... 241.45 241.83 241.66]\n   [241.34 241.84 241.11 ... 241.31 241.43 241.71]]\n\n  ...\n\n  [[241.73 241.68 241.29 ... 241.07 241.8  241.95]\n   [241.31 241.38 241.64 ... 241.8  241.5  241.15]\n   [241.84 241.01 241.7  ... 241.5  241.34 241.86]\n   ...\n   [241.14 241.71 241.08 ... 241.62 241.12 241.25]\n   [241.57 241.02 241.85 ... 241.33 241.71 241.73]\n   [241.84 241.98 241.85 ... 241.03 241.63 241.48]]\n\n  [[241.66 241.22 241.23 ... 241.02 241.08 241.17]\n   [241.8  241.01 241.27 ... 241.29 241.79 241.15]\n   [241.69 241.13 241.77 ... 241.66 241.1  241.57]\n   ...\n   [241.72 241.48 241.72 ... 241.98 241.96 241.82]\n   [241.41 241.99 241.46 ... 241.68 241.37 241.67]\n   [241.06 241.76 241.06 ... 241.53 241.91 241.54]]\n\n  [[241.31 241.73 241.46 ... 241.04 241.71 241.64]\n   [241.65 241.97 241.7  ... 241.82 241.65 241.65]\n   [241.84 241.61 241.07 ... 241.24 241.75 241.11]\n   ...\n   [241.09 241.94 241.78 ... 241.48 241.74 241.93]\n   [241.94 241.54 241.71 ... 241.52 241.78 241.02]\n   [241.46 241.94 241.81 ... 241.33 241.81 241.05]]]\n\n\n [[[241.87 241.53 241.02 ... 241.19 241.46 241.83]\n   [241.79 241.56 241.47 ... 241.1  241.31 241.95]\n   [241.71 241.35 241.29 ... 241.96 241.22 241.11]\n   ...\n   [241.91 241.64 241.85 ... 241.04 241.56 241.58]\n   [241.27 241.16 241.11 ... 241.59 241.92 241.27]\n   [241.6  241.63 241.71 ... 241.57 241.99 241.89]]\n\n  [[241.34 241.32 241.16 ... 241.86 241.03 241.3 ]\n   [241.4  241.98 241.81 ... 241.69 241.44 241.2 ]\n   [241.12 241.81 241.17 ... 241.91 241.4  241.61]\n   ...\n   [241.65 241.37 241.23 ... 241.77 241.29 241.81]\n   [241.42 241.32 242.   ... 241.18 241.55 241.1 ]\n   [241.06 241.65 241.1  ... 241.12 241.6  241.57]]\n\n  [[241.5  241.68 241.59 ... 241.63 241.48 241.56]\n   [241.71 241.56 241.4  ... 241.17 241.26 241.33]\n   [241.44 241.96 241.23 ... 241.51 241.95 241.54]\n   ...\n   [241.82 241.7  241.96 ... 241.73 241.23 241.84]\n   [241.79 241.91 241.23 ... 241.22 241.04 241.52]\n   [241.   241.03 241.6  ... 241.71 241.09 241.21]]\n\n  ...\n\n  [[241.01 241.36 241.48 ... 241.28 241.94 241.84]\n   [241.16 241.25 241.59 ... 241.57 241.34 241.48]\n   [241.37 241.27 241.73 ... 241.8  241.95 241.38]\n   ...\n   [241.55 241.63 241.41 ... 241.28 241.87 241.83]\n   [241.13 241.13 241.59 ... 241.43 241.12 241.3 ]\n   [241.78 241.3  241.58 ... 241.83 241.72 241.82]]\n\n  [[241.15 241.15 241.56 ... 241.74 241.43 241.05]\n   [241.99 241.4  241.22 ... 241.04 241.89 241.98]\n   [241.32 241.97 241.67 ... 241.43 241.78 241.31]\n   ...\n   [241.98 241.52 241.79 ... 241.11 241.58 241.94]\n   [241.16 241.1  241.28 ... 241.56 241.39 241.8 ]\n   [241.77 241.4  241.99 ... 241.95 241.37 241.9 ]]\n\n  [[241.58 241.76 241.96 ... 241.13 241.67 241.42]\n   [241.17 241.84 241.61 ... 241.3  241.16 241.22]\n   [241.3  241.35 241.84 ... 241.38 241.53 241.1 ]\n   ...\n   [241.69 241.61 241.03 ... 241.56 241.17 241.3 ]\n   [241.01 241.61 241.64 ... 241.57 241.72 241.31]\n   [241.3  241.8  241.51 ... 241.02 241.3  241.74]]]\n\n\n [[[241.62 241.71 241.35 ... 241.95 241.54 241.13]\n   [241.52 241.7  241.41 ... 241.82 241.07 241.13]\n   [241.77 241.42 241.03 ... 241.4  241.02 241.62]\n   ...\n   [241.8  241.4  241.37 ... 241.43 241.39 241.58]\n   [241.44 241.73 241.34 ... 241.53 241.19 241.68]\n   [241.95 241.15 241.56 ... 241.45 241.85 241.47]]\n\n  [[241.95 241.73 241.32 ... 241.79 241.95 241.1 ]\n   [241.22 241.82 241.75 ... 241.19 241.48 241.93]\n   [241.48 241.04 241.34 ... 241.14 241.9  241.27]\n   ...\n   [241.16 241.15 241.96 ... 241.74 241.19 241.73]\n   [241.1  241.89 241.63 ... 241.41 241.12 241.49]\n   [241.51 241.2  241.7  ... 241.81 241.95 241.77]]\n\n  [[241.26 241.25 241.3  ... 241.35 241.22 241.31]\n   [241.63 241.49 241.66 ... 241.37 241.21 241.72]\n   [241.19 241.59 241.42 ... 241.25 241.12 241.84]\n   ...\n   [241.22 241.62 241.94 ... 241.58 241.73 241.69]\n   [241.18 241.69 241.72 ... 241.25 241.94 241.1 ]\n   [241.74 241.37 241.77 ... 241.26 241.82 241.96]]\n\n  ...\n\n  [[241.79 241.46 241.04 ... 241.3  241.77 241.38]\n   [241.42 241.9  241.84 ... 241.15 241.63 241.59]\n   [241.43 241.05 241.02 ... 241.06 241.64 241.39]\n   ...\n   [241.3  241.45 241.07 ... 241.35 241.06 241.2 ]\n   [241.58 241.93 241.1  ... 241.65 241.94 241.46]\n   [241.78 241.09 241.1  ... 241.04 241.96 241.44]]\n\n  [[241.03 241.94 241.5  ... 241.03 241.49 241.65]\n   [241.37 241.02 241.75 ... 241.01 241.16 241.62]\n   [241.8  241.81 241.37 ... 241.8  241.95 241.57]\n   ...\n   [241.99 241.3  241.32 ... 241.98 241.59 241.6 ]\n   [241.66 241.5  241.76 ... 241.87 241.32 241.73]\n   [242.   241.08 241.59 ... 241.47 241.78 241.3 ]]\n\n  [[241.68 241.66 241.07 ... 241.81 241.45 241.85]\n   [241.15 241.61 241.88 ... 241.18 241.27 241.28]\n   [241.16 241.12 241.88 ... 241.4  241.6  241.28]\n   ...\n   [241.57 241.07 241.34 ... 241.63 241.45 241.69]\n   [241.95 241.22 241.35 ... 241.29 241.97 241.96]\n   [241.09 241.33 241.3  ... 241.04 241.86 241.08]]]]\nindex: 242: value: [[[[242.71 242.19 242.7  ... 242.85 242.87 242.87]\n   [242.2  242.73 242.65 ... 242.89 242.32 242.8 ]\n   [242.45 242.96 242.84 ... 242.96 242.03 242.19]\n   ...\n   [242.61 242.13 242.2  ... 242.59 242.78 242.98]\n   [242.35 242.4  242.98 ... 242.14 242.66 242.18]\n   [242.21 242.52 242.53 ... 242.39 242.78 242.57]]\n\n  [[242.45 242.53 242.04 ... 242.44 242.81 242.95]\n   [242.73 242.42 242.99 ... 242.9  242.36 242.16]\n   [242.95 242.66 242.01 ... 242.24 242.36 242.57]\n   ...\n   [242.11 242.93 242.91 ... 242.81 242.16 242.55]\n   [242.29 242.31 242.53 ... 242.07 242.76 242.57]\n   [242.68 242.53 242.22 ... 242.66 242.76 242.9 ]]\n\n  [[242.94 242.21 242.47 ... 242.24 242.95 242.16]\n   [242.22 242.52 242.56 ... 242.22 242.12 242.22]\n   [242.12 242.86 242.09 ... 242.72 242.21 242.34]\n   ...\n   [242.99 242.96 242.9  ... 242.14 242.48 242.55]\n   [242.1  242.97 242.89 ... 242.39 242.68 242.95]\n   [242.88 242.47 242.39 ... 242.39 242.55 242.74]]\n\n  ...\n\n  [[242.52 242.23 242.06 ... 242.29 242.27 242.88]\n   [242.6  242.8  242.86 ... 242.39 242.26 242.12]\n   [242.91 242.15 242.51 ... 242.64 242.84 242.13]\n   ...\n   [242.88 242.15 242.2  ... 242.19 242.25 242.74]\n   [242.   242.35 242.61 ... 242.34 242.56 242.51]\n   [242.11 242.15 242.35 ... 242.75 242.19 242.28]]\n\n  [[242.31 242.75 242.56 ... 242.9  242.04 242.06]\n   [242.54 242.94 242.44 ... 242.16 242.09 242.09]\n   [242.34 242.5  242.16 ... 242.29 242.13 242.77]\n   ...\n   [242.57 242.21 242.92 ... 242.74 242.24 242.07]\n   [242.86 242.19 242.96 ... 242.69 242.06 242.35]\n   [242.43 242.07 242.69 ... 242.41 242.44 242.74]]\n\n  [[242.01 242.65 242.02 ... 242.35 242.91 242.49]\n   [242.71 242.2  242.52 ... 242.67 242.92 242.27]\n   [242.25 242.69 242.12 ... 242.78 242.1  242.65]\n   ...\n   [242.01 242.42 242.01 ... 242.38 242.36 242.12]\n   [242.8  242.3  242.12 ... 242.51 242.01 242.12]\n   [242.15 242.34 242.96 ... 242.64 242.34 242.48]]]\n\n\n [[[242.89 242.27 242.23 ... 242.21 242.42 242.29]\n   [242.95 242.47 242.71 ... 242.92 242.88 242.95]\n   [242.57 242.26 242.43 ... 242.57 242.09 242.19]\n   ...\n   [242.87 242.03 242.81 ... 242.36 242.61 242.13]\n   [242.22 242.65 242.8  ... 242.14 242.02 242.85]\n   [242.25 242.89 242.94 ... 242.12 242.12 242.48]]\n\n  [[242.12 242.43 242.33 ... 242.82 242.88 242.12]\n   [242.21 242.17 242.28 ... 242.42 242.23 242.26]\n   [242.46 242.36 242.22 ... 242.58 242.52 242.  ]\n   ...\n   [242.4  242.7  242.92 ... 242.66 242.73 242.24]\n   [242.49 242.71 242.72 ... 242.92 242.59 242.84]\n   [242.41 242.45 242.1  ... 242.36 242.79 242.35]]\n\n  [[242.31 242.61 242.6  ... 242.4  242.35 242.76]\n   [242.75 242.55 242.57 ... 242.94 242.96 242.19]\n   [242.44 242.93 242.2  ... 242.16 242.97 242.64]\n   ...\n   [242.53 242.03 242.19 ... 242.7  242.87 242.16]\n   [242.22 242.06 242.61 ... 242.12 242.38 242.59]\n   [242.86 242.48 242.8  ... 242.81 242.04 242.15]]\n\n  ...\n\n  [[242.55 242.33 242.46 ... 242.54 242.76 242.14]\n   [242.68 242.12 242.24 ... 242.06 242.07 242.22]\n   [242.07 242.08 242.94 ... 242.19 242.64 242.94]\n   ...\n   [242.55 242.88 242.23 ... 242.07 242.21 242.93]\n   [242.32 242.22 242.67 ... 242.99 242.83 242.29]\n   [242.41 242.29 242.39 ... 242.21 242.3  242.74]]\n\n  [[242.77 242.09 242.47 ... 242.88 242.63 242.34]\n   [242.15 242.05 242.99 ... 242.24 242.65 242.32]\n   [242.48 242.58 242.22 ... 242.69 242.85 242.68]\n   ...\n   [242.22 242.75 242.76 ... 242.63 242.33 242.79]\n   [242.6  242.76 242.92 ... 242.71 242.08 242.7 ]\n   [242.75 242.93 242.55 ... 242.64 242.85 242.87]]\n\n  [[242.95 242.29 242.89 ... 242.58 242.59 242.9 ]\n   [242.13 242.26 242.94 ... 242.17 242.8  242.73]\n   [242.41 242.61 242.69 ... 242.35 242.15 242.32]\n   ...\n   [242.88 242.99 242.81 ... 242.26 242.41 242.51]\n   [242.77 242.35 242.09 ... 242.1  242.36 242.5 ]\n   [242.42 242.72 242.59 ... 242.28 242.54 242.08]]]\n\n\n [[[242.71 242.84 242.29 ... 242.22 242.89 242.47]\n   [242.03 242.89 242.9  ... 242.15 242.03 242.22]\n   [242.08 242.47 242.56 ... 242.05 242.45 242.86]\n   ...\n   [242.14 242.87 242.93 ... 242.56 242.59 242.95]\n   [242.66 242.09 242.04 ... 242.11 242.07 242.7 ]\n   [242.15 242.14 242.84 ... 242.84 242.96 242.63]]\n\n  [[242.07 242.22 242.66 ... 242.32 242.86 242.04]\n   [242.91 242.96 242.09 ... 242.99 242.99 242.87]\n   [242.51 242.92 242.31 ... 242.6  242.74 242.12]\n   ...\n   [242.38 242.42 242.04 ... 242.14 242.43 242.14]\n   [242.78 242.72 242.46 ... 242.28 242.83 242.13]\n   [242.79 242.06 242.25 ... 242.98 242.45 242.91]]\n\n  [[242.48 242.85 242.2  ... 242.16 242.91 242.09]\n   [242.44 242.02 242.3  ... 242.99 242.02 242.47]\n   [242.83 242.9  242.04 ... 242.72 242.69 242.35]\n   ...\n   [242.12 242.57 242.29 ... 242.98 242.41 242.62]\n   [242.8  242.57 242.89 ... 242.01 242.65 242.82]\n   [242.6  242.71 242.96 ... 242.21 242.58 242.67]]\n\n  ...\n\n  [[242.97 242.5  242.84 ... 242.63 242.86 242.25]\n   [242.11 242.19 242.58 ... 242.35 242.64 242.74]\n   [242.26 242.14 242.33 ... 242.04 242.46 242.9 ]\n   ...\n   [242.88 242.58 242.49 ... 242.44 242.03 242.2 ]\n   [242.66 242.16 242.68 ... 242.39 242.96 242.92]\n   [242.17 242.85 242.19 ... 242.19 242.33 242.78]]\n\n  [[242.43 242.9  242.47 ... 242.2  242.69 242.95]\n   [242.21 242.53 242.35 ... 242.63 242.53 242.32]\n   [242.8  242.83 242.58 ... 242.42 242.66 242.68]\n   ...\n   [242.94 242.38 242.75 ... 242.9  242.52 242.22]\n   [242.28 242.17 242.87 ... 242.7  242.11 242.75]\n   [242.69 242.79 242.68 ... 242.43 242.12 242.55]]\n\n  [[242.6  242.74 242.33 ... 242.47 242.37 242.49]\n   [243.   242.   242.64 ... 242.58 242.94 242.71]\n   [242.51 242.91 242.85 ... 242.32 242.01 242.91]\n   ...\n   [242.59 242.72 242.06 ... 242.56 242.84 242.01]\n   [242.43 242.18 242.73 ... 242.54 242.2  242.15]\n   [242.91 242.04 242.71 ... 242.53 242.35 242.08]]]\n\n\n [[[242.9  242.48 242.84 ... 242.31 242.86 242.48]\n   [242.82 242.41 242.92 ... 242.6  242.34 242.73]\n   [242.04 242.45 242.91 ... 242.9  242.47 242.89]\n   ...\n   [242.   242.06 242.19 ... 242.7  242.5  242.29]\n   [242.76 242.9  242.15 ... 242.22 242.67 242.97]\n   [242.75 242.61 242.12 ... 242.11 242.62 242.37]]\n\n  [[242.64 242.35 242.7  ... 242.59 242.76 242.31]\n   [242.34 242.25 242.53 ... 242.71 242.32 242.55]\n   [242.69 242.59 242.64 ... 242.88 242.84 242.41]\n   ...\n   [242.35 242.62 242.69 ... 242.82 242.66 242.06]\n   [242.43 242.39 242.98 ... 242.69 242.48 242.5 ]\n   [242.64 242.08 242.69 ... 242.1  242.17 242.07]]\n\n  [[242.93 242.36 242.19 ... 242.2  242.06 242.65]\n   [242.23 242.03 242.79 ... 242.13 242.28 242.98]\n   [242.36 242.22 242.96 ... 242.25 242.75 242.56]\n   ...\n   [242.48 242.47 242.12 ... 242.27 242.18 242.19]\n   [242.31 242.68 242.96 ... 242.58 242.21 242.85]\n   [242.41 242.51 242.91 ... 242.02 242.58 242.99]]\n\n  ...\n\n  [[242.3  242.13 242.43 ... 242.73 242.74 242.12]\n   [242.19 242.1  242.66 ... 242.56 242.6  242.15]\n   [242.52 242.73 242.24 ... 242.02 242.01 242.51]\n   ...\n   [242.41 242.87 242.59 ... 242.9  242.95 242.63]\n   [242.17 242.31 242.26 ... 242.26 242.27 242.71]\n   [242.91 242.08 242.39 ... 242.7  242.8  242.65]]\n\n  [[242.89 242.81 242.98 ... 242.91 242.4  242.49]\n   [242.26 242.1  242.53 ... 242.05 242.6  242.51]\n   [242.23 242.61 242.42 ... 242.09 242.14 242.46]\n   ...\n   [242.34 242.87 242.95 ... 242.04 242.25 242.53]\n   [242.87 242.43 242.98 ... 242.84 242.9  242.24]\n   [242.63 242.59 242.94 ... 242.86 242.91 242.43]]\n\n  [[242.99 242.78 242.65 ... 242.12 242.99 242.77]\n   [242.39 242.8  242.41 ... 242.73 242.26 242.91]\n   [242.07 242.32 242.29 ... 242.54 242.25 242.41]\n   ...\n   [242.59 242.8  242.85 ... 242.76 242.52 242.37]\n   [242.42 242.49 242.38 ... 242.14 242.33 242.13]\n   [242.02 242.87 242.91 ... 242.37 242.81 242.59]]]]\nindex: 243: value: [[[[243.76 243.88 243.35 ... 243.38 243.49 243.08]\n   [243.04 243.94 243.87 ... 243.64 243.44 243.67]\n   [243.57 243.43 243.19 ... 243.89 243.72 243.43]\n   ...\n   [243.21 243.02 243.61 ... 243.78 243.13 243.71]\n   [243.81 243.05 243.27 ... 243.28 243.67 243.65]\n   [243.87 243.93 243.9  ... 243.36 243.88 243.63]]\n\n  [[243.32 243.98 243.51 ... 243.37 243.33 243.91]\n   [243.61 243.27 243.24 ... 243.03 243.11 243.66]\n   [243.65 243.44 243.12 ... 243.74 243.49 243.1 ]\n   ...\n   [243.66 243.42 243.17 ... 243.27 243.44 243.02]\n   [243.05 243.9  243.78 ... 243.48 243.73 243.38]\n   [243.74 243.3  243.49 ... 243.94 243.63 243.06]]\n\n  [[243.45 243.97 243.44 ... 243.48 243.18 243.59]\n   [243.88 243.08 243.43 ... 243.09 243.66 243.25]\n   [243.08 243.14 243.44 ... 243.73 243.56 243.04]\n   ...\n   [243.12 243.55 243.28 ... 243.02 243.2  243.43]\n   [243.41 243.21 243.01 ... 243.86 243.05 243.68]\n   [243.47 243.17 243.4  ... 243.51 243.64 243.17]]\n\n  ...\n\n  [[243.79 243.17 243.08 ... 243.8  243.66 243.8 ]\n   [243.11 243.5  243.02 ... 243.39 243.58 243.01]\n   [243.93 243.23 243.75 ... 243.35 243.63 243.88]\n   ...\n   [243.11 243.84 243.95 ... 243.8  243.34 243.36]\n   [243.48 243.51 243.4  ... 243.22 243.36 243.82]\n   [243.63 243.86 243.26 ... 243.37 243.73 243.98]]\n\n  [[243.18 243.95 243.12 ... 243.93 243.43 243.72]\n   [243.41 243.47 243.52 ... 243.83 243.23 243.74]\n   [243.39 243.54 243.75 ... 243.02 243.59 243.73]\n   ...\n   [243.93 243.87 243.56 ... 243.1  243.58 243.01]\n   [243.21 243.9  243.25 ... 243.24 243.8  243.85]\n   [243.15 243.7  243.76 ... 243.39 243.41 243.61]]\n\n  [[243.9  243.54 243.13 ... 243.05 243.22 243.94]\n   [243.06 243.37 243.44 ... 243.16 244.   243.06]\n   [243.35 243.27 243.57 ... 243.02 243.36 243.15]\n   ...\n   [243.55 243.3  243.79 ... 243.07 243.4  243.38]\n   [243.21 243.08 243.78 ... 243.64 243.33 243.46]\n   [243.49 243.97 243.04 ... 243.22 243.61 243.77]]]\n\n\n [[[243.33 243.97 243.9  ... 243.88 243.94 243.98]\n   [243.88 243.18 243.62 ... 243.97 243.53 243.81]\n   [243.42 243.37 243.7  ... 243.8  243.55 243.81]\n   ...\n   [243.99 243.41 243.35 ... 243.64 243.27 243.06]\n   [243.44 243.04 243.57 ... 243.09 243.78 243.67]\n   [243.01 243.84 243.3  ... 243.77 243.76 243.55]]\n\n  [[243.47 243.1  243.1  ... 243.05 243.   243.44]\n   [243.71 243.29 243.04 ... 243.88 243.62 243.55]\n   [243.29 243.64 243.01 ... 243.08 243.58 243.33]\n   ...\n   [243.96 243.05 243.91 ... 243.64 243.84 243.97]\n   [243.88 243.39 243.33 ... 243.53 243.45 243.73]\n   [243.28 243.81 243.2  ... 243.5  243.75 243.38]]\n\n  [[243.06 243.91 243.84 ... 243.69 243.16 243.15]\n   [243.94 243.54 243.31 ... 243.65 243.16 243.78]\n   [243.07 243.88 243.54 ... 243.01 243.69 243.46]\n   ...\n   [243.12 243.68 243.22 ... 243.93 243.11 243.95]\n   [243.79 243.25 243.72 ... 243.75 243.42 243.71]\n   [243.59 243.48 243.78 ... 243.25 243.3  243.82]]\n\n  ...\n\n  [[243.96 243.07 243.87 ... 243.24 243.77 243.85]\n   [243.75 243.74 243.86 ... 243.03 243.55 244.  ]\n   [243.02 243.41 243.17 ... 243.16 243.23 243.9 ]\n   ...\n   [243.76 243.93 243.85 ... 243.27 243.37 243.03]\n   [243.92 243.23 243.73 ... 243.94 243.11 243.23]\n   [243.96 243.35 243.54 ... 243.49 243.14 243.89]]\n\n  [[243.67 243.96 243.15 ... 243.09 243.16 243.23]\n   [243.51 244.   243.85 ... 243.43 243.15 243.56]\n   [243.71 243.5  243.71 ... 243.96 243.46 243.93]\n   ...\n   [243.61 243.2  243.41 ... 243.05 243.21 243.09]\n   [243.5  243.81 243.07 ... 243.9  243.86 243.82]\n   [243.32 243.23 243.07 ... 243.88 243.01 243.66]]\n\n  [[243.94 243.14 244.   ... 243.09 243.57 243.57]\n   [243.57 243.55 243.8  ... 243.07 243.88 243.48]\n   [243.55 243.67 243.08 ... 243.08 243.65 243.84]\n   ...\n   [243.47 243.17 243.42 ... 243.97 243.54 243.39]\n   [243.93 243.29 243.48 ... 243.76 243.02 243.01]\n   [243.15 243.22 243.22 ... 243.5  243.35 243.06]]]\n\n\n [[[243.73 243.33 243.21 ... 243.9  243.13 243.35]\n   [243.32 243.21 243.6  ... 243.64 243.19 243.64]\n   [243.77 243.17 243.26 ... 243.67 243.34 243.9 ]\n   ...\n   [243.3  243.59 243.31 ... 243.13 243.7  243.78]\n   [243.57 243.31 243.71 ... 243.28 243.73 243.73]\n   [243.79 243.4  243.64 ... 243.53 243.34 243.19]]\n\n  [[243.79 243.81 243.07 ... 243.88 243.05 243.71]\n   [243.09 243.26 243.39 ... 243.37 243.74 243.16]\n   [243.99 243.58 243.17 ... 243.86 243.67 243.6 ]\n   ...\n   [243.64 243.93 243.59 ... 243.82 243.22 243.08]\n   [243.17 243.95 243.54 ... 243.72 243.86 243.08]\n   [243.97 243.23 243.49 ... 243.   243.77 243.84]]\n\n  [[243.36 243.09 243.11 ... 243.95 243.18 243.64]\n   [243.07 243.57 243.2  ... 243.54 243.66 243.21]\n   [243.81 243.03 243.77 ... 243.23 243.26 243.93]\n   ...\n   [243.19 243.69 243.78 ... 243.21 243.87 243.21]\n   [243.45 243.33 243.52 ... 243.07 243.34 243.14]\n   [243.48 243.02 243.07 ... 243.47 243.97 243.34]]\n\n  ...\n\n  [[243.43 243.63 243.79 ... 243.81 243.82 243.38]\n   [243.19 243.73 243.07 ... 243.81 243.99 243.18]\n   [243.99 243.87 243.14 ... 243.26 243.88 243.04]\n   ...\n   [243.53 243.48 243.67 ... 243.39 243.8  243.77]\n   [243.21 243.38 243.66 ... 243.19 243.02 243.54]\n   [243.47 243.29 243.82 ... 243.81 243.63 243.86]]\n\n  [[243.83 243.25 243.15 ... 243.34 243.66 243.07]\n   [243.52 243.98 243.22 ... 243.01 243.24 243.85]\n   [243.17 243.34 243.32 ... 243.38 243.14 243.39]\n   ...\n   [243.   243.85 243.57 ... 243.14 243.72 243.35]\n   [243.96 243.5  243.61 ... 243.19 243.61 243.24]\n   [243.79 243.58 243.11 ... 243.48 243.22 243.44]]\n\n  [[243.71 243.37 243.83 ... 243.76 243.59 243.01]\n   [243.6  243.95 243.63 ... 243.3  243.62 243.5 ]\n   [243.02 243.41 243.57 ... 243.74 243.96 243.3 ]\n   ...\n   [243.34 243.82 243.12 ... 243.17 243.63 243.5 ]\n   [243.19 243.91 243.79 ... 243.01 243.15 243.05]\n   [243.64 243.18 243.6  ... 243.2  243.36 243.93]]]\n\n\n [[[243.8  243.91 243.35 ... 243.87 243.04 243.84]\n   [243.81 243.22 243.17 ... 243.18 243.34 243.44]\n   [243.38 243.48 243.73 ... 243.49 243.95 243.16]\n   ...\n   [243.13 243.26 243.8  ... 243.69 243.05 243.08]\n   [243.27 243.08 243.9  ... 243.59 243.54 243.06]\n   [243.16 243.03 243.62 ... 243.24 243.71 243.39]]\n\n  [[243.68 243.9  243.2  ... 243.82 243.49 243.08]\n   [243.12 243.51 243.77 ... 243.94 243.19 243.49]\n   [243.52 243.79 243.36 ... 243.43 243.49 243.58]\n   ...\n   [243.92 243.44 243.1  ... 243.45 243.06 243.15]\n   [243.58 243.3  243.56 ... 243.27 243.68 243.05]\n   [243.21 243.99 243.76 ... 243.33 243.15 243.57]]\n\n  [[243.38 244.   243.46 ... 243.35 243.48 243.74]\n   [243.31 243.92 243.83 ... 243.85 243.43 243.24]\n   [243.91 243.7  243.23 ... 243.72 243.97 243.31]\n   ...\n   [243.91 243.78 243.73 ... 243.47 243.52 243.76]\n   [243.16 243.7  243.66 ... 243.67 243.8  243.28]\n   [243.32 243.24 243.12 ... 243.41 243.55 243.1 ]]\n\n  ...\n\n  [[243.87 243.26 243.07 ... 243.19 243.24 243.78]\n   [243.41 243.77 243.67 ... 243.88 243.84 243.25]\n   [243.57 243.65 243.5  ... 243.83 243.96 243.51]\n   ...\n   [243.1  243.51 243.04 ... 243.32 243.82 243.29]\n   [243.43 243.46 243.64 ... 243.15 243.28 243.46]\n   [243.14 243.4  243.11 ... 243.5  243.14 243.11]]\n\n  [[243.31 243.57 243.33 ... 243.93 243.36 243.27]\n   [243.69 243.46 243.97 ... 243.4  243.17 243.41]\n   [243.18 243.42 243.49 ... 243.31 243.83 243.52]\n   ...\n   [243.91 243.96 243.49 ... 243.23 243.89 243.8 ]\n   [243.35 243.38 243.41 ... 243.05 243.75 243.14]\n   [243.67 243.32 243.26 ... 243.65 243.67 243.71]]\n\n  [[243.89 243.71 243.24 ... 243.82 243.78 243.75]\n   [243.04 243.29 243.74 ... 243.81 243.5  243.2 ]\n   [243.72 243.72 243.37 ... 243.59 243.5  243.88]\n   ...\n   [243.12 243.86 243.59 ... 243.79 243.13 243.14]\n   [243.23 243.81 243.03 ... 243.16 243.47 243.24]\n   [243.33 243.36 243.06 ... 243.74 243.65 243.91]]]]\nindex: 244: value: [[[[244.45 244.73 244.18 ... 244.01 244.65 244.7 ]\n   [244.82 244.29 244.28 ... 244.15 244.83 244.6 ]\n   [244.23 244.04 244.59 ... 244.9  244.47 244.69]\n   ...\n   [244.98 244.52 244.43 ... 244.24 244.85 244.54]\n   [244.51 244.48 244.14 ... 244.58 244.01 244.52]\n   [244.93 244.66 244.67 ... 244.19 244.76 244.44]]\n\n  [[244.64 244.83 244.06 ... 244.13 244.09 244.46]\n   [244.21 244.01 244.34 ... 244.18 244.28 244.  ]\n   [244.95 244.47 244.2  ... 244.13 244.96 244.32]\n   ...\n   [244.21 244.38 244.1  ... 244.12 244.95 244.98]\n   [244.24 244.26 244.27 ... 244.38 244.69 244.28]\n   [244.26 244.16 244.69 ... 244.7  244.19 244.05]]\n\n  [[244.5  244.5  244.42 ... 244.4  244.67 244.93]\n   [245.   244.32 244.87 ... 244.12 244.6  244.34]\n   [244.48 244.8  244.72 ... 244.31 244.83 244.85]\n   ...\n   [244.06 244.94 244.18 ... 244.66 244.61 244.78]\n   [244.3  244.77 244.17 ... 244.35 244.23 244.74]\n   [244.64 244.56 244.79 ... 244.48 244.45 244.92]]\n\n  ...\n\n  [[244.65 244.6  244.64 ... 244.78 244.82 244.4 ]\n   [244.97 244.67 244.4  ... 244.05 244.09 244.97]\n   [244.78 244.11 244.02 ... 244.67 244.46 244.15]\n   ...\n   [244.88 244.38 244.01 ... 244.89 244.98 244.15]\n   [244.6  244.81 244.69 ... 244.33 244.78 244.89]\n   [244.41 244.91 244.44 ... 244.2  244.31 244.98]]\n\n  [[244.62 244.87 244.71 ... 244.74 244.11 244.52]\n   [244.07 244.38 244.18 ... 244.31 244.05 244.9 ]\n   [244.47 244.68 244.89 ... 244.74 244.66 244.74]\n   ...\n   [244.08 244.85 244.58 ... 244.77 244.94 244.04]\n   [244.47 244.62 244.75 ... 244.22 244.34 244.36]\n   [244.99 244.16 244.56 ... 244.2  244.35 244.45]]\n\n  [[244.91 244.3  244.25 ... 244.78 244.41 244.18]\n   [244.17 244.3  244.07 ... 244.24 244.74 244.09]\n   [244.83 244.38 244.48 ... 244.44 244.71 244.82]\n   ...\n   [244.96 244.13 244.33 ... 244.32 244.9  244.45]\n   [244.18 244.89 244.3  ... 244.71 244.9  244.43]\n   [244.11 244.35 244.75 ... 244.39 244.42 244.69]]]\n\n\n [[[244.1  244.8  244.51 ... 244.13 244.87 244.92]\n   [244.45 244.94 244.45 ... 244.65 244.11 244.48]\n   [244.15 244.29 244.66 ... 244.01 244.15 244.72]\n   ...\n   [244.64 244.8  244.2  ... 244.93 244.24 244.37]\n   [244.16 244.71 244.99 ... 244.19 244.07 244.22]\n   [244.72 244.76 244.9  ... 244.44 244.64 244.95]]\n\n  [[244.   244.52 244.98 ... 244.66 244.48 244.61]\n   [244.51 244.48 244.75 ... 244.35 244.99 244.79]\n   [244.68 244.14 244.88 ... 244.01 244.51 244.21]\n   ...\n   [244.57 244.33 244.08 ... 244.14 244.19 244.89]\n   [244.11 244.01 244.17 ... 244.9  244.05 244.13]\n   [244.69 244.03 244.49 ... 244.3  244.16 244.99]]\n\n  [[244.2  244.32 244.23 ... 244.91 244.22 244.81]\n   [244.53 244.78 244.78 ... 244.72 244.08 244.32]\n   [244.48 244.66 244.06 ... 244.51 244.02 244.91]\n   ...\n   [244.43 244.07 244.38 ... 244.36 244.94 244.51]\n   [244.11 244.23 244.1  ... 244.7  244.63 244.01]\n   [244.83 244.31 244.75 ... 244.75 244.79 244.31]]\n\n  ...\n\n  [[244.52 244.69 244.43 ... 244.02 244.13 244.22]\n   [244.33 244.13 244.97 ... 244.65 244.83 244.05]\n   [244.23 244.03 244.76 ... 244.8  244.14 244.16]\n   ...\n   [244.08 244.61 244.81 ... 244.28 244.92 244.54]\n   [244.14 244.99 244.64 ... 244.64 244.39 244.76]\n   [244.36 244.84 244.95 ... 244.77 244.91 244.01]]\n\n  [[244.6  244.55 244.52 ... 244.58 244.97 244.37]\n   [244.76 244.13 244.15 ... 244.06 244.96 244.59]\n   [244.56 244.59 244.26 ... 244.16 244.96 244.56]\n   ...\n   [244.73 244.23 244.87 ... 244.98 244.11 244.16]\n   [244.32 244.3  244.17 ... 244.56 244.67 244.07]\n   [244.23 244.7  244.4  ... 244.34 244.91 244.41]]\n\n  [[244.46 244.98 244.98 ... 244.82 244.94 244.97]\n   [244.03 244.9  244.09 ... 244.44 244.11 244.36]\n   [244.49 244.57 244.66 ... 244.41 244.21 244.11]\n   ...\n   [244.04 244.69 244.27 ... 244.53 244.11 244.56]\n   [244.3  244.99 244.63 ... 244.68 244.11 244.54]\n   [244.29 244.29 244.28 ... 244.44 244.38 244.83]]]\n\n\n [[[244.8  244.31 244.74 ... 244.84 244.54 244.62]\n   [244.67 244.93 244.8  ... 244.   244.64 244.06]\n   [244.37 244.46 244.06 ... 244.21 244.92 244.32]\n   ...\n   [244.39 244.96 244.88 ... 244.28 244.69 244.96]\n   [244.48 244.26 244.43 ... 244.87 244.6  244.05]\n   [244.57 244.36 244.99 ... 244.45 244.02 244.43]]\n\n  [[244.15 244.73 244.1  ... 244.03 244.94 244.78]\n   [244.61 244.87 244.66 ... 244.64 244.07 244.07]\n   [244.61 244.51 244.17 ... 244.16 244.63 244.02]\n   ...\n   [244.65 244.94 244.52 ... 244.47 244.55 244.31]\n   [244.68 244.19 244.06 ... 244.54 244.83 244.1 ]\n   [244.96 244.74 244.77 ... 244.83 244.71 244.62]]\n\n  [[244.1  244.93 244.35 ... 244.08 244.54 244.29]\n   [244.09 244.   244.55 ... 244.3  244.36 244.16]\n   [244.56 244.77 244.07 ... 244.81 244.44 244.03]\n   ...\n   [244.06 244.23 244.36 ... 244.58 244.01 244.12]\n   [244.44 244.92 244.87 ... 244.43 244.24 244.96]\n   [244.35 244.06 244.32 ... 244.04 244.42 244.  ]]\n\n  ...\n\n  [[244.58 244.74 244.25 ... 244.21 244.35 244.32]\n   [244.69 244.69 244.62 ... 244.05 244.53 244.57]\n   [244.46 244.49 244.51 ... 244.51 244.02 244.18]\n   ...\n   [244.38 244.07 244.57 ... 244.66 244.64 244.61]\n   [244.09 244.05 244.52 ... 244.44 244.96 244.22]\n   [244.1  244.76 244.85 ... 244.88 244.25 244.24]]\n\n  [[244.11 244.78 244.43 ... 244.5  244.15 244.82]\n   [244.96 244.18 244.48 ... 244.1  244.8  244.33]\n   [244.27 244.   244.37 ... 244.66 244.42 244.7 ]\n   ...\n   [244.9  244.26 244.91 ... 244.51 244.38 244.25]\n   [244.43 244.96 244.33 ... 244.26 244.61 244.58]\n   [244.44 244.03 244.27 ... 244.03 244.03 244.94]]\n\n  [[244.7  244.77 244.23 ... 244.11 244.45 244.8 ]\n   [244.65 244.62 244.65 ... 244.21 244.98 244.9 ]\n   [244.01 244.63 244.99 ... 244.69 244.5  244.73]\n   ...\n   [244.86 244.17 244.14 ... 244.33 244.34 244.44]\n   [244.99 244.4  244.23 ... 244.23 244.68 244.62]\n   [244.71 244.   244.15 ... 244.85 244.9  244.74]]]\n\n\n [[[244.04 244.1  244.84 ... 244.59 244.85 244.38]\n   [244.89 244.48 244.59 ... 244.54 244.77 244.22]\n   [244.21 244.01 244.03 ... 244.52 244.38 244.81]\n   ...\n   [244.84 244.09 244.47 ... 244.28 244.8  244.92]\n   [244.26 244.05 244.58 ... 244.43 244.9  244.11]\n   [244.57 244.3  244.75 ... 244.68 244.42 244.74]]\n\n  [[244.95 244.28 244.76 ... 244.03 244.45 244.93]\n   [244.76 244.08 244.56 ... 244.88 244.68 244.31]\n   [244.23 244.85 244.64 ... 244.18 244.9  244.18]\n   ...\n   [244.82 244.08 244.52 ... 244.32 244.63 244.81]\n   [244.65 244.54 244.52 ... 244.09 244.21 244.42]\n   [244.32 244.71 244.79 ... 244.79 244.47 244.58]]\n\n  [[244.92 244.06 244.06 ... 244.64 244.35 244.1 ]\n   [244.26 244.05 244.43 ... 244.03 244.45 244.25]\n   [244.46 244.31 244.87 ... 244.04 244.84 244.06]\n   ...\n   [244.54 244.78 244.01 ... 244.21 244.34 244.24]\n   [244.8  244.86 244.12 ... 244.31 244.37 244.88]\n   [244.04 244.87 244.15 ... 244.93 244.08 244.08]]\n\n  ...\n\n  [[244.51 244.34 244.18 ... 244.88 244.35 244.03]\n   [244.32 244.89 244.71 ... 244.46 244.18 244.98]\n   [244.21 244.49 244.4  ... 244.17 244.69 244.68]\n   ...\n   [244.81 244.37 244.76 ... 244.48 244.97 244.59]\n   [244.66 244.61 244.44 ... 244.78 244.17 244.88]\n   [244.33 244.73 244.32 ... 244.09 244.87 244.62]]\n\n  [[244.36 244.95 244.1  ... 244.81 244.25 244.39]\n   [244.4  244.58 244.37 ... 244.98 244.84 244.14]\n   [244.04 244.88 244.1  ... 244.59 244.75 244.41]\n   ...\n   [244.53 244.62 244.45 ... 244.77 244.03 244.23]\n   [244.82 244.36 244.87 ... 244.79 244.19 244.27]\n   [244.88 244.29 244.97 ... 244.99 244.63 244.49]]\n\n  [[244.4  244.12 244.23 ... 244.03 244.88 244.41]\n   [244.1  244.33 244.13 ... 244.43 244.68 244.97]\n   [244.69 244.34 244.49 ... 244.64 244.11 244.96]\n   ...\n   [244.43 244.17 244.84 ... 244.28 244.76 244.16]\n   [244.8  244.58 244.52 ... 244.34 244.57 244.09]\n   [244.73 244.02 244.13 ... 244.06 244.14 244.91]]]]\nindex: 245: value: [[[[245.79 245.21 245.54 ... 245.21 245.84 245.06]\n   [245.88 245.6  245.77 ... 245.55 245.95 245.71]\n   [245.12 245.09 245.79 ... 245.63 245.56 245.84]\n   ...\n   [245.24 245.97 245.31 ... 245.11 245.68 245.82]\n   [245.01 245.41 245.7  ... 245.37 245.17 245.67]\n   [245.62 245.91 245.58 ... 245.15 245.77 245.18]]\n\n  [[245.88 245.45 245.95 ... 245.95 245.89 245.46]\n   [245.07 245.18 245.97 ... 245.26 245.45 245.73]\n   [245.32 245.15 245.65 ... 245.77 245.04 245.67]\n   ...\n   [245.91 245.23 245.75 ... 245.88 245.72 245.93]\n   [245.06 245.02 245.06 ... 245.72 245.55 245.99]\n   [245.07 245.04 245.28 ... 245.8  245.52 245.73]]\n\n  [[245.48 245.35 245.26 ... 245.79 245.48 245.15]\n   [245.62 245.6  245.55 ... 245.09 245.7  245.77]\n   [245.49 245.1  245.28 ... 245.65 245.18 245.15]\n   ...\n   [245.7  245.52 245.75 ... 245.38 245.7  245.5 ]\n   [245.73 245.05 245.55 ... 245.57 245.5  245.91]\n   [245.84 245.4  245.78 ... 245.57 245.69 245.87]]\n\n  ...\n\n  [[245.76 245.88 245.83 ... 245.72 245.54 245.82]\n   [245.47 245.23 245.61 ... 245.03 245.5  245.08]\n   [245.02 245.49 245.27 ... 245.48 245.52 245.38]\n   ...\n   [245.2  245.22 245.48 ... 245.87 245.99 245.47]\n   [245.89 245.31 245.29 ... 245.15 245.86 245.27]\n   [245.76 245.87 245.98 ... 245.82 245.12 245.39]]\n\n  [[245.43 245.21 245.3  ... 245.88 245.14 245.31]\n   [245.6  245.77 245.19 ... 245.32 245.82 245.79]\n   [245.36 245.11 245.9  ... 245.78 245.74 245.53]\n   ...\n   [245.83 245.57 245.35 ... 245.58 245.08 245.62]\n   [245.97 245.99 245.33 ... 245.24 245.09 245.59]\n   [245.47 245.15 245.25 ... 245.88 245.05 245.64]]\n\n  [[245.77 245.99 245.67 ... 245.86 245.15 245.38]\n   [245.86 245.88 245.7  ... 245.03 245.23 245.55]\n   [245.38 245.92 245.44 ... 245.29 245.51 245.37]\n   ...\n   [245.92 246.   245.19 ... 245.83 245.47 245.41]\n   [245.86 245.1  245.51 ... 245.92 245.48 245.84]\n   [245.18 245.25 245.62 ... 245.62 245.75 245.24]]]\n\n\n [[[245.72 245.72 245.62 ... 245.54 245.71 245.38]\n   [245.85 245.96 245.06 ... 245.99 245.38 245.39]\n   [245.83 245.14 245.77 ... 245.74 245.67 245.49]\n   ...\n   [245.82 245.1  245.86 ... 245.01 245.53 245.26]\n   [245.99 245.23 245.67 ... 245.07 245.72 245.28]\n   [245.94 245.26 245.51 ... 245.68 245.67 245.73]]\n\n  [[245.5  245.54 245.34 ... 245.87 245.   245.9 ]\n   [245.78 245.   245.22 ... 245.05 245.51 245.98]\n   [245.42 245.46 245.62 ... 245.76 245.19 245.74]\n   ...\n   [245.05 245.85 245.36 ... 245.51 245.05 245.01]\n   [245.36 245.77 245.7  ... 245.82 245.86 245.95]\n   [245.29 245.16 245.81 ... 245.18 245.19 245.68]]\n\n  [[245.71 245.07 245.84 ... 245.38 245.35 245.15]\n   [245.61 245.09 245.69 ... 245.   245.4  245.72]\n   [245.36 245.16 245.04 ... 245.29 245.64 245.01]\n   ...\n   [245.21 245.72 245.68 ... 245.84 245.71 245.99]\n   [245.96 245.1  245.2  ... 245.15 245.44 245.01]\n   [245.1  245.12 245.21 ... 245.48 245.16 245.67]]\n\n  ...\n\n  [[245.42 245.41 245.76 ... 245.6  245.4  245.08]\n   [245.29 245.65 245.74 ... 245.31 245.5  245.28]\n   [245.59 245.2  245.68 ... 245.77 245.99 245.16]\n   ...\n   [245.39 245.06 245.9  ... 245.66 245.45 245.71]\n   [245.57 245.89 245.73 ... 245.07 245.78 245.76]\n   [245.23 245.52 245.29 ... 245.23 245.95 245.18]]\n\n  [[245.23 245.3  245.07 ... 245.73 245.94 245.02]\n   [245.92 245.02 245.18 ... 245.58 245.04 245.08]\n   [245.55 245.45 245.17 ... 245.2  245.3  245.07]\n   ...\n   [245.51 245.91 245.83 ... 245.53 245.91 245.1 ]\n   [245.57 245.17 245.31 ... 245.83 245.66 245.13]\n   [245.54 245.02 245.72 ... 245.22 245.12 245.45]]\n\n  [[245.11 245.35 245.84 ... 245.73 245.44 245.61]\n   [245.59 245.96 245.53 ... 245.47 245.57 245.39]\n   [245.16 245.36 245.73 ... 245.72 245.42 245.41]\n   ...\n   [245.82 245.38 245.8  ... 245.61 245.1  245.23]\n   [245.97 245.62 245.39 ... 245.45 245.08 245.02]\n   [245.61 245.88 245.67 ... 245.41 245.17 245.07]]]\n\n\n [[[245.6  245.46 245.09 ... 245.7  245.6  245.26]\n   [245.13 245.1  245.45 ... 245.9  245.97 245.92]\n   [245.04 245.96 245.78 ... 245.16 245.96 245.73]\n   ...\n   [245.76 245.67 245.26 ... 245.73 245.38 245.31]\n   [245.26 245.63 245.55 ... 245.79 245.55 245.47]\n   [245.82 245.24 245.2  ... 245.7  245.39 245.1 ]]\n\n  [[245.08 245.87 245.87 ... 245.05 245.48 245.17]\n   [245.67 245.   245.32 ... 245.57 245.89 245.84]\n   [245.17 245.91 245.09 ... 245.31 245.33 245.9 ]\n   ...\n   [245.58 245.89 245.31 ... 245.45 245.61 245.68]\n   [245.7  245.89 245.63 ... 245.36 245.65 245.74]\n   [245.76 245.69 245.48 ... 245.76 245.5  245.77]]\n\n  [[245.65 245.34 245.09 ... 245.56 245.97 245.11]\n   [245.23 245.18 245.7  ... 245.46 245.44 245.66]\n   [245.04 245.61 245.14 ... 245.69 245.57 245.26]\n   ...\n   [245.09 245.11 245.04 ... 245.49 245.7  245.88]\n   [245.61 245.91 245.34 ... 245.51 245.04 245.05]\n   [245.   245.52 245.16 ... 245.05 245.29 245.6 ]]\n\n  ...\n\n  [[245.01 245.49 245.52 ... 245.08 245.78 245.76]\n   [245.52 245.49 245.62 ... 245.92 245.85 245.04]\n   [245.5  245.46 245.26 ... 245.11 245.92 245.83]\n   ...\n   [245.15 245.79 245.04 ... 245.32 245.49 245.94]\n   [245.17 245.56 245.76 ... 245.94 245.57 245.16]\n   [245.88 245.06 245.44 ... 245.33 245.7  245.35]]\n\n  [[245.38 245.02 245.22 ... 245.68 245.08 245.36]\n   [246.   245.96 245.1  ... 245.76 245.11 245.29]\n   [245.99 245.57 245.62 ... 245.47 245.61 245.7 ]\n   ...\n   [245.99 245.82 245.07 ... 245.38 245.61 245.86]\n   [245.18 245.17 245.62 ... 245.2  245.38 245.54]\n   [245.21 245.91 245.57 ... 245.11 245.03 245.42]]\n\n  [[245.5  245.31 245.69 ... 245.53 245.61 245.09]\n   [245.5  245.01 245.8  ... 245.31 245.73 245.21]\n   [245.35 245.25 245.43 ... 245.29 245.46 245.51]\n   ...\n   [245.83 245.14 245.01 ... 245.6  245.41 245.32]\n   [245.99 245.51 245.95 ... 245.59 245.38 245.02]\n   [245.26 245.99 245.17 ... 245.71 245.61 245.58]]]\n\n\n [[[245.38 245.51 245.29 ... 245.23 245.98 245.06]\n   [245.86 245.24 245.92 ... 245.53 245.25 245.22]\n   [245.03 245.52 245.3  ... 245.11 245.44 245.65]\n   ...\n   [245.65 245.36 245.43 ... 245.46 245.42 245.72]\n   [245.82 245.24 245.15 ... 245.99 245.09 245.49]\n   [245.01 245.27 245.07 ... 245.25 245.69 245.45]]\n\n  [[245.74 245.07 245.1  ... 245.06 245.98 245.56]\n   [245.35 245.87 245.07 ... 245.39 245.8  245.59]\n   [245.11 245.06 245.4  ... 245.53 245.95 245.65]\n   ...\n   [245.81 245.5  245.77 ... 245.46 245.4  245.77]\n   [245.   245.8  245.55 ... 245.7  245.39 245.09]\n   [245.35 245.33 245.27 ... 245.08 245.09 245.45]]\n\n  [[245.53 245.81 245.22 ... 245.77 245.57 245.97]\n   [245.83 245.63 245.94 ... 245.54 245.96 245.6 ]\n   [245.35 245.33 245.12 ... 245.27 245.13 245.17]\n   ...\n   [245.24 245.08 245.99 ... 245.9  245.2  245.65]\n   [245.58 245.05 245.44 ... 245.29 245.6  245.61]\n   [245.21 245.85 245.77 ... 245.64 245.8  245.87]]\n\n  ...\n\n  [[245.4  245.94 245.58 ... 245.42 245.42 245.5 ]\n   [245.26 245.75 245.02 ... 245.9  245.55 245.06]\n   [245.23 245.66 245.37 ... 245.21 245.28 245.29]\n   ...\n   [245.38 245.45 245.32 ... 245.09 245.45 245.86]\n   [246.   245.23 245.5  ... 245.82 245.26 245.07]\n   [245.7  245.7  245.36 ... 245.45 245.48 245.4 ]]\n\n  [[245.92 246.   245.55 ... 245.91 245.36 245.81]\n   [245.62 245.81 245.52 ... 245.33 245.11 245.61]\n   [245.69 245.93 245.48 ... 245.9  245.99 245.15]\n   ...\n   [245.48 245.61 245.36 ... 245.44 245.64 245.82]\n   [245.31 245.25 245.36 ... 245.4  245.3  245.8 ]\n   [245.92 245.9  245.33 ... 245.34 245.25 245.28]]\n\n  [[245.66 245.96 245.76 ... 245.64 245.62 245.65]\n   [245.06 245.83 245.39 ... 245.85 245.58 246.  ]\n   [245.91 245.85 245.93 ... 245.39 245.35 245.46]\n   ...\n   [245.92 245.21 245.71 ... 245.03 245.89 245.85]\n   [245.16 245.24 245.63 ... 245.33 245.62 245.27]\n   [245.92 245.05 245.2  ... 245.97 245.54 245.8 ]]]]\nindex: 246: value: [[[[246.04 246.75 246.42 ... 246.9  246.67 246.31]\n   [246.22 246.97 246.21 ... 246.44 246.28 246.97]\n   [246.61 246.93 246.76 ... 246.96 246.89 246.73]\n   ...\n   [246.08 246.64 246.11 ... 246.99 246.21 246.39]\n   [246.98 246.24 246.23 ... 246.52 246.71 246.51]\n   [246.28 246.79 246.48 ... 246.85 246.61 246.21]]\n\n  [[246.19 246.41 246.66 ... 246.73 246.77 246.56]\n   [246.3  246.02 246.99 ... 246.5  246.52 246.75]\n   [246.07 246.22 246.2  ... 246.9  246.56 246.64]\n   ...\n   [246.18 246.49 246.64 ... 246.24 246.29 246.64]\n   [246.57 246.08 246.53 ... 246.67 246.35 246.22]\n   [246.06 246.93 246.63 ... 246.39 246.02 246.27]]\n\n  [[246.5  246.28 246.34 ... 246.76 246.41 246.45]\n   [246.18 246.86 246.14 ... 246.82 246.17 246.57]\n   [246.42 246.99 246.67 ... 246.15 246.75 246.74]\n   ...\n   [246.28 246.91 246.4  ... 246.09 246.56 246.09]\n   [246.44 246.18 246.96 ... 246.74 246.07 246.23]\n   [246.61 246.5  246.62 ... 246.08 246.63 246.42]]\n\n  ...\n\n  [[246.46 246.47 246.   ... 246.95 246.5  246.7 ]\n   [246.77 246.01 246.73 ... 246.6  246.07 246.48]\n   [246.89 246.   246.36 ... 246.68 246.66 246.59]\n   ...\n   [246.02 246.97 246.44 ... 246.47 246.52 246.81]\n   [246.04 246.44 246.48 ... 246.5  246.07 246.31]\n   [246.93 246.01 246.56 ... 246.93 246.24 246.04]]\n\n  [[246.11 246.12 246.91 ... 246.17 246.12 246.45]\n   [246.15 246.12 246.73 ... 246.29 246.55 246.57]\n   [246.91 246.62 246.63 ... 246.32 246.99 246.29]\n   ...\n   [246.75 246.29 246.1  ... 246.89 246.26 246.34]\n   [246.57 246.81 246.19 ... 246.21 246.42 246.19]\n   [246.78 246.5  246.3  ... 246.64 246.41 246.68]]\n\n  [[246.13 246.36 246.46 ... 246.75 246.95 246.06]\n   [246.91 246.77 246.22 ... 246.31 246.53 246.57]\n   [246.41 246.05 246.89 ... 246.84 246.24 246.08]\n   ...\n   [246.27 246.47 246.13 ... 246.73 246.49 246.51]\n   [246.31 246.74 246.59 ... 246.54 246.23 246.25]\n   [246.26 246.32 246.56 ... 246.04 246.07 246.84]]]\n\n\n [[[246.85 246.81 246.06 ... 246.88 246.39 246.14]\n   [246.03 246.35 246.83 ... 246.85 246.65 246.88]\n   [246.83 246.77 246.77 ... 246.44 246.58 246.96]\n   ...\n   [247.   246.51 246.33 ... 246.74 246.83 246.27]\n   [246.72 246.44 246.42 ... 246.55 246.7  246.2 ]\n   [246.69 246.82 246.94 ... 246.22 246.72 246.5 ]]\n\n  [[246.73 246.94 246.01 ... 246.97 246.73 246.91]\n   [246.96 246.62 246.75 ... 246.69 246.7  246.86]\n   [246.98 246.97 246.72 ... 246.14 246.52 246.02]\n   ...\n   [246.2  246.37 246.64 ... 246.97 246.41 246.25]\n   [246.28 246.86 246.39 ... 246.99 246.13 246.64]\n   [246.54 246.28 246.11 ... 246.86 246.83 246.31]]\n\n  [[246.84 246.61 246.55 ... 246.63 246.85 246.17]\n   [246.14 246.44 246.22 ... 246.91 246.32 246.72]\n   [246.87 246.8  246.8  ... 246.91 246.4  246.28]\n   ...\n   [246.09 246.56 246.12 ... 246.95 246.13 246.27]\n   [246.84 246.01 246.67 ... 246.84 246.67 246.15]\n   [246.12 246.71 246.85 ... 246.99 246.07 246.57]]\n\n  ...\n\n  [[246.71 246.72 246.57 ... 246.67 246.36 246.37]\n   [246.33 246.79 246.54 ... 246.53 246.06 246.87]\n   [246.32 246.62 246.89 ... 246.21 246.3  246.37]\n   ...\n   [246.96 246.42 246.14 ... 246.5  246.49 246.66]\n   [246.78 246.75 246.32 ... 246.71 246.68 246.07]\n   [246.17 246.35 246.76 ... 246.95 246.23 246.84]]\n\n  [[246.85 246.02 246.69 ... 246.8  246.85 246.51]\n   [246.05 246.07 246.56 ... 246.28 246.76 246.11]\n   [246.93 246.95 246.92 ... 246.04 246.94 246.65]\n   ...\n   [246.4  246.83 246.86 ... 246.65 246.37 246.  ]\n   [246.73 246.37 246.7  ... 246.68 246.92 246.93]\n   [246.17 246.72 246.44 ... 246.42 246.74 246.38]]\n\n  [[246.56 246.52 246.8  ... 246.81 246.02 246.85]\n   [246.27 246.92 246.47 ... 246.42 246.85 246.37]\n   [246.14 246.19 246.63 ... 246.87 246.66 246.55]\n   ...\n   [246.35 246.81 246.85 ... 246.41 246.96 246.94]\n   [246.76 246.01 246.59 ... 246.17 246.11 246.8 ]\n   [246.87 246.74 246.19 ... 246.02 246.58 246.17]]]\n\n\n [[[246.12 246.78 246.82 ... 246.54 246.03 246.4 ]\n   [246.52 246.77 246.16 ... 246.31 246.31 246.32]\n   [246.84 246.24 246.26 ... 246.54 246.14 246.67]\n   ...\n   [246.87 246.94 246.11 ... 246.32 246.79 246.79]\n   [246.28 246.42 246.9  ... 246.36 246.84 246.4 ]\n   [246.85 246.34 246.3  ... 246.78 246.   246.69]]\n\n  [[246.25 246.22 246.66 ... 246.31 246.24 246.11]\n   [246.63 246.53 246.84 ... 246.1  246.79 246.15]\n   [246.22 246.6  246.83 ... 246.99 246.63 246.09]\n   ...\n   [246.03 246.26 246.06 ... 246.83 246.64 246.66]\n   [246.78 246.08 246.95 ... 246.89 246.02 246.7 ]\n   [246.13 246.07 246.14 ... 246.57 246.4  246.25]]\n\n  [[246.06 246.81 246.21 ... 246.71 246.36 246.83]\n   [246.54 246.66 246.74 ... 246.72 246.46 246.55]\n   [246.91 246.11 246.01 ... 246.29 246.68 246.73]\n   ...\n   [246.62 246.67 246.99 ... 246.85 246.75 246.78]\n   [246.82 246.04 246.43 ... 246.6  246.53 246.15]\n   [246.48 246.19 246.72 ... 246.56 246.07 246.21]]\n\n  ...\n\n  [[246.08 246.9  246.48 ... 246.71 246.11 246.58]\n   [246.03 246.61 246.58 ... 246.83 246.87 246.34]\n   [246.77 246.31 246.1  ... 246.39 246.21 246.39]\n   ...\n   [246.34 246.9  246.59 ... 246.09 246.43 246.79]\n   [246.5  246.87 246.03 ... 246.2  246.77 246.38]\n   [246.67 246.37 246.1  ... 246.44 246.42 246.2 ]]\n\n  [[246.1  246.29 246.1  ... 246.04 246.61 246.98]\n   [246.82 246.26 246.53 ... 246.66 246.67 246.4 ]\n   [246.66 246.76 246.35 ... 246.05 246.82 246.74]\n   ...\n   [246.72 246.83 246.92 ... 246.37 246.86 246.72]\n   [246.41 246.46 246.09 ... 246.65 246.92 246.76]\n   [246.87 246.4  246.84 ... 246.87 246.73 246.81]]\n\n  [[246.72 246.25 246.27 ... 246.03 246.13 246.02]\n   [246.73 246.01 246.78 ... 246.14 246.95 246.19]\n   [246.26 246.91 246.95 ... 246.11 246.52 246.59]\n   ...\n   [246.12 246.01 246.58 ... 246.01 246.55 246.03]\n   [246.89 246.51 246.62 ... 246.61 246.01 246.27]\n   [246.71 246.73 246.07 ... 246.08 246.53 246.52]]]\n\n\n [[[246.58 246.91 246.27 ... 246.7  246.45 246.24]\n   [246.82 246.94 246.08 ... 246.99 246.94 246.09]\n   [246.85 246.69 246.33 ... 246.72 246.94 246.5 ]\n   ...\n   [246.62 246.34 246.62 ... 246.33 246.91 246.38]\n   [246.06 246.13 246.83 ... 246.64 246.51 246.09]\n   [246.29 246.18 246.01 ... 246.16 246.92 246.71]]\n\n  [[246.11 246.87 246.09 ... 246.25 246.64 246.62]\n   [246.95 246.5  246.38 ... 246.21 246.36 246.66]\n   [246.25 246.9  246.38 ... 246.79 246.61 246.39]\n   ...\n   [246.79 246.23 246.61 ... 246.57 246.63 246.91]\n   [246.31 246.84 246.72 ... 246.1  246.99 246.48]\n   [246.41 246.62 246.31 ... 246.66 246.73 246.34]]\n\n  [[246.57 246.58 246.43 ... 246.93 246.35 246.52]\n   [246.88 246.47 246.31 ... 246.04 246.9  246.87]\n   [246.57 246.97 246.05 ... 246.89 246.32 246.37]\n   ...\n   [246.47 246.33 246.84 ... 246.73 246.7  246.6 ]\n   [246.29 246.58 246.58 ... 246.36 246.53 246.45]\n   [246.09 246.91 246.85 ... 246.5  246.7  246.37]]\n\n  ...\n\n  [[246.67 246.98 246.09 ... 246.51 246.24 246.14]\n   [246.79 246.73 246.01 ... 246.82 246.97 246.16]\n   [246.46 246.53 246.12 ... 246.74 246.72 246.28]\n   ...\n   [246.27 246.45 246.76 ... 246.53 246.81 246.85]\n   [246.23 246.08 246.72 ... 246.12 246.24 246.34]\n   [246.63 246.4  246.33 ... 246.73 246.74 246.83]]\n\n  [[246.35 246.33 246.92 ... 246.35 246.5  246.64]\n   [246.84 246.53 246.83 ... 246.58 246.93 246.53]\n   [246.79 246.77 246.95 ... 246.76 246.01 246.83]\n   ...\n   [246.04 246.93 246.7  ... 246.76 246.19 246.47]\n   [246.25 246.63 246.09 ... 246.4  246.15 246.6 ]\n   [246.56 246.16 246.15 ... 246.53 246.13 246.79]]\n\n  [[246.62 246.96 246.06 ... 246.16 246.75 246.44]\n   [246.28 246.88 246.58 ... 246.57 246.76 246.4 ]\n   [246.76 246.85 246.5  ... 246.88 246.87 246.72]\n   ...\n   [246.5  246.46 246.89 ... 246.33 246.47 246.17]\n   [246.19 246.55 246.67 ... 246.76 246.94 246.  ]\n   [246.06 246.06 246.56 ... 246.78 246.04 246.17]]]]\nindex: 247: value: [[[[247.89 247.78 247.95 ... 247.78 247.8  247.87]\n   [247.12 247.41 247.5  ... 247.04 247.98 247.28]\n   [247.47 247.98 247.74 ... 247.96 247.24 247.12]\n   ...\n   [247.36 247.48 247.31 ... 247.24 247.2  247.13]\n   [247.33 247.42 247.79 ... 247.25 247.96 247.42]\n   [247.04 247.89 247.88 ... 247.29 247.   247.35]]\n\n  [[247.23 247.97 247.77 ... 247.01 247.65 247.06]\n   [247.14 247.84 247.94 ... 247.9  247.95 247.58]\n   [247.03 247.63 247.16 ... 247.33 247.78 247.6 ]\n   ...\n   [247.99 247.64 247.36 ... 247.78 247.22 247.21]\n   [247.48 247.39 247.39 ... 247.02 247.14 247.67]\n   [247.3  247.28 247.81 ... 247.95 247.66 247.52]]\n\n  [[247.93 247.37 247.58 ... 247.15 247.15 247.7 ]\n   [247.88 247.51 247.77 ... 247.78 247.55 247.19]\n   [247.76 247.35 247.94 ... 247.84 247.29 247.92]\n   ...\n   [247.85 247.05 247.87 ... 247.77 247.23 247.4 ]\n   [247.2  247.05 247.5  ... 247.77 247.95 247.8 ]\n   [247.96 247.76 247.7  ... 247.69 247.15 247.17]]\n\n  ...\n\n  [[247.3  247.4  247.1  ... 247.33 247.35 247.29]\n   [247.38 247.13 247.3  ... 247.99 247.34 247.14]\n   [247.12 247.02 247.15 ... 247.22 247.45 247.01]\n   ...\n   [247.37 247.67 247.54 ... 247.44 247.76 247.29]\n   [247.59 247.62 247.64 ... 247.62 247.02 247.6 ]\n   [247.75 247.14 247.71 ... 247.72 247.07 247.87]]\n\n  [[247.9  247.3  247.82 ... 247.29 247.57 247.54]\n   [247.62 247.81 247.71 ... 247.84 247.2  247.77]\n   [247.77 247.74 247.67 ... 247.38 247.19 247.64]\n   ...\n   [247.26 247.47 247.61 ... 247.59 247.48 247.52]\n   [247.36 247.15 247.45 ... 247.96 247.23 247.59]\n   [247.87 247.91 247.85 ... 247.51 247.76 247.44]]\n\n  [[247.25 247.83 247.25 ... 247.4  247.06 247.93]\n   [247.99 247.24 247.37 ... 247.24 247.55 247.63]\n   [247.26 247.99 247.26 ... 247.48 247.34 247.67]\n   ...\n   [247.84 247.2  247.35 ... 247.79 247.85 247.48]\n   [247.99 247.31 247.82 ... 247.05 247.35 247.42]\n   [247.98 247.98 247.45 ... 247.04 247.41 247.67]]]\n\n\n [[[247.55 247.25 247.9  ... 247.44 247.7  247.4 ]\n   [247.89 247.64 247.06 ... 247.29 248.   247.72]\n   [247.02 247.47 247.36 ... 247.46 247.44 247.44]\n   ...\n   [247.51 247.7  247.73 ... 247.51 247.1  247.86]\n   [247.58 247.9  247.19 ... 247.4  247.02 247.24]\n   [247.24 247.76 247.66 ... 247.83 247.27 247.56]]\n\n  [[247.64 247.5  247.53 ... 247.98 247.37 247.04]\n   [247.57 247.42 247.16 ... 247.71 247.85 247.45]\n   [247.96 247.96 247.63 ... 247.86 247.41 247.17]\n   ...\n   [247.73 247.13 247.43 ... 247.7  247.08 247.11]\n   [247.08 247.18 247.43 ... 247.76 247.27 247.17]\n   [247.4  247.81 247.52 ... 247.41 247.44 247.95]]\n\n  [[247.53 247.69 247.02 ... 247.88 247.43 247.56]\n   [247.14 247.44 247.84 ... 247.94 247.28 247.39]\n   [247.72 247.14 247.63 ... 247.49 247.72 247.66]\n   ...\n   [247.04 247.   247.19 ... 247.91 247.87 247.62]\n   [247.51 247.75 247.03 ... 247.73 247.02 247.95]\n   [247.27 247.79 247.84 ... 247.18 247.05 247.52]]\n\n  ...\n\n  [[247.81 247.7  247.03 ... 247.54 247.8  247.03]\n   [247.14 247.71 247.21 ... 247.11 247.25 247.64]\n   [247.8  247.28 247.81 ... 247.79 247.06 247.83]\n   ...\n   [247.87 247.51 247.74 ... 247.59 247.36 247.82]\n   [247.67 247.3  247.18 ... 247.78 247.4  247.1 ]\n   [247.23 247.04 247.79 ... 247.37 247.9  247.67]]\n\n  [[247.87 247.03 247.73 ... 247.35 247.74 247.57]\n   [247.94 247.47 247.49 ... 247.72 247.96 247.96]\n   [247.88 247.44 247.   ... 247.97 247.09 247.89]\n   ...\n   [247.11 247.38 247.48 ... 247.74 247.45 247.29]\n   [247.35 247.91 247.72 ... 247.89 247.5  247.03]\n   [247.39 247.79 247.86 ... 247.79 247.95 247.62]]\n\n  [[247.67 247.32 247.55 ... 247.28 247.73 247.25]\n   [247.39 247.28 247.24 ... 247.11 247.84 247.45]\n   [247.3  247.07 247.85 ... 247.36 247.02 247.87]\n   ...\n   [247.53 247.59 247.95 ... 247.14 247.45 247.43]\n   [247.84 247.25 247.73 ... 247.26 247.26 247.25]\n   [247.85 247.85 247.5  ... 247.89 247.37 247.88]]]\n\n\n [[[247.03 247.87 247.97 ... 247.75 247.61 247.03]\n   [247.64 247.33 247.57 ... 247.54 247.81 247.01]\n   [247.23 247.86 247.33 ... 247.5  247.84 247.03]\n   ...\n   [247.41 247.82 247.64 ... 247.78 247.38 247.9 ]\n   [247.95 247.42 247.09 ... 247.55 247.41 247.87]\n   [247.12 247.74 247.66 ... 247.8  247.81 247.13]]\n\n  [[247.11 247.64 247.75 ... 247.81 247.91 247.68]\n   [247.75 247.77 247.34 ... 247.65 247.67 247.21]\n   [247.6  247.34 247.32 ... 247.53 247.7  247.45]\n   ...\n   [247.38 247.64 247.95 ... 247.92 247.89 247.56]\n   [247.07 247.99 247.99 ... 247.45 247.14 247.43]\n   [247.57 247.24 247.12 ... 247.57 247.74 247.79]]\n\n  [[247.28 247.32 247.96 ... 247.96 247.73 247.78]\n   [247.3  247.7  247.43 ... 247.04 247.61 247.19]\n   [247.29 247.09 247.23 ... 247.51 247.61 247.93]\n   ...\n   [247.89 247.14 247.78 ... 247.94 247.32 247.63]\n   [247.55 247.83 247.28 ... 247.84 247.9  247.06]\n   [247.69 247.7  247.06 ... 247.1  247.24 247.46]]\n\n  ...\n\n  [[247.18 247.6  248.   ... 247.74 247.38 247.95]\n   [247.17 247.14 247.41 ... 247.95 247.26 247.76]\n   [247.49 247.5  247.98 ... 247.5  247.77 247.94]\n   ...\n   [247.43 247.3  247.69 ... 247.52 247.12 247.07]\n   [247.   247.6  247.3  ... 247.91 247.57 247.22]\n   [247.12 247.21 247.1  ... 247.81 247.87 247.25]]\n\n  [[247.71 247.66 247.63 ... 247.75 247.24 247.25]\n   [247.21 247.59 247.56 ... 247.82 247.97 247.71]\n   [247.03 247.27 247.59 ... 247.45 247.96 247.5 ]\n   ...\n   [247.66 247.53 247.01 ... 247.15 247.27 247.63]\n   [247.93 247.41 247.3  ... 247.33 247.3  247.07]\n   [247.96 247.68 247.83 ... 247.33 247.87 247.45]]\n\n  [[247.41 247.16 247.24 ... 247.05 247.91 247.18]\n   [247.3  247.17 247.34 ... 247.24 247.15 247.76]\n   [247.87 247.24 247.27 ... 247.25 247.67 247.63]\n   ...\n   [247.1  247.77 247.31 ... 247.98 247.64 247.07]\n   [247.23 247.51 247.8  ... 247.13 247.12 247.97]\n   [247.55 247.19 247.33 ... 247.56 247.15 247.92]]]\n\n\n [[[247.03 247.64 247.52 ... 247.92 247.2  247.42]\n   [247.45 247.71 247.84 ... 247.3  247.42 247.17]\n   [247.88 247.37 247.04 ... 247.19 247.36 247.16]\n   ...\n   [247.83 247.65 247.06 ... 247.72 247.72 247.25]\n   [247.62 247.64 247.07 ... 247.96 247.9  247.54]\n   [247.11 247.6  247.17 ... 247.04 247.32 247.59]]\n\n  [[247.98 247.99 247.71 ... 247.31 247.96 247.57]\n   [247.43 247.3  247.68 ... 247.64 247.24 247.2 ]\n   [247.76 247.87 247.72 ... 247.33 247.47 247.36]\n   ...\n   [247.07 247.5  247.53 ... 247.85 247.21 247.09]\n   [247.56 247.29 247.42 ... 247.62 247.54 247.24]\n   [247.47 247.09 247.54 ... 247.3  247.44 247.25]]\n\n  [[247.18 247.79 247.96 ... 247.43 247.27 247.88]\n   [247.01 247.38 247.78 ... 247.62 247.93 247.36]\n   [247.89 247.66 247.59 ... 247.01 247.74 247.75]\n   ...\n   [247.17 247.81 247.18 ... 247.84 247.95 247.  ]\n   [247.39 247.99 247.17 ... 247.93 247.43 247.13]\n   [247.35 247.83 247.79 ... 247.97 247.   247.51]]\n\n  ...\n\n  [[247.35 247.75 247.97 ... 247.74 247.08 247.85]\n   [247.65 247.06 247.4  ... 247.98 247.8  247.33]\n   [247.48 247.97 247.63 ... 247.19 247.52 247.46]\n   ...\n   [247.47 247.6  247.57 ... 247.48 247.41 247.54]\n   [247.93 247.86 247.2  ... 247.28 247.31 247.93]\n   [247.87 247.12 247.1  ... 247.51 247.72 247.26]]\n\n  [[247.9  247.47 247.89 ... 247.38 247.44 247.24]\n   [247.5  247.75 247.33 ... 247.5  247.96 247.67]\n   [247.46 247.87 247.64 ... 247.6  247.9  247.98]\n   ...\n   [247.43 247.24 247.33 ... 247.55 247.72 247.84]\n   [247.68 247.97 247.75 ... 247.99 247.33 247.6 ]\n   [247.62 247.14 247.2  ... 247.44 247.54 247.72]]\n\n  [[247.34 247.81 247.77 ... 247.86 247.83 247.53]\n   [247.91 247.02 247.2  ... 247.78 247.01 247.99]\n   [247.18 247.23 247.22 ... 247.34 247.12 247.77]\n   ...\n   [247.98 247.98 247.52 ... 247.38 247.76 247.31]\n   [247.89 247.26 247.31 ... 247.87 247.42 247.73]\n   [247.59 247.11 247.46 ... 247.66 247.18 247.9 ]]]]\nindex: 248: value: [[[[248.08 248.99 248.16 ... 248.5  248.32 248.53]\n   [248.03 248.32 248.39 ... 248.88 248.63 248.27]\n   [248.69 248.26 248.14 ... 248.37 248.84 248.1 ]\n   ...\n   [248.61 248.8  248.69 ... 248.2  248.44 248.07]\n   [248.17 248.99 248.69 ... 248.76 248.68 248.37]\n   [248.51 248.64 248.3  ... 248.95 248.09 248.43]]\n\n  [[248.1  248.07 248.85 ... 248.73 248.91 248.77]\n   [248.36 248.34 248.67 ... 248.32 248.84 248.28]\n   [248.46 248.71 248.68 ... 248.63 248.93 248.83]\n   ...\n   [248.97 248.47 248.33 ... 248.98 248.31 248.1 ]\n   [248.84 248.46 248.72 ... 248.46 248.46 248.88]\n   [248.3  248.71 248.07 ... 248.11 248.54 248.47]]\n\n  [[248.41 248.92 248.75 ... 248.11 248.51 248.05]\n   [248.93 248.8  248.65 ... 248.85 248.44 248.77]\n   [248.85 248.19 248.79 ... 248.15 248.67 248.55]\n   ...\n   [248.94 248.23 248.37 ... 248.94 248.38 248.63]\n   [248.32 248.37 248.07 ... 248.38 248.23 248.62]\n   [248.26 248.86 248.95 ... 248.85 248.55 248.45]]\n\n  ...\n\n  [[248.5  248.54 248.64 ... 248.03 248.95 248.38]\n   [248.29 248.81 248.11 ... 248.17 248.44 248.2 ]\n   [248.77 248.19 248.59 ... 248.61 248.2  248.99]\n   ...\n   [248.2  248.83 248.18 ... 248.74 248.66 248.79]\n   [248.12 248.53 248.39 ... 248.07 248.9  248.72]\n   [248.96 248.04 248.06 ... 248.69 248.14 248.13]]\n\n  [[248.87 248.24 248.01 ... 248.82 248.39 248.2 ]\n   [248.56 248.97 248.23 ... 248.67 248.65 248.8 ]\n   [248.89 248.99 248.62 ... 248.46 248.98 248.37]\n   ...\n   [248.89 248.34 248.81 ... 248.03 248.99 248.68]\n   [248.55 248.26 248.91 ... 248.66 248.27 248.44]\n   [248.28 248.15 248.09 ... 248.11 248.2  248.73]]\n\n  [[248.43 248.15 248.27 ... 248.91 248.21 248.82]\n   [248.69 248.64 248.92 ... 248.04 248.63 248.37]\n   [248.23 248.88 248.47 ... 248.64 248.44 248.49]\n   ...\n   [248.12 248.15 248.01 ... 248.69 248.14 248.37]\n   [248.3  248.05 248.93 ... 248.96 248.02 248.38]\n   [248.16 248.94 248.02 ... 248.5  248.05 248.27]]]\n\n\n [[[248.05 248.25 248.7  ... 248.72 248.41 248.27]\n   [248.38 248.77 248.09 ... 248.53 248.93 248.89]\n   [248.46 248.21 248.32 ... 248.02 248.59 248.95]\n   ...\n   [248.48 248.84 248.32 ... 248.43 248.23 248.3 ]\n   [248.45 248.47 248.78 ... 248.95 248.61 248.13]\n   [248.24 248.6  248.95 ... 248.21 248.82 248.25]]\n\n  [[248.08 248.19 248.8  ... 248.44 248.52 248.02]\n   [248.75 248.   248.22 ... 248.62 248.33 248.05]\n   [248.49 248.18 248.35 ... 248.7  248.81 248.6 ]\n   ...\n   [248.8  248.51 248.54 ... 248.14 248.08 248.43]\n   [248.26 248.52 248.52 ... 248.64 248.43 248.11]\n   [248.52 248.58 248.08 ... 248.35 248.62 248.39]]\n\n  [[248.8  248.38 248.48 ... 248.91 248.31 248.7 ]\n   [248.51 248.73 248.89 ... 248.51 248.85 248.9 ]\n   [248.12 248.13 248.74 ... 248.38 248.4  248.4 ]\n   ...\n   [248.03 248.43 248.88 ... 248.7  248.28 248.2 ]\n   [248.35 248.17 248.28 ... 248.79 248.   248.68]\n   [248.29 248.15 248.95 ... 248.88 248.5  248.22]]\n\n  ...\n\n  [[248.34 248.41 248.42 ... 248.51 248.26 248.6 ]\n   [248.41 248.46 248.73 ... 248.42 248.31 248.45]\n   [248.48 248.31 248.39 ... 248.97 248.04 248.54]\n   ...\n   [248.71 248.61 248.9  ... 248.04 248.59 248.92]\n   [248.88 248.12 248.26 ... 248.74 248.4  248.6 ]\n   [248.91 248.96 248.29 ... 248.18 248.26 248.79]]\n\n  [[248.41 248.55 248.59 ... 248.1  248.99 248.65]\n   [248.59 248.45 248.21 ... 248.55 248.34 248.06]\n   [248.1  248.58 248.97 ... 248.82 248.87 248.09]\n   ...\n   [248.33 248.31 248.72 ... 248.69 248.03 248.12]\n   [248.69 248.55 248.68 ... 248.42 248.83 248.89]\n   [248.64 248.2  248.89 ... 248.15 248.72 248.67]]\n\n  [[248.84 248.95 248.19 ... 248.42 248.81 248.  ]\n   [248.97 248.26 248.91 ... 248.61 248.36 248.32]\n   [248.46 248.23 249.   ... 248.88 248.09 248.56]\n   ...\n   [248.31 248.82 248.75 ... 248.98 248.74 248.31]\n   [248.9  248.14 248.15 ... 248.59 248.28 248.87]\n   [248.01 248.19 248.08 ... 248.1  248.64 248.83]]]\n\n\n [[[248.44 248.34 248.15 ... 248.64 248.49 248.79]\n   [248.63 248.87 248.81 ... 248.26 248.01 248.32]\n   [248.64 248.03 248.32 ... 248.46 248.12 248.74]\n   ...\n   [248.62 248.37 248.53 ... 248.48 248.5  248.72]\n   [248.6  248.63 248.84 ... 248.75 248.46 248.28]\n   [248.3  248.05 248.78 ... 248.68 248.37 248.55]]\n\n  [[248.08 248.74 248.32 ... 248.21 248.15 248.83]\n   [248.64 248.16 248.04 ... 248.68 248.57 248.6 ]\n   [248.83 248.76 248.56 ... 248.36 248.88 248.09]\n   ...\n   [248.19 248.28 248.11 ... 248.49 248.61 248.1 ]\n   [248.87 248.97 248.41 ... 248.44 248.09 248.92]\n   [248.83 248.49 248.75 ... 248.57 248.25 248.64]]\n\n  [[248.43 248.63 248.88 ... 248.94 248.24 248.61]\n   [248.27 248.64 248.1  ... 248.33 248.69 248.33]\n   [248.03 248.45 248.86 ... 248.01 248.35 248.5 ]\n   ...\n   [248.33 248.71 248.26 ... 248.03 248.08 248.54]\n   [248.81 248.06 248.51 ... 248.73 248.72 248.27]\n   [248.92 248.93 248.04 ... 248.8  248.83 248.39]]\n\n  ...\n\n  [[248.4  248.33 248.13 ... 248.77 248.49 248.94]\n   [248.58 248.53 248.6  ... 248.73 248.   248.96]\n   [248.03 248.43 248.07 ... 248.57 248.07 248.19]\n   ...\n   [248.35 248.43 248.85 ... 248.77 248.48 248.65]\n   [248.96 248.01 248.18 ... 248.51 248.75 248.62]\n   [248.47 248.77 248.16 ... 248.3  248.42 248.32]]\n\n  [[248.89 248.73 248.31 ... 248.5  248.31 248.92]\n   [248.92 248.43 248.38 ... 248.76 248.86 248.78]\n   [248.28 248.91 248.5  ... 248.51 248.65 248.79]\n   ...\n   [248.19 248.26 248.77 ... 248.43 248.89 248.73]\n   [248.6  248.39 248.73 ... 248.46 248.03 248.79]\n   [248.45 248.77 248.65 ... 248.69 248.96 248.94]]\n\n  [[248.48 248.67 248.06 ... 248.77 248.09 248.44]\n   [248.37 248.07 248.29 ... 248.45 248.03 248.03]\n   [248.96 248.47 248.51 ... 248.86 248.99 248.19]\n   ...\n   [248.24 248.57 248.29 ... 248.28 248.72 248.51]\n   [248.55 248.05 248.81 ... 248.69 248.22 248.16]\n   [248.08 248.24 248.58 ... 248.92 248.36 248.89]]]\n\n\n [[[248.89 248.77 248.6  ... 248.13 248.21 248.59]\n   [248.92 248.33 248.99 ... 248.26 248.13 248.15]\n   [248.86 248.59 248.66 ... 248.42 248.97 248.48]\n   ...\n   [248.24 248.29 248.01 ... 248.54 248.81 248.71]\n   [248.83 248.42 248.42 ... 248.27 248.98 248.05]\n   [248.75 248.05 248.61 ... 248.24 248.09 248.98]]\n\n  [[248.67 248.19 248.75 ... 248.58 248.49 248.82]\n   [248.51 248.01 248.22 ... 248.45 248.18 248.39]\n   [248.36 248.37 248.1  ... 248.26 248.78 248.02]\n   ...\n   [248.02 248.95 248.07 ... 248.88 248.88 248.08]\n   [248.97 248.7  248.98 ... 248.12 248.1  248.63]\n   [248.82 248.31 248.12 ... 248.07 248.88 248.87]]\n\n  [[248.94 248.91 248.24 ... 248.96 248.08 248.96]\n   [248.52 248.6  248.14 ... 248.37 248.48 248.37]\n   [248.57 248.84 248.52 ... 248.13 248.85 249.  ]\n   ...\n   [248.26 248.65 248.91 ... 248.4  248.13 248.57]\n   [248.2  248.21 248.44 ... 248.57 248.09 248.81]\n   [248.92 248.17 248.3  ... 248.59 248.64 248.21]]\n\n  ...\n\n  [[248.49 248.01 248.95 ... 248.37 248.83 248.04]\n   [248.99 248.83 248.12 ... 248.75 248.17 248.45]\n   [248.13 248.82 248.99 ... 248.12 248.84 248.94]\n   ...\n   [248.57 248.7  248.73 ... 248.74 248.52 248.64]\n   [248.48 248.62 248.84 ... 248.57 248.82 248.65]\n   [248.01 248.8  248.21 ... 248.47 248.08 248.78]]\n\n  [[248.93 248.19 248.24 ... 248.96 248.67 248.89]\n   [248.12 248.14 248.83 ... 248.4  248.85 248.06]\n   [248.02 248.45 248.69 ... 248.79 248.68 248.91]\n   ...\n   [248.76 248.91 248.54 ... 248.74 248.84 248.34]\n   [248.57 248.68 248.77 ... 248.86 248.82 248.46]\n   [248.28 248.32 248.56 ... 248.58 248.97 248.3 ]]\n\n  [[248.35 248.28 248.41 ... 248.02 248.6  248.72]\n   [248.41 248.83 248.78 ... 248.14 248.91 248.37]\n   [248.04 248.12 248.4  ... 248.44 248.02 248.3 ]\n   ...\n   [248.87 248.09 248.55 ... 248.94 248.94 248.44]\n   [248.11 248.03 248.79 ... 248.93 248.05 248.08]\n   [248.47 248.07 248.17 ... 248.41 248.67 248.23]]]]\nindex: 249: value: [[[[249.82 249.05 249.37 ... 249.76 249.41 249.06]\n   [249.19 249.02 249.22 ... 249.53 249.22 249.6 ]\n   [249.33 249.85 249.81 ... 249.65 249.93 249.46]\n   ...\n   [249.11 249.61 249.91 ... 249.8  249.26 249.75]\n   [249.58 249.75 249.78 ... 249.29 249.24 249.4 ]\n   [249.43 249.59 249.06 ... 249.84 249.43 249.8 ]]\n\n  [[249.42 249.53 249.35 ... 249.65 249.19 249.34]\n   [249.7  249.56 249.31 ... 249.37 249.32 249.34]\n   [249.22 249.54 249.29 ... 249.66 249.5  249.33]\n   ...\n   [249.18 249.88 249.13 ... 249.31 249.45 249.82]\n   [249.03 249.69 249.26 ... 249.83 249.53 249.59]\n   [249.72 249.62 249.13 ... 249.58 249.09 249.55]]\n\n  [[249.28 249.86 249.29 ... 249.08 249.21 249.72]\n   [249.11 249.1  249.73 ... 249.24 249.64 249.19]\n   [249.24 249.43 249.18 ... 249.35 249.74 249.1 ]\n   ...\n   [249.13 249.   249.14 ... 249.19 249.51 249.95]\n   [249.17 249.38 249.45 ... 249.02 249.71 249.24]\n   [249.79 249.25 249.4  ... 249.03 249.77 249.32]]\n\n  ...\n\n  [[249.12 249.35 249.71 ... 249.77 249.89 249.71]\n   [249.27 249.91 249.25 ... 249.58 249.97 249.11]\n   [249.48 249.47 249.43 ... 249.14 249.44 249.96]\n   ...\n   [249.06 249.52 249.35 ... 249.79 249.07 249.89]\n   [249.65 249.75 249.48 ... 249.96 249.5  249.  ]\n   [249.77 249.01 249.21 ... 249.26 249.09 249.71]]\n\n  [[249.95 249.67 249.79 ... 249.07 249.44 249.61]\n   [249.27 249.05 249.07 ... 249.93 249.86 249.13]\n   [249.67 249.38 249.78 ... 249.73 249.96 249.43]\n   ...\n   [249.57 249.67 249.73 ... 249.05 249.76 249.4 ]\n   [249.21 249.97 249.03 ... 249.72 249.55 249.75]\n   [249.53 249.8  249.38 ... 249.65 249.67 249.06]]\n\n  [[249.01 249.71 249.03 ... 249.61 249.23 249.27]\n   [249.65 249.51 249.34 ... 249.49 249.74 249.17]\n   [249.06 249.07 249.81 ... 249.91 249.32 249.92]\n   ...\n   [249.73 249.62 249.26 ... 249.14 249.33 249.39]\n   [249.39 249.63 249.06 ... 249.08 249.55 249.65]\n   [249.   249.67 249.21 ... 249.85 249.49 249.83]]]\n\n\n [[[249.42 249.93 249.5  ... 249.12 249.39 249.85]\n   [249.97 249.76 249.73 ... 249.25 249.65 249.32]\n   [249.68 249.36 249.39 ... 249.85 249.03 249.13]\n   ...\n   [249.58 249.87 249.91 ... 249.35 249.61 249.15]\n   [249.73 249.9  249.75 ... 249.32 249.39 249.16]\n   [249.13 249.74 249.73 ... 249.1  249.53 249.23]]\n\n  [[249.93 249.96 249.41 ... 249.2  249.98 249.83]\n   [249.14 249.59 249.81 ... 249.42 249.92 249.65]\n   [249.26 249.06 249.67 ... 249.48 249.83 249.61]\n   ...\n   [249.14 249.21 249.09 ... 249.91 249.17 249.8 ]\n   [249.9  249.85 249.05 ... 249.92 249.28 249.13]\n   [249.19 249.3  249.46 ... 249.16 249.19 249.47]]\n\n  [[249.08 249.4  249.41 ... 249.02 249.94 249.76]\n   [249.56 249.62 249.34 ... 249.19 249.38 249.26]\n   [249.14 249.48 249.74 ... 249.63 249.44 249.26]\n   ...\n   [249.9  249.35 249.28 ... 249.12 249.82 249.74]\n   [249.15 249.43 249.65 ... 249.09 249.67 249.89]\n   [249.01 249.77 249.48 ... 249.82 249.91 249.63]]\n\n  ...\n\n  [[249.75 249.52 249.22 ... 249.74 249.09 249.38]\n   [249.59 249.64 249.06 ... 249.48 249.73 249.02]\n   [249.44 249.44 249.9  ... 249.66 249.19 249.84]\n   ...\n   [249.94 249.14 249.35 ... 249.9  249.42 249.72]\n   [249.94 249.65 249.99 ... 249.24 249.04 249.65]\n   [249.15 249.69 249.54 ... 249.04 249.92 249.19]]\n\n  [[249.5  249.62 249.27 ... 249.14 249.52 249.61]\n   [249.21 249.57 249.77 ... 249.78 249.72 249.32]\n   [249.47 249.44 249.78 ... 249.58 249.88 249.15]\n   ...\n   [249.77 249.7  249.17 ... 249.6  249.86 249.9 ]\n   [249.52 249.2  249.71 ... 249.79 249.21 249.08]\n   [249.39 249.22 249.67 ... 249.77 249.45 249.03]]\n\n  [[249.29 249.1  249.8  ... 249.62 249.62 249.64]\n   [249.75 249.85 249.59 ... 249.9  249.86 249.66]\n   [249.23 249.64 250.   ... 249.71 249.27 249.9 ]\n   ...\n   [249.35 249.77 249.45 ... 249.57 249.95 249.63]\n   [249.97 249.11 249.34 ... 249.32 249.1  249.45]\n   [249.84 249.93 249.13 ... 249.37 249.9  249.23]]]\n\n\n [[[249.   249.83 249.62 ... 249.21 249.1  249.34]\n   [249.17 249.32 249.79 ... 249.31 249.68 249.38]\n   [249.96 249.59 249.04 ... 249.2  249.94 249.47]\n   ...\n   [249.62 249.2  249.15 ... 249.57 249.87 249.35]\n   [249.6  249.11 249.08 ... 249.26 249.19 249.55]\n   [249.68 249.54 249.61 ... 249.67 249.02 249.83]]\n\n  [[249.61 249.66 249.58 ... 249.08 249.37 249.35]\n   [249.29 249.53 249.86 ... 249.99 249.06 249.4 ]\n   [249.11 249.23 249.94 ... 249.83 249.84 249.97]\n   ...\n   [249.59 249.05 249.21 ... 249.26 249.11 249.05]\n   [249.36 249.12 249.3  ... 249.14 249.38 249.03]\n   [249.87 249.88 249.02 ... 249.12 249.62 249.14]]\n\n  [[249.53 249.26 249.86 ... 249.6  249.93 249.96]\n   [249.84 249.65 249.67 ... 249.27 249.14 249.39]\n   [249.85 249.82 249.27 ... 249.12 249.94 249.79]\n   ...\n   [249.66 249.21 249.56 ... 249.14 249.38 249.14]\n   [249.95 249.6  249.11 ... 249.56 249.02 249.48]\n   [249.83 249.67 249.88 ... 249.94 249.97 249.17]]\n\n  ...\n\n  [[249.51 249.73 249.6  ... 249.24 249.39 249.8 ]\n   [249.42 249.2  249.84 ... 249.23 249.33 249.65]\n   [249.59 249.64 249.07 ... 249.64 249.09 249.59]\n   ...\n   [249.98 249.54 249.12 ... 249.75 249.26 249.04]\n   [249.03 249.02 249.56 ... 249.51 249.96 249.61]\n   [249.95 249.76 249.44 ... 249.42 249.03 249.29]]\n\n  [[249.79 249.57 249.41 ... 249.57 249.49 249.48]\n   [249.2  249.79 249.96 ... 249.18 249.16 249.5 ]\n   [249.77 249.52 249.81 ... 249.6  249.5  249.5 ]\n   ...\n   [249.44 249.22 249.09 ... 249.31 249.91 249.89]\n   [249.54 249.04 249.98 ... 249.95 249.45 249.96]\n   [249.24 249.39 249.58 ... 249.68 249.31 249.29]]\n\n  [[249.09 249.46 249.72 ... 249.36 249.44 249.44]\n   [249.74 249.42 249.23 ... 249.55 249.61 249.78]\n   [249.42 249.16 249.44 ... 249.49 249.86 249.46]\n   ...\n   [249.44 249.85 249.09 ... 249.65 249.63 249.22]\n   [249.6  249.49 249.48 ... 249.82 249.66 249.14]\n   [249.42 249.7  249.35 ... 249.29 249.32 249.17]]]\n\n\n [[[249.68 249.23 249.95 ... 250.   249.1  249.78]\n   [249.69 249.74 249.12 ... 249.46 249.11 249.48]\n   [249.62 249.35 249.5  ... 249.41 249.19 249.07]\n   ...\n   [249.17 249.68 249.44 ... 249.84 249.39 249.09]\n   [249.54 249.43 249.85 ... 249.82 249.14 249.81]\n   [249.54 249.27 249.85 ... 249.09 249.73 249.17]]\n\n  [[249.28 249.69 249.99 ... 249.52 249.13 249.34]\n   [249.39 249.88 249.59 ... 249.74 249.69 249.43]\n   [249.1  249.33 249.84 ... 249.45 249.38 249.15]\n   ...\n   [249.1  249.73 249.25 ... 249.52 249.23 249.34]\n   [249.6  249.28 249.41 ... 249.16 249.91 249.93]\n   [249.82 249.34 249.03 ... 249.93 249.46 249.96]]\n\n  [[249.78 249.82 249.37 ... 249.16 249.7  249.37]\n   [249.79 249.72 249.02 ... 249.01 249.5  249.04]\n   [249.51 249.19 249.19 ... 249.77 249.43 249.31]\n   ...\n   [249.19 249.95 249.52 ... 249.23 249.48 249.22]\n   [249.22 249.58 249.05 ... 249.79 249.41 249.6 ]\n   [249.9  249.82 249.6  ... 249.77 249.27 249.02]]\n\n  ...\n\n  [[249.82 249.83 249.11 ... 249.25 249.91 249.23]\n   [249.69 249.72 249.11 ... 249.24 249.82 249.68]\n   [249.51 249.2  249.32 ... 249.32 249.55 249.84]\n   ...\n   [249.21 249.54 249.95 ... 249.01 249.34 249.28]\n   [249.02 249.01 249.26 ... 249.02 249.16 249.2 ]\n   [249.68 249.84 249.55 ... 249.36 249.99 249.22]]\n\n  [[249.39 249.01 249.21 ... 249.39 249.72 249.3 ]\n   [249.12 249.31 249.43 ... 249.74 249.2  249.38]\n   [249.05 249.73 249.55 ... 249.5  249.84 249.61]\n   ...\n   [249.72 249.66 249.44 ... 249.23 249.92 249.07]\n   [249.15 249.07 249.51 ... 249.88 249.45 249.96]\n   [249.93 249.19 249.72 ... 249.63 249.78 249.53]]\n\n  [[249.57 249.44 249.87 ... 249.5  249.37 249.11]\n   [249.66 249.3  249.38 ... 249.36 249.67 249.98]\n   [249.78 249.87 249.49 ... 249.37 249.96 249.34]\n   ...\n   [249.39 249.98 249.65 ... 249.73 249.03 249.21]\n   [249.73 249.18 249.02 ... 249.37 249.41 249.62]\n   [249.01 249.73 249.37 ... 249.57 249.44 249.94]]]]\nindex: 240: value: [[[[2400.03 2400.71 2400.34 ... 2400.04 2400.44 2400.48]\n   [2400.33 2400.59 2400.17 ... 2400.69 2400.77 2400.73]\n   [2400.71 2400.65 2400.46 ... 2400.51 2400.08 2400.92]\n   ...\n   [2400.19 2400.15 2400.78 ... 2400.58 2400.88 2400.26]\n   [2400.25 2400.24 2400.73 ... 2400.44 2400.04 2400.54]\n   [2400.44 2400.12 2400.04 ... 2400.8  2400.75 2400.59]]\n\n  [[2400.35 2400.27 2400.62 ... 2400.84 2400.36 2400.38]\n   [2400.56 2400.11 2400.71 ... 2400.82 2400.06 2400.95]\n   [2400.56 2400.09 2400.95 ... 2400.75 2400.75 2400.34]\n   ...\n   [2400.21 2400.93 2400.09 ... 2400.03 2400.4  2400.61]\n   [2400.5  2400.4  2400.05 ... 2400.75 2400.51 2400.61]\n   [2400.42 2400.16 2400.97 ... 2400.25 2400.61 2400.47]]\n\n  [[2400.53 2400.68 2400.38 ... 2400.31 2400.61 2400.3 ]\n   [2400.87 2400.06 2400.63 ... 2400.65 2400.43 2400.42]\n   [2400.87 2400.95 2400.53 ... 2400.3  2400.51 2400.8 ]\n   ...\n   [2400.08 2400.92 2400.24 ... 2400.45 2400.64 2400.18]\n   [2400.35 2400.03 2400.07 ... 2400.33 2400.72 2400.23]\n   [2400.28 2400.62 2400.05 ... 2400.78 2401.   2400.58]]\n\n  ...\n\n  [[2400.32 2400.29 2400.45 ... 2400.37 2400.98 2400.27]\n   [2400.45 2400.41 2400.51 ... 2400.96 2400.26 2400.06]\n   [2400.64 2400.17 2400.84 ... 2400.4  2400.73 2400.05]\n   ...\n   [2400.69 2400.23 2400.35 ... 2400.92 2400.87 2400.07]\n   [2400.53 2400.71 2400.49 ... 2400.65 2400.74 2400.81]\n   [2400.89 2400.17 2400.72 ... 2400.08 2400.43 2400.34]]\n\n  [[2400.57 2400.79 2400.62 ... 2400.   2400.35 2400.63]\n   [2400.73 2400.74 2400.81 ... 2400.05 2400.41 2400.54]\n   [2400.74 2400.79 2400.58 ... 2400.64 2400.92 2400.24]\n   ...\n   [2400.33 2400.65 2400.95 ... 2400.1  2400.74 2400.87]\n   [2400.59 2400.63 2400.39 ... 2400.83 2400.62 2400.36]\n   [2400.37 2400.42 2400.95 ... 2400.06 2400.5  2400.19]]\n\n  [[2400.39 2400.87 2400.59 ... 2400.49 2400.07 2400.53]\n   [2400.81 2400.24 2400.07 ... 2400.19 2400.72 2400.03]\n   [2400.92 2400.27 2400.07 ... 2400.88 2400.83 2400.3 ]\n   ...\n   [2400.26 2400.08 2400.22 ... 2400.94 2400.27 2400.79]\n   [2400.97 2400.53 2400.42 ... 2400.83 2400.58 2400.84]\n   [2400.85 2400.73 2400.95 ... 2400.99 2400.35 2400.05]]]\n\n\n [[[2400.28 2400.46 2400.55 ... 2400.61 2400.34 2400.14]\n   [2400.08 2400.12 2400.54 ... 2400.2  2400.97 2400.23]\n   [2400.66 2400.98 2400.55 ... 2400.45 2400.19 2400.53]\n   ...\n   [2400.91 2400.04 2400.96 ... 2400.5  2400.41 2400.68]\n   [2400.14 2400.36 2400.57 ... 2400.78 2400.7  2400.59]\n   [2400.01 2400.08 2400.34 ... 2400.32 2400.86 2400.44]]\n\n  [[2400.46 2400.68 2400.26 ... 2400.7  2400.74 2400.1 ]\n   [2400.21 2400.04 2400.68 ... 2400.68 2400.39 2400.23]\n   [2400.44 2400.38 2400.39 ... 2400.25 2400.36 2400.53]\n   ...\n   [2400.99 2400.5  2400.51 ... 2400.41 2400.95 2400.78]\n   [2400.6  2400.95 2400.96 ... 2400.05 2400.17 2400.06]\n   [2400.63 2400.71 2400.76 ... 2400.63 2400.03 2400.69]]\n\n  [[2400.75 2400.38 2400.21 ... 2400.75 2400.89 2400.26]\n   [2400.38 2400.98 2400.87 ... 2400.84 2400.45 2400.64]\n   [2400.1  2400.26 2400.44 ... 2400.58 2400.64 2401.  ]\n   ...\n   [2400.13 2400.26 2400.77 ... 2400.97 2400.02 2400.61]\n   [2400.88 2400.87 2400.53 ... 2400.73 2400.86 2400.21]\n   [2400.99 2400.25 2400.78 ... 2400.77 2400.54 2400.88]]\n\n  ...\n\n  [[2400.33 2400.07 2400.51 ... 2400.35 2400.76 2400.39]\n   [2400.18 2400.96 2400.45 ... 2400.98 2400.99 2400.22]\n   [2400.31 2400.25 2400.2  ... 2400.42 2400.74 2400.68]\n   ...\n   [2400.65 2400.06 2400.07 ... 2400.03 2400.63 2400.24]\n   [2400.62 2400.16 2400.2  ... 2400.07 2400.98 2400.62]\n   [2400.19 2400.82 2400.55 ... 2400.2  2400.29 2400.22]]\n\n  [[2400.44 2400.12 2400.19 ... 2400.7  2400.37 2400.12]\n   [2400.94 2400.17 2400.83 ... 2400.8  2400.23 2400.1 ]\n   [2400.59 2400.79 2400.47 ... 2400.52 2400.72 2400.51]\n   ...\n   [2400.09 2400.63 2400.59 ... 2400.49 2400.65 2400.82]\n   [2400.18 2400.86 2400.81 ... 2400.24 2400.75 2400.88]\n   [2400.37 2400.29 2400.19 ... 2400.09 2400.29 2400.25]]\n\n  [[2400.17 2400.96 2400.94 ... 2400.61 2400.47 2400.09]\n   [2400.52 2400.42 2400.56 ... 2400.28 2400.63 2400.89]\n   [2400.04 2400.8  2400.7  ... 2400.58 2400.74 2400.6 ]\n   ...\n   [2400.38 2400.64 2400.24 ... 2400.61 2400.15 2400.61]\n   [2400.14 2400.88 2400.21 ... 2400.87 2400.2  2400.73]\n   [2400.12 2400.36 2400.84 ... 2400.43 2400.65 2400.2 ]]]\n\n\n [[[2400.9  2400.43 2400.25 ... 2400.63 2400.25 2400.62]\n   [2400.86 2400.05 2400.03 ... 2400.37 2400.89 2400.51]\n   [2400.59 2400.49 2400.64 ... 2400.4  2400.13 2400.62]\n   ...\n   [2400.99 2400.1  2400.27 ... 2400.61 2400.69 2400.87]\n   [2400.52 2400.22 2400.85 ... 2400.38 2400.12 2401.  ]\n   [2400.9  2400.85 2400.94 ... 2400.3  2400.31 2400.03]]\n\n  [[2400.42 2400.02 2400.93 ... 2400.85 2400.69 2400.04]\n   [2400.42 2400.38 2400.47 ... 2400.18 2400.45 2400.79]\n   [2400.35 2400.85 2400.89 ... 2400.19 2400.3  2400.46]\n   ...\n   [2400.67 2400.06 2400.6  ... 2400.43 2400.61 2400.57]\n   [2400.19 2400.93 2400.67 ... 2400.44 2400.85 2400.69]\n   [2400.76 2400.95 2400.38 ... 2400.98 2400.05 2400.64]]\n\n  [[2400.75 2400.07 2400.22 ... 2400.23 2400.1  2400.62]\n   [2400.47 2400.62 2400.96 ... 2400.7  2400.23 2400.2 ]\n   [2400.72 2400.3  2400.87 ... 2400.79 2400.28 2400.87]\n   ...\n   [2400.64 2400.44 2400.12 ... 2400.84 2400.52 2400.03]\n   [2400.97 2400.08 2400.42 ... 2400.49 2400.8  2400.99]\n   [2400.87 2400.75 2400.02 ... 2400.87 2400.2  2400.76]]\n\n  ...\n\n  [[2400.74 2400.08 2400.83 ... 2400.39 2400.59 2400.05]\n   [2400.69 2400.68 2400.47 ... 2400.28 2400.11 2400.9 ]\n   [2400.91 2400.1  2400.02 ... 2400.36 2400.86 2400.44]\n   ...\n   [2400.89 2400.63 2400.7  ... 2400.81 2400.12 2400.5 ]\n   [2400.74 2400.15 2400.25 ... 2400.66 2400.47 2400.92]\n   [2400.89 2400.05 2400.17 ... 2400.65 2400.25 2400.89]]\n\n  [[2400.91 2400.23 2400.12 ... 2400.81 2400.21 2400.63]\n   [2400.21 2400.94 2400.48 ... 2400.8  2400.87 2400.89]\n   [2400.15 2400.02 2400.03 ... 2400.08 2400.21 2400.42]\n   ...\n   [2400.6  2400.01 2400.8  ... 2400.78 2400.23 2400.11]\n   [2400.15 2400.21 2400.83 ... 2400.69 2400.6  2400.77]\n   [2400.76 2400.96 2400.96 ... 2400.67 2400.13 2400.12]]\n\n  [[2400.11 2400.14 2400.39 ... 2400.08 2400.59 2400.47]\n   [2400.45 2400.79 2400.42 ... 2400.05 2400.7  2400.81]\n   [2400.63 2400.66 2400.52 ... 2400.46 2400.81 2400.31]\n   ...\n   [2400.12 2400.61 2400.98 ... 2400.71 2400.1  2400.73]\n   [2400.25 2400.37 2400.66 ... 2400.01 2400.07 2400.75]\n   [2400.3  2400.65 2400.54 ... 2400.68 2400.8  2400.18]]]\n\n\n [[[2400.   2400.16 2400.7  ... 2400.84 2400.27 2400.7 ]\n   [2400.67 2400.52 2400.84 ... 2400.47 2400.01 2401.  ]\n   [2400.2  2400.7  2400.56 ... 2400.47 2400.04 2400.67]\n   ...\n   [2400.06 2400.22 2400.49 ... 2400.26 2400.93 2400.59]\n   [2400.71 2400.85 2400.03 ... 2400.69 2400.55 2400.71]\n   [2400.98 2400.44 2400.43 ... 2400.77 2400.57 2400.14]]\n\n  [[2400.77 2400.75 2400.71 ... 2400.12 2400.4  2400.47]\n   [2400.26 2400.59 2400.83 ... 2400.11 2400.37 2400.02]\n   [2400.66 2400.44 2400.19 ... 2400.09 2400.13 2400.13]\n   ...\n   [2400.51 2400.02 2400.64 ... 2400.01 2400.49 2400.57]\n   [2400.62 2400.84 2400.02 ... 2400.12 2400.14 2400.79]\n   [2400.69 2400.35 2400.31 ... 2400.78 2400.88 2400.29]]\n\n  [[2400.64 2400.34 2400.58 ... 2400.91 2400.73 2400.78]\n   [2400.07 2400.29 2400.28 ... 2400.95 2400.11 2400.82]\n   [2400.65 2400.55 2400.57 ... 2400.58 2400.26 2400.01]\n   ...\n   [2400.59 2400.59 2400.71 ... 2400.71 2400.29 2400.71]\n   [2400.43 2400.52 2400.37 ... 2400.71 2400.04 2400.5 ]\n   [2400.56 2400.81 2400.48 ... 2400.03 2400.73 2400.86]]\n\n  ...\n\n  [[2400.96 2400.82 2400.91 ... 2400.64 2400.1  2400.23]\n   [2400.19 2400.07 2400.29 ... 2400.15 2400.93 2400.97]\n   [2400.66 2400.23 2400.03 ... 2400.16 2400.5  2400.02]\n   ...\n   [2400.26 2400.79 2400.79 ... 2400.25 2400.8  2400.29]\n   [2400.24 2400.42 2400.42 ... 2400.31 2400.7  2400.87]\n   [2400.41 2400.95 2400.21 ... 2400.46 2400.51 2400.01]]\n\n  [[2400.56 2400.5  2400.9  ... 2400.89 2400.49 2400.19]\n   [2400.13 2400.2  2400.14 ... 2400.45 2400.04 2400.18]\n   [2400.23 2400.3  2400.34 ... 2400.88 2400.62 2400.33]\n   ...\n   [2400.64 2400.99 2400.7  ... 2400.28 2400.95 2400.62]\n   [2400.73 2400.28 2400.39 ... 2400.71 2400.95 2400.52]\n   [2400.44 2400.59 2400.85 ... 2400.61 2400.16 2400.63]]\n\n  [[2400.16 2400.58 2400.18 ... 2400.97 2400.14 2400.29]\n   [2400.72 2400.44 2400.61 ... 2400.75 2400.08 2400.99]\n   [2400.07 2400.83 2400.88 ... 2400.11 2400.27 2400.82]\n   ...\n   [2400.84 2400.6  2400.79 ... 2400.08 2400.73 2400.52]\n   [2400.97 2400.7  2400.12 ... 2400.32 2400.55 2400.72]\n   [2400.73 2400.69 2400.25 ... 2400.9  2400.13 2400.46]]]]\nindex: 241: value: [[[[2410.44 2410.23 2410.59 ... 2410.12 2410.54 2410.63]\n   [2410.28 2410.99 2410.8  ... 2410.2  2410.43 2410.62]\n   [2410.64 2410.89 2410.35 ... 2410.36 2410.96 2410.79]\n   ...\n   [2410.73 2410.09 2410.03 ... 2410.74 2410.06 2410.51]\n   [2410.41 2410.23 2410.91 ... 2410.39 2410.41 2410.45]\n   [2410.68 2410.32 2410.78 ... 2410.95 2410.58 2410.44]]\n\n  [[2410.06 2410.59 2410.59 ... 2410.04 2410.62 2410.48]\n   [2410.06 2410.53 2410.1  ... 2410.53 2410.93 2410.16]\n   [2410.45 2410.72 2410.91 ... 2410.27 2410.03 2410.49]\n   ...\n   [2410.66 2410.32 2410.61 ... 2410.86 2410.37 2410.55]\n   [2410.96 2410.08 2410.84 ... 2410.61 2410.58 2410.03]\n   [2410.77 2410.66 2410.09 ... 2410.93 2410.99 2410.98]]\n\n  [[2410.63 2410.12 2410.73 ... 2410.6  2410.04 2410.54]\n   [2410.09 2410.12 2410.38 ... 2410.58 2410.71 2410.05]\n   [2410.64 2410.11 2410.57 ... 2410.22 2410.67 2410.19]\n   ...\n   [2411.   2410.42 2410.22 ... 2410.28 2410.25 2410.15]\n   [2410.57 2410.49 2410.95 ... 2410.49 2410.24 2410.52]\n   [2410.77 2410.64 2410.39 ... 2410.62 2410.82 2410.7 ]]\n\n  ...\n\n  [[2410.13 2410.8  2410.73 ... 2410.05 2410.39 2410.96]\n   [2410.91 2410.82 2410.07 ... 2410.71 2410.64 2410.17]\n   [2410.17 2410.3  2410.14 ... 2410.67 2410.01 2410.98]\n   ...\n   [2410.35 2410.11 2410.85 ... 2410.7  2410.94 2410.14]\n   [2410.66 2410.21 2410.59 ... 2410.33 2410.72 2410.05]\n   [2410.2  2410.16 2410.17 ... 2410.24 2410.38 2410.49]]\n\n  [[2410.79 2410.83 2410.86 ... 2410.4  2410.62 2410.52]\n   [2410.46 2410.13 2410.12 ... 2410.32 2410.85 2410.54]\n   [2410.48 2410.21 2410.52 ... 2410.63 2410.46 2410.17]\n   ...\n   [2410.04 2410.35 2410.09 ... 2410.27 2410.36 2410.82]\n   [2410.75 2410.68 2410.22 ... 2410.63 2410.87 2410.07]\n   [2410.04 2410.89 2410.29 ... 2410.51 2410.25 2410.95]]\n\n  [[2410.73 2410.46 2410.64 ... 2410.44 2410.55 2410.05]\n   [2410.68 2410.46 2410.36 ... 2410.82 2410.72 2410.79]\n   [2410.53 2410.56 2410.2  ... 2410.66 2410.66 2410.53]\n   ...\n   [2410.38 2410.08 2410.8  ... 2410.63 2410.71 2410.45]\n   [2410.33 2410.22 2410.06 ... 2410.23 2410.98 2410.47]\n   [2410.26 2410.42 2410.28 ... 2410.75 2410.72 2410.05]]]\n\n\n [[[2410.32 2410.24 2410.04 ... 2410.56 2410.5  2410.75]\n   [2410.04 2410.85 2410.63 ... 2410.32 2410.35 2410.51]\n   [2410.92 2410.1  2410.11 ... 2410.99 2410.65 2410.35]\n   ...\n   [2410.23 2410.43 2410.67 ... 2410.34 2410.83 2410.35]\n   [2410.2  2410.96 2410.95 ... 2410.97 2410.46 2410.02]\n   [2410.56 2410.58 2410.57 ... 2410.07 2410.1  2410.64]]\n\n  [[2410.3  2410.78 2410.99 ... 2410.9  2410.08 2410.36]\n   [2410.74 2410.03 2410.5  ... 2410.66 2410.53 2410.08]\n   [2410.68 2410.14 2410.58 ... 2410.36 2410.67 2410.26]\n   ...\n   [2410.13 2410.26 2410.1  ... 2410.74 2410.42 2410.59]\n   [2410.76 2410.72 2410.15 ... 2410.23 2410.04 2410.95]\n   [2410.26 2410.47 2410.39 ... 2410.46 2410.02 2410.15]]\n\n  [[2410.14 2410.31 2410.37 ... 2410.2  2410.2  2410.31]\n   [2410.25 2410.6  2410.3  ... 2410.41 2410.42 2410.24]\n   [2410.87 2410.4  2410.45 ... 2410.7  2410.23 2410.58]\n   ...\n   [2410.25 2410.02 2410.03 ... 2410.12 2410.96 2410.34]\n   [2410.37 2410.1  2410.79 ... 2410.91 2410.3  2410.12]\n   [2410.45 2410.29 2410.55 ... 2410.34 2410.14 2410.13]]\n\n  ...\n\n  [[2410.49 2410.62 2410.01 ... 2410.85 2410.39 2410.82]\n   [2410.3  2410.71 2410.94 ... 2410.95 2410.86 2410.23]\n   [2410.75 2410.83 2410.15 ... 2410.23 2410.36 2410.46]\n   ...\n   [2410.42 2410.48 2410.13 ... 2410.36 2410.38 2410.52]\n   [2410.94 2410.84 2410.27 ... 2410.2  2410.71 2410.85]\n   [2410.03 2410.6  2410.09 ... 2410.67 2410.92 2410.66]]\n\n  [[2410.75 2410.39 2410.21 ... 2410.95 2410.58 2410.12]\n   [2410.05 2410.56 2410.36 ... 2410.4  2410.05 2410.31]\n   [2410.81 2410.22 2410.79 ... 2410.36 2410.79 2410.18]\n   ...\n   [2410.6  2410.52 2410.94 ... 2410.3  2410.61 2410.28]\n   [2410.69 2410.22 2410.11 ... 2410.52 2410.73 2410.94]\n   [2410.55 2410.73 2410.61 ... 2410.54 2410.16 2410.52]]\n\n  [[2410.81 2410.37 2410.57 ... 2410.26 2410.9  2410.87]\n   [2410.99 2410.84 2410.86 ... 2410.96 2410.66 2410.95]\n   [2410.09 2410.24 2410.27 ... 2410.55 2410.88 2410.2 ]\n   ...\n   [2410.84 2410.25 2410.8  ... 2410.14 2410.04 2410.87]\n   [2410.2  2410.63 2410.28 ... 2410.68 2410.93 2410.38]\n   [2410.69 2410.76 2410.19 ... 2410.   2410.27 2410.62]]]\n\n\n [[[2410.88 2410.98 2410.44 ... 2410.1  2410.29 2410.14]\n   [2410.59 2410.65 2410.23 ... 2410.58 2410.18 2410.34]\n   [2410.97 2411.   2410.84 ... 2410.24 2410.92 2410.12]\n   ...\n   [2410.54 2410.41 2410.93 ... 2410.41 2410.39 2410.65]\n   [2410.14 2410.8  2410.15 ... 2410.05 2410.99 2410.03]\n   [2410.68 2410.37 2410.86 ... 2410.64 2410.33 2410.93]]\n\n  [[2410.72 2410.72 2410.44 ... 2410.84 2410.55 2410.94]\n   [2410.   2410.13 2410.53 ... 2410.84 2410.28 2410.13]\n   [2410.17 2410.08 2410.66 ... 2410.75 2410.91 2410.88]\n   ...\n   [2410.2  2410.85 2410.34 ... 2410.77 2410.62 2410.31]\n   [2410.99 2410.73 2410.42 ... 2411.   2410.38 2410.5 ]\n   [2410.07 2410.96 2410.74 ... 2410.24 2410.9  2410.46]]\n\n  [[2410.45 2410.17 2410.25 ... 2410.47 2410.21 2410.74]\n   [2410.6  2410.63 2410.31 ... 2410.09 2410.91 2410.7 ]\n   [2410.02 2410.42 2410.12 ... 2410.06 2410.44 2410.38]\n   ...\n   [2410.25 2410.98 2410.16 ... 2410.8  2410.31 2410.36]\n   [2410.49 2410.86 2410.62 ... 2410.65 2410.62 2410.46]\n   [2410.55 2410.22 2410.65 ... 2410.26 2410.08 2410.11]]\n\n  ...\n\n  [[2410.52 2410.66 2410.79 ... 2410.3  2410.79 2410.65]\n   [2410.41 2410.84 2410.09 ... 2410.07 2410.55 2410.31]\n   [2410.83 2410.05 2410.79 ... 2410.46 2410.13 2410.57]\n   ...\n   [2410.06 2410.52 2410.77 ... 2410.19 2410.5  2410.52]\n   [2410.69 2410.59 2410.31 ... 2410.3  2410.81 2410.47]\n   [2410.57 2410.31 2410.53 ... 2410.01 2410.91 2410.19]]\n\n  [[2410.86 2410.28 2410.44 ... 2410.86 2410.45 2410.35]\n   [2410.74 2410.01 2410.27 ... 2410.93 2410.72 2410.5 ]\n   [2410.88 2410.2  2410.29 ... 2410.93 2410.33 2410.81]\n   ...\n   [2410.69 2410.82 2410.64 ... 2410.53 2410.   2410.02]\n   [2410.22 2410.23 2410.12 ... 2410.61 2410.68 2410.76]\n   [2410.54 2410.25 2410.3  ... 2410.65 2410.54 2410.18]]\n\n  [[2410.58 2410.03 2410.18 ... 2410.39 2410.63 2410.43]\n   [2410.27 2410.64 2410.07 ... 2411.   2410.18 2410.59]\n   [2410.57 2410.98 2410.83 ... 2410.45 2410.25 2410.18]\n   ...\n   [2410.52 2410.91 2410.83 ... 2410.16 2410.28 2410.09]\n   [2410.84 2410.   2410.74 ... 2410.7  2410.67 2410.91]\n   [2410.1  2410.55 2410.54 ... 2410.95 2410.95 2410.15]]]\n\n\n [[[2410.84 2410.74 2410.44 ... 2410.27 2410.62 2410.5 ]\n   [2410.3  2410.94 2410.51 ... 2410.26 2410.36 2410.43]\n   [2410.21 2410.45 2410.16 ... 2410.62 2410.25 2410.95]\n   ...\n   [2410.32 2410.87 2410.56 ... 2410.34 2410.86 2410.17]\n   [2410.72 2410.86 2410.11 ... 2410.24 2410.83 2410.78]\n   [2410.5  2410.47 2410.7  ... 2410.44 2410.56 2410.92]]\n\n  [[2410.21 2410.42 2410.08 ... 2410.11 2410.48 2410.18]\n   [2410.26 2410.97 2410.97 ... 2410.78 2410.35 2410.47]\n   [2410.04 2410.3  2410.62 ... 2410.13 2410.12 2410.78]\n   ...\n   [2410.69 2410.48 2410.08 ... 2410.63 2410.67 2410.12]\n   [2410.52 2410.67 2410.56 ... 2410.33 2410.4  2410.55]\n   [2410.65 2410.4  2410.54 ... 2410.64 2410.58 2410.44]]\n\n  [[2410.85 2410.76 2410.13 ... 2410.82 2410.04 2410.67]\n   [2410.16 2410.38 2410.64 ... 2410.93 2410.86 2410.3 ]\n   [2410.02 2410.02 2410.02 ... 2410.91 2410.51 2410.11]\n   ...\n   [2410.59 2410.95 2410.14 ... 2410.85 2410.56 2410.25]\n   [2410.91 2410.79 2410.67 ... 2410.24 2410.11 2410.29]\n   [2410.36 2410.61 2410.13 ... 2410.87 2410.47 2410.63]]\n\n  ...\n\n  [[2410.69 2410.8  2410.99 ... 2410.1  2410.76 2410.74]\n   [2410.49 2410.4  2410.49 ... 2410.57 2410.74 2410.76]\n   [2410.06 2410.58 2410.93 ... 2410.28 2410.86 2410.29]\n   ...\n   [2410.27 2410.48 2410.45 ... 2410.74 2410.1  2410.94]\n   [2410.25 2410.03 2410.18 ... 2410.73 2410.2  2410.64]\n   [2410.99 2410.07 2410.77 ... 2410.12 2410.55 2410.14]]\n\n  [[2410.18 2410.98 2410.74 ... 2410.77 2410.58 2410.98]\n   [2410.28 2410.32 2410.96 ... 2410.56 2410.54 2410.46]\n   [2410.72 2410.88 2410.6  ... 2410.15 2410.42 2410.43]\n   ...\n   [2410.79 2410.16 2410.88 ... 2410.81 2410.53 2410.87]\n   [2410.03 2410.54 2410.85 ... 2410.93 2410.54 2410.1 ]\n   [2410.36 2410.3  2410.8  ... 2410.36 2410.41 2410.99]]\n\n  [[2410.33 2410.11 2410.1  ... 2410.29 2410.09 2410.93]\n   [2410.76 2410.47 2410.07 ... 2410.21 2410.31 2410.03]\n   [2410.73 2410.63 2410.25 ... 2410.34 2410.54 2410.91]\n   ...\n   [2410.83 2410.42 2410.46 ... 2410.42 2410.28 2410.67]\n   [2410.83 2410.13 2410.84 ... 2410.3  2410.72 2410.66]\n   [2410.47 2410.6  2410.19 ... 2410.07 2410.27 2410.75]]]]\nindex: 242: value: [[[[2420.45 2420.99 2420.13 ... 2420.83 2420.61 2420.3 ]\n   [2420.3  2420.38 2420.47 ... 2420.82 2420.24 2420.14]\n   [2420.72 2420.24 2420.9  ... 2420.02 2420.53 2420.43]\n   ...\n   [2420.14 2420.51 2420.81 ... 2420.7  2420.66 2420.1 ]\n   [2420.6  2420.1  2420.5  ... 2420.08 2420.14 2420.83]\n   [2420.2  2421.   2420.54 ... 2420.98 2420.02 2420.26]]\n\n  [[2420.75 2420.47 2420.98 ... 2420.33 2420.63 2420.63]\n   [2420.7  2420.26 2420.19 ... 2420.71 2420.02 2420.96]\n   [2420.03 2420.86 2420.24 ... 2420.9  2420.5  2420.26]\n   ...\n   [2420.8  2420.28 2420.19 ... 2420.51 2420.36 2420.36]\n   [2420.05 2420.61 2420.9  ... 2420.34 2420.36 2420.81]\n   [2420.46 2420.12 2420.13 ... 2420.88 2420.36 2420.81]]\n\n  [[2420.38 2420.63 2420.87 ... 2420.05 2420.46 2420.63]\n   [2420.28 2420.46 2420.22 ... 2420.1  2420.53 2420.96]\n   [2420.11 2420.37 2420.87 ... 2420.2  2420.9  2420.04]\n   ...\n   [2420.37 2420.26 2421.   ... 2420.34 2420.47 2420.57]\n   [2420.21 2420.85 2420.47 ... 2420.73 2420.89 2420.43]\n   [2420.42 2420.43 2420.38 ... 2420.52 2420.94 2420.76]]\n\n  ...\n\n  [[2420.99 2420.19 2420.85 ... 2420.43 2420.39 2420.45]\n   [2420.38 2420.17 2420.57 ... 2420.47 2420.65 2420.2 ]\n   [2420.   2420.3  2420.27 ... 2420.65 2420.   2420.24]\n   ...\n   [2420.97 2420.5  2420.24 ... 2420.05 2420.38 2420.11]\n   [2420.77 2420.13 2420.78 ... 2420.46 2420.02 2420.96]\n   [2420.98 2420.29 2420.16 ... 2420.23 2420.08 2420.99]]\n\n  [[2420.17 2420.92 2420.74 ... 2420.34 2420.14 2420.98]\n   [2420.02 2420.67 2420.55 ... 2420.17 2420.14 2420.77]\n   [2420.56 2420.61 2420.39 ... 2420.29 2420.56 2420.31]\n   ...\n   [2420.69 2420.22 2420.34 ... 2420.55 2420.9  2420.39]\n   [2420.07 2420.61 2420.43 ... 2420.88 2420.34 2421.  ]\n   [2420.43 2420.27 2420.8  ... 2420.1  2420.24 2420.98]]\n\n  [[2420.62 2420.44 2420.04 ... 2420.06 2420.74 2420.44]\n   [2420.59 2420.04 2420.05 ... 2420.27 2420.54 2420.25]\n   [2420.52 2420.84 2420.98 ... 2420.59 2420.4  2420.9 ]\n   ...\n   [2420.56 2420.92 2420.34 ... 2420.2  2420.63 2420.22]\n   [2420.16 2420.99 2420.76 ... 2420.65 2420.48 2420.8 ]\n   [2420.6  2420.22 2420.1  ... 2420.43 2420.32 2420.71]]]\n\n\n [[[2420.81 2420.77 2420.34 ... 2420.18 2420.39 2420.27]\n   [2420.08 2420.93 2420.31 ... 2420.58 2420.58 2420.08]\n   [2420.81 2420.36 2420.52 ... 2420.32 2420.6  2420.83]\n   ...\n   [2420.03 2420.39 2420.29 ... 2420.11 2420.88 2420.91]\n   [2420.11 2420.7  2420.03 ... 2420.39 2420.62 2420.4 ]\n   [2420.21 2420.21 2420.14 ... 2420.58 2420.62 2420.09]]\n\n  [[2420.39 2420.83 2420.34 ... 2420.49 2420.36 2420.14]\n   [2420.62 2420.08 2420.75 ... 2420.17 2420.15 2420.72]\n   [2420.43 2420.59 2420.14 ... 2420.9  2420.66 2420.82]\n   ...\n   [2420.5  2420.41 2420.83 ... 2420.19 2420.43 2420.35]\n   [2420.18 2420.64 2420.7  ... 2420.2  2420.34 2420.57]\n   [2420.87 2420.41 2420.76 ... 2420.73 2420.11 2420.72]]\n\n  [[2420.24 2420.39 2420.77 ... 2420.46 2420.39 2420.19]\n   [2420.32 2420.91 2420.05 ... 2420.81 2420.03 2420.84]\n   [2420.88 2420.88 2420.9  ... 2420.89 2420.53 2420.02]\n   ...\n   [2420.7  2420.32 2420.49 ... 2420.03 2420.1  2420.54]\n   [2420.37 2420.93 2420.26 ... 2420.12 2420.35 2420.82]\n   [2420.01 2420.26 2420.15 ... 2420.9  2420.76 2420.71]]\n\n  ...\n\n  [[2420.95 2420.71 2420.73 ... 2420.47 2420.66 2420.91]\n   [2420.47 2420.45 2420.06 ... 2420.94 2420.91 2420.54]\n   [2420.34 2420.21 2420.33 ... 2420.9  2420.1  2420.13]\n   ...\n   [2420.34 2420.48 2420.77 ... 2420.27 2420.17 2420.6 ]\n   [2420.19 2420.65 2420.01 ... 2420.99 2420.64 2420.44]\n   [2420.66 2420.41 2420.71 ... 2420.87 2420.79 2420.92]]\n\n  [[2420.76 2420.32 2420.41 ... 2420.41 2420.91 2420.42]\n   [2420.92 2420.56 2420.88 ... 2420.1  2420.04 2420.52]\n   [2420.7  2420.68 2420.66 ... 2420.15 2420.26 2420.74]\n   ...\n   [2420.86 2420.31 2420.1  ... 2420.22 2420.67 2420.18]\n   [2420.45 2420.36 2420.83 ... 2420.77 2420.32 2420.24]\n   [2420.13 2420.55 2420.91 ... 2420.07 2420.69 2420.98]]\n\n  [[2420.27 2420.03 2420.98 ... 2420.32 2420.49 2420.29]\n   [2420.95 2420.96 2420.4  ... 2420.52 2420.3  2420.43]\n   [2420.95 2420.62 2420.43 ... 2420.4  2420.87 2420.63]\n   ...\n   [2420.03 2420.42 2420.2  ... 2420.7  2420.1  2420.45]\n   [2420.01 2420.78 2420.59 ... 2420.09 2420.95 2420.55]\n   [2420.88 2420.78 2420.63 ... 2420.98 2420.71 2420.31]]]\n\n\n [[[2420.48 2420.52 2420.34 ... 2420.06 2420.94 2420.21]\n   [2420.35 2420.02 2420.67 ... 2420.64 2420.55 2420.58]\n   [2420.36 2420.07 2420.57 ... 2420.78 2420.68 2420.74]\n   ...\n   [2420.16 2420.6  2420.76 ... 2420.78 2420.86 2420.23]\n   [2420.96 2420.42 2420.29 ... 2420.36 2420.13 2420.91]\n   [2420.77 2420.71 2420.14 ... 2420.05 2420.25 2420.54]]\n\n  [[2420.15 2420.84 2420.71 ... 2420.06 2420.01 2420.74]\n   [2420.25 2420.82 2420.92 ... 2420.69 2420.59 2420.04]\n   [2420.83 2420.47 2420.13 ... 2420.51 2420.98 2420.92]\n   ...\n   [2420.56 2420.82 2420.46 ... 2420.83 2420.44 2420.08]\n   [2420.89 2420.98 2420.04 ... 2420.18 2420.49 2420.73]\n   [2420.11 2420.29 2420.02 ... 2420.83 2420.53 2420.11]]\n\n  [[2420.41 2420.67 2420.09 ... 2420.58 2420.08 2420.53]\n   [2420.78 2420.12 2420.52 ... 2420.2  2420.72 2420.02]\n   [2420.06 2420.92 2420.79 ... 2420.05 2420.96 2420.28]\n   ...\n   [2420.44 2420.29 2420.23 ... 2420.75 2420.73 2420.79]\n   [2420.17 2420.59 2420.24 ... 2420.74 2420.95 2420.66]\n   [2420.72 2420.05 2420.71 ... 2420.2  2420.95 2420.33]]\n\n  ...\n\n  [[2420.21 2420.38 2420.59 ... 2420.14 2420.23 2420.87]\n   [2420.48 2420.63 2420.83 ... 2420.84 2420.57 2420.9 ]\n   [2420.41 2420.23 2420.08 ... 2420.14 2420.83 2420.46]\n   ...\n   [2420.14 2420.68 2420.8  ... 2420.49 2420.48 2420.92]\n   [2420.21 2420.65 2420.73 ... 2420.83 2420.65 2420.34]\n   [2420.83 2420.28 2420.21 ... 2420.51 2420.18 2420.54]]\n\n  [[2420.11 2420.51 2420.09 ... 2420.19 2420.08 2420.24]\n   [2420.49 2420.02 2420.54 ... 2420.82 2420.38 2420.23]\n   [2420.2  2420.87 2420.58 ... 2420.62 2420.66 2420.67]\n   ...\n   [2420.34 2420.76 2420.12 ... 2420.88 2420.43 2420.55]\n   [2420.89 2420.79 2420.28 ... 2420.55 2420.45 2420.49]\n   [2420.22 2420.82 2420.63 ... 2420.59 2420.21 2420.12]]\n\n  [[2420.28 2420.12 2420.9  ... 2420.2  2420.87 2420.99]\n   [2420.48 2420.43 2420.06 ... 2420.9  2420.09 2420.66]\n   [2420.88 2420.7  2420.84 ... 2420.13 2420.34 2420.47]\n   ...\n   [2420.37 2420.36 2420.9  ... 2420.19 2420.09 2420.95]\n   [2420.84 2420.13 2420.84 ... 2420.33 2420.05 2420.7 ]\n   [2420.74 2420.99 2420.99 ... 2420.36 2420.39 2420.71]]]\n\n\n [[[2420.32 2420.92 2420.13 ... 2420.68 2420.97 2420.1 ]\n   [2420.5  2420.67 2420.35 ... 2420.77 2420.91 2420.09]\n   [2420.45 2420.24 2420.48 ... 2420.13 2420.79 2420.87]\n   ...\n   [2420.98 2420.05 2420.58 ... 2420.55 2420.57 2420.31]\n   [2420.39 2420.76 2420.89 ... 2420.89 2420.16 2420.02]\n   [2420.58 2420.33 2420.66 ... 2420.39 2420.11 2420.16]]\n\n  [[2420.79 2420.88 2420.95 ... 2420.91 2420.25 2420.44]\n   [2420.58 2420.43 2420.71 ... 2420.22 2420.06 2420.86]\n   [2420.85 2420.83 2420.04 ... 2420.18 2420.5  2420.41]\n   ...\n   [2420.22 2420.09 2420.08 ... 2420.03 2420.46 2420.88]\n   [2420.91 2420.17 2420.45 ... 2420.73 2420.07 2420.24]\n   [2420.03 2420.01 2420.4  ... 2420.15 2420.21 2420.99]]\n\n  [[2420.66 2420.03 2420.36 ... 2420.19 2420.21 2420.13]\n   [2420.27 2420.47 2420.5  ... 2420.13 2420.75 2420.24]\n   [2420.25 2420.2  2420.51 ... 2420.02 2420.9  2420.94]\n   ...\n   [2420.57 2420.67 2420.51 ... 2420.04 2420.76 2420.  ]\n   [2420.07 2420.31 2420.55 ... 2420.11 2420.33 2420.54]\n   [2420.16 2420.09 2420.68 ... 2420.8  2420.44 2420.18]]\n\n  ...\n\n  [[2420.39 2420.12 2420.23 ... 2420.01 2420.76 2420.96]\n   [2420.64 2420.8  2420.51 ... 2420.81 2420.76 2420.78]\n   [2420.19 2420.25 2420.51 ... 2420.43 2420.92 2420.14]\n   ...\n   [2420.1  2420.62 2420.22 ... 2420.9  2420.84 2420.15]\n   [2420.78 2420.73 2420.31 ... 2420.12 2420.02 2420.09]\n   [2420.8  2420.71 2420.92 ... 2420.95 2420.83 2420.14]]\n\n  [[2420.8  2420.46 2420.37 ... 2420.26 2420.9  2420.18]\n   [2421.   2420.72 2420.29 ... 2420.31 2420.61 2420.17]\n   [2420.92 2420.77 2420.77 ... 2420.85 2420.92 2420.38]\n   ...\n   [2420.06 2420.31 2420.84 ... 2420.2  2420.09 2420.19]\n   [2420.23 2420.7  2420.23 ... 2420.04 2420.5  2420.66]\n   [2420.58 2420.22 2420.28 ... 2420.91 2420.82 2420.93]]\n\n  [[2420.45 2420.47 2420.74 ... 2420.65 2420.56 2420.88]\n   [2420.48 2420.67 2420.18 ... 2420.36 2420.9  2420.18]\n   [2420.57 2420.24 2420.61 ... 2420.39 2420.05 2420.17]\n   ...\n   [2420.13 2420.1  2420.37 ... 2420.56 2420.6  2420.07]\n   [2420.   2420.99 2420.15 ... 2420.12 2420.03 2420.21]\n   [2420.86 2420.77 2420.58 ... 2420.87 2420.29 2420.4 ]]]]\nindex: 243: value: [[[[2430.09 2430.46 2430.09 ... 2430.73 2430.07 2430.84]\n   [2430.28 2430.2  2430.88 ... 2430.28 2430.64 2430.06]\n   [2430.92 2430.72 2430.55 ... 2430.22 2430.85 2430.15]\n   ...\n   [2431.   2430.7  2430.73 ... 2430.13 2430.86 2430.94]\n   [2430.13 2430.01 2430.34 ... 2430.7  2430.9  2430.74]\n   [2430.59 2430.9  2430.13 ... 2430.7  2430.71 2430.61]]\n\n  [[2430.81 2430.43 2430.34 ... 2430.03 2430.38 2430.33]\n   [2430.   2430.92 2430.28 ... 2430.51 2430.54 2430.57]\n   [2430.25 2430.42 2430.91 ... 2430.5  2430.77 2430.56]\n   ...\n   [2430.42 2430.41 2430.99 ... 2430.58 2430.94 2430.  ]\n   [2430.6  2430.98 2430.53 ... 2430.91 2430.95 2430.56]\n   [2430.87 2430.52 2430.31 ... 2430.58 2430.62 2430.31]]\n\n  [[2430.47 2430.47 2430.31 ... 2430.87 2430.77 2430.87]\n   [2430.9  2430.34 2430.72 ... 2430.46 2430.94 2430.08]\n   [2430.17 2430.62 2430.71 ... 2430.4  2430.79 2430.37]\n   ...\n   [2430.28 2430.9  2430.26 ... 2430.38 2430.08 2430.01]\n   [2430.26 2430.54 2430.38 ... 2430.23 2430.82 2430.28]\n   [2430.02 2430.66 2430.73 ... 2430.97 2430.87 2430.31]]\n\n  ...\n\n  [[2430.01 2430.52 2430.5  ... 2430.36 2430.66 2430.38]\n   [2430.99 2430.6  2430.92 ... 2430.64 2430.44 2430.85]\n   [2430.81 2430.38 2430.25 ... 2430.59 2430.21 2430.68]\n   ...\n   [2430.69 2430.25 2430.5  ... 2430.07 2430.61 2430.61]\n   [2430.92 2430.25 2430.71 ... 2430.87 2430.12 2430.49]\n   [2430.25 2430.75 2430.53 ... 2430.89 2430.07 2430.45]]\n\n  [[2430.05 2430.54 2430.43 ... 2430.75 2430.9  2430.73]\n   [2430.99 2430.91 2430.05 ... 2430.15 2431.   2430.04]\n   [2430.27 2430.95 2430.13 ... 2430.01 2430.63 2430.59]\n   ...\n   [2430.73 2430.47 2430.92 ... 2430.46 2430.06 2430.92]\n   [2430.13 2430.7  2430.71 ... 2430.49 2430.77 2430.01]\n   [2430.96 2430.27 2430.34 ... 2430.37 2430.27 2430.24]]\n\n  [[2430.29 2430.92 2430.08 ... 2430.93 2430.3  2430.3 ]\n   [2430.4  2430.92 2430.16 ... 2430.59 2430.18 2430.16]\n   [2430.38 2430.18 2430.36 ... 2430.9  2430.06 2430.54]\n   ...\n   [2430.12 2430.97 2430.6  ... 2430.54 2430.65 2430.37]\n   [2430.03 2430.72 2430.55 ... 2430.17 2430.18 2430.57]\n   [2430.48 2430.11 2430.37 ... 2430.06 2430.45 2430.76]]]\n\n\n [[[2430.8  2430.87 2430.04 ... 2430.98 2430.38 2430.86]\n   [2430.6  2431.   2430.27 ... 2430.17 2430.37 2430.86]\n   [2430.23 2430.91 2430.07 ... 2430.05 2430.17 2430.49]\n   ...\n   [2430.34 2430.85 2430.6  ... 2430.07 2430.88 2430.03]\n   [2430.82 2430.85 2430.38 ... 2430.4  2431.   2430.46]\n   [2430.56 2430.16 2430.47 ... 2430.75 2430.86 2430.56]]\n\n  [[2430.32 2430.39 2430.04 ... 2430.32 2430.18 2430.67]\n   [2430.21 2430.98 2430.1  ... 2430.91 2430.81 2430.63]\n   [2430.34 2430.34 2430.1  ... 2430.84 2430.16 2430.13]\n   ...\n   [2430.12 2430.41 2430.74 ... 2430.44 2430.9  2430.3 ]\n   [2430.22 2430.14 2430.58 ... 2430.63 2430.25 2430.82]\n   [2430.41 2430.9  2430.34 ... 2430.91 2430.65 2430.94]]\n\n  [[2430.56 2430.27 2430.97 ... 2430.34 2430.35 2430.29]\n   [2430.58 2430.49 2430.99 ... 2430.54 2430.06 2430.83]\n   [2430.62 2430.75 2430.31 ... 2430.78 2430.73 2430.81]\n   ...\n   [2430.9  2430.17 2430.89 ... 2430.54 2430.87 2430.78]\n   [2430.14 2430.13 2430.83 ... 2430.83 2430.75 2430.73]\n   [2430.22 2430.29 2430.22 ... 2430.41 2430.11 2430.78]]\n\n  ...\n\n  [[2430.77 2430.43 2430.44 ... 2430.86 2430.7  2430.59]\n   [2430.79 2430.73 2430.97 ... 2430.61 2430.54 2430.82]\n   [2430.65 2430.98 2430.45 ... 2430.59 2430.71 2430.61]\n   ...\n   [2430.85 2430.56 2430.67 ... 2430.8  2430.8  2430.51]\n   [2430.91 2430.97 2430.31 ... 2430.56 2430.56 2430.44]\n   [2430.48 2430.52 2430.39 ... 2430.72 2430.06 2430.74]]\n\n  [[2430.02 2430.98 2430.92 ... 2430.91 2430.72 2430.33]\n   [2430.69 2430.82 2430.17 ... 2430.91 2430.67 2430.2 ]\n   [2430.85 2430.26 2430.78 ... 2430.93 2430.26 2430.91]\n   ...\n   [2430.85 2430.55 2430.99 ... 2430.69 2430.14 2430.69]\n   [2430.87 2430.84 2430.1  ... 2430.56 2430.37 2430.37]\n   [2430.43 2430.48 2430.52 ... 2430.29 2430.91 2430.44]]\n\n  [[2430.06 2430.76 2430.73 ... 2430.92 2430.06 2430.73]\n   [2430.68 2430.93 2430.85 ... 2430.97 2430.02 2430.81]\n   [2430.35 2430.22 2430.1  ... 2430.36 2430.2  2430.4 ]\n   ...\n   [2430.   2430.83 2430.69 ... 2430.59 2430.35 2430.79]\n   [2430.31 2430.37 2430.89 ... 2430.71 2430.06 2430.19]\n   [2430.02 2430.56 2430.13 ... 2430.34 2430.97 2430.39]]]\n\n\n [[[2430.41 2430.58 2430.3  ... 2430.34 2430.72 2430.91]\n   [2430.71 2430.55 2430.26 ... 2430.03 2430.93 2430.11]\n   [2430.47 2430.19 2430.6  ... 2430.9  2430.05 2430.82]\n   ...\n   [2430.33 2430.63 2430.98 ... 2430.88 2430.5  2430.46]\n   [2430.63 2430.89 2430.72 ... 2430.13 2430.65 2430.89]\n   [2430.8  2430.09 2430.05 ... 2430.85 2430.77 2430.19]]\n\n  [[2430.44 2430.85 2430.13 ... 2430.09 2430.99 2430.74]\n   [2430.24 2430.94 2430.11 ... 2430.79 2430.34 2430.6 ]\n   [2430.63 2430.76 2430.97 ... 2430.43 2430.44 2430.36]\n   ...\n   [2430.96 2430.27 2430.98 ... 2430.12 2430.41 2430.52]\n   [2430.48 2430.4  2430.3  ... 2430.3  2430.08 2430.25]\n   [2430.29 2430.09 2430.11 ... 2430.38 2430.2  2430.95]]\n\n  [[2430.57 2430.19 2430.29 ... 2430.91 2430.43 2430.37]\n   [2430.4  2430.33 2430.32 ... 2430.65 2430.03 2430.84]\n   [2430.44 2430.91 2430.4  ... 2430.16 2430.14 2430.62]\n   ...\n   [2430.28 2430.7  2430.71 ... 2430.47 2430.11 2430.22]\n   [2430.88 2430.09 2430.99 ... 2430.03 2430.26 2430.25]\n   [2430.85 2430.26 2430.96 ... 2430.32 2431.   2430.65]]\n\n  ...\n\n  [[2430.36 2430.92 2430.81 ... 2430.54 2430.17 2430.31]\n   [2430.38 2430.98 2430.65 ... 2430.77 2430.36 2430.83]\n   [2430.62 2430.41 2430.89 ... 2430.31 2430.03 2430.81]\n   ...\n   [2430.34 2430.66 2430.34 ... 2430.72 2430.78 2430.56]\n   [2430.11 2430.64 2430.75 ... 2430.79 2430.37 2430.66]\n   [2430.05 2430.51 2430.64 ... 2430.85 2430.34 2430.96]]\n\n  [[2430.13 2430.47 2430.87 ... 2430.81 2430.08 2430.78]\n   [2430.38 2430.71 2430.51 ... 2430.8  2430.19 2430.58]\n   [2430.23 2430.53 2430.48 ... 2430.92 2430.32 2430.94]\n   ...\n   [2430.78 2430.72 2430.85 ... 2430.27 2430.32 2430.05]\n   [2430.95 2430.41 2430.87 ... 2430.97 2430.92 2430.2 ]\n   [2430.65 2430.42 2430.75 ... 2430.78 2430.21 2430.23]]\n\n  [[2430.21 2430.6  2430.63 ... 2430.59 2430.94 2430.9 ]\n   [2430.59 2430.97 2430.53 ... 2430.07 2430.57 2430.48]\n   [2430.45 2430.47 2430.65 ... 2430.94 2430.05 2430.99]\n   ...\n   [2430.79 2430.25 2430.02 ... 2430.35 2430.84 2430.08]\n   [2430.65 2430.64 2430.91 ... 2430.82 2430.57 2430.42]\n   [2430.98 2430.31 2430.48 ... 2430.97 2430.57 2430.39]]]\n\n\n [[[2430.5  2430.88 2430.73 ... 2430.65 2430.11 2430.57]\n   [2430.96 2430.47 2430.4  ... 2430.2  2430.08 2430.68]\n   [2430.9  2430.75 2430.75 ... 2430.12 2430.44 2430.22]\n   ...\n   [2430.46 2430.21 2430.28 ... 2430.67 2430.21 2430.09]\n   [2430.13 2430.39 2430.39 ... 2430.94 2430.82 2430.99]\n   [2430.69 2430.55 2430.98 ... 2430.68 2430.01 2430.71]]\n\n  [[2430.59 2430.86 2430.23 ... 2430.09 2430.91 2430.17]\n   [2430.68 2430.38 2430.87 ... 2430.45 2430.48 2430.12]\n   [2430.89 2430.58 2430.29 ... 2430.11 2430.6  2430.37]\n   ...\n   [2430.87 2430.83 2430.83 ... 2430.47 2430.54 2430.95]\n   [2430.59 2430.94 2430.62 ... 2430.24 2430.81 2430.85]\n   [2430.46 2430.19 2430.37 ... 2430.96 2430.34 2430.17]]\n\n  [[2430.67 2430.74 2430.9  ... 2430.4  2430.48 2430.98]\n   [2430.29 2430.57 2430.31 ... 2430.73 2430.31 2430.52]\n   [2430.28 2430.72 2430.04 ... 2430.96 2430.8  2430.79]\n   ...\n   [2430.01 2430.14 2430.63 ... 2430.69 2430.11 2430.39]\n   [2430.3  2430.26 2430.02 ... 2430.64 2430.48 2430.38]\n   [2430.28 2430.52 2430.35 ... 2430.91 2430.98 2430.61]]\n\n  ...\n\n  [[2430.02 2430.66 2430.62 ... 2430.29 2430.13 2430.32]\n   [2430.31 2430.51 2430.24 ... 2430.34 2430.6  2430.56]\n   [2430.92 2430.03 2430.95 ... 2430.25 2430.96 2430.54]\n   ...\n   [2430.32 2431.   2430.05 ... 2430.73 2430.41 2430.02]\n   [2430.47 2430.08 2430.81 ... 2430.89 2430.52 2430.36]\n   [2430.9  2430.86 2430.86 ... 2430.94 2430.39 2430.12]]\n\n  [[2430.06 2430.96 2430.37 ... 2430.04 2430.66 2430.31]\n   [2430.51 2430.51 2430.79 ... 2430.09 2430.74 2431.  ]\n   [2430.31 2430.52 2430.51 ... 2430.32 2430.98 2430.86]\n   ...\n   [2430.24 2430.14 2430.89 ... 2430.02 2430.37 2430.6 ]\n   [2430.41 2430.44 2430.12 ... 2430.83 2430.61 2430.79]\n   [2430.76 2430.18 2430.02 ... 2430.85 2430.72 2430.22]]\n\n  [[2430.36 2430.51 2430.64 ... 2430.59 2430.84 2430.34]\n   [2430.4  2430.06 2430.34 ... 2430.85 2430.37 2430.68]\n   [2430.58 2430.29 2430.44 ... 2430.04 2430.21 2430.44]\n   ...\n   [2430.37 2430.73 2430.59 ... 2430.38 2430.72 2430.77]\n   [2430.18 2430.76 2430.6  ... 2430.64 2430.34 2430.38]\n   [2430.4  2430.93 2430.05 ... 2430.67 2430.66 2430.29]]]]\nindex: 244: value: [[[[2440.5  2440.88 2440.84 ... 2440.39 2440.68 2440.51]\n   [2440.53 2440.59 2440.03 ... 2440.98 2440.08 2440.57]\n   [2440.21 2441.   2440.4  ... 2440.17 2440.55 2440.88]\n   ...\n   [2440.47 2440.47 2440.14 ... 2440.36 2440.69 2440.97]\n   [2440.   2440.16 2440.33 ... 2440.02 2440.67 2440.  ]\n   [2440.11 2440.4  2440.05 ... 2440.51 2440.61 2440.38]]\n\n  [[2440.51 2440.89 2440.67 ... 2440.34 2440.46 2440.75]\n   [2440.25 2440.99 2440.4  ... 2440.9  2440.71 2440.36]\n   [2440.8  2440.8  2440.33 ... 2440.9  2440.34 2440.62]\n   ...\n   [2440.13 2440.79 2440.68 ... 2440.68 2440.39 2440.47]\n   [2440.14 2440.92 2440.04 ... 2440.21 2440.05 2440.56]\n   [2440.24 2440.66 2440.41 ... 2440.82 2440.42 2440.71]]\n\n  [[2440.6  2440.89 2440.44 ... 2440.9  2440.02 2440.89]\n   [2440.8  2440.09 2440.17 ... 2440.19 2440.17 2440.43]\n   [2440.38 2440.63 2440.72 ... 2440.17 2440.49 2440.71]\n   ...\n   [2440.17 2440.53 2440.9  ... 2440.46 2440.62 2440.3 ]\n   [2440.05 2440.54 2440.57 ... 2440.53 2440.84 2440.18]\n   [2440.97 2440.51 2440.04 ... 2440.77 2440.59 2440.13]]\n\n  ...\n\n  [[2440.73 2440.87 2440.41 ... 2440.91 2440.07 2440.95]\n   [2440.42 2440.36 2440.08 ... 2440.57 2440.34 2440.85]\n   [2440.34 2440.48 2440.7  ... 2440.52 2440.11 2440.62]\n   ...\n   [2440.51 2440.79 2440.48 ... 2440.16 2440.89 2440.08]\n   [2440.36 2440.53 2440.06 ... 2440.11 2440.23 2440.2 ]\n   [2440.98 2440.56 2440.56 ... 2440.05 2440.68 2440.97]]\n\n  [[2440.71 2440.53 2440.56 ... 2440.29 2440.54 2440.22]\n   [2440.41 2440.09 2440.83 ... 2440.25 2440.22 2440.21]\n   [2440.81 2440.24 2440.58 ... 2440.11 2440.89 2440.02]\n   ...\n   [2440.55 2440.99 2440.21 ... 2440.15 2440.49 2440.93]\n   [2441.   2440.53 2440.8  ... 2440.42 2440.14 2440.18]\n   [2440.02 2440.71 2440.03 ... 2440.08 2440.07 2440.78]]\n\n  [[2440.6  2440.61 2440.7  ... 2440.91 2440.64 2440.99]\n   [2440.14 2440.97 2440.44 ... 2440.86 2440.05 2440.79]\n   [2440.91 2440.11 2440.13 ... 2440.63 2440.23 2440.53]\n   ...\n   [2440.69 2440.42 2440.07 ... 2440.63 2440.21 2440.1 ]\n   [2440.97 2440.76 2440.28 ... 2440.1  2440.96 2440.06]\n   [2440.85 2440.99 2440.57 ... 2440.04 2440.88 2440.95]]]\n\n\n [[[2440.   2440.45 2440.3  ... 2440.62 2440.12 2440.16]\n   [2440.64 2440.74 2440.08 ... 2440.73 2440.65 2440.78]\n   [2440.81 2440.02 2440.85 ... 2440.48 2440.06 2440.47]\n   ...\n   [2440.47 2440.48 2440.96 ... 2440.54 2440.82 2440.36]\n   [2440.99 2440.95 2440.46 ... 2440.03 2440.64 2440.87]\n   [2440.29 2440.24 2440.62 ... 2440.81 2440.81 2440.64]]\n\n  [[2440.15 2440.37 2440.88 ... 2440.96 2440.05 2440.25]\n   [2440.15 2440.35 2440.07 ... 2440.72 2440.03 2440.79]\n   [2440.71 2440.89 2440.38 ... 2440.37 2440.45 2440.79]\n   ...\n   [2440.18 2440.53 2440.95 ... 2440.16 2440.4  2440.61]\n   [2440.1  2440.27 2440.69 ... 2440.74 2440.25 2440.33]\n   [2440.41 2440.35 2440.17 ... 2440.1  2440.42 2440.97]]\n\n  [[2440.47 2440.69 2440.7  ... 2440.57 2440.01 2440.32]\n   [2440.41 2440.42 2440.42 ... 2440.93 2440.89 2440.19]\n   [2440.09 2440.41 2440.53 ... 2440.22 2440.18 2440.55]\n   ...\n   [2440.3  2440.79 2440.02 ... 2440.92 2440.84 2440.  ]\n   [2440.97 2440.55 2440.69 ... 2440.87 2440.47 2440.28]\n   [2440.94 2440.6  2440.44 ... 2440.69 2440.88 2440.74]]\n\n  ...\n\n  [[2440.81 2440.58 2440.74 ... 2440.11 2440.78 2440.54]\n   [2440.17 2440.11 2440.18 ... 2440.58 2440.82 2440.51]\n   [2440.18 2440.49 2440.02 ... 2440.19 2440.16 2440.65]\n   ...\n   [2440.67 2440.95 2440.36 ... 2440.56 2440.19 2440.67]\n   [2440.23 2440.9  2440.28 ... 2440.45 2440.74 2440.22]\n   [2440.84 2440.37 2440.55 ... 2440.48 2440.83 2441.  ]]\n\n  [[2440.52 2440.76 2440.5  ... 2440.3  2440.97 2440.63]\n   [2440.12 2440.18 2440.57 ... 2440.94 2440.14 2440.08]\n   [2440.49 2440.64 2440.91 ... 2440.99 2440.53 2440.01]\n   ...\n   [2440.95 2440.54 2440.27 ... 2441.   2440.96 2440.73]\n   [2440.14 2440.9  2440.74 ... 2440.15 2440.43 2440.82]\n   [2440.47 2440.48 2440.79 ... 2440.14 2440.85 2440.55]]\n\n  [[2440.67 2440.3  2440.64 ... 2440.28 2440.02 2440.06]\n   [2440.66 2440.57 2440.08 ... 2440.46 2440.6  2440.96]\n   [2440.29 2440.26 2440.74 ... 2440.5  2440.73 2440.73]\n   ...\n   [2440.45 2440.12 2440.17 ... 2440.09 2440.66 2440.27]\n   [2440.56 2440.44 2440.06 ... 2440.82 2440.73 2440.25]\n   [2440.43 2440.83 2440.4  ... 2440.59 2440.84 2440.38]]]\n\n\n [[[2440.88 2440.49 2441.   ... 2440.41 2440.7  2440.98]\n   [2440.35 2440.75 2440.34 ... 2440.99 2440.52 2440.98]\n   [2440.03 2440.46 2440.69 ... 2440.01 2440.46 2440.04]\n   ...\n   [2440.73 2440.5  2440.4  ... 2440.53 2440.81 2440.97]\n   [2440.1  2440.6  2440.73 ... 2440.79 2440.12 2440.76]\n   [2440.12 2440.29 2440.71 ... 2440.49 2440.29 2440.87]]\n\n  [[2440.62 2440.79 2440.67 ... 2440.36 2440.01 2440.75]\n   [2440.73 2440.66 2440.95 ... 2440.89 2440.   2440.82]\n   [2440.37 2440.84 2440.06 ... 2440.48 2440.02 2440.47]\n   ...\n   [2440.49 2440.26 2440.37 ... 2440.88 2440.64 2440.63]\n   [2440.57 2440.87 2440.71 ... 2440.85 2440.03 2440.29]\n   [2440.97 2440.26 2440.1  ... 2440.3  2440.08 2440.22]]\n\n  [[2440.93 2440.39 2440.06 ... 2440.57 2440.18 2440.83]\n   [2440.13 2440.37 2440.27 ... 2440.72 2440.63 2440.55]\n   [2440.09 2440.82 2440.71 ... 2440.64 2440.05 2440.78]\n   ...\n   [2440.04 2440.87 2440.03 ... 2440.37 2440.9  2440.35]\n   [2440.77 2440.93 2440.14 ... 2440.09 2440.09 2440.58]\n   [2440.1  2440.83 2440.13 ... 2440.16 2440.31 2440.71]]\n\n  ...\n\n  [[2440.65 2440.54 2440.28 ... 2440.49 2440.22 2440.  ]\n   [2440.4  2440.25 2440.14 ... 2440.99 2440.87 2440.42]\n   [2440.35 2440.78 2440.81 ... 2440.59 2440.79 2440.6 ]\n   ...\n   [2440.08 2440.76 2440.88 ... 2440.22 2440.96 2440.21]\n   [2440.21 2440.87 2440.65 ... 2440.06 2440.67 2440.54]\n   [2440.48 2440.05 2440.59 ... 2440.62 2440.48 2440.86]]\n\n  [[2440.43 2440.29 2440.56 ... 2440.67 2440.44 2440.74]\n   [2440.53 2440.51 2440.58 ... 2440.81 2440.84 2440.43]\n   [2440.75 2440.06 2440.47 ... 2440.44 2440.94 2440.29]\n   ...\n   [2440.82 2440.1  2440.08 ... 2440.63 2440.52 2440.63]\n   [2441.   2440.32 2440.35 ... 2440.36 2440.   2440.14]\n   [2440.46 2440.4  2440.67 ... 2440.63 2440.82 2440.88]]\n\n  [[2440.98 2440.47 2440.29 ... 2440.82 2440.13 2440.98]\n   [2440.82 2440.3  2440.54 ... 2440.9  2440.44 2440.08]\n   [2440.23 2440.39 2440.02 ... 2440.76 2440.4  2440.19]\n   ...\n   [2440.35 2440.75 2440.94 ... 2440.36 2440.42 2440.86]\n   [2440.93 2440.21 2440.18 ... 2440.66 2440.81 2440.09]\n   [2440.09 2440.49 2440.14 ... 2440.98 2440.83 2440.53]]]\n\n\n [[[2440.35 2440.82 2440.86 ... 2440.65 2440.7  2440.21]\n   [2440.84 2440.14 2440.71 ... 2440.96 2440.49 2440.8 ]\n   [2440.75 2440.34 2440.46 ... 2440.01 2440.57 2440.56]\n   ...\n   [2440.56 2440.3  2440.94 ... 2440.77 2440.63 2440.88]\n   [2440.34 2441.   2440.49 ... 2440.55 2440.25 2440.88]\n   [2440.54 2440.68 2440.39 ... 2440.01 2440.25 2440.03]]\n\n  [[2440.65 2440.27 2440.06 ... 2440.9  2440.43 2440.45]\n   [2440.81 2440.18 2440.79 ... 2440.66 2440.18 2440.75]\n   [2440.53 2440.88 2440.57 ... 2440.13 2440.87 2440.52]\n   ...\n   [2440.54 2440.24 2440.29 ... 2440.24 2440.6  2440.26]\n   [2440.6  2440.86 2440.68 ... 2440.38 2440.57 2440.87]\n   [2440.59 2440.32 2440.51 ... 2440.48 2440.25 2440.92]]\n\n  [[2440.53 2440.83 2440.8  ... 2440.59 2440.14 2440.32]\n   [2440.81 2440.16 2440.5  ... 2440.65 2440.03 2440.31]\n   [2440.11 2440.67 2440.55 ... 2440.8  2440.99 2440.88]\n   ...\n   [2440.1  2440.72 2440.88 ... 2440.45 2440.21 2440.35]\n   [2440.73 2440.53 2440.29 ... 2440.99 2440.42 2440.75]\n   [2440.97 2440.01 2440.58 ... 2440.77 2440.94 2440.8 ]]\n\n  ...\n\n  [[2440.01 2440.74 2440.9  ... 2440.6  2440.04 2440.11]\n   [2440.91 2440.36 2440.31 ... 2440.7  2440.01 2440.31]\n   [2440.44 2440.95 2440.12 ... 2440.97 2440.21 2440.78]\n   ...\n   [2440.02 2440.89 2440.29 ... 2440.75 2440.79 2440.88]\n   [2440.84 2440.25 2440.04 ... 2440.91 2440.98 2440.97]\n   [2440.64 2440.5  2440.89 ... 2440.91 2440.98 2440.16]]\n\n  [[2440.94 2440.44 2440.59 ... 2440.17 2440.53 2440.75]\n   [2440.77 2440.62 2440.67 ... 2440.35 2440.76 2440.12]\n   [2440.53 2440.7  2440.66 ... 2440.13 2440.24 2440.91]\n   ...\n   [2440.06 2440.77 2440.94 ... 2440.86 2440.07 2440.26]\n   [2440.6  2440.4  2440.44 ... 2440.41 2440.73 2440.2 ]\n   [2440.48 2440.7  2440.31 ... 2440.74 2440.7  2441.  ]]\n\n  [[2440.39 2440.5  2440.45 ... 2440.25 2440.9  2440.17]\n   [2440.48 2440.23 2440.13 ... 2440.96 2440.7  2440.52]\n   [2440.28 2440.02 2440.18 ... 2440.46 2440.46 2440.49]\n   ...\n   [2440.75 2440.32 2440.09 ... 2440.73 2440.68 2440.11]\n   [2440.63 2440.31 2440.07 ... 2440.88 2440.4  2440.99]\n   [2440.31 2440.24 2440.71 ... 2440.74 2440.53 2440.04]]]]\nindex: 245: value: [[[[2450.01 2450.5  2450.1  ... 2450.24 2450.55 2450.08]\n   [2450.09 2450.64 2450.54 ... 2450.98 2450.33 2450.34]\n   [2450.03 2450.7  2450.05 ... 2450.36 2450.46 2450.7 ]\n   ...\n   [2450.89 2450.43 2450.95 ... 2450.97 2450.18 2450.18]\n   [2450.47 2450.76 2450.09 ... 2450.06 2450.04 2450.07]\n   [2450.76 2450.49 2450.24 ... 2450.31 2450.03 2450.12]]\n\n  [[2450.8  2450.79 2450.52 ... 2450.38 2450.47 2450.89]\n   [2450.63 2450.97 2450.57 ... 2450.13 2450.92 2450.64]\n   [2450.97 2450.15 2450.12 ... 2450.2  2450.63 2450.57]\n   ...\n   [2450.28 2450.61 2450.84 ... 2450.75 2450.09 2450.28]\n   [2450.67 2450.89 2450.49 ... 2450.15 2451.   2450.91]\n   [2450.34 2450.8  2450.93 ... 2450.77 2450.66 2450.78]]\n\n  [[2450.89 2450.77 2450.67 ... 2450.82 2450.72 2450.23]\n   [2450.28 2450.65 2450.52 ... 2450.06 2450.88 2450.55]\n   [2450.42 2450.82 2450.52 ... 2450.93 2450.   2450.74]\n   ...\n   [2450.61 2450.   2450.63 ... 2450.54 2450.82 2450.76]\n   [2450.6  2450.97 2450.02 ... 2450.01 2450.49 2450.59]\n   [2450.82 2450.47 2450.83 ... 2450.36 2450.98 2450.72]]\n\n  ...\n\n  [[2450.22 2450.14 2450.61 ... 2450.26 2450.77 2450.15]\n   [2450.17 2450.06 2450.41 ... 2450.65 2450.5  2450.98]\n   [2450.4  2450.13 2450.98 ... 2450.71 2450.93 2450.7 ]\n   ...\n   [2450.31 2450.93 2450.57 ... 2450.56 2450.3  2450.43]\n   [2450.71 2450.03 2450.79 ... 2450.52 2450.89 2450.56]\n   [2450.89 2450.63 2450.63 ... 2450.03 2450.57 2450.41]]\n\n  [[2450.42 2450.31 2450.29 ... 2450.62 2450.07 2450.96]\n   [2450.06 2450.26 2450.   ... 2450.1  2450.91 2450.53]\n   [2450.3  2450.78 2450.11 ... 2450.07 2450.65 2450.92]\n   ...\n   [2450.74 2450.76 2450.57 ... 2450.81 2450.09 2450.09]\n   [2450.5  2450.7  2450.89 ... 2450.66 2450.72 2450.58]\n   [2450.9  2450.24 2450.76 ... 2450.43 2450.99 2450.07]]\n\n  [[2450.23 2450.15 2450.84 ... 2450.57 2450.49 2450.77]\n   [2450.21 2450.98 2450.87 ... 2450.29 2450.1  2450.78]\n   [2450.47 2450.57 2450.66 ... 2450.88 2450.82 2450.86]\n   ...\n   [2450.73 2450.57 2450.61 ... 2450.27 2450.13 2450.46]\n   [2450.61 2450.87 2450.72 ... 2450.05 2450.58 2450.66]\n   [2450.5  2450.35 2450.89 ... 2450.6  2450.16 2450.79]]]\n\n\n [[[2450.79 2450.93 2450.69 ... 2450.01 2450.13 2450.48]\n   [2450.36 2450.07 2450.66 ... 2450.76 2450.8  2450.72]\n   [2450.85 2450.69 2450.08 ... 2450.31 2450.18 2450.51]\n   ...\n   [2450.41 2450.81 2450.38 ... 2450.32 2450.7  2450.86]\n   [2450.45 2450.42 2450.54 ... 2450.55 2450.57 2450.33]\n   [2450.53 2450.98 2450.84 ... 2450.47 2450.81 2450.27]]\n\n  [[2450.6  2450.44 2450.19 ... 2450.32 2450.3  2450.99]\n   [2450.72 2450.88 2450.8  ... 2450.59 2450.05 2450.02]\n   [2450.98 2450.43 2450.92 ... 2450.93 2450.69 2450.85]\n   ...\n   [2450.19 2450.19 2450.16 ... 2450.8  2450.29 2450.8 ]\n   [2450.24 2450.96 2450.75 ... 2450.39 2450.87 2450.9 ]\n   [2450.95 2450.29 2450.23 ... 2450.32 2450.88 2450.21]]\n\n  [[2450.38 2450.04 2450.29 ... 2450.06 2450.6  2450.45]\n   [2450.41 2450.8  2450.91 ... 2450.64 2450.82 2450.06]\n   [2450.86 2450.39 2450.02 ... 2450.73 2450.43 2450.16]\n   ...\n   [2450.46 2450.09 2450.56 ... 2450.46 2450.49 2450.  ]\n   [2451.   2450.98 2450.7  ... 2450.05 2450.89 2450.27]\n   [2450.06 2450.04 2450.65 ... 2450.58 2450.33 2450.96]]\n\n  ...\n\n  [[2450.54 2450.88 2450.71 ... 2450.9  2450.52 2450.1 ]\n   [2450.99 2450.19 2450.98 ... 2450.36 2450.76 2450.17]\n   [2450.62 2450.85 2450.6  ... 2450.5  2450.26 2450.47]\n   ...\n   [2450.37 2450.93 2450.74 ... 2450.45 2450.25 2450.77]\n   [2450.82 2450.   2450.61 ... 2450.11 2450.34 2450.62]\n   [2450.16 2450.91 2450.41 ... 2450.48 2450.55 2450.41]]\n\n  [[2450.75 2450.21 2450.67 ... 2450.73 2450.96 2450.57]\n   [2450.39 2450.13 2450.98 ... 2450.53 2450.9  2450.55]\n   [2450.04 2450.78 2450.68 ... 2450.26 2450.65 2450.57]\n   ...\n   [2450.99 2450.07 2450.53 ... 2450.06 2450.34 2450.45]\n   [2450.67 2450.36 2450.14 ... 2450.82 2450.18 2450.6 ]\n   [2450.98 2450.65 2450.4  ... 2450.54 2450.61 2450.05]]\n\n  [[2450.38 2450.22 2450.74 ... 2450.59 2450.43 2450.02]\n   [2450.5  2450.43 2450.07 ... 2450.22 2450.14 2450.9 ]\n   [2450.43 2450.27 2450.62 ... 2450.84 2450.78 2450.28]\n   ...\n   [2450.2  2450.38 2450.61 ... 2450.49 2450.33 2450.49]\n   [2450.74 2450.63 2450.77 ... 2450.04 2450.77 2450.88]\n   [2450.38 2450.07 2450.88 ... 2450.81 2450.49 2450.39]]]\n\n\n [[[2450.1  2450.12 2450.82 ... 2450.37 2450.47 2450.21]\n   [2450.3  2450.92 2450.24 ... 2450.18 2450.19 2450.95]\n   [2450.73 2450.01 2450.95 ... 2450.54 2450.52 2450.57]\n   ...\n   [2450.62 2450.13 2450.25 ... 2450.25 2450.52 2450.35]\n   [2450.54 2450.41 2450.98 ... 2450.64 2450.56 2450.14]\n   [2450.08 2450.95 2450.98 ... 2450.12 2450.61 2450.47]]\n\n  [[2450.61 2450.21 2450.66 ... 2450.47 2450.01 2450.  ]\n   [2450.4  2450.53 2450.54 ... 2450.03 2450.28 2450.08]\n   [2450.49 2450.11 2450.55 ... 2450.58 2450.16 2450.3 ]\n   ...\n   [2450.39 2450.04 2450.85 ... 2450.37 2450.66 2450.34]\n   [2450.87 2450.2  2450.32 ... 2450.01 2450.42 2450.18]\n   [2450.25 2450.77 2450.04 ... 2450.25 2450.73 2450.99]]\n\n  [[2450.14 2450.15 2450.66 ... 2450.9  2450.83 2450.58]\n   [2450.42 2450.46 2450.84 ... 2450.19 2450.97 2450.4 ]\n   [2450.7  2450.85 2450.18 ... 2450.25 2450.85 2450.87]\n   ...\n   [2450.33 2450.3  2450.17 ... 2450.48 2450.46 2450.94]\n   [2450.7  2450.55 2450.72 ... 2450.24 2450.27 2450.34]\n   [2450.65 2450.73 2450.81 ... 2450.6  2450.66 2451.  ]]\n\n  ...\n\n  [[2450.13 2450.65 2450.68 ... 2450.41 2450.83 2450.1 ]\n   [2450.11 2450.31 2450.72 ... 2450.46 2450.55 2450.37]\n   [2450.16 2450.15 2450.32 ... 2450.39 2450.47 2450.73]\n   ...\n   [2450.28 2450.13 2450.52 ... 2450.22 2450.09 2450.68]\n   [2450.19 2450.84 2450.45 ... 2450.79 2450.25 2450.32]\n   [2450.1  2450.81 2450.06 ... 2450.21 2450.54 2450.21]]\n\n  [[2450.11 2450.56 2450.07 ... 2450.29 2450.06 2450.1 ]\n   [2450.26 2450.67 2450.97 ... 2450.06 2450.04 2450.79]\n   [2450.01 2450.69 2450.04 ... 2450.41 2450.9  2450.51]\n   ...\n   [2450.83 2450.4  2450.22 ... 2450.01 2450.28 2450.16]\n   [2450.02 2450.74 2450.99 ... 2450.63 2450.86 2450.37]\n   [2450.22 2450.28 2450.41 ... 2450.63 2450.47 2450.54]]\n\n  [[2450.81 2450.83 2450.86 ... 2450.18 2450.35 2450.56]\n   [2450.22 2450.32 2450.91 ... 2450.41 2450.29 2450.67]\n   [2450.18 2450.82 2450.96 ... 2450.49 2450.27 2450.14]\n   ...\n   [2450.13 2450.85 2450.96 ... 2450.45 2450.34 2450.9 ]\n   [2450.04 2450.38 2450.72 ... 2450.19 2450.88 2450.97]\n   [2450.73 2450.63 2450.7  ... 2450.8  2450.88 2450.75]]]\n\n\n [[[2450.92 2450.51 2450.92 ... 2450.1  2450.86 2450.86]\n   [2450.83 2450.77 2450.11 ... 2450.34 2450.47 2450.67]\n   [2450.29 2450.74 2450.91 ... 2450.23 2450.16 2450.55]\n   ...\n   [2450.68 2450.57 2450.39 ... 2450.47 2450.97 2450.88]\n   [2450.41 2450.78 2450.77 ... 2450.7  2450.36 2450.1 ]\n   [2450.41 2450.05 2450.29 ... 2450.7  2450.91 2450.84]]\n\n  [[2450.52 2450.67 2450.87 ... 2450.95 2450.72 2450.17]\n   [2450.32 2450.22 2450.56 ... 2450.73 2450.2  2450.67]\n   [2450.13 2450.14 2450.86 ... 2450.22 2450.05 2450.18]\n   ...\n   [2450.42 2450.88 2450.39 ... 2450.65 2450.87 2450.51]\n   [2450.31 2450.42 2450.93 ... 2450.39 2450.27 2450.94]\n   [2450.23 2450.83 2450.81 ... 2450.4  2450.74 2450.21]]\n\n  [[2450.47 2450.62 2450.93 ... 2450.38 2450.3  2450.82]\n   [2450.63 2450.23 2450.44 ... 2450.09 2450.48 2450.82]\n   [2450.39 2450.68 2450.3  ... 2450.31 2450.84 2450.34]\n   ...\n   [2450.42 2450.93 2450.1  ... 2450.29 2450.06 2450.99]\n   [2450.21 2450.83 2450.31 ... 2450.66 2450.84 2450.11]\n   [2450.66 2450.6  2450.4  ... 2450.71 2450.16 2450.31]]\n\n  ...\n\n  [[2450.84 2450.52 2450.35 ... 2450.77 2450.32 2450.55]\n   [2450.72 2450.09 2450.04 ... 2450.38 2450.42 2451.  ]\n   [2450.13 2450.86 2450.23 ... 2450.15 2450.11 2450.99]\n   ...\n   [2450.42 2450.4  2450.96 ... 2450.61 2450.34 2450.05]\n   [2450.19 2450.51 2450.21 ... 2450.1  2450.84 2450.59]\n   [2450.47 2450.3  2450.27 ... 2450.88 2450.15 2450.42]]\n\n  [[2450.42 2450.71 2450.02 ... 2450.29 2450.71 2450.96]\n   [2450.45 2450.68 2450.34 ... 2450.51 2450.97 2450.25]\n   [2450.55 2450.97 2450.   ... 2450.79 2450.55 2450.05]\n   ...\n   [2450.14 2450.22 2450.96 ... 2450.04 2450.3  2450.43]\n   [2450.19 2450.1  2450.78 ... 2450.94 2450.07 2450.75]\n   [2450.34 2450.63 2450.94 ... 2450.79 2450.23 2450.01]]\n\n  [[2450.28 2450.91 2450.61 ... 2450.35 2450.29 2450.16]\n   [2450.82 2450.36 2450.04 ... 2450.95 2450.96 2450.89]\n   [2450.04 2450.   2450.24 ... 2450.46 2450.02 2450.72]\n   ...\n   [2450.5  2450.29 2450.1  ... 2450.08 2450.86 2450.85]\n   [2450.38 2450.91 2450.71 ... 2450.35 2450.34 2450.69]\n   [2450.22 2450.32 2450.78 ... 2450.53 2450.19 2450.93]]]]\nindex: 246: value: [[[[2460.24 2460.35 2460.45 ... 2460.07 2460.77 2460.86]\n   [2460.44 2460.39 2460.47 ... 2460.73 2460.92 2460.04]\n   [2460.8  2460.8  2460.64 ... 2460.65 2460.78 2460.67]\n   ...\n   [2460.19 2460.8  2460.06 ... 2460.71 2460.09 2460.76]\n   [2460.75 2460.15 2460.61 ... 2460.74 2460.22 2460.91]\n   [2460.98 2460.43 2460.05 ... 2460.61 2460.76 2460.95]]\n\n  [[2460.59 2460.96 2460.8  ... 2460.33 2460.34 2460.75]\n   [2460.43 2460.95 2460.85 ... 2460.66 2460.2  2460.37]\n   [2460.64 2460.47 2460.97 ... 2460.98 2460.32 2460.09]\n   ...\n   [2460.02 2460.6  2460.62 ... 2460.8  2460.31 2460.27]\n   [2460.18 2460.44 2460.12 ... 2460.3  2460.88 2460.61]\n   [2460.2  2460.49 2460.09 ... 2460.99 2460.08 2460.92]]\n\n  [[2460.68 2460.23 2460.25 ... 2460.07 2460.14 2460.52]\n   [2460.1  2460.26 2460.22 ... 2460.31 2460.71 2460.06]\n   [2460.58 2460.52 2460.07 ... 2460.86 2460.13 2460.47]\n   ...\n   [2460.79 2460.75 2460.78 ... 2460.97 2460.28 2460.1 ]\n   [2460.11 2460.08 2460.42 ... 2460.35 2460.33 2460.91]\n   [2460.42 2460.21 2460.29 ... 2460.03 2460.08 2460.8 ]]\n\n  ...\n\n  [[2460.86 2460.22 2460.66 ... 2460.24 2460.6  2460.24]\n   [2460.16 2460.9  2460.36 ... 2460.54 2460.27 2460.05]\n   [2460.18 2460.4  2460.47 ... 2460.71 2460.33 2460.26]\n   ...\n   [2460.1  2460.12 2460.06 ... 2460.07 2460.09 2460.52]\n   [2460.8  2460.33 2460.86 ... 2460.82 2460.39 2460.2 ]\n   [2460.99 2460.1  2460.78 ... 2460.89 2460.51 2460.46]]\n\n  [[2460.81 2460.6  2460.46 ... 2460.33 2460.93 2460.26]\n   [2460.38 2460.71 2460.02 ... 2460.87 2460.08 2460.14]\n   [2460.65 2460.24 2460.66 ... 2460.82 2460.17 2460.54]\n   ...\n   [2460.83 2460.4  2460.92 ... 2460.38 2460.72 2460.73]\n   [2460.87 2460.16 2460.38 ... 2460.69 2460.13 2460.75]\n   [2460.77 2460.88 2460.72 ... 2460.66 2460.45 2460.44]]\n\n  [[2460.83 2460.82 2460.23 ... 2460.58 2460.64 2460.4 ]\n   [2460.21 2460.62 2460.6  ... 2460.62 2460.87 2460.93]\n   [2460.78 2460.14 2460.81 ... 2460.53 2460.24 2460.28]\n   ...\n   [2460.43 2460.5  2460.35 ... 2460.87 2460.97 2460.35]\n   [2460.89 2460.77 2460.83 ... 2460.14 2460.92 2460.38]\n   [2460.99 2460.2  2460.55 ... 2460.15 2460.23 2460.14]]]\n\n\n [[[2460.52 2460.87 2460.23 ... 2460.74 2460.79 2460.35]\n   [2460.26 2460.39 2460.53 ... 2460.93 2460.07 2460.72]\n   [2460.78 2460.53 2460.03 ... 2460.78 2460.64 2460.8 ]\n   ...\n   [2460.   2460.37 2460.66 ... 2460.75 2460.55 2460.08]\n   [2460.69 2460.07 2460.34 ... 2460.68 2460.68 2460.86]\n   [2460.44 2460.32 2460.92 ... 2460.55 2460.99 2460.34]]\n\n  [[2460.25 2460.64 2460.7  ... 2460.03 2460.52 2460.86]\n   [2460.83 2460.75 2460.75 ... 2460.24 2460.5  2460.77]\n   [2460.76 2460.53 2460.84 ... 2460.83 2460.81 2460.19]\n   ...\n   [2460.76 2460.96 2460.66 ... 2460.01 2460.9  2460.07]\n   [2460.26 2460.2  2460.44 ... 2460.49 2460.26 2460.78]\n   [2460.55 2460.95 2460.91 ... 2460.86 2460.42 2460.48]]\n\n  [[2460.49 2460.99 2460.4  ... 2460.33 2460.75 2460.67]\n   [2460.01 2460.88 2460.02 ... 2460.22 2460.94 2460.38]\n   [2460.27 2460.35 2460.14 ... 2460.37 2460.17 2460.15]\n   ...\n   [2460.47 2460.1  2460.75 ... 2460.11 2460.18 2460.22]\n   [2460.09 2460.55 2460.01 ... 2460.78 2460.3  2460.93]\n   [2460.21 2460.   2460.72 ... 2460.22 2460.84 2460.16]]\n\n  ...\n\n  [[2460.17 2460.87 2460.31 ... 2460.36 2460.32 2460.05]\n   [2460.65 2460.51 2460.11 ... 2460.55 2460.99 2460.58]\n   [2460.29 2460.91 2460.42 ... 2460.14 2460.8  2460.37]\n   ...\n   [2460.9  2460.06 2460.54 ... 2460.97 2460.89 2460.01]\n   [2460.97 2460.35 2460.93 ... 2460.42 2460.77 2460.07]\n   [2461.   2460.31 2460.98 ... 2460.63 2460.3  2460.42]]\n\n  [[2460.64 2460.24 2460.56 ... 2460.11 2460.67 2460.2 ]\n   [2460.07 2460.2  2460.04 ... 2460.46 2460.48 2460.07]\n   [2460.09 2460.93 2460.45 ... 2460.14 2460.65 2460.51]\n   ...\n   [2460.41 2460.76 2460.41 ... 2460.07 2460.15 2460.7 ]\n   [2460.08 2460.5  2460.63 ... 2460.17 2460.37 2460.68]\n   [2460.52 2460.85 2460.28 ... 2460.28 2460.87 2460.93]]\n\n  [[2460.11 2460.79 2460.62 ... 2460.42 2460.18 2460.44]\n   [2460.14 2460.12 2460.58 ... 2460.57 2460.87 2460.99]\n   [2460.86 2460.24 2460.71 ... 2460.7  2460.74 2460.59]\n   ...\n   [2460.94 2460.17 2460.16 ... 2460.95 2460.45 2460.56]\n   [2460.91 2460.52 2460.06 ... 2460.82 2460.7  2460.37]\n   [2460.52 2460.57 2460.15 ... 2460.65 2460.97 2460.47]]]\n\n\n [[[2460.28 2460.83 2460.76 ... 2460.51 2460.19 2460.26]\n   [2460.69 2460.43 2460.69 ... 2460.84 2460.52 2460.97]\n   [2460.56 2460.93 2460.27 ... 2460.88 2460.09 2460.52]\n   ...\n   [2460.22 2460.61 2460.14 ... 2460.09 2460.28 2460.57]\n   [2460.44 2460.25 2460.09 ... 2460.69 2460.82 2460.41]\n   [2460.29 2460.45 2460.83 ... 2460.95 2460.86 2460.91]]\n\n  [[2460.03 2460.22 2460.93 ... 2460.25 2460.15 2460.79]\n   [2460.36 2460.52 2460.73 ... 2460.12 2460.33 2460.47]\n   [2460.25 2460.1  2460.49 ... 2460.54 2460.79 2460.34]\n   ...\n   [2460.53 2460.48 2460.5  ... 2460.36 2460.23 2460.82]\n   [2460.45 2460.92 2460.57 ... 2460.22 2460.81 2460.64]\n   [2460.41 2460.7  2460.83 ... 2460.58 2460.03 2460.19]]\n\n  [[2460.21 2460.87 2460.02 ... 2460.51 2460.28 2460.18]\n   [2460.53 2460.89 2460.33 ... 2460.42 2460.55 2460.34]\n   [2460.71 2460.91 2460.96 ... 2460.31 2460.06 2460.98]\n   ...\n   [2460.61 2460.42 2460.14 ... 2460.25 2460.   2460.69]\n   [2460.36 2460.08 2460.47 ... 2460.91 2460.94 2460.52]\n   [2460.34 2460.98 2460.14 ... 2460.2  2460.88 2460.86]]\n\n  ...\n\n  [[2460.78 2460.73 2460.65 ... 2460.74 2460.26 2460.89]\n   [2460.58 2460.87 2460.2  ... 2460.58 2460.54 2460.53]\n   [2460.1  2460.58 2460.97 ... 2460.83 2460.95 2460.9 ]\n   ...\n   [2460.31 2460.81 2460.04 ... 2460.62 2460.96 2460.9 ]\n   [2460.07 2460.88 2460.32 ... 2460.8  2460.1  2460.74]\n   [2460.69 2460.19 2460.4  ... 2460.85 2460.33 2460.89]]\n\n  [[2460.4  2460.32 2460.13 ... 2460.77 2460.76 2460.17]\n   [2460.81 2460.69 2460.68 ... 2460.5  2460.75 2460.29]\n   [2460.41 2460.85 2460.85 ... 2460.68 2460.53 2460.75]\n   ...\n   [2460.43 2460.47 2460.74 ... 2460.34 2460.98 2460.75]\n   [2460.78 2460.29 2460.34 ... 2460.02 2460.22 2460.85]\n   [2460.41 2460.5  2460.42 ... 2460.22 2460.36 2460.4 ]]\n\n  [[2460.88 2460.46 2460.39 ... 2460.82 2460.49 2460.78]\n   [2460.83 2460.88 2460.85 ... 2460.34 2460.69 2460.86]\n   [2460.19 2460.23 2460.31 ... 2460.94 2460.03 2460.  ]\n   ...\n   [2460.17 2460.39 2460.28 ... 2460.65 2460.25 2460.63]\n   [2460.19 2460.15 2460.19 ... 2460.31 2460.35 2460.79]\n   [2460.62 2460.54 2460.41 ... 2460.63 2460.31 2460.51]]]\n\n\n [[[2460.02 2460.19 2460.12 ... 2460.62 2460.87 2460.99]\n   [2460.27 2460.55 2460.68 ... 2460.4  2460.11 2460.09]\n   [2460.56 2460.5  2460.83 ... 2460.39 2460.35 2460.66]\n   ...\n   [2460.22 2460.04 2460.8  ... 2460.9  2460.65 2460.24]\n   [2460.99 2460.18 2460.15 ... 2460.74 2460.03 2460.27]\n   [2460.79 2460.49 2460.62 ... 2460.65 2460.68 2460.61]]\n\n  [[2460.56 2460.49 2460.58 ... 2460.57 2460.15 2460.29]\n   [2460.53 2460.25 2460.07 ... 2460.7  2460.67 2460.3 ]\n   [2460.46 2460.81 2460.32 ... 2460.55 2460.87 2460.56]\n   ...\n   [2460.17 2460.42 2460.03 ... 2460.07 2460.44 2460.32]\n   [2460.42 2460.28 2460.22 ... 2460.24 2460.82 2460.16]\n   [2460.62 2460.13 2460.45 ... 2460.96 2460.24 2460.18]]\n\n  [[2460.96 2460.75 2460.48 ... 2460.05 2460.41 2460.99]\n   [2460.99 2460.2  2460.53 ... 2460.21 2460.66 2460.77]\n   [2460.38 2460.22 2460.96 ... 2460.05 2460.94 2460.86]\n   ...\n   [2460.9  2460.91 2460.36 ... 2460.06 2460.2  2460.97]\n   [2460.83 2460.98 2460.7  ... 2460.21 2460.52 2460.48]\n   [2460.82 2460.11 2460.01 ... 2460.39 2460.55 2460.04]]\n\n  ...\n\n  [[2460.52 2460.27 2460.1  ... 2460.02 2460.86 2460.29]\n   [2460.76 2460.98 2460.68 ... 2460.07 2460.58 2460.42]\n   [2460.29 2460.25 2460.74 ... 2460.05 2460.47 2460.85]\n   ...\n   [2460.1  2460.12 2460.66 ... 2460.44 2460.97 2460.54]\n   [2460.89 2460.88 2460.42 ... 2460.64 2460.94 2460.09]\n   [2460.96 2460.78 2460.22 ... 2460.6  2460.41 2460.07]]\n\n  [[2460.24 2460.59 2460.45 ... 2460.2  2460.68 2460.82]\n   [2460.76 2460.62 2460.03 ... 2460.82 2460.27 2460.18]\n   [2460.36 2460.12 2460.2  ... 2460.7  2460.61 2460.66]\n   ...\n   [2460.75 2460.28 2460.42 ... 2460.87 2460.54 2460.28]\n   [2460.42 2460.7  2460.55 ... 2460.4  2460.41 2460.86]\n   [2460.59 2460.1  2460.77 ... 2460.91 2460.68 2460.99]]\n\n  [[2460.86 2460.26 2460.73 ... 2460.13 2460.56 2460.49]\n   [2460.21 2460.15 2460.85 ... 2460.73 2460.4  2460.78]\n   [2460.03 2460.9  2460.97 ... 2460.4  2460.1  2460.84]\n   ...\n   [2460.24 2460.26 2460.31 ... 2460.78 2460.58 2460.76]\n   [2460.54 2460.22 2460.28 ... 2460.5  2460.34 2460.76]\n   [2460.38 2460.23 2460.67 ... 2460.45 2460.04 2460.32]]]]\nindex: 247: value: [[[[2470.2  2470.47 2470.1  ... 2470.28 2470.31 2470.05]\n   [2470.39 2470.8  2470.96 ... 2470.56 2470.29 2470.67]\n   [2470.17 2470.53 2470.8  ... 2470.9  2470.42 2470.08]\n   ...\n   [2470.71 2470.6  2470.75 ... 2470.69 2470.12 2470.25]\n   [2470.01 2470.91 2470.89 ... 2470.64 2470.5  2470.03]\n   [2470.51 2470.43 2470.13 ... 2470.73 2470.32 2470.5 ]]\n\n  [[2470.66 2470.4  2470.69 ... 2470.73 2470.82 2470.15]\n   [2470.59 2470.04 2470.23 ... 2470.15 2470.23 2470.35]\n   [2470.98 2470.64 2470.97 ... 2470.04 2470.66 2470.12]\n   ...\n   [2470.98 2470.67 2470.27 ... 2470.6  2470.21 2470.44]\n   [2470.48 2470.72 2470.69 ... 2470.49 2470.47 2470.86]\n   [2470.44 2470.64 2470.54 ... 2470.21 2470.65 2470.34]]\n\n  [[2470.27 2470.41 2470.9  ... 2470.95 2470.87 2470.15]\n   [2470.73 2470.77 2470.23 ... 2470.19 2470.17 2470.21]\n   [2470.65 2470.79 2470.45 ... 2470.65 2470.09 2470.53]\n   ...\n   [2470.44 2470.05 2470.74 ... 2470.67 2470.5  2470.84]\n   [2470.65 2470.47 2470.28 ... 2470.97 2470.66 2470.91]\n   [2470.39 2470.41 2470.62 ... 2470.62 2470.5  2470.11]]\n\n  ...\n\n  [[2470.17 2470.41 2470.58 ... 2470.5  2470.23 2470.57]\n   [2470.16 2470.26 2470.91 ... 2470.43 2470.69 2470.36]\n   [2470.84 2470.36 2470.21 ... 2470.88 2470.85 2470.91]\n   ...\n   [2470.7  2470.99 2470.94 ... 2470.56 2470.95 2470.14]\n   [2470.92 2470.93 2470.12 ... 2470.47 2470.79 2470.22]\n   [2470.58 2470.48 2470.74 ... 2470.67 2470.48 2470.52]]\n\n  [[2470.81 2470.76 2470.18 ... 2470.31 2470.13 2470.42]\n   [2470.79 2470.53 2470.04 ... 2470.43 2470.27 2470.25]\n   [2470.47 2470.28 2470.35 ... 2470.24 2470.33 2470.59]\n   ...\n   [2470.09 2470.21 2470.87 ... 2470.23 2470.87 2470.4 ]\n   [2470.89 2470.41 2470.59 ... 2470.76 2470.52 2470.51]\n   [2470.93 2470.79 2470.97 ... 2470.1  2470.01 2470.23]]\n\n  [[2470.4  2470.91 2470.13 ... 2470.7  2470.34 2470.78]\n   [2470.75 2470.86 2470.82 ... 2470.03 2470.15 2470.37]\n   [2470.22 2470.23 2470.95 ... 2470.48 2470.74 2470.54]\n   ...\n   [2470.96 2470.24 2470.36 ... 2470.16 2470.38 2470.96]\n   [2470.49 2470.06 2470.37 ... 2470.69 2470.42 2470.16]\n   [2470.73 2470.94 2470.11 ... 2470.99 2470.62 2470.43]]]\n\n\n [[[2470.53 2470.01 2470.24 ... 2470.53 2470.9  2470.94]\n   [2470.73 2470.87 2470.82 ... 2470.52 2470.06 2470.87]\n   [2470.66 2470.57 2470.99 ... 2470.87 2470.45 2470.93]\n   ...\n   [2470.05 2470.48 2470.42 ... 2470.27 2470.89 2470.29]\n   [2471.   2470.43 2470.48 ... 2470.78 2470.72 2470.6 ]\n   [2470.97 2470.55 2470.   ... 2470.93 2470.54 2470.01]]\n\n  [[2470.6  2470.03 2470.99 ... 2470.25 2470.1  2470.06]\n   [2470.75 2470.14 2470.32 ... 2470.98 2470.68 2470.39]\n   [2470.46 2470.34 2470.1  ... 2470.75 2470.24 2470.03]\n   ...\n   [2470.12 2470.07 2470.52 ... 2470.07 2470.16 2470.52]\n   [2470.43 2470.11 2470.43 ... 2470.74 2470.01 2470.75]\n   [2470.38 2470.38 2470.14 ... 2470.11 2470.67 2470.95]]\n\n  [[2470.05 2470.86 2470.26 ... 2470.74 2470.48 2470.7 ]\n   [2470.69 2470.35 2470.95 ... 2470.45 2470.   2470.12]\n   [2470.91 2470.7  2470.5  ... 2470.79 2470.2  2470.67]\n   ...\n   [2470.78 2470.72 2470.87 ... 2470.01 2470.94 2470.98]\n   [2470.48 2470.29 2470.89 ... 2470.48 2470.47 2470.27]\n   [2470.37 2470.59 2470.27 ... 2470.89 2470.9  2470.94]]\n\n  ...\n\n  [[2470.97 2470.42 2470.45 ... 2470.38 2470.55 2470.13]\n   [2470.46 2470.72 2470.6  ... 2470.63 2470.02 2470.56]\n   [2470.57 2470.27 2470.76 ... 2470.35 2470.83 2470.65]\n   ...\n   [2470.4  2470.57 2470.04 ... 2470.37 2470.17 2470.  ]\n   [2470.1  2470.93 2470.78 ... 2470.35 2470.15 2470.84]\n   [2470.94 2470.18 2470.73 ... 2470.75 2470.2  2470.81]]\n\n  [[2470.28 2470.15 2470.02 ... 2470.95 2470.49 2470.87]\n   [2470.01 2470.14 2470.58 ... 2470.77 2470.41 2470.16]\n   [2470.77 2470.83 2470.4  ... 2471.   2470.58 2470.21]\n   ...\n   [2470.98 2470.87 2470.85 ... 2470.97 2470.21 2470.49]\n   [2470.25 2470.29 2470.85 ... 2470.32 2470.82 2470.81]\n   [2470.79 2470.66 2470.76 ... 2470.01 2470.17 2470.32]]\n\n  [[2470.19 2470.19 2470.76 ... 2470.78 2470.46 2470.61]\n   [2470.22 2470.15 2470.83 ... 2470.79 2470.1  2470.28]\n   [2470.52 2470.23 2470.61 ... 2470.07 2470.64 2470.29]\n   ...\n   [2470.25 2470.04 2470.98 ... 2470.6  2470.78 2470.58]\n   [2470.99 2470.68 2470.3  ... 2470.6  2470.41 2470.95]\n   [2470.28 2470.61 2470.58 ... 2470.75 2470.79 2470.7 ]]]\n\n\n [[[2470.44 2470.97 2470.03 ... 2470.67 2470.88 2470.31]\n   [2470.24 2470.84 2470.27 ... 2470.07 2470.36 2470.15]\n   [2470.2  2470.61 2470.26 ... 2470.84 2470.2  2470.29]\n   ...\n   [2470.28 2470.42 2470.46 ... 2470.89 2470.59 2470.91]\n   [2470.49 2470.8  2470.55 ... 2470.6  2470.76 2470.99]\n   [2470.16 2470.35 2470.12 ... 2470.52 2470.15 2470.51]]\n\n  [[2470.43 2470.72 2470.04 ... 2470.27 2470.45 2470.22]\n   [2470.85 2470.48 2470.02 ... 2470.45 2470.69 2470.32]\n   [2470.55 2470.52 2470.81 ... 2470.14 2470.03 2470.99]\n   ...\n   [2470.47 2470.91 2470.98 ... 2470.66 2470.15 2470.3 ]\n   [2470.29 2470.47 2470.54 ... 2470.52 2470.36 2470.52]\n   [2470.48 2470.56 2470.99 ... 2470.75 2470.75 2470.42]]\n\n  [[2470.73 2470.73 2470.7  ... 2470.98 2470.43 2470.59]\n   [2470.11 2470.13 2470.67 ... 2470.68 2470.06 2470.1 ]\n   [2470.68 2470.84 2470.49 ... 2470.9  2470.53 2470.38]\n   ...\n   [2470.4  2470.12 2470.25 ... 2470.1  2470.61 2470.33]\n   [2470.71 2470.19 2470.44 ... 2470.55 2470.38 2470.08]\n   [2470.64 2470.28 2470.6  ... 2470.53 2470.62 2470.9 ]]\n\n  ...\n\n  [[2470.66 2470.84 2470.79 ... 2470.92 2470.21 2470.4 ]\n   [2470.74 2470.11 2470.17 ... 2470.64 2470.06 2470.16]\n   [2470.12 2470.15 2471.   ... 2470.06 2470.58 2470.19]\n   ...\n   [2470.61 2470.39 2470.19 ... 2470.67 2470.45 2470.54]\n   [2470.06 2470.19 2470.63 ... 2470.86 2470.87 2470.39]\n   [2470.02 2470.23 2470.54 ... 2471.   2470.48 2470.83]]\n\n  [[2470.28 2470.57 2470.28 ... 2470.65 2470.02 2470.4 ]\n   [2470.59 2470.86 2470.77 ... 2470.2  2470.21 2470.54]\n   [2470.22 2470.5  2470.96 ... 2470.02 2470.79 2470.54]\n   ...\n   [2470.11 2470.89 2470.47 ... 2470.48 2470.31 2470.79]\n   [2470.65 2470.23 2470.5  ... 2470.21 2470.1  2470.52]\n   [2470.29 2470.91 2470.   ... 2470.87 2470.81 2470.67]]\n\n  [[2470.5  2470.73 2470.57 ... 2470.53 2470.17 2470.25]\n   [2470.9  2470.85 2470.95 ... 2470.97 2470.78 2470.12]\n   [2470.53 2470.76 2470.82 ... 2470.43 2470.03 2470.  ]\n   ...\n   [2470.72 2470.15 2470.4  ... 2470.35 2470.88 2470.77]\n   [2470.91 2470.77 2470.4  ... 2470.52 2470.82 2470.32]\n   [2470.18 2470.24 2470.59 ... 2470.6  2470.52 2470.48]]]\n\n\n [[[2470.49 2470.9  2470.76 ... 2470.92 2470.72 2470.6 ]\n   [2470.7  2470.82 2470.6  ... 2470.47 2470.2  2470.88]\n   [2470.58 2470.34 2470.35 ... 2470.85 2470.76 2470.39]\n   ...\n   [2470.91 2470.83 2470.48 ... 2470.08 2470.64 2470.5 ]\n   [2470.6  2470.78 2470.65 ... 2470.2  2470.88 2470.15]\n   [2470.58 2470.33 2470.1  ... 2470.74 2470.52 2470.12]]\n\n  [[2470.06 2470.52 2470.09 ... 2470.44 2470.17 2470.86]\n   [2470.94 2470.24 2470.17 ... 2470.84 2470.16 2470.67]\n   [2470.08 2470.78 2470.74 ... 2470.11 2470.25 2470.12]\n   ...\n   [2470.15 2470.36 2470.03 ... 2470.07 2470.06 2470.84]\n   [2470.95 2470.26 2470.16 ... 2470.47 2470.55 2470.97]\n   [2470.4  2470.51 2470.92 ... 2470.63 2470.28 2470.59]]\n\n  [[2470.85 2470.8  2470.29 ... 2470.03 2470.93 2470.51]\n   [2470.33 2470.17 2470.33 ... 2470.51 2470.83 2470.19]\n   [2470.47 2470.06 2470.79 ... 2470.05 2470.57 2470.62]\n   ...\n   [2470.55 2470.59 2470.09 ... 2470.45 2470.88 2470.98]\n   [2470.33 2470.62 2470.75 ... 2470.15 2470.29 2470.47]\n   [2470.6  2470.46 2470.3  ... 2470.95 2470.94 2470.1 ]]\n\n  ...\n\n  [[2470.67 2470.4  2470.65 ... 2470.92 2470.78 2470.76]\n   [2470.25 2470.55 2470.7  ... 2470.45 2470.44 2470.49]\n   [2470.28 2470.27 2470.82 ... 2470.56 2470.48 2470.83]\n   ...\n   [2470.1  2470.71 2470.17 ... 2470.89 2470.08 2470.71]\n   [2470.42 2470.62 2470.17 ... 2470.67 2470.85 2470.75]\n   [2470.21 2470.87 2470.2  ... 2470.17 2470.08 2470.59]]\n\n  [[2470.3  2470.96 2470.92 ... 2470.37 2470.13 2470.03]\n   [2470.48 2470.13 2470.46 ... 2470.32 2470.68 2470.98]\n   [2470.   2470.25 2470.48 ... 2470.13 2470.5  2470.34]\n   ...\n   [2471.   2470.23 2470.08 ... 2470.22 2470.24 2470.95]\n   [2470.6  2470.4  2470.35 ... 2470.42 2470.04 2470.63]\n   [2470.04 2470.52 2470.28 ... 2470.41 2470.67 2470.19]]\n\n  [[2470.29 2470.37 2470.12 ... 2470.96 2470.34 2470.7 ]\n   [2470.41 2470.77 2470.01 ... 2470.59 2470.56 2470.83]\n   [2470.88 2470.78 2470.1  ... 2470.45 2470.06 2470.5 ]\n   ...\n   [2470.77 2470.69 2470.37 ... 2470.18 2470.93 2470.98]\n   [2470.93 2470.02 2470.62 ... 2470.15 2470.43 2470.86]\n   [2470.54 2470.17 2470.84 ... 2470.5  2470.74 2470.76]]]]\nindex: 248: value: [[[[2480.84 2480.12 2480.59 ... 2480.4  2480.98 2480.94]\n   [2480.55 2480.74 2480.3  ... 2480.51 2480.05 2480.26]\n   [2480.28 2480.89 2480.05 ... 2480.96 2480.6  2480.22]\n   ...\n   [2480.74 2480.26 2480.14 ... 2480.67 2480.24 2480.86]\n   [2480.76 2480.83 2480.73 ... 2480.23 2480.35 2480.05]\n   [2480.8  2480.78 2480.11 ... 2480.12 2480.46 2480.96]]\n\n  [[2480.56 2480.84 2480.07 ... 2480.42 2480.5  2480.65]\n   [2480.15 2480.18 2480.55 ... 2480.55 2480.12 2480.06]\n   [2480.39 2480.3  2480.61 ... 2480.88 2480.16 2480.49]\n   ...\n   [2480.52 2480.94 2480.26 ... 2480.17 2480.23 2480.75]\n   [2480.79 2480.83 2480.58 ... 2480.66 2480.54 2480.65]\n   [2480.36 2480.38 2480.63 ... 2480.66 2480.54 2480.71]]\n\n  [[2480.56 2480.73 2480.52 ... 2480.38 2480.6  2480.48]\n   [2480.31 2480.35 2480.85 ... 2480.33 2480.65 2480.8 ]\n   [2480.87 2480.47 2480.79 ... 2480.97 2480.81 2480.91]\n   ...\n   [2480.49 2480.25 2480.97 ... 2480.84 2480.41 2480.87]\n   [2480.65 2480.48 2480.53 ... 2480.66 2480.76 2480.05]\n   [2480.79 2480.04 2480.13 ... 2480.59 2480.38 2480.13]]\n\n  ...\n\n  [[2480.32 2480.5  2480.74 ... 2480.45 2480.7  2480.83]\n   [2480.21 2480.03 2480.06 ... 2480.87 2480.47 2480.85]\n   [2480.98 2480.66 2480.57 ... 2480.2  2480.23 2480.56]\n   ...\n   [2480.17 2480.72 2480.4  ... 2480.21 2480.78 2480.07]\n   [2480.01 2480.05 2480.34 ... 2480.29 2480.03 2480.29]\n   [2480.65 2480.   2480.73 ... 2480.57 2480.85 2480.22]]\n\n  [[2480.32 2480.18 2480.93 ... 2480.56 2480.23 2480.46]\n   [2480.23 2480.32 2480.79 ... 2480.54 2481.   2480.63]\n   [2480.67 2480.01 2480.3  ... 2480.84 2480.57 2480.39]\n   ...\n   [2480.48 2480.25 2480.86 ... 2480.28 2480.02 2480.11]\n   [2480.9  2480.35 2480.85 ... 2480.93 2480.1  2480.18]\n   [2480.58 2480.18 2480.02 ... 2480.82 2480.32 2480.9 ]]\n\n  [[2480.09 2480.02 2480.36 ... 2480.31 2480.74 2480.98]\n   [2480.93 2480.49 2480.43 ... 2480.17 2480.45 2480.42]\n   [2480.52 2480.83 2480.1  ... 2480.38 2480.89 2480.16]\n   ...\n   [2480.48 2480.97 2480.41 ... 2480.41 2480.82 2480.16]\n   [2480.64 2480.27 2480.08 ... 2480.62 2480.38 2480.71]\n   [2480.91 2480.91 2480.05 ... 2480.43 2480.36 2480.82]]]\n\n\n [[[2480.23 2480.03 2480.27 ... 2480.04 2480.73 2480.09]\n   [2480.32 2480.84 2480.21 ... 2480.94 2480.21 2480.44]\n   [2480.54 2480.42 2480.15 ... 2480.84 2480.6  2480.71]\n   ...\n   [2480.02 2480.5  2480.36 ... 2480.7  2480.5  2480.6 ]\n   [2480.81 2480.41 2480.59 ... 2480.69 2480.98 2480.16]\n   [2480.96 2480.31 2480.09 ... 2480.64 2480.11 2480.95]]\n\n  [[2480.56 2480.02 2480.95 ... 2480.03 2480.65 2480.95]\n   [2480.61 2480.22 2480.27 ... 2480.02 2480.15 2480.11]\n   [2480.77 2480.73 2480.44 ... 2480.59 2480.61 2480.67]\n   ...\n   [2480.84 2480.05 2480.37 ... 2480.37 2480.97 2480.97]\n   [2480.64 2480.08 2480.27 ... 2480.81 2480.78 2480.8 ]\n   [2480.88 2480.3  2480.36 ... 2480.6  2480.58 2480.73]]\n\n  [[2480.48 2480.37 2480.81 ... 2480.74 2480.62 2480.53]\n   [2480.74 2480.83 2480.84 ... 2480.29 2480.25 2480.23]\n   [2480.54 2480.53 2480.04 ... 2480.12 2480.86 2480.93]\n   ...\n   [2480.4  2480.88 2480.79 ... 2480.5  2480.29 2480.42]\n   [2480.23 2480.25 2480.53 ... 2480.24 2480.54 2480.39]\n   [2480.03 2480.25 2480.34 ... 2480.92 2480.08 2480.62]]\n\n  ...\n\n  [[2480.95 2480.14 2480.92 ... 2480.25 2480.51 2480.54]\n   [2480.14 2480.5  2480.71 ... 2480.47 2480.38 2480.44]\n   [2480.58 2480.22 2480.83 ... 2480.87 2480.36 2480.15]\n   ...\n   [2480.03 2480.51 2480.4  ... 2480.54 2480.93 2480.54]\n   [2480.21 2480.48 2480.41 ... 2480.21 2480.77 2480.94]\n   [2480.05 2480.12 2480.9  ... 2480.98 2480.39 2480.19]]\n\n  [[2480.19 2480.6  2480.23 ... 2480.72 2480.53 2480.68]\n   [2480.84 2480.82 2480.28 ... 2480.94 2480.71 2480.94]\n   [2480.19 2480.62 2480.86 ... 2480.91 2480.67 2480.5 ]\n   ...\n   [2480.28 2480.97 2480.04 ... 2480.02 2480.68 2480.13]\n   [2480.57 2480.77 2480.72 ... 2480.08 2480.07 2480.15]\n   [2480.8  2480.73 2480.39 ... 2480.27 2480.24 2480.94]]\n\n  [[2480.18 2480.14 2480.58 ... 2480.05 2480.82 2480.04]\n   [2480.62 2480.84 2480.47 ... 2480.45 2480.38 2480.08]\n   [2480.86 2480.08 2480.06 ... 2481.   2480.9  2480.56]\n   ...\n   [2480.09 2480.76 2480.22 ... 2480.42 2480.29 2480.33]\n   [2480.01 2480.53 2481.   ... 2480.05 2480.42 2480.97]\n   [2480.1  2480.92 2480.13 ... 2480.04 2480.22 2480.45]]]\n\n\n [[[2480.5  2480.11 2480.29 ... 2480.79 2480.46 2480.33]\n   [2480.76 2480.04 2480.63 ... 2480.04 2480.75 2480.6 ]\n   [2480.52 2480.04 2480.57 ... 2480.56 2480.97 2480.37]\n   ...\n   [2480.05 2480.67 2480.65 ... 2480.37 2480.11 2480.68]\n   [2480.48 2480.11 2480.05 ... 2480.87 2480.57 2480.38]\n   [2480.17 2480.41 2480.95 ... 2480.76 2480.9  2480.6 ]]\n\n  [[2480.5  2480.62 2480.84 ... 2480.67 2480.74 2480.63]\n   [2480.06 2480.52 2480.19 ... 2480.99 2480.08 2480.91]\n   [2480.11 2481.   2480.31 ... 2480.1  2480.39 2480.21]\n   ...\n   [2480.3  2480.38 2480.46 ... 2480.5  2481.   2480.71]\n   [2480.59 2480.76 2480.04 ... 2480.79 2480.81 2480.73]\n   [2480.42 2480.01 2480.64 ... 2480.04 2480.41 2480.35]]\n\n  [[2480.27 2480.6  2480.5  ... 2480.1  2480.92 2480.03]\n   [2480.9  2480.2  2480.08 ... 2480.4  2480.69 2480.01]\n   [2480.18 2480.5  2480.68 ... 2480.57 2480.83 2480.07]\n   ...\n   [2480.   2480.22 2480.7  ... 2480.26 2480.66 2480.57]\n   [2480.98 2480.42 2480.42 ... 2480.06 2480.22 2480.56]\n   [2481.   2480.3  2480.75 ... 2480.58 2480.05 2480.67]]\n\n  ...\n\n  [[2480.06 2480.36 2480.   ... 2480.55 2480.31 2480.05]\n   [2480.25 2480.34 2480.81 ... 2480.5  2480.83 2480.55]\n   [2480.38 2480.32 2480.9  ... 2480.67 2480.66 2480.04]\n   ...\n   [2480.96 2480.72 2480.8  ... 2480.59 2480.62 2480.62]\n   [2480.73 2480.74 2480.5  ... 2480.6  2480.72 2480.11]\n   [2480.98 2480.58 2480.17 ... 2480.64 2480.22 2480.68]]\n\n  [[2480.32 2480.32 2480.75 ... 2480.83 2480.87 2480.99]\n   [2480.86 2480.09 2480.43 ... 2480.29 2480.99 2480.52]\n   [2480.15 2480.55 2480.04 ... 2480.79 2480.61 2480.69]\n   ...\n   [2480.95 2480.44 2480.37 ... 2480.11 2480.98 2480.96]\n   [2480.33 2480.1  2480.73 ... 2480.18 2480.71 2480.61]\n   [2480.72 2480.94 2480.9  ... 2480.86 2480.49 2480.81]]\n\n  [[2480.71 2480.02 2480.07 ... 2480.18 2480.48 2480.48]\n   [2480.05 2480.53 2480.06 ... 2480.76 2480.98 2480.57]\n   [2480.04 2480.05 2480.73 ... 2480.15 2480.2  2480.62]\n   ...\n   [2480.12 2480.77 2480.27 ... 2480.22 2480.99 2480.89]\n   [2480.41 2480.87 2480.91 ... 2480.97 2480.1  2480.76]\n   [2480.97 2480.66 2480.58 ... 2480.68 2480.3  2480.61]]]\n\n\n [[[2480.93 2480.67 2480.22 ... 2480.41 2480.53 2480.65]\n   [2480.34 2480.64 2480.7  ... 2480.82 2480.75 2480.99]\n   [2480.46 2480.53 2480.52 ... 2480.7  2480.18 2480.47]\n   ...\n   [2480.55 2480.89 2480.58 ... 2480.4  2480.87 2480.31]\n   [2480.29 2480.74 2480.27 ... 2480.36 2480.6  2480.05]\n   [2480.44 2480.44 2480.1  ... 2480.11 2480.38 2480.47]]\n\n  [[2480.18 2480.5  2480.08 ... 2480.84 2480.84 2480.78]\n   [2480.29 2480.39 2480.64 ... 2480.88 2481.   2480.67]\n   [2480.89 2481.   2480.61 ... 2480.41 2480.39 2480.66]\n   ...\n   [2480.02 2480.   2480.15 ... 2480.9  2480.09 2480.89]\n   [2480.7  2480.95 2480.76 ... 2480.06 2480.79 2480.99]\n   [2480.79 2480.3  2480.61 ... 2480.15 2480.95 2480.3 ]]\n\n  [[2480.6  2480.92 2480.88 ... 2480.65 2480.98 2480.7 ]\n   [2480.75 2480.85 2480.25 ... 2480.7  2480.46 2480.29]\n   [2480.31 2480.28 2480.23 ... 2480.91 2480.57 2480.89]\n   ...\n   [2480.21 2480.32 2480.13 ... 2480.41 2480.19 2480.48]\n   [2480.94 2480.11 2480.91 ... 2480.55 2480.56 2480.18]\n   [2480.37 2480.5  2480.53 ... 2480.17 2480.15 2480.57]]\n\n  ...\n\n  [[2480.96 2480.75 2480.48 ... 2480.78 2480.64 2480.18]\n   [2480.2  2480.75 2480.01 ... 2480.11 2480.96 2480.55]\n   [2480.33 2480.76 2480.53 ... 2480.43 2480.71 2480.28]\n   ...\n   [2480.02 2480.17 2480.81 ... 2480.79 2480.14 2480.66]\n   [2480.56 2480.1  2480.1  ... 2480.74 2480.31 2480.13]\n   [2480.61 2480.11 2480.81 ... 2480.65 2480.08 2480.66]]\n\n  [[2480.67 2480.59 2480.64 ... 2480.08 2480.07 2480.37]\n   [2480.83 2480.05 2480.54 ... 2480.12 2480.29 2480.49]\n   [2480.55 2480.3  2480.76 ... 2480.17 2480.35 2480.84]\n   ...\n   [2480.44 2480.06 2480.87 ... 2480.01 2480.19 2480.66]\n   [2480.37 2480.85 2480.41 ... 2480.3  2480.57 2480.84]\n   [2480.46 2480.33 2480.7  ... 2480.24 2480.75 2480.62]]\n\n  [[2480.55 2480.27 2480.99 ... 2480.79 2480.71 2480.97]\n   [2480.56 2480.96 2480.63 ... 2480.88 2480.81 2480.02]\n   [2480.45 2480.45 2480.69 ... 2480.43 2480.73 2480.98]\n   ...\n   [2480.33 2480.87 2480.84 ... 2480.28 2480.54 2480.36]\n   [2480.89 2480.61 2480.18 ... 2480.68 2480.3  2480.09]\n   [2480.25 2480.23 2480.48 ... 2480.62 2480.15 2480.55]]]]\nindex: 249: value: [[[[2490.34 2490.61 2490.89 ... 2490.64 2490.23 2490.18]\n   [2490.07 2490.29 2490.34 ... 2490.53 2490.31 2490.33]\n   [2490.85 2490.64 2490.18 ... 2490.56 2490.22 2490.75]\n   ...\n   [2490.33 2490.01 2490.09 ... 2490.29 2490.79 2490.33]\n   [2490.19 2490.04 2490.26 ... 2490.72 2490.82 2490.13]\n   [2490.21 2490.24 2490.82 ... 2490.69 2490.8  2490.51]]\n\n  [[2490.41 2490.79 2490.39 ... 2490.19 2490.24 2490.14]\n   [2490.83 2490.24 2490.31 ... 2490.94 2490.39 2490.69]\n   [2490.66 2490.07 2490.3  ... 2490.28 2490.76 2490.76]\n   ...\n   [2490.77 2490.24 2490.73 ... 2490.77 2490.71 2490.79]\n   [2490.44 2490.46 2490.21 ... 2490.07 2490.37 2490.75]\n   [2490.87 2490.46 2490.88 ... 2490.58 2490.04 2490.96]]\n\n  [[2490.61 2490.34 2490.08 ... 2490.1  2490.65 2490.54]\n   [2490.09 2490.36 2490.98 ... 2490.91 2490.26 2490.89]\n   [2490.12 2490.2  2490.11 ... 2490.59 2490.18 2490.15]\n   ...\n   [2490.74 2490.99 2490.99 ... 2490.85 2490.97 2490.03]\n   [2490.4  2490.91 2490.6  ... 2490.48 2490.05 2490.29]\n   [2490.85 2490.36 2490.38 ... 2490.33 2490.47 2490.1 ]]\n\n  ...\n\n  [[2490.48 2490.09 2490.39 ... 2490.2  2490.03 2490.22]\n   [2490.55 2490.65 2490.99 ... 2490.14 2490.87 2490.86]\n   [2490.04 2490.81 2490.04 ... 2490.69 2490.23 2490.6 ]\n   ...\n   [2490.84 2490.73 2490.04 ... 2490.8  2490.71 2490.11]\n   [2490.56 2490.68 2490.94 ... 2490.89 2490.86 2490.46]\n   [2490.37 2490.46 2490.06 ... 2490.7  2490.72 2490.71]]\n\n  [[2490.79 2490.06 2490.91 ... 2490.16 2490.84 2490.06]\n   [2490.26 2490.51 2490.01 ... 2490.36 2490.73 2490.36]\n   [2490.23 2490.32 2490.38 ... 2490.51 2490.88 2490.23]\n   ...\n   [2490.51 2490.67 2490.02 ... 2490.37 2490.28 2490.74]\n   [2490.41 2490.58 2490.6  ... 2490.24 2490.08 2490.51]\n   [2490.55 2490.82 2490.35 ... 2490.34 2490.64 2490.87]]\n\n  [[2490.51 2490.62 2490.63 ... 2490.22 2490.69 2490.55]\n   [2490.7  2490.88 2490.54 ... 2490.6  2490.13 2490.13]\n   [2490.3  2490.1  2490.98 ... 2490.91 2490.36 2490.96]\n   ...\n   [2490.11 2490.4  2490.39 ... 2490.7  2490.48 2490.21]\n   [2490.87 2490.73 2490.18 ... 2490.35 2490.94 2490.24]\n   [2490.56 2490.19 2490.19 ... 2490.92 2490.03 2490.98]]]\n\n\n [[[2490.99 2490.22 2490.92 ... 2490.64 2490.03 2490.85]\n   [2490.27 2490.8  2490.   ... 2490.72 2490.55 2490.29]\n   [2490.45 2490.54 2490.14 ... 2490.04 2490.46 2490.09]\n   ...\n   [2490.3  2490.51 2490.61 ... 2490.08 2490.75 2490.46]\n   [2490.65 2490.47 2490.33 ... 2490.11 2490.6  2490.62]\n   [2490.67 2490.92 2490.93 ... 2490.72 2490.06 2490.6 ]]\n\n  [[2490.6  2490.53 2490.98 ... 2490.84 2490.77 2490.17]\n   [2490.07 2490.48 2490.55 ... 2490.82 2490.08 2490.49]\n   [2490.47 2490.92 2490.47 ... 2490.72 2490.67 2490.82]\n   ...\n   [2490.6  2490.37 2490.23 ... 2490.74 2490.03 2490.5 ]\n   [2490.68 2490.79 2490.82 ... 2490.77 2490.23 2490.27]\n   [2490.64 2490.24 2490.84 ... 2490.22 2490.18 2490.8 ]]\n\n  [[2490.78 2490.81 2490.87 ... 2490.84 2490.58 2490.35]\n   [2490.18 2490.9  2490.69 ... 2490.44 2490.57 2490.85]\n   [2490.61 2490.93 2490.46 ... 2490.12 2490.29 2490.14]\n   ...\n   [2490.34 2490.78 2490.62 ... 2490.71 2490.6  2490.69]\n   [2490.24 2490.41 2490.85 ... 2490.88 2490.02 2490.04]\n   [2490.37 2490.34 2490.59 ... 2490.36 2490.71 2490.12]]\n\n  ...\n\n  [[2490.03 2490.83 2490.19 ... 2490.05 2490.79 2490.27]\n   [2490.53 2490.7  2490.38 ... 2490.98 2490.01 2490.54]\n   [2490.59 2490.56 2490.78 ... 2490.23 2490.97 2490.98]\n   ...\n   [2490.61 2490.6  2490.76 ... 2490.41 2490.18 2490.29]\n   [2490.22 2490.04 2490.84 ... 2490.68 2490.51 2490.88]\n   [2490.89 2490.46 2490.78 ... 2490.78 2490.96 2491.  ]]\n\n  [[2490.66 2490.72 2490.69 ... 2490.84 2490.18 2490.18]\n   [2490.41 2490.92 2490.67 ... 2490.64 2490.84 2490.83]\n   [2490.1  2490.19 2490.36 ... 2490.57 2490.69 2490.44]\n   ...\n   [2490.79 2490.25 2490.7  ... 2490.24 2490.6  2490.51]\n   [2490.67 2490.47 2490.9  ... 2490.11 2490.53 2490.95]\n   [2490.36 2490.06 2490.86 ... 2490.08 2490.12 2490.66]]\n\n  [[2490.98 2490.45 2490.04 ... 2490.51 2490.53 2490.47]\n   [2490.03 2491.   2490.52 ... 2490.27 2490.45 2490.35]\n   [2490.27 2490.88 2490.16 ... 2490.13 2490.02 2490.34]\n   ...\n   [2490.26 2490.93 2490.24 ... 2490.83 2490.23 2490.36]\n   [2490.26 2490.21 2490.97 ... 2490.45 2490.9  2490.44]\n   [2490.78 2490.88 2490.39 ... 2490.36 2490.32 2490.45]]]\n\n\n [[[2490.13 2490.84 2490.94 ... 2490.52 2490.53 2490.38]\n   [2490.7  2490.21 2490.63 ... 2490.38 2490.32 2490.52]\n   [2490.15 2490.05 2490.36 ... 2490.16 2490.22 2490.52]\n   ...\n   [2490.37 2490.92 2490.17 ... 2490.85 2490.42 2490.44]\n   [2490.71 2490.81 2490.21 ... 2490.47 2490.26 2490.8 ]\n   [2490.58 2490.36 2490.38 ... 2490.53 2490.95 2490.03]]\n\n  [[2490.68 2490.81 2490.41 ... 2490.89 2490.19 2490.95]\n   [2490.02 2490.65 2490.34 ... 2490.33 2490.84 2490.22]\n   [2490.29 2490.45 2490.2  ... 2490.02 2490.92 2490.23]\n   ...\n   [2490.58 2490.86 2490.19 ... 2490.47 2490.93 2490.17]\n   [2490.36 2490.28 2490.46 ... 2490.12 2490.74 2490.15]\n   [2490.77 2490.61 2490.22 ... 2490.75 2490.62 2490.  ]]\n\n  [[2490.01 2490.17 2490.22 ... 2490.33 2490.95 2490.24]\n   [2490.47 2490.03 2490.47 ... 2490.44 2490.74 2490.69]\n   [2490.19 2490.47 2490.69 ... 2490.16 2490.5  2490.76]\n   ...\n   [2490.36 2490.04 2490.62 ... 2490.33 2490.1  2490.19]\n   [2490.85 2490.98 2490.28 ... 2490.36 2490.34 2490.44]\n   [2490.16 2490.4  2490.47 ... 2490.07 2490.33 2490.16]]\n\n  ...\n\n  [[2490.96 2490.37 2490.11 ... 2490.29 2490.82 2490.71]\n   [2490.05 2490.34 2490.6  ... 2490.75 2490.88 2490.71]\n   [2490.1  2490.25 2490.83 ... 2490.24 2490.43 2490.36]\n   ...\n   [2490.13 2490.62 2490.6  ... 2490.42 2490.18 2490.07]\n   [2490.82 2490.87 2490.44 ... 2490.24 2490.95 2490.34]\n   [2490.65 2490.8  2490.73 ... 2490.31 2490.77 2490.2 ]]\n\n  [[2490.67 2490.82 2490.02 ... 2490.24 2490.44 2490.16]\n   [2490.45 2490.37 2490.27 ... 2490.23 2490.23 2490.86]\n   [2490.65 2490.3  2490.04 ... 2490.09 2490.68 2490.12]\n   ...\n   [2490.6  2490.39 2490.85 ... 2490.74 2490.56 2490.37]\n   [2490.3  2490.08 2490.14 ... 2490.51 2490.7  2490.05]\n   [2490.89 2490.47 2490.93 ... 2490.91 2490.95 2490.6 ]]\n\n  [[2490.94 2490.36 2490.68 ... 2490.75 2490.7  2490.48]\n   [2490.41 2490.46 2490.6  ... 2490.13 2490.92 2490.29]\n   [2490.77 2490.57 2490.48 ... 2490.21 2490.29 2490.75]\n   ...\n   [2490.99 2490.74 2490.24 ... 2490.47 2490.7  2490.55]\n   [2490.66 2490.9  2490.87 ... 2490.51 2490.09 2490.67]\n   [2490.03 2490.07 2490.14 ... 2490.3  2490.37 2490.45]]]\n\n\n [[[2490.85 2490.3  2490.8  ... 2490.54 2490.99 2490.67]\n   [2490.94 2490.12 2490.32 ... 2490.68 2490.89 2490.48]\n   [2490.93 2490.53 2490.42 ... 2490.26 2490.64 2490.68]\n   ...\n   [2490.96 2490.92 2490.79 ... 2490.08 2490.02 2490.07]\n   [2490.89 2490.29 2490.91 ... 2490.1  2490.13 2490.91]\n   [2490.66 2490.6  2490.95 ... 2490.69 2490.32 2490.28]]\n\n  [[2490.67 2490.91 2490.35 ... 2490.83 2490.8  2490.48]\n   [2490.58 2490.29 2490.83 ... 2490.36 2490.52 2490.39]\n   [2490.37 2490.7  2490.34 ... 2490.42 2490.85 2490.9 ]\n   ...\n   [2490.83 2490.53 2490.16 ... 2490.03 2490.37 2490.02]\n   [2490.64 2490.83 2490.69 ... 2490.6  2490.27 2490.31]\n   [2490.8  2490.29 2490.68 ... 2490.4  2490.06 2490.12]]\n\n  [[2490.66 2490.92 2490.2  ... 2490.42 2490.02 2490.13]\n   [2490.06 2490.03 2490.08 ... 2490.82 2490.37 2490.36]\n   [2490.89 2490.52 2490.19 ... 2490.73 2490.39 2490.99]\n   ...\n   [2490.69 2490.44 2490.41 ... 2490.95 2490.76 2490.45]\n   [2490.35 2490.08 2490.17 ... 2490.49 2490.33 2490.17]\n   [2490.44 2490.61 2491.   ... 2490.91 2490.8  2490.67]]\n\n  ...\n\n  [[2490.49 2490.54 2490.78 ... 2490.32 2490.99 2490.72]\n   [2490.58 2490.7  2490.5  ... 2490.54 2490.56 2490.2 ]\n   [2490.68 2490.15 2490.8  ... 2490.61 2490.16 2490.89]\n   ...\n   [2490.17 2490.95 2490.24 ... 2490.03 2490.42 2490.17]\n   [2490.31 2490.9  2490.48 ... 2490.65 2490.94 2490.22]\n   [2490.58 2490.82 2490.17 ... 2490.93 2490.26 2490.66]]\n\n  [[2490.8  2490.48 2490.59 ... 2490.46 2490.41 2490.72]\n   [2490.76 2490.81 2490.06 ... 2490.92 2490.53 2490.97]\n   [2490.39 2490.49 2490.12 ... 2490.85 2490.26 2490.7 ]\n   ...\n   [2490.66 2490.26 2490.88 ... 2490.18 2490.35 2490.83]\n   [2490.74 2490.24 2490.27 ... 2490.56 2490.76 2490.84]\n   [2490.16 2490.39 2490.03 ... 2490.86 2490.15 2490.11]]\n\n  [[2490.02 2490.76 2490.28 ... 2490.96 2490.17 2490.68]\n   [2490.93 2490.76 2490.15 ... 2490.14 2490.02 2490.6 ]\n   [2490.99 2490.71 2490.53 ... 2490.03 2490.46 2490.31]\n   ...\n   [2490.87 2490.84 2490.93 ... 2490.84 2490.97 2490.94]\n   [2490.37 2490.46 2490.5  ... 2490.2  2490.79 2490.16]\n   [2490.52 2490.52 2490.73 ... 2490.76 2490.18 2490.89]]]]\n"
        },
        {
         "data": {
          "text/plain": "[(10, 4, 10, 10, 10), (10, 4, 10, 10, 10)]"
         },
         "metadata": {},
         "output_type": "display_data"
        }
       ]
      }
     },
     "a903c49ab23340c88abbae6d5b21222f": {
      "model_module": "@jupyter-widgets/controls",
      "model_module_version": "1.5.0",
      "model_name": "CheckboxModel",
      "state": {
       "description": "debug",
       "disabled": false,
       "layout": "IPY_MODEL_e28d8a080abb49c9b2149fa4863b445c",
       "style": "IPY_MODEL_fdda5c9f193f4add8211f345873bb450",
       "value": false
      }
     },
     "a9ef66b1baaf4df4b8bdd6dec1e5f1be": {
      "model_module": "@jupyter-widgets/base",
      "model_module_version": "1.2.0",
      "model_name": "LayoutModel",
      "state": {}
     },
     "aa0ec329093b4e668796b2cee4ceae64": {
      "model_module": "@jupyter-widgets/controls",
      "model_module_version": "1.5.0",
      "model_name": "TextModel",
      "state": {
       "description": "ouptut_obj_shape",
       "layout": "IPY_MODEL_bd67868e75bb4a789c4d1a0c8e74b658",
       "style": "IPY_MODEL_100b3988fca54caf8c6a1c3d49f3d632",
       "value": "(5,5,5)"
      }
     },
     "ad05603b8a4341ef852b04409cd53cb8": {
      "model_module": "@jupyter-widgets/controls",
      "model_module_version": "1.5.0",
      "model_name": "VBoxModel",
      "state": {
       "_dom_classes": [
        "widget-interact"
       ],
       "children": [
        "IPY_MODEL_c3307a34d608456ebb3a3498e83f45a4",
        "IPY_MODEL_54042294d28c48739b674adf42c9337b",
        "IPY_MODEL_27cd328f834c4163b250856e978e0f2e",
        "IPY_MODEL_392bb5f1e2ff4dc7b0fa5b15f44e613c"
       ],
       "layout": "IPY_MODEL_d420452660b54657b021e2b72e60c34a"
      }
     },
     "adf7d024f733440db33475150381980f": {
      "model_module": "@jupyter-widgets/base",
      "model_module_version": "1.2.0",
      "model_name": "LayoutModel",
      "state": {}
     },
     "ae3d4eef46504a8a818857eabefe9ebc": {
      "model_module": "@jupyter-widgets/base",
      "model_module_version": "1.2.0",
      "model_name": "LayoutModel",
      "state": {}
     },
     "b1c6b1982cbc485f9eed58855806f7aa": {
      "model_module": "@jupyter-widgets/base",
      "model_module_version": "1.2.0",
      "model_name": "LayoutModel",
      "state": {}
     },
     "b3df8869f5814daeb766a60a5655359e": {
      "model_module": "@jupyter-widgets/controls",
      "model_module_version": "1.5.0",
      "model_name": "SliderStyleModel",
      "state": {
       "description_width": ""
      }
     },
     "b7ea1d8a4a9d4cc69f47d312624da79e": {
      "model_module": "@jupyter-widgets/base",
      "model_module_version": "1.2.0",
      "model_name": "LayoutModel",
      "state": {}
     },
     "ba1bfb0b56d74cf690842bd9f3c19636": {
      "model_module": "@jupyter-widgets/base",
      "model_module_version": "1.2.0",
      "model_name": "LayoutModel",
      "state": {}
     },
     "ba873f8f23da4afeb26dbe3d9ff6bf90": {
      "model_module": "@jupyter-widgets/controls",
      "model_module_version": "1.5.0",
      "model_name": "VBoxModel",
      "state": {
       "_dom_classes": [
        "widget-interact"
       ],
       "children": [
        "IPY_MODEL_74c4b3f58a0f44dd8594175dceff21e8",
        "IPY_MODEL_44b7669450964a649994dac32311c26b",
        "IPY_MODEL_fa1085b4eedc4323a111c99cc51ed39e",
        "IPY_MODEL_005a9932d5db42c981ed33ea76145040"
       ],
       "layout": "IPY_MODEL_9cd386faaeef48ffb96acf67b0ac76dc"
      }
     },
     "bc2b7aa15f834616ae3faffcf391780e": {
      "model_module": "@jupyter-widgets/base",
      "model_module_version": "1.2.0",
      "model_name": "LayoutModel",
      "state": {}
     },
     "bd67868e75bb4a789c4d1a0c8e74b658": {
      "model_module": "@jupyter-widgets/base",
      "model_module_version": "1.2.0",
      "model_name": "LayoutModel",
      "state": {}
     },
     "bef4330cfbf24ac49311cce6ae12e285": {
      "model_module": "@jupyter-widgets/controls",
      "model_module_version": "1.5.0",
      "model_name": "DescriptionStyleModel",
      "state": {
       "description_width": ""
      }
     },
     "bf9975de1baa4e00896a107ac4567512": {
      "model_module": "@jupyter-widgets/controls",
      "model_module_version": "1.5.0",
      "model_name": "VBoxModel",
      "state": {
       "_dom_classes": [
        "widget-interact"
       ],
       "children": [
        "IPY_MODEL_efde01169409420ca13957b3ea2603fc",
        "IPY_MODEL_6e2911603bd14068942ad6ac283bd8db",
        "IPY_MODEL_d502f85c423d48e68aa5a4dc9e7f58ac",
        "IPY_MODEL_7b8a9cadfe06404a94f422f267a7c09a"
       ],
       "layout": "IPY_MODEL_ae3d4eef46504a8a818857eabefe9ebc"
      }
     },
     "c00350dcc24b4fbca1a4cbc6b5cb8b3f": {
      "model_module": "@jupyter-widgets/base",
      "model_module_version": "1.2.0",
      "model_name": "LayoutModel",
      "state": {}
     },
     "c01e495ae7964e0b8bd5487edb2ddbdf": {
      "model_module": "@jupyter-widgets/controls",
      "model_module_version": "1.5.0",
      "model_name": "SliderStyleModel",
      "state": {
       "description_width": ""
      }
     },
     "c2933f04761342d083030c7f33d81a09": {
      "model_module": "@jupyter-widgets/controls",
      "model_module_version": "1.5.0",
      "model_name": "SliderStyleModel",
      "state": {
       "description_width": ""
      }
     },
     "c2ac93b4d7f44d7f94dd992216fca070": {
      "model_module": "@jupyter-widgets/controls",
      "model_module_version": "1.5.0",
      "model_name": "DescriptionStyleModel",
      "state": {
       "description_width": ""
      }
     },
     "c3307a34d608456ebb3a3498e83f45a4": {
      "model_module": "@jupyter-widgets/controls",
      "model_module_version": "1.5.0",
      "model_name": "IntSliderModel",
      "state": {
       "description": "selected_batch",
       "layout": "IPY_MODEL_c00350dcc24b4fbca1a4cbc6b5cb8b3f",
       "max": 49,
       "style": "IPY_MODEL_47ae0912c5e240e5a76a27f1a00ade3a",
       "value": 24
      }
     },
     "c4e2b7302d494f88af68955ad12ba0a4": {
      "model_module": "@jupyter-widgets/output",
      "model_module_version": "1.0.0",
      "model_name": "OutputModel",
      "state": {
       "layout": "IPY_MODEL_eca8400ae6d949ef83ee8aebd18f915e",
       "outputs": [
        {
         "name": "stdout",
         "output_type": "stream",
         "text": "selected batch: 49 of 99 with a batchsize of 10 and total 1000 examples\nstart idx: 490, end idx: 500\nIndexes of the currrent batch: [490, 491, 492, 493, 494, 495, 496, 497, 498, 499]\n----------------------------------------\n"
        },
        {
         "data": {
          "text/plain": "[(10, 4, 10, 10, 10), (10, 1, 10, 10, 10)]"
         },
         "metadata": {},
         "output_type": "display_data"
        }
       ]
      }
     },
     "c6aafa58566148809c57b9a808ba1996": {
      "model_module": "@jupyter-widgets/controls",
      "model_module_version": "1.5.0",
      "model_name": "DescriptionStyleModel",
      "state": {
       "description_width": ""
      }
     },
     "c77817373ec6443f876e6e53b97c26db": {
      "model_module": "@jupyter-widgets/controls",
      "model_module_version": "1.5.0",
      "model_name": "DescriptionStyleModel",
      "state": {
       "description_width": ""
      }
     },
     "cb17b4a0cf3e4d928b4020940d4641c8": {
      "model_module": "@jupyter-widgets/controls",
      "model_module_version": "1.5.0",
      "model_name": "VBoxModel",
      "state": {
       "_dom_classes": [
        "widget-interact"
       ],
       "children": [
        "IPY_MODEL_99921a7fe3d24f4aa85fae17c4fd83a0",
        "IPY_MODEL_01ddb25f2b774fcf87c09070eb2172a7",
        "IPY_MODEL_554461e295004cc6b5d7a37e5e79168b",
        "IPY_MODEL_939bae6fc7674b6ebfda3e982639e2ca",
        "IPY_MODEL_1cf33aa23a074ac4b087c58157e494f3",
        "IPY_MODEL_aa0ec329093b4e668796b2cee4ceae64",
        "IPY_MODEL_744299fed4254342838121636a60a2ea",
        "IPY_MODEL_38792cbd041749318f24ec9b8c7e9a2b"
       ],
       "layout": "IPY_MODEL_91e2ed1ea6354140bf9939d2c5613471"
      }
     },
     "ccf296b8aab14769a73f40033e8a6d71": {
      "model_module": "@jupyter-widgets/controls",
      "model_module_version": "1.5.0",
      "model_name": "DescriptionStyleModel",
      "state": {
       "description_width": ""
      }
     },
     "cf986ec665f9479d99a3e385d2c1480b": {
      "model_module": "@jupyter-widgets/controls",
      "model_module_version": "1.5.0",
      "model_name": "IntSliderModel",
      "state": {
       "description": "output_objects_",
       "layout": "IPY_MODEL_0de1e98df04e47ab8ba87f1fb173db17",
       "max": 8,
       "min": 1,
       "style": "IPY_MODEL_1a8d62c6d6784e3b8204562057974898",
       "value": 1
      }
     },
     "d420452660b54657b021e2b72e60c34a": {
      "model_module": "@jupyter-widgets/base",
      "model_module_version": "1.2.0",
      "model_name": "LayoutModel",
      "state": {}
     },
     "d502f85c423d48e68aa5a4dc9e7f58ac": {
      "model_module": "@jupyter-widgets/controls",
      "model_module_version": "1.5.0",
      "model_name": "CheckboxModel",
      "state": {
       "description": "debug",
       "disabled": false,
       "layout": "IPY_MODEL_724d8cc7b8be4177bacb40fb3be7028f",
       "style": "IPY_MODEL_c2ac93b4d7f44d7f94dd992216fca070",
       "value": false
      }
     },
     "d74a449d07f240f0bf6c6bee7be70783": {
      "model_module": "@jupyter-widgets/controls",
      "model_module_version": "1.5.0",
      "model_name": "CheckboxModel",
      "state": {
       "description": "shuffle_indexes",
       "disabled": false,
       "layout": "IPY_MODEL_b1c6b1982cbc485f9eed58855806f7aa",
       "style": "IPY_MODEL_636c0cde9e9f440cabada8578ad9e2d4",
       "value": false
      }
     },
     "dbf335ed734f4317b809861a8b1024a2": {
      "model_module": "@jupyter-widgets/base",
      "model_module_version": "1.2.0",
      "model_name": "LayoutModel",
      "state": {}
     },
     "e28d8a080abb49c9b2149fa4863b445c": {
      "model_module": "@jupyter-widgets/base",
      "model_module_version": "1.2.0",
      "model_name": "LayoutModel",
      "state": {}
     },
     "e28fe0d9e3db4317862313bcf09b2abf": {
      "model_module": "@jupyter-widgets/controls",
      "model_module_version": "1.5.0",
      "model_name": "DescriptionStyleModel",
      "state": {
       "description_width": ""
      }
     },
     "e4a36fc814fa42528c23e180bee7049a": {
      "model_module": "@jupyter-widgets/base",
      "model_module_version": "1.2.0",
      "model_name": "LayoutModel",
      "state": {}
     },
     "e4ee1b9e770a4d8283013eaa4e81d510": {
      "model_module": "@jupyter-widgets/controls",
      "model_module_version": "1.5.0",
      "model_name": "VBoxModel",
      "state": {
       "_dom_classes": [
        "widget-interact"
       ],
       "children": [
        "IPY_MODEL_4b56cfca4d03490e9bf3c59b6c94e9a4",
        "IPY_MODEL_32e23902f7bd4ae99a1194ddd63354ad",
        "IPY_MODEL_cf986ec665f9479d99a3e385d2c1480b",
        "IPY_MODEL_07fb0c2e53dc45a7bb3594573b68dd75",
        "IPY_MODEL_44df3ae141ed4938889581c6b010c64a",
        "IPY_MODEL_eb58bf6d49474347b9787c5fa17cb668",
        "IPY_MODEL_04b431162e164f6f9ad0ef3a661c9d95",
        "IPY_MODEL_17b9ef8d49b74741ae066ef605da3797"
       ],
       "layout": "IPY_MODEL_6db9d403fab248878d7e9ee4bcebf402"
      }
     },
     "e8e88a3744fe45dfbc247443a63e34f7": {
      "model_module": "@jupyter-widgets/controls",
      "model_module_version": "1.5.0",
      "model_name": "SliderStyleModel",
      "state": {
       "description_width": ""
      }
     },
     "eb58bf6d49474347b9787c5fa17cb668": {
      "model_module": "@jupyter-widgets/controls",
      "model_module_version": "1.5.0",
      "model_name": "TextModel",
      "state": {
       "description": "ouptut_obj_shape",
       "layout": "IPY_MODEL_047f48f0cef7496ba7d9b1b5f2a1d6eb",
       "style": "IPY_MODEL_5df8f779399a4c2ea12bce591b4da086",
       "value": "(10,10,10)"
      }
     },
     "eb7510bad74746698f1cb96e7de4297b": {
      "model_module": "@jupyter-widgets/base",
      "model_module_version": "1.2.0",
      "model_name": "LayoutModel",
      "state": {}
     },
     "eca8400ae6d949ef83ee8aebd18f915e": {
      "model_module": "@jupyter-widgets/base",
      "model_module_version": "1.2.0",
      "model_name": "LayoutModel",
      "state": {}
     },
     "ed55e4d0b8d94f64b9ccfbad28fcdc5c": {
      "model_module": "@jupyter-widgets/base",
      "model_module_version": "1.2.0",
      "model_name": "LayoutModel",
      "state": {}
     },
     "ee7160ec97ad412785fb5bcb99431fd9": {
      "model_module": "@jupyter-widgets/base",
      "model_module_version": "1.2.0",
      "model_name": "LayoutModel",
      "state": {}
     },
     "eed0ad0a29be42bcbc59157558d77436": {
      "model_module": "@jupyter-widgets/base",
      "model_module_version": "1.2.0",
      "model_name": "LayoutModel",
      "state": {}
     },
     "ef5ad429b88a445daea84aae92c611cd": {
      "model_module": "@jupyter-widgets/controls",
      "model_module_version": "1.5.0",
      "model_name": "DescriptionStyleModel",
      "state": {
       "description_width": ""
      }
     },
     "efc68cf2ca194329820371929126441a": {
      "model_module": "@jupyter-widgets/base",
      "model_module_version": "1.2.0",
      "model_name": "LayoutModel",
      "state": {}
     },
     "efde01169409420ca13957b3ea2603fc": {
      "model_module": "@jupyter-widgets/controls",
      "model_module_version": "1.5.0",
      "model_name": "IntSliderModel",
      "state": {
       "description": "selected_batch",
       "layout": "IPY_MODEL_e4a36fc814fa42528c23e180bee7049a",
       "max": 249,
       "style": "IPY_MODEL_a68f82d84b404de1ac6527bd6b33a804",
       "value": 149
      }
     },
     "f59d6295beef4a25a474171f6c7f1770": {
      "model_module": "@jupyter-widgets/controls",
      "model_module_version": "1.5.0",
      "model_name": "DescriptionStyleModel",
      "state": {
       "description_width": ""
      }
     },
     "f803d8c46f6e4a7a9a0604fd2392d11b": {
      "model_module": "@jupyter-widgets/base",
      "model_module_version": "1.2.0",
      "model_name": "LayoutModel",
      "state": {}
     },
     "fa1085b4eedc4323a111c99cc51ed39e": {
      "model_module": "@jupyter-widgets/controls",
      "model_module_version": "1.5.0",
      "model_name": "CheckboxModel",
      "state": {
       "description": "debug",
       "disabled": false,
       "layout": "IPY_MODEL_2c95dc82878547a5b67cb84a37c65052",
       "style": "IPY_MODEL_385d5a76f47b4a9c93a0e072fab07193",
       "value": false
      }
     },
     "fb6bb0ed43c54c7d9741cb614950df33": {
      "model_module": "@jupyter-widgets/base",
      "model_module_version": "1.2.0",
      "model_name": "LayoutModel",
      "state": {}
     },
     "fdda5c9f193f4add8211f345873bb450": {
      "model_module": "@jupyter-widgets/controls",
      "model_module_version": "1.5.0",
      "model_name": "DescriptionStyleModel",
      "state": {
       "description_width": ""
      }
     },
     "fe5f7f99221e4bd698e4bbe5a770af14": {
      "model_module": "@jupyter-widgets/controls",
      "model_module_version": "1.5.0",
      "model_name": "VBoxModel",
      "state": {
       "_dom_classes": [
        "widget-interact"
       ],
       "children": [
        "IPY_MODEL_6c29b2d76a9b4a04932c92851eb1942f",
        "IPY_MODEL_2188deb3d47e4e9ba32b9f778ee18d7e",
        "IPY_MODEL_5a91d9eccd6c434bbcd7e2207e307986",
        "IPY_MODEL_a8e2a50842d04407877f04637b5692ee"
       ],
       "layout": "IPY_MODEL_b7ea1d8a4a9d4cc69f47d312624da79e"
      }
     },
     "ff19b1f3d5d549b9a56a8e317d50a2ed": {
      "model_module": "@jupyter-widgets/controls",
      "model_module_version": "1.5.0",
      "model_name": "ButtonStyleModel",
      "state": {}
     }
    },
    "version_major": 2,
    "version_minor": 0
   }
  }
 },
 "nbformat": 4,
 "nbformat_minor": 4
}
