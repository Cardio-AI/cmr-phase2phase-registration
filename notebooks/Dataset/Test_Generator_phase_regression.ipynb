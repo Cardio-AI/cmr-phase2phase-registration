{
 "cells": [
  {
   "cell_type": "code",
   "execution_count": 7,
   "metadata": {},
   "outputs": [
    {
     "name": "stderr",
     "output_type": "stream",
     "text": [
      "2021-03-03 14:36:25,415 INFO -------------------- Start --------------------\n",
      "2021-03-03 14:36:25,416 INFO Working directory: /mnt/ssd/git/dynamic-cmr-models.\n",
      "2021-03-03 14:36:25,416 INFO Log file: ./logs/temp_/8_64_64__8_3_3_tenc64_conv1_MSE_smooth02_augNO_taug3_3_batch8_f0.log\n",
      "2021-03-03 14:36:25,417 INFO Log level for console: DEBUG\n",
      "2021-03-03 14:36:25,421 INFO Is built with tensorflow: True\n",
      "2021-03-03 14:36:25,422 INFO Visible devices:\n",
      "[PhysicalDevice(name='/physical_device:CPU:0', device_type='CPU'), PhysicalDevice(name='/physical_device:XLA_CPU:0', device_type='XLA_CPU'), PhysicalDevice(name='/physical_device:XLA_GPU:0', device_type='XLA_GPU'), PhysicalDevice(name='/physical_device:XLA_GPU:1', device_type='XLA_GPU'), PhysicalDevice(name='/physical_device:GPU:0', device_type='GPU'), PhysicalDevice(name='/physical_device:GPU:1', device_type='GPU')]\n",
      "2021-03-03 14:36:25,429 INFO Local devices: \n",
      " [name: \"/device:CPU:0\"\n",
      "device_type: \"CPU\"\n",
      "memory_limit: 268435456\n",
      "locality {\n",
      "}\n",
      "incarnation: 4824524177517454522\n",
      ", name: \"/device:XLA_CPU:0\"\n",
      "device_type: \"XLA_CPU\"\n",
      "memory_limit: 17179869184\n",
      "locality {\n",
      "}\n",
      "incarnation: 16686453496406116062\n",
      "physical_device_desc: \"device: XLA_CPU device\"\n",
      ", name: \"/device:XLA_GPU:0\"\n",
      "device_type: \"XLA_GPU\"\n",
      "memory_limit: 17179869184\n",
      "locality {\n",
      "}\n",
      "incarnation: 13521873299225533538\n",
      "physical_device_desc: \"device: XLA_GPU device\"\n",
      ", name: \"/device:XLA_GPU:1\"\n",
      "device_type: \"XLA_GPU\"\n",
      "memory_limit: 17179869184\n",
      "locality {\n",
      "}\n",
      "incarnation: 10487117004824889775\n",
      "physical_device_desc: \"device: XLA_GPU device\"\n",
      ", name: \"/device:GPU:0\"\n",
      "device_type: \"GPU\"\n",
      "memory_limit: 23092938752\n",
      "locality {\n",
      "  bus_id: 1\n",
      "  links {\n",
      "  }\n",
      "}\n",
      "incarnation: 8890022900590492631\n",
      "physical_device_desc: \"device: 0, name: TITAN RTX, pci bus id: 0000:01:00.0, compute capability: 7.5\"\n",
      ", name: \"/device:GPU:1\"\n",
      "device_type: \"GPU\"\n",
      "memory_limit: 23561682304\n",
      "locality {\n",
      "  bus_id: 1\n",
      "  links {\n",
      "  }\n",
      "}\n",
      "incarnation: 11138979522672198143\n",
      "physical_device_desc: \"device: 1, name: TITAN RTX, pci bus id: 0000:02:00.0, compute capability: 7.5\"\n",
      "]\n"
     ]
    },
    {
     "name": "stdout",
     "output_type": "stream",
     "text": [
      "search for root_dir and set working directory\n",
      "Working directory set to: /mnt/ssd/git/dynamic-cmr-models\n",
      "['/gpu:0', '/gpu:1']\n",
      "{'GPU_IDS': '0,1', 'GPUS': ['/gpu:0', '/gpu:1'], 'SEED': 42, 'EXPERIMENT': 'temp_/8_64_64__8_3_3_tenc64_conv1_MSE_smooth02_augNO_taug3_3_batch8_f0', 'EXPERIMENTS_ROOT': 'exp/', 'EXP_PATH': 'exp/temp_/8_64_64__8_3_3_tenc64_conv1_MSE_smooth02_augNO_taug3_3_batch8_f0/2021-03-03_14_36', 'MODEL_PATH': 'exp/temp_/8_64_64__8_3_3_tenc64_conv1_MSE_smooth02_augNO_taug3_3_batch8_f0/2021-03-03_14_36/model', 'TENSORBOARD_PATH': 'exp/temp_/8_64_64__8_3_3_tenc64_conv1_MSE_smooth02_augNO_taug3_3_batch8_f0/2021-03-03_14_36/tensorboard_logs', 'CONFIG_PATH': 'exp/temp_/8_64_64__8_3_3_tenc64_conv1_MSE_smooth02_augNO_taug3_3_batch8_f0/2021-03-03_14_36/config', 'HISTORY_PATH': 'exp/temp_/8_64_64__8_3_3_tenc64_conv1_MSE_smooth02_augNO_taug3_3_batch8_f0/2021-03-03_14_36/history', 'DATA_PATH_SAX': '/mnt/ssd/data/gcn/02_imported_4D_unfiltered/SAX/', 'DF_FOLDS': '/mnt/ssd/data/gcn/02_imported_4D_unfiltered/df_kfold.csv', 'DF_META': '/mnt/ssd/data/gcn/02_imported_4D_unfiltered/SAx_3D_dicomTags_phase', 'FOLD': 0, 'BATCHSIZE': 1, 'GENERATOR_WORKER': 1, 'EPOCHS': 200, 'DIM': [8, 64, 64], 'T_SHAPE': 36, 'SPACING': [8, 3, 3], 'DEPTH': 3, 'FILTERS': 64, 'M_POOL': [1, 2, 2], 'F_SIZE': [3, 3, 3], 'BN_FIRST': False, 'BATCH_NORMALISATION': True, 'PAD': 'same', 'KERNEL_INIT': 'he_normal', 'OPTIMIZER': 'adam', 'ACTIVATION': 'relu', 'LEARNING_RATE': 0.0001, 'REDUCE_LR_ON_PLAEAU_PATIENCE': 5, 'DECAY_FACTOR': 0.7, 'MIN_LR': 1e-12, 'MONITOR_FUNCTION': 'loss', 'MONITOR_MODE': 'min', 'SAVE_MODEL_FUNCTION': 'loss', 'SAVE_MODEL_MODE': 'min', 'MODEL_PATIENCE': 20, 'SAVE_LEARNING_PROGRESS_AS_TF': True, 'BORDER_MODE': 4, 'IMG_INTERPOLATION': 1, 'MSK_INTERPOLATION': 0, 'AUGMENT': True, 'AUGMENT_PROB': 0.8, 'AUGMENT_PHASES': True, 'AUGMENT_PHASES_RANGE': (-3, 3), 'REPEAT_ONEHOT': True, 'SHUFFLE': True, 'RESAMPLE': True, 'SCALER': 'MinMax', 'PHASES': 5, 'TARGET_SMOOTHING': True, 'SMOOTHING_KERNEL_SIZE': 12, 'SMOOTHING_LOWER_BORDER': 1, 'SMOOTHING_UPPER_BORDER': 5, 'SMOOTHING_WEIGHT_CORRECT': 10, 'TENSORBOARD_LOG_DIR': 'reports/tensorboard_logs/temp_/8_64_64__8_3_3_tenc64_conv1_MSE_smooth02_augNO_taug3_3_batch8_f0', 'METADATA_FILE': '/mnt/ssd/data/gcn/02_imported_4D_unfiltered/SAx_3D_dicomTags_phase', 'DF_METADATA':        patient   ED#  MS#   ES#   PF#   MD#\n",
      "0     02Z1L14N  14.0  3.0   6.0   8.0  12.0\n",
      "1     02Z1L14N  14.0  3.0   6.0   8.0  12.0\n",
      "2     02Z1L14N  14.0  3.0   6.0   8.0  12.0\n",
      "3     02Z1L14N  14.0  3.0   6.0   8.0  12.0\n",
      "4     02Z1L14N  14.0  3.0   6.0   8.0  12.0\n",
      "...        ...   ...  ...   ...   ...   ...\n",
      "1385  ZZQ0001Q   1.0  5.0  10.0  14.0  19.0\n",
      "1386  ZZQ0001Q   1.0  5.0  10.0  14.0  19.0\n",
      "1387  ZZQ0001Q   1.0  5.0  10.0  14.0  19.0\n",
      "1388  ZZQ0001Q   1.0  5.0  10.0  14.0  19.0\n",
      "1389  ZZQ0001Q   1.0  5.0  10.0  14.0  19.0\n",
      "\n",
      "[1390 rows x 6 columns]}\n"
     ]
    }
   ],
   "source": [
    "# ------------------------------------------define logging and working directory\n",
    "from ProjectRoot import change_wd_to_project_root\n",
    "change_wd_to_project_root()\n",
    "from src.utils.Tensorflow_helper import choose_gpu_by_id\n",
    "# ------------------------------------------define GPU id/s to use\n",
    "GPU_IDS = '0,1'\n",
    "GPUS = choose_gpu_by_id(GPU_IDS)\n",
    "print(GPUS)\n",
    "# ------------------------------------------jupyter magic config\n",
    "%matplotlib inline\n",
    "%reload_ext autoreload\n",
    "%autoreload 2\n",
    "# ------------------------------------------ import helpers\n",
    "# this should import glob, os, and many other standard libs\n",
    "from src.utils.Notebook_imports import *\n",
    "from tensorflow.python.client import device_lib\n",
    "import tensorflow as tf\n",
    "tf.get_logger().setLevel('ERROR')\n",
    "# local imports\n",
    "from src.utils.Utils_io import Console_and_file_logger, init_config\n",
    "from src.visualization.Visualize import show_2D_or_3D, show_phases, show_phases_transpose\n",
    "from src.utils.KerasCallbacks import get_callbacks\n",
    "from src.data.Dataset import get_trainings_files\n",
    "\n",
    "# import external libs\n",
    "import cv2\n",
    "import pandas as pd\n",
    "\n",
    "EXPERIMENT = 'temp_/8_64_64__8_3_3_tenc64_conv1_MSE_smooth02_augNO_taug3_3_batch8_f0'\n",
    "#EXPERIMENT = 'baseline_label_transpose_smooth05/36_5_BiLSTM32_NoBn_conv5_size1_CCE_NOphaseaug_NOaug_b8'\n",
    "# EXPERIMENT = 'mased_scores/36_5_BiLSTM32_NoBn_conv5_size1_CCE_NOphaseaug_shift_rotate_reflectbordersgridaug'\n",
    "timestemp = str(datetime.datetime.now().strftime(\"%Y-%m-%d_%H_%M\")) # ad a timestep to each project to make repeated experiments unique\n",
    "\n",
    "EXPERIMENTS_ROOT = 'exp/'\n",
    "EXP_PATH = os.path.join(EXPERIMENTS_ROOT, EXPERIMENT, timestemp)\n",
    "MODEL_PATH = os.path.join(EXP_PATH, 'model', )\n",
    "TENSORBOARD_PATH = os.path.join(EXP_PATH, 'tensorboard_logs')\n",
    "CONFIG_PATH = os.path.join(EXP_PATH,'config')\n",
    "HISTORY_PATH = os.path.join(EXP_PATH, 'history')\n",
    "ensure_dir(MODEL_PATH)\n",
    "ensure_dir(TENSORBOARD_PATH)\n",
    "ensure_dir(CONFIG_PATH)\n",
    "ensure_dir(HISTORY_PATH)\n",
    "\n",
    "# define the data paths and fold \n",
    "# first to the 4D Nrrd files, \n",
    "# second to a dataframe with a mapping of the Fold-number - filename\n",
    "DATA_PATH_SAX = '/mnt/ssd/data/gcn/02_imported_4D_unfiltered/SAX/'\n",
    "DF_FOLDS = '/mnt/ssd/data/gcn/02_imported_4D_unfiltered/df_kfold.csv'\n",
    "DF_META = '/mnt/ssd/data/gcn/02_imported_4D_unfiltered/SAx_3D_dicomTags_phase'\n",
    "FOLD = 0\n",
    "\n",
    "# General params\n",
    "SEED = 42 # define a seed for the generator shuffle\n",
    "BATCHSIZE = 1 # 32, 64, 24, 16, 1 for 3D use: 4\n",
    "GENERATOR_WORKER = BATCHSIZE # if not set, use batchsize\n",
    "EPOCHS = 200\n",
    "\n",
    "DIM = [8, 64, 64] # network input shape for spacing of 3, (z,y,x)\n",
    "T_SHAPE = 36\n",
    "SPACING = [8, 3, 3] # if resample, resample to this spacing, (z,y,x)\n",
    "\n",
    "# Model params\n",
    "DEPTH = 3 # depth of the encoder\n",
    "FILTERS = 64 # initial number of filters, will be doubled after each downsampling block\n",
    "M_POOL = [1, 2, 2]# size of max-pooling used for downsampling and upsampling\n",
    "F_SIZE = [3, 3, 3] # conv filter size\n",
    "BN_FIRST = False # decide if batch normalisation between conv and activation or afterwards\n",
    "BATCH_NORMALISATION = True # apply BN or not\n",
    "PAD = 'same' # padding strategy of the conv layers\n",
    "KERNEL_INIT = 'he_normal' # conv weight initialisation\n",
    "OPTIMIZER = 'adam' # Adam, Adagrad, RMSprop, Adadelta,  # https://keras.io/optimizers/\n",
    "ACTIVATION = 'relu' # tf.keras.layers.LeakyReLU(), relu or any other non linear activation function\n",
    "LEARNING_RATE = 1e-4 # start with a huge lr to converge fast\n",
    "REDUCE_LR_ON_PLAEAU_PATIENCE = 5\n",
    "DECAY_FACTOR = 0.7 # Define a learning rate decay for the ReduceLROnPlateau callback\n",
    "MIN_LR = 1e-12 # minimal lr, smaller lr does not improve the model\n",
    "DROPOUT_min = 0.3 # lower dropout at the shallow layers\n",
    "DROPOUT_max = 0.5 # higher dropout at the deep layers\n",
    "\n",
    "# Callback params\n",
    "MONITOR_FUNCTION = 'loss'\n",
    "MONITOR_MODE = 'min'\n",
    "SAVE_MODEL_FUNCTION = 'loss'\n",
    "SAVE_MODEL_MODE = 'min'\n",
    "MODEL_PATIENCE = 20\n",
    "SAVE_LEARNING_PROGRESS_AS_TF = True\n",
    "\n",
    "# Generator and Augmentation params\n",
    "BORDER_MODE = cv2.BORDER_REFLECT_101 # border mode for the data generation\n",
    "IMG_INTERPOLATION = cv2.INTER_LINEAR # image interpolation in the genarator\n",
    "MSK_INTERPOLATION = cv2.INTER_NEAREST # mask interpolation in the generator\n",
    "AUGMENT = True # a compose of 2D augmentation (grid distortion, 90degree rotation, brightness and shift)\n",
    "AUGMENT_PROB = 0.8\n",
    "AUGMENT_PHASES = True\n",
    "AUGMENT_PHASES_RANGE = (-3,3)\n",
    "REPEAT_ONEHOT = True\n",
    "SHUFFLE = True\n",
    "RESAMPLE = True\n",
    "SCALER = 'MinMax' # MinMax, Standard or Robust\n",
    "# We define 5 target phases and a background phase for the pad/empty volumes \n",
    "PHASES = len(['ED#', 'MS#', 'ES#', 'PF#', 'MD#']) # skipped 'pad backround manually added', due to repeating\n",
    "TARGET_SMOOTHING = True\n",
    "SMOOTHING_KERNEL_SIZE = 12\n",
    "SMOOTHING_LOWER_BORDER = 1\n",
    "SMOOTHING_UPPER_BORDER = 5\n",
    "SMOOTHING_WEIGHT_CORRECT = 10\n",
    "\n",
    "\n",
    "Console_and_file_logger(EXPERIMENT, logging.INFO)\n",
    "config = init_config(config=locals(), save=True)\n",
    "print(config)\n",
    "logging.info('Is built with tensorflow: {}'.format(tf.test.is_built_with_cuda()))\n",
    "logging.info('Visible devices:\\n{}'.format(tf.config.list_physical_devices()))\n",
    "logging.info('Local devices: \\n {}'.format(device_lib.list_local_devices()))"
   ]
  },
  {
   "cell_type": "code",
   "execution_count": 8,
   "metadata": {},
   "outputs": [
    {
     "name": "stderr",
     "output_type": "stream",
     "text": [
      "2021-03-03 14:36:25,529 INFO no files found, try to load with clean.nrrd/mask.nrrd pattern\n",
      "2021-03-03 14:36:25,534 INFO Found 278 images/masks in /mnt/ssd/data/gcn/02_imported_4D_unfiltered/SAX/\n",
      "2021-03-03 14:36:25,535 INFO Patients train: 209\n",
      "2021-03-03 14:36:25,545 INFO Selected 209 of 278 files with 209 of 279 patients for training fold 0\n",
      "2021-03-03 14:36:25,546 INFO SAX train CMR: 209, SAX train masks: 209\n",
      "2021-03-03 14:36:25,546 INFO SAX val CMR: 69, SAX val masks: 69\n"
     ]
    }
   ],
   "source": [
    "# Load SAX volumes\n",
    "x_train_sax, y_train_sax, x_val_sax, y_val_sax =  get_trainings_files(data_path=DATA_PATH_SAX,path_to_folds_df=DF_FOLDS, fold=FOLD)\n",
    "logging.info('SAX train CMR: {}, SAX train masks: {}'.format(len(x_train_sax), len(y_train_sax)))\n",
    "logging.info('SAX val CMR: {}, SAX val masks: {}'.format(len(x_val_sax), len(y_val_sax)))"
   ]
  },
  {
   "cell_type": "code",
   "execution_count": 9,
   "metadata": {},
   "outputs": [],
   "source": [
    "# check if we find each patient in the corresponding dataframe\n",
    "import re\n",
    "import pandas as pd\n",
    "METADATA_FILE = config.get('DF_META', '/mnt/ssd/data/gcn/02_imported_4D_unfiltered/SAx_3D_dicomTags_phase')\n",
    "df = pd.read_csv(METADATA_FILE)\n",
    "DF_METADATA = df[['patient', 'ED#', 'MS#', 'ES#', 'PF#', 'MD#']]"
   ]
  },
  {
   "cell_type": "code",
   "execution_count": 10,
   "metadata": {},
   "outputs": [
    {
     "name": "stderr",
     "output_type": "stream",
     "text": [
      "2021-03-03 14:36:25,910 INFO Check if we find the patient ID and phase mapping for all: 278 files.\n",
      "2021-03-03 14:36:26,159 INFO Done!\n"
     ]
    }
   ],
   "source": [
    "files_ = x_train_sax + x_val_sax\n",
    "info('Check if we find the patient ID and phase mapping for all: {} files.'.format(len(files_)))\n",
    "for x in files_:\n",
    "    try:\n",
    "        patient_str = re.search('-(.{8})_', x).group(1).upper()\n",
    "        \n",
    "        assert(len(patient_str) == 8), 'matched patient ID from the phase sheet has a length of: {}'.format(len(patient_str))\n",
    "        # returns the indices in the following order: 'ED#', 'MS#', 'ES#', 'PF#', 'MD#'\n",
    "        # reduce by one, as the indexes start at 0, the excel-sheet at 1\n",
    "        ind = DF_METADATA[DF_METADATA.patient.str.contains(patient_str)][['ED#', 'MS#', 'ES#', 'PF#', 'MD#']]\n",
    "        indices = ind.values[0].astype(int) -1\n",
    "        \n",
    "    except Exception as e:\n",
    "        logging.info(patient_str)\n",
    "        logging.info(ind)\n",
    "        logging.info('indices: \\n{}'.format(indices))\n",
    "info('Done!')"
   ]
  },
  {
   "cell_type": "code",
   "execution_count": 11,
   "metadata": {},
   "outputs": [
    {
     "data": {
      "application/vnd.jupyter.widget-view+json": {
       "model_id": "2ae939412a3947e29e7889d8300be2a8",
       "version_major": 2,
       "version_minor": 0
      },
      "text/plain": [
       "interactive(children=(Text(value='', description='search_str'), Output()), _dom_classes=('widget-interact',))"
      ]
     },
     "metadata": {},
     "output_type": "display_data"
    }
   ],
   "source": [
    "@interact\n",
    "def search_p_in_df(search_str = ''):\n",
    "    return DF_METADATA[DF_METADATA['patient'].str.contains(search_str)]"
   ]
  },
  {
   "cell_type": "code",
   "execution_count": 25,
   "metadata": {},
   "outputs": [
    {
     "name": "stderr",
     "output_type": "stream",
     "text": [
      "2021-03-03 14:59:23,372 INFO Create DataGenerator\n",
      "2021-03-03 14:59:23,374 INFO Datagenerator created with: \n",
      " shape: [8, 64, 64]\n",
      " spacing: [8, 3, 3]\n",
      " batchsize: 1\n",
      " Scaler: MinMax\n",
      " Images: 209 \n",
      " Augment: True \n",
      " Thread workers: 1\n",
      "2021-03-03 14:59:23,374 INFO Data will be augmented (shift,scale and rotate) with albumentation\n",
      "2021-03-03 14:59:23,387 INFO Smoothing kernel: \n",
      "[ 1.   1.8  2.6  3.4  4.2  5.  10.   5.   4.2  3.4  2.6  1.8  1. ]\n",
      "2021-03-03 14:59:23,388 INFO Temporal phase augmentation: \n",
      "True\n",
      "Repeat volume: \n",
      "True\n",
      "2021-03-03 14:59:23,388 INFO Create DataGenerator\n",
      "2021-03-03 14:59:23,389 INFO Datagenerator created with: \n",
      " shape: [8, 64, 64]\n",
      " spacing: [8, 3, 3]\n",
      " batchsize: 1\n",
      " Scaler: MinMax\n",
      " Images: 69 \n",
      " Augment: False \n",
      " Thread workers: 1\n",
      "2021-03-03 14:59:23,389 INFO No augmentation\n",
      "2021-03-03 14:59:23,403 INFO Smoothing kernel: \n",
      "[ 1.   1.8  2.6  3.4  4.2  5.  10.   5.   4.2  3.4  2.6  1.8  1. ]\n",
      "2021-03-03 14:59:23,404 INFO Temporal phase augmentation: \n",
      "False\n",
      "Repeat volume: \n",
      "True\n"
     ]
    }
   ],
   "source": [
    "# initialise a generator with these files\n",
    "# logging.getLogger().setLevel(logging.INFO)\n",
    "from src.data.Generators import PhaseRegressionGenerator\n",
    "#config['SHUFFLE'] = False\n",
    "#config['AUGMENT'] = False\n",
    "#config['RESAMPLE'] = True\n",
    "#config['AUGMENT_PHASES'] = False\n",
    "batch_generator = PhaseRegressionGenerator(x_train_sax, x_train_sax, config=config)\n",
    "val_config = config.copy()\n",
    "val_config['AUGMENT'] = False\n",
    "val_config['AUGMENT_PHASES'] = False\n",
    "validation_generator = PhaseRegressionGenerator(x_val_sax, x_val_sax , config=val_config)"
   ]
  },
  {
   "cell_type": "code",
   "execution_count": 26,
   "metadata": {},
   "outputs": [
    {
     "data": {
      "application/vnd.jupyter.widget-view+json": {
       "model_id": "03dc5556b12e46db8ff93f2e47b81f2a",
       "version_major": 2,
       "version_minor": 0
      },
      "text/plain": [
       "interactive(children=(IntSlider(value=104, description='batch', max=209), IntSlider(value=0, description='im',…"
      ]
     },
     "metadata": {},
     "output_type": "display_data"
    }
   ],
   "source": [
    "# visualise one batch\n",
    "generator = batch_generator\n",
    "@interact_manual\n",
    "def select_image_in_batch(batch = (0,len(generator), 1), \n",
    "                          im = (0,BATCHSIZE- 1, 1), \n",
    "                          slice_n=(1,11), \n",
    "                          save=False, \n",
    "                          filepath='data/temp/', \n",
    "                          filename='temp_x.npy',\n",
    "                         show_overview=True,\n",
    "                         show_input_vol=False):\n",
    "    \n",
    "    import time\n",
    "    global inputs, outputs, gt_len_msk\n",
    "    phases = ['ED', 'MS', 'ES', 'PF', 'MD']\n",
    "    t1 = time.time()\n",
    "    inputs, outputs = generator.__getitem__(batch)\n",
    "    onehot, gt_len_msk = np.split(outputs, indices_or_sections=2,axis=1)\n",
    "    logging.info('Preprocessing took: {:0.3f}'.format(time.time() - t1))\n",
    "    print(inputs.shape, outputs.shape)\n",
    "    print('selected batch : ' + str(batch))\n",
    "    if show_overview:\n",
    "\n",
    "        show_phases(outputs)\n",
    "        plt.show()\n",
    "        \n",
    "        selected_input = inputs[im]\n",
    "        selected_output = onehot[im][0]\n",
    "        selected_gt_len_msk = gt_len_msk[im][0]\n",
    "        selected_gtlen = int(np.sum((selected_gt_len_msk[0]),axis=0))\n",
    "        logging.info('GT length: {}'.format(selected_gtlen))\n",
    "        logging.debug('pad: \\n{}'.format(selected_output))\n",
    "        \n",
    "        \"\"\"f, axs = plt.subplots(1,2,figsize=(12,4))\n",
    "        i = 0\n",
    "        temp_y = selected_output\n",
    "        print(np.sum(temp_y, axis=1))\n",
    "\n",
    "        # ind_gt = np.argmax(temp_y[:selected_gtlen,:], axis=0) # before we had the gt mask\n",
    "        ind_gt = np.argmax(temp_y * selected_gt_len_msk, axis=1)\n",
    "        axs[0].title.set_text('y')\n",
    "        axs[0].set_xticks(ind_gt, minor=False)\n",
    "        axs[0].set_yticks([0,1,2,3,4], minor=False)\n",
    "        axs[0].set_yticklabels(phases, rotation =45)\n",
    "        axs[0].imshow(temp_y, aspect='auto', )\n",
    "        axs[1].hist(selected_input.flatten(), bins=np.linspace(0.1,1,20))\n",
    "        f.tight_layout()\n",
    "        plt.show()\"\"\"\n",
    "    \n",
    "    if show_input_vol:\n",
    "        f, axs = plt.subplots(1,1,figsize=(4,4))\n",
    "        axs.hist(selected_input.flatten(), bins=np.linspace(0.1,1,20))\n",
    "        f.tight_layout()\n",
    "        plt.show()\n",
    "        \n",
    "        list(map(lambda x: show_2D_or_3D(img=x, interpol='bilinear',dpi=100,f_size=(5,5)), selected_input[::slice_n]))\n",
    "        \n",
    "        \n",
    "    if save:\n",
    "        ensure_dir(filepath)\n",
    "        np.save(os.path.join(filepath, filename), x[im])\n",
    "        logging.info('saved to {}'.format(os.path.join(filepath, filename)))\n"
   ]
  },
  {
   "cell_type": "code",
   "execution_count": null,
   "metadata": {},
   "outputs": [],
   "source": [
    "# test if all batches are processable\n",
    "for b in range(len(batch_generator)):\n",
    "    print(b)\n",
    "    for im in range(BATCHSIZE):\n",
    "        select_image_in_batch(batch=b,im=im, slice_n=5, show_overview=True, show_input_vol=True)"
   ]
  },
  {
   "cell_type": "code",
   "execution_count": null,
   "metadata": {},
   "outputs": [],
   "source": [
    "from src.models.Models import create_PhaseRegressionModel\n",
    "model = create_PhaseRegressionModel(config)"
   ]
  },
  {
   "cell_type": "code",
   "execution_count": 7,
   "metadata": {},
   "outputs": [
    {
     "ename": "NameError",
     "evalue": "name 'os' is not defined",
     "output_type": "error",
     "traceback": [
      "\u001b[0;31m---------------------------------------------------------------------------\u001b[0m",
      "\u001b[0;31mNameError\u001b[0m                                 Traceback (most recent call last)",
      "\u001b[0;32m<ipython-input-7-88517756c080>\u001b[0m in \u001b[0;36m<module>\u001b[0;34m\u001b[0m\n\u001b[1;32m      1\u001b[0m \u001b[0;31m# write the model summary to a txt file\u001b[0m\u001b[0;34m\u001b[0m\u001b[0;34m\u001b[0m\u001b[0;34m\u001b[0m\u001b[0m\n\u001b[1;32m      2\u001b[0m \u001b[0;31m# Open the file\u001b[0m\u001b[0;34m\u001b[0m\u001b[0;34m\u001b[0m\u001b[0;34m\u001b[0m\u001b[0m\n\u001b[0;32m----> 3\u001b[0;31m \u001b[0;32mwith\u001b[0m \u001b[0mopen\u001b[0m\u001b[0;34m(\u001b[0m\u001b[0mos\u001b[0m\u001b[0;34m.\u001b[0m\u001b[0mpath\u001b[0m\u001b[0;34m.\u001b[0m\u001b[0mjoin\u001b[0m\u001b[0;34m(\u001b[0m\u001b[0mEXP_PATH\u001b[0m\u001b[0;34m,\u001b[0m \u001b[0;34m'model_summary.txt'\u001b[0m\u001b[0;34m)\u001b[0m \u001b[0;34m,\u001b[0m\u001b[0;34m'w'\u001b[0m\u001b[0;34m)\u001b[0m \u001b[0;32mas\u001b[0m \u001b[0mfh\u001b[0m\u001b[0;34m:\u001b[0m\u001b[0;34m\u001b[0m\u001b[0;34m\u001b[0m\u001b[0m\n\u001b[0m\u001b[1;32m      4\u001b[0m     \u001b[0;31m# Pass the file handle in as a lambda function to make it callable\u001b[0m\u001b[0;34m\u001b[0m\u001b[0;34m\u001b[0m\u001b[0;34m\u001b[0m\u001b[0m\n\u001b[1;32m      5\u001b[0m     \u001b[0mmodel\u001b[0m\u001b[0;34m.\u001b[0m\u001b[0msummary\u001b[0m\u001b[0;34m(\u001b[0m\u001b[0mprint_fn\u001b[0m\u001b[0;34m=\u001b[0m\u001b[0;32mlambda\u001b[0m \u001b[0mx\u001b[0m\u001b[0;34m:\u001b[0m \u001b[0mfh\u001b[0m\u001b[0;34m.\u001b[0m\u001b[0mwrite\u001b[0m\u001b[0;34m(\u001b[0m\u001b[0mx\u001b[0m \u001b[0;34m+\u001b[0m \u001b[0;34m'\\n'\u001b[0m\u001b[0;34m)\u001b[0m\u001b[0;34m)\u001b[0m\u001b[0;34m\u001b[0m\u001b[0;34m\u001b[0m\u001b[0m\n",
      "\u001b[0;31mNameError\u001b[0m: name 'os' is not defined"
     ]
    }
   ],
   "source": [
    "# write the model summary to a txt file\n",
    "# Open the file\n",
    "with open(os.path.join(EXP_PATH, 'model_summary.txt') ,'w') as fh:\n",
    "    # Pass the file handle in as a lambda function to make it callable\n",
    "    model.summary(print_fn=lambda x: fh.write(x + '\\n'))\n",
    "    \n",
    "tf.keras.utils.plot_model(\n",
    "    model, show_shapes=True,\n",
    "    to_file=os.path.join(EXP_PATH, 'model.png'),\n",
    "    show_layer_names=True, \n",
    "    rankdir='TB', \n",
    "    expand_nested=True, dpi=96\n",
    ")\n",
    "    \n",
    "#model.summary(line_length=150)"
   ]
  },
  {
   "cell_type": "code",
   "execution_count": 8,
   "metadata": {},
   "outputs": [
    {
     "ename": "NameError",
     "evalue": "name 'model' is not defined",
     "output_type": "error",
     "traceback": [
      "\u001b[0;31m---------------------------------------------------------------------------\u001b[0m",
      "\u001b[0;31mNameError\u001b[0m                                 Traceback (most recent call last)",
      "\u001b[0;32m<ipython-input-8-337fe55f06ea>\u001b[0m in \u001b[0;36m<module>\u001b[0;34m\u001b[0m\n\u001b[1;32m      1\u001b[0m \u001b[0minitial_epoch\u001b[0m \u001b[0;34m=\u001b[0m \u001b[0;36m0\u001b[0m\u001b[0;34m\u001b[0m\u001b[0;34m\u001b[0m\u001b[0m\n\u001b[1;32m      2\u001b[0m \u001b[0;34m\u001b[0m\u001b[0m\n\u001b[0;32m----> 3\u001b[0;31m results = model.fit(\n\u001b[0m\u001b[1;32m      4\u001b[0m     \u001b[0mx\u001b[0m\u001b[0;34m=\u001b[0m\u001b[0mbatch_generator\u001b[0m\u001b[0;34m,\u001b[0m\u001b[0;34m\u001b[0m\u001b[0;34m\u001b[0m\u001b[0m\n\u001b[1;32m      5\u001b[0m     \u001b[0mvalidation_data\u001b[0m\u001b[0;34m=\u001b[0m\u001b[0mvalidation_generator\u001b[0m\u001b[0;34m,\u001b[0m\u001b[0;34m\u001b[0m\u001b[0;34m\u001b[0m\u001b[0m\n",
      "\u001b[0;31mNameError\u001b[0m: name 'model' is not defined"
     ]
    }
   ],
   "source": [
    "initial_epoch = 0\n",
    "\n",
    "results = model.fit(\n",
    "    x=batch_generator,\n",
    "    validation_data=validation_generator,\n",
    "    epochs=EPOCHS,\n",
    "    callbacks = get_callbacks(config, batch_generator,validation_generator),\n",
    "    initial_epoch=initial_epoch,\n",
    "    max_queue_size=12,\n",
    "    use_multiprocessing=False,\n",
    "    verbose=1)"
   ]
  },
  {
   "cell_type": "code",
   "execution_count": 9,
   "metadata": {},
   "outputs": [
    {
     "ename": "NameError",
     "evalue": "name 'model' is not defined",
     "output_type": "error",
     "traceback": [
      "\u001b[0;31m---------------------------------------------------------------------------\u001b[0m",
      "\u001b[0;31mNameError\u001b[0m                                 Traceback (most recent call last)",
      "\u001b[0;32m<ipython-input-9-69f49cebb089>\u001b[0m in \u001b[0;36m<module>\u001b[0;34m\u001b[0m\n\u001b[1;32m      1\u001b[0m \u001b[0;31m# predict the files from globals()['inputs']\u001b[0m\u001b[0;34m\u001b[0m\u001b[0;34m\u001b[0m\u001b[0;34m\u001b[0m\u001b[0m\n\u001b[0;32m----> 2\u001b[0;31m \u001b[0mpred\u001b[0m \u001b[0;34m=\u001b[0m \u001b[0mmodel\u001b[0m\u001b[0;34m(\u001b[0m\u001b[0minputs\u001b[0m\u001b[0;34m,\u001b[0m \u001b[0mtraining\u001b[0m\u001b[0;34m=\u001b[0m\u001b[0;32mFalse\u001b[0m\u001b[0;34m)\u001b[0m\u001b[0;34m\u001b[0m\u001b[0;34m\u001b[0m\u001b[0m\n\u001b[0m",
      "\u001b[0;31mNameError\u001b[0m: name 'model' is not defined"
     ]
    }
   ],
   "source": [
    "# predict the files from globals()['inputs']\n",
    "pred = model(inputs, training=False)"
   ]
  },
  {
   "cell_type": "code",
   "execution_count": 10,
   "metadata": {},
   "outputs": [
    {
     "ename": "NameError",
     "evalue": "name 'np' is not defined",
     "output_type": "error",
     "traceback": [
      "\u001b[0;31m---------------------------------------------------------------------------\u001b[0m",
      "\u001b[0;31mNameError\u001b[0m                                 Traceback (most recent call last)",
      "\u001b[0;32m<ipython-input-10-9067490531c5>\u001b[0m in \u001b[0;36m<module>\u001b[0;34m\u001b[0m\n\u001b[0;32m----> 1\u001b[0;31m \u001b[0mtemp\u001b[0m \u001b[0;34m=\u001b[0m \u001b[0mnp\u001b[0m\u001b[0;34m.\u001b[0m\u001b[0marray\u001b[0m\u001b[0;34m(\u001b[0m\u001b[0;34m[\u001b[0m\u001b[0;36m23\u001b[0m\u001b[0;34m,\u001b[0m \u001b[0;36m17\u001b[0m\u001b[0;34m,\u001b[0m \u001b[0;36m24\u001b[0m\u001b[0;34m,\u001b[0m \u001b[0;36m18\u001b[0m\u001b[0;34m]\u001b[0m\u001b[0;34m)\u001b[0m\u001b[0;34m\u001b[0m\u001b[0;34m\u001b[0m\u001b[0m\n\u001b[0m\u001b[1;32m      2\u001b[0m \u001b[0mprint\u001b[0m\u001b[0;34m(\u001b[0m\u001b[0mtemp\u001b[0m\u001b[0;34m.\u001b[0m\u001b[0mshape\u001b[0m\u001b[0;34m)\u001b[0m\u001b[0;34m\u001b[0m\u001b[0;34m\u001b[0m\u001b[0m\n\u001b[1;32m      3\u001b[0m \u001b[0mempty\u001b[0m \u001b[0;34m=\u001b[0m \u001b[0mnp\u001b[0m\u001b[0;34m.\u001b[0m\u001b[0mones\u001b[0m\u001b[0;34m(\u001b[0m\u001b[0;34m(\u001b[0m\u001b[0;36m4\u001b[0m\u001b[0;34m,\u001b[0m\u001b[0;36m36\u001b[0m\u001b[0;34m,\u001b[0m\u001b[0;36m5\u001b[0m\u001b[0;34m)\u001b[0m\u001b[0;34m)\u001b[0m\u001b[0;34m\u001b[0m\u001b[0;34m\u001b[0m\u001b[0m\n\u001b[1;32m      4\u001b[0m \u001b[0mprint\u001b[0m\u001b[0;34m(\u001b[0m\u001b[0mempty\u001b[0m\u001b[0;34m.\u001b[0m\u001b[0mshape\u001b[0m\u001b[0;34m)\u001b[0m\u001b[0;34m\u001b[0m\u001b[0;34m\u001b[0m\u001b[0m\n\u001b[1;32m      5\u001b[0m \u001b[0msecond\u001b[0m \u001b[0;34m=\u001b[0m \u001b[0mempty\u001b[0m\u001b[0;34m[\u001b[0m\u001b[0;34m:\u001b[0m\u001b[0;34m]\u001b[0m\u001b[0;34m\u001b[0m\u001b[0;34m\u001b[0m\u001b[0m\n",
      "\u001b[0;31mNameError\u001b[0m: name 'np' is not defined"
     ]
    }
   ],
   "source": [
    "temp = np.array([23, 17, 24, 18])\n",
    "print(temp.shape)\n",
    "empty = np.ones((4,36,5))\n",
    "print(empty.shape)\n",
    "second = empty[:]\n",
    "second[:,0,0] = temp\n",
    "np.stack([empty, second], axis=1).shape"
   ]
  },
  {
   "cell_type": "code",
   "execution_count": 11,
   "metadata": {},
   "outputs": [
    {
     "ename": "NameError",
     "evalue": "name 'tf' is not defined",
     "output_type": "error",
     "traceback": [
      "\u001b[0;31m---------------------------------------------------------------------------\u001b[0m",
      "\u001b[0;31mNameError\u001b[0m                                 Traceback (most recent call last)",
      "\u001b[0;32m<ipython-input-11-fd68a1ec80ff>\u001b[0m in \u001b[0;36m<module>\u001b[0;34m\u001b[0m\n\u001b[1;32m      1\u001b[0m \u001b[0;31m# get the true idx\u001b[0m\u001b[0;34m\u001b[0m\u001b[0;34m\u001b[0m\u001b[0;34m\u001b[0m\u001b[0m\n\u001b[0;32m----> 2\u001b[0;31m \u001b[0mgt_idx\u001b[0m \u001b[0;34m=\u001b[0m \u001b[0mtf\u001b[0m\u001b[0;34m.\u001b[0m\u001b[0mmath\u001b[0m\u001b[0;34m.\u001b[0m\u001b[0margmax\u001b[0m\u001b[0;34m(\u001b[0m\u001b[0moutputs\u001b[0m\u001b[0;34m,\u001b[0m \u001b[0maxis\u001b[0m\u001b[0;34m=\u001b[0m\u001b[0;36m1\u001b[0m\u001b[0;34m)\u001b[0m\u001b[0;34m.\u001b[0m\u001b[0mnumpy\u001b[0m\u001b[0;34m(\u001b[0m\u001b[0;34m)\u001b[0m\u001b[0;34m\u001b[0m\u001b[0;34m\u001b[0m\u001b[0m\n\u001b[0m\u001b[1;32m      3\u001b[0m \u001b[0mprint\u001b[0m\u001b[0;34m(\u001b[0m\u001b[0mgt_idx\u001b[0m\u001b[0;34m)\u001b[0m\u001b[0;34m\u001b[0m\u001b[0;34m\u001b[0m\u001b[0m\n\u001b[1;32m      4\u001b[0m \u001b[0mgt_max\u001b[0m \u001b[0;34m=\u001b[0m \u001b[0mgt_idx\u001b[0m\u001b[0;34m.\u001b[0m\u001b[0mmax\u001b[0m\u001b[0;34m(\u001b[0m\u001b[0maxis\u001b[0m\u001b[0;34m=\u001b[0m\u001b[0;36m1\u001b[0m\u001b[0;34m)\u001b[0m\u001b[0;34m.\u001b[0m\u001b[0mastype\u001b[0m\u001b[0;34m(\u001b[0m\u001b[0mint\u001b[0m\u001b[0;34m)\u001b[0m\u001b[0;34m\u001b[0m\u001b[0;34m\u001b[0m\u001b[0m\n\u001b[1;32m      5\u001b[0m \u001b[0mprint\u001b[0m\u001b[0;34m(\u001b[0m\u001b[0mgt_max\u001b[0m\u001b[0;34m)\u001b[0m\u001b[0;34m\u001b[0m\u001b[0;34m\u001b[0m\u001b[0m\n",
      "\u001b[0;31mNameError\u001b[0m: name 'tf' is not defined"
     ]
    }
   ],
   "source": [
    "# get the true idx\n",
    "gt_idx = tf.math.argmax(outputs, axis=1).numpy()\n",
    "print(gt_idx)\n",
    "gt_max = gt_idx.max(axis=1).astype(int)\n",
    "print(gt_max)"
   ]
  },
  {
   "cell_type": "code",
   "execution_count": 12,
   "metadata": {},
   "outputs": [
    {
     "ename": "ImportError",
     "evalue": "cannot import name 'show_phases'",
     "output_type": "error",
     "traceback": [
      "\u001b[0;31m---------------------------------------------------------------------------\u001b[0m",
      "\u001b[0;31mImportError\u001b[0m                               Traceback (most recent call last)",
      "\u001b[0;32m<ipython-input-12-8f06d7f6eb76>\u001b[0m in \u001b[0;36m<module>\u001b[0;34m\u001b[0m\n\u001b[0;32m----> 1\u001b[0;31m \u001b[0;32mfrom\u001b[0m \u001b[0msrc\u001b[0m\u001b[0;34m.\u001b[0m\u001b[0mvisualization\u001b[0m\u001b[0;34m.\u001b[0m\u001b[0mVisualize\u001b[0m \u001b[0;32mimport\u001b[0m \u001b[0mshow_phases\u001b[0m\u001b[0;34m,\u001b[0m \u001b[0mshow_phases_transpose\u001b[0m\u001b[0;34m\u001b[0m\u001b[0;34m\u001b[0m\u001b[0m\n\u001b[0m\u001b[1;32m      2\u001b[0m \u001b[0m_\u001b[0m \u001b[0;34m=\u001b[0m \u001b[0mshow_phases_transpose\u001b[0m\u001b[0;34m(\u001b[0m\u001b[0moutputs\u001b[0m\u001b[0;34m,\u001b[0m\u001b[0moutputs\u001b[0m\u001b[0;34m)\u001b[0m\u001b[0;34m\u001b[0m\u001b[0;34m\u001b[0m\u001b[0m\n",
      "\u001b[0;31mImportError\u001b[0m: cannot import name 'show_phases'"
     ]
    }
   ],
   "source": [
    "from src.visualization.Visualize import show_phases, show_phases_transpose\n",
    "_ = show_phases_transpose(outputs,outputs)"
   ]
  },
  {
   "cell_type": "code",
   "execution_count": 13,
   "metadata": {},
   "outputs": [
    {
     "ename": "ModuleNotFoundError",
     "evalue": "No module named 'src.utils.Metrics'",
     "output_type": "error",
     "traceback": [
      "\u001b[0;31m---------------------------------------------------------------------------\u001b[0m",
      "\u001b[0;31mModuleNotFoundError\u001b[0m                       Traceback (most recent call last)",
      "\u001b[0;32m<ipython-input-13-6ef8ea430e16>\u001b[0m in \u001b[0;36m<module>\u001b[0;34m\u001b[0m\n\u001b[1;32m      1\u001b[0m \u001b[0;31m# calculate the meandiff score for one batch\u001b[0m\u001b[0;34m\u001b[0m\u001b[0;34m\u001b[0m\u001b[0;34m\u001b[0m\u001b[0m\n\u001b[0;32m----> 2\u001b[0;31m \u001b[0;32mfrom\u001b[0m \u001b[0msrc\u001b[0m\u001b[0;34m.\u001b[0m\u001b[0mutils\u001b[0m\u001b[0;34m.\u001b[0m\u001b[0mMetrics\u001b[0m \u001b[0;32mimport\u001b[0m \u001b[0mmeandiff\u001b[0m\u001b[0;34m,\u001b[0m \u001b[0mmeandiff_transpose\u001b[0m\u001b[0;34m\u001b[0m\u001b[0;34m\u001b[0m\u001b[0m\n\u001b[0m\u001b[1;32m      3\u001b[0m \u001b[0mscore_fn\u001b[0m \u001b[0;34m=\u001b[0m \u001b[0mmeandiff_transpose\u001b[0m\u001b[0;34m\u001b[0m\u001b[0;34m\u001b[0m\u001b[0m\n\u001b[1;32m      4\u001b[0m \u001b[0mscore_fn\u001b[0m\u001b[0;34m(\u001b[0m\u001b[0moutputs\u001b[0m\u001b[0;34m,\u001b[0m \u001b[0moutputs\u001b[0m\u001b[0;34m)\u001b[0m\u001b[0;34m.\u001b[0m\u001b[0mnumpy\u001b[0m\u001b[0;34m(\u001b[0m\u001b[0;34m)\u001b[0m\u001b[0;34m\u001b[0m\u001b[0;34m\u001b[0m\u001b[0m\n",
      "\u001b[0;31mModuleNotFoundError\u001b[0m: No module named 'src.utils.Metrics'"
     ]
    }
   ],
   "source": [
    "# calculate the meandiff score for one batch\n",
    "from src.utils.Metrics import meandiff, meandiff_transpose\n",
    "score_fn = meandiff_transpose\n",
    "score_fn(outputs, outputs).numpy()"
   ]
  },
  {
   "cell_type": "code",
   "execution_count": 14,
   "metadata": {},
   "outputs": [
    {
     "ename": "NameError",
     "evalue": "name 'outputs' is not defined",
     "output_type": "error",
     "traceback": [
      "\u001b[0;31m---------------------------------------------------------------------------\u001b[0m",
      "\u001b[0;31mNameError\u001b[0m                                 Traceback (most recent call last)",
      "\u001b[0;32m<ipython-input-14-1386b4149a02>\u001b[0m in \u001b[0;36m<module>\u001b[0;34m\u001b[0m\n\u001b[0;32m----> 1\u001b[0;31m \u001b[0mtemp\u001b[0m \u001b[0;34m=\u001b[0m \u001b[0moutputs\u001b[0m\u001b[0;34m[\u001b[0m\u001b[0;34m:\u001b[0m\u001b[0;34m,\u001b[0m\u001b[0;36m0\u001b[0m\u001b[0;34m,\u001b[0m\u001b[0;34m...\u001b[0m\u001b[0;34m]\u001b[0m\u001b[0;34m\u001b[0m\u001b[0;34m\u001b[0m\u001b[0m\n\u001b[0m\u001b[1;32m      2\u001b[0m \u001b[0mprint\u001b[0m\u001b[0;34m(\u001b[0m\u001b[0mtemp\u001b[0m\u001b[0;34m.\u001b[0m\u001b[0mshape\u001b[0m\u001b[0;34m)\u001b[0m\u001b[0;34m\u001b[0m\u001b[0;34m\u001b[0m\u001b[0m\n\u001b[1;32m      3\u001b[0m \u001b[0mprint\u001b[0m\u001b[0;34m(\u001b[0m\u001b[0mtemp\u001b[0m\u001b[0;34m.\u001b[0m\u001b[0mT\u001b[0m\u001b[0;34m.\u001b[0m\u001b[0mshape\u001b[0m\u001b[0;34m)\u001b[0m\u001b[0;34m\u001b[0m\u001b[0;34m\u001b[0m\u001b[0m\n\u001b[1;32m      4\u001b[0m \u001b[0mplt\u001b[0m\u001b[0;34m.\u001b[0m\u001b[0mimshow\u001b[0m\u001b[0;34m(\u001b[0m\u001b[0mtemp\u001b[0m\u001b[0;34m.\u001b[0m\u001b[0mT\u001b[0m\u001b[0;34m[\u001b[0m\u001b[0;36m0\u001b[0m\u001b[0;34m]\u001b[0m\u001b[0;34m)\u001b[0m\u001b[0;34m\u001b[0m\u001b[0;34m\u001b[0m\u001b[0m\n",
      "\u001b[0;31mNameError\u001b[0m: name 'outputs' is not defined"
     ]
    }
   ],
   "source": [
    "temp = outputs[:,0,...]\n",
    "print(temp.shape)\n",
    "print(temp.T.shape)\n",
    "plt.imshow(temp.T[0])"
   ]
  },
  {
   "cell_type": "code",
   "execution_count": 15,
   "metadata": {},
   "outputs": [
    {
     "ename": "ModuleNotFoundError",
     "evalue": "No module named 'src.utils.Metrics'",
     "output_type": "error",
     "traceback": [
      "\u001b[0;31m---------------------------------------------------------------------------\u001b[0m",
      "\u001b[0;31mModuleNotFoundError\u001b[0m                       Traceback (most recent call last)",
      "\u001b[0;32m<ipython-input-15-488023a83011>\u001b[0m in \u001b[0;36m<module>\u001b[0;34m\u001b[0m\n\u001b[1;32m      1\u001b[0m \u001b[0;31m# calculate the meandiff score for all batches\u001b[0m\u001b[0;34m\u001b[0m\u001b[0;34m\u001b[0m\u001b[0;34m\u001b[0m\u001b[0m\n\u001b[1;32m      2\u001b[0m \u001b[0;31m# calculate the meandiff score for one batch\u001b[0m\u001b[0;34m\u001b[0m\u001b[0;34m\u001b[0m\u001b[0;34m\u001b[0m\u001b[0m\n\u001b[0;32m----> 3\u001b[0;31m \u001b[0;32mfrom\u001b[0m \u001b[0msrc\u001b[0m\u001b[0;34m.\u001b[0m\u001b[0mutils\u001b[0m\u001b[0;34m.\u001b[0m\u001b[0mMetrics\u001b[0m \u001b[0;32mimport\u001b[0m \u001b[0mmeandiff\u001b[0m\u001b[0;34m\u001b[0m\u001b[0;34m\u001b[0m\u001b[0m\n\u001b[0m\u001b[1;32m      4\u001b[0m \u001b[0mscore_fn\u001b[0m \u001b[0;34m=\u001b[0m \u001b[0mmeandiff\u001b[0m\u001b[0;34m\u001b[0m\u001b[0;34m\u001b[0m\u001b[0m\n\u001b[1;32m      5\u001b[0m \u001b[0mscores\u001b[0m \u001b[0;34m=\u001b[0m \u001b[0;34m[\u001b[0m\u001b[0;34m]\u001b[0m\u001b[0;34m\u001b[0m\u001b[0;34m\u001b[0m\u001b[0m\n",
      "\u001b[0;31mModuleNotFoundError\u001b[0m: No module named 'src.utils.Metrics'"
     ]
    }
   ],
   "source": [
    "# calculate the meandiff score for all batches\n",
    "# calculate the meandiff score for one batch\n",
    "from src.utils.Metrics import meandiff\n",
    "score_fn = meandiff\n",
    "scores = []\n",
    "for batch in validation_generator:\n",
    "    x,y = batch\n",
    "    p = model(x)\n",
    "    scores.append(score_fn(y,p))\n",
    "scores"
   ]
  },
  {
   "cell_type": "code",
   "execution_count": 18,
   "metadata": {},
   "outputs": [
    {
     "data": {
      "text/plain": [
       "6.75"
      ]
     },
     "execution_count": 18,
     "metadata": {},
     "output_type": "execute_result"
    }
   ],
   "source": [
    "tf.reduce_mean(scores).numpy()"
   ]
  },
  {
   "cell_type": "markdown",
   "metadata": {},
   "source": [
    "# Generator tests"
   ]
  },
  {
   "cell_type": "code",
   "execution_count": 16,
   "metadata": {
    "collapsed": true,
    "jupyter": {
     "outputs_hidden": true
    }
   },
   "outputs": [
    {
     "data": {
      "image/png": "[encoded data removed]",
      "text/plain": [
       "<IPython.core.display.Image object>"
      ]
     },
     "execution_count": 16,
     "metadata": {},
     "output_type": "execute_result"
    }
   ],
   "source": [
    "tf.keras.utils.plot_model(\n",
    "    model, show_shapes=False,\n",
    "    show_layer_names=True, rankdir='TB', expand_nested=True, dpi=96\n",
    ")"
   ]
  },
  {
   "cell_type": "code",
   "execution_count": 19,
   "metadata": {},
   "outputs": [
    {
     "data": {
      "text/plain": [
       "1.75"
      ]
     },
     "execution_count": 19,
     "metadata": {},
     "output_type": "execute_result"
    }
   ],
   "source": [
    "score_fn = meandiff_\n",
    "score_fn(outputs, pred).numpy()"
   ]
  },
  {
   "cell_type": "code",
   "execution_count": null,
   "metadata": {},
   "outputs": [],
   "source": [
    "onehot = np.array([[1,0,0,0,0,0,0,0,0,0,0,0,0,0,0],\n",
    " [0,0,0,1,0,0,0,0,0,0,0,0,0,0,0],\n",
    " [0,0,0,0,0,0,0,1,0,0,0,0,0,0,0],\n",
    " [0,0,0,0,0,0,0,0,0,0,0,1,0,0,0],\n",
    " [0,0,0,0,0,0,0,0,0,0,0,0,0,0,1]])"
   ]
  },
  {
   "cell_type": "code",
   "execution_count": null,
   "metadata": {},
   "outputs": [],
   "source": [
    "onehot.shape"
   ]
  },
  {
   "cell_type": "code",
   "execution_count": null,
   "metadata": {},
   "outputs": [],
   "source": [
    "onehot_t = onehot.T\n",
    "onehot_t.shape\n",
    "onehot_t"
   ]
  },
  {
   "cell_type": "code",
   "execution_count": null,
   "metadata": {},
   "outputs": [],
   "source": [
    "print(np.argmax(onehot, axis=1))\n",
    "print(np.argmax(onehot_t, axis=0))"
   ]
  },
  {
   "cell_type": "code",
   "execution_count": null,
   "metadata": {},
   "outputs": [],
   "source": [
    "# iterate over the phases j\n",
    "# linspace from i to i+1 from indices\n",
    "temp = onehot_t[:,0].astype(float)\n",
    "i = 0\n",
    "j = 3 + 1\n",
    "temp[i:j] = np.linspace(i,j,j-i)\n",
    "temp"
   ]
  },
  {
   "cell_type": "code",
   "execution_count": null,
   "metadata": {},
   "outputs": [],
   "source": [
    "onehot_t = onehot_t.astype(float)\n",
    "indices = np.argmax(onehot_t, axis=0)\n",
    "for i in range(onehot_t.shape[1]) :\n",
    "    start = indices[i]\n",
    "    # make it a ring\n",
    "    second = (i+1)%len(indices)\n",
    "    end = indices[second]\n",
    "    onehot_t[start:end,i] = np.linspace(1,0,int(end-start))\n",
    "onehot_t\n",
    "             \n",
    "    "
   ]
  },
  {
   "cell_type": "code",
   "execution_count": null,
   "metadata": {},
   "outputs": [],
   "source": [
    "plt.imshow(temp)"
   ]
  },
  {
   "cell_type": "code",
   "execution_count": null,
   "metadata": {},
   "outputs": [],
   "source": [
    "plt.imshow(temp.T)"
   ]
  },
  {
   "cell_type": "code",
   "execution_count": null,
   "metadata": {},
   "outputs": [],
   "source": [
    "%%timeit\n",
    "temp.mean()"
   ]
  },
  {
   "cell_type": "code",
   "execution_count": null,
   "metadata": {},
   "outputs": [],
   "source": [
    "%%timeit\n",
    "np.mean(temp)"
   ]
  },
  {
   "cell_type": "code",
   "execution_count": null,
   "metadata": {},
   "outputs": [],
   "source": [
    "np.linspace(-1,1,10)"
   ]
  },
  {
   "cell_type": "code",
   "execution_count": null,
   "metadata": {},
   "outputs": [],
   "source": []
  }
 ],
 "metadata": {
  "kernelspec": {
   "display_name": "dcmr",
   "language": "python",
   "name": "dcmr"
  },
  "language_info": {
   "codemirror_mode": {
    "name": "ipython",
    "version": 3
   },
   "file_extension": ".py",
   "mimetype": "text/x-python",
   "name": "python",
   "nbconvert_exporter": "python",
   "pygments_lexer": "ipython3",
   "version": "3.8.5"
  },
  "widgets": {
   "application/vnd.jupyter.widget-state+json": {
    "state": {
     "00e6212b1cc843779318792dfa0d7621": {
      "model_module": "@jupyter-widgets/base",
      "model_module_version": "1.2.0",
      "model_name": "LayoutModel",
      "state": {}
     },
     "03dc5556b12e46db8ff93f2e47b81f2a": {
      "model_module": "@jupyter-widgets/controls",
      "model_module_version": "1.5.0",
      "model_name": "VBoxModel",
      "state": {
       "_dom_classes": [
        "widget-interact"
       ],
       "children": [
        "IPY_MODEL_5a5ccbb172fa48ca9f56175e9bee4061",
        "IPY_MODEL_49165275d6744ad589bc81bb56a7fe9e",
        "IPY_MODEL_0d1e5dd2a83d418792413d69063e6d13",
        "IPY_MODEL_edb37206593f44bbb047d7a222fce30f",
        "IPY_MODEL_9d92b25b015a40be954255cc05dc277a",
        "IPY_MODEL_3b2f757aac564665b76ad2207be654f8",
        "IPY_MODEL_6e34b38751ec49e3ab65b71e4b3c6055",
        "IPY_MODEL_56f7388f08f84f98bb32e557a795ef2e",
        "IPY_MODEL_9dd20691d88f4d04a70045f587545c13",
        "IPY_MODEL_09e916157317497c8abe6572f75fbbc6"
       ],
       "layout": "IPY_MODEL_2ccc677a3057492c8e0a7e7468b5e251"
      }
     },
     "03fda857c0d34cfea13714d8686ce090": {
      "model_module": "@jupyter-widgets/base",
      "model_module_version": "1.2.0",
      "model_name": "LayoutModel",
      "state": {}
     },
     "0457866f827d424ba7eb269cb393fe73": {
      "model_module": "@jupyter-widgets/controls",
      "model_module_version": "1.5.0",
      "model_name": "SliderStyleModel",
      "state": {
       "description_width": ""
      }
     },
     "0536f92c3ac240abaac026fe40d212c9": {
      "model_module": "@jupyter-widgets/controls",
      "model_module_version": "1.5.0",
      "model_name": "TextModel",
      "state": {
       "description": "filename",
       "layout": "IPY_MODEL_31e48e08b4b74dd0ab2fe26aaae69bea",
       "style": "IPY_MODEL_7d749d660d55419a822b3833fbd99c4f",
       "value": "temp_x.npy"
      }
     },
     "057a15432c624c99bd89226019945d08": {
      "model_module": "@jupyter-widgets/base",
      "model_module_version": "1.2.0",
      "model_name": "LayoutModel",
      "state": {}
     },
     "06dc01a5eaa64596b63d118a3b4bdccb": {
      "model_module": "@jupyter-widgets/base",
      "model_module_version": "1.2.0",
      "model_name": "LayoutModel",
      "state": {}
     },
     "07719aeb97344acfad99c343f7b6e670": {
      "model_module": "@jupyter-widgets/base",
      "model_module_version": "1.2.0",
      "model_name": "LayoutModel",
      "state": {}
     },
     "07a9a5142b884a348d7bfebd25a8eae7": {
      "model_module": "@jupyter-widgets/controls",
      "model_module_version": "1.5.0",
      "model_name": "CheckboxModel",
      "state": {
       "description": "show_overview",
       "disabled": false,
       "layout": "IPY_MODEL_8b731b4b697d4b20af585ffbb2dc924b",
       "style": "IPY_MODEL_cc75ed78d56e49c8b5d20dd16c3ac7b4",
       "value": true
      }
     },
     "0885c067821d4fcf9ee75defba14e377": {
      "model_module": "@jupyter-widgets/controls",
      "model_module_version": "1.5.0",
      "model_name": "DescriptionStyleModel",
      "state": {
       "description_width": ""
      }
     },
     "089d42518a88446bbcf1cfb3a0454cb4": {
      "model_module": "@jupyter-widgets/controls",
      "model_module_version": "1.5.0",
      "model_name": "TextModel",
      "state": {
       "description": "filepath",
       "layout": "IPY_MODEL_c964ab0d7b7d471eaa4ce707d612fbf4",
       "style": "IPY_MODEL_59b016b7ab994efd8e8643580820e33d",
       "value": "data/temp/"
      }
     },
     "08f9d7577f1047549670ae4bcc9b206a": {
      "model_module": "@jupyter-widgets/controls",
      "model_module_version": "1.5.0",
      "model_name": "DescriptionStyleModel",
      "state": {
       "description_width": ""
      }
     },
     "09e916157317497c8abe6572f75fbbc6": {
      "model_module": "@jupyter-widgets/output",
      "model_module_version": "1.0.0",
      "model_name": "OutputModel",
      "state": {
       "layout": "IPY_MODEL_3370837324cc4b07948cce87277f51ee",
       "outputs": [
        {
         "name": "stderr",
         "output_type": "stream",
         "text": "2021-03-03 14:59:25,630 DEBUG index generation: 1.3828277587890625e-05\n2021-03-03 14:59:25,735 DEBUG onehot initialised:\n"
        },
        {
         "data": {
          "image/png": "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\n",
          "text/plain": "<Figure size 432x288 with 1 Axes>"
         },
         "metadata": {
          "needs_background": "light"
         },
         "output_type": "display_data"
        },
        {
         "name": "stderr",
         "output_type": "stream",
         "text": "2021-03-03 14:59:25,792 DEBUG temp augmentation with: 2\n"
        },
        {
         "data": {
          "image/png": "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\n",
          "text/plain": "<Figure size 432x288 with 1 Axes>"
         },
         "metadata": {
          "needs_background": "light"
         },
         "output_type": "display_data"
        },
        {
         "name": "stderr",
         "output_type": "stream",
         "text": "2021-03-03 14:59:25,849 DEBUG onehot repeated 2:\n"
        },
        {
         "data": {
          "image/png": "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\n",
          "text/plain": "<Figure size 432x288 with 1 Axes>"
         },
         "metadata": {
          "needs_background": "light"
         },
         "output_type": "display_data"
        },
        {
         "name": "stderr",
         "output_type": "stream",
         "text": "2021-03-03 14:59:25,902 DEBUG onehot smoothed sigma=1:\n"
        },
        {
         "data": {
          "image/png": "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\n",
          "text/plain": "<Figure size 432x288 with 1 Axes>"
         },
         "metadata": {
          "needs_background": "light"
         },
         "output_type": "display_data"
        },
        {
         "name": "stderr",
         "output_type": "stream",
         "text": "2021-03-03 14:59:25,955 DEBUG onehot element-wise max and cropped to a length of 36:\n"
        },
        {
         "data": {
          "image/png": "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\n",
          "text/plain": "<Figure size 432x288 with 1 Axes>"
         },
         "metadata": {
          "needs_background": "light"
         },
         "output_type": "display_data"
        },
        {
         "name": "stderr",
         "output_type": "stream",
         "text": "2021-03-03 14:59:26,015 DEBUG onehot transposed:\n"
        },
        {
         "data": {
          "image/png": "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\n",
          "text/plain": "<Figure size 432x288 with 1 Axes>"
         },
         "metadata": {
          "needs_background": "light"
         },
         "output_type": "display_data"
        },
        {
         "name": "stderr",
         "output_type": "stream",
         "text": "2021-03-03 14:59:26,075 DEBUG raw:\n2021-03-03 14:59:26,076 DEBUG 0.445 s\n2021-03-03 14:59:26,076 INFO size: (256, 256, 18)\n2021-03-03 14:59:26,077 INFO spacing: (1.3671874999999998, 1.3671874999999998, 5.999999999999999)\n2021-03-03 14:59:26,077 INFO origin: (118.413998141884, -172.14667737483, 112.901013843715)\n2021-03-03 14:59:26,077 INFO direction: (0.24911527303688155, -0.3600664459985453, -0.8990515753869388, 0.9636894443536952, 0.0, 0.26702556963943797, -0.09614694785080947, -0.9329266608185108, 0.3469922332747479)\n2021-03-03 14:59:26,078 INFO pixel type: 32-bit float\n2021-03-03 14:59:26,078 INFO number of pixel components: 1\n2021-03-03 14:59:26,078 DEBUG plot image state failed: 'NoneType' object has no attribute 'GetSize'\n2021-03-03 14:59:26,079 DEBUG old size: [256 256  18], old spacing: [1.3671875 1.3671875 6.       ], target spacing: [3 3 8]\n2021-03-03 14:59:26,079 DEBUG old size: [256 256  18], old spacing: [1.3671875 1.3671875 6.       ], target spacing: [3 3 8]\n2021-03-03 14:59:26,080 DEBUG old size: [256 256  18], old spacing: [1.3671875 1.3671875 6.       ], target spacing: [3 3 8]\n2021-03-03 14:59:26,080 DEBUG old size: [256 256  18], old spacing: [1.3671875 1.3671875 6.       ], target spacing: [3 3 8]\n2021-03-03 14:59:26,081 DEBUG old size: [256 256  18], old spacing: [1.3671875 1.3671875 6.       ], target spacing: [3 3 8]\n2021-03-03 14:59:26,082 DEBUG old size: [256 256  18], old spacing: [1.3671875 1.3671875 6.       ], target spacing: [3 3 8]\n2021-03-03 14:59:26,082 DEBUG old size: [256 256  18], old spacing: [1.3671875 1.3671875 6.       ], target spacing: [3 3 8]\n2021-03-03 14:59:26,083 DEBUG old size: [256 256  18], old spacing: [1.3671875 1.3671875 6.       ], target spacing: [3 3 8]\n2021-03-03 14:59:26,083 DEBUG old size: [256 256  18], old spacing: [1.3671875 1.3671875 6.       ], target spacing: [3 3 8]\n2021-03-03 14:59:26,084 DEBUG old size: [256 256  18], old spacing: [1.3671875 1.3671875 6.       ], target spacing: [3 3 8]\n2021-03-03 14:59:26,085 DEBUG old size: [256 256  18], old spacing: [1.3671875 1.3671875 6.       ], target spacing: [3 3 8]\n2021-03-03 14:59:26,085 DEBUG old size: [256 256  18], old spacing: [1.3671875 1.3671875 6.       ], target spacing: [3 3 8]\n2021-03-03 14:59:26,086 DEBUG old size: [256 256  18], old spacing: [1.3671875 1.3671875 6.       ], target spacing: [3 3 8]\n2021-03-03 14:59:26,086 DEBUG old size: [256 256  18], old spacing: [1.3671875 1.3671875 6.       ], target spacing: [3 3 8]\n2021-03-03 14:59:26,087 DEBUG old size: [256 256  18], old spacing: [1.3671875 1.3671875 6.       ], target spacing: [3 3 8]\n2021-03-03 14:59:26,088 DEBUG old size: [256 256  18], old spacing: [1.3671875 1.3671875 6.       ], target spacing: [3 3 8]\n2021-03-03 14:59:26,088 DEBUG old size: [256 256  18], old spacing: [1.3671875 1.3671875 6.       ], target spacing: [3 3 8]\n2021-03-03 14:59:26,089 DEBUG old size: [256 256  18], old spacing: [1.3671875 1.3671875 6.       ], target spacing: [3 3 8]\n2021-03-03 14:59:26,089 DEBUG old size: [256 256  18], old spacing: [1.3671875 1.3671875 6.       ], target spacing: [3 3 8]\n2021-03-03 14:59:26,090 DEBUG old size: [256 256  18], old spacing: [1.3671875 1.3671875 6.       ], target spacing: [3 3 8]\n2021-03-03 14:59:26,091 DEBUG old size: [256 256  18], old spacing: [1.3671875 1.3671875 6.       ], target spacing: [3 3 8]\n2021-03-03 14:59:26,091 DEBUG old size: [256 256  18], old spacing: [1.3671875 1.3671875 6.       ], target spacing: [3 3 8]\n2021-03-03 14:59:26,092 DEBUG old size: [256 256  18], old spacing: [1.3671875 1.3671875 6.       ], target spacing: [3 3 8]\n2021-03-03 14:59:26,092 DEBUG old size: [256 256  18], old spacing: [1.3671875 1.3671875 6.       ], target spacing: [3 3 8]\n2021-03-03 14:59:26,093 DEBUG old size: [256 256  18], old spacing: [1.3671875 1.3671875 6.       ], target spacing: [3 3 8]\n2021-03-03 14:59:26,093 DEBUG dimension: 3\n2021-03-03 14:59:26,094 DEBUG Size before resample: (256, 256, 18)\n2021-03-03 14:59:26,116 DEBUG Spacing after resample: (3.0, 3.0, 8.0)\n2021-03-03 14:59:26,117 DEBUG Size after resample: (117, 117, 13)\n2021-03-03 14:59:26,119 DEBUG resampled:\n2021-03-03 14:59:26,119 DEBUG 0.041 s\n2021-03-03 14:59:26,120 INFO size: (117, 117, 13)\n2021-03-03 14:59:26,120 INFO spacing: (1.0, 1.0, 1.0)\n2021-03-03 14:59:26,121 INFO origin: (0.0, 0.0, 0.0)\n2021-03-03 14:59:26,121 INFO direction: (1.0, 0.0, 0.0, 0.0, 1.0, 0.0, 0.0, 0.0, 1.0)\n2021-03-03 14:59:26,121 INFO pixel type: 32-bit float\n2021-03-03 14:59:26,122 INFO number of pixel components: 1\n2021-03-03 14:59:26,122 DEBUG plot image state failed: 'NoneType' object has no attribute 'GetSize'\n2021-03-03 14:59:26,149 DEBUG {'__class_fullname__': 'albumentations.core.composition.ReplayCompose', 'params': None, 'transforms': [{'__class_fullname__': 'albumentations.augmentations.transforms.ShiftScaleRotate', 'always_apply': False, 'p': 0.8, 'shift_limit_x': (-0.025, 0.025), 'shift_limit_y': (-0.025, 0.025), 'scale_limit': (0.0, 0.0), 'rotate_limit': (-45, 45), 'interpolation': 1, 'border_mode': 1, 'value': 0, 'mask_value': None, 'params': {'angle': -22.95973315768714, 'scale': 1.0, 'dx': -0.019875241191424628, 'dy': 0.012033387233383791}, 'applied': True}], 'applied': True}\n2021-03-03 14:59:26,155 DEBUG augmented:\n2021-03-03 14:59:26,156 DEBUG 0.077 s\n2021-03-03 14:59:26,156 INFO size: (117, 117, 13)\n2021-03-03 14:59:26,157 INFO spacing: (1.0, 1.0, 1.0)\n2021-03-03 14:59:26,157 INFO origin: (0.0, 0.0, 0.0)\n2021-03-03 14:59:26,157 INFO direction: (1.0, 0.0, 0.0, 0.0, 1.0, 0.0, 0.0, 0.0, 1.0)\n2021-03-03 14:59:26,158 INFO pixel type: 32-bit float\n2021-03-03 14:59:26,158 INFO number of pixel components: 1\n2021-03-03 14:59:26,159 DEBUG plot image state failed: 'NoneType' object has no attribute 'GetSize'\n2021-03-03 14:59:26,187 DEBUG input shape, crop_and_pad: (36, 13, 117, 117)\n2021-03-03 14:59:26,187 DEBUG target shape, crop_and_pad: [36  8 64 64]\n2021-03-03 14:59:26,189 DEBUG input shape, crop_and_pad: (36, 5)\n2021-03-03 14:59:26,189 DEBUG target shape, crop_and_pad: [36  5]\n2021-03-03 14:59:26,190 DEBUG onehot pap and cropped:\n"
        },
        {
         "data": {
          "image/png": "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\n",
          "text/plain": "<Figure size 432x288 with 1 Axes>"
         },
         "metadata": {
          "needs_background": "light"
         },
         "output_type": "display_data"
        },
        {
         "name": "stderr",
         "output_type": "stream",
         "text": "2021-03-03 14:59:26,249 DEBUG input shape, crop_and_pad: (36, 5)\n2021-03-03 14:59:26,249 DEBUG target shape, crop_and_pad: [36  5]\n2021-03-03 14:59:26,254 DEBUG clipped cropped and pad:\n2021-03-03 14:59:26,254 DEBUG 0.096 s\n2021-03-03 14:59:26,255 INFO size: (64, 64, 8)\n2021-03-03 14:59:26,255 INFO spacing: (1.0, 1.0, 1.0)\n2021-03-03 14:59:26,256 INFO origin: (0.0, 0.0, 0.0)\n2021-03-03 14:59:26,256 INFO direction: (1.0, 0.0, 0.0, 0.0, 1.0, 0.0, 0.0, 0.0, 1.0)\n2021-03-03 14:59:26,257 INFO pixel type: 32-bit float\n2021-03-03 14:59:26,257 INFO number of pixel components: 1\n2021-03-03 14:59:26,258 DEBUG plot image state failed: 'NoneType' object has no attribute 'GetSize'\n2021-03-03 14:59:26,260 DEBUG img finished after 0.628 sec.\n2021-03-03 14:59:26,260 DEBUG Batchsize: 1 preprocessing took: 0.630 sec\n2021-03-03 14:59:26,261 INFO Preprocessing took: 0.631\n"
        },
        {
         "name": "stdout",
         "output_type": "stream",
         "text": "(1, 36, 8, 64, 64, 1) (1, 2, 36, 5)\nselected batch : 104\n"
        },
        {
         "data": {
          "image/png": "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\n",
          "text/plain": "<Figure size 144x360 with 1 Axes>"
         },
         "metadata": {
          "needs_background": "light"
         },
         "output_type": "display_data"
        },
        {
         "name": "stderr",
         "output_type": "stream",
         "text": "2021-03-03 14:59:26,333 INFO GT length: 5\n2021-03-03 14:59:26,334 DEBUG pad: \n[[5.3991127e-01 5.8422989e-01 0.0000000e+00 0.0000000e+00 0.0000000e+00]\n [4.4318616e-02 2.4210527e+00 0.0000000e+00 0.0000000e+00 0.0000000e+00]\n [1.3383062e-03 3.9894347e+00 0.0000000e+00 0.0000000e+00 0.0000000e+00]\n [0.0000000e+00 2.4197145e+00 1.3383062e-03 0.0000000e+00 0.0000000e+00]\n [0.0000000e+00 5.3991127e-01 4.4318616e-02 0.0000000e+00 0.0000000e+00]\n [0.0000000e+00 4.4318616e-02 5.3991127e-01 0.0000000e+00 0.0000000e+00]\n [0.0000000e+00 1.3383062e-03 2.4197145e+00 0.0000000e+00 0.0000000e+00]\n [0.0000000e+00 0.0000000e+00 3.9894347e+00 1.3383062e-03 0.0000000e+00]\n [0.0000000e+00 0.0000000e+00 2.4197145e+00 4.4318616e-02 0.0000000e+00]\n [0.0000000e+00 0.0000000e+00 5.3991127e-01 5.3991127e-01 0.0000000e+00]\n [0.0000000e+00 0.0000000e+00 4.4318616e-02 2.4197145e+00 0.0000000e+00]\n [0.0000000e+00 0.0000000e+00 1.3383062e-03 3.9894347e+00 0.0000000e+00]\n [0.0000000e+00 0.0000000e+00 0.0000000e+00 2.4197145e+00 0.0000000e+00]\n [0.0000000e+00 0.0000000e+00 0.0000000e+00 5.3991127e-01 0.0000000e+00]\n [0.0000000e+00 0.0000000e+00 0.0000000e+00 4.4318616e-02 0.0000000e+00]\n [0.0000000e+00 0.0000000e+00 0.0000000e+00 1.3383062e-03 0.0000000e+00]\n [0.0000000e+00 0.0000000e+00 0.0000000e+00 0.0000000e+00 1.3383062e-03]\n [0.0000000e+00 0.0000000e+00 0.0000000e+00 0.0000000e+00 4.4318616e-02]\n [0.0000000e+00 0.0000000e+00 0.0000000e+00 0.0000000e+00 5.3991127e-01]\n [1.3383062e-03 0.0000000e+00 0.0000000e+00 0.0000000e+00 2.4197145e+00]\n [4.4318616e-02 0.0000000e+00 0.0000000e+00 0.0000000e+00 3.9894347e+00]\n [5.3991127e-01 0.0000000e+00 0.0000000e+00 0.0000000e+00 2.4197145e+00]\n [2.4197145e+00 0.0000000e+00 0.0000000e+00 0.0000000e+00 5.3991127e-01]\n [3.9894347e+00 1.3383062e-03 0.0000000e+00 0.0000000e+00 4.4318616e-02]\n [2.4197145e+00 4.4318616e-02 0.0000000e+00 0.0000000e+00 1.3383062e-03]\n [1.0000000e+00 1.0000000e+00 1.0000000e+00 1.0000000e+00 1.0000000e+00]\n [4.4318616e-02 2.4197145e+00 0.0000000e+00 0.0000000e+00 0.0000000e+00]\n [1.3383062e-03 3.9894347e+00 0.0000000e+00 0.0000000e+00 0.0000000e+00]\n [0.0000000e+00 2.4197145e+00 1.3383062e-03 0.0000000e+00 0.0000000e+00]\n [0.0000000e+00 5.3991127e-01 4.4318616e-02 0.0000000e+00 0.0000000e+00]\n [0.0000000e+00 4.4318616e-02 5.3991127e-01 0.0000000e+00 0.0000000e+00]\n [0.0000000e+00 1.3383062e-03 2.4197145e+00 0.0000000e+00 0.0000000e+00]\n [0.0000000e+00 0.0000000e+00 3.9894347e+00 1.3383062e-03 0.0000000e+00]\n [0.0000000e+00 0.0000000e+00 2.4197145e+00 4.4318616e-02 0.0000000e+00]\n [0.0000000e+00 0.0000000e+00 5.3991127e-01 5.3991127e-01 0.0000000e+00]\n [0.0000000e+00 0.0000000e+00 4.4318616e-02 2.4197145e+00 0.0000000e+00]]\n"
        }
       ]
      }
     },
     "0b7528898d23487f9ad52a9a6f693c52": {
      "model_module": "@jupyter-widgets/controls",
      "model_module_version": "1.5.0",
      "model_name": "SliderStyleModel",
      "state": {
       "description_width": ""
      }
     },
     "0bd887e022f44890b3e59c74e5526b2d": {
      "model_module": "@jupyter-widgets/base",
      "model_module_version": "1.2.0",
      "model_name": "LayoutModel",
      "state": {}
     },
     "0bda339f03aa4e41876e6ec128ee2d0f": {
      "model_module": "@jupyter-widgets/controls",
      "model_module_version": "1.5.0",
      "model_name": "DescriptionStyleModel",
      "state": {
       "description_width": ""
      }
     },
     "0c5b683e352c4deca212a08299478658": {
      "model_module": "@jupyter-widgets/base",
      "model_module_version": "1.2.0",
      "model_name": "LayoutModel",
      "state": {}
     },
     "0c7f41d19f9246cabcf0dd4e6d3e4f0e": {
      "model_module": "@jupyter-widgets/base",
      "model_module_version": "1.2.0",
      "model_name": "LayoutModel",
      "state": {}
     },
     "0d1e5dd2a83d418792413d69063e6d13": {
      "model_module": "@jupyter-widgets/controls",
      "model_module_version": "1.5.0",
      "model_name": "IntSliderModel",
      "state": {
       "description": "slice_n",
       "layout": "IPY_MODEL_363327a3f9484e209c8b7b55be7fbd0d",
       "max": 11,
       "min": 1,
       "style": "IPY_MODEL_545d841b79594b7f9956aa6cac4e3f87",
       "value": 6
      }
     },
     "0d9a65b1bfda4fd3b62edd1e910d91ba": {
      "model_module": "@jupyter-widgets/controls",
      "model_module_version": "1.5.0",
      "model_name": "DescriptionStyleModel",
      "state": {
       "description_width": ""
      }
     },
     "0dc7285a19ab49228f84895484479e38": {
      "model_module": "@jupyter-widgets/base",
      "model_module_version": "1.2.0",
      "model_name": "LayoutModel",
      "state": {}
     },
     "0e8c2296a29941a6b4b2c5992a43b34e": {
      "model_module": "@jupyter-widgets/controls",
      "model_module_version": "1.5.0",
      "model_name": "CheckboxModel",
      "state": {
       "description": "show_input_vol",
       "disabled": false,
       "layout": "IPY_MODEL_b121a10f5dca4490b4898b9d2e220d59",
       "style": "IPY_MODEL_dc858667621e4021be7f1740eec77b94",
       "value": false
      }
     },
     "0f24e0f6c8ef4470b8f973d61dacb688": {
      "model_module": "@jupyter-widgets/base",
      "model_module_version": "1.2.0",
      "model_name": "LayoutModel",
      "state": {}
     },
     "0fc5245859a948c79ef04894099c2aa2": {
      "model_module": "@jupyter-widgets/base",
      "model_module_version": "1.2.0",
      "model_name": "LayoutModel",
      "state": {}
     },
     "110ba2b9d7e3408eb79da1ae6d8d61e6": {
      "model_module": "@jupyter-widgets/base",
      "model_module_version": "1.2.0",
      "model_name": "LayoutModel",
      "state": {}
     },
     "1260fd68963f4054b7d4987d31fae7ad": {
      "model_module": "@jupyter-widgets/controls",
      "model_module_version": "1.5.0",
      "model_name": "ButtonModel",
      "state": {
       "description": "Run Interact",
       "layout": "IPY_MODEL_645894fd706b478dbd051d58ac720cca",
       "style": "IPY_MODEL_662fd5fc0b704fa79fcd7804eb6b9331"
      }
     },
     "1577863a3b6b49fc815e35efff068554": {
      "model_module": "@jupyter-widgets/base",
      "model_module_version": "1.2.0",
      "model_name": "LayoutModel",
      "state": {}
     },
     "17b3fe755a634f5699b7bf71a7a38afb": {
      "model_module": "@jupyter-widgets/controls",
      "model_module_version": "1.5.0",
      "model_name": "DescriptionStyleModel",
      "state": {
       "description_width": ""
      }
     },
     "1a3dfe589d5d4c22b2329b52fb6e81d4": {
      "model_module": "@jupyter-widgets/controls",
      "model_module_version": "1.5.0",
      "model_name": "DescriptionStyleModel",
      "state": {
       "description_width": ""
      }
     },
     "1c0cfad6199a4be78dd53a9940d516a1": {
      "model_module": "@jupyter-widgets/controls",
      "model_module_version": "1.5.0",
      "model_name": "CheckboxModel",
      "state": {
       "description": "save",
       "disabled": false,
       "layout": "IPY_MODEL_e303168bed724f40a766266e9db65156",
       "style": "IPY_MODEL_67c1b9ebd03f47c48e429f42aabcc950",
       "value": false
      }
     },
     "1c2cca700e944158ae4b699bce1d1eda": {
      "model_module": "@jupyter-widgets/controls",
      "model_module_version": "1.5.0",
      "model_name": "SliderStyleModel",
      "state": {
       "description_width": ""
      }
     },
     "1df8c34f87444e22a48c44af535a66d5": {
      "model_module": "@jupyter-widgets/controls",
      "model_module_version": "1.5.0",
      "model_name": "VBoxModel",
      "state": {
       "_dom_classes": [
        "widget-interact"
       ],
       "children": [
        "IPY_MODEL_6251c3d0114d45e88ffc96f0cfcfb167",
        "IPY_MODEL_79be5976497f49f78374d4819ab8c636",
        "IPY_MODEL_fa59de82fd5a444fa6c991e7b096b177",
        "IPY_MODEL_d073c93542794f1a844d5ca4e3e5c7b3",
        "IPY_MODEL_82ca689cdc364d008979184f738fa58e",
        "IPY_MODEL_25387514ff8b44c29fe27eae6ed1ed58",
        "IPY_MODEL_ecf43061a267456197d01772005c7e49",
        "IPY_MODEL_0e8c2296a29941a6b4b2c5992a43b34e",
        "IPY_MODEL_364c5b2e86464c64b7057f4ef939b1b1",
        "IPY_MODEL_3b05c05cee414993b1b2c9ec1975a3ed"
       ],
       "layout": "IPY_MODEL_780bb2d2c7904391a03874237157181a"
      }
     },
     "1f5f9a63aa9d4107b55ed5b0f3548ffa": {
      "model_module": "@jupyter-widgets/controls",
      "model_module_version": "1.5.0",
      "model_name": "CheckboxModel",
      "state": {
       "description": "save",
       "disabled": false,
       "layout": "IPY_MODEL_458bf161b3a14697aad32cc63de88d1a",
       "style": "IPY_MODEL_0885c067821d4fcf9ee75defba14e377",
       "value": false
      }
     },
     "20ca7445fdaa4d64b1fe7ab50f7943a1": {
      "model_module": "@jupyter-widgets/output",
      "model_module_version": "1.0.0",
      "model_name": "OutputModel",
      "state": {
       "layout": "IPY_MODEL_df4e0c2ef11849dbb0129ef429074623",
       "outputs": [
        {
         "name": "stderr",
         "output_type": "stream",
         "text": "2021-03-03 14:36:29,848 DEBUG index generation: 1.2159347534179688e-05\n2021-03-03 14:36:29,903 DEBUG Metadata_copied: 0.001s\n2021-03-03 14:36:29,903 DEBUG spatial data_copied: 0.002s\n2021-03-03 14:36:29,905 DEBUG Metadata_copied: 0.001s\n2021-03-03 14:36:29,905 DEBUG spatial data_copied: 0.001s\n2021-03-03 14:36:29,906 DEBUG Metadata_copied: 0.001s\n2021-03-03 14:36:29,907 DEBUG spatial data_copied: 0.001s\n2021-03-03 14:36:29,908 DEBUG Metadata_copied: 0.001s\n2021-03-03 14:36:29,908 DEBUG spatial data_copied: 0.001s\n2021-03-03 14:36:29,910 DEBUG Metadata_copied: 0.001s\n2021-03-03 14:36:29,910 DEBUG spatial data_copied: 0.001s\n2021-03-03 14:36:29,911 DEBUG Metadata_copied: 0.001s\n2021-03-03 14:36:29,912 DEBUG spatial data_copied: 0.001s\n2021-03-03 14:36:29,913 DEBUG Metadata_copied: 0.001s\n2021-03-03 14:36:29,913 DEBUG spatial data_copied: 0.001s\n2021-03-03 14:36:29,914 DEBUG Metadata_copied: 0.001s\n2021-03-03 14:36:29,915 DEBUG spatial data_copied: 0.001s\n2021-03-03 14:36:29,916 DEBUG Metadata_copied: 0.001s\n2021-03-03 14:36:29,917 DEBUG spatial data_copied: 0.002s\n2021-03-03 14:36:29,918 DEBUG Metadata_copied: 0.001s\n2021-03-03 14:36:29,918 DEBUG spatial data_copied: 0.001s\n2021-03-03 14:36:29,920 DEBUG Metadata_copied: 0.001s\n2021-03-03 14:36:29,920 DEBUG spatial data_copied: 0.001s\n2021-03-03 14:36:29,921 DEBUG Metadata_copied: 0.001s\n2021-03-03 14:36:29,922 DEBUG spatial data_copied: 0.001s\n2021-03-03 14:36:29,923 DEBUG Metadata_copied: 0.001s\n2021-03-03 14:36:29,923 DEBUG spatial data_copied: 0.001s\n2021-03-03 14:36:29,925 DEBUG Metadata_copied: 0.001s\n2021-03-03 14:36:29,925 DEBUG spatial data_copied: 0.001s\n2021-03-03 14:36:29,926 DEBUG Metadata_copied: 0.001s\n2021-03-03 14:36:29,927 DEBUG spatial data_copied: 0.001s\n2021-03-03 14:36:29,928 DEBUG Metadata_copied: 0.001s\n2021-03-03 14:36:29,928 DEBUG spatial data_copied: 0.001s\n2021-03-03 14:36:29,929 DEBUG Metadata_copied: 0.001s\n2021-03-03 14:36:29,930 DEBUG spatial data_copied: 0.001s\n2021-03-03 14:36:29,931 DEBUG Metadata_copied: 0.001s\n2021-03-03 14:36:29,931 DEBUG spatial data_copied: 0.001s\n2021-03-03 14:36:29,932 DEBUG Metadata_copied: 0.001s\n2021-03-03 14:36:29,933 DEBUG spatial data_copied: 0.001s\n2021-03-03 14:36:29,934 DEBUG Metadata_copied: 0.001s\n2021-03-03 14:36:29,935 DEBUG spatial data_copied: 0.001s\n2021-03-03 14:36:29,936 DEBUG Metadata_copied: 0.001s\n2021-03-03 14:36:29,936 DEBUG spatial data_copied: 0.001s\n2021-03-03 14:36:29,938 DEBUG Metadata_copied: 0.001s\n2021-03-03 14:36:29,938 DEBUG spatial data_copied: 0.002s\n2021-03-03 14:36:29,939 DEBUG Metadata_copied: 0.001s\n2021-03-03 14:36:29,940 DEBUG spatial data_copied: 0.001s\n2021-03-03 14:36:29,941 DEBUG Metadata_copied: 0.001s\n2021-03-03 14:36:29,941 DEBUG spatial data_copied: 0.001s\n2021-03-03 14:36:29,942 DEBUG Metadata_copied: 0.001s\n2021-03-03 14:36:29,943 DEBUG spatial data_copied: 0.001s\n2021-03-03 14:36:29,947 DEBUG 2\n2021-03-03 14:36:29,949 DEBUG one-hot: \n[[ 0.  0.  0.  0.  0.  0.  0.  0.  0.  0.  0.  0.  0.  0.  0.  0.  0.  0.\n   0.  0.  0. 10.  0.  0.  0.  0.  0.  0.  0.  0.  0.  0.  0.  0.  0.  0.\n   0.  0.  0.  0.  0.  0.  0.  0.  0.  0. 10.  0.  0.  0.  0.  0.  0.  0.\n   0.  0.  0.  0.  0.  0.  0.  0.  0.  0.  0.  0.  0.  0.  0.  0.  0. 10.\n   0.  0.  0.  0.  0.  0.  0.  0.  0.  0.  0.  0.  0.  0.  0.  0.  0.  0.\n   0.  0.  0.  0.  0.  0. 10.  0.  0.  0.]\n [ 0.  0. 10.  0.  0.  0.  0.  0.  0.  0.  0.  0.  0.  0.  0.  0.  0.  0.\n   0.  0.  0.  0.  0.  0.  0.  0.  0. 10.  0.  0.  0.  0.  0.  0.  0.  0.\n   0.  0.  0.  0.  0.  0.  0.  0.  0.  0.  0.  0.  0.  0.  0.  0. 10.  0.\n   0.  0.  0.  0.  0.  0.  0.  0.  0.  0.  0.  0.  0.  0.  0.  0.  0.  0.\n   0.  0.  0.  0.  0. 10.  0.  0.  0.  0.  0.  0.  0.  0.  0.  0.  0.  0.\n   0.  0.  0.  0.  0.  0.  0.  0.  0.  0.]\n [ 0.  0.  0.  0.  0.  0.  0. 10.  0.  0.  0.  0.  0.  0.  0.  0.  0.  0.\n   0.  0.  0.  0.  0.  0.  0.  0.  0.  0.  0.  0.  0.  0. 10.  0.  0.  0.\n   0.  0.  0.  0.  0.  0.  0.  0.  0.  0.  0.  0.  0.  0.  0.  0.  0.  0.\n   0.  0.  0. 10.  0.  0.  0.  0.  0.  0.  0.  0.  0.  0.  0.  0.  0.  0.\n   0.  0.  0.  0.  0.  0.  0.  0.  0.  0. 10.  0.  0.  0.  0.  0.  0.  0.\n   0.  0.  0.  0.  0.  0.  0.  0.  0.  0.]\n [ 0.  0.  0.  0.  0.  0.  0.  0.  0.  0.  0. 10.  0.  0.  0.  0.  0.  0.\n   0.  0.  0.  0.  0.  0.  0.  0.  0.  0.  0.  0.  0.  0.  0.  0.  0.  0.\n  10.  0.  0.  0.  0.  0.  0.  0.  0.  0.  0.  0.  0.  0.  0.  0.  0.  0.\n   0.  0.  0.  0.  0.  0.  0. 10.  0.  0.  0.  0.  0.  0.  0.  0.  0.  0.\n   0.  0.  0.  0.  0.  0.  0.  0.  0.  0.  0.  0.  0.  0. 10.  0.  0.  0.\n   0.  0.  0.  0.  0.  0.  0.  0.  0.  0.]\n [ 0.  0.  0.  0.  0.  0.  0.  0.  0.  0.  0.  0.  0.  0.  0.  0. 10.  0.\n   0.  0.  0.  0.  0.  0.  0.  0.  0.  0.  0.  0.  0.  0.  0.  0.  0.  0.\n   0.  0.  0.  0.  0. 10.  0.  0.  0.  0.  0.  0.  0.  0.  0.  0.  0.  0.\n   0.  0.  0.  0.  0.  0.  0.  0.  0.  0.  0.  0. 10.  0.  0.  0.  0.  0.\n   0.  0.  0.  0.  0.  0.  0.  0.  0.  0.  0.  0.  0.  0.  0.  0.  0.  0.\n   0. 10.  0.  0.  0.  0.  0.  0.  0.  0.]]\n2021-03-03 14:36:29,952 DEBUG smoothed:\n[[0.00000000e+00 0.00000000e+00 0.00000000e+00 0.00000000e+00\n  0.00000000e+00 0.00000000e+00 0.00000000e+00 0.00000000e+00\n  0.00000000e+00 0.00000000e+00 0.00000000e+00 0.00000000e+00\n  0.00000000e+00 0.00000000e+00 0.00000000e+00 0.00000000e+00\n  0.00000000e+00 1.33830625e-03 4.43186162e-02 5.39911274e-01\n  2.41971446e+00 3.98943469e+00 2.41971446e+00 5.39911274e-01\n  4.43186162e-02 1.33830625e-03 0.00000000e+00 0.00000000e+00\n  0.00000000e+00 0.00000000e+00 0.00000000e+00 0.00000000e+00\n  0.00000000e+00 0.00000000e+00 0.00000000e+00 0.00000000e+00\n  0.00000000e+00 0.00000000e+00 0.00000000e+00 0.00000000e+00\n  0.00000000e+00 0.00000000e+00 1.33830625e-03 4.43186162e-02\n  5.39911274e-01 2.41971446e+00 3.98943469e+00 2.41971446e+00\n  5.39911274e-01 4.43186162e-02 1.33830625e-03 0.00000000e+00\n  0.00000000e+00 0.00000000e+00 0.00000000e+00 0.00000000e+00\n  0.00000000e+00 0.00000000e+00 0.00000000e+00 0.00000000e+00\n  0.00000000e+00 0.00000000e+00 0.00000000e+00 0.00000000e+00\n  0.00000000e+00 0.00000000e+00 0.00000000e+00 1.33830625e-03\n  4.43186162e-02 5.39911274e-01 2.41971446e+00 3.98943469e+00\n  2.41971446e+00 5.39911274e-01 4.43186162e-02 1.33830625e-03\n  0.00000000e+00 0.00000000e+00 0.00000000e+00 0.00000000e+00\n  0.00000000e+00 0.00000000e+00 0.00000000e+00 0.00000000e+00\n  0.00000000e+00 0.00000000e+00 0.00000000e+00 0.00000000e+00\n  0.00000000e+00 0.00000000e+00 0.00000000e+00 0.00000000e+00\n  1.33830625e-03 4.43186162e-02 5.39911274e-01 2.41971446e+00\n  3.98943469e+00 2.41971446e+00 5.39911274e-01 4.56569224e-02]\n [5.84229890e-01 2.42105276e+00 3.98943469e+00 2.41971446e+00\n  5.39911274e-01 4.43186162e-02 1.33830625e-03 0.00000000e+00\n  0.00000000e+00 0.00000000e+00 0.00000000e+00 0.00000000e+00\n  0.00000000e+00 0.00000000e+00 0.00000000e+00 0.00000000e+00\n  0.00000000e+00 0.00000000e+00 0.00000000e+00 0.00000000e+00\n  0.00000000e+00 0.00000000e+00 0.00000000e+00 1.33830625e-03\n  4.43186162e-02 5.39911274e-01 2.41971446e+00 3.98943469e+00\n  2.41971446e+00 5.39911274e-01 4.43186162e-02 1.33830625e-03\n  0.00000000e+00 0.00000000e+00 0.00000000e+00 0.00000000e+00\n  0.00000000e+00 0.00000000e+00 0.00000000e+00 0.00000000e+00\n  0.00000000e+00 0.00000000e+00 0.00000000e+00 0.00000000e+00\n  0.00000000e+00 0.00000000e+00 0.00000000e+00 0.00000000e+00\n  1.33830625e-03 4.43186162e-02 5.39911274e-01 2.41971446e+00\n  3.98943469e+00 2.41971446e+00 5.39911274e-01 4.43186162e-02\n  1.33830625e-03 0.00000000e+00 0.00000000e+00 0.00000000e+00\n  0.00000000e+00 0.00000000e+00 0.00000000e+00 0.00000000e+00\n  0.00000000e+00 0.00000000e+00 0.00000000e+00 0.00000000e+00\n  0.00000000e+00 0.00000000e+00 0.00000000e+00 0.00000000e+00\n  0.00000000e+00 1.33830625e-03 4.43186162e-02 5.39911274e-01\n  2.41971446e+00 3.98943469e+00 2.41971446e+00 5.39911274e-01\n  4.43186162e-02 1.33830625e-03 0.00000000e+00 0.00000000e+00\n  0.00000000e+00 0.00000000e+00 0.00000000e+00 0.00000000e+00\n  0.00000000e+00 0.00000000e+00 0.00000000e+00 0.00000000e+00\n  0.00000000e+00 0.00000000e+00 0.00000000e+00 0.00000000e+00\n  0.00000000e+00 0.00000000e+00 0.00000000e+00 0.00000000e+00]\n [0.00000000e+00 0.00000000e+00 0.00000000e+00 1.33830625e-03\n  4.43186162e-02 5.39911274e-01 2.41971446e+00 3.98943469e+00\n  2.41971446e+00 5.39911274e-01 4.43186162e-02 1.33830625e-03\n  0.00000000e+00 0.00000000e+00 0.00000000e+00 0.00000000e+00\n  0.00000000e+00 0.00000000e+00 0.00000000e+00 0.00000000e+00\n  0.00000000e+00 0.00000000e+00 0.00000000e+00 0.00000000e+00\n  0.00000000e+00 0.00000000e+00 0.00000000e+00 0.00000000e+00\n  1.33830625e-03 4.43186162e-02 5.39911274e-01 2.41971446e+00\n  3.98943469e+00 2.41971446e+00 5.39911274e-01 4.43186162e-02\n  1.33830625e-03 0.00000000e+00 0.00000000e+00 0.00000000e+00\n  0.00000000e+00 0.00000000e+00 0.00000000e+00 0.00000000e+00\n  0.00000000e+00 0.00000000e+00 0.00000000e+00 0.00000000e+00\n  0.00000000e+00 0.00000000e+00 0.00000000e+00 0.00000000e+00\n  0.00000000e+00 1.33830625e-03 4.43186162e-02 5.39911274e-01\n  2.41971446e+00 3.98943469e+00 2.41971446e+00 5.39911274e-01\n  4.43186162e-02 1.33830625e-03 0.00000000e+00 0.00000000e+00\n  0.00000000e+00 0.00000000e+00 0.00000000e+00 0.00000000e+00\n  0.00000000e+00 0.00000000e+00 0.00000000e+00 0.00000000e+00\n  0.00000000e+00 0.00000000e+00 0.00000000e+00 0.00000000e+00\n  0.00000000e+00 0.00000000e+00 1.33830625e-03 4.43186162e-02\n  5.39911274e-01 2.41971446e+00 3.98943469e+00 2.41971446e+00\n  5.39911274e-01 4.43186162e-02 1.33830625e-03 0.00000000e+00\n  0.00000000e+00 0.00000000e+00 0.00000000e+00 0.00000000e+00\n  0.00000000e+00 0.00000000e+00 0.00000000e+00 0.00000000e+00\n  0.00000000e+00 0.00000000e+00 0.00000000e+00 0.00000000e+00]\n [0.00000000e+00 0.00000000e+00 0.00000000e+00 0.00000000e+00\n  0.00000000e+00 0.00000000e+00 0.00000000e+00 1.33830625e-03\n  4.43186162e-02 5.39911274e-01 2.41971446e+00 3.98943469e+00\n  2.41971446e+00 5.39911274e-01 4.43186162e-02 1.33830625e-03\n  0.00000000e+00 0.00000000e+00 0.00000000e+00 0.00000000e+00\n  0.00000000e+00 0.00000000e+00 0.00000000e+00 0.00000000e+00\n  0.00000000e+00 0.00000000e+00 0.00000000e+00 0.00000000e+00\n  0.00000000e+00 0.00000000e+00 0.00000000e+00 0.00000000e+00\n  1.33830625e-03 4.43186162e-02 5.39911274e-01 2.41971446e+00\n  3.98943469e+00 2.41971446e+00 5.39911274e-01 4.43186162e-02\n  1.33830625e-03 0.00000000e+00 0.00000000e+00 0.00000000e+00\n  0.00000000e+00 0.00000000e+00 0.00000000e+00 0.00000000e+00\n  0.00000000e+00 0.00000000e+00 0.00000000e+00 0.00000000e+00\n  0.00000000e+00 0.00000000e+00 0.00000000e+00 0.00000000e+00\n  0.00000000e+00 1.33830625e-03 4.43186162e-02 5.39911274e-01\n  2.41971446e+00 3.98943469e+00 2.41971446e+00 5.39911274e-01\n  4.43186162e-02 1.33830625e-03 0.00000000e+00 0.00000000e+00\n  0.00000000e+00 0.00000000e+00 0.00000000e+00 0.00000000e+00\n  0.00000000e+00 0.00000000e+00 0.00000000e+00 0.00000000e+00\n  0.00000000e+00 0.00000000e+00 0.00000000e+00 0.00000000e+00\n  0.00000000e+00 0.00000000e+00 1.33830625e-03 4.43186162e-02\n  5.39911274e-01 2.41971446e+00 3.98943469e+00 2.41971446e+00\n  5.39911274e-01 4.43186162e-02 1.33830625e-03 0.00000000e+00\n  0.00000000e+00 0.00000000e+00 0.00000000e+00 0.00000000e+00\n  0.00000000e+00 0.00000000e+00 0.00000000e+00 0.00000000e+00]\n [0.00000000e+00 0.00000000e+00 0.00000000e+00 0.00000000e+00\n  0.00000000e+00 0.00000000e+00 0.00000000e+00 0.00000000e+00\n  0.00000000e+00 0.00000000e+00 0.00000000e+00 0.00000000e+00\n  1.33830625e-03 4.43186162e-02 5.39911274e-01 2.41971446e+00\n  3.98943469e+00 2.41971446e+00 5.39911274e-01 4.43186162e-02\n  1.33830625e-03 0.00000000e+00 0.00000000e+00 0.00000000e+00\n  0.00000000e+00 0.00000000e+00 0.00000000e+00 0.00000000e+00\n  0.00000000e+00 0.00000000e+00 0.00000000e+00 0.00000000e+00\n  0.00000000e+00 0.00000000e+00 0.00000000e+00 0.00000000e+00\n  0.00000000e+00 1.33830625e-03 4.43186162e-02 5.39911274e-01\n  2.41971446e+00 3.98943469e+00 2.41971446e+00 5.39911274e-01\n  4.43186162e-02 1.33830625e-03 0.00000000e+00 0.00000000e+00\n  0.00000000e+00 0.00000000e+00 0.00000000e+00 0.00000000e+00\n  0.00000000e+00 0.00000000e+00 0.00000000e+00 0.00000000e+00\n  0.00000000e+00 0.00000000e+00 0.00000000e+00 0.00000000e+00\n  0.00000000e+00 0.00000000e+00 1.33830625e-03 4.43186162e-02\n  5.39911274e-01 2.41971446e+00 3.98943469e+00 2.41971446e+00\n  5.39911274e-01 4.43186162e-02 1.33830625e-03 0.00000000e+00\n  0.00000000e+00 0.00000000e+00 0.00000000e+00 0.00000000e+00\n  0.00000000e+00 0.00000000e+00 0.00000000e+00 0.00000000e+00\n  0.00000000e+00 0.00000000e+00 0.00000000e+00 0.00000000e+00\n  0.00000000e+00 0.00000000e+00 0.00000000e+00 1.33830625e-03\n  4.43186162e-02 5.39911274e-01 2.41971446e+00 3.98943469e+00\n  2.41971446e+00 5.39911274e-01 4.43186162e-02 1.33830625e-03\n  0.00000000e+00 0.00000000e+00 0.00000000e+00 0.00000000e+00]]\n2021-03-03 14:36:29,954 DEBUG transposed: \n[[1.33830625e-03 5.84229890e-01 0.00000000e+00 0.00000000e+00\n  0.00000000e+00]\n [0.00000000e+00 2.42105276e+00 0.00000000e+00 0.00000000e+00\n  0.00000000e+00]\n [0.00000000e+00 3.98943469e+00 0.00000000e+00 0.00000000e+00\n  0.00000000e+00]\n [0.00000000e+00 2.41971446e+00 1.33830625e-03 0.00000000e+00\n  0.00000000e+00]\n [0.00000000e+00 5.39911274e-01 4.43186162e-02 0.00000000e+00\n  0.00000000e+00]\n [0.00000000e+00 4.43186162e-02 5.39911274e-01 0.00000000e+00\n  0.00000000e+00]\n [0.00000000e+00 1.33830625e-03 2.41971446e+00 0.00000000e+00\n  0.00000000e+00]\n [0.00000000e+00 0.00000000e+00 3.98943469e+00 1.33830625e-03\n  0.00000000e+00]\n [0.00000000e+00 0.00000000e+00 2.41971446e+00 4.43186162e-02\n  0.00000000e+00]\n [0.00000000e+00 0.00000000e+00 5.39911274e-01 5.39911274e-01\n  0.00000000e+00]\n [0.00000000e+00 0.00000000e+00 4.43186162e-02 2.41971446e+00\n  0.00000000e+00]\n [0.00000000e+00 0.00000000e+00 1.33830625e-03 3.98943469e+00\n  0.00000000e+00]\n [0.00000000e+00 0.00000000e+00 0.00000000e+00 2.41971446e+00\n  1.33830625e-03]\n [0.00000000e+00 0.00000000e+00 0.00000000e+00 5.39911274e-01\n  4.43186162e-02]\n [0.00000000e+00 0.00000000e+00 0.00000000e+00 4.43186162e-02\n  5.39911274e-01]\n [0.00000000e+00 0.00000000e+00 0.00000000e+00 1.33830625e-03\n  2.41971446e+00]\n [0.00000000e+00 0.00000000e+00 0.00000000e+00 0.00000000e+00\n  3.98943469e+00]\n [1.33830625e-03 0.00000000e+00 0.00000000e+00 0.00000000e+00\n  2.41971446e+00]\n [4.43186162e-02 0.00000000e+00 0.00000000e+00 0.00000000e+00\n  5.39911274e-01]\n [5.39911274e-01 0.00000000e+00 0.00000000e+00 0.00000000e+00\n  4.43186162e-02]\n [2.41971446e+00 0.00000000e+00 0.00000000e+00 0.00000000e+00\n  1.33830625e-03]\n [3.98943469e+00 0.00000000e+00 0.00000000e+00 0.00000000e+00\n  0.00000000e+00]\n [2.41971446e+00 0.00000000e+00 0.00000000e+00 0.00000000e+00\n  0.00000000e+00]\n [5.39911274e-01 1.33830625e-03 0.00000000e+00 0.00000000e+00\n  0.00000000e+00]\n [4.43186162e-02 4.43186162e-02 0.00000000e+00 0.00000000e+00\n  0.00000000e+00]\n [1.33830625e-03 5.39911274e-01 0.00000000e+00 0.00000000e+00\n  0.00000000e+00]\n [0.00000000e+00 2.41971446e+00 0.00000000e+00 0.00000000e+00\n  0.00000000e+00]\n [0.00000000e+00 3.98943469e+00 0.00000000e+00 0.00000000e+00\n  0.00000000e+00]\n [0.00000000e+00 2.41971446e+00 1.33830625e-03 0.00000000e+00\n  0.00000000e+00]\n [0.00000000e+00 5.39911274e-01 4.43186162e-02 0.00000000e+00\n  0.00000000e+00]\n [0.00000000e+00 4.43186162e-02 5.39911274e-01 0.00000000e+00\n  0.00000000e+00]\n [0.00000000e+00 1.33830625e-03 2.41971446e+00 0.00000000e+00\n  0.00000000e+00]\n [0.00000000e+00 0.00000000e+00 3.98943469e+00 1.33830625e-03\n  0.00000000e+00]\n [0.00000000e+00 0.00000000e+00 2.41971446e+00 4.43186162e-02\n  0.00000000e+00]\n [0.00000000e+00 0.00000000e+00 5.39911274e-01 5.39911274e-01\n  0.00000000e+00]\n [0.00000000e+00 0.00000000e+00 4.43186162e-02 2.41971446e+00\n  0.00000000e+00]]\n2021-03-03 14:36:29,954 DEBUG raw:\n2021-03-03 14:36:29,955 DEBUG 0.106 s\n2021-03-03 14:36:29,955 INFO size: (156, 192, 18)\n2021-03-03 14:36:29,956 INFO spacing: (1.3020833730698, 1.3020833730698003, 6.6)\n2021-03-03 14:36:29,956 INFO origin: (164.33134183264, -84.352268586841, 132.53798870472)\n2021-03-03 14:36:29,956 INFO direction: (0.009917314175728859, -0.47361497132670194, -0.8806761639869374, 0.9855851363490526, -0.1441216481902006, 0.08860524550363374, -0.16888927108421972, -0.8688600632197035, 0.4653585764273542)\n2021-03-03 14:36:29,957 INFO pixel type: 32-bit float\n2021-03-03 14:36:29,957 INFO number of pixel components: 1\n2021-03-03 14:36:29,957 DEBUG plot image state failed: 'NoneType' object has no attribute 'GetSize'\n2021-03-03 14:36:29,958 DEBUG old size: [156 192  18], old spacing: [1.30208337 1.30208337 6.6       ], target spacing: [3 3 8]\n2021-03-03 14:36:29,958 DEBUG old size: [156 192  18], old spacing: [1.30208337 1.30208337 6.6       ], target spacing: [3 3 8]\n2021-03-03 14:36:29,959 DEBUG old size: [156 192  18], old spacing: [1.30208337 1.30208337 6.6       ], target spacing: [3 3 8]\n2021-03-03 14:36:29,959 DEBUG old size: [156 192  18], old spacing: [1.30208337 1.30208337 6.6       ], target spacing: [3 3 8]\n2021-03-03 14:36:29,960 DEBUG old size: [156 192  18], old spacing: [1.30208337 1.30208337 6.6       ], target spacing: [3 3 8]\n2021-03-03 14:36:29,960 DEBUG old size: [156 192  18], old spacing: [1.30208337 1.30208337 6.6       ], target spacing: [3 3 8]\n2021-03-03 14:36:29,961 DEBUG old size: [156 192  18], old spacing: [1.30208337 1.30208337 6.6       ], target spacing: [3 3 8]\n2021-03-03 14:36:29,962 DEBUG old size: [156 192  18], old spacing: [1.30208337 1.30208337 6.6       ], target spacing: [3 3 8]\n2021-03-03 14:36:29,962 DEBUG old size: [156 192  18], old spacing: [1.30208337 1.30208337 6.6       ], target spacing: [3 3 8]\n2021-03-03 14:36:29,963 DEBUG old size: [156 192  18], old spacing: [1.30208337 1.30208337 6.6       ], target spacing: [3 3 8]\n2021-03-03 14:36:29,964 DEBUG old size: [156 192  18], old spacing: [1.30208337 1.30208337 6.6       ], target spacing: [3 3 8]\n2021-03-03 14:36:29,964 DEBUG old size: [156 192  18], old spacing: [1.30208337 1.30208337 6.6       ], target spacing: [3 3 8]\n2021-03-03 14:36:29,965 DEBUG old size: [156 192  18], old spacing: [1.30208337 1.30208337 6.6       ], target spacing: [3 3 8]\n2021-03-03 14:36:29,965 DEBUG old size: [156 192  18], old spacing: [1.30208337 1.30208337 6.6       ], target spacing: [3 3 8]\n2021-03-03 14:36:29,966 DEBUG old size: [156 192  18], old spacing: [1.30208337 1.30208337 6.6       ], target spacing: [3 3 8]\n2021-03-03 14:36:29,966 DEBUG old size: [156 192  18], old spacing: [1.30208337 1.30208337 6.6       ], target spacing: [3 3 8]\n2021-03-03 14:36:29,967 DEBUG old size: [156 192  18], old spacing: [1.30208337 1.30208337 6.6       ], target spacing: [3 3 8]\n2021-03-03 14:36:29,967 DEBUG old size: [156 192  18], old spacing: [1.30208337 1.30208337 6.6       ], target spacing: [3 3 8]\n2021-03-03 14:36:29,968 DEBUG old size: [156 192  18], old spacing: [1.30208337 1.30208337 6.6       ], target spacing: [3 3 8]\n2021-03-03 14:36:29,968 DEBUG old size: [156 192  18], old spacing: [1.30208337 1.30208337 6.6       ], target spacing: [3 3 8]\n2021-03-03 14:36:29,969 DEBUG old size: [156 192  18], old spacing: [1.30208337 1.30208337 6.6       ], target spacing: [3 3 8]\n2021-03-03 14:36:29,969 DEBUG old size: [156 192  18], old spacing: [1.30208337 1.30208337 6.6       ], target spacing: [3 3 8]\n2021-03-03 14:36:29,970 DEBUG old size: [156 192  18], old spacing: [1.30208337 1.30208337 6.6       ], target spacing: [3 3 8]\n2021-03-03 14:36:29,970 DEBUG old size: [156 192  18], old spacing: [1.30208337 1.30208337 6.6       ], target spacing: [3 3 8]\n2021-03-03 14:36:29,972 DEBUG old size: [156 192  18], old spacing: [1.30208337 1.30208337 6.6       ], target spacing: [3 3 8]\n2021-03-03 14:36:29,972 DEBUG dimension: 3\n2021-03-03 14:36:29,972 DEBUG Size before resample: (156, 192, 18)\n2021-03-03 14:36:29,987 DEBUG Spacing after resample: (3.0, 3.0, 8.0)\n2021-03-03 14:36:29,987 DEBUG Size after resample: (68, 83, 15)\n2021-03-03 14:36:29,990 DEBUG resampled:\n2021-03-03 14:36:29,990 DEBUG 0.033 s\n2021-03-03 14:36:29,991 INFO size: (68, 83, 15)\n2021-03-03 14:36:29,991 INFO spacing: (1.0, 1.0, 1.0)\n2021-03-03 14:36:29,992 INFO origin: (0.0, 0.0, 0.0)\n2021-03-03 14:36:29,992 INFO direction: (1.0, 0.0, 0.0, 0.0, 1.0, 0.0, 0.0, 0.0, 1.0)\n2021-03-03 14:36:29,993 INFO pixel type: 32-bit float\n2021-03-03 14:36:29,993 INFO number of pixel components: 1\n2021-03-03 14:36:29,994 DEBUG plot image state failed: 'NoneType' object has no attribute 'GetSize'\n2021-03-03 14:36:30,011 DEBUG {'__class_fullname__': 'albumentations.core.composition.ReplayCompose', 'params': None, 'transforms': [{'__class_fullname__': 'albumentations.augmentations.transforms.ShiftScaleRotate', 'always_apply': False, 'p': 0.8, 'shift_limit_x': (-0.025, 0.025), 'shift_limit_y': (-0.025, 0.025), 'scale_limit': (0.0, 0.0), 'rotate_limit': (-45, 45), 'interpolation': 1, 'border_mode': 1, 'value': 0, 'mask_value': None, 'params': {'angle': -22.95973315768714, 'scale': 1.0, 'dx': -0.019875241191424628, 'dy': 0.012033387233383791}, 'applied': True}], 'applied': True}\n2021-03-03 14:36:30,013 DEBUG augmented:\n2021-03-03 14:36:30,014 DEBUG 0.056 s\n2021-03-03 14:36:30,014 INFO size: (68, 83, 15)\n2021-03-03 14:36:30,015 INFO spacing: (1.0, 1.0, 1.0)\n2021-03-03 14:36:30,015 INFO origin: (0.0, 0.0, 0.0)\n2021-03-03 14:36:30,015 INFO direction: (1.0, 0.0, 0.0, 0.0, 1.0, 0.0, 0.0, 0.0, 1.0)\n2021-03-03 14:36:30,015 INFO pixel type: 32-bit float\n2021-03-03 14:36:30,016 INFO number of pixel components: 1\n2021-03-03 14:36:30,016 DEBUG plot image state failed: 'NoneType' object has no attribute 'GetSize'\n2021-03-03 14:36:30,035 DEBUG input shape, crop_and_pad: (36, 15, 83, 68)\n2021-03-03 14:36:30,035 DEBUG target shape, crop_and_pad: [36  8 64 64]\n2021-03-03 14:36:30,037 DEBUG input shape, crop_and_pad: (36, 5)\n2021-03-03 14:36:30,037 DEBUG target shape, crop_and_pad: [36  5]\n2021-03-03 14:36:30,037 DEBUG input shape, crop_and_pad: (36, 5)\n2021-03-03 14:36:30,038 DEBUG target shape, crop_and_pad: [36  5]\n2021-03-03 14:36:30,044 DEBUG background: \n[[1.33830625e-03 5.84229890e-01 0.00000000e+00 0.00000000e+00\n  0.00000000e+00]\n [0.00000000e+00 2.42105276e+00 0.00000000e+00 0.00000000e+00\n  0.00000000e+00]\n [0.00000000e+00 3.98943469e+00 0.00000000e+00 0.00000000e+00\n  0.00000000e+00]\n [0.00000000e+00 2.41971446e+00 1.33830625e-03 0.00000000e+00\n  0.00000000e+00]\n [0.00000000e+00 5.39911274e-01 4.43186162e-02 0.00000000e+00\n  0.00000000e+00]\n [0.00000000e+00 4.43186162e-02 5.39911274e-01 0.00000000e+00\n  0.00000000e+00]\n [0.00000000e+00 1.33830625e-03 2.41971446e+00 0.00000000e+00\n  0.00000000e+00]\n [0.00000000e+00 0.00000000e+00 3.98943469e+00 1.33830625e-03\n  0.00000000e+00]\n [0.00000000e+00 0.00000000e+00 2.41971446e+00 4.43186162e-02\n  0.00000000e+00]\n [0.00000000e+00 0.00000000e+00 5.39911274e-01 5.39911274e-01\n  0.00000000e+00]\n [0.00000000e+00 0.00000000e+00 4.43186162e-02 2.41971446e+00\n  0.00000000e+00]\n [0.00000000e+00 0.00000000e+00 1.33830625e-03 3.98943469e+00\n  0.00000000e+00]\n [0.00000000e+00 0.00000000e+00 0.00000000e+00 2.41971446e+00\n  1.33830625e-03]\n [0.00000000e+00 0.00000000e+00 0.00000000e+00 5.39911274e-01\n  4.43186162e-02]\n [0.00000000e+00 0.00000000e+00 0.00000000e+00 4.43186162e-02\n  5.39911274e-01]\n [0.00000000e+00 0.00000000e+00 0.00000000e+00 1.33830625e-03\n  2.41971446e+00]\n [0.00000000e+00 0.00000000e+00 0.00000000e+00 0.00000000e+00\n  3.98943469e+00]\n [1.33830625e-03 0.00000000e+00 0.00000000e+00 0.00000000e+00\n  2.41971446e+00]\n [4.43186162e-02 0.00000000e+00 0.00000000e+00 0.00000000e+00\n  5.39911274e-01]\n [5.39911274e-01 0.00000000e+00 0.00000000e+00 0.00000000e+00\n  4.43186162e-02]\n [2.41971446e+00 0.00000000e+00 0.00000000e+00 0.00000000e+00\n  1.33830625e-03]\n [3.98943469e+00 0.00000000e+00 0.00000000e+00 0.00000000e+00\n  0.00000000e+00]\n [2.41971446e+00 0.00000000e+00 0.00000000e+00 0.00000000e+00\n  0.00000000e+00]\n [5.39911274e-01 1.33830625e-03 0.00000000e+00 0.00000000e+00\n  0.00000000e+00]\n [4.43186162e-02 4.43186162e-02 0.00000000e+00 0.00000000e+00\n  0.00000000e+00]\n [1.33830625e-03 5.39911274e-01 0.00000000e+00 0.00000000e+00\n  0.00000000e+00]\n [0.00000000e+00 2.41971446e+00 0.00000000e+00 0.00000000e+00\n  0.00000000e+00]\n [0.00000000e+00 3.98943469e+00 0.00000000e+00 0.00000000e+00\n  0.00000000e+00]\n [0.00000000e+00 2.41971446e+00 1.33830625e-03 0.00000000e+00\n  0.00000000e+00]\n [0.00000000e+00 5.39911274e-01 4.43186162e-02 0.00000000e+00\n  0.00000000e+00]\n [0.00000000e+00 4.43186162e-02 5.39911274e-01 0.00000000e+00\n  0.00000000e+00]\n [0.00000000e+00 1.33830625e-03 2.41971446e+00 0.00000000e+00\n  0.00000000e+00]\n [0.00000000e+00 0.00000000e+00 3.98943469e+00 1.33830625e-03\n  0.00000000e+00]\n [0.00000000e+00 0.00000000e+00 2.41971446e+00 4.43186162e-02\n  0.00000000e+00]\n [0.00000000e+00 0.00000000e+00 5.39911274e-01 5.39911274e-01\n  0.00000000e+00]\n [0.00000000e+00 0.00000000e+00 4.43186162e-02 2.41971446e+00\n  0.00000000e+00]]\n2021-03-03 14:36:30,045 DEBUG normalised (sum phases per timestep == 1): \n[[1.33830625e-03 5.84229890e-01 0.00000000e+00 0.00000000e+00\n  0.00000000e+00]\n [0.00000000e+00 2.42105276e+00 0.00000000e+00 0.00000000e+00\n  0.00000000e+00]\n [0.00000000e+00 3.98943469e+00 0.00000000e+00 0.00000000e+00\n  0.00000000e+00]\n [0.00000000e+00 2.41971446e+00 1.33830625e-03 0.00000000e+00\n  0.00000000e+00]\n [0.00000000e+00 5.39911274e-01 4.43186162e-02 0.00000000e+00\n  0.00000000e+00]\n [0.00000000e+00 4.43186162e-02 5.39911274e-01 0.00000000e+00\n  0.00000000e+00]\n [0.00000000e+00 1.33830625e-03 2.41971446e+00 0.00000000e+00\n  0.00000000e+00]\n [0.00000000e+00 0.00000000e+00 3.98943469e+00 1.33830625e-03\n  0.00000000e+00]\n [0.00000000e+00 0.00000000e+00 2.41971446e+00 4.43186162e-02\n  0.00000000e+00]\n [0.00000000e+00 0.00000000e+00 5.39911274e-01 5.39911274e-01\n  0.00000000e+00]\n [0.00000000e+00 0.00000000e+00 4.43186162e-02 2.41971446e+00\n  0.00000000e+00]\n [0.00000000e+00 0.00000000e+00 1.33830625e-03 3.98943469e+00\n  0.00000000e+00]\n [0.00000000e+00 0.00000000e+00 0.00000000e+00 2.41971446e+00\n  1.33830625e-03]\n [0.00000000e+00 0.00000000e+00 0.00000000e+00 5.39911274e-01\n  4.43186162e-02]\n [0.00000000e+00 0.00000000e+00 0.00000000e+00 4.43186162e-02\n  5.39911274e-01]\n [0.00000000e+00 0.00000000e+00 0.00000000e+00 1.33830625e-03\n  2.41971446e+00]\n [0.00000000e+00 0.00000000e+00 0.00000000e+00 0.00000000e+00\n  3.98943469e+00]\n [1.33830625e-03 0.00000000e+00 0.00000000e+00 0.00000000e+00\n  2.41971446e+00]\n [4.43186162e-02 0.00000000e+00 0.00000000e+00 0.00000000e+00\n  5.39911274e-01]\n [5.39911274e-01 0.00000000e+00 0.00000000e+00 0.00000000e+00\n  4.43186162e-02]\n [2.41971446e+00 0.00000000e+00 0.00000000e+00 0.00000000e+00\n  1.33830625e-03]\n [3.98943469e+00 0.00000000e+00 0.00000000e+00 0.00000000e+00\n  0.00000000e+00]\n [2.41971446e+00 0.00000000e+00 0.00000000e+00 0.00000000e+00\n  0.00000000e+00]\n [5.39911274e-01 1.33830625e-03 0.00000000e+00 0.00000000e+00\n  0.00000000e+00]\n [4.43186162e-02 4.43186162e-02 0.00000000e+00 0.00000000e+00\n  0.00000000e+00]\n [1.33830625e-03 5.39911274e-01 0.00000000e+00 0.00000000e+00\n  0.00000000e+00]\n [0.00000000e+00 2.41971446e+00 0.00000000e+00 0.00000000e+00\n  0.00000000e+00]\n [0.00000000e+00 3.98943469e+00 0.00000000e+00 0.00000000e+00\n  0.00000000e+00]\n [0.00000000e+00 2.41971446e+00 1.33830625e-03 0.00000000e+00\n  0.00000000e+00]\n [0.00000000e+00 5.39911274e-01 4.43186162e-02 0.00000000e+00\n  0.00000000e+00]\n [0.00000000e+00 4.43186162e-02 5.39911274e-01 0.00000000e+00\n  0.00000000e+00]\n [0.00000000e+00 1.33830625e-03 2.41971446e+00 0.00000000e+00\n  0.00000000e+00]\n [0.00000000e+00 0.00000000e+00 3.98943469e+00 1.33830625e-03\n  0.00000000e+00]\n [0.00000000e+00 0.00000000e+00 2.41971446e+00 4.43186162e-02\n  0.00000000e+00]\n [0.00000000e+00 0.00000000e+00 5.39911274e-01 5.39911274e-01\n  0.00000000e+00]\n [0.00000000e+00 0.00000000e+00 4.43186162e-02 2.41971446e+00\n  0.00000000e+00]]\n2021-03-03 14:36:30,045 DEBUG clipped cropped and pad:\n2021-03-03 14:36:30,046 DEBUG 0.029 s\n2021-03-03 14:36:30,046 INFO size: (64, 64, 8)\n2021-03-03 14:36:30,046 INFO spacing: (1.0, 1.0, 1.0)\n2021-03-03 14:36:30,047 INFO origin: (0.0, 0.0, 0.0)\n2021-03-03 14:36:30,047 INFO direction: (1.0, 0.0, 0.0, 0.0, 1.0, 0.0, 0.0, 0.0, 1.0)\n2021-03-03 14:36:30,047 INFO pixel type: 32-bit float\n2021-03-03 14:36:30,047 INFO number of pixel components: 1\n2021-03-03 14:36:30,048 DEBUG plot image state failed: 'NoneType' object has no attribute 'GetSize'\n2021-03-03 14:36:30,050 DEBUG img finished after 0.200 sec.\n2021-03-03 14:36:30,050 DEBUG Batchsize: 1 preprocessing took: 0.202 sec\n2021-03-03 14:36:30,051 INFO Preprocessing took: 0.203\n"
        },
        {
         "name": "stdout",
         "output_type": "stream",
         "text": "(1, 36, 8, 64, 64, 1) (1, 2, 36, 5)\nselected batch : 104\n"
        },
        {
         "ename": "TypeError",
         "evalue": "'AxesSubplot' object is not subscriptable",
         "output_type": "error",
         "traceback": [
          "\u001b[0;31m---------------------------------------------------------------------------\u001b[0m",
          "\u001b[0;31mTypeError\u001b[0m                                 Traceback (most recent call last)",
          "\u001b[0;32m~/anaconda3/envs/dcmr/lib/python3.8/site-packages/ipywidgets/widgets/interaction.py\u001b[0m in \u001b[0;36mupdate\u001b[0;34m(self, *args)\u001b[0m\n\u001b[1;32m    254\u001b[0m                     \u001b[0mvalue\u001b[0m \u001b[0;34m=\u001b[0m \u001b[0mwidget\u001b[0m\u001b[0;34m.\u001b[0m\u001b[0mget_interact_value\u001b[0m\u001b[0;34m(\u001b[0m\u001b[0;34m)\u001b[0m\u001b[0;34m\u001b[0m\u001b[0;34m\u001b[0m\u001b[0m\n\u001b[1;32m    255\u001b[0m                     \u001b[0mself\u001b[0m\u001b[0;34m.\u001b[0m\u001b[0mkwargs\u001b[0m\u001b[0;34m[\u001b[0m\u001b[0mwidget\u001b[0m\u001b[0;34m.\u001b[0m\u001b[0m_kwarg\u001b[0m\u001b[0;34m]\u001b[0m \u001b[0;34m=\u001b[0m \u001b[0mvalue\u001b[0m\u001b[0;34m\u001b[0m\u001b[0;34m\u001b[0m\u001b[0m\n\u001b[0;32m--> 256\u001b[0;31m                 \u001b[0mself\u001b[0m\u001b[0;34m.\u001b[0m\u001b[0mresult\u001b[0m \u001b[0;34m=\u001b[0m \u001b[0mself\u001b[0m\u001b[0;34m.\u001b[0m\u001b[0mf\u001b[0m\u001b[0;34m(\u001b[0m\u001b[0;34m**\u001b[0m\u001b[0mself\u001b[0m\u001b[0;34m.\u001b[0m\u001b[0mkwargs\u001b[0m\u001b[0;34m)\u001b[0m\u001b[0;34m\u001b[0m\u001b[0;34m\u001b[0m\u001b[0m\n\u001b[0m\u001b[1;32m    257\u001b[0m                 \u001b[0mshow_inline_matplotlib_plots\u001b[0m\u001b[0;34m(\u001b[0m\u001b[0;34m)\u001b[0m\u001b[0;34m\u001b[0m\u001b[0;34m\u001b[0m\u001b[0m\n\u001b[1;32m    258\u001b[0m                 \u001b[0;32mif\u001b[0m \u001b[0mself\u001b[0m\u001b[0;34m.\u001b[0m\u001b[0mauto_display\u001b[0m \u001b[0;32mand\u001b[0m \u001b[0mself\u001b[0m\u001b[0;34m.\u001b[0m\u001b[0mresult\u001b[0m \u001b[0;32mis\u001b[0m \u001b[0;32mnot\u001b[0m \u001b[0;32mNone\u001b[0m\u001b[0;34m:\u001b[0m\u001b[0;34m\u001b[0m\u001b[0;34m\u001b[0m\u001b[0m\n",
          "\u001b[0;32m<ipython-input-13-09a175f12242>\u001b[0m in \u001b[0;36mselect_image_in_batch\u001b[0;34m(batch, im, slice_n, save, filepath, filename, show_overview, show_input_vol)\u001b[0m\n\u001b[1;32m     22\u001b[0m     \u001b[0;32mif\u001b[0m \u001b[0mshow_overview\u001b[0m\u001b[0;34m:\u001b[0m\u001b[0;34m\u001b[0m\u001b[0;34m\u001b[0m\u001b[0m\n\u001b[1;32m     23\u001b[0m \u001b[0;34m\u001b[0m\u001b[0m\n\u001b[0;32m---> 24\u001b[0;31m         \u001b[0mshow_phases\u001b[0m\u001b[0;34m(\u001b[0m\u001b[0moutputs\u001b[0m\u001b[0;34m)\u001b[0m\u001b[0;34m\u001b[0m\u001b[0;34m\u001b[0m\u001b[0m\n\u001b[0m\u001b[1;32m     25\u001b[0m         \u001b[0mplt\u001b[0m\u001b[0;34m.\u001b[0m\u001b[0mshow\u001b[0m\u001b[0;34m(\u001b[0m\u001b[0;34m)\u001b[0m\u001b[0;34m\u001b[0m\u001b[0;34m\u001b[0m\u001b[0m\n\u001b[1;32m     26\u001b[0m \u001b[0;34m\u001b[0m\u001b[0m\n",
          "\u001b[0;32m/mnt/ssd/git/dynamic-cmr-models/src/visualization/Visualize.py\u001b[0m in \u001b[0;36mshow_phases\u001b[0;34m(gt, pred)\u001b[0m\n\u001b[1;32m    838\u001b[0m             \u001b[0mi\u001b[0m \u001b[0;34m=\u001b[0m \u001b[0mi\u001b[0m \u001b[0;34m+\u001b[0m \u001b[0;36m1\u001b[0m\u001b[0;34m\u001b[0m\u001b[0;34m\u001b[0m\u001b[0m\n\u001b[1;32m    839\u001b[0m \u001b[0;34m\u001b[0m\u001b[0m\n\u001b[0;32m--> 840\u001b[0;31m         \u001b[0maxs\u001b[0m\u001b[0;34m[\u001b[0m\u001b[0mi\u001b[0m\u001b[0;34m]\u001b[0m\u001b[0;34m.\u001b[0m\u001b[0mtitle\u001b[0m\u001b[0;34m.\u001b[0m\u001b[0mset_text\u001b[0m\u001b[0;34m(\u001b[0m\u001b[0;34m'y'\u001b[0m\u001b[0;34m)\u001b[0m\u001b[0;34m\u001b[0m\u001b[0;34m\u001b[0m\u001b[0m\n\u001b[0m\u001b[1;32m    841\u001b[0m         \u001b[0mtemp_y\u001b[0m \u001b[0;34m=\u001b[0m \u001b[0mgt\u001b[0m\u001b[0;34m[\u001b[0m\u001b[0midx\u001b[0m\u001b[0;34m]\u001b[0m\u001b[0;34m*\u001b[0m \u001b[0mgt_msk\u001b[0m\u001b[0;34m[\u001b[0m\u001b[0midx\u001b[0m\u001b[0;34m]\u001b[0m\u001b[0;34m\u001b[0m\u001b[0;34m\u001b[0m\u001b[0m\n\u001b[1;32m    842\u001b[0m         \u001b[0mgt_length\u001b[0m \u001b[0;34m=\u001b[0m \u001b[0mnp\u001b[0m\u001b[0;34m.\u001b[0m\u001b[0msum\u001b[0m\u001b[0;34m(\u001b[0m\u001b[0mgt_msk\u001b[0m\u001b[0;34m[\u001b[0m\u001b[0midx\u001b[0m\u001b[0;34m,\u001b[0m \u001b[0;34m:\u001b[0m\u001b[0;34m,\u001b[0m \u001b[0;36m0\u001b[0m\u001b[0;34m]\u001b[0m\u001b[0;34m,\u001b[0m \u001b[0maxis\u001b[0m\u001b[0;34m=\u001b[0m\u001b[0;36m0\u001b[0m\u001b[0;34m)\u001b[0m\u001b[0;34m.\u001b[0m\u001b[0mastype\u001b[0m\u001b[0;34m(\u001b[0m\u001b[0mint\u001b[0m\u001b[0;34m)\u001b[0m\u001b[0;34m\u001b[0m\u001b[0;34m\u001b[0m\u001b[0m\n",
          "\u001b[0;31mTypeError\u001b[0m: 'AxesSubplot' object is not subscriptable"
         ]
        }
       ]
      }
     },
     "20d49d525a0747fcb7a291d9b43c464f": {
      "model_module": "@jupyter-widgets/controls",
      "model_module_version": "1.5.0",
      "model_name": "CheckboxModel",
      "state": {
       "description": "show_overview",
       "disabled": false,
       "layout": "IPY_MODEL_e1e268845f224b49bf7c0159228f6126",
       "style": "IPY_MODEL_0bda339f03aa4e41876e6ec128ee2d0f",
       "value": true
      }
     },
     "2125fc66836a409ab3a4fc0ba6cae699": {
      "model_module": "@jupyter-widgets/base",
      "model_module_version": "1.2.0",
      "model_name": "LayoutModel",
      "state": {}
     },
     "234db2bb91cd40b68b542c480faf9aa3": {
      "model_module": "@jupyter-widgets/base",
      "model_module_version": "1.2.0",
      "model_name": "LayoutModel",
      "state": {}
     },
     "2460585b51564233bc7280fcb9b0112f": {
      "model_module": "@jupyter-widgets/base",
      "model_module_version": "1.2.0",
      "model_name": "LayoutModel",
      "state": {}
     },
     "24b67f30cefe470e9bb69f972d82f551": {
      "model_module": "@jupyter-widgets/controls",
      "model_module_version": "1.5.0",
      "model_name": "TextModel",
      "state": {
       "description": "filename",
       "layout": "IPY_MODEL_5e349ec14267454ab7f841a1e181d446",
       "style": "IPY_MODEL_85ee7fe8306448f9af5231c788fae5a6",
       "value": "temp_x.npy"
      }
     },
     "25387514ff8b44c29fe27eae6ed1ed58": {
      "model_module": "@jupyter-widgets/controls",
      "model_module_version": "1.5.0",
      "model_name": "TextModel",
      "state": {
       "description": "filename",
       "layout": "IPY_MODEL_df52deeecaa44f4d8e1c06e1d4b99742",
       "style": "IPY_MODEL_c3741ed1bee34cf496d021663b59521d",
       "value": "temp_x.npy"
      }
     },
     "26627684b2d7442e86a5728b75c0aae1": {
      "model_module": "@jupyter-widgets/base",
      "model_module_version": "1.2.0",
      "model_name": "LayoutModel",
      "state": {}
     },
     "27188372961b4409a432ff2818f1b7b0": {
      "model_module": "@jupyter-widgets/base",
      "model_module_version": "1.2.0",
      "model_name": "LayoutModel",
      "state": {}
     },
     "293339e959da4965b5ddc410386057fa": {
      "model_module": "@jupyter-widgets/output",
      "model_module_version": "1.0.0",
      "model_name": "OutputModel",
      "state": {
       "layout": "IPY_MODEL_110ba2b9d7e3408eb79da1ae6d8d61e6",
       "outputs": [
        {
         "data": {
          "text/html": "<div>\n<style scoped>\n    .dataframe tbody tr th:only-of-type {\n        vertical-align: middle;\n    }\n\n    .dataframe tbody tr th {\n        vertical-align: top;\n    }\n\n    .dataframe thead th {\n        text-align: right;\n    }\n</style>\n<table border=\"1\" class=\"dataframe\">\n  <thead>\n    <tr style=\"text-align: right;\">\n      <th></th>\n      <th>patient</th>\n      <th>ED#</th>\n      <th>MS#</th>\n      <th>ES#</th>\n      <th>PF#</th>\n      <th>MD#</th>\n    </tr>\n  </thead>\n  <tbody>\n    <tr>\n      <th>0</th>\n      <td>02Z1L14N</td>\n      <td>14.0</td>\n      <td>3.0</td>\n      <td>6.0</td>\n      <td>8.0</td>\n      <td>12.0</td>\n    </tr>\n    <tr>\n      <th>1</th>\n      <td>02Z1L14N</td>\n      <td>14.0</td>\n      <td>3.0</td>\n      <td>6.0</td>\n      <td>8.0</td>\n      <td>12.0</td>\n    </tr>\n    <tr>\n      <th>2</th>\n      <td>02Z1L14N</td>\n      <td>14.0</td>\n      <td>3.0</td>\n      <td>6.0</td>\n      <td>8.0</td>\n      <td>12.0</td>\n    </tr>\n    <tr>\n      <th>3</th>\n      <td>02Z1L14N</td>\n      <td>14.0</td>\n      <td>3.0</td>\n      <td>6.0</td>\n      <td>8.0</td>\n      <td>12.0</td>\n    </tr>\n    <tr>\n      <th>4</th>\n      <td>02Z1L14N</td>\n      <td>14.0</td>\n      <td>3.0</td>\n      <td>6.0</td>\n      <td>8.0</td>\n      <td>12.0</td>\n    </tr>\n    <tr>\n      <th>...</th>\n      <td>...</td>\n      <td>...</td>\n      <td>...</td>\n      <td>...</td>\n      <td>...</td>\n      <td>...</td>\n    </tr>\n    <tr>\n      <th>1385</th>\n      <td>ZZQ0001Q</td>\n      <td>1.0</td>\n      <td>5.0</td>\n      <td>10.0</td>\n      <td>14.0</td>\n      <td>19.0</td>\n    </tr>\n    <tr>\n      <th>1386</th>\n      <td>ZZQ0001Q</td>\n      <td>1.0</td>\n      <td>5.0</td>\n      <td>10.0</td>\n      <td>14.0</td>\n      <td>19.0</td>\n    </tr>\n    <tr>\n      <th>1387</th>\n      <td>ZZQ0001Q</td>\n      <td>1.0</td>\n      <td>5.0</td>\n      <td>10.0</td>\n      <td>14.0</td>\n      <td>19.0</td>\n    </tr>\n    <tr>\n      <th>1388</th>\n      <td>ZZQ0001Q</td>\n      <td>1.0</td>\n      <td>5.0</td>\n      <td>10.0</td>\n      <td>14.0</td>\n      <td>19.0</td>\n    </tr>\n    <tr>\n      <th>1389</th>\n      <td>ZZQ0001Q</td>\n      <td>1.0</td>\n      <td>5.0</td>\n      <td>10.0</td>\n      <td>14.0</td>\n      <td>19.0</td>\n    </tr>\n  </tbody>\n</table>\n<p>1390 rows × 6 columns</p>\n</div>",
          "text/plain": "       patient   ED#  MS#   ES#   PF#   MD#\n0     02Z1L14N  14.0  3.0   6.0   8.0  12.0\n1     02Z1L14N  14.0  3.0   6.0   8.0  12.0\n2     02Z1L14N  14.0  3.0   6.0   8.0  12.0\n3     02Z1L14N  14.0  3.0   6.0   8.0  12.0\n4     02Z1L14N  14.0  3.0   6.0   8.0  12.0\n...        ...   ...  ...   ...   ...   ...\n1385  ZZQ0001Q   1.0  5.0  10.0  14.0  19.0\n1386  ZZQ0001Q   1.0  5.0  10.0  14.0  19.0\n1387  ZZQ0001Q   1.0  5.0  10.0  14.0  19.0\n1388  ZZQ0001Q   1.0  5.0  10.0  14.0  19.0\n1389  ZZQ0001Q   1.0  5.0  10.0  14.0  19.0\n\n[1390 rows x 6 columns]"
         },
         "metadata": {},
         "output_type": "display_data"
        }
       ]
      }
     },
     "2aa22bbcf60b446f92c14b28752c8de7": {
      "model_module": "@jupyter-widgets/controls",
      "model_module_version": "1.5.0",
      "model_name": "SliderStyleModel",
      "state": {
       "description_width": ""
      }
     },
     "2ae939412a3947e29e7889d8300be2a8": {
      "model_module": "@jupyter-widgets/controls",
      "model_module_version": "1.5.0",
      "model_name": "VBoxModel",
      "state": {
       "_dom_classes": [
        "widget-interact"
       ],
       "children": [
        "IPY_MODEL_2c33a68736534cc6ad1e28ceef7e61f2",
        "IPY_MODEL_b92fcdc16be54d82b51db52020597ffb"
       ],
       "layout": "IPY_MODEL_0f24e0f6c8ef4470b8f973d61dacb688"
      }
     },
     "2b8fb9f20f9e4d529bc55071f473528b": {
      "model_module": "@jupyter-widgets/base",
      "model_module_version": "1.2.0",
      "model_name": "LayoutModel",
      "state": {}
     },
     "2bad682b9259404a8e88bb8c9e17082e": {
      "model_module": "@jupyter-widgets/base",
      "model_module_version": "1.2.0",
      "model_name": "LayoutModel",
      "state": {}
     },
     "2bfe4beb004f4215958510b337f4ba2c": {
      "model_module": "@jupyter-widgets/controls",
      "model_module_version": "1.5.0",
      "model_name": "ButtonStyleModel",
      "state": {}
     },
     "2c33a68736534cc6ad1e28ceef7e61f2": {
      "model_module": "@jupyter-widgets/controls",
      "model_module_version": "1.5.0",
      "model_name": "TextModel",
      "state": {
       "description": "search_str",
       "layout": "IPY_MODEL_06dc01a5eaa64596b63d118a3b4bdccb",
       "style": "IPY_MODEL_9f9ca8bb3fd649cca00f8a049062cc17"
      }
     },
     "2ccc677a3057492c8e0a7e7468b5e251": {
      "model_module": "@jupyter-widgets/base",
      "model_module_version": "1.2.0",
      "model_name": "LayoutModel",
      "state": {}
     },
     "2d25c9dd5d8f468c9439e5309875543d": {
      "model_module": "@jupyter-widgets/base",
      "model_module_version": "1.2.0",
      "model_name": "LayoutModel",
      "state": {}
     },
     "2f8af47182984fbbbe2604550801abc6": {
      "model_module": "@jupyter-widgets/controls",
      "model_module_version": "1.5.0",
      "model_name": "SliderStyleModel",
      "state": {
       "description_width": ""
      }
     },
     "304fed6809b8433bae889d18530a5563": {
      "model_module": "@jupyter-widgets/controls",
      "model_module_version": "1.5.0",
      "model_name": "ButtonStyleModel",
      "state": {}
     },
     "30b26d47744849ba8c96a175897c750f": {
      "model_module": "@jupyter-widgets/controls",
      "model_module_version": "1.5.0",
      "model_name": "IntSliderModel",
      "state": {
       "description": "slice_n",
       "layout": "IPY_MODEL_a4fc61b1eb934c26ad7c8eb5928c3a04",
       "max": 11,
       "min": 1,
       "style": "IPY_MODEL_5a2e29766b2145a3b195cbb012e93e13",
       "value": 6
      }
     },
     "30cbefd15ce64fff98c2d4e699e80023": {
      "model_module": "@jupyter-widgets/controls",
      "model_module_version": "1.5.0",
      "model_name": "TextModel",
      "state": {
       "description": "filepath",
       "layout": "IPY_MODEL_46f529b1f8074ccbbcb88f63b341a0b5",
       "style": "IPY_MODEL_1a3dfe589d5d4c22b2329b52fb6e81d4",
       "value": "data/temp/"
      }
     },
     "31e48e08b4b74dd0ab2fe26aaae69bea": {
      "model_module": "@jupyter-widgets/base",
      "model_module_version": "1.2.0",
      "model_name": "LayoutModel",
      "state": {}
     },
     "3370837324cc4b07948cce87277f51ee": {
      "model_module": "@jupyter-widgets/base",
      "model_module_version": "1.2.0",
      "model_name": "LayoutModel",
      "state": {}
     },
     "356037bd57e44e1a84c1311d6688ba9c": {
      "model_module": "@jupyter-widgets/base",
      "model_module_version": "1.2.0",
      "model_name": "LayoutModel",
      "state": {}
     },
     "35628928130b493fa57eb3569dc757fd": {
      "model_module": "@jupyter-widgets/controls",
      "model_module_version": "1.5.0",
      "model_name": "IntSliderModel",
      "state": {
       "description": "batch",
       "layout": "IPY_MODEL_836846552b1047cbab064439958eced3",
       "max": 209,
       "style": "IPY_MODEL_a2028e21bdf241689a72a0370be95f2f",
       "value": 104
      }
     },
     "35ba26ef3bac46e2aa927b7cabe80e38": {
      "model_module": "@jupyter-widgets/controls",
      "model_module_version": "1.5.0",
      "model_name": "IntSliderModel",
      "state": {
       "description": "batch",
       "layout": "IPY_MODEL_b0cc7f3018e648cca51f289bbcbccf7a",
       "max": 209,
       "style": "IPY_MODEL_4242425754b9494da41063f299f13d98",
       "value": 104
      }
     },
     "363327a3f9484e209c8b7b55be7fbd0d": {
      "model_module": "@jupyter-widgets/base",
      "model_module_version": "1.2.0",
      "model_name": "LayoutModel",
      "state": {}
     },
     "364c5b2e86464c64b7057f4ef939b1b1": {
      "model_module": "@jupyter-widgets/controls",
      "model_module_version": "1.5.0",
      "model_name": "ButtonModel",
      "state": {
       "description": "Run Interact",
       "layout": "IPY_MODEL_93bb4e83992a4de3aff8ebe8374edf9e",
       "style": "IPY_MODEL_e7688f2b310c4e90b4c66c6cf04fec19"
      }
     },
     "37bf1fd719f14de7b5cc4c273669b536": {
      "model_module": "@jupyter-widgets/controls",
      "model_module_version": "1.5.0",
      "model_name": "CheckboxModel",
      "state": {
       "description": "show_input_vol",
       "disabled": false,
       "layout": "IPY_MODEL_7a059cfa97b64366a3aee7a894e8edc0",
       "style": "IPY_MODEL_ea412b1b610640bb89bc8641351bffbc",
       "value": false
      }
     },
     "37f0b566c9104629af556fbdba46fa69": {
      "model_module": "@jupyter-widgets/controls",
      "model_module_version": "1.5.0",
      "model_name": "CheckboxModel",
      "state": {
       "description": "show_overview",
       "disabled": false,
       "layout": "IPY_MODEL_03fda857c0d34cfea13714d8686ce090",
       "style": "IPY_MODEL_82bb10ef3def400b8f44e8c2e2884fd5",
       "value": true
      }
     },
     "37f0c17369494a0ebfa53ab73d91af11": {
      "model_module": "@jupyter-widgets/base",
      "model_module_version": "1.2.0",
      "model_name": "LayoutModel",
      "state": {}
     },
     "38674b7973204e52baf742a311d7581e": {
      "model_module": "@jupyter-widgets/base",
      "model_module_version": "1.2.0",
      "model_name": "LayoutModel",
      "state": {}
     },
     "3b05c05cee414993b1b2c9ec1975a3ed": {
      "model_module": "@jupyter-widgets/output",
      "model_module_version": "1.0.0",
      "model_name": "OutputModel",
      "state": {
       "layout": "IPY_MODEL_59ec7ab72f6444e5a83523c37378191b",
       "outputs": [
        {
         "name": "stderr",
         "output_type": "stream",
         "text": "2021-03-03 14:55:42,225 DEBUG index generation: 1.3113021850585938e-05\n2021-03-03 14:55:42,311 DEBUG spatial data_copied: 0.002s\n2021-03-03 14:55:42,313 DEBUG spatial data_copied: 0.002s\n2021-03-03 14:55:42,316 DEBUG spatial data_copied: 0.002s\n2021-03-03 14:55:42,318 DEBUG spatial data_copied: 0.002s\n2021-03-03 14:55:42,321 DEBUG spatial data_copied: 0.002s\n2021-03-03 14:55:42,324 DEBUG spatial data_copied: 0.002s\n2021-03-03 14:55:42,327 DEBUG spatial data_copied: 0.003s\n2021-03-03 14:55:42,331 DEBUG spatial data_copied: 0.003s\n2021-03-03 14:55:42,334 DEBUG spatial data_copied: 0.003s\n2021-03-03 14:55:42,337 DEBUG spatial data_copied: 0.002s\n2021-03-03 14:55:42,339 DEBUG spatial data_copied: 0.002s\n2021-03-03 14:55:42,342 DEBUG spatial data_copied: 0.002s\n2021-03-03 14:55:42,346 DEBUG spatial data_copied: 0.004s\n2021-03-03 14:55:42,349 DEBUG spatial data_copied: 0.003s\n2021-03-03 14:55:42,353 DEBUG spatial data_copied: 0.003s\n2021-03-03 14:55:42,356 DEBUG spatial data_copied: 0.003s\n2021-03-03 14:55:42,359 DEBUG spatial data_copied: 0.002s\n2021-03-03 14:55:42,361 DEBUG spatial data_copied: 0.002s\n2021-03-03 14:55:42,364 DEBUG spatial data_copied: 0.002s\n2021-03-03 14:55:42,367 DEBUG spatial data_copied: 0.002s\n2021-03-03 14:55:42,370 DEBUG spatial data_copied: 0.003s\n2021-03-03 14:55:42,373 DEBUG spatial data_copied: 0.002s\n2021-03-03 14:55:42,377 DEBUG spatial data_copied: 0.004s\n2021-03-03 14:55:42,381 DEBUG spatial data_copied: 0.004s\n2021-03-03 14:55:42,385 DEBUG spatial data_copied: 0.003s\n2021-03-03 14:55:42,394 DEBUG onehot initialised:\n"
        },
        {
         "data": {
          "image/png": "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\n",
          "text/plain": "<Figure size 432x288 with 1 Axes>"
         },
         "metadata": {
          "needs_background": "light"
         },
         "output_type": "display_data"
        },
        {
         "name": "stderr",
         "output_type": "stream",
         "text": "2021-03-03 14:55:42,454 DEBUG temp augmentation with: 2\n2021-03-03 14:55:42,455 DEBUG onehot repeated 2:\n"
        },
        {
         "data": {
          "image/png": "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\n",
          "text/plain": "<Figure size 432x288 with 1 Axes>"
         },
         "metadata": {
          "needs_background": "light"
         },
         "output_type": "display_data"
        },
        {
         "name": "stderr",
         "output_type": "stream",
         "text": "2021-03-03 14:55:42,506 DEBUG onehot smoothed sigma=1:\n"
        },
        {
         "data": {
          "image/png": "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\n",
          "text/plain": "<Figure size 432x288 with 1 Axes>"
         },
         "metadata": {
          "needs_background": "light"
         },
         "output_type": "display_data"
        },
        {
         "name": "stderr",
         "output_type": "stream",
         "text": "2021-03-03 14:55:42,558 DEBUG onehot element-wise max and cropped to a length of 36:\n"
        },
        {
         "data": {
          "image/png": "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\n",
          "text/plain": "<Figure size 432x288 with 1 Axes>"
         },
         "metadata": {
          "needs_background": "light"
         },
         "output_type": "display_data"
        },
        {
         "name": "stderr",
         "output_type": "stream",
         "text": "2021-03-03 14:55:42,619 DEBUG onehot transposed:\n"
        },
        {
         "data": {
          "image/png": "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\n",
          "text/plain": "<Figure size 432x288 with 1 Axes>"
         },
         "metadata": {
          "needs_background": "light"
         },
         "output_type": "display_data"
        },
        {
         "name": "stderr",
         "output_type": "stream",
         "text": "2021-03-03 14:55:42,678 DEBUG raw:\n2021-03-03 14:55:42,678 DEBUG 0.453 s\n2021-03-03 14:55:42,678 INFO size: (256, 256, 20)\n2021-03-03 14:55:42,679 INFO spacing: (1.3671875, 1.3671874999999998, 6.0)\n2021-03-03 14:55:42,679 INFO origin: (82.8111315667629, -168.34771049022, 204.1706148386)\n2021-03-03 14:55:42,679 INFO direction: (0.5551726787414175, -0.3843604680385923, -0.7375976731174205, 0.7989722466805761, 0.0, 0.6013678982404969, -0.23114204683110184, -0.9231830970122635, 0.30709334668399185)\n2021-03-03 14:55:42,679 INFO pixel type: 32-bit float\n2021-03-03 14:55:42,680 INFO number of pixel components: 1\n2021-03-03 14:55:42,680 DEBUG plot image state failed: 'NoneType' object has no attribute 'GetSize'\n2021-03-03 14:55:42,681 DEBUG old size: [256 256  20], old spacing: [1.3671875 1.3671875 6.       ], target spacing: [3 3 8]\n2021-03-03 14:55:42,681 DEBUG old size: [256 256  20], old spacing: [1.3671875 1.3671875 6.       ], target spacing: [3 3 8]\n2021-03-03 14:55:42,682 DEBUG old size: [256 256  20], old spacing: [1.3671875 1.3671875 6.       ], target spacing: [3 3 8]\n2021-03-03 14:55:42,682 DEBUG old size: [256 256  20], old spacing: [1.3671875 1.3671875 6.       ], target spacing: [3 3 8]\n2021-03-03 14:55:42,683 DEBUG old size: [256 256  20], old spacing: [1.3671875 1.3671875 6.       ], target spacing: [3 3 8]\n2021-03-03 14:55:42,683 DEBUG old size: [256 256  20], old spacing: [1.3671875 1.3671875 6.       ], target spacing: [3 3 8]\n2021-03-03 14:55:42,684 DEBUG old size: [256 256  20], old spacing: [1.3671875 1.3671875 6.       ], target spacing: [3 3 8]\n2021-03-03 14:55:42,684 DEBUG old size: [256 256  20], old spacing: [1.3671875 1.3671875 6.       ], target spacing: [3 3 8]\n2021-03-03 14:55:42,685 DEBUG old size: [256 256  20], old spacing: [1.3671875 1.3671875 6.       ], target spacing: [3 3 8]\n2021-03-03 14:55:42,685 DEBUG old size: [256 256  20], old spacing: [1.3671875 1.3671875 6.       ], target spacing: [3 3 8]\n2021-03-03 14:55:42,686 DEBUG old size: [256 256  20], old spacing: [1.3671875 1.3671875 6.       ], target spacing: [3 3 8]\n2021-03-03 14:55:42,686 DEBUG old size: [256 256  20], old spacing: [1.3671875 1.3671875 6.       ], target spacing: [3 3 8]\n2021-03-03 14:55:42,687 DEBUG old size: [256 256  20], old spacing: [1.3671875 1.3671875 6.       ], target spacing: [3 3 8]\n2021-03-03 14:55:42,687 DEBUG old size: [256 256  20], old spacing: [1.3671875 1.3671875 6.       ], target spacing: [3 3 8]\n2021-03-03 14:55:42,688 DEBUG old size: [256 256  20], old spacing: [1.3671875 1.3671875 6.       ], target spacing: [3 3 8]\n2021-03-03 14:55:42,688 DEBUG old size: [256 256  20], old spacing: [1.3671875 1.3671875 6.       ], target spacing: [3 3 8]\n2021-03-03 14:55:42,689 DEBUG old size: [256 256  20], old spacing: [1.3671875 1.3671875 6.       ], target spacing: [3 3 8]\n2021-03-03 14:55:42,689 DEBUG old size: [256 256  20], old spacing: [1.3671875 1.3671875 6.       ], target spacing: [3 3 8]\n2021-03-03 14:55:42,690 DEBUG old size: [256 256  20], old spacing: [1.3671875 1.3671875 6.       ], target spacing: [3 3 8]\n2021-03-03 14:55:42,690 DEBUG old size: [256 256  20], old spacing: [1.3671875 1.3671875 6.       ], target spacing: [3 3 8]\n2021-03-03 14:55:42,691 DEBUG old size: [256 256  20], old spacing: [1.3671875 1.3671875 6.       ], target spacing: [3 3 8]\n2021-03-03 14:55:42,691 DEBUG old size: [256 256  20], old spacing: [1.3671875 1.3671875 6.       ], target spacing: [3 3 8]\n2021-03-03 14:55:42,692 DEBUG old size: [256 256  20], old spacing: [1.3671875 1.3671875 6.       ], target spacing: [3 3 8]\n2021-03-03 14:55:42,692 DEBUG old size: [256 256  20], old spacing: [1.3671875 1.3671875 6.       ], target spacing: [3 3 8]\n2021-03-03 14:55:42,693 DEBUG old size: [256 256  20], old spacing: [1.3671875 1.3671875 6.       ], target spacing: [3 3 8]\n2021-03-03 14:55:42,693 DEBUG dimension: 3\n2021-03-03 14:55:42,693 DEBUG Size before resample: (256, 256, 20)\n2021-03-03 14:55:42,713 DEBUG Spacing after resample: (3.0, 3.0, 8.0)\n2021-03-03 14:55:42,714 DEBUG Size after resample: (117, 117, 15)\n2021-03-03 14:55:42,720 DEBUG resampled:\n2021-03-03 14:55:42,720 DEBUG 0.040 s\n2021-03-03 14:55:42,721 INFO size: (117, 117, 15)\n2021-03-03 14:55:42,721 INFO spacing: (1.0, 1.0, 1.0)\n2021-03-03 14:55:42,721 INFO origin: (0.0, 0.0, 0.0)\n2021-03-03 14:55:42,721 INFO direction: (1.0, 0.0, 0.0, 0.0, 1.0, 0.0, 0.0, 0.0, 1.0)\n2021-03-03 14:55:42,722 INFO pixel type: 32-bit float\n2021-03-03 14:55:42,722 INFO number of pixel components: 1\n2021-03-03 14:55:42,722 DEBUG plot image state failed: 'NoneType' object has no attribute 'GetSize'\n2021-03-03 14:55:42,755 DEBUG {'__class_fullname__': 'albumentations.core.composition.ReplayCompose', 'params': None, 'transforms': [{'__class_fullname__': 'albumentations.augmentations.transforms.ShiftScaleRotate', 'always_apply': False, 'p': 0.8, 'shift_limit_x': (-0.025, 0.025), 'shift_limit_y': (-0.025, 0.025), 'scale_limit': (0.0, 0.0), 'rotate_limit': (-45, 45), 'interpolation': 1, 'border_mode': 1, 'value': 0, 'mask_value': None, 'params': {'angle': -22.95973315768714, 'scale': 1.0, 'dx': -0.019875241191424628, 'dy': 0.012033387233383791}, 'applied': True}], 'applied': True}\n2021-03-03 14:55:42,765 DEBUG augmented:\n2021-03-03 14:55:42,766 DEBUG 0.085 s\n2021-03-03 14:55:42,766 INFO size: (117, 117, 15)\n2021-03-03 14:55:42,767 INFO spacing: (1.0, 1.0, 1.0)\n2021-03-03 14:55:42,767 INFO origin: (0.0, 0.0, 0.0)\n2021-03-03 14:55:42,767 INFO direction: (1.0, 0.0, 0.0, 0.0, 1.0, 0.0, 0.0, 0.0, 1.0)\n2021-03-03 14:55:42,768 INFO pixel type: 32-bit float\n2021-03-03 14:55:42,768 INFO number of pixel components: 1\n2021-03-03 14:55:42,768 DEBUG plot image state failed: 'NoneType' object has no attribute 'GetSize'\n2021-03-03 14:55:42,794 DEBUG input shape, crop_and_pad: (36, 15, 117, 117)\n2021-03-03 14:55:42,794 DEBUG target shape, crop_and_pad: [36  8 64 64]\n2021-03-03 14:55:42,796 DEBUG input shape, crop_and_pad: (36, 5)\n2021-03-03 14:55:42,796 DEBUG target shape, crop_and_pad: [36  5]\n2021-03-03 14:55:42,796 DEBUG onehot pap and cropped:\n"
        },
        {
         "data": {
          "image/png": "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\n",
          "text/plain": "<Figure size 432x288 with 1 Axes>"
         },
         "metadata": {
          "needs_background": "light"
         },
         "output_type": "display_data"
        },
        {
         "name": "stderr",
         "output_type": "stream",
         "text": "2021-03-03 14:55:42,856 DEBUG input shape, crop_and_pad: (36, 5)\n2021-03-03 14:55:42,856 DEBUG target shape, crop_and_pad: [36  5]\n2021-03-03 14:55:42,861 DEBUG clipped cropped and pad:\n2021-03-03 14:55:42,861 DEBUG 0.093 s\n2021-03-03 14:55:42,862 INFO size: (64, 64, 8)\n2021-03-03 14:55:42,862 INFO spacing: (1.0, 1.0, 1.0)\n2021-03-03 14:55:42,862 INFO origin: (0.0, 0.0, 0.0)\n2021-03-03 14:55:42,863 INFO direction: (1.0, 0.0, 0.0, 0.0, 1.0, 0.0, 0.0, 0.0, 1.0)\n2021-03-03 14:55:42,863 INFO pixel type: 32-bit float\n2021-03-03 14:55:42,863 INFO number of pixel components: 1\n2021-03-03 14:55:42,863 DEBUG plot image state failed: 'NoneType' object has no attribute 'GetSize'\n2021-03-03 14:55:42,867 DEBUG img finished after 0.639 sec.\n2021-03-03 14:55:42,867 DEBUG Batchsize: 1 preprocessing took: 0.642 sec\n2021-03-03 14:55:42,867 INFO Preprocessing took: 0.642\n"
        },
        {
         "name": "stdout",
         "output_type": "stream",
         "text": "(1, 36, 8, 64, 64, 1) (1, 2, 36, 5)\nselected batch : 104\n"
        },
        {
         "data": {
          "image/png": "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\n",
          "text/plain": "<Figure size 144x360 with 1 Axes>"
         },
         "metadata": {
          "needs_background": "light"
         },
         "output_type": "display_data"
        },
        {
         "name": "stderr",
         "output_type": "stream",
         "text": "2021-03-03 14:55:42,940 INFO GT length: 5\n2021-03-03 14:55:42,942 DEBUG pad: \n[[5.3991127e-01 5.8422989e-01 0.0000000e+00 0.0000000e+00 0.0000000e+00]\n [4.4318616e-02 2.4210527e+00 0.0000000e+00 0.0000000e+00 0.0000000e+00]\n [1.3383062e-03 3.9894347e+00 0.0000000e+00 0.0000000e+00 0.0000000e+00]\n [0.0000000e+00 2.4197145e+00 0.0000000e+00 0.0000000e+00 0.0000000e+00]\n [0.0000000e+00 5.3991127e-01 1.3383062e-03 0.0000000e+00 0.0000000e+00]\n [0.0000000e+00 4.4318616e-02 4.4318616e-02 0.0000000e+00 0.0000000e+00]\n [0.0000000e+00 1.3383062e-03 5.3991127e-01 0.0000000e+00 0.0000000e+00]\n [0.0000000e+00 0.0000000e+00 2.4197145e+00 1.3383062e-03 0.0000000e+00]\n [0.0000000e+00 0.0000000e+00 3.9894347e+00 4.4318616e-02 0.0000000e+00]\n [0.0000000e+00 0.0000000e+00 2.4197145e+00 5.3991127e-01 0.0000000e+00]\n [0.0000000e+00 0.0000000e+00 5.3991127e-01 2.4197145e+00 0.0000000e+00]\n [0.0000000e+00 0.0000000e+00 4.4318616e-02 3.9894347e+00 1.3383062e-03]\n [0.0000000e+00 0.0000000e+00 1.3383062e-03 2.4197145e+00 4.4318616e-02]\n [0.0000000e+00 0.0000000e+00 0.0000000e+00 5.3991127e-01 5.3991127e-01]\n [0.0000000e+00 0.0000000e+00 0.0000000e+00 4.4318616e-02 2.4197145e+00]\n [0.0000000e+00 0.0000000e+00 0.0000000e+00 1.3383062e-03 3.9894347e+00]\n [0.0000000e+00 0.0000000e+00 0.0000000e+00 0.0000000e+00 2.4197145e+00]\n [0.0000000e+00 0.0000000e+00 0.0000000e+00 0.0000000e+00 5.3991127e-01]\n [0.0000000e+00 0.0000000e+00 0.0000000e+00 0.0000000e+00 4.4318616e-02]\n [1.3383062e-03 0.0000000e+00 0.0000000e+00 0.0000000e+00 1.3383062e-03]\n [4.4318616e-02 0.0000000e+00 0.0000000e+00 0.0000000e+00 0.0000000e+00]\n [5.3991127e-01 0.0000000e+00 0.0000000e+00 0.0000000e+00 0.0000000e+00]\n [2.4197145e+00 0.0000000e+00 0.0000000e+00 0.0000000e+00 0.0000000e+00]\n [3.9894347e+00 1.3383062e-03 0.0000000e+00 0.0000000e+00 0.0000000e+00]\n [2.4197145e+00 4.4318616e-02 0.0000000e+00 0.0000000e+00 0.0000000e+00]\n [1.0000000e+00 1.0000000e+00 1.0000000e+00 1.0000000e+00 1.0000000e+00]\n [4.4318616e-02 2.4197145e+00 0.0000000e+00 0.0000000e+00 0.0000000e+00]\n [1.3383062e-03 3.9894347e+00 0.0000000e+00 0.0000000e+00 0.0000000e+00]\n [0.0000000e+00 2.4197145e+00 0.0000000e+00 0.0000000e+00 0.0000000e+00]\n [0.0000000e+00 5.3991127e-01 1.3383062e-03 0.0000000e+00 0.0000000e+00]\n [0.0000000e+00 4.4318616e-02 4.4318616e-02 0.0000000e+00 0.0000000e+00]\n [0.0000000e+00 1.3383062e-03 5.3991127e-01 0.0000000e+00 0.0000000e+00]\n [0.0000000e+00 0.0000000e+00 2.4197145e+00 1.3383062e-03 0.0000000e+00]\n [0.0000000e+00 0.0000000e+00 3.9894347e+00 4.4318616e-02 0.0000000e+00]\n [0.0000000e+00 0.0000000e+00 2.4197145e+00 5.3991127e-01 0.0000000e+00]\n [0.0000000e+00 0.0000000e+00 5.3991127e-01 2.4197145e+00 0.0000000e+00]]\n"
        }
       ]
      }
     },
     "3b2f757aac564665b76ad2207be654f8": {
      "model_module": "@jupyter-widgets/controls",
      "model_module_version": "1.5.0",
      "model_name": "TextModel",
      "state": {
       "description": "filename",
       "layout": "IPY_MODEL_db632d530f364d5eaa50446f52abf55a",
       "style": "IPY_MODEL_775299b28c1c40bbb724085a85ef8fdc",
       "value": "temp_x.npy"
      }
     },
     "3c7815d4dcee46bb95a61b4338139bb4": {
      "model_module": "@jupyter-widgets/base",
      "model_module_version": "1.2.0",
      "model_name": "LayoutModel",
      "state": {}
     },
     "3f08c86f8ac248599d218954fe5d2e99": {
      "model_module": "@jupyter-widgets/base",
      "model_module_version": "1.2.0",
      "model_name": "LayoutModel",
      "state": {}
     },
     "40fe93567f284938a7bc3d2f2dacbf7b": {
      "model_module": "@jupyter-widgets/base",
      "model_module_version": "1.2.0",
      "model_name": "LayoutModel",
      "state": {}
     },
     "41c74817b6f74863af72bf6a94670c56": {
      "model_module": "@jupyter-widgets/controls",
      "model_module_version": "1.5.0",
      "model_name": "DescriptionStyleModel",
      "state": {
       "description_width": ""
      }
     },
     "4242425754b9494da41063f299f13d98": {
      "model_module": "@jupyter-widgets/controls",
      "model_module_version": "1.5.0",
      "model_name": "SliderStyleModel",
      "state": {
       "description_width": ""
      }
     },
     "4290edad033a4307b03b3b208bad7080": {
      "model_module": "@jupyter-widgets/controls",
      "model_module_version": "1.5.0",
      "model_name": "DescriptionStyleModel",
      "state": {
       "description_width": ""
      }
     },
     "454069cbb5a74906a961a0a90f29cd80": {
      "model_module": "@jupyter-widgets/base",
      "model_module_version": "1.2.0",
      "model_name": "LayoutModel",
      "state": {}
     },
     "458bf161b3a14697aad32cc63de88d1a": {
      "model_module": "@jupyter-widgets/base",
      "model_module_version": "1.2.0",
      "model_name": "LayoutModel",
      "state": {}
     },
     "45bef116f64045f0a054e398d077b669": {
      "model_module": "@jupyter-widgets/base",
      "model_module_version": "1.2.0",
      "model_name": "LayoutModel",
      "state": {}
     },
     "45d8532b23d241998d3fa8bcfd07d03a": {
      "model_module": "@jupyter-widgets/controls",
      "model_module_version": "1.5.0",
      "model_name": "SliderStyleModel",
      "state": {
       "description_width": ""
      }
     },
     "460f794e01ce41f5bc50ce45ddb85733": {
      "model_module": "@jupyter-widgets/controls",
      "model_module_version": "1.5.0",
      "model_name": "DescriptionStyleModel",
      "state": {
       "description_width": ""
      }
     },
     "46158ad200064f11aeb19d8fc6ed64f7": {
      "model_module": "@jupyter-widgets/controls",
      "model_module_version": "1.5.0",
      "model_name": "CheckboxModel",
      "state": {
       "description": "save",
       "disabled": false,
       "layout": "IPY_MODEL_f63433e3438240d28ec20cb2927870cf",
       "style": "IPY_MODEL_dea97f3f3c63414b9573707a0900be3d",
       "value": false
      }
     },
     "46f529b1f8074ccbbcb88f63b341a0b5": {
      "model_module": "@jupyter-widgets/base",
      "model_module_version": "1.2.0",
      "model_name": "LayoutModel",
      "state": {}
     },
     "47d457768be046b2a088c8c224f7b6e1": {
      "model_module": "@jupyter-widgets/base",
      "model_module_version": "1.2.0",
      "model_name": "LayoutModel",
      "state": {}
     },
     "47d93712f3e4476a989b8170cea1f485": {
      "model_module": "@jupyter-widgets/controls",
      "model_module_version": "1.5.0",
      "model_name": "VBoxModel",
      "state": {
       "_dom_classes": [
        "widget-interact"
       ],
       "children": [
        "IPY_MODEL_35628928130b493fa57eb3569dc757fd",
        "IPY_MODEL_cf47dd3806a746b291ec936a89d0f553",
        "IPY_MODEL_56f2841566c64459867311e899142d72",
        "IPY_MODEL_1f5f9a63aa9d4107b55ed5b0f3548ffa",
        "IPY_MODEL_59b015d5d69e485dabe999fac743ac29",
        "IPY_MODEL_af83bc2da58c474482a8e05454109777",
        "IPY_MODEL_524e61f4d79c47e883188f9cb9aee974",
        "IPY_MODEL_37bf1fd719f14de7b5cc4c273669b536",
        "IPY_MODEL_7c44e0576d7e4b6faebad0a456ea23db",
        "IPY_MODEL_bc5aab03bec84fecbd8f52cc7a24fb89"
       ],
       "layout": "IPY_MODEL_e66abf78be1b4ccca68b74f6f21ba06e"
      }
     },
     "48ec09f909de4d86934a9bb8b3a480b0": {
      "model_module": "@jupyter-widgets/base",
      "model_module_version": "1.2.0",
      "model_name": "LayoutModel",
      "state": {}
     },
     "49165275d6744ad589bc81bb56a7fe9e": {
      "model_module": "@jupyter-widgets/controls",
      "model_module_version": "1.5.0",
      "model_name": "IntSliderModel",
      "state": {
       "description": "im",
       "layout": "IPY_MODEL_45bef116f64045f0a054e398d077b669",
       "max": 0,
       "style": "IPY_MODEL_2aa22bbcf60b446f92c14b28752c8de7"
      }
     },
     "49d6285f3efd41da8a430ffcf7a454e2": {
      "model_module": "@jupyter-widgets/base",
      "model_module_version": "1.2.0",
      "model_name": "LayoutModel",
      "state": {}
     },
     "4c11bf9d69a94da0a73d97d750e05557": {
      "model_module": "@jupyter-widgets/controls",
      "model_module_version": "1.5.0",
      "model_name": "ButtonModel",
      "state": {
       "description": "Run Interact",
       "layout": "IPY_MODEL_c6e01296de6040748f08cba825ff266b",
       "style": "IPY_MODEL_977c6458a9eb4b0bb81cbfd37d6807c3"
      }
     },
     "4d47e020ed314803aa964d53b14f9162": {
      "model_module": "@jupyter-widgets/controls",
      "model_module_version": "1.5.0",
      "model_name": "CheckboxModel",
      "state": {
       "description": "show_input_vol",
       "disabled": false,
       "layout": "IPY_MODEL_91f17670288f40ffb720bcde0ba0d815",
       "style": "IPY_MODEL_9ecbeedeafe040beb9abb1f8db0813d5",
       "value": false
      }
     },
     "4d5b6632f35849fdac4fed41025d8a26": {
      "model_module": "@jupyter-widgets/controls",
      "model_module_version": "1.5.0",
      "model_name": "ButtonStyleModel",
      "state": {}
     },
     "4d91ac7b28614f0c807024990606033b": {
      "model_module": "@jupyter-widgets/base",
      "model_module_version": "1.2.0",
      "model_name": "LayoutModel",
      "state": {}
     },
     "4da4588226fb4478b61efe293d2798fa": {
      "model_module": "@jupyter-widgets/controls",
      "model_module_version": "1.5.0",
      "model_name": "DescriptionStyleModel",
      "state": {
       "description_width": ""
      }
     },
     "4e92070d537544d797875961e2dd6c9f": {
      "model_module": "@jupyter-widgets/base",
      "model_module_version": "1.2.0",
      "model_name": "LayoutModel",
      "state": {}
     },
     "4f4441968bf04d6ca7b1873363f14274": {
      "model_module": "@jupyter-widgets/controls",
      "model_module_version": "1.5.0",
      "model_name": "TextModel",
      "state": {
       "description": "filename",
       "layout": "IPY_MODEL_d9919673a2d0451cb45a9c866eefc9b0",
       "style": "IPY_MODEL_fba05ff143214f31934cfca0de122a8f",
       "value": "temp_x.npy"
      }
     },
     "501441aec89445b6919f6978344896c4": {
      "model_module": "@jupyter-widgets/base",
      "model_module_version": "1.2.0",
      "model_name": "LayoutModel",
      "state": {}
     },
     "510ac01e81e14fc29f89747355ad428f": {
      "model_module": "@jupyter-widgets/base",
      "model_module_version": "1.2.0",
      "model_name": "LayoutModel",
      "state": {}
     },
     "51ec8bb0cc3d47c99b27a7d92967370f": {
      "model_module": "@jupyter-widgets/controls",
      "model_module_version": "1.5.0",
      "model_name": "SliderStyleModel",
      "state": {
       "description_width": ""
      }
     },
     "524e61f4d79c47e883188f9cb9aee974": {
      "model_module": "@jupyter-widgets/controls",
      "model_module_version": "1.5.0",
      "model_name": "CheckboxModel",
      "state": {
       "description": "show_overview",
       "disabled": false,
       "layout": "IPY_MODEL_b880aa13fcd14e809e717813b7f27b0f",
       "style": "IPY_MODEL_4da4588226fb4478b61efe293d2798fa",
       "value": true
      }
     },
     "545d841b79594b7f9956aa6cac4e3f87": {
      "model_module": "@jupyter-widgets/controls",
      "model_module_version": "1.5.0",
      "model_name": "SliderStyleModel",
      "state": {
       "description_width": ""
      }
     },
     "56f2841566c64459867311e899142d72": {
      "model_module": "@jupyter-widgets/controls",
      "model_module_version": "1.5.0",
      "model_name": "IntSliderModel",
      "state": {
       "description": "slice_n",
       "layout": "IPY_MODEL_8d55d3bc242a4195b42fb9d05352f8ff",
       "max": 11,
       "min": 1,
       "style": "IPY_MODEL_831487d303934922a071af1aa71aadbc",
       "value": 6
      }
     },
     "56f7388f08f84f98bb32e557a795ef2e": {
      "model_module": "@jupyter-widgets/controls",
      "model_module_version": "1.5.0",
      "model_name": "CheckboxModel",
      "state": {
       "description": "show_input_vol",
       "disabled": false,
       "layout": "IPY_MODEL_74ddf09ce1094fe3aae1990d45eac833",
       "style": "IPY_MODEL_fe6ed19dd5f54637a0fbcfb15b1d9f55",
       "value": false
      }
     },
     "59b015d5d69e485dabe999fac743ac29": {
      "model_module": "@jupyter-widgets/controls",
      "model_module_version": "1.5.0",
      "model_name": "TextModel",
      "state": {
       "description": "filepath",
       "layout": "IPY_MODEL_99524ba10ea74336b21f02e0c6c618db",
       "style": "IPY_MODEL_4290edad033a4307b03b3b208bad7080",
       "value": "data/temp/"
      }
     },
     "59b016b7ab994efd8e8643580820e33d": {
      "model_module": "@jupyter-widgets/controls",
      "model_module_version": "1.5.0",
      "model_name": "DescriptionStyleModel",
      "state": {
       "description_width": ""
      }
     },
     "59ec7ab72f6444e5a83523c37378191b": {
      "model_module": "@jupyter-widgets/base",
      "model_module_version": "1.2.0",
      "model_name": "LayoutModel",
      "state": {}
     },
     "5a2e29766b2145a3b195cbb012e93e13": {
      "model_module": "@jupyter-widgets/controls",
      "model_module_version": "1.5.0",
      "model_name": "SliderStyleModel",
      "state": {
       "description_width": ""
      }
     },
     "5a5ccbb172fa48ca9f56175e9bee4061": {
      "model_module": "@jupyter-widgets/controls",
      "model_module_version": "1.5.0",
      "model_name": "IntSliderModel",
      "state": {
       "description": "batch",
       "layout": "IPY_MODEL_ea7ac32d205a4dcf9722eb5bbd3cd8d0",
       "max": 209,
       "style": "IPY_MODEL_7f9ee88abb7f455da4893e03248a32e8",
       "value": 104
      }
     },
     "5b9f9539572641ee86aa04f3bfe74dd6": {
      "model_module": "@jupyter-widgets/base",
      "model_module_version": "1.2.0",
      "model_name": "LayoutModel",
      "state": {}
     },
     "5d56e72b386c4e36b061e8d94569039e": {
      "model_module": "@jupyter-widgets/base",
      "model_module_version": "1.2.0",
      "model_name": "LayoutModel",
      "state": {}
     },
     "5e349ec14267454ab7f841a1e181d446": {
      "model_module": "@jupyter-widgets/base",
      "model_module_version": "1.2.0",
      "model_name": "LayoutModel",
      "state": {}
     },
     "5f1714c8c194429396a697c2bf08ee34": {
      "model_module": "@jupyter-widgets/controls",
      "model_module_version": "1.5.0",
      "model_name": "DescriptionStyleModel",
      "state": {
       "description_width": ""
      }
     },
     "5f3b1481d3c3491589a125b847cc3bb2": {
      "model_module": "@jupyter-widgets/base",
      "model_module_version": "1.2.0",
      "model_name": "LayoutModel",
      "state": {}
     },
     "5fa74504e5fc4e77939bbe2824873a2c": {
      "model_module": "@jupyter-widgets/controls",
      "model_module_version": "1.5.0",
      "model_name": "IntSliderModel",
      "state": {
       "description": "im",
       "layout": "IPY_MODEL_47d457768be046b2a088c8c224f7b6e1",
       "max": 0,
       "style": "IPY_MODEL_2f8af47182984fbbbe2604550801abc6"
      }
     },
     "60a0fd2c581147b3904d6381010911a1": {
      "model_module": "@jupyter-widgets/base",
      "model_module_version": "1.2.0",
      "model_name": "LayoutModel",
      "state": {}
     },
     "60a9fb54367140f483da94371f91167a": {
      "model_module": "@jupyter-widgets/controls",
      "model_module_version": "1.5.0",
      "model_name": "DescriptionStyleModel",
      "state": {
       "description_width": ""
      }
     },
     "622826293710486b8023cf927ac9e1ce": {
      "model_module": "@jupyter-widgets/base",
      "model_module_version": "1.2.0",
      "model_name": "LayoutModel",
      "state": {}
     },
     "6251c3d0114d45e88ffc96f0cfcfb167": {
      "model_module": "@jupyter-widgets/controls",
      "model_module_version": "1.5.0",
      "model_name": "IntSliderModel",
      "state": {
       "description": "batch",
       "layout": "IPY_MODEL_f538f1e8939a4f9ba603bf10d669572e",
       "max": 209,
       "style": "IPY_MODEL_efa699b9fbcb423e8a98bb05802f0755",
       "value": 104
      }
     },
     "62986d8c2aa14a9c953ef9037ea2a570": {
      "model_module": "@jupyter-widgets/controls",
      "model_module_version": "1.5.0",
      "model_name": "IntSliderModel",
      "state": {
       "description": "slice_n",
       "layout": "IPY_MODEL_a18c0f0fa7fc406380d09862c41514ef",
       "max": 11,
       "min": 1,
       "style": "IPY_MODEL_1c2cca700e944158ae4b699bce1d1eda",
       "value": 6
      }
     },
     "644c32ee257547a1961c812a8e57f11c": {
      "model_module": "@jupyter-widgets/controls",
      "model_module_version": "1.5.0",
      "model_name": "VBoxModel",
      "state": {
       "_dom_classes": [
        "widget-interact"
       ],
       "children": [
        "IPY_MODEL_fffa7d5f6d0349a7a882e20fb4e323e1",
        "IPY_MODEL_e13df0fc08fa44e6b44915edf812e67c",
        "IPY_MODEL_62986d8c2aa14a9c953ef9037ea2a570",
        "IPY_MODEL_1c0cfad6199a4be78dd53a9940d516a1",
        "IPY_MODEL_089d42518a88446bbcf1cfb3a0454cb4",
        "IPY_MODEL_cc98eed96ee24082a812d7c00a849db7",
        "IPY_MODEL_07a9a5142b884a348d7bfebd25a8eae7",
        "IPY_MODEL_4d47e020ed314803aa964d53b14f9162",
        "IPY_MODEL_fa08c90a59f14661854032db52b582aa",
        "IPY_MODEL_20ca7445fdaa4d64b1fe7ab50f7943a1"
       ],
       "layout": "IPY_MODEL_00e6212b1cc843779318792dfa0d7621"
      }
     },
     "645894fd706b478dbd051d58ac720cca": {
      "model_module": "@jupyter-widgets/base",
      "model_module_version": "1.2.0",
      "model_name": "LayoutModel",
      "state": {}
     },
     "64b054082a9f405b872614f850b65762": {
      "model_module": "@jupyter-widgets/controls",
      "model_module_version": "1.5.0",
      "model_name": "SliderStyleModel",
      "state": {
       "description_width": ""
      }
     },
     "652a1ef7810a4de58ad41c86d387448b": {
      "model_module": "@jupyter-widgets/controls",
      "model_module_version": "1.5.0",
      "model_name": "SliderStyleModel",
      "state": {
       "description_width": ""
      }
     },
     "65bc136d96954f83b0397d57b12ddb5c": {
      "model_module": "@jupyter-widgets/controls",
      "model_module_version": "1.5.0",
      "model_name": "CheckboxModel",
      "state": {
       "description": "show_input_vol",
       "disabled": false,
       "layout": "IPY_MODEL_f5c0c8ccbdbb4967a708d8f6684b1e95",
       "style": "IPY_MODEL_60a9fb54367140f483da94371f91167a",
       "value": false
      }
     },
     "662fd5fc0b704fa79fcd7804eb6b9331": {
      "model_module": "@jupyter-widgets/controls",
      "model_module_version": "1.5.0",
      "model_name": "ButtonStyleModel",
      "state": {}
     },
     "671c3979019a40729aff9fccad1701ec": {
      "model_module": "@jupyter-widgets/controls",
      "model_module_version": "1.5.0",
      "model_name": "VBoxModel",
      "state": {
       "_dom_classes": [
        "widget-interact"
       ],
       "children": [
        "IPY_MODEL_35ba26ef3bac46e2aa927b7cabe80e38",
        "IPY_MODEL_5fa74504e5fc4e77939bbe2824873a2c",
        "IPY_MODEL_86bb05ab939c43daa64e19eeae8a85d6",
        "IPY_MODEL_46158ad200064f11aeb19d8fc6ed64f7",
        "IPY_MODEL_30cbefd15ce64fff98c2d4e699e80023",
        "IPY_MODEL_cd913ad55f46486d9e057a7831086fad",
        "IPY_MODEL_37f0b566c9104629af556fbdba46fa69",
        "IPY_MODEL_65bc136d96954f83b0397d57b12ddb5c",
        "IPY_MODEL_b855b6d57327436c860e1d7eebcd2701",
        "IPY_MODEL_6d627b49e18f44e7981223c67f88c66f"
       ],
       "layout": "IPY_MODEL_454069cbb5a74906a961a0a90f29cd80"
      }
     },
     "67c1b9ebd03f47c48e429f42aabcc950": {
      "model_module": "@jupyter-widgets/controls",
      "model_module_version": "1.5.0",
      "model_name": "DescriptionStyleModel",
      "state": {
       "description_width": ""
      }
     },
     "6a51405ad3f8402bbf65e8cafeac636a": {
      "model_module": "@jupyter-widgets/controls",
      "model_module_version": "1.5.0",
      "model_name": "TextModel",
      "state": {
       "description": "filepath",
       "layout": "IPY_MODEL_2460585b51564233bc7280fcb9b0112f",
       "style": "IPY_MODEL_9eadbad8bc2c453ba1987f4d0a91d146",
       "value": "data/temp/"
      }
     },
     "6d0e5f24a0204ec49df5a1ce4367b507": {
      "model_module": "@jupyter-widgets/base",
      "model_module_version": "1.2.0",
      "model_name": "LayoutModel",
      "state": {}
     },
     "6d627b49e18f44e7981223c67f88c66f": {
      "model_module": "@jupyter-widgets/output",
      "model_module_version": "1.0.0",
      "model_name": "OutputModel",
      "state": {
       "layout": "IPY_MODEL_07719aeb97344acfad99c343f7b6e670",
       "outputs": [
        {
         "name": "stderr",
         "output_type": "stream",
         "text": "2021-03-03 14:54:28,911 DEBUG index generation: 2.5033950805664062e-05\n2021-03-03 14:54:28,944 DEBUG Metadata_copied: 0.001s\n2021-03-03 14:54:28,945 DEBUG spatial data_copied: 0.001s\n2021-03-03 14:54:28,946 DEBUG Metadata_copied: 0.001s\n2021-03-03 14:54:28,947 DEBUG spatial data_copied: 0.001s\n2021-03-03 14:54:28,948 DEBUG Metadata_copied: 0.001s\n2021-03-03 14:54:28,948 DEBUG spatial data_copied: 0.001s\n2021-03-03 14:54:28,950 DEBUG Metadata_copied: 0.001s\n2021-03-03 14:54:28,950 DEBUG spatial data_copied: 0.001s\n2021-03-03 14:54:28,951 DEBUG Metadata_copied: 0.001s\n2021-03-03 14:54:28,951 DEBUG spatial data_copied: 0.001s\n2021-03-03 14:54:28,953 DEBUG Metadata_copied: 0.001s\n2021-03-03 14:54:28,953 DEBUG spatial data_copied: 0.001s\n2021-03-03 14:54:28,954 DEBUG Metadata_copied: 0.001s\n2021-03-03 14:54:28,955 DEBUG spatial data_copied: 0.001s\n2021-03-03 14:54:28,956 DEBUG Metadata_copied: 0.001s\n2021-03-03 14:54:28,956 DEBUG spatial data_copied: 0.001s\n2021-03-03 14:54:28,957 DEBUG Metadata_copied: 0.001s\n2021-03-03 14:54:28,958 DEBUG spatial data_copied: 0.001s\n2021-03-03 14:54:28,959 DEBUG Metadata_copied: 0.001s\n2021-03-03 14:54:28,960 DEBUG spatial data_copied: 0.002s\n2021-03-03 14:54:28,963 DEBUG Metadata_copied: 0.002s\n2021-03-03 14:54:28,964 DEBUG spatial data_copied: 0.003s\n2021-03-03 14:54:28,965 DEBUG Metadata_copied: 0.001s\n2021-03-03 14:54:28,966 DEBUG spatial data_copied: 0.002s\n2021-03-03 14:54:28,967 DEBUG Metadata_copied: 0.001s\n2021-03-03 14:54:28,968 DEBUG spatial data_copied: 0.002s\n2021-03-03 14:54:28,969 DEBUG Metadata_copied: 0.001s\n2021-03-03 14:54:28,970 DEBUG spatial data_copied: 0.002s\n2021-03-03 14:54:28,971 DEBUG Metadata_copied: 0.001s\n2021-03-03 14:54:28,972 DEBUG spatial data_copied: 0.001s\n2021-03-03 14:54:28,973 DEBUG Metadata_copied: 0.001s\n2021-03-03 14:54:28,973 DEBUG spatial data_copied: 0.001s\n2021-03-03 14:54:28,977 DEBUG onehot initialised:\n"
        },
        {
         "data": {
          "image/png": "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\n",
          "text/plain": "<Figure size 432x288 with 1 Axes>"
         },
         "metadata": {
          "needs_background": "light"
         },
         "output_type": "display_data"
        },
        {
         "name": "stderr",
         "output_type": "stream",
         "text": "2021-03-03 14:54:29,050 DEBUG temp augmentation with: 2\n2021-03-03 14:54:29,051 DEBUG onehot repeated 3:\n"
        },
        {
         "data": {
          "image/png": "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\n",
          "text/plain": "<Figure size 432x288 with 1 Axes>"
         },
         "metadata": {
          "needs_background": "light"
         },
         "output_type": "display_data"
        },
        {
         "name": "stderr",
         "output_type": "stream",
         "text": "2021-03-03 14:54:29,109 DEBUG onehot smoothed sigma=1:\n"
        },
        {
         "data": {
          "image/png": "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\n",
          "text/plain": "<Figure size 432x288 with 1 Axes>"
         },
         "metadata": {
          "needs_background": "light"
         },
         "output_type": "display_data"
        },
        {
         "name": "stderr",
         "output_type": "stream",
         "text": "2021-03-03 14:54:29,168 DEBUG onehot element-wise max and cropped to a length of 36:\n"
        },
        {
         "data": {
          "image/png": "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\n",
          "text/plain": "<Figure size 432x288 with 1 Axes>"
         },
         "metadata": {
          "needs_background": "light"
         },
         "output_type": "display_data"
        },
        {
         "name": "stderr",
         "output_type": "stream",
         "text": "2021-03-03 14:54:29,236 DEBUG onehot transposed:\n"
        },
        {
         "data": {
          "image/png": "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\n",
          "text/plain": "<Figure size 432x288 with 1 Axes>"
         },
         "metadata": {
          "needs_background": "light"
         },
         "output_type": "display_data"
        },
        {
         "name": "stderr",
         "output_type": "stream",
         "text": "2021-03-03 14:54:29,296 DEBUG raw:\n2021-03-03 14:54:29,296 DEBUG 0.383 s\n2021-03-03 14:54:29,296 INFO size: (256, 256, 12)\n2021-03-03 14:54:29,297 INFO spacing: (1.3671875, 1.3671875, 8.80000019073486)\n2021-03-03 14:54:29,297 INFO origin: (102.564449995756, -177.59530979394, 192.883827471174)\n2021-03-03 14:54:29,297 INFO direction: (0.08821632099699149, -0.11816625220220753, -0.9890675495385742, 0.9960460221007477, 1.734723475976807e-18, 0.08883874074567355, -0.010497741044279793, -0.9929938251774197, 0.11769902545256256)\n2021-03-03 14:54:29,298 INFO pixel type: 32-bit float\n2021-03-03 14:54:29,298 INFO number of pixel components: 1\n2021-03-03 14:54:29,298 DEBUG plot image state failed: 'NoneType' object has no attribute 'GetSize'\n2021-03-03 14:54:29,299 DEBUG old size: [256 256  12], old spacing: [1.3671875  1.3671875  8.80000019], target spacing: [3 3 8]\n2021-03-03 14:54:29,299 DEBUG old size: [256 256  12], old spacing: [1.3671875  1.3671875  8.80000019], target spacing: [3 3 8]\n2021-03-03 14:54:29,300 DEBUG old size: [256 256  12], old spacing: [1.3671875  1.3671875  8.80000019], target spacing: [3 3 8]\n2021-03-03 14:54:29,300 DEBUG old size: [256 256  12], old spacing: [1.3671875  1.3671875  8.80000019], target spacing: [3 3 8]\n2021-03-03 14:54:29,301 DEBUG old size: [256 256  12], old spacing: [1.3671875  1.3671875  8.80000019], target spacing: [3 3 8]\n2021-03-03 14:54:29,301 DEBUG old size: [256 256  12], old spacing: [1.3671875  1.3671875  8.80000019], target spacing: [3 3 8]\n2021-03-03 14:54:29,301 DEBUG old size: [256 256  12], old spacing: [1.3671875  1.3671875  8.80000019], target spacing: [3 3 8]\n2021-03-03 14:54:29,302 DEBUG old size: [256 256  12], old spacing: [1.3671875  1.3671875  8.80000019], target spacing: [3 3 8]\n2021-03-03 14:54:29,302 DEBUG old size: [256 256  12], old spacing: [1.3671875  1.3671875  8.80000019], target spacing: [3 3 8]\n2021-03-03 14:54:29,303 DEBUG old size: [256 256  12], old spacing: [1.3671875  1.3671875  8.80000019], target spacing: [3 3 8]\n2021-03-03 14:54:29,303 DEBUG old size: [256 256  12], old spacing: [1.3671875  1.3671875  8.80000019], target spacing: [3 3 8]\n2021-03-03 14:54:29,304 DEBUG old size: [256 256  12], old spacing: [1.3671875  1.3671875  8.80000019], target spacing: [3 3 8]\n2021-03-03 14:54:29,304 DEBUG old size: [256 256  12], old spacing: [1.3671875  1.3671875  8.80000019], target spacing: [3 3 8]\n2021-03-03 14:54:29,305 DEBUG old size: [256 256  12], old spacing: [1.3671875  1.3671875  8.80000019], target spacing: [3 3 8]\n2021-03-03 14:54:29,305 DEBUG old size: [256 256  12], old spacing: [1.3671875  1.3671875  8.80000019], target spacing: [3 3 8]\n2021-03-03 14:54:29,306 DEBUG old size: [256 256  12], old spacing: [1.3671875  1.3671875  8.80000019], target spacing: [3 3 8]\n2021-03-03 14:54:29,306 DEBUG dimension: 3\n2021-03-03 14:54:29,306 DEBUG Size before resample: (256, 256, 12)\n2021-03-03 14:54:29,318 DEBUG Spacing after resample: (3.0, 3.0, 8.0)\n2021-03-03 14:54:29,318 DEBUG Size after resample: (117, 117, 13)\n2021-03-03 14:54:29,320 DEBUG resampled:\n2021-03-03 14:54:29,320 DEBUG 0.022 s\n2021-03-03 14:54:29,321 INFO size: (117, 117, 13)\n2021-03-03 14:54:29,321 INFO spacing: (1.0, 1.0, 1.0)\n2021-03-03 14:54:29,321 INFO origin: (0.0, 0.0, 0.0)\n2021-03-03 14:54:29,322 INFO direction: (1.0, 0.0, 0.0, 0.0, 1.0, 0.0, 0.0, 0.0, 1.0)\n2021-03-03 14:54:29,322 INFO pixel type: 32-bit float\n2021-03-03 14:54:29,322 INFO number of pixel components: 1\n2021-03-03 14:54:29,323 DEBUG plot image state failed: 'NoneType' object has no attribute 'GetSize'\n2021-03-03 14:54:29,339 DEBUG {'__class_fullname__': 'albumentations.core.composition.ReplayCompose', 'params': None, 'transforms': [{'__class_fullname__': 'albumentations.augmentations.transforms.ShiftScaleRotate', 'always_apply': False, 'p': 0.8, 'shift_limit_x': (-0.025, 0.025), 'shift_limit_y': (-0.025, 0.025), 'scale_limit': (0.0, 0.0), 'rotate_limit': (-45, 45), 'interpolation': 1, 'border_mode': 1, 'value': 0, 'mask_value': None, 'params': {'angle': -22.95973315768714, 'scale': 1.0, 'dx': -0.019875241191424628, 'dy': 0.012033387233383791}, 'applied': True}], 'applied': True}\n2021-03-03 14:54:29,343 DEBUG augmented:\n2021-03-03 14:54:29,343 DEBUG 0.045 s\n2021-03-03 14:54:29,344 INFO size: (117, 117, 13)\n2021-03-03 14:54:29,344 INFO spacing: (1.0, 1.0, 1.0)\n2021-03-03 14:54:29,345 INFO origin: (0.0, 0.0, 0.0)\n2021-03-03 14:54:29,345 INFO direction: (1.0, 0.0, 0.0, 0.0, 1.0, 0.0, 0.0, 0.0, 1.0)\n2021-03-03 14:54:29,345 INFO pixel type: 32-bit float\n2021-03-03 14:54:29,346 INFO number of pixel components: 1\n2021-03-03 14:54:29,346 DEBUG plot image state failed: 'NoneType' object has no attribute 'GetSize'\n2021-03-03 14:54:29,365 DEBUG input shape, crop_and_pad: (36, 13, 117, 117)\n2021-03-03 14:54:29,366 DEBUG target shape, crop_and_pad: [36  8 64 64]\n2021-03-03 14:54:29,368 DEBUG input shape, crop_and_pad: (36, 5)\n2021-03-03 14:54:29,368 DEBUG target shape, crop_and_pad: [36  5]\n2021-03-03 14:54:29,369 DEBUG onehot pap and cropped:\n"
        },
        {
         "data": {
          "image/png": "iVBORw0KGgoAAAANSUhEUgAAAEAAAAD5CAYAAACXrDNjAAAAOXRFWHRTb2Z0d2FyZQBNYXRwbG90bGliIHZlcnNpb24zLjMuNCwgaHR0cHM6Ly9tYXRwbG90bGliLm9yZy8QVMy6AAAACXBIWXMAAAsTAAALEwEAmpwYAAAKN0lEQVR4nO2dfawcVRnGf88tbS9gQ4VWqLQKlaKpNVatDWCTVrDakEY0MYSaGEkaa6MkGo0RayJINKmJ2vAPkqoIRrHFKkoIKE1BG6ICbS2lFCiXBkObQkuxX8R+v/4x594s987snZ2Z3Xc/zi/Z3NmzZ2aefTI759zzznuOzIxeps9bgDfRAG8B3kQDvAV40/MGnFVmZ0mLgNuBMcAvzGxlvfrjzjrHzh43cUR537tOptY//cLpMvKGOMabnLDjSvtMRfsBksYAO4GFwG7gKWCJme3I2ue8c95pV1y+dET5hDv2p9Y/NO9AIW3DecI2cNjeSDWgzE9gLjBgZrvM7ASwBriuxPFcKGPAxcArNe93h7K3IGmZpE2SNp049WaJ0zWHpt8EzWy1mc0xsznjzjq32adrmDIG7AGm1byfGso6ijKtwFPADEmXknzxG4DP19vB/neMM9tfHFF+3/TNqfU/1feR7IOdqaaFKGyAmZ2SdBPwV5Jm8C4ze7YSVS2kVD/AzB4CHqpIiws93xOMBngL8KbUPaAQKXfvGX+7MbXqZbOOZR9m2/OVyOn5KyAa4C3Am2iAtwBvWt8KpHDZyvS7/cDN/Zn7TK/7X0d+ev4KiAZ4C/AmGuAtwJu2aAXSRokAdsx/MnOfxdQZLWqAnr8CogHeAryJBngL8KZsdPhl4AhwGjhlZnMKHShjjH/m30cGUgeZ3vdMQ8fKoopm8ONm9noFx3Gh538CZQ0w4BFJmyUtq0JQqyn7E5hnZnskvQNYL+l5M9tYWyEYswygn3NKnq56Sl0BZrYn/N0H3E/y0MTwOkPh8bGML3O6plD4CpB0LtBnZkfC9ieB2ypTRvZIEQCzZqQWNxovKPMTuBC4X9Lgce41s7+UOJ4LZcLju4APVqjFhdgMegvwpucNaIsRoSyyRooAdv3mA6nljcYLev4KiAZ4C/AmGuAtwJu2bgXqje7smP/L1PJG4wU9fwVEA7wFeBMN8BbgTXu3AnXIihmkxgvqhAp6/gqIBngL8CYa4C3Am543YNRmUNJdwGJgn5nNCmXnA2uBS4CXgevN7L/NkzmSzKBJSsBEOzemVEzIcwXcDSwaVnYzsMHMZgAbwvuOZFQDQrDzjWHF1wH3hO17gM9UK6t1FO0JXmhme8P2qyRhslS6OjoMYMkEBJmTELR7dLioAa9JmgIQ/u6rTlJrKfoTeAD4IrAy/P1z7j37xowsK5AInRU0SQuYHFuROnlEIme0E0n6HfBP4L2SdktaSvLFF0p6EfhEeN+RjHoFmNmSjI+uqViLCz3fE4wGeAvwpqVDYjq7n77LR/bVCyVCZ7QcaQGTqyZkP8ja81dANMBbgDfRAG8B3rS0FTh2kVIToqtKhIb0gMnuI3dk1u/5KyAa4C3Am2iAtwBvWtoKzJrwOv9I6asv7huRaJJQYKQoLV7w+qvZ86b2/BUQDfAW4E00wFuAN0Wjw7cCXwIGp4ReEabXrMv2I5NS++pZ0+YVGSlKixfY6ez0u6LRYYBVZjY7vDp2XtGi0eGuocw94CZJ2yTdJentWZVqp9Y+c6R7ptb+GfAeYDawF/hJVsXa6HDfhC6ZWtvMXjOz02Z2Bvg5KUnTnUKh/wUkTal5QOKzwPY8+/W/aql99axp8wqNFFU9hUaIDi8AJknaDdwCLJA0m+TBiJeBLzcos20oGh1Oz1fpQHq+JxgN8BbgTUtHhLIWWMiaNi9zpAgqW2Ch56+AaIC3AG+iAd4CvGmLBRayUuDiAgstIBrgLcCbaIC3AG/aInk6LrDgSDTAW4A30QBvAd7kGRafBvyaJDnSgNVmdnuV+cPtvsDCKeCbZjYTuAL4qqSZdEn+cJ7o8F4z2xK2jwDPkawv3BX5ww11hCRdAnwIeIKc+cNdkzss6W3AH4Cvm9nh2s/q5Q93Re6wpLEkX/63ZvbHUNwV+cN5WgGRxAKfM7Of1nxUPH94OG2+wMLHgC8Az0jaGspWkHzx+0Iu8X+A6xs6c5uQJzr8OJCVft3x+cM93xOMBngL8KYtRoSyaMUCCz1/BUQDvAV4Ew3wFuBNW7cCcYGFFhAN8BbgTTTAW4A3bd0KxAUWWkA0wFuAN9EAbwHelIkO30qB/OGqqGqBhTzN4GB0eIukCcBmSevDZ6vM7Mc5jtG25IkL7CXJDiUssDoYHe4KGroHDIsOQ4784drc4ZMcL6e2CZSJDufKH+7a6HC35A8Xjg4XzR+uiqrWFygTHV7SDfnDZaLDHTttRi093xOMBngL8Kb1I0Kdtr5AtxMN8BbgTTTAW4A3PW9AXGCh8TN3F9EAbwHeRAO8BXgTF1io7tSdSTTAW4A30YDRKkjql/SkpKclPSvp+6H8UklPSBqQtFbSuObLrZ48rcBx4GozOxoiRI9Lehj4Bkl0eI2kO4GlJOGyTDpygQVLOBrejg0vA64G1oXyjs0dzhsbHBOiQvuA9cBLwEEzOxWq7KZDQ+a5DAhB0NnAVJIg6PvynqA2PL7/QDWzQFZJQ62AmR0EHgOuBCZKGryHTAX2ZOwzFB6ffEHKkLgzeVqByZImhu2zgYUkcwg8BnwuVCuXO+xInlZgCnCPpDEkht1nZg9K2gGskfQD4N/kmGy5HRdYyBMd3kbyWMzw8l106EMRtcSeoLcAb6IB3gK8aemIUDsusNDzV0A0wFuAN9EAbwHexAUWKjlKBxMN8BbgTTTAW4A3cYGFSo7SwUQDvAV4Ew3wFuBNnrS5fmAjMD7UX2dmt0i6G5gPHApVbzSzrUVEeC6wUCY8DvAtM1tXZ9+2J09gxIC08HhXUCg8bmaDydM/DMnTqySlJgZ3RfL08PC4pFnAd0jC5B8Fzge+nbFv5ydPD1ITHl8UZp03MzsO/IoOjRMq+YnXqSBNBk6a2cEQHn8E+BGw2cz2huTqVcAxM6u7xoCk/SSzUANMArIf5K9Po/u+28wmp31QJjz+aDBHwFZg+WgHqhUhaZOZzcmjfjhl9h1OmfD41VUI8Kbne4KeBqx22vctjHoT7HbiT8BbgDdNN0DSIkkvhIeqR/QTJI0PD1sPhIevLwnl0yQ9JmlHeEj7ayn7LpB0SNLW8PpewwLNrGkvYAzJY7XTgXHA08DMYXW+AtwZtm8A1obtKcCHw/YEYGfKvguAB8tobPYVMBcYMLNdZnYCWEOyQFMttQs2rQOukSTLXuCpUpptwMXAKzXv0x6qHqoTHr4+BFxQWyFlCq9argy5DA9Len+jAtt7UlXqL/AEbCHp5x+VdC3wJyB95YUMmn0F7AGm1bxPe6h6qE54+Po84EB4n7bA0xBmdngwlyHMZThW0qRGBDbbgKeAGSG9ZhzJTe6BYXUGF2yC5OHrR83M6izwNISki0I9JM0l+T4HGlLYzFYg3KmvJbmDvwR8N5TdBnw6bPcDvwcGgCeB6aF8HsnQ2zaS/za3hmMtB5aHOjcBz5K0Lv8CrmpUX+wKewvwJhrgLcCbaIC3AG+iAd4CvPk/YrcFaMoAKLEAAAAASUVORK5CYII=\n",
          "text/plain": "<Figure size 432x288 with 1 Axes>"
         },
         "metadata": {
          "needs_background": "light"
         },
         "output_type": "display_data"
        },
        {
         "name": "stderr",
         "output_type": "stream",
         "text": "2021-03-03 14:54:29,429 DEBUG input shape, crop_and_pad: (36, 5)\n2021-03-03 14:54:29,430 DEBUG target shape, crop_and_pad: [36  5]\n2021-03-03 14:54:29,434 DEBUG clipped cropped and pad:\n2021-03-03 14:54:29,435 DEBUG 0.088 s\n2021-03-03 14:54:29,435 INFO size: (64, 64, 8)\n2021-03-03 14:54:29,435 INFO spacing: (1.0, 1.0, 1.0)\n2021-03-03 14:54:29,436 INFO origin: (0.0, 0.0, 0.0)\n2021-03-03 14:54:29,436 INFO direction: (1.0, 0.0, 0.0, 0.0, 1.0, 0.0, 0.0, 0.0, 1.0)\n2021-03-03 14:54:29,436 INFO pixel type: 32-bit float\n2021-03-03 14:54:29,437 INFO number of pixel components: 1\n2021-03-03 14:54:29,437 DEBUG plot image state failed: 'NoneType' object has no attribute 'GetSize'\n2021-03-03 14:54:29,439 DEBUG img finished after 0.525 sec.\n2021-03-03 14:54:29,439 DEBUG Batchsize: 1 preprocessing took: 0.526 sec\n2021-03-03 14:54:29,440 INFO Preprocessing took: 0.529\n"
        },
        {
         "name": "stdout",
         "output_type": "stream",
         "text": "(1, 36, 8, 64, 64, 1) (1, 2, 36, 5)\nselected batch : 104\n"
        },
        {
         "data": {
          "image/png": "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\n",
          "text/plain": "<Figure size 144x360 with 1 Axes>"
         },
         "metadata": {
          "needs_background": "light"
         },
         "output_type": "display_data"
        },
        {
         "name": "stderr",
         "output_type": "stream",
         "text": "2021-03-03 14:54:29,512 INFO GT length: 5\n2021-03-03 14:54:29,514 DEBUG pad: \n[[5.3991127e-01 2.9596257e+00 1.3383062e-03 0.0000000e+00 1.3383062e-03]\n [4.4318616e-02 4.0337534e+00 4.4318616e-02 0.0000000e+00 0.0000000e+00]\n [1.3383062e-03 2.4210527e+00 5.3991127e-01 0.0000000e+00 0.0000000e+00]\n [0.0000000e+00 5.3991127e-01 2.4197145e+00 0.0000000e+00 0.0000000e+00]\n [0.0000000e+00 4.4318616e-02 3.9894347e+00 1.3383062e-03 0.0000000e+00]\n [0.0000000e+00 1.3383062e-03 2.4197145e+00 4.4318616e-02 0.0000000e+00]\n [0.0000000e+00 0.0000000e+00 5.3991127e-01 5.3991127e-01 0.0000000e+00]\n [0.0000000e+00 0.0000000e+00 4.4318616e-02 2.4197145e+00 0.0000000e+00]\n [0.0000000e+00 0.0000000e+00 1.3383062e-03 3.9894347e+00 1.3383062e-03]\n [0.0000000e+00 0.0000000e+00 0.0000000e+00 2.4197145e+00 4.4318616e-02]\n [1.3383062e-03 0.0000000e+00 0.0000000e+00 5.3991127e-01 5.3991127e-01]\n [4.4318616e-02 0.0000000e+00 0.0000000e+00 4.4318616e-02 2.4197145e+00]\n [5.3991127e-01 0.0000000e+00 0.0000000e+00 1.3383062e-03 3.9894347e+00]\n [2.4197145e+00 1.3383062e-03 0.0000000e+00 0.0000000e+00 2.4197145e+00]\n [3.9894347e+00 4.4318616e-02 0.0000000e+00 0.0000000e+00 5.3991127e-01]\n [2.4197145e+00 5.3991127e-01 0.0000000e+00 0.0000000e+00 4.4318616e-02]\n [1.0000000e+00 1.0000000e+00 1.0000000e+00 1.0000000e+00 1.0000000e+00]\n [4.4318616e-02 3.9894347e+00 4.4318616e-02 0.0000000e+00 0.0000000e+00]\n [1.3383062e-03 2.4197145e+00 5.3991127e-01 0.0000000e+00 0.0000000e+00]\n [0.0000000e+00 5.3991127e-01 2.4197145e+00 0.0000000e+00 0.0000000e+00]\n [0.0000000e+00 4.4318616e-02 3.9894347e+00 1.3383062e-03 0.0000000e+00]\n [0.0000000e+00 1.3383062e-03 2.4197145e+00 4.4318616e-02 0.0000000e+00]\n [0.0000000e+00 0.0000000e+00 5.3991127e-01 5.3991127e-01 0.0000000e+00]\n [0.0000000e+00 0.0000000e+00 4.4318616e-02 2.4197145e+00 0.0000000e+00]\n [0.0000000e+00 0.0000000e+00 1.3383062e-03 3.9894347e+00 1.3383062e-03]\n [0.0000000e+00 0.0000000e+00 0.0000000e+00 2.4197145e+00 4.4318616e-02]\n [1.3383062e-03 0.0000000e+00 0.0000000e+00 5.3991127e-01 5.3991127e-01]\n [4.4318616e-02 0.0000000e+00 0.0000000e+00 4.4318616e-02 2.4197145e+00]\n [5.3991127e-01 0.0000000e+00 0.0000000e+00 1.3383062e-03 3.9894347e+00]\n [2.4197145e+00 1.3383062e-03 0.0000000e+00 0.0000000e+00 2.4197145e+00]\n [3.9894347e+00 4.4318616e-02 0.0000000e+00 0.0000000e+00 5.3991127e-01]\n [2.4197145e+00 5.3991127e-01 0.0000000e+00 0.0000000e+00 4.4318616e-02]\n [5.3991127e-01 2.4197145e+00 1.3383062e-03 0.0000000e+00 1.3383062e-03]\n [4.4318616e-02 3.9894347e+00 4.4318616e-02 0.0000000e+00 0.0000000e+00]\n [1.3383062e-03 2.4197145e+00 5.3991127e-01 0.0000000e+00 0.0000000e+00]\n [0.0000000e+00 5.3991127e-01 2.4197145e+00 0.0000000e+00 0.0000000e+00]]\n"
        }
       ]
      }
     },
     "6e34b38751ec49e3ab65b71e4b3c6055": {
      "model_module": "@jupyter-widgets/controls",
      "model_module_version": "1.5.0",
      "model_name": "CheckboxModel",
      "state": {
       "description": "show_overview",
       "disabled": false,
       "layout": "IPY_MODEL_2b8fb9f20f9e4d529bc55071f473528b",
       "style": "IPY_MODEL_ef7204640df44ea1af2d9a752b7edb07",
       "value": true
      }
     },
     "6eb94d6253a546b6b24792050cc64606": {
      "model_module": "@jupyter-widgets/base",
      "model_module_version": "1.2.0",
      "model_name": "LayoutModel",
      "state": {}
     },
     "7193ea33bc374512a20b10553b601332": {
      "model_module": "@jupyter-widgets/controls",
      "model_module_version": "1.5.0",
      "model_name": "CheckboxModel",
      "state": {
       "description": "save",
       "disabled": false,
       "layout": "IPY_MODEL_057a15432c624c99bd89226019945d08",
       "style": "IPY_MODEL_9178efc4930f4d2b9634c0ceb0c00495",
       "value": false
      }
     },
     "74ddf09ce1094fe3aae1990d45eac833": {
      "model_module": "@jupyter-widgets/base",
      "model_module_version": "1.2.0",
      "model_name": "LayoutModel",
      "state": {}
     },
     "762903b3bbf14de4bc28ea5b3a5160c6": {
      "model_module": "@jupyter-widgets/controls",
      "model_module_version": "1.5.0",
      "model_name": "SliderStyleModel",
      "state": {
       "description_width": ""
      }
     },
     "775299b28c1c40bbb724085a85ef8fdc": {
      "model_module": "@jupyter-widgets/controls",
      "model_module_version": "1.5.0",
      "model_name": "DescriptionStyleModel",
      "state": {
       "description_width": ""
      }
     },
     "780bb2d2c7904391a03874237157181a": {
      "model_module": "@jupyter-widgets/base",
      "model_module_version": "1.2.0",
      "model_name": "LayoutModel",
      "state": {}
     },
     "79be5976497f49f78374d4819ab8c636": {
      "model_module": "@jupyter-widgets/controls",
      "model_module_version": "1.5.0",
      "model_name": "IntSliderModel",
      "state": {
       "description": "im",
       "layout": "IPY_MODEL_60a0fd2c581147b3904d6381010911a1",
       "max": 0,
       "style": "IPY_MODEL_0457866f827d424ba7eb269cb393fe73"
      }
     },
     "7a059cfa97b64366a3aee7a894e8edc0": {
      "model_module": "@jupyter-widgets/base",
      "model_module_version": "1.2.0",
      "model_name": "LayoutModel",
      "state": {}
     },
     "7a6958fbcbcc48878e6f68eb6d9c4565": {
      "model_module": "@jupyter-widgets/controls",
      "model_module_version": "1.5.0",
      "model_name": "DescriptionStyleModel",
      "state": {
       "description_width": ""
      }
     },
     "7be0a56544c64fe7943a4f8b5eafe477": {
      "model_module": "@jupyter-widgets/controls",
      "model_module_version": "1.5.0",
      "model_name": "CheckboxModel",
      "state": {
       "description": "show_overview",
       "disabled": false,
       "layout": "IPY_MODEL_81aeb1830fdc47e6a4e10532eb463e41",
       "style": "IPY_MODEL_82904c5fa1c144e9a160a7f9bf1b057d",
       "value": true
      }
     },
     "7c2fc44456374a2f9b3efbbb3e0c5bdd": {
      "model_module": "@jupyter-widgets/controls",
      "model_module_version": "1.5.0",
      "model_name": "DescriptionStyleModel",
      "state": {
       "description_width": ""
      }
     },
     "7c44e0576d7e4b6faebad0a456ea23db": {
      "model_module": "@jupyter-widgets/controls",
      "model_module_version": "1.5.0",
      "model_name": "ButtonModel",
      "state": {
       "description": "Run Interact",
       "layout": "IPY_MODEL_510ac01e81e14fc29f89747355ad428f",
       "style": "IPY_MODEL_2bfe4beb004f4215958510b337f4ba2c"
      }
     },
     "7d749d660d55419a822b3833fbd99c4f": {
      "model_module": "@jupyter-widgets/controls",
      "model_module_version": "1.5.0",
      "model_name": "DescriptionStyleModel",
      "state": {
       "description_width": ""
      }
     },
     "7e68624c28e2499592437f4ce6827cc9": {
      "model_module": "@jupyter-widgets/controls",
      "model_module_version": "1.5.0",
      "model_name": "SliderStyleModel",
      "state": {
       "description_width": ""
      }
     },
     "7f9ee88abb7f455da4893e03248a32e8": {
      "model_module": "@jupyter-widgets/controls",
      "model_module_version": "1.5.0",
      "model_name": "SliderStyleModel",
      "state": {
       "description_width": ""
      }
     },
     "80dac1ec845d482c9b1dba8ff96b8f58": {
      "model_module": "@jupyter-widgets/controls",
      "model_module_version": "1.5.0",
      "model_name": "SliderStyleModel",
      "state": {
       "description_width": ""
      }
     },
     "81aeb1830fdc47e6a4e10532eb463e41": {
      "model_module": "@jupyter-widgets/base",
      "model_module_version": "1.2.0",
      "model_name": "LayoutModel",
      "state": {}
     },
     "82904c5fa1c144e9a160a7f9bf1b057d": {
      "model_module": "@jupyter-widgets/controls",
      "model_module_version": "1.5.0",
      "model_name": "DescriptionStyleModel",
      "state": {
       "description_width": ""
      }
     },
     "82bb10ef3def400b8f44e8c2e2884fd5": {
      "model_module": "@jupyter-widgets/controls",
      "model_module_version": "1.5.0",
      "model_name": "DescriptionStyleModel",
      "state": {
       "description_width": ""
      }
     },
     "82ca689cdc364d008979184f738fa58e": {
      "model_module": "@jupyter-widgets/controls",
      "model_module_version": "1.5.0",
      "model_name": "TextModel",
      "state": {
       "description": "filepath",
       "layout": "IPY_MODEL_5d56e72b386c4e36b061e8d94569039e",
       "style": "IPY_MODEL_e4a4fbca0b2f4c05ab18fb54da6bdf6e",
       "value": "data/temp/"
      }
     },
     "82d336bbc0f24d1ebafb0514ae9ca608": {
      "model_module": "@jupyter-widgets/controls",
      "model_module_version": "1.5.0",
      "model_name": "CheckboxModel",
      "state": {
       "description": "save",
       "disabled": false,
       "layout": "IPY_MODEL_2d25c9dd5d8f468c9439e5309875543d",
       "style": "IPY_MODEL_bce58de6b89a4991aeb695162029e18a",
       "value": false
      }
     },
     "831487d303934922a071af1aa71aadbc": {
      "model_module": "@jupyter-widgets/controls",
      "model_module_version": "1.5.0",
      "model_name": "SliderStyleModel",
      "state": {
       "description_width": ""
      }
     },
     "836846552b1047cbab064439958eced3": {
      "model_module": "@jupyter-widgets/base",
      "model_module_version": "1.2.0",
      "model_name": "LayoutModel",
      "state": {}
     },
     "84da47fff52a4fb291dbf38f1f3c8eeb": {
      "model_module": "@jupyter-widgets/base",
      "model_module_version": "1.2.0",
      "model_name": "LayoutModel",
      "state": {}
     },
     "856add0505a3450681de9f723992401d": {
      "model_module": "@jupyter-widgets/base",
      "model_module_version": "1.2.0",
      "model_name": "LayoutModel",
      "state": {}
     },
     "85736ea5e81e4cc6a7535736e0ab9a54": {
      "model_module": "@jupyter-widgets/controls",
      "model_module_version": "1.5.0",
      "model_name": "IntSliderModel",
      "state": {
       "description": "im",
       "layout": "IPY_MODEL_27188372961b4409a432ff2818f1b7b0",
       "max": 0,
       "style": "IPY_MODEL_652a1ef7810a4de58ad41c86d387448b"
      }
     },
     "85ee7fe8306448f9af5231c788fae5a6": {
      "model_module": "@jupyter-widgets/controls",
      "model_module_version": "1.5.0",
      "model_name": "DescriptionStyleModel",
      "state": {
       "description_width": ""
      }
     },
     "86bb05ab939c43daa64e19eeae8a85d6": {
      "model_module": "@jupyter-widgets/controls",
      "model_module_version": "1.5.0",
      "model_name": "IntSliderModel",
      "state": {
       "description": "slice_n",
       "layout": "IPY_MODEL_5b9f9539572641ee86aa04f3bfe74dd6",
       "max": 11,
       "min": 1,
       "style": "IPY_MODEL_b8ed06c2dd904bfa9e8b5c82c97b344b",
       "value": 6
      }
     },
     "86e361eb323d423098063f692010bca4": {
      "model_module": "@jupyter-widgets/base",
      "model_module_version": "1.2.0",
      "model_name": "LayoutModel",
      "state": {}
     },
     "8903034680c542ffbdfd7684f9333659": {
      "model_module": "@jupyter-widgets/controls",
      "model_module_version": "1.5.0",
      "model_name": "TextModel",
      "state": {
       "description": "search_str",
       "layout": "IPY_MODEL_26627684b2d7442e86a5728b75c0aae1",
       "style": "IPY_MODEL_f5dfb886f5e7470882177544daf01d03"
      }
     },
     "8b731b4b697d4b20af585ffbb2dc924b": {
      "model_module": "@jupyter-widgets/base",
      "model_module_version": "1.2.0",
      "model_name": "LayoutModel",
      "state": {}
     },
     "8d55d3bc242a4195b42fb9d05352f8ff": {
      "model_module": "@jupyter-widgets/base",
      "model_module_version": "1.2.0",
      "model_name": "LayoutModel",
      "state": {}
     },
     "8e73652133ae4123904f96f90c0995e4": {
      "model_module": "@jupyter-widgets/base",
      "model_module_version": "1.2.0",
      "model_name": "LayoutModel",
      "state": {}
     },
     "8fb56c47109449e79ffd2bf2f6f09600": {
      "model_module": "@jupyter-widgets/controls",
      "model_module_version": "1.5.0",
      "model_name": "DescriptionStyleModel",
      "state": {
       "description_width": ""
      }
     },
     "9178efc4930f4d2b9634c0ceb0c00495": {
      "model_module": "@jupyter-widgets/controls",
      "model_module_version": "1.5.0",
      "model_name": "DescriptionStyleModel",
      "state": {
       "description_width": ""
      }
     },
     "91f17670288f40ffb720bcde0ba0d815": {
      "model_module": "@jupyter-widgets/base",
      "model_module_version": "1.2.0",
      "model_name": "LayoutModel",
      "state": {}
     },
     "93647c12614b423d9c3ac7916a809bd5": {
      "model_module": "@jupyter-widgets/controls",
      "model_module_version": "1.5.0",
      "model_name": "SliderStyleModel",
      "state": {
       "description_width": ""
      }
     },
     "93bb4e83992a4de3aff8ebe8374edf9e": {
      "model_module": "@jupyter-widgets/base",
      "model_module_version": "1.2.0",
      "model_name": "LayoutModel",
      "state": {}
     },
     "93d1e39f45824b19b960c8ee49ab0ba3": {
      "model_module": "@jupyter-widgets/controls",
      "model_module_version": "1.5.0",
      "model_name": "DescriptionStyleModel",
      "state": {
       "description_width": ""
      }
     },
     "95c93fdec381423cb8a51169bc74478b": {
      "model_module": "@jupyter-widgets/output",
      "model_module_version": "1.0.0",
      "model_name": "OutputModel",
      "state": {
       "layout": "IPY_MODEL_501441aec89445b6919f6978344896c4",
       "outputs": [
        {
         "name": "stderr",
         "output_type": "stream",
         "text": "2021-03-03 14:45:47,425 DEBUG index generation: 3.600120544433594e-05\n2021-03-03 14:45:47,501 DEBUG Metadata_copied: 0.001s\n2021-03-03 14:45:47,502 DEBUG spatial data_copied: 0.002s\n2021-03-03 14:45:47,503 DEBUG Metadata_copied: 0.001s\n2021-03-03 14:45:47,503 DEBUG spatial data_copied: 0.001s\n2021-03-03 14:45:47,505 DEBUG Metadata_copied: 0.001s\n2021-03-03 14:45:47,505 DEBUG spatial data_copied: 0.001s\n2021-03-03 14:45:47,506 DEBUG Metadata_copied: 0.001s\n2021-03-03 14:45:47,507 DEBUG spatial data_copied: 0.001s\n2021-03-03 14:45:47,508 DEBUG Metadata_copied: 0.001s\n2021-03-03 14:45:47,509 DEBUG spatial data_copied: 0.002s\n2021-03-03 14:45:47,510 DEBUG Metadata_copied: 0.001s\n2021-03-03 14:45:47,511 DEBUG spatial data_copied: 0.002s\n2021-03-03 14:45:47,512 DEBUG Metadata_copied: 0.001s\n2021-03-03 14:45:47,513 DEBUG spatial data_copied: 0.001s\n2021-03-03 14:45:47,514 DEBUG Metadata_copied: 0.001s\n2021-03-03 14:45:47,514 DEBUG spatial data_copied: 0.002s\n2021-03-03 14:45:47,516 DEBUG Metadata_copied: 0.001s\n2021-03-03 14:45:47,517 DEBUG spatial data_copied: 0.002s\n2021-03-03 14:45:47,519 DEBUG Metadata_copied: 0.002s\n2021-03-03 14:45:47,520 DEBUG spatial data_copied: 0.003s\n2021-03-03 14:45:47,521 DEBUG Metadata_copied: 0.001s\n2021-03-03 14:45:47,522 DEBUG spatial data_copied: 0.002s\n2021-03-03 14:45:47,523 DEBUG Metadata_copied: 0.001s\n2021-03-03 14:45:47,524 DEBUG spatial data_copied: 0.002s\n2021-03-03 14:45:47,526 DEBUG Metadata_copied: 0.001s\n2021-03-03 14:45:47,526 DEBUG spatial data_copied: 0.002s\n2021-03-03 14:45:47,528 DEBUG Metadata_copied: 0.001s\n2021-03-03 14:45:47,528 DEBUG spatial data_copied: 0.002s\n2021-03-03 14:45:47,530 DEBUG Metadata_copied: 0.001s\n2021-03-03 14:45:47,530 DEBUG spatial data_copied: 0.001s\n2021-03-03 14:45:47,532 DEBUG Metadata_copied: 0.002s\n2021-03-03 14:45:47,532 DEBUG spatial data_copied: 0.002s\n2021-03-03 14:45:47,535 DEBUG Metadata_copied: 0.002s\n2021-03-03 14:45:47,536 DEBUG spatial data_copied: 0.003s\n2021-03-03 14:45:47,538 DEBUG Metadata_copied: 0.002s\n2021-03-03 14:45:47,539 DEBUG spatial data_copied: 0.003s\n"
        },
        {
         "data": {
          "image/png": "iVBORw0KGgoAAAANSUhEUgAAAWoAAAB8CAYAAABAIPrRAAAAOXRFWHRTb2Z0d2FyZQBNYXRwbG90bGliIHZlcnNpb24zLjMuNCwgaHR0cHM6Ly9tYXRwbG90bGliLm9yZy8QVMy6AAAACXBIWXMAAAsTAAALEwEAmpwYAAAIV0lEQVR4nO3df+hddR3H8eerbWrTSOfMchtNQosl+YNvYlmRGqUmrj+VCqNgEP3QkEITgv6LCqs/pBhqSYoSukzEUjMt+qPpXLrc5o9lppszV1GKkXP17o9zVl/nd9tdfu89H9jzAV927zmXc1/73sPr+7nnnHs/qSokSe16zdABJEl7ZlFLUuMsaklqnEUtSY2zqCWpcRa1JDVu7jg2unDBnFq6ZN6sbOvRdfNnZTuS1LJ/8gLb68XMtG4sRb10yTzuvX3JrGzrQ0edMCvbkaSWra67drvOQx+S1DiLWpIaZ1FLUuNGKuokZyZ5JMmmJJeMO5Qk6X/2WtRJ5gBXAGcBy4DzkywbdzBJUmeUEfXJwKaqeryqtgM3AMvHG0uStNMoRb0IeGra/c39MknSBMzaycQkK5KsSbJm21/+NVublaT93ihFvQWY/umVxf2yl6mqlVU1VVVTRxw+Z7bySdJ+b5Sivg84JsnRSQ4AzgNuGW8sSdJOe/0IeVXtSPJZ4HZgDnB1Va0fezJJEjDid31U1W3AbWPOIkmagZ9MlKTGWdSS1DiLWpIaZ1FLUuPGMnHAo+vm+4X/E3b70w/M2rZ87aS2OKKWpMZZ1JLUOItakhpnUUtS4yxqSWqcRS1JjbOoJalxFrUkNc6ilqTGWdSS1DiLWpIaZ1FLUuMsaklqnEUtSY2zqCWpcRa1JDXOopakxlnUktS4sUzFpclz+qzJc/ozTYojaklqnEUtSY2zqCWpcRa1JDXOopakxu21qJMsSXJ3kg1J1ie5cBLBJEmdUS7P2wFcXFVrk7wOuD/JnVW1YczZJEmMMKKuqq1Vtba//TywEVg07mCSpM4+feAlyVLgRGD1DOtWACsADmL+bGSTJLEPJxOTHALcBFxUVc/tur6qVlbVVFVNzePA2cwoSfu1kYo6yTy6kr6uqlaNN5IkabpRrvoIcBWwsaouH38kSdJ0o4yoTwU+Dpye5IH+5+wx55Ik9fZ6MrGqfg1kAlkkSTPwk4mS1DiLWpIaZ1FLUuOc4UX6Pzkry2icCefVc0QtSY2zqCWpcRa1JDXOopakxlnUktQ4i1qSGmdRS1LjLGpJapxFLUmNs6glqXEWtSQ1zqKWpMZZ1JLUOItakhpnUUtS4yxqSWqcRS1JjbOoJalxTsUlaaxanT5rtqYIm8T/zxG1JDXOopakxlnUktQ4i1qSGmdRS1LjRi7qJHOS/DbJreMMJEl6uX0ZUV8IbBxXEEnSzEYq6iSLgQ8DV443jiRpV6OOqL8NfAn49+4ekGRFkjVJ1rzEi7ORTZLECEWd5Bzg2aq6f0+Pq6qVVTVVVVPzOHDWAkrS/m6UEfWpwLlJngBuAE5Pcu1YU0mS/muvRV1Vl1bV4qpaCpwH/KKqPjb2ZJIkwOuoJal5+/TteVV1D3DPWJJIkmbkiFqSGmdRS1LjLGpJapxFLUmNS1XN/kaTbcAf9/KwhcCfZ/3JXx0zjabFTNBmLjONxkzw5qo6YqYVYynqUSRZU1VTgzz5bphpNC1mgjZzmWk0ZtozD31IUuMsaklq3JBFvXLA594dM42mxUzQZi4zjcZMezDYMWpJ0mg89CFJjZt4USc5M8kjSTYluWTSzz+TJEuS3J1kQ5L1SS4cOtNOrc1VmeTQJDcmeTjJxiTvaiDTF/rX7aEk1yc5aKAcVyd5NslD05YtSHJnksf6fw9rINM3+tdvXZIfJzl06EzT1l2cpJIsbCFTks/1v6v1Sb4+yUzTTbSok8wBrgDOApYB5ydZNskMu7EDuLiqlgGnAJ9pJBe0N1fld4CfVdXbgOMZOFuSRcDngamqOg6YQ/d1vEP4AXDmLssuAe6qqmOAu/r7Q2e6Eziuqt4BPApc2kAmkiwBPgg8OeE8MEOmJKcBy4Hjq+rtwDcHyAVMfkR9MrCpqh6vqu10ExEsn3CGV6iqrVW1tr/9PF35LBo2VXtzVSZ5PfA+4CqAqtpeVX8bNFRnLvDaJHOB+cDTQ4Soql8Bf91l8XLgmv72NcBHhs5UVXdU1Y7+7m+AxUNn6n2Lbsq/iZ84202mTwNfq6oX+8c8O+lcO026qBcBT027v5kGCnG6JEuBE4HVA0eBEeaqnLCjgW3A9/vDMVcmOXjIQFW1hW6k8ySwFfh7Vd0xZKZdHFlVW/vbzwBHDhlmBp8Efjp0iCTLgS1V9eDQWaY5FnhvktVJfpnknUMF8WTiNEkOAW4CLqqq5wbOMtJclRM2FzgJ+G5VnQi8wOTfyr9Mf8x3Od0fkaOAg5M0OQNRdZdYNXOZVZLL6A77XTdwjvnAl4GvDJljBnOBBXSHQ78I/ChJhggy6aLeAiyZdn9xv2xwSebRlfR1VbVq6Dy0OVflZmBzVe18t3EjXXEP6QPAH6pqW1W9BKwC3j1wpun+lORNAP2/g719ni7JJ4BzgI/W8NfovoXuD+2D/f6+GFib5I2Dpur291XVuZfune1ET3LuNOmivg84JsnRSQ6gO+lzy4QzvEL/V/IqYGNVXT50HmhzrsqqegZ4Kslb+0VnABsGjATdIY9TkszvX8czaOvk6y3ABf3tC4CfDJgF6K68ojukdm5V/WPoPFX1u6p6Q1Ut7ff3zcBJ/f42pJuB0wCSHAscwFBfHFVVE/0BzqY70/x74LJJP/9uMr2H7i3pOuCB/ufsoXNNy/d+4Nahc/RZTgDW9L+rm4HDGsj0VeBh4CHgh8CBA+W4nu44+Ut0ZfMp4HC6qz0eA34OLGgg0ya6c0U79/XvDZ1pl/VPAAuHzkRXzNf2+9Va4PQh9quq8pOJktQ6TyZKUuMsaklqnEUtSY2zqCWpcRa1JDXOopakxlnUktQ4i1qSGvcf2TfhSUOVkkAAAAAASUVORK5CYII=\n",
          "text/plain": "<Figure size 432x288 with 1 Axes>"
         },
         "metadata": {
          "needs_background": "light"
         },
         "output_type": "display_data"
        },
        {
         "name": "stderr",
         "output_type": "stream",
         "text": "2021-03-03 14:45:47,620 DEBUG 2\n"
        },
        {
         "data": {
          "image/png": "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\n",
          "text/plain": "<Figure size 432x288 with 1 Axes>"
         },
         "metadata": {
          "needs_background": "light"
         },
         "output_type": "display_data"
        },
        {
         "data": {
          "image/png": "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\n",
          "text/plain": "<Figure size 432x288 with 1 Axes>"
         },
         "metadata": {
          "needs_background": "light"
         },
         "output_type": "display_data"
        },
        {
         "data": {
          "image/png": "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\n",
          "text/plain": "<Figure size 432x288 with 1 Axes>"
         },
         "metadata": {
          "needs_background": "light"
         },
         "output_type": "display_data"
        },
        {
         "data": {
          "image/png": "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\n",
          "text/plain": "<Figure size 432x288 with 1 Axes>"
         },
         "metadata": {
          "needs_background": "light"
         },
         "output_type": "display_data"
        },
        {
         "name": "stderr",
         "output_type": "stream",
         "text": "2021-03-03 14:45:47,887 DEBUG raw:\n2021-03-03 14:45:47,888 DEBUG 0.459 s\n2021-03-03 14:45:47,888 INFO size: (256, 256, 14)\n2021-03-03 14:45:47,888 INFO spacing: (1.3671875, 1.3671875, 8.80000019073486)\n2021-03-03 14:45:47,889 INFO origin: (109.655768126249, -207.78461948037, 94.3058692850172)\n2021-03-03 14:45:47,889 INFO direction: (0.3160333924609157, -0.44956571215166174, -0.835472061356461, 0.9474482557138522, 0.1034677930814153, 0.30271474780664465, -0.04964572080677109, -0.8872345159271199, 0.45863952746481146)\n2021-03-03 14:45:47,889 INFO pixel type: 32-bit float\n2021-03-03 14:45:47,890 INFO number of pixel components: 1\n2021-03-03 14:45:47,890 DEBUG plot image state failed: 'NoneType' object has no attribute 'GetSize'\n2021-03-03 14:45:47,891 DEBUG old size: [256 256  14], old spacing: [1.3671875  1.3671875  8.80000019], target spacing: [3 3 8]\n2021-03-03 14:45:47,891 DEBUG old size: [256 256  14], old spacing: [1.3671875  1.3671875  8.80000019], target spacing: [3 3 8]\n2021-03-03 14:45:47,892 DEBUG old size: [256 256  14], old spacing: [1.3671875  1.3671875  8.80000019], target spacing: [3 3 8]\n2021-03-03 14:45:47,892 DEBUG old size: [256 256  14], old spacing: [1.3671875  1.3671875  8.80000019], target spacing: [3 3 8]\n2021-03-03 14:45:47,893 DEBUG old size: [256 256  14], old spacing: [1.3671875  1.3671875  8.80000019], target spacing: [3 3 8]\n2021-03-03 14:45:47,893 DEBUG old size: [256 256  14], old spacing: [1.3671875  1.3671875  8.80000019], target spacing: [3 3 8]\n2021-03-03 14:45:47,894 DEBUG old size: [256 256  14], old spacing: [1.3671875  1.3671875  8.80000019], target spacing: [3 3 8]\n2021-03-03 14:45:47,894 DEBUG old size: [256 256  14], old spacing: [1.3671875  1.3671875  8.80000019], target spacing: [3 3 8]\n2021-03-03 14:45:47,895 DEBUG old size: [256 256  14], old spacing: [1.3671875  1.3671875  8.80000019], target spacing: [3 3 8]\n2021-03-03 14:45:47,895 DEBUG old size: [256 256  14], old spacing: [1.3671875  1.3671875  8.80000019], target spacing: [3 3 8]\n2021-03-03 14:45:47,896 DEBUG old size: [256 256  14], old spacing: [1.3671875  1.3671875  8.80000019], target spacing: [3 3 8]\n2021-03-03 14:45:47,896 DEBUG old size: [256 256  14], old spacing: [1.3671875  1.3671875  8.80000019], target spacing: [3 3 8]\n2021-03-03 14:45:47,897 DEBUG old size: [256 256  14], old spacing: [1.3671875  1.3671875  8.80000019], target spacing: [3 3 8]\n2021-03-03 14:45:47,897 DEBUG old size: [256 256  14], old spacing: [1.3671875  1.3671875  8.80000019], target spacing: [3 3 8]\n2021-03-03 14:45:47,898 DEBUG old size: [256 256  14], old spacing: [1.3671875  1.3671875  8.80000019], target spacing: [3 3 8]\n2021-03-03 14:45:47,898 DEBUG old size: [256 256  14], old spacing: [1.3671875  1.3671875  8.80000019], target spacing: [3 3 8]\n2021-03-03 14:45:47,899 DEBUG old size: [256 256  14], old spacing: [1.3671875  1.3671875  8.80000019], target spacing: [3 3 8]\n2021-03-03 14:45:47,899 DEBUG old size: [256 256  14], old spacing: [1.3671875  1.3671875  8.80000019], target spacing: [3 3 8]\n2021-03-03 14:45:47,900 DEBUG dimension: 3\n2021-03-03 14:45:47,900 DEBUG Size before resample: (256, 256, 14)\n2021-03-03 14:45:47,915 DEBUG Spacing after resample: (3.0, 3.0, 8.0)\n2021-03-03 14:45:47,916 DEBUG Size after resample: (117, 117, 15)\n2021-03-03 14:45:47,917 DEBUG resampled:\n2021-03-03 14:45:47,918 DEBUG 0.027 s\n2021-03-03 14:45:47,918 INFO size: (117, 117, 15)\n2021-03-03 14:45:47,918 INFO spacing: (1.0, 1.0, 1.0)\n2021-03-03 14:45:47,919 INFO origin: (0.0, 0.0, 0.0)\n2021-03-03 14:45:47,919 INFO direction: (1.0, 0.0, 0.0, 0.0, 1.0, 0.0, 0.0, 0.0, 1.0)\n2021-03-03 14:45:47,919 INFO pixel type: 32-bit float\n2021-03-03 14:45:47,920 INFO number of pixel components: 1\n2021-03-03 14:45:47,920 DEBUG plot image state failed: 'NoneType' object has no attribute 'GetSize'\n2021-03-03 14:45:47,942 DEBUG {'__class_fullname__': 'albumentations.core.composition.ReplayCompose', 'params': None, 'transforms': [{'__class_fullname__': 'albumentations.augmentations.transforms.ShiftScaleRotate', 'always_apply': False, 'p': 0.8, 'shift_limit_x': (-0.025, 0.025), 'shift_limit_y': (-0.025, 0.025), 'scale_limit': (0.0, 0.0), 'rotate_limit': (-45, 45), 'interpolation': 1, 'border_mode': 1, 'value': 0, 'mask_value': None, 'params': {'angle': -22.95973315768714, 'scale': 1.0, 'dx': -0.019875241191424628, 'dy': 0.012033387233383791}, 'applied': True}], 'applied': True}\n2021-03-03 14:45:47,946 DEBUG augmented:\n2021-03-03 14:45:47,947 DEBUG 0.056 s\n2021-03-03 14:45:47,947 INFO size: (117, 117, 15)\n2021-03-03 14:45:47,948 INFO spacing: (1.0, 1.0, 1.0)\n2021-03-03 14:45:47,948 INFO origin: (0.0, 0.0, 0.0)\n2021-03-03 14:45:47,949 INFO direction: (1.0, 0.0, 0.0, 0.0, 1.0, 0.0, 0.0, 0.0, 1.0)\n2021-03-03 14:45:47,949 INFO pixel type: 32-bit float\n2021-03-03 14:45:47,949 INFO number of pixel components: 1\n2021-03-03 14:45:47,949 DEBUG plot image state failed: 'NoneType' object has no attribute 'GetSize'\n2021-03-03 14:45:47,973 DEBUG input shape, crop_and_pad: (36, 15, 117, 117)\n2021-03-03 14:45:47,973 DEBUG target shape, crop_and_pad: [36  8 64 64]\n2021-03-03 14:45:47,975 DEBUG input shape, crop_and_pad: (36, 5)\n2021-03-03 14:45:47,976 DEBUG target shape, crop_and_pad: [36  5]\n"
        },
        {
         "data": {
          "image/png": "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\n",
          "text/plain": "<Figure size 432x288 with 1 Axes>"
         },
         "metadata": {
          "needs_background": "light"
         },
         "output_type": "display_data"
        },
        {
         "name": "stderr",
         "output_type": "stream",
         "text": "2021-03-03 14:45:48,036 DEBUG input shape, crop_and_pad: (36, 5)\n2021-03-03 14:45:48,036 DEBUG target shape, crop_and_pad: [36  5]\n2021-03-03 14:45:48,042 DEBUG background: \n[[5.39911274e-01 4.56569224e-02 0.00000000e+00 0.00000000e+00\n  1.33830625e-03]\n [4.43186162e-02 5.39911274e-01 0.00000000e+00 0.00000000e+00\n  0.00000000e+00]\n [1.33830625e-03 2.41971446e+00 0.00000000e+00 0.00000000e+00\n  0.00000000e+00]\n [0.00000000e+00 3.98943469e+00 0.00000000e+00 0.00000000e+00\n  0.00000000e+00]\n [0.00000000e+00 2.41971446e+00 1.33830625e-03 0.00000000e+00\n  0.00000000e+00]\n [0.00000000e+00 5.39911274e-01 4.43186162e-02 0.00000000e+00\n  0.00000000e+00]\n [0.00000000e+00 4.43186162e-02 5.39911274e-01 0.00000000e+00\n  0.00000000e+00]\n [0.00000000e+00 1.33830625e-03 2.41971446e+00 0.00000000e+00\n  0.00000000e+00]\n [0.00000000e+00 0.00000000e+00 3.98943469e+00 1.33830625e-03\n  0.00000000e+00]\n [0.00000000e+00 0.00000000e+00 2.41971446e+00 4.43186162e-02\n  0.00000000e+00]\n [0.00000000e+00 0.00000000e+00 5.39911274e-01 5.39911274e-01\n  1.33830625e-03]\n [0.00000000e+00 0.00000000e+00 4.43186162e-02 2.41971446e+00\n  4.43186162e-02]\n [1.33830625e-03 0.00000000e+00 1.33830625e-03 3.98943469e+00\n  5.39911274e-01]\n [4.43186162e-02 0.00000000e+00 0.00000000e+00 2.41971446e+00\n  2.41971446e+00]\n [5.39911274e-01 0.00000000e+00 0.00000000e+00 5.39911274e-01\n  3.98943469e+00]\n [2.41971446e+00 0.00000000e+00 0.00000000e+00 4.43186162e-02\n  2.41971446e+00]\n [3.98943469e+00 0.00000000e+00 0.00000000e+00 1.33830625e-03\n  5.39911274e-01]\n [2.41971446e+00 1.33830625e-03 0.00000000e+00 0.00000000e+00\n  4.43186162e-02]\n [5.39911274e-01 4.43186162e-02 0.00000000e+00 0.00000000e+00\n  1.33830625e-03]\n [4.43186162e-02 5.39911274e-01 0.00000000e+00 0.00000000e+00\n  0.00000000e+00]\n [1.33830625e-03 2.41971446e+00 0.00000000e+00 0.00000000e+00\n  0.00000000e+00]\n [0.00000000e+00 3.98943469e+00 0.00000000e+00 0.00000000e+00\n  0.00000000e+00]\n [0.00000000e+00 2.41971446e+00 1.33830625e-03 0.00000000e+00\n  0.00000000e+00]\n [0.00000000e+00 5.39911274e-01 4.43186162e-02 0.00000000e+00\n  0.00000000e+00]\n [0.00000000e+00 4.43186162e-02 5.39911274e-01 0.00000000e+00\n  0.00000000e+00]\n [0.00000000e+00 1.33830625e-03 2.41971446e+00 0.00000000e+00\n  0.00000000e+00]\n [0.00000000e+00 0.00000000e+00 3.98943469e+00 1.33830625e-03\n  0.00000000e+00]\n [0.00000000e+00 0.00000000e+00 2.41971446e+00 4.43186162e-02\n  0.00000000e+00]\n [0.00000000e+00 0.00000000e+00 5.39911274e-01 5.39911274e-01\n  1.33830625e-03]\n [0.00000000e+00 0.00000000e+00 4.43186162e-02 2.41971446e+00\n  4.43186162e-02]\n [1.33830625e-03 0.00000000e+00 1.33830625e-03 3.98943469e+00\n  5.39911274e-01]\n [4.43186162e-02 0.00000000e+00 0.00000000e+00 2.41971446e+00\n  2.41971446e+00]\n [5.39911274e-01 0.00000000e+00 0.00000000e+00 5.39911274e-01\n  3.98943469e+00]\n [2.42105276e+00 0.00000000e+00 0.00000000e+00 4.43186162e-02\n  2.41971446e+00]\n [4.03375331e+00 0.00000000e+00 0.00000000e+00 1.33830625e-03\n  5.39911274e-01]\n [2.95962573e+00 1.33830625e-03 0.00000000e+00 0.00000000e+00\n  4.56569224e-02]]\n2021-03-03 14:45:48,043 DEBUG normalised (sum phases per timestep == 1): \n[[5.39911274e-01 4.56569224e-02 0.00000000e+00 0.00000000e+00\n  1.33830625e-03]\n [4.43186162e-02 5.39911274e-01 0.00000000e+00 0.00000000e+00\n  0.00000000e+00]\n [1.33830625e-03 2.41971446e+00 0.00000000e+00 0.00000000e+00\n  0.00000000e+00]\n [0.00000000e+00 3.98943469e+00 0.00000000e+00 0.00000000e+00\n  0.00000000e+00]\n [0.00000000e+00 2.41971446e+00 1.33830625e-03 0.00000000e+00\n  0.00000000e+00]\n [0.00000000e+00 5.39911274e-01 4.43186162e-02 0.00000000e+00\n  0.00000000e+00]\n [0.00000000e+00 4.43186162e-02 5.39911274e-01 0.00000000e+00\n  0.00000000e+00]\n [0.00000000e+00 1.33830625e-03 2.41971446e+00 0.00000000e+00\n  0.00000000e+00]\n [0.00000000e+00 0.00000000e+00 3.98943469e+00 1.33830625e-03\n  0.00000000e+00]\n [0.00000000e+00 0.00000000e+00 2.41971446e+00 4.43186162e-02\n  0.00000000e+00]\n [0.00000000e+00 0.00000000e+00 5.39911274e-01 5.39911274e-01\n  1.33830625e-03]\n [0.00000000e+00 0.00000000e+00 4.43186162e-02 2.41971446e+00\n  4.43186162e-02]\n [1.33830625e-03 0.00000000e+00 1.33830625e-03 3.98943469e+00\n  5.39911274e-01]\n [4.43186162e-02 0.00000000e+00 0.00000000e+00 2.41971446e+00\n  2.41971446e+00]\n [5.39911274e-01 0.00000000e+00 0.00000000e+00 5.39911274e-01\n  3.98943469e+00]\n [2.41971446e+00 0.00000000e+00 0.00000000e+00 4.43186162e-02\n  2.41971446e+00]\n [3.98943469e+00 0.00000000e+00 0.00000000e+00 1.33830625e-03\n  5.39911274e-01]\n [2.41971446e+00 1.33830625e-03 0.00000000e+00 0.00000000e+00\n  4.43186162e-02]\n [5.39911274e-01 4.43186162e-02 0.00000000e+00 0.00000000e+00\n  1.33830625e-03]\n [4.43186162e-02 5.39911274e-01 0.00000000e+00 0.00000000e+00\n  0.00000000e+00]\n [1.33830625e-03 2.41971446e+00 0.00000000e+00 0.00000000e+00\n  0.00000000e+00]\n [0.00000000e+00 3.98943469e+00 0.00000000e+00 0.00000000e+00\n  0.00000000e+00]\n [0.00000000e+00 2.41971446e+00 1.33830625e-03 0.00000000e+00\n  0.00000000e+00]\n [0.00000000e+00 5.39911274e-01 4.43186162e-02 0.00000000e+00\n  0.00000000e+00]\n [0.00000000e+00 4.43186162e-02 5.39911274e-01 0.00000000e+00\n  0.00000000e+00]\n [0.00000000e+00 1.33830625e-03 2.41971446e+00 0.00000000e+00\n  0.00000000e+00]\n [0.00000000e+00 0.00000000e+00 3.98943469e+00 1.33830625e-03\n  0.00000000e+00]\n [0.00000000e+00 0.00000000e+00 2.41971446e+00 4.43186162e-02\n  0.00000000e+00]\n [0.00000000e+00 0.00000000e+00 5.39911274e-01 5.39911274e-01\n  1.33830625e-03]\n [0.00000000e+00 0.00000000e+00 4.43186162e-02 2.41971446e+00\n  4.43186162e-02]\n [1.33830625e-03 0.00000000e+00 1.33830625e-03 3.98943469e+00\n  5.39911274e-01]\n [4.43186162e-02 0.00000000e+00 0.00000000e+00 2.41971446e+00\n  2.41971446e+00]\n [5.39911274e-01 0.00000000e+00 0.00000000e+00 5.39911274e-01\n  3.98943469e+00]\n [2.42105276e+00 0.00000000e+00 0.00000000e+00 4.43186162e-02\n  2.41971446e+00]\n [4.03375331e+00 0.00000000e+00 0.00000000e+00 1.33830625e-03\n  5.39911274e-01]\n [2.95962573e+00 1.33830625e-03 0.00000000e+00 0.00000000e+00\n  4.56569224e-02]]\n2021-03-03 14:45:48,044 DEBUG clipped cropped and pad:\n2021-03-03 14:45:48,044 DEBUG 0.094 s\n2021-03-03 14:45:48,045 INFO size: (64, 64, 8)\n2021-03-03 14:45:48,045 INFO spacing: (1.0, 1.0, 1.0)\n2021-03-03 14:45:48,045 INFO origin: (0.0, 0.0, 0.0)\n2021-03-03 14:45:48,045 INFO direction: (1.0, 0.0, 0.0, 0.0, 1.0, 0.0, 0.0, 0.0, 1.0)\n2021-03-03 14:45:48,046 INFO pixel type: 32-bit float\n2021-03-03 14:45:48,046 INFO number of pixel components: 1\n2021-03-03 14:45:48,046 DEBUG plot image state failed: 'NoneType' object has no attribute 'GetSize'\n2021-03-03 14:45:48,048 DEBUG img finished after 0.619 sec.\n2021-03-03 14:45:48,049 DEBUG Batchsize: 1 preprocessing took: 0.621 sec\n2021-03-03 14:45:48,049 INFO Preprocessing took: 0.624\n"
        },
        {
         "name": "stdout",
         "output_type": "stream",
         "text": "(1, 36, 8, 64, 64, 1) (1, 2, 36, 5)\nselected batch : 104\n"
        },
        {
         "data": {
          "image/png": "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\n",
          "text/plain": "<Figure size 144x360 with 1 Axes>"
         },
         "metadata": {
          "needs_background": "light"
         },
         "output_type": "display_data"
        },
        {
         "name": "stderr",
         "output_type": "stream",
         "text": "2021-03-03 14:45:48,122 INFO GT length: 5\n2021-03-03 14:45:48,124 DEBUG pad: \n[[5.3991127e-01 4.5656923e-02 0.0000000e+00 0.0000000e+00 1.3383062e-03]\n [4.4318616e-02 5.3991127e-01 0.0000000e+00 0.0000000e+00 0.0000000e+00]\n [1.3383062e-03 2.4197145e+00 0.0000000e+00 0.0000000e+00 0.0000000e+00]\n [0.0000000e+00 3.9894347e+00 0.0000000e+00 0.0000000e+00 0.0000000e+00]\n [0.0000000e+00 2.4197145e+00 1.3383062e-03 0.0000000e+00 0.0000000e+00]\n [0.0000000e+00 5.3991127e-01 4.4318616e-02 0.0000000e+00 0.0000000e+00]\n [0.0000000e+00 4.4318616e-02 5.3991127e-01 0.0000000e+00 0.0000000e+00]\n [0.0000000e+00 1.3383062e-03 2.4197145e+00 0.0000000e+00 0.0000000e+00]\n [0.0000000e+00 0.0000000e+00 3.9894347e+00 1.3383062e-03 0.0000000e+00]\n [0.0000000e+00 0.0000000e+00 2.4197145e+00 4.4318616e-02 0.0000000e+00]\n [0.0000000e+00 0.0000000e+00 5.3991127e-01 5.3991127e-01 1.3383062e-03]\n [0.0000000e+00 0.0000000e+00 4.4318616e-02 2.4197145e+00 4.4318616e-02]\n [1.3383062e-03 0.0000000e+00 1.3383062e-03 3.9894347e+00 5.3991127e-01]\n [4.4318616e-02 0.0000000e+00 0.0000000e+00 2.4197145e+00 2.4197145e+00]\n [5.3991127e-01 0.0000000e+00 0.0000000e+00 5.3991127e-01 3.9894347e+00]\n [2.4197145e+00 0.0000000e+00 0.0000000e+00 4.4318616e-02 2.4197145e+00]\n [3.9894347e+00 0.0000000e+00 0.0000000e+00 1.3383062e-03 5.3991127e-01]\n [2.4197145e+00 1.3383062e-03 0.0000000e+00 0.0000000e+00 4.4318616e-02]\n [1.0000000e+00 1.0000000e+00 1.0000000e+00 1.0000000e+00 1.0000000e+00]\n [4.4318616e-02 5.3991127e-01 0.0000000e+00 0.0000000e+00 0.0000000e+00]\n [1.3383062e-03 2.4197145e+00 0.0000000e+00 0.0000000e+00 0.0000000e+00]\n [0.0000000e+00 3.9894347e+00 0.0000000e+00 0.0000000e+00 0.0000000e+00]\n [0.0000000e+00 2.4197145e+00 1.3383062e-03 0.0000000e+00 0.0000000e+00]\n [0.0000000e+00 5.3991127e-01 4.4318616e-02 0.0000000e+00 0.0000000e+00]\n [0.0000000e+00 4.4318616e-02 5.3991127e-01 0.0000000e+00 0.0000000e+00]\n [0.0000000e+00 1.3383062e-03 2.4197145e+00 0.0000000e+00 0.0000000e+00]\n [0.0000000e+00 0.0000000e+00 3.9894347e+00 1.3383062e-03 0.0000000e+00]\n [0.0000000e+00 0.0000000e+00 2.4197145e+00 4.4318616e-02 0.0000000e+00]\n [0.0000000e+00 0.0000000e+00 5.3991127e-01 5.3991127e-01 1.3383062e-03]\n [0.0000000e+00 0.0000000e+00 4.4318616e-02 2.4197145e+00 4.4318616e-02]\n [1.3383062e-03 0.0000000e+00 1.3383062e-03 3.9894347e+00 5.3991127e-01]\n [4.4318616e-02 0.0000000e+00 0.0000000e+00 2.4197145e+00 2.4197145e+00]\n [5.3991127e-01 0.0000000e+00 0.0000000e+00 5.3991127e-01 3.9894347e+00]\n [2.4210527e+00 0.0000000e+00 0.0000000e+00 4.4318616e-02 2.4197145e+00]\n [4.0337534e+00 0.0000000e+00 0.0000000e+00 1.3383062e-03 5.3991127e-01]\n [2.9596257e+00 1.3383062e-03 0.0000000e+00 0.0000000e+00 4.5656923e-02]]\n"
        }
       ]
      }
     },
     "964df07d331a439984142faf8a7e49b4": {
      "model_module": "@jupyter-widgets/controls",
      "model_module_version": "1.5.0",
      "model_name": "ButtonStyleModel",
      "state": {}
     },
     "976ddf08ce9b4bf0886cfa45f0942041": {
      "model_module": "@jupyter-widgets/controls",
      "model_module_version": "1.5.0",
      "model_name": "SliderStyleModel",
      "state": {
       "description_width": ""
      }
     },
     "977c6458a9eb4b0bb81cbfd37d6807c3": {
      "model_module": "@jupyter-widgets/controls",
      "model_module_version": "1.5.0",
      "model_name": "ButtonStyleModel",
      "state": {}
     },
     "97db8df22451449b80074b013af781e6": {
      "model_module": "@jupyter-widgets/base",
      "model_module_version": "1.2.0",
      "model_name": "LayoutModel",
      "state": {}
     },
     "9902162387184ee1a7dd10a4366599cc": {
      "model_module": "@jupyter-widgets/controls",
      "model_module_version": "1.5.0",
      "model_name": "IntSliderModel",
      "state": {
       "description": "batch",
       "layout": "IPY_MODEL_4d91ac7b28614f0c807024990606033b",
       "max": 209,
       "style": "IPY_MODEL_0b7528898d23487f9ad52a9a6f693c52",
       "value": 104
      }
     },
     "99217ea8931e4594a9d7dacf1777f98e": {
      "model_module": "@jupyter-widgets/controls",
      "model_module_version": "1.5.0",
      "model_name": "IntSliderModel",
      "state": {
       "description": "slice_n",
       "layout": "IPY_MODEL_0dc7285a19ab49228f84895484479e38",
       "max": 11,
       "min": 1,
       "style": "IPY_MODEL_976ddf08ce9b4bf0886cfa45f0942041",
       "value": 6
      }
     },
     "99524ba10ea74336b21f02e0c6c618db": {
      "model_module": "@jupyter-widgets/base",
      "model_module_version": "1.2.0",
      "model_name": "LayoutModel",
      "state": {}
     },
     "9d5d880da349450a974549ac24afa1cc": {
      "model_module": "@jupyter-widgets/controls",
      "model_module_version": "1.5.0",
      "model_name": "DescriptionStyleModel",
      "state": {
       "description_width": ""
      }
     },
     "9d92b25b015a40be954255cc05dc277a": {
      "model_module": "@jupyter-widgets/controls",
      "model_module_version": "1.5.0",
      "model_name": "TextModel",
      "state": {
       "description": "filepath",
       "layout": "IPY_MODEL_c84c0099c49e41a3bd7941b518cc0c45",
       "style": "IPY_MODEL_7c2fc44456374a2f9b3efbbb3e0c5bdd",
       "value": "data/temp/"
      }
     },
     "9dd20691d88f4d04a70045f587545c13": {
      "model_module": "@jupyter-widgets/controls",
      "model_module_version": "1.5.0",
      "model_name": "ButtonModel",
      "state": {
       "description": "Run Interact",
       "layout": "IPY_MODEL_4e92070d537544d797875961e2dd6c9f",
       "style": "IPY_MODEL_964df07d331a439984142faf8a7e49b4"
      }
     },
     "9e17ee3eb8864da7b307ab080eba69fd": {
      "model_module": "@jupyter-widgets/base",
      "model_module_version": "1.2.0",
      "model_name": "LayoutModel",
      "state": {}
     },
     "9eadbad8bc2c453ba1987f4d0a91d146": {
      "model_module": "@jupyter-widgets/controls",
      "model_module_version": "1.5.0",
      "model_name": "DescriptionStyleModel",
      "state": {
       "description_width": ""
      }
     },
     "9ecbeedeafe040beb9abb1f8db0813d5": {
      "model_module": "@jupyter-widgets/controls",
      "model_module_version": "1.5.0",
      "model_name": "DescriptionStyleModel",
      "state": {
       "description_width": ""
      }
     },
     "9f0baba55ea34ce0aee425a14c458193": {
      "model_module": "@jupyter-widgets/controls",
      "model_module_version": "1.5.0",
      "model_name": "IntSliderModel",
      "state": {
       "description": "im",
       "layout": "IPY_MODEL_5f3b1481d3c3491589a125b847cc3bb2",
       "max": 0,
       "style": "IPY_MODEL_80dac1ec845d482c9b1dba8ff96b8f58"
      }
     },
     "9f9ca8bb3fd649cca00f8a049062cc17": {
      "model_module": "@jupyter-widgets/controls",
      "model_module_version": "1.5.0",
      "model_name": "DescriptionStyleModel",
      "state": {
       "description_width": ""
      }
     },
     "a18c0f0fa7fc406380d09862c41514ef": {
      "model_module": "@jupyter-widgets/base",
      "model_module_version": "1.2.0",
      "model_name": "LayoutModel",
      "state": {}
     },
     "a2028e21bdf241689a72a0370be95f2f": {
      "model_module": "@jupyter-widgets/controls",
      "model_module_version": "1.5.0",
      "model_name": "SliderStyleModel",
      "state": {
       "description_width": ""
      }
     },
     "a4fc61b1eb934c26ad7c8eb5928c3a04": {
      "model_module": "@jupyter-widgets/base",
      "model_module_version": "1.2.0",
      "model_name": "LayoutModel",
      "state": {}
     },
     "aadace0a25ce439bb19b4f8f190dd939": {
      "model_module": "@jupyter-widgets/controls",
      "model_module_version": "1.5.0",
      "model_name": "IntSliderModel",
      "state": {
       "description": "batch",
       "layout": "IPY_MODEL_3f08c86f8ac248599d218954fe5d2e99",
       "max": 209,
       "style": "IPY_MODEL_51ec8bb0cc3d47c99b27a7d92967370f",
       "value": 104
      }
     },
     "adbcc4d6b7ae45c69253275530bb5f50": {
      "model_module": "@jupyter-widgets/controls",
      "model_module_version": "1.5.0",
      "model_name": "VBoxModel",
      "state": {
       "_dom_classes": [
        "widget-interact"
       ],
       "children": [
        "IPY_MODEL_dd3dff2cbec84141baa16d26007b5213",
        "IPY_MODEL_85736ea5e81e4cc6a7535736e0ab9a54",
        "IPY_MODEL_99217ea8931e4594a9d7dacf1777f98e",
        "IPY_MODEL_7193ea33bc374512a20b10553b601332",
        "IPY_MODEL_bba9ae1f72874979929d3897d8e5d7c1",
        "IPY_MODEL_4f4441968bf04d6ca7b1873363f14274",
        "IPY_MODEL_20d49d525a0747fcb7a291d9b43c464f",
        "IPY_MODEL_cad6bc2b8510427e91d87ddfd0726271",
        "IPY_MODEL_4c11bf9d69a94da0a73d97d750e05557",
        "IPY_MODEL_bf5981a41023468bba1cca50c81c6336"
       ],
       "layout": "IPY_MODEL_40fe93567f284938a7bc3d2f2dacbf7b"
      }
     },
     "af83bc2da58c474482a8e05454109777": {
      "model_module": "@jupyter-widgets/controls",
      "model_module_version": "1.5.0",
      "model_name": "TextModel",
      "state": {
       "description": "filename",
       "layout": "IPY_MODEL_2125fc66836a409ab3a4fc0ba6cae699",
       "style": "IPY_MODEL_460f794e01ce41f5bc50ce45ddb85733",
       "value": "temp_x.npy"
      }
     },
     "b0cc7f3018e648cca51f289bbcbccf7a": {
      "model_module": "@jupyter-widgets/base",
      "model_module_version": "1.2.0",
      "model_name": "LayoutModel",
      "state": {}
     },
     "b0d890846c5d47799ee39aed0cc899b5": {
      "model_module": "@jupyter-widgets/controls",
      "model_module_version": "1.5.0",
      "model_name": "DescriptionStyleModel",
      "state": {
       "description_width": ""
      }
     },
     "b121a10f5dca4490b4898b9d2e220d59": {
      "model_module": "@jupyter-widgets/base",
      "model_module_version": "1.2.0",
      "model_name": "LayoutModel",
      "state": {}
     },
     "b855b6d57327436c860e1d7eebcd2701": {
      "model_module": "@jupyter-widgets/controls",
      "model_module_version": "1.5.0",
      "model_name": "ButtonModel",
      "state": {
       "description": "Run Interact",
       "layout": "IPY_MODEL_356037bd57e44e1a84c1311d6688ba9c",
       "style": "IPY_MODEL_d32724fb82cb4962b5a2e6792702aea5"
      }
     },
     "b880aa13fcd14e809e717813b7f27b0f": {
      "model_module": "@jupyter-widgets/base",
      "model_module_version": "1.2.0",
      "model_name": "LayoutModel",
      "state": {}
     },
     "b8ed06c2dd904bfa9e8b5c82c97b344b": {
      "model_module": "@jupyter-widgets/controls",
      "model_module_version": "1.5.0",
      "model_name": "SliderStyleModel",
      "state": {
       "description_width": ""
      }
     },
     "b92fcdc16be54d82b51db52020597ffb": {
      "model_module": "@jupyter-widgets/output",
      "model_module_version": "1.0.0",
      "model_name": "OutputModel",
      "state": {
       "layout": "IPY_MODEL_0fc5245859a948c79ef04894099c2aa2",
       "outputs": [
        {
         "data": {
          "text/html": "<div>\n<style scoped>\n    .dataframe tbody tr th:only-of-type {\n        vertical-align: middle;\n    }\n\n    .dataframe tbody tr th {\n        vertical-align: top;\n    }\n\n    .dataframe thead th {\n        text-align: right;\n    }\n</style>\n<table border=\"1\" class=\"dataframe\">\n  <thead>\n    <tr style=\"text-align: right;\">\n      <th></th>\n      <th>patient</th>\n      <th>ED#</th>\n      <th>MS#</th>\n      <th>ES#</th>\n      <th>PF#</th>\n      <th>MD#</th>\n    </tr>\n  </thead>\n  <tbody>\n    <tr>\n      <th>0</th>\n      <td>02Z1L14N</td>\n      <td>14.0</td>\n      <td>3.0</td>\n      <td>6.0</td>\n      <td>8.0</td>\n      <td>12.0</td>\n    </tr>\n    <tr>\n      <th>1</th>\n      <td>02Z1L14N</td>\n      <td>14.0</td>\n      <td>3.0</td>\n      <td>6.0</td>\n      <td>8.0</td>\n      <td>12.0</td>\n    </tr>\n    <tr>\n      <th>2</th>\n      <td>02Z1L14N</td>\n      <td>14.0</td>\n      <td>3.0</td>\n      <td>6.0</td>\n      <td>8.0</td>\n      <td>12.0</td>\n    </tr>\n    <tr>\n      <th>3</th>\n      <td>02Z1L14N</td>\n      <td>14.0</td>\n      <td>3.0</td>\n      <td>6.0</td>\n      <td>8.0</td>\n      <td>12.0</td>\n    </tr>\n    <tr>\n      <th>4</th>\n      <td>02Z1L14N</td>\n      <td>14.0</td>\n      <td>3.0</td>\n      <td>6.0</td>\n      <td>8.0</td>\n      <td>12.0</td>\n    </tr>\n    <tr>\n      <th>...</th>\n      <td>...</td>\n      <td>...</td>\n      <td>...</td>\n      <td>...</td>\n      <td>...</td>\n      <td>...</td>\n    </tr>\n    <tr>\n      <th>1385</th>\n      <td>ZZQ0001Q</td>\n      <td>1.0</td>\n      <td>5.0</td>\n      <td>10.0</td>\n      <td>14.0</td>\n      <td>19.0</td>\n    </tr>\n    <tr>\n      <th>1386</th>\n      <td>ZZQ0001Q</td>\n      <td>1.0</td>\n      <td>5.0</td>\n      <td>10.0</td>\n      <td>14.0</td>\n      <td>19.0</td>\n    </tr>\n    <tr>\n      <th>1387</th>\n      <td>ZZQ0001Q</td>\n      <td>1.0</td>\n      <td>5.0</td>\n      <td>10.0</td>\n      <td>14.0</td>\n      <td>19.0</td>\n    </tr>\n    <tr>\n      <th>1388</th>\n      <td>ZZQ0001Q</td>\n      <td>1.0</td>\n      <td>5.0</td>\n      <td>10.0</td>\n      <td>14.0</td>\n      <td>19.0</td>\n    </tr>\n    <tr>\n      <th>1389</th>\n      <td>ZZQ0001Q</td>\n      <td>1.0</td>\n      <td>5.0</td>\n      <td>10.0</td>\n      <td>14.0</td>\n      <td>19.0</td>\n    </tr>\n  </tbody>\n</table>\n<p>1390 rows × 6 columns</p>\n</div>",
          "text/plain": "       patient   ED#  MS#   ES#   PF#   MD#\n0     02Z1L14N  14.0  3.0   6.0   8.0  12.0\n1     02Z1L14N  14.0  3.0   6.0   8.0  12.0\n2     02Z1L14N  14.0  3.0   6.0   8.0  12.0\n3     02Z1L14N  14.0  3.0   6.0   8.0  12.0\n4     02Z1L14N  14.0  3.0   6.0   8.0  12.0\n...        ...   ...  ...   ...   ...   ...\n1385  ZZQ0001Q   1.0  5.0  10.0  14.0  19.0\n1386  ZZQ0001Q   1.0  5.0  10.0  14.0  19.0\n1387  ZZQ0001Q   1.0  5.0  10.0  14.0  19.0\n1388  ZZQ0001Q   1.0  5.0  10.0  14.0  19.0\n1389  ZZQ0001Q   1.0  5.0  10.0  14.0  19.0\n\n[1390 rows x 6 columns]"
         },
         "metadata": {},
         "output_type": "display_data"
        }
       ]
      }
     },
     "b9426b8675494053942a1591ba3015c3": {
      "model_module": "@jupyter-widgets/controls",
      "model_module_version": "1.5.0",
      "model_name": "SliderStyleModel",
      "state": {
       "description_width": ""
      }
     },
     "b96228f55d72425e813ad7069c53b773": {
      "model_module": "@jupyter-widgets/controls",
      "model_module_version": "1.5.0",
      "model_name": "VBoxModel",
      "state": {
       "_dom_classes": [
        "widget-interact"
       ],
       "children": [
        "IPY_MODEL_aadace0a25ce439bb19b4f8f190dd939",
        "IPY_MODEL_b99fb15dd13c4ac386ce4ca7118c7d32",
        "IPY_MODEL_30b26d47744849ba8c96a175897c750f",
        "IPY_MODEL_82d336bbc0f24d1ebafb0514ae9ca608",
        "IPY_MODEL_eedea0fa55d64c068e9d5bd5537f4dde",
        "IPY_MODEL_24b67f30cefe470e9bb69f972d82f551",
        "IPY_MODEL_dd8c833d4c2f4b48af53b57186448996",
        "IPY_MODEL_be98790bd4a74de5bef5051a43129ce0",
        "IPY_MODEL_d00566babad74fc1b35b3bd7b46bfe16",
        "IPY_MODEL_e1e661a74a734cbd88de8ecb2aa8277b"
       ],
       "layout": "IPY_MODEL_37f0c17369494a0ebfa53ab73d91af11"
      }
     },
     "b99fb15dd13c4ac386ce4ca7118c7d32": {
      "model_module": "@jupyter-widgets/controls",
      "model_module_version": "1.5.0",
      "model_name": "IntSliderModel",
      "state": {
       "description": "im",
       "layout": "IPY_MODEL_c2fde67ef9cd4e30a7875247af4eda25",
       "max": 0,
       "style": "IPY_MODEL_93647c12614b423d9c3ac7916a809bd5"
      }
     },
     "bba9ae1f72874979929d3897d8e5d7c1": {
      "model_module": "@jupyter-widgets/controls",
      "model_module_version": "1.5.0",
      "model_name": "TextModel",
      "state": {
       "description": "filepath",
       "layout": "IPY_MODEL_86e361eb323d423098063f692010bca4",
       "style": "IPY_MODEL_b0d890846c5d47799ee39aed0cc899b5",
       "value": "data/temp/"
      }
     },
     "bc235cc5b38c4d568a89fb2e679c819c": {
      "model_module": "@jupyter-widgets/base",
      "model_module_version": "1.2.0",
      "model_name": "LayoutModel",
      "state": {}
     },
     "bc5aab03bec84fecbd8f52cc7a24fb89": {
      "model_module": "@jupyter-widgets/output",
      "model_module_version": "1.0.0",
      "model_name": "OutputModel",
      "state": {
       "layout": "IPY_MODEL_3c7815d4dcee46bb95a61b4338139bb4",
       "outputs": [
        {
         "name": "stderr",
         "output_type": "stream",
         "text": "2021-03-03 14:41:55,772 DEBUG index generation: 3.695487976074219e-05\n2021-03-03 14:41:55,862 DEBUG Metadata_copied: 0.001s\n2021-03-03 14:41:55,863 DEBUG spatial data_copied: 0.002s\n2021-03-03 14:41:55,864 DEBUG Metadata_copied: 0.001s\n2021-03-03 14:41:55,864 DEBUG spatial data_copied: 0.001s\n2021-03-03 14:41:55,866 DEBUG Metadata_copied: 0.001s\n2021-03-03 14:41:55,866 DEBUG spatial data_copied: 0.002s\n2021-03-03 14:41:55,868 DEBUG Metadata_copied: 0.001s\n2021-03-03 14:41:55,868 DEBUG spatial data_copied: 0.002s\n2021-03-03 14:41:55,869 DEBUG Metadata_copied: 0.001s\n2021-03-03 14:41:55,870 DEBUG spatial data_copied: 0.001s\n2021-03-03 14:41:55,871 DEBUG Metadata_copied: 0.001s\n2021-03-03 14:41:55,871 DEBUG spatial data_copied: 0.001s\n2021-03-03 14:41:55,873 DEBUG Metadata_copied: 0.001s\n2021-03-03 14:41:55,873 DEBUG spatial data_copied: 0.001s\n2021-03-03 14:41:55,874 DEBUG Metadata_copied: 0.001s\n2021-03-03 14:41:55,875 DEBUG spatial data_copied: 0.001s\n2021-03-03 14:41:55,876 DEBUG Metadata_copied: 0.001s\n2021-03-03 14:41:55,877 DEBUG spatial data_copied: 0.002s\n2021-03-03 14:41:55,879 DEBUG Metadata_copied: 0.002s\n2021-03-03 14:41:55,880 DEBUG spatial data_copied: 0.003s\n2021-03-03 14:41:55,882 DEBUG Metadata_copied: 0.002s\n2021-03-03 14:41:55,883 DEBUG spatial data_copied: 0.003s\n2021-03-03 14:41:55,886 DEBUG Metadata_copied: 0.002s\n2021-03-03 14:41:55,886 DEBUG spatial data_copied: 0.003s\n2021-03-03 14:41:55,889 DEBUG Metadata_copied: 0.003s\n2021-03-03 14:41:55,890 DEBUG spatial data_copied: 0.003s\n2021-03-03 14:41:55,892 DEBUG Metadata_copied: 0.002s\n2021-03-03 14:41:55,892 DEBUG spatial data_copied: 0.002s\n2021-03-03 14:41:55,894 DEBUG Metadata_copied: 0.002s\n2021-03-03 14:41:55,895 DEBUG spatial data_copied: 0.003s\n2021-03-03 14:41:55,897 DEBUG Metadata_copied: 0.002s\n2021-03-03 14:41:55,898 DEBUG spatial data_copied: 0.003s\n2021-03-03 14:41:55,900 DEBUG Metadata_copied: 0.002s\n2021-03-03 14:41:55,900 DEBUG spatial data_copied: 0.002s\n2021-03-03 14:41:55,902 DEBUG Metadata_copied: 0.002s\n2021-03-03 14:41:55,903 DEBUG spatial data_copied: 0.002s\n2021-03-03 14:41:55,905 DEBUG Metadata_copied: 0.002s\n2021-03-03 14:41:55,905 DEBUG spatial data_copied: 0.002s\n2021-03-03 14:41:55,907 DEBUG Metadata_copied: 0.002s\n2021-03-03 14:41:55,907 DEBUG spatial data_copied: 0.002s\n2021-03-03 14:41:55,909 DEBUG Metadata_copied: 0.002s\n2021-03-03 14:41:55,910 DEBUG spatial data_copied: 0.002s\n2021-03-03 14:41:55,912 DEBUG Metadata_copied: 0.002s\n2021-03-03 14:41:55,912 DEBUG spatial data_copied: 0.002s\n2021-03-03 14:41:55,914 DEBUG Metadata_copied: 0.002s\n2021-03-03 14:41:55,915 DEBUG spatial data_copied: 0.002s\n2021-03-03 14:41:55,916 DEBUG Metadata_copied: 0.001s\n2021-03-03 14:41:55,917 DEBUG spatial data_copied: 0.002s\n2021-03-03 14:41:55,919 DEBUG Metadata_copied: 0.002s\n2021-03-03 14:41:55,919 DEBUG spatial data_copied: 0.002s\n"
        },
        {
         "data": {
          "image/png": "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\n",
          "text/plain": "<Figure size 432x288 with 1 Axes>"
         },
         "metadata": {
          "needs_background": "light"
         },
         "output_type": "display_data"
        },
        {
         "name": "stderr",
         "output_type": "stream",
         "text": "2021-03-03 14:41:55,981 DEBUG 2\n2021-03-03 14:41:56,038 DEBUG one-hot: \n[[ 0.  0.  0.  0.  0.  0.  0.  0.  0.  0.  0.  0.  0.  0.  0.  0.  0.  0.\n   0.  0.  0.  0. 10.  0.  0.  0.  0.  0.  0.  0.  0.  0.  0.  0.  0.  0.\n   0.  0.  0.  0.  0.  0.  0.  0.  0.  0.  0. 10.  0.  0.  0.  0.  0.  0.\n   0.  0.  0.  0.  0.  0.  0.  0.  0.  0.  0.  0.  0.  0.  0.  0.  0.  0.\n  10.  0.  0.  0.  0.  0.  0.  0.  0.  0.  0.  0.  0.  0.  0.  0.  0.  0.\n   0.  0.  0.  0.  0.  0.  0. 10.  0.  0.]\n [ 0. 10.  0.  0.  0.  0.  0.  0.  0.  0.  0.  0.  0.  0.  0.  0.  0.  0.\n   0.  0.  0.  0.  0.  0.  0.  0. 10.  0.  0.  0.  0.  0.  0.  0.  0.  0.\n   0.  0.  0.  0.  0.  0.  0.  0.  0.  0.  0.  0.  0.  0.  0. 10.  0.  0.\n   0.  0.  0.  0.  0.  0.  0.  0.  0.  0.  0.  0.  0.  0.  0.  0.  0.  0.\n   0.  0.  0.  0. 10.  0.  0.  0.  0.  0.  0.  0.  0.  0.  0.  0.  0.  0.\n   0.  0.  0.  0.  0.  0.  0.  0.  0.  0.]\n [ 0.  0.  0.  0.  0. 10.  0.  0.  0.  0.  0.  0.  0.  0.  0.  0.  0.  0.\n   0.  0.  0.  0.  0.  0.  0.  0.  0.  0.  0.  0. 10.  0.  0.  0.  0.  0.\n   0.  0.  0.  0.  0.  0.  0.  0.  0.  0.  0.  0.  0.  0.  0.  0.  0.  0.\n   0. 10.  0.  0.  0.  0.  0.  0.  0.  0.  0.  0.  0.  0.  0.  0.  0.  0.\n   0.  0.  0.  0.  0.  0.  0.  0. 10.  0.  0.  0.  0.  0.  0.  0.  0.  0.\n   0.  0.  0.  0.  0.  0.  0.  0.  0.  0.]\n [ 0.  0.  0.  0.  0.  0.  0.  0.  0. 10.  0.  0.  0.  0.  0.  0.  0.  0.\n   0.  0.  0.  0.  0.  0.  0.  0.  0.  0.  0.  0.  0.  0.  0.  0. 10.  0.\n   0.  0.  0.  0.  0.  0.  0.  0.  0.  0.  0.  0.  0.  0.  0.  0.  0.  0.\n   0.  0.  0.  0.  0. 10.  0.  0.  0.  0.  0.  0.  0.  0.  0.  0.  0.  0.\n   0.  0.  0.  0.  0.  0.  0.  0.  0.  0.  0.  0. 10.  0.  0.  0.  0.  0.\n   0.  0.  0.  0.  0.  0.  0.  0.  0.  0.]\n [ 0.  0.  0.  0.  0.  0.  0.  0.  0.  0.  0.  0.  0.  0.  0.  0.  0.  0.\n   0. 10.  0.  0.  0.  0.  0.  0.  0.  0.  0.  0.  0.  0.  0.  0.  0.  0.\n   0.  0.  0.  0.  0.  0.  0.  0. 10.  0.  0.  0.  0.  0.  0.  0.  0.  0.\n   0.  0.  0.  0.  0.  0.  0.  0.  0.  0.  0.  0.  0.  0.  0. 10.  0.  0.\n   0.  0.  0.  0.  0.  0.  0.  0.  0.  0.  0.  0.  0.  0.  0.  0.  0.  0.\n   0.  0.  0.  0. 10.  0.  0.  0.  0.  0.]]\n2021-03-03 14:41:56,040 DEBUG smoothed:\n[[0.00000000e+00 0.00000000e+00 0.00000000e+00 0.00000000e+00\n  0.00000000e+00 0.00000000e+00 0.00000000e+00 0.00000000e+00\n  0.00000000e+00 0.00000000e+00 0.00000000e+00 0.00000000e+00\n  0.00000000e+00 0.00000000e+00 0.00000000e+00 0.00000000e+00\n  0.00000000e+00 0.00000000e+00 1.33830625e-03 4.43186162e-02\n  5.39911274e-01 2.41971446e+00 3.98943469e+00 2.41971446e+00\n  5.39911274e-01 4.43186162e-02 1.33830625e-03 0.00000000e+00\n  0.00000000e+00 0.00000000e+00 0.00000000e+00 0.00000000e+00\n  0.00000000e+00 0.00000000e+00 0.00000000e+00 0.00000000e+00\n  0.00000000e+00 0.00000000e+00 0.00000000e+00 0.00000000e+00\n  0.00000000e+00 0.00000000e+00 0.00000000e+00 1.33830625e-03\n  4.43186162e-02 5.39911274e-01 2.41971446e+00 3.98943469e+00\n  2.41971446e+00 5.39911274e-01 4.43186162e-02 1.33830625e-03\n  0.00000000e+00 0.00000000e+00 0.00000000e+00 0.00000000e+00\n  0.00000000e+00 0.00000000e+00 0.00000000e+00 0.00000000e+00\n  0.00000000e+00 0.00000000e+00 0.00000000e+00 0.00000000e+00\n  0.00000000e+00 0.00000000e+00 0.00000000e+00 0.00000000e+00\n  1.33830625e-03 4.43186162e-02 5.39911274e-01 2.41971446e+00\n  3.98943469e+00 2.41971446e+00 5.39911274e-01 4.43186162e-02\n  1.33830625e-03 0.00000000e+00 0.00000000e+00 0.00000000e+00\n  0.00000000e+00 0.00000000e+00 0.00000000e+00 0.00000000e+00\n  0.00000000e+00 0.00000000e+00 0.00000000e+00 0.00000000e+00\n  0.00000000e+00 0.00000000e+00 0.00000000e+00 0.00000000e+00\n  0.00000000e+00 1.33830625e-03 4.43186162e-02 5.39911274e-01\n  2.41971446e+00 3.98943469e+00 2.42105276e+00 5.84229890e-01]\n [2.95962573e+00 4.03375331e+00 2.42105276e+00 5.39911274e-01\n  4.43186162e-02 1.33830625e-03 0.00000000e+00 0.00000000e+00\n  0.00000000e+00 0.00000000e+00 0.00000000e+00 0.00000000e+00\n  0.00000000e+00 0.00000000e+00 0.00000000e+00 0.00000000e+00\n  0.00000000e+00 0.00000000e+00 0.00000000e+00 0.00000000e+00\n  0.00000000e+00 0.00000000e+00 1.33830625e-03 4.43186162e-02\n  5.39911274e-01 2.41971446e+00 3.98943469e+00 2.41971446e+00\n  5.39911274e-01 4.43186162e-02 1.33830625e-03 0.00000000e+00\n  0.00000000e+00 0.00000000e+00 0.00000000e+00 0.00000000e+00\n  0.00000000e+00 0.00000000e+00 0.00000000e+00 0.00000000e+00\n  0.00000000e+00 0.00000000e+00 0.00000000e+00 0.00000000e+00\n  0.00000000e+00 0.00000000e+00 0.00000000e+00 1.33830625e-03\n  4.43186162e-02 5.39911274e-01 2.41971446e+00 3.98943469e+00\n  2.41971446e+00 5.39911274e-01 4.43186162e-02 1.33830625e-03\n  0.00000000e+00 0.00000000e+00 0.00000000e+00 0.00000000e+00\n  0.00000000e+00 0.00000000e+00 0.00000000e+00 0.00000000e+00\n  0.00000000e+00 0.00000000e+00 0.00000000e+00 0.00000000e+00\n  0.00000000e+00 0.00000000e+00 0.00000000e+00 0.00000000e+00\n  1.33830625e-03 4.43186162e-02 5.39911274e-01 2.41971446e+00\n  3.98943469e+00 2.41971446e+00 5.39911274e-01 4.43186162e-02\n  1.33830625e-03 0.00000000e+00 0.00000000e+00 0.00000000e+00\n  0.00000000e+00 0.00000000e+00 0.00000000e+00 0.00000000e+00\n  0.00000000e+00 0.00000000e+00 0.00000000e+00 0.00000000e+00\n  0.00000000e+00 0.00000000e+00 0.00000000e+00 0.00000000e+00\n  0.00000000e+00 0.00000000e+00 0.00000000e+00 0.00000000e+00]\n [0.00000000e+00 1.33830625e-03 4.43186162e-02 5.39911274e-01\n  2.41971446e+00 3.98943469e+00 2.41971446e+00 5.39911274e-01\n  4.43186162e-02 1.33830625e-03 0.00000000e+00 0.00000000e+00\n  0.00000000e+00 0.00000000e+00 0.00000000e+00 0.00000000e+00\n  0.00000000e+00 0.00000000e+00 0.00000000e+00 0.00000000e+00\n  0.00000000e+00 0.00000000e+00 0.00000000e+00 0.00000000e+00\n  0.00000000e+00 0.00000000e+00 1.33830625e-03 4.43186162e-02\n  5.39911274e-01 2.41971446e+00 3.98943469e+00 2.41971446e+00\n  5.39911274e-01 4.43186162e-02 1.33830625e-03 0.00000000e+00\n  0.00000000e+00 0.00000000e+00 0.00000000e+00 0.00000000e+00\n  0.00000000e+00 0.00000000e+00 0.00000000e+00 0.00000000e+00\n  0.00000000e+00 0.00000000e+00 0.00000000e+00 0.00000000e+00\n  0.00000000e+00 0.00000000e+00 0.00000000e+00 1.33830625e-03\n  4.43186162e-02 5.39911274e-01 2.41971446e+00 3.98943469e+00\n  2.41971446e+00 5.39911274e-01 4.43186162e-02 1.33830625e-03\n  0.00000000e+00 0.00000000e+00 0.00000000e+00 0.00000000e+00\n  0.00000000e+00 0.00000000e+00 0.00000000e+00 0.00000000e+00\n  0.00000000e+00 0.00000000e+00 0.00000000e+00 0.00000000e+00\n  0.00000000e+00 0.00000000e+00 0.00000000e+00 0.00000000e+00\n  1.33830625e-03 4.43186162e-02 5.39911274e-01 2.41971446e+00\n  3.98943469e+00 2.41971446e+00 5.39911274e-01 4.43186162e-02\n  1.33830625e-03 0.00000000e+00 0.00000000e+00 0.00000000e+00\n  0.00000000e+00 0.00000000e+00 0.00000000e+00 0.00000000e+00\n  0.00000000e+00 0.00000000e+00 0.00000000e+00 0.00000000e+00\n  0.00000000e+00 0.00000000e+00 0.00000000e+00 0.00000000e+00]\n [0.00000000e+00 0.00000000e+00 0.00000000e+00 0.00000000e+00\n  0.00000000e+00 1.33830625e-03 4.43186162e-02 5.39911274e-01\n  2.41971446e+00 3.98943469e+00 2.41971446e+00 5.39911274e-01\n  4.43186162e-02 1.33830625e-03 0.00000000e+00 0.00000000e+00\n  0.00000000e+00 0.00000000e+00 0.00000000e+00 0.00000000e+00\n  0.00000000e+00 0.00000000e+00 0.00000000e+00 0.00000000e+00\n  0.00000000e+00 0.00000000e+00 0.00000000e+00 0.00000000e+00\n  0.00000000e+00 0.00000000e+00 1.33830625e-03 4.43186162e-02\n  5.39911274e-01 2.41971446e+00 3.98943469e+00 2.41971446e+00\n  5.39911274e-01 4.43186162e-02 1.33830625e-03 0.00000000e+00\n  0.00000000e+00 0.00000000e+00 0.00000000e+00 0.00000000e+00\n  0.00000000e+00 0.00000000e+00 0.00000000e+00 0.00000000e+00\n  0.00000000e+00 0.00000000e+00 0.00000000e+00 0.00000000e+00\n  0.00000000e+00 0.00000000e+00 0.00000000e+00 1.33830625e-03\n  4.43186162e-02 5.39911274e-01 2.41971446e+00 3.98943469e+00\n  2.41971446e+00 5.39911274e-01 4.43186162e-02 1.33830625e-03\n  0.00000000e+00 0.00000000e+00 0.00000000e+00 0.00000000e+00\n  0.00000000e+00 0.00000000e+00 0.00000000e+00 0.00000000e+00\n  0.00000000e+00 0.00000000e+00 0.00000000e+00 0.00000000e+00\n  0.00000000e+00 0.00000000e+00 0.00000000e+00 0.00000000e+00\n  1.33830625e-03 4.43186162e-02 5.39911274e-01 2.41971446e+00\n  3.98943469e+00 2.41971446e+00 5.39911274e-01 4.43186162e-02\n  1.33830625e-03 0.00000000e+00 0.00000000e+00 0.00000000e+00\n  0.00000000e+00 0.00000000e+00 0.00000000e+00 0.00000000e+00\n  0.00000000e+00 0.00000000e+00 0.00000000e+00 0.00000000e+00]\n [0.00000000e+00 0.00000000e+00 0.00000000e+00 0.00000000e+00\n  0.00000000e+00 0.00000000e+00 0.00000000e+00 0.00000000e+00\n  0.00000000e+00 0.00000000e+00 0.00000000e+00 0.00000000e+00\n  0.00000000e+00 0.00000000e+00 0.00000000e+00 1.33830625e-03\n  4.43186162e-02 5.39911274e-01 2.41971446e+00 3.98943469e+00\n  2.41971446e+00 5.39911274e-01 4.43186162e-02 1.33830625e-03\n  0.00000000e+00 0.00000000e+00 0.00000000e+00 0.00000000e+00\n  0.00000000e+00 0.00000000e+00 0.00000000e+00 0.00000000e+00\n  0.00000000e+00 0.00000000e+00 0.00000000e+00 0.00000000e+00\n  0.00000000e+00 0.00000000e+00 0.00000000e+00 0.00000000e+00\n  1.33830625e-03 4.43186162e-02 5.39911274e-01 2.41971446e+00\n  3.98943469e+00 2.41971446e+00 5.39911274e-01 4.43186162e-02\n  1.33830625e-03 0.00000000e+00 0.00000000e+00 0.00000000e+00\n  0.00000000e+00 0.00000000e+00 0.00000000e+00 0.00000000e+00\n  0.00000000e+00 0.00000000e+00 0.00000000e+00 0.00000000e+00\n  0.00000000e+00 0.00000000e+00 0.00000000e+00 0.00000000e+00\n  0.00000000e+00 1.33830625e-03 4.43186162e-02 5.39911274e-01\n  2.41971446e+00 3.98943469e+00 2.41971446e+00 5.39911274e-01\n  4.43186162e-02 1.33830625e-03 0.00000000e+00 0.00000000e+00\n  0.00000000e+00 0.00000000e+00 0.00000000e+00 0.00000000e+00\n  0.00000000e+00 0.00000000e+00 0.00000000e+00 0.00000000e+00\n  0.00000000e+00 0.00000000e+00 0.00000000e+00 0.00000000e+00\n  0.00000000e+00 0.00000000e+00 1.33830625e-03 4.43186162e-02\n  5.39911274e-01 2.41971446e+00 3.98943469e+00 2.41971446e+00\n  5.39911274e-01 4.43186162e-02 1.33830625e-03 0.00000000e+00]]\n2021-03-03 14:41:56,042 DEBUG transposed: \n[[4.43186162e-02 2.95962573e+00 0.00000000e+00 0.00000000e+00\n  0.00000000e+00]\n [1.33830625e-03 4.03375331e+00 1.33830625e-03 0.00000000e+00\n  0.00000000e+00]\n [0.00000000e+00 2.42105276e+00 4.43186162e-02 0.00000000e+00\n  0.00000000e+00]\n [0.00000000e+00 5.39911274e-01 5.39911274e-01 0.00000000e+00\n  0.00000000e+00]\n [0.00000000e+00 4.43186162e-02 2.41971446e+00 0.00000000e+00\n  0.00000000e+00]\n [0.00000000e+00 1.33830625e-03 3.98943469e+00 1.33830625e-03\n  0.00000000e+00]\n [0.00000000e+00 0.00000000e+00 2.41971446e+00 4.43186162e-02\n  0.00000000e+00]\n [0.00000000e+00 0.00000000e+00 5.39911274e-01 5.39911274e-01\n  0.00000000e+00]\n [0.00000000e+00 0.00000000e+00 4.43186162e-02 2.41971446e+00\n  0.00000000e+00]\n [0.00000000e+00 0.00000000e+00 1.33830625e-03 3.98943469e+00\n  0.00000000e+00]\n [0.00000000e+00 0.00000000e+00 0.00000000e+00 2.41971446e+00\n  0.00000000e+00]\n [0.00000000e+00 0.00000000e+00 0.00000000e+00 5.39911274e-01\n  0.00000000e+00]\n [0.00000000e+00 0.00000000e+00 0.00000000e+00 4.43186162e-02\n  0.00000000e+00]\n [0.00000000e+00 0.00000000e+00 0.00000000e+00 1.33830625e-03\n  0.00000000e+00]\n [0.00000000e+00 0.00000000e+00 0.00000000e+00 0.00000000e+00\n  0.00000000e+00]\n [0.00000000e+00 0.00000000e+00 0.00000000e+00 0.00000000e+00\n  1.33830625e-03]\n [0.00000000e+00 0.00000000e+00 0.00000000e+00 0.00000000e+00\n  4.43186162e-02]\n [0.00000000e+00 0.00000000e+00 0.00000000e+00 0.00000000e+00\n  5.39911274e-01]\n [1.33830625e-03 0.00000000e+00 0.00000000e+00 0.00000000e+00\n  2.41971446e+00]\n [4.43186162e-02 0.00000000e+00 0.00000000e+00 0.00000000e+00\n  3.98943469e+00]\n [5.39911274e-01 0.00000000e+00 0.00000000e+00 0.00000000e+00\n  2.41971446e+00]\n [2.41971446e+00 0.00000000e+00 0.00000000e+00 0.00000000e+00\n  5.39911274e-01]\n [3.98943469e+00 1.33830625e-03 0.00000000e+00 0.00000000e+00\n  4.43186162e-02]\n [2.41971446e+00 4.43186162e-02 0.00000000e+00 0.00000000e+00\n  1.33830625e-03]\n [5.39911274e-01 5.39911274e-01 0.00000000e+00 0.00000000e+00\n  0.00000000e+00]\n [4.43186162e-02 2.41971446e+00 0.00000000e+00 0.00000000e+00\n  0.00000000e+00]\n [1.33830625e-03 3.98943469e+00 1.33830625e-03 0.00000000e+00\n  0.00000000e+00]\n [0.00000000e+00 2.41971446e+00 4.43186162e-02 0.00000000e+00\n  0.00000000e+00]\n [0.00000000e+00 5.39911274e-01 5.39911274e-01 0.00000000e+00\n  0.00000000e+00]\n [0.00000000e+00 4.43186162e-02 2.41971446e+00 0.00000000e+00\n  0.00000000e+00]\n [0.00000000e+00 1.33830625e-03 3.98943469e+00 1.33830625e-03\n  0.00000000e+00]\n [0.00000000e+00 0.00000000e+00 2.41971446e+00 4.43186162e-02\n  0.00000000e+00]\n [0.00000000e+00 0.00000000e+00 5.39911274e-01 5.39911274e-01\n  0.00000000e+00]\n [0.00000000e+00 0.00000000e+00 4.43186162e-02 2.41971446e+00\n  0.00000000e+00]\n [0.00000000e+00 0.00000000e+00 1.33830625e-03 3.98943469e+00\n  0.00000000e+00]\n [0.00000000e+00 0.00000000e+00 0.00000000e+00 2.41971446e+00\n  0.00000000e+00]]\n2021-03-03 14:41:56,042 DEBUG raw:\n2021-03-03 14:41:56,042 DEBUG 0.268 s\n2021-03-03 14:41:56,043 INFO size: (256, 256, 15)\n2021-03-03 14:41:56,043 INFO spacing: (1.36719, 1.3671899999999997, 8.799999999999999)\n2021-03-03 14:41:56,044 INFO origin: (106.99, -218.548, 170.866)\n2021-03-03 14:41:56,044 INFO direction: (0.35556294286145923, -0.22573390409487074, -0.9069835710782121, 0.9346468783623032, 0.08255686492495519, 0.3458606320779578, -0.0031947505850196444, -0.9706845875957082, 0.24033565064893955)\n2021-03-03 14:41:56,044 INFO pixel type: 32-bit float\n2021-03-03 14:41:56,044 INFO number of pixel components: 1\n2021-03-03 14:41:56,045 DEBUG plot image state failed: 'NoneType' object has no attribute 'GetSize'\n2021-03-03 14:41:56,045 DEBUG old size: [256 256  15], old spacing: [1.36719 1.36719 8.8    ], target spacing: [3 3 8]\n2021-03-03 14:41:56,046 DEBUG old size: [256 256  15], old spacing: [1.36719 1.36719 8.8    ], target spacing: [3 3 8]\n2021-03-03 14:41:56,046 DEBUG old size: [256 256  15], old spacing: [1.36719 1.36719 8.8    ], target spacing: [3 3 8]\n2021-03-03 14:41:56,047 DEBUG old size: [256 256  15], old spacing: [1.36719 1.36719 8.8    ], target spacing: [3 3 8]\n2021-03-03 14:41:56,047 DEBUG old size: [256 256  15], old spacing: [1.36719 1.36719 8.8    ], target spacing: [3 3 8]\n2021-03-03 14:41:56,048 DEBUG old size: [256 256  15], old spacing: [1.36719 1.36719 8.8    ], target spacing: [3 3 8]\n2021-03-03 14:41:56,048 DEBUG old size: [256 256  15], old spacing: [1.36719 1.36719 8.8    ], target spacing: [3 3 8]\n2021-03-03 14:41:56,049 DEBUG old size: [256 256  15], old spacing: [1.36719 1.36719 8.8    ], target spacing: [3 3 8]\n2021-03-03 14:41:56,049 DEBUG old size: [256 256  15], old spacing: [1.36719 1.36719 8.8    ], target spacing: [3 3 8]\n2021-03-03 14:41:56,050 DEBUG old size: [256 256  15], old spacing: [1.36719 1.36719 8.8    ], target spacing: [3 3 8]\n2021-03-03 14:41:56,050 DEBUG old size: [256 256  15], old spacing: [1.36719 1.36719 8.8    ], target spacing: [3 3 8]\n2021-03-03 14:41:56,051 DEBUG old size: [256 256  15], old spacing: [1.36719 1.36719 8.8    ], target spacing: [3 3 8]\n2021-03-03 14:41:56,051 DEBUG old size: [256 256  15], old spacing: [1.36719 1.36719 8.8    ], target spacing: [3 3 8]\n2021-03-03 14:41:56,052 DEBUG old size: [256 256  15], old spacing: [1.36719 1.36719 8.8    ], target spacing: [3 3 8]\n2021-03-03 14:41:56,052 DEBUG old size: [256 256  15], old spacing: [1.36719 1.36719 8.8    ], target spacing: [3 3 8]\n2021-03-03 14:41:56,053 DEBUG old size: [256 256  15], old spacing: [1.36719 1.36719 8.8    ], target spacing: [3 3 8]\n2021-03-03 14:41:56,053 DEBUG old size: [256 256  15], old spacing: [1.36719 1.36719 8.8    ], target spacing: [3 3 8]\n2021-03-03 14:41:56,054 DEBUG old size: [256 256  15], old spacing: [1.36719 1.36719 8.8    ], target spacing: [3 3 8]\n2021-03-03 14:41:56,055 DEBUG old size: [256 256  15], old spacing: [1.36719 1.36719 8.8    ], target spacing: [3 3 8]\n2021-03-03 14:41:56,055 DEBUG old size: [256 256  15], old spacing: [1.36719 1.36719 8.8    ], target spacing: [3 3 8]\n2021-03-03 14:41:56,055 DEBUG old size: [256 256  15], old spacing: [1.36719 1.36719 8.8    ], target spacing: [3 3 8]\n2021-03-03 14:41:56,056 DEBUG old size: [256 256  15], old spacing: [1.36719 1.36719 8.8    ], target spacing: [3 3 8]\n2021-03-03 14:41:56,057 DEBUG old size: [256 256  15], old spacing: [1.36719 1.36719 8.8    ], target spacing: [3 3 8]\n2021-03-03 14:41:56,057 DEBUG old size: [256 256  15], old spacing: [1.36719 1.36719 8.8    ], target spacing: [3 3 8]\n2021-03-03 14:41:56,058 DEBUG old size: [256 256  15], old spacing: [1.36719 1.36719 8.8    ], target spacing: [3 3 8]\n2021-03-03 14:41:56,058 DEBUG dimension: 3\n2021-03-03 14:41:56,059 DEBUG Size before resample: (256, 256, 15)\n2021-03-03 14:41:56,079 DEBUG Spacing after resample: (3.0, 3.0, 8.0)\n2021-03-03 14:41:56,080 DEBUG Size after resample: (117, 117, 16)\n2021-03-03 14:41:56,085 DEBUG resampled:\n2021-03-03 14:41:56,085 DEBUG 0.040 s\n2021-03-03 14:41:56,086 INFO size: (117, 117, 16)\n2021-03-03 14:41:56,086 INFO spacing: (1.0, 1.0, 1.0)\n2021-03-03 14:41:56,086 INFO origin: (0.0, 0.0, 0.0)\n2021-03-03 14:41:56,087 INFO direction: (1.0, 0.0, 0.0, 0.0, 1.0, 0.0, 0.0, 0.0, 1.0)\n2021-03-03 14:41:56,087 INFO pixel type: 32-bit float\n2021-03-03 14:41:56,087 INFO number of pixel components: 1\n2021-03-03 14:41:56,088 DEBUG plot image state failed: 'NoneType' object has no attribute 'GetSize'\n2021-03-03 14:41:56,121 DEBUG {'__class_fullname__': 'albumentations.core.composition.ReplayCompose', 'params': None, 'transforms': [{'__class_fullname__': 'albumentations.augmentations.transforms.ShiftScaleRotate', 'always_apply': False, 'p': 0.8, 'shift_limit_x': (-0.025, 0.025), 'shift_limit_y': (-0.025, 0.025), 'scale_limit': (0.0, 0.0), 'rotate_limit': (-45, 45), 'interpolation': 1, 'border_mode': 1, 'value': 0, 'mask_value': None, 'params': {'angle': -22.95973315768714, 'scale': 1.0, 'dx': -0.019875241191424628, 'dy': 0.012033387233383791}, 'applied': True}], 'applied': True}\n2021-03-03 14:41:56,132 DEBUG augmented:\n2021-03-03 14:41:56,132 DEBUG 0.087 s\n2021-03-03 14:41:56,133 INFO size: (117, 117, 16)\n2021-03-03 14:41:56,133 INFO spacing: (1.0, 1.0, 1.0)\n2021-03-03 14:41:56,134 INFO origin: (0.0, 0.0, 0.0)\n2021-03-03 14:41:56,134 INFO direction: (1.0, 0.0, 0.0, 0.0, 1.0, 0.0, 0.0, 0.0, 1.0)\n2021-03-03 14:41:56,134 INFO pixel type: 32-bit float\n2021-03-03 14:41:56,134 INFO number of pixel components: 1\n2021-03-03 14:41:56,135 DEBUG plot image state failed: 'NoneType' object has no attribute 'GetSize'\n2021-03-03 14:41:56,179 DEBUG input shape, crop_and_pad: (36, 16, 117, 117)\n2021-03-03 14:41:56,180 DEBUG target shape, crop_and_pad: [36  8 64 64]\n2021-03-03 14:41:56,182 DEBUG input shape, crop_and_pad: (36, 5)\n2021-03-03 14:41:56,182 DEBUG target shape, crop_and_pad: [36  5]\n2021-03-03 14:41:56,182 DEBUG input shape, crop_and_pad: (36, 5)\n2021-03-03 14:41:56,183 DEBUG target shape, crop_and_pad: [36  5]\n2021-03-03 14:41:56,189 DEBUG background: \n[[4.43186162e-02 2.95962573e+00 0.00000000e+00 0.00000000e+00\n  0.00000000e+00]\n [1.33830625e-03 4.03375331e+00 1.33830625e-03 0.00000000e+00\n  0.00000000e+00]\n [0.00000000e+00 2.42105276e+00 4.43186162e-02 0.00000000e+00\n  0.00000000e+00]\n [0.00000000e+00 5.39911274e-01 5.39911274e-01 0.00000000e+00\n  0.00000000e+00]\n [0.00000000e+00 4.43186162e-02 2.41971446e+00 0.00000000e+00\n  0.00000000e+00]\n [0.00000000e+00 1.33830625e-03 3.98943469e+00 1.33830625e-03\n  0.00000000e+00]\n [0.00000000e+00 0.00000000e+00 2.41971446e+00 4.43186162e-02\n  0.00000000e+00]\n [0.00000000e+00 0.00000000e+00 5.39911274e-01 5.39911274e-01\n  0.00000000e+00]\n [0.00000000e+00 0.00000000e+00 4.43186162e-02 2.41971446e+00\n  0.00000000e+00]\n [0.00000000e+00 0.00000000e+00 1.33830625e-03 3.98943469e+00\n  0.00000000e+00]\n [0.00000000e+00 0.00000000e+00 0.00000000e+00 2.41971446e+00\n  0.00000000e+00]\n [0.00000000e+00 0.00000000e+00 0.00000000e+00 5.39911274e-01\n  0.00000000e+00]\n [0.00000000e+00 0.00000000e+00 0.00000000e+00 4.43186162e-02\n  0.00000000e+00]\n [0.00000000e+00 0.00000000e+00 0.00000000e+00 1.33830625e-03\n  0.00000000e+00]\n [0.00000000e+00 0.00000000e+00 0.00000000e+00 0.00000000e+00\n  0.00000000e+00]\n [0.00000000e+00 0.00000000e+00 0.00000000e+00 0.00000000e+00\n  1.33830625e-03]\n [0.00000000e+00 0.00000000e+00 0.00000000e+00 0.00000000e+00\n  4.43186162e-02]\n [0.00000000e+00 0.00000000e+00 0.00000000e+00 0.00000000e+00\n  5.39911274e-01]\n [1.33830625e-03 0.00000000e+00 0.00000000e+00 0.00000000e+00\n  2.41971446e+00]\n [4.43186162e-02 0.00000000e+00 0.00000000e+00 0.00000000e+00\n  3.98943469e+00]\n [5.39911274e-01 0.00000000e+00 0.00000000e+00 0.00000000e+00\n  2.41971446e+00]\n [2.41971446e+00 0.00000000e+00 0.00000000e+00 0.00000000e+00\n  5.39911274e-01]\n [3.98943469e+00 1.33830625e-03 0.00000000e+00 0.00000000e+00\n  4.43186162e-02]\n [2.41971446e+00 4.43186162e-02 0.00000000e+00 0.00000000e+00\n  1.33830625e-03]\n [5.39911274e-01 5.39911274e-01 0.00000000e+00 0.00000000e+00\n  0.00000000e+00]\n [4.43186162e-02 2.41971446e+00 0.00000000e+00 0.00000000e+00\n  0.00000000e+00]\n [1.33830625e-03 3.98943469e+00 1.33830625e-03 0.00000000e+00\n  0.00000000e+00]\n [0.00000000e+00 2.41971446e+00 4.43186162e-02 0.00000000e+00\n  0.00000000e+00]\n [0.00000000e+00 5.39911274e-01 5.39911274e-01 0.00000000e+00\n  0.00000000e+00]\n [0.00000000e+00 4.43186162e-02 2.41971446e+00 0.00000000e+00\n  0.00000000e+00]\n [0.00000000e+00 1.33830625e-03 3.98943469e+00 1.33830625e-03\n  0.00000000e+00]\n [0.00000000e+00 0.00000000e+00 2.41971446e+00 4.43186162e-02\n  0.00000000e+00]\n [0.00000000e+00 0.00000000e+00 5.39911274e-01 5.39911274e-01\n  0.00000000e+00]\n [0.00000000e+00 0.00000000e+00 4.43186162e-02 2.41971446e+00\n  0.00000000e+00]\n [0.00000000e+00 0.00000000e+00 1.33830625e-03 3.98943469e+00\n  0.00000000e+00]\n [0.00000000e+00 0.00000000e+00 0.00000000e+00 2.41971446e+00\n  0.00000000e+00]]\n2021-03-03 14:41:56,190 DEBUG normalised (sum phases per timestep == 1): \n[[4.43186162e-02 2.95962573e+00 0.00000000e+00 0.00000000e+00\n  0.00000000e+00]\n [1.33830625e-03 4.03375331e+00 1.33830625e-03 0.00000000e+00\n  0.00000000e+00]\n [0.00000000e+00 2.42105276e+00 4.43186162e-02 0.00000000e+00\n  0.00000000e+00]\n [0.00000000e+00 5.39911274e-01 5.39911274e-01 0.00000000e+00\n  0.00000000e+00]\n [0.00000000e+00 4.43186162e-02 2.41971446e+00 0.00000000e+00\n  0.00000000e+00]\n [0.00000000e+00 1.33830625e-03 3.98943469e+00 1.33830625e-03\n  0.00000000e+00]\n [0.00000000e+00 0.00000000e+00 2.41971446e+00 4.43186162e-02\n  0.00000000e+00]\n [0.00000000e+00 0.00000000e+00 5.39911274e-01 5.39911274e-01\n  0.00000000e+00]\n [0.00000000e+00 0.00000000e+00 4.43186162e-02 2.41971446e+00\n  0.00000000e+00]\n [0.00000000e+00 0.00000000e+00 1.33830625e-03 3.98943469e+00\n  0.00000000e+00]\n [0.00000000e+00 0.00000000e+00 0.00000000e+00 2.41971446e+00\n  0.00000000e+00]\n [0.00000000e+00 0.00000000e+00 0.00000000e+00 5.39911274e-01\n  0.00000000e+00]\n [0.00000000e+00 0.00000000e+00 0.00000000e+00 4.43186162e-02\n  0.00000000e+00]\n [0.00000000e+00 0.00000000e+00 0.00000000e+00 1.33830625e-03\n  0.00000000e+00]\n [0.00000000e+00 0.00000000e+00 0.00000000e+00 0.00000000e+00\n  0.00000000e+00]\n [0.00000000e+00 0.00000000e+00 0.00000000e+00 0.00000000e+00\n  1.33830625e-03]\n [0.00000000e+00 0.00000000e+00 0.00000000e+00 0.00000000e+00\n  4.43186162e-02]\n [0.00000000e+00 0.00000000e+00 0.00000000e+00 0.00000000e+00\n  5.39911274e-01]\n [1.33830625e-03 0.00000000e+00 0.00000000e+00 0.00000000e+00\n  2.41971446e+00]\n [4.43186162e-02 0.00000000e+00 0.00000000e+00 0.00000000e+00\n  3.98943469e+00]\n [5.39911274e-01 0.00000000e+00 0.00000000e+00 0.00000000e+00\n  2.41971446e+00]\n [2.41971446e+00 0.00000000e+00 0.00000000e+00 0.00000000e+00\n  5.39911274e-01]\n [3.98943469e+00 1.33830625e-03 0.00000000e+00 0.00000000e+00\n  4.43186162e-02]\n [2.41971446e+00 4.43186162e-02 0.00000000e+00 0.00000000e+00\n  1.33830625e-03]\n [5.39911274e-01 5.39911274e-01 0.00000000e+00 0.00000000e+00\n  0.00000000e+00]\n [4.43186162e-02 2.41971446e+00 0.00000000e+00 0.00000000e+00\n  0.00000000e+00]\n [1.33830625e-03 3.98943469e+00 1.33830625e-03 0.00000000e+00\n  0.00000000e+00]\n [0.00000000e+00 2.41971446e+00 4.43186162e-02 0.00000000e+00\n  0.00000000e+00]\n [0.00000000e+00 5.39911274e-01 5.39911274e-01 0.00000000e+00\n  0.00000000e+00]\n [0.00000000e+00 4.43186162e-02 2.41971446e+00 0.00000000e+00\n  0.00000000e+00]\n [0.00000000e+00 1.33830625e-03 3.98943469e+00 1.33830625e-03\n  0.00000000e+00]\n [0.00000000e+00 0.00000000e+00 2.41971446e+00 4.43186162e-02\n  0.00000000e+00]\n [0.00000000e+00 0.00000000e+00 5.39911274e-01 5.39911274e-01\n  0.00000000e+00]\n [0.00000000e+00 0.00000000e+00 4.43186162e-02 2.41971446e+00\n  0.00000000e+00]\n [0.00000000e+00 0.00000000e+00 1.33830625e-03 3.98943469e+00\n  0.00000000e+00]\n [0.00000000e+00 0.00000000e+00 0.00000000e+00 2.41971446e+00\n  0.00000000e+00]]\n2021-03-03 14:41:56,190 DEBUG clipped cropped and pad:\n2021-03-03 14:41:56,190 DEBUG 0.055 s\n2021-03-03 14:41:56,191 INFO size: (64, 64, 8)\n2021-03-03 14:41:56,191 INFO spacing: (1.0, 1.0, 1.0)\n2021-03-03 14:41:56,191 INFO origin: (0.0, 0.0, 0.0)\n2021-03-03 14:41:56,192 INFO direction: (1.0, 0.0, 0.0, 0.0, 1.0, 0.0, 0.0, 0.0, 1.0)\n2021-03-03 14:41:56,192 INFO pixel type: 32-bit float\n2021-03-03 14:41:56,192 INFO number of pixel components: 1\n2021-03-03 14:41:56,193 DEBUG plot image state failed: 'NoneType' object has no attribute 'GetSize'\n2021-03-03 14:41:56,195 DEBUG img finished after 0.419 sec.\n2021-03-03 14:41:56,195 DEBUG Batchsize: 1 preprocessing took: 0.421 sec\n2021-03-03 14:41:56,195 INFO Preprocessing took: 0.423\n"
        },
        {
         "name": "stdout",
         "output_type": "stream",
         "text": "(1, 36, 8, 64, 64, 1) (1, 2, 36, 5)\nselected batch : 104\n"
        },
        {
         "data": {
          "image/png": "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\n",
          "text/plain": "<Figure size 144x360 with 1 Axes>"
         },
         "metadata": {
          "needs_background": "light"
         },
         "output_type": "display_data"
        },
        {
         "name": "stderr",
         "output_type": "stream",
         "text": "2021-03-03 14:41:56,255 INFO GT length: 5\n2021-03-03 14:41:56,256 DEBUG pad: \n[[4.4318616e-02 2.9596257e+00 0.0000000e+00 0.0000000e+00 0.0000000e+00]\n [1.3383062e-03 4.0337534e+00 1.3383062e-03 0.0000000e+00 0.0000000e+00]\n [0.0000000e+00 2.4210527e+00 4.4318616e-02 0.0000000e+00 0.0000000e+00]\n [0.0000000e+00 5.3991127e-01 5.3991127e-01 0.0000000e+00 0.0000000e+00]\n [0.0000000e+00 4.4318616e-02 2.4197145e+00 0.0000000e+00 0.0000000e+00]\n [0.0000000e+00 1.3383062e-03 3.9894347e+00 1.3383062e-03 0.0000000e+00]\n [0.0000000e+00 0.0000000e+00 2.4197145e+00 4.4318616e-02 0.0000000e+00]\n [0.0000000e+00 0.0000000e+00 5.3991127e-01 5.3991127e-01 0.0000000e+00]\n [0.0000000e+00 0.0000000e+00 4.4318616e-02 2.4197145e+00 0.0000000e+00]\n [0.0000000e+00 0.0000000e+00 1.3383062e-03 3.9894347e+00 0.0000000e+00]\n [0.0000000e+00 0.0000000e+00 0.0000000e+00 2.4197145e+00 0.0000000e+00]\n [0.0000000e+00 0.0000000e+00 0.0000000e+00 5.3991127e-01 0.0000000e+00]\n [0.0000000e+00 0.0000000e+00 0.0000000e+00 4.4318616e-02 0.0000000e+00]\n [0.0000000e+00 0.0000000e+00 0.0000000e+00 1.3383062e-03 0.0000000e+00]\n [0.0000000e+00 0.0000000e+00 0.0000000e+00 0.0000000e+00 0.0000000e+00]\n [0.0000000e+00 0.0000000e+00 0.0000000e+00 0.0000000e+00 1.3383062e-03]\n [0.0000000e+00 0.0000000e+00 0.0000000e+00 0.0000000e+00 4.4318616e-02]\n [0.0000000e+00 0.0000000e+00 0.0000000e+00 0.0000000e+00 5.3991127e-01]\n [1.3383062e-03 0.0000000e+00 0.0000000e+00 0.0000000e+00 2.4197145e+00]\n [4.4318616e-02 0.0000000e+00 0.0000000e+00 0.0000000e+00 3.9894347e+00]\n [5.3991127e-01 0.0000000e+00 0.0000000e+00 0.0000000e+00 2.4197145e+00]\n [2.4197145e+00 0.0000000e+00 0.0000000e+00 0.0000000e+00 5.3991127e-01]\n [3.9894347e+00 1.3383062e-03 0.0000000e+00 0.0000000e+00 4.4318616e-02]\n [2.4197145e+00 4.4318616e-02 0.0000000e+00 0.0000000e+00 1.3383062e-03]\n [5.3991127e-01 5.3991127e-01 0.0000000e+00 0.0000000e+00 0.0000000e+00]\n [1.0000000e+00 1.0000000e+00 1.0000000e+00 1.0000000e+00 1.0000000e+00]\n [1.3383062e-03 3.9894347e+00 1.3383062e-03 0.0000000e+00 0.0000000e+00]\n [0.0000000e+00 2.4197145e+00 4.4318616e-02 0.0000000e+00 0.0000000e+00]\n [0.0000000e+00 5.3991127e-01 5.3991127e-01 0.0000000e+00 0.0000000e+00]\n [0.0000000e+00 4.4318616e-02 2.4197145e+00 0.0000000e+00 0.0000000e+00]\n [0.0000000e+00 1.3383062e-03 3.9894347e+00 1.3383062e-03 0.0000000e+00]\n [0.0000000e+00 0.0000000e+00 2.4197145e+00 4.4318616e-02 0.0000000e+00]\n [0.0000000e+00 0.0000000e+00 5.3991127e-01 5.3991127e-01 0.0000000e+00]\n [0.0000000e+00 0.0000000e+00 4.4318616e-02 2.4197145e+00 0.0000000e+00]\n [0.0000000e+00 0.0000000e+00 1.3383062e-03 3.9894347e+00 0.0000000e+00]\n [0.0000000e+00 0.0000000e+00 0.0000000e+00 2.4197145e+00 0.0000000e+00]]\n"
        }
       ]
      }
     },
     "bce58de6b89a4991aeb695162029e18a": {
      "model_module": "@jupyter-widgets/controls",
      "model_module_version": "1.5.0",
      "model_name": "DescriptionStyleModel",
      "state": {
       "description_width": ""
      }
     },
     "be98790bd4a74de5bef5051a43129ce0": {
      "model_module": "@jupyter-widgets/controls",
      "model_module_version": "1.5.0",
      "model_name": "CheckboxModel",
      "state": {
       "description": "show_input_vol",
       "disabled": false,
       "layout": "IPY_MODEL_6eb94d6253a546b6b24792050cc64606",
       "style": "IPY_MODEL_17b3fe755a634f5699b7bf71a7a38afb",
       "value": false
      }
     },
     "bf5981a41023468bba1cca50c81c6336": {
      "model_module": "@jupyter-widgets/output",
      "model_module_version": "1.0.0",
      "model_name": "OutputModel",
      "state": {
       "layout": "IPY_MODEL_622826293710486b8023cf927ac9e1ce",
       "outputs": [
        {
         "name": "stderr",
         "output_type": "stream",
         "text": "2021-03-03 14:39:20,840 DEBUG index generation: 3.647804260253906e-05\n2021-03-03 14:39:20,874 DEBUG Metadata_copied: 0.001s\n2021-03-03 14:39:20,875 DEBUG spatial data_copied: 0.002s\n2021-03-03 14:39:20,876 DEBUG Metadata_copied: 0.001s\n2021-03-03 14:39:20,877 DEBUG spatial data_copied: 0.001s\n2021-03-03 14:39:20,879 DEBUG Metadata_copied: 0.002s\n2021-03-03 14:39:20,879 DEBUG spatial data_copied: 0.002s\n2021-03-03 14:39:20,881 DEBUG Metadata_copied: 0.001s\n2021-03-03 14:39:20,882 DEBUG spatial data_copied: 0.002s\n2021-03-03 14:39:20,883 DEBUG Metadata_copied: 0.001s\n2021-03-03 14:39:20,884 DEBUG spatial data_copied: 0.002s\n2021-03-03 14:39:20,885 DEBUG Metadata_copied: 0.001s\n2021-03-03 14:39:20,885 DEBUG spatial data_copied: 0.001s\n2021-03-03 14:39:20,886 DEBUG Metadata_copied: 0.001s\n2021-03-03 14:39:20,887 DEBUG spatial data_copied: 0.001s\n2021-03-03 14:39:20,888 DEBUG Metadata_copied: 0.001s\n2021-03-03 14:39:20,889 DEBUG spatial data_copied: 0.001s\n2021-03-03 14:39:20,890 DEBUG Metadata_copied: 0.001s\n2021-03-03 14:39:20,891 DEBUG spatial data_copied: 0.002s\n2021-03-03 14:39:20,892 DEBUG Metadata_copied: 0.001s\n2021-03-03 14:39:20,893 DEBUG spatial data_copied: 0.002s\n2021-03-03 14:39:20,894 DEBUG Metadata_copied: 0.001s\n2021-03-03 14:39:20,895 DEBUG spatial data_copied: 0.001s\n2021-03-03 14:39:20,896 DEBUG Metadata_copied: 0.001s\n2021-03-03 14:39:20,897 DEBUG spatial data_copied: 0.001s\n2021-03-03 14:39:20,898 DEBUG Metadata_copied: 0.001s\n2021-03-03 14:39:20,898 DEBUG spatial data_copied: 0.001s\n2021-03-03 14:39:20,900 DEBUG Metadata_copied: 0.002s\n2021-03-03 14:39:20,901 DEBUG spatial data_copied: 0.003s\n2021-03-03 14:39:20,903 DEBUG Metadata_copied: 0.001s\n2021-03-03 14:39:20,904 DEBUG spatial data_copied: 0.002s\n2021-03-03 14:39:20,905 DEBUG Metadata_copied: 0.001s\n2021-03-03 14:39:20,906 DEBUG spatial data_copied: 0.003s\n2021-03-03 14:39:20,909 DEBUG Metadata_copied: 0.002s\n2021-03-03 14:39:20,909 DEBUG spatial data_copied: 0.002s\n2021-03-03 14:39:20,911 DEBUG Metadata_copied: 0.001s\n2021-03-03 14:39:20,912 DEBUG spatial data_copied: 0.002s\n2021-03-03 14:39:20,913 DEBUG Metadata_copied: 0.001s\n2021-03-03 14:39:20,913 DEBUG spatial data_copied: 0.001s\n2021-03-03 14:39:20,915 DEBUG Metadata_copied: 0.001s\n2021-03-03 14:39:20,916 DEBUG spatial data_copied: 0.002s\n2021-03-03 14:39:20,917 DEBUG Metadata_copied: 0.001s\n2021-03-03 14:39:20,918 DEBUG spatial data_copied: 0.002s\n2021-03-03 14:39:20,919 DEBUG Metadata_copied: 0.001s\n2021-03-03 14:39:20,920 DEBUG spatial data_copied: 0.002s\n2021-03-03 14:39:20,922 DEBUG Metadata_copied: 0.001s\n2021-03-03 14:39:20,922 DEBUG spatial data_copied: 0.002s\n2021-03-03 14:39:20,924 DEBUG Metadata_copied: 0.001s\n2021-03-03 14:39:20,925 DEBUG spatial data_copied: 0.002s\n2021-03-03 14:39:20,926 DEBUG Metadata_copied: 0.001s\n2021-03-03 14:39:20,927 DEBUG spatial data_copied: 0.001s\n2021-03-03 14:39:20,931 DEBUG 1\n2021-03-03 14:39:20,933 DEBUG one-hot: \n[[ 0.  0.  0.  0.  0.  0.  0.  0.  0.  0.  0.  0.  0.  0.  0.  0.  0.  0.\n   0.  0.  0.  0. 10.  0.  0.  0.  0.  0.  0.  0.  0.  0.  0.  0.  0.  0.\n   0.  0.  0.  0.  0.  0.  0.  0.  0.  0.  0. 10.  0.  0.  0.  0.  0.  0.\n   0.  0.  0.  0.  0.  0.  0.  0.  0.  0.  0.  0.  0.  0.  0.  0.  0.  0.\n  10.  0.  0.  0.  0.  0.  0.  0.  0.  0.  0.  0.  0.  0.  0.  0.  0.  0.\n   0.  0.  0.  0.  0.  0.  0. 10.  0.  0.]\n [ 0.  0.  0. 10.  0.  0.  0.  0.  0.  0.  0.  0.  0.  0.  0.  0.  0.  0.\n   0.  0.  0.  0.  0.  0.  0.  0.  0.  0. 10.  0.  0.  0.  0.  0.  0.  0.\n   0.  0.  0.  0.  0.  0.  0.  0.  0.  0.  0.  0.  0.  0.  0.  0.  0. 10.\n   0.  0.  0.  0.  0.  0.  0.  0.  0.  0.  0.  0.  0.  0.  0.  0.  0.  0.\n   0.  0.  0.  0.  0.  0. 10.  0.  0.  0.  0.  0.  0.  0.  0.  0.  0.  0.\n   0.  0.  0.  0.  0.  0.  0.  0.  0.  0.]\n [ 0.  0.  0.  0.  0.  0.  0.  0. 10.  0.  0.  0.  0.  0.  0.  0.  0.  0.\n   0.  0.  0.  0.  0.  0.  0.  0.  0.  0.  0.  0.  0.  0.  0. 10.  0.  0.\n   0.  0.  0.  0.  0.  0.  0.  0.  0.  0.  0.  0.  0.  0.  0.  0.  0.  0.\n   0.  0.  0.  0. 10.  0.  0.  0.  0.  0.  0.  0.  0.  0.  0.  0.  0.  0.\n   0.  0.  0.  0.  0.  0.  0.  0.  0.  0.  0. 10.  0.  0.  0.  0.  0.  0.\n   0.  0.  0.  0.  0.  0.  0.  0.  0.  0.]\n [ 0.  0.  0.  0.  0.  0.  0.  0.  0.  0.  0.  0. 10.  0.  0.  0.  0.  0.\n   0.  0.  0.  0.  0.  0.  0.  0.  0.  0.  0.  0.  0.  0.  0.  0.  0.  0.\n   0. 10.  0.  0.  0.  0.  0.  0.  0.  0.  0.  0.  0.  0.  0.  0.  0.  0.\n   0.  0.  0.  0.  0.  0.  0.  0. 10.  0.  0.  0.  0.  0.  0.  0.  0.  0.\n   0.  0.  0.  0.  0.  0.  0.  0.  0.  0.  0.  0.  0.  0.  0. 10.  0.  0.\n   0.  0.  0.  0.  0.  0.  0.  0.  0.  0.]\n [ 0.  0.  0.  0.  0.  0.  0.  0.  0.  0.  0.  0.  0.  0.  0.  0.  0. 10.\n   0.  0.  0.  0.  0.  0.  0.  0.  0.  0.  0.  0.  0.  0.  0.  0.  0.  0.\n   0.  0.  0.  0.  0.  0. 10.  0.  0.  0.  0.  0.  0.  0.  0.  0.  0.  0.\n   0.  0.  0.  0.  0.  0.  0.  0.  0.  0.  0.  0.  0. 10.  0.  0.  0.  0.\n   0.  0.  0.  0.  0.  0.  0.  0.  0.  0.  0.  0.  0.  0.  0.  0.  0.  0.\n   0.  0. 10.  0.  0.  0.  0.  0.  0.  0.]]\n2021-03-03 14:39:20,937 DEBUG smoothed:\n[[0.00000000e+00 0.00000000e+00 0.00000000e+00 0.00000000e+00\n  0.00000000e+00 0.00000000e+00 0.00000000e+00 0.00000000e+00\n  0.00000000e+00 0.00000000e+00 0.00000000e+00 0.00000000e+00\n  0.00000000e+00 0.00000000e+00 0.00000000e+00 0.00000000e+00\n  0.00000000e+00 0.00000000e+00 1.33830625e-03 4.43186162e-02\n  5.39911274e-01 2.41971446e+00 3.98943469e+00 2.41971446e+00\n  5.39911274e-01 4.43186162e-02 1.33830625e-03 0.00000000e+00\n  0.00000000e+00 0.00000000e+00 0.00000000e+00 0.00000000e+00\n  0.00000000e+00 0.00000000e+00 0.00000000e+00 0.00000000e+00\n  0.00000000e+00 0.00000000e+00 0.00000000e+00 0.00000000e+00\n  0.00000000e+00 0.00000000e+00 0.00000000e+00 1.33830625e-03\n  4.43186162e-02 5.39911274e-01 2.41971446e+00 3.98943469e+00\n  2.41971446e+00 5.39911274e-01 4.43186162e-02 1.33830625e-03\n  0.00000000e+00 0.00000000e+00 0.00000000e+00 0.00000000e+00\n  0.00000000e+00 0.00000000e+00 0.00000000e+00 0.00000000e+00\n  0.00000000e+00 0.00000000e+00 0.00000000e+00 0.00000000e+00\n  0.00000000e+00 0.00000000e+00 0.00000000e+00 0.00000000e+00\n  1.33830625e-03 4.43186162e-02 5.39911274e-01 2.41971446e+00\n  3.98943469e+00 2.41971446e+00 5.39911274e-01 4.43186162e-02\n  1.33830625e-03 0.00000000e+00 0.00000000e+00 0.00000000e+00\n  0.00000000e+00 0.00000000e+00 0.00000000e+00 0.00000000e+00\n  0.00000000e+00 0.00000000e+00 0.00000000e+00 0.00000000e+00\n  0.00000000e+00 0.00000000e+00 0.00000000e+00 0.00000000e+00\n  0.00000000e+00 1.33830625e-03 4.43186162e-02 5.39911274e-01\n  2.41971446e+00 3.98943469e+00 2.42105276e+00 5.84229890e-01]\n [4.56569224e-02 5.39911274e-01 2.41971446e+00 3.98943469e+00\n  2.41971446e+00 5.39911274e-01 4.43186162e-02 1.33830625e-03\n  0.00000000e+00 0.00000000e+00 0.00000000e+00 0.00000000e+00\n  0.00000000e+00 0.00000000e+00 0.00000000e+00 0.00000000e+00\n  0.00000000e+00 0.00000000e+00 0.00000000e+00 0.00000000e+00\n  0.00000000e+00 0.00000000e+00 0.00000000e+00 0.00000000e+00\n  1.33830625e-03 4.43186162e-02 5.39911274e-01 2.41971446e+00\n  3.98943469e+00 2.41971446e+00 5.39911274e-01 4.43186162e-02\n  1.33830625e-03 0.00000000e+00 0.00000000e+00 0.00000000e+00\n  0.00000000e+00 0.00000000e+00 0.00000000e+00 0.00000000e+00\n  0.00000000e+00 0.00000000e+00 0.00000000e+00 0.00000000e+00\n  0.00000000e+00 0.00000000e+00 0.00000000e+00 0.00000000e+00\n  0.00000000e+00 1.33830625e-03 4.43186162e-02 5.39911274e-01\n  2.41971446e+00 3.98943469e+00 2.41971446e+00 5.39911274e-01\n  4.43186162e-02 1.33830625e-03 0.00000000e+00 0.00000000e+00\n  0.00000000e+00 0.00000000e+00 0.00000000e+00 0.00000000e+00\n  0.00000000e+00 0.00000000e+00 0.00000000e+00 0.00000000e+00\n  0.00000000e+00 0.00000000e+00 0.00000000e+00 0.00000000e+00\n  0.00000000e+00 0.00000000e+00 1.33830625e-03 4.43186162e-02\n  5.39911274e-01 2.41971446e+00 3.98943469e+00 2.41971446e+00\n  5.39911274e-01 4.43186162e-02 1.33830625e-03 0.00000000e+00\n  0.00000000e+00 0.00000000e+00 0.00000000e+00 0.00000000e+00\n  0.00000000e+00 0.00000000e+00 0.00000000e+00 0.00000000e+00\n  0.00000000e+00 0.00000000e+00 0.00000000e+00 0.00000000e+00\n  0.00000000e+00 0.00000000e+00 0.00000000e+00 0.00000000e+00]\n [0.00000000e+00 0.00000000e+00 0.00000000e+00 0.00000000e+00\n  1.33830625e-03 4.43186162e-02 5.39911274e-01 2.41971446e+00\n  3.98943469e+00 2.41971446e+00 5.39911274e-01 4.43186162e-02\n  1.33830625e-03 0.00000000e+00 0.00000000e+00 0.00000000e+00\n  0.00000000e+00 0.00000000e+00 0.00000000e+00 0.00000000e+00\n  0.00000000e+00 0.00000000e+00 0.00000000e+00 0.00000000e+00\n  0.00000000e+00 0.00000000e+00 0.00000000e+00 0.00000000e+00\n  0.00000000e+00 1.33830625e-03 4.43186162e-02 5.39911274e-01\n  2.41971446e+00 3.98943469e+00 2.41971446e+00 5.39911274e-01\n  4.43186162e-02 1.33830625e-03 0.00000000e+00 0.00000000e+00\n  0.00000000e+00 0.00000000e+00 0.00000000e+00 0.00000000e+00\n  0.00000000e+00 0.00000000e+00 0.00000000e+00 0.00000000e+00\n  0.00000000e+00 0.00000000e+00 0.00000000e+00 0.00000000e+00\n  0.00000000e+00 0.00000000e+00 1.33830625e-03 4.43186162e-02\n  5.39911274e-01 2.41971446e+00 3.98943469e+00 2.41971446e+00\n  5.39911274e-01 4.43186162e-02 1.33830625e-03 0.00000000e+00\n  0.00000000e+00 0.00000000e+00 0.00000000e+00 0.00000000e+00\n  0.00000000e+00 0.00000000e+00 0.00000000e+00 0.00000000e+00\n  0.00000000e+00 0.00000000e+00 0.00000000e+00 0.00000000e+00\n  0.00000000e+00 0.00000000e+00 0.00000000e+00 1.33830625e-03\n  4.43186162e-02 5.39911274e-01 2.41971446e+00 3.98943469e+00\n  2.41971446e+00 5.39911274e-01 4.43186162e-02 1.33830625e-03\n  0.00000000e+00 0.00000000e+00 0.00000000e+00 0.00000000e+00\n  0.00000000e+00 0.00000000e+00 0.00000000e+00 0.00000000e+00\n  0.00000000e+00 0.00000000e+00 0.00000000e+00 0.00000000e+00]\n [0.00000000e+00 0.00000000e+00 0.00000000e+00 0.00000000e+00\n  0.00000000e+00 0.00000000e+00 0.00000000e+00 0.00000000e+00\n  1.33830625e-03 4.43186162e-02 5.39911274e-01 2.41971446e+00\n  3.98943469e+00 2.41971446e+00 5.39911274e-01 4.43186162e-02\n  1.33830625e-03 0.00000000e+00 0.00000000e+00 0.00000000e+00\n  0.00000000e+00 0.00000000e+00 0.00000000e+00 0.00000000e+00\n  0.00000000e+00 0.00000000e+00 0.00000000e+00 0.00000000e+00\n  0.00000000e+00 0.00000000e+00 0.00000000e+00 0.00000000e+00\n  0.00000000e+00 1.33830625e-03 4.43186162e-02 5.39911274e-01\n  2.41971446e+00 3.98943469e+00 2.41971446e+00 5.39911274e-01\n  4.43186162e-02 1.33830625e-03 0.00000000e+00 0.00000000e+00\n  0.00000000e+00 0.00000000e+00 0.00000000e+00 0.00000000e+00\n  0.00000000e+00 0.00000000e+00 0.00000000e+00 0.00000000e+00\n  0.00000000e+00 0.00000000e+00 0.00000000e+00 0.00000000e+00\n  0.00000000e+00 0.00000000e+00 1.33830625e-03 4.43186162e-02\n  5.39911274e-01 2.41971446e+00 3.98943469e+00 2.41971446e+00\n  5.39911274e-01 4.43186162e-02 1.33830625e-03 0.00000000e+00\n  0.00000000e+00 0.00000000e+00 0.00000000e+00 0.00000000e+00\n  0.00000000e+00 0.00000000e+00 0.00000000e+00 0.00000000e+00\n  0.00000000e+00 0.00000000e+00 0.00000000e+00 0.00000000e+00\n  0.00000000e+00 0.00000000e+00 0.00000000e+00 1.33830625e-03\n  4.43186162e-02 5.39911274e-01 2.41971446e+00 3.98943469e+00\n  2.41971446e+00 5.39911274e-01 4.43186162e-02 1.33830625e-03\n  0.00000000e+00 0.00000000e+00 0.00000000e+00 0.00000000e+00\n  0.00000000e+00 0.00000000e+00 0.00000000e+00 0.00000000e+00]\n [0.00000000e+00 0.00000000e+00 0.00000000e+00 0.00000000e+00\n  0.00000000e+00 0.00000000e+00 0.00000000e+00 0.00000000e+00\n  0.00000000e+00 0.00000000e+00 0.00000000e+00 0.00000000e+00\n  0.00000000e+00 1.33830625e-03 4.43186162e-02 5.39911274e-01\n  2.41971446e+00 3.98943469e+00 2.41971446e+00 5.39911274e-01\n  4.43186162e-02 1.33830625e-03 0.00000000e+00 0.00000000e+00\n  0.00000000e+00 0.00000000e+00 0.00000000e+00 0.00000000e+00\n  0.00000000e+00 0.00000000e+00 0.00000000e+00 0.00000000e+00\n  0.00000000e+00 0.00000000e+00 0.00000000e+00 0.00000000e+00\n  0.00000000e+00 0.00000000e+00 1.33830625e-03 4.43186162e-02\n  5.39911274e-01 2.41971446e+00 3.98943469e+00 2.41971446e+00\n  5.39911274e-01 4.43186162e-02 1.33830625e-03 0.00000000e+00\n  0.00000000e+00 0.00000000e+00 0.00000000e+00 0.00000000e+00\n  0.00000000e+00 0.00000000e+00 0.00000000e+00 0.00000000e+00\n  0.00000000e+00 0.00000000e+00 0.00000000e+00 0.00000000e+00\n  0.00000000e+00 0.00000000e+00 0.00000000e+00 1.33830625e-03\n  4.43186162e-02 5.39911274e-01 2.41971446e+00 3.98943469e+00\n  2.41971446e+00 5.39911274e-01 4.43186162e-02 1.33830625e-03\n  0.00000000e+00 0.00000000e+00 0.00000000e+00 0.00000000e+00\n  0.00000000e+00 0.00000000e+00 0.00000000e+00 0.00000000e+00\n  0.00000000e+00 0.00000000e+00 0.00000000e+00 0.00000000e+00\n  0.00000000e+00 0.00000000e+00 0.00000000e+00 0.00000000e+00\n  1.33830625e-03 4.43186162e-02 5.39911274e-01 2.41971446e+00\n  3.98943469e+00 2.41971446e+00 5.39911274e-01 4.43186162e-02\n  1.33830625e-03 0.00000000e+00 0.00000000e+00 0.00000000e+00]]\n2021-03-03 14:39:20,938 DEBUG transposed: \n[[4.43186162e-02 4.56569224e-02 0.00000000e+00 0.00000000e+00\n  0.00000000e+00]\n [1.33830625e-03 5.39911274e-01 0.00000000e+00 0.00000000e+00\n  0.00000000e+00]\n [0.00000000e+00 2.41971446e+00 0.00000000e+00 0.00000000e+00\n  0.00000000e+00]\n [0.00000000e+00 3.98943469e+00 0.00000000e+00 0.00000000e+00\n  0.00000000e+00]\n [0.00000000e+00 2.41971446e+00 1.33830625e-03 0.00000000e+00\n  0.00000000e+00]\n [0.00000000e+00 5.39911274e-01 4.43186162e-02 0.00000000e+00\n  0.00000000e+00]\n [0.00000000e+00 4.43186162e-02 5.39911274e-01 0.00000000e+00\n  0.00000000e+00]\n [0.00000000e+00 1.33830625e-03 2.41971446e+00 0.00000000e+00\n  0.00000000e+00]\n [0.00000000e+00 0.00000000e+00 3.98943469e+00 1.33830625e-03\n  0.00000000e+00]\n [0.00000000e+00 0.00000000e+00 2.41971446e+00 4.43186162e-02\n  0.00000000e+00]\n [0.00000000e+00 0.00000000e+00 5.39911274e-01 5.39911274e-01\n  0.00000000e+00]\n [0.00000000e+00 0.00000000e+00 4.43186162e-02 2.41971446e+00\n  0.00000000e+00]\n [0.00000000e+00 0.00000000e+00 1.33830625e-03 3.98943469e+00\n  0.00000000e+00]\n [0.00000000e+00 0.00000000e+00 0.00000000e+00 2.41971446e+00\n  1.33830625e-03]\n [0.00000000e+00 0.00000000e+00 0.00000000e+00 5.39911274e-01\n  4.43186162e-02]\n [0.00000000e+00 0.00000000e+00 0.00000000e+00 4.43186162e-02\n  5.39911274e-01]\n [0.00000000e+00 0.00000000e+00 0.00000000e+00 1.33830625e-03\n  2.41971446e+00]\n [0.00000000e+00 0.00000000e+00 0.00000000e+00 0.00000000e+00\n  3.98943469e+00]\n [1.33830625e-03 0.00000000e+00 0.00000000e+00 0.00000000e+00\n  2.41971446e+00]\n [4.43186162e-02 0.00000000e+00 0.00000000e+00 0.00000000e+00\n  5.39911274e-01]\n [5.39911274e-01 0.00000000e+00 0.00000000e+00 0.00000000e+00\n  4.43186162e-02]\n [2.41971446e+00 0.00000000e+00 0.00000000e+00 0.00000000e+00\n  1.33830625e-03]\n [3.98943469e+00 0.00000000e+00 0.00000000e+00 0.00000000e+00\n  0.00000000e+00]\n [2.41971446e+00 0.00000000e+00 0.00000000e+00 0.00000000e+00\n  0.00000000e+00]\n [5.39911274e-01 1.33830625e-03 0.00000000e+00 0.00000000e+00\n  0.00000000e+00]\n [4.43186162e-02 4.43186162e-02 0.00000000e+00 0.00000000e+00\n  0.00000000e+00]\n [1.33830625e-03 5.39911274e-01 0.00000000e+00 0.00000000e+00\n  0.00000000e+00]\n [0.00000000e+00 2.41971446e+00 0.00000000e+00 0.00000000e+00\n  0.00000000e+00]\n [0.00000000e+00 3.98943469e+00 0.00000000e+00 0.00000000e+00\n  0.00000000e+00]\n [0.00000000e+00 2.41971446e+00 1.33830625e-03 0.00000000e+00\n  0.00000000e+00]\n [0.00000000e+00 5.39911274e-01 4.43186162e-02 0.00000000e+00\n  0.00000000e+00]\n [0.00000000e+00 4.43186162e-02 5.39911274e-01 0.00000000e+00\n  0.00000000e+00]\n [0.00000000e+00 1.33830625e-03 2.41971446e+00 0.00000000e+00\n  0.00000000e+00]\n [0.00000000e+00 0.00000000e+00 3.98943469e+00 1.33830625e-03\n  0.00000000e+00]\n [0.00000000e+00 0.00000000e+00 2.41971446e+00 4.43186162e-02\n  0.00000000e+00]\n [0.00000000e+00 0.00000000e+00 5.39911274e-01 5.39911274e-01\n  0.00000000e+00]]\n2021-03-03 14:39:20,939 DEBUG raw:\n2021-03-03 14:39:20,939 DEBUG 0.097 s\n2021-03-03 14:39:20,939 INFO size: (156, 192, 18)\n2021-03-03 14:39:20,940 INFO spacing: (1.3020833730698, 1.3020833730698003, 6.6)\n2021-03-03 14:39:20,940 INFO origin: (164.33134183264, -84.352268586841, 132.53798870472)\n2021-03-03 14:39:20,941 INFO direction: (0.009917314175728859, -0.47361497132670194, -0.8806761639869374, 0.9855851363490526, -0.1441216481902006, 0.08860524550363374, -0.16888927108421972, -0.8688600632197035, 0.4653585764273542)\n2021-03-03 14:39:20,941 INFO pixel type: 32-bit float\n2021-03-03 14:39:20,942 INFO number of pixel components: 1\n2021-03-03 14:39:20,942 DEBUG plot image state failed: 'NoneType' object has no attribute 'GetSize'\n2021-03-03 14:39:20,943 DEBUG old size: [156 192  18], old spacing: [1.30208337 1.30208337 6.6       ], target spacing: [3 3 8]\n2021-03-03 14:39:20,943 DEBUG old size: [156 192  18], old spacing: [1.30208337 1.30208337 6.6       ], target spacing: [3 3 8]\n2021-03-03 14:39:20,944 DEBUG old size: [156 192  18], old spacing: [1.30208337 1.30208337 6.6       ], target spacing: [3 3 8]\n2021-03-03 14:39:20,945 DEBUG old size: [156 192  18], old spacing: [1.30208337 1.30208337 6.6       ], target spacing: [3 3 8]\n2021-03-03 14:39:20,946 DEBUG old size: [156 192  18], old spacing: [1.30208337 1.30208337 6.6       ], target spacing: [3 3 8]\n2021-03-03 14:39:20,946 DEBUG old size: [156 192  18], old spacing: [1.30208337 1.30208337 6.6       ], target spacing: [3 3 8]\n2021-03-03 14:39:20,947 DEBUG old size: [156 192  18], old spacing: [1.30208337 1.30208337 6.6       ], target spacing: [3 3 8]\n2021-03-03 14:39:20,948 DEBUG old size: [156 192  18], old spacing: [1.30208337 1.30208337 6.6       ], target spacing: [3 3 8]\n2021-03-03 14:39:20,949 DEBUG old size: [156 192  18], old spacing: [1.30208337 1.30208337 6.6       ], target spacing: [3 3 8]\n2021-03-03 14:39:20,950 DEBUG old size: [156 192  18], old spacing: [1.30208337 1.30208337 6.6       ], target spacing: [3 3 8]\n2021-03-03 14:39:20,951 DEBUG old size: [156 192  18], old spacing: [1.30208337 1.30208337 6.6       ], target spacing: [3 3 8]\n2021-03-03 14:39:20,952 DEBUG old size: [156 192  18], old spacing: [1.30208337 1.30208337 6.6       ], target spacing: [3 3 8]\n2021-03-03 14:39:20,953 DEBUG old size: [156 192  18], old spacing: [1.30208337 1.30208337 6.6       ], target spacing: [3 3 8]\n2021-03-03 14:39:20,953 DEBUG old size: [156 192  18], old spacing: [1.30208337 1.30208337 6.6       ], target spacing: [3 3 8]\n2021-03-03 14:39:20,953 DEBUG old size: [156 192  18], old spacing: [1.30208337 1.30208337 6.6       ], target spacing: [3 3 8]\n2021-03-03 14:39:20,954 DEBUG old size: [156 192  18], old spacing: [1.30208337 1.30208337 6.6       ], target spacing: [3 3 8]\n2021-03-03 14:39:20,955 DEBUG old size: [156 192  18], old spacing: [1.30208337 1.30208337 6.6       ], target spacing: [3 3 8]\n2021-03-03 14:39:20,955 DEBUG old size: [156 192  18], old spacing: [1.30208337 1.30208337 6.6       ], target spacing: [3 3 8]\n2021-03-03 14:39:20,955 DEBUG old size: [156 192  18], old spacing: [1.30208337 1.30208337 6.6       ], target spacing: [3 3 8]\n2021-03-03 14:39:20,956 DEBUG old size: [156 192  18], old spacing: [1.30208337 1.30208337 6.6       ], target spacing: [3 3 8]\n2021-03-03 14:39:20,956 DEBUG old size: [156 192  18], old spacing: [1.30208337 1.30208337 6.6       ], target spacing: [3 3 8]\n2021-03-03 14:39:20,957 DEBUG old size: [156 192  18], old spacing: [1.30208337 1.30208337 6.6       ], target spacing: [3 3 8]\n2021-03-03 14:39:20,958 DEBUG old size: [156 192  18], old spacing: [1.30208337 1.30208337 6.6       ], target spacing: [3 3 8]\n2021-03-03 14:39:20,958 DEBUG old size: [156 192  18], old spacing: [1.30208337 1.30208337 6.6       ], target spacing: [3 3 8]\n2021-03-03 14:39:20,959 DEBUG old size: [156 192  18], old spacing: [1.30208337 1.30208337 6.6       ], target spacing: [3 3 8]\n2021-03-03 14:39:20,959 DEBUG dimension: 3\n2021-03-03 14:39:20,960 DEBUG Size before resample: (156, 192, 18)\n2021-03-03 14:39:20,973 DEBUG Spacing after resample: (3.0, 3.0, 8.0)\n2021-03-03 14:39:20,973 DEBUG Size after resample: (68, 83, 15)\n2021-03-03 14:39:20,975 DEBUG resampled:\n2021-03-03 14:39:20,975 DEBUG 0.033 s\n2021-03-03 14:39:20,976 INFO size: (68, 83, 15)\n2021-03-03 14:39:20,976 INFO spacing: (1.0, 1.0, 1.0)\n2021-03-03 14:39:20,976 INFO origin: (0.0, 0.0, 0.0)\n2021-03-03 14:39:20,977 INFO direction: (1.0, 0.0, 0.0, 0.0, 1.0, 0.0, 0.0, 0.0, 1.0)\n2021-03-03 14:39:20,977 INFO pixel type: 32-bit float\n2021-03-03 14:39:20,977 INFO number of pixel components: 1\n2021-03-03 14:39:20,978 DEBUG plot image state failed: 'NoneType' object has no attribute 'GetSize'\n2021-03-03 14:39:20,994 DEBUG {'__class_fullname__': 'albumentations.core.composition.ReplayCompose', 'params': None, 'transforms': [{'__class_fullname__': 'albumentations.augmentations.transforms.ShiftScaleRotate', 'always_apply': False, 'p': 0.8, 'shift_limit_x': (-0.025, 0.025), 'shift_limit_y': (-0.025, 0.025), 'scale_limit': (0.0, 0.0), 'rotate_limit': (-45, 45), 'interpolation': 1, 'border_mode': 1, 'value': 0, 'mask_value': None, 'params': {'angle': -42.31825025057367, 'scale': 1.0, 'dx': 0.000267764405168118, 'dy': -0.02367320151580682}, 'applied': True}], 'applied': True}\n2021-03-03 14:39:20,997 DEBUG augmented:\n2021-03-03 14:39:20,998 DEBUG 0.055 s\n2021-03-03 14:39:20,998 INFO size: (68, 83, 15)\n2021-03-03 14:39:20,999 INFO spacing: (1.0, 1.0, 1.0)\n2021-03-03 14:39:20,999 INFO origin: (0.0, 0.0, 0.0)\n2021-03-03 14:39:20,999 INFO direction: (1.0, 0.0, 0.0, 0.0, 1.0, 0.0, 0.0, 0.0, 1.0)\n2021-03-03 14:39:20,999 INFO pixel type: 32-bit float\n2021-03-03 14:39:21,000 INFO number of pixel components: 1\n2021-03-03 14:39:21,000 DEBUG plot image state failed: 'NoneType' object has no attribute 'GetSize'\n2021-03-03 14:39:21,016 DEBUG input shape, crop_and_pad: (36, 15, 83, 68)\n2021-03-03 14:39:21,017 DEBUG target shape, crop_and_pad: [36  8 64 64]\n2021-03-03 14:39:21,018 DEBUG input shape, crop_and_pad: (36, 5)\n2021-03-03 14:39:21,018 DEBUG target shape, crop_and_pad: [36  5]\n2021-03-03 14:39:21,018 DEBUG input shape, crop_and_pad: (36, 5)\n2021-03-03 14:39:21,019 DEBUG target shape, crop_and_pad: [36  5]\n2021-03-03 14:39:21,024 DEBUG background: \n[[4.43186162e-02 4.56569224e-02 0.00000000e+00 0.00000000e+00\n  0.00000000e+00]\n [1.33830625e-03 5.39911274e-01 0.00000000e+00 0.00000000e+00\n  0.00000000e+00]\n [0.00000000e+00 2.41971446e+00 0.00000000e+00 0.00000000e+00\n  0.00000000e+00]\n [0.00000000e+00 3.98943469e+00 0.00000000e+00 0.00000000e+00\n  0.00000000e+00]\n [0.00000000e+00 2.41971446e+00 1.33830625e-03 0.00000000e+00\n  0.00000000e+00]\n [0.00000000e+00 5.39911274e-01 4.43186162e-02 0.00000000e+00\n  0.00000000e+00]\n [0.00000000e+00 4.43186162e-02 5.39911274e-01 0.00000000e+00\n  0.00000000e+00]\n [0.00000000e+00 1.33830625e-03 2.41971446e+00 0.00000000e+00\n  0.00000000e+00]\n [0.00000000e+00 0.00000000e+00 3.98943469e+00 1.33830625e-03\n  0.00000000e+00]\n [0.00000000e+00 0.00000000e+00 2.41971446e+00 4.43186162e-02\n  0.00000000e+00]\n [0.00000000e+00 0.00000000e+00 5.39911274e-01 5.39911274e-01\n  0.00000000e+00]\n [0.00000000e+00 0.00000000e+00 4.43186162e-02 2.41971446e+00\n  0.00000000e+00]\n [0.00000000e+00 0.00000000e+00 1.33830625e-03 3.98943469e+00\n  0.00000000e+00]\n [0.00000000e+00 0.00000000e+00 0.00000000e+00 2.41971446e+00\n  1.33830625e-03]\n [0.00000000e+00 0.00000000e+00 0.00000000e+00 5.39911274e-01\n  4.43186162e-02]\n [0.00000000e+00 0.00000000e+00 0.00000000e+00 4.43186162e-02\n  5.39911274e-01]\n [0.00000000e+00 0.00000000e+00 0.00000000e+00 1.33830625e-03\n  2.41971446e+00]\n [0.00000000e+00 0.00000000e+00 0.00000000e+00 0.00000000e+00\n  3.98943469e+00]\n [1.33830625e-03 0.00000000e+00 0.00000000e+00 0.00000000e+00\n  2.41971446e+00]\n [4.43186162e-02 0.00000000e+00 0.00000000e+00 0.00000000e+00\n  5.39911274e-01]\n [5.39911274e-01 0.00000000e+00 0.00000000e+00 0.00000000e+00\n  4.43186162e-02]\n [2.41971446e+00 0.00000000e+00 0.00000000e+00 0.00000000e+00\n  1.33830625e-03]\n [3.98943469e+00 0.00000000e+00 0.00000000e+00 0.00000000e+00\n  0.00000000e+00]\n [2.41971446e+00 0.00000000e+00 0.00000000e+00 0.00000000e+00\n  0.00000000e+00]\n [5.39911274e-01 1.33830625e-03 0.00000000e+00 0.00000000e+00\n  0.00000000e+00]\n [4.43186162e-02 4.43186162e-02 0.00000000e+00 0.00000000e+00\n  0.00000000e+00]\n [1.33830625e-03 5.39911274e-01 0.00000000e+00 0.00000000e+00\n  0.00000000e+00]\n [0.00000000e+00 2.41971446e+00 0.00000000e+00 0.00000000e+00\n  0.00000000e+00]\n [0.00000000e+00 3.98943469e+00 0.00000000e+00 0.00000000e+00\n  0.00000000e+00]\n [0.00000000e+00 2.41971446e+00 1.33830625e-03 0.00000000e+00\n  0.00000000e+00]\n [0.00000000e+00 5.39911274e-01 4.43186162e-02 0.00000000e+00\n  0.00000000e+00]\n [0.00000000e+00 4.43186162e-02 5.39911274e-01 0.00000000e+00\n  0.00000000e+00]\n [0.00000000e+00 1.33830625e-03 2.41971446e+00 0.00000000e+00\n  0.00000000e+00]\n [0.00000000e+00 0.00000000e+00 3.98943469e+00 1.33830625e-03\n  0.00000000e+00]\n [0.00000000e+00 0.00000000e+00 2.41971446e+00 4.43186162e-02\n  0.00000000e+00]\n [0.00000000e+00 0.00000000e+00 5.39911274e-01 5.39911274e-01\n  0.00000000e+00]]\n2021-03-03 14:39:21,026 DEBUG normalised (sum phases per timestep == 1): \n[[4.43186162e-02 4.56569224e-02 0.00000000e+00 0.00000000e+00\n  0.00000000e+00]\n [1.33830625e-03 5.39911274e-01 0.00000000e+00 0.00000000e+00\n  0.00000000e+00]\n [0.00000000e+00 2.41971446e+00 0.00000000e+00 0.00000000e+00\n  0.00000000e+00]\n [0.00000000e+00 3.98943469e+00 0.00000000e+00 0.00000000e+00\n  0.00000000e+00]\n [0.00000000e+00 2.41971446e+00 1.33830625e-03 0.00000000e+00\n  0.00000000e+00]\n [0.00000000e+00 5.39911274e-01 4.43186162e-02 0.00000000e+00\n  0.00000000e+00]\n [0.00000000e+00 4.43186162e-02 5.39911274e-01 0.00000000e+00\n  0.00000000e+00]\n [0.00000000e+00 1.33830625e-03 2.41971446e+00 0.00000000e+00\n  0.00000000e+00]\n [0.00000000e+00 0.00000000e+00 3.98943469e+00 1.33830625e-03\n  0.00000000e+00]\n [0.00000000e+00 0.00000000e+00 2.41971446e+00 4.43186162e-02\n  0.00000000e+00]\n [0.00000000e+00 0.00000000e+00 5.39911274e-01 5.39911274e-01\n  0.00000000e+00]\n [0.00000000e+00 0.00000000e+00 4.43186162e-02 2.41971446e+00\n  0.00000000e+00]\n [0.00000000e+00 0.00000000e+00 1.33830625e-03 3.98943469e+00\n  0.00000000e+00]\n [0.00000000e+00 0.00000000e+00 0.00000000e+00 2.41971446e+00\n  1.33830625e-03]\n [0.00000000e+00 0.00000000e+00 0.00000000e+00 5.39911274e-01\n  4.43186162e-02]\n [0.00000000e+00 0.00000000e+00 0.00000000e+00 4.43186162e-02\n  5.39911274e-01]\n [0.00000000e+00 0.00000000e+00 0.00000000e+00 1.33830625e-03\n  2.41971446e+00]\n [0.00000000e+00 0.00000000e+00 0.00000000e+00 0.00000000e+00\n  3.98943469e+00]\n [1.33830625e-03 0.00000000e+00 0.00000000e+00 0.00000000e+00\n  2.41971446e+00]\n [4.43186162e-02 0.00000000e+00 0.00000000e+00 0.00000000e+00\n  5.39911274e-01]\n [5.39911274e-01 0.00000000e+00 0.00000000e+00 0.00000000e+00\n  4.43186162e-02]\n [2.41971446e+00 0.00000000e+00 0.00000000e+00 0.00000000e+00\n  1.33830625e-03]\n [3.98943469e+00 0.00000000e+00 0.00000000e+00 0.00000000e+00\n  0.00000000e+00]\n [2.41971446e+00 0.00000000e+00 0.00000000e+00 0.00000000e+00\n  0.00000000e+00]\n [5.39911274e-01 1.33830625e-03 0.00000000e+00 0.00000000e+00\n  0.00000000e+00]\n [4.43186162e-02 4.43186162e-02 0.00000000e+00 0.00000000e+00\n  0.00000000e+00]\n [1.33830625e-03 5.39911274e-01 0.00000000e+00 0.00000000e+00\n  0.00000000e+00]\n [0.00000000e+00 2.41971446e+00 0.00000000e+00 0.00000000e+00\n  0.00000000e+00]\n [0.00000000e+00 3.98943469e+00 0.00000000e+00 0.00000000e+00\n  0.00000000e+00]\n [0.00000000e+00 2.41971446e+00 1.33830625e-03 0.00000000e+00\n  0.00000000e+00]\n [0.00000000e+00 5.39911274e-01 4.43186162e-02 0.00000000e+00\n  0.00000000e+00]\n [0.00000000e+00 4.43186162e-02 5.39911274e-01 0.00000000e+00\n  0.00000000e+00]\n [0.00000000e+00 1.33830625e-03 2.41971446e+00 0.00000000e+00\n  0.00000000e+00]\n [0.00000000e+00 0.00000000e+00 3.98943469e+00 1.33830625e-03\n  0.00000000e+00]\n [0.00000000e+00 0.00000000e+00 2.41971446e+00 4.43186162e-02\n  0.00000000e+00]\n [0.00000000e+00 0.00000000e+00 5.39911274e-01 5.39911274e-01\n  0.00000000e+00]]\n2021-03-03 14:39:21,026 DEBUG clipped cropped and pad:\n2021-03-03 14:39:21,027 DEBUG 0.026 s\n2021-03-03 14:39:21,027 INFO size: (64, 64, 8)\n2021-03-03 14:39:21,027 INFO spacing: (1.0, 1.0, 1.0)\n2021-03-03 14:39:21,028 INFO origin: (0.0, 0.0, 0.0)\n2021-03-03 14:39:21,028 INFO direction: (1.0, 0.0, 0.0, 0.0, 1.0, 0.0, 0.0, 0.0, 1.0)\n2021-03-03 14:39:21,028 INFO pixel type: 32-bit float\n2021-03-03 14:39:21,029 INFO number of pixel components: 1\n2021-03-03 14:39:21,029 DEBUG plot image state failed: 'NoneType' object has no attribute 'GetSize'\n2021-03-03 14:39:21,032 DEBUG img finished after 0.188 sec.\n2021-03-03 14:39:21,032 DEBUG Batchsize: 1 preprocessing took: 0.190 sec\n2021-03-03 14:39:21,032 INFO Preprocessing took: 0.192\n"
        },
        {
         "name": "stdout",
         "output_type": "stream",
         "text": "(1, 36, 8, 64, 64, 1) (1, 2, 36, 5)\nselected batch : 104\n"
        },
        {
         "data": {
          "image/png": "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\n",
          "text/plain": "<Figure size 144x360 with 1 Axes>"
         },
         "metadata": {
          "needs_background": "light"
         },
         "output_type": "display_data"
        },
        {
         "name": "stderr",
         "output_type": "stream",
         "text": "2021-03-03 14:39:21,094 INFO GT length: 5\n2021-03-03 14:39:21,095 DEBUG pad: \n[[4.4318616e-02 4.5656923e-02 0.0000000e+00 0.0000000e+00 0.0000000e+00]\n [1.3383062e-03 5.3991127e-01 0.0000000e+00 0.0000000e+00 0.0000000e+00]\n [0.0000000e+00 2.4197145e+00 0.0000000e+00 0.0000000e+00 0.0000000e+00]\n [0.0000000e+00 3.9894347e+00 0.0000000e+00 0.0000000e+00 0.0000000e+00]\n [0.0000000e+00 2.4197145e+00 1.3383062e-03 0.0000000e+00 0.0000000e+00]\n [0.0000000e+00 5.3991127e-01 4.4318616e-02 0.0000000e+00 0.0000000e+00]\n [0.0000000e+00 4.4318616e-02 5.3991127e-01 0.0000000e+00 0.0000000e+00]\n [0.0000000e+00 1.3383062e-03 2.4197145e+00 0.0000000e+00 0.0000000e+00]\n [0.0000000e+00 0.0000000e+00 3.9894347e+00 1.3383062e-03 0.0000000e+00]\n [0.0000000e+00 0.0000000e+00 2.4197145e+00 4.4318616e-02 0.0000000e+00]\n [0.0000000e+00 0.0000000e+00 5.3991127e-01 5.3991127e-01 0.0000000e+00]\n [0.0000000e+00 0.0000000e+00 4.4318616e-02 2.4197145e+00 0.0000000e+00]\n [0.0000000e+00 0.0000000e+00 1.3383062e-03 3.9894347e+00 0.0000000e+00]\n [0.0000000e+00 0.0000000e+00 0.0000000e+00 2.4197145e+00 1.3383062e-03]\n [0.0000000e+00 0.0000000e+00 0.0000000e+00 5.3991127e-01 4.4318616e-02]\n [0.0000000e+00 0.0000000e+00 0.0000000e+00 4.4318616e-02 5.3991127e-01]\n [0.0000000e+00 0.0000000e+00 0.0000000e+00 1.3383062e-03 2.4197145e+00]\n [0.0000000e+00 0.0000000e+00 0.0000000e+00 0.0000000e+00 3.9894347e+00]\n [1.3383062e-03 0.0000000e+00 0.0000000e+00 0.0000000e+00 2.4197145e+00]\n [4.4318616e-02 0.0000000e+00 0.0000000e+00 0.0000000e+00 5.3991127e-01]\n [5.3991127e-01 0.0000000e+00 0.0000000e+00 0.0000000e+00 4.4318616e-02]\n [2.4197145e+00 0.0000000e+00 0.0000000e+00 0.0000000e+00 1.3383062e-03]\n [3.9894347e+00 0.0000000e+00 0.0000000e+00 0.0000000e+00 0.0000000e+00]\n [2.4197145e+00 0.0000000e+00 0.0000000e+00 0.0000000e+00 0.0000000e+00]\n [5.3991127e-01 1.3383062e-03 0.0000000e+00 0.0000000e+00 0.0000000e+00]\n [1.0000000e+00 1.0000000e+00 1.0000000e+00 1.0000000e+00 1.0000000e+00]\n [1.3383062e-03 5.3991127e-01 0.0000000e+00 0.0000000e+00 0.0000000e+00]\n [0.0000000e+00 2.4197145e+00 0.0000000e+00 0.0000000e+00 0.0000000e+00]\n [0.0000000e+00 3.9894347e+00 0.0000000e+00 0.0000000e+00 0.0000000e+00]\n [0.0000000e+00 2.4197145e+00 1.3383062e-03 0.0000000e+00 0.0000000e+00]\n [0.0000000e+00 5.3991127e-01 4.4318616e-02 0.0000000e+00 0.0000000e+00]\n [0.0000000e+00 4.4318616e-02 5.3991127e-01 0.0000000e+00 0.0000000e+00]\n [0.0000000e+00 1.3383062e-03 2.4197145e+00 0.0000000e+00 0.0000000e+00]\n [0.0000000e+00 0.0000000e+00 3.9894347e+00 1.3383062e-03 0.0000000e+00]\n [0.0000000e+00 0.0000000e+00 2.4197145e+00 4.4318616e-02 0.0000000e+00]\n [0.0000000e+00 0.0000000e+00 5.3991127e-01 5.3991127e-01 0.0000000e+00]]\n"
        }
       ]
      }
     },
     "c08bdd7ecda34fb99c9aa6fab4a82076": {
      "model_module": "@jupyter-widgets/base",
      "model_module_version": "1.2.0",
      "model_name": "LayoutModel",
      "state": {}
     },
     "c2fde67ef9cd4e30a7875247af4eda25": {
      "model_module": "@jupyter-widgets/base",
      "model_module_version": "1.2.0",
      "model_name": "LayoutModel",
      "state": {}
     },
     "c3741ed1bee34cf496d021663b59521d": {
      "model_module": "@jupyter-widgets/controls",
      "model_module_version": "1.5.0",
      "model_name": "DescriptionStyleModel",
      "state": {
       "description_width": ""
      }
     },
     "c4dc813ab6e24d4cb3fea91284ba6d3f": {
      "model_module": "@jupyter-widgets/base",
      "model_module_version": "1.2.0",
      "model_name": "LayoutModel",
      "state": {}
     },
     "c50460a4a9a541219fb80b1b9cd50b70": {
      "model_module": "@jupyter-widgets/base",
      "model_module_version": "1.2.0",
      "model_name": "LayoutModel",
      "state": {}
     },
     "c6e01296de6040748f08cba825ff266b": {
      "model_module": "@jupyter-widgets/base",
      "model_module_version": "1.2.0",
      "model_name": "LayoutModel",
      "state": {}
     },
     "c84c0099c49e41a3bd7941b518cc0c45": {
      "model_module": "@jupyter-widgets/base",
      "model_module_version": "1.2.0",
      "model_name": "LayoutModel",
      "state": {}
     },
     "c964ab0d7b7d471eaa4ce707d612fbf4": {
      "model_module": "@jupyter-widgets/base",
      "model_module_version": "1.2.0",
      "model_name": "LayoutModel",
      "state": {}
     },
     "cad6bc2b8510427e91d87ddfd0726271": {
      "model_module": "@jupyter-widgets/controls",
      "model_module_version": "1.5.0",
      "model_name": "CheckboxModel",
      "state": {
       "description": "show_input_vol",
       "disabled": false,
       "layout": "IPY_MODEL_d6f80ccbf52f4cae947b2e2aa54a46a1",
       "style": "IPY_MODEL_0d9a65b1bfda4fd3b62edd1e910d91ba",
       "value": false
      }
     },
     "cc75ed78d56e49c8b5d20dd16c3ac7b4": {
      "model_module": "@jupyter-widgets/controls",
      "model_module_version": "1.5.0",
      "model_name": "DescriptionStyleModel",
      "state": {
       "description_width": ""
      }
     },
     "cc98eed96ee24082a812d7c00a849db7": {
      "model_module": "@jupyter-widgets/controls",
      "model_module_version": "1.5.0",
      "model_name": "TextModel",
      "state": {
       "description": "filename",
       "layout": "IPY_MODEL_c50460a4a9a541219fb80b1b9cd50b70",
       "style": "IPY_MODEL_7a6958fbcbcc48878e6f68eb6d9c4565",
       "value": "temp_x.npy"
      }
     },
     "cd913ad55f46486d9e057a7831086fad": {
      "model_module": "@jupyter-widgets/controls",
      "model_module_version": "1.5.0",
      "model_name": "TextModel",
      "state": {
       "description": "filename",
       "layout": "IPY_MODEL_856add0505a3450681de9f723992401d",
       "style": "IPY_MODEL_41c74817b6f74863af72bf6a94670c56",
       "value": "temp_x.npy"
      }
     },
     "cf47dd3806a746b291ec936a89d0f553": {
      "model_module": "@jupyter-widgets/controls",
      "model_module_version": "1.5.0",
      "model_name": "IntSliderModel",
      "state": {
       "description": "im",
       "layout": "IPY_MODEL_234db2bb91cd40b68b542c480faf9aa3",
       "max": 0,
       "style": "IPY_MODEL_7e68624c28e2499592437f4ce6827cc9"
      }
     },
     "d00566babad74fc1b35b3bd7b46bfe16": {
      "model_module": "@jupyter-widgets/controls",
      "model_module_version": "1.5.0",
      "model_name": "ButtonModel",
      "state": {
       "description": "Run Interact",
       "layout": "IPY_MODEL_38674b7973204e52baf742a311d7581e",
       "style": "IPY_MODEL_4d5b6632f35849fdac4fed41025d8a26"
      }
     },
     "d073c93542794f1a844d5ca4e3e5c7b3": {
      "model_module": "@jupyter-widgets/controls",
      "model_module_version": "1.5.0",
      "model_name": "CheckboxModel",
      "state": {
       "description": "save",
       "disabled": false,
       "layout": "IPY_MODEL_2bad682b9259404a8e88bb8c9e17082e",
       "style": "IPY_MODEL_8fb56c47109449e79ffd2bf2f6f09600",
       "value": false
      }
     },
     "d32724fb82cb4962b5a2e6792702aea5": {
      "model_module": "@jupyter-widgets/controls",
      "model_module_version": "1.5.0",
      "model_name": "ButtonStyleModel",
      "state": {}
     },
     "d4fd37628c184e61b1358cfda26e737b": {
      "model_module": "@jupyter-widgets/controls",
      "model_module_version": "1.5.0",
      "model_name": "VBoxModel",
      "state": {
       "_dom_classes": [
        "widget-interact"
       ],
       "children": [
        "IPY_MODEL_9902162387184ee1a7dd10a4366599cc",
        "IPY_MODEL_9f0baba55ea34ce0aee425a14c458193",
        "IPY_MODEL_e7afc2cb564046a39f1c47a32e302711",
        "IPY_MODEL_deb89069d2114d95b329e5097fc8f6a0",
        "IPY_MODEL_6a51405ad3f8402bbf65e8cafeac636a",
        "IPY_MODEL_0536f92c3ac240abaac026fe40d212c9",
        "IPY_MODEL_7be0a56544c64fe7943a4f8b5eafe477",
        "IPY_MODEL_def09718af234d31b1b50a5093f56443",
        "IPY_MODEL_1260fd68963f4054b7d4987d31fae7ad",
        "IPY_MODEL_95c93fdec381423cb8a51169bc74478b"
       ],
       "layout": "IPY_MODEL_c4dc813ab6e24d4cb3fea91284ba6d3f"
      }
     },
     "d5ae0884a359405c840cfe315dcbf717": {
      "model_module": "@jupyter-widgets/base",
      "model_module_version": "1.2.0",
      "model_name": "LayoutModel",
      "state": {}
     },
     "d6f80ccbf52f4cae947b2e2aa54a46a1": {
      "model_module": "@jupyter-widgets/base",
      "model_module_version": "1.2.0",
      "model_name": "LayoutModel",
      "state": {}
     },
     "d9919673a2d0451cb45a9c866eefc9b0": {
      "model_module": "@jupyter-widgets/base",
      "model_module_version": "1.2.0",
      "model_name": "LayoutModel",
      "state": {}
     },
     "db632d530f364d5eaa50446f52abf55a": {
      "model_module": "@jupyter-widgets/base",
      "model_module_version": "1.2.0",
      "model_name": "LayoutModel",
      "state": {}
     },
     "dc858667621e4021be7f1740eec77b94": {
      "model_module": "@jupyter-widgets/controls",
      "model_module_version": "1.5.0",
      "model_name": "DescriptionStyleModel",
      "state": {
       "description_width": ""
      }
     },
     "dd3dff2cbec84141baa16d26007b5213": {
      "model_module": "@jupyter-widgets/controls",
      "model_module_version": "1.5.0",
      "model_name": "IntSliderModel",
      "state": {
       "description": "batch",
       "layout": "IPY_MODEL_48ec09f909de4d86934a9bb8b3a480b0",
       "max": 209,
       "style": "IPY_MODEL_b9426b8675494053942a1591ba3015c3",
       "value": 104
      }
     },
     "dd8c833d4c2f4b48af53b57186448996": {
      "model_module": "@jupyter-widgets/controls",
      "model_module_version": "1.5.0",
      "model_name": "CheckboxModel",
      "state": {
       "description": "show_overview",
       "disabled": false,
       "layout": "IPY_MODEL_0bd887e022f44890b3e59c74e5526b2d",
       "style": "IPY_MODEL_9d5d880da349450a974549ac24afa1cc",
       "value": true
      }
     },
     "dd969eb662604a9e97f21c2b8501cae5": {
      "model_module": "@jupyter-widgets/controls",
      "model_module_version": "1.5.0",
      "model_name": "SliderStyleModel",
      "state": {
       "description_width": ""
      }
     },
     "dea97f3f3c63414b9573707a0900be3d": {
      "model_module": "@jupyter-widgets/controls",
      "model_module_version": "1.5.0",
      "model_name": "DescriptionStyleModel",
      "state": {
       "description_width": ""
      }
     },
     "deb89069d2114d95b329e5097fc8f6a0": {
      "model_module": "@jupyter-widgets/controls",
      "model_module_version": "1.5.0",
      "model_name": "CheckboxModel",
      "state": {
       "description": "save",
       "disabled": false,
       "layout": "IPY_MODEL_49d6285f3efd41da8a430ffcf7a454e2",
       "style": "IPY_MODEL_f4c62d38e65940488792e518321e8d08",
       "value": false
      }
     },
     "def09718af234d31b1b50a5093f56443": {
      "model_module": "@jupyter-widgets/controls",
      "model_module_version": "1.5.0",
      "model_name": "CheckboxModel",
      "state": {
       "description": "show_input_vol",
       "disabled": false,
       "layout": "IPY_MODEL_8e73652133ae4123904f96f90c0995e4",
       "style": "IPY_MODEL_f1118454553549c295c1be04d661d406",
       "value": false
      }
     },
     "df4e0c2ef11849dbb0129ef429074623": {
      "model_module": "@jupyter-widgets/base",
      "model_module_version": "1.2.0",
      "model_name": "LayoutModel",
      "state": {}
     },
     "df52deeecaa44f4d8e1c06e1d4b99742": {
      "model_module": "@jupyter-widgets/base",
      "model_module_version": "1.2.0",
      "model_name": "LayoutModel",
      "state": {}
     },
     "e13df0fc08fa44e6b44915edf812e67c": {
      "model_module": "@jupyter-widgets/controls",
      "model_module_version": "1.5.0",
      "model_name": "IntSliderModel",
      "state": {
       "description": "im",
       "layout": "IPY_MODEL_9e17ee3eb8864da7b307ab080eba69fd",
       "max": 0,
       "style": "IPY_MODEL_64b054082a9f405b872614f850b65762"
      }
     },
     "e1e268845f224b49bf7c0159228f6126": {
      "model_module": "@jupyter-widgets/base",
      "model_module_version": "1.2.0",
      "model_name": "LayoutModel",
      "state": {}
     },
     "e1e661a74a734cbd88de8ecb2aa8277b": {
      "model_module": "@jupyter-widgets/output",
      "model_module_version": "1.0.0",
      "model_name": "OutputModel",
      "state": {
       "layout": "IPY_MODEL_97db8df22451449b80074b013af781e6",
       "outputs": [
        {
         "name": "stderr",
         "output_type": "stream",
         "text": "2021-03-03 14:56:09,643 DEBUG index generation: 3.743171691894531e-05\n2021-03-03 14:56:09,729 DEBUG onehot initialised:\n"
        },
        {
         "data": {
          "image/png": "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\n",
          "text/plain": "<Figure size 432x288 with 1 Axes>"
         },
         "metadata": {
          "needs_background": "light"
         },
         "output_type": "display_data"
        },
        {
         "name": "stderr",
         "output_type": "stream",
         "text": "2021-03-03 14:56:09,784 DEBUG temp augmentation with: 2\n2021-03-03 14:56:09,785 DEBUG onehot repeated 2:\n"
        },
        {
         "data": {
          "image/png": "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\n",
          "text/plain": "<Figure size 432x288 with 1 Axes>"
         },
         "metadata": {
          "needs_background": "light"
         },
         "output_type": "display_data"
        },
        {
         "name": "stderr",
         "output_type": "stream",
         "text": "2021-03-03 14:56:09,838 DEBUG onehot smoothed sigma=1:\n"
        },
        {
         "data": {
          "image/png": "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\n",
          "text/plain": "<Figure size 432x288 with 1 Axes>"
         },
         "metadata": {
          "needs_background": "light"
         },
         "output_type": "display_data"
        },
        {
         "name": "stderr",
         "output_type": "stream",
         "text": "2021-03-03 14:56:09,890 DEBUG onehot element-wise max and cropped to a length of 36:\n"
        },
        {
         "data": {
          "image/png": "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\n",
          "text/plain": "<Figure size 432x288 with 1 Axes>"
         },
         "metadata": {
          "needs_background": "light"
         },
         "output_type": "display_data"
        },
        {
         "name": "stderr",
         "output_type": "stream",
         "text": "2021-03-03 14:56:10,018 DEBUG onehot transposed:\n"
        },
        {
         "data": {
          "image/png": "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\n",
          "text/plain": "<Figure size 432x288 with 1 Axes>"
         },
         "metadata": {
          "needs_background": "light"
         },
         "output_type": "display_data"
        },
        {
         "name": "stderr",
         "output_type": "stream",
         "text": "2021-03-03 14:56:10,077 DEBUG raw:\n2021-03-03 14:56:10,077 DEBUG 0.432 s\n2021-03-03 14:56:10,078 INFO size: (256, 256, 13)\n2021-03-03 14:56:10,078 INFO spacing: (1.25, 1.2499999999999998, 8.800000190734858)\n2021-03-03 14:56:10,079 INFO origin: (95.5706176757812, -198.44193840026, 196.037221908569)\n2021-03-03 14:56:10,079 INFO direction: (0.3710637193596069, -0.6204017446131285, -0.6909510774693108, 0.8809958111236192, -2.775557561562892e-17, 0.4731240648948605, -0.2935269952792265, -0.784284180180237, 0.5465713382179517)\n2021-03-03 14:56:10,079 INFO pixel type: 32-bit float\n2021-03-03 14:56:10,080 INFO number of pixel components: 1\n2021-03-03 14:56:10,080 DEBUG plot image state failed: 'NoneType' object has no attribute 'GetSize'\n2021-03-03 14:56:10,081 DEBUG old size: [256 256  13], old spacing: [1.25       1.25       8.80000019], target spacing: [3 3 8]\n2021-03-03 14:56:10,081 DEBUG old size: [256 256  13], old spacing: [1.25       1.25       8.80000019], target spacing: [3 3 8]\n2021-03-03 14:56:10,082 DEBUG old size: [256 256  13], old spacing: [1.25       1.25       8.80000019], target spacing: [3 3 8]\n2021-03-03 14:56:10,082 DEBUG old size: [256 256  13], old spacing: [1.25       1.25       8.80000019], target spacing: [3 3 8]\n2021-03-03 14:56:10,083 DEBUG old size: [256 256  13], old spacing: [1.25       1.25       8.80000019], target spacing: [3 3 8]\n2021-03-03 14:56:10,083 DEBUG old size: [256 256  13], old spacing: [1.25       1.25       8.80000019], target spacing: [3 3 8]\n2021-03-03 14:56:10,084 DEBUG old size: [256 256  13], old spacing: [1.25       1.25       8.80000019], target spacing: [3 3 8]\n2021-03-03 14:56:10,084 DEBUG old size: [256 256  13], old spacing: [1.25       1.25       8.80000019], target spacing: [3 3 8]\n2021-03-03 14:56:10,085 DEBUG old size: [256 256  13], old spacing: [1.25       1.25       8.80000019], target spacing: [3 3 8]\n2021-03-03 14:56:10,085 DEBUG old size: [256 256  13], old spacing: [1.25       1.25       8.80000019], target spacing: [3 3 8]\n2021-03-03 14:56:10,086 DEBUG old size: [256 256  13], old spacing: [1.25       1.25       8.80000019], target spacing: [3 3 8]\n2021-03-03 14:56:10,087 DEBUG old size: [256 256  13], old spacing: [1.25       1.25       8.80000019], target spacing: [3 3 8]\n2021-03-03 14:56:10,087 DEBUG old size: [256 256  13], old spacing: [1.25       1.25       8.80000019], target spacing: [3 3 8]\n2021-03-03 14:56:10,088 DEBUG old size: [256 256  13], old spacing: [1.25       1.25       8.80000019], target spacing: [3 3 8]\n2021-03-03 14:56:10,088 DEBUG old size: [256 256  13], old spacing: [1.25       1.25       8.80000019], target spacing: [3 3 8]\n2021-03-03 14:56:10,089 DEBUG old size: [256 256  13], old spacing: [1.25       1.25       8.80000019], target spacing: [3 3 8]\n2021-03-03 14:56:10,089 DEBUG old size: [256 256  13], old spacing: [1.25       1.25       8.80000019], target spacing: [3 3 8]\n2021-03-03 14:56:10,090 DEBUG old size: [256 256  13], old spacing: [1.25       1.25       8.80000019], target spacing: [3 3 8]\n2021-03-03 14:56:10,091 DEBUG old size: [256 256  13], old spacing: [1.25       1.25       8.80000019], target spacing: [3 3 8]\n2021-03-03 14:56:10,091 DEBUG old size: [256 256  13], old spacing: [1.25       1.25       8.80000019], target spacing: [3 3 8]\n2021-03-03 14:56:10,092 DEBUG old size: [256 256  13], old spacing: [1.25       1.25       8.80000019], target spacing: [3 3 8]\n2021-03-03 14:56:10,092 DEBUG old size: [256 256  13], old spacing: [1.25       1.25       8.80000019], target spacing: [3 3 8]\n2021-03-03 14:56:10,093 DEBUG old size: [256 256  13], old spacing: [1.25       1.25       8.80000019], target spacing: [3 3 8]\n2021-03-03 14:56:10,093 DEBUG old size: [256 256  13], old spacing: [1.25       1.25       8.80000019], target spacing: [3 3 8]\n2021-03-03 14:56:10,094 DEBUG old size: [256 256  13], old spacing: [1.25       1.25       8.80000019], target spacing: [3 3 8]\n2021-03-03 14:56:10,094 DEBUG dimension: 3\n2021-03-03 14:56:10,095 DEBUG Size before resample: (256, 256, 13)\n2021-03-03 14:56:10,113 DEBUG Spacing after resample: (3.0, 3.0, 8.0)\n2021-03-03 14:56:10,114 DEBUG Size after resample: (107, 107, 14)\n2021-03-03 14:56:10,116 DEBUG resampled:\n2021-03-03 14:56:10,116 DEBUG 0.036 s\n2021-03-03 14:56:10,117 INFO size: (107, 107, 14)\n2021-03-03 14:56:10,117 INFO spacing: (1.0, 1.0, 1.0)\n2021-03-03 14:56:10,117 INFO origin: (0.0, 0.0, 0.0)\n2021-03-03 14:56:10,118 INFO direction: (1.0, 0.0, 0.0, 0.0, 1.0, 0.0, 0.0, 0.0, 1.0)\n2021-03-03 14:56:10,118 INFO pixel type: 32-bit float\n2021-03-03 14:56:10,118 INFO number of pixel components: 1\n2021-03-03 14:56:10,119 DEBUG plot image state failed: 'NoneType' object has no attribute 'GetSize'\n2021-03-03 14:56:10,145 DEBUG {'__class_fullname__': 'albumentations.core.composition.ReplayCompose', 'params': None, 'transforms': [{'__class_fullname__': 'albumentations.augmentations.transforms.ShiftScaleRotate', 'always_apply': False, 'p': 0.8, 'shift_limit_x': (-0.025, 0.025), 'shift_limit_y': (-0.025, 0.025), 'scale_limit': (0.0, 0.0), 'rotate_limit': (-45, 45), 'interpolation': 1, 'border_mode': 1, 'value': 0, 'mask_value': None, 'params': {'angle': -22.95973315768714, 'scale': 1.0, 'dx': -0.019875241191424628, 'dy': 0.012033387233383791}, 'applied': True}], 'applied': True}\n2021-03-03 14:56:10,149 DEBUG augmented:\n2021-03-03 14:56:10,150 DEBUG 0.070 s\n2021-03-03 14:56:10,151 INFO size: (107, 107, 14)\n2021-03-03 14:56:10,151 INFO spacing: (1.0, 1.0, 1.0)\n2021-03-03 14:56:10,151 INFO origin: (0.0, 0.0, 0.0)\n2021-03-03 14:56:10,151 INFO direction: (1.0, 0.0, 0.0, 0.0, 1.0, 0.0, 0.0, 0.0, 1.0)\n2021-03-03 14:56:10,152 INFO pixel type: 32-bit float\n2021-03-03 14:56:10,152 INFO number of pixel components: 1\n2021-03-03 14:56:10,152 DEBUG plot image state failed: 'NoneType' object has no attribute 'GetSize'\n2021-03-03 14:56:10,186 DEBUG input shape, crop_and_pad: (36, 14, 107, 107)\n2021-03-03 14:56:10,187 DEBUG target shape, crop_and_pad: [36  8 64 64]\n2021-03-03 14:56:10,188 DEBUG input shape, crop_and_pad: (36, 5)\n2021-03-03 14:56:10,189 DEBUG target shape, crop_and_pad: [36  5]\n2021-03-03 14:56:10,189 DEBUG onehot pap and cropped:\n"
        },
        {
         "data": {
          "image/png": "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\n",
          "text/plain": "<Figure size 432x288 with 1 Axes>"
         },
         "metadata": {
          "needs_background": "light"
         },
         "output_type": "display_data"
        },
        {
         "name": "stderr",
         "output_type": "stream",
         "text": "2021-03-03 14:56:10,247 DEBUG input shape, crop_and_pad: (36, 5)\n2021-03-03 14:56:10,247 DEBUG target shape, crop_and_pad: [36  5]\n2021-03-03 14:56:10,252 DEBUG clipped cropped and pad:\n2021-03-03 14:56:10,252 DEBUG 0.099 s\n2021-03-03 14:56:10,253 INFO size: (64, 64, 8)\n2021-03-03 14:56:10,253 INFO spacing: (1.0, 1.0, 1.0)\n2021-03-03 14:56:10,253 INFO origin: (0.0, 0.0, 0.0)\n2021-03-03 14:56:10,254 INFO direction: (1.0, 0.0, 0.0, 0.0, 1.0, 0.0, 0.0, 0.0, 1.0)\n2021-03-03 14:56:10,254 INFO pixel type: 32-bit float\n2021-03-03 14:56:10,254 INFO number of pixel components: 1\n2021-03-03 14:56:10,254 DEBUG plot image state failed: 'NoneType' object has no attribute 'GetSize'\n2021-03-03 14:56:10,256 DEBUG img finished after 0.610 sec.\n2021-03-03 14:56:10,257 DEBUG Batchsize: 1 preprocessing took: 0.612 sec\n2021-03-03 14:56:10,257 INFO Preprocessing took: 0.614\n"
        },
        {
         "name": "stdout",
         "output_type": "stream",
         "text": "(1, 36, 8, 64, 64, 1) (1, 2, 36, 5)\nselected batch : 104\n"
        },
        {
         "data": {
          "image/png": "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\n",
          "text/plain": "<Figure size 144x360 with 1 Axes>"
         },
         "metadata": {
          "needs_background": "light"
         },
         "output_type": "display_data"
        },
        {
         "name": "stderr",
         "output_type": "stream",
         "text": "2021-03-03 14:56:10,329 INFO GT length: 5\n2021-03-03 14:56:10,331 DEBUG pad: \n[[1.3383062e-03 2.9596257e+00 0.0000000e+00 0.0000000e+00 0.0000000e+00]\n [0.0000000e+00 4.0337534e+00 0.0000000e+00 0.0000000e+00 0.0000000e+00]\n [0.0000000e+00 2.4210527e+00 1.3383062e-03 0.0000000e+00 0.0000000e+00]\n [0.0000000e+00 5.3991127e-01 4.4318616e-02 0.0000000e+00 0.0000000e+00]\n [0.0000000e+00 4.4318616e-02 5.3991127e-01 0.0000000e+00 0.0000000e+00]\n [0.0000000e+00 1.3383062e-03 2.4197145e+00 0.0000000e+00 0.0000000e+00]\n [0.0000000e+00 0.0000000e+00 3.9894347e+00 1.3383062e-03 0.0000000e+00]\n [0.0000000e+00 0.0000000e+00 2.4197145e+00 4.4318616e-02 0.0000000e+00]\n [0.0000000e+00 0.0000000e+00 5.3991127e-01 5.3991127e-01 0.0000000e+00]\n [0.0000000e+00 0.0000000e+00 4.4318616e-02 2.4197145e+00 0.0000000e+00]\n [0.0000000e+00 0.0000000e+00 1.3383062e-03 3.9894347e+00 0.0000000e+00]\n [0.0000000e+00 0.0000000e+00 0.0000000e+00 2.4197145e+00 0.0000000e+00]\n [0.0000000e+00 0.0000000e+00 0.0000000e+00 5.3991127e-01 0.0000000e+00]\n [0.0000000e+00 0.0000000e+00 0.0000000e+00 4.4318616e-02 1.3383062e-03]\n [0.0000000e+00 0.0000000e+00 0.0000000e+00 1.3383062e-03 4.4318616e-02]\n [0.0000000e+00 0.0000000e+00 0.0000000e+00 0.0000000e+00 5.3991127e-01]\n [0.0000000e+00 0.0000000e+00 0.0000000e+00 0.0000000e+00 2.4197145e+00]\n [1.3383062e-03 0.0000000e+00 0.0000000e+00 0.0000000e+00 3.9894347e+00]\n [4.4318616e-02 0.0000000e+00 0.0000000e+00 0.0000000e+00 2.4197145e+00]\n [5.3991127e-01 0.0000000e+00 0.0000000e+00 0.0000000e+00 5.3991127e-01]\n [2.4197145e+00 0.0000000e+00 0.0000000e+00 0.0000000e+00 4.4318616e-02]\n [3.9894347e+00 0.0000000e+00 0.0000000e+00 0.0000000e+00 1.3383062e-03]\n [2.4197145e+00 1.3383062e-03 0.0000000e+00 0.0000000e+00 0.0000000e+00]\n [5.3991127e-01 4.4318616e-02 0.0000000e+00 0.0000000e+00 0.0000000e+00]\n [4.4318616e-02 5.3991127e-01 0.0000000e+00 0.0000000e+00 0.0000000e+00]\n [1.0000000e+00 1.0000000e+00 1.0000000e+00 1.0000000e+00 1.0000000e+00]\n [0.0000000e+00 3.9894347e+00 0.0000000e+00 0.0000000e+00 0.0000000e+00]\n [0.0000000e+00 2.4197145e+00 1.3383062e-03 0.0000000e+00 0.0000000e+00]\n [0.0000000e+00 5.3991127e-01 4.4318616e-02 0.0000000e+00 0.0000000e+00]\n [0.0000000e+00 4.4318616e-02 5.3991127e-01 0.0000000e+00 0.0000000e+00]\n [0.0000000e+00 1.3383062e-03 2.4197145e+00 0.0000000e+00 0.0000000e+00]\n [0.0000000e+00 0.0000000e+00 3.9894347e+00 1.3383062e-03 0.0000000e+00]\n [0.0000000e+00 0.0000000e+00 2.4197145e+00 4.4318616e-02 0.0000000e+00]\n [0.0000000e+00 0.0000000e+00 5.3991127e-01 5.3991127e-01 0.0000000e+00]\n [0.0000000e+00 0.0000000e+00 4.4318616e-02 2.4197145e+00 0.0000000e+00]\n [0.0000000e+00 0.0000000e+00 1.3383062e-03 3.9894347e+00 0.0000000e+00]]\n"
        }
       ]
      }
     },
     "e303168bed724f40a766266e9db65156": {
      "model_module": "@jupyter-widgets/base",
      "model_module_version": "1.2.0",
      "model_name": "LayoutModel",
      "state": {}
     },
     "e34aa75185704a5ba99a10b321337a38": {
      "model_module": "@jupyter-widgets/controls",
      "model_module_version": "1.5.0",
      "model_name": "VBoxModel",
      "state": {
       "_dom_classes": [
        "widget-interact"
       ],
       "children": [
        "IPY_MODEL_8903034680c542ffbdfd7684f9333659",
        "IPY_MODEL_293339e959da4965b5ddc410386057fa"
       ],
       "layout": "IPY_MODEL_bc235cc5b38c4d568a89fb2e679c819c"
      }
     },
     "e4a4fbca0b2f4c05ab18fb54da6bdf6e": {
      "model_module": "@jupyter-widgets/controls",
      "model_module_version": "1.5.0",
      "model_name": "DescriptionStyleModel",
      "state": {
       "description_width": ""
      }
     },
     "e66abf78be1b4ccca68b74f6f21ba06e": {
      "model_module": "@jupyter-widgets/base",
      "model_module_version": "1.2.0",
      "model_name": "LayoutModel",
      "state": {}
     },
     "e7688f2b310c4e90b4c66c6cf04fec19": {
      "model_module": "@jupyter-widgets/controls",
      "model_module_version": "1.5.0",
      "model_name": "ButtonStyleModel",
      "state": {}
     },
     "e7afc2cb564046a39f1c47a32e302711": {
      "model_module": "@jupyter-widgets/controls",
      "model_module_version": "1.5.0",
      "model_name": "IntSliderModel",
      "state": {
       "description": "slice_n",
       "layout": "IPY_MODEL_84da47fff52a4fb291dbf38f1f3c8eeb",
       "max": 11,
       "min": 1,
       "style": "IPY_MODEL_dd969eb662604a9e97f21c2b8501cae5",
       "value": 6
      }
     },
     "ea412b1b610640bb89bc8641351bffbc": {
      "model_module": "@jupyter-widgets/controls",
      "model_module_version": "1.5.0",
      "model_name": "DescriptionStyleModel",
      "state": {
       "description_width": ""
      }
     },
     "ea7ac32d205a4dcf9722eb5bbd3cd8d0": {
      "model_module": "@jupyter-widgets/base",
      "model_module_version": "1.2.0",
      "model_name": "LayoutModel",
      "state": {}
     },
     "ecf43061a267456197d01772005c7e49": {
      "model_module": "@jupyter-widgets/controls",
      "model_module_version": "1.5.0",
      "model_name": "CheckboxModel",
      "state": {
       "description": "show_overview",
       "disabled": false,
       "layout": "IPY_MODEL_0c5b683e352c4deca212a08299478658",
       "style": "IPY_MODEL_08f9d7577f1047549670ae4bcc9b206a",
       "value": true
      }
     },
     "edb37206593f44bbb047d7a222fce30f": {
      "model_module": "@jupyter-widgets/controls",
      "model_module_version": "1.5.0",
      "model_name": "CheckboxModel",
      "state": {
       "description": "save",
       "disabled": false,
       "layout": "IPY_MODEL_c08bdd7ecda34fb99c9aa6fab4a82076",
       "style": "IPY_MODEL_5f1714c8c194429396a697c2bf08ee34",
       "value": false
      }
     },
     "eedea0fa55d64c068e9d5bd5537f4dde": {
      "model_module": "@jupyter-widgets/controls",
      "model_module_version": "1.5.0",
      "model_name": "TextModel",
      "state": {
       "description": "filepath",
       "layout": "IPY_MODEL_d5ae0884a359405c840cfe315dcbf717",
       "style": "IPY_MODEL_93d1e39f45824b19b960c8ee49ab0ba3",
       "value": "data/temp/"
      }
     },
     "ef7204640df44ea1af2d9a752b7edb07": {
      "model_module": "@jupyter-widgets/controls",
      "model_module_version": "1.5.0",
      "model_name": "DescriptionStyleModel",
      "state": {
       "description_width": ""
      }
     },
     "efa699b9fbcb423e8a98bb05802f0755": {
      "model_module": "@jupyter-widgets/controls",
      "model_module_version": "1.5.0",
      "model_name": "SliderStyleModel",
      "state": {
       "description_width": ""
      }
     },
     "f1118454553549c295c1be04d661d406": {
      "model_module": "@jupyter-widgets/controls",
      "model_module_version": "1.5.0",
      "model_name": "DescriptionStyleModel",
      "state": {
       "description_width": ""
      }
     },
     "f4c62d38e65940488792e518321e8d08": {
      "model_module": "@jupyter-widgets/controls",
      "model_module_version": "1.5.0",
      "model_name": "DescriptionStyleModel",
      "state": {
       "description_width": ""
      }
     },
     "f538f1e8939a4f9ba603bf10d669572e": {
      "model_module": "@jupyter-widgets/base",
      "model_module_version": "1.2.0",
      "model_name": "LayoutModel",
      "state": {}
     },
     "f5c0c8ccbdbb4967a708d8f6684b1e95": {
      "model_module": "@jupyter-widgets/base",
      "model_module_version": "1.2.0",
      "model_name": "LayoutModel",
      "state": {}
     },
     "f5dfb886f5e7470882177544daf01d03": {
      "model_module": "@jupyter-widgets/controls",
      "model_module_version": "1.5.0",
      "model_name": "DescriptionStyleModel",
      "state": {
       "description_width": ""
      }
     },
     "f63433e3438240d28ec20cb2927870cf": {
      "model_module": "@jupyter-widgets/base",
      "model_module_version": "1.2.0",
      "model_name": "LayoutModel",
      "state": {}
     },
     "fa08c90a59f14661854032db52b582aa": {
      "model_module": "@jupyter-widgets/controls",
      "model_module_version": "1.5.0",
      "model_name": "ButtonModel",
      "state": {
       "description": "Run Interact",
       "layout": "IPY_MODEL_6d0e5f24a0204ec49df5a1ce4367b507",
       "style": "IPY_MODEL_304fed6809b8433bae889d18530a5563"
      }
     },
     "fa59de82fd5a444fa6c991e7b096b177": {
      "model_module": "@jupyter-widgets/controls",
      "model_module_version": "1.5.0",
      "model_name": "IntSliderModel",
      "state": {
       "description": "slice_n",
       "layout": "IPY_MODEL_0c7f41d19f9246cabcf0dd4e6d3e4f0e",
       "max": 11,
       "min": 1,
       "style": "IPY_MODEL_762903b3bbf14de4bc28ea5b3a5160c6",
       "value": 6
      }
     },
     "fba05ff143214f31934cfca0de122a8f": {
      "model_module": "@jupyter-widgets/controls",
      "model_module_version": "1.5.0",
      "model_name": "DescriptionStyleModel",
      "state": {
       "description_width": ""
      }
     },
     "fe6ed19dd5f54637a0fbcfb15b1d9f55": {
      "model_module": "@jupyter-widgets/controls",
      "model_module_version": "1.5.0",
      "model_name": "DescriptionStyleModel",
      "state": {
       "description_width": ""
      }
     },
     "fffa7d5f6d0349a7a882e20fb4e323e1": {
      "model_module": "@jupyter-widgets/controls",
      "model_module_version": "1.5.0",
      "model_name": "IntSliderModel",
      "state": {
       "description": "batch",
       "layout": "IPY_MODEL_1577863a3b6b49fc815e35efff068554",
       "max": 209,
       "style": "IPY_MODEL_45d8532b23d241998d3fa8bcfd07d03a",
       "value": 104
      }
     }
    },
    "version_major": 2,
    "version_minor": 0
   }
  }
 },
 "nbformat": 4,
 "nbformat_minor": 4
}
