{
 "cells": [
  {
   "cell_type": "code",
   "execution_count": 1,
   "metadata": {},
   "outputs": [
    {
     "name": "stdout",
     "output_type": "stream",
     "text": [
      "search for root_dir and set working directory\n",
      "Working directory set to: /mnt/ssd/git/dynamic-cmr-models\n",
      "['/gpu:0', '/gpu:1']\n"
     ]
    },
    {
     "name": "stderr",
     "output_type": "stream",
     "text": [
      "2021-02-12 11:57:12,292 INFO -------------------- Start --------------------\n",
      "2021-02-12 11:57:12,292 INFO Working directory: /mnt/ssd/git/dynamic-cmr-models.\n",
      "2021-02-12 11:57:12,292 INFO Log file: ./logs/temp/PhaseRegression_tests.log\n",
      "2021-02-12 11:57:12,293 INFO Log level for console: INFO\n",
      "2021-02-12 11:57:12,294 INFO Is built with tensorflow: True\n",
      "2021-02-12 11:57:12,368 INFO Visible devices:\n",
      "[PhysicalDevice(name='/physical_device:CPU:0', device_type='CPU'), PhysicalDevice(name='/physical_device:XLA_CPU:0', device_type='XLA_CPU'), PhysicalDevice(name='/physical_device:XLA_GPU:0', device_type='XLA_GPU'), PhysicalDevice(name='/physical_device:XLA_GPU:1', device_type='XLA_GPU'), PhysicalDevice(name='/physical_device:GPU:0', device_type='GPU'), PhysicalDevice(name='/physical_device:GPU:1', device_type='GPU')]\n"
     ]
    },
    {
     "name": "stdout",
     "output_type": "stream",
     "text": [
      "{'GPU_IDS': '0,1', 'GPUS': ['/gpu:0', '/gpu:1'], 'SEED': 42, 'EXPERIMENT': 'temp/PhaseRegression_tests', 'MODEL_PATH': 'models/temp/PhaseRegression_tests/2021-02-12_11_57', 'TENSORBOARD_LOG_DIR': 'reports/tensorboard_logs/temp/PhaseRegression_tests/2021-02-12_11_57', 'CONFIG_PATH': 'reports/configs/temp/PhaseRegression_tests/2021-02-12_11_57', 'HISTORY_PATH': 'reports/history/temp/PhaseRegression_tests/2021-02-12_11_57', 'BATCHSIZE': 6, 'GENERATOR_WORKER': 6, 'DIM': [10, 64, 64], 'T_SHAPE': 35, 'SPACING': [10, 4, 4], 'DEPTH': 2, 'FILTERS': 32, 'M_POOL': [2, 2, 2], 'F_SIZE': [3, 3, 3], 'BORDER_MODE': 4, 'IMG_INTERPOLATION': 1, 'MSK_INTERPOLATION': 0, 'AUGMENT': True, 'AUGMENT_PROB': 0.8, 'SHUFFLE': True, 'RESAMPLE': True, 'SCALER': 'MinMax', 'DF_META': '/mnt/ssd/data/gcn/02_imported_4D_unfiltered/SAx_3D_dicomTags_phase', 'PHASES': 6, 'TARGET_SMOOTHING': True, 'SMOOTHING_KERNEL_SIZE': 10, 'SMOOTHING_LOWER_BORDER': 0.2, 'SMOOTHING_UPPER_BORDER': 0.4}\n"
     ]
    },
    {
     "name": "stderr",
     "output_type": "stream",
     "text": [
      "2021-02-12 11:57:13,025 INFO Local devices: \n",
      " [name: \"/device:CPU:0\"\n",
      "device_type: \"CPU\"\n",
      "memory_limit: 268435456\n",
      "locality {\n",
      "}\n",
      "incarnation: 12677878199356490650\n",
      ", name: \"/device:XLA_CPU:0\"\n",
      "device_type: \"XLA_CPU\"\n",
      "memory_limit: 17179869184\n",
      "locality {\n",
      "}\n",
      "incarnation: 8189526502319202181\n",
      "physical_device_desc: \"device: XLA_CPU device\"\n",
      ", name: \"/device:XLA_GPU:0\"\n",
      "device_type: \"XLA_GPU\"\n",
      "memory_limit: 17179869184\n",
      "locality {\n",
      "}\n",
      "incarnation: 5555714690288206053\n",
      "physical_device_desc: \"device: XLA_GPU device\"\n",
      ", name: \"/device:XLA_GPU:1\"\n",
      "device_type: \"XLA_GPU\"\n",
      "memory_limit: 17179869184\n",
      "locality {\n",
      "}\n",
      "incarnation: 7583410547457004631\n",
      "physical_device_desc: \"device: XLA_GPU device\"\n",
      ", name: \"/device:GPU:0\"\n",
      "device_type: \"GPU\"\n",
      "memory_limit: 22932091136\n",
      "locality {\n",
      "  bus_id: 1\n",
      "  links {\n",
      "  }\n",
      "}\n",
      "incarnation: 17228414900657821635\n",
      "physical_device_desc: \"device: 0, name: TITAN RTX, pci bus id: 0000:01:00.0, compute capability: 7.5\"\n",
      ", name: \"/device:GPU:1\"\n",
      "device_type: \"GPU\"\n",
      "memory_limit: 23561743872\n",
      "locality {\n",
      "  bus_id: 1\n",
      "  links {\n",
      "  }\n",
      "}\n",
      "incarnation: 16052772578649930415\n",
      "physical_device_desc: \"device: 1, name: TITAN RTX, pci bus id: 0000:02:00.0, compute capability: 7.5\"\n",
      "]\n"
     ]
    }
   ],
   "source": [
    "# ------------------------------------------define logging and working directory\n",
    "from ProjectRoot import change_wd_to_project_root\n",
    "change_wd_to_project_root()\n",
    "from src.utils.Tensorflow_helper import choose_gpu_by_id\n",
    "# ------------------------------------------define GPU id/s to use\n",
    "GPU_IDS = '0,1'\n",
    "GPUS = choose_gpu_by_id(GPU_IDS)\n",
    "print(GPUS)\n",
    "# ------------------------------------------jupyter magic config\n",
    "%matplotlib inline\n",
    "%reload_ext autoreload\n",
    "%autoreload 2\n",
    "# ------------------------------------------ import helpers\n",
    "# this should import glob, os, and many other standard libs\n",
    "from src.utils.Notebook_imports import *\n",
    "from tensorflow.python.client import device_lib\n",
    "import tensorflow as tf\n",
    "tf.get_logger().setLevel('ERROR')\n",
    "# local imports\n",
    "from src.utils.Utils_io import Console_and_file_logger, init_config\n",
    "from src.visualization.Visualize import show_2D_or_3D\n",
    "from src.utils.KerasCallbacks import get_callbacks\n",
    "\n",
    "# import external libs\n",
    "import cv2\n",
    "import pandas as pd\n",
    "\n",
    "EXPERIMENT = 'temp/PhaseRegression_tests'\n",
    "timestemp = str(datetime.datetime.now().strftime(\"%Y-%m-%d_%H_%M\")) # ad a timestep to each project to make repeated experiments unique\n",
    "\n",
    "MODEL_PATH = os.path.join('models', EXPERIMENT, timestemp)\n",
    "TENSORBOARD_LOG_DIR = os.path.join('reports/tensorboard_logs', EXPERIMENT,timestemp)\n",
    "CONFIG_PATH = os.path.join('reports/configs/',EXPERIMENT,timestemp)\n",
    "HISTORY_PATH = os.path.join('reports/history/',EXPERIMENT,timestemp)\n",
    "\n",
    "# ------------------------------------------generator hyperparameters\n",
    "SEED = 42 # define a seed for the generator shuffle\n",
    "BATCHSIZE = 6 # 32, 64, 24, 16, 1 for 3D use: 4\n",
    "GENERATOR_WORKER = BATCHSIZE # if not set, use batchsize\n",
    "\n",
    "DIM = [10, 64, 64] # network input params for spacing of 3, (z,y,x)\n",
    "T_SHAPE = 35\n",
    "SPACING = [10, 4, 4] # if resample, resample to this spacing, (z,y,x)\n",
    "\n",
    "DEPTH = 2 # depth of the encoder\n",
    "FILTERS = 32 # initial number of filters, will be doubled after each downsampling block\n",
    "M_POOL = [2, 2, 2]# size of max-pooling used for downsampling and upsampling\n",
    "F_SIZE = [3, 3, 3] # conv filter size\n",
    "BORDER_MODE = cv2.BORDER_REFLECT_101 # border mode for the data generation\n",
    "IMG_INTERPOLATION = cv2.INTER_LINEAR # image interpolation in the genarator\n",
    "MSK_INTERPOLATION = cv2.INTER_NEAREST # mask interpolation in the generator\n",
    "AUGMENT = True # a compose of 2D augmentation (grid distortion, 90degree rotation, brightness and shift)\n",
    "AUGMENT_PROB = 0.8\n",
    "SHUFFLE = True\n",
    "RESAMPLE = True\n",
    "SCALER = 'MinMax' # MinMax Standard or Robust\n",
    "\n",
    "\n",
    "DF_META = '/mnt/ssd/data/gcn/02_imported_4D_unfiltered/SAx_3D_dicomTags_phase'\n",
    "# We define 5 target phases and a background phase for the pad/empty volumes \n",
    "PHASES = len(['ED#', 'MS#', 'ES#', 'PF#', 'MD#','pad backround manually added'])\n",
    "TARGET_SMOOTHING = True\n",
    "SMOOTHING_KERNEL_SIZE = 10\n",
    "SMOOTHING_LOWER_BORDER = 0.2\n",
    "SMOOTHING_UPPER_BORDER = 0.4\n",
    "\n",
    "\n",
    "Console_and_file_logger(EXPERIMENT, logging.INFO)\n",
    "config = init_config(config=locals(), save=True)\n",
    "print(config)\n",
    "logging.info('Is built with tensorflow: {}'.format(tf.test.is_built_with_cuda()))\n",
    "logging.info('Visible devices:\\n{}'.format(tf.config.list_physical_devices()))\n",
    "logging.info('Local devices: \\n {}'.format(device_lib.list_local_devices()))"
   ]
  },
  {
   "cell_type": "code",
   "execution_count": 2,
   "metadata": {},
   "outputs": [
    {
     "name": "stdout",
     "output_type": "stream",
     "text": [
      "278\n"
     ]
    }
   ],
   "source": [
    "# zip the phase files in the following structure:\n",
    "#[[patient1_phase1, patient1_phase2, patient1_phase3, patient1_phase4, patient1_phase5],[patient2_phase1...] ...]\n",
    "\n",
    "images = sorted(glob.glob('/mnt/ssd/data/gcn/02_imported_4D_unfiltered/SAX/*clean.nrrd'))\n",
    "print(len(images))"
   ]
  },
  {
   "cell_type": "code",
   "execution_count": 31,
   "metadata": {},
   "outputs": [],
   "source": [
    "# heck if we find each patient in the corresponding dataframe\n",
    "import re\n",
    "METADATA_FILE = config.get('DF_META', '/mnt/ssd/data/gcn/02_imported_4D_unfiltered/SAx_3D_dicomTags_phase')\n",
    "df = pd.read_csv(METADATA_FILE)\n",
    "DF_METADATA = df[['patient', 'ED#', 'MS#', 'ES#', 'PF#', 'MD#']]\n",
    "\n",
    "\n",
    "for x in images:\n",
    "    try:\n",
    "        patient_str = re.search('-(.{8})_', x).group(1).upper()\n",
    "        \n",
    "        assert(len(patient_str) == 8), 'matched patient ID from the phase sheet has a length of: {}'.format(len(patient_str))\n",
    "        # returns the indices in the following order: 'ED#', 'MS#', 'ES#', 'PF#', 'MD#'\n",
    "        # reduce by one, as the indexes start at 0, the excel-sheet at 1\n",
    "        ind = DF_METADATA[DF_METADATA.patient.str.contains(patient_str)][['ED#', 'MS#', 'ES#', 'PF#', 'MD#']]\n",
    "        indices = ind.values[0].astype(int) -1\n",
    "        \n",
    "    except Exception as e:\n",
    "        logging.info(patient_str)\n",
    "        logging.info(ind)\n",
    "        logging.info('indices: \\n{}'.format(indices))"
   ]
  },
  {
   "cell_type": "code",
   "execution_count": 49,
   "metadata": {},
   "outputs": [
    {
     "name": "stdout",
     "output_type": "stream",
     "text": [
      "(14, 10, 192, 138)\n",
      "3\n",
      "(42, 10, 192, 138)\n",
      "(5, 14)\n",
      "(5, 42)\n"
     ]
    }
   ],
   "source": [
    "# The length of our onehot vector must be the length of our 4D volume\n",
    "import SimpleITK as sitk\n",
    "from src.data.Dataset import split_one_4d_sitk_in_list_of_3d_sitk\n",
    "\n",
    "x = images[0]\n",
    "model_inputs = split_one_4d_sitk_in_list_of_3d_sitk(sitk.ReadImage(x))\n",
    "nda = [sitk.GetArrayFromImage(i) for i in model_inputs]\n",
    "nda = np.stack(nda)\n",
    "print(nda.shape)\n",
    "# define the number of temp repeats\n",
    "reps = int(np.ceil(35/nda.shape[0]))\n",
    "print(reps)\n",
    "nda = np.tile(nda, (reps, 1,1,1))\n",
    "print(nda.shape)\n",
    "METADATA_FILE = config.get('DF_META', '/mnt/ssd/data/gcn/02_imported_4D_unfiltered/SAx_3D_dicomTags_phase')\n",
    "df = pd.read_csv(METADATA_FILE)\n",
    "DF_METADATA = df[['patient', 'ED#', 'MS#', 'ES#', 'PF#', 'MD#']]\n",
    "\n",
    "\n",
    "patient_str = re.search('-(.{8})_', x).group(1).upper()\n",
    "ind = DF_METADATA[DF_METADATA.patient.str.contains(patient_str)][['ED#', 'MS#', 'ES#', 'PF#', 'MD#']]\n",
    "indices = ind.values[0].astype(int) -1\n",
    "onehot = np.zeros((indices.size, len(model_inputs)))\n",
    "onehot[np.arange(indices.size), indices] = 1\n",
    "print(onehot.shape)\n",
    "onehot = np.tile(onehot, (1,reps))[]\n",
    "print(onehot.shape)"
   ]
  },
  {
   "cell_type": "code",
   "execution_count": 4,
   "metadata": {},
   "outputs": [
    {
     "data": {
      "application/vnd.jupyter.widget-view+json": {
       "model_id": "ad51496f3daf48f3a986b11ba4b63ee8",
       "version_major": 2,
       "version_minor": 0
      },
      "text/plain": [
       "interactive(children=(Text(value='', description='search_str'), Output()), _dom_classes=('widget-interact',))"
      ]
     },
     "metadata": {},
     "output_type": "display_data"
    }
   ],
   "source": [
    "@interact\n",
    "def search_p_in_df(search_str = ''):\n",
    "    return DF_METADATA[DF_METADATA['patient'].str.contains(search_str)]"
   ]
  },
  {
   "cell_type": "code",
   "execution_count": 5,
   "metadata": {},
   "outputs": [
    {
     "name": "stderr",
     "output_type": "stream",
     "text": [
      "2021-02-12 11:57:13,411 INFO Create DataGenerator\n",
      "2021-02-12 11:57:13,413 INFO Datagenerator created with: \n",
      " shape: [10, 64, 64]\n",
      " spacing: [10, 4, 4]\n",
      " batchsize: 6\n",
      " Scaler: MinMax\n",
      " Images: 278 \n",
      " Augment: True \n",
      " Thread workers: 6\n",
      "2021-02-12 11:57:13,413 INFO Data will be augmented (shift,scale and rotate) with albumentation\n",
      "2021-02-12 11:57:13,427 INFO [0.2  0.25 0.3  0.35 0.4  1.   0.4  0.35 0.3  0.25 0.2 ]\n",
      "2021-02-12 11:57:13,428 INFO Create DataGenerator\n",
      "2021-02-12 11:57:13,429 INFO Datagenerator created with: \n",
      " shape: [10, 64, 64]\n",
      " spacing: [10, 4, 4]\n",
      " batchsize: 6\n",
      " Scaler: MinMax\n",
      " Images: 278 \n",
      " Augment: False \n",
      " Thread workers: 6\n",
      "2021-02-12 11:57:13,429 INFO No augmentation\n",
      "2021-02-12 11:57:13,442 INFO [0.2  0.25 0.3  0.35 0.4  1.   0.4  0.35 0.3  0.25 0.2 ]\n"
     ]
    }
   ],
   "source": [
    "# initialise a generator with these files\n",
    "# logging.getLogger().setLevel(logging.INFO)\n",
    "from src.data.Generators import PhaseRegressionGenerator\n",
    "#config['SHUFFLE'] = False\n",
    "#config['AUGMENT'] = False\n",
    "config['RESAMPLE'] = True\n",
    "batch_generator = PhaseRegressionGenerator(images, images, config=config)\n",
    "val_config = config.copy()\n",
    "val_config['AUGMENT'] = False\n",
    "validation_generator = PhaseRegressionGenerator(images, images , config=val_config)"
   ]
  },
  {
   "cell_type": "code",
   "execution_count": 6,
   "metadata": {},
   "outputs": [
    {
     "data": {
      "application/vnd.jupyter.widget-view+json": {
       "model_id": "fcb10ccf97764b07970828e6115d7e14",
       "version_major": 2,
       "version_minor": 0
      },
      "text/plain": [
       "interactive(children=(IntSlider(value=23, description='batch', max=46), IntSlider(value=2, description='im', m…"
      ]
     },
     "metadata": {},
     "output_type": "display_data"
    }
   ],
   "source": [
    "# visualise one batch\n",
    "@interact_manual\n",
    "def select_image_in_batch(batch = (0,len(batch_generator), 1), \n",
    "                          im = (0,BATCHSIZE- 1, 1), \n",
    "                          slice_n=(1,11), \n",
    "                          save=False, \n",
    "                          filepath='data/temp/', \n",
    "                          filename='temp_x.npy',\n",
    "                         show_=True):\n",
    "    \n",
    "    import time\n",
    "    global inputs, outputs\n",
    "    t1 = time.time()\n",
    "    inputs, outputs = batch_generator.__getitem__(batch)\n",
    "    logging.info('Preprocessing took: {:0.3f}'.format(time.time() - t1))\n",
    "    print(inputs.shape, outputs.shape)\n",
    "    print('selected batch : ' + str(batch))\n",
    "    if show_:\n",
    "    \n",
    "        selected_input = inputs[im]\n",
    "        selected_output = outputs[im]\n",
    "\n",
    "        logging.debug('pad: \\n{}'.format(selected_output))\n",
    "\n",
    "        list(map(lambda x: show_2D_or_3D(img=x, interpol='bilinear',dpi=100,f_size=(5,5)), selected_input[::slice_n]))\n",
    "        plt.show()\n",
    "        info('-'*100)\n",
    "        #list(map(lambda x: show_2D_or_3D(img=x[::slice_n], interpol='bilinear',dpi=100,f_size=(5,5)), selected_output))\n",
    "\n",
    "        \"\"\"\n",
    "            show_2D_or_3D(x[im], y[im], interpol='bilinear',dpi=100,f_size=(5,5))\n",
    "        plt.show()\n",
    "        \"\"\"\n",
    "        plt.hist(selected_input.flatten(), bins=np.linspace(0.1,1,20))\n",
    "        plt.show()\n",
    "    if save:\n",
    "        ensure_dir(filepath)\n",
    "        np.save(os.path.join(filepath, filename), x[im])\n",
    "        logging.info('saved to {}'.format(os.path.join(filepath, filename)))\n",
    "    \n",
    "\n"
   ]
  },
  {
   "cell_type": "code",
   "execution_count": 7,
   "metadata": {},
   "outputs": [
    {
     "data": {
      "text/plain": [
       "'for b in range(len(batch_generator)):\\n    print(b)\\n    select_image_in_batch(batch=b, slice_n=5, show_=False) '"
      ]
     },
     "execution_count": 7,
     "metadata": {},
     "output_type": "execute_result"
    }
   ],
   "source": [
    "\"\"\"for b in range(len(batch_generator)):\n",
    "    print(b)\n",
    "    select_image_in_batch(batch=b, slice_n=5, show_=False) \"\"\""
   ]
  },
  {
   "cell_type": "code",
   "execution_count": 10,
   "metadata": {},
   "outputs": [
    {
     "name": "stdout",
     "output_type": "stream",
     "text": [
      "(None, 2, 16, 16, 128)\n",
      "gap elem 0\n",
      "(None, 128)\n",
      "concat all\n",
      "(None, 35, 128)\n",
      "conv1d 256, 5, 2\n",
      "(None, 35, 32)\n",
      "(None, 35, 32)\n",
      "(None, 35, 6)\n"
     ]
    }
   ],
   "source": [
    "from src.models.Models import create_PhaseRegressionModel\n",
    "model = create_PhaseRegressionModel(config)"
   ]
  },
  {
   "cell_type": "code",
   "execution_count": 11,
   "metadata": {},
   "outputs": [
    {
     "name": "stdout",
     "output_type": "stream",
     "text": [
      "Model: \"PhaseRegressionModel\"\n",
      "______________________________________________________________________________________________________________________________________________________\n",
      "Layer (type)                                     Output Shape                     Param #           Connected to                                      \n",
      "======================================================================================================================================================\n",
      "input_2 (InputLayer)                             [(None, 35, 10, 64, 64, 1)]      0                                                                   \n",
      "______________________________________________________________________________________________________________________________________________________\n",
      "tf_op_layer_unstack_1 (TensorFlowOpLayer)        [(None, 10, 64, 64, 1), (None, 1 0                 input_2[0][0]                                     \n",
      "______________________________________________________________________________________________________________________________________________________\n",
      "conv_encoder_1 (ConvEncoder)                     ((None, 2, 16, 16, 128), [(None, 858400            tf_op_layer_unstack_1[0][0]                       \n",
      "                                                                                                    tf_op_layer_unstack_1[0][1]                       \n",
      "                                                                                                    tf_op_layer_unstack_1[0][2]                       \n",
      "                                                                                                    tf_op_layer_unstack_1[0][3]                       \n",
      "                                                                                                    tf_op_layer_unstack_1[0][4]                       \n",
      "                                                                                                    tf_op_layer_unstack_1[0][5]                       \n",
      "                                                                                                    tf_op_layer_unstack_1[0][6]                       \n",
      "                                                                                                    tf_op_layer_unstack_1[0][7]                       \n",
      "                                                                                                    tf_op_layer_unstack_1[0][8]                       \n",
      "                                                                                                    tf_op_layer_unstack_1[0][9]                       \n",
      "                                                                                                    tf_op_layer_unstack_1[0][10]                      \n",
      "                                                                                                    tf_op_layer_unstack_1[0][11]                      \n",
      "                                                                                                    tf_op_layer_unstack_1[0][12]                      \n",
      "                                                                                                    tf_op_layer_unstack_1[0][13]                      \n",
      "                                                                                                    tf_op_layer_unstack_1[0][14]                      \n",
      "                                                                                                    tf_op_layer_unstack_1[0][15]                      \n",
      "                                                                                                    tf_op_layer_unstack_1[0][16]                      \n",
      "                                                                                                    tf_op_layer_unstack_1[0][17]                      \n",
      "                                                                                                    tf_op_layer_unstack_1[0][18]                      \n",
      "                                                                                                    tf_op_layer_unstack_1[0][19]                      \n",
      "                                                                                                    tf_op_layer_unstack_1[0][20]                      \n",
      "                                                                                                    tf_op_layer_unstack_1[0][21]                      \n",
      "                                                                                                    tf_op_layer_unstack_1[0][22]                      \n",
      "                                                                                                    tf_op_layer_unstack_1[0][23]                      \n",
      "                                                                                                    tf_op_layer_unstack_1[0][24]                      \n",
      "                                                                                                    tf_op_layer_unstack_1[0][25]                      \n",
      "                                                                                                    tf_op_layer_unstack_1[0][26]                      \n",
      "                                                                                                    tf_op_layer_unstack_1[0][27]                      \n",
      "                                                                                                    tf_op_layer_unstack_1[0][28]                      \n",
      "                                                                                                    tf_op_layer_unstack_1[0][29]                      \n",
      "                                                                                                    tf_op_layer_unstack_1[0][30]                      \n",
      "                                                                                                    tf_op_layer_unstack_1[0][31]                      \n",
      "                                                                                                    tf_op_layer_unstack_1[0][32]                      \n",
      "                                                                                                    tf_op_layer_unstack_1[0][33]                      \n",
      "                                                                                                    tf_op_layer_unstack_1[0][34]                      \n",
      "______________________________________________________________________________________________________________________________________________________\n",
      "global_average_pooling3d_1 (GlobalAveragePooling (None, 128)                      0                 conv_encoder_1[0][0]                              \n",
      "                                                                                                    conv_encoder_1[1][0]                              \n",
      "                                                                                                    conv_encoder_1[2][0]                              \n",
      "                                                                                                    conv_encoder_1[3][0]                              \n",
      "                                                                                                    conv_encoder_1[4][0]                              \n",
      "                                                                                                    conv_encoder_1[5][0]                              \n",
      "                                                                                                    conv_encoder_1[6][0]                              \n",
      "                                                                                                    conv_encoder_1[7][0]                              \n",
      "                                                                                                    conv_encoder_1[8][0]                              \n",
      "                                                                                                    conv_encoder_1[9][0]                              \n",
      "                                                                                                    conv_encoder_1[10][0]                             \n",
      "                                                                                                    conv_encoder_1[11][0]                             \n",
      "                                                                                                    conv_encoder_1[12][0]                             \n",
      "                                                                                                    conv_encoder_1[13][0]                             \n",
      "                                                                                                    conv_encoder_1[14][0]                             \n",
      "                                                                                                    conv_encoder_1[15][0]                             \n",
      "                                                                                                    conv_encoder_1[16][0]                             \n",
      "                                                                                                    conv_encoder_1[17][0]                             \n",
      "                                                                                                    conv_encoder_1[18][0]                             \n",
      "                                                                                                    conv_encoder_1[19][0]                             \n",
      "                                                                                                    conv_encoder_1[20][0]                             \n",
      "                                                                                                    conv_encoder_1[21][0]                             \n",
      "                                                                                                    conv_encoder_1[22][0]                             \n",
      "                                                                                                    conv_encoder_1[23][0]                             \n",
      "                                                                                                    conv_encoder_1[24][0]                             \n",
      "                                                                                                    conv_encoder_1[25][0]                             \n",
      "                                                                                                    conv_encoder_1[26][0]                             \n",
      "                                                                                                    conv_encoder_1[27][0]                             \n",
      "                                                                                                    conv_encoder_1[28][0]                             \n",
      "                                                                                                    conv_encoder_1[29][0]                             \n",
      "                                                                                                    conv_encoder_1[30][0]                             \n",
      "                                                                                                    conv_encoder_1[31][0]                             \n",
      "                                                                                                    conv_encoder_1[32][0]                             \n",
      "                                                                                                    conv_encoder_1[33][0]                             \n",
      "                                                                                                    conv_encoder_1[34][0]                             \n",
      "______________________________________________________________________________________________________________________________________________________\n",
      "tf_op_layer_stack_1 (TensorFlowOpLayer)          [(None, 35, 128)]                0                 global_average_pooling3d_1[0][0]                  \n",
      "                                                                                                    global_average_pooling3d_1[1][0]                  \n",
      "                                                                                                    global_average_pooling3d_1[2][0]                  \n",
      "                                                                                                    global_average_pooling3d_1[3][0]                  \n",
      "                                                                                                    global_average_pooling3d_1[4][0]                  \n",
      "                                                                                                    global_average_pooling3d_1[5][0]                  \n",
      "                                                                                                    global_average_pooling3d_1[6][0]                  \n",
      "                                                                                                    global_average_pooling3d_1[7][0]                  \n",
      "                                                                                                    global_average_pooling3d_1[8][0]                  \n",
      "                                                                                                    global_average_pooling3d_1[9][0]                  \n",
      "                                                                                                    global_average_pooling3d_1[10][0]                 \n",
      "                                                                                                    global_average_pooling3d_1[11][0]                 \n",
      "                                                                                                    global_average_pooling3d_1[12][0]                 \n",
      "                                                                                                    global_average_pooling3d_1[13][0]                 \n",
      "                                                                                                    global_average_pooling3d_1[14][0]                 \n",
      "                                                                                                    global_average_pooling3d_1[15][0]                 \n",
      "                                                                                                    global_average_pooling3d_1[16][0]                 \n",
      "                                                                                                    global_average_pooling3d_1[17][0]                 \n",
      "                                                                                                    global_average_pooling3d_1[18][0]                 \n",
      "                                                                                                    global_average_pooling3d_1[19][0]                 \n",
      "                                                                                                    global_average_pooling3d_1[20][0]                 \n",
      "                                                                                                    global_average_pooling3d_1[21][0]                 \n",
      "                                                                                                    global_average_pooling3d_1[22][0]                 \n",
      "                                                                                                    global_average_pooling3d_1[23][0]                 \n",
      "                                                                                                    global_average_pooling3d_1[24][0]                 \n",
      "                                                                                                    global_average_pooling3d_1[25][0]                 \n",
      "                                                                                                    global_average_pooling3d_1[26][0]                 \n",
      "                                                                                                    global_average_pooling3d_1[27][0]                 \n",
      "                                                                                                    global_average_pooling3d_1[28][0]                 \n",
      "                                                                                                    global_average_pooling3d_1[29][0]                 \n",
      "                                                                                                    global_average_pooling3d_1[30][0]                 \n",
      "                                                                                                    global_average_pooling3d_1[31][0]                 \n",
      "                                                                                                    global_average_pooling3d_1[32][0]                 \n",
      "                                                                                                    global_average_pooling3d_1[33][0]                 \n",
      "                                                                                                    global_average_pooling3d_1[34][0]                 \n",
      "______________________________________________________________________________________________________________________________________________________\n",
      "conv1d_3 (Conv1D)                                (None, 35, 32)                   4128              tf_op_layer_stack_1[0][0]                         \n",
      "______________________________________________________________________________________________________________________________________________________\n",
      "batch_normalization_13 (BatchNormalization)      (None, 35, 32)                   128               conv1d_3[0][0]                                    \n",
      "______________________________________________________________________________________________________________________________________________________\n",
      "conv1d_4 (Conv1D)                                (None, 35, 32)                   3104              batch_normalization_13[0][0]                      \n",
      "______________________________________________________________________________________________________________________________________________________\n",
      "conv1d_5 (Conv1D)                                (None, 35, 6)                    582               conv1d_4[0][0]                                    \n",
      "======================================================================================================================================================\n",
      "Total params: 866,342\n",
      "Trainable params: 866,278\n",
      "Non-trainable params: 64\n",
      "______________________________________________________________________________________________________________________________________________________\n"
     ]
    }
   ],
   "source": [
    "model.summary(line_length=150)"
   ]
  },
  {
   "cell_type": "code",
   "execution_count": 12,
   "metadata": {},
   "outputs": [
    {
     "name": "stdout",
     "output_type": "stream",
     "text": [
      "Epoch 1/200\n",
      "46/46 [==============================] - 87s 2s/step - loss: 0.1018 - categorical_accuracy: 0.4596 - accuracy: 0.3919 - val_loss: 0.2580 - val_categorical_accuracy: 0.1513 - val_accuracy: 0.3759 - lr: 0.0010\n",
      "Epoch 2/200\n",
      "46/46 [==============================] - 83s 2s/step - loss: 0.0360 - categorical_accuracy: 0.5268 - accuracy: 0.4201 - val_loss: 0.2239 - val_categorical_accuracy: 0.2032 - val_accuracy: 0.3923 - lr: 0.0010\n",
      "Epoch 3/200\n",
      "46/46 [==============================] - 85s 2s/step - loss: 0.0337 - categorical_accuracy: 0.5350 - accuracy: 0.4299 - val_loss: 0.4788 - val_categorical_accuracy: 0.2479 - val_accuracy: 0.3556 - lr: 0.0010\n",
      "Epoch 4/200\n",
      "46/46 [==============================] - 86s 2s/step - loss: 0.0319 - categorical_accuracy: 0.5378 - accuracy: 0.4320 - val_loss: 0.6070 - val_categorical_accuracy: 0.2652 - val_accuracy: 0.3314 - lr: 0.0010\n",
      "Epoch 5/200\n",
      "46/46 [==============================] - 84s 2s/step - loss: 0.0315 - categorical_accuracy: 0.5550 - accuracy: 0.4327 - val_loss: 0.7412 - val_categorical_accuracy: 0.4409 - val_accuracy: 0.3026 - lr: 0.0010\n",
      "Epoch 6/200\n",
      "46/46 [==============================] - 85s 2s/step - loss: 0.0303 - categorical_accuracy: 0.5718 - accuracy: 0.4341 - val_loss: 1.0786 - val_categorical_accuracy: 0.4352 - val_accuracy: 0.2872 - lr: 0.0010\n",
      "Epoch 7/200\n",
      "46/46 [==============================] - 84s 2s/step - loss: 0.0300 - categorical_accuracy: 0.5749 - accuracy: 0.4338 - val_loss: 0.7699 - val_categorical_accuracy: 0.4751 - val_accuracy: 0.2999 - lr: 0.0010\n",
      "Epoch 8/200\n",
      "46/46 [==============================] - 85s 2s/step - loss: 0.0294 - categorical_accuracy: 0.5841 - accuracy: 0.4338 - val_loss: 1.0373 - val_categorical_accuracy: 0.4899 - val_accuracy: 0.2588 - lr: 0.0010\n",
      "Epoch 9/200\n",
      "46/46 [==============================] - 83s 2s/step - loss: 0.0293 - categorical_accuracy: 0.5883 - accuracy: 0.4330 - val_loss: 0.7987 - val_categorical_accuracy: 0.5302 - val_accuracy: 0.2644 - lr: 0.0010\n",
      "Epoch 10/200\n",
      "46/46 [==============================] - 84s 2s/step - loss: 0.0293 - categorical_accuracy: 0.5970 - accuracy: 0.4335 - val_loss: 0.9826 - val_categorical_accuracy: 0.5218 - val_accuracy: 0.2790 - lr: 0.0010\n",
      "Epoch 11/200\n",
      "46/46 [==============================] - 86s 2s/step - loss: 0.0290 - categorical_accuracy: 0.6040 - accuracy: 0.4337 - val_loss: 0.7574 - val_categorical_accuracy: 0.5325 - val_accuracy: 0.3010 - lr: 0.0010\n",
      "Epoch 12/200\n",
      "46/46 [==============================] - 85s 2s/step - loss: 0.0286 - categorical_accuracy: 0.6095 - accuracy: 0.4349 - val_loss: 0.4710 - val_categorical_accuracy: 0.5354 - val_accuracy: 0.3427 - lr: 0.0010\n",
      "Epoch 13/200\n",
      "46/46 [==============================] - 85s 2s/step - loss: 0.0284 - categorical_accuracy: 0.6102 - accuracy: 0.4342 - val_loss: 0.4079 - val_categorical_accuracy: 0.5189 - val_accuracy: 0.3654 - lr: 0.0010\n",
      "Epoch 14/200\n",
      "46/46 [==============================] - 85s 2s/step - loss: 0.0282 - categorical_accuracy: 0.6214 - accuracy: 0.4342 - val_loss: 0.2768 - val_categorical_accuracy: 0.4715 - val_accuracy: 0.3315 - lr: 0.0010\n",
      "Epoch 15/200\n",
      "46/46 [==============================] - 84s 2s/step - loss: 0.0275 - categorical_accuracy: 0.6356 - accuracy: 0.4350 - val_loss: 38632.7148 - val_categorical_accuracy: 0.3598 - val_accuracy: 0.3987 - lr: 0.0010\n",
      "Epoch 16/200\n",
      "46/46 [==============================] - 84s 2s/step - loss: 0.0267 - categorical_accuracy: 0.6476 - accuracy: 0.4377 - val_loss: 5613.4922 - val_categorical_accuracy: 0.3772 - val_accuracy: 0.4475 - lr: 0.0010\n",
      "Epoch 17/200\n",
      "46/46 [==============================] - 83s 2s/step - loss: 0.0259 - categorical_accuracy: 0.6714 - accuracy: 0.4411 - val_loss: 9411.8350 - val_categorical_accuracy: 0.3618 - val_accuracy: 0.4459 - lr: 0.0010\n",
      "Epoch 18/200\n",
      "46/46 [==============================] - 84s 2s/step - loss: 0.0271 - categorical_accuracy: 0.6361 - accuracy: 0.4393 - val_loss: 1.7452 - val_categorical_accuracy: 0.4238 - val_accuracy: 0.3274 - lr: 0.0010\n",
      "Epoch 19/200\n",
      "46/46 [==============================] - 84s 2s/step - loss: 0.0267 - categorical_accuracy: 0.6499 - accuracy: 0.4375 - val_loss: 0.9030 - val_categorical_accuracy: 0.4967 - val_accuracy: 0.4227 - lr: 0.0010\n",
      "Epoch 20/200\n",
      "46/46 [==============================] - 88s 2s/step - loss: 0.0442 - categorical_accuracy: 0.5445 - accuracy: 0.4404 - val_loss: 12872.0459 - val_categorical_accuracy: 0.1863 - val_accuracy: 0.3129 - lr: 0.0010\n",
      "Epoch 21/200\n",
      "46/46 [==============================] - 87s 2s/step - loss: 0.0338 - categorical_accuracy: 0.5733 - accuracy: 0.4330 - val_loss: 55750.1758 - val_categorical_accuracy: 0.2315 - val_accuracy: 0.2747 - lr: 0.0010\n",
      "Epoch 22/200\n",
      "46/46 [==============================] - ETA: 0s - loss: 0.0316 - categorical_accuracy: 0.5944 - accuracy: 0.4122\n",
      "Epoch 00022: ReduceLROnPlateau reducing learning rate to 0.00010000000474974513.\n",
      "46/46 [==============================] - 84s 2s/step - loss: 0.0316 - categorical_accuracy: 0.5944 - accuracy: 0.4122 - val_loss: 51494.4102 - val_categorical_accuracy: 0.2844 - val_accuracy: 0.2374 - lr: 1.0000e-04\n",
      "Epoch 23/200\n",
      "46/46 [==============================] - 83s 2s/step - loss: 0.0299 - categorical_accuracy: 0.6176 - accuracy: 0.3994 - val_loss: 56855.8320 - val_categorical_accuracy: 0.2749 - val_accuracy: 0.2349 - lr: 1.0000e-04\n",
      "Epoch 24/200\n",
      "46/46 [==============================] - 81s 2s/step - loss: 0.0295 - categorical_accuracy: 0.6259 - accuracy: 0.3982 - val_loss: 60893.0859 - val_categorical_accuracy: 0.2835 - val_accuracy: 0.2298 - lr: 1.0000e-04\n",
      "Epoch 25/200\n",
      "46/46 [==============================] - 84s 2s/step - loss: 0.0297 - categorical_accuracy: 0.6226 - accuracy: 0.4001 - val_loss: 68182.7578 - val_categorical_accuracy: 0.4363 - val_accuracy: 0.2291 - lr: 1.0000e-04\n",
      "Epoch 26/200\n",
      "46/46 [==============================] - 83s 2s/step - loss: 0.0302 - categorical_accuracy: 0.6225 - accuracy: 0.4002 - val_loss: 71105.6797 - val_categorical_accuracy: 0.4255 - val_accuracy: 0.2261 - lr: 1.0000e-04\n",
      "Epoch 27/200\n",
      "46/46 [==============================] - 84s 2s/step - loss: 0.0297 - categorical_accuracy: 0.6251 - accuracy: 0.3974 - val_loss: 72242.7891 - val_categorical_accuracy: 0.4633 - val_accuracy: 0.2322 - lr: 1.0000e-04\n",
      "Epoch 00027: early stopping\n"
     ]
    }
   ],
   "source": [
    "initial_epoch = 0\n",
    "\n",
    "results = model.fit(\n",
    "    x=batch_generator,\n",
    "    validation_data=validation_generator,\n",
    "    validation_steps=len(validation_generator),\n",
    "    epochs=200,\n",
    "    callbacks = get_callbacks(config, validation_generator),\n",
    "    steps_per_epoch = len(batch_generator),\n",
    "    initial_epoch=initial_epoch,\n",
    "    max_queue_size=20,\n",
    "    workers=2,\n",
    "    use_multiprocessing=False,\n",
    "    verbose=1)"
   ]
  },
  {
   "cell_type": "code",
   "execution_count": 30,
   "metadata": {},
   "outputs": [
    {
     "name": "stdout",
     "output_type": "stream",
     "text": [
      "(3, 3)\n"
     ]
    },
    {
     "data": {
      "image/png": "[encoded data removed]",
      "text/plain": [
       "<Figure size 432x288 with 1 Axes>"
      ]
     },
     "metadata": {
      "needs_background": "light"
     },
     "output_type": "display_data"
    },
    {
     "name": "stdout",
     "output_type": "stream",
     "text": [
      "(1, 5)\n"
     ]
    },
    {
     "data": {
      "image/png": "[encoded data removed]",
      "text/plain": [
       "<Figure size 432x288 with 1 Axes>"
      ]
     },
     "metadata": {
      "needs_background": "light"
     },
     "output_type": "display_data"
    },
    {
     "name": "stdout",
     "output_type": "stream",
     "text": [
      "(2, 5)\n"
     ]
    },
    {
     "data": {
      "image/png": "[encoded data removed]",
      "text/plain": [
       "<Figure size 432x288 with 1 Axes>"
      ]
     },
     "metadata": {
      "needs_background": "light"
     },
     "output_type": "display_data"
    }
   ],
   "source": [
    "temp = np.eye(3)\n",
    "print(temp.shape)\n",
    "plt.imshow(temp)\n",
    "plt.show()\n",
    "temp2 = np.zeros((1,5))\n",
    "print(temp2.shape)\n",
    "plt.imshow(temp2)\n",
    "plt.show()\n",
    "\n",
    "temp3 = np.tile(temp2, (2,1))\n",
    "print(temp3.shape)\n",
    "plt.imshow(temp3)\n",
    "plt.show()"
   ]
  },
  {
   "cell_type": "code",
   "execution_count": null,
   "metadata": {},
   "outputs": [],
   "source": []
  },
  {
   "cell_type": "code",
   "execution_count": null,
   "metadata": {},
   "outputs": [],
   "source": []
  },
  {
   "cell_type": "code",
   "execution_count": null,
   "metadata": {},
   "outputs": [],
   "source": []
  },
  {
   "cell_type": "code",
   "execution_count": null,
   "metadata": {},
   "outputs": [],
   "source": []
  },
  {
   "cell_type": "markdown",
   "metadata": {},
   "source": [
    "# Generator tests"
   ]
  },
  {
   "cell_type": "code",
   "execution_count": null,
   "metadata": {},
   "outputs": [],
   "source": [
    "temp = outputs[0][:]\n",
    "plt.imshow(temp)"
   ]
  },
  {
   "cell_type": "code",
   "execution_count": null,
   "metadata": {},
   "outputs": [],
   "source": [
    "t = np.concatenate([temp, temp])\n",
    "print(t.shape)\n",
    "first, second = np.split(t, indices_or_sections=2)\n",
    "print(first.shape)\n",
    "temp = np.maximum(first,second)\n",
    "print(temp.shape)"
   ]
  },
  {
   "cell_type": "code",
   "execution_count": null,
   "metadata": {},
   "outputs": [],
   "source": [
    "nonempty_timesteps = (np.sum(temp,axis=1)==0).astype(int)\n",
    "nonempty_timesteps.shape\n",
    "nonempty_timesteps"
   ]
  },
  {
   "cell_type": "code",
   "execution_count": null,
   "metadata": {},
   "outputs": [],
   "source": [
    "nonempty_timesteps[:,None].shape\n"
   ]
  },
  {
   "cell_type": "code",
   "execution_count": null,
   "metadata": {},
   "outputs": [],
   "source": [
    "np.concatenate([temp, nonempty_timesteps[:,None]], axis=1).shape"
   ]
  },
  {
   "cell_type": "code",
   "execution_count": null,
   "metadata": {},
   "outputs": [],
   "source": [
    "temp = outputs[0][:]\n",
    "print(temp.shape)\n",
    "print(temp)\n",
    "print(temp.sum(axis=0))\n",
    "print(temp.T)"
   ]
  },
  {
   "cell_type": "code",
   "execution_count": null,
   "metadata": {},
   "outputs": [],
   "source": [
    "onehot = np.array([[1,0,0,0,0,0,0,0,0,0,0,0,0,0,0],\n",
    " [0,0,0,1,0,0,0,0,0,0,0,0,0,0,0],\n",
    " [0,0,0,0,0,0,0,1,0,0,0,0,0,0,0],\n",
    " [0,0,0,0,0,0,0,0,0,0,0,1,0,0,0],\n",
    " [0,0,0,0,0,0,0,0,0,0,0,0,0,0,1]])"
   ]
  },
  {
   "cell_type": "code",
   "execution_count": null,
   "metadata": {},
   "outputs": [],
   "source": [
    "onehot.shape"
   ]
  },
  {
   "cell_type": "code",
   "execution_count": null,
   "metadata": {},
   "outputs": [],
   "source": [
    "onehot_t = onehot.T\n",
    "onehot_t.shape\n",
    "onehot_t"
   ]
  },
  {
   "cell_type": "code",
   "execution_count": null,
   "metadata": {},
   "outputs": [],
   "source": [
    "print(np.argmax(onehot, axis=1))\n",
    "print(np.argmax(onehot_t, axis=0))"
   ]
  },
  {
   "cell_type": "code",
   "execution_count": null,
   "metadata": {},
   "outputs": [],
   "source": [
    "# iterate over the phases j\n",
    "# linspace from i to i+1 from indices\n",
    "temp = onehot_t[:,0].astype(float)\n",
    "i = 0\n",
    "j = 3 + 1\n",
    "temp[i:j] = np.linspace(i,j,j-i)\n",
    "temp"
   ]
  },
  {
   "cell_type": "code",
   "execution_count": null,
   "metadata": {},
   "outputs": [],
   "source": [
    "onehot_t = onehot_t.astype(float)\n",
    "indices = np.argmax(onehot_t, axis=0)\n",
    "for i in range(onehot_t.shape[1]) :\n",
    "    start = indices[i]\n",
    "    # make it a ring\n",
    "    second = (i+1)%len(indices)\n",
    "    end = indices[second]\n",
    "    onehot_t[start:end,i] = np.linspace(1,0,int(end-start))\n",
    "onehot_t\n",
    "             \n",
    "    "
   ]
  },
  {
   "cell_type": "code",
   "execution_count": null,
   "metadata": {},
   "outputs": [],
   "source": [
    "# smooth the one-hot vectors along the indexes\n",
    "# each phase has a small range of valid indexes with a convolved smoothing\n",
    "import sys\n",
    "temp = np.copy(outputs[0])\n",
    "kernelsize = 5\n",
    "lower = 0.1\n",
    "upper = 0.5\n",
    "# create a kernel with linearly increasing, than one, than decreasing smoothing\n",
    "kernel = np.concatenate([np.linspace(lower,upper,kernelsize//2), [1], np.linspace(upper,lower,kernelsize//2)])\n",
    "print('Kernel: {}'.format(kernel))\n",
    "for idx in range(temp.shape[0]):\n",
    "    print(temp[idx])\n",
    "    smoothed = np.convolve(temp[idx],kernel, mode='same')\n",
    "    print('convolved: {}'.format(smoothed))\n",
    "    smoothed = smoothed/(sum(smoothed) + sys.float_info.epsilon)\n",
    "    print('normalised: {}'.format(smoothed))\n",
    "    temp[idx] = smoothed\n"
   ]
  },
  {
   "cell_type": "code",
   "execution_count": null,
   "metadata": {},
   "outputs": [],
   "source": [
    "plt.imshow(temp)"
   ]
  },
  {
   "cell_type": "code",
   "execution_count": null,
   "metadata": {},
   "outputs": [],
   "source": [
    "plt.imshow(temp.T)"
   ]
  },
  {
   "cell_type": "code",
   "execution_count": null,
   "metadata": {},
   "outputs": [],
   "source": [
    "# load phase indicies from the df\n",
    "print(len(images))\n",
    "patient_temp = images[0]\n",
    "# search for the 8 digits of the patient ID which should have a underscore in before and than a minus\n",
    "patient_str = re.search('-(.{8})_', patient_temp).group(1)\n",
    "df = pd.read_csv('/mnt/ssd/data/gcn/02_imported_4D_unfiltered_old/SAx_3D_dicomTags_phase')\n",
    "df = df[['patient', 'ED#', 'MS#', 'ES#', 'PF#', 'MD#']]\n",
    "df[df.patient.str.contains(patient_str)][['ED#', 'MS#', 'ES#', 'PF#', 'MD#']].values[0].astype(int) -1"
   ]
  },
  {
   "cell_type": "code",
   "execution_count": null,
   "metadata": {},
   "outputs": [],
   "source": [
    "import re\n",
    "a = get_patient(patient_temp)\n",
    "\n",
    "re.search('-(.{8})_', patient_temp).group(1)"
   ]
  },
  {
   "cell_type": "code",
   "execution_count": null,
   "metadata": {},
   "outputs": [],
   "source": [
    "%%timeit\n",
    "temp.mean()"
   ]
  },
  {
   "cell_type": "code",
   "execution_count": null,
   "metadata": {},
   "outputs": [],
   "source": [
    "%%timeit\n",
    "np.mean(temp)"
   ]
  },
  {
   "cell_type": "code",
   "execution_count": null,
   "metadata": {},
   "outputs": [],
   "source": [
    "np.linspace(-1,1,10)"
   ]
  },
  {
   "cell_type": "code",
   "execution_count": null,
   "metadata": {},
   "outputs": [],
   "source": []
  }
 ],
 "metadata": {
  "kernelspec": {
   "display_name": "dcmr",
   "language": "python",
   "name": "dcmr"
  },
  "language_info": {
   "codemirror_mode": {
    "name": "ipython",
    "version": 3
   },
   "file_extension": ".py",
   "mimetype": "text/x-python",
   "name": "python",
   "nbconvert_exporter": "python",
   "pygments_lexer": "ipython3",
   "version": "3.8.5"
  },
  "widgets": {
   "application/vnd.jupyter.widget-state+json": {
    "state": {
     "0340a8f93ae841bfb8f2f69dbb3b4561": {
      "model_module": "@jupyter-widgets/controls",
      "model_module_version": "1.5.0",
      "model_name": "SliderStyleModel",
      "state": {
       "description_width": ""
      }
     },
     "040254d04d5b488d80f9902e28eebdeb": {
      "model_module": "@jupyter-widgets/controls",
      "model_module_version": "1.5.0",
      "model_name": "TextModel",
      "state": {
       "description": "search_str",
       "layout": "IPY_MODEL_46bb1990326846c9830cf4bb77c7a990",
       "style": "IPY_MODEL_3256acd5a6de4d2ba07c3dec5dd7d1e0"
      }
     },
     "0823068b4e6b4e1eb6c5c575ab9d7eeb": {
      "model_module": "@jupyter-widgets/base",
      "model_module_version": "1.2.0",
      "model_name": "LayoutModel",
      "state": {}
     },
     "0e3fd1413e974a0289cea1c8c19d8efe": {
      "model_module": "@jupyter-widgets/base",
      "model_module_version": "1.2.0",
      "model_name": "LayoutModel",
      "state": {}
     },
     "11c4ea9b476e4c05b19567820c2f6b98": {
      "model_module": "@jupyter-widgets/controls",
      "model_module_version": "1.5.0",
      "model_name": "ButtonStyleModel",
      "state": {}
     },
     "189522ce13ac4698a0df5e43bb8bdd0f": {
      "model_module": "@jupyter-widgets/controls",
      "model_module_version": "1.5.0",
      "model_name": "DescriptionStyleModel",
      "state": {
       "description_width": ""
      }
     },
     "211673ca1bc8480e97a4de3067bf71f2": {
      "model_module": "@jupyter-widgets/base",
      "model_module_version": "1.2.0",
      "model_name": "LayoutModel",
      "state": {}
     },
     "23b21be9a5704728bda8bf6d4767a47c": {
      "model_module": "@jupyter-widgets/controls",
      "model_module_version": "1.5.0",
      "model_name": "IntSliderModel",
      "state": {
       "description": "slice_n",
       "layout": "IPY_MODEL_684ccbaf8a034e1a8a9381b82cfca761",
       "max": 11,
       "min": 1,
       "style": "IPY_MODEL_405637c74632440e8a2d6bb5d2eed4b7",
       "value": 6
      }
     },
     "2e80139cc2c84d48acb7c457a966161e": {
      "model_module": "@jupyter-widgets/base",
      "model_module_version": "1.2.0",
      "model_name": "LayoutModel",
      "state": {}
     },
     "2f44d507a9de4d348d5276c2f9265f11": {
      "model_module": "@jupyter-widgets/controls",
      "model_module_version": "1.5.0",
      "model_name": "IntSliderModel",
      "state": {
       "description": "batch",
       "layout": "IPY_MODEL_0823068b4e6b4e1eb6c5c575ab9d7eeb",
       "max": 46,
       "style": "IPY_MODEL_0340a8f93ae841bfb8f2f69dbb3b4561",
       "value": 23
      }
     },
     "2ff8d213484d4c4eacf0ecd8f79e53c5": {
      "model_module": "@jupyter-widgets/controls",
      "model_module_version": "1.5.0",
      "model_name": "DescriptionStyleModel",
      "state": {
       "description_width": ""
      }
     },
     "3256acd5a6de4d2ba07c3dec5dd7d1e0": {
      "model_module": "@jupyter-widgets/controls",
      "model_module_version": "1.5.0",
      "model_name": "DescriptionStyleModel",
      "state": {
       "description_width": ""
      }
     },
     "3e5e75e689f048f1ab53a52a4721de01": {
      "model_module": "@jupyter-widgets/controls",
      "model_module_version": "1.5.0",
      "model_name": "SliderStyleModel",
      "state": {
       "description_width": ""
      }
     },
     "405637c74632440e8a2d6bb5d2eed4b7": {
      "model_module": "@jupyter-widgets/controls",
      "model_module_version": "1.5.0",
      "model_name": "SliderStyleModel",
      "state": {
       "description_width": ""
      }
     },
     "46bb1990326846c9830cf4bb77c7a990": {
      "model_module": "@jupyter-widgets/base",
      "model_module_version": "1.2.0",
      "model_name": "LayoutModel",
      "state": {}
     },
     "4cd3a5fb7d0f4969a6003ee91578dd77": {
      "model_module": "@jupyter-widgets/base",
      "model_module_version": "1.2.0",
      "model_name": "LayoutModel",
      "state": {}
     },
     "4de9fbc896314ef58404819da1a0e585": {
      "model_module": "@jupyter-widgets/controls",
      "model_module_version": "1.5.0",
      "model_name": "CheckboxModel",
      "state": {
       "description": "save",
       "disabled": false,
       "layout": "IPY_MODEL_dac612a0cf544ba88bec27cc34056834",
       "style": "IPY_MODEL_8c537c0070da4e4d939d79403f5ad97a",
       "value": false
      }
     },
     "54734d136da24d548a48eaf9f606f3da": {
      "model_module": "@jupyter-widgets/base",
      "model_module_version": "1.2.0",
      "model_name": "LayoutModel",
      "state": {}
     },
     "5eb6a1849c4548b39ca2e5a5d96ebf78": {
      "model_module": "@jupyter-widgets/controls",
      "model_module_version": "1.5.0",
      "model_name": "CheckboxModel",
      "state": {
       "description": "show_",
       "disabled": false,
       "layout": "IPY_MODEL_c6cce5dcaa7346359212af41e172a445",
       "style": "IPY_MODEL_189522ce13ac4698a0df5e43bb8bdd0f",
       "value": true
      }
     },
     "610a0203c33747b9b526d9893cbeff58": {
      "model_module": "@jupyter-widgets/controls",
      "model_module_version": "1.5.0",
      "model_name": "DescriptionStyleModel",
      "state": {
       "description_width": ""
      }
     },
     "684ccbaf8a034e1a8a9381b82cfca761": {
      "model_module": "@jupyter-widgets/base",
      "model_module_version": "1.2.0",
      "model_name": "LayoutModel",
      "state": {}
     },
     "7c24a775962d4407b0391891b9d61ace": {
      "model_module": "@jupyter-widgets/controls",
      "model_module_version": "1.5.0",
      "model_name": "IntSliderModel",
      "state": {
       "description": "im",
       "layout": "IPY_MODEL_a5bee0317e2148f091b59c3ec25c4fb8",
       "max": 5,
       "style": "IPY_MODEL_3e5e75e689f048f1ab53a52a4721de01",
       "value": 2
      }
     },
     "834072339f404ec39d994bd86d2cbbf2": {
      "model_module": "@jupyter-widgets/base",
      "model_module_version": "1.2.0",
      "model_name": "LayoutModel",
      "state": {}
     },
     "856b2e1e4f4f4898b5c38c1de356a24d": {
      "model_module": "@jupyter-widgets/controls",
      "model_module_version": "1.5.0",
      "model_name": "ButtonModel",
      "state": {
       "description": "Run Interact",
       "layout": "IPY_MODEL_0e3fd1413e974a0289cea1c8c19d8efe",
       "style": "IPY_MODEL_11c4ea9b476e4c05b19567820c2f6b98"
      }
     },
     "8c537c0070da4e4d939d79403f5ad97a": {
      "model_module": "@jupyter-widgets/controls",
      "model_module_version": "1.5.0",
      "model_name": "DescriptionStyleModel",
      "state": {
       "description_width": ""
      }
     },
     "9dd7c5c18c224d0184641c000535d418": {
      "model_module": "@jupyter-widgets/controls",
      "model_module_version": "1.5.0",
      "model_name": "TextModel",
      "state": {
       "description": "filepath",
       "layout": "IPY_MODEL_211673ca1bc8480e97a4de3067bf71f2",
       "style": "IPY_MODEL_610a0203c33747b9b526d9893cbeff58",
       "value": "data/temp/"
      }
     },
     "a5bee0317e2148f091b59c3ec25c4fb8": {
      "model_module": "@jupyter-widgets/base",
      "model_module_version": "1.2.0",
      "model_name": "LayoutModel",
      "state": {}
     },
     "ad51496f3daf48f3a986b11ba4b63ee8": {
      "model_module": "@jupyter-widgets/controls",
      "model_module_version": "1.5.0",
      "model_name": "VBoxModel",
      "state": {
       "_dom_classes": [
        "widget-interact"
       ],
       "children": [
        "IPY_MODEL_040254d04d5b488d80f9902e28eebdeb",
        "IPY_MODEL_be1b4ae6e683442ca66e6b600e80c9f9"
       ],
       "layout": "IPY_MODEL_834072339f404ec39d994bd86d2cbbf2"
      }
     },
     "be1b4ae6e683442ca66e6b600e80c9f9": {
      "model_module": "@jupyter-widgets/output",
      "model_module_version": "1.0.0",
      "model_name": "OutputModel",
      "state": {
       "layout": "IPY_MODEL_2e80139cc2c84d48acb7c457a966161e",
       "outputs": [
        {
         "data": {
          "text/html": "<div>\n<style scoped>\n    .dataframe tbody tr th:only-of-type {\n        vertical-align: middle;\n    }\n\n    .dataframe tbody tr th {\n        vertical-align: top;\n    }\n\n    .dataframe thead th {\n        text-align: right;\n    }\n</style>\n<table border=\"1\" class=\"dataframe\">\n  <thead>\n    <tr style=\"text-align: right;\">\n      <th></th>\n      <th>patient</th>\n      <th>ED#</th>\n      <th>MS#</th>\n      <th>ES#</th>\n      <th>PF#</th>\n      <th>MD#</th>\n    </tr>\n  </thead>\n  <tbody>\n    <tr>\n      <th>0</th>\n      <td>02Z1L14N</td>\n      <td>14.0</td>\n      <td>3.0</td>\n      <td>6.0</td>\n      <td>8.0</td>\n      <td>12.0</td>\n    </tr>\n    <tr>\n      <th>1</th>\n      <td>02Z1L14N</td>\n      <td>14.0</td>\n      <td>3.0</td>\n      <td>6.0</td>\n      <td>8.0</td>\n      <td>12.0</td>\n    </tr>\n    <tr>\n      <th>2</th>\n      <td>02Z1L14N</td>\n      <td>14.0</td>\n      <td>3.0</td>\n      <td>6.0</td>\n      <td>8.0</td>\n      <td>12.0</td>\n    </tr>\n    <tr>\n      <th>3</th>\n      <td>02Z1L14N</td>\n      <td>14.0</td>\n      <td>3.0</td>\n      <td>6.0</td>\n      <td>8.0</td>\n      <td>12.0</td>\n    </tr>\n    <tr>\n      <th>4</th>\n      <td>02Z1L14N</td>\n      <td>14.0</td>\n      <td>3.0</td>\n      <td>6.0</td>\n      <td>8.0</td>\n      <td>12.0</td>\n    </tr>\n    <tr>\n      <th>...</th>\n      <td>...</td>\n      <td>...</td>\n      <td>...</td>\n      <td>...</td>\n      <td>...</td>\n      <td>...</td>\n    </tr>\n    <tr>\n      <th>1385</th>\n      <td>ZZQ0001Q</td>\n      <td>1.0</td>\n      <td>5.0</td>\n      <td>10.0</td>\n      <td>14.0</td>\n      <td>19.0</td>\n    </tr>\n    <tr>\n      <th>1386</th>\n      <td>ZZQ0001Q</td>\n      <td>1.0</td>\n      <td>5.0</td>\n      <td>10.0</td>\n      <td>14.0</td>\n      <td>19.0</td>\n    </tr>\n    <tr>\n      <th>1387</th>\n      <td>ZZQ0001Q</td>\n      <td>1.0</td>\n      <td>5.0</td>\n      <td>10.0</td>\n      <td>14.0</td>\n      <td>19.0</td>\n    </tr>\n    <tr>\n      <th>1388</th>\n      <td>ZZQ0001Q</td>\n      <td>1.0</td>\n      <td>5.0</td>\n      <td>10.0</td>\n      <td>14.0</td>\n      <td>19.0</td>\n    </tr>\n    <tr>\n      <th>1389</th>\n      <td>ZZQ0001Q</td>\n      <td>1.0</td>\n      <td>5.0</td>\n      <td>10.0</td>\n      <td>14.0</td>\n      <td>19.0</td>\n    </tr>\n  </tbody>\n</table>\n<p>1390 rows × 6 columns</p>\n</div>",
          "text/plain": "       patient   ED#  MS#   ES#   PF#   MD#\n0     02Z1L14N  14.0  3.0   6.0   8.0  12.0\n1     02Z1L14N  14.0  3.0   6.0   8.0  12.0\n2     02Z1L14N  14.0  3.0   6.0   8.0  12.0\n3     02Z1L14N  14.0  3.0   6.0   8.0  12.0\n4     02Z1L14N  14.0  3.0   6.0   8.0  12.0\n...        ...   ...  ...   ...   ...   ...\n1385  ZZQ0001Q   1.0  5.0  10.0  14.0  19.0\n1386  ZZQ0001Q   1.0  5.0  10.0  14.0  19.0\n1387  ZZQ0001Q   1.0  5.0  10.0  14.0  19.0\n1388  ZZQ0001Q   1.0  5.0  10.0  14.0  19.0\n1389  ZZQ0001Q   1.0  5.0  10.0  14.0  19.0\n\n[1390 rows x 6 columns]"
         },
         "metadata": {},
         "output_type": "display_data"
        }
       ]
      }
     },
     "c54089b4b3bc4634b2a75434631c55d3": {
      "model_module": "@jupyter-widgets/controls",
      "model_module_version": "1.5.0",
      "model_name": "TextModel",
      "state": {
       "description": "filename",
       "layout": "IPY_MODEL_d4996b0b5efd475f83b20ecbbd77ede2",
       "style": "IPY_MODEL_2ff8d213484d4c4eacf0ecd8f79e53c5",
       "value": "temp_x.npy"
      }
     },
     "c6cce5dcaa7346359212af41e172a445": {
      "model_module": "@jupyter-widgets/base",
      "model_module_version": "1.2.0",
      "model_name": "LayoutModel",
      "state": {}
     },
     "d4996b0b5efd475f83b20ecbbd77ede2": {
      "model_module": "@jupyter-widgets/base",
      "model_module_version": "1.2.0",
      "model_name": "LayoutModel",
      "state": {}
     },
     "dac612a0cf544ba88bec27cc34056834": {
      "model_module": "@jupyter-widgets/base",
      "model_module_version": "1.2.0",
      "model_name": "LayoutModel",
      "state": {}
     },
     "e541bb14f0f940ef8d804e4e1a030274": {
      "model_module": "@jupyter-widgets/output",
      "model_module_version": "1.0.0",
      "model_name": "OutputModel",
      "state": {
       "layout": "IPY_MODEL_54734d136da24d548a48eaf9f606f3da"
      }
     },
     "fcb10ccf97764b07970828e6115d7e14": {
      "model_module": "@jupyter-widgets/controls",
      "model_module_version": "1.5.0",
      "model_name": "VBoxModel",
      "state": {
       "_dom_classes": [
        "widget-interact"
       ],
       "children": [
        "IPY_MODEL_2f44d507a9de4d348d5276c2f9265f11",
        "IPY_MODEL_7c24a775962d4407b0391891b9d61ace",
        "IPY_MODEL_23b21be9a5704728bda8bf6d4767a47c",
        "IPY_MODEL_4de9fbc896314ef58404819da1a0e585",
        "IPY_MODEL_9dd7c5c18c224d0184641c000535d418",
        "IPY_MODEL_c54089b4b3bc4634b2a75434631c55d3",
        "IPY_MODEL_5eb6a1849c4548b39ca2e5a5d96ebf78",
        "IPY_MODEL_856b2e1e4f4f4898b5c38c1de356a24d",
        "IPY_MODEL_e541bb14f0f940ef8d804e4e1a030274"
       ],
       "layout": "IPY_MODEL_4cd3a5fb7d0f4969a6003ee91578dd77"
      }
     }
    },
    "version_major": 2,
    "version_minor": 0
   }
  }
 },
 "nbformat": 4,
 "nbformat_minor": 4
}
