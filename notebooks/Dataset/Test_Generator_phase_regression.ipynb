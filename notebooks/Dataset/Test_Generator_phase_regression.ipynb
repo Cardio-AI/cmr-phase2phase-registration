{
 "cells": [
  {
   "cell_type": "code",
   "execution_count": 1,
   "metadata": {},
   "outputs": [
    {
     "name": "stdout",
     "output_type": "stream",
     "text": [
      "search for root_dir and set working directory\n",
      "Working directory set to: /mnt/ssd/git/dynamic-cmr-models\n",
      "['/gpu:0', '/gpu:1']\n"
     ]
    },
    {
     "name": "stderr",
     "output_type": "stream",
     "text": [
      "2021-02-22 20:41:38,302 INFO -------------------- Start --------------------\n",
      "2021-02-22 20:41:38,302 INFO Working directory: /mnt/ssd/git/dynamic-cmr-models.\n",
      "2021-02-22 20:41:38,302 INFO Log file: ./logs/temp/Bi-LSTM_CCE_minus5_5phaseaug_NOaug.log\n",
      "2021-02-22 20:41:38,302 INFO Log level for console: INFO\n",
      "2021-02-22 20:41:38,304 INFO Is built with tensorflow: True\n",
      "2021-02-22 20:41:38,364 INFO Visible devices:\n",
      "[PhysicalDevice(name='/physical_device:CPU:0', device_type='CPU'), PhysicalDevice(name='/physical_device:XLA_CPU:0', device_type='XLA_CPU'), PhysicalDevice(name='/physical_device:XLA_GPU:0', device_type='XLA_GPU'), PhysicalDevice(name='/physical_device:XLA_GPU:1', device_type='XLA_GPU'), PhysicalDevice(name='/physical_device:GPU:0', device_type='GPU'), PhysicalDevice(name='/physical_device:GPU:1', device_type='GPU')]\n"
     ]
    },
    {
     "name": "stdout",
     "output_type": "stream",
     "text": [
      "{'GPU_IDS': '0,1', 'GPUS': ['/gpu:0', '/gpu:1'], 'SEED': 42, 'EXPERIMENT': 'temp/Bi-LSTM_CCE_minus5_5phaseaug_NOaug', 'MODEL_PATH': 'models/temp/Bi-LSTM_CCE_minus5_5phaseaug_NOaug/2021-02-22_20_41', 'TENSORBOARD_LOG_DIR': 'reports/tensorboard_logs/temp/Bi-LSTM_CCE_minus5_5phaseaug_NOaug/2021-02-22_20_41', 'CONFIG_PATH': 'reports/configs/temp/Bi-LSTM_CCE_minus5_5phaseaug_NOaug/2021-02-22_20_41', 'HISTORY_PATH': 'reports/history/temp/Bi-LSTM_CCE_minus5_5phaseaug_NOaug/2021-02-22_20_41', 'SAVE_LEARNING_PROGRESS_AS_TF': True, 'BATCHSIZE': 4, 'GENERATOR_WORKER': 4, 'DIM': [8, 64, 64], 'T_SHAPE': 36, 'SPACING': [8, 3, 3], 'DEPTH': 3, 'FILTERS': 32, 'M_POOL': [1, 2, 2], 'F_SIZE': [3, 3, 3], 'BN_FIRST': False, 'BATCH_NORMALISATION': True, 'PAD': 'same', 'KERNEL_INIT': 'he_normal', 'OPTIMIZER': 'adam', 'ACTIVATION': 'relu', 'LEARNING_RATE': 0.0001, 'DECAY_FACTOR': 0.3, 'MIN_LR': 1e-10, 'BORDER_MODE': 4, 'IMG_INTERPOLATION': 1, 'MSK_INTERPOLATION': 0, 'AUGMENT': False, 'AUGMENT_PROB': 0.8, 'AUGMENT_PHASES': True, 'AUGMENT_PHASES_RANGE': (-3, 3), 'SHUFFLE': True, 'RESAMPLE': True, 'SCALER': 'MinMax', 'PHASES': 5, 'TARGET_SMOOTHING': True, 'SMOOTHING_KERNEL_SIZE': 12, 'SMOOTHING_LOWER_BORDER': 1, 'SMOOTHING_UPPER_BORDER': 5, 'SMOOTHING_WEIGHT_CORRECT': 10, 'DF_META': '/mnt/ssd/data/gcn/02_imported_4D_unfiltered/SAx_3D_dicomTags_phase'}\n"
     ]
    },
    {
     "name": "stderr",
     "output_type": "stream",
     "text": [
      "2021-02-22 20:41:39,002 INFO Local devices: \n",
      " [name: \"/device:CPU:0\"\n",
      "device_type: \"CPU\"\n",
      "memory_limit: 268435456\n",
      "locality {\n",
      "}\n",
      "incarnation: 12430314246345228227\n",
      ", name: \"/device:XLA_CPU:0\"\n",
      "device_type: \"XLA_CPU\"\n",
      "memory_limit: 17179869184\n",
      "locality {\n",
      "}\n",
      "incarnation: 17579663869195061396\n",
      "physical_device_desc: \"device: XLA_CPU device\"\n",
      ", name: \"/device:XLA_GPU:0\"\n",
      "device_type: \"XLA_GPU\"\n",
      "memory_limit: 17179869184\n",
      "locality {\n",
      "}\n",
      "incarnation: 13170111526833883536\n",
      "physical_device_desc: \"device: XLA_GPU device\"\n",
      ", name: \"/device:XLA_GPU:1\"\n",
      "device_type: \"XLA_GPU\"\n",
      "memory_limit: 17179869184\n",
      "locality {\n",
      "}\n",
      "incarnation: 6991000496600250291\n",
      "physical_device_desc: \"device: XLA_GPU device\"\n",
      ", name: \"/device:GPU:0\"\n",
      "device_type: \"GPU\"\n",
      "memory_limit: 23161873408\n",
      "locality {\n",
      "  bus_id: 1\n",
      "  links {\n",
      "  }\n",
      "}\n",
      "incarnation: 16881072685984866521\n",
      "physical_device_desc: \"device: 0, name: TITAN RTX, pci bus id: 0000:01:00.0, compute capability: 7.5\"\n",
      ", name: \"/device:GPU:1\"\n",
      "device_type: \"GPU\"\n",
      "memory_limit: 23561682304\n",
      "locality {\n",
      "  bus_id: 1\n",
      "  links {\n",
      "  }\n",
      "}\n",
      "incarnation: 9325695281839367320\n",
      "physical_device_desc: \"device: 1, name: TITAN RTX, pci bus id: 0000:02:00.0, compute capability: 7.5\"\n",
      "]\n"
     ]
    }
   ],
   "source": [
    "# ------------------------------------------define logging and working directory\n",
    "from ProjectRoot import change_wd_to_project_root\n",
    "change_wd_to_project_root()\n",
    "from src.utils.Tensorflow_helper import choose_gpu_by_id\n",
    "# ------------------------------------------define GPU id/s to use\n",
    "GPU_IDS = '0,1'\n",
    "GPUS = choose_gpu_by_id(GPU_IDS)\n",
    "print(GPUS)\n",
    "# ------------------------------------------jupyter magic config\n",
    "%matplotlib inline\n",
    "%reload_ext autoreload\n",
    "%autoreload 2\n",
    "# ------------------------------------------ import helpers\n",
    "# this should import glob, os, and many other standard libs\n",
    "from src.utils.Notebook_imports import *\n",
    "from tensorflow.python.client import device_lib\n",
    "import tensorflow as tf\n",
    "tf.get_logger().setLevel('ERROR')\n",
    "# local imports\n",
    "from src.utils.Utils_io import Console_and_file_logger, init_config\n",
    "from src.visualization.Visualize import show_2D_or_3D\n",
    "from src.utils.KerasCallbacks import get_callbacks\n",
    "\n",
    "# import external libs\n",
    "import cv2\n",
    "import pandas as pd\n",
    "\n",
    "EXPERIMENT = 'temp/Bi-LSTM_CCE_minus5_5phaseaug_NOaug'\n",
    "timestemp = str(datetime.datetime.now().strftime(\"%Y-%m-%d_%H_%M\")) # ad a timestep to each project to make repeated experiments unique\n",
    "\n",
    "MODEL_PATH = os.path.join('models', EXPERIMENT, timestemp)\n",
    "TENSORBOARD_LOG_DIR = os.path.join('reports/tensorboard_logs', EXPERIMENT,timestemp)\n",
    "CONFIG_PATH = os.path.join('reports/configs/',EXPERIMENT,timestemp)\n",
    "HISTORY_PATH = os.path.join('reports/history/',EXPERIMENT,timestemp)\n",
    "SAVE_LEARNING_PROGRESS_AS_TF = True\n",
    "\n",
    "# General params\n",
    "SEED = 42 # define a seed for the generator shuffle\n",
    "BATCHSIZE = 4 # 32, 64, 24, 16, 1 for 3D use: 4\n",
    "GENERATOR_WORKER = BATCHSIZE # if not set, use batchsize\n",
    "\n",
    "DIM = [8, 64, 64] # network input params for spacing of 3, (z,y,x)\n",
    "T_SHAPE = 36\n",
    "SPACING = [8, 3, 3] # if resample, resample to this spacing, (z,y,x)\n",
    "\n",
    "# Model params\n",
    "DEPTH = 3 # depth of the encoder\n",
    "FILTERS = 32 # initial number of filters, will be doubled after each downsampling block\n",
    "M_POOL = [1, 2, 2]# size of max-pooling used for downsampling and upsampling\n",
    "F_SIZE = [3, 3, 3] # conv filter size\n",
    "BN_FIRST = False # decide if batch normalisation between conv and activation or afterwards\n",
    "BATCH_NORMALISATION = True # apply BN or not\n",
    "PAD = 'same' # padding strategy of the conv layers\n",
    "KERNEL_INIT = 'he_normal' # conv weight initialisation\n",
    "OPTIMIZER = 'adam' # Adam, Adagrad, RMSprop, Adadelta,  # https://keras.io/optimizers/\n",
    "ACTIVATION = 'relu' # tf.keras.layers.LeakyReLU(), relu or any other non linear activation function\n",
    "LEARNING_RATE = 1e-4 # start with a huge lr to converge fast\n",
    "DECAY_FACTOR = 0.3 # Define a learning rate decay for the ReduceLROnPlateau callback\n",
    "MIN_LR = 1e-10 # minimal lr, smaller lr does not improve the model\n",
    "DROPOUT_min = 0.3 # lower dropout at the shallow layers\n",
    "DROPOUT_max = 0.5 # higher dropout at the deep layers\n",
    "\n",
    "# Augmentation and Generator params\n",
    "BORDER_MODE = cv2.BORDER_REFLECT_101 # border mode for the data generation\n",
    "IMG_INTERPOLATION = cv2.INTER_LINEAR # image interpolation in the genarator\n",
    "MSK_INTERPOLATION = cv2.INTER_NEAREST # mask interpolation in the generator\n",
    "AUGMENT = False # a compose of 2D augmentation (grid distortion, 90degree rotation, brightness and shift)\n",
    "AUGMENT_PROB = 0.8\n",
    "AUGMENT_PHASES = True\n",
    "AUGMENT_PHASES_RANGE = (-3,3)\n",
    "SHUFFLE = True\n",
    "RESAMPLE = True\n",
    "SCALER = 'MinMax' # MinMax Standard or Robust\n",
    "# We define 5 target phases and a background phase for the pad/empty volumes \n",
    "PHASES = len(['ED#', 'MS#', 'ES#', 'PF#', 'MD#']) # skipped 'pad backround manually added', due to repeating\n",
    "TARGET_SMOOTHING = True\n",
    "SMOOTHING_KERNEL_SIZE = 12\n",
    "SMOOTHING_LOWER_BORDER = 1\n",
    "SMOOTHING_UPPER_BORDER = 5\n",
    "SMOOTHING_WEIGHT_CORRECT = 10\n",
    "\n",
    "# Data paths\n",
    "DF_META = '/mnt/ssd/data/gcn/02_imported_4D_unfiltered/SAx_3D_dicomTags_phase'\n",
    "\n",
    "\n",
    "\n",
    "Console_and_file_logger(EXPERIMENT, logging.INFO)\n",
    "config = init_config(config=locals(), save=True)\n",
    "print(config)\n",
    "logging.info('Is built with tensorflow: {}'.format(tf.test.is_built_with_cuda()))\n",
    "logging.info('Visible devices:\\n{}'.format(tf.config.list_physical_devices()))\n",
    "logging.info('Local devices: \\n {}'.format(device_lib.list_local_devices()))"
   ]
  },
  {
   "cell_type": "code",
   "execution_count": 2,
   "metadata": {},
   "outputs": [
    {
     "name": "stdout",
     "output_type": "stream",
     "text": [
      "278\n"
     ]
    }
   ],
   "source": [
    "# zip the phase files in the following structure:\n",
    "#[[patient1_phase1, patient1_phase2, patient1_phase3, patient1_phase4, patient1_phase5],[patient2_phase1...] ...]\n",
    "\n",
    "images = sorted(glob.glob('/mnt/ssd/data/gcn/02_imported_4D_unfiltered/SAX/*clean.nrrd'))\n",
    "print(len(images))"
   ]
  },
  {
   "cell_type": "code",
   "execution_count": 3,
   "metadata": {},
   "outputs": [
    {
     "data": {
      "text/plain": [
       "'/mnt/ssd/data/gcn/02_imported_4D_unfiltered/SAX/0000-91GEVV22_1900-01-01_volume_clean.nrrd'"
      ]
     },
     "execution_count": 3,
     "metadata": {},
     "output_type": "execute_result"
    }
   ],
   "source": [
    "images[83]"
   ]
  },
  {
   "cell_type": "code",
   "execution_count": 4,
   "metadata": {},
   "outputs": [],
   "source": [
    "# check if we find each patient in the corresponding dataframe\n",
    "import re\n",
    "METADATA_FILE = config.get('DF_META', '/mnt/ssd/data/gcn/02_imported_4D_unfiltered/SAx_3D_dicomTags_phase')\n",
    "df = pd.read_csv(METADATA_FILE)\n",
    "DF_METADATA = df[['patient', 'ED#', 'MS#', 'ES#', 'PF#', 'MD#']]\n",
    "\n",
    "\n",
    "for x in images:\n",
    "    try:\n",
    "        patient_str = re.search('-(.{8})_', x).group(1).upper()\n",
    "        \n",
    "        assert(len(patient_str) == 8), 'matched patient ID from the phase sheet has a length of: {}'.format(len(patient_str))\n",
    "        # returns the indices in the following order: 'ED#', 'MS#', 'ES#', 'PF#', 'MD#'\n",
    "        # reduce by one, as the indexes start at 0, the excel-sheet at 1\n",
    "        ind = DF_METADATA[DF_METADATA.patient.str.contains(patient_str)][['ED#', 'MS#', 'ES#', 'PF#', 'MD#']]\n",
    "        indices = ind.values[0].astype(int) -1\n",
    "        \n",
    "    except Exception as e:\n",
    "        logging.info(patient_str)\n",
    "        logging.info(ind)\n",
    "        logging.info('indices: \\n{}'.format(indices))"
   ]
  },
  {
   "cell_type": "code",
   "execution_count": 5,
   "metadata": {},
   "outputs": [
    {
     "data": {
      "application/vnd.jupyter.widget-view+json": {
       "model_id": "785736bbc9a34a3e8da44349fe02d8a8",
       "version_major": 2,
       "version_minor": 0
      },
      "text/plain": [
       "interactive(children=(Text(value='', description='search_str'), Output()), _dom_classes=('widget-interact',))"
      ]
     },
     "metadata": {},
     "output_type": "display_data"
    }
   ],
   "source": [
    "@interact\n",
    "def search_p_in_df(search_str = ''):\n",
    "    return DF_METADATA[DF_METADATA['patient'].str.contains(search_str)]"
   ]
  },
  {
   "cell_type": "code",
   "execution_count": 6,
   "metadata": {},
   "outputs": [
    {
     "name": "stderr",
     "output_type": "stream",
     "text": [
      "2021-02-22 20:41:40,807 INFO Create DataGenerator\n",
      "2021-02-22 20:41:40,808 INFO Datagenerator created with: \n",
      " shape: [8, 64, 64]\n",
      " spacing: [8, 3, 3]\n",
      " batchsize: 4\n",
      " Scaler: MinMax\n",
      " Images: 220 \n",
      " Augment: False \n",
      " Thread workers: 4\n",
      "2021-02-22 20:41:40,808 INFO No augmentation\n",
      "2021-02-22 20:41:40,822 INFO Smoothing kernel: \n",
      "[ 1.   1.8  2.6  3.4  4.2  5.  10.   5.   4.2  3.4  2.6  1.8  1. ]\n",
      "2021-02-22 20:41:40,823 INFO Temporal phase augmentation: True\n",
      "2021-02-22 20:41:40,824 INFO Create DataGenerator\n",
      "2021-02-22 20:41:40,824 INFO Datagenerator created with: \n",
      " shape: [8, 64, 64]\n",
      " spacing: [8, 3, 3]\n",
      " batchsize: 4\n",
      " Scaler: MinMax\n",
      " Images: 58 \n",
      " Augment: False \n",
      " Thread workers: 4\n",
      "2021-02-22 20:41:40,824 INFO No augmentation\n",
      "2021-02-22 20:41:40,839 INFO Smoothing kernel: \n",
      "[ 1.   1.8  2.6  3.4  4.2  5.  10.   5.   4.2  3.4  2.6  1.8  1. ]\n",
      "2021-02-22 20:41:40,839 INFO Temporal phase augmentation: False\n"
     ]
    }
   ],
   "source": [
    "# initialise a generator with these files\n",
    "# logging.getLogger().setLevel(logging.INFO)\n",
    "from src.data.Generators import PhaseRegressionGenerator\n",
    "#config['SHUFFLE'] = False\n",
    "#config['AUGMENT'] = False\n",
    "#config['RESAMPLE'] = True\n",
    "#config['AUGMENT_PHASES'] = False\n",
    "batch_generator = PhaseRegressionGenerator(images[:220], images[:220], config=config)\n",
    "val_config = config.copy()\n",
    "val_config['AUGMENT'] = False\n",
    "val_config['AUGMENT_PHASES'] = False\n",
    "validation_generator = PhaseRegressionGenerator(images[220:], images[220:] , config=val_config)"
   ]
  },
  {
   "cell_type": "code",
   "execution_count": 7,
   "metadata": {},
   "outputs": [
    {
     "data": {
      "application/vnd.jupyter.widget-view+json": {
       "model_id": "abccb306b41a4fcc95073fd34cfe5895",
       "version_major": 2,
       "version_minor": 0
      },
      "text/plain": [
       "interactive(children=(IntSlider(value=7, description='batch', max=14), IntSlider(value=1, description='im', ma…"
      ]
     },
     "metadata": {},
     "output_type": "display_data"
    }
   ],
   "source": [
    "# visualise one batch\n",
    "@interact_manual\n",
    "def select_image_in_batch(batch = (0,len(validation_generator), 1), \n",
    "                          im = (0,BATCHSIZE- 1, 1), \n",
    "                          slice_n=(1,11), \n",
    "                          save=False, \n",
    "                          filepath='data/temp/', \n",
    "                          filename='temp_x.npy',\n",
    "                         show_=True):\n",
    "    \n",
    "    import time\n",
    "    global inputs, outputs\n",
    "    phases = ['ED', 'MS', 'ES', 'PF', 'MD']\n",
    "    t1 = time.time()\n",
    "    inputs, outputs = validation_generator.__getitem__(batch)\n",
    "    logging.info('Preprocessing took: {:0.3f}'.format(time.time() - t1))\n",
    "    print(inputs.shape, outputs.shape)\n",
    "    print('selected batch : ' + str(batch))\n",
    "    if show_:\n",
    "    \n",
    "        selected_input = inputs[im]\n",
    "        selected_output = outputs[im]\n",
    "\n",
    "        logging.debug('pad: \\n{}'.format(selected_output))\n",
    "        \n",
    "        f, axs = plt.subplots(1,2,figsize=(5,5))\n",
    "        i = 0\n",
    "        temp_y = selected_output\n",
    "        ind_gt = np.argmax(temp_y, axis=0)\n",
    "        axs[0].title.set_text('y')\n",
    "        axs[0].set_yticks(ind_gt, minor=False)\n",
    "        axs[0].set_xticks([0,1,2,3,4], minor=False)\n",
    "        axs[0].set_xticklabels(phases, rotation =45)\n",
    "        axs[0].imshow(temp_y, aspect='auto')\n",
    "        axs[1].hist(selected_input.flatten(), bins=np.linspace(0.1,1,20))\n",
    "        f.tight_layout()\n",
    "        plt.show()\n",
    "        \n",
    "        #list(map(lambda x: show_2D_or_3D(img=x, interpol='bilinear',dpi=100,f_size=(5,5)), selected_input[::slice_n]))\n",
    "\n",
    "        \n",
    "    if save:\n",
    "        ensure_dir(filepath)\n",
    "        np.save(os.path.join(filepath, filename), x[im])\n",
    "        logging.info('saved to {}'.format(os.path.join(filepath, filename)))\n",
    "    \n",
    "\n"
   ]
  },
  {
   "cell_type": "code",
   "execution_count": 8,
   "metadata": {},
   "outputs": [
    {
     "data": {
      "text/plain": [
       "'for b in range(len(validation_generator)):\\n    print(b)\\n    for im in range(BATCHSIZE):\\n        select_image_in_batch(batch=b,im=im, slice_n=5, show_=True)'"
      ]
     },
     "execution_count": 8,
     "metadata": {},
     "output_type": "execute_result"
    }
   ],
   "source": [
    "# test if all batches are processable\n",
    "\"\"\"for b in range(len(validation_generator)):\n",
    "    print(b)\n",
    "    for im in range(BATCHSIZE):\n",
    "        select_image_in_batch(batch=b,im=im, slice_n=5, show_=True)\"\"\""
   ]
  },
  {
   "cell_type": "code",
   "execution_count": 8,
   "metadata": {},
   "outputs": [
    {
     "name": "stdout",
     "output_type": "stream",
     "text": [
      "(None, 8, 8, 8, 256)\n",
      "(None, 256)\n",
      "(None, 36, 256)\n",
      "encoder\n",
      "(None, 36, 256)\n",
      "bi LSTM\n",
      "(None, 36, 64)\n",
      "(None, 36, 5)\n"
     ]
    }
   ],
   "source": [
    "from src.models.Models import create_PhaseRegressionModel\n",
    "model = create_PhaseRegressionModel(config)"
   ]
  },
  {
   "cell_type": "code",
   "execution_count": 9,
   "metadata": {},
   "outputs": [
    {
     "name": "stdout",
     "output_type": "stream",
     "text": [
      "Model: \"PhaseRegressionModel\"\n",
      "______________________________________________________________________________________________________________________________________________________\n",
      "Layer (type)                                     Output Shape                     Param #           Connected to                                      \n",
      "======================================================================================================================================================\n",
      "input_1 (InputLayer)                             [(None, 36, 8, 64, 64, 1)]       0                                                                   \n",
      "______________________________________________________________________________________________________________________________________________________\n",
      "tf_op_layer_unstack (TensorFlowOpLayer)          [(None, 36, 64, 64, 1), (None, 3 0                 input_1[0][0]                                     \n",
      "______________________________________________________________________________________________________________________________________________________\n",
      "conv_encoder_1 (ConvEncoder)                     ((None, 36, 8, 8, 256), [(None,  3516960           tf_op_layer_unstack[0][3]                         \n",
      "                                                                                                    tf_op_layer_unstack[0][4]                         \n",
      "                                                                                                    tf_op_layer_unstack[0][6]                         \n",
      "                                                                                                    tf_op_layer_unstack[0][7]                         \n",
      "                                                                                                    tf_op_layer_unstack[0][2]                         \n",
      "                                                                                                    tf_op_layer_unstack[0][5]                         \n",
      "                                                                                                    tf_op_layer_unstack[0][0]                         \n",
      "                                                                                                    tf_op_layer_unstack[0][1]                         \n",
      "______________________________________________________________________________________________________________________________________________________\n",
      "tf_op_layer_stack (TensorFlowOpLayer)            [(None, 36, 8, 8, 8, 256)]       0                 conv_encoder_1[6][0]                              \n",
      "                                                                                                    conv_encoder_1[7][0]                              \n",
      "                                                                                                    conv_encoder_1[4][0]                              \n",
      "                                                                                                    conv_encoder_1[0][0]                              \n",
      "                                                                                                    conv_encoder_1[1][0]                              \n",
      "                                                                                                    conv_encoder_1[5][0]                              \n",
      "                                                                                                    conv_encoder_1[2][0]                              \n",
      "                                                                                                    conv_encoder_1[3][0]                              \n",
      "______________________________________________________________________________________________________________________________________________________\n",
      "tf_op_layer_unstack_1 (TensorFlowOpLayer)        [(None, 8, 8, 8, 256), (None, 8, 0                 tf_op_layer_stack[0][0]                           \n",
      "______________________________________________________________________________________________________________________________________________________\n",
      "global_average_pooling3d (GlobalAveragePooling3D (None, 256)                      0                 tf_op_layer_unstack_1[0][0]                       \n",
      "                                                                                                    tf_op_layer_unstack_1[0][1]                       \n",
      "                                                                                                    tf_op_layer_unstack_1[0][2]                       \n",
      "                                                                                                    tf_op_layer_unstack_1[0][3]                       \n",
      "                                                                                                    tf_op_layer_unstack_1[0][4]                       \n",
      "                                                                                                    tf_op_layer_unstack_1[0][5]                       \n",
      "                                                                                                    tf_op_layer_unstack_1[0][6]                       \n",
      "                                                                                                    tf_op_layer_unstack_1[0][7]                       \n",
      "                                                                                                    tf_op_layer_unstack_1[0][8]                       \n",
      "                                                                                                    tf_op_layer_unstack_1[0][9]                       \n",
      "                                                                                                    tf_op_layer_unstack_1[0][10]                      \n",
      "                                                                                                    tf_op_layer_unstack_1[0][11]                      \n",
      "                                                                                                    tf_op_layer_unstack_1[0][12]                      \n",
      "                                                                                                    tf_op_layer_unstack_1[0][13]                      \n",
      "                                                                                                    tf_op_layer_unstack_1[0][14]                      \n",
      "                                                                                                    tf_op_layer_unstack_1[0][15]                      \n",
      "                                                                                                    tf_op_layer_unstack_1[0][16]                      \n",
      "                                                                                                    tf_op_layer_unstack_1[0][17]                      \n",
      "                                                                                                    tf_op_layer_unstack_1[0][18]                      \n",
      "                                                                                                    tf_op_layer_unstack_1[0][19]                      \n",
      "                                                                                                    tf_op_layer_unstack_1[0][20]                      \n",
      "                                                                                                    tf_op_layer_unstack_1[0][21]                      \n",
      "                                                                                                    tf_op_layer_unstack_1[0][22]                      \n",
      "                                                                                                    tf_op_layer_unstack_1[0][23]                      \n",
      "                                                                                                    tf_op_layer_unstack_1[0][24]                      \n",
      "                                                                                                    tf_op_layer_unstack_1[0][25]                      \n",
      "                                                                                                    tf_op_layer_unstack_1[0][26]                      \n",
      "                                                                                                    tf_op_layer_unstack_1[0][27]                      \n",
      "                                                                                                    tf_op_layer_unstack_1[0][28]                      \n",
      "                                                                                                    tf_op_layer_unstack_1[0][29]                      \n",
      "                                                                                                    tf_op_layer_unstack_1[0][30]                      \n",
      "                                                                                                    tf_op_layer_unstack_1[0][31]                      \n",
      "                                                                                                    tf_op_layer_unstack_1[0][32]                      \n",
      "                                                                                                    tf_op_layer_unstack_1[0][33]                      \n",
      "                                                                                                    tf_op_layer_unstack_1[0][34]                      \n",
      "                                                                                                    tf_op_layer_unstack_1[0][35]                      \n",
      "______________________________________________________________________________________________________________________________________________________\n",
      "tf_op_layer_stack_1 (TensorFlowOpLayer)          [(None, 36, 256)]                0                 global_average_pooling3d[0][0]                    \n",
      "                                                                                                    global_average_pooling3d[1][0]                    \n",
      "                                                                                                    global_average_pooling3d[2][0]                    \n",
      "                                                                                                    global_average_pooling3d[3][0]                    \n",
      "                                                                                                    global_average_pooling3d[4][0]                    \n",
      "                                                                                                    global_average_pooling3d[5][0]                    \n",
      "                                                                                                    global_average_pooling3d[6][0]                    \n",
      "                                                                                                    global_average_pooling3d[7][0]                    \n",
      "                                                                                                    global_average_pooling3d[8][0]                    \n",
      "                                                                                                    global_average_pooling3d[9][0]                    \n",
      "                                                                                                    global_average_pooling3d[10][0]                   \n",
      "                                                                                                    global_average_pooling3d[11][0]                   \n",
      "                                                                                                    global_average_pooling3d[12][0]                   \n",
      "                                                                                                    global_average_pooling3d[13][0]                   \n",
      "                                                                                                    global_average_pooling3d[14][0]                   \n",
      "                                                                                                    global_average_pooling3d[15][0]                   \n",
      "                                                                                                    global_average_pooling3d[16][0]                   \n",
      "                                                                                                    global_average_pooling3d[17][0]                   \n",
      "                                                                                                    global_average_pooling3d[18][0]                   \n",
      "                                                                                                    global_average_pooling3d[19][0]                   \n",
      "                                                                                                    global_average_pooling3d[20][0]                   \n",
      "                                                                                                    global_average_pooling3d[21][0]                   \n",
      "                                                                                                    global_average_pooling3d[22][0]                   \n",
      "                                                                                                    global_average_pooling3d[23][0]                   \n",
      "                                                                                                    global_average_pooling3d[24][0]                   \n",
      "                                                                                                    global_average_pooling3d[25][0]                   \n",
      "                                                                                                    global_average_pooling3d[26][0]                   \n",
      "                                                                                                    global_average_pooling3d[27][0]                   \n",
      "                                                                                                    global_average_pooling3d[28][0]                   \n",
      "                                                                                                    global_average_pooling3d[29][0]                   \n",
      "                                                                                                    global_average_pooling3d[30][0]                   \n",
      "                                                                                                    global_average_pooling3d[31][0]                   \n",
      "                                                                                                    global_average_pooling3d[32][0]                   \n",
      "                                                                                                    global_average_pooling3d[33][0]                   \n",
      "                                                                                                    global_average_pooling3d[34][0]                   \n",
      "                                                                                                    global_average_pooling3d[35][0]                   \n",
      "______________________________________________________________________________________________________________________________________________________\n",
      "batch_normalization_16 (BatchNormalization)      (None, 36, 256)                  1024              tf_op_layer_stack_1[0][0]                         \n",
      "______________________________________________________________________________________________________________________________________________________\n",
      "dropout_8 (Dropout)                              (None, 36, 256)                  0                 batch_normalization_16[0][0]                      \n",
      "______________________________________________________________________________________________________________________________________________________\n",
      "bidirectional (Bidirectional)                    (None, 36, 64)                   73984             dropout_8[0][0]                                   \n",
      "______________________________________________________________________________________________________________________________________________________\n",
      "conv1d (Conv1D)                                  (None, 36, 5)                    325               bidirectional[0][0]                               \n",
      "======================================================================================================================================================\n",
      "Total params: 3,592,293\n",
      "Trainable params: 3,589,861\n",
      "Non-trainable params: 2,432\n",
      "______________________________________________________________________________________________________________________________________________________\n"
     ]
    }
   ],
   "source": [
    "model.summary(line_length=150)"
   ]
  },
  {
   "cell_type": "code",
   "execution_count": null,
   "metadata": {},
   "outputs": [
    {
     "name": "stderr",
     "output_type": "stream",
     "text": [
      "2021-02-22 20:42:05,348 INFO feed 4 Tensorboard is ready\n"
     ]
    },
    {
     "name": "stdout",
     "output_type": "stream",
     "text": [
      "Epoch 1/200\n",
      "55/55 [==============================] - ETA: 0s - loss: 1.5330 - categorical_accuracy: 0.4027 - mean_squared_error: 0.0867 - mean_absolute_error: 0.2199"
     ]
    },
    {
     "name": "stderr",
     "output_type": "stream",
     "text": [
      "2021-02-22 20:43:09,830 INFO (4, 36, 5)\n",
      "2021-02-22 20:43:10,631 INFO (4, 36, 5)\n"
     ]
    },
    {
     "name": "stdout",
     "output_type": "stream",
     "text": [
      "55/55 [==============================] - 38s 697ms/step - loss: 1.5330 - categorical_accuracy: 0.4027 - mean_squared_error: 0.0867 - mean_absolute_error: 0.2199 - val_loss: 1.5969 - val_categorical_accuracy: 0.3011 - val_mean_squared_error: 0.0954 - val_mean_absolute_error: 0.2405 - lr: 1.0000e-04\n",
      "Epoch 2/200\n",
      "55/55 [==============================] - ETA: 0s - loss: 1.3297 - categorical_accuracy: 0.5833 - mean_squared_error: 0.0610 - mean_absolute_error: 0.1744"
     ]
    },
    {
     "name": "stderr",
     "output_type": "stream",
     "text": [
      "2021-02-22 20:43:44,251 INFO (4, 36, 5)\n",
      "2021-02-22 20:43:44,757 INFO (4, 36, 5)\n"
     ]
    },
    {
     "name": "stdout",
     "output_type": "stream",
     "text": [
      "55/55 [==============================] - 33s 604ms/step - loss: 1.3297 - categorical_accuracy: 0.5833 - mean_squared_error: 0.0610 - mean_absolute_error: 0.1744 - val_loss: 1.4371 - val_categorical_accuracy: 0.4722 - val_mean_squared_error: 0.0745 - val_mean_absolute_error: 0.2027 - lr: 1.0000e-04\n",
      "Epoch 3/200\n",
      "55/55 [==============================] - ETA: 0s - loss: 1.2674 - categorical_accuracy: 0.6505 - mean_squared_error: 0.0521 - mean_absolute_error: 0.1575"
     ]
    },
    {
     "name": "stderr",
     "output_type": "stream",
     "text": [
      "2021-02-22 20:44:18,487 INFO (4, 36, 5)\n",
      "2021-02-22 20:44:18,996 INFO (4, 36, 5)\n"
     ]
    },
    {
     "name": "stdout",
     "output_type": "stream",
     "text": [
      "55/55 [==============================] - 33s 606ms/step - loss: 1.2674 - categorical_accuracy: 0.6505 - mean_squared_error: 0.0521 - mean_absolute_error: 0.1575 - val_loss: 1.6564 - val_categorical_accuracy: 0.3745 - val_mean_squared_error: 0.0864 - val_mean_absolute_error: 0.2053 - lr: 1.0000e-04\n",
      "Epoch 4/200\n",
      "55/55 [==============================] - ETA: 0s - loss: 1.2665 - categorical_accuracy: 0.6552 - mean_squared_error: 0.0517 - mean_absolute_error: 0.1572"
     ]
    },
    {
     "name": "stderr",
     "output_type": "stream",
     "text": [
      "2021-02-22 20:44:53,378 INFO (4, 36, 5)\n",
      "2021-02-22 20:44:54,168 INFO (4, 36, 5)\n"
     ]
    },
    {
     "name": "stdout",
     "output_type": "stream",
     "text": [
      "55/55 [==============================] - 34s 622ms/step - loss: 1.2665 - categorical_accuracy: 0.6552 - mean_squared_error: 0.0517 - mean_absolute_error: 0.1572 - val_loss: 1.3835 - val_categorical_accuracy: 0.5327 - val_mean_squared_error: 0.0644 - val_mean_absolute_error: 0.1747 - lr: 1.0000e-04\n",
      "Epoch 5/200\n",
      "55/55 [==============================] - 33s 607ms/step - loss: 1.2220 - categorical_accuracy: 0.6966 - mean_squared_error: 0.0451 - mean_absolute_error: 0.1452 - val_loss: 1.3076 - val_categorical_accuracy: 0.6334 - val_mean_squared_error: 0.0505 - val_mean_absolute_error: 0.1464 - lr: 1.0000e-04\n",
      "Epoch 6/200\n",
      "55/55 [==============================] - ETA: 0s - loss: 1.1952 - categorical_accuracy: 0.7211 - mean_squared_error: 0.0417 - mean_absolute_error: 0.1386"
     ]
    },
    {
     "name": "stderr",
     "output_type": "stream",
     "text": [
      "2021-02-22 20:46:04,537 INFO (4, 36, 5)\n",
      "2021-02-22 20:46:05,047 INFO (4, 36, 5)\n"
     ]
    },
    {
     "name": "stdout",
     "output_type": "stream",
     "text": [
      "55/55 [==============================] - 35s 645ms/step - loss: 1.1952 - categorical_accuracy: 0.7211 - mean_squared_error: 0.0417 - mean_absolute_error: 0.1386 - val_loss: 1.3467 - val_categorical_accuracy: 0.6096 - val_mean_squared_error: 0.0550 - val_mean_absolute_error: 0.1521 - lr: 1.0000e-04\n",
      "Epoch 7/200\n",
      "55/55 [==============================] - 35s 637ms/step - loss: 1.1934 - categorical_accuracy: 0.7229 - mean_squared_error: 0.0406 - mean_absolute_error: 0.1357 - val_loss: 1.6693 - val_categorical_accuracy: 0.6181 - val_mean_squared_error: 0.0593 - val_mean_absolute_error: 0.1439 - lr: 1.0000e-04\n",
      "Epoch 8/200\n",
      "55/55 [==============================] - ETA: 0s - loss: 1.1755 - categorical_accuracy: 0.7443 - mean_squared_error: 0.0385 - mean_absolute_error: 0.1321"
     ]
    },
    {
     "name": "stderr",
     "output_type": "stream",
     "text": [
      "2021-02-22 20:47:18,520 INFO (4, 36, 5)\n",
      "2021-02-22 20:47:19,304 INFO (4, 36, 5)\n"
     ]
    },
    {
     "name": "stdout",
     "output_type": "stream",
     "text": [
      "55/55 [==============================] - 37s 680ms/step - loss: 1.1755 - categorical_accuracy: 0.7443 - mean_squared_error: 0.0385 - mean_absolute_error: 0.1321 - val_loss: 1.2993 - val_categorical_accuracy: 0.7044 - val_mean_squared_error: 0.0410 - val_mean_absolute_error: 0.1226 - lr: 1.0000e-04\n",
      "Epoch 9/200\n",
      "55/55 [==============================] - 35s 645ms/step - loss: 1.1798 - categorical_accuracy: 0.7385 - mean_squared_error: 0.0387 - mean_absolute_error: 0.1325 - val_loss: 1.2504 - val_categorical_accuracy: 0.7416 - val_mean_squared_error: 0.0347 - val_mean_absolute_error: 0.1104 - lr: 1.0000e-04\n",
      "Epoch 10/200\n",
      "55/55 [==============================] - ETA: 0s - loss: 1.1585 - categorical_accuracy: 0.7628 - mean_squared_error: 0.0350 - mean_absolute_error: 0.1253"
     ]
    },
    {
     "name": "stderr",
     "output_type": "stream",
     "text": [
      "2021-02-22 20:48:32,651 INFO (4, 36, 5)\n",
      "2021-02-22 20:48:33,164 INFO (4, 36, 5)\n"
     ]
    },
    {
     "name": "stdout",
     "output_type": "stream",
     "text": [
      "55/55 [==============================] - 37s 666ms/step - loss: 1.1585 - categorical_accuracy: 0.7628 - mean_squared_error: 0.0350 - mean_absolute_error: 0.1253 - val_loss: 1.3442 - val_categorical_accuracy: 0.7103 - val_mean_squared_error: 0.0433 - val_mean_absolute_error: 0.1229 - lr: 1.0000e-04\n",
      "Epoch 11/200\n",
      "55/55 [==============================] - 35s 643ms/step - loss: 1.1479 - categorical_accuracy: 0.7703 - mean_squared_error: 0.0337 - mean_absolute_error: 0.1228 - val_loss: 1.4192 - val_categorical_accuracy: 0.6329 - val_mean_squared_error: 0.0566 - val_mean_absolute_error: 0.1445 - lr: 1.0000e-04\n",
      "Epoch 12/200\n",
      "55/55 [==============================] - ETA: 0s - loss: 1.1400 - categorical_accuracy: 0.7749 - mean_squared_error: 0.0321 - mean_absolute_error: 0.1194"
     ]
    },
    {
     "name": "stderr",
     "output_type": "stream",
     "text": [
      "2021-02-22 20:49:46,534 INFO (4, 36, 5)\n",
      "2021-02-22 20:49:47,043 INFO (4, 36, 5)\n"
     ]
    },
    {
     "name": "stdout",
     "output_type": "stream",
     "text": [
      "55/55 [==============================] - 37s 672ms/step - loss: 1.1400 - categorical_accuracy: 0.7749 - mean_squared_error: 0.0321 - mean_absolute_error: 0.1194 - val_loss: 1.2027 - val_categorical_accuracy: 0.7455 - val_mean_squared_error: 0.0362 - val_mean_absolute_error: 0.1189 - lr: 1.0000e-04\n",
      "Epoch 13/200\n",
      "55/55 [==============================] - 36s 650ms/step - loss: 1.1396 - categorical_accuracy: 0.7760 - mean_squared_error: 0.0323 - mean_absolute_error: 0.1202 - val_loss: 1.1948 - val_categorical_accuracy: 0.7664 - val_mean_squared_error: 0.0316 - val_mean_absolute_error: 0.1066 - lr: 1.0000e-04\n",
      "Epoch 14/200\n",
      "55/55 [==============================] - ETA: 0s - loss: 1.1302 - categorical_accuracy: 0.7898 - mean_squared_error: 0.0306 - mean_absolute_error: 0.1164"
     ]
    },
    {
     "name": "stderr",
     "output_type": "stream",
     "text": [
      "2021-02-22 20:51:01,734 INFO (4, 36, 5)\n",
      "2021-02-22 20:51:02,255 INFO (4, 36, 5)\n"
     ]
    },
    {
     "name": "stdout",
     "output_type": "stream",
     "text": [
      "55/55 [==============================] - 37s 672ms/step - loss: 1.1302 - categorical_accuracy: 0.7898 - mean_squared_error: 0.0306 - mean_absolute_error: 0.1164 - val_loss: 1.2175 - val_categorical_accuracy: 0.7475 - val_mean_squared_error: 0.0347 - val_mean_absolute_error: 0.1146 - lr: 1.0000e-04\n",
      "Epoch 15/200\n",
      "55/55 [==============================] - 36s 658ms/step - loss: 1.1229 - categorical_accuracy: 0.7984 - mean_squared_error: 0.0297 - mean_absolute_error: 0.1146 - val_loss: 1.1907 - val_categorical_accuracy: 0.7579 - val_mean_squared_error: 0.0348 - val_mean_absolute_error: 0.1183 - lr: 1.0000e-04\n",
      "Epoch 16/200\n",
      "55/55 [==============================] - ETA: 0s - loss: 1.1209 - categorical_accuracy: 0.7928 - mean_squared_error: 0.0292 - mean_absolute_error: 0.1137"
     ]
    },
    {
     "name": "stderr",
     "output_type": "stream",
     "text": [
      "2021-02-22 20:52:16,626 INFO (4, 36, 5)\n",
      "2021-02-22 20:52:17,155 INFO (4, 36, 5)\n"
     ]
    },
    {
     "name": "stdout",
     "output_type": "stream",
     "text": [
      "55/55 [==============================] - 37s 665ms/step - loss: 1.1209 - categorical_accuracy: 0.7928 - mean_squared_error: 0.0292 - mean_absolute_error: 0.1137 - val_loss: 1.1681 - val_categorical_accuracy: 0.7842 - val_mean_squared_error: 0.0286 - val_mean_absolute_error: 0.1031 - lr: 1.0000e-04\n",
      "Epoch 17/200\n",
      "55/55 [==============================] - 35s 639ms/step - loss: 1.1177 - categorical_accuracy: 0.7989 - mean_squared_error: 0.0286 - mean_absolute_error: 0.1115 - val_loss: 1.2275 - val_categorical_accuracy: 0.7698 - val_mean_squared_error: 0.0336 - val_mean_absolute_error: 0.1072 - lr: 1.0000e-04\n",
      "Epoch 18/200\n",
      "55/55 [==============================] - ETA: 0s - loss: 1.1122 - categorical_accuracy: 0.8028 - mean_squared_error: 0.0279 - mean_absolute_error: 0.1111"
     ]
    },
    {
     "name": "stderr",
     "output_type": "stream",
     "text": [
      "2021-02-22 20:53:30,037 INFO (4, 36, 5)\n",
      "2021-02-22 20:53:30,564 INFO (4, 36, 5)\n"
     ]
    },
    {
     "name": "stdout",
     "output_type": "stream",
     "text": [
      "55/55 [==============================] - 36s 663ms/step - loss: 1.1122 - categorical_accuracy: 0.8028 - mean_squared_error: 0.0279 - mean_absolute_error: 0.1111 - val_loss: 1.1831 - val_categorical_accuracy: 0.7763 - val_mean_squared_error: 0.0302 - val_mean_absolute_error: 0.1046 - lr: 1.0000e-04\n",
      "Epoch 19/200\n",
      "55/55 [==============================] - 36s 646ms/step - loss: 1.1077 - categorical_accuracy: 0.8109 - mean_squared_error: 0.0269 - mean_absolute_error: 0.1091 - val_loss: 1.2337 - val_categorical_accuracy: 0.7302 - val_mean_squared_error: 0.0391 - val_mean_absolute_error: 0.1219 - lr: 1.0000e-04\n",
      "Epoch 20/200\n",
      "55/55 [==============================] - ETA: 0s - loss: 1.1168 - categorical_accuracy: 0.7987 - mean_squared_error: 0.0286 - mean_absolute_error: 0.1121"
     ]
    },
    {
     "name": "stderr",
     "output_type": "stream",
     "text": [
      "2021-02-22 20:54:43,949 INFO (4, 36, 5)\n",
      "2021-02-22 20:54:44,477 INFO (4, 36, 5)\n"
     ]
    },
    {
     "name": "stdout",
     "output_type": "stream",
     "text": [
      "55/55 [==============================] - 36s 663ms/step - loss: 1.1168 - categorical_accuracy: 0.7987 - mean_squared_error: 0.0286 - mean_absolute_error: 0.1121 - val_loss: 1.2867 - val_categorical_accuracy: 0.6850 - val_mean_squared_error: 0.0471 - val_mean_absolute_error: 0.1368 - lr: 1.0000e-04\n",
      "Epoch 21/200\n",
      "55/55 [==============================] - 35s 639ms/step - loss: 1.1095 - categorical_accuracy: 0.8072 - mean_squared_error: 0.0273 - mean_absolute_error: 0.1091 - val_loss: 1.5615 - val_categorical_accuracy: 0.5293 - val_mean_squared_error: 0.0792 - val_mean_absolute_error: 0.1828 - lr: 1.0000e-04\n",
      "Epoch 22/200\n",
      "23/55 [===========>..................] - ETA: 17s - loss: 1.1131 - categorical_accuracy: 0.8037 - mean_squared_error: 0.0279 - mean_absolute_error: 0.1115"
     ]
    }
   ],
   "source": [
    "initial_epoch = 0\n",
    "\n",
    "results = model.fit(\n",
    "    x=batch_generator,\n",
    "    #steps_per_epoch=len(batch_generator),\n",
    "    validation_data=validation_generator,\n",
    "    #validation_steps=len(validation_generator),\n",
    "    epochs=200,\n",
    "    callbacks = get_callbacks(config, batch_generator,validation_generator),\n",
    "    initial_epoch=initial_epoch,\n",
    "    max_queue_size=12,\n",
    "    #workers=2,\n",
    "    use_multiprocessing=False,\n",
    "    verbose=1)"
   ]
  },
  {
   "cell_type": "code",
   "execution_count": 13,
   "metadata": {},
   "outputs": [],
   "source": [
    "# predict the files from globals()['inputs']\n",
    "pred = model(inputs, training=False)"
   ]
  },
  {
   "cell_type": "code",
   "execution_count": 15,
   "metadata": {},
   "outputs": [
    {
     "name": "stdout",
     "output_type": "stream",
     "text": [
      "[[19  4  8 12 15]\n",
      " [ 0  5  9 11 14]\n",
      " [ 0  3  6  9 12]\n",
      " [13  1  4  7 10]]\n",
      "[19 14 12 13]\n",
      "(4, 36, 5)\n"
     ]
    },
    {
     "ename": "IndexError",
     "evalue": "only integers, slices (`:`), ellipsis (`...`), numpy.newaxis (`None`) and integer or boolean arrays are valid indices",
     "output_type": "error",
     "traceback": [
      "\u001b[0;31m---------------------------------------------------------------------------\u001b[0m",
      "\u001b[0;31mIndexError\u001b[0m                                Traceback (most recent call last)",
      "\u001b[0;32m<ipython-input-15-fc4e512747a3>\u001b[0m in \u001b[0;36m<module>\u001b[0;34m\u001b[0m\n\u001b[1;32m      8\u001b[0m \u001b[0mslice_\u001b[0m \u001b[0;34m=\u001b[0m \u001b[0mtuple\u001b[0m\u001b[0;34m(\u001b[0m\u001b[0mslice\u001b[0m\u001b[0;34m(\u001b[0m\u001b[0;32mNone\u001b[0m\u001b[0;34m,\u001b[0m\u001b[0melem\u001b[0m\u001b[0;34m)\u001b[0m \u001b[0;32mfor\u001b[0m \u001b[0melem\u001b[0m \u001b[0;32min\u001b[0m \u001b[0mgt_max\u001b[0m\u001b[0;34m)\u001b[0m\u001b[0;34m\u001b[0m\u001b[0;34m\u001b[0m\u001b[0m\n\u001b[1;32m      9\u001b[0m \u001b[0mprint\u001b[0m\u001b[0;34m(\u001b[0m\u001b[0moutputs\u001b[0m\u001b[0;34m.\u001b[0m\u001b[0mshape\u001b[0m\u001b[0;34m)\u001b[0m\u001b[0;34m\u001b[0m\u001b[0;34m\u001b[0m\u001b[0m\n\u001b[0;32m---> 10\u001b[0;31m \u001b[0mnp\u001b[0m\u001b[0;34m.\u001b[0m\u001b[0marray\u001b[0m\u001b[0;34m(\u001b[0m\u001b[0moutputs\u001b[0m\u001b[0;34m[\u001b[0m\u001b[0;34m:\u001b[0m\u001b[0;34m,\u001b[0m\u001b[0mslice_\u001b[0m\u001b[0;34m,\u001b[0m\u001b[0;34m:\u001b[0m\u001b[0;34m]\u001b[0m\u001b[0;34m)\u001b[0m\u001b[0;34m.\u001b[0m\u001b[0mshape\u001b[0m\u001b[0;34m\u001b[0m\u001b[0;34m\u001b[0m\u001b[0m\n\u001b[0m",
      "\u001b[0;31mIndexError\u001b[0m: only integers, slices (`:`), ellipsis (`...`), numpy.newaxis (`None`) and integer or boolean arrays are valid indices"
     ]
    }
   ],
   "source": [
    "# get the true idx\n",
    "gt_idx = tf.math.argmax(outputs, axis=1).numpy()\n",
    "print(gt_idx)\n",
    "gt_max = gt_idx.max(axis=1).astype(int)\n",
    "print(gt_max)\n",
    "\n",
    "\n",
    "slice_ = tuple(slice(None,elem) for elem in gt_max)\n",
    "print(outputs.shape)\n",
    "np.array(outputs[:,slice_,:]).shape"
   ]
  },
  {
   "cell_type": "code",
   "execution_count": 71,
   "metadata": {},
   "outputs": [
    {
     "data": {
      "text/plain": [
       "TensorShape([4, 36, 5])"
      ]
     },
     "execution_count": 71,
     "metadata": {},
     "output_type": "execute_result"
    }
   ],
   "source": [
    "msk = tf.stack([\n",
    "        tf.pad(tf.ones((gt_max[i],5)), ((0,36-gt_max[i]),(0,0)))\n",
    "        for i in range(4)])\n",
    "msk.shape"
   ]
  },
  {
   "cell_type": "code",
   "execution_count": 33,
   "metadata": {},
   "outputs": [
    {
     "data": {
      "image/png": "[encoded data removed]",
      "text/plain": [
       "<Figure size 1440x360 with 8 Axes>"
      ]
     },
     "execution_count": 33,
     "metadata": {},
     "output_type": "execute_result"
    },
    {
     "data": {
      "image/png": "[encoded data removed]",
      "text/plain": [
       "<Figure size 1440x360 with 8 Axes>"
      ]
     },
     "metadata": {
      "needs_background": "light"
     },
     "output_type": "display_data"
    }
   ],
   "source": [
    "from src.visualization.Visualize import show_phases\n",
    "\n",
    "show_phases(outputs,pred)"
   ]
  },
  {
   "cell_type": "code",
   "execution_count": 34,
   "metadata": {},
   "outputs": [
    {
     "name": "stdout",
     "output_type": "stream",
     "text": [
      "[[19  4  8 12 15]\n",
      " [ 0  5  9 11 14]\n",
      " [ 0  3  6  9 12]\n",
      " [13  1  4  7 10]]\n",
      "msk shape : (4, 36, 5)\n",
      "(4, 5)\n",
      "(5,)\n",
      "(5,)\n",
      "(5,)\n",
      "(5,)\n"
     ]
    },
    {
     "data": {
      "text/plain": [
       "2.5"
      ]
     },
     "execution_count": 34,
     "metadata": {},
     "output_type": "execute_result"
    }
   ],
   "source": [
    "# calculate the meandiff score for one batch\n",
    "from src.utils.Metrics import meandiff\n",
    "score_fn = meandiff\n",
    "score_fn(outputs, pred).numpy()"
   ]
  },
  {
   "cell_type": "code",
   "execution_count": 21,
   "metadata": {},
   "outputs": [
    {
     "name": "stdout",
     "output_type": "stream",
     "text": [
      "[0, 1, 2, 3, 4, 5, 6, 7, 8, 9, 10, 11, 12, 13, 14, 15, 16, 17, 18]\n"
     ]
    },
    {
     "data": {
      "text/plain": [
       "5"
      ]
     },
     "execution_count": 21,
     "metadata": {},
     "output_type": "execute_result"
    }
   ],
   "source": [
    "def get_min_distance(a,b,mod):\n",
    "    decr_counter = 0\n",
    "    incr_counter = 0\n",
    "    \n",
    "    smaller = min(a,b)\n",
    "    bigger = max(a,b)\n",
    "\n",
    "    res = list(range(mod))\n",
    "    print(res)\n",
    "    i1 =bigger\n",
    "    while(res[i1]!=smaller):\n",
    "        decr_counter = decr_counter+1\n",
    "        i1 = i1-1\n",
    "\n",
    "    i1 = bigger\n",
    "    while(res[i1]!=smaller):\n",
    "        incr_counter = incr_counter+1\n",
    "        i1 = (i1+1)%mod\n",
    "\n",
    "    return min(decr_counter, incr_counter)\n",
    "    \n",
    "    \n",
    "get_min_distance(4,18,19)\n",
    "    "
   ]
  },
  {
   "cell_type": "code",
   "execution_count": 36,
   "metadata": {},
   "outputs": [
    {
     "data": {
      "text/plain": [
       "[<tf.Tensor: shape=(), dtype=float32, numpy=3.25>,\n",
       " <tf.Tensor: shape=(), dtype=float32, numpy=2.25>,\n",
       " <tf.Tensor: shape=(), dtype=float32, numpy=3.0>,\n",
       " <tf.Tensor: shape=(), dtype=float32, numpy=2.5>,\n",
       " <tf.Tensor: shape=(), dtype=float32, numpy=0.5>,\n",
       " <tf.Tensor: shape=(), dtype=float32, numpy=2.25>,\n",
       " <tf.Tensor: shape=(), dtype=float32, numpy=3.0>,\n",
       " <tf.Tensor: shape=(), dtype=float32, numpy=2.5>,\n",
       " <tf.Tensor: shape=(), dtype=float32, numpy=4.0>,\n",
       " <tf.Tensor: shape=(), dtype=float32, numpy=2.75>,\n",
       " <tf.Tensor: shape=(), dtype=float32, numpy=2.25>,\n",
       " <tf.Tensor: shape=(), dtype=float32, numpy=2.25>,\n",
       " <tf.Tensor: shape=(), dtype=float32, numpy=1.25>,\n",
       " <tf.Tensor: shape=(), dtype=float32, numpy=1.5>]"
      ]
     },
     "execution_count": 36,
     "metadata": {},
     "output_type": "execute_result"
    }
   ],
   "source": [
    "# calculate the meandiff score for all batches\n",
    "scores = []\n",
    "for batch in validation_generator:\n",
    "    x,y = batch\n",
    "    p = model(x)\n",
    "    scores.append(score_fn(y,p))\n",
    "scores"
   ]
  },
  {
   "cell_type": "code",
   "execution_count": 37,
   "metadata": {},
   "outputs": [
    {
     "data": {
      "text/plain": [
       "2.375"
      ]
     },
     "execution_count": 37,
     "metadata": {},
     "output_type": "execute_result"
    }
   ],
   "source": [
    "tf.reduce_mean(scores).numpy()"
   ]
  },
  {
   "cell_type": "markdown",
   "metadata": {},
   "source": [
    "# Generator tests"
   ]
  },
  {
   "cell_type": "code",
   "execution_count": 9,
   "metadata": {},
   "outputs": [
    {
     "data": {
      "text/plain": [
       "<matplotlib.image.AxesImage at 0x7f48c0042160>"
      ]
     },
     "execution_count": 9,
     "metadata": {},
     "output_type": "execute_result"
    },
    {
     "data": {
      "image/png": "[encoded data removed]",
      "text/plain": [
       "<Figure size 432x288 with 1 Axes>"
      ]
     },
     "metadata": {
      "needs_background": "light"
     },
     "output_type": "display_data"
    }
   ],
   "source": [
    "temp = outputs[2][:]\n",
    "plt.imshow(temp)"
   ]
  },
  {
   "cell_type": "code",
   "execution_count": 16,
   "metadata": {
    "collapsed": true,
    "jupyter": {
     "outputs_hidden": true
    }
   },
   "outputs": [
    {
     "data": {
      "image/png": "[encoded data removed]",
      "text/plain": [
       "<IPython.core.display.Image object>"
      ]
     },
     "execution_count": 16,
     "metadata": {},
     "output_type": "execute_result"
    }
   ],
   "source": [
    "tf.keras.utils.plot_model(\n",
    "    model, show_shapes=False,\n",
    "    show_layer_names=True, rankdir='TB', expand_nested=True, dpi=96\n",
    ")"
   ]
  },
  {
   "cell_type": "code",
   "execution_count": 11,
   "metadata": {},
   "outputs": [
    {
     "name": "stdout",
     "output_type": "stream",
     "text": [
      "(36, 5)\n",
      "[[ 1.38348091e+00  1.23632700e+34 -1.81182511e+36  4.56599092e-41\n",
      "  -1.81926115e+36]\n",
      " [ 4.56599092e-41  3.22819804e-03 -6.46831612e-31 -2.99579847e-29\n",
      "   4.56613105e-41]\n",
      " [-1.81928397e+36  4.56599092e-41  6.13270337e-11 -2.39915704e+10\n",
      "  -2.78123062e-29]\n",
      " [ 4.56613105e-41 -1.81930679e+36  4.56599092e-41  1.01344287e+04\n",
      "   8.43546880e+07]\n",
      " [-1.99690347e-16  4.56613105e-41 -1.81932961e+36  4.56599092e-41\n",
      "  -4.54529307e+33]\n",
      " [-6.16835742e+04 -1.04216684e-17  4.56613105e-41 -1.81935242e+36\n",
      "   4.56599092e-41]\n",
      " [-2.90389409e-07 -6.48057959e+03 -1.81197723e+36  4.56599092e-41\n",
      "  -1.81937524e+36]\n",
      " [ 4.56599092e-41 -4.12825109e+26  4.77408846e-17 -1.38908956e-16\n",
      "   4.56613105e-41]\n",
      " [-1.81939806e+36  4.56599092e-41 -1.45753474e+18 -2.60766018e-02\n",
      "  -1.38886934e-16]\n",
      " [ 4.56613105e-41 -1.33684881e-16  4.56613105e-41 -9.35618770e-27\n",
      "   7.34581107e-15]\n",
      " [-1.97438086e-16  4.56613105e-41 -1.81944369e+36  4.56599092e-41\n",
      "   2.14501761e-05]\n",
      " [ 1.19029230e-17 -1.81186568e+36  4.56599092e-41 -1.81948933e+36\n",
      "   4.56599092e-41]\n",
      " [ 4.65124913e-07  2.10490161e-27 -1.81205836e+36  4.56599092e-41\n",
      "  -1.81953497e+36]\n",
      " [ 4.56599092e-41  3.53334376e-11  9.37314971e+18 -1.81358208e+36\n",
      "   4.56599092e-41]\n",
      " [-1.81955778e+36  4.56599092e-41  1.47163612e+06 -1.22455998e+11\n",
      "  -1.81170342e+36]\n",
      " [ 4.56599092e-41 -1.81960342e+36  4.56599092e-41  2.91861289e-21\n",
      "   9.72294146e-37]\n",
      " [-1.81368349e+36  4.56599092e-41 -1.81962624e+36  4.56599092e-41\n",
      "  -7.73588544e+08]\n",
      " [-4.44926673e-06 -1.81373420e+36  4.56599092e-41 -1.81964905e+36\n",
      "   4.56599092e-41]\n",
      " [ 2.09519916e+12 -1.26574688e+08 -1.81178455e+36  4.56599092e-41\n",
      "  -1.81638866e+36]\n",
      " [ 4.56599092e-41  3.74002719e+26  4.61556784e+18 -1.81346799e+36\n",
      "   4.56599092e-41]\n",
      " [-1.81639626e+36  4.56599092e-41  4.15308294e-17  3.56574678e+26\n",
      "  -7.85236600e-17]\n",
      " [ 4.56613105e-41 -1.81971751e+36  4.56599092e-41 -5.42124399e-21\n",
      "   7.09974215e-17]\n",
      " [-2.19385504e-17  4.56613105e-41 -1.81974032e+36  4.56599092e-41\n",
      "  -1.14486125e-30]\n",
      " [ 3.84894220e-17 -1.81360743e+36  4.56599092e-41 -1.81978596e+36\n",
      "   4.56599092e-41]\n",
      " [ 1.83903310e-07 -3.46028712e-03 -1.79692746e-16  4.56613105e-41\n",
      "  -1.81606160e+36]\n",
      " [ 4.56599092e-41  9.30761399e+37 -7.97997176e+27 -1.34149478e-16\n",
      "   4.56613105e-41]\n",
      " [-1.81606921e+36  4.56599092e-41  1.99292334e+03  7.97951555e-34\n",
      "  -1.38647223e-16]\n",
      " [ 4.56613105e-41 -1.33341621e-16  4.56613105e-41 -1.01756836e-35\n",
      "   4.17932346e-02]\n",
      " [-1.91760424e-16  4.56613105e-41 -1.33345432e-16  4.56613105e-41\n",
      "  -2.97573445e+20]\n",
      " [ 1.01220629e-11 -1.99221090e-16  4.56613105e-41 -1.33347338e-16\n",
      "   4.56613105e-41]\n",
      " [ 8.30710481e-23 -1.31257856e+09 -1.50135955e-16  4.56613105e-41\n",
      "  -1.33574555e-16]\n",
      " [ 4.56613105e-41 -9.00473360e-30 -2.40800437e-36 -1.38728538e-16\n",
      "   4.56613105e-41]\n",
      " [-1.33354961e-16  4.56613105e-41 -2.33649039e-21 -2.37831837e-28\n",
      "  -1.50175342e-16]\n",
      " [ 4.56613105e-41 -1.33682975e-16  4.56613105e-41  1.70833980e-09\n",
      "  -3.28665500e+15]\n",
      " [-1.50137013e-16  4.56613105e-41 -1.33686787e-16  4.56613105e-41\n",
      "   9.85222754e+17]\n",
      " [ 1.36948733e-36 -1.38897098e-16  4.56613105e-41 -1.33688692e-16\n",
      "   4.56613105e-41]]\n",
      "axis = 0: [-1.0904389e+37  8.2190667e+37 -1.4525785e+37 -1.0905327e+37\n",
      " -1.0906871e+37]\n",
      "axis = 1: [-3.6187229e+36  3.2281980e-03 -1.8192840e+36 -1.8193068e+36\n",
      " -1.8238749e+36 -1.8193524e+36 -3.6313525e+36 -4.1282511e+26\n",
      " -1.8193981e+36  7.2121264e-15 -1.8194437e+36 -3.6313550e+36\n",
      " -3.6315933e+36 -1.8135821e+36 -3.6312612e+36 -1.8196034e+36\n",
      " -3.6333097e+36 -3.6333833e+36 -3.6281732e+36 -1.8134680e+36\n",
      " -1.8163963e+36 -1.8197175e+36 -1.8197403e+36 -3.6333934e+36\n",
      " -1.8160616e+36  9.3076140e+37 -1.8160692e+36  4.1793235e-02\n",
      " -2.9757345e+20  1.0121730e-11 -1.3125786e+09 -1.3872854e-16\n",
      " -2.8353263e-16 -3.2866550e+15  9.8522275e+17 -2.7258579e-16]\n"
     ]
    }
   ],
   "source": [
    "temp = outputs[2][:]\n",
    "print(temp.shape)\n",
    "print(temp)\n",
    "print('axis = 0: {}'.format(temp.sum(axis=0)))\n",
    "print('axis = 1: {}'.format(temp.sum(axis=1)))\n"
   ]
  },
  {
   "cell_type": "code",
   "execution_count": 22,
   "metadata": {},
   "outputs": [
    {
     "data": {
      "text/plain": [
       "[4, 5, 6, 7, 8, 9, 1, 2, 3]"
      ]
     },
     "execution_count": 22,
     "metadata": {},
     "output_type": "execute_result"
    }
   ],
   "source": [
    "lst = [1,2,3,4,5,6,7,8,9]\n",
    "first = lst[3:]\n",
    "first.extend(lst[:3])\n",
    "first"
   ]
  },
  {
   "cell_type": "code",
   "execution_count": null,
   "metadata": {},
   "outputs": [],
   "source": [
    "onehot = np.array([[1,0,0,0,0,0,0,0,0,0,0,0,0,0,0],\n",
    " [0,0,0,1,0,0,0,0,0,0,0,0,0,0,0],\n",
    " [0,0,0,0,0,0,0,1,0,0,0,0,0,0,0],\n",
    " [0,0,0,0,0,0,0,0,0,0,0,1,0,0,0],\n",
    " [0,0,0,0,0,0,0,0,0,0,0,0,0,0,1]])"
   ]
  },
  {
   "cell_type": "code",
   "execution_count": null,
   "metadata": {},
   "outputs": [],
   "source": [
    "onehot.shape"
   ]
  },
  {
   "cell_type": "code",
   "execution_count": null,
   "metadata": {},
   "outputs": [],
   "source": [
    "onehot_t = onehot.T\n",
    "onehot_t.shape\n",
    "onehot_t"
   ]
  },
  {
   "cell_type": "code",
   "execution_count": null,
   "metadata": {},
   "outputs": [],
   "source": [
    "print(np.argmax(onehot, axis=1))\n",
    "print(np.argmax(onehot_t, axis=0))"
   ]
  },
  {
   "cell_type": "code",
   "execution_count": null,
   "metadata": {},
   "outputs": [],
   "source": [
    "# iterate over the phases j\n",
    "# linspace from i to i+1 from indices\n",
    "temp = onehot_t[:,0].astype(float)\n",
    "i = 0\n",
    "j = 3 + 1\n",
    "temp[i:j] = np.linspace(i,j,j-i)\n",
    "temp"
   ]
  },
  {
   "cell_type": "code",
   "execution_count": null,
   "metadata": {},
   "outputs": [],
   "source": [
    "onehot_t = onehot_t.astype(float)\n",
    "indices = np.argmax(onehot_t, axis=0)\n",
    "for i in range(onehot_t.shape[1]) :\n",
    "    start = indices[i]\n",
    "    # make it a ring\n",
    "    second = (i+1)%len(indices)\n",
    "    end = indices[second]\n",
    "    onehot_t[start:end,i] = np.linspace(1,0,int(end-start))\n",
    "onehot_t\n",
    "             \n",
    "    "
   ]
  },
  {
   "cell_type": "code",
   "execution_count": null,
   "metadata": {},
   "outputs": [],
   "source": [
    "plt.imshow(temp)"
   ]
  },
  {
   "cell_type": "code",
   "execution_count": null,
   "metadata": {},
   "outputs": [],
   "source": [
    "plt.imshow(temp.T)"
   ]
  },
  {
   "cell_type": "code",
   "execution_count": null,
   "metadata": {},
   "outputs": [],
   "source": [
    "%%timeit\n",
    "temp.mean()"
   ]
  },
  {
   "cell_type": "code",
   "execution_count": null,
   "metadata": {},
   "outputs": [],
   "source": [
    "%%timeit\n",
    "np.mean(temp)"
   ]
  },
  {
   "cell_type": "code",
   "execution_count": null,
   "metadata": {},
   "outputs": [],
   "source": [
    "np.linspace(-1,1,10)"
   ]
  },
  {
   "cell_type": "code",
   "execution_count": null,
   "metadata": {},
   "outputs": [],
   "source": []
  }
 ],
 "metadata": {
  "kernelspec": {
   "display_name": "dcmr",
   "language": "python",
   "name": "dcmr"
  },
  "language_info": {
   "codemirror_mode": {
    "name": "ipython",
    "version": 3
   },
   "file_extension": ".py",
   "mimetype": "text/x-python",
   "name": "python",
   "nbconvert_exporter": "python",
   "pygments_lexer": "ipython3",
   "version": "3.8.5"
  },
  "widgets": {
   "application/vnd.jupyter.widget-state+json": {
    "state": {
     "02fdeb5bd80448f58795f84b8685fd9f": {
      "model_module": "@jupyter-widgets/output",
      "model_module_version": "1.0.0",
      "model_name": "OutputModel",
      "state": {
       "layout": "IPY_MODEL_876f6085c122472c841ae9b1daaf4007",
       "outputs": [
        {
         "name": "stderr",
         "output_type": "stream",
         "text": "2021-02-22 20:41:45,767 INFO Preprocessing took: 0.451\n"
        },
        {
         "name": "stdout",
         "output_type": "stream",
         "text": "(4, 36, 8, 64, 64, 1) (4, 36, 5)\nselected batch : 7\n"
        },
        {
         "data": {
          "image/png": "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\n",
          "text/plain": "<Figure size 360x360 with 2 Axes>"
         },
         "metadata": {
          "needs_background": "light"
         },
         "output_type": "display_data"
        }
       ]
      }
     },
     "0dd8c127d39844cea1ee761c37d3fb31": {
      "model_module": "@jupyter-widgets/base",
      "model_module_version": "1.2.0",
      "model_name": "LayoutModel",
      "state": {}
     },
     "1951b65e54794b8c94938ddbae3a13cd": {
      "model_module": "@jupyter-widgets/base",
      "model_module_version": "1.2.0",
      "model_name": "LayoutModel",
      "state": {}
     },
     "26c4f6dcc45d433bab56bf5a40dac59c": {
      "model_module": "@jupyter-widgets/base",
      "model_module_version": "1.2.0",
      "model_name": "LayoutModel",
      "state": {}
     },
     "3881a6d7a2764b63952b33350b6c3a52": {
      "model_module": "@jupyter-widgets/controls",
      "model_module_version": "1.5.0",
      "model_name": "TextModel",
      "state": {
       "description": "filepath",
       "layout": "IPY_MODEL_9900568a77874b0aa1a17d33f29ace32",
       "style": "IPY_MODEL_473f44d6cf15424599e961eb7156c249",
       "value": "data/temp/"
      }
     },
     "40ade24936e54e77a74d43372d1a25cb": {
      "model_module": "@jupyter-widgets/base",
      "model_module_version": "1.2.0",
      "model_name": "LayoutModel",
      "state": {}
     },
     "473f44d6cf15424599e961eb7156c249": {
      "model_module": "@jupyter-widgets/controls",
      "model_module_version": "1.5.0",
      "model_name": "DescriptionStyleModel",
      "state": {
       "description_width": ""
      }
     },
     "4e9c024978094bcbb4f635231284afa9": {
      "model_module": "@jupyter-widgets/controls",
      "model_module_version": "1.5.0",
      "model_name": "DescriptionStyleModel",
      "state": {
       "description_width": ""
      }
     },
     "60fdf9d578f94173a054b1a791578a42": {
      "model_module": "@jupyter-widgets/base",
      "model_module_version": "1.2.0",
      "model_name": "LayoutModel",
      "state": {}
     },
     "6804195f932d4bc59cb5e4d9f96f8dc5": {
      "model_module": "@jupyter-widgets/controls",
      "model_module_version": "1.5.0",
      "model_name": "DescriptionStyleModel",
      "state": {
       "description_width": ""
      }
     },
     "6d94ed36893a463ba45a98d4949f3557": {
      "model_module": "@jupyter-widgets/controls",
      "model_module_version": "1.5.0",
      "model_name": "DescriptionStyleModel",
      "state": {
       "description_width": ""
      }
     },
     "785736bbc9a34a3e8da44349fe02d8a8": {
      "model_module": "@jupyter-widgets/controls",
      "model_module_version": "1.5.0",
      "model_name": "VBoxModel",
      "state": {
       "_dom_classes": [
        "widget-interact"
       ],
       "children": [
        "IPY_MODEL_807a52b643e549e3a3464ffd5f13a1b4",
        "IPY_MODEL_d8bd981e06344bd1abab3aa1481054fc"
       ],
       "layout": "IPY_MODEL_26c4f6dcc45d433bab56bf5a40dac59c"
      }
     },
     "7ad967b422b547ccb4dc93a08a499c82": {
      "model_module": "@jupyter-widgets/controls",
      "model_module_version": "1.5.0",
      "model_name": "IntSliderModel",
      "state": {
       "description": "im",
       "layout": "IPY_MODEL_0dd8c127d39844cea1ee761c37d3fb31",
       "max": 3,
       "style": "IPY_MODEL_825cadf355e94d25adf0ebf163b9c1eb",
       "value": 1
      }
     },
     "807a52b643e549e3a3464ffd5f13a1b4": {
      "model_module": "@jupyter-widgets/controls",
      "model_module_version": "1.5.0",
      "model_name": "TextModel",
      "state": {
       "description": "search_str",
       "layout": "IPY_MODEL_a5ae76e773ab486c8bcf8dcc62235dae",
       "style": "IPY_MODEL_c84c8dae3cb7419496c63fe57db57493"
      }
     },
     "825cadf355e94d25adf0ebf163b9c1eb": {
      "model_module": "@jupyter-widgets/controls",
      "model_module_version": "1.5.0",
      "model_name": "SliderStyleModel",
      "state": {
       "description_width": ""
      }
     },
     "876f6085c122472c841ae9b1daaf4007": {
      "model_module": "@jupyter-widgets/base",
      "model_module_version": "1.2.0",
      "model_name": "LayoutModel",
      "state": {}
     },
     "8ce46d2b8528474a82b5e42dc7bd7d63": {
      "model_module": "@jupyter-widgets/controls",
      "model_module_version": "1.5.0",
      "model_name": "CheckboxModel",
      "state": {
       "description": "save",
       "disabled": false,
       "layout": "IPY_MODEL_1951b65e54794b8c94938ddbae3a13cd",
       "style": "IPY_MODEL_6d94ed36893a463ba45a98d4949f3557",
       "value": false
      }
     },
     "9900568a77874b0aa1a17d33f29ace32": {
      "model_module": "@jupyter-widgets/base",
      "model_module_version": "1.2.0",
      "model_name": "LayoutModel",
      "state": {}
     },
     "9b683832112744f2bdaf725f419d2290": {
      "model_module": "@jupyter-widgets/base",
      "model_module_version": "1.2.0",
      "model_name": "LayoutModel",
      "state": {}
     },
     "a3895eb6cad9417eac5e03b1e8ed9086": {
      "model_module": "@jupyter-widgets/base",
      "model_module_version": "1.2.0",
      "model_name": "LayoutModel",
      "state": {}
     },
     "a523ab0b4fed4006923d252e5485a39c": {
      "model_module": "@jupyter-widgets/base",
      "model_module_version": "1.2.0",
      "model_name": "LayoutModel",
      "state": {}
     },
     "a5ae76e773ab486c8bcf8dcc62235dae": {
      "model_module": "@jupyter-widgets/base",
      "model_module_version": "1.2.0",
      "model_name": "LayoutModel",
      "state": {}
     },
     "abccb306b41a4fcc95073fd34cfe5895": {
      "model_module": "@jupyter-widgets/controls",
      "model_module_version": "1.5.0",
      "model_name": "VBoxModel",
      "state": {
       "_dom_classes": [
        "widget-interact"
       ],
       "children": [
        "IPY_MODEL_f8c0c9c22d2e41329fab4ff913d0de0e",
        "IPY_MODEL_7ad967b422b547ccb4dc93a08a499c82",
        "IPY_MODEL_d7c63515d7a9498daa85c3aa4b1a2245",
        "IPY_MODEL_8ce46d2b8528474a82b5e42dc7bd7d63",
        "IPY_MODEL_3881a6d7a2764b63952b33350b6c3a52",
        "IPY_MODEL_b9dd115105ca425cb0cdcf77772e534e",
        "IPY_MODEL_c3b39658eedb402485d9dda74b858560",
        "IPY_MODEL_e5ebeab2612c4ba185c940e423b24cd8",
        "IPY_MODEL_02fdeb5bd80448f58795f84b8685fd9f"
       ],
       "layout": "IPY_MODEL_a3895eb6cad9417eac5e03b1e8ed9086"
      }
     },
     "b9495fcf6ae14307bac82bd0a624c153": {
      "model_module": "@jupyter-widgets/base",
      "model_module_version": "1.2.0",
      "model_name": "LayoutModel",
      "state": {}
     },
     "b9dd115105ca425cb0cdcf77772e534e": {
      "model_module": "@jupyter-widgets/controls",
      "model_module_version": "1.5.0",
      "model_name": "TextModel",
      "state": {
       "description": "filename",
       "layout": "IPY_MODEL_fac56c05a4024e2f917e48e10cb37fa4",
       "style": "IPY_MODEL_4e9c024978094bcbb4f635231284afa9",
       "value": "temp_x.npy"
      }
     },
     "bf1de4fe59e846a59691311259805e81": {
      "model_module": "@jupyter-widgets/controls",
      "model_module_version": "1.5.0",
      "model_name": "SliderStyleModel",
      "state": {
       "description_width": ""
      }
     },
     "c3b39658eedb402485d9dda74b858560": {
      "model_module": "@jupyter-widgets/controls",
      "model_module_version": "1.5.0",
      "model_name": "CheckboxModel",
      "state": {
       "description": "show_",
       "disabled": false,
       "layout": "IPY_MODEL_9b683832112744f2bdaf725f419d2290",
       "style": "IPY_MODEL_6804195f932d4bc59cb5e4d9f96f8dc5",
       "value": true
      }
     },
     "c84c8dae3cb7419496c63fe57db57493": {
      "model_module": "@jupyter-widgets/controls",
      "model_module_version": "1.5.0",
      "model_name": "DescriptionStyleModel",
      "state": {
       "description_width": ""
      }
     },
     "c9b427e81edb4388845ad374bff2f8f9": {
      "model_module": "@jupyter-widgets/controls",
      "model_module_version": "1.5.0",
      "model_name": "ButtonStyleModel",
      "state": {}
     },
     "d7c63515d7a9498daa85c3aa4b1a2245": {
      "model_module": "@jupyter-widgets/controls",
      "model_module_version": "1.5.0",
      "model_name": "IntSliderModel",
      "state": {
       "description": "slice_n",
       "layout": "IPY_MODEL_b9495fcf6ae14307bac82bd0a624c153",
       "max": 11,
       "min": 1,
       "style": "IPY_MODEL_e6f98d1b4f7d46288691d41c16897cfb",
       "value": 6
      }
     },
     "d8bd981e06344bd1abab3aa1481054fc": {
      "model_module": "@jupyter-widgets/output",
      "model_module_version": "1.0.0",
      "model_name": "OutputModel",
      "state": {
       "layout": "IPY_MODEL_60fdf9d578f94173a054b1a791578a42",
       "outputs": [
        {
         "data": {
          "text/html": "<div>\n<style scoped>\n    .dataframe tbody tr th:only-of-type {\n        vertical-align: middle;\n    }\n\n    .dataframe tbody tr th {\n        vertical-align: top;\n    }\n\n    .dataframe thead th {\n        text-align: right;\n    }\n</style>\n<table border=\"1\" class=\"dataframe\">\n  <thead>\n    <tr style=\"text-align: right;\">\n      <th></th>\n      <th>patient</th>\n      <th>ED#</th>\n      <th>MS#</th>\n      <th>ES#</th>\n      <th>PF#</th>\n      <th>MD#</th>\n    </tr>\n  </thead>\n  <tbody>\n    <tr>\n      <th>0</th>\n      <td>02Z1L14N</td>\n      <td>14</td>\n      <td>3</td>\n      <td>6</td>\n      <td>8</td>\n      <td>12</td>\n    </tr>\n    <tr>\n      <th>1</th>\n      <td>02Z1L14N</td>\n      <td>14</td>\n      <td>3</td>\n      <td>6</td>\n      <td>8</td>\n      <td>12</td>\n    </tr>\n    <tr>\n      <th>2</th>\n      <td>02Z1L14N</td>\n      <td>14</td>\n      <td>3</td>\n      <td>6</td>\n      <td>8</td>\n      <td>12</td>\n    </tr>\n    <tr>\n      <th>3</th>\n      <td>02Z1L14N</td>\n      <td>14</td>\n      <td>3</td>\n      <td>6</td>\n      <td>8</td>\n      <td>12</td>\n    </tr>\n    <tr>\n      <th>4</th>\n      <td>02Z1L14N</td>\n      <td>14</td>\n      <td>3</td>\n      <td>6</td>\n      <td>8</td>\n      <td>12</td>\n    </tr>\n    <tr>\n      <th>...</th>\n      <td>...</td>\n      <td>...</td>\n      <td>...</td>\n      <td>...</td>\n      <td>...</td>\n      <td>...</td>\n    </tr>\n    <tr>\n      <th>1385</th>\n      <td>ZZQ0001Q</td>\n      <td>1</td>\n      <td>5</td>\n      <td>10</td>\n      <td>14</td>\n      <td>19</td>\n    </tr>\n    <tr>\n      <th>1386</th>\n      <td>ZZQ0001Q</td>\n      <td>1</td>\n      <td>5</td>\n      <td>10</td>\n      <td>14</td>\n      <td>19</td>\n    </tr>\n    <tr>\n      <th>1387</th>\n      <td>ZZQ0001Q</td>\n      <td>1</td>\n      <td>5</td>\n      <td>10</td>\n      <td>14</td>\n      <td>19</td>\n    </tr>\n    <tr>\n      <th>1388</th>\n      <td>ZZQ0001Q</td>\n      <td>1</td>\n      <td>5</td>\n      <td>10</td>\n      <td>14</td>\n      <td>19</td>\n    </tr>\n    <tr>\n      <th>1389</th>\n      <td>ZZQ0001Q</td>\n      <td>1</td>\n      <td>5</td>\n      <td>10</td>\n      <td>14</td>\n      <td>19</td>\n    </tr>\n  </tbody>\n</table>\n<p>1390 rows × 6 columns</p>\n</div>",
          "text/plain": "       patient  ED#  MS#  ES#  PF#  MD#\n0     02Z1L14N   14    3    6    8   12\n1     02Z1L14N   14    3    6    8   12\n2     02Z1L14N   14    3    6    8   12\n3     02Z1L14N   14    3    6    8   12\n4     02Z1L14N   14    3    6    8   12\n...        ...  ...  ...  ...  ...  ...\n1385  ZZQ0001Q    1    5   10   14   19\n1386  ZZQ0001Q    1    5   10   14   19\n1387  ZZQ0001Q    1    5   10   14   19\n1388  ZZQ0001Q    1    5   10   14   19\n1389  ZZQ0001Q    1    5   10   14   19\n\n[1390 rows x 6 columns]"
         },
         "metadata": {},
         "output_type": "display_data"
        }
       ]
      }
     },
     "e5ebeab2612c4ba185c940e423b24cd8": {
      "model_module": "@jupyter-widgets/controls",
      "model_module_version": "1.5.0",
      "model_name": "ButtonModel",
      "state": {
       "description": "Run Interact",
       "layout": "IPY_MODEL_a523ab0b4fed4006923d252e5485a39c",
       "style": "IPY_MODEL_c9b427e81edb4388845ad374bff2f8f9"
      }
     },
     "e6f98d1b4f7d46288691d41c16897cfb": {
      "model_module": "@jupyter-widgets/controls",
      "model_module_version": "1.5.0",
      "model_name": "SliderStyleModel",
      "state": {
       "description_width": ""
      }
     },
     "f8c0c9c22d2e41329fab4ff913d0de0e": {
      "model_module": "@jupyter-widgets/controls",
      "model_module_version": "1.5.0",
      "model_name": "IntSliderModel",
      "state": {
       "description": "batch",
       "layout": "IPY_MODEL_40ade24936e54e77a74d43372d1a25cb",
       "max": 14,
       "style": "IPY_MODEL_bf1de4fe59e846a59691311259805e81",
       "value": 7
      }
     },
     "fac56c05a4024e2f917e48e10cb37fa4": {
      "model_module": "@jupyter-widgets/base",
      "model_module_version": "1.2.0",
      "model_name": "LayoutModel",
      "state": {}
     }
    },
    "version_major": 2,
    "version_minor": 0
   }
  }
 },
 "nbformat": 4,
 "nbformat_minor": 4
}
