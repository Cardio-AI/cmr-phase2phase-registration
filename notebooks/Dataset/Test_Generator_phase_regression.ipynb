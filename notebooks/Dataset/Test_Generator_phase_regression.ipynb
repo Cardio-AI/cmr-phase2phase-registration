{
 "cells": [
  {
   "cell_type": "code",
   "execution_count": 1,
   "metadata": {},
   "outputs": [
    {
     "name": "stdout",
     "output_type": "stream",
     "text": [
      "search for root_dir and set working directory\n",
      "Working directory set to: /mnt/ssd/git/dynamic-cmr-models\n",
      "['/gpu:0', '/gpu:1']\n"
     ]
    },
    {
     "name": "stderr",
     "output_type": "stream",
     "text": [
      "2021-02-18 22:18:00,297 INFO -------------------- Start --------------------\n",
      "2021-02-18 22:18:00,298 INFO Working directory: /mnt/ssd/git/dynamic-cmr-models.\n",
      "2021-02-18 22:18:00,298 INFO Log file: ./logs/temp/PhaseRegression_tests_CCE_NOaug.log\n",
      "2021-02-18 22:18:00,298 INFO Log level for console: INFO\n",
      "2021-02-18 22:18:00,299 INFO Is built with tensorflow: True\n",
      "2021-02-18 22:18:00,359 INFO Visible devices:\n",
      "[PhysicalDevice(name='/physical_device:CPU:0', device_type='CPU'), PhysicalDevice(name='/physical_device:XLA_CPU:0', device_type='XLA_CPU'), PhysicalDevice(name='/physical_device:XLA_GPU:0', device_type='XLA_GPU'), PhysicalDevice(name='/physical_device:XLA_GPU:1', device_type='XLA_GPU'), PhysicalDevice(name='/physical_device:GPU:0', device_type='GPU'), PhysicalDevice(name='/physical_device:GPU:1', device_type='GPU')]\n"
     ]
    },
    {
     "name": "stdout",
     "output_type": "stream",
     "text": [
      "{'GPU_IDS': '0,1', 'GPUS': ['/gpu:0', '/gpu:1'], 'SEED': 42, 'EXPERIMENT': 'temp/PhaseRegression_tests_CCE_NOaug', 'MODEL_PATH': 'models/temp/PhaseRegression_tests_CCE_NOaug/2021-02-18_22_18', 'TENSORBOARD_LOG_DIR': 'reports/tensorboard_logs/temp/PhaseRegression_tests_CCE_NOaug/2021-02-18_22_18', 'CONFIG_PATH': 'reports/configs/temp/PhaseRegression_tests_CCE_NOaug/2021-02-18_22_18', 'HISTORY_PATH': 'reports/history/temp/PhaseRegression_tests_CCE_NOaug/2021-02-18_22_18', 'BATCHSIZE': 4, 'GENERATOR_WORKER': 4, 'DIM': [8, 64, 64], 'T_SHAPE': 36, 'SPACING': [10, 3, 3], 'DEPTH': 3, 'FILTERS': 32, 'M_POOL': [1, 2, 2], 'F_SIZE': [3, 3, 3], 'OPTIMIZER': 'adam', 'LEARNING_RATE': 0.0001, 'BN_FIRST': False, 'BATCH_NORMALISATION': True, 'PAD': 'same', 'KERNEL_INIT': 'he_normal', 'ACTIVATION': 'elu', 'DECAY_FACTOR': 0.3, 'MIN_LR': 1e-10, 'BORDER_MODE': 4, 'IMG_INTERPOLATION': 1, 'MSK_INTERPOLATION': 0, 'AUGMENT': False, 'AUGMENT_PROB': 0.8, 'AUGMENT_PHASES': False, 'SHUFFLE': True, 'RESAMPLE': True, 'SCALER': 'MinMax', 'PHASES': 5, 'TARGET_SMOOTHING': True, 'SMOOTHING_KERNEL_SIZE': 12, 'SMOOTHING_LOWER_BORDER': 1, 'SMOOTHING_UPPER_BORDER': 5, 'SMOOTHING_WEIGHT_CORRECT': 10, 'DF_META': '/mnt/ssd/data/gcn/02_imported_4D_unfiltered/SAx_3D_dicomTags_phase'}\n"
     ]
    },
    {
     "name": "stderr",
     "output_type": "stream",
     "text": [
      "2021-02-18 22:18:00,987 INFO Local devices: \n",
      " [name: \"/device:CPU:0\"\n",
      "device_type: \"CPU\"\n",
      "memory_limit: 268435456\n",
      "locality {\n",
      "}\n",
      "incarnation: 11809421341648004114\n",
      ", name: \"/device:XLA_CPU:0\"\n",
      "device_type: \"XLA_CPU\"\n",
      "memory_limit: 17179869184\n",
      "locality {\n",
      "}\n",
      "incarnation: 8990766008465820495\n",
      "physical_device_desc: \"device: XLA_CPU device\"\n",
      ", name: \"/device:XLA_GPU:0\"\n",
      "device_type: \"XLA_GPU\"\n",
      "memory_limit: 17179869184\n",
      "locality {\n",
      "}\n",
      "incarnation: 13322766709361297483\n",
      "physical_device_desc: \"device: XLA_GPU device\"\n",
      ", name: \"/device:XLA_GPU:1\"\n",
      "device_type: \"XLA_GPU\"\n",
      "memory_limit: 17179869184\n",
      "locality {\n",
      "}\n",
      "incarnation: 14548357988455695619\n",
      "physical_device_desc: \"device: XLA_GPU device\"\n",
      ", name: \"/device:GPU:0\"\n",
      "device_type: \"GPU\"\n",
      "memory_limit: 23159039616\n",
      "locality {\n",
      "  bus_id: 1\n",
      "  links {\n",
      "  }\n",
      "}\n",
      "incarnation: 7055655442122434147\n",
      "physical_device_desc: \"device: 0, name: TITAN RTX, pci bus id: 0000:01:00.0, compute capability: 7.5\"\n",
      ", name: \"/device:GPU:1\"\n",
      "device_type: \"GPU\"\n",
      "memory_limit: 23561682304\n",
      "locality {\n",
      "  bus_id: 1\n",
      "  links {\n",
      "  }\n",
      "}\n",
      "incarnation: 10152360276135516352\n",
      "physical_device_desc: \"device: 1, name: TITAN RTX, pci bus id: 0000:02:00.0, compute capability: 7.5\"\n",
      "]\n"
     ]
    }
   ],
   "source": [
    "# ------------------------------------------define logging and working directory\n",
    "from ProjectRoot import change_wd_to_project_root\n",
    "change_wd_to_project_root()\n",
    "from src.utils.Tensorflow_helper import choose_gpu_by_id\n",
    "# ------------------------------------------define GPU id/s to use\n",
    "GPU_IDS = '0,1'\n",
    "GPUS = choose_gpu_by_id(GPU_IDS)\n",
    "print(GPUS)\n",
    "# ------------------------------------------jupyter magic config\n",
    "%matplotlib inline\n",
    "%reload_ext autoreload\n",
    "%autoreload 2\n",
    "# ------------------------------------------ import helpers\n",
    "# this should import glob, os, and many other standard libs\n",
    "from src.utils.Notebook_imports import *\n",
    "from tensorflow.python.client import device_lib\n",
    "import tensorflow as tf\n",
    "tf.get_logger().setLevel('ERROR')\n",
    "# local imports\n",
    "from src.utils.Utils_io import Console_and_file_logger, init_config\n",
    "from src.visualization.Visualize import show_2D_or_3D\n",
    "from src.utils.KerasCallbacks import get_callbacks\n",
    "\n",
    "# import external libs\n",
    "import cv2\n",
    "import pandas as pd\n",
    "\n",
    "EXPERIMENT = 'temp/PhaseRegression_tests_CCE_NOaug'\n",
    "timestemp = str(datetime.datetime.now().strftime(\"%Y-%m-%d_%H_%M\")) # ad a timestep to each project to make repeated experiments unique\n",
    "\n",
    "MODEL_PATH = os.path.join('models', EXPERIMENT, timestemp)\n",
    "TENSORBOARD_LOG_DIR = os.path.join('reports/tensorboard_logs', EXPERIMENT,timestemp)\n",
    "CONFIG_PATH = os.path.join('reports/configs/',EXPERIMENT,timestemp)\n",
    "HISTORY_PATH = os.path.join('reports/history/',EXPERIMENT,timestemp)\n",
    "\n",
    "# General params\n",
    "SEED = 42 # define a seed for the generator shuffle\n",
    "BATCHSIZE = 4 # 32, 64, 24, 16, 1 for 3D use: 4\n",
    "GENERATOR_WORKER = BATCHSIZE # if not set, use batchsize\n",
    "\n",
    "DIM = [8, 64, 64] # network input params for spacing of 3, (z,y,x)\n",
    "T_SHAPE = 36\n",
    "SPACING = [10, 3, 3] # if resample, resample to this spacing, (z,y,x)\n",
    "\n",
    "# Model params\n",
    "DEPTH = 3 # depth of the encoder\n",
    "FILTERS = 32 # initial number of filters, will be doubled after each downsampling block\n",
    "M_POOL = [1, 2, 2]# size of max-pooling used for downsampling and upsampling\n",
    "F_SIZE = [3, 3, 3] # conv filter size\n",
    "OPTIMIZER = 'adam'\n",
    "LEARNING_RATE = 0.0001\n",
    "BN_FIRST = False # decide if batch normalisation between conv and activation or afterwards\n",
    "BATCH_NORMALISATION = True # apply BN or not\n",
    "PAD = 'same' # padding strategy of the conv layers\n",
    "KERNEL_INIT = 'he_normal' # conv weight initialisation\n",
    "OPTIMIZER = 'adam' # Adam, Adagrad, RMSprop, Adadelta,  # https://keras.io/optimizers/\n",
    "ACTIVATION = 'elu' # tf.keras.layers.LeakyReLU(), relu or any other non linear activation function\n",
    "LEARNING_RATE = 1e-4 # start with a huge lr to converge fast\n",
    "DECAY_FACTOR = 0.3 # Define a learning rate decay for the ReduceLROnPlateau callback\n",
    "MIN_LR = 1e-10 # minimal lr, smaller lr does not improve the model\n",
    "DROPOUT_min = 0.3 # lower dropout at the shallow layers\n",
    "DROPOUT_max = 0.5 # higher dropout at the deep layers\n",
    "\n",
    "# Augmentation and Generator params\n",
    "BORDER_MODE = cv2.BORDER_REFLECT_101 # border mode for the data generation\n",
    "IMG_INTERPOLATION = cv2.INTER_LINEAR # image interpolation in the genarator\n",
    "MSK_INTERPOLATION = cv2.INTER_NEAREST # mask interpolation in the generator\n",
    "AUGMENT = False # a compose of 2D augmentation (grid distortion, 90degree rotation, brightness and shift)\n",
    "AUGMENT_PROB = 0.8\n",
    "AUGMENT_PHASES = False\n",
    "SHUFFLE = True\n",
    "RESAMPLE = True\n",
    "SCALER = 'MinMax' # MinMax Standard or Robust\n",
    "# We define 5 target phases and a background phase for the pad/empty volumes \n",
    "PHASES = len(['ED#', 'MS#', 'ES#', 'PF#', 'MD#']) # skipped 'pad backround manually added', due to repeating\n",
    "TARGET_SMOOTHING = True\n",
    "SMOOTHING_KERNEL_SIZE = 12\n",
    "SMOOTHING_LOWER_BORDER = 1\n",
    "SMOOTHING_UPPER_BORDER = 5\n",
    "SMOOTHING_WEIGHT_CORRECT = 10\n",
    "\n",
    "# Data paths\n",
    "DF_META = '/mnt/ssd/data/gcn/02_imported_4D_unfiltered/SAx_3D_dicomTags_phase'\n",
    "\n",
    "\n",
    "\n",
    "Console_and_file_logger(EXPERIMENT, logging.INFO)\n",
    "config = init_config(config=locals(), save=True)\n",
    "print(config)\n",
    "logging.info('Is built with tensorflow: {}'.format(tf.test.is_built_with_cuda()))\n",
    "logging.info('Visible devices:\\n{}'.format(tf.config.list_physical_devices()))\n",
    "logging.info('Local devices: \\n {}'.format(device_lib.list_local_devices()))"
   ]
  },
  {
   "cell_type": "code",
   "execution_count": 2,
   "metadata": {},
   "outputs": [
    {
     "name": "stdout",
     "output_type": "stream",
     "text": [
      "278\n"
     ]
    }
   ],
   "source": [
    "# zip the phase files in the following structure:\n",
    "#[[patient1_phase1, patient1_phase2, patient1_phase3, patient1_phase4, patient1_phase5],[patient2_phase1...] ...]\n",
    "\n",
    "images = sorted(glob.glob('/mnt/ssd/data/gcn/02_imported_4D_unfiltered/SAX/*clean.nrrd'))\n",
    "print(len(images))"
   ]
  },
  {
   "cell_type": "code",
   "execution_count": 3,
   "metadata": {},
   "outputs": [
    {
     "data": {
      "text/plain": [
       "'/mnt/ssd/data/gcn/02_imported_4D_unfiltered/SAX/0000-91GEVV22_1900-01-01_volume_clean.nrrd'"
      ]
     },
     "execution_count": 3,
     "metadata": {},
     "output_type": "execute_result"
    }
   ],
   "source": [
    "images[83]"
   ]
  },
  {
   "cell_type": "code",
   "execution_count": 4,
   "metadata": {},
   "outputs": [],
   "source": [
    "# check if we find each patient in the corresponding dataframe\n",
    "import re\n",
    "METADATA_FILE = config.get('DF_META', '/mnt/ssd/data/gcn/02_imported_4D_unfiltered/SAx_3D_dicomTags_phase')\n",
    "df = pd.read_csv(METADATA_FILE)\n",
    "DF_METADATA = df[['patient', 'ED#', 'MS#', 'ES#', 'PF#', 'MD#']]\n",
    "\n",
    "\n",
    "for x in images:\n",
    "    try:\n",
    "        patient_str = re.search('-(.{8})_', x).group(1).upper()\n",
    "        \n",
    "        assert(len(patient_str) == 8), 'matched patient ID from the phase sheet has a length of: {}'.format(len(patient_str))\n",
    "        # returns the indices in the following order: 'ED#', 'MS#', 'ES#', 'PF#', 'MD#'\n",
    "        # reduce by one, as the indexes start at 0, the excel-sheet at 1\n",
    "        ind = DF_METADATA[DF_METADATA.patient.str.contains(patient_str)][['ED#', 'MS#', 'ES#', 'PF#', 'MD#']]\n",
    "        indices = ind.values[0].astype(int) -1\n",
    "        \n",
    "    except Exception as e:\n",
    "        logging.info(patient_str)\n",
    "        logging.info(ind)\n",
    "        logging.info('indices: \\n{}'.format(indices))"
   ]
  },
  {
   "cell_type": "code",
   "execution_count": 5,
   "metadata": {},
   "outputs": [
    {
     "data": {
      "application/vnd.jupyter.widget-view+json": {
       "model_id": "d9fe7e3e366b463f9a1a8b3122d4eb2f",
       "version_major": 2,
       "version_minor": 0
      },
      "text/plain": [
       "interactive(children=(Text(value='', description='search_str'), Output()), _dom_classes=('widget-interact',))"
      ]
     },
     "metadata": {},
     "output_type": "display_data"
    }
   ],
   "source": [
    "@interact\n",
    "def search_p_in_df(search_str = ''):\n",
    "    return DF_METADATA[DF_METADATA['patient'].str.contains(search_str)]"
   ]
  },
  {
   "cell_type": "code",
   "execution_count": 6,
   "metadata": {},
   "outputs": [
    {
     "name": "stderr",
     "output_type": "stream",
     "text": [
      "2021-02-18 22:18:02,044 INFO Create DataGenerator\n",
      "2021-02-18 22:18:02,046 INFO Datagenerator created with: \n",
      " shape: [8, 64, 64]\n",
      " spacing: [10, 3, 3]\n",
      " batchsize: 4\n",
      " Scaler: MinMax\n",
      " Images: 220 \n",
      " Augment: False \n",
      " Thread workers: 4\n",
      "2021-02-18 22:18:02,046 INFO No augmentation\n",
      "2021-02-18 22:18:02,065 INFO Smoothing kernel: \n",
      "[ 1.   1.8  2.6  3.4  4.2  5.  10.   5.   4.2  3.4  2.6  1.8  1. ]\n",
      "2021-02-18 22:18:02,066 INFO Temporal phase augmentation: False\n",
      "2021-02-18 22:18:02,066 INFO Create DataGenerator\n",
      "2021-02-18 22:18:02,067 INFO Datagenerator created with: \n",
      " shape: [8, 64, 64]\n",
      " spacing: [10, 3, 3]\n",
      " batchsize: 4\n",
      " Scaler: MinMax\n",
      " Images: 58 \n",
      " Augment: False \n",
      " Thread workers: 4\n",
      "2021-02-18 22:18:02,067 INFO No augmentation\n",
      "2021-02-18 22:18:02,081 INFO Smoothing kernel: \n",
      "[ 1.   1.8  2.6  3.4  4.2  5.  10.   5.   4.2  3.4  2.6  1.8  1. ]\n",
      "2021-02-18 22:18:02,082 INFO Temporal phase augmentation: False\n"
     ]
    }
   ],
   "source": [
    "# initialise a generator with these files\n",
    "# logging.getLogger().setLevel(logging.INFO)\n",
    "from src.data.Generators import PhaseRegressionGenerator\n",
    "#config['SHUFFLE'] = False\n",
    "#config['AUGMENT'] = False\n",
    "#config['RESAMPLE'] = True\n",
    "#config['AUGMENT_PHASES'] = False\n",
    "batch_generator = PhaseRegressionGenerator(images[:220], images[:220], config=config)\n",
    "val_config = config.copy()\n",
    "val_config['AUGMENT'] = False\n",
    "val_config['AUGMENT_PHASES'] = False\n",
    "validation_generator = PhaseRegressionGenerator(images[220:], images[220:] , config=val_config)"
   ]
  },
  {
   "cell_type": "code",
   "execution_count": 7,
   "metadata": {},
   "outputs": [
    {
     "data": {
      "application/vnd.jupyter.widget-view+json": {
       "model_id": "dbe5df0d650647a9bd913ad95a0b808a",
       "version_major": 2,
       "version_minor": 0
      },
      "text/plain": [
       "interactive(children=(IntSlider(value=7, description='batch', max=14), IntSlider(value=1, description='im', ma…"
      ]
     },
     "metadata": {},
     "output_type": "display_data"
    }
   ],
   "source": [
    "# visualise one batch\n",
    "@interact_manual\n",
    "def select_image_in_batch(batch = (0,len(validation_generator)-1, 1), \n",
    "                          im = (0,BATCHSIZE- 1, 1), \n",
    "                          slice_n=(1,11), \n",
    "                          save=False, \n",
    "                          filepath='data/temp/', \n",
    "                          filename='temp_x.npy',\n",
    "                         show_=True):\n",
    "    \n",
    "    import time\n",
    "    global inputs, outputs\n",
    "    phases = ['ED', 'MS', 'ES', 'PF', 'MD']\n",
    "    t1 = time.time()\n",
    "    inputs, outputs = validation_generator.__getitem__(batch)\n",
    "    logging.info('Preprocessing took: {:0.3f}'.format(time.time() - t1))\n",
    "    print(inputs.shape, outputs.shape)\n",
    "    print('selected batch : ' + str(batch))\n",
    "    if show_:\n",
    "    \n",
    "        selected_input = inputs[im]\n",
    "        selected_output = outputs[im]\n",
    "\n",
    "        logging.debug('pad: \\n{}'.format(selected_output))\n",
    "        \n",
    "        f, axs = plt.subplots(1,2,figsize=(5,5))\n",
    "        i = 0\n",
    "        temp_y = selected_output\n",
    "        ind_gt = np.argmax(temp_y, axis=0)\n",
    "        axs[0].title.set_text('y')\n",
    "        axs[0].set_yticks(ind_gt, minor=False)\n",
    "        axs[0].set_xticks([0,1,2,3,4], minor=False)\n",
    "        axs[0].set_xticklabels(phases, rotation =45)\n",
    "        axs[0].imshow(temp_y, aspect='auto')\n",
    "        axs[1].hist(selected_input.flatten(), bins=np.linspace(0.1,1,20))\n",
    "        f.tight_layout()\n",
    "        plt.show()\n",
    "        \n",
    "        #list(map(lambda x: show_2D_or_3D(img=x, interpol='bilinear',dpi=100,f_size=(5,5)), selected_input[::slice_n]))\n",
    "\n",
    "        \n",
    "    if save:\n",
    "        ensure_dir(filepath)\n",
    "        np.save(os.path.join(filepath, filename), x[im])\n",
    "        logging.info('saved to {}'.format(os.path.join(filepath, filename)))\n",
    "    \n",
    "\n"
   ]
  },
  {
   "cell_type": "code",
   "execution_count": 8,
   "metadata": {},
   "outputs": [
    {
     "data": {
      "text/plain": [
       "'for b in range(len(validation_generator)-1):\\n    print(b)\\n    for im in range(BATCHSIZE):\\n        select_image_in_batch(batch=b,im=im, slice_n=5, show_=True)'"
      ]
     },
     "execution_count": 8,
     "metadata": {},
     "output_type": "execute_result"
    }
   ],
   "source": [
    "# test if all batches are processable\n",
    "\"\"\"for b in range(len(validation_generator)-1):\n",
    "    print(b)\n",
    "    for im in range(BATCHSIZE):\n",
    "        select_image_in_batch(batch=b,im=im, slice_n=5, show_=True)\"\"\""
   ]
  },
  {
   "cell_type": "code",
   "execution_count": 60,
   "metadata": {},
   "outputs": [
    {
     "name": "stdout",
     "output_type": "stream",
     "text": [
      "(None, 8, 8, 8, 256)\n",
      "(None, 256)\n",
      "(None, 36, 256)\n",
      "(None, 8, 8, 8, 256)\n",
      "(None, 256)\n",
      "(None, 36, 256)\n",
      "gap elem 0\n",
      "(36, 512)\n",
      "conv1d 32, 1, 1\n",
      "(None, 36, 256)\n",
      "conv1d 32 3,1\n",
      "(None, 36, 50)\n",
      "(None, 36, 5)\n"
     ]
    }
   ],
   "source": [
    "from src.models.Models import create_PhaseRegressionModel\n",
    "model = create_PhaseRegressionModel(config)"
   ]
  },
  {
   "cell_type": "code",
   "execution_count": 51,
   "metadata": {
    "collapsed": true,
    "jupyter": {
     "outputs_hidden": true
    }
   },
   "outputs": [
    {
     "name": "stdout",
     "output_type": "stream",
     "text": [
      "Model: \"PhaseRegressionModel\"\n",
      "______________________________________________________________________________________________________________________________________________________\n",
      "Layer (type)                                     Output Shape                     Param #           Connected to                                      \n",
      "======================================================================================================================================================\n",
      "input_8 (InputLayer)                             [(None, 36, 8, 64, 64, 1)]       0                                                                   \n",
      "______________________________________________________________________________________________________________________________________________________\n",
      "tf_op_layer_unstack_22 (TensorFlowOpLayer)       [(None, 36, 64, 64, 1), (None, 3 0                 input_8[0][0]                                     \n",
      "______________________________________________________________________________________________________________________________________________________\n",
      "conv_encoder_15 (ConvEncoder)                    ((None, 36, 8, 8, 256), [(None,  3516960           tf_op_layer_unstack_22[0][0]                      \n",
      "                                                                                                    tf_op_layer_unstack_22[0][1]                      \n",
      "                                                                                                    tf_op_layer_unstack_22[0][2]                      \n",
      "                                                                                                    tf_op_layer_unstack_22[0][3]                      \n",
      "                                                                                                    tf_op_layer_unstack_22[0][4]                      \n",
      "                                                                                                    tf_op_layer_unstack_22[0][5]                      \n",
      "                                                                                                    tf_op_layer_unstack_22[0][6]                      \n",
      "                                                                                                    tf_op_layer_unstack_22[0][7]                      \n",
      "______________________________________________________________________________________________________________________________________________________\n",
      "tf_op_layer_unstack_21 (TensorFlowOpLayer)       [(None, 8, 64, 64, 1), (None, 8, 0                 input_8[0][0]                                     \n",
      "______________________________________________________________________________________________________________________________________________________\n",
      "tf_op_layer_stack_22 (TensorFlowOpLayer)         [(None, 36, 8, 8, 8, 256)]       0                 conv_encoder_15[0][0]                             \n",
      "                                                                                                    conv_encoder_15[1][0]                             \n",
      "                                                                                                    conv_encoder_15[2][0]                             \n",
      "                                                                                                    conv_encoder_15[3][0]                             \n",
      "                                                                                                    conv_encoder_15[4][0]                             \n",
      "                                                                                                    conv_encoder_15[5][0]                             \n",
      "                                                                                                    conv_encoder_15[6][0]                             \n",
      "                                                                                                    conv_encoder_15[7][0]                             \n",
      "______________________________________________________________________________________________________________________________________________________\n",
      "conv_encoder_14 (ConvEncoder)                    ((None, 8, 8, 8, 256), [(None, 8 3516960           tf_op_layer_unstack_21[0][0]                      \n",
      "                                                                                                    tf_op_layer_unstack_21[0][1]                      \n",
      "                                                                                                    tf_op_layer_unstack_21[0][2]                      \n",
      "                                                                                                    tf_op_layer_unstack_21[0][3]                      \n",
      "                                                                                                    tf_op_layer_unstack_21[0][4]                      \n",
      "                                                                                                    tf_op_layer_unstack_21[0][5]                      \n",
      "                                                                                                    tf_op_layer_unstack_21[0][6]                      \n",
      "                                                                                                    tf_op_layer_unstack_21[0][7]                      \n",
      "                                                                                                    tf_op_layer_unstack_21[0][8]                      \n",
      "                                                                                                    tf_op_layer_unstack_21[0][9]                      \n",
      "                                                                                                    tf_op_layer_unstack_21[0][10]                     \n",
      "                                                                                                    tf_op_layer_unstack_21[0][11]                     \n",
      "                                                                                                    tf_op_layer_unstack_21[0][12]                     \n",
      "                                                                                                    tf_op_layer_unstack_21[0][13]                     \n",
      "                                                                                                    tf_op_layer_unstack_21[0][14]                     \n",
      "                                                                                                    tf_op_layer_unstack_21[0][15]                     \n",
      "                                                                                                    tf_op_layer_unstack_21[0][16]                     \n",
      "                                                                                                    tf_op_layer_unstack_21[0][17]                     \n",
      "                                                                                                    tf_op_layer_unstack_21[0][18]                     \n",
      "                                                                                                    tf_op_layer_unstack_21[0][19]                     \n",
      "                                                                                                    tf_op_layer_unstack_21[0][20]                     \n",
      "                                                                                                    tf_op_layer_unstack_21[0][21]                     \n",
      "                                                                                                    tf_op_layer_unstack_21[0][22]                     \n",
      "                                                                                                    tf_op_layer_unstack_21[0][23]                     \n",
      "                                                                                                    tf_op_layer_unstack_21[0][24]                     \n",
      "                                                                                                    tf_op_layer_unstack_21[0][25]                     \n",
      "                                                                                                    tf_op_layer_unstack_21[0][26]                     \n",
      "                                                                                                    tf_op_layer_unstack_21[0][27]                     \n",
      "                                                                                                    tf_op_layer_unstack_21[0][28]                     \n",
      "                                                                                                    tf_op_layer_unstack_21[0][29]                     \n",
      "                                                                                                    tf_op_layer_unstack_21[0][30]                     \n",
      "                                                                                                    tf_op_layer_unstack_21[0][31]                     \n",
      "                                                                                                    tf_op_layer_unstack_21[0][32]                     \n",
      "                                                                                                    tf_op_layer_unstack_21[0][33]                     \n",
      "                                                                                                    tf_op_layer_unstack_21[0][34]                     \n",
      "                                                                                                    tf_op_layer_unstack_21[0][35]                     \n",
      "______________________________________________________________________________________________________________________________________________________\n",
      "tf_op_layer_unstack_23 (TensorFlowOpLayer)       [(None, 8, 8, 8, 256), (None, 8, 0                 tf_op_layer_stack_22[0][0]                        \n",
      "______________________________________________________________________________________________________________________________________________________\n",
      "global_average_pooling3d_7 (GlobalAveragePooling (None, 256)                      0                 conv_encoder_14[0][0]                             \n",
      "                                                                                                    conv_encoder_14[1][0]                             \n",
      "                                                                                                    conv_encoder_14[2][0]                             \n",
      "                                                                                                    conv_encoder_14[3][0]                             \n",
      "                                                                                                    conv_encoder_14[4][0]                             \n",
      "                                                                                                    conv_encoder_14[5][0]                             \n",
      "                                                                                                    conv_encoder_14[6][0]                             \n",
      "                                                                                                    conv_encoder_14[7][0]                             \n",
      "                                                                                                    conv_encoder_14[8][0]                             \n",
      "                                                                                                    conv_encoder_14[9][0]                             \n",
      "                                                                                                    conv_encoder_14[10][0]                            \n",
      "                                                                                                    conv_encoder_14[11][0]                            \n",
      "                                                                                                    conv_encoder_14[12][0]                            \n",
      "                                                                                                    conv_encoder_14[13][0]                            \n",
      "                                                                                                    conv_encoder_14[14][0]                            \n",
      "                                                                                                    conv_encoder_14[15][0]                            \n",
      "                                                                                                    conv_encoder_14[16][0]                            \n",
      "                                                                                                    conv_encoder_14[17][0]                            \n",
      "                                                                                                    conv_encoder_14[18][0]                            \n",
      "                                                                                                    conv_encoder_14[19][0]                            \n",
      "                                                                                                    conv_encoder_14[20][0]                            \n",
      "                                                                                                    conv_encoder_14[21][0]                            \n",
      "                                                                                                    conv_encoder_14[22][0]                            \n",
      "                                                                                                    conv_encoder_14[23][0]                            \n",
      "                                                                                                    conv_encoder_14[24][0]                            \n",
      "                                                                                                    conv_encoder_14[25][0]                            \n",
      "                                                                                                    conv_encoder_14[26][0]                            \n",
      "                                                                                                    conv_encoder_14[27][0]                            \n",
      "                                                                                                    conv_encoder_14[28][0]                            \n",
      "                                                                                                    conv_encoder_14[29][0]                            \n",
      "                                                                                                    conv_encoder_14[30][0]                            \n",
      "                                                                                                    conv_encoder_14[31][0]                            \n",
      "                                                                                                    conv_encoder_14[32][0]                            \n",
      "                                                                                                    conv_encoder_14[33][0]                            \n",
      "                                                                                                    conv_encoder_14[34][0]                            \n",
      "                                                                                                    conv_encoder_14[35][0]                            \n",
      "                                                                                                    tf_op_layer_unstack_23[0][0]                      \n",
      "                                                                                                    tf_op_layer_unstack_23[0][1]                      \n",
      "                                                                                                    tf_op_layer_unstack_23[0][2]                      \n",
      "                                                                                                    tf_op_layer_unstack_23[0][3]                      \n",
      "                                                                                                    tf_op_layer_unstack_23[0][4]                      \n",
      "                                                                                                    tf_op_layer_unstack_23[0][5]                      \n",
      "                                                                                                    tf_op_layer_unstack_23[0][6]                      \n",
      "                                                                                                    tf_op_layer_unstack_23[0][7]                      \n",
      "                                                                                                    tf_op_layer_unstack_23[0][8]                      \n",
      "                                                                                                    tf_op_layer_unstack_23[0][9]                      \n",
      "                                                                                                    tf_op_layer_unstack_23[0][10]                     \n",
      "                                                                                                    tf_op_layer_unstack_23[0][11]                     \n",
      "                                                                                                    tf_op_layer_unstack_23[0][12]                     \n",
      "                                                                                                    tf_op_layer_unstack_23[0][13]                     \n",
      "                                                                                                    tf_op_layer_unstack_23[0][14]                     \n",
      "                                                                                                    tf_op_layer_unstack_23[0][15]                     \n",
      "                                                                                                    tf_op_layer_unstack_23[0][16]                     \n",
      "                                                                                                    tf_op_layer_unstack_23[0][17]                     \n",
      "                                                                                                    tf_op_layer_unstack_23[0][18]                     \n",
      "                                                                                                    tf_op_layer_unstack_23[0][19]                     \n",
      "                                                                                                    tf_op_layer_unstack_23[0][20]                     \n",
      "                                                                                                    tf_op_layer_unstack_23[0][21]                     \n",
      "                                                                                                    tf_op_layer_unstack_23[0][22]                     \n",
      "                                                                                                    tf_op_layer_unstack_23[0][23]                     \n",
      "                                                                                                    tf_op_layer_unstack_23[0][24]                     \n",
      "                                                                                                    tf_op_layer_unstack_23[0][25]                     \n",
      "                                                                                                    tf_op_layer_unstack_23[0][26]                     \n",
      "                                                                                                    tf_op_layer_unstack_23[0][27]                     \n",
      "                                                                                                    tf_op_layer_unstack_23[0][28]                     \n",
      "                                                                                                    tf_op_layer_unstack_23[0][29]                     \n",
      "                                                                                                    tf_op_layer_unstack_23[0][30]                     \n",
      "                                                                                                    tf_op_layer_unstack_23[0][31]                     \n",
      "                                                                                                    tf_op_layer_unstack_23[0][32]                     \n",
      "                                                                                                    tf_op_layer_unstack_23[0][33]                     \n",
      "                                                                                                    tf_op_layer_unstack_23[0][34]                     \n",
      "                                                                                                    tf_op_layer_unstack_23[0][35]                     \n",
      "______________________________________________________________________________________________________________________________________________________\n",
      "tf_op_layer_stack_21 (TensorFlowOpLayer)         [(None, 36, 256)]                0                 global_average_pooling3d_7[0][0]                  \n",
      "                                                                                                    global_average_pooling3d_7[1][0]                  \n",
      "                                                                                                    global_average_pooling3d_7[2][0]                  \n",
      "                                                                                                    global_average_pooling3d_7[3][0]                  \n",
      "                                                                                                    global_average_pooling3d_7[4][0]                  \n",
      "                                                                                                    global_average_pooling3d_7[5][0]                  \n",
      "                                                                                                    global_average_pooling3d_7[6][0]                  \n",
      "                                                                                                    global_average_pooling3d_7[7][0]                  \n",
      "                                                                                                    global_average_pooling3d_7[8][0]                  \n",
      "                                                                                                    global_average_pooling3d_7[9][0]                  \n",
      "                                                                                                    global_average_pooling3d_7[10][0]                 \n",
      "                                                                                                    global_average_pooling3d_7[11][0]                 \n",
      "                                                                                                    global_average_pooling3d_7[12][0]                 \n",
      "                                                                                                    global_average_pooling3d_7[13][0]                 \n",
      "                                                                                                    global_average_pooling3d_7[14][0]                 \n",
      "                                                                                                    global_average_pooling3d_7[15][0]                 \n",
      "                                                                                                    global_average_pooling3d_7[16][0]                 \n",
      "                                                                                                    global_average_pooling3d_7[17][0]                 \n",
      "                                                                                                    global_average_pooling3d_7[18][0]                 \n",
      "                                                                                                    global_average_pooling3d_7[19][0]                 \n",
      "                                                                                                    global_average_pooling3d_7[20][0]                 \n",
      "                                                                                                    global_average_pooling3d_7[21][0]                 \n",
      "                                                                                                    global_average_pooling3d_7[22][0]                 \n",
      "                                                                                                    global_average_pooling3d_7[23][0]                 \n",
      "                                                                                                    global_average_pooling3d_7[24][0]                 \n",
      "                                                                                                    global_average_pooling3d_7[25][0]                 \n",
      "                                                                                                    global_average_pooling3d_7[26][0]                 \n",
      "                                                                                                    global_average_pooling3d_7[27][0]                 \n",
      "                                                                                                    global_average_pooling3d_7[28][0]                 \n",
      "                                                                                                    global_average_pooling3d_7[29][0]                 \n",
      "                                                                                                    global_average_pooling3d_7[30][0]                 \n",
      "                                                                                                    global_average_pooling3d_7[31][0]                 \n",
      "                                                                                                    global_average_pooling3d_7[32][0]                 \n",
      "                                                                                                    global_average_pooling3d_7[33][0]                 \n",
      "                                                                                                    global_average_pooling3d_7[34][0]                 \n",
      "                                                                                                    global_average_pooling3d_7[35][0]                 \n",
      "______________________________________________________________________________________________________________________________________________________\n",
      "tf_op_layer_stack_23 (TensorFlowOpLayer)         [(None, 36, 256)]                0                 global_average_pooling3d_7[36][0]                 \n",
      "                                                                                                    global_average_pooling3d_7[37][0]                 \n",
      "                                                                                                    global_average_pooling3d_7[38][0]                 \n",
      "                                                                                                    global_average_pooling3d_7[39][0]                 \n",
      "                                                                                                    global_average_pooling3d_7[40][0]                 \n",
      "                                                                                                    global_average_pooling3d_7[41][0]                 \n",
      "                                                                                                    global_average_pooling3d_7[42][0]                 \n",
      "                                                                                                    global_average_pooling3d_7[43][0]                 \n",
      "                                                                                                    global_average_pooling3d_7[44][0]                 \n",
      "                                                                                                    global_average_pooling3d_7[45][0]                 \n",
      "                                                                                                    global_average_pooling3d_7[46][0]                 \n",
      "                                                                                                    global_average_pooling3d_7[47][0]                 \n",
      "                                                                                                    global_average_pooling3d_7[48][0]                 \n",
      "                                                                                                    global_average_pooling3d_7[49][0]                 \n",
      "                                                                                                    global_average_pooling3d_7[50][0]                 \n",
      "                                                                                                    global_average_pooling3d_7[51][0]                 \n",
      "                                                                                                    global_average_pooling3d_7[52][0]                 \n",
      "                                                                                                    global_average_pooling3d_7[53][0]                 \n",
      "                                                                                                    global_average_pooling3d_7[54][0]                 \n",
      "                                                                                                    global_average_pooling3d_7[55][0]                 \n",
      "                                                                                                    global_average_pooling3d_7[56][0]                 \n",
      "                                                                                                    global_average_pooling3d_7[57][0]                 \n",
      "                                                                                                    global_average_pooling3d_7[58][0]                 \n",
      "                                                                                                    global_average_pooling3d_7[59][0]                 \n",
      "                                                                                                    global_average_pooling3d_7[60][0]                 \n",
      "                                                                                                    global_average_pooling3d_7[61][0]                 \n",
      "                                                                                                    global_average_pooling3d_7[62][0]                 \n",
      "                                                                                                    global_average_pooling3d_7[63][0]                 \n",
      "                                                                                                    global_average_pooling3d_7[64][0]                 \n",
      "                                                                                                    global_average_pooling3d_7[65][0]                 \n",
      "                                                                                                    global_average_pooling3d_7[66][0]                 \n",
      "                                                                                                    global_average_pooling3d_7[67][0]                 \n",
      "                                                                                                    global_average_pooling3d_7[68][0]                 \n",
      "                                                                                                    global_average_pooling3d_7[69][0]                 \n",
      "                                                                                                    global_average_pooling3d_7[70][0]                 \n",
      "                                                                                                    global_average_pooling3d_7[71][0]                 \n",
      "______________________________________________________________________________________________________________________________________________________\n",
      "concatenate_7 (Concatenate)                      (None, 36, 512)                  0                 tf_op_layer_stack_21[0][0]                        \n",
      "                                                                                                    tf_op_layer_stack_23[0][0]                        \n",
      "______________________________________________________________________________________________________________________________________________________\n",
      "conv1d_21 (Conv1D)                               (None, 36, 256)                  655616            concatenate_7[0][0]                               \n",
      "______________________________________________________________________________________________________________________________________________________\n",
      "batch_normalization_135 (BatchNormalization)     (None, 36, 256)                  1024              conv1d_21[0][0]                                   \n",
      "______________________________________________________________________________________________________________________________________________________\n",
      "dropout_71 (Dropout)                             (None, 36, 256)                  0                 batch_normalization_135[0][0]                     \n",
      "______________________________________________________________________________________________________________________________________________________\n",
      "conv1d_22 (Conv1D)                               (None, 36, 50)                   64050             dropout_71[0][0]                                  \n",
      "______________________________________________________________________________________________________________________________________________________\n",
      "conv1d_23 (Conv1D)                               (None, 36, 5)                    755               conv1d_22[0][0]                                   \n",
      "======================================================================================================================================================\n",
      "Total params: 7,755,365\n",
      "Trainable params: 7,751,013\n",
      "Non-trainable params: 4,352\n",
      "______________________________________________________________________________________________________________________________________________________\n"
     ]
    }
   ],
   "source": [
    "model.summary(line_length=150)"
   ]
  },
  {
   "cell_type": "code",
   "execution_count": 61,
   "metadata": {},
   "outputs": [
    {
     "name": "stdout",
     "output_type": "stream",
     "text": [
      "Epoch 1/200\n"
     ]
    },
    {
     "ename": "OperatorNotAllowedInGraphError",
     "evalue": "in user code:\n\n    /home/sven/anaconda3/envs/dcmr/lib/python3.8/site-packages/tensorflow/python/keras/engine/training.py:806 train_function  *\n        return step_function(self, iterator)\n    /mnt/ssd/git/dynamic-cmr-models/src/utils/Metrics.py:79 meandiff  *\n        diffs = np.stack([np.stack(get_min_dist_for_list(gt_idx[i],pred_idx[i])) for i in range(4)])\n    /mnt/ssd/git/dynamic-cmr-models/src/utils/Metrics.py:93 get_min_dist_for_list  *\n        length = max(max(lst_a), max(lst_b)) + 1\n    /home/sven/anaconda3/envs/dcmr/lib/python3.8/site-packages/tensorflow/python/framework/ops.py:503 __iter__  **\n        self._disallow_iteration()\n    /home/sven/anaconda3/envs/dcmr/lib/python3.8/site-packages/tensorflow/python/framework/ops.py:496 _disallow_iteration\n        self._disallow_when_autograph_enabled(\"iterating over `tf.Tensor`\")\n    /home/sven/anaconda3/envs/dcmr/lib/python3.8/site-packages/tensorflow/python/framework/ops.py:472 _disallow_when_autograph_enabled\n        raise errors.OperatorNotAllowedInGraphError(\n\n    OperatorNotAllowedInGraphError: iterating over `tf.Tensor` is not allowed: AutoGraph did convert this function. This might indicate you are trying to use an unsupported feature.\n",
     "output_type": "error",
     "traceback": [
      "\u001b[0;31m---------------------------------------------------------------------------\u001b[0m",
      "\u001b[0;31mOperatorNotAllowedInGraphError\u001b[0m            Traceback (most recent call last)",
      "\u001b[0;32m<ipython-input-61-8dfec7c3021a>\u001b[0m in \u001b[0;36m<module>\u001b[0;34m\u001b[0m\n\u001b[1;32m      1\u001b[0m \u001b[0minitial_epoch\u001b[0m \u001b[0;34m=\u001b[0m \u001b[0;36m0\u001b[0m\u001b[0;34m\u001b[0m\u001b[0;34m\u001b[0m\u001b[0m\n\u001b[1;32m      2\u001b[0m \u001b[0;34m\u001b[0m\u001b[0m\n\u001b[0;32m----> 3\u001b[0;31m results = model.fit(\n\u001b[0m\u001b[1;32m      4\u001b[0m     \u001b[0mx\u001b[0m\u001b[0;34m=\u001b[0m\u001b[0mbatch_generator\u001b[0m\u001b[0;34m,\u001b[0m\u001b[0;34m\u001b[0m\u001b[0;34m\u001b[0m\u001b[0m\n\u001b[1;32m      5\u001b[0m     \u001b[0mvalidation_data\u001b[0m\u001b[0;34m=\u001b[0m\u001b[0mvalidation_generator\u001b[0m\u001b[0;34m,\u001b[0m\u001b[0;34m\u001b[0m\u001b[0;34m\u001b[0m\u001b[0m\n",
      "\u001b[0;32m~/anaconda3/envs/dcmr/lib/python3.8/site-packages/tensorflow/python/keras/engine/training.py\u001b[0m in \u001b[0;36m_method_wrapper\u001b[0;34m(self, *args, **kwargs)\u001b[0m\n\u001b[1;32m    106\u001b[0m   \u001b[0;32mdef\u001b[0m \u001b[0m_method_wrapper\u001b[0m\u001b[0;34m(\u001b[0m\u001b[0mself\u001b[0m\u001b[0;34m,\u001b[0m \u001b[0;34m*\u001b[0m\u001b[0margs\u001b[0m\u001b[0;34m,\u001b[0m \u001b[0;34m**\u001b[0m\u001b[0mkwargs\u001b[0m\u001b[0;34m)\u001b[0m\u001b[0;34m:\u001b[0m\u001b[0;34m\u001b[0m\u001b[0;34m\u001b[0m\u001b[0m\n\u001b[1;32m    107\u001b[0m     \u001b[0;32mif\u001b[0m \u001b[0;32mnot\u001b[0m \u001b[0mself\u001b[0m\u001b[0;34m.\u001b[0m\u001b[0m_in_multi_worker_mode\u001b[0m\u001b[0;34m(\u001b[0m\u001b[0;34m)\u001b[0m\u001b[0;34m:\u001b[0m  \u001b[0;31m# pylint: disable=protected-access\u001b[0m\u001b[0;34m\u001b[0m\u001b[0;34m\u001b[0m\u001b[0m\n\u001b[0;32m--> 108\u001b[0;31m       \u001b[0;32mreturn\u001b[0m \u001b[0mmethod\u001b[0m\u001b[0;34m(\u001b[0m\u001b[0mself\u001b[0m\u001b[0;34m,\u001b[0m \u001b[0;34m*\u001b[0m\u001b[0margs\u001b[0m\u001b[0;34m,\u001b[0m \u001b[0;34m**\u001b[0m\u001b[0mkwargs\u001b[0m\u001b[0;34m)\u001b[0m\u001b[0;34m\u001b[0m\u001b[0;34m\u001b[0m\u001b[0m\n\u001b[0m\u001b[1;32m    109\u001b[0m \u001b[0;34m\u001b[0m\u001b[0m\n\u001b[1;32m    110\u001b[0m     \u001b[0;31m# Running inside `run_distribute_coordinator` already.\u001b[0m\u001b[0;34m\u001b[0m\u001b[0;34m\u001b[0m\u001b[0;34m\u001b[0m\u001b[0m\n",
      "\u001b[0;32m~/anaconda3/envs/dcmr/lib/python3.8/site-packages/tensorflow/python/keras/engine/training.py\u001b[0m in \u001b[0;36mfit\u001b[0;34m(self, x, y, batch_size, epochs, verbose, callbacks, validation_split, validation_data, shuffle, class_weight, sample_weight, initial_epoch, steps_per_epoch, validation_steps, validation_batch_size, validation_freq, max_queue_size, workers, use_multiprocessing)\u001b[0m\n\u001b[1;32m   1096\u001b[0m                 batch_size=batch_size):\n\u001b[1;32m   1097\u001b[0m               \u001b[0mcallbacks\u001b[0m\u001b[0;34m.\u001b[0m\u001b[0mon_train_batch_begin\u001b[0m\u001b[0;34m(\u001b[0m\u001b[0mstep\u001b[0m\u001b[0;34m)\u001b[0m\u001b[0;34m\u001b[0m\u001b[0;34m\u001b[0m\u001b[0m\n\u001b[0;32m-> 1098\u001b[0;31m               \u001b[0mtmp_logs\u001b[0m \u001b[0;34m=\u001b[0m \u001b[0mtrain_function\u001b[0m\u001b[0;34m(\u001b[0m\u001b[0miterator\u001b[0m\u001b[0;34m)\u001b[0m\u001b[0;34m\u001b[0m\u001b[0;34m\u001b[0m\u001b[0m\n\u001b[0m\u001b[1;32m   1099\u001b[0m               \u001b[0;32mif\u001b[0m \u001b[0mdata_handler\u001b[0m\u001b[0;34m.\u001b[0m\u001b[0mshould_sync\u001b[0m\u001b[0;34m:\u001b[0m\u001b[0;34m\u001b[0m\u001b[0;34m\u001b[0m\u001b[0m\n\u001b[1;32m   1100\u001b[0m                 \u001b[0mcontext\u001b[0m\u001b[0;34m.\u001b[0m\u001b[0masync_wait\u001b[0m\u001b[0;34m(\u001b[0m\u001b[0;34m)\u001b[0m\u001b[0;34m\u001b[0m\u001b[0;34m\u001b[0m\u001b[0m\n",
      "\u001b[0;32m~/anaconda3/envs/dcmr/lib/python3.8/site-packages/tensorflow/python/eager/def_function.py\u001b[0m in \u001b[0;36m__call__\u001b[0;34m(self, *args, **kwds)\u001b[0m\n\u001b[1;32m    778\u001b[0m       \u001b[0;32melse\u001b[0m\u001b[0;34m:\u001b[0m\u001b[0;34m\u001b[0m\u001b[0;34m\u001b[0m\u001b[0m\n\u001b[1;32m    779\u001b[0m         \u001b[0mcompiler\u001b[0m \u001b[0;34m=\u001b[0m \u001b[0;34m\"nonXla\"\u001b[0m\u001b[0;34m\u001b[0m\u001b[0;34m\u001b[0m\u001b[0m\n\u001b[0;32m--> 780\u001b[0;31m         \u001b[0mresult\u001b[0m \u001b[0;34m=\u001b[0m \u001b[0mself\u001b[0m\u001b[0;34m.\u001b[0m\u001b[0m_call\u001b[0m\u001b[0;34m(\u001b[0m\u001b[0;34m*\u001b[0m\u001b[0margs\u001b[0m\u001b[0;34m,\u001b[0m \u001b[0;34m**\u001b[0m\u001b[0mkwds\u001b[0m\u001b[0;34m)\u001b[0m\u001b[0;34m\u001b[0m\u001b[0;34m\u001b[0m\u001b[0m\n\u001b[0m\u001b[1;32m    781\u001b[0m \u001b[0;34m\u001b[0m\u001b[0m\n\u001b[1;32m    782\u001b[0m       \u001b[0mnew_tracing_count\u001b[0m \u001b[0;34m=\u001b[0m \u001b[0mself\u001b[0m\u001b[0;34m.\u001b[0m\u001b[0m_get_tracing_count\u001b[0m\u001b[0;34m(\u001b[0m\u001b[0;34m)\u001b[0m\u001b[0;34m\u001b[0m\u001b[0;34m\u001b[0m\u001b[0m\n",
      "\u001b[0;32m~/anaconda3/envs/dcmr/lib/python3.8/site-packages/tensorflow/python/eager/def_function.py\u001b[0m in \u001b[0;36m_call\u001b[0;34m(self, *args, **kwds)\u001b[0m\n\u001b[1;32m    821\u001b[0m       \u001b[0;31m# This is the first call of __call__, so we have to initialize.\u001b[0m\u001b[0;34m\u001b[0m\u001b[0;34m\u001b[0m\u001b[0;34m\u001b[0m\u001b[0m\n\u001b[1;32m    822\u001b[0m       \u001b[0minitializers\u001b[0m \u001b[0;34m=\u001b[0m \u001b[0;34m[\u001b[0m\u001b[0;34m]\u001b[0m\u001b[0;34m\u001b[0m\u001b[0;34m\u001b[0m\u001b[0m\n\u001b[0;32m--> 823\u001b[0;31m       \u001b[0mself\u001b[0m\u001b[0;34m.\u001b[0m\u001b[0m_initialize\u001b[0m\u001b[0;34m(\u001b[0m\u001b[0margs\u001b[0m\u001b[0;34m,\u001b[0m \u001b[0mkwds\u001b[0m\u001b[0;34m,\u001b[0m \u001b[0madd_initializers_to\u001b[0m\u001b[0;34m=\u001b[0m\u001b[0minitializers\u001b[0m\u001b[0;34m)\u001b[0m\u001b[0;34m\u001b[0m\u001b[0;34m\u001b[0m\u001b[0m\n\u001b[0m\u001b[1;32m    824\u001b[0m     \u001b[0;32mfinally\u001b[0m\u001b[0;34m:\u001b[0m\u001b[0;34m\u001b[0m\u001b[0;34m\u001b[0m\u001b[0m\n\u001b[1;32m    825\u001b[0m       \u001b[0;31m# At this point we know that the initialization is complete (or less\u001b[0m\u001b[0;34m\u001b[0m\u001b[0;34m\u001b[0m\u001b[0;34m\u001b[0m\u001b[0m\n",
      "\u001b[0;32m~/anaconda3/envs/dcmr/lib/python3.8/site-packages/tensorflow/python/eager/def_function.py\u001b[0m in \u001b[0;36m_initialize\u001b[0;34m(self, args, kwds, add_initializers_to)\u001b[0m\n\u001b[1;32m    694\u001b[0m     \u001b[0mself\u001b[0m\u001b[0;34m.\u001b[0m\u001b[0m_graph_deleter\u001b[0m \u001b[0;34m=\u001b[0m \u001b[0mFunctionDeleter\u001b[0m\u001b[0;34m(\u001b[0m\u001b[0mself\u001b[0m\u001b[0;34m.\u001b[0m\u001b[0m_lifted_initializer_graph\u001b[0m\u001b[0;34m)\u001b[0m\u001b[0;34m\u001b[0m\u001b[0;34m\u001b[0m\u001b[0m\n\u001b[1;32m    695\u001b[0m     self._concrete_stateful_fn = (\n\u001b[0;32m--> 696\u001b[0;31m         self._stateful_fn._get_concrete_function_internal_garbage_collected(  # pylint: disable=protected-access\n\u001b[0m\u001b[1;32m    697\u001b[0m             *args, **kwds))\n\u001b[1;32m    698\u001b[0m \u001b[0;34m\u001b[0m\u001b[0m\n",
      "\u001b[0;32m~/anaconda3/envs/dcmr/lib/python3.8/site-packages/tensorflow/python/eager/function.py\u001b[0m in \u001b[0;36m_get_concrete_function_internal_garbage_collected\u001b[0;34m(self, *args, **kwargs)\u001b[0m\n\u001b[1;32m   2853\u001b[0m       \u001b[0margs\u001b[0m\u001b[0;34m,\u001b[0m \u001b[0mkwargs\u001b[0m \u001b[0;34m=\u001b[0m \u001b[0;32mNone\u001b[0m\u001b[0;34m,\u001b[0m \u001b[0;32mNone\u001b[0m\u001b[0;34m\u001b[0m\u001b[0;34m\u001b[0m\u001b[0m\n\u001b[1;32m   2854\u001b[0m     \u001b[0;32mwith\u001b[0m \u001b[0mself\u001b[0m\u001b[0;34m.\u001b[0m\u001b[0m_lock\u001b[0m\u001b[0;34m:\u001b[0m\u001b[0;34m\u001b[0m\u001b[0;34m\u001b[0m\u001b[0m\n\u001b[0;32m-> 2855\u001b[0;31m       \u001b[0mgraph_function\u001b[0m\u001b[0;34m,\u001b[0m \u001b[0m_\u001b[0m\u001b[0;34m,\u001b[0m \u001b[0m_\u001b[0m \u001b[0;34m=\u001b[0m \u001b[0mself\u001b[0m\u001b[0;34m.\u001b[0m\u001b[0m_maybe_define_function\u001b[0m\u001b[0;34m(\u001b[0m\u001b[0margs\u001b[0m\u001b[0;34m,\u001b[0m \u001b[0mkwargs\u001b[0m\u001b[0;34m)\u001b[0m\u001b[0;34m\u001b[0m\u001b[0;34m\u001b[0m\u001b[0m\n\u001b[0m\u001b[1;32m   2856\u001b[0m     \u001b[0;32mreturn\u001b[0m \u001b[0mgraph_function\u001b[0m\u001b[0;34m\u001b[0m\u001b[0;34m\u001b[0m\u001b[0m\n\u001b[1;32m   2857\u001b[0m \u001b[0;34m\u001b[0m\u001b[0m\n",
      "\u001b[0;32m~/anaconda3/envs/dcmr/lib/python3.8/site-packages/tensorflow/python/eager/function.py\u001b[0m in \u001b[0;36m_maybe_define_function\u001b[0;34m(self, args, kwargs)\u001b[0m\n\u001b[1;32m   3211\u001b[0m \u001b[0;34m\u001b[0m\u001b[0m\n\u001b[1;32m   3212\u001b[0m       \u001b[0mself\u001b[0m\u001b[0;34m.\u001b[0m\u001b[0m_function_cache\u001b[0m\u001b[0;34m.\u001b[0m\u001b[0mmissed\u001b[0m\u001b[0;34m.\u001b[0m\u001b[0madd\u001b[0m\u001b[0;34m(\u001b[0m\u001b[0mcall_context_key\u001b[0m\u001b[0;34m)\u001b[0m\u001b[0;34m\u001b[0m\u001b[0;34m\u001b[0m\u001b[0m\n\u001b[0;32m-> 3213\u001b[0;31m       \u001b[0mgraph_function\u001b[0m \u001b[0;34m=\u001b[0m \u001b[0mself\u001b[0m\u001b[0;34m.\u001b[0m\u001b[0m_create_graph_function\u001b[0m\u001b[0;34m(\u001b[0m\u001b[0margs\u001b[0m\u001b[0;34m,\u001b[0m \u001b[0mkwargs\u001b[0m\u001b[0;34m)\u001b[0m\u001b[0;34m\u001b[0m\u001b[0;34m\u001b[0m\u001b[0m\n\u001b[0m\u001b[1;32m   3214\u001b[0m       \u001b[0mself\u001b[0m\u001b[0;34m.\u001b[0m\u001b[0m_function_cache\u001b[0m\u001b[0;34m.\u001b[0m\u001b[0mprimary\u001b[0m\u001b[0;34m[\u001b[0m\u001b[0mcache_key\u001b[0m\u001b[0;34m]\u001b[0m \u001b[0;34m=\u001b[0m \u001b[0mgraph_function\u001b[0m\u001b[0;34m\u001b[0m\u001b[0;34m\u001b[0m\u001b[0m\n\u001b[1;32m   3215\u001b[0m       \u001b[0;32mreturn\u001b[0m \u001b[0mgraph_function\u001b[0m\u001b[0;34m,\u001b[0m \u001b[0margs\u001b[0m\u001b[0;34m,\u001b[0m \u001b[0mkwargs\u001b[0m\u001b[0;34m\u001b[0m\u001b[0;34m\u001b[0m\u001b[0m\n",
      "\u001b[0;32m~/anaconda3/envs/dcmr/lib/python3.8/site-packages/tensorflow/python/eager/function.py\u001b[0m in \u001b[0;36m_create_graph_function\u001b[0;34m(self, args, kwargs, override_flat_arg_shapes)\u001b[0m\n\u001b[1;32m   3063\u001b[0m     \u001b[0marg_names\u001b[0m \u001b[0;34m=\u001b[0m \u001b[0mbase_arg_names\u001b[0m \u001b[0;34m+\u001b[0m \u001b[0mmissing_arg_names\u001b[0m\u001b[0;34m\u001b[0m\u001b[0;34m\u001b[0m\u001b[0m\n\u001b[1;32m   3064\u001b[0m     graph_function = ConcreteFunction(\n\u001b[0;32m-> 3065\u001b[0;31m         func_graph_module.func_graph_from_py_func(\n\u001b[0m\u001b[1;32m   3066\u001b[0m             \u001b[0mself\u001b[0m\u001b[0;34m.\u001b[0m\u001b[0m_name\u001b[0m\u001b[0;34m,\u001b[0m\u001b[0;34m\u001b[0m\u001b[0;34m\u001b[0m\u001b[0m\n\u001b[1;32m   3067\u001b[0m             \u001b[0mself\u001b[0m\u001b[0;34m.\u001b[0m\u001b[0m_python_function\u001b[0m\u001b[0;34m,\u001b[0m\u001b[0;34m\u001b[0m\u001b[0;34m\u001b[0m\u001b[0m\n",
      "\u001b[0;32m~/anaconda3/envs/dcmr/lib/python3.8/site-packages/tensorflow/python/framework/func_graph.py\u001b[0m in \u001b[0;36mfunc_graph_from_py_func\u001b[0;34m(name, python_func, args, kwargs, signature, func_graph, autograph, autograph_options, add_control_dependencies, arg_names, op_return_value, collections, capture_by_value, override_flat_arg_shapes)\u001b[0m\n\u001b[1;32m    984\u001b[0m         \u001b[0m_\u001b[0m\u001b[0;34m,\u001b[0m \u001b[0moriginal_func\u001b[0m \u001b[0;34m=\u001b[0m \u001b[0mtf_decorator\u001b[0m\u001b[0;34m.\u001b[0m\u001b[0munwrap\u001b[0m\u001b[0;34m(\u001b[0m\u001b[0mpython_func\u001b[0m\u001b[0;34m)\u001b[0m\u001b[0;34m\u001b[0m\u001b[0;34m\u001b[0m\u001b[0m\n\u001b[1;32m    985\u001b[0m \u001b[0;34m\u001b[0m\u001b[0m\n\u001b[0;32m--> 986\u001b[0;31m       \u001b[0mfunc_outputs\u001b[0m \u001b[0;34m=\u001b[0m \u001b[0mpython_func\u001b[0m\u001b[0;34m(\u001b[0m\u001b[0;34m*\u001b[0m\u001b[0mfunc_args\u001b[0m\u001b[0;34m,\u001b[0m \u001b[0;34m**\u001b[0m\u001b[0mfunc_kwargs\u001b[0m\u001b[0;34m)\u001b[0m\u001b[0;34m\u001b[0m\u001b[0;34m\u001b[0m\u001b[0m\n\u001b[0m\u001b[1;32m    987\u001b[0m \u001b[0;34m\u001b[0m\u001b[0m\n\u001b[1;32m    988\u001b[0m       \u001b[0;31m# invariant: `func_outputs` contains only Tensors, CompositeTensors,\u001b[0m\u001b[0;34m\u001b[0m\u001b[0;34m\u001b[0m\u001b[0;34m\u001b[0m\u001b[0m\n",
      "\u001b[0;32m~/anaconda3/envs/dcmr/lib/python3.8/site-packages/tensorflow/python/eager/def_function.py\u001b[0m in \u001b[0;36mwrapped_fn\u001b[0;34m(*args, **kwds)\u001b[0m\n\u001b[1;32m    598\u001b[0m         \u001b[0;31m# __wrapped__ allows AutoGraph to swap in a converted function. We give\u001b[0m\u001b[0;34m\u001b[0m\u001b[0;34m\u001b[0m\u001b[0;34m\u001b[0m\u001b[0m\n\u001b[1;32m    599\u001b[0m         \u001b[0;31m# the function a weak reference to itself to avoid a reference cycle.\u001b[0m\u001b[0;34m\u001b[0m\u001b[0;34m\u001b[0m\u001b[0;34m\u001b[0m\u001b[0m\n\u001b[0;32m--> 600\u001b[0;31m         \u001b[0;32mreturn\u001b[0m \u001b[0mweak_wrapped_fn\u001b[0m\u001b[0;34m(\u001b[0m\u001b[0;34m)\u001b[0m\u001b[0;34m.\u001b[0m\u001b[0m__wrapped__\u001b[0m\u001b[0;34m(\u001b[0m\u001b[0;34m*\u001b[0m\u001b[0margs\u001b[0m\u001b[0;34m,\u001b[0m \u001b[0;34m**\u001b[0m\u001b[0mkwds\u001b[0m\u001b[0;34m)\u001b[0m\u001b[0;34m\u001b[0m\u001b[0;34m\u001b[0m\u001b[0m\n\u001b[0m\u001b[1;32m    601\u001b[0m     \u001b[0mweak_wrapped_fn\u001b[0m \u001b[0;34m=\u001b[0m \u001b[0mweakref\u001b[0m\u001b[0;34m.\u001b[0m\u001b[0mref\u001b[0m\u001b[0;34m(\u001b[0m\u001b[0mwrapped_fn\u001b[0m\u001b[0;34m)\u001b[0m\u001b[0;34m\u001b[0m\u001b[0;34m\u001b[0m\u001b[0m\n\u001b[1;32m    602\u001b[0m \u001b[0;34m\u001b[0m\u001b[0m\n",
      "\u001b[0;32m~/anaconda3/envs/dcmr/lib/python3.8/site-packages/tensorflow/python/framework/func_graph.py\u001b[0m in \u001b[0;36mwrapper\u001b[0;34m(*args, **kwargs)\u001b[0m\n\u001b[1;32m    971\u001b[0m           \u001b[0;32mexcept\u001b[0m \u001b[0mException\u001b[0m \u001b[0;32mas\u001b[0m \u001b[0me\u001b[0m\u001b[0;34m:\u001b[0m  \u001b[0;31m# pylint:disable=broad-except\u001b[0m\u001b[0;34m\u001b[0m\u001b[0;34m\u001b[0m\u001b[0m\n\u001b[1;32m    972\u001b[0m             \u001b[0;32mif\u001b[0m \u001b[0mhasattr\u001b[0m\u001b[0;34m(\u001b[0m\u001b[0me\u001b[0m\u001b[0;34m,\u001b[0m \u001b[0;34m\"ag_error_metadata\"\u001b[0m\u001b[0;34m)\u001b[0m\u001b[0;34m:\u001b[0m\u001b[0;34m\u001b[0m\u001b[0;34m\u001b[0m\u001b[0m\n\u001b[0;32m--> 973\u001b[0;31m               \u001b[0;32mraise\u001b[0m \u001b[0me\u001b[0m\u001b[0;34m.\u001b[0m\u001b[0mag_error_metadata\u001b[0m\u001b[0;34m.\u001b[0m\u001b[0mto_exception\u001b[0m\u001b[0;34m(\u001b[0m\u001b[0me\u001b[0m\u001b[0;34m)\u001b[0m\u001b[0;34m\u001b[0m\u001b[0;34m\u001b[0m\u001b[0m\n\u001b[0m\u001b[1;32m    974\u001b[0m             \u001b[0;32melse\u001b[0m\u001b[0;34m:\u001b[0m\u001b[0;34m\u001b[0m\u001b[0;34m\u001b[0m\u001b[0m\n\u001b[1;32m    975\u001b[0m               \u001b[0;32mraise\u001b[0m\u001b[0;34m\u001b[0m\u001b[0;34m\u001b[0m\u001b[0m\n",
      "\u001b[0;31mOperatorNotAllowedInGraphError\u001b[0m: in user code:\n\n    /home/sven/anaconda3/envs/dcmr/lib/python3.8/site-packages/tensorflow/python/keras/engine/training.py:806 train_function  *\n        return step_function(self, iterator)\n    /mnt/ssd/git/dynamic-cmr-models/src/utils/Metrics.py:79 meandiff  *\n        diffs = np.stack([np.stack(get_min_dist_for_list(gt_idx[i],pred_idx[i])) for i in range(4)])\n    /mnt/ssd/git/dynamic-cmr-models/src/utils/Metrics.py:93 get_min_dist_for_list  *\n        length = max(max(lst_a), max(lst_b)) + 1\n    /home/sven/anaconda3/envs/dcmr/lib/python3.8/site-packages/tensorflow/python/framework/ops.py:503 __iter__  **\n        self._disallow_iteration()\n    /home/sven/anaconda3/envs/dcmr/lib/python3.8/site-packages/tensorflow/python/framework/ops.py:496 _disallow_iteration\n        self._disallow_when_autograph_enabled(\"iterating over `tf.Tensor`\")\n    /home/sven/anaconda3/envs/dcmr/lib/python3.8/site-packages/tensorflow/python/framework/ops.py:472 _disallow_when_autograph_enabled\n        raise errors.OperatorNotAllowedInGraphError(\n\n    OperatorNotAllowedInGraphError: iterating over `tf.Tensor` is not allowed: AutoGraph did convert this function. This might indicate you are trying to use an unsupported feature.\n"
     ]
    }
   ],
   "source": [
    "initial_epoch = 0\n",
    "\n",
    "results = model.fit(\n",
    "    x=batch_generator,\n",
    "    validation_data=validation_generator,\n",
    "    epochs=200,\n",
    "    callbacks = get_callbacks(config, validation_generator),\n",
    "    initial_epoch=initial_epoch,\n",
    "    max_queue_size=20,\n",
    "    workers=2,\n",
    "    use_multiprocessing=False,\n",
    "    verbose=1)"
   ]
  },
  {
   "cell_type": "code",
   "execution_count": 52,
   "metadata": {},
   "outputs": [],
   "source": [
    "# predict the files from globals()['inputs']\n",
    "pred = model(inputs, training=False)"
   ]
  },
  {
   "cell_type": "code",
   "execution_count": 24,
   "metadata": {},
   "outputs": [
    {
     "name": "stdout",
     "output_type": "stream",
     "text": [
      "[[23  4  9 13 21]\n",
      " [ 0  5 10 15 17]\n",
      " [24  4  8 13 20]\n",
      " [ 0  6 12 17 18]]\n",
      "[23 17 24 18]\n",
      "(4, 36, 5)\n"
     ]
    },
    {
     "ename": "IndexError",
     "evalue": "only integers, slices (`:`), ellipsis (`...`), numpy.newaxis (`None`) and integer or boolean arrays are valid indices",
     "output_type": "error",
     "traceback": [
      "\u001b[0;31m---------------------------------------------------------------------------\u001b[0m",
      "\u001b[0;31mIndexError\u001b[0m                                Traceback (most recent call last)",
      "\u001b[0;32m<ipython-input-24-62889463f116>\u001b[0m in \u001b[0;36m<module>\u001b[0;34m\u001b[0m\n\u001b[1;32m      6\u001b[0m \u001b[0mslice_\u001b[0m \u001b[0;34m=\u001b[0m \u001b[0mtuple\u001b[0m\u001b[0;34m(\u001b[0m\u001b[0mslice\u001b[0m\u001b[0;34m(\u001b[0m\u001b[0;32mNone\u001b[0m\u001b[0;34m,\u001b[0m\u001b[0melem\u001b[0m\u001b[0;34m)\u001b[0m \u001b[0;32mfor\u001b[0m \u001b[0melem\u001b[0m \u001b[0;32min\u001b[0m \u001b[0mgt_max\u001b[0m\u001b[0;34m)\u001b[0m\u001b[0;34m\u001b[0m\u001b[0;34m\u001b[0m\u001b[0m\n\u001b[1;32m      7\u001b[0m \u001b[0mprint\u001b[0m\u001b[0;34m(\u001b[0m\u001b[0moutputs\u001b[0m\u001b[0;34m.\u001b[0m\u001b[0mshape\u001b[0m\u001b[0;34m)\u001b[0m\u001b[0;34m\u001b[0m\u001b[0;34m\u001b[0m\u001b[0m\n\u001b[0;32m----> 8\u001b[0;31m \u001b[0mnp\u001b[0m\u001b[0;34m.\u001b[0m\u001b[0marray\u001b[0m\u001b[0;34m(\u001b[0m\u001b[0moutputs\u001b[0m\u001b[0;34m[\u001b[0m\u001b[0;34m:\u001b[0m\u001b[0;34m,\u001b[0m\u001b[0mslice_\u001b[0m\u001b[0;34m,\u001b[0m\u001b[0;34m:\u001b[0m\u001b[0;34m]\u001b[0m\u001b[0;34m)\u001b[0m\u001b[0;34m.\u001b[0m\u001b[0mshape\u001b[0m\u001b[0;34m\u001b[0m\u001b[0;34m\u001b[0m\u001b[0m\n\u001b[0m",
      "\u001b[0;31mIndexError\u001b[0m: only integers, slices (`:`), ellipsis (`...`), numpy.newaxis (`None`) and integer or boolean arrays are valid indices"
     ]
    }
   ],
   "source": [
    "# get the true idx\n",
    "gt_idx = tf.math.argmax(outputs, axis=1).numpy()\n",
    "print(gt_idx)\n",
    "gt_max = gt_idx.max(axis=1).astype(int)\n",
    "print(gt_max)\n",
    "msk = np.stack()\n",
    "\n",
    "slice_ = tuple(slice(None,elem) for elem in gt_max)\n",
    "print(outputs.shape)\n",
    "np.array(outputs[:,slice_,:]).shape"
   ]
  },
  {
   "cell_type": "code",
   "execution_count": null,
   "metadata": {},
   "outputs": [],
   "source": []
  },
  {
   "cell_type": "code",
   "execution_count": 49,
   "metadata": {},
   "outputs": [
    {
     "name": "stdout",
     "output_type": "stream",
     "text": [
      "(4, 36, 5)\n",
      "0.0\n"
     ]
    },
    {
     "data": {
      "text/plain": [
       "480.0"
      ]
     },
     "execution_count": 49,
     "metadata": {},
     "output_type": "execute_result"
    }
   ],
   "source": [
    "msk = np.zeros_like(outputs)\n",
    "print(msk.shape)\n",
    "print(msk.sum())\n",
    "msk[:,:max(gt_max),:] = 1\n",
    "msk.sum()\n",
    "np.pad(outputs, ())"
   ]
  },
  {
   "cell_type": "code",
   "execution_count": 45,
   "metadata": {},
   "outputs": [
    {
     "name": "stdout",
     "output_type": "stream",
     "text": [
      "(1, 4, 36)\n",
      "[[[ True  True  True  True  True  True  True  True  True  True  True\n",
      "    True  True  True  True  True  True  True  True  True  True  True\n",
      "    True False False False False False False False False False False\n",
      "   False False False]\n",
      "  [ True  True  True  True  True  True  True  True  True  True  True\n",
      "    True  True  True  True  True  True False False False False False\n",
      "   False False False False False False False False False False False\n",
      "   False False False]\n",
      "  [ True  True  True  True  True  True  True  True  True  True  True\n",
      "    True  True  True  True  True  True  True  True  True  True  True\n",
      "    True  True False False False False False False False False False\n",
      "   False False False]\n",
      "  [ True  True  True  True  True  True  True  True  True  True  True\n",
      "    True  True  True  True  True  True  True False False False False\n",
      "   False False False False False False False False False False False\n",
      "   False False False]]]\n"
     ]
    },
    {
     "ename": "NameError",
     "evalue": "name 'data' is not defined",
     "output_type": "error",
     "traceback": [
      "\u001b[0;31m---------------------------------------------------------------------------\u001b[0m",
      "\u001b[0;31mNameError\u001b[0m                                 Traceback (most recent call last)",
      "\u001b[0;32m<ipython-input-45-a8792a576e80>\u001b[0m in \u001b[0;36m<module>\u001b[0;34m\u001b[0m\n\u001b[1;32m      4\u001b[0m \u001b[0mprint\u001b[0m\u001b[0;34m(\u001b[0m\u001b[0mmask\u001b[0m\u001b[0;34m)\u001b[0m\u001b[0;34m\u001b[0m\u001b[0;34m\u001b[0m\u001b[0m\n\u001b[1;32m      5\u001b[0m \u001b[0;31m# Setup output array and put elements from data into masked positions\u001b[0m\u001b[0;34m\u001b[0m\u001b[0;34m\u001b[0m\u001b[0;34m\u001b[0m\u001b[0m\n\u001b[0;32m----> 6\u001b[0;31m \u001b[0mout\u001b[0m \u001b[0;34m=\u001b[0m \u001b[0mnp\u001b[0m\u001b[0;34m.\u001b[0m\u001b[0mzeros\u001b[0m\u001b[0;34m(\u001b[0m\u001b[0mmask\u001b[0m\u001b[0;34m.\u001b[0m\u001b[0mshape\u001b[0m\u001b[0;34m,\u001b[0m \u001b[0mdtype\u001b[0m\u001b[0;34m=\u001b[0m\u001b[0mdata\u001b[0m\u001b[0;34m.\u001b[0m\u001b[0mdtype\u001b[0m\u001b[0;34m)\u001b[0m\u001b[0;34m\u001b[0m\u001b[0;34m\u001b[0m\u001b[0m\n\u001b[0m\u001b[1;32m      7\u001b[0m \u001b[0mout\u001b[0m\u001b[0;34m[\u001b[0m\u001b[0mmask\u001b[0m\u001b[0;34m]\u001b[0m \u001b[0;34m=\u001b[0m \u001b[0mnp\u001b[0m\u001b[0;34m.\u001b[0m\u001b[0mconcatenate\u001b[0m\u001b[0;34m(\u001b[0m\u001b[0mdata\u001b[0m\u001b[0;34m)\u001b[0m\u001b[0;34m\u001b[0m\u001b[0;34m\u001b[0m\u001b[0m\n",
      "\u001b[0;31mNameError\u001b[0m: name 'data' is not defined"
     ]
    }
   ],
   "source": [
    "lens = gt_max\n",
    "mask = np.arange(36) < lens[None,:,None]\n",
    "print(mask.shape)\n",
    "print(mask)\n",
    "# Setup output array and put elements from data into masked positions\n",
    "out = np.zeros(mask.shape, dtype=data.dtype)\n",
    "out[mask] = np.concatenate(data)"
   ]
  },
  {
   "cell_type": "code",
   "execution_count": 37,
   "metadata": {
    "collapsed": true,
    "jupyter": {
     "outputs_hidden": true
    }
   },
   "outputs": [
    {
     "data": {
      "text/plain": [
       "<tf.Tensor: shape=(36, 5), dtype=float32, numpy=\n",
       "array([[ 0. ,  0. ,  0. ,  0. ,  0. ],\n",
       "       [ 0. ,  0.5,  0. ,  0. ,  0. ],\n",
       "       [ 0. ,  2. ,  0. ,  0. ,  0. ],\n",
       "       [ 0. ,  3.5,  0. ,  0. ,  0. ],\n",
       "       [ 0. ,  4. ,  0. ,  0. ,  0. ],\n",
       "       [ 0. ,  4. ,  0. ,  0. ,  0. ],\n",
       "       [ 0. ,  3.5,  1. ,  0. ,  0. ],\n",
       "       [ 0. ,  2. ,  4. ,  0. ,  0. ],\n",
       "       [ 0. ,  1. ,  6. ,  0. ,  0. ],\n",
       "       [ 0. ,  0.5,  7. ,  0. ,  0. ],\n",
       "       [ 0. ,  0. ,  8. ,  0. ,  0. ],\n",
       "       [ 0. ,  0. ,  5. ,  4.5,  0. ],\n",
       "       [ 0. ,  0. ,  4. ,  6. ,  0. ],\n",
       "       [ 0. ,  0. ,  2. ,  9. ,  0. ],\n",
       "       [ 0. ,  0. ,  2. ,  9. ,  0. ],\n",
       "       [ 0. ,  0. ,  0. , 12. ,  0. ],\n",
       "       [ 0. ,  0. ,  0. , 10.5,  2. ],\n",
       "       [ 0. ,  0. ,  0. ,  4.5, 10. ],\n",
       "       [ 0. ,  0. ,  0. ,  0. , 16. ],\n",
       "       [ 0. ,  0. ,  0. ,  0. , 12. ],\n",
       "       [ 0. ,  0. ,  0. ,  0. ,  8. ],\n",
       "       [ 0. ,  0. ,  0. ,  0. ,  8. ],\n",
       "       [ 0. ,  0. ,  0. ,  0. ,  4. ],\n",
       "       [ 0. ,  0.5,  0. ,  0. ,  0. ],\n",
       "       [ 0. ,  2. ,  0. ,  0. ,  0. ],\n",
       "       [ 0. ,  2. ,  0. ,  0. ,  0. ],\n",
       "       [ 0. ,  2.5,  0. ,  0. ,  0. ],\n",
       "       [ 0. ,  4. ,  0. ,  0. ,  0. ],\n",
       "       [ 0. ,  4. ,  0. ,  0. ,  0. ],\n",
       "       [ 0. ,  2.5,  3. ,  0. ,  0. ],\n",
       "       [ 0. ,  2. ,  4. ,  0. ,  0. ],\n",
       "       [ 0. ,  1.5,  5. ,  0. ,  0. ],\n",
       "       [ 0. ,  0. ,  8. ,  0. ,  0. ],\n",
       "       [ 0. ,  0. ,  8. ,  0. ,  0. ],\n",
       "       [ 0. ,  0. ,  6. ,  3. ,  0. ],\n",
       "       [ 0. ,  0. ,  4. ,  6. ,  0. ]], dtype=float32)>"
      ]
     },
     "execution_count": 37,
     "metadata": {},
     "output_type": "execute_result"
    }
   ],
   "source": [
    "softargmax(outputs)"
   ]
  },
  {
   "cell_type": "code",
   "execution_count": 34,
   "metadata": {},
   "outputs": [],
   "source": [
    "def softargmax(x, beta=1e10):\n",
    "    x = tf.convert_to_tensor(x)\n",
    "    x_range = tf.range(x.shape.as_list()[-1], dtype=x.dtype)\n",
    "    return tf.reduce_sum(tf.nn.softmax(x*beta) * x_range, axis=0)"
   ]
  },
  {
   "cell_type": "code",
   "execution_count": 79,
   "metadata": {},
   "outputs": [
    {
     "name": "stdout",
     "output_type": "stream",
     "text": [
      "[23  4  9 13 19]\n",
      "[23  4  9 13 21]\n",
      "[ 0  4  8 12 16]\n",
      "[19  4  8 12 17]\n",
      "[ 0  3  7 10 13]\n",
      "[ 0  4  7 10 13]\n",
      "[ 0  4  8 12 17]\n",
      "[19  4  8 13 16]\n"
     ]
    },
    {
     "data": {
      "image/png": "[encoded data removed]",
      "text/plain": [
       "<Figure size 1440x360 with 8 Axes>"
      ]
     },
     "metadata": {
      "needs_background": "light"
     },
     "output_type": "display_data"
    }
   ],
   "source": [
    "phases = ['ED', 'MS', 'ES', 'PF', 'MD']\n",
    "# get the true idx\n",
    "\n",
    "gt_max = gt_idx.max(axis=1)\n",
    "\n",
    "f, axs = plt.subplots(1,BATCHSIZE*2,figsize=(5*BATCHSIZE,5))\n",
    "i = 0\n",
    "for cutoff,idx in zip(gt_max,range(BATCHSIZE)):\n",
    "    cutoff = cutoff + 1\n",
    "    axs[i].title.set_text('f(x)')\n",
    "    temp_pred = pred[idx][:cutoff,:].numpy()\n",
    "    #temp_pred = pred[idx].numpy()\n",
    "    ind = np.argmax(temp_pred, axis=0)\n",
    "    print(ind)\n",
    "    axs[i].set_yticks(ind, minor=False)\n",
    "    axs[i].set_xticks([0,1,2,3,4], minor=False)\n",
    "    axs[i].set_xticklabels(phases, rotation =45)\n",
    "    axs[i].imshow(temp_pred, aspect='auto')\n",
    "    i = i+1\n",
    "    axs[i].title.set_text('y')\n",
    "    temp_y = outputs[idx][:cutoff,:]\n",
    "    #temp_y = outputs[idx]\n",
    "    ind_gt = np.argmax(temp_y, axis=0)\n",
    "    axs[i].set_yticks(ind_gt, minor=False)\n",
    "    axs[i].set_xticks([0,1,2,3,4], minor=False)\n",
    "    axs[i].set_xticklabels(phases, rotation =45)\n",
    "    print(ind_gt)\n",
    "    axs[i].imshow(temp_y, aspect='auto')\n",
    "    i = i+1\n",
    "f.tight_layout()"
   ]
  },
  {
   "cell_type": "code",
   "execution_count": 57,
   "metadata": {},
   "outputs": [
    {
     "data": {
      "text/plain": [
       "0.0"
      ]
     },
     "execution_count": 57,
     "metadata": {},
     "output_type": "execute_result"
    }
   ],
   "source": [
    "# calculate the meandiff score for one batch\n",
    "from src.utils.Metrics import meandiff\n",
    "score_fn = meandiff\n",
    "score_fn(outputs, outputs).numpy()"
   ]
  },
  {
   "cell_type": "code",
   "execution_count": 77,
   "metadata": {},
   "outputs": [
    {
     "name": "stdout",
     "output_type": "stream",
     "text": [
      "[19  4  8 12 17]\n",
      "[ 0  4 29 12 16]\n",
      "(72, 5)\n",
      "(72, 5)\n",
      "[19  4  8 12 17]\n",
      "[ 0  4 29 12 16]\n"
     ]
    }
   ],
   "source": [
    "# transform the lis tof indicies into binary representation\n",
    "# by this we could get the ring functionality?\n",
    "#[ 0  4  8 12 16]\n",
    "# 19  4  8 12 17]\n",
    "\n",
    "print(np.argmax(outputs[1], axis=0))\n",
    "print(np.argmax(pred[1], axis=0))\n",
    "\n",
    "temp = np.tile(outputs[1], (2,1))\n",
    "temp2 = np.tile(pred[1], (2,1))\n",
    "\n",
    "print(temp.shape)\n",
    "print(temp2.shape)\n",
    "print(np.argmax(temp, axis=0))\n",
    "print(np.argmax(temp2, axis=0))"
   ]
  },
  {
   "cell_type": "code",
   "execution_count": 92,
   "metadata": {},
   "outputs": [
    {
     "name": "stdout",
     "output_type": "stream",
     "text": [
      "[0, 1, 2, 3, 4, 5, 6, 7, 8, 9, 10, 11, 12, 13, 14, 15, 16, 17, 18]\n"
     ]
    },
    {
     "data": {
      "text/plain": [
       "5"
      ]
     },
     "execution_count": 92,
     "metadata": {},
     "output_type": "execute_result"
    }
   ],
   "source": [
    "def get_min_distance(a,b,mod):\n",
    "    decr_counter = 0\n",
    "    incr_counter = 0\n",
    "    \n",
    "    smaller = min(a,b)\n",
    "    bigger = max(a,b)\n",
    "\n",
    "    res = list(range(mod))\n",
    "    print(res)\n",
    "    i1 =bigger\n",
    "    while(res[i1]!=smaller):\n",
    "        decr_counter = decr_counter+1\n",
    "        i1 = i1-1\n",
    "\n",
    "    i1 = bigger\n",
    "    while(res[i1]!=smaller):\n",
    "        incr_counter = incr_counter+1\n",
    "        i1 = (i1+1)%mod\n",
    "\n",
    "    return min(decr_counter, incr_counter)\n",
    "    \n",
    "    \n",
    "get_min_distance(4,18,19)\n",
    "    "
   ]
  },
  {
   "cell_type": "code",
   "execution_count": 99,
   "metadata": {},
   "outputs": [
    {
     "data": {
      "text/plain": [
       "[<tf.Tensor: shape=(), dtype=float32, numpy=3.5>,\n",
       " <tf.Tensor: shape=(), dtype=float32, numpy=5.25>,\n",
       " <tf.Tensor: shape=(), dtype=float32, numpy=2.5>,\n",
       " <tf.Tensor: shape=(), dtype=float32, numpy=3.0>,\n",
       " <tf.Tensor: shape=(), dtype=float32, numpy=2.75>,\n",
       " <tf.Tensor: shape=(), dtype=float32, numpy=2.75>,\n",
       " <tf.Tensor: shape=(), dtype=float32, numpy=3.0>,\n",
       " <tf.Tensor: shape=(), dtype=float32, numpy=1.5>,\n",
       " <tf.Tensor: shape=(), dtype=float32, numpy=2.75>,\n",
       " <tf.Tensor: shape=(), dtype=float32, numpy=3.75>,\n",
       " <tf.Tensor: shape=(), dtype=float32, numpy=2.0>,\n",
       " <tf.Tensor: shape=(), dtype=float32, numpy=1.75>,\n",
       " <tf.Tensor: shape=(), dtype=float32, numpy=2.5>,\n",
       " <tf.Tensor: shape=(), dtype=float32, numpy=4.0>,\n",
       " <tf.Tensor: shape=(), dtype=float32, numpy=9.5>]"
      ]
     },
     "execution_count": 99,
     "metadata": {},
     "output_type": "execute_result"
    }
   ],
   "source": [
    "# calculate the meandiff score for all batches\n",
    "scores = []\n",
    "for batch in validation_generator:\n",
    "    x,y = batch\n",
    "    p = model(x)\n",
    "    scores.append(score_fn(y,p))\n",
    "scores"
   ]
  },
  {
   "cell_type": "code",
   "execution_count": 100,
   "metadata": {},
   "outputs": [
    {
     "data": {
      "text/plain": [
       "3.3666666"
      ]
     },
     "execution_count": 100,
     "metadata": {},
     "output_type": "execute_result"
    }
   ],
   "source": [
    "tf.reduce_mean(scores).numpy()"
   ]
  },
  {
   "cell_type": "markdown",
   "metadata": {},
   "source": [
    "# Generator tests"
   ]
  },
  {
   "cell_type": "code",
   "execution_count": 9,
   "metadata": {},
   "outputs": [
    {
     "data": {
      "text/plain": [
       "<matplotlib.image.AxesImage at 0x7f48c0042160>"
      ]
     },
     "execution_count": 9,
     "metadata": {},
     "output_type": "execute_result"
    },
    {
     "data": {
      "image/png": "[encoded data removed]",
      "text/plain": [
       "<Figure size 432x288 with 1 Axes>"
      ]
     },
     "metadata": {
      "needs_background": "light"
     },
     "output_type": "display_data"
    }
   ],
   "source": [
    "temp = outputs[2][:]\n",
    "plt.imshow(temp)"
   ]
  },
  {
   "cell_type": "code",
   "execution_count": 16,
   "metadata": {
    "collapsed": true,
    "jupyter": {
     "outputs_hidden": true
    }
   },
   "outputs": [
    {
     "data": {
      "image/png": "[encoded data removed]",
      "text/plain": [
       "<IPython.core.display.Image object>"
      ]
     },
     "execution_count": 16,
     "metadata": {},
     "output_type": "execute_result"
    }
   ],
   "source": [
    "tf.keras.utils.plot_model(\n",
    "    model, show_shapes=False,\n",
    "    show_layer_names=True, rankdir='TB', expand_nested=True, dpi=96\n",
    ")"
   ]
  },
  {
   "cell_type": "code",
   "execution_count": 11,
   "metadata": {},
   "outputs": [
    {
     "name": "stdout",
     "output_type": "stream",
     "text": [
      "(36, 5)\n",
      "[[ 1.38348091e+00  1.23632700e+34 -1.81182511e+36  4.56599092e-41\n",
      "  -1.81926115e+36]\n",
      " [ 4.56599092e-41  3.22819804e-03 -6.46831612e-31 -2.99579847e-29\n",
      "   4.56613105e-41]\n",
      " [-1.81928397e+36  4.56599092e-41  6.13270337e-11 -2.39915704e+10\n",
      "  -2.78123062e-29]\n",
      " [ 4.56613105e-41 -1.81930679e+36  4.56599092e-41  1.01344287e+04\n",
      "   8.43546880e+07]\n",
      " [-1.99690347e-16  4.56613105e-41 -1.81932961e+36  4.56599092e-41\n",
      "  -4.54529307e+33]\n",
      " [-6.16835742e+04 -1.04216684e-17  4.56613105e-41 -1.81935242e+36\n",
      "   4.56599092e-41]\n",
      " [-2.90389409e-07 -6.48057959e+03 -1.81197723e+36  4.56599092e-41\n",
      "  -1.81937524e+36]\n",
      " [ 4.56599092e-41 -4.12825109e+26  4.77408846e-17 -1.38908956e-16\n",
      "   4.56613105e-41]\n",
      " [-1.81939806e+36  4.56599092e-41 -1.45753474e+18 -2.60766018e-02\n",
      "  -1.38886934e-16]\n",
      " [ 4.56613105e-41 -1.33684881e-16  4.56613105e-41 -9.35618770e-27\n",
      "   7.34581107e-15]\n",
      " [-1.97438086e-16  4.56613105e-41 -1.81944369e+36  4.56599092e-41\n",
      "   2.14501761e-05]\n",
      " [ 1.19029230e-17 -1.81186568e+36  4.56599092e-41 -1.81948933e+36\n",
      "   4.56599092e-41]\n",
      " [ 4.65124913e-07  2.10490161e-27 -1.81205836e+36  4.56599092e-41\n",
      "  -1.81953497e+36]\n",
      " [ 4.56599092e-41  3.53334376e-11  9.37314971e+18 -1.81358208e+36\n",
      "   4.56599092e-41]\n",
      " [-1.81955778e+36  4.56599092e-41  1.47163612e+06 -1.22455998e+11\n",
      "  -1.81170342e+36]\n",
      " [ 4.56599092e-41 -1.81960342e+36  4.56599092e-41  2.91861289e-21\n",
      "   9.72294146e-37]\n",
      " [-1.81368349e+36  4.56599092e-41 -1.81962624e+36  4.56599092e-41\n",
      "  -7.73588544e+08]\n",
      " [-4.44926673e-06 -1.81373420e+36  4.56599092e-41 -1.81964905e+36\n",
      "   4.56599092e-41]\n",
      " [ 2.09519916e+12 -1.26574688e+08 -1.81178455e+36  4.56599092e-41\n",
      "  -1.81638866e+36]\n",
      " [ 4.56599092e-41  3.74002719e+26  4.61556784e+18 -1.81346799e+36\n",
      "   4.56599092e-41]\n",
      " [-1.81639626e+36  4.56599092e-41  4.15308294e-17  3.56574678e+26\n",
      "  -7.85236600e-17]\n",
      " [ 4.56613105e-41 -1.81971751e+36  4.56599092e-41 -5.42124399e-21\n",
      "   7.09974215e-17]\n",
      " [-2.19385504e-17  4.56613105e-41 -1.81974032e+36  4.56599092e-41\n",
      "  -1.14486125e-30]\n",
      " [ 3.84894220e-17 -1.81360743e+36  4.56599092e-41 -1.81978596e+36\n",
      "   4.56599092e-41]\n",
      " [ 1.83903310e-07 -3.46028712e-03 -1.79692746e-16  4.56613105e-41\n",
      "  -1.81606160e+36]\n",
      " [ 4.56599092e-41  9.30761399e+37 -7.97997176e+27 -1.34149478e-16\n",
      "   4.56613105e-41]\n",
      " [-1.81606921e+36  4.56599092e-41  1.99292334e+03  7.97951555e-34\n",
      "  -1.38647223e-16]\n",
      " [ 4.56613105e-41 -1.33341621e-16  4.56613105e-41 -1.01756836e-35\n",
      "   4.17932346e-02]\n",
      " [-1.91760424e-16  4.56613105e-41 -1.33345432e-16  4.56613105e-41\n",
      "  -2.97573445e+20]\n",
      " [ 1.01220629e-11 -1.99221090e-16  4.56613105e-41 -1.33347338e-16\n",
      "   4.56613105e-41]\n",
      " [ 8.30710481e-23 -1.31257856e+09 -1.50135955e-16  4.56613105e-41\n",
      "  -1.33574555e-16]\n",
      " [ 4.56613105e-41 -9.00473360e-30 -2.40800437e-36 -1.38728538e-16\n",
      "   4.56613105e-41]\n",
      " [-1.33354961e-16  4.56613105e-41 -2.33649039e-21 -2.37831837e-28\n",
      "  -1.50175342e-16]\n",
      " [ 4.56613105e-41 -1.33682975e-16  4.56613105e-41  1.70833980e-09\n",
      "  -3.28665500e+15]\n",
      " [-1.50137013e-16  4.56613105e-41 -1.33686787e-16  4.56613105e-41\n",
      "   9.85222754e+17]\n",
      " [ 1.36948733e-36 -1.38897098e-16  4.56613105e-41 -1.33688692e-16\n",
      "   4.56613105e-41]]\n",
      "axis = 0: [-1.0904389e+37  8.2190667e+37 -1.4525785e+37 -1.0905327e+37\n",
      " -1.0906871e+37]\n",
      "axis = 1: [-3.6187229e+36  3.2281980e-03 -1.8192840e+36 -1.8193068e+36\n",
      " -1.8238749e+36 -1.8193524e+36 -3.6313525e+36 -4.1282511e+26\n",
      " -1.8193981e+36  7.2121264e-15 -1.8194437e+36 -3.6313550e+36\n",
      " -3.6315933e+36 -1.8135821e+36 -3.6312612e+36 -1.8196034e+36\n",
      " -3.6333097e+36 -3.6333833e+36 -3.6281732e+36 -1.8134680e+36\n",
      " -1.8163963e+36 -1.8197175e+36 -1.8197403e+36 -3.6333934e+36\n",
      " -1.8160616e+36  9.3076140e+37 -1.8160692e+36  4.1793235e-02\n",
      " -2.9757345e+20  1.0121730e-11 -1.3125786e+09 -1.3872854e-16\n",
      " -2.8353263e-16 -3.2866550e+15  9.8522275e+17 -2.7258579e-16]\n"
     ]
    }
   ],
   "source": [
    "temp = outputs[2][:]\n",
    "print(temp.shape)\n",
    "print(temp)\n",
    "print('axis = 0: {}'.format(temp.sum(axis=0)))\n",
    "print('axis = 1: {}'.format(temp.sum(axis=1)))\n"
   ]
  },
  {
   "cell_type": "code",
   "execution_count": 22,
   "metadata": {},
   "outputs": [
    {
     "data": {
      "text/plain": [
       "[4, 5, 6, 7, 8, 9, 1, 2, 3]"
      ]
     },
     "execution_count": 22,
     "metadata": {},
     "output_type": "execute_result"
    }
   ],
   "source": [
    "lst = [1,2,3,4,5,6,7,8,9]\n",
    "first = lst[3:]\n",
    "first.extend(lst[:3])\n",
    "first"
   ]
  },
  {
   "cell_type": "code",
   "execution_count": null,
   "metadata": {},
   "outputs": [],
   "source": [
    "onehot = np.array([[1,0,0,0,0,0,0,0,0,0,0,0,0,0,0],\n",
    " [0,0,0,1,0,0,0,0,0,0,0,0,0,0,0],\n",
    " [0,0,0,0,0,0,0,1,0,0,0,0,0,0,0],\n",
    " [0,0,0,0,0,0,0,0,0,0,0,1,0,0,0],\n",
    " [0,0,0,0,0,0,0,0,0,0,0,0,0,0,1]])"
   ]
  },
  {
   "cell_type": "code",
   "execution_count": null,
   "metadata": {},
   "outputs": [],
   "source": [
    "onehot.shape"
   ]
  },
  {
   "cell_type": "code",
   "execution_count": null,
   "metadata": {},
   "outputs": [],
   "source": [
    "onehot_t = onehot.T\n",
    "onehot_t.shape\n",
    "onehot_t"
   ]
  },
  {
   "cell_type": "code",
   "execution_count": null,
   "metadata": {},
   "outputs": [],
   "source": [
    "print(np.argmax(onehot, axis=1))\n",
    "print(np.argmax(onehot_t, axis=0))"
   ]
  },
  {
   "cell_type": "code",
   "execution_count": null,
   "metadata": {},
   "outputs": [],
   "source": [
    "# iterate over the phases j\n",
    "# linspace from i to i+1 from indices\n",
    "temp = onehot_t[:,0].astype(float)\n",
    "i = 0\n",
    "j = 3 + 1\n",
    "temp[i:j] = np.linspace(i,j,j-i)\n",
    "temp"
   ]
  },
  {
   "cell_type": "code",
   "execution_count": null,
   "metadata": {},
   "outputs": [],
   "source": [
    "onehot_t = onehot_t.astype(float)\n",
    "indices = np.argmax(onehot_t, axis=0)\n",
    "for i in range(onehot_t.shape[1]) :\n",
    "    start = indices[i]\n",
    "    # make it a ring\n",
    "    second = (i+1)%len(indices)\n",
    "    end = indices[second]\n",
    "    onehot_t[start:end,i] = np.linspace(1,0,int(end-start))\n",
    "onehot_t\n",
    "             \n",
    "    "
   ]
  },
  {
   "cell_type": "code",
   "execution_count": null,
   "metadata": {},
   "outputs": [],
   "source": [
    "plt.imshow(temp)"
   ]
  },
  {
   "cell_type": "code",
   "execution_count": null,
   "metadata": {},
   "outputs": [],
   "source": [
    "plt.imshow(temp.T)"
   ]
  },
  {
   "cell_type": "code",
   "execution_count": null,
   "metadata": {},
   "outputs": [],
   "source": [
    "%%timeit\n",
    "temp.mean()"
   ]
  },
  {
   "cell_type": "code",
   "execution_count": null,
   "metadata": {},
   "outputs": [],
   "source": [
    "%%timeit\n",
    "np.mean(temp)"
   ]
  },
  {
   "cell_type": "code",
   "execution_count": null,
   "metadata": {},
   "outputs": [],
   "source": [
    "np.linspace(-1,1,10)"
   ]
  },
  {
   "cell_type": "code",
   "execution_count": null,
   "metadata": {},
   "outputs": [],
   "source": []
  }
 ],
 "metadata": {
  "kernelspec": {
   "display_name": "dcmr",
   "language": "python",
   "name": "dcmr"
  },
  "language_info": {
   "codemirror_mode": {
    "name": "ipython",
    "version": 3
   },
   "file_extension": ".py",
   "mimetype": "text/x-python",
   "name": "python",
   "nbconvert_exporter": "python",
   "pygments_lexer": "ipython3",
   "version": "3.8.5"
  },
  "widgets": {
   "application/vnd.jupyter.widget-state+json": {
    "state": {
     "0336d69e28f34feb803943d01016e6b5": {
      "model_module": "@jupyter-widgets/controls",
      "model_module_version": "1.5.0",
      "model_name": "ButtonStyleModel",
      "state": {}
     },
     "0babe32d3c5e46ae80a395710ca1c105": {
      "model_module": "@jupyter-widgets/base",
      "model_module_version": "1.2.0",
      "model_name": "LayoutModel",
      "state": {}
     },
     "0feaf6bb114c4dbda2c97f80c276bf65": {
      "model_module": "@jupyter-widgets/base",
      "model_module_version": "1.2.0",
      "model_name": "LayoutModel",
      "state": {}
     },
     "108fe8fca38f47dda70401a448cdfa7c": {
      "model_module": "@jupyter-widgets/controls",
      "model_module_version": "1.5.0",
      "model_name": "DescriptionStyleModel",
      "state": {
       "description_width": ""
      }
     },
     "1ab60296ee4048ebbd7f52da8182b127": {
      "model_module": "@jupyter-widgets/base",
      "model_module_version": "1.2.0",
      "model_name": "LayoutModel",
      "state": {}
     },
     "2e4a21c2caee437f889d64c0d19ecc09": {
      "model_module": "@jupyter-widgets/base",
      "model_module_version": "1.2.0",
      "model_name": "LayoutModel",
      "state": {}
     },
     "3366eaf0cb9945349a2ef3b4fdf69feb": {
      "model_module": "@jupyter-widgets/base",
      "model_module_version": "1.2.0",
      "model_name": "LayoutModel",
      "state": {}
     },
     "38f79a6fed6744b0bd5f0f6c1ecca075": {
      "model_module": "@jupyter-widgets/controls",
      "model_module_version": "1.5.0",
      "model_name": "IntSliderModel",
      "state": {
       "description": "slice_n",
       "layout": "IPY_MODEL_8e580f7f6669466db9c5c44338d75e88",
       "max": 11,
       "min": 1,
       "style": "IPY_MODEL_cad9b0e4ae1446df839b889153ea6c80",
       "value": 6
      }
     },
     "485608bdcf5d4e90a6c142a3aee3747e": {
      "model_module": "@jupyter-widgets/controls",
      "model_module_version": "1.5.0",
      "model_name": "TextModel",
      "state": {
       "description": "search_str",
       "layout": "IPY_MODEL_0babe32d3c5e46ae80a395710ca1c105",
       "style": "IPY_MODEL_6ba1b33ab99b46abb167fd16b67593dc"
      }
     },
     "5a00c0b16e7645f0ae193185e5fbda05": {
      "model_module": "@jupyter-widgets/controls",
      "model_module_version": "1.5.0",
      "model_name": "TextModel",
      "state": {
       "description": "filepath",
       "layout": "IPY_MODEL_96d4e7f1ab5f476ba52a0460bdd99a11",
       "style": "IPY_MODEL_108fe8fca38f47dda70401a448cdfa7c",
       "value": "data/temp/"
      }
     },
     "624ecb2fab714fd6b7a9863bc040ce35": {
      "model_module": "@jupyter-widgets/controls",
      "model_module_version": "1.5.0",
      "model_name": "DescriptionStyleModel",
      "state": {
       "description_width": ""
      }
     },
     "64dde8d16fbb433b801329df81ad2b9f": {
      "model_module": "@jupyter-widgets/base",
      "model_module_version": "1.2.0",
      "model_name": "LayoutModel",
      "state": {}
     },
     "6ba1b33ab99b46abb167fd16b67593dc": {
      "model_module": "@jupyter-widgets/controls",
      "model_module_version": "1.5.0",
      "model_name": "DescriptionStyleModel",
      "state": {
       "description_width": ""
      }
     },
     "6c67e97c622e484db1f2047f8df768b6": {
      "model_module": "@jupyter-widgets/output",
      "model_module_version": "1.0.0",
      "model_name": "OutputModel",
      "state": {
       "layout": "IPY_MODEL_7a9ce6f5e8484deca09f7a7a017768a8",
       "outputs": [
        {
         "name": "stderr",
         "output_type": "stream",
         "text": "2021-02-19 08:13:47,158 INFO Preprocessing took: 0.412\n"
        },
        {
         "name": "stdout",
         "output_type": "stream",
         "text": "(4, 36, 8, 64, 64, 1) (4, 36, 5)\nselected batch : 7\n"
        },
        {
         "data": {
          "image/png": "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\n",
          "text/plain": "<Figure size 360x360 with 2 Axes>"
         },
         "metadata": {
          "needs_background": "light"
         },
         "output_type": "display_data"
        }
       ]
      }
     },
     "7a9ce6f5e8484deca09f7a7a017768a8": {
      "model_module": "@jupyter-widgets/base",
      "model_module_version": "1.2.0",
      "model_name": "LayoutModel",
      "state": {}
     },
     "831397ab930d4eeea6854410f8f950cd": {
      "model_module": "@jupyter-widgets/base",
      "model_module_version": "1.2.0",
      "model_name": "LayoutModel",
      "state": {}
     },
     "869069cc655140a9bf09be0382fbf17d": {
      "model_module": "@jupyter-widgets/base",
      "model_module_version": "1.2.0",
      "model_name": "LayoutModel",
      "state": {}
     },
     "8a64e5e9971a46838ea36548e6485c96": {
      "model_module": "@jupyter-widgets/controls",
      "model_module_version": "1.5.0",
      "model_name": "SliderStyleModel",
      "state": {
       "description_width": ""
      }
     },
     "8e580f7f6669466db9c5c44338d75e88": {
      "model_module": "@jupyter-widgets/base",
      "model_module_version": "1.2.0",
      "model_name": "LayoutModel",
      "state": {}
     },
     "919ae34611dc4fe4860fea886e56af3e": {
      "model_module": "@jupyter-widgets/controls",
      "model_module_version": "1.5.0",
      "model_name": "CheckboxModel",
      "state": {
       "description": "save",
       "disabled": false,
       "layout": "IPY_MODEL_64dde8d16fbb433b801329df81ad2b9f",
       "style": "IPY_MODEL_d1755b45803a4dc9b8ee385f05df99a3",
       "value": false
      }
     },
     "96d4e7f1ab5f476ba52a0460bdd99a11": {
      "model_module": "@jupyter-widgets/base",
      "model_module_version": "1.2.0",
      "model_name": "LayoutModel",
      "state": {}
     },
     "9bd8f79bf91642e5822d2ee563bbfa70": {
      "model_module": "@jupyter-widgets/base",
      "model_module_version": "1.2.0",
      "model_name": "LayoutModel",
      "state": {}
     },
     "aa8bbb3c68d546f1acbf3f22c1484294": {
      "model_module": "@jupyter-widgets/controls",
      "model_module_version": "1.5.0",
      "model_name": "TextModel",
      "state": {
       "description": "filename",
       "layout": "IPY_MODEL_1ab60296ee4048ebbd7f52da8182b127",
       "style": "IPY_MODEL_d5f174c83a5e4140a626039bcaa35a3c",
       "value": "temp_x.npy"
      }
     },
     "c6f2c29ad07241b1a193389878c012aa": {
      "model_module": "@jupyter-widgets/controls",
      "model_module_version": "1.5.0",
      "model_name": "CheckboxModel",
      "state": {
       "description": "show_",
       "disabled": false,
       "layout": "IPY_MODEL_831397ab930d4eeea6854410f8f950cd",
       "style": "IPY_MODEL_624ecb2fab714fd6b7a9863bc040ce35",
       "value": true
      }
     },
     "c877a75d025f4e7e9fa8c3a95220b917": {
      "model_module": "@jupyter-widgets/controls",
      "model_module_version": "1.5.0",
      "model_name": "IntSliderModel",
      "state": {
       "description": "im",
       "layout": "IPY_MODEL_0feaf6bb114c4dbda2c97f80c276bf65",
       "max": 3,
       "style": "IPY_MODEL_8a64e5e9971a46838ea36548e6485c96",
       "value": 1
      }
     },
     "cad9b0e4ae1446df839b889153ea6c80": {
      "model_module": "@jupyter-widgets/controls",
      "model_module_version": "1.5.0",
      "model_name": "SliderStyleModel",
      "state": {
       "description_width": ""
      }
     },
     "cd7c05e841ee40dd8165d82a05d505b3": {
      "model_module": "@jupyter-widgets/controls",
      "model_module_version": "1.5.0",
      "model_name": "IntSliderModel",
      "state": {
       "description": "batch",
       "layout": "IPY_MODEL_9bd8f79bf91642e5822d2ee563bbfa70",
       "max": 14,
       "style": "IPY_MODEL_ecf1a3d78cf247b9924f1bc58b7974a4",
       "value": 7
      }
     },
     "d1755b45803a4dc9b8ee385f05df99a3": {
      "model_module": "@jupyter-widgets/controls",
      "model_module_version": "1.5.0",
      "model_name": "DescriptionStyleModel",
      "state": {
       "description_width": ""
      }
     },
     "d5f174c83a5e4140a626039bcaa35a3c": {
      "model_module": "@jupyter-widgets/controls",
      "model_module_version": "1.5.0",
      "model_name": "DescriptionStyleModel",
      "state": {
       "description_width": ""
      }
     },
     "d9ea211f052647789286ad734b149a65": {
      "model_module": "@jupyter-widgets/controls",
      "model_module_version": "1.5.0",
      "model_name": "ButtonModel",
      "state": {
       "description": "Run Interact",
       "layout": "IPY_MODEL_869069cc655140a9bf09be0382fbf17d",
       "style": "IPY_MODEL_0336d69e28f34feb803943d01016e6b5"
      }
     },
     "d9fe7e3e366b463f9a1a8b3122d4eb2f": {
      "model_module": "@jupyter-widgets/controls",
      "model_module_version": "1.5.0",
      "model_name": "VBoxModel",
      "state": {
       "_dom_classes": [
        "widget-interact"
       ],
       "children": [
        "IPY_MODEL_485608bdcf5d4e90a6c142a3aee3747e",
        "IPY_MODEL_f97ac893c40247d08f861cbec0d61ee8"
       ],
       "layout": "IPY_MODEL_3366eaf0cb9945349a2ef3b4fdf69feb"
      }
     },
     "dbe5df0d650647a9bd913ad95a0b808a": {
      "model_module": "@jupyter-widgets/controls",
      "model_module_version": "1.5.0",
      "model_name": "VBoxModel",
      "state": {
       "_dom_classes": [
        "widget-interact"
       ],
       "children": [
        "IPY_MODEL_cd7c05e841ee40dd8165d82a05d505b3",
        "IPY_MODEL_c877a75d025f4e7e9fa8c3a95220b917",
        "IPY_MODEL_38f79a6fed6744b0bd5f0f6c1ecca075",
        "IPY_MODEL_919ae34611dc4fe4860fea886e56af3e",
        "IPY_MODEL_5a00c0b16e7645f0ae193185e5fbda05",
        "IPY_MODEL_aa8bbb3c68d546f1acbf3f22c1484294",
        "IPY_MODEL_c6f2c29ad07241b1a193389878c012aa",
        "IPY_MODEL_d9ea211f052647789286ad734b149a65",
        "IPY_MODEL_6c67e97c622e484db1f2047f8df768b6"
       ],
       "layout": "IPY_MODEL_df0bba04a4ba4a698f669447f589d892"
      }
     },
     "df0bba04a4ba4a698f669447f589d892": {
      "model_module": "@jupyter-widgets/base",
      "model_module_version": "1.2.0",
      "model_name": "LayoutModel",
      "state": {}
     },
     "ecf1a3d78cf247b9924f1bc58b7974a4": {
      "model_module": "@jupyter-widgets/controls",
      "model_module_version": "1.5.0",
      "model_name": "SliderStyleModel",
      "state": {
       "description_width": ""
      }
     },
     "f97ac893c40247d08f861cbec0d61ee8": {
      "model_module": "@jupyter-widgets/output",
      "model_module_version": "1.0.0",
      "model_name": "OutputModel",
      "state": {
       "layout": "IPY_MODEL_2e4a21c2caee437f889d64c0d19ecc09",
       "outputs": [
        {
         "data": {
          "text/html": "<div>\n<style scoped>\n    .dataframe tbody tr th:only-of-type {\n        vertical-align: middle;\n    }\n\n    .dataframe tbody tr th {\n        vertical-align: top;\n    }\n\n    .dataframe thead th {\n        text-align: right;\n    }\n</style>\n<table border=\"1\" class=\"dataframe\">\n  <thead>\n    <tr style=\"text-align: right;\">\n      <th></th>\n      <th>patient</th>\n      <th>ED#</th>\n      <th>MS#</th>\n      <th>ES#</th>\n      <th>PF#</th>\n      <th>MD#</th>\n    </tr>\n  </thead>\n  <tbody>\n    <tr>\n      <th>0</th>\n      <td>02Z1L14N</td>\n      <td>14</td>\n      <td>3</td>\n      <td>6</td>\n      <td>8</td>\n      <td>12</td>\n    </tr>\n    <tr>\n      <th>1</th>\n      <td>02Z1L14N</td>\n      <td>14</td>\n      <td>3</td>\n      <td>6</td>\n      <td>8</td>\n      <td>12</td>\n    </tr>\n    <tr>\n      <th>2</th>\n      <td>02Z1L14N</td>\n      <td>14</td>\n      <td>3</td>\n      <td>6</td>\n      <td>8</td>\n      <td>12</td>\n    </tr>\n    <tr>\n      <th>3</th>\n      <td>02Z1L14N</td>\n      <td>14</td>\n      <td>3</td>\n      <td>6</td>\n      <td>8</td>\n      <td>12</td>\n    </tr>\n    <tr>\n      <th>4</th>\n      <td>02Z1L14N</td>\n      <td>14</td>\n      <td>3</td>\n      <td>6</td>\n      <td>8</td>\n      <td>12</td>\n    </tr>\n    <tr>\n      <th>...</th>\n      <td>...</td>\n      <td>...</td>\n      <td>...</td>\n      <td>...</td>\n      <td>...</td>\n      <td>...</td>\n    </tr>\n    <tr>\n      <th>1385</th>\n      <td>ZZQ0001Q</td>\n      <td>1</td>\n      <td>5</td>\n      <td>10</td>\n      <td>14</td>\n      <td>19</td>\n    </tr>\n    <tr>\n      <th>1386</th>\n      <td>ZZQ0001Q</td>\n      <td>1</td>\n      <td>5</td>\n      <td>10</td>\n      <td>14</td>\n      <td>19</td>\n    </tr>\n    <tr>\n      <th>1387</th>\n      <td>ZZQ0001Q</td>\n      <td>1</td>\n      <td>5</td>\n      <td>10</td>\n      <td>14</td>\n      <td>19</td>\n    </tr>\n    <tr>\n      <th>1388</th>\n      <td>ZZQ0001Q</td>\n      <td>1</td>\n      <td>5</td>\n      <td>10</td>\n      <td>14</td>\n      <td>19</td>\n    </tr>\n    <tr>\n      <th>1389</th>\n      <td>ZZQ0001Q</td>\n      <td>1</td>\n      <td>5</td>\n      <td>10</td>\n      <td>14</td>\n      <td>19</td>\n    </tr>\n  </tbody>\n</table>\n<p>1390 rows × 6 columns</p>\n</div>",
          "text/plain": "       patient  ED#  MS#  ES#  PF#  MD#\n0     02Z1L14N   14    3    6    8   12\n1     02Z1L14N   14    3    6    8   12\n2     02Z1L14N   14    3    6    8   12\n3     02Z1L14N   14    3    6    8   12\n4     02Z1L14N   14    3    6    8   12\n...        ...  ...  ...  ...  ...  ...\n1385  ZZQ0001Q    1    5   10   14   19\n1386  ZZQ0001Q    1    5   10   14   19\n1387  ZZQ0001Q    1    5   10   14   19\n1388  ZZQ0001Q    1    5   10   14   19\n1389  ZZQ0001Q    1    5   10   14   19\n\n[1390 rows x 6 columns]"
         },
         "metadata": {},
         "output_type": "display_data"
        }
       ]
      }
     }
    },
    "version_major": 2,
    "version_minor": 0
   }
  }
 },
 "nbformat": 4,
 "nbformat_minor": 4
}
