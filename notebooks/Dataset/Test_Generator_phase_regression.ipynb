{
 "cells": [
  {
   "cell_type": "code",
   "execution_count": 12,
   "metadata": {},
   "outputs": [
    {
     "name": "stderr",
     "output_type": "stream",
     "text": [
      "2021-03-16 15:09:00,379 INFO -------------------- Start --------------------\n",
      "2021-03-16 15:09:00,379 INFO Working directory: /mnt/ssd/git/dynamic-cmr-models.\n",
      "2021-03-16 15:09:00,380 INFO Log file: ./logs/cv_baseline_temp/8_64_64__8_2_2_4tenc_conv1_MSE_NOnorm_augshiftrot_taug_3_batch8.log\n",
      "2021-03-16 15:09:00,380 INFO Log level for console: INFO\n",
      "2021-03-16 15:09:00,385 INFO Is built with tensorflow: True\n",
      "2021-03-16 15:09:00,385 INFO Visible devices:\n",
      "[PhysicalDevice(name='/physical_device:CPU:0', device_type='CPU'), PhysicalDevice(name='/physical_device:XLA_CPU:0', device_type='XLA_CPU'), PhysicalDevice(name='/physical_device:XLA_GPU:0', device_type='XLA_GPU'), PhysicalDevice(name='/physical_device:XLA_GPU:1', device_type='XLA_GPU'), PhysicalDevice(name='/physical_device:GPU:0', device_type='GPU'), PhysicalDevice(name='/physical_device:GPU:1', device_type='GPU')]\n",
      "2021-03-16 15:09:00,391 INFO Local devices: \n",
      " [name: \"/device:CPU:0\"\n",
      "device_type: \"CPU\"\n",
      "memory_limit: 268435456\n",
      "locality {\n",
      "}\n",
      "incarnation: 17028092752498370506\n",
      ", name: \"/device:XLA_CPU:0\"\n",
      "device_type: \"XLA_CPU\"\n",
      "memory_limit: 17179869184\n",
      "locality {\n",
      "}\n",
      "incarnation: 17295905327584338721\n",
      "physical_device_desc: \"device: XLA_CPU device\"\n",
      ", name: \"/device:XLA_GPU:0\"\n",
      "device_type: \"XLA_GPU\"\n",
      "memory_limit: 17179869184\n",
      "locality {\n",
      "}\n",
      "incarnation: 2532003847077364981\n",
      "physical_device_desc: \"device: XLA_GPU device\"\n",
      ", name: \"/device:XLA_GPU:1\"\n",
      "device_type: \"XLA_GPU\"\n",
      "memory_limit: 17179869184\n",
      "locality {\n",
      "}\n",
      "incarnation: 3585343654313359463\n",
      "physical_device_desc: \"device: XLA_GPU device\"\n",
      ", name: \"/device:GPU:0\"\n",
      "device_type: \"GPU\"\n",
      "memory_limit: 23081542016\n",
      "locality {\n",
      "  bus_id: 1\n",
      "  links {\n",
      "  }\n",
      "}\n",
      "incarnation: 7269705666697240379\n",
      "physical_device_desc: \"device: 0, name: TITAN RTX, pci bus id: 0000:01:00.0, compute capability: 7.5\"\n",
      ", name: \"/device:GPU:1\"\n",
      "device_type: \"GPU\"\n",
      "memory_limit: 23561682304\n",
      "locality {\n",
      "  bus_id: 1\n",
      "  links {\n",
      "  }\n",
      "}\n",
      "incarnation: 5617739501764110976\n",
      "physical_device_desc: \"device: 1, name: TITAN RTX, pci bus id: 0000:02:00.0, compute capability: 7.5\"\n",
      "]\n"
     ]
    },
    {
     "name": "stdout",
     "output_type": "stream",
     "text": [
      "search for root_dir and set working directory\n",
      "Working directory set to: /mnt/ssd/git/dynamic-cmr-models\n",
      "['/gpu:0', '/gpu:1']\n",
      "{'GPU_IDS': '0,1', 'GPUS': ['/gpu:0', '/gpu:1'], 'SEED': 42, 'EXPERIMENT': 'cv_baseline_temp/8_64_64__8_2_2_4tenc_conv1_MSE_NOnorm_augshiftrot_taug_3_batch8', 'EXPERIMENTS_ROOT': 'exp/', 'EXP_PATH': 'exp/cv_baseline_temp/8_64_64__8_2_2_4tenc_conv1_MSE_NOnorm_augshiftrot_taug_3_batch8/2021-03-16_15_09', 'MODEL_PATH': 'exp/cv_baseline_temp/8_64_64__8_2_2_4tenc_conv1_MSE_NOnorm_augshiftrot_taug_3_batch8/2021-03-16_15_09/model', 'TENSORBOARD_PATH': 'exp/cv_baseline_temp/8_64_64__8_2_2_4tenc_conv1_MSE_NOnorm_augshiftrot_taug_3_batch8/2021-03-16_15_09/tensorboard_logs', 'CONFIG_PATH': 'exp/cv_baseline_temp/8_64_64__8_2_2_4tenc_conv1_MSE_NOnorm_augshiftrot_taug_3_batch8/2021-03-16_15_09/config', 'HISTORY_PATH': 'exp/cv_baseline_temp/8_64_64__8_2_2_4tenc_conv1_MSE_NOnorm_augshiftrot_taug_3_batch8/2021-03-16_15_09/history', 'DATA_PATH_SAX': '/mnt/ssd/data/gcn/02_imported_4D_unfiltered/SAX/', 'DF_FOLDS': '/mnt/ssd/data/gcn/02_imported_4D_unfiltered/df_kfold.csv', 'DF_META': '/mnt/ssd/data/gcn/02_imported_4D_unfiltered/SAx_3D_dicomTags_phase', 'FOLD': 0, 'BATCHSIZE': 8, 'GENERATOR_WORKER': 8, 'EPOCHS': 100, 'DIM': [8, 64, 64], 'T_SHAPE': 36, 'SPACING': [8, 3, 3], 'DEPTH': 4, 'FILTERS': 32, 'M_POOL': [1, 2, 2], 'F_SIZE': [3, 3, 3], 'BN_FIRST': False, 'BATCH_NORMALISATION': True, 'PAD': 'same', 'KERNEL_INIT': 'he_normal', 'OPTIMIZER': 'adam', 'ACTIVATION': 'relu', 'LEARNING_RATE': 0.0001, 'REDUCE_LR_ON_PLAEAU_PATIENCE': 5, 'DECAY_FACTOR': 0.7, 'POLY_LR_DECAY': False, 'MIN_LR': 1e-12, 'DROPOUT_MIN': 0.4, 'DROPOUT_MAX': 0.5, 'MONITOR_FUNCTION': 'loss', 'MONITOR_MODE': 'min', 'SAVE_MODEL_FUNCTION': 'loss', 'SAVE_MODEL_MODE': 'min', 'MODEL_PATIENCE': 20, 'SAVE_LEARNING_PROGRESS_AS_TF': True, 'BORDER_MODE': 4, 'IMG_INTERPOLATION': 1, 'MSK_INTERPOLATION': 0, 'AUGMENT': True, 'AUGMENT_PROB': 0.8, 'AUGMENT_PHASES': True, 'AUGMENT_PHASES_RANGE': (-3, 3), 'REPEAT_ONEHOT': True, 'SHUFFLE': True, 'RESAMPLE': True, 'HIST_MATCHING': False, 'SCALER': 'MinMax', 'PHASES': 5, 'TARGET_SMOOTHING': True, 'SMOOTHING_KERNEL_SIZE': 12, 'SMOOTHING_LOWER_BORDER': 1, 'SMOOTHING_UPPER_BORDER': 5, 'SMOOTHING_WEIGHT_CORRECT': 10, 'TENSORBOARD_LOG_DIR': 'reports/tensorboard_logs/cv_baseline_temp/8_64_64__8_2_2_4tenc_conv1_MSE_NOnorm_augshiftrot_taug_3_batch8', 'METADATA_FILE': '/mnt/ssd/data/gcn/02_imported_4D_unfiltered/SAx_3D_dicomTags_phase', 'DF_METADATA':        patient   ED#  MS#   ES#   PF#   MD#\n",
      "0     02Z1L14N  14.0  3.0   6.0   8.0  12.0\n",
      "1     02Z1L14N  14.0  3.0   6.0   8.0  12.0\n",
      "2     02Z1L14N  14.0  3.0   6.0   8.0  12.0\n",
      "3     02Z1L14N  14.0  3.0   6.0   8.0  12.0\n",
      "4     02Z1L14N  14.0  3.0   6.0   8.0  12.0\n",
      "...        ...   ...  ...   ...   ...   ...\n",
      "1385  ZZQ0001Q   1.0  5.0  10.0  14.0  19.0\n",
      "1386  ZZQ0001Q   1.0  5.0  10.0  14.0  19.0\n",
      "1387  ZZQ0001Q   1.0  5.0  10.0  14.0  19.0\n",
      "1388  ZZQ0001Q   1.0  5.0  10.0  14.0  19.0\n",
      "1389  ZZQ0001Q   1.0  5.0  10.0  14.0  19.0\n",
      "\n",
      "[1390 rows x 6 columns]}\n"
     ]
    }
   ],
   "source": [
    "# ------------------------------------------define logging and working directory\n",
    "from ProjectRoot import change_wd_to_project_root\n",
    "change_wd_to_project_root()\n",
    "from src.utils.Tensorflow_helper import choose_gpu_by_id\n",
    "# ------------------------------------------define GPU id/s to use\n",
    "GPU_IDS = '0,1'\n",
    "GPUS = choose_gpu_by_id(GPU_IDS)\n",
    "print(GPUS)\n",
    "# ------------------------------------------jupyter magic config\n",
    "%matplotlib inline\n",
    "%reload_ext autoreload\n",
    "%autoreload 2\n",
    "# ------------------------------------------ import helpers\n",
    "# this should import glob, os, and many other standard libs\n",
    "from src.utils.Notebook_imports import *\n",
    "from tensorflow.python.client import device_lib\n",
    "import tensorflow as tf\n",
    "tf.get_logger().setLevel('ERROR')\n",
    "# local imports\n",
    "from src.utils.Utils_io import Console_and_file_logger, init_config\n",
    "from src.visualization.Visualize import show_2D_or_3D, show_phases, show_phases_transpose\n",
    "from src.utils.KerasCallbacks import get_callbacks\n",
    "from src.data.Dataset import get_trainings_files\n",
    "\n",
    "# import external libs\n",
    "import cv2\n",
    "import pandas as pd\n",
    "\n",
    "\n",
    "EXPERIMENT = 'cv_baseline_temp/8_64_64__8_2_2_4tenc_conv1_MSE_NOnorm_augshiftrot_taug_3_batch8'\n",
    "#EXPERIMENT = 'baseline_label_transpose_smooth05/36_5_BiLSTM32_NoBn_conv5_size1_CCE_NOphaseaug_NOaug_b8'\n",
    "# EXPERIMENT = 'mased_scores/36_5_BiLSTM32_NoBn_conv5_size1_CCE_NOphaseaug_shift_rotate_reflectbordersgridaug'\n",
    "timestemp = str(datetime.datetime.now().strftime(\"%Y-%m-%d_%H_%M\")) # ad a timestep to each project to make repeated experiments unique\n",
    "\n",
    "EXPERIMENTS_ROOT = 'exp/'\n",
    "EXP_PATH = os.path.join(EXPERIMENTS_ROOT, EXPERIMENT, timestemp)\n",
    "MODEL_PATH = os.path.join(EXP_PATH, 'model', )\n",
    "TENSORBOARD_PATH = os.path.join(EXP_PATH, 'tensorboard_logs')\n",
    "CONFIG_PATH = os.path.join(EXP_PATH,'config')\n",
    "HISTORY_PATH = os.path.join(EXP_PATH, 'history')\n",
    "ensure_dir(MODEL_PATH)\n",
    "ensure_dir(TENSORBOARD_PATH)\n",
    "ensure_dir(CONFIG_PATH)\n",
    "ensure_dir(HISTORY_PATH)\n",
    "\n",
    "# define the input data paths and fold \n",
    "# first to the 4D Nrrd files, \n",
    "# second to a dataframe with a mapping of the Fold-number\n",
    "# Finally the path to the metadata\n",
    "DATA_PATH_SAX = '/mnt/ssd/data/gcn/02_imported_4D_unfiltered/SAX/'\n",
    "DF_FOLDS = '/mnt/ssd/data/gcn/02_imported_4D_unfiltered/df_kfold.csv'\n",
    "DF_META = '/mnt/ssd/data/gcn/02_imported_4D_unfiltered/SAx_3D_dicomTags_phase'\n",
    "FOLD = 0\n",
    "\n",
    "# General params\n",
    "SEED = 42 # define a seed for the generator shuffle\n",
    "BATCHSIZE = 8 # 32, 64, 24, 16, 1 for 3D use: 4\n",
    "GENERATOR_WORKER = BATCHSIZE # if not set, use batchsize\n",
    "EPOCHS = 100\n",
    "\n",
    "DIM = [8, 64, 64] # network input shape for spacing of 3, (z,y,x)\n",
    "T_SHAPE = 36\n",
    "SPACING = [8, 3, 3] # if resample, resample to this spacing, (z,y,x)\n",
    "\n",
    "# Model params\n",
    "DEPTH = 4 # depth of the encoder\n",
    "FILTERS = 32 # initial number of filters, will be doubled after each downsampling block\n",
    "M_POOL = [1, 2, 2]# size of max-pooling used for downsampling and upsampling\n",
    "F_SIZE = [3, 3, 3] # conv filter size\n",
    "BN_FIRST = False # decide if batch normalisation between conv and activation or afterwards\n",
    "BATCH_NORMALISATION = True # apply BN or not\n",
    "PAD = 'same' # padding strategy of the conv layers\n",
    "KERNEL_INIT = 'he_normal' # conv weight initialisation\n",
    "OPTIMIZER = 'adam' # Adam, Adagrad, RMSprop, Adadelta,  # https://keras.io/optimizers/\n",
    "ACTIVATION = 'relu' # tf.keras.layers.LeakyReLU(), relu or any other non linear activation function\n",
    "LEARNING_RATE = 1e-4 # start with a huge lr to converge fast\n",
    "REDUCE_LR_ON_PLAEAU_PATIENCE = 5\n",
    "DECAY_FACTOR = 0.7 # Define a learning rate decay for the ReduceLROnPlateau callback\n",
    "POLY_LR_DECAY = False\n",
    "MIN_LR = 1e-12 # minimal lr, smaller lr does not improve the model\n",
    "DROPOUT_MIN = 0.4 # lower dropout at the shallow layers\n",
    "DROPOUT_MAX = 0.5 # higher dropout at the deep layers\n",
    "\n",
    "# Callback params\n",
    "MONITOR_FUNCTION = 'loss'\n",
    "MONITOR_MODE = 'min'\n",
    "SAVE_MODEL_FUNCTION = 'loss'\n",
    "SAVE_MODEL_MODE = 'min'\n",
    "MODEL_PATIENCE = 20\n",
    "SAVE_LEARNING_PROGRESS_AS_TF = True\n",
    "\n",
    "# Generator and Augmentation params\n",
    "BORDER_MODE = cv2.BORDER_REFLECT_101 # border mode for the data generation\n",
    "IMG_INTERPOLATION = cv2.INTER_LINEAR # image interpolation in the genarator\n",
    "MSK_INTERPOLATION = cv2.INTER_NEAREST # mask interpolation in the generator\n",
    "AUGMENT = True # a compose of 2D augmentation (grid distortion, 90degree rotation, brightness and shift)\n",
    "AUGMENT_PROB = 0.8\n",
    "AUGMENT_PHASES = True\n",
    "AUGMENT_PHASES_RANGE = (-3,3)\n",
    "REPEAT_ONEHOT = True\n",
    "SHUFFLE = True\n",
    "RESAMPLE = True\n",
    "HIST_MATCHING = False\n",
    "SCALER = 'MinMax' # MinMax, Standard or Robust\n",
    "# We define 5 target phases and a background phase for the pad/empty volumes \n",
    "PHASES = len(['ED#', 'MS#', 'ES#', 'PF#', 'MD#']) # skipped 'pad backround manually added', due to repeating\n",
    "TARGET_SMOOTHING = True\n",
    "SMOOTHING_KERNEL_SIZE = 12\n",
    "SMOOTHING_LOWER_BORDER = 1\n",
    "SMOOTHING_UPPER_BORDER = 5\n",
    "SMOOTHING_WEIGHT_CORRECT = 10\n",
    "Console_and_file_logger(EXPERIMENT, logging.INFO)\n",
    "config = init_config(config=locals(), save=True)\n",
    "print(config)\n",
    "logging.info('Is built with tensorflow: {}'.format(tf.test.is_built_with_cuda()))\n",
    "logging.info('Visible devices:\\n{}'.format(tf.config.list_physical_devices()))\n",
    "logging.info('Local devices: \\n {}'.format(device_lib.list_local_devices()))"
   ]
  },
  {
   "cell_type": "code",
   "execution_count": 13,
   "metadata": {},
   "outputs": [
    {
     "name": "stderr",
     "output_type": "stream",
     "text": [
      "2021-03-16 15:09:01,729 INFO no files found, try to load with clean.nrrd/mask.nrrd pattern\n",
      "2021-03-16 15:09:01,735 INFO Found 278 images/masks in /mnt/ssd/data/gcn/02_imported_4D_unfiltered/SAX/\n",
      "2021-03-16 15:09:01,735 INFO Patients train: 209\n",
      "2021-03-16 15:09:01,749 INFO Selected 209 of 278 files with 209 of 279 patients for training fold 0\n",
      "2021-03-16 15:09:01,750 INFO SAX train CMR: 209, SAX train masks: 209\n",
      "2021-03-16 15:09:01,751 INFO SAX val CMR: 69, SAX val masks: 69\n"
     ]
    }
   ],
   "source": [
    "# Load SAX volumes\n",
    "x_train_sax, y_train_sax, x_val_sax, y_val_sax =  get_trainings_files(data_path=DATA_PATH_SAX,path_to_folds_df=DF_FOLDS, fold=FOLD)\n",
    "logging.info('SAX train CMR: {}, SAX train masks: {}'.format(len(x_train_sax), len(y_train_sax)))\n",
    "logging.info('SAX val CMR: {}, SAX val masks: {}'.format(len(x_val_sax), len(y_val_sax)))"
   ]
  },
  {
   "cell_type": "code",
   "execution_count": 14,
   "metadata": {},
   "outputs": [],
   "source": [
    "# check if we find each patient in the corresponding dataframe\n",
    "import re\n",
    "import pandas as pd\n",
    "METADATA_FILE = config.get('DF_META', '/mnt/ssd/data/gcn/02_imported_4D_unfiltered/SAx_3D_dicomTags_phase')\n",
    "df = pd.read_csv(METADATA_FILE)\n",
    "DF_METADATA = df[['patient', 'ED#', 'MS#', 'ES#', 'PF#', 'MD#']]"
   ]
  },
  {
   "cell_type": "code",
   "execution_count": 15,
   "metadata": {},
   "outputs": [
    {
     "name": "stderr",
     "output_type": "stream",
     "text": [
      "2021-03-16 15:09:02,701 INFO Check if we find the patient ID and phase mapping for all: 278 files.\n",
      "2021-03-16 15:09:02,962 INFO Done!\n"
     ]
    }
   ],
   "source": [
    "files_ = x_train_sax + x_val_sax\n",
    "info('Check if we find the patient ID and phase mapping for all: {} files.'.format(len(files_)))\n",
    "for x in files_:\n",
    "    try:\n",
    "        patient_str = re.search('-(.{8})_', x).group(1).upper()\n",
    "        \n",
    "        assert(len(patient_str) == 8), 'matched patient ID from the phase sheet has a length of: {}'.format(len(patient_str))\n",
    "        # returns the indices in the following order: 'ED#', 'MS#', 'ES#', 'PF#', 'MD#'\n",
    "        # reduce by one, as the indexes start at 0, the excel-sheet at 1\n",
    "        ind = DF_METADATA[DF_METADATA.patient.str.contains(patient_str)][['ED#', 'MS#', 'ES#', 'PF#', 'MD#']]\n",
    "        indices = ind.values[0].astype(int) -1\n",
    "        \n",
    "    except Exception as e:\n",
    "        logging.info(patient_str)\n",
    "        logging.info(ind)\n",
    "        logging.info('indices: \\n{}'.format(indices))\n",
    "info('Done!')"
   ]
  },
  {
   "cell_type": "code",
   "execution_count": 16,
   "metadata": {},
   "outputs": [
    {
     "data": {
      "application/vnd.jupyter.widget-view+json": {
       "model_id": "4a8b93f05c4a4d539d6955f60d556cbf",
       "version_major": 2,
       "version_minor": 0
      },
      "text/plain": [
       "interactive(children=(Text(value='', description='search_str'), Output()), _dom_classes=('widget-interact',))"
      ]
     },
     "metadata": {},
     "output_type": "display_data"
    }
   ],
   "source": [
    "@interact\n",
    "def search_p_in_df(search_str = ''):\n",
    "    return DF_METADATA[DF_METADATA['patient'].str.contains(search_str)]"
   ]
  },
  {
   "cell_type": "code",
   "execution_count": 17,
   "metadata": {},
   "outputs": [
    {
     "name": "stderr",
     "output_type": "stream",
     "text": [
      "2021-03-16 15:09:03,219 INFO Create DataGenerator\n",
      "2021-03-16 15:09:03,220 INFO Datagenerator created with: \n",
      " shape: [8, 64, 64]\n",
      " spacing: [8, 3, 3]\n",
      " batchsize: 8\n",
      " Scaler: MinMax\n",
      " Images: 209 \n",
      " Augment: True \n",
      " Thread workers: 8\n",
      "2021-03-16 15:09:03,221 INFO Data will be augmented (shift,scale and rotate) with albumentation\n",
      "2021-03-16 15:09:03,234 INFO Smoothing kernel: \n",
      "[ 1.   1.8  2.6  3.4  4.2  5.  10.   5.   4.2  3.4  2.6  1.8  1. ]\n",
      "2021-03-16 15:09:03,235 INFO Temporal phase augmentation: \n",
      "True\n",
      "Repeat volume: \n",
      "True\n",
      "2021-03-16 15:09:03,533 INFO Create DataGenerator\n",
      "2021-03-16 15:09:03,533 INFO Datagenerator created with: \n",
      " shape: [8, 64, 64]\n",
      " spacing: [8, 3, 3]\n",
      " batchsize: 8\n",
      " Scaler: MinMax\n",
      " Images: 69 \n",
      " Augment: False \n",
      " Thread workers: 8\n",
      "2021-03-16 15:09:03,534 INFO No augmentation\n",
      "2021-03-16 15:09:03,547 INFO Smoothing kernel: \n",
      "[ 1.   1.8  2.6  3.4  4.2  5.  10.   5.   4.2  3.4  2.6  1.8  1. ]\n",
      "2021-03-16 15:09:03,547 INFO Temporal phase augmentation: \n",
      "False\n",
      "Repeat volume: \n",
      "True\n"
     ]
    }
   ],
   "source": [
    "# initialise a generator with these files\n",
    "# logging.getLogger().setLevel(logging.INFO)\n",
    "from src.data.Generators import PhaseRegressionGenerator\n",
    "#config['SHUFFLE'] = False\n",
    "#config['AUGMENT'] = False\n",
    "#config['RESAMPLE'] = True\n",
    "#config['AUGMENT_PHASES'] = False\n",
    "batch_generator = PhaseRegressionGenerator(x_train_sax, x_train_sax, config=config)\n",
    "val_config = config.copy()\n",
    "val_config['AUGMENT'] = False\n",
    "val_config['AUGMENT_PHASES'] = False\n",
    "validation_generator = PhaseRegressionGenerator(x_val_sax, x_val_sax , config=val_config)"
   ]
  },
  {
   "cell_type": "code",
   "execution_count": 18,
   "metadata": {},
   "outputs": [
    {
     "data": {
      "application/vnd.jupyter.widget-view+json": {
       "model_id": "92b87f62f7884da2acf97953fa0d6af2",
       "version_major": 2,
       "version_minor": 0
      },
      "text/plain": [
       "interactive(children=(IntSlider(value=13, description='batch', max=26), IntSlider(value=3, description='im', m…"
      ]
     },
     "metadata": {},
     "output_type": "display_data"
    }
   ],
   "source": [
    "# visualise one batch\n",
    "generator = batch_generator\n",
    "@interact_manual\n",
    "def select_image_in_batch(batch = (0,len(generator), 1), \n",
    "                          im = (0,BATCHSIZE- 1, 1), \n",
    "                          slice_n=(1,11), \n",
    "                          save=False, \n",
    "                          filepath='data/temp/', \n",
    "                          filename='temp_x.npy',\n",
    "                         show_overview=True,\n",
    "                         show_input_vol=False):\n",
    "    \n",
    "    import time\n",
    "    global inputs, outputs, gt_len_msk\n",
    "    phases = ['ED', 'MS', 'ES', 'PF', 'MD']\n",
    "    t1 = time.time()\n",
    "    inputs, outputs = generator.__getitem__(batch)\n",
    "    onehot, gt_len_msk = np.split(outputs, indices_or_sections=2,axis=1)\n",
    "    logging.info('Preprocessing took: {:0.3f}'.format(time.time() - t1))\n",
    "    print(inputs.shape, outputs.shape)\n",
    "    print('selected batch : ' + str(batch))\n",
    "    if show_overview:\n",
    "\n",
    "        show_phases(outputs)\n",
    "        plt.show()\n",
    "        \n",
    "        selected_input = inputs[im]\n",
    "        selected_output = onehot[im][0]\n",
    "        selected_gt_len_msk = gt_len_msk[im][0]\n",
    "        selected_gtlen = int(np.sum((selected_gt_len_msk[0]),axis=0))\n",
    "        logging.info('GT length: {}'.format(selected_gtlen))\n",
    "        logging.debug('pad: \\n{}'.format(selected_output))\n",
    "        \n",
    "        \"\"\"f, axs = plt.subplots(1,2,figsize=(12,4))\n",
    "        i = 0\n",
    "        temp_y = selected_output\n",
    "        print(np.sum(temp_y, axis=1))\n",
    "\n",
    "        # ind_gt = np.argmax(temp_y[:selected_gtlen,:], axis=0) # before we had the gt mask\n",
    "        ind_gt = np.argmax(temp_y * selected_gt_len_msk, axis=1)\n",
    "        axs[0].title.set_text('y')\n",
    "        axs[0].set_xticks(ind_gt, minor=False)\n",
    "        axs[0].set_yticks([0,1,2,3,4], minor=False)\n",
    "        axs[0].set_yticklabels(phases, rotation =45)\n",
    "        axs[0].imshow(temp_y, aspect='auto', )\n",
    "        axs[1].hist(selected_input.flatten(), bins=np.linspace(0.1,1,20))\n",
    "        f.tight_layout()\n",
    "        plt.show()\"\"\"\n",
    "    \n",
    "    if show_input_vol:\n",
    "        f, axs = plt.subplots(1,1,figsize=(4,4))\n",
    "        axs.hist(selected_input.flatten(), bins=np.linspace(0.1,1,20))\n",
    "        f.tight_layout()\n",
    "        plt.show()\n",
    "        \n",
    "        list(map(lambda x: show_2D_or_3D(img=x, interpol='bilinear',dpi=100,f_size=(5,5)), selected_input[::slice_n]))\n",
    "        \n",
    "        \n",
    "    if save:\n",
    "        ensure_dir(filepath)\n",
    "        np.save(os.path.join(filepath, filename), x[im])\n",
    "        logging.info('saved to {}'.format(os.path.join(filepath, filename)))\n"
   ]
  },
  {
   "cell_type": "code",
   "execution_count": 19,
   "metadata": {},
   "outputs": [
    {
     "data": {
      "text/plain": [
       "'for b in range(len(batch_generator)):\\n    print(b)\\n    for im in range(BATCHSIZE):\\n        select_image_in_batch(batch=b,im=im, slice_n=5, show_overview=True, show_input_vol=True)'"
      ]
     },
     "execution_count": 19,
     "metadata": {},
     "output_type": "execute_result"
    }
   ],
   "source": [
    "# test if all batches are processable\n",
    "\"\"\"for b in range(len(batch_generator)):\n",
    "    print(b)\n",
    "    for im in range(BATCHSIZE):\n",
    "        select_image_in_batch(batch=b,im=im, slice_n=5, show_overview=True, show_input_vol=True)\"\"\""
   ]
  },
  {
   "cell_type": "code",
   "execution_count": 20,
   "metadata": {},
   "outputs": [
    {
     "name": "stdout",
     "output_type": "stream",
     "text": [
      "Shape after the temporal encoder\n",
      "(None, 36, 8, 4, 4, 512)\n",
      "Shape after GAP\n",
      "(None, 36, 512)\n",
      "Shape after Bi-LSTM layer\n",
      "(None, 36, 512)\n",
      "Shape after final conv layer\n",
      "(None, 36, 5)\n"
     ]
    }
   ],
   "source": [
    "from src.models.Models import create_PhaseRegressionModel\n",
    "model = create_PhaseRegressionModel(config)"
   ]
  },
  {
   "cell_type": "code",
   "execution_count": 21,
   "metadata": {},
   "outputs": [
    {
     "data": {
      "image/png": "[encoded data removed]",
      "text/plain": [
       "<IPython.core.display.Image object>"
      ]
     },
     "execution_count": 21,
     "metadata": {},
     "output_type": "execute_result"
    }
   ],
   "source": [
    "# write the model summary to a txt file\n",
    "# Open the file\n",
    "with open(os.path.join(EXP_PATH, 'model_summary.txt') ,'w') as fh:\n",
    "    # Pass the file handle in as a lambda function to make it callable\n",
    "    model.summary(print_fn=lambda x: fh.write(x + '\\n'))\n",
    "    \n",
    "tf.keras.utils.plot_model(\n",
    "    model, show_shapes=True,\n",
    "    to_file=os.path.join(EXP_PATH, 'model.png'),\n",
    "    show_layer_names=True, \n",
    "    rankdir='TB', \n",
    "    expand_nested=True, dpi=96\n",
    ")\n",
    "    \n",
    "#model.summary(line_length=150)"
   ]
  },
  {
   "cell_type": "code",
   "execution_count": 22,
   "metadata": {},
   "outputs": [
    {
     "name": "stderr",
     "output_type": "stream",
     "text": [
      "2021-03-16 15:09:09,489 INFO feed 4 Tensorboard is ready\n"
     ]
    },
    {
     "name": "stdout",
     "output_type": "stream",
     "text": [
      "Epoch 1/100\n",
      "26/26 [==============================] - ETA: 0s - loss: 1.1796 - mse_wrapper: 1.1796 - ca_wrapper: 0.4030 - meandiff: 13.7356"
     ]
    },
    {
     "name": "stderr",
     "output_type": "stream",
     "text": [
      "2021-03-16 15:10:12,834 INFO (4, 2, 36, 5)\n",
      "2021-03-16 15:10:13,378 INFO (4, 2, 36, 5)\n"
     ]
    },
    {
     "name": "stdout",
     "output_type": "stream",
     "text": [
      "\n",
      "Epoch 00001: loss improved from inf to 1.17962, saving model to exp/cv_baseline_temp/8_64_64__8_2_2_4tenc_conv1_MSE_NOnorm_augshiftrot_taug_3_batch8/2021-03-16_15_09/model/model.h5\n",
      "26/26 [==============================] - 36s 1s/step - loss: 1.1796 - mse_wrapper: 1.1796 - ca_wrapper: 0.4030 - meandiff: 13.7356 - val_loss: 5.6683 - val_mse_wrapper: 5.6683 - val_ca_wrapper: 0.2938 - val_meandiff: 20.8438 - lr: 1.0000e-04\n",
      "Epoch 2/100\n",
      "26/26 [==============================] - ETA: 0s - loss: 0.9249 - mse_wrapper: 0.9249 - ca_wrapper: 0.5514 - meandiff: 10.4808"
     ]
    },
    {
     "name": "stderr",
     "output_type": "stream",
     "text": [
      "2021-03-16 15:10:47,119 INFO (4, 2, 36, 5)\n",
      "2021-03-16 15:10:47,660 INFO (4, 2, 36, 5)\n"
     ]
    },
    {
     "name": "stdout",
     "output_type": "stream",
     "text": [
      "\n",
      "Epoch 00002: loss improved from 1.17962 to 0.92488, saving model to exp/cv_baseline_temp/8_64_64__8_2_2_4tenc_conv1_MSE_NOnorm_augshiftrot_taug_3_batch8/2021-03-16_15_09/model/model.h5\n",
      "26/26 [==============================] - 32s 1s/step - loss: 0.9249 - mse_wrapper: 0.9249 - ca_wrapper: 0.5514 - meandiff: 10.4808 - val_loss: 1.5367 - val_mse_wrapper: 1.5367 - val_ca_wrapper: 0.4514 - val_meandiff: 10.8438 - lr: 1.0000e-04\n",
      "Epoch 3/100\n",
      "26/26 [==============================] - ETA: 0s - loss: 0.7705 - mse_wrapper: 0.7705 - ca_wrapper: 0.6752 - meandiff: 8.7019"
     ]
    },
    {
     "name": "stderr",
     "output_type": "stream",
     "text": [
      "2021-03-16 15:11:23,134 INFO (4, 2, 36, 5)\n",
      "2021-03-16 15:11:23,655 INFO (4, 2, 36, 5)\n"
     ]
    },
    {
     "name": "stdout",
     "output_type": "stream",
     "text": [
      "\n",
      "Epoch 00003: loss improved from 0.92488 to 0.77051, saving model to exp/cv_baseline_temp/8_64_64__8_2_2_4tenc_conv1_MSE_NOnorm_augshiftrot_taug_3_batch8/2021-03-16_15_09/model/model.h5\n",
      "26/26 [==============================] - 34s 1s/step - loss: 0.7705 - mse_wrapper: 0.7705 - ca_wrapper: 0.6752 - meandiff: 8.7019 - val_loss: 0.9283 - val_mse_wrapper: 0.9283 - val_ca_wrapper: 0.7083 - val_meandiff: 6.2031 - lr: 1.0000e-04\n",
      "Epoch 4/100\n",
      "26/26 [==============================] - ETA: 0s - loss: 0.7156 - mse_wrapper: 0.7156 - ca_wrapper: 0.7089 - meandiff: 7.1250"
     ]
    },
    {
     "name": "stderr",
     "output_type": "stream",
     "text": [
      "2021-03-16 15:11:59,513 INFO (4, 2, 36, 5)\n",
      "2021-03-16 15:12:00,352 INFO (4, 2, 36, 5)\n"
     ]
    },
    {
     "name": "stdout",
     "output_type": "stream",
     "text": [
      "\n",
      "Epoch 00004: loss improved from 0.77051 to 0.71560, saving model to exp/cv_baseline_temp/8_64_64__8_2_2_4tenc_conv1_MSE_NOnorm_augshiftrot_taug_3_batch8/2021-03-16_15_09/model/model.h5\n",
      "26/26 [==============================] - 35s 1s/step - loss: 0.7156 - mse_wrapper: 0.7156 - ca_wrapper: 0.7089 - meandiff: 7.1250 - val_loss: 1.0164 - val_mse_wrapper: 1.0164 - val_ca_wrapper: 0.7352 - val_meandiff: 5.6875 - lr: 1.0000e-04\n",
      "Epoch 5/100\n",
      "26/26 [==============================] - ETA: 0s - loss: 0.6417 - mse_wrapper: 0.6417 - ca_wrapper: 0.7369 - meandiff: 6.2260\n",
      "Epoch 00005: loss improved from 0.71560 to 0.64174, saving model to exp/cv_baseline_temp/8_64_64__8_2_2_4tenc_conv1_MSE_NOnorm_augshiftrot_taug_3_batch8/2021-03-16_15_09/model/model.h5\n",
      "26/26 [==============================] - 34s 1s/step - loss: 0.6417 - mse_wrapper: 0.6417 - ca_wrapper: 0.7369 - meandiff: 6.2260 - val_loss: 0.8727 - val_mse_wrapper: 0.8727 - val_ca_wrapper: 0.7391 - val_meandiff: 5.0938 - lr: 1.0000e-04\n",
      "Epoch 6/100\n",
      "26/26 [==============================] - ETA: 0s - loss: 0.6329 - mse_wrapper: 0.6329 - ca_wrapper: 0.7441 - meandiff: 6.0721"
     ]
    },
    {
     "name": "stderr",
     "output_type": "stream",
     "text": [
      "2021-03-16 15:13:11,990 INFO (4, 2, 36, 5)\n",
      "2021-03-16 15:13:12,535 INFO (4, 2, 36, 5)\n"
     ]
    },
    {
     "name": "stdout",
     "output_type": "stream",
     "text": [
      "\n",
      "Epoch 00006: loss improved from 0.64174 to 0.63285, saving model to exp/cv_baseline_temp/8_64_64__8_2_2_4tenc_conv1_MSE_NOnorm_augshiftrot_taug_3_batch8/2021-03-16_15_09/model/model.h5\n",
      "26/26 [==============================] - 35s 1s/step - loss: 0.6329 - mse_wrapper: 0.6329 - ca_wrapper: 0.7441 - meandiff: 6.0721 - val_loss: 1.8115 - val_mse_wrapper: 1.8115 - val_ca_wrapper: 0.6523 - val_meandiff: 6.0156 - lr: 1.0000e-04\n",
      "Epoch 7/100\n",
      "26/26 [==============================] - ETA: 0s - loss: 0.5982 - mse_wrapper: 0.5982 - ca_wrapper: 0.7644 - meandiff: 5.5240\n",
      "Epoch 00007: loss improved from 0.63285 to 0.59823, saving model to exp/cv_baseline_temp/8_64_64__8_2_2_4tenc_conv1_MSE_NOnorm_augshiftrot_taug_3_batch8/2021-03-16_15_09/model/model.h5\n",
      "26/26 [==============================] - 34s 1s/step - loss: 0.5982 - mse_wrapper: 0.5982 - ca_wrapper: 0.7644 - meandiff: 5.5240 - val_loss: 0.7607 - val_mse_wrapper: 0.7607 - val_ca_wrapper: 0.7930 - val_meandiff: 5.2500 - lr: 1.0000e-04\n",
      "Epoch 8/100\n",
      "26/26 [==============================] - ETA: 0s - loss: 0.5560 - mse_wrapper: 0.5560 - ca_wrapper: 0.7814 - meandiff: 5.1058"
     ]
    },
    {
     "name": "stderr",
     "output_type": "stream",
     "text": [
      "2021-03-16 15:14:25,706 INFO (4, 2, 36, 5)\n",
      "2021-03-16 15:14:26,248 INFO (4, 2, 36, 5)\n"
     ]
    },
    {
     "name": "stdout",
     "output_type": "stream",
     "text": [
      "\n",
      "Epoch 00008: loss improved from 0.59823 to 0.55602, saving model to exp/cv_baseline_temp/8_64_64__8_2_2_4tenc_conv1_MSE_NOnorm_augshiftrot_taug_3_batch8/2021-03-16_15_09/model/model.h5\n",
      "26/26 [==============================] - 35s 1s/step - loss: 0.5560 - mse_wrapper: 0.5560 - ca_wrapper: 0.7814 - meandiff: 5.1058 - val_loss: 1.3230 - val_mse_wrapper: 1.3230 - val_ca_wrapper: 0.6719 - val_meandiff: 4.9844 - lr: 1.0000e-04\n",
      "Epoch 9/100\n",
      "26/26 [==============================] - ETA: 0s - loss: 0.5537 - mse_wrapper: 0.5537 - ca_wrapper: 0.7792 - meandiff: 4.7019\n",
      "Epoch 00009: loss improved from 0.55602 to 0.55370, saving model to exp/cv_baseline_temp/8_64_64__8_2_2_4tenc_conv1_MSE_NOnorm_augshiftrot_taug_3_batch8/2021-03-16_15_09/model/model.h5\n",
      "26/26 [==============================] - 34s 1s/step - loss: 0.5537 - mse_wrapper: 0.5537 - ca_wrapper: 0.7792 - meandiff: 4.7019 - val_loss: 0.7332 - val_mse_wrapper: 0.7332 - val_ca_wrapper: 0.7561 - val_meandiff: 5.5781 - lr: 1.0000e-04\n",
      "Epoch 10/100\n",
      "26/26 [==============================] - ETA: 0s - loss: 0.5393 - mse_wrapper: 0.5393 - ca_wrapper: 0.7899 - meandiff: 4.7404"
     ]
    },
    {
     "name": "stderr",
     "output_type": "stream",
     "text": [
      "2021-03-16 15:15:37,403 INFO (4, 2, 36, 5)\n",
      "2021-03-16 15:15:37,926 INFO (4, 2, 36, 5)\n"
     ]
    },
    {
     "name": "stdout",
     "output_type": "stream",
     "text": [
      "\n",
      "Epoch 00010: loss improved from 0.55370 to 0.53926, saving model to exp/cv_baseline_temp/8_64_64__8_2_2_4tenc_conv1_MSE_NOnorm_augshiftrot_taug_3_batch8/2021-03-16_15_09/model/model.h5\n",
      "26/26 [==============================] - 35s 1s/step - loss: 0.5393 - mse_wrapper: 0.5393 - ca_wrapper: 0.7899 - meandiff: 4.7404 - val_loss: 0.7456 - val_mse_wrapper: 0.7456 - val_ca_wrapper: 0.7509 - val_meandiff: 4.0312 - lr: 1.0000e-04\n",
      "Epoch 11/100\n",
      "26/26 [==============================] - ETA: 0s - loss: 0.5344 - mse_wrapper: 0.5344 - ca_wrapper: 0.7869 - meandiff: 4.4279\n",
      "Epoch 00011: loss improved from 0.53926 to 0.53437, saving model to exp/cv_baseline_temp/8_64_64__8_2_2_4tenc_conv1_MSE_NOnorm_augshiftrot_taug_3_batch8/2021-03-16_15_09/model/model.h5\n",
      "26/26 [==============================] - 34s 1s/step - loss: 0.5344 - mse_wrapper: 0.5344 - ca_wrapper: 0.7869 - meandiff: 4.4279 - val_loss: 1.4991 - val_mse_wrapper: 1.4991 - val_ca_wrapper: 0.5174 - val_meandiff: 4.7656 - lr: 1.0000e-04\n",
      "Epoch 12/100\n",
      "26/26 [==============================] - ETA: 0s - loss: 0.5126 - mse_wrapper: 0.5126 - ca_wrapper: 0.7970 - meandiff: 4.3269"
     ]
    },
    {
     "name": "stderr",
     "output_type": "stream",
     "text": [
      "2021-03-16 15:16:49,432 INFO (4, 2, 36, 5)\n",
      "2021-03-16 15:16:49,976 INFO (4, 2, 36, 5)\n"
     ]
    },
    {
     "name": "stdout",
     "output_type": "stream",
     "text": [
      "\n",
      "Epoch 00012: loss improved from 0.53437 to 0.51259, saving model to exp/cv_baseline_temp/8_64_64__8_2_2_4tenc_conv1_MSE_NOnorm_augshiftrot_taug_3_batch8/2021-03-16_15_09/model/model.h5\n",
      "26/26 [==============================] - 35s 1s/step - loss: 0.5126 - mse_wrapper: 0.5126 - ca_wrapper: 0.7970 - meandiff: 4.3269 - val_loss: 0.8415 - val_mse_wrapper: 0.8415 - val_ca_wrapper: 0.7188 - val_meandiff: 4.5312 - lr: 1.0000e-04\n",
      "Epoch 13/100\n",
      "26/26 [==============================] - ETA: 0s - loss: 0.5160 - mse_wrapper: 0.5160 - ca_wrapper: 0.7969 - meandiff: 4.3558\n",
      "Epoch 00013: loss did not improve from 0.51259\n",
      "26/26 [==============================] - 34s 1s/step - loss: 0.5160 - mse_wrapper: 0.5160 - ca_wrapper: 0.7969 - meandiff: 4.3558 - val_loss: 0.7290 - val_mse_wrapper: 0.7290 - val_ca_wrapper: 0.7526 - val_meandiff: 4.1094 - lr: 1.0000e-04\n",
      "Epoch 14/100\n",
      "26/26 [==============================] - ETA: 0s - loss: 0.4929 - mse_wrapper: 0.4929 - ca_wrapper: 0.8064 - meandiff: 4.4135"
     ]
    },
    {
     "name": "stderr",
     "output_type": "stream",
     "text": [
      "2021-03-16 15:18:01,597 INFO (4, 2, 36, 5)\n",
      "2021-03-16 15:18:02,151 INFO (4, 2, 36, 5)\n"
     ]
    },
    {
     "name": "stdout",
     "output_type": "stream",
     "text": [
      "\n",
      "Epoch 00014: loss improved from 0.51259 to 0.49287, saving model to exp/cv_baseline_temp/8_64_64__8_2_2_4tenc_conv1_MSE_NOnorm_augshiftrot_taug_3_batch8/2021-03-16_15_09/model/model.h5\n",
      "26/26 [==============================] - 34s 1s/step - loss: 0.4929 - mse_wrapper: 0.4929 - ca_wrapper: 0.8064 - meandiff: 4.4135 - val_loss: 0.8912 - val_mse_wrapper: 0.8912 - val_ca_wrapper: 0.7279 - val_meandiff: 5.0312 - lr: 1.0000e-04\n",
      "Epoch 15/100\n",
      "26/26 [==============================] - ETA: 0s - loss: 0.5056 - mse_wrapper: 0.5056 - ca_wrapper: 0.7965 - meandiff: 4.2837\n",
      "Epoch 00015: loss did not improve from 0.49287\n",
      "26/26 [==============================] - 33s 1s/step - loss: 0.5056 - mse_wrapper: 0.5056 - ca_wrapper: 0.7965 - meandiff: 4.2837 - val_loss: 0.5910 - val_mse_wrapper: 0.5910 - val_ca_wrapper: 0.7899 - val_meandiff: 4.6562 - lr: 1.0000e-04\n",
      "Epoch 16/100\n",
      "26/26 [==============================] - ETA: 0s - loss: 0.4876 - mse_wrapper: 0.4876 - ca_wrapper: 0.8038 - meandiff: 4.1923"
     ]
    },
    {
     "name": "stderr",
     "output_type": "stream",
     "text": [
      "2021-03-16 15:19:12,794 INFO (4, 2, 36, 5)\n",
      "2021-03-16 15:19:13,386 INFO (4, 2, 36, 5)\n"
     ]
    },
    {
     "name": "stdout",
     "output_type": "stream",
     "text": [
      "\n",
      "Epoch 00016: loss improved from 0.49287 to 0.48756, saving model to exp/cv_baseline_temp/8_64_64__8_2_2_4tenc_conv1_MSE_NOnorm_augshiftrot_taug_3_batch8/2021-03-16_15_09/model/model.h5\n",
      "26/26 [==============================] - 34s 1s/step - loss: 0.4876 - mse_wrapper: 0.4876 - ca_wrapper: 0.8038 - meandiff: 4.1923 - val_loss: 1.0000 - val_mse_wrapper: 1.0000 - val_ca_wrapper: 0.7574 - val_meandiff: 4.6406 - lr: 1.0000e-04\n",
      "Epoch 17/100\n",
      "26/26 [==============================] - ETA: 0s - loss: 0.4838 - mse_wrapper: 0.4838 - ca_wrapper: 0.8042 - meandiff: 4.4279\n",
      "Epoch 00017: loss improved from 0.48756 to 0.48380, saving model to exp/cv_baseline_temp/8_64_64__8_2_2_4tenc_conv1_MSE_NOnorm_augshiftrot_taug_3_batch8/2021-03-16_15_09/model/model.h5\n",
      "26/26 [==============================] - 33s 1s/step - loss: 0.4838 - mse_wrapper: 0.4838 - ca_wrapper: 0.8042 - meandiff: 4.4279 - val_loss: 0.9168 - val_mse_wrapper: 0.9168 - val_ca_wrapper: 0.7795 - val_meandiff: 4.2812 - lr: 1.0000e-04\n",
      "Epoch 18/100\n",
      "26/26 [==============================] - ETA: 0s - loss: 0.4698 - mse_wrapper: 0.4698 - ca_wrapper: 0.8134 - meandiff: 3.9856"
     ]
    },
    {
     "name": "stderr",
     "output_type": "stream",
     "text": [
      "2021-03-16 15:20:23,188 INFO (4, 2, 36, 5)\n",
      "2021-03-16 15:20:23,764 INFO (4, 2, 36, 5)\n"
     ]
    },
    {
     "name": "stdout",
     "output_type": "stream",
     "text": [
      "\n",
      "Epoch 00018: loss improved from 0.48380 to 0.46976, saving model to exp/cv_baseline_temp/8_64_64__8_2_2_4tenc_conv1_MSE_NOnorm_augshiftrot_taug_3_batch8/2021-03-16_15_09/model/model.h5\n",
      "26/26 [==============================] - 34s 1s/step - loss: 0.4698 - mse_wrapper: 0.4698 - ca_wrapper: 0.8134 - meandiff: 3.9856 - val_loss: 1.0051 - val_mse_wrapper: 1.0051 - val_ca_wrapper: 0.6719 - val_meandiff: 4.9219 - lr: 1.0000e-04\n",
      "Epoch 19/100\n",
      "26/26 [==============================] - ETA: 0s - loss: 0.4739 - mse_wrapper: 0.4739 - ca_wrapper: 0.8108 - meandiff: 4.1010\n",
      "Epoch 00019: loss did not improve from 0.46976\n",
      "26/26 [==============================] - 33s 1s/step - loss: 0.4739 - mse_wrapper: 0.4739 - ca_wrapper: 0.8108 - meandiff: 4.1010 - val_loss: 0.9059 - val_mse_wrapper: 0.9059 - val_ca_wrapper: 0.7348 - val_meandiff: 4.4062 - lr: 1.0000e-04\n",
      "Epoch 20/100\n",
      "26/26 [==============================] - ETA: 0s - loss: 0.4605 - mse_wrapper: 0.4605 - ca_wrapper: 0.8177 - meandiff: 4.0481"
     ]
    },
    {
     "name": "stderr",
     "output_type": "stream",
     "text": [
      "2021-03-16 15:21:34,296 INFO (4, 2, 36, 5)\n",
      "2021-03-16 15:21:34,860 INFO (4, 2, 36, 5)\n"
     ]
    },
    {
     "name": "stdout",
     "output_type": "stream",
     "text": [
      "\n",
      "Epoch 00020: loss improved from 0.46976 to 0.46055, saving model to exp/cv_baseline_temp/8_64_64__8_2_2_4tenc_conv1_MSE_NOnorm_augshiftrot_taug_3_batch8/2021-03-16_15_09/model/model.h5\n",
      "26/26 [==============================] - 34s 1s/step - loss: 0.4605 - mse_wrapper: 0.4605 - ca_wrapper: 0.8177 - meandiff: 4.0481 - val_loss: 0.6684 - val_mse_wrapper: 0.6684 - val_ca_wrapper: 0.7765 - val_meandiff: 4.1406 - lr: 1.0000e-04\n",
      "Epoch 21/100\n",
      "26/26 [==============================] - ETA: 0s - loss: 0.4560 - mse_wrapper: 0.4560 - ca_wrapper: 0.8209 - meandiff: 3.9663\n",
      "Epoch 00021: loss improved from 0.46055 to 0.45605, saving model to exp/cv_baseline_temp/8_64_64__8_2_2_4tenc_conv1_MSE_NOnorm_augshiftrot_taug_3_batch8/2021-03-16_15_09/model/model.h5\n",
      "26/26 [==============================] - 33s 1s/step - loss: 0.4560 - mse_wrapper: 0.4560 - ca_wrapper: 0.8209 - meandiff: 3.9663 - val_loss: 0.9242 - val_mse_wrapper: 0.9242 - val_ca_wrapper: 0.7387 - val_meandiff: 4.7656 - lr: 1.0000e-04\n",
      "Epoch 22/100\n",
      "26/26 [==============================] - ETA: 0s - loss: 0.4592 - mse_wrapper: 0.4592 - ca_wrapper: 0.8094 - meandiff: 3.9615"
     ]
    },
    {
     "name": "stderr",
     "output_type": "stream",
     "text": [
      "2021-03-16 15:22:45,031 INFO (4, 2, 36, 5)\n",
      "2021-03-16 15:22:45,567 INFO (4, 2, 36, 5)\n"
     ]
    },
    {
     "name": "stdout",
     "output_type": "stream",
     "text": [
      "\n",
      "Epoch 00022: loss did not improve from 0.45605\n",
      "26/26 [==============================] - 34s 1s/step - loss: 0.4592 - mse_wrapper: 0.4592 - ca_wrapper: 0.8094 - meandiff: 3.9615 - val_loss: 0.9859 - val_mse_wrapper: 0.9859 - val_ca_wrapper: 0.7122 - val_meandiff: 4.2969 - lr: 1.0000e-04\n",
      "Epoch 23/100\n",
      "26/26 [==============================] - ETA: 0s - loss: 0.4410 - mse_wrapper: 0.4410 - ca_wrapper: 0.8188 - meandiff: 3.7067\n",
      "Epoch 00023: loss improved from 0.45605 to 0.44097, saving model to exp/cv_baseline_temp/8_64_64__8_2_2_4tenc_conv1_MSE_NOnorm_augshiftrot_taug_3_batch8/2021-03-16_15_09/model/model.h5\n",
      "26/26 [==============================] - 33s 1s/step - loss: 0.4410 - mse_wrapper: 0.4410 - ca_wrapper: 0.8188 - meandiff: 3.7067 - val_loss: 0.7940 - val_mse_wrapper: 0.7940 - val_ca_wrapper: 0.7643 - val_meandiff: 4.2656 - lr: 1.0000e-04\n",
      "Epoch 24/100\n",
      "26/26 [==============================] - ETA: 0s - loss: 0.4434 - mse_wrapper: 0.4434 - ca_wrapper: 0.8233 - meandiff: 3.8750"
     ]
    },
    {
     "name": "stderr",
     "output_type": "stream",
     "text": [
      "2021-03-16 15:23:55,623 INFO (4, 2, 36, 5)\n",
      "2021-03-16 15:23:56,141 INFO (4, 2, 36, 5)\n"
     ]
    },
    {
     "name": "stdout",
     "output_type": "stream",
     "text": [
      "\n",
      "Epoch 00024: loss did not improve from 0.44097\n",
      "26/26 [==============================] - 34s 1s/step - loss: 0.4434 - mse_wrapper: 0.4434 - ca_wrapper: 0.8233 - meandiff: 3.8750 - val_loss: 0.9180 - val_mse_wrapper: 0.9180 - val_ca_wrapper: 0.7552 - val_meandiff: 4.2812 - lr: 1.0000e-04\n",
      "Epoch 25/100\n",
      "26/26 [==============================] - ETA: 0s - loss: 0.4333 - mse_wrapper: 0.4333 - ca_wrapper: 0.8267 - meandiff: 3.7452\n",
      "Epoch 00025: loss improved from 0.44097 to 0.43331, saving model to exp/cv_baseline_temp/8_64_64__8_2_2_4tenc_conv1_MSE_NOnorm_augshiftrot_taug_3_batch8/2021-03-16_15_09/model/model.h5\n",
      "26/26 [==============================] - 33s 1s/step - loss: 0.4333 - mse_wrapper: 0.4333 - ca_wrapper: 0.8267 - meandiff: 3.7452 - val_loss: 0.7156 - val_mse_wrapper: 0.7156 - val_ca_wrapper: 0.7882 - val_meandiff: 4.7344 - lr: 1.0000e-04\n",
      "Epoch 26/100\n",
      "26/26 [==============================] - ETA: 0s - loss: 0.4435 - mse_wrapper: 0.4435 - ca_wrapper: 0.8236 - meandiff: 3.8365"
     ]
    },
    {
     "name": "stderr",
     "output_type": "stream",
     "text": [
      "2021-03-16 15:25:06,566 INFO (4, 2, 36, 5)\n",
      "2021-03-16 15:25:07,127 INFO (4, 2, 36, 5)\n"
     ]
    },
    {
     "name": "stdout",
     "output_type": "stream",
     "text": [
      "\n",
      "Epoch 00026: loss did not improve from 0.43331\n",
      "26/26 [==============================] - 34s 1s/step - loss: 0.4435 - mse_wrapper: 0.4435 - ca_wrapper: 0.8236 - meandiff: 3.8365 - val_loss: 0.6901 - val_mse_wrapper: 0.6901 - val_ca_wrapper: 0.7999 - val_meandiff: 4.2500 - lr: 1.0000e-04\n",
      "Epoch 27/100\n",
      "26/26 [==============================] - ETA: 0s - loss: 0.4338 - mse_wrapper: 0.4338 - ca_wrapper: 0.8220 - meandiff: 3.6875\n",
      "Epoch 00027: loss did not improve from 0.43331\n",
      "26/26 [==============================] - 33s 1s/step - loss: 0.4338 - mse_wrapper: 0.4338 - ca_wrapper: 0.8220 - meandiff: 3.6875 - val_loss: 0.7103 - val_mse_wrapper: 0.7103 - val_ca_wrapper: 0.7956 - val_meandiff: 4.3594 - lr: 1.0000e-04\n",
      "Epoch 28/100\n",
      "26/26 [==============================] - ETA: 0s - loss: 0.4255 - mse_wrapper: 0.4255 - ca_wrapper: 0.8311 - meandiff: 3.9423"
     ]
    },
    {
     "name": "stderr",
     "output_type": "stream",
     "text": [
      "2021-03-16 15:26:16,865 INFO (4, 2, 36, 5)\n",
      "2021-03-16 15:26:17,419 INFO (4, 2, 36, 5)\n"
     ]
    },
    {
     "name": "stdout",
     "output_type": "stream",
     "text": [
      "\n",
      "Epoch 00028: loss improved from 0.43331 to 0.42553, saving model to exp/cv_baseline_temp/8_64_64__8_2_2_4tenc_conv1_MSE_NOnorm_augshiftrot_taug_3_batch8/2021-03-16_15_09/model/model.h5\n",
      "26/26 [==============================] - 34s 1s/step - loss: 0.4255 - mse_wrapper: 0.4255 - ca_wrapper: 0.8311 - meandiff: 3.9423 - val_loss: 0.6791 - val_mse_wrapper: 0.6791 - val_ca_wrapper: 0.7448 - val_meandiff: 4.3438 - lr: 1.0000e-04\n",
      "Epoch 29/100\n",
      "26/26 [==============================] - ETA: 0s - loss: 0.4424 - mse_wrapper: 0.4424 - ca_wrapper: 0.8204 - meandiff: 3.5962\n",
      "Epoch 00029: loss did not improve from 0.42553\n",
      "26/26 [==============================] - 33s 1s/step - loss: 0.4424 - mse_wrapper: 0.4424 - ca_wrapper: 0.8204 - meandiff: 3.5962 - val_loss: 1.2679 - val_mse_wrapper: 1.2679 - val_ca_wrapper: 0.6819 - val_meandiff: 5.0469 - lr: 1.0000e-04\n",
      "Epoch 30/100\n",
      "26/26 [==============================] - ETA: 0s - loss: 0.4419 - mse_wrapper: 0.4419 - ca_wrapper: 0.8181 - meandiff: 3.7500"
     ]
    },
    {
     "name": "stderr",
     "output_type": "stream",
     "text": [
      "2021-03-16 15:27:27,479 INFO (4, 2, 36, 5)\n",
      "2021-03-16 15:27:27,996 INFO (4, 2, 36, 5)\n"
     ]
    },
    {
     "name": "stdout",
     "output_type": "stream",
     "text": [
      "\n",
      "Epoch 00030: loss did not improve from 0.42553\n",
      "26/26 [==============================] - 34s 1s/step - loss: 0.4419 - mse_wrapper: 0.4419 - ca_wrapper: 0.8181 - meandiff: 3.7500 - val_loss: 0.6640 - val_mse_wrapper: 0.6640 - val_ca_wrapper: 0.7578 - val_meandiff: 4.4844 - lr: 1.0000e-04\n",
      "Epoch 31/100\n",
      "26/26 [==============================] - ETA: 0s - loss: 0.4318 - mse_wrapper: 0.4318 - ca_wrapper: 0.8237 - meandiff: 3.6442\n",
      "Epoch 00031: loss did not improve from 0.42553\n",
      "26/26 [==============================] - 33s 1s/step - loss: 0.4318 - mse_wrapper: 0.4318 - ca_wrapper: 0.8237 - meandiff: 3.6442 - val_loss: 0.6643 - val_mse_wrapper: 0.6643 - val_ca_wrapper: 0.7817 - val_meandiff: 4.1562 - lr: 1.0000e-04\n",
      "Epoch 32/100\n",
      "26/26 [==============================] - ETA: 0s - loss: 0.4186 - mse_wrapper: 0.4186 - ca_wrapper: 0.8289 - meandiff: 3.7404"
     ]
    },
    {
     "name": "stderr",
     "output_type": "stream",
     "text": [
      "2021-03-16 15:28:38,010 INFO (4, 2, 36, 5)\n",
      "2021-03-16 15:28:38,531 INFO (4, 2, 36, 5)\n"
     ]
    },
    {
     "name": "stdout",
     "output_type": "stream",
     "text": [
      "\n",
      "Epoch 00032: loss improved from 0.42553 to 0.41857, saving model to exp/cv_baseline_temp/8_64_64__8_2_2_4tenc_conv1_MSE_NOnorm_augshiftrot_taug_3_batch8/2021-03-16_15_09/model/model.h5\n",
      "26/26 [==============================] - 34s 1s/step - loss: 0.4186 - mse_wrapper: 0.4186 - ca_wrapper: 0.8289 - meandiff: 3.7404 - val_loss: 0.6619 - val_mse_wrapper: 0.6619 - val_ca_wrapper: 0.7869 - val_meandiff: 4.2500 - lr: 1.0000e-04\n",
      "Epoch 33/100\n",
      "26/26 [==============================] - ETA: 0s - loss: 0.4114 - mse_wrapper: 0.4114 - ca_wrapper: 0.8335 - meandiff: 3.4904\n",
      "Epoch 00033: loss improved from 0.41857 to 0.41135, saving model to exp/cv_baseline_temp/8_64_64__8_2_2_4tenc_conv1_MSE_NOnorm_augshiftrot_taug_3_batch8/2021-03-16_15_09/model/model.h5\n",
      "26/26 [==============================] - 33s 1s/step - loss: 0.4114 - mse_wrapper: 0.4114 - ca_wrapper: 0.8335 - meandiff: 3.4904 - val_loss: 0.6835 - val_mse_wrapper: 0.6835 - val_ca_wrapper: 0.7969 - val_meandiff: 3.8125 - lr: 1.0000e-04\n",
      "Epoch 34/100\n",
      "26/26 [==============================] - ETA: 0s - loss: 0.4084 - mse_wrapper: 0.4084 - ca_wrapper: 0.8307 - meandiff: 3.5337"
     ]
    },
    {
     "name": "stderr",
     "output_type": "stream",
     "text": [
      "2021-03-16 15:29:48,668 INFO (4, 2, 36, 5)\n",
      "2021-03-16 15:29:49,203 INFO (4, 2, 36, 5)\n"
     ]
    },
    {
     "name": "stdout",
     "output_type": "stream",
     "text": [
      "\n",
      "Epoch 00034: loss improved from 0.41135 to 0.40843, saving model to exp/cv_baseline_temp/8_64_64__8_2_2_4tenc_conv1_MSE_NOnorm_augshiftrot_taug_3_batch8/2021-03-16_15_09/model/model.h5\n",
      "26/26 [==============================] - 34s 1s/step - loss: 0.4084 - mse_wrapper: 0.4084 - ca_wrapper: 0.8307 - meandiff: 3.5337 - val_loss: 0.7441 - val_mse_wrapper: 0.7441 - val_ca_wrapper: 0.7817 - val_meandiff: 4.0469 - lr: 1.0000e-04\n",
      "Epoch 35/100\n",
      "26/26 [==============================] - ETA: 0s - loss: 0.4004 - mse_wrapper: 0.4004 - ca_wrapper: 0.8292 - meandiff: 3.5817\n",
      "Epoch 00035: loss improved from 0.40843 to 0.40042, saving model to exp/cv_baseline_temp/8_64_64__8_2_2_4tenc_conv1_MSE_NOnorm_augshiftrot_taug_3_batch8/2021-03-16_15_09/model/model.h5\n",
      "26/26 [==============================] - 33s 1s/step - loss: 0.4004 - mse_wrapper: 0.4004 - ca_wrapper: 0.8292 - meandiff: 3.5817 - val_loss: 0.6092 - val_mse_wrapper: 0.6092 - val_ca_wrapper: 0.7986 - val_meandiff: 4.0469 - lr: 1.0000e-04\n",
      "Epoch 36/100\n",
      "26/26 [==============================] - ETA: 0s - loss: 0.3937 - mse_wrapper: 0.3937 - ca_wrapper: 0.8341 - meandiff: 3.4567"
     ]
    },
    {
     "name": "stderr",
     "output_type": "stream",
     "text": [
      "2021-03-16 15:30:59,325 INFO (4, 2, 36, 5)\n",
      "2021-03-16 15:31:00,379 INFO (4, 2, 36, 5)\n"
     ]
    },
    {
     "name": "stdout",
     "output_type": "stream",
     "text": [
      "\n",
      "Epoch 00036: loss improved from 0.40042 to 0.39375, saving model to exp/cv_baseline_temp/8_64_64__8_2_2_4tenc_conv1_MSE_NOnorm_augshiftrot_taug_3_batch8/2021-03-16_15_09/model/model.h5\n",
      "26/26 [==============================] - 35s 1s/step - loss: 0.3937 - mse_wrapper: 0.3937 - ca_wrapper: 0.8341 - meandiff: 3.4567 - val_loss: 0.7927 - val_mse_wrapper: 0.7927 - val_ca_wrapper: 0.7977 - val_meandiff: 3.9062 - lr: 1.0000e-04\n",
      "Epoch 37/100\n",
      "26/26 [==============================] - ETA: 0s - loss: 0.4046 - mse_wrapper: 0.4046 - ca_wrapper: 0.8312 - meandiff: 3.3990\n",
      "Epoch 00037: loss did not improve from 0.39375\n",
      "26/26 [==============================] - 33s 1s/step - loss: 0.4046 - mse_wrapper: 0.4046 - ca_wrapper: 0.8312 - meandiff: 3.3990 - val_loss: 1.1088 - val_mse_wrapper: 1.1088 - val_ca_wrapper: 0.7617 - val_meandiff: 3.8906 - lr: 1.0000e-04\n",
      "Epoch 38/100\n",
      "26/26 [==============================] - ETA: 0s - loss: 0.3928 - mse_wrapper: 0.3928 - ca_wrapper: 0.8347 - meandiff: 3.4904"
     ]
    },
    {
     "name": "stderr",
     "output_type": "stream",
     "text": [
      "2021-03-16 15:32:09,919 INFO (4, 2, 36, 5)\n",
      "2021-03-16 15:32:10,499 INFO (4, 2, 36, 5)\n"
     ]
    },
    {
     "name": "stdout",
     "output_type": "stream",
     "text": [
      "\n",
      "Epoch 00038: loss improved from 0.39375 to 0.39276, saving model to exp/cv_baseline_temp/8_64_64__8_2_2_4tenc_conv1_MSE_NOnorm_augshiftrot_taug_3_batch8/2021-03-16_15_09/model/model.h5\n",
      "26/26 [==============================] - 34s 1s/step - loss: 0.3928 - mse_wrapper: 0.3928 - ca_wrapper: 0.8347 - meandiff: 3.4904 - val_loss: 0.7227 - val_mse_wrapper: 0.7227 - val_ca_wrapper: 0.7730 - val_meandiff: 4.2031 - lr: 1.0000e-04\n",
      "Epoch 39/100\n",
      "26/26 [==============================] - ETA: 0s - loss: 0.3891 - mse_wrapper: 0.3891 - ca_wrapper: 0.8423 - meandiff: 3.2404\n",
      "Epoch 00039: loss improved from 0.39276 to 0.38906, saving model to exp/cv_baseline_temp/8_64_64__8_2_2_4tenc_conv1_MSE_NOnorm_augshiftrot_taug_3_batch8/2021-03-16_15_09/model/model.h5\n",
      "26/26 [==============================] - 33s 1s/step - loss: 0.3891 - mse_wrapper: 0.3891 - ca_wrapper: 0.8423 - meandiff: 3.2404 - val_loss: 0.7342 - val_mse_wrapper: 0.7342 - val_ca_wrapper: 0.8095 - val_meandiff: 4.0625 - lr: 1.0000e-04\n",
      "Epoch 40/100\n",
      "26/26 [==============================] - ETA: 0s - loss: 0.3927 - mse_wrapper: 0.3927 - ca_wrapper: 0.8353 - meandiff: 3.4087"
     ]
    },
    {
     "name": "stderr",
     "output_type": "stream",
     "text": [
      "2021-03-16 15:33:20,577 INFO (4, 2, 36, 5)\n",
      "2021-03-16 15:33:21,099 INFO (4, 2, 36, 5)\n"
     ]
    },
    {
     "name": "stdout",
     "output_type": "stream",
     "text": [
      "\n",
      "Epoch 00040: loss did not improve from 0.38906\n",
      "26/26 [==============================] - 34s 1s/step - loss: 0.3927 - mse_wrapper: 0.3927 - ca_wrapper: 0.8353 - meandiff: 3.4087 - val_loss: 0.8752 - val_mse_wrapper: 0.8752 - val_ca_wrapper: 0.7977 - val_meandiff: 4.0000 - lr: 1.0000e-04\n",
      "Epoch 41/100\n",
      "26/26 [==============================] - ETA: 0s - loss: 0.3802 - mse_wrapper: 0.3802 - ca_wrapper: 0.8365 - meandiff: 3.2500\n",
      "Epoch 00041: loss improved from 0.38906 to 0.38022, saving model to exp/cv_baseline_temp/8_64_64__8_2_2_4tenc_conv1_MSE_NOnorm_augshiftrot_taug_3_batch8/2021-03-16_15_09/model/model.h5\n",
      "26/26 [==============================] - 33s 1s/step - loss: 0.3802 - mse_wrapper: 0.3802 - ca_wrapper: 0.8365 - meandiff: 3.2500 - val_loss: 0.6036 - val_mse_wrapper: 0.6036 - val_ca_wrapper: 0.7982 - val_meandiff: 3.7969 - lr: 1.0000e-04\n",
      "Epoch 42/100\n",
      "26/26 [==============================] - ETA: 0s - loss: 0.3820 - mse_wrapper: 0.3820 - ca_wrapper: 0.8332 - meandiff: 3.3846"
     ]
    },
    {
     "name": "stderr",
     "output_type": "stream",
     "text": [
      "2021-03-16 15:34:30,964 INFO (4, 2, 36, 5)\n",
      "2021-03-16 15:34:31,480 INFO (4, 2, 36, 5)\n"
     ]
    },
    {
     "name": "stdout",
     "output_type": "stream",
     "text": [
      "\n",
      "Epoch 00042: loss did not improve from 0.38022\n",
      "26/26 [==============================] - 34s 1s/step - loss: 0.3820 - mse_wrapper: 0.3820 - ca_wrapper: 0.8332 - meandiff: 3.3846 - val_loss: 0.6631 - val_mse_wrapper: 0.6631 - val_ca_wrapper: 0.7917 - val_meandiff: 4.4219 - lr: 1.0000e-04\n",
      "Epoch 43/100\n",
      "26/26 [==============================] - ETA: 0s - loss: 0.3772 - mse_wrapper: 0.3772 - ca_wrapper: 0.8405 - meandiff: 3.1250\n",
      "Epoch 00043: loss improved from 0.38022 to 0.37717, saving model to exp/cv_baseline_temp/8_64_64__8_2_2_4tenc_conv1_MSE_NOnorm_augshiftrot_taug_3_batch8/2021-03-16_15_09/model/model.h5\n",
      "26/26 [==============================] - 33s 1s/step - loss: 0.3772 - mse_wrapper: 0.3772 - ca_wrapper: 0.8405 - meandiff: 3.1250 - val_loss: 0.6349 - val_mse_wrapper: 0.6349 - val_ca_wrapper: 0.8008 - val_meandiff: 3.5781 - lr: 1.0000e-04\n",
      "Epoch 44/100\n",
      "26/26 [==============================] - ETA: 0s - loss: 0.3665 - mse_wrapper: 0.3665 - ca_wrapper: 0.8360 - meandiff: 3.2163"
     ]
    },
    {
     "name": "stderr",
     "output_type": "stream",
     "text": [
      "2021-03-16 15:35:40,781 INFO (4, 2, 36, 5)\n",
      "2021-03-16 15:35:41,323 INFO (4, 2, 36, 5)\n"
     ]
    },
    {
     "name": "stdout",
     "output_type": "stream",
     "text": [
      "\n",
      "Epoch 00044: loss improved from 0.37717 to 0.36651, saving model to exp/cv_baseline_temp/8_64_64__8_2_2_4tenc_conv1_MSE_NOnorm_augshiftrot_taug_3_batch8/2021-03-16_15_09/model/model.h5\n",
      "26/26 [==============================] - 34s 1s/step - loss: 0.3665 - mse_wrapper: 0.3665 - ca_wrapper: 0.8360 - meandiff: 3.2163 - val_loss: 0.6425 - val_mse_wrapper: 0.6425 - val_ca_wrapper: 0.8134 - val_meandiff: 4.0781 - lr: 1.0000e-04\n",
      "Epoch 45/100\n",
      "26/26 [==============================] - ETA: 0s - loss: 0.3752 - mse_wrapper: 0.3752 - ca_wrapper: 0.8348 - meandiff: 3.2788\n",
      "Epoch 00045: loss did not improve from 0.36651\n",
      "26/26 [==============================] - 33s 1s/step - loss: 0.3752 - mse_wrapper: 0.3752 - ca_wrapper: 0.8348 - meandiff: 3.2788 - val_loss: 0.9539 - val_mse_wrapper: 0.9539 - val_ca_wrapper: 0.7990 - val_meandiff: 3.7812 - lr: 1.0000e-04\n",
      "Epoch 46/100\n",
      "26/26 [==============================] - ETA: 0s - loss: 0.3763 - mse_wrapper: 0.3763 - ca_wrapper: 0.8467 - meandiff: 3.1587"
     ]
    },
    {
     "name": "stderr",
     "output_type": "stream",
     "text": [
      "2021-03-16 15:36:50,856 INFO (4, 2, 36, 5)\n",
      "2021-03-16 15:36:51,407 INFO (4, 2, 36, 5)\n"
     ]
    },
    {
     "name": "stdout",
     "output_type": "stream",
     "text": [
      "\n",
      "Epoch 00046: loss did not improve from 0.36651\n",
      "26/26 [==============================] - 34s 1s/step - loss: 0.3763 - mse_wrapper: 0.3763 - ca_wrapper: 0.8467 - meandiff: 3.1587 - val_loss: 0.6970 - val_mse_wrapper: 0.6970 - val_ca_wrapper: 0.8025 - val_meandiff: 4.1719 - lr: 1.0000e-04\n",
      "Epoch 47/100\n",
      "26/26 [==============================] - ETA: 0s - loss: 0.3752 - mse_wrapper: 0.3752 - ca_wrapper: 0.8348 - meandiff: 3.3413\n",
      "Epoch 00047: loss did not improve from 0.36651\n",
      "26/26 [==============================] - 33s 1s/step - loss: 0.3752 - mse_wrapper: 0.3752 - ca_wrapper: 0.8348 - meandiff: 3.3413 - val_loss: 1.1086 - val_mse_wrapper: 1.1086 - val_ca_wrapper: 0.7856 - val_meandiff: 3.9688 - lr: 1.0000e-04\n",
      "Epoch 48/100\n",
      "26/26 [==============================] - ETA: 0s - loss: 0.3714 - mse_wrapper: 0.3714 - ca_wrapper: 0.8401 - meandiff: 3.2740"
     ]
    },
    {
     "name": "stderr",
     "output_type": "stream",
     "text": [
      "2021-03-16 15:38:00,759 INFO (4, 2, 36, 5)\n",
      "2021-03-16 15:38:01,323 INFO (4, 2, 36, 5)\n"
     ]
    },
    {
     "name": "stdout",
     "output_type": "stream",
     "text": [
      "\n",
      "Epoch 00048: loss did not improve from 0.36651\n",
      "26/26 [==============================] - 34s 1s/step - loss: 0.3714 - mse_wrapper: 0.3714 - ca_wrapper: 0.8401 - meandiff: 3.2740 - val_loss: 0.9541 - val_mse_wrapper: 0.9541 - val_ca_wrapper: 0.7908 - val_meandiff: 3.8438 - lr: 1.0000e-04\n",
      "Epoch 49/100\n",
      "26/26 [==============================] - ETA: 0s - loss: 0.3771 - mse_wrapper: 0.3771 - ca_wrapper: 0.8244 - meandiff: 3.2644\n",
      "Epoch 00049: loss did not improve from 0.36651\n",
      "\n",
      "Epoch 00049: ReduceLROnPlateau reducing learning rate to 6.999999823165126e-05.\n",
      "26/26 [==============================] - 32s 1s/step - loss: 0.3771 - mse_wrapper: 0.3771 - ca_wrapper: 0.8244 - meandiff: 3.2644 - val_loss: 0.9448 - val_mse_wrapper: 0.9448 - val_ca_wrapper: 0.7826 - val_meandiff: 3.8281 - lr: 7.0000e-05\n",
      "Epoch 50/100\n",
      "26/26 [==============================] - ETA: 0s - loss: 0.3591 - mse_wrapper: 0.3591 - ca_wrapper: 0.8460 - meandiff: 3.0769"
     ]
    },
    {
     "name": "stderr",
     "output_type": "stream",
     "text": [
      "2021-03-16 15:39:10,380 INFO (4, 2, 36, 5)\n",
      "2021-03-16 15:39:10,898 INFO (4, 2, 36, 5)\n"
     ]
    },
    {
     "name": "stdout",
     "output_type": "stream",
     "text": [
      "\n",
      "Epoch 00050: loss improved from 0.36651 to 0.35910, saving model to exp/cv_baseline_temp/8_64_64__8_2_2_4tenc_conv1_MSE_NOnorm_augshiftrot_taug_3_batch8/2021-03-16_15_09/model/model.h5\n",
      "26/26 [==============================] - 34s 1s/step - loss: 0.3591 - mse_wrapper: 0.3591 - ca_wrapper: 0.8460 - meandiff: 3.0769 - val_loss: 0.7917 - val_mse_wrapper: 0.7917 - val_ca_wrapper: 0.8138 - val_meandiff: 3.8750 - lr: 7.0000e-05\n",
      "Epoch 51/100\n",
      "26/26 [==============================] - ETA: 0s - loss: 0.3572 - mse_wrapper: 0.3572 - ca_wrapper: 0.8409 - meandiff: 3.0433\n",
      "Epoch 00051: loss improved from 0.35910 to 0.35724, saving model to exp/cv_baseline_temp/8_64_64__8_2_2_4tenc_conv1_MSE_NOnorm_augshiftrot_taug_3_batch8/2021-03-16_15_09/model/model.h5\n",
      "26/26 [==============================] - 33s 1s/step - loss: 0.3572 - mse_wrapper: 0.3572 - ca_wrapper: 0.8409 - meandiff: 3.0433 - val_loss: 0.7744 - val_mse_wrapper: 0.7744 - val_ca_wrapper: 0.8099 - val_meandiff: 3.6875 - lr: 7.0000e-05\n",
      "Epoch 52/100\n",
      "26/26 [==============================] - ETA: 0s - loss: 0.3362 - mse_wrapper: 0.3362 - ca_wrapper: 0.8463 - meandiff: 2.8798"
     ]
    },
    {
     "name": "stderr",
     "output_type": "stream",
     "text": [
      "2021-03-16 15:40:20,235 INFO (4, 2, 36, 5)\n",
      "2021-03-16 15:40:20,752 INFO (4, 2, 36, 5)\n"
     ]
    },
    {
     "name": "stdout",
     "output_type": "stream",
     "text": [
      "\n",
      "Epoch 00052: loss improved from 0.35724 to 0.33622, saving model to exp/cv_baseline_temp/8_64_64__8_2_2_4tenc_conv1_MSE_NOnorm_augshiftrot_taug_3_batch8/2021-03-16_15_09/model/model.h5\n",
      "26/26 [==============================] - 34s 1s/step - loss: 0.3362 - mse_wrapper: 0.3362 - ca_wrapper: 0.8463 - meandiff: 2.8798 - val_loss: 0.7787 - val_mse_wrapper: 0.7787 - val_ca_wrapper: 0.8047 - val_meandiff: 3.8750 - lr: 7.0000e-05\n",
      "Epoch 53/100\n",
      "26/26 [==============================] - ETA: 0s - loss: 0.3453 - mse_wrapper: 0.3453 - ca_wrapper: 0.8492 - meandiff: 2.9904\n",
      "Epoch 00053: loss did not improve from 0.33622\n",
      "26/26 [==============================] - 32s 1s/step - loss: 0.3453 - mse_wrapper: 0.3453 - ca_wrapper: 0.8492 - meandiff: 2.9904 - val_loss: 0.7478 - val_mse_wrapper: 0.7478 - val_ca_wrapper: 0.7990 - val_meandiff: 3.7812 - lr: 7.0000e-05\n",
      "Epoch 54/100\n",
      "26/26 [==============================] - ETA: 0s - loss: 0.3560 - mse_wrapper: 0.3560 - ca_wrapper: 0.8411 - meandiff: 3.0192"
     ]
    },
    {
     "name": "stderr",
     "output_type": "stream",
     "text": [
      "2021-03-16 15:41:30,005 INFO (4, 2, 36, 5)\n",
      "2021-03-16 15:41:30,528 INFO (4, 2, 36, 5)\n"
     ]
    },
    {
     "name": "stdout",
     "output_type": "stream",
     "text": [
      "\n",
      "Epoch 00054: loss did not improve from 0.33622\n",
      "26/26 [==============================] - 34s 1s/step - loss: 0.3560 - mse_wrapper: 0.3560 - ca_wrapper: 0.8411 - meandiff: 3.0192 - val_loss: 0.7252 - val_mse_wrapper: 0.7252 - val_ca_wrapper: 0.8030 - val_meandiff: 3.7031 - lr: 7.0000e-05\n",
      "Epoch 55/100\n",
      "26/26 [==============================] - ETA: 0s - loss: 0.3443 - mse_wrapper: 0.3443 - ca_wrapper: 0.8421 - meandiff: 2.9615\n",
      "Epoch 00055: loss did not improve from 0.33622\n",
      "26/26 [==============================] - 32s 1s/step - loss: 0.3443 - mse_wrapper: 0.3443 - ca_wrapper: 0.8421 - meandiff: 2.9615 - val_loss: 0.9525 - val_mse_wrapper: 0.9525 - val_ca_wrapper: 0.8008 - val_meandiff: 4.1406 - lr: 7.0000e-05\n",
      "Epoch 56/100\n",
      "26/26 [==============================] - ETA: 0s - loss: 0.3448 - mse_wrapper: 0.3448 - ca_wrapper: 0.8484 - meandiff: 3.1346"
     ]
    },
    {
     "name": "stderr",
     "output_type": "stream",
     "text": [
      "2021-03-16 15:42:39,518 INFO (4, 2, 36, 5)\n",
      "2021-03-16 15:42:40,643 INFO (4, 2, 36, 5)\n"
     ]
    },
    {
     "name": "stdout",
     "output_type": "stream",
     "text": [
      "\n",
      "Epoch 00056: loss did not improve from 0.33622\n",
      "26/26 [==============================] - 34s 1s/step - loss: 0.3448 - mse_wrapper: 0.3448 - ca_wrapper: 0.8484 - meandiff: 3.1346 - val_loss: 0.9969 - val_mse_wrapper: 0.9969 - val_ca_wrapper: 0.7487 - val_meandiff: 3.8906 - lr: 7.0000e-05\n",
      "Epoch 57/100\n",
      "26/26 [==============================] - ETA: 0s - loss: 0.3311 - mse_wrapper: 0.3311 - ca_wrapper: 0.8496 - meandiff: 2.8654\n",
      "Epoch 00057: loss improved from 0.33622 to 0.33110, saving model to exp/cv_baseline_temp/8_64_64__8_2_2_4tenc_conv1_MSE_NOnorm_augshiftrot_taug_3_batch8/2021-03-16_15_09/model/model.h5\n",
      "26/26 [==============================] - 32s 1s/step - loss: 0.3311 - mse_wrapper: 0.3311 - ca_wrapper: 0.8496 - meandiff: 2.8654 - val_loss: 0.6986 - val_mse_wrapper: 0.6986 - val_ca_wrapper: 0.8051 - val_meandiff: 3.9219 - lr: 7.0000e-05\n",
      "Epoch 58/100\n",
      "26/26 [==============================] - ETA: 0s - loss: 0.3344 - mse_wrapper: 0.3344 - ca_wrapper: 0.8452 - meandiff: 2.8894"
     ]
    },
    {
     "name": "stderr",
     "output_type": "stream",
     "text": [
      "2021-03-16 15:43:49,659 INFO (4, 2, 36, 5)\n",
      "2021-03-16 15:43:50,187 INFO (4, 2, 36, 5)\n"
     ]
    },
    {
     "name": "stdout",
     "output_type": "stream",
     "text": [
      "\n",
      "Epoch 00058: loss did not improve from 0.33110\n",
      "26/26 [==============================] - 34s 1s/step - loss: 0.3344 - mse_wrapper: 0.3344 - ca_wrapper: 0.8452 - meandiff: 2.8894 - val_loss: 0.6786 - val_mse_wrapper: 0.6786 - val_ca_wrapper: 0.8003 - val_meandiff: 3.7656 - lr: 7.0000e-05\n",
      "Epoch 59/100\n",
      "26/26 [==============================] - ETA: 0s - loss: 0.3500 - mse_wrapper: 0.3500 - ca_wrapper: 0.8450 - meandiff: 2.9087\n",
      "Epoch 00059: loss did not improve from 0.33110\n",
      "26/26 [==============================] - 32s 1s/step - loss: 0.3500 - mse_wrapper: 0.3500 - ca_wrapper: 0.8450 - meandiff: 2.9087 - val_loss: 0.8571 - val_mse_wrapper: 0.8571 - val_ca_wrapper: 0.7960 - val_meandiff: 3.9219 - lr: 7.0000e-05\n",
      "Epoch 60/100\n",
      "26/26 [==============================] - ETA: 0s - loss: 0.3401 - mse_wrapper: 0.3401 - ca_wrapper: 0.8466 - meandiff: 2.9279"
     ]
    },
    {
     "name": "stderr",
     "output_type": "stream",
     "text": [
      "2021-03-16 15:44:59,303 INFO (4, 2, 36, 5)\n",
      "2021-03-16 15:44:59,820 INFO (4, 2, 36, 5)\n"
     ]
    },
    {
     "name": "stdout",
     "output_type": "stream",
     "text": [
      "\n",
      "Epoch 00060: loss did not improve from 0.33110\n",
      "26/26 [==============================] - 33s 1s/step - loss: 0.3401 - mse_wrapper: 0.3401 - ca_wrapper: 0.8466 - meandiff: 2.9279 - val_loss: 0.8190 - val_mse_wrapper: 0.8190 - val_ca_wrapper: 0.7791 - val_meandiff: 3.9219 - lr: 7.0000e-05\n",
      "Epoch 61/100\n",
      "26/26 [==============================] - ETA: 0s - loss: 0.3391 - mse_wrapper: 0.3391 - ca_wrapper: 0.8472 - meandiff: 2.9135\n",
      "Epoch 00061: loss did not improve from 0.33110\n",
      "26/26 [==============================] - 32s 1s/step - loss: 0.3391 - mse_wrapper: 0.3391 - ca_wrapper: 0.8472 - meandiff: 2.9135 - val_loss: 0.8150 - val_mse_wrapper: 0.8150 - val_ca_wrapper: 0.8021 - val_meandiff: 3.7656 - lr: 7.0000e-05\n",
      "Epoch 62/100\n",
      "26/26 [==============================] - ETA: 0s - loss: 0.3407 - mse_wrapper: 0.3407 - ca_wrapper: 0.8492 - meandiff: 2.9423"
     ]
    },
    {
     "name": "stderr",
     "output_type": "stream",
     "text": [
      "2021-03-16 15:46:09,017 INFO (4, 2, 36, 5)\n",
      "2021-03-16 15:46:09,543 INFO (4, 2, 36, 5)\n"
     ]
    },
    {
     "name": "stdout",
     "output_type": "stream",
     "text": [
      "\n",
      "Epoch 00062: loss did not improve from 0.33110\n",
      "\n",
      "Epoch 00062: ReduceLROnPlateau reducing learning rate to 4.899999621557071e-05.\n",
      "26/26 [==============================] - 34s 1s/step - loss: 0.3407 - mse_wrapper: 0.3407 - ca_wrapper: 0.8492 - meandiff: 2.9423 - val_loss: 0.9768 - val_mse_wrapper: 0.9768 - val_ca_wrapper: 0.7925 - val_meandiff: 3.5312 - lr: 4.9000e-05\n",
      "Epoch 63/100\n",
      "26/26 [==============================] - ETA: 0s - loss: 0.3251 - mse_wrapper: 0.3251 - ca_wrapper: 0.8547 - meandiff: 2.8654\n",
      "Epoch 00063: loss improved from 0.33110 to 0.32507, saving model to exp/cv_baseline_temp/8_64_64__8_2_2_4tenc_conv1_MSE_NOnorm_augshiftrot_taug_3_batch8/2021-03-16_15_09/model/model.h5\n",
      "26/26 [==============================] - 32s 1s/step - loss: 0.3251 - mse_wrapper: 0.3251 - ca_wrapper: 0.8547 - meandiff: 2.8654 - val_loss: 0.7531 - val_mse_wrapper: 0.7531 - val_ca_wrapper: 0.8077 - val_meandiff: 3.6406 - lr: 4.9000e-05\n",
      "Epoch 64/100\n",
      "26/26 [==============================] - ETA: 0s - loss: 0.3202 - mse_wrapper: 0.3202 - ca_wrapper: 0.8527 - meandiff: 2.7212"
     ]
    },
    {
     "name": "stderr",
     "output_type": "stream",
     "text": [
      "2021-03-16 15:47:18,584 INFO (4, 2, 36, 5)\n",
      "2021-03-16 15:47:19,101 INFO (4, 2, 36, 5)\n"
     ]
    },
    {
     "name": "stdout",
     "output_type": "stream",
     "text": [
      "\n",
      "Epoch 00064: loss improved from 0.32507 to 0.32023, saving model to exp/cv_baseline_temp/8_64_64__8_2_2_4tenc_conv1_MSE_NOnorm_augshiftrot_taug_3_batch8/2021-03-16_15_09/model/model.h5\n",
      "26/26 [==============================] - 34s 1s/step - loss: 0.3202 - mse_wrapper: 0.3202 - ca_wrapper: 0.8527 - meandiff: 2.7212 - val_loss: 0.7826 - val_mse_wrapper: 0.7826 - val_ca_wrapper: 0.7804 - val_meandiff: 3.9844 - lr: 4.9000e-05\n",
      "Epoch 65/100\n",
      "26/26 [==============================] - ETA: 0s - loss: 0.3176 - mse_wrapper: 0.3176 - ca_wrapper: 0.8504 - meandiff: 2.7308\n",
      "Epoch 00065: loss improved from 0.32023 to 0.31759, saving model to exp/cv_baseline_temp/8_64_64__8_2_2_4tenc_conv1_MSE_NOnorm_augshiftrot_taug_3_batch8/2021-03-16_15_09/model/model.h5\n",
      "26/26 [==============================] - 33s 1s/step - loss: 0.3176 - mse_wrapper: 0.3176 - ca_wrapper: 0.8504 - meandiff: 2.7308 - val_loss: 0.8343 - val_mse_wrapper: 0.8343 - val_ca_wrapper: 0.7995 - val_meandiff: 4.1094 - lr: 4.9000e-05\n",
      "Epoch 66/100\n",
      "26/26 [==============================] - ETA: 0s - loss: 0.3268 - mse_wrapper: 0.3268 - ca_wrapper: 0.8487 - meandiff: 2.8365"
     ]
    },
    {
     "name": "stderr",
     "output_type": "stream",
     "text": [
      "2021-03-16 15:48:28,670 INFO (4, 2, 36, 5)\n",
      "2021-03-16 15:48:29,258 INFO (4, 2, 36, 5)\n"
     ]
    },
    {
     "name": "stdout",
     "output_type": "stream",
     "text": [
      "\n",
      "Epoch 00066: loss did not improve from 0.31759\n",
      "26/26 [==============================] - 34s 1s/step - loss: 0.3268 - mse_wrapper: 0.3268 - ca_wrapper: 0.8487 - meandiff: 2.8365 - val_loss: 0.9339 - val_mse_wrapper: 0.9339 - val_ca_wrapper: 0.7834 - val_meandiff: 3.9688 - lr: 4.9000e-05\n",
      "Epoch 67/100\n",
      "26/26 [==============================] - ETA: 0s - loss: 0.3147 - mse_wrapper: 0.3147 - ca_wrapper: 0.8531 - meandiff: 2.7115\n",
      "Epoch 00067: loss improved from 0.31759 to 0.31474, saving model to exp/cv_baseline_temp/8_64_64__8_2_2_4tenc_conv1_MSE_NOnorm_augshiftrot_taug_3_batch8/2021-03-16_15_09/model/model.h5\n",
      "26/26 [==============================] - 33s 1s/step - loss: 0.3147 - mse_wrapper: 0.3147 - ca_wrapper: 0.8531 - meandiff: 2.7115 - val_loss: 0.8113 - val_mse_wrapper: 0.8113 - val_ca_wrapper: 0.8012 - val_meandiff: 3.9219 - lr: 4.9000e-05\n",
      "Epoch 68/100\n",
      "26/26 [==============================] - ETA: 0s - loss: 0.3124 - mse_wrapper: 0.3124 - ca_wrapper: 0.8507 - meandiff: 2.5529"
     ]
    },
    {
     "name": "stderr",
     "output_type": "stream",
     "text": [
      "2021-03-16 15:49:38,416 INFO (4, 2, 36, 5)\n",
      "2021-03-16 15:49:38,932 INFO (4, 2, 36, 5)\n"
     ]
    },
    {
     "name": "stdout",
     "output_type": "stream",
     "text": [
      "\n",
      "Epoch 00068: loss improved from 0.31474 to 0.31237, saving model to exp/cv_baseline_temp/8_64_64__8_2_2_4tenc_conv1_MSE_NOnorm_augshiftrot_taug_3_batch8/2021-03-16_15_09/model/model.h5\n",
      "26/26 [==============================] - 34s 1s/step - loss: 0.3124 - mse_wrapper: 0.3124 - ca_wrapper: 0.8507 - meandiff: 2.5529 - val_loss: 0.8461 - val_mse_wrapper: 0.8461 - val_ca_wrapper: 0.8030 - val_meandiff: 4.0000 - lr: 4.9000e-05\n",
      "Epoch 69/100\n",
      "26/26 [==============================] - ETA: 0s - loss: 0.3132 - mse_wrapper: 0.3132 - ca_wrapper: 0.8552 - meandiff: 2.7644\n",
      "Epoch 00069: loss did not improve from 0.31237\n",
      "26/26 [==============================] - 32s 1s/step - loss: 0.3132 - mse_wrapper: 0.3132 - ca_wrapper: 0.8552 - meandiff: 2.7644 - val_loss: 0.7938 - val_mse_wrapper: 0.7938 - val_ca_wrapper: 0.7960 - val_meandiff: 4.0469 - lr: 4.9000e-05\n",
      "Epoch 70/100\n",
      "26/26 [==============================] - ETA: 0s - loss: 0.3151 - mse_wrapper: 0.3151 - ca_wrapper: 0.8466 - meandiff: 2.7356"
     ]
    },
    {
     "name": "stderr",
     "output_type": "stream",
     "text": [
      "2021-03-16 15:50:47,991 INFO (4, 2, 36, 5)\n",
      "2021-03-16 15:50:48,518 INFO (4, 2, 36, 5)\n"
     ]
    },
    {
     "name": "stdout",
     "output_type": "stream",
     "text": [
      "\n",
      "Epoch 00070: loss did not improve from 0.31237\n",
      "26/26 [==============================] - 34s 1s/step - loss: 0.3151 - mse_wrapper: 0.3151 - ca_wrapper: 0.8466 - meandiff: 2.7356 - val_loss: 0.8626 - val_mse_wrapper: 0.8626 - val_ca_wrapper: 0.8038 - val_meandiff: 3.7188 - lr: 4.9000e-05\n",
      "Epoch 71/100\n",
      "26/26 [==============================] - ETA: 0s - loss: 0.3090 - mse_wrapper: 0.3090 - ca_wrapper: 0.8518 - meandiff: 2.6010\n",
      "Epoch 00071: loss improved from 0.31237 to 0.30899, saving model to exp/cv_baseline_temp/8_64_64__8_2_2_4tenc_conv1_MSE_NOnorm_augshiftrot_taug_3_batch8/2021-03-16_15_09/model/model.h5\n",
      "26/26 [==============================] - 33s 1s/step - loss: 0.3090 - mse_wrapper: 0.3090 - ca_wrapper: 0.8518 - meandiff: 2.6010 - val_loss: 0.7923 - val_mse_wrapper: 0.7923 - val_ca_wrapper: 0.8069 - val_meandiff: 3.8750 - lr: 4.9000e-05\n",
      "Epoch 72/100\n",
      "26/26 [==============================] - ETA: 0s - loss: 0.3091 - mse_wrapper: 0.3091 - ca_wrapper: 0.8498 - meandiff: 2.5577"
     ]
    },
    {
     "name": "stderr",
     "output_type": "stream",
     "text": [
      "2021-03-16 15:51:57,996 INFO (4, 2, 36, 5)\n",
      "2021-03-16 15:51:58,561 INFO (4, 2, 36, 5)\n"
     ]
    },
    {
     "name": "stdout",
     "output_type": "stream",
     "text": [
      "\n",
      "Epoch 00072: loss did not improve from 0.30899\n",
      "26/26 [==============================] - 34s 1s/step - loss: 0.3091 - mse_wrapper: 0.3091 - ca_wrapper: 0.8498 - meandiff: 2.5577 - val_loss: 0.7121 - val_mse_wrapper: 0.7121 - val_ca_wrapper: 0.8142 - val_meandiff: 3.8125 - lr: 4.9000e-05\n",
      "Epoch 73/100\n",
      "26/26 [==============================] - ETA: 0s - loss: 0.3059 - mse_wrapper: 0.3059 - ca_wrapper: 0.8490 - meandiff: 2.7692\n",
      "Epoch 00073: loss improved from 0.30899 to 0.30592, saving model to exp/cv_baseline_temp/8_64_64__8_2_2_4tenc_conv1_MSE_NOnorm_augshiftrot_taug_3_batch8/2021-03-16_15_09/model/model.h5\n",
      "26/26 [==============================] - 33s 1s/step - loss: 0.3059 - mse_wrapper: 0.3059 - ca_wrapper: 0.8490 - meandiff: 2.7692 - val_loss: 1.0816 - val_mse_wrapper: 1.0816 - val_ca_wrapper: 0.7821 - val_meandiff: 4.0781 - lr: 4.9000e-05\n",
      "Epoch 74/100\n",
      "26/26 [==============================] - ETA: 0s - loss: 0.3120 - mse_wrapper: 0.3120 - ca_wrapper: 0.8539 - meandiff: 2.6298"
     ]
    },
    {
     "name": "stderr",
     "output_type": "stream",
     "text": [
      "2021-03-16 15:53:07,802 INFO (4, 2, 36, 5)\n",
      "2021-03-16 15:53:08,367 INFO (4, 2, 36, 5)\n"
     ]
    },
    {
     "name": "stdout",
     "output_type": "stream",
     "text": [
      "\n",
      "Epoch 00074: loss did not improve from 0.30592\n",
      "26/26 [==============================] - 34s 1s/step - loss: 0.3120 - mse_wrapper: 0.3120 - ca_wrapper: 0.8539 - meandiff: 2.6298 - val_loss: 0.8069 - val_mse_wrapper: 0.8069 - val_ca_wrapper: 0.8008 - val_meandiff: 4.1719 - lr: 4.9000e-05\n",
      "Epoch 75/100\n",
      "26/26 [==============================] - ETA: 0s - loss: 0.2979 - mse_wrapper: 0.2979 - ca_wrapper: 0.8582 - meandiff: 2.4856\n",
      "Epoch 00075: loss improved from 0.30592 to 0.29786, saving model to exp/cv_baseline_temp/8_64_64__8_2_2_4tenc_conv1_MSE_NOnorm_augshiftrot_taug_3_batch8/2021-03-16_15_09/model/model.h5\n",
      "26/26 [==============================] - 33s 1s/step - loss: 0.2979 - mse_wrapper: 0.2979 - ca_wrapper: 0.8582 - meandiff: 2.4856 - val_loss: 0.7987 - val_mse_wrapper: 0.7987 - val_ca_wrapper: 0.7834 - val_meandiff: 3.9062 - lr: 4.9000e-05\n",
      "Epoch 76/100\n",
      "26/26 [==============================] - ETA: 0s - loss: 0.3051 - mse_wrapper: 0.3051 - ca_wrapper: 0.8534 - meandiff: 2.6635"
     ]
    },
    {
     "name": "stderr",
     "output_type": "stream",
     "text": [
      "2021-03-16 15:54:17,743 INFO (4, 2, 36, 5)\n",
      "2021-03-16 15:54:18,269 INFO (4, 2, 36, 5)\n"
     ]
    },
    {
     "name": "stdout",
     "output_type": "stream",
     "text": [
      "\n",
      "Epoch 00076: loss did not improve from 0.29786\n",
      "26/26 [==============================] - 34s 1s/step - loss: 0.3051 - mse_wrapper: 0.3051 - ca_wrapper: 0.8534 - meandiff: 2.6635 - val_loss: 0.8766 - val_mse_wrapper: 0.8766 - val_ca_wrapper: 0.8043 - val_meandiff: 3.8906 - lr: 4.9000e-05\n",
      "Epoch 77/100\n",
      "26/26 [==============================] - ETA: 0s - loss: 0.2961 - mse_wrapper: 0.2961 - ca_wrapper: 0.8551 - meandiff: 2.6154\n",
      "Epoch 00077: loss improved from 0.29786 to 0.29613, saving model to exp/cv_baseline_temp/8_64_64__8_2_2_4tenc_conv1_MSE_NOnorm_augshiftrot_taug_3_batch8/2021-03-16_15_09/model/model.h5\n",
      "26/26 [==============================] - 33s 1s/step - loss: 0.2961 - mse_wrapper: 0.2961 - ca_wrapper: 0.8551 - meandiff: 2.6154 - val_loss: 1.0418 - val_mse_wrapper: 1.0418 - val_ca_wrapper: 0.7930 - val_meandiff: 3.9219 - lr: 4.9000e-05\n",
      "Epoch 78/100\n",
      "26/26 [==============================] - ETA: 0s - loss: 0.2979 - mse_wrapper: 0.2979 - ca_wrapper: 0.8520 - meandiff: 2.5962"
     ]
    },
    {
     "name": "stderr",
     "output_type": "stream",
     "text": [
      "2021-03-16 15:55:27,698 INFO (4, 2, 36, 5)\n",
      "2021-03-16 15:55:28,220 INFO (4, 2, 36, 5)\n"
     ]
    },
    {
     "name": "stdout",
     "output_type": "stream",
     "text": [
      "\n",
      "Epoch 00078: loss did not improve from 0.29613\n",
      "26/26 [==============================] - 34s 1s/step - loss: 0.2979 - mse_wrapper: 0.2979 - ca_wrapper: 0.8520 - meandiff: 2.5962 - val_loss: 0.8176 - val_mse_wrapper: 0.8176 - val_ca_wrapper: 0.7938 - val_meandiff: 4.1406 - lr: 4.9000e-05\n",
      "Epoch 79/100\n",
      "26/26 [==============================] - ETA: 0s - loss: 0.2984 - mse_wrapper: 0.2984 - ca_wrapper: 0.8508 - meandiff: 2.5481\n",
      "Epoch 00079: loss did not improve from 0.29613\n",
      "26/26 [==============================] - 33s 1s/step - loss: 0.2984 - mse_wrapper: 0.2984 - ca_wrapper: 0.8508 - meandiff: 2.5481 - val_loss: 0.8136 - val_mse_wrapper: 0.8136 - val_ca_wrapper: 0.8025 - val_meandiff: 3.7500 - lr: 4.9000e-05\n",
      "Epoch 80/100\n",
      "26/26 [==============================] - ETA: 0s - loss: 0.2881 - mse_wrapper: 0.2881 - ca_wrapper: 0.8614 - meandiff: 2.5000"
     ]
    },
    {
     "name": "stderr",
     "output_type": "stream",
     "text": [
      "2021-03-16 15:56:38,231 INFO (4, 2, 36, 5)\n",
      "2021-03-16 15:56:39,533 INFO (4, 2, 36, 5)\n"
     ]
    },
    {
     "name": "stdout",
     "output_type": "stream",
     "text": [
      "\n",
      "Epoch 00080: loss improved from 0.29613 to 0.28811, saving model to exp/cv_baseline_temp/8_64_64__8_2_2_4tenc_conv1_MSE_NOnorm_augshiftrot_taug_3_batch8/2021-03-16_15_09/model/model.h5\n",
      "26/26 [==============================] - 35s 1s/step - loss: 0.2881 - mse_wrapper: 0.2881 - ca_wrapper: 0.8614 - meandiff: 2.5000 - val_loss: 0.8658 - val_mse_wrapper: 0.8658 - val_ca_wrapper: 0.7964 - val_meandiff: 3.6406 - lr: 4.9000e-05\n",
      "Epoch 81/100\n",
      "26/26 [==============================] - ETA: 0s - loss: 0.2988 - mse_wrapper: 0.2988 - ca_wrapper: 0.8510 - meandiff: 2.4519\n",
      "Epoch 00081: loss did not improve from 0.28811\n",
      "26/26 [==============================] - 33s 1s/step - loss: 0.2988 - mse_wrapper: 0.2988 - ca_wrapper: 0.8510 - meandiff: 2.4519 - val_loss: 0.7333 - val_mse_wrapper: 0.7333 - val_ca_wrapper: 0.8021 - val_meandiff: 4.0781 - lr: 4.9000e-05\n",
      "Epoch 82/100\n",
      "26/26 [==============================] - ETA: 0s - loss: 0.2994 - mse_wrapper: 0.2994 - ca_wrapper: 0.8466 - meandiff: 2.5577"
     ]
    },
    {
     "name": "stderr",
     "output_type": "stream",
     "text": [
      "2021-03-16 15:57:49,173 INFO (4, 2, 36, 5)\n",
      "2021-03-16 15:57:49,702 INFO (4, 2, 36, 5)\n"
     ]
    },
    {
     "name": "stdout",
     "output_type": "stream",
     "text": [
      "\n",
      "Epoch 00082: loss did not improve from 0.28811\n",
      "26/26 [==============================] - 34s 1s/step - loss: 0.2994 - mse_wrapper: 0.2994 - ca_wrapper: 0.8466 - meandiff: 2.5577 - val_loss: 0.9203 - val_mse_wrapper: 0.9203 - val_ca_wrapper: 0.7765 - val_meandiff: 3.8125 - lr: 4.9000e-05\n",
      "Epoch 83/100\n",
      "26/26 [==============================] - ETA: 0s - loss: 0.2952 - mse_wrapper: 0.2952 - ca_wrapper: 0.8562 - meandiff: 2.4327\n",
      "Epoch 00083: loss did not improve from 0.28811\n",
      "26/26 [==============================] - 32s 1s/step - loss: 0.2952 - mse_wrapper: 0.2952 - ca_wrapper: 0.8562 - meandiff: 2.4327 - val_loss: 0.8577 - val_mse_wrapper: 0.8577 - val_ca_wrapper: 0.8125 - val_meandiff: 3.7344 - lr: 4.9000e-05\n",
      "Epoch 84/100\n",
      "26/26 [==============================] - ETA: 0s - loss: 0.2889 - mse_wrapper: 0.2889 - ca_wrapper: 0.8587 - meandiff: 2.3894"
     ]
    },
    {
     "name": "stderr",
     "output_type": "stream",
     "text": [
      "2021-03-16 15:58:59,205 INFO (4, 2, 36, 5)\n",
      "2021-03-16 15:58:59,726 INFO (4, 2, 36, 5)\n"
     ]
    },
    {
     "name": "stdout",
     "output_type": "stream",
     "text": [
      "\n",
      "Epoch 00084: loss did not improve from 0.28811\n",
      "26/26 [==============================] - 34s 1s/step - loss: 0.2889 - mse_wrapper: 0.2889 - ca_wrapper: 0.8587 - meandiff: 2.3894 - val_loss: 0.8201 - val_mse_wrapper: 0.8201 - val_ca_wrapper: 0.7917 - val_meandiff: 3.7969 - lr: 4.9000e-05\n",
      "Epoch 85/100\n",
      "26/26 [==============================] - ETA: 0s - loss: 0.2847 - mse_wrapper: 0.2847 - ca_wrapper: 0.8535 - meandiff: 2.3798\n",
      "Epoch 00085: loss improved from 0.28811 to 0.28470, saving model to exp/cv_baseline_temp/8_64_64__8_2_2_4tenc_conv1_MSE_NOnorm_augshiftrot_taug_3_batch8/2021-03-16_15_09/model/model.h5\n",
      "26/26 [==============================] - 33s 1s/step - loss: 0.2847 - mse_wrapper: 0.2847 - ca_wrapper: 0.8535 - meandiff: 2.3798 - val_loss: 0.9881 - val_mse_wrapper: 0.9881 - val_ca_wrapper: 0.7938 - val_meandiff: 3.8906 - lr: 4.9000e-05\n",
      "Epoch 86/100\n",
      "26/26 [==============================] - ETA: 0s - loss: 0.2769 - mse_wrapper: 0.2769 - ca_wrapper: 0.8611 - meandiff: 2.4904"
     ]
    },
    {
     "name": "stderr",
     "output_type": "stream",
     "text": [
      "2021-03-16 16:00:09,009 INFO (4, 2, 36, 5)\n",
      "2021-03-16 16:00:09,570 INFO (4, 2, 36, 5)\n"
     ]
    },
    {
     "name": "stdout",
     "output_type": "stream",
     "text": [
      "\n",
      "Epoch 00086: loss improved from 0.28470 to 0.27688, saving model to exp/cv_baseline_temp/8_64_64__8_2_2_4tenc_conv1_MSE_NOnorm_augshiftrot_taug_3_batch8/2021-03-16_15_09/model/model.h5\n",
      "26/26 [==============================] - 34s 1s/step - loss: 0.2769 - mse_wrapper: 0.2769 - ca_wrapper: 0.8611 - meandiff: 2.4904 - val_loss: 0.7082 - val_mse_wrapper: 0.7082 - val_ca_wrapper: 0.7934 - val_meandiff: 3.5781 - lr: 4.9000e-05\n",
      "Epoch 87/100\n",
      "26/26 [==============================] - ETA: 0s - loss: 0.2903 - mse_wrapper: 0.2903 - ca_wrapper: 0.8546 - meandiff: 2.5385\n",
      "Epoch 00087: loss did not improve from 0.27688\n",
      "26/26 [==============================] - 33s 1s/step - loss: 0.2903 - mse_wrapper: 0.2903 - ca_wrapper: 0.8546 - meandiff: 2.5385 - val_loss: 1.0786 - val_mse_wrapper: 1.0786 - val_ca_wrapper: 0.7839 - val_meandiff: 4.1562 - lr: 4.9000e-05\n",
      "Epoch 88/100\n",
      "26/26 [==============================] - ETA: 0s - loss: 0.2858 - mse_wrapper: 0.2858 - ca_wrapper: 0.8596 - meandiff: 2.3317"
     ]
    },
    {
     "name": "stderr",
     "output_type": "stream",
     "text": [
      "2021-03-16 16:01:18,519 INFO (4, 2, 36, 5)\n",
      "2021-03-16 16:01:19,106 INFO (4, 2, 36, 5)\n"
     ]
    },
    {
     "name": "stdout",
     "output_type": "stream",
     "text": [
      "\n",
      "Epoch 00088: loss did not improve from 0.27688\n",
      "26/26 [==============================] - 33s 1s/step - loss: 0.2858 - mse_wrapper: 0.2858 - ca_wrapper: 0.8596 - meandiff: 2.3317 - val_loss: 0.7676 - val_mse_wrapper: 0.7676 - val_ca_wrapper: 0.7921 - val_meandiff: 3.8906 - lr: 4.9000e-05\n",
      "Epoch 89/100\n",
      "26/26 [==============================] - ETA: 0s - loss: 0.2883 - mse_wrapper: 0.2883 - ca_wrapper: 0.8538 - meandiff: 2.4279\n",
      "Epoch 00089: loss did not improve from 0.27688\n",
      "26/26 [==============================] - 33s 1s/step - loss: 0.2883 - mse_wrapper: 0.2883 - ca_wrapper: 0.8538 - meandiff: 2.4279 - val_loss: 1.2497 - val_mse_wrapper: 1.2497 - val_ca_wrapper: 0.7747 - val_meandiff: 3.8750 - lr: 4.9000e-05\n",
      "Epoch 90/100\n",
      "26/26 [==============================] - ETA: 0s - loss: 0.2734 - mse_wrapper: 0.2734 - ca_wrapper: 0.8623 - meandiff: 2.4183"
     ]
    },
    {
     "name": "stderr",
     "output_type": "stream",
     "text": [
      "2021-03-16 16:02:28,719 INFO (4, 2, 36, 5)\n",
      "2021-03-16 16:02:29,248 INFO (4, 2, 36, 5)\n"
     ]
    },
    {
     "name": "stdout",
     "output_type": "stream",
     "text": [
      "\n",
      "Epoch 00090: loss improved from 0.27688 to 0.27339, saving model to exp/cv_baseline_temp/8_64_64__8_2_2_4tenc_conv1_MSE_NOnorm_augshiftrot_taug_3_batch8/2021-03-16_15_09/model/model.h5\n",
      "26/26 [==============================] - 34s 1s/step - loss: 0.2734 - mse_wrapper: 0.2734 - ca_wrapper: 0.8623 - meandiff: 2.4183 - val_loss: 1.0215 - val_mse_wrapper: 1.0215 - val_ca_wrapper: 0.8051 - val_meandiff: 3.7188 - lr: 4.9000e-05\n",
      "Epoch 91/100\n",
      "26/26 [==============================] - ETA: 0s - loss: 0.2764 - mse_wrapper: 0.2764 - ca_wrapper: 0.8599 - meandiff: 2.2404\n",
      "Epoch 00091: loss did not improve from 0.27339\n",
      "26/26 [==============================] - 32s 1s/step - loss: 0.2764 - mse_wrapper: 0.2764 - ca_wrapper: 0.8599 - meandiff: 2.2404 - val_loss: 0.9641 - val_mse_wrapper: 0.9641 - val_ca_wrapper: 0.7730 - val_meandiff: 4.0156 - lr: 4.9000e-05\n",
      "Epoch 92/100\n",
      "26/26 [==============================] - ETA: 0s - loss: 0.2951 - mse_wrapper: 0.2951 - ca_wrapper: 0.8540 - meandiff: 2.4279"
     ]
    },
    {
     "name": "stderr",
     "output_type": "stream",
     "text": [
      "2021-03-16 16:03:38,810 INFO (4, 2, 36, 5)\n",
      "2021-03-16 16:03:39,375 INFO (4, 2, 36, 5)\n"
     ]
    },
    {
     "name": "stdout",
     "output_type": "stream",
     "text": [
      "\n",
      "Epoch 00092: loss did not improve from 0.27339\n",
      "26/26 [==============================] - 34s 1s/step - loss: 0.2951 - mse_wrapper: 0.2951 - ca_wrapper: 0.8540 - meandiff: 2.4279 - val_loss: 0.8675 - val_mse_wrapper: 0.8675 - val_ca_wrapper: 0.7947 - val_meandiff: 3.6875 - lr: 4.9000e-05\n",
      "Epoch 93/100\n",
      "26/26 [==============================] - ETA: 0s - loss: 0.2929 - mse_wrapper: 0.2929 - ca_wrapper: 0.8538 - meandiff: 2.3846\n",
      "Epoch 00093: loss did not improve from 0.27339\n",
      "26/26 [==============================] - 33s 1s/step - loss: 0.2929 - mse_wrapper: 0.2929 - ca_wrapper: 0.8538 - meandiff: 2.3846 - val_loss: 0.8329 - val_mse_wrapper: 0.8329 - val_ca_wrapper: 0.8095 - val_meandiff: 3.8750 - lr: 4.9000e-05\n",
      "Epoch 94/100\n",
      "26/26 [==============================] - ETA: 0s - loss: 0.2890 - mse_wrapper: 0.2890 - ca_wrapper: 0.8544 - meandiff: 2.5240"
     ]
    },
    {
     "name": "stderr",
     "output_type": "stream",
     "text": [
      "2021-03-16 16:04:49,026 INFO (4, 2, 36, 5)\n",
      "2021-03-16 16:04:49,547 INFO (4, 2, 36, 5)\n"
     ]
    },
    {
     "name": "stdout",
     "output_type": "stream",
     "text": [
      "\n",
      "Epoch 00094: loss did not improve from 0.27339\n",
      "26/26 [==============================] - 34s 1s/step - loss: 0.2890 - mse_wrapper: 0.2890 - ca_wrapper: 0.8544 - meandiff: 2.5240 - val_loss: 0.7899 - val_mse_wrapper: 0.7899 - val_ca_wrapper: 0.7973 - val_meandiff: 3.7812 - lr: 4.9000e-05\n",
      "Epoch 95/100\n",
      "26/26 [==============================] - ETA: 0s - loss: 0.2755 - mse_wrapper: 0.2755 - ca_wrapper: 0.8612 - meandiff: 2.2067\n",
      "Epoch 00095: loss did not improve from 0.27339\n",
      "\n",
      "Epoch 00095: ReduceLROnPlateau reducing learning rate to 3.4299996332265434e-05.\n",
      "26/26 [==============================] - 33s 1s/step - loss: 0.2755 - mse_wrapper: 0.2755 - ca_wrapper: 0.8612 - meandiff: 2.2067 - val_loss: 0.8187 - val_mse_wrapper: 0.8187 - val_ca_wrapper: 0.7639 - val_meandiff: 4.0469 - lr: 3.4300e-05\n",
      "Epoch 96/100\n",
      "26/26 [==============================] - ETA: 0s - loss: 0.2747 - mse_wrapper: 0.2747 - ca_wrapper: 0.8583 - meandiff: 2.3269"
     ]
    },
    {
     "name": "stderr",
     "output_type": "stream",
     "text": [
      "2021-03-16 16:05:59,134 INFO (4, 2, 36, 5)\n",
      "2021-03-16 16:05:59,708 INFO (4, 2, 36, 5)\n"
     ]
    },
    {
     "name": "stdout",
     "output_type": "stream",
     "text": [
      "\n",
      "Epoch 00096: loss did not improve from 0.27339\n",
      "26/26 [==============================] - 34s 1s/step - loss: 0.2747 - mse_wrapper: 0.2747 - ca_wrapper: 0.8583 - meandiff: 2.3269 - val_loss: 0.9529 - val_mse_wrapper: 0.9529 - val_ca_wrapper: 0.7908 - val_meandiff: 3.9531 - lr: 3.4300e-05\n",
      "Epoch 97/100\n",
      "26/26 [==============================] - ETA: 0s - loss: 0.2665 - mse_wrapper: 0.2665 - ca_wrapper: 0.8631 - meandiff: 2.2212\n",
      "Epoch 00097: loss improved from 0.27339 to 0.26646, saving model to exp/cv_baseline_temp/8_64_64__8_2_2_4tenc_conv1_MSE_NOnorm_augshiftrot_taug_3_batch8/2021-03-16_15_09/model/model.h5\n",
      "26/26 [==============================] - 33s 1s/step - loss: 0.2665 - mse_wrapper: 0.2665 - ca_wrapper: 0.8631 - meandiff: 2.2212 - val_loss: 1.0246 - val_mse_wrapper: 1.0246 - val_ca_wrapper: 0.8069 - val_meandiff: 3.8750 - lr: 3.4300e-05\n",
      "Epoch 98/100\n",
      "26/26 [==============================] - ETA: 0s - loss: 0.2767 - mse_wrapper: 0.2767 - ca_wrapper: 0.8639 - meandiff: 2.2452"
     ]
    },
    {
     "name": "stderr",
     "output_type": "stream",
     "text": [
      "2021-03-16 16:07:09,535 INFO (4, 2, 36, 5)\n",
      "2021-03-16 16:07:10,052 INFO (4, 2, 36, 5)\n"
     ]
    },
    {
     "name": "stdout",
     "output_type": "stream",
     "text": [
      "\n",
      "Epoch 00098: loss did not improve from 0.26646\n",
      "26/26 [==============================] - 34s 1s/step - loss: 0.2767 - mse_wrapper: 0.2767 - ca_wrapper: 0.8639 - meandiff: 2.2452 - val_loss: 0.9570 - val_mse_wrapper: 0.9570 - val_ca_wrapper: 0.8003 - val_meandiff: 3.9219 - lr: 3.4300e-05\n",
      "Epoch 99/100\n",
      "26/26 [==============================] - ETA: 0s - loss: 0.2683 - mse_wrapper: 0.2683 - ca_wrapper: 0.8539 - meandiff: 2.1731\n",
      "Epoch 00099: loss did not improve from 0.26646\n",
      "26/26 [==============================] - 32s 1s/step - loss: 0.2683 - mse_wrapper: 0.2683 - ca_wrapper: 0.8539 - meandiff: 2.1731 - val_loss: 0.9337 - val_mse_wrapper: 0.9337 - val_ca_wrapper: 0.7856 - val_meandiff: 3.7656 - lr: 3.4300e-05\n",
      "Epoch 100/100\n",
      "26/26 [==============================] - ETA: 0s - loss: 0.2595 - mse_wrapper: 0.2595 - ca_wrapper: 0.8620 - meandiff: 2.3173"
     ]
    },
    {
     "name": "stderr",
     "output_type": "stream",
     "text": [
      "2021-03-16 16:08:19,581 INFO (4, 2, 36, 5)\n",
      "2021-03-16 16:08:20,141 INFO (4, 2, 36, 5)\n"
     ]
    },
    {
     "name": "stdout",
     "output_type": "stream",
     "text": [
      "\n",
      "Epoch 00100: loss improved from 0.26646 to 0.25949, saving model to exp/cv_baseline_temp/8_64_64__8_2_2_4tenc_conv1_MSE_NOnorm_augshiftrot_taug_3_batch8/2021-03-16_15_09/model/model.h5\n",
      "26/26 [==============================] - 34s 1s/step - loss: 0.2595 - mse_wrapper: 0.2595 - ca_wrapper: 0.8620 - meandiff: 2.3173 - val_loss: 0.7420 - val_mse_wrapper: 0.7420 - val_ca_wrapper: 0.7969 - val_meandiff: 4.0312 - lr: 3.4300e-05\n"
     ]
    }
   ],
   "source": [
    "initial_epoch = 0\n",
    "\n",
    "results = model.fit(\n",
    "    x=batch_generator,\n",
    "    validation_data=validation_generator,\n",
    "    epochs=EPOCHS,\n",
    "    callbacks = get_callbacks(config, batch_generator,validation_generator),\n",
    "    initial_epoch=initial_epoch,\n",
    "    max_queue_size=12,\n",
    "    use_multiprocessing=False,\n",
    "    verbose=1)"
   ]
  },
  {
   "cell_type": "code",
   "execution_count": null,
   "metadata": {},
   "outputs": [],
   "source": [
    "# predict the files from globals()['inputs']\n",
    "pred = model(inputs, training=False)"
   ]
  },
  {
   "cell_type": "code",
   "execution_count": 10,
   "metadata": {},
   "outputs": [
    {
     "name": "stdout",
     "output_type": "stream",
     "text": [
      "(4,)\n",
      "(4, 36, 5)\n"
     ]
    },
    {
     "data": {
      "text/plain": [
       "(4, 2, 36, 5)"
      ]
     },
     "execution_count": 10,
     "metadata": {},
     "output_type": "execute_result"
    }
   ],
   "source": [
    "temp = np.array([23, 17, 24, 18])\n",
    "print(temp.shape)\n",
    "empty = np.ones((4,36,5))\n",
    "print(empty.shape)\n",
    "second = empty[:]\n",
    "second[:,0,0] = temp\n",
    "np.stack([empty, second], axis=1).shape"
   ]
  },
  {
   "cell_type": "code",
   "execution_count": 11,
   "metadata": {
    "collapsed": true,
    "jupyter": {
     "outputs_hidden": true
    }
   },
   "outputs": [
    {
     "name": "stdout",
     "output_type": "stream",
     "text": [
      "[[[0 1 1 1 1]\n",
      "  [0 1 1 1 1]\n",
      "  [0 1 1 1 1]\n",
      "  ...\n",
      "  [0 0 0 0 0]\n",
      "  [0 0 0 0 0]\n",
      "  [0 0 0 0 0]]\n",
      "\n",
      " [[0 1 1 1 0]\n",
      "  [0 1 1 1 1]\n",
      "  [0 1 1 1 1]\n",
      "  ...\n",
      "  [0 0 0 0 0]\n",
      "  [0 0 0 0 0]\n",
      "  [0 0 0 0 0]]\n",
      "\n",
      " [[1 0 1 1 1]\n",
      "  [1 0 1 1 1]\n",
      "  [1 1 1 1 1]\n",
      "  ...\n",
      "  [0 0 0 0 0]\n",
      "  [0 0 0 0 0]\n",
      "  [0 0 0 0 0]]\n",
      "\n",
      " ...\n",
      "\n",
      " [[1 1 1 1 1]\n",
      "  [1 0 1 1 1]\n",
      "  [1 0 1 1 1]\n",
      "  ...\n",
      "  [0 0 0 0 0]\n",
      "  [0 0 0 0 0]\n",
      "  [0 0 0 0 0]]\n",
      "\n",
      " [[1 0 1 1 1]\n",
      "  [1 0 1 1 1]\n",
      "  [1 0 1 1 1]\n",
      "  ...\n",
      "  [0 0 0 0 0]\n",
      "  [0 0 0 0 0]\n",
      "  [0 0 0 0 0]]\n",
      "\n",
      " [[1 1 1 1 1]\n",
      "  [1 0 1 1 1]\n",
      "  [1 0 1 1 1]\n",
      "  ...\n",
      "  [0 0 0 0 0]\n",
      "  [0 0 0 0 0]\n",
      "  [0 0 0 0 0]]]\n",
      "[[1 1 1 1 1]\n",
      " [1 1 1 1 1]\n",
      " [1 1 1 1 1]\n",
      " [1 1 1 1 1]\n",
      " [1 1 1 1 1]\n",
      " [1 1 1 1 1]\n",
      " [1 1 1 1 1]\n",
      " [1 1 1 1 1]]\n"
     ]
    }
   ],
   "source": [
    "# get the true idx\n",
    "gt_idx = tf.math.argmax(outputs, axis=1).numpy()\n",
    "print(gt_idx)\n",
    "gt_max = gt_idx.max(axis=1).astype(int)\n",
    "print(gt_max)"
   ]
  },
  {
   "cell_type": "code",
   "execution_count": 23,
   "metadata": {},
   "outputs": [
    {
     "data": {
      "image/png": "[encoded data removed]",
      "text/plain": [
       "<Figure size 2880x360 with 16 Axes>"
      ]
     },
     "metadata": {
      "needs_background": "light"
     },
     "output_type": "display_data"
    }
   ],
   "source": [
    "from src.visualization.Visualize import show_phases, show_phases_transpose\n",
    "_ = show_phases(pred,outputs)"
   ]
  },
  {
   "cell_type": "code",
   "execution_count": 25,
   "metadata": {},
   "outputs": [
    {
     "data": {
      "text/plain": [
       "TensorShape([8, 2, 36, 5])"
      ]
     },
     "execution_count": 25,
     "metadata": {},
     "output_type": "execute_result"
    }
   ],
   "source": [
    "pred.shape"
   ]
  },
  {
   "cell_type": "code",
   "execution_count": 14,
   "metadata": {},
   "outputs": [
    {
     "data": {
      "text/plain": [
       "24.776663"
      ]
     },
     "execution_count": 14,
     "metadata": {},
     "output_type": "execute_result"
    }
   ],
   "source": [
    "# calculate the meandiff score for one batch\n",
    "from src.utils.Metrics import meandiff\n",
    "score_fn = meandiff\n",
    "score_fn(outputs, pred).numpy()"
   ]
  },
  {
   "cell_type": "code",
   "execution_count": 14,
   "metadata": {},
   "outputs": [
    {
     "ename": "NameError",
     "evalue": "name 'outputs' is not defined",
     "output_type": "error",
     "traceback": [
      "\u001b[0;31m---------------------------------------------------------------------------\u001b[0m",
      "\u001b[0;31mNameError\u001b[0m                                 Traceback (most recent call last)",
      "\u001b[0;32m<ipython-input-14-1386b4149a02>\u001b[0m in \u001b[0;36m<module>\u001b[0;34m\u001b[0m\n\u001b[0;32m----> 1\u001b[0;31m \u001b[0mtemp\u001b[0m \u001b[0;34m=\u001b[0m \u001b[0moutputs\u001b[0m\u001b[0;34m[\u001b[0m\u001b[0;34m:\u001b[0m\u001b[0;34m,\u001b[0m\u001b[0;36m0\u001b[0m\u001b[0;34m,\u001b[0m\u001b[0;34m...\u001b[0m\u001b[0;34m]\u001b[0m\u001b[0;34m\u001b[0m\u001b[0;34m\u001b[0m\u001b[0m\n\u001b[0m\u001b[1;32m      2\u001b[0m \u001b[0mprint\u001b[0m\u001b[0;34m(\u001b[0m\u001b[0mtemp\u001b[0m\u001b[0;34m.\u001b[0m\u001b[0mshape\u001b[0m\u001b[0;34m)\u001b[0m\u001b[0;34m\u001b[0m\u001b[0;34m\u001b[0m\u001b[0m\n\u001b[1;32m      3\u001b[0m \u001b[0mprint\u001b[0m\u001b[0;34m(\u001b[0m\u001b[0mtemp\u001b[0m\u001b[0;34m.\u001b[0m\u001b[0mT\u001b[0m\u001b[0;34m.\u001b[0m\u001b[0mshape\u001b[0m\u001b[0;34m)\u001b[0m\u001b[0;34m\u001b[0m\u001b[0;34m\u001b[0m\u001b[0m\n\u001b[1;32m      4\u001b[0m \u001b[0mplt\u001b[0m\u001b[0;34m.\u001b[0m\u001b[0mimshow\u001b[0m\u001b[0;34m(\u001b[0m\u001b[0mtemp\u001b[0m\u001b[0;34m.\u001b[0m\u001b[0mT\u001b[0m\u001b[0;34m[\u001b[0m\u001b[0;36m0\u001b[0m\u001b[0;34m]\u001b[0m\u001b[0;34m)\u001b[0m\u001b[0;34m\u001b[0m\u001b[0;34m\u001b[0m\u001b[0m\n",
      "\u001b[0;31mNameError\u001b[0m: name 'outputs' is not defined"
     ]
    }
   ],
   "source": [
    "temp = outputs[:,0,...]\n",
    "print(temp.shape)\n",
    "print(temp.T.shape)\n",
    "plt.imshow(temp.T[0])"
   ]
  },
  {
   "cell_type": "code",
   "execution_count": 15,
   "metadata": {},
   "outputs": [
    {
     "ename": "ModuleNotFoundError",
     "evalue": "No module named 'src.utils.Metrics'",
     "output_type": "error",
     "traceback": [
      "\u001b[0;31m---------------------------------------------------------------------------\u001b[0m",
      "\u001b[0;31mModuleNotFoundError\u001b[0m                       Traceback (most recent call last)",
      "\u001b[0;32m<ipython-input-15-488023a83011>\u001b[0m in \u001b[0;36m<module>\u001b[0;34m\u001b[0m\n\u001b[1;32m      1\u001b[0m \u001b[0;31m# calculate the meandiff score for all batches\u001b[0m\u001b[0;34m\u001b[0m\u001b[0;34m\u001b[0m\u001b[0;34m\u001b[0m\u001b[0m\n\u001b[1;32m      2\u001b[0m \u001b[0;31m# calculate the meandiff score for one batch\u001b[0m\u001b[0;34m\u001b[0m\u001b[0;34m\u001b[0m\u001b[0;34m\u001b[0m\u001b[0m\n\u001b[0;32m----> 3\u001b[0;31m \u001b[0;32mfrom\u001b[0m \u001b[0msrc\u001b[0m\u001b[0;34m.\u001b[0m\u001b[0mutils\u001b[0m\u001b[0;34m.\u001b[0m\u001b[0mMetrics\u001b[0m \u001b[0;32mimport\u001b[0m \u001b[0mmeandiff\u001b[0m\u001b[0;34m\u001b[0m\u001b[0;34m\u001b[0m\u001b[0m\n\u001b[0m\u001b[1;32m      4\u001b[0m \u001b[0mscore_fn\u001b[0m \u001b[0;34m=\u001b[0m \u001b[0mmeandiff\u001b[0m\u001b[0;34m\u001b[0m\u001b[0;34m\u001b[0m\u001b[0m\n\u001b[1;32m      5\u001b[0m \u001b[0mscores\u001b[0m \u001b[0;34m=\u001b[0m \u001b[0;34m[\u001b[0m\u001b[0;34m]\u001b[0m\u001b[0;34m\u001b[0m\u001b[0;34m\u001b[0m\u001b[0m\n",
      "\u001b[0;31mModuleNotFoundError\u001b[0m: No module named 'src.utils.Metrics'"
     ]
    }
   ],
   "source": [
    "# calculate the meandiff score for all batches\n",
    "# calculate the meandiff score for one batch\n",
    "from src.utils.Metrics import meandiff\n",
    "score_fn = meandiff\n",
    "scores = []\n",
    "for batch in validation_generator:\n",
    "    x,y = batch\n",
    "    p = model(x)\n",
    "    scores.append(score_fn(y,p))\n",
    "scores"
   ]
  },
  {
   "cell_type": "code",
   "execution_count": 18,
   "metadata": {},
   "outputs": [
    {
     "data": {
      "text/plain": [
       "6.75"
      ]
     },
     "execution_count": 18,
     "metadata": {},
     "output_type": "execute_result"
    }
   ],
   "source": [
    "tf.reduce_mean(scores).numpy()"
   ]
  },
  {
   "cell_type": "markdown",
   "metadata": {},
   "source": [
    "# Generator tests"
   ]
  },
  {
   "cell_type": "code",
   "execution_count": 16,
   "metadata": {
    "collapsed": true,
    "jupyter": {
     "outputs_hidden": true
    }
   },
   "outputs": [
    {
     "data": {
      "image/png": "[encoded data removed]",
      "text/plain": [
       "<IPython.core.display.Image object>"
      ]
     },
     "execution_count": 16,
     "metadata": {},
     "output_type": "execute_result"
    }
   ],
   "source": [
    "tf.keras.utils.plot_model(\n",
    "    model, show_shapes=False,\n",
    "    show_layer_names=True, rankdir='TB', expand_nested=True, dpi=96\n",
    ")"
   ]
  },
  {
   "cell_type": "code",
   "execution_count": 19,
   "metadata": {},
   "outputs": [
    {
     "data": {
      "text/plain": [
       "1.75"
      ]
     },
     "execution_count": 19,
     "metadata": {},
     "output_type": "execute_result"
    }
   ],
   "source": [
    "score_fn = meandiff_\n",
    "score_fn(outputs, pred).numpy()"
   ]
  },
  {
   "cell_type": "code",
   "execution_count": null,
   "metadata": {},
   "outputs": [],
   "source": [
    "onehot = np.array([[1,0,0,0,0,0,0,0,0,0,0,0,0,0,0],\n",
    " [0,0,0,1,0,0,0,0,0,0,0,0,0,0,0],\n",
    " [0,0,0,0,0,0,0,1,0,0,0,0,0,0,0],\n",
    " [0,0,0,0,0,0,0,0,0,0,0,1,0,0,0],\n",
    " [0,0,0,0,0,0,0,0,0,0,0,0,0,0,1]])"
   ]
  },
  {
   "cell_type": "code",
   "execution_count": null,
   "metadata": {},
   "outputs": [],
   "source": [
    "onehot.shape"
   ]
  },
  {
   "cell_type": "code",
   "execution_count": null,
   "metadata": {},
   "outputs": [],
   "source": [
    "onehot_t = onehot.T\n",
    "onehot_t.shape\n",
    "onehot_t"
   ]
  },
  {
   "cell_type": "code",
   "execution_count": null,
   "metadata": {},
   "outputs": [],
   "source": [
    "print(np.argmax(onehot, axis=1))\n",
    "print(np.argmax(onehot_t, axis=0))"
   ]
  },
  {
   "cell_type": "code",
   "execution_count": null,
   "metadata": {},
   "outputs": [],
   "source": [
    "# iterate over the phases j\n",
    "# linspace from i to i+1 from indices\n",
    "temp = onehot_t[:,0].astype(float)\n",
    "i = 0\n",
    "j = 3 + 1\n",
    "temp[i:j] = np.linspace(i,j,j-i)\n",
    "temp"
   ]
  },
  {
   "cell_type": "code",
   "execution_count": null,
   "metadata": {},
   "outputs": [],
   "source": [
    "onehot_t = onehot_t.astype(float)\n",
    "indices = np.argmax(onehot_t, axis=0)\n",
    "for i in range(onehot_t.shape[1]) :\n",
    "    start = indices[i]\n",
    "    # make it a ring\n",
    "    second = (i+1)%len(indices)\n",
    "    end = indices[second]\n",
    "    onehot_t[start:end,i] = np.linspace(1,0,int(end-start))\n",
    "onehot_t\n",
    "             \n",
    "    "
   ]
  },
  {
   "cell_type": "code",
   "execution_count": null,
   "metadata": {},
   "outputs": [],
   "source": [
    "plt.imshow(temp)"
   ]
  },
  {
   "cell_type": "code",
   "execution_count": null,
   "metadata": {},
   "outputs": [],
   "source": [
    "plt.imshow(temp.T)"
   ]
  },
  {
   "cell_type": "code",
   "execution_count": null,
   "metadata": {},
   "outputs": [],
   "source": [
    "%%timeit\n",
    "temp.mean()"
   ]
  },
  {
   "cell_type": "code",
   "execution_count": null,
   "metadata": {},
   "outputs": [],
   "source": [
    "%%timeit\n",
    "np.mean(temp)"
   ]
  },
  {
   "cell_type": "code",
   "execution_count": null,
   "metadata": {},
   "outputs": [],
   "source": [
    "np.linspace(-1,1,10)"
   ]
  },
  {
   "cell_type": "code",
   "execution_count": null,
   "metadata": {},
   "outputs": [],
   "source": []
  }
 ],
 "metadata": {
  "kernelspec": {
   "display_name": "dcmr",
   "language": "python",
   "name": "dcmr"
  },
  "language_info": {
   "codemirror_mode": {
    "name": "ipython",
    "version": 3
   },
   "file_extension": ".py",
   "mimetype": "text/x-python",
   "name": "python",
   "nbconvert_exporter": "python",
   "pygments_lexer": "ipython3",
   "version": "3.8.5"
  },
  "widgets": {
   "application/vnd.jupyter.widget-state+json": {
    "state": {},
    "version_major": 2,
    "version_minor": 0
   }
  }
 },
 "nbformat": 4,
 "nbformat_minor": 4
}
