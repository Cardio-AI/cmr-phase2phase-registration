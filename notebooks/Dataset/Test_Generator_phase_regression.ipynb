{
 "cells": [
  {
   "cell_type": "code",
   "execution_count": 1,
   "metadata": {},
   "outputs": [
    {
     "name": "stdout",
     "output_type": "stream",
     "text": [
      "search for root_dir and set working directory\n",
      "Working directory set to: /mnt/ssd/git/dynamic-cmr-models\n",
      "['/gpu:0', '/gpu:1']\n"
     ]
    },
    {
     "name": "stderr",
     "output_type": "stream",
     "text": [
      "2021-02-25 11:16:38,256 INFO -------------------- Start --------------------\n",
      "2021-02-25 11:16:38,256 INFO Working directory: /mnt/ssd/git/dynamic-cmr-models.\n",
      "2021-02-25 11:16:38,257 INFO Log file: ./logs/baseline/8_64_64__8_3_3_temp_enc_conv1_1_CCE_smoothNO_augNO_tempaugNO_batchsize8_f0.log\n",
      "2021-02-25 11:16:38,257 INFO Log level for console: INFO\n",
      "2021-02-25 11:16:38,258 INFO Is built with tensorflow: True\n",
      "2021-02-25 11:16:38,324 INFO Visible devices:\n",
      "[PhysicalDevice(name='/physical_device:CPU:0', device_type='CPU'), PhysicalDevice(name='/physical_device:XLA_CPU:0', device_type='XLA_CPU'), PhysicalDevice(name='/physical_device:XLA_GPU:0', device_type='XLA_GPU'), PhysicalDevice(name='/physical_device:XLA_GPU:1', device_type='XLA_GPU'), PhysicalDevice(name='/physical_device:GPU:0', device_type='GPU'), PhysicalDevice(name='/physical_device:GPU:1', device_type='GPU')]\n"
     ]
    },
    {
     "name": "stdout",
     "output_type": "stream",
     "text": [
      "{'GPU_IDS': '0,1', 'GPUS': ['/gpu:0', '/gpu:1'], 'SEED': 42, 'EXPERIMENT': 'baseline/8_64_64__8_3_3_temp_enc_conv1_1_CCE_smoothNO_augNO_tempaugNO_batchsize8_f0', 'EXPERIMENTS_ROOT': 'exp/', 'EXP_PATH': 'exp/baseline/8_64_64__8_3_3_temp_enc_conv1_1_CCE_smoothNO_augNO_tempaugNO_batchsize8_f0/2021-02-25_11_16', 'MODEL_PATH': 'exp/baseline/8_64_64__8_3_3_temp_enc_conv1_1_CCE_smoothNO_augNO_tempaugNO_batchsize8_f0/2021-02-25_11_16/model', 'TENSORBOARD_PATH': 'exp/baseline/8_64_64__8_3_3_temp_enc_conv1_1_CCE_smoothNO_augNO_tempaugNO_batchsize8_f0/2021-02-25_11_16/tensorboard_logs', 'CONFIG_PATH': 'exp/baseline/8_64_64__8_3_3_temp_enc_conv1_1_CCE_smoothNO_augNO_tempaugNO_batchsize8_f0/2021-02-25_11_16/config', 'HISTORY_PATH': 'exp/baseline/8_64_64__8_3_3_temp_enc_conv1_1_CCE_smoothNO_augNO_tempaugNO_batchsize8_f0/2021-02-25_11_16/history', 'DATA_PATH_SAX': '/mnt/ssd/data/gcn/02_imported_4D_unfiltered/SAX/', 'DF_FOLDS': '/mnt/ssd/data/gcn/02_imported_4D_unfiltered/df_kfold.csv', 'DF_META': '/mnt/ssd/data/gcn/02_imported_4D_unfiltered/SAx_3D_dicomTags_phase', 'FOLD': 1, 'BATCHSIZE': 8, 'GENERATOR_WORKER': 8, 'EPOCHS': 200, 'DIM': [8, 64, 64], 'T_SHAPE': 36, 'SPACING': [8, 3, 3], 'DEPTH': 3, 'FILTERS': 32, 'M_POOL': [1, 2, 2], 'F_SIZE': [3, 3, 3], 'BN_FIRST': False, 'BATCH_NORMALISATION': True, 'PAD': 'same', 'KERNEL_INIT': 'he_normal', 'OPTIMIZER': 'adam', 'ACTIVATION': 'relu', 'LEARNING_RATE': 0.0001, 'DECAY_FACTOR': 0.3, 'MIN_LR': 1e-11, 'MONITOR_FUNCTION': 'loss', 'MONITOR_MODE': 'min', 'SAVE_MODEL_FUNCTION': 'loss', 'SAVE_MODEL_MODE': 'min', 'MODEL_PATIENCE': 20, 'SAVE_LEARNING_PROGRESS_AS_TF': True, 'BORDER_MODE': 4, 'IMG_INTERPOLATION': 1, 'MSK_INTERPOLATION': 0, 'AUGMENT': False, 'AUGMENT_PROB': 0.8, 'AUGMENT_PHASES': False, 'AUGMENT_PHASES_RANGE': (-3, 3), 'SHUFFLE': True, 'RESAMPLE': True, 'SCALER': 'MinMax', 'PHASES': 5, 'TARGET_SMOOTHING': True, 'SMOOTHING_KERNEL_SIZE': 12, 'SMOOTHING_LOWER_BORDER': 1, 'SMOOTHING_UPPER_BORDER': 5, 'SMOOTHING_WEIGHT_CORRECT': 10, 'TENSORBOARD_LOG_DIR': 'reports/tensorboard_logs/baseline/8_64_64__8_3_3_temp_enc_conv1_1_CCE_smoothNO_augNO_tempaugNO_batchsize8_f0'}\n"
     ]
    },
    {
     "name": "stderr",
     "output_type": "stream",
     "text": [
      "2021-02-25 11:16:38,988 INFO Local devices: \n",
      " [name: \"/device:CPU:0\"\n",
      "device_type: \"CPU\"\n",
      "memory_limit: 268435456\n",
      "locality {\n",
      "}\n",
      "incarnation: 6986617706692620095\n",
      ", name: \"/device:XLA_CPU:0\"\n",
      "device_type: \"XLA_CPU\"\n",
      "memory_limit: 17179869184\n",
      "locality {\n",
      "}\n",
      "incarnation: 9774292278263135915\n",
      "physical_device_desc: \"device: XLA_CPU device\"\n",
      ", name: \"/device:XLA_GPU:0\"\n",
      "device_type: \"XLA_GPU\"\n",
      "memory_limit: 17179869184\n",
      "locality {\n",
      "}\n",
      "incarnation: 131399263737586435\n",
      "physical_device_desc: \"device: XLA_GPU device\"\n",
      ", name: \"/device:XLA_GPU:1\"\n",
      "device_type: \"XLA_GPU\"\n",
      "memory_limit: 17179869184\n",
      "locality {\n",
      "}\n",
      "incarnation: 17999806783004097331\n",
      "physical_device_desc: \"device: XLA_GPU device\"\n",
      ", name: \"/device:GPU:0\"\n",
      "device_type: \"GPU\"\n",
      "memory_limit: 23177397504\n",
      "locality {\n",
      "  bus_id: 1\n",
      "  links {\n",
      "  }\n",
      "}\n",
      "incarnation: 4633007388217415254\n",
      "physical_device_desc: \"device: 0, name: TITAN RTX, pci bus id: 0000:01:00.0, compute capability: 7.5\"\n",
      ", name: \"/device:GPU:1\"\n",
      "device_type: \"GPU\"\n",
      "memory_limit: 23561682304\n",
      "locality {\n",
      "  bus_id: 1\n",
      "  links {\n",
      "  }\n",
      "}\n",
      "incarnation: 14976397819181094862\n",
      "physical_device_desc: \"device: 1, name: TITAN RTX, pci bus id: 0000:02:00.0, compute capability: 7.5\"\n",
      "]\n"
     ]
    }
   ],
   "source": [
    "# ------------------------------------------define logging and working directory\n",
    "from ProjectRoot import change_wd_to_project_root\n",
    "change_wd_to_project_root()\n",
    "from src.utils.Tensorflow_helper import choose_gpu_by_id\n",
    "# ------------------------------------------define GPU id/s to use\n",
    "GPU_IDS = '0,1'\n",
    "GPUS = choose_gpu_by_id(GPU_IDS)\n",
    "print(GPUS)\n",
    "# ------------------------------------------jupyter magic config\n",
    "%matplotlib inline\n",
    "%reload_ext autoreload\n",
    "%autoreload 2\n",
    "# ------------------------------------------ import helpers\n",
    "# this should import glob, os, and many other standard libs\n",
    "from src.utils.Notebook_imports import *\n",
    "from tensorflow.python.client import device_lib\n",
    "import tensorflow as tf\n",
    "tf.get_logger().setLevel('ERROR')\n",
    "# local imports\n",
    "from src.utils.Utils_io import Console_and_file_logger, init_config\n",
    "from src.visualization.Visualize import show_2D_or_3D\n",
    "from src.utils.KerasCallbacks import get_callbacks\n",
    "from src.data.Dataset import get_trainings_files\n",
    "\n",
    "# import external libs\n",
    "import cv2\n",
    "import pandas as pd\n",
    "\n",
    "EXPERIMENT = 'baseline/8_64_64__8_3_3_temp_enc_conv1_1_CCE_smoothNO_augNO_tempaugNO_batchsize8_f0'\n",
    "#EXPERIMENT = 'baseline_label_transpose_smooth05/36_5_BiLSTM32_NoBn_conv5_size1_CCE_NOphaseaug_NOaug_b8'\n",
    "# EXPERIMENT = 'mased_scores/36_5_BiLSTM32_NoBn_conv5_size1_CCE_NOphaseaug_shift_rotate_reflectbordersgridaug'\n",
    "timestemp = str(datetime.datetime.now().strftime(\"%Y-%m-%d_%H_%M\")) # ad a timestep to each project to make repeated experiments unique\n",
    "\n",
    "EXPERIMENTS_ROOT = 'exp/'\n",
    "EXP_PATH = os.path.join(EXPERIMENTS_ROOT, EXPERIMENT, timestemp)\n",
    "MODEL_PATH = os.path.join(EXP_PATH, 'model', )\n",
    "TENSORBOARD_PATH = os.path.join(EXP_PATH, 'tensorboard_logs')\n",
    "CONFIG_PATH = os.path.join(EXP_PATH,'config')\n",
    "HISTORY_PATH = os.path.join(EXP_PATH, 'history')\n",
    "ensure_dir(MODEL_PATH)\n",
    "ensure_dir(TENSORBOARD_PATH)\n",
    "ensure_dir(CONFIG_PATH)\n",
    "ensure_dir(HISTORY_PATH)\n",
    "\n",
    "# define the data paths and fold \n",
    "# first to the 4D Nrrd files, \n",
    "# second to a dataframe with a mapping of the Fold-number - filename\n",
    "DATA_PATH_SAX = '/mnt/ssd/data/gcn/02_imported_4D_unfiltered/SAX/'\n",
    "DF_FOLDS = '/mnt/ssd/data/gcn/02_imported_4D_unfiltered/df_kfold.csv'\n",
    "DF_META = '/mnt/ssd/data/gcn/02_imported_4D_unfiltered/SAx_3D_dicomTags_phase'\n",
    "FOLD = 1\n",
    "\n",
    "# General params\n",
    "SEED = 42 # define a seed for the generator shuffle\n",
    "BATCHSIZE = 8 # 32, 64, 24, 16, 1 for 3D use: 4\n",
    "GENERATOR_WORKER = BATCHSIZE # if not set, use batchsize\n",
    "EPOCHS = 200\n",
    "\n",
    "DIM = [8, 64, 64] # network input shape for spacing of 3, (z,y,x)\n",
    "T_SHAPE = 36\n",
    "SPACING = [8, 3, 3] # if resample, resample to this spacing, (z,y,x)\n",
    "\n",
    "# Model params\n",
    "DEPTH = 3 # depth of the encoder\n",
    "FILTERS = 32 # initial number of filters, will be doubled after each downsampling block\n",
    "M_POOL = [1, 2, 2]# size of max-pooling used for downsampling and upsampling\n",
    "F_SIZE = [3, 3, 3] # conv filter size\n",
    "BN_FIRST = False # decide if batch normalisation between conv and activation or afterwards\n",
    "BATCH_NORMALISATION = True # apply BN or not\n",
    "PAD = 'same' # padding strategy of the conv layers\n",
    "KERNEL_INIT = 'he_normal' # conv weight initialisation\n",
    "OPTIMIZER = 'adam' # Adam, Adagrad, RMSprop, Adadelta,  # https://keras.io/optimizers/\n",
    "ACTIVATION = 'relu' # tf.keras.layers.LeakyReLU(), relu or any other non linear activation function\n",
    "LEARNING_RATE = 1e-4 # start with a huge lr to converge fast\n",
    "DECAY_FACTOR = 0.3 # Define a learning rate decay for the ReduceLROnPlateau callback\n",
    "MIN_LR = 1e-11 # minimal lr, smaller lr does not improve the model\n",
    "DROPOUT_min = 0.3 # lower dropout at the shallow layers\n",
    "DROPOUT_max = 0.5 # higher dropout at the deep layers\n",
    "\n",
    "# Callback params\n",
    "MONITOR_FUNCTION = 'loss'\n",
    "MONITOR_MODE = 'min'\n",
    "SAVE_MODEL_FUNCTION = 'loss'\n",
    "SAVE_MODEL_MODE = 'min'\n",
    "MODEL_PATIENCE = 20\n",
    "SAVE_LEARNING_PROGRESS_AS_TF = True\n",
    "\n",
    "# Generator and Augmentation params\n",
    "BORDER_MODE = cv2.BORDER_REFLECT_101 # border mode for the data generation\n",
    "IMG_INTERPOLATION = cv2.INTER_LINEAR # image interpolation in the genarator\n",
    "MSK_INTERPOLATION = cv2.INTER_NEAREST # mask interpolation in the generator\n",
    "AUGMENT = False # a compose of 2D augmentation (grid distortion, 90degree rotation, brightness and shift)\n",
    "AUGMENT_PROB = 0.8\n",
    "AUGMENT_PHASES = False\n",
    "AUGMENT_PHASES_RANGE = (-3,3)\n",
    "SHUFFLE = True\n",
    "RESAMPLE = True\n",
    "SCALER = 'MinMax' # MinMax, Standard or Robust\n",
    "# We define 5 target phases and a background phase for the pad/empty volumes \n",
    "PHASES = len(['ED#', 'MS#', 'ES#', 'PF#', 'MD#']) # skipped 'pad backround manually added', due to repeating\n",
    "TARGET_SMOOTHING = True\n",
    "SMOOTHING_KERNEL_SIZE = 12\n",
    "SMOOTHING_LOWER_BORDER = 1\n",
    "SMOOTHING_UPPER_BORDER = 5\n",
    "SMOOTHING_WEIGHT_CORRECT = 10\n",
    "\n",
    "\n",
    "Console_and_file_logger(EXPERIMENT, logging.INFO)\n",
    "config = init_config(config=locals(), save=True)\n",
    "print(config)\n",
    "logging.info('Is built with tensorflow: {}'.format(tf.test.is_built_with_cuda()))\n",
    "logging.info('Visible devices:\\n{}'.format(tf.config.list_physical_devices()))\n",
    "logging.info('Local devices: \\n {}'.format(device_lib.list_local_devices()))"
   ]
  },
  {
   "cell_type": "code",
   "execution_count": 2,
   "metadata": {},
   "outputs": [
    {
     "name": "stderr",
     "output_type": "stream",
     "text": [
      "2021-02-25 11:16:39,010 INFO no files found, try to load with acdc file pattern\n",
      "2021-02-25 11:16:39,017 INFO Found 0 images/masks in /mnt/ssd/data/gcn/02_imported_4D_unfiltered/SAX/\n",
      "2021-02-25 11:16:39,017 INFO Patients train: 209\n",
      "2021-02-25 11:16:39,018 INFO Selected 0 of 0 files with 209 of 279 patients for training fold 1\n",
      "2021-02-25 11:16:39,018 INFO SAX train CMR: 0, SAX train masks: 0\n",
      "2021-02-25 11:16:39,019 INFO SAX val CMR: 0, SAX val masks: 0\n"
     ]
    }
   ],
   "source": [
    "# Load SAX volumes\n",
    "x_train_sax, y_train_sax, x_val_sax, y_val_sax =  get_trainings_files(data_path=DATA_PATH_SAX,path_to_folds_df=DF_FOLDS, fold=FOLD)\n",
    "logging.info('SAX train CMR: {}, SAX train masks: {}'.format(len(x_train_sax), len(y_train_sax)))\n",
    "logging.info('SAX val CMR: {}, SAX val masks: {}'.format(len(x_val_sax), len(y_val_sax)))"
   ]
  },
  {
   "cell_type": "code",
   "execution_count": 3,
   "metadata": {},
   "outputs": [
    {
     "name": "stderr",
     "output_type": "stream",
     "text": [
      "2021-02-25 11:16:39,051 INFO Check if we find the patient ID and phase mapping for all: 0 files.\n",
      "2021-02-25 11:16:39,052 INFO Done!\n"
     ]
    }
   ],
   "source": [
    "# check if we find each patient in the corresponding dataframe\n",
    "import re\n",
    "METADATA_FILE = config.get('DF_META', '/mnt/ssd/data/gcn/02_imported_4D_unfiltered/SAx_3D_dicomTags_phase')\n",
    "df = pd.read_csv(METADATA_FILE)\n",
    "DF_METADATA = df[['patient', 'ED#', 'MS#', 'ES#', 'PF#', 'MD#']]\n",
    "\n",
    "files_ = x_train_sax + x_val_sax\n",
    "info('Check if we find the patient ID and phase mapping for all: {} files.'.format(len(files_)))\n",
    "for x in files_:\n",
    "    try:\n",
    "        patient_str = re.search('-(.{8})_', x).group(1).upper()\n",
    "        \n",
    "        assert(len(patient_str) == 8), 'matched patient ID from the phase sheet has a length of: {}'.format(len(patient_str))\n",
    "        # returns the indices in the following order: 'ED#', 'MS#', 'ES#', 'PF#', 'MD#'\n",
    "        # reduce by one, as the indexes start at 0, the excel-sheet at 1\n",
    "        ind = DF_METADATA[DF_METADATA.patient.str.contains(patient_str)][['ED#', 'MS#', 'ES#', 'PF#', 'MD#']]\n",
    "        indices = ind.values[0].astype(int) -1\n",
    "        \n",
    "    except Exception as e:\n",
    "        logging.info(patient_str)\n",
    "        logging.info(ind)\n",
    "        logging.info('indices: \\n{}'.format(indices))\n",
    "info('Done!')"
   ]
  },
  {
   "cell_type": "code",
   "execution_count": 4,
   "metadata": {},
   "outputs": [
    {
     "data": {
      "application/vnd.jupyter.widget-view+json": {
       "model_id": "4adb9f756d6a484a89630eb9019b97e0",
       "version_major": 2,
       "version_minor": 0
      },
      "text/plain": [
       "interactive(children=(Text(value='', description='search_str'), Output()), _dom_classes=('widget-interact',))"
      ]
     },
     "metadata": {},
     "output_type": "display_data"
    }
   ],
   "source": [
    "@interact\n",
    "def search_p_in_df(search_str = ''):\n",
    "    return DF_METADATA[DF_METADATA['patient'].str.contains(search_str)]"
   ]
  },
  {
   "cell_type": "code",
   "execution_count": 5,
   "metadata": {},
   "outputs": [
    {
     "ename": "IndexError",
     "evalue": "list index out of range",
     "output_type": "error",
     "traceback": [
      "\u001b[0;31m---------------------------------------------------------------------------\u001b[0m",
      "\u001b[0;31mIndexError\u001b[0m                                Traceback (most recent call last)",
      "\u001b[0;32m<ipython-input-5-851a681c55be>\u001b[0m in \u001b[0;36m<module>\u001b[0;34m\u001b[0m\n\u001b[1;32m      6\u001b[0m \u001b[0;31m#config['RESAMPLE'] = True\u001b[0m\u001b[0;34m\u001b[0m\u001b[0;34m\u001b[0m\u001b[0;34m\u001b[0m\u001b[0m\n\u001b[1;32m      7\u001b[0m \u001b[0;31m#config['AUGMENT_PHASES'] = False\u001b[0m\u001b[0;34m\u001b[0m\u001b[0;34m\u001b[0m\u001b[0;34m\u001b[0m\u001b[0m\n\u001b[0;32m----> 8\u001b[0;31m \u001b[0mbatch_generator\u001b[0m \u001b[0;34m=\u001b[0m \u001b[0mPhaseRegressionGenerator\u001b[0m\u001b[0;34m(\u001b[0m\u001b[0mx_train_sax\u001b[0m\u001b[0;34m,\u001b[0m \u001b[0mx_train_sax\u001b[0m\u001b[0;34m,\u001b[0m \u001b[0mconfig\u001b[0m\u001b[0;34m=\u001b[0m\u001b[0mconfig\u001b[0m\u001b[0;34m)\u001b[0m\u001b[0;34m\u001b[0m\u001b[0;34m\u001b[0m\u001b[0m\n\u001b[0m\u001b[1;32m      9\u001b[0m \u001b[0mval_config\u001b[0m \u001b[0;34m=\u001b[0m \u001b[0mconfig\u001b[0m\u001b[0;34m.\u001b[0m\u001b[0mcopy\u001b[0m\u001b[0;34m(\u001b[0m\u001b[0;34m)\u001b[0m\u001b[0;34m\u001b[0m\u001b[0;34m\u001b[0m\u001b[0m\n\u001b[1;32m     10\u001b[0m \u001b[0mval_config\u001b[0m\u001b[0;34m[\u001b[0m\u001b[0;34m'AUGMENT'\u001b[0m\u001b[0;34m]\u001b[0m \u001b[0;34m=\u001b[0m \u001b[0;32mFalse\u001b[0m\u001b[0;34m\u001b[0m\u001b[0;34m\u001b[0m\u001b[0m\n",
      "\u001b[0;32m/mnt/ssd/git/dynamic-cmr-models/src/data/Generators.py\u001b[0m in \u001b[0;36m__init__\u001b[0;34m(self, x, y, config)\u001b[0m\n\u001b[1;32m    607\u001b[0m         \u001b[0;32mif\u001b[0m \u001b[0mconfig\u001b[0m \u001b[0;32mis\u001b[0m \u001b[0;32mNone\u001b[0m\u001b[0;34m:\u001b[0m\u001b[0;34m\u001b[0m\u001b[0;34m\u001b[0m\u001b[0m\n\u001b[1;32m    608\u001b[0m             \u001b[0mconfig\u001b[0m \u001b[0;34m=\u001b[0m \u001b[0;34m{\u001b[0m\u001b[0;34m}\u001b[0m\u001b[0;34m\u001b[0m\u001b[0;34m\u001b[0m\u001b[0m\n\u001b[0;32m--> 609\u001b[0;31m         \u001b[0msuper\u001b[0m\u001b[0;34m(\u001b[0m\u001b[0mPhaseRegressionGenerator\u001b[0m\u001b[0;34m,\u001b[0m \u001b[0mself\u001b[0m\u001b[0;34m)\u001b[0m\u001b[0;34m.\u001b[0m\u001b[0m__init__\u001b[0m\u001b[0;34m(\u001b[0m\u001b[0mx\u001b[0m\u001b[0;34m=\u001b[0m\u001b[0mx\u001b[0m\u001b[0;34m,\u001b[0m \u001b[0my\u001b[0m\u001b[0;34m=\u001b[0m\u001b[0my\u001b[0m\u001b[0;34m,\u001b[0m \u001b[0mconfig\u001b[0m\u001b[0;34m=\u001b[0m\u001b[0mconfig\u001b[0m\u001b[0;34m)\u001b[0m\u001b[0;34m\u001b[0m\u001b[0;34m\u001b[0m\u001b[0m\n\u001b[0m\u001b[1;32m    610\u001b[0m \u001b[0;34m\u001b[0m\u001b[0m\n\u001b[1;32m    611\u001b[0m         \u001b[0mself\u001b[0m\u001b[0;34m.\u001b[0m\u001b[0mAUGMENT_PHASES\u001b[0m \u001b[0;34m=\u001b[0m \u001b[0mconfig\u001b[0m\u001b[0;34m.\u001b[0m\u001b[0mget\u001b[0m\u001b[0;34m(\u001b[0m\u001b[0;34m'AUGMENT_PHASES'\u001b[0m\u001b[0;34m,\u001b[0m \u001b[0;32mFalse\u001b[0m\u001b[0;34m)\u001b[0m\u001b[0;34m\u001b[0m\u001b[0;34m\u001b[0m\u001b[0m\n",
      "\u001b[0;32m/mnt/ssd/git/dynamic-cmr-models/src/data/Generators.py\u001b[0m in \u001b[0;36m__init__\u001b[0;34m(self, x, y, config)\u001b[0m\n\u001b[1;32m    251\u001b[0m         \u001b[0mACDC_REPLACE_WILDCARD\u001b[0m \u001b[0;34m=\u001b[0m \u001b[0;34m(\u001b[0m\u001b[0;34m'.nii.gz'\u001b[0m\u001b[0;34m,\u001b[0m \u001b[0;34m'_gt.nii.gz'\u001b[0m\u001b[0;34m)\u001b[0m\u001b[0;34m\u001b[0m\u001b[0;34m\u001b[0m\u001b[0m\n\u001b[1;32m    252\u001b[0m \u001b[0;34m\u001b[0m\u001b[0m\n\u001b[0;32m--> 253\u001b[0;31m         \u001b[0;32mif\u001b[0m \u001b[0;34m'ACDC'\u001b[0m \u001b[0;32min\u001b[0m \u001b[0mx\u001b[0m\u001b[0;34m[\u001b[0m\u001b[0;36m0\u001b[0m\u001b[0;34m]\u001b[0m\u001b[0;34m:\u001b[0m\u001b[0;34m\u001b[0m\u001b[0;34m\u001b[0m\u001b[0m\n\u001b[0m\u001b[1;32m    254\u001b[0m             \u001b[0mself\u001b[0m\u001b[0;34m.\u001b[0m\u001b[0mREPLACE_WILDCARD\u001b[0m \u001b[0;34m=\u001b[0m \u001b[0mACDC_REPLACE_WILDCARD\u001b[0m\u001b[0;34m\u001b[0m\u001b[0;34m\u001b[0m\u001b[0m\n\u001b[1;32m    255\u001b[0m         \u001b[0;32melse\u001b[0m\u001b[0;34m:\u001b[0m\u001b[0;34m\u001b[0m\u001b[0;34m\u001b[0m\u001b[0m\n",
      "\u001b[0;31mIndexError\u001b[0m: list index out of range"
     ]
    }
   ],
   "source": [
    "# initialise a generator with these files\n",
    "# logging.getLogger().setLevel(logging.INFO)\n",
    "from src.data.Generators import PhaseRegressionGenerator\n",
    "#config['SHUFFLE'] = False\n",
    "#config['AUGMENT'] = False\n",
    "#config['RESAMPLE'] = True\n",
    "#config['AUGMENT_PHASES'] = False\n",
    "batch_generator = PhaseRegressionGenerator(x_train_sax, x_train_sax, config=config)\n",
    "val_config = config.copy()\n",
    "val_config['AUGMENT'] = False\n",
    "val_config['AUGMENT_PHASES'] = False\n",
    "validation_generator = PhaseRegressionGenerator(x_val_sax, x_val_sax , config=val_config)"
   ]
  },
  {
   "cell_type": "code",
   "execution_count": 14,
   "metadata": {},
   "outputs": [
    {
     "data": {
      "application/vnd.jupyter.widget-view+json": {
       "model_id": "d4e983bc6e844e85b8f2d012daf0e7b6",
       "version_major": 2,
       "version_minor": 0
      },
      "text/plain": [
       "interactive(children=(IntSlider(value=13, description='batch', max=26), IntSlider(value=3, description='im', m…"
      ]
     },
     "metadata": {},
     "output_type": "display_data"
    }
   ],
   "source": [
    "# visualise one batch\n",
    "generator = batch_generator\n",
    "@interact_manual\n",
    "def select_image_in_batch(batch = (0,len(generator), 1), \n",
    "                          im = (0,BATCHSIZE- 1, 1), \n",
    "                          slice_n=(1,11), \n",
    "                          save=False, \n",
    "                          filepath='data/temp/', \n",
    "                          filename='temp_x.npy',\n",
    "                         show_overview=True,\n",
    "                         show_input_vol=False):\n",
    "    \n",
    "    import time\n",
    "    global inputs, outputs, gt_len\n",
    "    phases = ['ED', 'MS', 'ES', 'PF', 'MD']\n",
    "    t1 = time.time()\n",
    "    inputs, outputs = generator.__getitem__(batch)\n",
    "    onehot, gt_len_msk = np.split(outputs, indices_or_sections=2,axis=1)\n",
    "    logging.info('Preprocessing took: {:0.3f}'.format(time.time() - t1))\n",
    "    print(inputs.shape, outputs.shape)\n",
    "    print('selected batch : ' + str(batch))\n",
    "    if show_overview:\n",
    "    \n",
    "        selected_input = inputs[im]\n",
    "        selected_output = onehot[im][0]\n",
    "        selected_gtlen = int(np.sum((gt_len_msk[im,0,:,0])))\n",
    "        logging.info('GT length: {}'.format(selected_gtlen))\n",
    "\n",
    "        logging.debug('pad: \\n{}'.format(selected_output))\n",
    "        \n",
    "        f, axs = plt.subplots(1,2,figsize=(5,5))\n",
    "        i = 0\n",
    "        temp_y = selected_output\n",
    "        ind_gt = np.argmax(temp_y[:selected_gtlen,:], axis=0)\n",
    "        axs[0].title.set_text('y')\n",
    "        axs[0].set_yticks(ind_gt, minor=False)\n",
    "        axs[0].set_xticks([0,1,2,3,4], minor=False)\n",
    "        axs[0].set_xticklabels(phases, rotation =45)\n",
    "        axs[0].imshow(temp_y, aspect='auto')\n",
    "        axs[1].hist(selected_input.flatten(), bins=np.linspace(0.1,1,20))\n",
    "        f.tight_layout()\n",
    "        plt.show()\n",
    "    \n",
    "    if show_input_vol:list(map(lambda x: show_2D_or_3D(img=x, interpol='bilinear',dpi=100,f_size=(5,5)), selected_input[::slice_n]))\n",
    "\n",
    "        \n",
    "    if save:\n",
    "        ensure_dir(filepath)\n",
    "        np.save(os.path.join(filepath, filename), x[im])\n",
    "        logging.info('saved to {}'.format(os.path.join(filepath, filename)))\n",
    "    \n",
    "\n"
   ]
  },
  {
   "cell_type": "code",
   "execution_count": 15,
   "metadata": {},
   "outputs": [
    {
     "data": {
      "text/plain": [
       "'for b in range(len(validation_generator)):\\n    print(b)\\n    for im in range(BATCHSIZE):\\n        select_image_in_batch(batch=b,im=im, slice_n=5, show_=True)'"
      ]
     },
     "execution_count": 15,
     "metadata": {},
     "output_type": "execute_result"
    }
   ],
   "source": [
    "# test if all batches are processable\n",
    "\"\"\"for b in range(len(validation_generator)):\n",
    "    print(b)\n",
    "    for im in range(BATCHSIZE):\n",
    "        select_image_in_batch(batch=b,im=im, slice_n=5, show_=True)\"\"\""
   ]
  },
  {
   "cell_type": "code",
   "execution_count": 16,
   "metadata": {},
   "outputs": [
    {
     "name": "stdout",
     "output_type": "stream",
     "text": [
      "Shape after the temporal encoder\n",
      "(None, 36, 8, 8, 8, 256)\n",
      "Shape after GAP\n",
      "(None, 36, 256)\n",
      "Shape after Bi-LSTM layer\n",
      "(None, 36, 256)\n",
      "Shape after final conv layer\n",
      "(None, 36, 5)\n"
     ]
    }
   ],
   "source": [
    "from src.models.Models import create_PhaseRegressionModel\n",
    "model = create_PhaseRegressionModel(config)"
   ]
  },
  {
   "cell_type": "code",
   "execution_count": 18,
   "metadata": {
    "collapsed": true,
    "jupyter": {
     "outputs_hidden": true
    }
   },
   "outputs": [
    {
     "name": "stdout",
     "output_type": "stream",
     "text": [
      "Model: \"PhaseRegressionModel\"\n",
      "______________________________________________________________________________________________________________________________________________________\n",
      "Layer (type)                                     Output Shape                     Param #           Connected to                                      \n",
      "======================================================================================================================================================\n",
      "input_2 (InputLayer)                             [(None, 36, 8, 64, 64, 1)]       0                                                                   \n",
      "______________________________________________________________________________________________________________________________________________________\n",
      "tf_op_layer_unstack_2 (TensorFlowOpLayer)        [(None, 36, 64, 64, 1), (None, 3 0                 input_2[0][0]                                     \n",
      "______________________________________________________________________________________________________________________________________________________\n",
      "conv_encoder_3 (ConvEncoder)                     ((None, 36, 8, 8, 256), [(None,  3516960           tf_op_layer_unstack_2[0][3]                       \n",
      "                                                                                                    tf_op_layer_unstack_2[0][4]                       \n",
      "                                                                                                    tf_op_layer_unstack_2[0][6]                       \n",
      "                                                                                                    tf_op_layer_unstack_2[0][7]                       \n",
      "                                                                                                    tf_op_layer_unstack_2[0][2]                       \n",
      "                                                                                                    tf_op_layer_unstack_2[0][5]                       \n",
      "                                                                                                    tf_op_layer_unstack_2[0][0]                       \n",
      "                                                                                                    tf_op_layer_unstack_2[0][1]                       \n",
      "______________________________________________________________________________________________________________________________________________________\n",
      "tf_op_layer_stack_3 (TensorFlowOpLayer)          [(None, 36, 8, 8, 8, 256)]       0                 conv_encoder_3[6][0]                              \n",
      "                                                                                                    conv_encoder_3[7][0]                              \n",
      "                                                                                                    conv_encoder_3[4][0]                              \n",
      "                                                                                                    conv_encoder_3[0][0]                              \n",
      "                                                                                                    conv_encoder_3[1][0]                              \n",
      "                                                                                                    conv_encoder_3[5][0]                              \n",
      "                                                                                                    conv_encoder_3[2][0]                              \n",
      "                                                                                                    conv_encoder_3[3][0]                              \n",
      "______________________________________________________________________________________________________________________________________________________\n",
      "tf_op_layer_unstack_3 (TensorFlowOpLayer)        [(None, 8, 8, 8, 256), (None, 8, 0                 tf_op_layer_stack_3[0][0]                         \n",
      "______________________________________________________________________________________________________________________________________________________\n",
      "global_average_pooling3d_1 (GlobalAveragePooling (None, 256)                      0                 tf_op_layer_unstack_3[0][0]                       \n",
      "                                                                                                    tf_op_layer_unstack_3[0][1]                       \n",
      "                                                                                                    tf_op_layer_unstack_3[0][2]                       \n",
      "                                                                                                    tf_op_layer_unstack_3[0][3]                       \n",
      "                                                                                                    tf_op_layer_unstack_3[0][4]                       \n",
      "                                                                                                    tf_op_layer_unstack_3[0][5]                       \n",
      "                                                                                                    tf_op_layer_unstack_3[0][6]                       \n",
      "                                                                                                    tf_op_layer_unstack_3[0][7]                       \n",
      "                                                                                                    tf_op_layer_unstack_3[0][8]                       \n",
      "                                                                                                    tf_op_layer_unstack_3[0][9]                       \n",
      "                                                                                                    tf_op_layer_unstack_3[0][10]                      \n",
      "                                                                                                    tf_op_layer_unstack_3[0][11]                      \n",
      "                                                                                                    tf_op_layer_unstack_3[0][12]                      \n",
      "                                                                                                    tf_op_layer_unstack_3[0][13]                      \n",
      "                                                                                                    tf_op_layer_unstack_3[0][14]                      \n",
      "                                                                                                    tf_op_layer_unstack_3[0][15]                      \n",
      "                                                                                                    tf_op_layer_unstack_3[0][16]                      \n",
      "                                                                                                    tf_op_layer_unstack_3[0][17]                      \n",
      "                                                                                                    tf_op_layer_unstack_3[0][18]                      \n",
      "                                                                                                    tf_op_layer_unstack_3[0][19]                      \n",
      "                                                                                                    tf_op_layer_unstack_3[0][20]                      \n",
      "                                                                                                    tf_op_layer_unstack_3[0][21]                      \n",
      "                                                                                                    tf_op_layer_unstack_3[0][22]                      \n",
      "                                                                                                    tf_op_layer_unstack_3[0][23]                      \n",
      "                                                                                                    tf_op_layer_unstack_3[0][24]                      \n",
      "                                                                                                    tf_op_layer_unstack_3[0][25]                      \n",
      "                                                                                                    tf_op_layer_unstack_3[0][26]                      \n",
      "                                                                                                    tf_op_layer_unstack_3[0][27]                      \n",
      "                                                                                                    tf_op_layer_unstack_3[0][28]                      \n",
      "                                                                                                    tf_op_layer_unstack_3[0][29]                      \n",
      "                                                                                                    tf_op_layer_unstack_3[0][30]                      \n",
      "                                                                                                    tf_op_layer_unstack_3[0][31]                      \n",
      "                                                                                                    tf_op_layer_unstack_3[0][32]                      \n",
      "                                                                                                    tf_op_layer_unstack_3[0][33]                      \n",
      "                                                                                                    tf_op_layer_unstack_3[0][34]                      \n",
      "                                                                                                    tf_op_layer_unstack_3[0][35]                      \n",
      "______________________________________________________________________________________________________________________________________________________\n",
      "tf_op_layer_stack_4 (TensorFlowOpLayer)          [(None, 36, 256)]                0                 global_average_pooling3d_1[0][0]                  \n",
      "                                                                                                    global_average_pooling3d_1[1][0]                  \n",
      "                                                                                                    global_average_pooling3d_1[2][0]                  \n",
      "                                                                                                    global_average_pooling3d_1[3][0]                  \n",
      "                                                                                                    global_average_pooling3d_1[4][0]                  \n",
      "                                                                                                    global_average_pooling3d_1[5][0]                  \n",
      "                                                                                                    global_average_pooling3d_1[6][0]                  \n",
      "                                                                                                    global_average_pooling3d_1[7][0]                  \n",
      "                                                                                                    global_average_pooling3d_1[8][0]                  \n",
      "                                                                                                    global_average_pooling3d_1[9][0]                  \n",
      "                                                                                                    global_average_pooling3d_1[10][0]                 \n",
      "                                                                                                    global_average_pooling3d_1[11][0]                 \n",
      "                                                                                                    global_average_pooling3d_1[12][0]                 \n",
      "                                                                                                    global_average_pooling3d_1[13][0]                 \n",
      "                                                                                                    global_average_pooling3d_1[14][0]                 \n",
      "                                                                                                    global_average_pooling3d_1[15][0]                 \n",
      "                                                                                                    global_average_pooling3d_1[16][0]                 \n",
      "                                                                                                    global_average_pooling3d_1[17][0]                 \n",
      "                                                                                                    global_average_pooling3d_1[18][0]                 \n",
      "                                                                                                    global_average_pooling3d_1[19][0]                 \n",
      "                                                                                                    global_average_pooling3d_1[20][0]                 \n",
      "                                                                                                    global_average_pooling3d_1[21][0]                 \n",
      "                                                                                                    global_average_pooling3d_1[22][0]                 \n",
      "                                                                                                    global_average_pooling3d_1[23][0]                 \n",
      "                                                                                                    global_average_pooling3d_1[24][0]                 \n",
      "                                                                                                    global_average_pooling3d_1[25][0]                 \n",
      "                                                                                                    global_average_pooling3d_1[26][0]                 \n",
      "                                                                                                    global_average_pooling3d_1[27][0]                 \n",
      "                                                                                                    global_average_pooling3d_1[28][0]                 \n",
      "                                                                                                    global_average_pooling3d_1[29][0]                 \n",
      "                                                                                                    global_average_pooling3d_1[30][0]                 \n",
      "                                                                                                    global_average_pooling3d_1[31][0]                 \n",
      "                                                                                                    global_average_pooling3d_1[32][0]                 \n",
      "                                                                                                    global_average_pooling3d_1[33][0]                 \n",
      "                                                                                                    global_average_pooling3d_1[34][0]                 \n",
      "                                                                                                    global_average_pooling3d_1[35][0]                 \n",
      "______________________________________________________________________________________________________________________________________________________\n",
      "final_conv (Conv1D)                              (None, 36, 5)                    1285              tf_op_layer_stack_4[0][0]                         \n",
      "______________________________________________________________________________________________________________________________________________________\n",
      "tf_op_layer_ZerosLike_1 (TensorFlowOpLayer)      [(None, 36, 5)]                  0                 final_conv[0][0]                                  \n",
      "______________________________________________________________________________________________________________________________________________________\n",
      "tf_op_layer_stack_5 (TensorFlowOpLayer)          [(None, 2, 36, 5)]               0                 final_conv[0][0]                                  \n",
      "                                                                                                    tf_op_layer_ZerosLike_1[0][0]                     \n",
      "======================================================================================================================================================\n",
      "Total params: 3,518,245\n",
      "Trainable params: 3,516,325\n",
      "Non-trainable params: 1,920\n",
      "______________________________________________________________________________________________________________________________________________________\n"
     ]
    }
   ],
   "source": [
    "# write the model summary to a txt file\n",
    "# Open the file\n",
    "with open(os.path.join(EXP_PATH, 'model_summary.txt') ,'w') as fh:\n",
    "    # Pass the file handle in as a lambda function to make it callable\n",
    "    model.summary(print_fn=lambda x: fh.write(x + '\\n'))\n",
    "    \n",
    "# model.summary(line_length=150)"
   ]
  },
  {
   "cell_type": "code",
   "execution_count": 19,
   "metadata": {},
   "outputs": [
    {
     "name": "stderr",
     "output_type": "stream",
     "text": [
      "2021-02-25 10:26:20,310 INFO feed 4 Tensorboard is ready\n"
     ]
    },
    {
     "name": "stdout",
     "output_type": "stream",
     "text": [
      "Epoch 1/200\n",
      "26/26 [==============================] - ETA: 0s - loss: 1.3454 - mse_wrapper: 0.0744 - ca_wrapper: 0.4764 - meandiff: 9.8990"
     ]
    },
    {
     "name": "stderr",
     "output_type": "stream",
     "text": [
      "2021-02-25 10:27:19,337 INFO (4, 2, 36, 5)\n",
      "2021-02-25 10:27:19,862 INFO (4, 2, 36, 5)\n"
     ]
    },
    {
     "name": "stdout",
     "output_type": "stream",
     "text": [
      "\n",
      "Epoch 00001: loss improved from inf to 1.34540, saving model to exp/baseline/8_64_64__8_3_3_temp_enc_conv1_1_CCE_smoothNO_augNO_tempaugNO_batchsize8_f0/2021-02-25_10_22/model/model.h5\n",
      "26/26 [==============================] - 33s 1s/step - loss: 1.3454 - mse_wrapper: 0.0744 - ca_wrapper: 0.4764 - meandiff: 9.8990 - val_loss: 1.3330 - val_mse_wrapper: 0.0741 - val_ca_wrapper: 0.5009 - val_meandiff: 8.2812 - lr: 1.0000e-04\n",
      "Epoch 2/200\n",
      "26/26 [==============================] - ETA: 0s - loss: 1.1188 - mse_wrapper: 0.0539 - ca_wrapper: 0.6334 - meandiff: 6.9183"
     ]
    },
    {
     "name": "stderr",
     "output_type": "stream",
     "text": [
      "2021-02-25 10:27:49,514 INFO (4, 2, 36, 5)\n",
      "2021-02-25 10:27:50,048 INFO (4, 2, 36, 5)\n"
     ]
    },
    {
     "name": "stdout",
     "output_type": "stream",
     "text": [
      "\n",
      "Epoch 00002: loss improved from 1.34540 to 1.11880, saving model to exp/baseline/8_64_64__8_3_3_temp_enc_conv1_1_CCE_smoothNO_augNO_tempaugNO_batchsize8_f0/2021-02-25_10_22/model/model.h5\n",
      "26/26 [==============================] - 29s 1s/step - loss: 1.1188 - mse_wrapper: 0.0539 - ca_wrapper: 0.6334 - meandiff: 6.9183 - val_loss: 1.4963 - val_mse_wrapper: 0.0907 - val_ca_wrapper: 0.4349 - val_meandiff: 8.5312 - lr: 1.0000e-04\n",
      "Epoch 3/200\n",
      "26/26 [==============================] - ETA: 0s - loss: 0.9971 - mse_wrapper: 0.0430 - ca_wrapper: 0.7083 - meandiff: 6.0048"
     ]
    },
    {
     "name": "stderr",
     "output_type": "stream",
     "text": [
      "2021-02-25 10:28:19,942 INFO (4, 2, 36, 5)\n",
      "2021-02-25 10:28:20,457 INFO (4, 2, 36, 5)\n"
     ]
    },
    {
     "name": "stdout",
     "output_type": "stream",
     "text": [
      "\n",
      "Epoch 00003: loss improved from 1.11880 to 0.99713, saving model to exp/baseline/8_64_64__8_3_3_temp_enc_conv1_1_CCE_smoothNO_augNO_tempaugNO_batchsize8_f0/2021-02-25_10_22/model/model.h5\n",
      "26/26 [==============================] - 28s 1s/step - loss: 0.9971 - mse_wrapper: 0.0430 - ca_wrapper: 0.7083 - meandiff: 6.0048 - val_loss: 1.2876 - val_mse_wrapper: 0.0685 - val_ca_wrapper: 0.5938 - val_meandiff: 8.7812 - lr: 1.0000e-04\n",
      "Epoch 4/200\n",
      "26/26 [==============================] - ETA: 0s - loss: 0.9725 - mse_wrapper: 0.0408 - ca_wrapper: 0.7312 - meandiff: 5.7212"
     ]
    },
    {
     "name": "stderr",
     "output_type": "stream",
     "text": [
      "2021-02-25 10:28:49,989 INFO (4, 2, 36, 5)\n",
      "2021-02-25 10:28:50,526 INFO (4, 2, 36, 5)\n"
     ]
    },
    {
     "name": "stdout",
     "output_type": "stream",
     "text": [
      "\n",
      "Epoch 00004: loss improved from 0.99713 to 0.97247, saving model to exp/baseline/8_64_64__8_3_3_temp_enc_conv1_1_CCE_smoothNO_augNO_tempaugNO_batchsize8_f0/2021-02-25_10_22/model/model.h5\n",
      "26/26 [==============================] - 28s 1s/step - loss: 0.9725 - mse_wrapper: 0.0408 - ca_wrapper: 0.7312 - meandiff: 5.7212 - val_loss: 1.0434 - val_mse_wrapper: 0.0476 - val_ca_wrapper: 0.6693 - val_meandiff: 5.8438 - lr: 1.0000e-04\n",
      "Epoch 5/200\n",
      "26/26 [==============================] - ETA: 0s - loss: 0.9142 - mse_wrapper: 0.0354 - ca_wrapper: 0.7560 - meandiff: 5.5481\n",
      "Epoch 00005: loss improved from 0.97247 to 0.91415, saving model to exp/baseline/8_64_64__8_3_3_temp_enc_conv1_1_CCE_smoothNO_augNO_tempaugNO_batchsize8_f0/2021-02-25_10_22/model/model.h5\n",
      "26/26 [==============================] - 27s 1s/step - loss: 0.9142 - mse_wrapper: 0.0354 - ca_wrapper: 0.7560 - meandiff: 5.5481 - val_loss: 1.0110 - val_mse_wrapper: 0.0443 - val_ca_wrapper: 0.6845 - val_meandiff: 5.5312 - lr: 1.0000e-04\n",
      "Epoch 6/200\n",
      "26/26 [==============================] - ETA: 0s - loss: 0.8931 - mse_wrapper: 0.0334 - ca_wrapper: 0.7671 - meandiff: 5.4231"
     ]
    },
    {
     "name": "stderr",
     "output_type": "stream",
     "text": [
      "2021-02-25 10:29:49,036 INFO (4, 2, 36, 5)\n",
      "2021-02-25 10:29:49,808 INFO (4, 2, 36, 5)\n"
     ]
    },
    {
     "name": "stdout",
     "output_type": "stream",
     "text": [
      "\n",
      "Epoch 00006: loss improved from 0.91415 to 0.89310, saving model to exp/baseline/8_64_64__8_3_3_temp_enc_conv1_1_CCE_smoothNO_augNO_tempaugNO_batchsize8_f0/2021-02-25_10_22/model/model.h5\n",
      "26/26 [==============================] - 29s 1s/step - loss: 0.8931 - mse_wrapper: 0.0334 - ca_wrapper: 0.7671 - meandiff: 5.4231 - val_loss: 1.0114 - val_mse_wrapper: 0.0441 - val_ca_wrapper: 0.6771 - val_meandiff: 5.7188 - lr: 1.0000e-04\n",
      "Epoch 7/200\n",
      "26/26 [==============================] - ETA: 0s - loss: 0.8764 - mse_wrapper: 0.0317 - ca_wrapper: 0.7734 - meandiff: 5.3173\n",
      "Epoch 00007: loss improved from 0.89310 to 0.87638, saving model to exp/baseline/8_64_64__8_3_3_temp_enc_conv1_1_CCE_smoothNO_augNO_tempaugNO_batchsize8_f0/2021-02-25_10_22/model/model.h5\n",
      "26/26 [==============================] - 28s 1s/step - loss: 0.8764 - mse_wrapper: 0.0317 - ca_wrapper: 0.7734 - meandiff: 5.3173 - val_loss: 1.0162 - val_mse_wrapper: 0.0444 - val_ca_wrapper: 0.6780 - val_meandiff: 6.0000 - lr: 1.0000e-04\n",
      "Epoch 8/200\n",
      "26/26 [==============================] - ETA: 0s - loss: 0.9285 - mse_wrapper: 0.0366 - ca_wrapper: 0.7481 - meandiff: 5.4183"
     ]
    },
    {
     "name": "stderr",
     "output_type": "stream",
     "text": [
      "2021-02-25 10:30:50,616 INFO (4, 2, 36, 5)\n",
      "2021-02-25 10:30:51,160 INFO (4, 2, 36, 5)\n"
     ]
    },
    {
     "name": "stdout",
     "output_type": "stream",
     "text": [
      "\n",
      "Epoch 00008: loss did not improve from 0.87638\n",
      "26/26 [==============================] - 30s 1s/step - loss: 0.9285 - mse_wrapper: 0.0366 - ca_wrapper: 0.7481 - meandiff: 5.4183 - val_loss: 1.0045 - val_mse_wrapper: 0.0419 - val_ca_wrapper: 0.7001 - val_meandiff: 5.6562 - lr: 1.0000e-04\n",
      "Epoch 9/200\n",
      "26/26 [==============================] - ETA: 0s - loss: 0.8775 - mse_wrapper: 0.0315 - ca_wrapper: 0.7771 - meandiff: 5.4567\n",
      "Epoch 00009: loss did not improve from 0.87638\n",
      "26/26 [==============================] - 29s 1s/step - loss: 0.8775 - mse_wrapper: 0.0315 - ca_wrapper: 0.7771 - meandiff: 5.4567 - val_loss: 1.0086 - val_mse_wrapper: 0.0420 - val_ca_wrapper: 0.7070 - val_meandiff: 5.9062 - lr: 1.0000e-04\n",
      "Epoch 10/200\n",
      "26/26 [==============================] - ETA: 0s - loss: 0.8683 - mse_wrapper: 0.0309 - ca_wrapper: 0.7814 - meandiff: 5.1779"
     ]
    },
    {
     "name": "stderr",
     "output_type": "stream",
     "text": [
      "2021-02-25 10:31:53,335 INFO (4, 2, 36, 5)\n",
      "2021-02-25 10:31:53,910 INFO (4, 2, 36, 5)\n"
     ]
    },
    {
     "name": "stdout",
     "output_type": "stream",
     "text": [
      "\n",
      "Epoch 00010: loss improved from 0.87638 to 0.86826, saving model to exp/baseline/8_64_64__8_3_3_temp_enc_conv1_1_CCE_smoothNO_augNO_tempaugNO_batchsize8_f0/2021-02-25_10_22/model/model.h5\n",
      "26/26 [==============================] - 31s 1s/step - loss: 0.8683 - mse_wrapper: 0.0309 - ca_wrapper: 0.7814 - meandiff: 5.1779 - val_loss: 1.0028 - val_mse_wrapper: 0.0412 - val_ca_wrapper: 0.6957 - val_meandiff: 6.0156 - lr: 1.0000e-04\n",
      "Epoch 11/200\n",
      "26/26 [==============================] - ETA: 0s - loss: 0.8481 - mse_wrapper: 0.0287 - ca_wrapper: 0.7954 - meandiff: 4.9567\n",
      "Epoch 00011: loss improved from 0.86826 to 0.84814, saving model to exp/baseline/8_64_64__8_3_3_temp_enc_conv1_1_CCE_smoothNO_augNO_tempaugNO_batchsize8_f0/2021-02-25_10_22/model/model.h5\n",
      "26/26 [==============================] - 30s 1s/step - loss: 0.8481 - mse_wrapper: 0.0287 - ca_wrapper: 0.7954 - meandiff: 4.9567 - val_loss: 0.9447 - val_mse_wrapper: 0.0368 - val_ca_wrapper: 0.7335 - val_meandiff: 5.3906 - lr: 1.0000e-04\n",
      "Epoch 12/200\n",
      "26/26 [==============================] - ETA: 0s - loss: 0.8355 - mse_wrapper: 0.0273 - ca_wrapper: 0.8041 - meandiff: 4.8413"
     ]
    },
    {
     "name": "stderr",
     "output_type": "stream",
     "text": [
      "2021-02-25 10:32:57,574 INFO (4, 2, 36, 5)\n",
      "2021-02-25 10:32:58,112 INFO (4, 2, 36, 5)\n"
     ]
    },
    {
     "name": "stdout",
     "output_type": "stream",
     "text": [
      "\n",
      "Epoch 00012: loss improved from 0.84814 to 0.83551, saving model to exp/baseline/8_64_64__8_3_3_temp_enc_conv1_1_CCE_smoothNO_augNO_tempaugNO_batchsize8_f0/2021-02-25_10_22/model/model.h5\n",
      "26/26 [==============================] - 31s 1s/step - loss: 0.8355 - mse_wrapper: 0.0273 - ca_wrapper: 0.8041 - meandiff: 4.8413 - val_loss: 1.0513 - val_mse_wrapper: 0.0440 - val_ca_wrapper: 0.7014 - val_meandiff: 5.5312 - lr: 1.0000e-04\n",
      "Epoch 13/200\n",
      "26/26 [==============================] - ETA: 0s - loss: 0.8311 - mse_wrapper: 0.0269 - ca_wrapper: 0.8064 - meandiff: 4.8173\n",
      "Epoch 00013: loss improved from 0.83551 to 0.83106, saving model to exp/baseline/8_64_64__8_3_3_temp_enc_conv1_1_CCE_smoothNO_augNO_tempaugNO_batchsize8_f0/2021-02-25_10_22/model/model.h5\n",
      "26/26 [==============================] - 30s 1s/step - loss: 0.8311 - mse_wrapper: 0.0269 - ca_wrapper: 0.8064 - meandiff: 4.8173 - val_loss: 1.1844 - val_mse_wrapper: 0.0545 - val_ca_wrapper: 0.6406 - val_meandiff: 6.4531 - lr: 1.0000e-04\n",
      "Epoch 14/200\n",
      "26/26 [==============================] - ETA: 0s - loss: 0.8359 - mse_wrapper: 0.0275 - ca_wrapper: 0.7957 - meandiff: 4.7692"
     ]
    },
    {
     "name": "stderr",
     "output_type": "stream",
     "text": [
      "2021-02-25 10:34:01,455 INFO (4, 2, 36, 5)\n",
      "2021-02-25 10:34:01,955 INFO (4, 2, 36, 5)\n"
     ]
    },
    {
     "name": "stdout",
     "output_type": "stream",
     "text": [
      "\n",
      "Epoch 00014: loss did not improve from 0.83106\n",
      "26/26 [==============================] - 30s 1s/step - loss: 0.8359 - mse_wrapper: 0.0275 - ca_wrapper: 0.7957 - meandiff: 4.7692 - val_loss: 1.0923 - val_mse_wrapper: 0.0489 - val_ca_wrapper: 0.6697 - val_meandiff: 6.0312 - lr: 1.0000e-04\n",
      "Epoch 15/200\n",
      "26/26 [==============================] - ETA: 0s - loss: 0.8298 - mse_wrapper: 0.0269 - ca_wrapper: 0.8042 - meandiff: 4.6923\n",
      "Epoch 00015: loss improved from 0.83106 to 0.82985, saving model to exp/baseline/8_64_64__8_3_3_temp_enc_conv1_1_CCE_smoothNO_augNO_tempaugNO_batchsize8_f0/2021-02-25_10_22/model/model.h5\n",
      "26/26 [==============================] - 30s 1s/step - loss: 0.8298 - mse_wrapper: 0.0269 - ca_wrapper: 0.8042 - meandiff: 4.6923 - val_loss: 1.0170 - val_mse_wrapper: 0.0409 - val_ca_wrapper: 0.7244 - val_meandiff: 5.4531 - lr: 1.0000e-04\n",
      "Epoch 16/200\n",
      "26/26 [==============================] - ETA: 0s - loss: 0.8182 - mse_wrapper: 0.0255 - ca_wrapper: 0.8132 - meandiff: 4.6250"
     ]
    },
    {
     "name": "stderr",
     "output_type": "stream",
     "text": [
      "2021-02-25 10:35:05,849 INFO (4, 2, 36, 5)\n",
      "2021-02-25 10:35:06,366 INFO (4, 2, 36, 5)\n"
     ]
    },
    {
     "name": "stdout",
     "output_type": "stream",
     "text": [
      "\n",
      "Epoch 00016: loss improved from 0.82985 to 0.81822, saving model to exp/baseline/8_64_64__8_3_3_temp_enc_conv1_1_CCE_smoothNO_augNO_tempaugNO_batchsize8_f0/2021-02-25_10_22/model/model.h5\n",
      "26/26 [==============================] - 32s 1s/step - loss: 0.8182 - mse_wrapper: 0.0255 - ca_wrapper: 0.8132 - meandiff: 4.6250 - val_loss: 1.1981 - val_mse_wrapper: 0.0546 - val_ca_wrapper: 0.6528 - val_meandiff: 6.4375 - lr: 1.0000e-04\n",
      "Epoch 17/200\n",
      "26/26 [==============================] - ETA: 0s - loss: 0.8173 - mse_wrapper: 0.0253 - ca_wrapper: 0.8142 - meandiff: 4.6202\n",
      "Epoch 00017: loss improved from 0.81822 to 0.81729, saving model to exp/baseline/8_64_64__8_3_3_temp_enc_conv1_1_CCE_smoothNO_augNO_tempaugNO_batchsize8_f0/2021-02-25_10_22/model/model.h5\n",
      "26/26 [==============================] - 30s 1s/step - loss: 0.8173 - mse_wrapper: 0.0253 - ca_wrapper: 0.8142 - meandiff: 4.6202 - val_loss: 0.9984 - val_mse_wrapper: 0.0402 - val_ca_wrapper: 0.7057 - val_meandiff: 5.3906 - lr: 1.0000e-04\n",
      "Epoch 18/200\n",
      "26/26 [==============================] - ETA: 0s - loss: 0.8153 - mse_wrapper: 0.0252 - ca_wrapper: 0.8125 - meandiff: 4.4471"
     ]
    },
    {
     "name": "stderr",
     "output_type": "stream",
     "text": [
      "2021-02-25 10:36:09,945 INFO (4, 2, 36, 5)\n",
      "2021-02-25 10:36:10,455 INFO (4, 2, 36, 5)\n"
     ]
    },
    {
     "name": "stdout",
     "output_type": "stream",
     "text": [
      "\n",
      "Epoch 00018: loss improved from 0.81729 to 0.81535, saving model to exp/baseline/8_64_64__8_3_3_temp_enc_conv1_1_CCE_smoothNO_augNO_tempaugNO_batchsize8_f0/2021-02-25_10_22/model/model.h5\n",
      "26/26 [==============================] - 31s 1s/step - loss: 0.8153 - mse_wrapper: 0.0252 - ca_wrapper: 0.8125 - meandiff: 4.4471 - val_loss: 1.1756 - val_mse_wrapper: 0.0503 - val_ca_wrapper: 0.6931 - val_meandiff: 5.5469 - lr: 1.0000e-04\n",
      "Epoch 19/200\n",
      "26/26 [==============================] - ETA: 0s - loss: 0.8101 - mse_wrapper: 0.0248 - ca_wrapper: 0.8158 - meandiff: 4.4615\n",
      "Epoch 00019: loss improved from 0.81535 to 0.81007, saving model to exp/baseline/8_64_64__8_3_3_temp_enc_conv1_1_CCE_smoothNO_augNO_tempaugNO_batchsize8_f0/2021-02-25_10_22/model/model.h5\n",
      "26/26 [==============================] - 30s 1s/step - loss: 0.8101 - mse_wrapper: 0.0248 - ca_wrapper: 0.8158 - meandiff: 4.4615 - val_loss: 1.1454 - val_mse_wrapper: 0.0505 - val_ca_wrapper: 0.6710 - val_meandiff: 5.8594 - lr: 1.0000e-04\n",
      "Epoch 20/200\n",
      "26/26 [==============================] - ETA: 0s - loss: 0.8077 - mse_wrapper: 0.0247 - ca_wrapper: 0.8140 - meandiff: 4.7212"
     ]
    },
    {
     "name": "stderr",
     "output_type": "stream",
     "text": [
      "2021-02-25 10:37:14,150 INFO (4, 2, 36, 5)\n",
      "2021-02-25 10:37:14,689 INFO (4, 2, 36, 5)\n"
     ]
    },
    {
     "name": "stdout",
     "output_type": "stream",
     "text": [
      "\n",
      "Epoch 00020: loss improved from 0.81007 to 0.80772, saving model to exp/baseline/8_64_64__8_3_3_temp_enc_conv1_1_CCE_smoothNO_augNO_tempaugNO_batchsize8_f0/2021-02-25_10_22/model/model.h5\n",
      "26/26 [==============================] - 31s 1s/step - loss: 0.8077 - mse_wrapper: 0.0247 - ca_wrapper: 0.8140 - meandiff: 4.7212 - val_loss: 1.2156 - val_mse_wrapper: 0.0538 - val_ca_wrapper: 0.6567 - val_meandiff: 6.0625 - lr: 1.0000e-04\n",
      "Epoch 21/200\n",
      "26/26 [==============================] - ETA: 0s - loss: 0.8054 - mse_wrapper: 0.0241 - ca_wrapper: 0.8212 - meandiff: 4.4808\n",
      "Epoch 00021: loss improved from 0.80772 to 0.80542, saving model to exp/baseline/8_64_64__8_3_3_temp_enc_conv1_1_CCE_smoothNO_augNO_tempaugNO_batchsize8_f0/2021-02-25_10_22/model/model.h5\n",
      "26/26 [==============================] - 30s 1s/step - loss: 0.8054 - mse_wrapper: 0.0241 - ca_wrapper: 0.8212 - meandiff: 4.4808 - val_loss: 1.2502 - val_mse_wrapper: 0.0549 - val_ca_wrapper: 0.6584 - val_meandiff: 6.1562 - lr: 1.0000e-04\n",
      "Epoch 22/200\n",
      "26/26 [==============================] - ETA: 0s - loss: 0.8022 - mse_wrapper: 0.0238 - ca_wrapper: 0.8174 - meandiff: 4.3173"
     ]
    },
    {
     "name": "stderr",
     "output_type": "stream",
     "text": [
      "2021-02-25 10:38:17,787 INFO (4, 2, 36, 5)\n",
      "2021-02-25 10:38:18,643 INFO (4, 2, 36, 5)\n"
     ]
    },
    {
     "name": "stdout",
     "output_type": "stream",
     "text": [
      "\n",
      "Epoch 00022: loss improved from 0.80542 to 0.80220, saving model to exp/baseline/8_64_64__8_3_3_temp_enc_conv1_1_CCE_smoothNO_augNO_tempaugNO_batchsize8_f0/2021-02-25_10_22/model/model.h5\n",
      "26/26 [==============================] - 31s 1s/step - loss: 0.8022 - mse_wrapper: 0.0238 - ca_wrapper: 0.8174 - meandiff: 4.3173 - val_loss: 1.0605 - val_mse_wrapper: 0.0419 - val_ca_wrapper: 0.7209 - val_meandiff: 5.4219 - lr: 1.0000e-04\n",
      "Epoch 23/200\n",
      "26/26 [==============================] - ETA: 0s - loss: 0.8104 - mse_wrapper: 0.0246 - ca_wrapper: 0.8162 - meandiff: 4.3942\n",
      "Epoch 00023: loss did not improve from 0.80220\n",
      "26/26 [==============================] - 29s 1s/step - loss: 0.8104 - mse_wrapper: 0.0246 - ca_wrapper: 0.8162 - meandiff: 4.3942 - val_loss: 1.0181 - val_mse_wrapper: 0.0404 - val_ca_wrapper: 0.7244 - val_meandiff: 5.0312 - lr: 1.0000e-04\n",
      "Epoch 24/200\n",
      "26/26 [==============================] - ETA: 0s - loss: 0.7973 - mse_wrapper: 0.0234 - ca_wrapper: 0.8192 - meandiff: 4.3173"
     ]
    },
    {
     "name": "stderr",
     "output_type": "stream",
     "text": [
      "2021-02-25 10:39:21,474 INFO (4, 2, 36, 5)\n",
      "2021-02-25 10:39:21,977 INFO (4, 2, 36, 5)\n"
     ]
    },
    {
     "name": "stdout",
     "output_type": "stream",
     "text": [
      "\n",
      "Epoch 00024: loss improved from 0.80220 to 0.79726, saving model to exp/baseline/8_64_64__8_3_3_temp_enc_conv1_1_CCE_smoothNO_augNO_tempaugNO_batchsize8_f0/2021-02-25_10_22/model/model.h5\n",
      "26/26 [==============================] - 31s 1s/step - loss: 0.7973 - mse_wrapper: 0.0234 - ca_wrapper: 0.8192 - meandiff: 4.3173 - val_loss: 1.2505 - val_mse_wrapper: 0.0559 - val_ca_wrapper: 0.6476 - val_meandiff: 6.0781 - lr: 1.0000e-04\n",
      "Epoch 25/200\n",
      "26/26 [==============================] - ETA: 0s - loss: 0.8024 - mse_wrapper: 0.0236 - ca_wrapper: 0.8201 - meandiff: 4.2981\n",
      "Epoch 00025: loss did not improve from 0.79726\n",
      "26/26 [==============================] - 29s 1s/step - loss: 0.8024 - mse_wrapper: 0.0236 - ca_wrapper: 0.8201 - meandiff: 4.2981 - val_loss: 1.0489 - val_mse_wrapper: 0.0436 - val_ca_wrapper: 0.7044 - val_meandiff: 5.6562 - lr: 1.0000e-04\n",
      "Epoch 26/200\n",
      "26/26 [==============================] - ETA: 0s - loss: 0.8047 - mse_wrapper: 0.0242 - ca_wrapper: 0.8134 - meandiff: 4.5721"
     ]
    },
    {
     "name": "stderr",
     "output_type": "stream",
     "text": [
      "2021-02-25 10:40:24,172 INFO (4, 2, 36, 5)\n",
      "2021-02-25 10:40:24,735 INFO (4, 2, 36, 5)\n"
     ]
    },
    {
     "name": "stdout",
     "output_type": "stream",
     "text": [
      "\n",
      "Epoch 00026: loss did not improve from 0.79726\n",
      "26/26 [==============================] - 30s 1s/step - loss: 0.8047 - mse_wrapper: 0.0242 - ca_wrapper: 0.8134 - meandiff: 4.5721 - val_loss: 1.0977 - val_mse_wrapper: 0.0474 - val_ca_wrapper: 0.6780 - val_meandiff: 5.8594 - lr: 1.0000e-04\n",
      "Epoch 27/200\n",
      "26/26 [==============================] - ETA: 0s - loss: 0.7985 - mse_wrapper: 0.0235 - ca_wrapper: 0.8210 - meandiff: 4.4423\n",
      "Epoch 00027: loss did not improve from 0.79726\n",
      "26/26 [==============================] - 30s 1s/step - loss: 0.7985 - mse_wrapper: 0.0235 - ca_wrapper: 0.8210 - meandiff: 4.4423 - val_loss: 1.0274 - val_mse_wrapper: 0.0406 - val_ca_wrapper: 0.7066 - val_meandiff: 4.9062 - lr: 1.0000e-04\n",
      "Epoch 28/200\n",
      "26/26 [==============================] - ETA: 0s - loss: 0.7960 - mse_wrapper: 0.0232 - ca_wrapper: 0.8241 - meandiff: 4.3077"
     ]
    },
    {
     "name": "stderr",
     "output_type": "stream",
     "text": [
      "2021-02-25 10:41:28,189 INFO (4, 2, 36, 5)\n",
      "2021-02-25 10:41:28,747 INFO (4, 2, 36, 5)\n"
     ]
    },
    {
     "name": "stdout",
     "output_type": "stream",
     "text": [
      "\n",
      "Epoch 00028: loss improved from 0.79726 to 0.79600, saving model to exp/baseline/8_64_64__8_3_3_temp_enc_conv1_1_CCE_smoothNO_augNO_tempaugNO_batchsize8_f0/2021-02-25_10_22/model/model.h5\n",
      "26/26 [==============================] - 31s 1s/step - loss: 0.7960 - mse_wrapper: 0.0232 - ca_wrapper: 0.8241 - meandiff: 4.3077 - val_loss: 0.9800 - val_mse_wrapper: 0.0364 - val_ca_wrapper: 0.7461 - val_meandiff: 4.8750 - lr: 1.0000e-04\n",
      "Epoch 29/200\n",
      "26/26 [==============================] - ETA: 0s - loss: 0.7926 - mse_wrapper: 0.0229 - ca_wrapper: 0.8241 - meandiff: 4.2933\n",
      "Epoch 00029: loss improved from 0.79600 to 0.79262, saving model to exp/baseline/8_64_64__8_3_3_temp_enc_conv1_1_CCE_smoothNO_augNO_tempaugNO_batchsize8_f0/2021-02-25_10_22/model/model.h5\n",
      "26/26 [==============================] - 30s 1s/step - loss: 0.7926 - mse_wrapper: 0.0229 - ca_wrapper: 0.8241 - meandiff: 4.2933 - val_loss: 1.0860 - val_mse_wrapper: 0.0436 - val_ca_wrapper: 0.7222 - val_meandiff: 5.0312 - lr: 1.0000e-04\n",
      "Epoch 30/200\n",
      "26/26 [==============================] - ETA: 0s - loss: 0.7927 - mse_wrapper: 0.0227 - ca_wrapper: 0.8264 - meandiff: 4.1394"
     ]
    },
    {
     "name": "stderr",
     "output_type": "stream",
     "text": [
      "2021-02-25 10:42:31,681 INFO (4, 2, 36, 5)\n",
      "2021-02-25 10:42:32,226 INFO (4, 2, 36, 5)\n"
     ]
    },
    {
     "name": "stdout",
     "output_type": "stream",
     "text": [
      "\n",
      "Epoch 00030: loss did not improve from 0.79262\n",
      "26/26 [==============================] - 30s 1s/step - loss: 0.7927 - mse_wrapper: 0.0227 - ca_wrapper: 0.8264 - meandiff: 4.1394 - val_loss: 1.2236 - val_mse_wrapper: 0.0555 - val_ca_wrapper: 0.6536 - val_meandiff: 6.3125 - lr: 1.0000e-04\n",
      "Epoch 31/200\n",
      "26/26 [==============================] - ETA: 0s - loss: 0.7944 - mse_wrapper: 0.0232 - ca_wrapper: 0.8247 - meandiff: 4.3654\n",
      "Epoch 00031: loss did not improve from 0.79262\n",
      "26/26 [==============================] - 30s 1s/step - loss: 0.7944 - mse_wrapper: 0.0232 - ca_wrapper: 0.8247 - meandiff: 4.3654 - val_loss: 1.0407 - val_mse_wrapper: 0.0408 - val_ca_wrapper: 0.7244 - val_meandiff: 5.5625 - lr: 1.0000e-04\n",
      "Epoch 32/200\n",
      "26/26 [==============================] - ETA: 0s - loss: 0.7796 - mse_wrapper: 0.0215 - ca_wrapper: 0.8325 - meandiff: 4.1442"
     ]
    },
    {
     "name": "stderr",
     "output_type": "stream",
     "text": [
      "2021-02-25 10:43:35,508 INFO (4, 2, 36, 5)\n",
      "2021-02-25 10:43:36,014 INFO (4, 2, 36, 5)\n"
     ]
    },
    {
     "name": "stdout",
     "output_type": "stream",
     "text": [
      "\n",
      "Epoch 00032: loss improved from 0.79262 to 0.77962, saving model to exp/baseline/8_64_64__8_3_3_temp_enc_conv1_1_CCE_smoothNO_augNO_tempaugNO_batchsize8_f0/2021-02-25_10_22/model/model.h5\n",
      "26/26 [==============================] - 31s 1s/step - loss: 0.7796 - mse_wrapper: 0.0215 - ca_wrapper: 0.8325 - meandiff: 4.1442 - val_loss: 1.1287 - val_mse_wrapper: 0.0464 - val_ca_wrapper: 0.6966 - val_meandiff: 5.4062 - lr: 1.0000e-04\n",
      "Epoch 33/200\n",
      "26/26 [==============================] - ETA: 0s - loss: 0.7903 - mse_wrapper: 0.0224 - ca_wrapper: 0.8276 - meandiff: 4.1490\n",
      "Epoch 00033: loss did not improve from 0.77962\n",
      "26/26 [==============================] - 29s 1s/step - loss: 0.7903 - mse_wrapper: 0.0224 - ca_wrapper: 0.8276 - meandiff: 4.1490 - val_loss: 1.1631 - val_mse_wrapper: 0.0479 - val_ca_wrapper: 0.6953 - val_meandiff: 5.7188 - lr: 1.0000e-04\n",
      "Epoch 34/200\n",
      "26/26 [==============================] - ETA: 0s - loss: 0.7810 - mse_wrapper: 0.0217 - ca_wrapper: 0.8311 - meandiff: 4.1442"
     ]
    },
    {
     "name": "stderr",
     "output_type": "stream",
     "text": [
      "2021-02-25 10:44:38,707 INFO (4, 2, 36, 5)\n",
      "2021-02-25 10:44:39,250 INFO (4, 2, 36, 5)\n"
     ]
    },
    {
     "name": "stdout",
     "output_type": "stream",
     "text": [
      "\n",
      "Epoch 00034: loss did not improve from 0.77962\n",
      "26/26 [==============================] - 31s 1s/step - loss: 0.7810 - mse_wrapper: 0.0217 - ca_wrapper: 0.8311 - meandiff: 4.1442 - val_loss: 1.1493 - val_mse_wrapper: 0.0459 - val_ca_wrapper: 0.7253 - val_meandiff: 5.5781 - lr: 1.0000e-04\n",
      "Epoch 35/200\n",
      "26/26 [==============================] - ETA: 0s - loss: 0.7884 - mse_wrapper: 0.0224 - ca_wrapper: 0.8281 - meandiff: 4.2740\n",
      "Epoch 00035: loss did not improve from 0.77962\n",
      "26/26 [==============================] - 29s 1s/step - loss: 0.7884 - mse_wrapper: 0.0224 - ca_wrapper: 0.8281 - meandiff: 4.2740 - val_loss: 1.1194 - val_mse_wrapper: 0.0444 - val_ca_wrapper: 0.7166 - val_meandiff: 5.2812 - lr: 1.0000e-04\n",
      "Epoch 36/200\n",
      "26/26 [==============================] - ETA: 0s - loss: 0.7841 - mse_wrapper: 0.0219 - ca_wrapper: 0.8303 - meandiff: 4.1154"
     ]
    },
    {
     "name": "stderr",
     "output_type": "stream",
     "text": [
      "2021-02-25 10:45:41,855 INFO (4, 2, 36, 5)\n",
      "2021-02-25 10:45:42,403 INFO (4, 2, 36, 5)\n"
     ]
    },
    {
     "name": "stdout",
     "output_type": "stream",
     "text": [
      "\n",
      "Epoch 00036: loss did not improve from 0.77962\n",
      "26/26 [==============================] - 30s 1s/step - loss: 0.7841 - mse_wrapper: 0.0219 - ca_wrapper: 0.8303 - meandiff: 4.1154 - val_loss: 1.0328 - val_mse_wrapper: 0.0407 - val_ca_wrapper: 0.7253 - val_meandiff: 5.1719 - lr: 1.0000e-04\n",
      "Epoch 37/200\n",
      "26/26 [==============================] - ETA: 0s - loss: 0.7822 - mse_wrapper: 0.0217 - ca_wrapper: 0.8327 - meandiff: 4.0240\n",
      "Epoch 00037: loss did not improve from 0.77962\n",
      "\n",
      "Epoch 00037: ReduceLROnPlateau reducing learning rate to 2.9999999242136255e-05.\n",
      "26/26 [==============================] - 30s 1s/step - loss: 0.7822 - mse_wrapper: 0.0217 - ca_wrapper: 0.8327 - meandiff: 4.0240 - val_loss: 1.1248 - val_mse_wrapper: 0.0443 - val_ca_wrapper: 0.7023 - val_meandiff: 5.1562 - lr: 3.0000e-05\n",
      "Epoch 38/200\n",
      "26/26 [==============================] - ETA: 0s - loss: 0.7720 - mse_wrapper: 0.0206 - ca_wrapper: 0.8379 - meandiff: 3.9327"
     ]
    },
    {
     "name": "stderr",
     "output_type": "stream",
     "text": [
      "2021-02-25 10:46:45,089 INFO (4, 2, 36, 5)\n",
      "2021-02-25 10:46:45,589 INFO (4, 2, 36, 5)\n"
     ]
    },
    {
     "name": "stdout",
     "output_type": "stream",
     "text": [
      "\n",
      "Epoch 00038: loss improved from 0.77962 to 0.77203, saving model to exp/baseline/8_64_64__8_3_3_temp_enc_conv1_1_CCE_smoothNO_augNO_tempaugNO_batchsize8_f0/2021-02-25_10_22/model/model.h5\n",
      "26/26 [==============================] - 31s 1s/step - loss: 0.7720 - mse_wrapper: 0.0206 - ca_wrapper: 0.8379 - meandiff: 3.9327 - val_loss: 1.0923 - val_mse_wrapper: 0.0423 - val_ca_wrapper: 0.7231 - val_meandiff: 5.3750 - lr: 3.0000e-05\n",
      "Epoch 39/200\n",
      "26/26 [==============================] - ETA: 0s - loss: 0.7675 - mse_wrapper: 0.0200 - ca_wrapper: 0.8420 - meandiff: 4.0337\n",
      "Epoch 00039: loss improved from 0.77203 to 0.76745, saving model to exp/baseline/8_64_64__8_3_3_temp_enc_conv1_1_CCE_smoothNO_augNO_tempaugNO_batchsize8_f0/2021-02-25_10_22/model/model.h5\n",
      "26/26 [==============================] - 29s 1s/step - loss: 0.7675 - mse_wrapper: 0.0200 - ca_wrapper: 0.8420 - meandiff: 4.0337 - val_loss: 1.0995 - val_mse_wrapper: 0.0436 - val_ca_wrapper: 0.7036 - val_meandiff: 5.4844 - lr: 3.0000e-05\n",
      "Epoch 40/200\n",
      "26/26 [==============================] - ETA: 0s - loss: 0.7599 - mse_wrapper: 0.0192 - ca_wrapper: 0.8464 - meandiff: 3.8798"
     ]
    },
    {
     "name": "stderr",
     "output_type": "stream",
     "text": [
      "2021-02-25 10:47:48,337 INFO (4, 2, 36, 5)\n",
      "2021-02-25 10:47:48,883 INFO (4, 2, 36, 5)\n"
     ]
    },
    {
     "name": "stdout",
     "output_type": "stream",
     "text": [
      "\n",
      "Epoch 00040: loss improved from 0.76745 to 0.75991, saving model to exp/baseline/8_64_64__8_3_3_temp_enc_conv1_1_CCE_smoothNO_augNO_tempaugNO_batchsize8_f0/2021-02-25_10_22/model/model.h5\n",
      "26/26 [==============================] - 31s 1s/step - loss: 0.7599 - mse_wrapper: 0.0192 - ca_wrapper: 0.8464 - meandiff: 3.8798 - val_loss: 1.1054 - val_mse_wrapper: 0.0437 - val_ca_wrapper: 0.7161 - val_meandiff: 5.4375 - lr: 3.0000e-05\n",
      "Epoch 41/200\n",
      "26/26 [==============================] - ETA: 0s - loss: 0.7657 - mse_wrapper: 0.0199 - ca_wrapper: 0.8397 - meandiff: 4.1202\n",
      "Epoch 00041: loss did not improve from 0.75991\n",
      "26/26 [==============================] - 29s 1s/step - loss: 0.7657 - mse_wrapper: 0.0199 - ca_wrapper: 0.8397 - meandiff: 4.1202 - val_loss: 1.1860 - val_mse_wrapper: 0.0473 - val_ca_wrapper: 0.6962 - val_meandiff: 5.1562 - lr: 3.0000e-05\n",
      "Epoch 42/200\n",
      "26/26 [==============================] - ETA: 0s - loss: 0.7693 - mse_wrapper: 0.0203 - ca_wrapper: 0.8403 - meandiff: 3.9519"
     ]
    },
    {
     "name": "stderr",
     "output_type": "stream",
     "text": [
      "2021-02-25 10:48:52,106 INFO (4, 2, 36, 5)\n",
      "2021-02-25 10:48:53,034 INFO (4, 2, 36, 5)\n"
     ]
    },
    {
     "name": "stdout",
     "output_type": "stream",
     "text": [
      "\n",
      "Epoch 00042: loss did not improve from 0.75991\n",
      "26/26 [==============================] - 31s 1s/step - loss: 0.7693 - mse_wrapper: 0.0203 - ca_wrapper: 0.8403 - meandiff: 3.9519 - val_loss: 1.0634 - val_mse_wrapper: 0.0412 - val_ca_wrapper: 0.7266 - val_meandiff: 5.1406 - lr: 3.0000e-05\n",
      "Epoch 43/200\n",
      "26/26 [==============================] - ETA: 0s - loss: 0.7648 - mse_wrapper: 0.0196 - ca_wrapper: 0.8484 - meandiff: 3.8365\n",
      "Epoch 00043: loss did not improve from 0.75991\n",
      "26/26 [==============================] - 29s 1s/step - loss: 0.7648 - mse_wrapper: 0.0196 - ca_wrapper: 0.8484 - meandiff: 3.8365 - val_loss: 1.1229 - val_mse_wrapper: 0.0453 - val_ca_wrapper: 0.7131 - val_meandiff: 5.3750 - lr: 3.0000e-05\n",
      "Epoch 44/200\n",
      "26/26 [==============================] - ETA: 0s - loss: 0.7585 - mse_wrapper: 0.0191 - ca_wrapper: 0.8472 - meandiff: 3.9327"
     ]
    },
    {
     "name": "stderr",
     "output_type": "stream",
     "text": [
      "2021-02-25 10:49:56,259 INFO (4, 2, 36, 5)\n",
      "2021-02-25 10:49:56,811 INFO (4, 2, 36, 5)\n"
     ]
    },
    {
     "name": "stdout",
     "output_type": "stream",
     "text": [
      "\n",
      "Epoch 00044: loss improved from 0.75991 to 0.75849, saving model to exp/baseline/8_64_64__8_3_3_temp_enc_conv1_1_CCE_smoothNO_augNO_tempaugNO_batchsize8_f0/2021-02-25_10_22/model/model.h5\n",
      "26/26 [==============================] - 31s 1s/step - loss: 0.7585 - mse_wrapper: 0.0191 - ca_wrapper: 0.8472 - meandiff: 3.9327 - val_loss: 1.0750 - val_mse_wrapper: 0.0416 - val_ca_wrapper: 0.7227 - val_meandiff: 5.4062 - lr: 3.0000e-05\n",
      "Epoch 45/200\n",
      "26/26 [==============================] - ETA: 0s - loss: 0.7592 - mse_wrapper: 0.0191 - ca_wrapper: 0.8463 - meandiff: 3.8221\n",
      "Epoch 00045: loss did not improve from 0.75849\n",
      "26/26 [==============================] - 30s 1s/step - loss: 0.7592 - mse_wrapper: 0.0191 - ca_wrapper: 0.8463 - meandiff: 3.8221 - val_loss: 1.1191 - val_mse_wrapper: 0.0444 - val_ca_wrapper: 0.7179 - val_meandiff: 5.4375 - lr: 3.0000e-05\n",
      "Epoch 46/200\n",
      "26/26 [==============================] - ETA: 0s - loss: 0.7643 - mse_wrapper: 0.0197 - ca_wrapper: 0.8405 - meandiff: 3.9519"
     ]
    },
    {
     "name": "stderr",
     "output_type": "stream",
     "text": [
      "2021-02-25 10:50:59,512 INFO (4, 2, 36, 5)\n",
      "2021-02-25 10:51:00,015 INFO (4, 2, 36, 5)\n"
     ]
    },
    {
     "name": "stdout",
     "output_type": "stream",
     "text": [
      "\n",
      "Epoch 00046: loss did not improve from 0.75849\n",
      "26/26 [==============================] - 30s 1s/step - loss: 0.7643 - mse_wrapper: 0.0197 - ca_wrapper: 0.8405 - meandiff: 3.9519 - val_loss: 1.1794 - val_mse_wrapper: 0.0465 - val_ca_wrapper: 0.7088 - val_meandiff: 5.2656 - lr: 3.0000e-05\n",
      "Epoch 47/200\n",
      "26/26 [==============================] - ETA: 0s - loss: 0.7610 - mse_wrapper: 0.0193 - ca_wrapper: 0.8429 - meandiff: 3.8990\n",
      "Epoch 00047: loss did not improve from 0.75849\n",
      "26/26 [==============================] - 29s 1s/step - loss: 0.7610 - mse_wrapper: 0.0193 - ca_wrapper: 0.8429 - meandiff: 3.8990 - val_loss: 1.1823 - val_mse_wrapper: 0.0464 - val_ca_wrapper: 0.7183 - val_meandiff: 5.2500 - lr: 3.0000e-05\n",
      "Epoch 48/200\n",
      "26/26 [==============================] - ETA: 0s - loss: 0.7637 - mse_wrapper: 0.0196 - ca_wrapper: 0.8405 - meandiff: 4.0144"
     ]
    },
    {
     "name": "stderr",
     "output_type": "stream",
     "text": [
      "2021-02-25 10:52:02,261 INFO (4, 2, 36, 5)\n",
      "2021-02-25 10:52:02,771 INFO (4, 2, 36, 5)\n"
     ]
    },
    {
     "name": "stdout",
     "output_type": "stream",
     "text": [
      "\n",
      "Epoch 00048: loss did not improve from 0.75849\n",
      "26/26 [==============================] - 30s 1s/step - loss: 0.7637 - mse_wrapper: 0.0196 - ca_wrapper: 0.8405 - meandiff: 4.0144 - val_loss: 1.1966 - val_mse_wrapper: 0.0476 - val_ca_wrapper: 0.7140 - val_meandiff: 5.2969 - lr: 3.0000e-05\n",
      "Epoch 49/200\n",
      "26/26 [==============================] - ETA: 0s - loss: 0.7611 - mse_wrapper: 0.0193 - ca_wrapper: 0.8466 - meandiff: 3.8510\n",
      "Epoch 00049: loss did not improve from 0.75849\n",
      "\n",
      "Epoch 00049: ReduceLROnPlateau reducing learning rate to 8.999999772640877e-06.\n",
      "26/26 [==============================] - 29s 1s/step - loss: 0.7611 - mse_wrapper: 0.0193 - ca_wrapper: 0.8466 - meandiff: 3.8510 - val_loss: 1.1758 - val_mse_wrapper: 0.0473 - val_ca_wrapper: 0.6953 - val_meandiff: 5.6094 - lr: 9.0000e-06\n",
      "Epoch 50/200\n",
      "26/26 [==============================] - ETA: 0s - loss: 0.7563 - mse_wrapper: 0.0187 - ca_wrapper: 0.8472 - meandiff: 3.8413"
     ]
    },
    {
     "name": "stderr",
     "output_type": "stream",
     "text": [
      "2021-02-25 10:53:04,945 INFO (4, 2, 36, 5)\n",
      "2021-02-25 10:53:05,443 INFO (4, 2, 36, 5)\n"
     ]
    },
    {
     "name": "stdout",
     "output_type": "stream",
     "text": [
      "\n",
      "Epoch 00050: loss improved from 0.75849 to 0.75630, saving model to exp/baseline/8_64_64__8_3_3_temp_enc_conv1_1_CCE_smoothNO_augNO_tempaugNO_batchsize8_f0/2021-02-25_10_22/model/model.h5\n",
      "26/26 [==============================] - 30s 1s/step - loss: 0.7563 - mse_wrapper: 0.0187 - ca_wrapper: 0.8472 - meandiff: 3.8413 - val_loss: 1.0847 - val_mse_wrapper: 0.0406 - val_ca_wrapper: 0.7296 - val_meandiff: 5.1094 - lr: 9.0000e-06\n",
      "Epoch 51/200\n",
      "26/26 [==============================] - ETA: 0s - loss: 0.7550 - mse_wrapper: 0.0187 - ca_wrapper: 0.8586 - meandiff: 3.8606\n",
      "Epoch 00051: loss improved from 0.75630 to 0.75502, saving model to exp/baseline/8_64_64__8_3_3_temp_enc_conv1_1_CCE_smoothNO_augNO_tempaugNO_batchsize8_f0/2021-02-25_10_22/model/model.h5\n",
      "26/26 [==============================] - 29s 1s/step - loss: 0.7550 - mse_wrapper: 0.0187 - ca_wrapper: 0.8586 - meandiff: 3.8606 - val_loss: 1.1454 - val_mse_wrapper: 0.0447 - val_ca_wrapper: 0.7183 - val_meandiff: 5.3750 - lr: 9.0000e-06\n",
      "Epoch 52/200\n",
      "26/26 [==============================] - ETA: 0s - loss: 0.7543 - mse_wrapper: 0.0187 - ca_wrapper: 0.8482 - meandiff: 3.8894"
     ]
    },
    {
     "name": "stderr",
     "output_type": "stream",
     "text": [
      "2021-02-25 10:54:07,905 INFO (4, 2, 36, 5)\n",
      "2021-02-25 10:54:08,447 INFO (4, 2, 36, 5)\n"
     ]
    },
    {
     "name": "stdout",
     "output_type": "stream",
     "text": [
      "\n",
      "Epoch 00052: loss improved from 0.75502 to 0.75430, saving model to exp/baseline/8_64_64__8_3_3_temp_enc_conv1_1_CCE_smoothNO_augNO_tempaugNO_batchsize8_f0/2021-02-25_10_22/model/model.h5\n",
      "26/26 [==============================] - 30s 1s/step - loss: 0.7543 - mse_wrapper: 0.0187 - ca_wrapper: 0.8482 - meandiff: 3.8894 - val_loss: 1.1103 - val_mse_wrapper: 0.0427 - val_ca_wrapper: 0.7209 - val_meandiff: 5.3281 - lr: 9.0000e-06\n",
      "Epoch 53/200\n",
      "26/26 [==============================] - ETA: 0s - loss: 0.7495 - mse_wrapper: 0.0183 - ca_wrapper: 0.8494 - meandiff: 3.8558\n",
      "Epoch 00053: loss improved from 0.75430 to 0.74945, saving model to exp/baseline/8_64_64__8_3_3_temp_enc_conv1_1_CCE_smoothNO_augNO_tempaugNO_batchsize8_f0/2021-02-25_10_22/model/model.h5\n",
      "26/26 [==============================] - 29s 1s/step - loss: 0.7495 - mse_wrapper: 0.0183 - ca_wrapper: 0.8494 - meandiff: 3.8558 - val_loss: 1.1226 - val_mse_wrapper: 0.0431 - val_ca_wrapper: 0.7279 - val_meandiff: 5.3125 - lr: 9.0000e-06\n",
      "Epoch 54/200\n",
      "26/26 [==============================] - ETA: 0s - loss: 0.7552 - mse_wrapper: 0.0187 - ca_wrapper: 0.8480 - meandiff: 3.8558"
     ]
    },
    {
     "name": "stderr",
     "output_type": "stream",
     "text": [
      "2021-02-25 10:55:10,815 INFO (4, 2, 36, 5)\n",
      "2021-02-25 10:55:11,315 INFO (4, 2, 36, 5)\n"
     ]
    },
    {
     "name": "stdout",
     "output_type": "stream",
     "text": [
      "\n",
      "Epoch 00054: loss did not improve from 0.74945\n",
      "26/26 [==============================] - 30s 1s/step - loss: 0.7552 - mse_wrapper: 0.0187 - ca_wrapper: 0.8480 - meandiff: 3.8558 - val_loss: 1.1288 - val_mse_wrapper: 0.0437 - val_ca_wrapper: 0.7218 - val_meandiff: 5.3906 - lr: 9.0000e-06\n",
      "Epoch 55/200\n",
      "26/26 [==============================] - ETA: 0s - loss: 0.7563 - mse_wrapper: 0.0187 - ca_wrapper: 0.8498 - meandiff: 3.8413\n",
      "Epoch 00055: loss did not improve from 0.74945\n",
      "26/26 [==============================] - 29s 1s/step - loss: 0.7563 - mse_wrapper: 0.0187 - ca_wrapper: 0.8498 - meandiff: 3.8413 - val_loss: 1.1685 - val_mse_wrapper: 0.0461 - val_ca_wrapper: 0.7157 - val_meandiff: 5.4531 - lr: 9.0000e-06\n",
      "Epoch 56/200\n",
      "26/26 [==============================] - ETA: 0s - loss: 0.7498 - mse_wrapper: 0.0183 - ca_wrapper: 0.8498 - meandiff: 3.8269"
     ]
    },
    {
     "name": "stderr",
     "output_type": "stream",
     "text": [
      "2021-02-25 10:56:13,661 INFO (4, 2, 36, 5)\n",
      "2021-02-25 10:56:14,231 INFO (4, 2, 36, 5)\n"
     ]
    },
    {
     "name": "stdout",
     "output_type": "stream",
     "text": [
      "\n",
      "Epoch 00056: loss did not improve from 0.74945\n",
      "26/26 [==============================] - 30s 1s/step - loss: 0.7498 - mse_wrapper: 0.0183 - ca_wrapper: 0.8498 - meandiff: 3.8269 - val_loss: 1.1792 - val_mse_wrapper: 0.0462 - val_ca_wrapper: 0.7053 - val_meandiff: 5.3594 - lr: 9.0000e-06\n",
      "Epoch 57/200\n",
      "26/26 [==============================] - ETA: 0s - loss: 0.7541 - mse_wrapper: 0.0185 - ca_wrapper: 0.8548 - meandiff: 4.0529\n",
      "Epoch 00057: loss did not improve from 0.74945\n",
      "26/26 [==============================] - 29s 1s/step - loss: 0.7541 - mse_wrapper: 0.0185 - ca_wrapper: 0.8548 - meandiff: 4.0529 - val_loss: 1.1583 - val_mse_wrapper: 0.0451 - val_ca_wrapper: 0.7144 - val_meandiff: 5.3281 - lr: 9.0000e-06\n",
      "Epoch 58/200\n",
      "26/26 [==============================] - ETA: 0s - loss: 0.7540 - mse_wrapper: 0.0187 - ca_wrapper: 0.8499 - meandiff: 3.8365"
     ]
    },
    {
     "name": "stderr",
     "output_type": "stream",
     "text": [
      "2021-02-25 10:57:16,631 INFO (4, 2, 36, 5)\n",
      "2021-02-25 10:57:17,167 INFO (4, 2, 36, 5)\n"
     ]
    },
    {
     "name": "stdout",
     "output_type": "stream",
     "text": [
      "\n",
      "Epoch 00058: loss did not improve from 0.74945\n",
      "\n",
      "Epoch 00058: ReduceLROnPlateau reducing learning rate to 2.6999998226528985e-06.\n",
      "26/26 [==============================] - 30s 1s/step - loss: 0.7540 - mse_wrapper: 0.0187 - ca_wrapper: 0.8499 - meandiff: 3.8365 - val_loss: 1.1383 - val_mse_wrapper: 0.0446 - val_ca_wrapper: 0.7161 - val_meandiff: 5.3125 - lr: 2.7000e-06\n",
      "Epoch 59/200\n",
      "26/26 [==============================] - ETA: 0s - loss: 0.7535 - mse_wrapper: 0.0186 - ca_wrapper: 0.8506 - meandiff: 3.8654\n",
      "Epoch 00059: loss did not improve from 0.74945\n",
      "26/26 [==============================] - 29s 1s/step - loss: 0.7535 - mse_wrapper: 0.0186 - ca_wrapper: 0.8506 - meandiff: 3.8654 - val_loss: 1.1811 - val_mse_wrapper: 0.0469 - val_ca_wrapper: 0.7101 - val_meandiff: 5.5469 - lr: 2.7000e-06\n",
      "Epoch 60/200\n",
      "26/26 [==============================] - ETA: 0s - loss: 0.7489 - mse_wrapper: 0.0182 - ca_wrapper: 0.8552 - meandiff: 3.8029"
     ]
    },
    {
     "name": "stderr",
     "output_type": "stream",
     "text": [
      "2021-02-25 10:58:20,217 INFO (4, 2, 36, 5)\n",
      "2021-02-25 10:58:20,758 INFO (4, 2, 36, 5)\n"
     ]
    },
    {
     "name": "stdout",
     "output_type": "stream",
     "text": [
      "\n",
      "Epoch 00060: loss improved from 0.74945 to 0.74889, saving model to exp/baseline/8_64_64__8_3_3_temp_enc_conv1_1_CCE_smoothNO_augNO_tempaugNO_batchsize8_f0/2021-02-25_10_22/model/model.h5\n",
      "26/26 [==============================] - 31s 1s/step - loss: 0.7489 - mse_wrapper: 0.0182 - ca_wrapper: 0.8552 - meandiff: 3.8029 - val_loss: 1.1586 - val_mse_wrapper: 0.0453 - val_ca_wrapper: 0.7157 - val_meandiff: 5.4375 - lr: 2.7000e-06\n",
      "Epoch 61/200\n",
      "26/26 [==============================] - ETA: 0s - loss: 0.7466 - mse_wrapper: 0.0179 - ca_wrapper: 0.8515 - meandiff: 3.8221\n",
      "Epoch 00061: loss improved from 0.74889 to 0.74661, saving model to exp/baseline/8_64_64__8_3_3_temp_enc_conv1_1_CCE_smoothNO_augNO_tempaugNO_batchsize8_f0/2021-02-25_10_22/model/model.h5\n",
      "26/26 [==============================] - 29s 1s/step - loss: 0.7466 - mse_wrapper: 0.0179 - ca_wrapper: 0.8515 - meandiff: 3.8221 - val_loss: 1.1777 - val_mse_wrapper: 0.0464 - val_ca_wrapper: 0.7122 - val_meandiff: 5.4062 - lr: 2.7000e-06\n",
      "Epoch 62/200\n",
      "26/26 [==============================] - ETA: 0s - loss: 0.7487 - mse_wrapper: 0.0181 - ca_wrapper: 0.8534 - meandiff: 3.7500"
     ]
    },
    {
     "name": "stderr",
     "output_type": "stream",
     "text": [
      "2021-02-25 10:59:23,470 INFO (4, 2, 36, 5)\n",
      "2021-02-25 10:59:24,016 INFO (4, 2, 36, 5)\n"
     ]
    },
    {
     "name": "stdout",
     "output_type": "stream",
     "text": [
      "\n",
      "Epoch 00062: loss did not improve from 0.74661\n",
      "26/26 [==============================] - 30s 1s/step - loss: 0.7487 - mse_wrapper: 0.0181 - ca_wrapper: 0.8534 - meandiff: 3.7500 - val_loss: 1.1409 - val_mse_wrapper: 0.0437 - val_ca_wrapper: 0.7205 - val_meandiff: 5.2812 - lr: 2.7000e-06\n",
      "Epoch 63/200\n",
      "26/26 [==============================] - ETA: 0s - loss: 0.7539 - mse_wrapper: 0.0186 - ca_wrapper: 0.8506 - meandiff: 3.7452\n",
      "Epoch 00063: loss did not improve from 0.74661\n",
      "26/26 [==============================] - 29s 1s/step - loss: 0.7539 - mse_wrapper: 0.0186 - ca_wrapper: 0.8506 - meandiff: 3.7452 - val_loss: 1.1528 - val_mse_wrapper: 0.0449 - val_ca_wrapper: 0.7157 - val_meandiff: 5.3438 - lr: 2.7000e-06\n",
      "Epoch 64/200\n",
      "26/26 [==============================] - ETA: 0s - loss: 0.7495 - mse_wrapper: 0.0182 - ca_wrapper: 0.8502 - meandiff: 3.9038"
     ]
    },
    {
     "name": "stderr",
     "output_type": "stream",
     "text": [
      "2021-02-25 11:00:26,288 INFO (4, 2, 36, 5)\n",
      "2021-02-25 11:00:26,832 INFO (4, 2, 36, 5)\n"
     ]
    },
    {
     "name": "stdout",
     "output_type": "stream",
     "text": [
      "\n",
      "Epoch 00064: loss did not improve from 0.74661\n",
      "26/26 [==============================] - 30s 1s/step - loss: 0.7495 - mse_wrapper: 0.0182 - ca_wrapper: 0.8502 - meandiff: 3.9038 - val_loss: 1.1597 - val_mse_wrapper: 0.0451 - val_ca_wrapper: 0.7101 - val_meandiff: 5.3281 - lr: 2.7000e-06\n",
      "Epoch 65/200\n",
      "26/26 [==============================] - ETA: 0s - loss: 0.7519 - mse_wrapper: 0.0185 - ca_wrapper: 0.8535 - meandiff: 3.8750\n",
      "Epoch 00065: loss did not improve from 0.74661\n",
      "26/26 [==============================] - 29s 1s/step - loss: 0.7519 - mse_wrapper: 0.0185 - ca_wrapper: 0.8535 - meandiff: 3.8750 - val_loss: 1.1429 - val_mse_wrapper: 0.0442 - val_ca_wrapper: 0.7218 - val_meandiff: 5.3750 - lr: 2.7000e-06\n",
      "Epoch 66/200\n",
      "26/26 [==============================] - ETA: 0s - loss: 0.7512 - mse_wrapper: 0.0183 - ca_wrapper: 0.8520 - meandiff: 3.7740"
     ]
    },
    {
     "name": "stderr",
     "output_type": "stream",
     "text": [
      "2021-02-25 11:01:29,540 INFO (4, 2, 36, 5)\n",
      "2021-02-25 11:01:30,035 INFO (4, 2, 36, 5)\n"
     ]
    },
    {
     "name": "stdout",
     "output_type": "stream",
     "text": [
      "\n",
      "Epoch 00066: loss did not improve from 0.74661\n",
      "\n",
      "Epoch 00066: ReduceLROnPlateau reducing learning rate to 8.099999604382901e-07.\n",
      "26/26 [==============================] - 30s 1s/step - loss: 0.7512 - mse_wrapper: 0.0183 - ca_wrapper: 0.8520 - meandiff: 3.7740 - val_loss: 1.1384 - val_mse_wrapper: 0.0444 - val_ca_wrapper: 0.7183 - val_meandiff: 5.4062 - lr: 8.1000e-07\n",
      "Epoch 67/200\n",
      "26/26 [==============================] - ETA: 0s - loss: 0.7504 - mse_wrapper: 0.0183 - ca_wrapper: 0.8494 - meandiff: 3.7115\n",
      "Epoch 00067: loss did not improve from 0.74661\n",
      "26/26 [==============================] - 29s 1s/step - loss: 0.7504 - mse_wrapper: 0.0183 - ca_wrapper: 0.8494 - meandiff: 3.7115 - val_loss: 1.1420 - val_mse_wrapper: 0.0442 - val_ca_wrapper: 0.7188 - val_meandiff: 5.4062 - lr: 8.1000e-07\n",
      "Epoch 68/200\n",
      "26/26 [==============================] - ETA: 0s - loss: 0.7523 - mse_wrapper: 0.0184 - ca_wrapper: 0.8538 - meandiff: 3.8654"
     ]
    },
    {
     "name": "stderr",
     "output_type": "stream",
     "text": [
      "2021-02-25 11:02:32,764 INFO (4, 2, 36, 5)\n",
      "2021-02-25 11:02:33,321 INFO (4, 2, 36, 5)\n"
     ]
    },
    {
     "name": "stdout",
     "output_type": "stream",
     "text": [
      "\n",
      "Epoch 00068: loss did not improve from 0.74661\n",
      "26/26 [==============================] - 31s 1s/step - loss: 0.7523 - mse_wrapper: 0.0184 - ca_wrapper: 0.8538 - meandiff: 3.8654 - val_loss: 1.1270 - val_mse_wrapper: 0.0436 - val_ca_wrapper: 0.7218 - val_meandiff: 5.3281 - lr: 8.1000e-07\n",
      "Epoch 69/200\n",
      "26/26 [==============================] - ETA: 0s - loss: 0.7478 - mse_wrapper: 0.0179 - ca_wrapper: 0.8512 - meandiff: 3.8221\n",
      "Epoch 00069: loss did not improve from 0.74661\n",
      "26/26 [==============================] - 29s 1s/step - loss: 0.7478 - mse_wrapper: 0.0179 - ca_wrapper: 0.8512 - meandiff: 3.8221 - val_loss: 1.1565 - val_mse_wrapper: 0.0448 - val_ca_wrapper: 0.7153 - val_meandiff: 5.3281 - lr: 8.1000e-07\n",
      "Epoch 70/200\n",
      "26/26 [==============================] - ETA: 0s - loss: 0.7493 - mse_wrapper: 0.0180 - ca_wrapper: 0.8520 - meandiff: 3.7548"
     ]
    },
    {
     "name": "stderr",
     "output_type": "stream",
     "text": [
      "2021-02-25 11:03:36,072 INFO (4, 2, 36, 5)\n",
      "2021-02-25 11:03:36,637 INFO (4, 2, 36, 5)\n"
     ]
    },
    {
     "name": "stdout",
     "output_type": "stream",
     "text": [
      "\n",
      "Epoch 00070: loss did not improve from 0.74661\n",
      "26/26 [==============================] - 31s 1s/step - loss: 0.7493 - mse_wrapper: 0.0180 - ca_wrapper: 0.8520 - meandiff: 3.7548 - val_loss: 1.1609 - val_mse_wrapper: 0.0452 - val_ca_wrapper: 0.7144 - val_meandiff: 5.2656 - lr: 8.1000e-07\n",
      "Epoch 71/200\n",
      "26/26 [==============================] - ETA: 0s - loss: 0.7474 - mse_wrapper: 0.0179 - ca_wrapper: 0.8504 - meandiff: 3.7644\n",
      "Epoch 00071: loss did not improve from 0.74661\n",
      "26/26 [==============================] - 30s 1s/step - loss: 0.7474 - mse_wrapper: 0.0179 - ca_wrapper: 0.8504 - meandiff: 3.7644 - val_loss: 1.1413 - val_mse_wrapper: 0.0442 - val_ca_wrapper: 0.7179 - val_meandiff: 5.2031 - lr: 8.1000e-07\n",
      "Epoch 00071: early stopping\n"
     ]
    }
   ],
   "source": [
    "initial_epoch = 0\n",
    "\n",
    "results = model.fit(\n",
    "    x=batch_generator,\n",
    "    validation_data=validation_generator,\n",
    "    epochs=EPOCHS,\n",
    "    callbacks = get_callbacks(config, batch_generator,validation_generator),\n",
    "    initial_epoch=initial_epoch,\n",
    "    max_queue_size=12,\n",
    "    use_multiprocessing=False,\n",
    "    verbose=1)"
   ]
  },
  {
   "cell_type": "code",
   "execution_count": 11,
   "metadata": {},
   "outputs": [],
   "source": [
    "# predict the files from globals()['inputs']\n",
    "pred = model(inputs, training=False)"
   ]
  },
  {
   "cell_type": "code",
   "execution_count": 50,
   "metadata": {},
   "outputs": [
    {
     "name": "stdout",
     "output_type": "stream",
     "text": [
      "(4,)\n",
      "(4, 36, 5)\n"
     ]
    },
    {
     "data": {
      "text/plain": [
       "(4, 2, 36, 5)"
      ]
     },
     "execution_count": 50,
     "metadata": {},
     "output_type": "execute_result"
    }
   ],
   "source": [
    "temp = np.array([23, 17, 24, 18])\n",
    "print(temp.shape)\n",
    "empty = np.ones((4,36,5))\n",
    "print(empty.shape)\n",
    "second = empty[:]\n",
    "second[:,0,0] = temp\n",
    "np.stack([empty, second], axis=1).shape"
   ]
  },
  {
   "cell_type": "code",
   "execution_count": 13,
   "metadata": {},
   "outputs": [
    {
     "name": "stdout",
     "output_type": "stream",
     "text": [
      "[[23  4  9 13 21]\n",
      " [ 0  5 10 15 17]\n",
      " [24  4  8 13 20]\n",
      " [ 0  6 12 17 18]]\n",
      "[23 17 24 18]\n"
     ]
    }
   ],
   "source": [
    "# get the true idx\n",
    "gt_idx = tf.math.argmax(outputs, axis=1).numpy()\n",
    "print(gt_idx)\n",
    "gt_max = gt_idx.max(axis=1).astype(int)\n",
    "print(gt_max)"
   ]
  },
  {
   "cell_type": "code",
   "execution_count": 12,
   "metadata": {},
   "outputs": [
    {
     "data": {
      "image/png": "[encoded data removed]",
      "text/plain": [
       "<Figure size 2880x360 with 16 Axes>"
      ]
     },
     "metadata": {
      "needs_background": "light"
     },
     "output_type": "display_data"
    }
   ],
   "source": [
    "from src.visualization.Visualize import show_phases\n",
    "_ = show_phases(outputs,pred)"
   ]
  },
  {
   "cell_type": "code",
   "execution_count": 20,
   "metadata": {},
   "outputs": [
    {
     "ename": "NameError",
     "evalue": "name 'pred' is not defined",
     "output_type": "error",
     "traceback": [
      "\u001b[0;31m---------------------------------------------------------------------------\u001b[0m",
      "\u001b[0;31mNameError\u001b[0m                                 Traceback (most recent call last)",
      "\u001b[0;32m<ipython-input-20-cfa7e785121d>\u001b[0m in \u001b[0;36m<module>\u001b[0;34m\u001b[0m\n\u001b[1;32m      2\u001b[0m \u001b[0;32mfrom\u001b[0m \u001b[0msrc\u001b[0m\u001b[0;34m.\u001b[0m\u001b[0mutils\u001b[0m\u001b[0;34m.\u001b[0m\u001b[0mMetrics\u001b[0m \u001b[0;32mimport\u001b[0m \u001b[0mmeandiff\u001b[0m\u001b[0;34m\u001b[0m\u001b[0;34m\u001b[0m\u001b[0m\n\u001b[1;32m      3\u001b[0m \u001b[0mscore_fn\u001b[0m \u001b[0;34m=\u001b[0m \u001b[0mmeandiff\u001b[0m\u001b[0;34m\u001b[0m\u001b[0;34m\u001b[0m\u001b[0m\n\u001b[0;32m----> 4\u001b[0;31m \u001b[0mscore_fn\u001b[0m\u001b[0;34m(\u001b[0m\u001b[0moutputs\u001b[0m\u001b[0;34m,\u001b[0m \u001b[0mpred\u001b[0m\u001b[0;34m)\u001b[0m\u001b[0;34m.\u001b[0m\u001b[0mnumpy\u001b[0m\u001b[0;34m(\u001b[0m\u001b[0;34m)\u001b[0m\u001b[0;34m\u001b[0m\u001b[0;34m\u001b[0m\u001b[0m\n\u001b[0m",
      "\u001b[0;31mNameError\u001b[0m: name 'pred' is not defined"
     ]
    }
   ],
   "source": [
    "# calculate the meandiff score for one batch\n",
    "from src.utils.Metrics import meandiff\n",
    "score_fn = meandiff\n",
    "score_fn(outputs, pred).numpy()"
   ]
  },
  {
   "cell_type": "code",
   "execution_count": 13,
   "metadata": {},
   "outputs": [
    {
     "name": "stdout",
     "output_type": "stream",
     "text": [
      "(8, 36, 5)\n",
      "(5, 36, 8)\n"
     ]
    },
    {
     "data": {
      "text/plain": [
       "<matplotlib.image.AxesImage at 0x7fc1504cb250>"
      ]
     },
     "execution_count": 13,
     "metadata": {},
     "output_type": "execute_result"
    },
    {
     "data": {
      "image/png": "[encoded data removed]",
      "text/plain": [
       "<Figure size 432x288 with 1 Axes>"
      ]
     },
     "metadata": {
      "needs_background": "light"
     },
     "output_type": "display_data"
    }
   ],
   "source": [
    "temp = outputs[:,0,...]\n",
    "print(temp.shape)\n",
    "print(temp.T.shape)\n",
    "plt.imshow(temp.T[0])"
   ]
  },
  {
   "cell_type": "code",
   "execution_count": 20,
   "metadata": {},
   "outputs": [
    {
     "data": {
      "text/plain": [
       "[<tf.Tensor: shape=(), dtype=float32, numpy=8.8>,\n",
       " <tf.Tensor: shape=(), dtype=float32, numpy=10.0>,\n",
       " <tf.Tensor: shape=(), dtype=float32, numpy=8.0>,\n",
       " <tf.Tensor: shape=(), dtype=float32, numpy=8.8>,\n",
       " <tf.Tensor: shape=(), dtype=float32, numpy=11.0>,\n",
       " <tf.Tensor: shape=(), dtype=float32, numpy=7.0>,\n",
       " <tf.Tensor: shape=(), dtype=float32, numpy=7.6>,\n",
       " <tf.Tensor: shape=(), dtype=float32, numpy=7.8>]"
      ]
     },
     "execution_count": 20,
     "metadata": {},
     "output_type": "execute_result"
    }
   ],
   "source": [
    "# calculate the meandiff score for all batches\n",
    "# calculate the meandiff score for one batch\n",
    "from src.utils.Metrics import meandiff\n",
    "score_fn = meandiff\n",
    "scores = []\n",
    "for batch in validation_generator:\n",
    "    x,y = batch\n",
    "    p = model(x)\n",
    "    scores.append(score_fn(y,p))\n",
    "scores"
   ]
  },
  {
   "cell_type": "code",
   "execution_count": 21,
   "metadata": {},
   "outputs": [
    {
     "data": {
      "text/plain": [
       "8.625"
      ]
     },
     "execution_count": 21,
     "metadata": {},
     "output_type": "execute_result"
    }
   ],
   "source": [
    "tf.reduce_mean(scores).numpy()"
   ]
  },
  {
   "cell_type": "markdown",
   "metadata": {},
   "source": [
    "# Generator tests"
   ]
  },
  {
   "cell_type": "code",
   "execution_count": 16,
   "metadata": {
    "collapsed": true,
    "jupyter": {
     "outputs_hidden": true
    }
   },
   "outputs": [
    {
     "data": {
      "image/png": "[encoded data removed]",
      "text/plain": [
       "<IPython.core.display.Image object>"
      ]
     },
     "execution_count": 16,
     "metadata": {},
     "output_type": "execute_result"
    }
   ],
   "source": [
    "tf.keras.utils.plot_model(\n",
    "    model, show_shapes=False,\n",
    "    show_layer_names=True, rankdir='TB', expand_nested=True, dpi=96\n",
    ")"
   ]
  },
  {
   "cell_type": "code",
   "execution_count": 19,
   "metadata": {},
   "outputs": [
    {
     "data": {
      "text/plain": [
       "1.75"
      ]
     },
     "execution_count": 19,
     "metadata": {},
     "output_type": "execute_result"
    }
   ],
   "source": [
    "score_fn = meandiff_\n",
    "score_fn(outputs, pred).numpy()"
   ]
  },
  {
   "cell_type": "code",
   "execution_count": 18,
   "metadata": {},
   "outputs": [],
   "source": [
    "def meandiff_( y_true, y_pred, batchsize=4):\n",
    "\n",
    "    \"\"\"\n",
    "    Average over the batches\n",
    "    the sum of the absolute difference between two arrays\n",
    "    y_true and y_pred are one-hot vectors with the following shape\n",
    "    batchsize * timesteps * phase classes\n",
    "    e.g.: 4 * 36 * 5\n",
    "    First for gt and pred:\n",
    "    - get the timesteps per phase with the highest probability\n",
    "    - get the absolute difference between gt and pred\n",
    "    (- later we can slice each patient by the max value in the corresponding gt indices)\n",
    "    - sum the diff per entity\n",
    "    - calc the mean over all examples\n",
    "\n",
    "    Parameters\n",
    "    ----------\n",
    "    y_true :\n",
    "    y_pred :\n",
    "\n",
    "    Returns tf.float32 scalar\n",
    "    -------\n",
    "\n",
    "    \"\"\"\n",
    "\n",
    "    score = 0\n",
    "    y_true = tf.cast(tf.convert_to_tensor(y_true), tf.float32)\n",
    "    y_pred = tf.cast(tf.convert_to_tensor(y_pred), tf.float32)\n",
    "\n",
    "    gt_idxs = tf.math.argmax(y_true, axis=1)\n",
    "    gt_max = tf.cast(tf.reduce_max(gt_idxs, axis=1), tf.int32)\n",
    "    padded_pred = []\n",
    "    padded_gt = []\n",
    "\n",
    "    msk = tf.stack([\n",
    "        tf.pad(tf.ones((gt_max[i],5)), ((0,36-gt_max[i]),(0,0)))\n",
    "        for i in range(batchsize)])\n",
    "    #msk = tf.zeros_like(y_pred)\n",
    "    #msk[:,:tf.reduce_max(gt_max), :] = 1\n",
    "\n",
    "    temp_pred = y_pred * msk\n",
    "    temp_gt = y_true * msk\n",
    "\n",
    "    #y_pred = tf.unstack(y_pred, axis=0)\n",
    "    #y_true = tf.unstack(y_true, axis=0)\n",
    "\n",
    "    \"\"\"def pad_to_size(p, max_id):\n",
    "        to_pad = p.shape[0] - max_id\n",
    "        print(p.shape[0])\n",
    "        print(max_id)\n",
    "        print(to_pad)\n",
    "        return tf.pad(p, [[0,to_pad],[0,0]])\n",
    "\n",
    "    padded_pred = list(map(lambda x : pad_to_size(x[0], x[1]), zip(y_pred, gt_max)))\n",
    "    padded_gt = list(map(lambda x: pad_to_size(x[0], x[1]), zip(y_true, gt_max)))\"\"\"\n",
    "\n",
    "    \"\"\"for idx in tf.range(y_pred.shape[0]):\n",
    "        max_idx = gt_max[idx]\n",
    "        p = y_pred[idx][:max_idx, :]\n",
    "        to_pad = y_pred.shape[1] - max_idx\n",
    "        padded_pred.append(tf.pad(p, [[0,to_pad],[0,0]]))\n",
    "\n",
    "        y = y_true[idx][:max_idx, :]\n",
    "        padded_gt.append(tf.pad(y, [[0, to_pad], [0, 0]]))\"\"\"\n",
    "\n",
    "    #temp_pred = tf.stack(padded_pred, axis=0)\n",
    "    #temp_gt = tf.stack(padded_gt, axis=0)\n",
    "\n",
    "    gt_idx = tf.math.argmax(temp_gt, axis=1)\n",
    "    pred_idx = tf.math.argmax(temp_pred, axis=1)\n",
    "\n",
    "    diffs = tf.stack([tf.stack(get_min_dist_for_list(gt_idx[i],pred_idx[i], batchsize)) for i in range(batchsize)])\n",
    "\n",
    "    #diffs = tf.math.subtract(gt_idx, pred_idx)\n",
    "    #print('substract: {}'.format(diffs.numpy()))\n",
    "    #diffs = tf.abs(diffs)\n",
    "    #print('abs: {}'.format(diffs.numpy()))\n",
    "    diffs = tf.cast(tf.reduce_sum(diffs, axis=1),tf.float32)\n",
    "    #print('sum: {}'.format(diffs.numpy()))\n",
    "    diffs = tf.reduce_mean(diffs)\n",
    "\n",
    "    return diffs\n",
    "\n",
    "\n",
    "def get_min_dist_for_list(lst_a,lst_b, batchsize):\n",
    "    length = tf.reduce_max(tf.stack([lst_a, lst_b]))\n",
    "    #print(length)\n",
    "    #length = max(max(lst_a), max(lst_b)) + 1\n",
    "    return [get_min_distance(lst_a[i],lst_b[i],length) for i in range(batchsize)]\n",
    "\n",
    "def get_min_distance(a, b, mod):\n",
    "    #assert(mod>(tf.reduce_max(a,b))), 'a: {}, b: {}, mod:{}, '.format(a,b,mod)\n",
    "\n",
    "    decr_counter = 0\n",
    "    incr_counter = 0\n",
    "\n",
    "    smaller = tf.reduce_min(tf.stack([a, b]))\n",
    "    bigger = tf.reduce_max(tf.stack([a, b]))\n",
    "\n",
    "    i1 = bigger\n",
    "    while (i1 != smaller):\n",
    "        decr_counter = decr_counter + 1\n",
    "        i1 = i1 - 1\n",
    "\n",
    "    i1 = bigger\n",
    "    while (i1 != smaller):\n",
    "        incr_counter = incr_counter + 1\n",
    "        i1 = tf.math.mod((i1 + 1), mod)\n",
    "        #i1 =  % mod\n",
    "\n",
    "    return tf.reduce_min(tf.stack([decr_counter, incr_counter]))"
   ]
  },
  {
   "cell_type": "code",
   "execution_count": 22,
   "metadata": {},
   "outputs": [
    {
     "data": {
      "text/plain": [
       "[4, 5, 6, 7, 8, 9, 1, 2, 3]"
      ]
     },
     "execution_count": 22,
     "metadata": {},
     "output_type": "execute_result"
    }
   ],
   "source": [
    "lst = [1,2,3,4,5,6,7,8,9]\n",
    "first = lst[3:]\n",
    "first.extend(lst[:3])\n",
    "first"
   ]
  },
  {
   "cell_type": "code",
   "execution_count": null,
   "metadata": {},
   "outputs": [],
   "source": [
    "onehot = np.array([[1,0,0,0,0,0,0,0,0,0,0,0,0,0,0],\n",
    " [0,0,0,1,0,0,0,0,0,0,0,0,0,0,0],\n",
    " [0,0,0,0,0,0,0,1,0,0,0,0,0,0,0],\n",
    " [0,0,0,0,0,0,0,0,0,0,0,1,0,0,0],\n",
    " [0,0,0,0,0,0,0,0,0,0,0,0,0,0,1]])"
   ]
  },
  {
   "cell_type": "code",
   "execution_count": null,
   "metadata": {},
   "outputs": [],
   "source": [
    "onehot.shape"
   ]
  },
  {
   "cell_type": "code",
   "execution_count": null,
   "metadata": {},
   "outputs": [],
   "source": [
    "onehot_t = onehot.T\n",
    "onehot_t.shape\n",
    "onehot_t"
   ]
  },
  {
   "cell_type": "code",
   "execution_count": null,
   "metadata": {},
   "outputs": [],
   "source": [
    "print(np.argmax(onehot, axis=1))\n",
    "print(np.argmax(onehot_t, axis=0))"
   ]
  },
  {
   "cell_type": "code",
   "execution_count": null,
   "metadata": {},
   "outputs": [],
   "source": [
    "# iterate over the phases j\n",
    "# linspace from i to i+1 from indices\n",
    "temp = onehot_t[:,0].astype(float)\n",
    "i = 0\n",
    "j = 3 + 1\n",
    "temp[i:j] = np.linspace(i,j,j-i)\n",
    "temp"
   ]
  },
  {
   "cell_type": "code",
   "execution_count": null,
   "metadata": {},
   "outputs": [],
   "source": [
    "onehot_t = onehot_t.astype(float)\n",
    "indices = np.argmax(onehot_t, axis=0)\n",
    "for i in range(onehot_t.shape[1]) :\n",
    "    start = indices[i]\n",
    "    # make it a ring\n",
    "    second = (i+1)%len(indices)\n",
    "    end = indices[second]\n",
    "    onehot_t[start:end,i] = np.linspace(1,0,int(end-start))\n",
    "onehot_t\n",
    "             \n",
    "    "
   ]
  },
  {
   "cell_type": "code",
   "execution_count": null,
   "metadata": {},
   "outputs": [],
   "source": [
    "plt.imshow(temp)"
   ]
  },
  {
   "cell_type": "code",
   "execution_count": null,
   "metadata": {},
   "outputs": [],
   "source": [
    "plt.imshow(temp.T)"
   ]
  },
  {
   "cell_type": "code",
   "execution_count": null,
   "metadata": {},
   "outputs": [],
   "source": [
    "%%timeit\n",
    "temp.mean()"
   ]
  },
  {
   "cell_type": "code",
   "execution_count": null,
   "metadata": {},
   "outputs": [],
   "source": [
    "%%timeit\n",
    "np.mean(temp)"
   ]
  },
  {
   "cell_type": "code",
   "execution_count": null,
   "metadata": {},
   "outputs": [],
   "source": [
    "np.linspace(-1,1,10)"
   ]
  },
  {
   "cell_type": "code",
   "execution_count": null,
   "metadata": {},
   "outputs": [],
   "source": []
  }
 ],
 "metadata": {
  "kernelspec": {
   "display_name": "dcmr",
   "language": "python",
   "name": "dcmr"
  },
  "language_info": {
   "codemirror_mode": {
    "name": "ipython",
    "version": 3
   },
   "file_extension": ".py",
   "mimetype": "text/x-python",
   "name": "python",
   "nbconvert_exporter": "python",
   "pygments_lexer": "ipython3",
   "version": "3.8.5"
  },
  "widgets": {
   "application/vnd.jupyter.widget-state+json": {
    "state": {
     "00232d8e497b4842a3d92d4448bed3b7": {
      "model_module": "@jupyter-widgets/controls",
      "model_module_version": "1.5.0",
      "model_name": "DescriptionStyleModel",
      "state": {
       "description_width": ""
      }
     },
     "1f6594a6c49148c296119f612bbcf577": {
      "model_module": "@jupyter-widgets/base",
      "model_module_version": "1.2.0",
      "model_name": "LayoutModel",
      "state": {}
     },
     "4adb9f756d6a484a89630eb9019b97e0": {
      "model_module": "@jupyter-widgets/controls",
      "model_module_version": "1.5.0",
      "model_name": "VBoxModel",
      "state": {
       "_dom_classes": [
        "widget-interact"
       ],
       "children": [
        "IPY_MODEL_99178e56d06e4a69b5ac5ba8b2a267c4",
        "IPY_MODEL_f984a0c4e7604c67a74a9e3a857f6137"
       ],
       "layout": "IPY_MODEL_f7aeda93a8344ace834111ff0cd89f47"
      }
     },
     "503d473c51d447e7bde0702e7358f147": {
      "model_module": "@jupyter-widgets/base",
      "model_module_version": "1.2.0",
      "model_name": "LayoutModel",
      "state": {}
     },
     "99178e56d06e4a69b5ac5ba8b2a267c4": {
      "model_module": "@jupyter-widgets/controls",
      "model_module_version": "1.5.0",
      "model_name": "TextModel",
      "state": {
       "description": "search_str",
       "layout": "IPY_MODEL_503d473c51d447e7bde0702e7358f147",
       "style": "IPY_MODEL_00232d8e497b4842a3d92d4448bed3b7"
      }
     },
     "f7aeda93a8344ace834111ff0cd89f47": {
      "model_module": "@jupyter-widgets/base",
      "model_module_version": "1.2.0",
      "model_name": "LayoutModel",
      "state": {}
     },
     "f984a0c4e7604c67a74a9e3a857f6137": {
      "model_module": "@jupyter-widgets/output",
      "model_module_version": "1.0.0",
      "model_name": "OutputModel",
      "state": {
       "layout": "IPY_MODEL_1f6594a6c49148c296119f612bbcf577",
       "outputs": [
        {
         "data": {
          "text/html": "<div>\n<style scoped>\n    .dataframe tbody tr th:only-of-type {\n        vertical-align: middle;\n    }\n\n    .dataframe tbody tr th {\n        vertical-align: top;\n    }\n\n    .dataframe thead th {\n        text-align: right;\n    }\n</style>\n<table border=\"1\" class=\"dataframe\">\n  <thead>\n    <tr style=\"text-align: right;\">\n      <th></th>\n      <th>patient</th>\n      <th>ED#</th>\n      <th>MS#</th>\n      <th>ES#</th>\n      <th>PF#</th>\n      <th>MD#</th>\n    </tr>\n  </thead>\n  <tbody>\n    <tr>\n      <th>0</th>\n      <td>02Z1L14N</td>\n      <td>14.0</td>\n      <td>3.0</td>\n      <td>6.0</td>\n      <td>8.0</td>\n      <td>12.0</td>\n    </tr>\n    <tr>\n      <th>1</th>\n      <td>02Z1L14N</td>\n      <td>14.0</td>\n      <td>3.0</td>\n      <td>6.0</td>\n      <td>8.0</td>\n      <td>12.0</td>\n    </tr>\n    <tr>\n      <th>2</th>\n      <td>02Z1L14N</td>\n      <td>14.0</td>\n      <td>3.0</td>\n      <td>6.0</td>\n      <td>8.0</td>\n      <td>12.0</td>\n    </tr>\n    <tr>\n      <th>3</th>\n      <td>02Z1L14N</td>\n      <td>14.0</td>\n      <td>3.0</td>\n      <td>6.0</td>\n      <td>8.0</td>\n      <td>12.0</td>\n    </tr>\n    <tr>\n      <th>4</th>\n      <td>02Z1L14N</td>\n      <td>14.0</td>\n      <td>3.0</td>\n      <td>6.0</td>\n      <td>8.0</td>\n      <td>12.0</td>\n    </tr>\n    <tr>\n      <th>...</th>\n      <td>...</td>\n      <td>...</td>\n      <td>...</td>\n      <td>...</td>\n      <td>...</td>\n      <td>...</td>\n    </tr>\n    <tr>\n      <th>1385</th>\n      <td>ZZQ0001Q</td>\n      <td>1.0</td>\n      <td>5.0</td>\n      <td>10.0</td>\n      <td>14.0</td>\n      <td>19.0</td>\n    </tr>\n    <tr>\n      <th>1386</th>\n      <td>ZZQ0001Q</td>\n      <td>1.0</td>\n      <td>5.0</td>\n      <td>10.0</td>\n      <td>14.0</td>\n      <td>19.0</td>\n    </tr>\n    <tr>\n      <th>1387</th>\n      <td>ZZQ0001Q</td>\n      <td>1.0</td>\n      <td>5.0</td>\n      <td>10.0</td>\n      <td>14.0</td>\n      <td>19.0</td>\n    </tr>\n    <tr>\n      <th>1388</th>\n      <td>ZZQ0001Q</td>\n      <td>1.0</td>\n      <td>5.0</td>\n      <td>10.0</td>\n      <td>14.0</td>\n      <td>19.0</td>\n    </tr>\n    <tr>\n      <th>1389</th>\n      <td>ZZQ0001Q</td>\n      <td>1.0</td>\n      <td>5.0</td>\n      <td>10.0</td>\n      <td>14.0</td>\n      <td>19.0</td>\n    </tr>\n  </tbody>\n</table>\n<p>1390 rows × 6 columns</p>\n</div>",
          "text/plain": "       patient   ED#  MS#   ES#   PF#   MD#\n0     02Z1L14N  14.0  3.0   6.0   8.0  12.0\n1     02Z1L14N  14.0  3.0   6.0   8.0  12.0\n2     02Z1L14N  14.0  3.0   6.0   8.0  12.0\n3     02Z1L14N  14.0  3.0   6.0   8.0  12.0\n4     02Z1L14N  14.0  3.0   6.0   8.0  12.0\n...        ...   ...  ...   ...   ...   ...\n1385  ZZQ0001Q   1.0  5.0  10.0  14.0  19.0\n1386  ZZQ0001Q   1.0  5.0  10.0  14.0  19.0\n1387  ZZQ0001Q   1.0  5.0  10.0  14.0  19.0\n1388  ZZQ0001Q   1.0  5.0  10.0  14.0  19.0\n1389  ZZQ0001Q   1.0  5.0  10.0  14.0  19.0\n\n[1390 rows x 6 columns]"
         },
         "metadata": {},
         "output_type": "display_data"
        }
       ]
      }
     }
    },
    "version_major": 2,
    "version_minor": 0
   }
  }
 },
 "nbformat": 4,
 "nbformat_minor": 4
}
