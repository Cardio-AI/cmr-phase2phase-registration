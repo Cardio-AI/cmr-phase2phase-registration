{
 "cells": [
  {
   "cell_type": "code",
   "execution_count": 1,
   "metadata": {},
   "outputs": [
    {
     "name": "stdout",
     "output_type": "stream",
     "text": [
      "search for root_dir and set working directory\n",
      "Working directory set to: /mnt/ssd/git/dynamic-cmr-models\n",
      "['/gpu:0', '/gpu:1']\n"
     ]
    },
    {
     "name": "stderr",
     "output_type": "stream",
     "text": [
      "2021-02-24 16:02:59,843 INFO -------------------- Start --------------------\n",
      "2021-02-24 16:02:59,843 INFO Working directory: /mnt/ssd/git/dynamic-cmr-models.\n",
      "2021-02-24 16:02:59,843 INFO Log file: ./logs/temp/36_5_BiLSTM32_NoBn_conv5_size1_CCE_NOphaseaug_shift_rotate_reflectbordersgridaug.log\n",
      "2021-02-24 16:02:59,844 INFO Log level for console: INFO\n",
      "2021-02-24 16:02:59,845 INFO Is built with tensorflow: True\n",
      "2021-02-24 16:02:59,908 INFO Visible devices:\n",
      "[PhysicalDevice(name='/physical_device:CPU:0', device_type='CPU'), PhysicalDevice(name='/physical_device:XLA_CPU:0', device_type='XLA_CPU'), PhysicalDevice(name='/physical_device:XLA_GPU:0', device_type='XLA_GPU'), PhysicalDevice(name='/physical_device:XLA_GPU:1', device_type='XLA_GPU'), PhysicalDevice(name='/physical_device:GPU:0', device_type='GPU'), PhysicalDevice(name='/physical_device:GPU:1', device_type='GPU')]\n",
      "2021-02-24 16:03:00,550 INFO Local devices: \n",
      " [name: \"/device:CPU:0\"\n",
      "device_type: \"CPU\"\n",
      "memory_limit: 268435456\n",
      "locality {\n",
      "}\n",
      "incarnation: 9865083224523561412\n",
      ", name: \"/device:XLA_CPU:0\"\n",
      "device_type: \"XLA_CPU\"\n",
      "memory_limit: 17179869184\n",
      "locality {\n",
      "}\n",
      "incarnation: 12589387297994190288\n",
      "physical_device_desc: \"device: XLA_CPU device\"\n",
      ", name: \"/device:XLA_GPU:0\"\n",
      "device_type: \"XLA_GPU\"\n",
      "memory_limit: 17179869184\n",
      "locality {\n",
      "}\n",
      "incarnation: 3692634729536625348\n",
      "physical_device_desc: \"device: XLA_GPU device\"\n",
      ", name: \"/device:XLA_GPU:1\"\n",
      "device_type: \"XLA_GPU\"\n",
      "memory_limit: 17179869184\n",
      "locality {\n",
      "}\n",
      "incarnation: 9840096755706261669\n",
      "physical_device_desc: \"device: XLA_GPU device\"\n",
      ", name: \"/device:GPU:0\"\n",
      "device_type: \"GPU\"\n",
      "memory_limit: 23141913728\n",
      "locality {\n",
      "  bus_id: 1\n",
      "  links {\n",
      "  }\n",
      "}\n",
      "incarnation: 4837857458001468702\n",
      "physical_device_desc: \"device: 0, name: TITAN RTX, pci bus id: 0000:01:00.0, compute capability: 7.5\"\n",
      ", name: \"/device:GPU:1\"\n",
      "device_type: \"GPU\"\n",
      "memory_limit: 23561682304\n",
      "locality {\n",
      "  bus_id: 1\n",
      "  links {\n",
      "  }\n",
      "}\n",
      "incarnation: 10463924835327646556\n",
      "physical_device_desc: \"device: 1, name: TITAN RTX, pci bus id: 0000:02:00.0, compute capability: 7.5\"\n",
      "]\n"
     ]
    },
    {
     "name": "stdout",
     "output_type": "stream",
     "text": [
      "{'GPU_IDS': '0,1', 'GPUS': ['/gpu:0', '/gpu:1'], 'SEED': 42, 'EXPERIMENT': 'temp/36_5_BiLSTM32_NoBn_conv5_size1_CCE_NOphaseaug_shift_rotate_reflectbordersgridaug', 'MODEL_PATH': 'models/temp/36_5_BiLSTM32_NoBn_conv5_size1_CCE_NOphaseaug_shift_rotate_reflectbordersgridaug/2021-02-24_16_02', 'TENSORBOARD_LOG_DIR': 'reports/tensorboard_logs/temp/36_5_BiLSTM32_NoBn_conv5_size1_CCE_NOphaseaug_shift_rotate_reflectbordersgridaug/2021-02-24_16_02', 'CONFIG_PATH': 'reports/configs/temp/36_5_BiLSTM32_NoBn_conv5_size1_CCE_NOphaseaug_shift_rotate_reflectbordersgridaug/2021-02-24_16_02', 'HISTORY_PATH': 'reports/history/temp/36_5_BiLSTM32_NoBn_conv5_size1_CCE_NOphaseaug_shift_rotate_reflectbordersgridaug/2021-02-24_16_02', 'BATCHSIZE': 8, 'GENERATOR_WORKER': 8, 'DIM': [8, 64, 64], 'T_SHAPE': 36, 'SPACING': [8, 3, 3], 'DEPTH': 3, 'FILTERS': 32, 'M_POOL': [1, 2, 2], 'F_SIZE': [3, 3, 3], 'BN_FIRST': False, 'BATCH_NORMALISATION': True, 'PAD': 'same', 'KERNEL_INIT': 'he_normal', 'OPTIMIZER': 'adam', 'ACTIVATION': 'relu', 'LEARNING_RATE': 0.0001, 'DECAY_FACTOR': 0.3, 'MIN_LR': 1e-11, 'MONITOR_FUNCTION': 'loss', 'MONITOR_MODE': 'min', 'SAVE_MODEL_FUNCTION': 'loss', 'SAVE_MODEL_MODE': 'min', 'MODEL_PATIENCE': 20, 'SAVE_LEARNING_PROGRESS_AS_TF': True, 'BORDER_MODE': 4, 'IMG_INTERPOLATION': 1, 'MSK_INTERPOLATION': 0, 'AUGMENT': True, 'AUGMENT_PROB': 0.8, 'AUGMENT_PHASES': False, 'AUGMENT_PHASES_RANGE': (-3, 3), 'SHUFFLE': True, 'RESAMPLE': True, 'SCALER': 'MinMax', 'PHASES': 5, 'TARGET_SMOOTHING': True, 'SMOOTHING_KERNEL_SIZE': 12, 'SMOOTHING_LOWER_BORDER': 1, 'SMOOTHING_UPPER_BORDER': 5, 'SMOOTHING_WEIGHT_CORRECT': 10, 'DF_META': '/mnt/ssd/data/gcn/02_imported_4D_unfiltered/SAx_3D_dicomTags_phase'}\n"
     ]
    }
   ],
   "source": [
    "# ------------------------------------------define logging and working directory\n",
    "from ProjectRoot import change_wd_to_project_root\n",
    "change_wd_to_project_root()\n",
    "from src.utils.Tensorflow_helper import choose_gpu_by_id\n",
    "# ------------------------------------------define GPU id/s to use\n",
    "GPU_IDS = '0,1'\n",
    "GPUS = choose_gpu_by_id(GPU_IDS)\n",
    "print(GPUS)\n",
    "# ------------------------------------------jupyter magic config\n",
    "%matplotlib inline\n",
    "%reload_ext autoreload\n",
    "%autoreload 2\n",
    "# ------------------------------------------ import helpers\n",
    "# this should import glob, os, and many other standard libs\n",
    "from src.utils.Notebook_imports import *\n",
    "from tensorflow.python.client import device_lib\n",
    "import tensorflow as tf\n",
    "tf.get_logger().setLevel('ERROR')\n",
    "# local imports\n",
    "from src.utils.Utils_io import Console_and_file_logger, init_config\n",
    "from src.visualization.Visualize import show_2D_or_3D\n",
    "from src.utils.KerasCallbacks import get_callbacks\n",
    "\n",
    "# import external libs\n",
    "import cv2\n",
    "import pandas as pd\n",
    "\n",
    "EXPERIMENT = 'temp/36_5_BiLSTM32_NoBn_conv5_size1_CCE_NOphaseaug_shift_rotate_reflectbordersgridaug'\n",
    "timestemp = str(datetime.datetime.now().strftime(\"%Y-%m-%d_%H_%M\")) # ad a timestep to each project to make repeated experiments unique\n",
    "\n",
    "MODEL_PATH = os.path.join('models', EXPERIMENT, timestemp)\n",
    "TENSORBOARD_LOG_DIR = os.path.join('reports/tensorboard_logs', EXPERIMENT,timestemp)\n",
    "CONFIG_PATH = os.path.join('reports/configs/',EXPERIMENT,timestemp)\n",
    "HISTORY_PATH = os.path.join('reports/history/',EXPERIMENT,timestemp)\n",
    "\n",
    "\n",
    "# General params\n",
    "SEED = 42 # define a seed for the generator shuffle\n",
    "BATCHSIZE = 8 # 32, 64, 24, 16, 1 for 3D use: 4\n",
    "GENERATOR_WORKER = BATCHSIZE # if not set, use batchsize\n",
    "\n",
    "DIM = [8, 64, 64] # network input params for spacing of 3, (z,y,x)\n",
    "T_SHAPE = 36\n",
    "SPACING = [8, 3, 3] # if resample, resample to this spacing, (z,y,x)\n",
    "\n",
    "# Model params\n",
    "DEPTH = 3 # depth of the encoder\n",
    "FILTERS = 32 # initial number of filters, will be doubled after each downsampling block\n",
    "M_POOL = [1, 2, 2]# size of max-pooling used for downsampling and upsampling\n",
    "F_SIZE = [3, 3, 3] # conv filter size\n",
    "BN_FIRST = False # decide if batch normalisation between conv and activation or afterwards\n",
    "BATCH_NORMALISATION = True # apply BN or not\n",
    "PAD = 'same' # padding strategy of the conv layers\n",
    "KERNEL_INIT = 'he_normal' # conv weight initialisation\n",
    "OPTIMIZER = 'adam' # Adam, Adagrad, RMSprop, Adadelta,  # https://keras.io/optimizers/\n",
    "ACTIVATION = 'relu' # tf.keras.layers.LeakyReLU(), relu or any other non linear activation function\n",
    "LEARNING_RATE = 1e-4 # start with a huge lr to converge fast\n",
    "DECAY_FACTOR = 0.3 # Define a learning rate decay for the ReduceLROnPlateau callback\n",
    "MIN_LR = 1e-11 # minimal lr, smaller lr does not improve the model\n",
    "DROPOUT_min = 0.3 # lower dropout at the shallow layers\n",
    "DROPOUT_max = 0.5 # higher dropout at the deep layers\n",
    "\n",
    "# Callback params\n",
    "MONITOR_FUNCTION = 'loss'\n",
    "MONITOR_MODE = 'min'\n",
    "SAVE_MODEL_FUNCTION = 'loss'\n",
    "SAVE_MODEL_MODE = 'min'\n",
    "MODEL_PATIENCE = 20\n",
    "SAVE_LEARNING_PROGRESS_AS_TF = True\n",
    "\n",
    "# Generator and Augmentation params\n",
    "BORDER_MODE = cv2.BORDER_REFLECT_101 # border mode for the data generation\n",
    "IMG_INTERPOLATION = cv2.INTER_LINEAR # image interpolation in the genarator\n",
    "MSK_INTERPOLATION = cv2.INTER_NEAREST # mask interpolation in the generator\n",
    "AUGMENT = True # a compose of 2D augmentation (grid distortion, 90degree rotation, brightness and shift)\n",
    "AUGMENT_PROB = 0.8\n",
    "AUGMENT_PHASES = False\n",
    "AUGMENT_PHASES_RANGE = (-3,3)\n",
    "SHUFFLE = True\n",
    "RESAMPLE = True\n",
    "SCALER = 'MinMax' # MinMax, Standard or Robust\n",
    "# We define 5 target phases and a background phase for the pad/empty volumes \n",
    "PHASES = len(['ED#', 'MS#', 'ES#', 'PF#', 'MD#']) # skipped 'pad backround manually added', due to repeating\n",
    "TARGET_SMOOTHING = True\n",
    "SMOOTHING_KERNEL_SIZE = 12\n",
    "SMOOTHING_LOWER_BORDER = 1\n",
    "SMOOTHING_UPPER_BORDER = 5\n",
    "SMOOTHING_WEIGHT_CORRECT = 10\n",
    "\n",
    "# Data paths\n",
    "DF_META = '/mnt/ssd/data/gcn/02_imported_4D_unfiltered/SAx_3D_dicomTags_phase'\n",
    "\n",
    "\n",
    "\n",
    "Console_and_file_logger(EXPERIMENT, logging.INFO)\n",
    "config = init_config(config=locals(), save=True)\n",
    "print(config)\n",
    "logging.info('Is built with tensorflow: {}'.format(tf.test.is_built_with_cuda()))\n",
    "logging.info('Visible devices:\\n{}'.format(tf.config.list_physical_devices()))\n",
    "logging.info('Local devices: \\n {}'.format(device_lib.list_local_devices()))"
   ]
  },
  {
   "cell_type": "code",
   "execution_count": 2,
   "metadata": {},
   "outputs": [
    {
     "name": "stdout",
     "output_type": "stream",
     "text": [
      "278\n"
     ]
    }
   ],
   "source": [
    "# zip the phase files in the following structure:\n",
    "#[[patient1_phase1, patient1_phase2, patient1_phase3, patient1_phase4, patient1_phase5],[patient2_phase1...] ...]\n",
    "\n",
    "images = sorted(glob.glob('/mnt/ssd/data/gcn/02_imported_4D_unfiltered/SAX/*clean.nrrd'))\n",
    "# add randomness, but idempotent, this issimilar to shuffle but we could leave some data out\n",
    "images = random.sample(images, len(images))\n",
    "print(len(images))"
   ]
  },
  {
   "cell_type": "code",
   "execution_count": 3,
   "metadata": {},
   "outputs": [
    {
     "data": {
      "text/plain": [
       "'/mnt/ssd/data/gcn/02_imported_4D_unfiltered/SAX/0000-K61NJJ2D_2007-05-29_volume_clean.nrrd'"
      ]
     },
     "execution_count": 3,
     "metadata": {},
     "output_type": "execute_result"
    }
   ],
   "source": [
    "images[83]"
   ]
  },
  {
   "cell_type": "code",
   "execution_count": 4,
   "metadata": {},
   "outputs": [],
   "source": [
    "# check if we find each patient in the corresponding dataframe\n",
    "import re\n",
    "METADATA_FILE = config.get('DF_META', '/mnt/ssd/data/gcn/02_imported_4D_unfiltered/SAx_3D_dicomTags_phase')\n",
    "df = pd.read_csv(METADATA_FILE)\n",
    "DF_METADATA = df[['patient', 'ED#', 'MS#', 'ES#', 'PF#', 'MD#']]\n",
    "\n",
    "\n",
    "for x in images:\n",
    "    try:\n",
    "        patient_str = re.search('-(.{8})_', x).group(1).upper()\n",
    "        \n",
    "        assert(len(patient_str) == 8), 'matched patient ID from the phase sheet has a length of: {}'.format(len(patient_str))\n",
    "        # returns the indices in the following order: 'ED#', 'MS#', 'ES#', 'PF#', 'MD#'\n",
    "        # reduce by one, as the indexes start at 0, the excel-sheet at 1\n",
    "        ind = DF_METADATA[DF_METADATA.patient.str.contains(patient_str)][['ED#', 'MS#', 'ES#', 'PF#', 'MD#']]\n",
    "        indices = ind.values[0].astype(int) -1\n",
    "        \n",
    "    except Exception as e:\n",
    "        logging.info(patient_str)\n",
    "        logging.info(ind)\n",
    "        logging.info('indices: \\n{}'.format(indices))"
   ]
  },
  {
   "cell_type": "code",
   "execution_count": 5,
   "metadata": {},
   "outputs": [
    {
     "data": {
      "application/vnd.jupyter.widget-view+json": {
       "model_id": "ef1c7c3c18ff4bd5bd067fbebf03a448",
       "version_major": 2,
       "version_minor": 0
      },
      "text/plain": [
       "interactive(children=(Text(value='', description='search_str'), Output()), _dom_classes=('widget-interact',))"
      ]
     },
     "metadata": {},
     "output_type": "display_data"
    }
   ],
   "source": [
    "@interact\n",
    "def search_p_in_df(search_str = ''):\n",
    "    return DF_METADATA[DF_METADATA['patient'].str.contains(search_str)]"
   ]
  },
  {
   "cell_type": "code",
   "execution_count": 6,
   "metadata": {},
   "outputs": [
    {
     "name": "stderr",
     "output_type": "stream",
     "text": [
      "2021-02-24 16:03:00,948 INFO Create DataGenerator\n",
      "2021-02-24 16:03:00,950 INFO Datagenerator created with: \n",
      " shape: [8, 64, 64]\n",
      " spacing: [8, 3, 3]\n",
      " batchsize: 8\n",
      " Scaler: MinMax\n",
      " Images: 220 \n",
      " Augment: True \n",
      " Thread workers: 8\n",
      "2021-02-24 16:03:00,950 INFO Data will be augmented (shift,scale and rotate) with albumentation\n",
      "2021-02-24 16:03:00,964 INFO Smoothing kernel: \n",
      "[ 1.   1.8  2.6  3.4  4.2  5.  10.   5.   4.2  3.4  2.6  1.8  1. ]\n",
      "2021-02-24 16:03:00,964 INFO Temporal phase augmentation: False\n",
      "2021-02-24 16:03:00,965 INFO Create DataGenerator\n",
      "2021-02-24 16:03:00,965 INFO Datagenerator created with: \n",
      " shape: [8, 64, 64]\n",
      " spacing: [8, 3, 3]\n",
      " batchsize: 8\n",
      " Scaler: MinMax\n",
      " Images: 58 \n",
      " Augment: False \n",
      " Thread workers: 8\n",
      "2021-02-24 16:03:00,966 INFO No augmentation\n",
      "2021-02-24 16:03:00,979 INFO Smoothing kernel: \n",
      "[ 1.   1.8  2.6  3.4  4.2  5.  10.   5.   4.2  3.4  2.6  1.8  1. ]\n",
      "2021-02-24 16:03:00,979 INFO Temporal phase augmentation: False\n"
     ]
    }
   ],
   "source": [
    "# initialise a generator with these files\n",
    "# logging.getLogger().setLevel(logging.INFO)\n",
    "from src.data.Generators import PhaseRegressionGenerator\n",
    "#config['SHUFFLE'] = False\n",
    "#config['AUGMENT'] = False\n",
    "#config['RESAMPLE'] = True\n",
    "#config['AUGMENT_PHASES'] = False\n",
    "batch_generator = PhaseRegressionGenerator(images[:220], images[:220], config=config)\n",
    "val_config = config.copy()\n",
    "val_config['AUGMENT'] = False\n",
    "val_config['AUGMENT_PHASES'] = False\n",
    "validation_generator = PhaseRegressionGenerator(images[220:], images[220:] , config=val_config)"
   ]
  },
  {
   "cell_type": "code",
   "execution_count": 11,
   "metadata": {},
   "outputs": [
    {
     "data": {
      "application/vnd.jupyter.widget-view+json": {
       "model_id": "0f9db5cdc1b0475ea16fff15b7940ee4",
       "version_major": 2,
       "version_minor": 0
      },
      "text/plain": [
       "interactive(children=(IntSlider(value=3, description='batch', max=7), IntSlider(value=3, description='im', max…"
      ]
     },
     "metadata": {},
     "output_type": "display_data"
    }
   ],
   "source": [
    "# visualise one batch\n",
    "@interact_manual\n",
    "def select_image_in_batch(batch = (0,len(validation_generator), 1), \n",
    "                          im = (0,BATCHSIZE- 1, 1), \n",
    "                          slice_n=(1,11), \n",
    "                          save=False, \n",
    "                          filepath='data/temp/', \n",
    "                          filename='temp_x.npy',\n",
    "                         show_=True):\n",
    "    \n",
    "    import time\n",
    "    global inputs, outputs, gt_len\n",
    "    phases = ['ED', 'MS', 'ES', 'PF', 'MD']\n",
    "    t1 = time.time()\n",
    "    inputs, outputs = validation_generator.__getitem__(batch)\n",
    "    outputs, gt_len_msk = np.split(outputs, indices_or_sections=2,axis=1)\n",
    "    logging.info('Preprocessing took: {:0.3f}'.format(time.time() - t1))\n",
    "    print(inputs.shape, outputs.shape)\n",
    "    print('selected batch : ' + str(batch))\n",
    "    if show_:\n",
    "    \n",
    "        selected_input = inputs[im]\n",
    "        selected_output = outputs[im][0]\n",
    "        selected_gtlen = int(np.sum((gt_len_msk[im,0,:,0])))\n",
    "        logging.info('GT length: {}'.format(selected_gtlen))\n",
    "\n",
    "        logging.debug('pad: \\n{}'.format(selected_output))\n",
    "        \n",
    "        f, axs = plt.subplots(1,2,figsize=(5,5))\n",
    "        i = 0\n",
    "        temp_y = selected_output\n",
    "        ind_gt = np.argmax(temp_y[:selected_gtlen,:], axis=0)\n",
    "        axs[0].title.set_text('y')\n",
    "        axs[0].set_yticks(ind_gt, minor=False)\n",
    "        axs[0].set_xticks([0,1,2,3,4], minor=False)\n",
    "        axs[0].set_xticklabels(phases, rotation =45)\n",
    "        axs[0].imshow(temp_y, aspect='auto')\n",
    "        axs[1].hist(selected_input.flatten(), bins=np.linspace(0.1,1,20))\n",
    "        f.tight_layout()\n",
    "        plt.show()\n",
    "        \n",
    "        list(map(lambda x: show_2D_or_3D(img=x, interpol='bilinear',dpi=100,f_size=(5,5)), selected_input[::slice_n]))\n",
    "\n",
    "        \n",
    "    if save:\n",
    "        ensure_dir(filepath)\n",
    "        np.save(os.path.join(filepath, filename), x[im])\n",
    "        logging.info('saved to {}'.format(os.path.join(filepath, filename)))\n",
    "    \n",
    "\n"
   ]
  },
  {
   "cell_type": "code",
   "execution_count": 10,
   "metadata": {},
   "outputs": [
    {
     "data": {
      "text/plain": [
       "'for b in range(len(validation_generator)):\\n    print(b)\\n    for im in range(BATCHSIZE):\\n        select_image_in_batch(batch=b,im=im, slice_n=5, show_=True)'"
      ]
     },
     "execution_count": 10,
     "metadata": {},
     "output_type": "execute_result"
    }
   ],
   "source": [
    "# test if all batches are processable\n",
    "\"\"\"for b in range(len(validation_generator)):\n",
    "    print(b)\n",
    "    for im in range(BATCHSIZE):\n",
    "        select_image_in_batch(batch=b,im=im, slice_n=5, show_=True)\"\"\""
   ]
  },
  {
   "cell_type": "code",
   "execution_count": 35,
   "metadata": {},
   "outputs": [
    {
     "name": "stdout",
     "output_type": "stream",
     "text": [
      "(None, 8, 8, 8, 256)\n",
      "(None, 256)\n",
      "(None, 36, 256)\n",
      "encoder\n",
      "(None, 36, 256)\n",
      "bi LSTM\n",
      "(None, 36, 64)\n",
      "conv1d 32 3,1\n",
      "(None, 36, 64)\n"
     ]
    }
   ],
   "source": [
    "from src.models.Models import create_PhaseRegressionModel\n",
    "model = create_PhaseRegressionModel(config)"
   ]
  },
  {
   "cell_type": "code",
   "execution_count": 23,
   "metadata": {
    "collapsed": true,
    "jupyter": {
     "outputs_hidden": true
    }
   },
   "outputs": [
    {
     "name": "stdout",
     "output_type": "stream",
     "text": [
      "Model: \"PhaseRegressionModel\"\n",
      "______________________________________________________________________________________________________________________________________________________\n",
      "Layer (type)                                     Output Shape                     Param #           Connected to                                      \n",
      "======================================================================================================================================================\n",
      "input_5 (InputLayer)                             [(None, 36, 8, 64, 64, 1)]       0                                                                   \n",
      "______________________________________________________________________________________________________________________________________________________\n",
      "tf_op_layer_unstack_8 (TensorFlowOpLayer)        [(None, 36, 64, 64, 1), (None, 3 0                 input_5[0][0]                                     \n",
      "______________________________________________________________________________________________________________________________________________________\n",
      "conv_encoder_9 (ConvEncoder)                     ((None, 36, 8, 8, 256), [(None,  3516960           tf_op_layer_unstack_8[0][2]                       \n",
      "                                                                                                    tf_op_layer_unstack_8[0][6]                       \n",
      "                                                                                                    tf_op_layer_unstack_8[0][7]                       \n",
      "                                                                                                    tf_op_layer_unstack_8[0][3]                       \n",
      "                                                                                                    tf_op_layer_unstack_8[0][0]                       \n",
      "                                                                                                    tf_op_layer_unstack_8[0][5]                       \n",
      "                                                                                                    tf_op_layer_unstack_8[0][1]                       \n",
      "                                                                                                    tf_op_layer_unstack_8[0][4]                       \n",
      "______________________________________________________________________________________________________________________________________________________\n",
      "tf_op_layer_stack_12 (TensorFlowOpLayer)         [(None, 36, 8, 8, 8, 256)]       0                 conv_encoder_9[4][0]                              \n",
      "                                                                                                    conv_encoder_9[6][0]                              \n",
      "                                                                                                    conv_encoder_9[0][0]                              \n",
      "                                                                                                    conv_encoder_9[3][0]                              \n",
      "                                                                                                    conv_encoder_9[7][0]                              \n",
      "                                                                                                    conv_encoder_9[5][0]                              \n",
      "                                                                                                    conv_encoder_9[1][0]                              \n",
      "                                                                                                    conv_encoder_9[2][0]                              \n",
      "______________________________________________________________________________________________________________________________________________________\n",
      "tf_op_layer_unstack_9 (TensorFlowOpLayer)        [(None, 8, 8, 8, 256), (None, 8, 0                 tf_op_layer_stack_12[0][0]                        \n",
      "______________________________________________________________________________________________________________________________________________________\n",
      "global_average_pooling3d_4 (GlobalAveragePooling (None, 256)                      0                 tf_op_layer_unstack_9[0][0]                       \n",
      "                                                                                                    tf_op_layer_unstack_9[0][1]                       \n",
      "                                                                                                    tf_op_layer_unstack_9[0][2]                       \n",
      "                                                                                                    tf_op_layer_unstack_9[0][3]                       \n",
      "                                                                                                    tf_op_layer_unstack_9[0][4]                       \n",
      "                                                                                                    tf_op_layer_unstack_9[0][5]                       \n",
      "                                                                                                    tf_op_layer_unstack_9[0][6]                       \n",
      "                                                                                                    tf_op_layer_unstack_9[0][7]                       \n",
      "                                                                                                    tf_op_layer_unstack_9[0][8]                       \n",
      "                                                                                                    tf_op_layer_unstack_9[0][9]                       \n",
      "                                                                                                    tf_op_layer_unstack_9[0][10]                      \n",
      "                                                                                                    tf_op_layer_unstack_9[0][11]                      \n",
      "                                                                                                    tf_op_layer_unstack_9[0][12]                      \n",
      "                                                                                                    tf_op_layer_unstack_9[0][13]                      \n",
      "                                                                                                    tf_op_layer_unstack_9[0][14]                      \n",
      "                                                                                                    tf_op_layer_unstack_9[0][15]                      \n",
      "                                                                                                    tf_op_layer_unstack_9[0][16]                      \n",
      "                                                                                                    tf_op_layer_unstack_9[0][17]                      \n",
      "                                                                                                    tf_op_layer_unstack_9[0][18]                      \n",
      "                                                                                                    tf_op_layer_unstack_9[0][19]                      \n",
      "                                                                                                    tf_op_layer_unstack_9[0][20]                      \n",
      "                                                                                                    tf_op_layer_unstack_9[0][21]                      \n",
      "                                                                                                    tf_op_layer_unstack_9[0][22]                      \n",
      "                                                                                                    tf_op_layer_unstack_9[0][23]                      \n",
      "                                                                                                    tf_op_layer_unstack_9[0][24]                      \n",
      "                                                                                                    tf_op_layer_unstack_9[0][25]                      \n",
      "                                                                                                    tf_op_layer_unstack_9[0][26]                      \n",
      "                                                                                                    tf_op_layer_unstack_9[0][27]                      \n",
      "                                                                                                    tf_op_layer_unstack_9[0][28]                      \n",
      "                                                                                                    tf_op_layer_unstack_9[0][29]                      \n",
      "                                                                                                    tf_op_layer_unstack_9[0][30]                      \n",
      "                                                                                                    tf_op_layer_unstack_9[0][31]                      \n",
      "                                                                                                    tf_op_layer_unstack_9[0][32]                      \n",
      "                                                                                                    tf_op_layer_unstack_9[0][33]                      \n",
      "                                                                                                    tf_op_layer_unstack_9[0][34]                      \n",
      "                                                                                                    tf_op_layer_unstack_9[0][35]                      \n",
      "______________________________________________________________________________________________________________________________________________________\n",
      "tf_op_layer_stack_13 (TensorFlowOpLayer)         [(None, 36, 256)]                0                 global_average_pooling3d_4[0][0]                  \n",
      "                                                                                                    global_average_pooling3d_4[1][0]                  \n",
      "                                                                                                    global_average_pooling3d_4[2][0]                  \n",
      "                                                                                                    global_average_pooling3d_4[3][0]                  \n",
      "                                                                                                    global_average_pooling3d_4[4][0]                  \n",
      "                                                                                                    global_average_pooling3d_4[5][0]                  \n",
      "                                                                                                    global_average_pooling3d_4[6][0]                  \n",
      "                                                                                                    global_average_pooling3d_4[7][0]                  \n",
      "                                                                                                    global_average_pooling3d_4[8][0]                  \n",
      "                                                                                                    global_average_pooling3d_4[9][0]                  \n",
      "                                                                                                    global_average_pooling3d_4[10][0]                 \n",
      "                                                                                                    global_average_pooling3d_4[11][0]                 \n",
      "                                                                                                    global_average_pooling3d_4[12][0]                 \n",
      "                                                                                                    global_average_pooling3d_4[13][0]                 \n",
      "                                                                                                    global_average_pooling3d_4[14][0]                 \n",
      "                                                                                                    global_average_pooling3d_4[15][0]                 \n",
      "                                                                                                    global_average_pooling3d_4[16][0]                 \n",
      "                                                                                                    global_average_pooling3d_4[17][0]                 \n",
      "                                                                                                    global_average_pooling3d_4[18][0]                 \n",
      "                                                                                                    global_average_pooling3d_4[19][0]                 \n",
      "                                                                                                    global_average_pooling3d_4[20][0]                 \n",
      "                                                                                                    global_average_pooling3d_4[21][0]                 \n",
      "                                                                                                    global_average_pooling3d_4[22][0]                 \n",
      "                                                                                                    global_average_pooling3d_4[23][0]                 \n",
      "                                                                                                    global_average_pooling3d_4[24][0]                 \n",
      "                                                                                                    global_average_pooling3d_4[25][0]                 \n",
      "                                                                                                    global_average_pooling3d_4[26][0]                 \n",
      "                                                                                                    global_average_pooling3d_4[27][0]                 \n",
      "                                                                                                    global_average_pooling3d_4[28][0]                 \n",
      "                                                                                                    global_average_pooling3d_4[29][0]                 \n",
      "                                                                                                    global_average_pooling3d_4[30][0]                 \n",
      "                                                                                                    global_average_pooling3d_4[31][0]                 \n",
      "                                                                                                    global_average_pooling3d_4[32][0]                 \n",
      "                                                                                                    global_average_pooling3d_4[33][0]                 \n",
      "                                                                                                    global_average_pooling3d_4[34][0]                 \n",
      "                                                                                                    global_average_pooling3d_4[35][0]                 \n",
      "______________________________________________________________________________________________________________________________________________________\n",
      "batch_normalization_84 (BatchNormalization)      (None, 36, 256)                  1024              tf_op_layer_stack_13[0][0]                        \n",
      "______________________________________________________________________________________________________________________________________________________\n",
      "dropout_44 (Dropout)                             (None, 36, 256)                  0                 batch_normalization_84[0][0]                      \n",
      "______________________________________________________________________________________________________________________________________________________\n",
      "bidirectional_4 (Bidirectional)                  (None, 36, 64)                   73984             dropout_44[0][0]                                  \n",
      "______________________________________________________________________________________________________________________________________________________\n",
      "final_conv (Conv1D)                              (None, 36, 5)                    325               bidirectional_4[0][0]                             \n",
      "______________________________________________________________________________________________________________________________________________________\n",
      "tf_op_layer_ZerosLike_4 (TensorFlowOpLayer)      [(None, 36, 5)]                  0                 final_conv[0][0]                                  \n",
      "______________________________________________________________________________________________________________________________________________________\n",
      "tf_op_layer_stack_14 (TensorFlowOpLayer)         [(None, 2, 36, 5)]               0                 final_conv[0][0]                                  \n",
      "                                                                                                    tf_op_layer_ZerosLike_4[0][0]                     \n",
      "======================================================================================================================================================\n",
      "Total params: 3,592,293\n",
      "Trainable params: 3,589,861\n",
      "Non-trainable params: 2,432\n",
      "______________________________________________________________________________________________________________________________________________________\n"
     ]
    }
   ],
   "source": [
    "model.summary(line_length=150)"
   ]
  },
  {
   "cell_type": "code",
   "execution_count": 36,
   "metadata": {},
   "outputs": [
    {
     "name": "stdout",
     "output_type": "stream",
     "text": [
      "Epoch 1/200\n",
      "(None, None, None, None)\n",
      "(None, None, None)\n",
      "(None, 36, 5)\n",
      "(None, None, None)\n",
      "y_len shape: (None,)\n",
      "gt_idx shape: (None, None)\n",
      "pred_idx shape: (None, 5)\n",
      "filled shape: (None, None)\n",
      "(3,)\n",
      "(None, None, None, None)\n",
      "(None, None, None)\n",
      "(None, 36, 5)\n",
      "(None, None, None)\n",
      "y_len shape: (None,)\n",
      "gt_idx shape: (None, None)\n",
      "pred_idx shape: (None, 5)\n",
      "filled shape: (None, None)\n",
      "(3,)\n",
      "(None, None, None, None)\n",
      "(None, None, None)\n",
      "(None, 36, 5)\n",
      "(None, None, None)\n",
      "y_len shape: (None,)\n",
      "gt_idx shape: (None, None)\n",
      "pred_idx shape: (None, 5)\n",
      "filled shape: (None, None)\n",
      "(3,)\n",
      "(None, None, None, None)\n",
      "(None, None, None)\n",
      "(None, 36, 5)\n",
      "(None, None, None)\n",
      "y_len shape: (None,)\n",
      "gt_idx shape: (None, None)\n",
      "pred_idx shape: (None, 5)\n",
      "filled shape: (None, None)\n",
      "(3,)\n",
      "27/27 [==============================] - ETA: 0s - loss: 1.6972 - meandiff: 15.3481(None, None, None, None)\n",
      "(None, None, None)\n",
      "(None, 36, 5)\n",
      "(None, None, None)\n",
      "y_len shape: (None,)\n",
      "gt_idx shape: (None, None)\n",
      "pred_idx shape: (None, 5)\n",
      "filled shape: (None, None)\n",
      "(3,)\n",
      "(None, None, None, None)\n",
      "(None, None, None)\n",
      "(None, 36, 5)\n",
      "(None, None, None)\n",
      "y_len shape: (None,)\n",
      "gt_idx shape: (None, None)\n",
      "pred_idx shape: (None, 5)\n",
      "filled shape: (None, None)\n",
      "(3,)\n",
      "27/27 [==============================] - 47s 2s/step - loss: 1.6972 - meandiff: 15.3481 - val_loss: 1.6067 - val_meandiff: 13.2000\n",
      "Epoch 2/200\n",
      "11/27 [===========>..................] - ETA: 19s - loss: 1.4901 - meandiff: 10.4636"
     ]
    },
    {
     "ename": "KeyboardInterrupt",
     "evalue": "",
     "output_type": "error",
     "traceback": [
      "\u001b[0;31m---------------------------------------------------------------------------\u001b[0m",
      "\u001b[0;31mKeyboardInterrupt\u001b[0m                         Traceback (most recent call last)",
      "\u001b[0;32m<ipython-input-36-138f7ec1f49d>\u001b[0m in \u001b[0;36m<module>\u001b[0;34m\u001b[0m\n\u001b[1;32m      1\u001b[0m \u001b[0minitial_epoch\u001b[0m \u001b[0;34m=\u001b[0m \u001b[0;36m0\u001b[0m\u001b[0;34m\u001b[0m\u001b[0;34m\u001b[0m\u001b[0m\n\u001b[1;32m      2\u001b[0m \u001b[0;34m\u001b[0m\u001b[0m\n\u001b[0;32m----> 3\u001b[0;31m results = model.fit(\n\u001b[0m\u001b[1;32m      4\u001b[0m     \u001b[0mx\u001b[0m\u001b[0;34m=\u001b[0m\u001b[0mbatch_generator\u001b[0m\u001b[0;34m,\u001b[0m\u001b[0;34m\u001b[0m\u001b[0;34m\u001b[0m\u001b[0m\n\u001b[1;32m      5\u001b[0m     \u001b[0;31m#steps_per_epoch=len(batch_generator),\u001b[0m\u001b[0;34m\u001b[0m\u001b[0;34m\u001b[0m\u001b[0;34m\u001b[0m\u001b[0m\n",
      "\u001b[0;32m~/anaconda3/envs/dcmr/lib/python3.8/site-packages/tensorflow/python/keras/engine/training.py\u001b[0m in \u001b[0;36m_method_wrapper\u001b[0;34m(self, *args, **kwargs)\u001b[0m\n\u001b[1;32m    106\u001b[0m   \u001b[0;32mdef\u001b[0m \u001b[0m_method_wrapper\u001b[0m\u001b[0;34m(\u001b[0m\u001b[0mself\u001b[0m\u001b[0;34m,\u001b[0m \u001b[0;34m*\u001b[0m\u001b[0margs\u001b[0m\u001b[0;34m,\u001b[0m \u001b[0;34m**\u001b[0m\u001b[0mkwargs\u001b[0m\u001b[0;34m)\u001b[0m\u001b[0;34m:\u001b[0m\u001b[0;34m\u001b[0m\u001b[0;34m\u001b[0m\u001b[0m\n\u001b[1;32m    107\u001b[0m     \u001b[0;32mif\u001b[0m \u001b[0;32mnot\u001b[0m \u001b[0mself\u001b[0m\u001b[0;34m.\u001b[0m\u001b[0m_in_multi_worker_mode\u001b[0m\u001b[0;34m(\u001b[0m\u001b[0;34m)\u001b[0m\u001b[0;34m:\u001b[0m  \u001b[0;31m# pylint: disable=protected-access\u001b[0m\u001b[0;34m\u001b[0m\u001b[0;34m\u001b[0m\u001b[0m\n\u001b[0;32m--> 108\u001b[0;31m       \u001b[0;32mreturn\u001b[0m \u001b[0mmethod\u001b[0m\u001b[0;34m(\u001b[0m\u001b[0mself\u001b[0m\u001b[0;34m,\u001b[0m \u001b[0;34m*\u001b[0m\u001b[0margs\u001b[0m\u001b[0;34m,\u001b[0m \u001b[0;34m**\u001b[0m\u001b[0mkwargs\u001b[0m\u001b[0;34m)\u001b[0m\u001b[0;34m\u001b[0m\u001b[0;34m\u001b[0m\u001b[0m\n\u001b[0m\u001b[1;32m    109\u001b[0m \u001b[0;34m\u001b[0m\u001b[0m\n\u001b[1;32m    110\u001b[0m     \u001b[0;31m# Running inside `run_distribute_coordinator` already.\u001b[0m\u001b[0;34m\u001b[0m\u001b[0;34m\u001b[0m\u001b[0;34m\u001b[0m\u001b[0m\n",
      "\u001b[0;32m~/anaconda3/envs/dcmr/lib/python3.8/site-packages/tensorflow/python/keras/engine/training.py\u001b[0m in \u001b[0;36mfit\u001b[0;34m(self, x, y, batch_size, epochs, verbose, callbacks, validation_split, validation_data, shuffle, class_weight, sample_weight, initial_epoch, steps_per_epoch, validation_steps, validation_batch_size, validation_freq, max_queue_size, workers, use_multiprocessing)\u001b[0m\n\u001b[1;32m   1096\u001b[0m                 batch_size=batch_size):\n\u001b[1;32m   1097\u001b[0m               \u001b[0mcallbacks\u001b[0m\u001b[0;34m.\u001b[0m\u001b[0mon_train_batch_begin\u001b[0m\u001b[0;34m(\u001b[0m\u001b[0mstep\u001b[0m\u001b[0;34m)\u001b[0m\u001b[0;34m\u001b[0m\u001b[0;34m\u001b[0m\u001b[0m\n\u001b[0;32m-> 1098\u001b[0;31m               \u001b[0mtmp_logs\u001b[0m \u001b[0;34m=\u001b[0m \u001b[0mtrain_function\u001b[0m\u001b[0;34m(\u001b[0m\u001b[0miterator\u001b[0m\u001b[0;34m)\u001b[0m\u001b[0;34m\u001b[0m\u001b[0;34m\u001b[0m\u001b[0m\n\u001b[0m\u001b[1;32m   1099\u001b[0m               \u001b[0;32mif\u001b[0m \u001b[0mdata_handler\u001b[0m\u001b[0;34m.\u001b[0m\u001b[0mshould_sync\u001b[0m\u001b[0;34m:\u001b[0m\u001b[0;34m\u001b[0m\u001b[0;34m\u001b[0m\u001b[0m\n\u001b[1;32m   1100\u001b[0m                 \u001b[0mcontext\u001b[0m\u001b[0;34m.\u001b[0m\u001b[0masync_wait\u001b[0m\u001b[0;34m(\u001b[0m\u001b[0;34m)\u001b[0m\u001b[0;34m\u001b[0m\u001b[0;34m\u001b[0m\u001b[0m\n",
      "\u001b[0;32m~/anaconda3/envs/dcmr/lib/python3.8/site-packages/tensorflow/python/eager/def_function.py\u001b[0m in \u001b[0;36m__call__\u001b[0;34m(self, *args, **kwds)\u001b[0m\n\u001b[1;32m    778\u001b[0m       \u001b[0;32melse\u001b[0m\u001b[0;34m:\u001b[0m\u001b[0;34m\u001b[0m\u001b[0;34m\u001b[0m\u001b[0m\n\u001b[1;32m    779\u001b[0m         \u001b[0mcompiler\u001b[0m \u001b[0;34m=\u001b[0m \u001b[0;34m\"nonXla\"\u001b[0m\u001b[0;34m\u001b[0m\u001b[0;34m\u001b[0m\u001b[0m\n\u001b[0;32m--> 780\u001b[0;31m         \u001b[0mresult\u001b[0m \u001b[0;34m=\u001b[0m \u001b[0mself\u001b[0m\u001b[0;34m.\u001b[0m\u001b[0m_call\u001b[0m\u001b[0;34m(\u001b[0m\u001b[0;34m*\u001b[0m\u001b[0margs\u001b[0m\u001b[0;34m,\u001b[0m \u001b[0;34m**\u001b[0m\u001b[0mkwds\u001b[0m\u001b[0;34m)\u001b[0m\u001b[0;34m\u001b[0m\u001b[0;34m\u001b[0m\u001b[0m\n\u001b[0m\u001b[1;32m    781\u001b[0m \u001b[0;34m\u001b[0m\u001b[0m\n\u001b[1;32m    782\u001b[0m       \u001b[0mnew_tracing_count\u001b[0m \u001b[0;34m=\u001b[0m \u001b[0mself\u001b[0m\u001b[0;34m.\u001b[0m\u001b[0m_get_tracing_count\u001b[0m\u001b[0;34m(\u001b[0m\u001b[0;34m)\u001b[0m\u001b[0;34m\u001b[0m\u001b[0;34m\u001b[0m\u001b[0m\n",
      "\u001b[0;32m~/anaconda3/envs/dcmr/lib/python3.8/site-packages/tensorflow/python/eager/def_function.py\u001b[0m in \u001b[0;36m_call\u001b[0;34m(self, *args, **kwds)\u001b[0m\n\u001b[1;32m    805\u001b[0m       \u001b[0;31m# In this case we have created variables on the first call, so we run the\u001b[0m\u001b[0;34m\u001b[0m\u001b[0;34m\u001b[0m\u001b[0;34m\u001b[0m\u001b[0m\n\u001b[1;32m    806\u001b[0m       \u001b[0;31m# defunned version which is guaranteed to never create variables.\u001b[0m\u001b[0;34m\u001b[0m\u001b[0;34m\u001b[0m\u001b[0;34m\u001b[0m\u001b[0m\n\u001b[0;32m--> 807\u001b[0;31m       \u001b[0;32mreturn\u001b[0m \u001b[0mself\u001b[0m\u001b[0;34m.\u001b[0m\u001b[0m_stateless_fn\u001b[0m\u001b[0;34m(\u001b[0m\u001b[0;34m*\u001b[0m\u001b[0margs\u001b[0m\u001b[0;34m,\u001b[0m \u001b[0;34m**\u001b[0m\u001b[0mkwds\u001b[0m\u001b[0;34m)\u001b[0m  \u001b[0;31m# pylint: disable=not-callable\u001b[0m\u001b[0;34m\u001b[0m\u001b[0;34m\u001b[0m\u001b[0m\n\u001b[0m\u001b[1;32m    808\u001b[0m     \u001b[0;32melif\u001b[0m \u001b[0mself\u001b[0m\u001b[0;34m.\u001b[0m\u001b[0m_stateful_fn\u001b[0m \u001b[0;32mis\u001b[0m \u001b[0;32mnot\u001b[0m \u001b[0;32mNone\u001b[0m\u001b[0;34m:\u001b[0m\u001b[0;34m\u001b[0m\u001b[0;34m\u001b[0m\u001b[0m\n\u001b[1;32m    809\u001b[0m       \u001b[0;31m# Release the lock early so that multiple threads can perform the call\u001b[0m\u001b[0;34m\u001b[0m\u001b[0;34m\u001b[0m\u001b[0;34m\u001b[0m\u001b[0m\n",
      "\u001b[0;32m~/anaconda3/envs/dcmr/lib/python3.8/site-packages/tensorflow/python/eager/function.py\u001b[0m in \u001b[0;36m__call__\u001b[0;34m(self, *args, **kwargs)\u001b[0m\n\u001b[1;32m   2827\u001b[0m     \u001b[0;32mwith\u001b[0m \u001b[0mself\u001b[0m\u001b[0;34m.\u001b[0m\u001b[0m_lock\u001b[0m\u001b[0;34m:\u001b[0m\u001b[0;34m\u001b[0m\u001b[0;34m\u001b[0m\u001b[0m\n\u001b[1;32m   2828\u001b[0m       \u001b[0mgraph_function\u001b[0m\u001b[0;34m,\u001b[0m \u001b[0margs\u001b[0m\u001b[0;34m,\u001b[0m \u001b[0mkwargs\u001b[0m \u001b[0;34m=\u001b[0m \u001b[0mself\u001b[0m\u001b[0;34m.\u001b[0m\u001b[0m_maybe_define_function\u001b[0m\u001b[0;34m(\u001b[0m\u001b[0margs\u001b[0m\u001b[0;34m,\u001b[0m \u001b[0mkwargs\u001b[0m\u001b[0;34m)\u001b[0m\u001b[0;34m\u001b[0m\u001b[0;34m\u001b[0m\u001b[0m\n\u001b[0;32m-> 2829\u001b[0;31m     \u001b[0;32mreturn\u001b[0m \u001b[0mgraph_function\u001b[0m\u001b[0;34m.\u001b[0m\u001b[0m_filtered_call\u001b[0m\u001b[0;34m(\u001b[0m\u001b[0margs\u001b[0m\u001b[0;34m,\u001b[0m \u001b[0mkwargs\u001b[0m\u001b[0;34m)\u001b[0m  \u001b[0;31m# pylint: disable=protected-access\u001b[0m\u001b[0;34m\u001b[0m\u001b[0;34m\u001b[0m\u001b[0m\n\u001b[0m\u001b[1;32m   2830\u001b[0m \u001b[0;34m\u001b[0m\u001b[0m\n\u001b[1;32m   2831\u001b[0m   \u001b[0;34m@\u001b[0m\u001b[0mproperty\u001b[0m\u001b[0;34m\u001b[0m\u001b[0;34m\u001b[0m\u001b[0m\n",
      "\u001b[0;32m~/anaconda3/envs/dcmr/lib/python3.8/site-packages/tensorflow/python/eager/function.py\u001b[0m in \u001b[0;36m_filtered_call\u001b[0;34m(self, args, kwargs, cancellation_manager)\u001b[0m\n\u001b[1;32m   1841\u001b[0m       \u001b[0;31m`\u001b[0m\u001b[0margs\u001b[0m\u001b[0;31m`\u001b[0m \u001b[0;32mand\u001b[0m\u001b[0;31m \u001b[0m\u001b[0;31m`\u001b[0m\u001b[0mkwargs\u001b[0m\u001b[0;31m`\u001b[0m\u001b[0;34m.\u001b[0m\u001b[0;34m\u001b[0m\u001b[0;34m\u001b[0m\u001b[0m\n\u001b[1;32m   1842\u001b[0m     \"\"\"\n\u001b[0;32m-> 1843\u001b[0;31m     return self._call_flat(\n\u001b[0m\u001b[1;32m   1844\u001b[0m         [t for t in nest.flatten((args, kwargs), expand_composites=True)\n\u001b[1;32m   1845\u001b[0m          if isinstance(t, (ops.Tensor,\n",
      "\u001b[0;32m~/anaconda3/envs/dcmr/lib/python3.8/site-packages/tensorflow/python/eager/function.py\u001b[0m in \u001b[0;36m_call_flat\u001b[0;34m(self, args, captured_inputs, cancellation_manager)\u001b[0m\n\u001b[1;32m   1921\u001b[0m         and executing_eagerly):\n\u001b[1;32m   1922\u001b[0m       \u001b[0;31m# No tape is watching; skip to running the function.\u001b[0m\u001b[0;34m\u001b[0m\u001b[0;34m\u001b[0m\u001b[0;34m\u001b[0m\u001b[0m\n\u001b[0;32m-> 1923\u001b[0;31m       return self._build_call_outputs(self._inference_function.call(\n\u001b[0m\u001b[1;32m   1924\u001b[0m           ctx, args, cancellation_manager=cancellation_manager))\n\u001b[1;32m   1925\u001b[0m     forward_backward = self._select_forward_and_backward_functions(\n",
      "\u001b[0;32m~/anaconda3/envs/dcmr/lib/python3.8/site-packages/tensorflow/python/eager/function.py\u001b[0m in \u001b[0;36mcall\u001b[0;34m(self, ctx, args, cancellation_manager)\u001b[0m\n\u001b[1;32m    543\u001b[0m       \u001b[0;32mwith\u001b[0m \u001b[0m_InterpolateFunctionError\u001b[0m\u001b[0;34m(\u001b[0m\u001b[0mself\u001b[0m\u001b[0;34m)\u001b[0m\u001b[0;34m:\u001b[0m\u001b[0;34m\u001b[0m\u001b[0;34m\u001b[0m\u001b[0m\n\u001b[1;32m    544\u001b[0m         \u001b[0;32mif\u001b[0m \u001b[0mcancellation_manager\u001b[0m \u001b[0;32mis\u001b[0m \u001b[0;32mNone\u001b[0m\u001b[0;34m:\u001b[0m\u001b[0;34m\u001b[0m\u001b[0;34m\u001b[0m\u001b[0m\n\u001b[0;32m--> 545\u001b[0;31m           outputs = execute.execute(\n\u001b[0m\u001b[1;32m    546\u001b[0m               \u001b[0mstr\u001b[0m\u001b[0;34m(\u001b[0m\u001b[0mself\u001b[0m\u001b[0;34m.\u001b[0m\u001b[0msignature\u001b[0m\u001b[0;34m.\u001b[0m\u001b[0mname\u001b[0m\u001b[0;34m)\u001b[0m\u001b[0;34m,\u001b[0m\u001b[0;34m\u001b[0m\u001b[0;34m\u001b[0m\u001b[0m\n\u001b[1;32m    547\u001b[0m               \u001b[0mnum_outputs\u001b[0m\u001b[0;34m=\u001b[0m\u001b[0mself\u001b[0m\u001b[0;34m.\u001b[0m\u001b[0m_num_outputs\u001b[0m\u001b[0;34m,\u001b[0m\u001b[0;34m\u001b[0m\u001b[0;34m\u001b[0m\u001b[0m\n",
      "\u001b[0;32m~/anaconda3/envs/dcmr/lib/python3.8/site-packages/tensorflow/python/eager/execute.py\u001b[0m in \u001b[0;36mquick_execute\u001b[0;34m(op_name, num_outputs, inputs, attrs, ctx, name)\u001b[0m\n\u001b[1;32m     57\u001b[0m   \u001b[0;32mtry\u001b[0m\u001b[0;34m:\u001b[0m\u001b[0;34m\u001b[0m\u001b[0;34m\u001b[0m\u001b[0m\n\u001b[1;32m     58\u001b[0m     \u001b[0mctx\u001b[0m\u001b[0;34m.\u001b[0m\u001b[0mensure_initialized\u001b[0m\u001b[0;34m(\u001b[0m\u001b[0;34m)\u001b[0m\u001b[0;34m\u001b[0m\u001b[0;34m\u001b[0m\u001b[0m\n\u001b[0;32m---> 59\u001b[0;31m     tensors = pywrap_tfe.TFE_Py_Execute(ctx._handle, device_name, op_name,\n\u001b[0m\u001b[1;32m     60\u001b[0m                                         inputs, attrs, num_outputs)\n\u001b[1;32m     61\u001b[0m   \u001b[0;32mexcept\u001b[0m \u001b[0mcore\u001b[0m\u001b[0;34m.\u001b[0m\u001b[0m_NotOkStatusException\u001b[0m \u001b[0;32mas\u001b[0m \u001b[0me\u001b[0m\u001b[0;34m:\u001b[0m\u001b[0;34m\u001b[0m\u001b[0;34m\u001b[0m\u001b[0m\n",
      "\u001b[0;31mKeyboardInterrupt\u001b[0m: "
     ]
    }
   ],
   "source": [
    "initial_epoch = 0\n",
    "\n",
    "results = model.fit(\n",
    "    x=batch_generator,\n",
    "    #steps_per_epoch=len(batch_generator),\n",
    "    validation_data=validation_generator,\n",
    "    #validation_steps=len(validation_generator),\n",
    "    epochs=200,\n",
    "    #callbacks = get_callbacks(config, batch_generator,validation_generator),\n",
    "    initial_epoch=initial_epoch,\n",
    "    max_queue_size=12,\n",
    "    #workers=2,\n",
    "    use_multiprocessing=False,\n",
    "    verbose=1)"
   ]
  },
  {
   "cell_type": "code",
   "execution_count": 14,
   "metadata": {},
   "outputs": [],
   "source": [
    "# predict the files from globals()['inputs']\n",
    "pred = model(inputs, training=False)"
   ]
  },
  {
   "cell_type": "code",
   "execution_count": 50,
   "metadata": {},
   "outputs": [
    {
     "name": "stdout",
     "output_type": "stream",
     "text": [
      "(4,)\n",
      "(4, 36, 5)\n"
     ]
    },
    {
     "data": {
      "text/plain": [
       "(4, 2, 36, 5)"
      ]
     },
     "execution_count": 50,
     "metadata": {},
     "output_type": "execute_result"
    }
   ],
   "source": [
    "temp = np.array([23, 17, 24, 18])\n",
    "print(temp.shape)\n",
    "empty = np.ones((4,36,5))\n",
    "print(empty.shape)\n",
    "second = empty[:]\n",
    "second[:,0,0] = temp\n",
    "np.stack([empty, second], axis=1).shape"
   ]
  },
  {
   "cell_type": "code",
   "execution_count": 13,
   "metadata": {},
   "outputs": [
    {
     "name": "stdout",
     "output_type": "stream",
     "text": [
      "[[23  4  9 13 21]\n",
      " [ 0  5 10 15 17]\n",
      " [24  4  8 13 20]\n",
      " [ 0  6 12 17 18]]\n",
      "[23 17 24 18]\n"
     ]
    }
   ],
   "source": [
    "# get the true idx\n",
    "gt_idx = tf.math.argmax(outputs, axis=1).numpy()\n",
    "print(gt_idx)\n",
    "gt_max = gt_idx.max(axis=1).astype(int)\n",
    "print(gt_max)"
   ]
  },
  {
   "cell_type": "code",
   "execution_count": 39,
   "metadata": {},
   "outputs": [
    {
     "data": {
      "image/png": "[encoded data removed]",
      "text/plain": [
       "<Figure size 2880x360 with 16 Axes>"
      ]
     },
     "metadata": {
      "needs_background": "light"
     },
     "output_type": "display_data"
    }
   ],
   "source": [
    "from src.visualization.Visualize import show_phases\n",
    "_ = show_phases(outputs,pred)"
   ]
  },
  {
   "cell_type": "code",
   "execution_count": 27,
   "metadata": {},
   "outputs": [
    {
     "name": "stdout",
     "output_type": "stream",
     "text": [
      "tf.Tensor(\n",
      "[[25]\n",
      " [25]\n",
      " [25]\n",
      " [25]\n",
      " [25]\n",
      " [20]\n",
      " [20]\n",
      " [16]], shape=(8, 1), dtype=int32)\n",
      "tf.Tensor(\n",
      "[[11]\n",
      " [11]\n",
      " [11]\n",
      " [11]\n",
      " [11]\n",
      " [16]\n",
      " [16]\n",
      " [20]], shape=(8, 1), dtype=int32)\n",
      "(5, 2)\n",
      "tf.Tensor([24  5 10 15 20], shape=(5,), dtype=int64)\n",
      "tf.Tensor([24  5 10 15 20], shape=(5,), dtype=int64)\n",
      "(5, 2)\n",
      "tf.Tensor([24  4  8 13 20], shape=(5,), dtype=int64)\n",
      "tf.Tensor([24  4  8 13 20], shape=(5,), dtype=int64)\n",
      "(5, 2)\n",
      "tf.Tensor([ 0  5 10 13 21], shape=(5,), dtype=int64)\n",
      "tf.Tensor([ 0  5 10 13 21], shape=(5,), dtype=int64)\n",
      "(5, 2)\n",
      "tf.Tensor([24  3  6 11 19], shape=(5,), dtype=int64)\n",
      "tf.Tensor([24  3  6 11 19], shape=(5,), dtype=int64)\n",
      "(5, 2)\n",
      "tf.Tensor([23  5 10 15 21], shape=(5,), dtype=int64)\n",
      "tf.Tensor([23  5 10 15 21], shape=(5,), dtype=int64)\n",
      "(5, 2)\n",
      "tf.Tensor([19  3  7 11 14], shape=(5,), dtype=int64)\n",
      "tf.Tensor([19  3  7 11 14], shape=(5,), dtype=int64)\n",
      "(5, 2)\n",
      "tf.Tensor([19  5 10 14 17], shape=(5,), dtype=int64)\n",
      "tf.Tensor([19  5 10 14 17], shape=(5,), dtype=int64)\n",
      "(5, 2)\n",
      "tf.Tensor([ 0  4  7 11 13], shape=(5,), dtype=int64)\n",
      "tf.Tensor([ 0  4  7 11 13], shape=(5,), dtype=int64)\n"
     ]
    },
    {
     "data": {
      "text/plain": [
       "array([0., 0., 0., 0., 0.], dtype=float32)"
      ]
     },
     "execution_count": 27,
     "metadata": {},
     "output_type": "execute_result"
    }
   ],
   "source": [
    "# calculate the meandiff score for one batch\n",
    "from src.utils.Metrics import meandiff\n",
    "score_fn = meandiff\n",
    "score_fn((outputs,gt_len), outputs, batchsize=BATCHSIZE).numpy()"
   ]
  },
  {
   "cell_type": "code",
   "execution_count": 26,
   "metadata": {},
   "outputs": [
    {
     "data": {
      "text/plain": [
       "[<tf.Tensor: shape=(), dtype=float32, numpy=13.8>,\n",
       " <tf.Tensor: shape=(), dtype=float32, numpy=27.6>,\n",
       " <tf.Tensor: shape=(), dtype=float32, numpy=7.4>,\n",
       " <tf.Tensor: shape=(), dtype=float32, numpy=12.8>,\n",
       " <tf.Tensor: shape=(), dtype=float32, numpy=5.6>,\n",
       " <tf.Tensor: shape=(), dtype=float32, numpy=15.2>,\n",
       " <tf.Tensor: shape=(), dtype=float32, numpy=17.8>]"
      ]
     },
     "execution_count": 26,
     "metadata": {},
     "output_type": "execute_result"
    }
   ],
   "source": [
    "# calculate the meandiff score for all batches\n",
    "scores = []\n",
    "for batch in validation_generator:\n",
    "    x,y = batch\n",
    "    p = model(x)\n",
    "    scores.append(score_fn(y,p, batchsize=BATCHSIZE))\n",
    "scores"
   ]
  },
  {
   "cell_type": "code",
   "execution_count": 27,
   "metadata": {},
   "outputs": [
    {
     "data": {
      "text/plain": [
       "14.314285"
      ]
     },
     "execution_count": 27,
     "metadata": {},
     "output_type": "execute_result"
    }
   ],
   "source": [
    "tf.reduce_mean(scores).numpy()"
   ]
  },
  {
   "cell_type": "markdown",
   "metadata": {},
   "source": [
    "# Generator tests"
   ]
  },
  {
   "cell_type": "code",
   "execution_count": 9,
   "metadata": {},
   "outputs": [
    {
     "data": {
      "text/plain": [
       "<matplotlib.image.AxesImage at 0x7f48c0042160>"
      ]
     },
     "execution_count": 9,
     "metadata": {},
     "output_type": "execute_result"
    },
    {
     "data": {
      "image/png": "[encoded data removed]",
      "text/plain": [
       "<Figure size 432x288 with 1 Axes>"
      ]
     },
     "metadata": {
      "needs_background": "light"
     },
     "output_type": "display_data"
    }
   ],
   "source": [
    "temp = outputs[2][:]\n",
    "plt.imshow(temp)"
   ]
  },
  {
   "cell_type": "code",
   "execution_count": 16,
   "metadata": {
    "collapsed": true,
    "jupyter": {
     "outputs_hidden": true
    }
   },
   "outputs": [
    {
     "data": {
      "image/png": "[encoded data removed]",
      "text/plain": [
       "<IPython.core.display.Image object>"
      ]
     },
     "execution_count": 16,
     "metadata": {},
     "output_type": "execute_result"
    }
   ],
   "source": [
    "tf.keras.utils.plot_model(\n",
    "    model, show_shapes=False,\n",
    "    show_layer_names=True, rankdir='TB', expand_nested=True, dpi=96\n",
    ")"
   ]
  },
  {
   "cell_type": "code",
   "execution_count": 19,
   "metadata": {},
   "outputs": [
    {
     "data": {
      "text/plain": [
       "1.75"
      ]
     },
     "execution_count": 19,
     "metadata": {},
     "output_type": "execute_result"
    }
   ],
   "source": [
    "score_fn = meandiff_\n",
    "score_fn(outputs, pred).numpy()"
   ]
  },
  {
   "cell_type": "code",
   "execution_count": 18,
   "metadata": {},
   "outputs": [],
   "source": [
    "def meandiff_( y_true, y_pred, batchsize=4):\n",
    "\n",
    "    \"\"\"\n",
    "    Average over the batches\n",
    "    the sum of the absolute difference between two arrays\n",
    "    y_true and y_pred are one-hot vectors with the following shape\n",
    "    batchsize * timesteps * phase classes\n",
    "    e.g.: 4 * 36 * 5\n",
    "    First for gt and pred:\n",
    "    - get the timesteps per phase with the highest probability\n",
    "    - get the absolute difference between gt and pred\n",
    "    (- later we can slice each patient by the max value in the corresponding gt indices)\n",
    "    - sum the diff per entity\n",
    "    - calc the mean over all examples\n",
    "\n",
    "    Parameters\n",
    "    ----------\n",
    "    y_true :\n",
    "    y_pred :\n",
    "\n",
    "    Returns tf.float32 scalar\n",
    "    -------\n",
    "\n",
    "    \"\"\"\n",
    "\n",
    "    score = 0\n",
    "    y_true = tf.cast(tf.convert_to_tensor(y_true), tf.float32)\n",
    "    y_pred = tf.cast(tf.convert_to_tensor(y_pred), tf.float32)\n",
    "\n",
    "    gt_idxs = tf.math.argmax(y_true, axis=1)\n",
    "    gt_max = tf.cast(tf.reduce_max(gt_idxs, axis=1), tf.int32)\n",
    "    padded_pred = []\n",
    "    padded_gt = []\n",
    "\n",
    "    msk = tf.stack([\n",
    "        tf.pad(tf.ones((gt_max[i],5)), ((0,36-gt_max[i]),(0,0)))\n",
    "        for i in range(batchsize)])\n",
    "    #msk = tf.zeros_like(y_pred)\n",
    "    #msk[:,:tf.reduce_max(gt_max), :] = 1\n",
    "\n",
    "    temp_pred = y_pred * msk\n",
    "    temp_gt = y_true * msk\n",
    "\n",
    "    #y_pred = tf.unstack(y_pred, axis=0)\n",
    "    #y_true = tf.unstack(y_true, axis=0)\n",
    "\n",
    "    \"\"\"def pad_to_size(p, max_id):\n",
    "        to_pad = p.shape[0] - max_id\n",
    "        print(p.shape[0])\n",
    "        print(max_id)\n",
    "        print(to_pad)\n",
    "        return tf.pad(p, [[0,to_pad],[0,0]])\n",
    "\n",
    "    padded_pred = list(map(lambda x : pad_to_size(x[0], x[1]), zip(y_pred, gt_max)))\n",
    "    padded_gt = list(map(lambda x: pad_to_size(x[0], x[1]), zip(y_true, gt_max)))\"\"\"\n",
    "\n",
    "    \"\"\"for idx in tf.range(y_pred.shape[0]):\n",
    "        max_idx = gt_max[idx]\n",
    "        p = y_pred[idx][:max_idx, :]\n",
    "        to_pad = y_pred.shape[1] - max_idx\n",
    "        padded_pred.append(tf.pad(p, [[0,to_pad],[0,0]]))\n",
    "\n",
    "        y = y_true[idx][:max_idx, :]\n",
    "        padded_gt.append(tf.pad(y, [[0, to_pad], [0, 0]]))\"\"\"\n",
    "\n",
    "    #temp_pred = tf.stack(padded_pred, axis=0)\n",
    "    #temp_gt = tf.stack(padded_gt, axis=0)\n",
    "\n",
    "    gt_idx = tf.math.argmax(temp_gt, axis=1)\n",
    "    pred_idx = tf.math.argmax(temp_pred, axis=1)\n",
    "\n",
    "    diffs = tf.stack([tf.stack(get_min_dist_for_list(gt_idx[i],pred_idx[i], batchsize)) for i in range(batchsize)])\n",
    "\n",
    "    #diffs = tf.math.subtract(gt_idx, pred_idx)\n",
    "    #print('substract: {}'.format(diffs.numpy()))\n",
    "    #diffs = tf.abs(diffs)\n",
    "    #print('abs: {}'.format(diffs.numpy()))\n",
    "    diffs = tf.cast(tf.reduce_sum(diffs, axis=1),tf.float32)\n",
    "    #print('sum: {}'.format(diffs.numpy()))\n",
    "    diffs = tf.reduce_mean(diffs)\n",
    "\n",
    "    return diffs\n",
    "\n",
    "\n",
    "def get_min_dist_for_list(lst_a,lst_b, batchsize):\n",
    "    length = tf.reduce_max(tf.stack([lst_a, lst_b]))\n",
    "    #print(length)\n",
    "    #length = max(max(lst_a), max(lst_b)) + 1\n",
    "    return [get_min_distance(lst_a[i],lst_b[i],length) for i in range(batchsize)]\n",
    "\n",
    "def get_min_distance(a, b, mod):\n",
    "    #assert(mod>(tf.reduce_max(a,b))), 'a: {}, b: {}, mod:{}, '.format(a,b,mod)\n",
    "\n",
    "    decr_counter = 0\n",
    "    incr_counter = 0\n",
    "\n",
    "    smaller = tf.reduce_min(tf.stack([a, b]))\n",
    "    bigger = tf.reduce_max(tf.stack([a, b]))\n",
    "\n",
    "    i1 = bigger\n",
    "    while (i1 != smaller):\n",
    "        decr_counter = decr_counter + 1\n",
    "        i1 = i1 - 1\n",
    "\n",
    "    i1 = bigger\n",
    "    while (i1 != smaller):\n",
    "        incr_counter = incr_counter + 1\n",
    "        i1 = tf.math.mod((i1 + 1), mod)\n",
    "        #i1 =  % mod\n",
    "\n",
    "    return tf.reduce_min(tf.stack([decr_counter, incr_counter]))"
   ]
  },
  {
   "cell_type": "code",
   "execution_count": 22,
   "metadata": {},
   "outputs": [
    {
     "data": {
      "text/plain": [
       "[4, 5, 6, 7, 8, 9, 1, 2, 3]"
      ]
     },
     "execution_count": 22,
     "metadata": {},
     "output_type": "execute_result"
    }
   ],
   "source": [
    "lst = [1,2,3,4,5,6,7,8,9]\n",
    "first = lst[3:]\n",
    "first.extend(lst[:3])\n",
    "first"
   ]
  },
  {
   "cell_type": "code",
   "execution_count": null,
   "metadata": {},
   "outputs": [],
   "source": [
    "onehot = np.array([[1,0,0,0,0,0,0,0,0,0,0,0,0,0,0],\n",
    " [0,0,0,1,0,0,0,0,0,0,0,0,0,0,0],\n",
    " [0,0,0,0,0,0,0,1,0,0,0,0,0,0,0],\n",
    " [0,0,0,0,0,0,0,0,0,0,0,1,0,0,0],\n",
    " [0,0,0,0,0,0,0,0,0,0,0,0,0,0,1]])"
   ]
  },
  {
   "cell_type": "code",
   "execution_count": null,
   "metadata": {},
   "outputs": [],
   "source": [
    "onehot.shape"
   ]
  },
  {
   "cell_type": "code",
   "execution_count": null,
   "metadata": {},
   "outputs": [],
   "source": [
    "onehot_t = onehot.T\n",
    "onehot_t.shape\n",
    "onehot_t"
   ]
  },
  {
   "cell_type": "code",
   "execution_count": null,
   "metadata": {},
   "outputs": [],
   "source": [
    "print(np.argmax(onehot, axis=1))\n",
    "print(np.argmax(onehot_t, axis=0))"
   ]
  },
  {
   "cell_type": "code",
   "execution_count": null,
   "metadata": {},
   "outputs": [],
   "source": [
    "# iterate over the phases j\n",
    "# linspace from i to i+1 from indices\n",
    "temp = onehot_t[:,0].astype(float)\n",
    "i = 0\n",
    "j = 3 + 1\n",
    "temp[i:j] = np.linspace(i,j,j-i)\n",
    "temp"
   ]
  },
  {
   "cell_type": "code",
   "execution_count": null,
   "metadata": {},
   "outputs": [],
   "source": [
    "onehot_t = onehot_t.astype(float)\n",
    "indices = np.argmax(onehot_t, axis=0)\n",
    "for i in range(onehot_t.shape[1]) :\n",
    "    start = indices[i]\n",
    "    # make it a ring\n",
    "    second = (i+1)%len(indices)\n",
    "    end = indices[second]\n",
    "    onehot_t[start:end,i] = np.linspace(1,0,int(end-start))\n",
    "onehot_t\n",
    "             \n",
    "    "
   ]
  },
  {
   "cell_type": "code",
   "execution_count": null,
   "metadata": {},
   "outputs": [],
   "source": [
    "plt.imshow(temp)"
   ]
  },
  {
   "cell_type": "code",
   "execution_count": null,
   "metadata": {},
   "outputs": [],
   "source": [
    "plt.imshow(temp.T)"
   ]
  },
  {
   "cell_type": "code",
   "execution_count": null,
   "metadata": {},
   "outputs": [],
   "source": [
    "%%timeit\n",
    "temp.mean()"
   ]
  },
  {
   "cell_type": "code",
   "execution_count": null,
   "metadata": {},
   "outputs": [],
   "source": [
    "%%timeit\n",
    "np.mean(temp)"
   ]
  },
  {
   "cell_type": "code",
   "execution_count": null,
   "metadata": {},
   "outputs": [],
   "source": [
    "np.linspace(-1,1,10)"
   ]
  },
  {
   "cell_type": "code",
   "execution_count": null,
   "metadata": {},
   "outputs": [],
   "source": []
  }
 ],
 "metadata": {
  "kernelspec": {
   "display_name": "dcmr",
   "language": "python",
   "name": "dcmr"
  },
  "language_info": {
   "codemirror_mode": {
    "name": "ipython",
    "version": 3
   },
   "file_extension": ".py",
   "mimetype": "text/x-python",
   "name": "python",
   "nbconvert_exporter": "python",
   "pygments_lexer": "ipython3",
   "version": "3.8.5"
  },
  "widgets": {
   "application/vnd.jupyter.widget-state+json": {
    "state": {},
    "version_major": 2,
    "version_minor": 0
   }
  }
 },
 "nbformat": 4,
 "nbformat_minor": 4
}
