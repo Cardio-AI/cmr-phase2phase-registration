{
 "cells": [
  {
   "cell_type": "code",
   "execution_count": null,
   "metadata": {},
   "outputs": [],
   "source": [
    "# ------------------------------------------define logging and working directory\n",
    "from ProjectRoot import change_wd_to_project_root\n",
    "change_wd_to_project_root()\n",
    "from src.utils.Tensorflow_helper import choose_gpu_by_id\n",
    "# ------------------------------------------define GPU id/s to use\n",
    "GPU_IDS = '0,1'\n",
    "GPUS = choose_gpu_by_id(GPU_IDS)\n",
    "print(GPUS)\n",
    "# ------------------------------------------jupyter magic config\n",
    "%matplotlib inline\n",
    "%reload_ext autoreload\n",
    "%autoreload 2\n",
    "# ------------------------------------------ import helpers\n",
    "# this should import glob, os, and many other standard libs\n",
    "from src.utils.Notebook_imports import *\n",
    "from tensorflow.python.client import device_lib\n",
    "import tensorflow as tf\n",
    "tf.get_logger().setLevel('ERROR')\n",
    "# local imports\n",
    "from src.utils.Utils_io import Console_and_file_logger, init_config\n",
    "from src.visualization.Visualize import show_2D_or_3D\n",
    "from src.utils.KerasCallbacks import get_callbacks\n",
    "\n",
    "# import external libs\n",
    "import cv2\n",
    "import pandas as pd\n",
    "\n",
    "EXPERIMENT = 'baseline/36_5_BiLSTM32_NoBn_conv5_size1_CCE_NOphaseaug_NOaug_b8'\n",
    "# EXPERIMENT = 'mased_scores/36_5_BiLSTM32_NoBn_conv5_size1_CCE_NOphaseaug_shift_rotate_reflectbordersgridaug'\n",
    "timestemp = str(datetime.datetime.now().strftime(\"%Y-%m-%d_%H_%M\")) # ad a timestep to each project to make repeated experiments unique\n",
    "\n",
    "MODEL_PATH = os.path.join('models', EXPERIMENT, timestemp)\n",
    "TENSORBOARD_LOG_DIR = os.path.join('reports/tensorboard_logs', EXPERIMENT,timestemp)\n",
    "CONFIG_PATH = os.path.join('reports/configs/',EXPERIMENT,timestemp)\n",
    "HISTORY_PATH = os.path.join('reports/history/',EXPERIMENT,timestemp)\n",
    "\n",
    "\n",
    "# General params\n",
    "SEED = 42 # define a seed for the generator shuffle\n",
    "BATCHSIZE = 8 # 32, 64, 24, 16, 1 for 3D use: 4\n",
    "GENERATOR_WORKER = BATCHSIZE # if not set, use batchsize\n",
    "\n",
    "DIM = [8, 64, 64] # network input params for spacing of 3, (z,y,x)\n",
    "T_SHAPE = 36\n",
    "SPACING = [8, 3, 3] # if resample, resample to this spacing, (z,y,x)\n",
    "\n",
    "# Model params\n",
    "DEPTH = 3 # depth of the encoder\n",
    "FILTERS = 32 # initial number of filters, will be doubled after each downsampling block\n",
    "M_POOL = [1, 2, 2]# size of max-pooling used for downsampling and upsampling\n",
    "F_SIZE = [3, 3, 3] # conv filter size\n",
    "BN_FIRST = False # decide if batch normalisation between conv and activation or afterwards\n",
    "BATCH_NORMALISATION = True # apply BN or not\n",
    "PAD = 'same' # padding strategy of the conv layers\n",
    "KERNEL_INIT = 'he_normal' # conv weight initialisation\n",
    "OPTIMIZER = 'adam' # Adam, Adagrad, RMSprop, Adadelta,  # https://keras.io/optimizers/\n",
    "ACTIVATION = 'relu' # tf.keras.layers.LeakyReLU(), relu or any other non linear activation function\n",
    "LEARNING_RATE = 1e-4 # start with a huge lr to converge fast\n",
    "DECAY_FACTOR = 0.3 # Define a learning rate decay for the ReduceLROnPlateau callback\n",
    "MIN_LR = 1e-11 # minimal lr, smaller lr does not improve the model\n",
    "DROPOUT_min = 0.3 # lower dropout at the shallow layers\n",
    "DROPOUT_max = 0.5 # higher dropout at the deep layers\n",
    "\n",
    "# Callback params\n",
    "MONITOR_FUNCTION = 'loss'\n",
    "MONITOR_MODE = 'min'\n",
    "SAVE_MODEL_FUNCTION = 'loss'\n",
    "SAVE_MODEL_MODE = 'min'\n",
    "MODEL_PATIENCE = 20\n",
    "SAVE_LEARNING_PROGRESS_AS_TF = True\n",
    "\n",
    "# Generator and Augmentation params\n",
    "BORDER_MODE = cv2.BORDER_REFLECT_101 # border mode for the data generation\n",
    "IMG_INTERPOLATION = cv2.INTER_LINEAR # image interpolation in the genarator\n",
    "MSK_INTERPOLATION = cv2.INTER_NEAREST # mask interpolation in the generator\n",
    "AUGMENT = False # a compose of 2D augmentation (grid distortion, 90degree rotation, brightness and shift)\n",
    "AUGMENT_PROB = 0.8\n",
    "AUGMENT_PHASES = False\n",
    "AUGMENT_PHASES_RANGE = (-3,3)\n",
    "SHUFFLE = True\n",
    "RESAMPLE = True\n",
    "SCALER = 'MinMax' # MinMax, Standard or Robust\n",
    "# We define 5 target phases and a background phase for the pad/empty volumes \n",
    "PHASES = len(['ED#', 'MS#', 'ES#', 'PF#', 'MD#']) # skipped 'pad backround manually added', due to repeating\n",
    "TARGET_SMOOTHING = True\n",
    "SMOOTHING_KERNEL_SIZE = 12\n",
    "SMOOTHING_LOWER_BORDER = 1\n",
    "SMOOTHING_UPPER_BORDER = 5\n",
    "SMOOTHING_WEIGHT_CORRECT = 10\n",
    "\n",
    "# Data paths\n",
    "DF_META = '/mnt/ssd/data/gcn/02_imported_4D_unfiltered/SAx_3D_dicomTags_phase'\n",
    "\n",
    "\n",
    "\n",
    "Console_and_file_logger(EXPERIMENT, logging.INFO)\n",
    "config = init_config(config=locals(), save=True)\n",
    "print(config)\n",
    "logging.info('Is built with tensorflow: {}'.format(tf.test.is_built_with_cuda()))\n",
    "logging.info('Visible devices:\\n{}'.format(tf.config.list_physical_devices()))\n",
    "logging.info('Local devices: \\n {}'.format(device_lib.list_local_devices()))"
   ]
  },
  {
   "cell_type": "code",
   "execution_count": null,
   "metadata": {},
   "outputs": [],
   "source": [
    "# zip the phase files in the following structure:\n",
    "#[[patient1_phase1, patient1_phase2, patient1_phase3, patient1_phase4, patient1_phase5],[patient2_phase1...] ...]\n",
    "\n",
    "images = sorted(glob.glob('/mnt/ssd/data/gcn/02_imported_4D_unfiltered/SAX/*clean.nrrd'))\n",
    "# add randomness, but idempotent, this issimilar to shuffle but we could leave some data out\n",
    "images = random.sample(images, len(images))\n",
    "print(len(images))"
   ]
  },
  {
   "cell_type": "code",
   "execution_count": null,
   "metadata": {},
   "outputs": [],
   "source": [
    "images[83]"
   ]
  },
  {
   "cell_type": "code",
   "execution_count": null,
   "metadata": {},
   "outputs": [],
   "source": [
    "# check if we find each patient in the corresponding dataframe\n",
    "import re\n",
    "METADATA_FILE = config.get('DF_META', '/mnt/ssd/data/gcn/02_imported_4D_unfiltered/SAx_3D_dicomTags_phase')\n",
    "df = pd.read_csv(METADATA_FILE)\n",
    "DF_METADATA = df[['patient', 'ED#', 'MS#', 'ES#', 'PF#', 'MD#']]\n",
    "\n",
    "\n",
    "for x in images:\n",
    "    try:\n",
    "        patient_str = re.search('-(.{8})_', x).group(1).upper()\n",
    "        \n",
    "        assert(len(patient_str) == 8), 'matched patient ID from the phase sheet has a length of: {}'.format(len(patient_str))\n",
    "        # returns the indices in the following order: 'ED#', 'MS#', 'ES#', 'PF#', 'MD#'\n",
    "        # reduce by one, as the indexes start at 0, the excel-sheet at 1\n",
    "        ind = DF_METADATA[DF_METADATA.patient.str.contains(patient_str)][['ED#', 'MS#', 'ES#', 'PF#', 'MD#']]\n",
    "        indices = ind.values[0].astype(int) -1\n",
    "        \n",
    "    except Exception as e:\n",
    "        logging.info(patient_str)\n",
    "        logging.info(ind)\n",
    "        logging.info('indices: \\n{}'.format(indices))"
   ]
  },
  {
   "cell_type": "code",
   "execution_count": null,
   "metadata": {},
   "outputs": [],
   "source": [
    "@interact\n",
    "def search_p_in_df(search_str = ''):\n",
    "    return DF_METADATA[DF_METADATA['patient'].str.contains(search_str)]"
   ]
  },
  {
   "cell_type": "code",
   "execution_count": null,
   "metadata": {},
   "outputs": [],
   "source": [
    "# initialise a generator with these files\n",
    "# logging.getLogger().setLevel(logging.INFO)\n",
    "from src.data.Generators import PhaseRegressionGenerator\n",
    "#config['SHUFFLE'] = False\n",
    "#config['AUGMENT'] = False\n",
    "#config['RESAMPLE'] = True\n",
    "#config['AUGMENT_PHASES'] = False\n",
    "batch_generator = PhaseRegressionGenerator(images[:220], images[:220], config=config)\n",
    "val_config = config.copy()\n",
    "val_config['AUGMENT'] = False\n",
    "val_config['AUGMENT_PHASES'] = False\n",
    "validation_generator = PhaseRegressionGenerator(images[220:], images[220:] , config=val_config)"
   ]
  },
  {
   "cell_type": "code",
   "execution_count": null,
   "metadata": {},
   "outputs": [],
   "source": [
    "# visualise one batch\n",
    "@interact_manual\n",
    "def select_image_in_batch(batch = (0,len(validation_generator), 1), \n",
    "                          im = (0,BATCHSIZE- 1, 1), \n",
    "                          slice_n=(1,11), \n",
    "                          save=False, \n",
    "                          filepath='data/temp/', \n",
    "                          filename='temp_x.npy',\n",
    "                         show_=True):\n",
    "    \n",
    "    import time\n",
    "    global inputs, outputs, gt_len\n",
    "    phases = ['ED', 'MS', 'ES', 'PF', 'MD']\n",
    "    t1 = time.time()\n",
    "    inputs, outputs = validation_generator.__getitem__(batch)\n",
    "    onehot, gt_len_msk = np.split(outputs, indices_or_sections=2,axis=1)\n",
    "    logging.info('Preprocessing took: {:0.3f}'.format(time.time() - t1))\n",
    "    print(inputs.shape, outputs.shape)\n",
    "    print('selected batch : ' + str(batch))\n",
    "    if show_:\n",
    "    \n",
    "        selected_input = inputs[im]\n",
    "        selected_output = onehot[im][0]\n",
    "        selected_gtlen = int(np.sum((gt_len_msk[im,0,:,0])))\n",
    "        logging.info('GT length: {}'.format(selected_gtlen))\n",
    "\n",
    "        logging.debug('pad: \\n{}'.format(selected_output))\n",
    "        \n",
    "        f, axs = plt.subplots(1,2,figsize=(5,5))\n",
    "        i = 0\n",
    "        temp_y = selected_output\n",
    "        ind_gt = np.argmax(temp_y[:selected_gtlen,:], axis=0)\n",
    "        axs[0].title.set_text('y')\n",
    "        axs[0].set_yticks(ind_gt, minor=False)\n",
    "        axs[0].set_xticks([0,1,2,3,4], minor=False)\n",
    "        axs[0].set_xticklabels(phases, rotation =45)\n",
    "        axs[0].imshow(temp_y, aspect='auto')\n",
    "        axs[1].hist(selected_input.flatten(), bins=np.linspace(0.1,1,20))\n",
    "        f.tight_layout()\n",
    "        plt.show()\n",
    "        \n",
    "        list(map(lambda x: show_2D_or_3D(img=x, interpol='bilinear',dpi=100,f_size=(5,5)), selected_input[::slice_n]))\n",
    "\n",
    "        \n",
    "    if save:\n",
    "        ensure_dir(filepath)\n",
    "        np.save(os.path.join(filepath, filename), x[im])\n",
    "        logging.info('saved to {}'.format(os.path.join(filepath, filename)))\n",
    "    \n",
    "\n"
   ]
  },
  {
   "cell_type": "code",
   "execution_count": 10,
   "metadata": {},
   "outputs": [
    {
     "data": {
      "text/plain": [
       "'for b in range(len(validation_generator)):\\n    print(b)\\n    for im in range(BATCHSIZE):\\n        select_image_in_batch(batch=b,im=im, slice_n=5, show_=True)'"
      ]
     },
     "execution_count": 10,
     "metadata": {},
     "output_type": "execute_result"
    }
   ],
   "source": [
    "# test if all batches are processable\n",
    "\"\"\"for b in range(len(validation_generator)):\n",
    "    print(b)\n",
    "    for im in range(BATCHSIZE):\n",
    "        select_image_in_batch(batch=b,im=im, slice_n=5, show_=True)\"\"\""
   ]
  },
  {
   "cell_type": "code",
   "execution_count": 15,
   "metadata": {},
   "outputs": [
    {
     "name": "stdout",
     "output_type": "stream",
     "text": [
      "(None, 8, 8, 8, 256)\n",
      "(None, 256)\n",
      "(None, 36, 256)\n",
      "encoder\n",
      "(None, 36, 256)\n",
      "bi LSTM\n",
      "(None, 36, 64)\n",
      "conv1d 32 3,1\n",
      "(None, 36, 64)\n"
     ]
    }
   ],
   "source": [
    "from src.models.Models import create_PhaseRegressionModel\n",
    "model = create_PhaseRegressionModel(config)"
   ]
  },
  {
   "cell_type": "code",
   "execution_count": 16,
   "metadata": {},
   "outputs": [
    {
     "name": "stdout",
     "output_type": "stream",
     "text": [
      "Model: \"PhaseRegressionModel\"\n",
      "______________________________________________________________________________________________________________________________________________________\n",
      "Layer (type)                                     Output Shape                     Param #           Connected to                                      \n",
      "======================================================================================================================================================\n",
      "input_1 (InputLayer)                             [(None, 36, 8, 64, 64, 1)]       0                                                                   \n",
      "______________________________________________________________________________________________________________________________________________________\n",
      "tf_op_layer_unstack (TensorFlowOpLayer)          [(None, 36, 64, 64, 1), (None, 3 0                 input_1[0][0]                                     \n",
      "______________________________________________________________________________________________________________________________________________________\n",
      "conv_encoder_1 (ConvEncoder)                     ((None, 36, 8, 8, 256), [(None,  3516960           tf_op_layer_unstack[0][3]                         \n",
      "                                                                                                    tf_op_layer_unstack[0][4]                         \n",
      "                                                                                                    tf_op_layer_unstack[0][6]                         \n",
      "                                                                                                    tf_op_layer_unstack[0][7]                         \n",
      "                                                                                                    tf_op_layer_unstack[0][2]                         \n",
      "                                                                                                    tf_op_layer_unstack[0][5]                         \n",
      "                                                                                                    tf_op_layer_unstack[0][0]                         \n",
      "                                                                                                    tf_op_layer_unstack[0][1]                         \n",
      "______________________________________________________________________________________________________________________________________________________\n",
      "tf_op_layer_stack (TensorFlowOpLayer)            [(None, 36, 8, 8, 8, 256)]       0                 conv_encoder_1[6][0]                              \n",
      "                                                                                                    conv_encoder_1[7][0]                              \n",
      "                                                                                                    conv_encoder_1[4][0]                              \n",
      "                                                                                                    conv_encoder_1[0][0]                              \n",
      "                                                                                                    conv_encoder_1[1][0]                              \n",
      "                                                                                                    conv_encoder_1[5][0]                              \n",
      "                                                                                                    conv_encoder_1[2][0]                              \n",
      "                                                                                                    conv_encoder_1[3][0]                              \n",
      "______________________________________________________________________________________________________________________________________________________\n",
      "tf_op_layer_unstack_1 (TensorFlowOpLayer)        [(None, 8, 8, 8, 256), (None, 8, 0                 tf_op_layer_stack[0][0]                           \n",
      "______________________________________________________________________________________________________________________________________________________\n",
      "global_average_pooling3d (GlobalAveragePooling3D (None, 256)                      0                 tf_op_layer_unstack_1[0][0]                       \n",
      "                                                                                                    tf_op_layer_unstack_1[0][1]                       \n",
      "                                                                                                    tf_op_layer_unstack_1[0][2]                       \n",
      "                                                                                                    tf_op_layer_unstack_1[0][3]                       \n",
      "                                                                                                    tf_op_layer_unstack_1[0][4]                       \n",
      "                                                                                                    tf_op_layer_unstack_1[0][5]                       \n",
      "                                                                                                    tf_op_layer_unstack_1[0][6]                       \n",
      "                                                                                                    tf_op_layer_unstack_1[0][7]                       \n",
      "                                                                                                    tf_op_layer_unstack_1[0][8]                       \n",
      "                                                                                                    tf_op_layer_unstack_1[0][9]                       \n",
      "                                                                                                    tf_op_layer_unstack_1[0][10]                      \n",
      "                                                                                                    tf_op_layer_unstack_1[0][11]                      \n",
      "                                                                                                    tf_op_layer_unstack_1[0][12]                      \n",
      "                                                                                                    tf_op_layer_unstack_1[0][13]                      \n",
      "                                                                                                    tf_op_layer_unstack_1[0][14]                      \n",
      "                                                                                                    tf_op_layer_unstack_1[0][15]                      \n",
      "                                                                                                    tf_op_layer_unstack_1[0][16]                      \n",
      "                                                                                                    tf_op_layer_unstack_1[0][17]                      \n",
      "                                                                                                    tf_op_layer_unstack_1[0][18]                      \n",
      "                                                                                                    tf_op_layer_unstack_1[0][19]                      \n",
      "                                                                                                    tf_op_layer_unstack_1[0][20]                      \n",
      "                                                                                                    tf_op_layer_unstack_1[0][21]                      \n",
      "                                                                                                    tf_op_layer_unstack_1[0][22]                      \n",
      "                                                                                                    tf_op_layer_unstack_1[0][23]                      \n",
      "                                                                                                    tf_op_layer_unstack_1[0][24]                      \n",
      "                                                                                                    tf_op_layer_unstack_1[0][25]                      \n",
      "                                                                                                    tf_op_layer_unstack_1[0][26]                      \n",
      "                                                                                                    tf_op_layer_unstack_1[0][27]                      \n",
      "                                                                                                    tf_op_layer_unstack_1[0][28]                      \n",
      "                                                                                                    tf_op_layer_unstack_1[0][29]                      \n",
      "                                                                                                    tf_op_layer_unstack_1[0][30]                      \n",
      "                                                                                                    tf_op_layer_unstack_1[0][31]                      \n",
      "                                                                                                    tf_op_layer_unstack_1[0][32]                      \n",
      "                                                                                                    tf_op_layer_unstack_1[0][33]                      \n",
      "                                                                                                    tf_op_layer_unstack_1[0][34]                      \n",
      "                                                                                                    tf_op_layer_unstack_1[0][35]                      \n",
      "______________________________________________________________________________________________________________________________________________________\n",
      "tf_op_layer_stack_1 (TensorFlowOpLayer)          [(None, 36, 256)]                0                 global_average_pooling3d[0][0]                    \n",
      "                                                                                                    global_average_pooling3d[1][0]                    \n",
      "                                                                                                    global_average_pooling3d[2][0]                    \n",
      "                                                                                                    global_average_pooling3d[3][0]                    \n",
      "                                                                                                    global_average_pooling3d[4][0]                    \n",
      "                                                                                                    global_average_pooling3d[5][0]                    \n",
      "                                                                                                    global_average_pooling3d[6][0]                    \n",
      "                                                                                                    global_average_pooling3d[7][0]                    \n",
      "                                                                                                    global_average_pooling3d[8][0]                    \n",
      "                                                                                                    global_average_pooling3d[9][0]                    \n",
      "                                                                                                    global_average_pooling3d[10][0]                   \n",
      "                                                                                                    global_average_pooling3d[11][0]                   \n",
      "                                                                                                    global_average_pooling3d[12][0]                   \n",
      "                                                                                                    global_average_pooling3d[13][0]                   \n",
      "                                                                                                    global_average_pooling3d[14][0]                   \n",
      "                                                                                                    global_average_pooling3d[15][0]                   \n",
      "                                                                                                    global_average_pooling3d[16][0]                   \n",
      "                                                                                                    global_average_pooling3d[17][0]                   \n",
      "                                                                                                    global_average_pooling3d[18][0]                   \n",
      "                                                                                                    global_average_pooling3d[19][0]                   \n",
      "                                                                                                    global_average_pooling3d[20][0]                   \n",
      "                                                                                                    global_average_pooling3d[21][0]                   \n",
      "                                                                                                    global_average_pooling3d[22][0]                   \n",
      "                                                                                                    global_average_pooling3d[23][0]                   \n",
      "                                                                                                    global_average_pooling3d[24][0]                   \n",
      "                                                                                                    global_average_pooling3d[25][0]                   \n",
      "                                                                                                    global_average_pooling3d[26][0]                   \n",
      "                                                                                                    global_average_pooling3d[27][0]                   \n",
      "                                                                                                    global_average_pooling3d[28][0]                   \n",
      "                                                                                                    global_average_pooling3d[29][0]                   \n",
      "                                                                                                    global_average_pooling3d[30][0]                   \n",
      "                                                                                                    global_average_pooling3d[31][0]                   \n",
      "                                                                                                    global_average_pooling3d[32][0]                   \n",
      "                                                                                                    global_average_pooling3d[33][0]                   \n",
      "                                                                                                    global_average_pooling3d[34][0]                   \n",
      "                                                                                                    global_average_pooling3d[35][0]                   \n",
      "______________________________________________________________________________________________________________________________________________________\n",
      "batch_normalization_16 (BatchNormalization)      (None, 36, 256)                  1024              tf_op_layer_stack_1[0][0]                         \n",
      "______________________________________________________________________________________________________________________________________________________\n",
      "dropout_8 (Dropout)                              (None, 36, 256)                  0                 batch_normalization_16[0][0]                      \n",
      "______________________________________________________________________________________________________________________________________________________\n",
      "bidirectional (Bidirectional)                    (None, 36, 64)                   73984             dropout_8[0][0]                                   \n",
      "______________________________________________________________________________________________________________________________________________________\n",
      "final_conv (Conv1D)                              (None, 36, 5)                    325               bidirectional[0][0]                               \n",
      "______________________________________________________________________________________________________________________________________________________\n",
      "tf_op_layer_ZerosLike (TensorFlowOpLayer)        [(None, 36, 5)]                  0                 final_conv[0][0]                                  \n",
      "______________________________________________________________________________________________________________________________________________________\n",
      "tf_op_layer_stack_2 (TensorFlowOpLayer)          [(None, 2, 36, 5)]               0                 final_conv[0][0]                                  \n",
      "                                                                                                    tf_op_layer_ZerosLike[0][0]                       \n",
      "======================================================================================================================================================\n",
      "Total params: 3,592,293\n",
      "Trainable params: 3,589,861\n",
      "Non-trainable params: 2,432\n",
      "______________________________________________________________________________________________________________________________________________________\n"
     ]
    }
   ],
   "source": [
    "model.summary(line_length=150)"
   ]
  },
  {
   "cell_type": "code",
   "execution_count": null,
   "metadata": {},
   "outputs": [
    {
     "name": "stderr",
     "output_type": "stream",
     "text": [
      "2021-02-24 17:30:14,142 INFO feed 4 Tensorboard is ready\n"
     ]
    },
    {
     "name": "stdout",
     "output_type": "stream",
     "text": [
      "Epoch 1/200\n",
      "27/27 [==============================] - ETA: 0s - loss: 1.0995 - meandiff: 3.4185"
     ]
    },
    {
     "name": "stderr",
     "output_type": "stream",
     "text": [
      "2021-02-24 17:31:02,838 INFO (4, 2, 36, 5)\n",
      "2021-02-24 17:31:03,391 INFO (4, 2, 36, 5)\n"
     ]
    },
    {
     "name": "stdout",
     "output_type": "stream",
     "text": [
      "27/27 [==============================] - 45s 2s/step - loss: 1.0995 - meandiff: 3.4185 - val_loss: 1.1203 - val_meandiff: 3.2571 - lr: 1.0000e-04\n",
      "Epoch 2/200\n",
<<<<<<< Updated upstream
      "27/27 [==============================] - ETA: 0s - loss: 1.0968 - meandiff: 3.4556"
=======
      "26/26 [==============================] - ETA: 0s - loss: 1.1188 - mse_wrapper: 0.0539 - ca_wrapper: 0.6334 - meandiff: 6.9183"
     ]
    },
    {
     "name": "stderr",
     "output_type": "stream",
     "text": [
      "2021-02-25 10:27:49,514 INFO (4, 2, 36, 5)\n",
      "2021-02-25 10:27:50,048 INFO (4, 2, 36, 5)\n"
     ]
    },
    {
     "name": "stdout",
     "output_type": "stream",
     "text": [
      "\n",
      "Epoch 00002: loss improved from 1.34540 to 1.11880, saving model to exp/baseline/8_64_64__8_3_3_temp_enc_conv1_1_CCE_smoothNO_augNO_tempaugNO_batchsize8_f0/2021-02-25_10_22/model/model.h5\n",
      "26/26 [==============================] - 29s 1s/step - loss: 1.1188 - mse_wrapper: 0.0539 - ca_wrapper: 0.6334 - meandiff: 6.9183 - val_loss: 1.4963 - val_mse_wrapper: 0.0907 - val_ca_wrapper: 0.4349 - val_meandiff: 8.5312 - lr: 1.0000e-04\n",
      "Epoch 3/200\n",
      "26/26 [==============================] - ETA: 0s - loss: 0.9971 - mse_wrapper: 0.0430 - ca_wrapper: 0.7083 - meandiff: 6.0048"
     ]
    },
    {
     "name": "stderr",
     "output_type": "stream",
     "text": [
      "2021-02-25 10:28:19,942 INFO (4, 2, 36, 5)\n",
      "2021-02-25 10:28:20,457 INFO (4, 2, 36, 5)\n"
     ]
    },
    {
     "name": "stdout",
     "output_type": "stream",
     "text": [
      "\n",
      "Epoch 00003: loss improved from 1.11880 to 0.99713, saving model to exp/baseline/8_64_64__8_3_3_temp_enc_conv1_1_CCE_smoothNO_augNO_tempaugNO_batchsize8_f0/2021-02-25_10_22/model/model.h5\n",
      "26/26 [==============================] - 28s 1s/step - loss: 0.9971 - mse_wrapper: 0.0430 - ca_wrapper: 0.7083 - meandiff: 6.0048 - val_loss: 1.2876 - val_mse_wrapper: 0.0685 - val_ca_wrapper: 0.5938 - val_meandiff: 8.7812 - lr: 1.0000e-04\n",
      "Epoch 4/200\n",
      "26/26 [==============================] - ETA: 0s - loss: 0.9725 - mse_wrapper: 0.0408 - ca_wrapper: 0.7312 - meandiff: 5.7212"
     ]
    },
    {
     "name": "stderr",
     "output_type": "stream",
     "text": [
      "2021-02-25 10:28:49,989 INFO (4, 2, 36, 5)\n",
      "2021-02-25 10:28:50,526 INFO (4, 2, 36, 5)\n"
     ]
    },
    {
     "name": "stdout",
     "output_type": "stream",
     "text": [
      "\n",
      "Epoch 00004: loss improved from 0.99713 to 0.97247, saving model to exp/baseline/8_64_64__8_3_3_temp_enc_conv1_1_CCE_smoothNO_augNO_tempaugNO_batchsize8_f0/2021-02-25_10_22/model/model.h5\n",
      "26/26 [==============================] - 28s 1s/step - loss: 0.9725 - mse_wrapper: 0.0408 - ca_wrapper: 0.7312 - meandiff: 5.7212 - val_loss: 1.0434 - val_mse_wrapper: 0.0476 - val_ca_wrapper: 0.6693 - val_meandiff: 5.8438 - lr: 1.0000e-04\n",
      "Epoch 5/200\n",
      "26/26 [==============================] - ETA: 0s - loss: 0.9142 - mse_wrapper: 0.0354 - ca_wrapper: 0.7560 - meandiff: 5.5481\n",
      "Epoch 00005: loss improved from 0.97247 to 0.91415, saving model to exp/baseline/8_64_64__8_3_3_temp_enc_conv1_1_CCE_smoothNO_augNO_tempaugNO_batchsize8_f0/2021-02-25_10_22/model/model.h5\n",
      "26/26 [==============================] - 27s 1s/step - loss: 0.9142 - mse_wrapper: 0.0354 - ca_wrapper: 0.7560 - meandiff: 5.5481 - val_loss: 1.0110 - val_mse_wrapper: 0.0443 - val_ca_wrapper: 0.6845 - val_meandiff: 5.5312 - lr: 1.0000e-04\n",
      "Epoch 6/200\n",
      "26/26 [==============================] - ETA: 0s - loss: 0.8931 - mse_wrapper: 0.0334 - ca_wrapper: 0.7671 - meandiff: 5.4231"
     ]
    },
    {
     "name": "stderr",
     "output_type": "stream",
     "text": [
      "2021-02-25 10:29:49,036 INFO (4, 2, 36, 5)\n",
      "2021-02-25 10:29:49,808 INFO (4, 2, 36, 5)\n"
     ]
    },
    {
     "name": "stdout",
     "output_type": "stream",
     "text": [
      "\n",
      "Epoch 00006: loss improved from 0.91415 to 0.89310, saving model to exp/baseline/8_64_64__8_3_3_temp_enc_conv1_1_CCE_smoothNO_augNO_tempaugNO_batchsize8_f0/2021-02-25_10_22/model/model.h5\n",
      "26/26 [==============================] - 29s 1s/step - loss: 0.8931 - mse_wrapper: 0.0334 - ca_wrapper: 0.7671 - meandiff: 5.4231 - val_loss: 1.0114 - val_mse_wrapper: 0.0441 - val_ca_wrapper: 0.6771 - val_meandiff: 5.7188 - lr: 1.0000e-04\n",
      "Epoch 7/200\n",
      "26/26 [==============================] - ETA: 0s - loss: 0.8764 - mse_wrapper: 0.0317 - ca_wrapper: 0.7734 - meandiff: 5.3173\n",
      "Epoch 00007: loss improved from 0.89310 to 0.87638, saving model to exp/baseline/8_64_64__8_3_3_temp_enc_conv1_1_CCE_smoothNO_augNO_tempaugNO_batchsize8_f0/2021-02-25_10_22/model/model.h5\n",
      "26/26 [==============================] - 28s 1s/step - loss: 0.8764 - mse_wrapper: 0.0317 - ca_wrapper: 0.7734 - meandiff: 5.3173 - val_loss: 1.0162 - val_mse_wrapper: 0.0444 - val_ca_wrapper: 0.6780 - val_meandiff: 6.0000 - lr: 1.0000e-04\n",
      "Epoch 8/200\n",
      "26/26 [==============================] - ETA: 0s - loss: 0.9285 - mse_wrapper: 0.0366 - ca_wrapper: 0.7481 - meandiff: 5.4183"
     ]
    },
    {
     "name": "stderr",
     "output_type": "stream",
     "text": [
      "2021-02-25 10:30:50,616 INFO (4, 2, 36, 5)\n",
      "2021-02-25 10:30:51,160 INFO (4, 2, 36, 5)\n"
     ]
    },
    {
     "name": "stdout",
     "output_type": "stream",
     "text": [
      "\n",
      "Epoch 00008: loss did not improve from 0.87638\n",
      "26/26 [==============================] - 30s 1s/step - loss: 0.9285 - mse_wrapper: 0.0366 - ca_wrapper: 0.7481 - meandiff: 5.4183 - val_loss: 1.0045 - val_mse_wrapper: 0.0419 - val_ca_wrapper: 0.7001 - val_meandiff: 5.6562 - lr: 1.0000e-04\n",
      "Epoch 9/200\n",
      "26/26 [==============================] - ETA: 0s - loss: 0.8775 - mse_wrapper: 0.0315 - ca_wrapper: 0.7771 - meandiff: 5.4567\n",
      "Epoch 00009: loss did not improve from 0.87638\n",
      "26/26 [==============================] - 29s 1s/step - loss: 0.8775 - mse_wrapper: 0.0315 - ca_wrapper: 0.7771 - meandiff: 5.4567 - val_loss: 1.0086 - val_mse_wrapper: 0.0420 - val_ca_wrapper: 0.7070 - val_meandiff: 5.9062 - lr: 1.0000e-04\n",
      "Epoch 10/200\n",
      "26/26 [==============================] - ETA: 0s - loss: 0.8683 - mse_wrapper: 0.0309 - ca_wrapper: 0.7814 - meandiff: 5.1779"
     ]
    },
    {
     "name": "stderr",
     "output_type": "stream",
     "text": [
      "2021-02-25 10:31:53,335 INFO (4, 2, 36, 5)\n",
      "2021-02-25 10:31:53,910 INFO (4, 2, 36, 5)\n"
     ]
    },
    {
     "name": "stdout",
     "output_type": "stream",
     "text": [
      "\n",
      "Epoch 00010: loss improved from 0.87638 to 0.86826, saving model to exp/baseline/8_64_64__8_3_3_temp_enc_conv1_1_CCE_smoothNO_augNO_tempaugNO_batchsize8_f0/2021-02-25_10_22/model/model.h5\n",
      "26/26 [==============================] - 31s 1s/step - loss: 0.8683 - mse_wrapper: 0.0309 - ca_wrapper: 0.7814 - meandiff: 5.1779 - val_loss: 1.0028 - val_mse_wrapper: 0.0412 - val_ca_wrapper: 0.6957 - val_meandiff: 6.0156 - lr: 1.0000e-04\n",
      "Epoch 11/200\n",
      "26/26 [==============================] - ETA: 0s - loss: 0.8481 - mse_wrapper: 0.0287 - ca_wrapper: 0.7954 - meandiff: 4.9567\n",
      "Epoch 00011: loss improved from 0.86826 to 0.84814, saving model to exp/baseline/8_64_64__8_3_3_temp_enc_conv1_1_CCE_smoothNO_augNO_tempaugNO_batchsize8_f0/2021-02-25_10_22/model/model.h5\n",
      "26/26 [==============================] - 30s 1s/step - loss: 0.8481 - mse_wrapper: 0.0287 - ca_wrapper: 0.7954 - meandiff: 4.9567 - val_loss: 0.9447 - val_mse_wrapper: 0.0368 - val_ca_wrapper: 0.7335 - val_meandiff: 5.3906 - lr: 1.0000e-04\n",
      "Epoch 12/200\n",
      "26/26 [==============================] - ETA: 0s - loss: 0.8355 - mse_wrapper: 0.0273 - ca_wrapper: 0.8041 - meandiff: 4.8413"
     ]
    },
    {
     "name": "stderr",
     "output_type": "stream",
     "text": [
      "2021-02-25 10:32:57,574 INFO (4, 2, 36, 5)\n",
      "2021-02-25 10:32:58,112 INFO (4, 2, 36, 5)\n"
     ]
    },
    {
     "name": "stdout",
     "output_type": "stream",
     "text": [
      "\n",
      "Epoch 00012: loss improved from 0.84814 to 0.83551, saving model to exp/baseline/8_64_64__8_3_3_temp_enc_conv1_1_CCE_smoothNO_augNO_tempaugNO_batchsize8_f0/2021-02-25_10_22/model/model.h5\n",
      "26/26 [==============================] - 31s 1s/step - loss: 0.8355 - mse_wrapper: 0.0273 - ca_wrapper: 0.8041 - meandiff: 4.8413 - val_loss: 1.0513 - val_mse_wrapper: 0.0440 - val_ca_wrapper: 0.7014 - val_meandiff: 5.5312 - lr: 1.0000e-04\n",
      "Epoch 13/200\n",
      "26/26 [==============================] - ETA: 0s - loss: 0.8311 - mse_wrapper: 0.0269 - ca_wrapper: 0.8064 - meandiff: 4.8173\n",
      "Epoch 00013: loss improved from 0.83551 to 0.83106, saving model to exp/baseline/8_64_64__8_3_3_temp_enc_conv1_1_CCE_smoothNO_augNO_tempaugNO_batchsize8_f0/2021-02-25_10_22/model/model.h5\n",
      "26/26 [==============================] - 30s 1s/step - loss: 0.8311 - mse_wrapper: 0.0269 - ca_wrapper: 0.8064 - meandiff: 4.8173 - val_loss: 1.1844 - val_mse_wrapper: 0.0545 - val_ca_wrapper: 0.6406 - val_meandiff: 6.4531 - lr: 1.0000e-04\n",
      "Epoch 14/200\n",
      "26/26 [==============================] - ETA: 0s - loss: 0.8359 - mse_wrapper: 0.0275 - ca_wrapper: 0.7957 - meandiff: 4.7692"
     ]
    },
    {
     "name": "stderr",
     "output_type": "stream",
     "text": [
      "2021-02-25 10:34:01,455 INFO (4, 2, 36, 5)\n",
      "2021-02-25 10:34:01,955 INFO (4, 2, 36, 5)\n"
     ]
    },
    {
     "name": "stdout",
     "output_type": "stream",
     "text": [
      "\n",
      "Epoch 00014: loss did not improve from 0.83106\n",
      "26/26 [==============================] - 30s 1s/step - loss: 0.8359 - mse_wrapper: 0.0275 - ca_wrapper: 0.7957 - meandiff: 4.7692 - val_loss: 1.0923 - val_mse_wrapper: 0.0489 - val_ca_wrapper: 0.6697 - val_meandiff: 6.0312 - lr: 1.0000e-04\n",
      "Epoch 15/200\n",
      "26/26 [==============================] - ETA: 0s - loss: 0.8298 - mse_wrapper: 0.0269 - ca_wrapper: 0.8042 - meandiff: 4.6923\n",
      "Epoch 00015: loss improved from 0.83106 to 0.82985, saving model to exp/baseline/8_64_64__8_3_3_temp_enc_conv1_1_CCE_smoothNO_augNO_tempaugNO_batchsize8_f0/2021-02-25_10_22/model/model.h5\n",
      "26/26 [==============================] - 30s 1s/step - loss: 0.8298 - mse_wrapper: 0.0269 - ca_wrapper: 0.8042 - meandiff: 4.6923 - val_loss: 1.0170 - val_mse_wrapper: 0.0409 - val_ca_wrapper: 0.7244 - val_meandiff: 5.4531 - lr: 1.0000e-04\n",
      "Epoch 16/200\n",
      "26/26 [==============================] - ETA: 0s - loss: 0.8182 - mse_wrapper: 0.0255 - ca_wrapper: 0.8132 - meandiff: 4.6250"
     ]
    },
    {
     "name": "stderr",
     "output_type": "stream",
     "text": [
      "2021-02-25 10:35:05,849 INFO (4, 2, 36, 5)\n",
      "2021-02-25 10:35:06,366 INFO (4, 2, 36, 5)\n"
     ]
    },
    {
     "name": "stdout",
     "output_type": "stream",
     "text": [
      "\n",
      "Epoch 00016: loss improved from 0.82985 to 0.81822, saving model to exp/baseline/8_64_64__8_3_3_temp_enc_conv1_1_CCE_smoothNO_augNO_tempaugNO_batchsize8_f0/2021-02-25_10_22/model/model.h5\n",
      "26/26 [==============================] - 32s 1s/step - loss: 0.8182 - mse_wrapper: 0.0255 - ca_wrapper: 0.8132 - meandiff: 4.6250 - val_loss: 1.1981 - val_mse_wrapper: 0.0546 - val_ca_wrapper: 0.6528 - val_meandiff: 6.4375 - lr: 1.0000e-04\n",
      "Epoch 17/200\n",
      "26/26 [==============================] - ETA: 0s - loss: 0.8173 - mse_wrapper: 0.0253 - ca_wrapper: 0.8142 - meandiff: 4.6202\n",
      "Epoch 00017: loss improved from 0.81822 to 0.81729, saving model to exp/baseline/8_64_64__8_3_3_temp_enc_conv1_1_CCE_smoothNO_augNO_tempaugNO_batchsize8_f0/2021-02-25_10_22/model/model.h5\n",
      "26/26 [==============================] - 30s 1s/step - loss: 0.8173 - mse_wrapper: 0.0253 - ca_wrapper: 0.8142 - meandiff: 4.6202 - val_loss: 0.9984 - val_mse_wrapper: 0.0402 - val_ca_wrapper: 0.7057 - val_meandiff: 5.3906 - lr: 1.0000e-04\n",
      "Epoch 18/200\n",
      "26/26 [==============================] - ETA: 0s - loss: 0.8153 - mse_wrapper: 0.0252 - ca_wrapper: 0.8125 - meandiff: 4.4471"
     ]
    },
    {
     "name": "stderr",
     "output_type": "stream",
     "text": [
      "2021-02-25 10:36:09,945 INFO (4, 2, 36, 5)\n",
      "2021-02-25 10:36:10,455 INFO (4, 2, 36, 5)\n"
     ]
    },
    {
     "name": "stdout",
     "output_type": "stream",
     "text": [
      "\n",
      "Epoch 00018: loss improved from 0.81729 to 0.81535, saving model to exp/baseline/8_64_64__8_3_3_temp_enc_conv1_1_CCE_smoothNO_augNO_tempaugNO_batchsize8_f0/2021-02-25_10_22/model/model.h5\n",
      "26/26 [==============================] - 31s 1s/step - loss: 0.8153 - mse_wrapper: 0.0252 - ca_wrapper: 0.8125 - meandiff: 4.4471 - val_loss: 1.1756 - val_mse_wrapper: 0.0503 - val_ca_wrapper: 0.6931 - val_meandiff: 5.5469 - lr: 1.0000e-04\n",
      "Epoch 19/200\n",
      "26/26 [==============================] - ETA: 0s - loss: 0.8101 - mse_wrapper: 0.0248 - ca_wrapper: 0.8158 - meandiff: 4.4615\n",
      "Epoch 00019: loss improved from 0.81535 to 0.81007, saving model to exp/baseline/8_64_64__8_3_3_temp_enc_conv1_1_CCE_smoothNO_augNO_tempaugNO_batchsize8_f0/2021-02-25_10_22/model/model.h5\n",
      "26/26 [==============================] - 30s 1s/step - loss: 0.8101 - mse_wrapper: 0.0248 - ca_wrapper: 0.8158 - meandiff: 4.4615 - val_loss: 1.1454 - val_mse_wrapper: 0.0505 - val_ca_wrapper: 0.6710 - val_meandiff: 5.8594 - lr: 1.0000e-04\n",
      "Epoch 20/200\n",
      "26/26 [==============================] - ETA: 0s - loss: 0.8077 - mse_wrapper: 0.0247 - ca_wrapper: 0.8140 - meandiff: 4.7212"
     ]
    },
    {
     "name": "stderr",
     "output_type": "stream",
     "text": [
      "2021-02-25 10:37:14,150 INFO (4, 2, 36, 5)\n",
      "2021-02-25 10:37:14,689 INFO (4, 2, 36, 5)\n"
     ]
    },
    {
     "name": "stdout",
     "output_type": "stream",
     "text": [
      "\n",
      "Epoch 00020: loss improved from 0.81007 to 0.80772, saving model to exp/baseline/8_64_64__8_3_3_temp_enc_conv1_1_CCE_smoothNO_augNO_tempaugNO_batchsize8_f0/2021-02-25_10_22/model/model.h5\n",
      "26/26 [==============================] - 31s 1s/step - loss: 0.8077 - mse_wrapper: 0.0247 - ca_wrapper: 0.8140 - meandiff: 4.7212 - val_loss: 1.2156 - val_mse_wrapper: 0.0538 - val_ca_wrapper: 0.6567 - val_meandiff: 6.0625 - lr: 1.0000e-04\n",
      "Epoch 21/200\n",
      "26/26 [==============================] - ETA: 0s - loss: 0.8054 - mse_wrapper: 0.0241 - ca_wrapper: 0.8212 - meandiff: 4.4808\n",
      "Epoch 00021: loss improved from 0.80772 to 0.80542, saving model to exp/baseline/8_64_64__8_3_3_temp_enc_conv1_1_CCE_smoothNO_augNO_tempaugNO_batchsize8_f0/2021-02-25_10_22/model/model.h5\n",
      "26/26 [==============================] - 30s 1s/step - loss: 0.8054 - mse_wrapper: 0.0241 - ca_wrapper: 0.8212 - meandiff: 4.4808 - val_loss: 1.2502 - val_mse_wrapper: 0.0549 - val_ca_wrapper: 0.6584 - val_meandiff: 6.1562 - lr: 1.0000e-04\n",
      "Epoch 22/200\n",
      "26/26 [==============================] - ETA: 0s - loss: 0.8022 - mse_wrapper: 0.0238 - ca_wrapper: 0.8174 - meandiff: 4.3173"
     ]
    },
    {
     "name": "stderr",
     "output_type": "stream",
     "text": [
      "2021-02-25 10:38:17,787 INFO (4, 2, 36, 5)\n",
      "2021-02-25 10:38:18,643 INFO (4, 2, 36, 5)\n"
     ]
    },
    {
     "name": "stdout",
     "output_type": "stream",
     "text": [
      "\n",
      "Epoch 00022: loss improved from 0.80542 to 0.80220, saving model to exp/baseline/8_64_64__8_3_3_temp_enc_conv1_1_CCE_smoothNO_augNO_tempaugNO_batchsize8_f0/2021-02-25_10_22/model/model.h5\n",
      "26/26 [==============================] - 31s 1s/step - loss: 0.8022 - mse_wrapper: 0.0238 - ca_wrapper: 0.8174 - meandiff: 4.3173 - val_loss: 1.0605 - val_mse_wrapper: 0.0419 - val_ca_wrapper: 0.7209 - val_meandiff: 5.4219 - lr: 1.0000e-04\n",
      "Epoch 23/200\n",
      "26/26 [==============================] - ETA: 0s - loss: 0.8104 - mse_wrapper: 0.0246 - ca_wrapper: 0.8162 - meandiff: 4.3942\n",
      "Epoch 00023: loss did not improve from 0.80220\n",
      "26/26 [==============================] - 29s 1s/step - loss: 0.8104 - mse_wrapper: 0.0246 - ca_wrapper: 0.8162 - meandiff: 4.3942 - val_loss: 1.0181 - val_mse_wrapper: 0.0404 - val_ca_wrapper: 0.7244 - val_meandiff: 5.0312 - lr: 1.0000e-04\n",
      "Epoch 24/200\n",
      "26/26 [==============================] - ETA: 0s - loss: 0.7973 - mse_wrapper: 0.0234 - ca_wrapper: 0.8192 - meandiff: 4.3173"
     ]
    },
    {
     "name": "stderr",
     "output_type": "stream",
     "text": [
      "2021-02-25 10:39:21,474 INFO (4, 2, 36, 5)\n",
      "2021-02-25 10:39:21,977 INFO (4, 2, 36, 5)\n"
     ]
    },
    {
     "name": "stdout",
     "output_type": "stream",
     "text": [
      "\n",
      "Epoch 00024: loss improved from 0.80220 to 0.79726, saving model to exp/baseline/8_64_64__8_3_3_temp_enc_conv1_1_CCE_smoothNO_augNO_tempaugNO_batchsize8_f0/2021-02-25_10_22/model/model.h5\n",
      "26/26 [==============================] - 31s 1s/step - loss: 0.7973 - mse_wrapper: 0.0234 - ca_wrapper: 0.8192 - meandiff: 4.3173 - val_loss: 1.2505 - val_mse_wrapper: 0.0559 - val_ca_wrapper: 0.6476 - val_meandiff: 6.0781 - lr: 1.0000e-04\n",
      "Epoch 25/200\n",
      "26/26 [==============================] - ETA: 0s - loss: 0.8024 - mse_wrapper: 0.0236 - ca_wrapper: 0.8201 - meandiff: 4.2981\n",
      "Epoch 00025: loss did not improve from 0.79726\n",
      "26/26 [==============================] - 29s 1s/step - loss: 0.8024 - mse_wrapper: 0.0236 - ca_wrapper: 0.8201 - meandiff: 4.2981 - val_loss: 1.0489 - val_mse_wrapper: 0.0436 - val_ca_wrapper: 0.7044 - val_meandiff: 5.6562 - lr: 1.0000e-04\n",
      "Epoch 26/200\n",
      " 9/26 [=========>....................] - ETA: 13s - loss: 0.7849 - mse_wrapper: 0.0229 - ca_wrapper: 0.8248 - meandiff: 4.6111"
>>>>>>> Stashed changes
     ]
    }
   ],
   "source": [
    "initial_epoch = 0\n",
    "\n",
    "results = model.fit(\n",
    "    x=batch_generator,\n",
    "    #steps_per_epoch=len(batch_generator),\n",
    "    validation_data=validation_generator,\n",
    "    #validation_steps=len(validation_generator),\n",
    "    epochs=200,\n",
    "    callbacks = get_callbacks(config, batch_generator,validation_generator),\n",
    "    initial_epoch=initial_epoch,\n",
    "    max_queue_size=12,\n",
    "    #workers=2,\n",
    "    use_multiprocessing=False,\n",
    "    verbose=1)"
   ]
  },
  {
   "cell_type": "code",
   "execution_count": 14,
   "metadata": {},
   "outputs": [],
   "source": [
    "# predict the files from globals()['inputs']\n",
    "pred = model(inputs, training=False)"
   ]
  },
  {
   "cell_type": "code",
   "execution_count": 50,
   "metadata": {},
   "outputs": [
    {
     "name": "stdout",
     "output_type": "stream",
     "text": [
      "(4,)\n",
      "(4, 36, 5)\n"
     ]
    },
    {
     "data": {
      "text/plain": [
       "(4, 2, 36, 5)"
      ]
     },
     "execution_count": 50,
     "metadata": {},
     "output_type": "execute_result"
    }
   ],
   "source": [
    "temp = np.array([23, 17, 24, 18])\n",
    "print(temp.shape)\n",
    "empty = np.ones((4,36,5))\n",
    "print(empty.shape)\n",
    "second = empty[:]\n",
    "second[:,0,0] = temp\n",
    "np.stack([empty, second], axis=1).shape"
   ]
  },
  {
   "cell_type": "code",
   "execution_count": 13,
   "metadata": {},
   "outputs": [
    {
     "name": "stdout",
     "output_type": "stream",
     "text": [
      "[[23  4  9 13 21]\n",
      " [ 0  5 10 15 17]\n",
      " [24  4  8 13 20]\n",
      " [ 0  6 12 17 18]]\n",
      "[23 17 24 18]\n"
     ]
    }
   ],
   "source": [
    "# get the true idx\n",
    "gt_idx = tf.math.argmax(outputs, axis=1).numpy()\n",
    "print(gt_idx)\n",
    "gt_max = gt_idx.max(axis=1).astype(int)\n",
    "print(gt_max)"
   ]
  },
  {
   "cell_type": "code",
   "execution_count": 20,
   "metadata": {},
   "outputs": [
    {
     "name": "stdout",
     "output_type": "stream",
     "text": [
      "[20 34 22 20 16 16 25 20]\n"
     ]
    },
    {
     "data": {
      "image/png": "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\n",
      "text/plain": [
       "<Figure size 2880x360 with 16 Axes>"
      ]
     },
     "metadata": {
      "needs_background": "light"
     },
     "output_type": "display_data"
    }
   ],
   "source": [
    "from src.visualization.Visualize import show_phases\n",
    "_ = show_phases(outputs,outputs)"
   ]
  },
  {
   "cell_type": "code",
   "execution_count": 13,
   "metadata": {},
   "outputs": [
    {
     "data": {
      "text/plain": [
       "0.0"
      ]
     },
     "execution_count": 13,
     "metadata": {},
     "output_type": "execute_result"
    }
   ],
   "source": [
    "# calculate the meandiff score for one batch\n",
    "from src.utils.Metrics import meandiff\n",
    "score_fn = meandiff\n",
    "score_fn(outputs, outputs).numpy()"
   ]
  },
  {
   "cell_type": "code",
   "execution_count": 26,
   "metadata": {},
   "outputs": [
    {
     "data": {
      "text/plain": [
       "[<tf.Tensor: shape=(), dtype=float32, numpy=13.8>,\n",
       " <tf.Tensor: shape=(), dtype=float32, numpy=27.6>,\n",
       " <tf.Tensor: shape=(), dtype=float32, numpy=7.4>,\n",
       " <tf.Tensor: shape=(), dtype=float32, numpy=12.8>,\n",
       " <tf.Tensor: shape=(), dtype=float32, numpy=5.6>,\n",
       " <tf.Tensor: shape=(), dtype=float32, numpy=15.2>,\n",
       " <tf.Tensor: shape=(), dtype=float32, numpy=17.8>]"
      ]
     },
     "execution_count": 26,
     "metadata": {},
     "output_type": "execute_result"
    }
   ],
   "source": [
    "# calculate the meandiff score for all batches\n",
    "scores = []\n",
    "for batch in validation_generator:\n",
    "    x,y = batch\n",
    "    p = model(x)\n",
    "    scores.append(score_fn(y,p, batchsize=BATCHSIZE))\n",
    "scores"
   ]
  },
  {
   "cell_type": "code",
   "execution_count": 27,
   "metadata": {},
   "outputs": [
    {
     "data": {
      "text/plain": [
       "14.314285"
      ]
     },
     "execution_count": 27,
     "metadata": {},
     "output_type": "execute_result"
    }
   ],
   "source": [
    "tf.reduce_mean(scores).numpy()"
   ]
  },
  {
   "cell_type": "markdown",
   "metadata": {},
   "source": [
    "# Generator tests"
   ]
  },
  {
   "cell_type": "code",
   "execution_count": 9,
   "metadata": {},
   "outputs": [
    {
     "data": {
      "text/plain": [
       "<matplotlib.image.AxesImage at 0x7f48c0042160>"
      ]
     },
     "execution_count": 9,
     "metadata": {},
     "output_type": "execute_result"
    },
    {
     "data": {
      "image/png": "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\n",
      "text/plain": [
       "<Figure size 432x288 with 1 Axes>"
      ]
     },
     "metadata": {
      "needs_background": "light"
     },
     "output_type": "display_data"
    }
   ],
   "source": [
    "temp = outputs[2][:]\n",
    "plt.imshow(temp)"
   ]
  },
  {
   "cell_type": "code",
   "execution_count": 16,
   "metadata": {
    "collapsed": true,
    "jupyter": {
     "outputs_hidden": true
    }
   },
   "outputs": [
    {
     "data": {
      "image/png": "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\n",
      "text/plain": [
       "<IPython.core.display.Image object>"
      ]
     },
     "execution_count": 16,
     "metadata": {},
     "output_type": "execute_result"
    }
   ],
   "source": [
    "tf.keras.utils.plot_model(\n",
    "    model, show_shapes=False,\n",
    "    show_layer_names=True, rankdir='TB', expand_nested=True, dpi=96\n",
    ")"
   ]
  },
  {
   "cell_type": "code",
   "execution_count": 19,
   "metadata": {},
   "outputs": [
    {
     "data": {
      "text/plain": [
       "1.75"
      ]
     },
     "execution_count": 19,
     "metadata": {},
     "output_type": "execute_result"
    }
   ],
   "source": [
    "score_fn = meandiff_\n",
    "score_fn(outputs, pred).numpy()"
   ]
  },
  {
   "cell_type": "code",
   "execution_count": 18,
   "metadata": {},
   "outputs": [],
   "source": [
    "def meandiff_( y_true, y_pred, batchsize=4):\n",
    "\n",
    "    \"\"\"\n",
    "    Average over the batches\n",
    "    the sum of the absolute difference between two arrays\n",
    "    y_true and y_pred are one-hot vectors with the following shape\n",
    "    batchsize * timesteps * phase classes\n",
    "    e.g.: 4 * 36 * 5\n",
    "    First for gt and pred:\n",
    "    - get the timesteps per phase with the highest probability\n",
    "    - get the absolute difference between gt and pred\n",
    "    (- later we can slice each patient by the max value in the corresponding gt indices)\n",
    "    - sum the diff per entity\n",
    "    - calc the mean over all examples\n",
    "\n",
    "    Parameters\n",
    "    ----------\n",
    "    y_true :\n",
    "    y_pred :\n",
    "\n",
    "    Returns tf.float32 scalar\n",
    "    -------\n",
    "\n",
    "    \"\"\"\n",
    "\n",
    "    score = 0\n",
    "    y_true = tf.cast(tf.convert_to_tensor(y_true), tf.float32)\n",
    "    y_pred = tf.cast(tf.convert_to_tensor(y_pred), tf.float32)\n",
    "\n",
    "    gt_idxs = tf.math.argmax(y_true, axis=1)\n",
    "    gt_max = tf.cast(tf.reduce_max(gt_idxs, axis=1), tf.int32)\n",
    "    padded_pred = []\n",
    "    padded_gt = []\n",
    "\n",
    "    msk = tf.stack([\n",
    "        tf.pad(tf.ones((gt_max[i],5)), ((0,36-gt_max[i]),(0,0)))\n",
    "        for i in range(batchsize)])\n",
    "    #msk = tf.zeros_like(y_pred)\n",
    "    #msk[:,:tf.reduce_max(gt_max), :] = 1\n",
    "\n",
    "    temp_pred = y_pred * msk\n",
    "    temp_gt = y_true * msk\n",
    "\n",
    "    #y_pred = tf.unstack(y_pred, axis=0)\n",
    "    #y_true = tf.unstack(y_true, axis=0)\n",
    "\n",
    "    \"\"\"def pad_to_size(p, max_id):\n",
    "        to_pad = p.shape[0] - max_id\n",
    "        print(p.shape[0])\n",
    "        print(max_id)\n",
    "        print(to_pad)\n",
    "        return tf.pad(p, [[0,to_pad],[0,0]])\n",
    "\n",
    "    padded_pred = list(map(lambda x : pad_to_size(x[0], x[1]), zip(y_pred, gt_max)))\n",
    "    padded_gt = list(map(lambda x: pad_to_size(x[0], x[1]), zip(y_true, gt_max)))\"\"\"\n",
    "\n",
    "    \"\"\"for idx in tf.range(y_pred.shape[0]):\n",
    "        max_idx = gt_max[idx]\n",
    "        p = y_pred[idx][:max_idx, :]\n",
    "        to_pad = y_pred.shape[1] - max_idx\n",
    "        padded_pred.append(tf.pad(p, [[0,to_pad],[0,0]]))\n",
    "\n",
    "        y = y_true[idx][:max_idx, :]\n",
    "        padded_gt.append(tf.pad(y, [[0, to_pad], [0, 0]]))\"\"\"\n",
    "\n",
    "    #temp_pred = tf.stack(padded_pred, axis=0)\n",
    "    #temp_gt = tf.stack(padded_gt, axis=0)\n",
    "\n",
    "    gt_idx = tf.math.argmax(temp_gt, axis=1)\n",
    "    pred_idx = tf.math.argmax(temp_pred, axis=1)\n",
    "\n",
    "    diffs = tf.stack([tf.stack(get_min_dist_for_list(gt_idx[i],pred_idx[i], batchsize)) for i in range(batchsize)])\n",
    "\n",
    "    #diffs = tf.math.subtract(gt_idx, pred_idx)\n",
    "    #print('substract: {}'.format(diffs.numpy()))\n",
    "    #diffs = tf.abs(diffs)\n",
    "    #print('abs: {}'.format(diffs.numpy()))\n",
    "    diffs = tf.cast(tf.reduce_sum(diffs, axis=1),tf.float32)\n",
    "    #print('sum: {}'.format(diffs.numpy()))\n",
    "    diffs = tf.reduce_mean(diffs)\n",
    "\n",
    "    return diffs\n",
    "\n",
    "\n",
    "def get_min_dist_for_list(lst_a,lst_b, batchsize):\n",
    "    length = tf.reduce_max(tf.stack([lst_a, lst_b]))\n",
    "    #print(length)\n",
    "    #length = max(max(lst_a), max(lst_b)) + 1\n",
    "    return [get_min_distance(lst_a[i],lst_b[i],length) for i in range(batchsize)]\n",
    "\n",
    "def get_min_distance(a, b, mod):\n",
    "    #assert(mod>(tf.reduce_max(a,b))), 'a: {}, b: {}, mod:{}, '.format(a,b,mod)\n",
    "\n",
    "    decr_counter = 0\n",
    "    incr_counter = 0\n",
    "\n",
    "    smaller = tf.reduce_min(tf.stack([a, b]))\n",
    "    bigger = tf.reduce_max(tf.stack([a, b]))\n",
    "\n",
    "    i1 = bigger\n",
    "    while (i1 != smaller):\n",
    "        decr_counter = decr_counter + 1\n",
    "        i1 = i1 - 1\n",
    "\n",
    "    i1 = bigger\n",
    "    while (i1 != smaller):\n",
    "        incr_counter = incr_counter + 1\n",
    "        i1 = tf.math.mod((i1 + 1), mod)\n",
    "        #i1 =  % mod\n",
    "\n",
    "    return tf.reduce_min(tf.stack([decr_counter, incr_counter]))"
   ]
  },
  {
   "cell_type": "code",
   "execution_count": 22,
   "metadata": {},
   "outputs": [
    {
     "data": {
      "text/plain": [
       "[4, 5, 6, 7, 8, 9, 1, 2, 3]"
      ]
     },
     "execution_count": 22,
     "metadata": {},
     "output_type": "execute_result"
    }
   ],
   "source": [
    "lst = [1,2,3,4,5,6,7,8,9]\n",
    "first = lst[3:]\n",
    "first.extend(lst[:3])\n",
    "first"
   ]
  },
  {
   "cell_type": "code",
   "execution_count": null,
   "metadata": {},
   "outputs": [],
   "source": [
    "onehot = np.array([[1,0,0,0,0,0,0,0,0,0,0,0,0,0,0],\n",
    " [0,0,0,1,0,0,0,0,0,0,0,0,0,0,0],\n",
    " [0,0,0,0,0,0,0,1,0,0,0,0,0,0,0],\n",
    " [0,0,0,0,0,0,0,0,0,0,0,1,0,0,0],\n",
    " [0,0,0,0,0,0,0,0,0,0,0,0,0,0,1]])"
   ]
  },
  {
   "cell_type": "code",
   "execution_count": null,
   "metadata": {},
   "outputs": [],
   "source": [
    "onehot.shape"
   ]
  },
  {
   "cell_type": "code",
   "execution_count": null,
   "metadata": {},
   "outputs": [],
   "source": [
    "onehot_t = onehot.T\n",
    "onehot_t.shape\n",
    "onehot_t"
   ]
  },
  {
   "cell_type": "code",
   "execution_count": null,
   "metadata": {},
   "outputs": [],
   "source": [
    "print(np.argmax(onehot, axis=1))\n",
    "print(np.argmax(onehot_t, axis=0))"
   ]
  },
  {
   "cell_type": "code",
   "execution_count": null,
   "metadata": {},
   "outputs": [],
   "source": [
    "# iterate over the phases j\n",
    "# linspace from i to i+1 from indices\n",
    "temp = onehot_t[:,0].astype(float)\n",
    "i = 0\n",
    "j = 3 + 1\n",
    "temp[i:j] = np.linspace(i,j,j-i)\n",
    "temp"
   ]
  },
  {
   "cell_type": "code",
   "execution_count": null,
   "metadata": {},
   "outputs": [],
   "source": [
    "onehot_t = onehot_t.astype(float)\n",
    "indices = np.argmax(onehot_t, axis=0)\n",
    "for i in range(onehot_t.shape[1]) :\n",
    "    start = indices[i]\n",
    "    # make it a ring\n",
    "    second = (i+1)%len(indices)\n",
    "    end = indices[second]\n",
    "    onehot_t[start:end,i] = np.linspace(1,0,int(end-start))\n",
    "onehot_t\n",
    "             \n",
    "    "
   ]
  },
  {
   "cell_type": "code",
   "execution_count": null,
   "metadata": {},
   "outputs": [],
   "source": [
    "plt.imshow(temp)"
   ]
  },
  {
   "cell_type": "code",
   "execution_count": null,
   "metadata": {},
   "outputs": [],
   "source": [
    "plt.imshow(temp.T)"
   ]
  },
  {
   "cell_type": "code",
   "execution_count": null,
   "metadata": {},
   "outputs": [],
   "source": [
    "%%timeit\n",
    "temp.mean()"
   ]
  },
  {
   "cell_type": "code",
   "execution_count": null,
   "metadata": {},
   "outputs": [],
   "source": [
    "%%timeit\n",
    "np.mean(temp)"
   ]
  },
  {
   "cell_type": "code",
   "execution_count": null,
   "metadata": {},
   "outputs": [],
   "source": [
    "np.linspace(-1,1,10)"
   ]
  },
  {
   "cell_type": "code",
   "execution_count": null,
   "metadata": {},
   "outputs": [],
   "source": []
  }
 ],
 "metadata": {
  "kernelspec": {
   "display_name": "dcmr",
   "language": "python",
   "name": "dcmr"
  },
  "language_info": {
   "codemirror_mode": {
    "name": "ipython",
    "version": 3
   },
   "file_extension": ".py",
   "mimetype": "text/x-python",
   "name": "python",
   "nbconvert_exporter": "python",
   "pygments_lexer": "ipython3",
   "version": "3.8.5"
  },
  "widgets": {
   "application/vnd.jupyter.widget-state+json": {
    "state": {
     "007926a3d9c44fa59fe263ad021ed7f4": {
      "model_module": "@jupyter-widgets/controls",
      "model_module_version": "1.5.0",
      "model_name": "IntSliderModel",
      "state": {
       "description": "im",
       "layout": "IPY_MODEL_204b03e622d64e0a8e58108ba49c6167",
       "max": 7,
       "style": "IPY_MODEL_a0ab1f716ccc40909b3a8ce4405b6089",
       "value": 3
      }
     },
     "0c2032afece7471d9b5f731aa4a71255": {
      "model_module": "@jupyter-widgets/controls",
      "model_module_version": "1.5.0",
      "model_name": "TextModel",
      "state": {
       "description": "filename",
       "layout": "IPY_MODEL_e1a2fa2f8f4448c3ab2a4da466a6c128",
       "style": "IPY_MODEL_f67289007d0c4cd5971a8de58bd980da",
       "value": "temp_x.npy"
      }
     },
     "12d6c45f69174b53bb59a43cd0e50f3f": {
      "model_module": "@jupyter-widgets/base",
      "model_module_version": "1.2.0",
      "model_name": "LayoutModel",
      "state": {}
     },
     "204b03e622d64e0a8e58108ba49c6167": {
      "model_module": "@jupyter-widgets/base",
      "model_module_version": "1.2.0",
      "model_name": "LayoutModel",
      "state": {}
     },
     "2a2322fa5b034d8e91c8550e863cd0a2": {
      "model_module": "@jupyter-widgets/controls",
      "model_module_version": "1.5.0",
      "model_name": "VBoxModel",
      "state": {
       "_dom_classes": [
        "widget-interact"
       ],
       "children": [
        "IPY_MODEL_e411148090b14a5d8032f7df3e0ff3ac",
        "IPY_MODEL_86d757dc44c14dab9767cb1b3b10c5c2"
       ],
       "layout": "IPY_MODEL_32aac0bab0b14aa8af6ae584cbaacc49"
      }
     },
     "313a9ac8fd3a4b71b89e5c6c1ed4a5c3": {
      "model_module": "@jupyter-widgets/controls",
      "model_module_version": "1.5.0",
      "model_name": "IntSliderModel",
      "state": {
       "description": "batch",
       "layout": "IPY_MODEL_64debc67ca6147a68d9142fc5bb6e7a9",
       "max": 7,
       "style": "IPY_MODEL_ec5865aea5af4431bc325eb843df62f0",
       "value": 3
      }
     },
     "31a32b53d1d445d38da4994b26788700": {
      "model_module": "@jupyter-widgets/base",
      "model_module_version": "1.2.0",
      "model_name": "LayoutModel",
      "state": {}
     },
     "32aac0bab0b14aa8af6ae584cbaacc49": {
      "model_module": "@jupyter-widgets/base",
      "model_module_version": "1.2.0",
      "model_name": "LayoutModel",
      "state": {}
     },
     "47d380f9159a4f9cb15f4e30e8b8a75b": {
      "model_module": "@jupyter-widgets/controls",
      "model_module_version": "1.5.0",
      "model_name": "DescriptionStyleModel",
      "state": {
       "description_width": ""
      }
     },
     "5302c4c6535d4ee8b653113bf2527be4": {
      "model_module": "@jupyter-widgets/base",
      "model_module_version": "1.2.0",
      "model_name": "LayoutModel",
      "state": {}
     },
     "56b7a80e72124d4b83fb70d821aa6642": {
      "model_module": "@jupyter-widgets/controls",
      "model_module_version": "1.5.0",
      "model_name": "CheckboxModel",
      "state": {
       "description": "show_",
       "disabled": false,
       "layout": "IPY_MODEL_b11cbe460aeb472fb313412e1d168e1c",
       "style": "IPY_MODEL_47d380f9159a4f9cb15f4e30e8b8a75b",
       "value": true
      }
     },
     "618903dfe9b6404abefa4d39205e9c1e": {
      "model_module": "@jupyter-widgets/base",
      "model_module_version": "1.2.0",
      "model_name": "LayoutModel",
      "state": {}
     },
     "64debc67ca6147a68d9142fc5bb6e7a9": {
      "model_module": "@jupyter-widgets/base",
      "model_module_version": "1.2.0",
      "model_name": "LayoutModel",
      "state": {}
     },
     "654f7d38e4c74b3b99e76676ff833c25": {
      "model_module": "@jupyter-widgets/controls",
      "model_module_version": "1.5.0",
      "model_name": "DescriptionStyleModel",
      "state": {
       "description_width": ""
      }
     },
     "801352963b6b4c66a5fd0a80db52e41f": {
      "model_module": "@jupyter-widgets/base",
      "model_module_version": "1.2.0",
      "model_name": "LayoutModel",
      "state": {}
     },
     "86d757dc44c14dab9767cb1b3b10c5c2": {
      "model_module": "@jupyter-widgets/output",
      "model_module_version": "1.0.0",
      "model_name": "OutputModel",
      "state": {
       "layout": "IPY_MODEL_8a16fa5f641144789c6589be41e3f7f8"
      }
     },
     "878a3123a8284d05a43529a3ebe4177c": {
      "model_module": "@jupyter-widgets/base",
      "model_module_version": "1.2.0",
      "model_name": "LayoutModel",
      "state": {}
     },
     "888c8793ee3f4caf84ce66b863516627": {
      "model_module": "@jupyter-widgets/controls",
      "model_module_version": "1.5.0",
      "model_name": "DescriptionStyleModel",
      "state": {
       "description_width": ""
      }
     },
     "8a16fa5f641144789c6589be41e3f7f8": {
      "model_module": "@jupyter-widgets/base",
      "model_module_version": "1.2.0",
      "model_name": "LayoutModel",
      "state": {}
     },
     "9288996ebd5246909782157fc821b84f": {
      "model_module": "@jupyter-widgets/base",
      "model_module_version": "1.2.0",
      "model_name": "LayoutModel",
      "state": {}
     },
     "a05f3201b5b9448e86d097ad8b718361": {
      "model_module": "@jupyter-widgets/controls",
      "model_module_version": "1.5.0",
      "model_name": "DescriptionStyleModel",
      "state": {
       "description_width": ""
      }
     },
     "a0ab1f716ccc40909b3a8ce4405b6089": {
      "model_module": "@jupyter-widgets/controls",
      "model_module_version": "1.5.0",
      "model_name": "SliderStyleModel",
      "state": {
       "description_width": ""
      }
     },
     "b11cbe460aeb472fb313412e1d168e1c": {
      "model_module": "@jupyter-widgets/base",
      "model_module_version": "1.2.0",
      "model_name": "LayoutModel",
      "state": {}
     },
     "bf467abc942445c88b6736aceb8b72b8": {
      "model_module": "@jupyter-widgets/controls",
      "model_module_version": "1.5.0",
      "model_name": "ButtonModel",
      "state": {
       "description": "Run Interact",
       "layout": "IPY_MODEL_9288996ebd5246909782157fc821b84f",
       "style": "IPY_MODEL_fd1c1f20cbc94400bbdc3aba9d26f482"
      }
     },
     "c0b32b5b644f4bd9a21082ea9f2e55fc": {
      "model_module": "@jupyter-widgets/controls",
      "model_module_version": "1.5.0",
      "model_name": "SliderStyleModel",
      "state": {
       "description_width": ""
      }
     },
     "c5be66cb4ae94e3391c855b6e0be79d9": {
      "model_module": "@jupyter-widgets/controls",
      "model_module_version": "1.5.0",
      "model_name": "IntSliderModel",
      "state": {
       "description": "slice_n",
       "layout": "IPY_MODEL_618903dfe9b6404abefa4d39205e9c1e",
       "max": 11,
       "min": 1,
       "style": "IPY_MODEL_c0b32b5b644f4bd9a21082ea9f2e55fc",
       "value": 6
      }
     },
     "cd2080ebdaf9471b9b7bdb5c57c62e6c": {
      "model_module": "@jupyter-widgets/controls",
      "model_module_version": "1.5.0",
      "model_name": "TextModel",
      "state": {
       "description": "filepath",
       "layout": "IPY_MODEL_801352963b6b4c66a5fd0a80db52e41f",
       "style": "IPY_MODEL_654f7d38e4c74b3b99e76676ff833c25",
       "value": "data/temp/"
      }
     },
     "ddbf7392157245b297b065c15d433bf5": {
      "model_module": "@jupyter-widgets/output",
      "model_module_version": "1.0.0",
      "model_name": "OutputModel",
      "state": {
       "layout": "IPY_MODEL_12d6c45f69174b53bb59a43cd0e50f3f"
      }
     },
     "e1a2fa2f8f4448c3ab2a4da466a6c128": {
      "model_module": "@jupyter-widgets/base",
      "model_module_version": "1.2.0",
      "model_name": "LayoutModel",
      "state": {}
     },
     "e411148090b14a5d8032f7df3e0ff3ac": {
      "model_module": "@jupyter-widgets/controls",
      "model_module_version": "1.5.0",
      "model_name": "TextModel",
      "state": {
       "description": "search_str",
       "layout": "IPY_MODEL_878a3123a8284d05a43529a3ebe4177c",
       "style": "IPY_MODEL_a05f3201b5b9448e86d097ad8b718361"
      }
     },
     "e625278d69d3406a95429d718bd872df": {
      "model_module": "@jupyter-widgets/controls",
      "model_module_version": "1.5.0",
      "model_name": "CheckboxModel",
      "state": {
       "description": "save",
       "disabled": false,
       "layout": "IPY_MODEL_5302c4c6535d4ee8b653113bf2527be4",
       "style": "IPY_MODEL_888c8793ee3f4caf84ce66b863516627",
       "value": false
      }
     },
     "ec5865aea5af4431bc325eb843df62f0": {
      "model_module": "@jupyter-widgets/controls",
      "model_module_version": "1.5.0",
      "model_name": "SliderStyleModel",
      "state": {
       "description_width": ""
      }
     },
     "ef92f107d362463a82f9c957a6b4b39d": {
      "model_module": "@jupyter-widgets/controls",
      "model_module_version": "1.5.0",
      "model_name": "VBoxModel",
      "state": {
       "_dom_classes": [
        "widget-interact"
       ],
       "children": [
        "IPY_MODEL_313a9ac8fd3a4b71b89e5c6c1ed4a5c3",
        "IPY_MODEL_007926a3d9c44fa59fe263ad021ed7f4",
        "IPY_MODEL_c5be66cb4ae94e3391c855b6e0be79d9",
        "IPY_MODEL_e625278d69d3406a95429d718bd872df",
        "IPY_MODEL_cd2080ebdaf9471b9b7bdb5c57c62e6c",
        "IPY_MODEL_0c2032afece7471d9b5f731aa4a71255",
        "IPY_MODEL_56b7a80e72124d4b83fb70d821aa6642",
        "IPY_MODEL_bf467abc942445c88b6736aceb8b72b8",
        "IPY_MODEL_ddbf7392157245b297b065c15d433bf5"
       ],
       "layout": "IPY_MODEL_31a32b53d1d445d38da4994b26788700"
      }
     },
     "f67289007d0c4cd5971a8de58bd980da": {
      "model_module": "@jupyter-widgets/controls",
      "model_module_version": "1.5.0",
      "model_name": "DescriptionStyleModel",
      "state": {
       "description_width": ""
      }
     },
     "fd1c1f20cbc94400bbdc3aba9d26f482": {
      "model_module": "@jupyter-widgets/controls",
      "model_module_version": "1.5.0",
      "model_name": "ButtonStyleModel",
      "state": {}
     }
    },
    "version_major": 2,
    "version_minor": 0
   }
  }
 },
 "nbformat": 4,
 "nbformat_minor": 4
}
