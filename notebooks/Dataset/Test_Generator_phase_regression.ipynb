{
 "cells": [
  {
   "cell_type": "code",
   "execution_count": 1,
   "metadata": {},
   "outputs": [
    {
     "name": "stdout",
     "output_type": "stream",
     "text": [
      "search for root_dir and set working directory\n",
      "Working directory set to: /mnt/ssd/git/dynamic-cmr-models\n",
      "['/gpu:0', '/gpu:1']\n"
     ]
    },
    {
     "name": "stderr",
     "output_type": "stream",
     "text": [
      "2021-02-23 11:36:34,073 INFO -------------------- Start --------------------\n",
      "2021-02-23 11:36:34,074 INFO Working directory: /mnt/ssd/git/dynamic-cmr-models.\n",
      "2021-02-23 11:36:34,074 INFO Log file: ./logs/temp/Bi-LSTM_CCE_minus5_5phaseaug_NOaug.log\n",
      "2021-02-23 11:36:34,074 INFO Log level for console: INFO\n",
      "2021-02-23 11:36:34,076 INFO Is built with tensorflow: True\n",
      "2021-02-23 11:36:34,138 INFO Visible devices:\n",
      "[PhysicalDevice(name='/physical_device:CPU:0', device_type='CPU'), PhysicalDevice(name='/physical_device:XLA_CPU:0', device_type='XLA_CPU'), PhysicalDevice(name='/physical_device:XLA_GPU:0', device_type='XLA_GPU'), PhysicalDevice(name='/physical_device:XLA_GPU:1', device_type='XLA_GPU'), PhysicalDevice(name='/physical_device:GPU:0', device_type='GPU'), PhysicalDevice(name='/physical_device:GPU:1', device_type='GPU')]\n",
      "2021-02-23 11:36:34,783 INFO Local devices: \n",
      " [name: \"/device:CPU:0\"\n",
      "device_type: \"CPU\"\n",
      "memory_limit: 268435456\n",
      "locality {\n",
      "}\n",
      "incarnation: 14967903979742201379\n",
      ", name: \"/device:XLA_CPU:0\"\n",
      "device_type: \"XLA_CPU\"\n",
      "memory_limit: 17179869184\n",
      "locality {\n",
      "}\n",
      "incarnation: 4191742967562546167\n",
      "physical_device_desc: \"device: XLA_CPU device\"\n",
      ", name: \"/device:XLA_GPU:0\"\n",
      "device_type: \"XLA_GPU\"\n",
      "memory_limit: 17179869184\n",
      "locality {\n",
      "}\n",
      "incarnation: 3783353365783507005\n",
      "physical_device_desc: \"device: XLA_GPU device\"\n",
      ", name: \"/device:XLA_GPU:1\"\n",
      "device_type: \"XLA_GPU\"\n",
      "memory_limit: 17179869184\n",
      "locality {\n",
      "}\n",
      "incarnation: 1246907963426798525\n",
      "physical_device_desc: \"device: XLA_GPU device\"\n",
      ", name: \"/device:GPU:0\"\n",
      "device_type: \"GPU\"\n",
      "memory_limit: 23162119808\n",
      "locality {\n",
      "  bus_id: 1\n",
      "  links {\n",
      "  }\n",
      "}\n",
      "incarnation: 4070944726889114833\n",
      "physical_device_desc: \"device: 0, name: TITAN RTX, pci bus id: 0000:01:00.0, compute capability: 7.5\"\n",
      ", name: \"/device:GPU:1\"\n",
      "device_type: \"GPU\"\n",
      "memory_limit: 23561682304\n",
      "locality {\n",
      "  bus_id: 1\n",
      "  links {\n",
      "  }\n",
      "}\n",
      "incarnation: 1590075142101248480\n",
      "physical_device_desc: \"device: 1, name: TITAN RTX, pci bus id: 0000:02:00.0, compute capability: 7.5\"\n",
      "]\n"
     ]
    },
    {
     "name": "stdout",
     "output_type": "stream",
     "text": [
      "{'GPU_IDS': '0,1', 'GPUS': ['/gpu:0', '/gpu:1'], 'SEED': 42, 'EXPERIMENT': 'temp/Bi-LSTM_CCE_minus5_5phaseaug_NOaug', 'MODEL_PATH': 'models/temp/Bi-LSTM_CCE_minus5_5phaseaug_NOaug/2021-02-23_11_36', 'TENSORBOARD_LOG_DIR': 'reports/tensorboard_logs/temp/Bi-LSTM_CCE_minus5_5phaseaug_NOaug/2021-02-23_11_36', 'CONFIG_PATH': 'reports/configs/temp/Bi-LSTM_CCE_minus5_5phaseaug_NOaug/2021-02-23_11_36', 'HISTORY_PATH': 'reports/history/temp/Bi-LSTM_CCE_minus5_5phaseaug_NOaug/2021-02-23_11_36', 'SAVE_LEARNING_PROGRESS_AS_TF': True, 'BATCHSIZE': 4, 'GENERATOR_WORKER': 4, 'DIM': [8, 64, 64], 'T_SHAPE': 36, 'SPACING': [8, 3, 3], 'DEPTH': 3, 'FILTERS': 32, 'M_POOL': [1, 2, 2], 'F_SIZE': [3, 3, 3], 'BN_FIRST': False, 'BATCH_NORMALISATION': True, 'PAD': 'same', 'KERNEL_INIT': 'he_normal', 'OPTIMIZER': 'adam', 'ACTIVATION': 'relu', 'LEARNING_RATE': 0.0001, 'DECAY_FACTOR': 0.3, 'MIN_LR': 1e-11, 'BORDER_MODE': 4, 'IMG_INTERPOLATION': 1, 'MSK_INTERPOLATION': 0, 'AUGMENT': False, 'AUGMENT_PROB': 0.8, 'AUGMENT_PHASES': False, 'AUGMENT_PHASES_RANGE': (-3, 3), 'SHUFFLE': True, 'RESAMPLE': True, 'SCALER': 'MinMax', 'PHASES': 5, 'TARGET_SMOOTHING': True, 'SMOOTHING_KERNEL_SIZE': 12, 'SMOOTHING_LOWER_BORDER': 1, 'SMOOTHING_UPPER_BORDER': 5, 'SMOOTHING_WEIGHT_CORRECT': 10, 'DF_META': '/mnt/ssd/data/gcn/02_imported_4D_unfiltered/SAx_3D_dicomTags_phase'}\n"
     ]
    }
   ],
   "source": [
    "# ------------------------------------------define logging and working directory\n",
    "from ProjectRoot import change_wd_to_project_root\n",
    "change_wd_to_project_root()\n",
    "from src.utils.Tensorflow_helper import choose_gpu_by_id\n",
    "# ------------------------------------------define GPU id/s to use\n",
    "GPU_IDS = '0,1'\n",
    "GPUS = choose_gpu_by_id(GPU_IDS)\n",
    "print(GPUS)\n",
    "# ------------------------------------------jupyter magic config\n",
    "%matplotlib inline\n",
    "%reload_ext autoreload\n",
    "%autoreload 2\n",
    "# ------------------------------------------ import helpers\n",
    "# this should import glob, os, and many other standard libs\n",
    "from src.utils.Notebook_imports import *\n",
    "from tensorflow.python.client import device_lib\n",
    "import tensorflow as tf\n",
    "tf.get_logger().setLevel('ERROR')\n",
    "# local imports\n",
    "from src.utils.Utils_io import Console_and_file_logger, init_config\n",
    "from src.visualization.Visualize import show_2D_or_3D\n",
    "from src.utils.KerasCallbacks import get_callbacks\n",
    "\n",
    "# import external libs\n",
    "import cv2\n",
    "import pandas as pd\n",
    "\n",
    "EXPERIMENT = 'temp/Bi-LSTM_CCE_minus5_5phaseaug_NOaug'\n",
    "timestemp = str(datetime.datetime.now().strftime(\"%Y-%m-%d_%H_%M\")) # ad a timestep to each project to make repeated experiments unique\n",
    "\n",
    "MODEL_PATH = os.path.join('models', EXPERIMENT, timestemp)\n",
    "TENSORBOARD_LOG_DIR = os.path.join('reports/tensorboard_logs', EXPERIMENT,timestemp)\n",
    "CONFIG_PATH = os.path.join('reports/configs/',EXPERIMENT,timestemp)\n",
    "HISTORY_PATH = os.path.join('reports/history/',EXPERIMENT,timestemp)\n",
    "SAVE_LEARNING_PROGRESS_AS_TF = True\n",
    "\n",
    "# General params\n",
    "SEED = 42 # define a seed for the generator shuffle\n",
    "BATCHSIZE = 4 # 32, 64, 24, 16, 1 for 3D use: 4\n",
    "GENERATOR_WORKER = BATCHSIZE # if not set, use batchsize\n",
    "\n",
    "DIM = [8, 64, 64] # network input params for spacing of 3, (z,y,x)\n",
    "T_SHAPE = 36\n",
    "SPACING = [8, 3, 3] # if resample, resample to this spacing, (z,y,x)\n",
    "\n",
    "# Model params\n",
    "DEPTH = 3 # depth of the encoder\n",
    "FILTERS = 32 # initial number of filters, will be doubled after each downsampling block\n",
    "M_POOL = [1, 2, 2]# size of max-pooling used for downsampling and upsampling\n",
    "F_SIZE = [3, 3, 3] # conv filter size\n",
    "BN_FIRST = False # decide if batch normalisation between conv and activation or afterwards\n",
    "BATCH_NORMALISATION = True # apply BN or not\n",
    "PAD = 'same' # padding strategy of the conv layers\n",
    "KERNEL_INIT = 'he_normal' # conv weight initialisation\n",
    "OPTIMIZER = 'adam' # Adam, Adagrad, RMSprop, Adadelta,  # https://keras.io/optimizers/\n",
    "ACTIVATION = 'relu' # tf.keras.layers.LeakyReLU(), relu or any other non linear activation function\n",
    "LEARNING_RATE = 1e-4 # start with a huge lr to converge fast\n",
    "DECAY_FACTOR = 0.3 # Define a learning rate decay for the ReduceLROnPlateau callback\n",
    "MIN_LR = 1e-11 # minimal lr, smaller lr does not improve the model\n",
    "DROPOUT_min = 0.3 # lower dropout at the shallow layers\n",
    "DROPOUT_max = 0.5 # higher dropout at the deep layers\n",
    "\n",
    "# Augmentation and Generator params\n",
    "BORDER_MODE = cv2.BORDER_REFLECT_101 # border mode for the data generation\n",
    "IMG_INTERPOLATION = cv2.INTER_LINEAR # image interpolation in the genarator\n",
    "MSK_INTERPOLATION = cv2.INTER_NEAREST # mask interpolation in the generator\n",
    "AUGMENT = False # a compose of 2D augmentation (grid distortion, 90degree rotation, brightness and shift)\n",
    "AUGMENT_PROB = 0.8\n",
    "AUGMENT_PHASES = False\n",
    "AUGMENT_PHASES_RANGE = (-3,3)\n",
    "SHUFFLE = True\n",
    "RESAMPLE = True\n",
    "SCALER = 'MinMax' # MinMax, Standard or Robust\n",
    "# We define 5 target phases and a background phase for the pad/empty volumes \n",
    "PHASES = len(['ED#', 'MS#', 'ES#', 'PF#', 'MD#']) # skipped 'pad backround manually added', due to repeating\n",
    "TARGET_SMOOTHING = True\n",
    "SMOOTHING_KERNEL_SIZE = 12\n",
    "SMOOTHING_LOWER_BORDER = 1\n",
    "SMOOTHING_UPPER_BORDER = 5\n",
    "SMOOTHING_WEIGHT_CORRECT = 10\n",
    "\n",
    "# Data paths\n",
    "DF_META = '/mnt/ssd/data/gcn/02_imported_4D_unfiltered/SAx_3D_dicomTags_phase'\n",
    "\n",
    "\n",
    "\n",
    "Console_and_file_logger(EXPERIMENT, logging.INFO)\n",
    "config = init_config(config=locals(), save=True)\n",
    "print(config)\n",
    "logging.info('Is built with tensorflow: {}'.format(tf.test.is_built_with_cuda()))\n",
    "logging.info('Visible devices:\\n{}'.format(tf.config.list_physical_devices()))\n",
    "logging.info('Local devices: \\n {}'.format(device_lib.list_local_devices()))"
   ]
  },
  {
   "cell_type": "code",
   "execution_count": 2,
   "metadata": {},
   "outputs": [
    {
     "name": "stdout",
     "output_type": "stream",
     "text": [
      "278\n"
     ]
    }
   ],
   "source": [
    "# zip the phase files in the following structure:\n",
    "#[[patient1_phase1, patient1_phase2, patient1_phase3, patient1_phase4, patient1_phase5],[patient2_phase1...] ...]\n",
    "\n",
    "images = sorted(glob.glob('/mnt/ssd/data/gcn/02_imported_4D_unfiltered/SAX/*clean.nrrd'))\n",
    "print(len(images))"
   ]
  },
  {
   "cell_type": "code",
   "execution_count": 3,
   "metadata": {},
   "outputs": [
    {
     "data": {
      "text/plain": [
       "'/mnt/ssd/data/gcn/02_imported_4D_unfiltered/SAX/0000-91GEVV22_1900-01-01_volume_clean.nrrd'"
      ]
     },
     "execution_count": 3,
     "metadata": {},
     "output_type": "execute_result"
    }
   ],
   "source": [
    "images[83]"
   ]
  },
  {
   "cell_type": "code",
   "execution_count": 4,
   "metadata": {},
   "outputs": [],
   "source": [
    "# check if we find each patient in the corresponding dataframe\n",
    "import re\n",
    "METADATA_FILE = config.get('DF_META', '/mnt/ssd/data/gcn/02_imported_4D_unfiltered/SAx_3D_dicomTags_phase')\n",
    "df = pd.read_csv(METADATA_FILE)\n",
    "DF_METADATA = df[['patient', 'ED#', 'MS#', 'ES#', 'PF#', 'MD#']]\n",
    "\n",
    "\n",
    "for x in images:\n",
    "    try:\n",
    "        patient_str = re.search('-(.{8})_', x).group(1).upper()\n",
    "        \n",
    "        assert(len(patient_str) == 8), 'matched patient ID from the phase sheet has a length of: {}'.format(len(patient_str))\n",
    "        # returns the indices in the following order: 'ED#', 'MS#', 'ES#', 'PF#', 'MD#'\n",
    "        # reduce by one, as the indexes start at 0, the excel-sheet at 1\n",
    "        ind = DF_METADATA[DF_METADATA.patient.str.contains(patient_str)][['ED#', 'MS#', 'ES#', 'PF#', 'MD#']]\n",
    "        indices = ind.values[0].astype(int) -1\n",
    "        \n",
    "    except Exception as e:\n",
    "        logging.info(patient_str)\n",
    "        logging.info(ind)\n",
    "        logging.info('indices: \\n{}'.format(indices))"
   ]
  },
  {
   "cell_type": "code",
   "execution_count": 5,
   "metadata": {},
   "outputs": [
    {
     "data": {
      "application/vnd.jupyter.widget-view+json": {
       "model_id": "9714531588cb4ca69c15329a2f7adb3c",
       "version_major": 2,
       "version_minor": 0
      },
      "text/plain": [
       "interactive(children=(Text(value='', description='search_str'), Output()), _dom_classes=('widget-interact',))"
      ]
     },
     "metadata": {},
     "output_type": "display_data"
    }
   ],
   "source": [
    "@interact\n",
    "def search_p_in_df(search_str = ''):\n",
    "    return DF_METADATA[DF_METADATA['patient'].str.contains(search_str)]"
   ]
  },
  {
   "cell_type": "code",
   "execution_count": 6,
   "metadata": {},
   "outputs": [
    {
     "name": "stderr",
     "output_type": "stream",
     "text": [
      "2021-02-23 11:36:35,770 INFO Create DataGenerator\n",
      "2021-02-23 11:36:35,771 INFO Datagenerator created with: \n",
      " shape: [8, 64, 64]\n",
      " spacing: [8, 3, 3]\n",
      " batchsize: 4\n",
      " Scaler: MinMax\n",
      " Images: 220 \n",
      " Augment: False \n",
      " Thread workers: 4\n",
      "2021-02-23 11:36:35,772 INFO No augmentation\n",
      "2021-02-23 11:36:35,786 INFO Smoothing kernel: \n",
      "[ 1.   1.8  2.6  3.4  4.2  5.  10.   5.   4.2  3.4  2.6  1.8  1. ]\n",
      "2021-02-23 11:36:35,787 INFO Temporal phase augmentation: False\n",
      "2021-02-23 11:36:35,788 INFO Create DataGenerator\n",
      "2021-02-23 11:36:35,788 INFO Datagenerator created with: \n",
      " shape: [8, 64, 64]\n",
      " spacing: [8, 3, 3]\n",
      " batchsize: 4\n",
      " Scaler: MinMax\n",
      " Images: 58 \n",
      " Augment: False \n",
      " Thread workers: 4\n",
      "2021-02-23 11:36:35,789 INFO No augmentation\n",
      "2021-02-23 11:36:35,804 INFO Smoothing kernel: \n",
      "[ 1.   1.8  2.6  3.4  4.2  5.  10.   5.   4.2  3.4  2.6  1.8  1. ]\n",
      "2021-02-23 11:36:35,804 INFO Temporal phase augmentation: False\n"
     ]
    }
   ],
   "source": [
    "# initialise a generator with these files\n",
    "# logging.getLogger().setLevel(logging.INFO)\n",
    "from src.data.Generators import PhaseRegressionGenerator\n",
    "#config['SHUFFLE'] = False\n",
    "#config['AUGMENT'] = False\n",
    "#config['RESAMPLE'] = True\n",
    "#config['AUGMENT_PHASES'] = False\n",
    "batch_generator = PhaseRegressionGenerator(images[:220], images[:220], config=config)\n",
    "val_config = config.copy()\n",
    "val_config['AUGMENT'] = False\n",
    "val_config['AUGMENT_PHASES'] = False\n",
    "validation_generator = PhaseRegressionGenerator(images[220:], images[220:] , config=val_config)"
   ]
  },
  {
   "cell_type": "code",
   "execution_count": 7,
   "metadata": {},
   "outputs": [
    {
     "data": {
      "application/vnd.jupyter.widget-view+json": {
       "model_id": "5581c769e574454bbfa00d349f413c46",
       "version_major": 2,
       "version_minor": 0
      },
      "text/plain": [
       "interactive(children=(IntSlider(value=7, description='batch', max=14), IntSlider(value=1, description='im', ma…"
      ]
     },
     "metadata": {},
     "output_type": "display_data"
    }
   ],
   "source": [
    "# visualise one batch\n",
    "@interact_manual\n",
    "def select_image_in_batch(batch = (0,len(validation_generator), 1), \n",
    "                          im = (0,BATCHSIZE- 1, 1), \n",
    "                          slice_n=(1,11), \n",
    "                          save=False, \n",
    "                          filepath='data/temp/', \n",
    "                          filename='temp_x.npy',\n",
    "                         show_=True):\n",
    "    \n",
    "    import time\n",
    "    global inputs, outputs\n",
    "    phases = ['ED', 'MS', 'ES', 'PF', 'MD']\n",
    "    t1 = time.time()\n",
    "    inputs, outputs = validation_generator.__getitem__(batch)\n",
    "    logging.info('Preprocessing took: {:0.3f}'.format(time.time() - t1))\n",
    "    print(inputs.shape, outputs.shape)\n",
    "    print('selected batch : ' + str(batch))\n",
    "    if show_:\n",
    "    \n",
    "        selected_input = inputs[im]\n",
    "        selected_output = outputs[im]\n",
    "\n",
    "        logging.debug('pad: \\n{}'.format(selected_output))\n",
    "        \n",
    "        f, axs = plt.subplots(1,2,figsize=(5,5))\n",
    "        i = 0\n",
    "        temp_y = selected_output\n",
    "        ind_gt = np.argmax(temp_y, axis=0)\n",
    "        axs[0].title.set_text('y')\n",
    "        axs[0].set_yticks(ind_gt, minor=False)\n",
    "        axs[0].set_xticks([0,1,2,3,4], minor=False)\n",
    "        axs[0].set_xticklabels(phases, rotation =45)\n",
    "        axs[0].imshow(temp_y, aspect='auto')\n",
    "        axs[1].hist(selected_input.flatten(), bins=np.linspace(0.1,1,20))\n",
    "        f.tight_layout()\n",
    "        plt.show()\n",
    "        \n",
    "        #list(map(lambda x: show_2D_or_3D(img=x, interpol='bilinear',dpi=100,f_size=(5,5)), selected_input[::slice_n]))\n",
    "\n",
    "        \n",
    "    if save:\n",
    "        ensure_dir(filepath)\n",
    "        np.save(os.path.join(filepath, filename), x[im])\n",
    "        logging.info('saved to {}'.format(os.path.join(filepath, filename)))\n",
    "    \n",
    "\n"
   ]
  },
  {
   "cell_type": "code",
   "execution_count": 8,
   "metadata": {},
   "outputs": [
    {
     "data": {
      "text/plain": [
       "'for b in range(len(validation_generator)):\\n    print(b)\\n    for im in range(BATCHSIZE):\\n        select_image_in_batch(batch=b,im=im, slice_n=5, show_=True)'"
      ]
     },
     "execution_count": 8,
     "metadata": {},
     "output_type": "execute_result"
    }
   ],
   "source": [
    "# test if all batches are processable\n",
    "\"\"\"for b in range(len(validation_generator)):\n",
    "    print(b)\n",
    "    for im in range(BATCHSIZE):\n",
    "        select_image_in_batch(batch=b,im=im, slice_n=5, show_=True)\"\"\""
   ]
  },
  {
   "cell_type": "code",
   "execution_count": 12,
   "metadata": {},
   "outputs": [
    {
     "name": "stdout",
     "output_type": "stream",
     "text": [
      "(None, 8, 8, 8, 256)\n",
      "(None, 256)\n",
      "(None, 36, 256)\n",
      "encoder\n",
      "(None, 36, 256)\n",
      "bi LSTM\n",
      "(None, 36, 64)\n",
      "conv1d 32, 1, 1\n",
      "(None, 36, 64)\n",
      "conv1d 32 3,1\n",
      "(None, 36, 5)\n",
      "(None, 36, 5)\n"
     ]
    }
   ],
   "source": [
    "from src.models.Models import create_PhaseRegressionModel\n",
    "model = create_PhaseRegressionModel(config)"
   ]
  },
  {
   "cell_type": "code",
   "execution_count": 9,
   "metadata": {
    "collapsed": true,
    "jupyter": {
     "outputs_hidden": true
    }
   },
   "outputs": [
    {
     "name": "stdout",
     "output_type": "stream",
     "text": [
      "Model: \"PhaseRegressionModel\"\n",
      "______________________________________________________________________________________________________________________________________________________\n",
      "Layer (type)                                     Output Shape                     Param #           Connected to                                      \n",
      "======================================================================================================================================================\n",
      "input_1 (InputLayer)                             [(None, 36, 8, 64, 64, 1)]       0                                                                   \n",
      "______________________________________________________________________________________________________________________________________________________\n",
      "tf_op_layer_unstack (TensorFlowOpLayer)          [(None, 36, 64, 64, 1), (None, 3 0                 input_1[0][0]                                     \n",
      "______________________________________________________________________________________________________________________________________________________\n",
      "conv_encoder_1 (ConvEncoder)                     ((None, 36, 8, 8, 256), [(None,  3516960           tf_op_layer_unstack[0][3]                         \n",
      "                                                                                                    tf_op_layer_unstack[0][4]                         \n",
      "                                                                                                    tf_op_layer_unstack[0][6]                         \n",
      "                                                                                                    tf_op_layer_unstack[0][7]                         \n",
      "                                                                                                    tf_op_layer_unstack[0][2]                         \n",
      "                                                                                                    tf_op_layer_unstack[0][5]                         \n",
      "                                                                                                    tf_op_layer_unstack[0][0]                         \n",
      "                                                                                                    tf_op_layer_unstack[0][1]                         \n",
      "______________________________________________________________________________________________________________________________________________________\n",
      "tf_op_layer_stack (TensorFlowOpLayer)            [(None, 36, 8, 8, 8, 256)]       0                 conv_encoder_1[6][0]                              \n",
      "                                                                                                    conv_encoder_1[7][0]                              \n",
      "                                                                                                    conv_encoder_1[4][0]                              \n",
      "                                                                                                    conv_encoder_1[0][0]                              \n",
      "                                                                                                    conv_encoder_1[1][0]                              \n",
      "                                                                                                    conv_encoder_1[5][0]                              \n",
      "                                                                                                    conv_encoder_1[2][0]                              \n",
      "                                                                                                    conv_encoder_1[3][0]                              \n",
      "______________________________________________________________________________________________________________________________________________________\n",
      "tf_op_layer_unstack_1 (TensorFlowOpLayer)        [(None, 8, 8, 8, 256), (None, 8, 0                 tf_op_layer_stack[0][0]                           \n",
      "______________________________________________________________________________________________________________________________________________________\n",
      "global_average_pooling3d (GlobalAveragePooling3D (None, 256)                      0                 tf_op_layer_unstack_1[0][0]                       \n",
      "                                                                                                    tf_op_layer_unstack_1[0][1]                       \n",
      "                                                                                                    tf_op_layer_unstack_1[0][2]                       \n",
      "                                                                                                    tf_op_layer_unstack_1[0][3]                       \n",
      "                                                                                                    tf_op_layer_unstack_1[0][4]                       \n",
      "                                                                                                    tf_op_layer_unstack_1[0][5]                       \n",
      "                                                                                                    tf_op_layer_unstack_1[0][6]                       \n",
      "                                                                                                    tf_op_layer_unstack_1[0][7]                       \n",
      "                                                                                                    tf_op_layer_unstack_1[0][8]                       \n",
      "                                                                                                    tf_op_layer_unstack_1[0][9]                       \n",
      "                                                                                                    tf_op_layer_unstack_1[0][10]                      \n",
      "                                                                                                    tf_op_layer_unstack_1[0][11]                      \n",
      "                                                                                                    tf_op_layer_unstack_1[0][12]                      \n",
      "                                                                                                    tf_op_layer_unstack_1[0][13]                      \n",
      "                                                                                                    tf_op_layer_unstack_1[0][14]                      \n",
      "                                                                                                    tf_op_layer_unstack_1[0][15]                      \n",
      "                                                                                                    tf_op_layer_unstack_1[0][16]                      \n",
      "                                                                                                    tf_op_layer_unstack_1[0][17]                      \n",
      "                                                                                                    tf_op_layer_unstack_1[0][18]                      \n",
      "                                                                                                    tf_op_layer_unstack_1[0][19]                      \n",
      "                                                                                                    tf_op_layer_unstack_1[0][20]                      \n",
      "                                                                                                    tf_op_layer_unstack_1[0][21]                      \n",
      "                                                                                                    tf_op_layer_unstack_1[0][22]                      \n",
      "                                                                                                    tf_op_layer_unstack_1[0][23]                      \n",
      "                                                                                                    tf_op_layer_unstack_1[0][24]                      \n",
      "                                                                                                    tf_op_layer_unstack_1[0][25]                      \n",
      "                                                                                                    tf_op_layer_unstack_1[0][26]                      \n",
      "                                                                                                    tf_op_layer_unstack_1[0][27]                      \n",
      "                                                                                                    tf_op_layer_unstack_1[0][28]                      \n",
      "                                                                                                    tf_op_layer_unstack_1[0][29]                      \n",
      "                                                                                                    tf_op_layer_unstack_1[0][30]                      \n",
      "                                                                                                    tf_op_layer_unstack_1[0][31]                      \n",
      "                                                                                                    tf_op_layer_unstack_1[0][32]                      \n",
      "                                                                                                    tf_op_layer_unstack_1[0][33]                      \n",
      "                                                                                                    tf_op_layer_unstack_1[0][34]                      \n",
      "                                                                                                    tf_op_layer_unstack_1[0][35]                      \n",
      "______________________________________________________________________________________________________________________________________________________\n",
      "tf_op_layer_stack_1 (TensorFlowOpLayer)          [(None, 36, 256)]                0                 global_average_pooling3d[0][0]                    \n",
      "                                                                                                    global_average_pooling3d[1][0]                    \n",
      "                                                                                                    global_average_pooling3d[2][0]                    \n",
      "                                                                                                    global_average_pooling3d[3][0]                    \n",
      "                                                                                                    global_average_pooling3d[4][0]                    \n",
      "                                                                                                    global_average_pooling3d[5][0]                    \n",
      "                                                                                                    global_average_pooling3d[6][0]                    \n",
      "                                                                                                    global_average_pooling3d[7][0]                    \n",
      "                                                                                                    global_average_pooling3d[8][0]                    \n",
      "                                                                                                    global_average_pooling3d[9][0]                    \n",
      "                                                                                                    global_average_pooling3d[10][0]                   \n",
      "                                                                                                    global_average_pooling3d[11][0]                   \n",
      "                                                                                                    global_average_pooling3d[12][0]                   \n",
      "                                                                                                    global_average_pooling3d[13][0]                   \n",
      "                                                                                                    global_average_pooling3d[14][0]                   \n",
      "                                                                                                    global_average_pooling3d[15][0]                   \n",
      "                                                                                                    global_average_pooling3d[16][0]                   \n",
      "                                                                                                    global_average_pooling3d[17][0]                   \n",
      "                                                                                                    global_average_pooling3d[18][0]                   \n",
      "                                                                                                    global_average_pooling3d[19][0]                   \n",
      "                                                                                                    global_average_pooling3d[20][0]                   \n",
      "                                                                                                    global_average_pooling3d[21][0]                   \n",
      "                                                                                                    global_average_pooling3d[22][0]                   \n",
      "                                                                                                    global_average_pooling3d[23][0]                   \n",
      "                                                                                                    global_average_pooling3d[24][0]                   \n",
      "                                                                                                    global_average_pooling3d[25][0]                   \n",
      "                                                                                                    global_average_pooling3d[26][0]                   \n",
      "                                                                                                    global_average_pooling3d[27][0]                   \n",
      "                                                                                                    global_average_pooling3d[28][0]                   \n",
      "                                                                                                    global_average_pooling3d[29][0]                   \n",
      "                                                                                                    global_average_pooling3d[30][0]                   \n",
      "                                                                                                    global_average_pooling3d[31][0]                   \n",
      "                                                                                                    global_average_pooling3d[32][0]                   \n",
      "                                                                                                    global_average_pooling3d[33][0]                   \n",
      "                                                                                                    global_average_pooling3d[34][0]                   \n",
      "                                                                                                    global_average_pooling3d[35][0]                   \n",
      "______________________________________________________________________________________________________________________________________________________\n",
      "batch_normalization_16 (BatchNormalization)      (None, 36, 256)                  1024              tf_op_layer_stack_1[0][0]                         \n",
      "______________________________________________________________________________________________________________________________________________________\n",
      "dropout_8 (Dropout)                              (None, 36, 256)                  0                 batch_normalization_16[0][0]                      \n",
      "______________________________________________________________________________________________________________________________________________________\n",
      "bidirectional (Bidirectional)                    (None, 36, 64)                   73984             dropout_8[0][0]                                   \n",
      "______________________________________________________________________________________________________________________________________________________\n",
      "batch_normalization_17 (BatchNormalization)      (None, 36, 64)                   256               bidirectional[0][0]                               \n",
      "______________________________________________________________________________________________________________________________________________________\n",
      "dropout_9 (Dropout)                              (None, 36, 64)                   0                 batch_normalization_17[0][0]                      \n",
      "______________________________________________________________________________________________________________________________________________________\n",
      "conv1d (Conv1D)                                  (None, 36, 5)                    1605              dropout_9[0][0]                                   \n",
      "______________________________________________________________________________________________________________________________________________________\n",
      "batch_normalization_18 (BatchNormalization)      (None, 36, 5)                    20                conv1d[0][0]                                      \n",
      "______________________________________________________________________________________________________________________________________________________\n",
      "conv1d_1 (Conv1D)                                (None, 36, 5)                    30                batch_normalization_18[0][0]                      \n",
      "======================================================================================================================================================\n",
      "Total params: 3,593,879\n",
      "Trainable params: 3,591,309\n",
      "Non-trainable params: 2,570\n",
      "______________________________________________________________________________________________________________________________________________________\n"
     ]
    }
   ],
   "source": [
    "model.summary(line_length=150)"
   ]
  },
  {
   "cell_type": "code",
   "execution_count": 13,
   "metadata": {},
   "outputs": [
    {
     "name": "stderr",
     "output_type": "stream",
     "text": [
      "2021-02-23 11:38:06,347 INFO feed 4 Tensorboard is ready\n"
     ]
    },
    {
     "name": "stdout",
     "output_type": "stream",
     "text": [
      "Epoch 1/200\n",
      "(None,)\n"
     ]
    },
    {
     "ename": "OperatorNotAllowedInGraphError",
     "evalue": "in user code:\n\n    /home/sven/anaconda3/envs/dcmr/lib/python3.8/site-packages/tensorflow/python/keras/engine/training.py:806 train_function  *\n        return step_function(self, iterator)\n    /mnt/ssd/git/dynamic-cmr-models/src/utils/Metrics.py:58 true_fn  *\n        diffs = tf.stack([tf.stack(get_min_dist_for_list(gt_idx[i],pred_idx[i], batchsize)) for i in tf.range(batchsize)])\n    /home/sven/anaconda3/envs/dcmr/lib/python3.8/site-packages/tensorflow/python/framework/ops.py:503 __iter__\n        self._disallow_iteration()\n    /home/sven/anaconda3/envs/dcmr/lib/python3.8/site-packages/tensorflow/python/framework/ops.py:496 _disallow_iteration\n        self._disallow_when_autograph_enabled(\"iterating over `tf.Tensor`\")\n    /home/sven/anaconda3/envs/dcmr/lib/python3.8/site-packages/tensorflow/python/framework/ops.py:472 _disallow_when_autograph_enabled\n        raise errors.OperatorNotAllowedInGraphError(\n\n    OperatorNotAllowedInGraphError: iterating over `tf.Tensor` is not allowed: AutoGraph did convert this function. This might indicate you are trying to use an unsupported feature.\n",
     "output_type": "error",
     "traceback": [
      "\u001b[0;31m---------------------------------------------------------------------------\u001b[0m",
      "\u001b[0;31mOperatorNotAllowedInGraphError\u001b[0m            Traceback (most recent call last)",
      "\u001b[0;32m<ipython-input-13-6ee746ff37cc>\u001b[0m in \u001b[0;36m<module>\u001b[0;34m\u001b[0m\n\u001b[1;32m      1\u001b[0m \u001b[0minitial_epoch\u001b[0m \u001b[0;34m=\u001b[0m \u001b[0;36m0\u001b[0m\u001b[0;34m\u001b[0m\u001b[0;34m\u001b[0m\u001b[0m\n\u001b[1;32m      2\u001b[0m \u001b[0;34m\u001b[0m\u001b[0m\n\u001b[0;32m----> 3\u001b[0;31m results = model.fit(\n\u001b[0m\u001b[1;32m      4\u001b[0m     \u001b[0mx\u001b[0m\u001b[0;34m=\u001b[0m\u001b[0mbatch_generator\u001b[0m\u001b[0;34m,\u001b[0m\u001b[0;34m\u001b[0m\u001b[0;34m\u001b[0m\u001b[0m\n\u001b[1;32m      5\u001b[0m     \u001b[0;31m#steps_per_epoch=len(batch_generator),\u001b[0m\u001b[0;34m\u001b[0m\u001b[0;34m\u001b[0m\u001b[0;34m\u001b[0m\u001b[0m\n",
      "\u001b[0;32m~/anaconda3/envs/dcmr/lib/python3.8/site-packages/tensorflow/python/keras/engine/training.py\u001b[0m in \u001b[0;36m_method_wrapper\u001b[0;34m(self, *args, **kwargs)\u001b[0m\n\u001b[1;32m    106\u001b[0m   \u001b[0;32mdef\u001b[0m \u001b[0m_method_wrapper\u001b[0m\u001b[0;34m(\u001b[0m\u001b[0mself\u001b[0m\u001b[0;34m,\u001b[0m \u001b[0;34m*\u001b[0m\u001b[0margs\u001b[0m\u001b[0;34m,\u001b[0m \u001b[0;34m**\u001b[0m\u001b[0mkwargs\u001b[0m\u001b[0;34m)\u001b[0m\u001b[0;34m:\u001b[0m\u001b[0;34m\u001b[0m\u001b[0;34m\u001b[0m\u001b[0m\n\u001b[1;32m    107\u001b[0m     \u001b[0;32mif\u001b[0m \u001b[0;32mnot\u001b[0m \u001b[0mself\u001b[0m\u001b[0;34m.\u001b[0m\u001b[0m_in_multi_worker_mode\u001b[0m\u001b[0;34m(\u001b[0m\u001b[0;34m)\u001b[0m\u001b[0;34m:\u001b[0m  \u001b[0;31m# pylint: disable=protected-access\u001b[0m\u001b[0;34m\u001b[0m\u001b[0;34m\u001b[0m\u001b[0m\n\u001b[0;32m--> 108\u001b[0;31m       \u001b[0;32mreturn\u001b[0m \u001b[0mmethod\u001b[0m\u001b[0;34m(\u001b[0m\u001b[0mself\u001b[0m\u001b[0;34m,\u001b[0m \u001b[0;34m*\u001b[0m\u001b[0margs\u001b[0m\u001b[0;34m,\u001b[0m \u001b[0;34m**\u001b[0m\u001b[0mkwargs\u001b[0m\u001b[0;34m)\u001b[0m\u001b[0;34m\u001b[0m\u001b[0;34m\u001b[0m\u001b[0m\n\u001b[0m\u001b[1;32m    109\u001b[0m \u001b[0;34m\u001b[0m\u001b[0m\n\u001b[1;32m    110\u001b[0m     \u001b[0;31m# Running inside `run_distribute_coordinator` already.\u001b[0m\u001b[0;34m\u001b[0m\u001b[0;34m\u001b[0m\u001b[0;34m\u001b[0m\u001b[0m\n",
      "\u001b[0;32m~/anaconda3/envs/dcmr/lib/python3.8/site-packages/tensorflow/python/keras/engine/training.py\u001b[0m in \u001b[0;36mfit\u001b[0;34m(self, x, y, batch_size, epochs, verbose, callbacks, validation_split, validation_data, shuffle, class_weight, sample_weight, initial_epoch, steps_per_epoch, validation_steps, validation_batch_size, validation_freq, max_queue_size, workers, use_multiprocessing)\u001b[0m\n\u001b[1;32m   1096\u001b[0m                 batch_size=batch_size):\n\u001b[1;32m   1097\u001b[0m               \u001b[0mcallbacks\u001b[0m\u001b[0;34m.\u001b[0m\u001b[0mon_train_batch_begin\u001b[0m\u001b[0;34m(\u001b[0m\u001b[0mstep\u001b[0m\u001b[0;34m)\u001b[0m\u001b[0;34m\u001b[0m\u001b[0;34m\u001b[0m\u001b[0m\n\u001b[0;32m-> 1098\u001b[0;31m               \u001b[0mtmp_logs\u001b[0m \u001b[0;34m=\u001b[0m \u001b[0mtrain_function\u001b[0m\u001b[0;34m(\u001b[0m\u001b[0miterator\u001b[0m\u001b[0;34m)\u001b[0m\u001b[0;34m\u001b[0m\u001b[0;34m\u001b[0m\u001b[0m\n\u001b[0m\u001b[1;32m   1099\u001b[0m               \u001b[0;32mif\u001b[0m \u001b[0mdata_handler\u001b[0m\u001b[0;34m.\u001b[0m\u001b[0mshould_sync\u001b[0m\u001b[0;34m:\u001b[0m\u001b[0;34m\u001b[0m\u001b[0;34m\u001b[0m\u001b[0m\n\u001b[1;32m   1100\u001b[0m                 \u001b[0mcontext\u001b[0m\u001b[0;34m.\u001b[0m\u001b[0masync_wait\u001b[0m\u001b[0;34m(\u001b[0m\u001b[0;34m)\u001b[0m\u001b[0;34m\u001b[0m\u001b[0;34m\u001b[0m\u001b[0m\n",
      "\u001b[0;32m~/anaconda3/envs/dcmr/lib/python3.8/site-packages/tensorflow/python/eager/def_function.py\u001b[0m in \u001b[0;36m__call__\u001b[0;34m(self, *args, **kwds)\u001b[0m\n\u001b[1;32m    778\u001b[0m       \u001b[0;32melse\u001b[0m\u001b[0;34m:\u001b[0m\u001b[0;34m\u001b[0m\u001b[0;34m\u001b[0m\u001b[0m\n\u001b[1;32m    779\u001b[0m         \u001b[0mcompiler\u001b[0m \u001b[0;34m=\u001b[0m \u001b[0;34m\"nonXla\"\u001b[0m\u001b[0;34m\u001b[0m\u001b[0;34m\u001b[0m\u001b[0m\n\u001b[0;32m--> 780\u001b[0;31m         \u001b[0mresult\u001b[0m \u001b[0;34m=\u001b[0m \u001b[0mself\u001b[0m\u001b[0;34m.\u001b[0m\u001b[0m_call\u001b[0m\u001b[0;34m(\u001b[0m\u001b[0;34m*\u001b[0m\u001b[0margs\u001b[0m\u001b[0;34m,\u001b[0m \u001b[0;34m**\u001b[0m\u001b[0mkwds\u001b[0m\u001b[0;34m)\u001b[0m\u001b[0;34m\u001b[0m\u001b[0;34m\u001b[0m\u001b[0m\n\u001b[0m\u001b[1;32m    781\u001b[0m \u001b[0;34m\u001b[0m\u001b[0m\n\u001b[1;32m    782\u001b[0m       \u001b[0mnew_tracing_count\u001b[0m \u001b[0;34m=\u001b[0m \u001b[0mself\u001b[0m\u001b[0;34m.\u001b[0m\u001b[0m_get_tracing_count\u001b[0m\u001b[0;34m(\u001b[0m\u001b[0;34m)\u001b[0m\u001b[0;34m\u001b[0m\u001b[0;34m\u001b[0m\u001b[0m\n",
      "\u001b[0;32m~/anaconda3/envs/dcmr/lib/python3.8/site-packages/tensorflow/python/eager/def_function.py\u001b[0m in \u001b[0;36m_call\u001b[0;34m(self, *args, **kwds)\u001b[0m\n\u001b[1;32m    821\u001b[0m       \u001b[0;31m# This is the first call of __call__, so we have to initialize.\u001b[0m\u001b[0;34m\u001b[0m\u001b[0;34m\u001b[0m\u001b[0;34m\u001b[0m\u001b[0m\n\u001b[1;32m    822\u001b[0m       \u001b[0minitializers\u001b[0m \u001b[0;34m=\u001b[0m \u001b[0;34m[\u001b[0m\u001b[0;34m]\u001b[0m\u001b[0;34m\u001b[0m\u001b[0;34m\u001b[0m\u001b[0m\n\u001b[0;32m--> 823\u001b[0;31m       \u001b[0mself\u001b[0m\u001b[0;34m.\u001b[0m\u001b[0m_initialize\u001b[0m\u001b[0;34m(\u001b[0m\u001b[0margs\u001b[0m\u001b[0;34m,\u001b[0m \u001b[0mkwds\u001b[0m\u001b[0;34m,\u001b[0m \u001b[0madd_initializers_to\u001b[0m\u001b[0;34m=\u001b[0m\u001b[0minitializers\u001b[0m\u001b[0;34m)\u001b[0m\u001b[0;34m\u001b[0m\u001b[0;34m\u001b[0m\u001b[0m\n\u001b[0m\u001b[1;32m    824\u001b[0m     \u001b[0;32mfinally\u001b[0m\u001b[0;34m:\u001b[0m\u001b[0;34m\u001b[0m\u001b[0;34m\u001b[0m\u001b[0m\n\u001b[1;32m    825\u001b[0m       \u001b[0;31m# At this point we know that the initialization is complete (or less\u001b[0m\u001b[0;34m\u001b[0m\u001b[0;34m\u001b[0m\u001b[0;34m\u001b[0m\u001b[0m\n",
      "\u001b[0;32m~/anaconda3/envs/dcmr/lib/python3.8/site-packages/tensorflow/python/eager/def_function.py\u001b[0m in \u001b[0;36m_initialize\u001b[0;34m(self, args, kwds, add_initializers_to)\u001b[0m\n\u001b[1;32m    694\u001b[0m     \u001b[0mself\u001b[0m\u001b[0;34m.\u001b[0m\u001b[0m_graph_deleter\u001b[0m \u001b[0;34m=\u001b[0m \u001b[0mFunctionDeleter\u001b[0m\u001b[0;34m(\u001b[0m\u001b[0mself\u001b[0m\u001b[0;34m.\u001b[0m\u001b[0m_lifted_initializer_graph\u001b[0m\u001b[0;34m)\u001b[0m\u001b[0;34m\u001b[0m\u001b[0;34m\u001b[0m\u001b[0m\n\u001b[1;32m    695\u001b[0m     self._concrete_stateful_fn = (\n\u001b[0;32m--> 696\u001b[0;31m         self._stateful_fn._get_concrete_function_internal_garbage_collected(  # pylint: disable=protected-access\n\u001b[0m\u001b[1;32m    697\u001b[0m             *args, **kwds))\n\u001b[1;32m    698\u001b[0m \u001b[0;34m\u001b[0m\u001b[0m\n",
      "\u001b[0;32m~/anaconda3/envs/dcmr/lib/python3.8/site-packages/tensorflow/python/eager/function.py\u001b[0m in \u001b[0;36m_get_concrete_function_internal_garbage_collected\u001b[0;34m(self, *args, **kwargs)\u001b[0m\n\u001b[1;32m   2853\u001b[0m       \u001b[0margs\u001b[0m\u001b[0;34m,\u001b[0m \u001b[0mkwargs\u001b[0m \u001b[0;34m=\u001b[0m \u001b[0;32mNone\u001b[0m\u001b[0;34m,\u001b[0m \u001b[0;32mNone\u001b[0m\u001b[0;34m\u001b[0m\u001b[0;34m\u001b[0m\u001b[0m\n\u001b[1;32m   2854\u001b[0m     \u001b[0;32mwith\u001b[0m \u001b[0mself\u001b[0m\u001b[0;34m.\u001b[0m\u001b[0m_lock\u001b[0m\u001b[0;34m:\u001b[0m\u001b[0;34m\u001b[0m\u001b[0;34m\u001b[0m\u001b[0m\n\u001b[0;32m-> 2855\u001b[0;31m       \u001b[0mgraph_function\u001b[0m\u001b[0;34m,\u001b[0m \u001b[0m_\u001b[0m\u001b[0;34m,\u001b[0m \u001b[0m_\u001b[0m \u001b[0;34m=\u001b[0m \u001b[0mself\u001b[0m\u001b[0;34m.\u001b[0m\u001b[0m_maybe_define_function\u001b[0m\u001b[0;34m(\u001b[0m\u001b[0margs\u001b[0m\u001b[0;34m,\u001b[0m \u001b[0mkwargs\u001b[0m\u001b[0;34m)\u001b[0m\u001b[0;34m\u001b[0m\u001b[0;34m\u001b[0m\u001b[0m\n\u001b[0m\u001b[1;32m   2856\u001b[0m     \u001b[0;32mreturn\u001b[0m \u001b[0mgraph_function\u001b[0m\u001b[0;34m\u001b[0m\u001b[0;34m\u001b[0m\u001b[0m\n\u001b[1;32m   2857\u001b[0m \u001b[0;34m\u001b[0m\u001b[0m\n",
      "\u001b[0;32m~/anaconda3/envs/dcmr/lib/python3.8/site-packages/tensorflow/python/eager/function.py\u001b[0m in \u001b[0;36m_maybe_define_function\u001b[0;34m(self, args, kwargs)\u001b[0m\n\u001b[1;32m   3211\u001b[0m \u001b[0;34m\u001b[0m\u001b[0m\n\u001b[1;32m   3212\u001b[0m       \u001b[0mself\u001b[0m\u001b[0;34m.\u001b[0m\u001b[0m_function_cache\u001b[0m\u001b[0;34m.\u001b[0m\u001b[0mmissed\u001b[0m\u001b[0;34m.\u001b[0m\u001b[0madd\u001b[0m\u001b[0;34m(\u001b[0m\u001b[0mcall_context_key\u001b[0m\u001b[0;34m)\u001b[0m\u001b[0;34m\u001b[0m\u001b[0;34m\u001b[0m\u001b[0m\n\u001b[0;32m-> 3213\u001b[0;31m       \u001b[0mgraph_function\u001b[0m \u001b[0;34m=\u001b[0m \u001b[0mself\u001b[0m\u001b[0;34m.\u001b[0m\u001b[0m_create_graph_function\u001b[0m\u001b[0;34m(\u001b[0m\u001b[0margs\u001b[0m\u001b[0;34m,\u001b[0m \u001b[0mkwargs\u001b[0m\u001b[0;34m)\u001b[0m\u001b[0;34m\u001b[0m\u001b[0;34m\u001b[0m\u001b[0m\n\u001b[0m\u001b[1;32m   3214\u001b[0m       \u001b[0mself\u001b[0m\u001b[0;34m.\u001b[0m\u001b[0m_function_cache\u001b[0m\u001b[0;34m.\u001b[0m\u001b[0mprimary\u001b[0m\u001b[0;34m[\u001b[0m\u001b[0mcache_key\u001b[0m\u001b[0;34m]\u001b[0m \u001b[0;34m=\u001b[0m \u001b[0mgraph_function\u001b[0m\u001b[0;34m\u001b[0m\u001b[0;34m\u001b[0m\u001b[0m\n\u001b[1;32m   3215\u001b[0m       \u001b[0;32mreturn\u001b[0m \u001b[0mgraph_function\u001b[0m\u001b[0;34m,\u001b[0m \u001b[0margs\u001b[0m\u001b[0;34m,\u001b[0m \u001b[0mkwargs\u001b[0m\u001b[0;34m\u001b[0m\u001b[0;34m\u001b[0m\u001b[0m\n",
      "\u001b[0;32m~/anaconda3/envs/dcmr/lib/python3.8/site-packages/tensorflow/python/eager/function.py\u001b[0m in \u001b[0;36m_create_graph_function\u001b[0;34m(self, args, kwargs, override_flat_arg_shapes)\u001b[0m\n\u001b[1;32m   3063\u001b[0m     \u001b[0marg_names\u001b[0m \u001b[0;34m=\u001b[0m \u001b[0mbase_arg_names\u001b[0m \u001b[0;34m+\u001b[0m \u001b[0mmissing_arg_names\u001b[0m\u001b[0;34m\u001b[0m\u001b[0;34m\u001b[0m\u001b[0m\n\u001b[1;32m   3064\u001b[0m     graph_function = ConcreteFunction(\n\u001b[0;32m-> 3065\u001b[0;31m         func_graph_module.func_graph_from_py_func(\n\u001b[0m\u001b[1;32m   3066\u001b[0m             \u001b[0mself\u001b[0m\u001b[0;34m.\u001b[0m\u001b[0m_name\u001b[0m\u001b[0;34m,\u001b[0m\u001b[0;34m\u001b[0m\u001b[0;34m\u001b[0m\u001b[0m\n\u001b[1;32m   3067\u001b[0m             \u001b[0mself\u001b[0m\u001b[0;34m.\u001b[0m\u001b[0m_python_function\u001b[0m\u001b[0;34m,\u001b[0m\u001b[0;34m\u001b[0m\u001b[0;34m\u001b[0m\u001b[0m\n",
      "\u001b[0;32m~/anaconda3/envs/dcmr/lib/python3.8/site-packages/tensorflow/python/framework/func_graph.py\u001b[0m in \u001b[0;36mfunc_graph_from_py_func\u001b[0;34m(name, python_func, args, kwargs, signature, func_graph, autograph, autograph_options, add_control_dependencies, arg_names, op_return_value, collections, capture_by_value, override_flat_arg_shapes)\u001b[0m\n\u001b[1;32m    984\u001b[0m         \u001b[0m_\u001b[0m\u001b[0;34m,\u001b[0m \u001b[0moriginal_func\u001b[0m \u001b[0;34m=\u001b[0m \u001b[0mtf_decorator\u001b[0m\u001b[0;34m.\u001b[0m\u001b[0munwrap\u001b[0m\u001b[0;34m(\u001b[0m\u001b[0mpython_func\u001b[0m\u001b[0;34m)\u001b[0m\u001b[0;34m\u001b[0m\u001b[0;34m\u001b[0m\u001b[0m\n\u001b[1;32m    985\u001b[0m \u001b[0;34m\u001b[0m\u001b[0m\n\u001b[0;32m--> 986\u001b[0;31m       \u001b[0mfunc_outputs\u001b[0m \u001b[0;34m=\u001b[0m \u001b[0mpython_func\u001b[0m\u001b[0;34m(\u001b[0m\u001b[0;34m*\u001b[0m\u001b[0mfunc_args\u001b[0m\u001b[0;34m,\u001b[0m \u001b[0;34m**\u001b[0m\u001b[0mfunc_kwargs\u001b[0m\u001b[0;34m)\u001b[0m\u001b[0;34m\u001b[0m\u001b[0;34m\u001b[0m\u001b[0m\n\u001b[0m\u001b[1;32m    987\u001b[0m \u001b[0;34m\u001b[0m\u001b[0m\n\u001b[1;32m    988\u001b[0m       \u001b[0;31m# invariant: `func_outputs` contains only Tensors, CompositeTensors,\u001b[0m\u001b[0;34m\u001b[0m\u001b[0;34m\u001b[0m\u001b[0;34m\u001b[0m\u001b[0m\n",
      "\u001b[0;32m~/anaconda3/envs/dcmr/lib/python3.8/site-packages/tensorflow/python/eager/def_function.py\u001b[0m in \u001b[0;36mwrapped_fn\u001b[0;34m(*args, **kwds)\u001b[0m\n\u001b[1;32m    598\u001b[0m         \u001b[0;31m# __wrapped__ allows AutoGraph to swap in a converted function. We give\u001b[0m\u001b[0;34m\u001b[0m\u001b[0;34m\u001b[0m\u001b[0;34m\u001b[0m\u001b[0m\n\u001b[1;32m    599\u001b[0m         \u001b[0;31m# the function a weak reference to itself to avoid a reference cycle.\u001b[0m\u001b[0;34m\u001b[0m\u001b[0;34m\u001b[0m\u001b[0;34m\u001b[0m\u001b[0m\n\u001b[0;32m--> 600\u001b[0;31m         \u001b[0;32mreturn\u001b[0m \u001b[0mweak_wrapped_fn\u001b[0m\u001b[0;34m(\u001b[0m\u001b[0;34m)\u001b[0m\u001b[0;34m.\u001b[0m\u001b[0m__wrapped__\u001b[0m\u001b[0;34m(\u001b[0m\u001b[0;34m*\u001b[0m\u001b[0margs\u001b[0m\u001b[0;34m,\u001b[0m \u001b[0;34m**\u001b[0m\u001b[0mkwds\u001b[0m\u001b[0;34m)\u001b[0m\u001b[0;34m\u001b[0m\u001b[0;34m\u001b[0m\u001b[0m\n\u001b[0m\u001b[1;32m    601\u001b[0m     \u001b[0mweak_wrapped_fn\u001b[0m \u001b[0;34m=\u001b[0m \u001b[0mweakref\u001b[0m\u001b[0;34m.\u001b[0m\u001b[0mref\u001b[0m\u001b[0;34m(\u001b[0m\u001b[0mwrapped_fn\u001b[0m\u001b[0;34m)\u001b[0m\u001b[0;34m\u001b[0m\u001b[0;34m\u001b[0m\u001b[0m\n\u001b[1;32m    602\u001b[0m \u001b[0;34m\u001b[0m\u001b[0m\n",
      "\u001b[0;32m~/anaconda3/envs/dcmr/lib/python3.8/site-packages/tensorflow/python/framework/func_graph.py\u001b[0m in \u001b[0;36mwrapper\u001b[0;34m(*args, **kwargs)\u001b[0m\n\u001b[1;32m    971\u001b[0m           \u001b[0;32mexcept\u001b[0m \u001b[0mException\u001b[0m \u001b[0;32mas\u001b[0m \u001b[0me\u001b[0m\u001b[0;34m:\u001b[0m  \u001b[0;31m# pylint:disable=broad-except\u001b[0m\u001b[0;34m\u001b[0m\u001b[0;34m\u001b[0m\u001b[0m\n\u001b[1;32m    972\u001b[0m             \u001b[0;32mif\u001b[0m \u001b[0mhasattr\u001b[0m\u001b[0;34m(\u001b[0m\u001b[0me\u001b[0m\u001b[0;34m,\u001b[0m \u001b[0;34m\"ag_error_metadata\"\u001b[0m\u001b[0;34m)\u001b[0m\u001b[0;34m:\u001b[0m\u001b[0;34m\u001b[0m\u001b[0;34m\u001b[0m\u001b[0m\n\u001b[0;32m--> 973\u001b[0;31m               \u001b[0;32mraise\u001b[0m \u001b[0me\u001b[0m\u001b[0;34m.\u001b[0m\u001b[0mag_error_metadata\u001b[0m\u001b[0;34m.\u001b[0m\u001b[0mto_exception\u001b[0m\u001b[0;34m(\u001b[0m\u001b[0me\u001b[0m\u001b[0;34m)\u001b[0m\u001b[0;34m\u001b[0m\u001b[0;34m\u001b[0m\u001b[0m\n\u001b[0m\u001b[1;32m    974\u001b[0m             \u001b[0;32melse\u001b[0m\u001b[0;34m:\u001b[0m\u001b[0;34m\u001b[0m\u001b[0;34m\u001b[0m\u001b[0m\n\u001b[1;32m    975\u001b[0m               \u001b[0;32mraise\u001b[0m\u001b[0;34m\u001b[0m\u001b[0;34m\u001b[0m\u001b[0m\n",
      "\u001b[0;31mOperatorNotAllowedInGraphError\u001b[0m: in user code:\n\n    /home/sven/anaconda3/envs/dcmr/lib/python3.8/site-packages/tensorflow/python/keras/engine/training.py:806 train_function  *\n        return step_function(self, iterator)\n    /mnt/ssd/git/dynamic-cmr-models/src/utils/Metrics.py:58 true_fn  *\n        diffs = tf.stack([tf.stack(get_min_dist_for_list(gt_idx[i],pred_idx[i], batchsize)) for i in tf.range(batchsize)])\n    /home/sven/anaconda3/envs/dcmr/lib/python3.8/site-packages/tensorflow/python/framework/ops.py:503 __iter__\n        self._disallow_iteration()\n    /home/sven/anaconda3/envs/dcmr/lib/python3.8/site-packages/tensorflow/python/framework/ops.py:496 _disallow_iteration\n        self._disallow_when_autograph_enabled(\"iterating over `tf.Tensor`\")\n    /home/sven/anaconda3/envs/dcmr/lib/python3.8/site-packages/tensorflow/python/framework/ops.py:472 _disallow_when_autograph_enabled\n        raise errors.OperatorNotAllowedInGraphError(\n\n    OperatorNotAllowedInGraphError: iterating over `tf.Tensor` is not allowed: AutoGraph did convert this function. This might indicate you are trying to use an unsupported feature.\n"
     ]
    }
   ],
   "source": [
    "initial_epoch = 0\n",
    "\n",
    "results = model.fit(\n",
    "    x=batch_generator,\n",
    "    #steps_per_epoch=len(batch_generator),\n",
    "    validation_data=validation_generator,\n",
    "    #validation_steps=len(validation_generator),\n",
    "    epochs=200,\n",
    "    callbacks = get_callbacks(config, batch_generator,validation_generator),\n",
    "    initial_epoch=initial_epoch,\n",
    "    max_queue_size=12,\n",
    "    #workers=2,\n",
    "    use_multiprocessing=False,\n",
    "    verbose=1)"
   ]
  },
  {
   "cell_type": "code",
   "execution_count": 13,
   "metadata": {},
   "outputs": [],
   "source": [
    "# predict the files from globals()['inputs']\n",
    "pred = model(inputs, training=False)"
   ]
  },
  {
   "cell_type": "code",
   "execution_count": 13,
   "metadata": {},
   "outputs": [
    {
     "name": "stdout",
     "output_type": "stream",
     "text": [
      "[[23  4  9 13 21]\n",
      " [ 0  5 10 15 17]\n",
      " [24  4  8 13 20]\n",
      " [ 0  6 12 17 18]]\n",
      "[23 17 24 18]\n"
     ]
    }
   ],
   "source": [
    "# get the true idx\n",
    "gt_idx = tf.math.argmax(outputs, axis=1).numpy()\n",
    "print(gt_idx)\n",
    "gt_max = gt_idx.max(axis=1).astype(int)\n",
    "print(gt_max)"
   ]
  },
  {
   "cell_type": "code",
   "execution_count": 15,
   "metadata": {
    "collapsed": true,
    "jupyter": {
     "outputs_hidden": true
    }
   },
   "outputs": [
    {
     "data": {
      "image/png": "[encoded data removed]",
      "text/plain": [
       "<Figure size 1440x360 with 8 Axes>"
      ]
     },
     "execution_count": 15,
     "metadata": {},
     "output_type": "execute_result"
    },
    {
     "data": {
      "image/png": "[encoded data removed]",
      "text/plain": [
       "<Figure size 1440x360 with 8 Axes>"
      ]
     },
     "metadata": {
      "needs_background": "light"
     },
     "output_type": "display_data"
    }
   ],
   "source": [
    "from src.visualization.Visualize import show_phases\n",
    "show_phases(outputs,pred)"
   ]
  },
  {
   "cell_type": "code",
   "execution_count": 22,
   "metadata": {},
   "outputs": [
    {
     "name": "stdout",
     "output_type": "stream",
     "text": [
      "(4,)\n",
      "(2, 5)\n",
      "(2, 5)\n",
      "(2, 5)\n",
      "(2, 5)\n"
     ]
    },
    {
     "data": {
      "text/plain": [
       "74.0"
      ]
     },
     "execution_count": 22,
     "metadata": {},
     "output_type": "execute_result"
    }
   ],
   "source": [
    "# calculate the meandiff score for one batch\n",
    "from src.utils.Metrics import meandiff\n",
    "score_fn = meandiff\n",
    "score_fn(outputs, outputs).numpy()"
   ]
  },
  {
   "cell_type": "code",
   "execution_count": 26,
   "metadata": {},
   "outputs": [
    {
     "data": {
      "text/plain": [
       "True"
      ]
     },
     "execution_count": 26,
     "metadata": {},
     "output_type": "execute_result"
    }
   ],
   "source": [
    "a = tf.convert_to_tensor(outputs)\n",
    "a.shape.as_list()[0] != None"
   ]
  },
  {
   "cell_type": "code",
   "execution_count": 21,
   "metadata": {},
   "outputs": [
    {
     "name": "stdout",
     "output_type": "stream",
     "text": [
      "[0, 1, 2, 3, 4, 5, 6, 7, 8, 9, 10, 11, 12, 13, 14, 15, 16, 17, 18]\n"
     ]
    },
    {
     "data": {
      "text/plain": [
       "5"
      ]
     },
     "execution_count": 21,
     "metadata": {},
     "output_type": "execute_result"
    }
   ],
   "source": [
    "def get_min_distance(a,b,mod):\n",
    "    decr_counter = 0\n",
    "    incr_counter = 0\n",
    "    \n",
    "    smaller = min(a,b)\n",
    "    bigger = max(a,b)\n",
    "\n",
    "    res = list(range(mod))\n",
    "    print(res)\n",
    "    i1 =bigger\n",
    "    while(res[i1]!=smaller):\n",
    "        decr_counter = decr_counter+1\n",
    "        i1 = i1-1\n",
    "\n",
    "    i1 = bigger\n",
    "    while(res[i1]!=smaller):\n",
    "        incr_counter = incr_counter+1\n",
    "        i1 = (i1+1)%mod\n",
    "\n",
    "    return min(decr_counter, incr_counter)\n",
    "    \n",
    "    \n",
    "get_min_distance(4,18,19)\n",
    "    "
   ]
  },
  {
   "cell_type": "code",
   "execution_count": 11,
   "metadata": {},
   "outputs": [
    {
     "ename": "NameError",
     "evalue": "name 'score_fn' is not defined",
     "output_type": "error",
     "traceback": [
      "\u001b[0;31m---------------------------------------------------------------------------\u001b[0m",
      "\u001b[0;31mNameError\u001b[0m                                 Traceback (most recent call last)",
      "\u001b[0;32m<ipython-input-11-95e7a099d497>\u001b[0m in \u001b[0;36m<module>\u001b[0;34m\u001b[0m\n\u001b[1;32m      4\u001b[0m     \u001b[0mx\u001b[0m\u001b[0;34m,\u001b[0m\u001b[0my\u001b[0m \u001b[0;34m=\u001b[0m \u001b[0mbatch\u001b[0m\u001b[0;34m\u001b[0m\u001b[0;34m\u001b[0m\u001b[0m\n\u001b[1;32m      5\u001b[0m     \u001b[0mp\u001b[0m \u001b[0;34m=\u001b[0m \u001b[0mmodel\u001b[0m\u001b[0;34m(\u001b[0m\u001b[0mx\u001b[0m\u001b[0;34m)\u001b[0m\u001b[0;34m\u001b[0m\u001b[0;34m\u001b[0m\u001b[0m\n\u001b[0;32m----> 6\u001b[0;31m     \u001b[0mscores\u001b[0m\u001b[0;34m.\u001b[0m\u001b[0mappend\u001b[0m\u001b[0;34m(\u001b[0m\u001b[0mscore_fn\u001b[0m\u001b[0;34m(\u001b[0m\u001b[0my\u001b[0m\u001b[0;34m,\u001b[0m\u001b[0mp\u001b[0m\u001b[0;34m)\u001b[0m\u001b[0;34m)\u001b[0m\u001b[0;34m\u001b[0m\u001b[0;34m\u001b[0m\u001b[0m\n\u001b[0m\u001b[1;32m      7\u001b[0m \u001b[0mscores\u001b[0m\u001b[0;34m\u001b[0m\u001b[0;34m\u001b[0m\u001b[0m\n",
      "\u001b[0;31mNameError\u001b[0m: name 'score_fn' is not defined"
     ]
    }
   ],
   "source": [
    "# calculate the meandiff score for all batches\n",
    "scores = []\n",
    "for batch in validation_generator:\n",
    "    x,y = batch\n",
    "    p = model(x)\n",
    "    scores.append(score_fn(y,p))\n",
    "scores"
   ]
  },
  {
   "cell_type": "code",
   "execution_count": 37,
   "metadata": {},
   "outputs": [
    {
     "data": {
      "text/plain": [
       "2.375"
      ]
     },
     "execution_count": 37,
     "metadata": {},
     "output_type": "execute_result"
    }
   ],
   "source": [
    "tf.reduce_mean(scores).numpy()"
   ]
  },
  {
   "cell_type": "markdown",
   "metadata": {},
   "source": [
    "# Generator tests"
   ]
  },
  {
   "cell_type": "code",
   "execution_count": 9,
   "metadata": {},
   "outputs": [
    {
     "data": {
      "text/plain": [
       "<matplotlib.image.AxesImage at 0x7f48c0042160>"
      ]
     },
     "execution_count": 9,
     "metadata": {},
     "output_type": "execute_result"
    },
    {
     "data": {
      "image/png": "[encoded data removed]",
      "text/plain": [
       "<Figure size 432x288 with 1 Axes>"
      ]
     },
     "metadata": {
      "needs_background": "light"
     },
     "output_type": "display_data"
    }
   ],
   "source": [
    "temp = outputs[2][:]\n",
    "plt.imshow(temp)"
   ]
  },
  {
   "cell_type": "code",
   "execution_count": 16,
   "metadata": {
    "collapsed": true,
    "jupyter": {
     "outputs_hidden": true
    }
   },
   "outputs": [
    {
     "data": {
      "image/png": "[encoded data removed]",
      "text/plain": [
       "<IPython.core.display.Image object>"
      ]
     },
     "execution_count": 16,
     "metadata": {},
     "output_type": "execute_result"
    }
   ],
   "source": [
    "tf.keras.utils.plot_model(\n",
    "    model, show_shapes=False,\n",
    "    show_layer_names=True, rankdir='TB', expand_nested=True, dpi=96\n",
    ")"
   ]
  },
  {
   "cell_type": "code",
   "execution_count": 19,
   "metadata": {},
   "outputs": [
    {
     "data": {
      "text/plain": [
       "1.75"
      ]
     },
     "execution_count": 19,
     "metadata": {},
     "output_type": "execute_result"
    }
   ],
   "source": [
    "score_fn = meandiff_\n",
    "score_fn(outputs, pred).numpy()"
   ]
  },
  {
   "cell_type": "code",
   "execution_count": 18,
   "metadata": {},
   "outputs": [],
   "source": [
    "def meandiff_( y_true, y_pred, batchsize=4):\n",
    "\n",
    "    \"\"\"\n",
    "    Average over the batches\n",
    "    the sum of the absolute difference between two arrays\n",
    "    y_true and y_pred are one-hot vectors with the following shape\n",
    "    batchsize * timesteps * phase classes\n",
    "    e.g.: 4 * 36 * 5\n",
    "    First for gt and pred:\n",
    "    - get the timesteps per phase with the highest probability\n",
    "    - get the absolute difference between gt and pred\n",
    "    (- later we can slice each patient by the max value in the corresponding gt indices)\n",
    "    - sum the diff per entity\n",
    "    - calc the mean over all examples\n",
    "\n",
    "    Parameters\n",
    "    ----------\n",
    "    y_true :\n",
    "    y_pred :\n",
    "\n",
    "    Returns tf.float32 scalar\n",
    "    -------\n",
    "\n",
    "    \"\"\"\n",
    "\n",
    "    score = 0\n",
    "    y_true = tf.cast(tf.convert_to_tensor(y_true), tf.float32)\n",
    "    y_pred = tf.cast(tf.convert_to_tensor(y_pred), tf.float32)\n",
    "\n",
    "    gt_idxs = tf.math.argmax(y_true, axis=1)\n",
    "    gt_max = tf.cast(tf.reduce_max(gt_idxs, axis=1), tf.int32)\n",
    "    padded_pred = []\n",
    "    padded_gt = []\n",
    "\n",
    "    msk = tf.stack([\n",
    "        tf.pad(tf.ones((gt_max[i],5)), ((0,36-gt_max[i]),(0,0)))\n",
    "        for i in range(batchsize)])\n",
    "    #msk = tf.zeros_like(y_pred)\n",
    "    #msk[:,:tf.reduce_max(gt_max), :] = 1\n",
    "\n",
    "    temp_pred = y_pred * msk\n",
    "    temp_gt = y_true * msk\n",
    "\n",
    "    #y_pred = tf.unstack(y_pred, axis=0)\n",
    "    #y_true = tf.unstack(y_true, axis=0)\n",
    "\n",
    "    \"\"\"def pad_to_size(p, max_id):\n",
    "        to_pad = p.shape[0] - max_id\n",
    "        print(p.shape[0])\n",
    "        print(max_id)\n",
    "        print(to_pad)\n",
    "        return tf.pad(p, [[0,to_pad],[0,0]])\n",
    "\n",
    "    padded_pred = list(map(lambda x : pad_to_size(x[0], x[1]), zip(y_pred, gt_max)))\n",
    "    padded_gt = list(map(lambda x: pad_to_size(x[0], x[1]), zip(y_true, gt_max)))\"\"\"\n",
    "\n",
    "    \"\"\"for idx in tf.range(y_pred.shape[0]):\n",
    "        max_idx = gt_max[idx]\n",
    "        p = y_pred[idx][:max_idx, :]\n",
    "        to_pad = y_pred.shape[1] - max_idx\n",
    "        padded_pred.append(tf.pad(p, [[0,to_pad],[0,0]]))\n",
    "\n",
    "        y = y_true[idx][:max_idx, :]\n",
    "        padded_gt.append(tf.pad(y, [[0, to_pad], [0, 0]]))\"\"\"\n",
    "\n",
    "    #temp_pred = tf.stack(padded_pred, axis=0)\n",
    "    #temp_gt = tf.stack(padded_gt, axis=0)\n",
    "\n",
    "    gt_idx = tf.math.argmax(temp_gt, axis=1)\n",
    "    pred_idx = tf.math.argmax(temp_pred, axis=1)\n",
    "\n",
    "    diffs = tf.stack([tf.stack(get_min_dist_for_list(gt_idx[i],pred_idx[i], batchsize)) for i in range(batchsize)])\n",
    "\n",
    "    #diffs = tf.math.subtract(gt_idx, pred_idx)\n",
    "    #print('substract: {}'.format(diffs.numpy()))\n",
    "    #diffs = tf.abs(diffs)\n",
    "    #print('abs: {}'.format(diffs.numpy()))\n",
    "    diffs = tf.cast(tf.reduce_sum(diffs, axis=1),tf.float32)\n",
    "    #print('sum: {}'.format(diffs.numpy()))\n",
    "    diffs = tf.reduce_mean(diffs)\n",
    "\n",
    "    return diffs\n",
    "\n",
    "\n",
    "def get_min_dist_for_list(lst_a,lst_b, batchsize):\n",
    "    length = tf.reduce_max(tf.stack([lst_a, lst_b]))\n",
    "    #print(length)\n",
    "    #length = max(max(lst_a), max(lst_b)) + 1\n",
    "    return [get_min_distance(lst_a[i],lst_b[i],length) for i in range(batchsize)]\n",
    "\n",
    "def get_min_distance(a, b, mod):\n",
    "    #assert(mod>(tf.reduce_max(a,b))), 'a: {}, b: {}, mod:{}, '.format(a,b,mod)\n",
    "\n",
    "    decr_counter = 0\n",
    "    incr_counter = 0\n",
    "\n",
    "    smaller = tf.reduce_min(tf.stack([a, b]))\n",
    "    bigger = tf.reduce_max(tf.stack([a, b]))\n",
    "\n",
    "    i1 = bigger\n",
    "    while (i1 != smaller):\n",
    "        decr_counter = decr_counter + 1\n",
    "        i1 = i1 - 1\n",
    "\n",
    "    i1 = bigger\n",
    "    while (i1 != smaller):\n",
    "        incr_counter = incr_counter + 1\n",
    "        i1 = tf.math.mod((i1 + 1), mod)\n",
    "        #i1 =  % mod\n",
    "\n",
    "    return tf.reduce_min(tf.stack([decr_counter, incr_counter]))"
   ]
  },
  {
   "cell_type": "code",
   "execution_count": 22,
   "metadata": {},
   "outputs": [
    {
     "data": {
      "text/plain": [
       "[4, 5, 6, 7, 8, 9, 1, 2, 3]"
      ]
     },
     "execution_count": 22,
     "metadata": {},
     "output_type": "execute_result"
    }
   ],
   "source": [
    "lst = [1,2,3,4,5,6,7,8,9]\n",
    "first = lst[3:]\n",
    "first.extend(lst[:3])\n",
    "first"
   ]
  },
  {
   "cell_type": "code",
   "execution_count": null,
   "metadata": {},
   "outputs": [],
   "source": [
    "onehot = np.array([[1,0,0,0,0,0,0,0,0,0,0,0,0,0,0],\n",
    " [0,0,0,1,0,0,0,0,0,0,0,0,0,0,0],\n",
    " [0,0,0,0,0,0,0,1,0,0,0,0,0,0,0],\n",
    " [0,0,0,0,0,0,0,0,0,0,0,1,0,0,0],\n",
    " [0,0,0,0,0,0,0,0,0,0,0,0,0,0,1]])"
   ]
  },
  {
   "cell_type": "code",
   "execution_count": null,
   "metadata": {},
   "outputs": [],
   "source": [
    "onehot.shape"
   ]
  },
  {
   "cell_type": "code",
   "execution_count": null,
   "metadata": {},
   "outputs": [],
   "source": [
    "onehot_t = onehot.T\n",
    "onehot_t.shape\n",
    "onehot_t"
   ]
  },
  {
   "cell_type": "code",
   "execution_count": null,
   "metadata": {},
   "outputs": [],
   "source": [
    "print(np.argmax(onehot, axis=1))\n",
    "print(np.argmax(onehot_t, axis=0))"
   ]
  },
  {
   "cell_type": "code",
   "execution_count": null,
   "metadata": {},
   "outputs": [],
   "source": [
    "# iterate over the phases j\n",
    "# linspace from i to i+1 from indices\n",
    "temp = onehot_t[:,0].astype(float)\n",
    "i = 0\n",
    "j = 3 + 1\n",
    "temp[i:j] = np.linspace(i,j,j-i)\n",
    "temp"
   ]
  },
  {
   "cell_type": "code",
   "execution_count": null,
   "metadata": {},
   "outputs": [],
   "source": [
    "onehot_t = onehot_t.astype(float)\n",
    "indices = np.argmax(onehot_t, axis=0)\n",
    "for i in range(onehot_t.shape[1]) :\n",
    "    start = indices[i]\n",
    "    # make it a ring\n",
    "    second = (i+1)%len(indices)\n",
    "    end = indices[second]\n",
    "    onehot_t[start:end,i] = np.linspace(1,0,int(end-start))\n",
    "onehot_t\n",
    "             \n",
    "    "
   ]
  },
  {
   "cell_type": "code",
   "execution_count": null,
   "metadata": {},
   "outputs": [],
   "source": [
    "plt.imshow(temp)"
   ]
  },
  {
   "cell_type": "code",
   "execution_count": null,
   "metadata": {},
   "outputs": [],
   "source": [
    "plt.imshow(temp.T)"
   ]
  },
  {
   "cell_type": "code",
   "execution_count": null,
   "metadata": {},
   "outputs": [],
   "source": [
    "%%timeit\n",
    "temp.mean()"
   ]
  },
  {
   "cell_type": "code",
   "execution_count": null,
   "metadata": {},
   "outputs": [],
   "source": [
    "%%timeit\n",
    "np.mean(temp)"
   ]
  },
  {
   "cell_type": "code",
   "execution_count": null,
   "metadata": {},
   "outputs": [],
   "source": [
    "np.linspace(-1,1,10)"
   ]
  },
  {
   "cell_type": "code",
   "execution_count": null,
   "metadata": {},
   "outputs": [],
   "source": []
  }
 ],
 "metadata": {
  "kernelspec": {
   "display_name": "dcmr",
   "language": "python",
   "name": "dcmr"
  },
  "language_info": {
   "codemirror_mode": {
    "name": "ipython",
    "version": 3
   },
   "file_extension": ".py",
   "mimetype": "text/x-python",
   "name": "python",
   "nbconvert_exporter": "python",
   "pygments_lexer": "ipython3",
   "version": "3.8.5"
  },
  "widgets": {
   "application/vnd.jupyter.widget-state+json": {
    "state": {
     "0246fac3144c4a7e9c699c77934c5147": {
      "model_module": "@jupyter-widgets/base",
      "model_module_version": "1.2.0",
      "model_name": "LayoutModel",
      "state": {}
     },
     "05b93d69617e4f12a17109bb7bf1eac2": {
      "model_module": "@jupyter-widgets/base",
      "model_module_version": "1.2.0",
      "model_name": "LayoutModel",
      "state": {}
     },
     "081dea3c8c0647c6ab4e348e1d390585": {
      "model_module": "@jupyter-widgets/controls",
      "model_module_version": "1.5.0",
      "model_name": "CheckboxModel",
      "state": {
       "description": "show_",
       "disabled": false,
       "layout": "IPY_MODEL_8340dd9fd75e4dc1aad4daceedb5fdc5",
       "style": "IPY_MODEL_3fc880c96e2b429fab4629a179252a0d",
       "value": true
      }
     },
     "1a36172d70ca4c8389ea2f642460f42e": {
      "model_module": "@jupyter-widgets/controls",
      "model_module_version": "1.5.0",
      "model_name": "SliderStyleModel",
      "state": {
       "description_width": ""
      }
     },
     "251c5beeb30249b0b6e95d920dc1ff2a": {
      "model_module": "@jupyter-widgets/controls",
      "model_module_version": "1.5.0",
      "model_name": "ButtonStyleModel",
      "state": {}
     },
     "2c8194c098344f798c3b47501db5ef2d": {
      "model_module": "@jupyter-widgets/output",
      "model_module_version": "1.0.0",
      "model_name": "OutputModel",
      "state": {
       "layout": "IPY_MODEL_7bd51d69739b4f3cab1d90d517704e17",
       "outputs": [
        {
         "data": {
          "text/html": "<div>\n<style scoped>\n    .dataframe tbody tr th:only-of-type {\n        vertical-align: middle;\n    }\n\n    .dataframe tbody tr th {\n        vertical-align: top;\n    }\n\n    .dataframe thead th {\n        text-align: right;\n    }\n</style>\n<table border=\"1\" class=\"dataframe\">\n  <thead>\n    <tr style=\"text-align: right;\">\n      <th></th>\n      <th>patient</th>\n      <th>ED#</th>\n      <th>MS#</th>\n      <th>ES#</th>\n      <th>PF#</th>\n      <th>MD#</th>\n    </tr>\n  </thead>\n  <tbody>\n    <tr>\n      <th>0</th>\n      <td>02Z1L14N</td>\n      <td>14</td>\n      <td>3</td>\n      <td>6</td>\n      <td>8</td>\n      <td>12</td>\n    </tr>\n    <tr>\n      <th>1</th>\n      <td>02Z1L14N</td>\n      <td>14</td>\n      <td>3</td>\n      <td>6</td>\n      <td>8</td>\n      <td>12</td>\n    </tr>\n    <tr>\n      <th>2</th>\n      <td>02Z1L14N</td>\n      <td>14</td>\n      <td>3</td>\n      <td>6</td>\n      <td>8</td>\n      <td>12</td>\n    </tr>\n    <tr>\n      <th>3</th>\n      <td>02Z1L14N</td>\n      <td>14</td>\n      <td>3</td>\n      <td>6</td>\n      <td>8</td>\n      <td>12</td>\n    </tr>\n    <tr>\n      <th>4</th>\n      <td>02Z1L14N</td>\n      <td>14</td>\n      <td>3</td>\n      <td>6</td>\n      <td>8</td>\n      <td>12</td>\n    </tr>\n    <tr>\n      <th>...</th>\n      <td>...</td>\n      <td>...</td>\n      <td>...</td>\n      <td>...</td>\n      <td>...</td>\n      <td>...</td>\n    </tr>\n    <tr>\n      <th>1385</th>\n      <td>ZZQ0001Q</td>\n      <td>1</td>\n      <td>5</td>\n      <td>10</td>\n      <td>14</td>\n      <td>19</td>\n    </tr>\n    <tr>\n      <th>1386</th>\n      <td>ZZQ0001Q</td>\n      <td>1</td>\n      <td>5</td>\n      <td>10</td>\n      <td>14</td>\n      <td>19</td>\n    </tr>\n    <tr>\n      <th>1387</th>\n      <td>ZZQ0001Q</td>\n      <td>1</td>\n      <td>5</td>\n      <td>10</td>\n      <td>14</td>\n      <td>19</td>\n    </tr>\n    <tr>\n      <th>1388</th>\n      <td>ZZQ0001Q</td>\n      <td>1</td>\n      <td>5</td>\n      <td>10</td>\n      <td>14</td>\n      <td>19</td>\n    </tr>\n    <tr>\n      <th>1389</th>\n      <td>ZZQ0001Q</td>\n      <td>1</td>\n      <td>5</td>\n      <td>10</td>\n      <td>14</td>\n      <td>19</td>\n    </tr>\n  </tbody>\n</table>\n<p>1390 rows × 6 columns</p>\n</div>",
          "text/plain": "       patient  ED#  MS#  ES#  PF#  MD#\n0     02Z1L14N   14    3    6    8   12\n1     02Z1L14N   14    3    6    8   12\n2     02Z1L14N   14    3    6    8   12\n3     02Z1L14N   14    3    6    8   12\n4     02Z1L14N   14    3    6    8   12\n...        ...  ...  ...  ...  ...  ...\n1385  ZZQ0001Q    1    5   10   14   19\n1386  ZZQ0001Q    1    5   10   14   19\n1387  ZZQ0001Q    1    5   10   14   19\n1388  ZZQ0001Q    1    5   10   14   19\n1389  ZZQ0001Q    1    5   10   14   19\n\n[1390 rows x 6 columns]"
         },
         "metadata": {},
         "output_type": "display_data"
        }
       ]
      }
     },
     "2c956d509eae43909cb1216f035d207b": {
      "model_module": "@jupyter-widgets/controls",
      "model_module_version": "1.5.0",
      "model_name": "TextModel",
      "state": {
       "description": "filepath",
       "layout": "IPY_MODEL_38188d619c644eaea58cc71f17ca515f",
       "style": "IPY_MODEL_9d523a4db39e4de1a0a7863321f70f2b",
       "value": "data/temp/"
      }
     },
     "32595f3a49f5456885a884aa6c371d68": {
      "model_module": "@jupyter-widgets/controls",
      "model_module_version": "1.5.0",
      "model_name": "IntSliderModel",
      "state": {
       "description": "im",
       "layout": "IPY_MODEL_8702c3aa9f58401d89aa32f7c2389996",
       "max": 3,
       "style": "IPY_MODEL_1a36172d70ca4c8389ea2f642460f42e",
       "value": 1
      }
     },
     "369a30bf2b6e4a4babc88fec7143178c": {
      "model_module": "@jupyter-widgets/base",
      "model_module_version": "1.2.0",
      "model_name": "LayoutModel",
      "state": {}
     },
     "38188d619c644eaea58cc71f17ca515f": {
      "model_module": "@jupyter-widgets/base",
      "model_module_version": "1.2.0",
      "model_name": "LayoutModel",
      "state": {}
     },
     "38ee61d997c54a1f8025d414aec60f81": {
      "model_module": "@jupyter-widgets/controls",
      "model_module_version": "1.5.0",
      "model_name": "CheckboxModel",
      "state": {
       "description": "save",
       "disabled": false,
       "layout": "IPY_MODEL_0246fac3144c4a7e9c699c77934c5147",
       "style": "IPY_MODEL_edb01146c4c44d9f93a4abd9fc91f08e",
       "value": false
      }
     },
     "3fc880c96e2b429fab4629a179252a0d": {
      "model_module": "@jupyter-widgets/controls",
      "model_module_version": "1.5.0",
      "model_name": "DescriptionStyleModel",
      "state": {
       "description_width": ""
      }
     },
     "424ec469f75546b994ad83a9d4082083": {
      "model_module": "@jupyter-widgets/base",
      "model_module_version": "1.2.0",
      "model_name": "LayoutModel",
      "state": {}
     },
     "4748e60a0c174224ab2c62747d5ca97d": {
      "model_module": "@jupyter-widgets/base",
      "model_module_version": "1.2.0",
      "model_name": "LayoutModel",
      "state": {}
     },
     "5581c769e574454bbfa00d349f413c46": {
      "model_module": "@jupyter-widgets/controls",
      "model_module_version": "1.5.0",
      "model_name": "VBoxModel",
      "state": {
       "_dom_classes": [
        "widget-interact"
       ],
       "children": [
        "IPY_MODEL_75ee0e82ec52428da9753288f4dfe81c",
        "IPY_MODEL_32595f3a49f5456885a884aa6c371d68",
        "IPY_MODEL_dffdf0510a4347dc80c12d71476853dd",
        "IPY_MODEL_38ee61d997c54a1f8025d414aec60f81",
        "IPY_MODEL_2c956d509eae43909cb1216f035d207b",
        "IPY_MODEL_8041a4c78d4c478182bf3480c9e2ac72",
        "IPY_MODEL_081dea3c8c0647c6ab4e348e1d390585",
        "IPY_MODEL_f1e806f4c1b6445ea9f2da5d6c3a3caf",
        "IPY_MODEL_c925f46ac76b4d65810986b1797b86fb"
       ],
       "layout": "IPY_MODEL_e10aa9fe8410415d84ff5ec79022734c"
      }
     },
     "61f9a4855a1545a9b7d3f26b69ebd81d": {
      "model_module": "@jupyter-widgets/base",
      "model_module_version": "1.2.0",
      "model_name": "LayoutModel",
      "state": {}
     },
     "75ee0e82ec52428da9753288f4dfe81c": {
      "model_module": "@jupyter-widgets/controls",
      "model_module_version": "1.5.0",
      "model_name": "IntSliderModel",
      "state": {
       "description": "batch",
       "layout": "IPY_MODEL_4748e60a0c174224ab2c62747d5ca97d",
       "max": 14,
       "style": "IPY_MODEL_d05b8e4d7a1d419999fac22e86915840",
       "value": 7
      }
     },
     "7bd51d69739b4f3cab1d90d517704e17": {
      "model_module": "@jupyter-widgets/base",
      "model_module_version": "1.2.0",
      "model_name": "LayoutModel",
      "state": {}
     },
     "8041a4c78d4c478182bf3480c9e2ac72": {
      "model_module": "@jupyter-widgets/controls",
      "model_module_version": "1.5.0",
      "model_name": "TextModel",
      "state": {
       "description": "filename",
       "layout": "IPY_MODEL_61f9a4855a1545a9b7d3f26b69ebd81d",
       "style": "IPY_MODEL_beb74e13a9e14ec89d43cd85c0081a6a",
       "value": "temp_x.npy"
      }
     },
     "8340dd9fd75e4dc1aad4daceedb5fdc5": {
      "model_module": "@jupyter-widgets/base",
      "model_module_version": "1.2.0",
      "model_name": "LayoutModel",
      "state": {}
     },
     "8702c3aa9f58401d89aa32f7c2389996": {
      "model_module": "@jupyter-widgets/base",
      "model_module_version": "1.2.0",
      "model_name": "LayoutModel",
      "state": {}
     },
     "8a97376f1b4b452f82b2c0963d198806": {
      "model_module": "@jupyter-widgets/base",
      "model_module_version": "1.2.0",
      "model_name": "LayoutModel",
      "state": {}
     },
     "8ad6cbe55df84868b434c35389a6e511": {
      "model_module": "@jupyter-widgets/base",
      "model_module_version": "1.2.0",
      "model_name": "LayoutModel",
      "state": {}
     },
     "9714531588cb4ca69c15329a2f7adb3c": {
      "model_module": "@jupyter-widgets/controls",
      "model_module_version": "1.5.0",
      "model_name": "VBoxModel",
      "state": {
       "_dom_classes": [
        "widget-interact"
       ],
       "children": [
        "IPY_MODEL_a94f2f7f8bea4666a7d659937403a335",
        "IPY_MODEL_2c8194c098344f798c3b47501db5ef2d"
       ],
       "layout": "IPY_MODEL_05b93d69617e4f12a17109bb7bf1eac2"
      }
     },
     "9d523a4db39e4de1a0a7863321f70f2b": {
      "model_module": "@jupyter-widgets/controls",
      "model_module_version": "1.5.0",
      "model_name": "DescriptionStyleModel",
      "state": {
       "description_width": ""
      }
     },
     "a94f2f7f8bea4666a7d659937403a335": {
      "model_module": "@jupyter-widgets/controls",
      "model_module_version": "1.5.0",
      "model_name": "TextModel",
      "state": {
       "description": "search_str",
       "layout": "IPY_MODEL_424ec469f75546b994ad83a9d4082083",
       "style": "IPY_MODEL_cae563f671034e95b3cde39e5bc19fa5"
      }
     },
     "b0039de8d4714d418551fd7c17e52a47": {
      "model_module": "@jupyter-widgets/controls",
      "model_module_version": "1.5.0",
      "model_name": "SliderStyleModel",
      "state": {
       "description_width": ""
      }
     },
     "beb74e13a9e14ec89d43cd85c0081a6a": {
      "model_module": "@jupyter-widgets/controls",
      "model_module_version": "1.5.0",
      "model_name": "DescriptionStyleModel",
      "state": {
       "description_width": ""
      }
     },
     "c925f46ac76b4d65810986b1797b86fb": {
      "model_module": "@jupyter-widgets/output",
      "model_module_version": "1.0.0",
      "model_name": "OutputModel",
      "state": {
       "layout": "IPY_MODEL_369a30bf2b6e4a4babc88fec7143178c",
       "outputs": [
        {
         "name": "stderr",
         "output_type": "stream",
         "text": "2021-02-23 11:36:39,070 INFO Preprocessing took: 0.443\n"
        },
        {
         "name": "stdout",
         "output_type": "stream",
         "text": "(4, 36, 8, 64, 64, 1) (4, 36, 5)\nselected batch : 7\n"
        },
        {
         "data": {
          "image/png": "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\n",
          "text/plain": "<Figure size 360x360 with 2 Axes>"
         },
         "metadata": {
          "needs_background": "light"
         },
         "output_type": "display_data"
        }
       ]
      }
     },
     "cae563f671034e95b3cde39e5bc19fa5": {
      "model_module": "@jupyter-widgets/controls",
      "model_module_version": "1.5.0",
      "model_name": "DescriptionStyleModel",
      "state": {
       "description_width": ""
      }
     },
     "d05b8e4d7a1d419999fac22e86915840": {
      "model_module": "@jupyter-widgets/controls",
      "model_module_version": "1.5.0",
      "model_name": "SliderStyleModel",
      "state": {
       "description_width": ""
      }
     },
     "dffdf0510a4347dc80c12d71476853dd": {
      "model_module": "@jupyter-widgets/controls",
      "model_module_version": "1.5.0",
      "model_name": "IntSliderModel",
      "state": {
       "description": "slice_n",
       "layout": "IPY_MODEL_8ad6cbe55df84868b434c35389a6e511",
       "max": 11,
       "min": 1,
       "style": "IPY_MODEL_b0039de8d4714d418551fd7c17e52a47",
       "value": 6
      }
     },
     "e10aa9fe8410415d84ff5ec79022734c": {
      "model_module": "@jupyter-widgets/base",
      "model_module_version": "1.2.0",
      "model_name": "LayoutModel",
      "state": {}
     },
     "edb01146c4c44d9f93a4abd9fc91f08e": {
      "model_module": "@jupyter-widgets/controls",
      "model_module_version": "1.5.0",
      "model_name": "DescriptionStyleModel",
      "state": {
       "description_width": ""
      }
     },
     "f1e806f4c1b6445ea9f2da5d6c3a3caf": {
      "model_module": "@jupyter-widgets/controls",
      "model_module_version": "1.5.0",
      "model_name": "ButtonModel",
      "state": {
       "description": "Run Interact",
       "layout": "IPY_MODEL_8a97376f1b4b452f82b2c0963d198806",
       "style": "IPY_MODEL_251c5beeb30249b0b6e95d920dc1ff2a"
      }
     }
    },
    "version_major": 2,
    "version_minor": 0
   }
  }
 },
 "nbformat": 4,
 "nbformat_minor": 4
}
