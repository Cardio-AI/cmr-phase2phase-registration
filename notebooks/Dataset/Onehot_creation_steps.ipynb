{
 "cells": [
  {
   "cell_type": "code",
   "execution_count": 1,
   "metadata": {},
   "outputs": [],
   "source": [
    "import numpy as np"
   ]
  },
  {
   "cell_type": "code",
   "execution_count": null,
   "metadata": {},
   "outputs": [],
   "source": []
  },
  {
   "cell_type": "code",
   "execution_count": 131,
   "metadata": {},
   "outputs": [
    {
     "name": "stdout",
     "output_type": "stream",
     "text": [
      "(5, 25)\n"
     ]
    },
    {
     "data": {
      "image/png": "[encoded data removed]",
      "text/plain": [
       "<Figure size 432x288 with 1 Axes>"
      ]
     },
     "metadata": {
      "needs_background": "light"
     },
     "output_type": "display_data"
    },
    {
     "name": "stdout",
     "output_type": "stream",
     "text": [
      "[[0. 0. 0. 0. 0. 0. 0. 0. 0. 0. 0. 0. 0. 0. 0. 0. 0. 0. 0. 0. 0. 0. 0. 0.\n",
      "  1.]\n",
      " [0. 0. 0. 0. 1. 0. 0. 0. 0. 0. 0. 0. 0. 0. 0. 0. 0. 0. 0. 0. 0. 0. 0. 0.\n",
      "  0.]\n",
      " [0. 0. 0. 0. 0. 0. 0. 0. 0. 1. 0. 0. 0. 0. 0. 0. 0. 0. 0. 0. 0. 0. 0. 0.\n",
      "  0.]\n",
      " [0. 0. 0. 0. 0. 0. 0. 0. 0. 0. 0. 0. 1. 0. 0. 0. 0. 0. 0. 0. 0. 0. 0. 0.\n",
      "  0.]\n",
      " [0. 0. 0. 0. 0. 0. 0. 0. 0. 0. 0. 0. 0. 0. 0. 0. 0. 0. 0. 0. 0. 1. 0. 0.\n",
      "  0.]]\n"
     ]
    }
   ],
   "source": [
    "# transform the indices into a one-hot encoding\n",
    "target_t = 36\n",
    "timesteps = 25\n",
    "ind = np.array([24,4,9,12,21])\n",
    "reps = int(np.ceil(target_t / timesteps))\n",
    "\n",
    "onehot = np.zeros((ind.size, timesteps))\n",
    "onehot[np.arange(ind.size), ind] = 1\n",
    "print(onehot.shape)\n",
    "plt.imshow(onehot)\n",
    "plt.show()\n",
    "print(onehot)"
   ]
  },
  {
   "cell_type": "code",
   "execution_count": 132,
   "metadata": {},
   "outputs": [
    {
     "name": "stderr",
     "output_type": "stream",
     "text": [
      "2021-02-15 15:04:47,648 INFO 4\n"
     ]
    },
    {
     "name": "stdout",
     "output_type": "stream",
     "text": [
      "(5, 25)\n"
     ]
    },
    {
     "data": {
      "image/png": "[encoded data removed]",
      "text/plain": [
       "<Figure size 432x288 with 1 Axes>"
      ]
     },
     "metadata": {
      "needs_background": "light"
     },
     "output_type": "display_data"
    },
    {
     "name": "stdout",
     "output_type": "stream",
     "text": [
      "[[0. 0. 0. 0. 0. 0. 0. 0. 0. 0. 0. 0. 0. 0. 0. 0. 0. 0. 0. 0. 1. 0. 0. 0.\n",
      "  0.]\n",
      " [1. 0. 0. 0. 0. 0. 0. 0. 0. 0. 0. 0. 0. 0. 0. 0. 0. 0. 0. 0. 0. 0. 0. 0.\n",
      "  0.]\n",
      " [0. 0. 0. 0. 0. 1. 0. 0. 0. 0. 0. 0. 0. 0. 0. 0. 0. 0. 0. 0. 0. 0. 0. 0.\n",
      "  0.]\n",
      " [0. 0. 0. 0. 0. 0. 0. 0. 1. 0. 0. 0. 0. 0. 0. 0. 0. 0. 0. 0. 0. 0. 0. 0.\n",
      "  0.]\n",
      " [0. 0. 0. 0. 0. 0. 0. 0. 0. 0. 0. 0. 0. 0. 0. 0. 0. 1. 0. 0. 0. 0. 0. 0.\n",
      "  0.]]\n"
     ]
    }
   ],
   "source": [
    "# the img/vectors should represent a ring of heartcycles\n",
    "rand = random.randint(0, len(onehot))\n",
    "logging.info(rand)\n",
    "onehot = np.concatenate([onehot[:,rand:], onehot[:,:rand]], axis=1)\n",
    "print(onehot.shape)\n",
    "plt.imshow(onehot)\n",
    "plt.show()\n",
    "print(onehot)"
   ]
  },
  {
   "cell_type": "code",
   "execution_count": 133,
   "metadata": {},
   "outputs": [
    {
     "name": "stdout",
     "output_type": "stream",
     "text": [
      "(5, 100)\n"
     ]
    },
    {
     "data": {
      "image/png": "[encoded data removed]",
      "text/plain": [
       "<Figure size 432x288 with 1 Axes>"
      ]
     },
     "metadata": {
      "needs_background": "light"
     },
     "output_type": "display_data"
    },
    {
     "name": "stdout",
     "output_type": "stream",
     "text": [
      "[[0. 0. 0. 0. 0. 0. 0. 0. 0. 0. 0. 0. 0. 0. 0. 0. 0. 0. 0. 0. 1. 0. 0. 0.\n",
      "  0. 0. 0. 0. 0. 0. 0. 0. 0. 0. 0. 0. 0. 0. 0. 0. 0. 0. 0. 0. 0. 1. 0. 0.\n",
      "  0. 0. 0. 0. 0. 0. 0. 0. 0. 0. 0. 0. 0. 0. 0. 0. 0. 0. 0. 0. 0. 0. 1. 0.\n",
      "  0. 0. 0. 0. 0. 0. 0. 0. 0. 0. 0. 0. 0. 0. 0. 0. 0. 0. 0. 0. 0. 0. 0. 1.\n",
      "  0. 0. 0. 0.]\n",
      " [1. 0. 0. 0. 0. 0. 0. 0. 0. 0. 0. 0. 0. 0. 0. 0. 0. 0. 0. 0. 0. 0. 0. 0.\n",
      "  0. 1. 0. 0. 0. 0. 0. 0. 0. 0. 0. 0. 0. 0. 0. 0. 0. 0. 0. 0. 0. 0. 0. 0.\n",
      "  0. 0. 1. 0. 0. 0. 0. 0. 0. 0. 0. 0. 0. 0. 0. 0. 0. 0. 0. 0. 0. 0. 0. 0.\n",
      "  0. 0. 0. 1. 0. 0. 0. 0. 0. 0. 0. 0. 0. 0. 0. 0. 0. 0. 0. 0. 0. 0. 0. 0.\n",
      "  0. 0. 0. 0.]\n",
      " [0. 0. 0. 0. 0. 1. 0. 0. 0. 0. 0. 0. 0. 0. 0. 0. 0. 0. 0. 0. 0. 0. 0. 0.\n",
      "  0. 0. 0. 0. 0. 0. 1. 0. 0. 0. 0. 0. 0. 0. 0. 0. 0. 0. 0. 0. 0. 0. 0. 0.\n",
      "  0. 0. 0. 0. 0. 0. 0. 1. 0. 0. 0. 0. 0. 0. 0. 0. 0. 0. 0. 0. 0. 0. 0. 0.\n",
      "  0. 0. 0. 0. 0. 0. 0. 0. 1. 0. 0. 0. 0. 0. 0. 0. 0. 0. 0. 0. 0. 0. 0. 0.\n",
      "  0. 0. 0. 0.]\n",
      " [0. 0. 0. 0. 0. 0. 0. 0. 1. 0. 0. 0. 0. 0. 0. 0. 0. 0. 0. 0. 0. 0. 0. 0.\n",
      "  0. 0. 0. 0. 0. 0. 0. 0. 0. 1. 0. 0. 0. 0. 0. 0. 0. 0. 0. 0. 0. 0. 0. 0.\n",
      "  0. 0. 0. 0. 0. 0. 0. 0. 0. 0. 1. 0. 0. 0. 0. 0. 0. 0. 0. 0. 0. 0. 0. 0.\n",
      "  0. 0. 0. 0. 0. 0. 0. 0. 0. 0. 0. 1. 0. 0. 0. 0. 0. 0. 0. 0. 0. 0. 0. 0.\n",
      "  0. 0. 0. 0.]\n",
      " [0. 0. 0. 0. 0. 0. 0. 0. 0. 0. 0. 0. 0. 0. 0. 0. 0. 1. 0. 0. 0. 0. 0. 0.\n",
      "  0. 0. 0. 0. 0. 0. 0. 0. 0. 0. 0. 0. 0. 0. 0. 0. 0. 0. 1. 0. 0. 0. 0. 0.\n",
      "  0. 0. 0. 0. 0. 0. 0. 0. 0. 0. 0. 0. 0. 0. 0. 0. 0. 0. 0. 1. 0. 0. 0. 0.\n",
      "  0. 0. 0. 0. 0. 0. 0. 0. 0. 0. 0. 0. 0. 0. 0. 0. 0. 0. 0. 0. 1. 0. 0. 0.\n",
      "  0. 0. 0. 0.]]\n"
     ]
    }
   ],
   "source": [
    "# repeat along t, len(onehot) is than 2 x ceil(t_output/4d.shape[0])\n",
    "onehot = np.tile(onehot, (1, reps * 2))\n",
    "print(onehot.shape)\n",
    "plt.imshow(onehot)\n",
    "plt.show()\n",
    "print(onehot)"
   ]
  },
  {
   "cell_type": "code",
   "execution_count": 134,
   "metadata": {},
   "outputs": [
    {
     "name": "stdout",
     "output_type": "stream",
     "text": [
      "(5, 100)\n"
     ]
    },
    {
     "data": {
      "image/png": "[encoded data removed]",
      "text/plain": [
       "<Figure size 432x288 with 1 Axes>"
      ]
     },
     "metadata": {
      "needs_background": "light"
     },
     "output_type": "display_data"
    },
    {
     "name": "stdout",
     "output_type": "stream",
     "text": [
      "[[0.   0.   0.   0.   0.   0.   0.   0.   0.   0.   0.   0.   0.   0.\n",
      "  0.   0.1  0.15 0.2  0.25 0.3  1.   0.3  0.25 0.2  0.15 0.1  0.   0.\n",
      "  0.   0.   0.   0.   0.   0.   0.   0.   0.   0.   0.   0.   0.1  0.15\n",
      "  0.2  0.25 0.3  1.   0.3  0.25 0.2  0.15 0.1  0.   0.   0.   0.   0.\n",
      "  0.   0.   0.   0.   0.   0.   0.   0.   0.   0.1  0.15 0.2  0.25 0.3\n",
      "  1.   0.3  0.25 0.2  0.15 0.1  0.   0.   0.   0.   0.   0.   0.   0.\n",
      "  0.   0.   0.   0.   0.   0.   0.1  0.15 0.2  0.25 0.3  1.   0.3  0.25\n",
      "  0.2  0.15]\n",
      " [1.   0.3  0.25 0.2  0.15 0.1  0.   0.   0.   0.   0.   0.   0.   0.\n",
      "  0.   0.   0.   0.   0.   0.   0.1  0.15 0.2  0.25 0.3  1.   0.3  0.25\n",
      "  0.2  0.15 0.1  0.   0.   0.   0.   0.   0.   0.   0.   0.   0.   0.\n",
      "  0.   0.   0.   0.1  0.15 0.2  0.25 0.3  1.   0.3  0.25 0.2  0.15 0.1\n",
      "  0.   0.   0.   0.   0.   0.   0.   0.   0.   0.   0.   0.   0.   0.\n",
      "  0.1  0.15 0.2  0.25 0.3  1.   0.3  0.25 0.2  0.15 0.1  0.   0.   0.\n",
      "  0.   0.   0.   0.   0.   0.   0.   0.   0.   0.   0.   0.   0.   0.\n",
      "  0.   0.  ]\n",
      " [0.1  0.15 0.2  0.25 0.3  1.   0.3  0.25 0.2  0.15 0.1  0.   0.   0.\n",
      "  0.   0.   0.   0.   0.   0.   0.   0.   0.   0.   0.   0.1  0.15 0.2\n",
      "  0.25 0.3  1.   0.3  0.25 0.2  0.15 0.1  0.   0.   0.   0.   0.   0.\n",
      "  0.   0.   0.   0.   0.   0.   0.   0.   0.1  0.15 0.2  0.25 0.3  1.\n",
      "  0.3  0.25 0.2  0.15 0.1  0.   0.   0.   0.   0.   0.   0.   0.   0.\n",
      "  0.   0.   0.   0.   0.   0.1  0.15 0.2  0.25 0.3  1.   0.3  0.25 0.2\n",
      "  0.15 0.1  0.   0.   0.   0.   0.   0.   0.   0.   0.   0.   0.   0.\n",
      "  0.   0.  ]\n",
      " [0.   0.   0.   0.1  0.15 0.2  0.25 0.3  1.   0.3  0.25 0.2  0.15 0.1\n",
      "  0.   0.   0.   0.   0.   0.   0.   0.   0.   0.   0.   0.   0.   0.\n",
      "  0.1  0.15 0.2  0.25 0.3  1.   0.3  0.25 0.2  0.15 0.1  0.   0.   0.\n",
      "  0.   0.   0.   0.   0.   0.   0.   0.   0.   0.   0.   0.1  0.15 0.2\n",
      "  0.25 0.3  1.   0.3  0.25 0.2  0.15 0.1  0.   0.   0.   0.   0.   0.\n",
      "  0.   0.   0.   0.   0.   0.   0.   0.   0.1  0.15 0.2  0.25 0.3  1.\n",
      "  0.3  0.25 0.2  0.15 0.1  0.   0.   0.   0.   0.   0.   0.   0.   0.\n",
      "  0.   0.  ]\n",
      " [0.   0.   0.   0.   0.   0.   0.   0.   0.   0.   0.   0.   0.1  0.15\n",
      "  0.2  0.25 0.3  1.   0.3  0.25 0.2  0.15 0.1  0.   0.   0.   0.   0.\n",
      "  0.   0.   0.   0.   0.   0.   0.   0.   0.   0.1  0.15 0.2  0.25 0.3\n",
      "  1.   0.3  0.25 0.2  0.15 0.1  0.   0.   0.   0.   0.   0.   0.   0.\n",
      "  0.   0.   0.   0.   0.   0.   0.1  0.15 0.2  0.25 0.3  1.   0.3  0.25\n",
      "  0.2  0.15 0.1  0.   0.   0.   0.   0.   0.   0.   0.   0.   0.   0.\n",
      "  0.   0.   0.   0.1  0.15 0.2  0.25 0.3  1.   0.3  0.25 0.2  0.15 0.1\n",
      "  0.   0.  ]]\n"
     ]
    }
   ],
   "source": [
    "# smooth the onehot with a 1D conv kernel\n",
    "# create a 1D kernel with linearly increasing/decreasing values in the range(lower,upper),\n",
    "# insert a '1' in the middle, as this reflect the correct idx\n",
    "config = {}\n",
    "SMOOTHING_KERNEL_SIZE = config.get('SMOOTHING_KERNEL_SIZE',10)\n",
    "SMOOTHING_LOWER_BORDER = config.get('SMOOTHING_LOWER_BORDER',0.1)\n",
    "SMOOTHING_UPPER_BORDER = config.get('SMOOTHING_UPPER_BORDER',0.3)\n",
    "KERNEL = np.concatenate(\n",
    "    [np.linspace(SMOOTHING_LOWER_BORDER,SMOOTHING_UPPER_BORDER,SMOOTHING_KERNEL_SIZE//2),\n",
    "     [1],\n",
    "     np.linspace(SMOOTHING_UPPER_BORDER,SMOOTHING_LOWER_BORDER,SMOOTHING_KERNEL_SIZE//2)])\n",
    "\n",
    "for idx in range(onehot.shape[0]):\n",
    "    smoothed = np.convolve(onehot[idx], KERNEL, mode='same')\n",
    "    onehot[idx] = smoothed\n",
    "\n",
    "print(onehot.shape)\n",
    "plt.imshow(onehot)\n",
    "plt.show()\n",
    "print(onehot)"
   ]
  },
  {
   "cell_type": "code",
   "execution_count": 135,
   "metadata": {},
   "outputs": [
    {
     "name": "stdout",
     "output_type": "stream",
     "text": [
      "(5, 50)\n"
     ]
    },
    {
     "data": {
      "image/png": "[encoded data removed]",
      "text/plain": [
       "<Figure size 432x288 with 1 Axes>"
      ]
     },
     "metadata": {
      "needs_background": "light"
     },
     "output_type": "display_data"
    },
    {
     "name": "stdout",
     "output_type": "stream",
     "text": [
      "[[0.1  0.   0.   0.   0.   0.   0.   0.   0.   0.   0.   0.   0.   0.\n",
      "  0.   0.1  0.15 0.2  0.25 0.3  1.   0.3  0.25 0.2  0.15 0.1  0.   0.\n",
      "  0.   0.   0.   0.   0.   0.   0.   0.   0.   0.   0.   0.   0.1  0.15\n",
      "  0.2  0.25 0.3  1.   0.3  0.25 0.2  0.15]\n",
      " [1.   0.3  0.25 0.2  0.15 0.1  0.   0.   0.   0.   0.   0.   0.   0.\n",
      "  0.   0.   0.   0.   0.   0.   0.1  0.15 0.2  0.25 0.3  1.   0.3  0.25\n",
      "  0.2  0.15 0.1  0.   0.   0.   0.   0.   0.   0.   0.   0.   0.   0.\n",
      "  0.   0.   0.   0.1  0.15 0.2  0.25 0.3 ]\n",
      " [0.1  0.15 0.2  0.25 0.3  1.   0.3  0.25 0.2  0.15 0.1  0.   0.   0.\n",
      "  0.   0.   0.   0.   0.   0.   0.   0.   0.   0.   0.   0.1  0.15 0.2\n",
      "  0.25 0.3  1.   0.3  0.25 0.2  0.15 0.1  0.   0.   0.   0.   0.   0.\n",
      "  0.   0.   0.   0.   0.   0.   0.   0.  ]\n",
      " [0.   0.   0.   0.1  0.15 0.2  0.25 0.3  1.   0.3  0.25 0.2  0.15 0.1\n",
      "  0.   0.   0.   0.   0.   0.   0.   0.   0.   0.   0.   0.   0.   0.\n",
      "  0.1  0.15 0.2  0.25 0.3  1.   0.3  0.25 0.2  0.15 0.1  0.   0.   0.\n",
      "  0.   0.   0.   0.   0.   0.   0.   0.  ]\n",
      " [0.   0.   0.   0.   0.   0.   0.   0.   0.   0.   0.   0.   0.1  0.15\n",
      "  0.2  0.25 0.3  1.   0.3  0.25 0.2  0.15 0.1  0.   0.   0.   0.   0.\n",
      "  0.   0.   0.   0.   0.   0.   0.   0.   0.   0.1  0.15 0.2  0.25 0.3\n",
      "  1.   0.3  0.25 0.2  0.15 0.1  0.   0.  ]]\n"
     ]
    }
   ],
   "source": [
    "# make sure that we are smooth at the edges (ring-smoothness)\n",
    "first, second = np.split(onehot,indices_or_sections=2, axis=1)\n",
    "onehot = np.maximum(first, second)\n",
    "print(onehot.shape)\n",
    "plt.imshow(onehot)\n",
    "plt.show()\n",
    "print(onehot)"
   ]
  },
  {
   "cell_type": "code",
   "execution_count": 136,
   "metadata": {},
   "outputs": [
    {
     "name": "stdout",
     "output_type": "stream",
     "text": [
      "(36, 5)\n"
     ]
    },
    {
     "data": {
      "image/png": "[encoded data removed]",
      "text/plain": [
       "<Figure size 432x288 with 1 Axes>"
      ]
     },
     "metadata": {
      "needs_background": "light"
     },
     "output_type": "display_data"
    },
    {
     "name": "stdout",
     "output_type": "stream",
     "text": [
      "[[0.1  1.   0.1  0.   0.  ]\n",
      " [0.   0.3  0.15 0.   0.  ]\n",
      " [0.   0.25 0.2  0.   0.  ]\n",
      " [0.   0.2  0.25 0.1  0.  ]\n",
      " [0.   0.15 0.3  0.15 0.  ]\n",
      " [0.   0.1  1.   0.2  0.  ]\n",
      " [0.   0.   0.3  0.25 0.  ]\n",
      " [0.   0.   0.25 0.3  0.  ]\n",
      " [0.   0.   0.2  1.   0.  ]\n",
      " [0.   0.   0.15 0.3  0.  ]\n",
      " [0.   0.   0.1  0.25 0.  ]\n",
      " [0.   0.   0.   0.2  0.  ]\n",
      " [0.   0.   0.   0.15 0.1 ]\n",
      " [0.   0.   0.   0.1  0.15]\n",
      " [0.   0.   0.   0.   0.2 ]\n",
      " [0.1  0.   0.   0.   0.25]\n",
      " [0.15 0.   0.   0.   0.3 ]\n",
      " [0.2  0.   0.   0.   1.  ]\n",
      " [0.25 0.   0.   0.   0.3 ]\n",
      " [0.3  0.   0.   0.   0.25]\n",
      " [1.   0.1  0.   0.   0.2 ]\n",
      " [0.3  0.15 0.   0.   0.15]\n",
      " [0.25 0.2  0.   0.   0.1 ]\n",
      " [0.2  0.25 0.   0.   0.  ]\n",
      " [0.15 0.3  0.   0.   0.  ]\n",
      " [0.1  1.   0.1  0.   0.  ]\n",
      " [0.   0.3  0.15 0.   0.  ]\n",
      " [0.   0.25 0.2  0.   0.  ]\n",
      " [0.   0.2  0.25 0.1  0.  ]\n",
      " [0.   0.15 0.3  0.15 0.  ]\n",
      " [0.   0.1  1.   0.2  0.  ]\n",
      " [0.   0.   0.3  0.25 0.  ]\n",
      " [0.   0.   0.25 0.3  0.  ]\n",
      " [0.   0.   0.2  1.   0.  ]\n",
      " [0.   0.   0.15 0.3  0.  ]\n",
      " [0.   0.   0.1  0.25 0.  ]]\n"
     ]
    }
   ],
   "source": [
    "# cut and transpose the onehot by the target length\n",
    "onehot = onehot[:,:target_t]\n",
    "onehot = onehot.T\n",
    "print(onehot.shape)\n",
    "plt.imshow(onehot)\n",
    "plt.show()\n",
    "print(onehot)"
   ]
  },
  {
   "cell_type": "code",
   "execution_count": 137,
   "metadata": {},
   "outputs": [
    {
     "name": "stdout",
     "output_type": "stream",
     "text": [
      "(36, 5)\n"
     ]
    },
    {
     "data": {
      "image/png": "[encoded data removed]",
      "text/plain": [
       "<Figure size 432x288 with 1 Axes>"
      ]
     },
     "metadata": {
      "needs_background": "light"
     },
     "output_type": "display_data"
    },
    {
     "name": "stdout",
     "output_type": "stream",
     "text": [
      "[[0.08333333 0.83333333 0.08333333 0.         0.        ]\n",
      " [0.         0.66666667 0.33333333 0.         0.        ]\n",
      " [0.         0.55555556 0.44444444 0.         0.        ]\n",
      " [0.         0.36363636 0.45454545 0.18181818 0.        ]\n",
      " [0.         0.25       0.5        0.25       0.        ]\n",
      " [0.         0.07692308 0.76923077 0.15384615 0.        ]\n",
      " [0.         0.         0.54545455 0.45454545 0.        ]\n",
      " [0.         0.         0.45454545 0.54545455 0.        ]\n",
      " [0.         0.         0.16666667 0.83333333 0.        ]\n",
      " [0.         0.         0.33333333 0.66666667 0.        ]\n",
      " [0.         0.         0.28571429 0.71428571 0.        ]\n",
      " [0.         0.         0.         1.         0.        ]\n",
      " [0.         0.         0.         0.6        0.4       ]\n",
      " [0.         0.         0.         0.4        0.6       ]\n",
      " [0.         0.         0.         0.         1.        ]\n",
      " [0.28571429 0.         0.         0.         0.71428571]\n",
      " [0.33333333 0.         0.         0.         0.66666667]\n",
      " [0.16666667 0.         0.         0.         0.83333333]\n",
      " [0.45454545 0.         0.         0.         0.54545455]\n",
      " [0.54545455 0.         0.         0.         0.45454545]\n",
      " [0.76923077 0.07692308 0.         0.         0.15384615]\n",
      " [0.5        0.25       0.         0.         0.25      ]\n",
      " [0.45454545 0.36363636 0.         0.         0.18181818]\n",
      " [0.44444444 0.55555556 0.         0.         0.        ]\n",
      " [0.33333333 0.66666667 0.         0.         0.        ]\n",
      " [0.08333333 0.83333333 0.08333333 0.         0.        ]\n",
      " [0.         0.66666667 0.33333333 0.         0.        ]\n",
      " [0.         0.55555556 0.44444444 0.         0.        ]\n",
      " [0.         0.36363636 0.45454545 0.18181818 0.        ]\n",
      " [0.         0.25       0.5        0.25       0.        ]\n",
      " [0.         0.07692308 0.76923077 0.15384615 0.        ]\n",
      " [0.         0.         0.54545455 0.45454545 0.        ]\n",
      " [0.         0.         0.45454545 0.54545455 0.        ]\n",
      " [0.         0.         0.16666667 0.83333333 0.        ]\n",
      " [0.         0.         0.33333333 0.66666667 0.        ]\n",
      " [0.         0.         0.28571429 0.71428571 0.        ]]\n"
     ]
    }
   ],
   "source": [
    "import sys\n",
    "# normalise the target vectors per timestep (sum(timestep_i) == 1)\n",
    "for idx in range(onehot.shape[0]):\n",
    "    smoothed = onehot[idx]\n",
    "    smoothed = smoothed / (sum(smoothed) + sys.float_info.epsilon)\n",
    "    onehot[idx] = smoothed\n",
    "    \n",
    "print(onehot.shape)\n",
    "plt.imshow(onehot)\n",
    "plt.show()\n",
    "print(onehot)"
   ]
  }
 ],
 "metadata": {
  "kernelspec": {
   "display_name": "dcmr",
   "language": "python",
   "name": "dcmr"
  },
  "language_info": {
   "codemirror_mode": {
    "name": "ipython",
    "version": 3
   },
   "file_extension": ".py",
   "mimetype": "text/x-python",
   "name": "python",
   "nbconvert_exporter": "python",
   "pygments_lexer": "ipython3",
   "version": "3.8.5"
  },
  "widgets": {
   "application/vnd.jupyter.widget-state+json": {
    "state": {},
    "version_major": 2,
    "version_minor": 0
   }
  }
 },
 "nbformat": 4,
 "nbformat_minor": 4
}
