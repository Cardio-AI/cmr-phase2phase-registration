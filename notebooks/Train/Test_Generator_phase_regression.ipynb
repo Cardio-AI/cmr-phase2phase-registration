{
 "cells": [
  {
   "cell_type": "code",
   "execution_count": 1,
   "metadata": {},
   "outputs": [
    {
     "name": "stdout",
     "output_type": "stream",
     "text": [
      "search for root_dir and set working directory\n",
      "Working directory set to: /mnt/ssd/git/dynamic-cmr-models\n",
      "['/gpu:0', '/gpu:1']\n"
     ]
    },
    {
     "name": "stderr",
     "output_type": "stream",
     "text": [
      "2021-02-25 14:16:50,890 INFO -------------------- Start --------------------\n",
      "2021-02-25 14:16:50,890 INFO Working directory: /mnt/ssd/git/dynamic-cmr-models.\n",
      "2021-02-25 14:16:50,890 INFO Log file: ./logs/baseline/8_64_64__8_3_3_temp_enc_conv1_1_CCE_smoothNO_augNO_tempaugNO_batchsize8_f3.log\n",
      "2021-02-25 14:16:50,891 INFO Log level for console: INFO\n",
      "2021-02-25 14:16:50,892 INFO Is built with tensorflow: True\n",
      "2021-02-25 14:16:50,975 INFO Visible devices:\n",
      "[PhysicalDevice(name='/physical_device:CPU:0', device_type='CPU'), PhysicalDevice(name='/physical_device:XLA_CPU:0', device_type='XLA_CPU'), PhysicalDevice(name='/physical_device:XLA_GPU:0', device_type='XLA_GPU'), PhysicalDevice(name='/physical_device:XLA_GPU:1', device_type='XLA_GPU'), PhysicalDevice(name='/physical_device:GPU:0', device_type='GPU'), PhysicalDevice(name='/physical_device:GPU:1', device_type='GPU')]\n",
      "2021-02-25 14:16:51,611 INFO Local devices: \n",
      " [name: \"/device:CPU:0\"\n",
      "device_type: \"CPU\"\n",
      "memory_limit: 268435456\n",
      "locality {\n",
      "}\n",
      "incarnation: 6636395639757996255\n",
      ", name: \"/device:XLA_CPU:0\"\n",
      "device_type: \"XLA_CPU\"\n",
      "memory_limit: 17179869184\n",
      "locality {\n",
      "}\n",
      "incarnation: 8264266339196377905\n",
      "physical_device_desc: \"device: XLA_CPU device\"\n",
      ", name: \"/device:XLA_GPU:0\"\n",
      "device_type: \"XLA_GPU\"\n",
      "memory_limit: 17179869184\n",
      "locality {\n",
      "}\n",
      "incarnation: 16350368073973094481\n",
      "physical_device_desc: \"device: XLA_GPU device\"\n",
      ", name: \"/device:XLA_GPU:1\"\n",
      "device_type: \"XLA_GPU\"\n",
      "memory_limit: 17179869184\n",
      "locality {\n",
      "}\n",
      "incarnation: 2637273121774536508\n",
      "physical_device_desc: \"device: XLA_GPU device\"\n",
      ", name: \"/device:GPU:0\"\n",
      "device_type: \"GPU\"\n",
      "memory_limit: 23112836736\n",
      "locality {\n",
      "  bus_id: 1\n",
      "  links {\n",
      "  }\n",
      "}\n",
      "incarnation: 4790708580896707762\n",
      "physical_device_desc: \"device: 0, name: TITAN RTX, pci bus id: 0000:01:00.0, compute capability: 7.5\"\n",
      ", name: \"/device:GPU:1\"\n",
      "device_type: \"GPU\"\n",
      "memory_limit: 23561682304\n",
      "locality {\n",
      "  bus_id: 1\n",
      "  links {\n",
      "  }\n",
      "}\n",
      "incarnation: 16544681301421117593\n",
      "physical_device_desc: \"device: 1, name: TITAN RTX, pci bus id: 0000:02:00.0, compute capability: 7.5\"\n",
      "]\n"
     ]
    },
    {
     "name": "stdout",
     "output_type": "stream",
     "text": [
      "{'GPU_IDS': '0,1', 'GPUS': ['/gpu:0', '/gpu:1'], 'SEED': 42, 'EXPERIMENT': 'baseline/8_64_64__8_3_3_temp_enc_conv1_1_CCE_smoothNO_augNO_tempaugNO_batchsize8_f3', 'EXPERIMENTS_ROOT': 'exp/', 'EXP_PATH': 'exp/baseline/8_64_64__8_3_3_temp_enc_conv1_1_CCE_smoothNO_augNO_tempaugNO_batchsize8_f3/2021-02-25_14_16', 'MODEL_PATH': 'exp/baseline/8_64_64__8_3_3_temp_enc_conv1_1_CCE_smoothNO_augNO_tempaugNO_batchsize8_f3/2021-02-25_14_16/model', 'TENSORBOARD_PATH': 'exp/baseline/8_64_64__8_3_3_temp_enc_conv1_1_CCE_smoothNO_augNO_tempaugNO_batchsize8_f3/2021-02-25_14_16/tensorboard_logs', 'CONFIG_PATH': 'exp/baseline/8_64_64__8_3_3_temp_enc_conv1_1_CCE_smoothNO_augNO_tempaugNO_batchsize8_f3/2021-02-25_14_16/config', 'HISTORY_PATH': 'exp/baseline/8_64_64__8_3_3_temp_enc_conv1_1_CCE_smoothNO_augNO_tempaugNO_batchsize8_f3/2021-02-25_14_16/history', 'DATA_PATH_SAX': '/mnt/ssd/data/gcn/02_imported_4D_unfiltered/SAX/', 'DF_FOLDS': '/mnt/ssd/data/gcn/02_imported_4D_unfiltered/df_kfold.csv', 'DF_META': '/mnt/ssd/data/gcn/02_imported_4D_unfiltered/SAx_3D_dicomTags_phase', 'FOLD': 3, 'BATCHSIZE': 8, 'GENERATOR_WORKER': 8, 'EPOCHS': 200, 'DIM': [8, 64, 64], 'T_SHAPE': 36, 'SPACING': [8, 3, 3], 'DEPTH': 3, 'FILTERS': 32, 'M_POOL': [1, 2, 2], 'F_SIZE': [3, 3, 3], 'BN_FIRST': False, 'BATCH_NORMALISATION': True, 'PAD': 'same', 'KERNEL_INIT': 'he_normal', 'OPTIMIZER': 'adam', 'ACTIVATION': 'relu', 'LEARNING_RATE': 0.0001, 'DECAY_FACTOR': 0.3, 'MIN_LR': 1e-11, 'MONITOR_FUNCTION': 'loss', 'MONITOR_MODE': 'min', 'SAVE_MODEL_FUNCTION': 'loss', 'SAVE_MODEL_MODE': 'min', 'MODEL_PATIENCE': 20, 'SAVE_LEARNING_PROGRESS_AS_TF': True, 'BORDER_MODE': 4, 'IMG_INTERPOLATION': 1, 'MSK_INTERPOLATION': 0, 'AUGMENT': False, 'AUGMENT_PROB': 0.8, 'AUGMENT_PHASES': False, 'AUGMENT_PHASES_RANGE': (-3, 3), 'SHUFFLE': True, 'RESAMPLE': True, 'SCALER': 'MinMax', 'PHASES': 5, 'TARGET_SMOOTHING': True, 'SMOOTHING_KERNEL_SIZE': 12, 'SMOOTHING_LOWER_BORDER': 1, 'SMOOTHING_UPPER_BORDER': 5, 'SMOOTHING_WEIGHT_CORRECT': 10, 'TENSORBOARD_LOG_DIR': 'reports/tensorboard_logs/baseline/8_64_64__8_3_3_temp_enc_conv1_1_CCE_smoothNO_augNO_tempaugNO_batchsize8_f3'}\n"
     ]
    }
   ],
   "source": [
    "# ------------------------------------------define logging and working directory\n",
    "from ProjectRoot import change_wd_to_project_root\n",
    "change_wd_to_project_root()\n",
    "from src.utils.Tensorflow_helper import choose_gpu_by_id\n",
    "# ------------------------------------------define GPU id/s to use\n",
    "GPU_IDS = '0,1'\n",
    "GPUS = choose_gpu_by_id(GPU_IDS)\n",
    "print(GPUS)\n",
    "# ------------------------------------------jupyter magic config\n",
    "%matplotlib inline\n",
    "%reload_ext autoreload\n",
    "%autoreload 2\n",
    "# ------------------------------------------ import helpers\n",
    "# this should import glob, os, and many other standard libs\n",
    "from src.utils.Notebook_imports import *\n",
    "from tensorflow.python.client import device_lib\n",
    "import tensorflow as tf\n",
    "tf.get_logger().setLevel('ERROR')\n",
    "# local imports\n",
    "from src.utils.Utils_io import Console_and_file_logger, init_config\n",
    "from src.visualization.Visualize import show_2D_or_3D\n",
    "from src.utils.KerasCallbacks import get_callbacks\n",
    "from src.data.Dataset import get_trainings_files\n",
    "\n",
    "# import external libs\n",
    "import cv2\n",
    "import pandas as pd\n",
    "\n",
    "EXPERIMENT = 'baseline/8_64_64__8_3_3_temp_enc_conv1_1_CCE_smoothNO_augNO_tempaugNO_batchsize8_f0_repeat'\n",
    "#EXPERIMENT = 'baseline_label_transpose_smooth05/36_5_BiLSTM32_NoBn_conv5_size1_CCE_NOphaseaug_NOaug_b8'\n",
    "# EXPERIMENT = 'mased_scores/36_5_BiLSTM32_NoBn_conv5_size1_CCE_NOphaseaug_shift_rotate_reflectbordersgridaug'\n",
    "timestemp = str(datetime.datetime.now().strftime(\"%Y-%m-%d_%H_%M\")) # ad a timestep to each project to make repeated experiments unique\n",
    "\n",
    "EXPERIMENTS_ROOT = 'exp/'\n",
    "EXP_PATH = os.path.join(EXPERIMENTS_ROOT, EXPERIMENT, timestemp)\n",
    "MODEL_PATH = os.path.join(EXP_PATH, 'model', )\n",
    "TENSORBOARD_PATH = os.path.join(EXP_PATH, 'tensorboard_logs')\n",
    "CONFIG_PATH = os.path.join(EXP_PATH,'config')\n",
    "HISTORY_PATH = os.path.join(EXP_PATH, 'history')\n",
    "ensure_dir(MODEL_PATH)\n",
    "ensure_dir(TENSORBOARD_PATH)\n",
    "ensure_dir(CONFIG_PATH)\n",
    "ensure_dir(HISTORY_PATH)\n",
    "\n",
    "# define the data paths and fold \n",
    "# first to the 4D Nrrd files, \n",
    "# second to a dataframe with a mapping of the Fold-number - filename\n",
    "DATA_PATH_SAX = '/mnt/ssd/data/gcn/02_imported_4D_unfiltered/SAX/'\n",
    "DF_FOLDS = '/mnt/ssd/data/gcn/02_imported_4D_unfiltered/df_kfold.csv'\n",
    "DF_META = '/mnt/ssd/data/gcn/02_imported_4D_unfiltered/SAx_3D_dicomTags_phase'\n",
    "FOLD = 0\n",
    "\n",
    "# General params\n",
    "SEED = 42 # define a seed for the generator shuffle\n",
    "BATCHSIZE = 8 # 32, 64, 24, 16, 1 for 3D use: 4\n",
    "GENERATOR_WORKER = BATCHSIZE # if not set, use batchsize\n",
    "EPOCHS = 200\n",
    "\n",
    "DIM = [8, 64, 64] # network input shape for spacing of 3, (z,y,x)\n",
    "T_SHAPE = 36\n",
    "SPACING = [8, 3, 3] # if resample, resample to this spacing, (z,y,x)\n",
    "\n",
    "# Model params\n",
    "DEPTH = 3 # depth of the encoder\n",
    "FILTERS = 32 # initial number of filters, will be doubled after each downsampling block\n",
    "M_POOL = [1, 2, 2]# size of max-pooling used for downsampling and upsampling\n",
    "F_SIZE = [3, 3, 3] # conv filter size\n",
    "BN_FIRST = False # decide if batch normalisation between conv and activation or afterwards\n",
    "BATCH_NORMALISATION = True # apply BN or not\n",
    "PAD = 'same' # padding strategy of the conv layers\n",
    "KERNEL_INIT = 'he_normal' # conv weight initialisation\n",
    "OPTIMIZER = 'adam' # Adam, Adagrad, RMSprop, Adadelta,  # https://keras.io/optimizers/\n",
    "ACTIVATION = 'relu' # tf.keras.layers.LeakyReLU(), relu or any other non linear activation function\n",
    "LEARNING_RATE = 1e-4 # start with a huge lr to converge fast\n",
    "DECAY_FACTOR = 0.3 # Define a learning rate decay for the ReduceLROnPlateau callback\n",
    "MIN_LR = 1e-11 # minimal lr, smaller lr does not improve the model\n",
    "DROPOUT_min = 0.3 # lower dropout at the shallow layers\n",
    "DROPOUT_max = 0.5 # higher dropout at the deep layers\n",
    "\n",
    "# Callback params\n",
    "MONITOR_FUNCTION = 'loss'\n",
    "MONITOR_MODE = 'min'\n",
    "SAVE_MODEL_FUNCTION = 'loss'\n",
    "SAVE_MODEL_MODE = 'min'\n",
    "MODEL_PATIENCE = 20\n",
    "SAVE_LEARNING_PROGRESS_AS_TF = True\n",
    "\n",
    "# Generator and Augmentation params\n",
    "BORDER_MODE = cv2.BORDER_REFLECT_101 # border mode for the data generation\n",
    "IMG_INTERPOLATION = cv2.INTER_LINEAR # image interpolation in the genarator\n",
    "MSK_INTERPOLATION = cv2.INTER_NEAREST # mask interpolation in the generator\n",
    "AUGMENT = False # a compose of 2D augmentation (grid distortion, 90degree rotation, brightness and shift)\n",
    "AUGMENT_PROB = 0.8\n",
    "AUGMENT_PHASES = False\n",
    "AUGMENT_PHASES_RANGE = (-3,3)\n",
    "SHUFFLE = True\n",
    "RESAMPLE = True\n",
    "SCALER = 'MinMax' # MinMax, Standard or Robust\n",
    "# We define 5 target phases and a background phase for the pad/empty volumes \n",
    "PHASES = len(['ED#', 'MS#', 'ES#', 'PF#', 'MD#']) # skipped 'pad backround manually added', due to repeating\n",
    "TARGET_SMOOTHING = True\n",
    "SMOOTHING_KERNEL_SIZE = 12\n",
    "SMOOTHING_LOWER_BORDER = 1\n",
    "SMOOTHING_UPPER_BORDER = 5\n",
    "SMOOTHING_WEIGHT_CORRECT = 10\n",
    "\n",
    "\n",
    "Console_and_file_logger(EXPERIMENT, logging.INFO)\n",
    "config = init_config(config=locals(), save=True)\n",
    "print(config)\n",
    "logging.info('Is built with tensorflow: {}'.format(tf.test.is_built_with_cuda()))\n",
    "logging.info('Visible devices:\\n{}'.format(tf.config.list_physical_devices()))\n",
    "logging.info('Local devices: \\n {}'.format(device_lib.list_local_devices()))"
   ]
  },
  {
   "cell_type": "code",
   "execution_count": 2,
   "metadata": {},
   "outputs": [
    {
     "name": "stderr",
     "output_type": "stream",
     "text": [
      "2021-02-25 14:16:51,634 INFO no files found, try to load with clean.nrrd/mask.nrrd pattern\n",
      "2021-02-25 14:16:51,642 INFO Found 278 images/masks in /mnt/ssd/data/gcn/02_imported_4D_unfiltered/SAX/\n",
      "2021-02-25 14:16:51,642 INFO Patients train: 210\n",
      "2021-02-25 14:16:51,653 INFO Selected 209 of 278 files with 210 of 279 patients for training fold 3\n",
      "2021-02-25 14:16:51,654 INFO SAX train CMR: 209, SAX train masks: 209\n",
      "2021-02-25 14:16:51,654 INFO SAX val CMR: 69, SAX val masks: 69\n"
     ]
    }
   ],
   "source": [
    "# Load SAX volumes\n",
    "x_train_sax, y_train_sax, x_val_sax, y_val_sax =  get_trainings_files(data_path=DATA_PATH_SAX,path_to_folds_df=DF_FOLDS, fold=FOLD)\n",
    "logging.info('SAX train CMR: {}, SAX train masks: {}'.format(len(x_train_sax), len(y_train_sax)))\n",
    "logging.info('SAX val CMR: {}, SAX val masks: {}'.format(len(x_val_sax), len(y_val_sax)))"
   ]
  },
  {
   "cell_type": "code",
   "execution_count": 3,
   "metadata": {},
   "outputs": [
    {
     "name": "stderr",
     "output_type": "stream",
     "text": [
      "2021-02-25 14:16:51,689 INFO Check if we find the patient ID and phase mapping for all: 278 files.\n",
      "2021-02-25 14:16:51,960 INFO Done!\n"
     ]
    }
   ],
   "source": [
    "# check if we find each patient in the corresponding dataframe\n",
    "import re\n",
    "METADATA_FILE = config.get('DF_META', '/mnt/ssd/data/gcn/02_imported_4D_unfiltered/SAx_3D_dicomTags_phase')\n",
    "df = pd.read_csv(METADATA_FILE)\n",
    "DF_METADATA = df[['patient', 'ED#', 'MS#', 'ES#', 'PF#', 'MD#']]\n",
    "\n",
    "files_ = x_train_sax + x_val_sax\n",
    "info('Check if we find the patient ID and phase mapping for all: {} files.'.format(len(files_)))\n",
    "for x in files_:\n",
    "    try:\n",
    "        patient_str = re.search('-(.{8})_', x).group(1).upper()\n",
    "        \n",
    "        assert(len(patient_str) == 8), 'matched patient ID from the phase sheet has a length of: {}'.format(len(patient_str))\n",
    "        # returns the indices in the following order: 'ED#', 'MS#', 'ES#', 'PF#', 'MD#'\n",
    "        # reduce by one, as the indexes start at 0, the excel-sheet at 1\n",
    "        ind = DF_METADATA[DF_METADATA.patient.str.contains(patient_str)][['ED#', 'MS#', 'ES#', 'PF#', 'MD#']]\n",
    "        indices = ind.values[0].astype(int) -1\n",
    "        \n",
    "    except Exception as e:\n",
    "        logging.info(patient_str)\n",
    "        logging.info(ind)\n",
    "        logging.info('indices: \\n{}'.format(indices))\n",
    "info('Done!')"
   ]
  },
  {
   "cell_type": "code",
   "execution_count": 4,
   "metadata": {},
   "outputs": [
    {
     "data": {
      "application/vnd.jupyter.widget-view+json": {
       "model_id": "f7b0f90a4760425b9b398b87b17012bb",
       "version_major": 2,
       "version_minor": 0
      },
      "text/plain": [
       "interactive(children=(Text(value='', description='search_str'), Output()), _dom_classes=('widget-interact',))"
      ]
     },
     "metadata": {},
     "output_type": "display_data"
    }
   ],
   "source": [
    "@interact\n",
    "def search_p_in_df(search_str = ''):\n",
    "    return DF_METADATA[DF_METADATA['patient'].str.contains(search_str)]"
   ]
  },
  {
   "cell_type": "code",
   "execution_count": 5,
   "metadata": {},
   "outputs": [
    {
     "name": "stderr",
     "output_type": "stream",
     "text": [
      "2021-02-25 14:16:52,020 INFO Create DataGenerator\n",
      "2021-02-25 14:16:52,021 INFO Datagenerator created with: \n",
      " shape: [8, 64, 64]\n",
      " spacing: [8, 3, 3]\n",
      " batchsize: 8\n",
      " Scaler: MinMax\n",
      " Images: 209 \n",
      " Augment: False \n",
      " Thread workers: 8\n",
      "2021-02-25 14:16:52,022 INFO No augmentation\n",
      "2021-02-25 14:16:52,035 INFO Smoothing kernel: \n",
      "[ 1.   1.8  2.6  3.4  4.2  5.  10.   5.   4.2  3.4  2.6  1.8  1. ]\n",
      "2021-02-25 14:16:52,036 INFO Temporal phase augmentation: False\n",
      "2021-02-25 14:16:52,037 INFO Create DataGenerator\n",
      "2021-02-25 14:16:52,037 INFO Datagenerator created with: \n",
      " shape: [8, 64, 64]\n",
      " spacing: [8, 3, 3]\n",
      " batchsize: 8\n",
      " Scaler: MinMax\n",
      " Images: 69 \n",
      " Augment: False \n",
      " Thread workers: 8\n",
      "2021-02-25 14:16:52,038 INFO No augmentation\n",
      "2021-02-25 14:16:52,051 INFO Smoothing kernel: \n",
      "[ 1.   1.8  2.6  3.4  4.2  5.  10.   5.   4.2  3.4  2.6  1.8  1. ]\n",
      "2021-02-25 14:16:52,051 INFO Temporal phase augmentation: False\n"
     ]
    }
   ],
   "source": [
    "# initialise a generator with these files\n",
    "# logging.getLogger().setLevel(logging.INFO)\n",
    "from src.data.Generators import PhaseRegressionGenerator\n",
    "#config['SHUFFLE'] = False\n",
    "#config['AUGMENT'] = False\n",
    "#config['RESAMPLE'] = True\n",
    "#config['AUGMENT_PHASES'] = False\n",
    "batch_generator = PhaseRegressionGenerator(x_train_sax, x_train_sax, config=config)\n",
    "val_config = config.copy()\n",
    "val_config['AUGMENT'] = False\n",
    "val_config['AUGMENT_PHASES'] = False\n",
    "validation_generator = PhaseRegressionGenerator(x_val_sax, x_val_sax , config=val_config)"
   ]
  },
  {
   "cell_type": "code",
   "execution_count": 6,
   "metadata": {},
   "outputs": [
    {
     "data": {
      "application/vnd.jupyter.widget-view+json": {
       "model_id": "917fbb4038984107ad5abbb54ce6e0cd",
       "version_major": 2,
       "version_minor": 0
      },
      "text/plain": [
       "interactive(children=(IntSlider(value=13, description='batch', max=26), IntSlider(value=3, description='im', m…"
      ]
     },
     "metadata": {},
     "output_type": "display_data"
    }
   ],
   "source": [
    "# visualise one batch\n",
    "generator = batch_generator\n",
    "@interact_manual\n",
    "def select_image_in_batch(batch = (0,len(generator), 1), \n",
    "                          im = (0,BATCHSIZE- 1, 1), \n",
    "                          slice_n=(1,11), \n",
    "                          save=False, \n",
    "                          filepath='data/temp/', \n",
    "                          filename='temp_x.npy',\n",
    "                         show_overview=True,\n",
    "                         show_input_vol=False):\n",
    "    \n",
    "    import time\n",
    "    global inputs, outputs, gt_len\n",
    "    phases = ['ED', 'MS', 'ES', 'PF', 'MD']\n",
    "    t1 = time.time()\n",
    "    inputs, outputs = generator.__getitem__(batch)\n",
    "    onehot, gt_len_msk = np.split(outputs, indices_or_sections=2,axis=1)\n",
    "    logging.info('Preprocessing took: {:0.3f}'.format(time.time() - t1))\n",
    "    print(inputs.shape, outputs.shape)\n",
    "    print('selected batch : ' + str(batch))\n",
    "    if show_overview:\n",
    "    \n",
    "        selected_input = inputs[im]\n",
    "        selected_output = onehot[im][0]\n",
    "        selected_gtlen = int(np.sum((gt_len_msk[im,0,:,0])))\n",
    "        logging.info('GT length: {}'.format(selected_gtlen))\n",
    "\n",
    "        logging.debug('pad: \\n{}'.format(selected_output))\n",
    "        \n",
    "        f, axs = plt.subplots(1,2,figsize=(5,5))\n",
    "        i = 0\n",
    "        temp_y = selected_output\n",
    "        ind_gt = np.argmax(temp_y[:selected_gtlen,:], axis=0)\n",
    "        axs[0].title.set_text('y')\n",
    "        axs[0].set_yticks(ind_gt, minor=False)\n",
    "        axs[0].set_xticks([0,1,2,3,4], minor=False)\n",
    "        axs[0].set_xticklabels(phases, rotation =45)\n",
    "        axs[0].imshow(temp_y, aspect='auto')\n",
    "        axs[1].hist(selected_input.flatten(), bins=np.linspace(0.1,1,20))\n",
    "        f.tight_layout()\n",
    "        plt.show()\n",
    "    \n",
    "    if show_input_vol:list(map(lambda x: show_2D_or_3D(img=x, interpol='bilinear',dpi=100,f_size=(5,5)), selected_input[::slice_n]))\n",
    "\n",
    "        \n",
    "    if save:\n",
    "        ensure_dir(filepath)\n",
    "        np.save(os.path.join(filepath, filename), x[im])\n",
    "        logging.info('saved to {}'.format(os.path.join(filepath, filename)))\n",
    "    \n",
    "\n"
   ]
  },
  {
   "cell_type": "code",
   "execution_count": 7,
   "metadata": {},
   "outputs": [
    {
     "data": {
      "text/plain": [
       "'for b in range(len(validation_generator)):\\n    print(b)\\n    for im in range(BATCHSIZE):\\n        select_image_in_batch(batch=b,im=im, slice_n=5, show_=True)'"
      ]
     },
     "execution_count": 7,
     "metadata": {},
     "output_type": "execute_result"
    }
   ],
   "source": [
    "# test if all batches are processable\n",
    "\"\"\"for b in range(len(validation_generator)):\n",
    "    print(b)\n",
    "    for im in range(BATCHSIZE):\n",
    "        select_image_in_batch(batch=b,im=im, slice_n=5, show_=True)\"\"\""
   ]
  },
  {
   "cell_type": "code",
   "execution_count": 7,
   "metadata": {},
   "outputs": [
    {
     "name": "stdout",
     "output_type": "stream",
     "text": [
      "Shape after the temporal encoder\n",
      "(None, 36, 8, 8, 8, 256)\n",
      "Shape after GAP\n",
      "(None, 36, 256)\n",
      "Shape after Bi-LSTM layer\n",
      "(None, 36, 256)\n",
      "Shape after final conv layer\n",
      "(None, 36, 5)\n"
     ]
    }
   ],
   "source": [
    "from src.models.Models import create_PhaseRegressionModel\n",
    "model = create_PhaseRegressionModel(config)"
   ]
  },
  {
   "cell_type": "code",
   "execution_count": 8,
   "metadata": {},
   "outputs": [],
   "source": [
    "# write the model summary to a txt file\n",
    "# Open the file\n",
    "with open(os.path.join(EXP_PATH, 'model_summary.txt') ,'w') as fh:\n",
    "    # Pass the file handle in as a lambda function to make it callable\n",
    "    model.summary(print_fn=lambda x: fh.write(x + '\\n'))\n",
    "    \n",
    "# model.summary(line_length=150)"
   ]
  },
  {
   "cell_type": "code",
   "execution_count": 9,
   "metadata": {},
   "outputs": [
    {
     "name": "stderr",
     "output_type": "stream",
     "text": [
      "2021-02-25 14:17:01,414 INFO feed 4 Tensorboard is ready\n"
     ]
    },
    {
     "name": "stdout",
     "output_type": "stream",
     "text": [
      "Epoch 1/200\n",
      "26/26 [==============================] - ETA: 0s - loss: 1.3734 - mse_wrapper: 0.0764 - ca_wrapper: 0.4590 - meandiff: 7.8769"
     ]
    },
    {
     "name": "stderr",
     "output_type": "stream",
     "text": [
      "2021-02-25 14:18:00,738 INFO (4, 2, 36, 5)\n",
      "2021-02-25 14:18:01,284 INFO (4, 2, 36, 5)\n"
     ]
    },
    {
     "name": "stdout",
     "output_type": "stream",
     "text": [
      "\n",
      "Epoch 00001: loss improved from inf to 1.37341, saving model to exp/baseline/8_64_64__8_3_3_temp_enc_conv1_1_CCE_smoothNO_augNO_tempaugNO_batchsize8_f3/2021-02-25_14_16/model/model.h5\n",
      "26/26 [==============================] - 33s 1s/step - loss: 1.3734 - mse_wrapper: 0.0764 - ca_wrapper: 0.4590 - meandiff: 7.8769 - val_loss: 1.4013 - val_mse_wrapper: 0.0839 - val_ca_wrapper: 0.4536 - val_meandiff: 7.5625 - lr: 1.0000e-04\n",
      "Epoch 2/200\n",
      "26/26 [==============================] - ETA: 0s - loss: 1.0955 - mse_wrapper: 0.0521 - ca_wrapper: 0.6307 - meandiff: 5.6962"
     ]
    },
    {
     "name": "stderr",
     "output_type": "stream",
     "text": [
      "2021-02-25 14:18:33,017 INFO (4, 2, 36, 5)\n",
      "2021-02-25 14:18:33,571 INFO (4, 2, 36, 5)\n"
     ]
    },
    {
     "name": "stdout",
     "output_type": "stream",
     "text": [
      "\n",
      "Epoch 00002: loss improved from 1.37341 to 1.09554, saving model to exp/baseline/8_64_64__8_3_3_temp_enc_conv1_1_CCE_smoothNO_augNO_tempaugNO_batchsize8_f3/2021-02-25_14_16/model/model.h5\n",
      "26/26 [==============================] - 31s 1s/step - loss: 1.0955 - mse_wrapper: 0.0521 - ca_wrapper: 0.6307 - meandiff: 5.6962 - val_loss: 1.4861 - val_mse_wrapper: 0.0875 - val_ca_wrapper: 0.4727 - val_meandiff: 6.8375 - lr: 1.0000e-04\n",
      "Epoch 3/200\n",
      "26/26 [==============================] - ETA: 0s - loss: 1.0339 - mse_wrapper: 0.0465 - ca_wrapper: 0.6831 - meandiff: 5.1654"
     ]
    },
    {
     "name": "stderr",
     "output_type": "stream",
     "text": [
      "2021-02-25 14:19:04,199 INFO (4, 2, 36, 5)\n",
      "2021-02-25 14:19:04,752 INFO (4, 2, 36, 5)\n"
     ]
    },
    {
     "name": "stdout",
     "output_type": "stream",
     "text": [
      "\n",
      "Epoch 00003: loss improved from 1.09554 to 1.03391, saving model to exp/baseline/8_64_64__8_3_3_temp_enc_conv1_1_CCE_smoothNO_augNO_tempaugNO_batchsize8_f3/2021-02-25_14_16/model/model.h5\n",
      "26/26 [==============================] - 30s 1s/step - loss: 1.0339 - mse_wrapper: 0.0465 - ca_wrapper: 0.6831 - meandiff: 5.1654 - val_loss: 1.1730 - val_mse_wrapper: 0.0608 - val_ca_wrapper: 0.6150 - val_meandiff: 6.4250 - lr: 1.0000e-04\n",
      "Epoch 4/200\n",
      "26/26 [==============================] - ETA: 0s - loss: 0.9583 - mse_wrapper: 0.0388 - ca_wrapper: 0.7330 - meandiff: 4.6923"
     ]
    },
    {
     "name": "stderr",
     "output_type": "stream",
     "text": [
      "2021-02-25 14:19:36,028 INFO (4, 2, 36, 5)\n",
      "2021-02-25 14:19:36,765 INFO (4, 2, 36, 5)\n"
     ]
    },
    {
     "name": "stdout",
     "output_type": "stream",
     "text": [
      "\n",
      "Epoch 00004: loss improved from 1.03391 to 0.95835, saving model to exp/baseline/8_64_64__8_3_3_temp_enc_conv1_1_CCE_smoothNO_augNO_tempaugNO_batchsize8_f3/2021-02-25_14_16/model/model.h5\n",
      "26/26 [==============================] - 30s 1s/step - loss: 0.9583 - mse_wrapper: 0.0388 - ca_wrapper: 0.7330 - meandiff: 4.6923 - val_loss: 1.1550 - val_mse_wrapper: 0.0601 - val_ca_wrapper: 0.6141 - val_meandiff: 6.4750 - lr: 1.0000e-04\n",
      "Epoch 5/200\n",
      "26/26 [==============================] - ETA: 0s - loss: 0.9386 - mse_wrapper: 0.0372 - ca_wrapper: 0.7392 - meandiff: 4.6731\n",
      "Epoch 00005: loss improved from 0.95835 to 0.93860, saving model to exp/baseline/8_64_64__8_3_3_temp_enc_conv1_1_CCE_smoothNO_augNO_tempaugNO_batchsize8_f3/2021-02-25_14_16/model/model.h5\n",
      "26/26 [==============================] - 30s 1s/step - loss: 0.9386 - mse_wrapper: 0.0372 - ca_wrapper: 0.7392 - meandiff: 4.6731 - val_loss: 1.1934 - val_mse_wrapper: 0.0644 - val_ca_wrapper: 0.5699 - val_meandiff: 6.5500 - lr: 1.0000e-04\n",
      "Epoch 6/200\n",
      "26/26 [==============================] - ETA: 0s - loss: 0.9295 - mse_wrapper: 0.0363 - ca_wrapper: 0.7543 - meandiff: 4.6577"
     ]
    },
    {
     "name": "stderr",
     "output_type": "stream",
     "text": [
      "2021-02-25 14:20:40,657 INFO (4, 2, 36, 5)\n",
      "2021-02-25 14:20:41,228 INFO (4, 2, 36, 5)\n"
     ]
    },
    {
     "name": "stdout",
     "output_type": "stream",
     "text": [
      "\n",
      "Epoch 00006: loss improved from 0.93860 to 0.92946, saving model to exp/baseline/8_64_64__8_3_3_temp_enc_conv1_1_CCE_smoothNO_augNO_tempaugNO_batchsize8_f3/2021-02-25_14_16/model/model.h5\n",
      "26/26 [==============================] - 32s 1s/step - loss: 0.9295 - mse_wrapper: 0.0363 - ca_wrapper: 0.7543 - meandiff: 4.6577 - val_loss: 1.0529 - val_mse_wrapper: 0.0506 - val_ca_wrapper: 0.6675 - val_meandiff: 5.8500 - lr: 1.0000e-04\n",
      "Epoch 7/200\n",
      "26/26 [==============================] - ETA: 0s - loss: 0.9382 - mse_wrapper: 0.0375 - ca_wrapper: 0.7313 - meandiff: 4.5538\n",
      "Epoch 00007: loss did not improve from 0.92946\n",
      "26/26 [==============================] - 30s 1s/step - loss: 0.9382 - mse_wrapper: 0.0375 - ca_wrapper: 0.7313 - meandiff: 4.5538 - val_loss: 1.0735 - val_mse_wrapper: 0.0522 - val_ca_wrapper: 0.6463 - val_meandiff: 4.8000 - lr: 1.0000e-04\n",
      "Epoch 8/200\n",
      "26/26 [==============================] - ETA: 0s - loss: 0.9061 - mse_wrapper: 0.0342 - ca_wrapper: 0.7638 - meandiff: 4.4500"
     ]
    },
    {
     "name": "stderr",
     "output_type": "stream",
     "text": [
      "2021-02-25 14:21:46,568 INFO (4, 2, 36, 5)\n",
      "2021-02-25 14:21:47,089 INFO (4, 2, 36, 5)\n"
     ]
    },
    {
     "name": "stdout",
     "output_type": "stream",
     "text": [
      "\n",
      "Epoch 00008: loss improved from 0.92946 to 0.90613, saving model to exp/baseline/8_64_64__8_3_3_temp_enc_conv1_1_CCE_smoothNO_augNO_tempaugNO_batchsize8_f3/2021-02-25_14_16/model/model.h5\n",
      "26/26 [==============================] - 32s 1s/step - loss: 0.9061 - mse_wrapper: 0.0342 - ca_wrapper: 0.7638 - meandiff: 4.4500 - val_loss: 1.0395 - val_mse_wrapper: 0.0500 - val_ca_wrapper: 0.6797 - val_meandiff: 4.6000 - lr: 1.0000e-04\n",
      "Epoch 9/200\n",
      "26/26 [==============================] - ETA: 0s - loss: 0.9093 - mse_wrapper: 0.0345 - ca_wrapper: 0.7593 - meandiff: 4.3846\n",
      "Epoch 00009: loss did not improve from 0.90613\n",
      "26/26 [==============================] - 30s 1s/step - loss: 0.9093 - mse_wrapper: 0.0345 - ca_wrapper: 0.7593 - meandiff: 4.3846 - val_loss: 1.1680 - val_mse_wrapper: 0.0589 - val_ca_wrapper: 0.5846 - val_meandiff: 4.8750 - lr: 1.0000e-04\n",
      "Epoch 10/200\n",
      "26/26 [==============================] - ETA: 0s - loss: 0.8770 - mse_wrapper: 0.0310 - ca_wrapper: 0.7822 - meandiff: 4.2615"
     ]
    },
    {
     "name": "stderr",
     "output_type": "stream",
     "text": [
      "2021-02-25 14:22:52,932 INFO (4, 2, 36, 5)\n",
      "2021-02-25 14:22:53,444 INFO (4, 2, 36, 5)\n"
     ]
    },
    {
     "name": "stdout",
     "output_type": "stream",
     "text": [
      "\n",
      "Epoch 00010: loss improved from 0.90613 to 0.87701, saving model to exp/baseline/8_64_64__8_3_3_temp_enc_conv1_1_CCE_smoothNO_augNO_tempaugNO_batchsize8_f3/2021-02-25_14_16/model/model.h5\n",
      "26/26 [==============================] - 32s 1s/step - loss: 0.8770 - mse_wrapper: 0.0310 - ca_wrapper: 0.7822 - meandiff: 4.2615 - val_loss: 1.1516 - val_mse_wrapper: 0.0579 - val_ca_wrapper: 0.5890 - val_meandiff: 5.0875 - lr: 1.0000e-04\n",
      "Epoch 11/200\n",
      "26/26 [==============================] - ETA: 0s - loss: 0.8665 - mse_wrapper: 0.0301 - ca_wrapper: 0.7899 - meandiff: 4.1500\n",
      "Epoch 00011: loss improved from 0.87701 to 0.86647, saving model to exp/baseline/8_64_64__8_3_3_temp_enc_conv1_1_CCE_smoothNO_augNO_tempaugNO_batchsize8_f3/2021-02-25_14_16/model/model.h5\n",
      "26/26 [==============================] - 31s 1s/step - loss: 0.8665 - mse_wrapper: 0.0301 - ca_wrapper: 0.7899 - meandiff: 4.1500 - val_loss: 0.9668 - val_mse_wrapper: 0.0416 - val_ca_wrapper: 0.7140 - val_meandiff: 4.1750 - lr: 1.0000e-04\n",
      "Epoch 12/200\n",
      "26/26 [==============================] - ETA: 0s - loss: 0.8590 - mse_wrapper: 0.0293 - ca_wrapper: 0.7910 - meandiff: 4.1731"
     ]
    },
    {
     "name": "stderr",
     "output_type": "stream",
     "text": [
      "2021-02-25 14:23:58,478 INFO (4, 2, 36, 5)\n",
      "2021-02-25 14:23:59,008 INFO (4, 2, 36, 5)\n"
     ]
    },
    {
     "name": "stdout",
     "output_type": "stream",
     "text": [
      "\n",
      "Epoch 00012: loss improved from 0.86647 to 0.85903, saving model to exp/baseline/8_64_64__8_3_3_temp_enc_conv1_1_CCE_smoothNO_augNO_tempaugNO_batchsize8_f3/2021-02-25_14_16/model/model.h5\n",
      "26/26 [==============================] - 32s 1s/step - loss: 0.8590 - mse_wrapper: 0.0293 - ca_wrapper: 0.7910 - meandiff: 4.1731 - val_loss: 1.1402 - val_mse_wrapper: 0.0578 - val_ca_wrapper: 0.5859 - val_meandiff: 5.0750 - lr: 1.0000e-04\n",
      "Epoch 13/200\n",
      "26/26 [==============================] - ETA: 0s - loss: 0.8597 - mse_wrapper: 0.0295 - ca_wrapper: 0.7874 - meandiff: 4.1269\n",
      "Epoch 00013: loss did not improve from 0.85903\n",
      "26/26 [==============================] - 31s 1s/step - loss: 0.8597 - mse_wrapper: 0.0295 - ca_wrapper: 0.7874 - meandiff: 4.1269 - val_loss: 0.9096 - val_mse_wrapper: 0.0356 - val_ca_wrapper: 0.7517 - val_meandiff: 4.1500 - lr: 1.0000e-04\n",
      "Epoch 14/200\n",
      "26/26 [==============================] - ETA: 0s - loss: 0.8457 - mse_wrapper: 0.0281 - ca_wrapper: 0.7966 - meandiff: 4.0462"
     ]
    },
    {
     "name": "stderr",
     "output_type": "stream",
     "text": [
      "2021-02-25 14:25:04,180 INFO (4, 2, 36, 5)\n",
      "2021-02-25 14:25:04,723 INFO (4, 2, 36, 5)\n"
     ]
    },
    {
     "name": "stdout",
     "output_type": "stream",
     "text": [
      "\n",
      "Epoch 00014: loss improved from 0.85903 to 0.84567, saving model to exp/baseline/8_64_64__8_3_3_temp_enc_conv1_1_CCE_smoothNO_augNO_tempaugNO_batchsize8_f3/2021-02-25_14_16/model/model.h5\n",
      "26/26 [==============================] - 32s 1s/step - loss: 0.8457 - mse_wrapper: 0.0281 - ca_wrapper: 0.7966 - meandiff: 4.0462 - val_loss: 0.9297 - val_mse_wrapper: 0.0379 - val_ca_wrapper: 0.7418 - val_meandiff: 3.9750 - lr: 1.0000e-04\n",
      "Epoch 15/200\n",
      "26/26 [==============================] - ETA: 0s - loss: 0.8396 - mse_wrapper: 0.0271 - ca_wrapper: 0.8069 - meandiff: 4.0038\n",
      "Epoch 00015: loss improved from 0.84567 to 0.83964, saving model to exp/baseline/8_64_64__8_3_3_temp_enc_conv1_1_CCE_smoothNO_augNO_tempaugNO_batchsize8_f3/2021-02-25_14_16/model/model.h5\n",
      "26/26 [==============================] - 31s 1s/step - loss: 0.8396 - mse_wrapper: 0.0271 - ca_wrapper: 0.8069 - meandiff: 4.0038 - val_loss: 1.0165 - val_mse_wrapper: 0.0466 - val_ca_wrapper: 0.7066 - val_meandiff: 4.7375 - lr: 1.0000e-04\n",
      "Epoch 16/200\n",
      "26/26 [==============================] - ETA: 0s - loss: 0.8320 - mse_wrapper: 0.0267 - ca_wrapper: 0.8032 - meandiff: 3.8038"
     ]
    },
    {
     "name": "stderr",
     "output_type": "stream",
     "text": [
      "2021-02-25 14:26:10,599 INFO (4, 2, 36, 5)\n",
      "2021-02-25 14:26:11,155 INFO (4, 2, 36, 5)\n"
     ]
    },
    {
     "name": "stdout",
     "output_type": "stream",
     "text": [
      "\n",
      "Epoch 00016: loss improved from 0.83964 to 0.83197, saving model to exp/baseline/8_64_64__8_3_3_temp_enc_conv1_1_CCE_smoothNO_augNO_tempaugNO_batchsize8_f3/2021-02-25_14_16/model/model.h5\n",
      "26/26 [==============================] - 32s 1s/step - loss: 0.8320 - mse_wrapper: 0.0267 - ca_wrapper: 0.8032 - meandiff: 3.8038 - val_loss: 0.9852 - val_mse_wrapper: 0.0413 - val_ca_wrapper: 0.7266 - val_meandiff: 4.1500 - lr: 1.0000e-04\n",
      "Epoch 17/200\n",
      "26/26 [==============================] - ETA: 0s - loss: 0.8355 - mse_wrapper: 0.0269 - ca_wrapper: 0.8025 - meandiff: 3.8808\n",
      "Epoch 00017: loss did not improve from 0.83197\n",
      "26/26 [==============================] - 30s 1s/step - loss: 0.8355 - mse_wrapper: 0.0269 - ca_wrapper: 0.8025 - meandiff: 3.8808 - val_loss: 0.9239 - val_mse_wrapper: 0.0371 - val_ca_wrapper: 0.7365 - val_meandiff: 4.0125 - lr: 1.0000e-04\n",
      "Epoch 18/200\n",
      "26/26 [==============================] - ETA: 0s - loss: 0.8256 - mse_wrapper: 0.0259 - ca_wrapper: 0.8005 - meandiff: 3.9346"
     ]
    },
    {
     "name": "stderr",
     "output_type": "stream",
     "text": [
      "2021-02-25 14:27:16,107 INFO (4, 2, 36, 5)\n",
      "2021-02-25 14:27:16,659 INFO (4, 2, 36, 5)\n"
     ]
    },
    {
     "name": "stdout",
     "output_type": "stream",
     "text": [
      "\n",
      "Epoch 00018: loss improved from 0.83197 to 0.82556, saving model to exp/baseline/8_64_64__8_3_3_temp_enc_conv1_1_CCE_smoothNO_augNO_tempaugNO_batchsize8_f3/2021-02-25_14_16/model/model.h5\n",
      "26/26 [==============================] - 32s 1s/step - loss: 0.8256 - mse_wrapper: 0.0259 - ca_wrapper: 0.8005 - meandiff: 3.9346 - val_loss: 0.9653 - val_mse_wrapper: 0.0402 - val_ca_wrapper: 0.7257 - val_meandiff: 4.0000 - lr: 1.0000e-04\n",
      "Epoch 19/200\n",
      "26/26 [==============================] - ETA: 0s - loss: 0.8273 - mse_wrapper: 0.0259 - ca_wrapper: 0.8088 - meandiff: 3.6269\n",
      "Epoch 00019: loss did not improve from 0.82556\n",
      "26/26 [==============================] - 30s 1s/step - loss: 0.8273 - mse_wrapper: 0.0259 - ca_wrapper: 0.8088 - meandiff: 3.6269 - val_loss: 1.1101 - val_mse_wrapper: 0.0495 - val_ca_wrapper: 0.6723 - val_meandiff: 4.6000 - lr: 1.0000e-04\n",
      "Epoch 20/200\n",
      "26/26 [==============================] - ETA: 0s - loss: 0.8364 - mse_wrapper: 0.0270 - ca_wrapper: 0.8058 - meandiff: 3.8846"
     ]
    },
    {
     "name": "stderr",
     "output_type": "stream",
     "text": [
      "2021-02-25 14:28:21,128 INFO (4, 2, 36, 5)\n",
      "2021-02-25 14:28:21,684 INFO (4, 2, 36, 5)\n"
     ]
    },
    {
     "name": "stdout",
     "output_type": "stream",
     "text": [
      "\n",
      "Epoch 00020: loss did not improve from 0.82556\n",
      "26/26 [==============================] - 31s 1s/step - loss: 0.8364 - mse_wrapper: 0.0270 - ca_wrapper: 0.8058 - meandiff: 3.8846 - val_loss: 1.0298 - val_mse_wrapper: 0.0451 - val_ca_wrapper: 0.6853 - val_meandiff: 4.2250 - lr: 1.0000e-04\n",
      "Epoch 21/200\n",
      "26/26 [==============================] - ETA: 0s - loss: 0.8255 - mse_wrapper: 0.0255 - ca_wrapper: 0.8105 - meandiff: 3.7538\n",
      "Epoch 00021: loss improved from 0.82556 to 0.82547, saving model to exp/baseline/8_64_64__8_3_3_temp_enc_conv1_1_CCE_smoothNO_augNO_tempaugNO_batchsize8_f3/2021-02-25_14_16/model/model.h5\n",
      "26/26 [==============================] - 31s 1s/step - loss: 0.8255 - mse_wrapper: 0.0255 - ca_wrapper: 0.8105 - meandiff: 3.7538 - val_loss: 0.9591 - val_mse_wrapper: 0.0403 - val_ca_wrapper: 0.7305 - val_meandiff: 4.1125 - lr: 1.0000e-04\n",
      "Epoch 22/200\n",
      "26/26 [==============================] - ETA: 0s - loss: 0.8118 - mse_wrapper: 0.0242 - ca_wrapper: 0.8200 - meandiff: 3.6808"
     ]
    },
    {
     "name": "stderr",
     "output_type": "stream",
     "text": [
      "2021-02-25 14:29:26,532 INFO (4, 2, 36, 5)\n",
      "2021-02-25 14:29:27,081 INFO (4, 2, 36, 5)\n"
     ]
    },
    {
     "name": "stdout",
     "output_type": "stream",
     "text": [
      "\n",
      "Epoch 00022: loss improved from 0.82547 to 0.81176, saving model to exp/baseline/8_64_64__8_3_3_temp_enc_conv1_1_CCE_smoothNO_augNO_tempaugNO_batchsize8_f3/2021-02-25_14_16/model/model.h5\n",
      "26/26 [==============================] - 32s 1s/step - loss: 0.8118 - mse_wrapper: 0.0242 - ca_wrapper: 0.8200 - meandiff: 3.6808 - val_loss: 0.9814 - val_mse_wrapper: 0.0395 - val_ca_wrapper: 0.7444 - val_meandiff: 4.0125 - lr: 1.0000e-04\n",
      "Epoch 23/200\n",
      "26/26 [==============================] - ETA: 0s - loss: 0.8200 - mse_wrapper: 0.0251 - ca_wrapper: 0.8088 - meandiff: 3.6846\n",
      "Epoch 00023: loss did not improve from 0.81176\n",
      "26/26 [==============================] - 30s 1s/step - loss: 0.8200 - mse_wrapper: 0.0251 - ca_wrapper: 0.8088 - meandiff: 3.6846 - val_loss: 0.9566 - val_mse_wrapper: 0.0393 - val_ca_wrapper: 0.7409 - val_meandiff: 3.9125 - lr: 1.0000e-04\n",
      "Epoch 24/200\n",
      "26/26 [==============================] - ETA: 0s - loss: 0.8187 - mse_wrapper: 0.0249 - ca_wrapper: 0.8170 - meandiff: 3.7962"
     ]
    },
    {
     "name": "stderr",
     "output_type": "stream",
     "text": [
      "2021-02-25 14:30:31,444 INFO (4, 2, 36, 5)\n",
      "2021-02-25 14:30:31,982 INFO (4, 2, 36, 5)\n"
     ]
    },
    {
     "name": "stdout",
     "output_type": "stream",
     "text": [
      "\n",
      "Epoch 00024: loss did not improve from 0.81176\n",
      "26/26 [==============================] - 31s 1s/step - loss: 0.8187 - mse_wrapper: 0.0249 - ca_wrapper: 0.8170 - meandiff: 3.7962 - val_loss: 1.0451 - val_mse_wrapper: 0.0445 - val_ca_wrapper: 0.7109 - val_meandiff: 4.4750 - lr: 1.0000e-04\n",
      "Epoch 25/200\n",
      "26/26 [==============================] - ETA: 0s - loss: 0.8074 - mse_wrapper: 0.0238 - ca_wrapper: 0.8182 - meandiff: 3.6038\n",
      "Epoch 00025: loss improved from 0.81176 to 0.80736, saving model to exp/baseline/8_64_64__8_3_3_temp_enc_conv1_1_CCE_smoothNO_augNO_tempaugNO_batchsize8_f3/2021-02-25_14_16/model/model.h5\n",
      "26/26 [==============================] - 30s 1s/step - loss: 0.8074 - mse_wrapper: 0.0238 - ca_wrapper: 0.8182 - meandiff: 3.6038 - val_loss: 1.0374 - val_mse_wrapper: 0.0463 - val_ca_wrapper: 0.7023 - val_meandiff: 4.1625 - lr: 1.0000e-04\n",
      "Epoch 26/200\n",
      "26/26 [==============================] - ETA: 0s - loss: 0.8146 - mse_wrapper: 0.0246 - ca_wrapper: 0.8149 - meandiff: 3.7000"
     ]
    },
    {
     "name": "stderr",
     "output_type": "stream",
     "text": [
      "2021-02-25 14:31:36,543 INFO (4, 2, 36, 5)\n",
      "2021-02-25 14:31:37,089 INFO (4, 2, 36, 5)\n"
     ]
    },
    {
     "name": "stdout",
     "output_type": "stream",
     "text": [
      "\n",
      "Epoch 00026: loss did not improve from 0.80736\n",
      "26/26 [==============================] - 31s 1s/step - loss: 0.8146 - mse_wrapper: 0.0246 - ca_wrapper: 0.8149 - meandiff: 3.7000 - val_loss: 0.9620 - val_mse_wrapper: 0.0382 - val_ca_wrapper: 0.7431 - val_meandiff: 3.6875 - lr: 1.0000e-04\n",
      "Epoch 27/200\n",
      "26/26 [==============================] - ETA: 0s - loss: 0.8164 - mse_wrapper: 0.0248 - ca_wrapper: 0.8112 - meandiff: 3.6923\n",
      "Epoch 00027: loss did not improve from 0.80736\n",
      "26/26 [==============================] - 31s 1s/step - loss: 0.8164 - mse_wrapper: 0.0248 - ca_wrapper: 0.8112 - meandiff: 3.6923 - val_loss: 1.0231 - val_mse_wrapper: 0.0425 - val_ca_wrapper: 0.7396 - val_meandiff: 4.1625 - lr: 1.0000e-04\n",
      "Epoch 28/200\n",
      "26/26 [==============================] - ETA: 0s - loss: 0.8156 - mse_wrapper: 0.0246 - ca_wrapper: 0.8182 - meandiff: 3.6308"
     ]
    },
    {
     "name": "stderr",
     "output_type": "stream",
     "text": [
      "2021-02-25 14:32:42,653 INFO (4, 2, 36, 5)\n",
      "2021-02-25 14:32:43,213 INFO (4, 2, 36, 5)\n"
     ]
    },
    {
     "name": "stdout",
     "output_type": "stream",
     "text": [
      "\n",
      "Epoch 00028: loss did not improve from 0.80736\n",
      "26/26 [==============================] - 32s 1s/step - loss: 0.8156 - mse_wrapper: 0.0246 - ca_wrapper: 0.8182 - meandiff: 3.6308 - val_loss: 1.0262 - val_mse_wrapper: 0.0451 - val_ca_wrapper: 0.7062 - val_meandiff: 4.3625 - lr: 1.0000e-04\n",
      "Epoch 29/200\n",
      "26/26 [==============================] - ETA: 0s - loss: 0.8030 - mse_wrapper: 0.0235 - ca_wrapper: 0.8178 - meandiff: 3.5769\n",
      "Epoch 00029: loss improved from 0.80736 to 0.80299, saving model to exp/baseline/8_64_64__8_3_3_temp_enc_conv1_1_CCE_smoothNO_augNO_tempaugNO_batchsize8_f3/2021-02-25_14_16/model/model.h5\n",
      "26/26 [==============================] - 31s 1s/step - loss: 0.8030 - mse_wrapper: 0.0235 - ca_wrapper: 0.8178 - meandiff: 3.5769 - val_loss: 0.9614 - val_mse_wrapper: 0.0388 - val_ca_wrapper: 0.7431 - val_meandiff: 3.6500 - lr: 1.0000e-04\n",
      "Epoch 30/200\n",
      "26/26 [==============================] - ETA: 0s - loss: 0.8084 - mse_wrapper: 0.0240 - ca_wrapper: 0.8165 - meandiff: 3.6192"
     ]
    },
    {
     "name": "stderr",
     "output_type": "stream",
     "text": [
      "2021-02-25 14:33:47,980 INFO (4, 2, 36, 5)\n",
      "2021-02-25 14:33:48,529 INFO (4, 2, 36, 5)\n"
     ]
    },
    {
     "name": "stdout",
     "output_type": "stream",
     "text": [
      "\n",
      "Epoch 00030: loss did not improve from 0.80299\n",
      "26/26 [==============================] - 31s 1s/step - loss: 0.8084 - mse_wrapper: 0.0240 - ca_wrapper: 0.8165 - meandiff: 3.6192 - val_loss: 0.9302 - val_mse_wrapper: 0.0355 - val_ca_wrapper: 0.7639 - val_meandiff: 3.6875 - lr: 1.0000e-04\n",
      "Epoch 31/200\n",
      "26/26 [==============================] - ETA: 0s - loss: 0.7945 - mse_wrapper: 0.0225 - ca_wrapper: 0.8277 - meandiff: 3.5385\n",
      "Epoch 00031: loss improved from 0.80299 to 0.79451, saving model to exp/baseline/8_64_64__8_3_3_temp_enc_conv1_1_CCE_smoothNO_augNO_tempaugNO_batchsize8_f3/2021-02-25_14_16/model/model.h5\n",
      "26/26 [==============================] - 31s 1s/step - loss: 0.7945 - mse_wrapper: 0.0225 - ca_wrapper: 0.8277 - meandiff: 3.5385 - val_loss: 1.0213 - val_mse_wrapper: 0.0423 - val_ca_wrapper: 0.7140 - val_meandiff: 4.0250 - lr: 1.0000e-04\n",
      "Epoch 32/200\n",
      "26/26 [==============================] - ETA: 0s - loss: 0.8014 - mse_wrapper: 0.0232 - ca_wrapper: 0.8218 - meandiff: 3.5038"
     ]
    },
    {
     "name": "stderr",
     "output_type": "stream",
     "text": [
      "2021-02-25 14:34:53,872 INFO (4, 2, 36, 5)\n",
      "2021-02-25 14:34:54,417 INFO (4, 2, 36, 5)\n"
     ]
    },
    {
     "name": "stdout",
     "output_type": "stream",
     "text": [
      "\n",
      "Epoch 00032: loss did not improve from 0.79451\n",
      "26/26 [==============================] - 32s 1s/step - loss: 0.8014 - mse_wrapper: 0.0232 - ca_wrapper: 0.8218 - meandiff: 3.5038 - val_loss: 0.9522 - val_mse_wrapper: 0.0387 - val_ca_wrapper: 0.7378 - val_meandiff: 4.0625 - lr: 1.0000e-04\n",
      "Epoch 33/200\n",
      "26/26 [==============================] - ETA: 0s - loss: 0.7953 - mse_wrapper: 0.0225 - ca_wrapper: 0.8243 - meandiff: 3.4000\n",
      "Epoch 00033: loss did not improve from 0.79451\n",
      "26/26 [==============================] - 30s 1s/step - loss: 0.7953 - mse_wrapper: 0.0225 - ca_wrapper: 0.8243 - meandiff: 3.4000 - val_loss: 0.9461 - val_mse_wrapper: 0.0356 - val_ca_wrapper: 0.7561 - val_meandiff: 3.8375 - lr: 1.0000e-04\n",
      "Epoch 34/200\n",
      "26/26 [==============================] - ETA: 0s - loss: 0.7950 - mse_wrapper: 0.0223 - ca_wrapper: 0.8281 - meandiff: 3.4654"
     ]
    },
    {
     "name": "stderr",
     "output_type": "stream",
     "text": [
      "2021-02-25 14:35:58,824 INFO (4, 2, 36, 5)\n",
      "2021-02-25 14:35:59,374 INFO (4, 2, 36, 5)\n"
     ]
    },
    {
     "name": "stdout",
     "output_type": "stream",
     "text": [
      "\n",
      "Epoch 00034: loss did not improve from 0.79451\n",
      "26/26 [==============================] - 31s 1s/step - loss: 0.7950 - mse_wrapper: 0.0223 - ca_wrapper: 0.8281 - meandiff: 3.4654 - val_loss: 1.0054 - val_mse_wrapper: 0.0404 - val_ca_wrapper: 0.7339 - val_meandiff: 3.6875 - lr: 1.0000e-04\n",
      "Epoch 35/200\n",
      "26/26 [==============================] - ETA: 0s - loss: 0.7939 - mse_wrapper: 0.0226 - ca_wrapper: 0.8248 - meandiff: 3.5154\n",
      "Epoch 00035: loss improved from 0.79451 to 0.79392, saving model to exp/baseline/8_64_64__8_3_3_temp_enc_conv1_1_CCE_smoothNO_augNO_tempaugNO_batchsize8_f3/2021-02-25_14_16/model/model.h5\n",
      "26/26 [==============================] - 30s 1s/step - loss: 0.7939 - mse_wrapper: 0.0226 - ca_wrapper: 0.8248 - meandiff: 3.5154 - val_loss: 1.0089 - val_mse_wrapper: 0.0416 - val_ca_wrapper: 0.7270 - val_meandiff: 4.2125 - lr: 1.0000e-04\n",
      "Epoch 36/200\n",
      "26/26 [==============================] - ETA: 0s - loss: 0.7899 - mse_wrapper: 0.0219 - ca_wrapper: 0.8309 - meandiff: 3.2885"
     ]
    },
    {
     "name": "stderr",
     "output_type": "stream",
     "text": [
      "2021-02-25 14:37:04,403 INFO (4, 2, 36, 5)\n",
      "2021-02-25 14:37:04,952 INFO (4, 2, 36, 5)\n"
     ]
    },
    {
     "name": "stdout",
     "output_type": "stream",
     "text": [
      "\n",
      "Epoch 00036: loss improved from 0.79392 to 0.78986, saving model to exp/baseline/8_64_64__8_3_3_temp_enc_conv1_1_CCE_smoothNO_augNO_tempaugNO_batchsize8_f3/2021-02-25_14_16/model/model.h5\n",
      "26/26 [==============================] - 32s 1s/step - loss: 0.7899 - mse_wrapper: 0.0219 - ca_wrapper: 0.8309 - meandiff: 3.2885 - val_loss: 1.0215 - val_mse_wrapper: 0.0406 - val_ca_wrapper: 0.7413 - val_meandiff: 3.9375 - lr: 1.0000e-04\n",
      "Epoch 37/200\n",
      "26/26 [==============================] - ETA: 0s - loss: 0.7870 - mse_wrapper: 0.0216 - ca_wrapper: 0.8299 - meandiff: 3.4423\n",
      "Epoch 00037: loss improved from 0.78986 to 0.78700, saving model to exp/baseline/8_64_64__8_3_3_temp_enc_conv1_1_CCE_smoothNO_augNO_tempaugNO_batchsize8_f3/2021-02-25_14_16/model/model.h5\n",
      "26/26 [==============================] - 31s 1s/step - loss: 0.7870 - mse_wrapper: 0.0216 - ca_wrapper: 0.8299 - meandiff: 3.4423 - val_loss: 1.1283 - val_mse_wrapper: 0.0510 - val_ca_wrapper: 0.6940 - val_meandiff: 4.3000 - lr: 1.0000e-04\n",
      "Epoch 38/200\n",
      "26/26 [==============================] - ETA: 0s - loss: 0.7995 - mse_wrapper: 0.0230 - ca_wrapper: 0.8188 - meandiff: 3.4423"
     ]
    },
    {
     "name": "stderr",
     "output_type": "stream",
     "text": [
      "2021-02-25 14:38:10,428 INFO (4, 2, 36, 5)\n",
      "2021-02-25 14:38:10,975 INFO (4, 2, 36, 5)\n"
     ]
    },
    {
     "name": "stdout",
     "output_type": "stream",
     "text": [
      "\n",
      "Epoch 00038: loss did not improve from 0.78700\n",
      "26/26 [==============================] - 31s 1s/step - loss: 0.7995 - mse_wrapper: 0.0230 - ca_wrapper: 0.8188 - meandiff: 3.4423 - val_loss: 1.0242 - val_mse_wrapper: 0.0436 - val_ca_wrapper: 0.7096 - val_meandiff: 3.9875 - lr: 1.0000e-04\n",
      "Epoch 39/200\n",
      "26/26 [==============================] - ETA: 0s - loss: 0.7907 - mse_wrapper: 0.0219 - ca_wrapper: 0.8329 - meandiff: 3.3885\n",
      "Epoch 00039: loss did not improve from 0.78700\n",
      "26/26 [==============================] - 31s 1s/step - loss: 0.7907 - mse_wrapper: 0.0219 - ca_wrapper: 0.8329 - meandiff: 3.3885 - val_loss: 0.9039 - val_mse_wrapper: 0.0335 - val_ca_wrapper: 0.7652 - val_meandiff: 3.9375 - lr: 1.0000e-04\n",
      "Epoch 40/200\n",
      "26/26 [==============================] - ETA: 0s - loss: 0.7840 - mse_wrapper: 0.0216 - ca_wrapper: 0.8304 - meandiff: 3.4423"
     ]
    },
    {
     "name": "stderr",
     "output_type": "stream",
     "text": [
      "2021-02-25 14:39:16,368 INFO (4, 2, 36, 5)\n",
      "2021-02-25 14:39:16,896 INFO (4, 2, 36, 5)\n"
     ]
    },
    {
     "name": "stdout",
     "output_type": "stream",
     "text": [
      "\n",
      "Epoch 00040: loss improved from 0.78700 to 0.78404, saving model to exp/baseline/8_64_64__8_3_3_temp_enc_conv1_1_CCE_smoothNO_augNO_tempaugNO_batchsize8_f3/2021-02-25_14_16/model/model.h5\n",
      "26/26 [==============================] - 32s 1s/step - loss: 0.7840 - mse_wrapper: 0.0216 - ca_wrapper: 0.8304 - meandiff: 3.4423 - val_loss: 1.1037 - val_mse_wrapper: 0.0497 - val_ca_wrapper: 0.6862 - val_meandiff: 3.9250 - lr: 1.0000e-04\n",
      "Epoch 41/200\n",
      "26/26 [==============================] - ETA: 0s - loss: 0.7847 - mse_wrapper: 0.0214 - ca_wrapper: 0.8312 - meandiff: 3.4577\n",
      "Epoch 00041: loss did not improve from 0.78404\n",
      "26/26 [==============================] - 30s 1s/step - loss: 0.7847 - mse_wrapper: 0.0214 - ca_wrapper: 0.8312 - meandiff: 3.4577 - val_loss: 0.9211 - val_mse_wrapper: 0.0339 - val_ca_wrapper: 0.7691 - val_meandiff: 3.4750 - lr: 1.0000e-04\n",
      "Epoch 42/200\n",
      "26/26 [==============================] - ETA: 0s - loss: 0.7895 - mse_wrapper: 0.0219 - ca_wrapper: 0.8275 - meandiff: 3.4115"
     ]
    },
    {
     "name": "stderr",
     "output_type": "stream",
     "text": [
      "2021-02-25 14:40:21,866 INFO (4, 2, 36, 5)\n",
      "2021-02-25 14:40:22,415 INFO (4, 2, 36, 5)\n"
     ]
    },
    {
     "name": "stdout",
     "output_type": "stream",
     "text": [
      "\n",
      "Epoch 00042: loss did not improve from 0.78404\n",
      "26/26 [==============================] - 32s 1s/step - loss: 0.7895 - mse_wrapper: 0.0219 - ca_wrapper: 0.8275 - meandiff: 3.4115 - val_loss: 0.9481 - val_mse_wrapper: 0.0369 - val_ca_wrapper: 0.7513 - val_meandiff: 3.6250 - lr: 1.0000e-04\n",
      "Epoch 43/200\n",
      "26/26 [==============================] - ETA: 0s - loss: 0.7864 - mse_wrapper: 0.0216 - ca_wrapper: 0.8303 - meandiff: 3.3885\n",
      "Epoch 00043: loss did not improve from 0.78404\n",
      "26/26 [==============================] - 31s 1s/step - loss: 0.7864 - mse_wrapper: 0.0216 - ca_wrapper: 0.8303 - meandiff: 3.3885 - val_loss: 1.0010 - val_mse_wrapper: 0.0406 - val_ca_wrapper: 0.7279 - val_meandiff: 3.7750 - lr: 1.0000e-04\n",
      "Epoch 44/200\n",
      "26/26 [==============================] - ETA: 0s - loss: 0.7938 - mse_wrapper: 0.0224 - ca_wrapper: 0.8249 - meandiff: 3.3923"
     ]
    },
    {
     "name": "stderr",
     "output_type": "stream",
     "text": [
      "2021-02-25 14:41:27,421 INFO (4, 2, 36, 5)\n",
      "2021-02-25 14:41:27,972 INFO (4, 2, 36, 5)\n"
     ]
    },
    {
     "name": "stdout",
     "output_type": "stream",
     "text": [
      "\n",
      "Epoch 00044: loss did not improve from 0.78404\n",
      "26/26 [==============================] - 32s 1s/step - loss: 0.7938 - mse_wrapper: 0.0224 - ca_wrapper: 0.8249 - meandiff: 3.3923 - val_loss: 0.9853 - val_mse_wrapper: 0.0406 - val_ca_wrapper: 0.7227 - val_meandiff: 3.7500 - lr: 1.0000e-04\n",
      "Epoch 45/200\n",
      "26/26 [==============================] - ETA: 0s - loss: 0.7862 - mse_wrapper: 0.0218 - ca_wrapper: 0.8281 - meandiff: 3.4269\n",
      "Epoch 00045: loss did not improve from 0.78404\n",
      "\n",
      "Epoch 00045: ReduceLROnPlateau reducing learning rate to 2.9999999242136255e-05.\n",
      "26/26 [==============================] - 30s 1s/step - loss: 0.7862 - mse_wrapper: 0.0218 - ca_wrapper: 0.8281 - meandiff: 3.4269 - val_loss: 1.0235 - val_mse_wrapper: 0.0436 - val_ca_wrapper: 0.7326 - val_meandiff: 3.9750 - lr: 3.0000e-05\n",
      "Epoch 46/200\n",
      "26/26 [==============================] - ETA: 0s - loss: 0.7745 - mse_wrapper: 0.0204 - ca_wrapper: 0.8393 - meandiff: 3.2962"
     ]
    },
    {
     "name": "stderr",
     "output_type": "stream",
     "text": [
      "2021-02-25 14:42:33,033 INFO (4, 2, 36, 5)\n",
      "2021-02-25 14:42:33,538 INFO (4, 2, 36, 5)\n"
     ]
    },
    {
     "name": "stdout",
     "output_type": "stream",
     "text": [
      "\n",
      "Epoch 00046: loss improved from 0.78404 to 0.77454, saving model to exp/baseline/8_64_64__8_3_3_temp_enc_conv1_1_CCE_smoothNO_augNO_tempaugNO_batchsize8_f3/2021-02-25_14_16/model/model.h5\n",
      "26/26 [==============================] - 32s 1s/step - loss: 0.7745 - mse_wrapper: 0.0204 - ca_wrapper: 0.8393 - meandiff: 3.2962 - val_loss: 0.9718 - val_mse_wrapper: 0.0374 - val_ca_wrapper: 0.7574 - val_meandiff: 3.7125 - lr: 3.0000e-05\n",
      "Epoch 47/200\n",
      "26/26 [==============================] - ETA: 0s - loss: 0.7681 - mse_wrapper: 0.0196 - ca_wrapper: 0.8442 - meandiff: 3.2538\n",
      "Epoch 00047: loss improved from 0.77454 to 0.76808, saving model to exp/baseline/8_64_64__8_3_3_temp_enc_conv1_1_CCE_smoothNO_augNO_tempaugNO_batchsize8_f3/2021-02-25_14_16/model/model.h5\n",
      "26/26 [==============================] - 31s 1s/step - loss: 0.7681 - mse_wrapper: 0.0196 - ca_wrapper: 0.8442 - meandiff: 3.2538 - val_loss: 0.9523 - val_mse_wrapper: 0.0359 - val_ca_wrapper: 0.7600 - val_meandiff: 3.6875 - lr: 3.0000e-05\n",
      "Epoch 48/200\n",
      "26/26 [==============================] - ETA: 0s - loss: 0.7645 - mse_wrapper: 0.0193 - ca_wrapper: 0.8433 - meandiff: 3.2654"
     ]
    },
    {
     "name": "stderr",
     "output_type": "stream",
     "text": [
      "2021-02-25 14:43:38,582 INFO (4, 2, 36, 5)\n",
      "2021-02-25 14:43:39,114 INFO (4, 2, 36, 5)\n"
     ]
    },
    {
     "name": "stdout",
     "output_type": "stream",
     "text": [
      "\n",
      "Epoch 00048: loss improved from 0.76808 to 0.76450, saving model to exp/baseline/8_64_64__8_3_3_temp_enc_conv1_1_CCE_smoothNO_augNO_tempaugNO_batchsize8_f3/2021-02-25_14_16/model/model.h5\n",
      "26/26 [==============================] - 32s 1s/step - loss: 0.7645 - mse_wrapper: 0.0193 - ca_wrapper: 0.8433 - meandiff: 3.2654 - val_loss: 0.9441 - val_mse_wrapper: 0.0351 - val_ca_wrapper: 0.7691 - val_meandiff: 3.7250 - lr: 3.0000e-05\n",
      "Epoch 49/200\n",
      "26/26 [==============================] - ETA: 0s - loss: 0.7718 - mse_wrapper: 0.0201 - ca_wrapper: 0.8401 - meandiff: 3.2846\n",
      "Epoch 00049: loss did not improve from 0.76450\n",
      "26/26 [==============================] - 31s 1s/step - loss: 0.7718 - mse_wrapper: 0.0201 - ca_wrapper: 0.8401 - meandiff: 3.2846 - val_loss: 0.9493 - val_mse_wrapper: 0.0355 - val_ca_wrapper: 0.7656 - val_meandiff: 3.7750 - lr: 3.0000e-05\n",
      "Epoch 50/200\n",
      "26/26 [==============================] - ETA: 0s - loss: 0.7699 - mse_wrapper: 0.0198 - ca_wrapper: 0.8425 - meandiff: 3.2885"
     ]
    },
    {
     "name": "stderr",
     "output_type": "stream",
     "text": [
      "2021-02-25 14:44:44,116 INFO (4, 2, 36, 5)\n",
      "2021-02-25 14:44:44,663 INFO (4, 2, 36, 5)\n"
     ]
    },
    {
     "name": "stdout",
     "output_type": "stream",
     "text": [
      "\n",
      "Epoch 00050: loss did not improve from 0.76450\n",
      "26/26 [==============================] - 32s 1s/step - loss: 0.7699 - mse_wrapper: 0.0198 - ca_wrapper: 0.8425 - meandiff: 3.2885 - val_loss: 1.0276 - val_mse_wrapper: 0.0412 - val_ca_wrapper: 0.7387 - val_meandiff: 3.6750 - lr: 3.0000e-05\n",
      "Epoch 51/200\n",
      "26/26 [==============================] - ETA: 0s - loss: 0.7658 - mse_wrapper: 0.0194 - ca_wrapper: 0.8454 - meandiff: 3.1885\n",
      "Epoch 00051: loss did not improve from 0.76450\n",
      "26/26 [==============================] - 31s 1s/step - loss: 0.7658 - mse_wrapper: 0.0194 - ca_wrapper: 0.8454 - meandiff: 3.1885 - val_loss: 1.0480 - val_mse_wrapper: 0.0430 - val_ca_wrapper: 0.7335 - val_meandiff: 3.6500 - lr: 3.0000e-05\n",
      "Epoch 52/200\n",
      "26/26 [==============================] - ETA: 0s - loss: 0.7671 - mse_wrapper: 0.0194 - ca_wrapper: 0.8389 - meandiff: 3.1615"
     ]
    },
    {
     "name": "stderr",
     "output_type": "stream",
     "text": [
      "2021-02-25 14:45:49,905 INFO (4, 2, 36, 5)\n",
      "2021-02-25 14:45:50,412 INFO (4, 2, 36, 5)\n"
     ]
    },
    {
     "name": "stdout",
     "output_type": "stream",
     "text": [
      "\n",
      "Epoch 00052: loss did not improve from 0.76450\n",
      "26/26 [==============================] - 32s 1s/step - loss: 0.7671 - mse_wrapper: 0.0194 - ca_wrapper: 0.8389 - meandiff: 3.1615 - val_loss: 0.9802 - val_mse_wrapper: 0.0368 - val_ca_wrapper: 0.7591 - val_meandiff: 3.8500 - lr: 3.0000e-05\n",
      "Epoch 53/200\n",
      "26/26 [==============================] - ETA: 0s - loss: 0.7672 - mse_wrapper: 0.0195 - ca_wrapper: 0.8450 - meandiff: 3.2731\n",
      "Epoch 00053: loss did not improve from 0.76450\n",
      "\n",
      "Epoch 00053: ReduceLROnPlateau reducing learning rate to 8.999999772640877e-06.\n",
      "26/26 [==============================] - 30s 1s/step - loss: 0.7672 - mse_wrapper: 0.0195 - ca_wrapper: 0.8450 - meandiff: 3.2731 - val_loss: 0.9854 - val_mse_wrapper: 0.0374 - val_ca_wrapper: 0.7426 - val_meandiff: 3.9125 - lr: 9.0000e-06\n",
      "Epoch 54/200\n",
      "26/26 [==============================] - ETA: 0s - loss: 0.7613 - mse_wrapper: 0.0190 - ca_wrapper: 0.8479 - meandiff: 3.2462"
     ]
    },
    {
     "name": "stderr",
     "output_type": "stream",
     "text": [
      "2021-02-25 14:46:55,057 INFO (4, 2, 36, 5)\n",
      "2021-02-25 14:46:55,619 INFO (4, 2, 36, 5)\n"
     ]
    },
    {
     "name": "stdout",
     "output_type": "stream",
     "text": [
      "\n",
      "Epoch 00054: loss improved from 0.76450 to 0.76126, saving model to exp/baseline/8_64_64__8_3_3_temp_enc_conv1_1_CCE_smoothNO_augNO_tempaugNO_batchsize8_f3/2021-02-25_14_16/model/model.h5\n",
      "26/26 [==============================] - 32s 1s/step - loss: 0.7613 - mse_wrapper: 0.0190 - ca_wrapper: 0.8479 - meandiff: 3.2462 - val_loss: 0.9722 - val_mse_wrapper: 0.0363 - val_ca_wrapper: 0.7561 - val_meandiff: 3.7000 - lr: 9.0000e-06\n",
      "Epoch 55/200\n",
      "26/26 [==============================] - ETA: 0s - loss: 0.7611 - mse_wrapper: 0.0187 - ca_wrapper: 0.8468 - meandiff: 3.2654\n",
      "Epoch 00055: loss improved from 0.76126 to 0.76111, saving model to exp/baseline/8_64_64__8_3_3_temp_enc_conv1_1_CCE_smoothNO_augNO_tempaugNO_batchsize8_f3/2021-02-25_14_16/model/model.h5\n",
      "26/26 [==============================] - 31s 1s/step - loss: 0.7611 - mse_wrapper: 0.0187 - ca_wrapper: 0.8468 - meandiff: 3.2654 - val_loss: 0.9784 - val_mse_wrapper: 0.0373 - val_ca_wrapper: 0.7569 - val_meandiff: 3.5375 - lr: 9.0000e-06\n",
      "Epoch 56/200\n",
      "26/26 [==============================] - ETA: 0s - loss: 0.7650 - mse_wrapper: 0.0192 - ca_wrapper: 0.8500 - meandiff: 3.1808"
     ]
    },
    {
     "name": "stderr",
     "output_type": "stream",
     "text": [
      "2021-02-25 14:48:00,610 INFO (4, 2, 36, 5)\n",
      "2021-02-25 14:48:01,123 INFO (4, 2, 36, 5)\n"
     ]
    },
    {
     "name": "stdout",
     "output_type": "stream",
     "text": [
      "\n",
      "Epoch 00056: loss did not improve from 0.76111\n",
      "26/26 [==============================] - 31s 1s/step - loss: 0.7650 - mse_wrapper: 0.0192 - ca_wrapper: 0.8500 - meandiff: 3.1808 - val_loss: 1.0144 - val_mse_wrapper: 0.0394 - val_ca_wrapper: 0.7491 - val_meandiff: 3.6750 - lr: 9.0000e-06\n",
      "Epoch 57/200\n",
      "26/26 [==============================] - ETA: 0s - loss: 0.7594 - mse_wrapper: 0.0187 - ca_wrapper: 0.8490 - meandiff: 3.1808\n",
      "Epoch 00057: loss improved from 0.76111 to 0.75945, saving model to exp/baseline/8_64_64__8_3_3_temp_enc_conv1_1_CCE_smoothNO_augNO_tempaugNO_batchsize8_f3/2021-02-25_14_16/model/model.h5\n",
      "26/26 [==============================] - 31s 1s/step - loss: 0.7594 - mse_wrapper: 0.0187 - ca_wrapper: 0.8490 - meandiff: 3.1808 - val_loss: 1.0035 - val_mse_wrapper: 0.0385 - val_ca_wrapper: 0.7500 - val_meandiff: 3.7125 - lr: 9.0000e-06\n",
      "Epoch 58/200\n",
      "26/26 [==============================] - ETA: 0s - loss: 0.7593 - mse_wrapper: 0.0187 - ca_wrapper: 0.8470 - meandiff: 3.2615"
     ]
    },
    {
     "name": "stderr",
     "output_type": "stream",
     "text": [
      "2021-02-25 14:49:06,150 INFO (4, 2, 36, 5)\n",
      "2021-02-25 14:49:06,701 INFO (4, 2, 36, 5)\n"
     ]
    },
    {
     "name": "stdout",
     "output_type": "stream",
     "text": [
      "\n",
      "Epoch 00058: loss improved from 0.75945 to 0.75927, saving model to exp/baseline/8_64_64__8_3_3_temp_enc_conv1_1_CCE_smoothNO_augNO_tempaugNO_batchsize8_f3/2021-02-25_14_16/model/model.h5\n",
      "26/26 [==============================] - 32s 1s/step - loss: 0.7593 - mse_wrapper: 0.0187 - ca_wrapper: 0.8470 - meandiff: 3.2615 - val_loss: 1.0137 - val_mse_wrapper: 0.0391 - val_ca_wrapper: 0.7461 - val_meandiff: 3.6750 - lr: 9.0000e-06\n",
      "Epoch 59/200\n",
      "26/26 [==============================] - ETA: 0s - loss: 0.7589 - mse_wrapper: 0.0185 - ca_wrapper: 0.8495 - meandiff: 3.2115\n",
      "Epoch 00059: loss improved from 0.75927 to 0.75894, saving model to exp/baseline/8_64_64__8_3_3_temp_enc_conv1_1_CCE_smoothNO_augNO_tempaugNO_batchsize8_f3/2021-02-25_14_16/model/model.h5\n",
      "26/26 [==============================] - 31s 1s/step - loss: 0.7589 - mse_wrapper: 0.0185 - ca_wrapper: 0.8495 - meandiff: 3.2115 - val_loss: 1.0112 - val_mse_wrapper: 0.0398 - val_ca_wrapper: 0.7439 - val_meandiff: 3.8250 - lr: 9.0000e-06\n",
      "Epoch 60/200\n",
      "26/26 [==============================] - ETA: 0s - loss: 0.7626 - mse_wrapper: 0.0190 - ca_wrapper: 0.8488 - meandiff: 3.1885"
     ]
    },
    {
     "name": "stderr",
     "output_type": "stream",
     "text": [
      "2021-02-25 14:50:11,993 INFO (4, 2, 36, 5)\n",
      "2021-02-25 14:50:12,530 INFO (4, 2, 36, 5)\n"
     ]
    },
    {
     "name": "stdout",
     "output_type": "stream",
     "text": [
      "\n",
      "Epoch 00060: loss did not improve from 0.75894\n",
      "26/26 [==============================] - 31s 1s/step - loss: 0.7626 - mse_wrapper: 0.0190 - ca_wrapper: 0.8488 - meandiff: 3.1885 - val_loss: 1.0014 - val_mse_wrapper: 0.0382 - val_ca_wrapper: 0.7552 - val_meandiff: 3.7500 - lr: 9.0000e-06\n",
      "Epoch 61/200\n",
      "26/26 [==============================] - ETA: 0s - loss: 0.7591 - mse_wrapper: 0.0186 - ca_wrapper: 0.8519 - meandiff: 3.1692\n",
      "Epoch 00061: loss did not improve from 0.75894\n",
      "26/26 [==============================] - 30s 1s/step - loss: 0.7591 - mse_wrapper: 0.0186 - ca_wrapper: 0.8519 - meandiff: 3.1692 - val_loss: 1.0139 - val_mse_wrapper: 0.0390 - val_ca_wrapper: 0.7452 - val_meandiff: 3.7000 - lr: 9.0000e-06\n",
      "Epoch 62/200\n",
      "26/26 [==============================] - ETA: 0s - loss: 0.7609 - mse_wrapper: 0.0189 - ca_wrapper: 0.8491 - meandiff: 3.1885"
     ]
    },
    {
     "name": "stderr",
     "output_type": "stream",
     "text": [
      "2021-02-25 14:51:17,428 INFO (4, 2, 36, 5)\n",
      "2021-02-25 14:51:17,932 INFO (4, 2, 36, 5)\n"
     ]
    },
    {
     "name": "stdout",
     "output_type": "stream",
     "text": [
      "\n",
      "Epoch 00062: loss did not improve from 0.75894\n",
      "26/26 [==============================] - 32s 1s/step - loss: 0.7609 - mse_wrapper: 0.0189 - ca_wrapper: 0.8491 - meandiff: 3.1885 - val_loss: 0.9865 - val_mse_wrapper: 0.0380 - val_ca_wrapper: 0.7543 - val_meandiff: 3.7625 - lr: 9.0000e-06\n",
      "Epoch 63/200\n",
      "26/26 [==============================] - ETA: 0s - loss: 0.7593 - mse_wrapper: 0.0187 - ca_wrapper: 0.8478 - meandiff: 3.1769\n",
      "Epoch 00063: loss did not improve from 0.75894\n",
      "26/26 [==============================] - 30s 1s/step - loss: 0.7593 - mse_wrapper: 0.0187 - ca_wrapper: 0.8478 - meandiff: 3.1769 - val_loss: 0.9947 - val_mse_wrapper: 0.0388 - val_ca_wrapper: 0.7435 - val_meandiff: 3.8000 - lr: 9.0000e-06\n",
      "Epoch 64/200\n",
      "26/26 [==============================] - ETA: 0s - loss: 0.7566 - mse_wrapper: 0.0183 - ca_wrapper: 0.8508 - meandiff: 3.1885"
     ]
    },
    {
     "name": "stderr",
     "output_type": "stream",
     "text": [
      "2021-02-25 14:52:22,597 INFO (4, 2, 36, 5)\n",
      "2021-02-25 14:52:23,139 INFO (4, 2, 36, 5)\n"
     ]
    },
    {
     "name": "stdout",
     "output_type": "stream",
     "text": [
      "\n",
      "Epoch 00064: loss improved from 0.75894 to 0.75655, saving model to exp/baseline/8_64_64__8_3_3_temp_enc_conv1_1_CCE_smoothNO_augNO_tempaugNO_batchsize8_f3/2021-02-25_14_16/model/model.h5\n",
      "26/26 [==============================] - 31s 1s/step - loss: 0.7566 - mse_wrapper: 0.0183 - ca_wrapper: 0.8508 - meandiff: 3.1885 - val_loss: 0.9863 - val_mse_wrapper: 0.0375 - val_ca_wrapper: 0.7543 - val_meandiff: 3.6375 - lr: 9.0000e-06\n",
      "Epoch 65/200\n",
      "26/26 [==============================] - ETA: 0s - loss: 0.7570 - mse_wrapper: 0.0184 - ca_wrapper: 0.8475 - meandiff: 3.1154\n",
      "Epoch 00065: loss did not improve from 0.75655\n",
      "26/26 [==============================] - 31s 1s/step - loss: 0.7570 - mse_wrapper: 0.0184 - ca_wrapper: 0.8475 - meandiff: 3.1154 - val_loss: 1.0267 - val_mse_wrapper: 0.0397 - val_ca_wrapper: 0.7470 - val_meandiff: 3.6375 - lr: 9.0000e-06\n",
      "Epoch 66/200\n",
      "26/26 [==============================] - ETA: 0s - loss: 0.7595 - mse_wrapper: 0.0186 - ca_wrapper: 0.8520 - meandiff: 3.1654"
     ]
    },
    {
     "name": "stderr",
     "output_type": "stream",
     "text": [
      "2021-02-25 14:53:28,397 INFO (4, 2, 36, 5)\n",
      "2021-02-25 14:53:28,949 INFO (4, 2, 36, 5)\n"
     ]
    },
    {
     "name": "stdout",
     "output_type": "stream",
     "text": [
      "\n",
      "Epoch 00066: loss did not improve from 0.75655\n",
      "26/26 [==============================] - 32s 1s/step - loss: 0.7595 - mse_wrapper: 0.0186 - ca_wrapper: 0.8520 - meandiff: 3.1654 - val_loss: 0.9861 - val_mse_wrapper: 0.0381 - val_ca_wrapper: 0.7513 - val_meandiff: 3.7750 - lr: 9.0000e-06\n",
      "Epoch 67/200\n",
      "26/26 [==============================] - ETA: 0s - loss: 0.7592 - mse_wrapper: 0.0187 - ca_wrapper: 0.8468 - meandiff: 3.1654\n",
      "Epoch 00067: loss did not improve from 0.75655\n",
      "26/26 [==============================] - 31s 1s/step - loss: 0.7592 - mse_wrapper: 0.0187 - ca_wrapper: 0.8468 - meandiff: 3.1654 - val_loss: 1.0289 - val_mse_wrapper: 0.0408 - val_ca_wrapper: 0.7391 - val_meandiff: 3.7625 - lr: 9.0000e-06\n",
      "Epoch 68/200\n",
      "26/26 [==============================] - ETA: 0s - loss: 0.7584 - mse_wrapper: 0.0185 - ca_wrapper: 0.8475 - meandiff: 3.0923"
     ]
    },
    {
     "name": "stderr",
     "output_type": "stream",
     "text": [
      "2021-02-25 14:54:33,658 INFO (4, 2, 36, 5)\n",
      "2021-02-25 14:54:34,210 INFO (4, 2, 36, 5)\n"
     ]
    },
    {
     "name": "stdout",
     "output_type": "stream",
     "text": [
      "\n",
      "Epoch 00068: loss did not improve from 0.75655\n",
      "26/26 [==============================] - 32s 1s/step - loss: 0.7584 - mse_wrapper: 0.0185 - ca_wrapper: 0.8475 - meandiff: 3.0923 - val_loss: 1.0263 - val_mse_wrapper: 0.0396 - val_ca_wrapper: 0.7457 - val_meandiff: 3.7500 - lr: 9.0000e-06\n",
      "Epoch 69/200\n",
      "26/26 [==============================] - ETA: 0s - loss: 0.7558 - mse_wrapper: 0.0183 - ca_wrapper: 0.8518 - meandiff: 3.1192\n",
      "Epoch 00069: loss improved from 0.75655 to 0.75579, saving model to exp/baseline/8_64_64__8_3_3_temp_enc_conv1_1_CCE_smoothNO_augNO_tempaugNO_batchsize8_f3/2021-02-25_14_16/model/model.h5\n",
      "26/26 [==============================] - 30s 1s/step - loss: 0.7558 - mse_wrapper: 0.0183 - ca_wrapper: 0.8518 - meandiff: 3.1192 - val_loss: 0.9882 - val_mse_wrapper: 0.0371 - val_ca_wrapper: 0.7504 - val_meandiff: 3.6750 - lr: 9.0000e-06\n",
      "Epoch 70/200\n",
      "26/26 [==============================] - ETA: 0s - loss: 0.7559 - mse_wrapper: 0.0184 - ca_wrapper: 0.8504 - meandiff: 3.2885"
     ]
    },
    {
     "name": "stderr",
     "output_type": "stream",
     "text": [
      "2021-02-25 14:55:39,190 INFO (4, 2, 36, 5)\n",
      "2021-02-25 14:55:39,740 INFO (4, 2, 36, 5)\n"
     ]
    },
    {
     "name": "stdout",
     "output_type": "stream",
     "text": [
      "\n",
      "Epoch 00070: loss did not improve from 0.75579\n",
      "26/26 [==============================] - 32s 1s/step - loss: 0.7559 - mse_wrapper: 0.0184 - ca_wrapper: 0.8504 - meandiff: 3.2885 - val_loss: 1.0016 - val_mse_wrapper: 0.0388 - val_ca_wrapper: 0.7413 - val_meandiff: 3.7125 - lr: 9.0000e-06\n",
      "Epoch 71/200\n",
      "26/26 [==============================] - ETA: 0s - loss: 0.7573 - mse_wrapper: 0.0183 - ca_wrapper: 0.8536 - meandiff: 3.1654\n",
      "Epoch 00071: loss did not improve from 0.75579\n",
      "26/26 [==============================] - 31s 1s/step - loss: 0.7573 - mse_wrapper: 0.0183 - ca_wrapper: 0.8536 - meandiff: 3.1654 - val_loss: 1.0189 - val_mse_wrapper: 0.0391 - val_ca_wrapper: 0.7509 - val_meandiff: 3.6625 - lr: 9.0000e-06\n",
      "Epoch 72/200\n",
      "26/26 [==============================] - ETA: 0s - loss: 0.7589 - mse_wrapper: 0.0186 - ca_wrapper: 0.8468 - meandiff: 3.1654"
     ]
    },
    {
     "name": "stderr",
     "output_type": "stream",
     "text": [
      "2021-02-25 14:56:44,741 INFO (4, 2, 36, 5)\n",
      "2021-02-25 14:56:45,777 INFO (4, 2, 36, 5)\n"
     ]
    },
    {
     "name": "stdout",
     "output_type": "stream",
     "text": [
      "\n",
      "Epoch 00072: loss did not improve from 0.75579\n",
      "26/26 [==============================] - 32s 1s/step - loss: 0.7589 - mse_wrapper: 0.0186 - ca_wrapper: 0.8468 - meandiff: 3.1654 - val_loss: 1.0130 - val_mse_wrapper: 0.0390 - val_ca_wrapper: 0.7461 - val_meandiff: 3.7000 - lr: 9.0000e-06\n",
      "Epoch 73/200\n",
      "26/26 [==============================] - ETA: 0s - loss: 0.7533 - mse_wrapper: 0.0181 - ca_wrapper: 0.8514 - meandiff: 3.0962\n",
      "Epoch 00073: loss improved from 0.75579 to 0.75329, saving model to exp/baseline/8_64_64__8_3_3_temp_enc_conv1_1_CCE_smoothNO_augNO_tempaugNO_batchsize8_f3/2021-02-25_14_16/model/model.h5\n",
      "26/26 [==============================] - 30s 1s/step - loss: 0.7533 - mse_wrapper: 0.0181 - ca_wrapper: 0.8514 - meandiff: 3.0962 - val_loss: 1.0179 - val_mse_wrapper: 0.0389 - val_ca_wrapper: 0.7483 - val_meandiff: 3.7375 - lr: 9.0000e-06\n",
      "Epoch 74/200\n",
      "26/26 [==============================] - ETA: 0s - loss: 0.7566 - mse_wrapper: 0.0183 - ca_wrapper: 0.8464 - meandiff: 3.2077"
     ]
    },
    {
     "name": "stderr",
     "output_type": "stream",
     "text": [
      "2021-02-25 14:57:50,624 INFO (4, 2, 36, 5)\n",
      "2021-02-25 14:57:51,175 INFO (4, 2, 36, 5)\n"
     ]
    },
    {
     "name": "stdout",
     "output_type": "stream",
     "text": [
      "\n",
      "Epoch 00074: loss did not improve from 0.75329\n",
      "26/26 [==============================] - 32s 1s/step - loss: 0.7566 - mse_wrapper: 0.0183 - ca_wrapper: 0.8464 - meandiff: 3.2077 - val_loss: 0.9853 - val_mse_wrapper: 0.0367 - val_ca_wrapper: 0.7552 - val_meandiff: 3.6250 - lr: 9.0000e-06\n",
      "Epoch 75/200\n",
      "26/26 [==============================] - ETA: 0s - loss: 0.7546 - mse_wrapper: 0.0183 - ca_wrapper: 0.8470 - meandiff: 3.1462\n",
      "Epoch 00075: loss did not improve from 0.75329\n",
      "26/26 [==============================] - 30s 1s/step - loss: 0.7546 - mse_wrapper: 0.0183 - ca_wrapper: 0.8470 - meandiff: 3.1462 - val_loss: 0.9913 - val_mse_wrapper: 0.0371 - val_ca_wrapper: 0.7487 - val_meandiff: 3.6250 - lr: 9.0000e-06\n",
      "Epoch 76/200\n",
      "26/26 [==============================] - ETA: 0s - loss: 0.7585 - mse_wrapper: 0.0185 - ca_wrapper: 0.8523 - meandiff: 3.1346"
     ]
    },
    {
     "name": "stderr",
     "output_type": "stream",
     "text": [
      "2021-02-25 14:58:56,258 INFO (4, 2, 36, 5)\n",
      "2021-02-25 14:58:56,801 INFO (4, 2, 36, 5)\n"
     ]
    },
    {
     "name": "stdout",
     "output_type": "stream",
     "text": [
      "\n",
      "Epoch 00076: loss did not improve from 0.75329\n",
      "26/26 [==============================] - 32s 1s/step - loss: 0.7585 - mse_wrapper: 0.0185 - ca_wrapper: 0.8523 - meandiff: 3.1346 - val_loss: 0.9989 - val_mse_wrapper: 0.0376 - val_ca_wrapper: 0.7496 - val_meandiff: 3.5250 - lr: 9.0000e-06\n",
      "Epoch 77/200\n",
      "26/26 [==============================] - ETA: 0s - loss: 0.7549 - mse_wrapper: 0.0183 - ca_wrapper: 0.8483 - meandiff: 3.1192\n",
      "Epoch 00077: loss did not improve from 0.75329\n",
      "26/26 [==============================] - 31s 1s/step - loss: 0.7549 - mse_wrapper: 0.0183 - ca_wrapper: 0.8483 - meandiff: 3.1192 - val_loss: 1.0087 - val_mse_wrapper: 0.0384 - val_ca_wrapper: 0.7452 - val_meandiff: 3.6625 - lr: 9.0000e-06\n",
      "Epoch 78/200\n",
      "26/26 [==============================] - ETA: 0s - loss: 0.7545 - mse_wrapper: 0.0181 - ca_wrapper: 0.8498 - meandiff: 3.2077"
     ]
    },
    {
     "name": "stderr",
     "output_type": "stream",
     "text": [
      "2021-02-25 15:00:02,548 INFO (4, 2, 36, 5)\n",
      "2021-02-25 15:00:03,087 INFO (4, 2, 36, 5)\n"
     ]
    },
    {
     "name": "stdout",
     "output_type": "stream",
     "text": [
      "\n",
      "Epoch 00078: loss did not improve from 0.75329\n",
      "\n",
      "Epoch 00078: ReduceLROnPlateau reducing learning rate to 2.6999998226528985e-06.\n",
      "26/26 [==============================] - 32s 1s/step - loss: 0.7545 - mse_wrapper: 0.0181 - ca_wrapper: 0.8498 - meandiff: 3.2077 - val_loss: 1.0037 - val_mse_wrapper: 0.0384 - val_ca_wrapper: 0.7483 - val_meandiff: 3.5750 - lr: 2.7000e-06\n",
      "Epoch 79/200\n",
      "26/26 [==============================] - ETA: 0s - loss: 0.7536 - mse_wrapper: 0.0182 - ca_wrapper: 0.8528 - meandiff: 3.1692\n",
      "Epoch 00079: loss did not improve from 0.75329\n",
      "26/26 [==============================] - 31s 1s/step - loss: 0.7536 - mse_wrapper: 0.0182 - ca_wrapper: 0.8528 - meandiff: 3.1692 - val_loss: 1.0075 - val_mse_wrapper: 0.0385 - val_ca_wrapper: 0.7431 - val_meandiff: 3.6500 - lr: 2.7000e-06\n",
      "Epoch 80/200\n",
      "26/26 [==============================] - ETA: 0s - loss: 0.7523 - mse_wrapper: 0.0178 - ca_wrapper: 0.8550 - meandiff: 3.1269"
     ]
    },
    {
     "name": "stderr",
     "output_type": "stream",
     "text": [
      "2021-02-25 15:01:08,237 INFO (4, 2, 36, 5)\n",
      "2021-02-25 15:01:08,822 INFO (4, 2, 36, 5)\n"
     ]
    },
    {
     "name": "stdout",
     "output_type": "stream",
     "text": [
      "\n",
      "Epoch 00080: loss improved from 0.75329 to 0.75230, saving model to exp/baseline/8_64_64__8_3_3_temp_enc_conv1_1_CCE_smoothNO_augNO_tempaugNO_batchsize8_f3/2021-02-25_14_16/model/model.h5\n",
      "26/26 [==============================] - 32s 1s/step - loss: 0.7523 - mse_wrapper: 0.0178 - ca_wrapper: 0.8550 - meandiff: 3.1269 - val_loss: 1.0261 - val_mse_wrapper: 0.0400 - val_ca_wrapper: 0.7374 - val_meandiff: 3.7250 - lr: 2.7000e-06\n",
      "Epoch 81/200\n",
      "26/26 [==============================] - ETA: 0s - loss: 0.7522 - mse_wrapper: 0.0179 - ca_wrapper: 0.8526 - meandiff: 3.0808\n",
      "Epoch 00081: loss improved from 0.75230 to 0.75223, saving model to exp/baseline/8_64_64__8_3_3_temp_enc_conv1_1_CCE_smoothNO_augNO_tempaugNO_batchsize8_f3/2021-02-25_14_16/model/model.h5\n",
      "26/26 [==============================] - 31s 1s/step - loss: 0.7522 - mse_wrapper: 0.0179 - ca_wrapper: 0.8526 - meandiff: 3.0808 - val_loss: 1.0271 - val_mse_wrapper: 0.0395 - val_ca_wrapper: 0.7426 - val_meandiff: 3.7125 - lr: 2.7000e-06\n",
      "Epoch 82/200\n",
      "26/26 [==============================] - ETA: 0s - loss: 0.7538 - mse_wrapper: 0.0180 - ca_wrapper: 0.8516 - meandiff: 3.1115"
     ]
    },
    {
     "name": "stderr",
     "output_type": "stream",
     "text": [
      "2021-02-25 15:02:13,959 INFO (4, 2, 36, 5)\n",
      "2021-02-25 15:02:14,513 INFO (4, 2, 36, 5)\n"
     ]
    },
    {
     "name": "stdout",
     "output_type": "stream",
     "text": [
      "\n",
      "Epoch 00082: loss did not improve from 0.75223\n",
      "26/26 [==============================] - 32s 1s/step - loss: 0.7538 - mse_wrapper: 0.0180 - ca_wrapper: 0.8516 - meandiff: 3.1115 - val_loss: 1.0179 - val_mse_wrapper: 0.0390 - val_ca_wrapper: 0.7405 - val_meandiff: 3.5875 - lr: 2.7000e-06\n",
      "Epoch 83/200\n",
      "26/26 [==============================] - ETA: 0s - loss: 0.7530 - mse_wrapper: 0.0180 - ca_wrapper: 0.8466 - meandiff: 3.2000\n",
      "Epoch 00083: loss did not improve from 0.75223\n",
      "26/26 [==============================] - 31s 1s/step - loss: 0.7530 - mse_wrapper: 0.0180 - ca_wrapper: 0.8466 - meandiff: 3.2000 - val_loss: 1.0324 - val_mse_wrapper: 0.0399 - val_ca_wrapper: 0.7457 - val_meandiff: 3.6875 - lr: 2.7000e-06\n",
      "Epoch 84/200\n",
      "26/26 [==============================] - ETA: 0s - loss: 0.7572 - mse_wrapper: 0.0184 - ca_wrapper: 0.8479 - meandiff: 3.1500"
     ]
    },
    {
     "name": "stderr",
     "output_type": "stream",
     "text": [
      "2021-02-25 15:03:20,185 INFO (4, 2, 36, 5)\n",
      "2021-02-25 15:03:20,727 INFO (4, 2, 36, 5)\n"
     ]
    },
    {
     "name": "stdout",
     "output_type": "stream",
     "text": [
      "\n",
      "Epoch 00084: loss did not improve from 0.75223\n",
      "26/26 [==============================] - 32s 1s/step - loss: 0.7572 - mse_wrapper: 0.0184 - ca_wrapper: 0.8479 - meandiff: 3.1500 - val_loss: 0.9997 - val_mse_wrapper: 0.0376 - val_ca_wrapper: 0.7500 - val_meandiff: 3.6875 - lr: 2.7000e-06\n",
      "Epoch 85/200\n",
      "26/26 [==============================] - ETA: 0s - loss: 0.7527 - mse_wrapper: 0.0179 - ca_wrapper: 0.8544 - meandiff: 3.0346\n",
      "Epoch 00085: loss did not improve from 0.75223\n",
      "\n",
      "Epoch 00085: ReduceLROnPlateau reducing learning rate to 8.099999604382901e-07.\n",
      "26/26 [==============================] - 31s 1s/step - loss: 0.7527 - mse_wrapper: 0.0179 - ca_wrapper: 0.8544 - meandiff: 3.0346 - val_loss: 1.0263 - val_mse_wrapper: 0.0395 - val_ca_wrapper: 0.7400 - val_meandiff: 3.6750 - lr: 8.1000e-07\n",
      "Epoch 86/200\n",
      "26/26 [==============================] - ETA: 0s - loss: 0.7530 - mse_wrapper: 0.0179 - ca_wrapper: 0.8511 - meandiff: 3.0385"
     ]
    },
    {
     "name": "stderr",
     "output_type": "stream",
     "text": [
      "2021-02-25 15:04:25,976 INFO (4, 2, 36, 5)\n",
      "2021-02-25 15:04:26,535 INFO (4, 2, 36, 5)\n"
     ]
    },
    {
     "name": "stdout",
     "output_type": "stream",
     "text": [
      "\n",
      "Epoch 00086: loss did not improve from 0.75223\n",
      "26/26 [==============================] - 32s 1s/step - loss: 0.7530 - mse_wrapper: 0.0179 - ca_wrapper: 0.8511 - meandiff: 3.0385 - val_loss: 1.0263 - val_mse_wrapper: 0.0394 - val_ca_wrapper: 0.7422 - val_meandiff: 3.6625 - lr: 8.1000e-07\n",
      "Epoch 87/200\n",
      "26/26 [==============================] - ETA: 0s - loss: 0.7556 - mse_wrapper: 0.0183 - ca_wrapper: 0.8496 - meandiff: 3.0731\n",
      "Epoch 00087: loss did not improve from 0.75223\n",
      "26/26 [==============================] - 30s 1s/step - loss: 0.7556 - mse_wrapper: 0.0183 - ca_wrapper: 0.8496 - meandiff: 3.0731 - val_loss: 1.0007 - val_mse_wrapper: 0.0375 - val_ca_wrapper: 0.7491 - val_meandiff: 3.5125 - lr: 8.1000e-07\n",
      "Epoch 88/200\n",
      "26/26 [==============================] - ETA: 0s - loss: 0.7517 - mse_wrapper: 0.0179 - ca_wrapper: 0.8522 - meandiff: 3.0769"
     ]
    },
    {
     "name": "stderr",
     "output_type": "stream",
     "text": [
      "2021-02-25 15:05:31,015 INFO (4, 2, 36, 5)\n",
      "2021-02-25 15:05:31,579 INFO (4, 2, 36, 5)\n"
     ]
    },
    {
     "name": "stdout",
     "output_type": "stream",
     "text": [
      "\n",
      "Epoch 00088: loss improved from 0.75223 to 0.75172, saving model to exp/baseline/8_64_64__8_3_3_temp_enc_conv1_1_CCE_smoothNO_augNO_tempaugNO_batchsize8_f3/2021-02-25_14_16/model/model.h5\n",
      "26/26 [==============================] - 32s 1s/step - loss: 0.7517 - mse_wrapper: 0.0179 - ca_wrapper: 0.8522 - meandiff: 3.0769 - val_loss: 1.0197 - val_mse_wrapper: 0.0390 - val_ca_wrapper: 0.7409 - val_meandiff: 3.6125 - lr: 8.1000e-07\n",
      "Epoch 89/200\n",
      "26/26 [==============================] - ETA: 0s - loss: 0.7535 - mse_wrapper: 0.0181 - ca_wrapper: 0.8527 - meandiff: 3.1192\n",
      "Epoch 00089: loss did not improve from 0.75172\n",
      "26/26 [==============================] - 31s 1s/step - loss: 0.7535 - mse_wrapper: 0.0181 - ca_wrapper: 0.8527 - meandiff: 3.1192 - val_loss: 1.0167 - val_mse_wrapper: 0.0385 - val_ca_wrapper: 0.7413 - val_meandiff: 3.6250 - lr: 8.1000e-07\n",
      "Epoch 90/200\n",
      "26/26 [==============================] - ETA: 0s - loss: 0.7518 - mse_wrapper: 0.0178 - ca_wrapper: 0.8542 - meandiff: 3.1654"
     ]
    },
    {
     "name": "stderr",
     "output_type": "stream",
     "text": [
      "2021-02-25 15:06:36,513 INFO (4, 2, 36, 5)\n",
      "2021-02-25 15:06:37,055 INFO (4, 2, 36, 5)\n"
     ]
    },
    {
     "name": "stdout",
     "output_type": "stream",
     "text": [
      "\n",
      "Epoch 00090: loss did not improve from 0.75172\n",
      "26/26 [==============================] - 32s 1s/step - loss: 0.7518 - mse_wrapper: 0.0178 - ca_wrapper: 0.8542 - meandiff: 3.1654 - val_loss: 1.0267 - val_mse_wrapper: 0.0387 - val_ca_wrapper: 0.7452 - val_meandiff: 3.6375 - lr: 8.1000e-07\n",
      "Epoch 91/200\n",
      "26/26 [==============================] - ETA: 0s - loss: 0.7498 - mse_wrapper: 0.0177 - ca_wrapper: 0.8530 - meandiff: 3.1115\n",
      "Epoch 00091: loss improved from 0.75172 to 0.74977, saving model to exp/baseline/8_64_64__8_3_3_temp_enc_conv1_1_CCE_smoothNO_augNO_tempaugNO_batchsize8_f3/2021-02-25_14_16/model/model.h5\n",
      "26/26 [==============================] - 30s 1s/step - loss: 0.7498 - mse_wrapper: 0.0177 - ca_wrapper: 0.8530 - meandiff: 3.1115 - val_loss: 1.0099 - val_mse_wrapper: 0.0377 - val_ca_wrapper: 0.7448 - val_meandiff: 3.6000 - lr: 8.1000e-07\n",
      "Epoch 92/200\n",
      "26/26 [==============================] - ETA: 0s - loss: 0.7549 - mse_wrapper: 0.0182 - ca_wrapper: 0.8475 - meandiff: 3.0885"
     ]
    },
    {
     "name": "stderr",
     "output_type": "stream",
     "text": [
      "2021-02-25 15:07:41,339 INFO (4, 2, 36, 5)\n",
      "2021-02-25 15:07:41,879 INFO (4, 2, 36, 5)\n"
     ]
    },
    {
     "name": "stdout",
     "output_type": "stream",
     "text": [
      "\n",
      "Epoch 00092: loss did not improve from 0.74977\n",
      "26/26 [==============================] - 31s 1s/step - loss: 0.7549 - mse_wrapper: 0.0182 - ca_wrapper: 0.8475 - meandiff: 3.0885 - val_loss: 1.0040 - val_mse_wrapper: 0.0375 - val_ca_wrapper: 0.7487 - val_meandiff: 3.4500 - lr: 8.1000e-07\n",
      "Epoch 93/200\n",
      "26/26 [==============================] - ETA: 0s - loss: 0.7504 - mse_wrapper: 0.0177 - ca_wrapper: 0.8534 - meandiff: 3.1308\n",
      "Epoch 00093: loss did not improve from 0.74977\n",
      "26/26 [==============================] - 31s 1s/step - loss: 0.7504 - mse_wrapper: 0.0177 - ca_wrapper: 0.8534 - meandiff: 3.1308 - val_loss: 1.0324 - val_mse_wrapper: 0.0397 - val_ca_wrapper: 0.7409 - val_meandiff: 3.7375 - lr: 8.1000e-07\n",
      "Epoch 94/200\n",
      "26/26 [==============================] - ETA: 0s - loss: 0.7536 - mse_wrapper: 0.0180 - ca_wrapper: 0.8548 - meandiff: 3.1077"
     ]
    },
    {
     "name": "stderr",
     "output_type": "stream",
     "text": [
      "2021-02-25 15:08:46,606 INFO (4, 2, 36, 5)\n",
      "2021-02-25 15:08:47,173 INFO (4, 2, 36, 5)\n"
     ]
    },
    {
     "name": "stdout",
     "output_type": "stream",
     "text": [
      "\n",
      "Epoch 00094: loss did not improve from 0.74977\n",
      "26/26 [==============================] - 31s 1s/step - loss: 0.7536 - mse_wrapper: 0.0180 - ca_wrapper: 0.8548 - meandiff: 3.1077 - val_loss: 1.0102 - val_mse_wrapper: 0.0378 - val_ca_wrapper: 0.7500 - val_meandiff: 3.6500 - lr: 8.1000e-07\n",
      "Epoch 95/200\n",
      "26/26 [==============================] - ETA: 0s - loss: 0.7513 - mse_wrapper: 0.0178 - ca_wrapper: 0.8554 - meandiff: 3.1154\n",
      "Epoch 00095: loss did not improve from 0.74977\n",
      "26/26 [==============================] - 31s 1s/step - loss: 0.7513 - mse_wrapper: 0.0178 - ca_wrapper: 0.8554 - meandiff: 3.1154 - val_loss: 1.0198 - val_mse_wrapper: 0.0391 - val_ca_wrapper: 0.7444 - val_meandiff: 3.7500 - lr: 8.1000e-07\n",
      "Epoch 96/200\n",
      "26/26 [==============================] - ETA: 0s - loss: 0.7540 - mse_wrapper: 0.0181 - ca_wrapper: 0.8535 - meandiff: 3.0500"
     ]
    },
    {
     "name": "stderr",
     "output_type": "stream",
     "text": [
      "2021-02-25 15:09:52,034 INFO (4, 2, 36, 5)\n",
      "2021-02-25 15:09:52,580 INFO (4, 2, 36, 5)\n"
     ]
    },
    {
     "name": "stdout",
     "output_type": "stream",
     "text": [
      "\n",
      "Epoch 00096: loss did not improve from 0.74977\n",
      "\n",
      "Epoch 00096: ReduceLROnPlateau reducing learning rate to 2.4299998813148704e-07.\n",
      "26/26 [==============================] - 32s 1s/step - loss: 0.7540 - mse_wrapper: 0.0181 - ca_wrapper: 0.8535 - meandiff: 3.0500 - val_loss: 1.0280 - val_mse_wrapper: 0.0394 - val_ca_wrapper: 0.7426 - val_meandiff: 3.6375 - lr: 2.4300e-07\n",
      "Epoch 97/200\n",
      "26/26 [==============================] - ETA: 0s - loss: 0.7507 - mse_wrapper: 0.0178 - ca_wrapper: 0.8512 - meandiff: 3.2308\n",
      "Epoch 00097: loss did not improve from 0.74977\n",
      "26/26 [==============================] - 30s 1s/step - loss: 0.7507 - mse_wrapper: 0.0178 - ca_wrapper: 0.8512 - meandiff: 3.2308 - val_loss: 1.0107 - val_mse_wrapper: 0.0384 - val_ca_wrapper: 0.7452 - val_meandiff: 3.6625 - lr: 2.4300e-07\n",
      "Epoch 98/200\n",
      "26/26 [==============================] - ETA: 0s - loss: 0.7534 - mse_wrapper: 0.0181 - ca_wrapper: 0.8495 - meandiff: 3.1346"
     ]
    },
    {
     "name": "stderr",
     "output_type": "stream",
     "text": [
      "2021-02-25 15:10:56,852 INFO (4, 2, 36, 5)\n",
      "2021-02-25 15:10:57,402 INFO (4, 2, 36, 5)\n"
     ]
    },
    {
     "name": "stdout",
     "output_type": "stream",
     "text": [
      "\n",
      "Epoch 00098: loss did not improve from 0.74977\n",
      "26/26 [==============================] - 31s 1s/step - loss: 0.7534 - mse_wrapper: 0.0181 - ca_wrapper: 0.8495 - meandiff: 3.1346 - val_loss: 1.0135 - val_mse_wrapper: 0.0391 - val_ca_wrapper: 0.7439 - val_meandiff: 3.7375 - lr: 2.4300e-07\n",
      "Epoch 99/200\n",
      "26/26 [==============================] - ETA: 0s - loss: 0.7512 - mse_wrapper: 0.0178 - ca_wrapper: 0.8499 - meandiff: 3.1154\n",
      "Epoch 00099: loss did not improve from 0.74977\n",
      "26/26 [==============================] - 30s 1s/step - loss: 0.7512 - mse_wrapper: 0.0178 - ca_wrapper: 0.8499 - meandiff: 3.1154 - val_loss: 1.0301 - val_mse_wrapper: 0.0401 - val_ca_wrapper: 0.7391 - val_meandiff: 3.7250 - lr: 2.4300e-07\n",
      "Epoch 100/200\n",
      "26/26 [==============================] - ETA: 0s - loss: 0.7531 - mse_wrapper: 0.0178 - ca_wrapper: 0.8540 - meandiff: 3.0192"
     ]
    },
    {
     "name": "stderr",
     "output_type": "stream",
     "text": [
      "2021-02-25 15:12:01,986 INFO (4, 2, 36, 5)\n",
      "2021-02-25 15:12:02,529 INFO (4, 2, 36, 5)\n"
     ]
    },
    {
     "name": "stdout",
     "output_type": "stream",
     "text": [
      "\n",
      "Epoch 00100: loss did not improve from 0.74977\n",
      "26/26 [==============================] - 31s 1s/step - loss: 0.7531 - mse_wrapper: 0.0178 - ca_wrapper: 0.8540 - meandiff: 3.0192 - val_loss: 1.0209 - val_mse_wrapper: 0.0393 - val_ca_wrapper: 0.7418 - val_meandiff: 3.7250 - lr: 2.4300e-07\n",
      "Epoch 101/200\n",
      "26/26 [==============================] - ETA: 0s - loss: 0.7538 - mse_wrapper: 0.0181 - ca_wrapper: 0.8496 - meandiff: 3.0231\n",
      "Epoch 00101: loss did not improve from 0.74977\n",
      "26/26 [==============================] - 31s 1s/step - loss: 0.7538 - mse_wrapper: 0.0181 - ca_wrapper: 0.8496 - meandiff: 3.0231 - val_loss: 1.0249 - val_mse_wrapper: 0.0390 - val_ca_wrapper: 0.7470 - val_meandiff: 3.6125 - lr: 2.4300e-07\n",
      "Epoch 00101: early stopping\n"
     ]
    }
   ],
   "source": [
    "initial_epoch = 0\n",
    "\n",
    "results = model.fit(\n",
    "    x=batch_generator,\n",
    "    validation_data=validation_generator,\n",
    "    epochs=EPOCHS,\n",
    "    callbacks = get_callbacks(config, batch_generator,validation_generator),\n",
    "    initial_epoch=initial_epoch,\n",
    "    max_queue_size=12,\n",
    "    use_multiprocessing=False,\n",
    "    verbose=1)"
   ]
  },
  {
   "cell_type": "code",
   "execution_count": 17,
   "metadata": {},
   "outputs": [],
   "source": [
    "# predict the files from globals()['inputs']\n",
    "pred = model(inputs, training=False)"
   ]
  },
  {
   "cell_type": "code",
   "execution_count": 50,
   "metadata": {},
   "outputs": [
    {
     "name": "stdout",
     "output_type": "stream",
     "text": [
      "(4,)\n",
      "(4, 36, 5)\n"
     ]
    },
    {
     "data": {
      "text/plain": [
       "(4, 2, 36, 5)"
      ]
     },
     "execution_count": 50,
     "metadata": {},
     "output_type": "execute_result"
    }
   ],
   "source": [
    "temp = np.array([23, 17, 24, 18])\n",
    "print(temp.shape)\n",
    "empty = np.ones((4,36,5))\n",
    "print(empty.shape)\n",
    "second = empty[:]\n",
    "second[:,0,0] = temp\n",
    "np.stack([empty, second], axis=1).shape"
   ]
  },
  {
   "cell_type": "code",
   "execution_count": 13,
   "metadata": {},
   "outputs": [
    {
     "name": "stdout",
     "output_type": "stream",
     "text": [
      "[[23  4  9 13 21]\n",
      " [ 0  5 10 15 17]\n",
      " [24  4  8 13 20]\n",
      " [ 0  6 12 17 18]]\n",
      "[23 17 24 18]\n"
     ]
    }
   ],
   "source": [
    "# get the true idx\n",
    "gt_idx = tf.math.argmax(outputs, axis=1).numpy()\n",
    "print(gt_idx)\n",
    "gt_max = gt_idx.max(axis=1).astype(int)\n",
    "print(gt_max)"
   ]
  },
  {
   "cell_type": "code",
   "execution_count": 18,
   "metadata": {},
   "outputs": [
    {
     "data": {
      "image/png": "[encoded data removed]",
      "text/plain": [
       "<Figure size 2880x360 with 16 Axes>"
      ]
     },
     "metadata": {
      "needs_background": "light"
     },
     "output_type": "display_data"
    }
   ],
   "source": [
    "from src.visualization.Visualize import show_phases\n",
    "_ = show_phases(outputs,pred)"
   ]
  },
  {
   "cell_type": "code",
   "execution_count": 21,
   "metadata": {},
   "outputs": [
    {
     "name": "stdout",
     "output_type": "stream",
     "text": [
      "(8, 5)\n",
      "(8,)\n"
     ]
    },
    {
     "data": {
      "text/plain": [
       "array([7., 4., 5., 6., 4., 3., 3., 4.], dtype=float32)"
      ]
     },
     "execution_count": 21,
     "metadata": {},
     "output_type": "execute_result"
    }
   ],
   "source": [
    "# calculate the meandiff score for one batch\n",
    "from src.utils.Metrics import meandiff\n",
    "score_fn = meandiff\n",
    "score_fn(outputs, pred).numpy()"
   ]
  },
  {
   "cell_type": "code",
   "execution_count": 13,
   "metadata": {},
   "outputs": [
    {
     "name": "stdout",
     "output_type": "stream",
     "text": [
      "(8, 36, 5)\n",
      "(5, 36, 8)\n"
     ]
    },
    {
     "data": {
      "text/plain": [
       "<matplotlib.image.AxesImage at 0x7fc1504cb250>"
      ]
     },
     "execution_count": 13,
     "metadata": {},
     "output_type": "execute_result"
    },
    {
     "data": {
      "image/png": "[encoded data removed]",
      "text/plain": [
       "<Figure size 432x288 with 1 Axes>"
      ]
     },
     "metadata": {
      "needs_background": "light"
     },
     "output_type": "display_data"
    }
   ],
   "source": [
    "temp = outputs[:,0,...]\n",
    "print(temp.shape)\n",
    "print(temp.T.shape)\n",
    "plt.imshow(temp.T[0])"
   ]
  },
  {
   "cell_type": "code",
   "execution_count": 25,
   "metadata": {},
   "outputs": [
    {
     "data": {
      "text/plain": [
       "[<tf.Tensor: shape=(), dtype=float32, numpy=4.5>,\n",
       " <tf.Tensor: shape=(), dtype=float32, numpy=6.75>,\n",
       " <tf.Tensor: shape=(), dtype=float32, numpy=4.625>,\n",
       " <tf.Tensor: shape=(), dtype=float32, numpy=4.5>,\n",
       " <tf.Tensor: shape=(), dtype=float32, numpy=5.75>,\n",
       " <tf.Tensor: shape=(), dtype=float32, numpy=5.0>,\n",
       " <tf.Tensor: shape=(), dtype=float32, numpy=4.0>,\n",
       " <tf.Tensor: shape=(), dtype=float32, numpy=5.875>]"
      ]
     },
     "execution_count": 25,
     "metadata": {},
     "output_type": "execute_result"
    }
   ],
   "source": [
    "# calculate the meandiff score for all batches\n",
    "# calculate the meandiff score for one batch\n",
    "from src.utils.Metrics import meandiff\n",
    "score_fn = meandiff\n",
    "scores = []\n",
    "for batch in validation_generator:\n",
    "    x,y = batch\n",
    "    p = model(x)\n",
    "    scores.append(score_fn(y,p))\n",
    "scores"
   ]
  },
  {
   "cell_type": "code",
   "execution_count": 26,
   "metadata": {},
   "outputs": [
    {
     "data": {
      "text/plain": [
       "5.125"
      ]
     },
     "execution_count": 26,
     "metadata": {},
     "output_type": "execute_result"
    }
   ],
   "source": [
    "tf.reduce_mean(scores).numpy()"
   ]
  },
  {
   "cell_type": "markdown",
   "metadata": {},
   "source": [
    "# Generator tests"
   ]
  },
  {
   "cell_type": "code",
   "execution_count": 16,
   "metadata": {
    "collapsed": true,
    "jupyter": {
     "outputs_hidden": true
    }
   },
   "outputs": [
    {
     "data": {
      "image/png": "[encoded data removed]",
      "text/plain": [
       "<IPython.core.display.Image object>"
      ]
     },
     "execution_count": 16,
     "metadata": {},
     "output_type": "execute_result"
    }
   ],
   "source": [
    "tf.keras.utils.plot_model(\n",
    "    model, show_shapes=False,\n",
    "    show_layer_names=True, rankdir='TB', expand_nested=True, dpi=96\n",
    ")"
   ]
  },
  {
   "cell_type": "code",
   "execution_count": 19,
   "metadata": {},
   "outputs": [
    {
     "data": {
      "text/plain": [
       "1.75"
      ]
     },
     "execution_count": 19,
     "metadata": {},
     "output_type": "execute_result"
    }
   ],
   "source": [
    "score_fn = meandiff_\n",
    "score_fn(outputs, pred).numpy()"
   ]
  },
  {
   "cell_type": "code",
   "execution_count": 18,
   "metadata": {},
   "outputs": [],
   "source": [
    "def meandiff_( y_true, y_pred, batchsize=4):\n",
    "\n",
    "    \"\"\"\n",
    "    Average over the batches\n",
    "    the sum of the absolute difference between two arrays\n",
    "    y_true and y_pred are one-hot vectors with the following shape\n",
    "    batchsize * timesteps * phase classes\n",
    "    e.g.: 4 * 36 * 5\n",
    "    First for gt and pred:\n",
    "    - get the timesteps per phase with the highest probability\n",
    "    - get the absolute difference between gt and pred\n",
    "    (- later we can slice each patient by the max value in the corresponding gt indices)\n",
    "    - sum the diff per entity\n",
    "    - calc the mean over all examples\n",
    "\n",
    "    Parameters\n",
    "    ----------\n",
    "    y_true :\n",
    "    y_pred :\n",
    "\n",
    "    Returns tf.float32 scalar\n",
    "    -------\n",
    "\n",
    "    \"\"\"\n",
    "\n",
    "    score = 0\n",
    "    y_true = tf.cast(tf.convert_to_tensor(y_true), tf.float32)\n",
    "    y_pred = tf.cast(tf.convert_to_tensor(y_pred), tf.float32)\n",
    "\n",
    "    gt_idxs = tf.math.argmax(y_true, axis=1)\n",
    "    gt_max = tf.cast(tf.reduce_max(gt_idxs, axis=1), tf.int32)\n",
    "    padded_pred = []\n",
    "    padded_gt = []\n",
    "\n",
    "    msk = tf.stack([\n",
    "        tf.pad(tf.ones((gt_max[i],5)), ((0,36-gt_max[i]),(0,0)))\n",
    "        for i in range(batchsize)])\n",
    "    #msk = tf.zeros_like(y_pred)\n",
    "    #msk[:,:tf.reduce_max(gt_max), :] = 1\n",
    "\n",
    "    temp_pred = y_pred * msk\n",
    "    temp_gt = y_true * msk\n",
    "\n",
    "    #y_pred = tf.unstack(y_pred, axis=0)\n",
    "    #y_true = tf.unstack(y_true, axis=0)\n",
    "\n",
    "    \"\"\"def pad_to_size(p, max_id):\n",
    "        to_pad = p.shape[0] - max_id\n",
    "        print(p.shape[0])\n",
    "        print(max_id)\n",
    "        print(to_pad)\n",
    "        return tf.pad(p, [[0,to_pad],[0,0]])\n",
    "\n",
    "    padded_pred = list(map(lambda x : pad_to_size(x[0], x[1]), zip(y_pred, gt_max)))\n",
    "    padded_gt = list(map(lambda x: pad_to_size(x[0], x[1]), zip(y_true, gt_max)))\"\"\"\n",
    "\n",
    "    \"\"\"for idx in tf.range(y_pred.shape[0]):\n",
    "        max_idx = gt_max[idx]\n",
    "        p = y_pred[idx][:max_idx, :]\n",
    "        to_pad = y_pred.shape[1] - max_idx\n",
    "        padded_pred.append(tf.pad(p, [[0,to_pad],[0,0]]))\n",
    "\n",
    "        y = y_true[idx][:max_idx, :]\n",
    "        padded_gt.append(tf.pad(y, [[0, to_pad], [0, 0]]))\"\"\"\n",
    "\n",
    "    #temp_pred = tf.stack(padded_pred, axis=0)\n",
    "    #temp_gt = tf.stack(padded_gt, axis=0)\n",
    "\n",
    "    gt_idx = tf.math.argmax(temp_gt, axis=1)\n",
    "    pred_idx = tf.math.argmax(temp_pred, axis=1)\n",
    "\n",
    "    diffs = tf.stack([tf.stack(get_min_dist_for_list(gt_idx[i],pred_idx[i], batchsize)) for i in range(batchsize)])\n",
    "\n",
    "    #diffs = tf.math.subtract(gt_idx, pred_idx)\n",
    "    #print('substract: {}'.format(diffs.numpy()))\n",
    "    #diffs = tf.abs(diffs)\n",
    "    #print('abs: {}'.format(diffs.numpy()))\n",
    "    diffs = tf.cast(tf.reduce_sum(diffs, axis=1),tf.float32)\n",
    "    #print('sum: {}'.format(diffs.numpy()))\n",
    "    diffs = tf.reduce_mean(diffs)\n",
    "\n",
    "    return diffs\n",
    "\n",
    "\n",
    "def get_min_dist_for_list(lst_a,lst_b, batchsize):\n",
    "    length = tf.reduce_max(tf.stack([lst_a, lst_b]))\n",
    "    #print(length)\n",
    "    #length = max(max(lst_a), max(lst_b)) + 1\n",
    "    return [get_min_distance(lst_a[i],lst_b[i],length) for i in range(batchsize)]\n",
    "\n",
    "def get_min_distance(a, b, mod):\n",
    "    #assert(mod>(tf.reduce_max(a,b))), 'a: {}, b: {}, mod:{}, '.format(a,b,mod)\n",
    "\n",
    "    decr_counter = 0\n",
    "    incr_counter = 0\n",
    "\n",
    "    smaller = tf.reduce_min(tf.stack([a, b]))\n",
    "    bigger = tf.reduce_max(tf.stack([a, b]))\n",
    "\n",
    "    i1 = bigger\n",
    "    while (i1 != smaller):\n",
    "        decr_counter = decr_counter + 1\n",
    "        i1 = i1 - 1\n",
    "\n",
    "    i1 = bigger\n",
    "    while (i1 != smaller):\n",
    "        incr_counter = incr_counter + 1\n",
    "        i1 = tf.math.mod((i1 + 1), mod)\n",
    "        #i1 =  % mod\n",
    "\n",
    "    return tf.reduce_min(tf.stack([decr_counter, incr_counter]))"
   ]
  },
  {
   "cell_type": "code",
   "execution_count": 22,
   "metadata": {},
   "outputs": [
    {
     "data": {
      "text/plain": [
       "[4, 5, 6, 7, 8, 9, 1, 2, 3]"
      ]
     },
     "execution_count": 22,
     "metadata": {},
     "output_type": "execute_result"
    }
   ],
   "source": [
    "lst = [1,2,3,4,5,6,7,8,9]\n",
    "first = lst[3:]\n",
    "first.extend(lst[:3])\n",
    "first"
   ]
  },
  {
   "cell_type": "code",
   "execution_count": null,
   "metadata": {},
   "outputs": [],
   "source": [
    "onehot = np.array([[1,0,0,0,0,0,0,0,0,0,0,0,0,0,0],\n",
    " [0,0,0,1,0,0,0,0,0,0,0,0,0,0,0],\n",
    " [0,0,0,0,0,0,0,1,0,0,0,0,0,0,0],\n",
    " [0,0,0,0,0,0,0,0,0,0,0,1,0,0,0],\n",
    " [0,0,0,0,0,0,0,0,0,0,0,0,0,0,1]])"
   ]
  },
  {
   "cell_type": "code",
   "execution_count": null,
   "metadata": {},
   "outputs": [],
   "source": [
    "onehot.shape"
   ]
  },
  {
   "cell_type": "code",
   "execution_count": null,
   "metadata": {},
   "outputs": [],
   "source": [
    "onehot_t = onehot.T\n",
    "onehot_t.shape\n",
    "onehot_t"
   ]
  },
  {
   "cell_type": "code",
   "execution_count": null,
   "metadata": {},
   "outputs": [],
   "source": [
    "print(np.argmax(onehot, axis=1))\n",
    "print(np.argmax(onehot_t, axis=0))"
   ]
  },
  {
   "cell_type": "code",
   "execution_count": null,
   "metadata": {},
   "outputs": [],
   "source": [
    "# iterate over the phases j\n",
    "# linspace from i to i+1 from indices\n",
    "temp = onehot_t[:,0].astype(float)\n",
    "i = 0\n",
    "j = 3 + 1\n",
    "temp[i:j] = np.linspace(i,j,j-i)\n",
    "temp"
   ]
  },
  {
   "cell_type": "code",
   "execution_count": null,
   "metadata": {},
   "outputs": [],
   "source": [
    "onehot_t = onehot_t.astype(float)\n",
    "indices = np.argmax(onehot_t, axis=0)\n",
    "for i in range(onehot_t.shape[1]) :\n",
    "    start = indices[i]\n",
    "    # make it a ring\n",
    "    second = (i+1)%len(indices)\n",
    "    end = indices[second]\n",
    "    onehot_t[start:end,i] = np.linspace(1,0,int(end-start))\n",
    "onehot_t\n",
    "             \n",
    "    "
   ]
  },
  {
   "cell_type": "code",
   "execution_count": null,
   "metadata": {},
   "outputs": [],
   "source": [
    "plt.imshow(temp)"
   ]
  },
  {
   "cell_type": "code",
   "execution_count": null,
   "metadata": {},
   "outputs": [],
   "source": [
    "plt.imshow(temp.T)"
   ]
  },
  {
   "cell_type": "code",
   "execution_count": null,
   "metadata": {},
   "outputs": [],
   "source": [
    "%%timeit\n",
    "temp.mean()"
   ]
  },
  {
   "cell_type": "code",
   "execution_count": null,
   "metadata": {},
   "outputs": [],
   "source": [
    "%%timeit\n",
    "np.mean(temp)"
   ]
  },
  {
   "cell_type": "code",
   "execution_count": null,
   "metadata": {},
   "outputs": [],
   "source": [
    "np.linspace(-1,1,10)"
   ]
  },
  {
   "cell_type": "code",
   "execution_count": null,
   "metadata": {},
   "outputs": [],
   "source": []
  }
 ],
 "metadata": {
  "kernelspec": {
   "display_name": "dcmr",
   "language": "python",
   "name": "dcmr"
  },
  "language_info": {
   "codemirror_mode": {
    "name": "ipython",
    "version": 3
   },
   "file_extension": ".py",
   "mimetype": "text/x-python",
   "name": "python",
   "nbconvert_exporter": "python",
   "pygments_lexer": "ipython3",
   "version": "3.8.5"
  },
  "widgets": {
   "application/vnd.jupyter.widget-state+json": {
    "state": {
     "0152d65f808b456dbb294b4b7b4cc0c9": {
      "model_module": "@jupyter-widgets/controls",
      "model_module_version": "1.5.0",
      "model_name": "SliderStyleModel",
      "state": {
       "description_width": ""
      }
     },
     "07688572f97c44a7aaea5671f7752071": {
      "model_module": "@jupyter-widgets/controls",
      "model_module_version": "1.5.0",
      "model_name": "CheckboxModel",
      "state": {
       "description": "show_overview",
       "disabled": false,
       "layout": "IPY_MODEL_6f1f2f667a7246598a15a662db3fdd9d",
       "style": "IPY_MODEL_a74b83540124451a9168ef284cad190a",
       "value": true
      }
     },
     "0c910a481c63452490d2a9bd06e7bfe1": {
      "model_module": "@jupyter-widgets/controls",
      "model_module_version": "1.5.0",
      "model_name": "DescriptionStyleModel",
      "state": {
       "description_width": ""
      }
     },
     "20c2bec918a947ee91bc149edf0a762b": {
      "model_module": "@jupyter-widgets/controls",
      "model_module_version": "1.5.0",
      "model_name": "SliderStyleModel",
      "state": {
       "description_width": ""
      }
     },
     "249de974ac5b4a74b2ba8155f4a126ec": {
      "model_module": "@jupyter-widgets/output",
      "model_module_version": "1.0.0",
      "model_name": "OutputModel",
      "state": {
       "layout": "IPY_MODEL_95db4543b1de4573b423fe9a102aad3e",
       "outputs": [
        {
         "name": "stderr",
         "output_type": "stream",
         "text": "2021-02-25 14:16:54,538 INFO Preprocessing took: 0.816\n2021-02-25 14:16:54,538 INFO GT length: 25\n"
        },
        {
         "name": "stdout",
         "output_type": "stream",
         "text": "(8, 36, 8, 64, 64, 1) (8, 2, 36, 5)\nselected batch : 13\n"
        },
        {
         "data": {
          "image/png": "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\n",
          "text/plain": "<Figure size 360x360 with 2 Axes>"
         },
         "metadata": {
          "needs_background": "light"
         },
         "output_type": "display_data"
        }
       ]
      }
     },
     "2d1ef2c8978041b4b7909a60566cc503": {
      "model_module": "@jupyter-widgets/controls",
      "model_module_version": "1.5.0",
      "model_name": "IntSliderModel",
      "state": {
       "description": "batch",
       "layout": "IPY_MODEL_79da2ba7572940babfd73a6db8519295",
       "max": 26,
       "style": "IPY_MODEL_0152d65f808b456dbb294b4b7b4cc0c9",
       "value": 13
      }
     },
     "2dc83bed74ba401bac47032f9ee5dd2f": {
      "model_module": "@jupyter-widgets/base",
      "model_module_version": "1.2.0",
      "model_name": "LayoutModel",
      "state": {}
     },
     "38fb97ae456f42cea347e716764defd0": {
      "model_module": "@jupyter-widgets/controls",
      "model_module_version": "1.5.0",
      "model_name": "DescriptionStyleModel",
      "state": {
       "description_width": ""
      }
     },
     "3eb71718eb034b96aacb417da45bb4e3": {
      "model_module": "@jupyter-widgets/base",
      "model_module_version": "1.2.0",
      "model_name": "LayoutModel",
      "state": {}
     },
     "4010e616aa1a4afcb267f0d6b8c655d8": {
      "model_module": "@jupyter-widgets/base",
      "model_module_version": "1.2.0",
      "model_name": "LayoutModel",
      "state": {}
     },
     "48e9122e9cb548b8a5dabafdce306c27": {
      "model_module": "@jupyter-widgets/controls",
      "model_module_version": "1.5.0",
      "model_name": "CheckboxModel",
      "state": {
       "description": "show_input_vol",
       "disabled": false,
       "layout": "IPY_MODEL_53869af137734447a3b40b142a9a317b",
       "style": "IPY_MODEL_c15c469564da490490f5ca73fa746904",
       "value": false
      }
     },
     "49a3e251955042d58878e9ffbc1731bb": {
      "model_module": "@jupyter-widgets/base",
      "model_module_version": "1.2.0",
      "model_name": "LayoutModel",
      "state": {}
     },
     "53869af137734447a3b40b142a9a317b": {
      "model_module": "@jupyter-widgets/base",
      "model_module_version": "1.2.0",
      "model_name": "LayoutModel",
      "state": {}
     },
     "5572e18b5bb744659031c9569bef8ed9": {
      "model_module": "@jupyter-widgets/controls",
      "model_module_version": "1.5.0",
      "model_name": "ButtonStyleModel",
      "state": {}
     },
     "6716f0bd153b44689c43ca37a6d97e7b": {
      "model_module": "@jupyter-widgets/base",
      "model_module_version": "1.2.0",
      "model_name": "LayoutModel",
      "state": {}
     },
     "6770f9f953c44cdeb6aa40b6d2672863": {
      "model_module": "@jupyter-widgets/output",
      "model_module_version": "1.0.0",
      "model_name": "OutputModel",
      "state": {
       "layout": "IPY_MODEL_4010e616aa1a4afcb267f0d6b8c655d8",
       "outputs": [
        {
         "data": {
          "text/html": "<div>\n<style scoped>\n    .dataframe tbody tr th:only-of-type {\n        vertical-align: middle;\n    }\n\n    .dataframe tbody tr th {\n        vertical-align: top;\n    }\n\n    .dataframe thead th {\n        text-align: right;\n    }\n</style>\n<table border=\"1\" class=\"dataframe\">\n  <thead>\n    <tr style=\"text-align: right;\">\n      <th></th>\n      <th>patient</th>\n      <th>ED#</th>\n      <th>MS#</th>\n      <th>ES#</th>\n      <th>PF#</th>\n      <th>MD#</th>\n    </tr>\n  </thead>\n  <tbody>\n    <tr>\n      <th>0</th>\n      <td>02Z1L14N</td>\n      <td>14.0</td>\n      <td>3.0</td>\n      <td>6.0</td>\n      <td>8.0</td>\n      <td>12.0</td>\n    </tr>\n    <tr>\n      <th>1</th>\n      <td>02Z1L14N</td>\n      <td>14.0</td>\n      <td>3.0</td>\n      <td>6.0</td>\n      <td>8.0</td>\n      <td>12.0</td>\n    </tr>\n    <tr>\n      <th>2</th>\n      <td>02Z1L14N</td>\n      <td>14.0</td>\n      <td>3.0</td>\n      <td>6.0</td>\n      <td>8.0</td>\n      <td>12.0</td>\n    </tr>\n    <tr>\n      <th>3</th>\n      <td>02Z1L14N</td>\n      <td>14.0</td>\n      <td>3.0</td>\n      <td>6.0</td>\n      <td>8.0</td>\n      <td>12.0</td>\n    </tr>\n    <tr>\n      <th>4</th>\n      <td>02Z1L14N</td>\n      <td>14.0</td>\n      <td>3.0</td>\n      <td>6.0</td>\n      <td>8.0</td>\n      <td>12.0</td>\n    </tr>\n    <tr>\n      <th>...</th>\n      <td>...</td>\n      <td>...</td>\n      <td>...</td>\n      <td>...</td>\n      <td>...</td>\n      <td>...</td>\n    </tr>\n    <tr>\n      <th>1385</th>\n      <td>ZZQ0001Q</td>\n      <td>1.0</td>\n      <td>5.0</td>\n      <td>10.0</td>\n      <td>14.0</td>\n      <td>19.0</td>\n    </tr>\n    <tr>\n      <th>1386</th>\n      <td>ZZQ0001Q</td>\n      <td>1.0</td>\n      <td>5.0</td>\n      <td>10.0</td>\n      <td>14.0</td>\n      <td>19.0</td>\n    </tr>\n    <tr>\n      <th>1387</th>\n      <td>ZZQ0001Q</td>\n      <td>1.0</td>\n      <td>5.0</td>\n      <td>10.0</td>\n      <td>14.0</td>\n      <td>19.0</td>\n    </tr>\n    <tr>\n      <th>1388</th>\n      <td>ZZQ0001Q</td>\n      <td>1.0</td>\n      <td>5.0</td>\n      <td>10.0</td>\n      <td>14.0</td>\n      <td>19.0</td>\n    </tr>\n    <tr>\n      <th>1389</th>\n      <td>ZZQ0001Q</td>\n      <td>1.0</td>\n      <td>5.0</td>\n      <td>10.0</td>\n      <td>14.0</td>\n      <td>19.0</td>\n    </tr>\n  </tbody>\n</table>\n<p>1390 rows × 6 columns</p>\n</div>",
          "text/plain": "       patient   ED#  MS#   ES#   PF#   MD#\n0     02Z1L14N  14.0  3.0   6.0   8.0  12.0\n1     02Z1L14N  14.0  3.0   6.0   8.0  12.0\n2     02Z1L14N  14.0  3.0   6.0   8.0  12.0\n3     02Z1L14N  14.0  3.0   6.0   8.0  12.0\n4     02Z1L14N  14.0  3.0   6.0   8.0  12.0\n...        ...   ...  ...   ...   ...   ...\n1385  ZZQ0001Q   1.0  5.0  10.0  14.0  19.0\n1386  ZZQ0001Q   1.0  5.0  10.0  14.0  19.0\n1387  ZZQ0001Q   1.0  5.0  10.0  14.0  19.0\n1388  ZZQ0001Q   1.0  5.0  10.0  14.0  19.0\n1389  ZZQ0001Q   1.0  5.0  10.0  14.0  19.0\n\n[1390 rows x 6 columns]"
         },
         "metadata": {},
         "output_type": "display_data"
        }
       ]
      }
     },
     "6f1f2f667a7246598a15a662db3fdd9d": {
      "model_module": "@jupyter-widgets/base",
      "model_module_version": "1.2.0",
      "model_name": "LayoutModel",
      "state": {}
     },
     "700989e773124e7eb06100a6400622ba": {
      "model_module": "@jupyter-widgets/base",
      "model_module_version": "1.2.0",
      "model_name": "LayoutModel",
      "state": {}
     },
     "777eca08c7b846d5820dcab11de1436e": {
      "model_module": "@jupyter-widgets/controls",
      "model_module_version": "1.5.0",
      "model_name": "SliderStyleModel",
      "state": {
       "description_width": ""
      }
     },
     "79da2ba7572940babfd73a6db8519295": {
      "model_module": "@jupyter-widgets/base",
      "model_module_version": "1.2.0",
      "model_name": "LayoutModel",
      "state": {}
     },
     "7cd1a242a3164b98be39329f5fe68ea5": {
      "model_module": "@jupyter-widgets/base",
      "model_module_version": "1.2.0",
      "model_name": "LayoutModel",
      "state": {}
     },
     "845045f447544087a22e51aa843e36a8": {
      "model_module": "@jupyter-widgets/controls",
      "model_module_version": "1.5.0",
      "model_name": "DescriptionStyleModel",
      "state": {
       "description_width": ""
      }
     },
     "917fbb4038984107ad5abbb54ce6e0cd": {
      "model_module": "@jupyter-widgets/controls",
      "model_module_version": "1.5.0",
      "model_name": "VBoxModel",
      "state": {
       "_dom_classes": [
        "widget-interact"
       ],
       "children": [
        "IPY_MODEL_2d1ef2c8978041b4b7909a60566cc503",
        "IPY_MODEL_ed52d413a9b5447ea85f355a18bfe773",
        "IPY_MODEL_ba8c333574644f69bcf9781220fefc25",
        "IPY_MODEL_e0b3e28578e64f0f9f6a98f99ecdf6a0",
        "IPY_MODEL_b66489aab61343d6849f6bb3cfaee34a",
        "IPY_MODEL_9e5c4f5516214af7b3f037dfdf5e315b",
        "IPY_MODEL_07688572f97c44a7aaea5671f7752071",
        "IPY_MODEL_48e9122e9cb548b8a5dabafdce306c27",
        "IPY_MODEL_fcc9bccdf619431a914773ba2277827e",
        "IPY_MODEL_249de974ac5b4a74b2ba8155f4a126ec"
       ],
       "layout": "IPY_MODEL_aab4e7f0fc824ab880d9e83647a40064"
      }
     },
     "95db4543b1de4573b423fe9a102aad3e": {
      "model_module": "@jupyter-widgets/base",
      "model_module_version": "1.2.0",
      "model_name": "LayoutModel",
      "state": {}
     },
     "9e5c4f5516214af7b3f037dfdf5e315b": {
      "model_module": "@jupyter-widgets/controls",
      "model_module_version": "1.5.0",
      "model_name": "TextModel",
      "state": {
       "description": "filename",
       "layout": "IPY_MODEL_cec66e79235d4dedb76f8a28841e2621",
       "style": "IPY_MODEL_0c910a481c63452490d2a9bd06e7bfe1",
       "value": "temp_x.npy"
      }
     },
     "a74b83540124451a9168ef284cad190a": {
      "model_module": "@jupyter-widgets/controls",
      "model_module_version": "1.5.0",
      "model_name": "DescriptionStyleModel",
      "state": {
       "description_width": ""
      }
     },
     "aab4e7f0fc824ab880d9e83647a40064": {
      "model_module": "@jupyter-widgets/base",
      "model_module_version": "1.2.0",
      "model_name": "LayoutModel",
      "state": {}
     },
     "b66489aab61343d6849f6bb3cfaee34a": {
      "model_module": "@jupyter-widgets/controls",
      "model_module_version": "1.5.0",
      "model_name": "TextModel",
      "state": {
       "description": "filepath",
       "layout": "IPY_MODEL_7cd1a242a3164b98be39329f5fe68ea5",
       "style": "IPY_MODEL_845045f447544087a22e51aa843e36a8",
       "value": "data/temp/"
      }
     },
     "ba8c333574644f69bcf9781220fefc25": {
      "model_module": "@jupyter-widgets/controls",
      "model_module_version": "1.5.0",
      "model_name": "IntSliderModel",
      "state": {
       "description": "slice_n",
       "layout": "IPY_MODEL_2dc83bed74ba401bac47032f9ee5dd2f",
       "max": 11,
       "min": 1,
       "style": "IPY_MODEL_20c2bec918a947ee91bc149edf0a762b",
       "value": 6
      }
     },
     "c15c469564da490490f5ca73fa746904": {
      "model_module": "@jupyter-widgets/controls",
      "model_module_version": "1.5.0",
      "model_name": "DescriptionStyleModel",
      "state": {
       "description_width": ""
      }
     },
     "cc8072cab8314f1d8806505bab5a4f7c": {
      "model_module": "@jupyter-widgets/controls",
      "model_module_version": "1.5.0",
      "model_name": "TextModel",
      "state": {
       "description": "search_str",
       "layout": "IPY_MODEL_700989e773124e7eb06100a6400622ba",
       "style": "IPY_MODEL_38fb97ae456f42cea347e716764defd0"
      }
     },
     "cec66e79235d4dedb76f8a28841e2621": {
      "model_module": "@jupyter-widgets/base",
      "model_module_version": "1.2.0",
      "model_name": "LayoutModel",
      "state": {}
     },
     "e0b3e28578e64f0f9f6a98f99ecdf6a0": {
      "model_module": "@jupyter-widgets/controls",
      "model_module_version": "1.5.0",
      "model_name": "CheckboxModel",
      "state": {
       "description": "save",
       "disabled": false,
       "layout": "IPY_MODEL_49a3e251955042d58878e9ffbc1731bb",
       "style": "IPY_MODEL_ef397dcb65144b40b24e6cdc85ccd08c",
       "value": false
      }
     },
     "ed52d413a9b5447ea85f355a18bfe773": {
      "model_module": "@jupyter-widgets/controls",
      "model_module_version": "1.5.0",
      "model_name": "IntSliderModel",
      "state": {
       "description": "im",
       "layout": "IPY_MODEL_3eb71718eb034b96aacb417da45bb4e3",
       "max": 7,
       "style": "IPY_MODEL_777eca08c7b846d5820dcab11de1436e",
       "value": 3
      }
     },
     "ef397dcb65144b40b24e6cdc85ccd08c": {
      "model_module": "@jupyter-widgets/controls",
      "model_module_version": "1.5.0",
      "model_name": "DescriptionStyleModel",
      "state": {
       "description_width": ""
      }
     },
     "f7b0f90a4760425b9b398b87b17012bb": {
      "model_module": "@jupyter-widgets/controls",
      "model_module_version": "1.5.0",
      "model_name": "VBoxModel",
      "state": {
       "_dom_classes": [
        "widget-interact"
       ],
       "children": [
        "IPY_MODEL_cc8072cab8314f1d8806505bab5a4f7c",
        "IPY_MODEL_6770f9f953c44cdeb6aa40b6d2672863"
       ],
       "layout": "IPY_MODEL_6716f0bd153b44689c43ca37a6d97e7b"
      }
     },
     "fcc9bccdf619431a914773ba2277827e": {
      "model_module": "@jupyter-widgets/controls",
      "model_module_version": "1.5.0",
      "model_name": "ButtonModel",
      "state": {
       "description": "Run Interact",
       "layout": "IPY_MODEL_fe735fc230304bb2a2d95bcd8eb4fa05",
       "style": "IPY_MODEL_5572e18b5bb744659031c9569bef8ed9"
      }
     },
     "fe735fc230304bb2a2d95bcd8eb4fa05": {
      "model_module": "@jupyter-widgets/base",
      "model_module_version": "1.2.0",
      "model_name": "LayoutModel",
      "state": {}
     }
    },
    "version_major": 2,
    "version_minor": 0
   }
  }
 },
 "nbformat": 4,
 "nbformat_minor": 4
}
