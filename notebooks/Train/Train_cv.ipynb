{
 "cells": [
  {
   "cell_type": "code",
   "execution_count": 1,
   "metadata": {},
   "outputs": [
    {
     "name": "stdout",
     "output_type": "stream",
     "text": [
      "search for root_dir and set working directory\n",
      "Working directory set to: /mnt/ssd/git/dynamic-cmr-models\n",
      "['/gpu:0', '/gpu:1']\n"
     ]
    }
   ],
   "source": [
    "# ------------------------------------------define logging and working directory\n",
    "from ProjectRoot import change_wd_to_project_root\n",
    "change_wd_to_project_root()\n",
    "from src.utils.Tensorflow_helper import choose_gpu_by_id\n",
    "# ------------------------------------------define GPU id/s to use, if given\n",
    "GPU_IDS = '0,1'\n",
    "GPUS = choose_gpu_by_id(GPU_IDS)\n",
    "print(GPUS)\n",
    "# ------------------------------------------jupyter magic config\n",
    "%matplotlib inline\n",
    "%reload_ext autoreload\n",
    "%autoreload 2\n",
    "# ------------------------------------------ import helpers\n",
    "# this should import glob, os, and many other standard libs\n",
    "# local imports\n",
    "from src.utils.Notebook_imports import *\n",
    "from src.utils.Utils_io import Console_and_file_logger, init_config\n",
    "\n",
    "# import external libs\n",
    "from tensorflow.python.client import device_lib\n",
    "import tensorflow as tf\n",
    "tf.get_logger().setLevel('ERROR')\n",
    "import cv2\n",
    "import pandas as pd\n",
    "\n",
    "EXPERIMENT = 'cv_baseline_batchmidhistmatch/8_64_64__8_2_2_4tenc_conv1_MSE_NOnorm_augshiftrot_taug_3_batch8'\n",
    "#EXPERIMENT = 'baseline_label_transpose_smooth05/36_5_BiLSTM32_NoBn_conv5_size1_CCE_NOphaseaug_NOaug_b8'\n",
    "# EXPERIMENT = 'mased_scores/36_5_BiLSTM32_NoBn_conv5_size1_CCE_NOphaseaug_shift_rotate_reflectbordersgridaug'\n",
    "timestemp = str(datetime.datetime.now().strftime(\"%Y-%m-%d_%H_%M\")) # ad a timestep to each project to make repeated experiments unique\n",
    "\n",
    "EXPERIMENTS_ROOT = 'exp/'\n",
    "EXP_PATH = os.path.join(EXPERIMENTS_ROOT, EXPERIMENT, timestemp)\n",
    "MODEL_PATH = os.path.join(EXP_PATH, 'model', )\n",
    "TENSORBOARD_PATH = os.path.join(EXP_PATH, 'tensorboard_logs')\n",
    "CONFIG_PATH = os.path.join(EXP_PATH,'config')\n",
    "HISTORY_PATH = os.path.join(EXP_PATH, 'history')\n",
    "ensure_dir(MODEL_PATH)\n",
    "ensure_dir(TENSORBOARD_PATH)\n",
    "ensure_dir(CONFIG_PATH)\n",
    "ensure_dir(HISTORY_PATH)\n",
    "\n",
    "# define the input data paths and fold \n",
    "# first to the 4D Nrrd files, \n",
    "# second to a dataframe with a mapping of the Fold-number\n",
    "# Finally the path to the metadata\n",
    "DATA_PATH_SAX = '/mnt/ssd/data/gcn/02_imported_4D_unfiltered/SAX/'\n",
    "DF_FOLDS = '/mnt/ssd/data/gcn/02_imported_4D_unfiltered/df_kfold.csv'\n",
    "DF_META = '/mnt/ssd/data/gcn/02_imported_4D_unfiltered/SAx_3D_dicomTags_phase'\n",
    "FOLD = 0\n",
    "\n",
    "# General params\n",
    "SEED = 42 # define a seed for the generator shuffle\n",
    "BATCHSIZE = 8 # 32, 64, 24, 16, 1 for 3D use: 4\n",
    "GENERATOR_WORKER = BATCHSIZE # if not set, use batchsize\n",
    "EPOCHS = 100\n",
    "\n",
    "DIM = [8, 64, 64] # network input shape for spacing of 3, (z,y,x)\n",
    "T_SHAPE = 36\n",
    "SPACING = [8, 3, 3] # if resample, resample to this spacing, (z,y,x)\n",
    "\n",
    "# Model params\n",
    "DEPTH = 4 # depth of the encoder\n",
    "FILTERS = 32 # initial number of filters, will be doubled after each downsampling block\n",
    "M_POOL = [1, 2, 2]# size of max-pooling used for downsampling and upsampling\n",
    "F_SIZE = [3, 3, 3] # conv filter size\n",
    "BN_FIRST = False # decide if batch normalisation between conv and activation or afterwards\n",
    "BATCH_NORMALISATION = True # apply BN or not\n",
    "PAD = 'same' # padding strategy of the conv layers\n",
    "KERNEL_INIT = 'he_normal' # conv weight initialisation\n",
    "OPTIMIZER = 'adam' # Adam, Adagrad, RMSprop, Adadelta,  # https://keras.io/optimizers/\n",
    "ACTIVATION = 'relu' # tf.keras.layers.LeakyReLU(), relu or any other non linear activation function\n",
    "LEARNING_RATE = 1e-4 # start with a huge lr to converge fast\n",
    "REDUCE_LR_ON_PLAEAU_PATIENCE = 5\n",
    "DECAY_FACTOR = 0.7 # Define a learning rate decay for the ReduceLROnPlateau callback\n",
    "POLY_LR_DECAY = False\n",
    "MIN_LR = 1e-12 # minimal lr, smaller lr does not improve the model\n",
    "DROPOUT_min = 0.3 # lower dropout at the shallow layers\n",
    "DROPOUT_max = 0.5 # higher dropout at the deep layers\n",
    "\n",
    "# Callback params\n",
    "MONITOR_FUNCTION = 'loss'\n",
    "MONITOR_MODE = 'min'\n",
    "SAVE_MODEL_FUNCTION = 'loss'\n",
    "SAVE_MODEL_MODE = 'min'\n",
    "MODEL_PATIENCE = 20\n",
    "SAVE_LEARNING_PROGRESS_AS_TF = True\n",
    "\n",
    "# Generator and Augmentation params\n",
    "BORDER_MODE = cv2.BORDER_REFLECT_101 # border mode for the data generation\n",
    "IMG_INTERPOLATION = cv2.INTER_LINEAR # image interpolation in the genarator\n",
    "MSK_INTERPOLATION = cv2.INTER_NEAREST # mask interpolation in the generator\n",
    "AUGMENT = True # a compose of 2D augmentation (grid distortion, 90degree rotation, brightness and shift)\n",
    "AUGMENT_PROB = 0.8\n",
    "AUGMENT_PHASES = True\n",
    "AUGMENT_PHASES_RANGE = (-5,5)\n",
    "REPEAT_ONEHOT = True\n",
    "SHUFFLE = True\n",
    "RESAMPLE = True\n",
    "HIST_MATCHING = True\n",
    "SCALER = 'MinMax' # MinMax, Standard or Robust\n",
    "# We define 5 target phases and a background phase for the pad/empty volumes \n",
    "PHASES = len(['ED#', 'MS#', 'ES#', 'PF#', 'MD#']) # skipped 'pad backround manually added', due to repeating\n",
    "TARGET_SMOOTHING = True\n",
    "SMOOTHING_KERNEL_SIZE = 12\n",
    "SMOOTHING_LOWER_BORDER = 1\n",
    "SMOOTHING_UPPER_BORDER = 5\n",
    "SMOOTHING_WEIGHT_CORRECT = 10\n",
    "config = init_config(config=locals(), save=True)"
   ]
  },
  {
   "cell_type": "code",
   "execution_count": 2,
   "metadata": {},
   "outputs": [
    {
     "name": "stderr",
     "output_type": "stream",
     "text": [
      "2021-03-17 18:28:28,566 INFO -------------------- Start --------------------\n",
      "2021-03-17 18:28:28,566 INFO Working directory: /mnt/ssd/git/dynamic-cmr-models.\n",
      "2021-03-17 18:28:28,567 INFO Log file: ./logs/cv_baseline_batchmidhistmatch/8_64_64__8_2_2_4tenc_conv1_MSE_NOnorm_augshiftrot_taug_3_batch8_f0.log\n",
      "2021-03-17 18:28:28,567 INFO Log level for console: INFO\n",
      "2021-03-17 18:28:28,568 INFO Is built with tensorflow: True\n",
      "2021-03-17 18:28:28,631 INFO Visible devices:\n",
      "[PhysicalDevice(name='/physical_device:CPU:0', device_type='CPU'), PhysicalDevice(name='/physical_device:XLA_CPU:0', device_type='XLA_CPU'), PhysicalDevice(name='/physical_device:XLA_GPU:0', device_type='XLA_GPU'), PhysicalDevice(name='/physical_device:XLA_GPU:1', device_type='XLA_GPU'), PhysicalDevice(name='/physical_device:GPU:0', device_type='GPU'), PhysicalDevice(name='/physical_device:GPU:1', device_type='GPU')]\n"
     ]
    },
    {
     "name": "stdout",
     "output_type": "stream",
     "text": [
      "['/gpu:0', '/gpu:1']\n",
      "{'GPU_IDS': '0,1', 'GPUS': ['/gpu:0', '/gpu:1'], 'SEED': 42, 'EXPERIMENT': 'cv_baseline_batchmidhistmatch/8_64_64__8_2_2_4tenc_conv1_MSE_NOnorm_augshiftrot_taug_3_batch8_f0', 'EXPERIMENTS_ROOT': 'exp/', 'EXP_PATH': 'exp/cv_baseline_batchmidhistmatch/8_64_64__8_2_2_4tenc_conv1_MSE_NOnorm_augshiftrot_taug_3_batch8_f0/2021-03-17_18_28', 'MODEL_PATH': 'exp/cv_baseline_batchmidhistmatch/8_64_64__8_2_2_4tenc_conv1_MSE_NOnorm_augshiftrot_taug_3_batch8_f0/2021-03-17_18_28/model', 'TENSORBOARD_PATH': 'exp/cv_baseline_batchmidhistmatch/8_64_64__8_2_2_4tenc_conv1_MSE_NOnorm_augshiftrot_taug_3_batch8_f0/2021-03-17_18_28/tensorboard_logs', 'CONFIG_PATH': 'exp/cv_baseline_batchmidhistmatch/8_64_64__8_2_2_4tenc_conv1_MSE_NOnorm_augshiftrot_taug_3_batch8_f0/2021-03-17_18_28/config', 'HISTORY_PATH': 'exp/cv_baseline_batchmidhistmatch/8_64_64__8_2_2_4tenc_conv1_MSE_NOnorm_augshiftrot_taug_3_batch8_f0/2021-03-17_18_28/history', 'DATA_PATH_SAX': '/mnt/ssd/data/gcn/02_imported_4D_unfiltered/SAX/', 'DF_FOLDS': '/mnt/ssd/data/gcn/02_imported_4D_unfiltered/df_kfold.csv', 'DF_META': '/mnt/ssd/data/gcn/02_imported_4D_unfiltered/SAx_3D_dicomTags_phase', 'FOLD': 0, 'BATCHSIZE': 8, 'GENERATOR_WORKER': 8, 'EPOCHS': 100, 'DIM': [8, 64, 64], 'T_SHAPE': 36, 'SPACING': [8, 3, 3], 'DEPTH': 4, 'FILTERS': 32, 'M_POOL': [1, 2, 2], 'F_SIZE': [3, 3, 3], 'BN_FIRST': False, 'BATCH_NORMALISATION': True, 'PAD': 'same', 'KERNEL_INIT': 'he_normal', 'OPTIMIZER': 'adam', 'ACTIVATION': 'relu', 'LEARNING_RATE': 0.0001, 'REDUCE_LR_ON_PLAEAU_PATIENCE': 5, 'DECAY_FACTOR': 0.7, 'POLY_LR_DECAY': False, 'MIN_LR': 1e-12, 'MONITOR_FUNCTION': 'loss', 'MONITOR_MODE': 'min', 'SAVE_MODEL_FUNCTION': 'loss', 'SAVE_MODEL_MODE': 'min', 'MODEL_PATIENCE': 20, 'SAVE_LEARNING_PROGRESS_AS_TF': True, 'BORDER_MODE': 4, 'IMG_INTERPOLATION': 1, 'MSK_INTERPOLATION': 0, 'AUGMENT': True, 'AUGMENT_PROB': 0.8, 'AUGMENT_PHASES': True, 'AUGMENT_PHASES_RANGE': (-5, 5), 'REPEAT_ONEHOT': True, 'SHUFFLE': True, 'RESAMPLE': True, 'HIST_MATCHING': True, 'SCALER': 'MinMax', 'PHASES': 5, 'TARGET_SMOOTHING': True, 'SMOOTHING_KERNEL_SIZE': 12, 'SMOOTHING_LOWER_BORDER': 1, 'SMOOTHING_UPPER_BORDER': 5, 'SMOOTHING_WEIGHT_CORRECT': 10, 'TENSORBOARD_LOG_DIR': 'reports/tensorboard_logs/cv_baseline_batchmidhistmatch/8_64_64__8_2_2_4tenc_conv1_MSE_NOnorm_augshiftrot_taug_3_batch8'}\n"
     ]
    },
    {
     "name": "stderr",
     "output_type": "stream",
     "text": [
      "2021-03-17 18:28:29,278 INFO Local devices: \n",
      " [name: \"/device:CPU:0\"\n",
      "device_type: \"CPU\"\n",
      "memory_limit: 268435456\n",
      "locality {\n",
      "}\n",
      "incarnation: 2911616390517592011\n",
      ", name: \"/device:XLA_CPU:0\"\n",
      "device_type: \"XLA_CPU\"\n",
      "memory_limit: 17179869184\n",
      "locality {\n",
      "}\n",
      "incarnation: 1420530719451236227\n",
      "physical_device_desc: \"device: XLA_CPU device\"\n",
      ", name: \"/device:XLA_GPU:0\"\n",
      "device_type: \"XLA_GPU\"\n",
      "memory_limit: 17179869184\n",
      "locality {\n",
      "}\n",
      "incarnation: 6879913718249383705\n",
      "physical_device_desc: \"device: XLA_GPU device\"\n",
      ", name: \"/device:XLA_GPU:1\"\n",
      "device_type: \"XLA_GPU\"\n",
      "memory_limit: 17179869184\n",
      "locality {\n",
      "}\n",
      "incarnation: 14710337562868943698\n",
      "physical_device_desc: \"device: XLA_GPU device\"\n",
      ", name: \"/device:GPU:0\"\n",
      "device_type: \"GPU\"\n",
      "memory_limit: 23076490496\n",
      "locality {\n",
      "  bus_id: 1\n",
      "  links {\n",
      "  }\n",
      "}\n",
      "incarnation: 14597612955302900021\n",
      "physical_device_desc: \"device: 0, name: TITAN RTX, pci bus id: 0000:01:00.0, compute capability: 7.5\"\n",
      ", name: \"/device:GPU:1\"\n",
      "device_type: \"GPU\"\n",
      "memory_limit: 23561682304\n",
      "locality {\n",
      "  bus_id: 1\n",
      "  links {\n",
      "  }\n",
      "}\n",
      "incarnation: 16694385224893764178\n",
      "physical_device_desc: \"device: 1, name: TITAN RTX, pci bus id: 0000:02:00.0, compute capability: 7.5\"\n",
      "]\n",
      "2021-03-17 18:28:29,280 INFO no files found, try to load with clean.nrrd/mask.nrrd pattern\n",
      "2021-03-17 18:28:29,287 INFO Found 278 images/masks in /mnt/ssd/data/gcn/02_imported_4D_unfiltered/SAX/\n",
      "2021-03-17 18:28:29,287 INFO Patients train: 209\n",
      "2021-03-17 18:28:29,298 INFO Selected 209 of 278 files with 209 of 279 patients for training fold 0\n",
      "2021-03-17 18:28:29,299 INFO SAX train CMR: 209, SAX train masks: 209\n",
      "2021-03-17 18:28:29,299 INFO SAX val CMR: 69, SAX val masks: 69\n",
      "2021-03-17 18:28:29,313 INFO Check if we find the patient ID and phase mapping for all: 278 files.\n",
      "2021-03-17 18:28:29,585 INFO Done!\n",
      "2021-03-17 18:28:29,589 INFO Create DataGenerator\n",
      "2021-03-17 18:28:29,590 INFO Datagenerator created with: \n",
      " shape: [8, 64, 64]\n",
      " spacing: [8, 3, 3]\n",
      " batchsize: 8\n",
      " Scaler: MinMax\n",
      " Images: 209 \n",
      " Augment: True \n",
      " Thread workers: 8\n",
      "2021-03-17 18:28:29,591 INFO Data will be augmented (shift,scale and rotate) with albumentation\n",
      "2021-03-17 18:28:29,604 INFO Smoothing kernel: \n",
      "[ 1.   1.8  2.6  3.4  4.2  5.  10.   5.   4.2  3.4  2.6  1.8  1. ]\n",
      "2021-03-17 18:28:29,604 INFO Temporal phase augmentation: \n",
      "True\n",
      "Repeat volume: \n",
      "True\n",
      "2021-03-17 18:28:29,652 INFO Create DataGenerator\n",
      "2021-03-17 18:28:29,652 INFO Datagenerator created with: \n",
      " shape: [8, 64, 64]\n",
      " spacing: [8, 3, 3]\n",
      " batchsize: 8\n",
      " Scaler: MinMax\n",
      " Images: 69 \n",
      " Augment: False \n",
      " Thread workers: 8\n",
      "2021-03-17 18:28:29,653 INFO No augmentation\n",
      "2021-03-17 18:28:29,665 INFO Smoothing kernel: \n",
      "[ 1.   1.8  2.6  3.4  4.2  5.  10.   5.   4.2  3.4  2.6  1.8  1. ]\n",
      "2021-03-17 18:28:29,665 INFO Temporal phase augmentation: \n",
      "False\n",
      "Repeat volume: \n",
      "True\n"
     ]
    },
    {
     "name": "stdout",
     "output_type": "stream",
     "text": [
      "Shape after the temporal encoder\n",
      "(None, 36, 8, 4, 4, 512)\n",
      "Shape after GAP\n",
      "(None, 36, 512)\n",
      "Shape after Bi-LSTM layer\n",
      "(None, 36, 512)\n",
      "Shape after final conv layer\n",
      "(None, 36, 5)\n"
     ]
    },
    {
     "name": "stderr",
     "output_type": "stream",
     "text": [
      "2021-03-17 18:28:35,592 INFO feed 4 Tensorboard is ready\n"
     ]
    },
    {
     "name": "stdout",
     "output_type": "stream",
     "text": [
      "Epoch 1/100\n",
      "26/26 [==============================] - ETA: 0s - loss: 1.2024 - mse_wrapper: 1.2024 - ca_wrapper: 0.3516 - meandiff: 16.1538"
     ]
    },
    {
     "name": "stderr",
     "output_type": "stream",
     "text": [
      "2021-03-17 18:30:45,196 INFO (4, 2, 36, 5)\n",
      "2021-03-17 18:30:46,020 INFO (4, 2, 36, 5)\n"
     ]
    },
    {
     "name": "stdout",
     "output_type": "stream",
     "text": [
      "\n",
      "Epoch 00001: loss improved from inf to 1.20239, saving model to exp/cv_baseline_batchmidhistmatch/8_64_64__8_2_2_4tenc_conv1_MSE_NOnorm_augshiftrot_taug_3_batch8_f0/2021-03-17_18_28/model/model.h5\n",
      "26/26 [==============================] - 97s 4s/step - loss: 1.2024 - mse_wrapper: 1.2024 - ca_wrapper: 0.3516 - meandiff: 16.1538 - val_loss: 5.3359 - val_mse_wrapper: 5.3359 - val_ca_wrapper: 0.1970 - val_meandiff: 16.1562 - lr: 1.0000e-04\n",
      "Epoch 2/100\n",
      "26/26 [==============================] - ETA: 0s - loss: 0.9771 - mse_wrapper: 0.9771 - ca_wrapper: 0.5168 - meandiff: 11.9471"
     ]
    },
    {
     "name": "stderr",
     "output_type": "stream",
     "text": [
      "2021-03-17 18:32:19,036 INFO (4, 2, 36, 5)\n",
      "2021-03-17 18:32:19,567 INFO (4, 2, 36, 5)\n"
     ]
    },
    {
     "name": "stdout",
     "output_type": "stream",
     "text": [
      "\n",
      "Epoch 00002: loss improved from 1.20239 to 0.97706, saving model to exp/cv_baseline_batchmidhistmatch/8_64_64__8_2_2_4tenc_conv1_MSE_NOnorm_augshiftrot_taug_3_batch8_f0/2021-03-17_18_28/model/model.h5\n",
      "26/26 [==============================] - 90s 3s/step - loss: 0.9771 - mse_wrapper: 0.9771 - ca_wrapper: 0.5168 - meandiff: 11.9471 - val_loss: 1.0684 - val_mse_wrapper: 1.0684 - val_ca_wrapper: 0.5985 - val_meandiff: 10.8750 - lr: 1.0000e-04\n",
      "Epoch 3/100\n",
      "26/26 [==============================] - ETA: 0s - loss: 0.8201 - mse_wrapper: 0.8201 - ca_wrapper: 0.6374 - meandiff: 9.1490"
     ]
    },
    {
     "name": "stderr",
     "output_type": "stream",
     "text": [
      "2021-03-17 18:33:51,852 INFO (4, 2, 36, 5)\n",
      "2021-03-17 18:33:52,397 INFO (4, 2, 36, 5)\n"
     ]
    },
    {
     "name": "stdout",
     "output_type": "stream",
     "text": [
      "\n",
      "Epoch 00003: loss improved from 0.97706 to 0.82014, saving model to exp/cv_baseline_batchmidhistmatch/8_64_64__8_2_2_4tenc_conv1_MSE_NOnorm_augshiftrot_taug_3_batch8_f0/2021-03-17_18_28/model/model.h5\n",
      "26/26 [==============================] - 89s 3s/step - loss: 0.8201 - mse_wrapper: 0.8201 - ca_wrapper: 0.6374 - meandiff: 9.1490 - val_loss: 1.4412 - val_mse_wrapper: 1.4412 - val_ca_wrapper: 0.5846 - val_meandiff: 8.6250 - lr: 1.0000e-04\n",
      "Epoch 4/100\n",
      "26/26 [==============================] - ETA: 0s - loss: 0.7575 - mse_wrapper: 0.7575 - ca_wrapper: 0.6892 - meandiff: 7.6971"
     ]
    },
    {
     "name": "stderr",
     "output_type": "stream",
     "text": [
      "2021-03-17 18:35:22,770 INFO (4, 2, 36, 5)\n",
      "2021-03-17 18:35:23,300 INFO (4, 2, 36, 5)\n"
     ]
    },
    {
     "name": "stdout",
     "output_type": "stream",
     "text": [
      "\n",
      "Epoch 00004: loss improved from 0.82014 to 0.75745, saving model to exp/cv_baseline_batchmidhistmatch/8_64_64__8_2_2_4tenc_conv1_MSE_NOnorm_augshiftrot_taug_3_batch8_f0/2021-03-17_18_28/model/model.h5\n",
      "26/26 [==============================] - 87s 3s/step - loss: 0.7575 - mse_wrapper: 0.7575 - ca_wrapper: 0.6892 - meandiff: 7.6971 - val_loss: 1.2041 - val_mse_wrapper: 1.2041 - val_ca_wrapper: 0.6897 - val_meandiff: 6.6094 - lr: 1.0000e-04\n",
      "Epoch 5/100\n",
      "26/26 [==============================] - ETA: 0s - loss: 0.7068 - mse_wrapper: 0.7068 - ca_wrapper: 0.7141 - meandiff: 7.5721\n",
      "Epoch 00005: loss improved from 0.75745 to 0.70675, saving model to exp/cv_baseline_batchmidhistmatch/8_64_64__8_2_2_4tenc_conv1_MSE_NOnorm_augshiftrot_taug_3_batch8_f0/2021-03-17_18_28/model/model.h5\n",
      "26/26 [==============================] - 86s 3s/step - loss: 0.7068 - mse_wrapper: 0.7068 - ca_wrapper: 0.7141 - meandiff: 7.5721 - val_loss: 1.5931 - val_mse_wrapper: 1.5931 - val_ca_wrapper: 0.6280 - val_meandiff: 6.0156 - lr: 1.0000e-04\n",
      "Epoch 6/100\n",
      "26/26 [==============================] - ETA: 0s - loss: 0.6794 - mse_wrapper: 0.6794 - ca_wrapper: 0.7304 - meandiff: 6.3125"
     ]
    },
    {
     "name": "stderr",
     "output_type": "stream",
     "text": [
      "2021-03-17 18:38:29,006 INFO (4, 2, 36, 5)\n",
      "2021-03-17 18:38:29,538 INFO (4, 2, 36, 5)\n"
     ]
    },
    {
     "name": "stdout",
     "output_type": "stream",
     "text": [
      "\n",
      "Epoch 00006: loss improved from 0.70675 to 0.67936, saving model to exp/cv_baseline_batchmidhistmatch/8_64_64__8_2_2_4tenc_conv1_MSE_NOnorm_augshiftrot_taug_3_batch8_f0/2021-03-17_18_28/model/model.h5\n",
      "26/26 [==============================] - 93s 4s/step - loss: 0.6794 - mse_wrapper: 0.6794 - ca_wrapper: 0.7304 - meandiff: 6.3125 - val_loss: 1.1498 - val_mse_wrapper: 1.1498 - val_ca_wrapper: 0.7335 - val_meandiff: 5.5469 - lr: 1.0000e-04\n",
      "Epoch 7/100\n",
      "26/26 [==============================] - ETA: 0s - loss: 0.6342 - mse_wrapper: 0.6342 - ca_wrapper: 0.7487 - meandiff: 5.9904\n",
      "Epoch 00007: loss improved from 0.67936 to 0.63417, saving model to exp/cv_baseline_batchmidhistmatch/8_64_64__8_2_2_4tenc_conv1_MSE_NOnorm_augshiftrot_taug_3_batch8_f0/2021-03-17_18_28/model/model.h5\n",
      "26/26 [==============================] - 91s 4s/step - loss: 0.6342 - mse_wrapper: 0.6342 - ca_wrapper: 0.7487 - meandiff: 5.9904 - val_loss: 1.9016 - val_mse_wrapper: 1.9016 - val_ca_wrapper: 0.7109 - val_meandiff: 5.6562 - lr: 1.0000e-04\n",
      "Epoch 8/100\n",
      "26/26 [==============================] - ETA: 0s - loss: 0.5965 - mse_wrapper: 0.5965 - ca_wrapper: 0.7656 - meandiff: 5.4904"
     ]
    },
    {
     "name": "stderr",
     "output_type": "stream",
     "text": [
      "2021-03-17 18:41:34,676 INFO (4, 2, 36, 5)\n",
      "2021-03-17 18:41:35,255 INFO (4, 2, 36, 5)\n"
     ]
    },
    {
     "name": "stdout",
     "output_type": "stream",
     "text": [
      "\n",
      "Epoch 00008: loss improved from 0.63417 to 0.59652, saving model to exp/cv_baseline_batchmidhistmatch/8_64_64__8_2_2_4tenc_conv1_MSE_NOnorm_augshiftrot_taug_3_batch8_f0/2021-03-17_18_28/model/model.h5\n",
      "26/26 [==============================] - 87s 3s/step - loss: 0.5965 - mse_wrapper: 0.5965 - ca_wrapper: 0.7656 - meandiff: 5.4904 - val_loss: 1.1307 - val_mse_wrapper: 1.1307 - val_ca_wrapper: 0.7613 - val_meandiff: 4.3750 - lr: 1.0000e-04\n",
      "Epoch 9/100\n",
      "26/26 [==============================] - ETA: 0s - loss: 0.5673 - mse_wrapper: 0.5673 - ca_wrapper: 0.7857 - meandiff: 5.2644\n",
      "Epoch 00009: loss improved from 0.59652 to 0.56733, saving model to exp/cv_baseline_batchmidhistmatch/8_64_64__8_2_2_4tenc_conv1_MSE_NOnorm_augshiftrot_taug_3_batch8_f0/2021-03-17_18_28/model/model.h5\n",
      "26/26 [==============================] - 89s 3s/step - loss: 0.5673 - mse_wrapper: 0.5673 - ca_wrapper: 0.7857 - meandiff: 5.2644 - val_loss: 1.1675 - val_mse_wrapper: 1.1675 - val_ca_wrapper: 0.7860 - val_meandiff: 4.2656 - lr: 1.0000e-04\n",
      "Epoch 10/100\n",
      "26/26 [==============================] - ETA: 0s - loss: 0.5440 - mse_wrapper: 0.5440 - ca_wrapper: 0.7887 - meandiff: 4.9183"
     ]
    },
    {
     "name": "stderr",
     "output_type": "stream",
     "text": [
      "2021-03-17 18:44:36,544 INFO (4, 2, 36, 5)\n",
      "2021-03-17 18:44:37,115 INFO (4, 2, 36, 5)\n"
     ]
    },
    {
     "name": "stdout",
     "output_type": "stream",
     "text": [
      "\n",
      "Epoch 00010: loss improved from 0.56733 to 0.54401, saving model to exp/cv_baseline_batchmidhistmatch/8_64_64__8_2_2_4tenc_conv1_MSE_NOnorm_augshiftrot_taug_3_batch8_f0/2021-03-17_18_28/model/model.h5\n",
      "26/26 [==============================] - 86s 3s/step - loss: 0.5440 - mse_wrapper: 0.5440 - ca_wrapper: 0.7887 - meandiff: 4.9183 - val_loss: 1.3726 - val_mse_wrapper: 1.3726 - val_ca_wrapper: 0.7730 - val_meandiff: 4.7344 - lr: 1.0000e-04\n",
      "Epoch 11/100\n",
      "26/26 [==============================] - ETA: 0s - loss: 0.5490 - mse_wrapper: 0.5490 - ca_wrapper: 0.7878 - meandiff: 4.7548\n",
      "Epoch 00011: loss did not improve from 0.54401\n",
      "26/26 [==============================] - 86s 3s/step - loss: 0.5490 - mse_wrapper: 0.5490 - ca_wrapper: 0.7878 - meandiff: 4.7548 - val_loss: 0.9799 - val_mse_wrapper: 0.9799 - val_ca_wrapper: 0.7726 - val_meandiff: 4.3750 - lr: 1.0000e-04\n",
      "Epoch 12/100\n",
      "26/26 [==============================] - ETA: 0s - loss: 0.5308 - mse_wrapper: 0.5308 - ca_wrapper: 0.7910 - meandiff: 4.4712"
     ]
    },
    {
     "name": "stderr",
     "output_type": "stream",
     "text": [
      "2021-03-17 18:47:39,337 INFO (4, 2, 36, 5)\n",
      "2021-03-17 18:47:39,894 INFO (4, 2, 36, 5)\n"
     ]
    },
    {
     "name": "stdout",
     "output_type": "stream",
     "text": [
      "\n",
      "Epoch 00012: loss improved from 0.54401 to 0.53077, saving model to exp/cv_baseline_batchmidhistmatch/8_64_64__8_2_2_4tenc_conv1_MSE_NOnorm_augshiftrot_taug_3_batch8_f0/2021-03-17_18_28/model/model.h5\n",
      "26/26 [==============================] - 87s 3s/step - loss: 0.5308 - mse_wrapper: 0.5308 - ca_wrapper: 0.7910 - meandiff: 4.4712 - val_loss: 0.8912 - val_mse_wrapper: 0.8912 - val_ca_wrapper: 0.7561 - val_meandiff: 4.0938 - lr: 1.0000e-04\n",
      "Epoch 13/100\n",
      "26/26 [==============================] - ETA: 0s - loss: 0.5126 - mse_wrapper: 0.5126 - ca_wrapper: 0.8022 - meandiff: 4.8029\n",
      "Epoch 00013: loss improved from 0.53077 to 0.51258, saving model to exp/cv_baseline_batchmidhistmatch/8_64_64__8_2_2_4tenc_conv1_MSE_NOnorm_augshiftrot_taug_3_batch8_f0/2021-03-17_18_28/model/model.h5\n",
      "26/26 [==============================] - 84s 3s/step - loss: 0.5126 - mse_wrapper: 0.5126 - ca_wrapper: 0.8022 - meandiff: 4.8029 - val_loss: 0.8360 - val_mse_wrapper: 0.8360 - val_ca_wrapper: 0.7812 - val_meandiff: 3.8750 - lr: 1.0000e-04\n",
      "Epoch 14/100\n",
      "26/26 [==============================] - ETA: 0s - loss: 0.5213 - mse_wrapper: 0.5213 - ca_wrapper: 0.7989 - meandiff: 4.4808"
     ]
    },
    {
     "name": "stderr",
     "output_type": "stream",
     "text": [
      "2021-03-17 18:50:36,516 INFO (4, 2, 36, 5)\n",
      "2021-03-17 18:50:37,069 INFO (4, 2, 36, 5)\n"
     ]
    },
    {
     "name": "stdout",
     "output_type": "stream",
     "text": [
      "\n",
      "Epoch 00014: loss did not improve from 0.51258\n",
      "26/26 [==============================] - 86s 3s/step - loss: 0.5213 - mse_wrapper: 0.5213 - ca_wrapper: 0.7989 - meandiff: 4.4808 - val_loss: 1.1112 - val_mse_wrapper: 1.1112 - val_ca_wrapper: 0.7943 - val_meandiff: 3.7500 - lr: 1.0000e-04\n",
      "Epoch 15/100\n",
      "26/26 [==============================] - ETA: 0s - loss: 0.4981 - mse_wrapper: 0.4981 - ca_wrapper: 0.7994 - meandiff: 4.2308\n",
      "Epoch 00015: loss improved from 0.51258 to 0.49813, saving model to exp/cv_baseline_batchmidhistmatch/8_64_64__8_2_2_4tenc_conv1_MSE_NOnorm_augshiftrot_taug_3_batch8_f0/2021-03-17_18_28/model/model.h5\n",
      "26/26 [==============================] - 84s 3s/step - loss: 0.4981 - mse_wrapper: 0.4981 - ca_wrapper: 0.7994 - meandiff: 4.2308 - val_loss: 1.2065 - val_mse_wrapper: 1.2065 - val_ca_wrapper: 0.7713 - val_meandiff: 3.8125 - lr: 1.0000e-04\n",
      "Epoch 16/100\n",
      "26/26 [==============================] - ETA: 0s - loss: 0.4833 - mse_wrapper: 0.4833 - ca_wrapper: 0.8152 - meandiff: 4.2212"
     ]
    },
    {
     "name": "stderr",
     "output_type": "stream",
     "text": [
      "2021-03-17 18:53:30,070 INFO (4, 2, 36, 5)\n",
      "2021-03-17 18:53:30,610 INFO (4, 2, 36, 5)\n"
     ]
    },
    {
     "name": "stdout",
     "output_type": "stream",
     "text": [
      "\n",
      "Epoch 00016: loss improved from 0.49813 to 0.48332, saving model to exp/cv_baseline_batchmidhistmatch/8_64_64__8_2_2_4tenc_conv1_MSE_NOnorm_augshiftrot_taug_3_batch8_f0/2021-03-17_18_28/model/model.h5\n",
      "26/26 [==============================] - 83s 3s/step - loss: 0.4833 - mse_wrapper: 0.4833 - ca_wrapper: 0.8152 - meandiff: 4.2212 - val_loss: 0.9818 - val_mse_wrapper: 0.9818 - val_ca_wrapper: 0.8043 - val_meandiff: 3.8594 - lr: 1.0000e-04\n",
      "Epoch 17/100\n",
      "26/26 [==============================] - ETA: 0s - loss: 0.4941 - mse_wrapper: 0.4941 - ca_wrapper: 0.8060 - meandiff: 4.4038\n",
      "Epoch 00017: loss did not improve from 0.48332\n",
      "26/26 [==============================] - 84s 3s/step - loss: 0.4941 - mse_wrapper: 0.4941 - ca_wrapper: 0.8060 - meandiff: 4.4038 - val_loss: 0.9665 - val_mse_wrapper: 0.9665 - val_ca_wrapper: 0.8103 - val_meandiff: 3.9844 - lr: 1.0000e-04\n",
      "Epoch 18/100\n",
      "26/26 [==============================] - ETA: 0s - loss: 0.4960 - mse_wrapper: 0.4960 - ca_wrapper: 0.7998 - meandiff: 4.3606"
     ]
    },
    {
     "name": "stderr",
     "output_type": "stream",
     "text": [
      "2021-03-17 18:56:30,222 INFO (4, 2, 36, 5)\n",
      "2021-03-17 18:56:30,766 INFO (4, 2, 36, 5)\n"
     ]
    },
    {
     "name": "stdout",
     "output_type": "stream",
     "text": [
      "\n",
      "Epoch 00018: loss did not improve from 0.48332\n",
      "26/26 [==============================] - 89s 3s/step - loss: 0.4960 - mse_wrapper: 0.4960 - ca_wrapper: 0.7998 - meandiff: 4.3606 - val_loss: 1.0553 - val_mse_wrapper: 1.0553 - val_ca_wrapper: 0.7687 - val_meandiff: 4.6406 - lr: 1.0000e-04\n",
      "Epoch 19/100\n",
      "26/26 [==============================] - ETA: 0s - loss: 0.4830 - mse_wrapper: 0.4830 - ca_wrapper: 0.8088 - meandiff: 4.1202\n",
      "Epoch 00019: loss improved from 0.48332 to 0.48299, saving model to exp/cv_baseline_batchmidhistmatch/8_64_64__8_2_2_4tenc_conv1_MSE_NOnorm_augshiftrot_taug_3_batch8_f0/2021-03-17_18_28/model/model.h5\n",
      "26/26 [==============================] - 83s 3s/step - loss: 0.4830 - mse_wrapper: 0.4830 - ca_wrapper: 0.8088 - meandiff: 4.1202 - val_loss: 0.8371 - val_mse_wrapper: 0.8371 - val_ca_wrapper: 0.8047 - val_meandiff: 4.2344 - lr: 1.0000e-04\n",
      "Epoch 20/100\n",
      "26/26 [==============================] - ETA: 0s - loss: 0.4668 - mse_wrapper: 0.4668 - ca_wrapper: 0.8133 - meandiff: 4.0240"
     ]
    },
    {
     "name": "stderr",
     "output_type": "stream",
     "text": [
      "2021-03-17 18:59:27,414 INFO (4, 2, 36, 5)\n",
      "2021-03-17 18:59:27,979 INFO (4, 2, 36, 5)\n"
     ]
    },
    {
     "name": "stdout",
     "output_type": "stream",
     "text": [
      "\n",
      "Epoch 00020: loss improved from 0.48299 to 0.46685, saving model to exp/cv_baseline_batchmidhistmatch/8_64_64__8_2_2_4tenc_conv1_MSE_NOnorm_augshiftrot_taug_3_batch8_f0/2021-03-17_18_28/model/model.h5\n",
      "26/26 [==============================] - 88s 3s/step - loss: 0.4668 - mse_wrapper: 0.4668 - ca_wrapper: 0.8133 - meandiff: 4.0240 - val_loss: 1.0273 - val_mse_wrapper: 1.0273 - val_ca_wrapper: 0.7565 - val_meandiff: 4.2500 - lr: 1.0000e-04\n",
      "Epoch 21/100\n",
      "26/26 [==============================] - ETA: 0s - loss: 0.4785 - mse_wrapper: 0.4785 - ca_wrapper: 0.8090 - meandiff: 3.8750\n",
      "Epoch 00021: loss did not improve from 0.46685\n",
      "26/26 [==============================] - 86s 3s/step - loss: 0.4785 - mse_wrapper: 0.4785 - ca_wrapper: 0.8090 - meandiff: 3.8750 - val_loss: 0.9816 - val_mse_wrapper: 0.9816 - val_ca_wrapper: 0.7687 - val_meandiff: 4.0469 - lr: 1.0000e-04\n",
      "Epoch 22/100\n",
      "26/26 [==============================] - ETA: 0s - loss: 0.4685 - mse_wrapper: 0.4685 - ca_wrapper: 0.8109 - meandiff: 3.8798"
     ]
    },
    {
     "name": "stderr",
     "output_type": "stream",
     "text": [
      "2021-03-17 19:02:29,305 INFO (4, 2, 36, 5)\n",
      "2021-03-17 19:02:29,886 INFO (4, 2, 36, 5)\n"
     ]
    },
    {
     "name": "stdout",
     "output_type": "stream",
     "text": [
      "\n",
      "Epoch 00022: loss did not improve from 0.46685\n",
      "26/26 [==============================] - 88s 3s/step - loss: 0.4685 - mse_wrapper: 0.4685 - ca_wrapper: 0.8109 - meandiff: 3.8798 - val_loss: 1.0258 - val_mse_wrapper: 1.0258 - val_ca_wrapper: 0.7912 - val_meandiff: 3.7344 - lr: 1.0000e-04\n",
      "Epoch 23/100\n",
      "26/26 [==============================] - ETA: 0s - loss: 0.4550 - mse_wrapper: 0.4550 - ca_wrapper: 0.8184 - meandiff: 3.7500\n",
      "Epoch 00023: loss improved from 0.46685 to 0.45496, saving model to exp/cv_baseline_batchmidhistmatch/8_64_64__8_2_2_4tenc_conv1_MSE_NOnorm_augshiftrot_taug_3_batch8_f0/2021-03-17_18_28/model/model.h5\n",
      "26/26 [==============================] - 85s 3s/step - loss: 0.4550 - mse_wrapper: 0.4550 - ca_wrapper: 0.8184 - meandiff: 3.7500 - val_loss: 1.4907 - val_mse_wrapper: 1.4907 - val_ca_wrapper: 0.7457 - val_meandiff: 4.1719 - lr: 1.0000e-04\n",
      "Epoch 24/100\n",
      "26/26 [==============================] - ETA: 0s - loss: 0.4643 - mse_wrapper: 0.4643 - ca_wrapper: 0.8173 - meandiff: 4.0433"
     ]
    },
    {
     "name": "stderr",
     "output_type": "stream",
     "text": [
      "2021-03-17 19:05:27,440 INFO (4, 2, 36, 5)\n",
      "2021-03-17 19:05:28,004 INFO (4, 2, 36, 5)\n"
     ]
    },
    {
     "name": "stdout",
     "output_type": "stream",
     "text": [
      "\n",
      "Epoch 00024: loss did not improve from 0.45496\n",
      "26/26 [==============================] - 87s 3s/step - loss: 0.4643 - mse_wrapper: 0.4643 - ca_wrapper: 0.8173 - meandiff: 4.0433 - val_loss: 1.4223 - val_mse_wrapper: 1.4223 - val_ca_wrapper: 0.7487 - val_meandiff: 3.7500 - lr: 1.0000e-04\n",
      "Epoch 25/100\n",
      "26/26 [==============================] - ETA: 0s - loss: 0.4476 - mse_wrapper: 0.4476 - ca_wrapper: 0.8212 - meandiff: 3.7452\n",
      "Epoch 00025: loss improved from 0.45496 to 0.44764, saving model to exp/cv_baseline_batchmidhistmatch/8_64_64__8_2_2_4tenc_conv1_MSE_NOnorm_augshiftrot_taug_3_batch8_f0/2021-03-17_18_28/model/model.h5\n",
      "26/26 [==============================] - 82s 3s/step - loss: 0.4476 - mse_wrapper: 0.4476 - ca_wrapper: 0.8212 - meandiff: 3.7452 - val_loss: 0.9627 - val_mse_wrapper: 0.9627 - val_ca_wrapper: 0.7682 - val_meandiff: 3.8906 - lr: 1.0000e-04\n",
      "Epoch 26/100\n",
      "26/26 [==============================] - ETA: 0s - loss: 0.4363 - mse_wrapper: 0.4363 - ca_wrapper: 0.8263 - meandiff: 3.9808"
     ]
    },
    {
     "name": "stderr",
     "output_type": "stream",
     "text": [
      "2021-03-17 19:08:27,640 INFO (4, 2, 36, 5)\n",
      "2021-03-17 19:08:28,206 INFO (4, 2, 36, 5)\n"
     ]
    },
    {
     "name": "stdout",
     "output_type": "stream",
     "text": [
      "\n",
      "Epoch 00026: loss improved from 0.44764 to 0.43627, saving model to exp/cv_baseline_batchmidhistmatch/8_64_64__8_2_2_4tenc_conv1_MSE_NOnorm_augshiftrot_taug_3_batch8_f0/2021-03-17_18_28/model/model.h5\n",
      "26/26 [==============================] - 87s 3s/step - loss: 0.4363 - mse_wrapper: 0.4363 - ca_wrapper: 0.8263 - meandiff: 3.9808 - val_loss: 1.0273 - val_mse_wrapper: 1.0273 - val_ca_wrapper: 0.8082 - val_meandiff: 3.6875 - lr: 1.0000e-04\n",
      "Epoch 27/100\n",
      "26/26 [==============================] - ETA: 0s - loss: 0.4363 - mse_wrapper: 0.4363 - ca_wrapper: 0.8289 - meandiff: 3.7596\n",
      "Epoch 00027: loss improved from 0.43627 to 0.43626, saving model to exp/cv_baseline_batchmidhistmatch/8_64_64__8_2_2_4tenc_conv1_MSE_NOnorm_augshiftrot_taug_3_batch8_f0/2021-03-17_18_28/model/model.h5\n",
      "26/26 [==============================] - 92s 4s/step - loss: 0.4363 - mse_wrapper: 0.4363 - ca_wrapper: 0.8289 - meandiff: 3.7596 - val_loss: 1.1422 - val_mse_wrapper: 1.1422 - val_ca_wrapper: 0.7773 - val_meandiff: 3.4688 - lr: 1.0000e-04\n",
      "Epoch 28/100\n",
      "26/26 [==============================] - ETA: 0s - loss: 0.4356 - mse_wrapper: 0.4356 - ca_wrapper: 0.8197 - meandiff: 3.6923"
     ]
    },
    {
     "name": "stderr",
     "output_type": "stream",
     "text": [
      "2021-03-17 19:11:33,194 INFO (4, 2, 36, 5)\n",
      "2021-03-17 19:11:33,752 INFO (4, 2, 36, 5)\n"
     ]
    },
    {
     "name": "stdout",
     "output_type": "stream",
     "text": [
      "\n",
      "Epoch 00028: loss improved from 0.43626 to 0.43559, saving model to exp/cv_baseline_batchmidhistmatch/8_64_64__8_2_2_4tenc_conv1_MSE_NOnorm_augshiftrot_taug_3_batch8_f0/2021-03-17_18_28/model/model.h5\n",
      "26/26 [==============================] - 87s 3s/step - loss: 0.4356 - mse_wrapper: 0.4356 - ca_wrapper: 0.8197 - meandiff: 3.6923 - val_loss: 1.0119 - val_mse_wrapper: 1.0119 - val_ca_wrapper: 0.7977 - val_meandiff: 3.7969 - lr: 1.0000e-04\n",
      "Epoch 29/100\n",
      "26/26 [==============================] - ETA: 0s - loss: 0.4390 - mse_wrapper: 0.4390 - ca_wrapper: 0.8201 - meandiff: 3.6394\n",
      "Epoch 00029: loss did not improve from 0.43559\n",
      "26/26 [==============================] - 86s 3s/step - loss: 0.4390 - mse_wrapper: 0.4390 - ca_wrapper: 0.8201 - meandiff: 3.6394 - val_loss: 1.0749 - val_mse_wrapper: 1.0749 - val_ca_wrapper: 0.7795 - val_meandiff: 3.8906 - lr: 1.0000e-04\n",
      "Epoch 30/100\n",
      "26/26 [==============================] - ETA: 0s - loss: 0.4420 - mse_wrapper: 0.4420 - ca_wrapper: 0.8268 - meandiff: 3.6346"
     ]
    },
    {
     "name": "stderr",
     "output_type": "stream",
     "text": [
      "2021-03-17 19:14:33,379 INFO (4, 2, 36, 5)\n",
      "2021-03-17 19:14:33,960 INFO (4, 2, 36, 5)\n"
     ]
    },
    {
     "name": "stdout",
     "output_type": "stream",
     "text": [
      "\n",
      "Epoch 00030: loss did not improve from 0.43559\n",
      "26/26 [==============================] - 87s 3s/step - loss: 0.4420 - mse_wrapper: 0.4420 - ca_wrapper: 0.8268 - meandiff: 3.6346 - val_loss: 0.7806 - val_mse_wrapper: 0.7806 - val_ca_wrapper: 0.7713 - val_meandiff: 4.1562 - lr: 1.0000e-04\n",
      "Epoch 31/100\n",
      "26/26 [==============================] - ETA: 0s - loss: 0.4393 - mse_wrapper: 0.4393 - ca_wrapper: 0.8220 - meandiff: 3.7885\n",
      "Epoch 00031: loss did not improve from 0.43559\n",
      "26/26 [==============================] - 89s 3s/step - loss: 0.4393 - mse_wrapper: 0.4393 - ca_wrapper: 0.8220 - meandiff: 3.7885 - val_loss: 0.8766 - val_mse_wrapper: 0.8766 - val_ca_wrapper: 0.8168 - val_meandiff: 4.1719 - lr: 1.0000e-04\n",
      "Epoch 32/100\n",
      "26/26 [==============================] - ETA: 0s - loss: 0.4385 - mse_wrapper: 0.4385 - ca_wrapper: 0.8323 - meandiff: 3.8077"
     ]
    },
    {
     "name": "stderr",
     "output_type": "stream",
     "text": [
      "2021-03-17 19:17:41,098 INFO (4, 2, 36, 5)\n",
      "2021-03-17 19:17:41,672 INFO (4, 2, 36, 5)\n"
     ]
    },
    {
     "name": "stdout",
     "output_type": "stream",
     "text": [
      "\n",
      "Epoch 00032: loss did not improve from 0.43559\n",
      "26/26 [==============================] - 93s 4s/step - loss: 0.4385 - mse_wrapper: 0.4385 - ca_wrapper: 0.8323 - meandiff: 3.8077 - val_loss: 0.8140 - val_mse_wrapper: 0.8140 - val_ca_wrapper: 0.8038 - val_meandiff: 4.1406 - lr: 1.0000e-04\n",
      "Epoch 33/100\n",
      "26/26 [==============================] - ETA: 0s - loss: 0.4298 - mse_wrapper: 0.4298 - ca_wrapper: 0.8317 - meandiff: 3.8029\n",
      "Epoch 00033: loss improved from 0.43559 to 0.42981, saving model to exp/cv_baseline_batchmidhistmatch/8_64_64__8_2_2_4tenc_conv1_MSE_NOnorm_augshiftrot_taug_3_batch8_f0/2021-03-17_18_28/model/model.h5\n",
      "26/26 [==============================] - 94s 4s/step - loss: 0.4298 - mse_wrapper: 0.4298 - ca_wrapper: 0.8317 - meandiff: 3.8029 - val_loss: 0.8097 - val_mse_wrapper: 0.8097 - val_ca_wrapper: 0.7947 - val_meandiff: 3.7656 - lr: 1.0000e-04\n",
      "Epoch 34/100\n",
      "26/26 [==============================] - ETA: 0s - loss: 0.4292 - mse_wrapper: 0.4292 - ca_wrapper: 0.8315 - meandiff: 3.7404"
     ]
    },
    {
     "name": "stderr",
     "output_type": "stream",
     "text": [
      "2021-03-17 19:20:44,750 INFO (4, 2, 36, 5)\n",
      "2021-03-17 19:20:45,308 INFO (4, 2, 36, 5)\n"
     ]
    },
    {
     "name": "stdout",
     "output_type": "stream",
     "text": [
      "\n",
      "Epoch 00034: loss improved from 0.42981 to 0.42915, saving model to exp/cv_baseline_batchmidhistmatch/8_64_64__8_2_2_4tenc_conv1_MSE_NOnorm_augshiftrot_taug_3_batch8_f0/2021-03-17_18_28/model/model.h5\n",
      "26/26 [==============================] - 84s 3s/step - loss: 0.4292 - mse_wrapper: 0.4292 - ca_wrapper: 0.8315 - meandiff: 3.7404 - val_loss: 0.8938 - val_mse_wrapper: 0.8938 - val_ca_wrapper: 0.8021 - val_meandiff: 4.0312 - lr: 1.0000e-04\n",
      "Epoch 35/100\n",
      "26/26 [==============================] - ETA: 0s - loss: 0.4072 - mse_wrapper: 0.4072 - ca_wrapper: 0.8312 - meandiff: 3.7212\n",
      "Epoch 00035: loss improved from 0.42915 to 0.40721, saving model to exp/cv_baseline_batchmidhistmatch/8_64_64__8_2_2_4tenc_conv1_MSE_NOnorm_augshiftrot_taug_3_batch8_f0/2021-03-17_18_28/model/model.h5\n",
      "26/26 [==============================] - 89s 3s/step - loss: 0.4072 - mse_wrapper: 0.4072 - ca_wrapper: 0.8312 - meandiff: 3.7212 - val_loss: 1.0715 - val_mse_wrapper: 1.0715 - val_ca_wrapper: 0.7730 - val_meandiff: 3.7656 - lr: 1.0000e-04\n",
      "Epoch 36/100\n",
      "26/26 [==============================] - ETA: 0s - loss: 0.4384 - mse_wrapper: 0.4384 - ca_wrapper: 0.8256 - meandiff: 3.4327"
     ]
    },
    {
     "name": "stderr",
     "output_type": "stream",
     "text": [
      "2021-03-17 19:23:46,211 INFO (4, 2, 36, 5)\n",
      "2021-03-17 19:23:46,776 INFO (4, 2, 36, 5)\n"
     ]
    },
    {
     "name": "stdout",
     "output_type": "stream",
     "text": [
      "\n",
      "Epoch 00036: loss did not improve from 0.40721\n",
      "26/26 [==============================] - 85s 3s/step - loss: 0.4384 - mse_wrapper: 0.4384 - ca_wrapper: 0.8256 - meandiff: 3.4327 - val_loss: 0.9886 - val_mse_wrapper: 0.9886 - val_ca_wrapper: 0.7982 - val_meandiff: 4.0156 - lr: 1.0000e-04\n",
      "Epoch 37/100\n",
      "26/26 [==============================] - ETA: 0s - loss: 0.4121 - mse_wrapper: 0.4121 - ca_wrapper: 0.8337 - meandiff: 3.5048\n",
      "Epoch 00037: loss did not improve from 0.40721\n",
      "26/26 [==============================] - 83s 3s/step - loss: 0.4121 - mse_wrapper: 0.4121 - ca_wrapper: 0.8337 - meandiff: 3.5048 - val_loss: 0.8446 - val_mse_wrapper: 0.8446 - val_ca_wrapper: 0.7899 - val_meandiff: 3.7656 - lr: 1.0000e-04\n",
      "Epoch 38/100\n",
      "26/26 [==============================] - ETA: 0s - loss: 0.4019 - mse_wrapper: 0.4019 - ca_wrapper: 0.8345 - meandiff: 3.5000"
     ]
    },
    {
     "name": "stderr",
     "output_type": "stream",
     "text": [
      "2021-03-17 19:26:47,074 INFO (4, 2, 36, 5)\n",
      "2021-03-17 19:26:47,646 INFO (4, 2, 36, 5)\n"
     ]
    },
    {
     "name": "stdout",
     "output_type": "stream",
     "text": [
      "\n",
      "Epoch 00038: loss improved from 0.40721 to 0.40187, saving model to exp/cv_baseline_batchmidhistmatch/8_64_64__8_2_2_4tenc_conv1_MSE_NOnorm_augshiftrot_taug_3_batch8_f0/2021-03-17_18_28/model/model.h5\n",
      "26/26 [==============================] - 91s 3s/step - loss: 0.4019 - mse_wrapper: 0.4019 - ca_wrapper: 0.8345 - meandiff: 3.5000 - val_loss: 0.8738 - val_mse_wrapper: 0.8738 - val_ca_wrapper: 0.8112 - val_meandiff: 3.9062 - lr: 1.0000e-04\n",
      "Epoch 39/100\n",
      "26/26 [==============================] - ETA: 0s - loss: 0.4033 - mse_wrapper: 0.4033 - ca_wrapper: 0.8388 - meandiff: 3.4663\n",
      "Epoch 00039: loss did not improve from 0.40187\n",
      "26/26 [==============================] - 86s 3s/step - loss: 0.4033 - mse_wrapper: 0.4033 - ca_wrapper: 0.8388 - meandiff: 3.4663 - val_loss: 1.0739 - val_mse_wrapper: 1.0739 - val_ca_wrapper: 0.7878 - val_meandiff: 4.3438 - lr: 1.0000e-04\n",
      "Epoch 40/100\n",
      "26/26 [==============================] - ETA: 0s - loss: 0.4065 - mse_wrapper: 0.4065 - ca_wrapper: 0.8299 - meandiff: 3.5000"
     ]
    },
    {
     "name": "stderr",
     "output_type": "stream",
     "text": [
      "2021-03-17 19:29:46,038 INFO (4, 2, 36, 5)\n",
      "2021-03-17 19:29:46,608 INFO (4, 2, 36, 5)\n"
     ]
    },
    {
     "name": "stdout",
     "output_type": "stream",
     "text": [
      "\n",
      "Epoch 00040: loss did not improve from 0.40187\n",
      "26/26 [==============================] - 87s 3s/step - loss: 0.4065 - mse_wrapper: 0.4065 - ca_wrapper: 0.8299 - meandiff: 3.5000 - val_loss: 1.2919 - val_mse_wrapper: 1.2919 - val_ca_wrapper: 0.7704 - val_meandiff: 3.6406 - lr: 1.0000e-04\n",
      "Epoch 41/100\n",
      "26/26 [==============================] - ETA: 0s - loss: 0.3964 - mse_wrapper: 0.3964 - ca_wrapper: 0.8320 - meandiff: 3.4663\n",
      "Epoch 00041: loss improved from 0.40187 to 0.39636, saving model to exp/cv_baseline_batchmidhistmatch/8_64_64__8_2_2_4tenc_conv1_MSE_NOnorm_augshiftrot_taug_3_batch8_f0/2021-03-17_18_28/model/model.h5\n",
      "26/26 [==============================] - 90s 3s/step - loss: 0.3964 - mse_wrapper: 0.3964 - ca_wrapper: 0.8320 - meandiff: 3.4663 - val_loss: 0.8623 - val_mse_wrapper: 0.8623 - val_ca_wrapper: 0.7717 - val_meandiff: 3.9375 - lr: 1.0000e-04\n",
      "Epoch 42/100\n",
      "26/26 [==============================] - ETA: 0s - loss: 0.4157 - mse_wrapper: 0.4157 - ca_wrapper: 0.8287 - meandiff: 3.5577"
     ]
    },
    {
     "name": "stderr",
     "output_type": "stream",
     "text": [
      "2021-03-17 19:32:47,663 INFO (4, 2, 36, 5)\n",
      "2021-03-17 19:32:48,195 INFO (4, 2, 36, 5)\n"
     ]
    },
    {
     "name": "stdout",
     "output_type": "stream",
     "text": [
      "\n",
      "Epoch 00042: loss did not improve from 0.39636\n",
      "26/26 [==============================] - 85s 3s/step - loss: 0.4157 - mse_wrapper: 0.4157 - ca_wrapper: 0.8287 - meandiff: 3.5577 - val_loss: 0.7151 - val_mse_wrapper: 0.7151 - val_ca_wrapper: 0.7990 - val_meandiff: 3.5938 - lr: 1.0000e-04\n",
      "Epoch 43/100\n",
      "26/26 [==============================] - ETA: 0s - loss: 0.4105 - mse_wrapper: 0.4105 - ca_wrapper: 0.8280 - meandiff: 3.5337\n",
      "Epoch 00043: loss did not improve from 0.39636\n",
      "26/26 [==============================] - 87s 3s/step - loss: 0.4105 - mse_wrapper: 0.4105 - ca_wrapper: 0.8280 - meandiff: 3.5337 - val_loss: 0.9627 - val_mse_wrapper: 0.9627 - val_ca_wrapper: 0.8047 - val_meandiff: 3.6719 - lr: 1.0000e-04\n",
      "Epoch 44/100\n",
      "26/26 [==============================] - ETA: 0s - loss: 0.3942 - mse_wrapper: 0.3942 - ca_wrapper: 0.8388 - meandiff: 3.4423"
     ]
    },
    {
     "name": "stderr",
     "output_type": "stream",
     "text": [
      "2021-03-17 19:35:44,500 INFO (4, 2, 36, 5)\n",
      "2021-03-17 19:35:45,069 INFO (4, 2, 36, 5)\n"
     ]
    },
    {
     "name": "stdout",
     "output_type": "stream",
     "text": [
      "\n",
      "Epoch 00044: loss improved from 0.39636 to 0.39418, saving model to exp/cv_baseline_batchmidhistmatch/8_64_64__8_2_2_4tenc_conv1_MSE_NOnorm_augshiftrot_taug_3_batch8_f0/2021-03-17_18_28/model/model.h5\n",
      "26/26 [==============================] - 83s 3s/step - loss: 0.3942 - mse_wrapper: 0.3942 - ca_wrapper: 0.8388 - meandiff: 3.4423 - val_loss: 0.6567 - val_mse_wrapper: 0.6567 - val_ca_wrapper: 0.8082 - val_meandiff: 3.7656 - lr: 1.0000e-04\n",
      "Epoch 45/100\n",
      "26/26 [==============================] - ETA: 0s - loss: 0.3961 - mse_wrapper: 0.3961 - ca_wrapper: 0.8364 - meandiff: 3.5337\n",
      "Epoch 00045: loss did not improve from 0.39418\n",
      "26/26 [==============================] - 76s 3s/step - loss: 0.3961 - mse_wrapper: 0.3961 - ca_wrapper: 0.8364 - meandiff: 3.5337 - val_loss: 1.0152 - val_mse_wrapper: 1.0152 - val_ca_wrapper: 0.8129 - val_meandiff: 3.8438 - lr: 1.0000e-04\n",
      "Epoch 46/100\n",
      "26/26 [==============================] - ETA: 0s - loss: 0.3834 - mse_wrapper: 0.3834 - ca_wrapper: 0.8415 - meandiff: 3.3894"
     ]
    },
    {
     "name": "stderr",
     "output_type": "stream",
     "text": [
      "2021-03-17 19:38:41,899 INFO (4, 2, 36, 5)\n",
      "2021-03-17 19:38:42,443 INFO (4, 2, 36, 5)\n"
     ]
    },
    {
     "name": "stdout",
     "output_type": "stream",
     "text": [
      "\n",
      "Epoch 00046: loss improved from 0.39418 to 0.38345, saving model to exp/cv_baseline_batchmidhistmatch/8_64_64__8_2_2_4tenc_conv1_MSE_NOnorm_augshiftrot_taug_3_batch8_f0/2021-03-17_18_28/model/model.h5\n",
      "26/26 [==============================] - 85s 3s/step - loss: 0.3834 - mse_wrapper: 0.3834 - ca_wrapper: 0.8415 - meandiff: 3.3894 - val_loss: 0.8472 - val_mse_wrapper: 0.8472 - val_ca_wrapper: 0.7956 - val_meandiff: 3.8750 - lr: 1.0000e-04\n",
      "Epoch 47/100\n",
      "26/26 [==============================] - ETA: 0s - loss: 0.3968 - mse_wrapper: 0.3968 - ca_wrapper: 0.8343 - meandiff: 3.2837\n",
      "Epoch 00047: loss did not improve from 0.38345\n",
      "26/26 [==============================] - 81s 3s/step - loss: 0.3968 - mse_wrapper: 0.3968 - ca_wrapper: 0.8343 - meandiff: 3.2837 - val_loss: 0.8163 - val_mse_wrapper: 0.8163 - val_ca_wrapper: 0.7826 - val_meandiff: 3.6875 - lr: 1.0000e-04\n",
      "Epoch 48/100\n",
      "26/26 [==============================] - ETA: 0s - loss: 0.3877 - mse_wrapper: 0.3877 - ca_wrapper: 0.8452 - meandiff: 3.2019"
     ]
    },
    {
     "name": "stderr",
     "output_type": "stream",
     "text": [
      "2021-03-17 19:41:39,169 INFO (4, 2, 36, 5)\n",
      "2021-03-17 19:41:39,747 INFO (4, 2, 36, 5)\n"
     ]
    },
    {
     "name": "stdout",
     "output_type": "stream",
     "text": [
      "\n",
      "Epoch 00048: loss did not improve from 0.38345\n",
      "26/26 [==============================] - 90s 3s/step - loss: 0.3877 - mse_wrapper: 0.3877 - ca_wrapper: 0.8452 - meandiff: 3.2019 - val_loss: 0.6703 - val_mse_wrapper: 0.6703 - val_ca_wrapper: 0.7930 - val_meandiff: 4.1875 - lr: 1.0000e-04\n",
      "Epoch 49/100\n",
      "26/26 [==============================] - ETA: 0s - loss: 0.3911 - mse_wrapper: 0.3911 - ca_wrapper: 0.8435 - meandiff: 3.3269\n",
      "Epoch 00049: loss did not improve from 0.38345\n",
      "26/26 [==============================] - 86s 3s/step - loss: 0.3911 - mse_wrapper: 0.3911 - ca_wrapper: 0.8435 - meandiff: 3.3269 - val_loss: 0.8880 - val_mse_wrapper: 0.8880 - val_ca_wrapper: 0.8194 - val_meandiff: 3.8281 - lr: 1.0000e-04\n",
      "Epoch 50/100\n",
      "26/26 [==============================] - ETA: 0s - loss: 0.3864 - mse_wrapper: 0.3864 - ca_wrapper: 0.8359 - meandiff: 3.1971"
     ]
    },
    {
     "name": "stderr",
     "output_type": "stream",
     "text": [
      "2021-03-17 19:44:43,779 INFO (4, 2, 36, 5)\n",
      "2021-03-17 19:44:44,300 INFO (4, 2, 36, 5)\n"
     ]
    },
    {
     "name": "stdout",
     "output_type": "stream",
     "text": [
      "\n",
      "Epoch 00050: loss did not improve from 0.38345\n",
      "26/26 [==============================] - 88s 3s/step - loss: 0.3864 - mse_wrapper: 0.3864 - ca_wrapper: 0.8359 - meandiff: 3.1971 - val_loss: 0.9473 - val_mse_wrapper: 0.9473 - val_ca_wrapper: 0.7947 - val_meandiff: 4.0156 - lr: 1.0000e-04\n",
      "Epoch 51/100\n",
      "26/26 [==============================] - ETA: 0s - loss: 0.3626 - mse_wrapper: 0.3626 - ca_wrapper: 0.8409 - meandiff: 3.0865\n",
      "Epoch 00051: loss improved from 0.38345 to 0.36260, saving model to exp/cv_baseline_batchmidhistmatch/8_64_64__8_2_2_4tenc_conv1_MSE_NOnorm_augshiftrot_taug_3_batch8_f0/2021-03-17_18_28/model/model.h5\n",
      "26/26 [==============================] - 83s 3s/step - loss: 0.3626 - mse_wrapper: 0.3626 - ca_wrapper: 0.8409 - meandiff: 3.0865 - val_loss: 0.6359 - val_mse_wrapper: 0.6359 - val_ca_wrapper: 0.8095 - val_meandiff: 3.6094 - lr: 1.0000e-04\n",
      "Epoch 52/100\n",
      "26/26 [==============================] - ETA: 0s - loss: 0.3601 - mse_wrapper: 0.3601 - ca_wrapper: 0.8440 - meandiff: 3.0913"
     ]
    },
    {
     "name": "stderr",
     "output_type": "stream",
     "text": [
      "2021-03-17 19:47:39,722 INFO (4, 2, 36, 5)\n",
      "2021-03-17 19:47:40,281 INFO (4, 2, 36, 5)\n"
     ]
    },
    {
     "name": "stdout",
     "output_type": "stream",
     "text": [
      "\n",
      "Epoch 00052: loss improved from 0.36260 to 0.36005, saving model to exp/cv_baseline_batchmidhistmatch/8_64_64__8_2_2_4tenc_conv1_MSE_NOnorm_augshiftrot_taug_3_batch8_f0/2021-03-17_18_28/model/model.h5\n",
      "26/26 [==============================] - 86s 3s/step - loss: 0.3601 - mse_wrapper: 0.3601 - ca_wrapper: 0.8440 - meandiff: 3.0913 - val_loss: 0.8698 - val_mse_wrapper: 0.8698 - val_ca_wrapper: 0.7908 - val_meandiff: 3.8281 - lr: 1.0000e-04\n",
      "Epoch 53/100\n",
      "26/26 [==============================] - ETA: 0s - loss: 0.3565 - mse_wrapper: 0.3565 - ca_wrapper: 0.8444 - meandiff: 3.1202\n",
      "Epoch 00053: loss improved from 0.36005 to 0.35645, saving model to exp/cv_baseline_batchmidhistmatch/8_64_64__8_2_2_4tenc_conv1_MSE_NOnorm_augshiftrot_taug_3_batch8_f0/2021-03-17_18_28/model/model.h5\n",
      "26/26 [==============================] - 85s 3s/step - loss: 0.3565 - mse_wrapper: 0.3565 - ca_wrapper: 0.8444 - meandiff: 3.1202 - val_loss: 0.7969 - val_mse_wrapper: 0.7969 - val_ca_wrapper: 0.8207 - val_meandiff: 3.6562 - lr: 1.0000e-04\n",
      "Epoch 54/100\n",
      "26/26 [==============================] - ETA: 0s - loss: 0.3619 - mse_wrapper: 0.3619 - ca_wrapper: 0.8391 - meandiff: 3.0913"
     ]
    },
    {
     "name": "stderr",
     "output_type": "stream",
     "text": [
      "2021-03-17 19:50:39,098 INFO (4, 2, 36, 5)\n",
      "2021-03-17 19:50:39,668 INFO (4, 2, 36, 5)\n"
     ]
    },
    {
     "name": "stdout",
     "output_type": "stream",
     "text": [
      "\n",
      "Epoch 00054: loss did not improve from 0.35645\n",
      "26/26 [==============================] - 88s 3s/step - loss: 0.3619 - mse_wrapper: 0.3619 - ca_wrapper: 0.8391 - meandiff: 3.0913 - val_loss: 0.9917 - val_mse_wrapper: 0.9917 - val_ca_wrapper: 0.7648 - val_meandiff: 4.0156 - lr: 1.0000e-04\n",
      "Epoch 55/100\n",
      "26/26 [==============================] - ETA: 0s - loss: 0.3785 - mse_wrapper: 0.3785 - ca_wrapper: 0.8421 - meandiff: 3.1875\n",
      "Epoch 00055: loss did not improve from 0.35645\n",
      "26/26 [==============================] - 85s 3s/step - loss: 0.3785 - mse_wrapper: 0.3785 - ca_wrapper: 0.8421 - meandiff: 3.1875 - val_loss: 1.0257 - val_mse_wrapper: 1.0257 - val_ca_wrapper: 0.7682 - val_meandiff: 3.7188 - lr: 1.0000e-04\n",
      "Epoch 56/100\n",
      "26/26 [==============================] - ETA: 0s - loss: 0.3651 - mse_wrapper: 0.3651 - ca_wrapper: 0.8474 - meandiff: 3.1538"
     ]
    },
    {
     "name": "stderr",
     "output_type": "stream",
     "text": [
      "2021-03-17 19:53:38,592 INFO (4, 2, 36, 5)\n",
      "2021-03-17 19:53:39,156 INFO (4, 2, 36, 5)\n"
     ]
    },
    {
     "name": "stdout",
     "output_type": "stream",
     "text": [
      "\n",
      "Epoch 00056: loss did not improve from 0.35645\n",
      "26/26 [==============================] - 88s 3s/step - loss: 0.3651 - mse_wrapper: 0.3651 - ca_wrapper: 0.8474 - meandiff: 3.1538 - val_loss: 1.0609 - val_mse_wrapper: 1.0609 - val_ca_wrapper: 0.7912 - val_meandiff: 3.7969 - lr: 1.0000e-04\n",
      "Epoch 57/100\n",
      "26/26 [==============================] - ETA: 0s - loss: 0.3516 - mse_wrapper: 0.3516 - ca_wrapper: 0.8458 - meandiff: 3.0337\n",
      "Epoch 00057: loss improved from 0.35645 to 0.35164, saving model to exp/cv_baseline_batchmidhistmatch/8_64_64__8_2_2_4tenc_conv1_MSE_NOnorm_augshiftrot_taug_3_batch8_f0/2021-03-17_18_28/model/model.h5\n",
      "26/26 [==============================] - 81s 3s/step - loss: 0.3516 - mse_wrapper: 0.3516 - ca_wrapper: 0.8458 - meandiff: 3.0337 - val_loss: 0.9648 - val_mse_wrapper: 0.9648 - val_ca_wrapper: 0.7504 - val_meandiff: 3.8281 - lr: 1.0000e-04\n",
      "Epoch 58/100\n",
      "26/26 [==============================] - ETA: 0s - loss: 0.3675 - mse_wrapper: 0.3675 - ca_wrapper: 0.8411 - meandiff: 3.0096"
     ]
    },
    {
     "name": "stderr",
     "output_type": "stream",
     "text": [
      "2021-03-17 19:56:31,509 INFO (4, 2, 36, 5)\n",
      "2021-03-17 19:56:32,083 INFO (4, 2, 36, 5)\n"
     ]
    },
    {
     "name": "stdout",
     "output_type": "stream",
     "text": [
      "\n",
      "Epoch 00058: loss did not improve from 0.35164\n",
      "26/26 [==============================] - 81s 3s/step - loss: 0.3675 - mse_wrapper: 0.3675 - ca_wrapper: 0.8411 - meandiff: 3.0096 - val_loss: 0.9429 - val_mse_wrapper: 0.9429 - val_ca_wrapper: 0.7574 - val_meandiff: 3.7656 - lr: 1.0000e-04\n",
      "Epoch 59/100\n",
      "26/26 [==============================] - ETA: 0s - loss: 0.3515 - mse_wrapper: 0.3515 - ca_wrapper: 0.8425 - meandiff: 3.0192\n",
      "Epoch 00059: loss improved from 0.35164 to 0.35150, saving model to exp/cv_baseline_batchmidhistmatch/8_64_64__8_2_2_4tenc_conv1_MSE_NOnorm_augshiftrot_taug_3_batch8_f0/2021-03-17_18_28/model/model.h5\n",
      "26/26 [==============================] - 90s 3s/step - loss: 0.3515 - mse_wrapper: 0.3515 - ca_wrapper: 0.8425 - meandiff: 3.0192 - val_loss: 0.7719 - val_mse_wrapper: 0.7719 - val_ca_wrapper: 0.7986 - val_meandiff: 3.5625 - lr: 1.0000e-04\n",
      "Epoch 60/100\n",
      "26/26 [==============================] - ETA: 0s - loss: 0.3432 - mse_wrapper: 0.3432 - ca_wrapper: 0.8387 - meandiff: 2.8125"
     ]
    },
    {
     "name": "stderr",
     "output_type": "stream",
     "text": [
      "2021-03-17 19:59:35,372 INFO (4, 2, 36, 5)\n",
      "2021-03-17 19:59:35,898 INFO (4, 2, 36, 5)\n"
     ]
    },
    {
     "name": "stdout",
     "output_type": "stream",
     "text": [
      "\n",
      "Epoch 00060: loss improved from 0.35150 to 0.34322, saving model to exp/cv_baseline_batchmidhistmatch/8_64_64__8_2_2_4tenc_conv1_MSE_NOnorm_augshiftrot_taug_3_batch8_f0/2021-03-17_18_28/model/model.h5\n",
      "26/26 [==============================] - 88s 3s/step - loss: 0.3432 - mse_wrapper: 0.3432 - ca_wrapper: 0.8387 - meandiff: 2.8125 - val_loss: 1.2272 - val_mse_wrapper: 1.2272 - val_ca_wrapper: 0.7925 - val_meandiff: 3.8281 - lr: 1.0000e-04\n",
      "Epoch 61/100\n",
      "26/26 [==============================] - ETA: 0s - loss: 0.3492 - mse_wrapper: 0.3492 - ca_wrapper: 0.8480 - meandiff: 2.9327\n",
      "Epoch 00061: loss did not improve from 0.34322\n",
      "26/26 [==============================] - 85s 3s/step - loss: 0.3492 - mse_wrapper: 0.3492 - ca_wrapper: 0.8480 - meandiff: 2.9327 - val_loss: 0.8250 - val_mse_wrapper: 0.8250 - val_ca_wrapper: 0.8012 - val_meandiff: 3.6094 - lr: 1.0000e-04\n",
      "Epoch 62/100\n",
      "26/26 [==============================] - ETA: 0s - loss: 0.3505 - mse_wrapper: 0.3505 - ca_wrapper: 0.8471 - meandiff: 3.0481"
     ]
    },
    {
     "name": "stderr",
     "output_type": "stream",
     "text": [
      "2021-03-17 20:02:29,411 INFO (4, 2, 36, 5)\n",
      "2021-03-17 20:02:29,969 INFO (4, 2, 36, 5)\n"
     ]
    },
    {
     "name": "stdout",
     "output_type": "stream",
     "text": [
      "\n",
      "Epoch 00062: loss did not improve from 0.34322\n",
      "26/26 [==============================] - 80s 3s/step - loss: 0.3505 - mse_wrapper: 0.3505 - ca_wrapper: 0.8471 - meandiff: 3.0481 - val_loss: 0.8754 - val_mse_wrapper: 0.8754 - val_ca_wrapper: 0.7891 - val_meandiff: 4.0312 - lr: 1.0000e-04\n",
      "Epoch 63/100\n",
      "26/26 [==============================] - ETA: 0s - loss: 0.3345 - mse_wrapper: 0.3345 - ca_wrapper: 0.8458 - meandiff: 3.0144\n",
      "Epoch 00063: loss improved from 0.34322 to 0.33451, saving model to exp/cv_baseline_batchmidhistmatch/8_64_64__8_2_2_4tenc_conv1_MSE_NOnorm_augshiftrot_taug_3_batch8_f0/2021-03-17_18_28/model/model.h5\n",
      "26/26 [==============================] - 87s 3s/step - loss: 0.3345 - mse_wrapper: 0.3345 - ca_wrapper: 0.8458 - meandiff: 3.0144 - val_loss: 0.8922 - val_mse_wrapper: 0.8922 - val_ca_wrapper: 0.7951 - val_meandiff: 3.5312 - lr: 1.0000e-04\n",
      "Epoch 64/100\n",
      "26/26 [==============================] - ETA: 0s - loss: 0.3313 - mse_wrapper: 0.3313 - ca_wrapper: 0.8462 - meandiff: 2.7548"
     ]
    },
    {
     "name": "stderr",
     "output_type": "stream",
     "text": [
      "2021-03-17 20:05:25,719 INFO (4, 2, 36, 5)\n",
      "2021-03-17 20:05:26,278 INFO (4, 2, 36, 5)\n"
     ]
    },
    {
     "name": "stdout",
     "output_type": "stream",
     "text": [
      "\n",
      "Epoch 00064: loss improved from 0.33451 to 0.33125, saving model to exp/cv_baseline_batchmidhistmatch/8_64_64__8_2_2_4tenc_conv1_MSE_NOnorm_augshiftrot_taug_3_batch8_f0/2021-03-17_18_28/model/model.h5\n",
      "26/26 [==============================] - 79s 3s/step - loss: 0.3313 - mse_wrapper: 0.3313 - ca_wrapper: 0.8462 - meandiff: 2.7548 - val_loss: 0.8579 - val_mse_wrapper: 0.8579 - val_ca_wrapper: 0.7990 - val_meandiff: 3.8281 - lr: 1.0000e-04\n",
      "Epoch 65/100\n",
      "26/26 [==============================] - ETA: 0s - loss: 0.3350 - mse_wrapper: 0.3350 - ca_wrapper: 0.8507 - meandiff: 2.8846\n",
      "Epoch 00065: loss did not improve from 0.33125\n",
      "26/26 [==============================] - 84s 3s/step - loss: 0.3350 - mse_wrapper: 0.3350 - ca_wrapper: 0.8507 - meandiff: 2.8846 - val_loss: 1.0211 - val_mse_wrapper: 1.0211 - val_ca_wrapper: 0.7635 - val_meandiff: 3.7188 - lr: 1.0000e-04\n",
      "Epoch 66/100\n",
      "26/26 [==============================] - ETA: 0s - loss: 0.3367 - mse_wrapper: 0.3367 - ca_wrapper: 0.8424 - meandiff: 2.8846"
     ]
    },
    {
     "name": "stderr",
     "output_type": "stream",
     "text": [
      "2021-03-17 20:08:19,864 INFO (4, 2, 36, 5)\n",
      "2021-03-17 20:08:20,429 INFO (4, 2, 36, 5)\n"
     ]
    },
    {
     "name": "stdout",
     "output_type": "stream",
     "text": [
      "\n",
      "Epoch 00066: loss did not improve from 0.33125\n",
      "26/26 [==============================] - 82s 3s/step - loss: 0.3367 - mse_wrapper: 0.3367 - ca_wrapper: 0.8424 - meandiff: 2.8846 - val_loss: 0.8714 - val_mse_wrapper: 0.8714 - val_ca_wrapper: 0.7943 - val_meandiff: 3.7031 - lr: 1.0000e-04\n",
      "Epoch 67/100\n",
      "26/26 [==============================] - ETA: 0s - loss: 0.3394 - mse_wrapper: 0.3394 - ca_wrapper: 0.8536 - meandiff: 2.7885\n",
      "Epoch 00067: loss did not improve from 0.33125\n",
      "26/26 [==============================] - 86s 3s/step - loss: 0.3394 - mse_wrapper: 0.3394 - ca_wrapper: 0.8536 - meandiff: 2.7885 - val_loss: 0.7152 - val_mse_wrapper: 0.7152 - val_ca_wrapper: 0.8003 - val_meandiff: 3.9375 - lr: 1.0000e-04\n",
      "Epoch 68/100\n",
      "26/26 [==============================] - ETA: 0s - loss: 0.3406 - mse_wrapper: 0.3406 - ca_wrapper: 0.8484 - meandiff: 2.7644"
     ]
    },
    {
     "name": "stderr",
     "output_type": "stream",
     "text": [
      "2021-03-17 20:11:25,097 INFO (4, 2, 36, 5)\n",
      "2021-03-17 20:11:25,656 INFO (4, 2, 36, 5)\n"
     ]
    },
    {
     "name": "stdout",
     "output_type": "stream",
     "text": [
      "\n",
      "Epoch 00068: loss did not improve from 0.33125\n",
      "26/26 [==============================] - 91s 4s/step - loss: 0.3406 - mse_wrapper: 0.3406 - ca_wrapper: 0.8484 - meandiff: 2.7644 - val_loss: 0.7906 - val_mse_wrapper: 0.7906 - val_ca_wrapper: 0.8047 - val_meandiff: 3.7031 - lr: 1.0000e-04\n",
      "Epoch 69/100\n",
      "26/26 [==============================] - ETA: 0s - loss: 0.3314 - mse_wrapper: 0.3314 - ca_wrapper: 0.8523 - meandiff: 2.7452\n",
      "Epoch 00069: loss did not improve from 0.33125\n",
      "\n",
      "Epoch 00069: ReduceLROnPlateau reducing learning rate to 6.999999823165126e-05.\n",
      "26/26 [==============================] - 88s 3s/step - loss: 0.3314 - mse_wrapper: 0.3314 - ca_wrapper: 0.8523 - meandiff: 2.7452 - val_loss: 0.8511 - val_mse_wrapper: 0.8511 - val_ca_wrapper: 0.8108 - val_meandiff: 3.5781 - lr: 7.0000e-05\n",
      "Epoch 70/100\n",
      "26/26 [==============================] - ETA: 0s - loss: 0.3378 - mse_wrapper: 0.3378 - ca_wrapper: 0.8484 - meandiff: 2.8462"
     ]
    },
    {
     "name": "stderr",
     "output_type": "stream",
     "text": [
      "2021-03-17 20:14:22,782 INFO (4, 2, 36, 5)\n",
      "2021-03-17 20:14:23,359 INFO (4, 2, 36, 5)\n"
     ]
    },
    {
     "name": "stdout",
     "output_type": "stream",
     "text": [
      "\n",
      "Epoch 00070: loss did not improve from 0.33125\n",
      "26/26 [==============================] - 83s 3s/step - loss: 0.3378 - mse_wrapper: 0.3378 - ca_wrapper: 0.8484 - meandiff: 2.8462 - val_loss: 0.6407 - val_mse_wrapper: 0.6407 - val_ca_wrapper: 0.8034 - val_meandiff: 3.6875 - lr: 7.0000e-05\n",
      "Epoch 71/100\n",
      "26/26 [==============================] - ETA: 0s - loss: 0.3223 - mse_wrapper: 0.3223 - ca_wrapper: 0.8583 - meandiff: 2.6731\n",
      "Epoch 00071: loss improved from 0.33125 to 0.32235, saving model to exp/cv_baseline_batchmidhistmatch/8_64_64__8_2_2_4tenc_conv1_MSE_NOnorm_augshiftrot_taug_3_batch8_f0/2021-03-17_18_28/model/model.h5\n",
      "26/26 [==============================] - 78s 3s/step - loss: 0.3223 - mse_wrapper: 0.3223 - ca_wrapper: 0.8583 - meandiff: 2.6731 - val_loss: 0.9670 - val_mse_wrapper: 0.9670 - val_ca_wrapper: 0.7839 - val_meandiff: 3.6094 - lr: 7.0000e-05\n",
      "Epoch 72/100\n",
      "26/26 [==============================] - ETA: 0s - loss: 0.3267 - mse_wrapper: 0.3267 - ca_wrapper: 0.8520 - meandiff: 2.6106"
     ]
    },
    {
     "name": "stderr",
     "output_type": "stream",
     "text": [
      "2021-03-17 20:17:13,304 INFO (4, 2, 36, 5)\n",
      "2021-03-17 20:17:13,870 INFO (4, 2, 36, 5)\n"
     ]
    },
    {
     "name": "stdout",
     "output_type": "stream",
     "text": [
      "\n",
      "Epoch 00072: loss did not improve from 0.32235\n",
      "26/26 [==============================] - 85s 3s/step - loss: 0.3267 - mse_wrapper: 0.3267 - ca_wrapper: 0.8520 - meandiff: 2.6106 - val_loss: 0.9673 - val_mse_wrapper: 0.9673 - val_ca_wrapper: 0.8108 - val_meandiff: 3.5000 - lr: 7.0000e-05\n",
      "Epoch 73/100\n",
      "26/26 [==============================] - ETA: 0s - loss: 0.3214 - mse_wrapper: 0.3214 - ca_wrapper: 0.8498 - meandiff: 2.6154\n",
      "Epoch 00073: loss improved from 0.32235 to 0.32142, saving model to exp/cv_baseline_batchmidhistmatch/8_64_64__8_2_2_4tenc_conv1_MSE_NOnorm_augshiftrot_taug_3_batch8_f0/2021-03-17_18_28/model/model.h5\n",
      "26/26 [==============================] - 88s 3s/step - loss: 0.3214 - mse_wrapper: 0.3214 - ca_wrapper: 0.8498 - meandiff: 2.6154 - val_loss: 0.9087 - val_mse_wrapper: 0.9087 - val_ca_wrapper: 0.8016 - val_meandiff: 3.7969 - lr: 7.0000e-05\n",
      "Epoch 74/100\n",
      "26/26 [==============================] - ETA: 0s - loss: 0.3129 - mse_wrapper: 0.3129 - ca_wrapper: 0.8546 - meandiff: 2.8125"
     ]
    },
    {
     "name": "stderr",
     "output_type": "stream",
     "text": [
      "2021-03-17 20:20:16,981 INFO (4, 2, 36, 5)\n",
      "2021-03-17 20:20:17,547 INFO (4, 2, 36, 5)\n"
     ]
    },
    {
     "name": "stdout",
     "output_type": "stream",
     "text": [
      "\n",
      "Epoch 00074: loss improved from 0.32142 to 0.31286, saving model to exp/cv_baseline_batchmidhistmatch/8_64_64__8_2_2_4tenc_conv1_MSE_NOnorm_augshiftrot_taug_3_batch8_f0/2021-03-17_18_28/model/model.h5\n",
      "26/26 [==============================] - 90s 3s/step - loss: 0.3129 - mse_wrapper: 0.3129 - ca_wrapper: 0.8546 - meandiff: 2.8125 - val_loss: 0.7521 - val_mse_wrapper: 0.7521 - val_ca_wrapper: 0.7982 - val_meandiff: 3.8438 - lr: 7.0000e-05\n",
      "Epoch 75/100\n",
      "26/26 [==============================] - ETA: 0s - loss: 0.3041 - mse_wrapper: 0.3041 - ca_wrapper: 0.8542 - meandiff: 2.5240\n",
      "Epoch 00075: loss improved from 0.31286 to 0.30409, saving model to exp/cv_baseline_batchmidhistmatch/8_64_64__8_2_2_4tenc_conv1_MSE_NOnorm_augshiftrot_taug_3_batch8_f0/2021-03-17_18_28/model/model.h5\n",
      "26/26 [==============================] - 90s 3s/step - loss: 0.3041 - mse_wrapper: 0.3041 - ca_wrapper: 0.8542 - meandiff: 2.5240 - val_loss: 0.9716 - val_mse_wrapper: 0.9716 - val_ca_wrapper: 0.7847 - val_meandiff: 3.7812 - lr: 7.0000e-05\n",
      "Epoch 76/100\n",
      "26/26 [==============================] - ETA: 0s - loss: 0.3087 - mse_wrapper: 0.3087 - ca_wrapper: 0.8564 - meandiff: 2.4760"
     ]
    },
    {
     "name": "stderr",
     "output_type": "stream",
     "text": [
      "2021-03-17 20:23:21,919 INFO (4, 2, 36, 5)\n",
      "2021-03-17 20:23:22,502 INFO (4, 2, 36, 5)\n"
     ]
    },
    {
     "name": "stdout",
     "output_type": "stream",
     "text": [
      "\n",
      "Epoch 00076: loss did not improve from 0.30409\n",
      "26/26 [==============================] - 89s 3s/step - loss: 0.3087 - mse_wrapper: 0.3087 - ca_wrapper: 0.8564 - meandiff: 2.4760 - val_loss: 1.0516 - val_mse_wrapper: 1.0516 - val_ca_wrapper: 0.7938 - val_meandiff: 3.8125 - lr: 7.0000e-05\n",
      "Epoch 77/100\n",
      "26/26 [==============================] - ETA: 0s - loss: 0.2936 - mse_wrapper: 0.2936 - ca_wrapper: 0.8540 - meandiff: 2.5817\n",
      "Epoch 00077: loss improved from 0.30409 to 0.29361, saving model to exp/cv_baseline_batchmidhistmatch/8_64_64__8_2_2_4tenc_conv1_MSE_NOnorm_augshiftrot_taug_3_batch8_f0/2021-03-17_18_28/model/model.h5\n",
      "26/26 [==============================] - 86s 3s/step - loss: 0.2936 - mse_wrapper: 0.2936 - ca_wrapper: 0.8540 - meandiff: 2.5817 - val_loss: 0.8254 - val_mse_wrapper: 0.8254 - val_ca_wrapper: 0.7982 - val_meandiff: 3.6719 - lr: 7.0000e-05\n",
      "Epoch 78/100\n",
      "26/26 [==============================] - ETA: 0s - loss: 0.3003 - mse_wrapper: 0.3003 - ca_wrapper: 0.8582 - meandiff: 2.5192"
     ]
    },
    {
     "name": "stderr",
     "output_type": "stream",
     "text": [
      "2021-03-17 20:26:21,118 INFO (4, 2, 36, 5)\n",
      "2021-03-17 20:26:21,677 INFO (4, 2, 36, 5)\n"
     ]
    },
    {
     "name": "stdout",
     "output_type": "stream",
     "text": [
      "\n",
      "Epoch 00078: loss did not improve from 0.29361\n",
      "26/26 [==============================] - 86s 3s/step - loss: 0.3003 - mse_wrapper: 0.3003 - ca_wrapper: 0.8582 - meandiff: 2.5192 - val_loss: 1.1194 - val_mse_wrapper: 1.1194 - val_ca_wrapper: 0.7717 - val_meandiff: 3.5625 - lr: 7.0000e-05\n",
      "Epoch 79/100\n",
      "26/26 [==============================] - ETA: 0s - loss: 0.3052 - mse_wrapper: 0.3052 - ca_wrapper: 0.8515 - meandiff: 2.5433\n",
      "Epoch 00079: loss did not improve from 0.29361\n",
      "26/26 [==============================] - 82s 3s/step - loss: 0.3052 - mse_wrapper: 0.3052 - ca_wrapper: 0.8515 - meandiff: 2.5433 - val_loss: 0.7311 - val_mse_wrapper: 0.7311 - val_ca_wrapper: 0.8086 - val_meandiff: 3.6719 - lr: 7.0000e-05\n",
      "Epoch 80/100\n",
      "26/26 [==============================] - ETA: 0s - loss: 0.2965 - mse_wrapper: 0.2965 - ca_wrapper: 0.8582 - meandiff: 2.3606"
     ]
    },
    {
     "name": "stderr",
     "output_type": "stream",
     "text": [
      "2021-03-17 20:29:26,521 INFO (4, 2, 36, 5)\n",
      "2021-03-17 20:29:27,088 INFO (4, 2, 36, 5)\n"
     ]
    },
    {
     "name": "stdout",
     "output_type": "stream",
     "text": [
      "\n",
      "Epoch 00080: loss did not improve from 0.29361\n",
      "26/26 [==============================] - 96s 4s/step - loss: 0.2965 - mse_wrapper: 0.2965 - ca_wrapper: 0.8582 - meandiff: 2.3606 - val_loss: 1.0822 - val_mse_wrapper: 1.0822 - val_ca_wrapper: 0.8003 - val_meandiff: 3.8438 - lr: 7.0000e-05\n",
      "Epoch 81/100\n",
      "26/26 [==============================] - ETA: 0s - loss: 0.2922 - mse_wrapper: 0.2922 - ca_wrapper: 0.8542 - meandiff: 2.5000\n",
      "Epoch 00081: loss improved from 0.29361 to 0.29223, saving model to exp/cv_baseline_batchmidhistmatch/8_64_64__8_2_2_4tenc_conv1_MSE_NOnorm_augshiftrot_taug_3_batch8_f0/2021-03-17_18_28/model/model.h5\n",
      "26/26 [==============================] - 90s 3s/step - loss: 0.2922 - mse_wrapper: 0.2922 - ca_wrapper: 0.8542 - meandiff: 2.5000 - val_loss: 0.9129 - val_mse_wrapper: 0.9129 - val_ca_wrapper: 0.7904 - val_meandiff: 3.7188 - lr: 7.0000e-05\n",
      "Epoch 82/100\n",
      "26/26 [==============================] - ETA: 0s - loss: 0.3040 - mse_wrapper: 0.3040 - ca_wrapper: 0.8512 - meandiff: 2.4375"
     ]
    },
    {
     "name": "stderr",
     "output_type": "stream",
     "text": [
      "2021-03-17 20:32:30,747 INFO (4, 2, 36, 5)\n",
      "2021-03-17 20:32:31,316 INFO (4, 2, 36, 5)\n"
     ]
    },
    {
     "name": "stdout",
     "output_type": "stream",
     "text": [
      "\n",
      "Epoch 00082: loss did not improve from 0.29223\n",
      "26/26 [==============================] - 88s 3s/step - loss: 0.3040 - mse_wrapper: 0.3040 - ca_wrapper: 0.8512 - meandiff: 2.4375 - val_loss: 1.1559 - val_mse_wrapper: 1.1559 - val_ca_wrapper: 0.7765 - val_meandiff: 3.9844 - lr: 7.0000e-05\n",
      "Epoch 83/100\n",
      "26/26 [==============================] - ETA: 0s - loss: 0.3041 - mse_wrapper: 0.3041 - ca_wrapper: 0.8491 - meandiff: 2.5481\n",
      "Epoch 00083: loss did not improve from 0.29223\n",
      "26/26 [==============================] - 87s 3s/step - loss: 0.3041 - mse_wrapper: 0.3041 - ca_wrapper: 0.8491 - meandiff: 2.5481 - val_loss: 0.8826 - val_mse_wrapper: 0.8826 - val_ca_wrapper: 0.8051 - val_meandiff: 3.8594 - lr: 7.0000e-05\n",
      "Epoch 84/100\n",
      "26/26 [==============================] - ETA: 0s - loss: 0.3020 - mse_wrapper: 0.3020 - ca_wrapper: 0.8555 - meandiff: 2.3413"
     ]
    },
    {
     "name": "stderr",
     "output_type": "stream",
     "text": [
      "2021-03-17 20:35:35,667 INFO (4, 2, 36, 5)\n",
      "2021-03-17 20:35:36,227 INFO (4, 2, 36, 5)\n"
     ]
    },
    {
     "name": "stdout",
     "output_type": "stream",
     "text": [
      "\n",
      "Epoch 00084: loss did not improve from 0.29223\n",
      "26/26 [==============================] - 87s 3s/step - loss: 0.3020 - mse_wrapper: 0.3020 - ca_wrapper: 0.8555 - meandiff: 2.3413 - val_loss: 0.9044 - val_mse_wrapper: 0.9044 - val_ca_wrapper: 0.7912 - val_meandiff: 3.8750 - lr: 7.0000e-05\n",
      "Epoch 85/100\n",
      "26/26 [==============================] - ETA: 0s - loss: 0.2871 - mse_wrapper: 0.2871 - ca_wrapper: 0.8578 - meandiff: 2.3606\n",
      "Epoch 00085: loss improved from 0.29223 to 0.28705, saving model to exp/cv_baseline_batchmidhistmatch/8_64_64__8_2_2_4tenc_conv1_MSE_NOnorm_augshiftrot_taug_3_batch8_f0/2021-03-17_18_28/model/model.h5\n",
      "26/26 [==============================] - 82s 3s/step - loss: 0.2871 - mse_wrapper: 0.2871 - ca_wrapper: 0.8578 - meandiff: 2.3606 - val_loss: 1.0564 - val_mse_wrapper: 1.0564 - val_ca_wrapper: 0.7600 - val_meandiff: 3.6719 - lr: 7.0000e-05\n",
      "Epoch 86/100\n",
      "26/26 [==============================] - ETA: 0s - loss: 0.2969 - mse_wrapper: 0.2969 - ca_wrapper: 0.8616 - meandiff: 2.5048"
     ]
    },
    {
     "name": "stderr",
     "output_type": "stream",
     "text": [
      "2021-03-17 20:38:31,335 INFO (4, 2, 36, 5)\n",
      "2021-03-17 20:38:31,900 INFO (4, 2, 36, 5)\n"
     ]
    },
    {
     "name": "stdout",
     "output_type": "stream",
     "text": [
      "\n",
      "Epoch 00086: loss did not improve from 0.28705\n",
      "26/26 [==============================] - 87s 3s/step - loss: 0.2969 - mse_wrapper: 0.2969 - ca_wrapper: 0.8616 - meandiff: 2.5048 - val_loss: 0.9094 - val_mse_wrapper: 0.9094 - val_ca_wrapper: 0.7891 - val_meandiff: 3.4531 - lr: 7.0000e-05\n",
      "Epoch 87/100\n",
      "26/26 [==============================] - ETA: 0s - loss: 0.2979 - mse_wrapper: 0.2979 - ca_wrapper: 0.8532 - meandiff: 2.3654\n",
      "Epoch 00087: loss did not improve from 0.28705\n",
      "26/26 [==============================] - 85s 3s/step - loss: 0.2979 - mse_wrapper: 0.2979 - ca_wrapper: 0.8532 - meandiff: 2.3654 - val_loss: 0.8005 - val_mse_wrapper: 0.8005 - val_ca_wrapper: 0.8043 - val_meandiff: 3.8906 - lr: 7.0000e-05\n",
      "Epoch 88/100\n",
      "26/26 [==============================] - ETA: 0s - loss: 0.2960 - mse_wrapper: 0.2960 - ca_wrapper: 0.8582 - meandiff: 2.3846"
     ]
    },
    {
     "name": "stderr",
     "output_type": "stream",
     "text": [
      "2021-03-17 20:41:29,015 INFO (4, 2, 36, 5)\n",
      "2021-03-17 20:41:29,571 INFO (4, 2, 36, 5)\n"
     ]
    },
    {
     "name": "stdout",
     "output_type": "stream",
     "text": [
      "\n",
      "Epoch 00088: loss did not improve from 0.28705\n",
      "26/26 [==============================] - 86s 3s/step - loss: 0.2960 - mse_wrapper: 0.2960 - ca_wrapper: 0.8582 - meandiff: 2.3846 - val_loss: 0.8350 - val_mse_wrapper: 0.8350 - val_ca_wrapper: 0.7960 - val_meandiff: 3.9062 - lr: 7.0000e-05\n",
      "Epoch 89/100\n",
      "26/26 [==============================] - ETA: 0s - loss: 0.2869 - mse_wrapper: 0.2869 - ca_wrapper: 0.8599 - meandiff: 2.4279\n",
      "Epoch 00089: loss improved from 0.28705 to 0.28692, saving model to exp/cv_baseline_batchmidhistmatch/8_64_64__8_2_2_4tenc_conv1_MSE_NOnorm_augshiftrot_taug_3_batch8_f0/2021-03-17_18_28/model/model.h5\n",
      "26/26 [==============================] - 92s 4s/step - loss: 0.2869 - mse_wrapper: 0.2869 - ca_wrapper: 0.8599 - meandiff: 2.4279 - val_loss: 0.9826 - val_mse_wrapper: 0.9826 - val_ca_wrapper: 0.8194 - val_meandiff: 3.5000 - lr: 7.0000e-05\n",
      "Epoch 90/100\n",
      "26/26 [==============================] - ETA: 0s - loss: 0.2758 - mse_wrapper: 0.2758 - ca_wrapper: 0.8615 - meandiff: 2.1683"
     ]
    },
    {
     "name": "stderr",
     "output_type": "stream",
     "text": [
      "2021-03-17 20:44:26,691 INFO (4, 2, 36, 5)\n",
      "2021-03-17 20:44:27,251 INFO (4, 2, 36, 5)\n"
     ]
    },
    {
     "name": "stdout",
     "output_type": "stream",
     "text": [
      "\n",
      "Epoch 00090: loss improved from 0.28692 to 0.27579, saving model to exp/cv_baseline_batchmidhistmatch/8_64_64__8_2_2_4tenc_conv1_MSE_NOnorm_augshiftrot_taug_3_batch8_f0/2021-03-17_18_28/model/model.h5\n",
      "26/26 [==============================] - 80s 3s/step - loss: 0.2758 - mse_wrapper: 0.2758 - ca_wrapper: 0.8615 - meandiff: 2.1683 - val_loss: 0.9500 - val_mse_wrapper: 0.9500 - val_ca_wrapper: 0.8025 - val_meandiff: 3.8750 - lr: 7.0000e-05\n",
      "Epoch 91/100\n",
      "26/26 [==============================] - ETA: 0s - loss: 0.2828 - mse_wrapper: 0.2828 - ca_wrapper: 0.8611 - meandiff: 2.2163\n",
      "Epoch 00091: loss did not improve from 0.27579\n",
      "26/26 [==============================] - 84s 3s/step - loss: 0.2828 - mse_wrapper: 0.2828 - ca_wrapper: 0.8611 - meandiff: 2.2163 - val_loss: 0.8144 - val_mse_wrapper: 0.8144 - val_ca_wrapper: 0.8073 - val_meandiff: 3.7188 - lr: 7.0000e-05\n",
      "Epoch 92/100\n",
      "26/26 [==============================] - ETA: 0s - loss: 0.2749 - mse_wrapper: 0.2749 - ca_wrapper: 0.8528 - meandiff: 2.2500"
     ]
    },
    {
     "name": "stderr",
     "output_type": "stream",
     "text": [
      "2021-03-17 20:47:24,572 INFO (4, 2, 36, 5)\n",
      "2021-03-17 20:47:25,136 INFO (4, 2, 36, 5)\n"
     ]
    },
    {
     "name": "stdout",
     "output_type": "stream",
     "text": [
      "\n",
      "Epoch 00092: loss improved from 0.27579 to 0.27488, saving model to exp/cv_baseline_batchmidhistmatch/8_64_64__8_2_2_4tenc_conv1_MSE_NOnorm_augshiftrot_taug_3_batch8_f0/2021-03-17_18_28/model/model.h5\n",
      "26/26 [==============================] - 86s 3s/step - loss: 0.2749 - mse_wrapper: 0.2749 - ca_wrapper: 0.8528 - meandiff: 2.2500 - val_loss: 0.7850 - val_mse_wrapper: 0.7850 - val_ca_wrapper: 0.7960 - val_meandiff: 3.6875 - lr: 7.0000e-05\n",
      "Epoch 93/100\n",
      "26/26 [==============================] - ETA: 0s - loss: 0.2918 - mse_wrapper: 0.2918 - ca_wrapper: 0.8544 - meandiff: 2.4423\n",
      "Epoch 00093: loss did not improve from 0.27488\n",
      "26/26 [==============================] - 89s 3s/step - loss: 0.2918 - mse_wrapper: 0.2918 - ca_wrapper: 0.8544 - meandiff: 2.4423 - val_loss: 0.8358 - val_mse_wrapper: 0.8358 - val_ca_wrapper: 0.7930 - val_meandiff: 3.7344 - lr: 7.0000e-05\n",
      "Epoch 94/100\n",
      "26/26 [==============================] - ETA: 0s - loss: 0.2793 - mse_wrapper: 0.2793 - ca_wrapper: 0.8608 - meandiff: 2.2308"
     ]
    },
    {
     "name": "stderr",
     "output_type": "stream",
     "text": [
      "2021-03-17 20:50:30,082 INFO (4, 2, 36, 5)\n",
      "2021-03-17 20:50:30,605 INFO (4, 2, 36, 5)\n"
     ]
    },
    {
     "name": "stdout",
     "output_type": "stream",
     "text": [
      "\n",
      "Epoch 00094: loss did not improve from 0.27488\n",
      "26/26 [==============================] - 89s 3s/step - loss: 0.2793 - mse_wrapper: 0.2793 - ca_wrapper: 0.8608 - meandiff: 2.2308 - val_loss: 0.8506 - val_mse_wrapper: 0.8506 - val_ca_wrapper: 0.7934 - val_meandiff: 3.9688 - lr: 7.0000e-05\n",
      "Epoch 95/100\n",
      "26/26 [==============================] - ETA: 0s - loss: 0.2936 - mse_wrapper: 0.2936 - ca_wrapper: 0.8539 - meandiff: 2.3606\n",
      "Epoch 00095: loss did not improve from 0.27488\n",
      "26/26 [==============================] - 91s 4s/step - loss: 0.2936 - mse_wrapper: 0.2936 - ca_wrapper: 0.8539 - meandiff: 2.3606 - val_loss: 1.3190 - val_mse_wrapper: 1.3190 - val_ca_wrapper: 0.7904 - val_meandiff: 3.4844 - lr: 7.0000e-05\n",
      "Epoch 96/100\n",
      "26/26 [==============================] - ETA: 0s - loss: 0.2787 - mse_wrapper: 0.2787 - ca_wrapper: 0.8582 - meandiff: 2.1106"
     ]
    },
    {
     "name": "stderr",
     "output_type": "stream",
     "text": [
      "2021-03-17 20:53:37,033 INFO (4, 2, 36, 5)\n",
      "2021-03-17 20:53:37,557 INFO (4, 2, 36, 5)\n"
     ]
    },
    {
     "name": "stdout",
     "output_type": "stream",
     "text": [
      "\n",
      "Epoch 00096: loss did not improve from 0.27488\n",
      "26/26 [==============================] - 89s 3s/step - loss: 0.2787 - mse_wrapper: 0.2787 - ca_wrapper: 0.8582 - meandiff: 2.1106 - val_loss: 0.7932 - val_mse_wrapper: 0.7932 - val_ca_wrapper: 0.7817 - val_meandiff: 3.7344 - lr: 7.0000e-05\n",
      "Epoch 97/100\n",
      "26/26 [==============================] - ETA: 0s - loss: 0.2793 - mse_wrapper: 0.2793 - ca_wrapper: 0.8570 - meandiff: 2.2308\n",
      "Epoch 00097: loss did not improve from 0.27488\n",
      "\n",
      "Epoch 00097: ReduceLROnPlateau reducing learning rate to 4.899999621557071e-05.\n",
      "26/26 [==============================] - 85s 3s/step - loss: 0.2793 - mse_wrapper: 0.2793 - ca_wrapper: 0.8570 - meandiff: 2.2308 - val_loss: 0.9115 - val_mse_wrapper: 0.9115 - val_ca_wrapper: 0.8021 - val_meandiff: 3.5938 - lr: 4.9000e-05\n",
      "Epoch 98/100\n",
      "26/26 [==============================] - ETA: 0s - loss: 0.2705 - mse_wrapper: 0.2705 - ca_wrapper: 0.8661 - meandiff: 2.1971"
     ]
    },
    {
     "name": "stderr",
     "output_type": "stream",
     "text": [
      "2021-03-17 20:56:37,124 INFO (4, 2, 36, 5)\n",
      "2021-03-17 20:56:37,680 INFO (4, 2, 36, 5)\n"
     ]
    },
    {
     "name": "stdout",
     "output_type": "stream",
     "text": [
      "\n",
      "Epoch 00098: loss improved from 0.27488 to 0.27047, saving model to exp/cv_baseline_batchmidhistmatch/8_64_64__8_2_2_4tenc_conv1_MSE_NOnorm_augshiftrot_taug_3_batch8_f0/2021-03-17_18_28/model/model.h5\n",
      "26/26 [==============================] - 87s 3s/step - loss: 0.2705 - mse_wrapper: 0.2705 - ca_wrapper: 0.8661 - meandiff: 2.1971 - val_loss: 0.8270 - val_mse_wrapper: 0.8270 - val_ca_wrapper: 0.7964 - val_meandiff: 3.7969 - lr: 4.9000e-05\n",
      "Epoch 99/100\n",
      "26/26 [==============================] - ETA: 0s - loss: 0.2656 - mse_wrapper: 0.2656 - ca_wrapper: 0.8604 - meandiff: 2.2548\n",
      "Epoch 00099: loss improved from 0.27047 to 0.26560, saving model to exp/cv_baseline_batchmidhistmatch/8_64_64__8_2_2_4tenc_conv1_MSE_NOnorm_augshiftrot_taug_3_batch8_f0/2021-03-17_18_28/model/model.h5\n",
      "26/26 [==============================] - 91s 3s/step - loss: 0.2656 - mse_wrapper: 0.2656 - ca_wrapper: 0.8604 - meandiff: 2.2548 - val_loss: 0.7840 - val_mse_wrapper: 0.7840 - val_ca_wrapper: 0.8025 - val_meandiff: 3.9375 - lr: 4.9000e-05\n",
      "Epoch 100/100\n",
      "26/26 [==============================] - ETA: 0s - loss: 0.2543 - mse_wrapper: 0.2543 - ca_wrapper: 0.8615 - meandiff: 2.1106"
     ]
    },
    {
     "name": "stderr",
     "output_type": "stream",
     "text": [
      "2021-03-17 20:59:36,001 INFO (4, 2, 36, 5)\n",
      "2021-03-17 20:59:36,561 INFO (4, 2, 36, 5)\n"
     ]
    },
    {
     "name": "stdout",
     "output_type": "stream",
     "text": [
      "\n",
      "Epoch 00100: loss improved from 0.26560 to 0.25433, saving model to exp/cv_baseline_batchmidhistmatch/8_64_64__8_2_2_4tenc_conv1_MSE_NOnorm_augshiftrot_taug_3_batch8_f0/2021-03-17_18_28/model/model.h5\n",
      "26/26 [==============================] - 81s 3s/step - loss: 0.2543 - mse_wrapper: 0.2543 - ca_wrapper: 0.8615 - meandiff: 2.1106 - val_loss: 0.9842 - val_mse_wrapper: 0.9842 - val_ca_wrapper: 0.7982 - val_meandiff: 3.9062 - lr: 4.9000e-05\n"
     ]
    },
    {
     "name": "stderr",
     "output_type": "stream",
     "text": [
      "2021-03-17 20:59:38,405 INFO Fold 0 finished after 9069.106 sec\n"
     ]
    },
    {
     "data": {
      "text/plain": [
       "True"
      ]
     },
     "execution_count": 2,
     "metadata": {},
     "output_type": "execute_result"
    }
   ],
   "source": [
    "from src.models.train_model import train_fold\n",
    "\n",
    "folds = [i for i in range(0, 1, 1)]\n",
    "\n",
    "for f in folds:\n",
    "    info('starting fold: {}'.format(f))\n",
    "    config_ = config.copy()\n",
    "    config_['FOLD'] = f\n",
    "    train_fold(config_)"
   ]
  },
  {
   "cell_type": "code",
   "execution_count": 11,
   "metadata": {},
   "outputs": [
    {
     "name": "stdout",
     "output_type": "stream",
     "text": [
      "({'1': 'a'},)\n"
     ]
    }
   ],
   "source": [
    "def foo(*kwargs):\n",
    "    print(kwargs)\n",
    "    \n",
    "    \n",
    "cfg = {}\n",
    "cfg['1'] = 'a'\n",
    "\n",
    "foo(cfg)"
   ]
  },
  {
   "cell_type": "code",
   "execution_count": null,
   "metadata": {},
   "outputs": [],
   "source": []
  }
 ],
 "metadata": {
  "kernelspec": {
   "display_name": "dcmr",
   "language": "python",
   "name": "dcmr"
  },
  "language_info": {
   "codemirror_mode": {
    "name": "ipython",
    "version": 3
   },
   "file_extension": ".py",
   "mimetype": "text/x-python",
   "name": "python",
   "nbconvert_exporter": "python",
   "pygments_lexer": "ipython3",
   "version": "3.8.5"
  },
  "widgets": {
   "application/vnd.jupyter.widget-state+json": {
    "state": {},
    "version_major": 2,
    "version_minor": 0
   }
  }
 },
 "nbformat": 4,
 "nbformat_minor": 4
}
