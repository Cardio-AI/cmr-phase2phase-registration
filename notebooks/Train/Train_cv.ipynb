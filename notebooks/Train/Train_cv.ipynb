{
 "cells": [
  {
   "cell_type": "code",
   "execution_count": 1,
   "metadata": {},
   "outputs": [
    {
     "name": "stdout",
     "output_type": "stream",
     "text": [
      "search for root_dir and set working directory\n",
      "Working directory set to: /mnt/ssd/git/dynamic-cmr-models\n",
      "['/gpu:0', '/gpu:1']\n"
     ]
    }
   ],
   "source": [
    "# ------------------------------------------define logging and working directory\n",
    "from ProjectRoot import change_wd_to_project_root\n",
    "change_wd_to_project_root()\n",
    "from src.utils.Tensorflow_helper import choose_gpu_by_id\n",
    "# ------------------------------------------define GPU id/s to use\n",
    "GPU_IDS = '0,1'\n",
    "GPUS = choose_gpu_by_id(GPU_IDS)\n",
    "print(GPUS)\n",
    "# ------------------------------------------jupyter magic config\n",
    "%matplotlib inline\n",
    "%reload_ext autoreload\n",
    "%autoreload 2\n",
    "# ------------------------------------------ import helpers\n",
    "# this should import glob, os, and many other standard libs\n",
    "# local imports\n",
    "from src.utils.Notebook_imports import *\n",
    "from src.utils.Utils_io import Console_and_file_logger, init_config\n",
    "\n",
    "# import external libs\n",
    "from tensorflow.python.client import device_lib\n",
    "import tensorflow as tf\n",
    "tf.get_logger().setLevel('ERROR')\n",
    "import cv2\n",
    "import pandas as pd\n",
    "\n",
    "EXPERIMENT = 'cv_baseline_finalconv5/8_64_64__8_3_3_tenc64_conv1_MSE_NOnorm_augshiftscalerotbrigthness_taug3_3_batch8'\n",
    "#EXPERIMENT = 'baseline_label_transpose_smooth05/36_5_BiLSTM32_NoBn_conv5_size1_CCE_NOphaseaug_NOaug_b8'\n",
    "# EXPERIMENT = 'mased_scores/36_5_BiLSTM32_NoBn_conv5_size1_CCE_NOphaseaug_shift_rotate_reflectbordersgridaug'\n",
    "timestemp = str(datetime.datetime.now().strftime(\"%Y-%m-%d_%H_%M\")) # ad a timestep to each project to make repeated experiments unique\n",
    "\n",
    "EXPERIMENTS_ROOT = 'exp/'\n",
    "EXP_PATH = os.path.join(EXPERIMENTS_ROOT, EXPERIMENT, timestemp)\n",
    "MODEL_PATH = os.path.join(EXP_PATH, 'model', )\n",
    "TENSORBOARD_PATH = os.path.join(EXP_PATH, 'tensorboard_logs')\n",
    "CONFIG_PATH = os.path.join(EXP_PATH,'config')\n",
    "HISTORY_PATH = os.path.join(EXP_PATH, 'history')\n",
    "ensure_dir(MODEL_PATH)\n",
    "ensure_dir(TENSORBOARD_PATH)\n",
    "ensure_dir(CONFIG_PATH)\n",
    "ensure_dir(HISTORY_PATH)\n",
    "\n",
    "# define the data paths and fold \n",
    "# first to the 4D Nrrd files, \n",
    "# second to a dataframe with a mapping of the Fold-number\n",
    "# Finally the path to the metadata\n",
    "DATA_PATH_SAX = '/mnt/ssd/data/gcn/02_imported_4D_unfiltered/SAX/'\n",
    "DF_FOLDS = '/mnt/ssd/data/gcn/02_imported_4D_unfiltered/df_kfold.csv'\n",
    "DF_META = '/mnt/ssd/data/gcn/02_imported_4D_unfiltered/SAx_3D_dicomTags_phase'\n",
    "FOLD = 0\n",
    "\n",
    "# General params\n",
    "SEED = 42 # define a seed for the generator shuffle\n",
    "BATCHSIZE = 8 # 32, 64, 24, 16, 1 for 3D use: 4\n",
    "GENERATOR_WORKER = BATCHSIZE # if not set, use batchsize\n",
    "EPOCHS = 100\n",
    "\n",
    "DIM = [8, 64, 64] # network input shape for spacing of 3, (z,y,x)\n",
    "T_SHAPE = 36\n",
    "SPACING = [8, 3, 3] # if resample, resample to this spacing, (z,y,x)\n",
    "\n",
    "# Model params\n",
    "DEPTH = 4 # depth of the encoder\n",
    "FILTERS = 32 # initial number of filters, will be doubled after each downsampling block\n",
    "M_POOL = [1, 2, 2]# size of max-pooling used for downsampling and upsampling\n",
    "F_SIZE = [3, 3, 3] # conv filter size\n",
    "BN_FIRST = False # decide if batch normalisation between conv and activation or afterwards\n",
    "BATCH_NORMALISATION = True # apply BN or not\n",
    "PAD = 'same' # padding strategy of the conv layers\n",
    "KERNEL_INIT = 'he_normal' # conv weight initialisation\n",
    "OPTIMIZER = 'adam' # Adam, Adagrad, RMSprop, Adadelta,  # https://keras.io/optimizers/\n",
    "ACTIVATION = 'relu' # tf.keras.layers.LeakyReLU(), relu or any other non linear activation function\n",
    "LEARNING_RATE = 1e-4 # start with a huge lr to converge fast\n",
    "REDUCE_LR_ON_PLAEAU_PATIENCE = 5\n",
    "DECAY_FACTOR = 0.7 # Define a learning rate decay for the ReduceLROnPlateau callback\n",
    "MIN_LR = 1e-12 # minimal lr, smaller lr does not improve the model\n",
    "DROPOUT_min = 0.3 # lower dropout at the shallow layers\n",
    "DROPOUT_max = 0.5 # higher dropout at the deep layers\n",
    "\n",
    "# Callback params\n",
    "MONITOR_FUNCTION = 'loss'\n",
    "MONITOR_MODE = 'min'\n",
    "SAVE_MODEL_FUNCTION = 'loss'\n",
    "SAVE_MODEL_MODE = 'min'\n",
    "MODEL_PATIENCE = 20\n",
    "SAVE_LEARNING_PROGRESS_AS_TF = True\n",
    "\n",
    "# Generator and Augmentation params\n",
    "BORDER_MODE = cv2.BORDER_REFLECT_101 # border mode for the data generation\n",
    "IMG_INTERPOLATION = cv2.INTER_LINEAR # image interpolation in the genarator\n",
    "MSK_INTERPOLATION = cv2.INTER_NEAREST # mask interpolation in the generator\n",
    "AUGMENT = True # a compose of 2D augmentation (grid distortion, 90degree rotation, brightness and shift)\n",
    "AUGMENT_PROB = 0.8\n",
    "AUGMENT_PHASES = True\n",
    "AUGMENT_PHASES_RANGE = (-3,3)\n",
    "REPEAT_ONEHOT = True\n",
    "SHUFFLE = True\n",
    "RESAMPLE = True\n",
    "SCALER = 'MinMax' # MinMax, Standard or Robust\n",
    "# We define 5 target phases and a background phase for the pad/empty volumes \n",
    "PHASES = len(['ED#', 'MS#', 'ES#', 'PF#', 'MD#']) # skipped 'pad backround manually added', due to repeating\n",
    "TARGET_SMOOTHING = True\n",
    "SMOOTHING_KERNEL_SIZE = 12\n",
    "SMOOTHING_LOWER_BORDER = 1\n",
    "SMOOTHING_UPPER_BORDER = 5\n",
    "SMOOTHING_WEIGHT_CORRECT = 10\n",
    "config = init_config(config=locals(), save=True)\n"
   ]
  },
  {
   "cell_type": "code",
   "execution_count": 2,
   "metadata": {},
   "outputs": [
    {
     "name": "stderr",
     "output_type": "stream",
     "text": [
      "DEBUG:root:Creating directory /mnt/ssd/git/dynamic-cmr-models/logs/cv_baseline_finalconv5\n",
      "2021-03-02 22:25:11,688 INFO -------------------- Start --------------------\n",
      "2021-03-02 22:25:11,689 INFO Working directory: /mnt/ssd/git/dynamic-cmr-models.\n",
      "2021-03-02 22:25:11,689 INFO Log file: ./logs/cv_baseline_finalconv5/8_64_64__8_3_3_tenc64_conv1_MSE_NOnorm_augshiftscalerotbrigthness_taug3_3_batch8_f0.log\n",
      "2021-03-02 22:25:11,689 INFO Log level for console: INFO\n",
      "2021-03-02 22:25:11,690 INFO Is built with tensorflow: True\n",
      "2021-03-02 22:25:11,747 INFO Visible devices:\n",
      "[PhysicalDevice(name='/physical_device:CPU:0', device_type='CPU'), PhysicalDevice(name='/physical_device:XLA_CPU:0', device_type='XLA_CPU'), PhysicalDevice(name='/physical_device:XLA_GPU:0', device_type='XLA_GPU'), PhysicalDevice(name='/physical_device:XLA_GPU:1', device_type='XLA_GPU'), PhysicalDevice(name='/physical_device:GPU:0', device_type='GPU'), PhysicalDevice(name='/physical_device:GPU:1', device_type='GPU')]\n",
      "2021-03-02 22:25:12,436 INFO Local devices: \n",
      " [name: \"/device:CPU:0\"\n",
      "device_type: \"CPU\"\n",
      "memory_limit: 268435456\n",
      "locality {\n",
      "}\n",
      "incarnation: 7172255877712673484\n",
      ", name: \"/device:XLA_CPU:0\"\n",
      "device_type: \"XLA_CPU\"\n",
      "memory_limit: 17179869184\n",
      "locality {\n",
      "}\n",
      "incarnation: 17969445161693547773\n",
      "physical_device_desc: \"device: XLA_CPU device\"\n",
      ", name: \"/device:XLA_GPU:0\"\n",
      "device_type: \"XLA_GPU\"\n",
      "memory_limit: 17179869184\n",
      "locality {\n",
      "}\n",
      "incarnation: 10188063325047320417\n",
      "physical_device_desc: \"device: XLA_GPU device\"\n",
      ", name: \"/device:XLA_GPU:1\"\n",
      "device_type: \"XLA_GPU\"\n",
      "memory_limit: 17179869184\n",
      "locality {\n",
      "}\n",
      "incarnation: 4878740886565319655\n",
      "physical_device_desc: \"device: XLA_GPU device\"\n",
      ", name: \"/device:GPU:0\"\n",
      "device_type: \"GPU\"\n",
      "memory_limit: 23093862784\n",
      "locality {\n",
      "  bus_id: 1\n",
      "  links {\n",
      "  }\n",
      "}\n",
      "incarnation: 14157871235037012763\n",
      "physical_device_desc: \"device: 0, name: TITAN RTX, pci bus id: 0000:01:00.0, compute capability: 7.5\"\n",
      ", name: \"/device:GPU:1\"\n",
      "device_type: \"GPU\"\n",
      "memory_limit: 23561682304\n",
      "locality {\n",
      "  bus_id: 1\n",
      "  links {\n",
      "  }\n",
      "}\n",
      "incarnation: 792321374851258025\n",
      "physical_device_desc: \"device: 1, name: TITAN RTX, pci bus id: 0000:02:00.0, compute capability: 7.5\"\n",
      "]\n"
     ]
    },
    {
     "name": "stdout",
     "output_type": "stream",
     "text": [
      "['/gpu:0', '/gpu:1']\n",
      "{'GPU_IDS': '0,1', 'GPUS': ['/gpu:0', '/gpu:1'], 'SEED': 42, 'EXPERIMENT': 'cv_baseline_finalconv5/8_64_64__8_3_3_tenc64_conv1_MSE_NOnorm_augshiftscalerotbrigthness_taug3_3_batch8_f0', 'EXPERIMENTS_ROOT': 'exp/', 'EXP_PATH': 'exp/cv_baseline_finalconv5/8_64_64__8_3_3_tenc64_conv1_MSE_NOnorm_augshiftscalerotbrigthness_taug3_3_batch8_f0/2021-03-02_22_25', 'MODEL_PATH': 'exp/cv_baseline_finalconv5/8_64_64__8_3_3_tenc64_conv1_MSE_NOnorm_augshiftscalerotbrigthness_taug3_3_batch8_f0/2021-03-02_22_25/model', 'TENSORBOARD_PATH': 'exp/cv_baseline_finalconv5/8_64_64__8_3_3_tenc64_conv1_MSE_NOnorm_augshiftscalerotbrigthness_taug3_3_batch8_f0/2021-03-02_22_25/tensorboard_logs', 'CONFIG_PATH': 'exp/cv_baseline_finalconv5/8_64_64__8_3_3_tenc64_conv1_MSE_NOnorm_augshiftscalerotbrigthness_taug3_3_batch8_f0/2021-03-02_22_25/config', 'HISTORY_PATH': 'exp/cv_baseline_finalconv5/8_64_64__8_3_3_tenc64_conv1_MSE_NOnorm_augshiftscalerotbrigthness_taug3_3_batch8_f0/2021-03-02_22_25/history', 'DATA_PATH_SAX': '/mnt/ssd/data/gcn/02_imported_4D_unfiltered/SAX/', 'DF_FOLDS': '/mnt/ssd/data/gcn/02_imported_4D_unfiltered/df_kfold.csv', 'DF_META': '/mnt/ssd/data/gcn/02_imported_4D_unfiltered/SAx_3D_dicomTags_phase', 'FOLD': 0, 'BATCHSIZE': 8, 'GENERATOR_WORKER': 8, 'EPOCHS': 100, 'DIM': [8, 64, 64], 'T_SHAPE': 36, 'SPACING': [8, 3, 3], 'DEPTH': 4, 'FILTERS': 32, 'M_POOL': [1, 2, 2], 'F_SIZE': [3, 3, 3], 'BN_FIRST': False, 'BATCH_NORMALISATION': True, 'PAD': 'same', 'KERNEL_INIT': 'he_normal', 'OPTIMIZER': 'adam', 'ACTIVATION': 'relu', 'LEARNING_RATE': 0.0001, 'REDUCE_LR_ON_PLAEAU_PATIENCE': 5, 'DECAY_FACTOR': 0.7, 'MIN_LR': 1e-12, 'MONITOR_FUNCTION': 'loss', 'MONITOR_MODE': 'min', 'SAVE_MODEL_FUNCTION': 'loss', 'SAVE_MODEL_MODE': 'min', 'MODEL_PATIENCE': 20, 'SAVE_LEARNING_PROGRESS_AS_TF': True, 'BORDER_MODE': 4, 'IMG_INTERPOLATION': 1, 'MSK_INTERPOLATION': 0, 'AUGMENT': True, 'AUGMENT_PROB': 0.8, 'AUGMENT_PHASES': True, 'AUGMENT_PHASES_RANGE': (-3, 3), 'REPEAT_ONEHOT': True, 'SHUFFLE': True, 'RESAMPLE': True, 'SCALER': 'MinMax', 'PHASES': 5, 'TARGET_SMOOTHING': True, 'SMOOTHING_KERNEL_SIZE': 12, 'SMOOTHING_LOWER_BORDER': 1, 'SMOOTHING_UPPER_BORDER': 5, 'SMOOTHING_WEIGHT_CORRECT': 10, 'TENSORBOARD_LOG_DIR': 'reports/tensorboard_logs/cv_baseline_finalconv5/8_64_64__8_3_3_tenc64_conv1_MSE_NOnorm_augshiftscalerotbrigthness_taug3_3_batch8'}\n"
     ]
    },
    {
     "name": "stderr",
     "output_type": "stream",
     "text": [
      "2021-03-02 22:25:12,438 INFO no files found, try to load with clean.nrrd/mask.nrrd pattern\n",
      "2021-03-02 22:25:12,445 INFO Found 278 images/masks in /mnt/ssd/data/gcn/02_imported_4D_unfiltered/SAX/\n",
      "2021-03-02 22:25:12,445 INFO Patients train: 209\n",
      "2021-03-02 22:25:12,456 INFO Selected 209 of 278 files with 209 of 279 patients for training fold 0\n",
      "2021-03-02 22:25:12,456 INFO SAX train CMR: 209, SAX train masks: 209\n",
      "2021-03-02 22:25:12,456 INFO SAX val CMR: 69, SAX val masks: 69\n",
      "2021-03-02 22:25:12,469 INFO Check if we find the patient ID and phase mapping for all: 278 files.\n",
      "2021-03-02 22:25:12,742 INFO Done!\n",
      "2021-03-02 22:25:12,743 INFO Create DataGenerator\n",
      "2021-03-02 22:25:12,744 INFO Datagenerator created with: \n",
      " shape: [8, 64, 64]\n",
      " spacing: [8, 3, 3]\n",
      " batchsize: 8\n",
      " Scaler: MinMax\n",
      " Images: 209 \n",
      " Augment: True \n",
      " Thread workers: 8\n",
      "2021-03-02 22:25:12,744 INFO Data will be augmented (shift,scale and rotate) with albumentation\n",
      "2021-03-02 22:25:12,757 INFO Smoothing kernel: \n",
      "[ 1.   1.8  2.6  3.4  4.2  5.  10.   5.   4.2  3.4  2.6  1.8  1. ]\n",
      "2021-03-02 22:25:12,757 INFO Temporal phase augmentation: \n",
      "TrueRepeat volume: True\n",
      "2021-03-02 22:25:12,758 INFO Create DataGenerator\n",
      "2021-03-02 22:25:12,759 INFO Datagenerator created with: \n",
      " shape: [8, 64, 64]\n",
      " spacing: [8, 3, 3]\n",
      " batchsize: 8\n",
      " Scaler: MinMax\n",
      " Images: 69 \n",
      " Augment: False \n",
      " Thread workers: 8\n",
      "2021-03-02 22:25:12,759 INFO No augmentation\n",
      "2021-03-02 22:25:12,772 INFO Smoothing kernel: \n",
      "[ 1.   1.8  2.6  3.4  4.2  5.  10.   5.   4.2  3.4  2.6  1.8  1. ]\n",
      "2021-03-02 22:25:12,772 INFO Temporal phase augmentation: \n",
      "FalseRepeat volume: True\n"
     ]
    },
    {
     "name": "stdout",
     "output_type": "stream",
     "text": [
      "Shape after the temporal encoder\n",
      "(None, 36, 8, 4, 4, 512)\n",
      "Shape after GAP\n",
      "(None, 36, 512)\n",
      "Shape after Bi-LSTM layer\n",
      "(None, 36, 512)\n",
      "Shape after final conv layer\n",
      "(None, 36, 5)\n"
     ]
    },
    {
     "name": "stderr",
     "output_type": "stream",
     "text": [
      "2021-03-02 22:25:17,331 INFO feed 4 Tensorboard is ready\n"
     ]
    },
    {
     "name": "stdout",
     "output_type": "stream",
     "text": [
      "Epoch 1/100\n",
      "26/26 [==============================] - ETA: 0s - loss: 1.0673 - mse_wrapper: 1.0673 - ca_wrapper: 0.4566 - meandiff: 12.2163"
     ]
    },
    {
     "name": "stderr",
     "output_type": "stream",
     "text": [
      "2021-03-02 22:26:26,857 INFO (4, 2, 36, 5)\n",
      "2021-03-02 22:26:27,441 INFO (4, 2, 36, 5)\n"
     ]
    },
    {
     "name": "stdout",
     "output_type": "stream",
     "text": [
      "\n",
      "Epoch 00001: loss improved from inf to 1.06725, saving model to exp/cv_baseline_finalconv5/8_64_64__8_3_3_tenc64_conv1_MSE_NOnorm_augshiftscalerotbrigthness_taug3_3_batch8_f0/2021-03-02_22_25/model/model.h5\n",
      "26/26 [==============================] - 38s 1s/step - loss: 1.0673 - mse_wrapper: 1.0673 - ca_wrapper: 0.4566 - meandiff: 12.2163 - val_loss: 1.1899 - val_mse_wrapper: 1.1899 - val_ca_wrapper: 0.4123 - val_meandiff: 10.3438 - lr: 1.0000e-04\n",
      "Epoch 2/100\n",
      "26/26 [==============================] - ETA: 0s - loss: 0.7901 - mse_wrapper: 0.7901 - ca_wrapper: 0.6482 - meandiff: 8.5433"
     ]
    },
    {
     "name": "stderr",
     "output_type": "stream",
     "text": [
      "2021-03-02 22:27:02,015 INFO (4, 2, 36, 5)\n",
      "2021-03-02 22:27:02,594 INFO (4, 2, 36, 5)\n"
     ]
    },
    {
     "name": "stdout",
     "output_type": "stream",
     "text": [
      "\n",
      "Epoch 00002: loss improved from 1.06725 to 0.79007, saving model to exp/cv_baseline_finalconv5/8_64_64__8_3_3_tenc64_conv1_MSE_NOnorm_augshiftscalerotbrigthness_taug3_3_batch8_f0/2021-03-02_22_25/model/model.h5\n",
      "26/26 [==============================] - 33s 1s/step - loss: 0.7901 - mse_wrapper: 0.7901 - ca_wrapper: 0.6482 - meandiff: 8.5433 - val_loss: 1.7776 - val_mse_wrapper: 1.7776 - val_ca_wrapper: 0.5820 - val_meandiff: 8.8438 - lr: 1.0000e-04\n",
      "Epoch 3/100\n",
      "26/26 [==============================] - ETA: 0s - loss: 0.7240 - mse_wrapper: 0.7240 - ca_wrapper: 0.6878 - meandiff: 6.7692"
     ]
    },
    {
     "name": "stderr",
     "output_type": "stream",
     "text": [
      "2021-03-02 22:27:38,872 INFO (4, 2, 36, 5)\n",
      "2021-03-02 22:27:39,427 INFO (4, 2, 36, 5)\n"
     ]
    },
    {
     "name": "stdout",
     "output_type": "stream",
     "text": [
      "\n",
      "Epoch 00003: loss improved from 0.79007 to 0.72404, saving model to exp/cv_baseline_finalconv5/8_64_64__8_3_3_tenc64_conv1_MSE_NOnorm_augshiftscalerotbrigthness_taug3_3_batch8_f0/2021-03-02_22_25/model/model.h5\n",
      "26/26 [==============================] - 35s 1s/step - loss: 0.7240 - mse_wrapper: 0.7240 - ca_wrapper: 0.6878 - meandiff: 6.7692 - val_loss: 0.8714 - val_mse_wrapper: 0.8714 - val_ca_wrapper: 0.6766 - val_meandiff: 5.7656 - lr: 1.0000e-04\n",
      "Epoch 4/100\n",
      "26/26 [==============================] - ETA: 0s - loss: 0.6497 - mse_wrapper: 0.6497 - ca_wrapper: 0.7324 - meandiff: 6.3702"
     ]
    },
    {
     "name": "stderr",
     "output_type": "stream",
     "text": [
      "2021-03-02 22:28:16,075 INFO (4, 2, 36, 5)\n",
      "2021-03-02 22:28:16,651 INFO (4, 2, 36, 5)\n"
     ]
    },
    {
     "name": "stdout",
     "output_type": "stream",
     "text": [
      "\n",
      "Epoch 00004: loss improved from 0.72404 to 0.64973, saving model to exp/cv_baseline_finalconv5/8_64_64__8_3_3_tenc64_conv1_MSE_NOnorm_augshiftscalerotbrigthness_taug3_3_batch8_f0/2021-03-02_22_25/model/model.h5\n",
      "26/26 [==============================] - 35s 1s/step - loss: 0.6497 - mse_wrapper: 0.6497 - ca_wrapper: 0.7324 - meandiff: 6.3702 - val_loss: 0.7582 - val_mse_wrapper: 0.7582 - val_ca_wrapper: 0.7652 - val_meandiff: 5.0469 - lr: 1.0000e-04\n",
      "Epoch 5/100\n",
      "26/26 [==============================] - ETA: 0s - loss: 0.5908 - mse_wrapper: 0.5908 - ca_wrapper: 0.7714 - meandiff: 5.0673\n",
      "Epoch 00005: loss improved from 0.64973 to 0.59083, saving model to exp/cv_baseline_finalconv5/8_64_64__8_3_3_tenc64_conv1_MSE_NOnorm_augshiftscalerotbrigthness_taug3_3_batch8_f0/2021-03-02_22_25/model/model.h5\n",
      "26/26 [==============================] - 35s 1s/step - loss: 0.5908 - mse_wrapper: 0.5908 - ca_wrapper: 0.7714 - meandiff: 5.0673 - val_loss: 1.5782 - val_mse_wrapper: 1.5782 - val_ca_wrapper: 0.6389 - val_meandiff: 7.8750 - lr: 1.0000e-04\n",
      "Epoch 6/100\n",
      "26/26 [==============================] - ETA: 0s - loss: 0.5841 - mse_wrapper: 0.5841 - ca_wrapper: 0.7690 - meandiff: 5.1106"
     ]
    },
    {
     "name": "stderr",
     "output_type": "stream",
     "text": [
      "2021-03-02 22:29:30,789 INFO (4, 2, 36, 5)\n",
      "2021-03-02 22:29:31,621 INFO (4, 2, 36, 5)\n"
     ]
    },
    {
     "name": "stdout",
     "output_type": "stream",
     "text": [
      "\n",
      "Epoch 00006: loss improved from 0.59083 to 0.58406, saving model to exp/cv_baseline_finalconv5/8_64_64__8_3_3_tenc64_conv1_MSE_NOnorm_augshiftscalerotbrigthness_taug3_3_batch8_f0/2021-03-02_22_25/model/model.h5\n",
      "26/26 [==============================] - 36s 1s/step - loss: 0.5841 - mse_wrapper: 0.5841 - ca_wrapper: 0.7690 - meandiff: 5.1106 - val_loss: 0.7891 - val_mse_wrapper: 0.7891 - val_ca_wrapper: 0.7847 - val_meandiff: 4.5469 - lr: 1.0000e-04\n",
      "Epoch 7/100\n",
      "26/26 [==============================] - ETA: 0s - loss: 0.5626 - mse_wrapper: 0.5626 - ca_wrapper: 0.7877 - meandiff: 5.0337\n",
      "Epoch 00007: loss improved from 0.58406 to 0.56255, saving model to exp/cv_baseline_finalconv5/8_64_64__8_3_3_tenc64_conv1_MSE_NOnorm_augshiftscalerotbrigthness_taug3_3_batch8_f0/2021-03-02_22_25/model/model.h5\n",
      "26/26 [==============================] - 35s 1s/step - loss: 0.5626 - mse_wrapper: 0.5626 - ca_wrapper: 0.7877 - meandiff: 5.0337 - val_loss: 0.7628 - val_mse_wrapper: 0.7628 - val_ca_wrapper: 0.7648 - val_meandiff: 4.5156 - lr: 1.0000e-04\n",
      "Epoch 8/100\n",
      "26/26 [==============================] - ETA: 0s - loss: 0.5351 - mse_wrapper: 0.5351 - ca_wrapper: 0.7842 - meandiff: 4.6971"
     ]
    },
    {
     "name": "stderr",
     "output_type": "stream",
     "text": [
      "2021-03-02 22:30:45,499 INFO (4, 2, 36, 5)\n",
      "2021-03-02 22:30:46,072 INFO (4, 2, 36, 5)\n"
     ]
    },
    {
     "name": "stdout",
     "output_type": "stream",
     "text": [
      "\n",
      "Epoch 00008: loss improved from 0.56255 to 0.53508, saving model to exp/cv_baseline_finalconv5/8_64_64__8_3_3_tenc64_conv1_MSE_NOnorm_augshiftscalerotbrigthness_taug3_3_batch8_f0/2021-03-02_22_25/model/model.h5\n",
      "26/26 [==============================] - 36s 1s/step - loss: 0.5351 - mse_wrapper: 0.5351 - ca_wrapper: 0.7842 - meandiff: 4.6971 - val_loss: 0.8704 - val_mse_wrapper: 0.8704 - val_ca_wrapper: 0.7808 - val_meandiff: 4.0000 - lr: 1.0000e-04\n",
      "Epoch 9/100\n",
      "26/26 [==============================] - ETA: 0s - loss: 0.5459 - mse_wrapper: 0.5459 - ca_wrapper: 0.7784 - meandiff: 4.6635\n",
      "Epoch 00009: loss did not improve from 0.53508\n",
      "26/26 [==============================] - 34s 1s/step - loss: 0.5459 - mse_wrapper: 0.5459 - ca_wrapper: 0.7784 - meandiff: 4.6635 - val_loss: 0.5922 - val_mse_wrapper: 0.5922 - val_ca_wrapper: 0.7804 - val_meandiff: 4.5625 - lr: 1.0000e-04\n",
      "Epoch 10/100\n",
      "26/26 [==============================] - ETA: 0s - loss: 0.5177 - mse_wrapper: 0.5177 - ca_wrapper: 0.7957 - meandiff: 4.6587"
     ]
    },
    {
     "name": "stderr",
     "output_type": "stream",
     "text": [
      "2021-03-02 22:31:59,344 INFO (4, 2, 36, 5)\n",
      "2021-03-02 22:31:59,915 INFO (4, 2, 36, 5)\n"
     ]
    },
    {
     "name": "stdout",
     "output_type": "stream",
     "text": [
      "\n",
      "Epoch 00010: loss improved from 0.53508 to 0.51771, saving model to exp/cv_baseline_finalconv5/8_64_64__8_3_3_tenc64_conv1_MSE_NOnorm_augshiftscalerotbrigthness_taug3_3_batch8_f0/2021-03-02_22_25/model/model.h5\n",
      "26/26 [==============================] - 36s 1s/step - loss: 0.5177 - mse_wrapper: 0.5177 - ca_wrapper: 0.7957 - meandiff: 4.6587 - val_loss: 0.7350 - val_mse_wrapper: 0.7350 - val_ca_wrapper: 0.7977 - val_meandiff: 4.1719 - lr: 1.0000e-04\n",
      "Epoch 11/100\n",
      "26/26 [==============================] - ETA: 0s - loss: 0.4978 - mse_wrapper: 0.4978 - ca_wrapper: 0.7983 - meandiff: 4.3990\n",
      "Epoch 00011: loss improved from 0.51771 to 0.49776, saving model to exp/cv_baseline_finalconv5/8_64_64__8_3_3_tenc64_conv1_MSE_NOnorm_augshiftscalerotbrigthness_taug3_3_batch8_f0/2021-03-02_22_25/model/model.h5\n",
      "26/26 [==============================] - 34s 1s/step - loss: 0.4978 - mse_wrapper: 0.4978 - ca_wrapper: 0.7983 - meandiff: 4.3990 - val_loss: 1.2102 - val_mse_wrapper: 1.2102 - val_ca_wrapper: 0.7335 - val_meandiff: 4.5625 - lr: 1.0000e-04\n",
      "Epoch 12/100\n",
      "26/26 [==============================] - ETA: 0s - loss: 0.4992 - mse_wrapper: 0.4992 - ca_wrapper: 0.8033 - meandiff: 4.3077"
     ]
    },
    {
     "name": "stderr",
     "output_type": "stream",
     "text": [
      "2021-03-02 22:33:13,259 INFO (4, 2, 36, 5)\n",
      "2021-03-02 22:33:13,831 INFO (4, 2, 36, 5)\n"
     ]
    },
    {
     "name": "stdout",
     "output_type": "stream",
     "text": [
      "\n",
      "Epoch 00012: loss did not improve from 0.49776\n",
      "26/26 [==============================] - 35s 1s/step - loss: 0.4992 - mse_wrapper: 0.4992 - ca_wrapper: 0.8033 - meandiff: 4.3077 - val_loss: 1.2472 - val_mse_wrapper: 1.2472 - val_ca_wrapper: 0.6910 - val_meandiff: 4.7344 - lr: 1.0000e-04\n",
      "Epoch 13/100\n",
      "26/26 [==============================] - ETA: 0s - loss: 0.4902 - mse_wrapper: 0.4902 - ca_wrapper: 0.8060 - meandiff: 4.2692\n",
      "Epoch 00013: loss improved from 0.49776 to 0.49021, saving model to exp/cv_baseline_finalconv5/8_64_64__8_3_3_tenc64_conv1_MSE_NOnorm_augshiftscalerotbrigthness_taug3_3_batch8_f0/2021-03-02_22_25/model/model.h5\n",
      "26/26 [==============================] - 34s 1s/step - loss: 0.4902 - mse_wrapper: 0.4902 - ca_wrapper: 0.8060 - meandiff: 4.2692 - val_loss: 0.5709 - val_mse_wrapper: 0.5709 - val_ca_wrapper: 0.7956 - val_meandiff: 4.4375 - lr: 1.0000e-04\n",
      "Epoch 14/100\n",
      "26/26 [==============================] - ETA: 0s - loss: 0.4750 - mse_wrapper: 0.4750 - ca_wrapper: 0.8120 - meandiff: 3.9279"
     ]
    },
    {
     "name": "stderr",
     "output_type": "stream",
     "text": [
      "2021-03-02 22:34:26,878 INFO (4, 2, 36, 5)\n",
      "2021-03-02 22:34:27,448 INFO (4, 2, 36, 5)\n"
     ]
    },
    {
     "name": "stdout",
     "output_type": "stream",
     "text": [
      "\n",
      "Epoch 00014: loss improved from 0.49021 to 0.47498, saving model to exp/cv_baseline_finalconv5/8_64_64__8_3_3_tenc64_conv1_MSE_NOnorm_augshiftscalerotbrigthness_taug3_3_batch8_f0/2021-03-02_22_25/model/model.h5\n",
      "26/26 [==============================] - 36s 1s/step - loss: 0.4750 - mse_wrapper: 0.4750 - ca_wrapper: 0.8120 - meandiff: 3.9279 - val_loss: 0.6641 - val_mse_wrapper: 0.6641 - val_ca_wrapper: 0.7999 - val_meandiff: 3.8281 - lr: 1.0000e-04\n",
      "Epoch 15/100\n",
      "26/26 [==============================] - ETA: 0s - loss: 0.4598 - mse_wrapper: 0.4598 - ca_wrapper: 0.8153 - meandiff: 3.9327\n",
      "Epoch 00015: loss improved from 0.47498 to 0.45977, saving model to exp/cv_baseline_finalconv5/8_64_64__8_3_3_tenc64_conv1_MSE_NOnorm_augshiftscalerotbrigthness_taug3_3_batch8_f0/2021-03-02_22_25/model/model.h5\n",
      "26/26 [==============================] - 34s 1s/step - loss: 0.4598 - mse_wrapper: 0.4598 - ca_wrapper: 0.8153 - meandiff: 3.9327 - val_loss: 0.8427 - val_mse_wrapper: 0.8427 - val_ca_wrapper: 0.7769 - val_meandiff: 3.8750 - lr: 1.0000e-04\n",
      "Epoch 16/100\n",
      "26/26 [==============================] - ETA: 0s - loss: 0.4732 - mse_wrapper: 0.4732 - ca_wrapper: 0.8200 - meandiff: 3.8942"
     ]
    },
    {
     "name": "stderr",
     "output_type": "stream",
     "text": [
      "2021-03-02 22:35:40,194 INFO (4, 2, 36, 5)\n",
      "2021-03-02 22:35:40,776 INFO (4, 2, 36, 5)\n"
     ]
    },
    {
     "name": "stdout",
     "output_type": "stream",
     "text": [
      "\n",
      "Epoch 00016: loss did not improve from 0.45977\n",
      "26/26 [==============================] - 35s 1s/step - loss: 0.4732 - mse_wrapper: 0.4732 - ca_wrapper: 0.8200 - meandiff: 3.8942 - val_loss: 0.9392 - val_mse_wrapper: 0.9392 - val_ca_wrapper: 0.7656 - val_meandiff: 4.2344 - lr: 1.0000e-04\n",
      "Epoch 17/100\n",
      "26/26 [==============================] - ETA: 0s - loss: 0.4489 - mse_wrapper: 0.4489 - ca_wrapper: 0.8241 - meandiff: 3.8942\n",
      "Epoch 00017: loss improved from 0.45977 to 0.44895, saving model to exp/cv_baseline_finalconv5/8_64_64__8_3_3_tenc64_conv1_MSE_NOnorm_augshiftscalerotbrigthness_taug3_3_batch8_f0/2021-03-02_22_25/model/model.h5\n",
      "26/26 [==============================] - 34s 1s/step - loss: 0.4489 - mse_wrapper: 0.4489 - ca_wrapper: 0.8241 - meandiff: 3.8942 - val_loss: 0.9108 - val_mse_wrapper: 0.9108 - val_ca_wrapper: 0.8056 - val_meandiff: 4.1875 - lr: 1.0000e-04\n",
      "Epoch 18/100\n",
      "26/26 [==============================] - ETA: 0s - loss: 0.4479 - mse_wrapper: 0.4479 - ca_wrapper: 0.8200 - meandiff: 3.7019"
     ]
    },
    {
     "name": "stderr",
     "output_type": "stream",
     "text": [
      "2021-03-02 22:36:53,661 INFO (4, 2, 36, 5)\n",
      "2021-03-02 22:36:54,558 INFO (4, 2, 36, 5)\n"
     ]
    },
    {
     "name": "stdout",
     "output_type": "stream",
     "text": [
      "\n",
      "Epoch 00018: loss improved from 0.44895 to 0.44791, saving model to exp/cv_baseline_finalconv5/8_64_64__8_3_3_tenc64_conv1_MSE_NOnorm_augshiftscalerotbrigthness_taug3_3_batch8_f0/2021-03-02_22_25/model/model.h5\n",
      "26/26 [==============================] - 36s 1s/step - loss: 0.4479 - mse_wrapper: 0.4479 - ca_wrapper: 0.8200 - meandiff: 3.7019 - val_loss: 1.0483 - val_mse_wrapper: 1.0483 - val_ca_wrapper: 0.7747 - val_meandiff: 4.0469 - lr: 1.0000e-04\n",
      "Epoch 19/100\n",
      "26/26 [==============================] - ETA: 0s - loss: 0.4546 - mse_wrapper: 0.4546 - ca_wrapper: 0.8205 - meandiff: 4.0385\n",
      "Epoch 00019: loss did not improve from 0.44791\n",
      "26/26 [==============================] - 34s 1s/step - loss: 0.4546 - mse_wrapper: 0.4546 - ca_wrapper: 0.8205 - meandiff: 4.0385 - val_loss: 1.3116 - val_mse_wrapper: 1.3116 - val_ca_wrapper: 0.7526 - val_meandiff: 4.2812 - lr: 1.0000e-04\n",
      "Epoch 20/100\n",
      "26/26 [==============================] - ETA: 0s - loss: 0.4429 - mse_wrapper: 0.4429 - ca_wrapper: 0.8197 - meandiff: 3.7067"
     ]
    },
    {
     "name": "stderr",
     "output_type": "stream",
     "text": [
      "2021-03-02 22:38:06,966 INFO (4, 2, 36, 5)\n",
      "2021-03-02 22:38:07,523 INFO (4, 2, 36, 5)\n"
     ]
    },
    {
     "name": "stdout",
     "output_type": "stream",
     "text": [
      "\n",
      "Epoch 00020: loss improved from 0.44791 to 0.44294, saving model to exp/cv_baseline_finalconv5/8_64_64__8_3_3_tenc64_conv1_MSE_NOnorm_augshiftscalerotbrigthness_taug3_3_batch8_f0/2021-03-02_22_25/model/model.h5\n",
      "26/26 [==============================] - 35s 1s/step - loss: 0.4429 - mse_wrapper: 0.4429 - ca_wrapper: 0.8197 - meandiff: 3.7067 - val_loss: 0.8212 - val_mse_wrapper: 0.8212 - val_ca_wrapper: 0.8142 - val_meandiff: 3.8438 - lr: 1.0000e-04\n",
      "Epoch 21/100\n",
      "26/26 [==============================] - ETA: 0s - loss: 0.4247 - mse_wrapper: 0.4247 - ca_wrapper: 0.8273 - meandiff: 3.9087\n",
      "Epoch 00021: loss improved from 0.44294 to 0.42467, saving model to exp/cv_baseline_finalconv5/8_64_64__8_3_3_tenc64_conv1_MSE_NOnorm_augshiftscalerotbrigthness_taug3_3_batch8_f0/2021-03-02_22_25/model/model.h5\n",
      "26/26 [==============================] - 34s 1s/step - loss: 0.4247 - mse_wrapper: 0.4247 - ca_wrapper: 0.8273 - meandiff: 3.9087 - val_loss: 0.6933 - val_mse_wrapper: 0.6933 - val_ca_wrapper: 0.7964 - val_meandiff: 4.2656 - lr: 1.0000e-04\n",
      "Epoch 22/100\n",
      "26/26 [==============================] - ETA: 0s - loss: 0.4249 - mse_wrapper: 0.4249 - ca_wrapper: 0.8265 - meandiff: 3.6106"
     ]
    },
    {
     "name": "stderr",
     "output_type": "stream",
     "text": [
      "2021-03-02 22:39:20,014 INFO (4, 2, 36, 5)\n",
      "2021-03-02 22:39:20,556 INFO (4, 2, 36, 5)\n"
     ]
    },
    {
     "name": "stdout",
     "output_type": "stream",
     "text": [
      "\n",
      "Epoch 00022: loss did not improve from 0.42467\n",
      "26/26 [==============================] - 35s 1s/step - loss: 0.4249 - mse_wrapper: 0.4249 - ca_wrapper: 0.8265 - meandiff: 3.6106 - val_loss: 0.7700 - val_mse_wrapper: 0.7700 - val_ca_wrapper: 0.8069 - val_meandiff: 3.7812 - lr: 1.0000e-04\n",
      "Epoch 23/100\n",
      "26/26 [==============================] - ETA: 0s - loss: 0.4286 - mse_wrapper: 0.4286 - ca_wrapper: 0.8245 - meandiff: 3.7885\n",
      "Epoch 00023: loss did not improve from 0.42467\n",
      "26/26 [==============================] - 34s 1s/step - loss: 0.4286 - mse_wrapper: 0.4286 - ca_wrapper: 0.8245 - meandiff: 3.7885 - val_loss: 0.9750 - val_mse_wrapper: 0.9750 - val_ca_wrapper: 0.7938 - val_meandiff: 4.2969 - lr: 1.0000e-04\n",
      "Epoch 24/100\n",
      "26/26 [==============================] - ETA: 0s - loss: 0.4146 - mse_wrapper: 0.4146 - ca_wrapper: 0.8339 - meandiff: 3.4952"
     ]
    },
    {
     "name": "stderr",
     "output_type": "stream",
     "text": [
      "2021-03-02 22:40:33,055 INFO (4, 2, 36, 5)\n",
      "2021-03-02 22:40:33,583 INFO (4, 2, 36, 5)\n"
     ]
    },
    {
     "name": "stdout",
     "output_type": "stream",
     "text": [
      "\n",
      "Epoch 00024: loss improved from 0.42467 to 0.41462, saving model to exp/cv_baseline_finalconv5/8_64_64__8_3_3_tenc64_conv1_MSE_NOnorm_augshiftscalerotbrigthness_taug3_3_batch8_f0/2021-03-02_22_25/model/model.h5\n",
      "26/26 [==============================] - 35s 1s/step - loss: 0.4146 - mse_wrapper: 0.4146 - ca_wrapper: 0.8339 - meandiff: 3.4952 - val_loss: 0.7042 - val_mse_wrapper: 0.7042 - val_ca_wrapper: 0.8012 - val_meandiff: 4.1719 - lr: 1.0000e-04\n",
      "Epoch 25/100\n",
      "26/26 [==============================] - ETA: 0s - loss: 0.4142 - mse_wrapper: 0.4142 - ca_wrapper: 0.8301 - meandiff: 3.5288\n",
      "Epoch 00025: loss improved from 0.41462 to 0.41421, saving model to exp/cv_baseline_finalconv5/8_64_64__8_3_3_tenc64_conv1_MSE_NOnorm_augshiftscalerotbrigthness_taug3_3_batch8_f0/2021-03-02_22_25/model/model.h5\n",
      "26/26 [==============================] - 34s 1s/step - loss: 0.4142 - mse_wrapper: 0.4142 - ca_wrapper: 0.8301 - meandiff: 3.5288 - val_loss: 0.9440 - val_mse_wrapper: 0.9440 - val_ca_wrapper: 0.8038 - val_meandiff: 4.0781 - lr: 1.0000e-04\n",
      "Epoch 26/100\n",
      "26/26 [==============================] - ETA: 0s - loss: 0.4068 - mse_wrapper: 0.4068 - ca_wrapper: 0.8339 - meandiff: 3.5481"
     ]
    },
    {
     "name": "stderr",
     "output_type": "stream",
     "text": [
      "2021-03-02 22:41:46,703 INFO (4, 2, 36, 5)\n",
      "2021-03-02 22:41:47,261 INFO (4, 2, 36, 5)\n"
     ]
    },
    {
     "name": "stdout",
     "output_type": "stream",
     "text": [
      "\n",
      "Epoch 00026: loss improved from 0.41421 to 0.40677, saving model to exp/cv_baseline_finalconv5/8_64_64__8_3_3_tenc64_conv1_MSE_NOnorm_augshiftscalerotbrigthness_taug3_3_batch8_f0/2021-03-02_22_25/model/model.h5\n",
      "26/26 [==============================] - 35s 1s/step - loss: 0.4068 - mse_wrapper: 0.4068 - ca_wrapper: 0.8339 - meandiff: 3.5481 - val_loss: 1.0334 - val_mse_wrapper: 1.0334 - val_ca_wrapper: 0.8051 - val_meandiff: 4.0156 - lr: 1.0000e-04\n",
      "Epoch 27/100\n",
      "26/26 [==============================] - ETA: 0s - loss: 0.4105 - mse_wrapper: 0.4105 - ca_wrapper: 0.8363 - meandiff: 3.3750\n",
      "Epoch 00027: loss did not improve from 0.40677\n",
      "26/26 [==============================] - 34s 1s/step - loss: 0.4105 - mse_wrapper: 0.4105 - ca_wrapper: 0.8363 - meandiff: 3.3750 - val_loss: 0.9738 - val_mse_wrapper: 0.9738 - val_ca_wrapper: 0.8155 - val_meandiff: 3.9844 - lr: 1.0000e-04\n",
      "Epoch 28/100\n",
      "26/26 [==============================] - ETA: 0s - loss: 0.4069 - mse_wrapper: 0.4069 - ca_wrapper: 0.8300 - meandiff: 3.6394"
     ]
    },
    {
     "name": "stderr",
     "output_type": "stream",
     "text": [
      "2021-03-02 22:43:00,208 INFO (4, 2, 36, 5)\n",
      "2021-03-02 22:43:00,756 INFO (4, 2, 36, 5)\n"
     ]
    },
    {
     "name": "stdout",
     "output_type": "stream",
     "text": [
      "\n",
      "Epoch 00028: loss did not improve from 0.40677\n",
      "26/26 [==============================] - 35s 1s/step - loss: 0.4069 - mse_wrapper: 0.4069 - ca_wrapper: 0.8300 - meandiff: 3.6394 - val_loss: 1.0975 - val_mse_wrapper: 1.0975 - val_ca_wrapper: 0.7413 - val_meandiff: 3.8281 - lr: 1.0000e-04\n",
      "Epoch 29/100\n",
      "26/26 [==============================] - ETA: 0s - loss: 0.4032 - mse_wrapper: 0.4032 - ca_wrapper: 0.8321 - meandiff: 3.2740\n",
      "Epoch 00029: loss improved from 0.40677 to 0.40316, saving model to exp/cv_baseline_finalconv5/8_64_64__8_3_3_tenc64_conv1_MSE_NOnorm_augshiftscalerotbrigthness_taug3_3_batch8_f0/2021-03-02_22_25/model/model.h5\n",
      "26/26 [==============================] - 34s 1s/step - loss: 0.4032 - mse_wrapper: 0.4032 - ca_wrapper: 0.8321 - meandiff: 3.2740 - val_loss: 1.1718 - val_mse_wrapper: 1.1718 - val_ca_wrapper: 0.7591 - val_meandiff: 4.0625 - lr: 1.0000e-04\n",
      "Epoch 30/100\n",
      "26/26 [==============================] - ETA: 0s - loss: 0.3965 - mse_wrapper: 0.3965 - ca_wrapper: 0.8324 - meandiff: 3.3750"
     ]
    },
    {
     "name": "stderr",
     "output_type": "stream",
     "text": [
      "2021-03-02 22:44:13,350 INFO (4, 2, 36, 5)\n",
      "2021-03-02 22:44:13,913 INFO (4, 2, 36, 5)\n"
     ]
    },
    {
     "name": "stdout",
     "output_type": "stream",
     "text": [
      "\n",
      "Epoch 00030: loss improved from 0.40316 to 0.39647, saving model to exp/cv_baseline_finalconv5/8_64_64__8_3_3_tenc64_conv1_MSE_NOnorm_augshiftscalerotbrigthness_taug3_3_batch8_f0/2021-03-02_22_25/model/model.h5\n",
      "26/26 [==============================] - 35s 1s/step - loss: 0.3965 - mse_wrapper: 0.3965 - ca_wrapper: 0.8324 - meandiff: 3.3750 - val_loss: 0.5903 - val_mse_wrapper: 0.5903 - val_ca_wrapper: 0.8099 - val_meandiff: 4.0156 - lr: 1.0000e-04\n",
      "Epoch 31/100\n",
      "26/26 [==============================] - ETA: 0s - loss: 0.3922 - mse_wrapper: 0.3922 - ca_wrapper: 0.8351 - meandiff: 3.3990\n",
      "Epoch 00031: loss improved from 0.39647 to 0.39220, saving model to exp/cv_baseline_finalconv5/8_64_64__8_3_3_tenc64_conv1_MSE_NOnorm_augshiftscalerotbrigthness_taug3_3_batch8_f0/2021-03-02_22_25/model/model.h5\n",
      "26/26 [==============================] - 34s 1s/step - loss: 0.3922 - mse_wrapper: 0.3922 - ca_wrapper: 0.8351 - meandiff: 3.3990 - val_loss: 1.4085 - val_mse_wrapper: 1.4085 - val_ca_wrapper: 0.8095 - val_meandiff: 3.9375 - lr: 1.0000e-04\n",
      "Epoch 32/100\n",
      "26/26 [==============================] - ETA: 0s - loss: 0.3966 - mse_wrapper: 0.3966 - ca_wrapper: 0.8395 - meandiff: 3.3798"
     ]
    },
    {
     "name": "stderr",
     "output_type": "stream",
     "text": [
      "2021-03-02 22:45:26,692 INFO (4, 2, 36, 5)\n",
      "2021-03-02 22:45:27,589 INFO (4, 2, 36, 5)\n"
     ]
    },
    {
     "name": "stdout",
     "output_type": "stream",
     "text": [
      "\n",
      "Epoch 00032: loss did not improve from 0.39220\n",
      "26/26 [==============================] - 35s 1s/step - loss: 0.3966 - mse_wrapper: 0.3966 - ca_wrapper: 0.8395 - meandiff: 3.3798 - val_loss: 1.1662 - val_mse_wrapper: 1.1662 - val_ca_wrapper: 0.7665 - val_meandiff: 3.8438 - lr: 1.0000e-04\n",
      "Epoch 33/100\n",
      "26/26 [==============================] - ETA: 0s - loss: 0.3900 - mse_wrapper: 0.3900 - ca_wrapper: 0.8348 - meandiff: 3.3077\n",
      "Epoch 00033: loss improved from 0.39220 to 0.38997, saving model to exp/cv_baseline_finalconv5/8_64_64__8_3_3_tenc64_conv1_MSE_NOnorm_augshiftscalerotbrigthness_taug3_3_batch8_f0/2021-03-02_22_25/model/model.h5\n",
      "26/26 [==============================] - 34s 1s/step - loss: 0.3900 - mse_wrapper: 0.3900 - ca_wrapper: 0.8348 - meandiff: 3.3077 - val_loss: 1.0604 - val_mse_wrapper: 1.0604 - val_ca_wrapper: 0.7982 - val_meandiff: 3.7812 - lr: 1.0000e-04\n",
      "Epoch 34/100\n",
      "26/26 [==============================] - ETA: 0s - loss: 0.4031 - mse_wrapper: 0.4031 - ca_wrapper: 0.8340 - meandiff: 3.5529"
     ]
    },
    {
     "name": "stderr",
     "output_type": "stream",
     "text": [
      "2021-03-02 22:46:40,265 INFO (4, 2, 36, 5)\n",
      "2021-03-02 22:46:40,812 INFO (4, 2, 36, 5)\n"
     ]
    },
    {
     "name": "stdout",
     "output_type": "stream",
     "text": [
      "\n",
      "Epoch 00034: loss did not improve from 0.38997\n",
      "26/26 [==============================] - 35s 1s/step - loss: 0.4031 - mse_wrapper: 0.4031 - ca_wrapper: 0.8340 - meandiff: 3.5529 - val_loss: 0.8171 - val_mse_wrapper: 0.8171 - val_ca_wrapper: 0.7830 - val_meandiff: 4.3125 - lr: 1.0000e-04\n",
      "Epoch 35/100\n",
      "26/26 [==============================] - ETA: 0s - loss: 0.3966 - mse_wrapper: 0.3966 - ca_wrapper: 0.8331 - meandiff: 3.4615\n",
      "Epoch 00035: loss did not improve from 0.38997\n",
      "26/26 [==============================] - 34s 1s/step - loss: 0.3966 - mse_wrapper: 0.3966 - ca_wrapper: 0.8331 - meandiff: 3.4615 - val_loss: 0.7960 - val_mse_wrapper: 0.7960 - val_ca_wrapper: 0.8082 - val_meandiff: 4.0312 - lr: 1.0000e-04\n",
      "Epoch 36/100\n",
      "26/26 [==============================] - ETA: 0s - loss: 0.3797 - mse_wrapper: 0.3797 - ca_wrapper: 0.8376 - meandiff: 3.4087"
     ]
    },
    {
     "name": "stderr",
     "output_type": "stream",
     "text": [
      "2021-03-02 22:47:53,334 INFO (4, 2, 36, 5)\n",
      "2021-03-02 22:47:53,911 INFO (4, 2, 36, 5)\n"
     ]
    },
    {
     "name": "stdout",
     "output_type": "stream",
     "text": [
      "\n",
      "Epoch 00036: loss improved from 0.38997 to 0.37974, saving model to exp/cv_baseline_finalconv5/8_64_64__8_3_3_tenc64_conv1_MSE_NOnorm_augshiftscalerotbrigthness_taug3_3_batch8_f0/2021-03-02_22_25/model/model.h5\n",
      "26/26 [==============================] - 35s 1s/step - loss: 0.3797 - mse_wrapper: 0.3797 - ca_wrapper: 0.8376 - meandiff: 3.4087 - val_loss: 0.7195 - val_mse_wrapper: 0.7195 - val_ca_wrapper: 0.8251 - val_meandiff: 3.8125 - lr: 1.0000e-04\n",
      "Epoch 37/100\n",
      "26/26 [==============================] - ETA: 0s - loss: 0.3786 - mse_wrapper: 0.3786 - ca_wrapper: 0.8396 - meandiff: 3.5048\n",
      "Epoch 00037: loss improved from 0.37974 to 0.37856, saving model to exp/cv_baseline_finalconv5/8_64_64__8_3_3_tenc64_conv1_MSE_NOnorm_augshiftscalerotbrigthness_taug3_3_batch8_f0/2021-03-02_22_25/model/model.h5\n",
      "26/26 [==============================] - 34s 1s/step - loss: 0.3786 - mse_wrapper: 0.3786 - ca_wrapper: 0.8396 - meandiff: 3.5048 - val_loss: 1.2020 - val_mse_wrapper: 1.2020 - val_ca_wrapper: 0.7843 - val_meandiff: 4.2031 - lr: 1.0000e-04\n",
      "Epoch 38/100\n",
      "26/26 [==============================] - ETA: 0s - loss: 0.3686 - mse_wrapper: 0.3686 - ca_wrapper: 0.8432 - meandiff: 3.3221"
     ]
    },
    {
     "name": "stderr",
     "output_type": "stream",
     "text": [
      "2021-03-02 22:49:07,418 INFO (4, 2, 36, 5)\n",
      "2021-03-02 22:49:07,973 INFO (4, 2, 36, 5)\n"
     ]
    },
    {
     "name": "stdout",
     "output_type": "stream",
     "text": [
      "\n",
      "Epoch 00038: loss improved from 0.37856 to 0.36861, saving model to exp/cv_baseline_finalconv5/8_64_64__8_3_3_tenc64_conv1_MSE_NOnorm_augshiftscalerotbrigthness_taug3_3_batch8_f0/2021-03-02_22_25/model/model.h5\n",
      "26/26 [==============================] - 35s 1s/step - loss: 0.3686 - mse_wrapper: 0.3686 - ca_wrapper: 0.8432 - meandiff: 3.3221 - val_loss: 1.0888 - val_mse_wrapper: 1.0888 - val_ca_wrapper: 0.8038 - val_meandiff: 3.7656 - lr: 1.0000e-04\n",
      "Epoch 39/100\n",
      "26/26 [==============================] - ETA: 0s - loss: 0.3823 - mse_wrapper: 0.3823 - ca_wrapper: 0.8404 - meandiff: 3.2500\n",
      "Epoch 00039: loss did not improve from 0.36861\n",
      "26/26 [==============================] - 34s 1s/step - loss: 0.3823 - mse_wrapper: 0.3823 - ca_wrapper: 0.8404 - meandiff: 3.2500 - val_loss: 0.8205 - val_mse_wrapper: 0.8205 - val_ca_wrapper: 0.7973 - val_meandiff: 3.9219 - lr: 1.0000e-04\n",
      "Epoch 40/100\n",
      "26/26 [==============================] - ETA: 0s - loss: 0.3707 - mse_wrapper: 0.3707 - ca_wrapper: 0.8365 - meandiff: 3.2692"
     ]
    },
    {
     "name": "stderr",
     "output_type": "stream",
     "text": [
      "2021-03-02 22:50:20,932 INFO (4, 2, 36, 5)\n",
      "2021-03-02 22:50:21,489 INFO (4, 2, 36, 5)\n"
     ]
    },
    {
     "name": "stdout",
     "output_type": "stream",
     "text": [
      "\n",
      "Epoch 00040: loss did not improve from 0.36861\n",
      "26/26 [==============================] - 35s 1s/step - loss: 0.3707 - mse_wrapper: 0.3707 - ca_wrapper: 0.8365 - meandiff: 3.2692 - val_loss: 0.8865 - val_mse_wrapper: 0.8865 - val_ca_wrapper: 0.7878 - val_meandiff: 3.6250 - lr: 1.0000e-04\n",
      "Epoch 41/100\n",
      "26/26 [==============================] - ETA: 0s - loss: 0.3792 - mse_wrapper: 0.3792 - ca_wrapper: 0.8373 - meandiff: 3.2067\n",
      "Epoch 00041: loss did not improve from 0.36861\n",
      "26/26 [==============================] - 34s 1s/step - loss: 0.3792 - mse_wrapper: 0.3792 - ca_wrapper: 0.8373 - meandiff: 3.2067 - val_loss: 1.1531 - val_mse_wrapper: 1.1531 - val_ca_wrapper: 0.7756 - val_meandiff: 4.1406 - lr: 1.0000e-04\n",
      "Epoch 42/100\n",
      "26/26 [==============================] - ETA: 0s - loss: 0.3653 - mse_wrapper: 0.3653 - ca_wrapper: 0.8419 - meandiff: 3.1875"
     ]
    },
    {
     "name": "stderr",
     "output_type": "stream",
     "text": [
      "2021-03-02 22:51:33,835 INFO (4, 2, 36, 5)\n",
      "2021-03-02 22:51:34,368 INFO (4, 2, 36, 5)\n"
     ]
    },
    {
     "name": "stdout",
     "output_type": "stream",
     "text": [
      "\n",
      "Epoch 00042: loss improved from 0.36861 to 0.36528, saving model to exp/cv_baseline_finalconv5/8_64_64__8_3_3_tenc64_conv1_MSE_NOnorm_augshiftscalerotbrigthness_taug3_3_batch8_f0/2021-03-02_22_25/model/model.h5\n",
      "26/26 [==============================] - 35s 1s/step - loss: 0.3653 - mse_wrapper: 0.3653 - ca_wrapper: 0.8419 - meandiff: 3.1875 - val_loss: 0.7070 - val_mse_wrapper: 0.7070 - val_ca_wrapper: 0.8116 - val_meandiff: 3.5625 - lr: 1.0000e-04\n",
      "Epoch 43/100\n",
      "26/26 [==============================] - ETA: 0s - loss: 0.3587 - mse_wrapper: 0.3587 - ca_wrapper: 0.8385 - meandiff: 3.1442\n",
      "Epoch 00043: loss improved from 0.36528 to 0.35867, saving model to exp/cv_baseline_finalconv5/8_64_64__8_3_3_tenc64_conv1_MSE_NOnorm_augshiftscalerotbrigthness_taug3_3_batch8_f0/2021-03-02_22_25/model/model.h5\n",
      "26/26 [==============================] - 34s 1s/step - loss: 0.3587 - mse_wrapper: 0.3587 - ca_wrapper: 0.8385 - meandiff: 3.1442 - val_loss: 0.9836 - val_mse_wrapper: 0.9836 - val_ca_wrapper: 0.8086 - val_meandiff: 3.7656 - lr: 1.0000e-04\n",
      "Epoch 44/100\n",
      "26/26 [==============================] - ETA: 0s - loss: 0.3586 - mse_wrapper: 0.3586 - ca_wrapper: 0.8480 - meandiff: 3.1971"
     ]
    },
    {
     "name": "stderr",
     "output_type": "stream",
     "text": [
      "2021-03-02 22:52:46,758 INFO (4, 2, 36, 5)\n",
      "2021-03-02 22:52:47,322 INFO (4, 2, 36, 5)\n"
     ]
    },
    {
     "name": "stdout",
     "output_type": "stream",
     "text": [
      "\n",
      "Epoch 00044: loss improved from 0.35867 to 0.35864, saving model to exp/cv_baseline_finalconv5/8_64_64__8_3_3_tenc64_conv1_MSE_NOnorm_augshiftscalerotbrigthness_taug3_3_batch8_f0/2021-03-02_22_25/model/model.h5\n",
      "26/26 [==============================] - 35s 1s/step - loss: 0.3586 - mse_wrapper: 0.3586 - ca_wrapper: 0.8480 - meandiff: 3.1971 - val_loss: 0.8089 - val_mse_wrapper: 0.8089 - val_ca_wrapper: 0.7999 - val_meandiff: 3.9844 - lr: 1.0000e-04\n",
      "Epoch 45/100\n",
      "26/26 [==============================] - ETA: 0s - loss: 0.3518 - mse_wrapper: 0.3518 - ca_wrapper: 0.8466 - meandiff: 3.0000\n",
      "Epoch 00045: loss improved from 0.35864 to 0.35175, saving model to exp/cv_baseline_finalconv5/8_64_64__8_3_3_tenc64_conv1_MSE_NOnorm_augshiftscalerotbrigthness_taug3_3_batch8_f0/2021-03-02_22_25/model/model.h5\n",
      "26/26 [==============================] - 34s 1s/step - loss: 0.3518 - mse_wrapper: 0.3518 - ca_wrapper: 0.8466 - meandiff: 3.0000 - val_loss: 0.9935 - val_mse_wrapper: 0.9935 - val_ca_wrapper: 0.7973 - val_meandiff: 4.0625 - lr: 1.0000e-04\n",
      "Epoch 46/100\n",
      "26/26 [==============================] - ETA: 0s - loss: 0.3580 - mse_wrapper: 0.3580 - ca_wrapper: 0.8452 - meandiff: 2.9375"
     ]
    },
    {
     "name": "stderr",
     "output_type": "stream",
     "text": [
      "2021-03-02 22:53:59,973 INFO (4, 2, 36, 5)\n",
      "2021-03-02 22:54:00,506 INFO (4, 2, 36, 5)\n"
     ]
    },
    {
     "name": "stdout",
     "output_type": "stream",
     "text": [
      "\n",
      "Epoch 00046: loss did not improve from 0.35175\n",
      "26/26 [==============================] - 35s 1s/step - loss: 0.3580 - mse_wrapper: 0.3580 - ca_wrapper: 0.8452 - meandiff: 2.9375 - val_loss: 0.9016 - val_mse_wrapper: 0.9016 - val_ca_wrapper: 0.8051 - val_meandiff: 4.3594 - lr: 1.0000e-04\n",
      "Epoch 47/100\n",
      "26/26 [==============================] - ETA: 0s - loss: 0.3702 - mse_wrapper: 0.3702 - ca_wrapper: 0.8409 - meandiff: 3.3462\n",
      "Epoch 00047: loss did not improve from 0.35175\n",
      "26/26 [==============================] - 34s 1s/step - loss: 0.3702 - mse_wrapper: 0.3702 - ca_wrapper: 0.8409 - meandiff: 3.3462 - val_loss: 0.7506 - val_mse_wrapper: 0.7506 - val_ca_wrapper: 0.7648 - val_meandiff: 4.3281 - lr: 1.0000e-04\n",
      "Epoch 48/100\n",
      "26/26 [==============================] - ETA: 0s - loss: 0.3573 - mse_wrapper: 0.3573 - ca_wrapper: 0.8442 - meandiff: 3.0625"
     ]
    },
    {
     "name": "stderr",
     "output_type": "stream",
     "text": [
      "2021-03-02 22:55:12,986 INFO (4, 2, 36, 5)\n",
      "2021-03-02 22:55:13,575 INFO (4, 2, 36, 5)\n"
     ]
    },
    {
     "name": "stdout",
     "output_type": "stream",
     "text": [
      "\n",
      "Epoch 00048: loss did not improve from 0.35175\n",
      "26/26 [==============================] - 35s 1s/step - loss: 0.3573 - mse_wrapper: 0.3573 - ca_wrapper: 0.8442 - meandiff: 3.0625 - val_loss: 1.1208 - val_mse_wrapper: 1.1208 - val_ca_wrapper: 0.7747 - val_meandiff: 3.8750 - lr: 1.0000e-04\n",
      "Epoch 49/100\n",
      "26/26 [==============================] - ETA: 0s - loss: 0.3501 - mse_wrapper: 0.3501 - ca_wrapper: 0.8522 - meandiff: 3.0385\n",
      "Epoch 00049: loss improved from 0.35175 to 0.35014, saving model to exp/cv_baseline_finalconv5/8_64_64__8_3_3_tenc64_conv1_MSE_NOnorm_augshiftscalerotbrigthness_taug3_3_batch8_f0/2021-03-02_22_25/model/model.h5\n",
      "26/26 [==============================] - 34s 1s/step - loss: 0.3501 - mse_wrapper: 0.3501 - ca_wrapper: 0.8522 - meandiff: 3.0385 - val_loss: 0.8218 - val_mse_wrapper: 0.8218 - val_ca_wrapper: 0.8234 - val_meandiff: 3.7812 - lr: 1.0000e-04\n",
      "Epoch 50/100\n",
      "26/26 [==============================] - ETA: 0s - loss: 0.3348 - mse_wrapper: 0.3348 - ca_wrapper: 0.8468 - meandiff: 2.8317"
     ]
    },
    {
     "name": "stderr",
     "output_type": "stream",
     "text": [
      "2021-03-02 22:56:26,609 INFO (4, 2, 36, 5)\n",
      "2021-03-02 22:56:27,143 INFO (4, 2, 36, 5)\n"
     ]
    },
    {
     "name": "stdout",
     "output_type": "stream",
     "text": [
      "\n",
      "Epoch 00050: loss improved from 0.35014 to 0.33481, saving model to exp/cv_baseline_finalconv5/8_64_64__8_3_3_tenc64_conv1_MSE_NOnorm_augshiftscalerotbrigthness_taug3_3_batch8_f0/2021-03-02_22_25/model/model.h5\n",
      "26/26 [==============================] - 35s 1s/step - loss: 0.3348 - mse_wrapper: 0.3348 - ca_wrapper: 0.8468 - meandiff: 2.8317 - val_loss: 1.0537 - val_mse_wrapper: 1.0537 - val_ca_wrapper: 0.8103 - val_meandiff: 3.8906 - lr: 1.0000e-04\n",
      "Epoch 51/100\n",
      "26/26 [==============================] - ETA: 0s - loss: 0.3441 - mse_wrapper: 0.3441 - ca_wrapper: 0.8389 - meandiff: 3.0577\n",
      "Epoch 00051: loss did not improve from 0.33481\n",
      "26/26 [==============================] - 34s 1s/step - loss: 0.3441 - mse_wrapper: 0.3441 - ca_wrapper: 0.8389 - meandiff: 3.0577 - val_loss: 1.1883 - val_mse_wrapper: 1.1883 - val_ca_wrapper: 0.7947 - val_meandiff: 3.5938 - lr: 1.0000e-04\n",
      "Epoch 52/100\n",
      "26/26 [==============================] - ETA: 0s - loss: 0.3493 - mse_wrapper: 0.3493 - ca_wrapper: 0.8407 - meandiff: 3.1154"
     ]
    },
    {
     "name": "stderr",
     "output_type": "stream",
     "text": [
      "2021-03-02 22:57:39,573 INFO (4, 2, 36, 5)\n",
      "2021-03-02 22:57:40,130 INFO (4, 2, 36, 5)\n"
     ]
    },
    {
     "name": "stdout",
     "output_type": "stream",
     "text": [
      "\n",
      "Epoch 00052: loss did not improve from 0.33481\n",
      "26/26 [==============================] - 35s 1s/step - loss: 0.3493 - mse_wrapper: 0.3493 - ca_wrapper: 0.8407 - meandiff: 3.1154 - val_loss: 1.0731 - val_mse_wrapper: 1.0731 - val_ca_wrapper: 0.8051 - val_meandiff: 3.9531 - lr: 1.0000e-04\n",
      "Epoch 53/100\n",
      "26/26 [==============================] - ETA: 0s - loss: 0.3389 - mse_wrapper: 0.3389 - ca_wrapper: 0.8456 - meandiff: 2.9856\n",
      "Epoch 00053: loss did not improve from 0.33481\n",
      "26/26 [==============================] - 34s 1s/step - loss: 0.3389 - mse_wrapper: 0.3389 - ca_wrapper: 0.8456 - meandiff: 2.9856 - val_loss: 0.9916 - val_mse_wrapper: 0.9916 - val_ca_wrapper: 0.7951 - val_meandiff: 3.8438 - lr: 1.0000e-04\n",
      "Epoch 54/100\n",
      "26/26 [==============================] - ETA: 0s - loss: 0.3285 - mse_wrapper: 0.3285 - ca_wrapper: 0.8538 - meandiff: 2.6587"
     ]
    },
    {
     "name": "stderr",
     "output_type": "stream",
     "text": [
      "2021-03-02 22:58:52,867 INFO (4, 2, 36, 5)\n",
      "2021-03-02 22:58:53,397 INFO (4, 2, 36, 5)\n"
     ]
    },
    {
     "name": "stdout",
     "output_type": "stream",
     "text": [
      "\n",
      "Epoch 00054: loss improved from 0.33481 to 0.32853, saving model to exp/cv_baseline_finalconv5/8_64_64__8_3_3_tenc64_conv1_MSE_NOnorm_augshiftscalerotbrigthness_taug3_3_batch8_f0/2021-03-02_22_25/model/model.h5\n",
      "26/26 [==============================] - 35s 1s/step - loss: 0.3285 - mse_wrapper: 0.3285 - ca_wrapper: 0.8538 - meandiff: 2.6587 - val_loss: 1.0285 - val_mse_wrapper: 1.0285 - val_ca_wrapper: 0.8003 - val_meandiff: 3.7188 - lr: 1.0000e-04\n",
      "Epoch 55/100\n",
      "26/26 [==============================] - ETA: 0s - loss: 0.3276 - mse_wrapper: 0.3276 - ca_wrapper: 0.8558 - meandiff: 2.6827\n",
      "Epoch 00055: loss improved from 0.32853 to 0.32763, saving model to exp/cv_baseline_finalconv5/8_64_64__8_3_3_tenc64_conv1_MSE_NOnorm_augshiftscalerotbrigthness_taug3_3_batch8_f0/2021-03-02_22_25/model/model.h5\n",
      "26/26 [==============================] - 34s 1s/step - loss: 0.3276 - mse_wrapper: 0.3276 - ca_wrapper: 0.8558 - meandiff: 2.6827 - val_loss: 1.0276 - val_mse_wrapper: 1.0276 - val_ca_wrapper: 0.7843 - val_meandiff: 3.9531 - lr: 1.0000e-04\n",
      "Epoch 56/100\n",
      "26/26 [==============================] - ETA: 0s - loss: 0.3206 - mse_wrapper: 0.3206 - ca_wrapper: 0.8551 - meandiff: 2.7740"
     ]
    },
    {
     "name": "stderr",
     "output_type": "stream",
     "text": [
      "2021-03-02 23:00:06,853 INFO (4, 2, 36, 5)\n",
      "2021-03-02 23:00:07,411 INFO (4, 2, 36, 5)\n"
     ]
    },
    {
     "name": "stdout",
     "output_type": "stream",
     "text": [
      "\n",
      "Epoch 00056: loss improved from 0.32763 to 0.32059, saving model to exp/cv_baseline_finalconv5/8_64_64__8_3_3_tenc64_conv1_MSE_NOnorm_augshiftscalerotbrigthness_taug3_3_batch8_f0/2021-03-02_22_25/model/model.h5\n",
      "26/26 [==============================] - 35s 1s/step - loss: 0.3206 - mse_wrapper: 0.3206 - ca_wrapper: 0.8551 - meandiff: 2.7740 - val_loss: 1.3483 - val_mse_wrapper: 1.3483 - val_ca_wrapper: 0.7526 - val_meandiff: 4.0000 - lr: 1.0000e-04\n",
      "Epoch 57/100\n",
      "26/26 [==============================] - ETA: 0s - loss: 0.3160 - mse_wrapper: 0.3160 - ca_wrapper: 0.8510 - meandiff: 2.6779\n",
      "Epoch 00057: loss improved from 0.32059 to 0.31598, saving model to exp/cv_baseline_finalconv5/8_64_64__8_3_3_tenc64_conv1_MSE_NOnorm_augshiftscalerotbrigthness_taug3_3_batch8_f0/2021-03-02_22_25/model/model.h5\n",
      "26/26 [==============================] - 34s 1s/step - loss: 0.3160 - mse_wrapper: 0.3160 - ca_wrapper: 0.8510 - meandiff: 2.6779 - val_loss: 1.1588 - val_mse_wrapper: 1.1588 - val_ca_wrapper: 0.8043 - val_meandiff: 4.1094 - lr: 1.0000e-04\n",
      "Epoch 58/100\n",
      "26/26 [==============================] - ETA: 0s - loss: 0.3116 - mse_wrapper: 0.3116 - ca_wrapper: 0.8479 - meandiff: 2.6106"
     ]
    },
    {
     "name": "stderr",
     "output_type": "stream",
     "text": [
      "2021-03-02 23:01:20,045 INFO (4, 2, 36, 5)\n",
      "2021-03-02 23:01:20,613 INFO (4, 2, 36, 5)\n"
     ]
    },
    {
     "name": "stdout",
     "output_type": "stream",
     "text": [
      "\n",
      "Epoch 00058: loss improved from 0.31598 to 0.31157, saving model to exp/cv_baseline_finalconv5/8_64_64__8_3_3_tenc64_conv1_MSE_NOnorm_augshiftscalerotbrigthness_taug3_3_batch8_f0/2021-03-02_22_25/model/model.h5\n",
      "26/26 [==============================] - 35s 1s/step - loss: 0.3116 - mse_wrapper: 0.3116 - ca_wrapper: 0.8479 - meandiff: 2.6106 - val_loss: 0.7006 - val_mse_wrapper: 0.7006 - val_ca_wrapper: 0.8003 - val_meandiff: 3.8750 - lr: 1.0000e-04\n",
      "Epoch 59/100\n",
      "26/26 [==============================] - ETA: 0s - loss: 0.3072 - mse_wrapper: 0.3072 - ca_wrapper: 0.8598 - meandiff: 2.7019\n",
      "Epoch 00059: loss improved from 0.31157 to 0.30719, saving model to exp/cv_baseline_finalconv5/8_64_64__8_3_3_tenc64_conv1_MSE_NOnorm_augshiftscalerotbrigthness_taug3_3_batch8_f0/2021-03-02_22_25/model/model.h5\n",
      "26/26 [==============================] - 34s 1s/step - loss: 0.3072 - mse_wrapper: 0.3072 - ca_wrapper: 0.8598 - meandiff: 2.7019 - val_loss: 1.2817 - val_mse_wrapper: 1.2817 - val_ca_wrapper: 0.7669 - val_meandiff: 3.7656 - lr: 1.0000e-04\n",
      "Epoch 60/100\n",
      "26/26 [==============================] - ETA: 0s - loss: 0.3438 - mse_wrapper: 0.3438 - ca_wrapper: 0.8403 - meandiff: 2.9904"
     ]
    },
    {
     "name": "stderr",
     "output_type": "stream",
     "text": [
      "2021-03-02 23:02:33,120 INFO (4, 2, 36, 5)\n",
      "2021-03-02 23:02:33,647 INFO (4, 2, 36, 5)\n"
     ]
    },
    {
     "name": "stdout",
     "output_type": "stream",
     "text": [
      "\n",
      "Epoch 00060: loss did not improve from 0.30719\n",
      "26/26 [==============================] - 35s 1s/step - loss: 0.3438 - mse_wrapper: 0.3438 - ca_wrapper: 0.8403 - meandiff: 2.9904 - val_loss: 0.7993 - val_mse_wrapper: 0.7993 - val_ca_wrapper: 0.8047 - val_meandiff: 3.9062 - lr: 1.0000e-04\n",
      "Epoch 61/100\n",
      "26/26 [==============================] - ETA: 0s - loss: 0.3198 - mse_wrapper: 0.3198 - ca_wrapper: 0.8550 - meandiff: 2.8077\n",
      "Epoch 00061: loss did not improve from 0.30719\n",
      "26/26 [==============================] - 34s 1s/step - loss: 0.3198 - mse_wrapper: 0.3198 - ca_wrapper: 0.8550 - meandiff: 2.8077 - val_loss: 0.6628 - val_mse_wrapper: 0.6628 - val_ca_wrapper: 0.7899 - val_meandiff: 3.9062 - lr: 1.0000e-04\n",
      "Epoch 62/100\n",
      "26/26 [==============================] - ETA: 0s - loss: 0.3150 - mse_wrapper: 0.3150 - ca_wrapper: 0.8574 - meandiff: 2.6538"
     ]
    },
    {
     "name": "stderr",
     "output_type": "stream",
     "text": [
      "2021-03-02 23:03:45,798 INFO (4, 2, 36, 5)\n",
      "2021-03-02 23:03:46,334 INFO (4, 2, 36, 5)\n"
     ]
    },
    {
     "name": "stdout",
     "output_type": "stream",
     "text": [
      "\n",
      "Epoch 00062: loss did not improve from 0.30719\n",
      "26/26 [==============================] - 35s 1s/step - loss: 0.3150 - mse_wrapper: 0.3150 - ca_wrapper: 0.8574 - meandiff: 2.6538 - val_loss: 0.9304 - val_mse_wrapper: 0.9304 - val_ca_wrapper: 0.7852 - val_meandiff: 3.8750 - lr: 1.0000e-04\n",
      "Epoch 63/100\n",
      "26/26 [==============================] - ETA: 0s - loss: 0.3031 - mse_wrapper: 0.3031 - ca_wrapper: 0.8564 - meandiff: 2.4808\n",
      "Epoch 00063: loss improved from 0.30719 to 0.30305, saving model to exp/cv_baseline_finalconv5/8_64_64__8_3_3_tenc64_conv1_MSE_NOnorm_augshiftscalerotbrigthness_taug3_3_batch8_f0/2021-03-02_22_25/model/model.h5\n",
      "26/26 [==============================] - 34s 1s/step - loss: 0.3031 - mse_wrapper: 0.3031 - ca_wrapper: 0.8564 - meandiff: 2.4808 - val_loss: 0.9293 - val_mse_wrapper: 0.9293 - val_ca_wrapper: 0.7830 - val_meandiff: 3.7656 - lr: 1.0000e-04\n",
      "Epoch 64/100\n",
      "26/26 [==============================] - ETA: 0s - loss: 0.3045 - mse_wrapper: 0.3045 - ca_wrapper: 0.8523 - meandiff: 2.6827"
     ]
    },
    {
     "name": "stderr",
     "output_type": "stream",
     "text": [
      "2021-03-02 23:04:59,354 INFO (4, 2, 36, 5)\n",
      "2021-03-02 23:04:59,942 INFO (4, 2, 36, 5)\n"
     ]
    },
    {
     "name": "stdout",
     "output_type": "stream",
     "text": [
      "\n",
      "Epoch 00064: loss did not improve from 0.30305\n",
      "26/26 [==============================] - 36s 1s/step - loss: 0.3045 - mse_wrapper: 0.3045 - ca_wrapper: 0.8523 - meandiff: 2.6827 - val_loss: 0.7015 - val_mse_wrapper: 0.7015 - val_ca_wrapper: 0.7869 - val_meandiff: 4.1094 - lr: 1.0000e-04\n",
      "Epoch 65/100\n",
      "26/26 [==============================] - ETA: 0s - loss: 0.2972 - mse_wrapper: 0.2972 - ca_wrapper: 0.8600 - meandiff: 2.4183\n",
      "Epoch 00065: loss improved from 0.30305 to 0.29719, saving model to exp/cv_baseline_finalconv5/8_64_64__8_3_3_tenc64_conv1_MSE_NOnorm_augshiftscalerotbrigthness_taug3_3_batch8_f0/2021-03-02_22_25/model/model.h5\n",
      "26/26 [==============================] - 34s 1s/step - loss: 0.2972 - mse_wrapper: 0.2972 - ca_wrapper: 0.8600 - meandiff: 2.4183 - val_loss: 0.9971 - val_mse_wrapper: 0.9971 - val_ca_wrapper: 0.7639 - val_meandiff: 4.1562 - lr: 1.0000e-04\n",
      "Epoch 66/100\n",
      "26/26 [==============================] - ETA: 0s - loss: 0.2978 - mse_wrapper: 0.2978 - ca_wrapper: 0.8532 - meandiff: 2.6394"
     ]
    },
    {
     "name": "stderr",
     "output_type": "stream",
     "text": [
      "2021-03-02 23:06:12,553 INFO (4, 2, 36, 5)\n",
      "2021-03-02 23:06:13,113 INFO (4, 2, 36, 5)\n"
     ]
    },
    {
     "name": "stdout",
     "output_type": "stream",
     "text": [
      "\n",
      "Epoch 00066: loss did not improve from 0.29719\n",
      "26/26 [==============================] - 35s 1s/step - loss: 0.2978 - mse_wrapper: 0.2978 - ca_wrapper: 0.8532 - meandiff: 2.6394 - val_loss: 0.7231 - val_mse_wrapper: 0.7231 - val_ca_wrapper: 0.7943 - val_meandiff: 4.0156 - lr: 1.0000e-04\n",
      "Epoch 67/100\n",
      "26/26 [==============================] - ETA: 0s - loss: 0.3036 - mse_wrapper: 0.3036 - ca_wrapper: 0.8649 - meandiff: 2.5577\n",
      "Epoch 00067: loss did not improve from 0.29719\n",
      "26/26 [==============================] - 34s 1s/step - loss: 0.3036 - mse_wrapper: 0.3036 - ca_wrapper: 0.8649 - meandiff: 2.5577 - val_loss: 1.0345 - val_mse_wrapper: 1.0345 - val_ca_wrapper: 0.7934 - val_meandiff: 3.7969 - lr: 1.0000e-04\n",
      "Epoch 68/100\n",
      "26/26 [==============================] - ETA: 0s - loss: 0.3078 - mse_wrapper: 0.3078 - ca_wrapper: 0.8442 - meandiff: 2.5865"
     ]
    },
    {
     "name": "stderr",
     "output_type": "stream",
     "text": [
      "2021-03-02 23:07:25,711 INFO (4, 2, 36, 5)\n",
      "2021-03-02 23:07:26,274 INFO (4, 2, 36, 5)\n"
     ]
    },
    {
     "name": "stdout",
     "output_type": "stream",
     "text": [
      "\n",
      "Epoch 00068: loss did not improve from 0.29719\n",
      "26/26 [==============================] - 35s 1s/step - loss: 0.3078 - mse_wrapper: 0.3078 - ca_wrapper: 0.8442 - meandiff: 2.5865 - val_loss: 0.8228 - val_mse_wrapper: 0.8228 - val_ca_wrapper: 0.8056 - val_meandiff: 3.7656 - lr: 1.0000e-04\n",
      "Epoch 69/100\n",
      "26/26 [==============================] - ETA: 0s - loss: 0.2975 - mse_wrapper: 0.2975 - ca_wrapper: 0.8544 - meandiff: 2.3365\n",
      "Epoch 00069: loss did not improve from 0.29719\n",
      "26/26 [==============================] - 34s 1s/step - loss: 0.2975 - mse_wrapper: 0.2975 - ca_wrapper: 0.8544 - meandiff: 2.3365 - val_loss: 1.2549 - val_mse_wrapper: 1.2549 - val_ca_wrapper: 0.8051 - val_meandiff: 3.6875 - lr: 1.0000e-04\n",
      "Epoch 70/100\n",
      "26/26 [==============================] - ETA: 0s - loss: 0.2955 - mse_wrapper: 0.2955 - ca_wrapper: 0.8531 - meandiff: 2.4856"
     ]
    },
    {
     "name": "stderr",
     "output_type": "stream",
     "text": [
      "2021-03-02 23:08:39,260 INFO (4, 2, 36, 5)\n",
      "2021-03-02 23:08:39,831 INFO (4, 2, 36, 5)\n"
     ]
    },
    {
     "name": "stdout",
     "output_type": "stream",
     "text": [
      "\n",
      "Epoch 00070: loss improved from 0.29719 to 0.29554, saving model to exp/cv_baseline_finalconv5/8_64_64__8_3_3_tenc64_conv1_MSE_NOnorm_augshiftscalerotbrigthness_taug3_3_batch8_f0/2021-03-02_22_25/model/model.h5\n",
      "26/26 [==============================] - 35s 1s/step - loss: 0.2955 - mse_wrapper: 0.2955 - ca_wrapper: 0.8531 - meandiff: 2.4856 - val_loss: 0.9700 - val_mse_wrapper: 0.9700 - val_ca_wrapper: 0.8082 - val_meandiff: 3.6406 - lr: 1.0000e-04\n",
      "Epoch 71/100\n",
      "26/26 [==============================] - ETA: 0s - loss: 0.2836 - mse_wrapper: 0.2836 - ca_wrapper: 0.8558 - meandiff: 2.1827\n",
      "Epoch 00071: loss improved from 0.29554 to 0.28357, saving model to exp/cv_baseline_finalconv5/8_64_64__8_3_3_tenc64_conv1_MSE_NOnorm_augshiftscalerotbrigthness_taug3_3_batch8_f0/2021-03-02_22_25/model/model.h5\n",
      "26/26 [==============================] - 34s 1s/step - loss: 0.2836 - mse_wrapper: 0.2836 - ca_wrapper: 0.8558 - meandiff: 2.1827 - val_loss: 0.8802 - val_mse_wrapper: 0.8802 - val_ca_wrapper: 0.8051 - val_meandiff: 3.9062 - lr: 1.0000e-04\n",
      "Epoch 72/100\n",
      "26/26 [==============================] - ETA: 0s - loss: 0.2920 - mse_wrapper: 0.2920 - ca_wrapper: 0.8588 - meandiff: 2.2212"
     ]
    },
    {
     "name": "stderr",
     "output_type": "stream",
     "text": [
      "2021-03-02 23:09:52,302 INFO (4, 2, 36, 5)\n",
      "2021-03-02 23:09:52,835 INFO (4, 2, 36, 5)\n"
     ]
    },
    {
     "name": "stdout",
     "output_type": "stream",
     "text": [
      "\n",
      "Epoch 00072: loss did not improve from 0.28357\n",
      "26/26 [==============================] - 35s 1s/step - loss: 0.2920 - mse_wrapper: 0.2920 - ca_wrapper: 0.8588 - meandiff: 2.2212 - val_loss: 0.8496 - val_mse_wrapper: 0.8496 - val_ca_wrapper: 0.8116 - val_meandiff: 3.7344 - lr: 1.0000e-04\n",
      "Epoch 73/100\n",
      "26/26 [==============================] - ETA: 0s - loss: 0.2758 - mse_wrapper: 0.2758 - ca_wrapper: 0.8614 - meandiff: 2.3413\n",
      "Epoch 00073: loss improved from 0.28357 to 0.27576, saving model to exp/cv_baseline_finalconv5/8_64_64__8_3_3_tenc64_conv1_MSE_NOnorm_augshiftscalerotbrigthness_taug3_3_batch8_f0/2021-03-02_22_25/model/model.h5\n",
      "26/26 [==============================] - 34s 1s/step - loss: 0.2758 - mse_wrapper: 0.2758 - ca_wrapper: 0.8614 - meandiff: 2.3413 - val_loss: 1.0452 - val_mse_wrapper: 1.0452 - val_ca_wrapper: 0.7865 - val_meandiff: 4.0312 - lr: 1.0000e-04\n",
      "Epoch 74/100\n",
      "26/26 [==============================] - ETA: 0s - loss: 0.2817 - mse_wrapper: 0.2817 - ca_wrapper: 0.8659 - meandiff: 2.3077"
     ]
    },
    {
     "name": "stderr",
     "output_type": "stream",
     "text": [
      "2021-03-02 23:11:05,167 INFO (4, 2, 36, 5)\n",
      "2021-03-02 23:11:05,700 INFO (4, 2, 36, 5)\n"
     ]
    },
    {
     "name": "stdout",
     "output_type": "stream",
     "text": [
      "\n",
      "Epoch 00074: loss did not improve from 0.27576\n",
      "26/26 [==============================] - 35s 1s/step - loss: 0.2817 - mse_wrapper: 0.2817 - ca_wrapper: 0.8659 - meandiff: 2.3077 - val_loss: 1.0015 - val_mse_wrapper: 1.0015 - val_ca_wrapper: 0.7999 - val_meandiff: 3.6406 - lr: 1.0000e-04\n",
      "Epoch 75/100\n",
      "26/26 [==============================] - ETA: 0s - loss: 0.2823 - mse_wrapper: 0.2823 - ca_wrapper: 0.8564 - meandiff: 2.4327\n",
      "Epoch 00075: loss did not improve from 0.27576\n",
      "26/26 [==============================] - 34s 1s/step - loss: 0.2823 - mse_wrapper: 0.2823 - ca_wrapper: 0.8564 - meandiff: 2.4327 - val_loss: 0.8695 - val_mse_wrapper: 0.8695 - val_ca_wrapper: 0.7830 - val_meandiff: 3.9844 - lr: 1.0000e-04\n",
      "Epoch 76/100\n",
      "26/26 [==============================] - ETA: 0s - loss: 0.2987 - mse_wrapper: 0.2987 - ca_wrapper: 0.8542 - meandiff: 2.4038"
     ]
    },
    {
     "name": "stderr",
     "output_type": "stream",
     "text": [
      "2021-03-02 23:12:18,201 INFO (4, 2, 36, 5)\n",
      "2021-03-02 23:12:18,761 INFO (4, 2, 36, 5)\n"
     ]
    },
    {
     "name": "stdout",
     "output_type": "stream",
     "text": [
      "\n",
      "Epoch 00076: loss did not improve from 0.27576\n",
      "26/26 [==============================] - 35s 1s/step - loss: 0.2987 - mse_wrapper: 0.2987 - ca_wrapper: 0.8542 - meandiff: 2.4038 - val_loss: 0.8694 - val_mse_wrapper: 0.8694 - val_ca_wrapper: 0.7821 - val_meandiff: 3.8438 - lr: 1.0000e-04\n",
      "Epoch 77/100\n",
      "26/26 [==============================] - ETA: 0s - loss: 0.2819 - mse_wrapper: 0.2819 - ca_wrapper: 0.8511 - meandiff: 2.2019\n",
      "Epoch 00077: loss did not improve from 0.27576\n",
      "26/26 [==============================] - 34s 1s/step - loss: 0.2819 - mse_wrapper: 0.2819 - ca_wrapper: 0.8511 - meandiff: 2.2019 - val_loss: 1.1423 - val_mse_wrapper: 1.1423 - val_ca_wrapper: 0.7630 - val_meandiff: 3.7969 - lr: 1.0000e-04\n",
      "Epoch 78/100\n",
      "26/26 [==============================] - ETA: 0s - loss: 0.2784 - mse_wrapper: 0.2784 - ca_wrapper: 0.8596 - meandiff: 2.3990"
     ]
    },
    {
     "name": "stderr",
     "output_type": "stream",
     "text": [
      "2021-03-02 23:13:30,971 INFO (4, 2, 36, 5)\n",
      "2021-03-02 23:13:31,541 INFO (4, 2, 36, 5)\n"
     ]
    },
    {
     "name": "stdout",
     "output_type": "stream",
     "text": [
      "\n",
      "Epoch 00078: loss did not improve from 0.27576\n",
      "\n",
      "Epoch 00078: ReduceLROnPlateau reducing learning rate to 6.999999823165126e-05.\n",
      "26/26 [==============================] - 35s 1s/step - loss: 0.2784 - mse_wrapper: 0.2784 - ca_wrapper: 0.8596 - meandiff: 2.3990 - val_loss: 1.1630 - val_mse_wrapper: 1.1630 - val_ca_wrapper: 0.7804 - val_meandiff: 3.7812 - lr: 7.0000e-05\n",
      "Epoch 79/100\n",
      "26/26 [==============================] - ETA: 0s - loss: 0.2767 - mse_wrapper: 0.2767 - ca_wrapper: 0.8551 - meandiff: 2.2596\n",
      "Epoch 00079: loss did not improve from 0.27576\n",
      "26/26 [==============================] - 34s 1s/step - loss: 0.2767 - mse_wrapper: 0.2767 - ca_wrapper: 0.8551 - meandiff: 2.2596 - val_loss: 0.9007 - val_mse_wrapper: 0.9007 - val_ca_wrapper: 0.7947 - val_meandiff: 3.9219 - lr: 7.0000e-05\n",
      "Epoch 80/100\n",
      "26/26 [==============================] - ETA: 0s - loss: 0.2583 - mse_wrapper: 0.2583 - ca_wrapper: 0.8697 - meandiff: 2.0625"
     ]
    },
    {
     "name": "stderr",
     "output_type": "stream",
     "text": [
      "2021-03-02 23:14:43,997 INFO (4, 2, 36, 5)\n",
      "2021-03-02 23:14:44,571 INFO (4, 2, 36, 5)\n"
     ]
    },
    {
     "name": "stdout",
     "output_type": "stream",
     "text": [
      "\n",
      "Epoch 00080: loss improved from 0.27576 to 0.25828, saving model to exp/cv_baseline_finalconv5/8_64_64__8_3_3_tenc64_conv1_MSE_NOnorm_augshiftscalerotbrigthness_taug3_3_batch8_f0/2021-03-02_22_25/model/model.h5\n",
      "26/26 [==============================] - 35s 1s/step - loss: 0.2583 - mse_wrapper: 0.2583 - ca_wrapper: 0.8697 - meandiff: 2.0625 - val_loss: 1.0759 - val_mse_wrapper: 1.0759 - val_ca_wrapper: 0.7730 - val_meandiff: 3.8906 - lr: 7.0000e-05\n",
      "Epoch 81/100\n",
      "26/26 [==============================] - ETA: 0s - loss: 0.2481 - mse_wrapper: 0.2481 - ca_wrapper: 0.8678 - meandiff: 2.0673\n",
      "Epoch 00081: loss improved from 0.25828 to 0.24813, saving model to exp/cv_baseline_finalconv5/8_64_64__8_3_3_tenc64_conv1_MSE_NOnorm_augshiftscalerotbrigthness_taug3_3_batch8_f0/2021-03-02_22_25/model/model.h5\n",
      "26/26 [==============================] - 34s 1s/step - loss: 0.2481 - mse_wrapper: 0.2481 - ca_wrapper: 0.8678 - meandiff: 2.0673 - val_loss: 0.8959 - val_mse_wrapper: 0.8959 - val_ca_wrapper: 0.7982 - val_meandiff: 3.7812 - lr: 7.0000e-05\n",
      "Epoch 82/100\n",
      "26/26 [==============================] - ETA: 0s - loss: 0.2447 - mse_wrapper: 0.2447 - ca_wrapper: 0.8681 - meandiff: 1.8750"
     ]
    },
    {
     "name": "stderr",
     "output_type": "stream",
     "text": [
      "2021-03-02 23:15:56,884 INFO (4, 2, 36, 5)\n",
      "2021-03-02 23:15:57,981 INFO (4, 2, 36, 5)\n"
     ]
    },
    {
     "name": "stdout",
     "output_type": "stream",
     "text": [
      "\n",
      "Epoch 00082: loss improved from 0.24813 to 0.24471, saving model to exp/cv_baseline_finalconv5/8_64_64__8_3_3_tenc64_conv1_MSE_NOnorm_augshiftscalerotbrigthness_taug3_3_batch8_f0/2021-03-02_22_25/model/model.h5\n",
      "26/26 [==============================] - 36s 1s/step - loss: 0.2447 - mse_wrapper: 0.2447 - ca_wrapper: 0.8681 - meandiff: 1.8750 - val_loss: 1.2545 - val_mse_wrapper: 1.2545 - val_ca_wrapper: 0.7960 - val_meandiff: 3.8125 - lr: 7.0000e-05\n",
      "Epoch 83/100\n",
      "26/26 [==============================] - ETA: 0s - loss: 0.2627 - mse_wrapper: 0.2627 - ca_wrapper: 0.8586 - meandiff: 1.9856\n",
      "Epoch 00083: loss did not improve from 0.24471\n",
      "26/26 [==============================] - 34s 1s/step - loss: 0.2627 - mse_wrapper: 0.2627 - ca_wrapper: 0.8586 - meandiff: 1.9856 - val_loss: 0.8499 - val_mse_wrapper: 0.8499 - val_ca_wrapper: 0.8021 - val_meandiff: 3.8281 - lr: 7.0000e-05\n",
      "Epoch 84/100\n",
      "26/26 [==============================] - ETA: 0s - loss: 0.2460 - mse_wrapper: 0.2460 - ca_wrapper: 0.8602 - meandiff: 2.0048"
     ]
    },
    {
     "name": "stderr",
     "output_type": "stream",
     "text": [
      "2021-03-02 23:17:10,453 INFO (4, 2, 36, 5)\n",
      "2021-03-02 23:17:11,019 INFO (4, 2, 36, 5)\n"
     ]
    },
    {
     "name": "stdout",
     "output_type": "stream",
     "text": [
      "\n",
      "Epoch 00084: loss did not improve from 0.24471\n",
      "26/26 [==============================] - 35s 1s/step - loss: 0.2460 - mse_wrapper: 0.2460 - ca_wrapper: 0.8602 - meandiff: 2.0048 - val_loss: 1.3514 - val_mse_wrapper: 1.3514 - val_ca_wrapper: 0.7882 - val_meandiff: 3.9375 - lr: 7.0000e-05\n",
      "Epoch 85/100\n",
      "26/26 [==============================] - ETA: 0s - loss: 0.2576 - mse_wrapper: 0.2576 - ca_wrapper: 0.8540 - meandiff: 2.1635\n",
      "Epoch 00085: loss did not improve from 0.24471\n",
      "26/26 [==============================] - 34s 1s/step - loss: 0.2576 - mse_wrapper: 0.2576 - ca_wrapper: 0.8540 - meandiff: 2.1635 - val_loss: 1.0167 - val_mse_wrapper: 1.0167 - val_ca_wrapper: 0.8142 - val_meandiff: 3.9531 - lr: 7.0000e-05\n",
      "Epoch 86/100\n",
      "26/26 [==============================] - ETA: 0s - loss: 0.2496 - mse_wrapper: 0.2496 - ca_wrapper: 0.8674 - meandiff: 1.9519"
     ]
    },
    {
     "name": "stderr",
     "output_type": "stream",
     "text": [
      "2021-03-02 23:18:23,476 INFO (4, 2, 36, 5)\n",
      "2021-03-02 23:18:24,066 INFO (4, 2, 36, 5)\n"
     ]
    },
    {
     "name": "stdout",
     "output_type": "stream",
     "text": [
      "\n",
      "Epoch 00086: loss did not improve from 0.24471\n",
      "26/26 [==============================] - 35s 1s/step - loss: 0.2496 - mse_wrapper: 0.2496 - ca_wrapper: 0.8674 - meandiff: 1.9519 - val_loss: 0.7770 - val_mse_wrapper: 0.7770 - val_ca_wrapper: 0.7817 - val_meandiff: 3.7344 - lr: 7.0000e-05\n",
      "Epoch 87/100\n",
      "26/26 [==============================] - ETA: 0s - loss: 0.2555 - mse_wrapper: 0.2555 - ca_wrapper: 0.8550 - meandiff: 1.8894\n",
      "Epoch 00087: loss did not improve from 0.24471\n",
      "\n",
      "Epoch 00087: ReduceLROnPlateau reducing learning rate to 4.899999621557071e-05.\n",
      "26/26 [==============================] - 34s 1s/step - loss: 0.2555 - mse_wrapper: 0.2555 - ca_wrapper: 0.8550 - meandiff: 1.8894 - val_loss: 0.8742 - val_mse_wrapper: 0.8742 - val_ca_wrapper: 0.7938 - val_meandiff: 3.7344 - lr: 4.9000e-05\n",
      "Epoch 88/100\n",
      "26/26 [==============================] - ETA: 0s - loss: 0.2340 - mse_wrapper: 0.2340 - ca_wrapper: 0.8699 - meandiff: 1.7740"
     ]
    },
    {
     "name": "stderr",
     "output_type": "stream",
     "text": [
      "2021-03-02 23:19:36,746 INFO (4, 2, 36, 5)\n",
      "2021-03-02 23:19:37,310 INFO (4, 2, 36, 5)\n"
     ]
    },
    {
     "name": "stdout",
     "output_type": "stream",
     "text": [
      "\n",
      "Epoch 00088: loss improved from 0.24471 to 0.23401, saving model to exp/cv_baseline_finalconv5/8_64_64__8_3_3_tenc64_conv1_MSE_NOnorm_augshiftscalerotbrigthness_taug3_3_batch8_f0/2021-03-02_22_25/model/model.h5\n",
      "26/26 [==============================] - 35s 1s/step - loss: 0.2340 - mse_wrapper: 0.2340 - ca_wrapper: 0.8699 - meandiff: 1.7740 - val_loss: 1.0478 - val_mse_wrapper: 1.0478 - val_ca_wrapper: 0.8043 - val_meandiff: 3.7812 - lr: 4.9000e-05\n",
      "Epoch 89/100\n",
      "26/26 [==============================] - ETA: 0s - loss: 0.2216 - mse_wrapper: 0.2216 - ca_wrapper: 0.8687 - meandiff: 1.7308\n",
      "Epoch 00089: loss improved from 0.23401 to 0.22163, saving model to exp/cv_baseline_finalconv5/8_64_64__8_3_3_tenc64_conv1_MSE_NOnorm_augshiftscalerotbrigthness_taug3_3_batch8_f0/2021-03-02_22_25/model/model.h5\n",
      "26/26 [==============================] - 34s 1s/step - loss: 0.2216 - mse_wrapper: 0.2216 - ca_wrapper: 0.8687 - meandiff: 1.7308 - val_loss: 1.0057 - val_mse_wrapper: 1.0057 - val_ca_wrapper: 0.8095 - val_meandiff: 3.7656 - lr: 4.9000e-05\n",
      "Epoch 90/100\n",
      "26/26 [==============================] - ETA: 0s - loss: 0.2300 - mse_wrapper: 0.2300 - ca_wrapper: 0.8671 - meandiff: 1.7788"
     ]
    },
    {
     "name": "stderr",
     "output_type": "stream",
     "text": [
      "2021-03-02 23:20:50,164 INFO (4, 2, 36, 5)\n",
      "2021-03-02 23:20:50,739 INFO (4, 2, 36, 5)\n"
     ]
    },
    {
     "name": "stdout",
     "output_type": "stream",
     "text": [
      "\n",
      "Epoch 00090: loss did not improve from 0.22163\n",
      "26/26 [==============================] - 36s 1s/step - loss: 0.2300 - mse_wrapper: 0.2300 - ca_wrapper: 0.8671 - meandiff: 1.7788 - val_loss: 0.7784 - val_mse_wrapper: 0.7784 - val_ca_wrapper: 0.7986 - val_meandiff: 3.9219 - lr: 4.9000e-05\n",
      "Epoch 91/100\n",
      "26/26 [==============================] - ETA: 0s - loss: 0.2353 - mse_wrapper: 0.2353 - ca_wrapper: 0.8709 - meandiff: 1.8221\n",
      "Epoch 00091: loss did not improve from 0.22163\n",
      "26/26 [==============================] - 34s 1s/step - loss: 0.2353 - mse_wrapper: 0.2353 - ca_wrapper: 0.8709 - meandiff: 1.8221 - val_loss: 0.8915 - val_mse_wrapper: 0.8915 - val_ca_wrapper: 0.8043 - val_meandiff: 3.9375 - lr: 4.9000e-05\n",
      "Epoch 92/100\n",
      "26/26 [==============================] - ETA: 0s - loss: 0.2250 - mse_wrapper: 0.2250 - ca_wrapper: 0.8718 - meandiff: 1.6250"
     ]
    },
    {
     "name": "stderr",
     "output_type": "stream",
     "text": [
      "2021-03-02 23:22:03,289 INFO (4, 2, 36, 5)\n",
      "2021-03-02 23:22:03,853 INFO (4, 2, 36, 5)\n"
     ]
    },
    {
     "name": "stdout",
     "output_type": "stream",
     "text": [
      "\n",
      "Epoch 00092: loss did not improve from 0.22163\n",
      "26/26 [==============================] - 35s 1s/step - loss: 0.2250 - mse_wrapper: 0.2250 - ca_wrapper: 0.8718 - meandiff: 1.6250 - val_loss: 0.8281 - val_mse_wrapper: 0.8281 - val_ca_wrapper: 0.7760 - val_meandiff: 3.7969 - lr: 4.9000e-05\n",
      "Epoch 93/100\n",
      "26/26 [==============================] - ETA: 0s - loss: 0.2333 - mse_wrapper: 0.2333 - ca_wrapper: 0.8669 - meandiff: 1.8125\n",
      "Epoch 00093: loss did not improve from 0.22163\n",
      "26/26 [==============================] - 34s 1s/step - loss: 0.2333 - mse_wrapper: 0.2333 - ca_wrapper: 0.8669 - meandiff: 1.8125 - val_loss: 1.1268 - val_mse_wrapper: 1.1268 - val_ca_wrapper: 0.7964 - val_meandiff: 3.9688 - lr: 4.9000e-05\n",
      "Epoch 94/100\n",
      "26/26 [==============================] - ETA: 0s - loss: 0.2183 - mse_wrapper: 0.2183 - ca_wrapper: 0.8694 - meandiff: 1.5962"
     ]
    },
    {
     "name": "stderr",
     "output_type": "stream",
     "text": [
      "2021-03-02 23:23:16,200 INFO (4, 2, 36, 5)\n",
      "2021-03-02 23:23:16,754 INFO (4, 2, 36, 5)\n"
     ]
    },
    {
     "name": "stdout",
     "output_type": "stream",
     "text": [
      "\n",
      "Epoch 00094: loss improved from 0.22163 to 0.21826, saving model to exp/cv_baseline_finalconv5/8_64_64__8_3_3_tenc64_conv1_MSE_NOnorm_augshiftscalerotbrigthness_taug3_3_batch8_f0/2021-03-02_22_25/model/model.h5\n",
      "26/26 [==============================] - 35s 1s/step - loss: 0.2183 - mse_wrapper: 0.2183 - ca_wrapper: 0.8694 - meandiff: 1.5962 - val_loss: 1.1460 - val_mse_wrapper: 1.1460 - val_ca_wrapper: 0.7956 - val_meandiff: 4.1094 - lr: 4.9000e-05\n",
      "Epoch 95/100\n",
      "26/26 [==============================] - ETA: 0s - loss: 0.2376 - mse_wrapper: 0.2376 - ca_wrapper: 0.8709 - meandiff: 1.8750\n",
      "Epoch 00095: loss did not improve from 0.21826\n",
      "26/26 [==============================] - 34s 1s/step - loss: 0.2376 - mse_wrapper: 0.2376 - ca_wrapper: 0.8709 - meandiff: 1.8750 - val_loss: 0.9120 - val_mse_wrapper: 0.9120 - val_ca_wrapper: 0.7908 - val_meandiff: 3.8594 - lr: 4.9000e-05\n",
      "Epoch 96/100\n",
      "26/26 [==============================] - ETA: 0s - loss: 0.2187 - mse_wrapper: 0.2187 - ca_wrapper: 0.8713 - meandiff: 1.7163"
     ]
    },
    {
     "name": "stderr",
     "output_type": "stream",
     "text": [
      "2021-03-02 23:24:29,093 INFO (4, 2, 36, 5)\n",
      "2021-03-02 23:24:29,663 INFO (4, 2, 36, 5)\n"
     ]
    },
    {
     "name": "stdout",
     "output_type": "stream",
     "text": [
      "\n",
      "Epoch 00096: loss did not improve from 0.21826\n",
      "26/26 [==============================] - 35s 1s/step - loss: 0.2187 - mse_wrapper: 0.2187 - ca_wrapper: 0.8713 - meandiff: 1.7163 - val_loss: 0.9639 - val_mse_wrapper: 0.9639 - val_ca_wrapper: 0.7908 - val_meandiff: 4.0156 - lr: 4.9000e-05\n",
      "Epoch 97/100\n",
      "26/26 [==============================] - ETA: 0s - loss: 0.2242 - mse_wrapper: 0.2242 - ca_wrapper: 0.8702 - meandiff: 1.7644\n",
      "Epoch 00097: loss did not improve from 0.21826\n",
      "26/26 [==============================] - 34s 1s/step - loss: 0.2242 - mse_wrapper: 0.2242 - ca_wrapper: 0.8702 - meandiff: 1.7644 - val_loss: 0.7569 - val_mse_wrapper: 0.7569 - val_ca_wrapper: 0.7873 - val_meandiff: 3.8594 - lr: 4.9000e-05\n",
      "Epoch 98/100\n",
      "26/26 [==============================] - ETA: 0s - loss: 0.2225 - mse_wrapper: 0.2225 - ca_wrapper: 0.8695 - meandiff: 1.7019"
     ]
    },
    {
     "name": "stderr",
     "output_type": "stream",
     "text": [
      "2021-03-02 23:25:42,022 INFO (4, 2, 36, 5)\n",
      "2021-03-02 23:25:43,202 INFO (4, 2, 36, 5)\n"
     ]
    },
    {
     "name": "stdout",
     "output_type": "stream",
     "text": [
      "\n",
      "Epoch 00098: loss did not improve from 0.21826\n",
      "26/26 [==============================] - 36s 1s/step - loss: 0.2225 - mse_wrapper: 0.2225 - ca_wrapper: 0.8695 - meandiff: 1.7019 - val_loss: 1.3596 - val_mse_wrapper: 1.3596 - val_ca_wrapper: 0.8034 - val_meandiff: 3.9375 - lr: 4.9000e-05\n",
      "Epoch 99/100\n",
      "26/26 [==============================] - ETA: 0s - loss: 0.2137 - mse_wrapper: 0.2137 - ca_wrapper: 0.8694 - meandiff: 1.6346\n",
      "Epoch 00099: loss improved from 0.21826 to 0.21374, saving model to exp/cv_baseline_finalconv5/8_64_64__8_3_3_tenc64_conv1_MSE_NOnorm_augshiftscalerotbrigthness_taug3_3_batch8_f0/2021-03-02_22_25/model/model.h5\n",
      "26/26 [==============================] - 34s 1s/step - loss: 0.2137 - mse_wrapper: 0.2137 - ca_wrapper: 0.8694 - meandiff: 1.6346 - val_loss: 1.0449 - val_mse_wrapper: 1.0449 - val_ca_wrapper: 0.7860 - val_meandiff: 3.7188 - lr: 4.9000e-05\n",
      "Epoch 100/100\n",
      "26/26 [==============================] - ETA: 0s - loss: 0.2243 - mse_wrapper: 0.2243 - ca_wrapper: 0.8685 - meandiff: 1.6490"
     ]
    },
    {
     "name": "stderr",
     "output_type": "stream",
     "text": [
      "2021-03-02 23:26:55,317 INFO (4, 2, 36, 5)\n",
      "2021-03-02 23:26:55,885 INFO (4, 2, 36, 5)\n"
     ]
    },
    {
     "name": "stdout",
     "output_type": "stream",
     "text": [
      "\n",
      "Epoch 00100: loss did not improve from 0.21374\n",
      "26/26 [==============================] - 35s 1s/step - loss: 0.2243 - mse_wrapper: 0.2243 - ca_wrapper: 0.8685 - meandiff: 1.6490 - val_loss: 1.0371 - val_mse_wrapper: 1.0371 - val_ca_wrapper: 0.8047 - val_meandiff: 4.0781 - lr: 4.9000e-05\n"
     ]
    },
    {
     "name": "stderr",
     "output_type": "stream",
     "text": [
      "2021-03-02 23:26:57,451 INFO Fold 0 finished after 3704.994 sec\n"
     ]
    },
    {
     "data": {
      "text/plain": [
       "True"
      ]
     },
     "execution_count": 2,
     "metadata": {},
     "output_type": "execute_result"
    },
    {
     "name": "stderr",
     "output_type": "stream",
     "text": [
      "2021-03-02 23:26:57,457 INFO starting fold: 1\n",
      "2021-03-02 23:26:57,461 INFO -------------------- Start --------------------\n",
      "2021-03-02 23:26:57,461 INFO Working directory: /mnt/ssd/git/dynamic-cmr-models.\n",
      "2021-03-02 23:26:57,462 INFO Log file: ./logs/cv_baseline_finalconv5/8_64_64__8_3_3_tenc64_conv1_MSE_NOnorm_augshiftscalerotbrigthness_taug3_3_batch8_f1.log\n",
      "2021-03-02 23:26:57,462 INFO Log level for console: INFO\n",
      "2021-03-02 23:26:57,463 INFO Is built with tensorflow: True\n",
      "2021-03-02 23:26:57,464 INFO Visible devices:\n",
      "[PhysicalDevice(name='/physical_device:CPU:0', device_type='CPU'), PhysicalDevice(name='/physical_device:XLA_CPU:0', device_type='XLA_CPU'), PhysicalDevice(name='/physical_device:XLA_GPU:0', device_type='XLA_GPU'), PhysicalDevice(name='/physical_device:XLA_GPU:1', device_type='XLA_GPU'), PhysicalDevice(name='/physical_device:GPU:0', device_type='GPU'), PhysicalDevice(name='/physical_device:GPU:1', device_type='GPU')]\n",
      "2021-03-02 23:26:57,468 INFO Local devices: \n",
      " [name: \"/device:CPU:0\"\n",
      "device_type: \"CPU\"\n",
      "memory_limit: 268435456\n",
      "locality {\n",
      "}\n",
      "incarnation: 9631475932390260043\n",
      ", name: \"/device:XLA_CPU:0\"\n",
      "device_type: \"XLA_CPU\"\n",
      "memory_limit: 17179869184\n",
      "locality {\n",
      "}\n",
      "incarnation: 7278821979589784088\n",
      "physical_device_desc: \"device: XLA_CPU device\"\n",
      ", name: \"/device:XLA_GPU:0\"\n",
      "device_type: \"XLA_GPU\"\n",
      "memory_limit: 17179869184\n",
      "locality {\n",
      "}\n",
      "incarnation: 16857920060781627271\n",
      "physical_device_desc: \"device: XLA_GPU device\"\n",
      ", name: \"/device:XLA_GPU:1\"\n",
      "device_type: \"XLA_GPU\"\n",
      "memory_limit: 17179869184\n",
      "locality {\n",
      "}\n",
      "incarnation: 755482097252435364\n",
      "physical_device_desc: \"device: XLA_GPU device\"\n",
      ", name: \"/device:GPU:0\"\n",
      "device_type: \"GPU\"\n",
      "memory_limit: 23093862784\n",
      "locality {\n",
      "  bus_id: 1\n",
      "  links {\n",
      "  }\n",
      "}\n",
      "incarnation: 16771450924965280747\n",
      "physical_device_desc: \"device: 0, name: TITAN RTX, pci bus id: 0000:01:00.0, compute capability: 7.5\"\n",
      ", name: \"/device:GPU:1\"\n",
      "device_type: \"GPU\"\n",
      "memory_limit: 23561682304\n",
      "locality {\n",
      "  bus_id: 1\n",
      "  links {\n",
      "  }\n",
      "}\n",
      "incarnation: 8792251264253164296\n",
      "physical_device_desc: \"device: 1, name: TITAN RTX, pci bus id: 0000:02:00.0, compute capability: 7.5\"\n",
      "]\n",
      "2021-03-02 23:26:57,470 INFO no files found, try to load with clean.nrrd/mask.nrrd pattern\n",
      "2021-03-02 23:26:57,477 INFO Found 278 images/masks in /mnt/ssd/data/gcn/02_imported_4D_unfiltered/SAX/\n",
      "2021-03-02 23:26:57,477 INFO Patients train: 209\n",
      "2021-03-02 23:26:57,488 INFO Selected 208 of 278 files with 209 of 279 patients for training fold 1\n",
      "2021-03-02 23:26:57,489 INFO SAX train CMR: 208, SAX train masks: 208\n",
      "2021-03-02 23:26:57,489 INFO SAX val CMR: 70, SAX val masks: 70\n",
      "2021-03-02 23:26:57,503 INFO Check if we find the patient ID and phase mapping for all: 278 files.\n"
     ]
    },
    {
     "name": "stdout",
     "output_type": "stream",
     "text": [
      "['/gpu:0', '/gpu:1']\n",
      "{'GPU_IDS': '0,1', 'GPUS': ['/gpu:0', '/gpu:1'], 'SEED': 42, 'EXPERIMENT': 'cv_baseline_finalconv5/8_64_64__8_3_3_tenc64_conv1_MSE_NOnorm_augshiftscalerotbrigthness_taug3_3_batch8_f1', 'EXPERIMENTS_ROOT': 'exp/', 'EXP_PATH': 'exp/cv_baseline_finalconv5/8_64_64__8_3_3_tenc64_conv1_MSE_NOnorm_augshiftscalerotbrigthness_taug3_3_batch8_f1/2021-03-02_23_26', 'MODEL_PATH': 'exp/cv_baseline_finalconv5/8_64_64__8_3_3_tenc64_conv1_MSE_NOnorm_augshiftscalerotbrigthness_taug3_3_batch8_f1/2021-03-02_23_26/model', 'TENSORBOARD_PATH': 'exp/cv_baseline_finalconv5/8_64_64__8_3_3_tenc64_conv1_MSE_NOnorm_augshiftscalerotbrigthness_taug3_3_batch8_f1/2021-03-02_23_26/tensorboard_logs', 'CONFIG_PATH': 'exp/cv_baseline_finalconv5/8_64_64__8_3_3_tenc64_conv1_MSE_NOnorm_augshiftscalerotbrigthness_taug3_3_batch8_f1/2021-03-02_23_26/config', 'HISTORY_PATH': 'exp/cv_baseline_finalconv5/8_64_64__8_3_3_tenc64_conv1_MSE_NOnorm_augshiftscalerotbrigthness_taug3_3_batch8_f1/2021-03-02_23_26/history', 'DATA_PATH_SAX': '/mnt/ssd/data/gcn/02_imported_4D_unfiltered/SAX/', 'DF_FOLDS': '/mnt/ssd/data/gcn/02_imported_4D_unfiltered/df_kfold.csv', 'DF_META': '/mnt/ssd/data/gcn/02_imported_4D_unfiltered/SAx_3D_dicomTags_phase', 'FOLD': 1, 'BATCHSIZE': 8, 'GENERATOR_WORKER': 8, 'EPOCHS': 100, 'DIM': [8, 64, 64], 'T_SHAPE': 36, 'SPACING': [8, 3, 3], 'DEPTH': 4, 'FILTERS': 32, 'M_POOL': [1, 2, 2], 'F_SIZE': [3, 3, 3], 'BN_FIRST': False, 'BATCH_NORMALISATION': True, 'PAD': 'same', 'KERNEL_INIT': 'he_normal', 'OPTIMIZER': 'adam', 'ACTIVATION': 'relu', 'LEARNING_RATE': 0.0001, 'REDUCE_LR_ON_PLAEAU_PATIENCE': 5, 'DECAY_FACTOR': 0.7, 'MIN_LR': 1e-12, 'MONITOR_FUNCTION': 'loss', 'MONITOR_MODE': 'min', 'SAVE_MODEL_FUNCTION': 'loss', 'SAVE_MODEL_MODE': 'min', 'MODEL_PATIENCE': 20, 'SAVE_LEARNING_PROGRESS_AS_TF': True, 'BORDER_MODE': 4, 'IMG_INTERPOLATION': 1, 'MSK_INTERPOLATION': 0, 'AUGMENT': True, 'AUGMENT_PROB': 0.8, 'AUGMENT_PHASES': True, 'AUGMENT_PHASES_RANGE': (-3, 3), 'REPEAT_ONEHOT': True, 'SHUFFLE': True, 'RESAMPLE': True, 'SCALER': 'MinMax', 'PHASES': 5, 'TARGET_SMOOTHING': True, 'SMOOTHING_KERNEL_SIZE': 12, 'SMOOTHING_LOWER_BORDER': 1, 'SMOOTHING_UPPER_BORDER': 5, 'SMOOTHING_WEIGHT_CORRECT': 10, 'TENSORBOARD_LOG_DIR': 'reports/tensorboard_logs/cv_baseline_finalconv5/8_64_64__8_3_3_tenc64_conv1_MSE_NOnorm_augshiftscalerotbrigthness_taug3_3_batch8'}\n"
     ]
    },
    {
     "name": "stderr",
     "output_type": "stream",
     "text": [
      "2021-03-02 23:26:57,752 INFO Done!\n",
      "2021-03-02 23:26:57,752 INFO Create DataGenerator\n",
      "2021-03-02 23:26:57,754 INFO Datagenerator created with: \n",
      " shape: [8, 64, 64]\n",
      " spacing: [8, 3, 3]\n",
      " batchsize: 8\n",
      " Scaler: MinMax\n",
      " Images: 208 \n",
      " Augment: True \n",
      " Thread workers: 8\n",
      "2021-03-02 23:26:57,754 INFO Data will be augmented (shift,scale and rotate) with albumentation\n",
      "2021-03-02 23:26:57,768 INFO Smoothing kernel: \n",
      "[ 1.   1.8  2.6  3.4  4.2  5.  10.   5.   4.2  3.4  2.6  1.8  1. ]\n",
      "2021-03-02 23:26:57,768 INFO Temporal phase augmentation: \n",
      "TrueRepeat volume: True\n",
      "2021-03-02 23:26:57,768 INFO Create DataGenerator\n",
      "2021-03-02 23:26:57,769 INFO Datagenerator created with: \n",
      " shape: [8, 64, 64]\n",
      " spacing: [8, 3, 3]\n",
      " batchsize: 8\n",
      " Scaler: MinMax\n",
      " Images: 70 \n",
      " Augment: False \n",
      " Thread workers: 8\n",
      "2021-03-02 23:26:57,769 INFO No augmentation\n",
      "2021-03-02 23:26:57,783 INFO Smoothing kernel: \n",
      "[ 1.   1.8  2.6  3.4  4.2  5.  10.   5.   4.2  3.4  2.6  1.8  1. ]\n",
      "2021-03-02 23:26:57,784 INFO Temporal phase augmentation: \n",
      "FalseRepeat volume: True\n"
     ]
    },
    {
     "name": "stdout",
     "output_type": "stream",
     "text": [
      "Shape after the temporal encoder\n",
      "(None, 36, 8, 4, 4, 512)\n",
      "Shape after GAP\n",
      "(None, 36, 512)\n",
      "Shape after Bi-LSTM layer\n",
      "(None, 36, 512)\n",
      "Shape after final conv layer\n",
      "(None, 36, 5)\n"
     ]
    },
    {
     "name": "stderr",
     "output_type": "stream",
     "text": [
      "2021-03-02 23:27:02,144 INFO feed 4 Tensorboard is ready\n"
     ]
    },
    {
     "name": "stdout",
     "output_type": "stream",
     "text": [
      "Epoch 1/100\n",
      "26/26 [==============================] - ETA: 0s - loss: 1.0568 - mse_wrapper: 1.0568 - ca_wrapper: 0.4721 - meandiff: 12.2019"
     ]
    },
    {
     "name": "stderr",
     "output_type": "stream",
     "text": [
      "2021-03-02 23:28:08,314 INFO (4, 2, 36, 5)\n",
      "2021-03-02 23:28:08,892 INFO (4, 2, 36, 5)\n"
     ]
    },
    {
     "name": "stdout",
     "output_type": "stream",
     "text": [
      "\n",
      "Epoch 00001: loss improved from inf to 1.05676, saving model to exp/cv_baseline_finalconv5/8_64_64__8_3_3_tenc64_conv1_MSE_NOnorm_augshiftscalerotbrigthness_taug3_3_batch8_f1/2021-03-02_23_26/model/model.h5\n",
      "26/26 [==============================] - 39s 2s/step - loss: 1.0568 - mse_wrapper: 1.0568 - ca_wrapper: 0.4721 - meandiff: 12.2019 - val_loss: 1.9682 - val_mse_wrapper: 1.9682 - val_ca_wrapper: 0.2726 - val_meandiff: 15.7656 - lr: 1.0000e-04\n",
      "Epoch 2/100\n",
      "26/26 [==============================] - ETA: 0s - loss: 0.7980 - mse_wrapper: 0.7980 - ca_wrapper: 0.6553 - meandiff: 8.2788"
     ]
    },
    {
     "name": "stderr",
     "output_type": "stream",
     "text": [
      "2021-03-02 23:28:45,774 INFO (4, 2, 36, 5)\n",
      "2021-03-02 23:28:46,338 INFO (4, 2, 36, 5)\n"
     ]
    },
    {
     "name": "stdout",
     "output_type": "stream",
     "text": [
      "\n",
      "Epoch 00002: loss improved from 1.05676 to 0.79804, saving model to exp/cv_baseline_finalconv5/8_64_64__8_3_3_tenc64_conv1_MSE_NOnorm_augshiftscalerotbrigthness_taug3_3_batch8_f1/2021-03-02_23_26/model/model.h5\n",
      "26/26 [==============================] - 35s 1s/step - loss: 0.7980 - mse_wrapper: 0.7980 - ca_wrapper: 0.6553 - meandiff: 8.2788 - val_loss: 1.0319 - val_mse_wrapper: 1.0319 - val_ca_wrapper: 0.6602 - val_meandiff: 6.7500 - lr: 1.0000e-04\n",
      "Epoch 3/100\n",
      "26/26 [==============================] - ETA: 0s - loss: 0.7044 - mse_wrapper: 0.7044 - ca_wrapper: 0.7089 - meandiff: 7.2644"
     ]
    },
    {
     "name": "stderr",
     "output_type": "stream",
     "text": [
      "2021-03-02 23:29:23,723 INFO (4, 2, 36, 5)\n",
      "2021-03-02 23:29:24,292 INFO (4, 2, 36, 5)\n"
     ]
    },
    {
     "name": "stdout",
     "output_type": "stream",
     "text": [
      "\n",
      "Epoch 00003: loss improved from 0.79804 to 0.70441, saving model to exp/cv_baseline_finalconv5/8_64_64__8_3_3_tenc64_conv1_MSE_NOnorm_augshiftscalerotbrigthness_taug3_3_batch8_f1/2021-03-02_23_26/model/model.h5\n",
      "26/26 [==============================] - 36s 1s/step - loss: 0.7044 - mse_wrapper: 0.7044 - ca_wrapper: 0.7089 - meandiff: 7.2644 - val_loss: 0.7028 - val_mse_wrapper: 0.7028 - val_ca_wrapper: 0.7396 - val_meandiff: 5.3906 - lr: 1.0000e-04\n",
      "Epoch 4/100\n",
      "26/26 [==============================] - ETA: 0s - loss: 0.6491 - mse_wrapper: 0.6491 - ca_wrapper: 0.7436 - meandiff: 6.4760"
     ]
    },
    {
     "name": "stderr",
     "output_type": "stream",
     "text": [
      "2021-03-02 23:30:01,454 INFO (4, 2, 36, 5)\n",
      "2021-03-02 23:30:02,045 INFO (4, 2, 36, 5)\n"
     ]
    },
    {
     "name": "stdout",
     "output_type": "stream",
     "text": [
      "\n",
      "Epoch 00004: loss improved from 0.70441 to 0.64911, saving model to exp/cv_baseline_finalconv5/8_64_64__8_3_3_tenc64_conv1_MSE_NOnorm_augshiftscalerotbrigthness_taug3_3_batch8_f1/2021-03-02_23_26/model/model.h5\n",
      "26/26 [==============================] - 36s 1s/step - loss: 0.6491 - mse_wrapper: 0.6491 - ca_wrapper: 0.7436 - meandiff: 6.4760 - val_loss: 0.7741 - val_mse_wrapper: 0.7741 - val_ca_wrapper: 0.7799 - val_meandiff: 5.0781 - lr: 1.0000e-04\n",
      "Epoch 5/100\n",
      "26/26 [==============================] - ETA: 0s - loss: 0.5894 - mse_wrapper: 0.5894 - ca_wrapper: 0.7707 - meandiff: 5.6058\n",
      "Epoch 00005: loss improved from 0.64911 to 0.58938, saving model to exp/cv_baseline_finalconv5/8_64_64__8_3_3_tenc64_conv1_MSE_NOnorm_augshiftscalerotbrigthness_taug3_3_batch8_f1/2021-03-02_23_26/model/model.h5\n",
      "26/26 [==============================] - 35s 1s/step - loss: 0.5894 - mse_wrapper: 0.5894 - ca_wrapper: 0.7707 - meandiff: 5.6058 - val_loss: 0.6312 - val_mse_wrapper: 0.6312 - val_ca_wrapper: 0.7938 - val_meandiff: 4.2344 - lr: 1.0000e-04\n",
      "Epoch 6/100\n",
      "26/26 [==============================] - ETA: 0s - loss: 0.5853 - mse_wrapper: 0.5853 - ca_wrapper: 0.7635 - meandiff: 5.4519"
     ]
    },
    {
     "name": "stderr",
     "output_type": "stream",
     "text": [
      "2021-03-02 23:31:15,481 INFO (4, 2, 36, 5)\n",
      "2021-03-02 23:31:16,044 INFO (4, 2, 36, 5)\n"
     ]
    },
    {
     "name": "stdout",
     "output_type": "stream",
     "text": [
      "\n",
      "Epoch 00006: loss improved from 0.58938 to 0.58527, saving model to exp/cv_baseline_finalconv5/8_64_64__8_3_3_tenc64_conv1_MSE_NOnorm_augshiftscalerotbrigthness_taug3_3_batch8_f1/2021-03-02_23_26/model/model.h5\n",
      "26/26 [==============================] - 36s 1s/step - loss: 0.5853 - mse_wrapper: 0.5853 - ca_wrapper: 0.7635 - meandiff: 5.4519 - val_loss: 1.1732 - val_mse_wrapper: 1.1732 - val_ca_wrapper: 0.7674 - val_meandiff: 4.0156 - lr: 1.0000e-04\n",
      "Epoch 7/100\n",
      "26/26 [==============================] - ETA: 0s - loss: 0.5562 - mse_wrapper: 0.5562 - ca_wrapper: 0.7861 - meandiff: 4.9423\n",
      "Epoch 00007: loss improved from 0.58527 to 0.55624, saving model to exp/cv_baseline_finalconv5/8_64_64__8_3_3_tenc64_conv1_MSE_NOnorm_augshiftscalerotbrigthness_taug3_3_batch8_f1/2021-03-02_23_26/model/model.h5\n",
      "26/26 [==============================] - 34s 1s/step - loss: 0.5562 - mse_wrapper: 0.5562 - ca_wrapper: 0.7861 - meandiff: 4.9423 - val_loss: 0.9142 - val_mse_wrapper: 0.9142 - val_ca_wrapper: 0.7483 - val_meandiff: 4.5312 - lr: 1.0000e-04\n",
      "Epoch 8/100\n",
      "26/26 [==============================] - ETA: 0s - loss: 0.5540 - mse_wrapper: 0.5540 - ca_wrapper: 0.7893 - meandiff: 4.8750"
     ]
    },
    {
     "name": "stderr",
     "output_type": "stream",
     "text": [
      "2021-03-02 23:32:29,064 INFO (4, 2, 36, 5)\n",
      "2021-03-02 23:32:29,624 INFO (4, 2, 36, 5)\n"
     ]
    },
    {
     "name": "stdout",
     "output_type": "stream",
     "text": [
      "\n",
      "Epoch 00008: loss improved from 0.55624 to 0.55397, saving model to exp/cv_baseline_finalconv5/8_64_64__8_3_3_tenc64_conv1_MSE_NOnorm_augshiftscalerotbrigthness_taug3_3_batch8_f1/2021-03-02_23_26/model/model.h5\n",
      "26/26 [==============================] - 36s 1s/step - loss: 0.5540 - mse_wrapper: 0.5540 - ca_wrapper: 0.7893 - meandiff: 4.8750 - val_loss: 0.7592 - val_mse_wrapper: 0.7592 - val_ca_wrapper: 0.7383 - val_meandiff: 4.9688 - lr: 1.0000e-04\n",
      "Epoch 9/100\n",
      "26/26 [==============================] - ETA: 0s - loss: 0.5274 - mse_wrapper: 0.5274 - ca_wrapper: 0.7902 - meandiff: 4.6490\n",
      "Epoch 00009: loss improved from 0.55397 to 0.52741, saving model to exp/cv_baseline_finalconv5/8_64_64__8_3_3_tenc64_conv1_MSE_NOnorm_augshiftscalerotbrigthness_taug3_3_batch8_f1/2021-03-02_23_26/model/model.h5\n",
      "26/26 [==============================] - 34s 1s/step - loss: 0.5274 - mse_wrapper: 0.5274 - ca_wrapper: 0.7902 - meandiff: 4.6490 - val_loss: 0.5813 - val_mse_wrapper: 0.5813 - val_ca_wrapper: 0.7821 - val_meandiff: 3.9844 - lr: 1.0000e-04\n",
      "Epoch 10/100\n",
      "26/26 [==============================] - ETA: 0s - loss: 0.5160 - mse_wrapper: 0.5160 - ca_wrapper: 0.7942 - meandiff: 4.7500"
     ]
    },
    {
     "name": "stderr",
     "output_type": "stream",
     "text": [
      "2021-03-02 23:33:42,420 INFO (4, 2, 36, 5)\n",
      "2021-03-02 23:33:42,968 INFO (4, 2, 36, 5)\n"
     ]
    },
    {
     "name": "stdout",
     "output_type": "stream",
     "text": [
      "\n",
      "Epoch 00010: loss improved from 0.52741 to 0.51601, saving model to exp/cv_baseline_finalconv5/8_64_64__8_3_3_tenc64_conv1_MSE_NOnorm_augshiftscalerotbrigthness_taug3_3_batch8_f1/2021-03-02_23_26/model/model.h5\n",
      "26/26 [==============================] - 35s 1s/step - loss: 0.5160 - mse_wrapper: 0.5160 - ca_wrapper: 0.7942 - meandiff: 4.7500 - val_loss: 0.7412 - val_mse_wrapper: 0.7412 - val_ca_wrapper: 0.7739 - val_meandiff: 4.1406 - lr: 1.0000e-04\n",
      "Epoch 11/100\n",
      "26/26 [==============================] - ETA: 0s - loss: 0.5155 - mse_wrapper: 0.5155 - ca_wrapper: 0.8005 - meandiff: 4.6154\n",
      "Epoch 00011: loss improved from 0.51601 to 0.51547, saving model to exp/cv_baseline_finalconv5/8_64_64__8_3_3_tenc64_conv1_MSE_NOnorm_augshiftscalerotbrigthness_taug3_3_batch8_f1/2021-03-02_23_26/model/model.h5\n",
      "26/26 [==============================] - 34s 1s/step - loss: 0.5155 - mse_wrapper: 0.5155 - ca_wrapper: 0.8005 - meandiff: 4.6154 - val_loss: 0.5589 - val_mse_wrapper: 0.5589 - val_ca_wrapper: 0.8016 - val_meandiff: 3.5000 - lr: 1.0000e-04\n",
      "Epoch 12/100\n",
      "26/26 [==============================] - ETA: 0s - loss: 0.5129 - mse_wrapper: 0.5129 - ca_wrapper: 0.7957 - meandiff: 4.5096"
     ]
    },
    {
     "name": "stderr",
     "output_type": "stream",
     "text": [
      "2021-03-02 23:34:55,623 INFO (4, 2, 36, 5)\n",
      "2021-03-02 23:34:56,187 INFO (4, 2, 36, 5)\n"
     ]
    },
    {
     "name": "stdout",
     "output_type": "stream",
     "text": [
      "\n",
      "Epoch 00012: loss improved from 0.51547 to 0.51292, saving model to exp/cv_baseline_finalconv5/8_64_64__8_3_3_tenc64_conv1_MSE_NOnorm_augshiftscalerotbrigthness_taug3_3_batch8_f1/2021-03-02_23_26/model/model.h5\n",
      "26/26 [==============================] - 35s 1s/step - loss: 0.5129 - mse_wrapper: 0.5129 - ca_wrapper: 0.7957 - meandiff: 4.5096 - val_loss: 1.0767 - val_mse_wrapper: 1.0767 - val_ca_wrapper: 0.7669 - val_meandiff: 3.7344 - lr: 1.0000e-04\n",
      "Epoch 13/100\n",
      "26/26 [==============================] - ETA: 0s - loss: 0.5101 - mse_wrapper: 0.5101 - ca_wrapper: 0.8011 - meandiff: 4.3798\n",
      "Epoch 00013: loss improved from 0.51292 to 0.51006, saving model to exp/cv_baseline_finalconv5/8_64_64__8_3_3_tenc64_conv1_MSE_NOnorm_augshiftscalerotbrigthness_taug3_3_batch8_f1/2021-03-02_23_26/model/model.h5\n",
      "26/26 [==============================] - 34s 1s/step - loss: 0.5101 - mse_wrapper: 0.5101 - ca_wrapper: 0.8011 - meandiff: 4.3798 - val_loss: 0.6498 - val_mse_wrapper: 0.6498 - val_ca_wrapper: 0.8242 - val_meandiff: 4.0312 - lr: 1.0000e-04\n",
      "Epoch 14/100\n",
      "26/26 [==============================] - ETA: 0s - loss: 0.5132 - mse_wrapper: 0.5132 - ca_wrapper: 0.8036 - meandiff: 4.4087"
     ]
    },
    {
     "name": "stderr",
     "output_type": "stream",
     "text": [
      "2021-03-02 23:36:08,622 INFO (4, 2, 36, 5)\n",
      "2021-03-02 23:36:09,192 INFO (4, 2, 36, 5)\n"
     ]
    },
    {
     "name": "stdout",
     "output_type": "stream",
     "text": [
      "\n",
      "Epoch 00014: loss did not improve from 0.51006\n",
      "26/26 [==============================] - 36s 1s/step - loss: 0.5132 - mse_wrapper: 0.5132 - ca_wrapper: 0.8036 - meandiff: 4.4087 - val_loss: 0.9297 - val_mse_wrapper: 0.9297 - val_ca_wrapper: 0.7778 - val_meandiff: 3.8750 - lr: 1.0000e-04\n",
      "Epoch 15/100\n",
      "26/26 [==============================] - ETA: 0s - loss: 0.4979 - mse_wrapper: 0.4979 - ca_wrapper: 0.8048 - meandiff: 4.3990\n",
      "Epoch 00015: loss improved from 0.51006 to 0.49795, saving model to exp/cv_baseline_finalconv5/8_64_64__8_3_3_tenc64_conv1_MSE_NOnorm_augshiftscalerotbrigthness_taug3_3_batch8_f1/2021-03-02_23_26/model/model.h5\n",
      "26/26 [==============================] - 34s 1s/step - loss: 0.4979 - mse_wrapper: 0.4979 - ca_wrapper: 0.8048 - meandiff: 4.3990 - val_loss: 0.7787 - val_mse_wrapper: 0.7787 - val_ca_wrapper: 0.7726 - val_meandiff: 3.9062 - lr: 1.0000e-04\n",
      "Epoch 16/100\n",
      "26/26 [==============================] - ETA: 0s - loss: 0.4792 - mse_wrapper: 0.4792 - ca_wrapper: 0.8034 - meandiff: 4.3077"
     ]
    },
    {
     "name": "stderr",
     "output_type": "stream",
     "text": [
      "2021-03-02 23:37:22,319 INFO (4, 2, 36, 5)\n",
      "2021-03-02 23:37:22,880 INFO (4, 2, 36, 5)\n"
     ]
    },
    {
     "name": "stdout",
     "output_type": "stream",
     "text": [
      "\n",
      "Epoch 00016: loss improved from 0.49795 to 0.47922, saving model to exp/cv_baseline_finalconv5/8_64_64__8_3_3_tenc64_conv1_MSE_NOnorm_augshiftscalerotbrigthness_taug3_3_batch8_f1/2021-03-02_23_26/model/model.h5\n",
      "26/26 [==============================] - 35s 1s/step - loss: 0.4792 - mse_wrapper: 0.4792 - ca_wrapper: 0.8034 - meandiff: 4.3077 - val_loss: 0.7192 - val_mse_wrapper: 0.7192 - val_ca_wrapper: 0.7786 - val_meandiff: 4.0469 - lr: 1.0000e-04\n",
      "Epoch 17/100\n",
      "26/26 [==============================] - ETA: 0s - loss: 0.4535 - mse_wrapper: 0.4535 - ca_wrapper: 0.8289 - meandiff: 4.0048\n",
      "Epoch 00017: loss improved from 0.47922 to 0.45348, saving model to exp/cv_baseline_finalconv5/8_64_64__8_3_3_tenc64_conv1_MSE_NOnorm_augshiftscalerotbrigthness_taug3_3_batch8_f1/2021-03-02_23_26/model/model.h5\n",
      "26/26 [==============================] - 34s 1s/step - loss: 0.4535 - mse_wrapper: 0.4535 - ca_wrapper: 0.8289 - meandiff: 4.0048 - val_loss: 0.5292 - val_mse_wrapper: 0.5292 - val_ca_wrapper: 0.8290 - val_meandiff: 3.6875 - lr: 1.0000e-04\n",
      "Epoch 18/100\n",
      "26/26 [==============================] - ETA: 0s - loss: 0.4621 - mse_wrapper: 0.4621 - ca_wrapper: 0.8132 - meandiff: 4.0337"
     ]
    },
    {
     "name": "stderr",
     "output_type": "stream",
     "text": [
      "2021-03-02 23:38:35,466 INFO (4, 2, 36, 5)\n",
      "2021-03-02 23:38:36,019 INFO (4, 2, 36, 5)\n"
     ]
    },
    {
     "name": "stdout",
     "output_type": "stream",
     "text": [
      "\n",
      "Epoch 00018: loss did not improve from 0.45348\n",
      "26/26 [==============================] - 35s 1s/step - loss: 0.4621 - mse_wrapper: 0.4621 - ca_wrapper: 0.8132 - meandiff: 4.0337 - val_loss: 0.6911 - val_mse_wrapper: 0.6911 - val_ca_wrapper: 0.8016 - val_meandiff: 4.0781 - lr: 1.0000e-04\n",
      "Epoch 19/100\n",
      "26/26 [==============================] - ETA: 0s - loss: 0.4796 - mse_wrapper: 0.4796 - ca_wrapper: 0.8189 - meandiff: 4.2837\n",
      "Epoch 00019: loss did not improve from 0.45348\n",
      "26/26 [==============================] - 34s 1s/step - loss: 0.4796 - mse_wrapper: 0.4796 - ca_wrapper: 0.8189 - meandiff: 4.2837 - val_loss: 0.7281 - val_mse_wrapper: 0.7281 - val_ca_wrapper: 0.8164 - val_meandiff: 3.6562 - lr: 1.0000e-04\n",
      "Epoch 20/100\n",
      "26/26 [==============================] - ETA: 0s - loss: 0.4601 - mse_wrapper: 0.4601 - ca_wrapper: 0.8168 - meandiff: 4.1394"
     ]
    },
    {
     "name": "stderr",
     "output_type": "stream",
     "text": [
      "2021-03-02 23:39:48,452 INFO (4, 2, 36, 5)\n",
      "2021-03-02 23:39:49,023 INFO (4, 2, 36, 5)\n"
     ]
    },
    {
     "name": "stdout",
     "output_type": "stream",
     "text": [
      "\n",
      "Epoch 00020: loss did not improve from 0.45348\n",
      "26/26 [==============================] - 35s 1s/step - loss: 0.4601 - mse_wrapper: 0.4601 - ca_wrapper: 0.8168 - meandiff: 4.1394 - val_loss: 0.6510 - val_mse_wrapper: 0.6510 - val_ca_wrapper: 0.8220 - val_meandiff: 3.7344 - lr: 1.0000e-04\n",
      "Epoch 21/100\n",
      "26/26 [==============================] - ETA: 0s - loss: 0.4581 - mse_wrapper: 0.4581 - ca_wrapper: 0.8185 - meandiff: 3.8798\n",
      "Epoch 00021: loss did not improve from 0.45348\n",
      "26/26 [==============================] - 34s 1s/step - loss: 0.4581 - mse_wrapper: 0.4581 - ca_wrapper: 0.8185 - meandiff: 3.8798 - val_loss: 0.6304 - val_mse_wrapper: 0.6304 - val_ca_wrapper: 0.8329 - val_meandiff: 3.9219 - lr: 1.0000e-04\n",
      "Epoch 22/100\n",
      "26/26 [==============================] - ETA: 0s - loss: 0.4419 - mse_wrapper: 0.4419 - ca_wrapper: 0.8271 - meandiff: 4.0144"
     ]
    },
    {
     "name": "stderr",
     "output_type": "stream",
     "text": [
      "2021-03-02 23:41:01,653 INFO (4, 2, 36, 5)\n",
      "2021-03-02 23:41:02,189 INFO (4, 2, 36, 5)\n"
     ]
    },
    {
     "name": "stdout",
     "output_type": "stream",
     "text": [
      "\n",
      "Epoch 00022: loss improved from 0.45348 to 0.44190, saving model to exp/cv_baseline_finalconv5/8_64_64__8_3_3_tenc64_conv1_MSE_NOnorm_augshiftscalerotbrigthness_taug3_3_batch8_f1/2021-03-02_23_26/model/model.h5\n",
      "26/26 [==============================] - 35s 1s/step - loss: 0.4419 - mse_wrapper: 0.4419 - ca_wrapper: 0.8271 - meandiff: 4.0144 - val_loss: 0.6328 - val_mse_wrapper: 0.6328 - val_ca_wrapper: 0.8207 - val_meandiff: 3.4062 - lr: 1.0000e-04\n",
      "Epoch 23/100\n",
      "26/26 [==============================] - ETA: 0s - loss: 0.4353 - mse_wrapper: 0.4353 - ca_wrapper: 0.8248 - meandiff: 3.7548\n",
      "Epoch 00023: loss improved from 0.44190 to 0.43533, saving model to exp/cv_baseline_finalconv5/8_64_64__8_3_3_tenc64_conv1_MSE_NOnorm_augshiftscalerotbrigthness_taug3_3_batch8_f1/2021-03-02_23_26/model/model.h5\n",
      "26/26 [==============================] - 34s 1s/step - loss: 0.4353 - mse_wrapper: 0.4353 - ca_wrapper: 0.8248 - meandiff: 3.7548 - val_loss: 0.7103 - val_mse_wrapper: 0.7103 - val_ca_wrapper: 0.7964 - val_meandiff: 3.5469 - lr: 1.0000e-04\n",
      "Epoch 24/100\n",
      "26/26 [==============================] - ETA: 0s - loss: 0.4464 - mse_wrapper: 0.4464 - ca_wrapper: 0.8208 - meandiff: 3.8606"
     ]
    },
    {
     "name": "stderr",
     "output_type": "stream",
     "text": [
      "2021-03-02 23:42:14,796 INFO (4, 2, 36, 5)\n",
      "2021-03-02 23:42:15,348 INFO (4, 2, 36, 5)\n"
     ]
    },
    {
     "name": "stdout",
     "output_type": "stream",
     "text": [
      "\n",
      "Epoch 00024: loss did not improve from 0.43533\n",
      "26/26 [==============================] - 35s 1s/step - loss: 0.4464 - mse_wrapper: 0.4464 - ca_wrapper: 0.8208 - meandiff: 3.8606 - val_loss: 0.7381 - val_mse_wrapper: 0.7381 - val_ca_wrapper: 0.8351 - val_meandiff: 3.7656 - lr: 1.0000e-04\n",
      "Epoch 25/100\n",
      "26/26 [==============================] - ETA: 0s - loss: 0.4390 - mse_wrapper: 0.4390 - ca_wrapper: 0.8289 - meandiff: 3.8750\n",
      "Epoch 00025: loss did not improve from 0.43533\n",
      "26/26 [==============================] - 34s 1s/step - loss: 0.4390 - mse_wrapper: 0.4390 - ca_wrapper: 0.8289 - meandiff: 3.8750 - val_loss: 0.6706 - val_mse_wrapper: 0.6706 - val_ca_wrapper: 0.8338 - val_meandiff: 3.4375 - lr: 1.0000e-04\n",
      "Epoch 26/100\n",
      "26/26 [==============================] - ETA: 0s - loss: 0.4284 - mse_wrapper: 0.4284 - ca_wrapper: 0.8281 - meandiff: 3.6635"
     ]
    },
    {
     "name": "stderr",
     "output_type": "stream",
     "text": [
      "2021-03-02 23:43:28,095 INFO (4, 2, 36, 5)\n",
      "2021-03-02 23:43:28,654 INFO (4, 2, 36, 5)\n"
     ]
    },
    {
     "name": "stdout",
     "output_type": "stream",
     "text": [
      "\n",
      "Epoch 00026: loss improved from 0.43533 to 0.42837, saving model to exp/cv_baseline_finalconv5/8_64_64__8_3_3_tenc64_conv1_MSE_NOnorm_augshiftscalerotbrigthness_taug3_3_batch8_f1/2021-03-02_23_26/model/model.h5\n",
      "26/26 [==============================] - 35s 1s/step - loss: 0.4284 - mse_wrapper: 0.4284 - ca_wrapper: 0.8281 - meandiff: 3.6635 - val_loss: 0.8875 - val_mse_wrapper: 0.8875 - val_ca_wrapper: 0.8121 - val_meandiff: 3.6094 - lr: 1.0000e-04\n",
      "Epoch 27/100\n",
      "26/26 [==============================] - ETA: 0s - loss: 0.4355 - mse_wrapper: 0.4355 - ca_wrapper: 0.8257 - meandiff: 3.9279\n",
      "Epoch 00027: loss did not improve from 0.42837\n",
      "26/26 [==============================] - 34s 1s/step - loss: 0.4355 - mse_wrapper: 0.4355 - ca_wrapper: 0.8257 - meandiff: 3.9279 - val_loss: 0.8141 - val_mse_wrapper: 0.8141 - val_ca_wrapper: 0.7891 - val_meandiff: 3.2969 - lr: 1.0000e-04\n",
      "Epoch 28/100\n",
      "26/26 [==============================] - ETA: 0s - loss: 0.4259 - mse_wrapper: 0.4259 - ca_wrapper: 0.8293 - meandiff: 3.7692"
     ]
    },
    {
     "name": "stderr",
     "output_type": "stream",
     "text": [
      "2021-03-02 23:44:40,667 INFO (4, 2, 36, 5)\n",
      "2021-03-02 23:44:41,228 INFO (4, 2, 36, 5)\n"
     ]
    },
    {
     "name": "stdout",
     "output_type": "stream",
     "text": [
      "\n",
      "Epoch 00028: loss improved from 0.42837 to 0.42589, saving model to exp/cv_baseline_finalconv5/8_64_64__8_3_3_tenc64_conv1_MSE_NOnorm_augshiftscalerotbrigthness_taug3_3_batch8_f1/2021-03-02_23_26/model/model.h5\n",
      "26/26 [==============================] - 35s 1s/step - loss: 0.4259 - mse_wrapper: 0.4259 - ca_wrapper: 0.8293 - meandiff: 3.7692 - val_loss: 0.6974 - val_mse_wrapper: 0.6974 - val_ca_wrapper: 0.8164 - val_meandiff: 3.6719 - lr: 1.0000e-04\n",
      "Epoch 29/100\n",
      "26/26 [==============================] - ETA: 0s - loss: 0.4089 - mse_wrapper: 0.4089 - ca_wrapper: 0.8351 - meandiff: 3.5577\n",
      "Epoch 00029: loss improved from 0.42589 to 0.40893, saving model to exp/cv_baseline_finalconv5/8_64_64__8_3_3_tenc64_conv1_MSE_NOnorm_augshiftscalerotbrigthness_taug3_3_batch8_f1/2021-03-02_23_26/model/model.h5\n",
      "26/26 [==============================] - 34s 1s/step - loss: 0.4089 - mse_wrapper: 0.4089 - ca_wrapper: 0.8351 - meandiff: 3.5577 - val_loss: 0.9029 - val_mse_wrapper: 0.9029 - val_ca_wrapper: 0.8151 - val_meandiff: 3.6719 - lr: 1.0000e-04\n",
      "Epoch 30/100\n",
      "26/26 [==============================] - ETA: 0s - loss: 0.4070 - mse_wrapper: 0.4070 - ca_wrapper: 0.8321 - meandiff: 3.5577"
     ]
    },
    {
     "name": "stderr",
     "output_type": "stream",
     "text": [
      "2021-03-02 23:45:53,269 INFO (4, 2, 36, 5)\n",
      "2021-03-02 23:45:53,836 INFO (4, 2, 36, 5)\n"
     ]
    },
    {
     "name": "stdout",
     "output_type": "stream",
     "text": [
      "\n",
      "Epoch 00030: loss improved from 0.40893 to 0.40700, saving model to exp/cv_baseline_finalconv5/8_64_64__8_3_3_tenc64_conv1_MSE_NOnorm_augshiftscalerotbrigthness_taug3_3_batch8_f1/2021-03-02_23_26/model/model.h5\n",
      "26/26 [==============================] - 35s 1s/step - loss: 0.4070 - mse_wrapper: 0.4070 - ca_wrapper: 0.8321 - meandiff: 3.5577 - val_loss: 0.7195 - val_mse_wrapper: 0.7195 - val_ca_wrapper: 0.8095 - val_meandiff: 3.7969 - lr: 1.0000e-04\n",
      "Epoch 31/100\n",
      "26/26 [==============================] - ETA: 0s - loss: 0.4179 - mse_wrapper: 0.4179 - ca_wrapper: 0.8349 - meandiff: 3.8269\n",
      "Epoch 00031: loss did not improve from 0.40700\n",
      "26/26 [==============================] - 34s 1s/step - loss: 0.4179 - mse_wrapper: 0.4179 - ca_wrapper: 0.8349 - meandiff: 3.8269 - val_loss: 0.6342 - val_mse_wrapper: 0.6342 - val_ca_wrapper: 0.8043 - val_meandiff: 3.7656 - lr: 1.0000e-04\n",
      "Epoch 32/100\n",
      "26/26 [==============================] - ETA: 0s - loss: 0.4023 - mse_wrapper: 0.4023 - ca_wrapper: 0.8381 - meandiff: 3.5577"
     ]
    },
    {
     "name": "stderr",
     "output_type": "stream",
     "text": [
      "2021-03-02 23:47:06,824 INFO (4, 2, 36, 5)\n",
      "2021-03-02 23:47:07,353 INFO (4, 2, 36, 5)\n"
     ]
    },
    {
     "name": "stdout",
     "output_type": "stream",
     "text": [
      "\n",
      "Epoch 00032: loss improved from 0.40700 to 0.40230, saving model to exp/cv_baseline_finalconv5/8_64_64__8_3_3_tenc64_conv1_MSE_NOnorm_augshiftscalerotbrigthness_taug3_3_batch8_f1/2021-03-02_23_26/model/model.h5\n",
      "26/26 [==============================] - 35s 1s/step - loss: 0.4023 - mse_wrapper: 0.4023 - ca_wrapper: 0.8381 - meandiff: 3.5577 - val_loss: 0.7337 - val_mse_wrapper: 0.7337 - val_ca_wrapper: 0.8299 - val_meandiff: 3.5469 - lr: 1.0000e-04\n",
      "Epoch 33/100\n",
      "26/26 [==============================] - ETA: 0s - loss: 0.4034 - mse_wrapper: 0.4034 - ca_wrapper: 0.8373 - meandiff: 3.5769\n",
      "Epoch 00033: loss did not improve from 0.40230\n",
      "26/26 [==============================] - 34s 1s/step - loss: 0.4034 - mse_wrapper: 0.4034 - ca_wrapper: 0.8373 - meandiff: 3.5769 - val_loss: 0.9653 - val_mse_wrapper: 0.9653 - val_ca_wrapper: 0.8329 - val_meandiff: 3.5781 - lr: 1.0000e-04\n",
      "Epoch 34/100\n",
      "26/26 [==============================] - ETA: 0s - loss: 0.3997 - mse_wrapper: 0.3997 - ca_wrapper: 0.8371 - meandiff: 3.6971"
     ]
    },
    {
     "name": "stderr",
     "output_type": "stream",
     "text": [
      "2021-03-02 23:48:19,488 INFO (4, 2, 36, 5)\n",
      "2021-03-02 23:48:20,083 INFO (4, 2, 36, 5)\n"
     ]
    },
    {
     "name": "stdout",
     "output_type": "stream",
     "text": [
      "\n",
      "Epoch 00034: loss improved from 0.40230 to 0.39973, saving model to exp/cv_baseline_finalconv5/8_64_64__8_3_3_tenc64_conv1_MSE_NOnorm_augshiftscalerotbrigthness_taug3_3_batch8_f1/2021-03-02_23_26/model/model.h5\n",
      "26/26 [==============================] - 35s 1s/step - loss: 0.3997 - mse_wrapper: 0.3997 - ca_wrapper: 0.8371 - meandiff: 3.6971 - val_loss: 0.9484 - val_mse_wrapper: 0.9484 - val_ca_wrapper: 0.8203 - val_meandiff: 3.5312 - lr: 1.0000e-04\n",
      "Epoch 35/100\n",
      "26/26 [==============================] - ETA: 0s - loss: 0.4031 - mse_wrapper: 0.4031 - ca_wrapper: 0.8352 - meandiff: 3.6923\n",
      "Epoch 00035: loss did not improve from 0.39973\n",
      "26/26 [==============================] - 35s 1s/step - loss: 0.4031 - mse_wrapper: 0.4031 - ca_wrapper: 0.8352 - meandiff: 3.6923 - val_loss: 0.9142 - val_mse_wrapper: 0.9142 - val_ca_wrapper: 0.8173 - val_meandiff: 3.6094 - lr: 1.0000e-04\n",
      "Epoch 36/100\n",
      "26/26 [==============================] - ETA: 0s - loss: 0.4035 - mse_wrapper: 0.4035 - ca_wrapper: 0.8315 - meandiff: 3.5577"
     ]
    },
    {
     "name": "stderr",
     "output_type": "stream",
     "text": [
      "2021-03-02 23:49:33,339 INFO (4, 2, 36, 5)\n",
      "2021-03-02 23:49:33,864 INFO (4, 2, 36, 5)\n"
     ]
    },
    {
     "name": "stdout",
     "output_type": "stream",
     "text": [
      "\n",
      "Epoch 00036: loss did not improve from 0.39973\n",
      "26/26 [==============================] - 35s 1s/step - loss: 0.4035 - mse_wrapper: 0.4035 - ca_wrapper: 0.8315 - meandiff: 3.5577 - val_loss: 0.8455 - val_mse_wrapper: 0.8455 - val_ca_wrapper: 0.8229 - val_meandiff: 3.2344 - lr: 1.0000e-04\n",
      "Epoch 37/100\n",
      "26/26 [==============================] - ETA: 0s - loss: 0.4030 - mse_wrapper: 0.4030 - ca_wrapper: 0.8300 - meandiff: 3.5865\n",
      "Epoch 00037: loss did not improve from 0.39973\n",
      "26/26 [==============================] - 34s 1s/step - loss: 0.4030 - mse_wrapper: 0.4030 - ca_wrapper: 0.8300 - meandiff: 3.5865 - val_loss: 0.7325 - val_mse_wrapper: 0.7325 - val_ca_wrapper: 0.8112 - val_meandiff: 3.7344 - lr: 1.0000e-04\n",
      "Epoch 38/100\n",
      "26/26 [==============================] - ETA: 0s - loss: 0.3940 - mse_wrapper: 0.3940 - ca_wrapper: 0.8405 - meandiff: 3.5144"
     ]
    },
    {
     "name": "stderr",
     "output_type": "stream",
     "text": [
      "2021-03-02 23:50:45,939 INFO (4, 2, 36, 5)\n",
      "2021-03-02 23:50:46,504 INFO (4, 2, 36, 5)\n"
     ]
    },
    {
     "name": "stdout",
     "output_type": "stream",
     "text": [
      "\n",
      "Epoch 00038: loss improved from 0.39973 to 0.39397, saving model to exp/cv_baseline_finalconv5/8_64_64__8_3_3_tenc64_conv1_MSE_NOnorm_augshiftscalerotbrigthness_taug3_3_batch8_f1/2021-03-02_23_26/model/model.h5\n",
      "26/26 [==============================] - 35s 1s/step - loss: 0.3940 - mse_wrapper: 0.3940 - ca_wrapper: 0.8405 - meandiff: 3.5144 - val_loss: 0.7597 - val_mse_wrapper: 0.7597 - val_ca_wrapper: 0.8099 - val_meandiff: 3.3281 - lr: 1.0000e-04\n",
      "Epoch 39/100\n",
      "26/26 [==============================] - ETA: 0s - loss: 0.3818 - mse_wrapper: 0.3818 - ca_wrapper: 0.8403 - meandiff: 3.4663\n",
      "Epoch 00039: loss improved from 0.39397 to 0.38183, saving model to exp/cv_baseline_finalconv5/8_64_64__8_3_3_tenc64_conv1_MSE_NOnorm_augshiftscalerotbrigthness_taug3_3_batch8_f1/2021-03-02_23_26/model/model.h5\n",
      "26/26 [==============================] - 34s 1s/step - loss: 0.3818 - mse_wrapper: 0.3818 - ca_wrapper: 0.8403 - meandiff: 3.4663 - val_loss: 0.5853 - val_mse_wrapper: 0.5853 - val_ca_wrapper: 0.8090 - val_meandiff: 4.0781 - lr: 1.0000e-04\n",
      "Epoch 40/100\n",
      "26/26 [==============================] - ETA: 0s - loss: 0.3876 - mse_wrapper: 0.3876 - ca_wrapper: 0.8341 - meandiff: 3.3702"
     ]
    },
    {
     "name": "stderr",
     "output_type": "stream",
     "text": [
      "2021-03-02 23:51:58,792 INFO (4, 2, 36, 5)\n",
      "2021-03-02 23:51:59,355 INFO (4, 2, 36, 5)\n"
     ]
    },
    {
     "name": "stdout",
     "output_type": "stream",
     "text": [
      "\n",
      "Epoch 00040: loss did not improve from 0.38183\n",
      "26/26 [==============================] - 35s 1s/step - loss: 0.3876 - mse_wrapper: 0.3876 - ca_wrapper: 0.8341 - meandiff: 3.3702 - val_loss: 0.7311 - val_mse_wrapper: 0.7311 - val_ca_wrapper: 0.8099 - val_meandiff: 3.5781 - lr: 1.0000e-04\n",
      "Epoch 41/100\n",
      "26/26 [==============================] - ETA: 0s - loss: 0.3797 - mse_wrapper: 0.3797 - ca_wrapper: 0.8384 - meandiff: 3.2837\n",
      "Epoch 00041: loss improved from 0.38183 to 0.37970, saving model to exp/cv_baseline_finalconv5/8_64_64__8_3_3_tenc64_conv1_MSE_NOnorm_augshiftscalerotbrigthness_taug3_3_batch8_f1/2021-03-02_23_26/model/model.h5\n",
      "26/26 [==============================] - 34s 1s/step - loss: 0.3797 - mse_wrapper: 0.3797 - ca_wrapper: 0.8384 - meandiff: 3.2837 - val_loss: 0.8582 - val_mse_wrapper: 0.8582 - val_ca_wrapper: 0.8273 - val_meandiff: 3.3750 - lr: 1.0000e-04\n",
      "Epoch 42/100\n",
      "26/26 [==============================] - ETA: 0s - loss: 0.3883 - mse_wrapper: 0.3883 - ca_wrapper: 0.8401 - meandiff: 3.5000"
     ]
    },
    {
     "name": "stderr",
     "output_type": "stream",
     "text": [
      "2021-03-02 23:53:12,079 INFO (4, 2, 36, 5)\n",
      "2021-03-02 23:53:12,653 INFO (4, 2, 36, 5)\n"
     ]
    },
    {
     "name": "stdout",
     "output_type": "stream",
     "text": [
      "\n",
      "Epoch 00042: loss did not improve from 0.37970\n",
      "26/26 [==============================] - 35s 1s/step - loss: 0.3883 - mse_wrapper: 0.3883 - ca_wrapper: 0.8401 - meandiff: 3.5000 - val_loss: 0.7567 - val_mse_wrapper: 0.7567 - val_ca_wrapper: 0.8112 - val_meandiff: 3.5938 - lr: 1.0000e-04\n",
      "Epoch 43/100\n",
      "26/26 [==============================] - ETA: 0s - loss: 0.3754 - mse_wrapper: 0.3754 - ca_wrapper: 0.8419 - meandiff: 3.3173\n",
      "Epoch 00043: loss improved from 0.37970 to 0.37541, saving model to exp/cv_baseline_finalconv5/8_64_64__8_3_3_tenc64_conv1_MSE_NOnorm_augshiftscalerotbrigthness_taug3_3_batch8_f1/2021-03-02_23_26/model/model.h5\n",
      "26/26 [==============================] - 34s 1s/step - loss: 0.3754 - mse_wrapper: 0.3754 - ca_wrapper: 0.8419 - meandiff: 3.3173 - val_loss: 0.6293 - val_mse_wrapper: 0.6293 - val_ca_wrapper: 0.8121 - val_meandiff: 3.5938 - lr: 1.0000e-04\n",
      "Epoch 44/100\n",
      "26/26 [==============================] - ETA: 0s - loss: 0.3741 - mse_wrapper: 0.3741 - ca_wrapper: 0.8381 - meandiff: 3.2692"
     ]
    },
    {
     "name": "stderr",
     "output_type": "stream",
     "text": [
      "2021-03-02 23:54:25,027 INFO (4, 2, 36, 5)\n",
      "2021-03-02 23:54:25,584 INFO (4, 2, 36, 5)\n"
     ]
    },
    {
     "name": "stdout",
     "output_type": "stream",
     "text": [
      "\n",
      "Epoch 00044: loss improved from 0.37541 to 0.37411, saving model to exp/cv_baseline_finalconv5/8_64_64__8_3_3_tenc64_conv1_MSE_NOnorm_augshiftscalerotbrigthness_taug3_3_batch8_f1/2021-03-02_23_26/model/model.h5\n",
      "26/26 [==============================] - 35s 1s/step - loss: 0.3741 - mse_wrapper: 0.3741 - ca_wrapper: 0.8381 - meandiff: 3.2692 - val_loss: 0.4642 - val_mse_wrapper: 0.4642 - val_ca_wrapper: 0.8329 - val_meandiff: 3.2031 - lr: 1.0000e-04\n",
      "Epoch 45/100\n",
      "26/26 [==============================] - ETA: 0s - loss: 0.3862 - mse_wrapper: 0.3862 - ca_wrapper: 0.8396 - meandiff: 3.3221\n",
      "Epoch 00045: loss did not improve from 0.37411\n",
      "26/26 [==============================] - 34s 1s/step - loss: 0.3862 - mse_wrapper: 0.3862 - ca_wrapper: 0.8396 - meandiff: 3.3221 - val_loss: 0.9180 - val_mse_wrapper: 0.9180 - val_ca_wrapper: 0.8186 - val_meandiff: 3.4531 - lr: 1.0000e-04\n",
      "Epoch 46/100\n",
      "26/26 [==============================] - ETA: 0s - loss: 0.3589 - mse_wrapper: 0.3589 - ca_wrapper: 0.8455 - meandiff: 3.1250"
     ]
    },
    {
     "name": "stderr",
     "output_type": "stream",
     "text": [
      "2021-03-02 23:55:37,540 INFO (4, 2, 36, 5)\n",
      "2021-03-02 23:55:38,076 INFO (4, 2, 36, 5)\n"
     ]
    },
    {
     "name": "stdout",
     "output_type": "stream",
     "text": [
      "\n",
      "Epoch 00046: loss improved from 0.37411 to 0.35892, saving model to exp/cv_baseline_finalconv5/8_64_64__8_3_3_tenc64_conv1_MSE_NOnorm_augshiftscalerotbrigthness_taug3_3_batch8_f1/2021-03-02_23_26/model/model.h5\n",
      "26/26 [==============================] - 36s 1s/step - loss: 0.3589 - mse_wrapper: 0.3589 - ca_wrapper: 0.8455 - meandiff: 3.1250 - val_loss: 0.6895 - val_mse_wrapper: 0.6895 - val_ca_wrapper: 0.8073 - val_meandiff: 3.9531 - lr: 1.0000e-04\n",
      "Epoch 47/100\n",
      "26/26 [==============================] - ETA: 0s - loss: 0.3597 - mse_wrapper: 0.3597 - ca_wrapper: 0.8447 - meandiff: 3.1298\n",
      "Epoch 00047: loss did not improve from 0.35892\n",
      "26/26 [==============================] - 34s 1s/step - loss: 0.3597 - mse_wrapper: 0.3597 - ca_wrapper: 0.8447 - meandiff: 3.1298 - val_loss: 0.6048 - val_mse_wrapper: 0.6048 - val_ca_wrapper: 0.8112 - val_meandiff: 3.5469 - lr: 1.0000e-04\n",
      "Epoch 48/100\n",
      "26/26 [==============================] - ETA: 0s - loss: 0.3629 - mse_wrapper: 0.3629 - ca_wrapper: 0.8492 - meandiff: 3.2500"
     ]
    },
    {
     "name": "stderr",
     "output_type": "stream",
     "text": [
      "2021-03-02 23:56:51,193 INFO (4, 2, 36, 5)\n",
      "2021-03-02 23:56:51,755 INFO (4, 2, 36, 5)\n"
     ]
    },
    {
     "name": "stdout",
     "output_type": "stream",
     "text": [
      "\n",
      "Epoch 00048: loss did not improve from 0.35892\n",
      "26/26 [==============================] - 35s 1s/step - loss: 0.3629 - mse_wrapper: 0.3629 - ca_wrapper: 0.8492 - meandiff: 3.2500 - val_loss: 0.6444 - val_mse_wrapper: 0.6444 - val_ca_wrapper: 0.8186 - val_meandiff: 3.4219 - lr: 1.0000e-04\n",
      "Epoch 49/100\n",
      "26/26 [==============================] - ETA: 0s - loss: 0.3645 - mse_wrapper: 0.3645 - ca_wrapper: 0.8447 - meandiff: 3.1250\n",
      "Epoch 00049: loss did not improve from 0.35892\n",
      "26/26 [==============================] - 34s 1s/step - loss: 0.3645 - mse_wrapper: 0.3645 - ca_wrapper: 0.8447 - meandiff: 3.1250 - val_loss: 0.9007 - val_mse_wrapper: 0.9007 - val_ca_wrapper: 0.7734 - val_meandiff: 3.2812 - lr: 1.0000e-04\n",
      "Epoch 50/100\n",
      "26/26 [==============================] - ETA: 0s - loss: 0.3405 - mse_wrapper: 0.3405 - ca_wrapper: 0.8479 - meandiff: 2.8606"
     ]
    },
    {
     "name": "stderr",
     "output_type": "stream",
     "text": [
      "2021-03-02 23:58:03,975 INFO (4, 2, 36, 5)\n",
      "2021-03-02 23:58:04,527 INFO (4, 2, 36, 5)\n"
     ]
    },
    {
     "name": "stdout",
     "output_type": "stream",
     "text": [
      "\n",
      "Epoch 00050: loss improved from 0.35892 to 0.34052, saving model to exp/cv_baseline_finalconv5/8_64_64__8_3_3_tenc64_conv1_MSE_NOnorm_augshiftscalerotbrigthness_taug3_3_batch8_f1/2021-03-02_23_26/model/model.h5\n",
      "26/26 [==============================] - 35s 1s/step - loss: 0.3405 - mse_wrapper: 0.3405 - ca_wrapper: 0.8479 - meandiff: 2.8606 - val_loss: 0.6463 - val_mse_wrapper: 0.6463 - val_ca_wrapper: 0.8177 - val_meandiff: 3.5625 - lr: 1.0000e-04\n",
      "Epoch 51/100\n",
      "26/26 [==============================] - ETA: 0s - loss: 0.3441 - mse_wrapper: 0.3441 - ca_wrapper: 0.8508 - meandiff: 3.0529\n",
      "Epoch 00051: loss did not improve from 0.34052\n",
      "26/26 [==============================] - 34s 1s/step - loss: 0.3441 - mse_wrapper: 0.3441 - ca_wrapper: 0.8508 - meandiff: 3.0529 - val_loss: 0.5520 - val_mse_wrapper: 0.5520 - val_ca_wrapper: 0.7947 - val_meandiff: 3.6875 - lr: 1.0000e-04\n",
      "Epoch 52/100\n",
      "26/26 [==============================] - ETA: 0s - loss: 0.3326 - mse_wrapper: 0.3326 - ca_wrapper: 0.8507 - meandiff: 3.0048"
     ]
    },
    {
     "name": "stderr",
     "output_type": "stream",
     "text": [
      "2021-03-02 23:59:16,809 INFO (4, 2, 36, 5)\n",
      "2021-03-02 23:59:17,329 INFO (4, 2, 36, 5)\n"
     ]
    },
    {
     "name": "stdout",
     "output_type": "stream",
     "text": [
      "\n",
      "Epoch 00052: loss improved from 0.34052 to 0.33264, saving model to exp/cv_baseline_finalconv5/8_64_64__8_3_3_tenc64_conv1_MSE_NOnorm_augshiftscalerotbrigthness_taug3_3_batch8_f1/2021-03-02_23_26/model/model.h5\n",
      "26/26 [==============================] - 35s 1s/step - loss: 0.3326 - mse_wrapper: 0.3326 - ca_wrapper: 0.8507 - meandiff: 3.0048 - val_loss: 1.1124 - val_mse_wrapper: 1.1124 - val_ca_wrapper: 0.7986 - val_meandiff: 3.4688 - lr: 1.0000e-04\n",
      "Epoch 53/100\n",
      "26/26 [==============================] - ETA: 0s - loss: 0.3289 - mse_wrapper: 0.3289 - ca_wrapper: 0.8512 - meandiff: 2.7692\n",
      "Epoch 00053: loss improved from 0.33264 to 0.32893, saving model to exp/cv_baseline_finalconv5/8_64_64__8_3_3_tenc64_conv1_MSE_NOnorm_augshiftscalerotbrigthness_taug3_3_batch8_f1/2021-03-02_23_26/model/model.h5\n",
      "26/26 [==============================] - 34s 1s/step - loss: 0.3289 - mse_wrapper: 0.3289 - ca_wrapper: 0.8512 - meandiff: 2.7692 - val_loss: 0.6244 - val_mse_wrapper: 0.6244 - val_ca_wrapper: 0.8056 - val_meandiff: 3.5938 - lr: 1.0000e-04\n",
      "Epoch 54/100\n",
      "26/26 [==============================] - ETA: 0s - loss: 0.3463 - mse_wrapper: 0.3463 - ca_wrapper: 0.8476 - meandiff: 3.0913"
     ]
    },
    {
     "name": "stderr",
     "output_type": "stream",
     "text": [
      "2021-03-03 00:00:30,066 INFO (4, 2, 36, 5)\n",
      "2021-03-03 00:00:30,619 INFO (4, 2, 36, 5)\n"
     ]
    },
    {
     "name": "stdout",
     "output_type": "stream",
     "text": [
      "\n",
      "Epoch 00054: loss did not improve from 0.32893\n",
      "26/26 [==============================] - 35s 1s/step - loss: 0.3463 - mse_wrapper: 0.3463 - ca_wrapper: 0.8476 - meandiff: 3.0913 - val_loss: 0.6983 - val_mse_wrapper: 0.6983 - val_ca_wrapper: 0.8112 - val_meandiff: 3.4375 - lr: 1.0000e-04\n",
      "Epoch 55/100\n",
      "26/26 [==============================] - ETA: 0s - loss: 0.3658 - mse_wrapper: 0.3658 - ca_wrapper: 0.8391 - meandiff: 3.2596\n",
      "Epoch 00055: loss did not improve from 0.32893\n",
      "26/26 [==============================] - 34s 1s/step - loss: 0.3658 - mse_wrapper: 0.3658 - ca_wrapper: 0.8391 - meandiff: 3.2596 - val_loss: 0.6285 - val_mse_wrapper: 0.6285 - val_ca_wrapper: 0.8229 - val_meandiff: 3.5312 - lr: 1.0000e-04\n",
      "Epoch 56/100\n",
      "26/26 [==============================] - ETA: 0s - loss: 0.3404 - mse_wrapper: 0.3404 - ca_wrapper: 0.8526 - meandiff: 2.7404"
     ]
    },
    {
     "name": "stderr",
     "output_type": "stream",
     "text": [
      "2021-03-03 00:01:42,936 INFO (4, 2, 36, 5)\n",
      "2021-03-03 00:01:43,502 INFO (4, 2, 36, 5)\n"
     ]
    },
    {
     "name": "stdout",
     "output_type": "stream",
     "text": [
      "\n",
      "Epoch 00056: loss did not improve from 0.32893\n",
      "26/26 [==============================] - 35s 1s/step - loss: 0.3404 - mse_wrapper: 0.3404 - ca_wrapper: 0.8526 - meandiff: 2.7404 - val_loss: 0.9198 - val_mse_wrapper: 0.9198 - val_ca_wrapper: 0.8446 - val_meandiff: 3.4219 - lr: 1.0000e-04\n",
      "Epoch 57/100\n",
      "26/26 [==============================] - ETA: 0s - loss: 0.3250 - mse_wrapper: 0.3250 - ca_wrapper: 0.8499 - meandiff: 2.7452\n",
      "Epoch 00057: loss improved from 0.32893 to 0.32500, saving model to exp/cv_baseline_finalconv5/8_64_64__8_3_3_tenc64_conv1_MSE_NOnorm_augshiftscalerotbrigthness_taug3_3_batch8_f1/2021-03-02_23_26/model/model.h5\n",
      "26/26 [==============================] - 34s 1s/step - loss: 0.3250 - mse_wrapper: 0.3250 - ca_wrapper: 0.8499 - meandiff: 2.7452 - val_loss: 0.5864 - val_mse_wrapper: 0.5864 - val_ca_wrapper: 0.8242 - val_meandiff: 3.3125 - lr: 1.0000e-04\n",
      "Epoch 58/100\n",
      "26/26 [==============================] - ETA: 0s - loss: 0.3106 - mse_wrapper: 0.3106 - ca_wrapper: 0.8547 - meandiff: 2.7212"
     ]
    },
    {
     "name": "stderr",
     "output_type": "stream",
     "text": [
      "2021-03-03 00:02:55,564 INFO (4, 2, 36, 5)\n",
      "2021-03-03 00:02:57,034 INFO (4, 2, 36, 5)\n"
     ]
    },
    {
     "name": "stdout",
     "output_type": "stream",
     "text": [
      "\n",
      "Epoch 00058: loss improved from 0.32500 to 0.31060, saving model to exp/cv_baseline_finalconv5/8_64_64__8_3_3_tenc64_conv1_MSE_NOnorm_augshiftscalerotbrigthness_taug3_3_batch8_f1/2021-03-02_23_26/model/model.h5\n",
      "26/26 [==============================] - 36s 1s/step - loss: 0.3106 - mse_wrapper: 0.3106 - ca_wrapper: 0.8547 - meandiff: 2.7212 - val_loss: 0.7682 - val_mse_wrapper: 0.7682 - val_ca_wrapper: 0.7982 - val_meandiff: 3.1094 - lr: 1.0000e-04\n",
      "Epoch 59/100\n",
      "26/26 [==============================] - ETA: 0s - loss: 0.3221 - mse_wrapper: 0.3221 - ca_wrapper: 0.8496 - meandiff: 2.7981\n",
      "Epoch 00059: loss did not improve from 0.31060\n",
      "26/26 [==============================] - 34s 1s/step - loss: 0.3221 - mse_wrapper: 0.3221 - ca_wrapper: 0.8496 - meandiff: 2.7981 - val_loss: 0.8390 - val_mse_wrapper: 0.8390 - val_ca_wrapper: 0.8090 - val_meandiff: 3.3281 - lr: 1.0000e-04\n",
      "Epoch 60/100\n",
      "26/26 [==============================] - ETA: 0s - loss: 0.3116 - mse_wrapper: 0.3116 - ca_wrapper: 0.8544 - meandiff: 2.7067"
     ]
    },
    {
     "name": "stderr",
     "output_type": "stream",
     "text": [
      "2021-03-03 00:04:09,651 INFO (4, 2, 36, 5)\n",
      "2021-03-03 00:04:10,218 INFO (4, 2, 36, 5)\n"
     ]
    },
    {
     "name": "stdout",
     "output_type": "stream",
     "text": [
      "\n",
      "Epoch 00060: loss did not improve from 0.31060\n",
      "26/26 [==============================] - 35s 1s/step - loss: 0.3116 - mse_wrapper: 0.3116 - ca_wrapper: 0.8544 - meandiff: 2.7067 - val_loss: 0.7011 - val_mse_wrapper: 0.7011 - val_ca_wrapper: 0.7713 - val_meandiff: 3.2500 - lr: 1.0000e-04\n",
      "Epoch 61/100\n",
      "26/26 [==============================] - ETA: 0s - loss: 0.3313 - mse_wrapper: 0.3313 - ca_wrapper: 0.8468 - meandiff: 2.9471\n",
      "Epoch 00061: loss did not improve from 0.31060\n",
      "26/26 [==============================] - 34s 1s/step - loss: 0.3313 - mse_wrapper: 0.3313 - ca_wrapper: 0.8468 - meandiff: 2.9471 - val_loss: 0.7484 - val_mse_wrapper: 0.7484 - val_ca_wrapper: 0.8268 - val_meandiff: 3.6719 - lr: 1.0000e-04\n",
      "Epoch 62/100\n",
      "26/26 [==============================] - ETA: 0s - loss: 0.3165 - mse_wrapper: 0.3165 - ca_wrapper: 0.8531 - meandiff: 2.7452"
     ]
    },
    {
     "name": "stderr",
     "output_type": "stream",
     "text": [
      "2021-03-03 00:05:22,234 INFO (4, 2, 36, 5)\n",
      "2021-03-03 00:05:22,764 INFO (4, 2, 36, 5)\n"
     ]
    },
    {
     "name": "stdout",
     "output_type": "stream",
     "text": [
      "\n",
      "Epoch 00062: loss did not improve from 0.31060\n",
      "26/26 [==============================] - 35s 1s/step - loss: 0.3165 - mse_wrapper: 0.3165 - ca_wrapper: 0.8531 - meandiff: 2.7452 - val_loss: 0.8249 - val_mse_wrapper: 0.8249 - val_ca_wrapper: 0.8320 - val_meandiff: 3.2344 - lr: 1.0000e-04\n",
      "Epoch 63/100\n",
      "26/26 [==============================] - ETA: 0s - loss: 0.3242 - mse_wrapper: 0.3242 - ca_wrapper: 0.8587 - meandiff: 2.7260\n",
      "Epoch 00063: loss did not improve from 0.31060\n",
      "\n",
      "Epoch 00063: ReduceLROnPlateau reducing learning rate to 6.999999823165126e-05.\n",
      "26/26 [==============================] - 34s 1s/step - loss: 0.3242 - mse_wrapper: 0.3242 - ca_wrapper: 0.8587 - meandiff: 2.7260 - val_loss: 0.9152 - val_mse_wrapper: 0.9152 - val_ca_wrapper: 0.8238 - val_meandiff: 3.5156 - lr: 7.0000e-05\n",
      "Epoch 64/100\n",
      "26/26 [==============================] - ETA: 0s - loss: 0.2921 - mse_wrapper: 0.2921 - ca_wrapper: 0.8559 - meandiff: 2.3846"
     ]
    },
    {
     "name": "stderr",
     "output_type": "stream",
     "text": [
      "2021-03-03 00:06:34,661 INFO (4, 2, 36, 5)\n",
      "2021-03-03 00:06:35,231 INFO (4, 2, 36, 5)\n"
     ]
    },
    {
     "name": "stdout",
     "output_type": "stream",
     "text": [
      "\n",
      "Epoch 00064: loss improved from 0.31060 to 0.29211, saving model to exp/cv_baseline_finalconv5/8_64_64__8_3_3_tenc64_conv1_MSE_NOnorm_augshiftscalerotbrigthness_taug3_3_batch8_f1/2021-03-02_23_26/model/model.h5\n",
      "26/26 [==============================] - 35s 1s/step - loss: 0.2921 - mse_wrapper: 0.2921 - ca_wrapper: 0.8559 - meandiff: 2.3846 - val_loss: 0.6791 - val_mse_wrapper: 0.6791 - val_ca_wrapper: 0.8303 - val_meandiff: 3.3750 - lr: 7.0000e-05\n",
      "Epoch 65/100\n",
      "26/26 [==============================] - ETA: 0s - loss: 0.3017 - mse_wrapper: 0.3017 - ca_wrapper: 0.8622 - meandiff: 2.6010\n",
      "Epoch 00065: loss did not improve from 0.29211\n",
      "26/26 [==============================] - 34s 1s/step - loss: 0.3017 - mse_wrapper: 0.3017 - ca_wrapper: 0.8622 - meandiff: 2.6010 - val_loss: 0.6875 - val_mse_wrapper: 0.6875 - val_ca_wrapper: 0.8277 - val_meandiff: 3.5625 - lr: 7.0000e-05\n",
      "Epoch 66/100\n",
      "26/26 [==============================] - ETA: 0s - loss: 0.2973 - mse_wrapper: 0.2973 - ca_wrapper: 0.8640 - meandiff: 2.6298"
     ]
    },
    {
     "name": "stderr",
     "output_type": "stream",
     "text": [
      "2021-03-03 00:07:47,690 INFO (4, 2, 36, 5)\n",
      "2021-03-03 00:07:48,246 INFO (4, 2, 36, 5)\n"
     ]
    },
    {
     "name": "stdout",
     "output_type": "stream",
     "text": [
      "\n",
      "Epoch 00066: loss did not improve from 0.29211\n",
      "26/26 [==============================] - 35s 1s/step - loss: 0.2973 - mse_wrapper: 0.2973 - ca_wrapper: 0.8640 - meandiff: 2.6298 - val_loss: 0.6427 - val_mse_wrapper: 0.6427 - val_ca_wrapper: 0.8116 - val_meandiff: 3.8125 - lr: 7.0000e-05\n",
      "Epoch 67/100\n",
      "26/26 [==============================] - ETA: 0s - loss: 0.2910 - mse_wrapper: 0.2910 - ca_wrapper: 0.8571 - meandiff: 2.4760\n",
      "Epoch 00067: loss improved from 0.29211 to 0.29105, saving model to exp/cv_baseline_finalconv5/8_64_64__8_3_3_tenc64_conv1_MSE_NOnorm_augshiftscalerotbrigthness_taug3_3_batch8_f1/2021-03-02_23_26/model/model.h5\n",
      "26/26 [==============================] - 34s 1s/step - loss: 0.2910 - mse_wrapper: 0.2910 - ca_wrapper: 0.8571 - meandiff: 2.4760 - val_loss: 0.6807 - val_mse_wrapper: 0.6807 - val_ca_wrapper: 0.8255 - val_meandiff: 3.4688 - lr: 7.0000e-05\n",
      "Epoch 68/100\n",
      "26/26 [==============================] - ETA: 0s - loss: 0.2898 - mse_wrapper: 0.2898 - ca_wrapper: 0.8584 - meandiff: 2.5000"
     ]
    },
    {
     "name": "stderr",
     "output_type": "stream",
     "text": [
      "2021-03-03 00:09:00,280 INFO (4, 2, 36, 5)\n",
      "2021-03-03 00:09:00,845 INFO (4, 2, 36, 5)\n"
     ]
    },
    {
     "name": "stdout",
     "output_type": "stream",
     "text": [
      "\n",
      "Epoch 00068: loss improved from 0.29105 to 0.28975, saving model to exp/cv_baseline_finalconv5/8_64_64__8_3_3_tenc64_conv1_MSE_NOnorm_augshiftscalerotbrigthness_taug3_3_batch8_f1/2021-03-02_23_26/model/model.h5\n",
      "26/26 [==============================] - 35s 1s/step - loss: 0.2898 - mse_wrapper: 0.2898 - ca_wrapper: 0.8584 - meandiff: 2.5000 - val_loss: 0.7821 - val_mse_wrapper: 0.7821 - val_ca_wrapper: 0.8251 - val_meandiff: 3.3125 - lr: 7.0000e-05\n",
      "Epoch 69/100\n",
      "26/26 [==============================] - ETA: 0s - loss: 0.2986 - mse_wrapper: 0.2986 - ca_wrapper: 0.8579 - meandiff: 2.5000\n",
      "Epoch 00069: loss did not improve from 0.28975\n",
      "26/26 [==============================] - 33s 1s/step - loss: 0.2986 - mse_wrapper: 0.2986 - ca_wrapper: 0.8579 - meandiff: 2.5000 - val_loss: 0.7226 - val_mse_wrapper: 0.7226 - val_ca_wrapper: 0.8008 - val_meandiff: 3.4062 - lr: 7.0000e-05\n",
      "Epoch 70/100\n",
      "26/26 [==============================] - ETA: 0s - loss: 0.2791 - mse_wrapper: 0.2791 - ca_wrapper: 0.8563 - meandiff: 2.4567"
     ]
    },
    {
     "name": "stderr",
     "output_type": "stream",
     "text": [
      "2021-03-03 00:10:12,625 INFO (4, 2, 36, 5)\n",
      "2021-03-03 00:10:13,182 INFO (4, 2, 36, 5)\n"
     ]
    },
    {
     "name": "stdout",
     "output_type": "stream",
     "text": [
      "\n",
      "Epoch 00070: loss improved from 0.28975 to 0.27913, saving model to exp/cv_baseline_finalconv5/8_64_64__8_3_3_tenc64_conv1_MSE_NOnorm_augshiftscalerotbrigthness_taug3_3_batch8_f1/2021-03-02_23_26/model/model.h5\n",
      "26/26 [==============================] - 35s 1s/step - loss: 0.2791 - mse_wrapper: 0.2791 - ca_wrapper: 0.8563 - meandiff: 2.4567 - val_loss: 0.9005 - val_mse_wrapper: 0.9005 - val_ca_wrapper: 0.8290 - val_meandiff: 3.5156 - lr: 7.0000e-05\n",
      "Epoch 71/100\n",
      "26/26 [==============================] - ETA: 0s - loss: 0.2961 - mse_wrapper: 0.2961 - ca_wrapper: 0.8567 - meandiff: 2.4183\n",
      "Epoch 00071: loss did not improve from 0.27913\n",
      "26/26 [==============================] - 34s 1s/step - loss: 0.2961 - mse_wrapper: 0.2961 - ca_wrapper: 0.8567 - meandiff: 2.4183 - val_loss: 0.7114 - val_mse_wrapper: 0.7114 - val_ca_wrapper: 0.8194 - val_meandiff: 3.3125 - lr: 7.0000e-05\n",
      "Epoch 72/100\n",
      "26/26 [==============================] - ETA: 0s - loss: 0.2835 - mse_wrapper: 0.2835 - ca_wrapper: 0.8643 - meandiff: 2.3750"
     ]
    },
    {
     "name": "stderr",
     "output_type": "stream",
     "text": [
      "2021-03-03 00:11:25,436 INFO (4, 2, 36, 5)\n",
      "2021-03-03 00:11:25,971 INFO (4, 2, 36, 5)\n"
     ]
    },
    {
     "name": "stdout",
     "output_type": "stream",
     "text": [
      "\n",
      "Epoch 00072: loss did not improve from 0.27913\n",
      "26/26 [==============================] - 35s 1s/step - loss: 0.2835 - mse_wrapper: 0.2835 - ca_wrapper: 0.8643 - meandiff: 2.3750 - val_loss: 0.7326 - val_mse_wrapper: 0.7326 - val_ca_wrapper: 0.8346 - val_meandiff: 3.3906 - lr: 7.0000e-05\n",
      "Epoch 73/100\n",
      "26/26 [==============================] - ETA: 0s - loss: 0.2764 - mse_wrapper: 0.2764 - ca_wrapper: 0.8595 - meandiff: 2.1250\n",
      "Epoch 00073: loss improved from 0.27913 to 0.27644, saving model to exp/cv_baseline_finalconv5/8_64_64__8_3_3_tenc64_conv1_MSE_NOnorm_augshiftscalerotbrigthness_taug3_3_batch8_f1/2021-03-02_23_26/model/model.h5\n",
      "26/26 [==============================] - 34s 1s/step - loss: 0.2764 - mse_wrapper: 0.2764 - ca_wrapper: 0.8595 - meandiff: 2.1250 - val_loss: 0.7586 - val_mse_wrapper: 0.7586 - val_ca_wrapper: 0.8255 - val_meandiff: 3.2656 - lr: 7.0000e-05\n",
      "Epoch 74/100\n",
      "26/26 [==============================] - ETA: 0s - loss: 0.2913 - mse_wrapper: 0.2913 - ca_wrapper: 0.8556 - meandiff: 2.4135"
     ]
    },
    {
     "name": "stderr",
     "output_type": "stream",
     "text": [
      "2021-03-03 00:12:38,044 INFO (4, 2, 36, 5)\n",
      "2021-03-03 00:12:38,608 INFO (4, 2, 36, 5)\n"
     ]
    },
    {
     "name": "stdout",
     "output_type": "stream",
     "text": [
      "\n",
      "Epoch 00074: loss did not improve from 0.27644\n",
      "26/26 [==============================] - 35s 1s/step - loss: 0.2913 - mse_wrapper: 0.2913 - ca_wrapper: 0.8556 - meandiff: 2.4135 - val_loss: 0.8639 - val_mse_wrapper: 0.8639 - val_ca_wrapper: 0.8281 - val_meandiff: 3.3750 - lr: 7.0000e-05\n",
      "Epoch 75/100\n",
      "26/26 [==============================] - ETA: 0s - loss: 0.2694 - mse_wrapper: 0.2694 - ca_wrapper: 0.8638 - meandiff: 2.2115\n",
      "Epoch 00075: loss improved from 0.27644 to 0.26937, saving model to exp/cv_baseline_finalconv5/8_64_64__8_3_3_tenc64_conv1_MSE_NOnorm_augshiftscalerotbrigthness_taug3_3_batch8_f1/2021-03-02_23_26/model/model.h5\n",
      "26/26 [==============================] - 34s 1s/step - loss: 0.2694 - mse_wrapper: 0.2694 - ca_wrapper: 0.8638 - meandiff: 2.2115 - val_loss: 0.6373 - val_mse_wrapper: 0.6373 - val_ca_wrapper: 0.8021 - val_meandiff: 3.6719 - lr: 7.0000e-05\n",
      "Epoch 76/100\n",
      "26/26 [==============================] - ETA: 0s - loss: 0.2712 - mse_wrapper: 0.2712 - ca_wrapper: 0.8582 - meandiff: 2.3798"
     ]
    },
    {
     "name": "stderr",
     "output_type": "stream",
     "text": [
      "2021-03-03 00:13:50,832 INFO (4, 2, 36, 5)\n",
      "2021-03-03 00:13:51,420 INFO (4, 2, 36, 5)\n"
     ]
    },
    {
     "name": "stdout",
     "output_type": "stream",
     "text": [
      "\n",
      "Epoch 00076: loss did not improve from 0.26937\n",
      "26/26 [==============================] - 35s 1s/step - loss: 0.2712 - mse_wrapper: 0.2712 - ca_wrapper: 0.8582 - meandiff: 2.3798 - val_loss: 0.7141 - val_mse_wrapper: 0.7141 - val_ca_wrapper: 0.8199 - val_meandiff: 3.2969 - lr: 7.0000e-05\n",
      "Epoch 77/100\n",
      "26/26 [==============================] - ETA: 0s - loss: 0.2694 - mse_wrapper: 0.2694 - ca_wrapper: 0.8562 - meandiff: 2.2452\n",
      "Epoch 00077: loss did not improve from 0.26937\n",
      "26/26 [==============================] - 34s 1s/step - loss: 0.2694 - mse_wrapper: 0.2694 - ca_wrapper: 0.8562 - meandiff: 2.2452 - val_loss: 0.6899 - val_mse_wrapper: 0.6899 - val_ca_wrapper: 0.7969 - val_meandiff: 3.7500 - lr: 7.0000e-05\n",
      "Epoch 78/100\n",
      "26/26 [==============================] - ETA: 0s - loss: 0.2684 - mse_wrapper: 0.2684 - ca_wrapper: 0.8640 - meandiff: 2.3606"
     ]
    },
    {
     "name": "stderr",
     "output_type": "stream",
     "text": [
      "2021-03-03 00:15:03,653 INFO (4, 2, 36, 5)\n",
      "2021-03-03 00:15:04,222 INFO (4, 2, 36, 5)\n"
     ]
    },
    {
     "name": "stdout",
     "output_type": "stream",
     "text": [
      "\n",
      "Epoch 00078: loss improved from 0.26937 to 0.26839, saving model to exp/cv_baseline_finalconv5/8_64_64__8_3_3_tenc64_conv1_MSE_NOnorm_augshiftscalerotbrigthness_taug3_3_batch8_f1/2021-03-02_23_26/model/model.h5\n",
      "26/26 [==============================] - 35s 1s/step - loss: 0.2684 - mse_wrapper: 0.2684 - ca_wrapper: 0.8640 - meandiff: 2.3606 - val_loss: 0.7424 - val_mse_wrapper: 0.7424 - val_ca_wrapper: 0.8290 - val_meandiff: 3.1406 - lr: 7.0000e-05\n",
      "Epoch 79/100\n",
      "26/26 [==============================] - ETA: 0s - loss: 0.2658 - mse_wrapper: 0.2658 - ca_wrapper: 0.8619 - meandiff: 2.1923\n",
      "Epoch 00079: loss improved from 0.26839 to 0.26578, saving model to exp/cv_baseline_finalconv5/8_64_64__8_3_3_tenc64_conv1_MSE_NOnorm_augshiftscalerotbrigthness_taug3_3_batch8_f1/2021-03-02_23_26/model/model.h5\n",
      "26/26 [==============================] - 34s 1s/step - loss: 0.2658 - mse_wrapper: 0.2658 - ca_wrapper: 0.8619 - meandiff: 2.1923 - val_loss: 0.6853 - val_mse_wrapper: 0.6853 - val_ca_wrapper: 0.8047 - val_meandiff: 3.5781 - lr: 7.0000e-05\n",
      "Epoch 80/100\n",
      "26/26 [==============================] - ETA: 0s - loss: 0.2538 - mse_wrapper: 0.2538 - ca_wrapper: 0.8703 - meandiff: 2.0625"
     ]
    },
    {
     "name": "stderr",
     "output_type": "stream",
     "text": [
      "2021-03-03 00:16:16,940 INFO (4, 2, 36, 5)\n",
      "2021-03-03 00:16:17,495 INFO (4, 2, 36, 5)\n"
     ]
    },
    {
     "name": "stdout",
     "output_type": "stream",
     "text": [
      "\n",
      "Epoch 00080: loss improved from 0.26578 to 0.25382, saving model to exp/cv_baseline_finalconv5/8_64_64__8_3_3_tenc64_conv1_MSE_NOnorm_augshiftscalerotbrigthness_taug3_3_batch8_f1/2021-03-02_23_26/model/model.h5\n",
      "26/26 [==============================] - 35s 1s/step - loss: 0.2538 - mse_wrapper: 0.2538 - ca_wrapper: 0.8703 - meandiff: 2.0625 - val_loss: 0.8295 - val_mse_wrapper: 0.8295 - val_ca_wrapper: 0.7982 - val_meandiff: 3.6562 - lr: 7.0000e-05\n",
      "Epoch 81/100\n",
      "26/26 [==============================] - ETA: 0s - loss: 0.2573 - mse_wrapper: 0.2573 - ca_wrapper: 0.8622 - meandiff: 2.0240\n",
      "Epoch 00081: loss did not improve from 0.25382\n",
      "26/26 [==============================] - 34s 1s/step - loss: 0.2573 - mse_wrapper: 0.2573 - ca_wrapper: 0.8622 - meandiff: 2.0240 - val_loss: 0.7657 - val_mse_wrapper: 0.7657 - val_ca_wrapper: 0.8264 - val_meandiff: 3.3281 - lr: 7.0000e-05\n",
      "Epoch 82/100\n",
      "26/26 [==============================] - ETA: 0s - loss: 0.2627 - mse_wrapper: 0.2627 - ca_wrapper: 0.8618 - meandiff: 2.2452"
     ]
    },
    {
     "name": "stderr",
     "output_type": "stream",
     "text": [
      "2021-03-03 00:17:29,894 INFO (4, 2, 36, 5)\n",
      "2021-03-03 00:17:30,459 INFO (4, 2, 36, 5)\n"
     ]
    },
    {
     "name": "stdout",
     "output_type": "stream",
     "text": [
      "\n",
      "Epoch 00082: loss did not improve from 0.25382\n",
      "26/26 [==============================] - 35s 1s/step - loss: 0.2627 - mse_wrapper: 0.2627 - ca_wrapper: 0.8618 - meandiff: 2.2452 - val_loss: 0.7188 - val_mse_wrapper: 0.7188 - val_ca_wrapper: 0.8151 - val_meandiff: 3.4844 - lr: 7.0000e-05\n",
      "Epoch 83/100\n",
      "26/26 [==============================] - ETA: 0s - loss: 0.2671 - mse_wrapper: 0.2671 - ca_wrapper: 0.8661 - meandiff: 2.1250\n",
      "Epoch 00083: loss did not improve from 0.25382\n",
      "26/26 [==============================] - 34s 1s/step - loss: 0.2671 - mse_wrapper: 0.2671 - ca_wrapper: 0.8661 - meandiff: 2.1250 - val_loss: 1.0186 - val_mse_wrapper: 1.0186 - val_ca_wrapper: 0.8095 - val_meandiff: 3.2812 - lr: 7.0000e-05\n",
      "Epoch 84/100\n",
      "26/26 [==============================] - ETA: 0s - loss: 0.2603 - mse_wrapper: 0.2603 - ca_wrapper: 0.8590 - meandiff: 2.1875"
     ]
    },
    {
     "name": "stderr",
     "output_type": "stream",
     "text": [
      "2021-03-03 00:18:43,037 INFO (4, 2, 36, 5)\n",
      "2021-03-03 00:18:43,577 INFO (4, 2, 36, 5)\n"
     ]
    },
    {
     "name": "stdout",
     "output_type": "stream",
     "text": [
      "\n",
      "Epoch 00084: loss did not improve from 0.25382\n",
      "26/26 [==============================] - 35s 1s/step - loss: 0.2603 - mse_wrapper: 0.2603 - ca_wrapper: 0.8590 - meandiff: 2.1875 - val_loss: 1.0192 - val_mse_wrapper: 1.0192 - val_ca_wrapper: 0.8433 - val_meandiff: 3.1719 - lr: 7.0000e-05\n",
      "Epoch 85/100\n",
      "26/26 [==============================] - ETA: 0s - loss: 0.2512 - mse_wrapper: 0.2512 - ca_wrapper: 0.8626 - meandiff: 2.0769\n",
      "Epoch 00085: loss improved from 0.25382 to 0.25118, saving model to exp/cv_baseline_finalconv5/8_64_64__8_3_3_tenc64_conv1_MSE_NOnorm_augshiftscalerotbrigthness_taug3_3_batch8_f1/2021-03-02_23_26/model/model.h5\n",
      "26/26 [==============================] - 34s 1s/step - loss: 0.2512 - mse_wrapper: 0.2512 - ca_wrapper: 0.8626 - meandiff: 2.0769 - val_loss: 0.6474 - val_mse_wrapper: 0.6474 - val_ca_wrapper: 0.8134 - val_meandiff: 3.2656 - lr: 7.0000e-05\n",
      "Epoch 86/100\n",
      "26/26 [==============================] - ETA: 0s - loss: 0.2523 - mse_wrapper: 0.2523 - ca_wrapper: 0.8657 - meandiff: 1.9279"
     ]
    },
    {
     "name": "stderr",
     "output_type": "stream",
     "text": [
      "2021-03-03 00:19:55,716 INFO (4, 2, 36, 5)\n",
      "2021-03-03 00:19:56,257 INFO (4, 2, 36, 5)\n"
     ]
    },
    {
     "name": "stdout",
     "output_type": "stream",
     "text": [
      "\n",
      "Epoch 00086: loss did not improve from 0.25118\n",
      "26/26 [==============================] - 35s 1s/step - loss: 0.2523 - mse_wrapper: 0.2523 - ca_wrapper: 0.8657 - meandiff: 1.9279 - val_loss: 0.6946 - val_mse_wrapper: 0.6946 - val_ca_wrapper: 0.8286 - val_meandiff: 3.3438 - lr: 7.0000e-05\n",
      "Epoch 87/100\n",
      "26/26 [==============================] - ETA: 0s - loss: 0.2537 - mse_wrapper: 0.2537 - ca_wrapper: 0.8667 - meandiff: 1.9663\n",
      "Epoch 00087: loss did not improve from 0.25118\n",
      "26/26 [==============================] - 34s 1s/step - loss: 0.2537 - mse_wrapper: 0.2537 - ca_wrapper: 0.8667 - meandiff: 1.9663 - val_loss: 0.5693 - val_mse_wrapper: 0.5693 - val_ca_wrapper: 0.8138 - val_meandiff: 3.4531 - lr: 7.0000e-05\n",
      "Epoch 88/100\n",
      "26/26 [==============================] - ETA: 0s - loss: 0.2411 - mse_wrapper: 0.2411 - ca_wrapper: 0.8650 - meandiff: 1.8942"
     ]
    },
    {
     "name": "stderr",
     "output_type": "stream",
     "text": [
      "2021-03-03 00:21:08,464 INFO (4, 2, 36, 5)\n",
      "2021-03-03 00:21:09,027 INFO (4, 2, 36, 5)\n"
     ]
    },
    {
     "name": "stdout",
     "output_type": "stream",
     "text": [
      "\n",
      "Epoch 00088: loss improved from 0.25118 to 0.24113, saving model to exp/cv_baseline_finalconv5/8_64_64__8_3_3_tenc64_conv1_MSE_NOnorm_augshiftscalerotbrigthness_taug3_3_batch8_f1/2021-03-02_23_26/model/model.h5\n",
      "26/26 [==============================] - 35s 1s/step - loss: 0.2411 - mse_wrapper: 0.2411 - ca_wrapper: 0.8650 - meandiff: 1.8942 - val_loss: 0.8510 - val_mse_wrapper: 0.8510 - val_ca_wrapper: 0.7917 - val_meandiff: 3.5781 - lr: 7.0000e-05\n",
      "Epoch 89/100\n",
      "26/26 [==============================] - ETA: 0s - loss: 0.2479 - mse_wrapper: 0.2479 - ca_wrapper: 0.8651 - meandiff: 1.8606\n",
      "Epoch 00089: loss did not improve from 0.24113\n",
      "26/26 [==============================] - 34s 1s/step - loss: 0.2479 - mse_wrapper: 0.2479 - ca_wrapper: 0.8651 - meandiff: 1.8606 - val_loss: 0.8518 - val_mse_wrapper: 0.8518 - val_ca_wrapper: 0.7817 - val_meandiff: 3.5938 - lr: 7.0000e-05\n",
      "Epoch 90/100\n",
      "26/26 [==============================] - ETA: 0s - loss: 0.2437 - mse_wrapper: 0.2437 - ca_wrapper: 0.8671 - meandiff: 1.9423"
     ]
    },
    {
     "name": "stderr",
     "output_type": "stream",
     "text": [
      "2021-03-03 00:22:21,229 INFO (4, 2, 36, 5)\n",
      "2021-03-03 00:22:21,791 INFO (4, 2, 36, 5)\n"
     ]
    },
    {
     "name": "stdout",
     "output_type": "stream",
     "text": [
      "\n",
      "Epoch 00090: loss did not improve from 0.24113\n",
      "26/26 [==============================] - 35s 1s/step - loss: 0.2437 - mse_wrapper: 0.2437 - ca_wrapper: 0.8671 - meandiff: 1.9423 - val_loss: 0.7926 - val_mse_wrapper: 0.7926 - val_ca_wrapper: 0.8056 - val_meandiff: 3.5156 - lr: 7.0000e-05\n",
      "Epoch 91/100\n",
      "26/26 [==============================] - ETA: 0s - loss: 0.2584 - mse_wrapper: 0.2584 - ca_wrapper: 0.8584 - meandiff: 1.9663\n",
      "Epoch 00091: loss did not improve from 0.24113\n",
      "26/26 [==============================] - 34s 1s/step - loss: 0.2584 - mse_wrapper: 0.2584 - ca_wrapper: 0.8584 - meandiff: 1.9663 - val_loss: 0.6732 - val_mse_wrapper: 0.6732 - val_ca_wrapper: 0.8016 - val_meandiff: 3.5469 - lr: 7.0000e-05\n",
      "Epoch 92/100\n",
      "26/26 [==============================] - ETA: 0s - loss: 0.2554 - mse_wrapper: 0.2554 - ca_wrapper: 0.8600 - meandiff: 2.1538"
     ]
    },
    {
     "name": "stderr",
     "output_type": "stream",
     "text": [
      "2021-03-03 00:23:33,907 INFO (4, 2, 36, 5)\n",
      "2021-03-03 00:23:34,439 INFO (4, 2, 36, 5)\n"
     ]
    },
    {
     "name": "stdout",
     "output_type": "stream",
     "text": [
      "\n",
      "Epoch 00092: loss did not improve from 0.24113\n",
      "26/26 [==============================] - 35s 1s/step - loss: 0.2554 - mse_wrapper: 0.2554 - ca_wrapper: 0.8600 - meandiff: 2.1538 - val_loss: 0.7158 - val_mse_wrapper: 0.7158 - val_ca_wrapper: 0.8095 - val_meandiff: 3.2812 - lr: 7.0000e-05\n",
      "Epoch 93/100\n",
      "26/26 [==============================] - ETA: 0s - loss: 0.2510 - mse_wrapper: 0.2510 - ca_wrapper: 0.8612 - meandiff: 2.0817\n",
      "Epoch 00093: loss did not improve from 0.24113\n",
      "\n",
      "Epoch 00093: ReduceLROnPlateau reducing learning rate to 4.899999621557071e-05.\n",
      "26/26 [==============================] - 34s 1s/step - loss: 0.2510 - mse_wrapper: 0.2510 - ca_wrapper: 0.8612 - meandiff: 2.0817 - val_loss: 1.0075 - val_mse_wrapper: 1.0075 - val_ca_wrapper: 0.8129 - val_meandiff: 3.2969 - lr: 4.9000e-05\n",
      "Epoch 94/100\n",
      "26/26 [==============================] - ETA: 0s - loss: 0.2384 - mse_wrapper: 0.2384 - ca_wrapper: 0.8647 - meandiff: 1.7067"
     ]
    },
    {
     "name": "stderr",
     "output_type": "stream",
     "text": [
      "2021-03-03 00:24:46,577 INFO (4, 2, 36, 5)\n",
      "2021-03-03 00:24:47,146 INFO (4, 2, 36, 5)\n"
     ]
    },
    {
     "name": "stdout",
     "output_type": "stream",
     "text": [
      "\n",
      "Epoch 00094: loss improved from 0.24113 to 0.23843, saving model to exp/cv_baseline_finalconv5/8_64_64__8_3_3_tenc64_conv1_MSE_NOnorm_augshiftscalerotbrigthness_taug3_3_batch8_f1/2021-03-02_23_26/model/model.h5\n",
      "26/26 [==============================] - 35s 1s/step - loss: 0.2384 - mse_wrapper: 0.2384 - ca_wrapper: 0.8647 - meandiff: 1.7067 - val_loss: 0.7757 - val_mse_wrapper: 0.7757 - val_ca_wrapper: 0.8312 - val_meandiff: 3.2188 - lr: 4.9000e-05\n",
      "Epoch 95/100\n",
      "26/26 [==============================] - ETA: 0s - loss: 0.2309 - mse_wrapper: 0.2309 - ca_wrapper: 0.8729 - meandiff: 1.8077\n",
      "Epoch 00095: loss improved from 0.23843 to 0.23088, saving model to exp/cv_baseline_finalconv5/8_64_64__8_3_3_tenc64_conv1_MSE_NOnorm_augshiftscalerotbrigthness_taug3_3_batch8_f1/2021-03-02_23_26/model/model.h5\n",
      "26/26 [==============================] - 34s 1s/step - loss: 0.2309 - mse_wrapper: 0.2309 - ca_wrapper: 0.8729 - meandiff: 1.8077 - val_loss: 0.6343 - val_mse_wrapper: 0.6343 - val_ca_wrapper: 0.8207 - val_meandiff: 3.2656 - lr: 4.9000e-05\n",
      "Epoch 96/100\n",
      "26/26 [==============================] - ETA: 0s - loss: 0.2328 - mse_wrapper: 0.2328 - ca_wrapper: 0.8671 - meandiff: 1.9375"
     ]
    },
    {
     "name": "stderr",
     "output_type": "stream",
     "text": [
      "2021-03-03 00:25:59,348 INFO (4, 2, 36, 5)\n",
      "2021-03-03 00:25:59,918 INFO (4, 2, 36, 5)\n"
     ]
    },
    {
     "name": "stdout",
     "output_type": "stream",
     "text": [
      "\n",
      "Epoch 00096: loss did not improve from 0.23088\n",
      "26/26 [==============================] - 35s 1s/step - loss: 0.2328 - mse_wrapper: 0.2328 - ca_wrapper: 0.8671 - meandiff: 1.9375 - val_loss: 0.7587 - val_mse_wrapper: 0.7587 - val_ca_wrapper: 0.8077 - val_meandiff: 3.3281 - lr: 4.9000e-05\n",
      "Epoch 97/100\n",
      "26/26 [==============================] - ETA: 0s - loss: 0.2299 - mse_wrapper: 0.2299 - ca_wrapper: 0.8689 - meandiff: 1.8221\n",
      "Epoch 00097: loss improved from 0.23088 to 0.22989, saving model to exp/cv_baseline_finalconv5/8_64_64__8_3_3_tenc64_conv1_MSE_NOnorm_augshiftscalerotbrigthness_taug3_3_batch8_f1/2021-03-02_23_26/model/model.h5\n",
      "26/26 [==============================] - 34s 1s/step - loss: 0.2299 - mse_wrapper: 0.2299 - ca_wrapper: 0.8689 - meandiff: 1.8221 - val_loss: 0.6432 - val_mse_wrapper: 0.6432 - val_ca_wrapper: 0.8034 - val_meandiff: 3.5469 - lr: 4.9000e-05\n",
      "Epoch 98/100\n",
      "26/26 [==============================] - ETA: 0s - loss: 0.2231 - mse_wrapper: 0.2231 - ca_wrapper: 0.8675 - meandiff: 1.7692"
     ]
    },
    {
     "name": "stderr",
     "output_type": "stream",
     "text": [
      "2021-03-03 00:27:12,480 INFO (4, 2, 36, 5)\n",
      "2021-03-03 00:27:13,024 INFO (4, 2, 36, 5)\n"
     ]
    },
    {
     "name": "stdout",
     "output_type": "stream",
     "text": [
      "\n",
      "Epoch 00098: loss improved from 0.22989 to 0.22312, saving model to exp/cv_baseline_finalconv5/8_64_64__8_3_3_tenc64_conv1_MSE_NOnorm_augshiftscalerotbrigthness_taug3_3_batch8_f1/2021-03-02_23_26/model/model.h5\n",
      "26/26 [==============================] - 35s 1s/step - loss: 0.2231 - mse_wrapper: 0.2231 - ca_wrapper: 0.8675 - meandiff: 1.7692 - val_loss: 0.7747 - val_mse_wrapper: 0.7747 - val_ca_wrapper: 0.8177 - val_meandiff: 3.2812 - lr: 4.9000e-05\n",
      "Epoch 99/100\n",
      "26/26 [==============================] - ETA: 0s - loss: 0.2294 - mse_wrapper: 0.2294 - ca_wrapper: 0.8651 - meandiff: 1.8462\n",
      "Epoch 00099: loss did not improve from 0.22312\n",
      "26/26 [==============================] - 34s 1s/step - loss: 0.2294 - mse_wrapper: 0.2294 - ca_wrapper: 0.8651 - meandiff: 1.8462 - val_loss: 0.7260 - val_mse_wrapper: 0.7260 - val_ca_wrapper: 0.8290 - val_meandiff: 3.3750 - lr: 4.9000e-05\n",
      "Epoch 100/100\n",
      "26/26 [==============================] - ETA: 0s - loss: 0.2288 - mse_wrapper: 0.2288 - ca_wrapper: 0.8666 - meandiff: 1.7788"
     ]
    },
    {
     "name": "stderr",
     "output_type": "stream",
     "text": [
      "2021-03-03 00:28:25,251 INFO (4, 2, 36, 5)\n",
      "2021-03-03 00:28:25,831 INFO (4, 2, 36, 5)\n"
     ]
    },
    {
     "name": "stdout",
     "output_type": "stream",
     "text": [
      "\n",
      "Epoch 00100: loss did not improve from 0.22312\n",
      "26/26 [==============================] - 35s 1s/step - loss: 0.2288 - mse_wrapper: 0.2288 - ca_wrapper: 0.8666 - meandiff: 1.7788 - val_loss: 0.7033 - val_mse_wrapper: 0.7033 - val_ca_wrapper: 0.8138 - val_meandiff: 3.5000 - lr: 4.9000e-05\n"
     ]
    },
    {
     "name": "stderr",
     "output_type": "stream",
     "text": [
      "2021-03-03 00:28:27,863 INFO Fold 1 finished after 3690.374 sec\n"
     ]
    },
    {
     "data": {
      "text/plain": [
       "True"
      ]
     },
     "execution_count": 2,
     "metadata": {},
     "output_type": "execute_result"
    },
    {
     "name": "stderr",
     "output_type": "stream",
     "text": [
      "2021-03-03 00:28:27,867 INFO starting fold: 2\n",
      "2021-03-03 00:28:27,873 INFO -------------------- Start --------------------\n",
      "2021-03-03 00:28:27,875 INFO Working directory: /mnt/ssd/git/dynamic-cmr-models.\n",
      "2021-03-03 00:28:27,875 INFO Log file: ./logs/cv_baseline_finalconv5/8_64_64__8_3_3_tenc64_conv1_MSE_NOnorm_augshiftscalerotbrigthness_taug3_3_batch8_f2.log\n",
      "2021-03-03 00:28:27,878 INFO Log level for console: INFO\n",
      "2021-03-03 00:28:27,879 INFO Is built with tensorflow: True\n",
      "2021-03-03 00:28:27,879 INFO Visible devices:\n",
      "[PhysicalDevice(name='/physical_device:CPU:0', device_type='CPU'), PhysicalDevice(name='/physical_device:XLA_CPU:0', device_type='XLA_CPU'), PhysicalDevice(name='/physical_device:XLA_GPU:0', device_type='XLA_GPU'), PhysicalDevice(name='/physical_device:XLA_GPU:1', device_type='XLA_GPU'), PhysicalDevice(name='/physical_device:GPU:0', device_type='GPU'), PhysicalDevice(name='/physical_device:GPU:1', device_type='GPU')]\n",
      "2021-03-03 00:28:27,884 INFO Local devices: \n",
      " [name: \"/device:CPU:0\"\n",
      "device_type: \"CPU\"\n",
      "memory_limit: 268435456\n",
      "locality {\n",
      "}\n",
      "incarnation: 5738721484429092490\n",
      ", name: \"/device:XLA_CPU:0\"\n",
      "device_type: \"XLA_CPU\"\n",
      "memory_limit: 17179869184\n",
      "locality {\n",
      "}\n",
      "incarnation: 5848850315571557613\n",
      "physical_device_desc: \"device: XLA_CPU device\"\n",
      ", name: \"/device:XLA_GPU:0\"\n",
      "device_type: \"XLA_GPU\"\n",
      "memory_limit: 17179869184\n",
      "locality {\n",
      "}\n",
      "incarnation: 7308356520337973376\n",
      "physical_device_desc: \"device: XLA_GPU device\"\n",
      ", name: \"/device:XLA_GPU:1\"\n",
      "device_type: \"XLA_GPU\"\n",
      "memory_limit: 17179869184\n",
      "locality {\n",
      "}\n",
      "incarnation: 1208042753772043520\n",
      "physical_device_desc: \"device: XLA_GPU device\"\n",
      ", name: \"/device:GPU:0\"\n",
      "device_type: \"GPU\"\n",
      "memory_limit: 23093862784\n",
      "locality {\n",
      "  bus_id: 1\n",
      "  links {\n",
      "  }\n",
      "}\n",
      "incarnation: 3893513189262417559\n",
      "physical_device_desc: \"device: 0, name: TITAN RTX, pci bus id: 0000:01:00.0, compute capability: 7.5\"\n",
      ", name: \"/device:GPU:1\"\n",
      "device_type: \"GPU\"\n",
      "memory_limit: 23561682304\n",
      "locality {\n",
      "  bus_id: 1\n",
      "  links {\n",
      "  }\n",
      "}\n",
      "incarnation: 2246882319082539269\n",
      "physical_device_desc: \"device: 1, name: TITAN RTX, pci bus id: 0000:02:00.0, compute capability: 7.5\"\n",
      "]\n",
      "2021-03-03 00:28:27,885 INFO no files found, try to load with clean.nrrd/mask.nrrd pattern\n",
      "2021-03-03 00:28:27,891 INFO Found 278 images/masks in /mnt/ssd/data/gcn/02_imported_4D_unfiltered/SAX/\n",
      "2021-03-03 00:28:27,892 INFO Patients train: 209\n",
      "2021-03-03 00:28:27,903 INFO Selected 208 of 278 files with 209 of 279 patients for training fold 2\n",
      "2021-03-03 00:28:27,903 INFO SAX train CMR: 208, SAX train masks: 208\n",
      "2021-03-03 00:28:27,904 INFO SAX val CMR: 70, SAX val masks: 70\n",
      "2021-03-03 00:28:27,917 INFO Check if we find the patient ID and phase mapping for all: 278 files.\n"
     ]
    },
    {
     "name": "stdout",
     "output_type": "stream",
     "text": [
      "['/gpu:0', '/gpu:1']\n",
      "{'GPU_IDS': '0,1', 'GPUS': ['/gpu:0', '/gpu:1'], 'SEED': 42, 'EXPERIMENT': 'cv_baseline_finalconv5/8_64_64__8_3_3_tenc64_conv1_MSE_NOnorm_augshiftscalerotbrigthness_taug3_3_batch8_f2', 'EXPERIMENTS_ROOT': 'exp/', 'EXP_PATH': 'exp/cv_baseline_finalconv5/8_64_64__8_3_3_tenc64_conv1_MSE_NOnorm_augshiftscalerotbrigthness_taug3_3_batch8_f2/2021-03-03_00_28', 'MODEL_PATH': 'exp/cv_baseline_finalconv5/8_64_64__8_3_3_tenc64_conv1_MSE_NOnorm_augshiftscalerotbrigthness_taug3_3_batch8_f2/2021-03-03_00_28/model', 'TENSORBOARD_PATH': 'exp/cv_baseline_finalconv5/8_64_64__8_3_3_tenc64_conv1_MSE_NOnorm_augshiftscalerotbrigthness_taug3_3_batch8_f2/2021-03-03_00_28/tensorboard_logs', 'CONFIG_PATH': 'exp/cv_baseline_finalconv5/8_64_64__8_3_3_tenc64_conv1_MSE_NOnorm_augshiftscalerotbrigthness_taug3_3_batch8_f2/2021-03-03_00_28/config', 'HISTORY_PATH': 'exp/cv_baseline_finalconv5/8_64_64__8_3_3_tenc64_conv1_MSE_NOnorm_augshiftscalerotbrigthness_taug3_3_batch8_f2/2021-03-03_00_28/history', 'DATA_PATH_SAX': '/mnt/ssd/data/gcn/02_imported_4D_unfiltered/SAX/', 'DF_FOLDS': '/mnt/ssd/data/gcn/02_imported_4D_unfiltered/df_kfold.csv', 'DF_META': '/mnt/ssd/data/gcn/02_imported_4D_unfiltered/SAx_3D_dicomTags_phase', 'FOLD': 2, 'BATCHSIZE': 8, 'GENERATOR_WORKER': 8, 'EPOCHS': 100, 'DIM': [8, 64, 64], 'T_SHAPE': 36, 'SPACING': [8, 3, 3], 'DEPTH': 4, 'FILTERS': 32, 'M_POOL': [1, 2, 2], 'F_SIZE': [3, 3, 3], 'BN_FIRST': False, 'BATCH_NORMALISATION': True, 'PAD': 'same', 'KERNEL_INIT': 'he_normal', 'OPTIMIZER': 'adam', 'ACTIVATION': 'relu', 'LEARNING_RATE': 0.0001, 'REDUCE_LR_ON_PLAEAU_PATIENCE': 5, 'DECAY_FACTOR': 0.7, 'MIN_LR': 1e-12, 'MONITOR_FUNCTION': 'loss', 'MONITOR_MODE': 'min', 'SAVE_MODEL_FUNCTION': 'loss', 'SAVE_MODEL_MODE': 'min', 'MODEL_PATIENCE': 20, 'SAVE_LEARNING_PROGRESS_AS_TF': True, 'BORDER_MODE': 4, 'IMG_INTERPOLATION': 1, 'MSK_INTERPOLATION': 0, 'AUGMENT': True, 'AUGMENT_PROB': 0.8, 'AUGMENT_PHASES': True, 'AUGMENT_PHASES_RANGE': (-3, 3), 'REPEAT_ONEHOT': True, 'SHUFFLE': True, 'RESAMPLE': True, 'SCALER': 'MinMax', 'PHASES': 5, 'TARGET_SMOOTHING': True, 'SMOOTHING_KERNEL_SIZE': 12, 'SMOOTHING_LOWER_BORDER': 1, 'SMOOTHING_UPPER_BORDER': 5, 'SMOOTHING_WEIGHT_CORRECT': 10, 'TENSORBOARD_LOG_DIR': 'reports/tensorboard_logs/cv_baseline_finalconv5/8_64_64__8_3_3_tenc64_conv1_MSE_NOnorm_augshiftscalerotbrigthness_taug3_3_batch8'}\n"
     ]
    },
    {
     "name": "stderr",
     "output_type": "stream",
     "text": [
      "2021-03-03 00:28:28,165 INFO Done!\n",
      "2021-03-03 00:28:28,165 INFO Create DataGenerator\n",
      "2021-03-03 00:28:28,166 INFO Datagenerator created with: \n",
      " shape: [8, 64, 64]\n",
      " spacing: [8, 3, 3]\n",
      " batchsize: 8\n",
      " Scaler: MinMax\n",
      " Images: 208 \n",
      " Augment: True \n",
      " Thread workers: 8\n",
      "2021-03-03 00:28:28,167 INFO Data will be augmented (shift,scale and rotate) with albumentation\n",
      "2021-03-03 00:28:28,180 INFO Smoothing kernel: \n",
      "[ 1.   1.8  2.6  3.4  4.2  5.  10.   5.   4.2  3.4  2.6  1.8  1. ]\n",
      "2021-03-03 00:28:28,180 INFO Temporal phase augmentation: \n",
      "TrueRepeat volume: True\n",
      "2021-03-03 00:28:28,181 INFO Create DataGenerator\n",
      "2021-03-03 00:28:28,182 INFO Datagenerator created with: \n",
      " shape: [8, 64, 64]\n",
      " spacing: [8, 3, 3]\n",
      " batchsize: 8\n",
      " Scaler: MinMax\n",
      " Images: 70 \n",
      " Augment: False \n",
      " Thread workers: 8\n",
      "2021-03-03 00:28:28,182 INFO No augmentation\n",
      "2021-03-03 00:28:28,196 INFO Smoothing kernel: \n",
      "[ 1.   1.8  2.6  3.4  4.2  5.  10.   5.   4.2  3.4  2.6  1.8  1. ]\n",
      "2021-03-03 00:28:28,196 INFO Temporal phase augmentation: \n",
      "FalseRepeat volume: True\n"
     ]
    },
    {
     "name": "stdout",
     "output_type": "stream",
     "text": [
      "Shape after the temporal encoder\n",
      "(None, 36, 8, 4, 4, 512)\n",
      "Shape after GAP\n",
      "(None, 36, 512)\n",
      "Shape after Bi-LSTM layer\n",
      "(None, 36, 512)\n",
      "Shape after final conv layer\n",
      "(None, 36, 5)\n"
     ]
    },
    {
     "name": "stderr",
     "output_type": "stream",
     "text": [
      "2021-03-03 00:28:32,440 INFO feed 4 Tensorboard is ready\n"
     ]
    },
    {
     "name": "stdout",
     "output_type": "stream",
     "text": [
      "Epoch 1/100\n",
      "26/26 [==============================] - ETA: 0s - loss: 1.1079 - mse_wrapper: 1.1079 - ca_wrapper: 0.4362 - meandiff: 13.4808"
     ]
    },
    {
     "name": "stderr",
     "output_type": "stream",
     "text": [
      "2021-03-03 00:29:37,455 INFO (4, 2, 36, 5)\n",
      "2021-03-03 00:29:38,018 INFO (4, 2, 36, 5)\n"
     ]
    },
    {
     "name": "stdout",
     "output_type": "stream",
     "text": [
      "\n",
      "Epoch 00001: loss improved from inf to 1.10788, saving model to exp/cv_baseline_finalconv5/8_64_64__8_3_3_tenc64_conv1_MSE_NOnorm_augshiftscalerotbrigthness_taug3_3_batch8_f2/2021-03-03_00_28/model/model.h5\n",
      "26/26 [==============================] - 37s 1s/step - loss: 1.1079 - mse_wrapper: 1.1079 - ca_wrapper: 0.4362 - meandiff: 13.4808 - val_loss: 1.2570 - val_mse_wrapper: 1.2570 - val_ca_wrapper: 0.2808 - val_meandiff: 16.8125 - lr: 1.0000e-04\n",
      "Epoch 2/100\n",
      "26/26 [==============================] - ETA: 0s - loss: 0.8018 - mse_wrapper: 0.8018 - ca_wrapper: 0.6385 - meandiff: 8.5625"
     ]
    },
    {
     "name": "stderr",
     "output_type": "stream",
     "text": [
      "2021-03-03 00:30:14,616 INFO (4, 2, 36, 5)\n",
      "2021-03-03 00:30:15,175 INFO (4, 2, 36, 5)\n"
     ]
    },
    {
     "name": "stdout",
     "output_type": "stream",
     "text": [
      "\n",
      "Epoch 00002: loss improved from 1.10788 to 0.80178, saving model to exp/cv_baseline_finalconv5/8_64_64__8_3_3_tenc64_conv1_MSE_NOnorm_augshiftscalerotbrigthness_taug3_3_batch8_f2/2021-03-03_00_28/model/model.h5\n",
      "26/26 [==============================] - 35s 1s/step - loss: 0.8018 - mse_wrapper: 0.8018 - ca_wrapper: 0.6385 - meandiff: 8.5625 - val_loss: 1.3948 - val_mse_wrapper: 1.3948 - val_ca_wrapper: 0.4405 - val_meandiff: 5.7188 - lr: 1.0000e-04\n",
      "Epoch 3/100\n",
      "26/26 [==============================] - ETA: 0s - loss: 0.7163 - mse_wrapper: 0.7163 - ca_wrapper: 0.6950 - meandiff: 6.8798"
     ]
    },
    {
     "name": "stderr",
     "output_type": "stream",
     "text": [
      "2021-03-03 00:30:53,453 INFO (4, 2, 36, 5)\n",
      "2021-03-03 00:30:54,016 INFO (4, 2, 36, 5)\n"
     ]
    },
    {
     "name": "stdout",
     "output_type": "stream",
     "text": [
      "\n",
      "Epoch 00003: loss improved from 0.80178 to 0.71628, saving model to exp/cv_baseline_finalconv5/8_64_64__8_3_3_tenc64_conv1_MSE_NOnorm_augshiftscalerotbrigthness_taug3_3_batch8_f2/2021-03-03_00_28/model/model.h5\n",
      "26/26 [==============================] - 37s 1s/step - loss: 0.7163 - mse_wrapper: 0.7163 - ca_wrapper: 0.6950 - meandiff: 6.8798 - val_loss: 1.4291 - val_mse_wrapper: 1.4291 - val_ca_wrapper: 0.6879 - val_meandiff: 6.4844 - lr: 1.0000e-04\n",
      "Epoch 4/100\n",
      "26/26 [==============================] - ETA: 0s - loss: 0.6496 - mse_wrapper: 0.6496 - ca_wrapper: 0.7503 - meandiff: 6.3269"
     ]
    },
    {
     "name": "stderr",
     "output_type": "stream",
     "text": [
      "2021-03-03 00:31:31,149 INFO (4, 2, 36, 5)\n",
      "2021-03-03 00:31:31,735 INFO (4, 2, 36, 5)\n"
     ]
    },
    {
     "name": "stdout",
     "output_type": "stream",
     "text": [
      "\n",
      "Epoch 00004: loss improved from 0.71628 to 0.64958, saving model to exp/cv_baseline_finalconv5/8_64_64__8_3_3_tenc64_conv1_MSE_NOnorm_augshiftscalerotbrigthness_taug3_3_batch8_f2/2021-03-03_00_28/model/model.h5\n",
      "26/26 [==============================] - 36s 1s/step - loss: 0.6496 - mse_wrapper: 0.6496 - ca_wrapper: 0.7503 - meandiff: 6.3269 - val_loss: 1.1716 - val_mse_wrapper: 1.1716 - val_ca_wrapper: 0.7166 - val_meandiff: 6.0000 - lr: 1.0000e-04\n",
      "Epoch 5/100\n",
      "26/26 [==============================] - ETA: 0s - loss: 0.6267 - mse_wrapper: 0.6267 - ca_wrapper: 0.7630 - meandiff: 5.8846\n",
      "Epoch 00005: loss improved from 0.64958 to 0.62672, saving model to exp/cv_baseline_finalconv5/8_64_64__8_3_3_tenc64_conv1_MSE_NOnorm_augshiftscalerotbrigthness_taug3_3_batch8_f2/2021-03-03_00_28/model/model.h5\n",
      "26/26 [==============================] - 35s 1s/step - loss: 0.6267 - mse_wrapper: 0.6267 - ca_wrapper: 0.7630 - meandiff: 5.8846 - val_loss: 0.6404 - val_mse_wrapper: 0.6404 - val_ca_wrapper: 0.7691 - val_meandiff: 5.0625 - lr: 1.0000e-04\n",
      "Epoch 6/100\n",
      "26/26 [==============================] - ETA: 0s - loss: 0.5675 - mse_wrapper: 0.5675 - ca_wrapper: 0.7807 - meandiff: 4.8846"
     ]
    },
    {
     "name": "stderr",
     "output_type": "stream",
     "text": [
      "2021-03-03 00:32:44,740 INFO (4, 2, 36, 5)\n",
      "2021-03-03 00:32:45,285 INFO (4, 2, 36, 5)\n"
     ]
    },
    {
     "name": "stdout",
     "output_type": "stream",
     "text": [
      "\n",
      "Epoch 00006: loss improved from 0.62672 to 0.56754, saving model to exp/cv_baseline_finalconv5/8_64_64__8_3_3_tenc64_conv1_MSE_NOnorm_augshiftscalerotbrigthness_taug3_3_batch8_f2/2021-03-03_00_28/model/model.h5\n",
      "26/26 [==============================] - 35s 1s/step - loss: 0.5675 - mse_wrapper: 0.5675 - ca_wrapper: 0.7807 - meandiff: 4.8846 - val_loss: 0.8698 - val_mse_wrapper: 0.8698 - val_ca_wrapper: 0.7765 - val_meandiff: 4.4844 - lr: 1.0000e-04\n",
      "Epoch 7/100\n",
      "26/26 [==============================] - ETA: 0s - loss: 0.5522 - mse_wrapper: 0.5522 - ca_wrapper: 0.7915 - meandiff: 4.6827\n",
      "Epoch 00007: loss improved from 0.56754 to 0.55218, saving model to exp/cv_baseline_finalconv5/8_64_64__8_3_3_tenc64_conv1_MSE_NOnorm_augshiftscalerotbrigthness_taug3_3_batch8_f2/2021-03-03_00_28/model/model.h5\n",
      "26/26 [==============================] - 34s 1s/step - loss: 0.5522 - mse_wrapper: 0.5522 - ca_wrapper: 0.7915 - meandiff: 4.6827 - val_loss: 0.9003 - val_mse_wrapper: 0.9003 - val_ca_wrapper: 0.7561 - val_meandiff: 5.3125 - lr: 1.0000e-04\n",
      "Epoch 8/100\n",
      "26/26 [==============================] - ETA: 0s - loss: 0.5515 - mse_wrapper: 0.5515 - ca_wrapper: 0.7938 - meandiff: 4.7452"
     ]
    },
    {
     "name": "stderr",
     "output_type": "stream",
     "text": [
      "2021-03-03 00:33:57,859 INFO (4, 2, 36, 5)\n",
      "2021-03-03 00:33:58,390 INFO (4, 2, 36, 5)\n"
     ]
    },
    {
     "name": "stdout",
     "output_type": "stream",
     "text": [
      "\n",
      "Epoch 00008: loss improved from 0.55218 to 0.55146, saving model to exp/cv_baseline_finalconv5/8_64_64__8_3_3_tenc64_conv1_MSE_NOnorm_augshiftscalerotbrigthness_taug3_3_batch8_f2/2021-03-03_00_28/model/model.h5\n",
      "26/26 [==============================] - 35s 1s/step - loss: 0.5515 - mse_wrapper: 0.5515 - ca_wrapper: 0.7938 - meandiff: 4.7452 - val_loss: 0.6549 - val_mse_wrapper: 0.6549 - val_ca_wrapper: 0.7405 - val_meandiff: 4.4688 - lr: 1.0000e-04\n",
      "Epoch 9/100\n",
      "26/26 [==============================] - ETA: 0s - loss: 0.5314 - mse_wrapper: 0.5314 - ca_wrapper: 0.7951 - meandiff: 4.7163\n",
      "Epoch 00009: loss improved from 0.55146 to 0.53135, saving model to exp/cv_baseline_finalconv5/8_64_64__8_3_3_tenc64_conv1_MSE_NOnorm_augshiftscalerotbrigthness_taug3_3_batch8_f2/2021-03-03_00_28/model/model.h5\n",
      "26/26 [==============================] - 34s 1s/step - loss: 0.5314 - mse_wrapper: 0.5314 - ca_wrapper: 0.7951 - meandiff: 4.7163 - val_loss: 1.0317 - val_mse_wrapper: 1.0317 - val_ca_wrapper: 0.7595 - val_meandiff: 4.0625 - lr: 1.0000e-04\n",
      "Epoch 10/100\n",
      "26/26 [==============================] - ETA: 0s - loss: 0.5121 - mse_wrapper: 0.5121 - ca_wrapper: 0.8070 - meandiff: 4.5048"
     ]
    },
    {
     "name": "stderr",
     "output_type": "stream",
     "text": [
      "2021-03-03 00:35:10,805 INFO (4, 2, 36, 5)\n",
      "2021-03-03 00:35:11,352 INFO (4, 2, 36, 5)\n"
     ]
    },
    {
     "name": "stdout",
     "output_type": "stream",
     "text": [
      "\n",
      "Epoch 00010: loss improved from 0.53135 to 0.51208, saving model to exp/cv_baseline_finalconv5/8_64_64__8_3_3_tenc64_conv1_MSE_NOnorm_augshiftscalerotbrigthness_taug3_3_batch8_f2/2021-03-03_00_28/model/model.h5\n",
      "26/26 [==============================] - 35s 1s/step - loss: 0.5121 - mse_wrapper: 0.5121 - ca_wrapper: 0.8070 - meandiff: 4.5048 - val_loss: 0.7418 - val_mse_wrapper: 0.7418 - val_ca_wrapper: 0.7300 - val_meandiff: 5.1250 - lr: 1.0000e-04\n",
      "Epoch 11/100\n",
      "26/26 [==============================] - ETA: 0s - loss: 0.4937 - mse_wrapper: 0.4937 - ca_wrapper: 0.8114 - meandiff: 4.4663\n",
      "Epoch 00011: loss improved from 0.51208 to 0.49372, saving model to exp/cv_baseline_finalconv5/8_64_64__8_3_3_tenc64_conv1_MSE_NOnorm_augshiftscalerotbrigthness_taug3_3_batch8_f2/2021-03-03_00_28/model/model.h5\n",
      "26/26 [==============================] - 34s 1s/step - loss: 0.4937 - mse_wrapper: 0.4937 - ca_wrapper: 0.8114 - meandiff: 4.4663 - val_loss: 0.9123 - val_mse_wrapper: 0.9123 - val_ca_wrapper: 0.7500 - val_meandiff: 4.8281 - lr: 1.0000e-04\n",
      "Epoch 12/100\n",
      "26/26 [==============================] - ETA: 0s - loss: 0.4740 - mse_wrapper: 0.4740 - ca_wrapper: 0.8204 - meandiff: 4.1298"
     ]
    },
    {
     "name": "stderr",
     "output_type": "stream",
     "text": [
      "2021-03-03 00:36:23,726 INFO (4, 2, 36, 5)\n",
      "2021-03-03 00:36:24,294 INFO (4, 2, 36, 5)\n"
     ]
    },
    {
     "name": "stdout",
     "output_type": "stream",
     "text": [
      "\n",
      "Epoch 00012: loss improved from 0.49372 to 0.47399, saving model to exp/cv_baseline_finalconv5/8_64_64__8_3_3_tenc64_conv1_MSE_NOnorm_augshiftscalerotbrigthness_taug3_3_batch8_f2/2021-03-03_00_28/model/model.h5\n",
      "26/26 [==============================] - 35s 1s/step - loss: 0.4740 - mse_wrapper: 0.4740 - ca_wrapper: 0.8204 - meandiff: 4.1298 - val_loss: 0.6826 - val_mse_wrapper: 0.6826 - val_ca_wrapper: 0.7904 - val_meandiff: 4.5312 - lr: 1.0000e-04\n",
      "Epoch 13/100\n",
      "26/26 [==============================] - ETA: 0s - loss: 0.4962 - mse_wrapper: 0.4962 - ca_wrapper: 0.8077 - meandiff: 4.3125\n",
      "Epoch 00013: loss did not improve from 0.47399\n",
      "26/26 [==============================] - 34s 1s/step - loss: 0.4962 - mse_wrapper: 0.4962 - ca_wrapper: 0.8077 - meandiff: 4.3125 - val_loss: 0.6484 - val_mse_wrapper: 0.6484 - val_ca_wrapper: 0.7908 - val_meandiff: 4.5000 - lr: 1.0000e-04\n",
      "Epoch 14/100\n",
      "26/26 [==============================] - ETA: 0s - loss: 0.4857 - mse_wrapper: 0.4857 - ca_wrapper: 0.8108 - meandiff: 4.3798"
     ]
    },
    {
     "name": "stderr",
     "output_type": "stream",
     "text": [
      "2021-03-03 00:37:36,605 INFO (4, 2, 36, 5)\n",
      "2021-03-03 00:37:37,172 INFO (4, 2, 36, 5)\n"
     ]
    },
    {
     "name": "stdout",
     "output_type": "stream",
     "text": [
      "\n",
      "Epoch 00014: loss did not improve from 0.47399\n",
      "26/26 [==============================] - 35s 1s/step - loss: 0.4857 - mse_wrapper: 0.4857 - ca_wrapper: 0.8108 - meandiff: 4.3798 - val_loss: 0.8508 - val_mse_wrapper: 0.8508 - val_ca_wrapper: 0.7773 - val_meandiff: 4.6875 - lr: 1.0000e-04\n",
      "Epoch 15/100\n",
      "26/26 [==============================] - ETA: 0s - loss: 0.4784 - mse_wrapper: 0.4784 - ca_wrapper: 0.8146 - meandiff: 4.0048\n",
      "Epoch 00015: loss did not improve from 0.47399\n",
      "26/26 [==============================] - 34s 1s/step - loss: 0.4784 - mse_wrapper: 0.4784 - ca_wrapper: 0.8146 - meandiff: 4.0048 - val_loss: 0.6007 - val_mse_wrapper: 0.6007 - val_ca_wrapper: 0.7856 - val_meandiff: 4.9219 - lr: 1.0000e-04\n",
      "Epoch 16/100\n",
      "26/26 [==============================] - ETA: 0s - loss: 0.4754 - mse_wrapper: 0.4754 - ca_wrapper: 0.8132 - meandiff: 4.2548"
     ]
    },
    {
     "name": "stderr",
     "output_type": "stream",
     "text": [
      "2021-03-03 00:38:49,099 INFO (4, 2, 36, 5)\n",
      "2021-03-03 00:38:49,625 INFO (4, 2, 36, 5)\n"
     ]
    },
    {
     "name": "stdout",
     "output_type": "stream",
     "text": [
      "\n",
      "Epoch 00016: loss did not improve from 0.47399\n",
      "26/26 [==============================] - 35s 1s/step - loss: 0.4754 - mse_wrapper: 0.4754 - ca_wrapper: 0.8132 - meandiff: 4.2548 - val_loss: 0.5975 - val_mse_wrapper: 0.5975 - val_ca_wrapper: 0.7960 - val_meandiff: 4.7656 - lr: 1.0000e-04\n",
      "Epoch 17/100\n",
      "26/26 [==============================] - ETA: 0s - loss: 0.4669 - mse_wrapper: 0.4669 - ca_wrapper: 0.8212 - meandiff: 4.1298\n",
      "Epoch 00017: loss improved from 0.47399 to 0.46688, saving model to exp/cv_baseline_finalconv5/8_64_64__8_3_3_tenc64_conv1_MSE_NOnorm_augshiftscalerotbrigthness_taug3_3_batch8_f2/2021-03-03_00_28/model/model.h5\n",
      "26/26 [==============================] - 34s 1s/step - loss: 0.4669 - mse_wrapper: 0.4669 - ca_wrapper: 0.8212 - meandiff: 4.1298 - val_loss: 0.7640 - val_mse_wrapper: 0.7640 - val_ca_wrapper: 0.7747 - val_meandiff: 4.6875 - lr: 1.0000e-04\n",
      "Epoch 18/100\n",
      "26/26 [==============================] - ETA: 0s - loss: 0.4529 - mse_wrapper: 0.4529 - ca_wrapper: 0.8247 - meandiff: 4.0625"
     ]
    },
    {
     "name": "stderr",
     "output_type": "stream",
     "text": [
      "2021-03-03 00:40:02,477 INFO (4, 2, 36, 5)\n",
      "2021-03-03 00:40:03,012 INFO (4, 2, 36, 5)\n"
     ]
    },
    {
     "name": "stdout",
     "output_type": "stream",
     "text": [
      "\n",
      "Epoch 00018: loss improved from 0.46688 to 0.45294, saving model to exp/cv_baseline_finalconv5/8_64_64__8_3_3_tenc64_conv1_MSE_NOnorm_augshiftscalerotbrigthness_taug3_3_batch8_f2/2021-03-03_00_28/model/model.h5\n",
      "26/26 [==============================] - 35s 1s/step - loss: 0.4529 - mse_wrapper: 0.4529 - ca_wrapper: 0.8247 - meandiff: 4.0625 - val_loss: 0.7178 - val_mse_wrapper: 0.7178 - val_ca_wrapper: 0.7969 - val_meandiff: 3.8594 - lr: 1.0000e-04\n",
      "Epoch 19/100\n",
      "26/26 [==============================] - ETA: 0s - loss: 0.4564 - mse_wrapper: 0.4564 - ca_wrapper: 0.8244 - meandiff: 3.9760\n",
      "Epoch 00019: loss did not improve from 0.45294\n",
      "26/26 [==============================] - 34s 1s/step - loss: 0.4564 - mse_wrapper: 0.4564 - ca_wrapper: 0.8244 - meandiff: 3.9760 - val_loss: 0.6342 - val_mse_wrapper: 0.6342 - val_ca_wrapper: 0.8012 - val_meandiff: 3.9688 - lr: 1.0000e-04\n",
      "Epoch 20/100\n",
      "26/26 [==============================] - ETA: 0s - loss: 0.4485 - mse_wrapper: 0.4485 - ca_wrapper: 0.8233 - meandiff: 4.0385"
     ]
    },
    {
     "name": "stderr",
     "output_type": "stream",
     "text": [
      "2021-03-03 00:41:15,137 INFO (4, 2, 36, 5)\n",
      "2021-03-03 00:41:15,709 INFO (4, 2, 36, 5)\n"
     ]
    },
    {
     "name": "stdout",
     "output_type": "stream",
     "text": [
      "\n",
      "Epoch 00020: loss improved from 0.45294 to 0.44851, saving model to exp/cv_baseline_finalconv5/8_64_64__8_3_3_tenc64_conv1_MSE_NOnorm_augshiftscalerotbrigthness_taug3_3_batch8_f2/2021-03-03_00_28/model/model.h5\n",
      "26/26 [==============================] - 35s 1s/step - loss: 0.4485 - mse_wrapper: 0.4485 - ca_wrapper: 0.8233 - meandiff: 4.0385 - val_loss: 0.6352 - val_mse_wrapper: 0.6352 - val_ca_wrapper: 0.7891 - val_meandiff: 3.9688 - lr: 1.0000e-04\n",
      "Epoch 21/100\n",
      "26/26 [==============================] - ETA: 0s - loss: 0.4483 - mse_wrapper: 0.4483 - ca_wrapper: 0.8271 - meandiff: 3.8654\n",
      "Epoch 00021: loss improved from 0.44851 to 0.44827, saving model to exp/cv_baseline_finalconv5/8_64_64__8_3_3_tenc64_conv1_MSE_NOnorm_augshiftscalerotbrigthness_taug3_3_batch8_f2/2021-03-03_00_28/model/model.h5\n",
      "26/26 [==============================] - 34s 1s/step - loss: 0.4483 - mse_wrapper: 0.4483 - ca_wrapper: 0.8271 - meandiff: 3.8654 - val_loss: 0.7083 - val_mse_wrapper: 0.7083 - val_ca_wrapper: 0.7899 - val_meandiff: 4.5000 - lr: 1.0000e-04\n",
      "Epoch 22/100\n",
      "26/26 [==============================] - ETA: 0s - loss: 0.4335 - mse_wrapper: 0.4335 - ca_wrapper: 0.8339 - meandiff: 3.6731"
     ]
    },
    {
     "name": "stderr",
     "output_type": "stream",
     "text": [
      "2021-03-03 00:42:27,836 INFO (4, 2, 36, 5)\n",
      "2021-03-03 00:42:28,382 INFO (4, 2, 36, 5)\n"
     ]
    },
    {
     "name": "stdout",
     "output_type": "stream",
     "text": [
      "\n",
      "Epoch 00022: loss improved from 0.44827 to 0.43351, saving model to exp/cv_baseline_finalconv5/8_64_64__8_3_3_tenc64_conv1_MSE_NOnorm_augshiftscalerotbrigthness_taug3_3_batch8_f2/2021-03-03_00_28/model/model.h5\n",
      "26/26 [==============================] - 35s 1s/step - loss: 0.4335 - mse_wrapper: 0.4335 - ca_wrapper: 0.8339 - meandiff: 3.6731 - val_loss: 0.8477 - val_mse_wrapper: 0.8477 - val_ca_wrapper: 0.7869 - val_meandiff: 4.5781 - lr: 1.0000e-04\n",
      "Epoch 23/100\n",
      "26/26 [==============================] - ETA: 0s - loss: 0.4491 - mse_wrapper: 0.4491 - ca_wrapper: 0.8217 - meandiff: 3.8462\n",
      "Epoch 00023: loss did not improve from 0.43351\n",
      "26/26 [==============================] - 34s 1s/step - loss: 0.4491 - mse_wrapper: 0.4491 - ca_wrapper: 0.8217 - meandiff: 3.8462 - val_loss: 0.6819 - val_mse_wrapper: 0.6819 - val_ca_wrapper: 0.7517 - val_meandiff: 4.1562 - lr: 1.0000e-04\n",
      "Epoch 24/100\n",
      "26/26 [==============================] - ETA: 0s - loss: 0.4432 - mse_wrapper: 0.4432 - ca_wrapper: 0.8281 - meandiff: 3.8221"
     ]
    },
    {
     "name": "stderr",
     "output_type": "stream",
     "text": [
      "2021-03-03 00:43:40,199 INFO (4, 2, 36, 5)\n",
      "2021-03-03 00:43:40,768 INFO (4, 2, 36, 5)\n"
     ]
    },
    {
     "name": "stdout",
     "output_type": "stream",
     "text": [
      "\n",
      "Epoch 00024: loss did not improve from 0.43351\n",
      "26/26 [==============================] - 35s 1s/step - loss: 0.4432 - mse_wrapper: 0.4432 - ca_wrapper: 0.8281 - meandiff: 3.8221 - val_loss: 0.7040 - val_mse_wrapper: 0.7040 - val_ca_wrapper: 0.7747 - val_meandiff: 3.9688 - lr: 1.0000e-04\n",
      "Epoch 25/100\n",
      "26/26 [==============================] - ETA: 0s - loss: 0.4394 - mse_wrapper: 0.4394 - ca_wrapper: 0.8301 - meandiff: 3.8269\n",
      "Epoch 00025: loss did not improve from 0.43351\n",
      "26/26 [==============================] - 33s 1s/step - loss: 0.4394 - mse_wrapper: 0.4394 - ca_wrapper: 0.8301 - meandiff: 3.8269 - val_loss: 0.5533 - val_mse_wrapper: 0.5533 - val_ca_wrapper: 0.8073 - val_meandiff: 4.0312 - lr: 1.0000e-04\n",
      "Epoch 26/100\n",
      "26/26 [==============================] - ETA: 0s - loss: 0.4432 - mse_wrapper: 0.4432 - ca_wrapper: 0.8249 - meandiff: 3.8365"
     ]
    },
    {
     "name": "stderr",
     "output_type": "stream",
     "text": [
      "2021-03-03 00:44:52,733 INFO (4, 2, 36, 5)\n",
      "2021-03-03 00:44:53,312 INFO (4, 2, 36, 5)\n"
     ]
    },
    {
     "name": "stdout",
     "output_type": "stream",
     "text": [
      "\n",
      "Epoch 00026: loss did not improve from 0.43351\n",
      "26/26 [==============================] - 35s 1s/step - loss: 0.4432 - mse_wrapper: 0.4432 - ca_wrapper: 0.8249 - meandiff: 3.8365 - val_loss: 0.7212 - val_mse_wrapper: 0.7212 - val_ca_wrapper: 0.7921 - val_meandiff: 3.9844 - lr: 1.0000e-04\n",
      "Epoch 27/100\n",
      "26/26 [==============================] - ETA: 0s - loss: 0.4241 - mse_wrapper: 0.4241 - ca_wrapper: 0.8340 - meandiff: 3.5769\n",
      "Epoch 00027: loss improved from 0.43351 to 0.42410, saving model to exp/cv_baseline_finalconv5/8_64_64__8_3_3_tenc64_conv1_MSE_NOnorm_augshiftscalerotbrigthness_taug3_3_batch8_f2/2021-03-03_00_28/model/model.h5\n",
      "26/26 [==============================] - 34s 1s/step - loss: 0.4241 - mse_wrapper: 0.4241 - ca_wrapper: 0.8340 - meandiff: 3.5769 - val_loss: 0.9361 - val_mse_wrapper: 0.9361 - val_ca_wrapper: 0.7635 - val_meandiff: 3.7656 - lr: 1.0000e-04\n",
      "Epoch 28/100\n",
      "26/26 [==============================] - ETA: 0s - loss: 0.4286 - mse_wrapper: 0.4286 - ca_wrapper: 0.8249 - meandiff: 3.7452"
     ]
    },
    {
     "name": "stderr",
     "output_type": "stream",
     "text": [
      "2021-03-03 00:46:05,514 INFO (4, 2, 36, 5)\n",
      "2021-03-03 00:46:06,079 INFO (4, 2, 36, 5)\n"
     ]
    },
    {
     "name": "stdout",
     "output_type": "stream",
     "text": [
      "\n",
      "Epoch 00028: loss did not improve from 0.42410\n",
      "26/26 [==============================] - 35s 1s/step - loss: 0.4286 - mse_wrapper: 0.4286 - ca_wrapper: 0.8249 - meandiff: 3.7452 - val_loss: 0.7653 - val_mse_wrapper: 0.7653 - val_ca_wrapper: 0.8112 - val_meandiff: 4.0938 - lr: 1.0000e-04\n",
      "Epoch 29/100\n",
      "26/26 [==============================] - ETA: 0s - loss: 0.4204 - mse_wrapper: 0.4204 - ca_wrapper: 0.8367 - meandiff: 3.7885\n",
      "Epoch 00029: loss improved from 0.42410 to 0.42037, saving model to exp/cv_baseline_finalconv5/8_64_64__8_3_3_tenc64_conv1_MSE_NOnorm_augshiftscalerotbrigthness_taug3_3_batch8_f2/2021-03-03_00_28/model/model.h5\n",
      "26/26 [==============================] - 34s 1s/step - loss: 0.4204 - mse_wrapper: 0.4204 - ca_wrapper: 0.8367 - meandiff: 3.7885 - val_loss: 0.6185 - val_mse_wrapper: 0.6185 - val_ca_wrapper: 0.8021 - val_meandiff: 4.5781 - lr: 1.0000e-04\n",
      "Epoch 30/100\n",
      "26/26 [==============================] - ETA: 0s - loss: 0.3961 - mse_wrapper: 0.3961 - ca_wrapper: 0.8377 - meandiff: 3.6875"
     ]
    },
    {
     "name": "stderr",
     "output_type": "stream",
     "text": [
      "2021-03-03 00:47:17,915 INFO (4, 2, 36, 5)\n",
      "2021-03-03 00:47:18,485 INFO (4, 2, 36, 5)\n"
     ]
    },
    {
     "name": "stdout",
     "output_type": "stream",
     "text": [
      "\n",
      "Epoch 00030: loss improved from 0.42037 to 0.39612, saving model to exp/cv_baseline_finalconv5/8_64_64__8_3_3_tenc64_conv1_MSE_NOnorm_augshiftscalerotbrigthness_taug3_3_batch8_f2/2021-03-03_00_28/model/model.h5\n",
      "26/26 [==============================] - 35s 1s/step - loss: 0.3961 - mse_wrapper: 0.3961 - ca_wrapper: 0.8377 - meandiff: 3.6875 - val_loss: 0.6984 - val_mse_wrapper: 0.6984 - val_ca_wrapper: 0.8125 - val_meandiff: 4.2500 - lr: 1.0000e-04\n",
      "Epoch 31/100\n",
      "26/26 [==============================] - ETA: 0s - loss: 0.3960 - mse_wrapper: 0.3960 - ca_wrapper: 0.8388 - meandiff: 3.6875\n",
      "Epoch 00031: loss improved from 0.39612 to 0.39599, saving model to exp/cv_baseline_finalconv5/8_64_64__8_3_3_tenc64_conv1_MSE_NOnorm_augshiftscalerotbrigthness_taug3_3_batch8_f2/2021-03-03_00_28/model/model.h5\n",
      "26/26 [==============================] - 34s 1s/step - loss: 0.3960 - mse_wrapper: 0.3960 - ca_wrapper: 0.8388 - meandiff: 3.6875 - val_loss: 0.6038 - val_mse_wrapper: 0.6038 - val_ca_wrapper: 0.7999 - val_meandiff: 3.8594 - lr: 1.0000e-04\n",
      "Epoch 32/100\n",
      "26/26 [==============================] - ETA: 0s - loss: 0.4017 - mse_wrapper: 0.4017 - ca_wrapper: 0.8404 - meandiff: 3.4615"
     ]
    },
    {
     "name": "stderr",
     "output_type": "stream",
     "text": [
      "2021-03-03 00:48:30,617 INFO (4, 2, 36, 5)\n",
      "2021-03-03 00:48:31,224 INFO (4, 2, 36, 5)\n"
     ]
    },
    {
     "name": "stdout",
     "output_type": "stream",
     "text": [
      "\n",
      "Epoch 00032: loss did not improve from 0.39599\n",
      "26/26 [==============================] - 35s 1s/step - loss: 0.4017 - mse_wrapper: 0.4017 - ca_wrapper: 0.8404 - meandiff: 3.4615 - val_loss: 0.6283 - val_mse_wrapper: 0.6283 - val_ca_wrapper: 0.8030 - val_meandiff: 3.8281 - lr: 1.0000e-04\n",
      "Epoch 33/100\n",
      "26/26 [==============================] - ETA: 0s - loss: 0.4128 - mse_wrapper: 0.4128 - ca_wrapper: 0.8420 - meandiff: 3.6538\n",
      "Epoch 00033: loss did not improve from 0.39599\n",
      "26/26 [==============================] - 34s 1s/step - loss: 0.4128 - mse_wrapper: 0.4128 - ca_wrapper: 0.8420 - meandiff: 3.6538 - val_loss: 0.6882 - val_mse_wrapper: 0.6882 - val_ca_wrapper: 0.7778 - val_meandiff: 3.9688 - lr: 1.0000e-04\n",
      "Epoch 34/100\n",
      "26/26 [==============================] - ETA: 0s - loss: 0.4055 - mse_wrapper: 0.4055 - ca_wrapper: 0.8353 - meandiff: 3.5769"
     ]
    },
    {
     "name": "stderr",
     "output_type": "stream",
     "text": [
      "2021-03-03 00:49:43,651 INFO (4, 2, 36, 5)\n",
      "2021-03-03 00:49:44,209 INFO (4, 2, 36, 5)\n"
     ]
    },
    {
     "name": "stdout",
     "output_type": "stream",
     "text": [
      "\n",
      "Epoch 00034: loss did not improve from 0.39599\n",
      "26/26 [==============================] - 35s 1s/step - loss: 0.4055 - mse_wrapper: 0.4055 - ca_wrapper: 0.8353 - meandiff: 3.5769 - val_loss: 0.5863 - val_mse_wrapper: 0.5863 - val_ca_wrapper: 0.8064 - val_meandiff: 4.1562 - lr: 1.0000e-04\n",
      "Epoch 35/100\n",
      "26/26 [==============================] - ETA: 0s - loss: 0.3916 - mse_wrapper: 0.3916 - ca_wrapper: 0.8433 - meandiff: 3.4663\n",
      "Epoch 00035: loss improved from 0.39599 to 0.39159, saving model to exp/cv_baseline_finalconv5/8_64_64__8_3_3_tenc64_conv1_MSE_NOnorm_augshiftscalerotbrigthness_taug3_3_batch8_f2/2021-03-03_00_28/model/model.h5\n",
      "26/26 [==============================] - 34s 1s/step - loss: 0.3916 - mse_wrapper: 0.3916 - ca_wrapper: 0.8433 - meandiff: 3.4663 - val_loss: 0.5797 - val_mse_wrapper: 0.5797 - val_ca_wrapper: 0.8099 - val_meandiff: 4.0781 - lr: 1.0000e-04\n",
      "Epoch 36/100\n",
      "26/26 [==============================] - ETA: 0s - loss: 0.4002 - mse_wrapper: 0.4002 - ca_wrapper: 0.8416 - meandiff: 3.4135"
     ]
    },
    {
     "name": "stderr",
     "output_type": "stream",
     "text": [
      "2021-03-03 00:50:56,593 INFO (4, 2, 36, 5)\n",
      "2021-03-03 00:50:57,169 INFO (4, 2, 36, 5)\n"
     ]
    },
    {
     "name": "stdout",
     "output_type": "stream",
     "text": [
      "\n",
      "Epoch 00036: loss did not improve from 0.39159\n",
      "26/26 [==============================] - 35s 1s/step - loss: 0.4002 - mse_wrapper: 0.4002 - ca_wrapper: 0.8416 - meandiff: 3.4135 - val_loss: 0.6108 - val_mse_wrapper: 0.6108 - val_ca_wrapper: 0.7891 - val_meandiff: 3.8594 - lr: 1.0000e-04\n",
      "Epoch 37/100\n",
      "26/26 [==============================] - ETA: 0s - loss: 0.3852 - mse_wrapper: 0.3852 - ca_wrapper: 0.8408 - meandiff: 3.3221\n",
      "Epoch 00037: loss improved from 0.39159 to 0.38516, saving model to exp/cv_baseline_finalconv5/8_64_64__8_3_3_tenc64_conv1_MSE_NOnorm_augshiftscalerotbrigthness_taug3_3_batch8_f2/2021-03-03_00_28/model/model.h5\n",
      "26/26 [==============================] - 34s 1s/step - loss: 0.3852 - mse_wrapper: 0.3852 - ca_wrapper: 0.8408 - meandiff: 3.3221 - val_loss: 0.7858 - val_mse_wrapper: 0.7858 - val_ca_wrapper: 0.8060 - val_meandiff: 4.1094 - lr: 1.0000e-04\n",
      "Epoch 38/100\n",
      "26/26 [==============================] - ETA: 0s - loss: 0.3893 - mse_wrapper: 0.3893 - ca_wrapper: 0.8423 - meandiff: 3.3558"
     ]
    },
    {
     "name": "stderr",
     "output_type": "stream",
     "text": [
      "2021-03-03 00:52:09,490 INFO (4, 2, 36, 5)\n",
      "2021-03-03 00:52:10,052 INFO (4, 2, 36, 5)\n"
     ]
    },
    {
     "name": "stdout",
     "output_type": "stream",
     "text": [
      "\n",
      "Epoch 00038: loss did not improve from 0.38516\n",
      "26/26 [==============================] - 35s 1s/step - loss: 0.3893 - mse_wrapper: 0.3893 - ca_wrapper: 0.8423 - meandiff: 3.3558 - val_loss: 0.8625 - val_mse_wrapper: 0.8625 - val_ca_wrapper: 0.7899 - val_meandiff: 3.7969 - lr: 1.0000e-04\n",
      "Epoch 39/100\n",
      "26/26 [==============================] - ETA: 0s - loss: 0.3828 - mse_wrapper: 0.3828 - ca_wrapper: 0.8440 - meandiff: 3.3894\n",
      "Epoch 00039: loss improved from 0.38516 to 0.38278, saving model to exp/cv_baseline_finalconv5/8_64_64__8_3_3_tenc64_conv1_MSE_NOnorm_augshiftscalerotbrigthness_taug3_3_batch8_f2/2021-03-03_00_28/model/model.h5\n",
      "26/26 [==============================] - 34s 1s/step - loss: 0.3828 - mse_wrapper: 0.3828 - ca_wrapper: 0.8440 - meandiff: 3.3894 - val_loss: 0.5609 - val_mse_wrapper: 0.5609 - val_ca_wrapper: 0.8138 - val_meandiff: 3.5000 - lr: 1.0000e-04\n",
      "Epoch 40/100\n",
      "26/26 [==============================] - ETA: 0s - loss: 0.3703 - mse_wrapper: 0.3703 - ca_wrapper: 0.8415 - meandiff: 3.2404"
     ]
    },
    {
     "name": "stderr",
     "output_type": "stream",
     "text": [
      "2021-03-03 00:53:22,547 INFO (4, 2, 36, 5)\n",
      "2021-03-03 00:53:23,113 INFO (4, 2, 36, 5)\n"
     ]
    },
    {
     "name": "stdout",
     "output_type": "stream",
     "text": [
      "\n",
      "Epoch 00040: loss improved from 0.38278 to 0.37029, saving model to exp/cv_baseline_finalconv5/8_64_64__8_3_3_tenc64_conv1_MSE_NOnorm_augshiftscalerotbrigthness_taug3_3_batch8_f2/2021-03-03_00_28/model/model.h5\n",
      "26/26 [==============================] - 35s 1s/step - loss: 0.3703 - mse_wrapper: 0.3703 - ca_wrapper: 0.8415 - meandiff: 3.2404 - val_loss: 0.6337 - val_mse_wrapper: 0.6337 - val_ca_wrapper: 0.8090 - val_meandiff: 3.8438 - lr: 1.0000e-04\n",
      "Epoch 41/100\n",
      "26/26 [==============================] - ETA: 0s - loss: 0.3814 - mse_wrapper: 0.3814 - ca_wrapper: 0.8454 - meandiff: 3.4663\n",
      "Epoch 00041: loss did not improve from 0.37029\n",
      "26/26 [==============================] - 34s 1s/step - loss: 0.3814 - mse_wrapper: 0.3814 - ca_wrapper: 0.8454 - meandiff: 3.4663 - val_loss: 0.6992 - val_mse_wrapper: 0.6992 - val_ca_wrapper: 0.8030 - val_meandiff: 3.9688 - lr: 1.0000e-04\n",
      "Epoch 42/100\n",
      "26/26 [==============================] - ETA: 0s - loss: 0.3931 - mse_wrapper: 0.3931 - ca_wrapper: 0.8355 - meandiff: 3.2019"
     ]
    },
    {
     "name": "stderr",
     "output_type": "stream",
     "text": [
      "2021-03-03 00:54:35,305 INFO (4, 2, 36, 5)\n",
      "2021-03-03 00:54:35,834 INFO (4, 2, 36, 5)\n"
     ]
    },
    {
     "name": "stdout",
     "output_type": "stream",
     "text": [
      "\n",
      "Epoch 00042: loss did not improve from 0.37029\n",
      "26/26 [==============================] - 35s 1s/step - loss: 0.3931 - mse_wrapper: 0.3931 - ca_wrapper: 0.8355 - meandiff: 3.2019 - val_loss: 0.6221 - val_mse_wrapper: 0.6221 - val_ca_wrapper: 0.8016 - val_meandiff: 3.9062 - lr: 1.0000e-04\n",
      "Epoch 43/100\n",
      "26/26 [==============================] - ETA: 0s - loss: 0.3815 - mse_wrapper: 0.3815 - ca_wrapper: 0.8443 - meandiff: 3.3173\n",
      "Epoch 00043: loss did not improve from 0.37029\n",
      "26/26 [==============================] - 34s 1s/step - loss: 0.3815 - mse_wrapper: 0.3815 - ca_wrapper: 0.8443 - meandiff: 3.3173 - val_loss: 0.5925 - val_mse_wrapper: 0.5925 - val_ca_wrapper: 0.8116 - val_meandiff: 3.9375 - lr: 1.0000e-04\n",
      "Epoch 44/100\n",
      "26/26 [==============================] - ETA: 0s - loss: 0.3644 - mse_wrapper: 0.3644 - ca_wrapper: 0.8535 - meandiff: 3.2404"
     ]
    },
    {
     "name": "stderr",
     "output_type": "stream",
     "text": [
      "2021-03-03 00:55:47,737 INFO (4, 2, 36, 5)\n",
      "2021-03-03 00:55:48,303 INFO (4, 2, 36, 5)\n"
     ]
    },
    {
     "name": "stdout",
     "output_type": "stream",
     "text": [
      "\n",
      "Epoch 00044: loss improved from 0.37029 to 0.36440, saving model to exp/cv_baseline_finalconv5/8_64_64__8_3_3_tenc64_conv1_MSE_NOnorm_augshiftscalerotbrigthness_taug3_3_batch8_f2/2021-03-03_00_28/model/model.h5\n",
      "26/26 [==============================] - 35s 1s/step - loss: 0.3644 - mse_wrapper: 0.3644 - ca_wrapper: 0.8535 - meandiff: 3.2404 - val_loss: 1.2645 - val_mse_wrapper: 1.2645 - val_ca_wrapper: 0.7843 - val_meandiff: 3.8125 - lr: 1.0000e-04\n",
      "Epoch 45/100\n",
      "26/26 [==============================] - ETA: 0s - loss: 0.3757 - mse_wrapper: 0.3757 - ca_wrapper: 0.8392 - meandiff: 3.2596\n",
      "Epoch 00045: loss did not improve from 0.36440\n",
      "26/26 [==============================] - 34s 1s/step - loss: 0.3757 - mse_wrapper: 0.3757 - ca_wrapper: 0.8392 - meandiff: 3.2596 - val_loss: 0.6841 - val_mse_wrapper: 0.6841 - val_ca_wrapper: 0.7613 - val_meandiff: 4.1875 - lr: 1.0000e-04\n",
      "Epoch 46/100\n",
      "26/26 [==============================] - ETA: 0s - loss: 0.3672 - mse_wrapper: 0.3672 - ca_wrapper: 0.8447 - meandiff: 3.1010"
     ]
    },
    {
     "name": "stderr",
     "output_type": "stream",
     "text": [
      "2021-03-03 00:57:00,154 INFO (4, 2, 36, 5)\n",
      "2021-03-03 00:57:00,727 INFO (4, 2, 36, 5)\n"
     ]
    },
    {
     "name": "stdout",
     "output_type": "stream",
     "text": [
      "\n",
      "Epoch 00046: loss did not improve from 0.36440\n",
      "26/26 [==============================] - 35s 1s/step - loss: 0.3672 - mse_wrapper: 0.3672 - ca_wrapper: 0.8447 - meandiff: 3.1010 - val_loss: 0.6159 - val_mse_wrapper: 0.6159 - val_ca_wrapper: 0.8160 - val_meandiff: 3.7188 - lr: 1.0000e-04\n",
      "Epoch 47/100\n",
      "26/26 [==============================] - ETA: 0s - loss: 0.3669 - mse_wrapper: 0.3669 - ca_wrapper: 0.8466 - meandiff: 3.2788\n",
      "Epoch 00047: loss did not improve from 0.36440\n",
      "26/26 [==============================] - 34s 1s/step - loss: 0.3669 - mse_wrapper: 0.3669 - ca_wrapper: 0.8466 - meandiff: 3.2788 - val_loss: 0.8799 - val_mse_wrapper: 0.8799 - val_ca_wrapper: 0.8043 - val_meandiff: 4.1406 - lr: 1.0000e-04\n",
      "Epoch 48/100\n",
      "26/26 [==============================] - ETA: 0s - loss: 0.3632 - mse_wrapper: 0.3632 - ca_wrapper: 0.8429 - meandiff: 3.1587"
     ]
    },
    {
     "name": "stderr",
     "output_type": "stream",
     "text": [
      "2021-03-03 00:58:12,672 INFO (4, 2, 36, 5)\n",
      "2021-03-03 00:58:13,245 INFO (4, 2, 36, 5)\n"
     ]
    },
    {
     "name": "stdout",
     "output_type": "stream",
     "text": [
      "\n",
      "Epoch 00048: loss improved from 0.36440 to 0.36315, saving model to exp/cv_baseline_finalconv5/8_64_64__8_3_3_tenc64_conv1_MSE_NOnorm_augshiftscalerotbrigthness_taug3_3_batch8_f2/2021-03-03_00_28/model/model.h5\n",
      "26/26 [==============================] - 35s 1s/step - loss: 0.3632 - mse_wrapper: 0.3632 - ca_wrapper: 0.8429 - meandiff: 3.1587 - val_loss: 0.5989 - val_mse_wrapper: 0.5989 - val_ca_wrapper: 0.8038 - val_meandiff: 4.3125 - lr: 1.0000e-04\n",
      "Epoch 49/100\n",
      "26/26 [==============================] - ETA: 0s - loss: 0.3538 - mse_wrapper: 0.3538 - ca_wrapper: 0.8491 - meandiff: 3.0385\n",
      "Epoch 00049: loss improved from 0.36315 to 0.35381, saving model to exp/cv_baseline_finalconv5/8_64_64__8_3_3_tenc64_conv1_MSE_NOnorm_augshiftscalerotbrigthness_taug3_3_batch8_f2/2021-03-03_00_28/model/model.h5\n",
      "26/26 [==============================] - 34s 1s/step - loss: 0.3538 - mse_wrapper: 0.3538 - ca_wrapper: 0.8491 - meandiff: 3.0385 - val_loss: 0.8845 - val_mse_wrapper: 0.8845 - val_ca_wrapper: 0.8086 - val_meandiff: 3.9062 - lr: 1.0000e-04\n",
      "Epoch 50/100\n",
      "26/26 [==============================] - ETA: 0s - loss: 0.3651 - mse_wrapper: 0.3651 - ca_wrapper: 0.8452 - meandiff: 3.0673"
     ]
    },
    {
     "name": "stderr",
     "output_type": "stream",
     "text": [
      "2021-03-03 00:59:25,345 INFO (4, 2, 36, 5)\n",
      "2021-03-03 00:59:25,916 INFO (4, 2, 36, 5)\n"
     ]
    },
    {
     "name": "stdout",
     "output_type": "stream",
     "text": [
      "\n",
      "Epoch 00050: loss did not improve from 0.35381\n",
      "26/26 [==============================] - 35s 1s/step - loss: 0.3651 - mse_wrapper: 0.3651 - ca_wrapper: 0.8452 - meandiff: 3.0673 - val_loss: 1.2402 - val_mse_wrapper: 1.2402 - val_ca_wrapper: 0.8207 - val_meandiff: 3.6406 - lr: 1.0000e-04\n",
      "Epoch 51/100\n",
      "26/26 [==============================] - ETA: 0s - loss: 0.3521 - mse_wrapper: 0.3521 - ca_wrapper: 0.8500 - meandiff: 2.9712\n",
      "Epoch 00051: loss improved from 0.35381 to 0.35212, saving model to exp/cv_baseline_finalconv5/8_64_64__8_3_3_tenc64_conv1_MSE_NOnorm_augshiftscalerotbrigthness_taug3_3_batch8_f2/2021-03-03_00_28/model/model.h5\n",
      "26/26 [==============================] - 34s 1s/step - loss: 0.3521 - mse_wrapper: 0.3521 - ca_wrapper: 0.8500 - meandiff: 2.9712 - val_loss: 0.7648 - val_mse_wrapper: 0.7648 - val_ca_wrapper: 0.8043 - val_meandiff: 3.5781 - lr: 1.0000e-04\n",
      "Epoch 52/100\n",
      "26/26 [==============================] - ETA: 0s - loss: 0.3444 - mse_wrapper: 0.3444 - ca_wrapper: 0.8479 - meandiff: 3.1058"
     ]
    },
    {
     "name": "stderr",
     "output_type": "stream",
     "text": [
      "2021-03-03 01:00:39,222 INFO (4, 2, 36, 5)\n",
      "2021-03-03 01:00:39,792 INFO (4, 2, 36, 5)\n"
     ]
    },
    {
     "name": "stdout",
     "output_type": "stream",
     "text": [
      "\n",
      "Epoch 00052: loss improved from 0.35212 to 0.34439, saving model to exp/cv_baseline_finalconv5/8_64_64__8_3_3_tenc64_conv1_MSE_NOnorm_augshiftscalerotbrigthness_taug3_3_batch8_f2/2021-03-03_00_28/model/model.h5\n",
      "26/26 [==============================] - 35s 1s/step - loss: 0.3444 - mse_wrapper: 0.3444 - ca_wrapper: 0.8479 - meandiff: 3.1058 - val_loss: 0.6712 - val_mse_wrapper: 0.6712 - val_ca_wrapper: 0.8147 - val_meandiff: 3.8281 - lr: 1.0000e-04\n",
      "Epoch 53/100\n",
      "26/26 [==============================] - ETA: 0s - loss: 0.3482 - mse_wrapper: 0.3482 - ca_wrapper: 0.8539 - meandiff: 3.1010\n",
      "Epoch 00053: loss did not improve from 0.34439\n",
      "26/26 [==============================] - 34s 1s/step - loss: 0.3482 - mse_wrapper: 0.3482 - ca_wrapper: 0.8539 - meandiff: 3.1010 - val_loss: 0.7231 - val_mse_wrapper: 0.7231 - val_ca_wrapper: 0.8073 - val_meandiff: 3.7500 - lr: 1.0000e-04\n",
      "Epoch 54/100\n",
      "26/26 [==============================] - ETA: 0s - loss: 0.3316 - mse_wrapper: 0.3316 - ca_wrapper: 0.8511 - meandiff: 2.7212"
     ]
    },
    {
     "name": "stderr",
     "output_type": "stream",
     "text": [
      "2021-03-03 01:01:52,241 INFO (4, 2, 36, 5)\n",
      "2021-03-03 01:01:52,804 INFO (4, 2, 36, 5)\n"
     ]
    },
    {
     "name": "stdout",
     "output_type": "stream",
     "text": [
      "\n",
      "Epoch 00054: loss improved from 0.34439 to 0.33158, saving model to exp/cv_baseline_finalconv5/8_64_64__8_3_3_tenc64_conv1_MSE_NOnorm_augshiftscalerotbrigthness_taug3_3_batch8_f2/2021-03-03_00_28/model/model.h5\n",
      "26/26 [==============================] - 35s 1s/step - loss: 0.3316 - mse_wrapper: 0.3316 - ca_wrapper: 0.8511 - meandiff: 2.7212 - val_loss: 0.5486 - val_mse_wrapper: 0.5486 - val_ca_wrapper: 0.8277 - val_meandiff: 3.8438 - lr: 1.0000e-04\n",
      "Epoch 55/100\n",
      "26/26 [==============================] - ETA: 0s - loss: 0.3311 - mse_wrapper: 0.3311 - ca_wrapper: 0.8543 - meandiff: 3.0673\n",
      "Epoch 00055: loss improved from 0.33158 to 0.33113, saving model to exp/cv_baseline_finalconv5/8_64_64__8_3_3_tenc64_conv1_MSE_NOnorm_augshiftscalerotbrigthness_taug3_3_batch8_f2/2021-03-03_00_28/model/model.h5\n",
      "26/26 [==============================] - 34s 1s/step - loss: 0.3311 - mse_wrapper: 0.3311 - ca_wrapper: 0.8543 - meandiff: 3.0673 - val_loss: 0.9223 - val_mse_wrapper: 0.9223 - val_ca_wrapper: 0.7661 - val_meandiff: 3.9219 - lr: 1.0000e-04\n",
      "Epoch 56/100\n",
      "26/26 [==============================] - ETA: 0s - loss: 0.3423 - mse_wrapper: 0.3423 - ca_wrapper: 0.8452 - meandiff: 2.9231"
     ]
    },
    {
     "name": "stderr",
     "output_type": "stream",
     "text": [
      "2021-03-03 01:03:04,811 INFO (4, 2, 36, 5)\n",
      "2021-03-03 01:03:05,359 INFO (4, 2, 36, 5)\n"
     ]
    },
    {
     "name": "stdout",
     "output_type": "stream",
     "text": [
      "\n",
      "Epoch 00056: loss did not improve from 0.33113\n",
      "26/26 [==============================] - 35s 1s/step - loss: 0.3423 - mse_wrapper: 0.3423 - ca_wrapper: 0.8452 - meandiff: 2.9231 - val_loss: 0.8082 - val_mse_wrapper: 0.8082 - val_ca_wrapper: 0.7904 - val_meandiff: 3.8594 - lr: 1.0000e-04\n",
      "Epoch 57/100\n",
      "26/26 [==============================] - ETA: 0s - loss: 0.3375 - mse_wrapper: 0.3375 - ca_wrapper: 0.8539 - meandiff: 2.8510\n",
      "Epoch 00057: loss did not improve from 0.33113\n",
      "26/26 [==============================] - 34s 1s/step - loss: 0.3375 - mse_wrapper: 0.3375 - ca_wrapper: 0.8539 - meandiff: 2.8510 - val_loss: 0.6447 - val_mse_wrapper: 0.6447 - val_ca_wrapper: 0.7956 - val_meandiff: 4.3125 - lr: 1.0000e-04\n",
      "Epoch 58/100\n",
      "26/26 [==============================] - ETA: 0s - loss: 0.3223 - mse_wrapper: 0.3223 - ca_wrapper: 0.8518 - meandiff: 2.7356"
     ]
    },
    {
     "name": "stderr",
     "output_type": "stream",
     "text": [
      "2021-03-03 01:04:18,018 INFO (4, 2, 36, 5)\n",
      "2021-03-03 01:04:18,551 INFO (4, 2, 36, 5)\n"
     ]
    },
    {
     "name": "stdout",
     "output_type": "stream",
     "text": [
      "\n",
      "Epoch 00058: loss improved from 0.33113 to 0.32229, saving model to exp/cv_baseline_finalconv5/8_64_64__8_3_3_tenc64_conv1_MSE_NOnorm_augshiftscalerotbrigthness_taug3_3_batch8_f2/2021-03-03_00_28/model/model.h5\n",
      "26/26 [==============================] - 35s 1s/step - loss: 0.3223 - mse_wrapper: 0.3223 - ca_wrapper: 0.8518 - meandiff: 2.7356 - val_loss: 1.0002 - val_mse_wrapper: 1.0002 - val_ca_wrapper: 0.8043 - val_meandiff: 3.7344 - lr: 1.0000e-04\n",
      "Epoch 59/100\n",
      "26/26 [==============================] - ETA: 0s - loss: 0.3294 - mse_wrapper: 0.3294 - ca_wrapper: 0.8587 - meandiff: 2.8990\n",
      "Epoch 00059: loss did not improve from 0.32229\n",
      "26/26 [==============================] - 34s 1s/step - loss: 0.3294 - mse_wrapper: 0.3294 - ca_wrapper: 0.8587 - meandiff: 2.8990 - val_loss: 0.6303 - val_mse_wrapper: 0.6303 - val_ca_wrapper: 0.7847 - val_meandiff: 3.9844 - lr: 1.0000e-04\n",
      "Epoch 60/100\n",
      "26/26 [==============================] - ETA: 0s - loss: 0.3223 - mse_wrapper: 0.3223 - ca_wrapper: 0.8612 - meandiff: 2.7212"
     ]
    },
    {
     "name": "stderr",
     "output_type": "stream",
     "text": [
      "2021-03-03 01:05:30,589 INFO (4, 2, 36, 5)\n",
      "2021-03-03 01:05:31,161 INFO (4, 2, 36, 5)\n"
     ]
    },
    {
     "name": "stdout",
     "output_type": "stream",
     "text": [
      "\n",
      "Epoch 00060: loss improved from 0.32229 to 0.32227, saving model to exp/cv_baseline_finalconv5/8_64_64__8_3_3_tenc64_conv1_MSE_NOnorm_augshiftscalerotbrigthness_taug3_3_batch8_f2/2021-03-03_00_28/model/model.h5\n",
      "26/26 [==============================] - 35s 1s/step - loss: 0.3223 - mse_wrapper: 0.3223 - ca_wrapper: 0.8612 - meandiff: 2.7212 - val_loss: 0.8076 - val_mse_wrapper: 0.8076 - val_ca_wrapper: 0.8030 - val_meandiff: 3.9375 - lr: 1.0000e-04\n",
      "Epoch 61/100\n",
      "26/26 [==============================] - ETA: 0s - loss: 0.3221 - mse_wrapper: 0.3221 - ca_wrapper: 0.8588 - meandiff: 2.7260\n",
      "Epoch 00061: loss improved from 0.32227 to 0.32211, saving model to exp/cv_baseline_finalconv5/8_64_64__8_3_3_tenc64_conv1_MSE_NOnorm_augshiftscalerotbrigthness_taug3_3_batch8_f2/2021-03-03_00_28/model/model.h5\n",
      "26/26 [==============================] - 34s 1s/step - loss: 0.3221 - mse_wrapper: 0.3221 - ca_wrapper: 0.8588 - meandiff: 2.7260 - val_loss: 1.0894 - val_mse_wrapper: 1.0894 - val_ca_wrapper: 0.8134 - val_meandiff: 3.6875 - lr: 1.0000e-04\n",
      "Epoch 62/100\n",
      "26/26 [==============================] - ETA: 0s - loss: 0.3126 - mse_wrapper: 0.3126 - ca_wrapper: 0.8572 - meandiff: 2.7740"
     ]
    },
    {
     "name": "stderr",
     "output_type": "stream",
     "text": [
      "2021-03-03 01:06:43,467 INFO (4, 2, 36, 5)\n",
      "2021-03-03 01:06:44,035 INFO (4, 2, 36, 5)\n"
     ]
    },
    {
     "name": "stdout",
     "output_type": "stream",
     "text": [
      "\n",
      "Epoch 00062: loss improved from 0.32211 to 0.31264, saving model to exp/cv_baseline_finalconv5/8_64_64__8_3_3_tenc64_conv1_MSE_NOnorm_augshiftscalerotbrigthness_taug3_3_batch8_f2/2021-03-03_00_28/model/model.h5\n",
      "26/26 [==============================] - 35s 1s/step - loss: 0.3126 - mse_wrapper: 0.3126 - ca_wrapper: 0.8572 - meandiff: 2.7740 - val_loss: 0.9510 - val_mse_wrapper: 0.9510 - val_ca_wrapper: 0.7843 - val_meandiff: 3.8594 - lr: 1.0000e-04\n",
      "Epoch 63/100\n",
      "26/26 [==============================] - ETA: 0s - loss: 0.3013 - mse_wrapper: 0.3013 - ca_wrapper: 0.8552 - meandiff: 2.6154\n",
      "Epoch 00063: loss improved from 0.31264 to 0.30125, saving model to exp/cv_baseline_finalconv5/8_64_64__8_3_3_tenc64_conv1_MSE_NOnorm_augshiftscalerotbrigthness_taug3_3_batch8_f2/2021-03-03_00_28/model/model.h5\n",
      "26/26 [==============================] - 34s 1s/step - loss: 0.3013 - mse_wrapper: 0.3013 - ca_wrapper: 0.8552 - meandiff: 2.6154 - val_loss: 0.9292 - val_mse_wrapper: 0.9292 - val_ca_wrapper: 0.7721 - val_meandiff: 3.5781 - lr: 1.0000e-04\n",
      "Epoch 64/100\n",
      "26/26 [==============================] - ETA: 0s - loss: 0.3178 - mse_wrapper: 0.3178 - ca_wrapper: 0.8555 - meandiff: 2.6202"
     ]
    },
    {
     "name": "stderr",
     "output_type": "stream",
     "text": [
      "2021-03-03 01:07:56,733 INFO (4, 2, 36, 5)\n",
      "2021-03-03 01:07:57,304 INFO (4, 2, 36, 5)\n"
     ]
    },
    {
     "name": "stdout",
     "output_type": "stream",
     "text": [
      "\n",
      "Epoch 00064: loss did not improve from 0.30125\n",
      "26/26 [==============================] - 35s 1s/step - loss: 0.3178 - mse_wrapper: 0.3178 - ca_wrapper: 0.8555 - meandiff: 2.6202 - val_loss: 0.7839 - val_mse_wrapper: 0.7839 - val_ca_wrapper: 0.7938 - val_meandiff: 3.6094 - lr: 1.0000e-04\n",
      "Epoch 65/100\n",
      "26/26 [==============================] - ETA: 0s - loss: 0.3256 - mse_wrapper: 0.3256 - ca_wrapper: 0.8542 - meandiff: 2.6827\n",
      "Epoch 00065: loss did not improve from 0.30125\n",
      "26/26 [==============================] - 34s 1s/step - loss: 0.3256 - mse_wrapper: 0.3256 - ca_wrapper: 0.8542 - meandiff: 2.6827 - val_loss: 0.7655 - val_mse_wrapper: 0.7655 - val_ca_wrapper: 0.7917 - val_meandiff: 4.1719 - lr: 1.0000e-04\n",
      "Epoch 66/100\n",
      "26/26 [==============================] - ETA: 0s - loss: 0.3299 - mse_wrapper: 0.3299 - ca_wrapper: 0.8528 - meandiff: 3.1394"
     ]
    },
    {
     "name": "stderr",
     "output_type": "stream",
     "text": [
      "2021-03-03 01:09:09,509 INFO (4, 2, 36, 5)\n",
      "2021-03-03 01:09:10,069 INFO (4, 2, 36, 5)\n"
     ]
    },
    {
     "name": "stdout",
     "output_type": "stream",
     "text": [
      "\n",
      "Epoch 00066: loss did not improve from 0.30125\n",
      "26/26 [==============================] - 35s 1s/step - loss: 0.3299 - mse_wrapper: 0.3299 - ca_wrapper: 0.8528 - meandiff: 3.1394 - val_loss: 0.9028 - val_mse_wrapper: 0.9028 - val_ca_wrapper: 0.7960 - val_meandiff: 3.5312 - lr: 1.0000e-04\n",
      "Epoch 67/100\n",
      "26/26 [==============================] - ETA: 0s - loss: 0.2993 - mse_wrapper: 0.2993 - ca_wrapper: 0.8631 - meandiff: 2.5865\n",
      "Epoch 00067: loss improved from 0.30125 to 0.29926, saving model to exp/cv_baseline_finalconv5/8_64_64__8_3_3_tenc64_conv1_MSE_NOnorm_augshiftscalerotbrigthness_taug3_3_batch8_f2/2021-03-03_00_28/model/model.h5\n",
      "26/26 [==============================] - 34s 1s/step - loss: 0.2993 - mse_wrapper: 0.2993 - ca_wrapper: 0.8631 - meandiff: 2.5865 - val_loss: 0.7449 - val_mse_wrapper: 0.7449 - val_ca_wrapper: 0.8190 - val_meandiff: 3.5312 - lr: 1.0000e-04\n",
      "Epoch 68/100\n",
      "26/26 [==============================] - ETA: 0s - loss: 0.3004 - mse_wrapper: 0.3004 - ca_wrapper: 0.8560 - meandiff: 2.5721"
     ]
    },
    {
     "name": "stderr",
     "output_type": "stream",
     "text": [
      "2021-03-03 01:10:21,803 INFO (4, 2, 36, 5)\n",
      "2021-03-03 01:10:22,356 INFO (4, 2, 36, 5)\n"
     ]
    },
    {
     "name": "stdout",
     "output_type": "stream",
     "text": [
      "\n",
      "Epoch 00068: loss did not improve from 0.29926\n",
      "26/26 [==============================] - 36s 1s/step - loss: 0.3004 - mse_wrapper: 0.3004 - ca_wrapper: 0.8560 - meandiff: 2.5721 - val_loss: 0.6508 - val_mse_wrapper: 0.6508 - val_ca_wrapper: 0.8086 - val_meandiff: 3.4219 - lr: 1.0000e-04\n",
      "Epoch 69/100\n",
      "26/26 [==============================] - ETA: 0s - loss: 0.3164 - mse_wrapper: 0.3164 - ca_wrapper: 0.8504 - meandiff: 2.6394\n",
      "Epoch 00069: loss did not improve from 0.29926\n",
      "26/26 [==============================] - 33s 1s/step - loss: 0.3164 - mse_wrapper: 0.3164 - ca_wrapper: 0.8504 - meandiff: 2.6394 - val_loss: 0.7615 - val_mse_wrapper: 0.7615 - val_ca_wrapper: 0.8164 - val_meandiff: 3.5156 - lr: 1.0000e-04\n",
      "Epoch 70/100\n",
      "26/26 [==============================] - ETA: 0s - loss: 0.2920 - mse_wrapper: 0.2920 - ca_wrapper: 0.8567 - meandiff: 2.5144"
     ]
    },
    {
     "name": "stderr",
     "output_type": "stream",
     "text": [
      "2021-03-03 01:11:35,098 INFO (4, 2, 36, 5)\n",
      "2021-03-03 01:11:35,665 INFO (4, 2, 36, 5)\n"
     ]
    },
    {
     "name": "stdout",
     "output_type": "stream",
     "text": [
      "\n",
      "Epoch 00070: loss improved from 0.29926 to 0.29201, saving model to exp/cv_baseline_finalconv5/8_64_64__8_3_3_tenc64_conv1_MSE_NOnorm_augshiftscalerotbrigthness_taug3_3_batch8_f2/2021-03-03_00_28/model/model.h5\n",
      "26/26 [==============================] - 35s 1s/step - loss: 0.2920 - mse_wrapper: 0.2920 - ca_wrapper: 0.8567 - meandiff: 2.5144 - val_loss: 0.7346 - val_mse_wrapper: 0.7346 - val_ca_wrapper: 0.8316 - val_meandiff: 3.4531 - lr: 1.0000e-04\n",
      "Epoch 71/100\n",
      "26/26 [==============================] - ETA: 0s - loss: 0.3104 - mse_wrapper: 0.3104 - ca_wrapper: 0.8520 - meandiff: 2.5817\n",
      "Epoch 00071: loss did not improve from 0.29201\n",
      "26/26 [==============================] - 34s 1s/step - loss: 0.3104 - mse_wrapper: 0.3104 - ca_wrapper: 0.8520 - meandiff: 2.5817 - val_loss: 0.6058 - val_mse_wrapper: 0.6058 - val_ca_wrapper: 0.7747 - val_meandiff: 4.0938 - lr: 1.0000e-04\n",
      "Epoch 72/100\n",
      "26/26 [==============================] - ETA: 0s - loss: 0.2882 - mse_wrapper: 0.2882 - ca_wrapper: 0.8558 - meandiff: 2.5288"
     ]
    },
    {
     "name": "stderr",
     "output_type": "stream",
     "text": [
      "2021-03-03 01:12:47,847 INFO (4, 2, 36, 5)\n",
      "2021-03-03 01:12:48,431 INFO (4, 2, 36, 5)\n"
     ]
    },
    {
     "name": "stdout",
     "output_type": "stream",
     "text": [
      "\n",
      "Epoch 00072: loss improved from 0.29201 to 0.28824, saving model to exp/cv_baseline_finalconv5/8_64_64__8_3_3_tenc64_conv1_MSE_NOnorm_augshiftscalerotbrigthness_taug3_3_batch8_f2/2021-03-03_00_28/model/model.h5\n",
      "26/26 [==============================] - 35s 1s/step - loss: 0.2882 - mse_wrapper: 0.2882 - ca_wrapper: 0.8558 - meandiff: 2.5288 - val_loss: 0.6708 - val_mse_wrapper: 0.6708 - val_ca_wrapper: 0.8190 - val_meandiff: 3.7812 - lr: 1.0000e-04\n",
      "Epoch 73/100\n",
      "26/26 [==============================] - ETA: 0s - loss: 0.3118 - mse_wrapper: 0.3118 - ca_wrapper: 0.8504 - meandiff: 2.6490\n",
      "Epoch 00073: loss did not improve from 0.28824\n",
      "26/26 [==============================] - 34s 1s/step - loss: 0.3118 - mse_wrapper: 0.3118 - ca_wrapper: 0.8504 - meandiff: 2.6490 - val_loss: 0.6255 - val_mse_wrapper: 0.6255 - val_ca_wrapper: 0.7986 - val_meandiff: 3.8906 - lr: 1.0000e-04\n",
      "Epoch 74/100\n",
      "26/26 [==============================] - ETA: 0s - loss: 0.2979 - mse_wrapper: 0.2979 - ca_wrapper: 0.8588 - meandiff: 2.4952"
     ]
    },
    {
     "name": "stderr",
     "output_type": "stream",
     "text": [
      "2021-03-03 01:14:00,736 INFO (4, 2, 36, 5)\n",
      "2021-03-03 01:14:01,295 INFO (4, 2, 36, 5)\n"
     ]
    },
    {
     "name": "stdout",
     "output_type": "stream",
     "text": [
      "\n",
      "Epoch 00074: loss did not improve from 0.28824\n",
      "26/26 [==============================] - 35s 1s/step - loss: 0.2979 - mse_wrapper: 0.2979 - ca_wrapper: 0.8588 - meandiff: 2.4952 - val_loss: 0.6813 - val_mse_wrapper: 0.6813 - val_ca_wrapper: 0.7964 - val_meandiff: 3.5781 - lr: 1.0000e-04\n",
      "Epoch 75/100\n",
      "26/26 [==============================] - ETA: 0s - loss: 0.2826 - mse_wrapper: 0.2826 - ca_wrapper: 0.8643 - meandiff: 2.3365\n",
      "Epoch 00075: loss improved from 0.28824 to 0.28262, saving model to exp/cv_baseline_finalconv5/8_64_64__8_3_3_tenc64_conv1_MSE_NOnorm_augshiftscalerotbrigthness_taug3_3_batch8_f2/2021-03-03_00_28/model/model.h5\n",
      "26/26 [==============================] - 34s 1s/step - loss: 0.2826 - mse_wrapper: 0.2826 - ca_wrapper: 0.8643 - meandiff: 2.3365 - val_loss: 1.0133 - val_mse_wrapper: 1.0133 - val_ca_wrapper: 0.8125 - val_meandiff: 3.5156 - lr: 1.0000e-04\n",
      "Epoch 76/100\n",
      "26/26 [==============================] - ETA: 0s - loss: 0.2800 - mse_wrapper: 0.2800 - ca_wrapper: 0.8588 - meandiff: 2.4183"
     ]
    },
    {
     "name": "stderr",
     "output_type": "stream",
     "text": [
      "2021-03-03 01:15:13,391 INFO (4, 2, 36, 5)\n",
      "2021-03-03 01:15:13,916 INFO (4, 2, 36, 5)\n"
     ]
    },
    {
     "name": "stdout",
     "output_type": "stream",
     "text": [
      "\n",
      "Epoch 00076: loss improved from 0.28262 to 0.28002, saving model to exp/cv_baseline_finalconv5/8_64_64__8_3_3_tenc64_conv1_MSE_NOnorm_augshiftscalerotbrigthness_taug3_3_batch8_f2/2021-03-03_00_28/model/model.h5\n",
      "26/26 [==============================] - 35s 1s/step - loss: 0.2800 - mse_wrapper: 0.2800 - ca_wrapper: 0.8588 - meandiff: 2.4183 - val_loss: 0.6629 - val_mse_wrapper: 0.6629 - val_ca_wrapper: 0.8173 - val_meandiff: 3.4062 - lr: 1.0000e-04\n",
      "Epoch 77/100\n",
      "26/26 [==============================] - ETA: 0s - loss: 0.2839 - mse_wrapper: 0.2839 - ca_wrapper: 0.8632 - meandiff: 2.3221\n",
      "Epoch 00077: loss did not improve from 0.28002\n",
      "26/26 [==============================] - 34s 1s/step - loss: 0.2839 - mse_wrapper: 0.2839 - ca_wrapper: 0.8632 - meandiff: 2.3221 - val_loss: 0.7417 - val_mse_wrapper: 0.7417 - val_ca_wrapper: 0.8030 - val_meandiff: 3.5312 - lr: 1.0000e-04\n",
      "Epoch 78/100\n",
      "26/26 [==============================] - ETA: 0s - loss: 0.2793 - mse_wrapper: 0.2793 - ca_wrapper: 0.8667 - meandiff: 2.4423"
     ]
    },
    {
     "name": "stderr",
     "output_type": "stream",
     "text": [
      "2021-03-03 01:16:26,397 INFO (4, 2, 36, 5)\n",
      "2021-03-03 01:16:26,956 INFO (4, 2, 36, 5)\n"
     ]
    },
    {
     "name": "stdout",
     "output_type": "stream",
     "text": [
      "\n",
      "Epoch 00078: loss improved from 0.28002 to 0.27928, saving model to exp/cv_baseline_finalconv5/8_64_64__8_3_3_tenc64_conv1_MSE_NOnorm_augshiftscalerotbrigthness_taug3_3_batch8_f2/2021-03-03_00_28/model/model.h5\n",
      "26/26 [==============================] - 35s 1s/step - loss: 0.2793 - mse_wrapper: 0.2793 - ca_wrapper: 0.8667 - meandiff: 2.4423 - val_loss: 0.8850 - val_mse_wrapper: 0.8850 - val_ca_wrapper: 0.7843 - val_meandiff: 4.4062 - lr: 1.0000e-04\n",
      "Epoch 79/100\n",
      "26/26 [==============================] - ETA: 0s - loss: 0.2635 - mse_wrapper: 0.2635 - ca_wrapper: 0.8686 - meandiff: 2.1154\n",
      "Epoch 00079: loss improved from 0.27928 to 0.26347, saving model to exp/cv_baseline_finalconv5/8_64_64__8_3_3_tenc64_conv1_MSE_NOnorm_augshiftscalerotbrigthness_taug3_3_batch8_f2/2021-03-03_00_28/model/model.h5\n",
      "26/26 [==============================] - 34s 1s/step - loss: 0.2635 - mse_wrapper: 0.2635 - ca_wrapper: 0.8686 - meandiff: 2.1154 - val_loss: 0.6128 - val_mse_wrapper: 0.6128 - val_ca_wrapper: 0.8082 - val_meandiff: 3.6406 - lr: 1.0000e-04\n",
      "Epoch 80/100\n",
      "26/26 [==============================] - ETA: 0s - loss: 0.2795 - mse_wrapper: 0.2795 - ca_wrapper: 0.8571 - meandiff: 2.3125"
     ]
    },
    {
     "name": "stderr",
     "output_type": "stream",
     "text": [
      "2021-03-03 01:17:38,882 INFO (4, 2, 36, 5)\n",
      "2021-03-03 01:17:39,456 INFO (4, 2, 36, 5)\n"
     ]
    },
    {
     "name": "stdout",
     "output_type": "stream",
     "text": [
      "\n",
      "Epoch 00080: loss did not improve from 0.26347\n",
      "26/26 [==============================] - 35s 1s/step - loss: 0.2795 - mse_wrapper: 0.2795 - ca_wrapper: 0.8571 - meandiff: 2.3125 - val_loss: 0.9268 - val_mse_wrapper: 0.9268 - val_ca_wrapper: 0.8103 - val_meandiff: 3.8906 - lr: 1.0000e-04\n",
      "Epoch 81/100\n",
      "26/26 [==============================] - ETA: 0s - loss: 0.2583 - mse_wrapper: 0.2583 - ca_wrapper: 0.8702 - meandiff: 2.1010\n",
      "Epoch 00081: loss improved from 0.26347 to 0.25829, saving model to exp/cv_baseline_finalconv5/8_64_64__8_3_3_tenc64_conv1_MSE_NOnorm_augshiftscalerotbrigthness_taug3_3_batch8_f2/2021-03-03_00_28/model/model.h5\n",
      "26/26 [==============================] - 34s 1s/step - loss: 0.2583 - mse_wrapper: 0.2583 - ca_wrapper: 0.8702 - meandiff: 2.1010 - val_loss: 0.9504 - val_mse_wrapper: 0.9504 - val_ca_wrapper: 0.8168 - val_meandiff: 3.7969 - lr: 1.0000e-04\n",
      "Epoch 82/100\n",
      "26/26 [==============================] - ETA: 0s - loss: 0.2674 - mse_wrapper: 0.2674 - ca_wrapper: 0.8679 - meandiff: 2.2500"
     ]
    },
    {
     "name": "stderr",
     "output_type": "stream",
     "text": [
      "2021-03-03 01:18:51,283 INFO (4, 2, 36, 5)\n",
      "2021-03-03 01:18:51,825 INFO (4, 2, 36, 5)\n"
     ]
    },
    {
     "name": "stdout",
     "output_type": "stream",
     "text": [
      "\n",
      "Epoch 00082: loss did not improve from 0.25829\n",
      "26/26 [==============================] - 35s 1s/step - loss: 0.2674 - mse_wrapper: 0.2674 - ca_wrapper: 0.8679 - meandiff: 2.2500 - val_loss: 0.7563 - val_mse_wrapper: 0.7563 - val_ca_wrapper: 0.8060 - val_meandiff: 3.6250 - lr: 1.0000e-04\n",
      "Epoch 83/100\n",
      "26/26 [==============================] - ETA: 0s - loss: 0.2551 - mse_wrapper: 0.2551 - ca_wrapper: 0.8657 - meandiff: 2.1394\n",
      "Epoch 00083: loss improved from 0.25829 to 0.25507, saving model to exp/cv_baseline_finalconv5/8_64_64__8_3_3_tenc64_conv1_MSE_NOnorm_augshiftscalerotbrigthness_taug3_3_batch8_f2/2021-03-03_00_28/model/model.h5\n",
      "26/26 [==============================] - 34s 1s/step - loss: 0.2551 - mse_wrapper: 0.2551 - ca_wrapper: 0.8657 - meandiff: 2.1394 - val_loss: 0.8065 - val_mse_wrapper: 0.8065 - val_ca_wrapper: 0.8203 - val_meandiff: 3.6719 - lr: 1.0000e-04\n",
      "Epoch 84/100\n",
      "26/26 [==============================] - ETA: 0s - loss: 0.2637 - mse_wrapper: 0.2637 - ca_wrapper: 0.8588 - meandiff: 2.0865"
     ]
    },
    {
     "name": "stderr",
     "output_type": "stream",
     "text": [
      "2021-03-03 01:20:03,952 INFO (4, 2, 36, 5)\n",
      "2021-03-03 01:20:04,528 INFO (4, 2, 36, 5)\n"
     ]
    },
    {
     "name": "stdout",
     "output_type": "stream",
     "text": [
      "\n",
      "Epoch 00084: loss did not improve from 0.25507\n",
      "26/26 [==============================] - 35s 1s/step - loss: 0.2637 - mse_wrapper: 0.2637 - ca_wrapper: 0.8588 - meandiff: 2.0865 - val_loss: 0.6686 - val_mse_wrapper: 0.6686 - val_ca_wrapper: 0.7882 - val_meandiff: 3.8906 - lr: 1.0000e-04\n",
      "Epoch 85/100\n",
      "26/26 [==============================] - ETA: 0s - loss: 0.2466 - mse_wrapper: 0.2466 - ca_wrapper: 0.8706 - meandiff: 1.9183\n",
      "Epoch 00085: loss improved from 0.25507 to 0.24661, saving model to exp/cv_baseline_finalconv5/8_64_64__8_3_3_tenc64_conv1_MSE_NOnorm_augshiftscalerotbrigthness_taug3_3_batch8_f2/2021-03-03_00_28/model/model.h5\n",
      "26/26 [==============================] - 34s 1s/step - loss: 0.2466 - mse_wrapper: 0.2466 - ca_wrapper: 0.8706 - meandiff: 1.9183 - val_loss: 0.7355 - val_mse_wrapper: 0.7355 - val_ca_wrapper: 0.7878 - val_meandiff: 3.7812 - lr: 1.0000e-04\n",
      "Epoch 86/100\n",
      "26/26 [==============================] - ETA: 0s - loss: 0.2645 - mse_wrapper: 0.2645 - ca_wrapper: 0.8691 - meandiff: 2.1154"
     ]
    },
    {
     "name": "stderr",
     "output_type": "stream",
     "text": [
      "2021-03-03 01:21:16,321 INFO (4, 2, 36, 5)\n",
      "2021-03-03 01:21:16,875 INFO (4, 2, 36, 5)\n"
     ]
    },
    {
     "name": "stdout",
     "output_type": "stream",
     "text": [
      "\n",
      "Epoch 00086: loss did not improve from 0.24661\n",
      "26/26 [==============================] - 35s 1s/step - loss: 0.2645 - mse_wrapper: 0.2645 - ca_wrapper: 0.8691 - meandiff: 2.1154 - val_loss: 0.6586 - val_mse_wrapper: 0.6586 - val_ca_wrapper: 0.8034 - val_meandiff: 3.3438 - lr: 1.0000e-04\n",
      "Epoch 87/100\n",
      "26/26 [==============================] - ETA: 0s - loss: 0.2720 - mse_wrapper: 0.2720 - ca_wrapper: 0.8550 - meandiff: 2.1058\n",
      "Epoch 00087: loss did not improve from 0.24661\n",
      "26/26 [==============================] - 35s 1s/step - loss: 0.2720 - mse_wrapper: 0.2720 - ca_wrapper: 0.8550 - meandiff: 2.1058 - val_loss: 0.9088 - val_mse_wrapper: 0.9088 - val_ca_wrapper: 0.8021 - val_meandiff: 3.5469 - lr: 1.0000e-04\n",
      "Epoch 88/100\n",
      "26/26 [==============================] - ETA: 0s - loss: 0.2513 - mse_wrapper: 0.2513 - ca_wrapper: 0.8761 - meandiff: 2.0144"
     ]
    },
    {
     "name": "stderr",
     "output_type": "stream",
     "text": [
      "2021-03-03 01:22:30,594 INFO (4, 2, 36, 5)\n",
      "2021-03-03 01:22:31,155 INFO (4, 2, 36, 5)\n"
     ]
    },
    {
     "name": "stdout",
     "output_type": "stream",
     "text": [
      "\n",
      "Epoch 00088: loss did not improve from 0.24661\n",
      "26/26 [==============================] - 35s 1s/step - loss: 0.2513 - mse_wrapper: 0.2513 - ca_wrapper: 0.8761 - meandiff: 2.0144 - val_loss: 0.7770 - val_mse_wrapper: 0.7770 - val_ca_wrapper: 0.8181 - val_meandiff: 3.4375 - lr: 1.0000e-04\n",
      "Epoch 89/100\n",
      "26/26 [==============================] - ETA: 0s - loss: 0.2492 - mse_wrapper: 0.2492 - ca_wrapper: 0.8638 - meandiff: 2.0433\n",
      "Epoch 00089: loss did not improve from 0.24661\n",
      "26/26 [==============================] - 34s 1s/step - loss: 0.2492 - mse_wrapper: 0.2492 - ca_wrapper: 0.8638 - meandiff: 2.0433 - val_loss: 0.6298 - val_mse_wrapper: 0.6298 - val_ca_wrapper: 0.8056 - val_meandiff: 3.4688 - lr: 1.0000e-04\n",
      "Epoch 90/100\n",
      "26/26 [==============================] - ETA: 0s - loss: 0.2439 - mse_wrapper: 0.2439 - ca_wrapper: 0.8743 - meandiff: 1.8798"
     ]
    },
    {
     "name": "stderr",
     "output_type": "stream",
     "text": [
      "2021-03-03 01:23:42,755 INFO (4, 2, 36, 5)\n",
      "2021-03-03 01:23:43,307 INFO (4, 2, 36, 5)\n"
     ]
    },
    {
     "name": "stdout",
     "output_type": "stream",
     "text": [
      "\n",
      "Epoch 00090: loss improved from 0.24661 to 0.24391, saving model to exp/cv_baseline_finalconv5/8_64_64__8_3_3_tenc64_conv1_MSE_NOnorm_augshiftscalerotbrigthness_taug3_3_batch8_f2/2021-03-03_00_28/model/model.h5\n",
      "26/26 [==============================] - 35s 1s/step - loss: 0.2439 - mse_wrapper: 0.2439 - ca_wrapper: 0.8743 - meandiff: 1.8798 - val_loss: 0.9512 - val_mse_wrapper: 0.9512 - val_ca_wrapper: 0.7943 - val_meandiff: 3.6250 - lr: 1.0000e-04\n",
      "Epoch 91/100\n",
      "26/26 [==============================] - ETA: 0s - loss: 0.2563 - mse_wrapper: 0.2563 - ca_wrapper: 0.8678 - meandiff: 1.9471\n",
      "Epoch 00091: loss did not improve from 0.24391\n",
      "26/26 [==============================] - 34s 1s/step - loss: 0.2563 - mse_wrapper: 0.2563 - ca_wrapper: 0.8678 - meandiff: 1.9471 - val_loss: 0.6745 - val_mse_wrapper: 0.6745 - val_ca_wrapper: 0.8190 - val_meandiff: 3.8906 - lr: 1.0000e-04\n",
      "Epoch 92/100\n",
      "26/26 [==============================] - ETA: 0s - loss: 0.2596 - mse_wrapper: 0.2596 - ca_wrapper: 0.8632 - meandiff: 2.0144"
     ]
    },
    {
     "name": "stderr",
     "output_type": "stream",
     "text": [
      "2021-03-03 01:24:55,034 INFO (4, 2, 36, 5)\n",
      "2021-03-03 01:24:55,600 INFO (4, 2, 36, 5)\n"
     ]
    },
    {
     "name": "stdout",
     "output_type": "stream",
     "text": [
      "\n",
      "Epoch 00092: loss did not improve from 0.24391\n",
      "26/26 [==============================] - 35s 1s/step - loss: 0.2596 - mse_wrapper: 0.2596 - ca_wrapper: 0.8632 - meandiff: 2.0144 - val_loss: 0.7313 - val_mse_wrapper: 0.7313 - val_ca_wrapper: 0.8129 - val_meandiff: 3.4062 - lr: 1.0000e-04\n",
      "Epoch 93/100\n",
      "26/26 [==============================] - ETA: 0s - loss: 0.2448 - mse_wrapper: 0.2448 - ca_wrapper: 0.8632 - meandiff: 1.9375\n",
      "Epoch 00093: loss did not improve from 0.24391\n",
      "26/26 [==============================] - 34s 1s/step - loss: 0.2448 - mse_wrapper: 0.2448 - ca_wrapper: 0.8632 - meandiff: 1.9375 - val_loss: 0.7577 - val_mse_wrapper: 0.7577 - val_ca_wrapper: 0.7960 - val_meandiff: 3.5781 - lr: 1.0000e-04\n",
      "Epoch 94/100\n",
      "26/26 [==============================] - ETA: 0s - loss: 0.2379 - mse_wrapper: 0.2379 - ca_wrapper: 0.8667 - meandiff: 1.7740"
     ]
    },
    {
     "name": "stderr",
     "output_type": "stream",
     "text": [
      "2021-03-03 01:26:07,598 INFO (4, 2, 36, 5)\n",
      "2021-03-03 01:26:08,159 INFO (4, 2, 36, 5)\n"
     ]
    },
    {
     "name": "stdout",
     "output_type": "stream",
     "text": [
      "\n",
      "Epoch 00094: loss improved from 0.24391 to 0.23794, saving model to exp/cv_baseline_finalconv5/8_64_64__8_3_3_tenc64_conv1_MSE_NOnorm_augshiftscalerotbrigthness_taug3_3_batch8_f2/2021-03-03_00_28/model/model.h5\n",
      "26/26 [==============================] - 35s 1s/step - loss: 0.2379 - mse_wrapper: 0.2379 - ca_wrapper: 0.8667 - meandiff: 1.7740 - val_loss: 0.9175 - val_mse_wrapper: 0.9175 - val_ca_wrapper: 0.8069 - val_meandiff: 3.8906 - lr: 1.0000e-04\n",
      "Epoch 95/100\n",
      "26/26 [==============================] - ETA: 0s - loss: 0.2457 - mse_wrapper: 0.2457 - ca_wrapper: 0.8655 - meandiff: 2.0288\n",
      "Epoch 00095: loss did not improve from 0.23794\n",
      "26/26 [==============================] - 34s 1s/step - loss: 0.2457 - mse_wrapper: 0.2457 - ca_wrapper: 0.8655 - meandiff: 2.0288 - val_loss: 0.8910 - val_mse_wrapper: 0.8910 - val_ca_wrapper: 0.8212 - val_meandiff: 3.9062 - lr: 1.0000e-04\n",
      "Epoch 96/100\n",
      "26/26 [==============================] - ETA: 0s - loss: 0.2538 - mse_wrapper: 0.2538 - ca_wrapper: 0.8595 - meandiff: 2.0481"
     ]
    },
    {
     "name": "stderr",
     "output_type": "stream",
     "text": [
      "2021-03-03 01:27:20,177 INFO (4, 2, 36, 5)\n",
      "2021-03-03 01:27:20,754 INFO (4, 2, 36, 5)\n"
     ]
    },
    {
     "name": "stdout",
     "output_type": "stream",
     "text": [
      "\n",
      "Epoch 00096: loss did not improve from 0.23794\n",
      "26/26 [==============================] - 35s 1s/step - loss: 0.2538 - mse_wrapper: 0.2538 - ca_wrapper: 0.8595 - meandiff: 2.0481 - val_loss: 0.7446 - val_mse_wrapper: 0.7446 - val_ca_wrapper: 0.8025 - val_meandiff: 3.8594 - lr: 1.0000e-04\n",
      "Epoch 97/100\n",
      "26/26 [==============================] - ETA: 0s - loss: 0.2222 - mse_wrapper: 0.2222 - ca_wrapper: 0.8717 - meandiff: 1.8125\n",
      "Epoch 00097: loss improved from 0.23794 to 0.22221, saving model to exp/cv_baseline_finalconv5/8_64_64__8_3_3_tenc64_conv1_MSE_NOnorm_augshiftscalerotbrigthness_taug3_3_batch8_f2/2021-03-03_00_28/model/model.h5\n",
      "26/26 [==============================] - 34s 1s/step - loss: 0.2222 - mse_wrapper: 0.2222 - ca_wrapper: 0.8717 - meandiff: 1.8125 - val_loss: 0.7986 - val_mse_wrapper: 0.7986 - val_ca_wrapper: 0.8160 - val_meandiff: 3.5469 - lr: 1.0000e-04\n",
      "Epoch 98/100\n",
      "26/26 [==============================] - ETA: 0s - loss: 0.2358 - mse_wrapper: 0.2358 - ca_wrapper: 0.8657 - meandiff: 1.7596"
     ]
    },
    {
     "name": "stderr",
     "output_type": "stream",
     "text": [
      "2021-03-03 01:28:32,540 INFO (4, 2, 36, 5)\n",
      "2021-03-03 01:28:33,093 INFO (4, 2, 36, 5)\n"
     ]
    },
    {
     "name": "stdout",
     "output_type": "stream",
     "text": [
      "\n",
      "Epoch 00098: loss did not improve from 0.22221\n",
      "26/26 [==============================] - 35s 1s/step - loss: 0.2358 - mse_wrapper: 0.2358 - ca_wrapper: 0.8657 - meandiff: 1.7596 - val_loss: 0.9603 - val_mse_wrapper: 0.9603 - val_ca_wrapper: 0.8181 - val_meandiff: 3.7188 - lr: 1.0000e-04\n",
      "Epoch 99/100\n",
      "26/26 [==============================] - ETA: 0s - loss: 0.2262 - mse_wrapper: 0.2262 - ca_wrapper: 0.8722 - meandiff: 1.7260\n",
      "Epoch 00099: loss did not improve from 0.22221\n",
      "26/26 [==============================] - 34s 1s/step - loss: 0.2262 - mse_wrapper: 0.2262 - ca_wrapper: 0.8722 - meandiff: 1.7260 - val_loss: 0.7629 - val_mse_wrapper: 0.7629 - val_ca_wrapper: 0.8016 - val_meandiff: 3.5781 - lr: 1.0000e-04\n",
      "Epoch 100/100\n",
      "26/26 [==============================] - ETA: 0s - loss: 0.2273 - mse_wrapper: 0.2273 - ca_wrapper: 0.8661 - meandiff: 1.7740"
     ]
    },
    {
     "name": "stderr",
     "output_type": "stream",
     "text": [
      "2021-03-03 01:29:44,900 INFO (4, 2, 36, 5)\n",
      "2021-03-03 01:29:45,465 INFO (4, 2, 36, 5)\n"
     ]
    },
    {
     "name": "stdout",
     "output_type": "stream",
     "text": [
      "\n",
      "Epoch 00100: loss did not improve from 0.22221\n",
      "26/26 [==============================] - 35s 1s/step - loss: 0.2273 - mse_wrapper: 0.2273 - ca_wrapper: 0.8661 - meandiff: 1.7740 - val_loss: 0.7903 - val_mse_wrapper: 0.7903 - val_ca_wrapper: 0.8021 - val_meandiff: 4.1250 - lr: 1.0000e-04\n"
     ]
    },
    {
     "name": "stderr",
     "output_type": "stream",
     "text": [
      "2021-03-03 01:29:48,018 INFO Fold 2 finished after 3680.114 sec\n"
     ]
    },
    {
     "data": {
      "text/plain": [
       "True"
      ]
     },
     "execution_count": 2,
     "metadata": {},
     "output_type": "execute_result"
    },
    {
     "name": "stderr",
     "output_type": "stream",
     "text": [
      "2021-03-03 01:29:48,024 INFO starting fold: 3\n",
      "2021-03-03 01:29:48,033 INFO -------------------- Start --------------------\n",
      "2021-03-03 01:29:48,034 INFO Working directory: /mnt/ssd/git/dynamic-cmr-models.\n",
      "2021-03-03 01:29:48,036 INFO Log file: ./logs/cv_baseline_finalconv5/8_64_64__8_3_3_tenc64_conv1_MSE_NOnorm_augshiftscalerotbrigthness_taug3_3_batch8_f3.log\n",
      "2021-03-03 01:29:48,038 INFO Log level for console: INFO\n",
      "2021-03-03 01:29:48,039 INFO Is built with tensorflow: True\n",
      "2021-03-03 01:29:48,039 INFO Visible devices:\n",
      "[PhysicalDevice(name='/physical_device:CPU:0', device_type='CPU'), PhysicalDevice(name='/physical_device:XLA_CPU:0', device_type='XLA_CPU'), PhysicalDevice(name='/physical_device:XLA_GPU:0', device_type='XLA_GPU'), PhysicalDevice(name='/physical_device:XLA_GPU:1', device_type='XLA_GPU'), PhysicalDevice(name='/physical_device:GPU:0', device_type='GPU'), PhysicalDevice(name='/physical_device:GPU:1', device_type='GPU')]\n",
      "2021-03-03 01:29:48,043 INFO Local devices: \n",
      " [name: \"/device:CPU:0\"\n",
      "device_type: \"CPU\"\n",
      "memory_limit: 268435456\n",
      "locality {\n",
      "}\n",
      "incarnation: 17921368529428209665\n",
      ", name: \"/device:XLA_CPU:0\"\n",
      "device_type: \"XLA_CPU\"\n",
      "memory_limit: 17179869184\n",
      "locality {\n",
      "}\n",
      "incarnation: 3508205272907307891\n",
      "physical_device_desc: \"device: XLA_CPU device\"\n",
      ", name: \"/device:XLA_GPU:0\"\n",
      "device_type: \"XLA_GPU\"\n",
      "memory_limit: 17179869184\n",
      "locality {\n",
      "}\n",
      "incarnation: 12282336116483262841\n",
      "physical_device_desc: \"device: XLA_GPU device\"\n",
      ", name: \"/device:XLA_GPU:1\"\n",
      "device_type: \"XLA_GPU\"\n",
      "memory_limit: 17179869184\n",
      "locality {\n",
      "}\n",
      "incarnation: 14271734432344336609\n",
      "physical_device_desc: \"device: XLA_GPU device\"\n",
      ", name: \"/device:GPU:0\"\n",
      "device_type: \"GPU\"\n",
      "memory_limit: 23093862784\n",
      "locality {\n",
      "  bus_id: 1\n",
      "  links {\n",
      "  }\n",
      "}\n",
      "incarnation: 4157655182304671230\n",
      "physical_device_desc: \"device: 0, name: TITAN RTX, pci bus id: 0000:01:00.0, compute capability: 7.5\"\n",
      ", name: \"/device:GPU:1\"\n",
      "device_type: \"GPU\"\n",
      "memory_limit: 23561682304\n",
      "locality {\n",
      "  bus_id: 1\n",
      "  links {\n",
      "  }\n",
      "}\n",
      "incarnation: 16872688376984527152\n",
      "physical_device_desc: \"device: 1, name: TITAN RTX, pci bus id: 0000:02:00.0, compute capability: 7.5\"\n",
      "]\n",
      "2021-03-03 01:29:48,045 INFO no files found, try to load with clean.nrrd/mask.nrrd pattern\n",
      "2021-03-03 01:29:48,051 INFO Found 278 images/masks in /mnt/ssd/data/gcn/02_imported_4D_unfiltered/SAX/\n",
      "2021-03-03 01:29:48,052 INFO Patients train: 210\n",
      "2021-03-03 01:29:48,062 INFO Selected 209 of 278 files with 210 of 279 patients for training fold 3\n",
      "2021-03-03 01:29:48,063 INFO SAX train CMR: 209, SAX train masks: 209\n",
      "2021-03-03 01:29:48,063 INFO SAX val CMR: 69, SAX val masks: 69\n",
      "2021-03-03 01:29:48,077 INFO Check if we find the patient ID and phase mapping for all: 278 files.\n"
     ]
    },
    {
     "name": "stdout",
     "output_type": "stream",
     "text": [
      "['/gpu:0', '/gpu:1']\n",
      "{'GPU_IDS': '0,1', 'GPUS': ['/gpu:0', '/gpu:1'], 'SEED': 42, 'EXPERIMENT': 'cv_baseline_finalconv5/8_64_64__8_3_3_tenc64_conv1_MSE_NOnorm_augshiftscalerotbrigthness_taug3_3_batch8_f3', 'EXPERIMENTS_ROOT': 'exp/', 'EXP_PATH': 'exp/cv_baseline_finalconv5/8_64_64__8_3_3_tenc64_conv1_MSE_NOnorm_augshiftscalerotbrigthness_taug3_3_batch8_f3/2021-03-03_01_29', 'MODEL_PATH': 'exp/cv_baseline_finalconv5/8_64_64__8_3_3_tenc64_conv1_MSE_NOnorm_augshiftscalerotbrigthness_taug3_3_batch8_f3/2021-03-03_01_29/model', 'TENSORBOARD_PATH': 'exp/cv_baseline_finalconv5/8_64_64__8_3_3_tenc64_conv1_MSE_NOnorm_augshiftscalerotbrigthness_taug3_3_batch8_f3/2021-03-03_01_29/tensorboard_logs', 'CONFIG_PATH': 'exp/cv_baseline_finalconv5/8_64_64__8_3_3_tenc64_conv1_MSE_NOnorm_augshiftscalerotbrigthness_taug3_3_batch8_f3/2021-03-03_01_29/config', 'HISTORY_PATH': 'exp/cv_baseline_finalconv5/8_64_64__8_3_3_tenc64_conv1_MSE_NOnorm_augshiftscalerotbrigthness_taug3_3_batch8_f3/2021-03-03_01_29/history', 'DATA_PATH_SAX': '/mnt/ssd/data/gcn/02_imported_4D_unfiltered/SAX/', 'DF_FOLDS': '/mnt/ssd/data/gcn/02_imported_4D_unfiltered/df_kfold.csv', 'DF_META': '/mnt/ssd/data/gcn/02_imported_4D_unfiltered/SAx_3D_dicomTags_phase', 'FOLD': 3, 'BATCHSIZE': 8, 'GENERATOR_WORKER': 8, 'EPOCHS': 100, 'DIM': [8, 64, 64], 'T_SHAPE': 36, 'SPACING': [8, 3, 3], 'DEPTH': 4, 'FILTERS': 32, 'M_POOL': [1, 2, 2], 'F_SIZE': [3, 3, 3], 'BN_FIRST': False, 'BATCH_NORMALISATION': True, 'PAD': 'same', 'KERNEL_INIT': 'he_normal', 'OPTIMIZER': 'adam', 'ACTIVATION': 'relu', 'LEARNING_RATE': 0.0001, 'REDUCE_LR_ON_PLAEAU_PATIENCE': 5, 'DECAY_FACTOR': 0.7, 'MIN_LR': 1e-12, 'MONITOR_FUNCTION': 'loss', 'MONITOR_MODE': 'min', 'SAVE_MODEL_FUNCTION': 'loss', 'SAVE_MODEL_MODE': 'min', 'MODEL_PATIENCE': 20, 'SAVE_LEARNING_PROGRESS_AS_TF': True, 'BORDER_MODE': 4, 'IMG_INTERPOLATION': 1, 'MSK_INTERPOLATION': 0, 'AUGMENT': True, 'AUGMENT_PROB': 0.8, 'AUGMENT_PHASES': True, 'AUGMENT_PHASES_RANGE': (-3, 3), 'REPEAT_ONEHOT': True, 'SHUFFLE': True, 'RESAMPLE': True, 'SCALER': 'MinMax', 'PHASES': 5, 'TARGET_SMOOTHING': True, 'SMOOTHING_KERNEL_SIZE': 12, 'SMOOTHING_LOWER_BORDER': 1, 'SMOOTHING_UPPER_BORDER': 5, 'SMOOTHING_WEIGHT_CORRECT': 10, 'TENSORBOARD_LOG_DIR': 'reports/tensorboard_logs/cv_baseline_finalconv5/8_64_64__8_3_3_tenc64_conv1_MSE_NOnorm_augshiftscalerotbrigthness_taug3_3_batch8'}\n"
     ]
    },
    {
     "name": "stderr",
     "output_type": "stream",
     "text": [
      "2021-03-03 01:29:48,323 INFO Done!\n",
      "2021-03-03 01:29:48,323 INFO Create DataGenerator\n",
      "2021-03-03 01:29:48,324 INFO Datagenerator created with: \n",
      " shape: [8, 64, 64]\n",
      " spacing: [8, 3, 3]\n",
      " batchsize: 8\n",
      " Scaler: MinMax\n",
      " Images: 209 \n",
      " Augment: True \n",
      " Thread workers: 8\n",
      "2021-03-03 01:29:48,325 INFO Data will be augmented (shift,scale and rotate) with albumentation\n",
      "2021-03-03 01:29:48,339 INFO Smoothing kernel: \n",
      "[ 1.   1.8  2.6  3.4  4.2  5.  10.   5.   4.2  3.4  2.6  1.8  1. ]\n",
      "2021-03-03 01:29:48,339 INFO Temporal phase augmentation: \n",
      "TrueRepeat volume: True\n",
      "2021-03-03 01:29:48,339 INFO Create DataGenerator\n",
      "2021-03-03 01:29:48,340 INFO Datagenerator created with: \n",
      " shape: [8, 64, 64]\n",
      " spacing: [8, 3, 3]\n",
      " batchsize: 8\n",
      " Scaler: MinMax\n",
      " Images: 69 \n",
      " Augment: False \n",
      " Thread workers: 8\n",
      "2021-03-03 01:29:48,341 INFO No augmentation\n",
      "2021-03-03 01:29:48,355 INFO Smoothing kernel: \n",
      "[ 1.   1.8  2.6  3.4  4.2  5.  10.   5.   4.2  3.4  2.6  1.8  1. ]\n",
      "2021-03-03 01:29:48,355 INFO Temporal phase augmentation: \n",
      "FalseRepeat volume: True\n"
     ]
    },
    {
     "name": "stdout",
     "output_type": "stream",
     "text": [
      "Shape after the temporal encoder\n",
      "(None, 36, 8, 4, 4, 512)\n",
      "Shape after GAP\n",
      "(None, 36, 512)\n",
      "Shape after Bi-LSTM layer\n",
      "(None, 36, 512)\n",
      "Shape after final conv layer\n",
      "(None, 36, 5)\n"
     ]
    },
    {
     "name": "stderr",
     "output_type": "stream",
     "text": [
      "2021-03-03 01:29:52,684 INFO feed 4 Tensorboard is ready\n"
     ]
    },
    {
     "name": "stdout",
     "output_type": "stream",
     "text": [
      "Epoch 1/100\n",
      "26/26 [==============================] - ETA: 0s - loss: 1.0889 - mse_wrapper: 1.0889 - ca_wrapper: 0.4589 - meandiff: 13.3413"
     ]
    },
    {
     "name": "stderr",
     "output_type": "stream",
     "text": [
      "2021-03-03 01:30:57,426 INFO (4, 2, 36, 5)\n",
      "2021-03-03 01:30:58,000 INFO (4, 2, 36, 5)\n"
     ]
    },
    {
     "name": "stdout",
     "output_type": "stream",
     "text": [
      "\n",
      "Epoch 00001: loss improved from inf to 1.08895, saving model to exp/cv_baseline_finalconv5/8_64_64__8_3_3_tenc64_conv1_MSE_NOnorm_augshiftscalerotbrigthness_taug3_3_batch8_f3/2021-03-03_01_29/model/model.h5\n",
      "26/26 [==============================] - 38s 1s/step - loss: 1.0889 - mse_wrapper: 1.0889 - ca_wrapper: 0.4589 - meandiff: 13.3413 - val_loss: 1.1309 - val_mse_wrapper: 1.1309 - val_ca_wrapper: 0.2891 - val_meandiff: 14.1406 - lr: 1.0000e-04\n",
      "Epoch 2/100\n",
      "26/26 [==============================] - ETA: 0s - loss: 0.7916 - mse_wrapper: 0.7916 - ca_wrapper: 0.6485 - meandiff: 8.6346"
     ]
    },
    {
     "name": "stderr",
     "output_type": "stream",
     "text": [
      "2021-03-03 01:31:35,075 INFO (4, 2, 36, 5)\n",
      "2021-03-03 01:31:35,632 INFO (4, 2, 36, 5)\n"
     ]
    },
    {
     "name": "stdout",
     "output_type": "stream",
     "text": [
      "\n",
      "Epoch 00002: loss improved from 1.08895 to 0.79163, saving model to exp/cv_baseline_finalconv5/8_64_64__8_3_3_tenc64_conv1_MSE_NOnorm_augshiftscalerotbrigthness_taug3_3_batch8_f3/2021-03-03_01_29/model/model.h5\n",
      "26/26 [==============================] - 36s 1s/step - loss: 0.7916 - mse_wrapper: 0.7916 - ca_wrapper: 0.6485 - meandiff: 8.6346 - val_loss: 0.9370 - val_mse_wrapper: 0.9370 - val_ca_wrapper: 0.5100 - val_meandiff: 9.0312 - lr: 1.0000e-04\n",
      "Epoch 3/100\n",
      "26/26 [==============================] - ETA: 0s - loss: 0.6936 - mse_wrapper: 0.6936 - ca_wrapper: 0.7145 - meandiff: 6.7019"
     ]
    },
    {
     "name": "stderr",
     "output_type": "stream",
     "text": [
      "2021-03-03 01:32:13,476 INFO (4, 2, 36, 5)\n",
      "2021-03-03 01:32:14,042 INFO (4, 2, 36, 5)\n"
     ]
    },
    {
     "name": "stdout",
     "output_type": "stream",
     "text": [
      "\n",
      "Epoch 00003: loss improved from 0.79163 to 0.69360, saving model to exp/cv_baseline_finalconv5/8_64_64__8_3_3_tenc64_conv1_MSE_NOnorm_augshiftscalerotbrigthness_taug3_3_batch8_f3/2021-03-03_01_29/model/model.h5\n",
      "26/26 [==============================] - 37s 1s/step - loss: 0.6936 - mse_wrapper: 0.6936 - ca_wrapper: 0.7145 - meandiff: 6.7019 - val_loss: 1.0824 - val_mse_wrapper: 1.0824 - val_ca_wrapper: 0.6202 - val_meandiff: 6.8594 - lr: 1.0000e-04\n",
      "Epoch 4/100\n",
      "26/26 [==============================] - ETA: 0s - loss: 0.6282 - mse_wrapper: 0.6282 - ca_wrapper: 0.7540 - meandiff: 5.9856"
     ]
    },
    {
     "name": "stderr",
     "output_type": "stream",
     "text": [
      "2021-03-03 01:32:51,581 INFO (4, 2, 36, 5)\n",
      "2021-03-03 01:32:52,117 INFO (4, 2, 36, 5)\n"
     ]
    },
    {
     "name": "stdout",
     "output_type": "stream",
     "text": [
      "\n",
      "Epoch 00004: loss improved from 0.69360 to 0.62823, saving model to exp/cv_baseline_finalconv5/8_64_64__8_3_3_tenc64_conv1_MSE_NOnorm_augshiftscalerotbrigthness_taug3_3_batch8_f3/2021-03-03_01_29/model/model.h5\n",
      "26/26 [==============================] - 36s 1s/step - loss: 0.6282 - mse_wrapper: 0.6282 - ca_wrapper: 0.7540 - meandiff: 5.9856 - val_loss: 1.2154 - val_mse_wrapper: 1.2154 - val_ca_wrapper: 0.6562 - val_meandiff: 5.4531 - lr: 1.0000e-04\n",
      "Epoch 5/100\n",
      "26/26 [==============================] - ETA: 0s - loss: 0.6026 - mse_wrapper: 0.6026 - ca_wrapper: 0.7682 - meandiff: 5.5288\n",
      "Epoch 00005: loss improved from 0.62823 to 0.60261, saving model to exp/cv_baseline_finalconv5/8_64_64__8_3_3_tenc64_conv1_MSE_NOnorm_augshiftscalerotbrigthness_taug3_3_batch8_f3/2021-03-03_01_29/model/model.h5\n",
      "26/26 [==============================] - 35s 1s/step - loss: 0.6026 - mse_wrapper: 0.6026 - ca_wrapper: 0.7682 - meandiff: 5.5288 - val_loss: 0.7436 - val_mse_wrapper: 0.7436 - val_ca_wrapper: 0.7734 - val_meandiff: 4.7031 - lr: 1.0000e-04\n",
      "Epoch 6/100\n",
      "26/26 [==============================] - ETA: 0s - loss: 0.5650 - mse_wrapper: 0.5650 - ca_wrapper: 0.7838 - meandiff: 4.8558"
     ]
    },
    {
     "name": "stderr",
     "output_type": "stream",
     "text": [
      "2021-03-03 01:34:07,051 INFO (4, 2, 36, 5)\n",
      "2021-03-03 01:34:07,623 INFO (4, 2, 36, 5)\n"
     ]
    },
    {
     "name": "stdout",
     "output_type": "stream",
     "text": [
      "\n",
      "Epoch 00006: loss improved from 0.60261 to 0.56502, saving model to exp/cv_baseline_finalconv5/8_64_64__8_3_3_tenc64_conv1_MSE_NOnorm_augshiftscalerotbrigthness_taug3_3_batch8_f3/2021-03-03_01_29/model/model.h5\n",
      "26/26 [==============================] - 36s 1s/step - loss: 0.5650 - mse_wrapper: 0.5650 - ca_wrapper: 0.7838 - meandiff: 4.8558 - val_loss: 0.7505 - val_mse_wrapper: 0.7505 - val_ca_wrapper: 0.7435 - val_meandiff: 4.6094 - lr: 1.0000e-04\n",
      "Epoch 7/100\n",
      "26/26 [==============================] - ETA: 0s - loss: 0.5536 - mse_wrapper: 0.5536 - ca_wrapper: 0.7843 - meandiff: 4.5000\n",
      "Epoch 00007: loss improved from 0.56502 to 0.55361, saving model to exp/cv_baseline_finalconv5/8_64_64__8_3_3_tenc64_conv1_MSE_NOnorm_augshiftscalerotbrigthness_taug3_3_batch8_f3/2021-03-03_01_29/model/model.h5\n",
      "26/26 [==============================] - 35s 1s/step - loss: 0.5536 - mse_wrapper: 0.5536 - ca_wrapper: 0.7843 - meandiff: 4.5000 - val_loss: 0.7592 - val_mse_wrapper: 0.7592 - val_ca_wrapper: 0.7296 - val_meandiff: 5.0938 - lr: 1.0000e-04\n",
      "Epoch 8/100\n",
      "26/26 [==============================] - ETA: 0s - loss: 0.5402 - mse_wrapper: 0.5402 - ca_wrapper: 0.7926 - meandiff: 4.6587"
     ]
    },
    {
     "name": "stderr",
     "output_type": "stream",
     "text": [
      "2021-03-03 01:35:21,296 INFO (4, 2, 36, 5)\n",
      "2021-03-03 01:35:23,675 INFO (4, 2, 36, 5)\n"
     ]
    },
    {
     "name": "stdout",
     "output_type": "stream",
     "text": [
      "\n",
      "Epoch 00008: loss improved from 0.55361 to 0.54025, saving model to exp/cv_baseline_finalconv5/8_64_64__8_3_3_tenc64_conv1_MSE_NOnorm_augshiftscalerotbrigthness_taug3_3_batch8_f3/2021-03-03_01_29/model/model.h5\n",
      "26/26 [==============================] - 38s 1s/step - loss: 0.5402 - mse_wrapper: 0.5402 - ca_wrapper: 0.7926 - meandiff: 4.6587 - val_loss: 0.5747 - val_mse_wrapper: 0.5747 - val_ca_wrapper: 0.8043 - val_meandiff: 4.4531 - lr: 1.0000e-04\n",
      "Epoch 9/100\n",
      "26/26 [==============================] - ETA: 0s - loss: 0.5352 - mse_wrapper: 0.5352 - ca_wrapper: 0.7910 - meandiff: 4.3654\n",
      "Epoch 00009: loss improved from 0.54025 to 0.53520, saving model to exp/cv_baseline_finalconv5/8_64_64__8_3_3_tenc64_conv1_MSE_NOnorm_augshiftscalerotbrigthness_taug3_3_batch8_f3/2021-03-03_01_29/model/model.h5\n",
      "26/26 [==============================] - 34s 1s/step - loss: 0.5352 - mse_wrapper: 0.5352 - ca_wrapper: 0.7910 - meandiff: 4.3654 - val_loss: 0.9983 - val_mse_wrapper: 0.9983 - val_ca_wrapper: 0.7023 - val_meandiff: 4.3594 - lr: 1.0000e-04\n",
      "Epoch 10/100\n",
      "26/26 [==============================] - ETA: 0s - loss: 0.5188 - mse_wrapper: 0.5188 - ca_wrapper: 0.8018 - meandiff: 4.3462"
     ]
    },
    {
     "name": "stderr",
     "output_type": "stream",
     "text": [
      "2021-03-03 01:36:37,200 INFO (4, 2, 36, 5)\n",
      "2021-03-03 01:36:37,780 INFO (4, 2, 36, 5)\n"
     ]
    },
    {
     "name": "stdout",
     "output_type": "stream",
     "text": [
      "\n",
      "Epoch 00010: loss improved from 0.53520 to 0.51875, saving model to exp/cv_baseline_finalconv5/8_64_64__8_3_3_tenc64_conv1_MSE_NOnorm_augshiftscalerotbrigthness_taug3_3_batch8_f3/2021-03-03_01_29/model/model.h5\n",
      "26/26 [==============================] - 36s 1s/step - loss: 0.5188 - mse_wrapper: 0.5188 - ca_wrapper: 0.8018 - meandiff: 4.3462 - val_loss: 0.8796 - val_mse_wrapper: 0.8796 - val_ca_wrapper: 0.7565 - val_meandiff: 4.6094 - lr: 1.0000e-04\n",
      "Epoch 11/100\n",
      "26/26 [==============================] - ETA: 0s - loss: 0.5121 - mse_wrapper: 0.5121 - ca_wrapper: 0.8058 - meandiff: 4.2019\n",
      "Epoch 00011: loss improved from 0.51875 to 0.51208, saving model to exp/cv_baseline_finalconv5/8_64_64__8_3_3_tenc64_conv1_MSE_NOnorm_augshiftscalerotbrigthness_taug3_3_batch8_f3/2021-03-03_01_29/model/model.h5\n",
      "26/26 [==============================] - 35s 1s/step - loss: 0.5121 - mse_wrapper: 0.5121 - ca_wrapper: 0.8058 - meandiff: 4.2019 - val_loss: 0.5644 - val_mse_wrapper: 0.5644 - val_ca_wrapper: 0.7734 - val_meandiff: 4.8125 - lr: 1.0000e-04\n",
      "Epoch 12/100\n",
      "26/26 [==============================] - ETA: 0s - loss: 0.4936 - mse_wrapper: 0.4936 - ca_wrapper: 0.8138 - meandiff: 4.3702"
     ]
    },
    {
     "name": "stderr",
     "output_type": "stream",
     "text": [
      "2021-03-03 01:37:51,544 INFO (4, 2, 36, 5)\n",
      "2021-03-03 01:37:52,104 INFO (4, 2, 36, 5)\n"
     ]
    },
    {
     "name": "stdout",
     "output_type": "stream",
     "text": [
      "\n",
      "Epoch 00012: loss improved from 0.51208 to 0.49364, saving model to exp/cv_baseline_finalconv5/8_64_64__8_3_3_tenc64_conv1_MSE_NOnorm_augshiftscalerotbrigthness_taug3_3_batch8_f3/2021-03-03_01_29/model/model.h5\n",
      "26/26 [==============================] - 36s 1s/step - loss: 0.4936 - mse_wrapper: 0.4936 - ca_wrapper: 0.8138 - meandiff: 4.3702 - val_loss: 0.7347 - val_mse_wrapper: 0.7347 - val_ca_wrapper: 0.7556 - val_meandiff: 4.2188 - lr: 1.0000e-04\n",
      "Epoch 13/100\n",
      "26/26 [==============================] - ETA: 0s - loss: 0.5033 - mse_wrapper: 0.5033 - ca_wrapper: 0.8085 - meandiff: 4.2115\n",
      "Epoch 00013: loss did not improve from 0.49364\n",
      "26/26 [==============================] - 35s 1s/step - loss: 0.5033 - mse_wrapper: 0.5033 - ca_wrapper: 0.8085 - meandiff: 4.2115 - val_loss: 0.6406 - val_mse_wrapper: 0.6406 - val_ca_wrapper: 0.7912 - val_meandiff: 4.5469 - lr: 1.0000e-04\n",
      "Epoch 14/100\n",
      "26/26 [==============================] - ETA: 0s - loss: 0.4944 - mse_wrapper: 0.4944 - ca_wrapper: 0.8042 - meandiff: 4.3510"
     ]
    },
    {
     "name": "stderr",
     "output_type": "stream",
     "text": [
      "2021-03-03 01:39:05,724 INFO (4, 2, 36, 5)\n",
      "2021-03-03 01:39:06,274 INFO (4, 2, 36, 5)\n"
     ]
    },
    {
     "name": "stdout",
     "output_type": "stream",
     "text": [
      "\n",
      "Epoch 00014: loss did not improve from 0.49364\n",
      "26/26 [==============================] - 36s 1s/step - loss: 0.4944 - mse_wrapper: 0.4944 - ca_wrapper: 0.8042 - meandiff: 4.3510 - val_loss: 0.6303 - val_mse_wrapper: 0.6303 - val_ca_wrapper: 0.7561 - val_meandiff: 4.5781 - lr: 1.0000e-04\n",
      "Epoch 15/100\n",
      "26/26 [==============================] - ETA: 0s - loss: 0.4825 - mse_wrapper: 0.4825 - ca_wrapper: 0.8118 - meandiff: 3.9663\n",
      "Epoch 00015: loss improved from 0.49364 to 0.48246, saving model to exp/cv_baseline_finalconv5/8_64_64__8_3_3_tenc64_conv1_MSE_NOnorm_augshiftscalerotbrigthness_taug3_3_batch8_f3/2021-03-03_01_29/model/model.h5\n",
      "26/26 [==============================] - 35s 1s/step - loss: 0.4825 - mse_wrapper: 0.4825 - ca_wrapper: 0.8118 - meandiff: 3.9663 - val_loss: 0.7726 - val_mse_wrapper: 0.7726 - val_ca_wrapper: 0.7444 - val_meandiff: 5.0781 - lr: 1.0000e-04\n",
      "Epoch 16/100\n",
      "26/26 [==============================] - ETA: 0s - loss: 0.4698 - mse_wrapper: 0.4698 - ca_wrapper: 0.8177 - meandiff: 3.9904"
     ]
    },
    {
     "name": "stderr",
     "output_type": "stream",
     "text": [
      "2021-03-03 01:40:19,994 INFO (4, 2, 36, 5)\n",
      "2021-03-03 01:40:20,572 INFO (4, 2, 36, 5)\n"
     ]
    },
    {
     "name": "stdout",
     "output_type": "stream",
     "text": [
      "\n",
      "Epoch 00016: loss improved from 0.48246 to 0.46983, saving model to exp/cv_baseline_finalconv5/8_64_64__8_3_3_tenc64_conv1_MSE_NOnorm_augshiftscalerotbrigthness_taug3_3_batch8_f3/2021-03-03_01_29/model/model.h5\n",
      "26/26 [==============================] - 36s 1s/step - loss: 0.4698 - mse_wrapper: 0.4698 - ca_wrapper: 0.8177 - meandiff: 3.9904 - val_loss: 0.6744 - val_mse_wrapper: 0.6744 - val_ca_wrapper: 0.8077 - val_meandiff: 4.5469 - lr: 1.0000e-04\n",
      "Epoch 17/100\n",
      "26/26 [==============================] - ETA: 0s - loss: 0.4723 - mse_wrapper: 0.4723 - ca_wrapper: 0.8096 - meandiff: 4.0913\n",
      "Epoch 00017: loss did not improve from 0.46983\n",
      "26/26 [==============================] - 35s 1s/step - loss: 0.4723 - mse_wrapper: 0.4723 - ca_wrapper: 0.8096 - meandiff: 4.0913 - val_loss: 0.5784 - val_mse_wrapper: 0.5784 - val_ca_wrapper: 0.7561 - val_meandiff: 4.6875 - lr: 1.0000e-04\n",
      "Epoch 18/100\n",
      "26/26 [==============================] - ETA: 0s - loss: 0.4563 - mse_wrapper: 0.4563 - ca_wrapper: 0.8224 - meandiff: 3.8750"
     ]
    },
    {
     "name": "stderr",
     "output_type": "stream",
     "text": [
      "2021-03-03 01:41:33,961 INFO (4, 2, 36, 5)\n",
      "2021-03-03 01:41:34,520 INFO (4, 2, 36, 5)\n"
     ]
    },
    {
     "name": "stdout",
     "output_type": "stream",
     "text": [
      "\n",
      "Epoch 00018: loss improved from 0.46983 to 0.45630, saving model to exp/cv_baseline_finalconv5/8_64_64__8_3_3_tenc64_conv1_MSE_NOnorm_augshiftscalerotbrigthness_taug3_3_batch8_f3/2021-03-03_01_29/model/model.h5\n",
      "26/26 [==============================] - 36s 1s/step - loss: 0.4563 - mse_wrapper: 0.4563 - ca_wrapper: 0.8224 - meandiff: 3.8750 - val_loss: 0.5594 - val_mse_wrapper: 0.5594 - val_ca_wrapper: 0.7990 - val_meandiff: 3.9688 - lr: 1.0000e-04\n",
      "Epoch 19/100\n",
      "26/26 [==============================] - ETA: 0s - loss: 0.4468 - mse_wrapper: 0.4468 - ca_wrapper: 0.8229 - meandiff: 3.9663\n",
      "Epoch 00019: loss improved from 0.45630 to 0.44685, saving model to exp/cv_baseline_finalconv5/8_64_64__8_3_3_tenc64_conv1_MSE_NOnorm_augshiftscalerotbrigthness_taug3_3_batch8_f3/2021-03-03_01_29/model/model.h5\n",
      "26/26 [==============================] - 35s 1s/step - loss: 0.4468 - mse_wrapper: 0.4468 - ca_wrapper: 0.8229 - meandiff: 3.9663 - val_loss: 0.7095 - val_mse_wrapper: 0.7095 - val_ca_wrapper: 0.7808 - val_meandiff: 4.2969 - lr: 1.0000e-04\n",
      "Epoch 20/100\n",
      "26/26 [==============================] - ETA: 0s - loss: 0.4501 - mse_wrapper: 0.4501 - ca_wrapper: 0.8193 - meandiff: 3.9952"
     ]
    },
    {
     "name": "stderr",
     "output_type": "stream",
     "text": [
      "2021-03-03 01:42:47,892 INFO (4, 2, 36, 5)\n",
      "2021-03-03 01:42:48,474 INFO (4, 2, 36, 5)\n"
     ]
    },
    {
     "name": "stdout",
     "output_type": "stream",
     "text": [
      "\n",
      "Epoch 00020: loss did not improve from 0.44685\n",
      "26/26 [==============================] - 36s 1s/step - loss: 0.4501 - mse_wrapper: 0.4501 - ca_wrapper: 0.8193 - meandiff: 3.9952 - val_loss: 0.5159 - val_mse_wrapper: 0.5159 - val_ca_wrapper: 0.8251 - val_meandiff: 3.6562 - lr: 1.0000e-04\n",
      "Epoch 21/100\n",
      "26/26 [==============================] - ETA: 0s - loss: 0.4423 - mse_wrapper: 0.4423 - ca_wrapper: 0.8257 - meandiff: 3.8894\n",
      "Epoch 00021: loss improved from 0.44685 to 0.44232, saving model to exp/cv_baseline_finalconv5/8_64_64__8_3_3_tenc64_conv1_MSE_NOnorm_augshiftscalerotbrigthness_taug3_3_batch8_f3/2021-03-03_01_29/model/model.h5\n",
      "26/26 [==============================] - 34s 1s/step - loss: 0.4423 - mse_wrapper: 0.4423 - ca_wrapper: 0.8257 - meandiff: 3.8894 - val_loss: 0.8606 - val_mse_wrapper: 0.8606 - val_ca_wrapper: 0.7791 - val_meandiff: 4.5312 - lr: 1.0000e-04\n",
      "Epoch 22/100\n",
      "26/26 [==============================] - ETA: 0s - loss: 0.4399 - mse_wrapper: 0.4399 - ca_wrapper: 0.8184 - meandiff: 3.7115"
     ]
    },
    {
     "name": "stderr",
     "output_type": "stream",
     "text": [
      "2021-03-03 01:44:01,717 INFO (4, 2, 36, 5)\n",
      "2021-03-03 01:44:02,250 INFO (4, 2, 36, 5)\n"
     ]
    },
    {
     "name": "stdout",
     "output_type": "stream",
     "text": [
      "\n",
      "Epoch 00022: loss improved from 0.44232 to 0.43994, saving model to exp/cv_baseline_finalconv5/8_64_64__8_3_3_tenc64_conv1_MSE_NOnorm_augshiftscalerotbrigthness_taug3_3_batch8_f3/2021-03-03_01_29/model/model.h5\n",
      "26/26 [==============================] - 35s 1s/step - loss: 0.4399 - mse_wrapper: 0.4399 - ca_wrapper: 0.8184 - meandiff: 3.7115 - val_loss: 0.7915 - val_mse_wrapper: 0.7915 - val_ca_wrapper: 0.7292 - val_meandiff: 4.4844 - lr: 1.0000e-04\n",
      "Epoch 23/100\n",
      "26/26 [==============================] - ETA: 0s - loss: 0.4396 - mse_wrapper: 0.4396 - ca_wrapper: 0.8252 - meandiff: 3.6346\n",
      "Epoch 00023: loss improved from 0.43994 to 0.43957, saving model to exp/cv_baseline_finalconv5/8_64_64__8_3_3_tenc64_conv1_MSE_NOnorm_augshiftscalerotbrigthness_taug3_3_batch8_f3/2021-03-03_01_29/model/model.h5\n",
      "26/26 [==============================] - 35s 1s/step - loss: 0.4396 - mse_wrapper: 0.4396 - ca_wrapper: 0.8252 - meandiff: 3.6346 - val_loss: 0.5607 - val_mse_wrapper: 0.5607 - val_ca_wrapper: 0.7765 - val_meandiff: 3.7969 - lr: 1.0000e-04\n",
      "Epoch 24/100\n",
      "26/26 [==============================] - ETA: 0s - loss: 0.4268 - mse_wrapper: 0.4268 - ca_wrapper: 0.8293 - meandiff: 3.6202"
     ]
    },
    {
     "name": "stderr",
     "output_type": "stream",
     "text": [
      "2021-03-03 01:45:15,510 INFO (4, 2, 36, 5)\n",
      "2021-03-03 01:45:16,035 INFO (4, 2, 36, 5)\n"
     ]
    },
    {
     "name": "stdout",
     "output_type": "stream",
     "text": [
      "\n",
      "Epoch 00024: loss improved from 0.43957 to 0.42680, saving model to exp/cv_baseline_finalconv5/8_64_64__8_3_3_tenc64_conv1_MSE_NOnorm_augshiftscalerotbrigthness_taug3_3_batch8_f3/2021-03-03_01_29/model/model.h5\n",
      "26/26 [==============================] - 36s 1s/step - loss: 0.4268 - mse_wrapper: 0.4268 - ca_wrapper: 0.8293 - meandiff: 3.6202 - val_loss: 0.6341 - val_mse_wrapper: 0.6341 - val_ca_wrapper: 0.7435 - val_meandiff: 5.1875 - lr: 1.0000e-04\n",
      "Epoch 25/100\n",
      "26/26 [==============================] - ETA: 0s - loss: 0.4318 - mse_wrapper: 0.4318 - ca_wrapper: 0.8305 - meandiff: 3.6827\n",
      "Epoch 00025: loss did not improve from 0.42680\n",
      "26/26 [==============================] - 34s 1s/step - loss: 0.4318 - mse_wrapper: 0.4318 - ca_wrapper: 0.8305 - meandiff: 3.6827 - val_loss: 0.6550 - val_mse_wrapper: 0.6550 - val_ca_wrapper: 0.7869 - val_meandiff: 4.2656 - lr: 1.0000e-04\n",
      "Epoch 26/100\n",
      "26/26 [==============================] - ETA: 0s - loss: 0.4252 - mse_wrapper: 0.4252 - ca_wrapper: 0.8276 - meandiff: 3.7404"
     ]
    },
    {
     "name": "stderr",
     "output_type": "stream",
     "text": [
      "2021-03-03 01:46:29,123 INFO (4, 2, 36, 5)\n",
      "2021-03-03 01:46:29,692 INFO (4, 2, 36, 5)\n"
     ]
    },
    {
     "name": "stdout",
     "output_type": "stream",
     "text": [
      "\n",
      "Epoch 00026: loss improved from 0.42680 to 0.42525, saving model to exp/cv_baseline_finalconv5/8_64_64__8_3_3_tenc64_conv1_MSE_NOnorm_augshiftscalerotbrigthness_taug3_3_batch8_f3/2021-03-03_01_29/model/model.h5\n",
      "26/26 [==============================] - 36s 1s/step - loss: 0.4252 - mse_wrapper: 0.4252 - ca_wrapper: 0.8276 - meandiff: 3.7404 - val_loss: 0.8374 - val_mse_wrapper: 0.8374 - val_ca_wrapper: 0.7491 - val_meandiff: 4.5312 - lr: 1.0000e-04\n",
      "Epoch 27/100\n",
      "26/26 [==============================] - ETA: 0s - loss: 0.4162 - mse_wrapper: 0.4162 - ca_wrapper: 0.8359 - meandiff: 3.6010\n",
      "Epoch 00027: loss improved from 0.42525 to 0.41623, saving model to exp/cv_baseline_finalconv5/8_64_64__8_3_3_tenc64_conv1_MSE_NOnorm_augshiftscalerotbrigthness_taug3_3_batch8_f3/2021-03-03_01_29/model/model.h5\n",
      "26/26 [==============================] - 35s 1s/step - loss: 0.4162 - mse_wrapper: 0.4162 - ca_wrapper: 0.8359 - meandiff: 3.6010 - val_loss: 0.5284 - val_mse_wrapper: 0.5284 - val_ca_wrapper: 0.8238 - val_meandiff: 4.0156 - lr: 1.0000e-04\n",
      "Epoch 28/100\n",
      "26/26 [==============================] - ETA: 0s - loss: 0.4090 - mse_wrapper: 0.4090 - ca_wrapper: 0.8364 - meandiff: 3.3606"
     ]
    },
    {
     "name": "stderr",
     "output_type": "stream",
     "text": [
      "2021-03-03 01:47:43,415 INFO (4, 2, 36, 5)\n",
      "2021-03-03 01:47:43,937 INFO (4, 2, 36, 5)\n"
     ]
    },
    {
     "name": "stdout",
     "output_type": "stream",
     "text": [
      "\n",
      "Epoch 00028: loss improved from 0.41623 to 0.40902, saving model to exp/cv_baseline_finalconv5/8_64_64__8_3_3_tenc64_conv1_MSE_NOnorm_augshiftscalerotbrigthness_taug3_3_batch8_f3/2021-03-03_01_29/model/model.h5\n",
      "26/26 [==============================] - 36s 1s/step - loss: 0.4090 - mse_wrapper: 0.4090 - ca_wrapper: 0.8364 - meandiff: 3.3606 - val_loss: 0.6893 - val_mse_wrapper: 0.6893 - val_ca_wrapper: 0.7852 - val_meandiff: 4.5000 - lr: 1.0000e-04\n",
      "Epoch 29/100\n",
      "26/26 [==============================] - ETA: 0s - loss: 0.3931 - mse_wrapper: 0.3931 - ca_wrapper: 0.8327 - meandiff: 3.4952\n",
      "Epoch 00029: loss improved from 0.40902 to 0.39306, saving model to exp/cv_baseline_finalconv5/8_64_64__8_3_3_tenc64_conv1_MSE_NOnorm_augshiftscalerotbrigthness_taug3_3_batch8_f3/2021-03-03_01_29/model/model.h5\n",
      "26/26 [==============================] - 35s 1s/step - loss: 0.3931 - mse_wrapper: 0.3931 - ca_wrapper: 0.8327 - meandiff: 3.4952 - val_loss: 0.5821 - val_mse_wrapper: 0.5821 - val_ca_wrapper: 0.7964 - val_meandiff: 4.0938 - lr: 1.0000e-04\n",
      "Epoch 30/100\n",
      "26/26 [==============================] - ETA: 0s - loss: 0.3987 - mse_wrapper: 0.3987 - ca_wrapper: 0.8348 - meandiff: 3.4904"
     ]
    },
    {
     "name": "stderr",
     "output_type": "stream",
     "text": [
      "2021-03-03 01:48:58,543 INFO (4, 2, 36, 5)\n",
      "2021-03-03 01:48:59,111 INFO (4, 2, 36, 5)\n"
     ]
    },
    {
     "name": "stdout",
     "output_type": "stream",
     "text": [
      "\n",
      "Epoch 00030: loss did not improve from 0.39306\n",
      "26/26 [==============================] - 37s 1s/step - loss: 0.3987 - mse_wrapper: 0.3987 - ca_wrapper: 0.8348 - meandiff: 3.4904 - val_loss: 0.6351 - val_mse_wrapper: 0.6351 - val_ca_wrapper: 0.7843 - val_meandiff: 4.0938 - lr: 1.0000e-04\n",
      "Epoch 31/100\n",
      "26/26 [==============================] - ETA: 0s - loss: 0.4049 - mse_wrapper: 0.4049 - ca_wrapper: 0.8361 - meandiff: 3.4279\n",
      "Epoch 00031: loss did not improve from 0.39306\n",
      "26/26 [==============================] - 34s 1s/step - loss: 0.4049 - mse_wrapper: 0.4049 - ca_wrapper: 0.8361 - meandiff: 3.4279 - val_loss: 0.5421 - val_mse_wrapper: 0.5421 - val_ca_wrapper: 0.7917 - val_meandiff: 3.9375 - lr: 1.0000e-04\n",
      "Epoch 32/100\n",
      "26/26 [==============================] - ETA: 0s - loss: 0.4052 - mse_wrapper: 0.4052 - ca_wrapper: 0.8280 - meandiff: 3.4135"
     ]
    },
    {
     "name": "stderr",
     "output_type": "stream",
     "text": [
      "2021-03-03 01:50:12,329 INFO (4, 2, 36, 5)\n",
      "2021-03-03 01:50:12,893 INFO (4, 2, 36, 5)\n"
     ]
    },
    {
     "name": "stdout",
     "output_type": "stream",
     "text": [
      "\n",
      "Epoch 00032: loss did not improve from 0.39306\n",
      "26/26 [==============================] - 36s 1s/step - loss: 0.4052 - mse_wrapper: 0.4052 - ca_wrapper: 0.8280 - meandiff: 3.4135 - val_loss: 0.6530 - val_mse_wrapper: 0.6530 - val_ca_wrapper: 0.8329 - val_meandiff: 3.9219 - lr: 1.0000e-04\n",
      "Epoch 33/100\n",
      "26/26 [==============================] - ETA: 0s - loss: 0.4036 - mse_wrapper: 0.4036 - ca_wrapper: 0.8339 - meandiff: 3.4375\n",
      "Epoch 00033: loss did not improve from 0.39306\n",
      "26/26 [==============================] - 34s 1s/step - loss: 0.4036 - mse_wrapper: 0.4036 - ca_wrapper: 0.8339 - meandiff: 3.4375 - val_loss: 0.7558 - val_mse_wrapper: 0.7558 - val_ca_wrapper: 0.7873 - val_meandiff: 4.0938 - lr: 1.0000e-04\n",
      "Epoch 34/100\n",
      "26/26 [==============================] - ETA: 0s - loss: 0.3922 - mse_wrapper: 0.3922 - ca_wrapper: 0.8376 - meandiff: 3.3654"
     ]
    },
    {
     "name": "stderr",
     "output_type": "stream",
     "text": [
      "2021-03-03 01:51:25,991 INFO (4, 2, 36, 5)\n",
      "2021-03-03 01:51:26,566 INFO (4, 2, 36, 5)\n"
     ]
    },
    {
     "name": "stdout",
     "output_type": "stream",
     "text": [
      "\n",
      "Epoch 00034: loss improved from 0.39306 to 0.39222, saving model to exp/cv_baseline_finalconv5/8_64_64__8_3_3_tenc64_conv1_MSE_NOnorm_augshiftscalerotbrigthness_taug3_3_batch8_f3/2021-03-03_01_29/model/model.h5\n",
      "26/26 [==============================] - 36s 1s/step - loss: 0.3922 - mse_wrapper: 0.3922 - ca_wrapper: 0.8376 - meandiff: 3.3654 - val_loss: 0.5984 - val_mse_wrapper: 0.5984 - val_ca_wrapper: 0.8116 - val_meandiff: 4.1875 - lr: 1.0000e-04\n",
      "Epoch 35/100\n",
      "26/26 [==============================] - ETA: 0s - loss: 0.3942 - mse_wrapper: 0.3942 - ca_wrapper: 0.8364 - meandiff: 3.4135\n",
      "Epoch 00035: loss did not improve from 0.39222\n",
      "26/26 [==============================] - 34s 1s/step - loss: 0.3942 - mse_wrapper: 0.3942 - ca_wrapper: 0.8364 - meandiff: 3.4135 - val_loss: 0.9136 - val_mse_wrapper: 0.9136 - val_ca_wrapper: 0.7218 - val_meandiff: 3.6406 - lr: 1.0000e-04\n",
      "Epoch 36/100\n",
      "26/26 [==============================] - ETA: 0s - loss: 0.3849 - mse_wrapper: 0.3849 - ca_wrapper: 0.8379 - meandiff: 3.2933"
     ]
    },
    {
     "name": "stderr",
     "output_type": "stream",
     "text": [
      "2021-03-03 01:52:39,674 INFO (4, 2, 36, 5)\n",
      "2021-03-03 01:52:40,240 INFO (4, 2, 36, 5)\n"
     ]
    },
    {
     "name": "stdout",
     "output_type": "stream",
     "text": [
      "\n",
      "Epoch 00036: loss improved from 0.39222 to 0.38488, saving model to exp/cv_baseline_finalconv5/8_64_64__8_3_3_tenc64_conv1_MSE_NOnorm_augshiftscalerotbrigthness_taug3_3_batch8_f3/2021-03-03_01_29/model/model.h5\n",
      "26/26 [==============================] - 35s 1s/step - loss: 0.3849 - mse_wrapper: 0.3849 - ca_wrapper: 0.8379 - meandiff: 3.2933 - val_loss: 1.0297 - val_mse_wrapper: 1.0297 - val_ca_wrapper: 0.7114 - val_meandiff: 4.7969 - lr: 1.0000e-04\n",
      "Epoch 37/100\n",
      "26/26 [==============================] - ETA: 0s - loss: 0.3870 - mse_wrapper: 0.3870 - ca_wrapper: 0.8416 - meandiff: 3.3702\n",
      "Epoch 00037: loss did not improve from 0.38488\n",
      "26/26 [==============================] - 35s 1s/step - loss: 0.3870 - mse_wrapper: 0.3870 - ca_wrapper: 0.8416 - meandiff: 3.3702 - val_loss: 0.7897 - val_mse_wrapper: 0.7897 - val_ca_wrapper: 0.8090 - val_meandiff: 4.0469 - lr: 1.0000e-04\n",
      "Epoch 38/100\n",
      "26/26 [==============================] - ETA: 0s - loss: 0.3841 - mse_wrapper: 0.3841 - ca_wrapper: 0.8355 - meandiff: 3.4808"
     ]
    },
    {
     "name": "stderr",
     "output_type": "stream",
     "text": [
      "2021-03-03 01:53:53,770 INFO (4, 2, 36, 5)\n",
      "2021-03-03 01:53:54,336 INFO (4, 2, 36, 5)\n"
     ]
    },
    {
     "name": "stdout",
     "output_type": "stream",
     "text": [
      "\n",
      "Epoch 00038: loss improved from 0.38488 to 0.38407, saving model to exp/cv_baseline_finalconv5/8_64_64__8_3_3_tenc64_conv1_MSE_NOnorm_augshiftscalerotbrigthness_taug3_3_batch8_f3/2021-03-03_01_29/model/model.h5\n",
      "26/26 [==============================] - 36s 1s/step - loss: 0.3841 - mse_wrapper: 0.3841 - ca_wrapper: 0.8355 - meandiff: 3.4808 - val_loss: 0.8384 - val_mse_wrapper: 0.8384 - val_ca_wrapper: 0.7804 - val_meandiff: 4.3594 - lr: 1.0000e-04\n",
      "Epoch 39/100\n",
      "26/26 [==============================] - ETA: 0s - loss: 0.3770 - mse_wrapper: 0.3770 - ca_wrapper: 0.8403 - meandiff: 3.0625\n",
      "Epoch 00039: loss improved from 0.38407 to 0.37705, saving model to exp/cv_baseline_finalconv5/8_64_64__8_3_3_tenc64_conv1_MSE_NOnorm_augshiftscalerotbrigthness_taug3_3_batch8_f3/2021-03-03_01_29/model/model.h5\n",
      "26/26 [==============================] - 34s 1s/step - loss: 0.3770 - mse_wrapper: 0.3770 - ca_wrapper: 0.8403 - meandiff: 3.0625 - val_loss: 0.9962 - val_mse_wrapper: 0.9962 - val_ca_wrapper: 0.7127 - val_meandiff: 4.7812 - lr: 1.0000e-04\n",
      "Epoch 40/100\n",
      "26/26 [==============================] - ETA: 0s - loss: 0.3776 - mse_wrapper: 0.3776 - ca_wrapper: 0.8365 - meandiff: 3.2548"
     ]
    },
    {
     "name": "stderr",
     "output_type": "stream",
     "text": [
      "2021-03-03 01:55:07,370 INFO (4, 2, 36, 5)\n",
      "2021-03-03 01:55:07,945 INFO (4, 2, 36, 5)\n"
     ]
    },
    {
     "name": "stdout",
     "output_type": "stream",
     "text": [
      "\n",
      "Epoch 00040: loss did not improve from 0.37705\n",
      "26/26 [==============================] - 35s 1s/step - loss: 0.3776 - mse_wrapper: 0.3776 - ca_wrapper: 0.8365 - meandiff: 3.2548 - val_loss: 0.6683 - val_mse_wrapper: 0.6683 - val_ca_wrapper: 0.7960 - val_meandiff: 3.8906 - lr: 1.0000e-04\n",
      "Epoch 41/100\n",
      "26/26 [==============================] - ETA: 0s - loss: 0.3779 - mse_wrapper: 0.3779 - ca_wrapper: 0.8344 - meandiff: 3.2452\n",
      "Epoch 00041: loss did not improve from 0.37705\n",
      "26/26 [==============================] - 34s 1s/step - loss: 0.3779 - mse_wrapper: 0.3779 - ca_wrapper: 0.8344 - meandiff: 3.2452 - val_loss: 0.9297 - val_mse_wrapper: 0.9297 - val_ca_wrapper: 0.7760 - val_meandiff: 3.5312 - lr: 1.0000e-04\n",
      "Epoch 42/100\n",
      "26/26 [==============================] - ETA: 0s - loss: 0.3772 - mse_wrapper: 0.3772 - ca_wrapper: 0.8413 - meandiff: 3.2260"
     ]
    },
    {
     "name": "stderr",
     "output_type": "stream",
     "text": [
      "2021-03-03 01:56:20,666 INFO (4, 2, 36, 5)\n",
      "2021-03-03 01:56:21,219 INFO (4, 2, 36, 5)\n"
     ]
    },
    {
     "name": "stdout",
     "output_type": "stream",
     "text": [
      "\n",
      "Epoch 00042: loss did not improve from 0.37705\n",
      "26/26 [==============================] - 35s 1s/step - loss: 0.3772 - mse_wrapper: 0.3772 - ca_wrapper: 0.8413 - meandiff: 3.2260 - val_loss: 0.6153 - val_mse_wrapper: 0.6153 - val_ca_wrapper: 0.8047 - val_meandiff: 4.2188 - lr: 1.0000e-04\n",
      "Epoch 43/100\n",
      "26/26 [==============================] - ETA: 0s - loss: 0.3733 - mse_wrapper: 0.3733 - ca_wrapper: 0.8391 - meandiff: 3.2115\n",
      "Epoch 00043: loss improved from 0.37705 to 0.37331, saving model to exp/cv_baseline_finalconv5/8_64_64__8_3_3_tenc64_conv1_MSE_NOnorm_augshiftscalerotbrigthness_taug3_3_batch8_f3/2021-03-03_01_29/model/model.h5\n",
      "26/26 [==============================] - 35s 1s/step - loss: 0.3733 - mse_wrapper: 0.3733 - ca_wrapper: 0.8391 - meandiff: 3.2115 - val_loss: 0.7338 - val_mse_wrapper: 0.7338 - val_ca_wrapper: 0.7765 - val_meandiff: 4.0156 - lr: 1.0000e-04\n",
      "Epoch 44/100\n",
      "26/26 [==============================] - ETA: 0s - loss: 0.3735 - mse_wrapper: 0.3735 - ca_wrapper: 0.8356 - meandiff: 3.1202"
     ]
    },
    {
     "name": "stderr",
     "output_type": "stream",
     "text": [
      "2021-03-03 01:57:34,610 INFO (4, 2, 36, 5)\n",
      "2021-03-03 01:57:35,175 INFO (4, 2, 36, 5)\n"
     ]
    },
    {
     "name": "stdout",
     "output_type": "stream",
     "text": [
      "\n",
      "Epoch 00044: loss did not improve from 0.37331\n",
      "26/26 [==============================] - 35s 1s/step - loss: 0.3735 - mse_wrapper: 0.3735 - ca_wrapper: 0.8356 - meandiff: 3.1202 - val_loss: 0.7534 - val_mse_wrapper: 0.7534 - val_ca_wrapper: 0.8186 - val_meandiff: 3.8594 - lr: 1.0000e-04\n",
      "Epoch 45/100\n",
      "26/26 [==============================] - ETA: 0s - loss: 0.3620 - mse_wrapper: 0.3620 - ca_wrapper: 0.8393 - meandiff: 3.1538\n",
      "Epoch 00045: loss improved from 0.37331 to 0.36198, saving model to exp/cv_baseline_finalconv5/8_64_64__8_3_3_tenc64_conv1_MSE_NOnorm_augshiftscalerotbrigthness_taug3_3_batch8_f3/2021-03-03_01_29/model/model.h5\n",
      "26/26 [==============================] - 34s 1s/step - loss: 0.3620 - mse_wrapper: 0.3620 - ca_wrapper: 0.8393 - meandiff: 3.1538 - val_loss: 0.6332 - val_mse_wrapper: 0.6332 - val_ca_wrapper: 0.8286 - val_meandiff: 3.7188 - lr: 1.0000e-04\n",
      "Epoch 46/100\n",
      "26/26 [==============================] - ETA: 0s - loss: 0.3434 - mse_wrapper: 0.3434 - ca_wrapper: 0.8472 - meandiff: 2.9423"
     ]
    },
    {
     "name": "stderr",
     "output_type": "stream",
     "text": [
      "2021-03-03 01:58:48,053 INFO (4, 2, 36, 5)\n",
      "2021-03-03 01:58:48,636 INFO (4, 2, 36, 5)\n"
     ]
    },
    {
     "name": "stdout",
     "output_type": "stream",
     "text": [
      "\n",
      "Epoch 00046: loss improved from 0.36198 to 0.34343, saving model to exp/cv_baseline_finalconv5/8_64_64__8_3_3_tenc64_conv1_MSE_NOnorm_augshiftscalerotbrigthness_taug3_3_batch8_f3/2021-03-03_01_29/model/model.h5\n",
      "26/26 [==============================] - 35s 1s/step - loss: 0.3434 - mse_wrapper: 0.3434 - ca_wrapper: 0.8472 - meandiff: 2.9423 - val_loss: 0.7118 - val_mse_wrapper: 0.7118 - val_ca_wrapper: 0.8160 - val_meandiff: 3.9062 - lr: 1.0000e-04\n",
      "Epoch 47/100\n",
      "26/26 [==============================] - ETA: 0s - loss: 0.3518 - mse_wrapper: 0.3518 - ca_wrapper: 0.8480 - meandiff: 3.0481\n",
      "Epoch 00047: loss did not improve from 0.34343\n",
      "26/26 [==============================] - 34s 1s/step - loss: 0.3518 - mse_wrapper: 0.3518 - ca_wrapper: 0.8480 - meandiff: 3.0481 - val_loss: 0.8298 - val_mse_wrapper: 0.8298 - val_ca_wrapper: 0.7743 - val_meandiff: 4.3594 - lr: 1.0000e-04\n",
      "Epoch 48/100\n",
      "26/26 [==============================] - ETA: 0s - loss: 0.3502 - mse_wrapper: 0.3502 - ca_wrapper: 0.8415 - meandiff: 2.8798"
     ]
    },
    {
     "name": "stderr",
     "output_type": "stream",
     "text": [
      "2021-03-03 02:00:01,715 INFO (4, 2, 36, 5)\n",
      "2021-03-03 02:00:02,290 INFO (4, 2, 36, 5)\n"
     ]
    },
    {
     "name": "stdout",
     "output_type": "stream",
     "text": [
      "\n",
      "Epoch 00048: loss did not improve from 0.34343\n",
      "26/26 [==============================] - 36s 1s/step - loss: 0.3502 - mse_wrapper: 0.3502 - ca_wrapper: 0.8415 - meandiff: 2.8798 - val_loss: 0.6956 - val_mse_wrapper: 0.6956 - val_ca_wrapper: 0.8234 - val_meandiff: 3.7656 - lr: 1.0000e-04\n",
      "Epoch 49/100\n",
      "26/26 [==============================] - ETA: 0s - loss: 0.3509 - mse_wrapper: 0.3509 - ca_wrapper: 0.8447 - meandiff: 2.8510\n",
      "Epoch 00049: loss did not improve from 0.34343\n",
      "26/26 [==============================] - 35s 1s/step - loss: 0.3509 - mse_wrapper: 0.3509 - ca_wrapper: 0.8447 - meandiff: 2.8510 - val_loss: 0.7098 - val_mse_wrapper: 0.7098 - val_ca_wrapper: 0.7999 - val_meandiff: 3.8125 - lr: 1.0000e-04\n",
      "Epoch 50/100\n",
      "26/26 [==============================] - ETA: 0s - loss: 0.3332 - mse_wrapper: 0.3332 - ca_wrapper: 0.8401 - meandiff: 2.7596"
     ]
    },
    {
     "name": "stderr",
     "output_type": "stream",
     "text": [
      "2021-03-03 02:01:15,517 INFO (4, 2, 36, 5)\n",
      "2021-03-03 02:01:16,085 INFO (4, 2, 36, 5)\n"
     ]
    },
    {
     "name": "stdout",
     "output_type": "stream",
     "text": [
      "\n",
      "Epoch 00050: loss improved from 0.34343 to 0.33319, saving model to exp/cv_baseline_finalconv5/8_64_64__8_3_3_tenc64_conv1_MSE_NOnorm_augshiftscalerotbrigthness_taug3_3_batch8_f3/2021-03-03_01_29/model/model.h5\n",
      "26/26 [==============================] - 36s 1s/step - loss: 0.3332 - mse_wrapper: 0.3332 - ca_wrapper: 0.8401 - meandiff: 2.7596 - val_loss: 0.7584 - val_mse_wrapper: 0.7584 - val_ca_wrapper: 0.7999 - val_meandiff: 4.0781 - lr: 1.0000e-04\n",
      "Epoch 51/100\n",
      "26/26 [==============================] - ETA: 0s - loss: 0.3388 - mse_wrapper: 0.3388 - ca_wrapper: 0.8409 - meandiff: 3.0673\n",
      "Epoch 00051: loss did not improve from 0.33319\n",
      "26/26 [==============================] - 34s 1s/step - loss: 0.3388 - mse_wrapper: 0.3388 - ca_wrapper: 0.8409 - meandiff: 3.0673 - val_loss: 0.6497 - val_mse_wrapper: 0.6497 - val_ca_wrapper: 0.7795 - val_meandiff: 4.2344 - lr: 1.0000e-04\n",
      "Epoch 52/100\n",
      "26/26 [==============================] - ETA: 0s - loss: 0.3315 - mse_wrapper: 0.3315 - ca_wrapper: 0.8480 - meandiff: 2.8077"
     ]
    },
    {
     "name": "stderr",
     "output_type": "stream",
     "text": [
      "2021-03-03 02:02:29,138 INFO (4, 2, 36, 5)\n",
      "2021-03-03 02:02:31,643 INFO (4, 2, 36, 5)\n"
     ]
    },
    {
     "name": "stdout",
     "output_type": "stream",
     "text": [
      "\n",
      "Epoch 00052: loss improved from 0.33319 to 0.33150, saving model to exp/cv_baseline_finalconv5/8_64_64__8_3_3_tenc64_conv1_MSE_NOnorm_augshiftscalerotbrigthness_taug3_3_batch8_f3/2021-03-03_01_29/model/model.h5\n",
      "26/26 [==============================] - 38s 1s/step - loss: 0.3315 - mse_wrapper: 0.3315 - ca_wrapper: 0.8480 - meandiff: 2.8077 - val_loss: 0.8100 - val_mse_wrapper: 0.8100 - val_ca_wrapper: 0.7852 - val_meandiff: 4.1250 - lr: 1.0000e-04\n",
      "Epoch 53/100\n",
      "26/26 [==============================] - ETA: 0s - loss: 0.3310 - mse_wrapper: 0.3310 - ca_wrapper: 0.8442 - meandiff: 2.6298\n",
      "Epoch 00053: loss improved from 0.33150 to 0.33098, saving model to exp/cv_baseline_finalconv5/8_64_64__8_3_3_tenc64_conv1_MSE_NOnorm_augshiftscalerotbrigthness_taug3_3_batch8_f3/2021-03-03_01_29/model/model.h5\n",
      "26/26 [==============================] - 34s 1s/step - loss: 0.3310 - mse_wrapper: 0.3310 - ca_wrapper: 0.8442 - meandiff: 2.6298 - val_loss: 0.7102 - val_mse_wrapper: 0.7102 - val_ca_wrapper: 0.8129 - val_meandiff: 3.8906 - lr: 1.0000e-04\n",
      "Epoch 54/100\n",
      "26/26 [==============================] - ETA: 0s - loss: 0.3312 - mse_wrapper: 0.3312 - ca_wrapper: 0.8488 - meandiff: 2.8317"
     ]
    },
    {
     "name": "stderr",
     "output_type": "stream",
     "text": [
      "2021-03-03 02:03:44,510 INFO (4, 2, 36, 5)\n",
      "2021-03-03 02:03:45,095 INFO (4, 2, 36, 5)\n"
     ]
    },
    {
     "name": "stdout",
     "output_type": "stream",
     "text": [
      "\n",
      "Epoch 00054: loss did not improve from 0.33098\n",
      "26/26 [==============================] - 36s 1s/step - loss: 0.3312 - mse_wrapper: 0.3312 - ca_wrapper: 0.8488 - meandiff: 2.8317 - val_loss: 0.5896 - val_mse_wrapper: 0.5896 - val_ca_wrapper: 0.7509 - val_meandiff: 5.0625 - lr: 1.0000e-04\n",
      "Epoch 55/100\n",
      "26/26 [==============================] - ETA: 0s - loss: 0.3335 - mse_wrapper: 0.3335 - ca_wrapper: 0.8490 - meandiff: 2.9087\n",
      "Epoch 00055: loss did not improve from 0.33098\n",
      "26/26 [==============================] - 34s 1s/step - loss: 0.3335 - mse_wrapper: 0.3335 - ca_wrapper: 0.8490 - meandiff: 2.9087 - val_loss: 0.6700 - val_mse_wrapper: 0.6700 - val_ca_wrapper: 0.8212 - val_meandiff: 3.8594 - lr: 1.0000e-04\n",
      "Epoch 56/100\n",
      "26/26 [==============================] - ETA: 0s - loss: 0.3154 - mse_wrapper: 0.3154 - ca_wrapper: 0.8494 - meandiff: 2.7163"
     ]
    },
    {
     "name": "stderr",
     "output_type": "stream",
     "text": [
      "2021-03-03 02:04:58,041 INFO (4, 2, 36, 5)\n",
      "2021-03-03 02:04:58,597 INFO (4, 2, 36, 5)\n"
     ]
    },
    {
     "name": "stdout",
     "output_type": "stream",
     "text": [
      "\n",
      "Epoch 00056: loss improved from 0.33098 to 0.31535, saving model to exp/cv_baseline_finalconv5/8_64_64__8_3_3_tenc64_conv1_MSE_NOnorm_augshiftscalerotbrigthness_taug3_3_batch8_f3/2021-03-03_01_29/model/model.h5\n",
      "26/26 [==============================] - 36s 1s/step - loss: 0.3154 - mse_wrapper: 0.3154 - ca_wrapper: 0.8494 - meandiff: 2.7163 - val_loss: 0.8282 - val_mse_wrapper: 0.8282 - val_ca_wrapper: 0.8168 - val_meandiff: 4.4062 - lr: 1.0000e-04\n",
      "Epoch 57/100\n",
      "26/26 [==============================] - ETA: 0s - loss: 0.3262 - mse_wrapper: 0.3262 - ca_wrapper: 0.8403 - meandiff: 2.7692\n",
      "Epoch 00057: loss did not improve from 0.31535\n",
      "26/26 [==============================] - 34s 1s/step - loss: 0.3262 - mse_wrapper: 0.3262 - ca_wrapper: 0.8403 - meandiff: 2.7692 - val_loss: 0.8476 - val_mse_wrapper: 0.8476 - val_ca_wrapper: 0.8073 - val_meandiff: 3.9688 - lr: 1.0000e-04\n",
      "Epoch 58/100\n",
      "26/26 [==============================] - ETA: 0s - loss: 0.3187 - mse_wrapper: 0.3187 - ca_wrapper: 0.8466 - meandiff: 2.5048"
     ]
    },
    {
     "name": "stderr",
     "output_type": "stream",
     "text": [
      "2021-03-03 02:06:11,830 INFO (4, 2, 36, 5)\n",
      "2021-03-03 02:06:12,395 INFO (4, 2, 36, 5)\n"
     ]
    },
    {
     "name": "stdout",
     "output_type": "stream",
     "text": [
      "\n",
      "Epoch 00058: loss did not improve from 0.31535\n",
      "26/26 [==============================] - 36s 1s/step - loss: 0.3187 - mse_wrapper: 0.3187 - ca_wrapper: 0.8466 - meandiff: 2.5048 - val_loss: 0.8000 - val_mse_wrapper: 0.8000 - val_ca_wrapper: 0.8234 - val_meandiff: 4.0469 - lr: 1.0000e-04\n",
      "Epoch 59/100\n",
      "26/26 [==============================] - ETA: 0s - loss: 0.3107 - mse_wrapper: 0.3107 - ca_wrapper: 0.8511 - meandiff: 2.7356\n",
      "Epoch 00059: loss improved from 0.31535 to 0.31069, saving model to exp/cv_baseline_finalconv5/8_64_64__8_3_3_tenc64_conv1_MSE_NOnorm_augshiftscalerotbrigthness_taug3_3_batch8_f3/2021-03-03_01_29/model/model.h5\n",
      "26/26 [==============================] - 34s 1s/step - loss: 0.3107 - mse_wrapper: 0.3107 - ca_wrapper: 0.8511 - meandiff: 2.7356 - val_loss: 0.7315 - val_mse_wrapper: 0.7315 - val_ca_wrapper: 0.8151 - val_meandiff: 3.6719 - lr: 1.0000e-04\n",
      "Epoch 60/100\n",
      "26/26 [==============================] - ETA: 0s - loss: 0.3046 - mse_wrapper: 0.3046 - ca_wrapper: 0.8502 - meandiff: 2.5721"
     ]
    },
    {
     "name": "stderr",
     "output_type": "stream",
     "text": [
      "2021-03-03 02:07:24,866 INFO (4, 2, 36, 5)\n",
      "2021-03-03 02:07:25,401 INFO (4, 2, 36, 5)\n"
     ]
    },
    {
     "name": "stdout",
     "output_type": "stream",
     "text": [
      "\n",
      "Epoch 00060: loss improved from 0.31069 to 0.30461, saving model to exp/cv_baseline_finalconv5/8_64_64__8_3_3_tenc64_conv1_MSE_NOnorm_augshiftscalerotbrigthness_taug3_3_batch8_f3/2021-03-03_01_29/model/model.h5\n",
      "26/26 [==============================] - 35s 1s/step - loss: 0.3046 - mse_wrapper: 0.3046 - ca_wrapper: 0.8502 - meandiff: 2.5721 - val_loss: 0.7177 - val_mse_wrapper: 0.7177 - val_ca_wrapper: 0.8160 - val_meandiff: 3.8594 - lr: 1.0000e-04\n",
      "Epoch 61/100\n",
      "26/26 [==============================] - ETA: 0s - loss: 0.3005 - mse_wrapper: 0.3005 - ca_wrapper: 0.8532 - meandiff: 2.4712\n",
      "Epoch 00061: loss improved from 0.30461 to 0.30045, saving model to exp/cv_baseline_finalconv5/8_64_64__8_3_3_tenc64_conv1_MSE_NOnorm_augshiftscalerotbrigthness_taug3_3_batch8_f3/2021-03-03_01_29/model/model.h5\n",
      "26/26 [==============================] - 35s 1s/step - loss: 0.3005 - mse_wrapper: 0.3005 - ca_wrapper: 0.8532 - meandiff: 2.4712 - val_loss: 0.8750 - val_mse_wrapper: 0.8750 - val_ca_wrapper: 0.7582 - val_meandiff: 4.2500 - lr: 1.0000e-04\n",
      "Epoch 62/100\n",
      "26/26 [==============================] - ETA: 0s - loss: 0.3094 - mse_wrapper: 0.3094 - ca_wrapper: 0.8472 - meandiff: 2.5721"
     ]
    },
    {
     "name": "stderr",
     "output_type": "stream",
     "text": [
      "2021-03-03 02:08:38,827 INFO (4, 2, 36, 5)\n",
      "2021-03-03 02:08:39,373 INFO (4, 2, 36, 5)\n"
     ]
    },
    {
     "name": "stdout",
     "output_type": "stream",
     "text": [
      "\n",
      "Epoch 00062: loss did not improve from 0.30045\n",
      "26/26 [==============================] - 35s 1s/step - loss: 0.3094 - mse_wrapper: 0.3094 - ca_wrapper: 0.8472 - meandiff: 2.5721 - val_loss: 0.6055 - val_mse_wrapper: 0.6055 - val_ca_wrapper: 0.7999 - val_meandiff: 3.9219 - lr: 1.0000e-04\n",
      "Epoch 63/100\n",
      "26/26 [==============================] - ETA: 0s - loss: 0.3058 - mse_wrapper: 0.3058 - ca_wrapper: 0.8536 - meandiff: 2.3269\n",
      "Epoch 00063: loss did not improve from 0.30045\n",
      "26/26 [==============================] - 34s 1s/step - loss: 0.3058 - mse_wrapper: 0.3058 - ca_wrapper: 0.8536 - meandiff: 2.3269 - val_loss: 0.7069 - val_mse_wrapper: 0.7069 - val_ca_wrapper: 0.8056 - val_meandiff: 4.6094 - lr: 1.0000e-04\n",
      "Epoch 64/100\n",
      "26/26 [==============================] - ETA: 0s - loss: 0.2904 - mse_wrapper: 0.2904 - ca_wrapper: 0.8590 - meandiff: 2.2596"
     ]
    },
    {
     "name": "stderr",
     "output_type": "stream",
     "text": [
      "2021-03-03 02:09:52,352 INFO (4, 2, 36, 5)\n",
      "2021-03-03 02:09:52,913 INFO (4, 2, 36, 5)\n"
     ]
    },
    {
     "name": "stdout",
     "output_type": "stream",
     "text": [
      "\n",
      "Epoch 00064: loss improved from 0.30045 to 0.29042, saving model to exp/cv_baseline_finalconv5/8_64_64__8_3_3_tenc64_conv1_MSE_NOnorm_augshiftscalerotbrigthness_taug3_3_batch8_f3/2021-03-03_01_29/model/model.h5\n",
      "26/26 [==============================] - 36s 1s/step - loss: 0.2904 - mse_wrapper: 0.2904 - ca_wrapper: 0.8590 - meandiff: 2.2596 - val_loss: 0.7017 - val_mse_wrapper: 0.7017 - val_ca_wrapper: 0.8086 - val_meandiff: 3.6719 - lr: 1.0000e-04\n",
      "Epoch 65/100\n",
      "26/26 [==============================] - ETA: 0s - loss: 0.3069 - mse_wrapper: 0.3069 - ca_wrapper: 0.8448 - meandiff: 2.4327\n",
      "Epoch 00065: loss did not improve from 0.29042\n",
      "26/26 [==============================] - 34s 1s/step - loss: 0.3069 - mse_wrapper: 0.3069 - ca_wrapper: 0.8448 - meandiff: 2.4327 - val_loss: 0.9950 - val_mse_wrapper: 0.9950 - val_ca_wrapper: 0.8090 - val_meandiff: 4.0938 - lr: 1.0000e-04\n",
      "Epoch 66/100\n",
      "26/26 [==============================] - ETA: 0s - loss: 0.2857 - mse_wrapper: 0.2857 - ca_wrapper: 0.8568 - meandiff: 2.4231"
     ]
    },
    {
     "name": "stderr",
     "output_type": "stream",
     "text": [
      "2021-03-03 02:11:06,055 INFO (4, 2, 36, 5)\n",
      "2021-03-03 02:11:06,610 INFO (4, 2, 36, 5)\n"
     ]
    },
    {
     "name": "stdout",
     "output_type": "stream",
     "text": [
      "\n",
      "Epoch 00066: loss improved from 0.29042 to 0.28566, saving model to exp/cv_baseline_finalconv5/8_64_64__8_3_3_tenc64_conv1_MSE_NOnorm_augshiftscalerotbrigthness_taug3_3_batch8_f3/2021-03-03_01_29/model/model.h5\n",
      "26/26 [==============================] - 36s 1s/step - loss: 0.2857 - mse_wrapper: 0.2857 - ca_wrapper: 0.8568 - meandiff: 2.4231 - val_loss: 0.8032 - val_mse_wrapper: 0.8032 - val_ca_wrapper: 0.7569 - val_meandiff: 4.2656 - lr: 1.0000e-04\n",
      "Epoch 67/100\n",
      "26/26 [==============================] - ETA: 0s - loss: 0.2821 - mse_wrapper: 0.2821 - ca_wrapper: 0.8568 - meandiff: 2.2933\n",
      "Epoch 00067: loss improved from 0.28566 to 0.28210, saving model to exp/cv_baseline_finalconv5/8_64_64__8_3_3_tenc64_conv1_MSE_NOnorm_augshiftscalerotbrigthness_taug3_3_batch8_f3/2021-03-03_01_29/model/model.h5\n",
      "26/26 [==============================] - 35s 1s/step - loss: 0.2821 - mse_wrapper: 0.2821 - ca_wrapper: 0.8568 - meandiff: 2.2933 - val_loss: 0.5550 - val_mse_wrapper: 0.5550 - val_ca_wrapper: 0.8056 - val_meandiff: 4.0938 - lr: 1.0000e-04\n",
      "Epoch 68/100\n",
      "26/26 [==============================] - ETA: 0s - loss: 0.2843 - mse_wrapper: 0.2843 - ca_wrapper: 0.8499 - meandiff: 2.1827"
     ]
    },
    {
     "name": "stderr",
     "output_type": "stream",
     "text": [
      "2021-03-03 02:12:19,927 INFO (4, 2, 36, 5)\n",
      "2021-03-03 02:12:20,499 INFO (4, 2, 36, 5)\n"
     ]
    },
    {
     "name": "stdout",
     "output_type": "stream",
     "text": [
      "\n",
      "Epoch 00068: loss did not improve from 0.28210\n",
      "26/26 [==============================] - 36s 1s/step - loss: 0.2843 - mse_wrapper: 0.2843 - ca_wrapper: 0.8499 - meandiff: 2.1827 - val_loss: 0.9292 - val_mse_wrapper: 0.9292 - val_ca_wrapper: 0.7934 - val_meandiff: 4.4375 - lr: 1.0000e-04\n",
      "Epoch 69/100\n",
      "26/26 [==============================] - ETA: 0s - loss: 0.2697 - mse_wrapper: 0.2697 - ca_wrapper: 0.8548 - meandiff: 2.2115\n",
      "Epoch 00069: loss improved from 0.28210 to 0.26966, saving model to exp/cv_baseline_finalconv5/8_64_64__8_3_3_tenc64_conv1_MSE_NOnorm_augshiftscalerotbrigthness_taug3_3_batch8_f3/2021-03-03_01_29/model/model.h5\n",
      "26/26 [==============================] - 35s 1s/step - loss: 0.2697 - mse_wrapper: 0.2697 - ca_wrapper: 0.8548 - meandiff: 2.2115 - val_loss: 0.7485 - val_mse_wrapper: 0.7485 - val_ca_wrapper: 0.8129 - val_meandiff: 3.8594 - lr: 1.0000e-04\n",
      "Epoch 70/100\n",
      "26/26 [==============================] - ETA: 0s - loss: 0.2934 - mse_wrapper: 0.2934 - ca_wrapper: 0.8550 - meandiff: 2.3269"
     ]
    },
    {
     "name": "stderr",
     "output_type": "stream",
     "text": [
      "2021-03-03 02:13:33,887 INFO (4, 2, 36, 5)\n",
      "2021-03-03 02:13:34,418 INFO (4, 2, 36, 5)\n"
     ]
    },
    {
     "name": "stdout",
     "output_type": "stream",
     "text": [
      "\n",
      "Epoch 00070: loss did not improve from 0.26966\n",
      "26/26 [==============================] - 35s 1s/step - loss: 0.2934 - mse_wrapper: 0.2934 - ca_wrapper: 0.8550 - meandiff: 2.3269 - val_loss: 0.8179 - val_mse_wrapper: 0.8179 - val_ca_wrapper: 0.7726 - val_meandiff: 3.9844 - lr: 1.0000e-04\n",
      "Epoch 71/100\n",
      "26/26 [==============================] - ETA: 0s - loss: 0.2799 - mse_wrapper: 0.2799 - ca_wrapper: 0.8531 - meandiff: 2.2692\n",
      "Epoch 00071: loss did not improve from 0.26966\n",
      "26/26 [==============================] - 34s 1s/step - loss: 0.2799 - mse_wrapper: 0.2799 - ca_wrapper: 0.8531 - meandiff: 2.2692 - val_loss: 0.6269 - val_mse_wrapper: 0.6269 - val_ca_wrapper: 0.8090 - val_meandiff: 4.0312 - lr: 1.0000e-04\n",
      "Epoch 72/100\n",
      "26/26 [==============================] - ETA: 0s - loss: 0.2744 - mse_wrapper: 0.2744 - ca_wrapper: 0.8572 - meandiff: 2.1058"
     ]
    },
    {
     "name": "stderr",
     "output_type": "stream",
     "text": [
      "2021-03-03 02:14:47,634 INFO (4, 2, 36, 5)\n",
      "2021-03-03 02:14:48,190 INFO (4, 2, 36, 5)\n"
     ]
    },
    {
     "name": "stdout",
     "output_type": "stream",
     "text": [
      "\n",
      "Epoch 00072: loss did not improve from 0.26966\n",
      "26/26 [==============================] - 36s 1s/step - loss: 0.2744 - mse_wrapper: 0.2744 - ca_wrapper: 0.8572 - meandiff: 2.1058 - val_loss: 0.9258 - val_mse_wrapper: 0.9258 - val_ca_wrapper: 0.7778 - val_meandiff: 3.6875 - lr: 1.0000e-04\n",
      "Epoch 73/100\n",
      "26/26 [==============================] - ETA: 0s - loss: 0.2882 - mse_wrapper: 0.2882 - ca_wrapper: 0.8556 - meandiff: 2.3029\n",
      "Epoch 00073: loss did not improve from 0.26966\n",
      "26/26 [==============================] - 34s 1s/step - loss: 0.2882 - mse_wrapper: 0.2882 - ca_wrapper: 0.8556 - meandiff: 2.3029 - val_loss: 0.6933 - val_mse_wrapper: 0.6933 - val_ca_wrapper: 0.8086 - val_meandiff: 3.7188 - lr: 1.0000e-04\n",
      "Epoch 74/100\n",
      "26/26 [==============================] - ETA: 0s - loss: 0.2669 - mse_wrapper: 0.2669 - ca_wrapper: 0.8571 - meandiff: 2.2019"
     ]
    },
    {
     "name": "stderr",
     "output_type": "stream",
     "text": [
      "2021-03-03 02:16:01,007 INFO (4, 2, 36, 5)\n",
      "2021-03-03 02:16:01,563 INFO (4, 2, 36, 5)\n"
     ]
    },
    {
     "name": "stdout",
     "output_type": "stream",
     "text": [
      "\n",
      "Epoch 00074: loss improved from 0.26966 to 0.26694, saving model to exp/cv_baseline_finalconv5/8_64_64__8_3_3_tenc64_conv1_MSE_NOnorm_augshiftscalerotbrigthness_taug3_3_batch8_f3/2021-03-03_01_29/model/model.h5\n",
      "26/26 [==============================] - 35s 1s/step - loss: 0.2669 - mse_wrapper: 0.2669 - ca_wrapper: 0.8571 - meandiff: 2.2019 - val_loss: 0.6711 - val_mse_wrapper: 0.6711 - val_ca_wrapper: 0.7591 - val_meandiff: 4.3906 - lr: 1.0000e-04\n",
      "Epoch 75/100\n",
      "26/26 [==============================] - ETA: 0s - loss: 0.2538 - mse_wrapper: 0.2538 - ca_wrapper: 0.8539 - meandiff: 2.0192\n",
      "Epoch 00075: loss improved from 0.26694 to 0.25379, saving model to exp/cv_baseline_finalconv5/8_64_64__8_3_3_tenc64_conv1_MSE_NOnorm_augshiftscalerotbrigthness_taug3_3_batch8_f3/2021-03-03_01_29/model/model.h5\n",
      "26/26 [==============================] - 35s 1s/step - loss: 0.2538 - mse_wrapper: 0.2538 - ca_wrapper: 0.8539 - meandiff: 2.0192 - val_loss: 0.6112 - val_mse_wrapper: 0.6112 - val_ca_wrapper: 0.8181 - val_meandiff: 3.9375 - lr: 1.0000e-04\n",
      "Epoch 76/100\n",
      "26/26 [==============================] - ETA: 0s - loss: 0.2741 - mse_wrapper: 0.2741 - ca_wrapper: 0.8571 - meandiff: 2.1346"
     ]
    },
    {
     "name": "stderr",
     "output_type": "stream",
     "text": [
      "2021-03-03 02:17:17,442 INFO (4, 2, 36, 5)\n",
      "2021-03-03 02:17:18,012 INFO (4, 2, 36, 5)\n"
     ]
    },
    {
     "name": "stdout",
     "output_type": "stream",
     "text": [
      "\n",
      "Epoch 00076: loss did not improve from 0.25379\n",
      "26/26 [==============================] - 38s 1s/step - loss: 0.2741 - mse_wrapper: 0.2741 - ca_wrapper: 0.8571 - meandiff: 2.1346 - val_loss: 0.9656 - val_mse_wrapper: 0.9656 - val_ca_wrapper: 0.7964 - val_meandiff: 3.8906 - lr: 1.0000e-04\n",
      "Epoch 77/100\n",
      "26/26 [==============================] - ETA: 0s - loss: 0.2499 - mse_wrapper: 0.2499 - ca_wrapper: 0.8640 - meandiff: 1.9760\n",
      "Epoch 00077: loss improved from 0.25379 to 0.24994, saving model to exp/cv_baseline_finalconv5/8_64_64__8_3_3_tenc64_conv1_MSE_NOnorm_augshiftscalerotbrigthness_taug3_3_batch8_f3/2021-03-03_01_29/model/model.h5\n",
      "26/26 [==============================] - 34s 1s/step - loss: 0.2499 - mse_wrapper: 0.2499 - ca_wrapper: 0.8640 - meandiff: 1.9760 - val_loss: 1.3015 - val_mse_wrapper: 1.3015 - val_ca_wrapper: 0.7947 - val_meandiff: 3.8125 - lr: 1.0000e-04\n",
      "Epoch 78/100\n",
      "26/26 [==============================] - ETA: 0s - loss: 0.2573 - mse_wrapper: 0.2573 - ca_wrapper: 0.8575 - meandiff: 1.9663"
     ]
    },
    {
     "name": "stderr",
     "output_type": "stream",
     "text": [
      "2021-03-03 02:18:30,881 INFO (4, 2, 36, 5)\n",
      "2021-03-03 02:18:31,428 INFO (4, 2, 36, 5)\n"
     ]
    },
    {
     "name": "stdout",
     "output_type": "stream",
     "text": [
      "\n",
      "Epoch 00078: loss did not improve from 0.24994\n",
      "26/26 [==============================] - 35s 1s/step - loss: 0.2573 - mse_wrapper: 0.2573 - ca_wrapper: 0.8575 - meandiff: 1.9663 - val_loss: 0.7197 - val_mse_wrapper: 0.7197 - val_ca_wrapper: 0.7865 - val_meandiff: 4.3438 - lr: 1.0000e-04\n",
      "Epoch 79/100\n",
      "26/26 [==============================] - ETA: 0s - loss: 0.2521 - mse_wrapper: 0.2521 - ca_wrapper: 0.8582 - meandiff: 2.0192\n",
      "Epoch 00079: loss did not improve from 0.24994\n",
      "26/26 [==============================] - 34s 1s/step - loss: 0.2521 - mse_wrapper: 0.2521 - ca_wrapper: 0.8582 - meandiff: 2.0192 - val_loss: 0.6512 - val_mse_wrapper: 0.6512 - val_ca_wrapper: 0.8043 - val_meandiff: 4.3750 - lr: 1.0000e-04\n",
      "Epoch 80/100\n",
      "26/26 [==============================] - ETA: 0s - loss: 0.2593 - mse_wrapper: 0.2593 - ca_wrapper: 0.8634 - meandiff: 2.0913"
     ]
    },
    {
     "name": "stderr",
     "output_type": "stream",
     "text": [
      "2021-03-03 02:19:44,228 INFO (4, 2, 36, 5)\n",
      "2021-03-03 02:19:44,797 INFO (4, 2, 36, 5)\n"
     ]
    },
    {
     "name": "stdout",
     "output_type": "stream",
     "text": [
      "\n",
      "Epoch 00080: loss did not improve from 0.24994\n",
      "26/26 [==============================] - 35s 1s/step - loss: 0.2593 - mse_wrapper: 0.2593 - ca_wrapper: 0.8634 - meandiff: 2.0913 - val_loss: 1.0375 - val_mse_wrapper: 1.0375 - val_ca_wrapper: 0.7934 - val_meandiff: 4.0625 - lr: 1.0000e-04\n",
      "Epoch 81/100\n",
      "26/26 [==============================] - ETA: 0s - loss: 0.2514 - mse_wrapper: 0.2514 - ca_wrapper: 0.8575 - meandiff: 1.9760\n",
      "Epoch 00081: loss did not improve from 0.24994\n",
      "26/26 [==============================] - 34s 1s/step - loss: 0.2514 - mse_wrapper: 0.2514 - ca_wrapper: 0.8575 - meandiff: 1.9760 - val_loss: 0.6679 - val_mse_wrapper: 0.6679 - val_ca_wrapper: 0.8155 - val_meandiff: 4.2344 - lr: 1.0000e-04\n",
      "Epoch 82/100\n",
      "26/26 [==============================] - ETA: 0s - loss: 0.2445 - mse_wrapper: 0.2445 - ca_wrapper: 0.8679 - meandiff: 1.8798"
     ]
    },
    {
     "name": "stderr",
     "output_type": "stream",
     "text": [
      "2021-03-03 02:20:57,513 INFO (4, 2, 36, 5)\n",
      "2021-03-03 02:20:58,081 INFO (4, 2, 36, 5)\n"
     ]
    },
    {
     "name": "stdout",
     "output_type": "stream",
     "text": [
      "\n",
      "Epoch 00082: loss improved from 0.24994 to 0.24454, saving model to exp/cv_baseline_finalconv5/8_64_64__8_3_3_tenc64_conv1_MSE_NOnorm_augshiftscalerotbrigthness_taug3_3_batch8_f3/2021-03-03_01_29/model/model.h5\n",
      "26/26 [==============================] - 35s 1s/step - loss: 0.2445 - mse_wrapper: 0.2445 - ca_wrapper: 0.8679 - meandiff: 1.8798 - val_loss: 1.0491 - val_mse_wrapper: 1.0491 - val_ca_wrapper: 0.7708 - val_meandiff: 3.9688 - lr: 1.0000e-04\n",
      "Epoch 83/100\n",
      "26/26 [==============================] - ETA: 0s - loss: 0.2461 - mse_wrapper: 0.2461 - ca_wrapper: 0.8576 - meandiff: 1.7837\n",
      "Epoch 00083: loss did not improve from 0.24454\n",
      "26/26 [==============================] - 34s 1s/step - loss: 0.2461 - mse_wrapper: 0.2461 - ca_wrapper: 0.8576 - meandiff: 1.7837 - val_loss: 0.8086 - val_mse_wrapper: 0.8086 - val_ca_wrapper: 0.7960 - val_meandiff: 4.0469 - lr: 1.0000e-04\n",
      "Epoch 84/100\n",
      "26/26 [==============================] - ETA: 0s - loss: 0.2513 - mse_wrapper: 0.2513 - ca_wrapper: 0.8649 - meandiff: 1.8654"
     ]
    },
    {
     "name": "stderr",
     "output_type": "stream",
     "text": [
      "2021-03-03 02:22:10,523 INFO (4, 2, 36, 5)\n",
      "2021-03-03 02:22:11,061 INFO (4, 2, 36, 5)\n"
     ]
    },
    {
     "name": "stdout",
     "output_type": "stream",
     "text": [
      "\n",
      "Epoch 00084: loss did not improve from 0.24454\n",
      "26/26 [==============================] - 35s 1s/step - loss: 0.2513 - mse_wrapper: 0.2513 - ca_wrapper: 0.8649 - meandiff: 1.8654 - val_loss: 0.8677 - val_mse_wrapper: 0.8677 - val_ca_wrapper: 0.8038 - val_meandiff: 4.0938 - lr: 1.0000e-04\n",
      "Epoch 85/100\n",
      "26/26 [==============================] - ETA: 0s - loss: 0.2393 - mse_wrapper: 0.2393 - ca_wrapper: 0.8667 - meandiff: 1.9712\n",
      "Epoch 00085: loss improved from 0.24454 to 0.23930, saving model to exp/cv_baseline_finalconv5/8_64_64__8_3_3_tenc64_conv1_MSE_NOnorm_augshiftscalerotbrigthness_taug3_3_batch8_f3/2021-03-03_01_29/model/model.h5\n",
      "26/26 [==============================] - 34s 1s/step - loss: 0.2393 - mse_wrapper: 0.2393 - ca_wrapper: 0.8667 - meandiff: 1.9712 - val_loss: 0.6236 - val_mse_wrapper: 0.6236 - val_ca_wrapper: 0.7860 - val_meandiff: 4.9219 - lr: 1.0000e-04\n",
      "Epoch 86/100\n",
      "26/26 [==============================] - ETA: 0s - loss: 0.2344 - mse_wrapper: 0.2344 - ca_wrapper: 0.8591 - meandiff: 1.7404"
     ]
    },
    {
     "name": "stderr",
     "output_type": "stream",
     "text": [
      "2021-03-03 02:23:24,537 INFO (4, 2, 36, 5)\n",
      "2021-03-03 02:23:25,102 INFO (4, 2, 36, 5)\n"
     ]
    },
    {
     "name": "stdout",
     "output_type": "stream",
     "text": [
      "\n",
      "Epoch 00086: loss improved from 0.23930 to 0.23441, saving model to exp/cv_baseline_finalconv5/8_64_64__8_3_3_tenc64_conv1_MSE_NOnorm_augshiftscalerotbrigthness_taug3_3_batch8_f3/2021-03-03_01_29/model/model.h5\n",
      "26/26 [==============================] - 36s 1s/step - loss: 0.2344 - mse_wrapper: 0.2344 - ca_wrapper: 0.8591 - meandiff: 1.7404 - val_loss: 0.6537 - val_mse_wrapper: 0.6537 - val_ca_wrapper: 0.7878 - val_meandiff: 4.2656 - lr: 1.0000e-04\n",
      "Epoch 87/100\n",
      "26/26 [==============================] - ETA: 0s - loss: 0.2566 - mse_wrapper: 0.2566 - ca_wrapper: 0.8567 - meandiff: 2.0240\n",
      "Epoch 00087: loss did not improve from 0.23441\n",
      "26/26 [==============================] - 34s 1s/step - loss: 0.2566 - mse_wrapper: 0.2566 - ca_wrapper: 0.8567 - meandiff: 2.0240 - val_loss: 0.8338 - val_mse_wrapper: 0.8338 - val_ca_wrapper: 0.7452 - val_meandiff: 5.0625 - lr: 1.0000e-04\n",
      "Epoch 88/100\n",
      "26/26 [==============================] - ETA: 0s - loss: 0.2637 - mse_wrapper: 0.2637 - ca_wrapper: 0.8532 - meandiff: 2.0000"
     ]
    },
    {
     "name": "stderr",
     "output_type": "stream",
     "text": [
      "2021-03-03 02:24:38,428 INFO (4, 2, 36, 5)\n",
      "2021-03-03 02:24:38,994 INFO (4, 2, 36, 5)\n"
     ]
    },
    {
     "name": "stdout",
     "output_type": "stream",
     "text": [
      "\n",
      "Epoch 00088: loss did not improve from 0.23441\n",
      "26/26 [==============================] - 36s 1s/step - loss: 0.2637 - mse_wrapper: 0.2637 - ca_wrapper: 0.8532 - meandiff: 2.0000 - val_loss: 0.6904 - val_mse_wrapper: 0.6904 - val_ca_wrapper: 0.7882 - val_meandiff: 4.0469 - lr: 1.0000e-04\n",
      "Epoch 89/100\n",
      "26/26 [==============================] - ETA: 0s - loss: 0.2315 - mse_wrapper: 0.2315 - ca_wrapper: 0.8650 - meandiff: 1.7692\n",
      "Epoch 00089: loss improved from 0.23441 to 0.23151, saving model to exp/cv_baseline_finalconv5/8_64_64__8_3_3_tenc64_conv1_MSE_NOnorm_augshiftscalerotbrigthness_taug3_3_batch8_f3/2021-03-03_01_29/model/model.h5\n",
      "26/26 [==============================] - 34s 1s/step - loss: 0.2315 - mse_wrapper: 0.2315 - ca_wrapper: 0.8650 - meandiff: 1.7692 - val_loss: 0.9557 - val_mse_wrapper: 0.9557 - val_ca_wrapper: 0.7904 - val_meandiff: 4.1562 - lr: 1.0000e-04\n",
      "Epoch 90/100\n",
      "26/26 [==============================] - ETA: 0s - loss: 0.2492 - mse_wrapper: 0.2492 - ca_wrapper: 0.8575 - meandiff: 1.9423"
     ]
    },
    {
     "name": "stderr",
     "output_type": "stream",
     "text": [
      "2021-03-03 02:25:52,123 INFO (4, 2, 36, 5)\n",
      "2021-03-03 02:25:52,682 INFO (4, 2, 36, 5)\n"
     ]
    },
    {
     "name": "stdout",
     "output_type": "stream",
     "text": [
      "\n",
      "Epoch 00090: loss did not improve from 0.23151\n",
      "26/26 [==============================] - 35s 1s/step - loss: 0.2492 - mse_wrapper: 0.2492 - ca_wrapper: 0.8575 - meandiff: 1.9423 - val_loss: 0.6743 - val_mse_wrapper: 0.6743 - val_ca_wrapper: 0.8138 - val_meandiff: 3.9688 - lr: 1.0000e-04\n",
      "Epoch 91/100\n",
      "26/26 [==============================] - ETA: 0s - loss: 0.2405 - mse_wrapper: 0.2405 - ca_wrapper: 0.8628 - meandiff: 1.8846\n",
      "Epoch 00091: loss did not improve from 0.23151\n",
      "26/26 [==============================] - 34s 1s/step - loss: 0.2405 - mse_wrapper: 0.2405 - ca_wrapper: 0.8628 - meandiff: 1.8846 - val_loss: 0.7093 - val_mse_wrapper: 0.7093 - val_ca_wrapper: 0.8103 - val_meandiff: 4.1250 - lr: 1.0000e-04\n",
      "Epoch 92/100\n",
      "26/26 [==============================] - ETA: 0s - loss: 0.2364 - mse_wrapper: 0.2364 - ca_wrapper: 0.8659 - meandiff: 1.9471"
     ]
    },
    {
     "name": "stderr",
     "output_type": "stream",
     "text": [
      "2021-03-03 02:27:05,199 INFO (4, 2, 36, 5)\n",
      "2021-03-03 02:27:05,771 INFO (4, 2, 36, 5)\n"
     ]
    },
    {
     "name": "stdout",
     "output_type": "stream",
     "text": [
      "\n",
      "Epoch 00092: loss did not improve from 0.23151\n",
      "26/26 [==============================] - 35s 1s/step - loss: 0.2364 - mse_wrapper: 0.2364 - ca_wrapper: 0.8659 - meandiff: 1.9471 - val_loss: 0.7931 - val_mse_wrapper: 0.7931 - val_ca_wrapper: 0.8121 - val_meandiff: 4.5156 - lr: 1.0000e-04\n",
      "Epoch 93/100\n",
      "26/26 [==============================] - ETA: 0s - loss: 0.2417 - mse_wrapper: 0.2417 - ca_wrapper: 0.8638 - meandiff: 1.9952\n",
      "Epoch 00093: loss did not improve from 0.23151\n",
      "26/26 [==============================] - 34s 1s/step - loss: 0.2417 - mse_wrapper: 0.2417 - ca_wrapper: 0.8638 - meandiff: 1.9952 - val_loss: 0.6839 - val_mse_wrapper: 0.6839 - val_ca_wrapper: 0.8190 - val_meandiff: 4.1094 - lr: 1.0000e-04\n",
      "Epoch 94/100\n",
      "26/26 [==============================] - ETA: 0s - loss: 0.2335 - mse_wrapper: 0.2335 - ca_wrapper: 0.8599 - meandiff: 1.8365"
     ]
    },
    {
     "name": "stderr",
     "output_type": "stream",
     "text": [
      "2021-03-03 02:28:18,426 INFO (4, 2, 36, 5)\n",
      "2021-03-03 02:28:18,969 INFO (4, 2, 36, 5)\n"
     ]
    },
    {
     "name": "stdout",
     "output_type": "stream",
     "text": [
      "\n",
      "Epoch 00094: loss did not improve from 0.23151\n",
      "\n",
      "Epoch 00094: ReduceLROnPlateau reducing learning rate to 6.999999823165126e-05.\n",
      "26/26 [==============================] - 35s 1s/step - loss: 0.2335 - mse_wrapper: 0.2335 - ca_wrapper: 0.8599 - meandiff: 1.8365 - val_loss: 0.6439 - val_mse_wrapper: 0.6439 - val_ca_wrapper: 0.8134 - val_meandiff: 3.7969 - lr: 7.0000e-05\n",
      "Epoch 95/100\n",
      "26/26 [==============================] - ETA: 0s - loss: 0.2178 - mse_wrapper: 0.2178 - ca_wrapper: 0.8691 - meandiff: 1.5673\n",
      "Epoch 00095: loss improved from 0.23151 to 0.21784, saving model to exp/cv_baseline_finalconv5/8_64_64__8_3_3_tenc64_conv1_MSE_NOnorm_augshiftscalerotbrigthness_taug3_3_batch8_f3/2021-03-03_01_29/model/model.h5\n",
      "26/26 [==============================] - 35s 1s/step - loss: 0.2178 - mse_wrapper: 0.2178 - ca_wrapper: 0.8691 - meandiff: 1.5673 - val_loss: 0.6366 - val_mse_wrapper: 0.6366 - val_ca_wrapper: 0.8082 - val_meandiff: 4.1406 - lr: 7.0000e-05\n",
      "Epoch 96/100\n",
      "26/26 [==============================] - ETA: 0s - loss: 0.2069 - mse_wrapper: 0.2069 - ca_wrapper: 0.8678 - meandiff: 1.4567"
     ]
    },
    {
     "name": "stderr",
     "output_type": "stream",
     "text": [
      "2021-03-03 02:29:32,219 INFO (4, 2, 36, 5)\n",
      "2021-03-03 02:29:32,789 INFO (4, 2, 36, 5)\n"
     ]
    },
    {
     "name": "stdout",
     "output_type": "stream",
     "text": [
      "\n",
      "Epoch 00096: loss improved from 0.21784 to 0.20695, saving model to exp/cv_baseline_finalconv5/8_64_64__8_3_3_tenc64_conv1_MSE_NOnorm_augshiftscalerotbrigthness_taug3_3_batch8_f3/2021-03-03_01_29/model/model.h5\n",
      "26/26 [==============================] - 36s 1s/step - loss: 0.2069 - mse_wrapper: 0.2069 - ca_wrapper: 0.8678 - meandiff: 1.4567 - val_loss: 0.6462 - val_mse_wrapper: 0.6462 - val_ca_wrapper: 0.7990 - val_meandiff: 4.2344 - lr: 7.0000e-05\n",
      "Epoch 97/100\n",
      "26/26 [==============================] - ETA: 0s - loss: 0.2052 - mse_wrapper: 0.2052 - ca_wrapper: 0.8627 - meandiff: 1.4712\n",
      "Epoch 00097: loss improved from 0.20695 to 0.20517, saving model to exp/cv_baseline_finalconv5/8_64_64__8_3_3_tenc64_conv1_MSE_NOnorm_augshiftscalerotbrigthness_taug3_3_batch8_f3/2021-03-03_01_29/model/model.h5\n",
      "26/26 [==============================] - 34s 1s/step - loss: 0.2052 - mse_wrapper: 0.2052 - ca_wrapper: 0.8627 - meandiff: 1.4712 - val_loss: 0.7682 - val_mse_wrapper: 0.7682 - val_ca_wrapper: 0.8121 - val_meandiff: 4.0156 - lr: 7.0000e-05\n",
      "Epoch 98/100\n",
      "26/26 [==============================] - ETA: 0s - loss: 0.2177 - mse_wrapper: 0.2177 - ca_wrapper: 0.8650 - meandiff: 1.6298"
     ]
    },
    {
     "name": "stderr",
     "output_type": "stream",
     "text": [
      "2021-03-03 02:30:45,641 INFO (4, 2, 36, 5)\n",
      "2021-03-03 02:30:46,204 INFO (4, 2, 36, 5)\n"
     ]
    },
    {
     "name": "stdout",
     "output_type": "stream",
     "text": [
      "\n",
      "Epoch 00098: loss did not improve from 0.20517\n",
      "26/26 [==============================] - 36s 1s/step - loss: 0.2177 - mse_wrapper: 0.2177 - ca_wrapper: 0.8650 - meandiff: 1.6298 - val_loss: 1.0638 - val_mse_wrapper: 1.0638 - val_ca_wrapper: 0.7530 - val_meandiff: 4.0000 - lr: 7.0000e-05\n",
      "Epoch 99/100\n",
      "26/26 [==============================] - ETA: 0s - loss: 0.2107 - mse_wrapper: 0.2107 - ca_wrapper: 0.8628 - meandiff: 1.4038\n",
      "Epoch 00099: loss did not improve from 0.20517\n",
      "26/26 [==============================] - 34s 1s/step - loss: 0.2107 - mse_wrapper: 0.2107 - ca_wrapper: 0.8628 - meandiff: 1.4038 - val_loss: 0.7109 - val_mse_wrapper: 0.7109 - val_ca_wrapper: 0.8090 - val_meandiff: 4.0625 - lr: 7.0000e-05\n",
      "Epoch 100/100\n",
      "26/26 [==============================] - ETA: 0s - loss: 0.2083 - mse_wrapper: 0.2083 - ca_wrapper: 0.8657 - meandiff: 1.5529"
     ]
    },
    {
     "name": "stderr",
     "output_type": "stream",
     "text": [
      "2021-03-03 02:31:59,243 INFO (4, 2, 36, 5)\n",
      "2021-03-03 02:31:59,778 INFO (4, 2, 36, 5)\n"
     ]
    },
    {
     "name": "stdout",
     "output_type": "stream",
     "text": [
      "\n",
      "Epoch 00100: loss did not improve from 0.20517\n",
      "26/26 [==============================] - 35s 1s/step - loss: 0.2083 - mse_wrapper: 0.2083 - ca_wrapper: 0.8657 - meandiff: 1.5529 - val_loss: 0.8220 - val_mse_wrapper: 0.8220 - val_ca_wrapper: 0.8051 - val_meandiff: 4.1875 - lr: 7.0000e-05\n"
     ]
    },
    {
     "name": "stderr",
     "output_type": "stream",
     "text": [
      "2021-03-03 02:32:02,956 INFO Fold 3 finished after 3734.892 sec\n"
     ]
    },
    {
     "data": {
      "text/plain": [
       "True"
      ]
     },
     "execution_count": 2,
     "metadata": {},
     "output_type": "execute_result"
    }
   ],
   "source": [
    "from src.models.train_model import train_fold\n",
    "\n",
    "folds = [i for i in range(4)]\n",
    "\n",
    "for f in folds:\n",
    "    info('starting fold: {}'.format(f))\n",
    "    config_ = config.copy()\n",
    "    config_['FOLD'] = f\n",
    "    train_fold(config_)"
   ]
  },
  {
   "cell_type": "code",
   "execution_count": null,
   "metadata": {},
   "outputs": [],
   "source": []
  },
  {
   "cell_type": "code",
   "execution_count": null,
   "metadata": {},
   "outputs": [],
   "source": []
  }
 ],
 "metadata": {
  "kernelspec": {
   "display_name": "dcmr",
   "language": "python",
   "name": "dcmr"
  },
  "language_info": {
   "codemirror_mode": {
    "name": "ipython",
    "version": 3
   },
   "file_extension": ".py",
   "mimetype": "text/x-python",
   "name": "python",
   "nbconvert_exporter": "python",
   "pygments_lexer": "ipython3",
   "version": "3.8.5"
  },
  "widgets": {
   "application/vnd.jupyter.widget-state+json": {
    "state": {},
    "version_major": 2,
    "version_minor": 0
   }
  }
 },
 "nbformat": 4,
 "nbformat_minor": 4
}
